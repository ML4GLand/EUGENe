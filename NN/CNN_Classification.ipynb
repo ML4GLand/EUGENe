{
 "cells": [
  {
   "cell_type": "markdown",
   "id": "c8fab0a8-93f8-49b4-a95f-3b4e0efeced1",
   "metadata": {},
   "source": [
    "# Convolutional Neural Networks For Enhancer Activity Prediction\n",
    "Adam Klie\n",
    "09/23/2021\n",
    "\n",
    "Notebook to train preliminary Convolutional Neural Network (CNN) classifiers for predicting enhancer activity"
   ]
  },
  {
   "cell_type": "code",
   "execution_count": 1,
   "id": "150f32b8-50b6-40ad-bf7f-13d191df89f7",
   "metadata": {
    "execution": {
     "iopub.execute_input": "2021-10-07T17:00:20.577734Z",
     "iopub.status.busy": "2021-10-07T17:00:20.577456Z",
     "iopub.status.idle": "2021-10-07T17:00:56.793122Z",
     "shell.execute_reply": "2021-10-07T17:00:56.792389Z",
     "shell.execute_reply.started": "2021-10-07T17:00:20.577704Z"
    },
    "tags": []
   },
   "outputs": [],
   "source": [
    "# Classics\n",
    "import matplotlib.pyplot as plt\n",
    "import numpy as np\n",
    "import pandas as pd\n",
    "import seaborn as sns\n",
    "\n",
    "# Loading webpages\n",
    "from IPython.display import IFrame\n",
    "\n",
    "# Autoreload extension\n",
    "if 'autoreload' not in get_ipython().extension_manager.loaded:\n",
    "    %load_ext autoreload\n",
    "    \n",
    "%autoreload 2"
   ]
  },
  {
   "cell_type": "code",
   "execution_count": 2,
   "id": "3d20bc99-4f08-445a-8d61-71269630f061",
   "metadata": {
    "execution": {
     "iopub.execute_input": "2021-10-07T17:00:56.794561Z",
     "iopub.status.busy": "2021-10-07T17:00:56.794339Z",
     "iopub.status.idle": "2021-10-07T17:01:38.880755Z",
     "shell.execute_reply": "2021-10-07T17:01:38.879966Z",
     "shell.execute_reply.started": "2021-10-07T17:00:56.794533Z"
    },
    "tags": []
   },
   "outputs": [],
   "source": [
    "import sys\n",
    "sys.path.append('/cellar/users/aklie/projects/EUGENE/bin/')\n",
    "import project_utils"
   ]
  },
  {
   "cell_type": "code",
   "execution_count": 3,
   "id": "e763c01a-20f5-4146-a5a0-d8f8dd5c725f",
   "metadata": {
    "execution": {
     "iopub.execute_input": "2021-10-07T17:01:40.540575Z",
     "iopub.status.busy": "2021-10-07T17:01:40.540347Z",
     "iopub.status.idle": "2021-10-07T17:01:42.545257Z",
     "shell.execute_reply": "2021-10-07T17:01:42.544411Z",
     "shell.execute_reply.started": "2021-10-07T17:01:40.540546Z"
    },
    "tags": []
   },
   "outputs": [
    {
     "name": "stdout",
     "output_type": "stream",
     "text": [
      "Using a GPU? False\n"
     ]
    },
    {
     "name": "stderr",
     "output_type": "stream",
     "text": [
      "/cellar/users/aklie/opt/miniconda3/envs/ml_env/lib/python3.8/site-packages/torch/cuda/__init__.py:52: UserWarning: CUDA initialization: Found no NVIDIA driver on your system. Please check that you have an NVIDIA GPU and installed a driver from http://www.nvidia.com/Download/index.aspx (Triggered internally at  /pytorch/c10/cuda/CUDAFunctions.cpp:100.)\n",
      "  return torch._C._cuda_getDeviceCount() > 0\n"
     ]
    }
   ],
   "source": [
    "# Check for GPU\n",
    "import torch\n",
    "from torch.utils.data import TensorDataset, DataLoader\n",
    "\n",
    "print(\"Using a GPU? {}\".format(torch.cuda.is_available()))\n",
    "if torch.cuda.is_available():\n",
    "    print(\"Device number [0-7]: {}\".format(torch.cuda.current_device()))"
   ]
  },
  {
   "cell_type": "markdown",
   "id": "1c27c8ea-7fa8-4d1e-b493-0e1203777293",
   "metadata": {
    "tags": []
   },
   "source": [
    "# Define parameters of the notebook"
   ]
  },
  {
   "cell_type": "code",
   "execution_count": 4,
   "id": "d691714c-088c-43a1-a871-7c89c3b3faae",
   "metadata": {
    "execution": {
     "iopub.execute_input": "2021-10-07T17:01:42.546679Z",
     "iopub.status.busy": "2021-10-07T17:01:42.546447Z",
     "iopub.status.idle": "2021-10-07T17:01:44.470750Z",
     "shell.execute_reply": "2021-10-07T17:01:44.470080Z",
     "shell.execute_reply.started": "2021-10-07T17:01:42.546651Z"
    },
    "tags": []
   },
   "outputs": [],
   "source": [
    "DATASET = \"2021-OLS-Library\"  # Which dataset to look at\n",
    "FEATURES = \"ohe-seq\"  # What features to use to train the model\n",
    "PREPROCESS = \"0.18-0.4\"  # Preprocessing steps, separated by \"-\"\n",
    "TRAIN = False\n",
    "SUBSET = False\n",
    "HYPERPARAM = \"baseline_plus\"\n",
    "ARCHITECTURE = \"EUGENE2\""
   ]
  },
  {
   "cell_type": "markdown",
   "id": "bcfc42a4-ca37-4be1-85e1-3b1704ab138d",
   "metadata": {
    "tags": []
   },
   "source": [
    "# Load data"
   ]
  },
  {
   "cell_type": "code",
   "execution_count": 7,
   "id": "4fae9601-17e0-488f-870e-b141f88e5054",
   "metadata": {
    "execution": {
     "iopub.execute_input": "2021-10-07T17:02:30.151168Z",
     "iopub.status.busy": "2021-10-07T17:02:30.150879Z",
     "iopub.status.idle": "2021-10-07T17:02:33.523854Z",
     "shell.execute_reply": "2021-10-07T17:02:33.523047Z",
     "shell.execute_reply.started": "2021-10-07T17:02:30.151137Z"
    },
    "tags": []
   },
   "outputs": [
    {
     "data": {
      "text/plain": [
       "(array([[0., 1., 0., 0.],\n",
       "        [1., 0., 0., 0.],\n",
       "        [0., 0., 0., 1.],\n",
       "        [0., 1., 0., 0.]]),\n",
       " 1,\n",
       " (302936, 66, 4),\n",
       " (302936,))"
      ]
     },
     "execution_count": 7,
     "metadata": {},
     "output_type": "execute_result"
    }
   ],
   "source": [
    "X = np.load('../data/{0}/{1}/X_{2}_{3}.npy'.format(DATASET.replace(\"-\", \"_\"), FEATURES.replace(\"-\", \"_\"), FEATURES, PREPROCESS))\n",
    "y = np.loadtxt('../data/{0}/y_binary_{1}.txt'.format(DATASET.replace(\"-\", \"_\"), PREPROCESS), delimiter=' ', dtype=int)\n",
    "X[0, :4], y[0], X.shape, y.shape"
   ]
  },
  {
   "cell_type": "markdown",
   "id": "c11b1964-7ac1-4533-8768-4ee6ad2d1c0e",
   "metadata": {},
   "source": [
    "# Train and test a CNN classifier"
   ]
  },
  {
   "cell_type": "markdown",
   "id": "7dfb4586-7aaa-4760-a61a-cca422dafa20",
   "metadata": {
    "tags": []
   },
   "source": [
    "## **Train/test split**"
   ]
  },
  {
   "cell_type": "code",
   "execution_count": 8,
   "id": "bad6e245-a4bd-4f4c-bd65-5d4a70f49a37",
   "metadata": {
    "execution": {
     "iopub.execute_input": "2021-10-07T17:02:35.020952Z",
     "iopub.status.busy": "2021-10-07T17:02:35.020735Z",
     "iopub.status.idle": "2021-10-07T17:02:36.652954Z",
     "shell.execute_reply": "2021-10-07T17:02:36.652145Z",
     "shell.execute_reply.started": "2021-10-07T17:02:35.020924Z"
    },
    "tags": []
   },
   "outputs": [
    {
     "data": {
      "text/plain": [
       "((272642, 66, 4), (30294, 66, 4), (272642,), (30294,))"
      ]
     },
     "execution_count": 8,
     "metadata": {},
     "output_type": "execute_result"
    }
   ],
   "source": [
    "X_train, X_test, y_train, y_test = project_utils.split_train_test(X, y, split=0.9, subset=SUBSET)\n",
    "X_train.shape, X_test.shape, y_train.shape, y_test.shape"
   ]
  },
  {
   "cell_type": "code",
   "execution_count": 9,
   "id": "4e7688a5-a7df-44f8-b776-8904c0191345",
   "metadata": {
    "execution": {
     "iopub.execute_input": "2021-10-07T17:02:36.654427Z",
     "iopub.status.busy": "2021-10-07T17:02:36.654201Z",
     "iopub.status.idle": "2021-10-07T17:02:37.886083Z",
     "shell.execute_reply": "2021-10-07T17:02:37.885376Z",
     "shell.execute_reply.started": "2021-10-07T17:02:36.654399Z"
    },
    "tags": []
   },
   "outputs": [
    {
     "data": {
      "text/plain": [
       "(array([0.68878236, 0.31121764]), array([0.69115997, 0.30884003]))"
      ]
     },
     "execution_count": 9,
     "metadata": {},
     "output_type": "execute_result"
    }
   ],
   "source": [
    "np.unique(y_train, return_counts=True)[1]/len(y_train), np.unique(y_test, return_counts=True)[1]/len(y_test)"
   ]
  },
  {
   "cell_type": "code",
   "execution_count": 10,
   "id": "8987e71c-1ffc-4797-8e74-37615c3c4be7",
   "metadata": {
    "execution": {
     "iopub.execute_input": "2021-10-07T17:02:37.887745Z",
     "iopub.status.busy": "2021-10-07T17:02:37.887392Z",
     "iopub.status.idle": "2021-10-07T17:02:39.323781Z",
     "shell.execute_reply": "2021-10-07T17:02:39.323061Z",
     "shell.execute_reply.started": "2021-10-07T17:02:37.887701Z"
    },
    "tags": []
   },
   "outputs": [],
   "source": [
    "# need to fix this in the EDA\n",
    "X_train = np.transpose(X_train, axes=(0, 2, 1))\n",
    "X_test = np.transpose(X_test, axes=(0, 2, 1))"
   ]
  },
  {
   "cell_type": "markdown",
   "id": "fd02d4fc-dd2c-4970-a10c-6fa4704cbae1",
   "metadata": {
    "tags": []
   },
   "source": [
    "## **CNN training**"
   ]
  },
  {
   "cell_type": "markdown",
   "id": "6399be59-22ab-4608-8980-c31bae2a7510",
   "metadata": {
    "tags": []
   },
   "source": [
    "#### <u> **Initialize model** </u> "
   ]
  },
  {
   "cell_type": "code",
   "execution_count": 13,
   "id": "337c5a83-a073-447a-9a90-0410acd39906",
   "metadata": {
    "execution": {
     "iopub.execute_input": "2021-10-07T03:41:10.749414Z",
     "iopub.status.busy": "2021-10-07T03:41:10.749295Z",
     "iopub.status.idle": "2021-10-07T03:41:11.660503Z",
     "shell.execute_reply": "2021-10-07T03:41:11.660186Z",
     "shell.execute_reply.started": "2021-10-07T03:41:10.749400Z"
    },
    "tags": []
   },
   "outputs": [
    {
     "name": "stdout",
     "output_type": "stream",
     "text": [
      "Executing the model on : cuda\n"
     ]
    },
    {
     "data": {
      "text/plain": [
       "EUGENE(\n",
       "  (Conv1): Conv1d(4, 32, kernel_size=(8,), stride=(1,))\n",
       "  (Conv2): Conv1d(32, 32, kernel_size=(5,), stride=(1,))\n",
       "  (Batchnorm): BatchNorm1d(32, eps=1e-05, momentum=0.1, affine=True, track_running_stats=True)\n",
       "  (Maxpool): MaxPool1d(kernel_size=2, stride=1, padding=0, dilation=1, ceil_mode=False)\n",
       "  (Drop1): Dropout(p=0.5, inplace=False)\n",
       "  (Linear1): Linear(in_features=1728, out_features=1, bias=True)\n",
       ")"
      ]
     },
     "execution_count": 13,
     "metadata": {},
     "output_type": "execute_result"
    }
   ],
   "source": [
    "# Instantiate model and move to gpu if available\n",
    "from EUGENE_2 import EUGENE\n",
    "eugene = EUGENE()\n",
    "eugene.apply(project_utils.init_weights)\n",
    "device = torch.device('cuda' if torch.cuda.is_available() else 'cpu')\n",
    "print(\"Executing the model on :\", device)\n",
    "eugene.to(device)"
   ]
  },
  {
   "cell_type": "code",
   "execution_count": 14,
   "id": "27947d85-a29c-4365-afdb-d109a6534492",
   "metadata": {
    "execution": {
     "iopub.execute_input": "2021-10-07T03:41:11.661210Z",
     "iopub.status.busy": "2021-10-07T03:41:11.661102Z",
     "iopub.status.idle": "2021-10-07T03:41:12.419903Z",
     "shell.execute_reply": "2021-10-07T03:41:12.419236Z",
     "shell.execute_reply.started": "2021-10-07T03:41:11.661196Z"
    },
    "tags": []
   },
   "outputs": [
    {
     "name": "stdout",
     "output_type": "stream",
     "text": [
      "tensor([-0.4299,  0.4744,  1.4885, -0.0621, -0.5840], device='cuda:0',\n",
      "       grad_fn=<SqueezeBackward1>) tensor([0, 0, 1, 0, 0], device='cuda:0') 0.8\n"
     ]
    }
   ],
   "source": [
    "# Grab some seqs and outputs to test out on\n",
    "indexes = np.random.choice(len(X_train), size=5)\n",
    "random_seqs = torch.from_numpy(X_train[indexes, :, :]).float().to(device)\n",
    "outputs = eugene(random_seqs).squeeze(dim=1)\n",
    "random_labels = torch.from_numpy(y[indexes]).to(device)\n",
    "print(outputs, random_labels, project_utils.accuracy(outputs, random_labels)/len(outputs))"
   ]
  },
  {
   "cell_type": "markdown",
   "id": "52c440ee-49ad-4f94-9537-1fdbda7d1468",
   "metadata": {
    "tags": []
   },
   "source": [
    "#### <u> **Dataloading** </u> "
   ]
  },
  {
   "cell_type": "code",
   "execution_count": 15,
   "id": "c249436c-6f9f-4e06-b774-367e4aec5820",
   "metadata": {
    "ExecuteTime": {
     "end_time": "2021-05-20T16:11:24.609119Z",
     "start_time": "2021-05-20T16:11:24.590436Z"
    },
    "execution": {
     "iopub.execute_input": "2021-10-07T03:41:14.284473Z",
     "iopub.status.busy": "2021-10-07T03:41:14.284263Z",
     "iopub.status.idle": "2021-10-07T03:41:15.144730Z",
     "shell.execute_reply": "2021-10-07T03:41:15.144261Z",
     "shell.execute_reply.started": "2021-10-07T03:41:14.284447Z"
    },
    "tags": []
   },
   "outputs": [],
   "source": [
    "# Build Datasets objects from arrays\n",
    "train_dataset = TensorDataset(torch.from_numpy(X_train), torch.from_numpy(y_train))\n",
    "val_dataset = TensorDataset(torch.from_numpy(X_test), torch.from_numpy(y_test))"
   ]
  },
  {
   "cell_type": "code",
   "execution_count": 16,
   "id": "a9549a62-0c07-4b94-9c15-adc6445c85c1",
   "metadata": {
    "ExecuteTime": {
     "end_time": "2021-05-20T16:11:57.471895Z",
     "start_time": "2021-05-20T16:11:57.302899Z"
    },
    "execution": {
     "iopub.execute_input": "2021-10-07T03:41:15.832588Z",
     "iopub.status.busy": "2021-10-07T03:41:15.832471Z",
     "iopub.status.idle": "2021-10-07T03:41:16.633595Z",
     "shell.execute_reply": "2021-10-07T03:41:16.633132Z",
     "shell.execute_reply.started": "2021-10-07T03:41:15.832574Z"
    },
    "tags": []
   },
   "outputs": [],
   "source": [
    "# Build Loaders from the Datasets\n",
    "train_loader = DataLoader(train_dataset, batch_size=256)\n",
    "val_loader = DataLoader(val_dataset, batch_size=256)"
   ]
  },
  {
   "cell_type": "code",
   "execution_count": 17,
   "id": "1607a48e-d44a-4d8f-b87a-ab88da9fd17b",
   "metadata": {
    "ExecuteTime": {
     "end_time": "2021-05-20T16:11:58.556687Z",
     "start_time": "2021-05-20T16:11:58.534431Z"
    },
    "execution": {
     "iopub.execute_input": "2021-10-07T03:41:17.446161Z",
     "iopub.status.busy": "2021-10-07T03:41:17.446054Z",
     "iopub.status.idle": "2021-10-07T03:41:18.208120Z",
     "shell.execute_reply": "2021-10-07T03:41:18.207708Z",
     "shell.execute_reply.started": "2021-10-07T03:41:17.446149Z"
    },
    "tags": []
   },
   "outputs": [
    {
     "name": "stdout",
     "output_type": "stream",
     "text": [
      "Dimensions of training set: 272642 x torch.Size([4, 66])\n",
      "Dimensions of validation set: 30294 x torch.Size([4, 66])\n"
     ]
    }
   ],
   "source": [
    "# Check dims of loaders for correctness\n",
    "print(\"Dimensions of training set: {} x {}\".format(len(train_loader.dataset), train_loader.dataset[0][0].shape))\n",
    "print(\"Dimensions of validation set: {} x {}\".format(len(val_loader.dataset), val_loader.dataset[0][0].shape))"
   ]
  },
  {
   "cell_type": "markdown",
   "id": "87e9290d-3eb0-4ced-b9ac-9d79ed318241",
   "metadata": {
    "tags": []
   },
   "source": [
    "#### <u> **Training** </u> "
   ]
  },
  {
   "cell_type": "code",
   "execution_count": 18,
   "id": "36f327ca-f42b-4a82-8c78-706cae38c12d",
   "metadata": {
    "ExecuteTime": {
     "end_time": "2021-05-20T16:12:32.748989Z",
     "start_time": "2021-05-20T16:12:32.678969Z"
    },
    "execution": {
     "iopub.execute_input": "2021-10-07T03:41:19.020334Z",
     "iopub.status.busy": "2021-10-07T03:41:19.020224Z",
     "iopub.status.idle": "2021-10-07T03:41:19.805139Z",
     "shell.execute_reply": "2021-10-07T03:41:19.804737Z",
     "shell.execute_reply.started": "2021-10-07T03:41:19.020321Z"
    },
    "tags": []
   },
   "outputs": [],
   "source": [
    "from livelossplot import PlotLosses"
   ]
  },
  {
   "cell_type": "code",
   "execution_count": 19,
   "id": "c7768028-b24a-46af-a18a-f84d1b5dd99f",
   "metadata": {
    "ExecuteTime": {
     "end_time": "2021-05-20T16:12:33.644010Z",
     "start_time": "2021-05-20T16:12:33.615733Z"
    },
    "execution": {
     "iopub.execute_input": "2021-10-07T03:41:19.805985Z",
     "iopub.status.busy": "2021-10-07T03:41:19.805874Z",
     "iopub.status.idle": "2021-10-07T03:41:20.512980Z",
     "shell.execute_reply": "2021-10-07T03:41:20.512609Z",
     "shell.execute_reply.started": "2021-10-07T03:41:19.805971Z"
    },
    "tags": []
   },
   "outputs": [],
   "source": [
    "# Current livelossplot compatible training script\n",
    "def train_model(model, criterion, optimizer, num_epoch):\n",
    "    liveloss = PlotLosses()\n",
    "    loss_history, acc_history = {}, {}\n",
    "    for epoch in range(num_epoch):\n",
    "        logs = {}\n",
    "        for phase in ['validation', 'train']:\n",
    "            if phase == 'train':\n",
    "                if epoch < 150:\n",
    "                    model.train()\n",
    "                else:\n",
    "                    model.eval()\n",
    "            else:\n",
    "                model.eval()\n",
    "            \n",
    "            running_loss = 0.0\n",
    "            running_acc = 0.0\n",
    "            for inputs, targets in dataloaders[phase]:\n",
    "                inputs = inputs.to(device)\n",
    "                outputs = model(inputs.float())\n",
    "                targets = targets.unsqueeze(dim=1).to(device)\n",
    "                loss = criterion(outputs, targets.float())\n",
    "                if phase == 'train':\n",
    "                    if epoch < 150:\n",
    "                        optimizer.zero_grad()\n",
    "                        loss.backward()                \n",
    "                        optimizer.step()            \n",
    "                \n",
    "                running_loss += loss.item()\n",
    "                running_acc += project_utils.accuracy(outputs, targets)\n",
    "            \n",
    "            epoch_loss = running_loss / len(dataloaders[phase].dataset)\n",
    "            epoch_acc = running_acc / len(dataloaders[phase].dataset)\n",
    "                \n",
    "            prefix = ''\n",
    "            if phase == 'validation':\n",
    "                prefix = 'val_'\n",
    "\n",
    "            logs[prefix + 'loss'] = epoch_loss\n",
    "            logs[prefix + 'acc'] = epoch_acc\n",
    "            \n",
    "            loss_history.setdefault(phase, []).append(epoch_loss)\n",
    "            acc_history.setdefault(phase, []).append(epoch_acc)\n",
    "            \n",
    "        liveloss.update(logs)\n",
    "        liveloss.send()\n",
    "    return loss_history, acc_history, liveloss"
   ]
  },
  {
   "cell_type": "code",
   "execution_count": 20,
   "id": "2fd4b3c9-16f4-42b5-bde5-53353baf24bb",
   "metadata": {
    "execution": {
     "iopub.execute_input": "2021-10-07T03:41:23.830399Z",
     "iopub.status.busy": "2021-10-07T03:41:23.830259Z",
     "iopub.status.idle": "2021-10-07T03:48:22.107572Z",
     "shell.execute_reply": "2021-10-07T03:48:22.107144Z",
     "shell.execute_reply.started": "2021-10-07T03:41:23.830384Z"
    },
    "tags": []
   },
   "outputs": [
    {
     "data": {
      "image/png": "[encoded data removed]",
      "text/plain": [
       "<Figure size 864x576 with 2 Axes>"
      ]
     },
     "metadata": {
      "needs_background": "light"
     },
     "output_type": "display_data"
    },
    {
     "name": "stdout",
     "output_type": "stream",
     "text": [
      "Accuracy\n",
      "\tvalidation       \t (min:    0.455, max:    0.747, cur:    0.742)\n",
      "\ttraining         \t (min:    0.633, max:    0.764, cur:    0.764)\n",
      "Loss\n",
      "\tvalidation       \t (min:    0.624, max:    0.813, cur:    0.663)\n",
      "\ttraining         \t (min:    0.584, max:    0.809, cur:    0.584)\n"
     ]
    }
   ],
   "source": [
    "### Train the model\n",
    "dataloaders = {\"train\": train_loader, \"validation\": val_loader}\n",
    "optimizer = torch.optim.Adam(eugene.parameters(), lr=0.0001)\n",
    "criterion = torch.nn.BCEWithLogitsLoss(reduction='sum', pos_weight=torch.tensor(1.3))\n",
    "loss_history, acc_history, _ = train_model(eugene, criterion, optimizer, 50)"
   ]
  },
  {
   "cell_type": "markdown",
   "id": "caed6755-e403-4211-a5e7-332b15345abb",
   "metadata": {
    "tags": []
   },
   "source": [
    "#### <u> **Save final model** </u> "
   ]
  },
  {
   "cell_type": "code",
   "execution_count": 23,
   "id": "cecccf85-f8bd-408e-aecb-c9954a870d75",
   "metadata": {
    "execution": {
     "iopub.execute_input": "2021-10-07T03:50:31.284597Z",
     "iopub.status.busy": "2021-10-07T03:50:31.284337Z",
     "iopub.status.idle": "2021-10-07T03:50:32.066296Z",
     "shell.execute_reply": "2021-10-07T03:50:32.065827Z",
     "shell.execute_reply.started": "2021-10-07T03:50:31.284568Z"
    },
    "tags": []
   },
   "outputs": [],
   "source": [
    "torch.save(eugene.state_dict(), \"{}_{}_{}-clf_{}.pt\".format(PREPROCESS, FEATURES, ARCHITECTURE, HYPERPARAM))"
   ]
  },
  {
   "cell_type": "markdown",
   "id": "91febd92-a935-41d1-8f23-2e3f7de9b546",
   "metadata": {
    "execution": {
     "iopub.execute_input": "2021-07-26T03:43:46.264746Z",
     "iopub.status.busy": "2021-07-26T03:43:46.264474Z",
     "iopub.status.idle": "2021-07-26T03:43:47.055876Z",
     "shell.execute_reply": "2021-07-26T03:43:47.054281Z",
     "shell.execute_reply.started": "2021-07-26T03:43:46.264712Z"
    },
    "tags": []
   },
   "source": [
    "## **CNN testing**"
   ]
  },
  {
   "cell_type": "markdown",
   "id": "c8595900-f2d2-43f2-9fa1-e8c224f7a9d2",
   "metadata": {
    "tags": []
   },
   "source": [
    "### Load model"
   ]
  },
  {
   "cell_type": "code",
   "execution_count": 5,
   "id": "13782eda-70d0-4013-bd82-760c4ab0f513",
   "metadata": {
    "execution": {
     "iopub.execute_input": "2021-10-07T17:01:46.425855Z",
     "iopub.status.busy": "2021-10-07T17:01:46.425636Z",
     "iopub.status.idle": "2021-10-07T17:01:48.374527Z",
     "shell.execute_reply": "2021-10-07T17:01:48.373848Z",
     "shell.execute_reply.started": "2021-10-07T17:01:46.425827Z"
    },
    "tags": []
   },
   "outputs": [
    {
     "data": {
      "text/plain": [
       "EUGENE(\n",
       "  (Conv1): Conv1d(4, 32, kernel_size=(8,), stride=(1,))\n",
       "  (Conv2): Conv1d(32, 32, kernel_size=(5,), stride=(1,))\n",
       "  (Batchnorm): BatchNorm1d(32, eps=1e-05, momentum=0.1, affine=True, track_running_stats=True)\n",
       "  (Maxpool): MaxPool1d(kernel_size=2, stride=1, padding=0, dilation=1, ceil_mode=False)\n",
       "  (Drop1): Dropout(p=0.5, inplace=False)\n",
       "  (Linear1): Linear(in_features=1728, out_features=1, bias=True)\n",
       ")"
      ]
     },
     "execution_count": 5,
     "metadata": {},
     "output_type": "execute_result"
    }
   ],
   "source": [
    "from EUGENE_2 import EUGENE\n",
    "test_eugene = EUGENE()\n",
    "test_eugene.load_state_dict(torch.load(\"{}_{}_{}-clf_{}.pt\".format(PREPROCESS, FEATURES, ARCHITECTURE, HYPERPARAM), map_location=torch.device('cpu')))\n",
    "test_eugene.eval()"
   ]
  },
  {
   "cell_type": "code",
   "execution_count": 11,
   "id": "9dd038e9-5fbe-4e3f-825b-655223a8b591",
   "metadata": {
    "execution": {
     "iopub.execute_input": "2021-10-07T17:02:49.914203Z",
     "iopub.status.busy": "2021-10-07T17:02:49.913922Z",
     "iopub.status.idle": "2021-10-07T17:03:02.011523Z",
     "shell.execute_reply": "2021-10-07T17:03:02.010469Z",
     "shell.execute_reply.started": "2021-10-07T17:02:49.914174Z"
    },
    "tags": []
   },
   "outputs": [],
   "source": [
    "y_tr_outputs = test_eugene(torch.tensor(X_train).float()).detach()\n",
    "y_tr_probs = torch.sigmoid(y_tr_outputs).detach().numpy()\n",
    "y_tr_preds = np.round(y_tr_probs)"
   ]
  },
  {
   "cell_type": "code",
   "execution_count": 12,
   "id": "c4f11b83-b545-44ce-a0b9-d926f2dd62d0",
   "metadata": {
    "execution": {
     "iopub.execute_input": "2021-10-07T17:03:03.629990Z",
     "iopub.status.busy": "2021-10-07T17:03:03.629766Z",
     "iopub.status.idle": "2021-10-07T17:03:05.939116Z",
     "shell.execute_reply": "2021-10-07T17:03:05.938387Z",
     "shell.execute_reply.started": "2021-10-07T17:03:03.629962Z"
    },
    "tags": []
   },
   "outputs": [],
   "source": [
    "y_outputs = test_eugene(torch.tensor(X_test).float()).detach()\n",
    "y_probs = torch.sigmoid(y_outputs).detach().numpy()\n",
    "y_preds = np.round(y_probs)"
   ]
  },
  {
   "cell_type": "markdown",
   "id": "20590172-8424-4e59-a246-126b4bee5c3c",
   "metadata": {
    "tags": []
   },
   "source": [
    "### <u>**Confusion matrices** </u>"
   ]
  },
  {
   "cell_type": "code",
   "execution_count": 13,
   "id": "6d03d0a6-18ea-409e-a738-b6288e29b11a",
   "metadata": {
    "execution": {
     "iopub.execute_input": "2021-10-07T17:03:05.940668Z",
     "iopub.status.busy": "2021-10-07T17:03:05.940444Z",
     "iopub.status.idle": "2021-10-07T17:03:07.045026Z",
     "shell.execute_reply": "2021-10-07T17:03:07.044257Z",
     "shell.execute_reply.started": "2021-10-07T17:03:05.940640Z"
    },
    "tags": []
   },
   "outputs": [],
   "source": [
    "from sklearn.metrics import confusion_matrix"
   ]
  },
  {
   "cell_type": "code",
   "execution_count": 14,
   "id": "fbf298f7-38b8-496d-b75b-c822c56d0a81",
   "metadata": {
    "execution": {
     "iopub.execute_input": "2021-10-07T17:03:07.046255Z",
     "iopub.status.busy": "2021-10-07T17:03:07.046034Z",
     "iopub.status.idle": "2021-10-07T17:03:08.285793Z",
     "shell.execute_reply": "2021-10-07T17:03:08.284978Z",
     "shell.execute_reply.started": "2021-10-07T17:03:07.046227Z"
    },
    "tags": []
   },
   "outputs": [
    {
     "data": {
      "text/plain": [
       "((array([0., 1.], dtype=float32), array([240120,  32522])),\n",
       " (array([0., 1.], dtype=float32), array([26665,  3629])))"
      ]
     },
     "execution_count": 14,
     "metadata": {},
     "output_type": "execute_result"
    }
   ],
   "source": [
    "np.unique(y_tr_preds, return_counts=True), np.unique(y_preds, return_counts=True)"
   ]
  },
  {
   "cell_type": "code",
   "execution_count": 15,
   "id": "1d05f7a2-d998-48b7-89e4-86e85ec95f2c",
   "metadata": {
    "execution": {
     "iopub.execute_input": "2021-10-07T17:03:08.287026Z",
     "iopub.status.busy": "2021-10-07T17:03:08.286809Z",
     "iopub.status.idle": "2021-10-07T17:03:13.201251Z",
     "shell.execute_reply": "2021-10-07T17:03:13.200602Z",
     "shell.execute_reply.started": "2021-10-07T17:03:08.286999Z"
    },
    "tags": []
   },
   "outputs": [
    {
     "data": {
      "image/png": "[encoded data removed]",
      "text/plain": [
       "<Figure size 1152x576 with 4 Axes>"
      ]
     },
     "metadata": {
      "needs_background": "light"
     },
     "output_type": "display_data"
    }
   ],
   "source": [
    "fig, ax = plt.subplots(1,2,figsize=(16,8))\n",
    "\n",
    "rc = {'font.size': 20}\n",
    "with plt.rc_context(rc):\n",
    "    sns.heatmap(confusion_matrix(y_train, y_tr_preds), annot=True, fmt='d', cmap='viridis', ax=ax[0])\n",
    "    ax[0].set_xlabel('predicted')\n",
    "    ax[0].set_ylabel('true label')\n",
    "    ax[0].set_title('Train Set')\n",
    "\n",
    "    sns.heatmap(confusion_matrix(y_test, y_preds), annot=True, fmt='d', cmap='viridis', ax=ax[1])\n",
    "    ax[1].set_xlabel('predicted')\n",
    "    ax[1].set_ylabel('true label')\n",
    "    ax[1].set_title('Test Set')\n",
    "    \n",
    "    plt.tight_layout()"
   ]
  },
  {
   "cell_type": "markdown",
   "id": "2275d4f7-ef8b-43c5-b13b-f4c770e35e4e",
   "metadata": {
    "tags": []
   },
   "source": [
    "### <u> **Accuracies** </u>"
   ]
  },
  {
   "cell_type": "code",
   "execution_count": 16,
   "id": "8818c978-2b59-4e2c-8ef4-93a9bbcdaf2b",
   "metadata": {
    "execution": {
     "iopub.execute_input": "2021-10-07T17:03:31.034783Z",
     "iopub.status.busy": "2021-10-07T17:03:31.034499Z",
     "iopub.status.idle": "2021-10-07T17:03:32.311602Z",
     "shell.execute_reply": "2021-10-07T17:03:32.310843Z",
     "shell.execute_reply.started": "2021-10-07T17:03:31.034753Z"
    },
    "tags": []
   },
   "outputs": [],
   "source": [
    "from sklearn.metrics import accuracy_score"
   ]
  },
  {
   "cell_type": "code",
   "execution_count": 17,
   "id": "352b8ee0-389d-455a-8ed0-c9cdafb35434",
   "metadata": {
    "execution": {
     "iopub.execute_input": "2021-10-07T17:03:33.280337Z",
     "iopub.status.busy": "2021-10-07T17:03:33.280102Z",
     "iopub.status.idle": "2021-10-07T17:03:34.275652Z",
     "shell.execute_reply": "2021-10-07T17:03:34.274903Z",
     "shell.execute_reply.started": "2021-10-07T17:03:33.280296Z"
    },
    "tags": []
   },
   "outputs": [],
   "source": [
    "train_acc, test_acc = accuracy_score(y_true=y_train, y_pred=y_tr_preds), accuracy_score(y_true=y_test, y_pred=y_preds)"
   ]
  },
  {
   "cell_type": "code",
   "execution_count": 18,
   "id": "b85cc370-0a71-4079-8974-db506e897a3b",
   "metadata": {
    "execution": {
     "iopub.execute_input": "2021-10-07T17:03:34.277657Z",
     "iopub.status.busy": "2021-10-07T17:03:34.277297Z",
     "iopub.status.idle": "2021-10-07T17:03:35.683970Z",
     "shell.execute_reply": "2021-10-07T17:03:35.683239Z",
     "shell.execute_reply.started": "2021-10-07T17:03:34.277611Z"
    },
    "tags": []
   },
   "outputs": [
    {
     "name": "stdout",
     "output_type": "stream",
     "text": [
      "Train Acc\tTest Acc\n",
      "0.7435\t0.7435\n"
     ]
    }
   ],
   "source": [
    "print(\"Train Acc\", \"Test Acc\", sep='\\t')\n",
    "print(\"{:.4}\\t{:.4f}\".format(train_acc, test_acc))"
   ]
  },
  {
   "cell_type": "markdown",
   "id": "7131afb6-da62-4958-a03b-265da981e892",
   "metadata": {
    "tags": []
   },
   "source": [
    "### <u> **F-scores** </u>"
   ]
  },
  {
   "cell_type": "code",
   "execution_count": 19,
   "id": "26800b28-1607-42dc-bdeb-12584311af51",
   "metadata": {
    "execution": {
     "iopub.execute_input": "2021-10-07T17:03:35.685208Z",
     "iopub.status.busy": "2021-10-07T17:03:35.684974Z",
     "iopub.status.idle": "2021-10-07T17:03:37.229442Z",
     "shell.execute_reply": "2021-10-07T17:03:37.228523Z",
     "shell.execute_reply.started": "2021-10-07T17:03:35.685180Z"
    },
    "tags": []
   },
   "outputs": [
    {
     "data": {
      "text/html": [
       "\n",
       "        <iframe\n",
       "            width=\"800\"\n",
       "            height=\"400\"\n",
       "            src=\"https://en.wikipedia.org/wiki/F-score\"\n",
       "            frameborder=\"0\"\n",
       "            allowfullscreen\n",
       "        ></iframe>\n",
       "        "
      ],
      "text/plain": [
       "<IPython.lib.display.IFrame at 0x155487357e80>"
      ]
     },
     "execution_count": 19,
     "metadata": {},
     "output_type": "execute_result"
    }
   ],
   "source": [
    "IFrame('https://en.wikipedia.org/wiki/F-score', width=800, height=400)"
   ]
  },
  {
   "cell_type": "code",
   "execution_count": 20,
   "id": "b96eec35-be68-4af3-80e4-91857fa3df63",
   "metadata": {
    "execution": {
     "iopub.execute_input": "2021-10-07T17:03:37.230741Z",
     "iopub.status.busy": "2021-10-07T17:03:37.230497Z",
     "iopub.status.idle": "2021-10-07T17:03:38.635165Z",
     "shell.execute_reply": "2021-10-07T17:03:38.634127Z",
     "shell.execute_reply.started": "2021-10-07T17:03:37.230705Z"
    },
    "tags": []
   },
   "outputs": [],
   "source": [
    "from sklearn.metrics import precision_score, recall_score, f1_score"
   ]
  },
  {
   "cell_type": "code",
   "execution_count": 21,
   "id": "8157a170-cdcd-40d2-9d92-889e31326c07",
   "metadata": {
    "execution": {
     "iopub.execute_input": "2021-10-07T17:03:38.636587Z",
     "iopub.status.busy": "2021-10-07T17:03:38.636351Z",
     "iopub.status.idle": "2021-10-07T17:03:39.882756Z",
     "shell.execute_reply": "2021-10-07T17:03:39.881940Z",
     "shell.execute_reply.started": "2021-10-07T17:03:38.636559Z"
    },
    "tags": []
   },
   "outputs": [],
   "source": [
    "def fbeta_score(pr, rec, beta):\n",
    "    return (1+(beta**2))*((pr*rec)/(((beta**2)*pr)+rec))"
   ]
  },
  {
   "cell_type": "code",
   "execution_count": 22,
   "id": "2cc8dac0-7f55-468b-87f4-c017b0eb2ca7",
   "metadata": {
    "execution": {
     "iopub.execute_input": "2021-10-07T17:03:41.249045Z",
     "iopub.status.busy": "2021-10-07T17:03:41.248693Z",
     "iopub.status.idle": "2021-10-07T17:03:42.646770Z",
     "shell.execute_reply": "2021-10-07T17:03:42.646017Z",
     "shell.execute_reply.started": "2021-10-07T17:03:41.249001Z"
    },
    "tags": []
   },
   "outputs": [],
   "source": [
    "train_prec, test_prec = precision_score(y_true=y_train, y_pred=y_tr_preds), precision_score(y_true=y_test, y_pred=y_preds)"
   ]
  },
  {
   "cell_type": "code",
   "execution_count": 23,
   "id": "ec3a015a-7ddd-4878-b52e-8fb736e2fcd0",
   "metadata": {
    "execution": {
     "iopub.execute_input": "2021-10-07T17:03:42.648070Z",
     "iopub.status.busy": "2021-10-07T17:03:42.647841Z",
     "iopub.status.idle": "2021-10-07T17:03:43.853444Z",
     "shell.execute_reply": "2021-10-07T17:03:43.852714Z",
     "shell.execute_reply.started": "2021-10-07T17:03:42.648042Z"
    },
    "tags": []
   },
   "outputs": [],
   "source": [
    "train_recall, test_recall = recall_score(y_true=y_train, y_pred=y_tr_preds), recall_score(y_true=y_test, y_pred=y_preds)"
   ]
  },
  {
   "cell_type": "code",
   "execution_count": 24,
   "id": "0bfd5c18-e474-4cf8-b138-6d76a89876e3",
   "metadata": {
    "execution": {
     "iopub.execute_input": "2021-10-07T17:03:43.854756Z",
     "iopub.status.busy": "2021-10-07T17:03:43.854526Z",
     "iopub.status.idle": "2021-10-07T17:03:45.181963Z",
     "shell.execute_reply": "2021-10-07T17:03:45.181325Z",
     "shell.execute_reply.started": "2021-10-07T17:03:43.854728Z"
    },
    "tags": []
   },
   "outputs": [],
   "source": [
    "train_f1, test_f1 = f1_score(y_true=y_train, y_pred=y_tr_preds), f1_score(y_true=y_test, y_pred=y_preds)"
   ]
  },
  {
   "cell_type": "code",
   "execution_count": 25,
   "id": "ed417182-c0fb-40f3-b6d2-8f290cab2e80",
   "metadata": {
    "execution": {
     "iopub.execute_input": "2021-10-07T17:03:46.165365Z",
     "iopub.status.busy": "2021-10-07T17:03:46.165145Z",
     "iopub.status.idle": "2021-10-07T17:03:47.210802Z",
     "shell.execute_reply": "2021-10-07T17:03:47.210101Z",
     "shell.execute_reply.started": "2021-10-07T17:03:46.165338Z"
    },
    "tags": []
   },
   "outputs": [],
   "source": [
    "fbeta_tr_scores = []\n",
    "fbeta_scores = []\n",
    "for b in [0.1, 0.5, 1, 2, 10]:\n",
    "    fbeta_tr_scores.append(fbeta_score(train_prec, train_recall, b))\n",
    "    fbeta_scores.append(fbeta_score(test_prec, test_recall, b))"
   ]
  },
  {
   "cell_type": "code",
   "execution_count": 26,
   "id": "fd70138b-2927-4c21-8cb3-35ad9fc64e20",
   "metadata": {
    "execution": {
     "iopub.execute_input": "2021-10-07T17:03:47.212091Z",
     "iopub.status.busy": "2021-10-07T17:03:47.211865Z",
     "iopub.status.idle": "2021-10-07T17:03:48.464276Z",
     "shell.execute_reply": "2021-10-07T17:03:48.463549Z",
     "shell.execute_reply.started": "2021-10-07T17:03:47.212063Z"
    },
    "tags": []
   },
   "outputs": [
    {
     "name": "stdout",
     "output_type": "stream",
     "text": [
      "Metric\tTrain\tTest\n",
      "Precision\t0.7293\t0.7184\n",
      "Recall\t0.2795\t0.2786\n",
      "F0.1-Score\t0.7178\t0.7073\n",
      "F0.5-Score\t0.5517\t0.5460\n",
      "F1-Score\t0.4041\t0.4015\n",
      "F2-Score\t0.3188\t0.3175\n",
      "F10-Score\t0.2812\t0.2803\n"
     ]
    }
   ],
   "source": [
    "print(\"Metric\", \"Train\", \"Test\", sep='\\t')\n",
    "print(\"{:s}\\t{:.4f}\\t{:.4f}\".format(\"Precision\", train_prec, test_prec))\n",
    "print(\"{:s}\\t{:.4f}\\t{:.4f}\".format(\"Recall\", train_recall, test_recall))\n",
    "#print(\"{:s}\\t{:.4f}\\t{:.4f}\".format(\"F1-Score\", train_f1, test_f1))\n",
    "for i, b in enumerate([0.1, 0.5, 1, 2, 10]):\n",
    "    print(\"F{:s}-Score\\t{:.4f}\\t{:.4f}\".format(str(b), fbeta_tr_scores[i], fbeta_scores[i])) "
   ]
  },
  {
   "cell_type": "markdown",
   "id": "01f61c60-255a-4b3d-8e01-9b75448d47b3",
   "metadata": {
    "tags": []
   },
   "source": [
    "### <u> **Precision-recall** </u>"
   ]
  },
  {
   "cell_type": "code",
   "execution_count": 27,
   "id": "38330bb9-e01b-46c2-9bd6-3c7597a97194",
   "metadata": {
    "execution": {
     "iopub.execute_input": "2021-10-07T17:03:48.465987Z",
     "iopub.status.busy": "2021-10-07T17:03:48.465637Z",
     "iopub.status.idle": "2021-10-07T17:03:49.601103Z",
     "shell.execute_reply": "2021-10-07T17:03:49.600380Z",
     "shell.execute_reply.started": "2021-10-07T17:03:48.465943Z"
    },
    "tags": []
   },
   "outputs": [],
   "source": [
    "from sklearn.metrics import precision_recall_curve, average_precision_score"
   ]
  },
  {
   "cell_type": "code",
   "execution_count": 28,
   "id": "d8ea700d-2bc7-4b69-a5ef-05b53f3756ca",
   "metadata": {
    "execution": {
     "iopub.execute_input": "2021-10-07T17:03:49.602365Z",
     "iopub.status.busy": "2021-10-07T17:03:49.602124Z",
     "iopub.status.idle": "2021-10-07T17:03:50.873523Z",
     "shell.execute_reply": "2021-10-07T17:03:50.872813Z",
     "shell.execute_reply.started": "2021-10-07T17:03:49.602337Z"
    },
    "tags": []
   },
   "outputs": [],
   "source": [
    "precs_tr, recs_tr, threshs_tr = precision_recall_curve(y_true=y_train, probas_pred=y_tr_probs)\n",
    "avg_prec_tr = average_precision_score(y_true=y_train, y_score=y_tr_probs)"
   ]
  },
  {
   "cell_type": "code",
   "execution_count": 29,
   "id": "492fa0d8-5067-4f7e-bbcc-d21383d7b8cb",
   "metadata": {
    "execution": {
     "iopub.execute_input": "2021-10-07T17:03:50.874793Z",
     "iopub.status.busy": "2021-10-07T17:03:50.874558Z",
     "iopub.status.idle": "2021-10-07T17:03:51.895887Z",
     "shell.execute_reply": "2021-10-07T17:03:51.895194Z",
     "shell.execute_reply.started": "2021-10-07T17:03:50.874764Z"
    },
    "tags": []
   },
   "outputs": [],
   "source": [
    "precs, recs, threshs = precision_recall_curve(y_true=y_test, probas_pred=y_probs)\n",
    "avg_prec = average_precision_score(y_true=y_test, y_score=y_probs)"
   ]
  },
  {
   "cell_type": "code",
   "execution_count": 30,
   "id": "51780f55-6b16-43bc-80ae-39004bd61126",
   "metadata": {
    "execution": {
     "iopub.execute_input": "2021-10-07T17:03:51.897102Z",
     "iopub.status.busy": "2021-10-07T17:03:51.896880Z",
     "iopub.status.idle": "2021-10-07T17:03:53.091561Z",
     "shell.execute_reply": "2021-10-07T17:03:53.090864Z",
     "shell.execute_reply.started": "2021-10-07T17:03:51.897076Z"
    },
    "tags": []
   },
   "outputs": [
    {
     "data": {
      "text/plain": [
       "(0.6020137096160638, 0.5954887119867702)"
      ]
     },
     "execution_count": 30,
     "metadata": {},
     "output_type": "execute_result"
    }
   ],
   "source": [
    "avg_prec_tr, avg_prec"
   ]
  },
  {
   "cell_type": "code",
   "execution_count": 31,
   "id": "865cd891-3508-46f5-97bc-e76dbab40c6e",
   "metadata": {
    "execution": {
     "iopub.execute_input": "2021-10-07T17:03:53.092782Z",
     "iopub.status.busy": "2021-10-07T17:03:53.092558Z",
     "iopub.status.idle": "2021-10-07T17:03:55.265834Z",
     "shell.execute_reply": "2021-10-07T17:03:55.264985Z",
     "shell.execute_reply.started": "2021-10-07T17:03:53.092753Z"
    },
    "tags": []
   },
   "outputs": [
    {
     "data": {
      "image/png": "[encoded data removed]",
      "text/plain": [
       "<Figure size 576x576 with 1 Axes>"
      ]
     },
     "metadata": {
      "needs_background": "light"
     },
     "output_type": "display_data"
    }
   ],
   "source": [
    "fig, ax = plt.subplots(1,1, figsize=(8,8))\n",
    "ax.step(recs_tr, precs_tr, where='post', lw=3, alpha=0.4, label='Training auPRC = %0.4f' % (avg_prec_tr))\n",
    "ax.step(recs, precs, where='post', lw=3, alpha=0.4, label='Testing auPRC = %0.4f' % (avg_prec))\n",
    "ax.axhline(len(y_test[y_test==1])/len(y_test), linestyle='--', lw=3, color='k', label='No skill', alpha=.8)\n",
    "ax.set_xlim([-0.05, 1.05])\n",
    "ax.set_ylim([-0.05, 1.05])\n",
    "ax.set_xlabel('Recall', fontsize=18)\n",
    "ax.set_ylabel('Precision', fontsize=18)\n",
    "ax.set_title('Precision recall', fontsize=18)\n",
    "ax.legend(loc=\"lower right\", fontsize=16);"
   ]
  },
  {
   "cell_type": "markdown",
   "id": "69e283de-ccc5-45a8-8778-83addc5fd41d",
   "metadata": {
    "tags": []
   },
   "source": [
    "### <u> **Reciever operating characteristic** </u>"
   ]
  },
  {
   "cell_type": "code",
   "execution_count": 32,
   "id": "86a48fd2-8941-4a05-8e84-d14014f69cff",
   "metadata": {
    "execution": {
     "iopub.execute_input": "2021-10-07T17:03:56.545624Z",
     "iopub.status.busy": "2021-10-07T17:03:56.545405Z",
     "iopub.status.idle": "2021-10-07T17:03:57.850142Z",
     "shell.execute_reply": "2021-10-07T17:03:57.849382Z",
     "shell.execute_reply.started": "2021-10-07T17:03:56.545597Z"
    },
    "tags": []
   },
   "outputs": [],
   "source": [
    "from sklearn.metrics import roc_curve, auc"
   ]
  },
  {
   "cell_type": "code",
   "execution_count": 33,
   "id": "1970f5b9-b35c-4b25-ac20-f9058196d398",
   "metadata": {
    "execution": {
     "iopub.execute_input": "2021-10-07T17:03:57.851432Z",
     "iopub.status.busy": "2021-10-07T17:03:57.851188Z",
     "iopub.status.idle": "2021-10-07T17:03:59.203152Z",
     "shell.execute_reply": "2021-10-07T17:03:59.202352Z",
     "shell.execute_reply.started": "2021-10-07T17:03:57.851404Z"
    },
    "tags": []
   },
   "outputs": [],
   "source": [
    "fprs_tr, tprs_tr, threshs_tr = roc_curve(y_true=y_train, y_score=y_tr_probs)\n",
    "roc_auc_tr = auc(fprs_tr, tprs_tr)"
   ]
  },
  {
   "cell_type": "code",
   "execution_count": 34,
   "id": "dd5e9fdc-7ea6-4371-b305-0f7e0706b889",
   "metadata": {
    "execution": {
     "iopub.execute_input": "2021-10-07T17:03:59.208032Z",
     "iopub.status.busy": "2021-10-07T17:03:59.207807Z",
     "iopub.status.idle": "2021-10-07T17:04:00.495534Z",
     "shell.execute_reply": "2021-10-07T17:04:00.494887Z",
     "shell.execute_reply.started": "2021-10-07T17:03:59.208004Z"
    },
    "tags": []
   },
   "outputs": [],
   "source": [
    "fprs, tprs, threshs = roc_curve(y_true=y_test, y_score=y_probs)\n",
    "roc_auc = auc(fprs, tprs)"
   ]
  },
  {
   "cell_type": "code",
   "execution_count": 35,
   "id": "02c9574c-7641-4938-ab21-cf6c6738c820",
   "metadata": {
    "execution": {
     "iopub.execute_input": "2021-10-07T17:04:00.497187Z",
     "iopub.status.busy": "2021-10-07T17:04:00.496973Z",
     "iopub.status.idle": "2021-10-07T17:04:01.740908Z",
     "shell.execute_reply": "2021-10-07T17:04:01.740285Z",
     "shell.execute_reply.started": "2021-10-07T17:04:00.497161Z"
    },
    "tags": []
   },
   "outputs": [
    {
     "data": {
      "text/plain": [
       "(0.7411057786579832, 0.7408813112235798)"
      ]
     },
     "execution_count": 35,
     "metadata": {},
     "output_type": "execute_result"
    }
   ],
   "source": [
    "roc_auc_tr, roc_auc"
   ]
  },
  {
   "cell_type": "code",
   "execution_count": 36,
   "id": "ca6fa457-c0fa-4380-891c-e684c1c139f8",
   "metadata": {
    "execution": {
     "iopub.execute_input": "2021-10-07T17:04:03.083670Z",
     "iopub.status.busy": "2021-10-07T17:04:03.083438Z",
     "iopub.status.idle": "2021-10-07T17:04:05.449040Z",
     "shell.execute_reply": "2021-10-07T17:04:05.448164Z",
     "shell.execute_reply.started": "2021-10-07T17:04:03.083643Z"
    },
    "tags": []
   },
   "outputs": [
    {
     "data": {
      "image/png": "[encoded data removed]",
      "text/plain": [
       "<Figure size 864x576 with 1 Axes>"
      ]
     },
     "metadata": {
      "needs_background": "light"
     },
     "output_type": "display_data"
    }
   ],
   "source": [
    "fig, ax = plt.subplots(1, 1, figsize=(12,8))\n",
    "ax.plot(fprs_tr, tprs_tr, lw=3, alpha=0.4, label='Training (auROC = %0.4f)' % (roc_auc_tr))\n",
    "ax.plot(fprs, tprs, lw=3, alpha=0.4, label='Test (auROC= %0.4f)' % (roc_auc))\n",
    "ax.plot([0, 1], [0, 1], linestyle='--', lw=3, color='k', label='No skill', alpha=.8)\n",
    "ax.set_xlim([-0.05, 1.05])\n",
    "ax.set_ylim([-0.05, 1.05])\n",
    "ax.set_xlabel('False Positive Rate', fontsize=18)\n",
    "ax.set_ylabel('True Positive Rate', fontsize=18)\n",
    "ax.set_title('Receiver operating characteristic', fontsize=18)\n",
    "ax.legend(loc=\"lower right\", fontsize=16);"
   ]
  },
  {
   "cell_type": "markdown",
   "id": "f5cf9879-35ac-4304-a123-9e842487b70f",
   "metadata": {
    "tags": [],
    "toc-hr-collapsed": true
   },
   "source": [
    "# Scratch"
   ]
  },
  {
   "cell_type": "markdown",
   "id": "08827059-9c79-4c05-b354-90aa230c6e23",
   "metadata": {
    "tags": [],
    "toc-hr-collapsed": true
   },
   "source": [
    "## **Train/test split**"
   ]
  },
  {
   "cell_type": "code",
   "execution_count": 9,
   "id": "861f23a7-9d71-46ed-9b2e-a07cb889b4d5",
   "metadata": {
    "execution": {
     "iopub.execute_input": "2021-09-27T06:28:00.572948Z",
     "iopub.status.busy": "2021-09-27T06:28:00.572841Z",
     "iopub.status.idle": "2021-09-27T06:28:01.381982Z",
     "shell.execute_reply": "2021-09-27T06:28:01.381661Z",
     "shell.execute_reply.started": "2021-09-27T06:28:00.572935Z"
    },
    "tags": []
   },
   "outputs": [],
   "source": [
    "from sklearn.model_selection import train_test_split"
   ]
  },
  {
   "cell_type": "code",
   "execution_count": 10,
   "id": "380640b4-78ac-4209-a5a1-45d046e65c39",
   "metadata": {
    "execution": {
     "iopub.execute_input": "2021-09-27T06:28:01.382571Z",
     "iopub.status.busy": "2021-09-27T06:28:01.382459Z",
     "iopub.status.idle": "2021-09-27T06:28:01.980771Z",
     "shell.execute_reply": "2021-09-27T06:28:01.980384Z",
     "shell.execute_reply.started": "2021-09-27T06:28:01.382557Z"
    },
    "tags": []
   },
   "outputs": [],
   "source": [
    "split = 0.9"
   ]
  },
  {
   "cell_type": "code",
   "execution_count": 11,
   "id": "b49eb7ad-25d8-41fe-aa82-9431f71d9a5b",
   "metadata": {
    "execution": {
     "iopub.execute_input": "2021-09-27T06:28:01.981501Z",
     "iopub.status.busy": "2021-09-27T06:28:01.981321Z",
     "iopub.status.idle": "2021-09-27T06:28:03.177051Z",
     "shell.execute_reply": "2021-09-27T06:28:03.176543Z",
     "shell.execute_reply.started": "2021-09-27T06:28:01.981477Z"
    },
    "tags": []
   },
   "outputs": [],
   "source": [
    "X_train, X_test, y_train, y_test = train_test_split(X, y, train_size=split, random_state=13, shuffle=True)"
   ]
  },
  {
   "cell_type": "code",
   "execution_count": 12,
   "id": "d72d229c-4f4a-4f1b-a3c1-43db59956671",
   "metadata": {
    "execution": {
     "iopub.execute_input": "2021-09-27T06:28:03.177921Z",
     "iopub.status.busy": "2021-09-27T06:28:03.177808Z",
     "iopub.status.idle": "2021-09-27T06:28:03.987493Z",
     "shell.execute_reply": "2021-09-27T06:28:03.987093Z",
     "shell.execute_reply.started": "2021-09-27T06:28:03.177906Z"
    },
    "tags": []
   },
   "outputs": [
    {
     "data": {
      "text/plain": [
       "((272642, 66, 4), (30294, 66, 4), (272642,), (30294,))"
      ]
     },
     "execution_count": 12,
     "metadata": {},
     "output_type": "execute_result"
    }
   ],
   "source": [
    "X_train.shape, X_test.shape, y_train.shape, y_test.shape"
   ]
  },
  {
   "cell_type": "code",
   "execution_count": 13,
   "id": "5842f3ae-3d2a-4c1a-869c-aa24b4b443ce",
   "metadata": {
    "execution": {
     "iopub.execute_input": "2021-09-27T06:28:03.988136Z",
     "iopub.status.busy": "2021-09-27T06:28:03.988031Z",
     "iopub.status.idle": "2021-09-27T06:28:04.862145Z",
     "shell.execute_reply": "2021-09-27T06:28:04.861774Z",
     "shell.execute_reply.started": "2021-09-27T06:28:03.988122Z"
    },
    "tags": []
   },
   "outputs": [
    {
     "data": {
      "text/plain": [
       "(array([0.68878236, 0.31121764]), array([0.69115997, 0.30884003]))"
      ]
     },
     "execution_count": 13,
     "metadata": {},
     "output_type": "execute_result"
    }
   ],
   "source": [
    "np.unique(y_train, return_counts=True)[1]/len(y_train), np.unique(y_test, return_counts=True)[1]/len(y_test)"
   ]
  },
  {
   "cell_type": "code",
   "execution_count": 14,
   "id": "64bfab85-f8af-4000-82b1-08cfb4c03408",
   "metadata": {
    "execution": {
     "iopub.execute_input": "2021-09-27T06:28:04.862915Z",
     "iopub.status.busy": "2021-09-27T06:28:04.862688Z",
     "iopub.status.idle": "2021-09-27T06:28:05.513120Z",
     "shell.execute_reply": "2021-09-27T06:28:05.512839Z",
     "shell.execute_reply.started": "2021-09-27T06:28:04.862879Z"
    },
    "tags": []
   },
   "outputs": [
    {
     "data": {
      "text/plain": [
       "((272642, 66, 4), (30294, 66, 4), (272642,), (30294,))"
      ]
     },
     "execution_count": 14,
     "metadata": {},
     "output_type": "execute_result"
    }
   ],
   "source": [
    "test = False\n",
    "if test:\n",
    "    num_train = int(len(X_train)/1000)\n",
    "    num_test = int(len(X_test)/1000)\n",
    "    X_train, X_test, y_train, y_test = X_train[:num_train, :], X_test[:num_test, :], y_train[:num_train], y_test[:num_test]\n",
    "X_train.shape, X_test.shape, y_train.shape, y_test.shape"
   ]
  },
  {
   "cell_type": "markdown",
   "id": "9a0ba56f-2573-43bf-a44d-9e67e12ff1f2",
   "metadata": {
    "tags": [],
    "toc-hr-collapsed": true
   },
   "source": [
    "## Model"
   ]
  },
  {
   "cell_type": "code",
   "execution_count": 16,
   "id": "dc170cc5-e236-4883-9b79-a23a242e5c96",
   "metadata": {
    "execution": {
     "iopub.execute_input": "2021-10-06T17:39:06.575137Z",
     "iopub.status.busy": "2021-10-06T17:39:06.574812Z",
     "iopub.status.idle": "2021-10-06T17:39:07.519753Z",
     "shell.execute_reply": "2021-10-06T17:39:07.519120Z",
     "shell.execute_reply.started": "2021-10-06T17:39:06.575101Z"
    },
    "tags": []
   },
   "outputs": [],
   "source": [
    "import torch.nn as nn\n",
    "import torch.nn.functional as F\n",
    "import torch\n",
    "\n",
    "class EUGENE(nn.Module):\n",
    "    def __init__(self):\n",
    "        super(EUGENE, self).__init__()\n",
    "        self.Conv1 = nn.Conv1d(in_channels=4, out_channels=32, kernel_size=16)\n",
    "        self.Conv2 = nn.Conv1d(in_channels=32, out_channels=32, kernel_size=5)\n",
    "        self.Batchnorm = nn.BatchNorm1d(32)\n",
    "        self.Maxpool = nn.MaxPool1d(kernel_size=2, stride=1)\n",
    "        self.Drop1 = nn.Dropout(p=0.5)\n",
    "        self.Linear1 = nn.Linear(1472, 1)\n",
    "\n",
    "        \n",
    "    def forward(self, input):\n",
    "        x = self.Conv1(input)\n",
    "        x = self.Batchnorm(x)\n",
    "        x = F.relu(x)\n",
    "        x = self.Conv2(x)\n",
    "        x = self.Batchnorm(x)\n",
    "        x = F.relu(x)\n",
    "        x = self.Maxpool(x)\n",
    "        x = x.flatten(1)\n",
    "        x = self.Drop1(x)\n",
    "        x = self.Linear1(x)\n",
    "        return x"
   ]
  },
  {
   "cell_type": "markdown",
   "id": "87ea94a1-0eac-4e23-b86f-90fb2a6c18c4",
   "metadata": {
    "tags": [],
    "toc-hr-collapsed": true
   },
   "source": [
    "## Old dataload"
   ]
  },
  {
   "cell_type": "code",
   "execution_count": null,
   "id": "8c6852b4-54d4-45a7-972f-2966e0a30a5a",
   "metadata": {
    "execution": {
     "iopub.status.busy": "2021-10-06T17:34:13.261259Z",
     "iopub.status.idle": "2021-10-06T17:34:13.261705Z",
     "shell.execute_reply": "2021-10-06T17:34:13.261550Z"
    },
    "tags": []
   },
   "outputs": [],
   "source": [
    "X = np.load('../data/2021_OLS_Library/ohe_seq/X_ohe-seq_0.18-0.4.npy')\n",
    "y = np.loadtxt('../data/2021_OLS_Library/y_binary_0.18-0.4.txt', delimiter=' ', dtype=int)"
   ]
  },
  {
   "cell_type": "code",
   "execution_count": null,
   "id": "8ef16a99-05fe-46c9-94e1-345ec4cae8cd",
   "metadata": {
    "execution": {
     "iopub.status.busy": "2021-10-06T17:34:13.262685Z",
     "iopub.status.idle": "2021-10-06T17:34:13.262979Z",
     "shell.execute_reply": "2021-10-06T17:34:13.262836Z"
    },
    "tags": []
   },
   "outputs": [],
   "source": [
    "X.shape, y.shape"
   ]
  }
 ],
 "metadata": {
  "kernelspec": {
   "display_name": "Python3 ml_env",
   "language": "python",
   "name": "ml_env"
  },
  "language_info": {
   "codemirror_mode": {
    "name": "ipython",
    "version": 3
   },
   "file_extension": ".py",
   "mimetype": "text/x-python",
   "name": "python",
   "nbconvert_exporter": "python",
   "pygments_lexer": "ipython3",
   "version": "3.8.8"
  }
 },
 "nbformat": 4,
 "nbformat_minor": 5
}

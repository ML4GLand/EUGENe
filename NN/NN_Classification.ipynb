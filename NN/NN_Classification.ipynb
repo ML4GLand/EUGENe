{
 "cells": [
  {
   "cell_type": "markdown",
   "id": "c8fab0a8-93f8-49b4-a95f-3b4e0efeced1",
   "metadata": {},
   "source": [
    "# Neural Networks (NNs) For Enhancer Activity Prediction"
   ]
  },
  {
   "cell_type": "markdown",
   "id": "e8e4d721-9a9e-427c-893e-476fa5384e29",
   "metadata": {
    "execution": {
     "iopub.execute_input": "2022-01-26T17:02:56.542201Z",
     "iopub.status.busy": "2022-01-26T17:02:56.541999Z",
     "iopub.status.idle": "2022-01-26T17:02:57.534663Z",
     "shell.execute_reply": "2022-01-26T17:02:57.534047Z",
     "shell.execute_reply.started": "2022-01-26T17:02:56.542176Z"
    }
   },
   "source": [
    "**Authorship:**\n",
    "Adam Klie, *09/23/2021*\n",
    "***\n",
    "**Description:**\n",
    "Notebook to train Neural Network (NN) classifiers for predicting enhancer activity\n",
    " - Currently supports training both RNNs and CNNs on one-hot encoded sequence input.\n",
    " - For RNNs, bidirectional, unidirectional and bidirectional w/ reverse complement are available for training\n",
    "***\n",
    "**TODOs:**\n",
    " - <font color='red'> Increase patience on next run </font>\n",
    " - <font color='red'> Figure out how to add loss curves to report </font>\n",
    "***"
   ]
  },
  {
   "cell_type": "markdown",
   "id": "02939ecd-0828-42b2-9ead-7c109838c969",
   "metadata": {},
   "source": [
    "# Set-up"
   ]
  },
  {
   "cell_type": "code",
   "execution_count": 1,
   "id": "0585b82e-4e4c-414e-8ac6-5c85d3a391d9",
   "metadata": {
    "execution": {
     "iopub.execute_input": "2022-02-05T18:24:04.502953Z",
     "iopub.status.busy": "2022-02-05T18:24:04.502757Z",
     "iopub.status.idle": "2022-02-05T18:25:14.930845Z",
     "shell.execute_reply": "2022-02-05T18:25:14.930475Z",
     "shell.execute_reply.started": "2022-02-05T18:24:04.502903Z"
    },
    "tags": []
   },
   "outputs": [
    {
     "name": "stdout",
     "output_type": "stream",
     "text": [
      "Using a GPU? True\n",
      "Device number [0-7]: 0\n",
      "Running on 2 devices\n"
     ]
    }
   ],
   "source": [
    "# Classics\n",
    "import os\n",
    "import matplotlib.pyplot as plt\n",
    "import numpy as np\n",
    "import pandas as pd\n",
    "import seaborn as sns\n",
    "\n",
    "# Set random seeds\n",
    "np.random.seed(333)\n",
    "\n",
    "# Figure style\n",
    "plt.style.use('presentation')\n",
    "\n",
    "# Autoreload extension\n",
    "if 'autoreload' not in get_ipython().extension_manager.loaded:\n",
    "    %load_ext autoreload\n",
    "    \n",
    "%autoreload 2\n",
    "\n",
    "# Load local libraries\n",
    "import sys\n",
    "sys.path.append('/cellar/users/aklie/projects/EUGENE/bin/')\n",
    "sys.path.append('/cellar/users/aklie/projects/EUGENE/NN/')\n",
    "sys.path.append('/cellar/users/aklie/bin/make_it_train/')\n",
    "import project_utils\n",
    "from early_stop import EarlyStop\n",
    "\n",
    "# Deep learning time\n",
    "import torch\n",
    "from torch.utils.data import TensorDataset, DataLoader\n",
    "from livelossplot import PlotLosses\n",
    "from torchinfo import summary\n",
    "\n",
    "# Check for GPU\n",
    "print(\"Using a GPU? {}\".format(torch.cuda.is_available()))\n",
    "if torch.cuda.is_available():\n",
    "    print(\"Device number [0-7]: {}\".format(torch.cuda.current_device()))\n",
    "    print(\"Running on {} devices\".format(torch.cuda.device_count()))"
   ]
  },
  {
   "cell_type": "code",
   "execution_count": 2,
   "id": "c407db8f-4583-42de-9167-cd97a6abed1c",
   "metadata": {
    "execution": {
     "iopub.execute_input": "2022-02-05T18:25:24.093855Z",
     "iopub.status.busy": "2022-02-05T18:25:24.093688Z",
     "iopub.status.idle": "2022-02-05T18:25:25.196625Z",
     "shell.execute_reply": "2022-02-05T18:25:25.196154Z",
     "shell.execute_reply.started": "2022-02-05T18:25:24.093838Z"
    },
    "tags": []
   },
   "outputs": [],
   "source": [
    "# Data params\n",
    "DATASET = \"2021_OLS_Library\"  # Which dataset to look at\n",
    "FEATURES = \"ohe-seq\"  # What features to use to train the model\n",
    "LABELS = \"binary\"\n",
    "PREPROCESS = \"0.09-0.4\"  # Preprocessing steps, separated by \"-\"\n",
    "SPLIT = 0.9\n",
    "SUBSET = False"
   ]
  },
  {
   "cell_type": "code",
   "execution_count": 95,
   "id": "0df388e4-0fb1-4290-893e-1b3630f351a1",
   "metadata": {
    "execution": {
     "iopub.execute_input": "2022-02-05T19:12:01.874400Z",
     "iopub.status.busy": "2022-02-05T19:12:01.874232Z",
     "iopub.status.idle": "2022-02-05T19:12:02.616403Z",
     "shell.execute_reply": "2022-02-05T19:12:02.616026Z",
     "shell.execute_reply.started": "2022-02-05T19:12:01.874383Z"
    },
    "tags": []
   },
   "outputs": [],
   "source": [
    "# Architecture params\n",
    "HYPERPARAM = \"baseline\"\n",
    "ARCHITECTURE = \"dsLSTM\"\n",
    "MAX_EPOCHS = 100\n",
    "BATCH_SIZE=512\n",
    "TUNE = False\n",
    "EPOCHS_TRAINED = 0\n",
    "PATIENCE = 3\n",
    "RECURRENT = True\n",
    "BIDIRECTIONAL = True"
   ]
  },
  {
   "cell_type": "code",
   "execution_count": 96,
   "id": "ef4285c6-454e-41e2-abf5-2225cd22801c",
   "metadata": {
    "execution": {
     "iopub.execute_input": "2022-02-05T19:12:03.325340Z",
     "iopub.status.busy": "2022-02-05T19:12:03.325186Z",
     "iopub.status.idle": "2022-02-05T19:12:03.907386Z",
     "shell.execute_reply": "2022-02-05T19:12:03.907056Z",
     "shell.execute_reply.started": "2022-02-05T19:12:03.325324Z"
    },
    "tags": []
   },
   "outputs": [
    {
     "name": "stdout",
     "output_type": "stream",
     "text": [
      "Making directory 0.09-0.4_ohe-seq_baseline_bidsLSTM\n"
     ]
    }
   ],
   "source": [
    "# Out directory\n",
    "if BIDIRECTIONAL:\n",
    "    OUTDIR=\"{}_{}_{}_bi{}\".format(PREPROCESS, FEATURES, HYPERPARAM, ARCHITECTURE)\n",
    "else:\n",
    "    OUTDIR=\"{}_{}_{}_{}\".format(PREPROCESS, FEATURES, HYPERPARAM, ARCHITECTURE)\n",
    "if not os.path.exists(OUTDIR):\n",
    "    print(\"Making directory {}\".format(OUTDIR))\n",
    "    os.makedirs(OUTDIR)\n",
    "else:\n",
    "    print(\"Directory already exists\")"
   ]
  },
  {
   "cell_type": "markdown",
   "id": "bcfc42a4-ca37-4be1-85e1-3b1704ab138d",
   "metadata": {
    "tags": []
   },
   "source": [
    "# Load train and validation data"
   ]
  },
  {
   "cell_type": "code",
   "execution_count": 97,
   "id": "934117c5-8ac1-4f12-8321-7ce600269af3",
   "metadata": {
    "execution": {
     "iopub.execute_input": "2022-02-05T19:12:06.827792Z",
     "iopub.status.busy": "2022-02-05T19:12:06.827631Z",
     "iopub.status.idle": "2022-02-05T19:12:08.644874Z",
     "shell.execute_reply": "2022-02-05T19:12:08.643848Z",
     "shell.execute_reply.started": "2022-02-05T19:12:06.827776Z"
    },
    "tags": []
   },
   "outputs": [
    {
     "name": "stdout",
     "output_type": "stream",
     "text": [
      "(177793, 66, 4) (177793,) (19755, 66, 4) (19755,)\n",
      "Training double stranded model, loading reverse seqs\n",
      "(177793, 66, 4) (19755, 66, 4)\n"
     ]
    }
   ],
   "source": [
    "# Load train and val\n",
    "X_train = np.load('../data/{0}/{1}/{2}_X-train-{3}_{4}.npy'.format(DATASET, FEATURES.replace(\"-\", \"_\"), PREPROCESS, SPLIT, FEATURES))\n",
    "y_train = np.loadtxt('../data/{0}/{1}/{2}_y-train-{3}_{1}.txt'.format(DATASET, LABELS, PREPROCESS, SPLIT), dtype=int)\n",
    "X_test = np.load('../data/{0}/{1}/{2}_X-test-{3}_{4}.npy'.format(DATASET, FEATURES.replace(\"-\", \"_\"), PREPROCESS, round(1-SPLIT, 1), FEATURES))\n",
    "y_test = np.loadtxt('../data/{0}/{1}/{2}_y-test-{3}_{1}.txt'.format(DATASET, LABELS, PREPROCESS, round(1-SPLIT, 1)), dtype=int)\n",
    "                                                                         \n",
    "# need to fix this in the EDA\n",
    "if not RECURRENT:\n",
    "    X_train = np.transpose(X_train, axes=(0, 2, 1))\n",
    "    X_test = np.transpose(X_test, axes=(0, 2, 1))\n",
    "print(X_train.shape, y_train.shape, X_test.shape, y_test.shape)\n",
    "\n",
    "if \"ds\" in ARCHITECTURE:\n",
    "    print(\"Training double stranded model, loading reverse seqs\")\n",
    "    X_train_rev = np.load('../data/{0}/{1}/{2}_X-train-{3}_{4}-rev.npy'.format(DATASET.replace(\"-\", \"_\"), FEATURES.replace(\"-\", \"_\"), PREPROCESS, SPLIT, FEATURES))\n",
    "    X_test_rev = np.load('../data/{0}/{1}/{2}_X-test-{3}_{4}-rev.npy'.format(DATASET.replace(\"-\", \"_\"), FEATURES.replace(\"-\", \"_\"), PREPROCESS, round(1-SPLIT, 1), FEATURES))\n",
    "    if not RECURRENT:\n",
    "        X_train_rev = np.transpose(X_train_rev, axes=(0, 2, 1))\n",
    "        X_test_rev = np.transpose(X_test_rev, axes=(0, 2, 1))        \n",
    "    print(X_train_rev.shape, X_test_rev.shape)"
   ]
  },
  {
   "cell_type": "markdown",
   "id": "c11b1964-7ac1-4533-8768-4ee6ad2d1c0e",
   "metadata": {},
   "source": [
    "# Train a NN classifier"
   ]
  },
  {
   "cell_type": "markdown",
   "id": "7fa42aa4-4dfc-409d-ac7f-332af40c3705",
   "metadata": {},
   "source": [
    "#### <u> **Choose the model architecture** </u> "
   ]
  },
  {
   "cell_type": "code",
   "execution_count": 98,
   "id": "3c2c544f-d549-4bd5-8b7b-a633ca0bbaa5",
   "metadata": {
    "execution": {
     "iopub.execute_input": "2022-02-05T19:12:10.356995Z",
     "iopub.status.busy": "2022-02-05T19:12:10.356756Z",
     "iopub.status.idle": "2022-02-05T19:12:10.999176Z",
     "shell.execute_reply": "2022-02-05T19:12:10.998821Z",
     "shell.execute_reply.started": "2022-02-05T19:12:10.356967Z"
    },
    "tags": []
   },
   "outputs": [
    {
     "name": "stdout",
     "output_type": "stream",
     "text": [
      "Loading a double stranded, bidirectional LSTM model\n",
      "Executing the model on: cuda\n"
     ]
    }
   ],
   "source": [
    "if ARCHITECTURE == \"ssLSTM\":\n",
    "    from models import ssLSTM\n",
    "    if BIDIRECTIONAL:\n",
    "        print(\"Loading a single stranded, bidirectional LSTM model\")\n",
    "        eugene = ssLSTM(bidirectional=True, hidden_size=64, num_layers=3)\n",
    "    else:\n",
    "        print(\"Loading a single stranded, unidirectional LSTM model\")\n",
    "        eugene = ssLSTM(bidirectional=False, hidden_size=64, num_layers=3)\n",
    "elif ARCHITECTURE == \"dsLSTM\":\n",
    "    from models import dsLSTM\n",
    "    if BIDIRECTIONAL:\n",
    "        print(\"Loading a double stranded, bidirectional LSTM model\")\n",
    "        eugene = dsLSTM(bidirectional=True, hidden_size=64, num_layers=3)\n",
    "    else:\n",
    "        print(\"Loading a double stranded, unidirectional LSTM model\")\n",
    "        eugene = dsLSTM(bidirectional=False, hidden_size=64, num_layers=3)\n",
    "\n",
    "        \n",
    "elif ARCHITECTURE == \"EUGENE\":\n",
    "    print(\"Loading a EUGENE CNN model\")\n",
    "    from models import EUGENE\n",
    "    eugene = EUGENE()\n",
    "elif ARCHITECTURE == \"DeepSea\":\n",
    "    print(\"Loading a DeepSea CNN model\")\n",
    "    from models import DeepSea\n",
    "    eugene = DeepSea()\n",
    "else:\n",
    "    print(\"{} is not a currently supported model architecture\".format(ARCHITECTURE))\n",
    "    \n",
    "device = torch.device('cuda' if torch.cuda.is_available() else 'cpu')\n",
    "print(\"Executing the model on:\", device)"
   ]
  },
  {
   "cell_type": "markdown",
   "id": "6399be59-22ab-4608-8980-c31bae2a7510",
   "metadata": {
    "tags": []
   },
   "source": [
    "#### <u> **Train a new model from scratch OR Tune a previously trained model** </u> "
   ]
  },
  {
   "cell_type": "code",
   "execution_count": 99,
   "id": "337c5a83-a073-447a-9a90-0410acd39906",
   "metadata": {
    "execution": {
     "iopub.execute_input": "2022-02-05T19:12:10.999911Z",
     "iopub.status.busy": "2022-02-05T19:12:10.999783Z",
     "iopub.status.idle": "2022-02-05T19:12:11.670364Z",
     "shell.execute_reply": "2022-02-05T19:12:11.669302Z",
     "shell.execute_reply.started": "2022-02-05T19:12:10.999896Z"
    },
    "tags": []
   },
   "outputs": [
    {
     "name": "stdout",
     "output_type": "stream",
     "text": [
      "Training a new model, initializing weights and tranferring to: cuda\n"
     ]
    }
   ],
   "source": [
    "# Instantiate model and move to gpu if available\n",
    "if TUNE == False:\n",
    "    print(\"Training a new model, initializing weights and tranferring to:\", device)\n",
    "    eugene.apply(project_utils.init_weights)\n",
    "    eugene.to(device)\n",
    "else:\n",
    "    print(\"Tuning previous model at {}/{}_{}_{}_{}-clf_{}.pt\".format(OUTDIR, PREPROCESS, FEATURES, HYPERPARAM, EPOCHS_TRAINED, ARCHITECTURE),)\n",
    "    eugene.load_state_dict(torch.load(\"{}/{}_{}_{}_{}-clf_{}.pt\".format(OUTDIR, PREPROCESS, FEATURES, HYPERPARAM, EPOCHS_TRAINED, ARCHITECTURE), map_location=torch.device(device)))\n",
    "    eugene.to(device)"
   ]
  },
  {
   "cell_type": "markdown",
   "id": "c1f788c9-090b-412d-8fab-a3e2bd3fb0c7",
   "metadata": {},
   "source": [
    "#### <u> **Test the load** </u> "
   ]
  },
  {
   "cell_type": "code",
   "execution_count": 100,
   "id": "27947d85-a29c-4365-afdb-d109a6534492",
   "metadata": {
    "execution": {
     "iopub.execute_input": "2022-02-05T19:12:11.690315Z",
     "iopub.status.busy": "2022-02-05T19:12:11.690203Z",
     "iopub.status.idle": "2022-02-05T19:12:12.271556Z",
     "shell.execute_reply": "2022-02-05T19:12:12.271075Z",
     "shell.execute_reply.started": "2022-02-05T19:12:11.690301Z"
    },
    "tags": []
   },
   "outputs": [
    {
     "name": "stdout",
     "output_type": "stream",
     "text": [
      "tensor([0.0137, 0.0134, 0.0129, 0.0127, 0.0146], device='cuda:0',\n",
      "       grad_fn=<SqueezeBackward1>) tensor([0, 0, 0, 1, 0], device='cuda:0') 0.2\n",
      "==========================================================================================\n",
      "Layer (type:depth-idx)                   Output Shape              Param #\n",
      "==========================================================================================\n",
      "dsLSTM                                   --                        --\n",
      "├─LSTM: 1-1                              [512, 66, 128]            234,496\n",
      "├─LSTM: 1-2                              [512, 66, 128]            234,496\n",
      "├─Linear: 1-3                            [512, 1]                  257\n",
      "==========================================================================================\n",
      "Total params: 469,249\n",
      "Trainable params: 469,249\n",
      "Non-trainable params: 0\n",
      "Total mult-adds (G): 15.85\n",
      "==========================================================================================\n",
      "Input size (MB): 1.08\n",
      "Forward/backward pass size (MB): 69.21\n",
      "Params size (MB): 1.88\n",
      "Estimated Total Size (MB): 72.17\n",
      "==========================================================================================\n"
     ]
    }
   ],
   "source": [
    "# Grab some seqs and outputs to test out on\n",
    "indexes = np.random.choice(len(X_train), size=5)\n",
    "random_seqs = torch.from_numpy(X_train[indexes, :, :]).float().to(device)\n",
    "random_labels = torch.from_numpy(y_train[indexes]).to(device)\n",
    "if \"ds\" in ARCHITECTURE:\n",
    "    random_rev_seqs = torch.from_numpy(X_train_rev[indexes, :, :]).float().to(device)\n",
    "    outputs = eugene(random_seqs, random_rev_seqs).squeeze(dim=1)\n",
    "    print(outputs, random_labels, project_utils.accuracy(outputs, random_labels)/len(outputs))\n",
    "    print(summary(eugene, input_size=((BATCH_SIZE, 66, 4), (BATCH_SIZE, 66, 4))))\n",
    "else:\n",
    "    outputs = eugene(random_seqs).squeeze(dim=1)\n",
    "    print(outputs, random_labels, project_utils.accuracy(outputs, random_labels)/len(outputs))\n",
    "    if RECURRENT:\n",
    "        print(summary(eugene, input_size=(BATCH_SIZE, 66, 4)))\n",
    "    else:\n",
    "        print(summary(eugene, input_size=(BATCH_SIZE, 4, 66)))"
   ]
  },
  {
   "cell_type": "markdown",
   "id": "52c440ee-49ad-4f94-9537-1fdbda7d1468",
   "metadata": {
    "tags": []
   },
   "source": [
    "#### <u> **Dataloading** </u> "
   ]
  },
  {
   "cell_type": "code",
   "execution_count": 101,
   "id": "cfbdb6c4-8281-4b54-b24c-a649112e77a8",
   "metadata": {
    "execution": {
     "iopub.execute_input": "2022-02-05T19:12:16.953803Z",
     "iopub.status.busy": "2022-02-05T19:12:16.953657Z",
     "iopub.status.idle": "2022-02-05T19:12:17.820660Z",
     "shell.execute_reply": "2022-02-05T19:12:17.820171Z",
     "shell.execute_reply.started": "2022-02-05T19:12:16.953788Z"
    },
    "tags": []
   },
   "outputs": [],
   "source": [
    "# Build Datasets objects from arrays\n",
    "if \"ds\" in ARCHITECTURE:\n",
    "    train_dataset = TensorDataset(torch.from_numpy(np.stack([X_train, X_train_rev], axis=3)), torch.from_numpy(y_train))\n",
    "    val_dataset = TensorDataset(torch.from_numpy(np.stack([X_test, X_test_rev], axis=3)), torch.from_numpy(y_test))   \n",
    "else:\n",
    "    # Build Datasets objects from arrays\n",
    "    train_dataset = TensorDataset(torch.from_numpy(X_train), torch.from_numpy(y_train))\n",
    "    val_dataset = TensorDataset(torch.from_numpy(X_test), torch.from_numpy(y_test))"
   ]
  },
  {
   "cell_type": "code",
   "execution_count": 102,
   "id": "82ff59ae-a2b1-4799-b355-6d761eb902a7",
   "metadata": {
    "ExecuteTime": {
     "end_time": "2021-05-20T16:11:57.471895Z",
     "start_time": "2021-05-20T16:11:57.302899Z"
    },
    "execution": {
     "iopub.execute_input": "2022-02-05T19:12:18.498907Z",
     "iopub.status.busy": "2022-02-05T19:12:18.498776Z",
     "iopub.status.idle": "2022-02-05T19:12:19.110962Z",
     "shell.execute_reply": "2022-02-05T19:12:19.110533Z",
     "shell.execute_reply.started": "2022-02-05T19:12:18.498892Z"
    },
    "tags": []
   },
   "outputs": [],
   "source": [
    "# Build Loaders from the Datasets\n",
    "train_loader = DataLoader(train_dataset, batch_size=BATCH_SIZE, shuffle=False)\n",
    "val_loader = DataLoader(val_dataset, batch_size=BATCH_SIZE, shuffle=False)"
   ]
  },
  {
   "cell_type": "code",
   "execution_count": 103,
   "id": "1607a48e-d44a-4d8f-b87a-ab88da9fd17b",
   "metadata": {
    "ExecuteTime": {
     "end_time": "2021-05-20T16:11:58.556687Z",
     "start_time": "2021-05-20T16:11:58.534431Z"
    },
    "execution": {
     "iopub.execute_input": "2022-02-05T19:12:19.111750Z",
     "iopub.status.busy": "2022-02-05T19:12:19.111639Z",
     "iopub.status.idle": "2022-02-05T19:12:19.851525Z",
     "shell.execute_reply": "2022-02-05T19:12:19.851069Z",
     "shell.execute_reply.started": "2022-02-05T19:12:19.111737Z"
    },
    "tags": []
   },
   "outputs": [
    {
     "name": "stdout",
     "output_type": "stream",
     "text": [
      "Dimensions of training set: 177793 x torch.Size([66, 4, 2])\n",
      "Dimensions of validation set: 19755 x torch.Size([66, 4, 2])\n"
     ]
    }
   ],
   "source": [
    "# Check dims of loaders for correctness\n",
    "print(\"Dimensions of training set: {} x {}\".format(len(train_loader.dataset), train_loader.dataset[0][0].shape))\n",
    "print(\"Dimensions of validation set: {} x {}\".format(len(val_loader.dataset), val_loader.dataset[0][0].shape))"
   ]
  },
  {
   "cell_type": "markdown",
   "id": "87e9290d-3eb0-4ced-b9ac-9d79ed318241",
   "metadata": {
    "tags": []
   },
   "source": [
    "#### <u> **Training** </u> "
   ]
  },
  {
   "cell_type": "code",
   "execution_count": 104,
   "id": "2fd4b3c9-16f4-42b5-bde5-53353baf24bb",
   "metadata": {
    "execution": {
     "iopub.execute_input": "2022-02-05T19:12:21.315151Z",
     "iopub.status.busy": "2022-02-05T19:12:21.314930Z",
     "iopub.status.idle": "2022-02-05T19:17:47.047223Z",
     "shell.execute_reply": "2022-02-05T19:17:47.046766Z",
     "shell.execute_reply.started": "2022-02-05T19:12:21.315125Z"
    },
    "tags": []
   },
   "outputs": [
    {
     "data": {
      "image/png": "[encoded data removed]",
      "text/plain": [
       "<Figure size 864x576 with 2 Axes>"
      ]
     },
     "metadata": {
      "needs_background": "light"
     },
     "output_type": "display_data"
    },
    {
     "name": "stdout",
     "output_type": "stream",
     "text": [
      "Accuracy\n",
      "\ttraining         \t (min:    0.477, max:    0.741, cur:    0.741)\n",
      "\tvalidation       \t (min:    0.474, max:    0.730, cur:    0.728)\n",
      "Loss\n",
      "\ttraining         \t (min:    0.585, max:    0.792, cur:    0.585)\n",
      "\tvalidation       \t (min:    0.602, max:    0.791, cur:    0.603)\n",
      "Early stopping occured at epoch 19\n"
     ]
    }
   ],
   "source": [
    "### Train/tune the model\n",
    "dataloaders = {\"train\": train_loader, \"validation\": val_loader}\n",
    "optimizer = torch.optim.Adam(eugene.parameters(), lr=0.001)\n",
    "criterion = torch.nn.BCEWithLogitsLoss(reduction='sum', pos_weight=torch.tensor(1.3))\n",
    "top_model, stop_epoch, loss_history, acc_history, _ = project_utils.train_binary_classifier(model=eugene, \n",
    "                                                                                            double_stranded=\"ds\" in ARCHITECTURE,\n",
    "                                                                                            dataloaders=dataloaders, \n",
    "                                                                                            device=device,\n",
    "                                                                                            criterion=criterion, \n",
    "                                                                                            optimizer=optimizer, \n",
    "                                                                                            num_epoch=MAX_EPOCHS, \n",
    "                                                                                            early_stop=True, \n",
    "                                                                                            patience=PATIENCE,\n",
    "                                                                                            plot_frequency=5)"
   ]
  },
  {
   "cell_type": "markdown",
   "id": "dc731f55-40ba-4159-b195-af331ed01dea",
   "metadata": {
    "execution": {
     "iopub.execute_input": "2021-07-26T03:43:46.264746Z",
     "iopub.status.busy": "2021-07-26T03:43:46.264474Z",
     "iopub.status.idle": "2021-07-26T03:43:47.055876Z",
     "shell.execute_reply": "2021-07-26T03:43:47.054281Z",
     "shell.execute_reply.started": "2021-07-26T03:43:46.264712Z"
    },
    "tags": []
   },
   "source": [
    "# Validation Set Performance"
   ]
  },
  {
   "cell_type": "code",
   "execution_count": 105,
   "id": "310caecf-ca7b-416b-a1f2-30cef703af09",
   "metadata": {
    "execution": {
     "iopub.execute_input": "2022-02-05T19:19:36.822756Z",
     "iopub.status.busy": "2022-02-05T19:19:36.822577Z",
     "iopub.status.idle": "2022-02-05T19:19:37.847879Z",
     "shell.execute_reply": "2022-02-05T19:19:37.847531Z",
     "shell.execute_reply.started": "2022-02-05T19:19:36.822739Z"
    },
    "tags": []
   },
   "outputs": [],
   "source": [
    "prob_thresh = 0.5"
   ]
  },
  {
   "cell_type": "code",
   "execution_count": 106,
   "id": "6e6cfa31-2de3-417c-b16c-e815e57629d0",
   "metadata": {
    "execution": {
     "iopub.execute_input": "2022-02-05T19:19:37.848637Z",
     "iopub.status.busy": "2022-02-05T19:19:37.848508Z",
     "iopub.status.idle": "2022-02-05T19:19:45.320475Z",
     "shell.execute_reply": "2022-02-05T19:19:45.320125Z",
     "shell.execute_reply.started": "2022-02-05T19:19:37.848622Z"
    },
    "tags": []
   },
   "outputs": [
    {
     "name": "stderr",
     "output_type": "stream",
     "text": [
      "/cellar/users/aklie/opt/miniconda3/envs/ml_env/lib/python3.8/site-packages/torch/nn/modules/rnn.py:581: UserWarning: RNN module weights are not part of single contiguous chunk of memory. This means they need to be compacted at every call, possibly greatly increasing memory usage. To compact weights again call flatten_parameters(). (Triggered internally at  /opt/conda/conda-bld/pytorch_1603729009598/work/aten/src/ATen/native/cudnn/RNN.cpp:775.)\n",
      "  result = _VF.lstm(input, hx, self._flat_weights, self.bias, self.num_layers,\n"
     ]
    }
   ],
   "source": [
    "# Get the best model results\n",
    "top_model.eval()\n",
    "y_outputs = {'train': torch.empty(size=(len(X_train), 1)), 'validation': torch.empty(size=(len(X_test), 1))}\n",
    "y_targets = {}\n",
    "for phase in ['train', 'validation']:\n",
    "    len_set = len(dataloaders[phase].dataset)\n",
    "    for batch, (inputs, _) in enumerate(dataloaders[phase]):\n",
    "        inputs = inputs.to(device)\n",
    "        if \"ds\" in ARCHITECTURE:\n",
    "            input_forward = inputs[:, :, :, 0].to(device)\n",
    "            input_reverse = inputs[:, :, :, 1].to(device)\n",
    "            outputs = top_model(input_forward.float(), input_reverse.float()).detach()\n",
    "        else:\n",
    "            inputs = inputs.to(device)\n",
    "            outputs = top_model(inputs.float()).detach()\n",
    "        if BATCH_SIZE*(batch+1) < len_set:\n",
    "            y_outputs[phase][BATCH_SIZE*batch:BATCH_SIZE*(batch+1)] = outputs\n",
    "        else:\n",
    "            y_outputs[phase][BATCH_SIZE*batch:len_set] = outputs\n",
    "\n",
    "y_tr_outs = y_outputs[\"train\"]\n",
    "y_tr_probs = torch.sigmoid(y_tr_outs).detach().numpy()\n",
    "y_tr_preds = (y_tr_probs >= prob_thresh).astype(int)\n",
    "y_outs = y_outputs[\"validation\"]\n",
    "y_probs = torch.sigmoid(y_outs).detach().numpy()\n",
    "y_preds = (y_probs >= prob_thresh).astype(int)"
   ]
  },
  {
   "cell_type": "code",
   "execution_count": 107,
   "id": "4a9a18a8-9324-45df-a65a-08b359ea0b69",
   "metadata": {
    "execution": {
     "iopub.execute_input": "2022-02-05T19:19:45.321270Z",
     "iopub.status.busy": "2022-02-05T19:19:45.321162Z",
     "iopub.status.idle": "2022-02-05T19:19:49.224609Z",
     "shell.execute_reply": "2022-02-05T19:19:49.224157Z",
     "shell.execute_reply.started": "2022-02-05T19:19:45.321256Z"
    },
    "tags": []
   },
   "outputs": [
    {
     "name": "stdout",
     "output_type": "stream",
     "text": [
      "Predictions provided, skipping them\n",
      "Generating confusion matrix\n",
      "Calculating classification metrics\n",
      "Metric\tTrain\tTest\n",
      "Accuracy\t0.7425\t0.7293\n",
      "Precision\t0.7301\t0.7143\n",
      "Recall\t0.7305\t0.7144\n",
      "F0.1-Score\t0.7301\t0.7143\n",
      "F0.5-Score\t0.7301\t0.7144\n",
      "F1-Score\t0.7303\t0.7144\n",
      "F2-Score\t0.7304\t0.7144\n",
      "F10-Score\t0.7305\t0.7144\n",
      "Plotting PR Curve\n",
      "Plotting ROC Curve\n",
      "Generating report\n"
     ]
    }
   ],
   "source": [
    "# Generate a report\n",
    "if TUNE:\n",
    "    iters = EPOCHS_TRAINED + stop_epoch - PATIENCE\n",
    "else:\n",
    "    iters = stop_epoch - PATIENCE\n",
    "project_utils.classification_report(out_path=\"{}\".format(OUTDIR),\n",
    "                                    train_X=X_train, test_X=X_test, \n",
    "                                    train_y=y_train, test_y=y_test,\n",
    "                                    train_preds=y_tr_preds, test_preds=y_preds,\n",
    "                                    train_probs=y_tr_probs, test_probs=y_probs,\n",
    "                                    iters_trained=iters)"
   ]
  },
  {
   "cell_type": "markdown",
   "id": "4e417975-1721-4a73-8a03-fed782d99d6e",
   "metadata": {},
   "source": [
    "# Save the classifier"
   ]
  },
  {
   "cell_type": "code",
   "execution_count": 108,
   "id": "cecccf85-f8bd-408e-aecb-c9954a870d75",
   "metadata": {
    "execution": {
     "iopub.execute_input": "2022-02-05T19:19:49.225410Z",
     "iopub.status.busy": "2022-02-05T19:19:49.225299Z",
     "iopub.status.idle": "2022-02-05T19:19:50.340776Z",
     "shell.execute_reply": "2022-02-05T19:19:50.340418Z",
     "shell.execute_reply.started": "2022-02-05T19:19:49.225395Z"
    },
    "tags": []
   },
   "outputs": [],
   "source": [
    "torch.save(top_model.state_dict(), \"{}/{}_{}_{}_{}-clf_{}.pt\".format(OUTDIR, PREPROCESS, FEATURES, HYPERPARAM, iters, ARCHITECTURE))\n",
    "\n",
    "with open(\"{}/{}_{}_{}_{}-clf_{}.hyperparams.txt\".format(OUTDIR, PREPROCESS, FEATURES, HYPERPARAM, iters, ARCHITECTURE), \"w\") as f:\n",
    "    if \"ds\" in ARCHITECTURE:\n",
    "        f.write(str(summary(eugene, input_size=((BATCH_SIZE, 66, 4), (BATCH_SIZE, 66, 4)))))\n",
    "    else:\n",
    "        if RECURRENT:\n",
    "            f.write(str(summary(top_model, input_size=(BATCH_SIZE, 66, 4))) + \"\\n\")\n",
    "        else:\n",
    "            f.write(str(summary(top_model, input_size=(BATCH_SIZE, 4, 66))) + \"\\n\")      \n",
    "    f.write(\"Loss function: {}\".format(criterion.__str__()) + \"\\n\")\n",
    "    f.write(\"Positive weight: {}\".format(criterion.pos_weight) + \"\\n\")\n",
    "    f.write(\"Optimizer params: {}\".format(optimizer.defaults.__str__()))"
   ]
  },
  {
   "cell_type": "markdown",
   "id": "ebd6df91-b70b-4660-b88d-b68385cbae5f",
   "metadata": {},
   "source": [
    "# References"
   ]
  },
  {
   "cell_type": "markdown",
   "id": "55d58d17-b281-48f6-a120-66c75b500ea1",
   "metadata": {},
   "source": [
    "1. Ref 1\n",
    "2. Ref 1"
   ]
  },
  {
   "cell_type": "markdown",
   "id": "11a2e866-809b-454b-9328-c6427d9631df",
   "metadata": {
    "tags": [],
    "toc-hr-collapsed": true
   },
   "source": [
    "# Scratch"
   ]
  },
  {
   "cell_type": "code",
   "execution_count": null,
   "id": "0eed5d66-2313-4ba3-8458-fb3c61c8884b",
   "metadata": {},
   "outputs": [],
   "source": [
    "# Current livelossplot compatible training script\n",
    "def train_model(model, criterion, optimizer, num_epoch, early_stop=False, patience=3):\n",
    "    liveloss = PlotLosses()\n",
    "    loss_history, acc_history = {}, {}\n",
    "    if early_stop:\n",
    "        print(\"Using early stopping with a patience of {}\".format(patience))\n",
    "        stop = EarlyStop(patience)\n",
    "        e_stop = False\n",
    "    for epoch in range(num_epoch):\n",
    "        logs = {}\n",
    "        for phase in ['train', 'validation']:\n",
    "\n",
    "            if phase == 'train' and epoch > 0:\n",
    "                model.train()\n",
    "            else:\n",
    "                model.eval()\n",
    "            \n",
    "            running_loss = 0.0\n",
    "            running_acc = 0.0\n",
    "            for inputs, targets in dataloaders[phase]:\n",
    "                inputs = inputs.to(device)\n",
    "                outputs = model(inputs.float())\n",
    "                targets = targets.unsqueeze(dim=1).to(device)\n",
    "                loss = criterion(outputs, targets.float())\n",
    "                if phase == 'train' and epoch > 0:\n",
    "                    optimizer.zero_grad()\n",
    "                    loss.backward()                \n",
    "                    optimizer.step()          \n",
    "                \n",
    "                running_loss += loss.item()\n",
    "                running_acc += project_utils.accuracy(outputs, targets)\n",
    "            \n",
    "            len_dataset = len(dataloaders[phase].dataset)\n",
    "            epoch_loss = running_loss / len_dataset\n",
    "            epoch_acc = running_acc / len_dataset\n",
    "                \n",
    "            prefix = ''\n",
    "            if phase == 'validation':\n",
    "                prefix = 'val_'\n",
    "                if early_stop:\n",
    "                    e_stop, best_model = stop(epoch_loss, model)\n",
    "                    \n",
    "            logs[prefix + 'loss'] = epoch_loss\n",
    "            logs[prefix + 'acc'] = epoch_acc\n",
    "            \n",
    "            loss_history.setdefault(phase, []).append(epoch_loss)\n",
    "            acc_history.setdefault(phase, []).append(epoch_acc)\n",
    "            \n",
    "        liveloss.update(logs)\n",
    "        liveloss.send()\n",
    "        if early_stop:\n",
    "            if e_stop:\n",
    "                print(\"Early stopping occured at epoch {}\".format(epoch))\n",
    "                break\n",
    "        best_model = model\n",
    "            \n",
    "    return best_model, epoch, loss_history, acc_history, liveloss"
   ]
  }
 ],
 "metadata": {
  "kernelspec": {
   "display_name": "Python3 ml_env",
   "language": "python",
   "name": "ml_env"
  },
  "language_info": {
   "codemirror_mode": {
    "name": "ipython",
    "version": 3
   },
   "file_extension": ".py",
   "mimetype": "text/x-python",
   "name": "python",
   "nbconvert_exporter": "python",
   "pygments_lexer": "ipython3",
   "version": "3.8.8"
  }
 },
 "nbformat": 4,
 "nbformat_minor": 5
}

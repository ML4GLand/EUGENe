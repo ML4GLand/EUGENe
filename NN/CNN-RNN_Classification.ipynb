{
 "cells": [
  {
   "cell_type": "markdown",
   "id": "c8fab0a8-93f8-49b4-a95f-3b4e0efeced1",
   "metadata": {},
   "source": [
    "# Convolutional Neural Networks For Enhancer Activity Prediction\n",
    "Adam Klie\n",
    "09/23/2021\n",
    "\n",
    "Notebook to train preliminary Convolutional Neural Network (CNN) classifiers for predicting enhancer activity"
   ]
  },
  {
   "cell_type": "code",
   "execution_count": 1,
   "id": "150f32b8-50b6-40ad-bf7f-13d191df89f7",
   "metadata": {
    "execution": {
     "iopub.execute_input": "2021-09-27T02:06:54.982618Z",
     "iopub.status.busy": "2021-09-27T02:06:54.982463Z",
     "iopub.status.idle": "2021-09-27T02:07:00.294216Z",
     "shell.execute_reply": "2021-09-27T02:07:00.292631Z",
     "shell.execute_reply.started": "2021-09-27T02:06:54.982584Z"
    },
    "tags": []
   },
   "outputs": [],
   "source": [
    "# Classics\n",
    "import matplotlib.pyplot as plt\n",
    "import numpy as np\n",
    "import pandas as pd\n",
    "import seaborn as sns\n",
    "\n",
    "# Loading webpages\n",
    "from IPython.display import IFrame\n",
    "\n",
    "# Autoreload extension\n",
    "if 'autoreload' not in get_ipython().extension_manager.loaded:\n",
    "    %load_ext autoreload\n",
    "    \n",
    "%autoreload 2"
   ]
  },
  {
   "cell_type": "code",
   "execution_count": 4,
   "id": "3d20bc99-4f08-445a-8d61-71269630f061",
   "metadata": {
    "execution": {
     "iopub.execute_input": "2021-09-27T02:08:09.930825Z",
     "iopub.status.busy": "2021-09-27T02:08:09.930563Z",
     "iopub.status.idle": "2021-09-27T02:08:10.789697Z",
     "shell.execute_reply": "2021-09-27T02:08:10.789347Z",
     "shell.execute_reply.started": "2021-09-27T02:08:09.930797Z"
    },
    "tags": []
   },
   "outputs": [],
   "source": [
    "import sys\n",
    "sys.path.append('/cellar/users/aklie/projects/EUGENE/bin/')\n",
    "import project_utils"
   ]
  },
  {
   "cell_type": "code",
   "execution_count": 5,
   "id": "e763c01a-20f5-4146-a5a0-d8f8dd5c725f",
   "metadata": {
    "execution": {
     "iopub.execute_input": "2021-09-27T02:08:11.355522Z",
     "iopub.status.busy": "2021-09-27T02:08:11.355392Z",
     "iopub.status.idle": "2021-09-27T02:08:30.605336Z",
     "shell.execute_reply": "2021-09-27T02:08:30.604824Z",
     "shell.execute_reply.started": "2021-09-27T02:08:11.355507Z"
    },
    "tags": []
   },
   "outputs": [
    {
     "name": "stdout",
     "output_type": "stream",
     "text": [
      "Using a GPU? True\n",
      "Device number [0-7]: 0\n"
     ]
    }
   ],
   "source": [
    "# Check for GPU\n",
    "import torch\n",
    "\n",
    "print(\"Using a GPU? {}\".format(torch.cuda.is_available()))\n",
    "if torch.cuda.is_available():\n",
    "    print(\"Device number [0-7]: {}\".format(torch.cuda.current_device()))"
   ]
  },
  {
   "cell_type": "markdown",
   "id": "20293f16-1e15-442c-ad9c-58a5068ac90d",
   "metadata": {
    "tags": []
   },
   "source": [
    "# Load data"
   ]
  },
  {
   "cell_type": "code",
   "execution_count": 6,
   "id": "46c67fbf-c1f0-4387-9ef0-b20b91e92ff0",
   "metadata": {
    "execution": {
     "iopub.execute_input": "2021-09-27T02:08:31.303624Z",
     "iopub.status.busy": "2021-09-27T02:08:31.303509Z",
     "iopub.status.idle": "2021-09-27T02:08:33.766086Z",
     "shell.execute_reply": "2021-09-27T02:08:33.765696Z",
     "shell.execute_reply.started": "2021-09-27T02:08:31.303610Z"
    },
    "tags": []
   },
   "outputs": [],
   "source": [
    "X, y = np.load('../data/2021_OLS_Library/ohe_seq/X_ohe_seq_0.18-0.4.npy'), np.loadtxt('../data/2021_OLS_Library/y_binary_0.18-0.4.txt', delimiter=' ', dtype=int)"
   ]
  },
  {
   "cell_type": "code",
   "execution_count": 7,
   "id": "ddff66c7-e76e-47fa-aa0a-7c9e8739a09a",
   "metadata": {
    "execution": {
     "iopub.execute_input": "2021-09-27T02:08:33.766840Z",
     "iopub.status.busy": "2021-09-27T02:08:33.766735Z",
     "iopub.status.idle": "2021-09-27T02:08:34.546025Z",
     "shell.execute_reply": "2021-09-27T02:08:34.545688Z",
     "shell.execute_reply.started": "2021-09-27T02:08:33.766825Z"
    },
    "tags": []
   },
   "outputs": [
    {
     "data": {
      "text/plain": [
       "((302936, 66, 4), (302936,))"
      ]
     },
     "execution_count": 7,
     "metadata": {},
     "output_type": "execute_result"
    }
   ],
   "source": [
    "X.shape, y.shape"
   ]
  },
  {
   "cell_type": "code",
   "execution_count": 8,
   "id": "668c8f57-bf8c-444d-8bdf-54d56f276536",
   "metadata": {
    "execution": {
     "iopub.execute_input": "2021-09-27T02:08:34.546734Z",
     "iopub.status.busy": "2021-09-27T02:08:34.546566Z",
     "iopub.status.idle": "2021-09-27T02:08:35.519636Z",
     "shell.execute_reply": "2021-09-27T02:08:35.519192Z",
     "shell.execute_reply.started": "2021-09-27T02:08:34.546719Z"
    },
    "tags": []
   },
   "outputs": [
    {
     "data": {
      "text/plain": [
       "(array([0., 1.]), array([908808, 302936]))"
      ]
     },
     "execution_count": 8,
     "metadata": {},
     "output_type": "execute_result"
    }
   ],
   "source": [
    "# Don't remove current feature if more than one unique value\n",
    "np.unique(X[:,-1], return_counts=True)"
   ]
  },
  {
   "cell_type": "code",
   "execution_count": null,
   "id": "06597290-f095-404d-a5c4-ac53f83d5073",
   "metadata": {
    "execution": {
     "iopub.status.busy": "2021-09-27T02:07:10.142593Z",
     "iopub.status.idle": "2021-09-27T02:07:10.142737Z",
     "shell.execute_reply": "2021-09-27T02:07:10.142666Z"
    },
    "tags": []
   },
   "outputs": [],
   "source": [
    "# Remove consant features: TODO function here\n",
    "#X = X[:,:-1]"
   ]
  },
  {
   "cell_type": "markdown",
   "id": "7e0a40c9-fcd3-4d4a-945d-5f85a174d270",
   "metadata": {
    "tags": []
   },
   "source": [
    "# Check CNN assumptions"
   ]
  },
  {
   "cell_type": "markdown",
   "id": "6b55e278-925e-451f-829b-81b0d8eb308c",
   "metadata": {},
   "source": [
    " - "
   ]
  },
  {
   "cell_type": "markdown",
   "id": "c11b1964-7ac1-4533-8768-4ee6ad2d1c0e",
   "metadata": {},
   "source": [
    "# Train and test a CNN classifier"
   ]
  },
  {
   "cell_type": "markdown",
   "id": "e591483e-ec5b-47aa-95e8-46d514e7ba4b",
   "metadata": {
    "tags": []
   },
   "source": [
    "## **Train/test split**"
   ]
  },
  {
   "cell_type": "code",
   "execution_count": 9,
   "id": "93b4d20c-4fad-4784-b8d8-a0096688ac78",
   "metadata": {
    "execution": {
     "iopub.execute_input": "2021-09-27T02:08:35.520388Z",
     "iopub.status.busy": "2021-09-27T02:08:35.520276Z",
     "iopub.status.idle": "2021-09-27T02:08:36.210965Z",
     "shell.execute_reply": "2021-09-27T02:08:36.210525Z",
     "shell.execute_reply.started": "2021-09-27T02:08:35.520374Z"
    },
    "tags": []
   },
   "outputs": [],
   "source": [
    "from sklearn.model_selection import train_test_split"
   ]
  },
  {
   "cell_type": "code",
   "execution_count": 10,
   "id": "8b70c395-3a00-403d-9697-3bfc8e3364cf",
   "metadata": {
    "execution": {
     "iopub.execute_input": "2021-09-27T02:08:36.211654Z",
     "iopub.status.busy": "2021-09-27T02:08:36.211542Z",
     "iopub.status.idle": "2021-09-27T02:08:37.134799Z",
     "shell.execute_reply": "2021-09-27T02:08:37.134224Z",
     "shell.execute_reply.started": "2021-09-27T02:08:36.211639Z"
    },
    "tags": []
   },
   "outputs": [],
   "source": [
    "split = 0.9"
   ]
  },
  {
   "cell_type": "code",
   "execution_count": 11,
   "id": "eb93b92c-91e7-4565-b99f-93a5656b0dc0",
   "metadata": {
    "execution": {
     "iopub.execute_input": "2021-09-27T02:08:37.136030Z",
     "iopub.status.busy": "2021-09-27T02:08:37.135917Z",
     "iopub.status.idle": "2021-09-27T02:08:38.021856Z",
     "shell.execute_reply": "2021-09-27T02:08:38.021337Z",
     "shell.execute_reply.started": "2021-09-27T02:08:37.136017Z"
    },
    "tags": []
   },
   "outputs": [],
   "source": [
    "X_train, X_test, y_train, y_test = train_test_split(X, y, train_size=split, random_state=13, shuffle=True)"
   ]
  },
  {
   "cell_type": "code",
   "execution_count": 12,
   "id": "9c0279fc-8e9e-415d-831e-ca918b165cfb",
   "metadata": {
    "execution": {
     "iopub.execute_input": "2021-09-27T02:08:43.075278Z",
     "iopub.status.busy": "2021-09-27T02:08:43.075166Z",
     "iopub.status.idle": "2021-09-27T02:08:43.708367Z",
     "shell.execute_reply": "2021-09-27T02:08:43.707968Z",
     "shell.execute_reply.started": "2021-09-27T02:08:43.075264Z"
    },
    "tags": []
   },
   "outputs": [
    {
     "data": {
      "text/plain": [
       "((272642, 66, 4), (30294, 66, 4), (272642,), (30294,))"
      ]
     },
     "execution_count": 12,
     "metadata": {},
     "output_type": "execute_result"
    }
   ],
   "source": [
    "X_train.shape, X_test.shape, y_train.shape, y_test.shape"
   ]
  },
  {
   "cell_type": "code",
   "execution_count": 13,
   "id": "c85808af-0887-4a78-ab49-1d1a4eae9522",
   "metadata": {
    "execution": {
     "iopub.execute_input": "2021-09-27T02:08:46.610176Z",
     "iopub.status.busy": "2021-09-27T02:08:46.610017Z",
     "iopub.status.idle": "2021-09-27T02:08:47.254835Z",
     "shell.execute_reply": "2021-09-27T02:08:47.254435Z",
     "shell.execute_reply.started": "2021-09-27T02:08:46.610161Z"
    },
    "tags": []
   },
   "outputs": [
    {
     "data": {
      "text/plain": [
       "(array([0.68878236, 0.31121764]), array([0.69115997, 0.30884003]))"
      ]
     },
     "execution_count": 13,
     "metadata": {},
     "output_type": "execute_result"
    }
   ],
   "source": [
    "np.unique(y_train, return_counts=True)[1]/len(y_train), np.unique(y_test, return_counts=True)[1]/len(y_test)"
   ]
  },
  {
   "cell_type": "code",
   "execution_count": 14,
   "id": "8fdd5c58-6e01-4f1c-ba93-71954e88c468",
   "metadata": {
    "execution": {
     "iopub.execute_input": "2021-09-27T02:08:49.133049Z",
     "iopub.status.busy": "2021-09-27T02:08:49.132833Z",
     "iopub.status.idle": "2021-09-27T02:08:50.188436Z",
     "shell.execute_reply": "2021-09-27T02:08:50.188031Z",
     "shell.execute_reply.started": "2021-09-27T02:08:49.133023Z"
    },
    "tags": []
   },
   "outputs": [
    {
     "data": {
      "text/plain": [
       "((272642, 66, 4), (30294, 66, 4), (272642,), (30294,))"
      ]
     },
     "execution_count": 14,
     "metadata": {},
     "output_type": "execute_result"
    }
   ],
   "source": [
    "test = False\n",
    "if test:\n",
    "    num_train = int(len(X_train)/1000)\n",
    "    num_test = int(len(X_test)/1000)\n",
    "    X_train, X_test, y_train, y_test = X_train[:num_train, :], X_test[:num_test, :], y_train[:num_train], y_test[:num_test]\n",
    "X_train.shape, X_test.shape, y_train.shape, y_test.shape"
   ]
  },
  {
   "cell_type": "code",
   "execution_count": 15,
   "id": "8987e71c-1ffc-4797-8e74-37615c3c4be7",
   "metadata": {
    "execution": {
     "iopub.execute_input": "2021-09-27T02:08:53.185791Z",
     "iopub.status.busy": "2021-09-27T02:08:53.185578Z",
     "iopub.status.idle": "2021-09-27T02:08:53.920173Z",
     "shell.execute_reply": "2021-09-27T02:08:53.919712Z",
     "shell.execute_reply.started": "2021-09-27T02:08:53.185764Z"
    },
    "tags": []
   },
   "outputs": [],
   "source": [
    "# need to fix this in the EDA\n",
    "X_train = np.transpose(X_train, axes=(0, 2, 1))\n",
    "X_test = np.transpose(X_test, axes=(0, 2, 1))"
   ]
  },
  {
   "cell_type": "markdown",
   "id": "05e5dbae-2935-4170-8e0d-0843f2f58eb1",
   "metadata": {
    "tags": [],
    "toc-hr-collapsed": true
   },
   "source": [
    "## **Standardize features**: *For mixed encoding only*"
   ]
  },
  {
   "cell_type": "code",
   "execution_count": 73,
   "id": "cc5a4b32-88ae-48bd-804b-958a5de468fd",
   "metadata": {
    "execution": {
     "iopub.execute_input": "2021-09-23T18:21:53.842499Z",
     "iopub.status.busy": "2021-09-23T18:21:53.842243Z",
     "iopub.status.idle": "2021-09-23T18:21:54.591319Z",
     "shell.execute_reply": "2021-09-23T18:21:54.590600Z",
     "shell.execute_reply.started": "2021-09-23T18:21:53.842467Z"
    },
    "tags": []
   },
   "outputs": [],
   "source": [
    "#scale_indeces = np.array([0, 3, 4, 7, 8, 11, 12, 15, 16, 19, 20])  # Mixed 1.0\n",
    "scale_indeces = np.array([0, 5, 10, 15, 20, 25])  # Mixed 2.0"
   ]
  },
  {
   "cell_type": "code",
   "execution_count": 74,
   "id": "69a10716-ae78-45ff-8e15-82ceb09af932",
   "metadata": {
    "execution": {
     "iopub.execute_input": "2021-09-23T18:21:55.216744Z",
     "iopub.status.busy": "2021-09-23T18:21:55.216555Z",
     "iopub.status.idle": "2021-09-23T18:21:56.040939Z",
     "shell.execute_reply": "2021-09-23T18:21:56.040186Z",
     "shell.execute_reply.started": "2021-09-23T18:21:55.216720Z"
    },
    "tags": []
   },
   "outputs": [],
   "source": [
    "means = X_train[:, scale_indeces].mean(axis=0)\n",
    "stds = X_train[:, scale_indeces].std(axis=0)"
   ]
  },
  {
   "cell_type": "code",
   "execution_count": 75,
   "id": "13291aa4-2023-4d3d-bfb8-b2eab7944e90",
   "metadata": {
    "execution": {
     "iopub.execute_input": "2021-09-23T18:21:56.042406Z",
     "iopub.status.busy": "2021-09-23T18:21:56.042187Z",
     "iopub.status.idle": "2021-09-23T18:21:56.566108Z",
     "shell.execute_reply": "2021-09-23T18:21:56.565353Z",
     "shell.execute_reply.started": "2021-09-23T18:21:56.042380Z"
    },
    "tags": []
   },
   "outputs": [],
   "source": [
    "X_train[:, scale_indeces] -= means\n",
    "X_train[:, scale_indeces] /= stds"
   ]
  },
  {
   "cell_type": "code",
   "execution_count": 76,
   "id": "d82d77f5-c2ec-4cc2-9834-008600156fcf",
   "metadata": {
    "execution": {
     "iopub.execute_input": "2021-09-23T18:21:56.567680Z",
     "iopub.status.busy": "2021-09-23T18:21:56.567343Z",
     "iopub.status.idle": "2021-09-23T18:21:57.369257Z",
     "shell.execute_reply": "2021-09-23T18:21:57.368365Z",
     "shell.execute_reply.started": "2021-09-23T18:21:56.567636Z"
    },
    "tags": []
   },
   "outputs": [
    {
     "data": {
      "text/plain": [
       "(array([-2.60653975e-17, -1.17294289e-17,  3.48624692e-17,  4.43111757e-17,\n",
       "         5.21307950e-17,  3.90980962e-18]),\n",
       " array([1., 1., 1., 1., 1., 1.]))"
      ]
     },
     "execution_count": 76,
     "metadata": {},
     "output_type": "execute_result"
    }
   ],
   "source": [
    "X_train[:, scale_indeces].mean(axis=0), X_train[:, scale_indeces].std(axis=0)"
   ]
  },
  {
   "cell_type": "code",
   "execution_count": 77,
   "id": "078560b0-08d5-4985-bfae-c51ffd2b5318",
   "metadata": {
    "execution": {
     "iopub.execute_input": "2021-09-23T18:21:57.370571Z",
     "iopub.status.busy": "2021-09-23T18:21:57.370308Z",
     "iopub.status.idle": "2021-09-23T18:21:58.052711Z",
     "shell.execute_reply": "2021-09-23T18:21:58.051862Z",
     "shell.execute_reply.started": "2021-09-23T18:21:57.370531Z"
    },
    "tags": []
   },
   "outputs": [],
   "source": [
    "X_test[:, scale_indeces] -= means\n",
    "X_test[:, scale_indeces] /= stds"
   ]
  },
  {
   "cell_type": "code",
   "execution_count": 78,
   "id": "7130c243-d81e-4a9a-81ec-dd05d9a093e4",
   "metadata": {
    "execution": {
     "iopub.execute_input": "2021-09-23T18:21:58.054036Z",
     "iopub.status.busy": "2021-09-23T18:21:58.053838Z",
     "iopub.status.idle": "2021-09-23T18:21:58.711461Z",
     "shell.execute_reply": "2021-09-23T18:21:58.710540Z",
     "shell.execute_reply.started": "2021-09-23T18:21:58.054011Z"
    },
    "tags": []
   },
   "outputs": [
    {
     "data": {
      "text/plain": [
       "(array([ 2.30951381e-01,  0.00000000e+00,  0.00000000e+00,  3.00000000e-01,\n",
       "         1.00000000e+00,  9.69368291e-04,  0.00000000e+00,  0.00000000e+00,\n",
       "         5.00000000e-01,  1.00000000e+00,  1.75971578e+00,  0.00000000e+00,\n",
       "         0.00000000e+00,  9.00000000e-01,  1.00000000e+00, -7.80939627e-01,\n",
       "         6.00000000e-01,  1.00000000e+00,  0.00000000e+00,  0.00000000e+00,\n",
       "        -1.20879936e+00,  4.00000000e-01,  1.00000000e+00,  0.00000000e+00,\n",
       "         0.00000000e+00,  3.82546028e-01]),\n",
       " array([-0.01212718,  0.6       ,  1.        ,  0.        ,  0.        ,\n",
       "        -1.20016607,  0.        ,  0.        ,  0.5       ,  1.        ,\n",
       "         1.51428292,  0.        ,  0.        ,  0.3       ,  1.        ,\n",
       "        -0.78093963,  0.4       , -1.        ,  0.        ,  0.        ,\n",
       "         0.4676531 ,  0.        ,  0.        ,  0.9       , -1.        ,\n",
       "         0.38254603]))"
      ]
     },
     "execution_count": 78,
     "metadata": {},
     "output_type": "execute_result"
    }
   ],
   "source": [
    "X_train[0], X_test[0]"
   ]
  },
  {
   "cell_type": "markdown",
   "id": "fd02d4fc-dd2c-4970-a10c-6fa4704cbae1",
   "metadata": {
    "tags": []
   },
   "source": [
    "## **CNN training**"
   ]
  },
  {
   "cell_type": "markdown",
   "id": "6399be59-22ab-4608-8980-c31bae2a7510",
   "metadata": {},
   "source": [
    "#### <u> **Build model** </u> "
   ]
  },
  {
   "cell_type": "code",
   "execution_count": 16,
   "id": "4c12f3f0-c576-4ac4-a7b9-01ddb3027ad8",
   "metadata": {
    "execution": {
     "iopub.execute_input": "2021-09-27T02:09:02.517279Z",
     "iopub.status.busy": "2021-09-27T02:09:02.517147Z",
     "iopub.status.idle": "2021-09-27T02:09:03.300595Z",
     "shell.execute_reply": "2021-09-27T02:09:03.300108Z",
     "shell.execute_reply.started": "2021-09-27T02:09:02.517264Z"
    },
    "tags": []
   },
   "outputs": [],
   "source": [
    "import torch.nn as nn\n",
    "import torch.nn.functional as F\n",
    "import torch\n",
    "\n",
    "class EUGENE(nn.Module):\n",
    "    def __init__(self):\n",
    "        super(EUGENE, self).__init__()\n",
    "        self.Conv1 = nn.Conv1d(in_channels=4, out_channels=32, kernel_size=16)\n",
    "        self.Conv2 = nn.Conv1d(in_channels=32, out_channels=32, kernel_size=5)\n",
    "        self.Batchnorm = nn.BatchNorm1d(32)\n",
    "        self.Maxpool = nn.MaxPool1d(kernel_size=2, stride=1)\n",
    "        self.Drop1 = nn.Dropout(p=0.5)\n",
    "        self.Linear1 = nn.Linear(1472, 1)\n",
    "\n",
    "        \n",
    "    def forward(self, input):\n",
    "        x = self.Conv1(input)\n",
    "        x = self.Batchnorm(x)\n",
    "        x = F.relu(x)\n",
    "        x = self.Conv2(x)\n",
    "        x = self.Batchnorm(x)\n",
    "        x = F.relu(x)\n",
    "        x = self.Maxpool(x)\n",
    "        x = x.flatten(1)\n",
    "        x = self.Drop1(x)\n",
    "        x = self.Linear1(x)\n",
    "        return x"
   ]
  },
  {
   "cell_type": "code",
   "execution_count": 17,
   "id": "85469437-8f34-44a2-a548-4fee1f21b641",
   "metadata": {
    "execution": {
     "iopub.execute_input": "2021-09-27T02:09:04.317882Z",
     "iopub.status.busy": "2021-09-27T02:09:04.317658Z",
     "iopub.status.idle": "2021-09-27T02:09:05.333273Z",
     "shell.execute_reply": "2021-09-27T02:09:05.332802Z",
     "shell.execute_reply.started": "2021-09-27T02:09:04.317856Z"
    },
    "tags": []
   },
   "outputs": [],
   "source": [
    "def init_weights(m):\n",
    "    if isinstance(m, nn.Linear) or isinstance(m, nn.Conv1d):\n",
    "        torch.nn.init.kaiming_normal_(m.weight)"
   ]
  },
  {
   "cell_type": "code",
   "execution_count": 18,
   "id": "337c5a83-a073-447a-9a90-0410acd39906",
   "metadata": {
    "execution": {
     "iopub.execute_input": "2021-09-27T02:09:05.985476Z",
     "iopub.status.busy": "2021-09-27T02:09:05.985363Z",
     "iopub.status.idle": "2021-09-27T02:09:24.053304Z",
     "shell.execute_reply": "2021-09-27T02:09:24.052869Z",
     "shell.execute_reply.started": "2021-09-27T02:09:05.985461Z"
    },
    "tags": []
   },
   "outputs": [
    {
     "name": "stdout",
     "output_type": "stream",
     "text": [
      "Executing the model on : cuda\n"
     ]
    },
    {
     "data": {
      "text/plain": [
       "EUGENE(\n",
       "  (Conv1): Conv1d(4, 32, kernel_size=(16,), stride=(1,))\n",
       "  (Conv2): Conv1d(32, 32, kernel_size=(5,), stride=(1,))\n",
       "  (Batchnorm): BatchNorm1d(32, eps=1e-05, momentum=0.1, affine=True, track_running_stats=True)\n",
       "  (Maxpool): MaxPool1d(kernel_size=2, stride=1, padding=0, dilation=1, ceil_mode=False)\n",
       "  (Drop1): Dropout(p=0.5, inplace=False)\n",
       "  (Linear1): Linear(in_features=1472, out_features=1, bias=True)\n",
       ")"
      ]
     },
     "execution_count": 18,
     "metadata": {},
     "output_type": "execute_result"
    }
   ],
   "source": [
    "# Instantiate model and move to gpu if available\n",
    "eugene = EUGENE()\n",
    "eugene.apply(init_weights)\n",
    "device = torch.device('cuda' if torch.cuda.is_available() else 'cpu')\n",
    "print(\"Executing the model on :\", device)\n",
    "eugene.to(device)"
   ]
  },
  {
   "cell_type": "code",
   "execution_count": 19,
   "id": "f8601243-bb49-4a93-868c-52e60273d4b9",
   "metadata": {
    "execution": {
     "iopub.execute_input": "2021-09-27T02:09:26.239888Z",
     "iopub.status.busy": "2021-09-27T02:09:26.239674Z",
     "iopub.status.idle": "2021-09-27T02:09:26.969635Z",
     "shell.execute_reply": "2021-09-27T02:09:26.969160Z",
     "shell.execute_reply.started": "2021-09-27T02:09:26.239862Z"
    },
    "tags": []
   },
   "outputs": [],
   "source": [
    "# Function to calcuate accuracy given raw values from classifier and labels\n",
    "def accuracy(raw, labels):\n",
    "    predictions = torch.round(torch.sigmoid(raw))\n",
    "    return sum(predictions.eq(labels)).item()"
   ]
  },
  {
   "cell_type": "code",
   "execution_count": 20,
   "id": "27947d85-a29c-4365-afdb-d109a6534492",
   "metadata": {
    "execution": {
     "iopub.execute_input": "2021-09-27T02:09:27.903423Z",
     "iopub.status.busy": "2021-09-27T02:09:27.903311Z",
     "iopub.status.idle": "2021-09-27T02:09:29.233039Z",
     "shell.execute_reply": "2021-09-27T02:09:29.232537Z",
     "shell.execute_reply.started": "2021-09-27T02:09:27.903408Z"
    },
    "tags": []
   },
   "outputs": [
    {
     "name": "stdout",
     "output_type": "stream",
     "text": [
      "tensor([-0.1465,  1.2114,  0.4568, -2.6338, -1.8668], device='cuda:0',\n",
      "       grad_fn=<SqueezeBackward1>)\n",
      "tensor([0, 0, 0, 1, 0], device='cuda:0')\n"
     ]
    }
   ],
   "source": [
    "# Grab some seqs and outputs to test out on\n",
    "indexes = np.random.choice(len(X_train), size=5)\n",
    "random_seqs = torch.from_numpy(X_train[indexes, :, :]).float().to(device)\n",
    "outputs = eugene(random_seqs).squeeze(dim=1)\n",
    "random_labels = torch.from_numpy(y[indexes]).to(device)\n",
    "print(outputs)\n",
    "print(random_labels)"
   ]
  },
  {
   "cell_type": "code",
   "execution_count": 21,
   "id": "4b390e7a-f3a2-4189-b4c1-6d52966fa723",
   "metadata": {
    "execution": {
     "iopub.execute_input": "2021-09-27T02:09:30.303219Z",
     "iopub.status.busy": "2021-09-27T02:09:30.303093Z",
     "iopub.status.idle": "2021-09-27T02:09:31.209812Z",
     "shell.execute_reply": "2021-09-27T02:09:31.209328Z",
     "shell.execute_reply.started": "2021-09-27T02:09:30.303204Z"
    },
    "tags": []
   },
   "outputs": [],
   "source": [
    "from torch.utils.data import TensorDataset, DataLoader"
   ]
  },
  {
   "cell_type": "code",
   "execution_count": 22,
   "id": "c249436c-6f9f-4e06-b774-367e4aec5820",
   "metadata": {
    "ExecuteTime": {
     "end_time": "2021-05-20T16:11:24.609119Z",
     "start_time": "2021-05-20T16:11:24.590436Z"
    },
    "execution": {
     "iopub.execute_input": "2021-09-27T02:09:31.916925Z",
     "iopub.status.busy": "2021-09-27T02:09:31.916814Z",
     "iopub.status.idle": "2021-09-27T02:09:32.872403Z",
     "shell.execute_reply": "2021-09-27T02:09:32.871915Z",
     "shell.execute_reply.started": "2021-09-27T02:09:31.916911Z"
    },
    "tags": []
   },
   "outputs": [],
   "source": [
    "# Build Datasets objects from arrays\n",
    "train_dataset = TensorDataset(torch.from_numpy(X_train), torch.from_numpy(y_train))\n",
    "val_dataset = TensorDataset(torch.from_numpy(X_test), torch.from_numpy(y_test))"
   ]
  },
  {
   "cell_type": "code",
   "execution_count": 23,
   "id": "a9549a62-0c07-4b94-9c15-adc6445c85c1",
   "metadata": {
    "ExecuteTime": {
     "end_time": "2021-05-20T16:11:57.471895Z",
     "start_time": "2021-05-20T16:11:57.302899Z"
    },
    "execution": {
     "iopub.execute_input": "2021-09-27T02:09:33.529794Z",
     "iopub.status.busy": "2021-09-27T02:09:33.529679Z",
     "iopub.status.idle": "2021-09-27T02:09:34.447354Z",
     "shell.execute_reply": "2021-09-27T02:09:34.446969Z",
     "shell.execute_reply.started": "2021-09-27T02:09:33.529779Z"
    },
    "tags": []
   },
   "outputs": [],
   "source": [
    "# Build Loaders from the Datasets\n",
    "train_loader = DataLoader(train_dataset, batch_size=256, shuffle=True)\n",
    "val_loader = DataLoader(val_dataset, batch_size=256)"
   ]
  },
  {
   "cell_type": "code",
   "execution_count": 24,
   "id": "1607a48e-d44a-4d8f-b87a-ab88da9fd17b",
   "metadata": {
    "ExecuteTime": {
     "end_time": "2021-05-20T16:11:58.556687Z",
     "start_time": "2021-05-20T16:11:58.534431Z"
    },
    "execution": {
     "iopub.execute_input": "2021-09-27T02:09:35.047877Z",
     "iopub.status.busy": "2021-09-27T02:09:35.047762Z",
     "iopub.status.idle": "2021-09-27T02:09:36.007164Z",
     "shell.execute_reply": "2021-09-27T02:09:36.006706Z",
     "shell.execute_reply.started": "2021-09-27T02:09:35.047862Z"
    },
    "tags": []
   },
   "outputs": [
    {
     "name": "stdout",
     "output_type": "stream",
     "text": [
      "Dimensions of training set: 272642 x torch.Size([4, 66])\n",
      "Dimensions of validation set: 30294 x torch.Size([4, 66])\n"
     ]
    }
   ],
   "source": [
    "# Check dims of loaders for correctness\n",
    "print(\"Dimensions of training set: {} x {}\".format(len(train_loader.dataset), train_loader.dataset[0][0].shape))\n",
    "print(\"Dimensions of validation set: {} x {}\".format(len(val_loader.dataset), val_loader.dataset[0][0].shape))"
   ]
  },
  {
   "cell_type": "code",
   "execution_count": 25,
   "id": "36f327ca-f42b-4a82-8c78-706cae38c12d",
   "metadata": {
    "ExecuteTime": {
     "end_time": "2021-05-20T16:12:32.748989Z",
     "start_time": "2021-05-20T16:12:32.678969Z"
    },
    "execution": {
     "iopub.execute_input": "2021-09-27T02:09:38.541439Z",
     "iopub.status.busy": "2021-09-27T02:09:38.541291Z",
     "iopub.status.idle": "2021-09-27T02:09:40.183333Z",
     "shell.execute_reply": "2021-09-27T02:09:40.182866Z",
     "shell.execute_reply.started": "2021-09-27T02:09:38.541423Z"
    },
    "tags": []
   },
   "outputs": [],
   "source": [
    "from livelossplot import PlotLosses"
   ]
  },
  {
   "cell_type": "code",
   "execution_count": 26,
   "id": "c7768028-b24a-46af-a18a-f84d1b5dd99f",
   "metadata": {
    "ExecuteTime": {
     "end_time": "2021-05-20T16:12:33.644010Z",
     "start_time": "2021-05-20T16:12:33.615733Z"
    },
    "execution": {
     "iopub.execute_input": "2021-09-27T02:09:41.341543Z",
     "iopub.status.busy": "2021-09-27T02:09:41.341425Z",
     "iopub.status.idle": "2021-09-27T02:09:42.074384Z",
     "shell.execute_reply": "2021-09-27T02:09:42.073901Z",
     "shell.execute_reply.started": "2021-09-27T02:09:41.341528Z"
    },
    "tags": []
   },
   "outputs": [],
   "source": [
    "# Current livelossplot compatible training script\n",
    "def train_model(model, criterion, optimizer, num_epoch):\n",
    "    liveloss = PlotLosses()\n",
    "    loss_history, acc_history = {}, {}\n",
    "    for epoch in range(num_epoch):\n",
    "        logs = {}\n",
    "        for phase in ['validation', 'train']:\n",
    "            if phase == 'train':\n",
    "                if epoch < 150:\n",
    "                    model.train()\n",
    "                else:\n",
    "                    model.eval()\n",
    "            else:\n",
    "                model.eval()\n",
    "            \n",
    "            running_loss = 0.0\n",
    "            running_acc = 0.0\n",
    "            for inputs, targets in dataloaders[phase]:\n",
    "                inputs = inputs.to(device)\n",
    "                outputs = model(inputs.float())\n",
    "                targets = targets.unsqueeze(dim=1).to(device)\n",
    "                loss = criterion(outputs, targets.float())\n",
    "                if phase == 'train':\n",
    "                    if epoch < 150:\n",
    "                        optimizer.zero_grad()\n",
    "                        loss.backward()                \n",
    "                        optimizer.step()            \n",
    "                \n",
    "                running_loss += loss.item()\n",
    "                running_acc += accuracy(outputs, targets)\n",
    "            \n",
    "            epoch_loss = running_loss / len(dataloaders[phase].dataset)\n",
    "            epoch_acc = running_acc / len(dataloaders[phase].dataset)\n",
    "                \n",
    "            prefix = ''\n",
    "            if phase == 'validation':\n",
    "                prefix = 'val_'\n",
    "\n",
    "            logs[prefix + 'loss'] = epoch_loss\n",
    "            logs[prefix + 'acc'] = epoch_acc\n",
    "            \n",
    "            loss_history.setdefault(phase, []).append(epoch_loss)\n",
    "            acc_history.setdefault(phase, []).append(epoch_acc)\n",
    "            \n",
    "        liveloss.update(logs)\n",
    "        liveloss.send()\n",
    "    return loss_history, acc_history, liveloss"
   ]
  },
  {
   "cell_type": "code",
   "execution_count": null,
   "id": "2fd4b3c9-16f4-42b5-bde5-53353baf24bb",
   "metadata": {
    "execution": {
     "iopub.execute_input": "2021-09-27T02:11:19.114184Z",
     "iopub.status.busy": "2021-09-27T02:11:19.114016Z"
    },
    "tags": []
   },
   "outputs": [
    {
     "data": {
      "image/png": "[encoded data removed]",
      "text/plain": [
       "<Figure size 864x576 with 2 Axes>"
      ]
     },
     "metadata": {
      "needs_background": "light"
     },
     "output_type": "display_data"
    },
    {
     "name": "stdout",
     "output_type": "stream",
     "text": [
      "Accuracy\n",
      "\tvalidation       \t (min:    0.353, max:    0.688, cur:    0.492)\n",
      "\ttraining         \t (min:    0.738, max:    0.771, cur:    0.771)\n",
      "Loss\n",
      "\tvalidation       \t (min:    0.641, max:    0.780, cur:    0.682)\n",
      "\ttraining         \t (min:    0.502, max:    0.584, cur:    0.502)\n"
     ]
    }
   ],
   "source": [
    "### Train the model\n",
    "dataloaders = {\"train\": train_loader, \"validation\": val_loader}\n",
    "optimizer = torch.optim.SGD(eugene.parameters(), lr=0.001)\n",
    "criterion = torch.nn.BCEWithLogitsLoss(reduction='sum') #, pos_weight=torch.tensor(6.3))\n",
    "loss_history, acc_history, _ = train_model(eugene, criterion, optimizer, 50)"
   ]
  },
  {
   "cell_type": "markdown",
   "id": "91febd92-a935-41d1-8f23-2e3f7de9b546",
   "metadata": {
    "execution": {
     "iopub.execute_input": "2021-07-26T03:43:46.264746Z",
     "iopub.status.busy": "2021-07-26T03:43:46.264474Z",
     "iopub.status.idle": "2021-07-26T03:43:47.055876Z",
     "shell.execute_reply": "2021-07-26T03:43:47.054281Z",
     "shell.execute_reply.started": "2021-07-26T03:43:46.264712Z"
    },
    "tags": []
   },
   "source": [
    "## **CNN testing**"
   ]
  },
  {
   "cell_type": "code",
   "execution_count": null,
   "id": "794c7490-d3f4-4adc-a968-3f7e0ed61f99",
   "metadata": {},
   "outputs": [],
   "source": [
    "train_loader = DataLoader(train_dataset, batch_size=len(X_test))\n",
    "eugene.to(\"cpu\")\n",
    "for X_train_tensor, y_train_tensor in val_loader:\n",
    "    pass\n",
    "y_tr_outputs = eugene(X_train_tensor.float()).detach()\n",
    "y_tr_probs = torch.sigmoid(y_tr_outputs).detach().numpy()\n",
    "y_tr_preds = np.round(y_tr_probs)"
   ]
  },
  {
   "cell_type": "code",
   "execution_count": 91,
   "id": "c4f11b83-b545-44ce-a0b9-d926f2dd62d0",
   "metadata": {
    "execution": {
     "iopub.execute_input": "2021-09-23T22:42:50.075771Z",
     "iopub.status.busy": "2021-09-23T22:42:50.075554Z",
     "iopub.status.idle": "2021-09-23T22:42:52.459676Z",
     "shell.execute_reply": "2021-09-23T22:42:52.459307Z",
     "shell.execute_reply.started": "2021-09-23T22:42:50.075744Z"
    },
    "tags": []
   },
   "outputs": [],
   "source": [
    "val_loader = DataLoader(val_dataset, batch_size=len(X_test))\n",
    "eugene.to(\"cpu\")\n",
    "for X_test_tensor, y_test_tensor in val_loader:\n",
    "    pass\n",
    "y_outputs = eugene(X_test_tensor.float()).detach()\n",
    "y_probs = torch.sigmoid(y_outputs).detach().numpy()\n",
    "y_preds = np.round(y_probs)"
   ]
  },
  {
   "cell_type": "markdown",
   "id": "20590172-8424-4e59-a246-126b4bee5c3c",
   "metadata": {
    "tags": []
   },
   "source": [
    "### <u>**Confusion matrices** </u>"
   ]
  },
  {
   "cell_type": "code",
   "execution_count": 86,
   "id": "6d03d0a6-18ea-409e-a738-b6288e29b11a",
   "metadata": {
    "execution": {
     "iopub.execute_input": "2021-09-23T22:41:21.414918Z",
     "iopub.status.busy": "2021-09-23T22:41:21.414711Z",
     "iopub.status.idle": "2021-09-23T22:41:21.992523Z",
     "shell.execute_reply": "2021-09-23T22:41:21.992136Z",
     "shell.execute_reply.started": "2021-09-23T22:41:21.414900Z"
    },
    "tags": []
   },
   "outputs": [],
   "source": [
    "from sklearn.metrics import confusion_matrix"
   ]
  },
  {
   "cell_type": "code",
   "execution_count": 87,
   "id": "fbf298f7-38b8-496d-b75b-c822c56d0a81",
   "metadata": {
    "execution": {
     "iopub.execute_input": "2021-09-23T22:41:27.506970Z",
     "iopub.status.busy": "2021-09-23T22:41:27.506819Z",
     "iopub.status.idle": "2021-09-23T22:41:28.362424Z",
     "shell.execute_reply": "2021-09-23T22:41:28.361967Z",
     "shell.execute_reply.started": "2021-09-23T22:41:27.506955Z"
    },
    "tags": []
   },
   "outputs": [
    {
     "ename": "RuntimeError",
     "evalue": "Can't call numpy() on Tensor that requires grad. Use tensor.detach().numpy() instead.",
     "output_type": "error",
     "traceback": [
      "\u001b[0;31m---------------------------------------------------------------------------\u001b[0m",
      "\u001b[0;31mRuntimeError\u001b[0m                              Traceback (most recent call last)",
      "\u001b[0;32m<ipython-input-87-b71b4524e8bc>\u001b[0m in \u001b[0;36m<module>\u001b[0;34m\u001b[0m\n\u001b[1;32m      1\u001b[0m \u001b[0;31m#np.unique(y_tr_preds, return_counts=True)\u001b[0m\u001b[0;34m\u001b[0m\u001b[0;34m\u001b[0m\u001b[0;34m\u001b[0m\u001b[0m\n\u001b[0;32m----> 2\u001b[0;31m \u001b[0mnp\u001b[0m\u001b[0;34m.\u001b[0m\u001b[0munique\u001b[0m\u001b[0;34m(\u001b[0m\u001b[0my_preds\u001b[0m\u001b[0;34m,\u001b[0m \u001b[0mreturn_counts\u001b[0m\u001b[0;34m=\u001b[0m\u001b[0;32mTrue\u001b[0m\u001b[0;34m)\u001b[0m\u001b[0;34m\u001b[0m\u001b[0;34m\u001b[0m\u001b[0m\n\u001b[0m",
      "\u001b[0;32m<__array_function__ internals>\u001b[0m in \u001b[0;36munique\u001b[0;34m(*args, **kwargs)\u001b[0m\n",
      "\u001b[0;32m~/opt/miniconda3/envs/ml_env/lib/python3.8/site-packages/numpy/lib/arraysetops.py\u001b[0m in \u001b[0;36munique\u001b[0;34m(ar, return_index, return_inverse, return_counts, axis)\u001b[0m\n\u001b[1;32m    258\u001b[0m \u001b[0;34m\u001b[0m\u001b[0m\n\u001b[1;32m    259\u001b[0m     \"\"\"\n\u001b[0;32m--> 260\u001b[0;31m     \u001b[0mar\u001b[0m \u001b[0;34m=\u001b[0m \u001b[0mnp\u001b[0m\u001b[0;34m.\u001b[0m\u001b[0masanyarray\u001b[0m\u001b[0;34m(\u001b[0m\u001b[0mar\u001b[0m\u001b[0;34m)\u001b[0m\u001b[0;34m\u001b[0m\u001b[0;34m\u001b[0m\u001b[0m\n\u001b[0m\u001b[1;32m    261\u001b[0m     \u001b[0;32mif\u001b[0m \u001b[0maxis\u001b[0m \u001b[0;32mis\u001b[0m \u001b[0;32mNone\u001b[0m\u001b[0;34m:\u001b[0m\u001b[0;34m\u001b[0m\u001b[0;34m\u001b[0m\u001b[0m\n\u001b[1;32m    262\u001b[0m         \u001b[0mret\u001b[0m \u001b[0;34m=\u001b[0m \u001b[0m_unique1d\u001b[0m\u001b[0;34m(\u001b[0m\u001b[0mar\u001b[0m\u001b[0;34m,\u001b[0m \u001b[0mreturn_index\u001b[0m\u001b[0;34m,\u001b[0m \u001b[0mreturn_inverse\u001b[0m\u001b[0;34m,\u001b[0m \u001b[0mreturn_counts\u001b[0m\u001b[0;34m)\u001b[0m\u001b[0;34m\u001b[0m\u001b[0;34m\u001b[0m\u001b[0m\n",
      "\u001b[0;32m~/opt/miniconda3/envs/ml_env/lib/python3.8/site-packages/numpy/core/_asarray.py\u001b[0m in \u001b[0;36masanyarray\u001b[0;34m(a, dtype, order, like)\u001b[0m\n\u001b[1;32m    169\u001b[0m         \u001b[0;32mreturn\u001b[0m \u001b[0m_asanyarray_with_like\u001b[0m\u001b[0;34m(\u001b[0m\u001b[0ma\u001b[0m\u001b[0;34m,\u001b[0m \u001b[0mdtype\u001b[0m\u001b[0;34m=\u001b[0m\u001b[0mdtype\u001b[0m\u001b[0;34m,\u001b[0m \u001b[0morder\u001b[0m\u001b[0;34m=\u001b[0m\u001b[0morder\u001b[0m\u001b[0;34m,\u001b[0m \u001b[0mlike\u001b[0m\u001b[0;34m=\u001b[0m\u001b[0mlike\u001b[0m\u001b[0;34m)\u001b[0m\u001b[0;34m\u001b[0m\u001b[0;34m\u001b[0m\u001b[0m\n\u001b[1;32m    170\u001b[0m \u001b[0;34m\u001b[0m\u001b[0m\n\u001b[0;32m--> 171\u001b[0;31m     \u001b[0;32mreturn\u001b[0m \u001b[0marray\u001b[0m\u001b[0;34m(\u001b[0m\u001b[0ma\u001b[0m\u001b[0;34m,\u001b[0m \u001b[0mdtype\u001b[0m\u001b[0;34m,\u001b[0m \u001b[0mcopy\u001b[0m\u001b[0;34m=\u001b[0m\u001b[0;32mFalse\u001b[0m\u001b[0;34m,\u001b[0m \u001b[0morder\u001b[0m\u001b[0;34m=\u001b[0m\u001b[0morder\u001b[0m\u001b[0;34m,\u001b[0m \u001b[0msubok\u001b[0m\u001b[0;34m=\u001b[0m\u001b[0;32mTrue\u001b[0m\u001b[0;34m)\u001b[0m\u001b[0;34m\u001b[0m\u001b[0;34m\u001b[0m\u001b[0m\n\u001b[0m\u001b[1;32m    172\u001b[0m \u001b[0;34m\u001b[0m\u001b[0m\n\u001b[1;32m    173\u001b[0m \u001b[0;34m\u001b[0m\u001b[0m\n",
      "\u001b[0;32m~/opt/miniconda3/envs/ml_env/lib/python3.8/site-packages/torch/tensor.py\u001b[0m in \u001b[0;36m__array__\u001b[0;34m(self, dtype)\u001b[0m\n\u001b[1;32m    628\u001b[0m             \u001b[0;32mreturn\u001b[0m \u001b[0mhandle_torch_function\u001b[0m\u001b[0;34m(\u001b[0m\u001b[0mTensor\u001b[0m\u001b[0;34m.\u001b[0m\u001b[0m__array__\u001b[0m\u001b[0;34m,\u001b[0m \u001b[0mrelevant_args\u001b[0m\u001b[0;34m,\u001b[0m \u001b[0mself\u001b[0m\u001b[0;34m,\u001b[0m \u001b[0mdtype\u001b[0m\u001b[0;34m=\u001b[0m\u001b[0mdtype\u001b[0m\u001b[0;34m)\u001b[0m\u001b[0;34m\u001b[0m\u001b[0;34m\u001b[0m\u001b[0m\n\u001b[1;32m    629\u001b[0m         \u001b[0;32mif\u001b[0m \u001b[0mdtype\u001b[0m \u001b[0;32mis\u001b[0m \u001b[0;32mNone\u001b[0m\u001b[0;34m:\u001b[0m\u001b[0;34m\u001b[0m\u001b[0;34m\u001b[0m\u001b[0m\n\u001b[0;32m--> 630\u001b[0;31m             \u001b[0;32mreturn\u001b[0m \u001b[0mself\u001b[0m\u001b[0;34m.\u001b[0m\u001b[0mnumpy\u001b[0m\u001b[0;34m(\u001b[0m\u001b[0;34m)\u001b[0m\u001b[0;34m\u001b[0m\u001b[0;34m\u001b[0m\u001b[0m\n\u001b[0m\u001b[1;32m    631\u001b[0m         \u001b[0;32melse\u001b[0m\u001b[0;34m:\u001b[0m\u001b[0;34m\u001b[0m\u001b[0;34m\u001b[0m\u001b[0m\n\u001b[1;32m    632\u001b[0m             \u001b[0;32mreturn\u001b[0m \u001b[0mself\u001b[0m\u001b[0;34m.\u001b[0m\u001b[0mnumpy\u001b[0m\u001b[0;34m(\u001b[0m\u001b[0;34m)\u001b[0m\u001b[0;34m.\u001b[0m\u001b[0mastype\u001b[0m\u001b[0;34m(\u001b[0m\u001b[0mdtype\u001b[0m\u001b[0;34m,\u001b[0m \u001b[0mcopy\u001b[0m\u001b[0;34m=\u001b[0m\u001b[0;32mFalse\u001b[0m\u001b[0;34m)\u001b[0m\u001b[0;34m\u001b[0m\u001b[0;34m\u001b[0m\u001b[0m\n",
      "\u001b[0;31mRuntimeError\u001b[0m: Can't call numpy() on Tensor that requires grad. Use tensor.detach().numpy() instead."
     ]
    }
   ],
   "source": [
    "np.unique(y_tr_preds, return_counts=True)\n",
    "np.unique(y_preds, return_counts=True)"
   ]
  },
  {
   "cell_type": "code",
   "execution_count": 142,
   "id": "1d05f7a2-d998-48b7-89e4-86e85ec95f2c",
   "metadata": {
    "execution": {
     "iopub.execute_input": "2021-09-23T18:27:20.009448Z",
     "iopub.status.busy": "2021-09-23T18:27:20.009236Z",
     "iopub.status.idle": "2021-09-23T18:27:21.894856Z",
     "shell.execute_reply": "2021-09-23T18:27:21.893999Z",
     "shell.execute_reply.started": "2021-09-23T18:27:20.009420Z"
    },
    "tags": []
   },
   "outputs": [
    {
     "data": {
      "image/png": "[encoded data removed]",
      "text/plain": [
       "<Figure size 1152x576 with 4 Axes>"
      ]
     },
     "metadata": {
      "needs_background": "light"
     },
     "output_type": "display_data"
    }
   ],
   "source": [
    "fig, ax = plt.subplots(1,2,figsize=(16,8))\n",
    "\n",
    "rc = {'font.size': 20}\n",
    "with plt.rc_context(rc):\n",
    "    sns.heatmap(confusion_matrix(y_train, y_tr_preds), annot=True, fmt='d', cmap='viridis', ax=ax[0])\n",
    "    ax[0].set_xlabel('predicted')\n",
    "    ax[0].set_ylabel('true label')\n",
    "    ax[0].set_title('Train Set')\n",
    "\n",
    "    sns.heatmap(confusion_matrix(y_test, y_preds), annot=True, fmt='d', cmap='viridis', ax=ax[1])\n",
    "    ax[1].set_xlabel('predicted')\n",
    "    ax[1].set_ylabel('true label')\n",
    "    ax[1].set_title('Test Set')\n",
    "    \n",
    "    plt.tight_layout()"
   ]
  },
  {
   "cell_type": "markdown",
   "id": "2275d4f7-ef8b-43c5-b13b-f4c770e35e4e",
   "metadata": {},
   "source": [
    "### <u> **Accuracies** </u>"
   ]
  },
  {
   "cell_type": "code",
   "execution_count": 143,
   "id": "8818c978-2b59-4e2c-8ef4-93a9bbcdaf2b",
   "metadata": {
    "execution": {
     "iopub.execute_input": "2021-09-23T18:27:21.896568Z",
     "iopub.status.busy": "2021-09-23T18:27:21.896251Z",
     "iopub.status.idle": "2021-09-23T18:27:22.394234Z",
     "shell.execute_reply": "2021-09-23T18:27:22.393468Z",
     "shell.execute_reply.started": "2021-09-23T18:27:21.896527Z"
    },
    "tags": []
   },
   "outputs": [],
   "source": [
    "from sklearn.metrics import accuracy_score"
   ]
  },
  {
   "cell_type": "code",
   "execution_count": 144,
   "id": "352b8ee0-389d-455a-8ed0-c9cdafb35434",
   "metadata": {
    "execution": {
     "iopub.execute_input": "2021-09-23T18:27:22.396184Z",
     "iopub.status.busy": "2021-09-23T18:27:22.395944Z",
     "iopub.status.idle": "2021-09-23T18:27:22.979802Z",
     "shell.execute_reply": "2021-09-23T18:27:22.979110Z",
     "shell.execute_reply.started": "2021-09-23T18:27:22.396157Z"
    },
    "tags": []
   },
   "outputs": [],
   "source": [
    "train_acc, test_acc = accuracy_score(y_true=y_train, y_pred=y_tr_preds), accuracy_score(y_true=y_test, y_pred=y_preds)"
   ]
  },
  {
   "cell_type": "code",
   "execution_count": 145,
   "id": "b85cc370-0a71-4079-8974-db506e897a3b",
   "metadata": {
    "execution": {
     "iopub.execute_input": "2021-09-23T18:27:27.501616Z",
     "iopub.status.busy": "2021-09-23T18:27:27.501304Z",
     "iopub.status.idle": "2021-09-23T18:27:28.247279Z",
     "shell.execute_reply": "2021-09-23T18:27:28.246502Z",
     "shell.execute_reply.started": "2021-09-23T18:27:27.501576Z"
    },
    "tags": []
   },
   "outputs": [
    {
     "name": "stdout",
     "output_type": "stream",
     "text": [
      "Train Acc\tTest Acc\n",
      "1.0\t0.6999\n"
     ]
    }
   ],
   "source": [
    "print(\"Train Acc\", \"Test Acc\", sep='\\t')\n",
    "print(\"{:.4}\\t{:.4f}\".format(train_acc, test_acc))"
   ]
  },
  {
   "cell_type": "markdown",
   "id": "7131afb6-da62-4958-a03b-265da981e892",
   "metadata": {},
   "source": [
    "### <u> **F-scores** </u>"
   ]
  },
  {
   "cell_type": "code",
   "execution_count": 146,
   "id": "26800b28-1607-42dc-bdeb-12584311af51",
   "metadata": {
    "execution": {
     "iopub.execute_input": "2021-09-23T18:27:29.452720Z",
     "iopub.status.busy": "2021-09-23T18:27:29.452475Z",
     "iopub.status.idle": "2021-09-23T18:27:30.138576Z",
     "shell.execute_reply": "2021-09-23T18:27:30.137870Z",
     "shell.execute_reply.started": "2021-09-23T18:27:29.452689Z"
    },
    "tags": []
   },
   "outputs": [
    {
     "data": {
      "text/html": [
       "\n",
       "        <iframe\n",
       "            width=\"800\"\n",
       "            height=\"400\"\n",
       "            src=\"https://en.wikipedia.org/wiki/F-score\"\n",
       "            frameborder=\"0\"\n",
       "            allowfullscreen\n",
       "        ></iframe>\n",
       "        "
      ],
      "text/plain": [
       "<IPython.lib.display.IFrame at 0x15551e6c2c10>"
      ]
     },
     "execution_count": 146,
     "metadata": {},
     "output_type": "execute_result"
    }
   ],
   "source": [
    "IFrame('https://en.wikipedia.org/wiki/F-score', width=800, height=400)"
   ]
  },
  {
   "cell_type": "code",
   "execution_count": 147,
   "id": "b96eec35-be68-4af3-80e4-91857fa3df63",
   "metadata": {
    "execution": {
     "iopub.execute_input": "2021-09-23T18:27:30.140003Z",
     "iopub.status.busy": "2021-09-23T18:27:30.139752Z",
     "iopub.status.idle": "2021-09-23T18:27:30.686576Z",
     "shell.execute_reply": "2021-09-23T18:27:30.685778Z",
     "shell.execute_reply.started": "2021-09-23T18:27:30.139964Z"
    },
    "tags": []
   },
   "outputs": [],
   "source": [
    "from sklearn.metrics import precision_score, recall_score, f1_score"
   ]
  },
  {
   "cell_type": "code",
   "execution_count": 148,
   "id": "8157a170-cdcd-40d2-9d92-889e31326c07",
   "metadata": {
    "execution": {
     "iopub.execute_input": "2021-09-23T18:27:31.620547Z",
     "iopub.status.busy": "2021-09-23T18:27:31.620240Z",
     "iopub.status.idle": "2021-09-23T18:27:32.099135Z",
     "shell.execute_reply": "2021-09-23T18:27:32.098350Z",
     "shell.execute_reply.started": "2021-09-23T18:27:31.620507Z"
    },
    "tags": []
   },
   "outputs": [],
   "source": [
    "def fbeta_score(pr, rec, beta):\n",
    "    return (1+(beta**2))*((pr*rec)/(((beta**2)*pr)+rec))"
   ]
  },
  {
   "cell_type": "code",
   "execution_count": 149,
   "id": "2cc8dac0-7f55-468b-87f4-c017b0eb2ca7",
   "metadata": {
    "execution": {
     "iopub.execute_input": "2021-09-23T18:27:32.831739Z",
     "iopub.status.busy": "2021-09-23T18:27:32.831550Z",
     "iopub.status.idle": "2021-09-23T18:27:33.337882Z",
     "shell.execute_reply": "2021-09-23T18:27:33.337283Z",
     "shell.execute_reply.started": "2021-09-23T18:27:32.831715Z"
    },
    "tags": []
   },
   "outputs": [],
   "source": [
    "train_prec, test_prec = precision_score(y_true=y_train, y_pred=y_tr_preds), precision_score(y_true=y_test, y_pred=y_preds)"
   ]
  },
  {
   "cell_type": "code",
   "execution_count": 150,
   "id": "ec3a015a-7ddd-4878-b52e-8fb736e2fcd0",
   "metadata": {
    "execution": {
     "iopub.execute_input": "2021-09-23T18:27:33.339393Z",
     "iopub.status.busy": "2021-09-23T18:27:33.339202Z",
     "iopub.status.idle": "2021-09-23T18:27:33.993651Z",
     "shell.execute_reply": "2021-09-23T18:27:33.993030Z",
     "shell.execute_reply.started": "2021-09-23T18:27:33.339369Z"
    },
    "tags": []
   },
   "outputs": [],
   "source": [
    "train_recall, test_recall = recall_score(y_true=y_train, y_pred=y_tr_preds), recall_score(y_true=y_test, y_pred=y_preds)"
   ]
  },
  {
   "cell_type": "code",
   "execution_count": 151,
   "id": "0bfd5c18-e474-4cf8-b138-6d76a89876e3",
   "metadata": {
    "execution": {
     "iopub.execute_input": "2021-09-23T18:27:34.879788Z",
     "iopub.status.busy": "2021-09-23T18:27:34.879473Z",
     "iopub.status.idle": "2021-09-23T18:27:35.448844Z",
     "shell.execute_reply": "2021-09-23T18:27:35.448204Z",
     "shell.execute_reply.started": "2021-09-23T18:27:34.879746Z"
    },
    "tags": []
   },
   "outputs": [],
   "source": [
    "train_f1, test_f1 = f1_score(y_true=y_train, y_pred=y_tr_preds), f1_score(y_true=y_test, y_pred=y_preds)"
   ]
  },
  {
   "cell_type": "code",
   "execution_count": 152,
   "id": "ed417182-c0fb-40f3-b6d2-8f290cab2e80",
   "metadata": {
    "execution": {
     "iopub.execute_input": "2021-09-23T18:27:35.449907Z",
     "iopub.status.busy": "2021-09-23T18:27:35.449666Z",
     "iopub.status.idle": "2021-09-23T18:27:36.173442Z",
     "shell.execute_reply": "2021-09-23T18:27:36.172674Z",
     "shell.execute_reply.started": "2021-09-23T18:27:35.449871Z"
    },
    "tags": []
   },
   "outputs": [],
   "source": [
    "fbeta_tr_scores = []\n",
    "fbeta_scores = []\n",
    "for b in [0.1, 0.5, 1, 2, 10]:\n",
    "    fbeta_tr_scores.append(fbeta_score(train_prec, train_recall, b))\n",
    "    fbeta_scores.append(fbeta_score(test_prec, test_recall, b))"
   ]
  },
  {
   "cell_type": "code",
   "execution_count": 153,
   "id": "fd70138b-2927-4c21-8cb3-35ad9fc64e20",
   "metadata": {
    "execution": {
     "iopub.execute_input": "2021-09-23T18:27:36.174860Z",
     "iopub.status.busy": "2021-09-23T18:27:36.174612Z",
     "iopub.status.idle": "2021-09-23T18:27:36.819845Z",
     "shell.execute_reply": "2021-09-23T18:27:36.819134Z",
     "shell.execute_reply.started": "2021-09-23T18:27:36.174832Z"
    },
    "tags": []
   },
   "outputs": [
    {
     "name": "stdout",
     "output_type": "stream",
     "text": [
      "Metric\tTrain\tTest\n",
      "Precision\t1.0000\t0.5486\n",
      "Recall\t1.0000\t0.1673\n",
      "F0.1-Score\t1.0000\t0.5365\n",
      "F0.5-Score\t1.0000\t0.3768\n",
      "F1-Score\t1.0000\t0.2564\n",
      "F2-Score\t1.0000\t0.1943\n",
      "F10-Score\t1.0000\t0.1684\n"
     ]
    }
   ],
   "source": [
    "print(\"Metric\", \"Train\", \"Test\", sep='\\t')\n",
    "print(\"{:s}\\t{:.4f}\\t{:.4f}\".format(\"Precision\", train_prec, test_prec))\n",
    "print(\"{:s}\\t{:.4f}\\t{:.4f}\".format(\"Recall\", train_recall, test_recall))\n",
    "#print(\"{:s}\\t{:.4f}\\t{:.4f}\".format(\"F1-Score\", train_f1, test_f1))\n",
    "for i, b in enumerate([0.1, 0.5, 1, 2, 10]):\n",
    "    print(\"F{:s}-Score\\t{:.4f}\\t{:.4f}\".format(str(b), fbeta_tr_scores[i], fbeta_scores[i])) "
   ]
  },
  {
   "cell_type": "markdown",
   "id": "01f61c60-255a-4b3d-8e01-9b75448d47b3",
   "metadata": {},
   "source": [
    "### <u> **Precision-recall** </u>"
   ]
  },
  {
   "cell_type": "code",
   "execution_count": 132,
   "id": "38330bb9-e01b-46c2-9bd6-3c7597a97194",
   "metadata": {
    "execution": {
     "iopub.execute_input": "2021-09-23T18:26:54.425156Z",
     "iopub.status.busy": "2021-09-23T18:26:54.424880Z",
     "iopub.status.idle": "2021-09-23T18:26:55.209356Z",
     "shell.execute_reply": "2021-09-23T18:26:55.208577Z",
     "shell.execute_reply.started": "2021-09-23T18:26:54.425123Z"
    },
    "tags": []
   },
   "outputs": [],
   "source": [
    "from sklearn.metrics import precision_recall_curve, average_precision_score"
   ]
  },
  {
   "cell_type": "code",
   "execution_count": 133,
   "id": "d8ea700d-2bc7-4b69-a5ef-05b53f3756ca",
   "metadata": {
    "execution": {
     "iopub.execute_input": "2021-09-23T18:26:55.210803Z",
     "iopub.status.busy": "2021-09-23T18:26:55.210577Z",
     "iopub.status.idle": "2021-09-23T18:26:55.744909Z",
     "shell.execute_reply": "2021-09-23T18:26:55.744196Z",
     "shell.execute_reply.started": "2021-09-23T18:26:55.210775Z"
    },
    "tags": []
   },
   "outputs": [],
   "source": [
    "precs_tr, recs_tr, threshs_tr = precision_recall_curve(y_true=y_train, probas_pred=y_tr_probs)\n",
    "avg_prec_tr = average_precision_score(y_true=y_train, y_score=y_tr_probs)"
   ]
  },
  {
   "cell_type": "code",
   "execution_count": 134,
   "id": "492fa0d8-5067-4f7e-bbcc-d21383d7b8cb",
   "metadata": {
    "execution": {
     "iopub.execute_input": "2021-09-23T18:26:56.498547Z",
     "iopub.status.busy": "2021-09-23T18:26:56.498238Z",
     "iopub.status.idle": "2021-09-23T18:26:57.136433Z",
     "shell.execute_reply": "2021-09-23T18:26:57.135835Z",
     "shell.execute_reply.started": "2021-09-23T18:26:56.498506Z"
    },
    "tags": []
   },
   "outputs": [],
   "source": [
    "precs, recs, threshs = precision_recall_curve(y_true=y_test, probas_pred=y_probs)\n",
    "avg_prec = average_precision_score(y_true=y_test, y_score=y_probs)"
   ]
  },
  {
   "cell_type": "code",
   "execution_count": 135,
   "id": "51780f55-6b16-43bc-80ae-39004bd61126",
   "metadata": {
    "execution": {
     "iopub.execute_input": "2021-09-23T18:26:57.137615Z",
     "iopub.status.busy": "2021-09-23T18:26:57.137426Z",
     "iopub.status.idle": "2021-09-23T18:26:57.759357Z",
     "shell.execute_reply": "2021-09-23T18:26:57.758582Z",
     "shell.execute_reply.started": "2021-09-23T18:26:57.137591Z"
    },
    "tags": []
   },
   "outputs": [
    {
     "data": {
      "text/plain": [
       "(1.0, 0.5936992585369412)"
      ]
     },
     "execution_count": 135,
     "metadata": {},
     "output_type": "execute_result"
    }
   ],
   "source": [
    "avg_prec_tr, avg_prec"
   ]
  },
  {
   "cell_type": "code",
   "execution_count": 136,
   "id": "865cd891-3508-46f5-97bc-e76dbab40c6e",
   "metadata": {
    "execution": {
     "iopub.execute_input": "2021-09-23T18:26:57.760633Z",
     "iopub.status.busy": "2021-09-23T18:26:57.760412Z",
     "iopub.status.idle": "2021-09-23T18:26:59.312652Z",
     "shell.execute_reply": "2021-09-23T18:26:59.312041Z",
     "shell.execute_reply.started": "2021-09-23T18:26:57.760606Z"
    },
    "tags": []
   },
   "outputs": [
    {
     "data": {
      "image/png": "[encoded data removed]",
      "text/plain": [
       "<Figure size 576x576 with 1 Axes>"
      ]
     },
     "metadata": {
      "needs_background": "light"
     },
     "output_type": "display_data"
    }
   ],
   "source": [
    "fig, ax = plt.subplots(1,1, figsize=(8,8))\n",
    "ax.step(recs_tr, precs_tr, where='post', lw=3, alpha=0.4, label='Training auPRC = %0.4f' % (avg_prec_tr))\n",
    "ax.step(recs, precs, where='post', lw=3, alpha=0.4, label='Testing auPRC = %0.4f' % (avg_prec))\n",
    "ax.axhline(len(y_test[y_test==1])/len(y_test), linestyle='--', lw=3, color='k', label='No skill', alpha=.8)\n",
    "ax.set_xlim([-0.05, 1.05])\n",
    "ax.set_ylim([-0.05, 1.05])\n",
    "ax.set_xlabel('Recall', fontsize=18)\n",
    "ax.set_ylabel('Precision', fontsize=18)\n",
    "ax.set_title('Precision recall', fontsize=18)\n",
    "ax.legend(loc=\"lower right\", fontsize=16);"
   ]
  },
  {
   "cell_type": "markdown",
   "id": "69e283de-ccc5-45a8-8778-83addc5fd41d",
   "metadata": {},
   "source": [
    "### <u> **Reciever operating characteristic** </u>"
   ]
  },
  {
   "cell_type": "code",
   "execution_count": 105,
   "id": "86a48fd2-8941-4a05-8e84-d14014f69cff",
   "metadata": {
    "execution": {
     "iopub.execute_input": "2021-09-23T18:23:01.381071Z",
     "iopub.status.busy": "2021-09-23T18:23:01.380876Z",
     "iopub.status.idle": "2021-09-23T18:23:02.039744Z",
     "shell.execute_reply": "2021-09-23T18:23:02.038973Z",
     "shell.execute_reply.started": "2021-09-23T18:23:01.381046Z"
    },
    "tags": []
   },
   "outputs": [],
   "source": [
    "from sklearn.metrics import roc_curve, auc"
   ]
  },
  {
   "cell_type": "code",
   "execution_count": 106,
   "id": "1970f5b9-b35c-4b25-ac20-f9058196d398",
   "metadata": {
    "execution": {
     "iopub.execute_input": "2021-09-23T18:23:02.715665Z",
     "iopub.status.busy": "2021-09-23T18:23:02.715354Z",
     "iopub.status.idle": "2021-09-23T18:23:03.372094Z",
     "shell.execute_reply": "2021-09-23T18:23:03.371275Z",
     "shell.execute_reply.started": "2021-09-23T18:23:02.715625Z"
    },
    "tags": []
   },
   "outputs": [],
   "source": [
    "fprs_tr, tprs_tr, threshs_tr = roc_curve(y_true=y_train, y_score=y_tr_probs)\n",
    "roc_auc_tr = auc(fprs_tr, tprs_tr)"
   ]
  },
  {
   "cell_type": "code",
   "execution_count": 107,
   "id": "dd5e9fdc-7ea6-4371-b305-0f7e0706b889",
   "metadata": {
    "execution": {
     "iopub.execute_input": "2021-09-23T18:23:03.373313Z",
     "iopub.status.busy": "2021-09-23T18:23:03.373080Z",
     "iopub.status.idle": "2021-09-23T18:23:03.979269Z",
     "shell.execute_reply": "2021-09-23T18:23:03.978572Z",
     "shell.execute_reply.started": "2021-09-23T18:23:03.373277Z"
    },
    "tags": []
   },
   "outputs": [],
   "source": [
    "fprs, tprs, threshs = roc_curve(y_true=y_test, y_score=y_probs)\n",
    "roc_auc = auc(fprs, tprs)"
   ]
  },
  {
   "cell_type": "code",
   "execution_count": 108,
   "id": "02c9574c-7641-4938-ab21-cf6c6738c820",
   "metadata": {
    "execution": {
     "iopub.execute_input": "2021-09-23T18:23:03.981139Z",
     "iopub.status.busy": "2021-09-23T18:23:03.980749Z",
     "iopub.status.idle": "2021-09-23T18:23:04.691776Z",
     "shell.execute_reply": "2021-09-23T18:23:04.691051Z",
     "shell.execute_reply.started": "2021-09-23T18:23:03.981084Z"
    },
    "tags": []
   },
   "outputs": [
    {
     "data": {
      "text/plain": [
       "(0.9022159347744443, 0.6612879551005468)"
      ]
     },
     "execution_count": 108,
     "metadata": {},
     "output_type": "execute_result"
    }
   ],
   "source": [
    "roc_auc_tr, roc_auc"
   ]
  },
  {
   "cell_type": "code",
   "execution_count": 109,
   "id": "ca6fa457-c0fa-4380-891c-e684c1c139f8",
   "metadata": {
    "execution": {
     "iopub.execute_input": "2021-09-23T18:23:04.694780Z",
     "iopub.status.busy": "2021-09-23T18:23:04.694546Z",
     "iopub.status.idle": "2021-09-23T18:23:06.137041Z",
     "shell.execute_reply": "2021-09-23T18:23:06.136346Z",
     "shell.execute_reply.started": "2021-09-23T18:23:04.694749Z"
    },
    "tags": []
   },
   "outputs": [
    {
     "data": {
      "image/png": "[encoded data removed]",
      "text/plain": [
       "<Figure size 864x576 with 1 Axes>"
      ]
     },
     "metadata": {
      "needs_background": "light"
     },
     "output_type": "display_data"
    }
   ],
   "source": [
    "fig, ax = plt.subplots(1, 1, figsize=(12,8))\n",
    "ax.plot(fprs_tr, tprs_tr, lw=3, alpha=0.4, label='Training (auROC = %0.4f)' % (roc_auc_tr))\n",
    "ax.plot(fprs, tprs, lw=3, alpha=0.4, label='Test (auROC= %0.4f)' % (roc_auc))\n",
    "ax.plot([0, 1], [0, 1], linestyle='--', lw=3, color='k', label='No skill', alpha=.8)\n",
    "ax.set_xlim([-0.05, 1.05])\n",
    "ax.set_ylim([-0.05, 1.05])\n",
    "ax.set_xlabel('False Positive Rate', fontsize=18)\n",
    "ax.set_ylabel('True Positive Rate', fontsize=18)\n",
    "ax.set_title('Receiver operating characteristic', fontsize=18)\n",
    "ax.legend(loc=\"lower right\", fontsize=16);"
   ]
  },
  {
   "cell_type": "markdown",
   "id": "912c3433-d65e-4f79-b971-635f9f4f66e2",
   "metadata": {},
   "source": [
    "## Save the classifier"
   ]
  },
  {
   "cell_type": "code",
   "execution_count": null,
   "id": "68618781-72dc-4ed7-9b72-6e5393411578",
   "metadata": {
    "execution": {
     "iopub.status.busy": "2021-09-21T23:36:53.836500Z",
     "iopub.status.idle": "2021-09-21T23:36:53.836841Z",
     "shell.execute_reply": "2021-09-21T23:36:53.836666Z"
    },
    "tags": []
   },
   "outputs": [],
   "source": [
    "import pickle"
   ]
  },
  {
   "cell_type": "code",
   "execution_count": 219,
   "id": "5995f54b-9061-4f77-8c33-9baf848cc5a0",
   "metadata": {
    "execution": {
     "iopub.execute_input": "2021-09-22T00:22:42.930405Z",
     "iopub.status.busy": "2021-09-22T00:22:42.930130Z",
     "iopub.status.idle": "2021-09-22T00:22:43.472486Z",
     "shell.execute_reply": "2021-09-22T00:22:43.471594Z",
     "shell.execute_reply.started": "2021-09-22T00:22:42.930374Z"
    },
    "tags": []
   },
   "outputs": [],
   "source": [
    "#file = '../data/2021_OLS_Library/RF/0.18-0.4_mixed-encoding_RF-clf_randomCV.pickle'\n",
    "#file = '0.18-0.4_mixed_RF-clf.pickle'\n",
    "#file = '0.18-0.4_mixed_2.0_RF-clf.pickle'\n",
    "file = '0.18-0.4_mixed_RF-clf_hyperopt.pickle'"
   ]
  },
  {
   "cell_type": "code",
   "execution_count": 220,
   "id": "54ffc2be-ca11-425d-bf6d-75f271f123ca",
   "metadata": {
    "execution": {
     "iopub.execute_input": "2021-09-22T00:22:44.431275Z",
     "iopub.status.busy": "2021-09-22T00:22:44.431016Z",
     "iopub.status.idle": "2021-09-22T00:22:49.942837Z",
     "shell.execute_reply": "2021-09-22T00:22:49.942147Z",
     "shell.execute_reply.started": "2021-09-22T00:22:44.431246Z"
    },
    "tags": []
   },
   "outputs": [],
   "source": [
    "pickle.dump(clf, open(file, 'wb'))"
   ]
  },
  {
   "cell_type": "code",
   "execution_count": 84,
   "id": "59433766-c231-4a8c-9ff0-779b340fa827",
   "metadata": {
    "execution": {
     "iopub.execute_input": "2021-09-21T23:31:34.124129Z",
     "iopub.status.busy": "2021-09-21T23:31:34.123906Z",
     "iopub.status.idle": "2021-09-21T23:31:37.350213Z",
     "shell.execute_reply": "2021-09-21T23:31:37.349486Z",
     "shell.execute_reply.started": "2021-09-21T23:31:34.124100Z"
    },
    "tags": []
   },
   "outputs": [
    {
     "data": {
      "text/plain": [
       "(array([0, 1]), array([24479,  5815]))"
      ]
     },
     "execution_count": 84,
     "metadata": {},
     "output_type": "execute_result"
    }
   ],
   "source": [
    "test_load = pickle.load(open(file, 'rb'))\n",
    "np.unique(test_load.predict(X_test), return_counts=True)"
   ]
  }
 ],
 "metadata": {
  "kernelspec": {
   "display_name": "Python3 ml_env",
   "language": "python",
   "name": "ml_env"
  },
  "language_info": {
   "codemirror_mode": {
    "name": "ipython",
    "version": 3
   },
   "file_extension": ".py",
   "mimetype": "text/x-python",
   "name": "python",
   "nbconvert_exporter": "python",
   "pygments_lexer": "ipython3",
   "version": "3.8.8"
  }
 },
 "nbformat": 4,
 "nbformat_minor": 5
}

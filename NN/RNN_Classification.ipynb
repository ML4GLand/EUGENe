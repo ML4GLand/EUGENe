{
 "cells": [
  {
   "cell_type": "markdown",
   "id": "c8fab0a8-93f8-49b4-a95f-3b4e0efeced1",
   "metadata": {},
   "source": [
    "# Recurrent Neural Networks For Enhancer Activity Classification"
   ]
  },
  {
   "cell_type": "markdown",
   "id": "d8bfa59a-b06e-494d-a8f5-9b5f264c3b83",
   "metadata": {
    "execution": {
     "iopub.execute_input": "2021-09-28T20:36:31.301402Z",
     "iopub.status.busy": "2021-09-28T20:36:31.301151Z",
     "iopub.status.idle": "2021-09-28T20:36:31.321538Z",
     "shell.execute_reply": "2021-09-28T20:36:31.320382Z",
     "shell.execute_reply.started": "2021-09-28T20:36:31.301373Z"
    }
   },
   "source": [
    "**Authorship:**\n",
    "Adam Klie, *10/24/2021*\n",
    "***\n",
    "**Description:**\n",
    "Notebook to train preliminary Recurrent Neural Network (CNN) classifiers for predicting enhancer activity\n",
    "***\n",
    "**TODOs:**\n",
    " - <font color='green'> Done TODO </font>\n",
    " - <font color='orange'> WIP TODO </font>\n",
    " - <font color='red'> Queued TODO </font>\n",
    "***"
   ]
  },
  {
   "cell_type": "code",
   "execution_count": 30,
   "id": "150f32b8-50b6-40ad-bf7f-13d191df89f7",
   "metadata": {
    "execution": {
     "iopub.execute_input": "2021-10-28T17:55:22.006596Z",
     "iopub.status.busy": "2021-10-28T17:55:22.006442Z",
     "iopub.status.idle": "2021-10-28T17:55:23.109240Z",
     "shell.execute_reply": "2021-10-28T17:55:23.108872Z",
     "shell.execute_reply.started": "2021-10-28T17:55:22.006579Z"
    },
    "tags": []
   },
   "outputs": [],
   "source": [
    "# Classics\n",
    "import matplotlib.pyplot as plt\n",
    "import numpy as np\n",
    "import pandas as pd\n",
    "import seaborn as sns\n",
    "\n",
    "# Autoreload extension\n",
    "if 'autoreload' not in get_ipython().extension_manager.loaded:\n",
    "    %load_ext autoreload\n",
    "    \n",
    "%autoreload 2"
   ]
  },
  {
   "cell_type": "code",
   "execution_count": 31,
   "id": "3d20bc99-4f08-445a-8d61-71269630f061",
   "metadata": {
    "execution": {
     "iopub.execute_input": "2021-10-28T17:55:23.110039Z",
     "iopub.status.busy": "2021-10-28T17:55:23.109908Z",
     "iopub.status.idle": "2021-10-28T17:55:24.059561Z",
     "shell.execute_reply": "2021-10-28T17:55:24.059188Z",
     "shell.execute_reply.started": "2021-10-28T17:55:23.110024Z"
    },
    "tags": []
   },
   "outputs": [],
   "source": [
    "import sys\n",
    "sys.path.append('/cellar/users/aklie/projects/EUGENE/bin/')\n",
    "import project_utils"
   ]
  },
  {
   "cell_type": "code",
   "execution_count": 32,
   "id": "e763c01a-20f5-4146-a5a0-d8f8dd5c725f",
   "metadata": {
    "execution": {
     "iopub.execute_input": "2021-10-28T17:55:24.060431Z",
     "iopub.status.busy": "2021-10-28T17:55:24.060286Z",
     "iopub.status.idle": "2021-10-28T17:55:25.134669Z",
     "shell.execute_reply": "2021-10-28T17:55:25.134282Z",
     "shell.execute_reply.started": "2021-10-28T17:55:24.060415Z"
    },
    "tags": []
   },
   "outputs": [
    {
     "name": "stdout",
     "output_type": "stream",
     "text": [
      "Using a GPU? True\n",
      "Device number [0-7]: 0\n"
     ]
    }
   ],
   "source": [
    "# Check for GPU\n",
    "import torch\n",
    "\n",
    "print(\"Using a GPU? {}\".format(torch.cuda.is_available()))\n",
    "if torch.cuda.is_available():\n",
    "    print(\"Device number [0-7]: {}\".format(torch.cuda.current_device()))"
   ]
  },
  {
   "cell_type": "markdown",
   "id": "c6706749-0e7d-4ec6-a709-827be1378723",
   "metadata": {
    "tags": []
   },
   "source": [
    "# Define parameters of the notebook"
   ]
  },
  {
   "cell_type": "code",
   "execution_count": 33,
   "id": "6223eea8-2cd5-461a-885e-25a3562a097e",
   "metadata": {
    "execution": {
     "iopub.execute_input": "2021-10-28T17:55:25.135401Z",
     "iopub.status.busy": "2021-10-28T17:55:25.135262Z",
     "iopub.status.idle": "2021-10-28T17:55:26.312791Z",
     "shell.execute_reply": "2021-10-28T17:55:26.312429Z",
     "shell.execute_reply.started": "2021-10-28T17:55:25.135385Z"
    },
    "tags": []
   },
   "outputs": [],
   "source": [
    "DATASET = \"2021-OLS-Library\"  # Which dataset to look at\n",
    "FEATURES = \"ohe-seq\"  # What features to use to train the model\n",
    "LABELS = \"binary\"\n",
    "PREPROCESS = \"0.18-0.4\"  # Preprocessing steps, separated by \"-\"\n",
    "TRAIN = False\n",
    "SPLIT = 0.9\n",
    "SUBSET = False\n",
    "HYPERPARAM = \"baseline\"\n",
    "ARCHITECTURE = \"EUGENE_biLSTM\"\n",
    "from EUGENE_biLSTM import EUGENE_biLSTM"
   ]
  },
  {
   "cell_type": "markdown",
   "id": "20293f16-1e15-442c-ad9c-58a5068ac90d",
   "metadata": {
    "tags": []
   },
   "source": [
    "# Load data"
   ]
  },
  {
   "cell_type": "code",
   "execution_count": 7,
   "id": "bca84f66-493d-4c22-9de9-2a8ace95fb7c",
   "metadata": {
    "execution": {
     "iopub.execute_input": "2021-10-28T17:44:40.271189Z",
     "iopub.status.busy": "2021-10-28T17:44:40.270930Z",
     "iopub.status.idle": "2021-10-28T17:44:42.801097Z",
     "shell.execute_reply": "2021-10-28T17:44:42.800674Z",
     "shell.execute_reply.started": "2021-10-28T17:44:40.271168Z"
    },
    "tags": []
   },
   "outputs": [],
   "source": [
    "X_train = np.load('../data/{0}/{1}/{2}_X-train-{3}_{4}.npy'.format(DATASET.replace(\"-\", \"_\"), FEATURES.replace(\"-\", \"_\"), PREPROCESS, SPLIT, FEATURES))\n",
    "X_test = np.load('../data/{0}/{1}/{2}_X-test-{3}_{4}.npy'.format(DATASET.replace(\"-\", \"_\"), FEATURES.replace(\"-\", \"_\"), PREPROCESS, round(1-SPLIT, 1), FEATURES))\n",
    "X_train_rev = np.load('../data/{0}/{1}/{2}_X-train-{3}_rev-{4}.npy'.format(DATASET.replace(\"-\", \"_\"), FEATURES.replace(\"-\", \"_\"), PREPROCESS, SPLIT, FEATURES))\n",
    "X_test_rev = np.load('../data/{0}/{1}/{2}_X-test-{3}_rev-{4}.npy'.format(DATASET.replace(\"-\", \"_\"), FEATURES.replace(\"-\", \"_\"), PREPROCESS, round(1-SPLIT, 1), FEATURES))\n",
    "y_train = np.loadtxt('../data/{0}/{1}/{2}_y-train-{3}_{1}.txt'.format(DATASET.replace(\"-\", \"_\"), LABELS, PREPROCESS, SPLIT), dtype=int)\n",
    "y_test = np.loadtxt('../data/{0}/{1}/{2}_y-test-{3}_{1}.txt'.format(DATASET.replace(\"-\", \"_\"), LABELS, PREPROCESS, round(1-SPLIT, 1)), dtype=int)"
   ]
  },
  {
   "cell_type": "code",
   "execution_count": 9,
   "id": "ddff66c7-e76e-47fa-aa0a-7c9e8739a09a",
   "metadata": {
    "execution": {
     "iopub.execute_input": "2021-10-28T17:45:06.890282Z",
     "iopub.status.busy": "2021-10-28T17:45:06.890116Z",
     "iopub.status.idle": "2021-10-28T17:45:07.879403Z",
     "shell.execute_reply": "2021-10-28T17:45:07.879026Z",
     "shell.execute_reply.started": "2021-10-28T17:45:06.890265Z"
    },
    "tags": []
   },
   "outputs": [
    {
     "data": {
      "text/plain": [
       "((272642, 4, 66),\n",
       " (272642, 4, 66),\n",
       " (272642,),\n",
       " (30294, 4, 66),\n",
       " (30294, 4, 66),\n",
       " (30294,))"
      ]
     },
     "execution_count": 9,
     "metadata": {},
     "output_type": "execute_result"
    }
   ],
   "source": [
    "X_train.shape, X_train_rev.shape, y_train.shape, X_test.shape, X_test_rev.shape, y_test.shape"
   ]
  },
  {
   "cell_type": "markdown",
   "id": "c11b1964-7ac1-4533-8768-4ee6ad2d1c0e",
   "metadata": {},
   "source": [
    "# Train and test an RNN classifier"
   ]
  },
  {
   "cell_type": "markdown",
   "id": "fd02d4fc-dd2c-4970-a10c-6fa4704cbae1",
   "metadata": {
    "tags": []
   },
   "source": [
    "## **RNN training**"
   ]
  },
  {
   "cell_type": "code",
   "execution_count": 116,
   "id": "4d4c1ddf-a13d-4e54-82d3-139668fa6bc4",
   "metadata": {
    "execution": {
     "iopub.execute_input": "2021-10-28T18:13:22.270824Z",
     "iopub.status.busy": "2021-10-28T18:13:22.270582Z",
     "iopub.status.idle": "2021-10-28T18:13:23.227879Z",
     "shell.execute_reply": "2021-10-28T18:13:23.227478Z",
     "shell.execute_reply.started": "2021-10-28T18:13:22.270802Z"
    },
    "tags": []
   },
   "outputs": [],
   "source": [
    "import torch.nn as nn\n",
    "import torch.nn.functional as F\n",
    "import torch\n",
    "\n",
    "class EUGENE_biLSTM_test(nn.Module):\n",
    "    def __init__(self, input_size, hidden_size=32, num_layers=1, num_classes=1, dropout=0.5):\n",
    "        super(EUGENE_biLSTM_test, self).__init__()\n",
    "        self.hidden_size = hidden_size\n",
    "        self.num_layers = num_layers\n",
    "        self.lstm = nn.LSTM(input_size, hidden_size, num_layers, batch_first=True)\n",
    "        self.reverse_lstm = nn.LSTM(input_size, hidden_size, num_layers, batch_first=True)\n",
    "        self.fc = nn.Linear(hidden_size*2, num_classes)  # 2 for bidirection\n",
    "    \n",
    "    def forward(self, x, x_rev):\n",
    "        \n",
    "        # Forward propagate LSTM\n",
    "        out, _ = self.lstm(x)  # out: tensor of shape (batch_size, seq_length, hidden_size)\n",
    "        out_reverse, _ = self.reverse_lstm(x_rev)  # out: tensor of shape (batch_size, seq_length, hidden_size)\n",
    "        out = torch.cat((out, out_reverse), dim=2)\n",
    "        \n",
    "        # Decode the hidden state of the last time step\n",
    "        out = self.fc(out[:, -1, :])\n",
    "        return out"
   ]
  },
  {
   "cell_type": "code",
   "execution_count": 117,
   "id": "337c5a83-a073-447a-9a90-0410acd39906",
   "metadata": {
    "execution": {
     "iopub.execute_input": "2021-10-28T18:13:59.269279Z",
     "iopub.status.busy": "2021-10-28T18:13:59.269120Z",
     "iopub.status.idle": "2021-10-28T18:14:00.393755Z",
     "shell.execute_reply": "2021-10-28T18:14:00.393361Z",
     "shell.execute_reply.started": "2021-10-28T18:13:59.269260Z"
    },
    "tags": []
   },
   "outputs": [
    {
     "name": "stdout",
     "output_type": "stream",
     "text": [
      "Executing the model on : cuda\n"
     ]
    },
    {
     "data": {
      "text/plain": [
       "EUGENE_biLSTM_test(\n",
       "  (lstm): LSTM(66, 32, num_layers=5, batch_first=True)\n",
       "  (reverse_lstm): LSTM(66, 32, num_layers=5, batch_first=True)\n",
       "  (fc): Linear(in_features=64, out_features=1, bias=True)\n",
       ")"
      ]
     },
     "execution_count": 117,
     "metadata": {},
     "output_type": "execute_result"
    }
   ],
   "source": [
    "# Instantiate model and move to gpu if available\n",
    "eugene = EUGENE_biLSTM_test(66, num_layers=5, dropout=0.1)\n",
    "#eugene.apply(project_utils.init_weights)\n",
    "device = torch.device('cuda' if torch.cuda.is_available() else 'cpu')\n",
    "print(\"Executing the model on :\", device)\n",
    "eugene.to(device)"
   ]
  },
  {
   "cell_type": "code",
   "execution_count": 118,
   "id": "27947d85-a29c-4365-afdb-d109a6534492",
   "metadata": {
    "execution": {
     "iopub.execute_input": "2021-10-28T18:14:01.673969Z",
     "iopub.status.busy": "2021-10-28T18:14:01.673763Z",
     "iopub.status.idle": "2021-10-28T18:14:02.689862Z",
     "shell.execute_reply": "2021-10-28T18:14:02.689475Z",
     "shell.execute_reply.started": "2021-10-28T18:14:01.673950Z"
    },
    "tags": []
   },
   "outputs": [
    {
     "name": "stdout",
     "output_type": "stream",
     "text": [
      "tensor([-0.1180, -0.1179, -0.1180, -0.1179, -0.1180], device='cuda:0',\n",
      "       grad_fn=<SqueezeBackward1>)\n",
      "tensor([0, 0, 0, 0, 0], device='cuda:0')\n"
     ]
    }
   ],
   "source": [
    "# Grab some seqs and outputs to test out on\n",
    "indexes = np.random.choice(len(X_train), size=5)\n",
    "random_seqs = torch.from_numpy(X_train[indexes, :, :]).float().to(device)\n",
    "random_rev_seqs = torch.from_numpy(X_train_rev[indexes, :, :]).float().to(device)\n",
    "outputs = eugene(random_seqs, random_rev_seqs).squeeze(dim=1)\n",
    "random_labels = torch.from_numpy(y_train[indexes]).to(device)\n",
    "print(outputs)\n",
    "print(random_labels)"
   ]
  },
  {
   "cell_type": "code",
   "execution_count": 119,
   "id": "4b390e7a-f3a2-4189-b4c1-6d52966fa723",
   "metadata": {
    "execution": {
     "iopub.execute_input": "2021-10-28T18:14:27.731078Z",
     "iopub.status.busy": "2021-10-28T18:14:27.730904Z",
     "iopub.status.idle": "2021-10-28T18:14:28.875134Z",
     "shell.execute_reply": "2021-10-28T18:14:28.874762Z",
     "shell.execute_reply.started": "2021-10-28T18:14:27.731060Z"
    },
    "tags": []
   },
   "outputs": [],
   "source": [
    "from torch.utils.data import TensorDataset, DataLoader"
   ]
  },
  {
   "cell_type": "code",
   "execution_count": 120,
   "id": "c249436c-6f9f-4e06-b774-367e4aec5820",
   "metadata": {
    "ExecuteTime": {
     "end_time": "2021-05-20T16:11:24.609119Z",
     "start_time": "2021-05-20T16:11:24.590436Z"
    },
    "execution": {
     "iopub.execute_input": "2021-10-28T18:14:28.875890Z",
     "iopub.status.busy": "2021-10-28T18:14:28.875758Z",
     "iopub.status.idle": "2021-10-28T18:14:30.998456Z",
     "shell.execute_reply": "2021-10-28T18:14:30.998021Z",
     "shell.execute_reply.started": "2021-10-28T18:14:28.875875Z"
    },
    "tags": []
   },
   "outputs": [],
   "source": [
    "# Build Datasets objects from arrays\n",
    "#train_dataset = TensorDataset(torch.from_numpy(X_train), torch.from_numpy(y_train))\n",
    "train_dataset = TensorDataset(torch.from_numpy(np.stack([X_train, X_train_rev], axis=3)), torch.from_numpy(y_train))\n",
    "#val_dataset = TensorDataset(torch.from_numpy(X_test), torch.from_numpy(y_test))\n",
    "val_dataset = TensorDataset(torch.from_numpy(np.stack([X_test, X_test_rev], axis=3)), torch.from_numpy(y_test))"
   ]
  },
  {
   "cell_type": "code",
   "execution_count": 121,
   "id": "a9549a62-0c07-4b94-9c15-adc6445c85c1",
   "metadata": {
    "ExecuteTime": {
     "end_time": "2021-05-20T16:11:57.471895Z",
     "start_time": "2021-05-20T16:11:57.302899Z"
    },
    "execution": {
     "iopub.execute_input": "2021-10-28T18:14:30.999480Z",
     "iopub.status.busy": "2021-10-28T18:14:30.999338Z",
     "iopub.status.idle": "2021-10-28T18:14:31.939506Z",
     "shell.execute_reply": "2021-10-28T18:14:31.939119Z",
     "shell.execute_reply.started": "2021-10-28T18:14:30.999464Z"
    },
    "tags": []
   },
   "outputs": [],
   "source": [
    "# Build Loaders from the Datasets\n",
    "train_loader = DataLoader(train_dataset, batch_size=256, shuffle=True)\n",
    "val_loader = DataLoader(val_dataset, batch_size=256)"
   ]
  },
  {
   "cell_type": "code",
   "execution_count": 122,
   "id": "1607a48e-d44a-4d8f-b87a-ab88da9fd17b",
   "metadata": {
    "ExecuteTime": {
     "end_time": "2021-05-20T16:11:58.556687Z",
     "start_time": "2021-05-20T16:11:58.534431Z"
    },
    "execution": {
     "iopub.execute_input": "2021-10-28T18:14:31.940290Z",
     "iopub.status.busy": "2021-10-28T18:14:31.940163Z",
     "iopub.status.idle": "2021-10-28T18:14:32.766999Z",
     "shell.execute_reply": "2021-10-28T18:14:32.766603Z",
     "shell.execute_reply.started": "2021-10-28T18:14:31.940275Z"
    },
    "tags": []
   },
   "outputs": [
    {
     "name": "stdout",
     "output_type": "stream",
     "text": [
      "Dimensions of training set: 272642 x torch.Size([4, 66, 2])\n",
      "Dimensions of validation set: 30294 x torch.Size([4, 66, 2])\n"
     ]
    }
   ],
   "source": [
    "# Check dims of loaders for correctness\n",
    "print(\"Dimensions of training set: {} x {}\".format(len(train_loader.dataset), train_loader.dataset[0][0].shape))\n",
    "print(\"Dimensions of validation set: {} x {}\".format(len(val_loader.dataset), val_loader.dataset[0][0].shape))"
   ]
  },
  {
   "cell_type": "code",
   "execution_count": 123,
   "id": "36f327ca-f42b-4a82-8c78-706cae38c12d",
   "metadata": {
    "ExecuteTime": {
     "end_time": "2021-05-20T16:12:32.748989Z",
     "start_time": "2021-05-20T16:12:32.678969Z"
    },
    "execution": {
     "iopub.execute_input": "2021-10-28T18:14:32.767692Z",
     "iopub.status.busy": "2021-10-28T18:14:32.767564Z",
     "iopub.status.idle": "2021-10-28T18:14:33.719548Z",
     "shell.execute_reply": "2021-10-28T18:14:33.719184Z",
     "shell.execute_reply.started": "2021-10-28T18:14:32.767677Z"
    },
    "tags": []
   },
   "outputs": [],
   "source": [
    "from livelossplot import PlotLosses"
   ]
  },
  {
   "cell_type": "code",
   "execution_count": 124,
   "id": "c7768028-b24a-46af-a18a-f84d1b5dd99f",
   "metadata": {
    "ExecuteTime": {
     "end_time": "2021-05-20T16:12:33.644010Z",
     "start_time": "2021-05-20T16:12:33.615733Z"
    },
    "execution": {
     "iopub.execute_input": "2021-10-28T18:14:33.720235Z",
     "iopub.status.busy": "2021-10-28T18:14:33.720110Z",
     "iopub.status.idle": "2021-10-28T18:14:34.650361Z",
     "shell.execute_reply": "2021-10-28T18:14:34.650001Z",
     "shell.execute_reply.started": "2021-10-28T18:14:33.720220Z"
    },
    "tags": []
   },
   "outputs": [],
   "source": [
    "# Current livelossplot compatible training script\n",
    "def train_model(model, criterion, optimizer, num_epoch):\n",
    "    liveloss = PlotLosses()\n",
    "    loss_history, acc_history = {}, {}\n",
    "    for epoch in range(num_epoch):\n",
    "        logs = {}\n",
    "        for phase in ['validation', 'train']:\n",
    "            if phase == 'train':\n",
    "                if epoch < 150:\n",
    "                    model.train()\n",
    "                else:\n",
    "                    model.eval()\n",
    "            else:\n",
    "                model.eval()\n",
    "            \n",
    "            running_loss = 0.0\n",
    "            running_acc = 0.0\n",
    "            for inputs, targets in dataloaders[phase]:\n",
    "                #inputs = inputs.to(device)\n",
    "                input_forward = inputs[:, :, :, 0].to(device)\n",
    "                input_reverse = inputs[:, :, :, 1].to(device)\n",
    "                #outputs = model(inputs.float())\n",
    "                outputs = model(input_forward.float(), input_reverse.float())\n",
    "                targets = targets.unsqueeze(dim=1).to(device)\n",
    "                loss = criterion(outputs, targets.float())\n",
    "                if phase == 'train':\n",
    "                    optimizer.zero_grad()\n",
    "                    loss.backward()                \n",
    "                    optimizer.step()            \n",
    "                \n",
    "                running_loss += loss.item()\n",
    "                running_acc += project_utils.accuracy(outputs, targets)\n",
    "            \n",
    "            epoch_loss = running_loss / len(dataloaders[phase].dataset)\n",
    "            epoch_acc = running_acc / len(dataloaders[phase].dataset)\n",
    "                \n",
    "            prefix = ''\n",
    "            if phase == 'validation':\n",
    "                prefix = 'val_'\n",
    "\n",
    "            logs[prefix + 'loss'] = epoch_loss\n",
    "            logs[prefix + 'acc'] = epoch_acc\n",
    "            \n",
    "            loss_history.setdefault(phase, []).append(epoch_loss)\n",
    "            acc_history.setdefault(phase, []).append(epoch_acc)\n",
    "            \n",
    "        liveloss.update(logs)\n",
    "        liveloss.send()\n",
    "    return loss_history, acc_history, liveloss"
   ]
  },
  {
   "cell_type": "code",
   "execution_count": null,
   "id": "2fd4b3c9-16f4-42b5-bde5-53353baf24bb",
   "metadata": {
    "execution": {
     "iopub.execute_input": "2021-10-28T18:14:34.651206Z",
     "iopub.status.busy": "2021-10-28T18:14:34.651074Z"
    },
    "tags": []
   },
   "outputs": [
    {
     "data": {
      "image/png": "[encoded data removed]",
      "text/plain": [
       "<Figure size 864x576 with 2 Axes>"
      ]
     },
     "metadata": {
      "needs_background": "light"
     },
     "output_type": "display_data"
    },
    {
     "name": "stdout",
     "output_type": "stream",
     "text": [
      "Accuracy\n",
      "\tvalidation       \t (min:    0.691, max:    0.765, cur:    0.765)\n",
      "\ttraining         \t (min:    0.690, max:    0.765, cur:    0.765)\n",
      "Loss\n",
      "\tvalidation       \t (min:    0.591, max:    0.742, cur:    0.592)\n",
      "\ttraining         \t (min:    0.581, max:    0.709, cur:    0.581)\n"
     ]
    }
   ],
   "source": [
    "### Train the model\n",
    "dataloaders = {\"train\": train_loader, \"validation\": val_loader}\n",
    "optimizer = torch.optim.Adam(eugene.parameters(), lr=0.0001)\n",
    "criterion = torch.nn.BCEWithLogitsLoss(reduction='sum', pos_weight=torch.tensor(1.3))\n",
    "loss_history, acc_history, _ = train_model(eugene, criterion, optimizer, 50)"
   ]
  },
  {
   "cell_type": "markdown",
   "id": "9fde703a-1e4a-459c-81d3-181458f7ca18",
   "metadata": {
    "tags": []
   },
   "source": [
    "#### <u> **Save final model** </u> "
   ]
  },
  {
   "cell_type": "code",
   "execution_count": 33,
   "id": "064f7bb4-06de-47b0-92d3-41a89528d05f",
   "metadata": {
    "execution": {
     "iopub.execute_input": "2021-10-25T19:16:20.364092Z",
     "iopub.status.busy": "2021-10-25T19:16:20.363909Z",
     "iopub.status.idle": "2021-10-25T19:16:21.271294Z",
     "shell.execute_reply": "2021-10-25T19:16:21.270938Z",
     "shell.execute_reply.started": "2021-10-25T19:16:20.364073Z"
    },
    "tags": []
   },
   "outputs": [],
   "source": [
    "torch.save(eugene.state_dict(), \"{}_{}_{}-clf_{}.pt\".format(PREPROCESS, FEATURES, ARCHITECTURE, HYPERPARAM))"
   ]
  },
  {
   "cell_type": "markdown",
   "id": "91febd92-a935-41d1-8f23-2e3f7de9b546",
   "metadata": {
    "execution": {
     "iopub.execute_input": "2021-07-26T03:43:46.264746Z",
     "iopub.status.busy": "2021-07-26T03:43:46.264474Z",
     "iopub.status.idle": "2021-07-26T03:43:47.055876Z",
     "shell.execute_reply": "2021-07-26T03:43:47.054281Z",
     "shell.execute_reply.started": "2021-07-26T03:43:46.264712Z"
    },
    "tags": []
   },
   "source": [
    "## **RNN testing**"
   ]
  },
  {
   "cell_type": "code",
   "execution_count": 36,
   "id": "98f66439-de12-452b-b036-062f27b3e7b6",
   "metadata": {
    "execution": {
     "iopub.execute_input": "2021-10-25T19:16:42.363582Z",
     "iopub.status.busy": "2021-10-25T19:16:42.363377Z",
     "iopub.status.idle": "2021-10-25T19:16:43.268122Z",
     "shell.execute_reply": "2021-10-25T19:16:43.267729Z",
     "shell.execute_reply.started": "2021-10-25T19:16:42.363558Z"
    },
    "tags": []
   },
   "outputs": [
    {
     "data": {
      "text/plain": [
       "EUGENE_RNN(\n",
       "  (lstm): LSTM(66, 32, batch_first=True, bidirectional=True)\n",
       "  (fc): Linear(in_features=64, out_features=1, bias=True)\n",
       ")"
      ]
     },
     "execution_count": 36,
     "metadata": {},
     "output_type": "execute_result"
    }
   ],
   "source": [
    "from EUGENE_RNN import EUGENE_RNN\n",
    "test_eugene = EUGENE_RNN(66)\n",
    "test_eugene.load_state_dict(torch.load(\"{}_{}_{}-clf_{}.pt\".format(PREPROCESS, FEATURES, ARCHITECTURE, HYPERPARAM), map_location=torch.device('cpu')))\n",
    "test_eugene.eval()"
   ]
  },
  {
   "cell_type": "code",
   "execution_count": 37,
   "id": "8652eefe-9e69-4302-b2a3-f7393164dc0c",
   "metadata": {
    "execution": {
     "iopub.execute_input": "2021-10-25T19:16:44.569424Z",
     "iopub.status.busy": "2021-10-25T19:16:44.569254Z",
     "iopub.status.idle": "2021-10-25T19:16:47.498278Z",
     "shell.execute_reply": "2021-10-25T19:16:47.497844Z",
     "shell.execute_reply.started": "2021-10-25T19:16:44.569405Z"
    },
    "tags": []
   },
   "outputs": [],
   "source": [
    "y_tr_outputs = test_eugene(torch.tensor(X_train).float()).detach()\n",
    "y_tr_probs = torch.sigmoid(y_tr_outputs).detach().numpy()\n",
    "y_tr_preds = np.round(y_tr_probs)"
   ]
  },
  {
   "cell_type": "code",
   "execution_count": 38,
   "id": "19e62208-c5f2-40ac-83a0-35dbbc57abed",
   "metadata": {
    "execution": {
     "iopub.execute_input": "2021-10-25T19:16:47.499146Z",
     "iopub.status.busy": "2021-10-25T19:16:47.499006Z",
     "iopub.status.idle": "2021-10-25T19:16:48.472492Z",
     "shell.execute_reply": "2021-10-25T19:16:48.472068Z",
     "shell.execute_reply.started": "2021-10-25T19:16:47.499129Z"
    },
    "tags": []
   },
   "outputs": [],
   "source": [
    "y_outputs = test_eugene(torch.tensor(X_test).float()).detach()\n",
    "y_probs = torch.sigmoid(y_outputs).detach().numpy()\n",
    "y_preds = np.round(y_probs)"
   ]
  },
  {
   "cell_type": "markdown",
   "id": "ff1bcc36-d8bc-4c73-bf62-7ee1b329d0ff",
   "metadata": {
    "tags": []
   },
   "source": [
    "### <u>**Confusion matrices** </u>"
   ]
  },
  {
   "cell_type": "code",
   "execution_count": 39,
   "id": "114750cb-3878-4d26-bf7c-0d50c56e0c7c",
   "metadata": {
    "execution": {
     "iopub.execute_input": "2021-10-25T19:16:48.473441Z",
     "iopub.status.busy": "2021-10-25T19:16:48.473228Z",
     "iopub.status.idle": "2021-10-25T19:16:49.235089Z",
     "shell.execute_reply": "2021-10-25T19:16:49.234706Z",
     "shell.execute_reply.started": "2021-10-25T19:16:48.473423Z"
    },
    "tags": []
   },
   "outputs": [],
   "source": [
    "from sklearn.metrics import confusion_matrix"
   ]
  },
  {
   "cell_type": "code",
   "execution_count": 40,
   "id": "834f72ee-d2f1-479b-a1d7-8163315c68b0",
   "metadata": {
    "execution": {
     "iopub.execute_input": "2021-10-25T19:16:49.235915Z",
     "iopub.status.busy": "2021-10-25T19:16:49.235773Z",
     "iopub.status.idle": "2021-10-25T19:16:50.050117Z",
     "shell.execute_reply": "2021-10-25T19:16:50.049716Z",
     "shell.execute_reply.started": "2021-10-25T19:16:49.235898Z"
    },
    "tags": []
   },
   "outputs": [
    {
     "data": {
      "text/plain": [
       "((array([0., 1.], dtype=float32), array([206191,  66451])),\n",
       " (array([0., 1.], dtype=float32), array([22891,  7403])))"
      ]
     },
     "execution_count": 40,
     "metadata": {},
     "output_type": "execute_result"
    }
   ],
   "source": [
    "np.unique(y_tr_preds, return_counts=True), np.unique(y_preds, return_counts=True)"
   ]
  },
  {
   "cell_type": "code",
   "execution_count": 41,
   "id": "f4e6f137-ebdb-4e69-b29f-f2707d50c5d4",
   "metadata": {
    "execution": {
     "iopub.execute_input": "2021-10-25T19:16:50.050805Z",
     "iopub.status.busy": "2021-10-25T19:16:50.050679Z",
     "iopub.status.idle": "2021-10-25T19:16:52.985892Z",
     "shell.execute_reply": "2021-10-25T19:16:52.985467Z",
     "shell.execute_reply.started": "2021-10-25T19:16:50.050790Z"
    },
    "tags": []
   },
   "outputs": [
    {
     "data": {
      "image/png": "[encoded data removed]",
      "text/plain": [
       "<Figure size 1152x576 with 4 Axes>"
      ]
     },
     "metadata": {
      "needs_background": "light"
     },
     "output_type": "display_data"
    }
   ],
   "source": [
    "fig, ax = plt.subplots(1,2,figsize=(16,8))\n",
    "\n",
    "rc = {'font.size': 20}\n",
    "with plt.rc_context(rc):\n",
    "    sns.heatmap(confusion_matrix(y_train, y_tr_preds), annot=True, fmt='d', cmap='viridis', ax=ax[0])\n",
    "    ax[0].set_xlabel('predicted')\n",
    "    ax[0].set_ylabel('true label')\n",
    "    ax[0].set_title('Train Set')\n",
    "\n",
    "    sns.heatmap(confusion_matrix(y_test, y_preds), annot=True, fmt='d', cmap='viridis', ax=ax[1])\n",
    "    ax[1].set_xlabel('predicted')\n",
    "    ax[1].set_ylabel('true label')\n",
    "    ax[1].set_title('Test Set')\n",
    "    \n",
    "    plt.tight_layout()"
   ]
  },
  {
   "cell_type": "markdown",
   "id": "b43f80fd-79fd-464a-a19f-6b0596d6fb75",
   "metadata": {
    "tags": []
   },
   "source": [
    "### <u> **Accuracies** </u>"
   ]
  },
  {
   "cell_type": "code",
   "execution_count": 42,
   "id": "ec3162d0-fa7b-4e57-97cc-c97bce860fba",
   "metadata": {
    "execution": {
     "iopub.execute_input": "2021-10-25T19:16:52.987059Z",
     "iopub.status.busy": "2021-10-25T19:16:52.986914Z",
     "iopub.status.idle": "2021-10-25T19:16:53.809232Z",
     "shell.execute_reply": "2021-10-25T19:16:53.808856Z",
     "shell.execute_reply.started": "2021-10-25T19:16:52.987042Z"
    },
    "tags": []
   },
   "outputs": [],
   "source": [
    "from sklearn.metrics import accuracy_score"
   ]
  },
  {
   "cell_type": "code",
   "execution_count": 43,
   "id": "db96b533-d34f-4e16-adf2-f0e29813c4eb",
   "metadata": {
    "execution": {
     "iopub.execute_input": "2021-10-25T19:16:53.810113Z",
     "iopub.status.busy": "2021-10-25T19:16:53.809979Z",
     "iopub.status.idle": "2021-10-25T19:16:54.558315Z",
     "shell.execute_reply": "2021-10-25T19:16:54.557954Z",
     "shell.execute_reply.started": "2021-10-25T19:16:53.810097Z"
    },
    "tags": []
   },
   "outputs": [],
   "source": [
    "train_acc, test_acc = accuracy_score(y_true=y_train, y_pred=y_tr_preds), accuracy_score(y_true=y_test, y_pred=y_preds)"
   ]
  },
  {
   "cell_type": "code",
   "execution_count": 44,
   "id": "24513428-3695-4432-ac1d-cd2a93090b64",
   "metadata": {
    "execution": {
     "iopub.execute_input": "2021-10-25T19:16:54.559074Z",
     "iopub.status.busy": "2021-10-25T19:16:54.558941Z",
     "iopub.status.idle": "2021-10-25T19:16:55.541085Z",
     "shell.execute_reply": "2021-10-25T19:16:55.540741Z",
     "shell.execute_reply.started": "2021-10-25T19:16:54.559058Z"
    },
    "tags": []
   },
   "outputs": [
    {
     "name": "stdout",
     "output_type": "stream",
     "text": [
      "Train Acc\tTest Acc\n",
      "0.7508\t0.7468\n"
     ]
    }
   ],
   "source": [
    "print(\"Train Acc\", \"Test Acc\", sep='\\t')\n",
    "print(\"{:.4}\\t{:.4f}\".format(train_acc, test_acc))"
   ]
  },
  {
   "cell_type": "markdown",
   "id": "e98aba5b-41f3-445a-95b3-36a016544abe",
   "metadata": {
    "tags": []
   },
   "source": [
    "### <u> **F-scores** </u>"
   ]
  },
  {
   "cell_type": "code",
   "execution_count": 46,
   "id": "afe83fa0-6a8f-474b-a057-ca22c2858785",
   "metadata": {
    "execution": {
     "iopub.execute_input": "2021-10-25T19:17:03.415357Z",
     "iopub.status.busy": "2021-10-25T19:17:03.415172Z",
     "iopub.status.idle": "2021-10-25T19:17:04.268781Z",
     "shell.execute_reply": "2021-10-25T19:17:04.268398Z",
     "shell.execute_reply.started": "2021-10-25T19:17:03.415339Z"
    },
    "tags": []
   },
   "outputs": [],
   "source": [
    "from sklearn.metrics import precision_score, recall_score, f1_score"
   ]
  },
  {
   "cell_type": "code",
   "execution_count": 47,
   "id": "70709319-cf0f-4bce-9fc2-10158cd20533",
   "metadata": {
    "execution": {
     "iopub.execute_input": "2021-10-25T19:17:04.269562Z",
     "iopub.status.busy": "2021-10-25T19:17:04.269425Z",
     "iopub.status.idle": "2021-10-25T19:17:05.010913Z",
     "shell.execute_reply": "2021-10-25T19:17:05.010545Z",
     "shell.execute_reply.started": "2021-10-25T19:17:04.269545Z"
    },
    "tags": []
   },
   "outputs": [],
   "source": [
    "def fbeta_score(pr, rec, beta):\n",
    "    return (1+(beta**2))*((pr*rec)/(((beta**2)*pr)+rec))"
   ]
  },
  {
   "cell_type": "code",
   "execution_count": 48,
   "id": "620f881f-acd9-4e43-abb8-48cbc7ea4a30",
   "metadata": {
    "execution": {
     "iopub.execute_input": "2021-10-25T19:17:05.011734Z",
     "iopub.status.busy": "2021-10-25T19:17:05.011604Z",
     "iopub.status.idle": "2021-10-25T19:17:06.015675Z",
     "shell.execute_reply": "2021-10-25T19:17:06.015283Z",
     "shell.execute_reply.started": "2021-10-25T19:17:05.011719Z"
    },
    "tags": []
   },
   "outputs": [],
   "source": [
    "train_prec, test_prec = precision_score(y_true=y_train, y_pred=y_tr_preds), precision_score(y_true=y_test, y_pred=y_preds)"
   ]
  },
  {
   "cell_type": "code",
   "execution_count": 49,
   "id": "97ec3695-8ee5-4bc0-adc7-b7dfbcdb7883",
   "metadata": {
    "execution": {
     "iopub.execute_input": "2021-10-25T19:17:06.016705Z",
     "iopub.status.busy": "2021-10-25T19:17:06.016551Z",
     "iopub.status.idle": "2021-10-25T19:17:06.985535Z",
     "shell.execute_reply": "2021-10-25T19:17:06.985141Z",
     "shell.execute_reply.started": "2021-10-25T19:17:06.016688Z"
    },
    "tags": []
   },
   "outputs": [],
   "source": [
    "train_recall, test_recall = recall_score(y_true=y_train, y_pred=y_tr_preds), recall_score(y_true=y_test, y_pred=y_preds)"
   ]
  },
  {
   "cell_type": "code",
   "execution_count": 50,
   "id": "276faf4f-d426-47f8-9d74-d9cf8d8f2bd2",
   "metadata": {
    "execution": {
     "iopub.execute_input": "2021-10-25T19:17:06.986302Z",
     "iopub.status.busy": "2021-10-25T19:17:06.986164Z",
     "iopub.status.idle": "2021-10-25T19:17:07.990615Z",
     "shell.execute_reply": "2021-10-25T19:17:07.990193Z",
     "shell.execute_reply.started": "2021-10-25T19:17:06.986286Z"
    },
    "tags": []
   },
   "outputs": [],
   "source": [
    "train_f1, test_f1 = f1_score(y_true=y_train, y_pred=y_tr_preds), f1_score(y_true=y_test, y_pred=y_preds)"
   ]
  },
  {
   "cell_type": "code",
   "execution_count": 51,
   "id": "d1665445-a6d3-44f4-93aa-b51f1f4cc3f5",
   "metadata": {
    "execution": {
     "iopub.execute_input": "2021-10-25T19:17:07.991674Z",
     "iopub.status.busy": "2021-10-25T19:17:07.991435Z",
     "iopub.status.idle": "2021-10-25T19:17:08.939959Z",
     "shell.execute_reply": "2021-10-25T19:17:08.939417Z",
     "shell.execute_reply.started": "2021-10-25T19:17:07.991656Z"
    },
    "tags": []
   },
   "outputs": [],
   "source": [
    "fbeta_tr_scores = []\n",
    "fbeta_scores = []\n",
    "for b in [0.1, 0.5, 1, 2, 10]:\n",
    "    fbeta_tr_scores.append(fbeta_score(train_prec, train_recall, b))\n",
    "    fbeta_scores.append(fbeta_score(test_prec, test_recall, b))"
   ]
  },
  {
   "cell_type": "code",
   "execution_count": 52,
   "id": "5c2d9aae-c79e-49a3-97ba-c8e784a11cf6",
   "metadata": {
    "execution": {
     "iopub.execute_input": "2021-10-25T19:17:08.940797Z",
     "iopub.status.busy": "2021-10-25T19:17:08.940662Z",
     "iopub.status.idle": "2021-10-25T19:17:09.711732Z",
     "shell.execute_reply": "2021-10-25T19:17:09.711367Z",
     "shell.execute_reply.started": "2021-10-25T19:17:08.940781Z"
    },
    "tags": []
   },
   "outputs": [
    {
     "name": "stdout",
     "output_type": "stream",
     "text": [
      "Metric\tTrain\tTest\n",
      "Precision\t0.6273\t0.6138\n",
      "Recall\t0.4913\t0.4857\n",
      "F0.1-Score\t0.6256\t0.6122\n",
      "F0.5-Score\t0.5944\t0.5830\n",
      "F1-Score\t0.5510\t0.5423\n",
      "F2-Score\t0.5135\t0.5068\n",
      "F10-Score\t0.4923\t0.4867\n"
     ]
    }
   ],
   "source": [
    "print(\"Metric\", \"Train\", \"Test\", sep='\\t')\n",
    "print(\"{:s}\\t{:.4f}\\t{:.4f}\".format(\"Precision\", train_prec, test_prec))\n",
    "print(\"{:s}\\t{:.4f}\\t{:.4f}\".format(\"Recall\", train_recall, test_recall))\n",
    "#print(\"{:s}\\t{:.4f}\\t{:.4f}\".format(\"F1-Score\", train_f1, test_f1))\n",
    "for i, b in enumerate([0.1, 0.5, 1, 2, 10]):\n",
    "    print(\"F{:s}-Score\\t{:.4f}\\t{:.4f}\".format(str(b), fbeta_tr_scores[i], fbeta_scores[i])) "
   ]
  },
  {
   "cell_type": "markdown",
   "id": "16a4bf26-839b-4ef3-99c2-ac5453763572",
   "metadata": {
    "tags": []
   },
   "source": [
    "### <u> **Precision-recall** </u>"
   ]
  },
  {
   "cell_type": "code",
   "execution_count": 53,
   "id": "f26f32c6-ac7e-45cb-af72-fb61b39db87e",
   "metadata": {
    "execution": {
     "iopub.execute_input": "2021-10-25T19:17:09.712440Z",
     "iopub.status.busy": "2021-10-25T19:17:09.712311Z",
     "iopub.status.idle": "2021-10-25T19:17:10.664932Z",
     "shell.execute_reply": "2021-10-25T19:17:10.664573Z",
     "shell.execute_reply.started": "2021-10-25T19:17:09.712424Z"
    },
    "tags": []
   },
   "outputs": [],
   "source": [
    "from sklearn.metrics import precision_recall_curve, average_precision_score"
   ]
  },
  {
   "cell_type": "code",
   "execution_count": 54,
   "id": "75b73cbf-3ab3-48c1-a0cb-fe98aaa08409",
   "metadata": {
    "execution": {
     "iopub.execute_input": "2021-10-25T19:17:10.665848Z",
     "iopub.status.busy": "2021-10-25T19:17:10.665714Z",
     "iopub.status.idle": "2021-10-25T19:17:11.623952Z",
     "shell.execute_reply": "2021-10-25T19:17:11.623525Z",
     "shell.execute_reply.started": "2021-10-25T19:17:10.665828Z"
    },
    "tags": []
   },
   "outputs": [],
   "source": [
    "precs_tr, recs_tr, threshs_tr = precision_recall_curve(y_true=y_train, probas_pred=y_tr_probs)\n",
    "avg_prec_tr = average_precision_score(y_true=y_train, y_score=y_tr_probs)"
   ]
  },
  {
   "cell_type": "code",
   "execution_count": 55,
   "id": "7544ba97-52d1-4b09-bc8c-18e0e0ed485b",
   "metadata": {
    "execution": {
     "iopub.execute_input": "2021-10-25T19:17:11.624931Z",
     "iopub.status.busy": "2021-10-25T19:17:11.624780Z",
     "iopub.status.idle": "2021-10-25T19:17:12.596609Z",
     "shell.execute_reply": "2021-10-25T19:17:12.596245Z",
     "shell.execute_reply.started": "2021-10-25T19:17:11.624914Z"
    },
    "tags": []
   },
   "outputs": [],
   "source": [
    "precs, recs, threshs = precision_recall_curve(y_true=y_test, probas_pred=y_probs)\n",
    "avg_prec = average_precision_score(y_true=y_test, y_score=y_probs)"
   ]
  },
  {
   "cell_type": "code",
   "execution_count": 56,
   "id": "3642ab2b-43b7-4d25-9aa5-8ac7c66587a1",
   "metadata": {
    "execution": {
     "iopub.execute_input": "2021-10-25T19:17:12.597366Z",
     "iopub.status.busy": "2021-10-25T19:17:12.597232Z",
     "iopub.status.idle": "2021-10-25T19:17:13.451672Z",
     "shell.execute_reply": "2021-10-25T19:17:13.451311Z",
     "shell.execute_reply.started": "2021-10-25T19:17:12.597350Z"
    },
    "tags": []
   },
   "outputs": [
    {
     "data": {
      "text/plain": [
       "(0.6249521313438444, 0.6118285926811063)"
      ]
     },
     "execution_count": 56,
     "metadata": {},
     "output_type": "execute_result"
    }
   ],
   "source": [
    "avg_prec_tr, avg_prec"
   ]
  },
  {
   "cell_type": "code",
   "execution_count": 57,
   "id": "32f6ceeb-10d4-4bcd-b6c3-6d84aedafdea",
   "metadata": {
    "execution": {
     "iopub.execute_input": "2021-10-25T19:17:13.452363Z",
     "iopub.status.busy": "2021-10-25T19:17:13.452235Z",
     "iopub.status.idle": "2021-10-25T19:17:15.155036Z",
     "shell.execute_reply": "2021-10-25T19:17:15.154608Z",
     "shell.execute_reply.started": "2021-10-25T19:17:13.452348Z"
    },
    "tags": []
   },
   "outputs": [
    {
     "data": {
      "image/png": "[encoded data removed]",
      "text/plain": [
       "<Figure size 576x576 with 1 Axes>"
      ]
     },
     "metadata": {
      "needs_background": "light"
     },
     "output_type": "display_data"
    }
   ],
   "source": [
    "fig, ax = plt.subplots(1,1, figsize=(8,8))\n",
    "ax.step(recs_tr, precs_tr, where='post', lw=3, alpha=0.4, label='Training auPRC = %0.4f' % (avg_prec_tr))\n",
    "ax.step(recs, precs, where='post', lw=3, alpha=0.4, label='Testing auPRC = %0.4f' % (avg_prec))\n",
    "ax.axhline(len(y_test[y_test==1])/len(y_test), linestyle='--', lw=3, color='k', label='No skill', alpha=.8)\n",
    "ax.set_xlim([-0.05, 1.05])\n",
    "ax.set_ylim([-0.05, 1.05])\n",
    "ax.set_xlabel('Recall', fontsize=18)\n",
    "ax.set_ylabel('Precision', fontsize=18)\n",
    "ax.set_title('Precision recall', fontsize=18)\n",
    "ax.legend(loc=\"lower right\", fontsize=16);"
   ]
  },
  {
   "cell_type": "markdown",
   "id": "6acd3e9e-7a8b-4e81-b221-823515749bfc",
   "metadata": {
    "tags": []
   },
   "source": [
    "### <u> **Reciever operating characteristic** </u>"
   ]
  },
  {
   "cell_type": "code",
   "execution_count": 58,
   "id": "e2292c1e-65db-4abf-ac15-2c58e7a2afbe",
   "metadata": {
    "execution": {
     "iopub.execute_input": "2021-10-25T19:17:15.155766Z",
     "iopub.status.busy": "2021-10-25T19:17:15.155633Z",
     "iopub.status.idle": "2021-10-25T19:17:15.888719Z",
     "shell.execute_reply": "2021-10-25T19:17:15.888337Z",
     "shell.execute_reply.started": "2021-10-25T19:17:15.155750Z"
    },
    "tags": []
   },
   "outputs": [],
   "source": [
    "from sklearn.metrics import roc_curve, auc"
   ]
  },
  {
   "cell_type": "code",
   "execution_count": 59,
   "id": "00550cc9-ecde-4961-9788-d4916d3183eb",
   "metadata": {
    "execution": {
     "iopub.execute_input": "2021-10-25T19:17:15.889453Z",
     "iopub.status.busy": "2021-10-25T19:17:15.889323Z",
     "iopub.status.idle": "2021-10-25T19:17:16.734652Z",
     "shell.execute_reply": "2021-10-25T19:17:16.734251Z",
     "shell.execute_reply.started": "2021-10-25T19:17:15.889438Z"
    },
    "tags": []
   },
   "outputs": [],
   "source": [
    "fprs_tr, tprs_tr, threshs_tr = roc_curve(y_true=y_train, y_score=y_tr_probs)\n",
    "roc_auc_tr = auc(fprs_tr, tprs_tr)"
   ]
  },
  {
   "cell_type": "code",
   "execution_count": 60,
   "id": "569c0e58-66b1-4a9d-b121-3269f08ea7b7",
   "metadata": {
    "execution": {
     "iopub.execute_input": "2021-10-25T19:17:16.735810Z",
     "iopub.status.busy": "2021-10-25T19:17:16.735670Z",
     "iopub.status.idle": "2021-10-25T19:17:17.658583Z",
     "shell.execute_reply": "2021-10-25T19:17:17.658198Z",
     "shell.execute_reply.started": "2021-10-25T19:17:16.735794Z"
    },
    "tags": []
   },
   "outputs": [],
   "source": [
    "fprs, tprs, threshs = roc_curve(y_true=y_test, y_score=y_probs)\n",
    "roc_auc = auc(fprs, tprs)"
   ]
  },
  {
   "cell_type": "code",
   "execution_count": 61,
   "id": "5c819388-bade-4caa-9a84-8a613cfcf791",
   "metadata": {
    "execution": {
     "iopub.execute_input": "2021-10-25T19:17:17.659414Z",
     "iopub.status.busy": "2021-10-25T19:17:17.659280Z",
     "iopub.status.idle": "2021-10-25T19:17:18.473251Z",
     "shell.execute_reply": "2021-10-25T19:17:18.472872Z",
     "shell.execute_reply.started": "2021-10-25T19:17:17.659397Z"
    },
    "tags": []
   },
   "outputs": [
    {
     "data": {
      "text/plain": [
       "(0.7600349535243427, 0.7522449905135343)"
      ]
     },
     "execution_count": 61,
     "metadata": {},
     "output_type": "execute_result"
    }
   ],
   "source": [
    "roc_auc_tr, roc_auc"
   ]
  },
  {
   "cell_type": "code",
   "execution_count": 62,
   "id": "286432ee-cbe2-441f-82cb-37f2f878a1c7",
   "metadata": {
    "execution": {
     "iopub.execute_input": "2021-10-25T19:17:18.473965Z",
     "iopub.status.busy": "2021-10-25T19:17:18.473829Z",
     "iopub.status.idle": "2021-10-25T19:17:20.209235Z",
     "shell.execute_reply": "2021-10-25T19:17:20.208872Z",
     "shell.execute_reply.started": "2021-10-25T19:17:18.473949Z"
    },
    "tags": []
   },
   "outputs": [
    {
     "data": {
      "image/png": "[encoded data removed]",
      "text/plain": [
       "<Figure size 864x576 with 1 Axes>"
      ]
     },
     "metadata": {
      "needs_background": "light"
     },
     "output_type": "display_data"
    }
   ],
   "source": [
    "fig, ax = plt.subplots(1, 1, figsize=(12,8))\n",
    "ax.plot(fprs_tr, tprs_tr, lw=3, alpha=0.4, label='Training (auROC = %0.4f)' % (roc_auc_tr))\n",
    "ax.plot(fprs, tprs, lw=3, alpha=0.4, label='Test (auROC= %0.4f)' % (roc_auc))\n",
    "ax.plot([0, 1], [0, 1], linestyle='--', lw=3, color='k', label='No skill', alpha=.8)\n",
    "ax.set_xlim([-0.05, 1.05])\n",
    "ax.set_ylim([-0.05, 1.05])\n",
    "ax.set_xlabel('False Positive Rate', fontsize=18)\n",
    "ax.set_ylabel('True Positive Rate', fontsize=18)\n",
    "ax.set_title('Receiver operating characteristic', fontsize=18)\n",
    "ax.legend(loc=\"lower right\", fontsize=16);"
   ]
  },
  {
   "cell_type": "markdown",
   "id": "3e26aed2-e491-4ed7-a653-2b31d371a045",
   "metadata": {},
   "source": [
    "# Scratch"
   ]
  },
  {
   "cell_type": "code",
   "execution_count": null,
   "id": "794c7490-d3f4-4adc-a968-3f7e0ed61f99",
   "metadata": {
    "execution": {
     "iopub.status.busy": "2021-10-25T19:16:56.442407Z",
     "iopub.status.idle": "2021-10-25T19:16:56.442644Z",
     "shell.execute_reply": "2021-10-25T19:16:56.442558Z"
    }
   },
   "outputs": [],
   "source": [
    "train_loader = DataLoader(train_dataset, batch_size=len(X_test))\n",
    "eugene.to(\"cpu\")\n",
    "for X_train_tensor, y_train_tensor in val_loader:\n",
    "    pass\n",
    "y_tr_outputs = eugene(X_train_tensor.float()).detach()\n",
    "y_tr_probs = torch.sigmoid(y_tr_outputs).detach().numpy()\n",
    "y_tr_preds = np.round(y_tr_probs)"
   ]
  },
  {
   "cell_type": "code",
   "execution_count": 91,
   "id": "c4f11b83-b545-44ce-a0b9-d926f2dd62d0",
   "metadata": {
    "execution": {
     "iopub.execute_input": "2021-09-23T22:42:50.075771Z",
     "iopub.status.busy": "2021-09-23T22:42:50.075554Z",
     "iopub.status.idle": "2021-09-23T22:42:52.459676Z",
     "shell.execute_reply": "2021-09-23T22:42:52.459307Z",
     "shell.execute_reply.started": "2021-09-23T22:42:50.075744Z"
    },
    "tags": []
   },
   "outputs": [],
   "source": [
    "val_loader = DataLoader(val_dataset, batch_size=len(X_test))\n",
    "eugene.to(\"cpu\")\n",
    "for X_test_tensor, y_test_tensor in val_loader:\n",
    "    pass\n",
    "y_outputs = eugene(X_test_tensor.float()).detach()\n",
    "y_probs = torch.sigmoid(y_outputs).detach().numpy()\n",
    "y_preds = np.round(y_probs)"
   ]
  },
  {
   "cell_type": "markdown",
   "id": "20590172-8424-4e59-a246-126b4bee5c3c",
   "metadata": {
    "tags": []
   },
   "source": [
    "### <u>**Confusion matrices** </u>"
   ]
  },
  {
   "cell_type": "code",
   "execution_count": 86,
   "id": "6d03d0a6-18ea-409e-a738-b6288e29b11a",
   "metadata": {
    "execution": {
     "iopub.execute_input": "2021-09-23T22:41:21.414918Z",
     "iopub.status.busy": "2021-09-23T22:41:21.414711Z",
     "iopub.status.idle": "2021-09-23T22:41:21.992523Z",
     "shell.execute_reply": "2021-09-23T22:41:21.992136Z",
     "shell.execute_reply.started": "2021-09-23T22:41:21.414900Z"
    },
    "tags": []
   },
   "outputs": [],
   "source": [
    "from sklearn.metrics import confusion_matrix"
   ]
  },
  {
   "cell_type": "code",
   "execution_count": 87,
   "id": "fbf298f7-38b8-496d-b75b-c822c56d0a81",
   "metadata": {
    "execution": {
     "iopub.execute_input": "2021-09-23T22:41:27.506970Z",
     "iopub.status.busy": "2021-09-23T22:41:27.506819Z",
     "iopub.status.idle": "2021-09-23T22:41:28.362424Z",
     "shell.execute_reply": "2021-09-23T22:41:28.361967Z",
     "shell.execute_reply.started": "2021-09-23T22:41:27.506955Z"
    },
    "tags": []
   },
   "outputs": [
    {
     "ename": "RuntimeError",
     "evalue": "Can't call numpy() on Tensor that requires grad. Use tensor.detach().numpy() instead.",
     "output_type": "error",
     "traceback": [
      "\u001b[0;31m---------------------------------------------------------------------------\u001b[0m",
      "\u001b[0;31mRuntimeError\u001b[0m                              Traceback (most recent call last)",
      "\u001b[0;32m<ipython-input-87-b71b4524e8bc>\u001b[0m in \u001b[0;36m<module>\u001b[0;34m\u001b[0m\n\u001b[1;32m      1\u001b[0m \u001b[0;31m#np.unique(y_tr_preds, return_counts=True)\u001b[0m\u001b[0;34m\u001b[0m\u001b[0;34m\u001b[0m\u001b[0;34m\u001b[0m\u001b[0m\n\u001b[0;32m----> 2\u001b[0;31m \u001b[0mnp\u001b[0m\u001b[0;34m.\u001b[0m\u001b[0munique\u001b[0m\u001b[0;34m(\u001b[0m\u001b[0my_preds\u001b[0m\u001b[0;34m,\u001b[0m \u001b[0mreturn_counts\u001b[0m\u001b[0;34m=\u001b[0m\u001b[0;32mTrue\u001b[0m\u001b[0;34m)\u001b[0m\u001b[0;34m\u001b[0m\u001b[0;34m\u001b[0m\u001b[0m\n\u001b[0m",
      "\u001b[0;32m<__array_function__ internals>\u001b[0m in \u001b[0;36munique\u001b[0;34m(*args, **kwargs)\u001b[0m\n",
      "\u001b[0;32m~/opt/miniconda3/envs/ml_env/lib/python3.8/site-packages/numpy/lib/arraysetops.py\u001b[0m in \u001b[0;36munique\u001b[0;34m(ar, return_index, return_inverse, return_counts, axis)\u001b[0m\n\u001b[1;32m    258\u001b[0m \u001b[0;34m\u001b[0m\u001b[0m\n\u001b[1;32m    259\u001b[0m     \"\"\"\n\u001b[0;32m--> 260\u001b[0;31m     \u001b[0mar\u001b[0m \u001b[0;34m=\u001b[0m \u001b[0mnp\u001b[0m\u001b[0;34m.\u001b[0m\u001b[0masanyarray\u001b[0m\u001b[0;34m(\u001b[0m\u001b[0mar\u001b[0m\u001b[0;34m)\u001b[0m\u001b[0;34m\u001b[0m\u001b[0;34m\u001b[0m\u001b[0m\n\u001b[0m\u001b[1;32m    261\u001b[0m     \u001b[0;32mif\u001b[0m \u001b[0maxis\u001b[0m \u001b[0;32mis\u001b[0m \u001b[0;32mNone\u001b[0m\u001b[0;34m:\u001b[0m\u001b[0;34m\u001b[0m\u001b[0;34m\u001b[0m\u001b[0m\n\u001b[1;32m    262\u001b[0m         \u001b[0mret\u001b[0m \u001b[0;34m=\u001b[0m \u001b[0m_unique1d\u001b[0m\u001b[0;34m(\u001b[0m\u001b[0mar\u001b[0m\u001b[0;34m,\u001b[0m \u001b[0mreturn_index\u001b[0m\u001b[0;34m,\u001b[0m \u001b[0mreturn_inverse\u001b[0m\u001b[0;34m,\u001b[0m \u001b[0mreturn_counts\u001b[0m\u001b[0;34m)\u001b[0m\u001b[0;34m\u001b[0m\u001b[0;34m\u001b[0m\u001b[0m\n",
      "\u001b[0;32m~/opt/miniconda3/envs/ml_env/lib/python3.8/site-packages/numpy/core/_asarray.py\u001b[0m in \u001b[0;36masanyarray\u001b[0;34m(a, dtype, order, like)\u001b[0m\n\u001b[1;32m    169\u001b[0m         \u001b[0;32mreturn\u001b[0m \u001b[0m_asanyarray_with_like\u001b[0m\u001b[0;34m(\u001b[0m\u001b[0ma\u001b[0m\u001b[0;34m,\u001b[0m \u001b[0mdtype\u001b[0m\u001b[0;34m=\u001b[0m\u001b[0mdtype\u001b[0m\u001b[0;34m,\u001b[0m \u001b[0morder\u001b[0m\u001b[0;34m=\u001b[0m\u001b[0morder\u001b[0m\u001b[0;34m,\u001b[0m \u001b[0mlike\u001b[0m\u001b[0;34m=\u001b[0m\u001b[0mlike\u001b[0m\u001b[0;34m)\u001b[0m\u001b[0;34m\u001b[0m\u001b[0;34m\u001b[0m\u001b[0m\n\u001b[1;32m    170\u001b[0m \u001b[0;34m\u001b[0m\u001b[0m\n\u001b[0;32m--> 171\u001b[0;31m     \u001b[0;32mreturn\u001b[0m \u001b[0marray\u001b[0m\u001b[0;34m(\u001b[0m\u001b[0ma\u001b[0m\u001b[0;34m,\u001b[0m \u001b[0mdtype\u001b[0m\u001b[0;34m,\u001b[0m \u001b[0mcopy\u001b[0m\u001b[0;34m=\u001b[0m\u001b[0;32mFalse\u001b[0m\u001b[0;34m,\u001b[0m \u001b[0morder\u001b[0m\u001b[0;34m=\u001b[0m\u001b[0morder\u001b[0m\u001b[0;34m,\u001b[0m \u001b[0msubok\u001b[0m\u001b[0;34m=\u001b[0m\u001b[0;32mTrue\u001b[0m\u001b[0;34m)\u001b[0m\u001b[0;34m\u001b[0m\u001b[0;34m\u001b[0m\u001b[0m\n\u001b[0m\u001b[1;32m    172\u001b[0m \u001b[0;34m\u001b[0m\u001b[0m\n\u001b[1;32m    173\u001b[0m \u001b[0;34m\u001b[0m\u001b[0m\n",
      "\u001b[0;32m~/opt/miniconda3/envs/ml_env/lib/python3.8/site-packages/torch/tensor.py\u001b[0m in \u001b[0;36m__array__\u001b[0;34m(self, dtype)\u001b[0m\n\u001b[1;32m    628\u001b[0m             \u001b[0;32mreturn\u001b[0m \u001b[0mhandle_torch_function\u001b[0m\u001b[0;34m(\u001b[0m\u001b[0mTensor\u001b[0m\u001b[0;34m.\u001b[0m\u001b[0m__array__\u001b[0m\u001b[0;34m,\u001b[0m \u001b[0mrelevant_args\u001b[0m\u001b[0;34m,\u001b[0m \u001b[0mself\u001b[0m\u001b[0;34m,\u001b[0m \u001b[0mdtype\u001b[0m\u001b[0;34m=\u001b[0m\u001b[0mdtype\u001b[0m\u001b[0;34m)\u001b[0m\u001b[0;34m\u001b[0m\u001b[0;34m\u001b[0m\u001b[0m\n\u001b[1;32m    629\u001b[0m         \u001b[0;32mif\u001b[0m \u001b[0mdtype\u001b[0m \u001b[0;32mis\u001b[0m \u001b[0;32mNone\u001b[0m\u001b[0;34m:\u001b[0m\u001b[0;34m\u001b[0m\u001b[0;34m\u001b[0m\u001b[0m\n\u001b[0;32m--> 630\u001b[0;31m             \u001b[0;32mreturn\u001b[0m \u001b[0mself\u001b[0m\u001b[0;34m.\u001b[0m\u001b[0mnumpy\u001b[0m\u001b[0;34m(\u001b[0m\u001b[0;34m)\u001b[0m\u001b[0;34m\u001b[0m\u001b[0;34m\u001b[0m\u001b[0m\n\u001b[0m\u001b[1;32m    631\u001b[0m         \u001b[0;32melse\u001b[0m\u001b[0;34m:\u001b[0m\u001b[0;34m\u001b[0m\u001b[0;34m\u001b[0m\u001b[0m\n\u001b[1;32m    632\u001b[0m             \u001b[0;32mreturn\u001b[0m \u001b[0mself\u001b[0m\u001b[0;34m.\u001b[0m\u001b[0mnumpy\u001b[0m\u001b[0;34m(\u001b[0m\u001b[0;34m)\u001b[0m\u001b[0;34m.\u001b[0m\u001b[0mastype\u001b[0m\u001b[0;34m(\u001b[0m\u001b[0mdtype\u001b[0m\u001b[0;34m,\u001b[0m \u001b[0mcopy\u001b[0m\u001b[0;34m=\u001b[0m\u001b[0;32mFalse\u001b[0m\u001b[0;34m)\u001b[0m\u001b[0;34m\u001b[0m\u001b[0;34m\u001b[0m\u001b[0m\n",
      "\u001b[0;31mRuntimeError\u001b[0m: Can't call numpy() on Tensor that requires grad. Use tensor.detach().numpy() instead."
     ]
    }
   ],
   "source": [
    "np.unique(y_tr_preds, return_counts=True)\n",
    "np.unique(y_preds, return_counts=True)"
   ]
  },
  {
   "cell_type": "code",
   "execution_count": 142,
   "id": "1d05f7a2-d998-48b7-89e4-86e85ec95f2c",
   "metadata": {
    "execution": {
     "iopub.execute_input": "2021-09-23T18:27:20.009448Z",
     "iopub.status.busy": "2021-09-23T18:27:20.009236Z",
     "iopub.status.idle": "2021-09-23T18:27:21.894856Z",
     "shell.execute_reply": "2021-09-23T18:27:21.893999Z",
     "shell.execute_reply.started": "2021-09-23T18:27:20.009420Z"
    },
    "tags": []
   },
   "outputs": [
    {
     "data": {
      "image/png": "[encoded data removed]",
      "text/plain": [
       "<Figure size 1152x576 with 4 Axes>"
      ]
     },
     "metadata": {
      "needs_background": "light"
     },
     "output_type": "display_data"
    }
   ],
   "source": [
    "fig, ax = plt.subplots(1,2,figsize=(16,8))\n",
    "\n",
    "rc = {'font.size': 20}\n",
    "with plt.rc_context(rc):\n",
    "    sns.heatmap(confusion_matrix(y_train, y_tr_preds), annot=True, fmt='d', cmap='viridis', ax=ax[0])\n",
    "    ax[0].set_xlabel('predicted')\n",
    "    ax[0].set_ylabel('true label')\n",
    "    ax[0].set_title('Train Set')\n",
    "\n",
    "    sns.heatmap(confusion_matrix(y_test, y_preds), annot=True, fmt='d', cmap='viridis', ax=ax[1])\n",
    "    ax[1].set_xlabel('predicted')\n",
    "    ax[1].set_ylabel('true label')\n",
    "    ax[1].set_title('Test Set')\n",
    "    \n",
    "    plt.tight_layout()"
   ]
  },
  {
   "cell_type": "markdown",
   "id": "2275d4f7-ef8b-43c5-b13b-f4c770e35e4e",
   "metadata": {},
   "source": [
    "### <u> **Accuracies** </u>"
   ]
  },
  {
   "cell_type": "code",
   "execution_count": 143,
   "id": "8818c978-2b59-4e2c-8ef4-93a9bbcdaf2b",
   "metadata": {
    "execution": {
     "iopub.execute_input": "2021-09-23T18:27:21.896568Z",
     "iopub.status.busy": "2021-09-23T18:27:21.896251Z",
     "iopub.status.idle": "2021-09-23T18:27:22.394234Z",
     "shell.execute_reply": "2021-09-23T18:27:22.393468Z",
     "shell.execute_reply.started": "2021-09-23T18:27:21.896527Z"
    },
    "tags": []
   },
   "outputs": [],
   "source": [
    "from sklearn.metrics import accuracy_score"
   ]
  },
  {
   "cell_type": "code",
   "execution_count": 144,
   "id": "352b8ee0-389d-455a-8ed0-c9cdafb35434",
   "metadata": {
    "execution": {
     "iopub.execute_input": "2021-09-23T18:27:22.396184Z",
     "iopub.status.busy": "2021-09-23T18:27:22.395944Z",
     "iopub.status.idle": "2021-09-23T18:27:22.979802Z",
     "shell.execute_reply": "2021-09-23T18:27:22.979110Z",
     "shell.execute_reply.started": "2021-09-23T18:27:22.396157Z"
    },
    "tags": []
   },
   "outputs": [],
   "source": [
    "train_acc, test_acc = accuracy_score(y_true=y_train, y_pred=y_tr_preds), accuracy_score(y_true=y_test, y_pred=y_preds)"
   ]
  },
  {
   "cell_type": "code",
   "execution_count": 145,
   "id": "b85cc370-0a71-4079-8974-db506e897a3b",
   "metadata": {
    "execution": {
     "iopub.execute_input": "2021-09-23T18:27:27.501616Z",
     "iopub.status.busy": "2021-09-23T18:27:27.501304Z",
     "iopub.status.idle": "2021-09-23T18:27:28.247279Z",
     "shell.execute_reply": "2021-09-23T18:27:28.246502Z",
     "shell.execute_reply.started": "2021-09-23T18:27:27.501576Z"
    },
    "tags": []
   },
   "outputs": [
    {
     "name": "stdout",
     "output_type": "stream",
     "text": [
      "Train Acc\tTest Acc\n",
      "1.0\t0.6999\n"
     ]
    }
   ],
   "source": [
    "print(\"Train Acc\", \"Test Acc\", sep='\\t')\n",
    "print(\"{:.4}\\t{:.4f}\".format(train_acc, test_acc))"
   ]
  },
  {
   "cell_type": "markdown",
   "id": "7131afb6-da62-4958-a03b-265da981e892",
   "metadata": {},
   "source": [
    "### <u> **F-scores** </u>"
   ]
  },
  {
   "cell_type": "code",
   "execution_count": 146,
   "id": "26800b28-1607-42dc-bdeb-12584311af51",
   "metadata": {
    "execution": {
     "iopub.execute_input": "2021-09-23T18:27:29.452720Z",
     "iopub.status.busy": "2021-09-23T18:27:29.452475Z",
     "iopub.status.idle": "2021-09-23T18:27:30.138576Z",
     "shell.execute_reply": "2021-09-23T18:27:30.137870Z",
     "shell.execute_reply.started": "2021-09-23T18:27:29.452689Z"
    },
    "tags": []
   },
   "outputs": [
    {
     "data": {
      "text/html": [
       "\n",
       "        <iframe\n",
       "            width=\"800\"\n",
       "            height=\"400\"\n",
       "            src=\"https://en.wikipedia.org/wiki/F-score\"\n",
       "            frameborder=\"0\"\n",
       "            allowfullscreen\n",
       "        ></iframe>\n",
       "        "
      ],
      "text/plain": [
       "<IPython.lib.display.IFrame at 0x15551e6c2c10>"
      ]
     },
     "execution_count": 146,
     "metadata": {},
     "output_type": "execute_result"
    }
   ],
   "source": [
    "IFrame('https://en.wikipedia.org/wiki/F-score', width=800, height=400)"
   ]
  },
  {
   "cell_type": "code",
   "execution_count": 147,
   "id": "b96eec35-be68-4af3-80e4-91857fa3df63",
   "metadata": {
    "execution": {
     "iopub.execute_input": "2021-09-23T18:27:30.140003Z",
     "iopub.status.busy": "2021-09-23T18:27:30.139752Z",
     "iopub.status.idle": "2021-09-23T18:27:30.686576Z",
     "shell.execute_reply": "2021-09-23T18:27:30.685778Z",
     "shell.execute_reply.started": "2021-09-23T18:27:30.139964Z"
    },
    "tags": []
   },
   "outputs": [],
   "source": [
    "from sklearn.metrics import precision_score, recall_score, f1_score"
   ]
  },
  {
   "cell_type": "code",
   "execution_count": 148,
   "id": "8157a170-cdcd-40d2-9d92-889e31326c07",
   "metadata": {
    "execution": {
     "iopub.execute_input": "2021-09-23T18:27:31.620547Z",
     "iopub.status.busy": "2021-09-23T18:27:31.620240Z",
     "iopub.status.idle": "2021-09-23T18:27:32.099135Z",
     "shell.execute_reply": "2021-09-23T18:27:32.098350Z",
     "shell.execute_reply.started": "2021-09-23T18:27:31.620507Z"
    },
    "tags": []
   },
   "outputs": [],
   "source": [
    "def fbeta_score(pr, rec, beta):\n",
    "    return (1+(beta**2))*((pr*rec)/(((beta**2)*pr)+rec))"
   ]
  },
  {
   "cell_type": "code",
   "execution_count": 149,
   "id": "2cc8dac0-7f55-468b-87f4-c017b0eb2ca7",
   "metadata": {
    "execution": {
     "iopub.execute_input": "2021-09-23T18:27:32.831739Z",
     "iopub.status.busy": "2021-09-23T18:27:32.831550Z",
     "iopub.status.idle": "2021-09-23T18:27:33.337882Z",
     "shell.execute_reply": "2021-09-23T18:27:33.337283Z",
     "shell.execute_reply.started": "2021-09-23T18:27:32.831715Z"
    },
    "tags": []
   },
   "outputs": [],
   "source": [
    "train_prec, test_prec = precision_score(y_true=y_train, y_pred=y_tr_preds), precision_score(y_true=y_test, y_pred=y_preds)"
   ]
  },
  {
   "cell_type": "code",
   "execution_count": 150,
   "id": "ec3a015a-7ddd-4878-b52e-8fb736e2fcd0",
   "metadata": {
    "execution": {
     "iopub.execute_input": "2021-09-23T18:27:33.339393Z",
     "iopub.status.busy": "2021-09-23T18:27:33.339202Z",
     "iopub.status.idle": "2021-09-23T18:27:33.993651Z",
     "shell.execute_reply": "2021-09-23T18:27:33.993030Z",
     "shell.execute_reply.started": "2021-09-23T18:27:33.339369Z"
    },
    "tags": []
   },
   "outputs": [],
   "source": [
    "train_recall, test_recall = recall_score(y_true=y_train, y_pred=y_tr_preds), recall_score(y_true=y_test, y_pred=y_preds)"
   ]
  },
  {
   "cell_type": "code",
   "execution_count": 151,
   "id": "0bfd5c18-e474-4cf8-b138-6d76a89876e3",
   "metadata": {
    "execution": {
     "iopub.execute_input": "2021-09-23T18:27:34.879788Z",
     "iopub.status.busy": "2021-09-23T18:27:34.879473Z",
     "iopub.status.idle": "2021-09-23T18:27:35.448844Z",
     "shell.execute_reply": "2021-09-23T18:27:35.448204Z",
     "shell.execute_reply.started": "2021-09-23T18:27:34.879746Z"
    },
    "tags": []
   },
   "outputs": [],
   "source": [
    "train_f1, test_f1 = f1_score(y_true=y_train, y_pred=y_tr_preds), f1_score(y_true=y_test, y_pred=y_preds)"
   ]
  },
  {
   "cell_type": "code",
   "execution_count": 152,
   "id": "ed417182-c0fb-40f3-b6d2-8f290cab2e80",
   "metadata": {
    "execution": {
     "iopub.execute_input": "2021-09-23T18:27:35.449907Z",
     "iopub.status.busy": "2021-09-23T18:27:35.449666Z",
     "iopub.status.idle": "2021-09-23T18:27:36.173442Z",
     "shell.execute_reply": "2021-09-23T18:27:36.172674Z",
     "shell.execute_reply.started": "2021-09-23T18:27:35.449871Z"
    },
    "tags": []
   },
   "outputs": [],
   "source": [
    "fbeta_tr_scores = []\n",
    "fbeta_scores = []\n",
    "for b in [0.1, 0.5, 1, 2, 10]:\n",
    "    fbeta_tr_scores.append(fbeta_score(train_prec, train_recall, b))\n",
    "    fbeta_scores.append(fbeta_score(test_prec, test_recall, b))"
   ]
  },
  {
   "cell_type": "code",
   "execution_count": 153,
   "id": "fd70138b-2927-4c21-8cb3-35ad9fc64e20",
   "metadata": {
    "execution": {
     "iopub.execute_input": "2021-09-23T18:27:36.174860Z",
     "iopub.status.busy": "2021-09-23T18:27:36.174612Z",
     "iopub.status.idle": "2021-09-23T18:27:36.819845Z",
     "shell.execute_reply": "2021-09-23T18:27:36.819134Z",
     "shell.execute_reply.started": "2021-09-23T18:27:36.174832Z"
    },
    "tags": []
   },
   "outputs": [
    {
     "name": "stdout",
     "output_type": "stream",
     "text": [
      "Metric\tTrain\tTest\n",
      "Precision\t1.0000\t0.5486\n",
      "Recall\t1.0000\t0.1673\n",
      "F0.1-Score\t1.0000\t0.5365\n",
      "F0.5-Score\t1.0000\t0.3768\n",
      "F1-Score\t1.0000\t0.2564\n",
      "F2-Score\t1.0000\t0.1943\n",
      "F10-Score\t1.0000\t0.1684\n"
     ]
    }
   ],
   "source": [
    "print(\"Metric\", \"Train\", \"Test\", sep='\\t')\n",
    "print(\"{:s}\\t{:.4f}\\t{:.4f}\".format(\"Precision\", train_prec, test_prec))\n",
    "print(\"{:s}\\t{:.4f}\\t{:.4f}\".format(\"Recall\", train_recall, test_recall))\n",
    "#print(\"{:s}\\t{:.4f}\\t{:.4f}\".format(\"F1-Score\", train_f1, test_f1))\n",
    "for i, b in enumerate([0.1, 0.5, 1, 2, 10]):\n",
    "    print(\"F{:s}-Score\\t{:.4f}\\t{:.4f}\".format(str(b), fbeta_tr_scores[i], fbeta_scores[i])) "
   ]
  },
  {
   "cell_type": "markdown",
   "id": "01f61c60-255a-4b3d-8e01-9b75448d47b3",
   "metadata": {},
   "source": [
    "### <u> **Precision-recall** </u>"
   ]
  },
  {
   "cell_type": "code",
   "execution_count": 132,
   "id": "38330bb9-e01b-46c2-9bd6-3c7597a97194",
   "metadata": {
    "execution": {
     "iopub.execute_input": "2021-09-23T18:26:54.425156Z",
     "iopub.status.busy": "2021-09-23T18:26:54.424880Z",
     "iopub.status.idle": "2021-09-23T18:26:55.209356Z",
     "shell.execute_reply": "2021-09-23T18:26:55.208577Z",
     "shell.execute_reply.started": "2021-09-23T18:26:54.425123Z"
    },
    "tags": []
   },
   "outputs": [],
   "source": [
    "from sklearn.metrics import precision_recall_curve, average_precision_score"
   ]
  },
  {
   "cell_type": "code",
   "execution_count": 133,
   "id": "d8ea700d-2bc7-4b69-a5ef-05b53f3756ca",
   "metadata": {
    "execution": {
     "iopub.execute_input": "2021-09-23T18:26:55.210803Z",
     "iopub.status.busy": "2021-09-23T18:26:55.210577Z",
     "iopub.status.idle": "2021-09-23T18:26:55.744909Z",
     "shell.execute_reply": "2021-09-23T18:26:55.744196Z",
     "shell.execute_reply.started": "2021-09-23T18:26:55.210775Z"
    },
    "tags": []
   },
   "outputs": [],
   "source": [
    "precs_tr, recs_tr, threshs_tr = precision_recall_curve(y_true=y_train, probas_pred=y_tr_probs)\n",
    "avg_prec_tr = average_precision_score(y_true=y_train, y_score=y_tr_probs)"
   ]
  },
  {
   "cell_type": "code",
   "execution_count": 134,
   "id": "492fa0d8-5067-4f7e-bbcc-d21383d7b8cb",
   "metadata": {
    "execution": {
     "iopub.execute_input": "2021-09-23T18:26:56.498547Z",
     "iopub.status.busy": "2021-09-23T18:26:56.498238Z",
     "iopub.status.idle": "2021-09-23T18:26:57.136433Z",
     "shell.execute_reply": "2021-09-23T18:26:57.135835Z",
     "shell.execute_reply.started": "2021-09-23T18:26:56.498506Z"
    },
    "tags": []
   },
   "outputs": [],
   "source": [
    "precs, recs, threshs = precision_recall_curve(y_true=y_test, probas_pred=y_probs)\n",
    "avg_prec = average_precision_score(y_true=y_test, y_score=y_probs)"
   ]
  },
  {
   "cell_type": "code",
   "execution_count": 135,
   "id": "51780f55-6b16-43bc-80ae-39004bd61126",
   "metadata": {
    "execution": {
     "iopub.execute_input": "2021-09-23T18:26:57.137615Z",
     "iopub.status.busy": "2021-09-23T18:26:57.137426Z",
     "iopub.status.idle": "2021-09-23T18:26:57.759357Z",
     "shell.execute_reply": "2021-09-23T18:26:57.758582Z",
     "shell.execute_reply.started": "2021-09-23T18:26:57.137591Z"
    },
    "tags": []
   },
   "outputs": [
    {
     "data": {
      "text/plain": [
       "(1.0, 0.5936992585369412)"
      ]
     },
     "execution_count": 135,
     "metadata": {},
     "output_type": "execute_result"
    }
   ],
   "source": [
    "avg_prec_tr, avg_prec"
   ]
  },
  {
   "cell_type": "code",
   "execution_count": 136,
   "id": "865cd891-3508-46f5-97bc-e76dbab40c6e",
   "metadata": {
    "execution": {
     "iopub.execute_input": "2021-09-23T18:26:57.760633Z",
     "iopub.status.busy": "2021-09-23T18:26:57.760412Z",
     "iopub.status.idle": "2021-09-23T18:26:59.312652Z",
     "shell.execute_reply": "2021-09-23T18:26:59.312041Z",
     "shell.execute_reply.started": "2021-09-23T18:26:57.760606Z"
    },
    "tags": []
   },
   "outputs": [
    {
     "data": {
      "image/png": "[encoded data removed]",
      "text/plain": [
       "<Figure size 576x576 with 1 Axes>"
      ]
     },
     "metadata": {
      "needs_background": "light"
     },
     "output_type": "display_data"
    }
   ],
   "source": [
    "fig, ax = plt.subplots(1,1, figsize=(8,8))\n",
    "ax.step(recs_tr, precs_tr, where='post', lw=3, alpha=0.4, label='Training auPRC = %0.4f' % (avg_prec_tr))\n",
    "ax.step(recs, precs, where='post', lw=3, alpha=0.4, label='Testing auPRC = %0.4f' % (avg_prec))\n",
    "ax.axhline(len(y_test[y_test==1])/len(y_test), linestyle='--', lw=3, color='k', label='No skill', alpha=.8)\n",
    "ax.set_xlim([-0.05, 1.05])\n",
    "ax.set_ylim([-0.05, 1.05])\n",
    "ax.set_xlabel('Recall', fontsize=18)\n",
    "ax.set_ylabel('Precision', fontsize=18)\n",
    "ax.set_title('Precision recall', fontsize=18)\n",
    "ax.legend(loc=\"lower right\", fontsize=16);"
   ]
  },
  {
   "cell_type": "markdown",
   "id": "69e283de-ccc5-45a8-8778-83addc5fd41d",
   "metadata": {},
   "source": [
    "### <u> **Reciever operating characteristic** </u>"
   ]
  },
  {
   "cell_type": "code",
   "execution_count": 105,
   "id": "86a48fd2-8941-4a05-8e84-d14014f69cff",
   "metadata": {
    "execution": {
     "iopub.execute_input": "2021-09-23T18:23:01.381071Z",
     "iopub.status.busy": "2021-09-23T18:23:01.380876Z",
     "iopub.status.idle": "2021-09-23T18:23:02.039744Z",
     "shell.execute_reply": "2021-09-23T18:23:02.038973Z",
     "shell.execute_reply.started": "2021-09-23T18:23:01.381046Z"
    },
    "tags": []
   },
   "outputs": [],
   "source": [
    "from sklearn.metrics import roc_curve, auc"
   ]
  },
  {
   "cell_type": "code",
   "execution_count": 106,
   "id": "1970f5b9-b35c-4b25-ac20-f9058196d398",
   "metadata": {
    "execution": {
     "iopub.execute_input": "2021-09-23T18:23:02.715665Z",
     "iopub.status.busy": "2021-09-23T18:23:02.715354Z",
     "iopub.status.idle": "2021-09-23T18:23:03.372094Z",
     "shell.execute_reply": "2021-09-23T18:23:03.371275Z",
     "shell.execute_reply.started": "2021-09-23T18:23:02.715625Z"
    },
    "tags": []
   },
   "outputs": [],
   "source": [
    "fprs_tr, tprs_tr, threshs_tr = roc_curve(y_true=y_train, y_score=y_tr_probs)\n",
    "roc_auc_tr = auc(fprs_tr, tprs_tr)"
   ]
  },
  {
   "cell_type": "code",
   "execution_count": 107,
   "id": "dd5e9fdc-7ea6-4371-b305-0f7e0706b889",
   "metadata": {
    "execution": {
     "iopub.execute_input": "2021-09-23T18:23:03.373313Z",
     "iopub.status.busy": "2021-09-23T18:23:03.373080Z",
     "iopub.status.idle": "2021-09-23T18:23:03.979269Z",
     "shell.execute_reply": "2021-09-23T18:23:03.978572Z",
     "shell.execute_reply.started": "2021-09-23T18:23:03.373277Z"
    },
    "tags": []
   },
   "outputs": [],
   "source": [
    "fprs, tprs, threshs = roc_curve(y_true=y_test, y_score=y_probs)\n",
    "roc_auc = auc(fprs, tprs)"
   ]
  },
  {
   "cell_type": "code",
   "execution_count": 108,
   "id": "02c9574c-7641-4938-ab21-cf6c6738c820",
   "metadata": {
    "execution": {
     "iopub.execute_input": "2021-09-23T18:23:03.981139Z",
     "iopub.status.busy": "2021-09-23T18:23:03.980749Z",
     "iopub.status.idle": "2021-09-23T18:23:04.691776Z",
     "shell.execute_reply": "2021-09-23T18:23:04.691051Z",
     "shell.execute_reply.started": "2021-09-23T18:23:03.981084Z"
    },
    "tags": []
   },
   "outputs": [
    {
     "data": {
      "text/plain": [
       "(0.9022159347744443, 0.6612879551005468)"
      ]
     },
     "execution_count": 108,
     "metadata": {},
     "output_type": "execute_result"
    }
   ],
   "source": [
    "roc_auc_tr, roc_auc"
   ]
  },
  {
   "cell_type": "code",
   "execution_count": 109,
   "id": "ca6fa457-c0fa-4380-891c-e684c1c139f8",
   "metadata": {
    "execution": {
     "iopub.execute_input": "2021-09-23T18:23:04.694780Z",
     "iopub.status.busy": "2021-09-23T18:23:04.694546Z",
     "iopub.status.idle": "2021-09-23T18:23:06.137041Z",
     "shell.execute_reply": "2021-09-23T18:23:06.136346Z",
     "shell.execute_reply.started": "2021-09-23T18:23:04.694749Z"
    },
    "tags": []
   },
   "outputs": [
    {
     "data": {
      "image/png": "[encoded data removed]",
      "text/plain": [
       "<Figure size 864x576 with 1 Axes>"
      ]
     },
     "metadata": {
      "needs_background": "light"
     },
     "output_type": "display_data"
    }
   ],
   "source": [
    "fig, ax = plt.subplots(1, 1, figsize=(12,8))\n",
    "ax.plot(fprs_tr, tprs_tr, lw=3, alpha=0.4, label='Training (auROC = %0.4f)' % (roc_auc_tr))\n",
    "ax.plot(fprs, tprs, lw=3, alpha=0.4, label='Test (auROC= %0.4f)' % (roc_auc))\n",
    "ax.plot([0, 1], [0, 1], linestyle='--', lw=3, color='k', label='No skill', alpha=.8)\n",
    "ax.set_xlim([-0.05, 1.05])\n",
    "ax.set_ylim([-0.05, 1.05])\n",
    "ax.set_xlabel('False Positive Rate', fontsize=18)\n",
    "ax.set_ylabel('True Positive Rate', fontsize=18)\n",
    "ax.set_title('Receiver operating characteristic', fontsize=18)\n",
    "ax.legend(loc=\"lower right\", fontsize=16);"
   ]
  },
  {
   "cell_type": "markdown",
   "id": "912c3433-d65e-4f79-b971-635f9f4f66e2",
   "metadata": {},
   "source": [
    "## Save the classifier"
   ]
  },
  {
   "cell_type": "code",
   "execution_count": null,
   "id": "68618781-72dc-4ed7-9b72-6e5393411578",
   "metadata": {
    "execution": {
     "iopub.status.busy": "2021-09-21T23:36:53.836500Z",
     "iopub.status.idle": "2021-09-21T23:36:53.836841Z",
     "shell.execute_reply": "2021-09-21T23:36:53.836666Z"
    },
    "tags": []
   },
   "outputs": [],
   "source": [
    "import pickle"
   ]
  },
  {
   "cell_type": "code",
   "execution_count": 219,
   "id": "5995f54b-9061-4f77-8c33-9baf848cc5a0",
   "metadata": {
    "execution": {
     "iopub.execute_input": "2021-09-22T00:22:42.930405Z",
     "iopub.status.busy": "2021-09-22T00:22:42.930130Z",
     "iopub.status.idle": "2021-09-22T00:22:43.472486Z",
     "shell.execute_reply": "2021-09-22T00:22:43.471594Z",
     "shell.execute_reply.started": "2021-09-22T00:22:42.930374Z"
    },
    "tags": []
   },
   "outputs": [],
   "source": [
    "#file = '../data/2021_OLS_Library/RF/0.18-0.4_mixed-encoding_RF-clf_randomCV.pickle'\n",
    "#file = '0.18-0.4_mixed_RF-clf.pickle'\n",
    "#file = '0.18-0.4_mixed_2.0_RF-clf.pickle'\n",
    "file = '0.18-0.4_mixed_RF-clf_hyperopt.pickle'"
   ]
  },
  {
   "cell_type": "code",
   "execution_count": 220,
   "id": "54ffc2be-ca11-425d-bf6d-75f271f123ca",
   "metadata": {
    "execution": {
     "iopub.execute_input": "2021-09-22T00:22:44.431275Z",
     "iopub.status.busy": "2021-09-22T00:22:44.431016Z",
     "iopub.status.idle": "2021-09-22T00:22:49.942837Z",
     "shell.execute_reply": "2021-09-22T00:22:49.942147Z",
     "shell.execute_reply.started": "2021-09-22T00:22:44.431246Z"
    },
    "tags": []
   },
   "outputs": [],
   "source": [
    "pickle.dump(clf, open(file, 'wb'))"
   ]
  },
  {
   "cell_type": "code",
   "execution_count": 84,
   "id": "59433766-c231-4a8c-9ff0-779b340fa827",
   "metadata": {
    "execution": {
     "iopub.execute_input": "2021-09-21T23:31:34.124129Z",
     "iopub.status.busy": "2021-09-21T23:31:34.123906Z",
     "iopub.status.idle": "2021-09-21T23:31:37.350213Z",
     "shell.execute_reply": "2021-09-21T23:31:37.349486Z",
     "shell.execute_reply.started": "2021-09-21T23:31:34.124100Z"
    },
    "tags": []
   },
   "outputs": [
    {
     "data": {
      "text/plain": [
       "(array([0, 1]), array([24479,  5815]))"
      ]
     },
     "execution_count": 84,
     "metadata": {},
     "output_type": "execute_result"
    }
   ],
   "source": [
    "test_load = pickle.load(open(file, 'rb'))\n",
    "np.unique(test_load.predict(X_test), return_counts=True)"
   ]
  }
 ],
 "metadata": {
  "kernelspec": {
   "display_name": "Python3 ml_env",
   "language": "python",
   "name": "ml_env"
  },
  "language_info": {
   "codemirror_mode": {
    "name": "ipython",
    "version": 3
   },
   "file_extension": ".py",
   "mimetype": "text/x-python",
   "name": "python",
   "nbconvert_exporter": "python",
   "pygments_lexer": "ipython3",
   "version": "3.8.8"
  }
 },
 "nbformat": 4,
 "nbformat_minor": 5
}

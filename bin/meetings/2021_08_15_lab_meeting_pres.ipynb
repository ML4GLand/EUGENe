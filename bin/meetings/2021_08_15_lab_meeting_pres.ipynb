{
 "cells": [
  {
   "cell_type": "markdown",
   "id": "f3e0438d-60c4-4239-8a2f-55abe48856db",
   "metadata": {},
   "source": [
    "# Lab Meeting Presentation Notebook\n",
    "Adam Klie\n",
    "08/15/2021\n",
    "\n",
    "Notebook to put together results figures for lab meeting presentation on 08/16/2021"
   ]
  },
  {
   "cell_type": "code",
   "execution_count": 1,
   "id": "8fb0455c-2d32-416b-83a3-c2c56d1706c6",
   "metadata": {
    "execution": {
     "iopub.execute_input": "2021-08-15T21:38:36.615326Z",
     "iopub.status.busy": "2021-08-15T21:38:36.615009Z",
     "iopub.status.idle": "2021-08-15T21:39:12.538793Z",
     "shell.execute_reply": "2021-08-15T21:39:12.537883Z",
     "shell.execute_reply.started": "2021-08-15T21:38:36.615282Z"
    },
    "tags": []
   },
   "outputs": [],
   "source": [
    "# Classics\n",
    "import matplotlib.pyplot as plt\n",
    "import numpy as np\n",
    "import pandas as pd\n",
    "import seaborn as sns\n",
    "\n",
    "# Loading webpages\n",
    "from IPython.display import IFrame\n",
    "\n",
    "# Autoreload extension\n",
    "if 'autoreload' not in get_ipython().extension_manager.loaded:\n",
    "    %load_ext autoreload\n",
    "    \n",
    "%autoreload 2"
   ]
  },
  {
   "cell_type": "code",
   "execution_count": 2,
   "id": "acacdb47-d65a-435b-ab64-65a57a56b852",
   "metadata": {
    "execution": {
     "iopub.execute_input": "2021-08-15T21:39:12.540267Z",
     "iopub.status.busy": "2021-08-15T21:39:12.540026Z",
     "iopub.status.idle": "2021-08-15T21:39:19.201855Z",
     "shell.execute_reply": "2021-08-15T21:39:19.200918Z",
     "shell.execute_reply.started": "2021-08-15T21:39:12.540226Z"
    },
    "tags": []
   },
   "outputs": [],
   "source": [
    "import sys\n",
    "sys.path.append('/cellar/users/aklie/projects/EUGENE/bin/')\n",
    "import project_utils"
   ]
  },
  {
   "cell_type": "markdown",
   "id": "e9de871d-16fd-402b-be3e-adf3cbd9d365",
   "metadata": {
    "tags": []
   },
   "source": [
    "# Results from LR and RF"
   ]
  },
  {
   "cell_type": "markdown",
   "id": "27b54e54-a8cf-421f-8265-157c667fa9ad",
   "metadata": {
    "tags": []
   },
   "source": [
    "## Load data"
   ]
  },
  {
   "cell_type": "code",
   "execution_count": 63,
   "id": "dfe34ca3-7a95-4b3e-ba82-b1ad2f0ca784",
   "metadata": {
    "execution": {
     "iopub.execute_input": "2021-08-15T22:11:51.025865Z",
     "iopub.status.busy": "2021-08-15T22:11:51.025584Z",
     "iopub.status.idle": "2021-08-15T22:11:58.739439Z",
     "shell.execute_reply": "2021-08-15T22:11:58.738637Z",
     "shell.execute_reply.started": "2021-08-15T22:11:51.025834Z"
    },
    "tags": []
   },
   "outputs": [],
   "source": [
    "X, y = np.loadtxt('../data/2021_OLS_Library/mixed/X_mixed_0.18-0.4.txt', delimiter=' ', dtype=float), np.loadtxt('../data/2021_OLS_Library/y_binary_0.18-0.4.txt', delimiter=' ', dtype=int)"
   ]
  },
  {
   "cell_type": "code",
   "execution_count": 64,
   "id": "884f76f2-59b9-4936-8c80-0711217d0ae9",
   "metadata": {
    "execution": {
     "iopub.execute_input": "2021-08-15T22:12:00.028048Z",
     "iopub.status.busy": "2021-08-15T22:12:00.027823Z",
     "iopub.status.idle": "2021-08-15T22:12:00.876927Z",
     "shell.execute_reply": "2021-08-15T22:12:00.876060Z",
     "shell.execute_reply.started": "2021-08-15T22:12:00.028019Z"
    },
    "tags": []
   },
   "outputs": [
    {
     "data": {
      "text/plain": [
       "((302936, 21), (302936,))"
      ]
     },
     "execution_count": 64,
     "metadata": {},
     "output_type": "execute_result"
    }
   ],
   "source": [
    "X.shape, y.shape"
   ]
  },
  {
   "cell_type": "code",
   "execution_count": 65,
   "id": "809d0224-66d0-4d8e-bf6b-b52039551cc1",
   "metadata": {
    "execution": {
     "iopub.execute_input": "2021-08-15T22:12:00.878526Z",
     "iopub.status.busy": "2021-08-15T22:12:00.878298Z",
     "iopub.status.idle": "2021-08-15T22:12:01.660906Z",
     "shell.execute_reply": "2021-08-15T22:12:01.660170Z",
     "shell.execute_reply.started": "2021-08-15T22:12:00.878498Z"
    },
    "tags": []
   },
   "outputs": [
    {
     "data": {
      "text/plain": [
       "(array([12. ,  0. ,  0. ,  0.9,  2. ,  1. ,  1. ,  0.6,  7. ,  1. ,  1. ,\n",
       "         0.4,  5. ,  0. ,  0. ,  0.3,  0. ,  0. ,  1. ,  0.5,  1. ]),\n",
       " 1)"
      ]
     },
     "execution_count": 65,
     "metadata": {},
     "output_type": "execute_result"
    }
   ],
   "source": [
    "X[0], y[0]"
   ]
  },
  {
   "cell_type": "code",
   "execution_count": 66,
   "id": "90676001-1ae4-40e4-bcd8-1d4faef3d6f7",
   "metadata": {
    "execution": {
     "iopub.execute_input": "2021-08-15T22:12:01.662224Z",
     "iopub.status.busy": "2021-08-15T22:12:01.662007Z",
     "iopub.status.idle": "2021-08-15T22:12:02.431522Z",
     "shell.execute_reply": "2021-08-15T22:12:02.430845Z",
     "shell.execute_reply.started": "2021-08-15T22:12:01.662196Z"
    },
    "tags": []
   },
   "outputs": [
    {
     "data": {
      "text/plain": [
       "(array([0., 1.]), array([ 30873, 272063]))"
      ]
     },
     "execution_count": 66,
     "metadata": {},
     "output_type": "execute_result"
    }
   ],
   "source": [
    "# Don't remove current feature if more than one unique value\n",
    "np.unique(X[:,-1], return_counts=True)"
   ]
  },
  {
   "cell_type": "markdown",
   "id": "53a0b218-da3d-4bc5-a0b3-d744c442c105",
   "metadata": {
    "tags": [],
    "toc-hr-collapsed": true
   },
   "source": [
    "### **Train/test split**"
   ]
  },
  {
   "cell_type": "code",
   "execution_count": 67,
   "id": "e5ee93b0-2025-42c0-8db7-f1b88ef8f2e6",
   "metadata": {
    "execution": {
     "iopub.execute_input": "2021-08-15T22:12:02.432748Z",
     "iopub.status.busy": "2021-08-15T22:12:02.432534Z",
     "iopub.status.idle": "2021-08-15T22:12:03.277983Z",
     "shell.execute_reply": "2021-08-15T22:12:03.277095Z",
     "shell.execute_reply.started": "2021-08-15T22:12:02.432720Z"
    },
    "tags": []
   },
   "outputs": [],
   "source": [
    "from sklearn.model_selection import train_test_split"
   ]
  },
  {
   "cell_type": "code",
   "execution_count": 68,
   "id": "cffb7d2e-63d1-474e-9824-70b5fb611457",
   "metadata": {
    "execution": {
     "iopub.execute_input": "2021-08-15T22:12:03.279378Z",
     "iopub.status.busy": "2021-08-15T22:12:03.279112Z",
     "iopub.status.idle": "2021-08-15T22:12:04.196284Z",
     "shell.execute_reply": "2021-08-15T22:12:04.195515Z",
     "shell.execute_reply.started": "2021-08-15T22:12:03.279337Z"
    },
    "tags": []
   },
   "outputs": [],
   "source": [
    "split = 0.9"
   ]
  },
  {
   "cell_type": "code",
   "execution_count": 69,
   "id": "c008f0e8-dfd2-44a4-aa26-1307113ee339",
   "metadata": {
    "execution": {
     "iopub.execute_input": "2021-08-15T22:12:04.199994Z",
     "iopub.status.busy": "2021-08-15T22:12:04.199610Z",
     "iopub.status.idle": "2021-08-15T22:12:05.035630Z",
     "shell.execute_reply": "2021-08-15T22:12:05.034810Z",
     "shell.execute_reply.started": "2021-08-15T22:12:04.199946Z"
    },
    "tags": []
   },
   "outputs": [],
   "source": [
    "X_train, X_test, y_train, y_test = train_test_split(X, y, train_size=split, random_state=13, shuffle=True)"
   ]
  },
  {
   "cell_type": "code",
   "execution_count": 70,
   "id": "56e1f18f-8c21-4279-84c8-31749f1c8520",
   "metadata": {
    "execution": {
     "iopub.execute_input": "2021-08-15T22:12:05.037345Z",
     "iopub.status.busy": "2021-08-15T22:12:05.037105Z",
     "iopub.status.idle": "2021-08-15T22:12:05.839077Z",
     "shell.execute_reply": "2021-08-15T22:12:05.838314Z",
     "shell.execute_reply.started": "2021-08-15T22:12:05.037316Z"
    },
    "tags": []
   },
   "outputs": [
    {
     "data": {
      "text/plain": [
       "((272642, 21), (30294, 21), (272642,), (30294,))"
      ]
     },
     "execution_count": 70,
     "metadata": {},
     "output_type": "execute_result"
    }
   ],
   "source": [
    "X_train.shape, X_test.shape, y_train.shape, y_test.shape"
   ]
  },
  {
   "cell_type": "code",
   "execution_count": 71,
   "id": "5ace5ed2-1bbe-4169-98e1-bfbacbf4a750",
   "metadata": {
    "execution": {
     "iopub.execute_input": "2021-08-15T22:12:05.840589Z",
     "iopub.status.busy": "2021-08-15T22:12:05.840184Z",
     "iopub.status.idle": "2021-08-15T22:12:06.706974Z",
     "shell.execute_reply": "2021-08-15T22:12:06.706206Z",
     "shell.execute_reply.started": "2021-08-15T22:12:05.840559Z"
    },
    "tags": []
   },
   "outputs": [
    {
     "data": {
      "text/plain": [
       "(array([0.68878236, 0.31121764]), array([0.69115997, 0.30884003]))"
      ]
     },
     "execution_count": 71,
     "metadata": {},
     "output_type": "execute_result"
    }
   ],
   "source": [
    "np.unique(y_train, return_counts=True)[1]/len(y_train), np.unique(y_test, return_counts=True)[1]/len(y_test)"
   ]
  },
  {
   "cell_type": "markdown",
   "id": "d1a4fd1b-ed69-4c13-87c2-931476454e8e",
   "metadata": {
    "tags": [],
    "toc-hr-collapsed": true
   },
   "source": [
    "### **Standardize features**: *For mixed encoding only*"
   ]
  },
  {
   "cell_type": "code",
   "execution_count": 72,
   "id": "4d9722f2-eb26-4cc4-960a-f2f38b269e3e",
   "metadata": {
    "execution": {
     "iopub.execute_input": "2021-08-15T22:12:06.708308Z",
     "iopub.status.busy": "2021-08-15T22:12:06.708066Z",
     "iopub.status.idle": "2021-08-15T22:12:07.604646Z",
     "shell.execute_reply": "2021-08-15T22:12:07.603788Z",
     "shell.execute_reply.started": "2021-08-15T22:12:06.708280Z"
    },
    "tags": []
   },
   "outputs": [],
   "source": [
    "scale_indeces = np.array([0, 3, 4, 7, 8, 11, 12, 15, 16, 19, 20])"
   ]
  },
  {
   "cell_type": "code",
   "execution_count": 73,
   "id": "1a41b58a-c3e3-493e-83de-299c0981dbd4",
   "metadata": {
    "execution": {
     "iopub.execute_input": "2021-08-15T22:12:07.605935Z",
     "iopub.status.busy": "2021-08-15T22:12:07.605719Z",
     "iopub.status.idle": "2021-08-15T22:12:08.571405Z",
     "shell.execute_reply": "2021-08-15T22:12:08.570618Z",
     "shell.execute_reply.started": "2021-08-15T22:12:07.605906Z"
    },
    "tags": []
   },
   "outputs": [],
   "source": [
    "means = X_train[:, scale_indeces].mean(axis=0)\n",
    "stds = X_train[:, scale_indeces].std(axis=0)"
   ]
  },
  {
   "cell_type": "code",
   "execution_count": 74,
   "id": "868dfbf2-5e23-47e3-a429-ee59ff5941ab",
   "metadata": {
    "execution": {
     "iopub.execute_input": "2021-08-15T22:12:08.572663Z",
     "iopub.status.busy": "2021-08-15T22:12:08.572441Z",
     "iopub.status.idle": "2021-08-15T22:12:09.719026Z",
     "shell.execute_reply": "2021-08-15T22:12:09.718224Z",
     "shell.execute_reply.started": "2021-08-15T22:12:08.572635Z"
    },
    "tags": []
   },
   "outputs": [],
   "source": [
    "X_train[:, scale_indeces] -= means\n",
    "X_train[:, scale_indeces] /= stds"
   ]
  },
  {
   "cell_type": "code",
   "execution_count": 75,
   "id": "54bd569a-8191-47e8-a039-5a94d38e77a0",
   "metadata": {
    "execution": {
     "iopub.execute_input": "2021-08-15T22:12:09.720305Z",
     "iopub.status.busy": "2021-08-15T22:12:09.720062Z",
     "iopub.status.idle": "2021-08-15T22:12:10.559937Z",
     "shell.execute_reply": "2021-08-15T22:12:10.559268Z",
     "shell.execute_reply.started": "2021-08-15T22:12:09.720275Z"
    },
    "tags": []
   },
   "outputs": [
    {
     "data": {
      "text/plain": [
       "(array([ 4.95166261e-18,  5.08666057e-16, -5.46246570e-17, -9.37870960e-16,\n",
       "        -2.41979933e-17, -4.33452908e-16, -1.22879417e-16,  3.65015719e-16,\n",
       "         1.01274531e-16,  7.06367702e-16,  9.42379579e-17]),\n",
       " array([1., 1., 1., 1., 1., 1., 1., 1., 1., 1., 1.]))"
      ]
     },
     "execution_count": 75,
     "metadata": {},
     "output_type": "execute_result"
    }
   ],
   "source": [
    "X_train[:, scale_indeces].mean(axis=0), X_train[:, scale_indeces].std(axis=0)"
   ]
  },
  {
   "cell_type": "code",
   "execution_count": 76,
   "id": "a9144121-e4ed-43ca-92ed-ec55911b596b",
   "metadata": {
    "execution": {
     "iopub.execute_input": "2021-08-15T22:12:10.561171Z",
     "iopub.status.busy": "2021-08-15T22:12:10.560955Z",
     "iopub.status.idle": "2021-08-15T22:12:11.275884Z",
     "shell.execute_reply": "2021-08-15T22:12:11.275080Z",
     "shell.execute_reply.started": "2021-08-15T22:12:10.561144Z"
    },
    "tags": []
   },
   "outputs": [],
   "source": [
    "X_test[:, scale_indeces] -= means\n",
    "X_test[:, scale_indeces] /= stds"
   ]
  },
  {
   "cell_type": "markdown",
   "id": "fd6429d8-4aad-4afd-a3f8-4b74b74b6a93",
   "metadata": {},
   "source": [
    "## Predictions"
   ]
  },
  {
   "cell_type": "code",
   "execution_count": 77,
   "id": "115f6d5c-2a0e-4bff-a86f-f0c09dd6cf09",
   "metadata": {
    "execution": {
     "iopub.execute_input": "2021-08-15T22:12:11.277223Z",
     "iopub.status.busy": "2021-08-15T22:12:11.276999Z",
     "iopub.status.idle": "2021-08-15T22:12:12.119409Z",
     "shell.execute_reply": "2021-08-15T22:12:12.118654Z",
     "shell.execute_reply.started": "2021-08-15T22:12:11.277194Z"
    },
    "tags": []
   },
   "outputs": [],
   "source": [
    "from sklearn.metrics import precision_recall_curve, average_precision_score\n",
    "from sklearn.metrics import roc_curve, auc"
   ]
  },
  {
   "cell_type": "code",
   "execution_count": 78,
   "id": "cde80b1b-d8cd-4f9b-a21b-81a6b3d37b9a",
   "metadata": {
    "execution": {
     "iopub.execute_input": "2021-08-15T22:12:12.120723Z",
     "iopub.status.busy": "2021-08-15T22:12:12.120483Z",
     "iopub.status.idle": "2021-08-15T22:12:13.003612Z",
     "shell.execute_reply": "2021-08-15T22:12:13.002710Z",
     "shell.execute_reply.started": "2021-08-15T22:12:12.120693Z"
    },
    "tags": []
   },
   "outputs": [],
   "source": [
    "fprs_tr, tprs_tr, roc_aucs_tr = {}, {}, {}\n",
    "precs_tr, recs_tr, avg_precs_tr = {}, {}, {}\n",
    "\n",
    "fprs, tprs, roc_aucs = {}, {}, {}\n",
    "precs, recs, avg_precs = {}, {}, {}"
   ]
  },
  {
   "cell_type": "markdown",
   "id": "be2d4132-9341-4c25-8e3d-de1d5593aa65",
   "metadata": {
    "tags": []
   },
   "source": [
    "### **Logisitic Regression** Predictions"
   ]
  },
  {
   "cell_type": "code",
   "execution_count": 83,
   "id": "dfa61c06-89dc-401d-ac63-495fca485484",
   "metadata": {
    "execution": {
     "iopub.execute_input": "2021-08-15T22:14:22.800008Z",
     "iopub.status.busy": "2021-08-15T22:14:22.799713Z",
     "iopub.status.idle": "2021-08-15T22:14:24.112027Z",
     "shell.execute_reply": "2021-08-15T22:14:24.111170Z",
     "shell.execute_reply.started": "2021-08-15T22:14:22.799977Z"
    },
    "tags": []
   },
   "outputs": [],
   "source": [
    "from sklearn.linear_model import LogisticRegression\n",
    "import pickle\n",
    "\n",
    "file = '../LR/0.18-0.4_mixed_LR-clf.pickle'\n",
    "clf = pickle.load(open(file, 'rb'))"
   ]
  },
  {
   "cell_type": "code",
   "execution_count": 84,
   "id": "664cf766-c611-40a3-a76f-3523b127ad13",
   "metadata": {
    "execution": {
     "iopub.execute_input": "2021-08-15T22:14:25.496195Z",
     "iopub.status.busy": "2021-08-15T22:14:25.495970Z",
     "iopub.status.idle": "2021-08-15T22:14:26.522096Z",
     "shell.execute_reply": "2021-08-15T22:14:26.521137Z",
     "shell.execute_reply.started": "2021-08-15T22:14:25.496167Z"
    },
    "tags": []
   },
   "outputs": [],
   "source": [
    "y_tr_probs = clf.predict_proba(X_train)[:, 1]\n",
    "y_probs = clf.predict_proba(X_test)[:, 1]"
   ]
  },
  {
   "cell_type": "code",
   "execution_count": 86,
   "id": "47f74ef4-b569-48cf-9b91-199a81de86c7",
   "metadata": {
    "execution": {
     "iopub.execute_input": "2021-08-15T22:14:29.996596Z",
     "iopub.status.busy": "2021-08-15T22:14:29.996311Z",
     "iopub.status.idle": "2021-08-15T22:14:31.222593Z",
     "shell.execute_reply": "2021-08-15T22:14:31.221700Z",
     "shell.execute_reply.started": "2021-08-15T22:14:29.996566Z"
    },
    "tags": []
   },
   "outputs": [],
   "source": [
    "fprs_tr['LR'], tprs_tr['LR'], threshs = roc_curve(y_true=y_train, y_score=y_tr_probs)\n",
    "roc_aucs_tr['LR'] = auc(fprs_tr['LR'], tprs_tr['LR'])\n",
    "\n",
    "precs_tr['LR'], recs_tr['LR'], threshs = precision_recall_curve(y_true=y_train, probas_pred=y_tr_probs)\n",
    "avg_precs_tr['LR'] = average_precision_score(y_true=y_train, y_score=y_tr_probs)"
   ]
  },
  {
   "cell_type": "code",
   "execution_count": 87,
   "id": "712e2b5e-25f8-43d3-a315-945fc33e2d59",
   "metadata": {
    "execution": {
     "iopub.execute_input": "2021-08-15T22:14:32.576465Z",
     "iopub.status.busy": "2021-08-15T22:14:32.576218Z",
     "iopub.status.idle": "2021-08-15T22:14:33.654058Z",
     "shell.execute_reply": "2021-08-15T22:14:33.653233Z",
     "shell.execute_reply.started": "2021-08-15T22:14:32.576436Z"
    },
    "tags": []
   },
   "outputs": [],
   "source": [
    "fprs['LR'], tprs['LR'], threshs = roc_curve(y_true=y_test, y_score=y_probs)\n",
    "roc_aucs['LR'] = auc(fprs['LR'], tprs['LR'])\n",
    "\n",
    "precs['LR'], recs['LR'], threshs = precision_recall_curve(y_true=y_test, probas_pred=y_probs)\n",
    "avg_precs['LR'] = average_precision_score(y_true=y_test, y_score=y_probs)"
   ]
  },
  {
   "cell_type": "markdown",
   "id": "f4e87dcc-176e-4e3e-9d54-617047b8cfda",
   "metadata": {
    "tags": [],
    "toc-hr-collapsed": true
   },
   "source": [
    "### **Random Forest** Predictions"
   ]
  },
  {
   "cell_type": "code",
   "execution_count": 79,
   "id": "c440fff2-5aad-444d-8042-befc22882c6d",
   "metadata": {
    "execution": {
     "iopub.execute_input": "2021-08-15T22:12:15.462140Z",
     "iopub.status.busy": "2021-08-15T22:12:15.461921Z",
     "iopub.status.idle": "2021-08-15T22:12:40.539858Z",
     "shell.execute_reply": "2021-08-15T22:12:40.538795Z",
     "shell.execute_reply.started": "2021-08-15T22:12:15.462112Z"
    },
    "tags": []
   },
   "outputs": [],
   "source": [
    "from sklearn.ensemble import RandomForestClassifier\n",
    "import pickle\n",
    "\n",
    "file = '../RF/0.18-0.4_mixed_RF-clf_randomCV.pickle'\n",
    "clf = pickle.load(open(file, 'rb'))"
   ]
  },
  {
   "cell_type": "code",
   "execution_count": 80,
   "id": "0ad8328f-a158-45fe-b894-76bc24ed1827",
   "metadata": {
    "execution": {
     "iopub.execute_input": "2021-08-15T22:12:40.541532Z",
     "iopub.status.busy": "2021-08-15T22:12:40.541293Z",
     "iopub.status.idle": "2021-08-15T22:13:49.605920Z",
     "shell.execute_reply": "2021-08-15T22:13:49.605167Z",
     "shell.execute_reply.started": "2021-08-15T22:12:40.541500Z"
    },
    "tags": []
   },
   "outputs": [
    {
     "name": "stderr",
     "output_type": "stream",
     "text": [
      "[Parallel(n_jobs=4)]: Using backend ThreadingBackend with 4 concurrent workers.\n",
      "[Parallel(n_jobs=4)]: Done  42 tasks      | elapsed:    1.6s\n",
      "[Parallel(n_jobs=4)]: Done 192 tasks      | elapsed:    6.7s\n",
      "[Parallel(n_jobs=4)]: Done 442 tasks      | elapsed:   15.3s\n",
      "[Parallel(n_jobs=4)]: Done 792 tasks      | elapsed:   27.1s\n",
      "[Parallel(n_jobs=4)]: Done 1242 tasks      | elapsed:   42.4s\n",
      "[Parallel(n_jobs=4)]: Done 1792 tasks      | elapsed:  1.0min\n",
      "[Parallel(n_jobs=4)]: Done 1800 out of 1800 | elapsed:  1.0min finished\n",
      "[Parallel(n_jobs=4)]: Using backend ThreadingBackend with 4 concurrent workers.\n",
      "[Parallel(n_jobs=4)]: Done  42 tasks      | elapsed:    0.2s\n",
      "[Parallel(n_jobs=4)]: Done 192 tasks      | elapsed:    0.8s\n",
      "[Parallel(n_jobs=4)]: Done 442 tasks      | elapsed:    1.8s\n",
      "[Parallel(n_jobs=4)]: Done 792 tasks      | elapsed:    3.3s\n",
      "[Parallel(n_jobs=4)]: Done 1242 tasks      | elapsed:    5.2s\n",
      "[Parallel(n_jobs=4)]: Done 1792 tasks      | elapsed:    7.4s\n",
      "[Parallel(n_jobs=4)]: Done 1800 out of 1800 | elapsed:    7.4s finished\n"
     ]
    }
   ],
   "source": [
    "y_tr_probs = clf.predict_proba(X_train)[:, 1]\n",
    "y_probs = clf.predict_proba(X_test)[:, 1]"
   ]
  },
  {
   "cell_type": "code",
   "execution_count": 81,
   "id": "b13442f1-a231-48c9-83b2-c7d44cb5272a",
   "metadata": {
    "execution": {
     "iopub.execute_input": "2021-08-15T22:13:49.607257Z",
     "iopub.status.busy": "2021-08-15T22:13:49.607020Z",
     "iopub.status.idle": "2021-08-15T22:13:50.700043Z",
     "shell.execute_reply": "2021-08-15T22:13:50.699200Z",
     "shell.execute_reply.started": "2021-08-15T22:13:49.607215Z"
    },
    "tags": []
   },
   "outputs": [],
   "source": [
    "fprs_tr['RF'], tprs_tr['RF'], threshs = roc_curve(y_true=y_train, y_score=y_tr_probs)\n",
    "roc_aucs_tr['RF'] = auc(fprs_tr['RF'], tprs_tr['RF'])\n",
    "\n",
    "precs_tr['RF'], recs_tr['RF'], threshs = precision_recall_curve(y_true=y_train, probas_pred=y_tr_probs)\n",
    "avg_precs_tr['RF'] = average_precision_score(y_true=y_train, y_score=y_tr_probs)"
   ]
  },
  {
   "cell_type": "code",
   "execution_count": 82,
   "id": "19860958-c3b2-4ed3-a8d3-b2d3e0dd6ba9",
   "metadata": {
    "execution": {
     "iopub.execute_input": "2021-08-15T22:13:52.129569Z",
     "iopub.status.busy": "2021-08-15T22:13:52.129229Z",
     "iopub.status.idle": "2021-08-15T22:13:53.112493Z",
     "shell.execute_reply": "2021-08-15T22:13:53.111608Z",
     "shell.execute_reply.started": "2021-08-15T22:13:52.129538Z"
    },
    "tags": []
   },
   "outputs": [],
   "source": [
    "fprs['RF'], tprs['RF'], threshs = roc_curve(y_true=y_test, y_score=y_probs)\n",
    "roc_aucs['RF'] = auc(fprs['RF'], tprs['RF'])\n",
    "\n",
    "precs['RF'], recs['RF'], threshs = precision_recall_curve(y_true=y_test, probas_pred=y_probs)\n",
    "avg_precs['RF'] = average_precision_score(y_true=y_test, y_score=y_probs)"
   ]
  },
  {
   "cell_type": "markdown",
   "id": "2db021c1-627b-408c-b333-e17b94cb2e0e",
   "metadata": {
    "tags": []
   },
   "source": [
    "# Results from gkSVM"
   ]
  },
  {
   "cell_type": "markdown",
   "id": "fdc0c64a-1ddf-4f24-a943-37563a355562",
   "metadata": {
    "tags": [],
    "toc-hr-collapsed": true
   },
   "source": [
    "## **Training scores**"
   ]
  },
  {
   "cell_type": "code",
   "execution_count": 88,
   "id": "0ae33b8c-8b18-44b0-aaf4-a47f6be98657",
   "metadata": {
    "execution": {
     "iopub.execute_input": "2021-08-15T22:14:38.736087Z",
     "iopub.status.busy": "2021-08-15T22:14:38.735784Z",
     "iopub.status.idle": "2021-08-15T22:14:40.162813Z",
     "shell.execute_reply": "2021-08-15T22:14:40.161945Z",
     "shell.execute_reply.started": "2021-08-15T22:14:38.736056Z"
    },
    "tags": []
   },
   "outputs": [],
   "source": [
    "# Make sure ordering is correct\n",
    "pos_tr_scores = project_utils.get_scores('../gkSVM/Result_0.18-0.4_baseline/X_fasta_0.18-0.4_baseline.tr.predict.txt')\n",
    "neg_tr_scores = project_utils.get_scores('../gkSVM/Result_0.18-0.4_baseline/X_fasta_0.18-0.4_baseline.neg.tr.predict.txt')"
   ]
  },
  {
   "cell_type": "code",
   "execution_count": 89,
   "id": "4cb8e8d4-e5c4-48cd-ab97-e41fcd20fe2f",
   "metadata": {
    "execution": {
     "iopub.execute_input": "2021-08-15T22:14:40.164399Z",
     "iopub.status.busy": "2021-08-15T22:14:40.164152Z",
     "iopub.status.idle": "2021-08-15T22:14:41.215481Z",
     "shell.execute_reply": "2021-08-15T22:14:41.214579Z",
     "shell.execute_reply.started": "2021-08-15T22:14:40.164369Z"
    },
    "tags": []
   },
   "outputs": [],
   "source": [
    "y_tr_probs = np.array(pos_tr_scores + neg_tr_scores)"
   ]
  },
  {
   "cell_type": "code",
   "execution_count": 90,
   "id": "f22ed816-faf8-47ff-959a-649ec067f58d",
   "metadata": {
    "execution": {
     "iopub.execute_input": "2021-08-15T22:14:42.674647Z",
     "iopub.status.busy": "2021-08-15T22:14:42.674236Z",
     "iopub.status.idle": "2021-08-15T22:14:43.589901Z",
     "shell.execute_reply": "2021-08-15T22:14:43.588965Z",
     "shell.execute_reply.started": "2021-08-15T22:14:42.674593Z"
    },
    "tags": []
   },
   "outputs": [],
   "source": [
    "y_train = np.array([1]*len(pos_tr_scores) + [0]*len(neg_tr_scores))"
   ]
  },
  {
   "cell_type": "code",
   "execution_count": 91,
   "id": "5368c329-d72f-49d9-85dc-85d9e899875b",
   "metadata": {
    "execution": {
     "iopub.execute_input": "2021-08-15T22:14:43.591452Z",
     "iopub.status.busy": "2021-08-15T22:14:43.591206Z",
     "iopub.status.idle": "2021-08-15T22:14:44.591806Z",
     "shell.execute_reply": "2021-08-15T22:14:44.590981Z",
     "shell.execute_reply.started": "2021-08-15T22:14:43.591421Z"
    },
    "tags": []
   },
   "outputs": [
    {
     "name": "stdout",
     "output_type": "stream",
     "text": [
      "(272642,) (272642,)\n"
     ]
    }
   ],
   "source": [
    "print(y_train.shape, y_tr_probs.shape)"
   ]
  },
  {
   "cell_type": "markdown",
   "id": "89ce42d1-4716-49cd-ab24-0ae2133b2148",
   "metadata": {
    "tags": [],
    "toc-hr-collapsed": true
   },
   "source": [
    "## **Test scores**"
   ]
  },
  {
   "cell_type": "code",
   "execution_count": 92,
   "id": "d95b0ccd-6a05-437d-9129-571c91eeba17",
   "metadata": {
    "execution": {
     "iopub.execute_input": "2021-08-15T22:14:44.593162Z",
     "iopub.status.busy": "2021-08-15T22:14:44.592928Z",
     "iopub.status.idle": "2021-08-15T22:14:45.778780Z",
     "shell.execute_reply": "2021-08-15T22:14:45.777890Z",
     "shell.execute_reply.started": "2021-08-15T22:14:44.593132Z"
    },
    "tags": []
   },
   "outputs": [],
   "source": [
    "# Make sure ordering is correct\n",
    "pos_scores = project_utils.get_scores('../gkSVM/Result_0.18-0.4_baseline/X_fasta_0.18-0.4_baseline.predict.txt')\n",
    "neg_scores = project_utils.get_scores('../gkSVM/Result_0.18-0.4_baseline/X_fasta_0.18-0.4_baseline.neg.predict.txt')"
   ]
  },
  {
   "cell_type": "code",
   "execution_count": 93,
   "id": "168f8c26-ae16-47c5-8c15-6acf3a73b0f7",
   "metadata": {
    "execution": {
     "iopub.execute_input": "2021-08-15T22:14:47.290118Z",
     "iopub.status.busy": "2021-08-15T22:14:47.289873Z",
     "iopub.status.idle": "2021-08-15T22:14:48.317537Z",
     "shell.execute_reply": "2021-08-15T22:14:48.316735Z",
     "shell.execute_reply.started": "2021-08-15T22:14:47.290089Z"
    },
    "tags": []
   },
   "outputs": [],
   "source": [
    "y_probs = np.array(pos_scores + neg_scores)"
   ]
  },
  {
   "cell_type": "code",
   "execution_count": 94,
   "id": "d3960e50-d7e0-4667-ac84-1ae926ea3a16",
   "metadata": {
    "execution": {
     "iopub.execute_input": "2021-08-15T22:14:48.319051Z",
     "iopub.status.busy": "2021-08-15T22:14:48.318825Z",
     "iopub.status.idle": "2021-08-15T22:14:49.483188Z",
     "shell.execute_reply": "2021-08-15T22:14:49.482321Z",
     "shell.execute_reply.started": "2021-08-15T22:14:48.319023Z"
    },
    "tags": []
   },
   "outputs": [],
   "source": [
    "y_test = np.array([1]*len(pos_scores) + [0]*len(neg_scores))"
   ]
  },
  {
   "cell_type": "code",
   "execution_count": 95,
   "id": "36a58b67-3ff4-4d20-9c29-9ac4ee546792",
   "metadata": {
    "execution": {
     "iopub.execute_input": "2021-08-15T22:14:49.484520Z",
     "iopub.status.busy": "2021-08-15T22:14:49.484294Z",
     "iopub.status.idle": "2021-08-15T22:14:50.236571Z",
     "shell.execute_reply": "2021-08-15T22:14:50.235790Z",
     "shell.execute_reply.started": "2021-08-15T22:14:49.484491Z"
    },
    "tags": []
   },
   "outputs": [
    {
     "name": "stdout",
     "output_type": "stream",
     "text": [
      "(30294,) (30294,)\n"
     ]
    }
   ],
   "source": [
    "print(y_test.shape, y_probs.shape)"
   ]
  },
  {
   "cell_type": "markdown",
   "id": "cfedf3fa-0d9d-492b-af1d-1a5430a0e8b2",
   "metadata": {
    "tags": [],
    "toc-hr-collapsed": true
   },
   "source": [
    "## **Evaluation**"
   ]
  },
  {
   "cell_type": "code",
   "execution_count": 97,
   "id": "c9edbbf3-cdd1-41b3-93b1-ef7f3c273f5e",
   "metadata": {
    "execution": {
     "iopub.execute_input": "2021-08-15T22:15:17.230284Z",
     "iopub.status.busy": "2021-08-15T22:15:17.229987Z",
     "iopub.status.idle": "2021-08-15T22:15:20.945208Z",
     "shell.execute_reply": "2021-08-15T22:15:20.944329Z",
     "shell.execute_reply.started": "2021-08-15T22:15:17.230239Z"
    },
    "tags": []
   },
   "outputs": [],
   "source": [
    "fprs_tr['gkSVM'], tprs_tr['gkSVM'], threshs = roc_curve(y_true=y_train, y_score=y_tr_probs)\n",
    "roc_aucs_tr['gkSVM'] = auc(fprs_tr['gkSVM'], tprs_tr['gkSVM'])\n",
    "\n",
    "precs_tr['gkSVM'], recs_tr['gkSVM'], threshs = precision_recall_curve(y_true=y_train, probas_pred=y_tr_probs)\n",
    "avg_precs_tr['gkSVM'] = average_precision_score(y_true=y_train, y_score=y_tr_probs)"
   ]
  },
  {
   "cell_type": "code",
   "execution_count": 98,
   "id": "9495293d-58a9-4701-8760-1af2ec2a2186",
   "metadata": {
    "execution": {
     "iopub.execute_input": "2021-08-15T22:15:20.946704Z",
     "iopub.status.busy": "2021-08-15T22:15:20.946474Z",
     "iopub.status.idle": "2021-08-15T22:15:24.257023Z",
     "shell.execute_reply": "2021-08-15T22:15:24.256057Z",
     "shell.execute_reply.started": "2021-08-15T22:15:20.946675Z"
    },
    "tags": []
   },
   "outputs": [],
   "source": [
    "fprs['gkSVM'], tprs['gkSVM'], threshs = roc_curve(y_true=y_test, y_score=y_probs)\n",
    "roc_aucs['gkSVM'] = auc(fprs['gkSVM'], tprs['gkSVM'])\n",
    "\n",
    "precs['gkSVM'], recs['gkSVM'], threshs = precision_recall_curve(y_true=y_test, probas_pred=y_probs)\n",
    "avg_precs['gkSVM'] = average_precision_score(y_true=y_test, y_score=y_probs)"
   ]
  },
  {
   "cell_type": "markdown",
   "id": "fa109ec8-a0b1-4685-98cb-d2fcdf4c9aae",
   "metadata": {},
   "source": [
    "# Plots"
   ]
  },
  {
   "cell_type": "code",
   "execution_count": 101,
   "id": "b877c878-4b12-4658-a7d4-d5e3667d6a52",
   "metadata": {
    "execution": {
     "iopub.execute_input": "2021-08-15T22:16:19.193115Z",
     "iopub.status.busy": "2021-08-15T22:16:19.192823Z",
     "iopub.status.idle": "2021-08-15T22:16:20.090435Z",
     "shell.execute_reply": "2021-08-15T22:16:20.089547Z",
     "shell.execute_reply.started": "2021-08-15T22:16:19.193085Z"
    },
    "tags": []
   },
   "outputs": [],
   "source": [
    "colormap = {'LR': 'blue', 'RF': 'red', 'gkSVM': 'green'}"
   ]
  },
  {
   "cell_type": "code",
   "execution_count": 105,
   "id": "692a1aea-597a-40bc-b2fb-7780df4602cf",
   "metadata": {
    "execution": {
     "iopub.execute_input": "2021-08-15T22:21:06.896731Z",
     "iopub.status.busy": "2021-08-15T22:21:06.896445Z",
     "iopub.status.idle": "2021-08-15T22:21:09.730028Z",
     "shell.execute_reply": "2021-08-15T22:21:09.729151Z",
     "shell.execute_reply.started": "2021-08-15T22:21:06.896701Z"
    },
    "tags": []
   },
   "outputs": [
    {
     "data": {
      "image/png": "[encoded data removed]",
      "text/plain": [
       "<Figure size 576x576 with 1 Axes>"
      ]
     },
     "metadata": {
      "needs_background": "light"
     },
     "output_type": "display_data"
    }
   ],
   "source": [
    "fig, ax = plt.subplots(1, 1, figsize=(8,8))\n",
    "\n",
    "for model in ['LR', 'RF', 'gkSVM']:\n",
    "    ax.plot(fprs_tr[model], tprs_tr[model], ls='--', lw=3, c=colormap[model], alpha=0.4, label='%s training (auROC = %0.4f)' % (model, roc_aucs_tr[model]))\n",
    "    ax.plot(fprs[model], tprs[model], ls='-', lw=3, c=colormap[model], alpha=0.4, label='%s testing (auROC= %0.4f)' % (model, roc_aucs[model]))    \n",
    "ax.plot([0, 1], [0, 1], linestyle='--', lw=3, color='k', label='No skill', alpha=.8)\n",
    "ax.set_xlim([-0.05, 1.05])\n",
    "ax.set_ylim([-0.05, 1.05])\n",
    "ax.set_xlabel('False Positive Rate', fontsize=18)\n",
    "ax.set_ylabel('True Positive Rate', fontsize=18)\n",
    "ax.set_title('Receiver operating characteristic', fontsize=18)\n",
    "ax.legend(loc=\"lower right\", fontsize=14);"
   ]
  },
  {
   "cell_type": "code",
   "execution_count": 106,
   "id": "d9fe6f46-2c1b-442a-9b91-d81516a75a6c",
   "metadata": {
    "execution": {
     "iopub.execute_input": "2021-08-15T22:21:18.663171Z",
     "iopub.status.busy": "2021-08-15T22:21:18.662867Z",
     "iopub.status.idle": "2021-08-15T22:21:21.535366Z",
     "shell.execute_reply": "2021-08-15T22:21:21.534604Z",
     "shell.execute_reply.started": "2021-08-15T22:21:18.663140Z"
    },
    "tags": []
   },
   "outputs": [
    {
     "data": {
      "image/png": "[encoded data removed]",
      "text/plain": [
       "<Figure size 576x576 with 1 Axes>"
      ]
     },
     "metadata": {
      "needs_background": "light"
     },
     "output_type": "display_data"
    }
   ],
   "source": [
    "fig, ax = plt.subplots(1,1, figsize=(8,8))\n",
    "for model in ['LR', 'RF', 'gkSVM']:\n",
    "    ax.step(recs_tr[model], precs_tr[model], where='post', ls='--', lw=3, c=colormap[model], alpha=0.4, label='%s training auPRC = %0.4f' % (model, avg_precs_tr[model]))\n",
    "    ax.step(recs[model], precs[model], where='post', ls='-', lw=3, c=colormap[model], alpha=0.4, label='%s testing auPRC = %0.4f' % (model, avg_precs[model]))\n",
    "ax.axhline(len(y_test[y_test==1])/len(y_test), linestyle='--', lw=3, color='k', label='No skill', alpha=.8)\n",
    "ax.set_xlim([-0.05, 1.05])\n",
    "ax.set_ylim([-0.05, 1.05])\n",
    "ax.set_xlabel('Recall', fontsize=18)\n",
    "ax.set_ylabel('Precision', fontsize=18)\n",
    "ax.set_title('Precision recall', fontsize=18)\n",
    "ax.legend(loc=\"lower right\", fontsize=14);"
   ]
  }
 ],
 "metadata": {
  "kernelspec": {
   "display_name": "Python3 ml_env",
   "language": "python",
   "name": "ml_env"
  },
  "language_info": {
   "codemirror_mode": {
    "name": "ipython",
    "version": 3
   },
   "file_extension": ".py",
   "mimetype": "text/x-python",
   "name": "python",
   "nbconvert_exporter": "python",
   "pygments_lexer": "ipython3",
   "version": "3.8.8"
  }
 },
 "nbformat": 4,
 "nbformat_minor": 5
}

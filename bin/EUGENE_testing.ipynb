{
 "cells": [
  {
   "cell_type": "markdown",
   "metadata": {
    "toc": true
   },
   "source": [
    "<h1>Table of Contents<span class=\"tocSkip\"></span></h1>\n",
    "<div class=\"toc\"><ul class=\"toc-item\"><li><span><a href=\"#Set-up\" data-toc-modified-id=\"Set-up-1\"><span class=\"toc-item-num\">1&nbsp;&nbsp;</span>Set-up</a></span></li><li><span><a href=\"#Load-dataset\" data-toc-modified-id=\"Load-dataset-2\"><span class=\"toc-item-num\">2&nbsp;&nbsp;</span>Load dataset</a></span></li><li><span><a href=\"#Preprocess-data\" data-toc-modified-id=\"Preprocess-data-3\"><span class=\"toc-item-num\">3&nbsp;&nbsp;</span>Preprocess data</a></span><ul class=\"toc-item\"><li><span><a href=\"#Sequence-input\" data-toc-modified-id=\"Sequence-input-3.1\"><span class=\"toc-item-num\">3.1&nbsp;&nbsp;</span>Sequence input</a></span></li><li><span><a href=\"#Target-variables\" data-toc-modified-id=\"Target-variables-3.2\"><span class=\"toc-item-num\">3.2&nbsp;&nbsp;</span>Target variables</a></span></li><li><span><a href=\"#Dealing-with-class-imbalance\" data-toc-modified-id=\"Dealing-with-class-imbalance-3.3\"><span class=\"toc-item-num\">3.3&nbsp;&nbsp;</span>Dealing with class imbalance</a></span><ul class=\"toc-item\"><li><span><a href=\"#Downsample-negative-class\" data-toc-modified-id=\"Downsample-negative-class-3.3.1\"><span class=\"toc-item-num\">3.3.1&nbsp;&nbsp;</span>Downsample negative class</a></span></li><li><span><a href=\"#Upsample-positive-class\" data-toc-modified-id=\"Upsample-positive-class-3.3.2\"><span class=\"toc-item-num\">3.3.2&nbsp;&nbsp;</span>Upsample positive class</a></span></li><li><span><a href=\"#Check\" data-toc-modified-id=\"Check-3.3.3\"><span class=\"toc-item-num\">3.3.3&nbsp;&nbsp;</span>Check</a></span></li></ul></li></ul></li><li><span><a href=\"#Data-exploration\" data-toc-modified-id=\"Data-exploration-4\"><span class=\"toc-item-num\">4&nbsp;&nbsp;</span>Data exploration</a></span><ul class=\"toc-item\"><li><span><a href=\"#Sequence-lengths\" data-toc-modified-id=\"Sequence-lengths-4.1\"><span class=\"toc-item-num\">4.1&nbsp;&nbsp;</span>Sequence lengths</a></span></li><li><span><a href=\"#Biological-replicate-concordance\" data-toc-modified-id=\"Biological-replicate-concordance-4.2\"><span class=\"toc-item-num\">4.2&nbsp;&nbsp;</span>Biological replicate concordance</a></span></li><li><span><a href=\"#Frequencies-of-nucleotides-at-each-position\" data-toc-modified-id=\"Frequencies-of-nucleotides-at-each-position-4.3\"><span class=\"toc-item-num\">4.3&nbsp;&nbsp;</span>Frequencies of nucleotides at each position</a></span></li><li><span><a href=\"#Target-RPM-distribution\" data-toc-modified-id=\"Target-RPM-distribution-4.4\"><span class=\"toc-item-num\">4.4&nbsp;&nbsp;</span>Target RPM distribution</a></span></li></ul></li><li><span><a href=\"#Build-model\" data-toc-modified-id=\"Build-model-5\"><span class=\"toc-item-num\">5&nbsp;&nbsp;</span>Build model</a></span></li><li><span><a href=\"#Train-model\" data-toc-modified-id=\"Train-model-6\"><span class=\"toc-item-num\">6&nbsp;&nbsp;</span>Train model</a></span><ul class=\"toc-item\"><li><span><a href=\"#Split-data-into-train,-val-and-test-sets\" data-toc-modified-id=\"Split-data-into-train,-val-and-test-sets-6.1\"><span class=\"toc-item-num\">6.1&nbsp;&nbsp;</span>Split data into train, val and test sets</a></span></li></ul></li><li><span><a href=\"#Evaluate-model\" data-toc-modified-id=\"Evaluate-model-7\"><span class=\"toc-item-num\">7&nbsp;&nbsp;</span>Evaluate model</a></span></li><li><span><a href=\"#Model-interpretation\" data-toc-modified-id=\"Model-interpretation-8\"><span class=\"toc-item-num\">8&nbsp;&nbsp;</span>Model interpretation</a></span></li><li><span><a href=\"#References\" data-toc-modified-id=\"References-9\"><span class=\"toc-item-num\">9&nbsp;&nbsp;</span>References</a></span></li></ul></div>"
   ]
  },
  {
   "cell_type": "markdown",
   "metadata": {},
   "source": [
    "# Set-up"
   ]
  },
  {
   "cell_type": "code",
   "execution_count": 1,
   "metadata": {
    "ExecuteTime": {
     "end_time": "2021-05-25T16:46:38.428847Z",
     "start_time": "2021-05-25T16:46:18.911625Z"
    }
   },
   "outputs": [],
   "source": [
    "# Classics\n",
    "import pandas as pd\n",
    "import numpy as np\n",
    "import matplotlib.pyplot as plt\n",
    "import seaborn as sns\n",
    "\n",
    "# Autoreload extension\n",
    "if 'autoreload' not in get_ipython().extension_manager.loaded:\n",
    "    %load_ext autoreload\n",
    "    \n",
    "%autoreload 2"
   ]
  },
  {
   "cell_type": "code",
   "execution_count": 2,
   "metadata": {
    "ExecuteTime": {
     "end_time": "2021-05-25T16:46:44.144487Z",
     "start_time": "2021-05-25T16:46:38.431889Z"
    }
   },
   "outputs": [
    {
     "name": "stderr",
     "output_type": "stream",
     "text": [
      "/cellar/users/aklie/opt/miniconda3/envs/ml_env/lib/python3.8/site-packages/torch/cuda/__init__.py:52: UserWarning: CUDA initialization: Found no NVIDIA driver on your system. Please check that you have an NVIDIA GPU and installed a driver from http://www.nvidia.com/Download/index.aspx (Triggered internally at  /pytorch/c10/cuda/CUDAFunctions.cpp:100.)\n",
      "  return torch._C._cuda_getDeviceCount() > 0\n"
     ]
    },
    {
     "name": "stdout",
     "output_type": "stream",
     "text": [
      "Using a GPU? False\n"
     ]
    },
    {
     "ename": "RuntimeError",
     "evalue": "Found no NVIDIA driver on your system. Please check that you have an NVIDIA GPU and installed a driver from http://www.nvidia.com/Download/index.aspx",
     "output_type": "error",
     "traceback": [
      "\u001b[0;31m---------------------------------------------------------------------------\u001b[0m",
      "\u001b[0;31mRuntimeError\u001b[0m                              Traceback (most recent call last)",
      "\u001b[0;32m<ipython-input-2-f38ad9438743>\u001b[0m in \u001b[0;36m<module>\u001b[0;34m\u001b[0m\n\u001b[1;32m      3\u001b[0m \u001b[0;34m\u001b[0m\u001b[0m\n\u001b[1;32m      4\u001b[0m \u001b[0mprint\u001b[0m\u001b[0;34m(\u001b[0m\u001b[0;34m\"Using a GPU? {}\"\u001b[0m\u001b[0;34m.\u001b[0m\u001b[0mformat\u001b[0m\u001b[0;34m(\u001b[0m\u001b[0mtorch\u001b[0m\u001b[0;34m.\u001b[0m\u001b[0mcuda\u001b[0m\u001b[0;34m.\u001b[0m\u001b[0mis_available\u001b[0m\u001b[0;34m(\u001b[0m\u001b[0;34m)\u001b[0m\u001b[0;34m)\u001b[0m\u001b[0;34m)\u001b[0m\u001b[0;34m\u001b[0m\u001b[0;34m\u001b[0m\u001b[0m\n\u001b[0;32m----> 5\u001b[0;31m \u001b[0mprint\u001b[0m\u001b[0;34m(\u001b[0m\u001b[0;34m\"Device number [0-7]: {}\"\u001b[0m\u001b[0;34m.\u001b[0m\u001b[0mformat\u001b[0m\u001b[0;34m(\u001b[0m\u001b[0mtorch\u001b[0m\u001b[0;34m.\u001b[0m\u001b[0mcuda\u001b[0m\u001b[0;34m.\u001b[0m\u001b[0mcurrent_device\u001b[0m\u001b[0;34m(\u001b[0m\u001b[0;34m)\u001b[0m\u001b[0;34m)\u001b[0m\u001b[0;34m)\u001b[0m\u001b[0;34m\u001b[0m\u001b[0;34m\u001b[0m\u001b[0m\n\u001b[0m",
      "\u001b[0;32m~/opt/miniconda3/envs/ml_env/lib/python3.8/site-packages/torch/cuda/__init__.py\u001b[0m in \u001b[0;36mcurrent_device\u001b[0;34m()\u001b[0m\n\u001b[1;32m    364\u001b[0m \u001b[0;32mdef\u001b[0m \u001b[0mcurrent_device\u001b[0m\u001b[0;34m(\u001b[0m\u001b[0;34m)\u001b[0m \u001b[0;34m->\u001b[0m \u001b[0mint\u001b[0m\u001b[0;34m:\u001b[0m\u001b[0;34m\u001b[0m\u001b[0;34m\u001b[0m\u001b[0m\n\u001b[1;32m    365\u001b[0m     \u001b[0;34mr\"\"\"Returns the index of a currently selected device.\"\"\"\u001b[0m\u001b[0;34m\u001b[0m\u001b[0;34m\u001b[0m\u001b[0m\n\u001b[0;32m--> 366\u001b[0;31m     \u001b[0m_lazy_init\u001b[0m\u001b[0;34m(\u001b[0m\u001b[0;34m)\u001b[0m\u001b[0;34m\u001b[0m\u001b[0;34m\u001b[0m\u001b[0m\n\u001b[0m\u001b[1;32m    367\u001b[0m     \u001b[0;32mreturn\u001b[0m \u001b[0mtorch\u001b[0m\u001b[0;34m.\u001b[0m\u001b[0m_C\u001b[0m\u001b[0;34m.\u001b[0m\u001b[0m_cuda_getDevice\u001b[0m\u001b[0;34m(\u001b[0m\u001b[0;34m)\u001b[0m\u001b[0;34m\u001b[0m\u001b[0;34m\u001b[0m\u001b[0m\n\u001b[1;32m    368\u001b[0m \u001b[0;34m\u001b[0m\u001b[0m\n",
      "\u001b[0;32m~/opt/miniconda3/envs/ml_env/lib/python3.8/site-packages/torch/cuda/__init__.py\u001b[0m in \u001b[0;36m_lazy_init\u001b[0;34m()\u001b[0m\n\u001b[1;32m    170\u001b[0m         \u001b[0;31m# This function throws if there's a driver initialization error, no GPUs\u001b[0m\u001b[0;34m\u001b[0m\u001b[0;34m\u001b[0m\u001b[0;34m\u001b[0m\u001b[0m\n\u001b[1;32m    171\u001b[0m         \u001b[0;31m# are found or any other error occurs\u001b[0m\u001b[0;34m\u001b[0m\u001b[0;34m\u001b[0m\u001b[0;34m\u001b[0m\u001b[0m\n\u001b[0;32m--> 172\u001b[0;31m         \u001b[0mtorch\u001b[0m\u001b[0;34m.\u001b[0m\u001b[0m_C\u001b[0m\u001b[0;34m.\u001b[0m\u001b[0m_cuda_init\u001b[0m\u001b[0;34m(\u001b[0m\u001b[0;34m)\u001b[0m\u001b[0;34m\u001b[0m\u001b[0;34m\u001b[0m\u001b[0m\n\u001b[0m\u001b[1;32m    173\u001b[0m         \u001b[0;31m# Some of the queued calls may reentrantly call _lazy_init();\u001b[0m\u001b[0;34m\u001b[0m\u001b[0;34m\u001b[0m\u001b[0;34m\u001b[0m\u001b[0m\n\u001b[1;32m    174\u001b[0m         \u001b[0;31m# we need to just return without initializing in that case.\u001b[0m\u001b[0;34m\u001b[0m\u001b[0;34m\u001b[0m\u001b[0;34m\u001b[0m\u001b[0m\n",
      "\u001b[0;31mRuntimeError\u001b[0m: Found no NVIDIA driver on your system. Please check that you have an NVIDIA GPU and installed a driver from http://www.nvidia.com/Download/index.aspx"
     ]
    }
   ],
   "source": [
    "# Check for GPU\n",
    "import torch\n",
    "\n",
    "print(\"Using a GPU? {}\".format(torch.cuda.is_available()))\n",
    "print(\"Device number [0-7]: {}\".format(torch.cuda.current_device()))"
   ]
  },
  {
   "cell_type": "markdown",
   "metadata": {},
   "source": [
    "# Load dataset"
   ]
  },
  {
   "cell_type": "code",
   "execution_count": null,
   "metadata": {
    "ExecuteTime": {
     "end_time": "2021-05-25T16:46:44.147943Z",
     "start_time": "2021-05-25T16:46:12.521Z"
    }
   },
   "outputs": [],
   "source": [
    "# Load from excel (downloaded from https://science.sciencemag.org/content/350/6258/325)\n",
    "# otx_data = pd.read_excel('/cellar/users/aklie/projects/EUGENE/data/Farley2015/aac6948_Tables_S1_and_S2.xlsx', header=0)\n",
    "# otx_data.to_csv('/cellar/users/aklie/projects/EUGENE/data/Farley2015/Farley2015_enhancer_rpm.tsv', sep='\\t', index=False)"
   ]
  },
  {
   "cell_type": "code",
   "execution_count": 3,
   "metadata": {
    "ExecuteTime": {
     "end_time": "2021-05-25T16:46:50.740320Z",
     "start_time": "2021-05-25T16:46:49.949482Z"
    }
   },
   "outputs": [
    {
     "data": {
      "text/html": [
       "<div>\n",
       "<style scoped>\n",
       "    .dataframe tbody tr th:only-of-type {\n",
       "        vertical-align: middle;\n",
       "    }\n",
       "\n",
       "    .dataframe tbody tr th {\n",
       "        vertical-align: top;\n",
       "    }\n",
       "\n",
       "    .dataframe thead th {\n",
       "        text-align: right;\n",
       "    }\n",
       "</style>\n",
       "<table border=\"1\" class=\"dataframe\">\n",
       "  <thead>\n",
       "    <tr style=\"text-align: right;\">\n",
       "      <th></th>\n",
       "      <th>Barcode</th>\n",
       "      <th>Enhancer</th>\n",
       "      <th>Biological Replicate 1 (RPM)</th>\n",
       "      <th>Biological Replicate 2 (RPM)</th>\n",
       "    </tr>\n",
       "  </thead>\n",
       "  <tbody>\n",
       "    <tr>\n",
       "      <th>0</th>\n",
       "      <td>AGGCGAACGGGTCCGAATTCGGTAGCTTATCACCG</td>\n",
       "      <td>GGATATCACAGATAAGCGCTACGTTCCAGCCGATCAACTTCCTGCC...</td>\n",
       "      <td>7.974906</td>\n",
       "      <td>261.994899</td>\n",
       "    </tr>\n",
       "    <tr>\n",
       "      <th>1</th>\n",
       "      <td>GGTGAAGAACCGGATGAATTCAACGTGTAATCTCGC</td>\n",
       "      <td>CTTTATCCTAGATATCCTAGGTCTTCCGTGTAGGTTACTTCCTTTA...</td>\n",
       "      <td>1.183775</td>\n",
       "      <td>168.881889</td>\n",
       "    </tr>\n",
       "    <tr>\n",
       "      <th>2</th>\n",
       "      <td>ACAATGGCCACCCGAGAATTCGAAACGGGAGGGATT,CCAAGCACA...</td>\n",
       "      <td>CACTATCTGAGATAATCTCCTGATTCCAATGGGCGATATTCCAGGA...</td>\n",
       "      <td>0.062304</td>\n",
       "      <td>152.683341</td>\n",
       "    </tr>\n",
       "    <tr>\n",
       "      <th>3</th>\n",
       "      <td>CACTCTGAGACATACGAATTCCCAGTGACTGGGCTC</td>\n",
       "      <td>AACTATCGGGGATAGCTAGATCTTTCCTGCTTCGAGTTTTCCCGCG...</td>\n",
       "      <td>127.972325</td>\n",
       "      <td>2.508827</td>\n",
       "    </tr>\n",
       "    <tr>\n",
       "      <th>4</th>\n",
       "      <td>TTAAGACTCAATACAGAATTCTGCATCCTGAGTCGA</td>\n",
       "      <td>TTATATCAGAGATAATTATAGCGTTCCCCTTGCTTAATTTCCCCGC...</td>\n",
       "      <td>100.708114</td>\n",
       "      <td>1.821477</td>\n",
       "    </tr>\n",
       "  </tbody>\n",
       "</table>\n",
       "</div>"
      ],
      "text/plain": [
       "                                             Barcode  \\\n",
       "0                AGGCGAACGGGTCCGAATTCGGTAGCTTATCACCG   \n",
       "1               GGTGAAGAACCGGATGAATTCAACGTGTAATCTCGC   \n",
       "2  ACAATGGCCACCCGAGAATTCGAAACGGGAGGGATT,CCAAGCACA...   \n",
       "3               CACTCTGAGACATACGAATTCCCAGTGACTGGGCTC   \n",
       "4               TTAAGACTCAATACAGAATTCTGCATCCTGAGTCGA   \n",
       "\n",
       "                                            Enhancer  \\\n",
       "0  GGATATCACAGATAAGCGCTACGTTCCAGCCGATCAACTTCCTGCC...   \n",
       "1  CTTTATCCTAGATATCCTAGGTCTTCCGTGTAGGTTACTTCCTTTA...   \n",
       "2  CACTATCTGAGATAATCTCCTGATTCCAATGGGCGATATTCCAGGA...   \n",
       "3  AACTATCGGGGATAGCTAGATCTTTCCTGCTTCGAGTTTTCCCGCG...   \n",
       "4  TTATATCAGAGATAATTATAGCGTTCCCCTTGCTTAATTTCCCCGC...   \n",
       "\n",
       "   Biological Replicate 1 (RPM)  Biological Replicate 2 (RPM)  \n",
       "0                      7.974906                    261.994899  \n",
       "1                      1.183775                    168.881889  \n",
       "2                      0.062304                    152.683341  \n",
       "3                    127.972325                      2.508827  \n",
       "4                    100.708114                      1.821477  "
      ]
     },
     "execution_count": 3,
     "metadata": {},
     "output_type": "execute_result"
    }
   ],
   "source": [
    "# Load from tsv (built using above)\n",
    "otx_data = pd.read_csv('/cellar/users/aklie/projects/EUGENE/data/Farley2015/Farley2015_enhancer_rpm.tsv', sep='\\t')\n",
    "otx_data.head()"
   ]
  },
  {
   "cell_type": "code",
   "execution_count": 19,
   "metadata": {
    "ExecuteTime": {
     "end_time": "2021-05-25T17:33:38.791658Z",
     "start_time": "2021-05-25T17:33:38.473850Z"
    }
   },
   "outputs": [
    {
     "data": {
      "text/plain": [
       "161296"
      ]
     },
     "execution_count": 19,
     "metadata": {},
     "output_type": "execute_result"
    }
   ],
   "source": [
    "len(otx_data[(otx_data['Biological Replicate 1 (RPM)'] > 0) | (otx_data['Biological Replicate 2 (RPM)'] > 0)].Barcode.unique())"
   ]
  },
  {
   "cell_type": "code",
   "execution_count": 23,
   "metadata": {
    "ExecuteTime": {
     "end_time": "2021-05-25T17:40:29.178760Z",
     "start_time": "2021-05-25T17:40:29.035414Z"
    }
   },
   "outputs": [
    {
     "data": {
      "text/plain": [
       "6087"
      ]
     },
     "execution_count": 23,
     "metadata": {},
     "output_type": "execute_result"
    }
   ],
   "source": [
    "len(set(otx_data[otx_data['Biological Replicate 1 (RPM)'] > 0].Barcode.unique()).intersection(set(otx_data[otx_data['Biological Replicate 2 (RPM)'] > 0].Barcode.unique())))"
   ]
  },
  {
   "cell_type": "code",
   "execution_count": 4,
   "metadata": {
    "ExecuteTime": {
     "end_time": "2021-05-25T16:46:50.792959Z",
     "start_time": "2021-05-25T16:46:50.743322Z"
    }
   },
   "outputs": [
    {
     "data": {
      "text/plain": [
       "163708"
      ]
     },
     "execution_count": 4,
     "metadata": {},
     "output_type": "execute_result"
    }
   ],
   "source": [
    "# 163,708 exhibited some level of expression\n",
    "len(otx_data)"
   ]
  },
  {
   "cell_type": "code",
   "execution_count": 5,
   "metadata": {
    "ExecuteTime": {
     "end_time": "2021-05-25T16:46:50.964133Z",
     "start_time": "2021-05-25T16:46:50.899500Z"
    }
   },
   "outputs": [
    {
     "data": {
      "text/plain": [
       "15208"
      ]
     },
     "execution_count": 5,
     "metadata": {},
     "output_type": "execute_result"
    }
   ],
   "source": [
    "# Check how many had average over 4\n",
    "((otx_data['Biological Replicate 1 (RPM)'] + otx_data['Biological Replicate 2 (RPM)']/2) >= 4).sum()"
   ]
  },
  {
   "cell_type": "code",
   "execution_count": 6,
   "metadata": {
    "ExecuteTime": {
     "end_time": "2021-05-25T16:46:51.184651Z",
     "start_time": "2021-05-25T16:46:51.152069Z"
    }
   },
   "outputs": [
    {
     "data": {
      "text/plain": [
       "21799"
      ]
     },
     "execution_count": 6,
     "metadata": {},
     "output_type": "execute_result"
    }
   ],
   "source": [
    "# 21,799 of these produced the same or higher levels of activity than the wild-type (WT) enhancer, ≥4 normalized reads per million (RPM)\n",
    "((otx_data['Biological Replicate 1 (RPM)'] >=4) | (otx_data['Biological Replicate 2 (RPM)'] >= 4)).sum()"
   ]
  },
  {
   "cell_type": "code",
   "execution_count": 7,
   "metadata": {
    "ExecuteTime": {
     "end_time": "2021-05-25T16:46:51.680112Z",
     "start_time": "2021-05-25T16:46:51.649761Z"
    }
   },
   "outputs": [
    {
     "data": {
      "text/plain": [
       "69"
      ]
     },
     "execution_count": 7,
     "metadata": {},
     "output_type": "execute_result"
    }
   ],
   "source": [
    "# WT-sequence\n",
    "len('TTGGATCTGAAGCTCGTTATCTCTAACGGAAGTTTTCGAAAAGGAAATTGTTCAATATCTAAGATAGGA')"
   ]
  },
  {
   "cell_type": "code",
   "execution_count": null,
   "metadata": {
    "ExecuteTime": {
     "end_time": "2021-05-25T16:46:44.157646Z",
     "start_time": "2021-05-25T16:46:18.611Z"
    }
   },
   "outputs": [],
   "source": [
    "# Can't find WT, why?\n",
    "otx_data[otx_data['Enhancer'] == 'TTGGATCTGAAGCTCGTTATCTCTAACGGAAGTTTTCGAAAAGGAAATTGTTCAATATCTAAGATAGGA']"
   ]
  },
  {
   "cell_type": "markdown",
   "metadata": {},
   "source": [
    "# Preprocess data"
   ]
  },
  {
   "cell_type": "code",
   "execution_count": 10,
   "metadata": {
    "ExecuteTime": {
     "end_time": "2021-05-20T15:58:31.166084Z",
     "start_time": "2021-05-20T15:58:31.124036Z"
    }
   },
   "outputs": [],
   "source": [
    "# Create a mask to only take length 69 sequences\n",
    "length_mask = np.array([len(enhancer) == 69 for enhancer in otx_data['Enhancer'].values])"
   ]
  },
  {
   "cell_type": "markdown",
   "metadata": {},
   "source": [
    "## Sequence input"
   ]
  },
  {
   "cell_type": "code",
   "execution_count": 11,
   "metadata": {
    "ExecuteTime": {
     "end_time": "2021-05-20T15:58:32.410956Z",
     "start_time": "2021-05-20T15:58:32.134366Z"
    }
   },
   "outputs": [],
   "source": [
    "from tqdm import tqdm\n",
    "from sklearn.preprocessing import LabelEncoder, OneHotEncoder"
   ]
  },
  {
   "cell_type": "code",
   "execution_count": 12,
   "metadata": {
    "ExecuteTime": {
     "end_time": "2021-05-20T15:58:32.970602Z",
     "start_time": "2021-05-20T15:58:32.947943Z"
    }
   },
   "outputs": [],
   "source": [
    "# Grab sequences from dataframe, currently cutting off\n",
    "#X = np.array([enhancer[:69] for enhancer in otx_data['Enhancer'].values])"
   ]
  },
  {
   "cell_type": "code",
   "execution_count": 13,
   "metadata": {
    "ExecuteTime": {
     "end_time": "2021-05-20T16:01:02.896097Z",
     "start_time": "2021-05-20T16:01:02.712271Z"
    }
   },
   "outputs": [],
   "source": [
    "# Grab sequences from dataframe that are length 69\n",
    "X = otx_data[length_mask]['Enhancer'].values"
   ]
  },
  {
   "cell_type": "code",
   "execution_count": 14,
   "metadata": {
    "ExecuteTime": {
     "end_time": "2021-05-20T16:02:09.006414Z",
     "start_time": "2021-05-20T16:01:17.478459Z"
    }
   },
   "outputs": [
    {
     "name": "stderr",
     "output_type": "stream",
     "text": [
      "100%|██████████| 151810/151810 [00:51<00:00, 2948.39it/s]\n"
     ]
    }
   ],
   "source": [
    "# One-hot encode sequences\n",
    "integer_encoder = LabelEncoder()\n",
    "one_hot_encoder = OneHotEncoder(categories=[np.array([0, 1, 2, 3])], handle_unknown='ignore')\n",
    "\n",
    "input_features = []  # will hold one hot encoded sequence\n",
    "seqs = []  # will hold padded and cut-off seqs to 69 bp\n",
    "for i, seq in enumerate(tqdm(X)):\n",
    "    if len(seq) < 69:\n",
    "        seq += ''.join(['N'] * (69-len(seq)))  # Pad with N's if less than 69bp\n",
    "    seqs.append(seq)\n",
    "    integer_encoded = integer_encoder.fit_transform(list(seq))  # convert to integer\n",
    "    integer_encoded = np.array(integer_encoded).reshape(-1, 1)\n",
    "    one_hot_encoder.fit(integer_encoded)  # convert to one hot\n",
    "    one_hot_encoded = one_hot_encoder.fit_transform(integer_encoded)\n",
    "    input_features.append(one_hot_encoded.toarray())"
   ]
  },
  {
   "cell_type": "code",
   "execution_count": 15,
   "metadata": {
    "ExecuteTime": {
     "end_time": "2021-05-20T16:02:11.233417Z",
     "start_time": "2021-05-20T16:02:11.047118Z"
    }
   },
   "outputs": [
    {
     "data": {
      "text/plain": [
       "True"
      ]
     },
     "execution_count": 15,
     "metadata": {},
     "output_type": "execute_result"
    }
   ],
   "source": [
    "# Make sure all of length 69 (padded end with Ns)\n",
    "np.array([len(feat) == 69 for feat in input_features]).all()"
   ]
  },
  {
   "cell_type": "code",
   "execution_count": 16,
   "metadata": {
    "ExecuteTime": {
     "end_time": "2021-05-20T16:02:12.224611Z",
     "start_time": "2021-05-20T16:02:11.619871Z"
    },
    "scrolled": true
   },
   "outputs": [
    {
     "name": "stdout",
     "output_type": "stream",
     "text": [
      "Seq #1 encoded correctly\n",
      "Seq #2 encoded correctly\n",
      "Seq #3 encoded correctly\n",
      "Seq #4 encoded correctly\n",
      "Seq #5 encoded correctly\n",
      "Seq #6 encoded correctly\n",
      "Seq #7 encoded correctly\n",
      "Seq #8 encoded correctly\n",
      "Seq #9 encoded correctly\n",
      "Seq #10 encoded correctly\n",
      "Seq #11 encoded correctly\n",
      "Seq #12 encoded correctly\n",
      "Seq #13 encoded correctly\n",
      "Seq #14 encoded correctly\n",
      "Seq #15 encoded correctly\n",
      "Seq #16 encoded correctly\n",
      "Seq #17 encoded correctly\n",
      "Seq #18 encoded correctly\n",
      "Seq #19 encoded correctly\n",
      "Seq #20 encoded correctly\n",
      "Seq #21 encoded correctly\n",
      "Seq #22 encoded correctly\n",
      "Seq #23 encoded correctly\n",
      "Seq #24 encoded correctly\n",
      "Seq #25 encoded correctly\n",
      "Seq #26 encoded correctly\n",
      "Seq #27 encoded correctly\n",
      "Seq #28 encoded correctly\n",
      "Seq #29 encoded correctly\n",
      "Seq #30 encoded correctly\n",
      "Seq #31 encoded correctly\n",
      "Seq #32 encoded correctly\n",
      "Seq #33 encoded correctly\n",
      "Seq #34 encoded correctly\n",
      "Seq #35 encoded correctly\n",
      "Seq #36 encoded correctly\n",
      "Seq #37 encoded correctly\n",
      "Seq #38 encoded correctly\n",
      "Seq #39 encoded correctly\n",
      "Seq #40 encoded correctly\n",
      "Seq #41 encoded correctly\n",
      "Seq #42 encoded correctly\n",
      "Seq #43 encoded correctly\n",
      "Seq #44 encoded correctly\n",
      "Seq #45 encoded correctly\n",
      "Seq #46 encoded correctly\n",
      "Seq #47 encoded correctly\n",
      "Seq #48 encoded correctly\n",
      "Seq #49 encoded correctly\n",
      "Seq #50 encoded correctly\n",
      "Seq #51 encoded correctly\n",
      "Seq #52 encoded correctly\n",
      "Seq #53 encoded correctly\n",
      "Seq #54 encoded correctly\n",
      "Seq #55 encoded correctly\n",
      "Seq #56 encoded correctly\n",
      "Seq #57 encoded correctly\n",
      "Seq #58 encoded correctly\n",
      "Seq #59 encoded correctly\n",
      "Seq #60 encoded correctly\n",
      "Seq #61 encoded correctly\n",
      "Seq #62 encoded correctly\n",
      "Seq #63 encoded correctly\n",
      "Seq #64 encoded correctly\n",
      "Seq #65 encoded correctly\n",
      "Seq #66 encoded correctly\n",
      "Seq #67 encoded correctly\n",
      "Seq #68 encoded correctly\n",
      "Seq #69 encoded correctly\n",
      "Seq #70 encoded correctly\n",
      "Seq #71 encoded correctly\n",
      "Seq #72 encoded correctly\n",
      "Seq #73 encoded correctly\n",
      "Seq #74 encoded correctly\n",
      "Seq #75 encoded correctly\n",
      "Seq #76 encoded correctly\n",
      "Seq #77 encoded correctly\n",
      "Seq #78 encoded correctly\n",
      "Seq #79 encoded correctly\n",
      "Seq #80 encoded correctly\n",
      "Seq #81 encoded correctly\n",
      "Seq #82 encoded correctly\n",
      "Seq #83 encoded correctly\n",
      "Seq #84 encoded correctly\n",
      "Seq #85 encoded correctly\n",
      "Seq #86 encoded correctly\n",
      "Seq #87 encoded correctly\n",
      "Seq #88 encoded correctly\n",
      "Seq #89 encoded correctly\n",
      "Seq #90 encoded correctly\n",
      "Seq #91 encoded correctly\n",
      "Seq #92 encoded correctly\n",
      "Seq #93 encoded correctly\n",
      "Seq #94 encoded correctly\n",
      "Seq #95 encoded correctly\n",
      "Seq #96 encoded correctly\n",
      "Seq #97 encoded correctly\n",
      "Seq #98 encoded correctly\n",
      "Seq #99 encoded correctly\n",
      "Seq #100 encoded correctly\n",
      "Seq #101 encoded correctly\n",
      "Seq #102 encoded correctly\n",
      "Seq #103 encoded correctly\n",
      "Seq #104 encoded correctly\n",
      "Seq #105 encoded correctly\n",
      "Seq #106 encoded correctly\n",
      "Seq #107 encoded correctly\n",
      "Seq #108 encoded correctly\n",
      "Seq #109 encoded correctly\n",
      "Seq #110 encoded correctly\n",
      "Seq #111 encoded correctly\n",
      "Seq #112 encoded correctly\n",
      "Seq #113 encoded correctly\n",
      "Seq #114 encoded correctly\n",
      "Seq #115 encoded correctly\n",
      "Seq #116 encoded correctly\n",
      "Seq #117 encoded correctly\n",
      "Seq #118 encoded correctly\n",
      "Seq #119 encoded correctly\n",
      "Seq #120 encoded correctly\n",
      "Seq #121 encoded correctly\n",
      "Seq #122 encoded correctly\n",
      "Seq #123 encoded correctly\n",
      "Seq #124 encoded correctly\n",
      "Seq #125 encoded correctly\n",
      "Seq #126 encoded correctly\n",
      "Seq #127 encoded correctly\n",
      "Seq #128 encoded correctly\n",
      "Seq #129 encoded correctly\n",
      "Seq #130 encoded correctly\n",
      "Seq #131 encoded correctly\n",
      "Seq #132 encoded correctly\n",
      "Seq #133 encoded correctly\n",
      "Seq #134 encoded correctly\n",
      "Seq #135 encoded correctly\n",
      "Seq #136 encoded correctly\n",
      "Seq #137 encoded correctly\n",
      "Seq #138 encoded correctly\n",
      "Seq #139 encoded correctly\n",
      "Seq #140 encoded correctly\n",
      "Seq #141 encoded correctly\n",
      "Seq #142 encoded correctly\n",
      "Seq #143 encoded correctly\n",
      "Seq #144 encoded correctly\n",
      "Seq #145 encoded correctly\n",
      "Seq #146 encoded correctly\n",
      "Seq #147 encoded correctly\n",
      "Seq #148 encoded correctly\n",
      "Seq #149 encoded correctly\n",
      "Seq #150 encoded correctly\n",
      "Seq #151 encoded correctly\n",
      "Seq #152 encoded correctly\n",
      "Seq #153 encoded correctly\n",
      "Seq #154 encoded correctly\n",
      "Seq #155 encoded correctly\n",
      "Seq #156 encoded correctly\n",
      "Seq #157 encoded correctly\n",
      "Seq #158 encoded correctly\n",
      "Seq #159 encoded correctly\n",
      "Seq #160 encoded correctly\n",
      "Seq #161 encoded correctly\n",
      "Seq #162 encoded correctly\n",
      "Seq #163 encoded correctly\n",
      "Seq #164 encoded correctly\n",
      "Seq #165 encoded correctly\n",
      "Seq #166 encoded correctly\n",
      "Seq #167 encoded correctly\n",
      "Seq #168 encoded correctly\n",
      "Seq #169 encoded correctly\n",
      "Seq #170 encoded correctly\n",
      "Seq #171 encoded correctly\n",
      "Seq #172 encoded correctly\n",
      "Seq #173 encoded correctly\n",
      "Seq #174 encoded correctly\n",
      "Seq #175 encoded correctly\n",
      "Seq #176 encoded correctly\n",
      "Seq #177 encoded correctly\n",
      "Seq #178 encoded correctly\n",
      "Seq #179 encoded correctly\n",
      "Seq #180 encoded correctly\n",
      "Seq #181 encoded correctly\n",
      "Seq #182 encoded correctly\n",
      "Seq #183 encoded correctly\n",
      "Seq #184 encoded correctly\n",
      "Seq #185 encoded correctly\n",
      "Seq #186 encoded correctly\n",
      "Seq #187 encoded correctly\n",
      "Seq #188 encoded correctly\n",
      "Seq #189 encoded correctly\n",
      "Seq #190 encoded correctly\n",
      "Seq #191 encoded correctly\n",
      "Seq #192 encoded correctly\n",
      "Seq #193 encoded correctly\n",
      "Seq #194 encoded correctly\n",
      "Seq #195 encoded correctly\n",
      "Seq #196 encoded correctly\n",
      "Seq #197 encoded correctly\n",
      "Seq #198 encoded correctly\n",
      "Seq #199 encoded correctly\n",
      "Seq #200 encoded correctly\n",
      "Seq #201 encoded correctly\n",
      "Seq #202 encoded correctly\n",
      "Seq #203 encoded correctly\n",
      "Seq #204 encoded correctly\n",
      "Seq #205 encoded correctly\n",
      "Seq #206 encoded correctly\n",
      "Seq #207 encoded correctly\n",
      "Seq #208 encoded correctly\n",
      "Seq #209 encoded correctly\n",
      "Seq #210 encoded correctly\n",
      "Seq #211 encoded correctly\n",
      "Seq #212 encoded correctly\n",
      "Seq #213 encoded correctly\n",
      "Seq #214 encoded correctly\n",
      "Seq #215 encoded correctly\n",
      "Seq #216 encoded correctly\n",
      "Seq #217 encoded correctly\n",
      "Seq #218 encoded correctly\n",
      "Seq #219 encoded correctly\n",
      "Seq #220 encoded correctly\n",
      "Seq #221 encoded correctly\n",
      "Seq #222 encoded correctly\n",
      "Seq #223 encoded correctly\n",
      "Seq #224 encoded correctly\n",
      "Seq #225 encoded correctly\n",
      "Seq #226 encoded correctly\n",
      "Seq #227 encoded correctly\n",
      "Seq #228 encoded correctly\n",
      "Seq #229 encoded correctly\n",
      "Seq #230 encoded correctly\n",
      "Seq #231 encoded correctly\n",
      "Seq #232 encoded correctly\n",
      "Seq #233 encoded correctly\n",
      "Seq #234 encoded correctly\n",
      "Seq #235 encoded correctly\n",
      "Seq #236 encoded correctly\n",
      "Seq #237 encoded correctly\n",
      "Seq #238 encoded correctly\n",
      "Seq #239 encoded correctly\n",
      "Seq #240 encoded correctly\n",
      "Seq #241 encoded correctly\n",
      "Seq #242 encoded correctly\n",
      "Seq #243 encoded correctly\n",
      "Seq #244 encoded correctly\n",
      "Seq #245 encoded correctly\n",
      "Seq #246 encoded correctly\n",
      "Seq #247 encoded correctly\n",
      "Seq #248 encoded correctly\n",
      "Seq #249 encoded correctly\n",
      "Seq #250 encoded correctly\n",
      "Seq #251 encoded correctly\n",
      "Seq #252 encoded correctly\n",
      "Seq #253 encoded correctly\n",
      "Seq #254 encoded correctly\n",
      "Seq #255 encoded correctly\n",
      "Seq #256 encoded correctly\n",
      "Seq #257 encoded correctly\n",
      "Seq #258 encoded correctly\n",
      "Seq #259 encoded correctly\n",
      "Seq #260 encoded correctly\n",
      "Seq #261 encoded correctly\n",
      "Seq #262 encoded correctly\n",
      "Seq #263 encoded correctly\n",
      "Seq #264 encoded correctly\n",
      "Seq #265 encoded correctly\n",
      "Seq #266 encoded correctly\n",
      "Seq #267 encoded correctly\n",
      "Seq #268 encoded correctly\n",
      "Seq #269 encoded correctly\n",
      "Seq #270 encoded correctly\n",
      "Seq #271 encoded correctly\n",
      "Seq #272 encoded correctly\n",
      "Seq #273 encoded correctly\n",
      "Seq #274 encoded correctly\n",
      "Seq #275 encoded correctly\n",
      "Seq #276 encoded correctly\n",
      "Seq #277 encoded correctly\n",
      "Seq #278 encoded correctly\n",
      "Seq #279 encoded correctly\n",
      "Seq #280 encoded correctly\n",
      "Seq #281 encoded correctly\n",
      "Seq #282 encoded correctly\n",
      "Seq #283 encoded correctly\n",
      "Seq #284 encoded correctly\n",
      "Seq #285 encoded correctly\n",
      "Seq #286 encoded correctly\n",
      "Seq #287 encoded correctly\n",
      "Seq #288 encoded correctly\n",
      "Seq #289 encoded correctly\n",
      "Seq #290 encoded correctly\n",
      "Seq #291 encoded correctly\n",
      "Seq #292 encoded correctly\n",
      "Seq #293 encoded correctly\n",
      "Seq #294 encoded correctly\n",
      "Seq #295 encoded correctly\n",
      "Seq #296 encoded correctly\n",
      "Seq #297 encoded correctly\n",
      "Seq #298 encoded correctly\n",
      "Seq #299 encoded correctly\n",
      "Seq #300 encoded correctly\n",
      "Seq #301 encoded correctly\n",
      "Seq #302 encoded correctly\n",
      "Seq #303 encoded correctly\n",
      "Seq #304 encoded correctly\n",
      "Seq #305 encoded correctly\n",
      "Seq #306 encoded correctly\n",
      "Seq #307 encoded correctly\n",
      "Seq #308 encoded correctly\n",
      "Seq #309 encoded correctly\n",
      "Seq #310 encoded correctly\n",
      "Seq #311 encoded correctly\n",
      "Seq #312 encoded correctly\n",
      "Seq #313 encoded correctly\n",
      "Seq #314 encoded correctly\n",
      "Seq #315 encoded correctly\n",
      "Seq #316 encoded correctly\n",
      "Seq #317 encoded correctly\n",
      "Seq #318 encoded correctly\n",
      "Seq #319 encoded correctly\n",
      "Seq #320 encoded correctly\n",
      "Seq #321 encoded correctly\n",
      "Seq #322 encoded correctly\n",
      "Seq #323 encoded correctly\n",
      "Seq #324 encoded correctly\n",
      "Seq #325 encoded correctly\n",
      "Seq #326 encoded correctly\n",
      "Seq #327 encoded correctly\n",
      "Seq #328 encoded correctly\n",
      "Seq #329 encoded correctly\n",
      "Seq #330 encoded correctly\n",
      "Seq #331 encoded correctly\n",
      "Seq #332 encoded correctly\n",
      "Seq #333 encoded correctly\n",
      "Seq #334 encoded correctly\n",
      "Seq #335 encoded correctly\n",
      "Seq #336 encoded correctly\n",
      "Seq #337 encoded correctly\n",
      "Seq #338 encoded correctly\n",
      "Seq #339 encoded correctly\n",
      "Seq #340 encoded correctly\n",
      "Seq #341 encoded correctly\n",
      "Seq #342 encoded correctly\n",
      "Seq #343 encoded correctly\n",
      "Seq #344 encoded correctly\n",
      "Seq #345 encoded correctly\n",
      "Seq #346 encoded correctly\n",
      "Seq #347 encoded correctly\n",
      "Seq #348 encoded correctly\n",
      "Seq #349 encoded correctly\n",
      "Seq #350 encoded correctly\n",
      "Seq #351 encoded correctly\n",
      "Seq #352 encoded correctly\n",
      "Seq #353 encoded correctly\n",
      "Seq #354 encoded correctly\n",
      "Seq #355 encoded correctly\n",
      "Seq #356 encoded correctly\n",
      "Seq #357 encoded correctly\n",
      "Seq #358 encoded correctly\n",
      "Seq #359 encoded correctly\n",
      "Seq #360 encoded correctly\n",
      "Seq #361 encoded correctly\n",
      "Seq #362 encoded correctly\n",
      "Seq #363 encoded correctly\n",
      "Seq #364 encoded correctly\n",
      "Seq #365 encoded correctly\n",
      "Seq #366 encoded correctly\n",
      "Seq #367 encoded correctly\n",
      "Seq #368 encoded correctly\n",
      "Seq #369 encoded correctly\n",
      "Seq #370 encoded correctly\n",
      "Seq #371 encoded correctly\n",
      "Seq #372 encoded correctly\n",
      "Seq #373 encoded correctly\n",
      "Seq #374 encoded correctly\n",
      "Seq #375 encoded correctly\n",
      "Seq #376 encoded correctly\n",
      "Seq #377 encoded correctly\n",
      "Seq #378 encoded correctly\n",
      "Seq #379 encoded correctly\n",
      "Seq #380 encoded correctly\n",
      "Seq #381 encoded correctly\n",
      "Seq #382 encoded correctly\n",
      "Seq #383 encoded correctly\n",
      "Seq #384 encoded correctly\n",
      "Seq #385 encoded correctly\n",
      "Seq #386 encoded correctly\n",
      "Seq #387 encoded correctly\n",
      "Seq #388 encoded correctly\n",
      "Seq #389 encoded correctly\n",
      "Seq #390 encoded correctly\n",
      "Seq #391 encoded correctly\n",
      "Seq #392 encoded correctly\n",
      "Seq #393 encoded correctly\n",
      "Seq #394 encoded correctly\n",
      "Seq #395 encoded correctly\n",
      "Seq #396 encoded correctly\n",
      "Seq #397 encoded correctly\n",
      "Seq #398 encoded correctly\n",
      "Seq #399 encoded correctly\n",
      "Seq #400 encoded correctly\n",
      "Seq #401 encoded correctly\n",
      "Seq #402 encoded correctly\n",
      "Seq #403 encoded correctly\n",
      "Seq #404 encoded correctly\n",
      "Seq #405 encoded correctly\n",
      "Seq #406 encoded correctly\n",
      "Seq #407 encoded correctly\n",
      "Seq #408 encoded correctly\n",
      "Seq #409 encoded correctly\n",
      "Seq #410 encoded correctly\n",
      "Seq #411 encoded correctly\n",
      "Seq #412 encoded correctly\n",
      "Seq #413 encoded correctly\n",
      "Seq #414 encoded correctly\n",
      "Seq #415 encoded correctly\n",
      "Seq #416 encoded correctly\n",
      "Seq #417 encoded correctly\n",
      "Seq #418 encoded correctly\n",
      "Seq #419 encoded correctly\n",
      "Seq #420 encoded correctly\n",
      "Seq #421 encoded correctly\n",
      "Seq #422 encoded correctly\n",
      "Seq #423 encoded correctly\n",
      "Seq #424 encoded correctly\n",
      "Seq #425 encoded correctly\n",
      "Seq #426 encoded correctly\n",
      "Seq #427 encoded correctly\n",
      "Seq #428 encoded correctly\n",
      "Seq #429 encoded correctly\n",
      "Seq #430 encoded correctly\n",
      "Seq #431 encoded correctly\n",
      "Seq #432 encoded correctly\n",
      "Seq #433 encoded correctly\n",
      "Seq #434 encoded correctly\n",
      "Seq #435 encoded correctly\n",
      "Seq #436 encoded correctly\n",
      "Seq #437 encoded correctly\n",
      "Seq #438 encoded correctly\n",
      "Seq #439 encoded correctly\n",
      "Seq #440 encoded correctly\n",
      "Seq #441 encoded correctly\n",
      "Seq #442 encoded correctly\n",
      "Seq #443 encoded correctly\n",
      "Seq #444 encoded correctly\n",
      "Seq #445 encoded correctly\n",
      "Seq #446 encoded correctly\n",
      "Seq #447 encoded correctly\n",
      "Seq #448 encoded correctly\n",
      "Seq #449 encoded correctly\n",
      "Seq #450 encoded correctly\n",
      "Seq #451 encoded correctly\n",
      "Seq #452 encoded correctly\n",
      "Seq #453 encoded correctly\n",
      "Seq #454 encoded correctly\n",
      "Seq #455 encoded correctly\n",
      "Seq #456 encoded correctly\n",
      "Seq #457 encoded correctly\n",
      "Seq #458 encoded correctly\n",
      "Seq #459 encoded correctly\n",
      "Seq #460 encoded correctly\n",
      "Seq #461 encoded correctly\n",
      "Seq #462 encoded correctly\n",
      "Seq #463 encoded correctly\n",
      "Seq #464 encoded correctly\n",
      "Seq #465 encoded correctly\n",
      "Seq #466 encoded correctly\n",
      "Seq #467 encoded correctly\n",
      "Seq #468 encoded correctly\n",
      "Seq #469 encoded correctly\n",
      "Seq #470 encoded correctly\n",
      "Seq #471 encoded correctly\n",
      "Seq #472 encoded correctly\n",
      "Seq #473 encoded correctly\n",
      "Seq #474 encoded correctly\n",
      "Seq #475 encoded correctly\n",
      "Seq #476 encoded correctly\n",
      "Seq #477 encoded correctly\n",
      "Seq #478 encoded correctly\n",
      "Seq #479 encoded correctly\n",
      "Seq #480 encoded correctly\n",
      "Seq #481 encoded correctly\n",
      "Seq #482 encoded correctly\n",
      "Seq #483 encoded correctly\n",
      "Seq #484 encoded correctly\n",
      "Seq #485 encoded correctly\n",
      "Seq #486 encoded correctly\n",
      "Seq #487 encoded correctly\n",
      "Seq #488 encoded correctly\n",
      "Seq #489 encoded correctly\n",
      "Seq #490 encoded correctly\n",
      "Seq #491 encoded correctly\n",
      "Seq #492 encoded correctly\n",
      "Seq #493 encoded correctly\n",
      "Seq #494 encoded correctly\n",
      "Seq #495 encoded correctly\n",
      "Seq #496 encoded correctly\n",
      "Seq #497 encoded correctly\n",
      "Seq #498 encoded correctly\n",
      "Seq #499 encoded correctly\n",
      "Seq #500 encoded correctly\n",
      "Seq #501 encoded correctly\n",
      "Seq #502 encoded correctly\n",
      "Seq #503 encoded correctly\n",
      "Seq #504 encoded correctly\n",
      "Seq #505 encoded correctly\n",
      "Seq #506 encoded correctly\n",
      "Seq #507 encoded correctly\n",
      "Seq #508 encoded correctly\n",
      "Seq #509 encoded correctly\n",
      "Seq #510 encoded correctly\n",
      "Seq #511 encoded correctly\n",
      "Seq #512 encoded correctly\n",
      "Seq #513 encoded correctly\n",
      "Seq #514 encoded correctly\n",
      "Seq #515 encoded correctly\n",
      "Seq #516 encoded correctly\n",
      "Seq #517 encoded correctly\n",
      "Seq #518 encoded correctly\n",
      "Seq #519 encoded correctly\n",
      "Seq #520 encoded correctly\n",
      "Seq #521 encoded correctly\n",
      "Seq #522 encoded correctly\n",
      "Seq #523 encoded correctly\n",
      "Seq #524 encoded correctly\n",
      "Seq #525 encoded correctly\n",
      "Seq #526 encoded correctly\n",
      "Seq #527 encoded correctly\n",
      "Seq #528 encoded correctly\n",
      "Seq #529 encoded correctly\n",
      "Seq #530 encoded correctly\n",
      "Seq #531 encoded correctly\n",
      "Seq #532 encoded correctly\n",
      "Seq #533 encoded correctly\n",
      "Seq #534 encoded correctly\n",
      "Seq #535 encoded correctly\n",
      "Seq #536 encoded correctly\n",
      "Seq #537 encoded correctly\n",
      "Seq #538 encoded correctly\n",
      "Seq #539 encoded correctly\n",
      "Seq #540 encoded correctly\n",
      "Seq #541 encoded correctly\n",
      "Seq #542 encoded correctly\n"
     ]
    },
    {
     "name": "stdout",
     "output_type": "stream",
     "text": [
      "Seq #543 encoded correctly\n",
      "Seq #544 encoded correctly\n",
      "Seq #545 encoded correctly\n",
      "Seq #546 encoded correctly\n",
      "Seq #547 encoded correctly\n",
      "Seq #548 encoded correctly\n",
      "Seq #549 encoded correctly\n",
      "Seq #550 encoded correctly\n",
      "Seq #551 encoded correctly\n",
      "Seq #552 encoded correctly\n",
      "Seq #553 encoded correctly\n",
      "Seq #554 encoded correctly\n",
      "Seq #555 encoded correctly\n",
      "Seq #556 encoded correctly\n",
      "Seq #557 encoded correctly\n",
      "Seq #558 encoded correctly\n",
      "Seq #559 encoded correctly\n",
      "Seq #560 encoded correctly\n",
      "Seq #561 encoded correctly\n",
      "Seq #562 encoded correctly\n",
      "Seq #563 encoded correctly\n",
      "Seq #564 encoded correctly\n",
      "Seq #565 encoded correctly\n",
      "Seq #566 encoded correctly\n",
      "Seq #567 encoded correctly\n",
      "Seq #568 encoded correctly\n",
      "Seq #569 encoded correctly\n",
      "Seq #570 encoded correctly\n",
      "Seq #571 encoded correctly\n",
      "Seq #572 encoded correctly\n",
      "Seq #573 encoded correctly\n",
      "Seq #574 encoded correctly\n",
      "Seq #575 encoded correctly\n",
      "Seq #576 encoded correctly\n",
      "Seq #577 encoded correctly\n",
      "Seq #578 encoded correctly\n",
      "Seq #579 encoded correctly\n",
      "Seq #580 encoded correctly\n",
      "Seq #581 encoded correctly\n",
      "Seq #582 encoded correctly\n",
      "Seq #583 encoded correctly\n",
      "Seq #584 encoded correctly\n",
      "Seq #585 encoded correctly\n",
      "Seq #586 encoded correctly\n",
      "Seq #587 encoded correctly\n",
      "Seq #588 encoded correctly\n",
      "Seq #589 encoded correctly\n",
      "Seq #590 encoded correctly\n",
      "Seq #591 encoded correctly\n",
      "Seq #592 encoded correctly\n",
      "Seq #593 encoded correctly\n",
      "Seq #594 encoded correctly\n",
      "Seq #595 encoded correctly\n",
      "Seq #596 encoded correctly\n",
      "Seq #597 encoded correctly\n",
      "Seq #598 encoded correctly\n",
      "Seq #599 encoded correctly\n",
      "Seq #600 encoded correctly\n",
      "Seq #601 encoded correctly\n",
      "Seq #602 encoded correctly\n",
      "Seq #603 encoded correctly\n",
      "Seq #604 encoded correctly\n",
      "Seq #605 encoded correctly\n",
      "Seq #606 encoded correctly\n",
      "Seq #607 encoded correctly\n",
      "Seq #608 encoded correctly\n",
      "Seq #609 encoded correctly\n",
      "Seq #610 encoded correctly\n",
      "Seq #611 encoded correctly\n",
      "Seq #612 encoded correctly\n",
      "Seq #613 encoded correctly\n",
      "Seq #614 encoded correctly\n",
      "Seq #615 encoded correctly\n",
      "Seq #616 encoded correctly\n",
      "Seq #617 encoded correctly\n",
      "Seq #618 encoded correctly\n",
      "Seq #619 encoded correctly\n",
      "Seq #620 encoded correctly\n",
      "Seq #621 encoded correctly\n",
      "Seq #622 encoded correctly\n",
      "Seq #623 encoded correctly\n",
      "Seq #624 encoded correctly\n",
      "Seq #625 encoded correctly\n",
      "Seq #626 encoded correctly\n",
      "Seq #627 encoded correctly\n",
      "Seq #628 encoded correctly\n",
      "Seq #629 encoded correctly\n",
      "Seq #630 encoded correctly\n",
      "Seq #631 encoded correctly\n",
      "Seq #632 encoded correctly\n",
      "Seq #633 encoded correctly\n",
      "Seq #634 encoded correctly\n",
      "Seq #635 encoded correctly\n",
      "Seq #636 encoded correctly\n",
      "Seq #637 encoded correctly\n",
      "Seq #638 encoded correctly\n",
      "Seq #639 encoded correctly\n",
      "Seq #640 encoded correctly\n",
      "Seq #641 encoded correctly\n",
      "Seq #642 encoded correctly\n",
      "Seq #643 encoded correctly\n",
      "Seq #644 encoded correctly\n",
      "Seq #645 encoded correctly\n",
      "Seq #646 encoded correctly\n",
      "Seq #647 encoded correctly\n",
      "Seq #648 encoded correctly\n",
      "Seq #649 encoded correctly\n",
      "Seq #650 encoded correctly\n",
      "Seq #651 encoded correctly\n",
      "Seq #652 encoded correctly\n",
      "Seq #653 encoded correctly\n",
      "Seq #654 encoded correctly\n",
      "Seq #655 encoded correctly\n",
      "Seq #656 encoded correctly\n",
      "Seq #657 encoded correctly\n",
      "Seq #658 encoded correctly\n",
      "Seq #659 encoded correctly\n",
      "Seq #660 encoded correctly\n",
      "Seq #661 encoded correctly\n",
      "Seq #662 encoded correctly\n",
      "Seq #663 encoded correctly\n",
      "Seq #664 encoded correctly\n",
      "Seq #665 encoded correctly\n",
      "Seq #666 encoded correctly\n",
      "Seq #667 encoded correctly\n",
      "Seq #668 encoded correctly\n",
      "Seq #669 encoded correctly\n",
      "Seq #670 encoded correctly\n",
      "Seq #671 encoded correctly\n",
      "Seq #672 encoded correctly\n",
      "Seq #673 encoded correctly\n",
      "Seq #674 encoded correctly\n",
      "Seq #675 encoded correctly\n",
      "Seq #676 encoded correctly\n",
      "Seq #677 encoded correctly\n",
      "Seq #678 encoded correctly\n",
      "Seq #679 encoded correctly\n",
      "Seq #680 encoded correctly\n",
      "Seq #681 encoded correctly\n",
      "Seq #682 encoded correctly\n",
      "Seq #683 encoded correctly\n",
      "Seq #684 encoded correctly\n",
      "Seq #685 encoded correctly\n",
      "Seq #686 encoded correctly\n",
      "Seq #687 encoded correctly\n",
      "Seq #688 encoded correctly\n",
      "Seq #689 encoded correctly\n",
      "Seq #690 encoded correctly\n",
      "Seq #691 encoded correctly\n",
      "Seq #692 encoded correctly\n",
      "Seq #693 encoded correctly\n",
      "Seq #694 encoded correctly\n",
      "Seq #695 encoded correctly\n",
      "Seq #696 encoded correctly\n",
      "Seq #697 encoded correctly\n",
      "Seq #698 encoded correctly\n",
      "Seq #699 encoded correctly\n",
      "Seq #700 encoded correctly\n",
      "Seq #701 encoded correctly\n",
      "Seq #702 encoded correctly\n",
      "Seq #703 encoded correctly\n",
      "Seq #704 encoded correctly\n",
      "Seq #705 encoded correctly\n",
      "Seq #706 encoded correctly\n",
      "Seq #707 encoded correctly\n",
      "Seq #708 encoded correctly\n",
      "Seq #709 encoded correctly\n",
      "Seq #710 encoded correctly\n",
      "Seq #711 encoded correctly\n",
      "Seq #712 encoded correctly\n",
      "Seq #713 encoded correctly\n",
      "Seq #714 encoded correctly\n",
      "Seq #715 encoded correctly\n",
      "Seq #716 encoded correctly\n",
      "Seq #717 encoded correctly\n",
      "Seq #718 encoded correctly\n",
      "Seq #719 encoded correctly\n",
      "Seq #720 encoded correctly\n",
      "Seq #721 encoded correctly\n",
      "Seq #722 encoded correctly\n",
      "Seq #723 encoded correctly\n",
      "Seq #724 encoded correctly\n",
      "Seq #725 encoded correctly\n",
      "Seq #726 encoded correctly\n",
      "Seq #727 encoded correctly\n",
      "Seq #728 encoded correctly\n",
      "Seq #729 encoded correctly\n",
      "Seq #730 encoded correctly\n",
      "Seq #731 encoded correctly\n",
      "Seq #732 encoded correctly\n",
      "Seq #733 encoded correctly\n",
      "Seq #734 encoded correctly\n",
      "Seq #735 encoded correctly\n",
      "Seq #736 encoded correctly\n",
      "Seq #737 encoded correctly\n",
      "Seq #738 encoded correctly\n",
      "Seq #739 encoded correctly\n",
      "Seq #740 encoded correctly\n",
      "Seq #741 encoded correctly\n",
      "Seq #742 encoded correctly\n",
      "Seq #743 encoded correctly\n",
      "Seq #744 encoded correctly\n",
      "Seq #745 encoded correctly\n",
      "Seq #746 encoded correctly\n",
      "Seq #747 encoded correctly\n",
      "Seq #748 encoded correctly\n",
      "Seq #749 encoded correctly\n",
      "Seq #750 encoded correctly\n",
      "Seq #751 encoded correctly\n",
      "Seq #752 encoded correctly\n",
      "Seq #753 encoded correctly\n",
      "Seq #754 encoded correctly\n",
      "Seq #755 encoded correctly\n",
      "Seq #756 encoded correctly\n",
      "Seq #757 encoded correctly\n",
      "Seq #758 encoded correctly\n",
      "Seq #759 encoded correctly\n",
      "Seq #760 encoded correctly\n",
      "Seq #761 encoded correctly\n",
      "Seq #762 encoded correctly\n",
      "Seq #763 encoded correctly\n",
      "Seq #764 encoded correctly\n",
      "Seq #765 encoded correctly\n",
      "Seq #766 encoded correctly\n",
      "Seq #767 encoded correctly\n",
      "Seq #768 encoded correctly\n",
      "Seq #769 encoded correctly\n",
      "Seq #770 encoded correctly\n",
      "Seq #771 encoded correctly\n",
      "Seq #772 encoded correctly\n",
      "Seq #773 encoded correctly\n",
      "Seq #774 encoded correctly\n",
      "Seq #775 encoded correctly\n",
      "Seq #776 encoded correctly\n",
      "Seq #777 encoded correctly\n",
      "Seq #778 encoded correctly\n",
      "Seq #779 encoded correctly\n",
      "Seq #780 encoded correctly\n",
      "Seq #781 encoded correctly\n",
      "Seq #782 encoded correctly\n",
      "Seq #783 encoded correctly\n",
      "Seq #784 encoded correctly\n",
      "Seq #785 encoded correctly\n",
      "Seq #786 encoded correctly\n",
      "Seq #787 encoded correctly\n",
      "Seq #788 encoded correctly\n",
      "Seq #789 encoded correctly\n",
      "Seq #790 encoded correctly\n",
      "Seq #791 encoded correctly\n",
      "Seq #792 encoded correctly\n",
      "Seq #793 encoded correctly\n",
      "Seq #794 encoded correctly\n",
      "Seq #795 encoded correctly\n",
      "Seq #796 encoded correctly\n",
      "Seq #797 encoded correctly\n",
      "Seq #798 encoded correctly\n",
      "Seq #799 encoded correctly\n",
      "Seq #800 encoded correctly\n",
      "Seq #801 encoded correctly\n",
      "Seq #802 encoded correctly\n",
      "Seq #803 encoded correctly\n",
      "Seq #804 encoded correctly\n",
      "Seq #805 encoded correctly\n",
      "Seq #806 encoded correctly\n",
      "Seq #807 encoded correctly\n",
      "Seq #808 encoded correctly\n",
      "Seq #809 encoded correctly\n",
      "Seq #810 encoded correctly\n",
      "Seq #811 encoded correctly\n",
      "Seq #812 encoded correctly\n",
      "Seq #813 encoded correctly\n",
      "Seq #814 encoded correctly\n",
      "Seq #815 encoded correctly\n",
      "Seq #816 encoded correctly\n",
      "Seq #817 encoded correctly\n",
      "Seq #818 encoded correctly\n",
      "Seq #819 encoded correctly\n",
      "Seq #820 encoded correctly\n",
      "Seq #821 encoded correctly\n",
      "Seq #822 encoded correctly\n",
      "Seq #823 encoded correctly\n",
      "Seq #824 encoded correctly\n",
      "Seq #825 encoded correctly\n",
      "Seq #826 encoded correctly\n",
      "Seq #827 encoded correctly\n",
      "Seq #828 encoded correctly\n",
      "Seq #829 encoded correctly\n",
      "Seq #830 encoded correctly\n",
      "Seq #831 encoded correctly\n",
      "Seq #832 encoded correctly\n",
      "Seq #833 encoded correctly\n",
      "Seq #834 encoded correctly\n",
      "Seq #835 encoded correctly\n",
      "Seq #836 encoded correctly\n",
      "Seq #837 encoded correctly\n",
      "Seq #838 encoded correctly\n",
      "Seq #839 encoded correctly\n",
      "Seq #840 encoded correctly\n",
      "Seq #841 encoded correctly\n",
      "Seq #842 encoded correctly\n",
      "Seq #843 encoded correctly\n",
      "Seq #844 encoded correctly\n",
      "Seq #845 encoded correctly\n",
      "Seq #846 encoded correctly\n",
      "Seq #847 encoded correctly\n",
      "Seq #848 encoded correctly\n",
      "Seq #849 encoded correctly\n",
      "Seq #850 encoded correctly\n",
      "Seq #851 encoded correctly\n",
      "Seq #852 encoded correctly\n",
      "Seq #853 encoded correctly\n",
      "Seq #854 encoded correctly\n",
      "Seq #855 encoded correctly\n",
      "Seq #856 encoded correctly\n",
      "Seq #857 encoded correctly\n",
      "Seq #858 encoded correctly\n",
      "Seq #859 encoded correctly\n",
      "Seq #860 encoded correctly\n",
      "Seq #861 encoded correctly\n",
      "Seq #862 encoded correctly\n",
      "Seq #863 encoded correctly\n",
      "Seq #864 encoded correctly\n",
      "Seq #865 encoded correctly\n",
      "Seq #866 encoded correctly\n",
      "Seq #867 encoded correctly\n",
      "Seq #868 encoded correctly\n",
      "Seq #869 encoded correctly\n",
      "Seq #870 encoded correctly\n",
      "Seq #871 encoded correctly\n",
      "Seq #872 encoded correctly\n",
      "Seq #873 encoded correctly\n",
      "Seq #874 encoded correctly\n",
      "Seq #875 encoded correctly\n",
      "Seq #876 encoded correctly\n",
      "Seq #877 encoded correctly\n",
      "Seq #878 encoded correctly\n",
      "Seq #879 encoded correctly\n",
      "Seq #880 encoded correctly\n",
      "Seq #881 encoded correctly\n",
      "Seq #882 encoded correctly\n",
      "Seq #883 encoded correctly\n",
      "Seq #884 encoded correctly\n",
      "Seq #885 encoded correctly\n",
      "Seq #886 encoded correctly\n",
      "Seq #887 encoded correctly\n",
      "Seq #888 encoded correctly\n",
      "Seq #889 encoded correctly\n",
      "Seq #890 encoded correctly\n",
      "Seq #891 encoded correctly\n",
      "Seq #892 encoded correctly\n",
      "Seq #893 encoded correctly\n",
      "Seq #894 encoded correctly\n",
      "Seq #895 encoded correctly\n",
      "Seq #896 encoded correctly\n",
      "Seq #897 encoded correctly\n",
      "Seq #898 encoded correctly\n",
      "Seq #899 encoded correctly\n",
      "Seq #900 encoded correctly\n",
      "Seq #901 encoded correctly\n",
      "Seq #902 encoded correctly\n",
      "Seq #903 encoded correctly\n",
      "Seq #904 encoded correctly\n",
      "Seq #905 encoded correctly\n",
      "Seq #906 encoded correctly\n",
      "Seq #907 encoded correctly\n",
      "Seq #908 encoded correctly\n",
      "Seq #909 encoded correctly\n",
      "Seq #910 encoded correctly\n",
      "Seq #911 encoded correctly\n",
      "Seq #912 encoded correctly\n",
      "Seq #913 encoded correctly\n",
      "Seq #914 encoded correctly\n",
      "Seq #915 encoded correctly\n",
      "Seq #916 encoded correctly\n",
      "Seq #917 encoded correctly\n",
      "Seq #918 encoded correctly\n",
      "Seq #919 encoded correctly\n",
      "Seq #920 encoded correctly\n",
      "Seq #921 encoded correctly\n",
      "Seq #922 encoded correctly\n",
      "Seq #923 encoded correctly\n",
      "Seq #924 encoded correctly\n",
      "Seq #925 encoded correctly\n",
      "Seq #926 encoded correctly\n",
      "Seq #927 encoded correctly\n",
      "Seq #928 encoded correctly\n",
      "Seq #929 encoded correctly\n",
      "Seq #930 encoded correctly\n",
      "Seq #931 encoded correctly\n",
      "Seq #932 encoded correctly\n",
      "Seq #933 encoded correctly\n",
      "Seq #934 encoded correctly\n",
      "Seq #935 encoded correctly\n",
      "Seq #936 encoded correctly\n",
      "Seq #937 encoded correctly\n",
      "Seq #938 encoded correctly\n",
      "Seq #939 encoded correctly\n",
      "Seq #940 encoded correctly\n",
      "Seq #941 encoded correctly\n",
      "Seq #942 encoded correctly\n",
      "Seq #943 encoded correctly\n",
      "Seq #944 encoded correctly\n",
      "Seq #945 encoded correctly\n",
      "Seq #946 encoded correctly\n",
      "Seq #947 encoded correctly\n",
      "Seq #948 encoded correctly\n",
      "Seq #949 encoded correctly\n",
      "Seq #950 encoded correctly\n",
      "Seq #951 encoded correctly\n",
      "Seq #952 encoded correctly\n",
      "Seq #953 encoded correctly\n",
      "Seq #954 encoded correctly\n",
      "Seq #955 encoded correctly\n",
      "Seq #956 encoded correctly\n",
      "Seq #957 encoded correctly\n",
      "Seq #958 encoded correctly\n",
      "Seq #959 encoded correctly\n",
      "Seq #960 encoded correctly\n",
      "Seq #961 encoded correctly\n",
      "Seq #962 encoded correctly\n",
      "Seq #963 encoded correctly\n",
      "Seq #964 encoded correctly\n",
      "Seq #965 encoded correctly\n",
      "Seq #966 encoded correctly\n",
      "Seq #967 encoded correctly\n",
      "Seq #968 encoded correctly\n",
      "Seq #969 encoded correctly\n",
      "Seq #970 encoded correctly\n",
      "Seq #971 encoded correctly\n",
      "Seq #972 encoded correctly\n",
      "Seq #973 encoded correctly\n",
      "Seq #974 encoded correctly\n",
      "Seq #975 encoded correctly\n",
      "Seq #976 encoded correctly\n",
      "Seq #977 encoded correctly\n",
      "Seq #978 encoded correctly\n",
      "Seq #979 encoded correctly\n",
      "Seq #980 encoded correctly\n",
      "Seq #981 encoded correctly\n",
      "Seq #982 encoded correctly\n",
      "Seq #983 encoded correctly\n",
      "Seq #984 encoded correctly\n",
      "Seq #985 encoded correctly\n",
      "Seq #986 encoded correctly\n",
      "Seq #987 encoded correctly\n",
      "Seq #988 encoded correctly\n",
      "Seq #989 encoded correctly\n",
      "Seq #990 encoded correctly\n",
      "Seq #991 encoded correctly\n",
      "Seq #992 encoded correctly\n",
      "Seq #993 encoded correctly\n",
      "Seq #994 encoded correctly\n",
      "Seq #995 encoded correctly\n",
      "Seq #996 encoded correctly\n",
      "Seq #997 encoded correctly\n",
      "Seq #998 encoded correctly\n",
      "Seq #999 encoded correctly\n",
      "Seq #1000 encoded correctly\n",
      "Seq #1001 encoded correctly\n",
      "Seq #1002 encoded correctly\n",
      "Seq #1003 encoded correctly\n",
      "Seq #1004 encoded correctly\n",
      "Seq #1005 encoded correctly\n",
      "Seq #1006 encoded correctly\n",
      "Seq #1007 encoded correctly\n",
      "Seq #1008 encoded correctly\n",
      "Seq #1009 encoded correctly\n",
      "Seq #1010 encoded correctly\n",
      "Seq #1011 encoded correctly\n",
      "Seq #1012 encoded correctly\n",
      "Seq #1013 encoded correctly\n",
      "Seq #1014 encoded correctly\n",
      "Seq #1015 encoded correctly\n",
      "Seq #1016 encoded correctly\n",
      "Seq #1017 encoded correctly\n",
      "Seq #1018 encoded correctly\n",
      "Seq #1019 encoded correctly\n",
      "Seq #1020 encoded correctly\n",
      "Seq #1021 encoded correctly\n",
      "Seq #1022 encoded correctly\n",
      "Seq #1023 encoded correctly\n",
      "Seq #1024 encoded correctly\n",
      "Seq #1025 encoded correctly\n",
      "Seq #1026 encoded correctly\n",
      "Seq #1027 encoded correctly\n",
      "Seq #1028 encoded correctly\n",
      "Seq #1029 encoded correctly\n",
      "Seq #1030 encoded correctly\n",
      "Seq #1031 encoded correctly\n",
      "Seq #1032 encoded correctly\n",
      "Seq #1033 encoded correctly\n",
      "Seq #1034 encoded correctly\n",
      "Seq #1035 encoded correctly\n",
      "Seq #1036 encoded correctly\n",
      "Seq #1037 encoded correctly\n",
      "Seq #1038 encoded correctly\n",
      "Seq #1039 encoded correctly\n",
      "Seq #1040 encoded correctly\n",
      "Seq #1041 encoded correctly\n",
      "Seq #1042 encoded correctly\n",
      "Seq #1043 encoded correctly\n",
      "Seq #1044 encoded correctly\n",
      "Seq #1045 encoded correctly\n",
      "Seq #1046 encoded correctly\n",
      "Seq #1047 encoded correctly\n",
      "Seq #1048 encoded correctly\n",
      "Seq #1049 encoded correctly\n",
      "Seq #1050 encoded correctly\n",
      "Seq #1051 encoded correctly\n",
      "Seq #1052 encoded correctly\n",
      "Seq #1053 encoded correctly\n",
      "Seq #1054 encoded correctly\n",
      "Seq #1055 encoded correctly\n",
      "Seq #1056 encoded correctly\n",
      "Seq #1057 encoded correctly\n",
      "Seq #1058 encoded correctly\n",
      "Seq #1059 encoded correctly\n",
      "Seq #1060 encoded correctly\n",
      "Seq #1061 encoded correctly\n",
      "Seq #1062 encoded correctly\n",
      "Seq #1063 encoded correctly\n",
      "Seq #1064 encoded correctly\n",
      "Seq #1065 encoded correctly\n",
      "Seq #1066 encoded correctly\n",
      "Seq #1067 encoded correctly\n",
      "Seq #1068 encoded correctly\n",
      "Seq #1069 encoded correctly\n",
      "Seq #1070 encoded correctly\n",
      "Seq #1071 encoded correctly\n",
      "Seq #1072 encoded correctly\n",
      "Seq #1073 encoded correctly\n",
      "Seq #1074 encoded correctly\n",
      "Seq #1075 encoded correctly\n",
      "Seq #1076 encoded correctly\n",
      "Seq #1077 encoded correctly\n",
      "Seq #1078 encoded correctly\n",
      "Seq #1079 encoded correctly\n",
      "Seq #1080 encoded correctly\n",
      "Seq #1081 encoded correctly\n",
      "Seq #1082 encoded correctly\n",
      "Seq #1083 encoded correctly\n",
      "Seq #1084 encoded correctly\n",
      "Seq #1085 encoded correctly\n",
      "Seq #1086 encoded correctly\n",
      "Seq #1087 encoded correctly\n",
      "Seq #1088 encoded correctly\n",
      "Seq #1089 encoded correctly\n",
      "Seq #1090 encoded correctly\n",
      "Seq #1091 encoded correctly\n",
      "Seq #1092 encoded correctly\n",
      "Seq #1093 encoded correctly\n",
      "Seq #1094 encoded correctly\n",
      "Seq #1095 encoded correctly\n",
      "Seq #1096 encoded correctly\n",
      "Seq #1097 encoded correctly\n",
      "Seq #1098 encoded correctly\n",
      "Seq #1099 encoded correctly\n",
      "Seq #1100 encoded correctly\n",
      "Seq #1101 encoded correctly\n",
      "Seq #1102 encoded correctly\n",
      "Seq #1103 encoded correctly\n",
      "Seq #1104 encoded correctly\n",
      "Seq #1105 encoded correctly\n",
      "Seq #1106 encoded correctly\n",
      "Seq #1107 encoded correctly\n",
      "Seq #1108 encoded correctly\n",
      "Seq #1109 encoded correctly\n",
      "Seq #1110 encoded correctly\n",
      "Seq #1111 encoded correctly\n",
      "Seq #1112 encoded correctly\n",
      "Seq #1113 encoded correctly\n",
      "Seq #1114 encoded correctly\n",
      "Seq #1115 encoded correctly\n",
      "Seq #1116 encoded correctly\n",
      "Seq #1117 encoded correctly\n",
      "Seq #1118 encoded correctly\n",
      "Seq #1119 encoded correctly\n",
      "Seq #1120 encoded correctly\n",
      "Seq #1121 encoded correctly\n",
      "Seq #1122 encoded correctly\n",
      "Seq #1123 encoded correctly\n",
      "Seq #1124 encoded correctly\n",
      "Seq #1125 encoded correctly\n",
      "Seq #1126 encoded correctly\n",
      "Seq #1127 encoded correctly\n",
      "Seq #1128 encoded correctly\n",
      "Seq #1129 encoded correctly\n",
      "Seq #1130 encoded correctly\n",
      "Seq #1131 encoded correctly\n",
      "Seq #1132 encoded correctly\n",
      "Seq #1133 encoded correctly\n",
      "Seq #1134 encoded correctly\n",
      "Seq #1135 encoded correctly\n",
      "Seq #1136 encoded correctly\n",
      "Seq #1137 encoded correctly\n",
      "Seq #1138 encoded correctly\n",
      "Seq #1139 encoded correctly\n",
      "Seq #1140 encoded correctly\n",
      "Seq #1141 encoded correctly\n",
      "Seq #1142 encoded correctly\n",
      "Seq #1143 encoded correctly\n",
      "Seq #1144 encoded correctly\n",
      "Seq #1145 encoded correctly\n",
      "Seq #1146 encoded correctly\n",
      "Seq #1147 encoded correctly\n",
      "Seq #1148 encoded correctly\n",
      "Seq #1149 encoded correctly\n",
      "Seq #1150 encoded correctly\n",
      "Seq #1151 encoded correctly\n",
      "Seq #1152 encoded correctly\n",
      "Seq #1153 encoded correctly\n",
      "Seq #1154 encoded correctly\n",
      "Seq #1155 encoded correctly\n",
      "Seq #1156 encoded correctly\n",
      "Seq #1157 encoded correctly\n",
      "Seq #1158 encoded correctly\n"
     ]
    },
    {
     "name": "stdout",
     "output_type": "stream",
     "text": [
      "Seq #1159 encoded correctly\n",
      "Seq #1160 encoded correctly\n",
      "Seq #1161 encoded correctly\n",
      "Seq #1162 encoded correctly\n",
      "Seq #1163 encoded correctly\n",
      "Seq #1164 encoded correctly\n",
      "Seq #1165 encoded correctly\n",
      "Seq #1166 encoded correctly\n",
      "Seq #1167 encoded correctly\n",
      "Seq #1168 encoded correctly\n",
      "Seq #1169 encoded correctly\n",
      "Seq #1170 encoded correctly\n",
      "Seq #1171 encoded correctly\n",
      "Seq #1172 encoded correctly\n",
      "Seq #1173 encoded correctly\n",
      "Seq #1174 encoded correctly\n",
      "Seq #1175 encoded correctly\n",
      "Seq #1176 encoded correctly\n",
      "Seq #1177 encoded correctly\n",
      "Seq #1178 encoded correctly\n",
      "Seq #1179 encoded correctly\n",
      "Seq #1180 encoded correctly\n",
      "Seq #1181 encoded correctly\n",
      "Seq #1182 encoded correctly\n",
      "Seq #1183 encoded correctly\n",
      "Seq #1184 encoded correctly\n",
      "Seq #1185 encoded correctly\n",
      "Seq #1186 encoded correctly\n",
      "Seq #1187 encoded correctly\n",
      "Seq #1188 encoded correctly\n",
      "Seq #1189 encoded correctly\n",
      "Seq #1190 encoded correctly\n",
      "Seq #1191 encoded correctly\n",
      "Seq #1192 encoded correctly\n",
      "Seq #1193 encoded correctly\n",
      "Seq #1194 encoded correctly\n",
      "Seq #1195 encoded correctly\n",
      "Seq #1196 encoded correctly\n",
      "Seq #1197 encoded correctly\n",
      "Seq #1198 encoded correctly\n",
      "Seq #1199 encoded correctly\n",
      "Seq #1200 encoded correctly\n",
      "Seq #1201 encoded correctly\n",
      "Seq #1202 encoded correctly\n",
      "Seq #1203 encoded correctly\n",
      "Seq #1204 encoded correctly\n",
      "Seq #1205 encoded correctly\n",
      "Seq #1206 encoded correctly\n",
      "Seq #1207 encoded correctly\n",
      "Seq #1208 encoded correctly\n",
      "Seq #1209 encoded correctly\n",
      "Seq #1210 encoded correctly\n",
      "Seq #1211 encoded correctly\n",
      "Seq #1212 encoded correctly\n",
      "Seq #1213 encoded correctly\n",
      "Seq #1214 encoded correctly\n",
      "Seq #1215 encoded correctly\n",
      "Seq #1216 encoded correctly\n",
      "Seq #1217 encoded correctly\n",
      "Seq #1218 encoded correctly\n",
      "Seq #1219 encoded correctly\n",
      "Seq #1220 encoded correctly\n",
      "Seq #1221 encoded correctly\n",
      "Seq #1222 encoded correctly\n",
      "Seq #1223 encoded correctly\n",
      "Seq #1224 encoded correctly\n",
      "Seq #1225 encoded correctly\n",
      "Seq #1226 encoded correctly\n",
      "Seq #1227 encoded correctly\n",
      "Seq #1228 encoded correctly\n",
      "Seq #1229 encoded correctly\n",
      "Seq #1230 encoded correctly\n",
      "Seq #1231 encoded correctly\n",
      "Seq #1232 encoded correctly\n",
      "Seq #1233 encoded correctly\n",
      "Seq #1234 encoded correctly\n",
      "Seq #1235 encoded correctly\n",
      "Seq #1236 encoded correctly\n",
      "Seq #1237 encoded correctly\n",
      "Seq #1238 encoded correctly\n",
      "Seq #1239 encoded correctly\n",
      "Seq #1240 encoded correctly\n",
      "Seq #1241 encoded correctly\n",
      "Seq #1242 encoded correctly\n",
      "Seq #1243 encoded correctly\n",
      "Seq #1244 encoded correctly\n",
      "Seq #1245 encoded correctly\n",
      "Seq #1246 encoded correctly\n",
      "Seq #1247 encoded correctly\n",
      "Seq #1248 encoded correctly\n",
      "Seq #1249 encoded correctly\n",
      "Seq #1250 encoded correctly\n",
      "Seq #1251 encoded correctly\n",
      "Seq #1252 encoded correctly\n",
      "Seq #1253 encoded correctly\n",
      "Seq #1254 encoded correctly\n",
      "Seq #1255 encoded correctly\n",
      "Seq #1256 encoded correctly\n",
      "Seq #1257 encoded correctly\n",
      "Seq #1258 encoded correctly\n",
      "Seq #1259 encoded correctly\n",
      "Seq #1260 encoded correctly\n",
      "Seq #1261 encoded correctly\n",
      "Seq #1262 encoded correctly\n",
      "Seq #1263 encoded correctly\n",
      "Seq #1264 encoded correctly\n",
      "Seq #1265 encoded correctly\n",
      "Seq #1266 encoded correctly\n",
      "Seq #1267 encoded correctly\n",
      "Seq #1268 encoded correctly\n",
      "Seq #1269 encoded correctly\n",
      "Seq #1270 encoded correctly\n",
      "Seq #1271 encoded correctly\n",
      "Seq #1272 encoded correctly\n",
      "Seq #1273 encoded correctly\n",
      "Seq #1274 encoded correctly\n",
      "Seq #1275 encoded correctly\n",
      "Seq #1276 encoded correctly\n",
      "Seq #1277 encoded correctly\n",
      "Seq #1278 encoded correctly\n",
      "Seq #1279 encoded correctly\n",
      "Seq #1280 encoded correctly\n",
      "Seq #1281 encoded correctly\n",
      "Seq #1282 encoded correctly\n",
      "Seq #1283 encoded correctly\n",
      "Seq #1284 encoded correctly\n",
      "Seq #1285 encoded correctly\n",
      "Seq #1286 encoded correctly\n",
      "Seq #1287 encoded correctly\n",
      "Seq #1288 encoded correctly\n",
      "Seq #1289 encoded correctly\n",
      "Seq #1290 encoded correctly\n",
      "Seq #1291 encoded correctly\n",
      "Seq #1292 encoded correctly\n",
      "Seq #1293 encoded correctly\n",
      "Seq #1294 encoded correctly\n",
      "Seq #1295 encoded correctly\n",
      "Seq #1296 encoded correctly\n",
      "Seq #1297 encoded correctly\n",
      "Seq #1298 encoded correctly\n",
      "Seq #1299 encoded correctly\n",
      "Seq #1300 encoded correctly\n",
      "Seq #1301 encoded correctly\n",
      "Seq #1302 encoded correctly\n",
      "Seq #1303 encoded correctly\n",
      "Seq #1304 encoded correctly\n",
      "Seq #1305 encoded correctly\n",
      "Seq #1306 encoded correctly\n",
      "Seq #1307 encoded correctly\n",
      "Seq #1308 encoded correctly\n",
      "Seq #1309 encoded correctly\n",
      "Seq #1310 encoded correctly\n",
      "Seq #1311 encoded correctly\n",
      "Seq #1312 encoded correctly\n",
      "Seq #1313 encoded correctly\n",
      "Seq #1314 encoded correctly\n",
      "Seq #1315 encoded correctly\n",
      "Seq #1316 encoded correctly\n",
      "Seq #1317 encoded correctly\n",
      "Seq #1318 encoded correctly\n",
      "Seq #1319 encoded correctly\n",
      "Seq #1320 encoded correctly\n",
      "Seq #1321 encoded correctly\n",
      "Seq #1322 encoded correctly\n",
      "Seq #1323 encoded correctly\n",
      "Seq #1324 encoded correctly\n",
      "Seq #1325 encoded correctly\n",
      "Seq #1326 encoded correctly\n",
      "Seq #1327 encoded correctly\n",
      "Seq #1328 encoded correctly\n",
      "Seq #1329 encoded correctly\n",
      "Seq #1330 encoded correctly\n",
      "Seq #1331 encoded correctly\n",
      "Seq #1332 encoded correctly\n",
      "Seq #1333 encoded correctly\n",
      "Seq #1334 encoded correctly\n",
      "Seq #1335 encoded correctly\n",
      "Seq #1336 encoded correctly\n",
      "Seq #1337 encoded correctly\n",
      "Seq #1338 encoded correctly\n",
      "Seq #1339 encoded correctly\n",
      "Seq #1340 encoded correctly\n",
      "Seq #1341 encoded correctly\n",
      "Seq #1342 encoded correctly\n",
      "Seq #1343 encoded correctly\n",
      "Seq #1344 encoded correctly\n",
      "Seq #1345 encoded correctly\n",
      "Seq #1346 encoded correctly\n",
      "Seq #1347 encoded correctly\n",
      "Seq #1348 encoded correctly\n",
      "Seq #1349 encoded correctly\n",
      "Seq #1350 encoded correctly\n",
      "Seq #1351 encoded correctly\n",
      "Seq #1352 encoded correctly\n",
      "Seq #1353 encoded correctly\n",
      "Seq #1354 encoded correctly\n",
      "Seq #1355 encoded correctly\n",
      "Seq #1356 encoded correctly\n",
      "Seq #1357 encoded correctly\n",
      "Seq #1358 encoded correctly\n",
      "Seq #1359 encoded correctly\n",
      "Seq #1360 encoded correctly\n",
      "Seq #1361 encoded correctly\n",
      "Seq #1362 encoded correctly\n",
      "Seq #1363 encoded correctly\n",
      "Seq #1364 encoded correctly\n",
      "Seq #1365 encoded correctly\n",
      "Seq #1366 encoded correctly\n",
      "Seq #1367 encoded correctly\n",
      "Seq #1368 encoded correctly\n",
      "Seq #1369 encoded correctly\n",
      "Seq #1370 encoded correctly\n",
      "Seq #1371 encoded correctly\n",
      "Seq #1372 encoded correctly\n",
      "Seq #1373 encoded correctly\n",
      "Seq #1374 encoded correctly\n",
      "Seq #1375 encoded correctly\n",
      "Seq #1376 encoded correctly\n",
      "Seq #1377 encoded correctly\n",
      "Seq #1378 encoded correctly\n",
      "Seq #1379 encoded correctly\n",
      "Seq #1380 encoded correctly\n",
      "Seq #1381 encoded correctly\n",
      "Seq #1382 encoded correctly\n",
      "Seq #1383 encoded correctly\n",
      "Seq #1384 encoded correctly\n",
      "Seq #1385 encoded correctly\n",
      "Seq #1386 encoded correctly\n",
      "Seq #1387 encoded correctly\n",
      "Seq #1388 encoded correctly\n",
      "Seq #1389 encoded correctly\n",
      "Seq #1390 encoded correctly\n",
      "Seq #1391 encoded correctly\n",
      "Seq #1392 encoded correctly\n",
      "Seq #1393 encoded correctly\n",
      "Seq #1394 encoded correctly\n",
      "Seq #1395 encoded correctly\n",
      "Seq #1396 encoded correctly\n",
      "Seq #1397 encoded correctly\n",
      "Seq #1398 encoded correctly\n",
      "Seq #1399 encoded correctly\n",
      "Seq #1400 encoded correctly\n",
      "Seq #1401 encoded correctly\n",
      "Seq #1402 encoded correctly\n",
      "Seq #1403 encoded correctly\n",
      "Seq #1404 encoded correctly\n",
      "Seq #1405 encoded correctly\n",
      "Seq #1406 encoded correctly\n",
      "Seq #1407 encoded correctly\n",
      "Seq #1408 encoded correctly\n",
      "Seq #1409 encoded correctly\n",
      "Seq #1410 encoded correctly\n",
      "Seq #1411 encoded correctly\n",
      "Seq #1412 encoded correctly\n",
      "Seq #1413 encoded correctly\n",
      "Seq #1414 encoded correctly\n",
      "Seq #1415 encoded correctly\n",
      "Seq #1416 encoded correctly\n",
      "Seq #1417 encoded correctly\n",
      "Seq #1418 encoded correctly\n",
      "Seq #1419 encoded correctly\n",
      "Seq #1420 encoded correctly\n",
      "Seq #1421 encoded correctly\n",
      "Seq #1422 encoded correctly\n",
      "Seq #1423 encoded correctly\n",
      "Seq #1424 encoded correctly\n",
      "Seq #1425 encoded correctly\n",
      "Seq #1426 encoded correctly\n",
      "Seq #1427 encoded correctly\n",
      "Seq #1428 encoded correctly\n",
      "Seq #1429 encoded correctly\n",
      "Seq #1430 encoded correctly\n",
      "Seq #1431 encoded correctly\n",
      "Seq #1432 encoded correctly\n",
      "Seq #1433 encoded correctly\n",
      "Seq #1434 encoded correctly\n",
      "Seq #1435 encoded correctly\n",
      "Seq #1436 encoded correctly\n",
      "Seq #1437 encoded correctly\n",
      "Seq #1438 encoded correctly\n",
      "Seq #1439 encoded correctly\n",
      "Seq #1440 encoded correctly\n",
      "Seq #1441 encoded correctly\n",
      "Seq #1442 encoded correctly\n",
      "Seq #1443 encoded correctly\n",
      "Seq #1444 encoded correctly\n",
      "Seq #1445 encoded correctly\n",
      "Seq #1446 encoded correctly\n",
      "Seq #1447 encoded correctly\n",
      "Seq #1448 encoded correctly\n",
      "Seq #1449 encoded correctly\n",
      "Seq #1450 encoded correctly\n",
      "Seq #1451 encoded correctly\n",
      "Seq #1452 encoded correctly\n",
      "Seq #1453 encoded correctly\n",
      "Seq #1454 encoded correctly\n",
      "Seq #1455 encoded correctly\n",
      "Seq #1456 encoded correctly\n",
      "Seq #1457 encoded correctly\n",
      "Seq #1458 encoded correctly\n",
      "Seq #1459 encoded correctly\n",
      "Seq #1460 encoded correctly\n",
      "Seq #1461 encoded correctly\n",
      "Seq #1462 encoded correctly\n",
      "Seq #1463 encoded correctly\n",
      "Seq #1464 encoded correctly\n",
      "Seq #1465 encoded correctly\n",
      "Seq #1466 encoded correctly\n",
      "Seq #1467 encoded correctly\n",
      "Seq #1468 encoded correctly\n",
      "Seq #1469 encoded correctly\n",
      "Seq #1470 encoded correctly\n",
      "Seq #1471 encoded correctly\n",
      "Seq #1472 encoded correctly\n",
      "Seq #1473 encoded correctly\n",
      "Seq #1474 encoded correctly\n",
      "Seq #1475 encoded correctly\n",
      "Seq #1476 encoded correctly\n",
      "Seq #1477 encoded correctly\n",
      "Seq #1478 encoded correctly\n",
      "Seq #1479 encoded correctly\n",
      "Seq #1480 encoded correctly\n",
      "Seq #1481 encoded correctly\n",
      "Seq #1482 encoded correctly\n",
      "Seq #1483 encoded correctly\n",
      "Seq #1484 encoded correctly\n",
      "Seq #1485 encoded correctly\n",
      "Seq #1486 encoded correctly\n",
      "Seq #1487 encoded correctly\n",
      "Seq #1488 encoded correctly\n",
      "Seq #1489 encoded correctly\n",
      "Seq #1490 encoded correctly\n",
      "Seq #1491 encoded correctly\n",
      "Seq #1492 encoded correctly\n",
      "Seq #1493 encoded correctly\n",
      "Seq #1494 encoded correctly\n",
      "Seq #1495 encoded correctly\n",
      "Seq #1496 encoded correctly\n",
      "Seq #1497 encoded correctly\n",
      "Seq #1498 encoded correctly\n",
      "Seq #1499 encoded correctly\n",
      "Seq #1500 encoded correctly\n",
      "Seq #1501 encoded correctly\n",
      "Seq #1502 encoded correctly\n",
      "Seq #1503 encoded correctly\n",
      "Seq #1504 encoded correctly\n",
      "Seq #1505 encoded correctly\n",
      "Seq #1506 encoded correctly\n",
      "Seq #1507 encoded correctly\n",
      "Seq #1508 encoded correctly\n",
      "Seq #1509 encoded correctly\n",
      "Seq #1510 encoded correctly\n",
      "Seq #1511 encoded correctly\n",
      "Seq #1512 encoded correctly\n",
      "Seq #1513 encoded correctly\n",
      "Seq #1514 encoded correctly\n",
      "Seq #1515 encoded correctly\n",
      "Seq #1516 encoded correctly\n",
      "Seq #1517 encoded correctly\n",
      "Seq #1518 encoded correctly\n"
     ]
    }
   ],
   "source": [
    "# Sanity check encoding for randomly chosens sequences\n",
    "indeces = np.random.choice(len(input_features), size=len(input_features)//100)\n",
    "for j, ind in enumerate(indeces):\n",
    "    seq = X[ind]\n",
    "    one_hot_seq = input_features[ind]\n",
    "    for i, bp in enumerate(seq):\n",
    "        if bp == 'A':\n",
    "            if (one_hot_seq[i] != [1., 0., 0., 0.]).all():\n",
    "                print('You one hot encoded wrong dummy!')\n",
    "                print(seq, one_hot_seq)\n",
    "        elif bp =='C':\n",
    "            if (one_hot_seq[i] != [0., 1., 0., 0.]).all():\n",
    "                print('You one hot encoded wrong dummy!')\n",
    "                print(seq, one_hot_seq)\n",
    "        elif bp == 'G':\n",
    "            if (one_hot_seq[i] != [0., 0., 1., 0.]).all():\n",
    "                print('You one hot encoded wrong dummy!')\n",
    "                print(seq, one_hot_seq)\n",
    "        elif bp == 'T':\n",
    "            if (one_hot_seq[i] != [0., 0., 0., 1.]).all():\n",
    "                print('You one hot encoded wrong dummy!')\n",
    "                print(seq, one_hot_seq)\n",
    "        elif bp == 'N':\n",
    "            if (one_hot_seq[i] != [0., 0., 0., 0.]).all():\n",
    "                print('You one hot encoded wrong dummy!')\n",
    "                print(seq, one_hot_seq)\n",
    "        else:\n",
    "            print(bp)\n",
    "    print(\"Seq #{} encoded correctly\".format(j+1))"
   ]
  },
  {
   "cell_type": "code",
   "execution_count": 17,
   "metadata": {
    "ExecuteTime": {
     "end_time": "2021-05-20T16:02:14.358163Z",
     "start_time": "2021-05-20T16:02:14.013970Z"
    }
   },
   "outputs": [],
   "source": [
    "# Stack all the sequences into a numpy array and put in proper format for torch models (may want to do this better above)\n",
    "input_features = np.stack(input_features)\n",
    "input_features = np.transpose(input_features, axes=(0, 2, 1))"
   ]
  },
  {
   "cell_type": "markdown",
   "metadata": {},
   "source": [
    "## Target variables"
   ]
  },
  {
   "cell_type": "code",
   "execution_count": 18,
   "metadata": {
    "ExecuteTime": {
     "end_time": "2021-05-20T16:02:17.910479Z",
     "start_time": "2021-05-20T16:02:17.888696Z"
    }
   },
   "outputs": [],
   "source": [
    "# Target values\n",
    "#y = otx_data[['Biological Replicate 1 (RPM)', 'Biological Replicate 2 (RPM)']].mean(axis=1).values\n",
    "#y = otx_data[['Biological Replicate 1 (RPM)', 'Biological Replicate 2 (RPM)']].max(axis=1).values"
   ]
  },
  {
   "cell_type": "code",
   "execution_count": 19,
   "metadata": {
    "ExecuteTime": {
     "end_time": "2021-05-20T16:02:22.398530Z",
     "start_time": "2021-05-20T16:02:22.373329Z"
    }
   },
   "outputs": [],
   "source": [
    "# Only grab values for those with len 69\n",
    "otx_subset = otx_data[length_mask]\n",
    "otx_subset.index = range(len(otx_subset))"
   ]
  },
  {
   "cell_type": "code",
   "execution_count": 20,
   "metadata": {
    "ExecuteTime": {
     "end_time": "2021-05-20T16:02:23.472474Z",
     "start_time": "2021-05-20T16:02:23.450693Z"
    }
   },
   "outputs": [],
   "source": [
    "# Labels are whether they had greater than WT expression in either replicate (1 - yes, 0 - no)\n",
    "y = ((otx_subset['Biological Replicate 1 (RPM)'] >=4) | (otx_subset['Biological Replicate 2 (RPM)'] >= 4)).astype(int).values"
   ]
  },
  {
   "cell_type": "code",
   "execution_count": 21,
   "metadata": {
    "ExecuteTime": {
     "end_time": "2021-05-20T16:02:24.982252Z",
     "start_time": "2021-05-20T16:02:24.646773Z"
    }
   },
   "outputs": [
    {
     "name": "stdout",
     "output_type": "stream",
     "text": [
      "Val #7 binarized correctly\n",
      "Val #12 binarized correctly\n",
      "Val #15 binarized correctly\n",
      "Val #24 binarized correctly\n",
      "Val #31 binarized correctly\n",
      "Val #36 binarized correctly\n",
      "Val #37 binarized correctly\n",
      "Val #56 binarized correctly\n",
      "Val #69 binarized correctly\n",
      "Val #72 binarized correctly\n",
      "Val #81 binarized correctly\n",
      "Val #82 binarized correctly\n",
      "Val #87 binarized correctly\n",
      "Val #100 binarized correctly\n",
      "Val #112 binarized correctly\n",
      "Val #114 binarized correctly\n",
      "Val #136 binarized correctly\n",
      "Val #140 binarized correctly\n",
      "Val #141 binarized correctly\n",
      "Val #145 binarized correctly\n",
      "Val #147 binarized correctly\n",
      "Val #150 binarized correctly\n",
      "Val #157 binarized correctly\n",
      "Val #159 binarized correctly\n",
      "Val #160 binarized correctly\n",
      "Val #161 binarized correctly\n",
      "Val #176 binarized correctly\n",
      "Val #178 binarized correctly\n",
      "Val #190 binarized correctly\n",
      "Val #205 binarized correctly\n",
      "Val #206 binarized correctly\n",
      "Val #207 binarized correctly\n",
      "Val #214 binarized correctly\n",
      "Val #226 binarized correctly\n",
      "Val #234 binarized correctly\n",
      "Val #243 binarized correctly\n",
      "Val #247 binarized correctly\n",
      "Val #249 binarized correctly\n",
      "Val #257 binarized correctly\n",
      "Val #274 binarized correctly\n",
      "Val #276 binarized correctly\n",
      "Val #282 binarized correctly\n",
      "Val #285 binarized correctly\n",
      "Val #305 binarized correctly\n",
      "Val #324 binarized correctly\n",
      "Val #331 binarized correctly\n",
      "Val #350 binarized correctly\n",
      "Val #354 binarized correctly\n",
      "Val #360 binarized correctly\n",
      "Val #371 binarized correctly\n",
      "Val #373 binarized correctly\n",
      "Val #389 binarized correctly\n",
      "Val #393 binarized correctly\n",
      "Val #402 binarized correctly\n",
      "Val #411 binarized correctly\n",
      "Val #417 binarized correctly\n",
      "Val #434 binarized correctly\n",
      "Val #437 binarized correctly\n",
      "Val #455 binarized correctly\n",
      "Val #459 binarized correctly\n",
      "Val #461 binarized correctly\n",
      "Val #471 binarized correctly\n",
      "Val #487 binarized correctly\n",
      "Val #489 binarized correctly\n",
      "Val #494 binarized correctly\n",
      "Val #497 binarized correctly\n",
      "Val #498 binarized correctly\n",
      "Val #513 binarized correctly\n",
      "Val #519 binarized correctly\n",
      "Val #521 binarized correctly\n",
      "Val #532 binarized correctly\n",
      "Val #546 binarized correctly\n",
      "Val #552 binarized correctly\n",
      "Val #565 binarized correctly\n",
      "Val #571 binarized correctly\n",
      "Val #588 binarized correctly\n",
      "Val #592 binarized correctly\n",
      "Val #597 binarized correctly\n",
      "Val #598 binarized correctly\n",
      "Val #600 binarized correctly\n",
      "Val #606 binarized correctly\n",
      "Val #607 binarized correctly\n",
      "Val #609 binarized correctly\n",
      "Val #651 binarized correctly\n",
      "Val #654 binarized correctly\n",
      "Val #668 binarized correctly\n",
      "Val #670 binarized correctly\n",
      "Val #673 binarized correctly\n",
      "Val #696 binarized correctly\n",
      "Val #701 binarized correctly\n",
      "Val #703 binarized correctly\n",
      "Val #707 binarized correctly\n",
      "Val #708 binarized correctly\n",
      "Val #712 binarized correctly\n",
      "Val #718 binarized correctly\n",
      "Val #728 binarized correctly\n",
      "Val #754 binarized correctly\n",
      "Val #770 binarized correctly\n",
      "Val #789 binarized correctly\n",
      "Val #798 binarized correctly\n",
      "Val #800 binarized correctly\n",
      "Val #805 binarized correctly\n",
      "Val #807 binarized correctly\n",
      "Val #809 binarized correctly\n",
      "Val #828 binarized correctly\n",
      "Val #857 binarized correctly\n",
      "Val #868 binarized correctly\n",
      "Val #900 binarized correctly\n",
      "Val #904 binarized correctly\n",
      "Val #905 binarized correctly\n",
      "Val #909 binarized correctly\n",
      "Val #929 binarized correctly\n",
      "Val #930 binarized correctly\n",
      "Val #933 binarized correctly\n",
      "Val #939 binarized correctly\n",
      "Val #976 binarized correctly\n",
      "Val #978 binarized correctly\n",
      "Val #984 binarized correctly\n",
      "Val #991 binarized correctly\n",
      "Val #1005 binarized correctly\n",
      "Val #1006 binarized correctly\n",
      "Val #1008 binarized correctly\n",
      "Val #1010 binarized correctly\n",
      "Val #1018 binarized correctly\n",
      "Val #1025 binarized correctly\n",
      "Val #1048 binarized correctly\n",
      "Val #1064 binarized correctly\n",
      "Val #1065 binarized correctly\n",
      "Val #1074 binarized correctly\n",
      "Val #1075 binarized correctly\n",
      "Val #1083 binarized correctly\n",
      "Val #1090 binarized correctly\n",
      "Val #1102 binarized correctly\n",
      "Val #1115 binarized correctly\n",
      "Val #1128 binarized correctly\n",
      "Val #1137 binarized correctly\n",
      "Val #1138 binarized correctly\n",
      "Val #1146 binarized correctly\n",
      "Val #1150 binarized correctly\n",
      "Val #1154 binarized correctly\n",
      "Val #1165 binarized correctly\n",
      "Val #1179 binarized correctly\n",
      "Val #1198 binarized correctly\n",
      "Val #1203 binarized correctly\n",
      "Val #1206 binarized correctly\n",
      "Val #1209 binarized correctly\n",
      "Val #1218 binarized correctly\n",
      "Val #1234 binarized correctly\n",
      "Val #1256 binarized correctly\n",
      "Val #1263 binarized correctly\n",
      "Val #1280 binarized correctly\n",
      "Val #1281 binarized correctly\n",
      "Val #1284 binarized correctly\n",
      "Val #1298 binarized correctly\n",
      "Val #1310 binarized correctly\n",
      "Val #1320 binarized correctly\n",
      "Val #1324 binarized correctly\n",
      "Val #1327 binarized correctly\n",
      "Val #1342 binarized correctly\n",
      "Val #1344 binarized correctly\n",
      "Val #1346 binarized correctly\n",
      "Val #1356 binarized correctly\n",
      "Val #1365 binarized correctly\n",
      "Val #1367 binarized correctly\n",
      "Val #1368 binarized correctly\n",
      "Val #1375 binarized correctly\n",
      "Val #1378 binarized correctly\n",
      "Val #1391 binarized correctly\n",
      "Val #1394 binarized correctly\n",
      "Val #1411 binarized correctly\n",
      "Val #1418 binarized correctly\n",
      "Val #1420 binarized correctly\n",
      "Val #1421 binarized correctly\n",
      "Val #1433 binarized correctly\n",
      "Val #1436 binarized correctly\n",
      "Val #1445 binarized correctly\n",
      "Val #1462 binarized correctly\n",
      "Val #1464 binarized correctly\n",
      "Val #1469 binarized correctly\n",
      "Val #1473 binarized correctly\n",
      "Val #1474 binarized correctly\n",
      "Val #1481 binarized correctly\n",
      "Val #1487 binarized correctly\n",
      "Val #1498 binarized correctly\n",
      "Val #1504 binarized correctly\n",
      "Val #1507 binarized correctly\n"
     ]
    }
   ],
   "source": [
    "# Sanity check the labeling\n",
    "indeces = np.random.choice(otx_subset.index, size=len(y)//100)\n",
    "for j, ind in enumerate(indeces):\n",
    "    val = y[ind]\n",
    "    if ((otx_subset.loc[ind]['Biological Replicate 1 (RPM)'] >=4) | (otx_subset.loc[ind]['Biological Replicate 2 (RPM)'] >= 4)):\n",
    "        if val == 1:\n",
    "            print(\"Val #{} binarized correctly\".format(j+1))\n",
    "        else:\n",
    "            print(\"You binarized the targets wrong dummy\")"
   ]
  },
  {
   "cell_type": "code",
   "execution_count": 22,
   "metadata": {
    "ExecuteTime": {
     "end_time": "2021-05-20T16:02:27.311954Z",
     "start_time": "2021-05-20T16:02:27.288338Z"
    }
   },
   "outputs": [
    {
     "data": {
      "text/plain": [
       "(array([0, 1]), array([131225,  20585]))"
      ]
     },
     "execution_count": 22,
     "metadata": {},
     "output_type": "execute_result"
    }
   ],
   "source": [
    "# Check the counts\n",
    "np.unique(y, return_counts=True)"
   ]
  },
  {
   "cell_type": "code",
   "execution_count": 74,
   "metadata": {
    "ExecuteTime": {
     "end_time": "2021-05-20T16:20:23.342965Z",
     "start_time": "2021-05-20T16:20:23.247893Z"
    }
   },
   "outputs": [
    {
     "data": {
      "image/png": "[encoded data removed]",
      "text/plain": [
       "<Figure size 432x288 with 1 Axes>"
      ]
     },
     "metadata": {
      "needs_background": "light"
     },
     "output_type": "display_data"
    }
   ],
   "source": [
    "counts = np.unique(y, return_counts=True)\n",
    "sns.barplot(x=counts[0], y=counts[1]);"
   ]
  },
  {
   "cell_type": "markdown",
   "metadata": {},
   "source": [
    "## Dealing with class imbalance"
   ]
  },
  {
   "cell_type": "code",
   "execution_count": 28,
   "metadata": {
    "ExecuteTime": {
     "end_time": "2021-05-20T16:08:08.981389Z",
     "start_time": "2021-05-20T16:08:08.959611Z"
    }
   },
   "outputs": [],
   "source": [
    "from sklearn.utils import resample"
   ]
  },
  {
   "cell_type": "code",
   "execution_count": 29,
   "metadata": {
    "ExecuteTime": {
     "end_time": "2021-05-20T16:08:09.528824Z",
     "start_time": "2021-05-20T16:08:09.500469Z"
    }
   },
   "outputs": [],
   "source": [
    "pos_mask = y == 1"
   ]
  },
  {
   "cell_type": "code",
   "execution_count": 30,
   "metadata": {
    "ExecuteTime": {
     "end_time": "2021-05-20T16:08:10.100066Z",
     "start_time": "2021-05-20T16:08:09.984623Z"
    }
   },
   "outputs": [],
   "source": [
    "neg_y = y[~pos_mask]\n",
    "pos_y = y[pos_mask]\n",
    "\n",
    "neg_seqs = input_features[~pos_mask, :, :]\n",
    "pos_seqs = input_features[pos_mask, :, :]"
   ]
  },
  {
   "cell_type": "code",
   "execution_count": 31,
   "metadata": {
    "ExecuteTime": {
     "end_time": "2021-05-20T16:08:10.573083Z",
     "start_time": "2021-05-20T16:08:10.548778Z"
    }
   },
   "outputs": [
    {
     "name": "stdout",
     "output_type": "stream",
     "text": [
      "(array([1]), array([20585]))\n",
      "(array([0]), array([131225]))\n"
     ]
    }
   ],
   "source": [
    "print(np.unique(pos_y, return_counts=True))\n",
    "print(np.unique(neg_y, return_counts=True))"
   ]
  },
  {
   "cell_type": "markdown",
   "metadata": {},
   "source": []
  },
  {
   "cell_type": "markdown",
   "metadata": {
    "ExecuteTime": {
     "end_time": "2021-05-20T16:07:03.797536Z",
     "start_time": "2021-05-20T16:07:03.487420Z"
    }
   },
   "source": [
    "### Downsample negative class"
   ]
  },
  {
   "cell_type": "code",
   "execution_count": 32,
   "metadata": {
    "ExecuteTime": {
     "end_time": "2021-05-20T16:08:11.786396Z",
     "start_time": "2021-05-20T16:08:11.757571Z"
    }
   },
   "outputs": [],
   "source": [
    "downsampled_neg_seqs, downsampled_neg_y = resample(neg_seqs, neg_y, n_samples=len(pos_y), random_state=13)"
   ]
  },
  {
   "cell_type": "code",
   "execution_count": 34,
   "metadata": {
    "ExecuteTime": {
     "end_time": "2021-05-20T16:08:59.749231Z",
     "start_time": "2021-05-20T16:08:59.696304Z"
    }
   },
   "outputs": [],
   "source": [
    "input_features = np.concatenate([downsampled_neg_seqs, pos_seqs])\n",
    "y = np.concatenate([downsampled_neg_y, pos_y])"
   ]
  },
  {
   "cell_type": "markdown",
   "metadata": {},
   "source": [
    "### Upsample positive class"
   ]
  },
  {
   "cell_type": "code",
   "execution_count": 115,
   "metadata": {
    "ExecuteTime": {
     "end_time": "2021-05-20T06:55:31.344462Z",
     "start_time": "2021-05-20T06:55:31.059941Z"
    }
   },
   "outputs": [],
   "source": [
    "upsampled_pos_seqs, upsampled_pos_y = resample(pos_seqs, pos_y, n_samples=len(neg_y), random_state=13)"
   ]
  },
  {
   "cell_type": "code",
   "execution_count": 138,
   "metadata": {
    "ExecuteTime": {
     "end_time": "2021-05-20T06:59:06.900252Z",
     "start_time": "2021-05-20T06:59:06.572409Z"
    }
   },
   "outputs": [],
   "source": [
    "input_features = np.concatenate([neg_seqs, upsampled_pos_seqs])\n",
    "y = np.concatenate([neg_y, upsampled_pos_y])"
   ]
  },
  {
   "cell_type": "markdown",
   "metadata": {},
   "source": [
    "### Check"
   ]
  },
  {
   "cell_type": "code",
   "execution_count": 35,
   "metadata": {
    "ExecuteTime": {
     "end_time": "2021-05-20T16:09:10.313357Z",
     "start_time": "2021-05-20T16:09:10.147722Z"
    }
   },
   "outputs": [
    {
     "data": {
      "text/plain": [
       "(41170, 4, 69)"
      ]
     },
     "execution_count": 35,
     "metadata": {},
     "output_type": "execute_result"
    }
   ],
   "source": [
    "input_features.shape"
   ]
  },
  {
   "cell_type": "code",
   "execution_count": 36,
   "metadata": {
    "ExecuteTime": {
     "end_time": "2021-05-20T16:09:12.828336Z",
     "start_time": "2021-05-20T16:09:12.807337Z"
    }
   },
   "outputs": [
    {
     "data": {
      "text/plain": [
       "(41170,)"
      ]
     },
     "execution_count": 36,
     "metadata": {},
     "output_type": "execute_result"
    }
   ],
   "source": [
    "y.shape"
   ]
  },
  {
   "cell_type": "code",
   "execution_count": 37,
   "metadata": {
    "ExecuteTime": {
     "end_time": "2021-05-20T16:09:13.892965Z",
     "start_time": "2021-05-20T16:09:13.866744Z"
    }
   },
   "outputs": [
    {
     "data": {
      "text/plain": [
       "array([20585, 20585])"
      ]
     },
     "execution_count": 37,
     "metadata": {},
     "output_type": "execute_result"
    }
   ],
   "source": [
    "np.unique(y, return_counts=True)[1]"
   ]
  },
  {
   "cell_type": "markdown",
   "metadata": {},
   "source": [
    "# Data exploration"
   ]
  },
  {
   "cell_type": "markdown",
   "metadata": {},
   "source": [
    "## Sequence lengths"
   ]
  },
  {
   "cell_type": "code",
   "execution_count": 38,
   "metadata": {
    "ExecuteTime": {
     "end_time": "2021-05-20T16:09:20.128412Z",
     "start_time": "2021-05-20T16:09:19.862570Z"
    }
   },
   "outputs": [
    {
     "data": {
      "image/png": "[encoded data removed]",
      "text/plain": [
       "<Figure size 1152x576 with 1 Axes>"
      ]
     },
     "metadata": {
      "needs_background": "light"
     },
     "output_type": "display_data"
    }
   ],
   "source": [
    "# Raw sequence lengths\n",
    "fig, ax = plt.subplots(figsize=(16,8))\n",
    "plt_data = otx_data['Enhancer'].apply(len).value_counts().astype(object) \n",
    "plt_data = plt_data[plt_data >= 10]\n",
    "sns.barplot(x=plt_data.index, y=plt_data.values, color='blue', ax=ax);"
   ]
  },
  {
   "cell_type": "code",
   "execution_count": 39,
   "metadata": {
    "ExecuteTime": {
     "end_time": "2021-05-20T16:09:21.117317Z",
     "start_time": "2021-05-20T16:09:20.990446Z"
    }
   },
   "outputs": [
    {
     "data": {
      "image/png": "[encoded data removed]",
      "text/plain": [
       "<Figure size 1152x576 with 1 Axes>"
      ]
     },
     "metadata": {
      "needs_background": "light"
     },
     "output_type": "display_data"
    }
   ],
   "source": [
    "# Filtered sequence lengths\n",
    "fig, ax = plt.subplots(figsize=(16,8))\n",
    "plt_subset = otx_subset['Enhancer'].apply(len).value_counts().astype(object) \n",
    "plt_subset = plt_subset[plt_subset >= 10]\n",
    "sns.barplot(x=plt_subset.index, y=plt_subset.values, color='blue', ax=ax);"
   ]
  },
  {
   "cell_type": "code",
   "execution_count": 40,
   "metadata": {
    "ExecuteTime": {
     "end_time": "2021-05-20T16:09:21.425375Z",
     "start_time": "2021-05-20T16:09:21.196519Z"
    },
    "scrolled": true
   },
   "outputs": [
    {
     "data": {
      "image/png": "[encoded data removed]",
      "text/plain": [
       "<Figure size 432x288 with 1 Axes>"
      ]
     },
     "metadata": {
      "needs_background": "light"
     },
     "output_type": "display_data"
    }
   ],
   "source": [
    "data = otx_data[otx_data['Enhancer'].apply(len) != 69][['Biological Replicate 1 (RPM)', 'Biological Replicate 2 (RPM)']].max(axis=1)\n",
    "sns.violinplot(data=data.values);"
   ]
  },
  {
   "cell_type": "markdown",
   "metadata": {},
   "source": [
    "## Biological replicate concordance"
   ]
  },
  {
   "cell_type": "code",
   "execution_count": 41,
   "metadata": {
    "ExecuteTime": {
     "end_time": "2021-05-20T16:09:26.535883Z",
     "start_time": "2021-05-20T16:09:26.156009Z"
    }
   },
   "outputs": [
    {
     "data": {
      "image/png": "[encoded data removed]",
      "text/plain": [
       "<Figure size 1152x576 with 1 Axes>"
      ]
     },
     "metadata": {
      "needs_background": "light"
     },
     "output_type": "display_data"
    }
   ],
   "source": [
    "fig, ax = plt.subplots(figsize=(16,8))\n",
    "sns.scatterplot(data=otx_data, x='Biological Replicate 1 (RPM)', y='Biological Replicate 2 (RPM)', ax=ax);"
   ]
  },
  {
   "cell_type": "code",
   "execution_count": 42,
   "metadata": {
    "ExecuteTime": {
     "end_time": "2021-05-20T16:09:27.829980Z",
     "start_time": "2021-05-20T16:09:27.810283Z"
    }
   },
   "outputs": [],
   "source": [
    "from scipy.stats import pearsonr"
   ]
  },
  {
   "cell_type": "code",
   "execution_count": 43,
   "metadata": {
    "ExecuteTime": {
     "end_time": "2021-05-20T16:09:28.800732Z",
     "start_time": "2021-05-20T16:09:28.754062Z"
    }
   },
   "outputs": [
    {
     "data": {
      "text/plain": [
       "(-0.08841874219990353, 2.2070501903626192e-281)"
      ]
     },
     "execution_count": 43,
     "metadata": {},
     "output_type": "execute_result"
    }
   ],
   "source": [
    "pearsonr(otx_data['Biological Replicate 1 (RPM)'], otx_data['Biological Replicate 2 (RPM)'])"
   ]
  },
  {
   "cell_type": "markdown",
   "metadata": {},
   "source": [
    "## Frequencies of nucleotides at each position\n",
    "TODO: Use a package like logomaker to visualize this better"
   ]
  },
  {
   "cell_type": "code",
   "execution_count": 55,
   "metadata": {
    "ExecuteTime": {
     "end_time": "2021-05-20T06:38:44.698607Z",
     "start_time": "2021-05-20T06:38:44.677597Z"
    }
   },
   "outputs": [],
   "source": [
    "def freq_lists(dna_list):\n",
    "    n = len(dna_list[0])\n",
    "    A = [0]*n\n",
    "    T = [0]*n\n",
    "    G = [0]*n\n",
    "    C = [0]*n\n",
    "    N = [0]*n\n",
    "    for dna in dna_list:\n",
    "        for index, base in enumerate(dna):\n",
    "            if base == 'A':\n",
    "                A[index] += 1\n",
    "            elif base == 'C':\n",
    "                C[index] += 1\n",
    "            elif base == 'G':\n",
    "                G[index] += 1\n",
    "            elif base == 'T':\n",
    "                T[index] += 1\n",
    "            else:\n",
    "                N[index] += 1\n",
    "    return A, C, G, T, N"
   ]
  },
  {
   "cell_type": "code",
   "execution_count": 56,
   "metadata": {
    "ExecuteTime": {
     "end_time": "2021-05-20T06:38:46.602554Z",
     "start_time": "2021-05-20T06:38:45.373432Z"
    }
   },
   "outputs": [],
   "source": [
    "pos_counts = pd.DataFrame(freq_lists(seqs))"
   ]
  },
  {
   "cell_type": "code",
   "execution_count": 57,
   "metadata": {
    "ExecuteTime": {
     "end_time": "2021-05-20T06:38:46.628228Z",
     "start_time": "2021-05-20T06:38:46.604628Z"
    }
   },
   "outputs": [],
   "source": [
    "pos_freqs = pos_counts/(pos_counts.sum(axis=0))"
   ]
  },
  {
   "cell_type": "code",
   "execution_count": 58,
   "metadata": {
    "ExecuteTime": {
     "end_time": "2021-05-20T06:38:46.790413Z",
     "start_time": "2021-05-20T06:38:46.629771Z"
    }
   },
   "outputs": [],
   "source": [
    "pos_freqs.index = pd.Index(['A', 'C', 'G', 'T', 'N'])\n",
    "pos_freqs.columns = range(1, len(X[0])+1)"
   ]
  },
  {
   "cell_type": "code",
   "execution_count": 59,
   "metadata": {
    "ExecuteTime": {
     "end_time": "2021-05-20T06:38:46.855808Z",
     "start_time": "2021-05-20T06:38:46.791705Z"
    }
   },
   "outputs": [],
   "source": [
    "def move_legend(ax, new_loc, **kws):\n",
    "    old_legend = ax.legend_\n",
    "    handles = old_legend.legendHandles\n",
    "    labels = [t.get_text() for t in old_legend.get_texts()]\n",
    "    title = old_legend.get_title().get_text()\n",
    "    ax.legend(handles, labels, loc=new_loc, title=title, **kws)"
   ]
  },
  {
   "cell_type": "code",
   "execution_count": 60,
   "metadata": {
    "ExecuteTime": {
     "end_time": "2021-05-20T06:38:47.780242Z",
     "start_time": "2021-05-20T06:38:47.061914Z"
    }
   },
   "outputs": [
    {
     "data": {
      "image/png": "[encoded data removed]",
      "text/plain": [
       "<Figure size 1152x576 with 1 Axes>"
      ]
     },
     "metadata": {
      "needs_background": "light"
     },
     "output_type": "display_data"
    }
   ],
   "source": [
    "fig, ax = plt.subplots(figsize=(16, 8))\n",
    "ax.set_ylim(0, 1)\n",
    "pos_freqs.T.plot(kind='bar', stacked=True, ax=ax)\n",
    "move_legend(ax, 1, fontsize=24)"
   ]
  },
  {
   "cell_type": "markdown",
   "metadata": {},
   "source": [
    "GATA GATA ETS ETS GATA"
   ]
  },
  {
   "cell_type": "code",
   "execution_count": 61,
   "metadata": {
    "ExecuteTime": {
     "end_time": "2021-05-20T06:39:05.397527Z",
     "start_time": "2021-05-20T06:39:05.231770Z"
    }
   },
   "outputs": [
    {
     "name": "stdout",
     "output_type": "stream",
     "text": [
      "Example sequence\n",
      "-----------------------\n",
      "DNA Sequence #1:\n",
      " GGATATCACA ... CTGTCACCAG\n",
      "One hot encoding of Sequence #1:\n",
      " [[0. 0. 1. ... 0. 1. 0.]\n",
      " [0. 0. 0. ... 1. 0. 0.]\n",
      " [1. 1. 0. ... 0. 0. 1.]\n",
      " [0. 0. 0. ... 0. 0. 0.]]\n"
     ]
    }
   ],
   "source": [
    "# Example sequence\n",
    "np.set_printoptions(threshold=40)\n",
    "print(\"Example sequence\\n-----------------------\")\n",
    "print('DNA Sequence #1:\\n', X[0][:10],'...', X[0][-10:])\n",
    "print('One hot encoding of Sequence #1:\\n',input_features[0])"
   ]
  },
  {
   "cell_type": "markdown",
   "metadata": {},
   "source": [
    "## Target RPM distribution"
   ]
  },
  {
   "cell_type": "code",
   "execution_count": 62,
   "metadata": {
    "ExecuteTime": {
     "end_time": "2021-05-20T06:39:07.420271Z",
     "start_time": "2021-05-20T06:39:07.231923Z"
    }
   },
   "outputs": [
    {
     "data": {
      "text/plain": [
       "Text(0.5, 0, 'Average RPM')"
      ]
     },
     "execution_count": 62,
     "metadata": {},
     "output_type": "execute_result"
    },
    {
     "data": {
      "image/png": "[encoded data removed]",
      "text/plain": [
       "<Figure size 432x288 with 1 Axes>"
      ]
     },
     "metadata": {
      "needs_background": "light"
     },
     "output_type": "display_data"
    }
   ],
   "source": [
    "# Check distributions of average RPMs\n",
    "ax = sns.ecdfplot(otx_data[['Biological Replicate 1 (RPM)', 'Biological Replicate 2 (RPM)']].mean(axis=1).values)\n",
    "ax.set_ylim(0, 1.2)\n",
    "ax.set_xlabel('Average RPM')"
   ]
  },
  {
   "cell_type": "code",
   "execution_count": 63,
   "metadata": {
    "ExecuteTime": {
     "end_time": "2021-05-20T06:39:09.191005Z",
     "start_time": "2021-05-20T06:39:09.014249Z"
    },
    "scrolled": true
   },
   "outputs": [
    {
     "data": {
      "text/plain": [
       "Text(0.5, 0, 'Max RPM')"
      ]
     },
     "execution_count": 63,
     "metadata": {},
     "output_type": "execute_result"
    },
    {
     "data": {
      "image/png": "[encoded data removed]",
      "text/plain": [
       "<Figure size 432x288 with 1 Axes>"
      ]
     },
     "metadata": {
      "needs_background": "light"
     },
     "output_type": "display_data"
    }
   ],
   "source": [
    "# Check distributions of average RPMs\n",
    "ax = sns.ecdfplot(otx_data[['Biological Replicate 1 (RPM)', 'Biological Replicate 2 (RPM)']].max(axis=1).values)\n",
    "ax.set_ylim(0, 1.2)\n",
    "ax.set_xlabel('Max RPM')"
   ]
  },
  {
   "cell_type": "markdown",
   "metadata": {
    "ExecuteTime": {
     "end_time": "2021-04-30T19:05:43.065645Z",
     "start_time": "2021-04-30T19:05:43.033286Z"
    }
   },
   "source": [
    "# Build model"
   ]
  },
  {
   "cell_type": "code",
   "execution_count": 44,
   "metadata": {
    "ExecuteTime": {
     "end_time": "2021-05-20T16:10:38.486433Z",
     "start_time": "2021-05-20T16:10:38.313623Z"
    }
   },
   "outputs": [],
   "source": [
    "import torch.nn as nn\n",
    "import torch.nn.functional as F\n",
    "import torch\n",
    "\n",
    "class EUGENE(nn.Module):\n",
    "    def __init__(self):\n",
    "        super(EUGENE, self).__init__()\n",
    "        self.Conv1 = nn.Conv1d(in_channels=4, out_channels=32, kernel_size=16)\n",
    "        self.Conv2 = nn.Conv1d(in_channels=32, out_channels=32, kernel_size=5)\n",
    "        self.Batchnorm = nn.BatchNorm1d(32)\n",
    "        self.Maxpool = nn.MaxPool1d(kernel_size=2, stride=1)\n",
    "        self.Drop1 = nn.Dropout(p=0.5)\n",
    "        self.Linear1 = nn.Linear(1568, 1)\n",
    "\n",
    "        \n",
    "    def forward(self, input):\n",
    "        x = self.Conv1(input)\n",
    "        x = self.Batchnorm(x)\n",
    "        x = F.relu(x)\n",
    "        x = self.Conv2(x)\n",
    "        x = self.Batchnorm(x)\n",
    "        x = F.relu(x)\n",
    "        x = self.Maxpool(x)\n",
    "        x = x.flatten(1)\n",
    "        x = self.Drop1(x)\n",
    "        x = self.Linear1(x)\n",
    "        return x"
   ]
  },
  {
   "cell_type": "code",
   "execution_count": 45,
   "metadata": {
    "ExecuteTime": {
     "end_time": "2021-05-20T16:10:38.614531Z",
     "start_time": "2021-05-20T16:10:38.541489Z"
    }
   },
   "outputs": [],
   "source": [
    "def init_weights(m):\n",
    "    if isinstance(m, nn.Linear) or isinstance(m, nn.Conv1d):\n",
    "        torch.nn.init.kaiming_normal_(m.weight)"
   ]
  },
  {
   "cell_type": "code",
   "execution_count": 46,
   "metadata": {
    "ExecuteTime": {
     "end_time": "2021-05-20T16:10:41.119515Z",
     "start_time": "2021-05-20T16:10:38.912761Z"
    },
    "scrolled": true
   },
   "outputs": [
    {
     "name": "stdout",
     "output_type": "stream",
     "text": [
      "Executing the model on : cuda\n"
     ]
    },
    {
     "data": {
      "text/plain": [
       "EUGENE(\n",
       "  (Conv1): Conv1d(4, 32, kernel_size=(16,), stride=(1,))\n",
       "  (Conv2): Conv1d(32, 32, kernel_size=(5,), stride=(1,))\n",
       "  (Batchnorm): BatchNorm1d(32, eps=1e-05, momentum=0.1, affine=True, track_running_stats=True)\n",
       "  (Maxpool): MaxPool1d(kernel_size=2, stride=1, padding=0, dilation=1, ceil_mode=False)\n",
       "  (Drop1): Dropout(p=0.5, inplace=False)\n",
       "  (Linear1): Linear(in_features=1568, out_features=1, bias=True)\n",
       ")"
      ]
     },
     "execution_count": 46,
     "metadata": {},
     "output_type": "execute_result"
    }
   ],
   "source": [
    "# Instantiate model and move to gpu if available\n",
    "eugene = EUGENE()\n",
    "eugene.apply(init_weights)\n",
    "device = torch.device('cuda' if torch.cuda.is_available() else 'cpu')\n",
    "print(\"Executing the model on :\", device)\n",
    "eugene.to(device)"
   ]
  },
  {
   "cell_type": "code",
   "execution_count": 47,
   "metadata": {
    "ExecuteTime": {
     "end_time": "2021-05-20T16:10:43.135237Z",
     "start_time": "2021-05-20T16:10:43.113788Z"
    }
   },
   "outputs": [],
   "source": [
    "# Function to calcuate accuracy given raw values from classifier and labels\n",
    "def accuracy(raw, labels):\n",
    "    predictions = torch.round(torch.sigmoid(raw))\n",
    "    return sum(predictions.eq(labels)).item()"
   ]
  },
  {
   "cell_type": "code",
   "execution_count": 48,
   "metadata": {
    "ExecuteTime": {
     "end_time": "2021-05-20T16:10:44.351872Z",
     "start_time": "2021-05-20T16:10:44.320358Z"
    }
   },
   "outputs": [
    {
     "name": "stdout",
     "output_type": "stream",
     "text": [
      "tensor([-1.3067, -0.3646,  5.5858,  0.5150,  1.8657], device='cuda:0',\n",
      "       grad_fn=<SqueezeBackward1>)\n",
      "tensor([0, 1, 1, 0, 1], device='cuda:0')\n"
     ]
    }
   ],
   "source": [
    "# Grab some seqs and outputs to test out on\n",
    "indexes = np.random.choice(len(input_features), size=5)\n",
    "random_seqs = torch.from_numpy(input_features[indexes, :, :]).float().to(device)\n",
    "outputs = eugene(random_seqs).squeeze(dim=1)\n",
    "random_labels = torch.from_numpy(y[indexes]).to(device)\n",
    "print(outputs)\n",
    "print(random_labels)"
   ]
  },
  {
   "cell_type": "code",
   "execution_count": 49,
   "metadata": {
    "ExecuteTime": {
     "end_time": "2021-05-20T16:10:49.980985Z",
     "start_time": "2021-05-20T16:10:49.960222Z"
    }
   },
   "outputs": [
    {
     "data": {
      "text/plain": [
       "0.6"
      ]
     },
     "execution_count": 49,
     "metadata": {},
     "output_type": "execute_result"
    }
   ],
   "source": [
    "accuracy(outputs, random_labels)/len(outputs)"
   ]
  },
  {
   "cell_type": "markdown",
   "metadata": {},
   "source": [
    "# Train model"
   ]
  },
  {
   "cell_type": "markdown",
   "metadata": {},
   "source": [
    "## Split data into train, val and test sets"
   ]
  },
  {
   "cell_type": "code",
   "execution_count": 50,
   "metadata": {
    "ExecuteTime": {
     "end_time": "2021-05-20T16:11:13.404138Z",
     "start_time": "2021-05-20T16:11:13.333913Z"
    }
   },
   "outputs": [],
   "source": [
    "from sklearn.model_selection import train_test_split"
   ]
  },
  {
   "cell_type": "code",
   "execution_count": 51,
   "metadata": {
    "ExecuteTime": {
     "end_time": "2021-05-20T16:11:13.930322Z",
     "start_time": "2021-05-20T16:11:13.827536Z"
    }
   },
   "outputs": [],
   "source": [
    "# Split first into train and test, then split train into train and val\n",
    "train_data, test_data, train_targets, test_targets = train_test_split(input_features, y, test_size=0.1, random_state=13)\n",
    "train_data, val_data, train_targets, val_targets = train_test_split(train_data, train_targets, test_size=0.3, random_state=13)"
   ]
  },
  {
   "cell_type": "code",
   "execution_count": 52,
   "metadata": {
    "ExecuteTime": {
     "end_time": "2021-05-20T16:11:14.910327Z",
     "start_time": "2021-05-20T16:11:14.881653Z"
    }
   },
   "outputs": [
    {
     "name": "stdout",
     "output_type": "stream",
     "text": [
      "Total class frequencies: [0.5 0.5]\n",
      "Train class frequencies: [0.49701199 0.50298801]\n",
      "Val class frequencies: [0.50332854 0.49667146]\n",
      "Test class frequencies: [0.50983726 0.49016274]\n"
     ]
    }
   ],
   "source": [
    "print('Total class frequencies: {}'.format(np.unique(y, return_counts=True)[1]/len(y)))\n",
    "print('Train class frequencies: {}'.format(np.unique(train_targets, return_counts=True)[1]/len(train_targets)))\n",
    "print('Val class frequencies: {}'.format(np.unique(val_targets, return_counts=True)[1]/len(val_targets)))\n",
    "print('Test class frequencies: {}'.format(np.unique(test_targets, return_counts=True)[1]/len(test_targets)))"
   ]
  },
  {
   "cell_type": "code",
   "execution_count": 53,
   "metadata": {
    "ExecuteTime": {
     "end_time": "2021-05-20T16:11:18.009483Z",
     "start_time": "2021-05-20T16:11:17.981008Z"
    }
   },
   "outputs": [
    {
     "data": {
      "text/plain": [
       "array([12891, 13046])"
      ]
     },
     "execution_count": 53,
     "metadata": {},
     "output_type": "execute_result"
    }
   ],
   "source": [
    "np.unique(train_targets, return_counts=True)[1]"
   ]
  },
  {
   "cell_type": "code",
   "execution_count": 54,
   "metadata": {
    "ExecuteTime": {
     "end_time": "2021-05-20T16:11:20.368201Z",
     "start_time": "2021-05-20T16:11:20.335545Z"
    }
   },
   "outputs": [],
   "source": [
    "# Get weights based on inverse class frequency in the dataset\n",
    "loss_weights = torch.from_numpy(1/(np.unique(y, return_counts=True)[1]/len(y)))[1].to(device)\n",
    "\n",
    "# Get weights based on ratio of class number\n",
    "#class_nums = np.unique(y, return_counts=True)[1]\n",
    "#loss_weights = class_nums[0]/class_nums[1]"
   ]
  },
  {
   "cell_type": "code",
   "execution_count": 55,
   "metadata": {
    "ExecuteTime": {
     "end_time": "2021-05-20T16:11:21.054287Z",
     "start_time": "2021-05-20T16:11:21.030517Z"
    }
   },
   "outputs": [
    {
     "name": "stdout",
     "output_type": "stream",
     "text": [
      "Size of training set: 25937 samples\n",
      "Size of validation set: 11116 samples\n",
      "Size of test set: 4117 samples\n"
     ]
    }
   ],
   "source": [
    "# Output sizes\n",
    "print(\"Size of training set: {} samples\".format(train_data.shape[0]))\n",
    "print(\"Size of validation set: {} samples\".format(val_data.shape[0]))\n",
    "print(\"Size of test set: {} samples\".format(test_data.shape[0]))"
   ]
  },
  {
   "cell_type": "code",
   "execution_count": 56,
   "metadata": {
    "ExecuteTime": {
     "end_time": "2021-05-20T16:11:22.739299Z",
     "start_time": "2021-05-20T16:11:22.715917Z"
    }
   },
   "outputs": [],
   "source": [
    "# Boolean to subset if testing\n",
    "testing = False\n",
    "if testing:\n",
    "    train_data = train_data[:1000]\n",
    "    train_targets = train_targets[:1000]\n",
    "    val_data = val_data[:100]\n",
    "    val_targets = val_targets[:100]"
   ]
  },
  {
   "cell_type": "code",
   "execution_count": 57,
   "metadata": {
    "ExecuteTime": {
     "end_time": "2021-05-20T16:11:23.741831Z",
     "start_time": "2021-05-20T16:11:23.720471Z"
    }
   },
   "outputs": [],
   "source": [
    "from torch.utils.data import TensorDataset, DataLoader"
   ]
  },
  {
   "cell_type": "code",
   "execution_count": 58,
   "metadata": {
    "ExecuteTime": {
     "end_time": "2021-05-20T16:11:24.609119Z",
     "start_time": "2021-05-20T16:11:24.590436Z"
    }
   },
   "outputs": [],
   "source": [
    "# Build Datasets objects from arrays\n",
    "train_dataset = TensorDataset(torch.from_numpy(train_data), torch.from_numpy(train_targets))\n",
    "val_dataset = TensorDataset(torch.from_numpy(val_data), torch.from_numpy(val_targets))"
   ]
  },
  {
   "cell_type": "code",
   "execution_count": 59,
   "metadata": {
    "ExecuteTime": {
     "end_time": "2021-05-20T16:11:57.471895Z",
     "start_time": "2021-05-20T16:11:57.302899Z"
    }
   },
   "outputs": [],
   "source": [
    "# Build Loaders from the Datasets\n",
    "train_loader = DataLoader(train_dataset, batch_size=256, shuffle=True)\n",
    "val_loader = DataLoader(val_dataset, batch_size=256)"
   ]
  },
  {
   "cell_type": "code",
   "execution_count": 60,
   "metadata": {
    "ExecuteTime": {
     "end_time": "2021-05-20T16:11:58.556687Z",
     "start_time": "2021-05-20T16:11:58.534431Z"
    }
   },
   "outputs": [
    {
     "name": "stdout",
     "output_type": "stream",
     "text": [
      "Dimensions of training set: 25937 x torch.Size([4, 69])\n",
      "Dimensions of validation set: 11116 x torch.Size([4, 69])\n"
     ]
    }
   ],
   "source": [
    "# Check dims of loaders for correctness\n",
    "print(\"Dimensions of training set: {} x {}\".format(len(train_loader.dataset), train_loader.dataset[0][0].shape))\n",
    "print(\"Dimensions of validation set: {} x {}\".format(len(val_loader.dataset), val_loader.dataset[0][0].shape))"
   ]
  },
  {
   "cell_type": "code",
   "execution_count": 61,
   "metadata": {
    "ExecuteTime": {
     "end_time": "2021-05-20T16:12:32.748989Z",
     "start_time": "2021-05-20T16:12:32.678969Z"
    }
   },
   "outputs": [],
   "source": [
    "from livelossplot import PlotLosses"
   ]
  },
  {
   "cell_type": "code",
   "execution_count": 62,
   "metadata": {
    "ExecuteTime": {
     "end_time": "2021-05-20T16:12:33.644010Z",
     "start_time": "2021-05-20T16:12:33.615733Z"
    }
   },
   "outputs": [],
   "source": [
    "# Current livelossplot compatible training script\n",
    "def train_model(model, criterion, optimizer, num_epoch):\n",
    "    liveloss = PlotLosses()\n",
    "    loss_history, acc_history = {}, {}\n",
    "    for epoch in range(num_epoch):\n",
    "        logs = {}\n",
    "        for phase in ['validation', 'train']:\n",
    "            if phase == 'train':\n",
    "                if epoch < 150:\n",
    "                    model.train()\n",
    "                else:\n",
    "                    model.eval()\n",
    "            else:\n",
    "                model.eval()\n",
    "            \n",
    "            running_loss = 0.0\n",
    "            running_acc = 0.0\n",
    "            for inputs, targets in dataloaders[phase]:\n",
    "                inputs = inputs.to(device)\n",
    "                outputs = model(inputs.float())\n",
    "                targets = targets.unsqueeze(dim=1).to(device)\n",
    "                loss = criterion(outputs, targets.float())\n",
    "                if phase == 'train':\n",
    "                    if epoch < 150:\n",
    "                        optimizer.zero_grad()\n",
    "                        loss.backward()                \n",
    "                        optimizer.step()            \n",
    "                \n",
    "                running_loss += loss.item()\n",
    "                running_acc += accuracy(outputs, targets)\n",
    "            \n",
    "            epoch_loss = running_loss / len(dataloaders[phase].dataset)\n",
    "            epoch_acc = running_acc / len(dataloaders[phase].dataset)\n",
    "                \n",
    "            prefix = ''\n",
    "            if phase == 'validation':\n",
    "                prefix = 'val_'\n",
    "\n",
    "            logs[prefix + 'loss'] = epoch_loss\n",
    "            logs[prefix + 'acc'] = epoch_acc\n",
    "            \n",
    "            loss_history.setdefault(phase, []).append(epoch_loss)\n",
    "            acc_history.setdefault(phase, []).append(epoch_acc)\n",
    "            \n",
    "        liveloss.update(logs)\n",
    "        liveloss.send()\n",
    "    return loss_history, acc_history, liveloss"
   ]
  },
  {
   "cell_type": "code",
   "execution_count": 64,
   "metadata": {
    "ExecuteTime": {
     "end_time": "2021-05-20T16:18:16.623833Z",
     "start_time": "2021-05-20T16:14:53.163686Z"
    }
   },
   "outputs": [
    {
     "data": {
      "image/png": "[encoded data removed]",
      "text/plain": [
       "<Figure size 864x576 with 2 Axes>"
      ]
     },
     "metadata": {
      "needs_background": "light"
     },
     "output_type": "display_data"
    },
    {
     "name": "stdout",
     "output_type": "stream",
     "text": [
      "Accuracy\n",
      "\tvalidation       \t (min:    0.500, max:    0.512, cur:    0.504)\n",
      "\ttraining         \t (min:    0.589, max:    0.750, cur:    0.589)\n",
      "Loss\n",
      "\tvalidation       \t (min:    0.711, max:    0.746, cur:    0.746)\n",
      "\ttraining         \t (min:    0.509, max:    0.672, cur:    0.672)\n"
     ]
    }
   ],
   "source": [
    "### Train the model\n",
    "dataloaders = {\"train\": train_loader, \"validation\": val_loader}\n",
    "optimizer = torch.optim.SGD(eugene.parameters(), lr=0.001)\n",
    "criterion = torch.nn.BCEWithLogitsLoss(reduction='sum') #, pos_weight=torch.tensor(6.3))\n",
    "loss_history, acc_history, _ = train_model(eugene, criterion, optimizer, 200)"
   ]
  },
  {
   "cell_type": "markdown",
   "metadata": {},
   "source": [
    "# Evaluate model"
   ]
  },
  {
   "cell_type": "code",
   "execution_count": 65,
   "metadata": {
    "ExecuteTime": {
     "end_time": "2021-05-20T16:19:44.929585Z",
     "start_time": "2021-05-20T16:19:44.683452Z"
    }
   },
   "outputs": [
    {
     "data": {
      "text/plain": [
       "[<matplotlib.lines.Line2D at 0x7f01fc275ee0>]"
      ]
     },
     "execution_count": 65,
     "metadata": {},
     "output_type": "execute_result"
    },
    {
     "data": {
      "image/png": "[encoded data removed]",
      "text/plain": [
       "<Figure size 432x288 with 1 Axes>"
      ]
     },
     "metadata": {
      "needs_background": "light"
     },
     "output_type": "display_data"
    }
   ],
   "source": [
    "plt.plot(loss_history['train'])\n",
    "plt.plot(loss_history['validation'])"
   ]
  },
  {
   "cell_type": "code",
   "execution_count": 66,
   "metadata": {
    "ExecuteTime": {
     "end_time": "2021-05-20T16:19:45.461844Z",
     "start_time": "2021-05-20T16:19:45.355847Z"
    }
   },
   "outputs": [
    {
     "data": {
      "text/plain": [
       "[<matplotlib.lines.Line2D at 0x7f01fc6c95b0>]"
      ]
     },
     "execution_count": 66,
     "metadata": {},
     "output_type": "execute_result"
    },
    {
     "data": {
      "image/png": "[encoded data removed]",
      "text/plain": [
       "<Figure size 432x288 with 1 Axes>"
      ]
     },
     "metadata": {
      "needs_background": "light"
     },
     "output_type": "display_data"
    }
   ],
   "source": [
    "plt.plot(acc_history['train'])\n",
    "plt.plot(acc_history['validation'])"
   ]
  },
  {
   "cell_type": "code",
   "execution_count": 67,
   "metadata": {
    "ExecuteTime": {
     "end_time": "2021-05-20T16:19:45.916016Z",
     "start_time": "2021-05-20T16:19:45.876923Z"
    }
   },
   "outputs": [
    {
     "data": {
      "text/plain": [
       "EUGENE(\n",
       "  (Conv1): Conv1d(4, 32, kernel_size=(16,), stride=(1,))\n",
       "  (Conv2): Conv1d(32, 32, kernel_size=(5,), stride=(1,))\n",
       "  (Batchnorm): BatchNorm1d(32, eps=1e-05, momentum=0.1, affine=True, track_running_stats=True)\n",
       "  (Maxpool): MaxPool1d(kernel_size=2, stride=1, padding=0, dilation=1, ceil_mode=False)\n",
       "  (Drop1): Dropout(p=0.5, inplace=False)\n",
       "  (Linear1): Linear(in_features=1568, out_features=1, bias=True)\n",
       ")"
      ]
     },
     "execution_count": 67,
     "metadata": {},
     "output_type": "execute_result"
    }
   ],
   "source": [
    "eugene.to('cpu')"
   ]
  },
  {
   "cell_type": "code",
   "execution_count": 68,
   "metadata": {
    "ExecuteTime": {
     "end_time": "2021-05-20T16:19:47.701150Z",
     "start_time": "2021-05-20T16:19:47.620162Z"
    }
   },
   "outputs": [],
   "source": [
    "outputs = eugene(torch.from_numpy(test_data).float())"
   ]
  },
  {
   "cell_type": "code",
   "execution_count": 69,
   "metadata": {
    "ExecuteTime": {
     "end_time": "2021-05-20T16:19:48.482002Z",
     "start_time": "2021-05-20T16:19:48.462742Z"
    }
   },
   "outputs": [
    {
     "data": {
      "text/plain": [
       "tensor(1293)"
      ]
     },
     "execution_count": 69,
     "metadata": {},
     "output_type": "execute_result"
    }
   ],
   "source": [
    "(outputs < 0).sum()"
   ]
  },
  {
   "cell_type": "code",
   "execution_count": 70,
   "metadata": {
    "ExecuteTime": {
     "end_time": "2021-05-20T16:19:50.019006Z",
     "start_time": "2021-05-20T16:19:49.967351Z"
    }
   },
   "outputs": [
    {
     "data": {
      "text/plain": [
       "0.5044935632742288"
      ]
     },
     "execution_count": 70,
     "metadata": {},
     "output_type": "execute_result"
    }
   ],
   "source": [
    "accuracy(outputs.squeeze(dim=1), torch.from_numpy(test_targets))/len(test_data)"
   ]
  },
  {
   "cell_type": "code",
   "execution_count": 71,
   "metadata": {
    "ExecuteTime": {
     "end_time": "2021-05-20T16:19:51.249021Z",
     "start_time": "2021-05-20T16:19:51.219055Z"
    }
   },
   "outputs": [
    {
     "data": {
      "text/plain": [
       "tensor([1, 0, 1,  ..., 0, 1, 0])"
      ]
     },
     "execution_count": 71,
     "metadata": {},
     "output_type": "execute_result"
    }
   ],
   "source": [
    "torch.from_numpy(test_targets)"
   ]
  },
  {
   "cell_type": "code",
   "execution_count": 72,
   "metadata": {
    "ExecuteTime": {
     "end_time": "2021-05-20T16:19:51.946053Z",
     "start_time": "2021-05-20T16:19:51.918635Z"
    }
   },
   "outputs": [
    {
     "data": {
      "text/plain": [
       "tensor([ 0.3286,  0.1966, -0.0479,  ..., -0.6918, -0.1705,  0.9515],\n",
       "       grad_fn=<SqueezeBackward1>)"
      ]
     },
     "execution_count": 72,
     "metadata": {},
     "output_type": "execute_result"
    }
   ],
   "source": [
    "outputs.squeeze(dim=1)"
   ]
  },
  {
   "cell_type": "code",
   "execution_count": 73,
   "metadata": {
    "ExecuteTime": {
     "end_time": "2021-05-20T16:19:54.368119Z",
     "start_time": "2021-05-20T16:19:54.347014Z"
    }
   },
   "outputs": [],
   "source": [
    "from datetime import date"
   ]
  },
  {
   "cell_type": "code",
   "execution_count": 175,
   "metadata": {
    "ExecuteTime": {
     "end_time": "2021-05-20T15:57:50.546102Z",
     "start_time": "2021-05-20T15:57:50.474618Z"
    }
   },
   "outputs": [],
   "source": [
    "torch.save(eugene.state_dict(), '../models/{}_eugene.pt'.format(date.today()))"
   ]
  },
  {
   "cell_type": "markdown",
   "metadata": {},
   "source": [
    "# Model interpretation"
   ]
  },
  {
   "cell_type": "markdown",
   "metadata": {},
   "source": [
    "# References\n",
    "1. Farley, E. K. et al. Suboptimization of developmental enhancers. Science 350, 325–328 (2015)"
   ]
  }
 ],
 "metadata": {
  "kernelspec": {
   "display_name": "mlPy",
   "language": "python",
   "name": "ml_env"
  },
  "language_info": {
   "codemirror_mode": {
    "name": "ipython",
    "version": 3
   },
   "file_extension": ".py",
   "mimetype": "text/x-python",
   "name": "python",
   "nbconvert_exporter": "python",
   "pygments_lexer": "ipython3",
   "version": "3.8.8"
  },
  "toc": {
   "base_numbering": 1,
   "nav_menu": {},
   "number_sections": true,
   "sideBar": true,
   "skip_h1_title": false,
   "title_cell": "Table of Contents",
   "title_sidebar": "Contents",
   "toc_cell": true,
   "toc_position": {},
   "toc_section_display": true,
   "toc_window_display": false
  }
 },
 "nbformat": 4,
 "nbformat_minor": 1
}

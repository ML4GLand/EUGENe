{
 "cells": [
  {
   "cell_type": "markdown",
   "id": "ae419fea",
   "metadata": {},
   "source": [
    "# Testing EUGENE utilities and PyTorch integrations"
   ]
  },
  {
   "cell_type": "markdown",
   "id": "32a7ea21",
   "metadata": {
    "tags": []
   },
   "source": [
    "**Authorship:**\n",
    "Adam Klie, *03/22/2022*\n",
    "***\n",
    "**Description:**\n",
    "Notebook for testing out useful Pytorch functionality and EUGENE utilities. Kind of miscellaneous testing"
   ]
  },
  {
   "cell_type": "markdown",
   "id": "24ebd89c",
   "metadata": {},
   "source": [
    "<div class=\"alert alert-block alert-warning\">\n",
    "<b>TODOs</b>:\n",
    "<ul>\n",
    "    <b><li>Optuna integration</li></b>\n",
    "    <b><li></li></b>\n",
    "    </ul>\n",
    "</div>"
   ]
  },
  {
   "cell_type": "code",
   "execution_count": 1,
   "id": "f1d48207",
   "metadata": {
    "execution": {
     "iopub.execute_input": "2022-03-23T05:31:51.743122Z",
     "iopub.status.busy": "2022-03-23T05:31:51.742973Z",
     "iopub.status.idle": "2022-03-23T05:31:52.021776Z",
     "shell.execute_reply": "2022-03-23T05:31:52.021349Z",
     "shell.execute_reply.started": "2022-03-23T05:31:51.743074Z"
    },
    "tags": []
   },
   "outputs": [],
   "source": [
    "# Autoreload extension\n",
    "if 'autoreload' not in get_ipython().extension_manager.loaded:\n",
    "    %load_ext autoreload\n",
    "%autoreload 2\n",
    "\n",
    "import sys\n",
    "sys.path.append(\"../scripts\")"
   ]
  },
  {
   "cell_type": "markdown",
   "id": "1f652221",
   "metadata": {
    "tags": []
   },
   "source": [
    "# Load a model and some test data"
   ]
  },
  {
   "cell_type": "markdown",
   "id": "4fde85df",
   "metadata": {
    "tags": []
   },
   "source": [
    "## Load model"
   ]
  },
  {
   "cell_type": "code",
   "execution_count": 17,
   "id": "0113dc81",
   "metadata": {
    "execution": {
     "iopub.execute_input": "2022-03-21T01:09:02.595179Z",
     "iopub.status.busy": "2022-03-21T01:09:02.594983Z",
     "iopub.status.idle": "2022-03-21T01:09:03.308081Z",
     "shell.execute_reply": "2022-03-21T01:09:03.307755Z",
     "shell.execute_reply.started": "2022-03-21T01:09:02.595162Z"
    },
    "tags": []
   },
   "outputs": [],
   "source": [
    "from dsEUGENE import dsEUGENE\n",
    "\n",
    "cnn=dict(input_len=66, channels=[4, 16], conv_kernels=[15, 5], pool_kernels=[1, 1])\n",
    "rnn=dict(output_dim=32, batch_first=True)\n",
    "fc=dict(output_dim=1)\n",
    "eugene = dsEUGENE(conv_kwargs=cnn, rnn_kwargs=rnn, fc_kwargs=fc)\n",
    "\n",
    "x = torch.randn(10, 4, 66)\n",
    "out = eugene(x, x)\n",
    "out.shape"
   ]
  },
  {
   "cell_type": "markdown",
   "id": "fb33c5da",
   "metadata": {
    "tags": []
   },
   "source": [
    "## Load data"
   ]
  },
  {
   "cell_type": "code",
   "execution_count": 19,
   "id": "d76fb1cf",
   "metadata": {
    "execution": {
     "iopub.execute_input": "2022-03-19T23:31:40.911697Z",
     "iopub.status.busy": "2022-03-19T23:31:40.911588Z",
     "iopub.status.idle": "2022-03-19T23:31:41.888978Z",
     "shell.execute_reply": "2022-03-19T23:31:41.888490Z",
     "shell.execute_reply.started": "2022-03-19T23:31:40.911681Z"
    },
    "tags": []
   },
   "outputs": [],
   "source": [
    "from torch.utils.data import dataset\n",
    "from torch.utils.data import DataLoader\n",
    "\n",
    "training_dataset = dataset.TensorDataset(torch.validationn(1000, 4, 66), torch.bernoulli(torch.empty(1000).uniform_(0,1)))\n",
    "training_dataloader = DataLoader(training_dataset, batch_size=32, num_workers=4)\n",
    "\n",
    "for i_batch, batch in enumerate(training_dataloader):\n",
    "    x, y = batch\n",
    "    outs = eugene(x)\n",
    "    print(x.shape, y.shape, outs.shape)\n",
    "    if i_batch==3:\n",
    "        break"
   ]
  },
  {
   "cell_type": "markdown",
   "id": "3ac597cc",
   "metadata": {
    "tags": []
   },
   "source": [
    "# DataModule"
   ]
  },
  {
   "cell_type": "markdown",
   "id": "df4fd08d",
   "metadata": {
    "tags": [],
    "toc-hr-collapsed": true
   },
   "source": [
    "## Test random_split torch function"
   ]
  },
  {
   "cell_type": "code",
   "execution_count": 34,
   "id": "af9ae17f",
   "metadata": {
    "execution": {
     "iopub.execute_input": "2022-03-22T04:47:18.375672Z",
     "iopub.status.busy": "2022-03-22T04:47:18.375172Z",
     "iopub.status.idle": "2022-03-22T04:47:19.078820Z",
     "shell.execute_reply": "2022-03-22T04:47:19.078459Z",
     "shell.execute_reply.started": "2022-03-22T04:47:18.375640Z"
    },
    "tags": []
   },
   "outputs": [],
   "source": [
    "from torch.utils.data import random_split"
   ]
  },
  {
   "cell_type": "code",
   "execution_count": 38,
   "id": "ec1591f6",
   "metadata": {
    "execution": {
     "iopub.execute_input": "2022-03-22T04:48:58.374631Z",
     "iopub.status.busy": "2022-03-22T04:48:58.374445Z",
     "iopub.status.idle": "2022-03-22T04:48:59.203992Z",
     "shell.execute_reply": "2022-03-22T04:48:59.203516Z",
     "shell.execute_reply.started": "2022-03-22T04:48:58.374613Z"
    },
    "tags": []
   },
   "outputs": [],
   "source": [
    "dataset_len = len(training_dataset)\n",
    "train_len = int(dataset_len*0.9)\n",
    "val_len = dataset_len - train_len"
   ]
  },
  {
   "cell_type": "code",
   "execution_count": 40,
   "id": "b2bdd436",
   "metadata": {
    "execution": {
     "iopub.execute_input": "2022-03-22T04:49:17.390108Z",
     "iopub.status.busy": "2022-03-22T04:49:17.389558Z",
     "iopub.status.idle": "2022-03-22T04:49:18.302963Z",
     "shell.execute_reply": "2022-03-22T04:49:18.302377Z",
     "shell.execute_reply.started": "2022-03-22T04:49:17.390087Z"
    },
    "tags": []
   },
   "outputs": [],
   "source": [
    "train_dataset, val_dataset = random_split(training_dataset, [train_len, val_len])"
   ]
  },
  {
   "cell_type": "code",
   "execution_count": 42,
   "id": "4714dc3e",
   "metadata": {
    "execution": {
     "iopub.execute_input": "2022-03-22T04:49:27.689591Z",
     "iopub.status.busy": "2022-03-22T04:49:27.689169Z",
     "iopub.status.idle": "2022-03-22T04:49:28.511794Z",
     "shell.execute_reply": "2022-03-22T04:49:28.511381Z",
     "shell.execute_reply.started": "2022-03-22T04:49:27.689567Z"
    },
    "tags": []
   },
   "outputs": [
    {
     "data": {
      "text/plain": [
       "272642"
      ]
     },
     "execution_count": 42,
     "metadata": {},
     "output_type": "execute_result"
    }
   ],
   "source": [
    "len(train_dataset)"
   ]
  },
  {
   "cell_type": "markdown",
   "id": "ccbab790",
   "metadata": {
    "tags": []
   },
   "source": [
    "# Torchmetrics logging"
   ]
  },
  {
   "cell_type": "code",
   "execution_count": 21,
   "id": "33eaf9df",
   "metadata": {
    "execution": {
     "iopub.execute_input": "2022-03-22T00:39:08.582187Z",
     "iopub.status.busy": "2022-03-22T00:39:08.582003Z",
     "iopub.status.idle": "2022-03-22T00:39:09.902238Z",
     "shell.execute_reply": "2022-03-22T00:39:09.901791Z",
     "shell.execute_reply.started": "2022-03-22T00:39:08.582167Z"
    }
   },
   "outputs": [],
   "source": [
    "import torchmetrics"
   ]
  },
  {
   "cell_type": "code",
   "execution_count": 48,
   "id": "bfe980dc",
   "metadata": {
    "execution": {
     "iopub.execute_input": "2022-03-22T00:46:41.963892Z",
     "iopub.status.busy": "2022-03-22T00:46:41.963654Z",
     "iopub.status.idle": "2022-03-22T00:46:43.263630Z",
     "shell.execute_reply": "2022-03-22T00:46:43.263219Z",
     "shell.execute_reply.started": "2022-03-22T00:46:41.963873Z"
    },
    "tags": []
   },
   "outputs": [],
   "source": [
    "acc = torchmetrics.Accuracy()\n",
    "preds = torch.round(torch.sigmoid(outs))\n",
    "y.long().unsqueeze(dim=1)\n",
    "acc.update(preds, y.long().unsqueeze(dim=1))\n",
    "acc.compute()"
   ]
  },
  {
   "cell_type": "code",
   "execution_count": 91,
   "id": "c4c9cb2b",
   "metadata": {
    "execution": {
     "iopub.execute_input": "2022-03-22T02:02:32.649404Z",
     "iopub.status.busy": "2022-03-22T02:02:32.649231Z",
     "iopub.status.idle": "2022-03-22T02:02:34.054422Z",
     "shell.execute_reply": "2022-03-22T02:02:34.053962Z",
     "shell.execute_reply.started": "2022-03-22T02:02:32.649386Z"
    },
    "tags": []
   },
   "outputs": [],
   "source": [
    "auroc = torchmetrics.AUROC()\n",
    "auroc.update(torch.sigmoid(outs), y.long().unsqueeze(dim=1))\n",
    "auroc.compute()"
   ]
  },
  {
   "cell_type": "markdown",
   "id": "b69acfe4",
   "metadata": {},
   "source": [
    "# Optuna integration"
   ]
  },
  {
   "cell_type": "code",
   "execution_count": 2,
   "id": "bd2e449e",
   "metadata": {
    "execution": {
     "iopub.execute_input": "2022-03-23T05:31:52.022902Z",
     "iopub.status.busy": "2022-03-23T05:31:52.022789Z",
     "iopub.status.idle": "2022-03-23T05:32:04.784798Z",
     "shell.execute_reply": "2022-03-23T05:32:04.784315Z",
     "shell.execute_reply.started": "2022-03-23T05:31:52.022887Z"
    },
    "tags": []
   },
   "outputs": [],
   "source": [
    "from MPRADataModule import MPRADataModule"
   ]
  },
  {
   "cell_type": "markdown",
   "id": "b69184df",
   "metadata": {
    "tags": []
   },
   "source": [
    "## Load data"
   ]
  },
  {
   "cell_type": "code",
   "execution_count": 3,
   "id": "791b0c34",
   "metadata": {
    "execution": {
     "iopub.execute_input": "2022-03-23T05:32:04.786706Z",
     "iopub.status.busy": "2022-03-23T05:32:04.786602Z",
     "iopub.status.idle": "2022-03-23T05:32:05.688959Z",
     "shell.execute_reply": "2022-03-23T05:32:05.688538Z",
     "shell.execute_reply.started": "2022-03-23T05:32:04.786691Z"
    },
    "tags": []
   },
   "outputs": [],
   "source": [
    "from torchvision import transforms\n",
    "from transforms import ReverseComplement, Augment, OneHotEncode, ToTensor"
   ]
  },
  {
   "cell_type": "code",
   "execution_count": 4,
   "id": "eeb25a79",
   "metadata": {
    "execution": {
     "iopub.execute_input": "2022-03-23T05:32:10.619073Z",
     "iopub.status.busy": "2022-03-23T05:32:10.618939Z",
     "iopub.status.idle": "2022-03-23T05:32:11.578113Z",
     "shell.execute_reply": "2022-03-23T05:32:11.577672Z",
     "shell.execute_reply.started": "2022-03-23T05:32:10.619057Z"
    },
    "tags": []
   },
   "outputs": [],
   "source": [
    "data_transform = "
   ]
  },
  {
   "cell_type": "code",
   "execution_count": 6,
   "id": "82aafe6b",
   "metadata": {
    "execution": {
     "iopub.execute_input": "2022-03-23T05:32:24.725570Z",
     "iopub.status.busy": "2022-03-23T05:32:24.725381Z",
     "iopub.status.idle": "2022-03-23T05:32:25.617160Z",
     "shell.execute_reply": "2022-03-23T05:32:25.616693Z",
     "shell.execute_reply.started": "2022-03-23T05:32:24.725552Z"
    },
    "tags": []
   },
   "outputs": [
    {
     "name": "stdout",
     "output_type": "stream",
     "text": [
      "Compose(\n",
      "    <transforms.Augment object at 0x155550d4f610>\n",
      "    <transforms.ReverseComplement object at 0x155550d4f910>\n",
      "    <transforms.OneHotEncode object at 0x155550d4f310>\n",
      "    <transforms.ToTensor object at 0x155550d4ff50>\n",
      ")\n"
     ]
    }
   ],
   "source": [
    "OLS_TSV = \"/cellar/users/aklie/projects/EUGENE/data/2021_OLS_Library/2021_OLS_Library.tsv\"\n",
    "mod = MPRADataModule(seq_file=OLS_TSV,\n",
    "                     transform=data_transform,\n",
    "                     num_workers=4,\n",
    "                     batch_size=128,\n",
    "                     load_kwargs=dict(target_col=\"ACTIVITY_SUMRNA_NUMDNA\", low_thresh=0.18, high_thresh=0.4))"
   ]
  },
  {
   "cell_type": "code",
   "execution_count": 10,
   "id": "33ef4577",
   "metadata": {
    "execution": {
     "iopub.execute_input": "2022-03-23T05:33:23.127032Z",
     "iopub.status.busy": "2022-03-23T05:33:23.126879Z",
     "iopub.status.idle": "2022-03-23T05:33:25.401248Z",
     "shell.execute_reply": "2022-03-23T05:33:25.400921Z",
     "shell.execute_reply.started": "2022-03-23T05:33:23.127016Z"
    },
    "tags": []
   },
   "outputs": [
    {
     "name": "stderr",
     "output_type": "stream",
     "text": [
      "/cellar/users/aklie/opt/miniconda3/envs/pytorch_dev/lib/python3.7/site-packages/pytorch_lightning/core/datamodule.py:474: DtypeWarning: Columns (3) have mixed types.Specify dtype option on import or set low_memory=False.\n",
      "  fn(*args, **kwargs)\n"
     ]
    },
    {
     "name": "stdout",
     "output_type": "stream",
     "text": [
      "Compose(\n",
      "    <transforms.Augment object at 0x155550d4f610>\n",
      "    <transforms.ReverseComplement object at 0x155550d4f910>\n",
      "    <transforms.OneHotEncode object at 0x155550d4f310>\n",
      "    <transforms.ToTensor object at 0x155550d4ff50>\n",
      ")\n"
     ]
    }
   ],
   "source": [
    "mod.setup()"
   ]
  },
  {
   "cell_type": "code",
   "execution_count": 14,
   "id": "504decb1",
   "metadata": {
    "execution": {
     "iopub.execute_input": "2022-03-23T05:33:56.139008Z",
     "iopub.status.busy": "2022-03-23T05:33:56.138791Z",
     "iopub.status.idle": "2022-03-23T05:33:57.116070Z",
     "shell.execute_reply": "2022-03-23T05:33:57.115764Z",
     "shell.execute_reply.started": "2022-03-23T05:33:56.138979Z"
    },
    "tags": []
   },
   "outputs": [
    {
     "data": {
      "text/plain": [
       "torch.Size([4, 66])"
      ]
     },
     "execution_count": 14,
     "metadata": {},
     "output_type": "execute_result"
    }
   ],
   "source": [
    "mod.train_dataloader().dataset[0][\"sequence\"].shape"
   ]
  },
  {
   "cell_type": "markdown",
   "id": "0f53132f",
   "metadata": {},
   "source": [
    "## Test objective"
   ]
  },
  {
   "cell_type": "code",
   "execution_count": 13,
   "id": "3eb92a22",
   "metadata": {
    "execution": {
     "iopub.execute_input": "2022-03-22T22:33:37.573973Z",
     "iopub.status.busy": "2022-03-22T22:33:37.573817Z",
     "iopub.status.idle": "2022-03-22T22:33:39.462594Z",
     "shell.execute_reply": "2022-03-22T22:33:39.462114Z",
     "shell.execute_reply.started": "2022-03-22T22:33:37.573955Z"
    },
    "tags": []
   },
   "outputs": [],
   "source": [
    "from dsEUGENE import objective"
   ]
  },
  {
   "cell_type": "code",
   "execution_count": 14,
   "id": "58c911ae",
   "metadata": {
    "execution": {
     "iopub.execute_input": "2022-03-22T22:33:39.463742Z",
     "iopub.status.busy": "2022-03-22T22:33:39.463427Z",
     "iopub.status.idle": "2022-03-22T22:33:41.194339Z",
     "shell.execute_reply": "2022-03-22T22:33:41.193861Z",
     "shell.execute_reply.started": "2022-03-22T22:33:39.463722Z"
    },
    "tags": []
   },
   "outputs": [],
   "source": [
    "import optuna"
   ]
  },
  {
   "cell_type": "code",
   "execution_count": 15,
   "id": "9b3a7d85",
   "metadata": {
    "execution": {
     "iopub.execute_input": "2022-03-22T22:33:41.195240Z",
     "iopub.status.busy": "2022-03-22T22:33:41.194971Z",
     "iopub.status.idle": "2022-03-22T22:33:42.997055Z",
     "shell.execute_reply": "2022-03-22T22:33:42.996579Z",
     "shell.execute_reply.started": "2022-03-22T22:33:41.195222Z"
    },
    "tags": []
   },
   "outputs": [],
   "source": [
    "trial = optuna.trial.FixedTrial({\"fcn_n_layers\": 1, \"fcn_dropout\":0.2, \"fcn_n_units_l0\":4})"
   ]
  },
  {
   "cell_type": "code",
   "execution_count": 22,
   "id": "572155d1",
   "metadata": {
    "execution": {
     "iopub.execute_input": "2022-03-22T22:49:59.745299Z",
     "iopub.status.busy": "2022-03-22T22:49:59.745100Z",
     "iopub.status.idle": "2022-03-22T22:50:42.112478Z",
     "shell.execute_reply": "2022-03-22T22:50:42.112168Z",
     "shell.execute_reply.started": "2022-03-22T22:49:59.745281Z"
    },
    "tags": []
   },
   "outputs": [
    {
     "name": "stderr",
     "output_type": "stream",
     "text": [
      "GPU available: True, used: True\n",
      "TPU available: False, using: 0 TPU cores\n",
      "LOCAL_RANK: 0 - CUDA_VISIBLE_DEVICES: [0]\n",
      "Set SLURM handle signals.\n",
      "\n",
      "  | Name         | Type                 | Params\n",
      "------------------------------------------------------\n",
      "0 | convnet      | BasicConv1D          | 976   \n",
      "1 | recurrentnet | BasicRecurrent       | 8 K   \n",
      "2 | fcnet        | FullyConnectedModule | 137   \n",
      "3 | accuracy     | Accuracy             | 0     \n",
      "4 | auroc        | AUROC                | 0     \n"
     ]
    },
    {
     "data": {
      "application/vnd.jupyter.widget-view+json": {
       "model_id": "",
       "version_major": 2,
       "version_minor": 0
      },
      "text/plain": [
       "Validation sanity check: 0it [00:00, ?it/s]"
      ]
     },
     "metadata": {},
     "output_type": "display_data"
    },
    {
     "data": {
      "application/vnd.jupyter.widget-view+json": {
       "model_id": "ba559957db864d89895d9f0a9af81d53",
       "version_major": 2,
       "version_minor": 0
      },
      "text/plain": [
       "Training: 0it [00:00, ?it/s]"
      ]
     },
     "metadata": {},
     "output_type": "display_data"
    },
    {
     "data": {
      "application/vnd.jupyter.widget-view+json": {
       "model_id": "",
       "version_major": 2,
       "version_minor": 0
      },
      "text/plain": [
       "Validating: 0it [00:00, ?it/s]"
      ]
     },
     "metadata": {},
     "output_type": "display_data"
    },
    {
     "data": {
      "application/vnd.jupyter.widget-view+json": {
       "model_id": "",
       "version_major": 2,
       "version_minor": 0
      },
      "text/plain": [
       "Validating: 0it [00:00, ?it/s]"
      ]
     },
     "metadata": {},
     "output_type": "display_data"
    },
    {
     "data": {
      "text/plain": [
       "0.7410488128662109"
      ]
     },
     "execution_count": 22,
     "metadata": {},
     "output_type": "execute_result"
    }
   ],
   "source": [
    "objective(trial, mod, max_epochs=2)"
   ]
  },
  {
   "cell_type": "code",
   "execution_count": 23,
   "id": "a40b93cf",
   "metadata": {
    "execution": {
     "iopub.execute_input": "2022-03-22T23:37:21.619231Z",
     "iopub.status.busy": "2022-03-22T23:37:21.619037Z",
     "iopub.status.idle": "2022-03-22T23:37:24.506581Z",
     "shell.execute_reply": "2022-03-22T23:37:24.506295Z",
     "shell.execute_reply.started": "2022-03-22T23:37:21.619213Z"
    }
   },
   "outputs": [
    {
     "data": {
      "text/plain": [
       "0"
      ]
     },
     "execution_count": 23,
     "metadata": {},
     "output_type": "execute_result"
    }
   ],
   "source": [
    "trial.number"
   ]
  },
  {
   "cell_type": "code",
   "execution_count": 8,
   "id": "806b5d5f",
   "metadata": {
    "execution": {
     "iopub.execute_input": "2022-03-22T02:31:51.553922Z",
     "iopub.status.busy": "2022-03-22T02:31:51.553354Z",
     "iopub.status.idle": "2022-03-22T02:31:52.682798Z",
     "shell.execute_reply": "2022-03-22T02:31:52.682502Z",
     "shell.execute_reply.started": "2022-03-22T02:31:51.553901Z"
    }
   },
   "outputs": [
    {
     "name": "stderr",
     "output_type": "stream",
     "text": [
      "\u001b[32m[I 2022-03-21 19:31:52,680]\u001b[0m A new study created in memory with name: no-name-33c62b8b-30b6-4731-afa9-5017148cd173\u001b[0m\n"
     ]
    }
   ],
   "source": [
    "study = optuna.create_study(direction=\"maximize\")"
   ]
  },
  {
   "cell_type": "code",
   "execution_count": 16,
   "id": "536a0993",
   "metadata": {
    "execution": {
     "iopub.execute_input": "2022-03-22T02:33:38.908645Z",
     "iopub.status.busy": "2022-03-22T02:33:38.908494Z",
     "iopub.status.idle": "2022-03-22T02:33:40.371874Z",
     "shell.execute_reply": "2022-03-22T02:33:40.371418Z",
     "shell.execute_reply.started": "2022-03-22T02:33:38.908627Z"
    }
   },
   "outputs": [],
   "source": [
    "from optuna.distributions import UniformDistribution"
   ]
  },
  {
   "cell_type": "code",
   "execution_count": 17,
   "id": "765d8687",
   "metadata": {
    "execution": {
     "iopub.execute_input": "2022-03-22T02:33:40.372934Z",
     "iopub.status.busy": "2022-03-22T02:33:40.372716Z",
     "iopub.status.idle": "2022-03-22T02:33:41.666001Z",
     "shell.execute_reply": "2022-03-22T02:33:41.665516Z",
     "shell.execute_reply.started": "2022-03-22T02:33:40.372916Z"
    },
    "tags": []
   },
   "outputs": [
    {
     "name": "stderr",
     "output_type": "stream",
     "text": [
      "/cellar/users/aklie/opt/miniconda3/envs/seq_tools_dev/lib/python3.7/site-packages/ipykernel_launcher.py:4: ExperimentalWarning: create_trial is experimental (supported from v2.0.0). The interface can change in the future.\n",
      "  after removing the cwd from sys.path.\n"
     ]
    }
   ],
   "source": [
    "trial = optuna.trial.create_trial(\n",
    "    params={\"x\": 2.0},\n",
    "    distributions={\"x\": UniformDistribution(0, 10)},\n",
    "    value=4.0,\n",
    ")"
   ]
  },
  {
   "cell_type": "code",
   "execution_count": 18,
   "id": "8bcd3a20",
   "metadata": {
    "execution": {
     "iopub.execute_input": "2022-03-22T02:33:43.375842Z",
     "iopub.status.busy": "2022-03-22T02:33:43.375713Z",
     "iopub.status.idle": "2022-03-22T02:33:44.551846Z",
     "shell.execute_reply": "2022-03-22T02:33:44.551386Z",
     "shell.execute_reply.started": "2022-03-22T02:33:43.375826Z"
    },
    "tags": []
   },
   "outputs": [
    {
     "name": "stderr",
     "output_type": "stream",
     "text": [
      "/cellar/users/aklie/opt/miniconda3/envs/seq_tools_dev/lib/python3.7/site-packages/ipykernel_launcher.py:1: ExperimentalWarning: add_trial is experimental (supported from v2.0.0). The interface can change in the future.\n",
      "  \"\"\"Entry point for launching an IPython kernel.\n"
     ]
    }
   ],
   "source": [
    "study.add_trial(trial)"
   ]
  },
  {
   "cell_type": "code",
   "execution_count": 19,
   "id": "f50a14a0",
   "metadata": {
    "execution": {
     "iopub.execute_input": "2022-03-22T02:33:51.519927Z",
     "iopub.status.busy": "2022-03-22T02:33:51.519795Z",
     "iopub.status.idle": "2022-03-22T02:33:52.650933Z",
     "shell.execute_reply": "2022-03-22T02:33:52.650418Z",
     "shell.execute_reply.started": "2022-03-22T02:33:51.519910Z"
    },
    "tags": []
   },
   "outputs": [
    {
     "ename": "ValueError",
     "evalue": "The value of the parameter 'fcn_n_layers' is not found. Please set it at the construction of the FrozenTrial object.",
     "output_type": "error",
     "traceback": [
      "\u001b[0;31m---------------------------------------------------------------------------\u001b[0m",
      "\u001b[0;31mValueError\u001b[0m                                Traceback (most recent call last)",
      "\u001b[0;32m/tmp/ipykernel_2112816/4236407174.py\u001b[0m in \u001b[0;36m<module>\u001b[0;34m\u001b[0m\n\u001b[0;32m----> 1\u001b[0;31m \u001b[0mobjective\u001b[0m\u001b[0;34m(\u001b[0m\u001b[0mtrial\u001b[0m\u001b[0;34m)\u001b[0m\u001b[0;34m\u001b[0m\u001b[0;34m\u001b[0m\u001b[0m\n\u001b[0m",
      "\u001b[0;32m/mnt/beegfs/shared/carterlab/CLAIM/simple_seq_classification/scripts/dsEUGENE.py\u001b[0m in \u001b[0;36mobjective\u001b[0;34m(trial)\u001b[0m\n\u001b[1;32m     80\u001b[0m \u001b[0;34m\u001b[0m\u001b[0m\n\u001b[1;32m     81\u001b[0m \u001b[0;32mdef\u001b[0m \u001b[0mobjective\u001b[0m\u001b[0;34m(\u001b[0m\u001b[0mtrial\u001b[0m\u001b[0;34m:\u001b[0m \u001b[0moptuna\u001b[0m\u001b[0;34m.\u001b[0m\u001b[0mtrial\u001b[0m\u001b[0;34m.\u001b[0m\u001b[0mTrial\u001b[0m\u001b[0;34m)\u001b[0m\u001b[0;34m:\u001b[0m\u001b[0;34m\u001b[0m\u001b[0;34m\u001b[0m\u001b[0m\n\u001b[0;32m---> 82\u001b[0;31m     \u001b[0mfcn_layers\u001b[0m \u001b[0;34m=\u001b[0m \u001b[0mtrial\u001b[0m\u001b[0;34m.\u001b[0m\u001b[0msuggest_int\u001b[0m\u001b[0;34m(\u001b[0m\u001b[0;34m\"fcn_n_layers\"\u001b[0m\u001b[0;34m,\u001b[0m \u001b[0;36m1\u001b[0m\u001b[0;34m,\u001b[0m \u001b[0;36m3\u001b[0m\u001b[0;34m)\u001b[0m\u001b[0;34m\u001b[0m\u001b[0;34m\u001b[0m\u001b[0m\n\u001b[0m\u001b[1;32m     83\u001b[0m     \u001b[0mfcn_dropout\u001b[0m \u001b[0;34m=\u001b[0m \u001b[0mtrial\u001b[0m\u001b[0;34m.\u001b[0m\u001b[0msuggest_float\u001b[0m\u001b[0;34m(\u001b[0m\u001b[0;34m\"fcn_dropout\"\u001b[0m\u001b[0;34m,\u001b[0m \u001b[0;36m0.2\u001b[0m\u001b[0;34m,\u001b[0m \u001b[0;36m0.5\u001b[0m\u001b[0;34m)\u001b[0m\u001b[0;34m\u001b[0m\u001b[0;34m\u001b[0m\u001b[0m\n\u001b[1;32m     84\u001b[0m     fcn_output_dims = [\n",
      "\u001b[0;32m~/opt/miniconda3/envs/seq_tools_dev/lib/python3.7/site-packages/optuna/trial/_frozen.py\u001b[0m in \u001b[0;36msuggest_int\u001b[0;34m(self, name, low, high, step, log)\u001b[0m\n\u001b[1;32m    264\u001b[0m             \u001b[0;32melse\u001b[0m\u001b[0;34m:\u001b[0m\u001b[0;34m\u001b[0m\u001b[0;34m\u001b[0m\u001b[0m\n\u001b[1;32m    265\u001b[0m                 \u001b[0mdistribution\u001b[0m \u001b[0;34m=\u001b[0m \u001b[0mIntUniformDistribution\u001b[0m\u001b[0;34m(\u001b[0m\u001b[0mlow\u001b[0m\u001b[0;34m=\u001b[0m\u001b[0mlow\u001b[0m\u001b[0;34m,\u001b[0m \u001b[0mhigh\u001b[0m\u001b[0;34m=\u001b[0m\u001b[0mhigh\u001b[0m\u001b[0;34m,\u001b[0m \u001b[0mstep\u001b[0m\u001b[0;34m=\u001b[0m\u001b[0mstep\u001b[0m\u001b[0;34m)\u001b[0m\u001b[0;34m\u001b[0m\u001b[0;34m\u001b[0m\u001b[0m\n\u001b[0;32m--> 266\u001b[0;31m         \u001b[0;32mreturn\u001b[0m \u001b[0mint\u001b[0m\u001b[0;34m(\u001b[0m\u001b[0mself\u001b[0m\u001b[0;34m.\u001b[0m\u001b[0m_suggest\u001b[0m\u001b[0;34m(\u001b[0m\u001b[0mname\u001b[0m\u001b[0;34m,\u001b[0m \u001b[0mdistribution\u001b[0m\u001b[0;34m)\u001b[0m\u001b[0;34m)\u001b[0m\u001b[0;34m\u001b[0m\u001b[0;34m\u001b[0m\u001b[0m\n\u001b[0m\u001b[1;32m    267\u001b[0m \u001b[0;34m\u001b[0m\u001b[0m\n\u001b[1;32m    268\u001b[0m     def suggest_categorical(\n",
      "\u001b[0;32m~/opt/miniconda3/envs/seq_tools_dev/lib/python3.7/site-packages/optuna/trial/_frozen.py\u001b[0m in \u001b[0;36m_suggest\u001b[0;34m(self, name, distribution)\u001b[0m\n\u001b[1;32m    356\u001b[0m             raise ValueError(\n\u001b[1;32m    357\u001b[0m                 \u001b[0;34m\"The value of the parameter '{}' is not found. Please set it at \"\u001b[0m\u001b[0;34m\u001b[0m\u001b[0;34m\u001b[0m\u001b[0m\n\u001b[0;32m--> 358\u001b[0;31m                 \u001b[0;34m\"the construction of the FrozenTrial object.\"\u001b[0m\u001b[0;34m.\u001b[0m\u001b[0mformat\u001b[0m\u001b[0;34m(\u001b[0m\u001b[0mname\u001b[0m\u001b[0;34m)\u001b[0m\u001b[0;34m\u001b[0m\u001b[0;34m\u001b[0m\u001b[0m\n\u001b[0m\u001b[1;32m    359\u001b[0m             )\n\u001b[1;32m    360\u001b[0m \u001b[0;34m\u001b[0m\u001b[0m\n",
      "\u001b[0;31mValueError\u001b[0m: The value of the parameter 'fcn_n_layers' is not found. Please set it at the construction of the FrozenTrial object."
     ]
    }
   ],
   "source": [
    "objective(trial)"
   ]
  }
 ],
 "metadata": {
  "kernelspec": {
   "display_name": "Python 3 pytorch_dev",
   "language": "python",
   "name": "pytorch_dev"
  },
  "language_info": {
   "codemirror_mode": {
    "name": "ipython",
    "version": 3
   },
   "file_extension": ".py",
   "mimetype": "text/x-python",
   "name": "python",
   "nbconvert_exporter": "python",
   "pygments_lexer": "ipython3",
   "version": "3.7.12"
  }
 },
 "nbformat": 4,
 "nbformat_minor": 5
}

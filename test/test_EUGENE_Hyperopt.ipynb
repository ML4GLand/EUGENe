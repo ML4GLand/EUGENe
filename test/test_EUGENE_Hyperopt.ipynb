{
 "cells": [
  {
   "cell_type": "markdown",
   "id": "ae419fea",
   "metadata": {},
   "source": [
    "# Testing EUGENE utilities and PyTorch integrations"
   ]
  },
  {
   "cell_type": "markdown",
   "id": "32a7ea21",
   "metadata": {
    "tags": []
   },
   "source": [
    "**Authorship:**\n",
    "Adam Klie, *03/22/2022*\n",
    "***\n",
    "**Description:**\n",
    "Notebook for testing out useful Pytorch functionality and EUGENE utilities. Kind of miscellaneous testing"
   ]
  },
  {
   "cell_type": "markdown",
   "id": "24ebd89c",
   "metadata": {},
   "source": [
    "<div class=\"alert alert-block alert-warning\">\n",
    "<b>TODOs</b>:\n",
    "<ul>\n",
    "    <b><li>Optuna integration</li></b>\n",
    "    <b><li></li></b>\n",
    "    </ul>\n",
    "</div>"
   ]
  },
  {
   "cell_type": "code",
   "execution_count": 1,
   "id": "f1d48207",
   "metadata": {
    "execution": {
     "iopub.execute_input": "2022-04-04T00:08:34.777479Z",
     "iopub.status.busy": "2022-04-04T00:08:34.777281Z",
     "iopub.status.idle": "2022-04-04T00:08:35.135732Z",
     "shell.execute_reply": "2022-04-04T00:08:35.135244Z",
     "shell.execute_reply.started": "2022-04-04T00:08:34.777423Z"
    },
    "tags": []
   },
   "outputs": [],
   "source": [
    "# Autoreload extension\n",
    "if 'autoreload' not in get_ipython().extension_manager.loaded:\n",
    "    %load_ext autoreload\n",
    "%autoreload 2\n",
    "\n",
    "import sys\n",
    "sys.path.append(\"../eugene\")"
   ]
  },
  {
   "cell_type": "markdown",
   "id": "abd38e07-31f9-4d44-9c07-f085750fabf4",
   "metadata": {},
   "source": [
    "# CLI"
   ]
  },
  {
   "cell_type": "code",
   "execution_count": 41,
   "id": "6caf1837-ee15-4890-ac9d-eb6256c91ede",
   "metadata": {
    "execution": {
     "iopub.execute_input": "2022-04-04T01:02:35.429740Z",
     "iopub.status.busy": "2022-04-04T01:02:35.429480Z",
     "iopub.status.idle": "2022-04-04T01:02:36.873703Z",
     "shell.execute_reply": "2022-04-04T01:02:36.873225Z",
     "shell.execute_reply.started": "2022-04-04T01:02:35.429708Z"
    }
   },
   "outputs": [],
   "source": [
    "from pytorch_lightning.trainer import Trainer"
   ]
  },
  {
   "cell_type": "code",
   "execution_count": 4,
   "id": "f31f8e65-f8bf-4e0f-9aa9-1308050f6614",
   "metadata": {
    "execution": {
     "iopub.execute_input": "2022-04-04T00:10:03.265907Z",
     "iopub.status.busy": "2022-04-04T00:10:03.265786Z",
     "iopub.status.idle": "2022-04-04T00:10:04.830873Z",
     "shell.execute_reply": "2022-04-04T00:10:04.830471Z",
     "shell.execute_reply.started": "2022-04-04T00:10:03.265890Z"
    }
   },
   "outputs": [],
   "source": [
    "from dsEUGENE import dsEUGENE"
   ]
  },
  {
   "cell_type": "code",
   "execution_count": 38,
   "id": "bc0dc8a1-2f38-40e5-a195-41a38eacbdc7",
   "metadata": {
    "execution": {
     "iopub.execute_input": "2022-04-04T01:01:04.998248Z",
     "iopub.status.busy": "2022-04-04T01:01:04.998112Z",
     "iopub.status.idle": "2022-04-04T01:01:06.757479Z",
     "shell.execute_reply": "2022-04-04T01:01:06.757039Z",
     "shell.execute_reply.started": "2022-04-04T01:01:04.998231Z"
    }
   },
   "outputs": [],
   "source": [
    "from MPRADataModule import MPRADataModule"
   ]
  },
  {
   "cell_type": "code",
   "execution_count": 2,
   "id": "0975ea2f-bb53-4d30-8d9b-6c00c5d7a371",
   "metadata": {
    "execution": {
     "iopub.execute_input": "2022-04-04T00:09:04.622069Z",
     "iopub.status.busy": "2022-04-04T00:09:04.621902Z",
     "iopub.status.idle": "2022-04-04T00:09:23.880327Z",
     "shell.execute_reply": "2022-04-04T00:09:23.879792Z",
     "shell.execute_reply.started": "2022-04-04T00:09:04.622051Z"
    }
   },
   "outputs": [],
   "source": [
    "from pytorch_lightning.utilities.cli import LightningCLI"
   ]
  },
  {
   "cell_type": "code",
   "execution_count": 24,
   "id": "80be936a-71bc-4d6f-8e2f-cf63f9f03155",
   "metadata": {
    "execution": {
     "iopub.execute_input": "2022-04-04T00:55:54.671782Z",
     "iopub.status.busy": "2022-04-04T00:55:54.671607Z",
     "iopub.status.idle": "2022-04-04T00:55:56.471585Z",
     "shell.execute_reply": "2022-04-04T00:55:56.471093Z",
     "shell.execute_reply.started": "2022-04-04T00:55:54.671764Z"
    }
   },
   "outputs": [],
   "source": [
    "from pytorch_lightning.utilities.cli import LightningArgumentParser"
   ]
  },
  {
   "cell_type": "code",
   "execution_count": 27,
   "id": "ca630586-50f7-4f27-9ef5-e1080174313e",
   "metadata": {
    "execution": {
     "iopub.execute_input": "2022-04-04T00:56:47.628062Z",
     "iopub.status.busy": "2022-04-04T00:56:47.627909Z",
     "iopub.status.idle": "2022-04-04T00:56:49.436075Z",
     "shell.execute_reply": "2022-04-04T00:56:49.435686Z",
     "shell.execute_reply.started": "2022-04-04T00:56:47.628044Z"
    }
   },
   "outputs": [],
   "source": [
    "config=\"/cellar/users/aklie/projects/EUGENE/eugene/config/base_config.yaml\""
   ]
  },
  {
   "cell_type": "code",
   "execution_count": 31,
   "id": "a502530b-348a-4877-a04f-f818ba03123e",
   "metadata": {
    "execution": {
     "iopub.execute_input": "2022-04-04T00:57:13.503243Z",
     "iopub.status.busy": "2022-04-04T00:57:13.503067Z",
     "iopub.status.idle": "2022-04-04T00:57:15.112456Z",
     "shell.execute_reply": "2022-04-04T00:57:15.111940Z",
     "shell.execute_reply.started": "2022-04-04T00:57:13.503225Z"
    },
    "tags": []
   },
   "outputs": [],
   "source": [
    "parser = LightningArgumentParser()"
   ]
  },
  {
   "cell_type": "code",
   "execution_count": null,
   "id": "0f6332cc-4a3b-4dfe-9c21-535685aa4256",
   "metadata": {},
   "outputs": [],
   "source": []
  },
  {
   "cell_type": "code",
   "execution_count": 42,
   "id": "6f32ccff-e18a-4109-a337-a9d6fa447ee1",
   "metadata": {
    "execution": {
     "iopub.execute_input": "2022-04-04T01:02:48.614377Z",
     "iopub.status.busy": "2022-04-04T01:02:48.614215Z",
     "iopub.status.idle": "2022-04-04T01:02:50.110491Z",
     "shell.execute_reply": "2022-04-04T01:02:50.110079Z",
     "shell.execute_reply.started": "2022-04-04T01:02:48.614360Z"
    }
   },
   "outputs": [
    {
     "data": {
      "text/plain": [
       "['trainer.logger',\n",
       " 'trainer.checkpoint_callback',\n",
       " 'trainer.enable_checkpointing',\n",
       " 'trainer.callbacks',\n",
       " 'trainer.default_root_dir',\n",
       " 'trainer.gradient_clip_val',\n",
       " 'trainer.gradient_clip_algorithm',\n",
       " 'trainer.process_position',\n",
       " 'trainer.num_nodes',\n",
       " 'trainer.num_processes',\n",
       " 'trainer.devices',\n",
       " 'trainer.gpus',\n",
       " 'trainer.auto_select_gpus',\n",
       " 'trainer.tpu_cores',\n",
       " 'trainer.ipus',\n",
       " 'trainer.log_gpu_memory',\n",
       " 'trainer.progress_bar_refresh_rate',\n",
       " 'trainer.enable_progress_bar',\n",
       " 'trainer.overfit_batches',\n",
       " 'trainer.track_grad_norm',\n",
       " 'trainer.check_val_every_n_epoch',\n",
       " 'trainer.fast_dev_run',\n",
       " 'trainer.accumulate_grad_batches',\n",
       " 'trainer.max_epochs',\n",
       " 'trainer.min_epochs',\n",
       " 'trainer.max_steps',\n",
       " 'trainer.min_steps',\n",
       " 'trainer.max_time',\n",
       " 'trainer.limit_train_batches',\n",
       " 'trainer.limit_val_batches',\n",
       " 'trainer.limit_test_batches',\n",
       " 'trainer.limit_predict_batches',\n",
       " 'trainer.val_check_interval',\n",
       " 'trainer.flush_logs_every_n_steps',\n",
       " 'trainer.log_every_n_steps',\n",
       " 'trainer.accelerator',\n",
       " 'trainer.strategy',\n",
       " 'trainer.sync_batchnorm',\n",
       " 'trainer.precision',\n",
       " 'trainer.enable_model_summary',\n",
       " 'trainer.weights_summary',\n",
       " 'trainer.weights_save_path',\n",
       " 'trainer.num_sanity_val_steps',\n",
       " 'trainer.resume_from_checkpoint',\n",
       " 'trainer.profiler',\n",
       " 'trainer.benchmark',\n",
       " 'trainer.deterministic',\n",
       " 'trainer.reload_dataloaders_every_n_epochs',\n",
       " 'trainer.reload_dataloaders_every_epoch',\n",
       " 'trainer.auto_lr_find',\n",
       " 'trainer.replace_sampler_ddp',\n",
       " 'trainer.detect_anomaly',\n",
       " 'trainer.auto_scale_batch_size',\n",
       " 'trainer.prepare_data_per_node',\n",
       " 'trainer.plugins',\n",
       " 'trainer.amp_backend',\n",
       " 'trainer.amp_level',\n",
       " 'trainer.move_metrics_to_cpu',\n",
       " 'trainer.multiple_trainloader_mode',\n",
       " 'trainer.stochastic_weight_avg',\n",
       " 'trainer.terminate_on_nan']"
      ]
     },
     "execution_count": 42,
     "metadata": {},
     "output_type": "execute_result"
    }
   ],
   "source": [
    "parser.add_lightning_class_args(Trainer, nested_key=\"trainer\")"
   ]
  },
  {
   "cell_type": "code",
   "execution_count": 39,
   "id": "4a7c0fc6-586a-49e2-a36e-d71cfc74bc5e",
   "metadata": {
    "execution": {
     "iopub.execute_input": "2022-04-04T01:01:14.146933Z",
     "iopub.status.busy": "2022-04-04T01:01:14.146661Z",
     "iopub.status.idle": "2022-04-04T01:01:15.948666Z",
     "shell.execute_reply": "2022-04-04T01:01:15.948272Z",
     "shell.execute_reply.started": "2022-04-04T01:01:14.146900Z"
    }
   },
   "outputs": [
    {
     "data": {
      "text/plain": [
       "['data.seq_file',\n",
       " 'data.batch_size',\n",
       " 'data.num_workers',\n",
       " 'data.transform',\n",
       " 'data.split',\n",
       " 'data.load_kwargs']"
      ]
     },
     "execution_count": 39,
     "metadata": {},
     "output_type": "execute_result"
    }
   ],
   "source": [
    "parser.add_lightning_class_args(MPRADataModule, nested_key=\"data\")"
   ]
  },
  {
   "cell_type": "code",
   "execution_count": 34,
   "id": "b0c13e91-944e-40ed-bc90-09b3c100ccbd",
   "metadata": {
    "execution": {
     "iopub.execute_input": "2022-04-04T00:59:31.041230Z",
     "iopub.status.busy": "2022-04-04T00:59:31.041087Z",
     "iopub.status.idle": "2022-04-04T00:59:32.573172Z",
     "shell.execute_reply": "2022-04-04T00:59:32.572778Z",
     "shell.execute_reply.started": "2022-04-04T00:59:31.041212Z"
    },
    "tags": []
   },
   "outputs": [
    {
     "data": {
      "text/plain": [
       "['model.conv_kwargs',\n",
       " 'model.rnn_kwargs',\n",
       " 'model.fc_kwargs',\n",
       " 'model.learning_rate']"
      ]
     },
     "execution_count": 34,
     "metadata": {},
     "output_type": "execute_result"
    }
   ],
   "source": [
    "parser.add_lightning_class_args(dsEUGENE, nested_key=\"model\")"
   ]
  },
  {
   "cell_type": "code",
   "execution_count": 79,
   "id": "b0ec3b28-d911-4b9c-b978-1b295355683b",
   "metadata": {
    "execution": {
     "iopub.execute_input": "2022-04-04T05:28:30.440079Z",
     "iopub.status.busy": "2022-04-04T05:28:30.439914Z",
     "iopub.status.idle": "2022-04-04T05:28:31.954016Z",
     "shell.execute_reply": "2022-04-04T05:28:31.953522Z",
     "shell.execute_reply.started": "2022-04-04T05:28:30.440061Z"
    }
   },
   "outputs": [],
   "source": [
    "from pytorch_lightning.loggers import TensorBoardLogger"
   ]
  },
  {
   "cell_type": "code",
   "execution_count": 80,
   "id": "6dda3239-99d6-4be4-9d65-5c8bf4aec8ca",
   "metadata": {
    "execution": {
     "iopub.execute_input": "2022-04-04T05:28:41.430768Z",
     "iopub.status.busy": "2022-04-04T05:28:41.430587Z",
     "iopub.status.idle": "2022-04-04T05:28:43.082009Z",
     "shell.execute_reply": "2022-04-04T05:28:43.081501Z",
     "shell.execute_reply.started": "2022-04-04T05:28:41.430750Z"
    }
   },
   "outputs": [],
   "source": [
    "logger = TensorBoardLogger(\"0.18-0.4_test\", name=\"dsEUGENE\")"
   ]
  },
  {
   "cell_type": "code",
   "execution_count": 84,
   "id": "9a83e3c5-6db1-4e59-8766-6e35043e95b0",
   "metadata": {
    "execution": {
     "iopub.execute_input": "2022-04-04T05:29:40.789148Z",
     "iopub.status.busy": "2022-04-04T05:29:40.788989Z",
     "iopub.status.idle": "2022-04-04T05:29:42.473600Z",
     "shell.execute_reply": "2022-04-04T05:29:42.473117Z",
     "shell.execute_reply.started": "2022-04-04T05:29:40.789130Z"
    }
   },
   "outputs": [],
   "source": [
    "import pytorch_lightning as pl"
   ]
  },
  {
   "cell_type": "code",
   "execution_count": 85,
   "id": "52b65440-5743-4c8b-a537-afe0935277ff",
   "metadata": {
    "execution": {
     "iopub.execute_input": "2022-04-04T05:29:42.474427Z",
     "iopub.status.busy": "2022-04-04T05:29:42.474304Z",
     "iopub.status.idle": "2022-04-04T05:29:44.094114Z",
     "shell.execute_reply": "2022-04-04T05:29:44.093803Z",
     "shell.execute_reply.started": "2022-04-04T05:29:42.474411Z"
    },
    "tags": []
   },
   "outputs": [
    {
     "name": "stderr",
     "output_type": "stream",
     "text": [
      "GPU available: True, used: True\n",
      "TPU available: False, using: 0 TPU cores\n",
      "IPU available: False, using: 0 IPUs\n"
     ]
    }
   ],
   "source": [
    "trainer = pl.Trainer(gpus=1, max_epochs=2, logger=logger)"
   ]
  },
  {
   "cell_type": "code",
   "execution_count": 89,
   "id": "935397a1-c7f9-4214-97f8-66dff18aee55",
   "metadata": {
    "execution": {
     "iopub.execute_input": "2022-04-04T05:30:16.430137Z",
     "iopub.status.busy": "2022-04-04T05:30:16.429968Z",
     "iopub.status.idle": "2022-04-04T05:30:18.166563Z",
     "shell.execute_reply": "2022-04-04T05:30:18.165940Z",
     "shell.execute_reply.started": "2022-04-04T05:30:16.430120Z"
    },
    "tags": []
   },
   "outputs": [
    {
     "ename": "ValueError",
     "evalue": "Group with name trainer already exists.",
     "output_type": "error",
     "traceback": [
      "\u001b[0;31m---------------------------------------------------------------------------\u001b[0m",
      "\u001b[0;31mValueError\u001b[0m                                Traceback (most recent call last)",
      "\u001b[0;32m<ipython-input-89-c57215c1ec78>\u001b[0m in \u001b[0;36m<module>\u001b[0;34m\u001b[0m\n\u001b[0;32m----> 1\u001b[0;31m \u001b[0mparser\u001b[0m\u001b[0;34m.\u001b[0m\u001b[0madd_lightning_class_args\u001b[0m\u001b[0;34m(\u001b[0m\u001b[0mpl\u001b[0m\u001b[0;34m.\u001b[0m\u001b[0mTrainer\u001b[0m\u001b[0;34m,\u001b[0m \u001b[0mnested_key\u001b[0m\u001b[0;34m=\u001b[0m\u001b[0;34m\"trainer\"\u001b[0m\u001b[0;34m)\u001b[0m\u001b[0;34m\u001b[0m\u001b[0;34m\u001b[0m\u001b[0m\n\u001b[0m",
      "\u001b[0;32m~/opt/miniconda3/envs/pytorch_dev/lib/python3.7/site-packages/pytorch_lightning/utilities/cli.py\u001b[0m in \u001b[0;36madd_lightning_class_args\u001b[0;34m(self, lightning_class, nested_key, subclass_mode, required)\u001b[0m\n\u001b[1;32m    160\u001b[0m                 \u001b[0mfail_untyped\u001b[0m\u001b[0;34m=\u001b[0m\u001b[0;32mFalse\u001b[0m\u001b[0;34m,\u001b[0m\u001b[0;34m\u001b[0m\u001b[0;34m\u001b[0m\u001b[0m\n\u001b[1;32m    161\u001b[0m                 \u001b[0minstantiate\u001b[0m\u001b[0;34m=\u001b[0m\u001b[0;32mnot\u001b[0m \u001b[0missubclass\u001b[0m\u001b[0;34m(\u001b[0m\u001b[0mlightning_class\u001b[0m\u001b[0;34m,\u001b[0m \u001b[0mTrainer\u001b[0m\u001b[0;34m)\u001b[0m\u001b[0;34m,\u001b[0m\u001b[0;34m\u001b[0m\u001b[0;34m\u001b[0m\u001b[0m\n\u001b[0;32m--> 162\u001b[0;31m                 \u001b[0msub_configs\u001b[0m\u001b[0;34m=\u001b[0m\u001b[0;32mTrue\u001b[0m\u001b[0;34m,\u001b[0m\u001b[0;34m\u001b[0m\u001b[0;34m\u001b[0m\u001b[0m\n\u001b[0m\u001b[1;32m    163\u001b[0m             )\n\u001b[1;32m    164\u001b[0m         raise MisconfigurationException(\n",
      "\u001b[0;32m~/opt/miniconda3/envs/pytorch_dev/lib/python3.7/site-packages/jsonargparse/signatures.py\u001b[0m in \u001b[0;36madd_class_arguments\u001b[0;34m(self, theclass, nested_key, as_group, as_positional, skip, instantiate, fail_untyped, sub_configs, linked_targets)\u001b[0m\n\u001b[1;32m     83\u001b[0m                                              \u001b[0minstantiate\u001b[0m\u001b[0;34m=\u001b[0m\u001b[0minstantiate\u001b[0m\u001b[0;34m,\u001b[0m\u001b[0;34m\u001b[0m\u001b[0;34m\u001b[0m\u001b[0m\n\u001b[1;32m     84\u001b[0m                                              \u001b[0mlinked_targets\u001b[0m\u001b[0;34m=\u001b[0m\u001b[0mlinked_targets\u001b[0m\u001b[0;34m,\u001b[0m\u001b[0;34m\u001b[0m\u001b[0;34m\u001b[0m\u001b[0m\n\u001b[0;32m---> 85\u001b[0;31m                                              skip_first=skip_first)\n\u001b[0m\u001b[1;32m     86\u001b[0m \u001b[0;34m\u001b[0m\u001b[0m\n\u001b[1;32m     87\u001b[0m \u001b[0;34m\u001b[0m\u001b[0m\n",
      "\u001b[0;32m~/opt/miniconda3/envs/pytorch_dev/lib/python3.7/site-packages/jsonargparse/signatures.py\u001b[0m in \u001b[0;36m_add_signature_arguments\u001b[0;34m(self, objects, nested_key, as_group, as_positional, skip, fail_untyped, sub_configs, docs_func, sign_func, skip_first, instantiate, linked_targets)\u001b[0m\n\u001b[1;32m    236\u001b[0m \u001b[0;34m\u001b[0m\u001b[0m\n\u001b[1;32m    237\u001b[0m         \u001b[0;31m## Create group if requested ##\u001b[0m\u001b[0;34m\u001b[0m\u001b[0;34m\u001b[0m\u001b[0;34m\u001b[0m\u001b[0m\n\u001b[0;32m--> 238\u001b[0;31m         \u001b[0mgroup\u001b[0m \u001b[0;34m=\u001b[0m \u001b[0mself\u001b[0m\u001b[0;34m.\u001b[0m\u001b[0m_create_group_if_requested\u001b[0m\u001b[0;34m(\u001b[0m\u001b[0mobjects\u001b[0m\u001b[0;34m[\u001b[0m\u001b[0;36m0\u001b[0m\u001b[0;34m]\u001b[0m\u001b[0;34m,\u001b[0m \u001b[0mnested_key\u001b[0m\u001b[0;34m,\u001b[0m \u001b[0mas_group\u001b[0m\u001b[0;34m,\u001b[0m \u001b[0mdoc_group\u001b[0m\u001b[0;34m,\u001b[0m \u001b[0minstantiate\u001b[0m\u001b[0;34m=\u001b[0m\u001b[0minstantiate\u001b[0m\u001b[0;34m)\u001b[0m\u001b[0;34m\u001b[0m\u001b[0;34m\u001b[0m\u001b[0m\n\u001b[0m\u001b[1;32m    239\u001b[0m \u001b[0;34m\u001b[0m\u001b[0m\n\u001b[1;32m    240\u001b[0m         \u001b[0;31m## Add objects arguments ##\u001b[0m\u001b[0;34m\u001b[0m\u001b[0;34m\u001b[0m\u001b[0;34m\u001b[0m\u001b[0m\n",
      "\u001b[0;32m~/opt/miniconda3/envs/pytorch_dev/lib/python3.7/site-packages/jsonargparse/signatures.py\u001b[0m in \u001b[0;36m_create_group_if_requested\u001b[0;34m(self, obj, nested_key, as_group, doc_group, config_load, config_load_type, required, instantiate)\u001b[0m\n\u001b[1;32m    535\u001b[0m                 \u001b[0mdoc_group\u001b[0m \u001b[0;34m=\u001b[0m \u001b[0mstr\u001b[0m\u001b[0;34m(\u001b[0m\u001b[0mobj\u001b[0m\u001b[0;34m)\u001b[0m\u001b[0;34m\u001b[0m\u001b[0;34m\u001b[0m\u001b[0m\n\u001b[1;32m    536\u001b[0m             \u001b[0mname\u001b[0m \u001b[0;34m=\u001b[0m \u001b[0mobj\u001b[0m\u001b[0;34m.\u001b[0m\u001b[0m__name__\u001b[0m \u001b[0;32mif\u001b[0m \u001b[0mnested_key\u001b[0m \u001b[0;32mis\u001b[0m \u001b[0;32mNone\u001b[0m \u001b[0;32melse\u001b[0m \u001b[0mnested_key\u001b[0m\u001b[0;34m\u001b[0m\u001b[0;34m\u001b[0m\u001b[0m\n\u001b[0;32m--> 537\u001b[0;31m             \u001b[0mgroup\u001b[0m \u001b[0;34m=\u001b[0m \u001b[0mself\u001b[0m\u001b[0;34m.\u001b[0m\u001b[0madd_argument_group\u001b[0m\u001b[0;34m(\u001b[0m\u001b[0mdoc_group\u001b[0m\u001b[0;34m,\u001b[0m \u001b[0mname\u001b[0m\u001b[0;34m=\u001b[0m\u001b[0mname\u001b[0m\u001b[0;34m)\u001b[0m\u001b[0;34m\u001b[0m\u001b[0;34m\u001b[0m\u001b[0m\n\u001b[0m\u001b[1;32m    538\u001b[0m             \u001b[0;32mif\u001b[0m \u001b[0mconfig_load\u001b[0m \u001b[0;32mand\u001b[0m \u001b[0mnested_key\u001b[0m \u001b[0;32mis\u001b[0m \u001b[0;32mnot\u001b[0m \u001b[0;32mNone\u001b[0m\u001b[0;34m:\u001b[0m\u001b[0;34m\u001b[0m\u001b[0;34m\u001b[0m\u001b[0m\n\u001b[1;32m    539\u001b[0m                 \u001b[0mgroup\u001b[0m\u001b[0;34m.\u001b[0m\u001b[0madd_argument\u001b[0m\u001b[0;34m(\u001b[0m\u001b[0;34m'--'\u001b[0m\u001b[0;34m+\u001b[0m\u001b[0mnested_key\u001b[0m\u001b[0;34m,\u001b[0m \u001b[0maction\u001b[0m\u001b[0;34m=\u001b[0m\u001b[0m_ActionConfigLoad\u001b[0m\u001b[0;34m(\u001b[0m\u001b[0mbasetype\u001b[0m\u001b[0;34m=\u001b[0m\u001b[0mconfig_load_type\u001b[0m\u001b[0;34m)\u001b[0m\u001b[0;34m)\u001b[0m\u001b[0;34m\u001b[0m\u001b[0;34m\u001b[0m\u001b[0m\n",
      "\u001b[0;32m~/opt/miniconda3/envs/pytorch_dev/lib/python3.7/site-packages/jsonargparse/core.py\u001b[0m in \u001b[0;36madd_argument_group\u001b[0;34m(self, name, *args, **kwargs)\u001b[0m\n\u001b[1;32m    128\u001b[0m         \u001b[0mparser\u001b[0m \u001b[0;34m=\u001b[0m \u001b[0mself\u001b[0m\u001b[0;34m.\u001b[0m\u001b[0mparser\u001b[0m \u001b[0;32mif\u001b[0m \u001b[0mhasattr\u001b[0m\u001b[0;34m(\u001b[0m\u001b[0mself\u001b[0m\u001b[0;34m,\u001b[0m \u001b[0;34m'parser'\u001b[0m\u001b[0;34m)\u001b[0m \u001b[0;32melse\u001b[0m \u001b[0mself\u001b[0m  \u001b[0;31m# type: ignore\u001b[0m\u001b[0;34m\u001b[0m\u001b[0;34m\u001b[0m\u001b[0m\n\u001b[1;32m    129\u001b[0m         \u001b[0;32mif\u001b[0m \u001b[0mname\u001b[0m \u001b[0;32mis\u001b[0m \u001b[0;32mnot\u001b[0m \u001b[0;32mNone\u001b[0m \u001b[0;32mand\u001b[0m \u001b[0mname\u001b[0m \u001b[0;32min\u001b[0m \u001b[0mparser\u001b[0m\u001b[0;34m.\u001b[0m\u001b[0mgroups\u001b[0m\u001b[0;34m:\u001b[0m\u001b[0;34m\u001b[0m\u001b[0;34m\u001b[0m\u001b[0m\n\u001b[0;32m--> 130\u001b[0;31m             \u001b[0;32mraise\u001b[0m \u001b[0mValueError\u001b[0m\u001b[0;34m(\u001b[0m\u001b[0;34mf'Group with name {name} already exists.'\u001b[0m\u001b[0;34m)\u001b[0m\u001b[0;34m\u001b[0m\u001b[0;34m\u001b[0m\u001b[0m\n\u001b[0m\u001b[1;32m    131\u001b[0m         \u001b[0mgroup\u001b[0m \u001b[0;34m=\u001b[0m \u001b[0m_ArgumentGroup\u001b[0m\u001b[0;34m(\u001b[0m\u001b[0mparser\u001b[0m\u001b[0;34m,\u001b[0m \u001b[0;34m*\u001b[0m\u001b[0margs\u001b[0m\u001b[0;34m,\u001b[0m \u001b[0;34m**\u001b[0m\u001b[0mkwargs\u001b[0m\u001b[0;34m)\u001b[0m\u001b[0;34m\u001b[0m\u001b[0;34m\u001b[0m\u001b[0m\n\u001b[1;32m    132\u001b[0m         \u001b[0mgroup\u001b[0m\u001b[0;34m.\u001b[0m\u001b[0mparser\u001b[0m \u001b[0;34m=\u001b[0m \u001b[0mparser\u001b[0m\u001b[0;34m\u001b[0m\u001b[0;34m\u001b[0m\u001b[0m\n",
      "\u001b[0;31mValueError\u001b[0m: Group with name trainer already exists."
     ]
    }
   ],
   "source": [
    "parser.add_lightning_class_args(pl.Trainer, nested_key=\"trainer\")"
   ]
  },
  {
   "cell_type": "code",
   "execution_count": 44,
   "id": "5c2c7c31-28bc-41d2-afe7-40599f23d9d4",
   "metadata": {
    "execution": {
     "iopub.execute_input": "2022-04-04T01:03:12.429423Z",
     "iopub.status.busy": "2022-04-04T01:03:12.429254Z",
     "iopub.status.idle": "2022-04-04T01:03:13.814001Z",
     "shell.execute_reply": "2022-04-04T01:03:13.813531Z",
     "shell.execute_reply.started": "2022-04-04T01:03:12.429405Z"
    },
    "tags": []
   },
   "outputs": [],
   "source": [
    "yml = parser.parse_path(cfg_path=config)"
   ]
  },
  {
   "cell_type": "code",
   "execution_count": 97,
   "id": "29f88522-809b-4ad9-996e-5eb9bbe8d45a",
   "metadata": {
    "execution": {
     "iopub.execute_input": "2022-04-04T05:46:12.685719Z",
     "iopub.status.busy": "2022-04-04T05:46:12.685548Z",
     "iopub.status.idle": "2022-04-04T05:46:14.078325Z",
     "shell.execute_reply": "2022-04-04T05:46:14.077878Z",
     "shell.execute_reply.started": "2022-04-04T05:46:12.685701Z"
    },
    "tags": []
   },
   "outputs": [],
   "source": [
    "test = MPRADataModule(**yml['data'])"
   ]
  },
  {
   "cell_type": "code",
   "execution_count": 98,
   "id": "52059941-a7fd-46df-a0fb-b490dbebfa6a",
   "metadata": {
    "execution": {
     "iopub.execute_input": "2022-04-04T05:46:15.429040Z",
     "iopub.status.busy": "2022-04-04T05:46:15.428880Z",
     "iopub.status.idle": "2022-04-04T05:46:16.870145Z",
     "shell.execute_reply": "2022-04-04T05:46:16.869688Z",
     "shell.execute_reply.started": "2022-04-04T05:46:15.429023Z"
    },
    "tags": []
   },
   "outputs": [
    {
     "data": {
      "text/plain": [
       "'/cellar/users/aklie/projects/EUGENE/data/2021_OLS_Library/2021_OLS_Library.tsv'"
      ]
     },
     "execution_count": 98,
     "metadata": {},
     "output_type": "execute_result"
    }
   ],
   "source": [
    "test.seq_file"
   ]
  },
  {
   "cell_type": "code",
   "execution_count": 95,
   "id": "b5bebc6f-240b-418b-b086-894b4afa8105",
   "metadata": {
    "execution": {
     "iopub.execute_input": "2022-04-04T05:45:32.429104Z",
     "iopub.status.busy": "2022-04-04T05:45:32.428954Z",
     "iopub.status.idle": "2022-04-04T05:45:34.245798Z",
     "shell.execute_reply": "2022-04-04T05:45:34.245334Z",
     "shell.execute_reply.started": "2022-04-04T05:45:32.429084Z"
    },
    "tags": []
   },
   "outputs": [
    {
     "data": {
      "text/plain": [
       "'/cellar/users/aklie/projects/EUGENE/data/2021_OLS_Library/2021_OLS_Library.tsv'"
      ]
     },
     "execution_count": 95,
     "metadata": {},
     "output_type": "execute_result"
    }
   ],
   "source": [
    "yml[\"data\"][\"seq_file\"]"
   ]
  },
  {
   "cell_type": "code",
   "execution_count": 91,
   "id": "84e5b7c9-50f6-4428-b933-d0ac773f8784",
   "metadata": {
    "execution": {
     "iopub.execute_input": "2022-04-04T05:31:03.094602Z",
     "iopub.status.busy": "2022-04-04T05:31:03.094365Z",
     "iopub.status.idle": "2022-04-04T05:31:04.878480Z",
     "shell.execute_reply": "2022-04-04T05:31:04.878030Z",
     "shell.execute_reply.started": "2022-04-04T05:31:03.094573Z"
    },
    "tags": []
   },
   "outputs": [
    {
     "data": {
      "text/plain": [
       "{'class_path': 'pytorch_lightning.loggers.TensorBoardLogger',\n",
       " 'init_args': {'save_dir': '/cellar/users/aklie/projects/EUGENE/results/eugene/0.18-0.4',\n",
       "  'name': 'dsEUGENE',\n",
       "  'version': None,\n",
       "  'log_graph': False,\n",
       "  'default_hp_metric': True,\n",
       "  'prefix': '',\n",
       "  'sub_dir': None}}"
      ]
     },
     "execution_count": 91,
     "metadata": {},
     "output_type": "execute_result"
    }
   ],
   "source": [
    "yml[\"trainer\"][\"logger\"]"
   ]
  },
  {
   "cell_type": "code",
   "execution_count": 78,
   "id": "e6f22031-ef30-4ceb-9b03-613438ab1736",
   "metadata": {
    "execution": {
     "iopub.execute_input": "2022-04-04T05:15:47.428953Z",
     "iopub.status.busy": "2022-04-04T05:15:47.428818Z",
     "iopub.status.idle": "2022-04-04T05:15:48.908035Z",
     "shell.execute_reply": "2022-04-04T05:15:48.907700Z",
     "shell.execute_reply.started": "2022-04-04T05:15:47.428937Z"
    }
   },
   "outputs": [
    {
     "data": {
      "text/plain": [
       "32"
      ]
     },
     "execution_count": 78,
     "metadata": {},
     "output_type": "execute_result"
    }
   ],
   "source": [
    "test.batch_size"
   ]
  },
  {
   "cell_type": "code",
   "execution_count": 92,
   "id": "fca826d0-32d0-411d-b35c-3f68fbb85c06",
   "metadata": {
    "execution": {
     "iopub.execute_input": "2022-04-04T05:38:03.627114Z",
     "iopub.status.busy": "2022-04-04T05:38:03.626635Z",
     "iopub.status.idle": "2022-04-04T05:38:04.929789Z",
     "shell.execute_reply": "2022-04-04T05:38:04.928921Z",
     "shell.execute_reply.started": "2022-04-04T05:38:03.627093Z"
    },
    "tags": []
   },
   "outputs": [],
   "source": [
    "num = 32\n",
    "num2 = 8"
   ]
  },
  {
   "cell_type": "code",
   "execution_count": 93,
   "id": "af45ace9-bdf1-4a89-831e-d8071d4adb37",
   "metadata": {
    "execution": {
     "iopub.execute_input": "2022-04-04T05:38:04.930889Z",
     "iopub.status.busy": "2022-04-04T05:38:04.930759Z",
     "iopub.status.idle": "2022-04-04T05:38:06.340117Z",
     "shell.execute_reply": "2022-04-04T05:38:06.339722Z",
     "shell.execute_reply.started": "2022-04-04T05:38:04.930872Z"
    },
    "tags": []
   },
   "outputs": [
    {
     "data": {
      "text/plain": [
       "[1, 8, 16, 24, 32]"
      ]
     },
     "execution_count": 93,
     "metadata": {},
     "output_type": "execute_result"
    }
   ],
   "source": [
    "[x*num2 if x != 0 else 1 for x in range(0, num//num2 + 1)]"
   ]
  },
  {
   "cell_type": "code",
   "execution_count": 49,
   "id": "61348e0a-68ac-4e6c-8f39-af93b506af6f",
   "metadata": {
    "execution": {
     "iopub.execute_input": "2022-04-04T04:46:48.512712Z",
     "iopub.status.busy": "2022-04-04T04:46:48.512474Z",
     "iopub.status.idle": "2022-04-04T04:46:50.252488Z",
     "shell.execute_reply": "2022-04-04T04:46:50.251999Z",
     "shell.execute_reply.started": "2022-04-04T04:46:48.512684Z"
    }
   },
   "outputs": [],
   "source": [
    "import numpy as np"
   ]
  },
  {
   "cell_type": "code",
   "execution_count": 60,
   "id": "a6af248a-2c61-44dd-bbe0-cb958e8aa382",
   "metadata": {
    "execution": {
     "iopub.execute_input": "2022-04-04T04:49:28.716711Z",
     "iopub.status.busy": "2022-04-04T04:49:28.716467Z",
     "iopub.status.idle": "2022-04-04T04:49:30.344095Z",
     "shell.execute_reply": "2022-04-04T04:49:30.343803Z",
     "shell.execute_reply.started": "2022-04-04T04:49:28.716681Z"
    },
    "tags": []
   },
   "outputs": [
    {
     "data": {
      "text/plain": [
       "[8, 16, 24, 32, 40, 48, 56, 64]"
      ]
     },
     "execution_count": 60,
     "metadata": {},
     "output_type": "execute_result"
    }
   ],
   "source": []
  },
  {
   "cell_type": "code",
   "execution_count": 55,
   "id": "0ffa0829-eb50-49e4-b967-485557dba70d",
   "metadata": {
    "execution": {
     "iopub.execute_input": "2022-04-04T04:47:23.680371Z",
     "iopub.status.busy": "2022-04-04T04:47:23.680228Z",
     "iopub.status.idle": "2022-04-04T04:47:25.266444Z",
     "shell.execute_reply": "2022-04-04T04:47:25.266075Z",
     "shell.execute_reply.started": "2022-04-04T04:47:23.680354Z"
    },
    "tags": []
   },
   "outputs": [
    {
     "data": {
      "text/plain": [
       "\u001b[0;31mDocstring:\u001b[0m\n",
       "arange([start,] stop[, step,], dtype=None, *, like=None)\n",
       "\n",
       "Return evenly spaced values within a given interval.\n",
       "\n",
       "Values are generated within the half-open interval ``[start, stop)``\n",
       "(in other words, the interval including `start` but excluding `stop`).\n",
       "For integer arguments the function is equivalent to the Python built-in\n",
       "`range` function, but returns an ndarray rather than a list.\n",
       "\n",
       "When using a non-integer step, such as 0.1, the results will often not\n",
       "be consistent.  It is better to use `numpy.linspace` for these cases.\n",
       "\n",
       "Parameters\n",
       "----------\n",
       "start : integer or real, optional\n",
       "    Start of interval.  The interval includes this value.  The default\n",
       "    start value is 0.\n",
       "stop : integer or real\n",
       "    End of interval.  The interval does not include this value, except\n",
       "    in some cases where `step` is not an integer and floating point\n",
       "    round-off affects the length of `out`.\n",
       "step : integer or real, optional\n",
       "    Spacing between values.  For any output `out`, this is the distance\n",
       "    between two adjacent values, ``out[i+1] - out[i]``.  The default\n",
       "    step size is 1.  If `step` is specified as a position argument,\n",
       "    `start` must also be given.\n",
       "dtype : dtype\n",
       "    The type of the output array.  If `dtype` is not given, infer the data\n",
       "    type from the other input arguments.\n",
       "like : array_like\n",
       "    Reference object to allow the creation of arrays which are not\n",
       "    NumPy arrays. If an array-like passed in as ``like`` supports\n",
       "    the ``__array_function__`` protocol, the result will be defined\n",
       "    by it. In this case, it ensures the creation of an array object\n",
       "    compatible with that passed in via this argument.\n",
       "\n",
       "    .. note::\n",
       "        The ``like`` keyword is an experimental feature pending on\n",
       "        acceptance of :ref:`NEP 35 <NEP35>`.\n",
       "\n",
       "    .. versionadded:: 1.20.0\n",
       "\n",
       "Returns\n",
       "-------\n",
       "arange : ndarray\n",
       "    Array of evenly spaced values.\n",
       "\n",
       "    For floating point arguments, the length of the result is\n",
       "    ``ceil((stop - start)/step)``.  Because of floating point overflow,\n",
       "    this rule may result in the last element of `out` being greater\n",
       "    than `stop`.\n",
       "\n",
       "See Also\n",
       "--------\n",
       "numpy.linspace : Evenly spaced numbers with careful handling of endpoints.\n",
       "numpy.ogrid: Arrays of evenly spaced numbers in N-dimensions.\n",
       "numpy.mgrid: Grid-shaped arrays of evenly spaced numbers in N-dimensions.\n",
       "\n",
       "Examples\n",
       "--------\n",
       ">>> np.arange(3)\n",
       "array([0, 1, 2])\n",
       ">>> np.arange(3.0)\n",
       "array([ 0.,  1.,  2.])\n",
       ">>> np.arange(3,7)\n",
       "array([3, 4, 5, 6])\n",
       ">>> np.arange(3,7,2)\n",
       "array([3, 5])\n",
       "\u001b[0;31mType:\u001b[0m      builtin_function_or_method\n"
      ]
     },
     "metadata": {},
     "output_type": "display_data"
    }
   ],
   "source": [
    "np.arange?"
   ]
  },
  {
   "cell_type": "markdown",
   "id": "1f652221",
   "metadata": {
    "tags": []
   },
   "source": [
    "# Load a model and some test data"
   ]
  },
  {
   "cell_type": "markdown",
   "id": "4fde85df",
   "metadata": {
    "tags": []
   },
   "source": [
    "## Load model"
   ]
  },
  {
   "cell_type": "code",
   "execution_count": 17,
   "id": "0113dc81",
   "metadata": {
    "execution": {
     "iopub.execute_input": "2022-03-21T01:09:02.595179Z",
     "iopub.status.busy": "2022-03-21T01:09:02.594983Z",
     "iopub.status.idle": "2022-03-21T01:09:03.308081Z",
     "shell.execute_reply": "2022-03-21T01:09:03.307755Z",
     "shell.execute_reply.started": "2022-03-21T01:09:02.595162Z"
    },
    "tags": []
   },
   "outputs": [],
   "source": [
    "from dsEUGENE import dsEUGENE\n",
    "\n",
    "cnn=dict(input_len=66, channels=[4, 16], conv_kernels=[15, 5], pool_kernels=[1, 1])\n",
    "rnn=dict(output_dim=32, batch_first=True)\n",
    "fc=dict(output_dim=1)\n",
    "eugene = dsEUGENE(conv_kwargs=cnn, rnn_kwargs=rnn, fc_kwargs=fc)\n",
    "\n",
    "x = torch.randn(10, 4, 66)\n",
    "out = eugene(x, x)\n",
    "out.shape"
   ]
  },
  {
   "cell_type": "markdown",
   "id": "fb33c5da",
   "metadata": {
    "tags": [],
    "toc-hr-collapsed": true
   },
   "source": [
    "## Load data"
   ]
  },
  {
   "cell_type": "code",
   "execution_count": 19,
   "id": "d76fb1cf",
   "metadata": {
    "execution": {
     "iopub.execute_input": "2022-03-19T23:31:40.911697Z",
     "iopub.status.busy": "2022-03-19T23:31:40.911588Z",
     "iopub.status.idle": "2022-03-19T23:31:41.888978Z",
     "shell.execute_reply": "2022-03-19T23:31:41.888490Z",
     "shell.execute_reply.started": "2022-03-19T23:31:40.911681Z"
    },
    "tags": []
   },
   "outputs": [],
   "source": [
    "from torch.utils.data import dataset\n",
    "from torch.utils.data import DataLoader\n",
    "\n",
    "training_dataset = dataset.TensorDataset(torch.validationn(1000, 4, 66), torch.bernoulli(torch.empty(1000).uniform_(0,1)))\n",
    "training_dataloader = DataLoader(training_dataset, batch_size=32, num_workers=4)\n",
    "\n",
    "for i_batch, batch in enumerate(training_dataloader):\n",
    "    x, y = batch\n",
    "    outs = eugene(x)\n",
    "    print(x.shape, y.shape, outs.shape)\n",
    "    if i_batch==3:\n",
    "        break"
   ]
  },
  {
   "cell_type": "markdown",
   "id": "3ac597cc",
   "metadata": {
    "tags": [],
    "toc-hr-collapsed": true
   },
   "source": [
    "# DataModule"
   ]
  },
  {
   "cell_type": "markdown",
   "id": "df4fd08d",
   "metadata": {
    "tags": [],
    "toc-hr-collapsed": true
   },
   "source": [
    "## Test random_split torch function"
   ]
  },
  {
   "cell_type": "code",
   "execution_count": 34,
   "id": "af9ae17f",
   "metadata": {
    "execution": {
     "iopub.execute_input": "2022-03-22T04:47:18.375672Z",
     "iopub.status.busy": "2022-03-22T04:47:18.375172Z",
     "iopub.status.idle": "2022-03-22T04:47:19.078820Z",
     "shell.execute_reply": "2022-03-22T04:47:19.078459Z",
     "shell.execute_reply.started": "2022-03-22T04:47:18.375640Z"
    },
    "tags": []
   },
   "outputs": [],
   "source": [
    "from torch.utils.data import random_split"
   ]
  },
  {
   "cell_type": "code",
   "execution_count": 38,
   "id": "ec1591f6",
   "metadata": {
    "execution": {
     "iopub.execute_input": "2022-03-22T04:48:58.374631Z",
     "iopub.status.busy": "2022-03-22T04:48:58.374445Z",
     "iopub.status.idle": "2022-03-22T04:48:59.203992Z",
     "shell.execute_reply": "2022-03-22T04:48:59.203516Z",
     "shell.execute_reply.started": "2022-03-22T04:48:58.374613Z"
    },
    "tags": []
   },
   "outputs": [],
   "source": [
    "dataset_len = len(training_dataset)\n",
    "train_len = int(dataset_len*0.9)\n",
    "val_len = dataset_len - train_len"
   ]
  },
  {
   "cell_type": "code",
   "execution_count": 40,
   "id": "b2bdd436",
   "metadata": {
    "execution": {
     "iopub.execute_input": "2022-03-22T04:49:17.390108Z",
     "iopub.status.busy": "2022-03-22T04:49:17.389558Z",
     "iopub.status.idle": "2022-03-22T04:49:18.302963Z",
     "shell.execute_reply": "2022-03-22T04:49:18.302377Z",
     "shell.execute_reply.started": "2022-03-22T04:49:17.390087Z"
    },
    "tags": []
   },
   "outputs": [],
   "source": [
    "train_dataset, val_dataset = random_split(training_dataset, [train_len, val_len])"
   ]
  },
  {
   "cell_type": "code",
   "execution_count": 42,
   "id": "4714dc3e",
   "metadata": {
    "execution": {
     "iopub.execute_input": "2022-03-22T04:49:27.689591Z",
     "iopub.status.busy": "2022-03-22T04:49:27.689169Z",
     "iopub.status.idle": "2022-03-22T04:49:28.511794Z",
     "shell.execute_reply": "2022-03-22T04:49:28.511381Z",
     "shell.execute_reply.started": "2022-03-22T04:49:27.689567Z"
    },
    "tags": []
   },
   "outputs": [
    {
     "data": {
      "text/plain": [
       "272642"
      ]
     },
     "execution_count": 42,
     "metadata": {},
     "output_type": "execute_result"
    }
   ],
   "source": [
    "len(train_dataset)"
   ]
  },
  {
   "cell_type": "markdown",
   "id": "ccbab790",
   "metadata": {
    "tags": []
   },
   "source": [
    "# Torchmetrics logging"
   ]
  },
  {
   "cell_type": "code",
   "execution_count": 21,
   "id": "33eaf9df",
   "metadata": {
    "execution": {
     "iopub.execute_input": "2022-03-22T00:39:08.582187Z",
     "iopub.status.busy": "2022-03-22T00:39:08.582003Z",
     "iopub.status.idle": "2022-03-22T00:39:09.902238Z",
     "shell.execute_reply": "2022-03-22T00:39:09.901791Z",
     "shell.execute_reply.started": "2022-03-22T00:39:08.582167Z"
    }
   },
   "outputs": [],
   "source": [
    "import torchmetrics"
   ]
  },
  {
   "cell_type": "code",
   "execution_count": 48,
   "id": "bfe980dc",
   "metadata": {
    "execution": {
     "iopub.execute_input": "2022-03-22T00:46:41.963892Z",
     "iopub.status.busy": "2022-03-22T00:46:41.963654Z",
     "iopub.status.idle": "2022-03-22T00:46:43.263630Z",
     "shell.execute_reply": "2022-03-22T00:46:43.263219Z",
     "shell.execute_reply.started": "2022-03-22T00:46:41.963873Z"
    },
    "tags": []
   },
   "outputs": [],
   "source": [
    "acc = torchmetrics.Accuracy()\n",
    "preds = torch.round(torch.sigmoid(outs))\n",
    "y.long().unsqueeze(dim=1)\n",
    "acc.update(preds, y.long().unsqueeze(dim=1))\n",
    "acc.compute()"
   ]
  },
  {
   "cell_type": "code",
   "execution_count": 91,
   "id": "c4c9cb2b",
   "metadata": {
    "execution": {
     "iopub.execute_input": "2022-03-22T02:02:32.649404Z",
     "iopub.status.busy": "2022-03-22T02:02:32.649231Z",
     "iopub.status.idle": "2022-03-22T02:02:34.054422Z",
     "shell.execute_reply": "2022-03-22T02:02:34.053962Z",
     "shell.execute_reply.started": "2022-03-22T02:02:32.649386Z"
    },
    "tags": []
   },
   "outputs": [],
   "source": [
    "auroc = torchmetrics.AUROC()\n",
    "auroc.update(torch.sigmoid(outs), y.long().unsqueeze(dim=1))\n",
    "auroc.compute()"
   ]
  },
  {
   "cell_type": "markdown",
   "id": "b69acfe4",
   "metadata": {},
   "source": [
    "# Optuna integration"
   ]
  },
  {
   "cell_type": "code",
   "execution_count": 2,
   "id": "bd2e449e",
   "metadata": {
    "execution": {
     "iopub.execute_input": "2022-03-23T05:31:52.022902Z",
     "iopub.status.busy": "2022-03-23T05:31:52.022789Z",
     "iopub.status.idle": "2022-03-23T05:32:04.784798Z",
     "shell.execute_reply": "2022-03-23T05:32:04.784315Z",
     "shell.execute_reply.started": "2022-03-23T05:31:52.022887Z"
    },
    "tags": []
   },
   "outputs": [],
   "source": [
    "from MPRADataModule import MPRADataModule"
   ]
  },
  {
   "cell_type": "markdown",
   "id": "b69184df",
   "metadata": {
    "tags": []
   },
   "source": [
    "## Load data"
   ]
  },
  {
   "cell_type": "code",
   "execution_count": 3,
   "id": "791b0c34",
   "metadata": {
    "execution": {
     "iopub.execute_input": "2022-03-23T05:32:04.786706Z",
     "iopub.status.busy": "2022-03-23T05:32:04.786602Z",
     "iopub.status.idle": "2022-03-23T05:32:05.688959Z",
     "shell.execute_reply": "2022-03-23T05:32:05.688538Z",
     "shell.execute_reply.started": "2022-03-23T05:32:04.786691Z"
    },
    "tags": []
   },
   "outputs": [],
   "source": [
    "from torchvision import transforms\n",
    "from transforms import ReverseComplement, Augment, OneHotEncode, ToTensor"
   ]
  },
  {
   "cell_type": "code",
   "execution_count": 4,
   "id": "eeb25a79",
   "metadata": {
    "execution": {
     "iopub.execute_input": "2022-03-23T05:32:10.619073Z",
     "iopub.status.busy": "2022-03-23T05:32:10.618939Z",
     "iopub.status.idle": "2022-03-23T05:32:11.578113Z",
     "shell.execute_reply": "2022-03-23T05:32:11.577672Z",
     "shell.execute_reply.started": "2022-03-23T05:32:10.619057Z"
    },
    "tags": []
   },
   "outputs": [],
   "source": [
    "data_transform = "
   ]
  },
  {
   "cell_type": "code",
   "execution_count": 6,
   "id": "82aafe6b",
   "metadata": {
    "execution": {
     "iopub.execute_input": "2022-03-23T05:32:24.725570Z",
     "iopub.status.busy": "2022-03-23T05:32:24.725381Z",
     "iopub.status.idle": "2022-03-23T05:32:25.617160Z",
     "shell.execute_reply": "2022-03-23T05:32:25.616693Z",
     "shell.execute_reply.started": "2022-03-23T05:32:24.725552Z"
    },
    "tags": []
   },
   "outputs": [
    {
     "name": "stdout",
     "output_type": "stream",
     "text": [
      "Compose(\n",
      "    <transforms.Augment object at 0x155550d4f610>\n",
      "    <transforms.ReverseComplement object at 0x155550d4f910>\n",
      "    <transforms.OneHotEncode object at 0x155550d4f310>\n",
      "    <transforms.ToTensor object at 0x155550d4ff50>\n",
      ")\n"
     ]
    }
   ],
   "source": [
    "OLS_TSV = \"/cellar/users/aklie/projects/EUGENE/data/2021_OLS_Library/2021_OLS_Library.tsv\"\n",
    "mod = MPRADataModule(seq_file=OLS_TSV,\n",
    "                     transform=data_transform,\n",
    "                     num_workers=4,\n",
    "                     batch_size=128,\n",
    "                     load_kwargs=dict(target_col=\"ACTIVITY_SUMRNA_NUMDNA\", low_thresh=0.18, high_thresh=0.4))"
   ]
  },
  {
   "cell_type": "code",
   "execution_count": 10,
   "id": "33ef4577",
   "metadata": {
    "execution": {
     "iopub.execute_input": "2022-03-23T05:33:23.127032Z",
     "iopub.status.busy": "2022-03-23T05:33:23.126879Z",
     "iopub.status.idle": "2022-03-23T05:33:25.401248Z",
     "shell.execute_reply": "2022-03-23T05:33:25.400921Z",
     "shell.execute_reply.started": "2022-03-23T05:33:23.127016Z"
    },
    "tags": []
   },
   "outputs": [
    {
     "name": "stderr",
     "output_type": "stream",
     "text": [
      "/cellar/users/aklie/opt/miniconda3/envs/pytorch_dev/lib/python3.7/site-packages/pytorch_lightning/core/datamodule.py:474: DtypeWarning: Columns (3) have mixed types.Specify dtype option on import or set low_memory=False.\n",
      "  fn(*args, **kwargs)\n"
     ]
    },
    {
     "name": "stdout",
     "output_type": "stream",
     "text": [
      "Compose(\n",
      "    <transforms.Augment object at 0x155550d4f610>\n",
      "    <transforms.ReverseComplement object at 0x155550d4f910>\n",
      "    <transforms.OneHotEncode object at 0x155550d4f310>\n",
      "    <transforms.ToTensor object at 0x155550d4ff50>\n",
      ")\n"
     ]
    }
   ],
   "source": [
    "mod.setup()"
   ]
  },
  {
   "cell_type": "code",
   "execution_count": 14,
   "id": "504decb1",
   "metadata": {
    "execution": {
     "iopub.execute_input": "2022-03-23T05:33:56.139008Z",
     "iopub.status.busy": "2022-03-23T05:33:56.138791Z",
     "iopub.status.idle": "2022-03-23T05:33:57.116070Z",
     "shell.execute_reply": "2022-03-23T05:33:57.115764Z",
     "shell.execute_reply.started": "2022-03-23T05:33:56.138979Z"
    },
    "tags": []
   },
   "outputs": [
    {
     "data": {
      "text/plain": [
       "torch.Size([4, 66])"
      ]
     },
     "execution_count": 14,
     "metadata": {},
     "output_type": "execute_result"
    }
   ],
   "source": [
    "mod.train_dataloader().dataset[0][\"sequence\"].shape"
   ]
  },
  {
   "cell_type": "markdown",
   "id": "0f53132f",
   "metadata": {},
   "source": [
    "## Test objective"
   ]
  },
  {
   "cell_type": "code",
   "execution_count": 13,
   "id": "3eb92a22",
   "metadata": {
    "execution": {
     "iopub.execute_input": "2022-03-22T22:33:37.573973Z",
     "iopub.status.busy": "2022-03-22T22:33:37.573817Z",
     "iopub.status.idle": "2022-03-22T22:33:39.462594Z",
     "shell.execute_reply": "2022-03-22T22:33:39.462114Z",
     "shell.execute_reply.started": "2022-03-22T22:33:37.573955Z"
    },
    "tags": []
   },
   "outputs": [],
   "source": [
    "from dsEUGENE import objective"
   ]
  },
  {
   "cell_type": "code",
   "execution_count": 14,
   "id": "58c911ae",
   "metadata": {
    "execution": {
     "iopub.execute_input": "2022-03-22T22:33:39.463742Z",
     "iopub.status.busy": "2022-03-22T22:33:39.463427Z",
     "iopub.status.idle": "2022-03-22T22:33:41.194339Z",
     "shell.execute_reply": "2022-03-22T22:33:41.193861Z",
     "shell.execute_reply.started": "2022-03-22T22:33:39.463722Z"
    },
    "tags": []
   },
   "outputs": [],
   "source": [
    "import optuna"
   ]
  },
  {
   "cell_type": "code",
   "execution_count": 15,
   "id": "9b3a7d85",
   "metadata": {
    "execution": {
     "iopub.execute_input": "2022-03-22T22:33:41.195240Z",
     "iopub.status.busy": "2022-03-22T22:33:41.194971Z",
     "iopub.status.idle": "2022-03-22T22:33:42.997055Z",
     "shell.execute_reply": "2022-03-22T22:33:42.996579Z",
     "shell.execute_reply.started": "2022-03-22T22:33:41.195222Z"
    },
    "tags": []
   },
   "outputs": [],
   "source": [
    "trial = optuna.trial.FixedTrial({\"fcn_n_layers\": 1, \"fcn_dropout\":0.2, \"fcn_n_units_l0\":4})"
   ]
  },
  {
   "cell_type": "code",
   "execution_count": 22,
   "id": "572155d1",
   "metadata": {
    "execution": {
     "iopub.execute_input": "2022-03-22T22:49:59.745299Z",
     "iopub.status.busy": "2022-03-22T22:49:59.745100Z",
     "iopub.status.idle": "2022-03-22T22:50:42.112478Z",
     "shell.execute_reply": "2022-03-22T22:50:42.112168Z",
     "shell.execute_reply.started": "2022-03-22T22:49:59.745281Z"
    },
    "tags": []
   },
   "outputs": [
    {
     "name": "stderr",
     "output_type": "stream",
     "text": [
      "GPU available: True, used: True\n",
      "TPU available: False, using: 0 TPU cores\n",
      "LOCAL_RANK: 0 - CUDA_VISIBLE_DEVICES: [0]\n",
      "Set SLURM handle signals.\n",
      "\n",
      "  | Name         | Type                 | Params\n",
      "------------------------------------------------------\n",
      "0 | convnet      | BasicConv1D          | 976   \n",
      "1 | recurrentnet | BasicRecurrent       | 8 K   \n",
      "2 | fcnet        | FullyConnectedModule | 137   \n",
      "3 | accuracy     | Accuracy             | 0     \n",
      "4 | auroc        | AUROC                | 0     \n"
     ]
    },
    {
     "data": {
      "application/vnd.jupyter.widget-view+json": {
       "model_id": "",
       "version_major": 2,
       "version_minor": 0
      },
      "text/plain": [
       "Validation sanity check: 0it [00:00, ?it/s]"
      ]
     },
     "metadata": {},
     "output_type": "display_data"
    },
    {
     "data": {
      "application/vnd.jupyter.widget-view+json": {
       "model_id": "ba559957db864d89895d9f0a9af81d53",
       "version_major": 2,
       "version_minor": 0
      },
      "text/plain": [
       "Training: 0it [00:00, ?it/s]"
      ]
     },
     "metadata": {},
     "output_type": "display_data"
    },
    {
     "data": {
      "application/vnd.jupyter.widget-view+json": {
       "model_id": "",
       "version_major": 2,
       "version_minor": 0
      },
      "text/plain": [
       "Validating: 0it [00:00, ?it/s]"
      ]
     },
     "metadata": {},
     "output_type": "display_data"
    },
    {
     "data": {
      "application/vnd.jupyter.widget-view+json": {
       "model_id": "",
       "version_major": 2,
       "version_minor": 0
      },
      "text/plain": [
       "Validating: 0it [00:00, ?it/s]"
      ]
     },
     "metadata": {},
     "output_type": "display_data"
    },
    {
     "data": {
      "text/plain": [
       "0.7410488128662109"
      ]
     },
     "execution_count": 22,
     "metadata": {},
     "output_type": "execute_result"
    }
   ],
   "source": [
    "objective(trial, mod, max_epochs=2)"
   ]
  },
  {
   "cell_type": "code",
   "execution_count": 23,
   "id": "a40b93cf",
   "metadata": {
    "execution": {
     "iopub.execute_input": "2022-03-22T23:37:21.619231Z",
     "iopub.status.busy": "2022-03-22T23:37:21.619037Z",
     "iopub.status.idle": "2022-03-22T23:37:24.506581Z",
     "shell.execute_reply": "2022-03-22T23:37:24.506295Z",
     "shell.execute_reply.started": "2022-03-22T23:37:21.619213Z"
    }
   },
   "outputs": [
    {
     "data": {
      "text/plain": [
       "0"
      ]
     },
     "execution_count": 23,
     "metadata": {},
     "output_type": "execute_result"
    }
   ],
   "source": [
    "trial.number"
   ]
  },
  {
   "cell_type": "code",
   "execution_count": 8,
   "id": "806b5d5f",
   "metadata": {
    "execution": {
     "iopub.execute_input": "2022-03-22T02:31:51.553922Z",
     "iopub.status.busy": "2022-03-22T02:31:51.553354Z",
     "iopub.status.idle": "2022-03-22T02:31:52.682798Z",
     "shell.execute_reply": "2022-03-22T02:31:52.682502Z",
     "shell.execute_reply.started": "2022-03-22T02:31:51.553901Z"
    }
   },
   "outputs": [
    {
     "name": "stderr",
     "output_type": "stream",
     "text": [
      "\u001b[32m[I 2022-03-21 19:31:52,680]\u001b[0m A new study created in memory with name: no-name-33c62b8b-30b6-4731-afa9-5017148cd173\u001b[0m\n"
     ]
    }
   ],
   "source": [
    "study = optuna.create_study(direction=\"maximize\")"
   ]
  },
  {
   "cell_type": "code",
   "execution_count": 16,
   "id": "536a0993",
   "metadata": {
    "execution": {
     "iopub.execute_input": "2022-03-22T02:33:38.908645Z",
     "iopub.status.busy": "2022-03-22T02:33:38.908494Z",
     "iopub.status.idle": "2022-03-22T02:33:40.371874Z",
     "shell.execute_reply": "2022-03-22T02:33:40.371418Z",
     "shell.execute_reply.started": "2022-03-22T02:33:38.908627Z"
    }
   },
   "outputs": [],
   "source": [
    "from optuna.distributions import UniformDistribution"
   ]
  },
  {
   "cell_type": "code",
   "execution_count": 17,
   "id": "765d8687",
   "metadata": {
    "execution": {
     "iopub.execute_input": "2022-03-22T02:33:40.372934Z",
     "iopub.status.busy": "2022-03-22T02:33:40.372716Z",
     "iopub.status.idle": "2022-03-22T02:33:41.666001Z",
     "shell.execute_reply": "2022-03-22T02:33:41.665516Z",
     "shell.execute_reply.started": "2022-03-22T02:33:40.372916Z"
    },
    "tags": []
   },
   "outputs": [
    {
     "name": "stderr",
     "output_type": "stream",
     "text": [
      "/cellar/users/aklie/opt/miniconda3/envs/seq_tools_dev/lib/python3.7/site-packages/ipykernel_launcher.py:4: ExperimentalWarning: create_trial is experimental (supported from v2.0.0). The interface can change in the future.\n",
      "  after removing the cwd from sys.path.\n"
     ]
    }
   ],
   "source": [
    "trial = optuna.trial.create_trial(\n",
    "    params={\"x\": 2.0},\n",
    "    distributions={\"x\": UniformDistribution(0, 10)},\n",
    "    value=4.0,\n",
    ")"
   ]
  },
  {
   "cell_type": "code",
   "execution_count": 18,
   "id": "8bcd3a20",
   "metadata": {
    "execution": {
     "iopub.execute_input": "2022-03-22T02:33:43.375842Z",
     "iopub.status.busy": "2022-03-22T02:33:43.375713Z",
     "iopub.status.idle": "2022-03-22T02:33:44.551846Z",
     "shell.execute_reply": "2022-03-22T02:33:44.551386Z",
     "shell.execute_reply.started": "2022-03-22T02:33:43.375826Z"
    },
    "tags": []
   },
   "outputs": [
    {
     "name": "stderr",
     "output_type": "stream",
     "text": [
      "/cellar/users/aklie/opt/miniconda3/envs/seq_tools_dev/lib/python3.7/site-packages/ipykernel_launcher.py:1: ExperimentalWarning: add_trial is experimental (supported from v2.0.0). The interface can change in the future.\n",
      "  \"\"\"Entry point for launching an IPython kernel.\n"
     ]
    }
   ],
   "source": [
    "study.add_trial(trial)"
   ]
  },
  {
   "cell_type": "code",
   "execution_count": 19,
   "id": "f50a14a0",
   "metadata": {
    "execution": {
     "iopub.execute_input": "2022-03-22T02:33:51.519927Z",
     "iopub.status.busy": "2022-03-22T02:33:51.519795Z",
     "iopub.status.idle": "2022-03-22T02:33:52.650933Z",
     "shell.execute_reply": "2022-03-22T02:33:52.650418Z",
     "shell.execute_reply.started": "2022-03-22T02:33:51.519910Z"
    },
    "tags": []
   },
   "outputs": [
    {
     "ename": "ValueError",
     "evalue": "The value of the parameter 'fcn_n_layers' is not found. Please set it at the construction of the FrozenTrial object.",
     "output_type": "error",
     "traceback": [
      "\u001b[0;31m---------------------------------------------------------------------------\u001b[0m",
      "\u001b[0;31mValueError\u001b[0m                                Traceback (most recent call last)",
      "\u001b[0;32m/tmp/ipykernel_2112816/4236407174.py\u001b[0m in \u001b[0;36m<module>\u001b[0;34m\u001b[0m\n\u001b[0;32m----> 1\u001b[0;31m \u001b[0mobjective\u001b[0m\u001b[0;34m(\u001b[0m\u001b[0mtrial\u001b[0m\u001b[0;34m)\u001b[0m\u001b[0;34m\u001b[0m\u001b[0;34m\u001b[0m\u001b[0m\n\u001b[0m",
      "\u001b[0;32m/mnt/beegfs/shared/carterlab/CLAIM/simple_seq_classification/scripts/dsEUGENE.py\u001b[0m in \u001b[0;36mobjective\u001b[0;34m(trial)\u001b[0m\n\u001b[1;32m     80\u001b[0m \u001b[0;34m\u001b[0m\u001b[0m\n\u001b[1;32m     81\u001b[0m \u001b[0;32mdef\u001b[0m \u001b[0mobjective\u001b[0m\u001b[0;34m(\u001b[0m\u001b[0mtrial\u001b[0m\u001b[0;34m:\u001b[0m \u001b[0moptuna\u001b[0m\u001b[0;34m.\u001b[0m\u001b[0mtrial\u001b[0m\u001b[0;34m.\u001b[0m\u001b[0mTrial\u001b[0m\u001b[0;34m)\u001b[0m\u001b[0;34m:\u001b[0m\u001b[0;34m\u001b[0m\u001b[0;34m\u001b[0m\u001b[0m\n\u001b[0;32m---> 82\u001b[0;31m     \u001b[0mfcn_layers\u001b[0m \u001b[0;34m=\u001b[0m \u001b[0mtrial\u001b[0m\u001b[0;34m.\u001b[0m\u001b[0msuggest_int\u001b[0m\u001b[0;34m(\u001b[0m\u001b[0;34m\"fcn_n_layers\"\u001b[0m\u001b[0;34m,\u001b[0m \u001b[0;36m1\u001b[0m\u001b[0;34m,\u001b[0m \u001b[0;36m3\u001b[0m\u001b[0;34m)\u001b[0m\u001b[0;34m\u001b[0m\u001b[0;34m\u001b[0m\u001b[0m\n\u001b[0m\u001b[1;32m     83\u001b[0m     \u001b[0mfcn_dropout\u001b[0m \u001b[0;34m=\u001b[0m \u001b[0mtrial\u001b[0m\u001b[0;34m.\u001b[0m\u001b[0msuggest_float\u001b[0m\u001b[0;34m(\u001b[0m\u001b[0;34m\"fcn_dropout\"\u001b[0m\u001b[0;34m,\u001b[0m \u001b[0;36m0.2\u001b[0m\u001b[0;34m,\u001b[0m \u001b[0;36m0.5\u001b[0m\u001b[0;34m)\u001b[0m\u001b[0;34m\u001b[0m\u001b[0;34m\u001b[0m\u001b[0m\n\u001b[1;32m     84\u001b[0m     fcn_output_dims = [\n",
      "\u001b[0;32m~/opt/miniconda3/envs/seq_tools_dev/lib/python3.7/site-packages/optuna/trial/_frozen.py\u001b[0m in \u001b[0;36msuggest_int\u001b[0;34m(self, name, low, high, step, log)\u001b[0m\n\u001b[1;32m    264\u001b[0m             \u001b[0;32melse\u001b[0m\u001b[0;34m:\u001b[0m\u001b[0;34m\u001b[0m\u001b[0;34m\u001b[0m\u001b[0m\n\u001b[1;32m    265\u001b[0m                 \u001b[0mdistribution\u001b[0m \u001b[0;34m=\u001b[0m \u001b[0mIntUniformDistribution\u001b[0m\u001b[0;34m(\u001b[0m\u001b[0mlow\u001b[0m\u001b[0;34m=\u001b[0m\u001b[0mlow\u001b[0m\u001b[0;34m,\u001b[0m \u001b[0mhigh\u001b[0m\u001b[0;34m=\u001b[0m\u001b[0mhigh\u001b[0m\u001b[0;34m,\u001b[0m \u001b[0mstep\u001b[0m\u001b[0;34m=\u001b[0m\u001b[0mstep\u001b[0m\u001b[0;34m)\u001b[0m\u001b[0;34m\u001b[0m\u001b[0;34m\u001b[0m\u001b[0m\n\u001b[0;32m--> 266\u001b[0;31m         \u001b[0;32mreturn\u001b[0m \u001b[0mint\u001b[0m\u001b[0;34m(\u001b[0m\u001b[0mself\u001b[0m\u001b[0;34m.\u001b[0m\u001b[0m_suggest\u001b[0m\u001b[0;34m(\u001b[0m\u001b[0mname\u001b[0m\u001b[0;34m,\u001b[0m \u001b[0mdistribution\u001b[0m\u001b[0;34m)\u001b[0m\u001b[0;34m)\u001b[0m\u001b[0;34m\u001b[0m\u001b[0;34m\u001b[0m\u001b[0m\n\u001b[0m\u001b[1;32m    267\u001b[0m \u001b[0;34m\u001b[0m\u001b[0m\n\u001b[1;32m    268\u001b[0m     def suggest_categorical(\n",
      "\u001b[0;32m~/opt/miniconda3/envs/seq_tools_dev/lib/python3.7/site-packages/optuna/trial/_frozen.py\u001b[0m in \u001b[0;36m_suggest\u001b[0;34m(self, name, distribution)\u001b[0m\n\u001b[1;32m    356\u001b[0m             raise ValueError(\n\u001b[1;32m    357\u001b[0m                 \u001b[0;34m\"The value of the parameter '{}' is not found. Please set it at \"\u001b[0m\u001b[0;34m\u001b[0m\u001b[0;34m\u001b[0m\u001b[0m\n\u001b[0;32m--> 358\u001b[0;31m                 \u001b[0;34m\"the construction of the FrozenTrial object.\"\u001b[0m\u001b[0;34m.\u001b[0m\u001b[0mformat\u001b[0m\u001b[0;34m(\u001b[0m\u001b[0mname\u001b[0m\u001b[0;34m)\u001b[0m\u001b[0;34m\u001b[0m\u001b[0;34m\u001b[0m\u001b[0m\n\u001b[0m\u001b[1;32m    359\u001b[0m             )\n\u001b[1;32m    360\u001b[0m \u001b[0;34m\u001b[0m\u001b[0m\n",
      "\u001b[0;31mValueError\u001b[0m: The value of the parameter 'fcn_n_layers' is not found. Please set it at the construction of the FrozenTrial object."
     ]
    }
   ],
   "source": [
    "objective(trial)"
   ]
  }
 ],
 "metadata": {
  "kernelspec": {
   "display_name": "Python 3 pytorch_dev",
   "language": "python",
   "name": "pytorch_dev"
  },
  "language_info": {
   "codemirror_mode": {
    "name": "ipython",
    "version": 3
   },
   "file_extension": ".py",
   "mimetype": "text/x-python",
   "name": "python",
   "nbconvert_exporter": "python",
   "pygments_lexer": "ipython3",
   "version": "3.7.12"
  }
 },
 "nbformat": 4,
 "nbformat_minor": 5
}

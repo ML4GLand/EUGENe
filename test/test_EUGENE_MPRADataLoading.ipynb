{
 "cells": [
  {
   "cell_type": "markdown",
   "id": "c3daa03e",
   "metadata": {},
   "source": [
    "# Testing MPRA Dataloading"
   ]
  },
  {
   "cell_type": "markdown",
   "id": "91689580",
   "metadata": {
    "tags": []
   },
   "source": [
    "**Authorship:**\n",
    "Adam Klie, *03/02/2022*\n",
    "***\n",
    "**Description:**\n",
    "Notebook for testing out PyTorch DataLoading for MPRADataSet and MPRADataModule classes"
   ]
  },
  {
   "cell_type": "markdown",
   "id": "31b7058a",
   "metadata": {},
   "source": [
    "<div class=\"alert alert-block alert-warning\">\n",
    "<b>TODOs</b>:\n",
    "<ul>\n",
    "    <b><li>Add test cases for each step</li></b>\n",
    "    <b><li>Feel like initial loading will break given certain data</li></b>\n",
    "    </ul>\n",
    "</div>"
   ]
  },
  {
   "cell_type": "code",
   "execution_count": 1,
   "id": "92833b89",
   "metadata": {
    "execution": {
     "iopub.execute_input": "2022-04-03T21:03:09.030875Z",
     "iopub.status.busy": "2022-04-03T21:03:09.030707Z",
     "iopub.status.idle": "2022-04-03T21:03:10.012645Z",
     "shell.execute_reply": "2022-04-03T21:03:10.012291Z",
     "shell.execute_reply.started": "2022-04-03T21:03:09.030858Z"
    },
    "tags": []
   },
   "outputs": [],
   "source": [
    "import numpy as np\n",
    "import pandas as pd\n",
    "\n",
    "# Autoreload extension\n",
    "if 'autoreload' not in get_ipython().extension_manager.loaded:\n",
    "    %load_ext autoreload\n",
    "%autoreload 2\n",
    "\n",
    "# Add the scripts from this project\n",
    "import sys\n",
    "sys.path.append(\"../eugene\")\n",
    "\n",
    "# Dataloading packages\n",
    "from torch.utils.data import Dataset, DataLoader\n",
    "from torchvision import transforms\n",
    "from transforms import ReverseComplement, Augment, OneHotEncode, ToTensor\n",
    "\n",
    "# Logging info\n",
    "import logging\n",
    "logging.basicConfig(level=logging.DEBUG)"
   ]
  },
  {
   "cell_type": "code",
   "execution_count": 3,
   "id": "43f33d13",
   "metadata": {
    "execution": {
     "iopub.execute_input": "2022-04-03T21:03:11.330051Z",
     "iopub.status.busy": "2022-04-03T21:03:11.329809Z",
     "iopub.status.idle": "2022-04-03T21:03:12.217860Z",
     "shell.execute_reply": "2022-04-03T21:03:12.217490Z",
     "shell.execute_reply.started": "2022-04-03T21:03:11.330033Z"
    },
    "tags": []
   },
   "outputs": [],
   "source": [
    "# Define directories\n",
    "OLS_TSV = \"/cellar/users/aklie/projects/EUGENE/data/2021_OLS_Library/2021_OLS_Library.tsv\"\n",
    "NUMPY_OHE = \"/cellar/users/aklie/projects/EUGENE/data/2021_OLS_Library/ohe_seq/0.09-0.4_X-train-0.9_ohe-seq.npy\"\n",
    "FASTA_SEQS = \"/cellar/users/aklie/projects/EUGENE/data/2021_OLS_Library/fasta/0.09-0.4_X-test-0.1_fasta.fa\"\n",
    "BINARY_TARGET = \"/cellar/users/aklie/projects/EUGENE/data/2021_OLS_Library/binary/0.09-0.4_y-train-0.9_binary.txt\""
   ]
  },
  {
   "cell_type": "markdown",
   "id": "7ff23967",
   "metadata": {
    "tags": []
   },
   "source": [
    "# MPRADataset Class\n",
    "PyTorch Dataset class for loading MPRA data. Here tare the steps for loading:\n",
    " 1. Load the dataset from files of different supported types using functions from `load_data.py`\n",
    " 2. Generate an MPRADataset object from sequences and targets\n",
    "     - Pass in the seqs and targets\n",
    "     - Compose torchvision transforms\n",
    " 3. Pass the dataset to DataLoader"
   ]
  },
  {
   "cell_type": "code",
   "execution_count": 25,
   "id": "1b6e97ef",
   "metadata": {
    "execution": {
     "iopub.execute_input": "2022-04-03T21:03:13.329755Z",
     "iopub.status.busy": "2022-04-03T21:03:13.329518Z",
     "iopub.status.idle": "2022-04-03T21:03:14.462455Z",
     "shell.execute_reply": "2022-04-03T21:03:14.462101Z",
     "shell.execute_reply.started": "2022-04-03T21:03:13.329737Z"
    },
    "tags": []
   },
   "outputs": [
    {
     "name": "stdout",
     "output_type": "stream",
     "text": [
      "\u001b[0;31mInit signature:\u001b[0m \u001b[0mMPRADataset\u001b[0m\u001b[0;34m(\u001b[0m\u001b[0;34m*\u001b[0m\u001b[0margs\u001b[0m\u001b[0;34m,\u001b[0m \u001b[0;34m**\u001b[0m\u001b[0mkwds\u001b[0m\u001b[0;34m)\u001b[0m\u001b[0;34m\u001b[0m\u001b[0;34m\u001b[0m\u001b[0m\n",
      "\u001b[0;31mDocstring:\u001b[0m      MPRA Dataset definition\n",
      "\u001b[0;31mInit docstring:\u001b[0m\n",
      "Args:\n",
      "    names (iterable):\n",
      "    seqs (iterable): list of sequences to serve as input into models\n",
      "    targets (iterable): aligned list of targets for each sequence\n",
      "    rev_seqs (iterable, optional): Optional reverse complements of seqs\n",
      "    transform (callable, optional): Optional transform to be applied\n",
      "        on a sample.\n",
      "\u001b[0;31mFile:\u001b[0m           ~/Desktop/research/lab/dev/EUGENE/eugene/MPRADataset.py\n",
      "\u001b[0;31mType:\u001b[0m           type\n",
      "\u001b[0;31mSubclasses:\u001b[0m     \n"
     ]
    }
   ],
   "source": [
    "from MPRADataset import MPRADataset\n",
    "MPRADataset?"
   ]
  },
  {
   "cell_type": "markdown",
   "id": "801213b2",
   "metadata": {
    "tags": []
   },
   "source": [
    "## Load from TSV"
   ]
  },
  {
   "cell_type": "code",
   "execution_count": 2,
   "id": "8eb6c198",
   "metadata": {
    "execution": {
     "iopub.execute_input": "2022-04-03T21:03:15.951561Z",
     "iopub.status.busy": "2022-04-03T21:03:15.950592Z",
     "iopub.status.idle": "2022-04-03T21:03:16.859691Z",
     "shell.execute_reply": "2022-04-03T21:03:16.859338Z",
     "shell.execute_reply.started": "2022-04-03T21:03:15.951541Z"
    },
    "tags": []
   },
   "outputs": [],
   "source": [
    "from eugene.load_data import load_csv"
   ]
  },
  {
   "cell_type": "code",
   "execution_count": 265,
   "id": "a7922c8f",
   "metadata": {
    "execution": {
     "iopub.execute_input": "2022-04-03T21:03:59.797931Z",
     "iopub.status.busy": "2022-04-03T21:03:59.797761Z",
     "iopub.status.idle": "2022-04-03T21:04:02.011516Z",
     "shell.execute_reply": "2022-04-03T21:04:02.011192Z",
     "shell.execute_reply.started": "2022-04-03T21:03:59.797913Z"
    },
    "tags": []
   },
   "outputs": [
    {
     "data": {
      "text/plain": [
       "(None, 100, 'GTAGG', 100, 'CCTAC', None)"
      ]
     },
     "execution_count": 265,
     "metadata": {},
     "output_type": "execute_result"
    }
   ],
   "source": [
    "# Load the sequences as numpy arrays\n",
    "names, seqs, rev_seqs, targets = load_csv(\"test_seqs.tsv\", seq_col=\"SEQ\", rev_comp=True)\n",
    "names, len(seqs), seqs[0][:5], len(rev_seqs), rev_seqs[0][-5:], targets"
   ]
  },
  {
   "cell_type": "code",
   "execution_count": 266,
   "id": "3e6d1f26",
   "metadata": {
    "execution": {
     "iopub.execute_input": "2022-04-03T21:04:03.328157Z",
     "iopub.status.busy": "2022-04-03T21:04:03.327907Z",
     "iopub.status.idle": "2022-04-03T21:04:03.909179Z",
     "shell.execute_reply": "2022-04-03T21:04:03.908773Z",
     "shell.execute_reply.started": "2022-04-03T21:04:03.328139Z"
    },
    "tags": []
   },
   "outputs": [],
   "source": [
    "# Compose different data transforms for this particular load\n",
    "data_transform = transforms.Compose([\n",
    "    Augment(randomize_linker_p=0.1, enhancer=\"WT-otx-a\"), ReverseComplement(ohe_encoded=False), OneHotEncode(), ToTensor(transpose=False)\n",
    "])"
   ]
  },
  {
   "cell_type": "code",
   "execution_count": 273,
   "id": "f07a96d7",
   "metadata": {},
   "outputs": [
    {
     "data": {
      "text/plain": [
       "(tensor([-1.]),\n",
       " tensor([[0., 0., 1., 0.],\n",
       "         [0., 0., 0., 1.],\n",
       "         [1., 0., 0., 0.],\n",
       "         ...,\n",
       "         [0., 0., 0., 1.],\n",
       "         [0., 0., 0., 1.],\n",
       "         [0., 0., 1., 0.]]),\n",
       " tensor([[0., 1., 0., 0.],\n",
       "         [1., 0., 0., 0.],\n",
       "         [1., 0., 0., 0.],\n",
       "         ...,\n",
       "         [0., 0., 0., 1.],\n",
       "         [1., 0., 0., 0.],\n",
       "         [0., 1., 0., 0.]]),\n",
       " tensor([-1.]))"
      ]
     },
     "execution_count": 273,
     "metadata": {},
     "output_type": "execute_result"
    }
   ],
   "source": [
    "# Instantiate a Dataset\n",
    "test_dataset = MPRADataset(seqs, transform=data_transform)\n",
    "test_dataset[0]"
   ]
  },
  {
   "cell_type": "code",
   "execution_count": 275,
   "id": "3988949e",
   "metadata": {},
   "outputs": [
    {
     "name": "stdout",
     "output_type": "stream",
     "text": [
      "0 torch.Size([1000, 4]) torch.Size([1000, 4]) tensor([-1.])\n",
      "1 torch.Size([1000, 4]) torch.Size([1000, 4]) tensor([-1.])\n",
      "2 torch.Size([1000, 4]) torch.Size([1000, 4]) tensor([-1.])\n",
      "3 torch.Size([1000, 4]) torch.Size([1000, 4]) tensor([-1.])\n"
     ]
    }
   ],
   "source": [
    "# Check the Dataset Class\n",
    "for i in range(len(test_dataset)):\n",
    "    sample = test_dataset[i]\n",
    "    print(i, sample[1].size(), sample[2].size(), sample[3])\n",
    "    if i == 3:\n",
    "        break"
   ]
  },
  {
   "cell_type": "markdown",
   "id": "f1f4bbd5",
   "metadata": {
    "tags": []
   },
   "source": [
    "## Load from Numpy arrays"
   ]
  },
  {
   "cell_type": "code",
   "execution_count": 276,
   "id": "c3484f86",
   "metadata": {
    "execution": {
     "iopub.execute_input": "2022-04-03T21:04:05.536745Z",
     "iopub.status.busy": "2022-04-03T21:04:05.536494Z",
     "iopub.status.idle": "2022-04-03T21:04:06.112999Z",
     "shell.execute_reply": "2022-04-03T21:04:06.112601Z",
     "shell.execute_reply.started": "2022-04-03T21:04:05.536726Z"
    },
    "tags": []
   },
   "outputs": [],
   "source": [
    "from load_data import load_numpy"
   ]
  },
  {
   "cell_type": "code",
   "execution_count": 278,
   "id": "2ebce851",
   "metadata": {
    "execution": {
     "iopub.execute_input": "2022-04-03T21:04:06.115825Z",
     "iopub.status.busy": "2022-04-03T21:04:06.114930Z",
     "iopub.status.idle": "2022-04-03T21:04:08.103259Z",
     "shell.execute_reply": "2022-04-03T21:04:08.102947Z",
     "shell.execute_reply.started": "2022-04-03T21:04:06.115805Z"
    },
    "tags": []
   },
   "outputs": [
    {
     "data": {
      "text/plain": [
       "(100,\n",
       " 'seq001',\n",
       " 100,\n",
       " array([[0, 0, 1, 0],\n",
       "        [0, 0, 0, 1],\n",
       "        [1, 0, 0, 0],\n",
       "        [0, 0, 1, 0],\n",
       "        [0, 0, 1, 0]], dtype=int8),\n",
       " 100,\n",
       " array([[0, 1, 0, 0],\n",
       "        [0, 1, 0, 0],\n",
       "        [0, 0, 0, 1],\n",
       "        [1, 0, 0, 0],\n",
       "        [0, 1, 0, 0]], dtype=int8),\n",
       " None)"
      ]
     },
     "execution_count": 278,
     "metadata": {},
     "output_type": "execute_result"
    }
   ],
   "source": [
    "# Load the sequences as numpy arrays\n",
    "names, seqs, rev_seqs, targets = load_numpy(\"test_ohe_seqs.npy\", names_file=\"test_ids.npy\", rev_seq_file=\"test_rev_ohe_seqs.npy\")\n",
    "len(names), names[0], len(seqs), seqs[0][:5], len(rev_seqs), rev_seqs[0][-5:], targets"
   ]
  },
  {
   "cell_type": "code",
   "execution_count": 279,
   "id": "89924b0c",
   "metadata": {
    "execution": {
     "iopub.execute_input": "2022-04-03T21:04:08.105874Z",
     "iopub.status.busy": "2022-04-03T21:04:08.105015Z",
     "iopub.status.idle": "2022-04-03T21:04:08.833339Z",
     "shell.execute_reply": "2022-04-03T21:04:08.832961Z",
     "shell.execute_reply.started": "2022-04-03T21:04:08.105854Z"
    },
    "tags": []
   },
   "outputs": [],
   "source": [
    "# Compose different data transforms for this particular load\n",
    "data_transform = transforms.Compose([ToTensor(transpose=False)])"
   ]
  },
  {
   "cell_type": "code",
   "execution_count": 280,
   "id": "f07a96d7",
   "metadata": {},
   "outputs": [],
   "source": [
    "# Instantiate a Dataset\n",
    "test_dataset = MPRADataset(seqs, names=names, rev_seqs=rev_seqs, transform=data_transform)"
   ]
  },
  {
   "cell_type": "code",
   "execution_count": 282,
   "id": "3988949e",
   "metadata": {},
   "outputs": [
    {
     "name": "stdout",
     "output_type": "stream",
     "text": [
      "0 torch.Size([6]) torch.Size([1000, 4]) torch.Size([1000, 4]) tensor([-1.])\n",
      "1 torch.Size([6]) torch.Size([1000, 4]) torch.Size([1000, 4]) tensor([-1.])\n",
      "2 torch.Size([6]) torch.Size([1000, 4]) torch.Size([1000, 4]) tensor([-1.])\n",
      "3 torch.Size([6]) torch.Size([1000, 4]) torch.Size([1000, 4]) tensor([-1.])\n"
     ]
    }
   ],
   "source": [
    "# Check the Dataset Class\n",
    "for i in range(len(test_dataset)):\n",
    "    sample = test_dataset[i]\n",
    "    print(i, sample[0].size(), sample[1].size(), sample[2].size(), sample[3])\n",
    "    if i == 3:\n",
    "        break"
   ]
  },
  {
   "cell_type": "markdown",
   "id": "5c3d76a5",
   "metadata": {
    "tags": []
   },
   "source": [
    "## Load from Fasta"
   ]
  },
  {
   "cell_type": "code",
   "execution_count": 283,
   "id": "2a0d09c3",
   "metadata": {
    "execution": {
     "iopub.execute_input": "2022-04-03T21:04:10.049616Z",
     "iopub.status.busy": "2022-04-03T21:04:10.048613Z",
     "iopub.status.idle": "2022-04-03T21:04:10.764298Z",
     "shell.execute_reply": "2022-04-03T21:04:10.763891Z",
     "shell.execute_reply.started": "2022-04-03T21:04:10.049596Z"
    },
    "tags": []
   },
   "outputs": [],
   "source": [
    "from load_data import load_fasta"
   ]
  },
  {
   "cell_type": "code",
   "execution_count": 284,
   "id": "2ccf31f9",
   "metadata": {
    "execution": {
     "iopub.execute_input": "2022-04-03T21:04:11.391869Z",
     "iopub.status.busy": "2022-04-03T21:04:11.390977Z",
     "iopub.status.idle": "2022-04-03T21:04:13.432442Z",
     "shell.execute_reply": "2022-04-03T21:04:13.432135Z",
     "shell.execute_reply.started": "2022-04-03T21:04:11.391849Z"
    },
    "tags": []
   },
   "outputs": [],
   "source": [
    "# Load the sequences as numpy arrays\n",
    "names, seqs, rev_seqs, targets = load_fasta(\"test_seqs.fa\", \"test_labels.npy\", rev_comp=True)"
   ]
  },
  {
   "cell_type": "code",
   "execution_count": 285,
   "id": "786c1a20",
   "metadata": {
    "execution": {
     "iopub.execute_input": "2022-04-03T21:04:13.435024Z",
     "iopub.status.busy": "2022-04-03T21:04:13.434155Z",
     "iopub.status.idle": "2022-04-03T21:04:14.343630Z",
     "shell.execute_reply": "2022-04-03T21:04:14.343213Z",
     "shell.execute_reply.started": "2022-04-03T21:04:13.435004Z"
    },
    "tags": []
   },
   "outputs": [],
   "source": [
    "# Compose different data transforms for this particular load\n",
    "data_transform = transforms.Compose([\n",
    "    Augment(randomize_linker_p=0.1, enhancer=\"WT-otx-a\"), OneHotEncode(), ToTensor(transpose=False)\n",
    "])"
   ]
  },
  {
   "cell_type": "code",
   "execution_count": 289,
   "id": "3a1bff3f",
   "metadata": {
    "execution": {
     "iopub.execute_input": "2022-04-03T21:04:14.346602Z",
     "iopub.status.busy": "2022-04-03T21:04:14.345712Z",
     "iopub.status.idle": "2022-04-03T21:04:15.054405Z",
     "shell.execute_reply": "2022-04-03T21:04:15.054049Z",
     "shell.execute_reply.started": "2022-04-03T21:04:14.346583Z"
    },
    "tags": []
   },
   "outputs": [],
   "source": [
    "# Instantiate a Dataset\n",
    "test_dataset = MPRADataset(seqs, names=names, targets=targets, rev_seqs=rev_seqs, transform=data_transform)"
   ]
  },
  {
   "cell_type": "code",
   "execution_count": 290,
   "id": "54c1ea05",
   "metadata": {
    "execution": {
     "iopub.execute_input": "2022-04-03T21:04:15.057231Z",
     "iopub.status.busy": "2022-04-03T21:04:15.056339Z",
     "iopub.status.idle": "2022-04-03T21:04:16.203444Z",
     "shell.execute_reply": "2022-04-03T21:04:16.203137Z",
     "shell.execute_reply.started": "2022-04-03T21:04:15.057211Z"
    },
    "tags": []
   },
   "outputs": [
    {
     "name": "stdout",
     "output_type": "stream",
     "text": [
      "0 torch.Size([6]) torch.Size([1000, 4]) torch.Size([1000, 4]) tensor(0.)\n",
      "1 torch.Size([6]) torch.Size([1000, 4]) torch.Size([1000, 4]) tensor(1.)\n",
      "2 torch.Size([6]) torch.Size([1000, 4]) torch.Size([1000, 4]) tensor(1.)\n",
      "3 torch.Size([6]) torch.Size([1000, 4]) torch.Size([1000, 4]) tensor(1.)\n"
     ]
    }
   ],
   "source": [
    "# Check the Dataset Class\n",
    "for i in range(len(test_dataset)):\n",
    "    sample = test_dataset[i]\n",
    "    print(i, sample[0].size(), sample[1].size(), sample[2].size(), sample[3])\n",
    "    if i == 3:\n",
    "        break"
   ]
  },
  {
   "cell_type": "markdown",
   "id": "ac70e9b0",
   "metadata": {
    "tags": []
   },
   "source": [
    "## Build DataLoader"
   ]
  },
  {
   "cell_type": "code",
   "execution_count": 26,
   "id": "9864ae7c",
   "metadata": {},
   "outputs": [],
   "source": [
    "from load_data import load"
   ]
  },
  {
   "cell_type": "code",
   "execution_count": 27,
   "id": "ed1f77e4",
   "metadata": {},
   "outputs": [
    {
     "data": {
      "text/plain": [
       "(100,\n",
       " 'seq001',\n",
       " 100,\n",
       " array([[0, 0, 1, 0],\n",
       "        [0, 0, 0, 1],\n",
       "        [1, 0, 0, 0],\n",
       "        [0, 0, 1, 0],\n",
       "        [0, 0, 1, 0]], dtype=int8),\n",
       " 100,\n",
       " array([[0, 1, 0, 0],\n",
       "        [0, 1, 0, 0],\n",
       "        [0, 0, 0, 1],\n",
       "        [1, 0, 0, 0],\n",
       "        [0, 1, 0, 0]], dtype=int8),\n",
       " 100,\n",
       " 0)"
      ]
     },
     "execution_count": 27,
     "metadata": {},
     "output_type": "execute_result"
    }
   ],
   "source": [
    "# Load the sequences as numpy arrays\n",
    "names, seqs, rev_seqs, targets = load(\"test_ohe_seqs.npy\", names_file=\"test_ids.npy\", target_file=\"test_labels.npy\", rev_seq_file=\"test_rev_ohe_seqs.npy\")\n",
    "len(names), names[0], len(seqs), seqs[0][:5], len(rev_seqs), rev_seqs[0][-5:], len(targets), targets[0]"
   ]
  },
  {
   "cell_type": "code",
   "execution_count": 28,
   "id": "c1aedefa",
   "metadata": {},
   "outputs": [],
   "source": [
    "data_transform = transforms.Compose([\n",
    "    ToTensor(transpose=False)\n",
    "])"
   ]
  },
  {
   "cell_type": "code",
   "execution_count": 29,
   "id": "7178173f",
   "metadata": {},
   "outputs": [],
   "source": [
    "test_dataset = MPRADataset(seqs, names=names, targets=targets, rev_seqs=rev_seqs, transform=data_transform)"
   ]
  },
  {
   "cell_type": "code",
   "execution_count": 30,
   "id": "af4d624e",
   "metadata": {
    "execution": {
     "iopub.execute_input": "2022-04-03T21:04:18.458546Z",
     "iopub.status.busy": "2022-04-03T21:04:18.458380Z",
     "iopub.status.idle": "2022-04-03T21:04:19.415208Z",
     "shell.execute_reply": "2022-04-03T21:04:19.414801Z",
     "shell.execute_reply.started": "2022-04-03T21:04:18.458530Z"
    },
    "tags": []
   },
   "outputs": [],
   "source": [
    "# Instantiate a DataLoader\n",
    "test_dataloader = DataLoader(test_dataset, batch_size=32, shuffle=False, num_workers=0)"
   ]
  },
  {
   "cell_type": "code",
   "execution_count": 33,
   "id": "8680609b",
   "metadata": {},
   "outputs": [
    {
     "name": "stdout",
     "output_type": "stream",
     "text": [
      "0 torch.Size([6]) torch.Size([1000, 4]) torch.Size([1000, 4]) tensor(0.)\n",
      "1 torch.Size([6]) torch.Size([1000, 4]) torch.Size([1000, 4]) tensor(1.)\n",
      "2 torch.Size([6]) torch.Size([1000, 4]) torch.Size([1000, 4]) tensor(1.)\n",
      "3 torch.Size([6]) torch.Size([1000, 4]) torch.Size([1000, 4]) tensor(1.)\n",
      "4 torch.Size([6]) torch.Size([1000, 4]) torch.Size([1000, 4]) tensor(1.)\n",
      "5 torch.Size([6]) torch.Size([1000, 4]) torch.Size([1000, 4]) tensor(1.)\n",
      "6 torch.Size([6]) torch.Size([1000, 4]) torch.Size([1000, 4]) tensor(0.)\n",
      "7 torch.Size([6]) torch.Size([1000, 4]) torch.Size([1000, 4]) tensor(0.)\n",
      "8 torch.Size([6]) torch.Size([1000, 4]) torch.Size([1000, 4]) tensor(0.)\n",
      "9 torch.Size([6]) torch.Size([1000, 4]) torch.Size([1000, 4]) tensor(1.)\n",
      "10 torch.Size([6]) torch.Size([1000, 4]) torch.Size([1000, 4]) tensor(0.)\n",
      "11 torch.Size([6]) torch.Size([1000, 4]) torch.Size([1000, 4]) tensor(1.)\n",
      "12 torch.Size([6]) torch.Size([1000, 4]) torch.Size([1000, 4]) tensor(1.)\n",
      "13 torch.Size([6]) torch.Size([1000, 4]) torch.Size([1000, 4]) tensor(0.)\n",
      "14 torch.Size([6]) torch.Size([1000, 4]) torch.Size([1000, 4]) tensor(1.)\n",
      "15 torch.Size([6]) torch.Size([1000, 4]) torch.Size([1000, 4]) tensor(0.)\n",
      "16 torch.Size([6]) torch.Size([1000, 4]) torch.Size([1000, 4]) tensor(0.)\n",
      "17 torch.Size([6]) torch.Size([1000, 4]) torch.Size([1000, 4]) tensor(1.)\n",
      "18 torch.Size([6]) torch.Size([1000, 4]) torch.Size([1000, 4]) tensor(0.)\n",
      "19 torch.Size([6]) torch.Size([1000, 4]) torch.Size([1000, 4]) tensor(0.)\n",
      "20 torch.Size([6]) torch.Size([1000, 4]) torch.Size([1000, 4]) tensor(1.)\n",
      "21 torch.Size([6]) torch.Size([1000, 4]) torch.Size([1000, 4]) tensor(0.)\n",
      "22 torch.Size([6]) torch.Size([1000, 4]) torch.Size([1000, 4]) tensor(0.)\n",
      "23 torch.Size([6]) torch.Size([1000, 4]) torch.Size([1000, 4]) tensor(1.)\n",
      "24 torch.Size([6]) torch.Size([1000, 4]) torch.Size([1000, 4]) tensor(0.)\n",
      "25 torch.Size([6]) torch.Size([1000, 4]) torch.Size([1000, 4]) tensor(1.)\n",
      "26 torch.Size([6]) torch.Size([1000, 4]) torch.Size([1000, 4]) tensor(1.)\n",
      "27 torch.Size([6]) torch.Size([1000, 4]) torch.Size([1000, 4]) tensor(0.)\n",
      "28 torch.Size([6]) torch.Size([1000, 4]) torch.Size([1000, 4]) tensor(1.)\n",
      "29 torch.Size([6]) torch.Size([1000, 4]) torch.Size([1000, 4]) tensor(1.)\n",
      "30 torch.Size([6]) torch.Size([1000, 4]) torch.Size([1000, 4]) tensor(0.)\n",
      "31 torch.Size([6]) torch.Size([1000, 4]) torch.Size([1000, 4]) tensor(1.)\n",
      "32 torch.Size([6]) torch.Size([1000, 4]) torch.Size([1000, 4]) tensor(1.)\n",
      "33 torch.Size([6]) torch.Size([1000, 4]) torch.Size([1000, 4]) tensor(0.)\n",
      "34 torch.Size([6]) torch.Size([1000, 4]) torch.Size([1000, 4]) tensor(0.)\n",
      "35 torch.Size([6]) torch.Size([1000, 4]) torch.Size([1000, 4]) tensor(1.)\n",
      "36 torch.Size([6]) torch.Size([1000, 4]) torch.Size([1000, 4]) tensor(1.)\n",
      "37 torch.Size([6]) torch.Size([1000, 4]) torch.Size([1000, 4]) tensor(0.)\n",
      "38 torch.Size([6]) torch.Size([1000, 4]) torch.Size([1000, 4]) tensor(1.)\n",
      "39 torch.Size([6]) torch.Size([1000, 4]) torch.Size([1000, 4]) tensor(0.)\n",
      "40 torch.Size([6]) torch.Size([1000, 4]) torch.Size([1000, 4]) tensor(1.)\n",
      "41 torch.Size([6]) torch.Size([1000, 4]) torch.Size([1000, 4]) tensor(1.)\n",
      "42 torch.Size([6]) torch.Size([1000, 4]) torch.Size([1000, 4]) tensor(1.)\n",
      "43 torch.Size([6]) torch.Size([1000, 4]) torch.Size([1000, 4]) tensor(1.)\n",
      "44 torch.Size([6]) torch.Size([1000, 4]) torch.Size([1000, 4]) tensor(1.)\n",
      "45 torch.Size([6]) torch.Size([1000, 4]) torch.Size([1000, 4]) tensor(1.)\n",
      "46 torch.Size([6]) torch.Size([1000, 4]) torch.Size([1000, 4]) tensor(0.)\n",
      "47 torch.Size([6]) torch.Size([1000, 4]) torch.Size([1000, 4]) tensor(1.)\n",
      "48 torch.Size([6]) torch.Size([1000, 4]) torch.Size([1000, 4]) tensor(1.)\n",
      "49 torch.Size([6]) torch.Size([1000, 4]) torch.Size([1000, 4]) tensor(1.)\n",
      "50 torch.Size([6]) torch.Size([1000, 4]) torch.Size([1000, 4]) tensor(0.)\n",
      "51 torch.Size([6]) torch.Size([1000, 4]) torch.Size([1000, 4]) tensor(1.)\n",
      "52 torch.Size([6]) torch.Size([1000, 4]) torch.Size([1000, 4]) tensor(0.)\n",
      "53 torch.Size([6]) torch.Size([1000, 4]) torch.Size([1000, 4]) tensor(1.)\n",
      "54 torch.Size([6]) torch.Size([1000, 4]) torch.Size([1000, 4]) tensor(0.)\n",
      "55 torch.Size([6]) torch.Size([1000, 4]) torch.Size([1000, 4]) tensor(1.)\n",
      "56 torch.Size([6]) torch.Size([1000, 4]) torch.Size([1000, 4]) tensor(1.)\n",
      "57 torch.Size([6]) torch.Size([1000, 4]) torch.Size([1000, 4]) tensor(1.)\n",
      "58 torch.Size([6]) torch.Size([1000, 4]) torch.Size([1000, 4]) tensor(1.)\n",
      "59 torch.Size([6]) torch.Size([1000, 4]) torch.Size([1000, 4]) tensor(1.)\n",
      "60 torch.Size([6]) torch.Size([1000, 4]) torch.Size([1000, 4]) tensor(1.)\n",
      "61 torch.Size([6]) torch.Size([1000, 4]) torch.Size([1000, 4]) tensor(0.)\n",
      "62 torch.Size([6]) torch.Size([1000, 4]) torch.Size([1000, 4]) tensor(1.)\n",
      "63 torch.Size([6]) torch.Size([1000, 4]) torch.Size([1000, 4]) tensor(1.)\n",
      "64 torch.Size([6]) torch.Size([1000, 4]) torch.Size([1000, 4]) tensor(0.)\n",
      "65 torch.Size([6]) torch.Size([1000, 4]) torch.Size([1000, 4]) tensor(0.)\n",
      "66 torch.Size([6]) torch.Size([1000, 4]) torch.Size([1000, 4]) tensor(1.)\n",
      "67 torch.Size([6]) torch.Size([1000, 4]) torch.Size([1000, 4]) tensor(0.)\n",
      "68 torch.Size([6]) torch.Size([1000, 4]) torch.Size([1000, 4]) tensor(0.)\n",
      "69 torch.Size([6]) torch.Size([1000, 4]) torch.Size([1000, 4]) tensor(0.)\n",
      "70 torch.Size([6]) torch.Size([1000, 4]) torch.Size([1000, 4]) tensor(0.)\n",
      "71 torch.Size([6]) torch.Size([1000, 4]) torch.Size([1000, 4]) tensor(0.)\n",
      "72 torch.Size([6]) torch.Size([1000, 4]) torch.Size([1000, 4]) tensor(0.)\n",
      "73 torch.Size([6]) torch.Size([1000, 4]) torch.Size([1000, 4]) tensor(0.)\n",
      "74 torch.Size([6]) torch.Size([1000, 4]) torch.Size([1000, 4]) tensor(1.)\n",
      "75 torch.Size([6]) torch.Size([1000, 4]) torch.Size([1000, 4]) tensor(1.)\n",
      "76 torch.Size([6]) torch.Size([1000, 4]) torch.Size([1000, 4]) tensor(1.)\n",
      "77 torch.Size([6]) torch.Size([1000, 4]) torch.Size([1000, 4]) tensor(0.)\n",
      "78 torch.Size([6]) torch.Size([1000, 4]) torch.Size([1000, 4]) tensor(1.)\n",
      "79 torch.Size([6]) torch.Size([1000, 4]) torch.Size([1000, 4]) tensor(1.)\n",
      "80 torch.Size([6]) torch.Size([1000, 4]) torch.Size([1000, 4]) tensor(1.)\n",
      "81 torch.Size([6]) torch.Size([1000, 4]) torch.Size([1000, 4]) tensor(1.)\n",
      "82 torch.Size([6]) torch.Size([1000, 4]) torch.Size([1000, 4]) tensor(0.)\n",
      "83 torch.Size([6]) torch.Size([1000, 4]) torch.Size([1000, 4]) tensor(0.)\n",
      "84 torch.Size([6]) torch.Size([1000, 4]) torch.Size([1000, 4]) tensor(0.)\n",
      "85 torch.Size([6]) torch.Size([1000, 4]) torch.Size([1000, 4]) tensor(0.)\n",
      "86 torch.Size([6]) torch.Size([1000, 4]) torch.Size([1000, 4]) tensor(0.)\n",
      "87 torch.Size([6]) torch.Size([1000, 4]) torch.Size([1000, 4]) tensor(0.)\n",
      "88 torch.Size([6]) torch.Size([1000, 4]) torch.Size([1000, 4]) tensor(1.)\n",
      "89 torch.Size([6]) torch.Size([1000, 4]) torch.Size([1000, 4]) tensor(1.)\n",
      "90 torch.Size([6]) torch.Size([1000, 4]) torch.Size([1000, 4]) tensor(0.)\n",
      "91 torch.Size([6]) torch.Size([1000, 4]) torch.Size([1000, 4]) tensor(1.)\n",
      "92 torch.Size([6]) torch.Size([1000, 4]) torch.Size([1000, 4]) tensor(1.)\n",
      "93 torch.Size([6]) torch.Size([1000, 4]) torch.Size([1000, 4]) tensor(0.)\n",
      "94 torch.Size([6]) torch.Size([1000, 4]) torch.Size([1000, 4]) tensor(1.)\n",
      "95 torch.Size([6]) torch.Size([1000, 4]) torch.Size([1000, 4]) tensor(0.)\n",
      "96 torch.Size([6]) torch.Size([1000, 4]) torch.Size([1000, 4]) tensor(1.)\n",
      "97 torch.Size([6]) torch.Size([1000, 4]) torch.Size([1000, 4]) tensor(0.)\n",
      "98 torch.Size([6]) torch.Size([1000, 4]) torch.Size([1000, 4]) tensor(0.)\n",
      "99 torch.Size([6]) torch.Size([1000, 4]) torch.Size([1000, 4]) tensor(0.)\n"
     ]
    }
   ],
   "source": [
    "# Check the Dataset Class\n",
    "for i in range(len(test_dataset)):\n",
    "    sample = test_dataset[i]\n",
    "    print(i, sample[0].size(), sample[1].size(), sample[2].size(), sample[3])\n",
    "    #if i == 3:\n",
    "    #    break"
   ]
  },
  {
   "cell_type": "code",
   "execution_count": 22,
   "id": "1909df0d",
   "metadata": {
    "execution": {
     "iopub.execute_input": "2022-04-03T21:04:20.364812Z",
     "iopub.status.busy": "2022-04-03T21:04:20.363844Z",
     "iopub.status.idle": "2022-04-03T21:04:21.545590Z",
     "shell.execute_reply": "2022-04-03T21:04:21.545267Z",
     "shell.execute_reply.started": "2022-04-03T21:04:20.364792Z"
    },
    "tags": []
   },
   "outputs": [
    {
     "ename": "NameError",
     "evalue": "name 'test_dataloader' is not defined",
     "output_type": "error",
     "traceback": [
      "\u001b[0;31m---------------------------------------------------------------------------\u001b[0m",
      "\u001b[0;31mNameError\u001b[0m                                 Traceback (most recent call last)",
      "\u001b[0;32m<ipython-input-22-b7c1d24508b7>\u001b[0m in \u001b[0;36m<module>\u001b[0;34m\u001b[0m\n\u001b[1;32m      1\u001b[0m \u001b[0;31m# Check the DataLoader\u001b[0m\u001b[0;34m\u001b[0m\u001b[0;34m\u001b[0m\u001b[0;34m\u001b[0m\u001b[0m\n\u001b[0;32m----> 2\u001b[0;31m \u001b[0;32mfor\u001b[0m \u001b[0mi_batch\u001b[0m\u001b[0;34m,\u001b[0m \u001b[0msample_batched\u001b[0m \u001b[0;32min\u001b[0m \u001b[0menumerate\u001b[0m\u001b[0;34m(\u001b[0m\u001b[0mtest_dataloader\u001b[0m\u001b[0;34m)\u001b[0m\u001b[0;34m:\u001b[0m\u001b[0;34m\u001b[0m\u001b[0;34m\u001b[0m\u001b[0m\n\u001b[0m\u001b[1;32m      3\u001b[0m     \u001b[0mprint\u001b[0m\u001b[0;34m(\u001b[0m\u001b[0mi_batch\u001b[0m\u001b[0;34m,\u001b[0m \u001b[0msample_batched\u001b[0m\u001b[0;34m[\u001b[0m\u001b[0;36m1\u001b[0m\u001b[0;34m]\u001b[0m\u001b[0;34m.\u001b[0m\u001b[0msize\u001b[0m\u001b[0;34m(\u001b[0m\u001b[0;34m)\u001b[0m\u001b[0;34m,\u001b[0m \u001b[0msample_batched\u001b[0m\u001b[0;34m[\u001b[0m\u001b[0;36m2\u001b[0m\u001b[0;34m]\u001b[0m\u001b[0;34m.\u001b[0m\u001b[0msize\u001b[0m\u001b[0;34m(\u001b[0m\u001b[0;34m)\u001b[0m\u001b[0;34m,\u001b[0m \u001b[0msample_batched\u001b[0m\u001b[0;34m[\u001b[0m\u001b[0;36m3\u001b[0m\u001b[0;34m]\u001b[0m\u001b[0;34m.\u001b[0m\u001b[0msize\u001b[0m\u001b[0;34m(\u001b[0m\u001b[0;34m)\u001b[0m\u001b[0;34m)\u001b[0m\u001b[0;34m\u001b[0m\u001b[0;34m\u001b[0m\u001b[0m\n\u001b[1;32m      4\u001b[0m     \u001b[0;31m# observe 4th batch and stop.\u001b[0m\u001b[0;34m\u001b[0m\u001b[0;34m\u001b[0m\u001b[0;34m\u001b[0m\u001b[0m\n\u001b[1;32m      5\u001b[0m     \u001b[0;31m#if i_batch == 3:\u001b[0m\u001b[0;34m\u001b[0m\u001b[0;34m\u001b[0m\u001b[0;34m\u001b[0m\u001b[0m\n",
      "\u001b[0;31mNameError\u001b[0m: name 'test_dataloader' is not defined"
     ]
    }
   ],
   "source": [
    "# Check the DataLoader\n",
    "for i_batch, sample_batched in enumerate(test_dataloader):\n",
    "    print(i_batch, sample_batched[1].size(), sample_batched[2].size(), sample_batched[3].size())\n",
    "    # observe 4th batch and stop.\n",
    "    if i_batch == 3:\n",
    "        break"
   ]
  },
  {
   "cell_type": "markdown",
   "id": "fd472fda",
   "metadata": {
    "tags": []
   },
   "source": [
    "# MPRADataModule\n",
    "PyTorch Lightning DataModule class for MPRA data that allows for asbtracting most of the dataloading process. These DataModules can be passed straight to trainers for model training."
   ]
  },
  {
   "cell_type": "code",
   "execution_count": 77,
   "id": "38b33ea4",
   "metadata": {
    "execution": {
     "iopub.execute_input": "2022-04-03T21:04:23.330357Z",
     "iopub.status.busy": "2022-04-03T21:04:23.330119Z",
     "iopub.status.idle": "2022-04-03T21:04:49.747442Z",
     "shell.execute_reply": "2022-04-03T21:04:49.747070Z",
     "shell.execute_reply.started": "2022-04-03T21:04:23.330339Z"
    },
    "tags": []
   },
   "outputs": [],
   "source": [
    "from MPRADataModule import MPRADataModule"
   ]
  },
  {
   "cell_type": "code",
   "execution_count": 78,
   "id": "76c611c2",
   "metadata": {
    "execution": {
     "iopub.execute_input": "2022-04-03T21:04:49.750342Z",
     "iopub.status.busy": "2022-04-03T21:04:49.749462Z",
     "iopub.status.idle": "2022-04-03T21:04:51.044884Z",
     "shell.execute_reply": "2022-04-03T21:04:51.044501Z",
     "shell.execute_reply.started": "2022-04-03T21:04:49.750321Z"
    },
    "tags": []
   },
   "outputs": [],
   "source": [
    "data_transform = transforms.Compose([\n",
    "    Augment(randomize_linker_p=0.1, enhancer=\"WT-otx-a\"), \n",
    "    OneHotEncode(), \n",
    "    ToTensor(transpose=True)\n",
    "])"
   ]
  },
  {
   "cell_type": "code",
   "execution_count": 79,
   "id": "b5f5371d",
   "metadata": {
    "execution": {
     "iopub.execute_input": "2022-04-03T21:05:31.776795Z",
     "iopub.status.busy": "2022-04-03T21:05:31.776627Z",
     "iopub.status.idle": "2022-04-03T21:05:32.822917Z",
     "shell.execute_reply": "2022-04-03T21:05:32.822531Z",
     "shell.execute_reply.started": "2022-04-03T21:05:31.776778Z"
    },
    "tags": []
   },
   "outputs": [],
   "source": [
    "test_datamodule = MPRADataModule(\n",
    "    seq_file=\"test_seqs.tsv\",\n",
    "    transform=data_transform,\n",
    "    num_workers=0,\n",
    "    batch_size=16,\n",
    "    load_kwargs=dict(seq_col=\"SEQ\"))"
   ]
  },
  {
   "cell_type": "code",
   "execution_count": 80,
   "id": "30125de6",
   "metadata": {},
   "outputs": [],
   "source": [
    "test_datamodule.setup()\n",
    "test_dataset = test_datamodule.train_dataloader().dataset"
   ]
  },
  {
   "cell_type": "code",
   "execution_count": 81,
   "id": "520d27e8",
   "metadata": {},
   "outputs": [
    {
     "name": "stdout",
     "output_type": "stream",
     "text": [
      "0 torch.Size([1]) torch.Size([4, 1000]) torch.Size([1]) tensor([-1.])\n",
      "1 torch.Size([1]) torch.Size([4, 1000]) torch.Size([1]) tensor([-1.])\n",
      "2 torch.Size([1]) torch.Size([4, 1000]) torch.Size([1]) tensor([-1.])\n",
      "3 torch.Size([1]) torch.Size([4, 1000]) torch.Size([1]) tensor([-1.])\n"
     ]
    }
   ],
   "source": [
    "# Check the Dataset Class\n",
    "for i in range(len(test_datamodule.train_dataloader().dataset)):\n",
    "    sample = test_datamodule.train_dataloader().dataset[i]\n",
    "    print(i, sample[0].size(), sample[1].size(), sample[2].size(), sample[3])\n",
    "    if i == 3:\n",
    "        break"
   ]
  },
  {
   "cell_type": "code",
   "execution_count": 82,
   "id": "ba2c7f2f",
   "metadata": {},
   "outputs": [
    {
     "name": "stdout",
     "output_type": "stream",
     "text": [
      "0 torch.Size([16, 4, 1000]) torch.Size([16, 1]) torch.Size([16, 1])\n",
      "1 torch.Size([16, 4, 1000]) torch.Size([16, 1]) torch.Size([16, 1])\n",
      "2 torch.Size([16, 4, 1000]) torch.Size([16, 1]) torch.Size([16, 1])\n",
      "3 torch.Size([16, 4, 1000]) torch.Size([16, 1]) torch.Size([16, 1])\n"
     ]
    }
   ],
   "source": [
    "# Check the DataLoader\n",
    "for i_batch, sample_batched in enumerate(test_datamodule.train_dataloader()):\n",
    "    print(i_batch, sample_batched[1].size(), sample_batched[2].size(), sample_batched[3].size())\n",
    "    # observe 4th batch and stop.\n",
    "    if i_batch == 3:\n",
    "        break"
   ]
  },
  {
   "cell_type": "code",
   "execution_count": 21,
   "id": "8daa7b79",
   "metadata": {},
   "outputs": [
    {
     "data": {
      "text/plain": [
       "(tensor([-1.]),\n",
       " tensor([[0., 0., 0.,  ..., 1., 0., 1.],\n",
       "         [0., 0., 1.,  ..., 0., 0., 0.],\n",
       "         [1., 1., 0.,  ..., 0., 0., 0.],\n",
       "         [0., 0., 0.,  ..., 0., 1., 0.]]),\n",
       " tensor([-1.]),\n",
       " tensor([-1.]))"
      ]
     },
     "execution_count": 21,
     "metadata": {},
     "output_type": "execute_result"
    }
   ],
   "source": [
    "test_datamodule."
   ]
  },
  {
   "cell_type": "code",
   "execution_count": null,
   "id": "4a8ac144",
   "metadata": {},
   "outputs": [],
   "source": []
  }
 ],
 "metadata": {
  "interpreter": {
   "hash": "877ac64bedd0eab90089d6ca2747c50a37e983f6bb007df51c0a6db8dddb5e0e"
  },
  "kernelspec": {
   "display_name": "Python 3 pytorch_dev",
   "language": "python",
   "name": "python3"
  },
  "language_info": {
   "codemirror_mode": {
    "name": "ipython",
    "version": 3
   },
   "file_extension": ".py",
   "mimetype": "text/x-python",
   "name": "python",
   "nbconvert_exporter": "python",
   "pygments_lexer": "ipython3",
   "version": "3.8.8"
  }
 },
 "nbformat": 4,
 "nbformat_minor": 5
}

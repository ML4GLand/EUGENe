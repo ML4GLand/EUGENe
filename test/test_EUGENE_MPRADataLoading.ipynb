{
 "cells": [
  {
   "cell_type": "markdown",
   "id": "c3daa03e",
   "metadata": {},
   "source": [
    "# Testing MPRA Dataloading"
   ]
  },
  {
   "cell_type": "markdown",
   "id": "91689580",
   "metadata": {
    "tags": []
   },
   "source": [
    "**Authorship:**\n",
    "Adam Klie, *03/02/2022*\n",
    "***\n",
    "**Description:**\n",
    "Notebook for testing out PyTorch DataLoading for MPRADataSet and MPRADataModule classes"
   ]
  },
  {
   "cell_type": "markdown",
   "id": "31b7058a",
   "metadata": {},
   "source": [
    "<div class=\"alert alert-block alert-warning\">\n",
    "<b>TODOs</b>:\n",
    "<ul>\n",
    "    <b><li>Add test cases for each step</li></b>\n",
    "    <b><li>Feel like initial loading will break given certain data</li></b>\n",
    "    </ul>\n",
    "</div>"
   ]
  },
  {
   "cell_type": "code",
   "execution_count": 2,
   "id": "92833b89",
   "metadata": {
    "execution": {
     "iopub.execute_input": "2022-04-03T21:03:09.030875Z",
     "iopub.status.busy": "2022-04-03T21:03:09.030707Z",
     "iopub.status.idle": "2022-04-03T21:03:10.012645Z",
     "shell.execute_reply": "2022-04-03T21:03:10.012291Z",
     "shell.execute_reply.started": "2022-04-03T21:03:09.030858Z"
    },
    "tags": []
   },
   "outputs": [],
   "source": [
    "import numpy as np\n",
    "import pandas as pd\n",
    "\n",
    "# Autoreload extension\n",
    "if 'autoreload' not in get_ipython().extension_manager.loaded:\n",
    "    %load_ext autoreload\n",
    "%autoreload 2\n",
    "\n",
    "# Add the scripts from this project\n",
    "import sys\n",
    "sys.path.append(\"../eugene\")\n",
    "\n",
    "# Dataloading packages\n",
    "from torch.utils.data import Dataset, DataLoader\n",
    "from torchvision import transforms\n",
    "from transforms import ReverseComplement, Augment, OneHotEncode, ToTensor\n",
    "\n",
    "# Logging info\n",
    "import logging\n",
    "logging.basicConfig(level=logging.DEBUG)"
   ]
  },
  {
   "cell_type": "code",
   "execution_count": 3,
   "id": "43f33d13",
   "metadata": {
    "execution": {
     "iopub.execute_input": "2022-04-03T21:03:11.330051Z",
     "iopub.status.busy": "2022-04-03T21:03:11.329809Z",
     "iopub.status.idle": "2022-04-03T21:03:12.217860Z",
     "shell.execute_reply": "2022-04-03T21:03:12.217490Z",
     "shell.execute_reply.started": "2022-04-03T21:03:11.330033Z"
    },
    "tags": []
   },
   "outputs": [],
   "source": [
    "# Define directories\n",
    "OLS_TSV = \"/cellar/users/aklie/projects/EUGENE/data/2021_OLS_Library/2021_OLS_Library.tsv\"\n",
    "NUMPY_OHE = \"/cellar/users/aklie/projects/EUGENE/data/2021_OLS_Library/ohe_seq/0.09-0.4_X-train-0.9_ohe-seq.npy\"\n",
    "FASTA_SEQS = \"/cellar/users/aklie/projects/EUGENE/data/2021_OLS_Library/fasta/0.09-0.4_X-test-0.1_fasta.fa\"\n",
    "BINARY_TARGET = \"/cellar/users/aklie/projects/EUGENE/data/2021_OLS_Library/binary/0.09-0.4_y-train-0.9_binary.txt\""
   ]
  },
  {
   "cell_type": "markdown",
   "id": "7ff23967",
   "metadata": {
    "tags": []
   },
   "source": [
    "# MPRADataset Class\n",
    "PyTorch Dataset class for loading MPRA data. Here tare the steps for loading:\n",
    " 1. Load the dataset from files of different supported types using functions from `load_data.py`\n",
    " 2. Generate an MPRADataset object from sequences and targets\n",
    "     - Pass in the seqs and targets\n",
    "     - Compose torchvision transforms\n",
    " 3. Pass the dataset to DataLoader"
   ]
  },
  {
   "cell_type": "code",
   "execution_count": 4,
   "id": "1b6e97ef",
   "metadata": {
    "execution": {
     "iopub.execute_input": "2022-04-03T21:03:13.329755Z",
     "iopub.status.busy": "2022-04-03T21:03:13.329518Z",
     "iopub.status.idle": "2022-04-03T21:03:14.462455Z",
     "shell.execute_reply": "2022-04-03T21:03:14.462101Z",
     "shell.execute_reply.started": "2022-04-03T21:03:13.329737Z"
    },
    "tags": []
   },
   "outputs": [
    {
     "data": {
      "text/plain": [
       "\u001b[0;31mInit signature:\u001b[0m \u001b[0mMPRADataset\u001b[0m\u001b[0;34m(\u001b[0m\u001b[0;34m*\u001b[0m\u001b[0margs\u001b[0m\u001b[0;34m,\u001b[0m \u001b[0;34m**\u001b[0m\u001b[0mkwds\u001b[0m\u001b[0;34m)\u001b[0m\u001b[0;34m\u001b[0m\u001b[0;34m\u001b[0m\u001b[0m\n",
       "\u001b[0;31mDocstring:\u001b[0m      MPRA Dataset definition\n",
       "\u001b[0;31mInit docstring:\u001b[0m\n",
       "Args:\n",
       "    seqs (iterable): list of sequences to serve as input into models\n",
       "    targets (iterable): aligned list of targets for each sequence\n",
       "    rev_comps (iterable, optional): Optional reverse complements of seqs\n",
       "    transform (callable, optional): Optional transform to be applied\n",
       "        on a sample.\n",
       "\u001b[0;31mFile:\u001b[0m           /mnt/beegfs/users/aklie/projects/EUGENE/eugene/MPRADataset.py\n",
       "\u001b[0;31mType:\u001b[0m           type\n",
       "\u001b[0;31mSubclasses:\u001b[0m     \n"
      ]
     },
     "metadata": {},
     "output_type": "display_data"
    }
   ],
   "source": [
    "from MPRADataset import MPRADataset\n",
    "MPRADataset?"
   ]
  },
  {
   "cell_type": "markdown",
   "id": "801213b2",
   "metadata": {
    "tags": []
   },
   "source": [
    "## Load from TSV"
   ]
  },
  {
   "cell_type": "code",
   "execution_count": 5,
   "id": "8eb6c198",
   "metadata": {
    "execution": {
     "iopub.execute_input": "2022-04-03T21:03:15.951561Z",
     "iopub.status.busy": "2022-04-03T21:03:15.950592Z",
     "iopub.status.idle": "2022-04-03T21:03:16.859691Z",
     "shell.execute_reply": "2022-04-03T21:03:16.859338Z",
     "shell.execute_reply.started": "2022-04-03T21:03:15.951541Z"
    },
    "tags": []
   },
   "outputs": [],
   "source": [
    "from load_data import load_csv"
   ]
  },
  {
   "cell_type": "code",
   "execution_count": 7,
   "id": "a7922c8f",
   "metadata": {
    "execution": {
     "iopub.execute_input": "2022-04-03T21:03:59.797931Z",
     "iopub.status.busy": "2022-04-03T21:03:59.797761Z",
     "iopub.status.idle": "2022-04-03T21:04:02.011516Z",
     "shell.execute_reply": "2022-04-03T21:04:02.011192Z",
     "shell.execute_reply.started": "2022-04-03T21:03:59.797913Z"
    },
    "tags": []
   },
   "outputs": [
    {
     "data": {
      "text/plain": [
       "(460800,\n",
       " 'CATCTGAAGCTCGTTATCTCTAACGGAAGTTTTCGAAAAGGAAATTGCTCAATATCTAAGATAGGA',\n",
       " 460800,\n",
       " 0.6117667250932141)"
      ]
     },
     "execution_count": 7,
     "metadata": {},
     "output_type": "execute_result"
    }
   ],
   "source": [
    "# Load the sequences as numpy arrays\n",
    "seqs, targets = load_csv(OLS_TSV, target_col=\"ACTIVITY_SUMRNA_NUMDNA\")\n",
    "len(seqs), seqs[0], len(targets), targets[0]"
   ]
  },
  {
   "cell_type": "code",
   "execution_count": 8,
   "id": "3e6d1f26",
   "metadata": {
    "execution": {
     "iopub.execute_input": "2022-04-03T21:04:03.328157Z",
     "iopub.status.busy": "2022-04-03T21:04:03.327907Z",
     "iopub.status.idle": "2022-04-03T21:04:03.909179Z",
     "shell.execute_reply": "2022-04-03T21:04:03.908773Z",
     "shell.execute_reply.started": "2022-04-03T21:04:03.328139Z"
    },
    "tags": []
   },
   "outputs": [],
   "source": [
    "# Compose different data transforms for this particular load\n",
    "data_transform = transforms.Compose([\n",
    "    Augment(randomize_linker_p=0.1, enhancer=\"WT-otx-a\"), ReverseComplement(ohe_encoded=False), OneHotEncode(), ToTensor(transpose=False)\n",
    "])"
   ]
  },
  {
   "cell_type": "markdown",
   "id": "f1f4bbd5",
   "metadata": {
    "tags": []
   },
   "source": [
    "## Load from Numpy arrays"
   ]
  },
  {
   "cell_type": "code",
   "execution_count": 9,
   "id": "c3484f86",
   "metadata": {
    "execution": {
     "iopub.execute_input": "2022-04-03T21:04:05.536745Z",
     "iopub.status.busy": "2022-04-03T21:04:05.536494Z",
     "iopub.status.idle": "2022-04-03T21:04:06.112999Z",
     "shell.execute_reply": "2022-04-03T21:04:06.112601Z",
     "shell.execute_reply.started": "2022-04-03T21:04:05.536726Z"
    },
    "tags": []
   },
   "outputs": [],
   "source": [
    "from load_data import load_numpy"
   ]
  },
  {
   "cell_type": "code",
   "execution_count": 10,
   "id": "2ebce851",
   "metadata": {
    "execution": {
     "iopub.execute_input": "2022-04-03T21:04:06.115825Z",
     "iopub.status.busy": "2022-04-03T21:04:06.114930Z",
     "iopub.status.idle": "2022-04-03T21:04:08.103259Z",
     "shell.execute_reply": "2022-04-03T21:04:08.102947Z",
     "shell.execute_reply.started": "2022-04-03T21:04:06.115805Z"
    },
    "tags": []
   },
   "outputs": [
    {
     "data": {
      "text/plain": [
       "(array([[0., 1., 0., 0.],\n",
       "        [1., 0., 0., 0.],\n",
       "        [0., 0., 0., 1.],\n",
       "        [0., 1., 0., 0.],\n",
       "        [0., 0., 0., 1.]]),\n",
       " 1.0)"
      ]
     },
     "execution_count": 10,
     "metadata": {},
     "output_type": "execute_result"
    }
   ],
   "source": [
    "# Load the sequences as numpy arrays\n",
    "seqs, targets = load_numpy(NUMPY_OHE, BINARY_TARGET)\n",
    "seqs[0][:5], targets[0]"
   ]
  },
  {
   "cell_type": "code",
   "execution_count": 11,
   "id": "89924b0c",
   "metadata": {
    "execution": {
     "iopub.execute_input": "2022-04-03T21:04:08.105874Z",
     "iopub.status.busy": "2022-04-03T21:04:08.105015Z",
     "iopub.status.idle": "2022-04-03T21:04:08.833339Z",
     "shell.execute_reply": "2022-04-03T21:04:08.832961Z",
     "shell.execute_reply.started": "2022-04-03T21:04:08.105854Z"
    },
    "tags": []
   },
   "outputs": [],
   "source": [
    "# Compose different data transforms for this particular load\n",
    "data_transform = transforms.Compose([ToTensor(transpose=False)])"
   ]
  },
  {
   "cell_type": "markdown",
   "id": "5c3d76a5",
   "metadata": {
    "tags": []
   },
   "source": [
    "## Load from Fasta"
   ]
  },
  {
   "cell_type": "code",
   "execution_count": 12,
   "id": "2a0d09c3",
   "metadata": {
    "execution": {
     "iopub.execute_input": "2022-04-03T21:04:10.049616Z",
     "iopub.status.busy": "2022-04-03T21:04:10.048613Z",
     "iopub.status.idle": "2022-04-03T21:04:10.764298Z",
     "shell.execute_reply": "2022-04-03T21:04:10.763891Z",
     "shell.execute_reply.started": "2022-04-03T21:04:10.049596Z"
    },
    "tags": []
   },
   "outputs": [],
   "source": [
    "from load_data import load_fasta"
   ]
  },
  {
   "cell_type": "code",
   "execution_count": 13,
   "id": "8b0831bd",
   "metadata": {
    "execution": {
     "iopub.execute_input": "2022-04-03T21:04:10.767150Z",
     "iopub.status.busy": "2022-04-03T21:04:10.766260Z",
     "iopub.status.idle": "2022-04-03T21:04:11.388997Z",
     "shell.execute_reply": "2022-04-03T21:04:11.388613Z",
     "shell.execute_reply.started": "2022-04-03T21:04:10.767131Z"
    },
    "tags": []
   },
   "outputs": [],
   "source": [
    "# Define vars as file names\n",
    "seq_file = FASTA_SEQS\n",
    "target_file = BINARY_TARGET"
   ]
  },
  {
   "cell_type": "code",
   "execution_count": 14,
   "id": "2ccf31f9",
   "metadata": {
    "execution": {
     "iopub.execute_input": "2022-04-03T21:04:11.391869Z",
     "iopub.status.busy": "2022-04-03T21:04:11.390977Z",
     "iopub.status.idle": "2022-04-03T21:04:13.432442Z",
     "shell.execute_reply": "2022-04-03T21:04:13.432135Z",
     "shell.execute_reply.started": "2022-04-03T21:04:11.391849Z"
    },
    "tags": []
   },
   "outputs": [
    {
     "data": {
      "text/plain": [
       "('CATCTGAAGCTCAATATCTACTTCCGTTGCTCATTTCCTTTTTCGAACCTATCTTTAGAGATAACA', 1.0)"
      ]
     },
     "execution_count": 14,
     "metadata": {},
     "output_type": "execute_result"
    }
   ],
   "source": [
    "# Load the sequences as numpy arrays\n",
    "seqs, targets = load_fasta(seq_file, target_file)\n",
    "seqs[0], targets[0]"
   ]
  },
  {
   "cell_type": "code",
   "execution_count": 15,
   "id": "786c1a20",
   "metadata": {
    "execution": {
     "iopub.execute_input": "2022-04-03T21:04:13.435024Z",
     "iopub.status.busy": "2022-04-03T21:04:13.434155Z",
     "iopub.status.idle": "2022-04-03T21:04:14.343630Z",
     "shell.execute_reply": "2022-04-03T21:04:14.343213Z",
     "shell.execute_reply.started": "2022-04-03T21:04:13.435004Z"
    },
    "tags": []
   },
   "outputs": [],
   "source": [
    "# Compose different data transforms for this particular load\n",
    "data_transform = transforms.Compose([\n",
    "    Augment(randomize_linker_p=0.1, enhancer=\"WT-otx-a\"), OneHotEncode(), ToTensor(transpose=False)\n",
    "])"
   ]
  },
  {
   "cell_type": "markdown",
   "id": "3a09f004",
   "metadata": {
    "tags": []
   },
   "source": [
    "## Build MPRADataset"
   ]
  },
  {
   "cell_type": "code",
   "execution_count": 16,
   "id": "3a1bff3f",
   "metadata": {
    "execution": {
     "iopub.execute_input": "2022-04-03T21:04:14.346602Z",
     "iopub.status.busy": "2022-04-03T21:04:14.345712Z",
     "iopub.status.idle": "2022-04-03T21:04:15.054405Z",
     "shell.execute_reply": "2022-04-03T21:04:15.054049Z",
     "shell.execute_reply.started": "2022-04-03T21:04:14.346583Z"
    },
    "tags": []
   },
   "outputs": [],
   "source": [
    "# Instantiate a Dataset\n",
    "ols_dataset = MPRADataset(seqs, targets, transform=data_transform)"
   ]
  },
  {
   "cell_type": "code",
   "execution_count": 17,
   "id": "54c1ea05",
   "metadata": {
    "execution": {
     "iopub.execute_input": "2022-04-03T21:04:15.057231Z",
     "iopub.status.busy": "2022-04-03T21:04:15.056339Z",
     "iopub.status.idle": "2022-04-03T21:04:16.203444Z",
     "shell.execute_reply": "2022-04-03T21:04:16.203137Z",
     "shell.execute_reply.started": "2022-04-03T21:04:15.057211Z"
    },
    "tags": []
   },
   "outputs": [
    {
     "name": "stdout",
     "output_type": "stream",
     "text": [
      "0 torch.Size([66, 4]) tensor(1.)\n",
      "1 torch.Size([66, 4]) tensor(1.)\n",
      "2 torch.Size([66, 4]) tensor(0.)\n",
      "3 torch.Size([66, 4]) tensor(1.)\n"
     ]
    }
   ],
   "source": [
    "# Check the Dataset Class\n",
    "for i in range(len(ols_dataset)):\n",
    "    sample = ols_dataset[i]\n",
    "    print(i, sample['sequence'].size(), sample['target'])\n",
    "    if \"reverse_complement\" in sample:\n",
    "        print(sample[\"reverse_complement\"].size())\n",
    "    if i == 3:\n",
    "        break"
   ]
  },
  {
   "cell_type": "markdown",
   "id": "ac70e9b0",
   "metadata": {
    "tags": []
   },
   "source": [
    "## Build DataLoader"
   ]
  },
  {
   "cell_type": "code",
   "execution_count": 18,
   "id": "af4d624e",
   "metadata": {
    "execution": {
     "iopub.execute_input": "2022-04-03T21:04:18.458546Z",
     "iopub.status.busy": "2022-04-03T21:04:18.458380Z",
     "iopub.status.idle": "2022-04-03T21:04:19.415208Z",
     "shell.execute_reply": "2022-04-03T21:04:19.414801Z",
     "shell.execute_reply.started": "2022-04-03T21:04:18.458530Z"
    },
    "tags": []
   },
   "outputs": [],
   "source": [
    "# Instantiate a DataLoader\n",
    "ols_dataloader = DataLoader(ols_dataset, batch_size=512, shuffle=True, num_workers=0)"
   ]
  },
  {
   "cell_type": "code",
   "execution_count": 19,
   "id": "1909df0d",
   "metadata": {
    "execution": {
     "iopub.execute_input": "2022-04-03T21:04:20.364812Z",
     "iopub.status.busy": "2022-04-03T21:04:20.363844Z",
     "iopub.status.idle": "2022-04-03T21:04:21.545590Z",
     "shell.execute_reply": "2022-04-03T21:04:21.545267Z",
     "shell.execute_reply.started": "2022-04-03T21:04:20.364792Z"
    },
    "tags": []
   },
   "outputs": [
    {
     "name": "stdout",
     "output_type": "stream",
     "text": [
      "0 torch.Size([512, 66, 4]) torch.Size([512])\n",
      "1 torch.Size([512, 66, 4]) torch.Size([512])\n",
      "2 torch.Size([512, 66, 4]) torch.Size([512])\n",
      "3 torch.Size([512, 66, 4]) torch.Size([512])\n"
     ]
    }
   ],
   "source": [
    "# Check the DataLoader\n",
    "for i_batch, sample_batched in enumerate(ols_dataloader):\n",
    "    print(i_batch, sample_batched['sequence'].size(),\n",
    "          sample_batched['target'].size())\n",
    "    if \"reverse_complement\" in sample_batched:\n",
    "        print(sample_batched[\"reverse_complement\"].size())\n",
    "    # observe 4th batch and stop.\n",
    "    if i_batch == 3:\n",
    "        break"
   ]
  },
  {
   "cell_type": "markdown",
   "id": "fd472fda",
   "metadata": {
    "tags": []
   },
   "source": [
    "# MPRADataModule\n",
    "PyTorch Lightning DataModule class for MPRA data that allows for asbtracting most of the dataloading process. These DataModules can be passed straight to trainers for model training."
   ]
  },
  {
   "cell_type": "code",
   "execution_count": 20,
   "id": "38b33ea4",
   "metadata": {
    "execution": {
     "iopub.execute_input": "2022-04-03T21:04:23.330357Z",
     "iopub.status.busy": "2022-04-03T21:04:23.330119Z",
     "iopub.status.idle": "2022-04-03T21:04:49.747442Z",
     "shell.execute_reply": "2022-04-03T21:04:49.747070Z",
     "shell.execute_reply.started": "2022-04-03T21:04:23.330339Z"
    },
    "tags": []
   },
   "outputs": [],
   "source": [
    "from MPRADataModule import MPRADataModule"
   ]
  },
  {
   "cell_type": "code",
   "execution_count": 21,
   "id": "76c611c2",
   "metadata": {
    "execution": {
     "iopub.execute_input": "2022-04-03T21:04:49.750342Z",
     "iopub.status.busy": "2022-04-03T21:04:49.749462Z",
     "iopub.status.idle": "2022-04-03T21:04:51.044884Z",
     "shell.execute_reply": "2022-04-03T21:04:51.044501Z",
     "shell.execute_reply.started": "2022-04-03T21:04:49.750321Z"
    },
    "tags": []
   },
   "outputs": [],
   "source": [
    "data_transform = transforms.Compose([\n",
    "    Augment(randomize_linker_p=0.1, enhancer=\"WT-otx-a\"), \n",
    "    ReverseComplement(ohe_encoded=False), \n",
    "    OneHotEncode(), \n",
    "    ToTensor(transpose=True)\n",
    "])"
   ]
  },
  {
   "cell_type": "code",
   "execution_count": 23,
   "id": "b5f5371d",
   "metadata": {
    "execution": {
     "iopub.execute_input": "2022-04-03T21:05:31.776795Z",
     "iopub.status.busy": "2022-04-03T21:05:31.776627Z",
     "iopub.status.idle": "2022-04-03T21:05:32.822917Z",
     "shell.execute_reply": "2022-04-03T21:05:32.822531Z",
     "shell.execute_reply.started": "2022-04-03T21:05:31.776778Z"
    },
    "tags": []
   },
   "outputs": [],
   "source": [
    "ols_datamodule = MPRADataModule(seq_file=OLS_TSV,\n",
    "                                transform=data_transform,\n",
    "                                num_workers=4,\n",
    "                                batch_size=128,\n",
    "                                load_kwargs=dict(target_col=\"ACTIVITY_SUMRNA_NUMDNA\", low_thresh=0.18, high_thresh=0.4))"
   ]
  }
 ],
 "metadata": {
  "kernelspec": {
   "display_name": "Python 3 pytorch_dev",
   "language": "python",
   "name": "pytorch_dev"
  },
  "language_info": {
   "codemirror_mode": {
    "name": "ipython",
    "version": 3
   },
   "file_extension": ".py",
   "mimetype": "text/x-python",
   "name": "python",
   "nbconvert_exporter": "python",
   "pygments_lexer": "ipython3",
   "version": "3.7.12"
  }
 },
 "nbformat": 4,
 "nbformat_minor": 5
}

{
 "cells": [
  {
   "cell_type": "markdown",
   "id": "47cc2c48",
   "metadata": {},
   "source": [
    "# Testing EUGENE training"
   ]
  },
  {
   "cell_type": "markdown",
   "id": "3b1880c3",
   "metadata": {
    "tags": []
   },
   "source": [
    "**Authorship:**\n",
    "Adam Klie, *03/19/2022*\n",
    "***\n",
    "**Description:**\n",
    "Notebook for testing the training of EUGENE architectures"
   ]
  },
  {
   "cell_type": "markdown",
   "id": "599007ce",
   "metadata": {},
   "source": [
    "<div class=\"alert alert-block alert-warning\">\n",
    "<b>TODOs</b>:\n",
    "<ul>\n",
    "    <b><li></li></b>\n",
    "    </ul>\n",
    "</div>"
   ]
  },
  {
   "cell_type": "markdown",
   "id": "41832ecc-a51e-4311-9372-b4a1ffb40139",
   "metadata": {},
   "source": [
    "# Set-up"
   ]
  },
  {
   "cell_type": "code",
   "execution_count": 1,
   "id": "1dd9ef33",
   "metadata": {
    "execution": {
     "iopub.execute_input": "2022-05-14T18:50:04.936587Z",
     "iopub.status.busy": "2022-05-14T18:50:04.936451Z",
     "iopub.status.idle": "2022-05-14T18:50:07.222716Z",
     "shell.execute_reply": "2022-05-14T18:50:07.222324Z",
     "shell.execute_reply.started": "2022-05-14T18:50:04.936548Z"
    },
    "tags": []
   },
   "outputs": [],
   "source": [
    "import numpy as np\n",
    "import pandas as pd\n",
    "\n",
    "# Autoreload extension\n",
    "if 'autoreload' not in get_ipython().extension_manager.loaded:\n",
    "    %load_ext autoreload\n",
    "%autoreload 2"
   ]
  },
  {
   "cell_type": "code",
   "execution_count": 2,
   "id": "bf8a26fe-0272-4533-b8cc-7a3c8e532ff0",
   "metadata": {
    "execution": {
     "iopub.execute_input": "2022-05-14T18:50:07.223442Z",
     "iopub.status.busy": "2022-05-14T18:50:07.223328Z",
     "iopub.status.idle": "2022-05-14T18:50:20.440032Z",
     "shell.execute_reply": "2022-05-14T18:50:20.439656Z",
     "shell.execute_reply.started": "2022-05-14T18:50:07.223423Z"
    },
    "tags": []
   },
   "outputs": [],
   "source": [
    "from eugene.dataloading.SeqDataModule import SeqDataModule"
   ]
  },
  {
   "cell_type": "markdown",
   "id": "e5602c89-ac01-44be-9d44-91eff5453329",
   "metadata": {},
   "source": [
    "# Model params"
   ]
  },
  {
   "cell_type": "code",
   "execution_count": 3,
   "id": "582d6abc-dc11-45f4-9fd7-85c694537079",
   "metadata": {
    "execution": {
     "iopub.execute_input": "2022-05-14T18:50:20.441634Z",
     "iopub.status.busy": "2022-05-14T18:50:20.441531Z",
     "iopub.status.idle": "2022-05-14T18:50:21.998837Z",
     "shell.execute_reply": "2022-05-14T18:50:21.998333Z",
     "shell.execute_reply.started": "2022-05-14T18:50:20.441619Z"
    },
    "tags": []
   },
   "outputs": [],
   "source": [
    "MODEL = \"hybrid\"\n",
    "STRAND = \"ss\"\n",
    "TASK = \"regression\""
   ]
  },
  {
   "cell_type": "markdown",
   "id": "5aa43cca-9ceb-4c6e-be78-4e73569d1331",
   "metadata": {},
   "source": [
    "# Instantiate model and data via config"
   ]
  },
  {
   "cell_type": "code",
   "execution_count": 4,
   "id": "42962217-79a1-431b-a03f-80785111e646",
   "metadata": {
    "execution": {
     "iopub.execute_input": "2022-05-14T18:50:21.999917Z",
     "iopub.status.busy": "2022-05-14T18:50:21.999795Z",
     "iopub.status.idle": "2022-05-14T18:50:24.321460Z",
     "shell.execute_reply": "2022-05-14T18:50:24.320948Z",
     "shell.execute_reply.started": "2022-05-14T18:50:21.999901Z"
    },
    "tags": []
   },
   "outputs": [],
   "source": [
    "import claim.utils as cu\n",
    "from eugene.models.fcn import FCN\n",
    "from eugene.models.cnn import CNN\n",
    "from eugene.models.rnn import RNN\n",
    "from eugene.models.hybrid import hybrid"
   ]
  },
  {
   "cell_type": "code",
   "execution_count": 5,
   "id": "76337125-47b3-496c-be13-06e22ce8e4bb",
   "metadata": {
    "execution": {
     "iopub.execute_input": "2022-05-14T18:50:24.322285Z",
     "iopub.status.busy": "2022-05-14T18:50:24.322157Z",
     "iopub.status.idle": "2022-05-14T18:50:26.179090Z",
     "shell.execute_reply": "2022-05-14T18:50:26.178473Z",
     "shell.execute_reply.started": "2022-05-14T18:50:24.322269Z"
    },
    "tags": []
   },
   "outputs": [],
   "source": [
    "import pytorch_lightning as pl\n",
    "from pytorch_lightning.utilities.cli import LightningArgumentParser\n",
    "from pytorch_lightning.loggers import TensorBoardLogger"
   ]
  },
  {
   "cell_type": "code",
   "execution_count": 6,
   "id": "b005f679-0763-447a-8fbb-cc9fe91c9b86",
   "metadata": {
    "execution": {
     "iopub.execute_input": "2022-05-14T18:50:26.180047Z",
     "iopub.status.busy": "2022-05-14T18:50:26.179917Z",
     "iopub.status.idle": "2022-05-14T18:50:27.936638Z",
     "shell.execute_reply": "2022-05-14T18:50:27.936156Z",
     "shell.execute_reply.started": "2022-05-14T18:50:26.180030Z"
    },
    "tags": []
   },
   "outputs": [],
   "source": [
    "parser = LightningArgumentParser()\n",
    "parser.add_lightning_class_args(pl.Trainer, nested_key=\"trainer\")\n",
    "parser.add_lightning_class_args(SeqDataModule, nested_key=\"data\")\n",
    "parser.add_lightning_class_args(FCN, nested_key=\"model\");"
   ]
  },
  {
   "cell_type": "code",
   "execution_count": 126,
   "id": "bf78b59e-36d4-4ef3-9b14-62a99e436a87",
   "metadata": {
    "execution": {
     "iopub.execute_input": "2022-05-14T19:17:56.785038Z",
     "iopub.status.busy": "2022-05-14T19:17:56.784825Z",
     "iopub.status.idle": "2022-05-14T19:17:58.083188Z",
     "shell.execute_reply": "2022-05-14T19:17:58.082646Z",
     "shell.execute_reply.started": "2022-05-14T19:17:56.785021Z"
    },
    "tags": []
   },
   "outputs": [
    {
     "ename": "TypeError",
     "evalue": "File does not exist: /cellar/users/aklie/projects/EUGENE/config/full/1_full_fcn.yaml",
     "output_type": "error",
     "traceback": [
      "\u001b[0;31m---------------------------------------------------------------------------\u001b[0m",
      "\u001b[0;31mTypeError\u001b[0m                                 Traceback (most recent call last)",
      "\u001b[0;32m<ipython-input-126-4d6b0aa43746>\u001b[0m in \u001b[0;36m<module>\u001b[0;34m\u001b[0m\n\u001b[1;32m      1\u001b[0m \u001b[0mconfig\u001b[0m \u001b[0;34m=\u001b[0m \u001b[0;34m\"/cellar/users/aklie/projects/EUGENE/config/full/1_full_fcn.yaml\"\u001b[0m\u001b[0;34m\u001b[0m\u001b[0;34m\u001b[0m\u001b[0m\n\u001b[0;32m----> 2\u001b[0;31m \u001b[0myml\u001b[0m \u001b[0;34m=\u001b[0m \u001b[0mparser\u001b[0m\u001b[0;34m.\u001b[0m\u001b[0mparse_path\u001b[0m\u001b[0;34m(\u001b[0m\u001b[0mcfg_path\u001b[0m\u001b[0;34m=\u001b[0m\u001b[0mconfig\u001b[0m\u001b[0;34m)\u001b[0m\u001b[0;34m\u001b[0m\u001b[0;34m\u001b[0m\u001b[0m\n\u001b[0m\u001b[1;32m      3\u001b[0m \u001b[0mmod\u001b[0m \u001b[0;34m=\u001b[0m \u001b[0mSeqDataModule\u001b[0m\u001b[0;34m(\u001b[0m\u001b[0;34m**\u001b[0m\u001b[0myml\u001b[0m\u001b[0;34m[\u001b[0m\u001b[0;34m\"data\"\u001b[0m\u001b[0;34m]\u001b[0m\u001b[0;34m)\u001b[0m\u001b[0;34m\u001b[0m\u001b[0;34m\u001b[0m\u001b[0m\n\u001b[1;32m      4\u001b[0m \u001b[0meugene\u001b[0m \u001b[0;34m=\u001b[0m \u001b[0mFCN\u001b[0m\u001b[0;34m(\u001b[0m\u001b[0;34m**\u001b[0m\u001b[0myml\u001b[0m\u001b[0;34m[\u001b[0m\u001b[0;34m\"model\"\u001b[0m\u001b[0;34m]\u001b[0m\u001b[0;34m)\u001b[0m\u001b[0;34m\u001b[0m\u001b[0;34m\u001b[0m\u001b[0m\n",
      "\u001b[0;32m~/opt/miniconda3/envs/pytorch_dev/lib/python3.7/site-packages/jsonargparse/core.py\u001b[0m in \u001b[0;36mparse_path\u001b[0;34m(self, cfg_path, ext_vars, env, defaults, with_meta, _skip_check, _fail_no_subcommand)\u001b[0m\n\u001b[1;32m    504\u001b[0m             \u001b[0mParserError\u001b[0m\u001b[0;34m:\u001b[0m \u001b[0mIf\u001b[0m \u001b[0mthere\u001b[0m \u001b[0;32mis\u001b[0m \u001b[0ma\u001b[0m \u001b[0mparsing\u001b[0m \u001b[0merror\u001b[0m \u001b[0;32mand\u001b[0m \u001b[0merror_handler\u001b[0m\u001b[0;34m=\u001b[0m\u001b[0;32mNone\u001b[0m\u001b[0;34m.\u001b[0m\u001b[0;34m\u001b[0m\u001b[0;34m\u001b[0m\u001b[0m\n\u001b[1;32m    505\u001b[0m         \"\"\"\n\u001b[0;32m--> 506\u001b[0;31m         \u001b[0mfpath\u001b[0m \u001b[0;34m=\u001b[0m \u001b[0mPath\u001b[0m\u001b[0;34m(\u001b[0m\u001b[0mcfg_path\u001b[0m\u001b[0;34m,\u001b[0m \u001b[0mmode\u001b[0m\u001b[0;34m=\u001b[0m\u001b[0mget_config_read_mode\u001b[0m\u001b[0;34m(\u001b[0m\u001b[0;34m)\u001b[0m\u001b[0;34m)\u001b[0m\u001b[0;34m\u001b[0m\u001b[0;34m\u001b[0m\u001b[0m\n\u001b[0m\u001b[1;32m    507\u001b[0m         \u001b[0;32mwith\u001b[0m \u001b[0mchange_to_path_dir\u001b[0m\u001b[0;34m(\u001b[0m\u001b[0mfpath\u001b[0m\u001b[0;34m)\u001b[0m\u001b[0;34m:\u001b[0m\u001b[0;34m\u001b[0m\u001b[0;34m\u001b[0m\u001b[0m\n\u001b[1;32m    508\u001b[0m             \u001b[0mcfg_str\u001b[0m \u001b[0;34m=\u001b[0m \u001b[0mfpath\u001b[0m\u001b[0;34m.\u001b[0m\u001b[0mget_content\u001b[0m\u001b[0;34m(\u001b[0m\u001b[0;34m)\u001b[0m\u001b[0;34m\u001b[0m\u001b[0;34m\u001b[0m\u001b[0m\n",
      "\u001b[0;32m~/opt/miniconda3/envs/pytorch_dev/lib/python3.7/site-packages/jsonargparse/util.py\u001b[0m in \u001b[0;36m__init__\u001b[0;34m(self, path, mode, cwd, skip_check)\u001b[0m\n\u001b[1;32m    290\u001b[0m             \u001b[0;32melse\u001b[0m\u001b[0;34m:\u001b[0m\u001b[0;34m\u001b[0m\u001b[0;34m\u001b[0m\u001b[0m\n\u001b[1;32m    291\u001b[0m                 \u001b[0;32mif\u001b[0m \u001b[0;32mnot\u001b[0m \u001b[0mos\u001b[0m\u001b[0;34m.\u001b[0m\u001b[0maccess\u001b[0m\u001b[0;34m(\u001b[0m\u001b[0mabs_path\u001b[0m\u001b[0;34m,\u001b[0m \u001b[0mos\u001b[0m\u001b[0;34m.\u001b[0m\u001b[0mF_OK\u001b[0m\u001b[0;34m)\u001b[0m\u001b[0;34m:\u001b[0m\u001b[0;34m\u001b[0m\u001b[0;34m\u001b[0m\u001b[0m\n\u001b[0;32m--> 292\u001b[0;31m                     \u001b[0;32mraise\u001b[0m \u001b[0mTypeError\u001b[0m\u001b[0;34m(\u001b[0m\u001b[0mptype\u001b[0m\u001b[0;34m+\u001b[0m\u001b[0;34m' does not exist: '\u001b[0m\u001b[0;34m+\u001b[0m\u001b[0mabs_path\u001b[0m\u001b[0;34m)\u001b[0m\u001b[0;34m\u001b[0m\u001b[0;34m\u001b[0m\u001b[0m\n\u001b[0m\u001b[1;32m    293\u001b[0m                 \u001b[0;32mif\u001b[0m \u001b[0;34m'd'\u001b[0m \u001b[0;32min\u001b[0m \u001b[0mmode\u001b[0m \u001b[0;32mand\u001b[0m \u001b[0;32mnot\u001b[0m \u001b[0mos\u001b[0m\u001b[0;34m.\u001b[0m\u001b[0mpath\u001b[0m\u001b[0;34m.\u001b[0m\u001b[0misdir\u001b[0m\u001b[0;34m(\u001b[0m\u001b[0mabs_path\u001b[0m\u001b[0;34m)\u001b[0m\u001b[0;34m:\u001b[0m\u001b[0;34m\u001b[0m\u001b[0;34m\u001b[0m\u001b[0m\n\u001b[1;32m    294\u001b[0m                     \u001b[0;32mraise\u001b[0m \u001b[0mTypeError\u001b[0m\u001b[0;34m(\u001b[0m\u001b[0;34m'Path is not a directory: '\u001b[0m\u001b[0;34m+\u001b[0m\u001b[0mabs_path\u001b[0m\u001b[0;34m)\u001b[0m\u001b[0;34m\u001b[0m\u001b[0;34m\u001b[0m\u001b[0m\n",
      "\u001b[0;31mTypeError\u001b[0m: File does not exist: /cellar/users/aklie/projects/EUGENE/config/full/1_full_fcn.yaml"
     ]
    }
   ],
   "source": [
    "config = \"/cellar/users/aklie/projects/EUGENE/config/full/1_full_fcn.yaml\"\n",
    "yml = parser.parse_path(cfg_path=config)\n",
    "mod = SeqDataModule(**yml[\"data\"])\n",
    "eugene = FCN(**yml[\"model\"])"
   ]
  },
  {
   "cell_type": "code",
   "execution_count": 188,
   "id": "8a0e1439-51cc-41f0-9b57-cb727d93d06c",
   "metadata": {
    "execution": {
     "iopub.execute_input": "2022-05-14T19:32:16.783987Z",
     "iopub.status.busy": "2022-05-14T19:32:16.783761Z",
     "iopub.status.idle": "2022-05-14T19:32:18.500747Z",
     "shell.execute_reply": "2022-05-14T19:32:18.500391Z",
     "shell.execute_reply.started": "2022-05-14T19:32:16.783967Z"
    },
    "tags": []
   },
   "outputs": [
    {
     "name": "stderr",
     "output_type": "stream",
     "text": [
      "Global seed set to 13\n"
     ]
    },
    {
     "data": {
      "text/plain": [
       "13"
      ]
     },
     "execution_count": 188,
     "metadata": {},
     "output_type": "execute_result"
    }
   ],
   "source": [
    "from pytorch_lightning.utilities.seed import seed_everything\n",
    "seed_everything(13, workers=True)"
   ]
  },
  {
   "cell_type": "code",
   "execution_count": 218,
   "id": "41692109-1ca0-4d64-bf02-21ef531af196",
   "metadata": {
    "execution": {
     "iopub.execute_input": "2022-05-14T20:05:42.799001Z",
     "iopub.status.busy": "2022-05-14T20:05:42.798738Z",
     "iopub.status.idle": "2022-05-14T20:05:47.235810Z",
     "shell.execute_reply": "2022-05-14T20:05:47.235321Z",
     "shell.execute_reply.started": "2022-05-14T20:05:42.798979Z"
    },
    "tags": []
   },
   "outputs": [],
   "source": [
    "data_config = \"/cellar/users/aklie/projects/EUGENE/config/data/train/2021_OLS_Library_Training_NPY-T_bin_clf.yaml\"\n",
    "data_yml = parser.parse_path(cfg_path=data_config)\n",
    "mod = SeqDataModule(**data_yml[\"data\"])\n",
    "mod.setup()"
   ]
  },
  {
   "cell_type": "code",
   "execution_count": 197,
   "id": "87121471-58fe-43ca-946c-cfc5c72b4da3",
   "metadata": {
    "execution": {
     "iopub.execute_input": "2022-05-14T19:39:42.872694Z",
     "iopub.status.busy": "2022-05-14T19:39:42.872551Z",
     "iopub.status.idle": "2022-05-14T19:39:43.588056Z",
     "shell.execute_reply": "2022-05-14T19:39:43.587749Z",
     "shell.execute_reply.started": "2022-05-14T19:39:42.872676Z"
    },
    "tags": []
   },
   "outputs": [
    {
     "data": {
      "text/plain": [
       "'S2-G3R-S1-G1F-S4-G2R-S3-E1R-S5-E2F-S6'"
      ]
     },
     "execution_count": 197,
     "metadata": {},
     "output_type": "execute_result"
    }
   ],
   "source": [
    "from eugene.utils.seq_utils import ascii_decode\n",
    "ascii_decode(mod.val_dataloader().dataset[0][0])"
   ]
  },
  {
   "cell_type": "code",
   "execution_count": 198,
   "id": "d666a7a7-3b11-4ca8-b3e7-0fd2ea174aeb",
   "metadata": {
    "execution": {
     "iopub.execute_input": "2022-05-14T19:39:46.032731Z",
     "iopub.status.busy": "2022-05-14T19:39:46.032555Z",
     "iopub.status.idle": "2022-05-14T19:39:46.767759Z",
     "shell.execute_reply": "2022-05-14T19:39:46.767444Z",
     "shell.execute_reply.started": "2022-05-14T19:39:46.032712Z"
    },
    "tags": []
   },
   "outputs": [
    {
     "data": {
      "text/plain": [
       "'S2-G3R-S1-G1F-S4-G2R-S3-E1R-S5-E2F-S6'"
      ]
     },
     "execution_count": 198,
     "metadata": {},
     "output_type": "execute_result"
    }
   ],
   "source": [
    "ascii_decode(mod.val_dataloader().dataset[0][0])"
   ]
  },
  {
   "cell_type": "code",
   "execution_count": 208,
   "id": "f2313395-dbff-4188-9763-40d21f0b2b2c",
   "metadata": {
    "execution": {
     "iopub.execute_input": "2022-05-14T19:42:32.033677Z",
     "iopub.status.busy": "2022-05-14T19:42:32.033502Z",
     "iopub.status.idle": "2022-05-14T19:42:32.917887Z",
     "shell.execute_reply": "2022-05-14T19:42:32.917400Z",
     "shell.execute_reply.started": "2022-05-14T19:42:32.033659Z"
    },
    "tags": []
   },
   "outputs": [],
   "source": [
    "ind = "
   ]
  },
  {
   "cell_type": "code",
   "execution_count": 214,
   "id": "7688213e-3917-4a96-8ead-c9d62d03ed65",
   "metadata": {
    "execution": {
     "iopub.execute_input": "2022-05-14T20:01:49.803537Z",
     "iopub.status.busy": "2022-05-14T20:01:49.803303Z",
     "iopub.status.idle": "2022-05-14T20:01:50.967270Z",
     "shell.execute_reply": "2022-05-14T20:01:50.966827Z",
     "shell.execute_reply.started": "2022-05-14T20:01:49.803506Z"
    },
    "tags": []
   },
   "outputs": [
    {
     "data": {
      "text/plain": [
       "array(['S4-E1F-S1-G2F-S3-G1F-S5-E2F-S2-G3F-S6',\n",
       "       'S3-E2R-S2-E1R-S4-G3F-S5-G2R-S1-G1R-S6',\n",
       "       'S5-E2F-S1-G2R-S2-G1F-S4-G3F-S3-E1F-S6', ...,\n",
       "       'S5-G2F-S1-E1F-S3-E2R-S2-G1F-S4-G3F-S6',\n",
       "       'S4-G2R-S5-G1R-S1-E1R-S2-G3F-S3-E2F-S6',\n",
       "       'S1-G2F-S4-E2R-S2-G1F-S3-G3F-S5-E1F-S6'], dtype='<U37')"
      ]
     },
     "execution_count": 214,
     "metadata": {},
     "output_type": "execute_result"
    }
   ],
   "source": [
    "train_names = mod.train.dataset.names[mod.train.indices]\n",
    "train_names"
   ]
  },
  {
   "cell_type": "code",
   "execution_count": 210,
   "id": "ce139a16-b7fe-4ae2-a395-6db2b52c7fa0",
   "metadata": {
    "execution": {
     "iopub.execute_input": "2022-05-14T19:42:40.783002Z",
     "iopub.status.busy": "2022-05-14T19:42:40.782846Z",
     "iopub.status.idle": "2022-05-14T19:42:41.718598Z",
     "shell.execute_reply": "2022-05-14T19:42:41.718162Z",
     "shell.execute_reply.started": "2022-05-14T19:42:40.782985Z"
    },
    "tags": []
   },
   "outputs": [
    {
     "data": {
      "text/plain": [
       "177793"
      ]
     },
     "execution_count": 210,
     "metadata": {},
     "output_type": "execute_result"
    }
   ],
   "source": [
    "test = pd.read_csv(\"../test/test_OLS_Library/train_preds.tsv\", sep=\"\\t\", index_col=0)\n",
    "len(test)"
   ]
  },
  {
   "cell_type": "code",
   "execution_count": 211,
   "id": "4140a37b-4808-47ec-8ba1-9b70bf84cfce",
   "metadata": {
    "execution": {
     "iopub.execute_input": "2022-05-14T19:42:42.784399Z",
     "iopub.status.busy": "2022-05-14T19:42:42.784137Z",
     "iopub.status.idle": "2022-05-14T19:42:43.712897Z",
     "shell.execute_reply": "2022-05-14T19:42:43.712463Z",
     "shell.execute_reply.started": "2022-05-14T19:42:42.784368Z"
    },
    "tags": []
   },
   "outputs": [
    {
     "data": {
      "text/html": [
       "<div>\n",
       "<style scoped>\n",
       "    .dataframe tbody tr th:only-of-type {\n",
       "        vertical-align: middle;\n",
       "    }\n",
       "\n",
       "    .dataframe tbody tr th {\n",
       "        vertical-align: top;\n",
       "    }\n",
       "\n",
       "    .dataframe thead th {\n",
       "        text-align: right;\n",
       "    }\n",
       "</style>\n",
       "<table border=\"1\" class=\"dataframe\">\n",
       "  <thead>\n",
       "    <tr style=\"text-align: right;\">\n",
       "      <th></th>\n",
       "      <th>PREDICTION</th>\n",
       "      <th>TARGET</th>\n",
       "    </tr>\n",
       "    <tr>\n",
       "      <th>NAME</th>\n",
       "      <th></th>\n",
       "      <th></th>\n",
       "    </tr>\n",
       "  </thead>\n",
       "  <tbody>\n",
       "    <tr>\n",
       "      <th>S4-E1F-S1-G2F-S3-G1F-S5-E2F-S2-G3F-S6</th>\n",
       "      <td>-1.350716</td>\n",
       "      <td>0.0</td>\n",
       "    </tr>\n",
       "    <tr>\n",
       "      <th>S3-E2R-S2-E1R-S4-G3F-S5-G2R-S1-G1R-S6</th>\n",
       "      <td>-0.167723</td>\n",
       "      <td>1.0</td>\n",
       "    </tr>\n",
       "    <tr>\n",
       "      <th>S5-E2F-S1-G2R-S2-G1F-S4-G3F-S3-E1F-S6</th>\n",
       "      <td>-0.915863</td>\n",
       "      <td>0.0</td>\n",
       "    </tr>\n",
       "    <tr>\n",
       "      <th>S1-E2F-S2-G3F-S4-G1R-S3-G2F-S5-E1R-S6</th>\n",
       "      <td>0.294549</td>\n",
       "      <td>0.0</td>\n",
       "    </tr>\n",
       "    <tr>\n",
       "      <th>S4-E1R-S2-E2R-S5-G3R-S1-G2R-S3-G1R-S6</th>\n",
       "      <td>-0.775043</td>\n",
       "      <td>0.0</td>\n",
       "    </tr>\n",
       "    <tr>\n",
       "      <th>...</th>\n",
       "      <td>...</td>\n",
       "      <td>...</td>\n",
       "    </tr>\n",
       "    <tr>\n",
       "      <th>S2-E2R-S4-G3R-S3-G2F-S5-E1F-S1-G1F-S6</th>\n",
       "      <td>-0.133713</td>\n",
       "      <td>0.0</td>\n",
       "    </tr>\n",
       "    <tr>\n",
       "      <th>S4-E2R-S1-G1R-S3-G2F-S5-G3R-S2-E1F-S6</th>\n",
       "      <td>4.197554</td>\n",
       "      <td>1.0</td>\n",
       "    </tr>\n",
       "    <tr>\n",
       "      <th>S5-G2F-S1-E1F-S3-E2R-S2-G1F-S4-G3F-S6</th>\n",
       "      <td>-1.049379</td>\n",
       "      <td>1.0</td>\n",
       "    </tr>\n",
       "    <tr>\n",
       "      <th>S4-G2R-S5-G1R-S1-E1R-S2-G3F-S3-E2F-S6</th>\n",
       "      <td>2.489892</td>\n",
       "      <td>1.0</td>\n",
       "    </tr>\n",
       "    <tr>\n",
       "      <th>S1-G2F-S4-E2R-S2-G1F-S3-G3F-S5-E1F-S6</th>\n",
       "      <td>0.338648</td>\n",
       "      <td>0.0</td>\n",
       "    </tr>\n",
       "  </tbody>\n",
       "</table>\n",
       "<p>177793 rows × 2 columns</p>\n",
       "</div>"
      ],
      "text/plain": [
       "                                       PREDICTION  TARGET\n",
       "NAME                                                     \n",
       "S4-E1F-S1-G2F-S3-G1F-S5-E2F-S2-G3F-S6   -1.350716     0.0\n",
       "S3-E2R-S2-E1R-S4-G3F-S5-G2R-S1-G1R-S6   -0.167723     1.0\n",
       "S5-E2F-S1-G2R-S2-G1F-S4-G3F-S3-E1F-S6   -0.915863     0.0\n",
       "S1-E2F-S2-G3F-S4-G1R-S3-G2F-S5-E1R-S6    0.294549     0.0\n",
       "S4-E1R-S2-E2R-S5-G3R-S1-G2R-S3-G1R-S6   -0.775043     0.0\n",
       "...                                           ...     ...\n",
       "S2-E2R-S4-G3R-S3-G2F-S5-E1F-S1-G1F-S6   -0.133713     0.0\n",
       "S4-E2R-S1-G1R-S3-G2F-S5-G3R-S2-E1F-S6    4.197554     1.0\n",
       "S5-G2F-S1-E1F-S3-E2R-S2-G1F-S4-G3F-S6   -1.049379     1.0\n",
       "S4-G2R-S5-G1R-S1-E1R-S2-G3F-S3-E2F-S6    2.489892     1.0\n",
       "S1-G2F-S4-E2R-S2-G1F-S3-G3F-S5-E1F-S6    0.338648     0.0\n",
       "\n",
       "[177793 rows x 2 columns]"
      ]
     },
     "execution_count": 211,
     "metadata": {},
     "output_type": "execute_result"
    }
   ],
   "source": [
    "test.loc[names]"
   ]
  },
  {
   "cell_type": "code",
   "execution_count": 154,
   "id": "54ae3201-4cfc-4788-9a2d-a6b0266c4691",
   "metadata": {
    "execution": {
     "iopub.execute_input": "2022-05-14T19:23:11.785392Z",
     "iopub.status.busy": "2022-05-14T19:23:11.785159Z",
     "iopub.status.idle": "2022-05-14T19:23:13.466182Z",
     "shell.execute_reply": "2022-05-14T19:23:13.465831Z",
     "shell.execute_reply.started": "2022-05-14T19:23:11.785371Z"
    },
    "tags": []
   },
   "outputs": [
    {
     "data": {
      "text/plain": [
       "2041"
      ]
     },
     "execution_count": 154,
     "metadata": {},
     "output_type": "execute_result"
    }
   ],
   "source": [
    "np.sum(test.index.isin(names2))"
   ]
  },
  {
   "cell_type": "code",
   "execution_count": 109,
   "id": "03314564-ceac-4ff3-84fa-536a73c0ce71",
   "metadata": {
    "execution": {
     "iopub.execute_input": "2022-05-14T19:11:45.784096Z",
     "iopub.status.busy": "2022-05-14T19:11:45.783960Z",
     "iopub.status.idle": "2022-05-14T19:11:47.336181Z",
     "shell.execute_reply": "2022-05-14T19:11:47.335707Z",
     "shell.execute_reply.started": "2022-05-14T19:11:45.784079Z"
    },
    "tags": []
   },
   "outputs": [
    {
     "ename": "KeyError",
     "evalue": "\"Passing list-likes to .loc or [] with any missing labels is no longer supported. The following labels were missing: Index(['S5-E2F-S1-G2R-S2-G1F-S4-G3F-S3-E1F-S6',\\n       'S2-G1F-S3-G3F-S5-E1R-S4-E2R-S1-G2F-S6',\\n       'S4-E1R-S3-G3R-S1-G2R-S2-E2F-S5-G1F-S6',\\n       'S5-G1F-S3-E2F-S1-G3R-S4-G2R-S2-E1F-S6',\\n       'S4-E1R-S1-G1F-S5-E2F-S2-G2F-S3-G3R-S6',\\n       ...\\n       'S5-G3F-S3-G1F-S2-E2F-S4-G2R-S1-E1R-S6',\\n       'S2-G3F-S3-G2R-S4-E2R-S1-E1R-S5-G1F-S6',\\n       'S1-E1F-S3-G2R-S2-G1F-S4-E2F-S5-G3R-S6',\\n       'S4-E2F-S2-E1R-S1-G3R-S5-G2R-S3-G1R-S6',\\n       'S2-E2R-S4-G3R-S3-G2F-S5-E1F-S1-G1F-S6'],\\n      dtype='object', name='NAME', length=17746). See https://pandas.pydata.org/pandas-docs/stable/user_guide/indexing.html#deprecate-loc-reindex-listlike\"",
     "output_type": "error",
     "traceback": [
      "\u001b[0;31m---------------------------------------------------------------------------\u001b[0m",
      "\u001b[0;31mKeyError\u001b[0m                                  Traceback (most recent call last)",
      "\u001b[0;32m<ipython-input-109-5c3b7ae56492>\u001b[0m in \u001b[0;36m<module>\u001b[0;34m\u001b[0m\n\u001b[0;32m----> 1\u001b[0;31m \u001b[0mtest\u001b[0m\u001b[0;34m.\u001b[0m\u001b[0mloc\u001b[0m\u001b[0;34m[\u001b[0m\u001b[0mnames\u001b[0m\u001b[0;34m]\u001b[0m\u001b[0;34m\u001b[0m\u001b[0;34m\u001b[0m\u001b[0m\n\u001b[0m",
      "\u001b[0;32m~/opt/miniconda3/envs/pytorch_dev/lib/python3.7/site-packages/pandas/core/indexing.py\u001b[0m in \u001b[0;36m__getitem__\u001b[0;34m(self, key)\u001b[0m\n\u001b[1;32m    877\u001b[0m \u001b[0;34m\u001b[0m\u001b[0m\n\u001b[1;32m    878\u001b[0m             \u001b[0mmaybe_callable\u001b[0m \u001b[0;34m=\u001b[0m \u001b[0mcom\u001b[0m\u001b[0;34m.\u001b[0m\u001b[0mapply_if_callable\u001b[0m\u001b[0;34m(\u001b[0m\u001b[0mkey\u001b[0m\u001b[0;34m,\u001b[0m \u001b[0mself\u001b[0m\u001b[0;34m.\u001b[0m\u001b[0mobj\u001b[0m\u001b[0;34m)\u001b[0m\u001b[0;34m\u001b[0m\u001b[0;34m\u001b[0m\u001b[0m\n\u001b[0;32m--> 879\u001b[0;31m             \u001b[0;32mreturn\u001b[0m \u001b[0mself\u001b[0m\u001b[0;34m.\u001b[0m\u001b[0m_getitem_axis\u001b[0m\u001b[0;34m(\u001b[0m\u001b[0mmaybe_callable\u001b[0m\u001b[0;34m,\u001b[0m \u001b[0maxis\u001b[0m\u001b[0;34m=\u001b[0m\u001b[0maxis\u001b[0m\u001b[0;34m)\u001b[0m\u001b[0;34m\u001b[0m\u001b[0;34m\u001b[0m\u001b[0m\n\u001b[0m\u001b[1;32m    880\u001b[0m \u001b[0;34m\u001b[0m\u001b[0m\n\u001b[1;32m    881\u001b[0m     \u001b[0;32mdef\u001b[0m \u001b[0m_is_scalar_access\u001b[0m\u001b[0;34m(\u001b[0m\u001b[0mself\u001b[0m\u001b[0;34m,\u001b[0m \u001b[0mkey\u001b[0m\u001b[0;34m:\u001b[0m \u001b[0mTuple\u001b[0m\u001b[0;34m)\u001b[0m\u001b[0;34m:\u001b[0m\u001b[0;34m\u001b[0m\u001b[0;34m\u001b[0m\u001b[0m\n",
      "\u001b[0;32m~/opt/miniconda3/envs/pytorch_dev/lib/python3.7/site-packages/pandas/core/indexing.py\u001b[0m in \u001b[0;36m_getitem_axis\u001b[0;34m(self, key, axis)\u001b[0m\n\u001b[1;32m   1097\u001b[0m                     \u001b[0;32mraise\u001b[0m \u001b[0mValueError\u001b[0m\u001b[0;34m(\u001b[0m\u001b[0;34m\"Cannot index with multidimensional key\"\u001b[0m\u001b[0;34m)\u001b[0m\u001b[0;34m\u001b[0m\u001b[0;34m\u001b[0m\u001b[0m\n\u001b[1;32m   1098\u001b[0m \u001b[0;34m\u001b[0m\u001b[0m\n\u001b[0;32m-> 1099\u001b[0;31m                 \u001b[0;32mreturn\u001b[0m \u001b[0mself\u001b[0m\u001b[0;34m.\u001b[0m\u001b[0m_getitem_iterable\u001b[0m\u001b[0;34m(\u001b[0m\u001b[0mkey\u001b[0m\u001b[0;34m,\u001b[0m \u001b[0maxis\u001b[0m\u001b[0;34m=\u001b[0m\u001b[0maxis\u001b[0m\u001b[0;34m)\u001b[0m\u001b[0;34m\u001b[0m\u001b[0;34m\u001b[0m\u001b[0m\n\u001b[0m\u001b[1;32m   1100\u001b[0m \u001b[0;34m\u001b[0m\u001b[0m\n\u001b[1;32m   1101\u001b[0m             \u001b[0;31m# nested tuple slicing\u001b[0m\u001b[0;34m\u001b[0m\u001b[0;34m\u001b[0m\u001b[0;34m\u001b[0m\u001b[0m\n",
      "\u001b[0;32m~/opt/miniconda3/envs/pytorch_dev/lib/python3.7/site-packages/pandas/core/indexing.py\u001b[0m in \u001b[0;36m_getitem_iterable\u001b[0;34m(self, key, axis)\u001b[0m\n\u001b[1;32m   1035\u001b[0m \u001b[0;34m\u001b[0m\u001b[0m\n\u001b[1;32m   1036\u001b[0m         \u001b[0;31m# A collection of keys\u001b[0m\u001b[0;34m\u001b[0m\u001b[0;34m\u001b[0m\u001b[0;34m\u001b[0m\u001b[0m\n\u001b[0;32m-> 1037\u001b[0;31m         \u001b[0mkeyarr\u001b[0m\u001b[0;34m,\u001b[0m \u001b[0mindexer\u001b[0m \u001b[0;34m=\u001b[0m \u001b[0mself\u001b[0m\u001b[0;34m.\u001b[0m\u001b[0m_get_listlike_indexer\u001b[0m\u001b[0;34m(\u001b[0m\u001b[0mkey\u001b[0m\u001b[0;34m,\u001b[0m \u001b[0maxis\u001b[0m\u001b[0;34m,\u001b[0m \u001b[0mraise_missing\u001b[0m\u001b[0;34m=\u001b[0m\u001b[0;32mFalse\u001b[0m\u001b[0;34m)\u001b[0m\u001b[0;34m\u001b[0m\u001b[0;34m\u001b[0m\u001b[0m\n\u001b[0m\u001b[1;32m   1038\u001b[0m         return self.obj._reindex_with_indexers(\n\u001b[1;32m   1039\u001b[0m             \u001b[0;34m{\u001b[0m\u001b[0maxis\u001b[0m\u001b[0;34m:\u001b[0m \u001b[0;34m[\u001b[0m\u001b[0mkeyarr\u001b[0m\u001b[0;34m,\u001b[0m \u001b[0mindexer\u001b[0m\u001b[0;34m]\u001b[0m\u001b[0;34m}\u001b[0m\u001b[0;34m,\u001b[0m \u001b[0mcopy\u001b[0m\u001b[0;34m=\u001b[0m\u001b[0;32mTrue\u001b[0m\u001b[0;34m,\u001b[0m \u001b[0mallow_dups\u001b[0m\u001b[0;34m=\u001b[0m\u001b[0;32mTrue\u001b[0m\u001b[0;34m\u001b[0m\u001b[0;34m\u001b[0m\u001b[0m\n",
      "\u001b[0;32m~/opt/miniconda3/envs/pytorch_dev/lib/python3.7/site-packages/pandas/core/indexing.py\u001b[0m in \u001b[0;36m_get_listlike_indexer\u001b[0;34m(self, key, axis, raise_missing)\u001b[0m\n\u001b[1;32m   1252\u001b[0m             \u001b[0mkeyarr\u001b[0m\u001b[0;34m,\u001b[0m \u001b[0mindexer\u001b[0m\u001b[0;34m,\u001b[0m \u001b[0mnew_indexer\u001b[0m \u001b[0;34m=\u001b[0m \u001b[0max\u001b[0m\u001b[0;34m.\u001b[0m\u001b[0m_reindex_non_unique\u001b[0m\u001b[0;34m(\u001b[0m\u001b[0mkeyarr\u001b[0m\u001b[0;34m)\u001b[0m\u001b[0;34m\u001b[0m\u001b[0;34m\u001b[0m\u001b[0m\n\u001b[1;32m   1253\u001b[0m \u001b[0;34m\u001b[0m\u001b[0m\n\u001b[0;32m-> 1254\u001b[0;31m         \u001b[0mself\u001b[0m\u001b[0;34m.\u001b[0m\u001b[0m_validate_read_indexer\u001b[0m\u001b[0;34m(\u001b[0m\u001b[0mkeyarr\u001b[0m\u001b[0;34m,\u001b[0m \u001b[0mindexer\u001b[0m\u001b[0;34m,\u001b[0m \u001b[0maxis\u001b[0m\u001b[0;34m,\u001b[0m \u001b[0mraise_missing\u001b[0m\u001b[0;34m=\u001b[0m\u001b[0mraise_missing\u001b[0m\u001b[0;34m)\u001b[0m\u001b[0;34m\u001b[0m\u001b[0;34m\u001b[0m\u001b[0m\n\u001b[0m\u001b[1;32m   1255\u001b[0m         \u001b[0;32mreturn\u001b[0m \u001b[0mkeyarr\u001b[0m\u001b[0;34m,\u001b[0m \u001b[0mindexer\u001b[0m\u001b[0;34m\u001b[0m\u001b[0;34m\u001b[0m\u001b[0m\n\u001b[1;32m   1256\u001b[0m \u001b[0;34m\u001b[0m\u001b[0m\n",
      "\u001b[0;32m~/opt/miniconda3/envs/pytorch_dev/lib/python3.7/site-packages/pandas/core/indexing.py\u001b[0m in \u001b[0;36m_validate_read_indexer\u001b[0;34m(self, key, indexer, axis, raise_missing)\u001b[0m\n\u001b[1;32m   1314\u001b[0m                 \u001b[0;32mwith\u001b[0m \u001b[0moption_context\u001b[0m\u001b[0;34m(\u001b[0m\u001b[0;34m\"display.max_seq_items\"\u001b[0m\u001b[0;34m,\u001b[0m \u001b[0;36m10\u001b[0m\u001b[0;34m,\u001b[0m \u001b[0;34m\"display.width\"\u001b[0m\u001b[0;34m,\u001b[0m \u001b[0;36m80\u001b[0m\u001b[0;34m)\u001b[0m\u001b[0;34m:\u001b[0m\u001b[0;34m\u001b[0m\u001b[0;34m\u001b[0m\u001b[0m\n\u001b[1;32m   1315\u001b[0m                     raise KeyError(\n\u001b[0;32m-> 1316\u001b[0;31m                         \u001b[0;34m\"Passing list-likes to .loc or [] with any missing labels \"\u001b[0m\u001b[0;34m\u001b[0m\u001b[0;34m\u001b[0m\u001b[0m\n\u001b[0m\u001b[1;32m   1317\u001b[0m                         \u001b[0;34m\"is no longer supported. \"\u001b[0m\u001b[0;34m\u001b[0m\u001b[0;34m\u001b[0m\u001b[0m\n\u001b[1;32m   1318\u001b[0m                         \u001b[0;34mf\"The following labels were missing: {not_found}. \"\u001b[0m\u001b[0;34m\u001b[0m\u001b[0;34m\u001b[0m\u001b[0m\n",
      "\u001b[0;31mKeyError\u001b[0m: \"Passing list-likes to .loc or [] with any missing labels is no longer supported. The following labels were missing: Index(['S5-E2F-S1-G2R-S2-G1F-S4-G3F-S3-E1F-S6',\\n       'S2-G1F-S3-G3F-S5-E1R-S4-E2R-S1-G2F-S6',\\n       'S4-E1R-S3-G3R-S1-G2R-S2-E2F-S5-G1F-S6',\\n       'S5-G1F-S3-E2F-S1-G3R-S4-G2R-S2-E1F-S6',\\n       'S4-E1R-S1-G1F-S5-E2F-S2-G2F-S3-G3R-S6',\\n       ...\\n       'S5-G3F-S3-G1F-S2-E2F-S4-G2R-S1-E1R-S6',\\n       'S2-G3F-S3-G2R-S4-E2R-S1-E1R-S5-G1F-S6',\\n       'S1-E1F-S3-G2R-S2-G1F-S4-E2F-S5-G3R-S6',\\n       'S4-E2F-S2-E1R-S1-G3R-S5-G2R-S3-G1R-S6',\\n       'S2-E2R-S4-G3R-S3-G2F-S5-E1F-S1-G1F-S6'],\\n      dtype='object', name='NAME', length=17746). See https://pandas.pydata.org/pandas-docs/stable/user_guide/indexing.html#deprecate-loc-reindex-listlike\""
     ]
    }
   ],
   "source": [
    "test.loc[names]"
   ]
  },
  {
   "cell_type": "code",
   "execution_count": null,
   "id": "4ec94f15-bb61-49a1-9205-3e872af639fc",
   "metadata": {},
   "outputs": [],
   "source": [
    "import pandas as pd"
   ]
  },
  {
   "cell_type": "code",
   "execution_count": 33,
   "id": "add5ea0b-342d-4a37-82c3-91e49597a36b",
   "metadata": {
    "execution": {
     "iopub.execute_input": "2022-05-06T18:47:57.335236Z",
     "iopub.status.busy": "2022-05-06T18:47:57.335075Z",
     "iopub.status.idle": "2022-05-06T18:47:58.844367Z",
     "shell.execute_reply": "2022-05-06T18:47:58.843902Z",
     "shell.execute_reply.started": "2022-05-06T18:47:57.335216Z"
    },
    "tags": []
   },
   "outputs": [],
   "source": [
    "model_config = \"/cellar/users/aklie/projects/EUGENE/config/models/simple/regression/ss_act-reg_hybrid.yaml\""
   ]
  },
  {
   "cell_type": "code",
   "execution_count": 34,
   "id": "73752c2b-1841-48ac-bf96-3c7123cca34f",
   "metadata": {
    "execution": {
     "iopub.execute_input": "2022-05-06T18:48:33.317550Z",
     "iopub.status.busy": "2022-05-06T18:48:33.317377Z",
     "iopub.status.idle": "2022-05-06T18:48:35.031915Z",
     "shell.execute_reply": "2022-05-06T18:48:35.031262Z",
     "shell.execute_reply.started": "2022-05-06T18:48:33.317533Z"
    },
    "tags": []
   },
   "outputs": [
    {
     "name": "stderr",
     "output_type": "stream",
     "text": [
      "usage: ipykernel_launcher.py [-h] [--config CONFIG]\n",
      "                             [--print_config [={comments,skip_null}+]]\n",
      "                             [--trainer CONFIG] [--trainer.logger LOGGER]\n",
      "                             [--trainer.checkpoint_callback {true,false,null}]\n",
      "                             [--trainer.enable_checkpointing {true,false}]\n",
      "                             [--trainer.callbacks CALLBACKS]\n",
      "                             [--trainer.default_root_dir DEFAULT_ROOT_DIR]\n",
      "                             [--trainer.gradient_clip_val GRADIENT_CLIP_VAL]\n",
      "                             [--trainer.gradient_clip_algorithm GRADIENT_CLIP_ALGORITHM]\n",
      "                             [--trainer.process_position PROCESS_POSITION]\n",
      "                             [--trainer.num_nodes NUM_NODES]\n",
      "                             [--trainer.num_processes NUM_PROCESSES]\n",
      "                             [--trainer.devices DEVICES] [--trainer.gpus GPUS]\n",
      "                             [--trainer.auto_select_gpus {true,false}]\n",
      "                             [--trainer.tpu_cores TPU_CORES]\n",
      "                             [--trainer.ipus IPUS]\n",
      "                             [--trainer.log_gpu_memory LOG_GPU_MEMORY]\n",
      "                             [--trainer.progress_bar_refresh_rate PROGRESS_BAR_REFRESH_RATE]\n",
      "                             [--trainer.enable_progress_bar {true,false}]\n",
      "                             [--trainer.overfit_batches OVERFIT_BATCHES]\n",
      "                             [--trainer.track_grad_norm TRACK_GRAD_NORM]\n",
      "                             [--trainer.check_val_every_n_epoch CHECK_VAL_EVERY_N_EPOCH]\n",
      "                             [--trainer.fast_dev_run FAST_DEV_RUN]\n",
      "                             [--trainer.accumulate_grad_batches ACCUMULATE_GRAD_BATCHES]\n",
      "                             [--trainer.max_epochs MAX_EPOCHS]\n",
      "                             [--trainer.min_epochs MIN_EPOCHS]\n",
      "                             [--trainer.max_steps MAX_STEPS]\n",
      "                             [--trainer.min_steps MIN_STEPS]\n",
      "                             [--trainer.max_time MAX_TIME]\n",
      "                             [--trainer.limit_train_batches LIMIT_TRAIN_BATCHES]\n",
      "                             [--trainer.limit_val_batches LIMIT_VAL_BATCHES]\n",
      "                             [--trainer.limit_test_batches LIMIT_TEST_BATCHES]\n",
      "                             [--trainer.limit_predict_batches LIMIT_PREDICT_BATCHES]\n",
      "                             [--trainer.val_check_interval VAL_CHECK_INTERVAL]\n",
      "                             [--trainer.flush_logs_every_n_steps FLUSH_LOGS_EVERY_N_STEPS]\n",
      "                             [--trainer.log_every_n_steps LOG_EVERY_N_STEPS]\n",
      "                             [--trainer.accelerator ACCELERATOR]\n",
      "                             [--trainer.strategy STRATEGY]\n",
      "                             [--trainer.sync_batchnorm {true,false}]\n",
      "                             [--trainer.precision PRECISION]\n",
      "                             [--trainer.enable_model_summary {true,false}]\n",
      "                             [--trainer.weights_summary WEIGHTS_SUMMARY]\n",
      "                             [--trainer.weights_save_path WEIGHTS_SAVE_PATH]\n",
      "                             [--trainer.num_sanity_val_steps NUM_SANITY_VAL_STEPS]\n",
      "                             [--trainer.resume_from_checkpoint RESUME_FROM_CHECKPOINT]\n",
      "                             [--trainer.profiler PROFILER]\n",
      "                             [--trainer.benchmark {true,false}]\n",
      "                             [--trainer.deterministic {true,false}]\n",
      "                             [--trainer.reload_dataloaders_every_n_epochs RELOAD_DATALOADERS_EVERY_N_EPOCHS]\n",
      "                             [--trainer.reload_dataloaders_every_epoch {true,false}]\n",
      "                             [--trainer.auto_lr_find AUTO_LR_FIND]\n",
      "                             [--trainer.replace_sampler_ddp {true,false}]\n",
      "                             [--trainer.detect_anomaly {true,false}]\n",
      "                             [--trainer.auto_scale_batch_size AUTO_SCALE_BATCH_SIZE]\n",
      "                             [--trainer.prepare_data_per_node {true,false,null}]\n",
      "                             [--trainer.plugins PLUGINS]\n",
      "                             [--trainer.amp_backend AMP_BACKEND]\n",
      "                             [--trainer.amp_level AMP_LEVEL]\n",
      "                             [--trainer.move_metrics_to_cpu {true,false}]\n",
      "                             [--trainer.multiple_trainloader_mode MULTIPLE_TRAINLOADER_MODE]\n",
      "                             [--trainer.stochastic_weight_avg {true,false}]\n",
      "                             [--trainer.terminate_on_nan {true,false,null}]\n",
      "                             [--data CONFIG] [--data.seq_file SEQ_FILE]\n",
      "                             [--data.batch_size BATCH_SIZE]\n",
      "                             [--data.num_workers NUM_WORKERS]\n",
      "                             [--data.transform TRANSFORM] [--data.test TEST]\n",
      "                             [--data.split SPLIT]\n",
      "                             [--data.load_kwargs LOAD_KWARGS] [--model CONFIG]\n",
      "                             [--model.input_len INPUT_LEN]\n",
      "                             [--model.strand STRAND] [--model.task TASK]\n",
      "                             [--model.aggr AGGR] [--model.fc_kwargs FC_KWARGS]\n",
      "ipykernel_launcher.py: error: Configuration check failed :: Key \"data.seq_file\" is required but not included in config object or its value is None.\n",
      "ERROR:root:Internal Python error in the inspect module.\n",
      "Below is the traceback from this internal error.\n",
      "\n"
     ]
    },
    {
     "name": "stdout",
     "output_type": "stream",
     "text": [
      "Traceback (most recent call last):\n",
      "  File \"/cellar/users/aklie/opt/miniconda3/envs/pytorch_dev/lib/python3.7/site-packages/jsonargparse/core.py\", line 974, in check_required\n",
      "    raise TypeError\n",
      "TypeError\n",
      "\n",
      "The above exception was the direct cause of the following exception:\n",
      "\n",
      "Traceback (most recent call last):\n",
      "  File \"/cellar/users/aklie/opt/miniconda3/envs/pytorch_dev/lib/python3.7/site-packages/jsonargparse/core.py\", line 1004, in check_config\n",
      "    check_required(cfg, self)\n",
      "  File \"/cellar/users/aklie/opt/miniconda3/envs/pytorch_dev/lib/python3.7/site-packages/jsonargparse/core.py\", line 976, in check_required\n",
      "    raise TypeError(f'Key \"{prefix}{reqkey}\" is required but not included in config object or its value is None.') from ex\n",
      "TypeError: Key \"data.seq_file\" is required but not included in config object or its value is None.\n",
      "\n",
      "The above exception was the direct cause of the following exception:\n",
      "\n",
      "Traceback (most recent call last):\n",
      "  File \"/cellar/users/aklie/opt/miniconda3/envs/pytorch_dev/lib/python3.7/site-packages/jsonargparse/core.py\", line 562, in parse_string\n",
      "    log_message=(f'Parsed {self.parser_mode} string.'),\n",
      "  File \"/cellar/users/aklie/opt/miniconda3/envs/pytorch_dev/lib/python3.7/site-packages/jsonargparse/core.py\", line 299, in _parse_common\n",
      "    self.check_config(cfg, skip_required=skip_required)\n",
      "  File \"/cellar/users/aklie/opt/miniconda3/envs/pytorch_dev/lib/python3.7/site-packages/jsonargparse/core.py\", line 1012, in check_config\n",
      "    raise type(ex)(message) from ex\n",
      "TypeError: Configuration check failed :: Key \"data.seq_file\" is required but not included in config object or its value is None.\n",
      "\n",
      "During handling of the above exception, another exception occurred:\n",
      "\n",
      "Traceback (most recent call last):\n",
      "  File \"/cellar/users/aklie/opt/miniconda3/envs/pytorch_dev/lib/python3.7/site-packages/IPython/core/interactiveshell.py\", line 3417, in run_code\n",
      "    exec(code_obj, self.user_global_ns, self.user_ns)\n",
      "  File \"<ipython-input-34-4fb0b772dd5d>\", line 1, in <module>\n",
      "    model_yml = parser.parse_path(cfg_path=model_config)\n",
      "  File \"/cellar/users/aklie/opt/miniconda3/envs/pytorch_dev/lib/python3.7/site-packages/jsonargparse/core.py\", line 516, in parse_path\n",
      "    _fail_no_subcommand=_fail_no_subcommand)\n",
      "  File \"/cellar/users/aklie/opt/miniconda3/envs/pytorch_dev/lib/python3.7/site-packages/jsonargparse/deprecated.py\", line 112, in patched_parse\n",
      "    cfg = parse_method(*args, _skip_check=_skip_check, **kwargs)\n",
      "  File \"/cellar/users/aklie/opt/miniconda3/envs/pytorch_dev/lib/python3.7/site-packages/jsonargparse/core.py\", line 566, in parse_string\n",
      "    self.error(str(ex), ex)\n",
      "  File \"/cellar/users/aklie/opt/miniconda3/envs/pytorch_dev/lib/python3.7/site-packages/jsonargparse/core.py\", line 937, in error\n",
      "    self._error_handler(self, message)\n",
      "  File \"/cellar/users/aklie/opt/miniconda3/envs/pytorch_dev/lib/python3.7/site-packages/jsonargparse/util.py\", line 108, in usage_and_exit_error_handler\n",
      "    parser.exit(2)\n",
      "  File \"/cellar/users/aklie/opt/miniconda3/envs/pytorch_dev/lib/python3.7/argparse.py\", line 2495, in exit\n",
      "    _sys.exit(status)\n",
      "SystemExit: 2\n",
      "\n",
      "During handling of the above exception, another exception occurred:\n",
      "\n",
      "Traceback (most recent call last):\n",
      "  File \"/cellar/users/aklie/opt/miniconda3/envs/pytorch_dev/lib/python3.7/site-packages/IPython/core/ultratb.py\", line 1169, in get_records\n",
      "    return _fixed_getinnerframes(etb, number_of_lines_of_context, tb_offset)\n",
      "  File \"/cellar/users/aklie/opt/miniconda3/envs/pytorch_dev/lib/python3.7/site-packages/IPython/core/ultratb.py\", line 316, in wrapped\n",
      "    return f(*args, **kwargs)\n",
      "  File \"/cellar/users/aklie/opt/miniconda3/envs/pytorch_dev/lib/python3.7/site-packages/IPython/core/ultratb.py\", line 350, in _fixed_getinnerframes\n",
      "    records = fix_frame_records_filenames(inspect.getinnerframes(etb, context))\n",
      "  File \"/cellar/users/aklie/opt/miniconda3/envs/pytorch_dev/lib/python3.7/inspect.py\", line 1502, in getinnerframes\n",
      "    frameinfo = (tb.tb_frame,) + getframeinfo(tb, context)\n",
      "AttributeError: 'tuple' object has no attribute 'tb_frame'\n"
     ]
    },
    {
     "ename": "TypeError",
     "evalue": "object of type 'NoneType' has no len()",
     "output_type": "error",
     "traceback": [
      "\u001b[0;31m---------------------------------------------------------------------------\u001b[0m",
      "\u001b[0;31mTypeError\u001b[0m                                 Traceback (most recent call last)",
      "\u001b[0;32m~/opt/miniconda3/envs/pytorch_dev/lib/python3.7/site-packages/jsonargparse/core.py\u001b[0m in \u001b[0;36mcheck_required\u001b[0;34m(cfg, parser, prefix)\u001b[0m\n\u001b[1;32m    973\u001b[0m                     \u001b[0;32mif\u001b[0m \u001b[0mval\u001b[0m \u001b[0;32mis\u001b[0m \u001b[0;32mNone\u001b[0m\u001b[0;34m:\u001b[0m\u001b[0;34m\u001b[0m\u001b[0;34m\u001b[0m\u001b[0m\n\u001b[0;32m--> 974\u001b[0;31m                         \u001b[0;32mraise\u001b[0m \u001b[0mTypeError\u001b[0m\u001b[0;34m\u001b[0m\u001b[0;34m\u001b[0m\u001b[0m\n\u001b[0m\u001b[1;32m    975\u001b[0m                 \u001b[0;32mexcept\u001b[0m \u001b[0;34m(\u001b[0m\u001b[0mKeyError\u001b[0m\u001b[0;34m,\u001b[0m \u001b[0mTypeError\u001b[0m\u001b[0;34m)\u001b[0m \u001b[0;32mas\u001b[0m \u001b[0mex\u001b[0m\u001b[0;34m:\u001b[0m\u001b[0;34m\u001b[0m\u001b[0;34m\u001b[0m\u001b[0m\n",
      "\u001b[0;31mTypeError\u001b[0m: ",
      "\nThe above exception was the direct cause of the following exception:\n",
      "\u001b[0;31mTypeError\u001b[0m                                 Traceback (most recent call last)",
      "\u001b[0;32m~/opt/miniconda3/envs/pytorch_dev/lib/python3.7/site-packages/jsonargparse/core.py\u001b[0m in \u001b[0;36mcheck_config\u001b[0;34m(self, cfg, skip_none, skip_required, branch)\u001b[0m\n\u001b[1;32m   1003\u001b[0m             \u001b[0;32mif\u001b[0m \u001b[0;32mnot\u001b[0m \u001b[0mskip_required\u001b[0m \u001b[0;32mand\u001b[0m \u001b[0;32mnot\u001b[0m \u001b[0mlenient_check\u001b[0m\u001b[0;34m.\u001b[0m\u001b[0mget\u001b[0m\u001b[0;34m(\u001b[0m\u001b[0;34m)\u001b[0m\u001b[0;34m:\u001b[0m\u001b[0;34m\u001b[0m\u001b[0;34m\u001b[0m\u001b[0m\n\u001b[0;32m-> 1004\u001b[0;31m                 \u001b[0mcheck_required\u001b[0m\u001b[0;34m(\u001b[0m\u001b[0mcfg\u001b[0m\u001b[0;34m,\u001b[0m \u001b[0mself\u001b[0m\u001b[0;34m)\u001b[0m\u001b[0;34m\u001b[0m\u001b[0;34m\u001b[0m\u001b[0m\n\u001b[0m\u001b[1;32m   1005\u001b[0m             \u001b[0;32mwith\u001b[0m \u001b[0mload_value_context\u001b[0m\u001b[0;34m(\u001b[0m\u001b[0mself\u001b[0m\u001b[0;34m.\u001b[0m\u001b[0mparser_mode\u001b[0m\u001b[0;34m)\u001b[0m\u001b[0;34m:\u001b[0m\u001b[0;34m\u001b[0m\u001b[0;34m\u001b[0m\u001b[0m\n",
      "\u001b[0;32m~/opt/miniconda3/envs/pytorch_dev/lib/python3.7/site-packages/jsonargparse/core.py\u001b[0m in \u001b[0;36mcheck_required\u001b[0;34m(cfg, parser, prefix)\u001b[0m\n\u001b[1;32m    975\u001b[0m                 \u001b[0;32mexcept\u001b[0m \u001b[0;34m(\u001b[0m\u001b[0mKeyError\u001b[0m\u001b[0;34m,\u001b[0m \u001b[0mTypeError\u001b[0m\u001b[0;34m)\u001b[0m \u001b[0;32mas\u001b[0m \u001b[0mex\u001b[0m\u001b[0;34m:\u001b[0m\u001b[0;34m\u001b[0m\u001b[0;34m\u001b[0m\u001b[0m\n\u001b[0;32m--> 976\u001b[0;31m                     \u001b[0;32mraise\u001b[0m \u001b[0mTypeError\u001b[0m\u001b[0;34m(\u001b[0m\u001b[0;34mf'Key \"{prefix}{reqkey}\" is required but not included in config object or its value is None.'\u001b[0m\u001b[0;34m)\u001b[0m \u001b[0;32mfrom\u001b[0m \u001b[0mex\u001b[0m\u001b[0;34m\u001b[0m\u001b[0;34m\u001b[0m\u001b[0m\n\u001b[0m\u001b[1;32m    977\u001b[0m             \u001b[0msubcommand\u001b[0m\u001b[0;34m,\u001b[0m \u001b[0msubparser\u001b[0m \u001b[0;34m=\u001b[0m \u001b[0m_ActionSubCommands\u001b[0m\u001b[0;34m.\u001b[0m\u001b[0mget_subcommand\u001b[0m\u001b[0;34m(\u001b[0m\u001b[0mparser\u001b[0m\u001b[0;34m,\u001b[0m \u001b[0mcfg\u001b[0m\u001b[0;34m,\u001b[0m \u001b[0mfail_no_subcommand\u001b[0m\u001b[0;34m=\u001b[0m\u001b[0;32mFalse\u001b[0m\u001b[0;34m)\u001b[0m\u001b[0;34m\u001b[0m\u001b[0;34m\u001b[0m\u001b[0m\n",
      "\u001b[0;31mTypeError\u001b[0m: Key \"data.seq_file\" is required but not included in config object or its value is None.",
      "\nThe above exception was the direct cause of the following exception:\n",
      "\u001b[0;31mTypeError\u001b[0m                                 Traceback (most recent call last)",
      "\u001b[0;32m~/opt/miniconda3/envs/pytorch_dev/lib/python3.7/site-packages/jsonargparse/core.py\u001b[0m in \u001b[0;36mparse_string\u001b[0;34m(self, cfg_str, cfg_path, ext_vars, env, defaults, with_meta, _skip_check, _fail_no_subcommand)\u001b[0m\n\u001b[1;32m    561\u001b[0m                 \u001b[0mfail_no_subcommand\u001b[0m\u001b[0;34m=\u001b[0m\u001b[0m_fail_no_subcommand\u001b[0m\u001b[0;34m,\u001b[0m\u001b[0;34m\u001b[0m\u001b[0;34m\u001b[0m\u001b[0m\n\u001b[0;32m--> 562\u001b[0;31m                 \u001b[0mlog_message\u001b[0m\u001b[0;34m=\u001b[0m\u001b[0;34m(\u001b[0m\u001b[0;34mf'Parsed {self.parser_mode} string.'\u001b[0m\u001b[0;34m)\u001b[0m\u001b[0;34m,\u001b[0m\u001b[0;34m\u001b[0m\u001b[0;34m\u001b[0m\u001b[0m\n\u001b[0m\u001b[1;32m    563\u001b[0m             )\n",
      "\u001b[0;32m~/opt/miniconda3/envs/pytorch_dev/lib/python3.7/site-packages/jsonargparse/core.py\u001b[0m in \u001b[0;36m_parse_common\u001b[0;34m(self, cfg, env, defaults, with_meta, skip_check, skip_required, skip_subcommands, fail_no_subcommand, cfg_base, log_message)\u001b[0m\n\u001b[1;32m    298\u001b[0m             \u001b[0;32mwith\u001b[0m \u001b[0mload_value_context\u001b[0m\u001b[0;34m(\u001b[0m\u001b[0mself\u001b[0m\u001b[0;34m.\u001b[0m\u001b[0mparser_mode\u001b[0m\u001b[0;34m)\u001b[0m\u001b[0;34m:\u001b[0m\u001b[0;34m\u001b[0m\u001b[0;34m\u001b[0m\u001b[0m\n\u001b[0;32m--> 299\u001b[0;31m                 \u001b[0mself\u001b[0m\u001b[0;34m.\u001b[0m\u001b[0mcheck_config\u001b[0m\u001b[0;34m(\u001b[0m\u001b[0mcfg\u001b[0m\u001b[0;34m,\u001b[0m \u001b[0mskip_required\u001b[0m\u001b[0;34m=\u001b[0m\u001b[0mskip_required\u001b[0m\u001b[0;34m)\u001b[0m\u001b[0;34m\u001b[0m\u001b[0;34m\u001b[0m\u001b[0m\n\u001b[0m\u001b[1;32m    300\u001b[0m \u001b[0;34m\u001b[0m\u001b[0m\n",
      "\u001b[0;32m~/opt/miniconda3/envs/pytorch_dev/lib/python3.7/site-packages/jsonargparse/core.py\u001b[0m in \u001b[0;36mcheck_config\u001b[0;34m(self, cfg, skip_none, skip_required, branch)\u001b[0m\n\u001b[1;32m   1011\u001b[0m                 \u001b[0mmessage\u001b[0m \u001b[0;34m=\u001b[0m \u001b[0mprefix\u001b[0m\u001b[0;34m+\u001b[0m\u001b[0mmessage\u001b[0m\u001b[0;34m\u001b[0m\u001b[0;34m\u001b[0m\u001b[0m\n\u001b[0;32m-> 1012\u001b[0;31m             \u001b[0;32mraise\u001b[0m \u001b[0mtype\u001b[0m\u001b[0;34m(\u001b[0m\u001b[0mex\u001b[0m\u001b[0;34m)\u001b[0m\u001b[0;34m(\u001b[0m\u001b[0mmessage\u001b[0m\u001b[0;34m)\u001b[0m \u001b[0;32mfrom\u001b[0m \u001b[0mex\u001b[0m\u001b[0;34m\u001b[0m\u001b[0;34m\u001b[0m\u001b[0m\n\u001b[0m\u001b[1;32m   1013\u001b[0m \u001b[0;34m\u001b[0m\u001b[0m\n",
      "\u001b[0;31mTypeError\u001b[0m: Configuration check failed :: Key \"data.seq_file\" is required but not included in config object or its value is None.",
      "\nDuring handling of the above exception, another exception occurred:\n",
      "\u001b[0;31mSystemExit\u001b[0m                                Traceback (most recent call last)",
      "    \u001b[0;31m[... skipping hidden 1 frame]\u001b[0m\n",
      "\u001b[0;32m<ipython-input-34-4fb0b772dd5d>\u001b[0m in \u001b[0;36m<module>\u001b[0;34m\u001b[0m\n\u001b[0;32m----> 1\u001b[0;31m \u001b[0mmodel_yml\u001b[0m \u001b[0;34m=\u001b[0m \u001b[0mparser\u001b[0m\u001b[0;34m.\u001b[0m\u001b[0mparse_path\u001b[0m\u001b[0;34m(\u001b[0m\u001b[0mcfg_path\u001b[0m\u001b[0;34m=\u001b[0m\u001b[0mmodel_config\u001b[0m\u001b[0;34m)\u001b[0m\u001b[0;34m\u001b[0m\u001b[0;34m\u001b[0m\u001b[0m\n\u001b[0m\u001b[1;32m      2\u001b[0m \u001b[0meugene\u001b[0m \u001b[0;34m=\u001b[0m \u001b[0mhybrid\u001b[0m\u001b[0;34m(\u001b[0m\u001b[0;34m**\u001b[0m\u001b[0mmodel_yml\u001b[0m\u001b[0;34m[\u001b[0m\u001b[0;34m\"model\"\u001b[0m\u001b[0;34m]\u001b[0m\u001b[0;34m)\u001b[0m\u001b[0;34m\u001b[0m\u001b[0;34m\u001b[0m\u001b[0m\n",
      "\u001b[0;32m~/opt/miniconda3/envs/pytorch_dev/lib/python3.7/site-packages/jsonargparse/core.py\u001b[0m in \u001b[0;36mparse_path\u001b[0;34m(self, cfg_path, ext_vars, env, defaults, with_meta, _skip_check, _fail_no_subcommand)\u001b[0m\n\u001b[1;32m    515\u001b[0m                                            \u001b[0m_skip_check\u001b[0m\u001b[0;34m=\u001b[0m\u001b[0m_skip_check\u001b[0m\u001b[0;34m,\u001b[0m\u001b[0;34m\u001b[0m\u001b[0;34m\u001b[0m\u001b[0m\n\u001b[0;32m--> 516\u001b[0;31m                                            _fail_no_subcommand=_fail_no_subcommand)\n\u001b[0m\u001b[1;32m    517\u001b[0m \u001b[0;34m\u001b[0m\u001b[0m\n",
      "\u001b[0;32m~/opt/miniconda3/envs/pytorch_dev/lib/python3.7/site-packages/jsonargparse/deprecated.py\u001b[0m in \u001b[0;36mpatched_parse\u001b[0;34m(self, _skip_check, *args, **kwargs)\u001b[0m\n\u001b[1;32m    111\u001b[0m             \u001b[0mparse_method\u001b[0m \u001b[0;34m=\u001b[0m \u001b[0mgetattr\u001b[0m\u001b[0;34m(\u001b[0m\u001b[0mself\u001b[0m\u001b[0;34m,\u001b[0m \u001b[0munpatched_method_name\u001b[0m\u001b[0;34m)\u001b[0m\u001b[0;34m\u001b[0m\u001b[0;34m\u001b[0m\u001b[0m\n\u001b[0;32m--> 112\u001b[0;31m             \u001b[0mcfg\u001b[0m \u001b[0;34m=\u001b[0m \u001b[0mparse_method\u001b[0m\u001b[0;34m(\u001b[0m\u001b[0;34m*\u001b[0m\u001b[0margs\u001b[0m\u001b[0;34m,\u001b[0m \u001b[0m_skip_check\u001b[0m\u001b[0;34m=\u001b[0m\u001b[0m_skip_check\u001b[0m\u001b[0;34m,\u001b[0m \u001b[0;34m**\u001b[0m\u001b[0mkwargs\u001b[0m\u001b[0;34m)\u001b[0m\u001b[0;34m\u001b[0m\u001b[0;34m\u001b[0m\u001b[0m\n\u001b[0m\u001b[1;32m    113\u001b[0m             \u001b[0;32mreturn\u001b[0m \u001b[0mcfg\u001b[0m\u001b[0;34m.\u001b[0m\u001b[0mas_dict\u001b[0m\u001b[0;34m(\u001b[0m\u001b[0;34m)\u001b[0m \u001b[0;32mif\u001b[0m \u001b[0mself\u001b[0m\u001b[0;34m.\u001b[0m\u001b[0m_parse_as_dict\u001b[0m \u001b[0;32mand\u001b[0m \u001b[0;32mnot\u001b[0m \u001b[0m_skip_check\u001b[0m \u001b[0;32melse\u001b[0m \u001b[0mcfg\u001b[0m\u001b[0;34m\u001b[0m\u001b[0;34m\u001b[0m\u001b[0m\n",
      "\u001b[0;32m~/opt/miniconda3/envs/pytorch_dev/lib/python3.7/site-packages/jsonargparse/core.py\u001b[0m in \u001b[0;36mparse_string\u001b[0;34m(self, cfg_str, cfg_path, ext_vars, env, defaults, with_meta, _skip_check, _fail_no_subcommand)\u001b[0m\n\u001b[1;32m    565\u001b[0m         \u001b[0;32mexcept\u001b[0m \u001b[0;34m(\u001b[0m\u001b[0mTypeError\u001b[0m\u001b[0;34m,\u001b[0m \u001b[0mKeyError\u001b[0m\u001b[0;34m)\u001b[0m \u001b[0;32mas\u001b[0m \u001b[0mex\u001b[0m\u001b[0;34m:\u001b[0m\u001b[0;34m\u001b[0m\u001b[0;34m\u001b[0m\u001b[0m\n\u001b[0;32m--> 566\u001b[0;31m             \u001b[0mself\u001b[0m\u001b[0;34m.\u001b[0m\u001b[0merror\u001b[0m\u001b[0;34m(\u001b[0m\u001b[0mstr\u001b[0m\u001b[0;34m(\u001b[0m\u001b[0mex\u001b[0m\u001b[0;34m)\u001b[0m\u001b[0;34m,\u001b[0m \u001b[0mex\u001b[0m\u001b[0;34m)\u001b[0m\u001b[0;34m\u001b[0m\u001b[0;34m\u001b[0m\u001b[0m\n\u001b[0m\u001b[1;32m    567\u001b[0m \u001b[0;34m\u001b[0m\u001b[0m\n",
      "\u001b[0;32m~/opt/miniconda3/envs/pytorch_dev/lib/python3.7/site-packages/jsonargparse/core.py\u001b[0m in \u001b[0;36merror\u001b[0;34m(self, message, ex)\u001b[0m\n\u001b[1;32m    936\u001b[0m         \u001b[0;32mif\u001b[0m \u001b[0mself\u001b[0m\u001b[0;34m.\u001b[0m\u001b[0m_error_handler\u001b[0m \u001b[0;32mis\u001b[0m \u001b[0;32mnot\u001b[0m \u001b[0;32mNone\u001b[0m\u001b[0;34m:\u001b[0m\u001b[0;34m\u001b[0m\u001b[0;34m\u001b[0m\u001b[0m\n\u001b[0;32m--> 937\u001b[0;31m             \u001b[0mself\u001b[0m\u001b[0;34m.\u001b[0m\u001b[0m_error_handler\u001b[0m\u001b[0;34m(\u001b[0m\u001b[0mself\u001b[0m\u001b[0;34m,\u001b[0m \u001b[0mmessage\u001b[0m\u001b[0;34m)\u001b[0m\u001b[0;34m\u001b[0m\u001b[0;34m\u001b[0m\u001b[0m\n\u001b[0m\u001b[1;32m    938\u001b[0m         \u001b[0;32mif\u001b[0m \u001b[0mex\u001b[0m \u001b[0;32mis\u001b[0m \u001b[0;32mNone\u001b[0m\u001b[0;34m:\u001b[0m\u001b[0;34m\u001b[0m\u001b[0;34m\u001b[0m\u001b[0m\n",
      "\u001b[0;32m~/opt/miniconda3/envs/pytorch_dev/lib/python3.7/site-packages/jsonargparse/util.py\u001b[0m in \u001b[0;36musage_and_exit_error_handler\u001b[0;34m(parser, message)\u001b[0m\n\u001b[1;32m    107\u001b[0m     \u001b[0;32melse\u001b[0m\u001b[0;34m:\u001b[0m\u001b[0;34m\u001b[0m\u001b[0;34m\u001b[0m\u001b[0m\n\u001b[0;32m--> 108\u001b[0;31m         \u001b[0mparser\u001b[0m\u001b[0;34m.\u001b[0m\u001b[0mexit\u001b[0m\u001b[0;34m(\u001b[0m\u001b[0;36m2\u001b[0m\u001b[0;34m)\u001b[0m\u001b[0;34m\u001b[0m\u001b[0;34m\u001b[0m\u001b[0m\n\u001b[0m\u001b[1;32m    109\u001b[0m \u001b[0;34m\u001b[0m\u001b[0m\n",
      "\u001b[0;32m~/opt/miniconda3/envs/pytorch_dev/lib/python3.7/argparse.py\u001b[0m in \u001b[0;36mexit\u001b[0;34m(self, status, message)\u001b[0m\n\u001b[1;32m   2494\u001b[0m             \u001b[0mself\u001b[0m\u001b[0;34m.\u001b[0m\u001b[0m_print_message\u001b[0m\u001b[0;34m(\u001b[0m\u001b[0mmessage\u001b[0m\u001b[0;34m,\u001b[0m \u001b[0m_sys\u001b[0m\u001b[0;34m.\u001b[0m\u001b[0mstderr\u001b[0m\u001b[0;34m)\u001b[0m\u001b[0;34m\u001b[0m\u001b[0;34m\u001b[0m\u001b[0m\n\u001b[0;32m-> 2495\u001b[0;31m         \u001b[0m_sys\u001b[0m\u001b[0;34m.\u001b[0m\u001b[0mexit\u001b[0m\u001b[0;34m(\u001b[0m\u001b[0mstatus\u001b[0m\u001b[0;34m)\u001b[0m\u001b[0;34m\u001b[0m\u001b[0;34m\u001b[0m\u001b[0m\n\u001b[0m\u001b[1;32m   2496\u001b[0m \u001b[0;34m\u001b[0m\u001b[0m\n",
      "\u001b[0;31mSystemExit\u001b[0m: 2",
      "\nDuring handling of the above exception, another exception occurred:\n",
      "\u001b[0;31mTypeError\u001b[0m                                 Traceback (most recent call last)",
      "    \u001b[0;31m[... skipping hidden 1 frame]\u001b[0m\n",
      "\u001b[0;32m~/opt/miniconda3/envs/pytorch_dev/lib/python3.7/site-packages/IPython/core/interactiveshell.py\u001b[0m in \u001b[0;36mshowtraceback\u001b[0;34m(self, exc_tuple, filename, tb_offset, exception_only, running_compiled_code)\u001b[0m\n\u001b[1;32m   2036\u001b[0m                            'the full traceback.\\n']\n\u001b[1;32m   2037\u001b[0m                     stb.extend(self.InteractiveTB.get_exception_only(etype,\n\u001b[0;32m-> 2038\u001b[0;31m                                                                      value))\n\u001b[0m\u001b[1;32m   2039\u001b[0m                 \u001b[0;32melse\u001b[0m\u001b[0;34m:\u001b[0m\u001b[0;34m\u001b[0m\u001b[0;34m\u001b[0m\u001b[0m\n\u001b[1;32m   2040\u001b[0m                     \u001b[0;32mtry\u001b[0m\u001b[0;34m:\u001b[0m\u001b[0;34m\u001b[0m\u001b[0;34m\u001b[0m\u001b[0m\n",
      "\u001b[0;32m~/opt/miniconda3/envs/pytorch_dev/lib/python3.7/site-packages/IPython/core/ultratb.py\u001b[0m in \u001b[0;36mget_exception_only\u001b[0;34m(self, etype, value)\u001b[0m\n\u001b[1;32m    821\u001b[0m         \u001b[0mvalue\u001b[0m \u001b[0;34m:\u001b[0m \u001b[0mexception\u001b[0m \u001b[0mvalue\u001b[0m\u001b[0;34m\u001b[0m\u001b[0;34m\u001b[0m\u001b[0m\n\u001b[1;32m    822\u001b[0m         \"\"\"\n\u001b[0;32m--> 823\u001b[0;31m         \u001b[0;32mreturn\u001b[0m \u001b[0mListTB\u001b[0m\u001b[0;34m.\u001b[0m\u001b[0mstructured_traceback\u001b[0m\u001b[0;34m(\u001b[0m\u001b[0mself\u001b[0m\u001b[0;34m,\u001b[0m \u001b[0metype\u001b[0m\u001b[0;34m,\u001b[0m \u001b[0mvalue\u001b[0m\u001b[0;34m)\u001b[0m\u001b[0;34m\u001b[0m\u001b[0;34m\u001b[0m\u001b[0m\n\u001b[0m\u001b[1;32m    824\u001b[0m \u001b[0;34m\u001b[0m\u001b[0m\n\u001b[1;32m    825\u001b[0m     \u001b[0;32mdef\u001b[0m \u001b[0mshow_exception_only\u001b[0m\u001b[0;34m(\u001b[0m\u001b[0mself\u001b[0m\u001b[0;34m,\u001b[0m \u001b[0metype\u001b[0m\u001b[0;34m,\u001b[0m \u001b[0mevalue\u001b[0m\u001b[0;34m)\u001b[0m\u001b[0;34m:\u001b[0m\u001b[0;34m\u001b[0m\u001b[0;34m\u001b[0m\u001b[0m\n",
      "\u001b[0;32m~/opt/miniconda3/envs/pytorch_dev/lib/python3.7/site-packages/IPython/core/ultratb.py\u001b[0m in \u001b[0;36mstructured_traceback\u001b[0;34m(self, etype, evalue, etb, tb_offset, context)\u001b[0m\n\u001b[1;32m    700\u001b[0m                     chained_exceptions_tb_offset, context)\n\u001b[1;32m    701\u001b[0m                 \u001b[0;34m+\u001b[0m \u001b[0mchained_exception_message\u001b[0m\u001b[0;34m\u001b[0m\u001b[0;34m\u001b[0m\u001b[0m\n\u001b[0;32m--> 702\u001b[0;31m                 + out_list)\n\u001b[0m\u001b[1;32m    703\u001b[0m \u001b[0;34m\u001b[0m\u001b[0m\n\u001b[1;32m    704\u001b[0m         \u001b[0;32mreturn\u001b[0m \u001b[0mout_list\u001b[0m\u001b[0;34m\u001b[0m\u001b[0;34m\u001b[0m\u001b[0m\n",
      "\u001b[0;32m~/opt/miniconda3/envs/pytorch_dev/lib/python3.7/site-packages/IPython/core/ultratb.py\u001b[0m in \u001b[0;36mstructured_traceback\u001b[0;34m(self, etype, value, tb, tb_offset, number_of_lines_of_context)\u001b[0m\n\u001b[1;32m   1434\u001b[0m             \u001b[0mself\u001b[0m\u001b[0;34m.\u001b[0m\u001b[0mtb\u001b[0m \u001b[0;34m=\u001b[0m \u001b[0mtb\u001b[0m\u001b[0;34m\u001b[0m\u001b[0;34m\u001b[0m\u001b[0m\n\u001b[1;32m   1435\u001b[0m         return FormattedTB.structured_traceback(\n\u001b[0;32m-> 1436\u001b[0;31m             self, etype, value, tb, tb_offset, number_of_lines_of_context)\n\u001b[0m\u001b[1;32m   1437\u001b[0m \u001b[0;34m\u001b[0m\u001b[0m\n\u001b[1;32m   1438\u001b[0m \u001b[0;34m\u001b[0m\u001b[0m\n",
      "\u001b[0;32m~/opt/miniconda3/envs/pytorch_dev/lib/python3.7/site-packages/IPython/core/ultratb.py\u001b[0m in \u001b[0;36mstructured_traceback\u001b[0;34m(self, etype, value, tb, tb_offset, number_of_lines_of_context)\u001b[0m\n\u001b[1;32m   1334\u001b[0m             \u001b[0;31m# Verbose modes need a full traceback\u001b[0m\u001b[0;34m\u001b[0m\u001b[0;34m\u001b[0m\u001b[0;34m\u001b[0m\u001b[0m\n\u001b[1;32m   1335\u001b[0m             return VerboseTB.structured_traceback(\n\u001b[0;32m-> 1336\u001b[0;31m                 \u001b[0mself\u001b[0m\u001b[0;34m,\u001b[0m \u001b[0metype\u001b[0m\u001b[0;34m,\u001b[0m \u001b[0mvalue\u001b[0m\u001b[0;34m,\u001b[0m \u001b[0mtb\u001b[0m\u001b[0;34m,\u001b[0m \u001b[0mtb_offset\u001b[0m\u001b[0;34m,\u001b[0m \u001b[0mnumber_of_lines_of_context\u001b[0m\u001b[0;34m\u001b[0m\u001b[0;34m\u001b[0m\u001b[0m\n\u001b[0m\u001b[1;32m   1337\u001b[0m             )\n\u001b[1;32m   1338\u001b[0m         \u001b[0;32melif\u001b[0m \u001b[0mmode\u001b[0m \u001b[0;34m==\u001b[0m \u001b[0;34m'Minimal'\u001b[0m\u001b[0;34m:\u001b[0m\u001b[0;34m\u001b[0m\u001b[0;34m\u001b[0m\u001b[0m\n",
      "\u001b[0;32m~/opt/miniconda3/envs/pytorch_dev/lib/python3.7/site-packages/IPython/core/ultratb.py\u001b[0m in \u001b[0;36mstructured_traceback\u001b[0;34m(self, etype, evalue, etb, tb_offset, number_of_lines_of_context)\u001b[0m\n\u001b[1;32m   1191\u001b[0m \u001b[0;34m\u001b[0m\u001b[0m\n\u001b[1;32m   1192\u001b[0m         formatted_exception = self.format_exception_as_a_whole(etype, evalue, etb, number_of_lines_of_context,\n\u001b[0;32m-> 1193\u001b[0;31m                                                                tb_offset)\n\u001b[0m\u001b[1;32m   1194\u001b[0m \u001b[0;34m\u001b[0m\u001b[0m\n\u001b[1;32m   1195\u001b[0m         \u001b[0mcolors\u001b[0m \u001b[0;34m=\u001b[0m \u001b[0mself\u001b[0m\u001b[0;34m.\u001b[0m\u001b[0mColors\u001b[0m  \u001b[0;31m# just a shorthand + quicker name lookup\u001b[0m\u001b[0;34m\u001b[0m\u001b[0;34m\u001b[0m\u001b[0m\n",
      "\u001b[0;32m~/opt/miniconda3/envs/pytorch_dev/lib/python3.7/site-packages/IPython/core/ultratb.py\u001b[0m in \u001b[0;36mformat_exception_as_a_whole\u001b[0;34m(self, etype, evalue, etb, number_of_lines_of_context, tb_offset)\u001b[0m\n\u001b[1;32m   1148\u001b[0m \u001b[0;34m\u001b[0m\u001b[0m\n\u001b[1;32m   1149\u001b[0m \u001b[0;34m\u001b[0m\u001b[0m\n\u001b[0;32m-> 1150\u001b[0;31m         \u001b[0mlast_unique\u001b[0m\u001b[0;34m,\u001b[0m \u001b[0mrecursion_repeat\u001b[0m \u001b[0;34m=\u001b[0m \u001b[0mfind_recursion\u001b[0m\u001b[0;34m(\u001b[0m\u001b[0morig_etype\u001b[0m\u001b[0;34m,\u001b[0m \u001b[0mevalue\u001b[0m\u001b[0;34m,\u001b[0m \u001b[0mrecords\u001b[0m\u001b[0;34m)\u001b[0m\u001b[0;34m\u001b[0m\u001b[0;34m\u001b[0m\u001b[0m\n\u001b[0m\u001b[1;32m   1151\u001b[0m \u001b[0;34m\u001b[0m\u001b[0m\n\u001b[1;32m   1152\u001b[0m         \u001b[0mframes\u001b[0m \u001b[0;34m=\u001b[0m \u001b[0mself\u001b[0m\u001b[0;34m.\u001b[0m\u001b[0mformat_records\u001b[0m\u001b[0;34m(\u001b[0m\u001b[0mrecords\u001b[0m\u001b[0;34m,\u001b[0m \u001b[0mlast_unique\u001b[0m\u001b[0;34m,\u001b[0m \u001b[0mrecursion_repeat\u001b[0m\u001b[0;34m)\u001b[0m\u001b[0;34m\u001b[0m\u001b[0;34m\u001b[0m\u001b[0m\n",
      "\u001b[0;32m~/opt/miniconda3/envs/pytorch_dev/lib/python3.7/site-packages/IPython/core/ultratb.py\u001b[0m in \u001b[0;36mfind_recursion\u001b[0;34m(etype, value, records)\u001b[0m\n\u001b[1;32m    449\u001b[0m     \u001b[0;31m# first frame (from in to out) that looks different.\u001b[0m\u001b[0;34m\u001b[0m\u001b[0;34m\u001b[0m\u001b[0;34m\u001b[0m\u001b[0m\n\u001b[1;32m    450\u001b[0m     \u001b[0;32mif\u001b[0m \u001b[0;32mnot\u001b[0m \u001b[0mis_recursion_error\u001b[0m\u001b[0;34m(\u001b[0m\u001b[0metype\u001b[0m\u001b[0;34m,\u001b[0m \u001b[0mvalue\u001b[0m\u001b[0;34m,\u001b[0m \u001b[0mrecords\u001b[0m\u001b[0;34m)\u001b[0m\u001b[0;34m:\u001b[0m\u001b[0;34m\u001b[0m\u001b[0;34m\u001b[0m\u001b[0m\n\u001b[0;32m--> 451\u001b[0;31m         \u001b[0;32mreturn\u001b[0m \u001b[0mlen\u001b[0m\u001b[0;34m(\u001b[0m\u001b[0mrecords\u001b[0m\u001b[0;34m)\u001b[0m\u001b[0;34m,\u001b[0m \u001b[0;36m0\u001b[0m\u001b[0;34m\u001b[0m\u001b[0;34m\u001b[0m\u001b[0m\n\u001b[0m\u001b[1;32m    452\u001b[0m \u001b[0;34m\u001b[0m\u001b[0m\n\u001b[1;32m    453\u001b[0m     \u001b[0;31m# Select filename, lineno, func_name to track frames with\u001b[0m\u001b[0;34m\u001b[0m\u001b[0;34m\u001b[0m\u001b[0;34m\u001b[0m\u001b[0m\n",
      "\u001b[0;31mTypeError\u001b[0m: object of type 'NoneType' has no len()"
     ]
    }
   ],
   "source": [
    "model_yml = parser.parse_path(cfg_path=model_config)\n",
    "eugene = hybrid(**model_yml[\"model\"])"
   ]
  },
  {
   "cell_type": "code",
   "execution_count": 29,
   "id": "d8fca5bd-947c-44e7-94bb-e5a7ab8c18b5",
   "metadata": {
    "execution": {
     "iopub.execute_input": "2022-05-06T18:47:03.794988Z",
     "iopub.status.busy": "2022-05-06T18:47:03.794871Z",
     "iopub.status.idle": "2022-05-06T18:47:10.788071Z",
     "shell.execute_reply": "2022-05-06T18:47:10.787564Z",
     "shell.execute_reply.started": "2022-05-06T18:47:03.794973Z"
    },
    "tags": []
   },
   "outputs": [],
   "source": [
    "mod.setup()"
   ]
  },
  {
   "cell_type": "code",
   "execution_count": 30,
   "id": "e9fb08a3-369c-4f35-8f1e-f8c2dd84f627",
   "metadata": {
    "execution": {
     "iopub.execute_input": "2022-05-06T18:47:10.789021Z",
     "iopub.status.busy": "2022-05-06T18:47:10.788902Z",
     "iopub.status.idle": "2022-05-06T18:47:12.326841Z",
     "shell.execute_reply": "2022-05-06T18:47:12.326371Z",
     "shell.execute_reply.started": "2022-05-06T18:47:10.789006Z"
    },
    "tags": []
   },
   "outputs": [],
   "source": [
    "dataset = mod.train_dataloader().dataset.dataset"
   ]
  },
  {
   "cell_type": "code",
   "execution_count": 31,
   "id": "e8df413c-3b1a-4712-a716-2cae84559df4",
   "metadata": {
    "execution": {
     "iopub.execute_input": "2022-05-06T18:47:12.327671Z",
     "iopub.status.busy": "2022-05-06T18:47:12.327556Z",
     "iopub.status.idle": "2022-05-06T18:47:13.845449Z",
     "shell.execute_reply": "2022-05-06T18:47:13.845016Z",
     "shell.execute_reply.started": "2022-05-06T18:47:12.327656Z"
    },
    "tags": []
   },
   "outputs": [
    {
     "data": {
      "text/plain": [
       "array([0.611767, 0.313011, 0.387121, ..., 0.180546, 0.194393, 0.278342])"
      ]
     },
     "execution_count": 31,
     "metadata": {},
     "output_type": "execute_result"
    }
   ],
   "source": [
    "dataset.targets"
   ]
  },
  {
   "cell_type": "code",
   "execution_count": 32,
   "id": "a3627f2a-378f-4a5e-bba2-5d6f6d52ce1f",
   "metadata": {
    "execution": {
     "iopub.execute_input": "2022-05-06T18:47:13.846179Z",
     "iopub.status.busy": "2022-05-06T18:47:13.846066Z",
     "iopub.status.idle": "2022-05-06T18:47:15.403101Z",
     "shell.execute_reply": "2022-05-06T18:47:15.402662Z",
     "shell.execute_reply.started": "2022-05-06T18:47:13.846164Z"
    },
    "tags": []
   },
   "outputs": [
    {
     "data": {
      "text/plain": [
       "{'rev_seq_file': '/cellar/users/aklie/projects/EUGENE/data/2021_OLS_Library/ohe_seq/0.09-0.4_X-all_ohe-seq-rev.npy',\n",
       " 'target_file': '/cellar/users/aklie/projects/EUGENE/data/2021_OLS_Library/activity/0.09-0.4_y-all_activity.txt',\n",
       " 'is_target_text': True}"
      ]
     },
     "execution_count": 32,
     "metadata": {},
     "output_type": "execute_result"
    }
   ],
   "source": [
    "mod.load_kwargs"
   ]
  },
  {
   "cell_type": "markdown",
   "id": "78886b92-3b24-4a4c-8573-f795f74aae88",
   "metadata": {},
   "source": [
    "# Train the model with a trainer"
   ]
  },
  {
   "cell_type": "code",
   "execution_count": 11,
   "id": "95ce1e59-606d-4f55-80a8-33340a8983c5",
   "metadata": {
    "execution": {
     "iopub.execute_input": "2022-04-24T00:14:27.434783Z",
     "iopub.status.busy": "2022-04-24T00:14:27.434657Z",
     "iopub.status.idle": "2022-04-24T00:14:28.632253Z",
     "shell.execute_reply": "2022-04-24T00:14:28.631748Z",
     "shell.execute_reply.started": "2022-04-24T00:14:27.434767Z"
    },
    "tags": []
   },
   "outputs": [
    {
     "name": "stderr",
     "output_type": "stream",
     "text": [
      "GPU available: True, used: True\n",
      "TPU available: False, using: 0 TPU cores\n",
      "IPU available: False, using: 0 IPUs\n"
     ]
    }
   ],
   "source": [
    "LOG_DIR = f\"../test/test_logs/config\"\n",
    "logger = TensorBoardLogger(LOG_DIR, name=MODEL, version=f\"{STRAND}_{TASK}\")\n",
    "trainer = pl.Trainer(gpus=1, max_epochs=10, logger=logger)"
   ]
  },
  {
   "cell_type": "code",
   "execution_count": 12,
   "id": "77e3be68-86f7-4d79-a35f-d1e4161e513a",
   "metadata": {
    "execution": {
     "iopub.execute_input": "2022-04-24T00:14:28.633162Z",
     "iopub.status.busy": "2022-04-24T00:14:28.633029Z",
     "iopub.status.idle": "2022-04-24T00:15:02.699548Z",
     "shell.execute_reply": "2022-04-24T00:15:02.699108Z",
     "shell.execute_reply.started": "2022-04-24T00:14:28.633146Z"
    },
    "tags": []
   },
   "outputs": [
    {
     "name": "stderr",
     "output_type": "stream",
     "text": [
      "LOCAL_RANK: 0 - CUDA_VISIBLE_DEVICES: [0]\n",
      "Set SLURM handle signals.\n",
      "\n",
      "  | Name     | Type                      | Params\n",
      "-------------------------------------------------------\n",
      "0 | fcn      | BasicFullyConnectedModule | 42.6 K\n",
      "1 | accuracy | Accuracy                  | 0     \n",
      "2 | auroc    | AUROC                     | 0     \n",
      "-------------------------------------------------------\n",
      "42.6 K    Trainable params\n",
      "0         Non-trainable params\n",
      "42.6 K    Total params\n",
      "0.170     Total estimated model params size (MB)\n"
     ]
    },
    {
     "data": {
      "application/vnd.jupyter.widget-view+json": {
       "model_id": "",
       "version_major": 2,
       "version_minor": 0
      },
      "text/plain": [
       "Validation sanity check: 0it [00:00, ?it/s]"
      ]
     },
     "metadata": {},
     "output_type": "display_data"
    },
    {
     "data": {
      "application/vnd.jupyter.widget-view+json": {
       "model_id": "05d528d5d31e4aad942db1517f03d2d6",
       "version_major": 2,
       "version_minor": 0
      },
      "text/plain": [
       "Training: 0it [00:00, ?it/s]"
      ]
     },
     "metadata": {},
     "output_type": "display_data"
    },
    {
     "data": {
      "application/vnd.jupyter.widget-view+json": {
       "model_id": "",
       "version_major": 2,
       "version_minor": 0
      },
      "text/plain": [
       "Validating: 0it [00:00, ?it/s]"
      ]
     },
     "metadata": {},
     "output_type": "display_data"
    },
    {
     "data": {
      "application/vnd.jupyter.widget-view+json": {
       "model_id": "",
       "version_major": 2,
       "version_minor": 0
      },
      "text/plain": [
       "Validating: 0it [00:00, ?it/s]"
      ]
     },
     "metadata": {},
     "output_type": "display_data"
    },
    {
     "data": {
      "application/vnd.jupyter.widget-view+json": {
       "model_id": "",
       "version_major": 2,
       "version_minor": 0
      },
      "text/plain": [
       "Validating: 0it [00:00, ?it/s]"
      ]
     },
     "metadata": {},
     "output_type": "display_data"
    },
    {
     "data": {
      "application/vnd.jupyter.widget-view+json": {
       "model_id": "",
       "version_major": 2,
       "version_minor": 0
      },
      "text/plain": [
       "Validating: 0it [00:00, ?it/s]"
      ]
     },
     "metadata": {},
     "output_type": "display_data"
    },
    {
     "data": {
      "application/vnd.jupyter.widget-view+json": {
       "model_id": "",
       "version_major": 2,
       "version_minor": 0
      },
      "text/plain": [
       "Validating: 0it [00:00, ?it/s]"
      ]
     },
     "metadata": {},
     "output_type": "display_data"
    },
    {
     "data": {
      "application/vnd.jupyter.widget-view+json": {
       "model_id": "",
       "version_major": 2,
       "version_minor": 0
      },
      "text/plain": [
       "Validating: 0it [00:00, ?it/s]"
      ]
     },
     "metadata": {},
     "output_type": "display_data"
    },
    {
     "data": {
      "application/vnd.jupyter.widget-view+json": {
       "model_id": "",
       "version_major": 2,
       "version_minor": 0
      },
      "text/plain": [
       "Validating: 0it [00:00, ?it/s]"
      ]
     },
     "metadata": {},
     "output_type": "display_data"
    },
    {
     "data": {
      "application/vnd.jupyter.widget-view+json": {
       "model_id": "",
       "version_major": 2,
       "version_minor": 0
      },
      "text/plain": [
       "Validating: 0it [00:00, ?it/s]"
      ]
     },
     "metadata": {},
     "output_type": "display_data"
    },
    {
     "data": {
      "application/vnd.jupyter.widget-view+json": {
       "model_id": "",
       "version_major": 2,
       "version_minor": 0
      },
      "text/plain": [
       "Validating: 0it [00:00, ?it/s]"
      ]
     },
     "metadata": {},
     "output_type": "display_data"
    },
    {
     "data": {
      "application/vnd.jupyter.widget-view+json": {
       "model_id": "",
       "version_major": 2,
       "version_minor": 0
      },
      "text/plain": [
       "Validating: 0it [00:00, ?it/s]"
      ]
     },
     "metadata": {},
     "output_type": "display_data"
    }
   ],
   "source": [
    "trainer.fit(model=eugene, datamodule=mod)"
   ]
  },
  {
   "cell_type": "markdown",
   "id": "23b15b0e-0b7b-4791-9806-04ff888bb49f",
   "metadata": {
    "tags": [],
    "toc-hr-collapsed": true
   },
   "source": [
    "# Scratch"
   ]
  }
 ],
 "metadata": {
  "interpreter": {
   "hash": "877ac64bedd0eab90089d6ca2747c50a37e983f6bb007df51c0a6db8dddb5e0e"
  },
  "kernelspec": {
   "display_name": "Python 3 pytorch_dev",
   "language": "python",
   "name": "pytorch_dev"
  },
  "language_info": {
   "codemirror_mode": {
    "name": "ipython",
    "version": 3
   },
   "file_extension": ".py",
   "mimetype": "text/x-python",
   "name": "python",
   "nbconvert_exporter": "python",
   "pygments_lexer": "ipython3",
   "version": "3.7.12"
  }
 },
 "nbformat": 4,
 "nbformat_minor": 5
}

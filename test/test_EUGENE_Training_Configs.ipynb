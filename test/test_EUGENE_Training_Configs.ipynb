{
 "cells": [
  {
   "cell_type": "markdown",
   "id": "47cc2c48",
   "metadata": {},
   "source": [
    "# Testing EUGENE training"
   ]
  },
  {
   "cell_type": "markdown",
   "id": "3b1880c3",
   "metadata": {
    "tags": []
   },
   "source": [
    "**Authorship:**\n",
    "Adam Klie, *03/19/2022*\n",
    "***\n",
    "**Description:**\n",
    "Notebook for testing the training of EUGENE architectures"
   ]
  },
  {
   "cell_type": "markdown",
   "id": "599007ce",
   "metadata": {},
   "source": [
    "<div class=\"alert alert-block alert-warning\">\n",
    "<b>TODOs</b>:\n",
    "<ul>\n",
    "    <b><li></li></b>\n",
    "    </ul>\n",
    "</div>"
   ]
  },
  {
   "cell_type": "markdown",
   "id": "41832ecc-a51e-4311-9372-b4a1ffb40139",
   "metadata": {},
   "source": [
    "# Set-up"
   ]
  },
  {
   "cell_type": "code",
   "execution_count": 1,
   "id": "1dd9ef33",
   "metadata": {
    "execution": {
     "iopub.execute_input": "2022-04-24T00:13:58.123306Z",
     "iopub.status.busy": "2022-04-24T00:13:58.123171Z",
     "iopub.status.idle": "2022-04-24T00:13:59.579377Z",
     "shell.execute_reply": "2022-04-24T00:13:59.578884Z",
     "shell.execute_reply.started": "2022-04-24T00:13:58.123267Z"
    },
    "tags": []
   },
   "outputs": [],
   "source": [
    "import numpy as np\n",
    "import pandas as pd\n",
    "\n",
    "# Autoreload extension\n",
    "if 'autoreload' not in get_ipython().extension_manager.loaded:\n",
    "    %load_ext autoreload\n",
    "%autoreload 2"
   ]
  },
  {
   "cell_type": "code",
   "execution_count": 2,
   "id": "bf8a26fe-0272-4533-b8cc-7a3c8e532ff0",
   "metadata": {
    "execution": {
     "iopub.execute_input": "2022-04-24T00:13:59.580273Z",
     "iopub.status.busy": "2022-04-24T00:13:59.580150Z",
     "iopub.status.idle": "2022-04-24T00:14:07.304118Z",
     "shell.execute_reply": "2022-04-24T00:14:07.303587Z",
     "shell.execute_reply.started": "2022-04-24T00:13:59.580257Z"
    },
    "tags": []
   },
   "outputs": [],
   "source": [
    "from eugene.dataloading.SeqDataModule import SeqDataModule"
   ]
  },
  {
   "cell_type": "markdown",
   "id": "e5602c89-ac01-44be-9d44-91eff5453329",
   "metadata": {},
   "source": [
    "# Model params"
   ]
  },
  {
   "cell_type": "code",
   "execution_count": 4,
   "id": "582d6abc-dc11-45f4-9fd7-85c694537079",
   "metadata": {
    "execution": {
     "iopub.execute_input": "2022-04-24T00:14:19.952703Z",
     "iopub.status.busy": "2022-04-24T00:14:19.952527Z",
     "iopub.status.idle": "2022-04-24T00:14:20.813694Z",
     "shell.execute_reply": "2022-04-24T00:14:20.813241Z",
     "shell.execute_reply.started": "2022-04-24T00:14:19.952684Z"
    },
    "tags": []
   },
   "outputs": [],
   "source": [
    "MODEL = \"fcn\"\n",
    "STRAND = \"ss\"\n",
    "TASK = \"binary_classification\""
   ]
  },
  {
   "cell_type": "markdown",
   "id": "5aa43cca-9ceb-4c6e-be78-4e73569d1331",
   "metadata": {},
   "source": [
    "# Instantiate model and data via config"
   ]
  },
  {
   "cell_type": "code",
   "execution_count": 5,
   "id": "42962217-79a1-431b-a03f-80785111e646",
   "metadata": {
    "execution": {
     "iopub.execute_input": "2022-04-24T00:14:20.833304Z",
     "iopub.status.busy": "2022-04-24T00:14:20.833174Z",
     "iopub.status.idle": "2022-04-24T00:14:21.943216Z",
     "shell.execute_reply": "2022-04-24T00:14:21.942723Z",
     "shell.execute_reply.started": "2022-04-24T00:14:20.833288Z"
    },
    "tags": []
   },
   "outputs": [],
   "source": [
    "import claim.utils as cu\n",
    "from eugene.models.FCN import FCN\n",
    "from eugene.models.CNN import CNN\n",
    "from eugene.models.RNN import RNN\n",
    "from eugene.models.hybrid import hybrid"
   ]
  },
  {
   "cell_type": "code",
   "execution_count": 6,
   "id": "76337125-47b3-496c-be13-06e22ce8e4bb",
   "metadata": {
    "execution": {
     "iopub.execute_input": "2022-04-24T00:14:21.944095Z",
     "iopub.status.busy": "2022-04-24T00:14:21.943976Z",
     "iopub.status.idle": "2022-04-24T00:14:22.857847Z",
     "shell.execute_reply": "2022-04-24T00:14:22.857490Z",
     "shell.execute_reply.started": "2022-04-24T00:14:21.944079Z"
    },
    "tags": []
   },
   "outputs": [],
   "source": [
    "import pytorch_lightning as pl\n",
    "from pytorch_lightning.utilities.cli import LightningArgumentParser\n",
    "from pytorch_lightning.loggers import TensorBoardLogger"
   ]
  },
  {
   "cell_type": "code",
   "execution_count": 7,
   "id": "b005f679-0763-447a-8fbb-cc9fe91c9b86",
   "metadata": {
    "execution": {
     "iopub.execute_input": "2022-04-24T00:14:22.858745Z",
     "iopub.status.busy": "2022-04-24T00:14:22.858629Z",
     "iopub.status.idle": "2022-04-24T00:14:23.924705Z",
     "shell.execute_reply": "2022-04-24T00:14:23.924357Z",
     "shell.execute_reply.started": "2022-04-24T00:14:22.858728Z"
    },
    "tags": []
   },
   "outputs": [],
   "source": [
    "parser = LightningArgumentParser()\n",
    "parser.add_lightning_class_args(pl.Trainer, nested_key=\"trainer\")\n",
    "parser.add_lightning_class_args(SeqDataModule, nested_key=\"data\")\n",
    "parser.add_lightning_class_args(FCN, nested_key=\"model\");"
   ]
  },
  {
   "cell_type": "code",
   "execution_count": 8,
   "id": "bf78b59e-36d4-4ef3-9b14-62a99e436a87",
   "metadata": {
    "execution": {
     "iopub.execute_input": "2022-04-24T00:14:23.925461Z",
     "iopub.status.busy": "2022-04-24T00:14:23.925346Z",
     "iopub.status.idle": "2022-04-24T00:14:25.166537Z",
     "shell.execute_reply": "2022-04-24T00:14:25.166077Z",
     "shell.execute_reply.started": "2022-04-24T00:14:23.925444Z"
    },
    "tags": []
   },
   "outputs": [
    {
     "name": "stderr",
     "output_type": "stream",
     "text": [
      "/cellar/users/aklie/opt/miniconda3/envs/pytorch_dev/lib/python3.7/site-packages/torchmetrics/utilities/prints.py:36: UserWarning: Metric `AUROC` will save all targets and predictions in buffer. For large datasets this may lead to large memory footprint.\n",
      "  warnings.warn(*args, **kwargs)\n"
     ]
    }
   ],
   "source": [
    "config = \"/cellar/users/aklie/projects/EUGENE/config/full/1_full_fcn.yaml\"\n",
    "yml = parser.parse_path(cfg_path=config)\n",
    "mod = SeqDataModule(**yml[\"data\"])\n",
    "eugene = FCN(**yml[\"model\"])"
   ]
  },
  {
   "cell_type": "code",
   "execution_count": 9,
   "id": "41692109-1ca0-4d64-bf02-21ef531af196",
   "metadata": {
    "execution": {
     "iopub.execute_input": "2022-04-24T00:14:25.167288Z",
     "iopub.status.busy": "2022-04-24T00:14:25.167167Z",
     "iopub.status.idle": "2022-04-24T00:14:26.247507Z",
     "shell.execute_reply": "2022-04-24T00:14:26.247150Z",
     "shell.execute_reply.started": "2022-04-24T00:14:25.167272Z"
    },
    "tags": []
   },
   "outputs": [
    {
     "data": {
      "text/plain": [
       "FCN(\n",
       "  (fcn): BasicFullyConnectedModule(\n",
       "    (module): Sequential(\n",
       "      (0): Linear(in_features=264, out_features=128, bias=True)\n",
       "      (1): ReLU(inplace=True)\n",
       "      (2): Dropout(p=0.2, inplace=False)\n",
       "      (3): BatchNorm1d(128, eps=1e-05, momentum=0.1, affine=True, track_running_stats=True)\n",
       "      (4): Linear(in_features=128, out_features=64, bias=True)\n",
       "      (5): ReLU(inplace=True)\n",
       "      (6): Dropout(p=0.2, inplace=False)\n",
       "      (7): BatchNorm1d(64, eps=1e-05, momentum=0.1, affine=True, track_running_stats=True)\n",
       "      (8): Linear(in_features=64, out_features=1, bias=True)\n",
       "    )\n",
       "  )\n",
       "  (accuracy): Accuracy()\n",
       "  (auroc): AUROC()\n",
       ")"
      ]
     },
     "execution_count": 9,
     "metadata": {},
     "output_type": "execute_result"
    }
   ],
   "source": [
    "eugene"
   ]
  },
  {
   "cell_type": "code",
   "execution_count": 10,
   "id": "a3627f2a-378f-4a5e-bba2-5d6f6d52ce1f",
   "metadata": {
    "execution": {
     "iopub.execute_input": "2022-04-24T00:14:26.248276Z",
     "iopub.status.busy": "2022-04-24T00:14:26.248157Z",
     "iopub.status.idle": "2022-04-24T00:14:27.433834Z",
     "shell.execute_reply": "2022-04-24T00:14:27.433522Z",
     "shell.execute_reply.started": "2022-04-24T00:14:26.248260Z"
    },
    "tags": []
   },
   "outputs": [
    {
     "data": {
      "text/plain": [
       "'/cellar/users/aklie/projects/EUGENE/data/2021_OLS_Library/ohe_seq/0.09-0.4_X-training_ohe-seq.npy'"
      ]
     },
     "execution_count": 10,
     "metadata": {},
     "output_type": "execute_result"
    }
   ],
   "source": [
    "mod.seq_file"
   ]
  },
  {
   "cell_type": "markdown",
   "id": "78886b92-3b24-4a4c-8573-f795f74aae88",
   "metadata": {},
   "source": [
    "# Train the model with a trainer"
   ]
  },
  {
   "cell_type": "code",
   "execution_count": 11,
   "id": "95ce1e59-606d-4f55-80a8-33340a8983c5",
   "metadata": {
    "execution": {
     "iopub.execute_input": "2022-04-24T00:14:27.434783Z",
     "iopub.status.busy": "2022-04-24T00:14:27.434657Z",
     "iopub.status.idle": "2022-04-24T00:14:28.632253Z",
     "shell.execute_reply": "2022-04-24T00:14:28.631748Z",
     "shell.execute_reply.started": "2022-04-24T00:14:27.434767Z"
    },
    "tags": []
   },
   "outputs": [
    {
     "name": "stderr",
     "output_type": "stream",
     "text": [
      "GPU available: True, used: True\n",
      "TPU available: False, using: 0 TPU cores\n",
      "IPU available: False, using: 0 IPUs\n"
     ]
    }
   ],
   "source": [
    "LOG_DIR = f\"../test/test_logs/config\"\n",
    "logger = TensorBoardLogger(LOG_DIR, name=MODEL, version=f\"{STRAND}_{TASK}\")\n",
    "trainer = pl.Trainer(gpus=1, max_epochs=10, logger=logger)"
   ]
  },
  {
   "cell_type": "code",
   "execution_count": 12,
   "id": "77e3be68-86f7-4d79-a35f-d1e4161e513a",
   "metadata": {
    "execution": {
     "iopub.execute_input": "2022-04-24T00:14:28.633162Z",
     "iopub.status.busy": "2022-04-24T00:14:28.633029Z",
     "iopub.status.idle": "2022-04-24T00:15:02.699548Z",
     "shell.execute_reply": "2022-04-24T00:15:02.699108Z",
     "shell.execute_reply.started": "2022-04-24T00:14:28.633146Z"
    },
    "tags": []
   },
   "outputs": [
    {
     "name": "stderr",
     "output_type": "stream",
     "text": [
      "LOCAL_RANK: 0 - CUDA_VISIBLE_DEVICES: [0]\n",
      "Set SLURM handle signals.\n",
      "\n",
      "  | Name     | Type                      | Params\n",
      "-------------------------------------------------------\n",
      "0 | fcn      | BasicFullyConnectedModule | 42.6 K\n",
      "1 | accuracy | Accuracy                  | 0     \n",
      "2 | auroc    | AUROC                     | 0     \n",
      "-------------------------------------------------------\n",
      "42.6 K    Trainable params\n",
      "0         Non-trainable params\n",
      "42.6 K    Total params\n",
      "0.170     Total estimated model params size (MB)\n"
     ]
    },
    {
     "data": {
      "application/vnd.jupyter.widget-view+json": {
       "model_id": "",
       "version_major": 2,
       "version_minor": 0
      },
      "text/plain": [
       "Validation sanity check: 0it [00:00, ?it/s]"
      ]
     },
     "metadata": {},
     "output_type": "display_data"
    },
    {
     "data": {
      "application/vnd.jupyter.widget-view+json": {
       "model_id": "05d528d5d31e4aad942db1517f03d2d6",
       "version_major": 2,
       "version_minor": 0
      },
      "text/plain": [
       "Training: 0it [00:00, ?it/s]"
      ]
     },
     "metadata": {},
     "output_type": "display_data"
    },
    {
     "data": {
      "application/vnd.jupyter.widget-view+json": {
       "model_id": "",
       "version_major": 2,
       "version_minor": 0
      },
      "text/plain": [
       "Validating: 0it [00:00, ?it/s]"
      ]
     },
     "metadata": {},
     "output_type": "display_data"
    },
    {
     "data": {
      "application/vnd.jupyter.widget-view+json": {
       "model_id": "",
       "version_major": 2,
       "version_minor": 0
      },
      "text/plain": [
       "Validating: 0it [00:00, ?it/s]"
      ]
     },
     "metadata": {},
     "output_type": "display_data"
    },
    {
     "data": {
      "application/vnd.jupyter.widget-view+json": {
       "model_id": "",
       "version_major": 2,
       "version_minor": 0
      },
      "text/plain": [
       "Validating: 0it [00:00, ?it/s]"
      ]
     },
     "metadata": {},
     "output_type": "display_data"
    },
    {
     "data": {
      "application/vnd.jupyter.widget-view+json": {
       "model_id": "",
       "version_major": 2,
       "version_minor": 0
      },
      "text/plain": [
       "Validating: 0it [00:00, ?it/s]"
      ]
     },
     "metadata": {},
     "output_type": "display_data"
    },
    {
     "data": {
      "application/vnd.jupyter.widget-view+json": {
       "model_id": "",
       "version_major": 2,
       "version_minor": 0
      },
      "text/plain": [
       "Validating: 0it [00:00, ?it/s]"
      ]
     },
     "metadata": {},
     "output_type": "display_data"
    },
    {
     "data": {
      "application/vnd.jupyter.widget-view+json": {
       "model_id": "",
       "version_major": 2,
       "version_minor": 0
      },
      "text/plain": [
       "Validating: 0it [00:00, ?it/s]"
      ]
     },
     "metadata": {},
     "output_type": "display_data"
    },
    {
     "data": {
      "application/vnd.jupyter.widget-view+json": {
       "model_id": "",
       "version_major": 2,
       "version_minor": 0
      },
      "text/plain": [
       "Validating: 0it [00:00, ?it/s]"
      ]
     },
     "metadata": {},
     "output_type": "display_data"
    },
    {
     "data": {
      "application/vnd.jupyter.widget-view+json": {
       "model_id": "",
       "version_major": 2,
       "version_minor": 0
      },
      "text/plain": [
       "Validating: 0it [00:00, ?it/s]"
      ]
     },
     "metadata": {},
     "output_type": "display_data"
    },
    {
     "data": {
      "application/vnd.jupyter.widget-view+json": {
       "model_id": "",
       "version_major": 2,
       "version_minor": 0
      },
      "text/plain": [
       "Validating: 0it [00:00, ?it/s]"
      ]
     },
     "metadata": {},
     "output_type": "display_data"
    },
    {
     "data": {
      "application/vnd.jupyter.widget-view+json": {
       "model_id": "",
       "version_major": 2,
       "version_minor": 0
      },
      "text/plain": [
       "Validating: 0it [00:00, ?it/s]"
      ]
     },
     "metadata": {},
     "output_type": "display_data"
    }
   ],
   "source": [
    "trainer.fit(model=eugene, datamodule=mod)"
   ]
  },
  {
   "cell_type": "markdown",
   "id": "23b15b0e-0b7b-4791-9806-04ff888bb49f",
   "metadata": {
    "tags": [],
    "toc-hr-collapsed": true
   },
   "source": [
    "# Scratch"
   ]
  }
 ],
 "metadata": {
  "interpreter": {
   "hash": "877ac64bedd0eab90089d6ca2747c50a37e983f6bb007df51c0a6db8dddb5e0e"
  },
  "kernelspec": {
   "display_name": "Python 3 pytorch_dev",
   "language": "python",
   "name": "pytorch_dev"
  },
  "language_info": {
   "codemirror_mode": {
    "name": "ipython",
    "version": 3
   },
   "file_extension": ".py",
   "mimetype": "text/x-python",
   "name": "python",
   "nbconvert_exporter": "python",
   "pygments_lexer": "ipython3",
   "version": "3.7.12"
  }
 },
 "nbformat": 4,
 "nbformat_minor": 5
}

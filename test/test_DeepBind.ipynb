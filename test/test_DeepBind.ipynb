{
 "cells": [
  {
   "cell_type": "markdown",
   "id": "b4015d04",
   "metadata": {},
   "source": [
    "# Setup of file and variables"
   ]
  },
  {
   "cell_type": "code",
   "execution_count": 1,
   "id": "0bd57526",
   "metadata": {},
   "outputs": [],
   "source": [
    "import numpy as np\n",
    "import pandas as pd\n",
    "import torch\n",
    "\n",
    "# Autoreload extension\n",
    "if 'autoreload' not in get_ipython().extension_manager.loaded:\n",
    "    %load_ext autoreload\n",
    "%autoreload 2"
   ]
  },
  {
   "cell_type": "code",
   "execution_count": 2,
   "id": "4c6932cc",
   "metadata": {},
   "outputs": [
    {
     "name": "stderr",
     "output_type": "stream",
     "text": [
      "Global seed set to 13\n"
     ]
    },
    {
     "name": "stdout",
     "output_type": "stream",
     "text": [
      "c:\\users\\lab\\documents\\eugene\\eugene\\utils\\..\\datasets/auxiliary/parsed_Gata6_3769_contig8mers.txt\n"
     ]
    }
   ],
   "source": [
    "from eugene.models import DeepBind"
   ]
  },
  {
   "cell_type": "code",
   "execution_count": 3,
   "id": "0172bcae",
   "metadata": {},
   "outputs": [],
   "source": [
    "# Length of strand\n",
    "x_len = 66\n",
    "\n",
    "# Substitute x and x_rev for their respective data\n",
    "x = torch.randn(10, 4, x_len)\n",
    "x_rev = torch.randn(10, 4, x_len)"
   ]
  },
  {
   "cell_type": "markdown",
   "id": "027e874a",
   "metadata": {},
   "source": [
    "# Simple usage of DeepBind module\n",
    "\n",
    "The DeepBind module only requires one parameter to function. It can be further customized with optional parameters."
   ]
  },
  {
   "cell_type": "code",
   "execution_count": 4,
   "id": "ebdd1bde",
   "metadata": {},
   "outputs": [
    {
     "data": {
      "text/plain": [
       "DeepBind(\n",
       "  (max_pool): MaxPool1d(kernel_size=4, stride=4, padding=0, dilation=1, ceil_mode=False)\n",
       "  (avg_pool): AvgPool1d(kernel_size=(4,), stride=(4,), padding=(0,))\n",
       "  (convnet): BasicConv1D(\n",
       "    (module): Sequential(\n",
       "      (0): Conv1d(4, 16, kernel_size=(4,), stride=(1,))\n",
       "      (1): ReLU(inplace=True)\n",
       "      (2): Dropout(p=0.2, inplace=False)\n",
       "    )\n",
       "  )\n",
       "  (fcn): BasicFullyConnectedModule(\n",
       "    (module): Sequential(\n",
       "      (0): Linear(in_features=504, out_features=256, bias=True)\n",
       "      (1): ReLU(inplace=True)\n",
       "      (2): Dropout(p=0.2, inplace=False)\n",
       "      (3): Linear(in_features=256, out_features=64, bias=True)\n",
       "      (4): ReLU(inplace=True)\n",
       "      (5): Dropout(p=0.2, inplace=False)\n",
       "      (6): Linear(in_features=64, out_features=16, bias=True)\n",
       "      (7): ReLU(inplace=True)\n",
       "      (8): Dropout(p=0.2, inplace=False)\n",
       "      (9): Linear(in_features=16, out_features=4, bias=True)\n",
       "      (10): ReLU(inplace=True)\n",
       "      (11): Dropout(p=0.2, inplace=False)\n",
       "      (12): Linear(in_features=4, out_features=1, bias=True)\n",
       "    )\n",
       "  )\n",
       "  (r_squared): R2Score()\n",
       ")"
      ]
     },
     "execution_count": 4,
     "metadata": {},
     "output_type": "execute_result"
    }
   ],
   "source": [
    "simple_deepbind_instance = DeepBind(input_len=x_len)\n",
    "\n",
    "simple_deepbind_instance"
   ]
  },
  {
   "cell_type": "code",
   "execution_count": 5,
   "id": "40ae4a20",
   "metadata": {},
   "outputs": [
    {
     "data": {
      "text/plain": [
       "(tensor([[0.1823],\n",
       "         [0.1911],\n",
       "         [0.2143],\n",
       "         [0.2120],\n",
       "         [0.1868],\n",
       "         [0.1964],\n",
       "         [0.1680],\n",
       "         [0.1929],\n",
       "         [0.1392],\n",
       "         [0.1944]], grad_fn=<AddmmBackward0>),\n",
       " torch.Size([10, 1]))"
      ]
     },
     "execution_count": 5,
     "metadata": {},
     "output_type": "execute_result"
    }
   ],
   "source": [
    "# x_rev does not need to be specified in single strand mode\n",
    "out = simple_deepbind_instance(x)\n",
    "\n",
    "out, out.shape"
   ]
  },
  {
   "cell_type": "markdown",
   "id": "c453be53",
   "metadata": {},
   "source": [
    "# DeepBind Parameters\n",
    "\n",
    "- input_len : int - length of input strand\n",
    "- strand : string - type of strand to process, only  || default : \"ss\" || res: single (\"ss\"), double (\"ds\"), twin (\"ts\")\n",
    "- task : string - task for the model to perform || default : \"regression\" || res: \"regression\", \"binary_classification\"\n",
    "\n",
    "#### mp_kwargs\n",
    "\n",
    "- kernel_size : int - motif pooling kernel size || default : 4 || res : multiples of 2\n",
    "\n",
    "#### conv_kwargs\n",
    "\n",
    "- channels : list of ints - amount of channels for each convolutional layer || default : [4, 16]\n",
    "- conv_kernels : list of int(s) - size of convolutional kernels || default : [4] || res : length must be 1 less than that of channels\n",
    "- pool_kernels : list of int(s) - size of max pooling kernels || default : [4] || res: length must be 1 less than that of channels, only applies is length of channels is > 2\n",
    "- omit_final_pool : boolean - bypass final max pooling step of output || default : True\n",
    "- dropout_rates : float - probability for the dropout of any given node || default : 0.2\n",
    "- batchnorm : boolean - enable batch normalization between layers || default : False\n",
    "\n",
    "#### fc_kwargs\n",
    "\n",
    "- output_dim : int - number of output dimensions for the network || default : 1\n",
    "- hidden_dims : list of int(s) - width of each hidden dimension || default : [256, 64, 16, 4]\n",
    "- dropout_rate : float - probability for the dropout of any given node || default : 0.2\n",
    "- batchnorm : boolean - enable batch normalization between layers || default : False"
   ]
  },
  {
   "cell_type": "code",
   "execution_count": 6,
   "id": "ffc3b57d",
   "metadata": {},
   "outputs": [
    {
     "data": {
      "text/plain": [
       "DeepBind(\n",
       "  (max_pool): MaxPool1d(kernel_size=16, stride=16, padding=0, dilation=1, ceil_mode=False)\n",
       "  (avg_pool): AvgPool1d(kernel_size=(16,), stride=(16,), padding=(0,))\n",
       "  (convnet): BasicConv1D(\n",
       "    (module): Sequential(\n",
       "      (0): Conv1d(4, 16, kernel_size=(4,), stride=(1,))\n",
       "      (1): ReLU(inplace=True)\n",
       "      (2): MaxPool1d(kernel_size=4, stride=4, padding=0, dilation=1, ceil_mode=False)\n",
       "      (3): Dropout(p=0.5, inplace=False)\n",
       "      (4): BatchNorm1d(16, eps=1e-05, momentum=0.1, affine=True, track_running_stats=True)\n",
       "      (5): Conv1d(16, 32, kernel_size=(4,), stride=(1,))\n",
       "      (6): ReLU(inplace=True)\n",
       "      (7): MaxPool1d(kernel_size=4, stride=4, padding=0, dilation=1, ceil_mode=False)\n",
       "      (8): Dropout(p=0.5, inplace=False)\n",
       "      (9): BatchNorm1d(32, eps=1e-05, momentum=0.1, affine=True, track_running_stats=True)\n",
       "    )\n",
       "  )\n",
       "  (fcn): BasicFullyConnectedModule(\n",
       "    (module): Sequential(\n",
       "      (0): Linear(in_features=12, out_features=256, bias=True)\n",
       "      (1): ReLU(inplace=True)\n",
       "      (2): Dropout(p=0.3, inplace=False)\n",
       "      (3): BatchNorm1d(256, eps=1e-05, momentum=0.1, affine=True, track_running_stats=True)\n",
       "      (4): Linear(in_features=256, out_features=128, bias=True)\n",
       "      (5): ReLU(inplace=True)\n",
       "      (6): Dropout(p=0.3, inplace=False)\n",
       "      (7): BatchNorm1d(128, eps=1e-05, momentum=0.1, affine=True, track_running_stats=True)\n",
       "      (8): Linear(in_features=128, out_features=64, bias=True)\n",
       "      (9): ReLU(inplace=True)\n",
       "      (10): Dropout(p=0.3, inplace=False)\n",
       "      (11): BatchNorm1d(64, eps=1e-05, momentum=0.1, affine=True, track_running_stats=True)\n",
       "      (12): Linear(in_features=64, out_features=32, bias=True)\n",
       "      (13): ReLU(inplace=True)\n",
       "      (14): Dropout(p=0.3, inplace=False)\n",
       "      (15): BatchNorm1d(32, eps=1e-05, momentum=0.1, affine=True, track_running_stats=True)\n",
       "      (16): Linear(in_features=32, out_features=16, bias=True)\n",
       "      (17): ReLU(inplace=True)\n",
       "      (18): Dropout(p=0.3, inplace=False)\n",
       "      (19): BatchNorm1d(16, eps=1e-05, momentum=0.1, affine=True, track_running_stats=True)\n",
       "      (20): Linear(in_features=16, out_features=5, bias=True)\n",
       "    )\n",
       "  )\n",
       "  (reverse_convnet): BasicConv1D(\n",
       "    (module): Sequential(\n",
       "      (0): Conv1d(4, 16, kernel_size=(4,), stride=(1,))\n",
       "      (1): ReLU(inplace=True)\n",
       "      (2): MaxPool1d(kernel_size=4, stride=4, padding=0, dilation=1, ceil_mode=False)\n",
       "      (3): Dropout(p=0.5, inplace=False)\n",
       "      (4): BatchNorm1d(16, eps=1e-05, momentum=0.1, affine=True, track_running_stats=True)\n",
       "      (5): Conv1d(16, 32, kernel_size=(4,), stride=(1,))\n",
       "      (6): ReLU(inplace=True)\n",
       "      (7): MaxPool1d(kernel_size=4, stride=4, padding=0, dilation=1, ceil_mode=False)\n",
       "      (8): Dropout(p=0.5, inplace=False)\n",
       "      (9): BatchNorm1d(32, eps=1e-05, momentum=0.1, affine=True, track_running_stats=True)\n",
       "    )\n",
       "  )\n",
       "  (reverse_fcn): BasicFullyConnectedModule(\n",
       "    (module): Sequential(\n",
       "      (0): Linear(in_features=12, out_features=256, bias=True)\n",
       "      (1): ReLU(inplace=True)\n",
       "      (2): Dropout(p=0.3, inplace=False)\n",
       "      (3): BatchNorm1d(256, eps=1e-05, momentum=0.1, affine=True, track_running_stats=True)\n",
       "      (4): Linear(in_features=256, out_features=128, bias=True)\n",
       "      (5): ReLU(inplace=True)\n",
       "      (6): Dropout(p=0.3, inplace=False)\n",
       "      (7): BatchNorm1d(128, eps=1e-05, momentum=0.1, affine=True, track_running_stats=True)\n",
       "      (8): Linear(in_features=128, out_features=64, bias=True)\n",
       "      (9): ReLU(inplace=True)\n",
       "      (10): Dropout(p=0.3, inplace=False)\n",
       "      (11): BatchNorm1d(64, eps=1e-05, momentum=0.1, affine=True, track_running_stats=True)\n",
       "      (12): Linear(in_features=64, out_features=32, bias=True)\n",
       "      (13): ReLU(inplace=True)\n",
       "      (14): Dropout(p=0.3, inplace=False)\n",
       "      (15): BatchNorm1d(32, eps=1e-05, momentum=0.1, affine=True, track_running_stats=True)\n",
       "      (16): Linear(in_features=32, out_features=16, bias=True)\n",
       "      (17): ReLU(inplace=True)\n",
       "      (18): Dropout(p=0.3, inplace=False)\n",
       "      (19): BatchNorm1d(16, eps=1e-05, momentum=0.1, affine=True, track_running_stats=True)\n",
       "      (20): Linear(in_features=16, out_features=5, bias=True)\n",
       "    )\n",
       "  )\n",
       "  (r_squared): R2Score()\n",
       ")"
      ]
     },
     "execution_count": 6,
     "metadata": {},
     "output_type": "execute_result"
    }
   ],
   "source": [
    "customized_deepbind_instance = DeepBind(\n",
    "    input_len=x_len,\n",
    "    strand=\"ts\",\n",
    "    mp_kwargs=dict(kernel_size=16),\n",
    "    conv_kwargs=dict(channels=[4, 16, 32], conv_kernels=[4, 4], pool_kernels=[4, 4], omit_final_pool=False, dropout_rates=0.5, batchnorm=True),\n",
    "    fc_kwargs=dict(output_dim=5, hidden_dims=[256, 128, 64, 32, 16], dropout_rate=0.3, batchnorm=True)\n",
    ")\n",
    "\n",
    "customized_deepbind_instance"
   ]
  },
  {
   "cell_type": "code",
   "execution_count": 7,
   "id": "46d8d86c",
   "metadata": {},
   "outputs": [
    {
     "data": {
      "text/plain": [
       "(tensor([[-0.0992],\n",
       "         [ 0.3343],\n",
       "         [-0.1015],\n",
       "         [-0.4366],\n",
       "         [ 0.0307],\n",
       "         [-0.1742],\n",
       "         [-0.1436],\n",
       "         [ 0.2214],\n",
       "         [-0.1211],\n",
       "         [ 0.0179]], grad_fn=<UnsqueezeBackward0>),\n",
       " torch.Size([10, 1]))"
      ]
     },
     "execution_count": 7,
     "metadata": {},
     "output_type": "execute_result"
    }
   ],
   "source": [
    "# x_rev must be specified in double and twin strand modes\n",
    "out = customized_deepbind_instance(x, x_rev)\n",
    "\n",
    "out, out.shape"
   ]
  }
 ],
 "metadata": {
  "kernelspec": {
   "display_name": "Python 3 (ipykernel)",
   "language": "python",
   "name": "python3"
  },
  "language_info": {
   "codemirror_mode": {
    "name": "ipython",
    "version": 3
   },
   "file_extension": ".py",
   "mimetype": "text/x-python",
   "name": "python",
   "nbconvert_exporter": "python",
   "pygments_lexer": "ipython3",
   "version": "3.9.12"
  },
  "vscode": {
   "interpreter": {
    "hash": "a445412b3331741a9e83c12b8d1f58585dfec4cc047851993ff836572bfde74d"
   }
  }
 },
 "nbformat": 4,
 "nbformat_minor": 5
}

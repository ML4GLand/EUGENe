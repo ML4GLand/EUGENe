{
 "cells": [
  {
   "cell_type": "markdown",
   "id": "90a88efe-ebb3-424c-8704-fb4ee189af2c",
   "metadata": {},
   "source": [
    "# Testing EUGENE package structure"
   ]
  },
  {
   "cell_type": "markdown",
   "id": "2d058003-a667-4b45-9ddc-e47efe48e0e1",
   "metadata": {
    "tags": []
   },
   "source": [
    "**Authorship:**\n",
    "Adam Klie, *04/06/2022*\n",
    "***\n",
    "**Description:**\n",
    "Notebook to test the EUGENE package module importing\n",
    "***\n",
    "<div class=\"alert alert-block alert-warning\">\n",
    "<b>TODOs</b>:\n",
    "<ul>\n",
    "    <b><li></li></b>\n",
    "    <b><li></li></b>\n",
    "    <b><li></li></b>\n",
    "    </ul>\n",
    "</div>"
   ]
  },
  {
   "cell_type": "markdown",
   "id": "a2a2c4a5-1dac-4dce-8e87-cb83f07de4c3",
   "metadata": {
    "execution": {
     "iopub.execute_input": "2021-09-05T21:21:18.602440Z",
     "iopub.status.busy": "2021-09-05T21:21:18.602151Z",
     "iopub.status.idle": "2021-09-05T21:21:18.606439Z",
     "shell.execute_reply": "2021-09-05T21:21:18.605256Z",
     "shell.execute_reply.started": "2021-09-05T21:21:18.602409Z"
    },
    "tags": []
   },
   "source": [
    "# Set-up"
   ]
  },
  {
   "cell_type": "code",
   "execution_count": 58,
   "id": "3ebaff6f",
   "metadata": {
    "execution": {
     "iopub.execute_input": "2022-04-07T06:28:21.761942Z",
     "iopub.status.busy": "2022-04-07T06:28:21.761746Z",
     "iopub.status.idle": "2022-04-07T06:28:22.828660Z",
     "shell.execute_reply": "2022-04-07T06:28:22.828292Z",
     "shell.execute_reply.started": "2022-04-07T06:28:21.761924Z"
    },
    "tags": []
   },
   "outputs": [],
   "source": [
    "# The classics\n",
    "import pandas as pd\n",
    "import numpy as np\n",
    "\n",
    "# Autoreload extension\n",
    "if 'autoreload' not in get_ipython().extension_manager.loaded:\n",
    "    %load_ext autoreload\n",
    "%autoreload 2\n",
    "\n",
    "# Basic import\n",
    "import eugene"
   ]
  },
  {
   "cell_type": "markdown",
   "id": "1780090a-b0a5-4178-a2bd-f6d5cd48284a",
   "metadata": {},
   "source": [
    "# Dataloading"
   ]
  },
  {
   "cell_type": "code",
   "execution_count": 59,
   "id": "3d6bd49d-da47-4b66-8b87-a7defe4fe687",
   "metadata": {
    "execution": {
     "iopub.execute_input": "2022-04-07T06:28:22.829405Z",
     "iopub.status.busy": "2022-04-07T06:28:22.829295Z",
     "iopub.status.idle": "2022-04-07T06:28:23.781959Z",
     "shell.execute_reply": "2022-04-07T06:28:23.781488Z",
     "shell.execute_reply.started": "2022-04-07T06:28:22.829389Z"
    },
    "tags": []
   },
   "outputs": [],
   "source": [
    "from eugene.dataloading import load_data"
   ]
  },
  {
   "cell_type": "code",
   "execution_count": 60,
   "id": "d67f2e90-a685-4730-a8f2-a41bc3204b2c",
   "metadata": {
    "execution": {
     "iopub.execute_input": "2022-04-07T06:28:23.782998Z",
     "iopub.status.busy": "2022-04-07T06:28:23.782881Z",
     "iopub.status.idle": "2022-04-07T06:28:24.715973Z",
     "shell.execute_reply": "2022-04-07T06:28:24.715532Z",
     "shell.execute_reply.started": "2022-04-07T06:28:23.782982Z"
    },
    "tags": []
   },
   "outputs": [
    {
     "data": {
      "text/plain": [
       "\u001b[0;31mInit signature:\u001b[0m \u001b[0mSeqDataset\u001b[0m\u001b[0;34m(\u001b[0m\u001b[0;34m*\u001b[0m\u001b[0margs\u001b[0m\u001b[0;34m,\u001b[0m \u001b[0;34m**\u001b[0m\u001b[0mkwds\u001b[0m\u001b[0;34m)\u001b[0m\u001b[0;34m\u001b[0m\u001b[0;34m\u001b[0m\u001b[0m\n",
       "\u001b[0;31mDocstring:\u001b[0m      Sequence based PyTorch dataset definition\n",
       "\u001b[0;31mInit docstring:\u001b[0m\n",
       "Args:\n",
       "    seqs (iterable): list of sequences to serve as input into models\n",
       "    names (iterable, optional): list of identifiers for sequences\n",
       "    targets (iterable): aligned list of targets for each sequence\n",
       "    rev_seqs (iterable, optional): Optional reverse complements of seqs\n",
       "    transform (callable, optional): Optional transform to be applied\n",
       "        on a sample.\n",
       "\u001b[0;31mFile:\u001b[0m           /mnt/beegfs/users/aklie/projects/EUGENE/eugene/dataloading/SeqDataset.py\n",
       "\u001b[0;31mType:\u001b[0m           type\n",
       "\u001b[0;31mSubclasses:\u001b[0m     \n"
      ]
     },
     "metadata": {},
     "output_type": "display_data"
    }
   ],
   "source": [
    "from eugene.dataloading.SeqDataset import SeqDataset\n",
    "SeqDataset?"
   ]
  },
  {
   "cell_type": "code",
   "execution_count": 61,
   "id": "89d4e3a6-2333-4219-984c-9db91bbb030a",
   "metadata": {
    "execution": {
     "iopub.execute_input": "2022-04-07T06:28:24.716861Z",
     "iopub.status.busy": "2022-04-07T06:28:24.716744Z",
     "iopub.status.idle": "2022-04-07T06:28:25.662787Z",
     "shell.execute_reply": "2022-04-07T06:28:25.662316Z",
     "shell.execute_reply.started": "2022-04-07T06:28:24.716845Z"
    },
    "tags": []
   },
   "outputs": [
    {
     "data": {
      "text/plain": [
       "\u001b[0;31mInit signature:\u001b[0m \u001b[0mSeqDataModule\u001b[0m\u001b[0;34m(\u001b[0m\u001b[0;34m*\u001b[0m\u001b[0margs\u001b[0m\u001b[0;34m:\u001b[0m \u001b[0mAny\u001b[0m\u001b[0;34m,\u001b[0m \u001b[0;34m**\u001b[0m\u001b[0mkwargs\u001b[0m\u001b[0;34m:\u001b[0m \u001b[0mAny\u001b[0m\u001b[0;34m)\u001b[0m \u001b[0;34m->\u001b[0m \u001b[0;34m'LightningDataModule'\u001b[0m\u001b[0;34m\u001b[0m\u001b[0;34m\u001b[0m\u001b[0m\n",
       "\u001b[0;31mDocstring:\u001b[0m     \n",
       "A DataModule standardizes the training, val, test splits, data preparation and transforms. The main\n",
       "advantage is consistent data splits, data preparation and transforms across models.\n",
       "\n",
       "Example::\n",
       "\n",
       "    class MyDataModule(LightningDataModule):\n",
       "        def __init__(self):\n",
       "            super().__init__()\n",
       "        def prepare_data(self):\n",
       "            # download, split, etc...\n",
       "            # only called on 1 GPU/TPU in distributed\n",
       "        def setup(self, stage):\n",
       "            # make assignments here (val/train/test split)\n",
       "            # called on every process in DDP\n",
       "        def train_dataloader(self):\n",
       "            train_split = Dataset(...)\n",
       "            return DataLoader(train_split)\n",
       "        def val_dataloader(self):\n",
       "            val_split = Dataset(...)\n",
       "            return DataLoader(val_split)\n",
       "        def test_dataloader(self):\n",
       "            test_split = Dataset(...)\n",
       "            return DataLoader(test_split)\n",
       "        def teardown(self):\n",
       "            # clean up after fit or test\n",
       "            # called on every process in DDP\n",
       "\n",
       "A DataModule implements 6 key methods:\n",
       "\n",
       "* **prepare_data** (things to do on 1 GPU/TPU not on every GPU/TPU in distributed mode).\n",
       "* **setup**  (things to do on every accelerator in distributed mode).\n",
       "* **train_dataloader** the training dataloader.\n",
       "* **val_dataloader** the val dataloader(s).\n",
       "* **test_dataloader** the test dataloader(s).\n",
       "* **teardown** (things to do on every accelerator in distributed mode when finished)\n",
       "\n",
       "This allows you to share a full dataset without explaining how to download, split, transform, and process the data\n",
       "\u001b[0;31mInit docstring:\u001b[0m\n",
       "Sequence PyTorch Lightning DataModule definition\n",
       "\n",
       "Args:\n",
       "    seq_file (str): file path to load\n",
       "    batch_size (int, optional): Defaults to 32.\n",
       "    num_workers (int, optional): Defaults to 0.\n",
       "    transform (_type_, optional): seq_transforms to perform. Defaults to None.\n",
       "    split (float, optional): train/validation split. Defaults to 0.9.\n",
       "    load_kwargs (dict, optional): Optional keyword arugments to pass to load function. Defaults to {}.\n",
       "\u001b[0;31mFile:\u001b[0m           /mnt/beegfs/users/aklie/projects/EUGENE/eugene/dataloading/SeqDataModule.py\n",
       "\u001b[0;31mType:\u001b[0m           type\n",
       "\u001b[0;31mSubclasses:\u001b[0m     \n"
      ]
     },
     "metadata": {},
     "output_type": "display_data"
    }
   ],
   "source": [
    "from eugene.dataloading.SeqDataModule import SeqDataModule\n",
    "SeqDataModule?"
   ]
  },
  {
   "cell_type": "markdown",
   "id": "524af904",
   "metadata": {
    "tags": []
   },
   "source": [
    "# Models\n",
    "Description"
   ]
  },
  {
   "cell_type": "code",
   "execution_count": 62,
   "id": "abceade5-b914-4058-810c-82a28734f4f0",
   "metadata": {
    "execution": {
     "iopub.execute_input": "2022-04-07T06:28:25.663489Z",
     "iopub.status.busy": "2022-04-07T06:28:25.663379Z",
     "iopub.status.idle": "2022-04-07T06:28:26.546059Z",
     "shell.execute_reply": "2022-04-07T06:28:26.545614Z",
     "shell.execute_reply.started": "2022-04-07T06:28:25.663474Z"
    },
    "tags": []
   },
   "outputs": [],
   "source": [
    "from eugene.models.dsEUGENE import dsEUGENE"
   ]
  },
  {
   "cell_type": "code",
   "execution_count": 63,
   "id": "cbbbc191-e326-4453-aa86-20baa7a00bbb",
   "metadata": {
    "execution": {
     "iopub.execute_input": "2022-04-07T06:28:26.546805Z",
     "iopub.status.busy": "2022-04-07T06:28:26.546691Z",
     "iopub.status.idle": "2022-04-07T06:28:27.489774Z",
     "shell.execute_reply": "2022-04-07T06:28:27.489340Z",
     "shell.execute_reply.started": "2022-04-07T06:28:26.546789Z"
    },
    "tags": []
   },
   "outputs": [
    {
     "data": {
      "text/plain": [
       "\u001b[0;31mInit signature:\u001b[0m \u001b[0mdsEUGENE\u001b[0m\u001b[0;34m(\u001b[0m\u001b[0mconv_kwargs\u001b[0m\u001b[0;34m=\u001b[0m\u001b[0;34m{\u001b[0m\u001b[0;34m}\u001b[0m\u001b[0;34m,\u001b[0m \u001b[0mrnn_kwargs\u001b[0m\u001b[0;34m=\u001b[0m\u001b[0;34m{\u001b[0m\u001b[0;34m}\u001b[0m\u001b[0;34m,\u001b[0m \u001b[0mfc_kwargs\u001b[0m\u001b[0;34m=\u001b[0m\u001b[0;34m{\u001b[0m\u001b[0;34m}\u001b[0m\u001b[0;34m,\u001b[0m \u001b[0mlearning_rate\u001b[0m\u001b[0;34m=\u001b[0m\u001b[0;36m0.001\u001b[0m\u001b[0;34m)\u001b[0m\u001b[0;34m\u001b[0m\u001b[0;34m\u001b[0m\u001b[0m\n",
       "\u001b[0;31mDocstring:\u001b[0m      Hooks to be used in LightningModule.\n",
       "\u001b[0;31mFile:\u001b[0m           /mnt/beegfs/users/aklie/projects/EUGENE/eugene/models/dsEUGENE.py\n",
       "\u001b[0;31mType:\u001b[0m           type\n",
       "\u001b[0;31mSubclasses:\u001b[0m     \n"
      ]
     },
     "metadata": {},
     "output_type": "display_data"
    }
   ],
   "source": [
    "dsEUGENE?"
   ]
  },
  {
   "cell_type": "code",
   "execution_count": 64,
   "id": "83504621-5d10-4e56-ba3b-45593162b4f5",
   "metadata": {
    "execution": {
     "iopub.execute_input": "2022-04-07T06:28:27.490536Z",
     "iopub.status.busy": "2022-04-07T06:28:27.490421Z",
     "iopub.status.idle": "2022-04-07T06:28:28.338381Z",
     "shell.execute_reply": "2022-04-07T06:28:28.338030Z",
     "shell.execute_reply.started": "2022-04-07T06:28:27.490520Z"
    },
    "tags": []
   },
   "outputs": [],
   "source": [
    "from eugene.models.models import otxCNN"
   ]
  },
  {
   "cell_type": "code",
   "execution_count": 65,
   "id": "3187de1a-57dc-4093-be6d-dab75203f657",
   "metadata": {
    "execution": {
     "iopub.execute_input": "2022-04-07T06:28:28.339443Z",
     "iopub.status.busy": "2022-04-07T06:28:28.339329Z",
     "iopub.status.idle": "2022-04-07T06:28:29.256162Z",
     "shell.execute_reply": "2022-04-07T06:28:29.255802Z",
     "shell.execute_reply.started": "2022-04-07T06:28:28.339427Z"
    },
    "tags": []
   },
   "outputs": [
    {
     "data": {
      "text/plain": [
       "\u001b[0;31mInit signature:\u001b[0m \u001b[0motxCNN\u001b[0m\u001b[0;34m(\u001b[0m\u001b[0;34m)\u001b[0m\u001b[0;34m\u001b[0m\u001b[0;34m\u001b[0m\u001b[0m\n",
       "\u001b[0;31mDocstring:\u001b[0m     \n",
       "Base class for all neural network modules.\n",
       "\n",
       "Your models should also subclass this class.\n",
       "\n",
       "Modules can also contain other Modules, allowing to nest them in\n",
       "a tree structure. You can assign the submodules as regular attributes::\n",
       "\n",
       "    import torch.nn as nn\n",
       "    import torch.nn.functional as F\n",
       "\n",
       "    class Model(nn.Module):\n",
       "        def __init__(self):\n",
       "            super().__init__()\n",
       "            self.conv1 = nn.Conv2d(1, 20, 5)\n",
       "            self.conv2 = nn.Conv2d(20, 20, 5)\n",
       "\n",
       "        def forward(self, x):\n",
       "            x = F.relu(self.conv1(x))\n",
       "            return F.relu(self.conv2(x))\n",
       "\n",
       "Submodules assigned in this way will be registered, and will have their\n",
       "parameters converted too when you call :meth:`to`, etc.\n",
       "\n",
       ".. note::\n",
       "    As per the example above, an ``__init__()`` call to the parent class\n",
       "    must be made before assignment on the child.\n",
       "\n",
       ":ivar training: Boolean represents whether this module is in training or\n",
       "                evaluation mode.\n",
       ":vartype training: bool\n",
       "\u001b[0;31mInit docstring:\u001b[0m Initializes internal Module state, shared by both nn.Module and ScriptModule.\n",
       "\u001b[0;31mFile:\u001b[0m           /mnt/beegfs/users/aklie/projects/EUGENE/eugene/models/models.py\n",
       "\u001b[0;31mType:\u001b[0m           type\n",
       "\u001b[0;31mSubclasses:\u001b[0m     \n"
      ]
     },
     "metadata": {},
     "output_type": "display_data"
    }
   ],
   "source": [
    "otxCNN?"
   ]
  },
  {
   "cell_type": "markdown",
   "id": "945550e2-0b82-4cf9-8109-c3a614946fa7",
   "metadata": {
    "tags": []
   },
   "source": [
    "# Train\n",
    "Description"
   ]
  },
  {
   "cell_type": "code",
   "execution_count": 66,
   "id": "508f0b4c-f92d-4709-87c7-bd2d60a9826d",
   "metadata": {
    "execution": {
     "iopub.execute_input": "2022-04-07T06:28:29.256909Z",
     "iopub.status.busy": "2022-04-07T06:28:29.256784Z",
     "iopub.status.idle": "2022-04-07T06:28:30.140858Z",
     "shell.execute_reply": "2022-04-07T06:28:30.140507Z",
     "shell.execute_reply.started": "2022-04-07T06:28:29.256892Z"
    },
    "tags": []
   },
   "outputs": [],
   "source": [
    "from eugene.train.dsEUGENE_hyperopt import objective"
   ]
  },
  {
   "cell_type": "code",
   "execution_count": 67,
   "id": "e2d9c300-c5b6-497a-b294-c9dc37603d86",
   "metadata": {
    "execution": {
     "iopub.execute_input": "2022-04-07T06:28:30.141528Z",
     "iopub.status.busy": "2022-04-07T06:28:30.141417Z",
     "iopub.status.idle": "2022-04-07T06:28:31.072784Z",
     "shell.execute_reply": "2022-04-07T06:28:31.072435Z",
     "shell.execute_reply.started": "2022-04-07T06:28:30.141512Z"
    },
    "tags": []
   },
   "outputs": [
    {
     "data": {
      "text/plain": [
       "\u001b[0;31mSignature:\u001b[0m \u001b[0mobjective\u001b[0m\u001b[0;34m(\u001b[0m\u001b[0mtrial\u001b[0m\u001b[0;34m:\u001b[0m \u001b[0moptuna\u001b[0m\u001b[0;34m.\u001b[0m\u001b[0mtrial\u001b[0m\u001b[0;34m.\u001b[0m\u001b[0m_trial\u001b[0m\u001b[0;34m.\u001b[0m\u001b[0mTrial\u001b[0m\u001b[0;34m,\u001b[0m \u001b[0mpl_cli\u001b[0m\u001b[0;34m)\u001b[0m\u001b[0;34m\u001b[0m\u001b[0;34m\u001b[0m\u001b[0m\n",
       "\u001b[0;31mDocstring:\u001b[0m <no docstring>\n",
       "\u001b[0;31mFile:\u001b[0m      /mnt/beegfs/users/aklie/projects/EUGENE/eugene/train/dsEUGENE_hyperopt.py\n",
       "\u001b[0;31mType:\u001b[0m      function\n"
      ]
     },
     "metadata": {},
     "output_type": "display_data"
    }
   ],
   "source": [
    "objective?"
   ]
  },
  {
   "cell_type": "markdown",
   "id": "0fbfe9d6-546e-4bc8-baf9-2ff18ba04f8a",
   "metadata": {},
   "source": [
    "# Utilities"
   ]
  },
  {
   "cell_type": "code",
   "execution_count": 68,
   "id": "410043c8-6cfb-4158-8fa6-1b40f1e13cd2",
   "metadata": {
    "execution": {
     "iopub.execute_input": "2022-04-07T06:28:31.073436Z",
     "iopub.status.busy": "2022-04-07T06:28:31.073325Z",
     "iopub.status.idle": "2022-04-07T06:28:31.979752Z",
     "shell.execute_reply": "2022-04-07T06:28:31.979248Z",
     "shell.execute_reply.started": "2022-04-07T06:28:31.073420Z"
    },
    "tags": []
   },
   "outputs": [],
   "source": [
    "from eugene.utils.seq_transforms import ToTensor"
   ]
  },
  {
   "cell_type": "markdown",
   "id": "99a8c706-ccbe-4156-9e3d-a29c1ecc9e95",
   "metadata": {
    "execution": {
     "iopub.execute_input": "2021-09-08T17:29:42.314098Z",
     "iopub.status.busy": "2021-09-08T17:29:42.313838Z",
     "iopub.status.idle": "2021-09-08T17:29:42.903968Z",
     "shell.execute_reply": "2021-09-08T17:29:42.903216Z",
     "shell.execute_reply.started": "2021-09-08T17:29:42.314069Z"
    },
    "tags": []
   },
   "source": [
    "# Scratch\n",
    "Place for old or testing code"
   ]
  },
  {
   "cell_type": "code",
   "execution_count": 70,
   "id": "d4c51114-82c6-40cb-8d1e-d0b046e6f32e",
   "metadata": {
    "execution": {
     "iopub.execute_input": "2022-04-07T07:46:19.761188Z",
     "iopub.status.busy": "2022-04-07T07:46:19.760957Z",
     "iopub.status.idle": "2022-04-07T07:46:20.654465Z",
     "shell.execute_reply": "2022-04-07T07:46:20.654086Z",
     "shell.execute_reply.started": "2022-04-07T07:46:19.761157Z"
    },
    "tags": []
   },
   "outputs": [],
   "source": [
    "test = {'class_path': 'eugene.utils.seq_transforms.ToTensor'}"
   ]
  },
  {
   "cell_type": "code",
   "execution_count": 74,
   "id": "09d804f8-b89b-4ea5-b769-8b1f9ff04a46",
   "metadata": {
    "execution": {
     "iopub.execute_input": "2022-04-07T07:47:09.760445Z",
     "iopub.status.busy": "2022-04-07T07:47:09.760182Z",
     "iopub.status.idle": "2022-04-07T07:47:10.721818Z",
     "shell.execute_reply": "2022-04-07T07:47:10.721388Z",
     "shell.execute_reply.started": "2022-04-07T07:47:09.760426Z"
    },
    "tags": []
   },
   "outputs": [],
   "source": [
    "class_module, class_name = test[\"class_path\"].rsplit(\".\", 1)"
   ]
  },
  {
   "cell_type": "code",
   "execution_count": 76,
   "id": "c799f8ef-8ac8-4261-9dbe-092667a16785",
   "metadata": {
    "execution": {
     "iopub.execute_input": "2022-04-07T07:47:20.760695Z",
     "iopub.status.busy": "2022-04-07T07:47:20.760520Z",
     "iopub.status.idle": "2022-04-07T07:47:21.639073Z",
     "shell.execute_reply": "2022-04-07T07:47:21.638769Z",
     "shell.execute_reply.started": "2022-04-07T07:47:20.760676Z"
    },
    "tags": []
   },
   "outputs": [
    {
     "data": {
      "text/plain": [
       "'ToTensor'"
      ]
     },
     "execution_count": 76,
     "metadata": {},
     "output_type": "execute_result"
    }
   ],
   "source": [
    "class_name"
   ]
  },
  {
   "cell_type": "code",
   "execution_count": 77,
   "id": "14d6f457-d017-4394-a925-36bd29caaf6a",
   "metadata": {
    "execution": {
     "iopub.execute_input": "2022-04-07T07:47:25.760523Z",
     "iopub.status.busy": "2022-04-07T07:47:25.760331Z",
     "iopub.status.idle": "2022-04-07T07:47:26.601079Z",
     "shell.execute_reply": "2022-04-07T07:47:26.600723Z",
     "shell.execute_reply.started": "2022-04-07T07:47:25.760505Z"
    }
   },
   "outputs": [],
   "source": [
    "module = __import__(class_module, fromlist=[class_name])"
   ]
  },
  {
   "cell_type": "code",
   "execution_count": 78,
   "id": "06e66bb2-7b2a-429f-8e3e-7ecafa3d6a94",
   "metadata": {
    "execution": {
     "iopub.execute_input": "2022-04-07T07:47:30.760465Z",
     "iopub.status.busy": "2022-04-07T07:47:30.760248Z",
     "iopub.status.idle": "2022-04-07T07:47:31.667689Z",
     "shell.execute_reply": "2022-04-07T07:47:31.667234Z",
     "shell.execute_reply.started": "2022-04-07T07:47:30.760438Z"
    }
   },
   "outputs": [
    {
     "data": {
      "text/plain": [
       "<module 'eugene.utils.seq_transforms' from '/mnt/beegfs/users/aklie/projects/EUGENE/eugene/utils/seq_transforms.py'>"
      ]
     },
     "execution_count": 78,
     "metadata": {},
     "output_type": "execute_result"
    }
   ],
   "source": [
    "module"
   ]
  },
  {
   "cell_type": "code",
   "execution_count": 80,
   "id": "82ed10c2-59fd-452d-ac17-35031f644810",
   "metadata": {
    "execution": {
     "iopub.execute_input": "2022-04-07T07:47:52.761312Z",
     "iopub.status.busy": "2022-04-07T07:47:52.761043Z",
     "iopub.status.idle": "2022-04-07T07:47:53.681874Z",
     "shell.execute_reply": "2022-04-07T07:47:53.681384Z",
     "shell.execute_reply.started": "2022-04-07T07:47:52.761279Z"
    }
   },
   "outputs": [],
   "source": [
    "args_class = getattr(module, class_name)"
   ]
  },
  {
   "cell_type": "code",
   "execution_count": 81,
   "id": "c1c6c8ca-da16-4e79-9ece-4b4d71448894",
   "metadata": {
    "execution": {
     "iopub.execute_input": "2022-04-07T07:48:38.760846Z",
     "iopub.status.busy": "2022-04-07T07:48:38.760681Z",
     "iopub.status.idle": "2022-04-07T07:48:39.650909Z",
     "shell.execute_reply": "2022-04-07T07:48:39.650600Z",
     "shell.execute_reply.started": "2022-04-07T07:48:38.760828Z"
    },
    "tags": []
   },
   "outputs": [
    {
     "data": {
      "text/plain": [
       "<eugene.utils.seq_transforms.ToTensor at 0x1554b81f79d0>"
      ]
     },
     "execution_count": 81,
     "metadata": {},
     "output_type": "execute_result"
    }
   ],
   "source": [
    "args_class(**kwargs)"
   ]
  },
  {
   "cell_type": "code",
   "execution_count": 71,
   "id": "7f2611ad-2122-46a3-944f-8bc81ddb558d",
   "metadata": {
    "execution": {
     "iopub.execute_input": "2022-04-07T07:46:26.762157Z",
     "iopub.status.busy": "2022-04-07T07:46:26.762009Z",
     "iopub.status.idle": "2022-04-07T07:46:29.575031Z",
     "shell.execute_reply": "2022-04-07T07:46:29.574605Z",
     "shell.execute_reply.started": "2022-04-07T07:46:26.762140Z"
    }
   },
   "outputs": [
    {
     "ename": "NameError",
     "evalue": "name 'args' is not defined",
     "output_type": "error",
     "traceback": [
      "\u001b[0;31m---------------------------------------------------------------------------\u001b[0m",
      "\u001b[0;31mNameError\u001b[0m                                 Traceback (most recent call last)",
      "\u001b[0;32m<ipython-input-71-cb1a4a94f8c5>\u001b[0m in \u001b[0;36m<module>\u001b[0;34m\u001b[0m\n\u001b[1;32m      1\u001b[0m \u001b[0mkwargs\u001b[0m \u001b[0;34m=\u001b[0m \u001b[0mtest\u001b[0m\u001b[0;34m.\u001b[0m\u001b[0mget\u001b[0m\u001b[0;34m(\u001b[0m\u001b[0;34m\"init_args\"\u001b[0m\u001b[0;34m,\u001b[0m \u001b[0;34m{\u001b[0m\u001b[0;34m}\u001b[0m\u001b[0;34m)\u001b[0m\u001b[0;34m\u001b[0m\u001b[0;34m\u001b[0m\u001b[0m\n\u001b[0;32m----> 2\u001b[0;31m \u001b[0;32mif\u001b[0m \u001b[0;32mnot\u001b[0m \u001b[0misinstance\u001b[0m\u001b[0;34m(\u001b[0m\u001b[0margs\u001b[0m\u001b[0;34m,\u001b[0m \u001b[0mtuple\u001b[0m\u001b[0;34m)\u001b[0m\u001b[0;34m:\u001b[0m\u001b[0;34m\u001b[0m\u001b[0;34m\u001b[0m\u001b[0m\n\u001b[0m\u001b[1;32m      3\u001b[0m     \u001b[0margs\u001b[0m \u001b[0;34m=\u001b[0m \u001b[0;34m(\u001b[0m\u001b[0margs\u001b[0m\u001b[0;34m,\u001b[0m\u001b[0;34m)\u001b[0m\u001b[0;34m\u001b[0m\u001b[0;34m\u001b[0m\u001b[0m\n\u001b[1;32m      4\u001b[0m \u001b[0mclass_module\u001b[0m\u001b[0;34m,\u001b[0m \u001b[0mclass_name\u001b[0m \u001b[0;34m=\u001b[0m \u001b[0minit\u001b[0m\u001b[0;34m[\u001b[0m\u001b[0;34m\"class_path\"\u001b[0m\u001b[0;34m]\u001b[0m\u001b[0;34m.\u001b[0m\u001b[0mrsplit\u001b[0m\u001b[0;34m(\u001b[0m\u001b[0;34m\".\"\u001b[0m\u001b[0;34m,\u001b[0m \u001b[0;36m1\u001b[0m\u001b[0;34m)\u001b[0m\u001b[0;34m\u001b[0m\u001b[0;34m\u001b[0m\u001b[0m\n\u001b[1;32m      5\u001b[0m \u001b[0mmodule\u001b[0m \u001b[0;34m=\u001b[0m \u001b[0m__import__\u001b[0m\u001b[0;34m(\u001b[0m\u001b[0mclass_module\u001b[0m\u001b[0;34m,\u001b[0m \u001b[0mfromlist\u001b[0m\u001b[0;34m=\u001b[0m\u001b[0;34m[\u001b[0m\u001b[0mclass_name\u001b[0m\u001b[0;34m]\u001b[0m\u001b[0;34m)\u001b[0m\u001b[0;34m\u001b[0m\u001b[0;34m\u001b[0m\u001b[0m\n",
      "\u001b[0;31mNameError\u001b[0m: name 'args' is not defined"
     ]
    }
   ],
   "source": [
    "kwargs = test.get(\"init_args\", {})\n",
    "if not isinstance(args, tuple):\n",
    "    args = (args,)\n",
    "class_module, class_name = init[\"class_path\"].rsplit(\".\", 1)\n",
    "module = __import__(class_module, fromlist=[class_name])\n",
    "args_class = getattr(module, class_name)\n",
    "return args_class(*args, **kwargs)"
   ]
  },
  {
   "cell_type": "markdown",
   "id": "ed7ffd88-94c2-45f2-ad87-9f255e8073ff",
   "metadata": {},
   "source": [
    "# References"
   ]
  }
 ],
 "metadata": {
  "kernelspec": {
   "display_name": "Python 3 pytorch_dev",
   "language": "python",
   "name": "pytorch_dev"
  },
  "language_info": {
   "codemirror_mode": {
    "name": "ipython",
    "version": 3
   },
   "file_extension": ".py",
   "mimetype": "text/x-python",
   "name": "python",
   "nbconvert_exporter": "python",
   "pygments_lexer": "ipython3",
   "version": "3.7.12"
  }
 },
 "nbformat": 4,
 "nbformat_minor": 5
}

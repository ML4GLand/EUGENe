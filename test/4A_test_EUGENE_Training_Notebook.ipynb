{
 "cells": [
  {
   "cell_type": "markdown",
   "id": "47cc2c48",
   "metadata": {},
   "source": [
    "# Testing EUGENE training"
   ]
  },
  {
   "cell_type": "markdown",
   "id": "3b1880c3",
   "metadata": {
    "tags": []
   },
   "source": [
    "**Authorship:**\n",
    "Adam Klie, *03/19/2022*\n",
    "***\n",
    "**Description:**\n",
    "Notebook for testing the training of EUGENE architectures"
   ]
  },
  {
   "cell_type": "markdown",
   "id": "599007ce",
   "metadata": {},
   "source": [
    "<div class=\"alert alert-block alert-warning\">\n",
    "<b>TODOs</b>:\n",
    "<ul>\n",
    "    <b><li></li></b>\n",
    "    </ul>\n",
    "</div>"
   ]
  },
  {
   "cell_type": "markdown",
   "id": "41832ecc-a51e-4311-9372-b4a1ffb40139",
   "metadata": {},
   "source": [
    "# Set-up"
   ]
  },
  {
   "cell_type": "code",
   "execution_count": 1,
   "id": "1dd9ef33",
   "metadata": {
    "execution": {
     "iopub.execute_input": "2022-04-23T18:43:08.910092Z",
     "iopub.status.busy": "2022-04-23T18:43:08.909949Z",
     "iopub.status.idle": "2022-04-23T18:43:17.695707Z",
     "shell.execute_reply": "2022-04-23T18:43:17.695238Z",
     "shell.execute_reply.started": "2022-04-23T18:43:08.910051Z"
    },
    "tags": []
   },
   "outputs": [],
   "source": [
    "import numpy as np\n",
    "import pandas as pd\n",
    "\n",
    "# Autoreload extension\n",
    "if 'autoreload' not in get_ipython().extension_manager.loaded:\n",
    "    %load_ext autoreload\n",
    "%autoreload 2"
   ]
  },
  {
   "cell_type": "code",
   "execution_count": 2,
   "id": "bf8a26fe-0272-4533-b8cc-7a3c8e532ff0",
   "metadata": {
    "execution": {
     "iopub.execute_input": "2022-04-23T18:43:17.696610Z",
     "iopub.status.busy": "2022-04-23T18:43:17.696495Z",
     "iopub.status.idle": "2022-04-23T18:43:53.337930Z",
     "shell.execute_reply": "2022-04-23T18:43:53.337416Z",
     "shell.execute_reply.started": "2022-04-23T18:43:17.696595Z"
    },
    "tags": []
   },
   "outputs": [],
   "source": [
    "from eugene.dataloading.SeqDataModule import SeqDataModule"
   ]
  },
  {
   "cell_type": "markdown",
   "id": "e5602c89-ac01-44be-9d44-91eff5453329",
   "metadata": {
    "tags": []
   },
   "source": [
    "# Benchmark params"
   ]
  },
  {
   "cell_type": "code",
   "execution_count": 4,
   "id": "a77e6ace-4cc4-41e9-891d-64d529435978",
   "metadata": {
    "execution": {
     "iopub.execute_input": "2022-04-24T05:24:30.049414Z",
     "iopub.status.busy": "2022-04-24T05:24:30.049239Z",
     "iopub.status.idle": "2022-04-24T05:24:30.051569Z",
     "shell.execute_reply": "2022-04-24T05:24:30.051238Z",
     "shell.execute_reply.started": "2022-04-24T05:24:30.049396Z"
    },
    "tags": []
   },
   "outputs": [],
   "source": [
    "BATCH_SIZE = 32\n",
    "NUM_SEQS = 100\n",
    "SEQ_LEN = 66\n",
    "DATA_TYPE = \"tsv\"\n",
    "NUM_WORKERS = 0"
   ]
  },
  {
   "cell_type": "code",
   "execution_count": 5,
   "id": "81191c28-36aa-416a-a8d3-5190ce272b11",
   "metadata": {
    "execution": {
     "iopub.execute_input": "2022-04-24T05:24:30.325702Z",
     "iopub.status.busy": "2022-04-24T05:24:30.325474Z",
     "iopub.status.idle": "2022-04-24T05:24:30.328215Z",
     "shell.execute_reply": "2022-04-24T05:24:30.327898Z",
     "shell.execute_reply.started": "2022-04-24T05:24:30.325672Z"
    },
    "tags": []
   },
   "outputs": [],
   "source": [
    "CNN_KWARGS=dict(channels=[4, 16, 32], \n",
    "                conv_kernels=[15, 5], \n",
    "                pool_kernels=[1, 1])\n",
    "RNN_KWARGS=dict(output_dim=32,\n",
    "                bidirectional=True,\n",
    "                batch_first=True)\n",
    "FCN_KWARGS=dict(hidden_dims=[50], \n",
    "                output_dim=1)"
   ]
  },
  {
   "cell_type": "code",
   "execution_count": 6,
   "id": "582d6abc-dc11-45f4-9fd7-85c694537079",
   "metadata": {
    "execution": {
     "iopub.execute_input": "2022-04-24T05:24:30.337633Z",
     "iopub.status.busy": "2022-04-24T05:24:30.337522Z",
     "iopub.status.idle": "2022-04-24T05:24:30.342497Z",
     "shell.execute_reply": "2022-04-24T05:24:30.342177Z",
     "shell.execute_reply.started": "2022-04-24T05:24:30.337619Z"
    },
    "tags": []
   },
   "outputs": [],
   "source": [
    "MODEL = \"hybrid\"\n",
    "STRAND = \"ts\"\n",
    "TASK = \"binary_classification\""
   ]
  },
  {
   "cell_type": "markdown",
   "id": "5aa43cca-9ceb-4c6e-be78-4e73569d1331",
   "metadata": {
    "tags": []
   },
   "source": [
    "# Instantiate model"
   ]
  },
  {
   "cell_type": "code",
   "execution_count": 456,
   "id": "418cad91-5453-4a3c-984a-e5c3f9503ba3",
   "metadata": {
    "execution": {
     "iopub.execute_input": "2022-04-23T20:40:35.146475Z",
     "iopub.status.busy": "2022-04-23T20:40:35.146363Z",
     "iopub.status.idle": "2022-04-23T20:40:36.352892Z",
     "shell.execute_reply": "2022-04-23T20:40:36.352510Z",
     "shell.execute_reply.started": "2022-04-23T20:40:35.146459Z"
    },
    "tags": []
   },
   "outputs": [],
   "source": [
    "from eugene.models.EUGENE import EUGENE"
   ]
  },
  {
   "cell_type": "code",
   "execution_count": 462,
   "id": "96936262-19c0-4827-af52-34444313273e",
   "metadata": {
    "execution": {
     "iopub.execute_input": "2022-04-23T20:41:50.336506Z",
     "iopub.status.busy": "2022-04-23T20:41:50.336357Z",
     "iopub.status.idle": "2022-04-23T20:41:51.593901Z",
     "shell.execute_reply": "2022-04-23T20:41:51.593589Z",
     "shell.execute_reply.started": "2022-04-23T20:41:50.336489Z"
    },
    "tags": []
   },
   "outputs": [
    {
     "data": {
      "text/plain": [
       "EUGENE(\n",
       "  (model): FCN(\n",
       "    (fcn): BasicFullyConnectedModule(\n",
       "      (module): Sequential(\n",
       "        (0): Linear(in_features=264, out_features=50, bias=True)\n",
       "        (1): ReLU(inplace=True)\n",
       "        (2): Linear(in_features=50, out_features=1, bias=True)\n",
       "      )\n",
       "    )\n",
       "    (reverse_fcn): BasicFullyConnectedModule(\n",
       "      (module): Sequential(\n",
       "        (0): Linear(in_features=264, out_features=50, bias=True)\n",
       "        (1): ReLU(inplace=True)\n",
       "        (2): Linear(in_features=50, out_features=1, bias=True)\n",
       "      )\n",
       "    )\n",
       "    (accuracy): Accuracy()\n",
       "    (auroc): AUROC()\n",
       "  )\n",
       ")"
      ]
     },
     "execution_count": 462,
     "metadata": {},
     "output_type": "execute_result"
    }
   ],
   "source": [
    "EUGENE(model=\"FCN\", \n",
    "       input_len=66,\n",
    "       strand=STRAND,\n",
    "       task=TASK,\n",
    "       #conv_kwargs=CNN_KWARGS,\n",
    "       #rnn_kwargs=RNN_KWARGS,\n",
    "       fc_kwargs=FCN_KWARGS)"
   ]
  },
  {
   "cell_type": "code",
   "execution_count": 422,
   "id": "aa8f8fb8-cdf5-4956-95c5-79fed043aa63",
   "metadata": {
    "execution": {
     "iopub.execute_input": "2022-04-23T20:27:31.290707Z",
     "iopub.status.busy": "2022-04-23T20:27:31.290590Z",
     "iopub.status.idle": "2022-04-23T20:27:32.937450Z",
     "shell.execute_reply": "2022-04-23T20:27:32.937059Z",
     "shell.execute_reply.started": "2022-04-23T20:27:31.290692Z"
    },
    "tags": []
   },
   "outputs": [],
   "source": [
    "import claim.utils as cu\n",
    "from eugene.models.FCN import FCN\n",
    "from eugene.models.CNN import CNN\n",
    "from eugene.models.RNN import RNN\n",
    "from eugene.models.hybrid import hybrid"
   ]
  },
  {
   "cell_type": "code",
   "execution_count": 423,
   "id": "4a3a2ee4-f870-4adb-97a7-9e0916342908",
   "metadata": {
    "execution": {
     "iopub.execute_input": "2022-04-23T20:27:32.938407Z",
     "iopub.status.busy": "2022-04-23T20:27:32.938283Z",
     "iopub.status.idle": "2022-04-23T20:27:34.528765Z",
     "shell.execute_reply": "2022-04-23T20:27:34.528458Z",
     "shell.execute_reply.started": "2022-04-23T20:27:32.938390Z"
    },
    "tags": []
   },
   "outputs": [
    {
     "data": {
      "text/plain": [
       "hybrid(\n",
       "  (convnet): BasicConv1D(\n",
       "    (module): Sequential(\n",
       "      (0): Conv1d(4, 16, kernel_size=(15,), stride=(1,))\n",
       "      (1): ReLU(inplace=True)\n",
       "      (2): MaxPool1d(kernel_size=1, stride=1, padding=0, dilation=1, ceil_mode=False)\n",
       "      (3): Conv1d(16, 32, kernel_size=(5,), stride=(1,))\n",
       "      (4): ReLU(inplace=True)\n",
       "      (5): MaxPool1d(kernel_size=1, stride=1, padding=0, dilation=1, ceil_mode=False)\n",
       "    )\n",
       "  )\n",
       "  (recurrentnet): BasicRecurrent(\n",
       "    (module): LSTM(32, 32, batch_first=True, bidirectional=True)\n",
       "  )\n",
       "  (fcnet): BasicFullyConnectedModule(\n",
       "    (module): Sequential(\n",
       "      (0): Linear(in_features=64, out_features=50, bias=True)\n",
       "      (1): ReLU(inplace=True)\n",
       "      (2): Linear(in_features=50, out_features=1, bias=True)\n",
       "    )\n",
       "  )\n",
       "  (accuracy): Accuracy()\n",
       "  (auroc): AUROC()\n",
       ")"
      ]
     },
     "execution_count": 423,
     "metadata": {},
     "output_type": "execute_result"
    }
   ],
   "source": [
    "eugene = hybrid(input_len=66,\n",
    "                strand=STRAND,\n",
    "                task=TASK,\n",
    "                conv_kwargs=CNN_KWARGS,\n",
    "                rnn_kwargs=RNN_KWARGS,\n",
    "                fc_kwargs=FCN_KWARGS)\n",
    "cu.init_weights(eugene)\n",
    "eugene"
   ]
  },
  {
   "cell_type": "code",
   "execution_count": 424,
   "id": "a2098b36-f242-4941-83cf-7c71ef4f2e5f",
   "metadata": {
    "execution": {
     "iopub.execute_input": "2022-04-23T20:27:34.529537Z",
     "iopub.status.busy": "2022-04-23T20:27:34.529426Z",
     "iopub.status.idle": "2022-04-23T20:27:36.050084Z",
     "shell.execute_reply": "2022-04-23T20:27:36.049683Z",
     "shell.execute_reply.started": "2022-04-23T20:27:34.529522Z"
    },
    "tags": []
   },
   "outputs": [
    {
     "data": {
      "text/plain": [
       "tensor([[ 7.7503e-02, -1.2629e-01, -4.3062e-02,  9.6357e-02,  1.8623e-02,\n",
       "          9.9583e-02,  7.7533e-02,  2.3856e-02,  1.1252e-01,  1.1521e-01,\n",
       "         -1.7128e-02, -1.1266e-01, -2.4774e-02,  6.4558e-02, -9.0405e-03],\n",
       "        [-7.3737e-02, -3.4331e-03,  8.4321e-02, -1.2849e-01, -7.5818e-03,\n",
       "          1.0489e-01, -4.8266e-02,  1.2605e-01, -1.1509e-01,  5.4411e-03,\n",
       "          1.4926e-02,  4.1321e-02,  1.2232e-01,  1.1141e-01, -6.9318e-02],\n",
       "        [ 8.1646e-02, -9.1688e-02,  1.1525e-01, -1.1561e-01,  2.0448e-03,\n",
       "         -4.3314e-02,  7.5207e-02,  4.1196e-02, -1.0294e-01, -1.1241e-01,\n",
       "         -1.0293e-04,  2.8233e-02,  7.0684e-02, -1.2404e-01,  2.9777e-02],\n",
       "        [-1.7438e-02, -2.5851e-02, -2.0042e-02,  1.3051e-03, -3.3175e-02,\n",
       "         -1.3970e-02, -6.7433e-02,  1.4657e-02, -1.2001e-02,  9.7930e-02,\n",
       "          9.6330e-02, -6.0111e-02,  6.7024e-02, -3.1758e-02, -4.1575e-02]],\n",
       "       grad_fn=<SliceBackward0>)"
      ]
     },
     "execution_count": 424,
     "metadata": {},
     "output_type": "execute_result"
    }
   ],
   "source": [
    "next(eugene.parameters())[0][:10]"
   ]
  },
  {
   "cell_type": "markdown",
   "id": "8708d86e-0cc1-4c5d-b929-f8f2849a2373",
   "metadata": {
    "tags": []
   },
   "source": [
    "# Load data"
   ]
  },
  {
   "cell_type": "code",
   "execution_count": 425,
   "id": "a25c9a89-0272-438e-beb9-b0ec571f7ba5",
   "metadata": {
    "execution": {
     "iopub.execute_input": "2022-04-23T20:27:36.050784Z",
     "iopub.status.busy": "2022-04-23T20:27:36.050668Z",
     "iopub.status.idle": "2022-04-23T20:27:37.436986Z",
     "shell.execute_reply": "2022-04-23T20:27:37.436608Z",
     "shell.execute_reply.started": "2022-04-23T20:27:36.050769Z"
    },
    "tags": []
   },
   "outputs": [],
   "source": [
    "from torchvision import transforms\n",
    "from eugene.utils.seq_transforms import ReverseComplement, Augment, OneHotEncode, ToTensor"
   ]
  },
  {
   "cell_type": "code",
   "execution_count": 426,
   "id": "22663c53-5ed3-440d-99ec-56caf61347d6",
   "metadata": {
    "execution": {
     "iopub.execute_input": "2022-04-23T20:27:37.437699Z",
     "iopub.status.busy": "2022-04-23T20:27:37.437582Z",
     "iopub.status.idle": "2022-04-23T20:27:38.814484Z",
     "shell.execute_reply": "2022-04-23T20:27:38.814117Z",
     "shell.execute_reply.started": "2022-04-23T20:27:37.437683Z"
    },
    "tags": []
   },
   "outputs": [],
   "source": [
    "data_transform = transforms.Compose([\n",
    "    Augment(randomize_linker_p=0.1, enhancer=\"WT-otx-a\"), \n",
    "    ReverseComplement(ohe_encoded=False), \n",
    "    OneHotEncode(), \n",
    "    ToTensor(transpose=True),\n",
    "    #ToTensor(transpose=False)\n",
    "])"
   ]
  },
  {
   "cell_type": "code",
   "execution_count": 12,
   "id": "ab1115a9-0398-4b83-8e8b-f8631dce492d",
   "metadata": {
    "execution": {
     "iopub.execute_input": "2022-04-24T05:24:57.947815Z",
     "iopub.status.busy": "2022-04-24T05:24:57.947587Z",
     "iopub.status.idle": "2022-04-24T05:24:57.989740Z",
     "shell.execute_reply": "2022-04-24T05:24:57.989433Z",
     "shell.execute_reply.started": "2022-04-24T05:24:57.947785Z"
    },
    "tags": []
   },
   "outputs": [
    {
     "data": {
      "text/plain": [
       "(100, 66, 4)"
      ]
     },
     "execution_count": 12,
     "metadata": {},
     "output_type": "execute_result"
    }
   ],
   "source": [
    "import numpy as np\n",
    "DATA_DIR = \"test_{}seqs_{}/\".format(NUM_SEQS, SEQ_LEN)\n",
    "np.load(DATA_DIR + \"test_ohe_seqs.npy\").shape"
   ]
  },
  {
   "cell_type": "code",
   "execution_count": 427,
   "id": "b7522793-3552-44a8-b82b-d0c3e222bbcd",
   "metadata": {
    "execution": {
     "iopub.execute_input": "2022-04-23T20:27:38.815149Z",
     "iopub.status.busy": "2022-04-23T20:27:38.815037Z",
     "iopub.status.idle": "2022-04-23T20:27:40.013473Z",
     "shell.execute_reply": "2022-04-23T20:27:40.013118Z",
     "shell.execute_reply.started": "2022-04-23T20:27:38.815133Z"
    },
    "tags": []
   },
   "outputs": [],
   "source": [
    "DATA_DIR = \"test_{}seqs_{}/\".format(NUM_SEQS, SEQ_LEN)\n",
    "mod = SeqDataModule(seq_file=DATA_DIR + \"test_seqs.tsv\",\n",
    "                    transform=data_transform,\n",
    "                    num_workers=4,\n",
    "                    batch_size=BATCH_SIZE,\n",
    "                    #load_kwargs=dict(target_file=DATA_DIR + \"test_labels.npy\", rev_seq_file=DATA_DIR + \"test_rev_ohe_seqs.npy\"),\n",
    "                    load_kwargs=dict(seq_col=\"SEQ\", target_col=\"LABEL\")\n",
    "                   )"
   ]
  },
  {
   "cell_type": "markdown",
   "id": "b3689b57-de7f-4104-8042-ae93f1893501",
   "metadata": {
    "tags": []
   },
   "source": [
    "# Train (and time) with PyTorch Lightning"
   ]
  },
  {
   "cell_type": "code",
   "execution_count": 428,
   "id": "699c2485-0150-4f77-90a3-b01aaf2412b9",
   "metadata": {
    "execution": {
     "iopub.execute_input": "2022-04-23T20:27:40.014535Z",
     "iopub.status.busy": "2022-04-23T20:27:40.014375Z",
     "iopub.status.idle": "2022-04-23T20:27:41.362713Z",
     "shell.execute_reply": "2022-04-23T20:27:41.362370Z",
     "shell.execute_reply.started": "2022-04-23T20:27:40.014519Z"
    },
    "tags": []
   },
   "outputs": [],
   "source": [
    "import pytorch_lightning as pl\n",
    "from pytorch_lightning.loggers import TensorBoardLogger"
   ]
  },
  {
   "cell_type": "code",
   "execution_count": 429,
   "id": "882a534b-1b80-4bba-9e60-5cab157f80f5",
   "metadata": {
    "execution": {
     "iopub.execute_input": "2022-04-23T20:27:41.363403Z",
     "iopub.status.busy": "2022-04-23T20:27:41.363293Z",
     "iopub.status.idle": "2022-04-23T20:27:42.723205Z",
     "shell.execute_reply": "2022-04-23T20:27:42.722893Z",
     "shell.execute_reply.started": "2022-04-23T20:27:41.363388Z"
    },
    "tags": []
   },
   "outputs": [
    {
     "name": "stderr",
     "output_type": "stream",
     "text": [
      "GPU available: True, used: True\n",
      "TPU available: False, using: 0 TPU cores\n",
      "IPU available: False, using: 0 IPUs\n"
     ]
    }
   ],
   "source": [
    "LOG_DIR = f\"../test/test_logs/batch_size-{BATCH_SIZE}.num_workers-{NUM_WORKERS}.data_type-{DATA_TYPE}.num_seq-{NUM_SEQS}.seq_len-{SEQ_LEN}\"\n",
    "logger = TensorBoardLogger(LOG_DIR, name=MODEL, version=f\"{STRAND}_{TASK}\")\n",
    "trainer = pl.Trainer(gpus=1, max_epochs=10, logger=logger)"
   ]
  },
  {
   "cell_type": "code",
   "execution_count": 430,
   "id": "77e3be68-86f7-4d79-a35f-d1e4161e513a",
   "metadata": {
    "execution": {
     "iopub.execute_input": "2022-04-23T20:27:42.723836Z",
     "iopub.status.busy": "2022-04-23T20:27:42.723727Z",
     "iopub.status.idle": "2022-04-23T20:27:48.025384Z",
     "shell.execute_reply": "2022-04-23T20:27:48.025053Z",
     "shell.execute_reply.started": "2022-04-23T20:27:42.723820Z"
    },
    "tags": []
   },
   "outputs": [
    {
     "name": "stderr",
     "output_type": "stream",
     "text": [
      "LOCAL_RANK: 0 - CUDA_VISIBLE_DEVICES: [0]\n",
      "Set SLURM handle signals.\n",
      "\n",
      "  | Name         | Type                      | Params\n",
      "-----------------------------------------------------------\n",
      "0 | convnet      | BasicConv1D               | 3.6 K \n",
      "1 | recurrentnet | BasicRecurrent            | 16.9 K\n",
      "2 | fcnet        | BasicFullyConnectedModule | 3.3 K \n",
      "3 | accuracy     | Accuracy                  | 0     \n",
      "4 | auroc        | AUROC                     | 0     \n",
      "-----------------------------------------------------------\n",
      "23.8 K    Trainable params\n",
      "0         Non-trainable params\n",
      "23.8 K    Total params\n",
      "0.095     Total estimated model params size (MB)\n"
     ]
    },
    {
     "data": {
      "application/vnd.jupyter.widget-view+json": {
       "model_id": "",
       "version_major": 2,
       "version_minor": 0
      },
      "text/plain": [
       "Validation sanity check: 0it [00:00, ?it/s]"
      ]
     },
     "metadata": {},
     "output_type": "display_data"
    },
    {
     "data": {
      "application/vnd.jupyter.widget-view+json": {
       "model_id": "bdf699868383466993ad764fd0bdfac4",
       "version_major": 2,
       "version_minor": 0
      },
      "text/plain": [
       "Training: 0it [00:00, ?it/s]"
      ]
     },
     "metadata": {},
     "output_type": "display_data"
    },
    {
     "data": {
      "application/vnd.jupyter.widget-view+json": {
       "model_id": "",
       "version_major": 2,
       "version_minor": 0
      },
      "text/plain": [
       "Validating: 0it [00:00, ?it/s]"
      ]
     },
     "metadata": {},
     "output_type": "display_data"
    },
    {
     "data": {
      "application/vnd.jupyter.widget-view+json": {
       "model_id": "",
       "version_major": 2,
       "version_minor": 0
      },
      "text/plain": [
       "Validating: 0it [00:00, ?it/s]"
      ]
     },
     "metadata": {},
     "output_type": "display_data"
    },
    {
     "data": {
      "application/vnd.jupyter.widget-view+json": {
       "model_id": "",
       "version_major": 2,
       "version_minor": 0
      },
      "text/plain": [
       "Validating: 0it [00:00, ?it/s]"
      ]
     },
     "metadata": {},
     "output_type": "display_data"
    },
    {
     "data": {
      "application/vnd.jupyter.widget-view+json": {
       "model_id": "",
       "version_major": 2,
       "version_minor": 0
      },
      "text/plain": [
       "Validating: 0it [00:00, ?it/s]"
      ]
     },
     "metadata": {},
     "output_type": "display_data"
    },
    {
     "data": {
      "application/vnd.jupyter.widget-view+json": {
       "model_id": "",
       "version_major": 2,
       "version_minor": 0
      },
      "text/plain": [
       "Validating: 0it [00:00, ?it/s]"
      ]
     },
     "metadata": {},
     "output_type": "display_data"
    },
    {
     "data": {
      "application/vnd.jupyter.widget-view+json": {
       "model_id": "",
       "version_major": 2,
       "version_minor": 0
      },
      "text/plain": [
       "Validating: 0it [00:00, ?it/s]"
      ]
     },
     "metadata": {},
     "output_type": "display_data"
    },
    {
     "data": {
      "application/vnd.jupyter.widget-view+json": {
       "model_id": "",
       "version_major": 2,
       "version_minor": 0
      },
      "text/plain": [
       "Validating: 0it [00:00, ?it/s]"
      ]
     },
     "metadata": {},
     "output_type": "display_data"
    },
    {
     "data": {
      "application/vnd.jupyter.widget-view+json": {
       "model_id": "",
       "version_major": 2,
       "version_minor": 0
      },
      "text/plain": [
       "Validating: 0it [00:00, ?it/s]"
      ]
     },
     "metadata": {},
     "output_type": "display_data"
    },
    {
     "data": {
      "application/vnd.jupyter.widget-view+json": {
       "model_id": "",
       "version_major": 2,
       "version_minor": 0
      },
      "text/plain": [
       "Validating: 0it [00:00, ?it/s]"
      ]
     },
     "metadata": {},
     "output_type": "display_data"
    },
    {
     "data": {
      "application/vnd.jupyter.widget-view+json": {
       "model_id": "",
       "version_major": 2,
       "version_minor": 0
      },
      "text/plain": [
       "Validating: 0it [00:00, ?it/s]"
      ]
     },
     "metadata": {},
     "output_type": "display_data"
    }
   ],
   "source": [
    "trainer.fit(model=eugene, datamodule=mod)"
   ]
  },
  {
   "cell_type": "markdown",
   "id": "23b15b0e-0b7b-4791-9806-04ff888bb49f",
   "metadata": {
    "tags": [],
    "toc-hr-collapsed": true
   },
   "source": [
    "# Scratch"
   ]
  },
  {
   "cell_type": "code",
   "execution_count": 434,
   "id": "ba84cd3a-2b09-486f-b4bc-7e24301e6684",
   "metadata": {
    "execution": {
     "iopub.execute_input": "2022-04-23T20:33:17.017363Z",
     "iopub.status.busy": "2022-04-23T20:33:17.017218Z",
     "iopub.status.idle": "2022-04-23T20:33:18.332151Z",
     "shell.execute_reply": "2022-04-23T20:33:18.331736Z",
     "shell.execute_reply.started": "2022-04-23T20:33:17.017346Z"
    }
   },
   "outputs": [],
   "source": [
    "import importlib"
   ]
  },
  {
   "cell_type": "markdown",
   "id": "c909d1b4-85c2-4c16-ab1c-7f0f9c032e9f",
   "metadata": {
    "tags": [],
    "toc-hr-collapsed": true
   },
   "source": [
    "## Old Benchmark dsEUGENE\n",
    "<div class=\"alert alert-info\" role=\"alert\">\n",
    "  <b>Benchmark dsEUGENE models</b>\n",
    "</div>"
   ]
  },
  {
   "cell_type": "code",
   "execution_count": 10,
   "id": "13dcdd6e-6dac-48c7-b56e-7225687d6d6d",
   "metadata": {
    "execution": {
     "iopub.execute_input": "2022-04-07T06:47:51.759672Z",
     "iopub.status.busy": "2022-04-07T06:47:51.759448Z",
     "iopub.status.idle": "2022-04-07T06:47:52.425844Z",
     "shell.execute_reply": "2022-04-07T06:47:52.425383Z",
     "shell.execute_reply.started": "2022-04-07T06:47:51.759642Z"
    },
    "tags": []
   },
   "outputs": [],
   "source": [
    "BATCH_SIZE = 32\n",
    "DATA_TYPE = \"tsv\"\n",
    "NUM_WORKERS = 0\n",
    "NUM_SEQS = 100\n",
    "SEQ_LEN = 66"
   ]
  },
  {
   "cell_type": "markdown",
   "id": "b49061b7-dbde-4814-a47f-43133bca0309",
   "metadata": {
    "tags": [],
    "toc-hr-collapsed": true
   },
   "source": [
    "### Load data"
   ]
  },
  {
   "cell_type": "code",
   "execution_count": 11,
   "id": "525cb6ac-3171-4679-bfef-5d950ddee693",
   "metadata": {
    "execution": {
     "iopub.execute_input": "2022-04-07T06:47:52.426688Z",
     "iopub.status.busy": "2022-04-07T06:47:52.426571Z",
     "iopub.status.idle": "2022-04-07T06:47:53.019180Z",
     "shell.execute_reply": "2022-04-07T06:47:53.018811Z",
     "shell.execute_reply.started": "2022-04-07T06:47:52.426672Z"
    },
    "tags": []
   },
   "outputs": [],
   "source": [
    "from torchvision import transforms\n",
    "from eugene.utils.seq_transforms import ReverseComplement, Augment, OneHotEncode, ToTensor"
   ]
  },
  {
   "cell_type": "code",
   "execution_count": 12,
   "id": "94eafc63-1d0e-4998-b483-da5fa77ed16f",
   "metadata": {
    "execution": {
     "iopub.execute_input": "2022-04-07T06:47:53.020007Z",
     "iopub.status.busy": "2022-04-07T06:47:53.019892Z",
     "iopub.status.idle": "2022-04-07T06:47:53.656203Z",
     "shell.execute_reply": "2022-04-07T06:47:53.655869Z",
     "shell.execute_reply.started": "2022-04-07T06:47:53.019991Z"
    },
    "tags": []
   },
   "outputs": [],
   "source": [
    "data_transform = transforms.Compose([\n",
    "    Augment(randomize_linker_p=0.1, enhancer=\"WT-otx-a\"), \n",
    "    ReverseComplement(ohe_encoded=False), \n",
    "    OneHotEncode(), \n",
    "    ToTensor(transpose=True)\n",
    "])"
   ]
  },
  {
   "cell_type": "code",
   "execution_count": 13,
   "id": "2d3ac9fc-7c5e-47ce-8c43-86f69a5b4091",
   "metadata": {
    "execution": {
     "iopub.execute_input": "2022-04-07T06:47:53.656859Z",
     "iopub.status.busy": "2022-04-07T06:47:53.656750Z",
     "iopub.status.idle": "2022-04-07T06:47:54.264751Z",
     "shell.execute_reply": "2022-04-07T06:47:54.264349Z",
     "shell.execute_reply.started": "2022-04-07T06:47:53.656843Z"
    },
    "tags": []
   },
   "outputs": [],
   "source": [
    "DATA_DIR = \"test_{}seqs_{}/\".format(NUM_SEQS, SEQ_LEN)\n",
    "mod = SeqDataModule(seq_file=DATA_DIR + \"test_seqs.tsv\",\n",
    "                    transform=data_transform,\n",
    "                    num_workers=4,\n",
    "                    batch_size=BATCH_SIZE,\n",
    "                    load_kwargs=dict(seq_col=\"SEQ\", target_col=\"ACTIVITY\", low_thresh=0.09, high_thresh=0.4))\n",
    "#load_kwargs=dict(target_file=DATA_DIR + \"test_labels.npy\", rev_seq_file=DATA_DIR + \"test_rev_ohe_seqs.npy\"))"
   ]
  },
  {
   "cell_type": "markdown",
   "id": "07e9259b-33b8-4db7-9c2c-186a43453f6b",
   "metadata": {
    "tags": [],
    "toc-hr-collapsed": true
   },
   "source": [
    "### Instantiate EUGENE architecture: dsEUGENE"
   ]
  },
  {
   "cell_type": "code",
   "execution_count": 15,
   "id": "f6fe6cd7-b411-43f5-8f30-195a0ccdf124",
   "metadata": {
    "execution": {
     "iopub.execute_input": "2022-04-07T06:47:57.759717Z",
     "iopub.status.busy": "2022-04-07T06:47:57.759491Z",
     "iopub.status.idle": "2022-04-07T06:47:58.731498Z",
     "shell.execute_reply": "2022-04-07T06:47:58.731025Z",
     "shell.execute_reply.started": "2022-04-07T06:47:57.759688Z"
    },
    "tags": []
   },
   "outputs": [],
   "source": [
    "import claim.utils as cu\n",
    "from eugene.models.dsEUGENE import dsEUGENE"
   ]
  },
  {
   "cell_type": "code",
   "execution_count": 16,
   "id": "d74b5ad6-bf20-4dbb-8c10-d25cb10faf98",
   "metadata": {
    "execution": {
     "iopub.execute_input": "2022-04-07T06:47:59.039637Z",
     "iopub.status.busy": "2022-04-07T06:47:59.039400Z",
     "iopub.status.idle": "2022-04-07T06:47:59.720855Z",
     "shell.execute_reply": "2022-04-07T06:47:59.720411Z",
     "shell.execute_reply.started": "2022-04-07T06:47:59.039605Z"
    },
    "tags": []
   },
   "outputs": [],
   "source": [
    "cnn=dict(input_len=66, channels=[4, 16, 32], conv_kernels=[15, 5], pool_kernels=[1, 1])\n",
    "rnn=dict(output_dim=32, batch_first=True)\n",
    "fc=dict(output_dim=1)"
   ]
  },
  {
   "cell_type": "code",
   "execution_count": 17,
   "id": "abaad7dc-1afa-4d90-af87-890ba0d6ba1e",
   "metadata": {
    "execution": {
     "iopub.execute_input": "2022-04-07T06:47:59.761052Z",
     "iopub.status.busy": "2022-04-07T06:47:59.760932Z",
     "iopub.status.idle": "2022-04-07T06:48:00.464754Z",
     "shell.execute_reply": "2022-04-07T06:48:00.464400Z",
     "shell.execute_reply.started": "2022-04-07T06:47:59.761035Z"
    },
    "tags": []
   },
   "outputs": [
    {
     "name": "stderr",
     "output_type": "stream",
     "text": [
      "/cellar/users/aklie/opt/miniconda3/envs/pytorch_dev/lib/python3.7/site-packages/torchmetrics/utilities/prints.py:36: UserWarning: Metric `AUROC` will save all targets and predictions in buffer. For large datasets this may lead to large memory footprint.\n",
      "  warnings.warn(*args, **kwargs)\n"
     ]
    },
    {
     "data": {
      "text/plain": [
       "dsEUGENE(\n",
       "  (convnet): BasicConv1D(\n",
       "    (module): Sequential(\n",
       "      (0): Conv1d(4, 16, kernel_size=(15,), stride=(1,))\n",
       "      (1): ReLU(inplace=True)\n",
       "      (2): MaxPool1d(kernel_size=1, stride=1, padding=0, dilation=1, ceil_mode=False)\n",
       "      (3): Conv1d(16, 32, kernel_size=(5,), stride=(1,))\n",
       "      (4): ReLU(inplace=True)\n",
       "      (5): MaxPool1d(kernel_size=1, stride=1, padding=0, dilation=1, ceil_mode=False)\n",
       "    )\n",
       "  )\n",
       "  (recurrentnet): BasicRecurrent(\n",
       "    (module): LSTM(64, 32, batch_first=True)\n",
       "  )\n",
       "  (fcnet): BasicFullyConnectedModule(\n",
       "    (module): Sequential(\n",
       "      (0): Linear(in_features=32, out_features=1, bias=True)\n",
       "    )\n",
       "  )\n",
       "  (accuracy): Accuracy()\n",
       "  (auroc): AUROC()\n",
       ")"
      ]
     },
     "execution_count": 17,
     "metadata": {},
     "output_type": "execute_result"
    }
   ],
   "source": [
    "eugene = dsEUGENE(conv_kwargs=cnn, rnn_kwargs=rnn, fc_kwargs=fc)\n",
    "cu.init_weights(eugene)\n",
    "eugene"
   ]
  },
  {
   "cell_type": "code",
   "execution_count": 18,
   "id": "3c388b9b-9490-409b-8b0e-1df90880f8ac",
   "metadata": {
    "execution": {
     "iopub.execute_input": "2022-04-07T06:48:00.465516Z",
     "iopub.status.busy": "2022-04-07T06:48:00.465397Z",
     "iopub.status.idle": "2022-04-07T06:48:01.200778Z",
     "shell.execute_reply": "2022-04-07T06:48:01.200365Z",
     "shell.execute_reply.started": "2022-04-07T06:48:00.465499Z"
    },
    "tags": []
   },
   "outputs": [
    {
     "data": {
      "text/plain": [
       "tensor([[ 0.0976,  0.0978,  0.0585,  0.1228, -0.0595,  0.1031,  0.0438,  0.1063,\n",
       "          0.0036, -0.1268, -0.1015, -0.0787, -0.1273,  0.1059, -0.0299],\n",
       "        [ 0.0327,  0.1275, -0.0565, -0.0433,  0.0588, -0.0395,  0.0510, -0.0235,\n",
       "         -0.0305,  0.0379, -0.0716, -0.0139,  0.0997, -0.0119,  0.0234],\n",
       "        [ 0.0125, -0.1040, -0.0366,  0.0776, -0.0395,  0.0229,  0.0047, -0.0082,\n",
       "         -0.0459,  0.0842,  0.1201,  0.0976,  0.0154,  0.0340, -0.0016],\n",
       "        [ 0.1215,  0.0317,  0.1269, -0.0114,  0.1286, -0.1020, -0.1156, -0.0081,\n",
       "          0.0828,  0.0014,  0.0338, -0.0051,  0.0270,  0.1262, -0.0590]],\n",
       "       grad_fn=<SelectBackward0>)"
      ]
     },
     "execution_count": 18,
     "metadata": {},
     "output_type": "execute_result"
    }
   ],
   "source": [
    "next(eugene.parameters())[0]"
   ]
  },
  {
   "cell_type": "markdown",
   "id": "5037945c-222a-432e-a405-038e2eeb3c9b",
   "metadata": {
    "tags": [],
    "toc-hr-collapsed": true
   },
   "source": [
    "### Train (and time) with PyTorch Lightning"
   ]
  },
  {
   "cell_type": "code",
   "execution_count": 19,
   "id": "70f4bd2b-3d2a-4e78-a21a-ae7d44d02d69",
   "metadata": {
    "execution": {
     "iopub.execute_input": "2022-04-07T06:48:02.760868Z",
     "iopub.status.busy": "2022-04-07T06:48:02.760714Z",
     "iopub.status.idle": "2022-04-07T06:48:03.467684Z",
     "shell.execute_reply": "2022-04-07T06:48:03.467182Z",
     "shell.execute_reply.started": "2022-04-07T06:48:02.760850Z"
    },
    "tags": []
   },
   "outputs": [],
   "source": [
    "import pytorch_lightning as pl\n",
    "from pytorch_lightning.loggers import TensorBoardLogger"
   ]
  },
  {
   "cell_type": "code",
   "execution_count": 20,
   "id": "5326c70b-4373-4b69-b54d-92fe1efb3973",
   "metadata": {
    "execution": {
     "iopub.execute_input": "2022-04-07T06:48:03.468636Z",
     "iopub.status.busy": "2022-04-07T06:48:03.468513Z",
     "iopub.status.idle": "2022-04-07T06:48:04.178249Z",
     "shell.execute_reply": "2022-04-07T06:48:04.177743Z",
     "shell.execute_reply.started": "2022-04-07T06:48:03.468619Z"
    },
    "tags": []
   },
   "outputs": [
    {
     "name": "stderr",
     "output_type": "stream",
     "text": [
      "GPU available: True, used: True\n",
      "TPU available: False, using: 0 TPU cores\n",
      "IPU available: False, using: 0 IPUs\n"
     ]
    }
   ],
   "source": [
    "LOG_DIR = \"../test/test_logs/batch_size-{0}.num_workers-{1}.data_type-{2}.num_seq-{3}.seq_len-{4}\".format(BATCH_SIZE, NUM_WORKERS, DATA_TYPE, NUM_SEQS, SEQ_LEN)\n",
    "logger = TensorBoardLogger(LOG_DIR, name=\"dsEUGENE\")\n",
    "trainer = pl.Trainer(gpus=1, max_epochs=10, logger=logger)"
   ]
  },
  {
   "cell_type": "code",
   "execution_count": 21,
   "id": "46c5628e-d662-48e4-b52a-4f432192224c",
   "metadata": {
    "execution": {
     "iopub.execute_input": "2022-04-07T06:48:04.179319Z",
     "iopub.status.busy": "2022-04-07T06:48:04.179118Z",
     "iopub.status.idle": "2022-04-07T06:48:11.930309Z",
     "shell.execute_reply": "2022-04-07T06:48:11.929979Z",
     "shell.execute_reply.started": "2022-04-07T06:48:04.179299Z"
    },
    "tags": []
   },
   "outputs": [
    {
     "name": "stderr",
     "output_type": "stream",
     "text": [
      "LOCAL_RANK: 0 - CUDA_VISIBLE_DEVICES: [0]\n",
      "Set SLURM handle signals.\n",
      "\n",
      "  | Name         | Type                      | Params\n",
      "-----------------------------------------------------------\n",
      "0 | convnet      | BasicConv1D               | 3.6 K \n",
      "1 | recurrentnet | BasicRecurrent            | 12.5 K\n",
      "2 | fcnet        | BasicFullyConnectedModule | 33    \n",
      "3 | accuracy     | Accuracy                  | 0     \n",
      "4 | auroc        | AUROC                     | 0     \n",
      "-----------------------------------------------------------\n",
      "16.1 K    Trainable params\n",
      "0         Non-trainable params\n",
      "16.1 K    Total params\n",
      "0.065     Total estimated model params size (MB)\n"
     ]
    },
    {
     "data": {
      "application/vnd.jupyter.widget-view+json": {
       "model_id": "",
       "version_major": 2,
       "version_minor": 0
      },
      "text/plain": [
       "Validation sanity check: 0it [00:00, ?it/s]"
      ]
     },
     "metadata": {},
     "output_type": "display_data"
    },
    {
     "name": "stderr",
     "output_type": "stream",
     "text": [
      "/cellar/users/aklie/opt/miniconda3/envs/pytorch_dev/lib/python3.7/site-packages/pytorch_lightning/trainer/data_loading.py:433: UserWarning: The number of training samples (2) is smaller than the logging interval Trainer(log_every_n_steps=50). Set a lower value for log_every_n_steps if you want to see logs for the training epoch.\n",
      "  f\"The number of training samples ({self.num_training_batches}) is smaller than the logging interval\"\n"
     ]
    },
    {
     "data": {
      "application/vnd.jupyter.widget-view+json": {
       "model_id": "77c68a6383c749378d0c7da57083edcc",
       "version_major": 2,
       "version_minor": 0
      },
      "text/plain": [
       "Training: 0it [00:00, ?it/s]"
      ]
     },
     "metadata": {},
     "output_type": "display_data"
    },
    {
     "data": {
      "application/vnd.jupyter.widget-view+json": {
       "model_id": "",
       "version_major": 2,
       "version_minor": 0
      },
      "text/plain": [
       "Validating: 0it [00:00, ?it/s]"
      ]
     },
     "metadata": {},
     "output_type": "display_data"
    },
    {
     "data": {
      "application/vnd.jupyter.widget-view+json": {
       "model_id": "",
       "version_major": 2,
       "version_minor": 0
      },
      "text/plain": [
       "Validating: 0it [00:00, ?it/s]"
      ]
     },
     "metadata": {},
     "output_type": "display_data"
    },
    {
     "data": {
      "application/vnd.jupyter.widget-view+json": {
       "model_id": "",
       "version_major": 2,
       "version_minor": 0
      },
      "text/plain": [
       "Validating: 0it [00:00, ?it/s]"
      ]
     },
     "metadata": {},
     "output_type": "display_data"
    },
    {
     "data": {
      "application/vnd.jupyter.widget-view+json": {
       "model_id": "",
       "version_major": 2,
       "version_minor": 0
      },
      "text/plain": [
       "Validating: 0it [00:00, ?it/s]"
      ]
     },
     "metadata": {},
     "output_type": "display_data"
    },
    {
     "data": {
      "application/vnd.jupyter.widget-view+json": {
       "model_id": "",
       "version_major": 2,
       "version_minor": 0
      },
      "text/plain": [
       "Validating: 0it [00:00, ?it/s]"
      ]
     },
     "metadata": {},
     "output_type": "display_data"
    },
    {
     "data": {
      "application/vnd.jupyter.widget-view+json": {
       "model_id": "",
       "version_major": 2,
       "version_minor": 0
      },
      "text/plain": [
       "Validating: 0it [00:00, ?it/s]"
      ]
     },
     "metadata": {},
     "output_type": "display_data"
    },
    {
     "data": {
      "application/vnd.jupyter.widget-view+json": {
       "model_id": "",
       "version_major": 2,
       "version_minor": 0
      },
      "text/plain": [
       "Validating: 0it [00:00, ?it/s]"
      ]
     },
     "metadata": {},
     "output_type": "display_data"
    },
    {
     "data": {
      "application/vnd.jupyter.widget-view+json": {
       "model_id": "",
       "version_major": 2,
       "version_minor": 0
      },
      "text/plain": [
       "Validating: 0it [00:00, ?it/s]"
      ]
     },
     "metadata": {},
     "output_type": "display_data"
    },
    {
     "data": {
      "application/vnd.jupyter.widget-view+json": {
       "model_id": "",
       "version_major": 2,
       "version_minor": 0
      },
      "text/plain": [
       "Validating: 0it [00:00, ?it/s]"
      ]
     },
     "metadata": {},
     "output_type": "display_data"
    },
    {
     "data": {
      "application/vnd.jupyter.widget-view+json": {
       "model_id": "",
       "version_major": 2,
       "version_minor": 0
      },
      "text/plain": [
       "Validating: 0it [00:00, ?it/s]"
      ]
     },
     "metadata": {},
     "output_type": "display_data"
    }
   ],
   "source": [
    "trainer.fit(model=eugene, datamodule=mod)"
   ]
  },
  {
   "cell_type": "code",
   "execution_count": 22,
   "id": "e6ef9575-63d5-4f06-8a56-2d89e9d145bd",
   "metadata": {
    "execution": {
     "iopub.execute_input": "2022-04-07T06:48:11.931133Z",
     "iopub.status.busy": "2022-04-07T06:48:11.931018Z",
     "iopub.status.idle": "2022-04-07T06:48:12.793757Z",
     "shell.execute_reply": "2022-04-07T06:48:12.793368Z",
     "shell.execute_reply.started": "2022-04-07T06:48:11.931116Z"
    },
    "tags": []
   },
   "outputs": [
    {
     "name": "stdout",
     "output_type": "stream",
     "text": [
      "0 torch.Size([32, 1])\n",
      "1 torch.Size([32, 1])\n"
     ]
    }
   ],
   "source": [
    "# Sanity check batch size\n",
    "for i, batch in enumerate(mod.train_dataloader()):\n",
    "    print(i, batch[0].size())\n",
    "    if i == 3:\n",
    "        break"
   ]
  },
  {
   "cell_type": "code",
   "execution_count": 23,
   "id": "e80d422c-80a3-49cc-adc2-9ae6c7d31f35",
   "metadata": {
    "execution": {
     "iopub.execute_input": "2022-04-07T06:48:12.794523Z",
     "iopub.status.busy": "2022-04-07T06:48:12.794402Z",
     "iopub.status.idle": "2022-04-07T06:48:13.422723Z",
     "shell.execute_reply": "2022-04-07T06:48:13.422385Z",
     "shell.execute_reply.started": "2022-04-07T06:48:12.794505Z"
    },
    "tags": []
   },
   "outputs": [],
   "source": [
    "del logger, trainer, mod, eugene"
   ]
  },
  {
   "cell_type": "code",
   "execution_count": null,
   "id": "4ed8f56d-7f70-4288-84d5-7cd5143ab07e",
   "metadata": {
    "execution": {
     "iopub.status.busy": "2022-04-07T06:47:28.142078Z",
     "iopub.status.idle": "2022-04-07T06:47:28.142245Z",
     "shell.execute_reply": "2022-04-07T06:47:28.142158Z"
    },
    "tags": []
   },
   "outputs": [],
   "source": [
    "%whos"
   ]
  },
  {
   "cell_type": "markdown",
   "id": "e96cf2b9-8823-44ac-8efe-c7a9a9f83536",
   "metadata": {
    "tags": [],
    "toc-hr-collapsed": true
   },
   "source": [
    "## OLS Dataset"
   ]
  },
  {
   "cell_type": "code",
   "execution_count": 6,
   "id": "0b04ce7c-905a-4071-a0ae-950f2e9f0738",
   "metadata": {
    "execution": {
     "iopub.execute_input": "2022-04-17T00:17:05.772610Z",
     "iopub.status.busy": "2022-04-17T00:17:05.772436Z",
     "iopub.status.idle": "2022-04-17T00:17:07.064408Z",
     "shell.execute_reply": "2022-04-17T00:17:07.063914Z",
     "shell.execute_reply.started": "2022-04-17T00:17:05.772591Z"
    },
    "tags": []
   },
   "outputs": [],
   "source": [
    "DATA_DIR = \"/cellar/users/aklie/projects/EUGENE/data/2021_OLS_Library/2021_OLS_Library.tsv\"\n",
    "mod = SeqDataModule(seq_file=DATA_DIR,\n",
    "                    transform=data_transform,\n",
    "                    num_workers=4,\n",
    "                    batch_size=BATCH_SIZE,\n",
    "                    load_kwargs=dict(seq_col=\"SEQ\", target_col=\"ACTIVITY_SUMRNA_NUMDNA\", low_thresh=0.09, high_thresh=0.4))\n",
    "#load_kwargs=dict(target_file=DATA_DIR + \"test_labels.npy\", rev_seq_file=DATA_DIR + \"test_rev_ohe_seqs.npy\"))"
   ]
  },
  {
   "cell_type": "code",
   "execution_count": 20,
   "id": "e2fdd08a-f856-478e-b3ab-8214abe9080f",
   "metadata": {
    "execution": {
     "iopub.execute_input": "2022-04-17T00:19:18.350051Z",
     "iopub.status.busy": "2022-04-17T00:19:18.349855Z",
     "iopub.status.idle": "2022-04-17T00:19:19.966803Z",
     "shell.execute_reply": "2022-04-17T00:19:19.966446Z",
     "shell.execute_reply.started": "2022-04-17T00:19:18.350027Z"
    },
    "tags": []
   },
   "outputs": [
    {
     "name": "stderr",
     "output_type": "stream",
     "text": [
      "Exception ignored in: <function _MultiProcessingDataLoaderIter.__del__ at 0x1554c0618950>\n",
      "Traceback (most recent call last):\n",
      "  File \"/cellar/users/aklie/opt/miniconda3/envs/pytorch_dev/lib/python3.7/site-packages/torch/utils/data/dataloader.py\", line 1358, in __del__\n",
      "    self._shutdown_workers()\n",
      "  File \"/cellar/users/aklie/opt/miniconda3/envs/pytorch_dev/lib/python3.7/site-packages/torch/utils/data/dataloader.py\", line 1341, in _shutdown_workers\n",
      "    if w.is_alive():\n",
      "  File \"/cellar/users/aklie/opt/miniconda3/envs/pytorch_dev/lib/python3.7/multiprocessing/process.py\", line 151, in is_alive\n",
      "    assert self._parent_pid == os.getpid(), 'can only test a child process'\n",
      "AssertionError: can only test a child process\n"
     ]
    },
    {
     "name": "stdout",
     "output_type": "stream",
     "text": [
      "torch.Size([32])\n",
      "torch.Size([32])\n",
      "torch.Size([32])\n",
      "torch.Size([32])\n"
     ]
    }
   ],
   "source": [
    "# Check the DataLoader\n",
    "for i_batch, sample_batched in enumerate(mod.train_dataloader()):\n",
    "    _, x, x_rev_comp, y = sample_batched\n",
    "    outs = cnn(x, x_rev_comp).squeeze(dim=1)\n",
    "    print(outs.size())\n",
    "    if i_batch == 3:\n",
    "        break"
   ]
  },
  {
   "cell_type": "code",
   "execution_count": 104,
   "id": "1dbfc45e-f647-47bc-8d0b-1f703c2170cc",
   "metadata": {
    "execution": {
     "iopub.execute_input": "2022-04-15T21:54:40.624098Z",
     "iopub.status.busy": "2022-04-15T21:54:40.623971Z",
     "iopub.status.idle": "2022-04-15T21:54:43.079982Z",
     "shell.execute_reply": "2022-04-15T21:54:43.079487Z",
     "shell.execute_reply.started": "2022-04-15T21:54:40.624082Z"
    },
    "tags": []
   },
   "outputs": [],
   "source": [
    "mod.setup()"
   ]
  },
  {
   "cell_type": "code",
   "execution_count": 105,
   "id": "db180113-14f0-443f-a43b-4ce98a37f2f2",
   "metadata": {
    "execution": {
     "iopub.execute_input": "2022-04-15T21:54:43.080855Z",
     "iopub.status.busy": "2022-04-15T21:54:43.080736Z",
     "iopub.status.idle": "2022-04-15T21:54:44.089067Z",
     "shell.execute_reply": "2022-04-15T21:54:44.088580Z",
     "shell.execute_reply.started": "2022-04-15T21:54:43.080839Z"
    },
    "tags": []
   },
   "outputs": [],
   "source": [
    "tar = mod.train_dataloader().dataset"
   ]
  },
  {
   "cell_type": "code",
   "execution_count": 106,
   "id": "a1600c62-0b43-4a75-8a7f-92f11ed99af8",
   "metadata": {
    "execution": {
     "iopub.execute_input": "2022-04-15T21:54:44.090265Z",
     "iopub.status.busy": "2022-04-15T21:54:44.090129Z",
     "iopub.status.idle": "2022-04-15T21:54:45.260161Z",
     "shell.execute_reply": "2022-04-15T21:54:45.259594Z",
     "shell.execute_reply.started": "2022-04-15T21:54:44.090248Z"
    },
    "tags": []
   },
   "outputs": [
    {
     "data": {
      "text/plain": [
       "0"
      ]
     },
     "execution_count": 106,
     "metadata": {},
     "output_type": "execute_result"
    }
   ],
   "source": [
    "np.isinf(tar.dataset.targets).sum()"
   ]
  },
  {
   "cell_type": "code",
   "execution_count": 18,
   "id": "4db8f20f-cc5c-40ba-9511-962aad521b61",
   "metadata": {
    "execution": {
     "iopub.execute_input": "2022-04-17T00:17:57.148370Z",
     "iopub.status.busy": "2022-04-17T00:17:57.148244Z",
     "iopub.status.idle": "2022-04-17T00:17:58.722489Z",
     "shell.execute_reply": "2022-04-17T00:17:58.722178Z",
     "shell.execute_reply.started": "2022-04-17T00:17:57.148351Z"
    },
    "tags": []
   },
   "outputs": [
    {
     "name": "stderr",
     "output_type": "stream",
     "text": [
      "GPU available: True, used: True\n",
      "TPU available: False, using: 0 TPU cores\n",
      "IPU available: False, using: 0 IPUs\n"
     ]
    }
   ],
   "source": [
    "trainer = pl.Trainer(gpus=1, max_epochs=2)"
   ]
  },
  {
   "cell_type": "code",
   "execution_count": 19,
   "id": "11fb9765-a10e-4d38-b3d4-f69e022fca7d",
   "metadata": {
    "execution": {
     "iopub.execute_input": "2022-04-17T00:18:00.464478Z",
     "iopub.status.busy": "2022-04-17T00:18:00.464309Z",
     "iopub.status.idle": "2022-04-17T00:18:36.958519Z",
     "shell.execute_reply": "2022-04-17T00:18:36.958042Z",
     "shell.execute_reply.started": "2022-04-17T00:18:00.464460Z"
    },
    "tags": []
   },
   "outputs": [
    {
     "name": "stderr",
     "output_type": "stream",
     "text": [
      "LOCAL_RANK: 0 - CUDA_VISIBLE_DEVICES: [0]\n",
      "Set SLURM handle signals.\n",
      "\n",
      "  | Name      | Type                      | Params\n",
      "--------------------------------------------------------\n",
      "0 | convnet   | BasicConv1D               | 3.6 K \n",
      "1 | fcnet     | BasicFullyConnectedModule | 1.5 K \n",
      "2 | r_squared | R2Score                   | 0     \n",
      "--------------------------------------------------------\n",
      "5.1 K     Trainable params\n",
      "0         Non-trainable params\n",
      "5.1 K     Total params\n",
      "0.020     Total estimated model params size (MB)\n"
     ]
    },
    {
     "data": {
      "application/vnd.jupyter.widget-view+json": {
       "model_id": "",
       "version_major": 2,
       "version_minor": 0
      },
      "text/plain": [
       "Validation sanity check: 0it [00:00, ?it/s]"
      ]
     },
     "metadata": {},
     "output_type": "display_data"
    },
    {
     "data": {
      "application/vnd.jupyter.widget-view+json": {
       "model_id": "",
       "version_major": 2,
       "version_minor": 0
      },
      "text/plain": [
       "Training: 0it [00:00, ?it/s]"
      ]
     },
     "metadata": {},
     "output_type": "display_data"
    },
    {
     "name": "stderr",
     "output_type": "stream",
     "text": [
      "Exception ignored in: Exception ignored in: <function _MultiProcessingDataLoaderIter.__del__ at 0x1554c0618950>\n",
      "Traceback (most recent call last):\n",
      "  File \"/cellar/users/aklie/opt/miniconda3/envs/pytorch_dev/lib/python3.7/site-packages/torch/utils/data/dataloader.py\", line 1358, in __del__\n",
      "<function _MultiProcessingDataLoaderIter.__del__ at 0x1554c0618950>\n",
      "Traceback (most recent call last):\n",
      "  File \"/cellar/users/aklie/opt/miniconda3/envs/pytorch_dev/lib/python3.7/site-packages/torch/utils/data/dataloader.py\", line 1358, in __del__\n",
      "    self._shutdown_workers()Traceback (most recent call last):\n",
      "  File \"/cellar/users/aklie/opt/miniconda3/envs/pytorch_dev/lib/python3.7/multiprocessing/queues.py\", line 242, in _feed\n",
      "    send_bytes(obj)\n",
      "  File \"/cellar/users/aklie/opt/miniconda3/envs/pytorch_dev/lib/python3.7/multiprocessing/connection.py\", line 200, in send_bytes\n",
      "    self._send_bytes(m[offset:offset + size])\n",
      "  File \"/cellar/users/aklie/opt/miniconda3/envs/pytorch_dev/lib/python3.7/multiprocessing/connection.py\", line 404, in _send_bytes\n",
      "    self._send(header + buf)\n",
      "  File \"/cellar/users/aklie/opt/miniconda3/envs/pytorch_dev/lib/python3.7/multiprocessing/connection.py\", line 368, in _send\n",
      "    n = write(self._handle, buf)\n",
      "BrokenPipeError: [Errno 32] Broken pipe\n",
      "\n",
      "  File \"/cellar/users/aklie/opt/miniconda3/envs/pytorch_dev/lib/python3.7/site-packages/torch/utils/data/dataloader.py\", line 1341, in _shutdown_workers\n",
      "    self._shutdown_workers()\n",
      "      File \"/cellar/users/aklie/opt/miniconda3/envs/pytorch_dev/lib/python3.7/site-packages/torch/utils/data/dataloader.py\", line 1341, in _shutdown_workers\n",
      "if w.is_alive():\n",
      "  File \"/cellar/users/aklie/opt/miniconda3/envs/pytorch_dev/lib/python3.7/multiprocessing/process.py\", line 151, in is_alive\n",
      "    if w.is_alive():\n",
      "  File \"/cellar/users/aklie/opt/miniconda3/envs/pytorch_dev/lib/python3.7/multiprocessing/process.py\", line 151, in is_alive\n",
      "    assert self._parent_pid == os.getpid(), 'can only test a child process'    \n",
      "assert self._parent_pid == os.getpid(), 'can only test a child process'AssertionError\n",
      "AssertionError: can only test a child process: can only test a child process\n",
      "\n"
     ]
    }
   ],
   "source": [
    "trainer.fit(model=cnn, datamodule=mod)"
   ]
  },
  {
   "cell_type": "code",
   "execution_count": 11,
   "id": "a5fd31db-1d5e-4d34-ba81-b0db44a1b286",
   "metadata": {
    "execution": {
     "iopub.execute_input": "2022-04-17T00:17:36.603660Z",
     "iopub.status.busy": "2022-04-17T00:17:36.603494Z",
     "iopub.status.idle": "2022-04-17T00:17:38.115238Z",
     "shell.execute_reply": "2022-04-17T00:17:38.114731Z",
     "shell.execute_reply.started": "2022-04-17T00:17:36.603644Z"
    },
    "tags": []
   },
   "outputs": [],
   "source": [
    "import torch.nn.functional as F"
   ]
  },
  {
   "cell_type": "code",
   "execution_count": 12,
   "id": "19dd6ab0-7275-412b-9635-6839b9303782",
   "metadata": {
    "execution": {
     "iopub.execute_input": "2022-04-17T00:17:38.116098Z",
     "iopub.status.busy": "2022-04-17T00:17:38.115982Z",
     "iopub.status.idle": "2022-04-17T00:17:39.623296Z",
     "shell.execute_reply": "2022-04-17T00:17:39.622806Z",
     "shell.execute_reply.started": "2022-04-17T00:17:38.116081Z"
    },
    "tags": []
   },
   "outputs": [
    {
     "ename": "NameError",
     "evalue": "name 'outs' is not defined",
     "output_type": "error",
     "traceback": [
      "\u001b[0;31m---------------------------------------------------------------------------\u001b[0m",
      "\u001b[0;31mNameError\u001b[0m                                 Traceback (most recent call last)",
      "\u001b[0;32m<ipython-input-12-f4c7c34e7b64>\u001b[0m in \u001b[0;36m<module>\u001b[0;34m\u001b[0m\n\u001b[0;32m----> 1\u001b[0;31m \u001b[0mF\u001b[0m\u001b[0;34m.\u001b[0m\u001b[0mmse_loss\u001b[0m\u001b[0;34m(\u001b[0m\u001b[0mouts\u001b[0m\u001b[0;34m,\u001b[0m \u001b[0my\u001b[0m\u001b[0;34m)\u001b[0m\u001b[0;34m\u001b[0m\u001b[0;34m\u001b[0m\u001b[0m\n\u001b[0m",
      "\u001b[0;31mNameError\u001b[0m: name 'outs' is not defined"
     ]
    }
   ],
   "source": [
    "F.mse_loss(outs, y)"
   ]
  },
  {
   "cell_type": "markdown",
   "id": "014ba91d",
   "metadata": {
    "tags": [],
    "toc-hr-collapsed": true
   },
   "source": [
    "## Random dataset\n",
    "<div class=\"alert alert-info\" role=\"alert\">\n",
    "  <b>Just test out the basic function of our eugene architectures on some random data</b>\n",
    "</div>"
   ]
  },
  {
   "cell_type": "markdown",
   "id": "5797dac8",
   "metadata": {
    "tags": [],
    "toc-hr-collapsed": true
   },
   "source": [
    "### Load data"
   ]
  },
  {
   "cell_type": "code",
   "execution_count": 29,
   "id": "e85f9e92-94d4-467a-af6c-f4e9187a810f",
   "metadata": {
    "execution": {
     "iopub.execute_input": "2022-04-03T21:19:31.101596Z",
     "iopub.status.busy": "2022-04-03T21:19:31.100665Z",
     "iopub.status.idle": "2022-04-03T21:19:32.440924Z",
     "shell.execute_reply": "2022-04-03T21:19:32.440535Z",
     "shell.execute_reply.started": "2022-04-03T21:19:31.101558Z"
    },
    "tags": []
   },
   "outputs": [],
   "source": [
    "from torch.utils.data import dataset\n",
    "from torch.utils.data import DataLoader\n",
    "\n",
    "### Training set\n",
    "training_dataset = dataset.TensorDataset(torch.randn(1000, 4, 66), torch.bernoulli(torch.empty(1000).uniform_(0,1)))\n",
    "training_dataloader = DataLoader(training_dataset, batch_size=32, num_workers=1)\n",
    "training_dataset[0][0].shape, training_dataset[0][1]\n",
    "\n",
    "for i_batch, batch in enumerate(training_dataloader):\n",
    "    x, y = batch\n",
    "    outs = eugene(x)\n",
    "    print(x.shape, y.shape, outs.shape)\n",
    "    if i_batch==3:\n",
    "        break\n",
    "\n",
    "### Validation set\n",
    "validation_dataset = dataset.TensorDataset(torch.randn(100, 4, 66), torch.bernoulli(torch.empty(100).uniform_(0,1)))\n",
    "validation_dataloader = DataLoader(validation_dataset, batch_size=32, num_workers=4)\n",
    "validation_dataset[0][0].shape, validation_dataset[0][1]\n",
    "\n",
    "for i_batch, batch in enumerate(validation_dataloader):\n",
    "    x, y = batch\n",
    "    outs = eugene(x)\n",
    "    print(x.shape, y.shape, outs.shape)\n",
    "    if i_batch==3:\n",
    "        break\n",
    "\n",
    "## Instantiate EUGENE architecture: ssEUGENE\n",
    "cnn=dict(input_len=66, channels=[4, 16], conv_kernels=[15, 5], pool_kernels=[1, 1])\n",
    "rnn=dict(output_dim=32, batch_first=True)\n",
    "fc=dict(output_dim=1)\n",
    "\n",
    "from ssEUGENE import ssEUGENE\n",
    "eugene = ssEUGENE(conv_kwargs=cnn, rnn_kwargs=rnn, fc_kwargs=fc)\n",
    "eugene\n",
    "\n",
    "x = torch.randn(10, 4, 66)\n",
    "out = eugene(x)\n",
    "out.shape"
   ]
  },
  {
   "cell_type": "markdown",
   "id": "6a228cb8",
   "metadata": {
    "tags": [],
    "toc-hr-collapsed": true
   },
   "source": [
    "### Training with PyTorch Lightning"
   ]
  },
  {
   "cell_type": "code",
   "execution_count": 36,
   "id": "eaa8de8b-97f6-4ac4-9949-5c97a8cba8aa",
   "metadata": {
    "execution": {
     "iopub.execute_input": "2022-04-03T21:19:56.781724Z",
     "iopub.status.busy": "2022-04-03T21:19:56.781556Z",
     "iopub.status.idle": "2022-04-03T21:20:54.762661Z",
     "shell.execute_reply": "2022-04-03T21:20:54.762261Z",
     "shell.execute_reply.started": "2022-04-03T21:19:56.781706Z"
    },
    "tags": []
   },
   "outputs": [],
   "source": [
    "import pytorch_lightning as pl\n",
    "from pytorch_lightning.loggers import TensorBoardLogger\n",
    "\n",
    "logger = TensorBoardLogger(\"random_test\", name=\"ssEUGENE\")\n",
    "trainer = pl.Trainer(gpus=1, max_epochs=10, logger=logger)\n",
    "\n",
    "trainer.fit(model=eugene, train_dataloader=training_dataloader, val_dataloaders=validation_dataloader)"
   ]
  },
  {
   "cell_type": "markdown",
   "id": "ecf8ebb4",
   "metadata": {
    "tags": [],
    "toc-hr-collapsed": true
   },
   "source": [
    "## MPRADataset\n",
    "<div class=\"alert alert-info\" role=\"alert\">\n",
    "  <b>Just test out the basic function of our eugene architectures on a MPRA dataset</b>\n",
    "</div>"
   ]
  },
  {
   "cell_type": "markdown",
   "id": "39c9fa55",
   "metadata": {
    "tags": [],
    "toc-hr-collapsed": true
   },
   "source": [
    "### Load data and instantiate EUGENE architecture: dsEUGENE"
   ]
  },
  {
   "cell_type": "code",
   "execution_count": 4,
   "id": "492c2f85",
   "metadata": {
    "execution": {
     "iopub.execute_input": "2022-04-03T21:34:01.638279Z",
     "iopub.status.busy": "2022-04-03T21:34:01.638173Z",
     "iopub.status.idle": "2022-04-03T21:34:08.486745Z",
     "shell.execute_reply": "2022-04-03T21:34:08.486382Z",
     "shell.execute_reply.started": "2022-04-03T21:34:01.638264Z"
    },
    "tags": []
   },
   "outputs": [
    {
     "name": "stdout",
     "output_type": "stream",
     "text": [
      "torch.Size([512, 4, 66]) torch.Size([512, 4, 66]) torch.Size([512]) torch.Size([512, 1])\n",
      "torch.Size([512, 4, 66]) torch.Size([512, 4, 66]) torch.Size([512]) torch.Size([512, 1])\n",
      "torch.Size([512, 4, 66]) torch.Size([512, 4, 66]) torch.Size([512]) torch.Size([512, 1])\n",
      "torch.Size([512, 4, 66]) torch.Size([512, 4, 66]) torch.Size([512]) torch.Size([512, 1])\n",
      "torch.Size([512, 4, 66]) torch.Size([512, 4, 66]) torch.Size([512]) torch.Size([512, 1])\n",
      "torch.Size([512, 4, 66]) torch.Size([512, 4, 66]) torch.Size([512]) torch.Size([512, 1])\n",
      "torch.Size([512, 4, 66]) torch.Size([512, 4, 66]) torch.Size([512]) torch.Size([512, 1])\n",
      "torch.Size([512, 4, 66]) torch.Size([512, 4, 66]) torch.Size([512]) torch.Size([512, 1])\n"
     ]
    }
   ],
   "source": [
    "from eugene.load_data import load_csv, load_numpy\n",
    "from eugene.MPRADataset import MPRADataset\n",
    "from torch.utils.data import DataLoader\n",
    "from torchvision import transforms\n",
    "from transforms import ReverseComplement, Augment, OneHotEncode, ToTensor\n",
    "from dsEUGENE import dsEUGENE\n",
    "import claim.utils as cu\n",
    "\n",
    "TRAIN_SEQ = \"/cellar/users/aklie/projects/EUGENE/data/2021_OLS_Library/seqs/0.09-0.4_seqs-train-0.9.txt\"\n",
    "TRAIN_LABEL = \"/cellar/users/aklie/projects/EUGENE/data/2021_OLS_Library/binary/0.09-0.4_y-train-0.9_binary.txt\"\n",
    "train_seqs, train_targets = load_numpy(TRAIN_SEQ, TRAIN_LABEL, is_seq_text=True)\n",
    "len(train_seqs), train_seqs[0], len(train_targets), train_targets[0]\n",
    "\n",
    "VAL_SEQ = \"/cellar/users/aklie/projects/EUGENE/data/2021_OLS_Library/seqs/0.09-0.4_seqs-test-0.1.txt\"\n",
    "VAL_LABEL = \"/cellar/users/aklie/projects/EUGENE/data/2021_OLS_Library/binary/0.09-0.4_y-test-0.1_binary.txt\"\n",
    "val_seqs, val_targets = load_numpy(VAL_SEQ, VAL_LABEL, is_seq_text=True)\n",
    "len(val_seqs), val_seqs[0], len(val_targets), val_targets[0]\n",
    "\n",
    "# Compose different data transforms for this particular load\n",
    "data_transform = transforms.Compose([\n",
    "    Augment(randomize_linker_p=0.1, enhancer=\"WT-otx-a\"), ReverseComplement(ohe_encoded=False), OneHotEncode(), ToTensor(transpose=True)\n",
    "])\n",
    "\n",
    "# Instantiate a Dataset\n",
    "train_dataset = MPRADataset(train_seqs, train_targets, transform=data_transform)\n",
    "val_dataset = MPRADataset(val_seqs, val_targets, transform=data_transform)\n",
    "\n",
    "# Instantiate a DataLoader\n",
    "train_dataloader = DataLoader(train_dataset, batch_size=512, shuffle=True, num_workers=4)\n",
    "val_dataloader = DataLoader(val_dataset, batch_size=512, shuffle=False, num_workers=4)\n",
    "\n",
    "for i_batch, batch in enumerate(train_dataloader):\n",
    "    x, x_rev_comp, y = batch[\"sequence\"], batch[\"reverse_complement\"], batch[\"target\"]\n",
    "    outs = eugene(x, x_rev_comp)\n",
    "    print(x.shape, x_rev_comp.shape, y.shape, outs.shape)\n",
    "    if i_batch==3:\n",
    "        break\n",
    "        \n",
    "for i_batch, batch in enumerate(val_dataloader):\n",
    "    x, x_rev_comp, y = batch[\"sequence\"], batch[\"reverse_complement\"], batch[\"target\"]\n",
    "    outs = eugene(x, x_rev_comp)\n",
    "    print(x.shape, x_rev_comp.shape, y.shape, outs.shape)\n",
    "    if i_batch==3:\n",
    "        break\n",
    "        \n",
    "cnn=dict(input_len=66, channels=[4, 16], conv_kernels=[15, 5], pool_kernels=[1, 1])\n",
    "rnn=dict(output_dim=32, batch_first=True)\n",
    "fc=dict(output_dim=1)\n",
    "\n",
    "eugene = dsEUGENE(conv_kwargs=cnn, rnn_kwargs=rnn, fc_kwargs=fc)\n",
    "cu.init_weights(eugene)"
   ]
  },
  {
   "cell_type": "markdown",
   "id": "a4593c10",
   "metadata": {
    "tags": [],
    "toc-hr-collapsed": true
   },
   "source": [
    "### Training with PyTorch Lightning"
   ]
  },
  {
   "cell_type": "code",
   "execution_count": 7,
   "id": "d08a1538-533f-49f4-9401-f27b406f299d",
   "metadata": {
    "execution": {
     "iopub.execute_input": "2022-04-03T21:34:32.417745Z",
     "iopub.status.busy": "2022-04-03T21:34:32.417582Z",
     "iopub.status.idle": "2022-04-03T21:36:12.860105Z",
     "shell.execute_reply": "2022-04-03T21:36:12.859747Z",
     "shell.execute_reply.started": "2022-04-03T21:34:32.417728Z"
    },
    "tags": []
   },
   "outputs": [],
   "source": [
    "import pytorch_lightning as pl\n",
    "from pytorch_lightning.loggers import TensorBoardLogger\n",
    "\n",
    "logger = TensorBoardLogger(\"0.18-0.4_test\", name=\"dsEUGENE\")\n",
    "trainer = pl.Trainer(gpus=1, max_epochs=10, logger=logger)\n",
    "\n",
    "trainer.fit(model=eugene, train_dataloaders=train_dataloader, val_dataloaders=val_dataloader)"
   ]
  },
  {
   "cell_type": "markdown",
   "id": "748e0502",
   "metadata": {
    "tags": [],
    "toc-hr-collapsed": true
   },
   "source": [
    "# References"
   ]
  }
 ],
 "metadata": {
  "interpreter": {
   "hash": "877ac64bedd0eab90089d6ca2747c50a37e983f6bb007df51c0a6db8dddb5e0e"
  },
  "kernelspec": {
   "display_name": "Python 3 pytorch_dev",
   "language": "python",
   "name": "pytorch_dev"
  },
  "language_info": {
   "codemirror_mode": {
    "name": "ipython",
    "version": 3
   },
   "file_extension": ".py",
   "mimetype": "text/x-python",
   "name": "python",
   "nbconvert_exporter": "python",
   "pygments_lexer": "ipython3",
   "version": "3.7.12"
  }
 },
 "nbformat": 4,
 "nbformat_minor": 5
}

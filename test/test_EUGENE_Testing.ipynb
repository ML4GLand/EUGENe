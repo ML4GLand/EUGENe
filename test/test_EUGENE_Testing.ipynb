{
 "cells": [
  {
   "cell_type": "markdown",
   "id": "47cc2c48",
   "metadata": {},
   "source": [
    "# Testing EUGENE prediction"
   ]
  },
  {
   "cell_type": "markdown",
   "id": "3b1880c3",
   "metadata": {
    "tags": []
   },
   "source": [
    "**Authorship:**\n",
    "Adam Klie, *03/19/2022*\n",
    "***\n",
    "**Description:**\n",
    "Notebook for testing predictions with EUGENE architectures"
   ]
  },
  {
   "cell_type": "markdown",
   "id": "599007ce",
   "metadata": {},
   "source": [
    "<div class=\"alert alert-block alert-warning\">\n",
    "<b>TODOs</b>:\n",
    "<ul>\n",
    "    <b><li>Config for EUGENES</li></b>\n",
    "    </ul>\n",
    "</div>"
   ]
  },
  {
   "cell_type": "code",
   "execution_count": 7,
   "id": "1dd9ef33",
   "metadata": {
    "execution": {
     "iopub.execute_input": "2022-04-24T20:21:21.950378Z",
     "iopub.status.busy": "2022-04-24T20:21:21.950214Z",
     "iopub.status.idle": "2022-04-24T20:21:23.324471Z",
     "shell.execute_reply": "2022-04-24T20:21:23.324030Z",
     "shell.execute_reply.started": "2022-04-24T20:21:21.950361Z"
    },
    "tags": []
   },
   "outputs": [],
   "source": [
    "import os\n",
    "import numpy as np\n",
    "import pandas as pd\n",
    "import torch\n",
    "\n",
    "# Autoreload extension\n",
    "if 'autoreload' not in get_ipython().extension_manager.loaded:\n",
    "    %load_ext autoreload\n",
    "%autoreload 2"
   ]
  },
  {
   "cell_type": "markdown",
   "id": "2b388b20-ba21-4cfd-956d-76456918b0d5",
   "metadata": {},
   "source": [
    "# Predict with dsEUGENE\n",
    "<div class=\"alert alert-info\" role=\"alert\">\n",
    "  <b>Predict with dsEUGENE models</b>\n",
    "</div>"
   ]
  },
  {
   "cell_type": "code",
   "execution_count": 1,
   "id": "935c1d55-a9ed-4cbf-a0e8-660ac0a00ef9",
   "metadata": {
    "execution": {
     "iopub.execute_input": "2022-04-24T20:20:55.562890Z",
     "iopub.status.busy": "2022-04-24T20:20:55.562606Z",
     "iopub.status.idle": "2022-04-24T20:20:55.565649Z",
     "shell.execute_reply": "2022-04-24T20:20:55.565238Z",
     "shell.execute_reply.started": "2022-04-24T20:20:55.562808Z"
    },
    "tags": []
   },
   "outputs": [],
   "source": [
    "BATCH_SIZE = 512\n",
    "DATA_TYPE = \"tsv\"\n",
    "NUM_WORKERS = 0\n",
    "NUM_SEQS = 100000\n",
    "SEQ_LEN = 66"
   ]
  },
  {
   "cell_type": "markdown",
   "id": "b446ff4c-3bc0-44a5-930b-3d30dcb17e76",
   "metadata": {
    "tags": []
   },
   "source": [
    "## Load data"
   ]
  },
  {
   "cell_type": "code",
   "execution_count": 2,
   "id": "cf9d0ff8-e637-497c-a1a9-1adf56387230",
   "metadata": {
    "execution": {
     "iopub.execute_input": "2022-04-24T20:20:56.203127Z",
     "iopub.status.busy": "2022-04-24T20:20:56.202917Z",
     "iopub.status.idle": "2022-04-24T20:21:06.980427Z",
     "shell.execute_reply": "2022-04-24T20:21:06.980048Z",
     "shell.execute_reply.started": "2022-04-24T20:20:56.203104Z"
    },
    "tags": []
   },
   "outputs": [],
   "source": [
    "from torchvision import transforms\n",
    "from eugene.utils.seq_transforms import ReverseComplement, Augment, OneHotEncode, ToTensor\n",
    "from eugene.dataloading.SeqDataModule import SeqDataModule"
   ]
  },
  {
   "cell_type": "code",
   "execution_count": 3,
   "id": "21af3462-1e06-4de6-b51d-a85e4bdebdf0",
   "metadata": {
    "execution": {
     "iopub.execute_input": "2022-04-24T20:21:06.981222Z",
     "iopub.status.busy": "2022-04-24T20:21:06.981056Z",
     "iopub.status.idle": "2022-04-24T20:21:06.983470Z",
     "shell.execute_reply": "2022-04-24T20:21:06.983195Z",
     "shell.execute_reply.started": "2022-04-24T20:21:06.981205Z"
    },
    "tags": []
   },
   "outputs": [],
   "source": [
    "data_transform = transforms.Compose([\n",
    "    Augment(randomize_linker_p=0.1, enhancer=\"WT-otx-a\"), \n",
    "    ReverseComplement(ohe_encoded=False), \n",
    "    OneHotEncode(), \n",
    "    ToTensor(transpose=True)\n",
    "])"
   ]
  },
  {
   "cell_type": "code",
   "execution_count": 4,
   "id": "fc0b3dcb-37dd-4ed9-a571-987219c44088",
   "metadata": {
    "execution": {
     "iopub.execute_input": "2022-04-24T20:21:06.984261Z",
     "iopub.status.busy": "2022-04-24T20:21:06.984138Z",
     "iopub.status.idle": "2022-04-24T20:21:06.996436Z",
     "shell.execute_reply": "2022-04-24T20:21:06.996155Z",
     "shell.execute_reply.started": "2022-04-24T20:21:06.984247Z"
    },
    "tags": []
   },
   "outputs": [],
   "source": [
    "DATA_DIR = \"test_{}seqs_{}/\".format(NUM_SEQS, SEQ_LEN)\n",
    "mod = SeqDataModule(seq_file=DATA_DIR + \"test_seqs.tsv\",\n",
    "                    transform=data_transform,\n",
    "                    num_workers=4,\n",
    "                    batch_size=BATCH_SIZE,\n",
    "                    test= True,\n",
    "                    load_kwargs=dict(seq_col=\"SEQ\", name_col=\"NAME\", target_col=\"LABEL\"))"
   ]
  },
  {
   "cell_type": "markdown",
   "id": "5279866a",
   "metadata": {
    "tags": []
   },
   "source": [
    "## Instantiate EUGENE architecture: dsEUGENE"
   ]
  },
  {
   "cell_type": "code",
   "execution_count": 5,
   "id": "d2a38685",
   "metadata": {
    "execution": {
     "iopub.execute_input": "2022-04-24T20:21:06.997131Z",
     "iopub.status.busy": "2022-04-24T20:21:06.996992Z",
     "iopub.status.idle": "2022-04-24T20:21:07.473174Z",
     "shell.execute_reply": "2022-04-24T20:21:07.472715Z",
     "shell.execute_reply.started": "2022-04-24T20:21:06.997114Z"
    },
    "tags": []
   },
   "outputs": [],
   "source": [
    "from eugene.models.hybrid import hybrid"
   ]
  },
  {
   "cell_type": "code",
   "execution_count": 8,
   "id": "d3f48928-4f11-451d-94f5-8f41047d98d7",
   "metadata": {
    "execution": {
     "iopub.execute_input": "2022-04-24T20:21:24.065040Z",
     "iopub.status.busy": "2022-04-24T20:21:24.064815Z",
     "iopub.status.idle": "2022-04-24T20:21:28.028984Z",
     "shell.execute_reply": "2022-04-24T20:21:28.028647Z",
     "shell.execute_reply.started": "2022-04-24T20:21:24.065009Z"
    },
    "tags": []
   },
   "outputs": [
    {
     "name": "stderr",
     "output_type": "stream",
     "text": [
      "/cellar/users/aklie/opt/miniconda3/envs/pytorch_dev/lib/python3.7/site-packages/torchmetrics/utilities/prints.py:36: UserWarning: Metric `AUROC` will save all targets and predictions in buffer. For large datasets this may lead to large memory footprint.\n",
      "  warnings.warn(*args, **kwargs)\n"
     ]
    }
   ],
   "source": [
    "CKT_PTH  = \"/cellar/users/aklie/projects/EUGENE/results/simple/classification/sshybrid/2022_04_23_NPY_Baseline/checkpoints/epoch=25-step=4523.ckpt\"\n",
    "device = torch.device('cuda' if torch.cuda.is_available() else 'cpu')\n",
    "eugene = hybrid.load_from_checkpoint(\n",
    "    checkpoint_path=CKT_PTH,\n",
    "    map_location=device,\n",
    ")"
   ]
  },
  {
   "cell_type": "markdown",
   "id": "6a228cb8",
   "metadata": {
    "tags": []
   },
   "source": [
    "## Testing with PyTorch Lightning"
   ]
  },
  {
   "cell_type": "code",
   "execution_count": 9,
   "id": "d26d478d",
   "metadata": {
    "execution": {
     "iopub.execute_input": "2022-04-24T20:21:28.029735Z",
     "iopub.status.busy": "2022-04-24T20:21:28.029620Z",
     "iopub.status.idle": "2022-04-24T20:21:29.432839Z",
     "shell.execute_reply": "2022-04-24T20:21:29.432330Z",
     "shell.execute_reply.started": "2022-04-24T20:21:28.029719Z"
    },
    "tags": []
   },
   "outputs": [],
   "source": [
    "import pytorch_lightning as pl\n",
    "from eugene.utils.custom_callbacks import PredictionWriter"
   ]
  },
  {
   "cell_type": "code",
   "execution_count": 10,
   "id": "770db729",
   "metadata": {
    "execution": {
     "iopub.execute_input": "2022-04-24T20:21:29.433827Z",
     "iopub.status.busy": "2022-04-24T20:21:29.433707Z",
     "iopub.status.idle": "2022-04-24T20:21:30.803734Z",
     "shell.execute_reply": "2022-04-24T20:21:30.803247Z",
     "shell.execute_reply.started": "2022-04-24T20:21:29.433811Z"
    },
    "tags": []
   },
   "outputs": [
    {
     "name": "stderr",
     "output_type": "stream",
     "text": [
      "GPU available: True, used: True\n",
      "TPU available: False, using: 0 TPU cores\n",
      "IPU available: False, using: 0 IPUs\n"
     ]
    }
   ],
   "source": [
    "trainer = pl.Trainer(gpus=1, callbacks=PredictionWriter(DATA_DIR, write_interval=\"epoch\", prefix=\"test_10000seqs_66_\"))"
   ]
  },
  {
   "cell_type": "code",
   "execution_count": 11,
   "id": "3c9af5e4",
   "metadata": {
    "execution": {
     "iopub.execute_input": "2022-04-24T20:21:30.804635Z",
     "iopub.status.busy": "2022-04-24T20:21:30.804473Z",
     "iopub.status.idle": "2022-04-24T20:21:38.103264Z",
     "shell.execute_reply": "2022-04-24T20:21:38.102841Z",
     "shell.execute_reply.started": "2022-04-24T20:21:30.804618Z"
    },
    "tags": []
   },
   "outputs": [
    {
     "name": "stderr",
     "output_type": "stream",
     "text": [
      "LOCAL_RANK: 0 - CUDA_VISIBLE_DEVICES: [0]\n"
     ]
    },
    {
     "data": {
      "application/vnd.jupyter.widget-view+json": {
       "model_id": "9b9cd830d6b148889cd655a7ae60520c",
       "version_major": 2,
       "version_minor": 0
      },
      "text/plain": [
       "Predicting: 0it [00:00, ?it/s]"
      ]
     },
     "metadata": {},
     "output_type": "display_data"
    }
   ],
   "source": [
    "#trainer.test(model=eugene, datamodule=mod)\n",
    "preds = trainer.predict(model=eugene, datamodule=mod)"
   ]
  },
  {
   "cell_type": "code",
   "execution_count": 13,
   "id": "e9bc5281-d0cf-4ef5-bc58-7bcc214b39e0",
   "metadata": {
    "execution": {
     "iopub.execute_input": "2022-04-24T20:53:43.951029Z",
     "iopub.status.busy": "2022-04-24T20:53:43.950858Z",
     "iopub.status.idle": "2022-04-24T20:53:44.923110Z",
     "shell.execute_reply": "2022-04-24T20:53:44.922706Z",
     "shell.execute_reply.started": "2022-04-24T20:53:43.951011Z"
    },
    "tags": []
   },
   "outputs": [
    {
     "data": {
      "text/html": [
       "<div>\n",
       "<style scoped>\n",
       "    .dataframe tbody tr th:only-of-type {\n",
       "        vertical-align: middle;\n",
       "    }\n",
       "\n",
       "    .dataframe tbody tr th {\n",
       "        vertical-align: top;\n",
       "    }\n",
       "\n",
       "    .dataframe thead th {\n",
       "        text-align: right;\n",
       "    }\n",
       "</style>\n",
       "<table border=\"1\" class=\"dataframe\">\n",
       "  <thead>\n",
       "    <tr style=\"text-align: right;\">\n",
       "      <th></th>\n",
       "      <th>NAME</th>\n",
       "      <th>PREDICTION</th>\n",
       "      <th>TARGET</th>\n",
       "    </tr>\n",
       "  </thead>\n",
       "  <tbody>\n",
       "    <tr>\n",
       "      <th>0</th>\n",
       "      <td>seq001</td>\n",
       "      <td>1.508530</td>\n",
       "      <td>1.0</td>\n",
       "    </tr>\n",
       "    <tr>\n",
       "      <th>1</th>\n",
       "      <td>seq002</td>\n",
       "      <td>1.162973</td>\n",
       "      <td>0.0</td>\n",
       "    </tr>\n",
       "    <tr>\n",
       "      <th>2</th>\n",
       "      <td>seq003</td>\n",
       "      <td>1.486226</td>\n",
       "      <td>0.0</td>\n",
       "    </tr>\n",
       "    <tr>\n",
       "      <th>3</th>\n",
       "      <td>seq004</td>\n",
       "      <td>0.534772</td>\n",
       "      <td>0.0</td>\n",
       "    </tr>\n",
       "    <tr>\n",
       "      <th>4</th>\n",
       "      <td>seq005</td>\n",
       "      <td>-0.000528</td>\n",
       "      <td>0.0</td>\n",
       "    </tr>\n",
       "    <tr>\n",
       "      <th>...</th>\n",
       "      <td>...</td>\n",
       "      <td>...</td>\n",
       "      <td>...</td>\n",
       "    </tr>\n",
       "    <tr>\n",
       "      <th>99995</th>\n",
       "      <td>seq99996</td>\n",
       "      <td>2.098904</td>\n",
       "      <td>1.0</td>\n",
       "    </tr>\n",
       "    <tr>\n",
       "      <th>99996</th>\n",
       "      <td>seq99997</td>\n",
       "      <td>0.900767</td>\n",
       "      <td>1.0</td>\n",
       "    </tr>\n",
       "    <tr>\n",
       "      <th>99997</th>\n",
       "      <td>seq99998</td>\n",
       "      <td>1.445276</td>\n",
       "      <td>0.0</td>\n",
       "    </tr>\n",
       "    <tr>\n",
       "      <th>99998</th>\n",
       "      <td>seq99999</td>\n",
       "      <td>0.495785</td>\n",
       "      <td>0.0</td>\n",
       "    </tr>\n",
       "    <tr>\n",
       "      <th>99999</th>\n",
       "      <td>seq100000</td>\n",
       "      <td>-0.709280</td>\n",
       "      <td>0.0</td>\n",
       "    </tr>\n",
       "  </tbody>\n",
       "</table>\n",
       "<p>100000 rows × 3 columns</p>\n",
       "</div>"
      ],
      "text/plain": [
       "            NAME  PREDICTION  TARGET\n",
       "0         seq001    1.508530     1.0\n",
       "1         seq002    1.162973     0.0\n",
       "2         seq003    1.486226     0.0\n",
       "3         seq004    0.534772     0.0\n",
       "4         seq005   -0.000528     0.0\n",
       "...          ...         ...     ...\n",
       "99995   seq99996    2.098904     1.0\n",
       "99996   seq99997    0.900767     1.0\n",
       "99997   seq99998    1.445276     0.0\n",
       "99998   seq99999    0.495785     0.0\n",
       "99999  seq100000   -0.709280     0.0\n",
       "\n",
       "[100000 rows x 3 columns]"
      ]
     },
     "execution_count": 13,
     "metadata": {},
     "output_type": "execute_result"
    }
   ],
   "source": [
    "pd.read_csv(os.path.join(DATA_DIR, \"test_10000seqs_66_predictions.tsv\"), sep=\"\\t\")"
   ]
  },
  {
   "cell_type": "markdown",
   "id": "748e0502",
   "metadata": {},
   "source": [
    "# References"
   ]
  }
 ],
 "metadata": {
  "kernelspec": {
   "display_name": "Python 3 pytorch_dev",
   "language": "python",
   "name": "pytorch_dev"
  },
  "language_info": {
   "codemirror_mode": {
    "name": "ipython",
    "version": 3
   },
   "file_extension": ".py",
   "mimetype": "text/x-python",
   "name": "python",
   "nbconvert_exporter": "python",
   "pygments_lexer": "ipython3",
   "version": "3.7.12"
  }
 },
 "nbformat": 4,
 "nbformat_minor": 5
}

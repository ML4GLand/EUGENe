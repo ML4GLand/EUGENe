{
 "cells": [
  {
   "cell_type": "markdown",
   "id": "661f6b58",
   "metadata": {},
   "source": [
    "# Testing CLAIM Modules"
   ]
  },
  {
   "cell_type": "markdown",
   "id": "fa64213c",
   "metadata": {
    "tags": []
   },
   "source": [
    "**Authorship:**\n",
    "Adam Klie, *03/19/2022*\n",
    "***\n",
    "**Description:**\n",
    "Notebook for testing out CLAIM modules for building EUGENE architectures"
   ]
  },
  {
   "cell_type": "markdown",
   "id": "0cc2e158",
   "metadata": {},
   "source": [
    "<div class=\"alert alert-block alert-warning\">\n",
    "<b>TODOs</b>:\n",
    "<ul>\n",
    "    <b><li></li></b>\n",
    "    </ul>\n",
    "</div>"
   ]
  },
  {
   "cell_type": "code",
   "execution_count": 1,
   "id": "fdbc9d9e",
   "metadata": {
    "execution": {
     "iopub.execute_input": "2022-04-03T20:58:55.470114Z",
     "iopub.status.busy": "2022-04-03T20:58:55.469898Z",
     "iopub.status.idle": "2022-04-03T20:59:46.589240Z",
     "shell.execute_reply": "2022-04-03T20:59:46.588881Z",
     "shell.execute_reply.started": "2022-04-03T20:58:55.470072Z"
    },
    "tags": []
   },
   "outputs": [],
   "source": [
    "import numpy as np\n",
    "import pandas as pd\n",
    "import torch\n",
    "\n",
    "# Autoreload extension\n",
    "if 'autoreload' not in get_ipython().extension_manager.loaded:\n",
    "    %load_ext autoreload\n",
    "%autoreload 2\n",
    "\n",
    "import claim.modules as cm"
   ]
  },
  {
   "cell_type": "markdown",
   "id": "77387429",
   "metadata": {},
   "source": [
    "# DeepSea module\n",
    "<div class=\"alert alert-info\" role=\"alert\">\n",
    "  <b>Just test out the basic function of a DeepSea module</b>\n",
    "</div>"
   ]
  },
  {
   "cell_type": "code",
   "execution_count": 2,
   "id": "944fd26d",
   "metadata": {
    "execution": {
     "iopub.execute_input": "2022-04-03T21:00:10.879938Z",
     "iopub.status.busy": "2022-04-03T21:00:10.879786Z",
     "iopub.status.idle": "2022-04-03T21:00:11.569234Z",
     "shell.execute_reply": "2022-04-03T21:00:11.568914Z",
     "shell.execute_reply.started": "2022-04-03T21:00:10.879920Z"
    },
    "tags": []
   },
   "outputs": [
    {
     "data": {
      "text/plain": [
       "DeepSeaModule(\n",
       "  (module): Sequential(\n",
       "    (0): Conv1d(4, 15, kernel_size=(8,), stride=(1,))\n",
       "    (1): ReLU(inplace=True)\n",
       "    (2): MaxPool1d(kernel_size=1, stride=1, padding=0, dilation=1, ceil_mode=False)\n",
       "    (3): Dropout(p=0, inplace=False)\n",
       "    (4): Conv1d(15, 5, kernel_size=(8,), stride=(1,))\n",
       "    (5): ReLU(inplace=True)\n",
       "    (6): MaxPool1d(kernel_size=1, stride=1, padding=0, dilation=1, ceil_mode=False)\n",
       "    (7): Dropout(p=0, inplace=False)\n",
       "    (8): Conv1d(5, 5, kernel_size=(8,), stride=(1,))\n",
       "    (9): ReLU(inplace=True)\n",
       "    (10): Dropout(p=0, inplace=False)\n",
       "  )\n",
       ")"
      ]
     },
     "execution_count": 2,
     "metadata": {},
     "output_type": "execute_result"
    }
   ],
   "source": [
    "convnet = cm.DeepSeaModule(input_len=66, channels=[15, 5, 5], pool_kernels=[1, 1], dropout_rates=0.1)\n",
    "convnet"
   ]
  },
  {
   "cell_type": "code",
   "execution_count": 3,
   "id": "b82883ae",
   "metadata": {
    "execution": {
     "iopub.execute_input": "2022-04-03T21:00:16.743539Z",
     "iopub.status.busy": "2022-04-03T21:00:16.743376Z",
     "iopub.status.idle": "2022-04-03T21:00:18.765183Z",
     "shell.execute_reply": "2022-04-03T21:00:18.764869Z",
     "shell.execute_reply.started": "2022-04-03T21:00:16.743521Z"
    },
    "tags": []
   },
   "outputs": [
    {
     "data": {
      "text/plain": [
       "torch.Size([10, 5, 45])"
      ]
     },
     "execution_count": 3,
     "metadata": {},
     "output_type": "execute_result"
    }
   ],
   "source": [
    "x = torch.randn(10, 4, 66)\n",
    "out = convnet(x)\n",
    "assert out.shape[1]*out.shape[2] == convnet.flatten_dim\n",
    "out.shape"
   ]
  },
  {
   "cell_type": "markdown",
   "id": "3cb42222",
   "metadata": {},
   "source": [
    "# BasicConv1D module\n",
    "<div class=\"alert alert-info\" role=\"alert\">\n",
    "  <b>Generate a `conv_out` to pass to the recurrent module</b>\n",
    "</div>"
   ]
  },
  {
   "cell_type": "code",
   "execution_count": 4,
   "id": "3ce3f56e",
   "metadata": {
    "execution": {
     "iopub.execute_input": "2022-04-03T21:00:29.503908Z",
     "iopub.status.busy": "2022-04-03T21:00:29.503741Z",
     "iopub.status.idle": "2022-04-03T21:00:30.030734Z",
     "shell.execute_reply": "2022-04-03T21:00:30.030335Z",
     "shell.execute_reply.started": "2022-04-03T21:00:29.503891Z"
    },
    "tags": []
   },
   "outputs": [],
   "source": [
    "convnet = cm.BasicConv1D(input_len=66, channels=[4, 16, 32, 64], conv_kernels=[15, 5, 5], pool_kernels=[1, 1, 1], pool_strides = [1, 1, 1], dropout_rates=0.2)"
   ]
  },
  {
   "cell_type": "code",
   "execution_count": 6,
   "id": "aa464490",
   "metadata": {
    "execution": {
     "iopub.execute_input": "2022-04-03T21:00:39.457787Z",
     "iopub.status.busy": "2022-04-03T21:00:39.457628Z",
     "iopub.status.idle": "2022-04-03T21:00:40.386325Z",
     "shell.execute_reply": "2022-04-03T21:00:40.386017Z",
     "shell.execute_reply.started": "2022-04-03T21:00:39.457770Z"
    },
    "tags": []
   },
   "outputs": [
    {
     "data": {
      "text/plain": [
       "torch.Size([10, 64, 44])"
      ]
     },
     "execution_count": 6,
     "metadata": {},
     "output_type": "execute_result"
    }
   ],
   "source": [
    "x = torch.randn(10, 4, 66)\n",
    "conv_out = convnet(x)\n",
    "assert conv_out.shape[1]*conv_out.shape[2] == convnet.flatten_dim\n",
    "conv_out.shape"
   ]
  },
  {
   "cell_type": "markdown",
   "id": "8260dd27",
   "metadata": {},
   "source": [
    "# BasicRecurrent module\n",
    "<div class=\"alert alert-info\" role=\"alert\">\n",
    "  <b>Takes in input from the `convnet` and applies an RNN to it</b>\n",
    "</div>"
   ]
  },
  {
   "cell_type": "markdown",
   "id": "0a1fe735",
   "metadata": {},
   "source": [
    "<div class=\"alert alert-info\" role=\"alert\">\n",
    "  Start with a basic test of the architecture\n",
    "</div>"
   ]
  },
  {
   "cell_type": "code",
   "execution_count": 7,
   "id": "fda76cf7",
   "metadata": {
    "execution": {
     "iopub.execute_input": "2022-04-03T21:00:50.071655Z",
     "iopub.status.busy": "2022-04-03T21:00:50.071495Z",
     "iopub.status.idle": "2022-04-03T21:00:50.815382Z",
     "shell.execute_reply": "2022-04-03T21:00:50.815000Z",
     "shell.execute_reply.started": "2022-04-03T21:00:50.071638Z"
    },
    "tags": []
   },
   "outputs": [],
   "source": [
    "rnn = cm.BasicRecurrent(input_dim=4, output_dim=32, unit_type=\"lstm\", batch_first=True)"
   ]
  },
  {
   "cell_type": "code",
   "execution_count": 10,
   "id": "6d7779d7",
   "metadata": {
    "execution": {
     "iopub.execute_input": "2022-04-03T21:00:58.278276Z",
     "iopub.status.busy": "2022-04-03T21:00:58.278017Z",
     "iopub.status.idle": "2022-04-03T21:00:59.006728Z",
     "shell.execute_reply": "2022-04-03T21:00:59.006354Z",
     "shell.execute_reply.started": "2022-04-03T21:00:58.278253Z"
    },
    "tags": []
   },
   "outputs": [
    {
     "name": "stdout",
     "output_type": "stream",
     "text": [
      "torch.Size([10, 66, 32]) torch.Size([1, 10, 32]) torch.Size([1, 10, 32])\n"
     ]
    }
   ],
   "source": [
    "x = torch.randn(10, 66, 4)\n",
    "out, (seq, hidden) = rnn(x)\n",
    "print(out.shape, seq.shape, hidden.shape)"
   ]
  },
  {
   "cell_type": "markdown",
   "id": "d7b9b9f0",
   "metadata": {},
   "source": [
    "<div class=\"alert alert-info\" role=\"alert\">\n",
    "  Now pass in the conv_out\n",
    "</div>"
   ]
  },
  {
   "cell_type": "code",
   "execution_count": 12,
   "id": "2d1afea6",
   "metadata": {
    "execution": {
     "iopub.execute_input": "2022-04-03T21:01:08.133089Z",
     "iopub.status.busy": "2022-04-03T21:01:08.131847Z",
     "iopub.status.idle": "2022-04-03T21:01:08.921096Z",
     "shell.execute_reply": "2022-04-03T21:01:08.920755Z",
     "shell.execute_reply.started": "2022-04-03T21:01:08.133068Z"
    },
    "tags": []
   },
   "outputs": [
    {
     "data": {
      "text/plain": [
       "BasicRecurrent(\n",
       "  (module): LSTM(64, 32, batch_first=True)\n",
       ")"
      ]
     },
     "execution_count": 12,
     "metadata": {},
     "output_type": "execute_result"
    }
   ],
   "source": [
    "rnn = cm.BasicRecurrent(input_dim=conv_out.shape[1], output_dim=32, unit_type=\"lstm\", bidirectional=False, batch_first=True)\n",
    "rnn"
   ]
  },
  {
   "cell_type": "code",
   "execution_count": 13,
   "id": "bcd8d797",
   "metadata": {
    "execution": {
     "iopub.execute_input": "2022-04-03T21:01:10.609821Z",
     "iopub.status.busy": "2022-04-03T21:01:10.609675Z",
     "iopub.status.idle": "2022-04-03T21:01:11.620159Z",
     "shell.execute_reply": "2022-04-03T21:01:11.619851Z",
     "shell.execute_reply.started": "2022-04-03T21:01:10.609804Z"
    },
    "tags": []
   },
   "outputs": [
    {
     "data": {
      "text/plain": [
       "(torch.Size([10, 44, 32]), torch.Size([10, 32]), 32)"
      ]
     },
     "execution_count": 13,
     "metadata": {},
     "output_type": "execute_result"
    }
   ],
   "source": [
    "rnn_out, _ = rnn(conv_out.transpose(1, 2))\n",
    "rnn_out.shape, rnn_out[:, -1, :].shape, rnn.out_dim"
   ]
  },
  {
   "cell_type": "markdown",
   "id": "9967c080",
   "metadata": {},
   "source": [
    "# Fully connected module\n",
    "<div class=\"alert alert-info\" role=\"alert\">\n",
    "  <b>Takes in input from anywhere (CNN, RNN, etc)</b>\n",
    "</div>\n"
   ]
  },
  {
   "cell_type": "markdown",
   "id": "92827693",
   "metadata": {},
   "source": [
    "<div class=\"alert alert-info\" role=\"alert\">\n",
    "  Start with a basic test of the architecture\n",
    "</div>"
   ]
  },
  {
   "cell_type": "code",
   "execution_count": 15,
   "id": "30952266",
   "metadata": {
    "execution": {
     "iopub.execute_input": "2022-04-03T21:01:21.893027Z",
     "iopub.status.busy": "2022-04-03T21:01:21.892876Z",
     "iopub.status.idle": "2022-04-03T21:01:22.625455Z",
     "shell.execute_reply": "2022-04-03T21:01:22.625131Z",
     "shell.execute_reply.started": "2022-04-03T21:01:21.893010Z"
    },
    "tags": []
   },
   "outputs": [
    {
     "data": {
      "text/plain": [
       "BasicFullyConnectedModule(\n",
       "  (module): Sequential(\n",
       "    (0): Linear(in_features=100, out_features=25, bias=True)\n",
       "    (1): ReLU(inplace=True)\n",
       "    (2): Dropout(p=0.2, inplace=False)\n",
       "    (3): BatchNorm1d(25, eps=1e-05, momentum=0.1, affine=True, track_running_stats=True)\n",
       "    (4): Linear(in_features=25, out_features=5, bias=True)\n",
       "    (5): ReLU(inplace=True)\n",
       "    (6): Dropout(p=0.2, inplace=False)\n",
       "    (7): BatchNorm1d(5, eps=1e-05, momentum=0.1, affine=True, track_running_stats=True)\n",
       "    (8): Linear(in_features=5, out_features=5, bias=True)\n",
       "    (9): ReLU(inplace=True)\n",
       "    (10): Dropout(p=0.2, inplace=False)\n",
       "    (11): BatchNorm1d(5, eps=1e-05, momentum=0.1, affine=True, track_running_stats=True)\n",
       "    (12): Linear(in_features=5, out_features=1, bias=True)\n",
       "  )\n",
       ")"
      ]
     },
     "execution_count": 15,
     "metadata": {},
     "output_type": "execute_result"
    }
   ],
   "source": [
    "fcnet = cm.BasicFullyConnectedModule(100, 1, [25, 5, 5], activation=\"relu\", dropout_rate=0.2, batchnorm=True)\n",
    "fcnet"
   ]
  },
  {
   "cell_type": "code",
   "execution_count": 16,
   "id": "0ec0ce8e",
   "metadata": {
    "execution": {
     "iopub.execute_input": "2022-04-03T21:01:23.279488Z",
     "iopub.status.busy": "2022-04-03T21:01:23.278161Z",
     "iopub.status.idle": "2022-04-03T21:01:24.299130Z",
     "shell.execute_reply": "2022-04-03T21:01:24.298822Z",
     "shell.execute_reply.started": "2022-04-03T21:01:23.279462Z"
    },
    "tags": []
   },
   "outputs": [
    {
     "data": {
      "text/plain": [
       "torch.Size([10, 1])"
      ]
     },
     "execution_count": 16,
     "metadata": {},
     "output_type": "execute_result"
    }
   ],
   "source": [
    "x = torch.randn(10, 100)\n",
    "out = fcnet(x)\n",
    "assert out.shape[1] == 1\n",
    "out.shape"
   ]
  },
  {
   "cell_type": "markdown",
   "id": "48fcea8d",
   "metadata": {},
   "source": [
    "<div class=\"alert alert-info\" role=\"alert\">\n",
    "  Test the conv_out too\n",
    "</div>"
   ]
  },
  {
   "cell_type": "code",
   "execution_count": 18,
   "id": "b75dfb99",
   "metadata": {
    "execution": {
     "iopub.execute_input": "2022-04-03T21:01:33.403831Z",
     "iopub.status.busy": "2022-04-03T21:01:33.403680Z",
     "iopub.status.idle": "2022-04-03T21:01:34.143927Z",
     "shell.execute_reply": "2022-04-03T21:01:34.143583Z",
     "shell.execute_reply.started": "2022-04-03T21:01:33.403814Z"
    },
    "tags": []
   },
   "outputs": [
    {
     "data": {
      "text/plain": [
       "BasicFullyConnectedModule(\n",
       "  (module): Sequential(\n",
       "    (0): Linear(in_features=2816, out_features=25, bias=True)\n",
       "    (1): ReLU(inplace=True)\n",
       "    (2): Dropout(p=0.2, inplace=False)\n",
       "    (3): BatchNorm1d(25, eps=1e-05, momentum=0.1, affine=True, track_running_stats=True)\n",
       "    (4): Linear(in_features=25, out_features=5, bias=True)\n",
       "    (5): ReLU(inplace=True)\n",
       "    (6): Dropout(p=0.2, inplace=False)\n",
       "    (7): BatchNorm1d(5, eps=1e-05, momentum=0.1, affine=True, track_running_stats=True)\n",
       "    (8): Linear(in_features=5, out_features=5, bias=True)\n",
       "    (9): ReLU(inplace=True)\n",
       "    (10): Dropout(p=0.2, inplace=False)\n",
       "    (11): BatchNorm1d(5, eps=1e-05, momentum=0.1, affine=True, track_running_stats=True)\n",
       "    (12): Linear(in_features=5, out_features=1, bias=True)\n",
       "  )\n",
       ")"
      ]
     },
     "execution_count": 18,
     "metadata": {},
     "output_type": "execute_result"
    }
   ],
   "source": [
    "fcnet = cm.BasicFullyConnectedModule(convnet.flatten_dim, 1, [25, 5, 5], activation=\"relu\", dropout_rate=0.2, batchnorm=True)\n",
    "fcnet"
   ]
  },
  {
   "cell_type": "code",
   "execution_count": 19,
   "id": "538aa842",
   "metadata": {
    "execution": {
     "iopub.execute_input": "2022-04-03T21:01:36.773913Z",
     "iopub.status.busy": "2022-04-03T21:01:36.773766Z",
     "iopub.status.idle": "2022-04-03T21:01:37.735263Z",
     "shell.execute_reply": "2022-04-03T21:01:37.734955Z",
     "shell.execute_reply.started": "2022-04-03T21:01:36.773896Z"
    },
    "tags": []
   },
   "outputs": [
    {
     "data": {
      "text/plain": [
       "torch.Size([10, 1])"
      ]
     },
     "execution_count": 19,
     "metadata": {},
     "output_type": "execute_result"
    }
   ],
   "source": [
    "out = fcnet(conv_out.view(out.size(0), convnet.flatten_dim))\n",
    "assert out.shape[1] == 1\n",
    "out.shape"
   ]
  },
  {
   "cell_type": "markdown",
   "id": "96ade597",
   "metadata": {},
   "source": [
    "<div class=\"alert alert-info\" role=\"alert\">\n",
    "  Finally, pass in the rnn_out\n",
    "</div>"
   ]
  },
  {
   "cell_type": "code",
   "execution_count": 23,
   "id": "25c779cc",
   "metadata": {
    "execution": {
     "iopub.execute_input": "2022-04-03T21:01:46.744870Z",
     "iopub.status.busy": "2022-04-03T21:01:46.744626Z",
     "iopub.status.idle": "2022-04-03T21:01:47.383502Z",
     "shell.execute_reply": "2022-04-03T21:01:47.383176Z",
     "shell.execute_reply.started": "2022-04-03T21:01:46.744851Z"
    },
    "tags": []
   },
   "outputs": [
    {
     "data": {
      "text/plain": [
       "BasicFullyConnectedModule(\n",
       "  (module): Sequential(\n",
       "    (0): Linear(in_features=32, out_features=25, bias=True)\n",
       "    (1): ReLU(inplace=True)\n",
       "    (2): Dropout(p=0.2, inplace=False)\n",
       "    (3): BatchNorm1d(25, eps=1e-05, momentum=0.1, affine=True, track_running_stats=True)\n",
       "    (4): Linear(in_features=25, out_features=5, bias=True)\n",
       "    (5): ReLU(inplace=True)\n",
       "    (6): Dropout(p=0.2, inplace=False)\n",
       "    (7): BatchNorm1d(5, eps=1e-05, momentum=0.1, affine=True, track_running_stats=True)\n",
       "    (8): Linear(in_features=5, out_features=5, bias=True)\n",
       "    (9): ReLU(inplace=True)\n",
       "    (10): Dropout(p=0.2, inplace=False)\n",
       "    (11): BatchNorm1d(5, eps=1e-05, momentum=0.1, affine=True, track_running_stats=True)\n",
       "    (12): Linear(in_features=5, out_features=4, bias=True)\n",
       "  )\n",
       ")"
      ]
     },
     "execution_count": 23,
     "metadata": {},
     "output_type": "execute_result"
    }
   ],
   "source": [
    "num_classes=4\n",
    "fcnet = cm.BasicFullyConnectedModule(rnn.out_dim, num_classes, [25, 5, 5], activation=\"relu\", dropout_rate=0.2, batchnorm=True)\n",
    "fcnet"
   ]
  },
  {
   "cell_type": "code",
   "execution_count": 24,
   "id": "53c02111",
   "metadata": {
    "execution": {
     "iopub.execute_input": "2022-04-03T21:01:47.621783Z",
     "iopub.status.busy": "2022-04-03T21:01:47.620542Z",
     "iopub.status.idle": "2022-04-03T21:01:48.062286Z",
     "shell.execute_reply": "2022-04-03T21:01:48.061964Z",
     "shell.execute_reply.started": "2022-04-03T21:01:47.621763Z"
    },
    "tags": []
   },
   "outputs": [
    {
     "data": {
      "text/plain": [
       "torch.Size([10, 4])"
      ]
     },
     "execution_count": 24,
     "metadata": {},
     "output_type": "execute_result"
    }
   ],
   "source": [
    "out = fcnet(rnn_out[:, -1, :])\n",
    "assert out.shape[1] == num_classes\n",
    "out.shape"
   ]
  }
 ],
 "metadata": {
  "kernelspec": {
   "display_name": "Python 3 pytorch_dev",
   "language": "python",
   "name": "pytorch_dev"
  },
  "language_info": {
   "codemirror_mode": {
    "name": "ipython",
    "version": 3
   },
   "file_extension": ".py",
   "mimetype": "text/x-python",
   "name": "python",
   "nbconvert_exporter": "python",
   "pygments_lexer": "ipython3",
   "version": "3.7.12"
  }
 },
 "nbformat": 4,
 "nbformat_minor": 5
}

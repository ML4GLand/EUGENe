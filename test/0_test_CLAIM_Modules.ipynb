{
 "cells": [
  {
   "cell_type": "markdown",
   "id": "661f6b58",
   "metadata": {},
   "source": [
    "# Testing CLAIM Modules"
   ]
  },
  {
   "cell_type": "markdown",
   "id": "fa64213c",
   "metadata": {
    "tags": []
   },
   "source": [
    "**Authorship:**\n",
    "Adam Klie, *03/19/2022*\n",
    "***\n",
    "**Description:**\n",
    "Notebook for testing out CLAIM modules for building EUGENE architectures"
   ]
  },
  {
   "cell_type": "markdown",
   "id": "0cc2e158",
   "metadata": {},
   "source": [
    "<div class=\"alert alert-block alert-warning\">\n",
    "<b>TODOs</b>:\n",
    "<ul>\n",
    "    <b><li></li></b>\n",
    "    </ul>\n",
    "</div>"
   ]
  },
  {
   "cell_type": "code",
   "execution_count": 1,
   "id": "fdbc9d9e",
   "metadata": {
    "execution": {
     "iopub.execute_input": "2022-06-22T20:20:04.596295Z",
     "iopub.status.busy": "2022-06-22T20:20:04.596076Z",
     "iopub.status.idle": "2022-06-22T20:20:09.444506Z",
     "shell.execute_reply": "2022-06-22T20:20:09.444043Z",
     "shell.execute_reply.started": "2022-06-22T20:20:04.596235Z"
    },
    "tags": []
   },
   "outputs": [
    {
     "name": "stderr",
     "output_type": "stream",
     "text": [
      "/cellar/users/aklie/opt/miniconda3/envs/claim/lib/python3.7/site-packages/tqdm/auto.py:22: TqdmWarning: IProgress not found. Please update jupyter and ipywidgets. See https://ipywidgets.readthedocs.io/en/stable/user_install.html\n",
      "  from .autonotebook import tqdm as notebook_tqdm\n"
     ]
    }
   ],
   "source": [
    "import numpy as np\n",
    "import pandas as pd\n",
    "import torch\n",
    "\n",
    "# Autoreload extension\n",
    "if 'autoreload' not in get_ipython().extension_manager.loaded:\n",
    "    %load_ext autoreload\n",
    "%autoreload 2\n",
    "\n",
    "import claim.modules as cm"
   ]
  },
  {
   "cell_type": "markdown",
   "id": "77387429",
   "metadata": {},
   "source": [
    "# DeepSea module\n",
    "<div class=\"alert alert-info\" role=\"alert\">\n",
    "  <b>Just test out the basic function of a DeepSea module</b>\n",
    "</div>"
   ]
  },
  {
   "cell_type": "code",
   "execution_count": 2,
   "id": "944fd26d",
   "metadata": {
    "execution": {
     "iopub.execute_input": "2022-06-22T20:20:23.596491Z",
     "iopub.status.busy": "2022-06-22T20:20:23.596019Z",
     "iopub.status.idle": "2022-06-22T20:20:24.199690Z",
     "shell.execute_reply": "2022-06-22T20:20:24.199407Z",
     "shell.execute_reply.started": "2022-06-22T20:20:23.596466Z"
    },
    "tags": []
   },
   "outputs": [
    {
     "data": {
      "text/plain": [
       "DeepSeaModule(\n",
       "  (module): Sequential(\n",
       "    (0): Conv1d(4, 15, kernel_size=(8,), stride=(1,))\n",
       "    (1): ReLU(inplace=True)\n",
       "    (2): MaxPool1d(kernel_size=1, stride=1, padding=0, dilation=1, ceil_mode=False)\n",
       "    (3): Dropout(p=0, inplace=False)\n",
       "    (4): Conv1d(15, 5, kernel_size=(8,), stride=(1,))\n",
       "    (5): ReLU(inplace=True)\n",
       "    (6): MaxPool1d(kernel_size=1, stride=1, padding=0, dilation=1, ceil_mode=False)\n",
       "    (7): Dropout(p=0, inplace=False)\n",
       "    (8): Conv1d(5, 5, kernel_size=(8,), stride=(1,))\n",
       "    (9): ReLU(inplace=True)\n",
       "    (10): Dropout(p=0, inplace=False)\n",
       "  )\n",
       ")"
      ]
     },
     "execution_count": 2,
     "metadata": {},
     "output_type": "execute_result"
    }
   ],
   "source": [
    "convnet = cm.DeepSeaModule(input_len=66, channels=[15, 5, 5], pool_kernels=[1, 1], dropout_rates=0.1)\n",
    "convnet"
   ]
  },
  {
   "cell_type": "code",
   "execution_count": 3,
   "id": "b82883ae",
   "metadata": {
    "execution": {
     "iopub.execute_input": "2022-06-22T20:20:25.761854Z",
     "iopub.status.busy": "2022-06-22T20:20:25.761695Z",
     "iopub.status.idle": "2022-06-22T20:20:26.570826Z",
     "shell.execute_reply": "2022-06-22T20:20:26.570535Z",
     "shell.execute_reply.started": "2022-06-22T20:20:25.761837Z"
    },
    "tags": []
   },
   "outputs": [
    {
     "data": {
      "text/plain": [
       "torch.Size([10, 5, 45])"
      ]
     },
     "execution_count": 3,
     "metadata": {},
     "output_type": "execute_result"
    }
   ],
   "source": [
    "x = torch.randn(10, 4, 66)\n",
    "out = convnet(x)\n",
    "assert out.shape[1]*out.shape[2] == convnet.flatten_dim\n",
    "out.shape"
   ]
  },
  {
   "cell_type": "markdown",
   "id": "3cb42222",
   "metadata": {},
   "source": [
    "# BasicConv1D module\n",
    "<div class=\"alert alert-info\" role=\"alert\">\n",
    "  <b>Generate a `conv_out` to pass to the recurrent module</b>\n",
    "</div>"
   ]
  },
  {
   "cell_type": "code",
   "execution_count": 4,
   "id": "3ce3f56e",
   "metadata": {
    "execution": {
     "iopub.execute_input": "2022-06-22T20:20:31.595275Z",
     "iopub.status.busy": "2022-06-22T20:20:31.595116Z",
     "iopub.status.idle": "2022-06-22T20:20:32.467007Z",
     "shell.execute_reply": "2022-06-22T20:20:32.466544Z",
     "shell.execute_reply.started": "2022-06-22T20:20:31.595257Z"
    },
    "tags": []
   },
   "outputs": [],
   "source": [
    "convnet = cm.BasicConv1D(input_len=66, channels=[4, 16, 32, 64], conv_kernels=[15, 5, 5], pool_kernels=[1, 1, 1], pool_strides = [1, 1, 1], dropout_rates=0.2)"
   ]
  },
  {
   "cell_type": "code",
   "execution_count": 5,
   "id": "aa464490",
   "metadata": {
    "execution": {
     "iopub.execute_input": "2022-06-22T20:20:34.792561Z",
     "iopub.status.busy": "2022-06-22T20:20:34.792160Z",
     "iopub.status.idle": "2022-06-22T20:20:35.521348Z",
     "shell.execute_reply": "2022-06-22T20:20:35.520976Z",
     "shell.execute_reply.started": "2022-06-22T20:20:34.792537Z"
    },
    "tags": []
   },
   "outputs": [
    {
     "data": {
      "text/plain": [
       "torch.Size([10, 64, 44])"
      ]
     },
     "execution_count": 5,
     "metadata": {},
     "output_type": "execute_result"
    }
   ],
   "source": [
    "x = torch.randn(10, 4, 66)\n",
    "conv_out = convnet(x)\n",
    "assert conv_out.shape[1]*conv_out.shape[2] == convnet.flatten_dim\n",
    "conv_out.shape"
   ]
  },
  {
   "cell_type": "markdown",
   "id": "8260dd27",
   "metadata": {},
   "source": [
    "# BasicRecurrent module\n",
    "<div class=\"alert alert-info\" role=\"alert\">\n",
    "  <b>Takes in input from the `convnet` and applies an RNN to it</b>\n",
    "</div>"
   ]
  },
  {
   "cell_type": "markdown",
   "id": "0a1fe735",
   "metadata": {},
   "source": [
    "<div class=\"alert alert-info\" role=\"alert\">\n",
    "  Start with a basic test of the architecture\n",
    "</div>"
   ]
  },
  {
   "cell_type": "code",
   "execution_count": 6,
   "id": "fda76cf7",
   "metadata": {
    "execution": {
     "iopub.execute_input": "2022-06-22T20:20:44.629619Z",
     "iopub.status.busy": "2022-06-22T20:20:44.629118Z",
     "iopub.status.idle": "2022-06-22T20:20:45.377819Z",
     "shell.execute_reply": "2022-06-22T20:20:45.377421Z",
     "shell.execute_reply.started": "2022-06-22T20:20:44.629595Z"
    },
    "tags": []
   },
   "outputs": [],
   "source": [
    "rnn = cm.BasicRecurrent(input_dim=4, output_dim=32, unit_type=\"lstm\", batch_first=True)"
   ]
  },
  {
   "cell_type": "code",
   "execution_count": 7,
   "id": "6d7779d7",
   "metadata": {
    "execution": {
     "iopub.execute_input": "2022-06-22T20:20:46.594510Z",
     "iopub.status.busy": "2022-06-22T20:20:46.594357Z",
     "iopub.status.idle": "2022-06-22T20:20:47.366016Z",
     "shell.execute_reply": "2022-06-22T20:20:47.365727Z",
     "shell.execute_reply.started": "2022-06-22T20:20:46.594492Z"
    },
    "tags": []
   },
   "outputs": [
    {
     "name": "stdout",
     "output_type": "stream",
     "text": [
      "torch.Size([10, 66, 32]) torch.Size([1, 10, 32]) torch.Size([1, 10, 32])\n"
     ]
    }
   ],
   "source": [
    "x = torch.randn(10, 66, 4)\n",
    "out, (seq, hidden) = rnn(x)\n",
    "print(out.shape, seq.shape, hidden.shape)"
   ]
  },
  {
   "cell_type": "markdown",
   "id": "d7b9b9f0",
   "metadata": {},
   "source": [
    "<div class=\"alert alert-info\" role=\"alert\">\n",
    "  Now pass in the conv_out\n",
    "</div>"
   ]
  },
  {
   "cell_type": "code",
   "execution_count": 8,
   "id": "2d1afea6",
   "metadata": {
    "execution": {
     "iopub.execute_input": "2022-06-22T20:20:50.081732Z",
     "iopub.status.busy": "2022-06-22T20:20:50.081567Z",
     "iopub.status.idle": "2022-06-22T20:20:51.054228Z",
     "shell.execute_reply": "2022-06-22T20:20:51.053820Z",
     "shell.execute_reply.started": "2022-06-22T20:20:50.081714Z"
    },
    "tags": []
   },
   "outputs": [
    {
     "data": {
      "text/plain": [
       "BasicRecurrent(\n",
       "  (module): LSTM(64, 32, batch_first=True)\n",
       ")"
      ]
     },
     "execution_count": 8,
     "metadata": {},
     "output_type": "execute_result"
    }
   ],
   "source": [
    "rnn = cm.BasicRecurrent(input_dim=conv_out.shape[1], output_dim=32, unit_type=\"lstm\", bidirectional=False, batch_first=True)\n",
    "rnn"
   ]
  },
  {
   "cell_type": "code",
   "execution_count": 9,
   "id": "bcd8d797",
   "metadata": {
    "execution": {
     "iopub.execute_input": "2022-06-22T20:20:52.594833Z",
     "iopub.status.busy": "2022-06-22T20:20:52.594387Z",
     "iopub.status.idle": "2022-06-22T20:20:53.433896Z",
     "shell.execute_reply": "2022-06-22T20:20:53.433614Z",
     "shell.execute_reply.started": "2022-06-22T20:20:52.594794Z"
    },
    "tags": []
   },
   "outputs": [
    {
     "data": {
      "text/plain": [
       "(torch.Size([10, 44, 32]), torch.Size([10, 32]), 32)"
      ]
     },
     "execution_count": 9,
     "metadata": {},
     "output_type": "execute_result"
    }
   ],
   "source": [
    "rnn_out, _ = rnn(conv_out.transpose(1, 2))\n",
    "rnn_out.shape, rnn_out[:, -1, :].shape, rnn.out_dim"
   ]
  },
  {
   "cell_type": "markdown",
   "id": "9967c080",
   "metadata": {},
   "source": [
    "# Fully connected module\n",
    "<div class=\"alert alert-info\" role=\"alert\">\n",
    "  <b>Takes in input from anywhere (CNN, RNN, etc)</b>\n",
    "</div>\n"
   ]
  },
  {
   "cell_type": "markdown",
   "id": "92827693",
   "metadata": {},
   "source": [
    "<div class=\"alert alert-info\" role=\"alert\">\n",
    "  Start with a basic test of the architecture\n",
    "</div>"
   ]
  },
  {
   "cell_type": "code",
   "execution_count": 10,
   "id": "30952266",
   "metadata": {
    "execution": {
     "iopub.execute_input": "2022-06-22T20:20:56.037342Z",
     "iopub.status.busy": "2022-06-22T20:20:56.036894Z",
     "iopub.status.idle": "2022-06-22T20:20:56.818224Z",
     "shell.execute_reply": "2022-06-22T20:20:56.817925Z",
     "shell.execute_reply.started": "2022-06-22T20:20:56.037317Z"
    },
    "tags": []
   },
   "outputs": [
    {
     "data": {
      "text/plain": [
       "BasicFullyConnectedModule(\n",
       "  (module): Sequential(\n",
       "    (0): Linear(in_features=100, out_features=25, bias=True)\n",
       "    (1): ReLU(inplace=True)\n",
       "    (2): Dropout(p=0.2, inplace=False)\n",
       "    (3): BatchNorm1d(25, eps=1e-05, momentum=0.1, affine=True, track_running_stats=True)\n",
       "    (4): Linear(in_features=25, out_features=5, bias=True)\n",
       "    (5): ReLU(inplace=True)\n",
       "    (6): Dropout(p=0.2, inplace=False)\n",
       "    (7): BatchNorm1d(5, eps=1e-05, momentum=0.1, affine=True, track_running_stats=True)\n",
       "    (8): Linear(in_features=5, out_features=5, bias=True)\n",
       "    (9): ReLU(inplace=True)\n",
       "    (10): Dropout(p=0.2, inplace=False)\n",
       "    (11): BatchNorm1d(5, eps=1e-05, momentum=0.1, affine=True, track_running_stats=True)\n",
       "    (12): Linear(in_features=5, out_features=1, bias=True)\n",
       "  )\n",
       ")"
      ]
     },
     "execution_count": 10,
     "metadata": {},
     "output_type": "execute_result"
    }
   ],
   "source": [
    "fcnet = cm.BasicFullyConnectedModule(100, 1, [25, 5, 5], activation=\"relu\", dropout_rate=0.2, batchnorm=True)\n",
    "fcnet"
   ]
  },
  {
   "cell_type": "code",
   "execution_count": 11,
   "id": "0ec0ce8e",
   "metadata": {
    "execution": {
     "iopub.execute_input": "2022-06-22T20:20:57.594486Z",
     "iopub.status.busy": "2022-06-22T20:20:57.593981Z",
     "iopub.status.idle": "2022-06-22T20:20:58.356277Z",
     "shell.execute_reply": "2022-06-22T20:20:58.355907Z",
     "shell.execute_reply.started": "2022-06-22T20:20:57.594462Z"
    },
    "tags": []
   },
   "outputs": [
    {
     "data": {
      "text/plain": [
       "torch.Size([10, 1])"
      ]
     },
     "execution_count": 11,
     "metadata": {},
     "output_type": "execute_result"
    }
   ],
   "source": [
    "x = torch.randn(10, 100)\n",
    "out = fcnet(x)\n",
    "assert out.shape[1] == 1\n",
    "out.shape"
   ]
  },
  {
   "cell_type": "markdown",
   "id": "48fcea8d",
   "metadata": {},
   "source": [
    "<div class=\"alert alert-info\" role=\"alert\">\n",
    "  Test the conv_out too\n",
    "</div>"
   ]
  },
  {
   "cell_type": "code",
   "execution_count": 12,
   "id": "b75dfb99",
   "metadata": {
    "execution": {
     "iopub.execute_input": "2022-06-22T20:20:59.731651Z",
     "iopub.status.busy": "2022-06-22T20:20:59.731340Z",
     "iopub.status.idle": "2022-06-22T20:21:00.600315Z",
     "shell.execute_reply": "2022-06-22T20:21:00.599938Z",
     "shell.execute_reply.started": "2022-06-22T20:20:59.731629Z"
    },
    "tags": []
   },
   "outputs": [
    {
     "data": {
      "text/plain": [
       "BasicFullyConnectedModule(\n",
       "  (module): Sequential(\n",
       "    (0): Linear(in_features=2816, out_features=25, bias=True)\n",
       "    (1): ReLU(inplace=True)\n",
       "    (2): Dropout(p=0.2, inplace=False)\n",
       "    (3): BatchNorm1d(25, eps=1e-05, momentum=0.1, affine=True, track_running_stats=True)\n",
       "    (4): Linear(in_features=25, out_features=5, bias=True)\n",
       "    (5): ReLU(inplace=True)\n",
       "    (6): Dropout(p=0.2, inplace=False)\n",
       "    (7): BatchNorm1d(5, eps=1e-05, momentum=0.1, affine=True, track_running_stats=True)\n",
       "    (8): Linear(in_features=5, out_features=5, bias=True)\n",
       "    (9): ReLU(inplace=True)\n",
       "    (10): Dropout(p=0.2, inplace=False)\n",
       "    (11): BatchNorm1d(5, eps=1e-05, momentum=0.1, affine=True, track_running_stats=True)\n",
       "    (12): Linear(in_features=5, out_features=1, bias=True)\n",
       "  )\n",
       ")"
      ]
     },
     "execution_count": 12,
     "metadata": {},
     "output_type": "execute_result"
    }
   ],
   "source": [
    "fcnet = cm.BasicFullyConnectedModule(convnet.flatten_dim, 1, [25, 5, 5], activation=\"relu\", dropout_rate=0.2, batchnorm=True)\n",
    "fcnet"
   ]
  },
  {
   "cell_type": "code",
   "execution_count": 13,
   "id": "afd6903b-71e2-466b-9ef8-ea0742d8dc74",
   "metadata": {
    "execution": {
     "iopub.execute_input": "2022-06-22T20:21:02.595449Z",
     "iopub.status.busy": "2022-06-22T20:21:02.595232Z",
     "iopub.status.idle": "2022-06-22T20:21:03.388134Z",
     "shell.execute_reply": "2022-06-22T20:21:03.387708Z",
     "shell.execute_reply.started": "2022-06-22T20:21:02.595430Z"
    },
    "tags": []
   },
   "outputs": [
    {
     "data": {
      "text/plain": [
       "10"
      ]
     },
     "execution_count": 13,
     "metadata": {},
     "output_type": "execute_result"
    }
   ],
   "source": [
    "out.size(0)"
   ]
  },
  {
   "cell_type": "code",
   "execution_count": 14,
   "id": "538aa842",
   "metadata": {
    "execution": {
     "iopub.execute_input": "2022-06-22T20:21:06.075683Z",
     "iopub.status.busy": "2022-06-22T20:21:06.075162Z",
     "iopub.status.idle": "2022-06-22T20:21:06.800025Z",
     "shell.execute_reply": "2022-06-22T20:21:06.799666Z",
     "shell.execute_reply.started": "2022-06-22T20:21:06.075660Z"
    },
    "tags": []
   },
   "outputs": [
    {
     "data": {
      "text/plain": [
       "torch.Size([10, 1])"
      ]
     },
     "execution_count": 14,
     "metadata": {},
     "output_type": "execute_result"
    }
   ],
   "source": [
    "out = fcnet(conv_out.view(out.size(0), convnet.flatten_dim))\n",
    "assert out.shape[1] == 1\n",
    "out.shape"
   ]
  },
  {
   "cell_type": "markdown",
   "id": "96ade597",
   "metadata": {},
   "source": [
    "<div class=\"alert alert-info\" role=\"alert\">\n",
    "  Finally, pass in the rnn_out\n",
    "</div>"
   ]
  },
  {
   "cell_type": "code",
   "execution_count": 15,
   "id": "25c779cc",
   "metadata": {
    "execution": {
     "iopub.execute_input": "2022-06-22T20:21:09.600386Z",
     "iopub.status.busy": "2022-06-22T20:21:09.599984Z",
     "iopub.status.idle": "2022-06-22T20:21:10.443797Z",
     "shell.execute_reply": "2022-06-22T20:21:10.443507Z",
     "shell.execute_reply.started": "2022-06-22T20:21:09.600362Z"
    },
    "tags": []
   },
   "outputs": [
    {
     "data": {
      "text/plain": [
       "BasicFullyConnectedModule(\n",
       "  (module): Sequential(\n",
       "    (0): Linear(in_features=32, out_features=25, bias=True)\n",
       "    (1): ReLU(inplace=True)\n",
       "    (2): Dropout(p=0.2, inplace=False)\n",
       "    (3): BatchNorm1d(25, eps=1e-05, momentum=0.1, affine=True, track_running_stats=True)\n",
       "    (4): Linear(in_features=25, out_features=5, bias=True)\n",
       "    (5): ReLU(inplace=True)\n",
       "    (6): Dropout(p=0.2, inplace=False)\n",
       "    (7): BatchNorm1d(5, eps=1e-05, momentum=0.1, affine=True, track_running_stats=True)\n",
       "    (8): Linear(in_features=5, out_features=5, bias=True)\n",
       "    (9): ReLU(inplace=True)\n",
       "    (10): Dropout(p=0.2, inplace=False)\n",
       "    (11): BatchNorm1d(5, eps=1e-05, momentum=0.1, affine=True, track_running_stats=True)\n",
       "    (12): Linear(in_features=5, out_features=4, bias=True)\n",
       "  )\n",
       ")"
      ]
     },
     "execution_count": 15,
     "metadata": {},
     "output_type": "execute_result"
    }
   ],
   "source": [
    "num_classes=4\n",
    "fcnet = cm.BasicFullyConnectedModule(rnn.out_dim, num_classes, [25, 5, 5], activation=\"relu\", dropout_rate=0.2, batchnorm=True)\n",
    "fcnet"
   ]
  },
  {
   "cell_type": "code",
   "execution_count": 16,
   "id": "53c02111",
   "metadata": {
    "execution": {
     "iopub.execute_input": "2022-06-22T20:21:11.595088Z",
     "iopub.status.busy": "2022-06-22T20:21:11.594969Z",
     "iopub.status.idle": "2022-06-22T20:21:12.443918Z",
     "shell.execute_reply": "2022-06-22T20:21:12.443540Z",
     "shell.execute_reply.started": "2022-06-22T20:21:11.595072Z"
    },
    "tags": []
   },
   "outputs": [
    {
     "data": {
      "text/plain": [
       "torch.Size([10, 4])"
      ]
     },
     "execution_count": 16,
     "metadata": {},
     "output_type": "execute_result"
    }
   ],
   "source": [
    "out = fcnet(rnn_out[:, -1, :])\n",
    "assert out.shape[1] == num_classes\n",
    "out.shape"
   ]
  },
  {
   "cell_type": "markdown",
   "id": "ed4e094a-af13-4454-9a2d-92bbee0ce630",
   "metadata": {},
   "source": [
    "---"
   ]
  }
 ],
 "metadata": {
  "kernelspec": {
   "display_name": "Python 3.7 claim",
   "language": "python",
   "name": "claim"
  },
  "language_info": {
   "codemirror_mode": {
    "name": "ipython",
    "version": 3
   },
   "file_extension": ".py",
   "mimetype": "text/x-python",
   "name": "python",
   "nbconvert_exporter": "python",
   "pygments_lexer": "ipython3",
   "version": "3.7.12"
  }
 },
 "nbformat": 4,
 "nbformat_minor": 5
}

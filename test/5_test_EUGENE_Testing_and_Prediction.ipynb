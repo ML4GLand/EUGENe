{
 "cells": [
  {
   "cell_type": "markdown",
   "id": "47cc2c48",
   "metadata": {},
   "source": [
    "# Testing EUGENE prediction"
   ]
  },
  {
   "cell_type": "markdown",
   "id": "3b1880c3",
   "metadata": {
    "tags": []
   },
   "source": [
    "**Authorship:**\n",
    "Adam Klie, *03/19/2022*\n",
    "***\n",
    "**Description:**\n",
    "Notebook for testing predictions with EUGENE architectures"
   ]
  },
  {
   "cell_type": "markdown",
   "id": "599007ce",
   "metadata": {},
   "source": [
    "<div class=\"alert alert-block alert-warning\">\n",
    "<b>TODOs</b>:\n",
    "<ul>\n",
    "    <b><li>Config for EUGENES</li></b>\n",
    "    </ul>\n",
    "</div>"
   ]
  },
  {
   "cell_type": "code",
   "execution_count": 2,
   "id": "1dd9ef33",
   "metadata": {
    "execution": {
     "iopub.execute_input": "2022-05-14T17:54:42.876636Z",
     "iopub.status.busy": "2022-05-14T17:54:42.876452Z",
     "iopub.status.idle": "2022-05-14T17:54:43.634970Z",
     "shell.execute_reply": "2022-05-14T17:54:43.634478Z",
     "shell.execute_reply.started": "2022-05-14T17:54:42.876618Z"
    },
    "tags": []
   },
   "outputs": [],
   "source": [
    "import os\n",
    "import numpy as np\n",
    "import pandas as pd\n",
    "import torch\n",
    "\n",
    "# Autoreload extension\n",
    "if 'autoreload' not in get_ipython().extension_manager.loaded:\n",
    "    %load_ext autoreload\n",
    "%autoreload 2"
   ]
  },
  {
   "cell_type": "markdown",
   "id": "2b388b20-ba21-4cfd-956d-76456918b0d5",
   "metadata": {},
   "source": [
    "# Predictions with a EUGENE model\n",
    "<div class=\"alert alert-info\" role=\"alert\">\n",
    "  <b>Predict with dsEUGENE models</b>\n",
    "</div>"
   ]
  },
  {
   "cell_type": "code",
   "execution_count": 4,
   "id": "935c1d55-a9ed-4cbf-a0e8-660ac0a00ef9",
   "metadata": {
    "execution": {
     "iopub.execute_input": "2022-05-14T17:54:49.107703Z",
     "iopub.status.busy": "2022-05-14T17:54:49.107521Z",
     "iopub.status.idle": "2022-05-14T17:54:49.571690Z",
     "shell.execute_reply": "2022-05-14T17:54:49.571215Z",
     "shell.execute_reply.started": "2022-05-14T17:54:49.107685Z"
    },
    "tags": []
   },
   "outputs": [],
   "source": [
    "BATCH_SIZE = 512\n",
    "DATA_TYPE = \"tsv\"\n",
    "NUM_WORKERS = 0\n",
    "NUM_SEQS = 1000\n",
    "SEQ_LEN = 66"
   ]
  },
  {
   "cell_type": "markdown",
   "id": "b446ff4c-3bc0-44a5-930b-3d30dcb17e76",
   "metadata": {
    "tags": []
   },
   "source": [
    "## Load data"
   ]
  },
  {
   "cell_type": "code",
   "execution_count": 5,
   "id": "cf9d0ff8-e637-497c-a1a9-1adf56387230",
   "metadata": {
    "execution": {
     "iopub.execute_input": "2022-05-14T17:54:50.482232Z",
     "iopub.status.busy": "2022-05-14T17:54:50.482052Z",
     "iopub.status.idle": "2022-05-14T17:55:26.413656Z",
     "shell.execute_reply": "2022-05-14T17:55:26.413130Z",
     "shell.execute_reply.started": "2022-05-14T17:54:50.482215Z"
    },
    "tags": []
   },
   "outputs": [],
   "source": [
    "from torchvision import transforms\n",
    "from eugene.utils.seq_transforms import ReverseComplement, Augment, OneHotEncode, ToTensor\n",
    "from eugene.dataloading.SeqDataModule import SeqDataModule"
   ]
  },
  {
   "cell_type": "code",
   "execution_count": 6,
   "id": "21af3462-1e06-4de6-b51d-a85e4bdebdf0",
   "metadata": {
    "execution": {
     "iopub.execute_input": "2022-05-14T17:55:26.414601Z",
     "iopub.status.busy": "2022-05-14T17:55:26.414476Z",
     "iopub.status.idle": "2022-05-14T17:55:28.115486Z",
     "shell.execute_reply": "2022-05-14T17:55:28.115006Z",
     "shell.execute_reply.started": "2022-05-14T17:55:26.414585Z"
    },
    "tags": []
   },
   "outputs": [],
   "source": [
    "data_transform = transforms.Compose([\n",
    "    Augment(randomize_linker_p=0.1, enhancer=\"WT-otx-a\"), \n",
    "    ReverseComplement(ohe_encoded=False), \n",
    "    OneHotEncode(), \n",
    "    ToTensor(transpose=True)\n",
    "])"
   ]
  },
  {
   "cell_type": "code",
   "execution_count": 7,
   "id": "fc0b3dcb-37dd-4ed9-a571-987219c44088",
   "metadata": {
    "execution": {
     "iopub.execute_input": "2022-05-14T17:55:28.116549Z",
     "iopub.status.busy": "2022-05-14T17:55:28.116431Z",
     "iopub.status.idle": "2022-05-14T17:55:29.804843Z",
     "shell.execute_reply": "2022-05-14T17:55:29.804368Z",
     "shell.execute_reply.started": "2022-05-14T17:55:28.116534Z"
    },
    "tags": []
   },
   "outputs": [],
   "source": [
    "DATA_DIR = \"test_{}seqs_{}/\".format(NUM_SEQS, SEQ_LEN)\n",
    "mod = SeqDataModule(seq_file=DATA_DIR + \"test_seqs.tsv\",\n",
    "                    transform=data_transform,\n",
    "                    num_workers=4,\n",
    "                    batch_size=BATCH_SIZE,\n",
    "                    test= True,\n",
    "                    load_kwargs=dict(seq_col=\"SEQ\", name_col=\"NAME\", target_col=\"LABEL\"))"
   ]
  },
  {
   "cell_type": "markdown",
   "id": "5279866a",
   "metadata": {
    "tags": []
   },
   "source": [
    "## Instantiate EUGENE architecture: dsEUGENE"
   ]
  },
  {
   "cell_type": "code",
   "execution_count": 8,
   "id": "d2a38685",
   "metadata": {
    "execution": {
     "iopub.execute_input": "2022-05-14T17:55:29.805655Z",
     "iopub.status.busy": "2022-05-14T17:55:29.805539Z",
     "iopub.status.idle": "2022-05-14T17:55:33.919972Z",
     "shell.execute_reply": "2022-05-14T17:55:33.919487Z",
     "shell.execute_reply.started": "2022-05-14T17:55:29.805640Z"
    },
    "tags": []
   },
   "outputs": [],
   "source": [
    "from eugene.models.cnn import CNN"
   ]
  },
  {
   "cell_type": "code",
   "execution_count": 11,
   "id": "d3f48928-4f11-451d-94f5-8f41047d98d7",
   "metadata": {
    "execution": {
     "iopub.execute_input": "2022-05-14T17:57:33.677592Z",
     "iopub.status.busy": "2022-05-14T17:57:33.677426Z",
     "iopub.status.idle": "2022-05-14T17:57:48.751678Z",
     "shell.execute_reply": "2022-05-14T17:57:48.751175Z",
     "shell.execute_reply.started": "2022-05-14T17:57:33.677575Z"
    },
    "tags": []
   },
   "outputs": [
    {
     "name": "stderr",
     "output_type": "stream",
     "text": [
      "/cellar/users/aklie/opt/miniconda3/envs/pytorch_dev/lib/python3.7/site-packages/torchmetrics/utilities/prints.py:36: UserWarning: Metric `AUROC` will save all targets and predictions in buffer. For large datasets this may lead to large memory footprint.\n",
      "  warnings.warn(*args, **kwargs)\n"
     ]
    }
   ],
   "source": [
    "CKT_PTH  = \"/cellar/users/aklie/projects/EUGENE/results/simple/binary_classification/sscnn/2022_04_23_NPY_Baseline/checkpoints/epoch=13-step=2435.ckpt\"\n",
    "device = torch.device('cuda' if torch.cuda.is_available() else 'cpu')\n",
    "eugene = CNN.load_from_checkpoint(\n",
    "    checkpoint_path=CKT_PTH,\n",
    "    map_location=device,\n",
    ")"
   ]
  },
  {
   "cell_type": "markdown",
   "id": "6a228cb8",
   "metadata": {
    "tags": []
   },
   "source": [
    "## Testing and predictions with PyTorch Lightning"
   ]
  },
  {
   "cell_type": "code",
   "execution_count": 12,
   "id": "d26d478d",
   "metadata": {
    "execution": {
     "iopub.execute_input": "2022-05-14T17:57:48.752538Z",
     "iopub.status.busy": "2022-05-14T17:57:48.752419Z",
     "iopub.status.idle": "2022-05-14T17:57:50.028244Z",
     "shell.execute_reply": "2022-05-14T17:57:50.027842Z",
     "shell.execute_reply.started": "2022-05-14T17:57:48.752523Z"
    },
    "tags": []
   },
   "outputs": [],
   "source": [
    "import pytorch_lightning as pl\n",
    "from eugene.utils.custom_callbacks import PredictionWriter"
   ]
  },
  {
   "cell_type": "code",
   "execution_count": 18,
   "id": "770db729",
   "metadata": {
    "execution": {
     "iopub.execute_input": "2022-05-14T18:00:47.772669Z",
     "iopub.status.busy": "2022-05-14T18:00:47.772491Z",
     "iopub.status.idle": "2022-05-14T18:00:49.290599Z",
     "shell.execute_reply": "2022-05-14T18:00:49.290137Z",
     "shell.execute_reply.started": "2022-05-14T18:00:47.772651Z"
    },
    "tags": []
   },
   "outputs": [
    {
     "name": "stderr",
     "output_type": "stream",
     "text": [
      "GPU available: True, used: True\n",
      "TPU available: False, using: 0 TPU cores\n",
      "IPU available: False, using: 0 IPUs\n"
     ]
    }
   ],
   "source": [
    "trainer = pl.Trainer(gpus=1, logger=False, callbacks=PredictionWriter(DATA_DIR + \"test_1000seqs_66_\", write_interval=\"epoch\"))"
   ]
  },
  {
   "cell_type": "code",
   "execution_count": 19,
   "id": "3c9af5e4",
   "metadata": {
    "execution": {
     "iopub.execute_input": "2022-05-14T18:00:50.036592Z",
     "iopub.status.busy": "2022-05-14T18:00:50.036450Z",
     "iopub.status.idle": "2022-05-14T18:00:51.934929Z",
     "shell.execute_reply": "2022-05-14T18:00:51.934593Z",
     "shell.execute_reply.started": "2022-05-14T18:00:50.036575Z"
    },
    "tags": []
   },
   "outputs": [
    {
     "name": "stderr",
     "output_type": "stream",
     "text": [
      "/cellar/users/aklie/opt/miniconda3/envs/pytorch_dev/lib/python3.7/site-packages/pytorch_lightning/core/datamodule.py:470: LightningDeprecationWarning: DataModule.setup has already been called, so it will not be called again. In v1.6 this behavior will change to always call DataModule.setup.\n",
      "  f\"DataModule.{name} has already been called, so it will not be called again. \"\n",
      "LOCAL_RANK: 0 - CUDA_VISIBLE_DEVICES: [0]\n"
     ]
    },
    {
     "data": {
      "application/vnd.jupyter.widget-view+json": {
       "model_id": "bbf9ac49832b4603a38b82fafcb5a297",
       "version_major": 2,
       "version_minor": 0
      },
      "text/plain": [
       "Predicting: 0it [00:00, ?it/s]"
      ]
     },
     "metadata": {},
     "output_type": "display_data"
    },
    {
     "name": "stderr",
     "output_type": "stream",
     "text": [
      "/cellar/users/aklie/opt/miniconda3/envs/pytorch_dev/lib/python3.7/site-packages/pytorch_lightning/core/datamodule.py:470: LightningDeprecationWarning: DataModule.teardown has already been called, so it will not be called again. In v1.6 this behavior will change to always call DataModule.teardown.\n",
      "  f\"DataModule.{name} has already been called, so it will not be called again. \"\n"
     ]
    }
   ],
   "source": [
    "preds = trainer.predict(model=eugene, datamodule=mod)"
   ]
  },
  {
   "cell_type": "markdown",
   "id": "a5716a96-3729-45e1-8c5d-5b29987d569e",
   "metadata": {},
   "source": [
    "# Predictions on the split"
   ]
  },
  {
   "cell_type": "code",
   "execution_count": 35,
   "id": "a9df187c-23fb-4f6b-9a9a-a6a340398d22",
   "metadata": {
    "execution": {
     "iopub.execute_input": "2022-05-14T18:14:54.905572Z",
     "iopub.status.busy": "2022-05-14T18:14:54.905353Z",
     "iopub.status.idle": "2022-05-14T18:14:56.542577Z",
     "shell.execute_reply": "2022-05-14T18:14:56.542134Z",
     "shell.execute_reply.started": "2022-05-14T18:14:54.905544Z"
    }
   },
   "outputs": [
    {
     "data": {
      "text/plain": [
       "False"
      ]
     },
     "execution_count": 35,
     "metadata": {},
     "output_type": "execute_result"
    }
   ],
   "source": [
    "mod.test"
   ]
  },
  {
   "cell_type": "code",
   "execution_count": 34,
   "id": "ae4033c7-b1b7-4851-bbe1-09158ca5069d",
   "metadata": {
    "execution": {
     "iopub.execute_input": "2022-05-14T18:12:20.107939Z",
     "iopub.status.busy": "2022-05-14T18:12:20.107719Z",
     "iopub.status.idle": "2022-05-14T18:12:21.453670Z",
     "shell.execute_reply": "2022-05-14T18:12:21.453231Z",
     "shell.execute_reply.started": "2022-05-14T18:12:20.107920Z"
    }
   },
   "outputs": [
    {
     "name": "stderr",
     "output_type": "stream",
     "text": [
      "Global seed set to 13\n"
     ]
    },
    {
     "data": {
      "text/plain": [
       "13"
      ]
     },
     "execution_count": 34,
     "metadata": {},
     "output_type": "execute_result"
    }
   ],
   "source": [
    "pl.utilities.seed.seed_everything(13)"
   ]
  },
  {
   "cell_type": "code",
   "execution_count": 20,
   "id": "6e343b14-e4f3-42b1-9808-e1407fa7a891",
   "metadata": {
    "execution": {
     "iopub.execute_input": "2022-05-14T18:01:38.035669Z",
     "iopub.status.busy": "2022-05-14T18:01:38.035492Z",
     "iopub.status.idle": "2022-05-14T18:01:40.019299Z",
     "shell.execute_reply": "2022-05-14T18:01:40.018880Z",
     "shell.execute_reply.started": "2022-05-14T18:01:38.035650Z"
    }
   },
   "outputs": [],
   "source": [
    "DATA_DIR = \"test_{}seqs_{}/\".format(NUM_SEQS, SEQ_LEN)\n",
    "mod = SeqDataModule(seq_file=DATA_DIR + \"test_seqs.tsv\",\n",
    "                    transform=data_transform,\n",
    "                    num_workers=4,\n",
    "                    batch_size=BATCH_SIZE,\n",
    "                    load_kwargs=dict(seq_col=\"SEQ\", name_col=\"NAME\", target_col=\"LABEL\"))"
   ]
  },
  {
   "cell_type": "code",
   "execution_count": 21,
   "id": "ea8b1a11-9727-4534-b200-e3b39d0b21a8",
   "metadata": {
    "execution": {
     "iopub.execute_input": "2022-05-14T18:01:47.899365Z",
     "iopub.status.busy": "2022-05-14T18:01:47.899133Z",
     "iopub.status.idle": "2022-05-14T18:01:49.328009Z",
     "shell.execute_reply": "2022-05-14T18:01:49.327670Z",
     "shell.execute_reply.started": "2022-05-14T18:01:47.899337Z"
    }
   },
   "outputs": [],
   "source": [
    "mod.setup()"
   ]
  },
  {
   "cell_type": "code",
   "execution_count": 23,
   "id": "10f92180-5a60-4f3a-97b2-6beed51ab48a",
   "metadata": {
    "execution": {
     "iopub.execute_input": "2022-05-14T18:01:58.771348Z",
     "iopub.status.busy": "2022-05-14T18:01:58.771108Z",
     "iopub.status.idle": "2022-05-14T18:02:00.414516Z",
     "shell.execute_reply": "2022-05-14T18:02:00.414075Z",
     "shell.execute_reply.started": "2022-05-14T18:01:58.771319Z"
    },
    "tags": []
   },
   "outputs": [],
   "source": [
    "train_dataloader = mod.train_dataloader()"
   ]
  },
  {
   "cell_type": "code",
   "execution_count": 24,
   "id": "aca94552-0ec9-485c-b7d4-8157189b2339",
   "metadata": {
    "execution": {
     "iopub.execute_input": "2022-05-14T18:02:08.480434Z",
     "iopub.status.busy": "2022-05-14T18:02:08.480170Z",
     "iopub.status.idle": "2022-05-14T18:02:10.001510Z",
     "shell.execute_reply": "2022-05-14T18:02:10.001024Z",
     "shell.execute_reply.started": "2022-05-14T18:02:08.480413Z"
    }
   },
   "outputs": [],
   "source": [
    "val_dataloader = mod.val_dataloader()"
   ]
  },
  {
   "cell_type": "code",
   "execution_count": 26,
   "id": "efe6768a-a690-451c-b3a0-ab3299f79eca",
   "metadata": {
    "execution": {
     "iopub.execute_input": "2022-05-14T18:03:55.235971Z",
     "iopub.status.busy": "2022-05-14T18:03:55.235803Z",
     "iopub.status.idle": "2022-05-14T18:03:56.846876Z",
     "shell.execute_reply": "2022-05-14T18:03:56.846498Z",
     "shell.execute_reply.started": "2022-05-14T18:03:55.235953Z"
    }
   },
   "outputs": [
    {
     "name": "stderr",
     "output_type": "stream",
     "text": [
      "GPU available: True, used: True\n",
      "TPU available: False, using: 0 TPU cores\n",
      "IPU available: False, using: 0 IPUs\n"
     ]
    }
   ],
   "source": [
    "trainer = pl.Trainer(gpus=1, logger=False)"
   ]
  },
  {
   "cell_type": "code",
   "execution_count": 45,
   "id": "8cb039d4-bb18-4d41-a04a-6284038aba69",
   "metadata": {
    "execution": {
     "iopub.execute_input": "2022-05-14T18:42:49.731965Z",
     "iopub.status.busy": "2022-05-14T18:42:49.731780Z",
     "iopub.status.idle": "2022-05-14T18:42:51.641875Z",
     "shell.execute_reply": "2022-05-14T18:42:51.641519Z",
     "shell.execute_reply.started": "2022-05-14T18:42:49.731947Z"
    },
    "tags": []
   },
   "outputs": [
    {
     "name": "stderr",
     "output_type": "stream",
     "text": [
      "LOCAL_RANK: 0 - CUDA_VISIBLE_DEVICES: [0]\n",
      "/cellar/users/aklie/opt/miniconda3/envs/pytorch_dev/lib/python3.7/site-packages/pytorch_lightning/trainer/data_loading.py:662: UserWarning: Your `predict_dataloader` has `shuffle=True`, it is strongly recommended that you turn this off for val/test/predict dataloaders.\n",
      "  category=UserWarning,\n"
     ]
    },
    {
     "data": {
      "application/vnd.jupyter.widget-view+json": {
       "model_id": "fa75216e791e4fea8165cccd9d63f6c8",
       "version_major": 2,
       "version_minor": 0
      },
      "text/plain": [
       "Predicting: 0it [00:00, ?it/s]"
      ]
     },
     "metadata": {},
     "output_type": "display_data"
    }
   ],
   "source": [
    "preds = trainer.predict(model=eugene, dataloaders=train_dataloader)"
   ]
  },
  {
   "cell_type": "code",
   "execution_count": 50,
   "id": "9904d2df-c896-4d62-a31f-f8cca62991a2",
   "metadata": {
    "execution": {
     "iopub.execute_input": "2022-05-14T18:43:19.889069Z",
     "iopub.status.busy": "2022-05-14T18:43:19.888937Z",
     "iopub.status.idle": "2022-05-14T18:43:21.824502Z",
     "shell.execute_reply": "2022-05-14T18:43:21.824125Z",
     "shell.execute_reply.started": "2022-05-14T18:43:19.889053Z"
    },
    "tags": []
   },
   "outputs": [],
   "source": [
    "preds = np.concatenate(preds)"
   ]
  },
  {
   "cell_type": "code",
   "execution_count": 52,
   "id": "37727a87-78fa-409f-8eca-1d7019c61795",
   "metadata": {
    "execution": {
     "iopub.execute_input": "2022-05-14T18:43:26.069912Z",
     "iopub.status.busy": "2022-05-14T18:43:26.069693Z",
     "iopub.status.idle": "2022-05-14T18:43:27.918721Z",
     "shell.execute_reply": "2022-05-14T18:43:27.918321Z",
     "shell.execute_reply.started": "2022-05-14T18:43:26.069894Z"
    },
    "tags": []
   },
   "outputs": [
    {
     "data": {
      "text/plain": [
       "(900, 3)"
      ]
     },
     "execution_count": 52,
     "metadata": {},
     "output_type": "execute_result"
    }
   ],
   "source": [
    "preds.shape"
   ]
  },
  {
   "cell_type": "code",
   "execution_count": 54,
   "id": "c6de9640-bb7e-47e9-9aa5-a3a1f8857c19",
   "metadata": {
    "execution": {
     "iopub.execute_input": "2022-05-14T18:44:05.218214Z",
     "iopub.status.busy": "2022-05-14T18:44:05.218034Z",
     "iopub.status.idle": "2022-05-14T18:44:07.111339Z",
     "shell.execute_reply": "2022-05-14T18:44:07.110889Z",
     "shell.execute_reply.started": "2022-05-14T18:44:05.218189Z"
    },
    "tags": []
   },
   "outputs": [],
   "source": [
    "pred_df = pd.DataFrame(data=preds, columns=[\"NAME\", \"PREDICTION\", \"TARGET\"])"
   ]
  },
  {
   "cell_type": "code",
   "execution_count": 55,
   "id": "098dd361-9858-4519-bbc3-489636d8b2cc",
   "metadata": {
    "execution": {
     "iopub.execute_input": "2022-05-14T18:44:09.056659Z",
     "iopub.status.busy": "2022-05-14T18:44:09.056404Z",
     "iopub.status.idle": "2022-05-14T18:44:11.169476Z",
     "shell.execute_reply": "2022-05-14T18:44:11.169175Z",
     "shell.execute_reply.started": "2022-05-14T18:44:09.056628Z"
    }
   },
   "outputs": [
    {
     "data": {
      "text/html": [
       "<div>\n",
       "<style scoped>\n",
       "    .dataframe tbody tr th:only-of-type {\n",
       "        vertical-align: middle;\n",
       "    }\n",
       "\n",
       "    .dataframe tbody tr th {\n",
       "        vertical-align: top;\n",
       "    }\n",
       "\n",
       "    .dataframe thead th {\n",
       "        text-align: right;\n",
       "    }\n",
       "</style>\n",
       "<table border=\"1\" class=\"dataframe\">\n",
       "  <thead>\n",
       "    <tr style=\"text-align: right;\">\n",
       "      <th></th>\n",
       "      <th>NAME</th>\n",
       "      <th>PREDICTION</th>\n",
       "      <th>TARGET</th>\n",
       "    </tr>\n",
       "  </thead>\n",
       "  <tbody>\n",
       "    <tr>\n",
       "      <th>0</th>\n",
       "      <td>seq247</td>\n",
       "      <td>-0.7930637</td>\n",
       "      <td>1.0</td>\n",
       "    </tr>\n",
       "    <tr>\n",
       "      <th>1</th>\n",
       "      <td>seq434</td>\n",
       "      <td>-1.6768111</td>\n",
       "      <td>0.0</td>\n",
       "    </tr>\n",
       "    <tr>\n",
       "      <th>2</th>\n",
       "      <td>seq260</td>\n",
       "      <td>-0.6487483</td>\n",
       "      <td>0.0</td>\n",
       "    </tr>\n",
       "    <tr>\n",
       "      <th>3</th>\n",
       "      <td>seq191</td>\n",
       "      <td>-0.90770334</td>\n",
       "      <td>0.0</td>\n",
       "    </tr>\n",
       "    <tr>\n",
       "      <th>4</th>\n",
       "      <td>seq519</td>\n",
       "      <td>-1.9701676</td>\n",
       "      <td>1.0</td>\n",
       "    </tr>\n",
       "    <tr>\n",
       "      <th>...</th>\n",
       "      <td>...</td>\n",
       "      <td>...</td>\n",
       "      <td>...</td>\n",
       "    </tr>\n",
       "    <tr>\n",
       "      <th>895</th>\n",
       "      <td>seq362</td>\n",
       "      <td>-0.65784943</td>\n",
       "      <td>1.0</td>\n",
       "    </tr>\n",
       "    <tr>\n",
       "      <th>896</th>\n",
       "      <td>seq328</td>\n",
       "      <td>-0.69132656</td>\n",
       "      <td>1.0</td>\n",
       "    </tr>\n",
       "    <tr>\n",
       "      <th>897</th>\n",
       "      <td>seq838</td>\n",
       "      <td>1.0923125</td>\n",
       "      <td>0.0</td>\n",
       "    </tr>\n",
       "    <tr>\n",
       "      <th>898</th>\n",
       "      <td>seq558</td>\n",
       "      <td>-1.0055817</td>\n",
       "      <td>0.0</td>\n",
       "    </tr>\n",
       "    <tr>\n",
       "      <th>899</th>\n",
       "      <td>seq210</td>\n",
       "      <td>-0.78467596</td>\n",
       "      <td>1.0</td>\n",
       "    </tr>\n",
       "  </tbody>\n",
       "</table>\n",
       "<p>900 rows × 3 columns</p>\n",
       "</div>"
      ],
      "text/plain": [
       "       NAME   PREDICTION TARGET\n",
       "0    seq247   -0.7930637    1.0\n",
       "1    seq434   -1.6768111    0.0\n",
       "2    seq260   -0.6487483    0.0\n",
       "3    seq191  -0.90770334    0.0\n",
       "4    seq519   -1.9701676    1.0\n",
       "..      ...          ...    ...\n",
       "895  seq362  -0.65784943    1.0\n",
       "896  seq328  -0.69132656    1.0\n",
       "897  seq838    1.0923125    0.0\n",
       "898  seq558   -1.0055817    0.0\n",
       "899  seq210  -0.78467596    1.0\n",
       "\n",
       "[900 rows x 3 columns]"
      ]
     },
     "execution_count": 55,
     "metadata": {},
     "output_type": "execute_result"
    }
   ],
   "source": [
    "pred_df"
   ]
  },
  {
   "cell_type": "code",
   "execution_count": 25,
   "id": "615b535b-e424-41ee-887c-b42bb7459495",
   "metadata": {
    "execution": {
     "iopub.execute_input": "2022-05-14T18:02:28.795650Z",
     "iopub.status.busy": "2022-05-14T18:02:28.795476Z",
     "iopub.status.idle": "2022-05-14T18:02:30.795295Z",
     "shell.execute_reply": "2022-05-14T18:02:30.794862Z",
     "shell.execute_reply.started": "2022-05-14T18:02:28.795631Z"
    }
   },
   "outputs": [
    {
     "data": {
      "text/plain": [
       "\u001b[0;31mSignature:\u001b[0m\n",
       "\u001b[0mtrainer\u001b[0m\u001b[0;34m.\u001b[0m\u001b[0mpredict\u001b[0m\u001b[0;34m(\u001b[0m\u001b[0;34m\u001b[0m\n",
       "\u001b[0;34m\u001b[0m    \u001b[0mmodel\u001b[0m\u001b[0;34m:\u001b[0m \u001b[0mUnion\u001b[0m\u001b[0;34m[\u001b[0m\u001b[0mForwardRef\u001b[0m\u001b[0;34m(\u001b[0m\u001b[0;34m'pl.LightningModule'\u001b[0m\u001b[0;34m)\u001b[0m\u001b[0;34m,\u001b[0m \u001b[0mNoneType\u001b[0m\u001b[0;34m]\u001b[0m \u001b[0;34m=\u001b[0m \u001b[0;32mNone\u001b[0m\u001b[0;34m,\u001b[0m\u001b[0;34m\u001b[0m\n",
       "\u001b[0;34m\u001b[0m    \u001b[0mdataloaders\u001b[0m\u001b[0;34m:\u001b[0m \u001b[0mUnion\u001b[0m\u001b[0;34m[\u001b[0m\u001b[0mtorch\u001b[0m\u001b[0;34m.\u001b[0m\u001b[0mutils\u001b[0m\u001b[0;34m.\u001b[0m\u001b[0mdata\u001b[0m\u001b[0;34m.\u001b[0m\u001b[0mdataloader\u001b[0m\u001b[0;34m.\u001b[0m\u001b[0mDataLoader\u001b[0m\u001b[0;34m,\u001b[0m \u001b[0mSequence\u001b[0m\u001b[0;34m[\u001b[0m\u001b[0mtorch\u001b[0m\u001b[0;34m.\u001b[0m\u001b[0mutils\u001b[0m\u001b[0;34m.\u001b[0m\u001b[0mdata\u001b[0m\u001b[0;34m.\u001b[0m\u001b[0mdataloader\u001b[0m\u001b[0;34m.\u001b[0m\u001b[0mDataLoader\u001b[0m\u001b[0;34m]\u001b[0m\u001b[0;34m,\u001b[0m \u001b[0mpytorch_lightning\u001b[0m\u001b[0;34m.\u001b[0m\u001b[0mcore\u001b[0m\u001b[0;34m.\u001b[0m\u001b[0mdatamodule\u001b[0m\u001b[0;34m.\u001b[0m\u001b[0mLightningDataModule\u001b[0m\u001b[0;34m,\u001b[0m \u001b[0mNoneType\u001b[0m\u001b[0;34m]\u001b[0m \u001b[0;34m=\u001b[0m \u001b[0;32mNone\u001b[0m\u001b[0;34m,\u001b[0m\u001b[0;34m\u001b[0m\n",
       "\u001b[0;34m\u001b[0m    \u001b[0mdatamodule\u001b[0m\u001b[0;34m:\u001b[0m \u001b[0mUnion\u001b[0m\u001b[0;34m[\u001b[0m\u001b[0mpytorch_lightning\u001b[0m\u001b[0;34m.\u001b[0m\u001b[0mcore\u001b[0m\u001b[0;34m.\u001b[0m\u001b[0mdatamodule\u001b[0m\u001b[0;34m.\u001b[0m\u001b[0mLightningDataModule\u001b[0m\u001b[0;34m,\u001b[0m \u001b[0mNoneType\u001b[0m\u001b[0;34m]\u001b[0m \u001b[0;34m=\u001b[0m \u001b[0;32mNone\u001b[0m\u001b[0;34m,\u001b[0m\u001b[0;34m\u001b[0m\n",
       "\u001b[0;34m\u001b[0m    \u001b[0mreturn_predictions\u001b[0m\u001b[0;34m:\u001b[0m \u001b[0mUnion\u001b[0m\u001b[0;34m[\u001b[0m\u001b[0mbool\u001b[0m\u001b[0;34m,\u001b[0m \u001b[0mNoneType\u001b[0m\u001b[0;34m]\u001b[0m \u001b[0;34m=\u001b[0m \u001b[0;32mNone\u001b[0m\u001b[0;34m,\u001b[0m\u001b[0;34m\u001b[0m\n",
       "\u001b[0;34m\u001b[0m    \u001b[0mckpt_path\u001b[0m\u001b[0;34m:\u001b[0m \u001b[0mUnion\u001b[0m\u001b[0;34m[\u001b[0m\u001b[0mstr\u001b[0m\u001b[0;34m,\u001b[0m \u001b[0mNoneType\u001b[0m\u001b[0;34m]\u001b[0m \u001b[0;34m=\u001b[0m \u001b[0;32mNone\u001b[0m\u001b[0;34m,\u001b[0m\u001b[0;34m\u001b[0m\n",
       "\u001b[0;34m\u001b[0m\u001b[0;34m)\u001b[0m \u001b[0;34m->\u001b[0m \u001b[0mUnion\u001b[0m\u001b[0;34m[\u001b[0m\u001b[0mList\u001b[0m\u001b[0;34m[\u001b[0m\u001b[0mAny\u001b[0m\u001b[0;34m]\u001b[0m\u001b[0;34m,\u001b[0m \u001b[0mList\u001b[0m\u001b[0;34m[\u001b[0m\u001b[0mList\u001b[0m\u001b[0;34m[\u001b[0m\u001b[0mAny\u001b[0m\u001b[0;34m]\u001b[0m\u001b[0;34m]\u001b[0m\u001b[0;34m,\u001b[0m \u001b[0mNoneType\u001b[0m\u001b[0;34m]\u001b[0m\u001b[0;34m\u001b[0m\u001b[0;34m\u001b[0m\u001b[0m\n",
       "\u001b[0;31mDocstring:\u001b[0m\n",
       "Run inference on your data.\n",
       "This will call the model forward function to compute predictions. Useful to perform distributed\n",
       "and batched predictions. Logging is disabled in the predict hooks.\n",
       "\n",
       "Args:\n",
       "    model: The model to predict with.\n",
       "\n",
       "    dataloaders: A :class:`torch.utils.data.DataLoader` or a sequence of them,\n",
       "        or a :class:`~pytorch_lightning.core.datamodule.LightningDataModule` specifying prediction samples.\n",
       "\n",
       "    datamodule: The datamodule with a predict_dataloader method that returns one or more dataloaders.\n",
       "\n",
       "    return_predictions: Whether to return predictions.\n",
       "        ``True`` by default except when an accelerator that spawns processes is used (not supported).\n",
       "\n",
       "    ckpt_path: Either ``best`` or path to the checkpoint you wish to predict.\n",
       "        If ``None`` and the model instance was passed, use the current weights.\n",
       "        Otherwise, the best model checkpoint from the previous ``trainer.fit`` call will be loaded\n",
       "        if a checkpoint callback is configured.\n",
       "\n",
       "Returns:\n",
       "    Returns a list of dictionaries, one for each provided dataloader containing their respective predictions.\n",
       "\u001b[0;31mFile:\u001b[0m      ~/opt/miniconda3/envs/pytorch_dev/lib/python3.7/site-packages/pytorch_lightning/trainer/trainer.py\n",
       "\u001b[0;31mType:\u001b[0m      method\n"
      ]
     },
     "metadata": {},
     "output_type": "display_data"
    }
   ],
   "source": [
    "trainer.predict?"
   ]
  },
  {
   "cell_type": "code",
   "execution_count": 16,
   "id": "e9bc5281-d0cf-4ef5-bc58-7bcc214b39e0",
   "metadata": {
    "execution": {
     "iopub.execute_input": "2022-05-14T18:00:23.775322Z",
     "iopub.status.busy": "2022-05-14T18:00:23.775071Z",
     "iopub.status.idle": "2022-05-14T18:00:25.412062Z",
     "shell.execute_reply": "2022-05-14T18:00:25.411565Z",
     "shell.execute_reply.started": "2022-05-14T18:00:23.775302Z"
    },
    "tags": []
   },
   "outputs": [
    {
     "ename": "FileNotFoundError",
     "evalue": "[Errno 2] No such file or directory: 'test_1000seqs_66/test_1000seqs_66_predictions.tsv'",
     "output_type": "error",
     "traceback": [
      "\u001b[0;31m---------------------------------------------------------------------------\u001b[0m",
      "\u001b[0;31mFileNotFoundError\u001b[0m                         Traceback (most recent call last)",
      "\u001b[0;32m<ipython-input-16-678daff47122>\u001b[0m in \u001b[0;36m<module>\u001b[0;34m\u001b[0m\n\u001b[0;32m----> 1\u001b[0;31m \u001b[0mpd\u001b[0m\u001b[0;34m.\u001b[0m\u001b[0mread_csv\u001b[0m\u001b[0;34m(\u001b[0m\u001b[0mos\u001b[0m\u001b[0;34m.\u001b[0m\u001b[0mpath\u001b[0m\u001b[0;34m.\u001b[0m\u001b[0mjoin\u001b[0m\u001b[0;34m(\u001b[0m\u001b[0mDATA_DIR\u001b[0m\u001b[0;34m,\u001b[0m \u001b[0;34m\"test_1000seqs_66_predictions.tsv\"\u001b[0m\u001b[0;34m)\u001b[0m\u001b[0;34m,\u001b[0m \u001b[0msep\u001b[0m\u001b[0;34m=\u001b[0m\u001b[0;34m\"\\t\"\u001b[0m\u001b[0;34m)\u001b[0m\u001b[0;34m\u001b[0m\u001b[0;34m\u001b[0m\u001b[0m\n\u001b[0m",
      "\u001b[0;32m~/opt/miniconda3/envs/pytorch_dev/lib/python3.7/site-packages/pandas/io/parsers.py\u001b[0m in \u001b[0;36mread_csv\u001b[0;34m(filepath_or_buffer, sep, delimiter, header, names, index_col, usecols, squeeze, prefix, mangle_dupe_cols, dtype, engine, converters, true_values, false_values, skipinitialspace, skiprows, skipfooter, nrows, na_values, keep_default_na, na_filter, verbose, skip_blank_lines, parse_dates, infer_datetime_format, keep_date_col, date_parser, dayfirst, cache_dates, iterator, chunksize, compression, thousands, decimal, lineterminator, quotechar, quoting, doublequote, escapechar, comment, encoding, dialect, error_bad_lines, warn_bad_lines, delim_whitespace, low_memory, memory_map, float_precision)\u001b[0m\n\u001b[1;32m    684\u001b[0m     )\n\u001b[1;32m    685\u001b[0m \u001b[0;34m\u001b[0m\u001b[0m\n\u001b[0;32m--> 686\u001b[0;31m     \u001b[0;32mreturn\u001b[0m \u001b[0m_read\u001b[0m\u001b[0;34m(\u001b[0m\u001b[0mfilepath_or_buffer\u001b[0m\u001b[0;34m,\u001b[0m \u001b[0mkwds\u001b[0m\u001b[0;34m)\u001b[0m\u001b[0;34m\u001b[0m\u001b[0;34m\u001b[0m\u001b[0m\n\u001b[0m\u001b[1;32m    687\u001b[0m \u001b[0;34m\u001b[0m\u001b[0m\n\u001b[1;32m    688\u001b[0m \u001b[0;34m\u001b[0m\u001b[0m\n",
      "\u001b[0;32m~/opt/miniconda3/envs/pytorch_dev/lib/python3.7/site-packages/pandas/io/parsers.py\u001b[0m in \u001b[0;36m_read\u001b[0;34m(filepath_or_buffer, kwds)\u001b[0m\n\u001b[1;32m    450\u001b[0m \u001b[0;34m\u001b[0m\u001b[0m\n\u001b[1;32m    451\u001b[0m     \u001b[0;31m# Create the parser.\u001b[0m\u001b[0;34m\u001b[0m\u001b[0;34m\u001b[0m\u001b[0;34m\u001b[0m\u001b[0m\n\u001b[0;32m--> 452\u001b[0;31m     \u001b[0mparser\u001b[0m \u001b[0;34m=\u001b[0m \u001b[0mTextFileReader\u001b[0m\u001b[0;34m(\u001b[0m\u001b[0mfp_or_buf\u001b[0m\u001b[0;34m,\u001b[0m \u001b[0;34m**\u001b[0m\u001b[0mkwds\u001b[0m\u001b[0;34m)\u001b[0m\u001b[0;34m\u001b[0m\u001b[0;34m\u001b[0m\u001b[0m\n\u001b[0m\u001b[1;32m    453\u001b[0m \u001b[0;34m\u001b[0m\u001b[0m\n\u001b[1;32m    454\u001b[0m     \u001b[0;32mif\u001b[0m \u001b[0mchunksize\u001b[0m \u001b[0;32mor\u001b[0m \u001b[0miterator\u001b[0m\u001b[0;34m:\u001b[0m\u001b[0;34m\u001b[0m\u001b[0;34m\u001b[0m\u001b[0m\n",
      "\u001b[0;32m~/opt/miniconda3/envs/pytorch_dev/lib/python3.7/site-packages/pandas/io/parsers.py\u001b[0m in \u001b[0;36m__init__\u001b[0;34m(self, f, engine, **kwds)\u001b[0m\n\u001b[1;32m    944\u001b[0m             \u001b[0mself\u001b[0m\u001b[0;34m.\u001b[0m\u001b[0moptions\u001b[0m\u001b[0;34m[\u001b[0m\u001b[0;34m\"has_index_names\"\u001b[0m\u001b[0;34m]\u001b[0m \u001b[0;34m=\u001b[0m \u001b[0mkwds\u001b[0m\u001b[0;34m[\u001b[0m\u001b[0;34m\"has_index_names\"\u001b[0m\u001b[0;34m]\u001b[0m\u001b[0;34m\u001b[0m\u001b[0;34m\u001b[0m\u001b[0m\n\u001b[1;32m    945\u001b[0m \u001b[0;34m\u001b[0m\u001b[0m\n\u001b[0;32m--> 946\u001b[0;31m         \u001b[0mself\u001b[0m\u001b[0;34m.\u001b[0m\u001b[0m_make_engine\u001b[0m\u001b[0;34m(\u001b[0m\u001b[0mself\u001b[0m\u001b[0;34m.\u001b[0m\u001b[0mengine\u001b[0m\u001b[0;34m)\u001b[0m\u001b[0;34m\u001b[0m\u001b[0;34m\u001b[0m\u001b[0m\n\u001b[0m\u001b[1;32m    947\u001b[0m \u001b[0;34m\u001b[0m\u001b[0m\n\u001b[1;32m    948\u001b[0m     \u001b[0;32mdef\u001b[0m \u001b[0mclose\u001b[0m\u001b[0;34m(\u001b[0m\u001b[0mself\u001b[0m\u001b[0;34m)\u001b[0m\u001b[0;34m:\u001b[0m\u001b[0;34m\u001b[0m\u001b[0;34m\u001b[0m\u001b[0m\n",
      "\u001b[0;32m~/opt/miniconda3/envs/pytorch_dev/lib/python3.7/site-packages/pandas/io/parsers.py\u001b[0m in \u001b[0;36m_make_engine\u001b[0;34m(self, engine)\u001b[0m\n\u001b[1;32m   1176\u001b[0m     \u001b[0;32mdef\u001b[0m \u001b[0m_make_engine\u001b[0m\u001b[0;34m(\u001b[0m\u001b[0mself\u001b[0m\u001b[0;34m,\u001b[0m \u001b[0mengine\u001b[0m\u001b[0;34m=\u001b[0m\u001b[0;34m\"c\"\u001b[0m\u001b[0;34m)\u001b[0m\u001b[0;34m:\u001b[0m\u001b[0;34m\u001b[0m\u001b[0;34m\u001b[0m\u001b[0m\n\u001b[1;32m   1177\u001b[0m         \u001b[0;32mif\u001b[0m \u001b[0mengine\u001b[0m \u001b[0;34m==\u001b[0m \u001b[0;34m\"c\"\u001b[0m\u001b[0;34m:\u001b[0m\u001b[0;34m\u001b[0m\u001b[0;34m\u001b[0m\u001b[0m\n\u001b[0;32m-> 1178\u001b[0;31m             \u001b[0mself\u001b[0m\u001b[0;34m.\u001b[0m\u001b[0m_engine\u001b[0m \u001b[0;34m=\u001b[0m \u001b[0mCParserWrapper\u001b[0m\u001b[0;34m(\u001b[0m\u001b[0mself\u001b[0m\u001b[0;34m.\u001b[0m\u001b[0mf\u001b[0m\u001b[0;34m,\u001b[0m \u001b[0;34m**\u001b[0m\u001b[0mself\u001b[0m\u001b[0;34m.\u001b[0m\u001b[0moptions\u001b[0m\u001b[0;34m)\u001b[0m\u001b[0;34m\u001b[0m\u001b[0;34m\u001b[0m\u001b[0m\n\u001b[0m\u001b[1;32m   1179\u001b[0m         \u001b[0;32melse\u001b[0m\u001b[0;34m:\u001b[0m\u001b[0;34m\u001b[0m\u001b[0;34m\u001b[0m\u001b[0m\n\u001b[1;32m   1180\u001b[0m             \u001b[0;32mif\u001b[0m \u001b[0mengine\u001b[0m \u001b[0;34m==\u001b[0m \u001b[0;34m\"python\"\u001b[0m\u001b[0;34m:\u001b[0m\u001b[0;34m\u001b[0m\u001b[0;34m\u001b[0m\u001b[0m\n",
      "\u001b[0;32m~/opt/miniconda3/envs/pytorch_dev/lib/python3.7/site-packages/pandas/io/parsers.py\u001b[0m in \u001b[0;36m__init__\u001b[0;34m(self, src, **kwds)\u001b[0m\n\u001b[1;32m   2006\u001b[0m         \u001b[0mkwds\u001b[0m\u001b[0;34m[\u001b[0m\u001b[0;34m\"usecols\"\u001b[0m\u001b[0;34m]\u001b[0m \u001b[0;34m=\u001b[0m \u001b[0mself\u001b[0m\u001b[0;34m.\u001b[0m\u001b[0musecols\u001b[0m\u001b[0;34m\u001b[0m\u001b[0;34m\u001b[0m\u001b[0m\n\u001b[1;32m   2007\u001b[0m \u001b[0;34m\u001b[0m\u001b[0m\n\u001b[0;32m-> 2008\u001b[0;31m         \u001b[0mself\u001b[0m\u001b[0;34m.\u001b[0m\u001b[0m_reader\u001b[0m \u001b[0;34m=\u001b[0m \u001b[0mparsers\u001b[0m\u001b[0;34m.\u001b[0m\u001b[0mTextReader\u001b[0m\u001b[0;34m(\u001b[0m\u001b[0msrc\u001b[0m\u001b[0;34m,\u001b[0m \u001b[0;34m**\u001b[0m\u001b[0mkwds\u001b[0m\u001b[0;34m)\u001b[0m\u001b[0;34m\u001b[0m\u001b[0;34m\u001b[0m\u001b[0m\n\u001b[0m\u001b[1;32m   2009\u001b[0m         \u001b[0mself\u001b[0m\u001b[0;34m.\u001b[0m\u001b[0munnamed_cols\u001b[0m \u001b[0;34m=\u001b[0m \u001b[0mself\u001b[0m\u001b[0;34m.\u001b[0m\u001b[0m_reader\u001b[0m\u001b[0;34m.\u001b[0m\u001b[0munnamed_cols\u001b[0m\u001b[0;34m\u001b[0m\u001b[0;34m\u001b[0m\u001b[0m\n\u001b[1;32m   2010\u001b[0m \u001b[0;34m\u001b[0m\u001b[0m\n",
      "\u001b[0;32mpandas/_libs/parsers.pyx\u001b[0m in \u001b[0;36mpandas._libs.parsers.TextReader.__cinit__\u001b[0;34m()\u001b[0m\n",
      "\u001b[0;32mpandas/_libs/parsers.pyx\u001b[0m in \u001b[0;36mpandas._libs.parsers.TextReader._setup_parser_source\u001b[0;34m()\u001b[0m\n",
      "\u001b[0;31mFileNotFoundError\u001b[0m: [Errno 2] No such file or directory: 'test_1000seqs_66/test_1000seqs_66_predictions.tsv'"
     ]
    }
   ],
   "source": [
    "pd.read_csv(os.path.join(DATA_DIR, \"test_1000seqs_66_predictions.tsv\"), sep=\"\\t\")"
   ]
  },
  {
   "cell_type": "markdown",
   "id": "748e0502",
   "metadata": {},
   "source": [
    "# References"
   ]
  }
 ],
 "metadata": {
  "kernelspec": {
   "display_name": "Python 3 pytorch_dev",
   "language": "python",
   "name": "pytorch_dev"
  },
  "language_info": {
   "codemirror_mode": {
    "name": "ipython",
    "version": 3
   },
   "file_extension": ".py",
   "mimetype": "text/x-python",
   "name": "python",
   "nbconvert_exporter": "python",
   "pygments_lexer": "ipython3",
   "version": "3.7.12"
  }
 },
 "nbformat": 4,
 "nbformat_minor": 5
}

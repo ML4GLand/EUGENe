{
 "cells": [
  {
   "cell_type": "markdown",
   "id": "661f6b58",
   "metadata": {},
   "source": [
    "# Testing CLAIM Models"
   ]
  },
  {
   "cell_type": "markdown",
   "id": "fa64213c",
   "metadata": {
    "tags": []
   },
   "source": [
    "**Authorship:**\n",
    "Adam Klie, *03/19/2022*\n",
    "***\n",
    "**Description:**\n",
    "Notebook for testing out EUGENE architectures"
   ]
  },
  {
   "cell_type": "markdown",
   "id": "0cc2e158",
   "metadata": {},
   "source": [
    "<div class=\"alert alert-block alert-warning\">\n",
    "<b>TODOs</b>:\n",
    "<ul>\n",
    "    <b><li></li></b>\n",
    "    </ul>\n",
    "</div>"
   ]
  },
  {
   "cell_type": "code",
   "execution_count": 1,
   "id": "fdbc9d9e",
   "metadata": {
    "execution": {
     "iopub.execute_input": "2022-04-23T19:30:08.123508Z",
     "iopub.status.busy": "2022-04-23T19:30:08.123317Z",
     "iopub.status.idle": "2022-04-23T19:30:13.478409Z",
     "shell.execute_reply": "2022-04-23T19:30:13.477998Z",
     "shell.execute_reply.started": "2022-04-23T19:30:08.123471Z"
    },
    "tags": []
   },
   "outputs": [],
   "source": [
    "import numpy as np\n",
    "import pandas as pd\n",
    "import torch\n",
    "\n",
    "# Autoreload extension\n",
    "if 'autoreload' not in get_ipython().extension_manager.loaded:\n",
    "    %load_ext autoreload\n",
    "%autoreload 2\n",
    "\n",
    "import claim.modules as cm"
   ]
  },
  {
   "cell_type": "markdown",
   "id": "26c77403-2ab3-466d-b23c-76739b251fb3",
   "metadata": {},
   "source": [
    "# Load data"
   ]
  },
  {
   "cell_type": "code",
   "execution_count": 69,
   "id": "8b7ba7c8-69b4-4935-bbfa-732a84ace076",
   "metadata": {
    "execution": {
     "iopub.execute_input": "2022-04-23T20:00:16.337205Z",
     "iopub.status.busy": "2022-04-23T20:00:16.337033Z",
     "iopub.status.idle": "2022-04-23T20:00:17.818601Z",
     "shell.execute_reply": "2022-04-23T20:00:17.818128Z",
     "shell.execute_reply.started": "2022-04-23T20:00:16.337182Z"
    },
    "tags": []
   },
   "outputs": [],
   "source": [
    "x = torch.randn(10, 4, 66)\n",
    "x_t = x.transpose(2, 1)\n",
    "x_rev = torch.randn(10, 4, 66)\n",
    "x_rev_t = x_rev.transpose(2, 1)"
   ]
  },
  {
   "cell_type": "markdown",
   "id": "e922973f-5e6c-42e9-81df-337f97c3518a",
   "metadata": {},
   "source": [
    "# FCN Only"
   ]
  },
  {
   "cell_type": "code",
   "execution_count": 4,
   "id": "d427ae27-8659-47d7-ba79-82cf6a7e5d07",
   "metadata": {
    "execution": {
     "iopub.execute_input": "2022-04-23T19:30:24.474188Z",
     "iopub.status.busy": "2022-04-23T19:30:24.474025Z",
     "iopub.status.idle": "2022-04-23T19:30:31.784318Z",
     "shell.execute_reply": "2022-04-23T19:30:31.783944Z",
     "shell.execute_reply.started": "2022-04-23T19:30:24.474171Z"
    },
    "tags": []
   },
   "outputs": [],
   "source": [
    "from eugene.models.FCN import FCN"
   ]
  },
  {
   "cell_type": "code",
   "execution_count": 34,
   "id": "00a80ff3-c7a3-4639-98f2-15ea4f7d5bb8",
   "metadata": {
    "execution": {
     "iopub.execute_input": "2022-04-23T19:34:26.335612Z",
     "iopub.status.busy": "2022-04-23T19:34:26.335443Z",
     "iopub.status.idle": "2022-04-23T19:34:27.977868Z",
     "shell.execute_reply": "2022-04-23T19:34:27.977296Z",
     "shell.execute_reply.started": "2022-04-23T19:34:26.335595Z"
    },
    "tags": []
   },
   "outputs": [
    {
     "data": {
      "text/plain": [
       "FCN(\n",
       "  (fcn): BasicFullyConnectedModule(\n",
       "    (module): Sequential(\n",
       "      (0): Linear(in_features=264, out_features=100, bias=True)\n",
       "      (1): ReLU(inplace=True)\n",
       "      (2): Linear(in_features=100, out_features=1, bias=True)\n",
       "    )\n",
       "  )\n",
       "  (reverse_fcn): BasicFullyConnectedModule(\n",
       "    (module): Sequential(\n",
       "      (0): Linear(in_features=264, out_features=100, bias=True)\n",
       "      (1): ReLU(inplace=True)\n",
       "      (2): Linear(in_features=100, out_features=1, bias=True)\n",
       "    )\n",
       "  )\n",
       "  (accuracy): Accuracy()\n",
       "  (auroc): AUROC()\n",
       ")"
      ]
     },
     "execution_count": 34,
     "metadata": {},
     "output_type": "execute_result"
    }
   ],
   "source": [
    "fcn = FCN(input_len=66, \n",
    "          strand=\"ts\",\n",
    "          task=\"binary_classification\",\n",
    "          fc_kwargs=dict(hidden_dims=[100], output_dim=1))\n",
    "fcn"
   ]
  },
  {
   "cell_type": "code",
   "execution_count": 37,
   "id": "5af40b16-e803-4f80-9138-f22d57ded05a",
   "metadata": {
    "execution": {
     "iopub.execute_input": "2022-04-23T19:35:12.335691Z",
     "iopub.status.busy": "2022-04-23T19:35:12.335526Z",
     "iopub.status.idle": "2022-04-23T19:35:13.883155Z",
     "shell.execute_reply": "2022-04-23T19:35:13.882825Z",
     "shell.execute_reply.started": "2022-04-23T19:35:12.335675Z"
    },
    "tags": []
   },
   "outputs": [
    {
     "name": "stdout",
     "output_type": "stream",
     "text": [
      "tensor([[-0.3729,  0.1600],\n",
      "        [ 0.2604, -0.3764],\n",
      "        [ 0.1441, -0.0135],\n",
      "        [-0.2043, -0.4903],\n",
      "        [ 0.0234, -0.0656],\n",
      "        [-0.1336, -0.0384],\n",
      "        [ 0.1261, -0.2827],\n",
      "        [ 0.2611, -0.1058],\n",
      "        [-0.2962, -0.4841],\n",
      "        [ 0.0235, -0.2443]], grad_fn=<CatBackward0>)\n"
     ]
    },
    {
     "data": {
      "text/plain": [
       "torch.Size([10, 1])"
      ]
     },
     "execution_count": 37,
     "metadata": {},
     "output_type": "execute_result"
    }
   ],
   "source": [
    "out = fcn(x, x_rev)\n",
    "out.shape"
   ]
  },
  {
   "cell_type": "code",
   "execution_count": 38,
   "id": "6e198ba7-91c4-4f50-ac48-b1b98066e433",
   "metadata": {
    "execution": {
     "iopub.execute_input": "2022-04-23T19:35:21.069309Z",
     "iopub.status.busy": "2022-04-23T19:35:21.069175Z",
     "iopub.status.idle": "2022-04-23T19:35:22.662046Z",
     "shell.execute_reply": "2022-04-23T19:35:22.661693Z",
     "shell.execute_reply.started": "2022-04-23T19:35:21.069293Z"
    },
    "tags": []
   },
   "outputs": [
    {
     "data": {
      "text/plain": [
       "tensor([[-0.1065],\n",
       "        [-0.0580],\n",
       "        [ 0.0653],\n",
       "        [-0.3473],\n",
       "        [-0.0211],\n",
       "        [-0.0860],\n",
       "        [-0.0783],\n",
       "        [ 0.0776],\n",
       "        [-0.3901],\n",
       "        [-0.1104]], grad_fn=<UnsqueezeBackward0>)"
      ]
     },
     "execution_count": 38,
     "metadata": {},
     "output_type": "execute_result"
    }
   ],
   "source": [
    "out"
   ]
  },
  {
   "cell_type": "markdown",
   "id": "4529126c-6ec8-47af-9772-a19d7d0e9815",
   "metadata": {
    "tags": []
   },
   "source": [
    "# CNN Only"
   ]
  },
  {
   "cell_type": "code",
   "execution_count": 52,
   "id": "50741e11-4285-4ce2-a506-064d7373cffe",
   "metadata": {
    "execution": {
     "iopub.execute_input": "2022-04-23T19:52:20.006507Z",
     "iopub.status.busy": "2022-04-23T19:52:20.006352Z",
     "iopub.status.idle": "2022-04-23T19:52:21.383515Z",
     "shell.execute_reply": "2022-04-23T19:52:21.383020Z",
     "shell.execute_reply.started": "2022-04-23T19:52:20.006490Z"
    },
    "tags": []
   },
   "outputs": [],
   "source": [
    "from eugene.models.CNN import CNN"
   ]
  },
  {
   "cell_type": "markdown",
   "id": "77387429",
   "metadata": {},
   "source": [
    "<div class=\"alert alert-info\" role=\"alert\">\n",
    "  <b>Just test out the basic function of a CNN model</b>\n",
    "</div>"
   ]
  },
  {
   "cell_type": "code",
   "execution_count": 53,
   "id": "232f9a7d-8ff0-401d-87b7-651425fe314f",
   "metadata": {
    "execution": {
     "iopub.execute_input": "2022-04-23T19:52:21.384379Z",
     "iopub.status.busy": "2022-04-23T19:52:21.384263Z",
     "iopub.status.idle": "2022-04-23T19:52:22.742879Z",
     "shell.execute_reply": "2022-04-23T19:52:22.742491Z",
     "shell.execute_reply.started": "2022-04-23T19:52:21.384363Z"
    },
    "tags": []
   },
   "outputs": [
    {
     "data": {
      "text/plain": [
       "CNN(\n",
       "  (convnet): BasicConv1D(\n",
       "    (module): Sequential(\n",
       "      (0): Conv1d(4, 16, kernel_size=(15,), stride=(1,))\n",
       "      (1): ReLU(inplace=True)\n",
       "      (2): MaxPool1d(kernel_size=1, stride=1, padding=0, dilation=1, ceil_mode=False)\n",
       "      (3): Dropout(p=0.2, inplace=False)\n",
       "      (4): Conv1d(16, 32, kernel_size=(5,), stride=(1,))\n",
       "      (5): ReLU(inplace=True)\n",
       "      (6): MaxPool1d(kernel_size=1, stride=1, padding=0, dilation=1, ceil_mode=False)\n",
       "      (7): Dropout(p=0.2, inplace=False)\n",
       "      (8): Conv1d(32, 64, kernel_size=(5,), stride=(1,))\n",
       "      (9): ReLU(inplace=True)\n",
       "      (10): MaxPool1d(kernel_size=1, stride=1, padding=0, dilation=1, ceil_mode=False)\n",
       "      (11): Dropout(p=0.2, inplace=False)\n",
       "    )\n",
       "  )\n",
       "  (reverse_convnet): BasicConv1D(\n",
       "    (module): Sequential(\n",
       "      (0): Conv1d(4, 16, kernel_size=(15,), stride=(1,))\n",
       "      (1): ReLU(inplace=True)\n",
       "      (2): MaxPool1d(kernel_size=1, stride=1, padding=0, dilation=1, ceil_mode=False)\n",
       "      (3): Dropout(p=0.2, inplace=False)\n",
       "      (4): Conv1d(16, 32, kernel_size=(5,), stride=(1,))\n",
       "      (5): ReLU(inplace=True)\n",
       "      (6): MaxPool1d(kernel_size=1, stride=1, padding=0, dilation=1, ceil_mode=False)\n",
       "      (7): Dropout(p=0.2, inplace=False)\n",
       "      (8): Conv1d(32, 64, kernel_size=(5,), stride=(1,))\n",
       "      (9): ReLU(inplace=True)\n",
       "      (10): MaxPool1d(kernel_size=1, stride=1, padding=0, dilation=1, ceil_mode=False)\n",
       "      (11): Dropout(p=0.2, inplace=False)\n",
       "    )\n",
       "  )\n",
       "  (fcnet): BasicFullyConnectedModule(\n",
       "    (module): Sequential(\n",
       "      (0): Linear(in_features=5632, out_features=1, bias=True)\n",
       "    )\n",
       "  )\n",
       "  (accuracy): Accuracy()\n",
       "  (auroc): AUROC()\n",
       ")"
      ]
     },
     "execution_count": 53,
     "metadata": {},
     "output_type": "execute_result"
    }
   ],
   "source": [
    "cnn = CNN(input_len=66, \n",
    "          strand=\"ts\",\n",
    "          task=\"binary_classification\", \n",
    "          conv_kwargs=dict(channels=[4, 16, 32, 64], conv_kernels=[15, 5, 5], pool_kernels=[1, 1, 1], pool_strides = [1, 1, 1], dropout_rates=0.2), \n",
    "          fc_kwargs=dict(output_dim=1))\n",
    "cnn"
   ]
  },
  {
   "cell_type": "code",
   "execution_count": 54,
   "id": "5cebaa2f-c055-4002-b548-eb7b729ed7a2",
   "metadata": {
    "execution": {
     "iopub.execute_input": "2022-04-23T19:52:22.743755Z",
     "iopub.status.busy": "2022-04-23T19:52:22.743642Z",
     "iopub.status.idle": "2022-04-23T19:52:24.152616Z",
     "shell.execute_reply": "2022-04-23T19:52:24.152314Z",
     "shell.execute_reply.started": "2022-04-23T19:52:22.743740Z"
    },
    "tags": []
   },
   "outputs": [
    {
     "data": {
      "text/plain": [
       "torch.Size([10, 1])"
      ]
     },
     "execution_count": 54,
     "metadata": {},
     "output_type": "execute_result"
    }
   ],
   "source": [
    "out = cnn(x, x_rev)\n",
    "out.shape"
   ]
  },
  {
   "cell_type": "markdown",
   "id": "02e88a1a-8889-48dc-8516-3474a37e670c",
   "metadata": {},
   "source": [
    "# RNN Only"
   ]
  },
  {
   "cell_type": "code",
   "execution_count": 55,
   "id": "fd2754f7-5abc-4937-a827-e0b1ec6b94dd",
   "metadata": {
    "execution": {
     "iopub.execute_input": "2022-04-23T19:56:33.466814Z",
     "iopub.status.busy": "2022-04-23T19:56:33.466646Z",
     "iopub.status.idle": "2022-04-23T19:56:35.055503Z",
     "shell.execute_reply": "2022-04-23T19:56:35.055011Z",
     "shell.execute_reply.started": "2022-04-23T19:56:33.466797Z"
    },
    "tags": []
   },
   "outputs": [],
   "source": [
    "from eugene.models.RNN import RNN"
   ]
  },
  {
   "cell_type": "markdown",
   "id": "3a0f537d-b03a-4418-aa26-6fbdf8adc5f3",
   "metadata": {},
   "source": [
    "<div class=\"alert alert-info\" role=\"alert\">\n",
    "  <b>Just test out the basic function of a RNN model</b>\n",
    "</div>"
   ]
  },
  {
   "cell_type": "code",
   "execution_count": 71,
   "id": "cc597a0a-c05a-41cf-8f0b-2c398aa31068",
   "metadata": {
    "execution": {
     "iopub.execute_input": "2022-04-23T20:00:42.558356Z",
     "iopub.status.busy": "2022-04-23T20:00:42.558186Z",
     "iopub.status.idle": "2022-04-23T20:00:43.897150Z",
     "shell.execute_reply": "2022-04-23T20:00:43.896709Z",
     "shell.execute_reply.started": "2022-04-23T20:00:42.558339Z"
    },
    "tags": []
   },
   "outputs": [
    {
     "data": {
      "text/plain": [
       "RNN(\n",
       "  (rnn): BasicRecurrent(\n",
       "    (module): LSTM(4, 32, batch_first=True, bidirectional=True)\n",
       "  )\n",
       "  (fcnet): BasicFullyConnectedModule(\n",
       "    (module): Sequential(\n",
       "      (0): Linear(in_features=128, out_features=1, bias=True)\n",
       "    )\n",
       "  )\n",
       "  (r_squared): R2Score()\n",
       ")"
      ]
     },
     "execution_count": 71,
     "metadata": {},
     "output_type": "execute_result"
    }
   ],
   "source": [
    "rnn = RNN(input_len=66, \n",
    "          strand=\"ds\",\n",
    "          task=\"regression\",\n",
    "          rnn_kwargs=dict(output_dim=32, unit_type=\"lstm\", bidirectional=True, batch_first=True), \n",
    "          fc_kwargs=dict(output_dim=1))\n",
    "rnn"
   ]
  },
  {
   "cell_type": "code",
   "execution_count": 72,
   "id": "40f768a4-abfb-4554-b9cd-b6fc761ec5b6",
   "metadata": {
    "execution": {
     "iopub.execute_input": "2022-04-23T20:00:44.519061Z",
     "iopub.status.busy": "2022-04-23T20:00:44.518823Z",
     "iopub.status.idle": "2022-04-23T20:00:46.021229Z",
     "shell.execute_reply": "2022-04-23T20:00:46.020793Z",
     "shell.execute_reply.started": "2022-04-23T20:00:44.519035Z"
    },
    "tags": []
   },
   "outputs": [
    {
     "data": {
      "text/plain": [
       "torch.Size([10, 1])"
      ]
     },
     "execution_count": 72,
     "metadata": {},
     "output_type": "execute_result"
    }
   ],
   "source": [
    "out = rnn(x_t, x_rev_t)\n",
    "out.shape"
   ]
  },
  {
   "cell_type": "markdown",
   "id": "9a304bad-9890-46ac-a885-6c7684f59016",
   "metadata": {},
   "source": [
    "# Hybrid CNN-RNN"
   ]
  },
  {
   "cell_type": "code",
   "execution_count": 73,
   "id": "9b17f5a0-3223-4eea-b3de-18c1c1ea2490",
   "metadata": {
    "execution": {
     "iopub.execute_input": "2022-04-23T20:19:49.375424Z",
     "iopub.status.busy": "2022-04-23T20:19:49.375154Z",
     "iopub.status.idle": "2022-04-23T20:19:50.663876Z",
     "shell.execute_reply": "2022-04-23T20:19:50.663532Z",
     "shell.execute_reply.started": "2022-04-23T20:19:49.375399Z"
    },
    "tags": []
   },
   "outputs": [],
   "source": [
    "from eugene.models.hybrid import hybrid"
   ]
  },
  {
   "cell_type": "markdown",
   "id": "fa29491d-3e4c-42f0-8ad7-84941a78bf55",
   "metadata": {},
   "source": [
    "<div class=\"alert alert-info\" role=\"alert\">\n",
    "  <b>Just test out the basic function of a CNN model</b>\n",
    "</div>"
   ]
  },
  {
   "cell_type": "code",
   "execution_count": 81,
   "id": "001c1d68-f2e4-4474-a202-20c8a86667af",
   "metadata": {
    "execution": {
     "iopub.execute_input": "2022-04-23T20:23:48.335767Z",
     "iopub.status.busy": "2022-04-23T20:23:48.335617Z",
     "iopub.status.idle": "2022-04-23T20:23:49.759241Z",
     "shell.execute_reply": "2022-04-23T20:23:49.758878Z",
     "shell.execute_reply.started": "2022-04-23T20:23:48.335750Z"
    },
    "tags": []
   },
   "outputs": [
    {
     "data": {
      "text/plain": [
       "hybrid(\n",
       "  (convnet): BasicConv1D(\n",
       "    (module): Sequential(\n",
       "      (0): Conv1d(4, 16, kernel_size=(15,), stride=(1,))\n",
       "      (1): ReLU(inplace=True)\n",
       "      (2): MaxPool1d(kernel_size=1, stride=1, padding=0, dilation=1, ceil_mode=False)\n",
       "      (3): Dropout(p=0.2, inplace=False)\n",
       "      (4): Conv1d(16, 32, kernel_size=(5,), stride=(1,))\n",
       "      (5): ReLU(inplace=True)\n",
       "      (6): MaxPool1d(kernel_size=1, stride=1, padding=0, dilation=1, ceil_mode=False)\n",
       "      (7): Dropout(p=0.2, inplace=False)\n",
       "    )\n",
       "  )\n",
       "  (reverse_convnet): BasicConv1D(\n",
       "    (module): Sequential(\n",
       "      (0): Conv1d(4, 16, kernel_size=(15,), stride=(1,))\n",
       "      (1): ReLU(inplace=True)\n",
       "      (2): MaxPool1d(kernel_size=1, stride=1, padding=0, dilation=1, ceil_mode=False)\n",
       "      (3): Dropout(p=0.2, inplace=False)\n",
       "      (4): Conv1d(16, 32, kernel_size=(5,), stride=(1,))\n",
       "      (5): ReLU(inplace=True)\n",
       "      (6): MaxPool1d(kernel_size=1, stride=1, padding=0, dilation=1, ceil_mode=False)\n",
       "      (7): Dropout(p=0.2, inplace=False)\n",
       "    )\n",
       "  )\n",
       "  (recurrentnet): BasicRecurrent(\n",
       "    (module): LSTM(64, 32, batch_first=True, bidirectional=True)\n",
       "  )\n",
       "  (fcnet): BasicFullyConnectedModule(\n",
       "    (module): Sequential(\n",
       "      (0): Linear(in_features=64, out_features=1, bias=True)\n",
       "    )\n",
       "  )\n",
       "  (accuracy): Accuracy()\n",
       "  (auroc): AUROC()\n",
       ")"
      ]
     },
     "execution_count": 81,
     "metadata": {},
     "output_type": "execute_result"
    }
   ],
   "source": [
    "cnn_rnn = hybrid(input_len=66, \n",
    "                 strand=\"ts\",\n",
    "                 task=\"binary_classification\", \n",
    "                 conv_kwargs=dict(channels=[4, 16, 32], conv_kernels=[15, 5], pool_kernels=[1, 1, 1], pool_strides = [1, 1], dropout_rates=0.2), \n",
    "                 rnn_kwargs=dict(output_dim=32, unit_type=\"lstm\", bidirectional=True, batch_first=True),  \n",
    "                 fc_kwargs=dict(output_dim=1))\n",
    "cnn_rnn"
   ]
  },
  {
   "cell_type": "code",
   "execution_count": 82,
   "id": "88ae63cd-845c-4176-9b97-9b6b3b8d1f5f",
   "metadata": {
    "execution": {
     "iopub.execute_input": "2022-04-23T20:23:49.759911Z",
     "iopub.status.busy": "2022-04-23T20:23:49.759800Z",
     "iopub.status.idle": "2022-04-23T20:23:51.228095Z",
     "shell.execute_reply": "2022-04-23T20:23:51.227796Z",
     "shell.execute_reply.started": "2022-04-23T20:23:49.759895Z"
    },
    "tags": []
   },
   "outputs": [
    {
     "data": {
      "text/plain": [
       "torch.Size([10, 1])"
      ]
     },
     "execution_count": 82,
     "metadata": {},
     "output_type": "execute_result"
    }
   ],
   "source": [
    "out = cnn_rnn(x, x_rev)\n",
    "out.shape"
   ]
  },
  {
   "cell_type": "markdown",
   "id": "75046335-c815-4cd7-ae00-95e6e43e0379",
   "metadata": {},
   "source": [
    "# Scratch"
   ]
  }
 ],
 "metadata": {
  "kernelspec": {
   "display_name": "Python 3 pytorch_dev",
   "language": "python",
   "name": "pytorch_dev"
  },
  "language_info": {
   "codemirror_mode": {
    "name": "ipython",
    "version": 3
   },
   "file_extension": ".py",
   "mimetype": "text/x-python",
   "name": "python",
   "nbconvert_exporter": "python",
   "pygments_lexer": "ipython3",
   "version": "3.7.12"
  }
 },
 "nbformat": 4,
 "nbformat_minor": 5
}

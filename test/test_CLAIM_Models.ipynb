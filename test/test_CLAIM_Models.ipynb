{
 "cells": [
  {
   "cell_type": "markdown",
   "id": "661f6b58",
   "metadata": {},
   "source": [
    "# Testing CLAIM Models"
   ]
  },
  {
   "cell_type": "markdown",
   "id": "fa64213c",
   "metadata": {
    "tags": []
   },
   "source": [
    "**Authorship:**\n",
    "Adam Klie, *03/19/2022*\n",
    "***\n",
    "**Description:**\n",
    "Notebook for testing out EUGENE architectures"
   ]
  },
  {
   "cell_type": "markdown",
   "id": "0cc2e158",
   "metadata": {},
   "source": [
    "<div class=\"alert alert-block alert-warning\">\n",
    "<b>TODOs</b>:\n",
    "<ul>\n",
    "    <b><li></li></b>\n",
    "    </ul>\n",
    "</div>"
   ]
  },
  {
   "cell_type": "code",
   "execution_count": 1,
   "id": "fdbc9d9e",
   "metadata": {
    "execution": {
     "iopub.execute_input": "2022-04-17T00:16:26.535464Z",
     "iopub.status.busy": "2022-04-17T00:16:26.535255Z",
     "iopub.status.idle": "2022-04-17T00:16:31.695080Z",
     "shell.execute_reply": "2022-04-17T00:16:31.694620Z",
     "shell.execute_reply.started": "2022-04-17T00:16:26.535409Z"
    },
    "tags": []
   },
   "outputs": [],
   "source": [
    "import numpy as np\n",
    "import pandas as pd\n",
    "import torch\n",
    "\n",
    "# Autoreload extension\n",
    "if 'autoreload' not in get_ipython().extension_manager.loaded:\n",
    "    %load_ext autoreload\n",
    "%autoreload 2\n",
    "\n",
    "import claim.modules as cm"
   ]
  },
  {
   "cell_type": "markdown",
   "id": "4529126c-6ec8-47af-9772-a19d7d0e9815",
   "metadata": {},
   "source": [
    "# CNN"
   ]
  },
  {
   "cell_type": "code",
   "execution_count": 2,
   "id": "50741e11-4285-4ce2-a506-064d7373cffe",
   "metadata": {
    "execution": {
     "iopub.execute_input": "2022-04-17T00:16:31.695926Z",
     "iopub.status.busy": "2022-04-17T00:16:31.695812Z",
     "iopub.status.idle": "2022-04-17T00:16:53.820077Z",
     "shell.execute_reply": "2022-04-17T00:16:53.819671Z",
     "shell.execute_reply.started": "2022-04-17T00:16:31.695911Z"
    },
    "tags": []
   },
   "outputs": [],
   "source": [
    "from eugene.models.CNN import CNN"
   ]
  },
  {
   "cell_type": "markdown",
   "id": "77387429",
   "metadata": {},
   "source": [
    "<div class=\"alert alert-info\" role=\"alert\">\n",
    "  <b>Just test out the basic function of a CNN model</b>\n",
    "</div>"
   ]
  },
  {
   "cell_type": "code",
   "execution_count": 3,
   "id": "232f9a7d-8ff0-401d-87b7-651425fe314f",
   "metadata": {
    "execution": {
     "iopub.execute_input": "2022-04-17T00:16:53.820951Z",
     "iopub.status.busy": "2022-04-17T00:16:53.820836Z",
     "iopub.status.idle": "2022-04-17T00:16:55.317331Z",
     "shell.execute_reply": "2022-04-17T00:16:55.317021Z",
     "shell.execute_reply.started": "2022-04-17T00:16:53.820935Z"
    },
    "tags": []
   },
   "outputs": [
    {
     "data": {
      "text/plain": [
       "CNN(\n",
       "  (convnet): BasicConv1D(\n",
       "    (module): Sequential(\n",
       "      (0): Conv1d(4, 16, kernel_size=(15,), stride=(1,))\n",
       "      (1): ReLU(inplace=True)\n",
       "      (2): MaxPool1d(kernel_size=1, stride=1, padding=0, dilation=1, ceil_mode=False)\n",
       "      (3): Dropout(p=0.2, inplace=False)\n",
       "      (4): Conv1d(16, 32, kernel_size=(5,), stride=(1,))\n",
       "      (5): ReLU(inplace=True)\n",
       "      (6): MaxPool1d(kernel_size=1, stride=1, padding=0, dilation=1, ceil_mode=False)\n",
       "      (7): Dropout(p=0.2, inplace=False)\n",
       "      (8): Conv1d(32, 64, kernel_size=(5,), stride=(1,))\n",
       "      (9): ReLU(inplace=True)\n",
       "      (10): MaxPool1d(kernel_size=1, stride=1, padding=0, dilation=1, ceil_mode=False)\n",
       "      (11): Dropout(p=0.2, inplace=False)\n",
       "    )\n",
       "  )\n",
       "  (fcnet): BasicFullyConnectedModule(\n",
       "    (module): Sequential(\n",
       "      (0): Linear(in_features=2816, out_features=1, bias=True)\n",
       "    )\n",
       "  )\n",
       "  (r_squared): R2Score()\n",
       ")"
      ]
     },
     "execution_count": 3,
     "metadata": {},
     "output_type": "execute_result"
    }
   ],
   "source": [
    "cnn = CNN(ds=False, classification=False, conv_kwargs=dict(input_len=66, channels=[4, 16, 32, 64], conv_kernels=[15, 5, 5], pool_kernels=[1, 1, 1], pool_strides = [1, 1, 1], dropout_rates=0.2), fc_kwargs=dict(output_dim=1))\n",
    "cnn"
   ]
  },
  {
   "cell_type": "code",
   "execution_count": 5,
   "id": "03ed69eb-82fe-4ee6-9d75-75edfe87a6bb",
   "metadata": {
    "execution": {
     "iopub.execute_input": "2022-04-17T00:34:01.199735Z",
     "iopub.status.busy": "2022-04-17T00:34:01.199556Z",
     "iopub.status.idle": "2022-04-17T00:34:02.191025Z",
     "shell.execute_reply": "2022-04-17T00:34:02.190722Z",
     "shell.execute_reply.started": "2022-04-17T00:34:01.199716Z"
    },
    "tags": []
   },
   "outputs": [
    {
     "data": {
      "text/plain": [
       "torch.Size([10, 1])"
      ]
     },
     "execution_count": 5,
     "metadata": {},
     "output_type": "execute_result"
    }
   ],
   "source": [
    "x = torch.randn(10, 4, 66)\n",
    "out = cnn(x, x)\n",
    "out.shape"
   ]
  },
  {
   "cell_type": "markdown",
   "id": "3cb42222",
   "metadata": {},
   "source": [
    "# BasicConv1D module\n",
    "<div class=\"alert alert-info\" role=\"alert\">\n",
    "  <b>Generate a `conv_out` to pass to the recurrent module</b>\n",
    "</div>"
   ]
  },
  {
   "cell_type": "code",
   "execution_count": 4,
   "id": "3ce3f56e",
   "metadata": {
    "execution": {
     "iopub.execute_input": "2022-04-15T20:15:51.640780Z",
     "iopub.status.busy": "2022-04-15T20:15:51.640546Z",
     "iopub.status.idle": "2022-04-15T20:15:52.383214Z",
     "shell.execute_reply": "2022-04-15T20:15:52.382719Z",
     "shell.execute_reply.started": "2022-04-15T20:15:51.640747Z"
    },
    "tags": []
   },
   "outputs": [],
   "source": [
    "convnet = cm.BasicConv1D(input_len=66, channels=[4, 16, 32, 64], conv_kernels=[15, 5, 5], pool_kernels=[1, 1, 1], pool_strides = [1, 1, 1], dropout_rates=0.2)"
   ]
  },
  {
   "cell_type": "code",
   "execution_count": 5,
   "id": "aa464490",
   "metadata": {
    "execution": {
     "iopub.execute_input": "2022-04-15T20:15:52.384130Z",
     "iopub.status.busy": "2022-04-15T20:15:52.384003Z",
     "iopub.status.idle": "2022-04-15T20:15:53.086723Z",
     "shell.execute_reply": "2022-04-15T20:15:53.086336Z",
     "shell.execute_reply.started": "2022-04-15T20:15:52.384114Z"
    },
    "tags": []
   },
   "outputs": [
    {
     "data": {
      "text/plain": [
       "torch.Size([10, 64, 44])"
      ]
     },
     "execution_count": 5,
     "metadata": {},
     "output_type": "execute_result"
    }
   ],
   "source": [
    "x = torch.randn(10, 4, 66)\n",
    "conv_out = convnet(x)\n",
    "assert conv_out.shape[1]*conv_out.shape[2] == convnet.flatten_dim\n",
    "conv_out.shape"
   ]
  },
  {
   "cell_type": "markdown",
   "id": "8260dd27",
   "metadata": {},
   "source": [
    "# BasicRecurrent module\n",
    "<div class=\"alert alert-info\" role=\"alert\">\n",
    "  <b>Takes in input from the `convnet` and applies an RNN to it</b>\n",
    "</div>"
   ]
  },
  {
   "cell_type": "markdown",
   "id": "0a1fe735",
   "metadata": {},
   "source": [
    "<div class=\"alert alert-info\" role=\"alert\">\n",
    "  Start with a basic test of the architecture\n",
    "</div>"
   ]
  },
  {
   "cell_type": "code",
   "execution_count": 6,
   "id": "fda76cf7",
   "metadata": {
    "execution": {
     "iopub.execute_input": "2022-04-15T20:15:54.640417Z",
     "iopub.status.busy": "2022-04-15T20:15:54.640276Z",
     "iopub.status.idle": "2022-04-15T20:15:55.389333Z",
     "shell.execute_reply": "2022-04-15T20:15:55.388821Z",
     "shell.execute_reply.started": "2022-04-15T20:15:54.640399Z"
    },
    "tags": []
   },
   "outputs": [],
   "source": [
    "rnn = cm.BasicRecurrent(input_dim=4, output_dim=32, unit_type=\"lstm\", batch_first=True)"
   ]
  },
  {
   "cell_type": "code",
   "execution_count": 7,
   "id": "6d7779d7",
   "metadata": {
    "execution": {
     "iopub.execute_input": "2022-04-15T20:15:55.390199Z",
     "iopub.status.busy": "2022-04-15T20:15:55.390040Z",
     "iopub.status.idle": "2022-04-15T20:15:56.488379Z",
     "shell.execute_reply": "2022-04-15T20:15:56.487885Z",
     "shell.execute_reply.started": "2022-04-15T20:15:55.390177Z"
    },
    "tags": []
   },
   "outputs": [
    {
     "name": "stdout",
     "output_type": "stream",
     "text": [
      "torch.Size([10, 66, 32]) torch.Size([1, 10, 32]) torch.Size([1, 10, 32])\n"
     ]
    }
   ],
   "source": [
    "x = torch.randn(10, 66, 4)\n",
    "out, (seq, hidden) = rnn(x)\n",
    "print(out.shape, seq.shape, hidden.shape)"
   ]
  },
  {
   "cell_type": "markdown",
   "id": "d7b9b9f0",
   "metadata": {},
   "source": [
    "<div class=\"alert alert-info\" role=\"alert\">\n",
    "  Now pass in the conv_out\n",
    "</div>"
   ]
  },
  {
   "cell_type": "code",
   "execution_count": 8,
   "id": "2d1afea6",
   "metadata": {
    "execution": {
     "iopub.execute_input": "2022-04-15T20:15:56.490676Z",
     "iopub.status.busy": "2022-04-15T20:15:56.490552Z",
     "iopub.status.idle": "2022-04-15T20:15:57.275614Z",
     "shell.execute_reply": "2022-04-15T20:15:57.275168Z",
     "shell.execute_reply.started": "2022-04-15T20:15:56.490660Z"
    },
    "tags": []
   },
   "outputs": [
    {
     "data": {
      "text/plain": [
       "BasicRecurrent(\n",
       "  (module): LSTM(64, 32, batch_first=True)\n",
       ")"
      ]
     },
     "execution_count": 8,
     "metadata": {},
     "output_type": "execute_result"
    }
   ],
   "source": [
    "rnn = cm.BasicRecurrent(input_dim=conv_out.shape[1], output_dim=32, unit_type=\"lstm\", bidirectional=False, batch_first=True)\n",
    "rnn"
   ]
  },
  {
   "cell_type": "code",
   "execution_count": 9,
   "id": "bcd8d797",
   "metadata": {
    "execution": {
     "iopub.execute_input": "2022-04-15T20:15:57.276493Z",
     "iopub.status.busy": "2022-04-15T20:15:57.276365Z",
     "iopub.status.idle": "2022-04-15T20:15:57.945084Z",
     "shell.execute_reply": "2022-04-15T20:15:57.944641Z",
     "shell.execute_reply.started": "2022-04-15T20:15:57.276477Z"
    },
    "tags": []
   },
   "outputs": [
    {
     "data": {
      "text/plain": [
       "(torch.Size([10, 44, 32]), torch.Size([10, 32]), 32)"
      ]
     },
     "execution_count": 9,
     "metadata": {},
     "output_type": "execute_result"
    }
   ],
   "source": [
    "rnn_out, _ = rnn(conv_out.transpose(1, 2))\n",
    "rnn_out.shape, rnn_out[:, -1, :].shape, rnn.out_dim"
   ]
  },
  {
   "cell_type": "markdown",
   "id": "9967c080",
   "metadata": {},
   "source": [
    "# Fully connected module\n",
    "<div class=\"alert alert-info\" role=\"alert\">\n",
    "  <b>Takes in input from anywhere (CNN, RNN, etc)</b>\n",
    "</div>\n"
   ]
  },
  {
   "cell_type": "markdown",
   "id": "92827693",
   "metadata": {},
   "source": [
    "<div class=\"alert alert-info\" role=\"alert\">\n",
    "  Start with a basic test of the architecture\n",
    "</div>"
   ]
  },
  {
   "cell_type": "code",
   "execution_count": 10,
   "id": "30952266",
   "metadata": {
    "execution": {
     "iopub.execute_input": "2022-04-15T20:15:58.746647Z",
     "iopub.status.busy": "2022-04-15T20:15:58.746516Z",
     "iopub.status.idle": "2022-04-15T20:15:59.636093Z",
     "shell.execute_reply": "2022-04-15T20:15:59.635602Z",
     "shell.execute_reply.started": "2022-04-15T20:15:58.746630Z"
    },
    "tags": []
   },
   "outputs": [
    {
     "data": {
      "text/plain": [
       "BasicFullyConnectedModule(\n",
       "  (module): Sequential(\n",
       "    (0): Linear(in_features=100, out_features=25, bias=True)\n",
       "    (1): ReLU(inplace=True)\n",
       "    (2): Dropout(p=0.2, inplace=False)\n",
       "    (3): BatchNorm1d(25, eps=1e-05, momentum=0.1, affine=True, track_running_stats=True)\n",
       "    (4): Linear(in_features=25, out_features=5, bias=True)\n",
       "    (5): ReLU(inplace=True)\n",
       "    (6): Dropout(p=0.2, inplace=False)\n",
       "    (7): BatchNorm1d(5, eps=1e-05, momentum=0.1, affine=True, track_running_stats=True)\n",
       "    (8): Linear(in_features=5, out_features=5, bias=True)\n",
       "    (9): ReLU(inplace=True)\n",
       "    (10): Dropout(p=0.2, inplace=False)\n",
       "    (11): BatchNorm1d(5, eps=1e-05, momentum=0.1, affine=True, track_running_stats=True)\n",
       "    (12): Linear(in_features=5, out_features=1, bias=True)\n",
       "  )\n",
       ")"
      ]
     },
     "execution_count": 10,
     "metadata": {},
     "output_type": "execute_result"
    }
   ],
   "source": [
    "fcnet = cm.BasicFullyConnectedModule(100, 1, [25, 5, 5], activation=\"relu\", dropout_rate=0.2, batchnorm=True)\n",
    "fcnet"
   ]
  },
  {
   "cell_type": "code",
   "execution_count": 11,
   "id": "0ec0ce8e",
   "metadata": {
    "execution": {
     "iopub.execute_input": "2022-04-15T20:15:59.636926Z",
     "iopub.status.busy": "2022-04-15T20:15:59.636797Z",
     "iopub.status.idle": "2022-04-15T20:16:00.365765Z",
     "shell.execute_reply": "2022-04-15T20:16:00.365359Z",
     "shell.execute_reply.started": "2022-04-15T20:15:59.636899Z"
    },
    "tags": []
   },
   "outputs": [
    {
     "data": {
      "text/plain": [
       "torch.Size([10, 1])"
      ]
     },
     "execution_count": 11,
     "metadata": {},
     "output_type": "execute_result"
    }
   ],
   "source": [
    "x = torch.randn(10, 100)\n",
    "out = fcnet(x)\n",
    "assert out.shape[1] == 1\n",
    "out.shape"
   ]
  },
  {
   "cell_type": "markdown",
   "id": "48fcea8d",
   "metadata": {},
   "source": [
    "<div class=\"alert alert-info\" role=\"alert\">\n",
    "  Test the conv_out too\n",
    "</div>"
   ]
  },
  {
   "cell_type": "code",
   "execution_count": 12,
   "id": "b75dfb99",
   "metadata": {
    "execution": {
     "iopub.execute_input": "2022-04-15T20:16:07.391649Z",
     "iopub.status.busy": "2022-04-15T20:16:07.391478Z",
     "iopub.status.idle": "2022-04-15T20:16:08.225868Z",
     "shell.execute_reply": "2022-04-15T20:16:08.225434Z",
     "shell.execute_reply.started": "2022-04-15T20:16:07.391631Z"
    },
    "tags": []
   },
   "outputs": [
    {
     "data": {
      "text/plain": [
       "BasicFullyConnectedModule(\n",
       "  (module): Sequential(\n",
       "    (0): Linear(in_features=2816, out_features=25, bias=True)\n",
       "    (1): ReLU(inplace=True)\n",
       "    (2): Dropout(p=0.2, inplace=False)\n",
       "    (3): BatchNorm1d(25, eps=1e-05, momentum=0.1, affine=True, track_running_stats=True)\n",
       "    (4): Linear(in_features=25, out_features=5, bias=True)\n",
       "    (5): ReLU(inplace=True)\n",
       "    (6): Dropout(p=0.2, inplace=False)\n",
       "    (7): BatchNorm1d(5, eps=1e-05, momentum=0.1, affine=True, track_running_stats=True)\n",
       "    (8): Linear(in_features=5, out_features=5, bias=True)\n",
       "    (9): ReLU(inplace=True)\n",
       "    (10): Dropout(p=0.2, inplace=False)\n",
       "    (11): BatchNorm1d(5, eps=1e-05, momentum=0.1, affine=True, track_running_stats=True)\n",
       "    (12): Linear(in_features=5, out_features=1, bias=True)\n",
       "  )\n",
       ")"
      ]
     },
     "execution_count": 12,
     "metadata": {},
     "output_type": "execute_result"
    }
   ],
   "source": [
    "fcnet = cm.BasicFullyConnectedModule(convnet.flatten_dim, 1, [25, 5, 5], activation=\"relu\", dropout_rate=0.2, batchnorm=True)\n",
    "fcnet"
   ]
  },
  {
   "cell_type": "code",
   "execution_count": 19,
   "id": "538aa842",
   "metadata": {
    "execution": {
     "iopub.execute_input": "2022-04-03T21:01:36.773913Z",
     "iopub.status.busy": "2022-04-03T21:01:36.773766Z",
     "iopub.status.idle": "2022-04-03T21:01:37.735263Z",
     "shell.execute_reply": "2022-04-03T21:01:37.734955Z",
     "shell.execute_reply.started": "2022-04-03T21:01:36.773896Z"
    },
    "tags": []
   },
   "outputs": [
    {
     "data": {
      "text/plain": [
       "torch.Size([10, 1])"
      ]
     },
     "execution_count": 19,
     "metadata": {},
     "output_type": "execute_result"
    }
   ],
   "source": [
    "out = fcnet(conv_out.view(out.size(0), convnet.flatten_dim))\n",
    "assert out.shape[1] == 1\n",
    "out.shape"
   ]
  },
  {
   "cell_type": "markdown",
   "id": "96ade597",
   "metadata": {},
   "source": [
    "<div class=\"alert alert-info\" role=\"alert\">\n",
    "  Finally, pass in the rnn_out\n",
    "</div>"
   ]
  },
  {
   "cell_type": "code",
   "execution_count": 23,
   "id": "25c779cc",
   "metadata": {
    "execution": {
     "iopub.execute_input": "2022-04-03T21:01:46.744870Z",
     "iopub.status.busy": "2022-04-03T21:01:46.744626Z",
     "iopub.status.idle": "2022-04-03T21:01:47.383502Z",
     "shell.execute_reply": "2022-04-03T21:01:47.383176Z",
     "shell.execute_reply.started": "2022-04-03T21:01:46.744851Z"
    },
    "tags": []
   },
   "outputs": [
    {
     "data": {
      "text/plain": [
       "BasicFullyConnectedModule(\n",
       "  (module): Sequential(\n",
       "    (0): Linear(in_features=32, out_features=25, bias=True)\n",
       "    (1): ReLU(inplace=True)\n",
       "    (2): Dropout(p=0.2, inplace=False)\n",
       "    (3): BatchNorm1d(25, eps=1e-05, momentum=0.1, affine=True, track_running_stats=True)\n",
       "    (4): Linear(in_features=25, out_features=5, bias=True)\n",
       "    (5): ReLU(inplace=True)\n",
       "    (6): Dropout(p=0.2, inplace=False)\n",
       "    (7): BatchNorm1d(5, eps=1e-05, momentum=0.1, affine=True, track_running_stats=True)\n",
       "    (8): Linear(in_features=5, out_features=5, bias=True)\n",
       "    (9): ReLU(inplace=True)\n",
       "    (10): Dropout(p=0.2, inplace=False)\n",
       "    (11): BatchNorm1d(5, eps=1e-05, momentum=0.1, affine=True, track_running_stats=True)\n",
       "    (12): Linear(in_features=5, out_features=4, bias=True)\n",
       "  )\n",
       ")"
      ]
     },
     "execution_count": 23,
     "metadata": {},
     "output_type": "execute_result"
    }
   ],
   "source": [
    "num_classes=4\n",
    "fcnet = cm.BasicFullyConnectedModule(rnn.out_dim, num_classes, [25, 5, 5], activation=\"relu\", dropout_rate=0.2, batchnorm=True)\n",
    "fcnet"
   ]
  },
  {
   "cell_type": "code",
   "execution_count": 24,
   "id": "53c02111",
   "metadata": {
    "execution": {
     "iopub.execute_input": "2022-04-03T21:01:47.621783Z",
     "iopub.status.busy": "2022-04-03T21:01:47.620542Z",
     "iopub.status.idle": "2022-04-03T21:01:48.062286Z",
     "shell.execute_reply": "2022-04-03T21:01:48.061964Z",
     "shell.execute_reply.started": "2022-04-03T21:01:47.621763Z"
    },
    "tags": []
   },
   "outputs": [
    {
     "data": {
      "text/plain": [
       "torch.Size([10, 4])"
      ]
     },
     "execution_count": 24,
     "metadata": {},
     "output_type": "execute_result"
    }
   ],
   "source": [
    "out = fcnet(rnn_out[:, -1, :])\n",
    "assert out.shape[1] == num_classes\n",
    "out.shape"
   ]
  }
 ],
 "metadata": {
  "kernelspec": {
   "display_name": "Python 3 pytorch_dev",
   "language": "python",
   "name": "pytorch_dev"
  },
  "language_info": {
   "codemirror_mode": {
    "name": "ipython",
    "version": 3
   },
   "file_extension": ".py",
   "mimetype": "text/x-python",
   "name": "python",
   "nbconvert_exporter": "python",
   "pygments_lexer": "ipython3",
   "version": "3.7.12"
  }
 },
 "nbformat": 4,
 "nbformat_minor": 5
}

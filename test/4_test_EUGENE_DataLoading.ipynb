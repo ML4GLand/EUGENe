{
 "cells": [
  {
   "cell_type": "markdown",
   "id": "c3daa03e",
   "metadata": {},
   "source": [
    "# Testing Sequence Dataloading"
   ]
  },
  {
   "cell_type": "markdown",
   "id": "91689580",
   "metadata": {
    "tags": []
   },
   "source": [
    "**Authorship:**\n",
    "Adam Klie, *03/02/2022*\n",
    "***\n",
    "**Description:**\n",
    "Notebook for testing out PyTorch DataLoading for SeqDataSet and SeqDataModule classes\n",
    "\n",
    "<div class=\"alert alert-block alert-warning\">\n",
    "<b>TODOs</b>:\n",
    "<ul>\n",
    "    <b><li>Add test cases for each step</li></b>\n",
    "    <b><li>Feel like initial loading will break given certain data</li></b>\n",
    "    </ul>\n",
    "</div>"
   ]
  },
  {
   "cell_type": "code",
   "execution_count": 52,
   "id": "92833b89",
   "metadata": {
    "execution": {
     "iopub.execute_input": "2022-04-24T18:43:50.141019Z",
     "iopub.status.busy": "2022-04-24T18:43:50.140893Z",
     "iopub.status.idle": "2022-04-24T18:43:57.795293Z",
     "shell.execute_reply": "2022-04-24T18:43:57.794764Z",
     "shell.execute_reply.started": "2022-04-24T18:43:50.140980Z"
    },
    "tags": []
   },
   "outputs": [],
   "source": [
    "# Classics\n",
    "import numpy as np\n",
    "import pandas as pd\n",
    "\n",
    "# Autoreload extension\n",
    "if 'autoreload' not in get_ipython().extension_manager.loaded:\n",
    "    %load_ext autoreload\n",
    "%autoreload 2\n",
    "\n",
    "import eugene"
   ]
  },
  {
   "cell_type": "code",
   "execution_count": 81,
   "id": "43f33d13",
   "metadata": {
    "execution": {
     "iopub.execute_input": "2022-04-24T18:43:57.798361Z",
     "iopub.status.busy": "2022-04-24T18:43:57.798250Z",
     "iopub.status.idle": "2022-04-24T18:43:58.897514Z",
     "shell.execute_reply": "2022-04-24T18:43:58.897021Z",
     "shell.execute_reply.started": "2022-04-24T18:43:57.798345Z"
    },
    "tags": []
   },
   "outputs": [],
   "source": [
    "# Define directories\n",
    "OLS_TSV = \"/cellar/users/aklie/projects/EUGENE/data/2021_OLS_Library/2021_OLS_Library.tsv\"\n",
    "NUMPY_OHE = \"/cellar/users/aklie/projects/EUGENE/data/2021_OLS_Library/ohe_seq/0.09-0.4_X-train-0.9_ohe-seq.npy\"\n",
    "FASTA_SEQS = \"/cellar/users/aklie/projects/EUGENE/data/2021_OLS_Library/fasta/0.09-0.4_X-test-0.1_fasta.fa\"\n",
    "BINARY_TARGET = \"/cellar/users/aklie/projects/EUGENE/data/2021_OLS_Library/binary/0.09-0.4_y-train-0.9_binary.txt\""
   ]
  },
  {
   "cell_type": "markdown",
   "id": "7ff23967",
   "metadata": {
    "tags": []
   },
   "source": [
    "# SeqDataset, DataLoader, SeqDataModule Classes\n",
    "PyTorch Dataset class for loading sequence data. Here tare the steps for loading:\n",
    " 1. Load the dataset from files of different supported types using functions from `datasets._io.py`\n",
    " 2. Generate an `SeqDataset` object from sequences and targets\n",
    "     - Pass in the seqs and targets\n",
    "     - Compose `torchvision.transforms`\n",
    " 3. Pass the dataset to DataLoader\n",
    " 4. PyTorch Lightning DataModule class for MPRA data that allows for asbtracting most of the dataloading process. These DataModules can be passed straight to trainers for model training."
   ]
  },
  {
   "cell_type": "markdown",
   "id": "c9beb761",
   "metadata": {},
   "source": [
    "# Load a random dataset from a CSV file using `load_csv`"
   ]
  },
  {
   "cell_type": "code",
   "execution_count": 86,
   "id": "8eb6c198",
   "metadata": {
    "execution": {
     "iopub.execute_input": "2022-04-24T19:07:55.150769Z",
     "iopub.status.busy": "2022-04-24T19:07:55.150549Z",
     "iopub.status.idle": "2022-04-24T19:07:56.104719Z",
     "shell.execute_reply": "2022-04-24T19:07:56.104224Z",
     "shell.execute_reply.started": "2022-04-24T19:07:55.150749Z"
    },
    "tags": []
   },
   "outputs": [
    {
     "name": "stdout",
     "output_type": "stream",
     "text": [
      "seq001 100 GTAGG 100 CCTAC 0.0\n",
      "tensor([115., 101., 113.,  48.,  48.,  49.]) tensor([[0., 0., 1., 0.],\n",
      "        [0., 0., 0., 1.],\n",
      "        [1., 0., 0., 0.],\n",
      "        [0., 0., 1., 0.],\n",
      "        [0., 0., 1., 0.]]) tensor([[0., 0., 1., 0.],\n",
      "        [0., 1., 0., 0.],\n",
      "        [0., 0., 0., 1.],\n",
      "        [0., 0., 0., 1.],\n",
      "        [0., 1., 0., 0.]]) tensor(0.)\n",
      "0 torch.Size([66, 4]) torch.Size([66, 4]) tensor(0.)\n",
      "1 torch.Size([66, 4]) torch.Size([66, 4]) tensor(1.)\n",
      "2 torch.Size([66, 4]) torch.Size([66, 4]) tensor(1.)\n",
      "3 torch.Size([66, 4]) torch.Size([66, 4]) tensor(0.)\n",
      "0 torch.Size([32, 66, 4]) torch.Size([32, 66, 4]) torch.Size([32])\n",
      "1 torch.Size([32, 66, 4]) torch.Size([32, 66, 4]) torch.Size([32])\n",
      "2 torch.Size([32, 66, 4]) torch.Size([32, 66, 4]) torch.Size([32])\n",
      "3 torch.Size([4, 66, 4]) torch.Size([4, 66, 4]) torch.Size([4])\n"
     ]
    }
   ],
   "source": [
    "from eugene.datasets import load_csv\n",
    "from eugene.dataloading.dataloaders import SeqDataset\n",
    "from eugene.dataloading import Augment, ReverseComplement, OneHotEncode, ToTensor\n",
    "from torchvision import transforms\n",
    "\n",
    "# Load the sequences as numpy arrays\n",
    "names, seqs, rev_seqs, targets = load_csv(\"test_100seqs_66/test_seqs.tsv\", seq_col=\"SEQ\", name_col=\"NAME\", target_col=\"LABEL\", rev_comp=True)\n",
    "print(names[0], len(seqs), seqs[0][:5], len(rev_seqs), rev_seqs[0][-5:], targets[0])\n",
    "\n",
    "# Compose different data transforms for this particular load\n",
    "data_transform = transforms.Compose([\n",
    "    Augment(randomize_linker_p=0.1, enhancer=\"WT-otx-a\"), ReverseComplement(ohe_encoded=False), OneHotEncode(), ToTensor(transpose=False)\n",
    "])\n",
    "\n",
    "# Instantiate a Dataset\n",
    "test_dataset = SeqDataset(seqs, names=names, targets=targets, transform=data_transform)\n",
    "print(test_dataset[0][0], test_dataset[0][1][:5], test_dataset[0][2][:5], test_dataset[0][3])\n",
    "\n",
    "# Check the Dataset Class\n",
    "for i in range(len(test_dataset)):\n",
    "    sample = test_dataset[i]\n",
    "    print(i, sample[1].size(), sample[2].size(), sample[3])\n",
    "    if i == 3:\n",
    "        break\n",
    "\n",
    "# Instantiate a DataLoader\n",
    "test_dataloader = DataLoader(test_dataset, batch_size=32, shuffle=True, num_workers=0)\n",
    "\n",
    "# Check the DataLoader\n",
    "for i_batch, sample_batched in enumerate(test_dataloader):\n",
    "    print(i_batch, sample_batched[1].size(), sample_batched[2].size(), sample_batched[3].size())\n",
    "    # observe 4th batch and stop.\n",
    "    if i_batch == 3:\n",
    "        break\n",
    "\n",
    "# SeqDataModule\n",
    "test_datamod = SeqDataModule(\"test_100seqs_66/test_seqs.tsv\")"
   ]
  },
  {
   "cell_type": "markdown",
   "id": "01dd3481",
   "metadata": {},
   "source": [
    "# Load real `ols` dataset from `datasets` module"
   ]
  },
  {
   "cell_type": "code",
   "execution_count": 98,
   "id": "13b9491d",
   "metadata": {},
   "outputs": [
    {
     "name": "stdout",
     "output_type": "stream",
     "text": [
      "S1-G1R-S2-E1F-S3-E2F-S4-G2R-S5-G3F-S6 460800 CATCT None 0.6117667250932141\n",
      "tensor([83., 49., 45., 71., 49., 82., 45., 83., 50., 45., 69., 49., 70., 45.,\n",
      "        83., 51., 45., 69., 50., 70., 45., 83., 52., 45., 71., 50., 82., 45.,\n",
      "        83., 53., 45., 71., 51., 70., 45., 83., 54.]) tensor([[0., 1., 0., 0.],\n",
      "        [1., 0., 0., 0.],\n",
      "        [0., 0., 0., 1.],\n",
      "        [0., 1., 0., 0.],\n",
      "        [0., 0., 0., 1.]]) tensor([[0., 0., 0., 1.],\n",
      "        [0., 1., 0., 0.],\n",
      "        [0., 1., 0., 0.],\n",
      "        [0., 0., 0., 1.],\n",
      "        [1., 0., 0., 0.]]) tensor(0.6118)\n",
      "0 torch.Size([66, 4]) torch.Size([66, 4]) tensor(0.6118)\n",
      "1 torch.Size([66, 4]) torch.Size([66, 4]) tensor(0.3130)\n",
      "2 torch.Size([66, 4]) torch.Size([66, 4]) tensor(0.3871)\n",
      "3 torch.Size([66, 4]) torch.Size([66, 4]) tensor(0.)\n",
      "0 torch.Size([32, 66, 4]) torch.Size([32, 66, 4]) torch.Size([32])\n",
      "1 torch.Size([32, 66, 4]) torch.Size([32, 66, 4]) torch.Size([32])\n",
      "2 torch.Size([32, 66, 4]) torch.Size([32, 66, 4]) torch.Size([32])\n",
      "3 torch.Size([32, 66, 4]) torch.Size([32, 66, 4]) torch.Size([32])\n"
     ]
    }
   ],
   "source": [
    "# Load from `datasets` module\n",
    "names, seqs, rev_seqs, targets = eugene.datasets.ols()\n",
    "print(names[0], len(seqs), seqs[0][:5], rev_seqs, targets[0])\n",
    "\n",
    "# Compose different data transforms for this particular load\n",
    "data_transform = transforms.Compose([\n",
    "    Augment(randomize_linker_p=0.1, enhancer=\"WT-otx-a\"), ReverseComplement(ohe_encoded=False), OneHotEncode(), ToTensor(transpose=False)\n",
    "])\n",
    "\n",
    "# Instantiate a Dataset\n",
    "test_dataset = SeqDataset(seqs, names=names, targets=targets, transform=data_transform)\n",
    "print(test_dataset[0][0], test_dataset[0][1][:5], test_dataset[0][2][:5], test_dataset[0][3])\n",
    "\n",
    "# Check the Dataset Class\n",
    "for i in range(len(test_dataset)):\n",
    "    sample = test_dataset[i]\n",
    "    print(i, sample[1].size(), sample[2].size(), sample[3])\n",
    "    if i == 3:\n",
    "        break\n",
    "\n",
    "# Instantiate a DataLoader\n",
    "test_dataloader = DataLoader(test_dataset, batch_size=32, shuffle=True, num_workers=0)\n",
    "\n",
    "# Check the DataLoader\n",
    "for i_batch, sample_batched in enumerate(test_dataloader):\n",
    "    print(i_batch, sample_batched[1].size(), sample_batched[2].size(), sample_batched[3].size())\n",
    "    # observe 4th batch and stop.\n",
    "    if i_batch == 3:\n",
    "        break\n",
    "\n",
    "# SeqDataModule\n",
    "# Can we go from SeqDataset ro SeqDataModule?"
   ]
  },
  {
   "cell_type": "markdown",
   "id": "f1f4bbd5",
   "metadata": {
    "tags": [],
    "toc-hr-collapsed": true
   },
   "source": [
    "# Load a random dataset from Numpy arrays using `load_numpy`"
   ]
  },
  {
   "cell_type": "code",
   "execution_count": 99,
   "id": "c3484f86",
   "metadata": {
    "execution": {
     "iopub.execute_input": "2022-04-17T00:48:26.449744Z",
     "iopub.status.busy": "2022-04-17T00:48:26.449576Z",
     "iopub.status.idle": "2022-04-17T00:48:27.048932Z",
     "shell.execute_reply": "2022-04-17T00:48:27.048425Z",
     "shell.execute_reply.started": "2022-04-17T00:48:26.449726Z"
    },
    "tags": []
   },
   "outputs": [
    {
     "name": "stdout",
     "output_type": "stream",
     "text": [
      "0 torch.Size([6]) torch.Size([1000, 4]) torch.Size([66, 4]) tensor([-1.])\n",
      "1 torch.Size([6]) torch.Size([1000, 4]) torch.Size([66, 4]) tensor([-1.])\n",
      "2 torch.Size([6]) torch.Size([1000, 4]) torch.Size([66, 4]) tensor([-1.])\n",
      "3 torch.Size([6]) torch.Size([1000, 4]) torch.Size([66, 4]) tensor([-1.])\n"
     ]
    }
   ],
   "source": [
    "from eugene.datasets import load_numpy\n",
    "\n",
    "# Load the sequences as numpy arrays\n",
    "names, seqs, rev_seqs, targets = load_numpy(\"../data/2021_OLS_Library/ohe_seq/0.09-0.4_X-all_ohe-seq.npy\",\n",
    "                                            target_file=\"../data/2021_OLS_Library/binary/0.09-0.4_y-all_binary.txt\",\n",
    "                                            is_target_text=True)\n",
    "names, seqs[0][:5], rev_seqs, targets[0]\n",
    "\n",
    "# Load the sequences as numpy arrays\n",
    "names, seqs, rev_seqs, targets = load_numpy(\"test_100seqs_1000/test_ohe_seqs.npy\", \n",
    "                                            target_file=\"test_100seqs_66/test_labels.npy\",\n",
    "                                            names_file=\"test_100seqs_66/test_ids.npy\", \n",
    "                                            rev_seq_file=\"test_100seqs_66/test_rev_ohe_seqs.npy\")\n",
    "len(names), names[0], len(seqs), seqs[0][:5], len(rev_seqs), rev_seqs[0][-5:], targets[0]\n",
    "\n",
    "# Compose different data transforms for this particular load\n",
    "data_transform = transforms.Compose([ToTensor(transpose=False)])\n",
    "\n",
    "# Instantiate a Dataset\n",
    "test_dataset = SeqDataset(seqs, names=names, rev_seqs=rev_seqs, transform=data_transform)\n",
    "\n",
    "# Check the Dataset Class\n",
    "for i in range(len(test_dataset)):\n",
    "    sample = test_dataset[i]\n",
    "    print(i, sample[0].size(), sample[1].size(), sample[2].size(), sample[3])\n",
    "    if i == 3:\n",
    "        break"
   ]
  },
  {
   "cell_type": "markdown",
   "id": "5c3d76a5",
   "metadata": {
    "tags": [],
    "toc-hr-collapsed": true
   },
   "source": [
    "# Load from Fasta"
   ]
  },
  {
   "cell_type": "code",
   "execution_count": 41,
   "id": "2a0d09c3",
   "metadata": {
    "execution": {
     "iopub.execute_input": "2022-04-03T21:04:10.049616Z",
     "iopub.status.busy": "2022-04-03T21:04:10.048613Z",
     "iopub.status.idle": "2022-04-03T21:04:10.764298Z",
     "shell.execute_reply": "2022-04-03T21:04:10.763891Z",
     "shell.execute_reply.started": "2022-04-03T21:04:10.049596Z"
    },
    "tags": []
   },
   "outputs": [],
   "source": [
    "from eugene.datasets import load_fasta \n",
    "\n",
    "# Load the sequences as numpy arrays\n",
    "names, seqs, rev_seqs, targets = load_fasta(\"test_100seqs_66/test_seqs.fa\", \"test_100seqs_66/test_labels.npy\", rev_comp=True)\n",
    "names[0], seqs[0], rev_seqs[0], targets[0]\n",
    "\n",
    "# Compose different data transforms for this particular load\n",
    "data_transform = transforms.Compose([\n",
    "    Augment(randomize_linker_p=0.1, enhancer=\"WT-otx-a\"), OneHotEncode(), ToTensor(transpose=False)\n",
    "])\n",
    "\n",
    "# Instantiate a Dataset\n",
    "test_dataset = SeqDataset(seqs, names=names, targets=targets, rev_seqs=rev_seqs, transform=data_transform)\n",
    "\n",
    "# Check the Dataset Class\n",
    "for i in range(len(test_dataset)):\n",
    "    sample = test_dataset[i]\n",
    "    print(i, sample[0].size(), sample[1].size(), sample[2].size(), sample[3])\n",
    "    if i == 3:\n",
    "        break"
   ]
  },
  {
   "cell_type": "markdown",
   "id": "36bb161a",
   "metadata": {},
   "source": [
    "## Load dataset"
   ]
  },
  {
   "cell_type": "code",
   "execution_count": 72,
   "id": "ed1f77e4",
   "metadata": {},
   "outputs": [
    {
     "data": {
      "text/plain": [
       "(100,\n",
       " 'seq001',\n",
       " 100,\n",
       " array([[0, 0, 1, 0],\n",
       "        [0, 0, 0, 1],\n",
       "        [1, 0, 0, 0],\n",
       "        [0, 0, 1, 0],\n",
       "        [0, 0, 1, 0]], dtype=int8),\n",
       " 100,\n",
       " array([[0, 1, 0, 0],\n",
       "        [0, 1, 0, 0],\n",
       "        [0, 0, 0, 1],\n",
       "        [1, 0, 0, 0],\n",
       "        [0, 1, 0, 0]], dtype=int8),\n",
       " 100,\n",
       " 0)"
      ]
     },
     "execution_count": 72,
     "metadata": {},
     "output_type": "execute_result"
    }
   ],
   "source": [
    "# Import the laod function\n",
    "from eugene.datasets import load\n",
    "from torch.utils.data import DataLoader\n",
    "from eugene.dataloading.dataloaders import SeqDataModule\n",
    "\n",
    "# Load the sequences as numpy arrays\n",
    "names, seqs, rev_seqs, targets = load(\"test_100seqs_66/test_ohe_seqs.npy\", names_file=\"test_100seqs_66/test_ids.npy\", target_file=\"test_100seqs_66/test_labels.npy\", rev_seq_file=\"test_100seqs_66/test_rev_ohe_seqs.npy\")\n",
    "len(names), names[0], len(seqs), seqs[0][:5], len(rev_seqs), rev_seqs[0][-5:], len(targets), targets[0]\n",
    "\n",
    "# Compose different data transforms for this particular load\n",
    "data_transform = transforms.Compose([\n",
    "    ToTensor(transpose=False)\n",
    "])\n",
    "\n",
    "# Instantiate a Dataset\n",
    "test_dataset = SeqDataset(seqs, names=names, targets=targets, rev_seqs=rev_seqs, transform=data_transform)\n",
    "\n",
    "# Check the Dataset Class\n",
    "for i in range(len(test_dataset)):\n",
    "    sample = test_dataset[i]\n",
    "    print(i, sample[0].size(), sample[1].size(), sample[2].size(), sample[3])\n",
    "    if i == 3:\n",
    "        break\n",
    "\n",
    "# Instantiate a DataLoader\n",
    "test_dataloader = DataLoader(test_dataset, batch_size=32, shuffle=False, num_workers=0)\n",
    "\n",
    "# Check the DataLoader\n",
    "for i_batch, sample_batched in enumerate(test_dataloader):\n",
    "    print(i_batch, sample_batched[1].size(), sample_batched[2].size(), sample_batched[3].size())\n",
    "    # observe 4th batch and stop.\n",
    "    if i_batch == 3:\n",
    "        break\n",
    "\n",
    "# Build SeqDataModule \n",
    "test_datamod = SeqDataModule(NUMPY_OHE)"
   ]
  },
  {
   "cell_type": "markdown",
   "id": "78cd50ce",
   "metadata": {},
   "source": []
  },
  {
   "cell_type": "code",
   "execution_count": 78,
   "id": "af4d624e",
   "metadata": {
    "execution": {
     "iopub.execute_input": "2022-04-03T21:04:18.458546Z",
     "iopub.status.busy": "2022-04-03T21:04:18.458380Z",
     "iopub.status.idle": "2022-04-03T21:04:19.415208Z",
     "shell.execute_reply": "2022-04-03T21:04:19.414801Z",
     "shell.execute_reply.started": "2022-04-03T21:04:18.458530Z"
    },
    "tags": []
   },
   "outputs": [],
   "source": []
  },
  {
   "cell_type": "code",
   "execution_count": 79,
   "id": "1909df0d",
   "metadata": {
    "execution": {
     "iopub.execute_input": "2022-04-03T21:04:20.364812Z",
     "iopub.status.busy": "2022-04-03T21:04:20.363844Z",
     "iopub.status.idle": "2022-04-03T21:04:21.545590Z",
     "shell.execute_reply": "2022-04-03T21:04:21.545267Z",
     "shell.execute_reply.started": "2022-04-03T21:04:20.364792Z"
    },
    "tags": []
   },
   "outputs": [
    {
     "name": "stdout",
     "output_type": "stream",
     "text": [
      "0 torch.Size([32, 66, 4]) torch.Size([32, 66, 4]) torch.Size([32])\n",
      "1 torch.Size([32, 66, 4]) torch.Size([32, 66, 4]) torch.Size([32])\n",
      "2 torch.Size([32, 66, 4]) torch.Size([32, 66, 4]) torch.Size([32])\n",
      "3 torch.Size([4, 66, 4]) torch.Size([4, 66, 4]) torch.Size([4])\n"
     ]
    }
   ],
   "source": []
  },
  {
   "cell_type": "markdown",
   "id": "cd26d586-9589-4e63-a733-3dd946653df2",
   "metadata": {},
   "source": [
    "# Loading variable length sequences"
   ]
  },
  {
   "cell_type": "code",
   "execution_count": 126,
   "id": "91ce33fd-ee45-4828-adf6-2b475a2f0df9",
   "metadata": {
    "execution": {
     "iopub.execute_input": "2022-04-24T19:23:30.557415Z",
     "iopub.status.busy": "2022-04-24T19:23:30.557245Z",
     "iopub.status.idle": "2022-04-24T19:23:31.692790Z",
     "shell.execute_reply": "2022-04-24T19:23:31.692300Z",
     "shell.execute_reply.started": "2022-04-24T19:23:30.557397Z"
    },
    "tags": []
   },
   "outputs": [],
   "source": [
    "seq_file=\"/cellar/users/aklie/projects/EUGENE/data/All_Genomic_Sequences/All_Genomic_Sequences.tsv\""
   ]
  },
  {
   "cell_type": "code",
   "execution_count": 127,
   "id": "a98de2b7-8ca7-432c-bd15-eb955267ff24",
   "metadata": {
    "execution": {
     "iopub.execute_input": "2022-04-24T19:23:31.693609Z",
     "iopub.status.busy": "2022-04-24T19:23:31.693495Z",
     "iopub.status.idle": "2022-04-24T19:23:32.629737Z",
     "shell.execute_reply": "2022-04-24T19:23:32.629306Z",
     "shell.execute_reply.started": "2022-04-24T19:23:31.693593Z"
    },
    "tags": []
   },
   "outputs": [
    {
     "data": {
      "text/html": [
       "<div>\n",
       "<style scoped>\n",
       "    .dataframe tbody tr th:only-of-type {\n",
       "        vertical-align: middle;\n",
       "    }\n",
       "\n",
       "    .dataframe tbody tr th {\n",
       "        vertical-align: top;\n",
       "    }\n",
       "\n",
       "    .dataframe thead th {\n",
       "        text-align: right;\n",
       "    }\n",
       "</style>\n",
       "<table border=\"1\" class=\"dataframe\">\n",
       "  <thead>\n",
       "    <tr style=\"text-align: right;\">\n",
       "      <th></th>\n",
       "      <th>NAME</th>\n",
       "      <th>SEQ</th>\n",
       "      <th>FXN_LABEL</th>\n",
       "      <th>TILE</th>\n",
       "      <th>SEQ_LEN</th>\n",
       "      <th>DATASET</th>\n",
       "      <th>FXN_DESCRIPTION</th>\n",
       "    </tr>\n",
       "  </thead>\n",
       "  <tbody>\n",
       "    <tr>\n",
       "      <th>0</th>\n",
       "      <td>scaffold_1:462149:462232</td>\n",
       "      <td>AAAGTAGGCTATATGCTACAGCCCAGAGCTCATGGATTTTAATGGG...</td>\n",
       "      <td>1</td>\n",
       "      <td>full</td>\n",
       "      <td>195</td>\n",
       "      <td>2010_Khoueiry_CellPress</td>\n",
       "      <td>NaN</td>\n",
       "    </tr>\n",
       "    <tr>\n",
       "      <th>1</th>\n",
       "      <td>scaffold_102:102675:102754</td>\n",
       "      <td>AAAGTAGGCTATCGCGACCACTGATCGTCGCGTAATTATTTTGAGG...</td>\n",
       "      <td>1</td>\n",
       "      <td>full</td>\n",
       "      <td>183</td>\n",
       "      <td>2010_Khoueiry_CellPress</td>\n",
       "      <td>NaN</td>\n",
       "    </tr>\n",
       "    <tr>\n",
       "      <th>2</th>\n",
       "      <td>scaffold_3:475040:475120</td>\n",
       "      <td>AAAGTAGGCTTTGTATAATTCCCAATTAGAACACACAGGTAGGGTA...</td>\n",
       "      <td>1</td>\n",
       "      <td>full</td>\n",
       "      <td>180</td>\n",
       "      <td>2010_Khoueiry_CellPress</td>\n",
       "      <td>NaN</td>\n",
       "    </tr>\n",
       "    <tr>\n",
       "      <th>3</th>\n",
       "      <td>scaffold_3:781073:781145</td>\n",
       "      <td>AAAGTAGGCTTTAACATGGAATCTATTCCCCGTGACGATGAGATAA...</td>\n",
       "      <td>1</td>\n",
       "      <td>full</td>\n",
       "      <td>154</td>\n",
       "      <td>2010_Khoueiry_CellPress</td>\n",
       "      <td>NaN</td>\n",
       "    </tr>\n",
       "    <tr>\n",
       "      <th>4</th>\n",
       "      <td>scaffold_357:46416:46496</td>\n",
       "      <td>AAAGTAGGCTTCTTGCTTTGTTGTTTTTGTTTTGAAACTGGTGAGC...</td>\n",
       "      <td>0</td>\n",
       "      <td>full</td>\n",
       "      <td>186</td>\n",
       "      <td>2010_Khoueiry_CellPress</td>\n",
       "      <td>NaN</td>\n",
       "    </tr>\n",
       "  </tbody>\n",
       "</table>\n",
       "</div>"
      ],
      "text/plain": [
       "                         NAME  \\\n",
       "0    scaffold_1:462149:462232   \n",
       "1  scaffold_102:102675:102754   \n",
       "2    scaffold_3:475040:475120   \n",
       "3    scaffold_3:781073:781145   \n",
       "4    scaffold_357:46416:46496   \n",
       "\n",
       "                                                 SEQ  FXN_LABEL  TILE  \\\n",
       "0  AAAGTAGGCTATATGCTACAGCCCAGAGCTCATGGATTTTAATGGG...          1  full   \n",
       "1  AAAGTAGGCTATCGCGACCACTGATCGTCGCGTAATTATTTTGAGG...          1  full   \n",
       "2  AAAGTAGGCTTTGTATAATTCCCAATTAGAACACACAGGTAGGGTA...          1  full   \n",
       "3  AAAGTAGGCTTTAACATGGAATCTATTCCCCGTGACGATGAGATAA...          1  full   \n",
       "4  AAAGTAGGCTTCTTGCTTTGTTGTTTTTGTTTTGAAACTGGTGAGC...          0  full   \n",
       "\n",
       "   SEQ_LEN                  DATASET FXN_DESCRIPTION  \n",
       "0      195  2010_Khoueiry_CellPress             NaN  \n",
       "1      183  2010_Khoueiry_CellPress             NaN  \n",
       "2      180  2010_Khoueiry_CellPress             NaN  \n",
       "3      154  2010_Khoueiry_CellPress             NaN  \n",
       "4      186  2010_Khoueiry_CellPress             NaN  "
      ]
     },
     "execution_count": 127,
     "metadata": {},
     "output_type": "execute_result"
    }
   ],
   "source": [
    "import pandas as pd\n",
    "pd.read_csv(seq_file, sep=\"\\t\").head()"
   ]
  },
  {
   "cell_type": "code",
   "execution_count": 145,
   "id": "0e591436-1021-467c-9bdb-88ffbfabf3c1",
   "metadata": {
    "execution": {
     "iopub.execute_input": "2022-04-24T19:25:52.363694Z",
     "iopub.status.busy": "2022-04-24T19:25:52.363548Z",
     "iopub.status.idle": "2022-04-24T19:25:53.336006Z",
     "shell.execute_reply": "2022-04-24T19:25:53.335519Z",
     "shell.execute_reply.started": "2022-04-24T19:25:52.363677Z"
    },
    "tags": []
   },
   "outputs": [],
   "source": [
    "from eugene.dataloading.load_data import load"
   ]
  },
  {
   "cell_type": "code",
   "execution_count": 146,
   "id": "456c9c67-f3d9-40cc-8a91-874984980330",
   "metadata": {
    "execution": {
     "iopub.execute_input": "2022-04-24T19:25:53.336906Z",
     "iopub.status.busy": "2022-04-24T19:25:53.336789Z",
     "iopub.status.idle": "2022-04-24T19:25:54.250726Z",
     "shell.execute_reply": "2022-04-24T19:25:54.250366Z",
     "shell.execute_reply.started": "2022-04-24T19:25:53.336891Z"
    },
    "tags": []
   },
   "outputs": [
    {
     "data": {
      "text/plain": [
       "(42, 'scaffold_1:462149:462232', 42, 'AAAGT', 42, 'ACTTT', 42, 1.0)"
      ]
     },
     "execution_count": 146,
     "metadata": {},
     "output_type": "execute_result"
    }
   ],
   "source": [
    "# Load the sequences as numpy arrays\n",
    "names, seqs, rev_seqs, targets = load(seq_file, seq_col=\"SEQ\", name_col=\"NAME\", target_col=\"FXN_LABEL\", rev_comp=True)\n",
    "len(names), names[0], len(seqs), seqs[0][:5], len(rev_seqs), rev_seqs[0][-5:], len(targets), targets[0]"
   ]
  },
  {
   "cell_type": "code",
   "execution_count": 147,
   "id": "ab2851d8-caac-4646-8e5b-d9ecf0bcfc49",
   "metadata": {
    "execution": {
     "iopub.execute_input": "2022-04-24T19:25:54.252620Z",
     "iopub.status.busy": "2022-04-24T19:25:54.252501Z",
     "iopub.status.idle": "2022-04-24T19:25:55.243597Z",
     "shell.execute_reply": "2022-04-24T19:25:55.243189Z",
     "shell.execute_reply.started": "2022-04-24T19:25:54.252604Z"
    },
    "tags": []
   },
   "outputs": [
    {
     "data": {
      "text/plain": [
       "array([array([115.,  99.,  97., 102., 102., 111., 108., 100.,  95.,  49.,  58.,\n",
       "               52.,  54.,  50.,  49.,  52.,  57.,  58.,  52.,  54.,  50.,  50.,\n",
       "               51.,  50.,  36.,  36.])                                         ,\n",
       "       'AAAGTAGGCTATATGCTACAGCCCAGAGCTCATGGATTTTAATGGGATCGGCTATCTAGGCCGACCCTCGCTCTCCCAAGGAAATGTCCACCTTCCAGCCGGGAAAAGATAACCGCTCGCCAGAGCGACGCTTTCCGGCTGACAAATTGTGTCGGACCTTGATAGCATTCCTGTTCCCTATCGGACCCAACTTT ',\n",
       "       ' AAAGTTGGGTCCGATAGGGAACAGGAATGCTATCAAGGTCCGACACAATTTGTCAGCCGGAAAGCGTCGCTCTGGCGAGCGGTTATCTTTTCCCGGCTGGAAGGTGGACATTTCCTTGGGAGAGCGAGGGTCGGCCTAGATAGCCGATCCCATTAAAATCCATGAGCTCTGGGCTGTAGCATATAGCCTACTTT',\n",
       "       1.0], dtype=object)"
      ]
     },
     "execution_count": 147,
     "metadata": {},
     "output_type": "execute_result"
    }
   ],
   "source": [
    "test_dataset = SeqDataset(seqs, names=names, targets=targets, rev_seqs=rev_seqs, transform=None)\n",
    "test_dataset[0]"
   ]
  },
  {
   "cell_type": "code",
   "execution_count": 148,
   "id": "df056f18-7705-4f88-890c-bc2dc85ff440",
   "metadata": {
    "execution": {
     "iopub.execute_input": "2022-04-24T19:25:55.244309Z",
     "iopub.status.busy": "2022-04-24T19:25:55.244200Z",
     "iopub.status.idle": "2022-04-24T19:25:56.198225Z",
     "shell.execute_reply": "2022-04-24T19:25:56.197895Z",
     "shell.execute_reply.started": "2022-04-24T19:25:55.244294Z"
    },
    "tags": []
   },
   "outputs": [
    {
     "data": {
      "text/plain": [
       "array([115.,  99.,  97., 102., 102., 111., 108., 100.,  95.,  49.,  58.,\n",
       "        52.,  54.,  50.,  49.,  52.,  57.,  58.,  52.,  54.,  50.,  50.,\n",
       "        51.,  50.,  36.,  36.])"
      ]
     },
     "execution_count": 148,
     "metadata": {},
     "output_type": "execute_result"
    }
   ],
   "source": [
    "test_dataset[0][0]"
   ]
  },
  {
   "cell_type": "code",
   "execution_count": 149,
   "id": "fb9b1f46-e2be-45b0-95eb-e8b41e6349be",
   "metadata": {
    "execution": {
     "iopub.execute_input": "2022-04-24T19:25:56.198905Z",
     "iopub.status.busy": "2022-04-24T19:25:56.198794Z",
     "iopub.status.idle": "2022-04-24T19:25:57.071542Z",
     "shell.execute_reply": "2022-04-24T19:25:57.071087Z",
     "shell.execute_reply.started": "2022-04-24T19:25:56.198889Z"
    },
    "tags": []
   },
   "outputs": [],
   "source": [
    "test_str = \"\".join([chr(int(letter)) for letter in test_dataset[0][0]]).replace(\"$\", \"\")"
   ]
  },
  {
   "cell_type": "code",
   "execution_count": 153,
   "id": "a7af58d7-0e98-4199-8242-3103fae8858d",
   "metadata": {
    "execution": {
     "iopub.execute_input": "2022-04-24T19:28:56.152515Z",
     "iopub.status.busy": "2022-04-24T19:28:56.152280Z",
     "iopub.status.idle": "2022-04-24T19:28:57.015615Z",
     "shell.execute_reply": "2022-04-24T19:28:57.015237Z",
     "shell.execute_reply.started": "2022-04-24T19:28:56.152497Z"
    },
    "tags": []
   },
   "outputs": [],
   "source": [
    "test_strs = [ascii_decode(thing) for thing in test_dataset.ascii_names]"
   ]
  },
  {
   "cell_type": "code",
   "execution_count": 157,
   "id": "d595342b-a6ac-4977-bc25-0fee1318e765",
   "metadata": {
    "execution": {
     "iopub.execute_input": "2022-04-24T19:29:23.150780Z",
     "iopub.status.busy": "2022-04-24T19:29:23.150658Z",
     "iopub.status.idle": "2022-04-24T19:29:23.949579Z",
     "shell.execute_reply": "2022-04-24T19:29:23.949134Z",
     "shell.execute_reply.started": "2022-04-24T19:29:23.150764Z"
    },
    "tags": []
   },
   "outputs": [
    {
     "data": {
      "text/plain": [
       "array(['scaffold_1:462149:462232', 'scaffold_102:102675:102754',\n",
       "       'scaffold_3:475040:475120', 'scaffold_3:781073:781145',\n",
       "       'scaffold_357:46416:46496', 'scaffold_577:39771:39829',\n",
       "       'scaffold_6:512297:512370', 'scaffold_98:245430:245507',\n",
       "       'scaffold_248:118347:118482', 'Scaffold_31:173924:174038',\n",
       "       'scaffold_6:562995:563124', 'scaffold_11:490974:491037',\n",
       "       'scaffold_366:40184:40258', 'scaffold_37:273449:273512',\n",
       "       'scaffold_371:68262:68340', 'scaffold_40:155281:155360',\n",
       "       'scaffold_48:226447:226527', 'scaffold_490:18446:18523',\n",
       "       'scaffold_50:51150:51235', 'scaffold_522:36260:36327', 'Otxa-WTg1',\n",
       "       'Otxa-WTg2', 'Otxa-WTg3', 'Otxa-WTg5', 'Negative_control', 'nc2',\n",
       "       'nc3', 'nc4', 'nc5', 'EM.Ci1', 'EM.Dr1', 'EM.Ggd1', 'EM.Mm6',\n",
       "       'EM.Hs9', 'EM.Mm2', 'EM.Hs1', 'EM.Hs2', 'EM.Hs3', 'EM.Hs8',\n",
       "       'EM.Mm1', 'EM.Hs4', 'EM.Dr2'], dtype='<U26')"
      ]
     },
     "execution_count": 157,
     "metadata": {},
     "output_type": "execute_result"
    }
   ],
   "source": []
  },
  {
   "cell_type": "code",
   "execution_count": 158,
   "id": "971cd983-8b32-4826-9d63-eaa28f7e2365",
   "metadata": {
    "execution": {
     "iopub.execute_input": "2022-04-24T19:29:30.150667Z",
     "iopub.status.busy": "2022-04-24T19:29:30.150498Z",
     "iopub.status.idle": "2022-04-24T19:29:31.341134Z",
     "shell.execute_reply": "2022-04-24T19:29:31.340736Z",
     "shell.execute_reply.started": "2022-04-24T19:29:30.150650Z"
    },
    "tags": []
   },
   "outputs": [
    {
     "data": {
      "text/plain": [
       "array([ True,  True,  True,  True,  True,  True,  True,  True,  True,\n",
       "        True,  True,  True,  True,  True,  True,  True,  True,  True,\n",
       "        True,  True,  True,  True,  True,  True,  True,  True,  True,\n",
       "        True,  True,  True,  True,  True,  True,  True,  True,  True,\n",
       "        True,  True,  True,  True,  True,  True])"
      ]
     },
     "execution_count": 158,
     "metadata": {},
     "output_type": "execute_result"
    }
   ],
   "source": [
    "np.array(test_strs) == test_dataset.names"
   ]
  },
  {
   "cell_type": "code",
   "execution_count": null,
   "id": "ec3db92c-ef42-4868-851a-3ceb271b394f",
   "metadata": {},
   "outputs": [],
   "source": [
    "for asci in "
   ]
  },
  {
   "cell_type": "code",
   "execution_count": 151,
   "id": "14d9a7da-8735-45a6-aaee-b560651003b3",
   "metadata": {
    "execution": {
     "iopub.execute_input": "2022-04-24T19:25:59.151915Z",
     "iopub.status.busy": "2022-04-24T19:25:59.151685Z",
     "iopub.status.idle": "2022-04-24T19:26:00.133275Z",
     "shell.execute_reply": "2022-04-24T19:26:00.132955Z",
     "shell.execute_reply.started": "2022-04-24T19:25:59.151885Z"
    },
    "tags": []
   },
   "outputs": [
    {
     "data": {
      "text/plain": [
       "'scaffold_1:462149:462232'"
      ]
     },
     "execution_count": 151,
     "metadata": {},
     "output_type": "execute_result"
    }
   ],
   "source": [
    "test_str"
   ]
  },
  {
   "cell_type": "code",
   "execution_count": 91,
   "id": "e6cb0eb7-b0bb-4ce4-93d2-f358e5ff1822",
   "metadata": {
    "execution": {
     "iopub.execute_input": "2022-04-24T19:10:59.152110Z",
     "iopub.status.busy": "2022-04-24T19:10:59.151870Z",
     "iopub.status.idle": "2022-04-24T19:11:00.177540Z",
     "shell.execute_reply": "2022-04-24T19:11:00.177153Z",
     "shell.execute_reply.started": "2022-04-24T19:10:59.152083Z"
    },
    "tags": []
   },
   "outputs": [
    {
     "data": {
      "text/plain": [
       "(42, 26)"
      ]
     },
     "execution_count": 91,
     "metadata": {},
     "output_type": "execute_result"
    }
   ],
   "source": [
    "test_dataset.ascii_names.shape"
   ]
  },
  {
   "cell_type": "code",
   "execution_count": 92,
   "id": "ee2bdf22-d59c-4ed1-95f6-683d783c6256",
   "metadata": {
    "execution": {
     "iopub.execute_input": "2022-04-24T19:11:01.456520Z",
     "iopub.status.busy": "2022-04-24T19:11:01.456374Z",
     "iopub.status.idle": "2022-04-24T19:11:02.550354Z",
     "shell.execute_reply": "2022-04-24T19:11:02.549951Z",
     "shell.execute_reply.started": "2022-04-24T19:11:01.456503Z"
    },
    "tags": []
   },
   "outputs": [
    {
     "data": {
      "text/plain": [
       "True"
      ]
     },
     "execution_count": 92,
     "metadata": {},
     "output_type": "execute_result"
    }
   ],
   "source": [
    "np.any(test_dataset.name_lengths == test_dataset.name_lengths[0])"
   ]
  },
  {
   "cell_type": "code",
   "execution_count": 93,
   "id": "1af067ea-1a5e-454a-9fcb-02c87293df0f",
   "metadata": {
    "execution": {
     "iopub.execute_input": "2022-04-24T19:11:04.150440Z",
     "iopub.status.busy": "2022-04-24T19:11:04.150296Z",
     "iopub.status.idle": "2022-04-24T19:11:05.333719Z",
     "shell.execute_reply": "2022-04-24T19:11:05.333296Z",
     "shell.execute_reply.started": "2022-04-24T19:11:04.150424Z"
    },
    "tags": []
   },
   "outputs": [
    {
     "data": {
      "text/plain": [
       "array([24, 26, 24, 24, 24, 24, 24, 25, 26, 25, 24, 25, 24, 25, 24, 25, 25,\n",
       "       24, 23, 24,  9,  9,  9,  9, 16,  3,  3,  3,  3,  6,  6,  7,  6,  6,\n",
       "        6,  6,  6,  6,  6,  6,  6,  6])"
      ]
     },
     "execution_count": 93,
     "metadata": {},
     "output_type": "execute_result"
    }
   ],
   "source": [
    "test_dataset.name_lengths"
   ]
  },
  {
   "cell_type": "code",
   "execution_count": 9,
   "id": "f7e2696a-4427-4aa0-b576-42e4ac4493b5",
   "metadata": {
    "execution": {
     "iopub.execute_input": "2022-04-24T18:44:14.051238Z",
     "iopub.status.busy": "2022-04-24T18:44:14.051055Z",
     "iopub.status.idle": "2022-04-24T18:44:14.767328Z",
     "shell.execute_reply": "2022-04-24T18:44:14.766841Z",
     "shell.execute_reply.started": "2022-04-24T18:44:14.051220Z"
    },
    "tags": []
   },
   "outputs": [],
   "source": [
    "import numpy as np"
   ]
  },
  {
   "cell_type": "code",
   "execution_count": 51,
   "id": "e5f93913-4ade-4e6b-81ce-adec662b57a3",
   "metadata": {
    "execution": {
     "iopub.execute_input": "2022-04-24T19:05:00.160557Z",
     "iopub.status.busy": "2022-04-24T19:05:00.160395Z",
     "iopub.status.idle": "2022-04-24T19:05:01.011008Z",
     "shell.execute_reply": "2022-04-24T19:05:01.010504Z",
     "shell.execute_reply.started": "2022-04-24T19:05:00.160540Z"
    },
    "tags": []
   },
   "outputs": [
    {
     "ename": "AttributeError",
     "evalue": "'SeqDataset' object has no attribute 'longest_name'",
     "output_type": "error",
     "traceback": [
      "\u001b[0;31m---------------------------------------------------------------------------\u001b[0m",
      "\u001b[0;31mAttributeError\u001b[0m                            Traceback (most recent call last)",
      "\u001b[0;32m<ipython-input-51-c3fdfd42bacd>\u001b[0m in \u001b[0;36m<module>\u001b[0;34m\u001b[0m\n\u001b[0;32m----> 1\u001b[0;31m \u001b[0mtest_dataset\u001b[0m\u001b[0;34m.\u001b[0m\u001b[0mlongest_name\u001b[0m\u001b[0;34m\u001b[0m\u001b[0;34m\u001b[0m\u001b[0m\n\u001b[0m",
      "\u001b[0;31mAttributeError\u001b[0m: 'SeqDataset' object has no attribute 'longest_name'"
     ]
    }
   ],
   "source": [
    "test_dataset.longest_name"
   ]
  },
  {
   "cell_type": "code",
   "execution_count": 107,
   "id": "b456ab4a-c8d9-44d4-9ce3-f173e08d0e83",
   "metadata": {
    "execution": {
     "iopub.execute_input": "2022-04-24T19:18:10.151280Z",
     "iopub.status.busy": "2022-04-24T19:18:10.151105Z",
     "iopub.status.idle": "2022-04-24T19:18:11.209230Z",
     "shell.execute_reply": "2022-04-24T19:18:11.208747Z",
     "shell.execute_reply.started": "2022-04-24T19:18:10.151262Z"
    },
    "tags": []
   },
   "outputs": [],
   "source": [
    "from eugene.utils.seq_utils import ascii_encode, ascii_decode"
   ]
  },
  {
   "cell_type": "code",
   "execution_count": 122,
   "id": "becde267-5be1-493f-abab-f03e24d0d3e4",
   "metadata": {
    "execution": {
     "iopub.execute_input": "2022-04-24T19:21:00.258892Z",
     "iopub.status.busy": "2022-04-24T19:21:00.258755Z",
     "iopub.status.idle": "2022-04-24T19:21:01.230990Z",
     "shell.execute_reply": "2022-04-24T19:21:01.230559Z",
     "shell.execute_reply.started": "2022-04-24T19:21:00.258876Z"
    },
    "tags": []
   },
   "outputs": [],
   "source": [
    "asci_2 = np.zeros((len(test_dataset.names), test_dataset.longest_name))\n",
    "for i, name in enumerate(test_dataset.names):\n",
    "    pad_len = test_dataset.longest_name-len(name)\n",
    "    asci_2[i] = ascii_encode(name, pad=pad_len)\n",
    "    #np_name = np.array([ord(letter) for letter in name], dtype=int)\n",
    "    #asci[i] = np.pad(np_name, pad_width=(0, pad_len), mode=\"constant\", constant_values=36)"
   ]
  },
  {
   "cell_type": "code",
   "execution_count": 121,
   "id": "9dde29e0-87b1-4fb1-9bfb-8d0b9370a018",
   "metadata": {
    "execution": {
     "iopub.execute_input": "2022-04-24T19:20:58.151847Z",
     "iopub.status.busy": "2022-04-24T19:20:58.151677Z",
     "iopub.status.idle": "2022-04-24T19:20:59.206240Z",
     "shell.execute_reply": "2022-04-24T19:20:59.205891Z",
     "shell.execute_reply.started": "2022-04-24T19:20:58.151830Z"
    },
    "tags": []
   },
   "outputs": [
    {
     "data": {
      "text/plain": [
       "array([ 69,  77,  46,  68, 114,  50])"
      ]
     },
     "execution_count": 121,
     "metadata": {},
     "output_type": "execute_result"
    }
   ],
   "source": [
    "ascii_encode(name)"
   ]
  },
  {
   "cell_type": "code",
   "execution_count": 125,
   "id": "29fd1ddd-9d8e-4e09-a622-b6ac994d0220",
   "metadata": {
    "execution": {
     "iopub.execute_input": "2022-04-24T19:21:14.570806Z",
     "iopub.status.busy": "2022-04-24T19:21:14.570639Z",
     "iopub.status.idle": "2022-04-24T19:21:15.436493Z",
     "shell.execute_reply": "2022-04-24T19:21:15.436105Z",
     "shell.execute_reply.started": "2022-04-24T19:21:14.570788Z"
    },
    "tags": []
   },
   "outputs": [
    {
     "data": {
      "text/plain": [
       "True"
      ]
     },
     "execution_count": 125,
     "metadata": {},
     "output_type": "execute_result"
    }
   ],
   "source": [
    "np.all(asci == asci_2)"
   ]
  },
  {
   "cell_type": "code",
   "execution_count": 114,
   "id": "73194c56-d2c8-45a7-8b10-9f8baa6d41c9",
   "metadata": {
    "execution": {
     "iopub.execute_input": "2022-04-24T19:19:56.153424Z",
     "iopub.status.busy": "2022-04-24T19:19:56.153264Z",
     "iopub.status.idle": "2022-04-24T19:19:57.027201Z",
     "shell.execute_reply": "2022-04-24T19:19:57.026883Z",
     "shell.execute_reply.started": "2022-04-24T19:19:56.153407Z"
    },
    "tags": []
   },
   "outputs": [
    {
     "data": {
      "text/plain": [
       "(42, 26)"
      ]
     },
     "execution_count": 114,
     "metadata": {},
     "output_type": "execute_result"
    }
   ],
   "source": [
    "asci.shape"
   ]
  },
  {
   "cell_type": "code",
   "execution_count": 123,
   "id": "7f4a9ffe-6b95-4031-a40d-9c0132954d82",
   "metadata": {
    "execution": {
     "iopub.execute_input": "2022-04-24T19:21:02.152978Z",
     "iopub.status.busy": "2022-04-24T19:21:02.152759Z",
     "iopub.status.idle": "2022-04-24T19:21:03.106119Z",
     "shell.execute_reply": "2022-04-24T19:21:03.105649Z",
     "shell.execute_reply.started": "2022-04-24T19:21:02.152949Z"
    },
    "tags": []
   },
   "outputs": [
    {
     "data": {
      "text/plain": [
       "(42, 26)"
      ]
     },
     "execution_count": 123,
     "metadata": {},
     "output_type": "execute_result"
    }
   ],
   "source": [
    "asci_2.shape"
   ]
  },
  {
   "cell_type": "code",
   "execution_count": 49,
   "id": "d283943b-b90f-4ffa-9da4-231d95145deb",
   "metadata": {
    "execution": {
     "iopub.execute_input": "2022-04-24T19:03:32.503139Z",
     "iopub.status.busy": "2022-04-24T19:03:32.502973Z",
     "iopub.status.idle": "2022-04-24T19:03:33.485514Z",
     "shell.execute_reply": "2022-04-24T19:03:33.485062Z",
     "shell.execute_reply.started": "2022-04-24T19:03:32.503122Z"
    },
    "tags": []
   },
   "outputs": [
    {
     "data": {
      "text/plain": [
       "array(['scaffold_1:462149:462232', 'scaffold_102:102675:102754',\n",
       "       'scaffold_3:475040:475120', 'scaffold_3:781073:781145',\n",
       "       'scaffold_357:46416:46496', 'scaffold_577:39771:39829',\n",
       "       'scaffold_6:512297:512370', 'scaffold_98:245430:245507',\n",
       "       'scaffold_248:118347:118482', 'Scaffold_31:173924:174038',\n",
       "       'scaffold_6:562995:563124', 'scaffold_11:490974:491037',\n",
       "       'scaffold_366:40184:40258', 'scaffold_37:273449:273512',\n",
       "       'scaffold_371:68262:68340', 'scaffold_40:155281:155360',\n",
       "       'scaffold_48:226447:226527', 'scaffold_490:18446:18523',\n",
       "       'scaffold_50:51150:51235', 'scaffold_522:36260:36327', 'Otxa-WTg1',\n",
       "       'Otxa-WTg2', 'Otxa-WTg3', 'Otxa-WTg5', 'Negative_control', 'nc2',\n",
       "       'nc3', 'nc4', 'nc5', 'EM.Ci1', 'EM.Dr1', 'EM.Ggd1', 'EM.Mm6',\n",
       "       'EM.Hs9', 'EM.Mm2', 'EM.Hs1', 'EM.Hs2', 'EM.Hs3', 'EM.Hs8',\n",
       "       'EM.Mm1', 'EM.Hs4', 'EM.Dr2'], dtype='<U26')"
      ]
     },
     "execution_count": 49,
     "metadata": {},
     "output_type": "execute_result"
    }
   ],
   "source": [
    "test_dataset.names"
   ]
  },
  {
   "cell_type": "code",
   "execution_count": 47,
   "id": "e80b67f3-2bca-495d-84b3-0bcb6a3c14b1",
   "metadata": {
    "execution": {
     "iopub.execute_input": "2022-04-24T19:00:10.950999Z",
     "iopub.status.busy": "2022-04-24T19:00:10.950832Z",
     "iopub.status.idle": "2022-04-24T19:00:12.017217Z",
     "shell.execute_reply": "2022-04-24T19:00:12.016770Z",
     "shell.execute_reply.started": "2022-04-24T19:00:10.950982Z"
    },
    "tags": []
   },
   "outputs": [
    {
     "data": {
      "text/plain": [
       "(42, 26)"
      ]
     },
     "execution_count": 47,
     "metadata": {},
     "output_type": "execute_result"
    }
   ],
   "source": [
    "asci.shape"
   ]
  },
  {
   "cell_type": "code",
   "execution_count": 36,
   "id": "0e7235ba-e881-48de-95cc-ca7ce2b02b6a",
   "metadata": {
    "execution": {
     "iopub.execute_input": "2022-04-24T18:55:54.364232Z",
     "iopub.status.busy": "2022-04-24T18:55:54.363993Z",
     "iopub.status.idle": "2022-04-24T18:55:55.345466Z",
     "shell.execute_reply": "2022-04-24T18:55:55.345026Z",
     "shell.execute_reply.started": "2022-04-24T18:55:54.364202Z"
    }
   },
   "outputs": [
    {
     "data": {
      "text/plain": [
       "array([115,  99,  97, 102, 102, 111, 108, 100,  95,  49,  58,  52,  54,\n",
       "        50,  49,  52,  57,  58,  52,  54,  50,  50,  51,  50])"
      ]
     },
     "execution_count": 36,
     "metadata": {},
     "output_type": "execute_result"
    }
   ],
   "source": [
    "np_name"
   ]
  },
  {
   "cell_type": "code",
   "execution_count": 41,
   "id": "87138d5b-800e-4d0a-b6fe-ffebf66bd078",
   "metadata": {
    "execution": {
     "iopub.execute_input": "2022-04-24T18:57:52.310494Z",
     "iopub.status.busy": "2022-04-24T18:57:52.310360Z",
     "iopub.status.idle": "2022-04-24T18:57:53.327543Z",
     "shell.execute_reply": "2022-04-24T18:57:53.327054Z",
     "shell.execute_reply.started": "2022-04-24T18:57:52.310476Z"
    }
   },
   "outputs": [
    {
     "data": {
      "text/plain": [
       "26"
      ]
     },
     "execution_count": 41,
     "metadata": {},
     "output_type": "execute_result"
    }
   ],
   "source": [
    "test_dataset.longest_name"
   ]
  },
  {
   "cell_type": "code",
   "execution_count": 44,
   "id": "38f1eafb-9225-4dc5-b499-7e38794d5967",
   "metadata": {
    "execution": {
     "iopub.execute_input": "2022-04-24T18:59:40.178580Z",
     "iopub.status.busy": "2022-04-24T18:59:40.178440Z",
     "iopub.status.idle": "2022-04-24T18:59:41.156611Z",
     "shell.execute_reply": "2022-04-24T18:59:41.156179Z",
     "shell.execute_reply.started": "2022-04-24T18:59:40.178563Z"
    },
    "tags": []
   },
   "outputs": [
    {
     "data": {
      "text/plain": [
       "(26,)"
      ]
     },
     "execution_count": 44,
     "metadata": {},
     "output_type": "execute_result"
    }
   ],
   "source": [
    ".shape"
   ]
  },
  {
   "cell_type": "code",
   "execution_count": 20,
   "id": "9016e651-d12e-4ba0-91ec-99271117107f",
   "metadata": {
    "execution": {
     "iopub.execute_input": "2022-04-24T18:48:18.196540Z",
     "iopub.status.busy": "2022-04-24T18:48:18.196365Z",
     "iopub.status.idle": "2022-04-24T18:48:19.278792Z",
     "shell.execute_reply": "2022-04-24T18:48:19.278218Z",
     "shell.execute_reply.started": "2022-04-24T18:48:18.196522Z"
    },
    "tags": []
   },
   "outputs": [
    {
     "ename": "ValueError",
     "evalue": "operands could not be broadcast together with remapped shapes [original->remapped]: (2,2)  and requested shape (1,2)",
     "output_type": "error",
     "traceback": [
      "\u001b[0;31m---------------------------------------------------------------------------\u001b[0m",
      "\u001b[0;31mValueError\u001b[0m                                Traceback (most recent call last)",
      "\u001b[0;32m<ipython-input-20-bc4d69dc1321>\u001b[0m in \u001b[0;36m<module>\u001b[0;34m\u001b[0m\n\u001b[0;32m----> 1\u001b[0;31m \u001b[0mnp\u001b[0m\u001b[0;34m.\u001b[0m\u001b[0mpad\u001b[0m\u001b[0;34m(\u001b[0m\u001b[0mtest_dataset\u001b[0m\u001b[0;34m.\u001b[0m\u001b[0mascii_names\u001b[0m\u001b[0;34m,\u001b[0m \u001b[0;34m[\u001b[0m\u001b[0;34m(\u001b[0m\u001b[0;36m0\u001b[0m\u001b[0;34m,\u001b[0m \u001b[0;36m0\u001b[0m\u001b[0;34m)\u001b[0m\u001b[0;34m,\u001b[0m \u001b[0;34m(\u001b[0m\u001b[0;36m0\u001b[0m\u001b[0;34m,\u001b[0m \u001b[0;36m0\u001b[0m\u001b[0;34m)\u001b[0m\u001b[0;34m]\u001b[0m\u001b[0;34m,\u001b[0m \u001b[0mmode\u001b[0m\u001b[0;34m=\u001b[0m\u001b[0;34m\"constant\"\u001b[0m\u001b[0;34m,\u001b[0m \u001b[0mconstant_values\u001b[0m\u001b[0;34m=\u001b[0m\u001b[0;34m-\u001b[0m\u001b[0;36m1\u001b[0m\u001b[0;34m)\u001b[0m\u001b[0;34m\u001b[0m\u001b[0;34m\u001b[0m\u001b[0m\n\u001b[0m",
      "\u001b[0;32m<__array_function__ internals>\u001b[0m in \u001b[0;36mpad\u001b[0;34m(*args, **kwargs)\u001b[0m\n",
      "\u001b[0;32m~/opt/miniconda3/envs/pytorch_dev/lib/python3.7/site-packages/numpy/lib/arraypad.py\u001b[0m in \u001b[0;36mpad\u001b[0;34m(array, pad_width, mode, **kwargs)\u001b[0m\n\u001b[1;32m    741\u001b[0m \u001b[0;34m\u001b[0m\u001b[0m\n\u001b[1;32m    742\u001b[0m     \u001b[0;31m# Broadcast to shape (array.ndim, 2)\u001b[0m\u001b[0;34m\u001b[0m\u001b[0;34m\u001b[0m\u001b[0;34m\u001b[0m\u001b[0m\n\u001b[0;32m--> 743\u001b[0;31m     \u001b[0mpad_width\u001b[0m \u001b[0;34m=\u001b[0m \u001b[0m_as_pairs\u001b[0m\u001b[0;34m(\u001b[0m\u001b[0mpad_width\u001b[0m\u001b[0;34m,\u001b[0m \u001b[0marray\u001b[0m\u001b[0;34m.\u001b[0m\u001b[0mndim\u001b[0m\u001b[0;34m,\u001b[0m \u001b[0mas_index\u001b[0m\u001b[0;34m=\u001b[0m\u001b[0;32mTrue\u001b[0m\u001b[0;34m)\u001b[0m\u001b[0;34m\u001b[0m\u001b[0;34m\u001b[0m\u001b[0m\n\u001b[0m\u001b[1;32m    744\u001b[0m \u001b[0;34m\u001b[0m\u001b[0m\n\u001b[1;32m    745\u001b[0m     \u001b[0;32mif\u001b[0m \u001b[0mcallable\u001b[0m\u001b[0;34m(\u001b[0m\u001b[0mmode\u001b[0m\u001b[0;34m)\u001b[0m\u001b[0;34m:\u001b[0m\u001b[0;34m\u001b[0m\u001b[0;34m\u001b[0m\u001b[0m\n",
      "\u001b[0;32m~/opt/miniconda3/envs/pytorch_dev/lib/python3.7/site-packages/numpy/lib/arraypad.py\u001b[0m in \u001b[0;36m_as_pairs\u001b[0;34m(x, ndim, as_index)\u001b[0m\n\u001b[1;32m    516\u001b[0m     \u001b[0;31m# Converting the array with `tolist` seems to improve performance\u001b[0m\u001b[0;34m\u001b[0m\u001b[0;34m\u001b[0m\u001b[0;34m\u001b[0m\u001b[0m\n\u001b[1;32m    517\u001b[0m     \u001b[0;31m# when iterating and indexing the result (see usage in `pad`)\u001b[0m\u001b[0;34m\u001b[0m\u001b[0;34m\u001b[0m\u001b[0;34m\u001b[0m\u001b[0m\n\u001b[0;32m--> 518\u001b[0;31m     \u001b[0;32mreturn\u001b[0m \u001b[0mnp\u001b[0m\u001b[0;34m.\u001b[0m\u001b[0mbroadcast_to\u001b[0m\u001b[0;34m(\u001b[0m\u001b[0mx\u001b[0m\u001b[0;34m,\u001b[0m \u001b[0;34m(\u001b[0m\u001b[0mndim\u001b[0m\u001b[0;34m,\u001b[0m \u001b[0;36m2\u001b[0m\u001b[0;34m)\u001b[0m\u001b[0;34m)\u001b[0m\u001b[0;34m.\u001b[0m\u001b[0mtolist\u001b[0m\u001b[0;34m(\u001b[0m\u001b[0;34m)\u001b[0m\u001b[0;34m\u001b[0m\u001b[0;34m\u001b[0m\u001b[0m\n\u001b[0m\u001b[1;32m    519\u001b[0m \u001b[0;34m\u001b[0m\u001b[0m\n\u001b[1;32m    520\u001b[0m \u001b[0;34m\u001b[0m\u001b[0m\n",
      "\u001b[0;32m<__array_function__ internals>\u001b[0m in \u001b[0;36mbroadcast_to\u001b[0;34m(*args, **kwargs)\u001b[0m\n",
      "\u001b[0;32m~/opt/miniconda3/envs/pytorch_dev/lib/python3.7/site-packages/numpy/lib/stride_tricks.py\u001b[0m in \u001b[0;36mbroadcast_to\u001b[0;34m(array, shape, subok)\u001b[0m\n\u001b[1;32m    409\u001b[0m            [1, 2, 3]])\n\u001b[1;32m    410\u001b[0m     \"\"\"\n\u001b[0;32m--> 411\u001b[0;31m     \u001b[0;32mreturn\u001b[0m \u001b[0m_broadcast_to\u001b[0m\u001b[0;34m(\u001b[0m\u001b[0marray\u001b[0m\u001b[0;34m,\u001b[0m \u001b[0mshape\u001b[0m\u001b[0;34m,\u001b[0m \u001b[0msubok\u001b[0m\u001b[0;34m=\u001b[0m\u001b[0msubok\u001b[0m\u001b[0;34m,\u001b[0m \u001b[0mreadonly\u001b[0m\u001b[0;34m=\u001b[0m\u001b[0;32mTrue\u001b[0m\u001b[0;34m)\u001b[0m\u001b[0;34m\u001b[0m\u001b[0;34m\u001b[0m\u001b[0m\n\u001b[0m\u001b[1;32m    412\u001b[0m \u001b[0;34m\u001b[0m\u001b[0m\n\u001b[1;32m    413\u001b[0m \u001b[0;34m\u001b[0m\u001b[0m\n",
      "\u001b[0;32m~/opt/miniconda3/envs/pytorch_dev/lib/python3.7/site-packages/numpy/lib/stride_tricks.py\u001b[0m in \u001b[0;36m_broadcast_to\u001b[0;34m(array, shape, subok, readonly)\u001b[0m\n\u001b[1;32m    348\u001b[0m     it = np.nditer(\n\u001b[1;32m    349\u001b[0m         \u001b[0;34m(\u001b[0m\u001b[0marray\u001b[0m\u001b[0;34m,\u001b[0m\u001b[0;34m)\u001b[0m\u001b[0;34m,\u001b[0m \u001b[0mflags\u001b[0m\u001b[0;34m=\u001b[0m\u001b[0;34m[\u001b[0m\u001b[0;34m'multi_index'\u001b[0m\u001b[0;34m,\u001b[0m \u001b[0;34m'refs_ok'\u001b[0m\u001b[0;34m,\u001b[0m \u001b[0;34m'zerosize_ok'\u001b[0m\u001b[0;34m]\u001b[0m \u001b[0;34m+\u001b[0m \u001b[0mextras\u001b[0m\u001b[0;34m,\u001b[0m\u001b[0;34m\u001b[0m\u001b[0;34m\u001b[0m\u001b[0m\n\u001b[0;32m--> 350\u001b[0;31m         op_flags=['readonly'], itershape=shape, order='C')\n\u001b[0m\u001b[1;32m    351\u001b[0m     \u001b[0;32mwith\u001b[0m \u001b[0mit\u001b[0m\u001b[0;34m:\u001b[0m\u001b[0;34m\u001b[0m\u001b[0;34m\u001b[0m\u001b[0m\n\u001b[1;32m    352\u001b[0m         \u001b[0;31m# never really has writebackifcopy semantics\u001b[0m\u001b[0;34m\u001b[0m\u001b[0;34m\u001b[0m\u001b[0;34m\u001b[0m\u001b[0m\n",
      "\u001b[0;31mValueError\u001b[0m: operands could not be broadcast together with remapped shapes [original->remapped]: (2,2)  and requested shape (1,2)"
     ]
    }
   ],
   "source": [
    "np.pad(test_dataset.ascii_names, [(0, 0), (0, 0)], mode=\"constant\", constant_values=-1)"
   ]
  },
  {
   "cell_type": "markdown",
   "id": "fd472fda",
   "metadata": {
    "tags": []
   },
   "source": [
    "# MPRADataModule\n",
    "PyTorch Lightning DataModule class for MPRA data that allows for asbtracting most of the dataloading process. These DataModules can be passed straight to trainers for model training."
   ]
  },
  {
   "cell_type": "code",
   "execution_count": 77,
   "id": "38b33ea4",
   "metadata": {
    "execution": {
     "iopub.execute_input": "2022-04-03T21:04:23.330357Z",
     "iopub.status.busy": "2022-04-03T21:04:23.330119Z",
     "iopub.status.idle": "2022-04-03T21:04:49.747442Z",
     "shell.execute_reply": "2022-04-03T21:04:49.747070Z",
     "shell.execute_reply.started": "2022-04-03T21:04:23.330339Z"
    },
    "tags": []
   },
   "outputs": [],
   "source": [
    "from MPRADataModule import MPRADataModule"
   ]
  },
  {
   "cell_type": "code",
   "execution_count": 78,
   "id": "76c611c2",
   "metadata": {
    "execution": {
     "iopub.execute_input": "2022-04-03T21:04:49.750342Z",
     "iopub.status.busy": "2022-04-03T21:04:49.749462Z",
     "iopub.status.idle": "2022-04-03T21:04:51.044884Z",
     "shell.execute_reply": "2022-04-03T21:04:51.044501Z",
     "shell.execute_reply.started": "2022-04-03T21:04:49.750321Z"
    },
    "tags": []
   },
   "outputs": [],
   "source": [
    "data_transform = transforms.Compose([\n",
    "    Augment(randomize_linker_p=0.1, enhancer=\"WT-otx-a\"), \n",
    "    OneHotEncode(), \n",
    "    ToTensor(transpose=True)\n",
    "])"
   ]
  },
  {
   "cell_type": "code",
   "execution_count": 79,
   "id": "b5f5371d",
   "metadata": {
    "execution": {
     "iopub.execute_input": "2022-04-03T21:05:31.776795Z",
     "iopub.status.busy": "2022-04-03T21:05:31.776627Z",
     "iopub.status.idle": "2022-04-03T21:05:32.822917Z",
     "shell.execute_reply": "2022-04-03T21:05:32.822531Z",
     "shell.execute_reply.started": "2022-04-03T21:05:31.776778Z"
    },
    "tags": []
   },
   "outputs": [],
   "source": [
    "test_datamodule = MPRADataModule(\n",
    "    seq_file=\"test_seqs.tsv\",\n",
    "    transform=data_transform,\n",
    "    num_workers=0,\n",
    "    batch_size=16,\n",
    "    load_kwargs=dict(seq_col=\"SEQ\"))"
   ]
  },
  {
   "cell_type": "code",
   "execution_count": 80,
   "id": "30125de6",
   "metadata": {},
   "outputs": [],
   "source": [
    "test_datamodule.setup()\n",
    "test_dataset = test_datamodule.train_dataloader().dataset"
   ]
  },
  {
   "cell_type": "code",
   "execution_count": 81,
   "id": "520d27e8",
   "metadata": {},
   "outputs": [
    {
     "name": "stdout",
     "output_type": "stream",
     "text": [
      "0 torch.Size([1]) torch.Size([4, 1000]) torch.Size([1]) tensor([-1.])\n",
      "1 torch.Size([1]) torch.Size([4, 1000]) torch.Size([1]) tensor([-1.])\n",
      "2 torch.Size([1]) torch.Size([4, 1000]) torch.Size([1]) tensor([-1.])\n",
      "3 torch.Size([1]) torch.Size([4, 1000]) torch.Size([1]) tensor([-1.])\n"
     ]
    }
   ],
   "source": [
    "# Check the Dataset Class\n",
    "for i in range(len(test_datamodule.train_dataloader().dataset)):\n",
    "    sample = test_datamodule.train_dataloader().dataset[i]\n",
    "    print(i, sample[0].size(), sample[1].size(), sample[2].size(), sample[3])\n",
    "    if i == 3:\n",
    "        break"
   ]
  },
  {
   "cell_type": "code",
   "execution_count": 82,
   "id": "ba2c7f2f",
   "metadata": {},
   "outputs": [
    {
     "name": "stdout",
     "output_type": "stream",
     "text": [
      "0 torch.Size([16, 4, 1000]) torch.Size([16, 1]) torch.Size([16, 1])\n",
      "1 torch.Size([16, 4, 1000]) torch.Size([16, 1]) torch.Size([16, 1])\n",
      "2 torch.Size([16, 4, 1000]) torch.Size([16, 1]) torch.Size([16, 1])\n",
      "3 torch.Size([16, 4, 1000]) torch.Size([16, 1]) torch.Size([16, 1])\n"
     ]
    }
   ],
   "source": [
    "# Check the DataLoader\n",
    "for i_batch, sample_batched in enumerate(test_datamodule.train_dataloader()):\n",
    "    print(i_batch, sample_batched[1].size(), sample_batched[2].size(), sample_batched[3].size())\n",
    "    # observe 4th batch and stop.\n",
    "    if i_batch == 3:\n",
    "        break"
   ]
  },
  {
   "cell_type": "code",
   "execution_count": 21,
   "id": "8daa7b79",
   "metadata": {},
   "outputs": [
    {
     "data": {
      "text/plain": [
       "(tensor([-1.]),\n",
       " tensor([[0., 0., 0.,  ..., 1., 0., 1.],\n",
       "         [0., 0., 1.,  ..., 0., 0., 0.],\n",
       "         [1., 1., 0.,  ..., 0., 0., 0.],\n",
       "         [0., 0., 0.,  ..., 0., 1., 0.]]),\n",
       " tensor([-1.]),\n",
       " tensor([-1.]))"
      ]
     },
     "execution_count": 21,
     "metadata": {},
     "output_type": "execute_result"
    }
   ],
   "source": [
    "test_datamodule."
   ]
  },
  {
   "cell_type": "code",
   "execution_count": null,
   "id": "4a8ac144",
   "metadata": {},
   "outputs": [],
   "source": []
  }
 ],
 "metadata": {
  "kernelspec": {
   "display_name": "Python 3",
   "language": "python",
   "name": "python3"
  },
  "language_info": {
   "codemirror_mode": {
    "name": "ipython",
    "version": 3
   },
   "file_extension": ".py",
   "mimetype": "text/x-python",
   "name": "python",
   "nbconvert_exporter": "python",
   "pygments_lexer": "ipython3",
   "version": "3.7.12"
  },
  "vscode": {
   "interpreter": {
    "hash": "1330bbbf2c4cf53098ef1254540d5dd54a9d501f0408fea1c04a20872667b797"
   }
  }
 },
 "nbformat": 4,
 "nbformat_minor": 5
}

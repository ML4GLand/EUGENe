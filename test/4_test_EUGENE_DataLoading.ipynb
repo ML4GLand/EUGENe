{
 "cells": [
  {
   "cell_type": "markdown",
   "id": "c3daa03e",
   "metadata": {},
   "source": [
    "# Testing Sequence Dataloading"
   ]
  },
  {
   "cell_type": "markdown",
   "id": "91689580",
   "metadata": {
    "tags": []
   },
   "source": [
    "**Authorship:**\n",
    "Adam Klie, *03/02/2022*\n",
    "***\n",
    "**Description:**\n",
    "Notebook for testing out PyTorch DataLoading for SeqDataSet and SeqDataModule classes"
   ]
  },
  {
   "cell_type": "markdown",
   "id": "31b7058a",
   "metadata": {},
   "source": [
    "<div class=\"alert alert-block alert-warning\">\n",
    "<b>TODOs</b>:\n",
    "<ul>\n",
    "    <b><li>Add test cases for each step</li></b>\n",
    "    <b><li>Feel like initial loading will break given certain data</li></b>\n",
    "    </ul>\n",
    "</div>"
   ]
  },
  {
   "cell_type": "code",
   "execution_count": 1,
   "id": "92833b89",
   "metadata": {
    "execution": {
     "iopub.execute_input": "2022-04-24T18:43:50.141019Z",
     "iopub.status.busy": "2022-04-24T18:43:50.140893Z",
     "iopub.status.idle": "2022-04-24T18:43:57.795293Z",
     "shell.execute_reply": "2022-04-24T18:43:57.794764Z",
     "shell.execute_reply.started": "2022-04-24T18:43:50.140980Z"
    },
    "tags": []
   },
   "outputs": [],
   "source": [
    "import numpy as np\n",
    "import pandas as pd\n",
    "\n",
    "# Autoreload extension\n",
    "if 'autoreload' not in get_ipython().extension_manager.loaded:\n",
    "    %load_ext autoreload\n",
    "%autoreload 2"
   ]
  },
  {
   "cell_type": "code",
   "execution_count": 2,
   "id": "43f33d13",
   "metadata": {
    "execution": {
     "iopub.execute_input": "2022-04-24T18:43:57.798361Z",
     "iopub.status.busy": "2022-04-24T18:43:57.798250Z",
     "iopub.status.idle": "2022-04-24T18:43:58.897514Z",
     "shell.execute_reply": "2022-04-24T18:43:58.897021Z",
     "shell.execute_reply.started": "2022-04-24T18:43:57.798345Z"
    },
    "tags": []
   },
   "outputs": [],
   "source": [
    "# Define directories\n",
    "OLS_TSV = \"/cellar/users/aklie/projects/EUGENE/data/2021_OLS_Library/2021_OLS_Library.tsv\"\n",
    "NUMPY_OHE = \"/cellar/users/aklie/projects/EUGENE/data/2021_OLS_Library/ohe_seq/0.09-0.4_X-train-0.9_ohe-seq.npy\"\n",
    "FASTA_SEQS = \"/cellar/users/aklie/projects/EUGENE/data/2021_OLS_Library/fasta/0.09-0.4_X-test-0.1_fasta.fa\"\n",
    "BINARY_TARGET = \"/cellar/users/aklie/projects/EUGENE/data/2021_OLS_Library/binary/0.09-0.4_y-train-0.9_binary.txt\""
   ]
  },
  {
   "cell_type": "markdown",
   "id": "7ff23967",
   "metadata": {
    "tags": []
   },
   "source": [
    "# SeqDataset Class\n",
    "PyTorch Dataset class for loading sequence data. Here tare the steps for loading:\n",
    " 1. Load the dataset from files of different supported types using functions from `load_data.py`\n",
    " 2. Generate an SeqDataset object from sequences and targets\n",
    "     - Pass in the seqs and targets\n",
    "     - Compose torchvision transforms\n",
    " 3. Pass the dataset to DataLoader"
   ]
  },
  {
   "cell_type": "code",
   "execution_count": 3,
   "id": "1b6e97ef",
   "metadata": {
    "execution": {
     "iopub.execute_input": "2022-04-24T18:43:58.898329Z",
     "iopub.status.busy": "2022-04-24T18:43:58.898203Z",
     "iopub.status.idle": "2022-04-24T18:43:59.969866Z",
     "shell.execute_reply": "2022-04-24T18:43:59.969510Z",
     "shell.execute_reply.started": "2022-04-24T18:43:58.898313Z"
    },
    "tags": []
   },
   "outputs": [
    {
     "name": "stdout",
     "output_type": "stream",
     "text": [
      "\u001b[0;31mInit signature:\u001b[0m \u001b[0mSeqDataset\u001b[0m\u001b[0;34m(\u001b[0m\u001b[0;34m*\u001b[0m\u001b[0margs\u001b[0m\u001b[0;34m,\u001b[0m \u001b[0;34m**\u001b[0m\u001b[0mkwds\u001b[0m\u001b[0;34m)\u001b[0m\u001b[0;34m\u001b[0m\u001b[0;34m\u001b[0m\u001b[0m\n",
      "\u001b[0;31mDocstring:\u001b[0m      Sequence based PyTorch dataset definition\n",
      "\u001b[0;31mInit docstring:\u001b[0m\n",
      "Args:\n",
      "    seqs (iterable): list of sequences to serve as input into models\n",
      "    names (iterable, optional): list of identifiers for sequences\n",
      "    targets (iterable): aligned list of targets for each sequence\n",
      "    rev_seqs (iterable, optional): Optional reverse complements of seqs\n",
      "    transform (callable, optional): Optional transform to be applied\n",
      "        on a sample.\n",
      "\u001b[0;31mFile:\u001b[0m           /mnt/beegfs/users/aklie/projects/EUGENE/eugene/dataloading/SeqDataset.py\n",
      "\u001b[0;31mType:\u001b[0m           type\n",
      "\u001b[0;31mSubclasses:\u001b[0m     \n"
     ]
    }
   ],
   "source": [
    "from eugene.dataloading.SeqDataset import SeqDataset\n",
    "SeqDataset?"
   ]
  },
  {
   "cell_type": "markdown",
   "id": "801213b2",
   "metadata": {
    "tags": []
   },
   "source": [
    "## Load from TSV"
   ]
  },
  {
   "cell_type": "code",
   "execution_count": 61,
   "id": "8eb6c198",
   "metadata": {
    "execution": {
     "iopub.execute_input": "2022-04-24T19:07:55.150769Z",
     "iopub.status.busy": "2022-04-24T19:07:55.150549Z",
     "iopub.status.idle": "2022-04-24T19:07:56.104719Z",
     "shell.execute_reply": "2022-04-24T19:07:56.104224Z",
     "shell.execute_reply.started": "2022-04-24T19:07:55.150749Z"
    },
    "tags": []
   },
   "outputs": [],
   "source": [
    "from eugene.dataloading.load_data import load_csv"
   ]
  },
  {
   "cell_type": "code",
   "execution_count": 134,
   "id": "a7922c8f",
   "metadata": {
    "execution": {
     "iopub.execute_input": "2022-04-24T19:24:39.407154Z",
     "iopub.status.busy": "2022-04-24T19:24:39.406986Z",
     "iopub.status.idle": "2022-04-24T19:24:40.461950Z",
     "shell.execute_reply": "2022-04-24T19:24:40.461508Z",
     "shell.execute_reply.started": "2022-04-24T19:24:39.407137Z"
    },
    "tags": []
   },
   "outputs": [
    {
     "data": {
      "text/plain": [
       "(array(['seq001', 'seq002', 'seq003', 'seq004', 'seq005', 'seq006',\n",
       "        'seq007', 'seq008', 'seq009', 'seq010', 'seq011', 'seq012',\n",
       "        'seq013', 'seq014', 'seq015', 'seq016', 'seq017', 'seq018',\n",
       "        'seq019', 'seq020', 'seq021', 'seq022', 'seq023', 'seq024',\n",
       "        'seq025', 'seq026', 'seq027', 'seq028', 'seq029', 'seq030',\n",
       "        'seq031', 'seq032', 'seq033', 'seq034', 'seq035', 'seq036',\n",
       "        'seq037', 'seq038', 'seq039', 'seq040', 'seq041', 'seq042',\n",
       "        'seq043', 'seq044', 'seq045', 'seq046', 'seq047', 'seq048',\n",
       "        'seq049', 'seq050', 'seq051', 'seq052', 'seq053', 'seq054',\n",
       "        'seq055', 'seq056', 'seq057', 'seq058', 'seq059', 'seq060',\n",
       "        'seq061', 'seq062', 'seq063', 'seq064', 'seq065', 'seq066',\n",
       "        'seq067', 'seq068', 'seq069', 'seq070', 'seq071', 'seq072',\n",
       "        'seq073', 'seq074', 'seq075', 'seq076', 'seq077', 'seq078',\n",
       "        'seq079', 'seq080', 'seq081', 'seq082', 'seq083', 'seq084',\n",
       "        'seq085', 'seq086', 'seq087', 'seq088', 'seq089', 'seq090',\n",
       "        'seq091', 'seq092', 'seq093', 'seq094', 'seq095', 'seq096',\n",
       "        'seq097', 'seq098', 'seq099', 'seq100'], dtype='<U6'),\n",
       " 100,\n",
       " 'GTAGG',\n",
       " 100,\n",
       " 'CCTAC',\n",
       " 0.0)"
      ]
     },
     "execution_count": 134,
     "metadata": {},
     "output_type": "execute_result"
    }
   ],
   "source": [
    "# Load the sequences as numpy arrays\n",
    "names, seqs, rev_seqs, targets = load_csv(\"test_100seqs_66/test_seqs.tsv\", seq_col=\"SEQ\", name_col=\"NAME\", target_col=\"LABEL\", rev_comp=True)\n",
    "names, len(seqs), seqs[0][:5], len(rev_seqs), rev_seqs[0][-5:], targets[0]"
   ]
  },
  {
   "cell_type": "code",
   "execution_count": 135,
   "id": "93dffd45-7956-4141-bad3-9b0fd8ece9c4",
   "metadata": {
    "execution": {
     "iopub.execute_input": "2022-04-24T19:24:41.201869Z",
     "iopub.status.busy": "2022-04-24T19:24:41.201641Z",
     "iopub.status.idle": "2022-04-24T19:24:42.147719Z",
     "shell.execute_reply": "2022-04-24T19:24:42.147284Z",
     "shell.execute_reply.started": "2022-04-24T19:24:41.201852Z"
    },
    "tags": []
   },
   "outputs": [
    {
     "data": {
      "text/plain": [
       "(100,)"
      ]
     },
     "execution_count": 135,
     "metadata": {},
     "output_type": "execute_result"
    }
   ],
   "source": [
    "targets.shape"
   ]
  },
  {
   "cell_type": "code",
   "execution_count": 136,
   "id": "3e6d1f26",
   "metadata": {
    "execution": {
     "iopub.execute_input": "2022-04-24T19:24:42.154610Z",
     "iopub.status.busy": "2022-04-24T19:24:42.154491Z",
     "iopub.status.idle": "2022-04-24T19:24:42.985204Z",
     "shell.execute_reply": "2022-04-24T19:24:42.984612Z",
     "shell.execute_reply.started": "2022-04-24T19:24:42.154594Z"
    },
    "tags": []
   },
   "outputs": [],
   "source": [
    "# Compose different data transforms for this particular load\n",
    "data_transform = transforms.Compose([\n",
    "    Augment(randomize_linker_p=0.1, enhancer=\"WT-otx-a\"), ReverseComplement(ohe_encoded=False), OneHotEncode(), ToTensor(transpose=False)\n",
    "])"
   ]
  },
  {
   "cell_type": "code",
   "execution_count": 141,
   "id": "dd396b15-605b-4f2e-8214-db6c713c16ae",
   "metadata": {
    "execution": {
     "iopub.execute_input": "2022-04-24T19:24:55.307041Z",
     "iopub.status.busy": "2022-04-24T19:24:55.306906Z",
     "iopub.status.idle": "2022-04-24T19:24:56.137135Z",
     "shell.execute_reply": "2022-04-24T19:24:56.136745Z",
     "shell.execute_reply.started": "2022-04-24T19:24:55.307025Z"
    },
    "tags": []
   },
   "outputs": [
    {
     "data": {
      "text/plain": [
       "False"
      ]
     },
     "execution_count": 141,
     "metadata": {},
     "output_type": "execute_result"
    }
   ],
   "source": [
    "np.any(test_dataset.name_lengths != test_dataset.name_lengths[0])"
   ]
  },
  {
   "cell_type": "code",
   "execution_count": 140,
   "id": "f04d4b0b-b1ad-4ea8-b40d-22497c97d1d3",
   "metadata": {
    "execution": {
     "iopub.execute_input": "2022-04-24T19:24:53.301354Z",
     "iopub.status.busy": "2022-04-24T19:24:53.301186Z",
     "iopub.status.idle": "2022-04-24T19:24:54.154778Z",
     "shell.execute_reply": "2022-04-24T19:24:54.154323Z",
     "shell.execute_reply.started": "2022-04-24T19:24:53.301337Z"
    },
    "tags": []
   },
   "outputs": [
    {
     "data": {
      "text/plain": [
       "array([False, False, False, False, False, False, False, False, False,\n",
       "       False, False, False, False, False, False, False, False, False,\n",
       "       False, False, False, False, False, False, False, False, False,\n",
       "       False, False, False, False, False, False, False, False, False,\n",
       "       False, False, False, False, False, False, False, False, False,\n",
       "       False, False, False, False, False, False, False, False, False,\n",
       "       False, False, False, False, False, False, False, False, False,\n",
       "       False, False, False, False, False, False, False, False, False,\n",
       "       False, False, False, False, False, False, False, False, False,\n",
       "       False, False, False, False, False, False, False, False, False,\n",
       "       False, False, False, False, False, False, False, False, False,\n",
       "       False])"
      ]
     },
     "execution_count": 140,
     "metadata": {},
     "output_type": "execute_result"
    }
   ],
   "source": [
    "test_dataset.name_lengths != test_dataset.name_lengths[0]"
   ]
  },
  {
   "cell_type": "code",
   "execution_count": 139,
   "id": "f07a96d7",
   "metadata": {
    "execution": {
     "iopub.execute_input": "2022-04-24T19:24:44.722721Z",
     "iopub.status.busy": "2022-04-24T19:24:44.722605Z",
     "iopub.status.idle": "2022-04-24T19:24:45.666904Z",
     "shell.execute_reply": "2022-04-24T19:24:45.666480Z",
     "shell.execute_reply.started": "2022-04-24T19:24:44.722705Z"
    },
    "tags": []
   },
   "outputs": [
    {
     "data": {
      "text/plain": [
       "(tensor([115., 101., 113.,  48.,  48.,  49.]),\n",
       " tensor([[0., 0., 1., 0.],\n",
       "         [0., 0., 0., 1.],\n",
       "         [1., 0., 0., 0.],\n",
       "         [0., 0., 1., 0.],\n",
       "         [0., 0., 1., 0.],\n",
       "         [0., 0., 0., 1.],\n",
       "         [1., 0., 0., 0.],\n",
       "         [1., 0., 0., 0.],\n",
       "         [0., 0., 1., 0.],\n",
       "         [0., 1., 0., 0.],\n",
       "         [0., 0., 1., 0.],\n",
       "         [0., 0., 1., 0.],\n",
       "         [0., 0., 1., 0.],\n",
       "         [0., 0., 1., 0.],\n",
       "         [0., 0., 0., 1.],\n",
       "         [1., 0., 0., 0.],\n",
       "         [0., 0., 0., 1.],\n",
       "         [0., 0., 0., 1.],\n",
       "         [0., 0., 0., 1.],\n",
       "         [0., 0., 1., 0.],\n",
       "         [0., 1., 0., 0.],\n",
       "         [1., 0., 0., 0.],\n",
       "         [0., 1., 0., 0.],\n",
       "         [0., 0., 0., 1.],\n",
       "         [0., 0., 0., 1.],\n",
       "         [0., 1., 0., 0.],\n",
       "         [0., 1., 0., 0.],\n",
       "         [0., 1., 0., 0.],\n",
       "         [0., 0., 0., 1.],\n",
       "         [0., 0., 0., 1.],\n",
       "         [1., 0., 0., 0.],\n",
       "         [1., 0., 0., 0.],\n",
       "         [0., 0., 0., 1.],\n",
       "         [0., 1., 0., 0.],\n",
       "         [0., 1., 0., 0.],\n",
       "         [1., 0., 0., 0.],\n",
       "         [0., 0., 0., 1.],\n",
       "         [1., 0., 0., 0.],\n",
       "         [1., 0., 0., 0.],\n",
       "         [0., 0., 1., 0.],\n",
       "         [0., 0., 1., 0.],\n",
       "         [0., 0., 1., 0.],\n",
       "         [0., 1., 0., 0.],\n",
       "         [0., 0., 0., 1.],\n",
       "         [0., 0., 0., 1.],\n",
       "         [0., 0., 0., 1.],\n",
       "         [0., 0., 0., 1.],\n",
       "         [0., 0., 1., 0.],\n",
       "         [0., 1., 0., 0.],\n",
       "         [0., 1., 0., 0.],\n",
       "         [0., 0., 1., 0.],\n",
       "         [0., 1., 0., 0.],\n",
       "         [0., 0., 1., 0.],\n",
       "         [0., 0., 0., 1.],\n",
       "         [0., 0., 1., 0.],\n",
       "         [0., 0., 0., 1.],\n",
       "         [0., 0., 0., 1.],\n",
       "         [1., 0., 0., 0.],\n",
       "         [0., 0., 1., 0.],\n",
       "         [1., 0., 0., 0.],\n",
       "         [0., 0., 1., 0.],\n",
       "         [0., 0., 1., 0.],\n",
       "         [1., 0., 0., 0.],\n",
       "         [1., 0., 0., 0.],\n",
       "         [0., 0., 1., 0.],\n",
       "         [0., 1., 0., 0.]]),\n",
       " tensor([[0., 0., 1., 0.],\n",
       "         [0., 1., 0., 0.],\n",
       "         [0., 0., 0., 1.],\n",
       "         [0., 0., 0., 1.],\n",
       "         [0., 1., 0., 0.],\n",
       "         [0., 1., 0., 0.],\n",
       "         [0., 0., 0., 1.],\n",
       "         [0., 1., 0., 0.],\n",
       "         [0., 0., 0., 1.],\n",
       "         [1., 0., 0., 0.],\n",
       "         [1., 0., 0., 0.],\n",
       "         [0., 1., 0., 0.],\n",
       "         [1., 0., 0., 0.],\n",
       "         [0., 1., 0., 0.],\n",
       "         [0., 0., 1., 0.],\n",
       "         [0., 1., 0., 0.],\n",
       "         [0., 0., 1., 0.],\n",
       "         [0., 0., 1., 0.],\n",
       "         [0., 1., 0., 0.],\n",
       "         [1., 0., 0., 0.],\n",
       "         [1., 0., 0., 0.],\n",
       "         [1., 0., 0., 0.],\n",
       "         [1., 0., 0., 0.],\n",
       "         [0., 0., 1., 0.],\n",
       "         [0., 1., 0., 0.],\n",
       "         [0., 1., 0., 0.],\n",
       "         [0., 1., 0., 0.],\n",
       "         [0., 0., 0., 1.],\n",
       "         [0., 0., 0., 1.],\n",
       "         [1., 0., 0., 0.],\n",
       "         [0., 0., 0., 1.],\n",
       "         [0., 0., 1., 0.],\n",
       "         [0., 0., 1., 0.],\n",
       "         [1., 0., 0., 0.],\n",
       "         [0., 0., 0., 1.],\n",
       "         [0., 0., 0., 1.],\n",
       "         [1., 0., 0., 0.],\n",
       "         [1., 0., 0., 0.],\n",
       "         [0., 0., 1., 0.],\n",
       "         [0., 0., 1., 0.],\n",
       "         [0., 0., 1., 0.],\n",
       "         [1., 0., 0., 0.],\n",
       "         [1., 0., 0., 0.],\n",
       "         [0., 0., 1., 0.],\n",
       "         [0., 0., 0., 1.],\n",
       "         [0., 0., 1., 0.],\n",
       "         [0., 1., 0., 0.],\n",
       "         [1., 0., 0., 0.],\n",
       "         [1., 0., 0., 0.],\n",
       "         [1., 0., 0., 0.],\n",
       "         [0., 0., 0., 1.],\n",
       "         [1., 0., 0., 0.],\n",
       "         [0., 1., 0., 0.],\n",
       "         [0., 1., 0., 0.],\n",
       "         [0., 1., 0., 0.],\n",
       "         [0., 1., 0., 0.],\n",
       "         [0., 0., 1., 0.],\n",
       "         [0., 1., 0., 0.],\n",
       "         [0., 0., 0., 1.],\n",
       "         [0., 0., 0., 1.],\n",
       "         [1., 0., 0., 0.],\n",
       "         [0., 1., 0., 0.],\n",
       "         [0., 1., 0., 0.],\n",
       "         [0., 0., 0., 1.],\n",
       "         [1., 0., 0., 0.],\n",
       "         [0., 1., 0., 0.]]),\n",
       " tensor(0.))"
      ]
     },
     "execution_count": 139,
     "metadata": {},
     "output_type": "execute_result"
    }
   ],
   "source": [
    "# Instantiate a Dataset\n",
    "test_dataset = SeqDataset(seqs, names=names, targets=targets, transform=data_transform)\n",
    "test_dataset[0]"
   ]
  },
  {
   "cell_type": "code",
   "execution_count": 32,
   "id": "3988949e",
   "metadata": {
    "execution": {
     "iopub.execute_input": "2022-04-17T00:48:05.351354Z",
     "iopub.status.busy": "2022-04-17T00:48:05.351072Z",
     "iopub.status.idle": "2022-04-17T00:48:05.948527Z",
     "shell.execute_reply": "2022-04-17T00:48:05.948055Z",
     "shell.execute_reply.started": "2022-04-17T00:48:05.351332Z"
    },
    "tags": []
   },
   "outputs": [
    {
     "name": "stdout",
     "output_type": "stream",
     "text": [
      "0 torch.Size([66, 4]) torch.Size([66, 4]) tensor(0.9078)\n",
      "1 torch.Size([66, 4]) torch.Size([66, 4]) tensor(0.5071)\n",
      "2 torch.Size([66, 4]) torch.Size([66, 4]) tensor(0.6962)\n",
      "3 torch.Size([66, 4]) torch.Size([66, 4]) tensor(0.8218)\n"
     ]
    }
   ],
   "source": [
    "# Check the Dataset Class\n",
    "for i in range(len(test_dataset)):\n",
    "    sample = test_dataset[i]\n",
    "    print(i, sample[1].size(), sample[2].size(), sample[3])\n",
    "    if i == 3:\n",
    "        break"
   ]
  },
  {
   "cell_type": "markdown",
   "id": "f1f4bbd5",
   "metadata": {
    "tags": [],
    "toc-hr-collapsed": true
   },
   "source": [
    "## Load from Numpy arrays"
   ]
  },
  {
   "cell_type": "code",
   "execution_count": 34,
   "id": "c3484f86",
   "metadata": {
    "execution": {
     "iopub.execute_input": "2022-04-17T00:48:26.449744Z",
     "iopub.status.busy": "2022-04-17T00:48:26.449576Z",
     "iopub.status.idle": "2022-04-17T00:48:27.048932Z",
     "shell.execute_reply": "2022-04-17T00:48:27.048425Z",
     "shell.execute_reply.started": "2022-04-17T00:48:26.449726Z"
    },
    "tags": []
   },
   "outputs": [],
   "source": [
    "from eugene.dataloading.load_data import load_numpy"
   ]
  },
  {
   "cell_type": "code",
   "execution_count": 62,
   "id": "29f644d0-87cd-4e46-98eb-fb29be16d16c",
   "metadata": {
    "execution": {
     "iopub.execute_input": "2022-04-17T01:00:16.198577Z",
     "iopub.status.busy": "2022-04-17T01:00:16.198404Z",
     "iopub.status.idle": "2022-04-17T01:00:18.999408Z",
     "shell.execute_reply": "2022-04-17T01:00:18.999113Z",
     "shell.execute_reply.started": "2022-04-17T01:00:16.198559Z"
    },
    "tags": []
   },
   "outputs": [
    {
     "data": {
      "text/plain": [
       "(None,\n",
       " array([[0., 1., 0., 0.],\n",
       "        [1., 0., 0., 0.],\n",
       "        [0., 0., 0., 1.],\n",
       "        [0., 1., 0., 0.],\n",
       "        [0., 0., 0., 1.]]),\n",
       " None,\n",
       " 1.0)"
      ]
     },
     "execution_count": 62,
     "metadata": {},
     "output_type": "execute_result"
    }
   ],
   "source": [
    "# Load the sequences as numpy arrays\n",
    "names, seqs, rev_seqs, targets = load_numpy(\"../data/2021_OLS_Library/ohe_seq/0.09-0.4_X-all_ohe-seq.npy\",\n",
    "                                            target_file=\"../data/2021_OLS_Library/binary/0.09-0.4_y-all_binary.txt\",\n",
    "                                            is_target_text=True)\n",
    "names, seqs[0][:5], rev_seqs, targets[0]"
   ]
  },
  {
   "cell_type": "code",
   "execution_count": 58,
   "id": "b49cb468-8d33-474b-a7c0-7cb2d6cd0087",
   "metadata": {
    "execution": {
     "iopub.execute_input": "2022-04-17T00:54:30.335238Z",
     "iopub.status.busy": "2022-04-17T00:54:30.335108Z",
     "iopub.status.idle": "2022-04-17T00:54:31.399282Z",
     "shell.execute_reply": "2022-04-17T00:54:31.398977Z",
     "shell.execute_reply.started": "2022-04-17T00:54:30.335221Z"
    }
   },
   "outputs": [
    {
     "data": {
      "text/plain": [
       "(460800,)"
      ]
     },
     "execution_count": 58,
     "metadata": {},
     "output_type": "execute_result"
    }
   ],
   "source": [
    "targets.shape"
   ]
  },
  {
   "cell_type": "code",
   "execution_count": 60,
   "id": "2ebce851",
   "metadata": {
    "execution": {
     "iopub.execute_input": "2022-04-17T00:54:32.663588Z",
     "iopub.status.busy": "2022-04-17T00:54:32.663372Z",
     "iopub.status.idle": "2022-04-17T00:54:33.760166Z",
     "shell.execute_reply": "2022-04-17T00:54:33.759872Z",
     "shell.execute_reply.started": "2022-04-17T00:54:32.663558Z"
    },
    "tags": []
   },
   "outputs": [
    {
     "data": {
      "text/plain": [
       "(100,\n",
       " 'seq001',\n",
       " 100,\n",
       " array([[0, 0, 1, 0],\n",
       "        [0, 0, 0, 1],\n",
       "        [1, 0, 0, 0],\n",
       "        [0, 0, 1, 0],\n",
       "        [0, 0, 1, 0]], dtype=int8),\n",
       " 100,\n",
       " array([[0, 1, 0, 0],\n",
       "        [0, 1, 0, 0],\n",
       "        [0, 0, 0, 1],\n",
       "        [1, 0, 0, 0],\n",
       "        [0, 1, 0, 0]], dtype=int8),\n",
       " 0)"
      ]
     },
     "execution_count": 60,
     "metadata": {},
     "output_type": "execute_result"
    }
   ],
   "source": [
    "# Load the sequences as numpy arrays\n",
    "names, seqs, rev_seqs, targets = load_numpy(\"test_100seqs_1000/test_ohe_seqs.npy\", \n",
    "                                            target_file=\"test_100seqs_66/test_labels.npy\",\n",
    "                                            names_file=\"test_100seqs_66/test_ids.npy\", \n",
    "                                            rev_seq_file=\"test_100seqs_66/test_rev_ohe_seqs.npy\")\n",
    "len(names), names[0], len(seqs), seqs[0][:5], len(rev_seqs), rev_seqs[0][-5:], targets[0]"
   ]
  },
  {
   "cell_type": "code",
   "execution_count": 61,
   "id": "b734c291-eabc-46aa-b5c9-a7a853a141ad",
   "metadata": {
    "execution": {
     "iopub.execute_input": "2022-04-17T00:54:33.760892Z",
     "iopub.status.busy": "2022-04-17T00:54:33.760746Z",
     "iopub.status.idle": "2022-04-17T00:54:34.603450Z",
     "shell.execute_reply": "2022-04-17T00:54:34.603153Z",
     "shell.execute_reply.started": "2022-04-17T00:54:33.760876Z"
    },
    "tags": []
   },
   "outputs": [
    {
     "data": {
      "text/plain": [
       "(100,)"
      ]
     },
     "execution_count": 61,
     "metadata": {},
     "output_type": "execute_result"
    }
   ],
   "source": [
    "targets.shape"
   ]
  },
  {
   "cell_type": "code",
   "execution_count": 279,
   "id": "89924b0c",
   "metadata": {
    "execution": {
     "iopub.execute_input": "2022-04-03T21:04:08.105874Z",
     "iopub.status.busy": "2022-04-03T21:04:08.105015Z",
     "iopub.status.idle": "2022-04-03T21:04:08.833339Z",
     "shell.execute_reply": "2022-04-03T21:04:08.832961Z",
     "shell.execute_reply.started": "2022-04-03T21:04:08.105854Z"
    },
    "tags": []
   },
   "outputs": [],
   "source": [
    "# Compose different data transforms for this particular load\n",
    "data_transform = transforms.Compose([ToTensor(transpose=False)])"
   ]
  },
  {
   "cell_type": "code",
   "execution_count": 280,
   "id": "39ed6c60",
   "metadata": {},
   "outputs": [],
   "source": [
    "# Instantiate a Dataset\n",
    "test_dataset = MPRADataset(seqs, names=names, rev_seqs=rev_seqs, transform=data_transform)"
   ]
  },
  {
   "cell_type": "code",
   "execution_count": 282,
   "id": "86dbb499",
   "metadata": {},
   "outputs": [
    {
     "name": "stdout",
     "output_type": "stream",
     "text": [
      "0 torch.Size([6]) torch.Size([1000, 4]) torch.Size([1000, 4]) tensor([-1.])\n",
      "1 torch.Size([6]) torch.Size([1000, 4]) torch.Size([1000, 4]) tensor([-1.])\n",
      "2 torch.Size([6]) torch.Size([1000, 4]) torch.Size([1000, 4]) tensor([-1.])\n",
      "3 torch.Size([6]) torch.Size([1000, 4]) torch.Size([1000, 4]) tensor([-1.])\n"
     ]
    }
   ],
   "source": [
    "# Check the Dataset Class\n",
    "for i in range(len(test_dataset)):\n",
    "    sample = test_dataset[i]\n",
    "    print(i, sample[0].size(), sample[1].size(), sample[2].size(), sample[3])\n",
    "    if i == 3:\n",
    "        break"
   ]
  },
  {
   "cell_type": "markdown",
   "id": "5c3d76a5",
   "metadata": {
    "tags": [],
    "toc-hr-collapsed": true
   },
   "source": [
    "## Load from Fasta"
   ]
  },
  {
   "cell_type": "code",
   "execution_count": 283,
   "id": "2a0d09c3",
   "metadata": {
    "execution": {
     "iopub.execute_input": "2022-04-03T21:04:10.049616Z",
     "iopub.status.busy": "2022-04-03T21:04:10.048613Z",
     "iopub.status.idle": "2022-04-03T21:04:10.764298Z",
     "shell.execute_reply": "2022-04-03T21:04:10.763891Z",
     "shell.execute_reply.started": "2022-04-03T21:04:10.049596Z"
    },
    "tags": []
   },
   "outputs": [],
   "source": [
    "from load_data import load_fasta"
   ]
  },
  {
   "cell_type": "code",
   "execution_count": 284,
   "id": "2ccf31f9",
   "metadata": {
    "execution": {
     "iopub.execute_input": "2022-04-03T21:04:11.391869Z",
     "iopub.status.busy": "2022-04-03T21:04:11.390977Z",
     "iopub.status.idle": "2022-04-03T21:04:13.432442Z",
     "shell.execute_reply": "2022-04-03T21:04:13.432135Z",
     "shell.execute_reply.started": "2022-04-03T21:04:11.391849Z"
    },
    "tags": []
   },
   "outputs": [],
   "source": [
    "# Load the sequences as numpy arrays\n",
    "names, seqs, rev_seqs, targets = load_fasta(\"test_seqs.fa\", \"test_labels.npy\", rev_comp=True)"
   ]
  },
  {
   "cell_type": "code",
   "execution_count": 285,
   "id": "786c1a20",
   "metadata": {
    "execution": {
     "iopub.execute_input": "2022-04-03T21:04:13.435024Z",
     "iopub.status.busy": "2022-04-03T21:04:13.434155Z",
     "iopub.status.idle": "2022-04-03T21:04:14.343630Z",
     "shell.execute_reply": "2022-04-03T21:04:14.343213Z",
     "shell.execute_reply.started": "2022-04-03T21:04:13.435004Z"
    },
    "tags": []
   },
   "outputs": [],
   "source": [
    "# Compose different data transforms for this particular load\n",
    "data_transform = transforms.Compose([\n",
    "    Augment(randomize_linker_p=0.1, enhancer=\"WT-otx-a\"), OneHotEncode(), ToTensor(transpose=False)\n",
    "])"
   ]
  },
  {
   "cell_type": "code",
   "execution_count": 289,
   "id": "3a1bff3f",
   "metadata": {
    "execution": {
     "iopub.execute_input": "2022-04-03T21:04:14.346602Z",
     "iopub.status.busy": "2022-04-03T21:04:14.345712Z",
     "iopub.status.idle": "2022-04-03T21:04:15.054405Z",
     "shell.execute_reply": "2022-04-03T21:04:15.054049Z",
     "shell.execute_reply.started": "2022-04-03T21:04:14.346583Z"
    },
    "tags": []
   },
   "outputs": [],
   "source": [
    "# Instantiate a Dataset\n",
    "test_dataset = MPRADataset(seqs, names=names, targets=targets, rev_seqs=rev_seqs, transform=data_transform)"
   ]
  },
  {
   "cell_type": "code",
   "execution_count": 290,
   "id": "54c1ea05",
   "metadata": {
    "execution": {
     "iopub.execute_input": "2022-04-03T21:04:15.057231Z",
     "iopub.status.busy": "2022-04-03T21:04:15.056339Z",
     "iopub.status.idle": "2022-04-03T21:04:16.203444Z",
     "shell.execute_reply": "2022-04-03T21:04:16.203137Z",
     "shell.execute_reply.started": "2022-04-03T21:04:15.057211Z"
    },
    "tags": []
   },
   "outputs": [
    {
     "name": "stdout",
     "output_type": "stream",
     "text": [
      "0 torch.Size([6]) torch.Size([1000, 4]) torch.Size([1000, 4]) tensor(0.)\n",
      "1 torch.Size([6]) torch.Size([1000, 4]) torch.Size([1000, 4]) tensor(1.)\n",
      "2 torch.Size([6]) torch.Size([1000, 4]) torch.Size([1000, 4]) tensor(1.)\n",
      "3 torch.Size([6]) torch.Size([1000, 4]) torch.Size([1000, 4]) tensor(1.)\n"
     ]
    }
   ],
   "source": [
    "# Check the Dataset Class\n",
    "for i in range(len(test_dataset)):\n",
    "    sample = test_dataset[i]\n",
    "    print(i, sample[0].size(), sample[1].size(), sample[2].size(), sample[3])\n",
    "    if i == 3:\n",
    "        break"
   ]
  },
  {
   "cell_type": "markdown",
   "id": "ac70e9b0",
   "metadata": {
    "tags": [],
    "toc-hr-collapsed": true
   },
   "source": [
    "## Build DataLoader"
   ]
  },
  {
   "cell_type": "code",
   "execution_count": 26,
   "id": "9864ae7c",
   "metadata": {},
   "outputs": [],
   "source": [
    "from load_data import load"
   ]
  },
  {
   "cell_type": "code",
   "execution_count": 27,
   "id": "ed1f77e4",
   "metadata": {},
   "outputs": [
    {
     "data": {
      "text/plain": [
       "(100,\n",
       " 'seq001',\n",
       " 100,\n",
       " array([[0, 0, 1, 0],\n",
       "        [0, 0, 0, 1],\n",
       "        [1, 0, 0, 0],\n",
       "        [0, 0, 1, 0],\n",
       "        [0, 0, 1, 0]], dtype=int8),\n",
       " 100,\n",
       " array([[0, 1, 0, 0],\n",
       "        [0, 1, 0, 0],\n",
       "        [0, 0, 0, 1],\n",
       "        [1, 0, 0, 0],\n",
       "        [0, 1, 0, 0]], dtype=int8),\n",
       " 100,\n",
       " 0)"
      ]
     },
     "execution_count": 27,
     "metadata": {},
     "output_type": "execute_result"
    }
   ],
   "source": [
    "# Load the sequences as numpy arrays\n",
    "names, seqs, rev_seqs, targets = load(\"test_ohe_seqs.npy\", names_file=\"test_ids.npy\", target_file=\"test_labels.npy\", rev_seq_file=\"test_rev_ohe_seqs.npy\")\n",
    "len(names), names[0], len(seqs), seqs[0][:5], len(rev_seqs), rev_seqs[0][-5:], len(targets), targets[0]"
   ]
  },
  {
   "cell_type": "code",
   "execution_count": 28,
   "id": "c1aedefa",
   "metadata": {},
   "outputs": [],
   "source": [
    "data_transform = transforms.Compose([\n",
    "    ToTensor(transpose=False)\n",
    "])"
   ]
  },
  {
   "cell_type": "code",
   "execution_count": 29,
   "id": "7178173f",
   "metadata": {},
   "outputs": [],
   "source": [
    "test_dataset = MPRADataset(seqs, names=names, targets=targets, rev_seqs=rev_seqs, transform=data_transform)"
   ]
  },
  {
   "cell_type": "code",
   "execution_count": 30,
   "id": "af4d624e",
   "metadata": {
    "execution": {
     "iopub.execute_input": "2022-04-03T21:04:18.458546Z",
     "iopub.status.busy": "2022-04-03T21:04:18.458380Z",
     "iopub.status.idle": "2022-04-03T21:04:19.415208Z",
     "shell.execute_reply": "2022-04-03T21:04:19.414801Z",
     "shell.execute_reply.started": "2022-04-03T21:04:18.458530Z"
    },
    "tags": []
   },
   "outputs": [],
   "source": [
    "# Instantiate a DataLoader\n",
    "test_dataloader = DataLoader(test_dataset, batch_size=32, shuffle=False, num_workers=0)"
   ]
  },
  {
   "cell_type": "code",
   "execution_count": 33,
   "id": "8680609b",
   "metadata": {},
   "outputs": [
    {
     "name": "stdout",
     "output_type": "stream",
     "text": [
      "0 torch.Size([6]) torch.Size([1000, 4]) torch.Size([1000, 4]) tensor(0.)\n",
      "1 torch.Size([6]) torch.Size([1000, 4]) torch.Size([1000, 4]) tensor(1.)\n",
      "2 torch.Size([6]) torch.Size([1000, 4]) torch.Size([1000, 4]) tensor(1.)\n",
      "3 torch.Size([6]) torch.Size([1000, 4]) torch.Size([1000, 4]) tensor(1.)\n",
      "4 torch.Size([6]) torch.Size([1000, 4]) torch.Size([1000, 4]) tensor(1.)\n",
      "5 torch.Size([6]) torch.Size([1000, 4]) torch.Size([1000, 4]) tensor(1.)\n",
      "6 torch.Size([6]) torch.Size([1000, 4]) torch.Size([1000, 4]) tensor(0.)\n",
      "7 torch.Size([6]) torch.Size([1000, 4]) torch.Size([1000, 4]) tensor(0.)\n",
      "8 torch.Size([6]) torch.Size([1000, 4]) torch.Size([1000, 4]) tensor(0.)\n",
      "9 torch.Size([6]) torch.Size([1000, 4]) torch.Size([1000, 4]) tensor(1.)\n",
      "10 torch.Size([6]) torch.Size([1000, 4]) torch.Size([1000, 4]) tensor(0.)\n",
      "11 torch.Size([6]) torch.Size([1000, 4]) torch.Size([1000, 4]) tensor(1.)\n",
      "12 torch.Size([6]) torch.Size([1000, 4]) torch.Size([1000, 4]) tensor(1.)\n",
      "13 torch.Size([6]) torch.Size([1000, 4]) torch.Size([1000, 4]) tensor(0.)\n",
      "14 torch.Size([6]) torch.Size([1000, 4]) torch.Size([1000, 4]) tensor(1.)\n",
      "15 torch.Size([6]) torch.Size([1000, 4]) torch.Size([1000, 4]) tensor(0.)\n",
      "16 torch.Size([6]) torch.Size([1000, 4]) torch.Size([1000, 4]) tensor(0.)\n",
      "17 torch.Size([6]) torch.Size([1000, 4]) torch.Size([1000, 4]) tensor(1.)\n",
      "18 torch.Size([6]) torch.Size([1000, 4]) torch.Size([1000, 4]) tensor(0.)\n",
      "19 torch.Size([6]) torch.Size([1000, 4]) torch.Size([1000, 4]) tensor(0.)\n",
      "20 torch.Size([6]) torch.Size([1000, 4]) torch.Size([1000, 4]) tensor(1.)\n",
      "21 torch.Size([6]) torch.Size([1000, 4]) torch.Size([1000, 4]) tensor(0.)\n",
      "22 torch.Size([6]) torch.Size([1000, 4]) torch.Size([1000, 4]) tensor(0.)\n",
      "23 torch.Size([6]) torch.Size([1000, 4]) torch.Size([1000, 4]) tensor(1.)\n",
      "24 torch.Size([6]) torch.Size([1000, 4]) torch.Size([1000, 4]) tensor(0.)\n",
      "25 torch.Size([6]) torch.Size([1000, 4]) torch.Size([1000, 4]) tensor(1.)\n",
      "26 torch.Size([6]) torch.Size([1000, 4]) torch.Size([1000, 4]) tensor(1.)\n",
      "27 torch.Size([6]) torch.Size([1000, 4]) torch.Size([1000, 4]) tensor(0.)\n",
      "28 torch.Size([6]) torch.Size([1000, 4]) torch.Size([1000, 4]) tensor(1.)\n",
      "29 torch.Size([6]) torch.Size([1000, 4]) torch.Size([1000, 4]) tensor(1.)\n",
      "30 torch.Size([6]) torch.Size([1000, 4]) torch.Size([1000, 4]) tensor(0.)\n",
      "31 torch.Size([6]) torch.Size([1000, 4]) torch.Size([1000, 4]) tensor(1.)\n",
      "32 torch.Size([6]) torch.Size([1000, 4]) torch.Size([1000, 4]) tensor(1.)\n",
      "33 torch.Size([6]) torch.Size([1000, 4]) torch.Size([1000, 4]) tensor(0.)\n",
      "34 torch.Size([6]) torch.Size([1000, 4]) torch.Size([1000, 4]) tensor(0.)\n",
      "35 torch.Size([6]) torch.Size([1000, 4]) torch.Size([1000, 4]) tensor(1.)\n",
      "36 torch.Size([6]) torch.Size([1000, 4]) torch.Size([1000, 4]) tensor(1.)\n",
      "37 torch.Size([6]) torch.Size([1000, 4]) torch.Size([1000, 4]) tensor(0.)\n",
      "38 torch.Size([6]) torch.Size([1000, 4]) torch.Size([1000, 4]) tensor(1.)\n",
      "39 torch.Size([6]) torch.Size([1000, 4]) torch.Size([1000, 4]) tensor(0.)\n",
      "40 torch.Size([6]) torch.Size([1000, 4]) torch.Size([1000, 4]) tensor(1.)\n",
      "41 torch.Size([6]) torch.Size([1000, 4]) torch.Size([1000, 4]) tensor(1.)\n",
      "42 torch.Size([6]) torch.Size([1000, 4]) torch.Size([1000, 4]) tensor(1.)\n",
      "43 torch.Size([6]) torch.Size([1000, 4]) torch.Size([1000, 4]) tensor(1.)\n",
      "44 torch.Size([6]) torch.Size([1000, 4]) torch.Size([1000, 4]) tensor(1.)\n",
      "45 torch.Size([6]) torch.Size([1000, 4]) torch.Size([1000, 4]) tensor(1.)\n",
      "46 torch.Size([6]) torch.Size([1000, 4]) torch.Size([1000, 4]) tensor(0.)\n",
      "47 torch.Size([6]) torch.Size([1000, 4]) torch.Size([1000, 4]) tensor(1.)\n",
      "48 torch.Size([6]) torch.Size([1000, 4]) torch.Size([1000, 4]) tensor(1.)\n",
      "49 torch.Size([6]) torch.Size([1000, 4]) torch.Size([1000, 4]) tensor(1.)\n",
      "50 torch.Size([6]) torch.Size([1000, 4]) torch.Size([1000, 4]) tensor(0.)\n",
      "51 torch.Size([6]) torch.Size([1000, 4]) torch.Size([1000, 4]) tensor(1.)\n",
      "52 torch.Size([6]) torch.Size([1000, 4]) torch.Size([1000, 4]) tensor(0.)\n",
      "53 torch.Size([6]) torch.Size([1000, 4]) torch.Size([1000, 4]) tensor(1.)\n",
      "54 torch.Size([6]) torch.Size([1000, 4]) torch.Size([1000, 4]) tensor(0.)\n",
      "55 torch.Size([6]) torch.Size([1000, 4]) torch.Size([1000, 4]) tensor(1.)\n",
      "56 torch.Size([6]) torch.Size([1000, 4]) torch.Size([1000, 4]) tensor(1.)\n",
      "57 torch.Size([6]) torch.Size([1000, 4]) torch.Size([1000, 4]) tensor(1.)\n",
      "58 torch.Size([6]) torch.Size([1000, 4]) torch.Size([1000, 4]) tensor(1.)\n",
      "59 torch.Size([6]) torch.Size([1000, 4]) torch.Size([1000, 4]) tensor(1.)\n",
      "60 torch.Size([6]) torch.Size([1000, 4]) torch.Size([1000, 4]) tensor(1.)\n",
      "61 torch.Size([6]) torch.Size([1000, 4]) torch.Size([1000, 4]) tensor(0.)\n",
      "62 torch.Size([6]) torch.Size([1000, 4]) torch.Size([1000, 4]) tensor(1.)\n",
      "63 torch.Size([6]) torch.Size([1000, 4]) torch.Size([1000, 4]) tensor(1.)\n",
      "64 torch.Size([6]) torch.Size([1000, 4]) torch.Size([1000, 4]) tensor(0.)\n",
      "65 torch.Size([6]) torch.Size([1000, 4]) torch.Size([1000, 4]) tensor(0.)\n",
      "66 torch.Size([6]) torch.Size([1000, 4]) torch.Size([1000, 4]) tensor(1.)\n",
      "67 torch.Size([6]) torch.Size([1000, 4]) torch.Size([1000, 4]) tensor(0.)\n",
      "68 torch.Size([6]) torch.Size([1000, 4]) torch.Size([1000, 4]) tensor(0.)\n",
      "69 torch.Size([6]) torch.Size([1000, 4]) torch.Size([1000, 4]) tensor(0.)\n",
      "70 torch.Size([6]) torch.Size([1000, 4]) torch.Size([1000, 4]) tensor(0.)\n",
      "71 torch.Size([6]) torch.Size([1000, 4]) torch.Size([1000, 4]) tensor(0.)\n",
      "72 torch.Size([6]) torch.Size([1000, 4]) torch.Size([1000, 4]) tensor(0.)\n",
      "73 torch.Size([6]) torch.Size([1000, 4]) torch.Size([1000, 4]) tensor(0.)\n",
      "74 torch.Size([6]) torch.Size([1000, 4]) torch.Size([1000, 4]) tensor(1.)\n",
      "75 torch.Size([6]) torch.Size([1000, 4]) torch.Size([1000, 4]) tensor(1.)\n",
      "76 torch.Size([6]) torch.Size([1000, 4]) torch.Size([1000, 4]) tensor(1.)\n",
      "77 torch.Size([6]) torch.Size([1000, 4]) torch.Size([1000, 4]) tensor(0.)\n",
      "78 torch.Size([6]) torch.Size([1000, 4]) torch.Size([1000, 4]) tensor(1.)\n",
      "79 torch.Size([6]) torch.Size([1000, 4]) torch.Size([1000, 4]) tensor(1.)\n",
      "80 torch.Size([6]) torch.Size([1000, 4]) torch.Size([1000, 4]) tensor(1.)\n",
      "81 torch.Size([6]) torch.Size([1000, 4]) torch.Size([1000, 4]) tensor(1.)\n",
      "82 torch.Size([6]) torch.Size([1000, 4]) torch.Size([1000, 4]) tensor(0.)\n",
      "83 torch.Size([6]) torch.Size([1000, 4]) torch.Size([1000, 4]) tensor(0.)\n",
      "84 torch.Size([6]) torch.Size([1000, 4]) torch.Size([1000, 4]) tensor(0.)\n",
      "85 torch.Size([6]) torch.Size([1000, 4]) torch.Size([1000, 4]) tensor(0.)\n",
      "86 torch.Size([6]) torch.Size([1000, 4]) torch.Size([1000, 4]) tensor(0.)\n",
      "87 torch.Size([6]) torch.Size([1000, 4]) torch.Size([1000, 4]) tensor(0.)\n",
      "88 torch.Size([6]) torch.Size([1000, 4]) torch.Size([1000, 4]) tensor(1.)\n",
      "89 torch.Size([6]) torch.Size([1000, 4]) torch.Size([1000, 4]) tensor(1.)\n",
      "90 torch.Size([6]) torch.Size([1000, 4]) torch.Size([1000, 4]) tensor(0.)\n",
      "91 torch.Size([6]) torch.Size([1000, 4]) torch.Size([1000, 4]) tensor(1.)\n",
      "92 torch.Size([6]) torch.Size([1000, 4]) torch.Size([1000, 4]) tensor(1.)\n",
      "93 torch.Size([6]) torch.Size([1000, 4]) torch.Size([1000, 4]) tensor(0.)\n",
      "94 torch.Size([6]) torch.Size([1000, 4]) torch.Size([1000, 4]) tensor(1.)\n",
      "95 torch.Size([6]) torch.Size([1000, 4]) torch.Size([1000, 4]) tensor(0.)\n",
      "96 torch.Size([6]) torch.Size([1000, 4]) torch.Size([1000, 4]) tensor(1.)\n",
      "97 torch.Size([6]) torch.Size([1000, 4]) torch.Size([1000, 4]) tensor(0.)\n",
      "98 torch.Size([6]) torch.Size([1000, 4]) torch.Size([1000, 4]) tensor(0.)\n",
      "99 torch.Size([6]) torch.Size([1000, 4]) torch.Size([1000, 4]) tensor(0.)\n"
     ]
    }
   ],
   "source": [
    "# Check the Dataset Class\n",
    "for i in range(len(test_dataset)):\n",
    "    sample = test_dataset[i]\n",
    "    print(i, sample[0].size(), sample[1].size(), sample[2].size(), sample[3])\n",
    "    #if i == 3:\n",
    "    #    break"
   ]
  },
  {
   "cell_type": "code",
   "execution_count": 22,
   "id": "1909df0d",
   "metadata": {
    "execution": {
     "iopub.execute_input": "2022-04-03T21:04:20.364812Z",
     "iopub.status.busy": "2022-04-03T21:04:20.363844Z",
     "iopub.status.idle": "2022-04-03T21:04:21.545590Z",
     "shell.execute_reply": "2022-04-03T21:04:21.545267Z",
     "shell.execute_reply.started": "2022-04-03T21:04:20.364792Z"
    },
    "tags": []
   },
   "outputs": [
    {
     "ename": "NameError",
     "evalue": "name 'test_dataloader' is not defined",
     "output_type": "error",
     "traceback": [
      "\u001b[0;31m---------------------------------------------------------------------------\u001b[0m",
      "\u001b[0;31mNameError\u001b[0m                                 Traceback (most recent call last)",
      "\u001b[0;32m<ipython-input-22-b7c1d24508b7>\u001b[0m in \u001b[0;36m<module>\u001b[0;34m\u001b[0m\n\u001b[1;32m      1\u001b[0m \u001b[0;31m# Check the DataLoader\u001b[0m\u001b[0;34m\u001b[0m\u001b[0;34m\u001b[0m\u001b[0;34m\u001b[0m\u001b[0m\n\u001b[0;32m----> 2\u001b[0;31m \u001b[0;32mfor\u001b[0m \u001b[0mi_batch\u001b[0m\u001b[0;34m,\u001b[0m \u001b[0msample_batched\u001b[0m \u001b[0;32min\u001b[0m \u001b[0menumerate\u001b[0m\u001b[0;34m(\u001b[0m\u001b[0mtest_dataloader\u001b[0m\u001b[0;34m)\u001b[0m\u001b[0;34m:\u001b[0m\u001b[0;34m\u001b[0m\u001b[0;34m\u001b[0m\u001b[0m\n\u001b[0m\u001b[1;32m      3\u001b[0m     \u001b[0mprint\u001b[0m\u001b[0;34m(\u001b[0m\u001b[0mi_batch\u001b[0m\u001b[0;34m,\u001b[0m \u001b[0msample_batched\u001b[0m\u001b[0;34m[\u001b[0m\u001b[0;36m1\u001b[0m\u001b[0;34m]\u001b[0m\u001b[0;34m.\u001b[0m\u001b[0msize\u001b[0m\u001b[0;34m(\u001b[0m\u001b[0;34m)\u001b[0m\u001b[0;34m,\u001b[0m \u001b[0msample_batched\u001b[0m\u001b[0;34m[\u001b[0m\u001b[0;36m2\u001b[0m\u001b[0;34m]\u001b[0m\u001b[0;34m.\u001b[0m\u001b[0msize\u001b[0m\u001b[0;34m(\u001b[0m\u001b[0;34m)\u001b[0m\u001b[0;34m,\u001b[0m \u001b[0msample_batched\u001b[0m\u001b[0;34m[\u001b[0m\u001b[0;36m3\u001b[0m\u001b[0;34m]\u001b[0m\u001b[0;34m.\u001b[0m\u001b[0msize\u001b[0m\u001b[0;34m(\u001b[0m\u001b[0;34m)\u001b[0m\u001b[0;34m)\u001b[0m\u001b[0;34m\u001b[0m\u001b[0;34m\u001b[0m\u001b[0m\n\u001b[1;32m      4\u001b[0m     \u001b[0;31m# observe 4th batch and stop.\u001b[0m\u001b[0;34m\u001b[0m\u001b[0;34m\u001b[0m\u001b[0;34m\u001b[0m\u001b[0m\n\u001b[1;32m      5\u001b[0m     \u001b[0;31m#if i_batch == 3:\u001b[0m\u001b[0;34m\u001b[0m\u001b[0;34m\u001b[0m\u001b[0;34m\u001b[0m\u001b[0m\n",
      "\u001b[0;31mNameError\u001b[0m: name 'test_dataloader' is not defined"
     ]
    }
   ],
   "source": [
    "# Check the DataLoader\n",
    "for i_batch, sample_batched in enumerate(test_dataloader):\n",
    "    print(i_batch, sample_batched[1].size(), sample_batched[2].size(), sample_batched[3].size())\n",
    "    # observe 4th batch and stop.\n",
    "    if i_batch == 3:\n",
    "        break"
   ]
  },
  {
   "cell_type": "markdown",
   "id": "cd26d586-9589-4e63-a733-3dd946653df2",
   "metadata": {},
   "source": [
    "## Variable length"
   ]
  },
  {
   "cell_type": "code",
   "execution_count": 126,
   "id": "91ce33fd-ee45-4828-adf6-2b475a2f0df9",
   "metadata": {
    "execution": {
     "iopub.execute_input": "2022-04-24T19:23:30.557415Z",
     "iopub.status.busy": "2022-04-24T19:23:30.557245Z",
     "iopub.status.idle": "2022-04-24T19:23:31.692790Z",
     "shell.execute_reply": "2022-04-24T19:23:31.692300Z",
     "shell.execute_reply.started": "2022-04-24T19:23:30.557397Z"
    },
    "tags": []
   },
   "outputs": [],
   "source": [
    "seq_file=\"/cellar/users/aklie/projects/EUGENE/data/All_Genomic_Sequences/All_Genomic_Sequences.tsv\""
   ]
  },
  {
   "cell_type": "code",
   "execution_count": 127,
   "id": "a98de2b7-8ca7-432c-bd15-eb955267ff24",
   "metadata": {
    "execution": {
     "iopub.execute_input": "2022-04-24T19:23:31.693609Z",
     "iopub.status.busy": "2022-04-24T19:23:31.693495Z",
     "iopub.status.idle": "2022-04-24T19:23:32.629737Z",
     "shell.execute_reply": "2022-04-24T19:23:32.629306Z",
     "shell.execute_reply.started": "2022-04-24T19:23:31.693593Z"
    },
    "tags": []
   },
   "outputs": [
    {
     "data": {
      "text/html": [
       "<div>\n",
       "<style scoped>\n",
       "    .dataframe tbody tr th:only-of-type {\n",
       "        vertical-align: middle;\n",
       "    }\n",
       "\n",
       "    .dataframe tbody tr th {\n",
       "        vertical-align: top;\n",
       "    }\n",
       "\n",
       "    .dataframe thead th {\n",
       "        text-align: right;\n",
       "    }\n",
       "</style>\n",
       "<table border=\"1\" class=\"dataframe\">\n",
       "  <thead>\n",
       "    <tr style=\"text-align: right;\">\n",
       "      <th></th>\n",
       "      <th>NAME</th>\n",
       "      <th>SEQ</th>\n",
       "      <th>FXN_LABEL</th>\n",
       "      <th>TILE</th>\n",
       "      <th>SEQ_LEN</th>\n",
       "      <th>DATASET</th>\n",
       "      <th>FXN_DESCRIPTION</th>\n",
       "    </tr>\n",
       "  </thead>\n",
       "  <tbody>\n",
       "    <tr>\n",
       "      <th>0</th>\n",
       "      <td>scaffold_1:462149:462232</td>\n",
       "      <td>AAAGTAGGCTATATGCTACAGCCCAGAGCTCATGGATTTTAATGGG...</td>\n",
       "      <td>1</td>\n",
       "      <td>full</td>\n",
       "      <td>195</td>\n",
       "      <td>2010_Khoueiry_CellPress</td>\n",
       "      <td>NaN</td>\n",
       "    </tr>\n",
       "    <tr>\n",
       "      <th>1</th>\n",
       "      <td>scaffold_102:102675:102754</td>\n",
       "      <td>AAAGTAGGCTATCGCGACCACTGATCGTCGCGTAATTATTTTGAGG...</td>\n",
       "      <td>1</td>\n",
       "      <td>full</td>\n",
       "      <td>183</td>\n",
       "      <td>2010_Khoueiry_CellPress</td>\n",
       "      <td>NaN</td>\n",
       "    </tr>\n",
       "    <tr>\n",
       "      <th>2</th>\n",
       "      <td>scaffold_3:475040:475120</td>\n",
       "      <td>AAAGTAGGCTTTGTATAATTCCCAATTAGAACACACAGGTAGGGTA...</td>\n",
       "      <td>1</td>\n",
       "      <td>full</td>\n",
       "      <td>180</td>\n",
       "      <td>2010_Khoueiry_CellPress</td>\n",
       "      <td>NaN</td>\n",
       "    </tr>\n",
       "    <tr>\n",
       "      <th>3</th>\n",
       "      <td>scaffold_3:781073:781145</td>\n",
       "      <td>AAAGTAGGCTTTAACATGGAATCTATTCCCCGTGACGATGAGATAA...</td>\n",
       "      <td>1</td>\n",
       "      <td>full</td>\n",
       "      <td>154</td>\n",
       "      <td>2010_Khoueiry_CellPress</td>\n",
       "      <td>NaN</td>\n",
       "    </tr>\n",
       "    <tr>\n",
       "      <th>4</th>\n",
       "      <td>scaffold_357:46416:46496</td>\n",
       "      <td>AAAGTAGGCTTCTTGCTTTGTTGTTTTTGTTTTGAAACTGGTGAGC...</td>\n",
       "      <td>0</td>\n",
       "      <td>full</td>\n",
       "      <td>186</td>\n",
       "      <td>2010_Khoueiry_CellPress</td>\n",
       "      <td>NaN</td>\n",
       "    </tr>\n",
       "  </tbody>\n",
       "</table>\n",
       "</div>"
      ],
      "text/plain": [
       "                         NAME  \\\n",
       "0    scaffold_1:462149:462232   \n",
       "1  scaffold_102:102675:102754   \n",
       "2    scaffold_3:475040:475120   \n",
       "3    scaffold_3:781073:781145   \n",
       "4    scaffold_357:46416:46496   \n",
       "\n",
       "                                                 SEQ  FXN_LABEL  TILE  \\\n",
       "0  AAAGTAGGCTATATGCTACAGCCCAGAGCTCATGGATTTTAATGGG...          1  full   \n",
       "1  AAAGTAGGCTATCGCGACCACTGATCGTCGCGTAATTATTTTGAGG...          1  full   \n",
       "2  AAAGTAGGCTTTGTATAATTCCCAATTAGAACACACAGGTAGGGTA...          1  full   \n",
       "3  AAAGTAGGCTTTAACATGGAATCTATTCCCCGTGACGATGAGATAA...          1  full   \n",
       "4  AAAGTAGGCTTCTTGCTTTGTTGTTTTTGTTTTGAAACTGGTGAGC...          0  full   \n",
       "\n",
       "   SEQ_LEN                  DATASET FXN_DESCRIPTION  \n",
       "0      195  2010_Khoueiry_CellPress             NaN  \n",
       "1      183  2010_Khoueiry_CellPress             NaN  \n",
       "2      180  2010_Khoueiry_CellPress             NaN  \n",
       "3      154  2010_Khoueiry_CellPress             NaN  \n",
       "4      186  2010_Khoueiry_CellPress             NaN  "
      ]
     },
     "execution_count": 127,
     "metadata": {},
     "output_type": "execute_result"
    }
   ],
   "source": [
    "import pandas as pd\n",
    "pd.read_csv(seq_file, sep=\"\\t\").head()"
   ]
  },
  {
   "cell_type": "code",
   "execution_count": 145,
   "id": "0e591436-1021-467c-9bdb-88ffbfabf3c1",
   "metadata": {
    "execution": {
     "iopub.execute_input": "2022-04-24T19:25:52.363694Z",
     "iopub.status.busy": "2022-04-24T19:25:52.363548Z",
     "iopub.status.idle": "2022-04-24T19:25:53.336006Z",
     "shell.execute_reply": "2022-04-24T19:25:53.335519Z",
     "shell.execute_reply.started": "2022-04-24T19:25:52.363677Z"
    },
    "tags": []
   },
   "outputs": [],
   "source": [
    "from eugene.dataloading.load_data import load"
   ]
  },
  {
   "cell_type": "code",
   "execution_count": 146,
   "id": "456c9c67-f3d9-40cc-8a91-874984980330",
   "metadata": {
    "execution": {
     "iopub.execute_input": "2022-04-24T19:25:53.336906Z",
     "iopub.status.busy": "2022-04-24T19:25:53.336789Z",
     "iopub.status.idle": "2022-04-24T19:25:54.250726Z",
     "shell.execute_reply": "2022-04-24T19:25:54.250366Z",
     "shell.execute_reply.started": "2022-04-24T19:25:53.336891Z"
    },
    "tags": []
   },
   "outputs": [
    {
     "data": {
      "text/plain": [
       "(42, 'scaffold_1:462149:462232', 42, 'AAAGT', 42, 'ACTTT', 42, 1.0)"
      ]
     },
     "execution_count": 146,
     "metadata": {},
     "output_type": "execute_result"
    }
   ],
   "source": [
    "# Load the sequences as numpy arrays\n",
    "names, seqs, rev_seqs, targets = load(seq_file, seq_col=\"SEQ\", name_col=\"NAME\", target_col=\"FXN_LABEL\", rev_comp=True)\n",
    "len(names), names[0], len(seqs), seqs[0][:5], len(rev_seqs), rev_seqs[0][-5:], len(targets), targets[0]"
   ]
  },
  {
   "cell_type": "code",
   "execution_count": 147,
   "id": "ab2851d8-caac-4646-8e5b-d9ecf0bcfc49",
   "metadata": {
    "execution": {
     "iopub.execute_input": "2022-04-24T19:25:54.252620Z",
     "iopub.status.busy": "2022-04-24T19:25:54.252501Z",
     "iopub.status.idle": "2022-04-24T19:25:55.243597Z",
     "shell.execute_reply": "2022-04-24T19:25:55.243189Z",
     "shell.execute_reply.started": "2022-04-24T19:25:54.252604Z"
    },
    "tags": []
   },
   "outputs": [
    {
     "data": {
      "text/plain": [
       "array([array([115.,  99.,  97., 102., 102., 111., 108., 100.,  95.,  49.,  58.,\n",
       "               52.,  54.,  50.,  49.,  52.,  57.,  58.,  52.,  54.,  50.,  50.,\n",
       "               51.,  50.,  36.,  36.])                                         ,\n",
       "       'AAAGTAGGCTATATGCTACAGCCCAGAGCTCATGGATTTTAATGGGATCGGCTATCTAGGCCGACCCTCGCTCTCCCAAGGAAATGTCCACCTTCCAGCCGGGAAAAGATAACCGCTCGCCAGAGCGACGCTTTCCGGCTGACAAATTGTGTCGGACCTTGATAGCATTCCTGTTCCCTATCGGACCCAACTTT ',\n",
       "       ' AAAGTTGGGTCCGATAGGGAACAGGAATGCTATCAAGGTCCGACACAATTTGTCAGCCGGAAAGCGTCGCTCTGGCGAGCGGTTATCTTTTCCCGGCTGGAAGGTGGACATTTCCTTGGGAGAGCGAGGGTCGGCCTAGATAGCCGATCCCATTAAAATCCATGAGCTCTGGGCTGTAGCATATAGCCTACTTT',\n",
       "       1.0], dtype=object)"
      ]
     },
     "execution_count": 147,
     "metadata": {},
     "output_type": "execute_result"
    }
   ],
   "source": [
    "test_dataset = SeqDataset(seqs, names=names, targets=targets, rev_seqs=rev_seqs, transform=None)\n",
    "test_dataset[0]"
   ]
  },
  {
   "cell_type": "code",
   "execution_count": 148,
   "id": "df056f18-7705-4f88-890c-bc2dc85ff440",
   "metadata": {
    "execution": {
     "iopub.execute_input": "2022-04-24T19:25:55.244309Z",
     "iopub.status.busy": "2022-04-24T19:25:55.244200Z",
     "iopub.status.idle": "2022-04-24T19:25:56.198225Z",
     "shell.execute_reply": "2022-04-24T19:25:56.197895Z",
     "shell.execute_reply.started": "2022-04-24T19:25:55.244294Z"
    },
    "tags": []
   },
   "outputs": [
    {
     "data": {
      "text/plain": [
       "array([115.,  99.,  97., 102., 102., 111., 108., 100.,  95.,  49.,  58.,\n",
       "        52.,  54.,  50.,  49.,  52.,  57.,  58.,  52.,  54.,  50.,  50.,\n",
       "        51.,  50.,  36.,  36.])"
      ]
     },
     "execution_count": 148,
     "metadata": {},
     "output_type": "execute_result"
    }
   ],
   "source": [
    "test_dataset[0][0]"
   ]
  },
  {
   "cell_type": "code",
   "execution_count": 149,
   "id": "fb9b1f46-e2be-45b0-95eb-e8b41e6349be",
   "metadata": {
    "execution": {
     "iopub.execute_input": "2022-04-24T19:25:56.198905Z",
     "iopub.status.busy": "2022-04-24T19:25:56.198794Z",
     "iopub.status.idle": "2022-04-24T19:25:57.071542Z",
     "shell.execute_reply": "2022-04-24T19:25:57.071087Z",
     "shell.execute_reply.started": "2022-04-24T19:25:56.198889Z"
    },
    "tags": []
   },
   "outputs": [],
   "source": [
    "test_str = \"\".join([chr(int(letter)) for letter in test_dataset[0][0]]).replace(\"$\", \"\")"
   ]
  },
  {
   "cell_type": "code",
   "execution_count": 153,
   "id": "a7af58d7-0e98-4199-8242-3103fae8858d",
   "metadata": {
    "execution": {
     "iopub.execute_input": "2022-04-24T19:28:56.152515Z",
     "iopub.status.busy": "2022-04-24T19:28:56.152280Z",
     "iopub.status.idle": "2022-04-24T19:28:57.015615Z",
     "shell.execute_reply": "2022-04-24T19:28:57.015237Z",
     "shell.execute_reply.started": "2022-04-24T19:28:56.152497Z"
    },
    "tags": []
   },
   "outputs": [],
   "source": [
    "test_strs = [ascii_decode(thing) for thing in test_dataset.ascii_names]"
   ]
  },
  {
   "cell_type": "code",
   "execution_count": 157,
   "id": "d595342b-a6ac-4977-bc25-0fee1318e765",
   "metadata": {
    "execution": {
     "iopub.execute_input": "2022-04-24T19:29:23.150780Z",
     "iopub.status.busy": "2022-04-24T19:29:23.150658Z",
     "iopub.status.idle": "2022-04-24T19:29:23.949579Z",
     "shell.execute_reply": "2022-04-24T19:29:23.949134Z",
     "shell.execute_reply.started": "2022-04-24T19:29:23.150764Z"
    },
    "tags": []
   },
   "outputs": [
    {
     "data": {
      "text/plain": [
       "array(['scaffold_1:462149:462232', 'scaffold_102:102675:102754',\n",
       "       'scaffold_3:475040:475120', 'scaffold_3:781073:781145',\n",
       "       'scaffold_357:46416:46496', 'scaffold_577:39771:39829',\n",
       "       'scaffold_6:512297:512370', 'scaffold_98:245430:245507',\n",
       "       'scaffold_248:118347:118482', 'Scaffold_31:173924:174038',\n",
       "       'scaffold_6:562995:563124', 'scaffold_11:490974:491037',\n",
       "       'scaffold_366:40184:40258', 'scaffold_37:273449:273512',\n",
       "       'scaffold_371:68262:68340', 'scaffold_40:155281:155360',\n",
       "       'scaffold_48:226447:226527', 'scaffold_490:18446:18523',\n",
       "       'scaffold_50:51150:51235', 'scaffold_522:36260:36327', 'Otxa-WTg1',\n",
       "       'Otxa-WTg2', 'Otxa-WTg3', 'Otxa-WTg5', 'Negative_control', 'nc2',\n",
       "       'nc3', 'nc4', 'nc5', 'EM.Ci1', 'EM.Dr1', 'EM.Ggd1', 'EM.Mm6',\n",
       "       'EM.Hs9', 'EM.Mm2', 'EM.Hs1', 'EM.Hs2', 'EM.Hs3', 'EM.Hs8',\n",
       "       'EM.Mm1', 'EM.Hs4', 'EM.Dr2'], dtype='<U26')"
      ]
     },
     "execution_count": 157,
     "metadata": {},
     "output_type": "execute_result"
    }
   ],
   "source": []
  },
  {
   "cell_type": "code",
   "execution_count": 158,
   "id": "971cd983-8b32-4826-9d63-eaa28f7e2365",
   "metadata": {
    "execution": {
     "iopub.execute_input": "2022-04-24T19:29:30.150667Z",
     "iopub.status.busy": "2022-04-24T19:29:30.150498Z",
     "iopub.status.idle": "2022-04-24T19:29:31.341134Z",
     "shell.execute_reply": "2022-04-24T19:29:31.340736Z",
     "shell.execute_reply.started": "2022-04-24T19:29:30.150650Z"
    },
    "tags": []
   },
   "outputs": [
    {
     "data": {
      "text/plain": [
       "array([ True,  True,  True,  True,  True,  True,  True,  True,  True,\n",
       "        True,  True,  True,  True,  True,  True,  True,  True,  True,\n",
       "        True,  True,  True,  True,  True,  True,  True,  True,  True,\n",
       "        True,  True,  True,  True,  True,  True,  True,  True,  True,\n",
       "        True,  True,  True,  True,  True,  True])"
      ]
     },
     "execution_count": 158,
     "metadata": {},
     "output_type": "execute_result"
    }
   ],
   "source": [
    "np.array(test_strs) == test_dataset.names"
   ]
  },
  {
   "cell_type": "code",
   "execution_count": null,
   "id": "ec3db92c-ef42-4868-851a-3ceb271b394f",
   "metadata": {},
   "outputs": [],
   "source": [
    "for asci in "
   ]
  },
  {
   "cell_type": "code",
   "execution_count": 151,
   "id": "14d9a7da-8735-45a6-aaee-b560651003b3",
   "metadata": {
    "execution": {
     "iopub.execute_input": "2022-04-24T19:25:59.151915Z",
     "iopub.status.busy": "2022-04-24T19:25:59.151685Z",
     "iopub.status.idle": "2022-04-24T19:26:00.133275Z",
     "shell.execute_reply": "2022-04-24T19:26:00.132955Z",
     "shell.execute_reply.started": "2022-04-24T19:25:59.151885Z"
    },
    "tags": []
   },
   "outputs": [
    {
     "data": {
      "text/plain": [
       "'scaffold_1:462149:462232'"
      ]
     },
     "execution_count": 151,
     "metadata": {},
     "output_type": "execute_result"
    }
   ],
   "source": [
    "test_str"
   ]
  },
  {
   "cell_type": "code",
   "execution_count": 91,
   "id": "e6cb0eb7-b0bb-4ce4-93d2-f358e5ff1822",
   "metadata": {
    "execution": {
     "iopub.execute_input": "2022-04-24T19:10:59.152110Z",
     "iopub.status.busy": "2022-04-24T19:10:59.151870Z",
     "iopub.status.idle": "2022-04-24T19:11:00.177540Z",
     "shell.execute_reply": "2022-04-24T19:11:00.177153Z",
     "shell.execute_reply.started": "2022-04-24T19:10:59.152083Z"
    },
    "tags": []
   },
   "outputs": [
    {
     "data": {
      "text/plain": [
       "(42, 26)"
      ]
     },
     "execution_count": 91,
     "metadata": {},
     "output_type": "execute_result"
    }
   ],
   "source": [
    "test_dataset.ascii_names.shape"
   ]
  },
  {
   "cell_type": "code",
   "execution_count": 92,
   "id": "ee2bdf22-d59c-4ed1-95f6-683d783c6256",
   "metadata": {
    "execution": {
     "iopub.execute_input": "2022-04-24T19:11:01.456520Z",
     "iopub.status.busy": "2022-04-24T19:11:01.456374Z",
     "iopub.status.idle": "2022-04-24T19:11:02.550354Z",
     "shell.execute_reply": "2022-04-24T19:11:02.549951Z",
     "shell.execute_reply.started": "2022-04-24T19:11:01.456503Z"
    },
    "tags": []
   },
   "outputs": [
    {
     "data": {
      "text/plain": [
       "True"
      ]
     },
     "execution_count": 92,
     "metadata": {},
     "output_type": "execute_result"
    }
   ],
   "source": [
    "np.any(test_dataset.name_lengths == test_dataset.name_lengths[0])"
   ]
  },
  {
   "cell_type": "code",
   "execution_count": 93,
   "id": "1af067ea-1a5e-454a-9fcb-02c87293df0f",
   "metadata": {
    "execution": {
     "iopub.execute_input": "2022-04-24T19:11:04.150440Z",
     "iopub.status.busy": "2022-04-24T19:11:04.150296Z",
     "iopub.status.idle": "2022-04-24T19:11:05.333719Z",
     "shell.execute_reply": "2022-04-24T19:11:05.333296Z",
     "shell.execute_reply.started": "2022-04-24T19:11:04.150424Z"
    },
    "tags": []
   },
   "outputs": [
    {
     "data": {
      "text/plain": [
       "array([24, 26, 24, 24, 24, 24, 24, 25, 26, 25, 24, 25, 24, 25, 24, 25, 25,\n",
       "       24, 23, 24,  9,  9,  9,  9, 16,  3,  3,  3,  3,  6,  6,  7,  6,  6,\n",
       "        6,  6,  6,  6,  6,  6,  6,  6])"
      ]
     },
     "execution_count": 93,
     "metadata": {},
     "output_type": "execute_result"
    }
   ],
   "source": [
    "test_dataset.name_lengths"
   ]
  },
  {
   "cell_type": "code",
   "execution_count": 9,
   "id": "f7e2696a-4427-4aa0-b576-42e4ac4493b5",
   "metadata": {
    "execution": {
     "iopub.execute_input": "2022-04-24T18:44:14.051238Z",
     "iopub.status.busy": "2022-04-24T18:44:14.051055Z",
     "iopub.status.idle": "2022-04-24T18:44:14.767328Z",
     "shell.execute_reply": "2022-04-24T18:44:14.766841Z",
     "shell.execute_reply.started": "2022-04-24T18:44:14.051220Z"
    },
    "tags": []
   },
   "outputs": [],
   "source": [
    "import numpy as np"
   ]
  },
  {
   "cell_type": "code",
   "execution_count": 51,
   "id": "e5f93913-4ade-4e6b-81ce-adec662b57a3",
   "metadata": {
    "execution": {
     "iopub.execute_input": "2022-04-24T19:05:00.160557Z",
     "iopub.status.busy": "2022-04-24T19:05:00.160395Z",
     "iopub.status.idle": "2022-04-24T19:05:01.011008Z",
     "shell.execute_reply": "2022-04-24T19:05:01.010504Z",
     "shell.execute_reply.started": "2022-04-24T19:05:00.160540Z"
    },
    "tags": []
   },
   "outputs": [
    {
     "ename": "AttributeError",
     "evalue": "'SeqDataset' object has no attribute 'longest_name'",
     "output_type": "error",
     "traceback": [
      "\u001b[0;31m---------------------------------------------------------------------------\u001b[0m",
      "\u001b[0;31mAttributeError\u001b[0m                            Traceback (most recent call last)",
      "\u001b[0;32m<ipython-input-51-c3fdfd42bacd>\u001b[0m in \u001b[0;36m<module>\u001b[0;34m\u001b[0m\n\u001b[0;32m----> 1\u001b[0;31m \u001b[0mtest_dataset\u001b[0m\u001b[0;34m.\u001b[0m\u001b[0mlongest_name\u001b[0m\u001b[0;34m\u001b[0m\u001b[0;34m\u001b[0m\u001b[0m\n\u001b[0m",
      "\u001b[0;31mAttributeError\u001b[0m: 'SeqDataset' object has no attribute 'longest_name'"
     ]
    }
   ],
   "source": [
    "test_dataset.longest_name"
   ]
  },
  {
   "cell_type": "code",
   "execution_count": 107,
   "id": "b456ab4a-c8d9-44d4-9ce3-f173e08d0e83",
   "metadata": {
    "execution": {
     "iopub.execute_input": "2022-04-24T19:18:10.151280Z",
     "iopub.status.busy": "2022-04-24T19:18:10.151105Z",
     "iopub.status.idle": "2022-04-24T19:18:11.209230Z",
     "shell.execute_reply": "2022-04-24T19:18:11.208747Z",
     "shell.execute_reply.started": "2022-04-24T19:18:10.151262Z"
    },
    "tags": []
   },
   "outputs": [],
   "source": [
    "from eugene.utils.seq_utils import ascii_encode, ascii_decode"
   ]
  },
  {
   "cell_type": "code",
   "execution_count": 122,
   "id": "becde267-5be1-493f-abab-f03e24d0d3e4",
   "metadata": {
    "execution": {
     "iopub.execute_input": "2022-04-24T19:21:00.258892Z",
     "iopub.status.busy": "2022-04-24T19:21:00.258755Z",
     "iopub.status.idle": "2022-04-24T19:21:01.230990Z",
     "shell.execute_reply": "2022-04-24T19:21:01.230559Z",
     "shell.execute_reply.started": "2022-04-24T19:21:00.258876Z"
    },
    "tags": []
   },
   "outputs": [],
   "source": [
    "asci_2 = np.zeros((len(test_dataset.names), test_dataset.longest_name))\n",
    "for i, name in enumerate(test_dataset.names):\n",
    "    pad_len = test_dataset.longest_name-len(name)\n",
    "    asci_2[i] = ascii_encode(name, pad=pad_len)\n",
    "    #np_name = np.array([ord(letter) for letter in name], dtype=int)\n",
    "    #asci[i] = np.pad(np_name, pad_width=(0, pad_len), mode=\"constant\", constant_values=36)"
   ]
  },
  {
   "cell_type": "code",
   "execution_count": 121,
   "id": "9dde29e0-87b1-4fb1-9bfb-8d0b9370a018",
   "metadata": {
    "execution": {
     "iopub.execute_input": "2022-04-24T19:20:58.151847Z",
     "iopub.status.busy": "2022-04-24T19:20:58.151677Z",
     "iopub.status.idle": "2022-04-24T19:20:59.206240Z",
     "shell.execute_reply": "2022-04-24T19:20:59.205891Z",
     "shell.execute_reply.started": "2022-04-24T19:20:58.151830Z"
    },
    "tags": []
   },
   "outputs": [
    {
     "data": {
      "text/plain": [
       "array([ 69,  77,  46,  68, 114,  50])"
      ]
     },
     "execution_count": 121,
     "metadata": {},
     "output_type": "execute_result"
    }
   ],
   "source": [
    "ascii_encode(name)"
   ]
  },
  {
   "cell_type": "code",
   "execution_count": 125,
   "id": "29fd1ddd-9d8e-4e09-a622-b6ac994d0220",
   "metadata": {
    "execution": {
     "iopub.execute_input": "2022-04-24T19:21:14.570806Z",
     "iopub.status.busy": "2022-04-24T19:21:14.570639Z",
     "iopub.status.idle": "2022-04-24T19:21:15.436493Z",
     "shell.execute_reply": "2022-04-24T19:21:15.436105Z",
     "shell.execute_reply.started": "2022-04-24T19:21:14.570788Z"
    },
    "tags": []
   },
   "outputs": [
    {
     "data": {
      "text/plain": [
       "True"
      ]
     },
     "execution_count": 125,
     "metadata": {},
     "output_type": "execute_result"
    }
   ],
   "source": [
    "np.all(asci == asci_2)"
   ]
  },
  {
   "cell_type": "code",
   "execution_count": 114,
   "id": "73194c56-d2c8-45a7-8b10-9f8baa6d41c9",
   "metadata": {
    "execution": {
     "iopub.execute_input": "2022-04-24T19:19:56.153424Z",
     "iopub.status.busy": "2022-04-24T19:19:56.153264Z",
     "iopub.status.idle": "2022-04-24T19:19:57.027201Z",
     "shell.execute_reply": "2022-04-24T19:19:57.026883Z",
     "shell.execute_reply.started": "2022-04-24T19:19:56.153407Z"
    },
    "tags": []
   },
   "outputs": [
    {
     "data": {
      "text/plain": [
       "(42, 26)"
      ]
     },
     "execution_count": 114,
     "metadata": {},
     "output_type": "execute_result"
    }
   ],
   "source": [
    "asci.shape"
   ]
  },
  {
   "cell_type": "code",
   "execution_count": 123,
   "id": "7f4a9ffe-6b95-4031-a40d-9c0132954d82",
   "metadata": {
    "execution": {
     "iopub.execute_input": "2022-04-24T19:21:02.152978Z",
     "iopub.status.busy": "2022-04-24T19:21:02.152759Z",
     "iopub.status.idle": "2022-04-24T19:21:03.106119Z",
     "shell.execute_reply": "2022-04-24T19:21:03.105649Z",
     "shell.execute_reply.started": "2022-04-24T19:21:02.152949Z"
    },
    "tags": []
   },
   "outputs": [
    {
     "data": {
      "text/plain": [
       "(42, 26)"
      ]
     },
     "execution_count": 123,
     "metadata": {},
     "output_type": "execute_result"
    }
   ],
   "source": [
    "asci_2.shape"
   ]
  },
  {
   "cell_type": "code",
   "execution_count": 49,
   "id": "d283943b-b90f-4ffa-9da4-231d95145deb",
   "metadata": {
    "execution": {
     "iopub.execute_input": "2022-04-24T19:03:32.503139Z",
     "iopub.status.busy": "2022-04-24T19:03:32.502973Z",
     "iopub.status.idle": "2022-04-24T19:03:33.485514Z",
     "shell.execute_reply": "2022-04-24T19:03:33.485062Z",
     "shell.execute_reply.started": "2022-04-24T19:03:32.503122Z"
    },
    "tags": []
   },
   "outputs": [
    {
     "data": {
      "text/plain": [
       "array(['scaffold_1:462149:462232', 'scaffold_102:102675:102754',\n",
       "       'scaffold_3:475040:475120', 'scaffold_3:781073:781145',\n",
       "       'scaffold_357:46416:46496', 'scaffold_577:39771:39829',\n",
       "       'scaffold_6:512297:512370', 'scaffold_98:245430:245507',\n",
       "       'scaffold_248:118347:118482', 'Scaffold_31:173924:174038',\n",
       "       'scaffold_6:562995:563124', 'scaffold_11:490974:491037',\n",
       "       'scaffold_366:40184:40258', 'scaffold_37:273449:273512',\n",
       "       'scaffold_371:68262:68340', 'scaffold_40:155281:155360',\n",
       "       'scaffold_48:226447:226527', 'scaffold_490:18446:18523',\n",
       "       'scaffold_50:51150:51235', 'scaffold_522:36260:36327', 'Otxa-WTg1',\n",
       "       'Otxa-WTg2', 'Otxa-WTg3', 'Otxa-WTg5', 'Negative_control', 'nc2',\n",
       "       'nc3', 'nc4', 'nc5', 'EM.Ci1', 'EM.Dr1', 'EM.Ggd1', 'EM.Mm6',\n",
       "       'EM.Hs9', 'EM.Mm2', 'EM.Hs1', 'EM.Hs2', 'EM.Hs3', 'EM.Hs8',\n",
       "       'EM.Mm1', 'EM.Hs4', 'EM.Dr2'], dtype='<U26')"
      ]
     },
     "execution_count": 49,
     "metadata": {},
     "output_type": "execute_result"
    }
   ],
   "source": [
    "test_dataset.names"
   ]
  },
  {
   "cell_type": "code",
   "execution_count": 47,
   "id": "e80b67f3-2bca-495d-84b3-0bcb6a3c14b1",
   "metadata": {
    "execution": {
     "iopub.execute_input": "2022-04-24T19:00:10.950999Z",
     "iopub.status.busy": "2022-04-24T19:00:10.950832Z",
     "iopub.status.idle": "2022-04-24T19:00:12.017217Z",
     "shell.execute_reply": "2022-04-24T19:00:12.016770Z",
     "shell.execute_reply.started": "2022-04-24T19:00:10.950982Z"
    },
    "tags": []
   },
   "outputs": [
    {
     "data": {
      "text/plain": [
       "(42, 26)"
      ]
     },
     "execution_count": 47,
     "metadata": {},
     "output_type": "execute_result"
    }
   ],
   "source": [
    "asci.shape"
   ]
  },
  {
   "cell_type": "code",
   "execution_count": 36,
   "id": "0e7235ba-e881-48de-95cc-ca7ce2b02b6a",
   "metadata": {
    "execution": {
     "iopub.execute_input": "2022-04-24T18:55:54.364232Z",
     "iopub.status.busy": "2022-04-24T18:55:54.363993Z",
     "iopub.status.idle": "2022-04-24T18:55:55.345466Z",
     "shell.execute_reply": "2022-04-24T18:55:55.345026Z",
     "shell.execute_reply.started": "2022-04-24T18:55:54.364202Z"
    }
   },
   "outputs": [
    {
     "data": {
      "text/plain": [
       "array([115,  99,  97, 102, 102, 111, 108, 100,  95,  49,  58,  52,  54,\n",
       "        50,  49,  52,  57,  58,  52,  54,  50,  50,  51,  50])"
      ]
     },
     "execution_count": 36,
     "metadata": {},
     "output_type": "execute_result"
    }
   ],
   "source": [
    "np_name"
   ]
  },
  {
   "cell_type": "code",
   "execution_count": 41,
   "id": "87138d5b-800e-4d0a-b6fe-ffebf66bd078",
   "metadata": {
    "execution": {
     "iopub.execute_input": "2022-04-24T18:57:52.310494Z",
     "iopub.status.busy": "2022-04-24T18:57:52.310360Z",
     "iopub.status.idle": "2022-04-24T18:57:53.327543Z",
     "shell.execute_reply": "2022-04-24T18:57:53.327054Z",
     "shell.execute_reply.started": "2022-04-24T18:57:52.310476Z"
    }
   },
   "outputs": [
    {
     "data": {
      "text/plain": [
       "26"
      ]
     },
     "execution_count": 41,
     "metadata": {},
     "output_type": "execute_result"
    }
   ],
   "source": [
    "test_dataset.longest_name"
   ]
  },
  {
   "cell_type": "code",
   "execution_count": 44,
   "id": "38f1eafb-9225-4dc5-b499-7e38794d5967",
   "metadata": {
    "execution": {
     "iopub.execute_input": "2022-04-24T18:59:40.178580Z",
     "iopub.status.busy": "2022-04-24T18:59:40.178440Z",
     "iopub.status.idle": "2022-04-24T18:59:41.156611Z",
     "shell.execute_reply": "2022-04-24T18:59:41.156179Z",
     "shell.execute_reply.started": "2022-04-24T18:59:40.178563Z"
    },
    "tags": []
   },
   "outputs": [
    {
     "data": {
      "text/plain": [
       "(26,)"
      ]
     },
     "execution_count": 44,
     "metadata": {},
     "output_type": "execute_result"
    }
   ],
   "source": [
    ".shape"
   ]
  },
  {
   "cell_type": "code",
   "execution_count": 20,
   "id": "9016e651-d12e-4ba0-91ec-99271117107f",
   "metadata": {
    "execution": {
     "iopub.execute_input": "2022-04-24T18:48:18.196540Z",
     "iopub.status.busy": "2022-04-24T18:48:18.196365Z",
     "iopub.status.idle": "2022-04-24T18:48:19.278792Z",
     "shell.execute_reply": "2022-04-24T18:48:19.278218Z",
     "shell.execute_reply.started": "2022-04-24T18:48:18.196522Z"
    },
    "tags": []
   },
   "outputs": [
    {
     "ename": "ValueError",
     "evalue": "operands could not be broadcast together with remapped shapes [original->remapped]: (2,2)  and requested shape (1,2)",
     "output_type": "error",
     "traceback": [
      "\u001b[0;31m---------------------------------------------------------------------------\u001b[0m",
      "\u001b[0;31mValueError\u001b[0m                                Traceback (most recent call last)",
      "\u001b[0;32m<ipython-input-20-bc4d69dc1321>\u001b[0m in \u001b[0;36m<module>\u001b[0;34m\u001b[0m\n\u001b[0;32m----> 1\u001b[0;31m \u001b[0mnp\u001b[0m\u001b[0;34m.\u001b[0m\u001b[0mpad\u001b[0m\u001b[0;34m(\u001b[0m\u001b[0mtest_dataset\u001b[0m\u001b[0;34m.\u001b[0m\u001b[0mascii_names\u001b[0m\u001b[0;34m,\u001b[0m \u001b[0;34m[\u001b[0m\u001b[0;34m(\u001b[0m\u001b[0;36m0\u001b[0m\u001b[0;34m,\u001b[0m \u001b[0;36m0\u001b[0m\u001b[0;34m)\u001b[0m\u001b[0;34m,\u001b[0m \u001b[0;34m(\u001b[0m\u001b[0;36m0\u001b[0m\u001b[0;34m,\u001b[0m \u001b[0;36m0\u001b[0m\u001b[0;34m)\u001b[0m\u001b[0;34m]\u001b[0m\u001b[0;34m,\u001b[0m \u001b[0mmode\u001b[0m\u001b[0;34m=\u001b[0m\u001b[0;34m\"constant\"\u001b[0m\u001b[0;34m,\u001b[0m \u001b[0mconstant_values\u001b[0m\u001b[0;34m=\u001b[0m\u001b[0;34m-\u001b[0m\u001b[0;36m1\u001b[0m\u001b[0;34m)\u001b[0m\u001b[0;34m\u001b[0m\u001b[0;34m\u001b[0m\u001b[0m\n\u001b[0m",
      "\u001b[0;32m<__array_function__ internals>\u001b[0m in \u001b[0;36mpad\u001b[0;34m(*args, **kwargs)\u001b[0m\n",
      "\u001b[0;32m~/opt/miniconda3/envs/pytorch_dev/lib/python3.7/site-packages/numpy/lib/arraypad.py\u001b[0m in \u001b[0;36mpad\u001b[0;34m(array, pad_width, mode, **kwargs)\u001b[0m\n\u001b[1;32m    741\u001b[0m \u001b[0;34m\u001b[0m\u001b[0m\n\u001b[1;32m    742\u001b[0m     \u001b[0;31m# Broadcast to shape (array.ndim, 2)\u001b[0m\u001b[0;34m\u001b[0m\u001b[0;34m\u001b[0m\u001b[0;34m\u001b[0m\u001b[0m\n\u001b[0;32m--> 743\u001b[0;31m     \u001b[0mpad_width\u001b[0m \u001b[0;34m=\u001b[0m \u001b[0m_as_pairs\u001b[0m\u001b[0;34m(\u001b[0m\u001b[0mpad_width\u001b[0m\u001b[0;34m,\u001b[0m \u001b[0marray\u001b[0m\u001b[0;34m.\u001b[0m\u001b[0mndim\u001b[0m\u001b[0;34m,\u001b[0m \u001b[0mas_index\u001b[0m\u001b[0;34m=\u001b[0m\u001b[0;32mTrue\u001b[0m\u001b[0;34m)\u001b[0m\u001b[0;34m\u001b[0m\u001b[0;34m\u001b[0m\u001b[0m\n\u001b[0m\u001b[1;32m    744\u001b[0m \u001b[0;34m\u001b[0m\u001b[0m\n\u001b[1;32m    745\u001b[0m     \u001b[0;32mif\u001b[0m \u001b[0mcallable\u001b[0m\u001b[0;34m(\u001b[0m\u001b[0mmode\u001b[0m\u001b[0;34m)\u001b[0m\u001b[0;34m:\u001b[0m\u001b[0;34m\u001b[0m\u001b[0;34m\u001b[0m\u001b[0m\n",
      "\u001b[0;32m~/opt/miniconda3/envs/pytorch_dev/lib/python3.7/site-packages/numpy/lib/arraypad.py\u001b[0m in \u001b[0;36m_as_pairs\u001b[0;34m(x, ndim, as_index)\u001b[0m\n\u001b[1;32m    516\u001b[0m     \u001b[0;31m# Converting the array with `tolist` seems to improve performance\u001b[0m\u001b[0;34m\u001b[0m\u001b[0;34m\u001b[0m\u001b[0;34m\u001b[0m\u001b[0m\n\u001b[1;32m    517\u001b[0m     \u001b[0;31m# when iterating and indexing the result (see usage in `pad`)\u001b[0m\u001b[0;34m\u001b[0m\u001b[0;34m\u001b[0m\u001b[0;34m\u001b[0m\u001b[0m\n\u001b[0;32m--> 518\u001b[0;31m     \u001b[0;32mreturn\u001b[0m \u001b[0mnp\u001b[0m\u001b[0;34m.\u001b[0m\u001b[0mbroadcast_to\u001b[0m\u001b[0;34m(\u001b[0m\u001b[0mx\u001b[0m\u001b[0;34m,\u001b[0m \u001b[0;34m(\u001b[0m\u001b[0mndim\u001b[0m\u001b[0;34m,\u001b[0m \u001b[0;36m2\u001b[0m\u001b[0;34m)\u001b[0m\u001b[0;34m)\u001b[0m\u001b[0;34m.\u001b[0m\u001b[0mtolist\u001b[0m\u001b[0;34m(\u001b[0m\u001b[0;34m)\u001b[0m\u001b[0;34m\u001b[0m\u001b[0;34m\u001b[0m\u001b[0m\n\u001b[0m\u001b[1;32m    519\u001b[0m \u001b[0;34m\u001b[0m\u001b[0m\n\u001b[1;32m    520\u001b[0m \u001b[0;34m\u001b[0m\u001b[0m\n",
      "\u001b[0;32m<__array_function__ internals>\u001b[0m in \u001b[0;36mbroadcast_to\u001b[0;34m(*args, **kwargs)\u001b[0m\n",
      "\u001b[0;32m~/opt/miniconda3/envs/pytorch_dev/lib/python3.7/site-packages/numpy/lib/stride_tricks.py\u001b[0m in \u001b[0;36mbroadcast_to\u001b[0;34m(array, shape, subok)\u001b[0m\n\u001b[1;32m    409\u001b[0m            [1, 2, 3]])\n\u001b[1;32m    410\u001b[0m     \"\"\"\n\u001b[0;32m--> 411\u001b[0;31m     \u001b[0;32mreturn\u001b[0m \u001b[0m_broadcast_to\u001b[0m\u001b[0;34m(\u001b[0m\u001b[0marray\u001b[0m\u001b[0;34m,\u001b[0m \u001b[0mshape\u001b[0m\u001b[0;34m,\u001b[0m \u001b[0msubok\u001b[0m\u001b[0;34m=\u001b[0m\u001b[0msubok\u001b[0m\u001b[0;34m,\u001b[0m \u001b[0mreadonly\u001b[0m\u001b[0;34m=\u001b[0m\u001b[0;32mTrue\u001b[0m\u001b[0;34m)\u001b[0m\u001b[0;34m\u001b[0m\u001b[0;34m\u001b[0m\u001b[0m\n\u001b[0m\u001b[1;32m    412\u001b[0m \u001b[0;34m\u001b[0m\u001b[0m\n\u001b[1;32m    413\u001b[0m \u001b[0;34m\u001b[0m\u001b[0m\n",
      "\u001b[0;32m~/opt/miniconda3/envs/pytorch_dev/lib/python3.7/site-packages/numpy/lib/stride_tricks.py\u001b[0m in \u001b[0;36m_broadcast_to\u001b[0;34m(array, shape, subok, readonly)\u001b[0m\n\u001b[1;32m    348\u001b[0m     it = np.nditer(\n\u001b[1;32m    349\u001b[0m         \u001b[0;34m(\u001b[0m\u001b[0marray\u001b[0m\u001b[0;34m,\u001b[0m\u001b[0;34m)\u001b[0m\u001b[0;34m,\u001b[0m \u001b[0mflags\u001b[0m\u001b[0;34m=\u001b[0m\u001b[0;34m[\u001b[0m\u001b[0;34m'multi_index'\u001b[0m\u001b[0;34m,\u001b[0m \u001b[0;34m'refs_ok'\u001b[0m\u001b[0;34m,\u001b[0m \u001b[0;34m'zerosize_ok'\u001b[0m\u001b[0;34m]\u001b[0m \u001b[0;34m+\u001b[0m \u001b[0mextras\u001b[0m\u001b[0;34m,\u001b[0m\u001b[0;34m\u001b[0m\u001b[0;34m\u001b[0m\u001b[0m\n\u001b[0;32m--> 350\u001b[0;31m         op_flags=['readonly'], itershape=shape, order='C')\n\u001b[0m\u001b[1;32m    351\u001b[0m     \u001b[0;32mwith\u001b[0m \u001b[0mit\u001b[0m\u001b[0;34m:\u001b[0m\u001b[0;34m\u001b[0m\u001b[0;34m\u001b[0m\u001b[0m\n\u001b[1;32m    352\u001b[0m         \u001b[0;31m# never really has writebackifcopy semantics\u001b[0m\u001b[0;34m\u001b[0m\u001b[0;34m\u001b[0m\u001b[0;34m\u001b[0m\u001b[0m\n",
      "\u001b[0;31mValueError\u001b[0m: operands could not be broadcast together with remapped shapes [original->remapped]: (2,2)  and requested shape (1,2)"
     ]
    }
   ],
   "source": [
    "np.pad(test_dataset.ascii_names, [(0, 0), (0, 0)], mode=\"constant\", constant_values=-1)"
   ]
  },
  {
   "cell_type": "markdown",
   "id": "fd472fda",
   "metadata": {
    "tags": []
   },
   "source": [
    "# MPRADataModule\n",
    "PyTorch Lightning DataModule class for MPRA data that allows for asbtracting most of the dataloading process. These DataModules can be passed straight to trainers for model training."
   ]
  },
  {
   "cell_type": "code",
   "execution_count": 77,
   "id": "38b33ea4",
   "metadata": {
    "execution": {
     "iopub.execute_input": "2022-04-03T21:04:23.330357Z",
     "iopub.status.busy": "2022-04-03T21:04:23.330119Z",
     "iopub.status.idle": "2022-04-03T21:04:49.747442Z",
     "shell.execute_reply": "2022-04-03T21:04:49.747070Z",
     "shell.execute_reply.started": "2022-04-03T21:04:23.330339Z"
    },
    "tags": []
   },
   "outputs": [],
   "source": [
    "from MPRADataModule import MPRADataModule"
   ]
  },
  {
   "cell_type": "code",
   "execution_count": 78,
   "id": "76c611c2",
   "metadata": {
    "execution": {
     "iopub.execute_input": "2022-04-03T21:04:49.750342Z",
     "iopub.status.busy": "2022-04-03T21:04:49.749462Z",
     "iopub.status.idle": "2022-04-03T21:04:51.044884Z",
     "shell.execute_reply": "2022-04-03T21:04:51.044501Z",
     "shell.execute_reply.started": "2022-04-03T21:04:49.750321Z"
    },
    "tags": []
   },
   "outputs": [],
   "source": [
    "data_transform = transforms.Compose([\n",
    "    Augment(randomize_linker_p=0.1, enhancer=\"WT-otx-a\"), \n",
    "    OneHotEncode(), \n",
    "    ToTensor(transpose=True)\n",
    "])"
   ]
  },
  {
   "cell_type": "code",
   "execution_count": 79,
   "id": "b5f5371d",
   "metadata": {
    "execution": {
     "iopub.execute_input": "2022-04-03T21:05:31.776795Z",
     "iopub.status.busy": "2022-04-03T21:05:31.776627Z",
     "iopub.status.idle": "2022-04-03T21:05:32.822917Z",
     "shell.execute_reply": "2022-04-03T21:05:32.822531Z",
     "shell.execute_reply.started": "2022-04-03T21:05:31.776778Z"
    },
    "tags": []
   },
   "outputs": [],
   "source": [
    "test_datamodule = MPRADataModule(\n",
    "    seq_file=\"test_seqs.tsv\",\n",
    "    transform=data_transform,\n",
    "    num_workers=0,\n",
    "    batch_size=16,\n",
    "    load_kwargs=dict(seq_col=\"SEQ\"))"
   ]
  },
  {
   "cell_type": "code",
   "execution_count": 80,
   "id": "30125de6",
   "metadata": {},
   "outputs": [],
   "source": [
    "test_datamodule.setup()\n",
    "test_dataset = test_datamodule.train_dataloader().dataset"
   ]
  },
  {
   "cell_type": "code",
   "execution_count": 81,
   "id": "520d27e8",
   "metadata": {},
   "outputs": [
    {
     "name": "stdout",
     "output_type": "stream",
     "text": [
      "0 torch.Size([1]) torch.Size([4, 1000]) torch.Size([1]) tensor([-1.])\n",
      "1 torch.Size([1]) torch.Size([4, 1000]) torch.Size([1]) tensor([-1.])\n",
      "2 torch.Size([1]) torch.Size([4, 1000]) torch.Size([1]) tensor([-1.])\n",
      "3 torch.Size([1]) torch.Size([4, 1000]) torch.Size([1]) tensor([-1.])\n"
     ]
    }
   ],
   "source": [
    "# Check the Dataset Class\n",
    "for i in range(len(test_datamodule.train_dataloader().dataset)):\n",
    "    sample = test_datamodule.train_dataloader().dataset[i]\n",
    "    print(i, sample[0].size(), sample[1].size(), sample[2].size(), sample[3])\n",
    "    if i == 3:\n",
    "        break"
   ]
  },
  {
   "cell_type": "code",
   "execution_count": 82,
   "id": "ba2c7f2f",
   "metadata": {},
   "outputs": [
    {
     "name": "stdout",
     "output_type": "stream",
     "text": [
      "0 torch.Size([16, 4, 1000]) torch.Size([16, 1]) torch.Size([16, 1])\n",
      "1 torch.Size([16, 4, 1000]) torch.Size([16, 1]) torch.Size([16, 1])\n",
      "2 torch.Size([16, 4, 1000]) torch.Size([16, 1]) torch.Size([16, 1])\n",
      "3 torch.Size([16, 4, 1000]) torch.Size([16, 1]) torch.Size([16, 1])\n"
     ]
    }
   ],
   "source": [
    "# Check the DataLoader\n",
    "for i_batch, sample_batched in enumerate(test_datamodule.train_dataloader()):\n",
    "    print(i_batch, sample_batched[1].size(), sample_batched[2].size(), sample_batched[3].size())\n",
    "    # observe 4th batch and stop.\n",
    "    if i_batch == 3:\n",
    "        break"
   ]
  },
  {
   "cell_type": "code",
   "execution_count": 21,
   "id": "8daa7b79",
   "metadata": {},
   "outputs": [
    {
     "data": {
      "text/plain": [
       "(tensor([-1.]),\n",
       " tensor([[0., 0., 0.,  ..., 1., 0., 1.],\n",
       "         [0., 0., 1.,  ..., 0., 0., 0.],\n",
       "         [1., 1., 0.,  ..., 0., 0., 0.],\n",
       "         [0., 0., 0.,  ..., 0., 1., 0.]]),\n",
       " tensor([-1.]),\n",
       " tensor([-1.]))"
      ]
     },
     "execution_count": 21,
     "metadata": {},
     "output_type": "execute_result"
    }
   ],
   "source": [
    "test_datamodule."
   ]
  },
  {
   "cell_type": "code",
   "execution_count": null,
   "id": "4a8ac144",
   "metadata": {},
   "outputs": [],
   "source": []
  }
 ],
 "metadata": {
  "kernelspec": {
   "display_name": "Python 3",
   "language": "python",
   "name": "python3"
  },
  "language_info": {
   "codemirror_mode": {
    "name": "ipython",
    "version": 3
   },
   "file_extension": ".py",
   "mimetype": "text/x-python",
   "name": "python",
   "nbconvert_exporter": "python",
   "pygments_lexer": "ipython3",
   "version": "3.7.12"
  },
  "vscode": {
   "interpreter": {
    "hash": "1330bbbf2c4cf53098ef1254540d5dd54a9d501f0408fea1c04a20872667b797"
   }
  }
 },
 "nbformat": 4,
 "nbformat_minor": 5
}

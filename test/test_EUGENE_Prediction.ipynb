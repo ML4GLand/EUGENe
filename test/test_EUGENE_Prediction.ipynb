{
 "cells": [
  {
   "cell_type": "markdown",
   "id": "47cc2c48",
   "metadata": {},
   "source": [
    "# Testing EUGENE prediction"
   ]
  },
  {
   "cell_type": "markdown",
   "id": "3b1880c3",
   "metadata": {
    "tags": []
   },
   "source": [
    "**Authorship:**\n",
    "Adam Klie, *03/19/2022*\n",
    "***\n",
    "**Description:**\n",
    "Notebook for testing predictions with EUGENE architectures"
   ]
  },
  {
   "cell_type": "markdown",
   "id": "599007ce",
   "metadata": {},
   "source": [
    "<div class=\"alert alert-block alert-warning\">\n",
    "<b>TODOs</b>:\n",
    "<ul>\n",
    "    <b><li>Config for EUGENES</li></b>\n",
    "    </ul>\n",
    "</div>"
   ]
  },
  {
   "cell_type": "code",
   "execution_count": 1,
   "id": "1dd9ef33",
   "metadata": {
    "execution": {
     "iopub.execute_input": "2022-04-07T06:08:30.956082Z",
     "iopub.status.busy": "2022-04-07T06:08:30.955947Z",
     "iopub.status.idle": "2022-04-07T06:08:34.106855Z",
     "shell.execute_reply": "2022-04-07T06:08:34.106352Z",
     "shell.execute_reply.started": "2022-04-07T06:08:30.956043Z"
    },
    "tags": []
   },
   "outputs": [],
   "source": [
    "import os\n",
    "import numpy as np\n",
    "import pandas as pd\n",
    "import torch\n",
    "\n",
    "# Autoreload extension\n",
    "if 'autoreload' not in get_ipython().extension_manager.loaded:\n",
    "    %load_ext autoreload\n",
    "%autoreload 2"
   ]
  },
  {
   "cell_type": "markdown",
   "id": "2b388b20-ba21-4cfd-956d-76456918b0d5",
   "metadata": {},
   "source": [
    "# Predict with dsEUGENE\n",
    "<div class=\"alert alert-info\" role=\"alert\">\n",
    "  <b>Predict with dsEUGENE models</b>\n",
    "</div>"
   ]
  },
  {
   "cell_type": "code",
   "execution_count": 2,
   "id": "935c1d55-a9ed-4cbf-a0e8-660ac0a00ef9",
   "metadata": {
    "execution": {
     "iopub.execute_input": "2022-04-07T06:08:34.107740Z",
     "iopub.status.busy": "2022-04-07T06:08:34.107619Z",
     "iopub.status.idle": "2022-04-07T06:08:34.479946Z",
     "shell.execute_reply": "2022-04-07T06:08:34.479517Z",
     "shell.execute_reply.started": "2022-04-07T06:08:34.107722Z"
    },
    "tags": []
   },
   "outputs": [],
   "source": [
    "BATCH_SIZE = 32\n",
    "DATA_TYPE = \"tsv\"\n",
    "NUM_WORKERS = 0\n",
    "NUM_SEQS = 100\n",
    "SEQ_LEN = 66"
   ]
  },
  {
   "cell_type": "markdown",
   "id": "b446ff4c-3bc0-44a5-930b-3d30dcb17e76",
   "metadata": {
    "tags": []
   },
   "source": [
    "## Load data"
   ]
  },
  {
   "cell_type": "code",
   "execution_count": 7,
   "id": "cf9d0ff8-e637-497c-a1a9-1adf56387230",
   "metadata": {
    "execution": {
     "iopub.execute_input": "2022-04-07T06:09:08.628711Z",
     "iopub.status.busy": "2022-04-07T06:09:08.628493Z",
     "iopub.status.idle": "2022-04-07T06:09:09.478364Z",
     "shell.execute_reply": "2022-04-07T06:09:09.477895Z",
     "shell.execute_reply.started": "2022-04-07T06:09:08.628682Z"
    },
    "tags": []
   },
   "outputs": [],
   "source": [
    "from torchvision import transforms\n",
    "from eugene.utils.seq_transforms import ReverseComplement, Augment, OneHotEncode, ToTensor\n",
    "from eugene.dataloading.SeqDataModule import SeqDataModule"
   ]
  },
  {
   "cell_type": "code",
   "execution_count": 8,
   "id": "21af3462-1e06-4de6-b51d-a85e4bdebdf0",
   "metadata": {
    "execution": {
     "iopub.execute_input": "2022-04-07T06:09:11.634023Z",
     "iopub.status.busy": "2022-04-07T06:09:11.633886Z",
     "iopub.status.idle": "2022-04-07T06:09:12.249215Z",
     "shell.execute_reply": "2022-04-07T06:09:12.248688Z",
     "shell.execute_reply.started": "2022-04-07T06:09:11.634007Z"
    },
    "tags": []
   },
   "outputs": [],
   "source": [
    "data_transform = transforms.Compose([\n",
    "    Augment(randomize_linker_p=0.1, enhancer=\"WT-otx-a\"), \n",
    "    ReverseComplement(ohe_encoded=False), \n",
    "    OneHotEncode(), \n",
    "    ToTensor(transpose=True)\n",
    "])"
   ]
  },
  {
   "cell_type": "code",
   "execution_count": 19,
   "id": "fc0b3dcb-37dd-4ed9-a571-987219c44088",
   "metadata": {
    "execution": {
     "iopub.execute_input": "2022-04-07T06:11:20.760726Z",
     "iopub.status.busy": "2022-04-07T06:11:20.760565Z",
     "iopub.status.idle": "2022-04-07T06:11:21.417905Z",
     "shell.execute_reply": "2022-04-07T06:11:21.417445Z",
     "shell.execute_reply.started": "2022-04-07T06:11:20.760709Z"
    },
    "tags": []
   },
   "outputs": [],
   "source": [
    "DATA_DIR = \"test_{}seqs_{}/\".format(NUM_SEQS, SEQ_LEN)\n",
    "mod = SeqDataModule(seq_file=DATA_DIR + \"test_seqs.tsv\",\n",
    "                    transform=data_transform,\n",
    "                    num_workers=4,\n",
    "                    batch_size=BATCH_SIZE,\n",
    "                    test= True,\n",
    "                    load_kwargs=dict(seq_col=\"SEQ\", target_col=\"LABEL\"))\n",
    "#load_kwargs=dict(target_file=DATA_DIR + \"test_labels.npy\", rev_seq_file=DATA_DIR + \"test_rev_ohe_seqs.npy\"))"
   ]
  },
  {
   "cell_type": "markdown",
   "id": "5279866a",
   "metadata": {
    "tags": []
   },
   "source": [
    "## Instantiate EUGENE architecture: dsEUGENE"
   ]
  },
  {
   "cell_type": "code",
   "execution_count": 20,
   "id": "d2a38685",
   "metadata": {
    "execution": {
     "iopub.execute_input": "2022-04-07T06:11:22.761510Z",
     "iopub.status.busy": "2022-04-07T06:11:22.761384Z",
     "iopub.status.idle": "2022-04-07T06:11:23.466949Z",
     "shell.execute_reply": "2022-04-07T06:11:23.466530Z",
     "shell.execute_reply.started": "2022-04-07T06:11:22.761494Z"
    },
    "tags": []
   },
   "outputs": [],
   "source": [
    "from eugene.models.dsEUGENE import dsEUGENE"
   ]
  },
  {
   "cell_type": "code",
   "execution_count": 21,
   "id": "d3f48928-4f11-451d-94f5-8f41047d98d7",
   "metadata": {
    "execution": {
     "iopub.execute_input": "2022-04-07T06:11:23.467756Z",
     "iopub.status.busy": "2022-04-07T06:11:23.467641Z",
     "iopub.status.idle": "2022-04-07T06:11:24.090597Z",
     "shell.execute_reply": "2022-04-07T06:11:24.090132Z",
     "shell.execute_reply.started": "2022-04-07T06:11:23.467741Z"
    },
    "tags": []
   },
   "outputs": [],
   "source": [
    "CKT_PTH  = \"/cellar/users/aklie/projects/EUGENE/test/test_logs/batch_size-1024.num_workers-0.data_type-npy.num_seq-500000.seq_len-66/dsEUGENE/version_0/checkpoints/epoch=9-step=4399.ckpt\""
   ]
  },
  {
   "cell_type": "code",
   "execution_count": 22,
   "id": "c6f87f14-e0ed-4bdf-9057-105e1bc8e4fb",
   "metadata": {
    "execution": {
     "iopub.execute_input": "2022-04-07T06:11:24.092956Z",
     "iopub.status.busy": "2022-04-07T06:11:24.092751Z",
     "iopub.status.idle": "2022-04-07T06:11:24.795716Z",
     "shell.execute_reply": "2022-04-07T06:11:24.795239Z",
     "shell.execute_reply.started": "2022-04-07T06:11:24.092938Z"
    },
    "tags": []
   },
   "outputs": [],
   "source": [
    "device = torch.device('cuda' if torch.cuda.is_available() else 'cpu')"
   ]
  },
  {
   "cell_type": "code",
   "execution_count": 23,
   "id": "96cec512-e14b-4041-8ff4-62c678b8b310",
   "metadata": {
    "execution": {
     "iopub.execute_input": "2022-04-07T06:11:24.796513Z",
     "iopub.status.busy": "2022-04-07T06:11:24.796399Z",
     "iopub.status.idle": "2022-04-07T06:11:25.424893Z",
     "shell.execute_reply": "2022-04-07T06:11:25.424465Z",
     "shell.execute_reply.started": "2022-04-07T06:11:24.796497Z"
    },
    "tags": []
   },
   "outputs": [],
   "source": [
    "eugene = dsEUGENE.load_from_checkpoint(\n",
    "    checkpoint_path=CKT_PTH,\n",
    "    map_location=device,\n",
    ")"
   ]
  },
  {
   "cell_type": "markdown",
   "id": "6a228cb8",
   "metadata": {
    "tags": []
   },
   "source": [
    "## Testing with PyTorch Lightning"
   ]
  },
  {
   "cell_type": "code",
   "execution_count": 24,
   "id": "d26d478d",
   "metadata": {
    "execution": {
     "iopub.execute_input": "2022-04-07T06:11:26.761320Z",
     "iopub.status.busy": "2022-04-07T06:11:26.761135Z",
     "iopub.status.idle": "2022-04-07T06:11:27.385146Z",
     "shell.execute_reply": "2022-04-07T06:11:27.384700Z",
     "shell.execute_reply.started": "2022-04-07T06:11:26.761302Z"
    },
    "tags": []
   },
   "outputs": [],
   "source": [
    "import pytorch_lightning as pl\n",
    "from eugene.utils.custom_callbacks import PredictionWriter"
   ]
  },
  {
   "cell_type": "code",
   "execution_count": 25,
   "id": "770db729",
   "metadata": {
    "execution": {
     "iopub.execute_input": "2022-04-07T06:11:27.385954Z",
     "iopub.status.busy": "2022-04-07T06:11:27.385829Z",
     "iopub.status.idle": "2022-04-07T06:11:27.949937Z",
     "shell.execute_reply": "2022-04-07T06:11:27.949628Z",
     "shell.execute_reply.started": "2022-04-07T06:11:27.385938Z"
    },
    "tags": []
   },
   "outputs": [
    {
     "name": "stderr",
     "output_type": "stream",
     "text": [
      "GPU available: True, used: True\n",
      "TPU available: False, using: 0 TPU cores\n",
      "IPU available: False, using: 0 IPUs\n"
     ]
    }
   ],
   "source": [
    "trainer = pl.Trainer(gpus=1, callbacks=PredictionWriter(DATA_DIR, write_interval=\"epoch\", prefix=\"test_500000seqs_66_\"))"
   ]
  },
  {
   "cell_type": "code",
   "execution_count": 26,
   "id": "3c9af5e4",
   "metadata": {
    "execution": {
     "iopub.execute_input": "2022-04-07T06:11:27.950837Z",
     "iopub.status.busy": "2022-04-07T06:11:27.950706Z",
     "iopub.status.idle": "2022-04-07T06:11:29.290079Z",
     "shell.execute_reply": "2022-04-07T06:11:29.289696Z",
     "shell.execute_reply.started": "2022-04-07T06:11:27.950820Z"
    },
    "tags": []
   },
   "outputs": [
    {
     "name": "stderr",
     "output_type": "stream",
     "text": [
      "LOCAL_RANK: 0 - CUDA_VISIBLE_DEVICES: [0]\n"
     ]
    },
    {
     "data": {
      "application/vnd.jupyter.widget-view+json": {
       "model_id": "3f9b6e964d1b4e8fae9b6ee05b00c9eb",
       "version_major": 2,
       "version_minor": 0
      },
      "text/plain": [
       "Predicting: 0it [00:00, ?it/s]"
      ]
     },
     "metadata": {},
     "output_type": "display_data"
    },
    {
     "name": "stderr",
     "output_type": "stream",
     "text": [
      "/cellar/users/aklie/opt/miniconda3/envs/pytorch_dev/lib/python3.7/site-packages/numpy/core/_asarray.py:171: VisibleDeprecationWarning: Creating an ndarray from ragged nested sequences (which is a list-or-tuple of lists-or-tuples-or ndarrays with different lengths or shapes) is deprecated. If you meant to do this, you must specify 'dtype=object' when creating the ndarray.\n",
      "  return array(a, dtype, copy=False, order=order, subok=True)\n"
     ]
    }
   ],
   "source": [
    "preds = trainer.predict(model=eugene, datamodule=mod)"
   ]
  },
  {
   "cell_type": "code",
   "execution_count": 27,
   "id": "e9bc5281-d0cf-4ef5-bc58-7bcc214b39e0",
   "metadata": {
    "execution": {
     "iopub.execute_input": "2022-04-07T06:11:29.290878Z",
     "iopub.status.busy": "2022-04-07T06:11:29.290761Z",
     "iopub.status.idle": "2022-04-07T06:11:29.990403Z",
     "shell.execute_reply": "2022-04-07T06:11:29.989998Z",
     "shell.execute_reply.started": "2022-04-07T06:11:29.290861Z"
    },
    "tags": []
   },
   "outputs": [
    {
     "data": {
      "text/html": [
       "<div>\n",
       "<style scoped>\n",
       "    .dataframe tbody tr th:only-of-type {\n",
       "        vertical-align: middle;\n",
       "    }\n",
       "\n",
       "    .dataframe tbody tr th {\n",
       "        vertical-align: top;\n",
       "    }\n",
       "\n",
       "    .dataframe thead th {\n",
       "        text-align: right;\n",
       "    }\n",
       "</style>\n",
       "<table border=\"1\" class=\"dataframe\">\n",
       "  <thead>\n",
       "    <tr style=\"text-align: right;\">\n",
       "      <th></th>\n",
       "      <th>NAME</th>\n",
       "      <th>PREDICTION</th>\n",
       "    </tr>\n",
       "  </thead>\n",
       "  <tbody>\n",
       "    <tr>\n",
       "      <th>0</th>\n",
       "      <td>-1.0</td>\n",
       "      <td>-0.132297</td>\n",
       "    </tr>\n",
       "    <tr>\n",
       "      <th>1</th>\n",
       "      <td>-1.0</td>\n",
       "      <td>-0.012364</td>\n",
       "    </tr>\n",
       "    <tr>\n",
       "      <th>2</th>\n",
       "      <td>-1.0</td>\n",
       "      <td>0.147150</td>\n",
       "    </tr>\n",
       "    <tr>\n",
       "      <th>3</th>\n",
       "      <td>-1.0</td>\n",
       "      <td>0.155485</td>\n",
       "    </tr>\n",
       "    <tr>\n",
       "      <th>4</th>\n",
       "      <td>-1.0</td>\n",
       "      <td>-0.156971</td>\n",
       "    </tr>\n",
       "    <tr>\n",
       "      <th>...</th>\n",
       "      <td>...</td>\n",
       "      <td>...</td>\n",
       "    </tr>\n",
       "    <tr>\n",
       "      <th>95</th>\n",
       "      <td>-1.0</td>\n",
       "      <td>0.004575</td>\n",
       "    </tr>\n",
       "    <tr>\n",
       "      <th>96</th>\n",
       "      <td>-1.0</td>\n",
       "      <td>-0.067324</td>\n",
       "    </tr>\n",
       "    <tr>\n",
       "      <th>97</th>\n",
       "      <td>-1.0</td>\n",
       "      <td>-0.032131</td>\n",
       "    </tr>\n",
       "    <tr>\n",
       "      <th>98</th>\n",
       "      <td>-1.0</td>\n",
       "      <td>0.079378</td>\n",
       "    </tr>\n",
       "    <tr>\n",
       "      <th>99</th>\n",
       "      <td>-1.0</td>\n",
       "      <td>-0.091235</td>\n",
       "    </tr>\n",
       "  </tbody>\n",
       "</table>\n",
       "<p>100 rows × 2 columns</p>\n",
       "</div>"
      ],
      "text/plain": [
       "    NAME  PREDICTION\n",
       "0   -1.0   -0.132297\n",
       "1   -1.0   -0.012364\n",
       "2   -1.0    0.147150\n",
       "3   -1.0    0.155485\n",
       "4   -1.0   -0.156971\n",
       "..   ...         ...\n",
       "95  -1.0    0.004575\n",
       "96  -1.0   -0.067324\n",
       "97  -1.0   -0.032131\n",
       "98  -1.0    0.079378\n",
       "99  -1.0   -0.091235\n",
       "\n",
       "[100 rows x 2 columns]"
      ]
     },
     "execution_count": 27,
     "metadata": {},
     "output_type": "execute_result"
    }
   ],
   "source": [
    "pd.read_csv(os.path.join(DATA_DIR, \"test_500000seqs_66_predictions.tsv\"), sep=\"\\t\")"
   ]
  },
  {
   "cell_type": "markdown",
   "id": "748e0502",
   "metadata": {},
   "source": [
    "# References"
   ]
  }
 ],
 "metadata": {
  "kernelspec": {
   "display_name": "Python 3 pytorch_dev",
   "language": "python",
   "name": "pytorch_dev"
  },
  "language_info": {
   "codemirror_mode": {
    "name": "ipython",
    "version": 3
   },
   "file_extension": ".py",
   "mimetype": "text/x-python",
   "name": "python",
   "nbconvert_exporter": "python",
   "pygments_lexer": "ipython3",
   "version": "3.7.12"
  }
 },
 "nbformat": 4,
 "nbformat_minor": 5
}

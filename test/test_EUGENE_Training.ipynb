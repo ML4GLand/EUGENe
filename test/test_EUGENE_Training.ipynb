{
 "cells": [
  {
   "cell_type": "markdown",
   "id": "47cc2c48",
   "metadata": {},
   "source": [
    "# Testing EUGENE training"
   ]
  },
  {
   "cell_type": "markdown",
   "id": "3b1880c3",
   "metadata": {
    "tags": []
   },
   "source": [
    "**Authorship:**\n",
    "Adam Klie, *03/19/2022*\n",
    "***\n",
    "**Description:**\n",
    "Notebook for testing the training of EUGENE architectures"
   ]
  },
  {
   "cell_type": "markdown",
   "id": "599007ce",
   "metadata": {},
   "source": [
    "<div class=\"alert alert-block alert-warning\">\n",
    "<b>TODOs</b>:\n",
    "<ul>\n",
    "    <b><li>Config for EUGENES</li></b>\n",
    "    </ul>\n",
    "</div>"
   ]
  },
  {
   "cell_type": "code",
   "execution_count": 1,
   "id": "1dd9ef33",
   "metadata": {
    "execution": {
     "iopub.execute_input": "2022-04-03T22:11:30.591803Z",
     "iopub.status.busy": "2022-04-03T22:11:30.591607Z",
     "iopub.status.idle": "2022-04-03T22:12:25.213276Z",
     "shell.execute_reply": "2022-04-03T22:12:25.212917Z",
     "shell.execute_reply.started": "2022-04-03T22:11:30.591750Z"
    },
    "tags": []
   },
   "outputs": [],
   "source": [
    "import numpy as np\n",
    "import pandas as pd\n",
    "import torch\n",
    "\n",
    "# Autoreload extension\n",
    "if 'autoreload' not in get_ipython().extension_manager.loaded:\n",
    "    %load_ext autoreload\n",
    "%autoreload 2\n",
    "\n",
    "import sys\n",
    "sys.path.append(\"../eugene\")"
   ]
  },
  {
   "cell_type": "markdown",
   "id": "014ba91d",
   "metadata": {
    "tags": [],
    "toc-hr-collapsed": true
   },
   "source": [
    "# Random dataset\n",
    "<div class=\"alert alert-info\" role=\"alert\">\n",
    "  <b>Just test out the basic function of our eugene architectures</b>\n",
    "</div>"
   ]
  },
  {
   "cell_type": "markdown",
   "id": "5279866a",
   "metadata": {
    "tags": [],
    "toc-hr-collapsed": true
   },
   "source": [
    "## Instantiate EUGENE architecture: ssEUGENE"
   ]
  },
  {
   "cell_type": "code",
   "execution_count": 23,
   "id": "662e5097",
   "metadata": {
    "execution": {
     "iopub.execute_input": "2022-04-03T21:18:53.897206Z",
     "iopub.status.busy": "2022-04-03T21:18:53.897037Z",
     "iopub.status.idle": "2022-04-03T21:18:55.523793Z",
     "shell.execute_reply": "2022-04-03T21:18:55.523377Z",
     "shell.execute_reply.started": "2022-04-03T21:18:53.897188Z"
    },
    "tags": []
   },
   "outputs": [],
   "source": [
    "cnn=dict(input_len=66, channels=[4, 16], conv_kernels=[15, 5], pool_kernels=[1, 1])\n",
    "rnn=dict(output_dim=32, batch_first=True)\n",
    "fc=dict(output_dim=1)"
   ]
  },
  {
   "cell_type": "code",
   "execution_count": 25,
   "id": "d2a38685",
   "metadata": {
    "execution": {
     "iopub.execute_input": "2022-04-03T21:19:17.961394Z",
     "iopub.status.busy": "2022-04-03T21:19:17.961226Z",
     "iopub.status.idle": "2022-04-03T21:19:19.586369Z",
     "shell.execute_reply": "2022-04-03T21:19:19.586025Z",
     "shell.execute_reply.started": "2022-04-03T21:19:17.961377Z"
    },
    "tags": []
   },
   "outputs": [],
   "source": [
    "from ssEUGENE import ssEUGENE"
   ]
  },
  {
   "cell_type": "code",
   "execution_count": 26,
   "id": "de676488",
   "metadata": {
    "execution": {
     "iopub.execute_input": "2022-04-03T21:19:22.623257Z",
     "iopub.status.busy": "2022-04-03T21:19:22.623105Z",
     "iopub.status.idle": "2022-04-03T21:19:23.738107Z",
     "shell.execute_reply": "2022-04-03T21:19:23.737774Z",
     "shell.execute_reply.started": "2022-04-03T21:19:22.623240Z"
    },
    "tags": []
   },
   "outputs": [
    {
     "data": {
      "text/plain": [
       "ssEUGENE(\n",
       "  (convnet): BasicConv1D(\n",
       "    (module): Sequential(\n",
       "      (0): Conv1d(4, 16, kernel_size=(15,), stride=(1,))\n",
       "      (1): ReLU(inplace=True)\n",
       "      (2): MaxPool1d(kernel_size=1, stride=1, padding=0, dilation=1, ceil_mode=False)\n",
       "    )\n",
       "  )\n",
       "  (recurrentnet): BasicRecurrent(\n",
       "    (module): LSTM(16, 32, batch_first=True)\n",
       "  )\n",
       "  (fcnet): BasicFullyConnectedModule(\n",
       "    (module): Sequential(\n",
       "      (0): Linear(in_features=32, out_features=1, bias=True)\n",
       "    )\n",
       "  )\n",
       ")"
      ]
     },
     "execution_count": 26,
     "metadata": {},
     "output_type": "execute_result"
    }
   ],
   "source": [
    "eugene = ssEUGENE(conv_kwargs=cnn, rnn_kwargs=rnn, fc_kwargs=fc)\n",
    "eugene"
   ]
  },
  {
   "cell_type": "code",
   "execution_count": 28,
   "id": "2a667180",
   "metadata": {
    "execution": {
     "iopub.execute_input": "2022-04-03T21:19:29.380410Z",
     "iopub.status.busy": "2022-04-03T21:19:29.380264Z",
     "iopub.status.idle": "2022-04-03T21:19:31.098823Z",
     "shell.execute_reply": "2022-04-03T21:19:31.098500Z",
     "shell.execute_reply.started": "2022-04-03T21:19:29.380392Z"
    },
    "tags": []
   },
   "outputs": [
    {
     "data": {
      "text/plain": [
       "torch.Size([10, 1])"
      ]
     },
     "execution_count": 28,
     "metadata": {},
     "output_type": "execute_result"
    }
   ],
   "source": [
    "x = torch.randn(10, 4, 66)\n",
    "out = eugene(x)\n",
    "out.shape"
   ]
  },
  {
   "cell_type": "markdown",
   "id": "5797dac8",
   "metadata": {
    "tags": [],
    "toc-hr-collapsed": true
   },
   "source": [
    "## Load data"
   ]
  },
  {
   "cell_type": "code",
   "execution_count": 29,
   "id": "7f73743f",
   "metadata": {
    "execution": {
     "iopub.execute_input": "2022-04-03T21:19:31.101596Z",
     "iopub.status.busy": "2022-04-03T21:19:31.100665Z",
     "iopub.status.idle": "2022-04-03T21:19:32.440924Z",
     "shell.execute_reply": "2022-04-03T21:19:32.440535Z",
     "shell.execute_reply.started": "2022-04-03T21:19:31.101558Z"
    },
    "tags": []
   },
   "outputs": [],
   "source": [
    "from torch.utils.data import dataset\n",
    "from torch.utils.data import DataLoader"
   ]
  },
  {
   "cell_type": "markdown",
   "id": "fb72323a",
   "metadata": {
    "tags": [],
    "toc-hr-collapsed": true
   },
   "source": [
    "### Training set"
   ]
  },
  {
   "cell_type": "code",
   "execution_count": 30,
   "id": "e4a5d910",
   "metadata": {
    "execution": {
     "iopub.execute_input": "2022-04-03T21:19:32.443868Z",
     "iopub.status.busy": "2022-04-03T21:19:32.442987Z",
     "iopub.status.idle": "2022-04-03T21:19:33.484094Z",
     "shell.execute_reply": "2022-04-03T21:19:33.483781Z",
     "shell.execute_reply.started": "2022-04-03T21:19:32.443848Z"
    },
    "tags": []
   },
   "outputs": [
    {
     "data": {
      "text/plain": [
       "(torch.Size([4, 66]), tensor(1.))"
      ]
     },
     "execution_count": 30,
     "metadata": {},
     "output_type": "execute_result"
    }
   ],
   "source": [
    "training_dataset = dataset.TensorDataset(torch.randn(1000, 4, 66), torch.bernoulli(torch.empty(1000).uniform_(0,1)))\n",
    "training_dataloader = DataLoader(training_dataset, batch_size=32, num_workers=1)\n",
    "training_dataset[0][0].shape, training_dataset[0][1]"
   ]
  },
  {
   "cell_type": "code",
   "execution_count": 31,
   "id": "f0bcca4f",
   "metadata": {
    "execution": {
     "iopub.execute_input": "2022-04-03T21:19:34.019982Z",
     "iopub.status.busy": "2022-04-03T21:19:34.019077Z",
     "iopub.status.idle": "2022-04-03T21:19:35.586798Z",
     "shell.execute_reply": "2022-04-03T21:19:35.586435Z",
     "shell.execute_reply.started": "2022-04-03T21:19:34.019961Z"
    },
    "tags": []
   },
   "outputs": [
    {
     "name": "stdout",
     "output_type": "stream",
     "text": [
      "torch.Size([32, 4, 66]) torch.Size([32]) torch.Size([32, 1])\n",
      "torch.Size([32, 4, 66]) torch.Size([32]) torch.Size([32, 1])\n",
      "torch.Size([32, 4, 66]) torch.Size([32]) torch.Size([32, 1])\n",
      "torch.Size([32, 4, 66]) torch.Size([32]) torch.Size([32, 1])\n"
     ]
    }
   ],
   "source": [
    "for i_batch, batch in enumerate(training_dataloader):\n",
    "    x, y = batch\n",
    "    outs = eugene(x)\n",
    "    print(x.shape, y.shape, outs.shape)\n",
    "    if i_batch==3:\n",
    "        break"
   ]
  },
  {
   "cell_type": "markdown",
   "id": "8dc6063e",
   "metadata": {
    "tags": [],
    "toc-hr-collapsed": true
   },
   "source": [
    "### Validation set"
   ]
  },
  {
   "cell_type": "code",
   "execution_count": 32,
   "id": "fc89bffd",
   "metadata": {
    "execution": {
     "iopub.execute_input": "2022-04-03T21:19:35.755964Z",
     "iopub.status.busy": "2022-04-03T21:19:35.755001Z",
     "iopub.status.idle": "2022-04-03T21:19:37.249102Z",
     "shell.execute_reply": "2022-04-03T21:19:37.248741Z",
     "shell.execute_reply.started": "2022-04-03T21:19:35.755941Z"
    },
    "tags": []
   },
   "outputs": [
    {
     "data": {
      "text/plain": [
       "(torch.Size([4, 66]), tensor(1.))"
      ]
     },
     "execution_count": 32,
     "metadata": {},
     "output_type": "execute_result"
    }
   ],
   "source": [
    "validation_dataset = dataset.TensorDataset(torch.randn(100, 4, 66), torch.bernoulli(torch.empty(100).uniform_(0,1)))\n",
    "validation_dataloader = DataLoader(validation_dataset, batch_size=32, num_workers=4)\n",
    "validation_dataset[0][0].shape, validation_dataset[0][1]"
   ]
  },
  {
   "cell_type": "code",
   "execution_count": 33,
   "id": "24d8a743",
   "metadata": {
    "execution": {
     "iopub.execute_input": "2022-04-03T21:19:37.787878Z",
     "iopub.status.busy": "2022-04-03T21:19:37.786972Z",
     "iopub.status.idle": "2022-04-03T21:19:39.395228Z",
     "shell.execute_reply": "2022-04-03T21:19:39.394888Z",
     "shell.execute_reply.started": "2022-04-03T21:19:37.787857Z"
    },
    "tags": []
   },
   "outputs": [
    {
     "name": "stdout",
     "output_type": "stream",
     "text": [
      "torch.Size([32, 4, 66]) torch.Size([32]) torch.Size([32, 1])\n",
      "torch.Size([32, 4, 66]) torch.Size([32]) torch.Size([32, 1])\n",
      "torch.Size([32, 4, 66]) torch.Size([32]) torch.Size([32, 1])\n",
      "torch.Size([4, 4, 66]) torch.Size([4]) torch.Size([4, 1])\n"
     ]
    }
   ],
   "source": [
    "for i_batch, batch in enumerate(validation_dataloader):\n",
    "    x, y = batch\n",
    "    outs = eugene(x)\n",
    "    print(x.shape, y.shape, outs.shape)\n",
    "    if i_batch==3:\n",
    "        break"
   ]
  },
  {
   "cell_type": "markdown",
   "id": "6a228cb8",
   "metadata": {
    "tags": [],
    "toc-hr-collapsed": true
   },
   "source": [
    "## Training with PyTorch Lightning"
   ]
  },
  {
   "cell_type": "code",
   "execution_count": 34,
   "id": "d26d478d",
   "metadata": {
    "execution": {
     "iopub.execute_input": "2022-04-03T21:19:39.577391Z",
     "iopub.status.busy": "2022-04-03T21:19:39.576479Z",
     "iopub.status.idle": "2022-04-03T21:19:41.059112Z",
     "shell.execute_reply": "2022-04-03T21:19:41.058721Z",
     "shell.execute_reply.started": "2022-04-03T21:19:39.577369Z"
    },
    "tags": []
   },
   "outputs": [],
   "source": [
    "import pytorch_lightning as pl\n",
    "from pytorch_lightning.loggers import TensorBoardLogger"
   ]
  },
  {
   "cell_type": "code",
   "execution_count": 35,
   "id": "770db729",
   "metadata": {
    "execution": {
     "iopub.execute_input": "2022-04-03T21:19:41.431656Z",
     "iopub.status.busy": "2022-04-03T21:19:41.430690Z",
     "iopub.status.idle": "2022-04-03T21:19:43.425888Z",
     "shell.execute_reply": "2022-04-03T21:19:43.425540Z",
     "shell.execute_reply.started": "2022-04-03T21:19:41.431635Z"
    }
   },
   "outputs": [
    {
     "name": "stderr",
     "output_type": "stream",
     "text": [
      "GPU available: True, used: True\n",
      "TPU available: False, using: 0 TPU cores\n",
      "IPU available: False, using: 0 IPUs\n"
     ]
    }
   ],
   "source": [
    "logger = TensorBoardLogger(\"random_test\", name=\"ssEUGENE\")\n",
    "trainer = pl.Trainer(gpus=1, max_epochs=10, logger=logger)"
   ]
  },
  {
   "cell_type": "code",
   "execution_count": 36,
   "id": "3c9af5e4",
   "metadata": {
    "execution": {
     "iopub.execute_input": "2022-04-03T21:19:56.781724Z",
     "iopub.status.busy": "2022-04-03T21:19:56.781556Z",
     "iopub.status.idle": "2022-04-03T21:20:54.762661Z",
     "shell.execute_reply": "2022-04-03T21:20:54.762261Z",
     "shell.execute_reply.started": "2022-04-03T21:19:56.781706Z"
    },
    "tags": []
   },
   "outputs": [
    {
     "name": "stderr",
     "output_type": "stream",
     "text": [
      "/cellar/users/aklie/opt/miniconda3/envs/pytorch_dev/lib/python3.7/site-packages/pytorch_lightning/trainer/trainer.py:736: LightningDeprecationWarning: `trainer.fit(train_dataloader)` is deprecated in v1.4 and will be removed in v1.6. Use `trainer.fit(train_dataloaders)` instead. HINT: added 's'\n",
      "  \"`trainer.fit(train_dataloader)` is deprecated in v1.4 and will be removed in v1.6.\"\n",
      "LOCAL_RANK: 0 - CUDA_VISIBLE_DEVICES: [0]\n",
      "Missing logger folder: random_test/ssEUGENE\n",
      "Set SLURM handle signals.\n",
      "\n",
      "  | Name         | Type                      | Params\n",
      "-----------------------------------------------------------\n",
      "0 | convnet      | BasicConv1D               | 976   \n",
      "1 | recurrentnet | BasicRecurrent            | 6.4 K \n",
      "2 | fcnet        | BasicFullyConnectedModule | 33    \n",
      "-----------------------------------------------------------\n",
      "7.4 K     Trainable params\n",
      "0         Non-trainable params\n",
      "7.4 K     Total params\n",
      "0.030     Total estimated model params size (MB)\n"
     ]
    },
    {
     "data": {
      "application/vnd.jupyter.widget-view+json": {
       "model_id": "",
       "version_major": 2,
       "version_minor": 0
      },
      "text/plain": [
       "Validation sanity check: 0it [00:00, ?it/s]"
      ]
     },
     "metadata": {},
     "output_type": "display_data"
    },
    {
     "name": "stderr",
     "output_type": "stream",
     "text": [
      "/cellar/users/aklie/opt/miniconda3/envs/pytorch_dev/lib/python3.7/site-packages/pytorch_lightning/trainer/data_loading.py:133: UserWarning: The dataloader, train_dataloader, does not have many workers which may be a bottleneck. Consider increasing the value of the `num_workers` argument` (try 16 which is the number of cpus on this machine) in the `DataLoader` init to improve performance.\n",
      "  f\"The dataloader, {name}, does not have many workers which may be a bottleneck.\"\n",
      "/cellar/users/aklie/opt/miniconda3/envs/pytorch_dev/lib/python3.7/site-packages/pytorch_lightning/trainer/data_loading.py:433: UserWarning: The number of training samples (32) is smaller than the logging interval Trainer(log_every_n_steps=50). Set a lower value for log_every_n_steps if you want to see logs for the training epoch.\n",
      "  f\"The number of training samples ({self.num_training_batches}) is smaller than the logging interval\"\n"
     ]
    },
    {
     "data": {
      "application/vnd.jupyter.widget-view+json": {
       "model_id": "03686aa233ed48dab634400f2853fcef",
       "version_major": 2,
       "version_minor": 0
      },
      "text/plain": [
       "Training: 0it [00:00, ?it/s]"
      ]
     },
     "metadata": {},
     "output_type": "display_data"
    },
    {
     "data": {
      "application/vnd.jupyter.widget-view+json": {
       "model_id": "",
       "version_major": 2,
       "version_minor": 0
      },
      "text/plain": [
       "Validating: 0it [00:00, ?it/s]"
      ]
     },
     "metadata": {},
     "output_type": "display_data"
    },
    {
     "data": {
      "application/vnd.jupyter.widget-view+json": {
       "model_id": "",
       "version_major": 2,
       "version_minor": 0
      },
      "text/plain": [
       "Validating: 0it [00:00, ?it/s]"
      ]
     },
     "metadata": {},
     "output_type": "display_data"
    },
    {
     "data": {
      "application/vnd.jupyter.widget-view+json": {
       "model_id": "",
       "version_major": 2,
       "version_minor": 0
      },
      "text/plain": [
       "Validating: 0it [00:00, ?it/s]"
      ]
     },
     "metadata": {},
     "output_type": "display_data"
    },
    {
     "data": {
      "application/vnd.jupyter.widget-view+json": {
       "model_id": "",
       "version_major": 2,
       "version_minor": 0
      },
      "text/plain": [
       "Validating: 0it [00:00, ?it/s]"
      ]
     },
     "metadata": {},
     "output_type": "display_data"
    },
    {
     "data": {
      "application/vnd.jupyter.widget-view+json": {
       "model_id": "",
       "version_major": 2,
       "version_minor": 0
      },
      "text/plain": [
       "Validating: 0it [00:00, ?it/s]"
      ]
     },
     "metadata": {},
     "output_type": "display_data"
    },
    {
     "data": {
      "application/vnd.jupyter.widget-view+json": {
       "model_id": "",
       "version_major": 2,
       "version_minor": 0
      },
      "text/plain": [
       "Validating: 0it [00:00, ?it/s]"
      ]
     },
     "metadata": {},
     "output_type": "display_data"
    },
    {
     "data": {
      "application/vnd.jupyter.widget-view+json": {
       "model_id": "",
       "version_major": 2,
       "version_minor": 0
      },
      "text/plain": [
       "Validating: 0it [00:00, ?it/s]"
      ]
     },
     "metadata": {},
     "output_type": "display_data"
    },
    {
     "data": {
      "application/vnd.jupyter.widget-view+json": {
       "model_id": "",
       "version_major": 2,
       "version_minor": 0
      },
      "text/plain": [
       "Validating: 0it [00:00, ?it/s]"
      ]
     },
     "metadata": {},
     "output_type": "display_data"
    },
    {
     "data": {
      "application/vnd.jupyter.widget-view+json": {
       "model_id": "",
       "version_major": 2,
       "version_minor": 0
      },
      "text/plain": [
       "Validating: 0it [00:00, ?it/s]"
      ]
     },
     "metadata": {},
     "output_type": "display_data"
    },
    {
     "data": {
      "application/vnd.jupyter.widget-view+json": {
       "model_id": "",
       "version_major": 2,
       "version_minor": 0
      },
      "text/plain": [
       "Validating: 0it [00:00, ?it/s]"
      ]
     },
     "metadata": {},
     "output_type": "display_data"
    }
   ],
   "source": [
    "trainer.fit(model=eugene, train_dataloader=training_dataloader, val_dataloaders=validation_dataloader)"
   ]
  },
  {
   "cell_type": "markdown",
   "id": "ecf8ebb4",
   "metadata": {
    "tags": [],
    "toc-hr-collapsed": true
   },
   "source": [
    "# MPRADataset"
   ]
  },
  {
   "cell_type": "markdown",
   "id": "aaafd474",
   "metadata": {
    "tags": [],
    "toc-hr-collapsed": true
   },
   "source": [
    "## Instantiate EUGENE architecture: dsEUGENE"
   ]
  },
  {
   "cell_type": "code",
   "execution_count": 2,
   "id": "cd01195d-8c79-4a6f-8996-200ba2cb868e",
   "metadata": {
    "execution": {
     "iopub.execute_input": "2022-04-03T21:32:48.986250Z",
     "iopub.status.busy": "2022-04-03T21:32:48.986147Z",
     "iopub.status.idle": "2022-04-03T21:33:59.391864Z",
     "shell.execute_reply": "2022-04-03T21:33:59.391418Z",
     "shell.execute_reply.started": "2022-04-03T21:32:48.986235Z"
    },
    "tags": []
   },
   "outputs": [],
   "source": [
    "from dsEUGENE import dsEUGENE\n",
    "import claim.utils as cu"
   ]
  },
  {
   "cell_type": "code",
   "execution_count": 3,
   "id": "86c4f099",
   "metadata": {
    "execution": {
     "iopub.execute_input": "2022-04-03T21:33:59.394004Z",
     "iopub.status.busy": "2022-04-03T21:33:59.393895Z",
     "iopub.status.idle": "2022-04-03T21:34:01.636724Z",
     "shell.execute_reply": "2022-04-03T21:34:01.636347Z",
     "shell.execute_reply.started": "2022-04-03T21:33:59.393989Z"
    },
    "tags": []
   },
   "outputs": [
    {
     "name": "stderr",
     "output_type": "stream",
     "text": [
      "/cellar/users/aklie/opt/miniconda3/envs/pytorch_dev/lib/python3.7/site-packages/torchmetrics/utilities/prints.py:36: UserWarning: Metric `AUROC` will save all targets and predictions in buffer. For large datasets this may lead to large memory footprint.\n",
      "  warnings.warn(*args, **kwargs)\n"
     ]
    }
   ],
   "source": [
    "cnn=dict(input_len=66, channels=[4, 16], conv_kernels=[15, 5], pool_kernels=[1, 1])\n",
    "rnn=dict(output_dim=32, batch_first=True)\n",
    "fc=dict(output_dim=1)\n",
    "\n",
    "eugene = dsEUGENE(conv_kwargs=cnn, rnn_kwargs=rnn, fc_kwargs=fc)\n",
    "cu.init_weights(eugene)"
   ]
  },
  {
   "cell_type": "markdown",
   "id": "39c9fa55",
   "metadata": {
    "tags": [],
    "toc-hr-collapsed": true
   },
   "source": [
    "## Load data"
   ]
  },
  {
   "cell_type": "code",
   "execution_count": 4,
   "id": "492c2f85",
   "metadata": {
    "execution": {
     "iopub.execute_input": "2022-04-03T21:34:01.638279Z",
     "iopub.status.busy": "2022-04-03T21:34:01.638173Z",
     "iopub.status.idle": "2022-04-03T21:34:08.486745Z",
     "shell.execute_reply": "2022-04-03T21:34:08.486382Z",
     "shell.execute_reply.started": "2022-04-03T21:34:01.638264Z"
    },
    "tags": []
   },
   "outputs": [
    {
     "name": "stdout",
     "output_type": "stream",
     "text": [
      "torch.Size([512, 4, 66]) torch.Size([512, 4, 66]) torch.Size([512]) torch.Size([512, 1])\n",
      "torch.Size([512, 4, 66]) torch.Size([512, 4, 66]) torch.Size([512]) torch.Size([512, 1])\n",
      "torch.Size([512, 4, 66]) torch.Size([512, 4, 66]) torch.Size([512]) torch.Size([512, 1])\n",
      "torch.Size([512, 4, 66]) torch.Size([512, 4, 66]) torch.Size([512]) torch.Size([512, 1])\n",
      "torch.Size([512, 4, 66]) torch.Size([512, 4, 66]) torch.Size([512]) torch.Size([512, 1])\n",
      "torch.Size([512, 4, 66]) torch.Size([512, 4, 66]) torch.Size([512]) torch.Size([512, 1])\n",
      "torch.Size([512, 4, 66]) torch.Size([512, 4, 66]) torch.Size([512]) torch.Size([512, 1])\n",
      "torch.Size([512, 4, 66]) torch.Size([512, 4, 66]) torch.Size([512]) torch.Size([512, 1])\n"
     ]
    }
   ],
   "source": [
    "from load_data import load_csv, load_numpy\n",
    "from MPRADataset import MPRADataset\n",
    "from torch.utils.data import DataLoader\n",
    "from torchvision import transforms\n",
    "from transforms import ReverseComplement, Augment, OneHotEncode, ToTensor\n",
    "\n",
    "TRAIN_SEQ = \"/cellar/users/aklie/projects/EUGENE/data/2021_OLS_Library/seqs/0.09-0.4_seqs-train-0.9.txt\"\n",
    "TRAIN_LABEL = \"/cellar/users/aklie/projects/EUGENE/data/2021_OLS_Library/binary/0.09-0.4_y-train-0.9_binary.txt\"\n",
    "train_seqs, train_targets = load_numpy(TRAIN_SEQ, TRAIN_LABEL, is_seq_text=True)\n",
    "len(train_seqs), train_seqs[0], len(train_targets), train_targets[0]\n",
    "\n",
    "VAL_SEQ = \"/cellar/users/aklie/projects/EUGENE/data/2021_OLS_Library/seqs/0.09-0.4_seqs-test-0.1.txt\"\n",
    "VAL_LABEL = \"/cellar/users/aklie/projects/EUGENE/data/2021_OLS_Library/binary/0.09-0.4_y-test-0.1_binary.txt\"\n",
    "val_seqs, val_targets = load_numpy(VAL_SEQ, VAL_LABEL, is_seq_text=True)\n",
    "len(val_seqs), val_seqs[0], len(val_targets), val_targets[0]\n",
    "\n",
    "# Compose different data transforms for this particular load\n",
    "data_transform = transforms.Compose([\n",
    "    Augment(randomize_linker_p=0.1, enhancer=\"WT-otx-a\"), ReverseComplement(ohe_encoded=False), OneHotEncode(), ToTensor(transpose=True)\n",
    "])\n",
    "\n",
    "# Instantiate a Dataset\n",
    "train_dataset = MPRADataset(train_seqs, train_targets, transform=data_transform)\n",
    "val_dataset = MPRADataset(val_seqs, val_targets, transform=data_transform)\n",
    "\n",
    "# Instantiate a DataLoader\n",
    "train_dataloader = DataLoader(train_dataset, batch_size=512, shuffle=True, num_workers=4)\n",
    "val_dataloader = DataLoader(val_dataset, batch_size=512, shuffle=False, num_workers=4)\n",
    "\n",
    "for i_batch, batch in enumerate(train_dataloader):\n",
    "    x, x_rev_comp, y = batch[\"sequence\"], batch[\"reverse_complement\"], batch[\"target\"]\n",
    "    outs = eugene(x, x_rev_comp)\n",
    "    print(x.shape, x_rev_comp.shape, y.shape, outs.shape)\n",
    "    if i_batch==3:\n",
    "        break\n",
    "        \n",
    "for i_batch, batch in enumerate(val_dataloader):\n",
    "    x, x_rev_comp, y = batch[\"sequence\"], batch[\"reverse_complement\"], batch[\"target\"]\n",
    "    outs = eugene(x, x_rev_comp)\n",
    "    print(x.shape, x_rev_comp.shape, y.shape, outs.shape)\n",
    "    if i_batch==3:\n",
    "        break"
   ]
  },
  {
   "cell_type": "markdown",
   "id": "a4593c10",
   "metadata": {
    "tags": [],
    "toc-hr-collapsed": true
   },
   "source": [
    "## Training with PyTorch Lightning"
   ]
  },
  {
   "cell_type": "code",
   "execution_count": 5,
   "id": "5429296f",
   "metadata": {
    "execution": {
     "iopub.execute_input": "2022-04-03T21:34:26.896104Z",
     "iopub.status.busy": "2022-04-03T21:34:26.895945Z",
     "iopub.status.idle": "2022-04-03T21:34:28.722705Z",
     "shell.execute_reply": "2022-04-03T21:34:28.722311Z",
     "shell.execute_reply.started": "2022-04-03T21:34:26.896086Z"
    },
    "tags": []
   },
   "outputs": [],
   "source": [
    "import pytorch_lightning as pl\n",
    "from pytorch_lightning.loggers import TensorBoardLogger"
   ]
  },
  {
   "cell_type": "code",
   "execution_count": 6,
   "id": "e5315225",
   "metadata": {
    "execution": {
     "iopub.execute_input": "2022-04-03T21:34:29.360555Z",
     "iopub.status.busy": "2022-04-03T21:34:29.360320Z",
     "iopub.status.idle": "2022-04-03T21:34:31.265973Z",
     "shell.execute_reply": "2022-04-03T21:34:31.265643Z",
     "shell.execute_reply.started": "2022-04-03T21:34:29.360524Z"
    },
    "tags": []
   },
   "outputs": [
    {
     "name": "stderr",
     "output_type": "stream",
     "text": [
      "GPU available: True, used: True\n",
      "TPU available: False, using: 0 TPU cores\n",
      "IPU available: False, using: 0 IPUs\n"
     ]
    }
   ],
   "source": [
    "logger = TensorBoardLogger(\"0.18-0.4_test\", name=\"dsEUGENE\")\n",
    "trainer = pl.Trainer(gpus=1, max_epochs=10, logger=logger)"
   ]
  },
  {
   "cell_type": "code",
   "execution_count": 7,
   "id": "bb38cfe9",
   "metadata": {
    "execution": {
     "iopub.execute_input": "2022-04-03T21:34:32.417745Z",
     "iopub.status.busy": "2022-04-03T21:34:32.417582Z",
     "iopub.status.idle": "2022-04-03T21:36:12.860105Z",
     "shell.execute_reply": "2022-04-03T21:36:12.859747Z",
     "shell.execute_reply.started": "2022-04-03T21:34:32.417728Z"
    },
    "tags": []
   },
   "outputs": [
    {
     "name": "stderr",
     "output_type": "stream",
     "text": [
      "/cellar/users/aklie/opt/miniconda3/envs/pytorch_dev/lib/python3.7/site-packages/pytorch_lightning/trainer/trainer.py:736: LightningDeprecationWarning: `trainer.fit(train_dataloader)` is deprecated in v1.4 and will be removed in v1.6. Use `trainer.fit(train_dataloaders)` instead. HINT: added 's'\n",
      "  \"`trainer.fit(train_dataloader)` is deprecated in v1.4 and will be removed in v1.6.\"\n",
      "LOCAL_RANK: 0 - CUDA_VISIBLE_DEVICES: [0]\n",
      "Set SLURM handle signals.\n",
      "\n",
      "  | Name         | Type                      | Params\n",
      "-----------------------------------------------------------\n",
      "0 | convnet      | BasicConv1D               | 976   \n",
      "1 | recurrentnet | BasicRecurrent            | 8.4 K \n",
      "2 | fcnet        | BasicFullyConnectedModule | 33    \n",
      "3 | accuracy     | Accuracy                  | 0     \n",
      "4 | auroc        | AUROC                     | 0     \n",
      "-----------------------------------------------------------\n",
      "9.5 K     Trainable params\n",
      "0         Non-trainable params\n",
      "9.5 K     Total params\n",
      "0.038     Total estimated model params size (MB)\n"
     ]
    },
    {
     "data": {
      "application/vnd.jupyter.widget-view+json": {
       "model_id": "",
       "version_major": 2,
       "version_minor": 0
      },
      "text/plain": [
       "Validation sanity check: 0it [00:00, ?it/s]"
      ]
     },
     "metadata": {},
     "output_type": "display_data"
    },
    {
     "data": {
      "application/vnd.jupyter.widget-view+json": {
       "model_id": "580ba2ca552247c2a86ee78f00b3181d",
       "version_major": 2,
       "version_minor": 0
      },
      "text/plain": [
       "Training: 0it [00:00, ?it/s]"
      ]
     },
     "metadata": {},
     "output_type": "display_data"
    },
    {
     "data": {
      "application/vnd.jupyter.widget-view+json": {
       "model_id": "",
       "version_major": 2,
       "version_minor": 0
      },
      "text/plain": [
       "Validating: 0it [00:00, ?it/s]"
      ]
     },
     "metadata": {},
     "output_type": "display_data"
    },
    {
     "name": "stderr",
     "output_type": "stream",
     "text": [
      "/cellar/users/aklie/opt/miniconda3/envs/pytorch_dev/lib/python3.7/site-packages/torchmetrics/utilities/prints.py:36: UserWarning: The ``compute`` method of metric Accuracy was called before the ``update`` method which may lead to errors, as metric states have not yet been updated.\n",
      "  warnings.warn(*args, **kwargs)\n"
     ]
    },
    {
     "data": {
      "application/vnd.jupyter.widget-view+json": {
       "model_id": "",
       "version_major": 2,
       "version_minor": 0
      },
      "text/plain": [
       "Validating: 0it [00:00, ?it/s]"
      ]
     },
     "metadata": {},
     "output_type": "display_data"
    },
    {
     "data": {
      "application/vnd.jupyter.widget-view+json": {
       "model_id": "",
       "version_major": 2,
       "version_minor": 0
      },
      "text/plain": [
       "Validating: 0it [00:00, ?it/s]"
      ]
     },
     "metadata": {},
     "output_type": "display_data"
    },
    {
     "data": {
      "application/vnd.jupyter.widget-view+json": {
       "model_id": "",
       "version_major": 2,
       "version_minor": 0
      },
      "text/plain": [
       "Validating: 0it [00:00, ?it/s]"
      ]
     },
     "metadata": {},
     "output_type": "display_data"
    },
    {
     "data": {
      "application/vnd.jupyter.widget-view+json": {
       "model_id": "",
       "version_major": 2,
       "version_minor": 0
      },
      "text/plain": [
       "Validating: 0it [00:00, ?it/s]"
      ]
     },
     "metadata": {},
     "output_type": "display_data"
    },
    {
     "data": {
      "application/vnd.jupyter.widget-view+json": {
       "model_id": "",
       "version_major": 2,
       "version_minor": 0
      },
      "text/plain": [
       "Validating: 0it [00:00, ?it/s]"
      ]
     },
     "metadata": {},
     "output_type": "display_data"
    },
    {
     "data": {
      "application/vnd.jupyter.widget-view+json": {
       "model_id": "",
       "version_major": 2,
       "version_minor": 0
      },
      "text/plain": [
       "Validating: 0it [00:00, ?it/s]"
      ]
     },
     "metadata": {},
     "output_type": "display_data"
    },
    {
     "data": {
      "application/vnd.jupyter.widget-view+json": {
       "model_id": "",
       "version_major": 2,
       "version_minor": 0
      },
      "text/plain": [
       "Validating: 0it [00:00, ?it/s]"
      ]
     },
     "metadata": {},
     "output_type": "display_data"
    },
    {
     "data": {
      "application/vnd.jupyter.widget-view+json": {
       "model_id": "",
       "version_major": 2,
       "version_minor": 0
      },
      "text/plain": [
       "Validating: 0it [00:00, ?it/s]"
      ]
     },
     "metadata": {},
     "output_type": "display_data"
    },
    {
     "data": {
      "application/vnd.jupyter.widget-view+json": {
       "model_id": "",
       "version_major": 2,
       "version_minor": 0
      },
      "text/plain": [
       "Validating: 0it [00:00, ?it/s]"
      ]
     },
     "metadata": {},
     "output_type": "display_data"
    }
   ],
   "source": [
    "trainer.fit(model=eugene, train_dataloaders=train_dataloader, val_dataloaders=val_dataloader)"
   ]
  },
  {
   "cell_type": "markdown",
   "id": "019a17cb",
   "metadata": {
    "tags": []
   },
   "source": [
    "# MPRADataModule"
   ]
  },
  {
   "cell_type": "code",
   "execution_count": 2,
   "id": "22ad5ec3",
   "metadata": {
    "execution": {
     "iopub.execute_input": "2022-04-03T22:12:25.214016Z",
     "iopub.status.busy": "2022-04-03T22:12:25.213904Z",
     "iopub.status.idle": "2022-04-03T22:12:57.102618Z",
     "shell.execute_reply": "2022-04-03T22:12:57.102239Z",
     "shell.execute_reply.started": "2022-04-03T22:12:25.214001Z"
    },
    "tags": []
   },
   "outputs": [],
   "source": [
    "from MPRADataModule import MPRADataModule"
   ]
  },
  {
   "cell_type": "markdown",
   "id": "7da32654",
   "metadata": {
    "tags": []
   },
   "source": [
    "## Load data"
   ]
  },
  {
   "cell_type": "code",
   "execution_count": 3,
   "id": "2b4af229",
   "metadata": {
    "execution": {
     "iopub.execute_input": "2022-04-03T22:12:57.103526Z",
     "iopub.status.busy": "2022-04-03T22:12:57.103405Z",
     "iopub.status.idle": "2022-04-03T22:12:58.408899Z",
     "shell.execute_reply": "2022-04-03T22:12:58.408528Z",
     "shell.execute_reply.started": "2022-04-03T22:12:57.103511Z"
    },
    "tags": []
   },
   "outputs": [],
   "source": [
    "from torchvision import transforms\n",
    "from transforms import ReverseComplement, Augment, OneHotEncode, ToTensor"
   ]
  },
  {
   "cell_type": "code",
   "execution_count": 4,
   "id": "91a78999",
   "metadata": {
    "execution": {
     "iopub.execute_input": "2022-04-03T22:12:58.409711Z",
     "iopub.status.busy": "2022-04-03T22:12:58.409585Z",
     "iopub.status.idle": "2022-04-03T22:12:59.806621Z",
     "shell.execute_reply": "2022-04-03T22:12:59.806293Z",
     "shell.execute_reply.started": "2022-04-03T22:12:58.409694Z"
    },
    "tags": []
   },
   "outputs": [],
   "source": [
    "data_transform = transforms.Compose([\n",
    "    Augment(randomize_linker_p=0.1, enhancer=\"WT-otx-a\"), ReverseComplement(ohe_encoded=False), OneHotEncode(), ToTensor(transpose=True)\n",
    "])"
   ]
  },
  {
   "cell_type": "code",
   "execution_count": 5,
   "id": "4d1179e1",
   "metadata": {
    "execution": {
     "iopub.execute_input": "2022-04-03T22:12:59.807229Z",
     "iopub.status.busy": "2022-04-03T22:12:59.807120Z",
     "iopub.status.idle": "2022-04-03T22:13:01.195532Z",
     "shell.execute_reply": "2022-04-03T22:13:01.195199Z",
     "shell.execute_reply.started": "2022-04-03T22:12:59.807214Z"
    },
    "tags": []
   },
   "outputs": [],
   "source": [
    "OLS_TSV = \"/cellar/users/aklie/projects/EUGENE/data/2021_OLS_Library/2021_OLS_Library.tsv\"\n",
    "mod = MPRADataModule(seq_file=OLS_TSV,\n",
    "                     transform=data_transform,\n",
    "                     num_workers=4,\n",
    "                     batch_size=512,\n",
    "                     load_kwargs=dict(target_col=\"ACTIVITY_SUMRNA_NUMDNA\", low_thresh=0.18, high_thresh=0.4))"
   ]
  },
  {
   "cell_type": "markdown",
   "id": "eb335723",
   "metadata": {
    "tags": []
   },
   "source": [
    "## Instantiate EUGENE architecture: dsEUGENE"
   ]
  },
  {
   "cell_type": "code",
   "execution_count": 1,
   "id": "f95dfc3f",
   "metadata": {
    "execution": {
     "iopub.execute_input": "2022-04-03T22:28:58.356357Z",
     "iopub.status.busy": "2022-04-03T22:28:58.356227Z",
     "iopub.status.idle": "2022-04-03T22:29:24.101814Z",
     "shell.execute_reply": "2022-04-03T22:29:24.101244Z",
     "shell.execute_reply.started": "2022-04-03T22:28:58.356316Z"
    },
    "tags": []
   },
   "outputs": [
    {
     "ename": "ModuleNotFoundError",
     "evalue": "No module named 'dsEUGENE'",
     "output_type": "error",
     "traceback": [
      "\u001b[0;31m---------------------------------------------------------------------------\u001b[0m",
      "\u001b[0;31mModuleNotFoundError\u001b[0m                       Traceback (most recent call last)",
      "\u001b[0;32m<ipython-input-1-af5574598fae>\u001b[0m in \u001b[0;36m<module>\u001b[0;34m\u001b[0m\n\u001b[1;32m      1\u001b[0m \u001b[0;32mimport\u001b[0m \u001b[0mclaim\u001b[0m\u001b[0;34m.\u001b[0m\u001b[0mutils\u001b[0m \u001b[0;32mas\u001b[0m \u001b[0mcu\u001b[0m\u001b[0;34m\u001b[0m\u001b[0;34m\u001b[0m\u001b[0m\n\u001b[0;32m----> 2\u001b[0;31m \u001b[0;32mfrom\u001b[0m \u001b[0mdsEUGENE\u001b[0m \u001b[0;32mimport\u001b[0m \u001b[0mdsEUGENE\u001b[0m\u001b[0;34m\u001b[0m\u001b[0;34m\u001b[0m\u001b[0m\n\u001b[0m",
      "\u001b[0;31mModuleNotFoundError\u001b[0m: No module named 'dsEUGENE'"
     ]
    }
   ],
   "source": [
    "import claim.utils as cu\n",
    "from dsEUGENE import dsEUGENE"
   ]
  },
  {
   "cell_type": "code",
   "execution_count": 7,
   "id": "e583a7ed",
   "metadata": {
    "execution": {
     "iopub.execute_input": "2022-04-03T22:13:47.358064Z",
     "iopub.status.busy": "2022-04-03T22:13:47.357948Z",
     "iopub.status.idle": "2022-04-03T22:13:49.248874Z",
     "shell.execute_reply": "2022-04-03T22:13:49.248416Z",
     "shell.execute_reply.started": "2022-04-03T22:13:47.358049Z"
    },
    "tags": []
   },
   "outputs": [],
   "source": [
    "cnn=dict(input_len=66, channels=[4, 16], conv_kernels=[15, 5], pool_kernels=[1, 1])\n",
    "rnn=dict(output_dim=32, batch_first=True)\n",
    "fc=dict(output_dim=1)"
   ]
  },
  {
   "cell_type": "code",
   "execution_count": 8,
   "id": "aae10fb2",
   "metadata": {
    "execution": {
     "iopub.execute_input": "2022-04-03T22:13:49.249975Z",
     "iopub.status.busy": "2022-04-03T22:13:49.249856Z",
     "iopub.status.idle": "2022-04-03T22:13:52.564855Z",
     "shell.execute_reply": "2022-04-03T22:13:52.564470Z",
     "shell.execute_reply.started": "2022-04-03T22:13:49.249959Z"
    },
    "tags": []
   },
   "outputs": [
    {
     "name": "stderr",
     "output_type": "stream",
     "text": [
      "/cellar/users/aklie/opt/miniconda3/envs/pytorch_dev/lib/python3.7/site-packages/torchmetrics/utilities/prints.py:36: UserWarning: Metric `AUROC` will save all targets and predictions in buffer. For large datasets this may lead to large memory footprint.\n",
      "  warnings.warn(*args, **kwargs)\n"
     ]
    },
    {
     "data": {
      "text/plain": [
       "dsEUGENE(\n",
       "  (convnet): BasicConv1D(\n",
       "    (module): Sequential(\n",
       "      (0): Conv1d(4, 16, kernel_size=(15,), stride=(1,))\n",
       "      (1): ReLU(inplace=True)\n",
       "      (2): MaxPool1d(kernel_size=1, stride=1, padding=0, dilation=1, ceil_mode=False)\n",
       "    )\n",
       "  )\n",
       "  (recurrentnet): BasicRecurrent(\n",
       "    (module): LSTM(32, 32, batch_first=True)\n",
       "  )\n",
       "  (fcnet): BasicFullyConnectedModule(\n",
       "    (module): Sequential(\n",
       "      (0): Linear(in_features=32, out_features=1, bias=True)\n",
       "    )\n",
       "  )\n",
       "  (accuracy): Accuracy()\n",
       "  (auroc): AUROC()\n",
       ")"
      ]
     },
     "execution_count": 8,
     "metadata": {},
     "output_type": "execute_result"
    }
   ],
   "source": [
    "eugene = dsEUGENE(conv_kwargs=cnn, rnn_kwargs=rnn, fc_kwargs=fc)\n",
    "cu.init_weights(eugene)\n",
    "eugene"
   ]
  },
  {
   "cell_type": "markdown",
   "id": "b88a31d3",
   "metadata": {
    "tags": []
   },
   "source": [
    "## Training with PyTorch Lightning"
   ]
  },
  {
   "cell_type": "code",
   "execution_count": 9,
   "id": "77e9166a",
   "metadata": {
    "execution": {
     "iopub.execute_input": "2022-04-03T22:13:52.565622Z",
     "iopub.status.busy": "2022-04-03T22:13:52.565508Z",
     "iopub.status.idle": "2022-04-03T22:13:53.900535Z",
     "shell.execute_reply": "2022-04-03T22:13:53.900137Z",
     "shell.execute_reply.started": "2022-04-03T22:13:52.565606Z"
    },
    "tags": []
   },
   "outputs": [],
   "source": [
    "import pytorch_lightning as pl\n",
    "from pytorch_lightning.loggers import TensorBoardLogger"
   ]
  },
  {
   "cell_type": "code",
   "execution_count": 10,
   "id": "4001f731",
   "metadata": {
    "execution": {
     "iopub.execute_input": "2022-04-03T22:13:53.901194Z",
     "iopub.status.busy": "2022-04-03T22:13:53.901084Z",
     "iopub.status.idle": "2022-04-03T22:13:55.473983Z",
     "shell.execute_reply": "2022-04-03T22:13:55.473653Z",
     "shell.execute_reply.started": "2022-04-03T22:13:53.901179Z"
    },
    "tags": []
   },
   "outputs": [
    {
     "name": "stderr",
     "output_type": "stream",
     "text": [
      "GPU available: True, used: True\n",
      "TPU available: False, using: 0 TPU cores\n",
      "IPU available: False, using: 0 IPUs\n"
     ]
    }
   ],
   "source": [
    "logger = TensorBoardLogger(\"0.18-0.4_test\", name=\"dsEUGENE\")\n",
    "trainer = pl.Trainer(gpus=1, max_epochs=2, logger=logger)"
   ]
  },
  {
   "cell_type": "code",
   "execution_count": 11,
   "id": "9e6ed494",
   "metadata": {
    "execution": {
     "iopub.execute_input": "2022-04-03T22:13:55.474610Z",
     "iopub.status.busy": "2022-04-03T22:13:55.474494Z",
     "iopub.status.idle": "2022-04-03T22:14:51.981780Z",
     "shell.execute_reply": "2022-04-03T22:14:51.981320Z",
     "shell.execute_reply.started": "2022-04-03T22:13:55.474594Z"
    },
    "tags": []
   },
   "outputs": [
    {
     "name": "stderr",
     "output_type": "stream",
     "text": [
      "LOCAL_RANK: 0 - CUDA_VISIBLE_DEVICES: [0]\n",
      "Set SLURM handle signals.\n",
      "\n",
      "  | Name         | Type                      | Params\n",
      "-----------------------------------------------------------\n",
      "0 | convnet      | BasicConv1D               | 976   \n",
      "1 | recurrentnet | BasicRecurrent            | 8.4 K \n",
      "2 | fcnet        | BasicFullyConnectedModule | 33    \n",
      "3 | accuracy     | Accuracy                  | 0     \n",
      "4 | auroc        | AUROC                     | 0     \n",
      "-----------------------------------------------------------\n",
      "9.5 K     Trainable params\n",
      "0         Non-trainable params\n",
      "9.5 K     Total params\n",
      "0.038     Total estimated model params size (MB)\n"
     ]
    },
    {
     "data": {
      "application/vnd.jupyter.widget-view+json": {
       "model_id": "",
       "version_major": 2,
       "version_minor": 0
      },
      "text/plain": [
       "Validation sanity check: 0it [00:00, ?it/s]"
      ]
     },
     "metadata": {},
     "output_type": "display_data"
    },
    {
     "data": {
      "application/vnd.jupyter.widget-view+json": {
       "model_id": "ce6fa5144565429aa66e063a988992ac",
       "version_major": 2,
       "version_minor": 0
      },
      "text/plain": [
       "Training: 0it [00:00, ?it/s]"
      ]
     },
     "metadata": {},
     "output_type": "display_data"
    },
    {
     "data": {
      "application/vnd.jupyter.widget-view+json": {
       "model_id": "",
       "version_major": 2,
       "version_minor": 0
      },
      "text/plain": [
       "Validating: 0it [00:00, ?it/s]"
      ]
     },
     "metadata": {},
     "output_type": "display_data"
    },
    {
     "data": {
      "application/vnd.jupyter.widget-view+json": {
       "model_id": "",
       "version_major": 2,
       "version_minor": 0
      },
      "text/plain": [
       "Validating: 0it [00:00, ?it/s]"
      ]
     },
     "metadata": {},
     "output_type": "display_data"
    }
   ],
   "source": [
    "trainer.fit(model=eugene, datamodule=mod)"
   ]
  },
  {
   "cell_type": "markdown",
   "id": "748e0502",
   "metadata": {},
   "source": [
    "# References"
   ]
  }
 ],
 "metadata": {
  "kernelspec": {
   "display_name": "Python 3 pytorch_dev",
   "language": "python",
   "name": "pytorch_dev"
  },
  "language_info": {
   "codemirror_mode": {
    "name": "ipython",
    "version": 3
   },
   "file_extension": ".py",
   "mimetype": "text/x-python",
   "name": "python",
   "nbconvert_exporter": "python",
   "pygments_lexer": "ipython3",
   "version": "3.7.12"
  }
 },
 "nbformat": 4,
 "nbformat_minor": 5
}

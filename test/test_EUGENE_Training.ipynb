{
 "cells": [
  {
   "cell_type": "markdown",
   "id": "47cc2c48",
   "metadata": {},
   "source": [
    "# Testing EUGENE training"
   ]
  },
  {
   "cell_type": "markdown",
   "id": "3b1880c3",
   "metadata": {
    "tags": []
   },
   "source": [
    "**Authorship:**\n",
    "Adam Klie, *03/19/2022*\n",
    "***\n",
    "**Description:**\n",
    "Notebook for testing the training of EUGENE architectures"
   ]
  },
  {
   "cell_type": "markdown",
   "id": "599007ce",
   "metadata": {},
   "source": [
    "<div class=\"alert alert-block alert-warning\">\n",
    "<b>TODOs</b>:\n",
    "<ul>\n",
    "    <b><li></li></b>\n",
    "    </ul>\n",
    "</div>"
   ]
  },
  {
   "cell_type": "markdown",
   "id": "41832ecc-a51e-4311-9372-b4a1ffb40139",
   "metadata": {},
   "source": [
    "# Set-up"
   ]
  },
  {
   "cell_type": "code",
   "execution_count": 1,
   "id": "1dd9ef33",
   "metadata": {
    "execution": {
     "iopub.execute_input": "2022-04-07T06:47:14.765515Z",
     "iopub.status.busy": "2022-04-07T06:47:14.765382Z",
     "iopub.status.idle": "2022-04-07T06:47:15.949962Z",
     "shell.execute_reply": "2022-04-07T06:47:15.949605Z",
     "shell.execute_reply.started": "2022-04-07T06:47:14.765476Z"
    },
    "tags": []
   },
   "outputs": [],
   "source": [
    "import numpy as np\n",
    "import pandas as pd\n",
    "\n",
    "# Autoreload extension\n",
    "if 'autoreload' not in get_ipython().extension_manager.loaded:\n",
    "    %load_ext autoreload\n",
    "%autoreload 2"
   ]
  },
  {
   "cell_type": "code",
   "execution_count": 2,
   "id": "bf8a26fe-0272-4533-b8cc-7a3c8e532ff0",
   "metadata": {
    "execution": {
     "iopub.execute_input": "2022-04-07T06:47:15.950775Z",
     "iopub.status.busy": "2022-04-07T06:47:15.950664Z",
     "iopub.status.idle": "2022-04-07T06:47:21.568501Z",
     "shell.execute_reply": "2022-04-07T06:47:21.568116Z",
     "shell.execute_reply.started": "2022-04-07T06:47:15.950759Z"
    },
    "tags": []
   },
   "outputs": [],
   "source": [
    "from eugene.dataloading.SeqDataModule import SeqDataModule"
   ]
  },
  {
   "cell_type": "markdown",
   "id": "c909d1b4-85c2-4c16-ab1c-7f0f9c032e9f",
   "metadata": {},
   "source": [
    "# Benchmark dsEUGENE\n",
    "<div class=\"alert alert-info\" role=\"alert\">\n",
    "  <b>Benchmark dsEUGENE models</b>\n",
    "</div>"
   ]
  },
  {
   "cell_type": "code",
   "execution_count": 10,
   "id": "13dcdd6e-6dac-48c7-b56e-7225687d6d6d",
   "metadata": {
    "execution": {
     "iopub.execute_input": "2022-04-07T06:47:51.759672Z",
     "iopub.status.busy": "2022-04-07T06:47:51.759448Z",
     "iopub.status.idle": "2022-04-07T06:47:52.425844Z",
     "shell.execute_reply": "2022-04-07T06:47:52.425383Z",
     "shell.execute_reply.started": "2022-04-07T06:47:51.759642Z"
    },
    "tags": []
   },
   "outputs": [],
   "source": [
    "BATCH_SIZE = 32\n",
    "DATA_TYPE = \"tsv\"\n",
    "NUM_WORKERS = 0\n",
    "NUM_SEQS = 100\n",
    "SEQ_LEN = 66"
   ]
  },
  {
   "cell_type": "markdown",
   "id": "b49061b7-dbde-4814-a47f-43133bca0309",
   "metadata": {
    "tags": []
   },
   "source": [
    "## Load data"
   ]
  },
  {
   "cell_type": "code",
   "execution_count": 11,
   "id": "525cb6ac-3171-4679-bfef-5d950ddee693",
   "metadata": {
    "execution": {
     "iopub.execute_input": "2022-04-07T06:47:52.426688Z",
     "iopub.status.busy": "2022-04-07T06:47:52.426571Z",
     "iopub.status.idle": "2022-04-07T06:47:53.019180Z",
     "shell.execute_reply": "2022-04-07T06:47:53.018811Z",
     "shell.execute_reply.started": "2022-04-07T06:47:52.426672Z"
    },
    "tags": []
   },
   "outputs": [],
   "source": [
    "from torchvision import transforms\n",
    "from eugene.utils.seq_transforms import ReverseComplement, Augment, OneHotEncode, ToTensor"
   ]
  },
  {
   "cell_type": "code",
   "execution_count": 12,
   "id": "94eafc63-1d0e-4998-b483-da5fa77ed16f",
   "metadata": {
    "execution": {
     "iopub.execute_input": "2022-04-07T06:47:53.020007Z",
     "iopub.status.busy": "2022-04-07T06:47:53.019892Z",
     "iopub.status.idle": "2022-04-07T06:47:53.656203Z",
     "shell.execute_reply": "2022-04-07T06:47:53.655869Z",
     "shell.execute_reply.started": "2022-04-07T06:47:53.019991Z"
    },
    "tags": []
   },
   "outputs": [],
   "source": [
    "data_transform = transforms.Compose([\n",
    "    Augment(randomize_linker_p=0.1, enhancer=\"WT-otx-a\"), \n",
    "    ReverseComplement(ohe_encoded=False), \n",
    "    OneHotEncode(), \n",
    "    ToTensor(transpose=True)\n",
    "])"
   ]
  },
  {
   "cell_type": "code",
   "execution_count": 13,
   "id": "2d3ac9fc-7c5e-47ce-8c43-86f69a5b4091",
   "metadata": {
    "execution": {
     "iopub.execute_input": "2022-04-07T06:47:53.656859Z",
     "iopub.status.busy": "2022-04-07T06:47:53.656750Z",
     "iopub.status.idle": "2022-04-07T06:47:54.264751Z",
     "shell.execute_reply": "2022-04-07T06:47:54.264349Z",
     "shell.execute_reply.started": "2022-04-07T06:47:53.656843Z"
    },
    "tags": []
   },
   "outputs": [],
   "source": [
    "DATA_DIR = \"test_{}seqs_{}/\".format(NUM_SEQS, SEQ_LEN)\n",
    "mod = SeqDataModule(seq_file=DATA_DIR + \"test_seqs.tsv\",\n",
    "                    transform=data_transform,\n",
    "                    num_workers=4,\n",
    "                    batch_size=BATCH_SIZE,\n",
    "                    load_kwargs=dict(seq_col=\"SEQ\", target_col=\"ACTIVITY\", low_thresh=0.09, high_thresh=0.4))\n",
    "#load_kwargs=dict(target_file=DATA_DIR + \"test_labels.npy\", rev_seq_file=DATA_DIR + \"test_rev_ohe_seqs.npy\"))"
   ]
  },
  {
   "cell_type": "markdown",
   "id": "07e9259b-33b8-4db7-9c2c-186a43453f6b",
   "metadata": {
    "tags": []
   },
   "source": [
    "## Instantiate EUGENE architecture: dsEUGENE"
   ]
  },
  {
   "cell_type": "code",
   "execution_count": 15,
   "id": "f6fe6cd7-b411-43f5-8f30-195a0ccdf124",
   "metadata": {
    "execution": {
     "iopub.execute_input": "2022-04-07T06:47:57.759717Z",
     "iopub.status.busy": "2022-04-07T06:47:57.759491Z",
     "iopub.status.idle": "2022-04-07T06:47:58.731498Z",
     "shell.execute_reply": "2022-04-07T06:47:58.731025Z",
     "shell.execute_reply.started": "2022-04-07T06:47:57.759688Z"
    },
    "tags": []
   },
   "outputs": [],
   "source": [
    "import claim.utils as cu\n",
    "from eugene.models.dsEUGENE import dsEUGENE"
   ]
  },
  {
   "cell_type": "code",
   "execution_count": 16,
   "id": "d74b5ad6-bf20-4dbb-8c10-d25cb10faf98",
   "metadata": {
    "execution": {
     "iopub.execute_input": "2022-04-07T06:47:59.039637Z",
     "iopub.status.busy": "2022-04-07T06:47:59.039400Z",
     "iopub.status.idle": "2022-04-07T06:47:59.720855Z",
     "shell.execute_reply": "2022-04-07T06:47:59.720411Z",
     "shell.execute_reply.started": "2022-04-07T06:47:59.039605Z"
    },
    "tags": []
   },
   "outputs": [],
   "source": [
    "cnn=dict(input_len=66, channels=[4, 16, 32], conv_kernels=[15, 5], pool_kernels=[1, 1])\n",
    "rnn=dict(output_dim=32, batch_first=True)\n",
    "fc=dict(output_dim=1)"
   ]
  },
  {
   "cell_type": "code",
   "execution_count": 17,
   "id": "abaad7dc-1afa-4d90-af87-890ba0d6ba1e",
   "metadata": {
    "execution": {
     "iopub.execute_input": "2022-04-07T06:47:59.761052Z",
     "iopub.status.busy": "2022-04-07T06:47:59.760932Z",
     "iopub.status.idle": "2022-04-07T06:48:00.464754Z",
     "shell.execute_reply": "2022-04-07T06:48:00.464400Z",
     "shell.execute_reply.started": "2022-04-07T06:47:59.761035Z"
    },
    "tags": []
   },
   "outputs": [
    {
     "name": "stderr",
     "output_type": "stream",
     "text": [
      "/cellar/users/aklie/opt/miniconda3/envs/pytorch_dev/lib/python3.7/site-packages/torchmetrics/utilities/prints.py:36: UserWarning: Metric `AUROC` will save all targets and predictions in buffer. For large datasets this may lead to large memory footprint.\n",
      "  warnings.warn(*args, **kwargs)\n"
     ]
    },
    {
     "data": {
      "text/plain": [
       "dsEUGENE(\n",
       "  (convnet): BasicConv1D(\n",
       "    (module): Sequential(\n",
       "      (0): Conv1d(4, 16, kernel_size=(15,), stride=(1,))\n",
       "      (1): ReLU(inplace=True)\n",
       "      (2): MaxPool1d(kernel_size=1, stride=1, padding=0, dilation=1, ceil_mode=False)\n",
       "      (3): Conv1d(16, 32, kernel_size=(5,), stride=(1,))\n",
       "      (4): ReLU(inplace=True)\n",
       "      (5): MaxPool1d(kernel_size=1, stride=1, padding=0, dilation=1, ceil_mode=False)\n",
       "    )\n",
       "  )\n",
       "  (recurrentnet): BasicRecurrent(\n",
       "    (module): LSTM(64, 32, batch_first=True)\n",
       "  )\n",
       "  (fcnet): BasicFullyConnectedModule(\n",
       "    (module): Sequential(\n",
       "      (0): Linear(in_features=32, out_features=1, bias=True)\n",
       "    )\n",
       "  )\n",
       "  (accuracy): Accuracy()\n",
       "  (auroc): AUROC()\n",
       ")"
      ]
     },
     "execution_count": 17,
     "metadata": {},
     "output_type": "execute_result"
    }
   ],
   "source": [
    "eugene = dsEUGENE(conv_kwargs=cnn, rnn_kwargs=rnn, fc_kwargs=fc)\n",
    "cu.init_weights(eugene)\n",
    "eugene"
   ]
  },
  {
   "cell_type": "code",
   "execution_count": 18,
   "id": "3c388b9b-9490-409b-8b0e-1df90880f8ac",
   "metadata": {
    "execution": {
     "iopub.execute_input": "2022-04-07T06:48:00.465516Z",
     "iopub.status.busy": "2022-04-07T06:48:00.465397Z",
     "iopub.status.idle": "2022-04-07T06:48:01.200778Z",
     "shell.execute_reply": "2022-04-07T06:48:01.200365Z",
     "shell.execute_reply.started": "2022-04-07T06:48:00.465499Z"
    },
    "tags": []
   },
   "outputs": [
    {
     "data": {
      "text/plain": [
       "tensor([[ 0.0976,  0.0978,  0.0585,  0.1228, -0.0595,  0.1031,  0.0438,  0.1063,\n",
       "          0.0036, -0.1268, -0.1015, -0.0787, -0.1273,  0.1059, -0.0299],\n",
       "        [ 0.0327,  0.1275, -0.0565, -0.0433,  0.0588, -0.0395,  0.0510, -0.0235,\n",
       "         -0.0305,  0.0379, -0.0716, -0.0139,  0.0997, -0.0119,  0.0234],\n",
       "        [ 0.0125, -0.1040, -0.0366,  0.0776, -0.0395,  0.0229,  0.0047, -0.0082,\n",
       "         -0.0459,  0.0842,  0.1201,  0.0976,  0.0154,  0.0340, -0.0016],\n",
       "        [ 0.1215,  0.0317,  0.1269, -0.0114,  0.1286, -0.1020, -0.1156, -0.0081,\n",
       "          0.0828,  0.0014,  0.0338, -0.0051,  0.0270,  0.1262, -0.0590]],\n",
       "       grad_fn=<SelectBackward0>)"
      ]
     },
     "execution_count": 18,
     "metadata": {},
     "output_type": "execute_result"
    }
   ],
   "source": [
    "next(eugene.parameters())[0]"
   ]
  },
  {
   "cell_type": "markdown",
   "id": "5037945c-222a-432e-a405-038e2eeb3c9b",
   "metadata": {
    "tags": []
   },
   "source": [
    "## Train (and time) with PyTorch Lightning"
   ]
  },
  {
   "cell_type": "code",
   "execution_count": 19,
   "id": "70f4bd2b-3d2a-4e78-a21a-ae7d44d02d69",
   "metadata": {
    "execution": {
     "iopub.execute_input": "2022-04-07T06:48:02.760868Z",
     "iopub.status.busy": "2022-04-07T06:48:02.760714Z",
     "iopub.status.idle": "2022-04-07T06:48:03.467684Z",
     "shell.execute_reply": "2022-04-07T06:48:03.467182Z",
     "shell.execute_reply.started": "2022-04-07T06:48:02.760850Z"
    },
    "tags": []
   },
   "outputs": [],
   "source": [
    "import pytorch_lightning as pl\n",
    "from pytorch_lightning.loggers import TensorBoardLogger"
   ]
  },
  {
   "cell_type": "code",
   "execution_count": 20,
   "id": "5326c70b-4373-4b69-b54d-92fe1efb3973",
   "metadata": {
    "execution": {
     "iopub.execute_input": "2022-04-07T06:48:03.468636Z",
     "iopub.status.busy": "2022-04-07T06:48:03.468513Z",
     "iopub.status.idle": "2022-04-07T06:48:04.178249Z",
     "shell.execute_reply": "2022-04-07T06:48:04.177743Z",
     "shell.execute_reply.started": "2022-04-07T06:48:03.468619Z"
    },
    "tags": []
   },
   "outputs": [
    {
     "name": "stderr",
     "output_type": "stream",
     "text": [
      "GPU available: True, used: True\n",
      "TPU available: False, using: 0 TPU cores\n",
      "IPU available: False, using: 0 IPUs\n"
     ]
    }
   ],
   "source": [
    "LOG_DIR = \"../test/test_logs/batch_size-{0}.num_workers-{1}.data_type-{2}.num_seq-{3}.seq_len-{4}\".format(BATCH_SIZE, NUM_WORKERS, DATA_TYPE, NUM_SEQS, SEQ_LEN)\n",
    "logger = TensorBoardLogger(LOG_DIR, name=\"dsEUGENE\")\n",
    "trainer = pl.Trainer(gpus=1, max_epochs=10, logger=logger)"
   ]
  },
  {
   "cell_type": "code",
   "execution_count": 21,
   "id": "46c5628e-d662-48e4-b52a-4f432192224c",
   "metadata": {
    "execution": {
     "iopub.execute_input": "2022-04-07T06:48:04.179319Z",
     "iopub.status.busy": "2022-04-07T06:48:04.179118Z",
     "iopub.status.idle": "2022-04-07T06:48:11.930309Z",
     "shell.execute_reply": "2022-04-07T06:48:11.929979Z",
     "shell.execute_reply.started": "2022-04-07T06:48:04.179299Z"
    },
    "tags": []
   },
   "outputs": [
    {
     "name": "stderr",
     "output_type": "stream",
     "text": [
      "LOCAL_RANK: 0 - CUDA_VISIBLE_DEVICES: [0]\n",
      "Set SLURM handle signals.\n",
      "\n",
      "  | Name         | Type                      | Params\n",
      "-----------------------------------------------------------\n",
      "0 | convnet      | BasicConv1D               | 3.6 K \n",
      "1 | recurrentnet | BasicRecurrent            | 12.5 K\n",
      "2 | fcnet        | BasicFullyConnectedModule | 33    \n",
      "3 | accuracy     | Accuracy                  | 0     \n",
      "4 | auroc        | AUROC                     | 0     \n",
      "-----------------------------------------------------------\n",
      "16.1 K    Trainable params\n",
      "0         Non-trainable params\n",
      "16.1 K    Total params\n",
      "0.065     Total estimated model params size (MB)\n"
     ]
    },
    {
     "data": {
      "application/vnd.jupyter.widget-view+json": {
       "model_id": "",
       "version_major": 2,
       "version_minor": 0
      },
      "text/plain": [
       "Validation sanity check: 0it [00:00, ?it/s]"
      ]
     },
     "metadata": {},
     "output_type": "display_data"
    },
    {
     "name": "stderr",
     "output_type": "stream",
     "text": [
      "/cellar/users/aklie/opt/miniconda3/envs/pytorch_dev/lib/python3.7/site-packages/pytorch_lightning/trainer/data_loading.py:433: UserWarning: The number of training samples (2) is smaller than the logging interval Trainer(log_every_n_steps=50). Set a lower value for log_every_n_steps if you want to see logs for the training epoch.\n",
      "  f\"The number of training samples ({self.num_training_batches}) is smaller than the logging interval\"\n"
     ]
    },
    {
     "data": {
      "application/vnd.jupyter.widget-view+json": {
       "model_id": "77c68a6383c749378d0c7da57083edcc",
       "version_major": 2,
       "version_minor": 0
      },
      "text/plain": [
       "Training: 0it [00:00, ?it/s]"
      ]
     },
     "metadata": {},
     "output_type": "display_data"
    },
    {
     "data": {
      "application/vnd.jupyter.widget-view+json": {
       "model_id": "",
       "version_major": 2,
       "version_minor": 0
      },
      "text/plain": [
       "Validating: 0it [00:00, ?it/s]"
      ]
     },
     "metadata": {},
     "output_type": "display_data"
    },
    {
     "data": {
      "application/vnd.jupyter.widget-view+json": {
       "model_id": "",
       "version_major": 2,
       "version_minor": 0
      },
      "text/plain": [
       "Validating: 0it [00:00, ?it/s]"
      ]
     },
     "metadata": {},
     "output_type": "display_data"
    },
    {
     "data": {
      "application/vnd.jupyter.widget-view+json": {
       "model_id": "",
       "version_major": 2,
       "version_minor": 0
      },
      "text/plain": [
       "Validating: 0it [00:00, ?it/s]"
      ]
     },
     "metadata": {},
     "output_type": "display_data"
    },
    {
     "data": {
      "application/vnd.jupyter.widget-view+json": {
       "model_id": "",
       "version_major": 2,
       "version_minor": 0
      },
      "text/plain": [
       "Validating: 0it [00:00, ?it/s]"
      ]
     },
     "metadata": {},
     "output_type": "display_data"
    },
    {
     "data": {
      "application/vnd.jupyter.widget-view+json": {
       "model_id": "",
       "version_major": 2,
       "version_minor": 0
      },
      "text/plain": [
       "Validating: 0it [00:00, ?it/s]"
      ]
     },
     "metadata": {},
     "output_type": "display_data"
    },
    {
     "data": {
      "application/vnd.jupyter.widget-view+json": {
       "model_id": "",
       "version_major": 2,
       "version_minor": 0
      },
      "text/plain": [
       "Validating: 0it [00:00, ?it/s]"
      ]
     },
     "metadata": {},
     "output_type": "display_data"
    },
    {
     "data": {
      "application/vnd.jupyter.widget-view+json": {
       "model_id": "",
       "version_major": 2,
       "version_minor": 0
      },
      "text/plain": [
       "Validating: 0it [00:00, ?it/s]"
      ]
     },
     "metadata": {},
     "output_type": "display_data"
    },
    {
     "data": {
      "application/vnd.jupyter.widget-view+json": {
       "model_id": "",
       "version_major": 2,
       "version_minor": 0
      },
      "text/plain": [
       "Validating: 0it [00:00, ?it/s]"
      ]
     },
     "metadata": {},
     "output_type": "display_data"
    },
    {
     "data": {
      "application/vnd.jupyter.widget-view+json": {
       "model_id": "",
       "version_major": 2,
       "version_minor": 0
      },
      "text/plain": [
       "Validating: 0it [00:00, ?it/s]"
      ]
     },
     "metadata": {},
     "output_type": "display_data"
    },
    {
     "data": {
      "application/vnd.jupyter.widget-view+json": {
       "model_id": "",
       "version_major": 2,
       "version_minor": 0
      },
      "text/plain": [
       "Validating: 0it [00:00, ?it/s]"
      ]
     },
     "metadata": {},
     "output_type": "display_data"
    }
   ],
   "source": [
    "trainer.fit(model=eugene, datamodule=mod)"
   ]
  },
  {
   "cell_type": "code",
   "execution_count": 22,
   "id": "e6ef9575-63d5-4f06-8a56-2d89e9d145bd",
   "metadata": {
    "execution": {
     "iopub.execute_input": "2022-04-07T06:48:11.931133Z",
     "iopub.status.busy": "2022-04-07T06:48:11.931018Z",
     "iopub.status.idle": "2022-04-07T06:48:12.793757Z",
     "shell.execute_reply": "2022-04-07T06:48:12.793368Z",
     "shell.execute_reply.started": "2022-04-07T06:48:11.931116Z"
    },
    "tags": []
   },
   "outputs": [
    {
     "name": "stdout",
     "output_type": "stream",
     "text": [
      "0 torch.Size([32, 1])\n",
      "1 torch.Size([32, 1])\n"
     ]
    }
   ],
   "source": [
    "# Sanity check batch size\n",
    "for i, batch in enumerate(mod.train_dataloader()):\n",
    "    print(i, batch[0].size())\n",
    "    if i == 3:\n",
    "        break"
   ]
  },
  {
   "cell_type": "code",
   "execution_count": 23,
   "id": "e80d422c-80a3-49cc-adc2-9ae6c7d31f35",
   "metadata": {
    "execution": {
     "iopub.execute_input": "2022-04-07T06:48:12.794523Z",
     "iopub.status.busy": "2022-04-07T06:48:12.794402Z",
     "iopub.status.idle": "2022-04-07T06:48:13.422723Z",
     "shell.execute_reply": "2022-04-07T06:48:13.422385Z",
     "shell.execute_reply.started": "2022-04-07T06:48:12.794505Z"
    },
    "tags": []
   },
   "outputs": [],
   "source": [
    "del logger, trainer, mod, eugene"
   ]
  },
  {
   "cell_type": "code",
   "execution_count": null,
   "id": "4ed8f56d-7f70-4288-84d5-7cd5143ab07e",
   "metadata": {
    "execution": {
     "iopub.status.busy": "2022-04-07T06:47:28.142078Z",
     "iopub.status.idle": "2022-04-07T06:47:28.142245Z",
     "shell.execute_reply": "2022-04-07T06:47:28.142158Z"
    },
    "tags": []
   },
   "outputs": [],
   "source": [
    "%whos"
   ]
  },
  {
   "cell_type": "markdown",
   "id": "4b89b102-f24c-4550-ab82-c5aabe3dfa39",
   "metadata": {
    "tags": [],
    "toc-hr-collapsed": true
   },
   "source": [
    "# Scratch"
   ]
  },
  {
   "cell_type": "markdown",
   "id": "014ba91d",
   "metadata": {
    "tags": [],
    "toc-hr-collapsed": true
   },
   "source": [
    "## Random dataset\n",
    "<div class=\"alert alert-info\" role=\"alert\">\n",
    "  <b>Just test out the basic function of our eugene architectures on some random data</b>\n",
    "</div>"
   ]
  },
  {
   "cell_type": "markdown",
   "id": "5797dac8",
   "metadata": {
    "tags": [],
    "toc-hr-collapsed": true
   },
   "source": [
    "### Load data"
   ]
  },
  {
   "cell_type": "code",
   "execution_count": 29,
   "id": "e85f9e92-94d4-467a-af6c-f4e9187a810f",
   "metadata": {
    "execution": {
     "iopub.execute_input": "2022-04-03T21:19:31.101596Z",
     "iopub.status.busy": "2022-04-03T21:19:31.100665Z",
     "iopub.status.idle": "2022-04-03T21:19:32.440924Z",
     "shell.execute_reply": "2022-04-03T21:19:32.440535Z",
     "shell.execute_reply.started": "2022-04-03T21:19:31.101558Z"
    },
    "tags": []
   },
   "outputs": [],
   "source": [
    "from torch.utils.data import dataset\n",
    "from torch.utils.data import DataLoader\n",
    "\n",
    "### Training set\n",
    "training_dataset = dataset.TensorDataset(torch.randn(1000, 4, 66), torch.bernoulli(torch.empty(1000).uniform_(0,1)))\n",
    "training_dataloader = DataLoader(training_dataset, batch_size=32, num_workers=1)\n",
    "training_dataset[0][0].shape, training_dataset[0][1]\n",
    "\n",
    "for i_batch, batch in enumerate(training_dataloader):\n",
    "    x, y = batch\n",
    "    outs = eugene(x)\n",
    "    print(x.shape, y.shape, outs.shape)\n",
    "    if i_batch==3:\n",
    "        break\n",
    "\n",
    "### Validation set\n",
    "validation_dataset = dataset.TensorDataset(torch.randn(100, 4, 66), torch.bernoulli(torch.empty(100).uniform_(0,1)))\n",
    "validation_dataloader = DataLoader(validation_dataset, batch_size=32, num_workers=4)\n",
    "validation_dataset[0][0].shape, validation_dataset[0][1]\n",
    "\n",
    "for i_batch, batch in enumerate(validation_dataloader):\n",
    "    x, y = batch\n",
    "    outs = eugene(x)\n",
    "    print(x.shape, y.shape, outs.shape)\n",
    "    if i_batch==3:\n",
    "        break\n",
    "\n",
    "## Instantiate EUGENE architecture: ssEUGENE\n",
    "cnn=dict(input_len=66, channels=[4, 16], conv_kernels=[15, 5], pool_kernels=[1, 1])\n",
    "rnn=dict(output_dim=32, batch_first=True)\n",
    "fc=dict(output_dim=1)\n",
    "\n",
    "from ssEUGENE import ssEUGENE\n",
    "eugene = ssEUGENE(conv_kwargs=cnn, rnn_kwargs=rnn, fc_kwargs=fc)\n",
    "eugene\n",
    "\n",
    "x = torch.randn(10, 4, 66)\n",
    "out = eugene(x)\n",
    "out.shape"
   ]
  },
  {
   "cell_type": "markdown",
   "id": "6a228cb8",
   "metadata": {
    "tags": [],
    "toc-hr-collapsed": true
   },
   "source": [
    "### Training with PyTorch Lightning"
   ]
  },
  {
   "cell_type": "code",
   "execution_count": 36,
   "id": "eaa8de8b-97f6-4ac4-9949-5c97a8cba8aa",
   "metadata": {
    "execution": {
     "iopub.execute_input": "2022-04-03T21:19:56.781724Z",
     "iopub.status.busy": "2022-04-03T21:19:56.781556Z",
     "iopub.status.idle": "2022-04-03T21:20:54.762661Z",
     "shell.execute_reply": "2022-04-03T21:20:54.762261Z",
     "shell.execute_reply.started": "2022-04-03T21:19:56.781706Z"
    },
    "tags": []
   },
   "outputs": [],
   "source": [
    "import pytorch_lightning as pl\n",
    "from pytorch_lightning.loggers import TensorBoardLogger\n",
    "\n",
    "logger = TensorBoardLogger(\"random_test\", name=\"ssEUGENE\")\n",
    "trainer = pl.Trainer(gpus=1, max_epochs=10, logger=logger)\n",
    "\n",
    "trainer.fit(model=eugene, train_dataloader=training_dataloader, val_dataloaders=validation_dataloader)"
   ]
  },
  {
   "cell_type": "markdown",
   "id": "ecf8ebb4",
   "metadata": {
    "tags": [],
    "toc-hr-collapsed": true
   },
   "source": [
    "## MPRADataset\n",
    "<div class=\"alert alert-info\" role=\"alert\">\n",
    "  <b>Just test out the basic function of our eugene architectures on a MPRA dataset</b>\n",
    "</div>"
   ]
  },
  {
   "cell_type": "markdown",
   "id": "39c9fa55",
   "metadata": {
    "tags": [],
    "toc-hr-collapsed": true
   },
   "source": [
    "### Load data and instantiate EUGENE architecture: dsEUGENE"
   ]
  },
  {
   "cell_type": "code",
   "execution_count": 4,
   "id": "492c2f85",
   "metadata": {
    "execution": {
     "iopub.execute_input": "2022-04-03T21:34:01.638279Z",
     "iopub.status.busy": "2022-04-03T21:34:01.638173Z",
     "iopub.status.idle": "2022-04-03T21:34:08.486745Z",
     "shell.execute_reply": "2022-04-03T21:34:08.486382Z",
     "shell.execute_reply.started": "2022-04-03T21:34:01.638264Z"
    },
    "tags": []
   },
   "outputs": [
    {
     "name": "stdout",
     "output_type": "stream",
     "text": [
      "torch.Size([512, 4, 66]) torch.Size([512, 4, 66]) torch.Size([512]) torch.Size([512, 1])\n",
      "torch.Size([512, 4, 66]) torch.Size([512, 4, 66]) torch.Size([512]) torch.Size([512, 1])\n",
      "torch.Size([512, 4, 66]) torch.Size([512, 4, 66]) torch.Size([512]) torch.Size([512, 1])\n",
      "torch.Size([512, 4, 66]) torch.Size([512, 4, 66]) torch.Size([512]) torch.Size([512, 1])\n",
      "torch.Size([512, 4, 66]) torch.Size([512, 4, 66]) torch.Size([512]) torch.Size([512, 1])\n",
      "torch.Size([512, 4, 66]) torch.Size([512, 4, 66]) torch.Size([512]) torch.Size([512, 1])\n",
      "torch.Size([512, 4, 66]) torch.Size([512, 4, 66]) torch.Size([512]) torch.Size([512, 1])\n",
      "torch.Size([512, 4, 66]) torch.Size([512, 4, 66]) torch.Size([512]) torch.Size([512, 1])\n"
     ]
    }
   ],
   "source": [
    "from eugene.load_data import load_csv, load_numpy\n",
    "from eugene.MPRADataset import MPRADataset\n",
    "from torch.utils.data import DataLoader\n",
    "from torchvision import transforms\n",
    "from transforms import ReverseComplement, Augment, OneHotEncode, ToTensor\n",
    "from dsEUGENE import dsEUGENE\n",
    "import claim.utils as cu\n",
    "\n",
    "TRAIN_SEQ = \"/cellar/users/aklie/projects/EUGENE/data/2021_OLS_Library/seqs/0.09-0.4_seqs-train-0.9.txt\"\n",
    "TRAIN_LABEL = \"/cellar/users/aklie/projects/EUGENE/data/2021_OLS_Library/binary/0.09-0.4_y-train-0.9_binary.txt\"\n",
    "train_seqs, train_targets = load_numpy(TRAIN_SEQ, TRAIN_LABEL, is_seq_text=True)\n",
    "len(train_seqs), train_seqs[0], len(train_targets), train_targets[0]\n",
    "\n",
    "VAL_SEQ = \"/cellar/users/aklie/projects/EUGENE/data/2021_OLS_Library/seqs/0.09-0.4_seqs-test-0.1.txt\"\n",
    "VAL_LABEL = \"/cellar/users/aklie/projects/EUGENE/data/2021_OLS_Library/binary/0.09-0.4_y-test-0.1_binary.txt\"\n",
    "val_seqs, val_targets = load_numpy(VAL_SEQ, VAL_LABEL, is_seq_text=True)\n",
    "len(val_seqs), val_seqs[0], len(val_targets), val_targets[0]\n",
    "\n",
    "# Compose different data transforms for this particular load\n",
    "data_transform = transforms.Compose([\n",
    "    Augment(randomize_linker_p=0.1, enhancer=\"WT-otx-a\"), ReverseComplement(ohe_encoded=False), OneHotEncode(), ToTensor(transpose=True)\n",
    "])\n",
    "\n",
    "# Instantiate a Dataset\n",
    "train_dataset = MPRADataset(train_seqs, train_targets, transform=data_transform)\n",
    "val_dataset = MPRADataset(val_seqs, val_targets, transform=data_transform)\n",
    "\n",
    "# Instantiate a DataLoader\n",
    "train_dataloader = DataLoader(train_dataset, batch_size=512, shuffle=True, num_workers=4)\n",
    "val_dataloader = DataLoader(val_dataset, batch_size=512, shuffle=False, num_workers=4)\n",
    "\n",
    "for i_batch, batch in enumerate(train_dataloader):\n",
    "    x, x_rev_comp, y = batch[\"sequence\"], batch[\"reverse_complement\"], batch[\"target\"]\n",
    "    outs = eugene(x, x_rev_comp)\n",
    "    print(x.shape, x_rev_comp.shape, y.shape, outs.shape)\n",
    "    if i_batch==3:\n",
    "        break\n",
    "        \n",
    "for i_batch, batch in enumerate(val_dataloader):\n",
    "    x, x_rev_comp, y = batch[\"sequence\"], batch[\"reverse_complement\"], batch[\"target\"]\n",
    "    outs = eugene(x, x_rev_comp)\n",
    "    print(x.shape, x_rev_comp.shape, y.shape, outs.shape)\n",
    "    if i_batch==3:\n",
    "        break\n",
    "        \n",
    "cnn=dict(input_len=66, channels=[4, 16], conv_kernels=[15, 5], pool_kernels=[1, 1])\n",
    "rnn=dict(output_dim=32, batch_first=True)\n",
    "fc=dict(output_dim=1)\n",
    "\n",
    "eugene = dsEUGENE(conv_kwargs=cnn, rnn_kwargs=rnn, fc_kwargs=fc)\n",
    "cu.init_weights(eugene)"
   ]
  },
  {
   "cell_type": "markdown",
   "id": "a4593c10",
   "metadata": {
    "tags": [],
    "toc-hr-collapsed": true
   },
   "source": [
    "### Training with PyTorch Lightning"
   ]
  },
  {
   "cell_type": "code",
   "execution_count": 7,
   "id": "d08a1538-533f-49f4-9401-f27b406f299d",
   "metadata": {
    "execution": {
     "iopub.execute_input": "2022-04-03T21:34:32.417745Z",
     "iopub.status.busy": "2022-04-03T21:34:32.417582Z",
     "iopub.status.idle": "2022-04-03T21:36:12.860105Z",
     "shell.execute_reply": "2022-04-03T21:36:12.859747Z",
     "shell.execute_reply.started": "2022-04-03T21:34:32.417728Z"
    },
    "tags": []
   },
   "outputs": [],
   "source": [
    "import pytorch_lightning as pl\n",
    "from pytorch_lightning.loggers import TensorBoardLogger\n",
    "\n",
    "logger = TensorBoardLogger(\"0.18-0.4_test\", name=\"dsEUGENE\")\n",
    "trainer = pl.Trainer(gpus=1, max_epochs=10, logger=logger)\n",
    "\n",
    "trainer.fit(model=eugene, train_dataloaders=train_dataloader, val_dataloaders=val_dataloader)"
   ]
  },
  {
   "cell_type": "markdown",
   "id": "748e0502",
   "metadata": {
    "tags": [],
    "toc-hr-collapsed": true
   },
   "source": [
    "# References"
   ]
  }
 ],
 "metadata": {
  "interpreter": {
   "hash": "877ac64bedd0eab90089d6ca2747c50a37e983f6bb007df51c0a6db8dddb5e0e"
  },
  "kernelspec": {
   "display_name": "Python 3 pytorch_dev",
   "language": "python",
   "name": "pytorch_dev"
  },
  "language_info": {
   "codemirror_mode": {
    "name": "ipython",
    "version": 3
   },
   "file_extension": ".py",
   "mimetype": "text/x-python",
   "name": "python",
   "nbconvert_exporter": "python",
   "pygments_lexer": "ipython3",
   "version": "3.7.12"
  }
 },
 "nbformat": 4,
 "nbformat_minor": 5
}

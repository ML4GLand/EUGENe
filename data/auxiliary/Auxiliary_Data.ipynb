{
 "cells": [
  {
   "cell_type": "markdown",
   "id": "90a88efe-ebb3-424c-8704-fb4ee189af2c",
   "metadata": {},
   "source": [
    "# Notebook Title"
   ]
  },
  {
   "cell_type": "markdown",
   "id": "2d058003-a667-4b45-9ddc-e47efe48e0e1",
   "metadata": {
    "tags": []
   },
   "source": [
    "**Authorship:**\n",
    "Author, *MM/DD/YYYY*\n",
    "***\n",
    "**Description:**\n",
    "Notebook to do some cool stuff\n",
    "***\n",
    "**TODOs:**\n",
    " - <font color='green'> Done TODO </font>\n",
    " - <font color='orange'> WIP TODO </font>\n",
    " - <font color='red'> Queued TODO </font>\n",
    "***"
   ]
  },
  {
   "cell_type": "markdown",
   "id": "a2a2c4a5-1dac-4dce-8e87-cb83f07de4c3",
   "metadata": {
    "execution": {
     "iopub.execute_input": "2021-09-05T21:21:18.602440Z",
     "iopub.status.busy": "2021-09-05T21:21:18.602151Z",
     "iopub.status.idle": "2021-09-05T21:21:18.606439Z",
     "shell.execute_reply": "2021-09-05T21:21:18.605256Z",
     "shell.execute_reply.started": "2021-09-05T21:21:18.602409Z"
    },
    "tags": []
   },
   "source": [
    "## Set-up"
   ]
  },
  {
   "cell_type": "code",
   "execution_count": 10,
   "id": "3ebaff6f",
   "metadata": {
    "execution": {
     "iopub.execute_input": "2021-11-27T03:09:22.406449Z",
     "iopub.status.busy": "2021-11-27T03:09:22.406152Z",
     "iopub.status.idle": "2021-11-27T03:09:22.934127Z",
     "shell.execute_reply": "2021-11-27T03:09:22.933416Z",
     "shell.execute_reply.started": "2021-11-27T03:09:22.406419Z"
    },
    "tags": []
   },
   "outputs": [],
   "source": [
    "# The classics\n",
    "import pickle\n",
    "\n",
    "# Autoreload extension\n",
    "if 'autoreload' not in get_ipython().extension_manager.loaded:\n",
    "    %load_ext autoreload\n",
    "%autoreload 2"
   ]
  },
  {
   "cell_type": "code",
   "execution_count": 3,
   "id": "5647b939-94cd-4923-8f04-a2abbecc3b49",
   "metadata": {
    "execution": {
     "iopub.execute_input": "2021-09-11T07:07:47.514573Z",
     "iopub.status.busy": "2021-09-11T07:07:47.514322Z",
     "iopub.status.idle": "2021-09-11T07:07:47.949448Z",
     "shell.execute_reply": "2021-09-11T07:07:47.948782Z",
     "shell.execute_reply.started": "2021-09-11T07:07:47.514543Z"
    },
    "tags": []
   },
   "outputs": [],
   "source": [
    "# Directory definition\n",
    "dir = \"/path/to/dir\""
   ]
  },
  {
   "cell_type": "markdown",
   "id": "524af904",
   "metadata": {
    "tags": []
   },
   "source": [
    "## Part 1\n",
    "Description"
   ]
  },
  {
   "cell_type": "code",
   "execution_count": 6,
   "id": "33953d16-2ddd-496e-a3b6-f3fd34e3f0bb",
   "metadata": {
    "execution": {
     "iopub.execute_input": "2021-11-27T03:08:18.464149Z",
     "iopub.status.busy": "2021-11-27T03:08:18.463875Z",
     "iopub.status.idle": "2021-11-27T03:08:18.472934Z",
     "shell.execute_reply": "2021-11-27T03:08:18.472131Z",
     "shell.execute_reply.started": "2021-11-27T03:08:18.464118Z"
    },
    "tags": []
   },
   "outputs": [],
   "source": [
    "# Mixed-1.0 header\n",
    "header = [\n",
    "    \"L1_length\",\n",
    "    \"TFBS1_type\",\n",
    "    \"TFBS1_orient\",\n",
    "    \"TFBS1_affinity\",\n",
    "    \"L2_length\",\n",
    "    \"TFBS2_type\",\n",
    "    \"TFBS2_orient\",\n",
    "    \"TFBS2_affinity\",\n",
    "    \"L3_length\",\n",
    "    \"TFBS3_type\",\n",
    "    \"TFBS3_orient\",\n",
    "    \"TFBS3_affinity\",\n",
    "    \"L4_length\",\n",
    "    \"TFBS4_type\",\n",
    "    \"TFBS4_orient\",\n",
    "    \"TFBS4_affinity\",\n",
    "    \"L5_length\",\n",
    "    \"TFBS5_type\",\n",
    "    \"TFBS5_orient\",\n",
    "    \"TFBS5_affinity\",\n",
    "    \"L6_length\",\n",
    "]\n",
    "# Save the header for use down the line. Save as one column per line\n",
    "with open (\"../data/2021_OLS_Library/mixed_1.0/mixed-1.0_header.txt\", \"w\") as f:\n",
    "    f.write(\"\\n\".join(header))"
   ]
  },
  {
   "cell_type": "code",
   "execution_count": 7,
   "id": "839a62e9-b1e2-4b07-9409-b5db578f0779",
   "metadata": {
    "execution": {
     "iopub.execute_input": "2021-11-27T03:08:19.010780Z",
     "iopub.status.busy": "2021-11-27T03:08:19.010512Z",
     "iopub.status.idle": "2021-11-27T03:08:19.019455Z",
     "shell.execute_reply": "2021-11-27T03:08:19.018637Z",
     "shell.execute_reply.started": "2021-11-27T03:08:19.010751Z"
    },
    "tags": []
   },
   "outputs": [],
   "source": [
    "# Mixed-2.0 header\n",
    "header = [\n",
    "    \"L1_length\",\n",
    "    \"TFBS1_ETS_affinity\",\n",
    "    \"TFBS1_ETS_orient\",\n",
    "    \"TFBS1_GATA_affinity\",\n",
    "    \"TFBS1_GATA_orient\",\n",
    "    \"L2_length\",\n",
    "    \"TFBS2_ETS_affinity\",\n",
    "    \"TFBS2_ETS_orient\",\n",
    "    \"TFBS2_GATA_affinity\",\n",
    "    \"TFBS2_GATA_orient\",\n",
    "    \"L3_length\",\n",
    "    \"TFBS3_ETS_affinity\",\n",
    "    \"TFBS3_ETS_orient\",\n",
    "    \"TFBS3_GATA_affinity\",\n",
    "    \"TFBS3_GATA_orient\",\n",
    "    \"L4_length\",\n",
    "    \"TFBS4_ETS_affinity\",\n",
    "    \"TFBS4_ETS_orient\",\n",
    "    \"TFBS4_GATA_affinity\",\n",
    "    \"TFBS4_GATA_orient\",\n",
    "    \"L5_length\",\n",
    "    \"TFBS5_ETS_affinity\",\n",
    "    \"TFBS5_ETS_orient\",\n",
    "    \"TFBS5_GATA_affinity\",\n",
    "    \"TFBS5_GATA_orient\",\n",
    "    \"L6_length\",\n",
    "]\n",
    "# Save the header for use down the line. Save as one column per line\n",
    "with open (\"../data/2021_OLS_Library/mixed_2.0/mixed-2.0_header.txt\", \"w\") as f:\n",
    "    f.write(\"\\n\".join(header))"
   ]
  },
  {
   "cell_type": "code",
   "execution_count": 8,
   "id": "24cb4e8b-0be5-46e9-adaf-bff06d778397",
   "metadata": {
    "execution": {
     "iopub.execute_input": "2021-11-27T03:08:19.559352Z",
     "iopub.status.busy": "2021-11-27T03:08:19.559055Z",
     "iopub.status.idle": "2021-11-27T03:08:19.568290Z",
     "shell.execute_reply": "2021-11-27T03:08:19.567450Z",
     "shell.execute_reply.started": "2021-11-27T03:08:19.559323Z"
    },
    "tags": []
   },
   "outputs": [],
   "source": [
    "# Mixed-3.0 header\n",
    "header = [\n",
    "    \"L1_length\",\n",
    "    \"TFBS1_ETS_affinity\",\n",
    "    \"TFBS1_GATA_affinity\",\n",
    "    \"TFBS1_orient\",\n",
    "    \"L2_length\",\n",
    "    \"TFBS2_ETS_affinity\",\n",
    "    \"TFBS2_GATA_affinity\",\n",
    "    \"TFBS2_orient\",\n",
    "    \"L3_length\",\n",
    "    \"TFBS3_ETS_affinity\",\n",
    "    \"TFBS3_GATA_affinity\",\n",
    "    \"TFBS3_orient\",\n",
    "    \"L4_length\",\n",
    "    \"TFBS4_ETS_affinity\",\n",
    "    \"TFBS4_GATA_affinity\",\n",
    "    \"TFBS4_orient\",\n",
    "    \"L5_length\",\n",
    "    \"TFBS5_ETS_affinity\",\n",
    "    \"TFBS5_GATA_affinity\",\n",
    "    \"TFBS5_orient\",\n",
    "    \"L6_length\",\n",
    "]\n",
    "# Save the header for use down the line. Save as one column per line\n",
    "with open (\"../data/2021_OLS_Library/mixed_3.0/mixed-3.0_header.txt\", \"w\") as f:\n",
    "    f.write(\"\\n\".join(header))"
   ]
  },
  {
   "cell_type": "code",
   "execution_count": 11,
   "id": "f6b5a05e-c2c5-43a2-9a84-9ee7bb7f5a52",
   "metadata": {
    "execution": {
     "iopub.execute_input": "2021-11-27T03:09:26.628646Z",
     "iopub.status.busy": "2021-11-27T03:09:26.628379Z",
     "iopub.status.idle": "2021-11-27T03:09:27.135443Z",
     "shell.execute_reply": "2021-11-27T03:09:27.134683Z",
     "shell.execute_reply.started": "2021-11-27T03:09:26.628616Z"
    },
    "tags": []
   },
   "outputs": [],
   "source": [
    "# Define a dictionary that maps the name of the scaffold piece to the actual sequence\n",
    "siteName2bindingSiteSequence = {\n",
    "    \"S1\": \"CATCTGAAGCTC\",\n",
    "    \"G1R\": \"GTTATCTC\",\n",
    "    \"S2\": \"TA\",\n",
    "    \"E1F\": \"ACGGAAGT\",\n",
    "    \"S3\": \"TTTCGAA\",\n",
    "    \"E2F\": \"AAGGAAAT\",\n",
    "    \"S4\": \"TGCTC\",\n",
    "    \"G2R\": \"AATATCT\",\n",
    "    \"S5\": \"\",\n",
    "    \"G3F\": \"AAGATAGG\",\n",
    "    \"G1F\": \"GAGATAAC\",\n",
    "    \"E1R\": \"ACTTCCGT\",\n",
    "    \"E2R\": \"ATTTCCTT\",\n",
    "    \"G2F\": \"AGATATT\",\n",
    "    \"G3R\": \"CCTATCTT\",\n",
    "    \"S6\": \"A\",\n",
    "}\n",
    "with open(\"/cellar/users/aklie/projects/EUGENE/data/auxiliary/siteName2bindingSiteSequence.pkl\", 'wb') as handle:\n",
    "    pickle.dump(siteName2bindingSiteSequence, handle)"
   ]
  },
  {
   "cell_type": "code",
   "execution_count": 12,
   "id": "93ce166d-9a77-4c77-8615-e837010e2d50",
   "metadata": {
    "execution": {
     "iopub.execute_input": "2021-11-27T03:09:27.136945Z",
     "iopub.status.busy": "2021-11-27T03:09:27.136629Z",
     "iopub.status.idle": "2021-11-27T03:09:27.645695Z",
     "shell.execute_reply": "2021-11-27T03:09:27.644975Z",
     "shell.execute_reply.started": "2021-11-27T03:09:27.136917Z"
    },
    "tags": []
   },
   "outputs": [],
   "source": [
    "# Define a dictionary that maps the TF type to the affinity of that site\n",
    "bindingSiteName2affinities = {\n",
    "    \"G1\": 0.9,\n",
    "    \"G2\": 0.3,\n",
    "    \"G3\": 0.5,\n",
    "    \"E1\": 0.6,\n",
    "    \"E2\": 0.4,\n",
    "}\n",
    "with open(\"/cellar/users/aklie/projects/EUGENE/data/auxiliary/bindingSiteName2affinities.pkl\", 'wb') as handle:\n",
    "    pickle.dump(bindingSiteName2affinities, handle)"
   ]
  },
  {
   "cell_type": "markdown",
   "id": "945550e2-0b82-4cf9-8109-c3a614946fa7",
   "metadata": {
    "tags": []
   },
   "source": [
    "## Part 2\n",
    "Description"
   ]
  },
  {
   "cell_type": "markdown",
   "id": "99a8c706-ccbe-4156-9e3d-a29c1ecc9e95",
   "metadata": {
    "execution": {
     "iopub.execute_input": "2021-09-08T17:29:42.314098Z",
     "iopub.status.busy": "2021-09-08T17:29:42.313838Z",
     "iopub.status.idle": "2021-09-08T17:29:42.903968Z",
     "shell.execute_reply": "2021-09-08T17:29:42.903216Z",
     "shell.execute_reply.started": "2021-09-08T17:29:42.314069Z"
    },
    "tags": []
   },
   "source": [
    "# Scratch\n",
    "Place for old or testing code"
   ]
  },
  {
   "cell_type": "markdown",
   "id": "ed7ffd88-94c2-45f2-ad87-9f255e8073ff",
   "metadata": {},
   "source": [
    "# References"
   ]
  }
 ],
 "metadata": {
  "kernelspec": {
   "display_name": "Python3 ml_env",
   "language": "python",
   "name": "ml_env"
  },
  "language_info": {
   "codemirror_mode": {
    "name": "ipython",
    "version": 3
   },
   "file_extension": ".py",
   "mimetype": "text/x-python",
   "name": "python",
   "nbconvert_exporter": "python",
   "pygments_lexer": "ipython3",
   "version": "3.8.8"
  }
 },
 "nbformat": 4,
 "nbformat_minor": 5
}

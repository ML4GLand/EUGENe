{
 "cells": [
  {
   "cell_type": "markdown",
   "id": "90a88efe-ebb3-424c-8704-fb4ee189af2c",
   "metadata": {},
   "source": [
    "# 2021 OLS Exact Syntax Match Sequences Preprocessing Notebook"
   ]
  },
  {
   "cell_type": "markdown",
   "id": "2d058003-a667-4b45-9ddc-e47efe48e0e1",
   "metadata": {
    "tags": []
   },
   "source": [
    "**Authorship:**\n",
    "Adam Klie *11/17/2021*\n",
    "***\n",
    "\n",
    "**Description:**\n",
    "This data comes from genomic sequences of *Ciona intestinalis* that closely match the OLS library sequences. These sequences were electroporated into *Ciona* embryos and activity was assayed under the microscope. Classified as **functional** if anything except non-functional under the microscope.\n",
    "\n",
    "***\n",
    "**TODOs:**\n",
    " - <font color='green'> Load in and preprocess excel sheet </font>\n",
    " - <font color='green'> Preprocess into FASTA, labels and seq ids</font>\n",
    " - <font color='green'> Preprocess into ohe </font>\n",
    " - <font color='green'> Clean up notebook </font>\n",
    "***"
   ]
  },
  {
   "cell_type": "markdown",
   "id": "bca7c07f-c31c-4d7d-b83d-264c9c3e4ffd",
   "metadata": {
    "tags": []
   },
   "source": [
    "# Set-up"
   ]
  },
  {
   "cell_type": "code",
   "execution_count": 122,
   "id": "bc842cd1-e464-4a0e-9645-e0e1f0e83e82",
   "metadata": {
    "ExecuteTime": {
     "end_time": "2021-05-25T16:46:38.428847Z",
     "start_time": "2021-05-25T16:46:18.911625Z"
    },
    "execution": {
     "iopub.execute_input": "2021-11-27T06:59:15.403314Z",
     "iopub.status.busy": "2021-11-27T06:59:15.402760Z",
     "iopub.status.idle": "2021-11-27T06:59:17.365640Z",
     "shell.execute_reply": "2021-11-27T06:59:17.364812Z",
     "shell.execute_reply.started": "2021-11-27T06:59:15.403274Z"
    },
    "tags": []
   },
   "outputs": [],
   "source": [
    "# Classics\n",
    "import os\n",
    "import numpy as np\n",
    "import pandas as pd\n",
    "import tqdm\n",
    "import pickle\n",
    "\n",
    "# Autoreload extension\n",
    "if 'autoreload' not in get_ipython().extension_manager.loaded:\n",
    "    %load_ext autoreload\n",
    "\n",
    "%autoreload 2\n",
    "\n",
    "import sys\n",
    "sys.path.append(\"/cellar/users/aklie/projects/EUGENE/bin/\")\n",
    "import project_utils\n",
    "import otx_enhancer_utils"
   ]
  },
  {
   "cell_type": "code",
   "execution_count": 124,
   "id": "2c546b90-ff92-431f-ae0a-c98b87889fae",
   "metadata": {
    "execution": {
     "iopub.execute_input": "2021-11-27T07:00:15.464529Z",
     "iopub.status.busy": "2021-11-27T07:00:15.464238Z",
     "iopub.status.idle": "2021-11-27T07:00:16.894135Z",
     "shell.execute_reply": "2021-11-27T07:00:16.893361Z",
     "shell.execute_reply.started": "2021-11-27T07:00:15.464498Z"
    },
    "tags": []
   },
   "outputs": [],
   "source": [
    "# Training stats for mixed encodings\n",
    "PREPROCESS = \"0.09-0.4\"  # String defining the preprocessing for saving\n",
    "SPLIT = 0.9  # Split into training and test sets"
   ]
  },
  {
   "cell_type": "markdown",
   "id": "88fd5092-fe40-4c4f-95d1-1e1f596af80d",
   "metadata": {
    "tags": []
   },
   "source": [
    "# Load data to preprocess"
   ]
  },
  {
   "cell_type": "code",
   "execution_count": 125,
   "id": "f878b89f-3855-4b1e-887f-c11383047062",
   "metadata": {
    "execution": {
     "iopub.execute_input": "2021-11-27T07:00:18.427041Z",
     "iopub.status.busy": "2021-11-27T07:00:18.426748Z",
     "iopub.status.idle": "2021-11-27T07:00:20.097615Z",
     "shell.execute_reply": "2021-11-27T07:00:20.096941Z",
     "shell.execute_reply.started": "2021-11-27T07:00:18.427009Z"
    },
    "tags": []
   },
   "outputs": [
    {
     "data": {
      "text/html": [
       "<div>\n",
       "<style scoped>\n",
       "    .dataframe tbody tr th:only-of-type {\n",
       "        vertical-align: middle;\n",
       "    }\n",
       "\n",
       "    .dataframe tbody tr th {\n",
       "        vertical-align: top;\n",
       "    }\n",
       "\n",
       "    .dataframe thead th {\n",
       "        text-align: right;\n",
       "    }\n",
       "</style>\n",
       "<table border=\"1\" class=\"dataframe\">\n",
       "  <thead>\n",
       "    <tr style=\"text-align: right;\">\n",
       "      <th></th>\n",
       "      <th>NAME</th>\n",
       "      <th>SEQ</th>\n",
       "      <th>FXN_LABEL</th>\n",
       "      <th>FXN_DESCRIPTION</th>\n",
       "      <th>TILE</th>\n",
       "      <th>SEQ_LEN</th>\n",
       "    </tr>\n",
       "  </thead>\n",
       "  <tbody>\n",
       "    <tr>\n",
       "      <th>0</th>\n",
       "      <td>EM.Ci1</td>\n",
       "      <td>CCTATCTTAGATATTGAACAATTTCCTTTTCGAAAACTTCCGTTAG...</td>\n",
       "      <td>1</td>\n",
       "      <td>WT Control</td>\n",
       "      <td>Full</td>\n",
       "      <td>53</td>\n",
       "    </tr>\n",
       "    <tr>\n",
       "      <th>1</th>\n",
       "      <td>EM.Dr1</td>\n",
       "      <td>TTTTCCAGTTGCGATATTTTTGGTATTTATCTTCAGGAAATCACTA...</td>\n",
       "      <td>1</td>\n",
       "      <td>b-lineage only</td>\n",
       "      <td>Full</td>\n",
       "      <td>61</td>\n",
       "    </tr>\n",
       "    <tr>\n",
       "      <th>2</th>\n",
       "      <td>EM.Ggd1</td>\n",
       "      <td>CAGATATGGTACCTTGCGATATTATAGTCAGGAAGCATGGAAAGAA...</td>\n",
       "      <td>0</td>\n",
       "      <td>No expr</td>\n",
       "      <td>Full</td>\n",
       "      <td>53</td>\n",
       "    </tr>\n",
       "    <tr>\n",
       "      <th>3</th>\n",
       "      <td>EM.Mm6</td>\n",
       "      <td>AATATCTGTTTATCACCAAAGGAAGTCAAGACAGGAACTATGCAGA...</td>\n",
       "      <td>0</td>\n",
       "      <td>No expr</td>\n",
       "      <td>Full</td>\n",
       "      <td>58</td>\n",
       "    </tr>\n",
       "    <tr>\n",
       "      <th>4</th>\n",
       "      <td>EM.Hs9</td>\n",
       "      <td>CATATCTACAAAGGAAGTAACCATACGATAGTATAAAATGATAGAA...</td>\n",
       "      <td>0</td>\n",
       "      <td>No expr</td>\n",
       "      <td>Full</td>\n",
       "      <td>65</td>\n",
       "    </tr>\n",
       "  </tbody>\n",
       "</table>\n",
       "</div>"
      ],
      "text/plain": [
       "      NAME                                                SEQ  FXN_LABEL  \\\n",
       "0   EM.Ci1  CCTATCTTAGATATTGAACAATTTCCTTTTCGAAAACTTCCGTTAG...          1   \n",
       "1   EM.Dr1  TTTTCCAGTTGCGATATTTTTGGTATTTATCTTCAGGAAATCACTA...          1   \n",
       "2  EM.Ggd1  CAGATATGGTACCTTGCGATATTATAGTCAGGAAGCATGGAAAGAA...          0   \n",
       "3   EM.Mm6  AATATCTGTTTATCACCAAAGGAAGTCAAGACAGGAACTATGCAGA...          0   \n",
       "4   EM.Hs9  CATATCTACAAAGGAAGTAACCATACGATAGTATAAAATGATAGAA...          0   \n",
       "\n",
       "  FXN_DESCRIPTION  TILE  SEQ_LEN  \n",
       "0      WT Control  Full       53  \n",
       "1  b-lineage only  Full       61  \n",
       "2         No expr  Full       53  \n",
       "3         No expr  Full       58  \n",
       "4         No expr  Full       65  "
      ]
     },
     "execution_count": 125,
     "metadata": {},
     "output_type": "execute_result"
    }
   ],
   "source": [
    "# Load the excel spreadsheet with the sequences and functional annotation\n",
    "dataset = pd.read_excel(\"data4adam.xlsx\", sheet_name=0)\n",
    "dataset.columns = [\"NAME\", \"SEQ\", \"FXN_LABEL\", \"FXN_DESCRIPTION\"]\n",
    "dataset[\"TILE\"] = \"Full\"\n",
    "dataset[\"SEQ_LEN\"] = dataset[\"SEQ\"].apply(len)\n",
    "dataset.head()"
   ]
  },
  {
   "cell_type": "code",
   "execution_count": 126,
   "id": "ef7d23ba-fbf5-434e-8305-39596ea0e2d0",
   "metadata": {
    "execution": {
     "iopub.execute_input": "2021-11-27T07:00:20.099301Z",
     "iopub.status.busy": "2021-11-27T07:00:20.099062Z",
     "iopub.status.idle": "2021-11-27T07:00:21.814661Z",
     "shell.execute_reply": "2021-11-27T07:00:21.813684Z",
     "shell.execute_reply.started": "2021-11-27T07:00:20.099271Z"
    },
    "tags": []
   },
   "outputs": [
    {
     "data": {
      "text/plain": [
       "1    7\n",
       "0    6\n",
       "Name: FXN_LABEL, dtype: int64"
      ]
     },
     "execution_count": 126,
     "metadata": {},
     "output_type": "execute_result"
    }
   ],
   "source": [
    "# Save non-tiled dataframe in standard format\n",
    "dataset.to_csv(\"2021_OLS_Exact_Syntax_Match.tsv\", index=False, sep=\"\\t\")\n",
    "\n",
    "# Double check valid labeling\n",
    "dataset[\"FXN_LABEL\"].value_counts()"
   ]
  },
  {
   "cell_type": "markdown",
   "id": "22b290d1-eed4-4990-adb6-dbbc573b388b",
   "metadata": {},
   "source": [
    "# Save labels, IDs, and Seqs"
   ]
  },
  {
   "cell_type": "markdown",
   "id": "88130e70-0743-4c73-bcd7-b634434ea9e9",
   "metadata": {
    "tags": []
   },
   "source": [
    "### **Binary Labels**\n",
    "0 (non-functional) and 1 (functional). These are all the same"
   ]
  },
  {
   "cell_type": "code",
   "execution_count": 127,
   "id": "e6816cfa-3f89-4353-8f0c-819e688edc1f",
   "metadata": {
    "execution": {
     "iopub.execute_input": "2021-11-27T07:00:22.483948Z",
     "iopub.status.busy": "2021-11-27T07:00:22.483559Z",
     "iopub.status.idle": "2021-11-27T07:00:25.065143Z",
     "shell.execute_reply": "2021-11-27T07:00:25.063904Z",
     "shell.execute_reply.started": "2021-11-27T07:00:22.483904Z"
    },
    "tags": []
   },
   "outputs": [
    {
     "name": "stdout",
     "output_type": "stream",
     "text": [
      "13 binary/y_binary.txt\n"
     ]
    }
   ],
   "source": [
    "# Save the labels\n",
    "if not os.path.isdir(\"binary\"):\n",
    "    os.makedirs(\"binary\")\n",
    "\n",
    "y = dataset[\"FXN_LABEL\"].values\n",
    "np.savetxt(\"binary/y_binary.txt\", X=y, fmt=\"%d\")\n",
    "\n",
    "!wc -l binary/*"
   ]
  },
  {
   "cell_type": "markdown",
   "id": "4456d4c3-aa72-43a1-8027-c24f7a407154",
   "metadata": {
    "tags": []
   },
   "source": [
    "### **Identifiers**\n",
    "Name of the sequence to identify it"
   ]
  },
  {
   "cell_type": "code",
   "execution_count": 128,
   "id": "289efa30-ea1f-4ebb-8ace-6c233980fa97",
   "metadata": {
    "execution": {
     "iopub.execute_input": "2021-11-27T07:00:25.068622Z",
     "iopub.status.busy": "2021-11-27T07:00:25.068211Z",
     "iopub.status.idle": "2021-11-27T07:00:27.292746Z",
     "shell.execute_reply": "2021-11-27T07:00:27.291820Z",
     "shell.execute_reply.started": "2021-11-27T07:00:25.068567Z"
    },
    "tags": []
   },
   "outputs": [
    {
     "name": "stdout",
     "output_type": "stream",
     "text": [
      "13 id/id.txt\n"
     ]
    }
   ],
   "source": [
    "# Save the ids\n",
    "if not os.path.isdir(\"id\"):\n",
    "    os.makedirs(\"id\")\n",
    "    \n",
    "ID = dataset[\"NAME\"].values\n",
    "np.savetxt(\"id/id.txt\", X=ID, fmt=\"%s\")\n",
    "\n",
    "!wc -l id/*"
   ]
  },
  {
   "cell_type": "markdown",
   "id": "b17a5c71-cde1-4e98-9a17-bf1453809938",
   "metadata": {
    "tags": []
   },
   "source": [
    "### **Sequences**\n",
    "ACGT..."
   ]
  },
  {
   "cell_type": "code",
   "execution_count": 129,
   "id": "ae4dacb5-23d9-4bc4-b2c9-4306150e4e1a",
   "metadata": {
    "execution": {
     "iopub.execute_input": "2021-11-27T07:00:28.659903Z",
     "iopub.status.busy": "2021-11-27T07:00:28.659594Z",
     "iopub.status.idle": "2021-11-27T07:00:30.910076Z",
     "shell.execute_reply": "2021-11-27T07:00:30.909177Z",
     "shell.execute_reply.started": "2021-11-27T07:00:28.659868Z"
    },
    "tags": []
   },
   "outputs": [
    {
     "name": "stdout",
     "output_type": "stream",
     "text": [
      "13 seqs/seqs.txt\n"
     ]
    }
   ],
   "source": [
    "# Save the seqs\n",
    "if not os.path.isdir(\"seqs\"):\n",
    "    os.makedirs(\"seqs\")\n",
    "    \n",
    "X_seqs = dataset[\"SEQ\"].values\n",
    "np.savetxt(\"seqs/seqs.txt\", X=X_seqs, fmt=\"%s\")\n",
    "\n",
    "!wc -l seqs/*"
   ]
  },
  {
   "cell_type": "markdown",
   "id": "c3ced0aa-de42-405b-b072-36e9e1ec1fec",
   "metadata": {
    "tags": []
   },
   "source": [
    "# Preprocess and save different feature sets"
   ]
  },
  {
   "cell_type": "markdown",
   "id": "c26e6e06-dffe-4835-9617-a8a9fa42c083",
   "metadata": {
    "execution": {
     "iopub.execute_input": "2021-07-25T17:07:34.934142Z",
     "iopub.status.busy": "2021-07-25T17:07:34.933858Z",
     "iopub.status.idle": "2021-07-25T17:07:35.592499Z",
     "shell.execute_reply": "2021-07-25T17:07:35.590921Z",
     "shell.execute_reply.started": "2021-07-25T17:07:34.934106Z"
    },
    "tags": []
   },
   "source": [
    "## **<u>Sequence feature idea 1 </u>**: One hot encoding block features\n",
    " - linker_{1-5} could be a one hot encoded vector of length 6 that can be any of L1-L5 --> e.g., [0, 1, 0, 0, 0] encodes S2\n",
    " - TFBS_{1-5} could be a one hot encoded vector of length 10 that can be G{1-3}R, G{1-3}F, E{1,2}F, E{1,2}R\n",
    " - **Note**: L6 is only S6"
   ]
  },
  {
   "cell_type": "code",
   "execution_count": 130,
   "id": "aef58587-507f-4e1e-bbd2-c589b686a5fb",
   "metadata": {
    "execution": {
     "iopub.execute_input": "2021-11-27T07:00:36.584643Z",
     "iopub.status.busy": "2021-11-27T07:00:36.584355Z",
     "iopub.status.idle": "2021-11-27T07:00:38.304784Z",
     "shell.execute_reply": "2021-11-27T07:00:38.304027Z",
     "shell.execute_reply.started": "2021-11-27T07:00:36.584608Z"
    },
    "tags": []
   },
   "outputs": [],
   "source": [
    "#TODO Would need to also include the closest linker without being reduntant?"
   ]
  },
  {
   "cell_type": "markdown",
   "id": "0e1cfabb-a0bc-4f57-9205-f69add49be48",
   "metadata": {
    "tags": []
   },
   "source": [
    "## **<u>Sequence feature idea 2 </u>**: Mixed encodings "
   ]
  },
  {
   "cell_type": "code",
   "execution_count": 142,
   "id": "264b597f-1f35-4f9b-a8c9-9f29d4b69425",
   "metadata": {
    "execution": {
     "iopub.execute_input": "2021-11-28T01:34:23.479217Z",
     "iopub.status.busy": "2021-11-28T01:34:23.478979Z",
     "iopub.status.idle": "2021-11-28T01:34:25.125753Z",
     "shell.execute_reply": "2021-11-28T01:34:25.125113Z",
     "shell.execute_reply.started": "2021-11-28T01:34:23.479188Z"
    },
    "tags": []
   },
   "outputs": [
    {
     "name": "stderr",
     "output_type": "stream",
     "text": [
      "13it [00:00, 106.34it/s]\n"
     ]
    },
    {
     "data": {
      "text/plain": [
       "((13, 21), (13, 26), (13, 21), 13)"
      ]
     },
     "execution_count": 142,
     "metadata": {},
     "output_type": "execute_result"
    }
   ],
   "source": [
    "X_mixed1s, X_mixed2s, X_mixed3s, valid_idxs = otx_enhancer_utils.mixed_encode(dataset)\n",
    "X_mixed1s.shape, X_mixed2s.shape, X_mixed3s.shape, len(valid_idxs)"
   ]
  },
  {
   "cell_type": "code",
   "execution_count": 143,
   "id": "344f7fe7-5beb-48bc-8fa3-2de73a431d8c",
   "metadata": {
    "execution": {
     "iopub.execute_input": "2021-11-28T01:34:25.127209Z",
     "iopub.status.busy": "2021-11-28T01:34:25.126981Z",
     "iopub.status.idle": "2021-11-28T01:34:26.595203Z",
     "shell.execute_reply": "2021-11-28T01:34:26.594495Z",
     "shell.execute_reply.started": "2021-11-28T01:34:25.127155Z"
    },
    "tags": []
   },
   "outputs": [
    {
     "data": {
      "text/plain": [
       "(array([ 0.        ,  0.        ,  0.        ,  0.44555489, -1.        ,\n",
       "         0.        ,  1.        ,  0.32103457,  5.        ,  1.        ,\n",
       "         0.        ,  0.39163576,  7.        ,  1.        ,  0.        ,\n",
       "         0.58195404,  2.        ,  0.        ,  1.        ,  0.84677173,\n",
       "         0.        ]),\n",
       " array([ 0.        ,  0.        ,  0.        ,  0.44555489, -1.        ,\n",
       "        -1.        ,  0.        ,  0.        ,  0.32103457,  1.        ,\n",
       "         5.        ,  0.39163576, -1.        ,  0.        ,  0.        ,\n",
       "         7.        ,  0.58195404, -1.        ,  0.        ,  0.        ,\n",
       "         2.        ,  0.        ,  0.        ,  0.84677173,  1.        ,\n",
       "         0.        ]),\n",
       " array([ 0.        ,  0.        ,  0.44555489,  0.        , -1.        ,\n",
       "         0.        ,  0.32103457,  1.        ,  5.        ,  0.39163576,\n",
       "         0.        ,  0.        ,  7.        ,  0.58195404,  0.        ,\n",
       "         0.        ,  2.        ,  0.        ,  0.84677173,  1.        ,\n",
       "         0.        ]))"
      ]
     },
     "execution_count": 143,
     "metadata": {},
     "output_type": "execute_result"
    }
   ],
   "source": [
    "X_mixed1s[0], X_mixed2s[0], X_mixed3s[0]"
   ]
  },
  {
   "cell_type": "markdown",
   "id": "5a4e6eac-5b2e-4fc0-a24f-ff202617d1a1",
   "metadata": {
    "tags": []
   },
   "source": [
    "### *Mixed 1.0*\n",
    " - Replace binding sites using dictionary\n",
    " - Separate based on these binding sites and add create \"dummy variables\"\n",
    " - Get lengths of linkers around binding sites"
   ]
  },
  {
   "cell_type": "code",
   "execution_count": 144,
   "id": "1b50b754-a180-4cd5-87d0-0bdd41d30d3d",
   "metadata": {
    "execution": {
     "iopub.execute_input": "2021-11-28T01:35:59.477965Z",
     "iopub.status.busy": "2021-11-28T01:35:59.477712Z",
     "iopub.status.idle": "2021-11-28T01:36:01.709478Z",
     "shell.execute_reply": "2021-11-28T01:36:01.708631Z",
     "shell.execute_reply.started": "2021-11-28T01:35:59.477937Z"
    },
    "tags": []
   },
   "outputs": [
    {
     "name": "stdout",
     "output_type": "stream",
     "text": [
      "-rw-r--r-- 1 aklie carter-users 2312 Nov 27 17:36 mixed_1.0/0.09-0.4_0.9-split_X-test_mixed-1.0.npy\n",
      "-rw-r--r-- 1 aklie carter-users 2312 Nov 26 13:50 mixed_1.0/0.18-0.4_0.9-split_X-test_mixed-1.0.npy\n",
      "-rw-r--r-- 1 aklie carter-users   92 Nov 26 23:02 mixed_1.0/id-valid.txt\n",
      "-rw-r--r-- 1 aklie carter-users   92 Nov 27 17:36 mixed_1.0/valid_id.txt\n"
     ]
    }
   ],
   "source": [
    "# Load in training stats\n",
    "with open(\"../2021_OLS_Library/mixed_1.0/{}_X-train-{}_stats.pickle\".format(PREPROCESS, SPLIT), 'rb') as handle:\n",
    "    train_stats = pickle.load(handle)\n",
    "scale_indeces = train_stats[\"indeces\"]\n",
    "\n",
    "# Full sequences\n",
    "X_mixed1s[:, scale_indeces] -= train_stats[\"means\"]\n",
    "X_mixed1s[:, scale_indeces] /= train_stats[\"stds\"]\n",
    "\n",
    "# Save the vals\n",
    "if not os.path.isdir(\"mixed_1.0\"):\n",
    "    os.makedirs(\"mixed_1.0\")\n",
    "    \n",
    "np.save(\"mixed_1.0/{}_{}-split_X-test_mixed-1.0\".format(PREPROCESS, SPLIT), X_mixed1s)\n",
    "np.savetxt(\"mixed_1.0/valid_id.txt\", X=ID[valid_idxs], fmt=\"%s\")\n",
    "\n",
    "!ls -l mixed_1.0/*"
   ]
  },
  {
   "cell_type": "markdown",
   "id": "ab14c429-a22d-4d32-9a21-deb10a5200e9",
   "metadata": {
    "tags": []
   },
   "source": [
    "### *Mixed 2.0*\n",
    " - Replace binding sites using dictionary\n",
    " - 4 bit vector for each binding site [ets_affinity ets_orientation gata_affinity gata_orientation] - ties together the identity to affinity\n",
    " - Get lengths of linkers around binding sites"
   ]
  },
  {
   "cell_type": "code",
   "execution_count": 145,
   "id": "2e9dfd06-6cd1-4c47-8ea4-f836727daed6",
   "metadata": {
    "execution": {
     "iopub.execute_input": "2021-11-28T01:36:01.711638Z",
     "iopub.status.busy": "2021-11-28T01:36:01.711304Z",
     "iopub.status.idle": "2021-11-28T01:36:04.082762Z",
     "shell.execute_reply": "2021-11-28T01:36:04.081959Z",
     "shell.execute_reply.started": "2021-11-28T01:36:01.711591Z"
    },
    "tags": []
   },
   "outputs": [
    {
     "name": "stdout",
     "output_type": "stream",
     "text": [
      "-rw-r--r-- 1 aklie carter-users 2832 Nov 27 17:36 mixed_2.0/0.09-0.4_0.9-split_X-test_mixed-2.0.npy\n",
      "-rw-r--r-- 1 aklie carter-users 2832 Nov 26 13:51 mixed_2.0/0.18-0.4_0.9-split_X-test_mixed-2.0.npy\n",
      "-rw-r--r-- 1 aklie carter-users   92 Nov 26 23:02 mixed_2.0/id-valid.txt\n",
      "-rw-r--r-- 1 aklie carter-users   92 Nov 27 17:36 mixed_2.0/valid_id.txt\n"
     ]
    }
   ],
   "source": [
    "# Load in training stats\n",
    "with open(\"../2021_OLS_Library/mixed_2.0/{}_X-train-{}_stats.pickle\".format(PREPROCESS, SPLIT), 'rb') as handle:\n",
    "    train_stats = pickle.load(handle)\n",
    "scale_indeces = train_stats[\"indeces\"]\n",
    "\n",
    "# Full sequences\n",
    "X_mixed2s[:, scale_indeces] -= train_stats[\"means\"]\n",
    "X_mixed2s[:, scale_indeces] /= train_stats[\"stds\"]\n",
    "\n",
    "# Save the vals\n",
    "if not os.path.isdir(\"mixed_2.0\"):\n",
    "    os.makedirs(\"mixed_2.0\")\n",
    "    \n",
    "np.save(\"mixed_2.0/{}_{}-split_X-test_mixed-2.0\".format(PREPROCESS, SPLIT), X_mixed2s)\n",
    "np.savetxt(\"mixed_2.0/valid_id.txt\", X=ID[valid_idxs], fmt=\"%s\")\n",
    "\n",
    "!ls -l mixed_2.0/*"
   ]
  },
  {
   "cell_type": "markdown",
   "id": "0830a560-ed68-4134-b462-e72bad6e27dd",
   "metadata": {
    "tags": []
   },
   "source": [
    "### *Mixed 3.0*\n",
    " - Replace binding sites using dictionary\n",
    " - 3 bit vector for each binding site [ets_affinity gata_affinity orientation] - ties together the identity to affinity while removing redundant info from mixed-2.0\n",
    " - Get lengths of linkers around binding sites"
   ]
  },
  {
   "cell_type": "code",
   "execution_count": 146,
   "id": "0d6e88bb-0fd7-47df-a2f2-63eaaa93743e",
   "metadata": {
    "execution": {
     "iopub.execute_input": "2021-11-28T01:36:04.084466Z",
     "iopub.status.busy": "2021-11-28T01:36:04.084246Z",
     "iopub.status.idle": "2021-11-28T01:36:06.321520Z",
     "shell.execute_reply": "2021-11-28T01:36:06.320779Z",
     "shell.execute_reply.started": "2021-11-28T01:36:04.084436Z"
    },
    "tags": []
   },
   "outputs": [
    {
     "name": "stdout",
     "output_type": "stream",
     "text": [
      "-rw-r--r-- 1 aklie carter-users 2312 Nov 27 17:36 mixed_3.0/0.09-0.4_0.9-split_X-test_mixed-3.0.npy\n",
      "-rw-r--r-- 1 aklie carter-users 2312 Nov 26 13:52 mixed_3.0/0.18-0.4_0.9-split_X-test_mixed-3.0.npy\n",
      "-rw-r--r-- 1 aklie carter-users   92 Nov 26 23:02 mixed_3.0/id-valid.txt\n",
      "-rw-r--r-- 1 aklie carter-users   92 Nov 27 17:36 mixed_3.0/valid_id.txt\n"
     ]
    }
   ],
   "source": [
    "# Load in training stats\n",
    "with open(\"../2021_OLS_Library/mixed_3.0/{}_X-train-{}_stats.pickle\".format(PREPROCESS, SPLIT), 'rb') as handle:\n",
    "    train_stats = pickle.load(handle)\n",
    "scale_indeces = train_stats[\"indeces\"]\n",
    "\n",
    "# Full sequences\n",
    "X_mixed3s[:, scale_indeces] -= train_stats[\"means\"]\n",
    "X_mixed3s[:, scale_indeces] /= train_stats[\"stds\"]\n",
    "# Save the vals\n",
    "if not os.path.isdir(\"mixed_3.0\"):\n",
    "    os.makedirs(\"mixed_3.0\")\n",
    "    \n",
    "np.save(\"mixed_3.0/{}_{}-split_X-test_mixed-3.0\".format(PREPROCESS, SPLIT), X_mixed3s)\n",
    "np.savetxt(\"mixed_3.0/valid_id.txt\", X=ID[valid_idxs], fmt=\"%s\")\n",
    "\n",
    "!ls -l mixed_3.0/*"
   ]
  },
  {
   "cell_type": "markdown",
   "id": "647acb8a-63c7-44d4-bd35-30d78c181ef1",
   "metadata": {
    "tags": []
   },
   "source": [
    "## **<u>Sequence feature idea 3 </u>**: Use the actual sequence (one-hot encoded)\n",
    " - One hot encoded sequence: each position is encoded as a 1-D vector of size 4 e.g., AT is [[1,0,0,0], [0,0,0,1]]\n",
    " - Generally, we will get inputs of size (len(seq) X 4). The above example would be of size 2x4\n",
    " - Can also save the string seqs in case those are also useful down the line"
   ]
  },
  {
   "cell_type": "markdown",
   "id": "acc0c610-c8b0-4d94-9dac-d9aafe566730",
   "metadata": {},
   "source": [
    "**Q** Are all sequences the same length"
   ]
  },
  {
   "cell_type": "code",
   "execution_count": 135,
   "id": "e23d63ed-991b-4dae-bf75-70a748e7ca5c",
   "metadata": {
    "execution": {
     "iopub.execute_input": "2021-11-27T07:02:22.205303Z",
     "iopub.status.busy": "2021-11-27T07:02:22.205037Z",
     "iopub.status.idle": "2021-11-27T07:02:23.961333Z",
     "shell.execute_reply": "2021-11-27T07:02:23.960113Z",
     "shell.execute_reply.started": "2021-11-27T07:02:22.205269Z"
    },
    "tags": []
   },
   "outputs": [
    {
     "data": {
      "text/plain": [
       "53    4\n",
       "58    3\n",
       "65    2\n",
       "63    2\n",
       "54    1\n",
       "61    1\n",
       "Name: SEQ, dtype: int64"
      ]
     },
     "execution_count": 135,
     "metadata": {},
     "output_type": "execute_result"
    }
   ],
   "source": [
    "# Check the lengths of sequences to make sure they are all the same\n",
    "dataset[\"SEQ\"].apply(len).value_counts()"
   ]
  },
  {
   "cell_type": "markdown",
   "id": "4c00f016-dbc6-456a-bd0d-900830351573",
   "metadata": {},
   "source": [
    "**Answer**: Nope"
   ]
  },
  {
   "cell_type": "markdown",
   "id": "e77d2ce0-1712-45df-9bf4-e0bda0e98bed",
   "metadata": {
    "tags": []
   },
   "source": [
    "### *Forward Encoding*"
   ]
  },
  {
   "cell_type": "markdown",
   "id": "25796b93-16d8-49a4-b798-f069d1ff4199",
   "metadata": {},
   "source": [
    "**Full sequences**"
   ]
  },
  {
   "cell_type": "code",
   "execution_count": 136,
   "id": "215583bc-1e4d-45c8-9a62-648b0bf41508",
   "metadata": {
    "execution": {
     "iopub.execute_input": "2021-11-27T07:02:23.963211Z",
     "iopub.status.busy": "2021-11-27T07:02:23.962890Z",
     "iopub.status.idle": "2021-11-27T07:02:25.583451Z",
     "shell.execute_reply": "2021-11-27T07:02:25.582424Z",
     "shell.execute_reply.started": "2021-11-27T07:02:23.963177Z"
    },
    "tags": []
   },
   "outputs": [
    {
     "name": "stderr",
     "output_type": "stream",
     "text": [
      "100%|██████████| 13/13 [00:00<00:00, 548.72it/s]"
     ]
    },
    {
     "name": "stdout",
     "output_type": "stream",
     "text": [
      "Encoded 13 seqs\n",
      "Checking all 13 seqs for proper encoding\n",
      "Sequence encoding was great success\n"
     ]
    },
    {
     "name": "stderr",
     "output_type": "stream",
     "text": [
      "\n",
      "/cellar/users/aklie/projects/EUGENE/bin/project_utils.py:172: VisibleDeprecationWarning: Creating an ndarray from ragged nested sequences (which is a list-or-tuple of lists-or-tuples-or ndarrays with different lengths or shapes) is deprecated. If you meant to do this, you must specify 'dtype=object' when creating the ndarray.\n",
      "  if l < 1000:\n"
     ]
    },
    {
     "data": {
      "text/plain": [
       "('CCTAT',\n",
       " array([[0., 1., 0., 0.],\n",
       "        [0., 1., 0., 0.],\n",
       "        [0., 0., 0., 1.],\n",
       "        [1., 0., 0., 0.],\n",
       "        [0., 0., 0., 1.]]))"
      ]
     },
     "execution_count": 136,
     "metadata": {},
     "output_type": "execute_result"
    }
   ],
   "source": [
    "# Get the sequences only\n",
    "X_seqs = [seq.upper().strip() for seq in dataset[\"SEQ\"].values]\n",
    "X_ohe_seq = project_utils.ohe_seqs(X_seqs)\n",
    "\n",
    "# Save the seqs\n",
    "if not os.path.isdir(\"ohe_seq\"):\n",
    "    os.makedirs(\"ohe_seq\")\n",
    "    \n",
    "# Save in binary format\n",
    "np.save(\"ohe_seq/X_ohe-seq\", X_ohe_seq)\n",
    "\n",
    "# Quick check\n",
    "X_seqs[0][:5], X_ohe_seq[0][:5]"
   ]
  },
  {
   "cell_type": "markdown",
   "id": "a6c4898c-0b6a-4256-b395-cf23cd3fea11",
   "metadata": {
    "tags": []
   },
   "source": [
    "### *Reverse encoding*"
   ]
  },
  {
   "cell_type": "markdown",
   "id": "fd3f1f76-25ed-4f6b-a905-a0c24b226042",
   "metadata": {},
   "source": [
    "**Full sequences**"
   ]
  },
  {
   "cell_type": "code",
   "execution_count": 137,
   "id": "3cf08dc8-c719-4155-aee8-f450bb270ae3",
   "metadata": {
    "execution": {
     "iopub.execute_input": "2021-11-27T07:02:25.585146Z",
     "iopub.status.busy": "2021-11-27T07:02:25.584893Z",
     "iopub.status.idle": "2021-11-27T07:02:27.112649Z",
     "shell.execute_reply": "2021-11-27T07:02:27.111822Z",
     "shell.execute_reply.started": "2021-11-27T07:02:25.585116Z"
    },
    "tags": []
   },
   "outputs": [
    {
     "name": "stderr",
     "output_type": "stream",
     "text": [
      "100%|██████████| 13/13 [00:00<00:00, 641.72it/s]"
     ]
    },
    {
     "name": "stdout",
     "output_type": "stream",
     "text": [
      "Encoded 13 seqs\n",
      "Checking all 13 seqs for proper encoding\n",
      "Sequence encoding was great success\n"
     ]
    },
    {
     "name": "stderr",
     "output_type": "stream",
     "text": [
      "\n",
      "/cellar/users/aklie/projects/EUGENE/bin/project_utils.py:172: VisibleDeprecationWarning: Creating an ndarray from ragged nested sequences (which is a list-or-tuple of lists-or-tuples-or ndarrays with different lengths or shapes) is deprecated. If you meant to do this, you must specify 'dtype=object' when creating the ndarray.\n",
      "  if l < 1000:\n"
     ]
    },
    {
     "data": {
      "text/plain": [
       "('GTTAT',\n",
       " array([[0., 0., 1., 0.],\n",
       "        [0., 0., 0., 1.],\n",
       "        [0., 0., 0., 1.],\n",
       "        [1., 0., 0., 0.],\n",
       "        [0., 0., 0., 1.]]))"
      ]
     },
     "execution_count": 137,
     "metadata": {},
     "output_type": "execute_result"
    }
   ],
   "source": [
    "# Get the reverse encodings\n",
    "X_rev_seqs = np.array([\"\".join({'A': 'T', 'C': 'G', 'G': 'C', 'T': 'A'}.get(base, base) for base in reversed(seq)) for seq in X_seqs])\n",
    "X_ohe_rev_seq = project_utils.ohe_seqs(X_rev_seqs)\n",
    "\n",
    "# Save the seqs\n",
    "if not os.path.isdir(\"ohe_seq\"):\n",
    "    os.makedirs(\"ohe_seq\")\n",
    "    \n",
    "# Save in binary format\n",
    "np.save(\"ohe_seq/X_ohe-seq-rev\", X_ohe_rev_seq)\n",
    "\n",
    "# Quick check\n",
    "X_rev_seqs[0][:5], X_ohe_rev_seq[0][:5]"
   ]
  },
  {
   "cell_type": "markdown",
   "id": "59350c92-1067-47f6-a7b5-c51429274f62",
   "metadata": {
    "tags": []
   },
   "source": [
    "## **<u>Sequence feature idea 4 </u>**: Use the actual sequence (as fasta)"
   ]
  },
  {
   "cell_type": "code",
   "execution_count": 138,
   "id": "34927231-2b89-4b08-83a1-f231746c375d",
   "metadata": {
    "execution": {
     "iopub.execute_input": "2021-11-27T07:02:27.114330Z",
     "iopub.status.busy": "2021-11-27T07:02:27.114061Z",
     "iopub.status.idle": "2021-11-27T07:02:29.694476Z",
     "shell.execute_reply": "2021-11-27T07:02:29.693664Z",
     "shell.execute_reply.started": "2021-11-27T07:02:27.114297Z"
    },
    "tags": []
   },
   "outputs": [
    {
     "name": "stdout",
     "output_type": "stream",
     "text": [
      "26 fasta/X_fasta.fa\n"
     ]
    }
   ],
   "source": [
    "# Save full sequences in fasta format\n",
    "if not os.path.isdir(\"fasta\"):\n",
    "    os.makedirs(\"fasta\")\n",
    "    \n",
    "file = open(\"fasta/X_fasta.fa\", \"w\")\n",
    "for i, enh in dataset.iterrows():\n",
    "    file.write(\">\" + ID[i] + \"\\n\" + X_seqs[i].upper().strip() + \"\\n\")\n",
    "file.close()\n",
    "\n",
    "!wc -l fasta/*"
   ]
  },
  {
   "cell_type": "markdown",
   "id": "bd920fa2-b02f-4486-9536-7243bc900883",
   "metadata": {
    "tags": []
   },
   "source": [
    "# Final Checks"
   ]
  },
  {
   "cell_type": "code",
   "execution_count": 139,
   "id": "508dd958-b2e6-4d6a-8105-48bd83996536",
   "metadata": {
    "execution": {
     "iopub.execute_input": "2021-11-27T07:02:29.696299Z",
     "iopub.status.busy": "2021-11-27T07:02:29.696037Z",
     "iopub.status.idle": "2021-11-27T07:02:32.167105Z",
     "shell.execute_reply": "2021-11-27T07:02:32.166261Z",
     "shell.execute_reply.started": "2021-11-27T07:02:29.696266Z"
    },
    "tags": []
   },
   "outputs": [
    {
     "name": "stdout",
     "output_type": "stream",
     "text": [
      "\u001b[38;5;33m.\u001b[0m\n",
      "├── 2021_OLS_Exact_Syntax_Match.ipynb\n",
      "├── 2021_OLS_Exact_Syntax_Match.tsv\n",
      "├── \u001b[38;5;33mbinary\u001b[0m\n",
      "│   └── y_binary.txt\n",
      "├── data4adam.xlsx\n",
      "├── \u001b[38;5;33mfasta\u001b[0m\n",
      "│   └── X_fasta.fa\n",
      "├── \u001b[38;5;33mid\u001b[0m\n",
      "│   └── id.txt\n",
      "├── \u001b[38;5;33mmixed_1.0\u001b[0m\n",
      "│   ├── 0.09-0.4_0.9-split_X-test_mixed-1.0.npy\n",
      "│   ├── 0.18-0.4_0.9-split_X-test_mixed-1.0.npy\n",
      "│   └── valid_id.txt\n",
      "├── \u001b[38;5;33mmixed_2.0\u001b[0m\n",
      "│   ├── 0.09-0.4_0.9-split_X-test_mixed-2.0.npy\n",
      "│   ├── 0.18-0.4_0.9-split_X-test_mixed-2.0.npy\n",
      "│   └── valid_id.txt\n",
      "├── \u001b[38;5;33mmixed_3.0\u001b[0m\n",
      "│   ├── 0.09-0.4_0.9-split_X-test_mixed-3.0.npy\n",
      "│   ├── 0.18-0.4_0.9-split_X-test_mixed-3.0.npy\n",
      "│   └── valid_id.txt\n",
      "├── \u001b[38;5;33mohe_seq\u001b[0m\n",
      "│   ├── X_ohe-seq.npy\n",
      "│   └── X_ohe-seq-rev.npy\n",
      "└── \u001b[38;5;33mseqs\u001b[0m\n",
      "    └── seqs.txt\n",
      "\n",
      "8 directories, 18 files\n"
     ]
    }
   ],
   "source": [
    "!tree -L 2"
   ]
  },
  {
   "cell_type": "code",
   "execution_count": 140,
   "id": "13819d95-f4e5-46ac-9ac7-1278e2159a32",
   "metadata": {
    "execution": {
     "iopub.execute_input": "2021-11-27T07:02:32.169005Z",
     "iopub.status.busy": "2021-11-27T07:02:32.168767Z",
     "iopub.status.idle": "2021-11-27T07:02:34.258370Z",
     "shell.execute_reply": "2021-11-27T07:02:34.257522Z",
     "shell.execute_reply.started": "2021-11-27T07:02:32.168971Z"
    },
    "tags": []
   },
   "outputs": [
    {
     "name": "stdout",
     "output_type": "stream",
     "text": [
      ">EM.Ci1\n",
      "CCTATCTTAGATATTGAACAATTTCCTTTTCGAAAACTTCCGTTAGAGATAAC\n",
      ">EM.Dr1\n",
      "TTTTCCAGTTGCGATATTTTTGGTATTTATCTTCAGGAAATCACTAAAGGCATGTTATCTT\n",
      ">EM.Ggd1\n",
      "CAGATATGGTACCTTGCGATATTATAGTCAGGAAGCATGGAAAGAAAGATAGC\n",
      ">EM.Mm6\n",
      "AATATCTGTTTATCACCAAAGGAAGTCAAGACAGGAACTATGCAGAATATTTGATATG\n",
      ">EM.Hs9\n",
      "CATATCTACAAAGGAAGTAACCATACGATAGTATAAAATGATAGAACAAAAGTGTCTTTGGAATT\n",
      "EM.Ci1\n",
      "EM.Dr1\n",
      "EM.Ggd1\n",
      "EM.Mm6\n",
      "EM.Hs9\n"
     ]
    }
   ],
   "source": [
    "%%bash\n",
    "head fasta/X_fasta.fa\n",
    "head -n 5 id/id.txt"
   ]
  },
  {
   "cell_type": "markdown",
   "id": "7fddfcab-8659-471f-ac58-cd76fdde58cd",
   "metadata": {
    "tags": [],
    "toc-hr-collapsed": true
   },
   "source": [
    "# Scratch"
   ]
  },
  {
   "cell_type": "code",
   "execution_count": 71,
   "id": "89808bef-24bb-4689-90fc-802170fdb09f",
   "metadata": {
    "execution": {
     "iopub.execute_input": "2021-11-23T04:08:28.185607Z",
     "iopub.status.busy": "2021-11-23T04:08:28.185329Z",
     "iopub.status.idle": "2021-11-23T04:08:29.189510Z",
     "shell.execute_reply": "2021-11-23T04:08:29.188779Z",
     "shell.execute_reply.started": "2021-11-23T04:08:28.185578Z"
    },
    "tags": []
   },
   "outputs": [],
   "source": [
    "def findEtsAndGataCores(seq, cores={\"ETS_FORWARD\": [\"GGAA\",\"GGAT\"], \"ETS_REVERSE\": [\"TTCC\", \"ATCC\"], \"GATA_FORWARD\": [\"GATA\"], \"GATA_REVERSE\": [\"TATC\"]}):\n",
    "    core_pos = {}\n",
    "    #core_pos = {\"ETS\":[], \"GATA\":[]}\n",
    "    #core_orient = {\"ETS\":[], \"GATA\":[]}\n",
    "    for i in range(len(seq)):\n",
    "        if seq[i:i+4] in cores[\"ETS_FORWARD\"]:\n",
    "            #core_pos[\"ETS\"].append(i)\n",
    "            #core_orient[\"ETS\"].append(\"F\")\n",
    "            core_pos.setdefault(i, []).append(\"ETS\")\n",
    "            core_pos[i].append(\"F\")\n",
    "            \n",
    "        elif seq[i:i+4] in cores[\"ETS_REVERSE\"]:\n",
    "            #core_pos[\"ETS\"].append(i)\n",
    "            #core_orient[\"ETS\"].append(\"R\")\n",
    "            core_pos.setdefault(i, []).append(\"ETS\")\n",
    "            core_pos[i].append(\"R\")\n",
    "            \n",
    "        elif seq[i:i+4] in cores[\"GATA_FORWARD\"]:\n",
    "            #core_pos[\"GATA\"].append(i)\n",
    "            #core_orient[\"GATA\"].append(\"F\")\n",
    "            core_pos.setdefault(i, []).append(\"GATA\")\n",
    "            core_pos[i].append(\"F\")\n",
    "            \n",
    "        elif seq[i:i+4] in cores[\"GATA_REVERSE\"]:\n",
    "            #core_pos[\"GATA\"].append(i)\n",
    "            #core_orient[\"GATA\"].append(\"R\")\n",
    "            core_pos.setdefault(i, []).append(\"GATA\")\n",
    "            core_pos[i].append(\"R\")\n",
    "     \n",
    "    return core_pos\n",
    "    #return core_pos, core_orient\n",
    "\n",
    "def findTFBSAffinity(seq, cores, ets_aff_file, gata_aff_file):\n",
    "    #bs_affs = {\"ETS\":[], \"GATA\":[]}\n",
    "    #bs = {\"ETS\":[], \"GATA\":[]}\n",
    "    ets_aff = otx_enhancer_utils.loadEtsAff(ets_aff_file)\n",
    "    gata_aff = otx_enhancer_utils.loadGata6Aff(gata_aff_file)\n",
    "    \n",
    "    for pos in cores.keys():\n",
    "        cores[pos].append(seq[pos-2:pos+6])\n",
    "        if cores[pos][0] == \"ETS\":\n",
    "            cores[pos].append(ets_aff[seq[pos-2:pos+6]])\n",
    "        elif cores[pos][0] == \"GATA\":\n",
    "            cores[pos].append(gata_aff[seq[pos-2:pos+6]])\n",
    "    return cores\n",
    "    #for tf in cores.keys():\n",
    "    #    for pos in cores[tf]:\n",
    "    #        if tf == \"ETS\":\n",
    "    #            bs[\"ETS\"].append(seq[pos-2:pos+6])\n",
    "    #            bs_affs[\"ETS\"].append(ets_aff[seq[pos-2:pos+6]])\n",
    "    #        elif tf == \"GATA\":\n",
    "    #            bs[\"GATA\"].append(seq[pos-2:pos+6])\n",
    "    #            bs_affs[\"GATA\"].append(ets_aff[seq[pos-2:pos+6]])\n",
    "    #return bs, bs_affs\n",
    "\n",
    "def findSpacingBetweenTFBS(cores):\n",
    "    #bs_before_spacings = {}\n",
    "    #bs_after_spacings = {}\n",
    "    #all_core_pos = sorted(list(set().union(*cores.values())))\n",
    "    sorted_core_pos = sorted(list(test_cores.keys()))\n",
    "    previous_pos = 0\n",
    "    for i, pos in enumerate(sorted_core_pos):\n",
    "        #print(i, pos, pos-2, pos+5, end=\" \")\n",
    "        if i == 0:\n",
    "            cores[pos].append((pos-2)-(previous_pos))\n",
    "            #print((pos-2)-previous_pos)\n",
    "        else:\n",
    "            cores[pos].append((pos-2)-(previous_pos)-1)\n",
    "            #print((pos-2)-previous_pos-1)\n",
    "        previous_pos = pos+5\n",
    "    return cores\n",
    "\n",
    "def defineTFBS(seq):\n",
    "    tfbs = findEtsAndGataCores(seq)\n",
    "    tfbs = findTFBSAffinity(seq, tfbs, \"../auxiliary/parsed_Ets1_8mers.txt\", \"../auxiliary/parsed_Gata6_3769_contig8mers.txt\")\n",
    "    tfbs = findSpacingBetweenTFBS(tfbs)\n",
    "    return tfbs\n",
    "\n",
    "def hamming_distance(string1, string2): \n",
    "    distance = 0\n",
    "    L = len(string1)\n",
    "    if L != len(string2):\n",
    "        return np.inf\n",
    "    for i in range(L):\n",
    "        if string1[i] != string2[i]:\n",
    "            distance += 1\n",
    "    return distance\n",
    "\n",
    "\n",
    "def findClosestOLSMatch(tfbs_dict, match_dict):\n",
    "    for pos, bs in tfbs_dict.items():\n",
    "        seq = bs[2]\n",
    "        closest_match = None\n",
    "        #print(seq)\n",
    "        min_distance = np.inf\n",
    "        for key, val in match_dict.items():\n",
    "            #print(key, val)\n",
    "            if key == \"G2F\":\n",
    "                dist = hamming_distance(seq[1:], match_dict[key])\n",
    "            elif key == \"G2R\":\n",
    "                dist = hamming_distance(seq[:-1], match_dict[key])\n",
    "            else:\n",
    "                dist = hamming_distance(seq, match_dict[key])\n",
    "            if dist < min_distance:\n",
    "                min_distance = dist\n",
    "                closest_match = key\n",
    "        tfbs_dict[pos].append(closest_match)\n",
    "        tfbs_dict[pos].append(match_dict[closest_match])\n",
    "        tfbs_dict[pos].append(min_distance)\n",
    "    return tfbs_dict"
   ]
  },
  {
   "cell_type": "code",
   "execution_count": 125,
   "id": "65dd09fa-9cc2-468f-978b-9fc603c0e409",
   "metadata": {
    "execution": {
     "iopub.execute_input": "2021-11-23T06:23:03.191533Z",
     "iopub.status.busy": "2021-11-23T06:23:03.191248Z",
     "iopub.status.idle": "2021-11-23T06:23:04.361800Z",
     "shell.execute_reply": "2021-11-23T06:23:04.361122Z",
     "shell.execute_reply.started": "2021-11-23T06:23:03.191502Z"
    },
    "tags": []
   },
   "outputs": [
    {
     "data": {
      "text/plain": [
       "{2: ['GATA', 'R', 'CCTATCTT', 0.44555488676087596, 0, 'G3R', 'CCTATCTT', 0],\n",
       " 9: ['GATA', 'F', 'TAGATATT', 0.32103457131865104, -1, 'G2F', 'AGATATT', 0],\n",
       " 22: ['ETS', 'R', 'ATTTCCTT', 0.39163576347437207, 5, 'E2R', 'ATTTCCTT', 0],\n",
       " 37: ['ETS', 'R', 'ACTTCCGT', 0.5819540373459362, 7, 'E1R', 'ACTTCCGT', 0],\n",
       " 47: ['GATA', 'F', 'GAGATAAC', 0.8467717279226579, 2, 'G1F', 'GAGATAAC', 0]}"
      ]
     },
     "execution_count": 125,
     "metadata": {},
     "output_type": "execute_result"
    }
   ],
   "source": [
    "test_seq = dataset[\"seq\"].iloc[0]\n",
    "test_tfbs = defineTFBS(test_seq)\n",
    "findClosestOLSMatch(test_tfbs, OLS_SITE_SEQ)"
   ]
  },
  {
   "cell_type": "code",
   "execution_count": 8,
   "id": "a1db42f3-175d-4397-afdc-3a619ed13dc9",
   "metadata": {
    "execution": {
     "iopub.execute_input": "2021-11-23T03:21:52.648061Z",
     "iopub.status.busy": "2021-11-23T03:21:52.647774Z",
     "iopub.status.idle": "2021-11-23T03:21:53.747420Z",
     "shell.execute_reply": "2021-11-23T03:21:53.746469Z",
     "shell.execute_reply.started": "2021-11-23T03:21:52.648031Z"
    },
    "tags": []
   },
   "outputs": [
    {
     "name": "stdout",
     "output_type": "stream",
     "text": [
      "{'ETS': [22, 37], 'GATA': [2, 9, 47]} {'ETS': ['R', 'R'], 'GATA': ['R', 'F', 'F']}\n",
      "ETS:22 TTCC\tETS:37 TTCC\tGATA:2 TATC\tGATA:9 GATA\tGATA:47 GATA\t\n",
      "{'ETS': ['ATTTCCTT', 'ACTTCCGT'], 'GATA': ['CCTATCTT', 'TAGATATT', 'GAGATAAC']} {'ETS': [0.39163576347437207, 0.5819540373459362], 'GATA': [0.10379684367660279, 0.107313254961063, 0.10241362293259179]}\n"
     ]
    }
   ],
   "source": [
    "test_seq = dataset[\"seq\"].iloc[0]\n",
    "test_cores, test_orients = findEtsAndGataCores(test_seq)\n",
    "print(test_cores, test_orients)\n",
    "for key in test_cores.keys():\n",
    "    for value in test_cores[key]:\n",
    "        print(key + \":\" + str(value), test_seq[value:value+4], end=\"\\t\")\n",
    "print()\n",
    "test_bs, test_bs_affs = v\n",
    "print(test_bs, test_bs_affs)"
   ]
  },
  {
   "cell_type": "code",
   "execution_count": 122,
   "id": "4068cb41-275a-43d7-ab97-3fc920caa1e5",
   "metadata": {
    "execution": {
     "iopub.execute_input": "2021-11-23T06:22:29.979699Z",
     "iopub.status.busy": "2021-11-23T06:22:29.979401Z",
     "iopub.status.idle": "2021-11-23T06:22:31.140011Z",
     "shell.execute_reply": "2021-11-23T06:22:31.139247Z",
     "shell.execute_reply.started": "2021-11-23T06:22:29.979667Z"
    },
    "tags": []
   },
   "outputs": [],
   "source": [
    "# Load dictionaries\n",
    "ETS_AFF = otx_enhancer_utils.loadEtsAff(\"../auxiliary/parsed_Ets1_8mers.txt\")\n",
    "GATA_AFF = otx_enhancer_utils.loadGata6Aff(\"../auxiliary/parsed_Gata6_3769_contig8mers.txt\")\n",
    "OLS_SITE_AFF = otx_enhancer_utils.loadBindingSiteName2affinities(\"../auxiliary/bindingSiteName2affinities.pkl\")\n",
    "OLS_SITE_SEQ = otx_enhancer_utils.loadBindingSiteName2affinities(\"../auxiliary/siteName2bindingSiteSequence.pkl\")"
   ]
  },
  {
   "cell_type": "code",
   "execution_count": 133,
   "id": "aebdd4c8-b008-4c29-aa32-25b80c61eddc",
   "metadata": {
    "execution": {
     "iopub.execute_input": "2021-11-23T06:34:08.083485Z",
     "iopub.status.busy": "2021-11-23T06:34:08.083186Z",
     "iopub.status.idle": "2021-11-23T06:34:09.847657Z",
     "shell.execute_reply": "2021-11-23T06:34:09.846880Z",
     "shell.execute_reply.started": "2021-11-23T06:34:08.083453Z"
    },
    "tags": []
   },
   "outputs": [
    {
     "data": {
      "text/plain": [
       "{2: ['GATA', 'R', 'CCTATCTT', 0.44555488676087596, 0, 'G3R', 'CCTATCTT', 0],\n",
       " 9: ['GATA', 'F', 'TAGATATT', 0.32103457131865104, -1, 'G2F', 'AGATATT', 0],\n",
       " 22: ['ETS', 'R', 'ATTTCCTT', 0.39163576347437207, 5, 'E2R', 'ATTTCCTT', 0],\n",
       " 37: ['ETS', 'R', 'ACTTCCGT', 0.5819540373459362, 7, 'E1R', 'ACTTCCGT', 0],\n",
       " 47: ['GATA', 'F', 'GAGATAAC', 0.8467717279226579, 2, 'G1F', 'GAGATAAC', 0]}"
      ]
     },
     "execution_count": 133,
     "metadata": {},
     "output_type": "execute_result"
    }
   ],
   "source": [
    "otx_enhancer_utils.defineTFBS(dataset[\"seq\"].iloc[0])"
   ]
  },
  {
   "cell_type": "code",
   "execution_count": 115,
   "id": "b9fadb4b-fd20-419b-bb61-bd8a1c91cd11",
   "metadata": {
    "execution": {
     "iopub.execute_input": "2021-11-26T19:36:26.298648Z",
     "iopub.status.busy": "2021-11-26T19:36:26.298370Z",
     "iopub.status.idle": "2021-11-26T19:36:31.391135Z",
     "shell.execute_reply": "2021-11-26T19:36:31.390077Z",
     "shell.execute_reply.started": "2021-11-26T19:36:26.298616Z"
    },
    "tags": []
   },
   "outputs": [
    {
     "name": "stderr",
     "output_type": "stream",
     "text": [
      "13it [00:02,  5.05it/s]\n"
     ]
    },
    {
     "name": "stdout",
     "output_type": "stream",
     "text": [
      "total 3\n",
      "-rw-r--r-- 1 aklie carter-users 2312 Nov 26 11:36 0.18-0.4_0.9-split_X-test_mixed-1.0.npy\n"
     ]
    },
    {
     "data": {
      "text/plain": [
       "((13, 21),\n",
       " [0,\n",
       "  'G',\n",
       "  'R',\n",
       "  0.44555488676087596,\n",
       "  -1,\n",
       "  'G',\n",
       "  'F',\n",
       "  0.32103457131865104,\n",
       "  5,\n",
       "  'E',\n",
       "  'R',\n",
       "  0.39163576347437207,\n",
       "  7,\n",
       "  'E',\n",
       "  'R',\n",
       "  0.5819540373459362,\n",
       "  2,\n",
       "  'G',\n",
       "  'F',\n",
       "  0.8467717279226579,\n",
       "  0],\n",
       " array([-1.22502958,  0.        ,  0.        , -0.4896724 , -1.46094887,\n",
       "         0.        ,  1.        , -1.06454571, -0.01487938,  1.        ,\n",
       "         0.        , -0.71835913,  0.46118317,  1.        ,  0.        ,\n",
       "         0.21853976, -0.73632483,  0.        ,  1.        ,  1.51181242,\n",
       "        -2.96917909]))"
      ]
     },
     "execution_count": 115,
     "metadata": {},
     "output_type": "execute_result"
    }
   ],
   "source": [
    "mixed1_encoding = []\n",
    "for i, (row_num, enh_data) in tqdm.tqdm(enumerate(dataset.iterrows())):\n",
    "    seq = enh_data[\"SEQ\"]\n",
    "    enh_tfbs = otx_enhancer_utils.defineTFBS(seq)\n",
    "    enh_encoding = []\n",
    "    for pos, tfbs in enh_tfbs.items():\n",
    "        if tfbs[0] == \"ETS\":\n",
    "            enh_encoding += [tfbs[4], \"E\", tfbs[1], tfbs[3]]\n",
    "        elif tfbs[0] == \"GATA\":\n",
    "            enh_encoding += [tfbs[4], \"G\", tfbs[1], tfbs[3]]\n",
    "    enh_encoding.append(len(seq)-(pos+5)-1)\n",
    "    mixed1_encoding.append(enh_encoding)\n",
    "\n",
    "# Replace strings with one hot encoding\n",
    "X_mixed1 = (\n",
    "    pd.DataFrame(mixed1_encoding)\n",
    "    .replace({\"G\": 0, \"E\": 1, \"R\": 0, \"F\": 1})\n",
    ")\n",
    "X_mixed1 = X_mixed1.values\n",
    "\n",
    "# Load in training stats\n",
    "with open(\"../2021_OLS_Library/mixed_1.0/{}_X-train-{}_stats.pickle\".format(PREPROCESS, SPLIT), 'rb') as handle:\n",
    "    train_stats = pickle.load(handle)\n",
    "\n",
    "# Z-score test set\n",
    "scale_indeces = train_stats[\"indeces\"]\n",
    "X_mixed1[:, scale_indeces] -= train_stats[\"means\"]\n",
    "X_mixed1[:, scale_indeces] /= train_stats[\"stds\"]\n",
    "\n",
    "# Save the vals\n",
    "if not os.path.isdir(\"mixed_1.0\"):\n",
    "    os.makedirs(\"mixed_1.0\")\n",
    "    \n",
    "np.save(\"mixed_1.0/{}_{}-split_X-test_mixed-1.0\".format(PREPROCESS, SPLIT), X_mixed1)\n",
    "\n",
    "!ls -l mixed_1.0\n",
    "\n",
    "X_mixed1.shape, mixed1_encoding[0], X_mixed1[0]"
   ]
  },
  {
   "cell_type": "code",
   "execution_count": 116,
   "id": "61de1431-311a-44fd-8c41-02d13786c8fe",
   "metadata": {
    "execution": {
     "iopub.execute_input": "2021-11-26T19:36:33.299586Z",
     "iopub.status.busy": "2021-11-26T19:36:33.299302Z",
     "iopub.status.idle": "2021-11-26T19:36:38.454288Z",
     "shell.execute_reply": "2021-11-26T19:36:38.453098Z",
     "shell.execute_reply.started": "2021-11-26T19:36:33.299550Z"
    },
    "tags": []
   },
   "outputs": [
    {
     "name": "stderr",
     "output_type": "stream",
     "text": [
      "13it [00:02,  5.17it/s]\n"
     ]
    },
    {
     "name": "stdout",
     "output_type": "stream",
     "text": [
      "total 3\n",
      "-rw-r--r-- 1 aklie carter-users 2312 Nov 26 11:36 0.18-0.4_0.9-split_X-test_mixed-2.0.npy\n"
     ]
    },
    {
     "data": {
      "text/plain": [
       "((13, 26),\n",
       " [0,\n",
       "  0,\n",
       "  0,\n",
       "  0.44555488676087596,\n",
       "  'R',\n",
       "  -1,\n",
       "  0,\n",
       "  0,\n",
       "  0.32103457131865104,\n",
       "  'F',\n",
       "  5,\n",
       "  0.39163576347437207,\n",
       "  'R',\n",
       "  0,\n",
       "  0,\n",
       "  7,\n",
       "  0.5819540373459362,\n",
       "  'R',\n",
       "  0,\n",
       "  0,\n",
       "  2,\n",
       "  0,\n",
       "  0,\n",
       "  0.8467717279226579,\n",
       "  'F',\n",
       "  0],\n",
       " array([-1.22502958,  0.        ,  0.        ,  0.44555489,  0.        ,\n",
       "        -1.46094887,  0.        ,  0.        ,  0.32103457,  1.        ,\n",
       "        -0.01487938,  0.39163576,  0.        ,  0.        ,  0.        ,\n",
       "         0.46118317,  0.58195404,  0.        ,  0.        ,  0.        ,\n",
       "        -0.73632483,  0.        ,  0.        ,  0.84677173,  1.        ,\n",
       "        -2.96917909]))"
      ]
     },
     "execution_count": 116,
     "metadata": {},
     "output_type": "execute_result"
    }
   ],
   "source": [
    "mixed2_encoding = []\n",
    "for i, (row_num, enh_data) in tqdm.tqdm(enumerate(dataset.iterrows())):\n",
    "    seq = enh_data[\"SEQ\"]\n",
    "    enh_tfbs = otx_enhancer_utils.defineTFBS(seq)\n",
    "    enh_encoding = []\n",
    "    for pos, tfbs in enh_tfbs.items():\n",
    "        if tfbs[0] == \"ETS\":\n",
    "            enh_encoding += [tfbs[4], tfbs[3], tfbs[1], 0, 0]\n",
    "        elif tfbs[0] == \"GATA\":\n",
    "            enh_encoding += [tfbs[4], 0, 0, tfbs[3], tfbs[1]]\n",
    "    enh_encoding.append(len(seq)-(pos+5)-1)\n",
    "    mixed2_encoding.append(enh_encoding)\n",
    "\n",
    "# Replace strings with one hot encoding\n",
    "X_mixed2 = (\n",
    "    pd.DataFrame(mixed2_encoding)\n",
    "    .replace({\"G\": 0, \"E\": 1, \"R\": 0, \"F\": 1})\n",
    ")\n",
    "X_mixed2 = X_mixed2.values\n",
    "\n",
    "# Load in training stats\n",
    "with open(\"../2021_OLS_Library/mixed_2.0/{}_X-train-{}_stats.pickle\".format(PREPROCESS, SPLIT), 'rb') as handle:\n",
    "    train_stats = pickle.load(handle)\n",
    "\n",
    "# Z-score test set\n",
    "scale_indeces = train_stats[\"indeces\"]\n",
    "X_mixed2[:, scale_indeces] -= train_stats[\"means\"]\n",
    "X_mixed2[:, scale_indeces] /= train_stats[\"stds\"]\n",
    "\n",
    "# Save the vals\n",
    "if not os.path.isdir(\"mixed_2.0\"):\n",
    "    os.makedirs(\"mixed_2.0\")\n",
    "    \n",
    "np.save(\"mixed_2.0/{}_{}-split_X-test_mixed-2.0\".format(PREPROCESS, SPLIT), X_mixed1)\n",
    "\n",
    "!ls -l mixed_2.0\n",
    "\n",
    "X_mixed2.shape, mixed2_encoding[0], X_mixed2[0]"
   ]
  },
  {
   "cell_type": "code",
   "execution_count": 117,
   "id": "19d03eff-e488-4e51-a940-bea0934bc454",
   "metadata": {
    "execution": {
     "iopub.execute_input": "2021-11-26T19:36:38.456050Z",
     "iopub.status.busy": "2021-11-26T19:36:38.455798Z",
     "iopub.status.idle": "2021-11-26T19:36:43.256083Z",
     "shell.execute_reply": "2021-11-26T19:36:43.255250Z",
     "shell.execute_reply.started": "2021-11-26T19:36:38.456015Z"
    },
    "tags": []
   },
   "outputs": [
    {
     "name": "stderr",
     "output_type": "stream",
     "text": [
      "13it [00:02,  5.24it/s]\n"
     ]
    },
    {
     "name": "stdout",
     "output_type": "stream",
     "text": [
      "total 3\n",
      "-rw-r--r-- 1 aklie carter-users 2312 Nov 26 11:36 0.18-0.4_0.9-split_X-test_mixed-3.0.npy\n"
     ]
    },
    {
     "data": {
      "text/plain": [
       "((13, 21),\n",
       " [0,\n",
       "  0,\n",
       "  0.44555488676087596,\n",
       "  'R',\n",
       "  -1,\n",
       "  0,\n",
       "  0.32103457131865104,\n",
       "  'F',\n",
       "  5,\n",
       "  0.39163576347437207,\n",
       "  0,\n",
       "  'R',\n",
       "  7,\n",
       "  0.5819540373459362,\n",
       "  0,\n",
       "  'R',\n",
       "  2,\n",
       "  0,\n",
       "  0.8467717279226579,\n",
       "  'F',\n",
       "  0],\n",
       " array([-1.22502958,  0.        ,  0.44555489, -1.        , -1.46094887,\n",
       "         0.        ,  0.32103457,  1.        , -0.01487938,  0.39163576,\n",
       "         0.        , -1.        ,  0.46118317,  0.58195404,  0.        ,\n",
       "        -1.        , -0.73632483,  0.        ,  0.84677173,  1.        ,\n",
       "        -2.96917909]))"
      ]
     },
     "execution_count": 117,
     "metadata": {},
     "output_type": "execute_result"
    }
   ],
   "source": [
    "mixed3_encoding = []\n",
    "for i, (row_num, enh_data) in tqdm.tqdm(enumerate(dataset.iterrows())):\n",
    "    seq = enh_data[\"SEQ\"]\n",
    "    enh_tfbs = otx_enhancer_utils.defineTFBS(seq)\n",
    "    enh_encoding = []\n",
    "    for pos, tfbs in enh_tfbs.items():\n",
    "        if tfbs[0] == \"ETS\":\n",
    "            enh_encoding += [tfbs[4], tfbs[3], 0, tfbs[1]]\n",
    "        elif tfbs[0] == \"GATA\":\n",
    "            enh_encoding += [tfbs[4], 0, tfbs[3], tfbs[1]]\n",
    "    enh_encoding.append(len(seq)-(pos+5)-1)\n",
    "    mixed3_encoding.append(enh_encoding)\n",
    "\n",
    "# Replace strings with one hot encoding\n",
    "X_mixed3 = pd.DataFrame(mixed3_encoding).replace({\"R\": -1, \"F\": 1})\n",
    "X_mixed3 = X_mixed3.values\n",
    "\n",
    "# Load in training stats\n",
    "with open(\"../2021_OLS_Library/mixed_3.0/{}_X-train-{}_stats.pickle\".format(PREPROCESS, SPLIT), 'rb') as handle:\n",
    "    train_stats = pickle.load(handle)\n",
    "\n",
    "# Z-score test set\n",
    "scale_indeces = train_stats[\"indeces\"]\n",
    "X_mixed3[:, scale_indeces] -= train_stats[\"means\"]\n",
    "X_mixed3[:, scale_indeces] /= train_stats[\"stds\"]\n",
    "\n",
    "# Save the vals\n",
    "if not os.path.isdir(\"mixed_3.0\"):\n",
    "    os.makedirs(\"mixed_3.0\")\n",
    "    \n",
    "np.save(\"mixed_3.0/{}_{}-split_X-test_mixed-3.0\".format(PREPROCESS, SPLIT), X_mixed1)\n",
    "\n",
    "!ls -l mixed_3.0\n",
    "\n",
    "X_mixed3.shape, mixed3_encoding[0], X_mixed3[0]"
   ]
  },
  {
   "cell_type": "markdown",
   "id": "fc24f19f-3c9f-46db-927a-3a0e3897adcb",
   "metadata": {
    "tags": [],
    "toc-hr-collapsed": true
   },
   "source": [
    "# References"
   ]
  }
 ],
 "metadata": {
  "kernelspec": {
   "display_name": "Python3 ml_env",
   "language": "python",
   "name": "ml_env"
  },
  "language_info": {
   "codemirror_mode": {
    "name": "ipython",
    "version": 3
   },
   "file_extension": ".py",
   "mimetype": "text/x-python",
   "name": "python",
   "nbconvert_exporter": "python",
   "pygments_lexer": "ipython3",
   "version": "3.8.8"
  }
 },
 "nbformat": 4,
 "nbformat_minor": 5
}

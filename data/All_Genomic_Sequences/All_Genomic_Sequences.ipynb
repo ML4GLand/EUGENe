{
 "cells": [
  {
   "cell_type": "markdown",
   "id": "90a88efe-ebb3-424c-8704-fb4ee189af2c",
   "metadata": {
    "tags": []
   },
   "source": [
    "# Combining All Genomic Sequences Into Single Test Set Notebook"
   ]
  },
  {
   "cell_type": "markdown",
   "id": "2d058003-a667-4b45-9ddc-e47efe48e0e1",
   "metadata": {
    "tags": []
   },
   "source": [
    "**Authorship:**\n",
    "Adam Klie\n",
    "*11/27/2021*\n",
    "***\n",
    "**Description:**\n",
    "This notebook can be used to generate the necessary files that contain all the genomic sequences used for testing EUGENE models. The following datasets have been incorporated up to this point:\n",
    "\n",
    "1. 2010 Khoueiry et al\n",
    "2. 2021 GATA ETS Clusters\n",
    "3. 2021 OLS Exact Syntax Match\n",
    "***\n",
    "\n",
    "**TODOs:**\n",
    " - <font color='green'> Load in data from each encoding and concat in some way</font>\n",
    "***"
   ]
  },
  {
   "cell_type": "markdown",
   "id": "bca7c07f-c31c-4d7d-b83d-264c9c3e4ffd",
   "metadata": {
    "tags": []
   },
   "source": [
    "# Set-up"
   ]
  },
  {
   "cell_type": "code",
   "execution_count": 1,
   "id": "9fdb3d1a-e55e-412d-ad25-c924f8495e8a",
   "metadata": {
    "ExecuteTime": {
     "end_time": "2021-05-25T16:46:38.428847Z",
     "start_time": "2021-05-25T16:46:18.911625Z"
    },
    "execution": {
     "iopub.execute_input": "2022-01-27T17:49:06.149131Z",
     "iopub.status.busy": "2022-01-27T17:49:06.148911Z",
     "iopub.status.idle": "2022-01-27T17:50:18.295134Z",
     "shell.execute_reply": "2022-01-27T17:50:18.294658Z",
     "shell.execute_reply.started": "2022-01-27T17:49:06.149079Z"
    },
    "tags": []
   },
   "outputs": [],
   "source": [
    "# Classics\n",
    "import os\n",
    "import numpy as np\n",
    "import pandas as pd\n",
    "\n",
    "# Autoreload extension\n",
    "if 'autoreload' not in get_ipython().extension_manager.loaded:\n",
    "    %load_ext autoreload\n",
    "\n",
    "%autoreload 2\n",
    "\n",
    "import sys\n",
    "sys.path.append(\"/cellar/users/aklie/projects/EUGENE/bin/\")\n",
    "import project_utils\n",
    "import otx_enhancer_utils"
   ]
  },
  {
   "cell_type": "code",
   "execution_count": 2,
   "id": "96061b8e-dd64-4974-86c5-5ff3d1a42786",
   "metadata": {
    "execution": {
     "iopub.execute_input": "2022-01-27T17:50:18.296021Z",
     "iopub.status.busy": "2022-01-27T17:50:18.295906Z",
     "iopub.status.idle": "2022-01-27T17:50:19.759227Z",
     "shell.execute_reply": "2022-01-27T17:50:19.758884Z",
     "shell.execute_reply.started": "2022-01-27T17:50:18.296006Z"
    },
    "tags": []
   },
   "outputs": [],
   "source": [
    "# Training stats for mixed encodings\n",
    "PREPROCESS = \"0.18-0.4\"  # String defining the preprocessing for saving\n",
    "SPLIT = 0.9  # Split into training and test sets"
   ]
  },
  {
   "cell_type": "code",
   "execution_count": 3,
   "id": "ba6effae-4087-4cc7-9ea1-4e4f462b2199",
   "metadata": {
    "execution": {
     "iopub.execute_input": "2022-01-27T17:50:19.759956Z",
     "iopub.status.busy": "2022-01-27T17:50:19.759855Z",
     "iopub.status.idle": "2022-01-27T17:50:21.009996Z",
     "shell.execute_reply": "2022-01-27T17:50:21.009533Z",
     "shell.execute_reply.started": "2022-01-27T17:50:19.759942Z"
    },
    "tags": []
   },
   "outputs": [],
   "source": [
    "DATASETS = [\"2010_Khoueiry_CellPress\", \"2021_GATA_ETS_Clusters\", \"2021_OLS_Exact_Syntax_Match\"]"
   ]
  },
  {
   "cell_type": "markdown",
   "id": "88fd5092-fe40-4c4f-95d1-1e1f596af80d",
   "metadata": {
    "tags": []
   },
   "source": [
    "# Load data to preprocess"
   ]
  },
  {
   "cell_type": "markdown",
   "id": "fd124a2f-be9a-4e2e-a6f7-6ef894467aaa",
   "metadata": {},
   "source": [
    "## 1. Dataframes"
   ]
  },
  {
   "cell_type": "code",
   "execution_count": 4,
   "id": "b87b68fd-8f62-4fed-8f53-61d421c6b5ad",
   "metadata": {
    "execution": {
     "iopub.execute_input": "2022-01-27T17:50:21.010630Z",
     "iopub.status.busy": "2022-01-27T17:50:21.010530Z",
     "iopub.status.idle": "2022-01-27T17:50:22.935129Z",
     "shell.execute_reply": "2022-01-27T17:50:22.934842Z",
     "shell.execute_reply.started": "2022-01-27T17:50:21.010617Z"
    },
    "tags": []
   },
   "outputs": [
    {
     "name": "stdout",
     "output_type": "stream",
     "text": [
      "Reading in full seqs 2010_Khoueiry_CellPress\n",
      "Reading in tiled seqs 2010_Khoueiry_CellPress\n",
      "Reading in full seqs 2021_GATA_ETS_Clusters\n",
      "Reading in tiled seqs 2021_GATA_ETS_Clusters\n",
      "Reading in full seqs 2021_OLS_Exact_Syntax_Match\n"
     ]
    },
    {
     "data": {
      "text/plain": [
       "(42, 2235)"
      ]
     },
     "execution_count": 4,
     "metadata": {},
     "output_type": "execute_result"
    }
   ],
   "source": [
    "merged, merged_tiled = pd.DataFrame(), pd.DataFrame()\n",
    "for dataset in DATASETS:\n",
    "    path, path_tiled = \"../{0}/{0}.tsv\".format(dataset), \"../{0}/{0}-tiled.tsv\".format(dataset)\n",
    "    if os.path.exists(path):\n",
    "        print(\"Reading in full seqs {}\".format(dataset))\n",
    "        df = pd.read_csv(path, sep=\"\\t\")\n",
    "        df[\"DATASET\"] = dataset\n",
    "        merged = pd.concat([merged, df])\n",
    "    if os.path.exists(path_tiled):\n",
    "        print(\"Reading in tiled seqs {}\".format(dataset))\n",
    "        df = pd.read_csv(path_tiled, sep=\"\\t\")\n",
    "        df[\"DATASET\"] = dataset\n",
    "        merged_tiled = pd.concat([merged_tiled, df])\n",
    "merged.to_csv(\"All_Genomic_Sequences.tsv\", sep=\"\\t\", index=False)\n",
    "merged_tiled.to_csv(\"All_Genomic_Sequences-tiled.tsv\", sep=\"\\t\", index=False)\n",
    "len(merged), len(merged_tiled)"
   ]
  },
  {
   "cell_type": "markdown",
   "id": "01d88f07-cee4-4ba3-b84e-d3ca4824e78f",
   "metadata": {},
   "source": [
    "## 2. Labels"
   ]
  },
  {
   "cell_type": "code",
   "execution_count": 84,
   "id": "099ff156-8abb-4764-af6b-179c835a7d34",
   "metadata": {
    "execution": {
     "iopub.execute_input": "2021-11-28T01:47:24.953389Z",
     "iopub.status.busy": "2021-11-28T01:47:24.953039Z",
     "iopub.status.idle": "2021-11-28T01:47:28.680322Z",
     "shell.execute_reply": "2021-11-28T01:47:28.679583Z",
     "shell.execute_reply.started": "2021-11-28T01:47:24.953345Z"
    },
    "tags": []
   },
   "outputs": [
    {
     "name": "stdout",
     "output_type": "stream",
     "text": [
      "  42 binary/y_binary.txt\n",
      "2235 binary/y-tiled_binary.txt\n",
      "2277 total\n"
     ]
    }
   ],
   "source": [
    "if not os.path.exists(\"binary\"):\n",
    "    os.makedirs(\"binary\")\n",
    "\n",
    "!cat \\\n",
    "    ../2010_Khoueiry_CellPress/binary/y_binary.txt \\\n",
    "    ../2021_GATA_ETS_Clusters/binary/y_binary.txt \\\n",
    "    ../2021_OLS_Exact_Syntax_Match/binary/y_binary.txt \\\n",
    "    > binary/y_binary.txt\n",
    "\n",
    "!cat \\\n",
    "    ../2010_Khoueiry_CellPress/binary/y-tiled_binary.txt \\\n",
    "    ../2021_GATA_ETS_Clusters/binary/y-tiled_binary.txt \\\n",
    "    > binary/y-tiled_binary.txt\n",
    "\n",
    "!wc -l binary/*"
   ]
  },
  {
   "cell_type": "markdown",
   "id": "dd9eadf6-7f91-4477-a65f-b039183f1323",
   "metadata": {},
   "source": [
    "## IDs"
   ]
  },
  {
   "cell_type": "code",
   "execution_count": 85,
   "id": "c13e52c2-b3a3-4634-8391-645e97be4989",
   "metadata": {
    "execution": {
     "iopub.execute_input": "2021-11-28T01:47:28.681712Z",
     "iopub.status.busy": "2021-11-28T01:47:28.681452Z",
     "iopub.status.idle": "2021-11-28T01:47:32.816034Z",
     "shell.execute_reply": "2021-11-28T01:47:32.815331Z",
     "shell.execute_reply.started": "2021-11-28T01:47:28.681670Z"
    },
    "tags": []
   },
   "outputs": [
    {
     "name": "stdout",
     "output_type": "stream",
     "text": [
      " 2235 id/id-tiled.txt\n",
      "   42 id/id.txt\n",
      " 2277 total\n"
     ]
    }
   ],
   "source": [
    "if not os.path.exists(\"id\"):\n",
    "    os.makedirs(\"id\")\n",
    "\n",
    "!cat \\\n",
    "    ../2010_Khoueiry_CellPress/id/id.txt \\\n",
    "    ../2021_GATA_ETS_Clusters/id/id.txt \\\n",
    "    ../2021_OLS_Exact_Syntax_Match/id/id.txt \\\n",
    "    > id/id.txt\n",
    "\n",
    "!cat \\\n",
    "    ../2010_Khoueiry_CellPress/id/id-tiled.txt \\\n",
    "    ../2021_GATA_ETS_Clusters/id/id-tiled.txt \\\n",
    "    > id/id-tiled.txt\n",
    "\n",
    "!wc -l id/*"
   ]
  },
  {
   "cell_type": "markdown",
   "id": "a9aec8cf-e8ec-447b-acaf-5a172eb351bc",
   "metadata": {},
   "source": [
    "## 3. Seqs"
   ]
  },
  {
   "cell_type": "code",
   "execution_count": 86,
   "id": "31ebfadf-2448-4ce9-98ac-6fcd65cf4766",
   "metadata": {
    "execution": {
     "iopub.execute_input": "2021-11-28T01:47:32.817328Z",
     "iopub.status.busy": "2021-11-28T01:47:32.817096Z",
     "iopub.status.idle": "2021-11-28T01:47:36.197380Z",
     "shell.execute_reply": "2021-11-28T01:47:36.196607Z",
     "shell.execute_reply.started": "2021-11-28T01:47:32.817299Z"
    },
    "tags": []
   },
   "outputs": [
    {
     "name": "stdout",
     "output_type": "stream",
     "text": [
      "  2235 seqs/seqs-tiled.txt\n",
      "    42 seqs/seqs.txt\n",
      "  2277 total\n"
     ]
    }
   ],
   "source": [
    "if not os.path.exists(\"seqs\"):\n",
    "    os.makedirs(\"seqs\")\n",
    "\n",
    "!cat \\\n",
    "    ../2010_Khoueiry_CellPress/seqs/seqs.txt \\\n",
    "    ../2021_GATA_ETS_Clusters/seqs/seqs.txt \\\n",
    "    ../2021_OLS_Exact_Syntax_Match/seqs/seqs.txt \\\n",
    "    > seqs/seqs.txt\n",
    "\n",
    "!cat \\\n",
    "    ../2010_Khoueiry_CellPress/seqs/seqs-tiled.txt \\\n",
    "    ../2021_GATA_ETS_Clusters/seqs/seqs-tiled.txt \\\n",
    "    > seqs/seqs-tiled.txt\n",
    "\n",
    "!wc -l seqs/*"
   ]
  },
  {
   "cell_type": "markdown",
   "id": "1f36a003-6037-42a8-8946-89a83e515871",
   "metadata": {},
   "source": [
    "## 4. Mixed encodings"
   ]
  },
  {
   "cell_type": "code",
   "execution_count": 87,
   "id": "27737253-9178-4e74-9962-1e2f2c1da329",
   "metadata": {
    "execution": {
     "iopub.execute_input": "2021-11-28T01:47:36.199626Z",
     "iopub.status.busy": "2021-11-28T01:47:36.199393Z",
     "iopub.status.idle": "2021-11-28T01:47:39.739299Z",
     "shell.execute_reply": "2021-11-28T01:47:39.738544Z",
     "shell.execute_reply.started": "2021-11-28T01:47:36.199597Z"
    },
    "tags": []
   },
   "outputs": [
    {
     "name": "stdout",
     "output_type": "stream",
     "text": [
      "     8 mixed/0.09-0.4_0.9-split_X-test_mixed-1.0.npy\n",
      "    57 mixed/0.09-0.4_0.9-split_X-test_mixed-1.0-tiled.npy\n",
      "     5 mixed/0.09-0.4_0.9-split_X-test_mixed-2.0.npy\n",
      "    57 mixed/0.09-0.4_0.9-split_X-test_mixed-2.0-tiled.npy\n",
      "     5 mixed/0.09-0.4_0.9-split_X-test_mixed-3.0.npy\n",
      "    57 mixed/0.09-0.4_0.9-split_X-test_mixed-3.0-tiled.npy\n",
      "   228 mixed/id-valid-tiled.txt\n",
      "    22 mixed/id-valid.txt\n",
      "   439 total\n"
     ]
    }
   ],
   "source": [
    "if not os.path.exists(\"mixed\"):\n",
    "    os.makedirs(\"mixed\")\n",
    "\n",
    "!cat \\\n",
    "    ../2010_Khoueiry_CellPress/mixed_1.0/id-valid.txt \\\n",
    "    ../2021_GATA_ETS_Clusters/mixed_1.0/id-valid.txt \\\n",
    "    ../2021_OLS_Exact_Syntax_Match/mixed_1.0/id-valid.txt \\\n",
    "    > mixed/id-valid.txt\n",
    "\n",
    "!cat \\\n",
    "    ../2010_Khoueiry_CellPress/mixed_1.0/id-valid-tiled.txt \\\n",
    "    ../2021_GATA_ETS_Clusters/mixed_1.0/id-valid-tiled.txt \\\n",
    "    > mixed/id-valid-tiled.txt\n",
    "\n",
    "!wc -l mixed/*"
   ]
  },
  {
   "cell_type": "code",
   "execution_count": 88,
   "id": "fb8b2bb4-8e17-4449-abb3-c01ee498d284",
   "metadata": {
    "execution": {
     "iopub.execute_input": "2021-11-28T01:47:39.741413Z",
     "iopub.status.busy": "2021-11-28T01:47:39.741067Z",
     "iopub.status.idle": "2021-11-28T01:47:41.287658Z",
     "shell.execute_reply": "2021-11-28T01:47:41.287021Z",
     "shell.execute_reply.started": "2021-11-28T01:47:39.741368Z"
    },
    "tags": []
   },
   "outputs": [
    {
     "name": "stdout",
     "output_type": "stream",
     "text": [
      "Merging encoding: 1.0\n",
      "Reading full seqs in 2010_Khoueiry_CellPress\n",
      "Reading tiled seqs in 2010_Khoueiry_CellPress\n",
      "Reading full seqs in 2021_GATA_ETS_Clusters\n",
      "Reading tiled seqs in 2021_GATA_ETS_Clusters\n",
      "Reading full seqs in 2021_OLS_Exact_Syntax_Match\n",
      "(22, 21) (228, 21)\n",
      "Merging encoding: 2.0\n",
      "Reading full seqs in 2010_Khoueiry_CellPress\n",
      "Reading tiled seqs in 2010_Khoueiry_CellPress\n",
      "Reading full seqs in 2021_GATA_ETS_Clusters\n",
      "Reading tiled seqs in 2021_GATA_ETS_Clusters\n",
      "Reading full seqs in 2021_OLS_Exact_Syntax_Match\n",
      "(22, 26) (228, 26)\n",
      "Merging encoding: 3.0\n",
      "Reading full seqs in 2010_Khoueiry_CellPress\n",
      "Reading tiled seqs in 2010_Khoueiry_CellPress\n",
      "Reading full seqs in 2021_GATA_ETS_Clusters\n",
      "Reading tiled seqs in 2021_GATA_ETS_Clusters\n",
      "Reading full seqs in 2021_OLS_Exact_Syntax_Match\n",
      "(22, 21) (228, 21)\n"
     ]
    }
   ],
   "source": [
    "for encoding in [\"1.0\", \"2.0\", \"3.0\"]:\n",
    "    print(\"Merging encoding: {}\".format(encoding))\n",
    "    merged, merged_tiled = [], []\n",
    "    for dataset in DATASETS:\n",
    "        path = \"../{0}/mixed_{1}/{2}_{3}-split_X-test_mixed-{1}.npy\".format(dataset, encoding, PREPROCESS, SPLIT)\n",
    "        if os.path.exists(path):\n",
    "            print(\"Reading full seqs in {}\".format(dataset))\n",
    "            arr = np.load(path)\n",
    "            merged.append(arr)\n",
    "        path_tiled = \"../{0}/mixed_{1}/{2}_{3}-split_X-test_mixed-{1}-tiled.npy\".format(dataset, encoding, PREPROCESS, SPLIT)\n",
    "        if os.path.exists(path_tiled):\n",
    "            print(\"Reading tiled seqs in {}\".format(dataset))\n",
    "            arr_tiled = np.load(path_tiled)\n",
    "            merged_tiled.append(arr_tiled)\n",
    "    merged, merged_tiled = np.vstack(merged), np.vstack(merged_tiled)\n",
    "    print(merged.shape, merged_tiled.shape)\n",
    "    np.save(\"mixed/{1}_{2}-split_X-test_mixed-{3}\".format(dataset, PREPROCESS, SPLIT, encoding), arr=merged)\n",
    "    np.save(\"mixed/{1}_{2}-split_X-test_mixed-{3}-tiled\".format(dataset, PREPROCESS, SPLIT, encoding), arr=merged_tiled)"
   ]
  },
  {
   "cell_type": "markdown",
   "id": "6f74cf51-5647-462e-bda1-8b73f9a35ab3",
   "metadata": {},
   "source": [
    "## 4. One-hot seqs"
   ]
  },
  {
   "cell_type": "code",
   "execution_count": 89,
   "id": "171b0dc2-e40d-4685-ae91-5c92bb07c252",
   "metadata": {
    "execution": {
     "iopub.execute_input": "2021-11-28T01:47:41.288701Z",
     "iopub.status.busy": "2021-11-28T01:47:41.288506Z",
     "iopub.status.idle": "2021-11-28T01:47:42.687362Z",
     "shell.execute_reply": "2021-11-28T01:47:42.686573Z",
     "shell.execute_reply.started": "2021-11-28T01:47:41.288677Z"
    },
    "tags": []
   },
   "outputs": [
    {
     "name": "stdout",
     "output_type": "stream",
     "text": [
      "Reading forward and reverse seqs in 2010_Khoueiry_CellPress\n",
      "Reading forward and reverse seqs in 2021_GATA_ETS_Clusters\n",
      "Reading forward and reverse seqs in 2021_OLS_Exact_Syntax_Match\n"
     ]
    },
    {
     "name": "stderr",
     "output_type": "stream",
     "text": [
      "<ipython-input-89-754e9971799d>:12: VisibleDeprecationWarning: Creating an ndarray from ragged nested sequences (which is a list-or-tuple of lists-or-tuples-or ndarrays with different lengths or shapes) is deprecated. If you meant to do this, you must specify 'dtype=object' when creating the ndarray.\n",
      "  merged, merged_rev = np.array(merged), np.array(merged_rev)\n"
     ]
    },
    {
     "data": {
      "text/plain": [
       "(None, None)"
      ]
     },
     "execution_count": 89,
     "metadata": {},
     "output_type": "execute_result"
    }
   ],
   "source": [
    "if not os.path.exists(\"ohe_seq\"):\n",
    "    os.makedirs(\"ohe_seq\")\n",
    "\n",
    "merged, merged_rev = [], []\n",
    "for dataset in DATASETS:\n",
    "    path = \"../{0}/ohe_seq/X_ohe-seq.npy\".format(dataset)\n",
    "    path_rev = \"../{0}/ohe_seq/X_ohe-seq-rev.npy\".format(dataset)\n",
    "    if os.path.exists(path) and os.path.exists(path_rev):\n",
    "        print(\"Reading forward and reverse seqs in {}\".format(dataset))\n",
    "        arr, arr_rev = np.load(path, allow_pickle=True), np.load(path_rev, allow_pickle=True)\n",
    "        merged.append(arr), merged_rev.append(arr_rev)\n",
    "merged, merged_rev = np.array(merged), np.array(merged_rev)\n",
    "np.save(\"ohe_seq/X_ohe-seq.npy\", arr=merged), np.save(\"ohe_seq/X_ohe-seq-rev.npy\", arr=merged_rev)"
   ]
  },
  {
   "cell_type": "markdown",
   "id": "9caaebca-fb2b-4f73-a0ff-a77b0f809677",
   "metadata": {},
   "source": [
    "## 5. Fasta"
   ]
  },
  {
   "cell_type": "code",
   "execution_count": 90,
   "id": "9239cb91-8b71-4a4a-8e7c-77f83d50a513",
   "metadata": {
    "execution": {
     "iopub.execute_input": "2021-11-28T01:47:42.688967Z",
     "iopub.status.busy": "2021-11-28T01:47:42.688656Z",
     "iopub.status.idle": "2021-11-28T01:47:46.673856Z",
     "shell.execute_reply": "2021-11-28T01:47:46.672959Z",
     "shell.execute_reply.started": "2021-11-28T01:47:42.688926Z"
    },
    "tags": []
   },
   "outputs": [
    {
     "name": "stdout",
     "output_type": "stream",
     "text": [
      "cat: ../2010_Khoueiry_CellPress/fasta/X_fasta-tiled.fa: No such file or directory\n",
      "cat: ../2021_GATA_ETS_Clusters/fasta/X_fasta-tiled.fa: No such file or directory\n",
      "    84 fasta/X_fasta.fa\n",
      "     0 fasta/X_fasta-tiled.fa\n",
      "  4470 fasta/X-tiled_fasta.fa\n",
      "  4554 total\n"
     ]
    }
   ],
   "source": [
    "if not os.path.exists(\"fasta\"):\n",
    "    os.makedirs(\"fasta\")\n",
    "\n",
    "!cat \\\n",
    "    ../2010_Khoueiry_CellPress/fasta/X_fasta.fa \\\n",
    "    ../2021_GATA_ETS_Clusters/fasta/X_fasta.fa \\\n",
    "    ../2021_OLS_Exact_Syntax_Match/fasta/X_fasta.fa \\\n",
    "    > fasta/X_fasta.fa\n",
    "\n",
    "!cat \\\n",
    "    ../2010_Khoueiry_CellPress/fasta/X_fasta-tiled.fa \\\n",
    "    ../2021_GATA_ETS_Clusters/fasta/X_fasta-tiled.fa \\\n",
    "    > fasta/X_fasta-tiled.fa\n",
    "\n",
    "!wc -l fasta/*"
   ]
  },
  {
   "cell_type": "markdown",
   "id": "45de9739-bf68-49b3-bf51-2bc1af39687e",
   "metadata": {},
   "source": [
    "# Final Checks"
   ]
  },
  {
   "cell_type": "code",
   "execution_count": 91,
   "id": "fcb27e0f-2e7e-4eaa-ab98-3639a054d180",
   "metadata": {
    "execution": {
     "iopub.execute_input": "2021-11-28T01:47:46.676039Z",
     "iopub.status.busy": "2021-11-28T01:47:46.675624Z",
     "iopub.status.idle": "2021-11-28T01:47:48.399484Z",
     "shell.execute_reply": "2021-11-28T01:47:48.398760Z",
     "shell.execute_reply.started": "2021-11-28T01:47:46.675989Z"
    },
    "tags": []
   },
   "outputs": [
    {
     "name": "stdout",
     "output_type": "stream",
     "text": [
      "\u001b[38;5;33m.\u001b[0m\n",
      "├── All_Genomic_Sequences.ipynb\n",
      "├── All_Genomic_Sequences-tiled.tsv\n",
      "├── All_Genomic_Sequences.tsv\n",
      "├── \u001b[38;5;33mbinary\u001b[0m\n",
      "│   ├── y_binary.txt\n",
      "│   └── y-tiled_binary.txt\n",
      "├── \u001b[38;5;33mfasta\u001b[0m\n",
      "│   ├── X_fasta.fa\n",
      "│   ├── X_fasta-tiled.fa\n",
      "│   └── X-tiled_fasta.fa\n",
      "├── \u001b[38;5;33mid\u001b[0m\n",
      "│   ├── id-tiled.txt\n",
      "│   └── id.txt\n",
      "├── \u001b[38;5;33mmixed\u001b[0m\n",
      "│   ├── 0.09-0.4_0.9-split_X-test_mixed-1.0.npy\n",
      "│   ├── 0.09-0.4_0.9-split_X-test_mixed-1.0-tiled.npy\n",
      "│   ├── 0.09-0.4_0.9-split_X-test_mixed-2.0.npy\n",
      "│   ├── 0.09-0.4_0.9-split_X-test_mixed-2.0-tiled.npy\n",
      "│   ├── 0.09-0.4_0.9-split_X-test_mixed-3.0.npy\n",
      "│   ├── 0.09-0.4_0.9-split_X-test_mixed-3.0-tiled.npy\n",
      "│   ├── id-valid-tiled.txt\n",
      "│   └── id-valid.txt\n",
      "├── \u001b[38;5;33mohe_seq\u001b[0m\n",
      "│   ├── X_ohe-seq.npy\n",
      "│   └── X_ohe-seq-rev.npy\n",
      "└── \u001b[38;5;33mseqs\u001b[0m\n",
      "    ├── seqs-tiled.txt\n",
      "    └── seqs.txt\n",
      "\n",
      "6 directories, 22 files\n"
     ]
    }
   ],
   "source": [
    "!tree -L 2"
   ]
  },
  {
   "cell_type": "markdown",
   "id": "7fddfcab-8659-471f-ac58-cd76fdde58cd",
   "metadata": {
    "tags": [],
    "toc-hr-collapsed": true
   },
   "source": [
    "# Scratch"
   ]
  },
  {
   "cell_type": "markdown",
   "id": "7e4c2a37-e512-4524-8670-cc04fd9b7976",
   "metadata": {
    "tags": [],
    "toc-hr-collapsed": true
   },
   "source": [
    "## Old mixed encoding code"
   ]
  },
  {
   "cell_type": "code",
   "execution_count": null,
   "id": "5342083e-4ebe-4817-970c-50aa5e9e4fe4",
   "metadata": {},
   "outputs": [],
   "source": [
    "def encode_mixed1(seq):\n",
    "    enh_tfbs = defineTFBS(seq)\n",
    "    if len(enh_tfbs) != 5:\n",
    "        return -1\n",
    "    enh_encoding = []\n",
    "    for pos, tfbs in enh_tfbs.items():\n",
    "        if tfbs[0] == \"ETS\":\n",
    "            enh_encoding += [tfbs[4], \"E\", tfbs[1], tfbs[3]]\n",
    "        elif tfbs[0] == \"GATA\":\n",
    "            enh_encoding += [tfbs[4], \"G\", tfbs[1], tfbs[3]]\n",
    "    enh_encoding.append(len(seq)-(pos+5)-1)\n",
    "    return enh_encoding\n",
    "\n",
    "def mixed1_encode(data):\n",
    "    mixed1_encoding, valid_idx = [], []\n",
    "    for i, (row_num, enh_data) in tqdm.tqdm(enumerate(data.iterrows())):\n",
    "        sequence = enh_data[\"SEQ\"].upper().strip()\n",
    "        encoded_seq = encode_mixed1(sequence)\n",
    "        if encoded_seq != -1:\n",
    "            mixed1_encoding.append(encoded_seq)\n",
    "            valid_idx.append(i)\n",
    "    X_mixed1 = (pd.DataFrame(mixed1_encoding).replace({\"G\": 0, \"E\": 1, \"R\": 0, \"F\": 1}))\n",
    "    X_mixed1 = X_mixed1.values\n",
    "    return X_mixed1, valid_idx"
   ]
  },
  {
   "cell_type": "code",
   "execution_count": 65,
   "id": "2cc6475f-7f18-4f10-8403-bd9df3b4ef4b",
   "metadata": {
    "execution": {
     "iopub.execute_input": "2021-11-26T20:21:47.908872Z",
     "iopub.status.busy": "2021-11-26T20:21:47.908587Z",
     "iopub.status.idle": "2021-11-26T20:21:54.140895Z",
     "shell.execute_reply": "2021-11-26T20:21:54.139990Z",
     "shell.execute_reply.started": "2021-11-26T20:21:47.908843Z"
    },
    "tags": []
   },
   "outputs": [
    {
     "name": "stderr",
     "output_type": "stream",
     "text": [
      "20it [00:03,  5.35it/s]\n"
     ]
    },
    {
     "name": "stdout",
     "output_type": "stream",
     "text": [
      "total 774\n",
      "-rw-r--r-- 1 aklie carter-users   7968 Nov 26 12:21 0.18-0.4_0.9-split_X-test_mixed-1.0.npy\n",
      "-rw-r--r-- 1 aklie carter-users 784128 Nov 26 12:09 0.18-0.4_0.9-split_X-test_mixed-1.0-tiled.npy\n"
     ]
    },
    {
     "data": {
      "text/plain": [
       "((20, 49),\n",
       " [31,\n",
       "  'E',\n",
       "  'F',\n",
       "  0.11868156845560487,\n",
       "  3,\n",
       "  'E',\n",
       "  'F',\n",
       "  0.10973005182726431,\n",
       "  0,\n",
       "  'G',\n",
       "  'R',\n",
       "  0.5389119998601336,\n",
       "  19,\n",
       "  'E',\n",
       "  'F',\n",
       "  0.39163576347437207,\n",
       "  5,\n",
       "  'E',\n",
       "  'R',\n",
       "  0.10072171154881818,\n",
       "  1,\n",
       "  'E',\n",
       "  'F',\n",
       "  0.14028684169033467,\n",
       "  -2,\n",
       "  'G',\n",
       "  'F',\n",
       "  0.8051007829329527,\n",
       "  17,\n",
       "  'E',\n",
       "  'R',\n",
       "  0.3934295478885151,\n",
       "  20,\n",
       "  'G',\n",
       "  'F',\n",
       "  0.4449949666094348,\n",
       "  -1,\n",
       "  'E',\n",
       "  'R',\n",
       "  0.09932825230929267,\n",
       "  -2,\n",
       "  'E',\n",
       "  'R',\n",
       "  0.10277555374902991,\n",
       "  -3,\n",
       "  'G',\n",
       "  'R',\n",
       "  0.31163566926760605,\n",
       "  10],\n",
       " array([ 6.33683722e+00,  1.00000000e+00,  1.00000000e+00, -2.05414929e+00,\n",
       "        -4.97137607e-01,  1.00000000e+00,  1.00000000e+00, -2.09314810e+00,\n",
       "        -1.22237710e+00,  0.00000000e+00,  0.00000000e+00,  3.19738794e-04,\n",
       "         3.35270336e+00,  1.00000000e+00,  1.00000000e+00, -7.11168311e-01,\n",
       "        -1.14164866e-02,  1.00000000e+00,  0.00000000e+00, -2.12157986e+00,\n",
       "         3.36793426e-01,  1.00000000e+00,  1.00000000e+00,  1.40286842e-01,\n",
       "        -2.00000000e+00,  0.00000000e+00,  1.00000000e+00,  8.05100783e-01,\n",
       "         1.70000000e+01,  1.00000000e+00,  0.00000000e+00,  3.93429548e-01,\n",
       "         2.00000000e+01,  0.00000000e+00,  1.00000000e+00,  4.44994967e-01,\n",
       "        -1.00000000e+00,  1.00000000e+00,  0.00000000e+00,  9.93282523e-02,\n",
       "        -2.00000000e+00,  1.00000000e+00,  0.00000000e+00,  1.02775554e-01,\n",
       "        -3.00000000e+00,  0.00000000e+00,  0.00000000e+00,  3.11635669e-01,\n",
       "         1.00000000e+01]))"
      ]
     },
     "execution_count": 65,
     "metadata": {},
     "output_type": "execute_result"
    }
   ],
   "source": [
    "mixed1_encoding = []\n",
    "for i, (row_num, enh_data) in tqdm.tqdm(enumerate(dataset.iterrows())):\n",
    "    seq = enh_data[\"SEQ\"].upper().strip()\n",
    "    enh_tfbs = otx_enhancer_utils.defineTFBS(seq)\n",
    "    if len(enh_tfbs) == 0:\n",
    "        mixed1_encoding.append([0]*21)\n",
    "    enh_encoding = []\n",
    "    for pos, tfbs in enh_tfbs.items():\n",
    "        if tfbs[0] == \"ETS\":\n",
    "            enh_encoding += [tfbs[4], \"E\", tfbs[1], tfbs[3]]\n",
    "        elif tfbs[0] == \"GATA\":\n",
    "            enh_encoding += [tfbs[4], \"G\", tfbs[1], tfbs[3]]\n",
    "    enh_encoding.append(len(seq)-(pos+5)-1)\n",
    "    mixed1_encoding.append(enh_encoding)\n",
    "\n",
    "# Replace strings with one hot encoding\n",
    "X_mixed1 = (\n",
    "    pd.DataFrame(mixed1_encoding)\n",
    "    .replace({\"G\": 0, \"E\": 1, \"R\": 0, \"F\": 1})\n",
    ")\n",
    "X_mixed1 = X_mixed1.values\n",
    "\n",
    "# Load in training stats\n",
    "with open(\"../2021_OLS_Library/mixed_1.0/{}_X-train-{}_stats.pickle\".format(PREPROCESS, SPLIT), 'rb') as handle:\n",
    "    train_stats = pickle.load(handle)\n",
    "\n",
    "# Z-score test set\n",
    "scale_indeces = train_stats[\"indeces\"]\n",
    "X_mixed1[:, scale_indeces] -= train_stats[\"means\"]\n",
    "X_mixed1[:, scale_indeces] /= train_stats[\"stds\"]\n",
    "\n",
    "# Save the vals\n",
    "if not os.path.isdir(\"mixed_1.0\"):\n",
    "    os.makedirs(\"mixed_1.0\")\n",
    "    \n",
    "np.save(\"mixed_1.0/{}_{}-split_X-test_mixed-1.0\".format(PREPROCESS, SPLIT), X_mixed1)\n",
    "\n",
    "!ls -l mixed_1.0\n",
    "\n",
    "X_mixed1.shape, mixed1_encoding[0], X_mixed1[0]"
   ]
  },
  {
   "cell_type": "code",
   "execution_count": 35,
   "id": "29d1d288-71e2-49cf-afb1-44415a8fe91e",
   "metadata": {
    "execution": {
     "iopub.execute_input": "2021-11-26T19:52:36.369379Z",
     "iopub.status.busy": "2021-11-26T19:52:36.369067Z",
     "iopub.status.idle": "2021-11-26T19:52:40.218125Z",
     "shell.execute_reply": "2021-11-26T19:52:40.217029Z",
     "shell.execute_reply.started": "2021-11-26T19:52:36.369346Z"
    },
    "tags": []
   },
   "outputs": [
    {
     "name": "stderr",
     "output_type": "stream",
     "text": [
      "12it [00:02,  4.92it/s]\n"
     ]
    },
    {
     "ename": "KeyError",
     "evalue": "'TGGATAAt'",
     "output_type": "error",
     "traceback": [
      "\u001b[0;31m---------------------------------------------------------------------------\u001b[0m",
      "\u001b[0;31mKeyError\u001b[0m                                  Traceback (most recent call last)",
      "\u001b[0;32m<ipython-input-35-2783753977b6>\u001b[0m in \u001b[0;36m<module>\u001b[0;34m\u001b[0m\n\u001b[1;32m      2\u001b[0m \u001b[0;32mfor\u001b[0m \u001b[0mi\u001b[0m\u001b[0;34m,\u001b[0m \u001b[0;34m(\u001b[0m\u001b[0mrow_num\u001b[0m\u001b[0;34m,\u001b[0m \u001b[0menh_data\u001b[0m\u001b[0;34m)\u001b[0m \u001b[0;32min\u001b[0m \u001b[0mtqdm\u001b[0m\u001b[0;34m.\u001b[0m\u001b[0mtqdm\u001b[0m\u001b[0;34m(\u001b[0m\u001b[0menumerate\u001b[0m\u001b[0;34m(\u001b[0m\u001b[0mdataset\u001b[0m\u001b[0;34m.\u001b[0m\u001b[0miterrows\u001b[0m\u001b[0;34m(\u001b[0m\u001b[0;34m)\u001b[0m\u001b[0;34m)\u001b[0m\u001b[0;34m)\u001b[0m\u001b[0;34m:\u001b[0m\u001b[0;34m\u001b[0m\u001b[0;34m\u001b[0m\u001b[0m\n\u001b[1;32m      3\u001b[0m     \u001b[0mseq\u001b[0m \u001b[0;34m=\u001b[0m \u001b[0menh_data\u001b[0m\u001b[0;34m[\u001b[0m\u001b[0;34m\"SEQ\"\u001b[0m\u001b[0;34m]\u001b[0m\u001b[0;34m\u001b[0m\u001b[0;34m\u001b[0m\u001b[0m\n\u001b[0;32m----> 4\u001b[0;31m     \u001b[0menh_tfbs\u001b[0m \u001b[0;34m=\u001b[0m \u001b[0motx_enhancer_utils\u001b[0m\u001b[0;34m.\u001b[0m\u001b[0mdefineTFBS\u001b[0m\u001b[0;34m(\u001b[0m\u001b[0mseq\u001b[0m\u001b[0;34m)\u001b[0m\u001b[0;34m\u001b[0m\u001b[0;34m\u001b[0m\u001b[0m\n\u001b[0m\u001b[1;32m      5\u001b[0m     \u001b[0menh_encoding\u001b[0m \u001b[0;34m=\u001b[0m \u001b[0;34m[\u001b[0m\u001b[0;34m]\u001b[0m\u001b[0;34m\u001b[0m\u001b[0;34m\u001b[0m\u001b[0m\n\u001b[1;32m      6\u001b[0m     \u001b[0;32mfor\u001b[0m \u001b[0mpos\u001b[0m\u001b[0;34m,\u001b[0m \u001b[0mtfbs\u001b[0m \u001b[0;32min\u001b[0m \u001b[0menh_tfbs\u001b[0m\u001b[0;34m.\u001b[0m\u001b[0mitems\u001b[0m\u001b[0;34m(\u001b[0m\u001b[0;34m)\u001b[0m\u001b[0;34m:\u001b[0m\u001b[0;34m\u001b[0m\u001b[0;34m\u001b[0m\u001b[0m\n",
      "\u001b[0;32m~/projects/EUGENE/bin/otx_enhancer_utils.py\u001b[0m in \u001b[0;36mdefineTFBS\u001b[0;34m(seq, findClosestOLS)\u001b[0m\n\u001b[1;32m    137\u001b[0m \u001b[0;32mdef\u001b[0m \u001b[0mdefineTFBS\u001b[0m\u001b[0;34m(\u001b[0m\u001b[0mseq\u001b[0m\u001b[0;34m,\u001b[0m \u001b[0mfindClosestOLS\u001b[0m\u001b[0;34m=\u001b[0m\u001b[0;32mTrue\u001b[0m\u001b[0;34m)\u001b[0m\u001b[0;34m:\u001b[0m\u001b[0;34m\u001b[0m\u001b[0;34m\u001b[0m\u001b[0m\n\u001b[1;32m    138\u001b[0m     \u001b[0mtfbs\u001b[0m \u001b[0;34m=\u001b[0m \u001b[0mfindEtsAndGataCores\u001b[0m\u001b[0;34m(\u001b[0m\u001b[0mseq\u001b[0m\u001b[0;34m)\u001b[0m\u001b[0;34m\u001b[0m\u001b[0;34m\u001b[0m\u001b[0m\n\u001b[0;32m--> 139\u001b[0;31m     \u001b[0mtfbs\u001b[0m \u001b[0;34m=\u001b[0m \u001b[0mfindTFBSAffinity\u001b[0m\u001b[0;34m(\u001b[0m\u001b[0mseq\u001b[0m\u001b[0;34m,\u001b[0m \u001b[0mtfbs\u001b[0m\u001b[0;34m)\u001b[0m\u001b[0;34m\u001b[0m\u001b[0;34m\u001b[0m\u001b[0m\n\u001b[0m\u001b[1;32m    140\u001b[0m     \u001b[0mtfbs\u001b[0m \u001b[0;34m=\u001b[0m \u001b[0mfindSpacingBetweenTFBS\u001b[0m\u001b[0;34m(\u001b[0m\u001b[0mtfbs\u001b[0m\u001b[0;34m)\u001b[0m\u001b[0;34m\u001b[0m\u001b[0;34m\u001b[0m\u001b[0m\n\u001b[1;32m    141\u001b[0m     \u001b[0;32mif\u001b[0m \u001b[0mfindClosestOLS\u001b[0m\u001b[0;34m:\u001b[0m\u001b[0;34m\u001b[0m\u001b[0;34m\u001b[0m\u001b[0m\n",
      "\u001b[0;32m~/projects/EUGENE/bin/otx_enhancer_utils.py\u001b[0m in \u001b[0;36mfindTFBSAffinity\u001b[0;34m(seq, cores, ets_aff_file, gata_aff_file)\u001b[0m\n\u001b[1;32m     83\u001b[0m             \u001b[0mcores\u001b[0m\u001b[0;34m[\u001b[0m\u001b[0mpos\u001b[0m\u001b[0;34m]\u001b[0m\u001b[0;34m.\u001b[0m\u001b[0mappend\u001b[0m\u001b[0;34m(\u001b[0m\u001b[0mets_aff\u001b[0m\u001b[0;34m[\u001b[0m\u001b[0mseq\u001b[0m\u001b[0;34m[\u001b[0m\u001b[0mpos\u001b[0m\u001b[0;34m-\u001b[0m\u001b[0;36m2\u001b[0m\u001b[0;34m:\u001b[0m\u001b[0mpos\u001b[0m\u001b[0;34m+\u001b[0m\u001b[0;36m6\u001b[0m\u001b[0;34m]\u001b[0m\u001b[0;34m]\u001b[0m\u001b[0;34m)\u001b[0m\u001b[0;34m\u001b[0m\u001b[0;34m\u001b[0m\u001b[0m\n\u001b[1;32m     84\u001b[0m         \u001b[0;32melif\u001b[0m \u001b[0mcores\u001b[0m\u001b[0;34m[\u001b[0m\u001b[0mpos\u001b[0m\u001b[0;34m]\u001b[0m\u001b[0;34m[\u001b[0m\u001b[0;36m0\u001b[0m\u001b[0;34m]\u001b[0m \u001b[0;34m==\u001b[0m \u001b[0;34m\"GATA\"\u001b[0m\u001b[0;34m:\u001b[0m\u001b[0;34m\u001b[0m\u001b[0;34m\u001b[0m\u001b[0m\n\u001b[0;32m---> 85\u001b[0;31m             \u001b[0mcores\u001b[0m\u001b[0;34m[\u001b[0m\u001b[0mpos\u001b[0m\u001b[0;34m]\u001b[0m\u001b[0;34m.\u001b[0m\u001b[0mappend\u001b[0m\u001b[0;34m(\u001b[0m\u001b[0mgata_aff\u001b[0m\u001b[0;34m[\u001b[0m\u001b[0mseq\u001b[0m\u001b[0;34m[\u001b[0m\u001b[0mpos\u001b[0m\u001b[0;34m-\u001b[0m\u001b[0;36m2\u001b[0m\u001b[0;34m:\u001b[0m\u001b[0mpos\u001b[0m\u001b[0;34m+\u001b[0m\u001b[0;36m6\u001b[0m\u001b[0;34m]\u001b[0m\u001b[0;34m]\u001b[0m\u001b[0;34m)\u001b[0m\u001b[0;34m\u001b[0m\u001b[0;34m\u001b[0m\u001b[0m\n\u001b[0m\u001b[1;32m     86\u001b[0m     \u001b[0;32mreturn\u001b[0m \u001b[0mcores\u001b[0m\u001b[0;34m\u001b[0m\u001b[0;34m\u001b[0m\u001b[0m\n\u001b[1;32m     87\u001b[0m \u001b[0;34m\u001b[0m\u001b[0m\n",
      "\u001b[0;31mKeyError\u001b[0m: 'TGGATAAt'"
     ]
    }
   ],
   "source": [
    "mixed2_encoding = []\n",
    "for i, (row_num, enh_data) in tqdm.tqdm(enumerate(dataset_tiled.iterrows())):\n",
    "    seq = enh_data[\"SEQ\"].upper().strip()\n",
    "    enh_tfbs = otx_enhancer_utils.defineTFBS(seq)\n",
    "    if len(enh_tfbs) == 0:\n",
    "        mixed2_encoding.append([0]*26)\n",
    "    enh_encoding = []\n",
    "    for pos, tfbs in enh_tfbs.items():\n",
    "        if tfbs[0] == \"ETS\":\n",
    "            enh_encoding += [tfbs[4], tfbs[3], tfbs[1], 0, 0]\n",
    "        elif tfbs[0] == \"GATA\":\n",
    "            enh_encoding += [tfbs[4], 0, 0, tfbs[3], tfbs[1]]\n",
    "    enh_encoding.append(len(seq)-(pos+5)-1)\n",
    "    mixed2_encoding.append(enh_encoding)\n",
    "\n",
    "# Replace strings with one hot encoding\n",
    "X_mixed2 = (\n",
    "    pd.DataFrame(mixed2_encoding)\n",
    "    .replace({\"G\": 0, \"E\": 1, \"R\": 0, \"F\": 1})\n",
    ")\n",
    "X_mixed2 = X_mixed2.values\n",
    "\n",
    "# Load in training stats\n",
    "with open(\"../2021_OLS_Library/mixed_2.0/{}_X-train-{}_stats.pickle\".format(PREPROCESS, SPLIT), 'rb') as handle:\n",
    "    train_stats = pickle.load(handle)\n",
    "\n",
    "# Z-score test set\n",
    "scale_indeces = train_stats[\"indeces\"]\n",
    "X_mixed2[:, scale_indeces] -= train_stats[\"means\"]\n",
    "X_mixed2[:, scale_indeces] /= train_stats[\"stds\"]\n",
    "\n",
    "# Save the vals\n",
    "if not os.path.isdir(\"mixed_2.0\"):\n",
    "    os.makedirs(\"mixed_2.0\")\n",
    "    \n",
    "np.save(\"mixed_2.0/{}_{}-split_X-test_mixed-2.0\".format(PREPROCESS, SPLIT), X_mixed1)\n",
    "\n",
    "!ls -l mixed_2.0\n",
    "\n",
    "X_mixed2.shape, mixed2_encoding[0], X_mixed2[0]"
   ]
  },
  {
   "cell_type": "code",
   "execution_count": 117,
   "id": "10c08513-9ed7-44ce-8120-d4f025e14ab7",
   "metadata": {
    "execution": {
     "iopub.execute_input": "2021-11-26T19:36:38.456050Z",
     "iopub.status.busy": "2021-11-26T19:36:38.455798Z",
     "iopub.status.idle": "2021-11-26T19:36:43.256083Z",
     "shell.execute_reply": "2021-11-26T19:36:43.255250Z",
     "shell.execute_reply.started": "2021-11-26T19:36:38.456015Z"
    },
    "tags": []
   },
   "outputs": [],
   "source": [
    "mixed3_encoding = []\n",
    "for i, (row_num, enh_data) in tqdm.tqdm(enumerate(dataset.iterrows())):\n",
    "    seq = enh_data[\"SEQ\"].upper().strip()\n",
    "    enh_tfbs = otx_enhancer_utils.defineTFBS(seq)\n",
    "    if len(enh_tfbs) == 0:\n",
    "        mixed3_encoding.append([0]*21)\n",
    "    enh_encoding = []\n",
    "    for pos, tfbs in enh_tfbs.items():\n",
    "        if tfbs[0] == \"ETS\":\n",
    "            enh_encoding += [tfbs[4], tfbs[3], 0, tfbs[1]]\n",
    "        elif tfbs[0] == \"GATA\":\n",
    "            enh_encoding += [tfbs[4], 0, tfbs[3], tfbs[1]]\n",
    "    enh_encoding.append(len(seq)-(pos+5)-1)\n",
    "    mixed3_encoding.append(enh_encoding)\n",
    "\n",
    "# Replace strings with one hot encoding\n",
    "X_mixed3 = pd.DataFrame(mixed3_encoding).replace({\"R\": -1, \"F\": 1})\n",
    "X_mixed3 = X_mixed3.values"
   ]
  },
  {
   "cell_type": "code",
   "execution_count": null,
   "id": "d62cb8cc-d3c4-4689-9d41-6fc81475054b",
   "metadata": {},
   "outputs": [],
   "source": [
    "mixed3_encoding = []\n",
    "for i, (row_num, enh_data) in tqdm.tqdm(enumerate(dataset_tiled.iterrows())):\n",
    "    seq = enh_data[\"SEQ\"].upper().strip()\n",
    "    enh_tfbs = otx_enhancer_utils.defineTFBS(seq)\n",
    "    if len(enh_tfbs) == 0:\n",
    "        mixed3_encoding.append([0]*21)\n",
    "    enh_encoding = []\n",
    "    for pos, tfbs in enh_tfbs.items():\n",
    "        if tfbs[0] == \"ETS\":\n",
    "            enh_encoding += [tfbs[4], tfbs[3], 0, tfbs[1]]\n",
    "        elif tfbs[0] == \"GATA\":\n",
    "            enh_encoding += [tfbs[4], 0, tfbs[3], tfbs[1]]\n",
    "    enh_encoding.append(len(seq)-(pos+5)-1)\n",
    "    mixed3_encoding.append(enh_encoding)\n",
    "\n",
    "# Replace strings with one hot encoding\n",
    "X_mixed3 = pd.DataFrame(mixed3_encoding).replace({\"R\": -1, \"F\": 1})\n",
    "X_mixed3 = X_mixed3.values\n",
    "\n",
    "# Load in training stats\n",
    "with open(\"../2021_OLS_Library/mixed_3.0/{}_X-train-{}_stats.pickle\".format(PREPROCESS, SPLIT), 'rb') as handle:\n",
    "    train_stats = pickle.load(handle)\n",
    "\n",
    "# Z-score test set\n",
    "scale_indeces = train_stats[\"indeces\"]\n",
    "X_mixed3[:, scale_indeces] -= train_stats[\"means\"]\n",
    "X_mixed3[:, scale_indeces] /= train_stats[\"stds\"]\n",
    "\n",
    "# Save the vals\n",
    "if not os.path.isdir(\"mixed_3.0\"):\n",
    "    os.makedirs(\"mixed_3.0\")\n",
    "    \n",
    "np.save(\"mixed_3.0/{}_{}-split_X-test_mixed-3.0-tiled\".format(PREPROCESS, SPLIT), X_mixed1)\n",
    "\n",
    "!ls -l mixed_3.0\n",
    "\n",
    "X_mixed3.shape, mixed3_encoding[0], X_mixed3[0]"
   ]
  },
  {
   "cell_type": "markdown",
   "id": "d28ae31f-54f2-46b9-95fe-1b4fbe287c93",
   "metadata": {
    "tags": [],
    "toc-hr-collapsed": true
   },
   "source": [
    "## Old positive and negative sequence break-up code"
   ]
  },
  {
   "cell_type": "code",
   "execution_count": 71,
   "id": "af646404-ac18-47b3-95ff-8b82f9a0d83d",
   "metadata": {
    "execution": {
     "iopub.execute_input": "2021-11-09T20:45:50.773587Z",
     "iopub.status.busy": "2021-11-09T20:45:50.773300Z",
     "iopub.status.idle": "2021-11-09T20:45:52.105758Z",
     "shell.execute_reply": "2021-11-09T20:45:52.104685Z",
     "shell.execute_reply.started": "2021-11-09T20:45:50.773556Z"
    },
    "tags": []
   },
   "outputs": [],
   "source": [
    "# Mask\n",
    "neg_mask = (y == 0)"
   ]
  },
  {
   "cell_type": "code",
   "execution_count": 76,
   "id": "821c5285-66a8-4cf7-8634-7dbce37579b3",
   "metadata": {
    "execution": {
     "iopub.execute_input": "2021-11-09T20:46:30.539276Z",
     "iopub.status.busy": "2021-11-09T20:46:30.538900Z",
     "iopub.status.idle": "2021-11-09T20:46:31.946806Z",
     "shell.execute_reply": "2021-11-09T20:46:31.946028Z",
     "shell.execute_reply.started": "2021-11-09T20:46:30.539243Z"
    },
    "tags": []
   },
   "outputs": [],
   "source": [
    "# Negative seqs\n",
    "X_neg = X_seqs[neg_mask]\n",
    "y_neg = y[neg_mask]\n",
    "id_neg = ID[neg_mask]\n",
    "\n",
    "# Positive seqs\n",
    "X_pos = X_seqs[~neg_mask]\n",
    "y_pos = y[~neg_mask]\n",
    "id_pos = ID[~neg_mask]"
   ]
  },
  {
   "cell_type": "code",
   "execution_count": 79,
   "id": "ec4053e9-e62f-40c7-b9ea-51e7975a5382",
   "metadata": {
    "execution": {
     "iopub.execute_input": "2021-11-09T20:46:43.537045Z",
     "iopub.status.busy": "2021-11-09T20:46:43.536753Z",
     "iopub.status.idle": "2021-11-09T20:46:44.847707Z",
     "shell.execute_reply": "2021-11-09T20:46:44.846771Z",
     "shell.execute_reply.started": "2021-11-09T20:46:43.537014Z"
    },
    "tags": []
   },
   "outputs": [
    {
     "name": "stdout",
     "output_type": "stream",
     "text": [
      "(12,) (12,)\n",
      "(8,) (8,)\n",
      "We good: (20,), (20,), (20,)\n"
     ]
    }
   ],
   "source": [
    "# Check\n",
    "print(X_neg.shape, y_neg.shape)\n",
    "print(X_pos.shape, y_pos.shape)\n",
    "if (X_neg.shape[0] + X_pos.shape[0] == X_seqs.shape[0]):\n",
    "    print(\"We good: {}, {}, {}\".format(X_seqs.shape, y.shape, ID.shape))\n",
    "else:\n",
    "    print(\"The game is afoot\")"
   ]
  },
  {
   "cell_type": "markdown",
   "id": "08f34a24-63dd-478a-b07b-6b6df7a9165b",
   "metadata": {},
   "source": [
    "*Positive training sequences*"
   ]
  },
  {
   "cell_type": "code",
   "execution_count": 92,
   "id": "f308dcb4-3481-4643-8548-290722bd8174",
   "metadata": {
    "execution": {
     "iopub.execute_input": "2021-11-09T20:54:05.540018Z",
     "iopub.status.busy": "2021-11-09T20:54:05.539725Z",
     "iopub.status.idle": "2021-11-09T20:54:06.773474Z",
     "shell.execute_reply": "2021-11-09T20:54:06.772645Z",
     "shell.execute_reply.started": "2021-11-09T20:54:05.539987Z"
    },
    "tags": []
   },
   "outputs": [],
   "source": [
    "# Save positive sequences in fasta format\n",
    "pos_file = open(\"fasta/X_fasta-pos.fa\", \"w\")\n",
    "for i in range(len(X_pos)):\n",
    "    pos_file.write(\">\" + id_pos[i] + \"\\n\" + X_pos[i].upper().strip() + \"\\n\")\n",
    "pos_file.close()"
   ]
  },
  {
   "cell_type": "code",
   "execution_count": 93,
   "id": "b9de2ac6-4a26-4a63-b6bf-15d69bb4a985",
   "metadata": {
    "execution": {
     "iopub.execute_input": "2021-11-09T20:54:06.775465Z",
     "iopub.status.busy": "2021-11-09T20:54:06.775100Z",
     "iopub.status.idle": "2021-11-09T20:54:09.080915Z",
     "shell.execute_reply": "2021-11-09T20:54:09.079981Z",
     "shell.execute_reply.started": "2021-11-09T20:54:06.775418Z"
    },
    "tags": []
   },
   "outputs": [
    {
     "name": "stdout",
     "output_type": "stream",
     "text": [
      "16 fasta/X_fasta-pos.fa\n"
     ]
    }
   ],
   "source": [
    "# Double check\n",
    "!wc -l fasta/X_fasta-pos.fa"
   ]
  },
  {
   "cell_type": "code",
   "execution_count": 94,
   "id": "d82c525a-8ef1-4a13-ba4e-a9e0dffb48e2",
   "metadata": {
    "execution": {
     "iopub.execute_input": "2021-11-09T20:54:09.082912Z",
     "iopub.status.busy": "2021-11-09T20:54:09.082666Z",
     "iopub.status.idle": "2021-11-09T20:54:10.349535Z",
     "shell.execute_reply": "2021-11-09T20:54:10.348811Z",
     "shell.execute_reply.started": "2021-11-09T20:54:09.082880Z"
    },
    "tags": []
   },
   "outputs": [
    {
     "data": {
      "text/plain": [
       "16"
      ]
     },
     "execution_count": 94,
     "metadata": {},
     "output_type": "execute_result"
    }
   ],
   "source": [
    "# Should equal above\n",
    "len(X_pos)*2"
   ]
  },
  {
   "cell_type": "markdown",
   "id": "31902666-3598-46cd-8826-a16427e31b13",
   "metadata": {},
   "source": [
    "*Negative training sequences*"
   ]
  },
  {
   "cell_type": "code",
   "execution_count": 95,
   "id": "9131bc29-906c-459b-ae1f-bdc785f4f974",
   "metadata": {
    "execution": {
     "iopub.execute_input": "2021-11-09T20:54:10.350942Z",
     "iopub.status.busy": "2021-11-09T20:54:10.350706Z",
     "iopub.status.idle": "2021-11-09T20:54:11.682549Z",
     "shell.execute_reply": "2021-11-09T20:54:11.681696Z",
     "shell.execute_reply.started": "2021-11-09T20:54:10.350913Z"
    },
    "tags": []
   },
   "outputs": [],
   "source": [
    "# Save negatvie sequences in fasta format\n",
    "neg_file = open(\"fasta/X_fasta-neg.fa\", \"w\")\n",
    "for i in range(len(X_neg)):\n",
    "    neg_file.write(\">\" + id_neg[i] + \"\\n\" + X_neg[i].upper().strip() + \"\\n\")\n",
    "neg_file.close()"
   ]
  },
  {
   "cell_type": "code",
   "execution_count": 96,
   "id": "6c99667f-fc6c-4924-8228-3ca3a36b772e",
   "metadata": {
    "execution": {
     "iopub.execute_input": "2021-11-09T20:54:11.683774Z",
     "iopub.status.busy": "2021-11-09T20:54:11.683548Z",
     "iopub.status.idle": "2021-11-09T20:54:13.929734Z",
     "shell.execute_reply": "2021-11-09T20:54:13.928781Z",
     "shell.execute_reply.started": "2021-11-09T20:54:11.683741Z"
    },
    "tags": []
   },
   "outputs": [
    {
     "name": "stdout",
     "output_type": "stream",
     "text": [
      "24 fasta/X_fasta-neg.fa\n"
     ]
    }
   ],
   "source": [
    "# Double check\n",
    "!wc -l fasta/X_fasta-neg.fa"
   ]
  },
  {
   "cell_type": "code",
   "execution_count": 97,
   "id": "f7e2fc7f-eae8-41eb-98fc-2c944152b133",
   "metadata": {
    "execution": {
     "iopub.execute_input": "2021-11-09T20:54:13.931160Z",
     "iopub.status.busy": "2021-11-09T20:54:13.930921Z",
     "iopub.status.idle": "2021-11-09T20:54:15.312847Z",
     "shell.execute_reply": "2021-11-09T20:54:15.312103Z",
     "shell.execute_reply.started": "2021-11-09T20:54:13.931129Z"
    },
    "tags": []
   },
   "outputs": [
    {
     "data": {
      "text/plain": [
       "24"
      ]
     },
     "execution_count": 97,
     "metadata": {},
     "output_type": "execute_result"
    }
   ],
   "source": [
    "# Should equal above\n",
    "len(X_neg)*2"
   ]
  },
  {
   "cell_type": "markdown",
   "id": "fd6865fb-2195-400b-a66a-5db3f16bc239",
   "metadata": {
    "tags": [],
    "toc-hr-collapsed": true
   },
   "source": [
    "## Old dataset loading code"
   ]
  },
  {
   "cell_type": "code",
   "execution_count": 13,
   "id": "f5df334a-54a5-45ee-bf58-2d4c728a8988",
   "metadata": {
    "execution": {
     "iopub.execute_input": "2021-11-17T03:11:48.393119Z",
     "iopub.status.busy": "2021-11-17T03:11:48.392830Z",
     "iopub.status.idle": "2021-11-17T03:11:50.172718Z",
     "shell.execute_reply": "2021-11-17T03:11:50.172013Z",
     "shell.execute_reply.started": "2021-11-17T03:11:48.393085Z"
    },
    "tags": []
   },
   "outputs": [
    {
     "data": {
      "text/html": [
       "<div>\n",
       "<style scoped>\n",
       "    .dataframe tbody tr th:only-of-type {\n",
       "        vertical-align: middle;\n",
       "    }\n",
       "\n",
       "    .dataframe tbody tr th {\n",
       "        vertical-align: top;\n",
       "    }\n",
       "\n",
       "    .dataframe thead th {\n",
       "        text-align: right;\n",
       "    }\n",
       "</style>\n",
       "<table border=\"1\" class=\"dataframe\">\n",
       "  <thead>\n",
       "    <tr style=\"text-align: right;\">\n",
       "      <th></th>\n",
       "      <th>Cluster</th>\n",
       "      <th>Position</th>\n",
       "      <th>Start</th>\n",
       "      <th>End</th>\n",
       "      <th>Size</th>\n",
       "      <th>% Identity between C.i. and C.s.</th>\n",
       "      <th>GATA-MGGAAR-80</th>\n",
       "      <th>GATA-MGGAAR-130</th>\n",
       "      <th>GATA-HGGAWR-80</th>\n",
       "      <th>Enhancer Activity</th>\n",
       "      <th>...</th>\n",
       "      <th>Segal Probability on C.i. Clusters (yeast model – 2008)</th>\n",
       "      <th>Unnamed: 15</th>\n",
       "      <th>Cloned and Tested C. i. Sequence</th>\n",
       "      <th>Sequence from Published C.i.  Assembly</th>\n",
       "      <th>Sequence from Published C.s. Assembly</th>\n",
       "      <th>Sequence</th>\n",
       "      <th>label</th>\n",
       "      <th>Sequence_len</th>\n",
       "      <th>Name</th>\n",
       "      <th>Type</th>\n",
       "    </tr>\n",
       "  </thead>\n",
       "  <tbody>\n",
       "    <tr>\n",
       "      <th>0</th>\n",
       "      <td>C1</td>\n",
       "      <td>scaffold_1</td>\n",
       "      <td>462149</td>\n",
       "      <td>462232</td>\n",
       "      <td>83</td>\n",
       "      <td>82</td>\n",
       "      <td>X</td>\n",
       "      <td>X</td>\n",
       "      <td>X</td>\n",
       "      <td>a6.5 and/or b6.5</td>\n",
       "      <td>...</td>\n",
       "      <td>0.8</td>\n",
       "      <td>NaN</td>\n",
       "      <td>AAAGTAGGCTATATGCTACAGCCCAGAGCTCATGGATTTTAATGGG...</td>\n",
       "      <td>ATATGCTACAGCCCAGAGCTCATGGATTTTAATGGGATCCGCTATC...</td>\n",
       "      <td>ATACTTCGACGCTGGAAGCCGGGGGAATTTAATGGGACGGCCTATC...</td>\n",
       "      <td>ATATGCTACAGCCCAGAGCTCATGGATTTTAATGGGATCGGCTATC...</td>\n",
       "      <td>1</td>\n",
       "      <td>175</td>\n",
       "      <td>scaffold_1:462149:462232</td>\n",
       "      <td>full</td>\n",
       "    </tr>\n",
       "  </tbody>\n",
       "</table>\n",
       "<p>1 rows × 24 columns</p>\n",
       "</div>"
      ],
      "text/plain": [
       "  Cluster    Position   Start     End  Size  % Identity between C.i. and C.s.  \\\n",
       "0      C1  scaffold_1  462149  462232    83                                82   \n",
       "\n",
       "  GATA-MGGAAR-80 GATA-MGGAAR-130 GATA-HGGAWR-80 Enhancer Activity  ...  \\\n",
       "0              X               X              X  a6.5 and/or b6.5  ...   \n",
       "\n",
       "   Segal Probability on C.i. Clusters (yeast model – 2008)  Unnamed: 15  \\\n",
       "0                                                0.8                NaN   \n",
       "\n",
       "                    Cloned and Tested C. i. Sequence  \\\n",
       "0  AAAGTAGGCTATATGCTACAGCCCAGAGCTCATGGATTTTAATGGG...   \n",
       "\n",
       "              Sequence from Published C.i.  Assembly  \\\n",
       "0  ATATGCTACAGCCCAGAGCTCATGGATTTTAATGGGATCCGCTATC...   \n",
       "\n",
       "               Sequence from Published C.s. Assembly  \\\n",
       "0  ATACTTCGACGCTGGAAGCCGGGGGAATTTAATGGGACGGCCTATC...   \n",
       "\n",
       "                                            Sequence label Sequence_len  \\\n",
       "0  ATATGCTACAGCCCAGAGCTCATGGATTTTAATGGGATCGGCTATC...     1          175   \n",
       "\n",
       "                       Name  Type  \n",
       "0  scaffold_1:462149:462232  full  \n",
       "\n",
       "[1 rows x 24 columns]"
      ]
     },
     "execution_count": 13,
     "metadata": {},
     "output_type": "execute_result"
    }
   ],
   "source": [
    "# Laod in\n",
    "dataset = pd.read_excel(\"1-s2.0-S096098221000432X-mmc2.xls\", sheet_name=\"Table S2\", skiprows=2)\n",
    "dataset = dataset[~dataset[\"Enhancer Activity\"].isna()]\n",
    "\n",
    "# Clean up sequence by removing constant regions and clean up labels by equating 'none' to inaxctive\n",
    "dataset[\"Sequence\"] = dataset[\"Cloned and Tested C. i. Sequence\"].apply(lambda x: x.replace(\"ACCCAACTTT\", \"\"))\n",
    "dataset[\"Sequence\"] = dataset[\"Sequence\"].apply(lambda x: x.replace(\"AAAGTAGGCT\", \"\"))\n",
    "dataset[\"label\"] = (dataset[\"Enhancer Activity\"] != \"none\").astype(int)\n",
    "dataset[\"Sequence_len\"] = dataset[\"Sequence\"].apply(len)\n",
    "dataset[\"Name\"] = dataset[\"Position\"] + \":\" + dataset[\"Start\"].astype(str) + \":\" + dataset[\"End\"].astype(str)\n",
    "dataset[\"Type\"] = \"full\"\n",
    "dataset.head(1)"
   ]
  },
  {
   "cell_type": "markdown",
   "id": "fc24f19f-3c9f-46db-927a-3a0e3897adcb",
   "metadata": {
    "tags": [],
    "toc-hr-collapsed": true
   },
   "source": [
    "# References"
   ]
  }
 ],
 "metadata": {
  "kernelspec": {
   "display_name": "Python3 ml_env",
   "language": "python",
   "name": "ml_env"
  },
  "language_info": {
   "codemirror_mode": {
    "name": "ipython",
    "version": 3
   },
   "file_extension": ".py",
   "mimetype": "text/x-python",
   "name": "python",
   "nbconvert_exporter": "python",
   "pygments_lexer": "ipython3",
   "version": "3.8.8"
  }
 },
 "nbformat": 4,
 "nbformat_minor": 5
}

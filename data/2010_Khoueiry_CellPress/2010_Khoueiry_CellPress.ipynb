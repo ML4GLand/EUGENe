{
 "cells": [
  {
   "cell_type": "markdown",
   "id": "90a88efe-ebb3-424c-8704-fb4ee189af2c",
   "metadata": {
    "tags": []
   },
   "source": [
    "# 2010 Khoueiry et al CellPress Sequences Preprocessing Notebook"
   ]
  },
  {
   "cell_type": "markdown",
   "id": "2d058003-a667-4b45-9ddc-e47efe48e0e1",
   "metadata": {
    "tags": []
   },
   "source": [
    "**Authorship:**\n",
    "Adam Klie\n",
    "*11/09/2021*\n",
    "***\n",
    "**Description:**\n",
    "This data comes from genomic sequences of *Ciona intestinalis* and *Ciona savignyi* that were tested in a 2010 CellPress paper by Khoueiry et al. Briefly, these sequences were identified by scanning the genomes for clusters of two ETS and two GATA sites using a phylogenetic footprinting-based algorithm named Search for Evolutionary COnserved MODules (SECOMOD). The algorithm searches for clusters of binding sites in *Ciona intestinalis* according to a number of sites and a cluster size specified by the user. It then identifies the orthologous region in *Ciona savignyi* and checks whether this region also contains the required number of sites and has the correct size. The authors scanned for GATA (GATA) and MGGAAR (ETS) in 80bp to start to find 9 clusters, but then expanded the search window to 130bp and relaxed the ETS constraint to HGGAWR, which led to 46 additional clusters. They also had an intersite distance threshold of 5bp and an overall sequence conservation threshold of 40%.\n",
    "\n",
    "The data was downloaded from Table S2 as an excel spreadsheet and processed from there.\n",
    "***\n",
    "\n",
    "**TODOs:**\n",
    " - <font color='green'> Load in and preprocess excel sheet (Table S2) from downloaded supplement </font>\n",
    " - <font color='green'> Preprocess into FASTA, labels and seq ids</font>\n",
    " - <font color='green'> Preprocess into ohe </font>\n",
    " - <font color='green'> Clean up notebook </font>\n",
    "***"
   ]
  },
  {
   "cell_type": "markdown",
   "id": "bca7c07f-c31c-4d7d-b83d-264c9c3e4ffd",
   "metadata": {
    "tags": []
   },
   "source": [
    "# Set-up"
   ]
  },
  {
   "cell_type": "code",
   "execution_count": 137,
   "id": "9fdb3d1a-e55e-412d-ad25-c924f8495e8a",
   "metadata": {
    "ExecuteTime": {
     "end_time": "2021-05-25T16:46:38.428847Z",
     "start_time": "2021-05-25T16:46:18.911625Z"
    },
    "execution": {
     "iopub.execute_input": "2021-11-27T07:03:57.861321Z",
     "iopub.status.busy": "2021-11-27T07:03:57.860979Z",
     "iopub.status.idle": "2021-11-27T07:03:59.179604Z",
     "shell.execute_reply": "2021-11-27T07:03:59.178680Z",
     "shell.execute_reply.started": "2021-11-27T07:03:57.861287Z"
    },
    "tags": []
   },
   "outputs": [],
   "source": [
    "# Classics\n",
    "import os\n",
    "import numpy as np\n",
    "import pandas as pd\n",
    "import tqdm\n",
    "import pickle\n",
    "\n",
    "# Autoreload extension\n",
    "if 'autoreload' not in get_ipython().extension_manager.loaded:\n",
    "    %load_ext autoreload\n",
    "\n",
    "%autoreload 2\n",
    "\n",
    "import sys\n",
    "sys.path.append(\"/cellar/users/aklie/projects/EUGENE/bin/\")\n",
    "import project_utils\n",
    "import otx_enhancer_utils"
   ]
  },
  {
   "cell_type": "code",
   "execution_count": 138,
   "id": "96061b8e-dd64-4974-86c5-5ff3d1a42786",
   "metadata": {
    "execution": {
     "iopub.execute_input": "2021-11-27T07:03:59.181731Z",
     "iopub.status.busy": "2021-11-27T07:03:59.181447Z",
     "iopub.status.idle": "2021-11-27T07:04:00.384692Z",
     "shell.execute_reply": "2021-11-27T07:04:00.383753Z",
     "shell.execute_reply.started": "2021-11-27T07:03:59.181701Z"
    },
    "tags": []
   },
   "outputs": [],
   "source": [
    "# Training stats for mixed encodings\n",
    "PREPROCESS = \"0.09-0.4\"  # String defining the preprocessing for saving\n",
    "SPLIT = 0.9  # Split into training and test sets"
   ]
  },
  {
   "cell_type": "markdown",
   "id": "88fd5092-fe40-4c4f-95d1-1e1f596af80d",
   "metadata": {
    "tags": []
   },
   "source": [
    "# Load data to preprocess"
   ]
  },
  {
   "cell_type": "markdown",
   "id": "2f3befba-0ced-4459-ab1f-be496fd48116",
   "metadata": {
    "tags": []
   },
   "source": [
    "## Create full sequence dataframe"
   ]
  },
  {
   "cell_type": "code",
   "execution_count": 139,
   "id": "caf1d1ab-36cd-4d84-aaac-c64c4d4fdf6d",
   "metadata": {
    "execution": {
     "iopub.execute_input": "2021-11-27T07:04:00.387234Z",
     "iopub.status.busy": "2021-11-27T07:04:00.386878Z",
     "iopub.status.idle": "2021-11-27T07:04:01.607613Z",
     "shell.execute_reply": "2021-11-27T07:04:01.606831Z",
     "shell.execute_reply.started": "2021-11-27T07:04:00.387190Z"
    },
    "tags": []
   },
   "outputs": [
    {
     "data": {
      "text/html": [
       "<div>\n",
       "<style scoped>\n",
       "    .dataframe tbody tr th:only-of-type {\n",
       "        vertical-align: middle;\n",
       "    }\n",
       "\n",
       "    .dataframe tbody tr th {\n",
       "        vertical-align: top;\n",
       "    }\n",
       "\n",
       "    .dataframe thead th {\n",
       "        text-align: right;\n",
       "    }\n",
       "</style>\n",
       "<table border=\"1\" class=\"dataframe\">\n",
       "  <thead>\n",
       "    <tr style=\"text-align: right;\">\n",
       "      <th></th>\n",
       "      <th>NAME</th>\n",
       "      <th>SEQ</th>\n",
       "      <th>FXN_LABEL</th>\n",
       "      <th>TILE</th>\n",
       "      <th>SEQ_LEN</th>\n",
       "    </tr>\n",
       "  </thead>\n",
       "  <tbody>\n",
       "    <tr>\n",
       "      <th>0</th>\n",
       "      <td>scaffold_1:462149:462232</td>\n",
       "      <td>AAAGTAGGCTATATGCTACAGCCCAGAGCTCATGGATTTTAATGGG...</td>\n",
       "      <td>1</td>\n",
       "      <td>full</td>\n",
       "      <td>195</td>\n",
       "    </tr>\n",
       "  </tbody>\n",
       "</table>\n",
       "</div>"
      ],
      "text/plain": [
       "                       NAME  \\\n",
       "0  scaffold_1:462149:462232   \n",
       "\n",
       "                                                 SEQ  FXN_LABEL  TILE  SEQ_LEN  \n",
       "0  AAAGTAGGCTATATGCTACAGCCCAGAGCTCATGGATTTTAATGGG...          1  full      195  "
      ]
     },
     "execution_count": 139,
     "metadata": {},
     "output_type": "execute_result"
    }
   ],
   "source": [
    "# Load the excel spreadsheet with the sequences and functional annotation\n",
    "dataset = pd.read_excel(\"1-s2.0-S096098221000432X-mmc2.xls\", sheet_name=\"Table S2\", skiprows=2)\n",
    "dataset = dataset[~dataset[\"Enhancer Activity\"].isna()]\n",
    "dataset[\"SEQ\"] = dataset[\"Cloned and Tested C. i. Sequence\"]\n",
    "#dataset[\"SEQ\"] = dataset[\"Cloned and Tested C. i. Sequence\"].apply(lambda x: x.replace(\"ACCCAACTTT\", \"\"))\n",
    "#dataset[\"SEQ\"] = dataset[\"SEQ\"].apply(lambda x: x.replace(\"AAAGTAGGCT\", \"\"))\n",
    "dataset[\"FXN_LABEL\"] = (dataset[\"Enhancer Activity\"] != \"none\").astype(int)\n",
    "dataset[\"SEQ_LEN\"] = dataset[\"SEQ\"].apply(len)\n",
    "dataset[\"NAME\"] = dataset[\"Position\"] + \":\" + dataset[\"Start\"].astype(str) + \":\" + dataset[\"End\"].astype(str)\n",
    "dataset[\"TILE\"] = \"full\"\n",
    "dataset = dataset[[\"NAME\", \"SEQ\", \"FXN_LABEL\", \"TILE\", \"SEQ_LEN\"]]\n",
    "dataset.head(1)"
   ]
  },
  {
   "cell_type": "code",
   "execution_count": 140,
   "id": "9faed824-b75e-412f-9b74-56b98167b915",
   "metadata": {
    "execution": {
     "iopub.execute_input": "2021-11-27T07:04:01.609294Z",
     "iopub.status.busy": "2021-11-27T07:04:01.609040Z",
     "iopub.status.idle": "2021-11-27T07:04:02.813962Z",
     "shell.execute_reply": "2021-11-27T07:04:02.813128Z",
     "shell.execute_reply.started": "2021-11-27T07:04:01.609263Z"
    },
    "tags": []
   },
   "outputs": [
    {
     "data": {
      "text/plain": [
       "0    12\n",
       "1     8\n",
       "Name: FXN_LABEL, dtype: int64"
      ]
     },
     "execution_count": 140,
     "metadata": {},
     "output_type": "execute_result"
    }
   ],
   "source": [
    "# Save non-tiled dataframe in standard format\n",
    "dataset.to_csv(\"2010_Khoueiry_CellPress.tsv\", index=False, sep=\"\\t\")\n",
    "\n",
    "# Double check valid labeling\n",
    "dataset[\"FXN_LABEL\"].value_counts()"
   ]
  },
  {
   "cell_type": "markdown",
   "id": "e3c04701-11b0-4347-9ed4-66a5e85854a7",
   "metadata": {
    "tags": []
   },
   "source": [
    "## Create tiled dataframe"
   ]
  },
  {
   "cell_type": "code",
   "execution_count": 141,
   "id": "cdb6bcd9-20fc-4b36-8670-781f540b7808",
   "metadata": {
    "execution": {
     "iopub.execute_input": "2021-11-27T07:04:02.815916Z",
     "iopub.status.busy": "2021-11-27T07:04:02.815335Z",
     "iopub.status.idle": "2021-11-27T07:04:04.008098Z",
     "shell.execute_reply": "2021-11-27T07:04:04.007071Z",
     "shell.execute_reply.started": "2021-11-27T07:04:02.815867Z"
    },
    "tags": []
   },
   "outputs": [
    {
     "name": "stdout",
     "output_type": "stream",
     "text": [
      "AAAGTAGGCTATATGCTACAGCCCAGAGCTCATGGATTTTAATGGGATCGGCTATCTAGGCCGACCCTCGCTCTCCCAAGGAAATGTCCACCTTCCAGCCGGGAAAAGATAACCGCTCGCCAGAGCGACGCTTTCCGGCTGACAAATTGTGTCGGACCTTGATAGCATTCCTGTTCCCTATCGGACCCAACTTT  195\n",
      "AAAGTAGGCTATCGCGACCACTGATCGTCGCGTAATTATTTTGAGGCAACATATCGATCAGCGATCTCGGCAACGATAGCgAaATtctccCTCAGCTTTCTCGGAAGCGCTCGCTGCTGGTTATCCGGAAAAGTGcggAACTTCCCTCGCTCTCCAGCAGCAacGACTCGGGAACCCAACTTT 183\n",
      "AAAGTAGGCTTTGTATAATTCCCAATTAGAACACACAGGTAGGGTAATACATTAGAATGTCTTTGATTAGACTAGCAAGATAGGCACCTAATTTCCTATGTTGGTACAACTGGTTTTAGAAAATTATAAAAATTTCCTGCTATAATCGGTTAGAGCAAGGAACGGTGATTACCCAACTTT 180\n",
      "AAAGTAGGCTTTAACATGGAATCTATTCCCCGTGACGATGAGATAAGGACAAGCGGAAACCGACCAACGCGTATTTCGAGAACTATTTATCTCGACTGATTCCTGTTCCTTCCTTTCCTTCCGCCCGCAGCTTACCGGTAAACAACCCAACTTT 154\n",
      "AAAGTAGGCTTCTTGCTTTGTTGTTTTTGTTTTGAAACTGGTGAGCAGCACCGGAAATTGGTCTCAGTTCTCTAGCCAGTCTACTTCCTGCTGTTACTGCTAAACGATAACATTTCTCTTGTACATGATATCATTCTATGGTTCATATAAGTTGAAACACAATATGCATTACATTTACCCAACTTT 186\n",
      "AAAGTAGGCTCTTGGTATTTGTACCTGACGCGTGCTACGCCTTCCTTTCGTAACACAATGACTTAATTATCTTCTTTATCTTTATTTATTTGACTTCCGATCGCCCGTCGCTTTCCCATGCGCACGTGGACCCAACTTT 139\n",
      "AAAGTAGGCTACGGCCATAGTAGATTTAGCTTCCTGGTAAAAACATCAGTAGTTCCTGGTCTTTACCCTAAACCAGGAAATAACCGCTTTGTTTTCGCGATCGCCTAATAGATATCAGCGTCTTCGTATAAACTCAATGCGGAAGTACAGAATAAAGATAGACTTCGACGCACACAATGTATTGTGTTACTCTCCCTTGACTAACACTGTGAGAACCAACCCAACTTT 228\n",
      "CGTTATCTCTAACGGAAGTTTTCGAAAAGGAAATTGTTCAATATCTAAGATAGGA 55\n",
      "too short: 55\n",
      "AAAGTAGGCTTTCAAATAAATAGGGATTGTGACGTCACAACCGGATGATTATGAATCGATAATGGTGATTGTTGGTGTGATTGTTCCCATCATATCGCGGCGGAAGTGACGATTTTAACACGTGATCCCCTACCCAACTTT 141\n",
      "AAAGTAGGCTATACAACGCGTGTCGAATCTGAATGTTCAATTCAATAACTGACACAATTTAACAAGCAATAGATAAAAGTCATTCAACCTGGCAGAAACGTGAATATTGCTTCAAGCGATGCCTATACATTACTTCCTCTTTACAACAAACAATTTCCTGGATTACGAGTTCAATGTGATCGGACAGTAATCCCCTTGCCAGTTAAAAACTTATACACCCAACTTT 226\n",
      "AAAGTAGGCTCCGCCTCTCCTGCTATTGTCTTGCGGAAATGGGGTCGAGGAAAAGGGTTAGTCAGATACAAGGCCCGATCAGCGTCCGAGGAAATCAGGTCGTCTCGCGAAGCGCTCGCGCGTAACAACAAAGGAGACGCTTTCCATCGTGCTCTTGTCCGCCGACTTCTCGCTATCACACCGTGGAGAGAACAAAAGAGTGAATACCCACGCACCCAACTTT 223\n",
      "AAAGTAGGCTCATAATTAAGTATTTGCTTACCGGTAGTCTTGATATGTTGGTGTGATACTTCAGTTCATCCACGAGCTTCCTCGCGCTTTCCAAATTACATGATAATTGGGAGTTCATGATTGCTCTTGTTACCCAACTTT 141\n",
      "AAAGTAGGCTCTTAACTGGCAGATGTGGGCCGATAAGCCACgAAAAGAGCCCTTGCTTCGTTTCGTGGATAAtTTTTAAAGCACTGCCTTCCTAGAGGTAGCTATCACTGTAGTTGGAACGTTGGCGGTTACCCAACTTT 140\n",
      "AAAGTAGGCTTATGTTGTTCACAAACTACCTGGTTATCTTATTTCTATCAGTCCATTACTGTCGGAAAGGCTCATATAGCTCTGTGGCGTTCCGGAAAGGCCTCCTGCACGGTTAAgCAACCCAACTTT 129\n",
      "AAAGTAGGCTCAACAACCAACTAAAAACAAGCCTTGGAAAACAgAATTGATTAAACCAGCAGCGGAAATGCTGAAATACTTAgACAGTGAAGTAGATATGAAACAAGGATATCATCTCGCCGATATTTTGTCCAAAACTACCCAACTTT 149\n",
      "AAAGTAGGCTTCACTGTAATGATTTTGAAAGGGGGTCTCGGTGGGCGTATCTAAGTGATATGAAAGTGGCAACAGGAAACAGCTTTCAGATTTAACAGGCCGTCTCGCGCCGCTGACTTCTTGGAAGCGTTCTGTATTTATTCTAATGGGACCCAACTTT 160\n",
      "AAAGTAGGCTACAAGATAGCATTGATTGCATGCTATCCATGGGAGGGGGAAGGGAAAGAACAGATGGAGGAGAAAGCTCCGGATATGAATCTTCCGGAGGATCAGCAGTGGATGTTAGAAAACTAGAGTTAGCATGTCAGACCCAACTTT 150\n",
      "AAAGTAGGCTACCAAAGTTGACGCAAGTTATGTCAAACATAGATAACAACAATGTCATCTTATCTACGCAACTAGGAAACATAATCATTTATAAAACTTTCTATCTACTTAAACGGAAACCCTTTGTTACGTCACGGTGACGTATTATCTGACGTCAACCCAACTTT 167\n",
      "AAAGTAGGCTGTGATTGCAGGATTGGCATCCATGTATCTCTTCCTCATTCATGAACAAATTTCCAAGTGAAATTATGTCGGATGGGAACTTCAATTCGAGTGAAAAATCACCAAGTAATATTGATAGAGGTTTAgCACCGTGGAAAGtAAACCCAACTTT 160\n",
      "AAAGTAGGCTGATATGGATTTGTGAGCTGTACCTTCCAAAAGCATCATCCGTCGTACAGGTATATATACCAGTATCCTCTTTTGACACAGAGGCTAGATATAACATGGGTTGTGTTCTTAAAGTATTATTAACCCAACTTT 141\n"
     ]
    }
   ],
   "source": [
    "# Find and concatenate tiles\n",
    "tile_seqs = []\n",
    "for i, enh in dataset.iterrows():\n",
    "    seq = enh[\"SEQ\"]\n",
    "    print(seq, enh[\"SEQ_LEN\"])\n",
    "    if len(seq) > 66:\n",
    "        for j in range(len(seq)-66+1):\n",
    "            tile = seq[j:j+66]\n",
    "            tile_seqs.append([enh[\"NAME\"], tile, enh[\"FXN_LABEL\"], j, 66])\n",
    "    else:\n",
    "        print(\"too short:\", len(seq))\n",
    "dataset_tiled = pd.concat([dataset, pd.DataFrame(data=tile_seqs, columns=dataset.columns)]).sort_values([\"NAME\", \"TILE\"]).reset_index()\n",
    "\n",
    "# Save tiled dataframe in standard format\n",
    "dataset_tiled = dataset_tiled.drop('index', axis=1)\n",
    "dataset_tiled.to_csv(\"2010_Khoueiry_CellPress-tiled.tsv\", index=False, sep=\"\\t\")"
   ]
  },
  {
   "cell_type": "markdown",
   "id": "fec39fbe-a8ba-406e-a144-df2cdd460353",
   "metadata": {},
   "source": [
    "# Save labels, IDs, and Seqs"
   ]
  },
  {
   "cell_type": "markdown",
   "id": "20a60c11-0db3-4da5-894a-9b1914efe4ea",
   "metadata": {
    "tags": []
   },
   "source": [
    "### **Binary Labels**\n",
    "0 (non-functional) and 1 (functional). These are all the same"
   ]
  },
  {
   "cell_type": "code",
   "execution_count": 142,
   "id": "c1379319-748f-43dd-b88b-19a796a4177e",
   "metadata": {
    "execution": {
     "iopub.execute_input": "2021-11-27T07:04:04.009906Z",
     "iopub.status.busy": "2021-11-27T07:04:04.009584Z",
     "iopub.status.idle": "2021-11-27T07:04:05.822433Z",
     "shell.execute_reply": "2021-11-27T07:04:05.821511Z",
     "shell.execute_reply.started": "2021-11-27T07:04:04.009864Z"
    },
    "tags": []
   },
   "outputs": [
    {
     "name": "stdout",
     "output_type": "stream",
     "text": [
      "  20 binary/y_binary.txt\n",
      "1977 binary/y-tiled_binary.txt\n",
      "1997 total\n"
     ]
    }
   ],
   "source": [
    "# Save the labels\n",
    "if not os.path.isdir(\"binary\"):\n",
    "    os.makedirs(\"binary\")\n",
    "\n",
    "y = dataset[\"FXN_LABEL\"].values\n",
    "y_tiled = dataset_tiled[\"FXN_LABEL\"].values\n",
    "np.savetxt(\"binary/y_binary.txt\", X=y, fmt=\"%d\")\n",
    "np.savetxt(\"binary/y-tiled_binary.txt\", X=y_tiled, fmt=\"%d\")\n",
    "\n",
    "!wc -l binary/*"
   ]
  },
  {
   "cell_type": "markdown",
   "id": "87f8c77e-023d-445b-bb69-09da806ac219",
   "metadata": {
    "tags": []
   },
   "source": [
    "### **Identifiers**\n",
    "Name of the sequence to identify it"
   ]
  },
  {
   "cell_type": "code",
   "execution_count": 158,
   "id": "2c196488-ff88-49da-97ab-69b48ff5111c",
   "metadata": {
    "execution": {
     "iopub.execute_input": "2021-11-27T07:13:11.401400Z",
     "iopub.status.busy": "2021-11-27T07:13:11.401089Z",
     "iopub.status.idle": "2021-11-27T07:13:13.320442Z",
     "shell.execute_reply": "2021-11-27T07:13:13.319506Z",
     "shell.execute_reply.started": "2021-11-27T07:13:11.401368Z"
    },
    "tags": []
   },
   "outputs": [
    {
     "name": "stdout",
     "output_type": "stream",
     "text": [
      " 1977 id/id-tiled.txt\n",
      "   20 id/id.txt\n",
      " 1997 total\n"
     ]
    }
   ],
   "source": [
    "# Save the ids\n",
    "if not os.path.isdir(\"id\"):\n",
    "    os.makedirs(\"id\")\n",
    "    \n",
    "ID = dataset[\"NAME\"].values\n",
    "ID_tiled = (dataset_tiled[\"NAME\"] + \":\" + dataset_tiled[\"TILE\"].astype(str)).values\n",
    "np.savetxt(\"id/id.txt\", X=ID, fmt=\"%s\")\n",
    "np.savetxt(\"id/id-tiled.txt\", X=ID_tiled, fmt=\"%s\")\n",
    "\n",
    "!wc -l id/*"
   ]
  },
  {
   "cell_type": "markdown",
   "id": "1b4a9bf9-2776-42c3-9907-5c0ac35bf6d3",
   "metadata": {
    "tags": []
   },
   "source": [
    "### **Sequences**\n",
    "ACGT..."
   ]
  },
  {
   "cell_type": "code",
   "execution_count": 144,
   "id": "3b229030-5cb3-43a0-a38b-b10f795eed94",
   "metadata": {
    "execution": {
     "iopub.execute_input": "2021-11-27T07:04:07.516009Z",
     "iopub.status.busy": "2021-11-27T07:04:07.515733Z",
     "iopub.status.idle": "2021-11-27T07:04:09.321290Z",
     "shell.execute_reply": "2021-11-27T07:04:09.320196Z",
     "shell.execute_reply.started": "2021-11-27T07:04:07.515977Z"
    },
    "tags": []
   },
   "outputs": [
    {
     "name": "stdout",
     "output_type": "stream",
     "text": [
      "  1977 seqs/seqs-tiled.txt\n",
      "    20 seqs/seqs.txt\n",
      "  1997 total\n"
     ]
    }
   ],
   "source": [
    "# Save the seqs\n",
    "if not os.path.isdir(\"seqs\"):\n",
    "    os.makedirs(\"seqs\")\n",
    "    \n",
    "X_seqs = dataset[\"SEQ\"].values\n",
    "X_seqs_tiled = dataset_tiled[\"SEQ\"].values\n",
    "np.savetxt(\"seqs/seqs.txt\", X=X_seqs, fmt=\"%s\")\n",
    "np.savetxt(\"seqs/seqs-tiled.txt\", X=X_seqs_tiled, fmt=\"%s\")\n",
    "\n",
    "!wc -l seqs/*"
   ]
  },
  {
   "cell_type": "markdown",
   "id": "c3ced0aa-de42-405b-b072-36e9e1ec1fec",
   "metadata": {
    "tags": []
   },
   "source": [
    "# Preprocess and save different feature sets"
   ]
  },
  {
   "cell_type": "markdown",
   "id": "cb7cf13b-ad5c-4580-87d5-909f2cfe69dd",
   "metadata": {
    "tags": []
   },
   "source": [
    "## **<u>Sequence feature idea 2 </u>**: Mixed encodings "
   ]
  },
  {
   "cell_type": "markdown",
   "id": "2c2ed9e2-7d6d-4eea-9264-08142fcc23c2",
   "metadata": {},
   "source": [
    "### **Generate all valid encodings**"
   ]
  },
  {
   "cell_type": "code",
   "execution_count": 160,
   "id": "77b5e912-5732-471f-9f84-07be43b3c669",
   "metadata": {
    "execution": {
     "iopub.execute_input": "2021-11-28T01:37:39.483669Z",
     "iopub.status.busy": "2021-11-28T01:37:39.482581Z",
     "iopub.status.idle": "2021-11-28T01:37:41.776934Z",
     "shell.execute_reply": "2021-11-28T01:37:41.776221Z",
     "shell.execute_reply.started": "2021-11-28T01:37:39.483324Z"
    },
    "tags": []
   },
   "outputs": [
    {
     "name": "stderr",
     "output_type": "stream",
     "text": [
      "20it [00:00, 185.69it/s]\n"
     ]
    },
    {
     "data": {
      "text/plain": [
       "((6, 21), (6, 26), (6, 21), 6)"
      ]
     },
     "execution_count": 160,
     "metadata": {},
     "output_type": "execute_result"
    }
   ],
   "source": [
    "X_mixed1s, X_mixed2s, X_mixed3s, valid_idxs = otx_enhancer_utils.mixed_encode(dataset)\n",
    "X_mixed1s.shape, X_mixed2s.shape, X_mixed3s.shape, len(valid_idxs)"
   ]
  },
  {
   "cell_type": "code",
   "execution_count": null,
   "id": "be732271-66ee-41c2-bb92-c0990c8c1204",
   "metadata": {
    "execution": {
     "iopub.execute_input": "2021-11-28T01:40:14.478441Z",
     "iopub.status.busy": "2021-11-28T01:40:14.478242Z",
     "iopub.status.idle": "2021-11-28T01:40:16.057212Z",
     "shell.execute_reply": "2021-11-28T01:40:16.056244Z",
     "shell.execute_reply.started": "2021-11-28T01:40:14.478416Z"
    },
    "tags": []
   },
   "outputs": [],
   "source": [
    "X_mixed1s[0], X_mixed2s[0], X_mixed3s[0]"
   ]
  },
  {
   "cell_type": "code",
   "execution_count": 162,
   "id": "d1ae3ba6-d6b5-49eb-8fd7-8770af88a9c5",
   "metadata": {
    "execution": {
     "iopub.execute_input": "2021-11-28T01:37:43.078007Z",
     "iopub.status.busy": "2021-11-28T01:37:43.077770Z",
     "iopub.status.idle": "2021-11-28T01:37:55.329405Z",
     "shell.execute_reply": "2021-11-28T01:37:55.328728Z",
     "shell.execute_reply.started": "2021-11-28T01:37:43.077959Z"
    },
    "tags": []
   },
   "outputs": [
    {
     "name": "stderr",
     "output_type": "stream",
     "text": [
      "1977it [00:10, 182.42it/s]\n"
     ]
    },
    {
     "data": {
      "text/plain": [
       "((211, 21), (211, 26), (211, 21), 211)"
      ]
     },
     "execution_count": 162,
     "metadata": {},
     "output_type": "execute_result"
    }
   ],
   "source": [
    "X_mixed1s_tiled, X_mixed2s_tiled, X_mixed3s_tiled, valid_idxs_tiled = otx_enhancer_utils.mixed_encode(dataset_tiled)\n",
    "X_mixed1s_tiled.shape, X_mixed2s_tiled.shape, X_mixed3s_tiled.shape, len(valid_idxs_tiled)"
   ]
  },
  {
   "cell_type": "markdown",
   "id": "badb6f97-51d9-4c59-8945-909c152e3699",
   "metadata": {
    "tags": []
   },
   "source": [
    "### *Mixed 1.0*\n",
    " - Replace binding sites using dictionary\n",
    " - Separate based on these binding sites and add create \"dummy variables\"\n",
    " - Get lengths of linkers around binding sites"
   ]
  },
  {
   "cell_type": "code",
   "execution_count": 178,
   "id": "54bb8f16-30d5-4f09-a598-f4c0377294e7",
   "metadata": {
    "execution": {
     "iopub.execute_input": "2021-11-28T01:41:37.695319Z",
     "iopub.status.busy": "2021-11-28T01:41:37.695097Z",
     "iopub.status.idle": "2021-11-28T01:41:40.080345Z",
     "shell.execute_reply": "2021-11-28T01:41:40.079560Z",
     "shell.execute_reply.started": "2021-11-28T01:41:37.695293Z"
    },
    "tags": []
   },
   "outputs": [
    {
     "name": "stdout",
     "output_type": "stream",
     "text": [
      "    5 mixed_1.0/0.09-0.4_0.9-split_X-test_mixed-1.0.npy\n",
      "   52 mixed_1.0/0.09-0.4_0.9-split_X-test_mixed-1.0-tiled.npy\n",
      "    2 mixed_1.0/0.18-0.4_0.9-split_X-test_mixed-1.0.npy\n",
      "  150 mixed_1.0/0.18-0.4_0.9-split_X-test_mixed-1.0-tiled.npy\n",
      "  211 mixed_1.0/id-valid-tiled.txt\n",
      "    6 mixed_1.0/id-valid.txt\n",
      "  426 total\n"
     ]
    }
   ],
   "source": [
    "# Load in training stats\n",
    "with open(\"../2021_OLS_Library/mixed_1.0/{}_X-train-{}_stats.pickle\".format(PREPROCESS, SPLIT), 'rb') as handle:\n",
    "    train_stats = pickle.load(handle)\n",
    "scale_indeces = train_stats[\"indeces\"]\n",
    "\n",
    "# Full sequences\n",
    "X_mixed1s[:, scale_indeces] -= train_stats[\"means\"]\n",
    "X_mixed1s[:, scale_indeces] /= train_stats[\"stds\"]\n",
    "\n",
    "# Tiled sequences\n",
    "X_mixed1s_tiled[:, scale_indeces] -= train_stats[\"means\"]\n",
    "X_mixed1s_tiled[:, scale_indeces] /= train_stats[\"stds\"]\n",
    "valid_tiled_names = dataset_tiled.loc[valid_idxs_tiled][\"NAME\"] + \":\" + dataset_tiled.loc[valid_idxs_tiled][\"TILE\"].astype(str)\n",
    "\n",
    "# Save the vals\n",
    "if not os.path.isdir(\"mixed_1.0\"):\n",
    "    os.makedirs(\"mixed_1.0\")\n",
    "    \n",
    "np.save(\"mixed_1.0/{}_{}-split_X-test_mixed-1.0\".format(PREPROCESS, SPLIT), X_mixed1s)\n",
    "np.savetxt(\"mixed_1.0/id-valid.txt\", X=ID[valid_idxs], fmt=\"%s\")\n",
    "np.save(\"mixed_1.0/{}_{}-split_X-test_mixed-1.0-tiled\".format(PREPROCESS, SPLIT), X_mixed1s_tiled)\n",
    "np.savetxt(\"mixed_1.0/id-valid-tiled.txt\", X=valid_tiled_names, fmt=\"%s\")\n",
    "\n",
    "!wc -l mixed_1.0/*"
   ]
  },
  {
   "cell_type": "markdown",
   "id": "740cb6a1-0fd6-4dc1-afbb-4fc5f0bed605",
   "metadata": {
    "tags": []
   },
   "source": [
    "### *Mixed 2.0*\n",
    " - Replace binding sites using dictionary\n",
    " - 4 bit vector for each binding site [ets_affinity ets_orientation gata_affinity gata_orientation] - ties together the identity to affinity\n",
    " - Get lengths of linkers around binding sites"
   ]
  },
  {
   "cell_type": "code",
   "execution_count": 179,
   "id": "ee4c3b6a-7eed-4437-ba20-eb8c5aba9a13",
   "metadata": {
    "execution": {
     "iopub.execute_input": "2021-11-28T01:41:40.081908Z",
     "iopub.status.busy": "2021-11-28T01:41:40.081693Z",
     "iopub.status.idle": "2021-11-28T01:41:42.323470Z",
     "shell.execute_reply": "2021-11-28T01:41:42.322509Z",
     "shell.execute_reply.started": "2021-11-28T01:41:40.081881Z"
    },
    "tags": []
   },
   "outputs": [
    {
     "name": "stdout",
     "output_type": "stream",
     "text": [
      "    3 mixed_2.0/0.09-0.4_0.9-split_X-test_mixed-2.0.npy\n",
      "   54 mixed_2.0/0.09-0.4_0.9-split_X-test_mixed-2.0-tiled.npy\n",
      "    1 mixed_2.0/0.18-0.4_0.9-split_X-test_mixed-2.0.npy\n",
      "  122 mixed_2.0/0.18-0.4_0.9-split_X-test_mixed-2.0-tiled.npy\n",
      "  211 mixed_2.0/id-valid-tiled.txt\n",
      "    6 mixed_2.0/id-valid.txt\n",
      "  397 total\n"
     ]
    }
   ],
   "source": [
    "# Load in training stats\n",
    "with open(\"../2021_OLS_Library/mixed_2.0/{}_X-train-{}_stats.pickle\".format(PREPROCESS, SPLIT), 'rb') as handle:\n",
    "    train_stats = pickle.load(handle)\n",
    "scale_indeces = train_stats[\"indeces\"]\n",
    "\n",
    "# Full sequences\n",
    "X_mixed2s[:, scale_indeces] -= train_stats[\"means\"]\n",
    "X_mixed2s[:, scale_indeces] /= train_stats[\"stds\"]\n",
    "\n",
    "# Tiled sequences\n",
    "X_mixed2s_tiled[:, scale_indeces] -= train_stats[\"means\"]\n",
    "X_mixed2s_tiled[:, scale_indeces] /= train_stats[\"stds\"]\n",
    "valid_tiled_names = dataset_tiled.loc[valid_idxs_tiled][\"NAME\"] + \":\" + dataset_tiled.loc[valid_idxs_tiled][\"TILE\"].astype(str)\n",
    "\n",
    "# Save the vals\n",
    "if not os.path.isdir(\"mixed_2.0\"):\n",
    "    os.makedirs(\"mixed_2.0\")\n",
    "    \n",
    "np.save(\"mixed_2.0/{}_{}-split_X-test_mixed-2.0\".format(PREPROCESS, SPLIT), X_mixed2s)\n",
    "np.savetxt(\"mixed_2.0/id-valid.txt\", X=ID[valid_idxs], fmt=\"%s\")\n",
    "np.save(\"mixed_2.0/{}_{}-split_X-test_mixed-2.0-tiled\".format(PREPROCESS, SPLIT), X_mixed2s_tiled)\n",
    "np.savetxt(\"mixed_2.0/id-valid-tiled.txt\", X=valid_tiled_names, fmt=\"%s\")\n",
    "\n",
    "!wc -l mixed_2.0/*"
   ]
  },
  {
   "cell_type": "markdown",
   "id": "ade83bb3-987c-40f5-ab06-3f7332027565",
   "metadata": {
    "tags": []
   },
   "source": [
    "### *Mixed 3.0*\n",
    " - Replace binding sites using dictionary\n",
    " - 3 bit vector for each binding site [ets_affinity gata_affinity orientation] - ties together the identity to affinity while removing redundant info from mixed-2.0\n",
    " - Get lengths of linkers around binding sites"
   ]
  },
  {
   "cell_type": "code",
   "execution_count": 180,
   "id": "24208449-c6ad-4410-9886-882bbfbb435a",
   "metadata": {
    "execution": {
     "iopub.execute_input": "2021-11-28T01:41:42.325808Z",
     "iopub.status.busy": "2021-11-28T01:41:42.325526Z",
     "iopub.status.idle": "2021-11-28T01:41:44.399081Z",
     "shell.execute_reply": "2021-11-28T01:41:44.398346Z",
     "shell.execute_reply.started": "2021-11-28T01:41:42.325742Z"
    },
    "tags": []
   },
   "outputs": [
    {
     "name": "stdout",
     "output_type": "stream",
     "text": [
      "    3 mixed_3.0/0.09-0.4_0.9-split_X-test_mixed-3.0.npy\n",
      "   54 mixed_3.0/0.09-0.4_0.9-split_X-test_mixed-3.0-tiled.npy\n",
      "    1 mixed_3.0/0.18-0.4_0.9-split_X-test_mixed-3.0.npy\n",
      "  122 mixed_3.0/0.18-0.4_0.9-split_X-test_mixed-3.0-tiled.npy\n",
      "  211 mixed_3.0/id-valid-tiled.txt\n",
      "    6 mixed_3.0/id-valid.txt\n",
      "  397 total\n"
     ]
    }
   ],
   "source": [
    "# Load in training stats\n",
    "with open(\"../2021_OLS_Library/mixed_3.0/{}_X-train-{}_stats.pickle\".format(PREPROCESS, SPLIT), 'rb') as handle:\n",
    "    train_stats = pickle.load(handle)\n",
    "scale_indeces = train_stats[\"indeces\"]\n",
    "\n",
    "# Full sequences\n",
    "X_mixed3s[:, scale_indeces] -= train_stats[\"means\"]\n",
    "X_mixed3s[:, scale_indeces] /= train_stats[\"stds\"]\n",
    "\n",
    "# Tiled sequences\n",
    "X_mixed3s_tiled[:, scale_indeces] -= train_stats[\"means\"]\n",
    "X_mixed3s_tiled[:, scale_indeces] /= train_stats[\"stds\"]\n",
    "valid_tiled_names = dataset_tiled.loc[valid_idxs_tiled][\"NAME\"] + \":\" + dataset_tiled.loc[valid_idxs_tiled][\"TILE\"].astype(str)\n",
    "\n",
    "# Save the vals\n",
    "if not os.path.isdir(\"mixed_3.0\"):\n",
    "    os.makedirs(\"mixed_3.0\")\n",
    "    \n",
    "np.save(\"mixed_3.0/{}_{}-split_X-test_mixed-3.0\".format(PREPROCESS, SPLIT), X_mixed3s)\n",
    "np.savetxt(\"mixed_3.0/id-valid.txt\", X=ID[valid_idxs], fmt=\"%s\")\n",
    "np.save(\"mixed_3.0/{}_{}-split_X-test_mixed-3.0-tiled\".format(PREPROCESS, SPLIT), X_mixed3s_tiled)\n",
    "np.savetxt(\"mixed_3.0/id-valid-tiled.txt\", X=valid_tiled_names, fmt=\"%s\")\n",
    "\n",
    "!wc -l mixed_3.0/*"
   ]
  },
  {
   "cell_type": "markdown",
   "id": "b302f7cc-3f9a-4e79-8c94-75d52570efa3",
   "metadata": {
    "tags": []
   },
   "source": [
    "## **<u>Sequence feature idea 3 </u>**: Use the actual sequence (one-hot encoded)\n",
    " - One hot encoded sequence: each position is encoded as a 1-D vector of size 4 e.g., AT is [[1,0,0,0], [0,0,0,1]]\n",
    " - Generally, we will get inputs of size (len(seq) X 4). The above example would be of size 2x4\n",
    " - Can also save the string seqs in case those are also useful down the line"
   ]
  },
  {
   "cell_type": "markdown",
   "id": "6cbafa85-c7e9-4251-97ff-06d4a04b7a80",
   "metadata": {},
   "source": [
    "**Q** Are all sequences the same length"
   ]
  },
  {
   "cell_type": "code",
   "execution_count": 151,
   "id": "6578b3a9-c00c-4887-a3a3-82638b200653",
   "metadata": {
    "execution": {
     "iopub.execute_input": "2021-11-27T07:10:10.619771Z",
     "iopub.status.busy": "2021-11-27T07:10:10.619507Z",
     "iopub.status.idle": "2021-11-27T07:10:11.990483Z",
     "shell.execute_reply": "2021-11-27T07:10:11.989464Z",
     "shell.execute_reply.started": "2021-11-27T07:10:10.619739Z"
    },
    "tags": []
   },
   "outputs": [
    {
     "data": {
      "text/plain": [
       "141    3\n",
       "160    2\n",
       "55     1\n",
       "195    1\n",
       "228    1\n",
       "167    1\n",
       "139    1\n",
       "140    1\n",
       "186    1\n",
       "226    1\n",
       "150    1\n",
       "180    1\n",
       "149    1\n",
       "129    1\n",
       "183    1\n",
       "154    1\n",
       "223    1\n",
       "Name: SEQ, dtype: int64"
      ]
     },
     "execution_count": 151,
     "metadata": {},
     "output_type": "execute_result"
    }
   ],
   "source": [
    "# Check the lengths of sequences to make sure they are all the same\n",
    "dataset[\"SEQ\"].apply(len).value_counts()"
   ]
  },
  {
   "cell_type": "markdown",
   "id": "bc93490c-c89f-4d58-895a-d5349cd4f9ce",
   "metadata": {},
   "source": [
    "**Answer**: Nope"
   ]
  },
  {
   "cell_type": "markdown",
   "id": "b863a793-20b2-4152-aa56-68d23b84db77",
   "metadata": {
    "tags": []
   },
   "source": [
    "### *Forward Encoding*"
   ]
  },
  {
   "cell_type": "markdown",
   "id": "a9ae1b55-f7a1-4ffa-8a77-0b152b23f4a4",
   "metadata": {},
   "source": [
    "**Full sequences**"
   ]
  },
  {
   "cell_type": "code",
   "execution_count": 152,
   "id": "61461c5b-e31d-4849-a9a7-4ca61c5449e8",
   "metadata": {
    "execution": {
     "iopub.execute_input": "2021-11-27T07:10:11.992007Z",
     "iopub.status.busy": "2021-11-27T07:10:11.991744Z",
     "iopub.status.idle": "2021-11-27T07:10:13.057422Z",
     "shell.execute_reply": "2021-11-27T07:10:13.056655Z",
     "shell.execute_reply.started": "2021-11-27T07:10:11.991976Z"
    },
    "tags": []
   },
   "outputs": [
    {
     "name": "stderr",
     "output_type": "stream",
     "text": [
      "100%|██████████| 20/20 [00:00<00:00, 903.86it/s]"
     ]
    },
    {
     "name": "stdout",
     "output_type": "stream",
     "text": [
      "Encoded 20 seqs\n",
      "Checking all 20 seqs for proper encoding\n",
      "Sequence encoding was great success\n"
     ]
    },
    {
     "name": "stderr",
     "output_type": "stream",
     "text": [
      "\n",
      "/cellar/users/aklie/projects/EUGENE/bin/project_utils.py:172: VisibleDeprecationWarning: Creating an ndarray from ragged nested sequences (which is a list-or-tuple of lists-or-tuples-or ndarrays with different lengths or shapes) is deprecated. If you meant to do this, you must specify 'dtype=object' when creating the ndarray.\n",
      "  \n"
     ]
    },
    {
     "data": {
      "text/plain": [
       "('AAAGT',\n",
       " array([[1., 0., 0., 0.],\n",
       "        [1., 0., 0., 0.],\n",
       "        [1., 0., 0., 0.],\n",
       "        [0., 0., 1., 0.],\n",
       "        [0., 0., 0., 1.]]))"
      ]
     },
     "execution_count": 152,
     "metadata": {},
     "output_type": "execute_result"
    }
   ],
   "source": [
    "# Get the sequences only\n",
    "X_seqs = [seq.upper().strip() for seq in dataset[\"SEQ\"].values]\n",
    "X_ohe_seq = project_utils.ohe_seqs(X_seqs)\n",
    "\n",
    "# Save the seqs\n",
    "if not os.path.isdir(\"ohe_seq\"):\n",
    "    os.makedirs(\"ohe_seq\")\n",
    "    \n",
    "# Save in binary format\n",
    "np.save(\"ohe_seq/X_ohe-seq\", X_ohe_seq)\n",
    "\n",
    "# Quick check\n",
    "X_seqs[0][:5], X_ohe_seq[0][:5]"
   ]
  },
  {
   "cell_type": "markdown",
   "id": "db8a0807-e17b-4d7b-a150-f9e595a2218b",
   "metadata": {
    "tags": []
   },
   "source": [
    "### *Reverse encoding*"
   ]
  },
  {
   "cell_type": "markdown",
   "id": "2468741d-41a5-49b9-9d6e-d467b71a3cee",
   "metadata": {},
   "source": [
    "**Full sequences**"
   ]
  },
  {
   "cell_type": "code",
   "execution_count": 153,
   "id": "31113489-b24b-4a35-a040-df802679e34c",
   "metadata": {
    "execution": {
     "iopub.execute_input": "2021-11-27T07:10:13.058790Z",
     "iopub.status.busy": "2021-11-27T07:10:13.058565Z",
     "iopub.status.idle": "2021-11-27T07:10:14.280504Z",
     "shell.execute_reply": "2021-11-27T07:10:14.279719Z",
     "shell.execute_reply.started": "2021-11-27T07:10:13.058762Z"
    },
    "tags": []
   },
   "outputs": [
    {
     "name": "stderr",
     "output_type": "stream",
     "text": [
      "100%|██████████| 20/20 [00:00<00:00, 996.02it/s]"
     ]
    },
    {
     "name": "stdout",
     "output_type": "stream",
     "text": [
      "Encoded 20 seqs\n",
      "Checking all 20 seqs for proper encoding\n",
      "Sequence encoding was great success\n"
     ]
    },
    {
     "name": "stderr",
     "output_type": "stream",
     "text": [
      "\n",
      "/cellar/users/aklie/projects/EUGENE/bin/project_utils.py:172: VisibleDeprecationWarning: Creating an ndarray from ragged nested sequences (which is a list-or-tuple of lists-or-tuples-or ndarrays with different lengths or shapes) is deprecated. If you meant to do this, you must specify 'dtype=object' when creating the ndarray.\n",
      "  \n"
     ]
    },
    {
     "data": {
      "text/plain": [
       "('AAAGT',\n",
       " array([[1., 0., 0., 0.],\n",
       "        [1., 0., 0., 0.],\n",
       "        [1., 0., 0., 0.],\n",
       "        [0., 0., 1., 0.],\n",
       "        [0., 0., 0., 1.]]))"
      ]
     },
     "execution_count": 153,
     "metadata": {},
     "output_type": "execute_result"
    }
   ],
   "source": [
    "# Get the reverse encodings\n",
    "X_rev_seqs = np.array([\"\".join({'A': 'T', 'C': 'G', 'G': 'C', 'T': 'A'}.get(base, base) for base in reversed(seq)) for seq in X_seqs])\n",
    "X_ohe_rev_seq = project_utils.ohe_seqs(X_rev_seqs)\n",
    "\n",
    "# Save the seqs\n",
    "if not os.path.isdir(\"ohe_seq\"):\n",
    "    os.makedirs(\"ohe_seq\")\n",
    "    \n",
    "# Save in binary format\n",
    "np.save(\"ohe_seq/X_ohe-seq-rev\", X_ohe_rev_seq)\n",
    "\n",
    "# Quick check\n",
    "X_rev_seqs[0][:5], X_ohe_rev_seq[0][:5]"
   ]
  },
  {
   "cell_type": "markdown",
   "id": "59350c92-1067-47f6-a7b5-c51429274f62",
   "metadata": {
    "tags": []
   },
   "source": [
    "## **<u>Sequence feature idea 4 </u>**: Use the actual sequence (as fasta)"
   ]
  },
  {
   "cell_type": "code",
   "execution_count": 154,
   "id": "ade9f11f-c9cd-4f99-89a3-0df951fca7c3",
   "metadata": {
    "execution": {
     "iopub.execute_input": "2021-11-27T07:10:14.281957Z",
     "iopub.status.busy": "2021-11-27T07:10:14.281703Z",
     "iopub.status.idle": "2021-11-27T07:10:16.385550Z",
     "shell.execute_reply": "2021-11-27T07:10:16.384608Z",
     "shell.execute_reply.started": "2021-11-27T07:10:14.281924Z"
    },
    "tags": []
   },
   "outputs": [
    {
     "name": "stdout",
     "output_type": "stream",
     "text": [
      "    40 fasta/X_fasta.fa\n",
      "  3954 fasta/X_fasta-tiled.fa\n",
      "  3994 total\n"
     ]
    }
   ],
   "source": [
    "# Create dir\n",
    "if not os.path.isdir(\"fasta\"):\n",
    "    os.makedirs(\"fasta\")\n",
    "\n",
    "# Save full sequences in fasta format\n",
    "dataset = dataset.reset_index()\n",
    "file = open(\"fasta/X_fasta.fa\", \"w\")\n",
    "for i, enh in dataset.iterrows():\n",
    "    file.write(\">\" + ID[i] + \"\\n\" + X_seqs[i].upper().strip() + \"\\n\")\n",
    "file.close()\n",
    "\n",
    "# Save tiled sequences in fasta format\n",
    "pos_tiled = dataset_tiled[\"TILE\"].values\n",
    "file = open(\"fasta/X_fasta-tiled.fa\", \"w\")\n",
    "for i, enh in dataset_tiled.iterrows():\n",
    "    file.write(\">\" + ID_tiled[i] + \":\" + str(pos_tiled[i]) + \"\\n\" + X_seqs_tiled[i].upper().strip() + \"\\n\")\n",
    "file.close()\n",
    "\n",
    "!wc -l fasta/*"
   ]
  },
  {
   "cell_type": "markdown",
   "id": "74c8e8be-dc01-4863-9d7a-7943c071e077",
   "metadata": {
    "tags": []
   },
   "source": [
    "# Final Checks"
   ]
  },
  {
   "cell_type": "code",
   "execution_count": 155,
   "id": "2f630da4-96bc-4242-bbed-54fb66508823",
   "metadata": {
    "execution": {
     "iopub.execute_input": "2021-11-27T07:10:16.387925Z",
     "iopub.status.busy": "2021-11-27T07:10:16.387659Z",
     "iopub.status.idle": "2021-11-27T07:10:18.188693Z",
     "shell.execute_reply": "2021-11-27T07:10:18.187874Z",
     "shell.execute_reply.started": "2021-11-27T07:10:16.387893Z"
    },
    "tags": []
   },
   "outputs": [
    {
     "name": "stdout",
     "output_type": "stream",
     "text": [
      "\u001b[38;5;33m.\u001b[0m\n",
      "├── 1-s2.0-S096098221000432X-mmc2.xls\n",
      "├── 2010_Khoueiry_CellPress.ipynb\n",
      "├── 2021_Khoueiry_CellPress-tiled.tsv\n",
      "├── 2021_Khoueiry_CellPress.tsv\n",
      "├── \u001b[38;5;33mbinary\u001b[0m\n",
      "│   ├── y_binary.txt\n",
      "│   └── y-tiled_binary.txt\n",
      "├── \u001b[38;5;33mfasta\u001b[0m\n",
      "│   ├── X_fasta.fa\n",
      "│   └── X_fasta-tiled.fa\n",
      "├── \u001b[38;5;33mid\u001b[0m\n",
      "│   ├── id-tiled.txt\n",
      "│   └── id.txt\n",
      "├── \u001b[38;5;33mmixed_1.0\u001b[0m\n",
      "│   ├── 0.09-0.4_0.9-split_X-test_mixed-1.0.npy\n",
      "│   ├── 0.09-0.4_0.9-split_X-test_mixed-1.0-tiled.npy\n",
      "│   ├── 0.18-0.4_0.9-split_X-test_mixed-1.0.npy\n",
      "│   ├── 0.18-0.4_0.9-split_X-test_mixed-1.0-tiled.npy\n",
      "│   ├── valid_id-tiled.txt\n",
      "│   └── valid_id.txt\n",
      "├── \u001b[38;5;33mmixed_2.0\u001b[0m\n",
      "│   ├── 0.09-0.4_0.9-split_X-test_mixed-2.0.npy\n",
      "│   ├── 0.09-0.4_0.9-split_X-test_mixed-2.0-tiled.npy\n",
      "│   ├── 0.18-0.4_0.9-split_X-test_mixed-2.0.npy\n",
      "│   ├── 0.18-0.4_0.9-split_X-test_mixed-2.0-tiled.npy\n",
      "│   ├── valid_id-tiled.txt\n",
      "│   └── valid_id.txt\n",
      "├── \u001b[38;5;33mmixed_3.0\u001b[0m\n",
      "│   ├── 0.09-0.4_0.9-split_X-test_mixed-3.0.npy\n",
      "│   ├── 0.09-0.4_0.9-split_X-test_mixed-3.0-tiled.npy\n",
      "│   ├── 0.18-0.4_0.9-split_X-test_mixed-3.0.npy\n",
      "│   ├── 0.18-0.4_0.9-split_X-test_mixed-3.0-tiled.npy\n",
      "│   ├── valid_id-tiled.txt\n",
      "│   └── valid_id.txt\n",
      "├── \u001b[38;5;33mohe_seq\u001b[0m\n",
      "│   ├── X_ohe-seq.npy\n",
      "│   └── X_ohe-seq-rev.npy\n",
      "└── \u001b[38;5;33mseqs\u001b[0m\n",
      "    ├── seqs-tiled.txt\n",
      "    └── seqs.txt\n",
      "\n",
      "8 directories, 32 files\n"
     ]
    }
   ],
   "source": [
    "!tree -L 2"
   ]
  },
  {
   "cell_type": "code",
   "execution_count": 159,
   "id": "9563bd72-0823-424b-9bb4-cdc348da63a2",
   "metadata": {
    "execution": {
     "iopub.execute_input": "2021-11-27T07:13:22.627991Z",
     "iopub.status.busy": "2021-11-27T07:13:22.627686Z",
     "iopub.status.idle": "2021-11-27T07:13:24.555548Z",
     "shell.execute_reply": "2021-11-27T07:13:24.554748Z",
     "shell.execute_reply.started": "2021-11-27T07:13:22.627957Z"
    },
    "tags": []
   },
   "outputs": [
    {
     "name": "stdout",
     "output_type": "stream",
     "text": [
      ">Scaffold_31:173924:174038:0\n",
      "AAAGTAGGCTATACAACGCGTGTCGAATCTGAATGTTCAATTCAATAACTGACACAATTTAACAAG\n",
      ">Scaffold_31:173924:174038:1\n",
      "AAGTAGGCTATACAACGCGTGTCGAATCTGAATGTTCAATTCAATAACTGACACAATTTAACAAGC\n",
      ">Scaffold_31:173924:174038:2\n",
      "AGTAGGCTATACAACGCGTGTCGAATCTGAATGTTCAATTCAATAACTGACACAATTTAACAAGCA\n",
      ">Scaffold_31:173924:174038:3\n",
      "GTAGGCTATACAACGCGTGTCGAATCTGAATGTTCAATTCAATAACTGACACAATTTAACAAGCAA\n",
      ">Scaffold_31:173924:174038:4\n",
      "TAGGCTATACAACGCGTGTCGAATCTGAATGTTCAATTCAATAACTGACACAATTTAACAAGCAAT\n",
      "Scaffold_31:173924:174038:0\n",
      "Scaffold_31:173924:174038:1\n",
      "Scaffold_31:173924:174038:2\n",
      "Scaffold_31:173924:174038:3\n",
      "Scaffold_31:173924:174038:4\n"
     ]
    }
   ],
   "source": [
    "%%bash\n",
    "head fasta/X_fasta-tiled.fa\n",
    "head -n 5 id/id-tiled.txt"
   ]
  },
  {
   "cell_type": "code",
   "execution_count": 157,
   "id": "cbea5464-701e-4549-9e59-7bca33d422d9",
   "metadata": {
    "execution": {
     "iopub.execute_input": "2021-11-27T07:10:19.809835Z",
     "iopub.status.busy": "2021-11-27T07:10:19.809468Z",
     "iopub.status.idle": "2021-11-27T07:10:21.368902Z",
     "shell.execute_reply": "2021-11-27T07:10:21.367992Z",
     "shell.execute_reply.started": "2021-11-27T07:10:19.809788Z"
    },
    "tags": []
   },
   "outputs": [
    {
     "name": "stdout",
     "output_type": "stream",
     "text": [
      ">scaffold_1:462149:462232\n",
      "AAAGTAGGCTATATGCTACAGCCCAGAGCTCATGGATTTTAATGGGATCGGCTATCTAGGCCGACCCTCGCTCTCCCAAGGAAATGTCCACCTTCCAGCCGGGAAAAGATAACCGCTCGCCAGAGCGACGCTTTCCGGCTGACAAATTGTGTCGGACCTTGATAGCATTCCTGTTCCCTATCGGACCCAACTTT\n",
      ">scaffold_102:102675:102754\n",
      "AAAGTAGGCTATCGCGACCACTGATCGTCGCGTAATTATTTTGAGGCAACATATCGATCAGCGATCTCGGCAACGATAGCGAAATTCTCCCTCAGCTTTCTCGGAAGCGCTCGCTGCTGGTTATCCGGAAAAGTGCGGAACTTCCCTCGCTCTCCAGCAGCAACGACTCGGGAACCCAACTTT\n",
      ">scaffold_3:475040:475120\n",
      "AAAGTAGGCTTTGTATAATTCCCAATTAGAACACACAGGTAGGGTAATACATTAGAATGTCTTTGATTAGACTAGCAAGATAGGCACCTAATTTCCTATGTTGGTACAACTGGTTTTAGAAAATTATAAAAATTTCCTGCTATAATCGGTTAGAGCAAGGAACGGTGATTACCCAACTTT\n",
      ">scaffold_3:781073:781145\n",
      "AAAGTAGGCTTTAACATGGAATCTATTCCCCGTGACGATGAGATAAGGACAAGCGGAAACCGACCAACGCGTATTTCGAGAACTATTTATCTCGACTGATTCCTGTTCCTTCCTTTCCTTCCGCCCGCAGCTTACCGGTAAACAACCCAACTTT\n",
      ">scaffold_357:46416:46496\n",
      "AAAGTAGGCTTCTTGCTTTGTTGTTTTTGTTTTGAAACTGGTGAGCAGCACCGGAAATTGGTCTCAGTTCTCTAGCCAGTCTACTTCCTGCTGTTACTGCTAAACGATAACATTTCTCTTGTACATGATATCATTCTATGGTTCATATAAGTTGAAACACAATATGCATTACATTTACCCAACTTT\n",
      "scaffold_1:462149:462232\n",
      "scaffold_102:102675:102754\n",
      "scaffold_3:475040:475120\n",
      "scaffold_3:781073:781145\n",
      "scaffold_357:46416:46496\n"
     ]
    }
   ],
   "source": [
    "%%bash\n",
    "head fasta/X_fasta.fa\n",
    "head -n 5 id/id.txt"
   ]
  },
  {
   "cell_type": "markdown",
   "id": "7fddfcab-8659-471f-ac58-cd76fdde58cd",
   "metadata": {
    "tags": [],
    "toc-hr-collapsed": true
   },
   "source": [
    "# Scratch"
   ]
  },
  {
   "cell_type": "markdown",
   "id": "7e4c2a37-e512-4524-8670-cc04fd9b7976",
   "metadata": {
    "tags": [],
    "toc-hr-collapsed": true
   },
   "source": [
    "## Old mixed encoding code"
   ]
  },
  {
   "cell_type": "code",
   "execution_count": null,
   "id": "5342083e-4ebe-4817-970c-50aa5e9e4fe4",
   "metadata": {},
   "outputs": [],
   "source": [
    "def encode_mixed1(seq):\n",
    "    enh_tfbs = defineTFBS(seq)\n",
    "    if len(enh_tfbs) != 5:\n",
    "        return -1\n",
    "    enh_encoding = []\n",
    "    for pos, tfbs in enh_tfbs.items():\n",
    "        if tfbs[0] == \"ETS\":\n",
    "            enh_encoding += [tfbs[4], \"E\", tfbs[1], tfbs[3]]\n",
    "        elif tfbs[0] == \"GATA\":\n",
    "            enh_encoding += [tfbs[4], \"G\", tfbs[1], tfbs[3]]\n",
    "    enh_encoding.append(len(seq)-(pos+5)-1)\n",
    "    return enh_encoding\n",
    "\n",
    "def mixed1_encode(data):\n",
    "    mixed1_encoding, valid_idx = [], []\n",
    "    for i, (row_num, enh_data) in tqdm.tqdm(enumerate(data.iterrows())):\n",
    "        sequence = enh_data[\"SEQ\"].upper().strip()\n",
    "        encoded_seq = encode_mixed1(sequence)\n",
    "        if encoded_seq != -1:\n",
    "            mixed1_encoding.append(encoded_seq)\n",
    "            valid_idx.append(i)\n",
    "    X_mixed1 = (pd.DataFrame(mixed1_encoding).replace({\"G\": 0, \"E\": 1, \"R\": 0, \"F\": 1}))\n",
    "    X_mixed1 = X_mixed1.values\n",
    "    return X_mixed1, valid_idx"
   ]
  },
  {
   "cell_type": "code",
   "execution_count": 65,
   "id": "2cc6475f-7f18-4f10-8403-bd9df3b4ef4b",
   "metadata": {
    "execution": {
     "iopub.execute_input": "2021-11-26T20:21:47.908872Z",
     "iopub.status.busy": "2021-11-26T20:21:47.908587Z",
     "iopub.status.idle": "2021-11-26T20:21:54.140895Z",
     "shell.execute_reply": "2021-11-26T20:21:54.139990Z",
     "shell.execute_reply.started": "2021-11-26T20:21:47.908843Z"
    },
    "tags": []
   },
   "outputs": [
    {
     "name": "stderr",
     "output_type": "stream",
     "text": [
      "20it [00:03,  5.35it/s]\n"
     ]
    },
    {
     "name": "stdout",
     "output_type": "stream",
     "text": [
      "total 774\n",
      "-rw-r--r-- 1 aklie carter-users   7968 Nov 26 12:21 0.18-0.4_0.9-split_X-test_mixed-1.0.npy\n",
      "-rw-r--r-- 1 aklie carter-users 784128 Nov 26 12:09 0.18-0.4_0.9-split_X-test_mixed-1.0-tiled.npy\n"
     ]
    },
    {
     "data": {
      "text/plain": [
       "((20, 49),\n",
       " [31,\n",
       "  'E',\n",
       "  'F',\n",
       "  0.11868156845560487,\n",
       "  3,\n",
       "  'E',\n",
       "  'F',\n",
       "  0.10973005182726431,\n",
       "  0,\n",
       "  'G',\n",
       "  'R',\n",
       "  0.5389119998601336,\n",
       "  19,\n",
       "  'E',\n",
       "  'F',\n",
       "  0.39163576347437207,\n",
       "  5,\n",
       "  'E',\n",
       "  'R',\n",
       "  0.10072171154881818,\n",
       "  1,\n",
       "  'E',\n",
       "  'F',\n",
       "  0.14028684169033467,\n",
       "  -2,\n",
       "  'G',\n",
       "  'F',\n",
       "  0.8051007829329527,\n",
       "  17,\n",
       "  'E',\n",
       "  'R',\n",
       "  0.3934295478885151,\n",
       "  20,\n",
       "  'G',\n",
       "  'F',\n",
       "  0.4449949666094348,\n",
       "  -1,\n",
       "  'E',\n",
       "  'R',\n",
       "  0.09932825230929267,\n",
       "  -2,\n",
       "  'E',\n",
       "  'R',\n",
       "  0.10277555374902991,\n",
       "  -3,\n",
       "  'G',\n",
       "  'R',\n",
       "  0.31163566926760605,\n",
       "  10],\n",
       " array([ 6.33683722e+00,  1.00000000e+00,  1.00000000e+00, -2.05414929e+00,\n",
       "        -4.97137607e-01,  1.00000000e+00,  1.00000000e+00, -2.09314810e+00,\n",
       "        -1.22237710e+00,  0.00000000e+00,  0.00000000e+00,  3.19738794e-04,\n",
       "         3.35270336e+00,  1.00000000e+00,  1.00000000e+00, -7.11168311e-01,\n",
       "        -1.14164866e-02,  1.00000000e+00,  0.00000000e+00, -2.12157986e+00,\n",
       "         3.36793426e-01,  1.00000000e+00,  1.00000000e+00,  1.40286842e-01,\n",
       "        -2.00000000e+00,  0.00000000e+00,  1.00000000e+00,  8.05100783e-01,\n",
       "         1.70000000e+01,  1.00000000e+00,  0.00000000e+00,  3.93429548e-01,\n",
       "         2.00000000e+01,  0.00000000e+00,  1.00000000e+00,  4.44994967e-01,\n",
       "        -1.00000000e+00,  1.00000000e+00,  0.00000000e+00,  9.93282523e-02,\n",
       "        -2.00000000e+00,  1.00000000e+00,  0.00000000e+00,  1.02775554e-01,\n",
       "        -3.00000000e+00,  0.00000000e+00,  0.00000000e+00,  3.11635669e-01,\n",
       "         1.00000000e+01]))"
      ]
     },
     "execution_count": 65,
     "metadata": {},
     "output_type": "execute_result"
    }
   ],
   "source": [
    "mixed1_encoding = []\n",
    "for i, (row_num, enh_data) in tqdm.tqdm(enumerate(dataset.iterrows())):\n",
    "    seq = enh_data[\"SEQ\"].upper().strip()\n",
    "    enh_tfbs = otx_enhancer_utils.defineTFBS(seq)\n",
    "    if len(enh_tfbs) == 0:\n",
    "        mixed1_encoding.append([0]*21)\n",
    "    enh_encoding = []\n",
    "    for pos, tfbs in enh_tfbs.items():\n",
    "        if tfbs[0] == \"ETS\":\n",
    "            enh_encoding += [tfbs[4], \"E\", tfbs[1], tfbs[3]]\n",
    "        elif tfbs[0] == \"GATA\":\n",
    "            enh_encoding += [tfbs[4], \"G\", tfbs[1], tfbs[3]]\n",
    "    enh_encoding.append(len(seq)-(pos+5)-1)\n",
    "    mixed1_encoding.append(enh_encoding)\n",
    "\n",
    "# Replace strings with one hot encoding\n",
    "X_mixed1 = (\n",
    "    pd.DataFrame(mixed1_encoding)\n",
    "    .replace({\"G\": 0, \"E\": 1, \"R\": 0, \"F\": 1})\n",
    ")\n",
    "X_mixed1 = X_mixed1.values\n",
    "\n",
    "# Load in training stats\n",
    "with open(\"../2021_OLS_Library/mixed_1.0/{}_X-train-{}_stats.pickle\".format(PREPROCESS, SPLIT), 'rb') as handle:\n",
    "    train_stats = pickle.load(handle)\n",
    "\n",
    "# Z-score test set\n",
    "scale_indeces = train_stats[\"indeces\"]\n",
    "X_mixed1[:, scale_indeces] -= train_stats[\"means\"]\n",
    "X_mixed1[:, scale_indeces] /= train_stats[\"stds\"]\n",
    "\n",
    "# Save the vals\n",
    "if not os.path.isdir(\"mixed_1.0\"):\n",
    "    os.makedirs(\"mixed_1.0\")\n",
    "    \n",
    "np.save(\"mixed_1.0/{}_{}-split_X-test_mixed-1.0\".format(PREPROCESS, SPLIT), X_mixed1)\n",
    "\n",
    "!ls -l mixed_1.0\n",
    "\n",
    "X_mixed1.shape, mixed1_encoding[0], X_mixed1[0]"
   ]
  },
  {
   "cell_type": "code",
   "execution_count": 35,
   "id": "29d1d288-71e2-49cf-afb1-44415a8fe91e",
   "metadata": {
    "execution": {
     "iopub.execute_input": "2021-11-26T19:52:36.369379Z",
     "iopub.status.busy": "2021-11-26T19:52:36.369067Z",
     "iopub.status.idle": "2021-11-26T19:52:40.218125Z",
     "shell.execute_reply": "2021-11-26T19:52:40.217029Z",
     "shell.execute_reply.started": "2021-11-26T19:52:36.369346Z"
    },
    "tags": []
   },
   "outputs": [
    {
     "name": "stderr",
     "output_type": "stream",
     "text": [
      "12it [00:02,  4.92it/s]\n"
     ]
    },
    {
     "ename": "KeyError",
     "evalue": "'TGGATAAt'",
     "output_type": "error",
     "traceback": [
      "\u001b[0;31m---------------------------------------------------------------------------\u001b[0m",
      "\u001b[0;31mKeyError\u001b[0m                                  Traceback (most recent call last)",
      "\u001b[0;32m<ipython-input-35-2783753977b6>\u001b[0m in \u001b[0;36m<module>\u001b[0;34m\u001b[0m\n\u001b[1;32m      2\u001b[0m \u001b[0;32mfor\u001b[0m \u001b[0mi\u001b[0m\u001b[0;34m,\u001b[0m \u001b[0;34m(\u001b[0m\u001b[0mrow_num\u001b[0m\u001b[0;34m,\u001b[0m \u001b[0menh_data\u001b[0m\u001b[0;34m)\u001b[0m \u001b[0;32min\u001b[0m \u001b[0mtqdm\u001b[0m\u001b[0;34m.\u001b[0m\u001b[0mtqdm\u001b[0m\u001b[0;34m(\u001b[0m\u001b[0menumerate\u001b[0m\u001b[0;34m(\u001b[0m\u001b[0mdataset\u001b[0m\u001b[0;34m.\u001b[0m\u001b[0miterrows\u001b[0m\u001b[0;34m(\u001b[0m\u001b[0;34m)\u001b[0m\u001b[0;34m)\u001b[0m\u001b[0;34m)\u001b[0m\u001b[0;34m:\u001b[0m\u001b[0;34m\u001b[0m\u001b[0;34m\u001b[0m\u001b[0m\n\u001b[1;32m      3\u001b[0m     \u001b[0mseq\u001b[0m \u001b[0;34m=\u001b[0m \u001b[0menh_data\u001b[0m\u001b[0;34m[\u001b[0m\u001b[0;34m\"SEQ\"\u001b[0m\u001b[0;34m]\u001b[0m\u001b[0;34m\u001b[0m\u001b[0;34m\u001b[0m\u001b[0m\n\u001b[0;32m----> 4\u001b[0;31m     \u001b[0menh_tfbs\u001b[0m \u001b[0;34m=\u001b[0m \u001b[0motx_enhancer_utils\u001b[0m\u001b[0;34m.\u001b[0m\u001b[0mdefineTFBS\u001b[0m\u001b[0;34m(\u001b[0m\u001b[0mseq\u001b[0m\u001b[0;34m)\u001b[0m\u001b[0;34m\u001b[0m\u001b[0;34m\u001b[0m\u001b[0m\n\u001b[0m\u001b[1;32m      5\u001b[0m     \u001b[0menh_encoding\u001b[0m \u001b[0;34m=\u001b[0m \u001b[0;34m[\u001b[0m\u001b[0;34m]\u001b[0m\u001b[0;34m\u001b[0m\u001b[0;34m\u001b[0m\u001b[0m\n\u001b[1;32m      6\u001b[0m     \u001b[0;32mfor\u001b[0m \u001b[0mpos\u001b[0m\u001b[0;34m,\u001b[0m \u001b[0mtfbs\u001b[0m \u001b[0;32min\u001b[0m \u001b[0menh_tfbs\u001b[0m\u001b[0;34m.\u001b[0m\u001b[0mitems\u001b[0m\u001b[0;34m(\u001b[0m\u001b[0;34m)\u001b[0m\u001b[0;34m:\u001b[0m\u001b[0;34m\u001b[0m\u001b[0;34m\u001b[0m\u001b[0m\n",
      "\u001b[0;32m~/projects/EUGENE/bin/otx_enhancer_utils.py\u001b[0m in \u001b[0;36mdefineTFBS\u001b[0;34m(seq, findClosestOLS)\u001b[0m\n\u001b[1;32m    137\u001b[0m \u001b[0;32mdef\u001b[0m \u001b[0mdefineTFBS\u001b[0m\u001b[0;34m(\u001b[0m\u001b[0mseq\u001b[0m\u001b[0;34m,\u001b[0m \u001b[0mfindClosestOLS\u001b[0m\u001b[0;34m=\u001b[0m\u001b[0;32mTrue\u001b[0m\u001b[0;34m)\u001b[0m\u001b[0;34m:\u001b[0m\u001b[0;34m\u001b[0m\u001b[0;34m\u001b[0m\u001b[0m\n\u001b[1;32m    138\u001b[0m     \u001b[0mtfbs\u001b[0m \u001b[0;34m=\u001b[0m \u001b[0mfindEtsAndGataCores\u001b[0m\u001b[0;34m(\u001b[0m\u001b[0mseq\u001b[0m\u001b[0;34m)\u001b[0m\u001b[0;34m\u001b[0m\u001b[0;34m\u001b[0m\u001b[0m\n\u001b[0;32m--> 139\u001b[0;31m     \u001b[0mtfbs\u001b[0m \u001b[0;34m=\u001b[0m \u001b[0mfindTFBSAffinity\u001b[0m\u001b[0;34m(\u001b[0m\u001b[0mseq\u001b[0m\u001b[0;34m,\u001b[0m \u001b[0mtfbs\u001b[0m\u001b[0;34m)\u001b[0m\u001b[0;34m\u001b[0m\u001b[0;34m\u001b[0m\u001b[0m\n\u001b[0m\u001b[1;32m    140\u001b[0m     \u001b[0mtfbs\u001b[0m \u001b[0;34m=\u001b[0m \u001b[0mfindSpacingBetweenTFBS\u001b[0m\u001b[0;34m(\u001b[0m\u001b[0mtfbs\u001b[0m\u001b[0;34m)\u001b[0m\u001b[0;34m\u001b[0m\u001b[0;34m\u001b[0m\u001b[0m\n\u001b[1;32m    141\u001b[0m     \u001b[0;32mif\u001b[0m \u001b[0mfindClosestOLS\u001b[0m\u001b[0;34m:\u001b[0m\u001b[0;34m\u001b[0m\u001b[0;34m\u001b[0m\u001b[0m\n",
      "\u001b[0;32m~/projects/EUGENE/bin/otx_enhancer_utils.py\u001b[0m in \u001b[0;36mfindTFBSAffinity\u001b[0;34m(seq, cores, ets_aff_file, gata_aff_file)\u001b[0m\n\u001b[1;32m     83\u001b[0m             \u001b[0mcores\u001b[0m\u001b[0;34m[\u001b[0m\u001b[0mpos\u001b[0m\u001b[0;34m]\u001b[0m\u001b[0;34m.\u001b[0m\u001b[0mappend\u001b[0m\u001b[0;34m(\u001b[0m\u001b[0mets_aff\u001b[0m\u001b[0;34m[\u001b[0m\u001b[0mseq\u001b[0m\u001b[0;34m[\u001b[0m\u001b[0mpos\u001b[0m\u001b[0;34m-\u001b[0m\u001b[0;36m2\u001b[0m\u001b[0;34m:\u001b[0m\u001b[0mpos\u001b[0m\u001b[0;34m+\u001b[0m\u001b[0;36m6\u001b[0m\u001b[0;34m]\u001b[0m\u001b[0;34m]\u001b[0m\u001b[0;34m)\u001b[0m\u001b[0;34m\u001b[0m\u001b[0;34m\u001b[0m\u001b[0m\n\u001b[1;32m     84\u001b[0m         \u001b[0;32melif\u001b[0m \u001b[0mcores\u001b[0m\u001b[0;34m[\u001b[0m\u001b[0mpos\u001b[0m\u001b[0;34m]\u001b[0m\u001b[0;34m[\u001b[0m\u001b[0;36m0\u001b[0m\u001b[0;34m]\u001b[0m \u001b[0;34m==\u001b[0m \u001b[0;34m\"GATA\"\u001b[0m\u001b[0;34m:\u001b[0m\u001b[0;34m\u001b[0m\u001b[0;34m\u001b[0m\u001b[0m\n\u001b[0;32m---> 85\u001b[0;31m             \u001b[0mcores\u001b[0m\u001b[0;34m[\u001b[0m\u001b[0mpos\u001b[0m\u001b[0;34m]\u001b[0m\u001b[0;34m.\u001b[0m\u001b[0mappend\u001b[0m\u001b[0;34m(\u001b[0m\u001b[0mgata_aff\u001b[0m\u001b[0;34m[\u001b[0m\u001b[0mseq\u001b[0m\u001b[0;34m[\u001b[0m\u001b[0mpos\u001b[0m\u001b[0;34m-\u001b[0m\u001b[0;36m2\u001b[0m\u001b[0;34m:\u001b[0m\u001b[0mpos\u001b[0m\u001b[0;34m+\u001b[0m\u001b[0;36m6\u001b[0m\u001b[0;34m]\u001b[0m\u001b[0;34m]\u001b[0m\u001b[0;34m)\u001b[0m\u001b[0;34m\u001b[0m\u001b[0;34m\u001b[0m\u001b[0m\n\u001b[0m\u001b[1;32m     86\u001b[0m     \u001b[0;32mreturn\u001b[0m \u001b[0mcores\u001b[0m\u001b[0;34m\u001b[0m\u001b[0;34m\u001b[0m\u001b[0m\n\u001b[1;32m     87\u001b[0m \u001b[0;34m\u001b[0m\u001b[0m\n",
      "\u001b[0;31mKeyError\u001b[0m: 'TGGATAAt'"
     ]
    }
   ],
   "source": [
    "mixed2_encoding = []\n",
    "for i, (row_num, enh_data) in tqdm.tqdm(enumerate(dataset_tiled.iterrows())):\n",
    "    seq = enh_data[\"SEQ\"].upper().strip()\n",
    "    enh_tfbs = otx_enhancer_utils.defineTFBS(seq)\n",
    "    if len(enh_tfbs) == 0:\n",
    "        mixed2_encoding.append([0]*26)\n",
    "    enh_encoding = []\n",
    "    for pos, tfbs in enh_tfbs.items():\n",
    "        if tfbs[0] == \"ETS\":\n",
    "            enh_encoding += [tfbs[4], tfbs[3], tfbs[1], 0, 0]\n",
    "        elif tfbs[0] == \"GATA\":\n",
    "            enh_encoding += [tfbs[4], 0, 0, tfbs[3], tfbs[1]]\n",
    "    enh_encoding.append(len(seq)-(pos+5)-1)\n",
    "    mixed2_encoding.append(enh_encoding)\n",
    "\n",
    "# Replace strings with one hot encoding\n",
    "X_mixed2 = (\n",
    "    pd.DataFrame(mixed2_encoding)\n",
    "    .replace({\"G\": 0, \"E\": 1, \"R\": 0, \"F\": 1})\n",
    ")\n",
    "X_mixed2 = X_mixed2.values\n",
    "\n",
    "# Load in training stats\n",
    "with open(\"../2021_OLS_Library/mixed_2.0/{}_X-train-{}_stats.pickle\".format(PREPROCESS, SPLIT), 'rb') as handle:\n",
    "    train_stats = pickle.load(handle)\n",
    "\n",
    "# Z-score test set\n",
    "scale_indeces = train_stats[\"indeces\"]\n",
    "X_mixed2[:, scale_indeces] -= train_stats[\"means\"]\n",
    "X_mixed2[:, scale_indeces] /= train_stats[\"stds\"]\n",
    "\n",
    "# Save the vals\n",
    "if not os.path.isdir(\"mixed_2.0\"):\n",
    "    os.makedirs(\"mixed_2.0\")\n",
    "    \n",
    "np.save(\"mixed_2.0/{}_{}-split_X-test_mixed-2.0\".format(PREPROCESS, SPLIT), X_mixed1)\n",
    "\n",
    "!ls -l mixed_2.0\n",
    "\n",
    "X_mixed2.shape, mixed2_encoding[0], X_mixed2[0]"
   ]
  },
  {
   "cell_type": "code",
   "execution_count": 117,
   "id": "10c08513-9ed7-44ce-8120-d4f025e14ab7",
   "metadata": {
    "execution": {
     "iopub.execute_input": "2021-11-26T19:36:38.456050Z",
     "iopub.status.busy": "2021-11-26T19:36:38.455798Z",
     "iopub.status.idle": "2021-11-26T19:36:43.256083Z",
     "shell.execute_reply": "2021-11-26T19:36:43.255250Z",
     "shell.execute_reply.started": "2021-11-26T19:36:38.456015Z"
    },
    "tags": []
   },
   "outputs": [],
   "source": [
    "mixed3_encoding = []\n",
    "for i, (row_num, enh_data) in tqdm.tqdm(enumerate(dataset.iterrows())):\n",
    "    seq = enh_data[\"SEQ\"].upper().strip()\n",
    "    enh_tfbs = otx_enhancer_utils.defineTFBS(seq)\n",
    "    if len(enh_tfbs) == 0:\n",
    "        mixed3_encoding.append([0]*21)\n",
    "    enh_encoding = []\n",
    "    for pos, tfbs in enh_tfbs.items():\n",
    "        if tfbs[0] == \"ETS\":\n",
    "            enh_encoding += [tfbs[4], tfbs[3], 0, tfbs[1]]\n",
    "        elif tfbs[0] == \"GATA\":\n",
    "            enh_encoding += [tfbs[4], 0, tfbs[3], tfbs[1]]\n",
    "    enh_encoding.append(len(seq)-(pos+5)-1)\n",
    "    mixed3_encoding.append(enh_encoding)\n",
    "\n",
    "# Replace strings with one hot encoding\n",
    "X_mixed3 = pd.DataFrame(mixed3_encoding).replace({\"R\": -1, \"F\": 1})\n",
    "X_mixed3 = X_mixed3.values"
   ]
  },
  {
   "cell_type": "code",
   "execution_count": null,
   "id": "d62cb8cc-d3c4-4689-9d41-6fc81475054b",
   "metadata": {},
   "outputs": [],
   "source": [
    "mixed3_encoding = []\n",
    "for i, (row_num, enh_data) in tqdm.tqdm(enumerate(dataset_tiled.iterrows())):\n",
    "    seq = enh_data[\"SEQ\"].upper().strip()\n",
    "    enh_tfbs = otx_enhancer_utils.defineTFBS(seq)\n",
    "    if len(enh_tfbs) == 0:\n",
    "        mixed3_encoding.append([0]*21)\n",
    "    enh_encoding = []\n",
    "    for pos, tfbs in enh_tfbs.items():\n",
    "        if tfbs[0] == \"ETS\":\n",
    "            enh_encoding += [tfbs[4], tfbs[3], 0, tfbs[1]]\n",
    "        elif tfbs[0] == \"GATA\":\n",
    "            enh_encoding += [tfbs[4], 0, tfbs[3], tfbs[1]]\n",
    "    enh_encoding.append(len(seq)-(pos+5)-1)\n",
    "    mixed3_encoding.append(enh_encoding)\n",
    "\n",
    "# Replace strings with one hot encoding\n",
    "X_mixed3 = pd.DataFrame(mixed3_encoding).replace({\"R\": -1, \"F\": 1})\n",
    "X_mixed3 = X_mixed3.values\n",
    "\n",
    "# Load in training stats\n",
    "with open(\"../2021_OLS_Library/mixed_3.0/{}_X-train-{}_stats.pickle\".format(PREPROCESS, SPLIT), 'rb') as handle:\n",
    "    train_stats = pickle.load(handle)\n",
    "\n",
    "# Z-score test set\n",
    "scale_indeces = train_stats[\"indeces\"]\n",
    "X_mixed3[:, scale_indeces] -= train_stats[\"means\"]\n",
    "X_mixed3[:, scale_indeces] /= train_stats[\"stds\"]\n",
    "\n",
    "# Save the vals\n",
    "if not os.path.isdir(\"mixed_3.0\"):\n",
    "    os.makedirs(\"mixed_3.0\")\n",
    "    \n",
    "np.save(\"mixed_3.0/{}_{}-split_X-test_mixed-3.0-tiled\".format(PREPROCESS, SPLIT), X_mixed1)\n",
    "\n",
    "!ls -l mixed_3.0\n",
    "\n",
    "X_mixed3.shape, mixed3_encoding[0], X_mixed3[0]"
   ]
  },
  {
   "cell_type": "markdown",
   "id": "d28ae31f-54f2-46b9-95fe-1b4fbe287c93",
   "metadata": {
    "tags": [],
    "toc-hr-collapsed": true
   },
   "source": [
    "## Old positive and negative sequence break-up code"
   ]
  },
  {
   "cell_type": "code",
   "execution_count": 71,
   "id": "af646404-ac18-47b3-95ff-8b82f9a0d83d",
   "metadata": {
    "execution": {
     "iopub.execute_input": "2021-11-09T20:45:50.773587Z",
     "iopub.status.busy": "2021-11-09T20:45:50.773300Z",
     "iopub.status.idle": "2021-11-09T20:45:52.105758Z",
     "shell.execute_reply": "2021-11-09T20:45:52.104685Z",
     "shell.execute_reply.started": "2021-11-09T20:45:50.773556Z"
    },
    "tags": []
   },
   "outputs": [],
   "source": [
    "# Mask\n",
    "neg_mask = (y == 0)"
   ]
  },
  {
   "cell_type": "code",
   "execution_count": 76,
   "id": "821c5285-66a8-4cf7-8634-7dbce37579b3",
   "metadata": {
    "execution": {
     "iopub.execute_input": "2021-11-09T20:46:30.539276Z",
     "iopub.status.busy": "2021-11-09T20:46:30.538900Z",
     "iopub.status.idle": "2021-11-09T20:46:31.946806Z",
     "shell.execute_reply": "2021-11-09T20:46:31.946028Z",
     "shell.execute_reply.started": "2021-11-09T20:46:30.539243Z"
    },
    "tags": []
   },
   "outputs": [],
   "source": [
    "# Negative seqs\n",
    "X_neg = X_seqs[neg_mask]\n",
    "y_neg = y[neg_mask]\n",
    "id_neg = ID[neg_mask]\n",
    "\n",
    "# Positive seqs\n",
    "X_pos = X_seqs[~neg_mask]\n",
    "y_pos = y[~neg_mask]\n",
    "id_pos = ID[~neg_mask]"
   ]
  },
  {
   "cell_type": "code",
   "execution_count": 79,
   "id": "ec4053e9-e62f-40c7-b9ea-51e7975a5382",
   "metadata": {
    "execution": {
     "iopub.execute_input": "2021-11-09T20:46:43.537045Z",
     "iopub.status.busy": "2021-11-09T20:46:43.536753Z",
     "iopub.status.idle": "2021-11-09T20:46:44.847707Z",
     "shell.execute_reply": "2021-11-09T20:46:44.846771Z",
     "shell.execute_reply.started": "2021-11-09T20:46:43.537014Z"
    },
    "tags": []
   },
   "outputs": [
    {
     "name": "stdout",
     "output_type": "stream",
     "text": [
      "(12,) (12,)\n",
      "(8,) (8,)\n",
      "We good: (20,), (20,), (20,)\n"
     ]
    }
   ],
   "source": [
    "# Check\n",
    "print(X_neg.shape, y_neg.shape)\n",
    "print(X_pos.shape, y_pos.shape)\n",
    "if (X_neg.shape[0] + X_pos.shape[0] == X_seqs.shape[0]):\n",
    "    print(\"We good: {}, {}, {}\".format(X_seqs.shape, y.shape, ID.shape))\n",
    "else:\n",
    "    print(\"The game is afoot\")"
   ]
  },
  {
   "cell_type": "markdown",
   "id": "08f34a24-63dd-478a-b07b-6b6df7a9165b",
   "metadata": {},
   "source": [
    "*Positive training sequences*"
   ]
  },
  {
   "cell_type": "code",
   "execution_count": 92,
   "id": "f308dcb4-3481-4643-8548-290722bd8174",
   "metadata": {
    "execution": {
     "iopub.execute_input": "2021-11-09T20:54:05.540018Z",
     "iopub.status.busy": "2021-11-09T20:54:05.539725Z",
     "iopub.status.idle": "2021-11-09T20:54:06.773474Z",
     "shell.execute_reply": "2021-11-09T20:54:06.772645Z",
     "shell.execute_reply.started": "2021-11-09T20:54:05.539987Z"
    },
    "tags": []
   },
   "outputs": [],
   "source": [
    "# Save positive sequences in fasta format\n",
    "pos_file = open(\"fasta/X_fasta-pos.fa\", \"w\")\n",
    "for i in range(len(X_pos)):\n",
    "    pos_file.write(\">\" + id_pos[i] + \"\\n\" + X_pos[i].upper().strip() + \"\\n\")\n",
    "pos_file.close()"
   ]
  },
  {
   "cell_type": "code",
   "execution_count": 93,
   "id": "b9de2ac6-4a26-4a63-b6bf-15d69bb4a985",
   "metadata": {
    "execution": {
     "iopub.execute_input": "2021-11-09T20:54:06.775465Z",
     "iopub.status.busy": "2021-11-09T20:54:06.775100Z",
     "iopub.status.idle": "2021-11-09T20:54:09.080915Z",
     "shell.execute_reply": "2021-11-09T20:54:09.079981Z",
     "shell.execute_reply.started": "2021-11-09T20:54:06.775418Z"
    },
    "tags": []
   },
   "outputs": [
    {
     "name": "stdout",
     "output_type": "stream",
     "text": [
      "16 fasta/X_fasta-pos.fa\n"
     ]
    }
   ],
   "source": [
    "# Double check\n",
    "!wc -l fasta/X_fasta-pos.fa"
   ]
  },
  {
   "cell_type": "code",
   "execution_count": 94,
   "id": "d82c525a-8ef1-4a13-ba4e-a9e0dffb48e2",
   "metadata": {
    "execution": {
     "iopub.execute_input": "2021-11-09T20:54:09.082912Z",
     "iopub.status.busy": "2021-11-09T20:54:09.082666Z",
     "iopub.status.idle": "2021-11-09T20:54:10.349535Z",
     "shell.execute_reply": "2021-11-09T20:54:10.348811Z",
     "shell.execute_reply.started": "2021-11-09T20:54:09.082880Z"
    },
    "tags": []
   },
   "outputs": [
    {
     "data": {
      "text/plain": [
       "16"
      ]
     },
     "execution_count": 94,
     "metadata": {},
     "output_type": "execute_result"
    }
   ],
   "source": [
    "# Should equal above\n",
    "len(X_pos)*2"
   ]
  },
  {
   "cell_type": "markdown",
   "id": "31902666-3598-46cd-8826-a16427e31b13",
   "metadata": {},
   "source": [
    "*Negative training sequences*"
   ]
  },
  {
   "cell_type": "code",
   "execution_count": 95,
   "id": "9131bc29-906c-459b-ae1f-bdc785f4f974",
   "metadata": {
    "execution": {
     "iopub.execute_input": "2021-11-09T20:54:10.350942Z",
     "iopub.status.busy": "2021-11-09T20:54:10.350706Z",
     "iopub.status.idle": "2021-11-09T20:54:11.682549Z",
     "shell.execute_reply": "2021-11-09T20:54:11.681696Z",
     "shell.execute_reply.started": "2021-11-09T20:54:10.350913Z"
    },
    "tags": []
   },
   "outputs": [],
   "source": [
    "# Save negatvie sequences in fasta format\n",
    "neg_file = open(\"fasta/X_fasta-neg.fa\", \"w\")\n",
    "for i in range(len(X_neg)):\n",
    "    neg_file.write(\">\" + id_neg[i] + \"\\n\" + X_neg[i].upper().strip() + \"\\n\")\n",
    "neg_file.close()"
   ]
  },
  {
   "cell_type": "code",
   "execution_count": 96,
   "id": "6c99667f-fc6c-4924-8228-3ca3a36b772e",
   "metadata": {
    "execution": {
     "iopub.execute_input": "2021-11-09T20:54:11.683774Z",
     "iopub.status.busy": "2021-11-09T20:54:11.683548Z",
     "iopub.status.idle": "2021-11-09T20:54:13.929734Z",
     "shell.execute_reply": "2021-11-09T20:54:13.928781Z",
     "shell.execute_reply.started": "2021-11-09T20:54:11.683741Z"
    },
    "tags": []
   },
   "outputs": [
    {
     "name": "stdout",
     "output_type": "stream",
     "text": [
      "24 fasta/X_fasta-neg.fa\n"
     ]
    }
   ],
   "source": [
    "# Double check\n",
    "!wc -l fasta/X_fasta-neg.fa"
   ]
  },
  {
   "cell_type": "code",
   "execution_count": 97,
   "id": "f7e2fc7f-eae8-41eb-98fc-2c944152b133",
   "metadata": {
    "execution": {
     "iopub.execute_input": "2021-11-09T20:54:13.931160Z",
     "iopub.status.busy": "2021-11-09T20:54:13.930921Z",
     "iopub.status.idle": "2021-11-09T20:54:15.312847Z",
     "shell.execute_reply": "2021-11-09T20:54:15.312103Z",
     "shell.execute_reply.started": "2021-11-09T20:54:13.931129Z"
    },
    "tags": []
   },
   "outputs": [
    {
     "data": {
      "text/plain": [
       "24"
      ]
     },
     "execution_count": 97,
     "metadata": {},
     "output_type": "execute_result"
    }
   ],
   "source": [
    "# Should equal above\n",
    "len(X_neg)*2"
   ]
  },
  {
   "cell_type": "markdown",
   "id": "fd6865fb-2195-400b-a66a-5db3f16bc239",
   "metadata": {
    "tags": [],
    "toc-hr-collapsed": true
   },
   "source": [
    "## Old dataset loading code"
   ]
  },
  {
   "cell_type": "code",
   "execution_count": 13,
   "id": "f5df334a-54a5-45ee-bf58-2d4c728a8988",
   "metadata": {
    "execution": {
     "iopub.execute_input": "2021-11-17T03:11:48.393119Z",
     "iopub.status.busy": "2021-11-17T03:11:48.392830Z",
     "iopub.status.idle": "2021-11-17T03:11:50.172718Z",
     "shell.execute_reply": "2021-11-17T03:11:50.172013Z",
     "shell.execute_reply.started": "2021-11-17T03:11:48.393085Z"
    },
    "tags": []
   },
   "outputs": [
    {
     "data": {
      "text/html": [
       "<div>\n",
       "<style scoped>\n",
       "    .dataframe tbody tr th:only-of-type {\n",
       "        vertical-align: middle;\n",
       "    }\n",
       "\n",
       "    .dataframe tbody tr th {\n",
       "        vertical-align: top;\n",
       "    }\n",
       "\n",
       "    .dataframe thead th {\n",
       "        text-align: right;\n",
       "    }\n",
       "</style>\n",
       "<table border=\"1\" class=\"dataframe\">\n",
       "  <thead>\n",
       "    <tr style=\"text-align: right;\">\n",
       "      <th></th>\n",
       "      <th>Cluster</th>\n",
       "      <th>Position</th>\n",
       "      <th>Start</th>\n",
       "      <th>End</th>\n",
       "      <th>Size</th>\n",
       "      <th>% Identity between C.i. and C.s.</th>\n",
       "      <th>GATA-MGGAAR-80</th>\n",
       "      <th>GATA-MGGAAR-130</th>\n",
       "      <th>GATA-HGGAWR-80</th>\n",
       "      <th>Enhancer Activity</th>\n",
       "      <th>...</th>\n",
       "      <th>Segal Probability on C.i. Clusters (yeast model – 2008)</th>\n",
       "      <th>Unnamed: 15</th>\n",
       "      <th>Cloned and Tested C. i. Sequence</th>\n",
       "      <th>Sequence from Published C.i.  Assembly</th>\n",
       "      <th>Sequence from Published C.s. Assembly</th>\n",
       "      <th>Sequence</th>\n",
       "      <th>label</th>\n",
       "      <th>Sequence_len</th>\n",
       "      <th>Name</th>\n",
       "      <th>Type</th>\n",
       "    </tr>\n",
       "  </thead>\n",
       "  <tbody>\n",
       "    <tr>\n",
       "      <th>0</th>\n",
       "      <td>C1</td>\n",
       "      <td>scaffold_1</td>\n",
       "      <td>462149</td>\n",
       "      <td>462232</td>\n",
       "      <td>83</td>\n",
       "      <td>82</td>\n",
       "      <td>X</td>\n",
       "      <td>X</td>\n",
       "      <td>X</td>\n",
       "      <td>a6.5 and/or b6.5</td>\n",
       "      <td>...</td>\n",
       "      <td>0.8</td>\n",
       "      <td>NaN</td>\n",
       "      <td>AAAGTAGGCTATATGCTACAGCCCAGAGCTCATGGATTTTAATGGG...</td>\n",
       "      <td>ATATGCTACAGCCCAGAGCTCATGGATTTTAATGGGATCCGCTATC...</td>\n",
       "      <td>ATACTTCGACGCTGGAAGCCGGGGGAATTTAATGGGACGGCCTATC...</td>\n",
       "      <td>ATATGCTACAGCCCAGAGCTCATGGATTTTAATGGGATCGGCTATC...</td>\n",
       "      <td>1</td>\n",
       "      <td>175</td>\n",
       "      <td>scaffold_1:462149:462232</td>\n",
       "      <td>full</td>\n",
       "    </tr>\n",
       "  </tbody>\n",
       "</table>\n",
       "<p>1 rows × 24 columns</p>\n",
       "</div>"
      ],
      "text/plain": [
       "  Cluster    Position   Start     End  Size  % Identity between C.i. and C.s.  \\\n",
       "0      C1  scaffold_1  462149  462232    83                                82   \n",
       "\n",
       "  GATA-MGGAAR-80 GATA-MGGAAR-130 GATA-HGGAWR-80 Enhancer Activity  ...  \\\n",
       "0              X               X              X  a6.5 and/or b6.5  ...   \n",
       "\n",
       "   Segal Probability on C.i. Clusters (yeast model – 2008)  Unnamed: 15  \\\n",
       "0                                                0.8                NaN   \n",
       "\n",
       "                    Cloned and Tested C. i. Sequence  \\\n",
       "0  AAAGTAGGCTATATGCTACAGCCCAGAGCTCATGGATTTTAATGGG...   \n",
       "\n",
       "              Sequence from Published C.i.  Assembly  \\\n",
       "0  ATATGCTACAGCCCAGAGCTCATGGATTTTAATGGGATCCGCTATC...   \n",
       "\n",
       "               Sequence from Published C.s. Assembly  \\\n",
       "0  ATACTTCGACGCTGGAAGCCGGGGGAATTTAATGGGACGGCCTATC...   \n",
       "\n",
       "                                            Sequence label Sequence_len  \\\n",
       "0  ATATGCTACAGCCCAGAGCTCATGGATTTTAATGGGATCGGCTATC...     1          175   \n",
       "\n",
       "                       Name  Type  \n",
       "0  scaffold_1:462149:462232  full  \n",
       "\n",
       "[1 rows x 24 columns]"
      ]
     },
     "execution_count": 13,
     "metadata": {},
     "output_type": "execute_result"
    }
   ],
   "source": [
    "# Laod in\n",
    "dataset = pd.read_excel(\"1-s2.0-S096098221000432X-mmc2.xls\", sheet_name=\"Table S2\", skiprows=2)\n",
    "dataset = dataset[~dataset[\"Enhancer Activity\"].isna()]\n",
    "\n",
    "# Clean up sequence by removing constant regions and clean up labels by equating 'none' to inaxctive\n",
    "dataset[\"Sequence\"] = dataset[\"Cloned and Tested C. i. Sequence\"].apply(lambda x: x.replace(\"ACCCAACTTT\", \"\"))\n",
    "dataset[\"Sequence\"] = dataset[\"Sequence\"].apply(lambda x: x.replace(\"AAAGTAGGCT\", \"\"))\n",
    "dataset[\"label\"] = (dataset[\"Enhancer Activity\"] != \"none\").astype(int)\n",
    "dataset[\"Sequence_len\"] = dataset[\"Sequence\"].apply(len)\n",
    "dataset[\"Name\"] = dataset[\"Position\"] + \":\" + dataset[\"Start\"].astype(str) + \":\" + dataset[\"End\"].astype(str)\n",
    "dataset[\"Type\"] = \"full\"\n",
    "dataset.head(1)"
   ]
  },
  {
   "cell_type": "markdown",
   "id": "fc24f19f-3c9f-46db-927a-3a0e3897adcb",
   "metadata": {
    "tags": [],
    "toc-hr-collapsed": true
   },
   "source": [
    "# References"
   ]
  }
 ],
 "metadata": {
  "kernelspec": {
   "display_name": "Python3 ml_env",
   "language": "python",
   "name": "ml_env"
  },
  "language_info": {
   "codemirror_mode": {
    "name": "ipython",
    "version": 3
   },
   "file_extension": ".py",
   "mimetype": "text/x-python",
   "name": "python",
   "nbconvert_exporter": "python",
   "pygments_lexer": "ipython3",
   "version": "3.8.8"
  }
 },
 "nbformat": 4,
 "nbformat_minor": 5
}

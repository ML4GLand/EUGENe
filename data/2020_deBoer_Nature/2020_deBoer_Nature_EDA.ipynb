{
 "cells": [
  {
   "cell_type": "markdown",
   "id": "90a88efe-ebb3-424c-8704-fb4ee189af2c",
   "metadata": {},
   "source": [
    "# deBoer et al 2020 Exploratory Data Analysis Notebook"
   ]
  },
  {
   "cell_type": "markdown",
   "id": "2d058003-a667-4b45-9ddc-e47efe48e0e1",
   "metadata": {
    "tags": []
   },
   "source": [
    "**Authorship:**\n",
    "Adam Klie, *10/28/2021*\n",
    "***\n",
    "**Description:**\n",
    "Notebook to perfrom an initial exploratory data analysis of the MPRA data available from the paper:[Deciphering eukaryotic gene-regulatory logic with 100 million random promoters].(https://pubmed.ncbi.nlm.nih.gov/31792407/)\n",
    "***\n",
    "**TODOs:**\n",
    " - <font color='green'> Done TODO </font>\n",
    " - <font color='red'> Move onto preprocessing for loading into regression models </font>\n",
    "***"
   ]
  },
  {
   "cell_type": "markdown",
   "id": "a2a2c4a5-1dac-4dce-8e87-cb83f07de4c3",
   "metadata": {
    "execution": {
     "iopub.execute_input": "2021-09-05T21:21:18.602440Z",
     "iopub.status.busy": "2021-09-05T21:21:18.602151Z",
     "iopub.status.idle": "2021-09-05T21:21:18.606439Z",
     "shell.execute_reply": "2021-09-05T21:21:18.605256Z",
     "shell.execute_reply.started": "2021-09-05T21:21:18.602409Z"
    },
    "tags": []
   },
   "source": [
    "## Set-up"
   ]
  },
  {
   "cell_type": "code",
   "execution_count": 2,
   "id": "3ebaff6f",
   "metadata": {
    "execution": {
     "iopub.execute_input": "2021-10-28T22:21:16.404835Z",
     "iopub.status.busy": "2021-10-28T22:21:16.404518Z",
     "iopub.status.idle": "2021-10-28T22:22:14.429475Z",
     "shell.execute_reply": "2021-10-28T22:22:14.428587Z",
     "shell.execute_reply.started": "2021-10-28T22:21:16.404800Z"
    },
    "tags": []
   },
   "outputs": [],
   "source": [
    "# Classics\n",
    "import matplotlib.pyplot as plt\n",
    "import numpy as np\n",
    "import pandas as pd\n",
    "import seaborn as sns\n",
    "\n",
    "# Helpful libraries\n",
    "import tqdm\n",
    "from pandas_profiling import ProfileReport\n",
    "\n",
    "# Autoreload extension\n",
    "if 'autoreload' not in get_ipython().extension_manager.loaded:\n",
    "    %load_ext autoreload\n",
    "\n",
    "%autoreload 2"
   ]
  },
  {
   "cell_type": "markdown",
   "id": "524af904",
   "metadata": {
    "tags": []
   },
   "source": [
    "## Load dataset\n",
    "This particular file was downloaded from GEO from accession: **GSE104878**. It contains only two columns:\n",
    " 1. **SEQUENCE** - the promoter sequence assayed\n",
    " 2. **ACTIVITY** - Expression level as quantified in deBoer et al"
   ]
  },
  {
   "cell_type": "code",
   "execution_count": 5,
   "id": "41e0ba9d-d125-44be-9f18-45af23617c03",
   "metadata": {
    "execution": {
     "iopub.execute_input": "2021-10-28T22:24:13.084734Z",
     "iopub.status.busy": "2021-10-28T22:24:13.084411Z",
     "iopub.status.idle": "2021-10-28T22:24:14.238259Z",
     "shell.execute_reply": "2021-10-28T22:24:14.237574Z",
     "shell.execute_reply.started": "2021-10-28T22:24:13.084698Z"
    }
   },
   "outputs": [
    {
     "data": {
      "text/html": [
       "<div>\n",
       "<style scoped>\n",
       "    .dataframe tbody tr th:only-of-type {\n",
       "        vertical-align: middle;\n",
       "    }\n",
       "\n",
       "    .dataframe tbody tr th {\n",
       "        vertical-align: top;\n",
       "    }\n",
       "\n",
       "    .dataframe thead th {\n",
       "        text-align: right;\n",
       "    }\n",
       "</style>\n",
       "<table border=\"1\" class=\"dataframe\">\n",
       "  <thead>\n",
       "    <tr style=\"text-align: right;\">\n",
       "      <th></th>\n",
       "      <th>SEQUENCE</th>\n",
       "      <th>ACTIVITY</th>\n",
       "    </tr>\n",
       "  </thead>\n",
       "  <tbody>\n",
       "    <tr>\n",
       "      <th>0</th>\n",
       "      <td>TGCATTTTTTTCACATCGGAATGGTGTTGTCGACCTTGCCTTCATA...</td>\n",
       "      <td>7.0</td>\n",
       "    </tr>\n",
       "  </tbody>\n",
       "</table>\n",
       "</div>"
      ],
      "text/plain": [
       "                                            SEQUENCE  ACTIVITY\n",
       "0  TGCATTTTTTTCACATCGGAATGGTGTTGTCGACCTTGCCTTCATA...       7.0"
      ]
     },
     "execution_count": 5,
     "metadata": {},
     "output_type": "execute_result"
    }
   ],
   "source": [
    "deBoer_data = pd.read_csv(\"GSE104878_20160609_average_promoter_ELs_per_seq_pTpA_ALL.shuffled.txt\", sep=\"\\t\", header=None)\n",
    "deBoer_data.columns = [\"SEQUENCE\", \"ACTIVITY\"]\n",
    "deBoer_data.head(1)"
   ]
  },
  {
   "cell_type": "markdown",
   "id": "945550e2-0b82-4cf9-8109-c3a614946fa7",
   "metadata": {
    "tags": []
   },
   "source": [
    "# Exploratory data analysis (EDA)"
   ]
  },
  {
   "cell_type": "markdown",
   "id": "8988700b-14f2-4e85-8a23-e340aec50515",
   "metadata": {},
   "source": [
    "## **Q1:** Length of sequences"
   ]
  },
  {
   "cell_type": "code",
   "execution_count": 6,
   "id": "a5bf5019-5dda-4263-9671-8837e2346f4a",
   "metadata": {
    "execution": {
     "iopub.execute_input": "2021-10-28T22:26:51.134600Z",
     "iopub.status.busy": "2021-10-28T22:26:51.134246Z",
     "iopub.status.idle": "2021-10-28T22:27:06.169694Z",
     "shell.execute_reply": "2021-10-28T22:27:06.168954Z",
     "shell.execute_reply.started": "2021-10-28T22:26:51.134564Z"
    }
   },
   "outputs": [
    {
     "data": {
      "image/png": "[encoded data removed]",
      "text/plain": [
       "<Figure size 1152x576 with 1 Axes>"
      ]
     },
     "metadata": {
      "needs_background": "light"
     },
     "output_type": "display_data"
    }
   ],
   "source": [
    "# Raw sequence lengths\n",
    "fig, ax = plt.subplots(figsize=(16,8))\n",
    "plt_data = deBoer_data['SEQUENCE'].apply(len).value_counts().astype(object) \n",
    "plt_data = plt_data[plt_data >= 10]\n",
    "sns.barplot(x=plt_data.index, y=plt_data.values, color='blue', ax=ax);"
   ]
  },
  {
   "cell_type": "markdown",
   "id": "76b44e56-38aa-429f-ad76-ee6441e4c8c9",
   "metadata": {},
   "source": [
    "## Q2: Distribution of nucleotides"
   ]
  },
  {
   "cell_type": "code",
   "execution_count": 15,
   "id": "236ff051-69dc-4f2c-b08d-6c5af7cb7c8c",
   "metadata": {
    "execution": {
     "iopub.execute_input": "2021-10-28T22:36:21.201366Z",
     "iopub.status.busy": "2021-10-28T22:36:21.201004Z",
     "iopub.status.idle": "2021-10-28T22:36:46.238850Z",
     "shell.execute_reply": "2021-10-28T22:36:46.238035Z",
     "shell.execute_reply.started": "2021-10-28T22:36:21.201327Z"
    },
    "tags": []
   },
   "outputs": [
    {
     "name": "stderr",
     "output_type": "stream",
     "text": [
      "100%|██████████| 31349363/31349363 [00:22<00:00, 1402501.12it/s]\n"
     ]
    }
   ],
   "source": [
    "seqs = []\n",
    "for i, seq in enumerate(tqdm.tqdm(deBoer_data[\"SEQUENCE\"].values)):\n",
    "    if len(seq) < 110:\n",
    "        seq += ''.join(['N'] * (110-len(seq)))  # Pad with N's if less than 69bp\n",
    "\n",
    "    if len(seq) > 110:\n",
    "        seq = seq[:110]\n",
    "    \n",
    "    seqs.append(seq)"
   ]
  },
  {
   "cell_type": "code",
   "execution_count": 21,
   "id": "710bae9a-0b20-4a74-a30d-77ec2432dbec",
   "metadata": {
    "execution": {
     "iopub.execute_input": "2021-10-28T22:38:01.133220Z",
     "iopub.status.busy": "2021-10-28T22:38:01.132941Z",
     "iopub.status.idle": "2021-10-28T22:38:02.061123Z",
     "shell.execute_reply": "2021-10-28T22:38:02.060283Z",
     "shell.execute_reply.started": "2021-10-28T22:38:01.133188Z"
    },
    "tags": []
   },
   "outputs": [],
   "source": [
    "def freq_lists(dna_list):\n",
    "    n = len(dna_list[0])\n",
    "    A = [0]*n\n",
    "    T = [0]*n\n",
    "    G = [0]*n\n",
    "    C = [0]*n\n",
    "    N = [0]*n\n",
    "    for i, dna in enumerate(tqdm.tqdm(dna_list)):\n",
    "        for index, base in enumerate(dna):\n",
    "            if base == 'A':\n",
    "                A[index] += 1\n",
    "            elif base == 'C':\n",
    "                C[index] += 1\n",
    "            elif base == 'G':\n",
    "                G[index] += 1\n",
    "            elif base == 'T':\n",
    "                T[index] += 1\n",
    "            else:\n",
    "                N[index] += 1\n",
    "    return A, C, G, T, N\n",
    "\n",
    "def move_legend(ax, new_loc, **kws):\n",
    "    old_legend = ax.legend_\n",
    "    handles = old_legend.legendHandles\n",
    "    labels = [t.get_text() for t in old_legend.get_texts()]\n",
    "    title = old_legend.get_title().get_text()\n",
    "    ax.legend(handles, labels, loc=new_loc, title=title, **kws)"
   ]
  },
  {
   "cell_type": "code",
   "execution_count": 34,
   "id": "7c976117-8112-46f4-8d99-3f1615a9afc6",
   "metadata": {
    "ExecuteTime": {
     "end_time": "2021-05-20T06:38:47.780242Z",
     "start_time": "2021-05-20T06:38:47.061914Z"
    },
    "execution": {
     "iopub.execute_input": "2021-10-28T22:42:41.175472Z",
     "iopub.status.busy": "2021-10-28T22:42:41.175190Z",
     "iopub.status.idle": "2021-10-28T22:43:02.319015Z",
     "shell.execute_reply": "2021-10-28T22:43:02.318370Z",
     "shell.execute_reply.started": "2021-10-28T22:42:41.175439Z"
    },
    "tags": []
   },
   "outputs": [
    {
     "name": "stderr",
     "output_type": "stream",
     "text": [
      "100%|██████████| 10000/10000 [00:00<00:00, 50914.97it/s]\n"
     ]
    },
    {
     "data": {
      "image/png": "[encoded data removed]",
      "text/plain": [
       "<Figure size 1152x576 with 1 Axes>"
      ]
     },
     "metadata": {
      "needs_background": "light"
     },
     "output_type": "display_data"
    }
   ],
   "source": [
    "pos_counts = pd.DataFrame(freq_lists(np.random.choice(seqs, 10000)))\n",
    "pos_freqs = pos_counts/(pos_counts.sum(axis=0))\n",
    "pos_freqs.index = pd.Index(['A', 'C', 'G', 'T', 'N'])\n",
    "pos_freqs.columns = range(1, len(seqs[0])+1)\n",
    "fig, ax = plt.subplots(figsize=(16, 8))\n",
    "ax.set_ylim(0, 1)\n",
    "pos_freqs.T.plot(kind='bar', stacked=True, ax=ax)\n",
    "move_legend(ax, 1, fontsize=24)"
   ]
  },
  {
   "cell_type": "markdown",
   "id": "51fe7d71-ab91-490a-bbf5-b284a9e682b3",
   "metadata": {
    "tags": []
   },
   "source": [
    "## **Q2:** Distribution of activities"
   ]
  },
  {
   "cell_type": "code",
   "execution_count": 35,
   "id": "fc787434-4097-4024-80f0-61a550919816",
   "metadata": {
    "execution": {
     "iopub.execute_input": "2021-10-28T22:43:13.136595Z",
     "iopub.status.busy": "2021-10-28T22:43:13.136325Z",
     "iopub.status.idle": "2021-10-28T22:43:41.846143Z",
     "shell.execute_reply": "2021-10-28T22:43:41.845391Z",
     "shell.execute_reply.started": "2021-10-28T22:43:13.136560Z"
    },
    "tags": []
   },
   "outputs": [
    {
     "data": {
      "text/plain": [
       "Text(0.5, 0, 'Expression level')"
      ]
     },
     "execution_count": 35,
     "metadata": {},
     "output_type": "execute_result"
    },
    {
     "data": {
      "image/png": "[encoded data removed]",
      "text/plain": [
       "<Figure size 432x288 with 1 Axes>"
      ]
     },
     "metadata": {
      "needs_background": "light"
     },
     "output_type": "display_data"
    }
   ],
   "source": [
    "# Check distributions of average RPMs\n",
    "ax = sns.ecdfplot(deBoer_data[\"ACTIVITY\"].values)\n",
    "ax.set_ylim(0, 1.2)\n",
    "ax.set_xlabel('Expression level');"
   ]
  },
  {
   "cell_type": "code",
   "execution_count": 36,
   "id": "a53259c9-1962-4406-8726-b91c51ded659",
   "metadata": {
    "execution": {
     "iopub.execute_input": "2021-10-28T22:44:19.439329Z",
     "iopub.status.busy": "2021-10-28T22:44:19.438979Z",
     "iopub.status.idle": "2021-10-28T22:44:24.673969Z",
     "shell.execute_reply": "2021-10-28T22:44:24.673292Z",
     "shell.execute_reply.started": "2021-10-28T22:44:19.439280Z"
    }
   },
   "outputs": [
    {
     "data": {
      "text/plain": [
       "<AxesSubplot:ylabel='Frequency'>"
      ]
     },
     "execution_count": 36,
     "metadata": {},
     "output_type": "execute_result"
    },
    {
     "data": {
      "image/png": "[encoded data removed]",
      "text/plain": [
       "<Figure size 432x288 with 1 Axes>"
      ]
     },
     "metadata": {
      "needs_background": "light"
     },
     "output_type": "display_data"
    }
   ],
   "source": [
    "deBoer_data[\"ACTIVITY\"].plot(kind=\"hist\")"
   ]
  },
  {
   "cell_type": "markdown",
   "id": "99a8c706-ccbe-4156-9e3d-a29c1ecc9e95",
   "metadata": {
    "execution": {
     "iopub.execute_input": "2021-09-08T17:29:42.314098Z",
     "iopub.status.busy": "2021-09-08T17:29:42.313838Z",
     "iopub.status.idle": "2021-09-08T17:29:42.903968Z",
     "shell.execute_reply": "2021-09-08T17:29:42.903216Z",
     "shell.execute_reply.started": "2021-09-08T17:29:42.314069Z"
    },
    "tags": []
   },
   "source": [
    "# Scratch\n",
    "Place for old or testing code"
   ]
  },
  {
   "cell_type": "markdown",
   "id": "ed7ffd88-94c2-45f2-ad87-9f255e8073ff",
   "metadata": {},
   "source": [
    "# References"
   ]
  }
 ],
 "metadata": {
  "kernelspec": {
   "display_name": "Python3 ml_env",
   "language": "python",
   "name": "ml_env"
  },
  "language_info": {
   "codemirror_mode": {
    "name": "ipython",
    "version": 3
   },
   "file_extension": ".py",
   "mimetype": "text/x-python",
   "name": "python",
   "nbconvert_exporter": "python",
   "pygments_lexer": "ipython3",
   "version": "3.8.8"
  }
 },
 "nbformat": 4,
 "nbformat_minor": 5
}

{
 "cells": [
  {
   "cell_type": "markdown",
   "id": "90a88efe-ebb3-424c-8704-fb4ee189af2c",
   "metadata": {},
   "source": [
    "# 2021 Genomic GATA/ETS Cluster Sequences Preprocessing Notebook"
   ]
  },
  {
   "cell_type": "markdown",
   "id": "2d058003-a667-4b45-9ddc-e47efe48e0e1",
   "metadata": {
    "tags": []
   },
   "source": [
    "**Authorship:**\n",
    "Adam Klie *11/15/2021*\n",
    "***\n",
    "**Description:**\n",
    "This data comes from Joe in the form of an excel spreadsheet. From my current understanding, the 9 sequences were identified using a GATA/ETS cluster search algorithm in the *Ciona intestinalis* genome. I will follow up with Joe for more specific details\n",
    "***\n",
    "**TODOs:**\n",
    " - <font color='green'> Load in and preprocess excel sheet emailed by Joe </font>\n",
    " - <font color='green'> Preprocess into FASTA, labels and seq ids</font>\n",
    " - <font color='green'> Preprocess into ohe </font>\n",
    " - <font color='green'> Clean up notebook </font>\n",
    "***"
   ]
  },
  {
   "cell_type": "markdown",
   "id": "bca7c07f-c31c-4d7d-b83d-264c9c3e4ffd",
   "metadata": {
    "tags": []
   },
   "source": [
    "# Set-up"
   ]
  },
  {
   "cell_type": "code",
   "execution_count": 2,
   "id": "8987002a-3d9f-46db-ba9a-719d15da9d10",
   "metadata": {
    "ExecuteTime": {
     "end_time": "2021-05-25T16:46:38.428847Z",
     "start_time": "2021-05-25T16:46:18.911625Z"
    },
    "execution": {
     "iopub.execute_input": "2021-11-26T21:38:49.388443Z",
     "iopub.status.busy": "2021-11-26T21:38:49.388062Z",
     "iopub.status.idle": "2021-11-26T21:39:08.231369Z",
     "shell.execute_reply": "2021-11-26T21:39:08.230361Z",
     "shell.execute_reply.started": "2021-11-26T21:38:49.388406Z"
    },
    "tags": []
   },
   "outputs": [],
   "source": [
    "# Classics\n",
    "import os\n",
    "import numpy as np\n",
    "import pandas as pd\n",
    "import tqdm\n",
    "import pickle\n",
    "\n",
    "# Autoreload extension\n",
    "if 'autoreload' not in get_ipython().extension_manager.loaded:\n",
    "    %load_ext autoreload\n",
    "\n",
    "%autoreload 2\n",
    "\n",
    "import sys\n",
    "sys.path.append(\"/cellar/users/aklie/projects/EUGENE/bin/\")\n",
    "import project_utils\n",
    "import otx_enhancer_utils"
   ]
  },
  {
   "cell_type": "code",
   "execution_count": 14,
   "id": "344eb4c7-097c-4553-aee5-243ff8e845e3",
   "metadata": {
    "execution": {
     "iopub.execute_input": "2021-11-27T07:03:15.761355Z",
     "iopub.status.busy": "2021-11-27T07:03:15.761006Z",
     "iopub.status.idle": "2021-11-27T07:03:16.845880Z",
     "shell.execute_reply": "2021-11-27T07:03:16.845058Z",
     "shell.execute_reply.started": "2021-11-27T07:03:15.761318Z"
    },
    "tags": []
   },
   "outputs": [],
   "source": [
    "# Training stats for mixed encodings\n",
    "PREPROCESS = \"0.09-0.4\"  # String defining the preprocessing for saving\n",
    "SPLIT = 0.9  # Split into training and test sets"
   ]
  },
  {
   "cell_type": "markdown",
   "id": "88fd5092-fe40-4c4f-95d1-1e1f596af80d",
   "metadata": {
    "tags": []
   },
   "source": [
    "# Load data to preprocess"
   ]
  },
  {
   "cell_type": "markdown",
   "id": "04fad2f8-fae2-4072-87c7-bd5c8b9b7ebb",
   "metadata": {
    "tags": []
   },
   "source": [
    "## Create full sequence dataframe"
   ]
  },
  {
   "cell_type": "code",
   "execution_count": 15,
   "id": "6a1d3880-f5b4-479d-859e-a85e46bac726",
   "metadata": {
    "execution": {
     "iopub.execute_input": "2021-11-27T07:03:19.539957Z",
     "iopub.status.busy": "2021-11-27T07:03:19.539666Z",
     "iopub.status.idle": "2021-11-27T07:03:20.720834Z",
     "shell.execute_reply": "2021-11-27T07:03:20.719895Z",
     "shell.execute_reply.started": "2021-11-27T07:03:19.539924Z"
    },
    "tags": []
   },
   "outputs": [
    {
     "name": "stderr",
     "output_type": "stream",
     "text": [
      "/cellar/users/aklie/opt/miniconda3/envs/ml_env/lib/python3.8/site-packages/pandas/core/indexing.py:1637: SettingWithCopyWarning: \n",
      "A value is trying to be set on a copy of a slice from a DataFrame\n",
      "\n",
      "See the caveats in the documentation: https://pandas.pydata.org/pandas-docs/stable/user_guide/indexing.html#returning-a-view-versus-a-copy\n",
      "  self._setitem_single_block(indexer, value, name)\n"
     ]
    },
    {
     "data": {
      "text/html": [
       "<div>\n",
       "<style scoped>\n",
       "    .dataframe tbody tr th:only-of-type {\n",
       "        vertical-align: middle;\n",
       "    }\n",
       "\n",
       "    .dataframe tbody tr th {\n",
       "        vertical-align: top;\n",
       "    }\n",
       "\n",
       "    .dataframe thead th {\n",
       "        text-align: right;\n",
       "    }\n",
       "</style>\n",
       "<table border=\"1\" class=\"dataframe\">\n",
       "  <thead>\n",
       "    <tr style=\"text-align: right;\">\n",
       "      <th></th>\n",
       "      <th>NAME</th>\n",
       "      <th>SEQ</th>\n",
       "      <th>FXN_LABEL</th>\n",
       "      <th>TILE</th>\n",
       "      <th>SEQ_LEN</th>\n",
       "    </tr>\n",
       "  </thead>\n",
       "  <tbody>\n",
       "    <tr>\n",
       "      <th>0</th>\n",
       "      <td>Otxa-WTg1</td>\n",
       "      <td>CGTGGTACTAGAAATTTTATCACTGTCGTGGTACCGGAAAATTTAT...</td>\n",
       "      <td>1</td>\n",
       "      <td>full</td>\n",
       "      <td>93</td>\n",
       "    </tr>\n",
       "  </tbody>\n",
       "</table>\n",
       "</div>"
      ],
      "text/plain": [
       "        NAME                                                SEQ  FXN_LABEL  \\\n",
       "0  Otxa-WTg1  CGTGGTACTAGAAATTTTATCACTGTCGTGGTACCGGAAAATTTAT...          1   \n",
       "\n",
       "   TILE  SEQ_LEN  \n",
       "0  full       93  "
      ]
     },
     "execution_count": 15,
     "metadata": {},
     "output_type": "execute_result"
    }
   ],
   "source": [
    "# Load the excel spreadsheet with the sequences and functional annotation\n",
    "dataset = pd.read_excel(\"GATA_ETS_clusters.xlsx\", sheet_name=0).dropna()\n",
    "dataset[\"FXN_LABEL\"] = (dataset[\"Functional\"] == \"Yes\").astype(int)\n",
    "dataset = dataset.rename({\"Sequence\": \"SEQ\"}, axis=1)\n",
    "dataset[\"SEQ_LEN\"] = dataset[\"SEQ\"].apply(len)\n",
    "dataset[\"Name\"].iloc[4] = \"Negative_control\"\n",
    "dataset[\"NAME\"] = dataset[\"Name\"].str.replace(\" \", \"-\")\n",
    "dataset[\"TILE\"] = \"full\"\n",
    "dataset = dataset[[\"NAME\", \"SEQ\", \"FXN_LABEL\", \"TILE\", \"SEQ_LEN\"]]\n",
    "dataset.head(1)"
   ]
  },
  {
   "cell_type": "code",
   "execution_count": 16,
   "id": "0adce34c-ce4e-48d1-a5a9-13384dac3592",
   "metadata": {
    "execution": {
     "iopub.execute_input": "2021-11-27T07:03:20.722517Z",
     "iopub.status.busy": "2021-11-27T07:03:20.722292Z",
     "iopub.status.idle": "2021-11-27T07:03:21.818268Z",
     "shell.execute_reply": "2021-11-27T07:03:21.817341Z",
     "shell.execute_reply.started": "2021-11-27T07:03:20.722488Z"
    },
    "tags": []
   },
   "outputs": [
    {
     "data": {
      "text/plain": [
       "0    6\n",
       "1    3\n",
       "Name: FXN_LABEL, dtype: int64"
      ]
     },
     "execution_count": 16,
     "metadata": {},
     "output_type": "execute_result"
    }
   ],
   "source": [
    "# Save non-tiled dataframe in standard format\n",
    "dataset.to_csv(\"2021_GATA_ETS_Clusters.tsv\", index=False, sep=\"\\t\")\n",
    "\n",
    "# Double check valid labeling\n",
    "dataset[\"FXN_LABEL\"].value_counts()"
   ]
  },
  {
   "cell_type": "markdown",
   "id": "a3907e69-df8c-4ea0-b77b-e44f9d51acae",
   "metadata": {
    "tags": []
   },
   "source": [
    "## Create tiled dataframe"
   ]
  },
  {
   "cell_type": "code",
   "execution_count": 17,
   "id": "5a4e461f-73c8-451e-b43e-c0d3d8e96524",
   "metadata": {
    "execution": {
     "iopub.execute_input": "2021-11-27T07:03:21.820232Z",
     "iopub.status.busy": "2021-11-27T07:03:21.819971Z",
     "iopub.status.idle": "2021-11-27T07:03:23.041926Z",
     "shell.execute_reply": "2021-11-27T07:03:23.041123Z",
     "shell.execute_reply.started": "2021-11-27T07:03:21.820201Z"
    },
    "tags": []
   },
   "outputs": [
    {
     "name": "stdout",
     "output_type": "stream",
     "text": [
      "CGTGGTACTAGAAATTTTATCACTGTCGTGGTACCGGAAAATTTATCCCAGCTGTGATACCGGAAATTTTATCTCAGTCGTGGTACCGGAACA 93\n",
      "ATTATCATTACCTTATTATCAAATGTGCAAGAGGGACGCGGAAGTAGTATTTTCAATTGGGACGCGGAAGTAGAACTTTTCGTATCTCGCAAACCATT 98\n",
      "CCTATATCTATAATAACAGTCGGAAATTGCCGGAAAATAATAAAATTATCGTCT 54\n",
      "too short: 54\n",
      "CATAGATAGCAACAATGCCATCTTATCTACGTAACTAGGAAACATAATCATTTATAAAACTTTCTATCTACTTAAACGGAAACCTTTTGTTACGTCACGGTGACGTATTATCTGAC 116\n",
      "CAGGAAATTCCCGTTATCTATCCATCGCTATACTTCGTGTAGTTATCTATCCATCGCTATACTTCGTGTAGCCAACGTGCTAATTCGGTAAGTAAAACCAGTTATCATAACATAACCGGATACGCAAACCATT 133\n",
      "TTATTATCGGACTCAAAGTAGCAAACGGAAATCATGCGTGATGAACTTCCGACAGCAAACTTATCTTCCTGTG 73\n",
      "GTTTGGATAGAGCGCAAGGTTTATCACAGCAGGATATATAAAAAACAACAGTAGTTTCCTGACTTTGCGTTCATTAAATATCTAATACTACCCTTGCTTTTCCCTTT 107\n",
      "AAATTATCAACGTACAGAAATTATCTTGGATTGAAATGCAAGCGTCGTTTCCGTTGAGAATATCTTGT 68\n",
      "TTATTATCGTTTTTTAATATATTTATCAGGTTTCTCTCGTTTCCTGCTATAGGAGGACAAGTTTTATCAGCAGGATAGAAC 81\n"
     ]
    }
   ],
   "source": [
    "# Find and concatenate tiles\n",
    "tile_seqs = []\n",
    "for i, enh in dataset.iterrows():\n",
    "    seq = enh[\"SEQ\"]\n",
    "    print(seq, enh[\"SEQ_LEN\"])\n",
    "    if len(seq) > 66:\n",
    "        for j in range(len(seq)-66+1):\n",
    "            tile = seq[j:j+66]\n",
    "            tile_seqs.append([enh[\"NAME\"], tile, enh[\"FXN_LABEL\"], j, 66])\n",
    "    else:\n",
    "        print(\"too short:\", len(seq))\n",
    "dataset_tiled = pd.concat([dataset, pd.DataFrame(data=tile_seqs, columns=dataset.columns)]).sort_values([\"NAME\", \"TILE\"]).reset_index()\n",
    "\n",
    "# Save tiled dataframe in standard format\n",
    "dataset_tiled = dataset_tiled.drop('index', axis=1)\n",
    "dataset_tiled.to_csv(\"2021_GATA_ETS_Clusters-tiled.tsv\", sep=\"\\t\", index=False)"
   ]
  },
  {
   "cell_type": "markdown",
   "id": "2a77b6b7-8acc-46b3-9d34-66281229ffd4",
   "metadata": {
    "execution": {
     "iopub.execute_input": "2021-11-24T20:05:29.968958Z",
     "iopub.status.busy": "2021-11-24T20:05:29.968655Z",
     "iopub.status.idle": "2021-11-24T20:05:30.942602Z",
     "shell.execute_reply": "2021-11-24T20:05:30.941989Z",
     "shell.execute_reply.started": "2021-11-24T20:05:29.968925Z"
    },
    "tags": []
   },
   "source": [
    "# Save labels, IDs, and Seqs"
   ]
  },
  {
   "cell_type": "markdown",
   "id": "32b84594-c348-462e-a51e-0746c5951aa0",
   "metadata": {
    "tags": []
   },
   "source": [
    "### **Binary Labels**\n",
    "0 (non-functional) and 1 (functional). These are all the same"
   ]
  },
  {
   "cell_type": "code",
   "execution_count": 18,
   "id": "9b57f513-1afb-4ad1-b6c5-7bdc1b0a893b",
   "metadata": {
    "execution": {
     "iopub.execute_input": "2021-11-27T07:03:23.043561Z",
     "iopub.status.busy": "2021-11-27T07:03:23.043319Z",
     "iopub.status.idle": "2021-11-27T07:03:24.745678Z",
     "shell.execute_reply": "2021-11-27T07:03:24.744769Z",
     "shell.execute_reply.started": "2021-11-27T07:03:23.043530Z"
    },
    "tags": []
   },
   "outputs": [
    {
     "name": "stdout",
     "output_type": "stream",
     "text": [
      "  9 binary/y_binary.txt\n",
      "258 binary/y-tiled_binary.txt\n",
      "267 total\n"
     ]
    }
   ],
   "source": [
    "# Save the labels\n",
    "if not os.path.isdir(\"binary\"):\n",
    "    os.makedirs(\"binary\")\n",
    "\n",
    "y = dataset[\"FXN_LABEL\"].values\n",
    "y_tiled = dataset_tiled[\"FXN_LABEL\"].values\n",
    "np.savetxt(\"binary/y_binary.txt\", X=y, fmt=\"%d\")\n",
    "np.savetxt(\"binary/y-tiled_binary.txt\", X=y_tiled, fmt=\"%d\")\n",
    "\n",
    "!wc -l binary/*"
   ]
  },
  {
   "cell_type": "markdown",
   "id": "b91d504a-c9f4-43d0-b3d7-a8a568b2a166",
   "metadata": {
    "tags": []
   },
   "source": [
    "### **Identifiers**\n",
    "Name of the sequence to identify it"
   ]
  },
  {
   "cell_type": "code",
   "execution_count": 47,
   "id": "2f12a092-2978-47bf-95e9-a6eeb36f6b38",
   "metadata": {
    "execution": {
     "iopub.execute_input": "2021-11-27T07:12:57.882062Z",
     "iopub.status.busy": "2021-11-27T07:12:57.881775Z",
     "iopub.status.idle": "2021-11-27T07:12:59.831445Z",
     "shell.execute_reply": "2021-11-27T07:12:59.830527Z",
     "shell.execute_reply.started": "2021-11-27T07:12:57.882030Z"
    },
    "tags": []
   },
   "outputs": [
    {
     "name": "stdout",
     "output_type": "stream",
     "text": [
      " 258 id/id-tiled.txt\n",
      "   9 id/id.txt\n",
      " 267 total\n"
     ]
    }
   ],
   "source": [
    "# Save the ids\n",
    "if not os.path.isdir(\"id\"):\n",
    "    os.makedirs(\"id\")\n",
    "    \n",
    "ID = dataset[\"NAME\"].values\n",
    "ID_tiled = (dataset_tiled[\"NAME\"] + \":\" + dataset_tiled[\"TILE\"].astype(str)).values\n",
    "np.savetxt(\"id/id.txt\", X=ID, fmt=\"%s\")\n",
    "np.savetxt(\"id/id-tiled.txt\", X=ID_tiled, fmt=\"%s\")\n",
    "\n",
    "!wc -l id/*"
   ]
  },
  {
   "cell_type": "markdown",
   "id": "4e4eac6f-0bf8-4e1a-b6e9-adc10eae5100",
   "metadata": {
    "tags": []
   },
   "source": [
    "### **Sequences**\n",
    "ACGT..."
   ]
  },
  {
   "cell_type": "code",
   "execution_count": 20,
   "id": "21ca2c2b-3b59-4b9f-a69b-cc2230afb3a5",
   "metadata": {
    "execution": {
     "iopub.execute_input": "2021-11-27T07:03:26.449551Z",
     "iopub.status.busy": "2021-11-27T07:03:26.449218Z",
     "iopub.status.idle": "2021-11-27T07:03:28.091995Z",
     "shell.execute_reply": "2021-11-27T07:03:28.090885Z",
     "shell.execute_reply.started": "2021-11-27T07:03:26.449506Z"
    },
    "tags": []
   },
   "outputs": [
    {
     "name": "stdout",
     "output_type": "stream",
     "text": [
      "  258 seqs/seqs-tiled.txt\n",
      "    9 seqs/seqs.txt\n",
      "  267 total\n"
     ]
    }
   ],
   "source": [
    "# Save the seqs\n",
    "if not os.path.isdir(\"seqs\"):\n",
    "    os.makedirs(\"seqs\")\n",
    "    \n",
    "X_seqs = dataset[\"SEQ\"].values\n",
    "X_seqs_tiled = dataset_tiled[\"SEQ\"].values\n",
    "np.savetxt(\"seqs/seqs.txt\", X=X_seqs, fmt=\"%s\")\n",
    "np.savetxt(\"seqs/seqs-tiled.txt\", X=X_seqs_tiled, fmt=\"%s\")\n",
    "\n",
    "!wc -l seqs/*"
   ]
  },
  {
   "cell_type": "markdown",
   "id": "c3ced0aa-de42-405b-b072-36e9e1ec1fec",
   "metadata": {
    "tags": []
   },
   "source": [
    "# Preprocess and save different feature sets"
   ]
  },
  {
   "cell_type": "markdown",
   "id": "1f5e2032-0f46-488f-919d-d838d9a1ee60",
   "metadata": {
    "tags": []
   },
   "source": [
    "## **<u>Sequence feature idea 2 </u>**: Mixed encodings "
   ]
  },
  {
   "cell_type": "markdown",
   "id": "1f0d5da2-969a-4ec0-8e2c-57ac85e9a192",
   "metadata": {},
   "source": [
    "### **Generate all valid encodings**"
   ]
  },
  {
   "cell_type": "code",
   "execution_count": 49,
   "id": "2f2c6f7f-e5fb-417b-8433-e76591cdc34e",
   "metadata": {
    "execution": {
     "iopub.execute_input": "2021-11-28T01:36:24.479010Z",
     "iopub.status.busy": "2021-11-28T01:36:24.478222Z",
     "iopub.status.idle": "2021-11-28T01:36:26.644132Z",
     "shell.execute_reply": "2021-11-28T01:36:26.643423Z",
     "shell.execute_reply.started": "2021-11-28T01:36:24.478811Z"
    },
    "tags": []
   },
   "outputs": [
    {
     "name": "stderr",
     "output_type": "stream",
     "text": [
      "9it [00:00, 126.13it/s]\n"
     ]
    },
    {
     "data": {
      "text/plain": [
       "((3, 21), (3, 26), (3, 21), 3)"
      ]
     },
     "execution_count": 49,
     "metadata": {},
     "output_type": "execute_result"
    }
   ],
   "source": [
    "X_mixed1s, X_mixed2s, X_mixed3s, valid_idxs = otx_enhancer_utils.mixed_encode(dataset)\n",
    "X_mixed1s.shape, X_mixed2s.shape, X_mixed3s.shape, len(valid_idxs)"
   ]
  },
  {
   "cell_type": "code",
   "execution_count": 51,
   "id": "a4415c2b-8f54-4bb4-806e-98d0bc5cd27e",
   "metadata": {
    "execution": {
     "iopub.execute_input": "2021-11-28T01:36:44.550577Z",
     "iopub.status.busy": "2021-11-28T01:36:44.550352Z",
     "iopub.status.idle": "2021-11-28T01:36:45.799064Z",
     "shell.execute_reply": "2021-11-28T01:36:45.798207Z",
     "shell.execute_reply.started": "2021-11-28T01:36:44.550551Z"
    },
    "tags": []
   },
   "outputs": [
    {
     "data": {
      "text/plain": [
       "(array([ 0.        ,  0.        ,  0.        ,  0.58244164,  6.        ,\n",
       "         0.        ,  0.        ,  0.58768221, 15.        ,  1.        ,\n",
       "         1.        ,  0.64665928, 18.        ,  1.        ,  1.        ,\n",
       "         0.64665928,  9.        ,  0.        ,  0.        ,  0.43036466,\n",
       "        10.        ]),\n",
       " array([ 0.        ,  0.        ,  0.        ,  0.58244164, -1.        ,\n",
       "         6.        ,  0.        ,  0.        ,  0.58768221, -1.        ,\n",
       "        15.        ,  0.64665928,  1.        ,  0.        ,  0.        ,\n",
       "        18.        ,  0.64665928,  1.        ,  0.        ,  0.        ,\n",
       "         9.        ,  0.        ,  0.        ,  0.43036466, -1.        ,\n",
       "        10.        ]),\n",
       " array([ 0.        ,  0.        ,  0.58244164,  0.        ,  6.        ,\n",
       "         0.        ,  0.58768221,  0.        , 15.        ,  0.64665928,\n",
       "         0.        ,  1.        , 18.        ,  0.64665928,  0.        ,\n",
       "         1.        ,  9.        ,  0.        ,  0.43036466,  0.        ,\n",
       "        10.        ]))"
      ]
     },
     "execution_count": 51,
     "metadata": {},
     "output_type": "execute_result"
    }
   ],
   "source": [
    "X_mixed1s[0], X_mixed2s[0], X_mixed3s[0]"
   ]
  },
  {
   "cell_type": "code",
   "execution_count": 52,
   "id": "bd4b86bf-5bff-4770-90e5-320f36890355",
   "metadata": {
    "execution": {
     "iopub.execute_input": "2021-11-28T01:36:45.800448Z",
     "iopub.status.busy": "2021-11-28T01:36:45.800235Z",
     "iopub.status.idle": "2021-11-28T01:36:49.182851Z",
     "shell.execute_reply": "2021-11-28T01:36:49.182209Z",
     "shell.execute_reply.started": "2021-11-28T01:36:45.800421Z"
    },
    "tags": []
   },
   "outputs": [
    {
     "name": "stderr",
     "output_type": "stream",
     "text": [
      "258it [00:01, 146.51it/s]\n"
     ]
    },
    {
     "data": {
      "text/plain": [
       "((17, 21), (17, 26), (17, 21), 17)"
      ]
     },
     "execution_count": 52,
     "metadata": {},
     "output_type": "execute_result"
    }
   ],
   "source": [
    "X_mixed1s_tiled, X_mixed2s_tiled, X_mixed3s_tiled, valid_idxs_tiled = otx_enhancer_utils.mixed_encode(dataset_tiled)\n",
    "X_mixed1s_tiled.shape, X_mixed2s_tiled.shape, X_mixed3s_tiled.shape, len(valid_idxs_tiled)"
   ]
  },
  {
   "cell_type": "code",
   "execution_count": 53,
   "id": "cc9affb3-c77b-404d-948e-324894d84691",
   "metadata": {
    "execution": {
     "iopub.execute_input": "2021-11-28T01:36:49.184253Z",
     "iopub.status.busy": "2021-11-28T01:36:49.184032Z",
     "iopub.status.idle": "2021-11-28T01:36:50.823873Z",
     "shell.execute_reply": "2021-11-28T01:36:50.823052Z",
     "shell.execute_reply.started": "2021-11-28T01:36:49.184214Z"
    }
   },
   "outputs": [
    {
     "data": {
      "text/plain": [
       "(array([ 3.        ,  0.        ,  0.        ,  0.06471063, -7.        ,\n",
       "         1.        ,  0.        ,  0.08895922, 16.        ,  0.        ,\n",
       "         0.        ,  0.84258591, -4.        ,  0.        ,  0.        ,\n",
       "         0.06471063, -7.        ,  1.        ,  0.        ,  0.08895922,\n",
       "        25.        ]),\n",
       " array([ 3.        ,  0.        ,  0.        ,  0.06471063, -1.        ,\n",
       "        -7.        ,  0.08895922, -1.        ,  0.        ,  0.        ,\n",
       "        16.        ,  0.        ,  0.        ,  0.84258591, -1.        ,\n",
       "        -4.        ,  0.        ,  0.        ,  0.06471063, -1.        ,\n",
       "        -7.        ,  0.08895922, -1.        ,  0.        ,  0.        ,\n",
       "        25.        ]),\n",
       " array([ 3.        ,  0.        ,  0.06471063,  0.        , -7.        ,\n",
       "         0.08895922,  0.        ,  0.        , 16.        ,  0.        ,\n",
       "         0.84258591,  0.        , -4.        ,  0.        ,  0.06471063,\n",
       "         0.        , -7.        ,  0.08895922,  0.        ,  0.        ,\n",
       "        25.        ]))"
      ]
     },
     "execution_count": 53,
     "metadata": {},
     "output_type": "execute_result"
    }
   ],
   "source": [
    "X_mixed1s_tiled[0], X_mixed2s_tiled[0], X_mixed3s_tiled[0]"
   ]
  },
  {
   "cell_type": "markdown",
   "id": "ae595065-667d-45f2-875c-f0e44282eca2",
   "metadata": {
    "tags": []
   },
   "source": [
    "### *Mixed 1.0*\n",
    " - Replace binding sites using dictionary\n",
    " - Separate based on these binding sites and add create \"dummy variables\"\n",
    " - Get lengths of linkers around binding sites"
   ]
  },
  {
   "cell_type": "code",
   "execution_count": 54,
   "id": "6d505e7f-5ed5-4b51-bf2b-e8131cb76ecd",
   "metadata": {
    "execution": {
     "iopub.execute_input": "2021-11-28T01:37:16.595344Z",
     "iopub.status.busy": "2021-11-28T01:37:16.595070Z",
     "iopub.status.idle": "2021-11-28T01:37:19.003224Z",
     "shell.execute_reply": "2021-11-28T01:37:19.002491Z",
     "shell.execute_reply.started": "2021-11-28T01:37:16.595316Z"
    },
    "tags": []
   },
   "outputs": [
    {
     "name": "stdout",
     "output_type": "stream",
     "text": [
      "   1 mixed_1.0/0.09-0.4_0.9-split_X-test_mixed-1.0.npy\n",
      "   6 mixed_1.0/0.09-0.4_0.9-split_X-test_mixed-1.0-tiled.npy\n",
      "   2 mixed_1.0/0.18-0.4_0.9-split_X-test_mixed-1.0.npy\n",
      "   6 mixed_1.0/0.18-0.4_0.9-split_X-test_mixed-1.0-tiled.npy\n",
      "  17 mixed_1.0/id-valid-tiled.txt\n",
      "   3 mixed_1.0/id-valid.txt\n",
      "  17 mixed_1.0/valid_id-tiled.txt\n",
      "   3 mixed_1.0/valid_id.txt\n",
      "  55 total\n"
     ]
    }
   ],
   "source": [
    "# Load in training stats\n",
    "with open(\"../2021_OLS_Library/mixed_1.0/{}_X-train-{}_stats.pickle\".format(PREPROCESS, SPLIT), 'rb') as handle:\n",
    "    train_stats = pickle.load(handle)\n",
    "scale_indeces = train_stats[\"indeces\"]\n",
    "\n",
    "# Full sequences\n",
    "X_mixed1s[:, scale_indeces] -= train_stats[\"means\"]\n",
    "X_mixed1s[:, scale_indeces] /= train_stats[\"stds\"]\n",
    "\n",
    "# Tiled sequences\n",
    "X_mixed1s_tiled[:, scale_indeces] -= train_stats[\"means\"]\n",
    "X_mixed1s_tiled[:, scale_indeces] /= train_stats[\"stds\"]\n",
    "valid_tiled_names = dataset_tiled.loc[valid_idxs_tiled][\"NAME\"] + \":\" + dataset_tiled.loc[valid_idxs_tiled][\"TILE\"].astype(str)\n",
    "\n",
    "# Save the vals\n",
    "if not os.path.isdir(\"mixed_1.0\"):\n",
    "    os.makedirs(\"mixed_1.0\")\n",
    "    \n",
    "np.save(\"mixed_1.0/{}_{}-split_X-test_mixed-1.0\".format(PREPROCESS, SPLIT), X_mixed1s)\n",
    "np.savetxt(\"mixed_1.0/valid_id.txt\", X=ID[valid_idxs], fmt=\"%s\")\n",
    "np.save(\"mixed_1.0/{}_{}-split_X-test_mixed-1.0-tiled\".format(PREPROCESS, SPLIT), X_mixed1s_tiled)\n",
    "np.savetxt(\"mixed_1.0/valid_id-tiled.txt\", X=valid_tiled_names, fmt=\"%s\")\n",
    "\n",
    "!wc -l mixed_1.0/*"
   ]
  },
  {
   "cell_type": "markdown",
   "id": "a0fb64e1-6c72-4bd1-b830-a8c1f3976b92",
   "metadata": {
    "tags": []
   },
   "source": [
    "### *Mixed 2.0*\n",
    " - Replace binding sites using dictionary\n",
    " - 4 bit vector for each binding site [ets_affinity ets_orientation gata_affinity gata_orientation] - ties together the identity to affinity\n",
    " - Get lengths of linkers around binding sites"
   ]
  },
  {
   "cell_type": "code",
   "execution_count": 55,
   "id": "91dfad5a-f0ad-44ac-9340-5a6275a07bea",
   "metadata": {
    "execution": {
     "iopub.execute_input": "2021-11-28T01:37:19.004738Z",
     "iopub.status.busy": "2021-11-28T01:37:19.004521Z",
     "iopub.status.idle": "2021-11-28T01:37:21.560606Z",
     "shell.execute_reply": "2021-11-28T01:37:21.559799Z",
     "shell.execute_reply.started": "2021-11-28T01:37:19.004708Z"
    },
    "tags": []
   },
   "outputs": [
    {
     "name": "stdout",
     "output_type": "stream",
     "text": [
      "   1 mixed_2.0/0.09-0.4_0.9-split_X-test_mixed-2.0.npy\n",
      "   4 mixed_2.0/0.09-0.4_0.9-split_X-test_mixed-2.0-tiled.npy\n",
      "   1 mixed_2.0/0.18-0.4_0.9-split_X-test_mixed-2.0.npy\n",
      "   5 mixed_2.0/0.18-0.4_0.9-split_X-test_mixed-2.0-tiled.npy\n",
      "  17 mixed_2.0/id-valid-tiled.txt\n",
      "   3 mixed_2.0/id-valid.txt\n",
      "  17 mixed_2.0/valid_id-tiled.txt\n",
      "   3 mixed_2.0/valid_id.txt\n",
      "  51 total\n"
     ]
    }
   ],
   "source": [
    "# Load in training stats\n",
    "with open(\"../2021_OLS_Library/mixed_2.0/{}_X-train-{}_stats.pickle\".format(PREPROCESS, SPLIT), 'rb') as handle:\n",
    "    train_stats = pickle.load(handle)\n",
    "scale_indeces = train_stats[\"indeces\"]\n",
    "\n",
    "# Full sequences\n",
    "X_mixed2s[:, scale_indeces] -= train_stats[\"means\"]\n",
    "X_mixed2s[:, scale_indeces] /= train_stats[\"stds\"]\n",
    "\n",
    "# Tiled sequences\n",
    "X_mixed2s_tiled[:, scale_indeces] -= train_stats[\"means\"]\n",
    "X_mixed2s_tiled[:, scale_indeces] /= train_stats[\"stds\"]\n",
    "valid_tiled_names = dataset_tiled.loc[valid_idxs_tiled][\"NAME\"] + \":\" + dataset_tiled.loc[valid_idxs_tiled][\"TILE\"].astype(str)\n",
    "\n",
    "# Save the vals\n",
    "if not os.path.isdir(\"mixed_2.0\"):\n",
    "    os.makedirs(\"mixed_2.0\")\n",
    "    \n",
    "np.save(\"mixed_2.0/{}_{}-split_X-test_mixed-2.0\".format(PREPROCESS, SPLIT), X_mixed2s)\n",
    "np.savetxt(\"mixed_2.0/valid_id.txt\", X=ID[valid_idxs], fmt=\"%s\")\n",
    "np.save(\"mixed_2.0/{}_{}-split_X-test_mixed-2.0-tiled\".format(PREPROCESS, SPLIT), X_mixed2s_tiled)\n",
    "np.savetxt(\"mixed_2.0/valid_id-tiled.txt\", X=valid_tiled_names, fmt=\"%s\")\n",
    "\n",
    "!wc -l mixed_2.0/*"
   ]
  },
  {
   "cell_type": "markdown",
   "id": "c72be6ca-528f-4d0c-8238-55ab43b1ff54",
   "metadata": {
    "tags": []
   },
   "source": [
    "### *Mixed 3.0*\n",
    " - Replace binding sites using dictionary\n",
    " - 3 bit vector for each binding site [ets_affinity gata_affinity orientation] - ties together the identity to affinity while removing redundant info from mixed-2.0\n",
    " - Get lengths of linkers around binding sites"
   ]
  },
  {
   "cell_type": "code",
   "execution_count": 56,
   "id": "4d98e7a5-20b0-4bae-b1db-a5accc999daf",
   "metadata": {
    "execution": {
     "iopub.execute_input": "2021-11-28T01:37:21.562363Z",
     "iopub.status.busy": "2021-11-28T01:37:21.562074Z",
     "iopub.status.idle": "2021-11-28T01:37:24.164796Z",
     "shell.execute_reply": "2021-11-28T01:37:24.164053Z",
     "shell.execute_reply.started": "2021-11-28T01:37:21.562330Z"
    },
    "tags": []
   },
   "outputs": [
    {
     "name": "stdout",
     "output_type": "stream",
     "text": [
      "   1 mixed_3.0/0.09-0.4_0.9-split_X-test_mixed-3.0.npy\n",
      "   4 mixed_3.0/0.09-0.4_0.9-split_X-test_mixed-3.0-tiled.npy\n",
      "   1 mixed_3.0/0.18-0.4_0.9-split_X-test_mixed-3.0.npy\n",
      "   5 mixed_3.0/0.18-0.4_0.9-split_X-test_mixed-3.0-tiled.npy\n",
      "  17 mixed_3.0/id-valid-tiled.txt\n",
      "   3 mixed_3.0/id-valid.txt\n",
      "  17 mixed_3.0/valid_id-tiled.txt\n",
      "   3 mixed_3.0/valid_id.txt\n",
      "  51 total\n"
     ]
    }
   ],
   "source": [
    "# Load in training stats\n",
    "with open(\"../2021_OLS_Library/mixed_3.0/{}_X-train-{}_stats.pickle\".format(PREPROCESS, SPLIT), 'rb') as handle:\n",
    "    train_stats = pickle.load(handle)\n",
    "scale_indeces = train_stats[\"indeces\"]\n",
    "\n",
    "# Full sequences\n",
    "X_mixed3s[:, scale_indeces] -= train_stats[\"means\"]\n",
    "X_mixed3s[:, scale_indeces] /= train_stats[\"stds\"]\n",
    "\n",
    "# Tiled sequences\n",
    "X_mixed3s_tiled[:, scale_indeces] -= train_stats[\"means\"]\n",
    "X_mixed3s_tiled[:, scale_indeces] /= train_stats[\"stds\"]\n",
    "valid_tiled_names = dataset_tiled.loc[valid_idxs_tiled][\"NAME\"] + \":\" + dataset_tiled.loc[valid_idxs_tiled][\"TILE\"].astype(str)\n",
    "\n",
    "# Save the vals\n",
    "if not os.path.isdir(\"mixed_3.0\"):\n",
    "    os.makedirs(\"mixed_3.0\")\n",
    "    \n",
    "np.save(\"mixed_3.0/{}_{}-split_X-test_mixed-3.0\".format(PREPROCESS, SPLIT), X_mixed3s)\n",
    "np.savetxt(\"mixed_3.0/valid_id.txt\", X=ID[valid_idxs], fmt=\"%s\")\n",
    "np.save(\"mixed_3.0/{}_{}-split_X-test_mixed-3.0-tiled\".format(PREPROCESS, SPLIT), X_mixed3s_tiled)\n",
    "np.savetxt(\"mixed_3.0/valid_id-tiled.txt\", X=valid_tiled_names, fmt=\"%s\")\n",
    "\n",
    "!wc -l mixed_3.0/*"
   ]
  },
  {
   "cell_type": "markdown",
   "id": "47d0c4c4-5d78-4c44-a671-0582fc58493b",
   "metadata": {
    "tags": []
   },
   "source": [
    "## **<u>Sequence feature idea 3 </u>**: Use the actual sequence (one-hot encoded)\n",
    " - One hot encoded sequence: each position is encoded as a 1-D vector of size 4 e.g., AT is [[1,0,0,0], [0,0,0,1]]\n",
    " - Generally, we will get inputs of size (len(seq) X 4). The above example would be of size 2x4\n",
    " - Can also save the string seqs in case those are also useful down the line"
   ]
  },
  {
   "cell_type": "markdown",
   "id": "52459f96-05e9-4dad-801b-bb0e24171771",
   "metadata": {},
   "source": [
    "**Q** Are all sequences the same length"
   ]
  },
  {
   "cell_type": "code",
   "execution_count": 39,
   "id": "db1c1df9-cc71-4c65-84b0-d331999724a7",
   "metadata": {
    "execution": {
     "iopub.execute_input": "2021-11-27T07:10:17.570636Z",
     "iopub.status.busy": "2021-11-27T07:10:17.570375Z",
     "iopub.status.idle": "2021-11-27T07:10:18.746232Z",
     "shell.execute_reply": "2021-11-27T07:10:18.745304Z",
     "shell.execute_reply.started": "2021-11-27T07:10:17.570602Z"
    },
    "tags": []
   },
   "outputs": [
    {
     "data": {
      "text/plain": [
       "81     1\n",
       "98     1\n",
       "68     1\n",
       "116    1\n",
       "133    1\n",
       "54     1\n",
       "73     1\n",
       "107    1\n",
       "93     1\n",
       "Name: SEQ, dtype: int64"
      ]
     },
     "execution_count": 39,
     "metadata": {},
     "output_type": "execute_result"
    }
   ],
   "source": [
    "# Check the lengths of sequences to make sure they are all the same\n",
    "dataset[\"SEQ\"].apply(len).value_counts()"
   ]
  },
  {
   "cell_type": "markdown",
   "id": "aac97318-f8dd-4278-a67e-de15ea588a4d",
   "metadata": {},
   "source": [
    "**Answer**: Nope"
   ]
  },
  {
   "cell_type": "markdown",
   "id": "f1af0d1d-b73c-4ae6-8a93-59a31398a4a2",
   "metadata": {
    "tags": []
   },
   "source": [
    "### *Forward Encoding*"
   ]
  },
  {
   "cell_type": "markdown",
   "id": "a1a7c4ef-dfbd-476e-950d-a3ac2a652dc9",
   "metadata": {},
   "source": [
    "**Full sequences**"
   ]
  },
  {
   "cell_type": "code",
   "execution_count": 40,
   "id": "7a466eb7-c4f5-4890-a2c5-6f556fa2eabc",
   "metadata": {
    "execution": {
     "iopub.execute_input": "2021-11-27T07:10:18.747670Z",
     "iopub.status.busy": "2021-11-27T07:10:18.747442Z",
     "iopub.status.idle": "2021-11-27T07:10:19.952683Z",
     "shell.execute_reply": "2021-11-27T07:10:19.951713Z",
     "shell.execute_reply.started": "2021-11-27T07:10:18.747641Z"
    },
    "tags": []
   },
   "outputs": [
    {
     "name": "stderr",
     "output_type": "stream",
     "text": [
      "100%|██████████| 9/9 [00:00<00:00, 918.55it/s]"
     ]
    },
    {
     "name": "stdout",
     "output_type": "stream",
     "text": [
      "Encoded 9 seqs\n",
      "Checking all 9 seqs for proper encoding\n",
      "Sequence encoding was great success\n"
     ]
    },
    {
     "name": "stderr",
     "output_type": "stream",
     "text": [
      "\n",
      "/cellar/users/aklie/projects/EUGENE/bin/project_utils.py:172: VisibleDeprecationWarning: Creating an ndarray from ragged nested sequences (which is a list-or-tuple of lists-or-tuples-or ndarrays with different lengths or shapes) is deprecated. If you meant to do this, you must specify 'dtype=object' when creating the ndarray.\n",
      "  \n"
     ]
    },
    {
     "data": {
      "text/plain": [
       "('CGTGG',\n",
       " array([[0., 1., 0., 0.],\n",
       "        [0., 0., 1., 0.],\n",
       "        [0., 0., 0., 1.],\n",
       "        [0., 0., 1., 0.],\n",
       "        [0., 0., 1., 0.]]))"
      ]
     },
     "execution_count": 40,
     "metadata": {},
     "output_type": "execute_result"
    }
   ],
   "source": [
    "# Get the sequences only\n",
    "X_seqs = [seq.upper().strip() for seq in dataset[\"SEQ\"].values]\n",
    "X_ohe_seq = project_utils.ohe_seqs(X_seqs)\n",
    "\n",
    "# Save the seqs\n",
    "if not os.path.isdir(\"ohe_seq\"):\n",
    "    os.makedirs(\"ohe_seq\")\n",
    "    \n",
    "# Save in binary format\n",
    "np.save(\"ohe_seq/X_ohe-seq\", X_ohe_seq)\n",
    "\n",
    "# Quick check\n",
    "X_seqs[0][:5], X_ohe_seq[0][:5]"
   ]
  },
  {
   "cell_type": "markdown",
   "id": "9dd90e50-01a4-4f05-b4be-ec58a865d8ab",
   "metadata": {
    "tags": []
   },
   "source": [
    "### *Reverse encoding*"
   ]
  },
  {
   "cell_type": "markdown",
   "id": "090c1767-6d4f-4012-a1c6-d065943ceb9b",
   "metadata": {},
   "source": [
    "**Full sequences**"
   ]
  },
  {
   "cell_type": "code",
   "execution_count": 41,
   "id": "73d4bb53-ca16-4f06-aa06-38a95c7d4f49",
   "metadata": {
    "execution": {
     "iopub.execute_input": "2021-11-27T07:10:19.954669Z",
     "iopub.status.busy": "2021-11-27T07:10:19.954304Z",
     "iopub.status.idle": "2021-11-27T07:10:20.969553Z",
     "shell.execute_reply": "2021-11-27T07:10:20.968792Z",
     "shell.execute_reply.started": "2021-11-27T07:10:19.954622Z"
    },
    "tags": []
   },
   "outputs": [
    {
     "name": "stderr",
     "output_type": "stream",
     "text": [
      "100%|██████████| 9/9 [00:00<00:00, 954.31it/s]"
     ]
    },
    {
     "name": "stdout",
     "output_type": "stream",
     "text": [
      "Encoded 9 seqs\n",
      "Checking all 9 seqs for proper encoding\n",
      "Sequence encoding was great success\n"
     ]
    },
    {
     "name": "stderr",
     "output_type": "stream",
     "text": [
      "\n",
      "/cellar/users/aklie/projects/EUGENE/bin/project_utils.py:172: VisibleDeprecationWarning: Creating an ndarray from ragged nested sequences (which is a list-or-tuple of lists-or-tuples-or ndarrays with different lengths or shapes) is deprecated. If you meant to do this, you must specify 'dtype=object' when creating the ndarray.\n",
      "  \n"
     ]
    },
    {
     "data": {
      "text/plain": [
       "('TGTTC',\n",
       " array([[0., 0., 0., 1.],\n",
       "        [0., 0., 1., 0.],\n",
       "        [0., 0., 0., 1.],\n",
       "        [0., 0., 0., 1.],\n",
       "        [0., 1., 0., 0.]]))"
      ]
     },
     "execution_count": 41,
     "metadata": {},
     "output_type": "execute_result"
    }
   ],
   "source": [
    "# Get the reverse encodings\n",
    "X_rev_seqs = np.array([\"\".join({'A': 'T', 'C': 'G', 'G': 'C', 'T': 'A'}.get(base, base) for base in reversed(seq)) for seq in X_seqs])\n",
    "X_ohe_rev_seq = project_utils.ohe_seqs(X_rev_seqs)\n",
    "\n",
    "# Save the seqs\n",
    "if not os.path.isdir(\"ohe_seq\"):\n",
    "    os.makedirs(\"ohe_seq\")\n",
    "    \n",
    "# Save in binary format\n",
    "np.save(\"ohe_seq/X_ohe-seq-rev\", X_ohe_rev_seq)\n",
    "\n",
    "# Quick check\n",
    "X_rev_seqs[0][:5], X_ohe_rev_seq[0][:5]"
   ]
  },
  {
   "cell_type": "markdown",
   "id": "59350c92-1067-47f6-a7b5-c51429274f62",
   "metadata": {
    "tags": []
   },
   "source": [
    "## **<u>Sequence feature idea 4 </u>**: Use the actual sequence (as fasta)"
   ]
  },
  {
   "cell_type": "markdown",
   "id": "b97c2424-ac87-4164-b294-6cd4a0be07f1",
   "metadata": {},
   "source": [
    "**Full sequences**"
   ]
  },
  {
   "cell_type": "code",
   "execution_count": 42,
   "id": "9a682c89-6d05-40e5-9982-34e94be73641",
   "metadata": {
    "execution": {
     "iopub.execute_input": "2021-11-27T07:10:20.970892Z",
     "iopub.status.busy": "2021-11-27T07:10:20.970668Z",
     "iopub.status.idle": "2021-11-27T07:10:22.960108Z",
     "shell.execute_reply": "2021-11-27T07:10:22.959234Z",
     "shell.execute_reply.started": "2021-11-27T07:10:20.970863Z"
    },
    "tags": []
   },
   "outputs": [
    {
     "name": "stdout",
     "output_type": "stream",
     "text": [
      "   18 fasta/X_fasta.fa\n",
      "  516 fasta/X_fasta-tiled.fa\n",
      "  534 total\n"
     ]
    }
   ],
   "source": [
    "# Create dir\n",
    "if not os.path.isdir(\"fasta\"):\n",
    "    os.makedirs(\"fasta\")\n",
    "\n",
    "# Save full sequences in fasta format\n",
    "dataset = dataset.reset_index()\n",
    "file = open(\"fasta/X_fasta.fa\", \"w\")\n",
    "for i, enh in dataset.iterrows():\n",
    "    file.write(\">\" + ID[i] + \"\\n\" + X_seqs[i].upper().strip() + \"\\n\")\n",
    "file.close()\n",
    "\n",
    "# Save tiled sequences in fasta format\n",
    "pos_tiled = dataset_tiled[\"TILE\"].values\n",
    "file = open(\"fasta/X_fasta-tiled.fa\", \"w\")\n",
    "for i, enh in dataset_tiled.iterrows():\n",
    "    file.write(\">\" + ID_tiled[i] + \":\" + str(pos_tiled[i]) + \"\\n\" + X_seqs_tiled[i].upper().strip() + \"\\n\")\n",
    "file.close()\n",
    "\n",
    "!wc -l fasta/*"
   ]
  },
  {
   "cell_type": "markdown",
   "id": "6f358ebb-8da1-4a76-a075-32c97ee0eec2",
   "metadata": {
    "tags": []
   },
   "source": [
    "# Final Checks"
   ]
  },
  {
   "cell_type": "code",
   "execution_count": 43,
   "id": "d8f5ad3b-3294-4bcf-9fc0-ab495dda5b96",
   "metadata": {
    "execution": {
     "iopub.execute_input": "2021-11-27T07:10:22.962419Z",
     "iopub.status.busy": "2021-11-27T07:10:22.962176Z",
     "iopub.status.idle": "2021-11-27T07:10:25.577474Z",
     "shell.execute_reply": "2021-11-27T07:10:25.576604Z",
     "shell.execute_reply.started": "2021-11-27T07:10:22.962385Z"
    },
    "tags": []
   },
   "outputs": [
    {
     "name": "stdout",
     "output_type": "stream",
     "text": [
      "\u001b[38;5;33m.\u001b[0m\n",
      "├── 2021_GATA_ETS_Clusters.ipynb\n",
      "├── 2021_GATA_ETS_Clusters-tiled.tsv\n",
      "├── 2021_GATA_ETS_Clusters.tsv\n",
      "├── \u001b[38;5;33mbinary\u001b[0m\n",
      "│   ├── y_binary.txt\n",
      "│   └── y-tiled_binary.txt\n",
      "├── \u001b[38;5;33mfasta\u001b[0m\n",
      "│   ├── X_fasta.fa\n",
      "│   └── X_fasta-tiled.fa\n",
      "├── GATA_ETS_clusters_tiled.tsv\n",
      "├── GATA_ETS_clusters.xlsx\n",
      "├── \u001b[38;5;33mid\u001b[0m\n",
      "│   ├── id-tiled.txt\n",
      "│   └── id.txt\n",
      "├── \u001b[38;5;33mmixed_1.0\u001b[0m\n",
      "│   ├── 0.09-0.4_0.9-split_X-test_mixed-1.0.npy\n",
      "│   ├── 0.09-0.4_0.9-split_X-test_mixed-1.0-tiled.npy\n",
      "│   ├── 0.18-0.4_0.9-split_X-test_mixed-1.0.npy\n",
      "│   ├── 0.18-0.4_0.9-split_X-test_mixed-1.0-tiled.npy\n",
      "│   ├── valid_id-tiled.txt\n",
      "│   └── valid_id.txt\n",
      "├── \u001b[38;5;33mmixed_2.0\u001b[0m\n",
      "│   ├── 0.09-0.4_0.9-split_X-test_mixed-2.0.npy\n",
      "│   ├── 0.09-0.4_0.9-split_X-test_mixed-2.0-tiled.npy\n",
      "│   ├── 0.18-0.4_0.9-split_X-test_mixed-2.0.npy\n",
      "│   ├── 0.18-0.4_0.9-split_X-test_mixed-2.0-tiled.npy\n",
      "│   ├── valid_id-tiled.txt\n",
      "│   └── valid_id.txt\n",
      "├── \u001b[38;5;33mmixed_3.0\u001b[0m\n",
      "│   ├── 0.09-0.4_0.9-split_X-test_mixed-3.0.npy\n",
      "│   ├── 0.09-0.4_0.9-split_X-test_mixed-3.0-tiled.npy\n",
      "│   ├── 0.18-0.4_0.9-split_X-test_mixed-3.0.npy\n",
      "│   ├── 0.18-0.4_0.9-split_X-test_mixed-3.0-tiled.npy\n",
      "│   ├── valid_id-tiled.txt\n",
      "│   └── valid_id.txt\n",
      "├── \u001b[38;5;33mohe_seq\u001b[0m\n",
      "│   ├── X_ohe-seq.npy\n",
      "│   └── X_ohe-seq-rev.npy\n",
      "└── \u001b[38;5;33mseqs\u001b[0m\n",
      "    ├── seqs-tiled.txt\n",
      "    └── seqs.txt\n",
      "\n",
      "8 directories, 33 files\n"
     ]
    }
   ],
   "source": [
    "!tree -L 2"
   ]
  },
  {
   "cell_type": "code",
   "execution_count": 48,
   "id": "439292fd-41b8-4c45-8af4-fdabfdab4429",
   "metadata": {
    "execution": {
     "iopub.execute_input": "2021-11-27T07:13:31.716078Z",
     "iopub.status.busy": "2021-11-27T07:13:31.715768Z",
     "iopub.status.idle": "2021-11-27T07:13:33.612737Z",
     "shell.execute_reply": "2021-11-27T07:13:33.611935Z",
     "shell.execute_reply.started": "2021-11-27T07:13:31.716042Z"
    },
    "tags": []
   },
   "outputs": [
    {
     "name": "stdout",
     "output_type": "stream",
     "text": [
      ">Negative_control:0\n",
      "CAGGAAATTCCCGTTATCTATCCATCGCTATACTTCGTGTAGTTATCTATCCATCGCTATACTTCG\n",
      ">Negative_control:1\n",
      "AGGAAATTCCCGTTATCTATCCATCGCTATACTTCGTGTAGTTATCTATCCATCGCTATACTTCGT\n",
      ">Negative_control:2\n",
      "GGAAATTCCCGTTATCTATCCATCGCTATACTTCGTGTAGTTATCTATCCATCGCTATACTTCGTG\n",
      ">Negative_control:3\n",
      "GAAATTCCCGTTATCTATCCATCGCTATACTTCGTGTAGTTATCTATCCATCGCTATACTTCGTGT\n",
      ">Negative_control:4\n",
      "AAATTCCCGTTATCTATCCATCGCTATACTTCGTGTAGTTATCTATCCATCGCTATACTTCGTGTA\n",
      "Negative_control:0\n",
      "Negative_control:1\n",
      "Negative_control:2\n",
      "Negative_control:3\n",
      "Negative_control:4\n"
     ]
    }
   ],
   "source": [
    "%%bash\n",
    "head fasta/X_fasta-tiled.fa\n",
    "head -n 5 id/id-tiled.txt"
   ]
  },
  {
   "cell_type": "code",
   "execution_count": 45,
   "id": "e601bf7c-39ee-4290-adb8-3bc0b3b4a3db",
   "metadata": {
    "execution": {
     "iopub.execute_input": "2021-11-27T07:10:28.122250Z",
     "iopub.status.busy": "2021-11-27T07:10:28.121700Z",
     "iopub.status.idle": "2021-11-27T07:10:30.769564Z",
     "shell.execute_reply": "2021-11-27T07:10:30.768681Z",
     "shell.execute_reply.started": "2021-11-27T07:10:28.122214Z"
    },
    "tags": []
   },
   "outputs": [
    {
     "name": "stdout",
     "output_type": "stream",
     "text": [
      ">Otxa-WTg1\n",
      "CGTGGTACTAGAAATTTTATCACTGTCGTGGTACCGGAAAATTTATCCCAGCTGTGATACCGGAAATTTTATCTCAGTCGTGGTACCGGAACA\n",
      ">Otxa-WTg2\n",
      "ATTATCATTACCTTATTATCAAATGTGCAAGAGGGACGCGGAAGTAGTATTTTCAATTGGGACGCGGAAGTAGAACTTTTCGTATCTCGCAAACCATT\n",
      ">Otxa-WTg3\n",
      "CCTATATCTATAATAACAGTCGGAAATTGCCGGAAAATAATAAAATTATCGTCT\n",
      ">Otxa-WTg5\n",
      "CATAGATAGCAACAATGCCATCTTATCTACGTAACTAGGAAACATAATCATTTATAAAACTTTCTATCTACTTAAACGGAAACCTTTTGTTACGTCACGGTGACGTATTATCTGAC\n",
      ">Negative_control\n",
      "CAGGAAATTCCCGTTATCTATCCATCGCTATACTTCGTGTAGTTATCTATCCATCGCTATACTTCGTGTAGCCAACGTGCTAATTCGGTAAGTAAAACCAGTTATCATAACATAACCGGATACGCAAACCATT\n",
      "Otxa-WTg1\n",
      "Otxa-WTg2\n",
      "Otxa-WTg3\n",
      "Otxa-WTg5\n",
      "Negative_control\n"
     ]
    }
   ],
   "source": [
    "%%bash\n",
    "head fasta/X_fasta.fa\n",
    "head -n 5 id/id.txt"
   ]
  },
  {
   "cell_type": "markdown",
   "id": "7fddfcab-8659-471f-ac58-cd76fdde58cd",
   "metadata": {
    "tags": [],
    "toc-hr-collapsed": true
   },
   "source": [
    "# Scratch"
   ]
  },
  {
   "cell_type": "code",
   "execution_count": 75,
   "id": "27bfbacb-c9a1-492b-80e8-501a083b0bab",
   "metadata": {
    "execution": {
     "iopub.execute_input": "2021-11-24T19:10:29.884210Z",
     "iopub.status.busy": "2021-11-24T19:10:29.883976Z",
     "iopub.status.idle": "2021-11-24T19:10:30.868947Z",
     "shell.execute_reply": "2021-11-24T19:10:30.868239Z",
     "shell.execute_reply.started": "2021-11-24T19:10:29.884185Z"
    },
    "tags": []
   },
   "outputs": [],
   "source": [
    "# Define encoders\n",
    "integer_encoder = LabelEncoder()\n",
    "one_hot_encoder = OneHotEncoder(\n",
    "    categories=[np.array([0, 1, 2, 3])], handle_unknown=\"ignore\"\n",
    ")"
   ]
  },
  {
   "cell_type": "code",
   "execution_count": 76,
   "id": "ecfd65dc-77a4-447d-90ca-f897c2209cad",
   "metadata": {
    "execution": {
     "iopub.execute_input": "2021-11-24T19:10:30.870314Z",
     "iopub.status.busy": "2021-11-24T19:10:30.870092Z",
     "iopub.status.idle": "2021-11-24T19:10:31.954739Z",
     "shell.execute_reply": "2021-11-24T19:10:31.953909Z",
     "shell.execute_reply.started": "2021-11-24T19:10:30.870277Z"
    },
    "tags": []
   },
   "outputs": [
    {
     "name": "stdout",
     "output_type": "stream",
     "text": [
      "CGTGG...\n",
      "[1 2 3 2 2]...\n",
      "[[0. 1. 0. 0.]\n",
      " [0. 0. 1. 0.]\n",
      " [0. 0. 0. 1.]\n",
      " [0. 0. 1. 0.]\n",
      " [0. 0. 1. 0.]]...\n"
     ]
    }
   ],
   "source": [
    "# Example steps for one hot encoding\n",
    "test = X_seqs[0]\n",
    "print(\"{}...\".format(test[:5]))\n",
    "integer_encoded = integer_encoder.fit_transform(list(test))\n",
    "print(\"{}...\".format(integer_encoded[:5]))\n",
    "integer_encoded = np.array(integer_encoded).reshape(-1, 1)\n",
    "one_hot_encoder.fit(integer_encoded)  # convert to one hot\n",
    "one_hot_encoded = one_hot_encoder.fit_transform(integer_encoded)\n",
    "print(\"{}...\".format(one_hot_encoded.toarray()[:5]))"
   ]
  },
  {
   "cell_type": "markdown",
   "id": "815d6e8b-96bd-4c28-995f-edb2851d93f7",
   "metadata": {},
   "source": [
    "**One hot encoding of sequences...<u>takes about 2 minutes</u>**"
   ]
  },
  {
   "cell_type": "code",
   "execution_count": 77,
   "id": "f9efe0db-633a-4853-851b-616a8d521794",
   "metadata": {
    "execution": {
     "iopub.execute_input": "2021-11-24T19:10:31.956864Z",
     "iopub.status.busy": "2021-11-24T19:10:31.956504Z",
     "iopub.status.idle": "2021-11-24T19:10:32.907334Z",
     "shell.execute_reply": "2021-11-24T19:10:32.906537Z",
     "shell.execute_reply.started": "2021-11-24T19:10:31.956797Z"
    },
    "tags": []
   },
   "outputs": [
    {
     "name": "stderr",
     "output_type": "stream",
     "text": [
      "100%|██████████| 9/9 [00:00<00:00, 1181.90it/s]\n"
     ]
    }
   ],
   "source": [
    "# Applying above for all seqs\n",
    "X_features = []  # will hold one hot encoded sequence\n",
    "for i, seq in enumerate(tqdm.tqdm(X_seqs)):\n",
    "    integer_encoded = integer_encoder.fit_transform(list(seq))  # convert to integer\n",
    "    integer_encoded = np.array(integer_encoded).reshape(-1, 1)\n",
    "    one_hot_encoder.fit(integer_encoded)  # convert to one hot\n",
    "    one_hot_encoded = one_hot_encoder.fit_transform(integer_encoded)\n",
    "    X_features.append(one_hot_encoded.toarray())"
   ]
  },
  {
   "cell_type": "code",
   "execution_count": 78,
   "id": "52e364c1-bb79-4914-b781-238258f3b333",
   "metadata": {
    "execution": {
     "iopub.execute_input": "2021-11-24T19:10:32.908641Z",
     "iopub.status.busy": "2021-11-24T19:10:32.908432Z",
     "iopub.status.idle": "2021-11-24T19:10:33.707288Z",
     "shell.execute_reply": "2021-11-24T19:10:33.706698Z",
     "shell.execute_reply.started": "2021-11-24T19:10:32.908614Z"
    },
    "tags": []
   },
   "outputs": [
    {
     "data": {
      "text/plain": [
       "9"
      ]
     },
     "execution_count": 78,
     "metadata": {},
     "output_type": "execute_result"
    }
   ],
   "source": [
    "# Check to make sure it is correct length\n",
    "len(X_features)"
   ]
  },
  {
   "cell_type": "code",
   "execution_count": 79,
   "id": "0b3c5c23-b6a4-4ce2-8d09-fec6d109f216",
   "metadata": {
    "execution": {
     "iopub.execute_input": "2021-11-24T19:10:33.708423Z",
     "iopub.status.busy": "2021-11-24T19:10:33.708204Z",
     "iopub.status.idle": "2021-11-24T19:10:34.751436Z",
     "shell.execute_reply": "2021-11-24T19:10:34.750735Z",
     "shell.execute_reply.started": "2021-11-24T19:10:33.708385Z"
    },
    "tags": []
   },
   "outputs": [],
   "source": [
    "# convert to numpy array\n",
    "X_ohe_seq = np.array(X_features, dtype=\"object\")"
   ]
  },
  {
   "cell_type": "code",
   "execution_count": 80,
   "id": "3910b724-b6c6-47eb-85c9-3dab338cc44a",
   "metadata": {
    "execution": {
     "iopub.execute_input": "2021-11-24T19:10:34.752766Z",
     "iopub.status.busy": "2021-11-24T19:10:34.752536Z",
     "iopub.status.idle": "2021-11-24T19:10:35.676500Z",
     "shell.execute_reply": "2021-11-24T19:10:35.675793Z",
     "shell.execute_reply.started": "2021-11-24T19:10:34.752723Z"
    },
    "tags": []
   },
   "outputs": [
    {
     "name": "stdout",
     "output_type": "stream",
     "text": [
      "Seq #1 encoded correctly\n",
      "Seq #2 encoded correctly\n",
      "Seq #3 encoded correctly\n",
      "Seq #4 encoded correctly\n",
      "Seq #5 encoded correctly\n",
      "Seq #6 encoded correctly\n",
      "Seq #7 encoded correctly\n",
      "Seq #8 encoded correctly\n",
      "Seq #9 encoded correctly\n"
     ]
    }
   ],
   "source": [
    "# Sanity check encoding for randomly chosens sequences\n",
    "indeces = np.random.choice(len(X_features), size=len(X_features))\n",
    "for j, ind in enumerate(indeces):\n",
    "    seq = X_seqs[ind]\n",
    "    one_hot_seq = X_features[ind]\n",
    "    for i, bp in enumerate(seq):\n",
    "        if bp == \"A\":\n",
    "            if (one_hot_seq[i] != [1.0, 0.0, 0.0, 0.0]).all():\n",
    "                print(\"You one hot encoded wrong dummy!\")\n",
    "                print(seq, one_hot_seq)\n",
    "        elif bp == \"C\":\n",
    "            if (one_hot_seq[i] != [0.0, 1.0, 0.0, 0.0]).all():\n",
    "                print(\"You one hot encoded wrong dummy!\")\n",
    "                print(seq, one_hot_seq)\n",
    "        elif bp == \"G\":\n",
    "            if (one_hot_seq[i] != [0.0, 0.0, 1.0, 0.0]).all():\n",
    "                print(\"You one hot encoded wrong dummy!\")\n",
    "                print(seq, one_hot_seq)\n",
    "        elif bp == \"T\":\n",
    "            if (one_hot_seq[i] != [0.0, 0.0, 0.0, 1.0]).all():\n",
    "                print(\"You one hot encoded wrong dummy!\")\n",
    "                print(seq, one_hot_seq)\n",
    "        elif bp == \"N\":\n",
    "            if (one_hot_seq[i] != [0.0, 0.0, 0.0, 0.0]).all():\n",
    "                print(\"You one hot encoded wrong dummy!\")\n",
    "                print(seq, one_hot_seq)\n",
    "        else:\n",
    "            print(bp)\n",
    "    print(\"Seq #{} encoded correctly\".format(j + 1))"
   ]
  },
  {
   "cell_type": "markdown",
   "id": "83090a82-96ae-4255-b464-edeb2f31fcb7",
   "metadata": {
    "tags": []
   },
   "source": [
    "### **Binary Labels**\n",
    "0 (non-functional) and 1 (functional). These are all the same"
   ]
  },
  {
   "cell_type": "code",
   "execution_count": 113,
   "id": "bebbca2e-f9eb-44eb-958b-e372fbb4ac00",
   "metadata": {
    "execution": {
     "iopub.execute_input": "2021-11-16T00:15:14.810201Z",
     "iopub.status.busy": "2021-11-16T00:15:14.809884Z",
     "iopub.status.idle": "2021-11-16T00:15:15.607335Z",
     "shell.execute_reply": "2021-11-16T00:15:15.606670Z",
     "shell.execute_reply.started": "2021-11-16T00:15:14.810160Z"
    },
    "tags": []
   },
   "outputs": [],
   "source": [
    "# Save the labels\n",
    "y = dataset[\"label\"].values\n",
    "y_tiled = dataset_tiled[\"label\"].values\n",
    "np.savetxt(\"binary/full_y_binary.txt\", X=y, fmt=\"%d\")\n",
    "np.savetxt(\"binary/tiled_y_binary.txt\", X=y_tiled, fmt=\"%d\")"
   ]
  },
  {
   "cell_type": "code",
   "execution_count": 114,
   "id": "95f2f201-aadb-4485-9132-b528173ba51e",
   "metadata": {
    "execution": {
     "iopub.execute_input": "2021-11-16T00:15:15.609035Z",
     "iopub.status.busy": "2021-11-16T00:15:15.608727Z",
     "iopub.status.idle": "2021-11-16T00:15:16.826321Z",
     "shell.execute_reply": "2021-11-16T00:15:16.825507Z",
     "shell.execute_reply.started": "2021-11-16T00:15:15.608994Z"
    },
    "tags": []
   },
   "outputs": [
    {
     "name": "stdout",
     "output_type": "stream",
     "text": [
      "  9 binary/full_y_binary.txt\n",
      "258 binary/tiled_y_binary.txt\n",
      "267 total\n"
     ]
    }
   ],
   "source": [
    "!wc -l binary/*"
   ]
  },
  {
   "cell_type": "markdown",
   "id": "300fdf37-dced-430e-90f4-f6ced3e833c9",
   "metadata": {
    "tags": []
   },
   "source": [
    "### **Identifiers**"
   ]
  },
  {
   "cell_type": "code",
   "execution_count": 115,
   "id": "43fc9ce7-428c-461d-9542-357eab409148",
   "metadata": {
    "execution": {
     "iopub.execute_input": "2021-11-16T00:15:16.828221Z",
     "iopub.status.busy": "2021-11-16T00:15:16.827869Z",
     "iopub.status.idle": "2021-11-16T00:15:17.671866Z",
     "shell.execute_reply": "2021-11-16T00:15:17.671088Z",
     "shell.execute_reply.started": "2021-11-16T00:15:16.828170Z"
    },
    "tags": []
   },
   "outputs": [],
   "source": [
    "ID = dataset[\"Name\"].values\n",
    "ID_tiled = dataset_tiled[\"Name\"].values\n",
    "np.savetxt(\"id/id.txt\", X=ID, fmt=\"%s\")\n",
    "np.savetxt(\"id/tiled_id.txt\", X=ID_tiled, fmt=\"%s\")"
   ]
  },
  {
   "cell_type": "code",
   "execution_count": 116,
   "id": "6a6f00f2-2052-43d7-b16e-d403caf7fb7a",
   "metadata": {
    "execution": {
     "iopub.execute_input": "2021-11-16T00:15:17.673310Z",
     "iopub.status.busy": "2021-11-16T00:15:17.672992Z",
     "iopub.status.idle": "2021-11-16T00:15:19.000610Z",
     "shell.execute_reply": "2021-11-16T00:15:18.999774Z",
     "shell.execute_reply.started": "2021-11-16T00:15:17.673269Z"
    },
    "tags": []
   },
   "outputs": [
    {
     "name": "stdout",
     "output_type": "stream",
     "text": [
      "   9 id/id.txt\n",
      " 258 id/tiled_id.txt\n",
      " 267 total\n"
     ]
    }
   ],
   "source": [
    "!wc -l id/*"
   ]
  },
  {
   "cell_type": "markdown",
   "id": "cc8302c9-a1e2-446b-a16e-ba0465ed3ff0",
   "metadata": {
    "tags": []
   },
   "source": [
    "### **Sequences**\n",
    "ACGT..."
   ]
  },
  {
   "cell_type": "code",
   "execution_count": 117,
   "id": "5c0be82f-6096-4807-8f78-01c3615dd731",
   "metadata": {
    "execution": {
     "iopub.execute_input": "2021-11-16T00:15:19.002627Z",
     "iopub.status.busy": "2021-11-16T00:15:19.002393Z",
     "iopub.status.idle": "2021-11-16T00:15:20.415601Z",
     "shell.execute_reply": "2021-11-16T00:15:20.414807Z",
     "shell.execute_reply.started": "2021-11-16T00:15:19.002595Z"
    },
    "tags": []
   },
   "outputs": [],
   "source": [
    "X_seqs = dataset[\"Sequence\"].values\n",
    "X_seqs_tiled = dataset_tiled[\"Sequence\"].values\n",
    "np.savetxt(\"seqs/seqs.txt\", X=X_seqs, fmt=\"%s\")\n",
    "np.savetxt(\"seqs/tiled_seqs.txt\", X=X_seqs_tiled, fmt=\"%s\")"
   ]
  },
  {
   "cell_type": "code",
   "execution_count": 118,
   "id": "d7a2c581-abc8-4f64-97fa-d1f3ae6d7f37",
   "metadata": {
    "execution": {
     "iopub.execute_input": "2021-11-16T00:15:20.417275Z",
     "iopub.status.busy": "2021-11-16T00:15:20.416949Z",
     "iopub.status.idle": "2021-11-16T00:15:22.216857Z",
     "shell.execute_reply": "2021-11-16T00:15:22.215969Z",
     "shell.execute_reply.started": "2021-11-16T00:15:20.417233Z"
    },
    "tags": []
   },
   "outputs": [
    {
     "name": "stdout",
     "output_type": "stream",
     "text": [
      "    9 seqs/seqs.txt\n",
      "  258 seqs/tiled_seqs.txt\n",
      "  267 total\n"
     ]
    }
   ],
   "source": [
    "!wc -l seqs/*"
   ]
  },
  {
   "cell_type": "markdown",
   "id": "fc24f19f-3c9f-46db-927a-3a0e3897adcb",
   "metadata": {
    "tags": [],
    "toc-hr-collapsed": true
   },
   "source": [
    "# References"
   ]
  }
 ],
 "metadata": {
  "kernelspec": {
   "display_name": "Python3 ml_env",
   "language": "python",
   "name": "ml_env"
  },
  "language_info": {
   "codemirror_mode": {
    "name": "ipython",
    "version": 3
   },
   "file_extension": ".py",
   "mimetype": "text/x-python",
   "name": "python",
   "nbconvert_exporter": "python",
   "pygments_lexer": "ipython3",
   "version": "3.8.8"
  }
 },
 "nbformat": 4,
 "nbformat_minor": 5
}

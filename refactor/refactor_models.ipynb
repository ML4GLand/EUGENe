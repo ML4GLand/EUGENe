{
 "cells": [
  {
   "cell_type": "code",
   "execution_count": 1,
   "metadata": {},
   "outputs": [],
   "source": [
    "# Extensions\n",
    "if 'autoreload' not in get_ipython().extension_manager.loaded:\n",
    "    %load_ext autoreload\n",
    "%autoreload 2\n",
    "\n",
    "# Imports\n",
    "import torch\n",
    "import pandas as pd\n",
    "import numpy as np\n",
    "\n",
    "# Configuration\n",
    "ID = torch.Tensor([1, 2, 3, 4, 5, 6, 7, 8, 9, 10])\n",
    "x = torch.randn(10, 4, 100)\n",
    "x_rev_comp = torch.randn(10, 4, 100)\n",
    "y = torch.randint(0, 2, (10, 1))\n",
    "batch = (ID, x, x_rev_comp, y)"
   ]
  },
  {
   "cell_type": "markdown",
   "metadata": {},
   "source": [
    "# Layers"
   ]
  },
  {
   "cell_type": "code",
   "execution_count": 105,
   "metadata": {},
   "outputs": [],
   "source": [
    "from eugene.models.base import _layers as layers"
   ]
  },
  {
   "cell_type": "markdown",
   "metadata": {},
   "source": [
    "## Convolutional"
   ]
  },
  {
   "cell_type": "code",
   "execution_count": 127,
   "metadata": {},
   "outputs": [],
   "source": [
    "layer = layers.BiConv1D(4, 8, 10)"
   ]
  },
  {
   "cell_type": "code",
   "execution_count": 128,
   "metadata": {},
   "outputs": [],
   "source": [
    "test = torch.nn.Conv1d(4, 8, 10)"
   ]
  },
  {
   "cell_type": "code",
   "execution_count": 129,
   "metadata": {},
   "outputs": [
    {
     "data": {
      "text/plain": [
       "torch.Size([8, 4, 10])"
      ]
     },
     "execution_count": 129,
     "metadata": {},
     "output_type": "execute_result"
    }
   ],
   "source": [
    "test.weight.shape"
   ]
  },
  {
   "cell_type": "code",
   "execution_count": 130,
   "metadata": {},
   "outputs": [],
   "source": [
    "layer.dropout_rate"
   ]
  },
  {
   "cell_type": "code",
   "execution_count": 134,
   "metadata": {},
   "outputs": [
    {
     "data": {
      "text/plain": [
       "torch.Size([10, 8, 100])"
      ]
     },
     "execution_count": 134,
     "metadata": {},
     "output_type": "execute_result"
    }
   ],
   "source": [
    "layer(x).shape"
   ]
  },
  {
   "cell_type": "markdown",
   "metadata": {},
   "source": [
    "## Pooling"
   ]
  },
  {
   "cell_type": "markdown",
   "metadata": {},
   "source": [
    "## Recurrent"
   ]
  },
  {
   "cell_type": "markdown",
   "metadata": {},
   "source": [
    "## Normalization"
   ]
  },
  {
   "cell_type": "markdown",
   "metadata": {},
   "source": [
    "## Wrappers"
   ]
  },
  {
   "cell_type": "markdown",
   "metadata": {},
   "source": [
    "## Gluers"
   ]
  },
  {
   "cell_type": "markdown",
   "metadata": {},
   "source": [
    "## Miscallaneous"
   ]
  },
  {
   "cell_type": "markdown",
   "metadata": {},
   "source": [
    "# Activations"
   ]
  },
  {
   "cell_type": "markdown",
   "metadata": {},
   "source": [
    "# Blocks"
   ]
  },
  {
   "cell_type": "code",
   "execution_count": 25,
   "metadata": {},
   "outputs": [],
   "source": [
    "from eugene.models.base import _blocks as blocks"
   ]
  },
  {
   "cell_type": "markdown",
   "metadata": {},
   "source": [
    "## DenseBlock"
   ]
  },
  {
   "cell_type": "code",
   "execution_count": 43,
   "metadata": {},
   "outputs": [
    {
     "data": {
      "text/plain": [
       "DenseBlock(\n",
       "  (layers): Sequential(\n",
       "    (0): Linear(in_features=400, out_features=200, bias=False)\n",
       "    (1): BatchNorm1d(200, eps=1e-05, momentum=0.1, affine=True, track_running_stats=True)\n",
       "    (2): Exponential()\n",
       "    (3): Dropout(p=0.1, inplace=False)\n",
       "    (4): Linear(in_features=200, out_features=100, bias=False)\n",
       "    (5): BatchNorm1d(100, eps=1e-05, momentum=0.1, affine=True, track_running_stats=True)\n",
       "    (6): Exponential()\n",
       "    (7): Linear(in_features=100, out_features=50, bias=False)\n",
       "    (8): BatchNorm1d(50, eps=1e-05, momentum=0.1, affine=True, track_running_stats=True)\n",
       "    (9): Exponential()\n",
       "    (10): Linear(in_features=50, out_features=10, bias=False)\n",
       "    (11): BatchNorm1d(10, eps=1e-05, momentum=0.1, affine=True, track_running_stats=True)\n",
       "    (12): Exponential()\n",
       "    (13): Linear(in_features=10, out_features=1, bias=False)\n",
       "  )\n",
       ")"
      ]
     },
     "execution_count": 43,
     "metadata": {},
     "output_type": "execute_result"
    }
   ],
   "source": [
    "dense_block = blocks.DenseBlock(\n",
    "    input_dim=400, \n",
    "    output_dim=1, \n",
    "    hidden_dims=[200, 100, 50, 10],\n",
    "    activations=\"exponential\",\n",
    "    batchnorm=True,\n",
    "    batchnorm_first=True, \n",
    "    dropout_rates=[0.1, None],\n",
    "    biases=False\n",
    ")\n",
    "dense_block"
   ]
  },
  {
   "cell_type": "code",
   "execution_count": 27,
   "metadata": {},
   "outputs": [
    {
     "data": {
      "text/plain": [
       "tensor([[-0.2320],\n",
       "        [-3.0059],\n",
       "        [ 0.3035],\n",
       "        [-1.2020],\n",
       "        [-0.5757],\n",
       "        [-1.6963],\n",
       "        [-0.5692],\n",
       "        [-1.1548],\n",
       "        [-0.6869],\n",
       "        [-1.8460]], grad_fn=<MmBackward0>)"
      ]
     },
     "execution_count": 27,
     "metadata": {},
     "output_type": "execute_result"
    }
   ],
   "source": [
    "dense_block(x.reshape(10, -1))"
   ]
  },
  {
   "cell_type": "markdown",
   "metadata": {},
   "source": [
    "## Conv1DBlock"
   ]
  },
  {
   "cell_type": "code",
   "execution_count": 44,
   "metadata": {},
   "outputs": [
    {
     "data": {
      "text/plain": [
       "Conv1DBlock(\n",
       "  (layers): Sequential(\n",
       "    (0): Conv1d(4, 10, kernel_size=(3,), stride=(1,), padding=valid)\n",
       "    (1): BatchNorm1d(10, eps=1e-05, momentum=0.1, affine=True, track_running_stats=True)\n",
       "    (2): AvgPool1d(kernel_size=(1,), stride=(1,), padding=(0,))\n",
       "    (3): Conv1d(10, 10, kernel_size=(3,), stride=(1,), padding=valid)\n",
       "    (4): BatchNorm1d(10, eps=1e-05, momentum=0.1, affine=True, track_running_stats=True)\n",
       "    (5): ReLU()\n",
       "    (6): Dropout(p=0.5, inplace=False)\n",
       "    (7): AvgPool1d(kernel_size=(1,), stride=(1,), padding=(0,))\n",
       "  )\n",
       ")"
      ]
     },
     "execution_count": 44,
     "metadata": {},
     "output_type": "execute_result"
    }
   ],
   "source": [
    "conv1d_block = blocks.Conv1DBlock(\n",
    "    input_len=100,\n",
    "    input_channels=4,\n",
    "    conv_channels=[10, 10],\n",
    "    conv_kernels=[3, 3],\n",
    "    conv_strides=[1, 1],\n",
    "    conv_dilations=[1, 1],\n",
    "    conv_padding=[\"valid\", \"valid\"],\n",
    "    activations=[None, \"relu\"],\n",
    "    pool_types=\"avg\",\n",
    "    pool_kernels=[1, 1],\n",
    "    pool_strides=[1, 1],\n",
    "    pool_padding=[0, 0],\n",
    "    dropout_rates=[None, 0.5],\n",
    "    batchnorm=True,\n",
    "    batchnorm_first=True\n",
    ")\n",
    "conv1d_block"
   ]
  },
  {
   "cell_type": "code",
   "execution_count": 155,
   "metadata": {},
   "outputs": [
    {
     "data": {
      "text/plain": [
       "torch.Size([10, 10, 96])"
      ]
     },
     "execution_count": 155,
     "metadata": {},
     "output_type": "execute_result"
    }
   ],
   "source": [
    "conv1d_block(x).shape"
   ]
  },
  {
   "cell_type": "markdown",
   "metadata": {},
   "source": [
    "## ReccurentBlock"
   ]
  },
  {
   "cell_type": "code",
   "execution_count": 156,
   "metadata": {},
   "outputs": [
    {
     "data": {
      "text/plain": [
       "RecurrentBlock(\n",
       "  (layers): LSTM(4, 10, num_layers=2, bias=False, batch_first=True, dropout=0.1, bidirectional=True)\n",
       ")"
      ]
     },
     "execution_count": 156,
     "metadata": {},
     "output_type": "execute_result"
    }
   ],
   "source": [
    "recurrent_block = blocks.RecurrentBlock(\n",
    "    input_dim=4,\n",
    "    hidden_dim=10,\n",
    "    num_layers=2,\n",
    "    unit_type=\"lstm\",\n",
    "    bidirectional=True,\n",
    "    dropout_rates=0.1,\n",
    "    bias=False,\n",
    "    batch_first=True\n",
    ")\n",
    "recurrent_block"
   ]
  },
  {
   "cell_type": "code",
   "execution_count": 157,
   "metadata": {},
   "outputs": [
    {
     "data": {
      "text/plain": [
       "(tensor([[[ 0.0033,  0.0251,  0.0107,  ...,  0.0047,  0.0192, -0.0047],\n",
       "          [ 0.0124,  0.0193,  0.0168,  ..., -0.0035,  0.0193, -0.0111],\n",
       "          [-0.0028, -0.0178, -0.0229,  ...,  0.0075,  0.0230, -0.0116],\n",
       "          ...,\n",
       "          [ 0.0423, -0.0010, -0.0038,  ...,  0.0162,  0.0342,  0.0061],\n",
       "          [ 0.0480,  0.0186, -0.0012,  ..., -0.0028,  0.0102, -0.0073],\n",
       "          [ 0.0267,  0.0014, -0.0179,  ..., -0.0097, -0.0012, -0.0096]],\n",
       " \n",
       "         [[-0.0066, -0.0552, -0.0469,  ..., -0.0651, -0.0444, -0.0488],\n",
       "          [ 0.0064, -0.0506, -0.0255,  ..., -0.0449, -0.0297, -0.0161],\n",
       "          [-0.0320, -0.0564, -0.0312,  ..., -0.0377, -0.0394, -0.0138],\n",
       "          ...,\n",
       "          [ 0.0076, -0.0247, -0.0067,  ..., -0.0295, -0.0175, -0.0006],\n",
       "          [-0.0448, -0.0262, -0.0207,  ..., -0.0218, -0.0055,  0.0073],\n",
       "          [-0.0301, -0.0140, -0.0108,  ...,  0.0013,  0.0180,  0.0080]],\n",
       " \n",
       "         [[ 0.0128,  0.0013,  0.0094,  ..., -0.0064,  0.0123,  0.0010],\n",
       "          [ 0.0075, -0.0123,  0.0118,  ..., -0.0277, -0.0230, -0.0206],\n",
       "          [-0.0137, -0.0240, -0.0154,  ..., -0.0220, -0.0237, -0.0293],\n",
       "          ...,\n",
       "          [ 0.0037, -0.0485, -0.0401,  ..., -0.0063, -0.0010, -0.0133],\n",
       "          [-0.0007, -0.0211, -0.0250,  ...,  0.0009,  0.0035,  0.0024],\n",
       "          [ 0.0020, -0.0020, -0.0112,  ...,  0.0082,  0.0028,  0.0041]],\n",
       " \n",
       "         ...,\n",
       " \n",
       "         [[ 0.0084, -0.0027, -0.0114,  ..., -0.0117,  0.0169, -0.0163],\n",
       "          [-0.0226,  0.0009, -0.0154,  ..., -0.0315,  0.0047, -0.0159],\n",
       "          [-0.0061, -0.0190,  0.0012,  ..., -0.0474, -0.0202, -0.0485],\n",
       "          ...,\n",
       "          [-0.0293, -0.0423, -0.0257,  ..., -0.0350, -0.0141, -0.0211],\n",
       "          [-0.0404, -0.0533, -0.0508,  ..., -0.0374, -0.0190, -0.0268],\n",
       "          [-0.0376, -0.0391, -0.0385,  ..., -0.0126, -0.0010, -0.0125]],\n",
       " \n",
       "         [[-0.0006, -0.0187, -0.0023,  ..., -0.0452, -0.0147, -0.0207],\n",
       "          [ 0.0067, -0.0425, -0.0199,  ..., -0.0509, -0.0060, -0.0296],\n",
       "          [ 0.0149, -0.0323, -0.0387,  ..., -0.0273,  0.0258, -0.0030],\n",
       "          ...,\n",
       "          [ 0.0088, -0.0074,  0.0164,  ..., -0.0157, -0.0004, -0.0184],\n",
       "          [ 0.0123, -0.0437, -0.0218,  ..., -0.0289, -0.0104, -0.0242],\n",
       "          [ 0.0061, -0.0400, -0.0118,  ..., -0.0235, -0.0217, -0.0185]],\n",
       " \n",
       "         [[ 0.0042, -0.0402, -0.0245,  ..., -0.0461, -0.0309, -0.0520],\n",
       "          [ 0.0158, -0.0614, -0.0787,  ..., -0.0358,  0.0051, -0.0356],\n",
       "          [ 0.0088, -0.0345, -0.0572,  ..., -0.0363, -0.0180, -0.0087],\n",
       "          ...,\n",
       "          [ 0.0157,  0.0734,  0.0231,  ...,  0.0574,  0.0792,  0.0453],\n",
       "          [ 0.0064,  0.0625,  0.0364,  ...,  0.0401,  0.0473,  0.0445],\n",
       "          [ 0.0054,  0.0452,  0.0248,  ...,  0.0214,  0.0148,  0.0150]]],\n",
       "        grad_fn=<TransposeBackward0>),\n",
       " (tensor([[[ 9.7747e-02,  1.8663e-02,  1.9816e-02,  6.8280e-02,  4.4187e-02,\n",
       "             1.3193e-01,  3.6434e-02, -5.1374e-02,  6.7158e-02,  8.5022e-02],\n",
       "           [-6.5665e-02,  1.2426e-03, -1.6963e-01, -3.9162e-02,  7.2778e-02,\n",
       "             5.4479e-03, -8.9396e-03, -8.7133e-04, -7.4312e-02,  9.6549e-03],\n",
       "           [-1.4463e-02,  9.2313e-03,  1.4676e-02,  4.9390e-02, -5.5595e-02,\n",
       "            -4.7615e-03,  4.8976e-02,  1.5375e-02,  7.7218e-02,  1.9380e-02],\n",
       "           [-8.8419e-02, -6.1002e-02, -2.8437e-01,  6.9735e-03,  1.7676e-01,\n",
       "            -6.6959e-02, -3.6211e-02,  8.4816e-02,  6.9549e-04,  1.4706e-01],\n",
       "           [-2.4275e-02,  5.8213e-02,  5.1958e-02,  7.2827e-02, -1.1735e-01,\n",
       "             4.2067e-02,  9.6175e-02,  9.4558e-03,  7.5005e-02, -8.3341e-02],\n",
       "           [-1.0927e-01, -1.3777e-02, -1.7134e-01, -4.2595e-02,  6.9929e-02,\n",
       "            -6.9867e-03, -8.8347e-02, -1.3182e-03,  1.0683e-02,  9.5953e-04],\n",
       "           [ 4.8266e-02, -6.2196e-02, -8.1197e-02, -5.6637e-02,  1.0997e-01,\n",
       "             2.0963e-03, -1.8781e-01, -7.1689e-02, -1.3251e-01,  3.6423e-02],\n",
       "           [ 1.0379e-01,  5.7219e-03, -1.8419e-03,  3.8630e-02, -1.2065e-03,\n",
       "             7.4953e-02, -6.8335e-02, -6.8753e-02, -4.5643e-02,  4.8852e-02],\n",
       "           [ 4.8260e-02, -5.3559e-02, -2.0582e-02, -8.4605e-02,  6.6674e-02,\n",
       "            -8.0104e-03, -2.0777e-01, -7.0825e-02, -7.2679e-02, -7.7243e-03],\n",
       "           [-6.8437e-02,  6.9061e-02, -7.7103e-02,  3.9371e-02, -4.7736e-02,\n",
       "             3.4464e-02,  9.9562e-02,  2.4302e-02,  3.9833e-02, -2.5037e-02]],\n",
       "  \n",
       "          [[-9.4278e-04, -4.8244e-02, -6.3630e-03,  1.1618e-02, -1.4154e-01,\n",
       "            -2.1079e-01, -8.2101e-02, -8.3558e-02, -1.1348e-01, -1.2968e-01],\n",
       "           [-1.9489e-01,  5.5957e-02, -7.8116e-03, -1.2044e-01, -3.8856e-02,\n",
       "             1.8539e-01,  2.2882e-01, -6.5058e-02,  1.3629e-01, -2.4967e-03],\n",
       "           [-2.9725e-02,  1.8818e-03,  4.6581e-02,  3.2712e-04, -5.5685e-02,\n",
       "            -4.4643e-02, -8.2051e-03,  2.6863e-02, -2.4654e-02,  6.0609e-02],\n",
       "           [-5.6556e-02,  4.7767e-02,  4.2637e-02,  2.0414e-02, -8.5025e-02,\n",
       "            -2.7102e-02,  1.5057e-01, -1.2069e-01, -4.6844e-02, -1.2851e-01],\n",
       "           [ 1.5776e-01, -1.1370e-01, -7.5049e-02,  4.7564e-02,  9.7344e-02,\n",
       "            -6.4279e-02, -1.6574e-01,  1.1160e-01,  9.1061e-03,  1.9192e-01],\n",
       "           [ 1.4935e-01,  4.0267e-02, -6.8879e-02,  2.8850e-02,  9.7037e-02,\n",
       "             1.0549e-01, -5.1934e-02,  1.8991e-02,  9.0099e-02, -5.8610e-02],\n",
       "           [ 2.0170e-01,  4.6592e-02, -7.6763e-03,  2.4425e-01,  1.1124e-01,\n",
       "            -2.8130e-01, -3.0036e-01, -8.6485e-03, -1.1438e-01,  9.4471e-03],\n",
       "           [ 3.3134e-02, -3.1217e-02, -1.9152e-02,  3.3601e-02, -5.2720e-02,\n",
       "            -1.0597e-02, -2.8369e-02, -1.8470e-01, -7.8858e-02, -1.3013e-01],\n",
       "           [-2.8310e-02,  8.8598e-04, -3.0910e-02, -2.7997e-02,  3.0115e-02,\n",
       "             7.1414e-02,  3.7916e-02,  2.7030e-03,  6.6511e-02,  6.0726e-02],\n",
       "           [-1.5685e-01,  2.9907e-02,  7.9771e-03, -1.0514e-01, -3.2646e-02,\n",
       "             1.5255e-01,  1.2014e-01, -4.5261e-02,  8.2429e-02, -4.2495e-02]],\n",
       "  \n",
       "          [[ 2.6705e-02,  1.4040e-03, -1.7889e-02, -1.7180e-02, -1.2704e-02,\n",
       "            -3.2710e-03,  3.6968e-03,  7.4459e-03,  2.5996e-03, -2.0912e-02],\n",
       "           [-3.0145e-02, -1.4013e-02, -1.0815e-02, -2.4722e-03,  9.4884e-03,\n",
       "            -1.7332e-02,  6.8341e-04,  1.8782e-02,  1.5244e-02, -5.7832e-03],\n",
       "           [ 2.0263e-03, -2.0086e-03, -1.1245e-02,  1.1312e-02, -4.0357e-03,\n",
       "            -9.0943e-03,  9.6134e-03,  2.5006e-02, -4.9545e-03, -8.1832e-03],\n",
       "           [ 5.4015e-02, -1.1282e-02, -1.5936e-02, -2.4631e-02, -2.3523e-02,\n",
       "            -4.3274e-03, -2.7484e-02,  1.4096e-02,  2.4102e-02, -3.4250e-02],\n",
       "           [-1.2628e-03,  4.8281e-02,  2.3733e-02,  1.0057e-02,  1.0623e-02,\n",
       "            -4.9636e-03,  2.8236e-02, -3.7506e-05,  1.5312e-02, -3.2572e-02],\n",
       "           [-1.3218e-02, -3.6851e-03,  1.3786e-03, -1.1942e-02,  1.9324e-02,\n",
       "            -1.2735e-02, -1.7199e-02,  3.6220e-02,  3.2886e-02, -1.5062e-02],\n",
       "           [ 8.9205e-03, -4.9095e-02, -1.9395e-02, -3.9587e-02, -1.2265e-02,\n",
       "             2.1233e-02, -3.6731e-02, -1.4669e-02,  1.4834e-02,  1.7389e-02],\n",
       "           [-3.7644e-02, -3.9052e-02, -3.8550e-02,  1.7372e-02, -4.3818e-02,\n",
       "             9.0491e-03,  1.4472e-02, -5.0534e-02, -1.1667e-02,  3.3388e-02],\n",
       "           [ 6.0538e-03, -3.9963e-02, -1.1761e-02, -3.8512e-02,  1.0037e-02,\n",
       "             1.2066e-02, -3.9453e-02,  1.2825e-02,  6.3073e-03,  6.4831e-03],\n",
       "           [ 5.3585e-03,  4.5180e-02,  2.4764e-02,  8.6113e-03,  3.1095e-02,\n",
       "            -1.4417e-02,  1.7318e-02,  3.1368e-02,  3.8609e-02, -5.4915e-02]],\n",
       "  \n",
       "          [[-1.9281e-02,  2.3388e-02,  2.0275e-03, -1.1326e-02, -1.9882e-02,\n",
       "            -1.5523e-02,  7.2741e-03,  4.7333e-03,  1.9160e-02, -4.7434e-03],\n",
       "           [-3.3508e-02, -1.1089e-02,  5.3135e-03,  3.5452e-02,  2.6996e-02,\n",
       "            -3.0862e-02,  3.4418e-02, -6.5071e-02, -4.4428e-02, -4.8765e-02],\n",
       "           [-3.6558e-02, -2.6724e-03,  3.1140e-02, -1.0934e-02,  2.0216e-03,\n",
       "             1.0797e-03,  1.3600e-02, -6.4482e-03,  1.2299e-02,  9.5865e-04],\n",
       "           [-7.3222e-02, -4.9559e-03,  8.3968e-03,  5.9467e-03, -1.4918e-02,\n",
       "            -2.6413e-02,  2.7755e-02, -9.2927e-03,  6.1725e-03, -4.0465e-02],\n",
       "           [ 8.2261e-02, -1.4551e-02,  8.4815e-03, -1.0713e-03, -1.9713e-02,\n",
       "             4.5346e-02, -3.2221e-02, -1.6159e-03,  1.3544e-02,  7.2236e-02],\n",
       "           [ 2.3034e-02, -6.3430e-02, -2.1150e-02,  2.9301e-02,  4.4748e-03,\n",
       "            -1.2180e-02, -1.2253e-02,  5.3870e-03,  5.4797e-04,  4.0423e-03],\n",
       "           [ 1.2350e-01, -1.1364e-02, -2.0802e-02, -8.6216e-03, -3.5631e-02,\n",
       "             4.1280e-02, -4.1823e-02,  5.0243e-02,  3.5301e-02,  8.1434e-02],\n",
       "           [-4.2307e-02, -7.1839e-03, -7.3712e-04,  2.5747e-02,  2.8203e-02,\n",
       "            -5.5216e-02,  1.7570e-02, -1.1692e-02,  1.6877e-02, -1.6330e-02],\n",
       "           [-6.1233e-03, -7.1706e-03,  1.1034e-02,  1.3663e-02, -4.7765e-03,\n",
       "             2.8110e-04,  8.1457e-03, -4.5177e-02, -1.4693e-02, -2.0692e-02],\n",
       "           [-5.2804e-02, -3.5510e-03, -6.1872e-03,  3.0227e-02,  2.2158e-03,\n",
       "            -3.8981e-02,  2.6708e-02, -4.6143e-02, -3.0934e-02, -5.1983e-02]]],\n",
       "         grad_fn=<StackBackward0>),\n",
       "  tensor([[[ 1.5475e-01,  3.7163e-02,  5.2751e-02,  1.4898e-01,  8.8793e-02,\n",
       "             2.4629e-01,  7.3381e-02, -1.0806e-01,  1.4315e-01,  1.5622e-01],\n",
       "           [-2.1290e-01,  2.5926e-03, -2.5782e-01, -6.8145e-02,  1.4777e-01,\n",
       "             9.9736e-03, -2.2682e-02, -1.6506e-03, -1.2755e-01,  2.8529e-02],\n",
       "           [-3.0385e-02,  1.9085e-02,  2.8098e-02,  9.4714e-02, -1.1433e-01,\n",
       "            -8.5002e-03,  1.0393e-01,  2.7754e-02,  1.4444e-01,  3.9483e-02],\n",
       "           [-2.9732e-01, -1.1223e-01, -4.1592e-01,  1.2006e-02,  3.2250e-01,\n",
       "            -1.5473e-01, -9.5573e-02,  2.2159e-01,  1.1922e-03,  4.8737e-01],\n",
       "           [-5.0740e-02,  1.2461e-01,  9.8784e-02,  1.4399e-01, -2.6020e-01,\n",
       "             7.3859e-02,  1.9099e-01,  1.5862e-02,  1.4279e-01, -1.7099e-01],\n",
       "           [-3.3358e-01, -3.1502e-02, -2.8234e-01, -7.9555e-02,  1.4178e-01,\n",
       "            -1.2711e-02, -1.8014e-01, -2.6405e-03,  1.8933e-02,  3.2430e-03],\n",
       "           [ 9.2033e-02, -1.1970e-01, -1.9068e-01, -1.2471e-01,  2.1127e-01,\n",
       "             5.1246e-03, -3.7905e-01, -1.7781e-01, -3.1275e-01,  6.8699e-02],\n",
       "           [ 2.1141e-01,  1.1970e-02, -3.8726e-03,  7.8321e-02, -2.4335e-03,\n",
       "             1.3518e-01, -1.5413e-01, -1.3345e-01, -9.1168e-02,  1.0371e-01],\n",
       "           [ 9.4975e-02, -1.1195e-01, -5.4684e-02, -2.0498e-01,  1.3345e-01,\n",
       "            -1.8465e-02, -3.3778e-01, -1.4068e-01, -1.8999e-01, -1.3258e-02],\n",
       "           [-1.2955e-01,  1.2784e-01, -1.3851e-01,  7.5353e-02, -9.9777e-02,\n",
       "             6.8735e-02,  2.1638e-01,  5.1833e-02,  7.8184e-02, -5.0389e-02]],\n",
       "  \n",
       "          [[-2.3630e-03, -1.8145e-01, -1.3689e-02,  2.6951e-02, -3.3818e-01,\n",
       "            -4.4853e-01, -1.5911e-01, -1.3337e-01, -2.7283e-01, -3.2969e-01],\n",
       "           [-3.0078e-01,  8.7528e-02, -1.2343e-02, -2.9961e-01, -6.0763e-02,\n",
       "             4.3239e-01,  3.9554e-01, -1.3715e-01,  2.4373e-01, -4.0378e-03],\n",
       "           [-7.8643e-02,  4.6325e-03,  9.1232e-02,  5.6687e-04, -1.0880e-01,\n",
       "            -1.1012e-01, -1.7901e-02,  5.3529e-02, -5.6466e-02,  1.5384e-01],\n",
       "           [-1.2982e-01,  1.5755e-01,  7.5756e-02,  4.8100e-02, -1.6246e-01,\n",
       "            -6.0156e-02,  2.7139e-01, -1.9223e-01, -1.0864e-01, -3.2106e-01],\n",
       "           [ 3.8573e-01, -2.2785e-01, -2.4174e-01,  7.3644e-02,  2.7751e-01,\n",
       "            -1.0841e-01, -4.9400e-01,  2.7898e-01,  2.1672e-02,  4.0923e-01],\n",
       "           [ 2.4157e-01,  6.6530e-02, -1.9258e-01,  6.0334e-02,  2.5289e-01,\n",
       "             1.5206e-01, -1.0934e-01,  4.1986e-02,  1.8081e-01, -9.4260e-02],\n",
       "           [ 6.0713e-01,  9.8788e-02, -1.6640e-02,  5.1332e-01,  3.3881e-01,\n",
       "            -5.3206e-01, -7.4866e-01, -1.5462e-02, -1.8936e-01,  2.5426e-02],\n",
       "           [ 7.1182e-02, -9.4002e-02, -3.2668e-02,  9.1708e-02, -1.0571e-01,\n",
       "            -2.1072e-02, -4.5113e-02, -2.8221e-01, -1.5599e-01, -2.8589e-01],\n",
       "           [-5.4636e-02,  1.4994e-03, -6.5182e-02, -4.9315e-02,  6.1973e-02,\n",
       "             1.3884e-01,  8.1886e-02,  6.4179e-03,  1.2908e-01,  1.2279e-01],\n",
       "           [-2.5764e-01,  5.2786e-02,  2.1912e-02, -1.9414e-01, -6.0563e-02,\n",
       "             2.9551e-01,  3.1606e-01, -1.2132e-01,  2.0961e-01, -7.0819e-02]],\n",
       "  \n",
       "          [[ 5.1261e-02,  2.9228e-03, -3.4767e-02, -3.5613e-02, -2.5073e-02,\n",
       "            -6.2881e-03,  7.2828e-03,  1.4841e-02,  5.0653e-03, -4.2153e-02],\n",
       "           [-6.0450e-02, -2.6979e-02, -2.2029e-02, -4.7272e-03,  1.9834e-02,\n",
       "            -3.5014e-02,  1.3922e-03,  3.8377e-02,  3.0616e-02, -1.1343e-02],\n",
       "           [ 4.0508e-03, -3.9921e-03, -2.2911e-02,  2.3123e-02, -7.9990e-03,\n",
       "            -1.8223e-02,  1.9424e-02,  4.9848e-02, -9.6447e-03, -1.6208e-02],\n",
       "           [ 1.0340e-01, -2.1163e-02, -3.3831e-02, -4.6214e-02, -5.1940e-02,\n",
       "            -8.8318e-03, -5.5383e-02,  2.9225e-02,  5.0157e-02, -6.9806e-02],\n",
       "           [-2.5834e-03,  9.8502e-02,  4.6707e-02,  2.0448e-02,  2.0798e-02,\n",
       "            -1.0194e-02,  5.6985e-02, -7.3285e-05,  3.1204e-02, -6.2171e-02],\n",
       "           [-2.6062e-02, -7.4411e-03,  2.7661e-03, -2.2724e-02,  4.1589e-02,\n",
       "            -2.6285e-02, -3.4999e-02,  7.4228e-02,  6.5069e-02, -2.9623e-02],\n",
       "           [ 1.7030e-02, -9.9511e-02, -3.9008e-02, -7.7396e-02, -2.5362e-02,\n",
       "             4.1180e-02, -7.1668e-02, -2.9061e-02,  2.9438e-02,  3.5792e-02],\n",
       "           [-7.3923e-02, -7.5414e-02, -7.7805e-02,  3.5508e-02, -8.4901e-02,\n",
       "             1.7798e-02,  2.8944e-02, -9.9782e-02, -2.2416e-02,  6.7893e-02],\n",
       "           [ 1.2009e-02, -8.2480e-02, -2.3960e-02, -7.4841e-02,  2.0243e-02,\n",
       "             2.3682e-02, -7.8850e-02,  2.5445e-02,  1.2571e-02,  1.3298e-02],\n",
       "           [ 1.0666e-02,  9.0821e-02,  4.8824e-02,  1.6992e-02,  6.2173e-02,\n",
       "            -3.0482e-02,  3.5381e-02,  6.4271e-02,  7.9154e-02, -1.0646e-01]],\n",
       "  \n",
       "          [[-3.9405e-02,  4.6534e-02,  3.9444e-03, -2.2851e-02, -4.0403e-02,\n",
       "            -3.2811e-02,  1.4863e-02,  9.6893e-03,  3.9548e-02, -1.0101e-02],\n",
       "           [-6.8938e-02, -2.1094e-02,  1.1424e-02,  7.1422e-02,  5.0961e-02,\n",
       "            -6.1522e-02,  6.2031e-02, -1.2731e-01, -8.4882e-02, -1.0186e-01],\n",
       "           [-7.6226e-02, -5.6883e-03,  5.9680e-02, -2.0864e-02,  3.9555e-03,\n",
       "             2.1330e-03,  2.8568e-02, -1.3182e-02,  2.4354e-02,  1.9596e-03],\n",
       "           [-1.5361e-01, -9.9210e-03,  1.6376e-02,  1.2094e-02, -2.9659e-02,\n",
       "            -5.3907e-02,  5.5028e-02, -1.8588e-02,  1.2447e-02, -8.6685e-02],\n",
       "           [ 1.6153e-01, -2.8111e-02,  1.6813e-02, -2.1383e-03, -4.3186e-02,\n",
       "             9.1727e-02, -6.8667e-02, -3.2761e-03,  2.7240e-02,  1.3886e-01],\n",
       "           [ 4.6659e-02, -1.1737e-01, -4.3724e-02,  6.3023e-02,  9.7392e-03,\n",
       "            -2.5040e-02, -2.4273e-02,  1.0384e-02,  1.1149e-03,  7.9690e-03],\n",
       "           [ 2.3536e-01, -2.3322e-02, -4.1543e-02, -1.7251e-02, -7.3789e-02,\n",
       "             8.6043e-02, -9.2231e-02,  1.0164e-01,  7.5924e-02,  1.5592e-01],\n",
       "           [-8.7855e-02, -1.4244e-02, -1.4131e-03,  5.3247e-02,  5.7293e-02,\n",
       "            -1.1188e-01,  3.5036e-02, -2.3018e-02,  3.4009e-02, -3.4112e-02],\n",
       "           [-1.2431e-02, -1.4061e-02,  2.1800e-02,  2.6701e-02, -9.4104e-03,\n",
       "             5.4908e-04,  1.6411e-02, -9.0365e-02, -2.8920e-02, -4.1039e-02],\n",
       "           [-1.0907e-01, -6.7079e-03, -1.2016e-02,  5.9479e-02,  4.2771e-03,\n",
       "            -7.6733e-02,  5.1491e-02, -8.8730e-02, -5.6736e-02, -1.0501e-01]]],\n",
       "         grad_fn=<StackBackward0>)))"
      ]
     },
     "execution_count": 157,
     "metadata": {},
     "output_type": "execute_result"
    }
   ],
   "source": [
    "recurrent_block(x.transpose(1, 2))"
   ]
  },
  {
   "cell_type": "markdown",
   "metadata": {},
   "source": [
    "## Transformer Block"
   ]
  },
  {
   "cell_type": "code",
   "execution_count": 69,
   "metadata": {},
   "outputs": [],
   "source": [
    "transformer_block = blocks.TransformerBlock(\n",
    "    input_dim=4,\n",
    "    head_dim=10,\n",
    "    num_heads=2,\n",
    ")\n",
    "transformer_block"
   ]
  },
  {
   "cell_type": "code",
   "execution_count": 75,
   "metadata": {},
   "outputs": [
    {
     "data": {
      "text/plain": [
       "torch.Size([10, 100, 4])"
      ]
     },
     "execution_count": 75,
     "metadata": {},
     "output_type": "execute_result"
    }
   ],
   "source": [
    "transformer_block(x.transpose(1,2), mask=None).shape"
   ]
  },
  {
   "cell_type": "markdown",
   "metadata": {},
   "source": [
    "# Towers"
   ]
  },
  {
   "cell_type": "code",
   "execution_count": 43,
   "metadata": {},
   "outputs": [],
   "source": [
    "from eugene.models.base import _towers as towers"
   ]
  },
  {
   "cell_type": "code",
   "execution_count": 56,
   "metadata": {},
   "outputs": [],
   "source": [
    "# example\n",
    "from inspect import signature\n",
    "class MyBlock(torch.nn.Module):\n",
    "    def __init__(self, arg1: float, arg2: str, arg3: int = 42, arg4: str = 'default'):\n",
    "        super().__init__()\n",
    "        self.arg1 = arg1\n",
    "        self.arg2 = arg2\n",
    "        self.arg3 = arg3\n",
    "        self.arg4 = arg4\n",
    "    \n",
    "    def __repr__(self):\n",
    "        sig_vals = \", \".join([f'{arg}={getattr(self, arg)}' for arg in signature(self.__init__).parameters.keys()])\n",
    "        return f'MyBlock({sig_vals})'"
   ]
  },
  {
   "cell_type": "code",
   "execution_count": 57,
   "metadata": {},
   "outputs": [],
   "source": [
    "my_tower = towers.Tower(\n",
    "    block=MyBlock,\n",
    "    repeats=3,\n",
    "    dynamic_block_args={'arg1': 2, 'arg2': ['a', 'b', 'c']},\n",
    "    mults={'arg1': 1.1, 'arg3': 1.1}\n",
    ")"
   ]
  },
  {
   "cell_type": "code",
   "execution_count": 58,
   "metadata": {},
   "outputs": [
    {
     "data": {
      "text/plain": [
       "Tower(\n",
       "  (tower): Sequential(\n",
       "    (0): MyBlock(arg1=2.0, arg2=a, arg3=42, arg4=default)\n",
       "    (1): MyBlock(arg1=2.200000047683716, arg2=b, arg3=46, arg4=default)\n",
       "    (2): MyBlock(arg1=2.4200000762939453, arg2=c, arg3=50, arg4=default)\n",
       "  )\n",
       ")"
      ]
     },
     "execution_count": 58,
     "metadata": {},
     "output_type": "execute_result"
    }
   ],
   "source": [
    "my_tower"
   ]
  },
  {
   "cell_type": "markdown",
   "metadata": {},
   "source": [
    "# Base Model"
   ]
  },
  {
   "cell_type": "code",
   "execution_count": null,
   "metadata": {},
   "outputs": [],
   "source": [
    "from eugene.models.base._base_models import SequenceModel"
   ]
  },
  {
   "cell_type": "markdown",
   "metadata": {},
   "source": [
    "# Optimizers"
   ]
  },
  {
   "cell_type": "markdown",
   "metadata": {},
   "source": [
    "# Models"
   ]
  },
  {
   "cell_type": "markdown",
   "metadata": {},
   "source": [
    "## Sequence to Task"
   ]
  },
  {
   "cell_type": "markdown",
   "metadata": {},
   "source": [
    "### FCN"
   ]
  },
  {
   "cell_type": "code",
   "execution_count": 3,
   "metadata": {},
   "outputs": [],
   "source": [
    "from eugene.models.base._sequence_models import FCN "
   ]
  },
  {
   "cell_type": "code",
   "execution_count": 4,
   "metadata": {},
   "outputs": [
    {
     "data": {
      "text/plain": [
       "FCN(\n",
       "  (metric): R2Score()\n",
       "  (dense_block): DenseBlock(\n",
       "    (layers): Sequential(\n",
       "      (0): Linear(in_features=400, out_features=50, bias=True)\n",
       "      (1): ReLU()\n",
       "      (2): BatchNorm1d(50, eps=1e-05, momentum=0.1, affine=True, track_running_stats=True)\n",
       "      (3): Linear(in_features=50, out_features=10, bias=True)\n",
       "    )\n",
       "  )\n",
       ")"
      ]
     },
     "execution_count": 4,
     "metadata": {},
     "output_type": "execute_result"
    }
   ],
   "source": [
    "model = FCN(\n",
    "    input_len=100,\n",
    "    output_dim=10,\n",
    "    task=\"regression\",\n",
    "    optimizer=\"adam\",\n",
    "    dense_kwargs={\n",
    "        \"hidden_dims\": [50],\n",
    "        \"batchnorm\": True,\n",
    "    }\n",
    ")\n",
    "model"
   ]
  },
  {
   "cell_type": "code",
   "execution_count": null,
   "metadata": {},
   "outputs": [],
   "source": [
    "mode"
   ]
  },
  {
   "cell_type": "code",
   "execution_count": 26,
   "metadata": {},
   "outputs": [
    {
     "name": "stdout",
     "output_type": "stream",
     "text": [
      "Linear(in_features=400, out_features=50, bias=True) True\n",
      "ReLU() False\n",
      "BatchNorm1d(50, eps=1e-05, momentum=0.1, affine=True, track_running_stats=True) True\n",
      "Linear(in_features=50, out_features=10, bias=True) True\n"
     ]
    }
   ],
   "source": [
    "for child in model.dense_block.layers.children():\n",
    "    print(child, \"weight\" in child._parameters)"
   ]
  },
  {
   "cell_type": "code",
   "execution_count": 20,
   "metadata": {},
   "outputs": [
    {
     "data": {
      "text/plain": [
       "'Adam'"
      ]
     },
     "execution_count": 20,
     "metadata": {},
     "output_type": "execute_result"
    }
   ],
   "source": [
    "model.optimizer.__name__"
   ]
  },
  {
   "cell_type": "code",
   "execution_count": 21,
   "metadata": {},
   "outputs": [
    {
     "name": "stdout",
     "output_type": "stream",
     "text": [
      "Model: FCN\n",
      "Sequence length: 100\n",
      "Output dimension: 10\n",
      "Strand: ss\n",
      "Task: regression\n",
      "Aggregation of strands: None\n",
      "Loss function: mse_loss\n",
      "Optimizer: Adam\n",
      "\tOptimizer parameters: {}\n",
      "\t Optimizer learning rate: 0.001\n",
      "Scheduler: ReduceLROnPlateau\n",
      "\tScheduler parameters: {}\n",
      "Metric: r2\n",
      "\tMetric parameters: {}\n",
      "Seed: None\n",
      "Parameters summary:\n"
     ]
    },
    {
     "data": {
      "text/plain": [
       "  | Name        | Type       | Params\n",
       "-------------------------------------------\n",
       "0 | metric      | R2Score    | 0     \n",
       "1 | dense_block | DenseBlock | 20.7 K\n",
       "-------------------------------------------\n",
       "20.7 K    Trainable params\n",
       "0         Non-trainable params\n",
       "20.7 K    Total params\n",
       "0.083     Total estimated model params size (MB)"
      ]
     },
     "execution_count": 21,
     "metadata": {},
     "output_type": "execute_result"
    }
   ],
   "source": [
    "model.summary()"
   ]
  },
  {
   "cell_type": "code",
   "execution_count": null,
   "metadata": {},
   "outputs": [
    {
     "data": {
      "text/plain": [
       "('ss', 'regression', None)"
      ]
     },
     "metadata": {},
     "output_type": "display_data"
    }
   ],
   "source": []
  },
  {
   "cell_type": "code",
   "execution_count": null,
   "metadata": {},
   "outputs": [
    {
     "data": {
      "text/plain": [
       "<function torch.nn.functional.mse_loss(input: torch.Tensor, target: torch.Tensor, size_average: Union[bool, NoneType] = None, reduce: Union[bool, NoneType] = None, reduction: str = 'mean') -> torch.Tensor>"
      ]
     },
     "metadata": {},
     "output_type": "display_data"
    }
   ],
   "source": [
    "model.loss_fxn"
   ]
  },
  {
   "cell_type": "code",
   "execution_count": null,
   "metadata": {},
   "outputs": [
    {
     "data": {
      "text/plain": [
       "(torch.optim.adam.Adam, 0.001, {})"
      ]
     },
     "metadata": {},
     "output_type": "display_data"
    }
   ],
   "source": [
    "model.optimizer, model.optimizer_lr, model.optimizer_kwargs "
   ]
  },
  {
   "cell_type": "code",
   "execution_count": null,
   "metadata": {},
   "outputs": [
    {
     "data": {
      "text/plain": [
       "(torch.optim.lr_scheduler.ReduceLROnPlateau, {})"
      ]
     },
     "metadata": {},
     "output_type": "display_data"
    }
   ],
   "source": [
    "model.scheduler, model.scheduler_kwargs"
   ]
  },
  {
   "cell_type": "code",
   "execution_count": null,
   "metadata": {},
   "outputs": [
    {
     "data": {
      "text/plain": [
       "('r2', R2Score())"
      ]
     },
     "metadata": {},
     "output_type": "display_data"
    }
   ],
   "source": [
    "model.metric_name, model.metric"
   ]
  },
  {
   "cell_type": "code",
   "execution_count": null,
   "metadata": {},
   "outputs": [
    {
     "data": {
      "text/plain": [
       "torch.Size([10, 10])"
      ]
     },
     "metadata": {},
     "output_type": "display_data"
    }
   ],
   "source": [
    "outs = model(x).squeeze(dim=1)\n",
    "outs.size()"
   ]
  },
  {
   "cell_type": "code",
   "execution_count": null,
   "metadata": {},
   "outputs": [
    {
     "data": {
      "text/plain": [
       "torch.Size([10, 10])"
      ]
     },
     "metadata": {},
     "output_type": "display_data"
    }
   ],
   "source": [
    "y = torch.randint(0, 2, (10, 10))\n",
    "y = torch.normal(0, 1, (10, 10))\n",
    "y.size()"
   ]
  },
  {
   "cell_type": "code",
   "execution_count": null,
   "metadata": {},
   "outputs": [
    {
     "data": {
      "text/plain": [
       "tensor(1.8830, grad_fn=<MseLossBackward0>)"
      ]
     },
     "metadata": {},
     "output_type": "display_data"
    }
   ],
   "source": [
    "model.loss_fxn(outs, y)"
   ]
  },
  {
   "cell_type": "code",
   "execution_count": null,
   "metadata": {},
   "outputs": [
    {
     "data": {
      "text/plain": [
       "tensor(-0.5084, grad_fn=<SqueezeBackward0>)"
      ]
     },
     "metadata": {},
     "output_type": "display_data"
    }
   ],
   "source": [
    "model.calculate_metric(outs, y)"
   ]
  },
  {
   "cell_type": "markdown",
   "metadata": {},
   "source": [
    "### CNN"
   ]
  },
  {
   "cell_type": "code",
   "execution_count": 5,
   "metadata": {},
   "outputs": [],
   "source": [
    "from eugene.models.base._sequence_models import CNN"
   ]
  },
  {
   "cell_type": "code",
   "execution_count": 6,
   "metadata": {},
   "outputs": [
    {
     "data": {
      "text/plain": [
       "CNN(\n",
       "  (metric): R2Score()\n",
       "  (conv1d_block): Conv1DBlock(\n",
       "    (layers): Sequential(\n",
       "      (0): Conv1d(4, 10, kernel_size=(5,), stride=(1,), padding=valid)\n",
       "      (1): ReLU()\n",
       "      (2): MaxPool1d(kernel_size=1, stride=1, padding=0, dilation=1, ceil_mode=False)\n",
       "      (3): Conv1d(10, 10, kernel_size=(3,), stride=(1,), padding=valid)\n",
       "      (4): ReLU()\n",
       "      (5): MaxPool1d(kernel_size=1, stride=1, padding=0, dilation=1, ceil_mode=False)\n",
       "    )\n",
       "  )\n",
       "  (dense_block): DenseBlock(\n",
       "    (layers): Sequential(\n",
       "      (0): Linear(in_features=940, out_features=10, bias=True)\n",
       "    )\n",
       "  )\n",
       ")"
      ]
     },
     "execution_count": 6,
     "metadata": {},
     "output_type": "execute_result"
    }
   ],
   "source": [
    "model = CNN(\n",
    "    input_len=100,\n",
    "    output_dim=10,\n",
    "    strand=\"ds\",\n",
    "    aggr=\"max\",\n",
    "    task=\"regression\",\n",
    "    optimizer=\"adam\",\n",
    "    conv_kwargs={\n",
    "        \"conv_channels\": [10, 10],\n",
    "        \"conv_kernels\": [5, 3],\n",
    "        \"activations\": \"relu\",\n",
    "        \"pool_types\": \"max\"\n",
    "    }\n",
    ")\n",
    "model"
   ]
  },
  {
   "cell_type": "code",
   "execution_count": null,
   "metadata": {},
   "outputs": [
    {
     "data": {
      "text/plain": [
       "torch.Size([10, 10])"
      ]
     },
     "metadata": {},
     "output_type": "display_data"
    }
   ],
   "source": [
    "model(x, x_rev_comp).shape"
   ]
  },
  {
   "cell_type": "markdown",
   "metadata": {},
   "source": [
    "### RNN"
   ]
  },
  {
   "cell_type": "code",
   "execution_count": 7,
   "metadata": {},
   "outputs": [],
   "source": [
    "from eugene.models.base._sequence_models import RNN"
   ]
  },
  {
   "cell_type": "code",
   "execution_count": 8,
   "metadata": {},
   "outputs": [
    {
     "data": {
      "text/plain": [
       "RNN(\n",
       "  (metric): R2Score()\n",
       "  (recurrent_block): RecurrentBlock(\n",
       "    (layers): LSTM(4, 10, num_layers=2, batch_first=True, bidirectional=True)\n",
       "  )\n",
       "  (dense_block): DenseBlock(\n",
       "    (layers): Sequential(\n",
       "      (0): Linear(in_features=20, out_features=10, bias=True)\n",
       "    )\n",
       "  )\n",
       ")"
      ]
     },
     "execution_count": 8,
     "metadata": {},
     "output_type": "execute_result"
    }
   ],
   "source": [
    "model = RNN(\n",
    "    input_len=100,\n",
    "    output_dim=10,\n",
    "    strand=\"ds\",\n",
    "    aggr=\"max\",\n",
    "    task=\"regression\",\n",
    "    optimizer=\"adam\",\n",
    "    recurrent_kwargs={\n",
    "        \"hidden_dim\": 10,\n",
    "        \"num_layers\": 2,\n",
    "        \"bidirectional\": True\n",
    "    }\n",
    ")\n",
    "model"
   ]
  },
  {
   "cell_type": "code",
   "execution_count": null,
   "metadata": {},
   "outputs": [
    {
     "data": {
      "text/plain": [
       "torch.Size([10, 10])"
      ]
     },
     "metadata": {},
     "output_type": "display_data"
    }
   ],
   "source": [
    "model(x.transpose(1, 2), x_rev_comp.transpose(1, 2)).shape"
   ]
  },
  {
   "cell_type": "markdown",
   "metadata": {},
   "source": [
    "### Hybrid"
   ]
  },
  {
   "cell_type": "code",
   "execution_count": 9,
   "metadata": {},
   "outputs": [],
   "source": [
    "from eugene.models.base._sequence_models import Hybrid"
   ]
  },
  {
   "cell_type": "code",
   "execution_count": null,
   "metadata": {},
   "outputs": [
    {
     "data": {
      "text/plain": [
       "Hybrid(\n",
       "  (metric): R2Score()\n",
       "  (conv1d_block): Conv1DBlock(\n",
       "    (layers): Sequential(\n",
       "      (0): Conv1d(4, 10, kernel_size=(5,), stride=(1,), padding=valid)\n",
       "      (1): ReLU()\n",
       "      (2): MaxPool1d(kernel_size=1, stride=1, padding=0, dilation=1, ceil_mode=False)\n",
       "      (3): Conv1d(10, 10, kernel_size=(3,), stride=(1,), padding=valid)\n",
       "      (4): ReLU()\n",
       "      (5): MaxPool1d(kernel_size=1, stride=1, padding=0, dilation=1, ceil_mode=False)\n",
       "    )\n",
       "  )\n",
       "  (reverse_conv1d_block): Conv1DBlock(\n",
       "    (layers): Sequential(\n",
       "      (0): Conv1d(4, 10, kernel_size=(5,), stride=(1,), padding=valid)\n",
       "      (1): ReLU()\n",
       "      (2): MaxPool1d(kernel_size=1, stride=1, padding=0, dilation=1, ceil_mode=False)\n",
       "      (3): Conv1d(10, 10, kernel_size=(3,), stride=(1,), padding=valid)\n",
       "      (4): ReLU()\n",
       "      (5): MaxPool1d(kernel_size=1, stride=1, padding=0, dilation=1, ceil_mode=False)\n",
       "    )\n",
       "  )\n",
       "  (recurrent_block): RecurrentBlock(\n",
       "    (layers): LSTM(10, 10, num_layers=2, batch_first=True, bidirectional=True)\n",
       "  )\n",
       "  (reverse_recurrent_block): RecurrentBlock(\n",
       "    (layers): LSTM(10, 10, num_layers=2, batch_first=True, bidirectional=True)\n",
       "  )\n",
       "  (dense_block): DenseBlock(\n",
       "    (layers): Sequential(\n",
       "      (0): Linear(in_features=20, out_features=10, bias=True)\n",
       "    )\n",
       "  )\n",
       "  (reverse_dense_block): DenseBlock(\n",
       "    (layers): Sequential(\n",
       "      (0): Linear(in_features=20, out_features=10, bias=True)\n",
       "    )\n",
       "  )\n",
       ")"
      ]
     },
     "metadata": {},
     "output_type": "display_data"
    }
   ],
   "source": [
    "model = Hybrid(\n",
    "    input_len=100,\n",
    "    output_dim=10,\n",
    "    strand=\"ts\",\n",
    "    aggr=\"max\",\n",
    "    task=\"regression\",\n",
    "    optimizer=\"adam\",\n",
    "    conv_kwargs={\n",
    "        \"conv_channels\": [10, 10],\n",
    "        \"conv_kernels\": [5, 3],\n",
    "        \"activations\": \"relu\",\n",
    "        \"pool_types\": \"max\"\n",
    "    },\n",
    "    recurrent_kwargs={\n",
    "        \"hidden_dim\": 10,\n",
    "        \"num_layers\": 2,\n",
    "        \"bidirectional\": True\n",
    "    }\n",
    ")\n",
    "model"
   ]
  },
  {
   "cell_type": "code",
   "execution_count": null,
   "metadata": {},
   "outputs": [
    {
     "data": {
      "text/plain": [
       "torch.Size([10, 10])"
      ]
     },
     "metadata": {},
     "output_type": "display_data"
    }
   ],
   "source": [
    "model(x, x_rev_comp).shape"
   ]
  },
  {
   "cell_type": "markdown",
   "metadata": {},
   "source": [
    "### TutorialCNN"
   ]
  },
  {
   "cell_type": "code",
   "execution_count": 10,
   "metadata": {},
   "outputs": [],
   "source": [
    "from eugene.models._supervised import TutorialCNN"
   ]
  },
  {
   "cell_type": "code",
   "execution_count": 15,
   "metadata": {},
   "outputs": [
    {
     "data": {
      "text/plain": [
       "TutorialCNN(\n",
       "  (metric): R2Score()\n",
       "  (conv1): Conv1d(4, 30, kernel_size=(21,), stride=(1,))\n",
       "  (dense): Linear(in_features=30, out_features=10, bias=True)\n",
       ")"
      ]
     },
     "execution_count": 15,
     "metadata": {},
     "output_type": "execute_result"
    }
   ],
   "source": [
    "model = TutorialCNN(\n",
    "    input_len=100,\n",
    "    output_dim=10\n",
    ")\n",
    "model"
   ]
  },
  {
   "cell_type": "code",
   "execution_count": 17,
   "metadata": {},
   "outputs": [
    {
     "data": {
      "text/plain": [
       "torch.Size([10, 10])"
      ]
     },
     "execution_count": 17,
     "metadata": {},
     "output_type": "execute_result"
    }
   ],
   "source": [
    "model(x).shape"
   ]
  },
  {
   "cell_type": "markdown",
   "metadata": {},
   "source": [
    "### Jores21CNN"
   ]
  },
  {
   "cell_type": "code",
   "execution_count": 18,
   "metadata": {},
   "outputs": [],
   "source": [
    "from eugene.models._supervised import Jores21CNN"
   ]
  },
  {
   "cell_type": "code",
   "execution_count": 22,
   "metadata": {},
   "outputs": [
    {
     "data": {
      "text/plain": [
       "Jores21CNN(\n",
       "  (metric): R2Score()\n",
       "  (biconv): BiConv1DBlock(\n",
       "    (kernels): ParameterList(\n",
       "        (0): Parameter containing: [torch.FloatTensor of size 128x4x13]\n",
       "        (1): Parameter containing: [torch.FloatTensor of size 128x128x13]\n",
       "    )\n",
       "    (biases): ParameterList(\n",
       "        (0): Parameter containing: [torch.FloatTensor of size 128]\n",
       "        (1): Parameter containing: [torch.FloatTensor of size 128]\n",
       "    )\n",
       "  )\n",
       "  (conv): Conv1d(128, 128, kernel_size=(13,), stride=(1,), padding=same)\n",
       "  (dropout): Dropout(p=0.15, inplace=False)\n",
       "  (fc): Linear(in_features=12800, out_features=64, bias=True)\n",
       "  (batchnorm): BatchNorm1d(64, eps=1e-05, momentum=0.1, affine=True, track_running_stats=True)\n",
       "  (fc2): Linear(in_features=64, out_features=10, bias=True)\n",
       ")"
      ]
     },
     "execution_count": 22,
     "metadata": {},
     "output_type": "execute_result"
    }
   ],
   "source": [
    "model = Jores21CNN(\n",
    "    input_len=100,\n",
    "    output_dim=10\n",
    ")\n",
    "model"
   ]
  },
  {
   "cell_type": "code",
   "execution_count": 24,
   "metadata": {},
   "outputs": [
    {
     "data": {
      "text/plain": [
       "torch.Size([10, 10])"
      ]
     },
     "execution_count": 24,
     "metadata": {},
     "output_type": "execute_result"
    }
   ],
   "source": [
    "model(x).shape"
   ]
  },
  {
   "cell_type": "code",
   "execution_count": 25,
   "metadata": {},
   "outputs": [
    {
     "ename": "NameError",
     "evalue": "name 'eu' is not defined",
     "output_type": "error",
     "traceback": [
      "\u001b[0;31m---------------------------------------------------------------------------\u001b[0m",
      "\u001b[0;31mNameError\u001b[0m                                 Traceback (most recent call last)",
      "\u001b[0;32m/var/folders/tm/f8q3_wcj5s98dwjv86bvq7hr0000gn/T/ipykernel_57433/3792409744.py\u001b[0m in \u001b[0;36m<module>\u001b[0;34m\u001b[0m\n\u001b[0;32m----> 1\u001b[0;31m \u001b[0meu\u001b[0m\u001b[0;34m.\u001b[0m\u001b[0mmodels\u001b[0m\u001b[0;34m.\u001b[0m\u001b[0minit_weights\u001b[0m\u001b[0;34m(\u001b[0m\u001b[0mmodel\u001b[0m\u001b[0;34m,\u001b[0m \u001b[0minitializer\u001b[0m\u001b[0;34m=\u001b[0m\u001b[0;34m\"xavier_uniform\"\u001b[0m\u001b[0;34m)\u001b[0m\u001b[0;34m\u001b[0m\u001b[0;34m\u001b[0m\u001b[0m\n\u001b[0m",
      "\u001b[0;31mNameError\u001b[0m: name 'eu' is not defined"
     ]
    }
   ],
   "source": [
    "eu.models.init_weights(model, initializer=\"xavier_uniform\")"
   ]
  },
  {
   "cell_type": "markdown",
   "metadata": {},
   "source": [
    "### Kopp21CNN"
   ]
  },
  {
   "cell_type": "code",
   "execution_count": 27,
   "metadata": {},
   "outputs": [],
   "source": [
    "from eugene.models._supervised import Kopp21CNN"
   ]
  },
  {
   "cell_type": "code",
   "execution_count": 1,
   "metadata": {},
   "outputs": [
    {
     "name": "stderr",
     "output_type": "stream",
     "text": [
      "Global seed set to 13\n",
      "2022-12-11 15:39:26.205783: I tensorflow/core/platform/cpu_feature_guard.cc:193] This TensorFlow binary is optimized with oneAPI Deep Neural Network Library (oneDNN) to use the following CPU instructions in performance-critical operations:  AVX2 FMA\n",
      "To enable them in other operations, rebuild TensorFlow with the appropriate compiler flags.\n",
      "Fontconfig warning: ignoring UTF-8: not a valid region tag\n"
     ]
    }
   ],
   "source": [
    "from eugene.models.base._blocks import Conv1DBlock"
   ]
  },
  {
   "cell_type": "code",
   "execution_count": 2,
   "metadata": {},
   "outputs": [
    {
     "name": "stdout",
     "output_type": "stream",
     "text": [
      "['max', None] [<class 'torch.nn.modules.pooling.MaxPool1d'>, None]\n"
     ]
    }
   ],
   "source": [
    "block = Conv1DBlock(\n",
    "    input_len=100,\n",
    "    input_channels=4,\n",
    "    conv_channels=[10, 10],\n",
    "    conv_kernels=[5, 3],\n",
    "    conv_strides=[1, 1],\n",
    "    conv_dilations=[1, 1],\n",
    "    conv_padding=[\"valid\", \"valid\"],\n",
    "    activations=None,\n",
    "    pool_types=[\"max\", None],\n",
    "    batchnorm=True,\n",
    "    batchnorm_first=False\n",
    ")"
   ]
  },
  {
   "cell_type": "code",
   "execution_count": 3,
   "metadata": {},
   "outputs": [
    {
     "data": {
      "text/plain": [
       "Conv1DBlock(\n",
       "  (layers): Sequential(\n",
       "    (0): Conv1d(4, 10, kernel_size=(5,), stride=(1,), padding=valid)\n",
       "    (1): MaxPool1d(kernel_size=1, stride=1, padding=0, dilation=1, ceil_mode=False)\n",
       "    (2): BatchNorm1d(10, eps=1e-05, momentum=0.1, affine=True, track_running_stats=True)\n",
       "    (3): Conv1d(10, 10, kernel_size=(3,), stride=(1,), padding=valid)\n",
       "    (4): BatchNorm1d(10, eps=1e-05, momentum=0.1, affine=True, track_running_stats=True)\n",
       "  )\n",
       ")"
      ]
     },
     "execution_count": 3,
     "metadata": {},
     "output_type": "execute_result"
    }
   ],
   "source": [
    "block"
   ]
  },
  {
   "cell_type": "code",
   "execution_count": 135,
   "metadata": {},
   "outputs": [
    {
     "ename": "NameError",
     "evalue": "name 'CNN' is not defined",
     "output_type": "error",
     "traceback": [
      "\u001b[0;31m---------------------------------------------------------------------------\u001b[0m",
      "\u001b[0;31mNameError\u001b[0m                                 Traceback (most recent call last)",
      "\u001b[0;32m/var/folders/tm/f8q3_wcj5s98dwjv86bvq7hr0000gn/T/ipykernel_58943/2914928339.py\u001b[0m in \u001b[0;36m<module>\u001b[0;34m\u001b[0m\n\u001b[0;32m----> 1\u001b[0;31m CNN(\n\u001b[0m\u001b[1;32m      2\u001b[0m     \u001b[0minput_len\u001b[0m\u001b[0;34m=\u001b[0m\u001b[0;36m100\u001b[0m\u001b[0;34m,\u001b[0m\u001b[0;34m\u001b[0m\u001b[0;34m\u001b[0m\u001b[0m\n\u001b[1;32m      3\u001b[0m )\n",
      "\u001b[0;31mNameError\u001b[0m: name 'CNN' is not defined"
     ]
    }
   ],
   "source": [
    "CNN(\n",
    "    input_len=100,\n",
    "    output_dim=1,\n",
    "    strand=\"ds\",\n",
    "    task=\"binary_classification\",\n",
    "    aggr=\"max\",\n",
    "    loss=\"bce\",\n",
    "\n",
    ")"
   ]
  },
  {
   "cell_type": "code",
   "execution_count": 28,
   "metadata": {},
   "outputs": [
    {
     "name": "stderr",
     "output_type": "stream",
     "text": [
      "/Users/adamklie/miniconda3/envs/eugene/lib/python3.7/site-packages/torchmetrics/utilities/prints.py:36: UserWarning: Metric `AUROC` will save all targets and predictions in buffer. For large datasets this may lead to large memory footprint.\n",
      "  warnings.warn(*args, **kwargs)\n"
     ]
    }
   ],
   "source": [
    "model = Kopp21CNN(\n",
    "    input_len=100,\n",
    "    output_dim=10\n",
    ")"
   ]
  },
  {
   "cell_type": "code",
   "execution_count": 30,
   "metadata": {},
   "outputs": [
    {
     "data": {
      "text/plain": [
       "torch.Size([10, 10])"
      ]
     },
     "execution_count": 30,
     "metadata": {},
     "output_type": "execute_result"
    }
   ],
   "source": [
    "model(x, x_rev_comp).shape"
   ]
  },
  {
   "cell_type": "markdown",
   "metadata": {},
   "source": [
    "### FactorizedBasset"
   ]
  },
  {
   "cell_type": "code",
   "execution_count": 64,
   "metadata": {},
   "outputs": [],
   "source": [
    "from eugene.models._model_zoo import FactorizedBasset"
   ]
  },
  {
   "cell_type": "code",
   "execution_count": 65,
   "metadata": {},
   "outputs": [
    {
     "data": {
      "text/plain": [
       "FactorizedBasset(\n",
       "  (metric): AUROC()\n",
       "  (conv1d_block1): Conv1DBlock(\n",
       "    (layers): Sequential(\n",
       "      (0): Conv1d(4, 48, kernel_size=(3,), stride=(1,), padding=(1,))\n",
       "      (1): BatchNorm1d(48, eps=1e-05, momentum=0.1, affine=True, track_running_stats=True)\n",
       "      (2): ReLU()\n",
       "      (3): Conv1d(48, 64, kernel_size=(3,), stride=(1,), padding=(1,))\n",
       "      (4): BatchNorm1d(64, eps=1e-05, momentum=0.1, affine=True, track_running_stats=True)\n",
       "      (5): ReLU()\n",
       "      (6): Conv1d(64, 100, kernel_size=(3,), stride=(1,), padding=(1,))\n",
       "      (7): BatchNorm1d(100, eps=1e-05, momentum=0.1, affine=True, track_running_stats=True)\n",
       "      (8): ReLU()\n",
       "      (9): Conv1d(100, 150, kernel_size=(7,), stride=(1,), padding=(3,))\n",
       "      (10): BatchNorm1d(150, eps=1e-05, momentum=0.1, affine=True, track_running_stats=True)\n",
       "      (11): ReLU()\n",
       "      (12): Conv1d(150, 300, kernel_size=(7,), stride=(1,), padding=(3,))\n",
       "      (13): BatchNorm1d(300, eps=1e-05, momentum=0.1, affine=True, track_running_stats=True)\n",
       "      (14): ReLU()\n",
       "      (15): MaxPool1d(kernel_size=3, stride=1, padding=0, dilation=1, ceil_mode=False)\n",
       "    )\n",
       "  )\n",
       "  (conv1d_block2): Conv1DBlock(\n",
       "    (layers): Sequential(\n",
       "      (0): Conv1d(300, 200, kernel_size=(7,), stride=(1,), padding=(3,))\n",
       "      (1): BatchNorm1d(200, eps=1e-05, momentum=0.1, affine=True, track_running_stats=True)\n",
       "      (2): ReLU()\n",
       "      (3): Conv1d(200, 200, kernel_size=(3,), stride=(1,), padding=(1,))\n",
       "      (4): BatchNorm1d(200, eps=1e-05, momentum=0.1, affine=True, track_running_stats=True)\n",
       "      (5): ReLU()\n",
       "      (6): Conv1d(200, 200, kernel_size=(3,), stride=(1,), padding=(1,))\n",
       "      (7): BatchNorm1d(200, eps=1e-05, momentum=0.1, affine=True, track_running_stats=True)\n",
       "      (8): ReLU()\n",
       "      (9): MaxPool1d(kernel_size=4, stride=1, padding=0, dilation=1, ceil_mode=False)\n",
       "    )\n",
       "  )\n",
       "  (conv1d_block3): Conv1DBlock(\n",
       "    (layers): Sequential(\n",
       "      (0): Conv1d(200, 200, kernel_size=(7,), stride=(1,), padding=(3,))\n",
       "      (1): BatchNorm1d(200, eps=1e-05, momentum=0.1, affine=True, track_running_stats=True)\n",
       "      (2): ReLU()\n",
       "      (3): MaxPool1d(kernel_size=4, stride=1, padding=0, dilation=1, ceil_mode=False)\n",
       "    )\n",
       "  )\n",
       "  (dense_block): DenseBlock(\n",
       "    (layers): Sequential(\n",
       "      (0): Linear(in_features=18400, out_features=1000, bias=True)\n",
       "      (1): BatchNorm1d(1000, eps=1e-05, momentum=0.1, affine=True, track_running_stats=True)\n",
       "      (2): ReLU()\n",
       "      (3): Linear(in_features=1000, out_features=164, bias=True)\n",
       "      (4): BatchNorm1d(164, eps=1e-05, momentum=0.1, affine=True, track_running_stats=True)\n",
       "      (5): ReLU()\n",
       "      (6): Linear(in_features=164, out_features=1, bias=True)\n",
       "    )\n",
       "  )\n",
       ")"
      ]
     },
     "execution_count": 65,
     "metadata": {},
     "output_type": "execute_result"
    }
   ],
   "source": [
    "model = FactorizedBasset(input_len=100, output_dim=1)\n",
    "model"
   ]
  },
  {
   "cell_type": "code",
   "execution_count": 66,
   "metadata": {},
   "outputs": [
    {
     "data": {
      "text/plain": [
       "18400"
      ]
     },
     "execution_count": 66,
     "metadata": {},
     "output_type": "execute_result"
    }
   ],
   "source": [
    "model.conv1d_block3.flatten_dim"
   ]
  },
  {
   "cell_type": "code",
   "execution_count": 67,
   "metadata": {},
   "outputs": [
    {
     "name": "stdout",
     "output_type": "stream",
     "text": [
      "torch.Size([10, 200, 92])\n"
     ]
    },
    {
     "data": {
      "text/plain": [
       "torch.Size([10, 1])"
      ]
     },
     "execution_count": 67,
     "metadata": {},
     "output_type": "execute_result"
    }
   ],
   "source": [
    "model(x).shape"
   ]
  },
  {
   "cell_type": "markdown",
   "metadata": {},
   "source": [
    "# Losses"
   ]
  },
  {
   "cell_type": "markdown",
   "metadata": {},
   "source": [
    "# Metrics"
   ]
  },
  {
   "cell_type": "code",
   "execution_count": 2,
   "metadata": {},
   "outputs": [],
   "source": [
    "import torchmetrics\n",
    "from torchmetrics import Metric"
   ]
  },
  {
   "cell_type": "code",
   "execution_count": 3,
   "metadata": {},
   "outputs": [],
   "source": [
    "from torchmetrics import Metric\n",
    "\n",
    "class MyAccuracy(Metric):\n",
    "    def __init__(self):\n",
    "        super().__init__()\n",
    "        self.add_state(\"correct\", default=torch.tensor(0), dist_reduce_fx=\"sum\")\n",
    "        self.add_state(\"total\", default=torch.tensor(0), dist_reduce_fx=\"sum\")\n",
    "\n",
    "    def update(self, preds: torch.Tensor, target: torch.Tensor):\n",
    "        preds, target = self._input_format(preds, target)\n",
    "        assert preds.shape == target.shape\n",
    "\n",
    "        self.correct += torch.sum(preds == target)\n",
    "        self.total += target.numel()\n",
    "\n",
    "    def compute(self):\n",
    "        return self.correct.float() / self.total"
   ]
  },
  {
   "cell_type": "code",
   "execution_count": 4,
   "metadata": {},
   "outputs": [
    {
     "name": "stderr",
     "output_type": "stream",
     "text": [
      "/Users/adamklie/miniconda3/envs/eugene/lib/python3.7/site-packages/torchmetrics/utilities/prints.py:36: UserWarning: Torchmetrics v0.9 introduced a new argument class property called `full_state_update` that has\n",
      "                not been set for this class (MyAccuracy). The property determines if `update` by\n",
      "                default needs access to the full metric state. If this is not the case, significant speedups can be\n",
      "                achieved and we recommend setting this to `False`.\n",
      "                We provide an checking function\n",
      "                `from torchmetrics.utilities import check_forward_full_state_property`\n",
      "                that can be used to check if the `full_state_update=True` (old and potential slower behaviour,\n",
      "                default for now) or if `full_state_update=False` can be used safely.\n",
      "                \n",
      "  warnings.warn(*args, **kwargs)\n"
     ]
    }
   ],
   "source": [
    "metric = MyAccuracy()"
   ]
  },
  {
   "cell_type": "code",
   "execution_count": 5,
   "metadata": {},
   "outputs": [
    {
     "data": {
      "text/plain": [
       "'myaccuracy'"
      ]
     },
     "execution_count": 5,
     "metadata": {},
     "output_type": "execute_result"
    }
   ],
   "source": [
    "metric.__class__.__name__.lower()"
   ]
  },
  {
   "cell_type": "code",
   "execution_count": 7,
   "metadata": {},
   "outputs": [],
   "source": [
    "from eugene.models.base._sequence_models import CNN"
   ]
  },
  {
   "cell_type": "code",
   "execution_count": 38,
   "metadata": {},
   "outputs": [
    {
     "name": "stderr",
     "output_type": "stream",
     "text": [
      "[autoreload of eugene.models failed: Traceback (most recent call last):\n",
      "  File \"/Users/adamklie/miniconda3/envs/eugene/lib/python3.7/site-packages/IPython/extensions/autoreload.py\", line 245, in check\n",
      "    superreload(m, reload, self.old_objects)\n",
      "  File \"/Users/adamklie/miniconda3/envs/eugene/lib/python3.7/site-packages/IPython/extensions/autoreload.py\", line 394, in superreload\n",
      "    module = reload(module)\n",
      "  File \"/Users/adamklie/miniconda3/envs/eugene/lib/python3.7/imp.py\", line 314, in reload\n",
      "    return importlib.reload(module)\n",
      "  File \"/Users/adamklie/miniconda3/envs/eugene/lib/python3.7/importlib/__init__.py\", line 160, in reload\n",
      "    name=parent_name) from None\n",
      "ImportError: parent 'eugene' not in sys.modules\n",
      "]\n",
      "Global seed set to 13\n"
     ]
    },
    {
     "ename": "TypeError",
     "evalue": "super(type, obj): obj must be an instance or subtype of type",
     "output_type": "error",
     "traceback": [
      "\u001b[0;31m---------------------------------------------------------------------------\u001b[0m",
      "\u001b[0;31mTypeError\u001b[0m                                 Traceback (most recent call last)",
      "\u001b[0;32m/var/folders/tm/f8q3_wcj5s98dwjv86bvq7hr0000gn/T/ipykernel_55788/2287247666.py\u001b[0m in \u001b[0;36m<module>\u001b[0;34m\u001b[0m\n\u001b[1;32m     14\u001b[0m     \u001b[0mscheduler\u001b[0m\u001b[0;34m=\u001b[0m\u001b[0;34m\"reduce_lr_on_plateau\"\u001b[0m\u001b[0;34m,\u001b[0m\u001b[0;34m\u001b[0m\u001b[0;34m\u001b[0m\u001b[0m\n\u001b[1;32m     15\u001b[0m     \u001b[0mmetric\u001b[0m\u001b[0;34m=\u001b[0m\u001b[0;34m\"accuracy\"\u001b[0m\u001b[0;34m,\u001b[0m\u001b[0;34m\u001b[0m\u001b[0;34m\u001b[0m\u001b[0m\n\u001b[0;32m---> 16\u001b[0;31m     \u001b[0mseed\u001b[0m\u001b[0;34m=\u001b[0m\u001b[0;36m13\u001b[0m\u001b[0;34m\u001b[0m\u001b[0;34m\u001b[0m\u001b[0m\n\u001b[0m\u001b[1;32m     17\u001b[0m )\n\u001b[1;32m     18\u001b[0m \u001b[0mmodel\u001b[0m\u001b[0;34m\u001b[0m\u001b[0;34m\u001b[0m\u001b[0m\n",
      "\u001b[0;32m~/Desktop/EUGENe/eugene/models/base/_sequence_models.py\u001b[0m in \u001b[0;36m__init__\u001b[0;34m(self, input_len, output_dim, conv_kwargs, strand, task, aggr, loss_fxn, dense_kwargs, **kwargs)\u001b[0m\n\u001b[1;32m    191\u001b[0m                 \u001b[0minput_len\u001b[0m\u001b[0;34m=\u001b[0m\u001b[0minput_len\u001b[0m\u001b[0;34m,\u001b[0m\u001b[0;34m\u001b[0m\u001b[0;34m\u001b[0m\u001b[0m\n\u001b[1;32m    192\u001b[0m                 \u001b[0minput_channels\u001b[0m\u001b[0;34m=\u001b[0m\u001b[0;36m4\u001b[0m\u001b[0;34m,\u001b[0m\u001b[0;34m\u001b[0m\u001b[0;34m\u001b[0m\u001b[0m\n\u001b[0;32m--> 193\u001b[0;31m                 \u001b[0;34m**\u001b[0m\u001b[0mconv_kwargs\u001b[0m\u001b[0;34m\u001b[0m\u001b[0;34m\u001b[0m\u001b[0m\n\u001b[0m\u001b[1;32m    194\u001b[0m             )\n\u001b[1;32m    195\u001b[0m             self.dense_block = DenseBlock(\n",
      "\u001b[0;32m~/Desktop/EUGENe/eugene/models/base/_blocks.py\u001b[0m in \u001b[0;36m__init__\u001b[0;34m(self, input_len, input_channels, conv_channels, conv_kernels, conv_strides, conv_dilations, conv_padding, conv_biases, activations, pool_types, pool_kernels, pool_strides, pool_dilations, pool_padding, dropout_rates, batchnorm, batchnorm_first)\u001b[0m\n\u001b[1;32m    130\u001b[0m         \u001b[0mbatchnorm_first\u001b[0m\u001b[0;34m:\u001b[0m \u001b[0mbool\u001b[0m \u001b[0;34m=\u001b[0m \u001b[0;32mFalse\u001b[0m\u001b[0;34m\u001b[0m\u001b[0;34m\u001b[0m\u001b[0m\n\u001b[1;32m    131\u001b[0m     ):\n\u001b[0;32m--> 132\u001b[0;31m         \u001b[0msuper\u001b[0m\u001b[0;34m(\u001b[0m\u001b[0mConv1DBlock\u001b[0m\u001b[0;34m,\u001b[0m \u001b[0mself\u001b[0m\u001b[0;34m)\u001b[0m\u001b[0;34m.\u001b[0m\u001b[0m__init__\u001b[0m\u001b[0;34m(\u001b[0m\u001b[0;34m)\u001b[0m\u001b[0;34m\u001b[0m\u001b[0;34m\u001b[0m\u001b[0m\n\u001b[0m\u001b[1;32m    133\u001b[0m \u001b[0;34m\u001b[0m\u001b[0m\n\u001b[1;32m    134\u001b[0m         \u001b[0;31m# Define input parameters\u001b[0m\u001b[0;34m\u001b[0m\u001b[0;34m\u001b[0m\u001b[0;34m\u001b[0m\u001b[0m\n",
      "\u001b[0;31mTypeError\u001b[0m: super(type, obj): obj must be an instance or subtype of type"
     ]
    }
   ],
   "source": [
    "model = CNN(\n",
    "    input_len=100,\n",
    "    output_dim=1,\n",
    "    strand=\"ss\",\n",
    "    aggr=\"max\",\n",
    "    task=\"binary_classification\",\n",
    "    optimizer=\"adam\",\n",
    "    conv_kwargs={\n",
    "        \"conv_channels\": [10, 10],\n",
    "        \"conv_kernels\": [5, 3],\n",
    "        \"activations\": \"relu\",\n",
    "        \"pool_types\": \"max\"\n",
    "    },\n",
    "    scheduler=\"reduce_lr_on_plateau\",\n",
    "    metric=\"accuracy\",\n",
    "    seed=13\n",
    ")\n",
    "model"
   ]
  },
  {
   "cell_type": "code",
   "execution_count": null,
   "metadata": {},
   "outputs": [],
   "source": []
  },
  {
   "cell_type": "code",
   "execution_count": 33,
   "metadata": {},
   "outputs": [
    {
     "data": {
      "text/plain": [
       "{'optimizer': Adam (\n",
       " Parameter Group 0\n",
       "     amsgrad: False\n",
       "     betas: (0.9, 0.999)\n",
       "     eps: 1e-08\n",
       "     lr: 0.001\n",
       "     maximize: False\n",
       "     weight_decay: 0\n",
       " ),\n",
       " 'lr_scheduler': <torch.optim.lr_scheduler.ReduceLROnPlateau at 0x7fbe3e911bd0>,\n",
       " 'monitor': 'val_loss'}"
      ]
     },
     "execution_count": 33,
     "metadata": {},
     "output_type": "execute_result"
    }
   ],
   "source": [
    "model.configure_optimizers()"
   ]
  },
  {
   "cell_type": "code",
   "execution_count": 36,
   "metadata": {},
   "outputs": [
    {
     "ename": "AttributeError",
     "evalue": "'NoneType' object has no attribute 'lr_schedulers'",
     "output_type": "error",
     "traceback": [
      "\u001b[0;31m---------------------------------------------------------------------------\u001b[0m",
      "\u001b[0;31mAttributeError\u001b[0m                            Traceback (most recent call last)",
      "\u001b[0;32m/var/folders/tm/f8q3_wcj5s98dwjv86bvq7hr0000gn/T/ipykernel_55788/2235029459.py\u001b[0m in \u001b[0;36m<module>\u001b[0;34m\u001b[0m\n\u001b[0;32m----> 1\u001b[0;31m \u001b[0mmodel\u001b[0m\u001b[0;34m.\u001b[0m\u001b[0mlr_schedulers\u001b[0m\u001b[0;34m(\u001b[0m\u001b[0;34m)\u001b[0m\u001b[0;34m\u001b[0m\u001b[0;34m\u001b[0m\u001b[0m\n\u001b[0m",
      "\u001b[0;32m~/miniconda3/envs/eugene/lib/python3.7/site-packages/pytorch_lightning/core/lightning.py\u001b[0m in \u001b[0;36mlr_schedulers\u001b[0;34m(self)\u001b[0m\n\u001b[1;32m    171\u001b[0m             \u001b[0mschedulers\u001b[0m \u001b[0mwere\u001b[0m \u001b[0mreturned\u001b[0m \u001b[0;32min\u001b[0m \u001b[0;34m:\u001b[0m\u001b[0mmeth\u001b[0m\u001b[0;34m:\u001b[0m\u001b[0;31m`\u001b[0m\u001b[0mconfigure_optimizers\u001b[0m\u001b[0;31m`\u001b[0m\u001b[0;34m.\u001b[0m\u001b[0;34m\u001b[0m\u001b[0;34m\u001b[0m\u001b[0m\n\u001b[1;32m    172\u001b[0m         \"\"\"\n\u001b[0;32m--> 173\u001b[0;31m         \u001b[0;32mif\u001b[0m \u001b[0;32mnot\u001b[0m \u001b[0mself\u001b[0m\u001b[0;34m.\u001b[0m\u001b[0mtrainer\u001b[0m\u001b[0;34m.\u001b[0m\u001b[0mlr_schedulers\u001b[0m\u001b[0;34m:\u001b[0m\u001b[0;34m\u001b[0m\u001b[0;34m\u001b[0m\u001b[0m\n\u001b[0m\u001b[1;32m    174\u001b[0m             \u001b[0;32mreturn\u001b[0m \u001b[0;32mNone\u001b[0m\u001b[0;34m\u001b[0m\u001b[0;34m\u001b[0m\u001b[0m\n\u001b[1;32m    175\u001b[0m \u001b[0;34m\u001b[0m\u001b[0m\n",
      "\u001b[0;31mAttributeError\u001b[0m: 'NoneType' object has no attribute 'lr_schedulers'"
     ]
    }
   ],
   "source": [
    "model.lr_schedulers()"
   ]
  },
  {
   "cell_type": "code",
   "execution_count": 10,
   "metadata": {},
   "outputs": [],
   "source": [
    "from eugene.datasets._datasets import random1000\n",
    "from eugene.preprocess import ohe_seqs_sdata"
   ]
  },
  {
   "cell_type": "code",
   "execution_count": 11,
   "metadata": {},
   "outputs": [
    {
     "data": {
      "text/plain": [
       "SeqData object with = 1000 seqs\n",
       "seqs = (1000,)\n",
       "names = (1000,)\n",
       "rev_seqs = None\n",
       "ohe_seqs = None\n",
       "ohe_rev_seqs = None\n",
       "seqs_annot: 'label_0', 'label_1', 'label_2', 'label_3', 'label_4', 'label_5', 'label_6', 'label_7', 'label_8', 'label_9', 'activity_0', 'activity_1', 'activity_2', 'activity_3', 'activity_4', 'activity_5', 'activity_6', 'activity_7', 'activity_8', 'activity_9'\n",
       "pos_annot: None\n",
       "seqsm: None\n",
       "uns: None"
      ]
     },
     "execution_count": 11,
     "metadata": {},
     "output_type": "execute_result"
    }
   ],
   "source": [
    "sdata = random1000()\n",
    "sdata"
   ]
  },
  {
   "cell_type": "code",
   "execution_count": 12,
   "metadata": {},
   "outputs": [
    {
     "data": {
      "application/vnd.jupyter.widget-view+json": {
       "model_id": "99ce827101de4fdb9559c2b7264ace97",
       "version_major": 2,
       "version_minor": 0
      },
      "text/plain": [
       "One-hot encoding sequences:   0%|          | 0/1000 [00:00<?, ?it/s]"
      ]
     },
     "metadata": {},
     "output_type": "display_data"
    },
    {
     "name": "stdout",
     "output_type": "stream",
     "text": [
      "SeqData object modified:\n",
      "\tohe_seqs: None -> 1000 ohe_seqs added\n"
     ]
    }
   ],
   "source": [
    "ohe_seqs_sdata(sdata)"
   ]
  },
  {
   "cell_type": "code",
   "execution_count": 13,
   "metadata": {},
   "outputs": [
    {
     "name": "stdout",
     "output_type": "stream",
     "text": [
      "No transforms given, assuming just need to tensorize.\n"
     ]
    }
   ],
   "source": [
    "sdataset = sdata.to_dataset(target_keys=\"label_0\")"
   ]
  },
  {
   "cell_type": "code",
   "execution_count": 14,
   "metadata": {},
   "outputs": [],
   "source": [
    "sdataloader = sdataset.to_dataloader(batch_size=128, shuffle=False)\n",
    "ID, x, x_rev_comp, y = next(iter(sdataloader))"
   ]
  },
  {
   "cell_type": "code",
   "execution_count": 15,
   "metadata": {},
   "outputs": [
    {
     "name": "stdout",
     "output_type": "stream",
     "text": [
      "Loss is 0.5474207401275635, accuracy is 0.515625 at batch 0\n",
      "Loss is 0.5789369344711304, accuracy is 0.4765625 at batch 1\n",
      "Loss is 0.5303661823272705, accuracy is 0.5234375 at batch 2\n",
      "Loss is 0.6017324924468994, accuracy is 0.453125 at batch 3\n",
      "Loss is 0.5952660441398621, accuracy is 0.46875 at batch 4\n",
      "Loss is 0.5732230544090271, accuracy is 0.484375 at batch 5\n"
     ]
    }
   ],
   "source": [
    "model.metric.reset()\n",
    "metric_vals = []\n",
    "for batch_idx, batch in enumerate(sdataloader):\n",
    "    ID, x, x_rev_comp, y = batch\n",
    "    outs = model(x, x_rev_comp=None).squeeze(dim=1)\n",
    "    loss = model.loss_fxn(outs, y)\n",
    "    print(f\"Loss is {loss}\", end=\", \")\n",
    "    met = model.metric(outs, y.long())\n",
    "    print(f\"{model.metric_name} is {met} at batch {batch_idx}\")\n",
    "    metric_vals.append(met)\n",
    "    if batch_idx == 5:\n",
    "        break"
   ]
  },
  {
   "cell_type": "code",
   "execution_count": 17,
   "metadata": {},
   "outputs": [
    {
     "data": {
      "text/plain": [
       "Accuracy()"
      ]
     },
     "execution_count": 17,
     "metadata": {},
     "output_type": "execute_result"
    }
   ],
   "source": [
    "model.metric"
   ]
  },
  {
   "cell_type": "code",
   "execution_count": 18,
   "metadata": {},
   "outputs": [
    {
     "data": {
      "text/plain": [
       "<function torch.nn.functional.mse_loss(input: torch.Tensor, target: torch.Tensor, size_average: Union[bool, NoneType] = None, reduce: Union[bool, NoneType] = None, reduction: str = 'mean') -> torch.Tensor>"
      ]
     },
     "execution_count": 18,
     "metadata": {},
     "output_type": "execute_result"
    }
   ],
   "source": [
    "model.loss_fxn"
   ]
  },
  {
   "cell_type": "code",
   "execution_count": 19,
   "metadata": {},
   "outputs": [
    {
     "data": {
      "text/plain": [
       "torch.optim.adam.Adam"
      ]
     },
     "execution_count": 19,
     "metadata": {},
     "output_type": "execute_result"
    }
   ],
   "source": [
    "model.optimizer"
   ]
  },
  {
   "cell_type": "code",
   "execution_count": 21,
   "metadata": {},
   "outputs": [
    {
     "data": {
      "text/plain": [
       "Adam (\n",
       "Parameter Group 0\n",
       "    amsgrad: False\n",
       "    betas: (0.9, 0.999)\n",
       "    eps: 1e-08\n",
       "    lr: 0.001\n",
       "    maximize: False\n",
       "    weight_decay: 0\n",
       ")"
      ]
     },
     "execution_count": 21,
     "metadata": {},
     "output_type": "execute_result"
    }
   ],
   "source": [
    "model.configure_optimizers()"
   ]
  },
  {
   "cell_type": "code",
   "execution_count": 20,
   "metadata": {},
   "outputs": [],
   "source": [
    "model.scheduler"
   ]
  },
  {
   "cell_type": "markdown",
   "metadata": {},
   "source": []
  },
  {
   "cell_type": "code",
   "execution_count": 268,
   "metadata": {},
   "outputs": [],
   "source": [
    "from torchmetrics.functional.classification import binary_accuracy"
   ]
  },
  {
   "cell_type": "code",
   "execution_count": null,
   "metadata": {},
   "outputs": [],
   "source": [
    "model.metric."
   ]
  },
  {
   "cell_type": "code",
   "execution_count": 270,
   "metadata": {},
   "outputs": [
    {
     "ename": "AttributeError",
     "evalue": "'Accuracy' object has no attribute 'pred'",
     "output_type": "error",
     "traceback": [
      "\u001b[0;31m---------------------------------------------------------------------------\u001b[0m",
      "\u001b[0;31mAttributeError\u001b[0m                            Traceback (most recent call last)",
      "\u001b[0;32m/var/folders/tm/f8q3_wcj5s98dwjv86bvq7hr0000gn/T/ipykernel_53559/3963783885.py\u001b[0m in \u001b[0;36m<module>\u001b[0;34m\u001b[0m\n\u001b[0;32m----> 1\u001b[0;31m \u001b[0mall_preds\u001b[0m \u001b[0;34m=\u001b[0m \u001b[0mtorch\u001b[0m\u001b[0;34m.\u001b[0m\u001b[0mconcat\u001b[0m\u001b[0;34m(\u001b[0m\u001b[0mmodel\u001b[0m\u001b[0;34m.\u001b[0m\u001b[0mmetric\u001b[0m\u001b[0;34m.\u001b[0m\u001b[0mpred\u001b[0m\u001b[0;34m)\u001b[0m\u001b[0;34m\u001b[0m\u001b[0;34m\u001b[0m\u001b[0m\n\u001b[0m\u001b[1;32m      2\u001b[0m \u001b[0mall_targets\u001b[0m \u001b[0;34m=\u001b[0m \u001b[0mtorch\u001b[0m\u001b[0;34m.\u001b[0m\u001b[0mconcat\u001b[0m\u001b[0;34m(\u001b[0m\u001b[0mmodel\u001b[0m\u001b[0;34m.\u001b[0m\u001b[0mmetric\u001b[0m\u001b[0;34m.\u001b[0m\u001b[0mtarget\u001b[0m\u001b[0;34m)\u001b[0m\u001b[0;34m\u001b[0m\u001b[0;34m\u001b[0m\u001b[0m\n\u001b[1;32m      3\u001b[0m \u001b[0mbinary_accuracy\u001b[0m\u001b[0;34m(\u001b[0m\u001b[0mall_preds\u001b[0m\u001b[0;34m,\u001b[0m \u001b[0mall_targets\u001b[0m\u001b[0;34m)\u001b[0m\u001b[0;34m\u001b[0m\u001b[0;34m\u001b[0m\u001b[0m\n",
      "\u001b[0;32m~/miniconda3/envs/eugene/lib/python3.7/site-packages/torch/nn/modules/module.py\u001b[0m in \u001b[0;36m__getattr__\u001b[0;34m(self, name)\u001b[0m\n\u001b[1;32m   1184\u001b[0m                 \u001b[0;32mreturn\u001b[0m \u001b[0mmodules\u001b[0m\u001b[0;34m[\u001b[0m\u001b[0mname\u001b[0m\u001b[0;34m]\u001b[0m\u001b[0;34m\u001b[0m\u001b[0;34m\u001b[0m\u001b[0m\n\u001b[1;32m   1185\u001b[0m         raise AttributeError(\"'{}' object has no attribute '{}'\".format(\n\u001b[0;32m-> 1186\u001b[0;31m             type(self).__name__, name))\n\u001b[0m\u001b[1;32m   1187\u001b[0m \u001b[0;34m\u001b[0m\u001b[0m\n\u001b[1;32m   1188\u001b[0m     \u001b[0;32mdef\u001b[0m \u001b[0m__setattr__\u001b[0m\u001b[0;34m(\u001b[0m\u001b[0mself\u001b[0m\u001b[0;34m,\u001b[0m \u001b[0mname\u001b[0m\u001b[0;34m:\u001b[0m \u001b[0mstr\u001b[0m\u001b[0;34m,\u001b[0m \u001b[0mvalue\u001b[0m\u001b[0;34m:\u001b[0m \u001b[0mUnion\u001b[0m\u001b[0;34m[\u001b[0m\u001b[0mTensor\u001b[0m\u001b[0;34m,\u001b[0m \u001b[0;34m'Module'\u001b[0m\u001b[0;34m]\u001b[0m\u001b[0;34m)\u001b[0m \u001b[0;34m->\u001b[0m \u001b[0;32mNone\u001b[0m\u001b[0;34m:\u001b[0m\u001b[0;34m\u001b[0m\u001b[0;34m\u001b[0m\u001b[0m\n",
      "\u001b[0;31mAttributeError\u001b[0m: 'Accuracy' object has no attribute 'pred'"
     ]
    }
   ],
   "source": [
    "all_preds = torch.concat(model.metric.pred)\n",
    "all_targets = torch.concat(model.metric.target)\n",
    "binary_accuracy(all_preds, all_targets)"
   ]
  },
  {
   "cell_type": "code",
   "execution_count": 271,
   "metadata": {},
   "outputs": [
    {
     "data": {
      "text/plain": [
       "tensor(0.4870)"
      ]
     },
     "execution_count": 271,
     "metadata": {},
     "output_type": "execute_result"
    }
   ],
   "source": [
    "model.metric.compute()"
   ]
  },
  {
   "cell_type": "code",
   "execution_count": 272,
   "metadata": {},
   "outputs": [
    {
     "data": {
      "text/plain": [
       "tensor(0.4870)"
      ]
     },
     "execution_count": 272,
     "metadata": {},
     "output_type": "execute_result"
    }
   ],
   "source": [
    "torch.mean(torch.Tensor(metric_vals))"
   ]
  },
  {
   "cell_type": "code",
   "execution_count": 206,
   "metadata": {},
   "outputs": [
    {
     "data": {
      "text/plain": [
       "tensor(0.5029)"
      ]
     },
     "execution_count": 206,
     "metadata": {},
     "output_type": "execute_result"
    }
   ],
   "source": [
    "model.calculate_metrics(probs, y)"
   ]
  },
  {
   "cell_type": "code",
   "execution_count": 136,
   "metadata": {},
   "outputs": [
    {
     "data": {
      "text/plain": [
       "tensor(0.4725)"
      ]
     },
     "execution_count": 136,
     "metadata": {},
     "output_type": "execute_result"
    }
   ],
   "source": []
  },
  {
   "cell_type": "code",
   "execution_count": 28,
   "metadata": {},
   "outputs": [
    {
     "data": {
      "text/plain": [
       "(torch.Size([10, 4, 100]), torch.Size([10, 1]))"
      ]
     },
     "execution_count": 28,
     "metadata": {},
     "output_type": "execute_result"
    }
   ],
   "source": [
    "batch[1].shape, batch[3].shape"
   ]
  },
  {
   "cell_type": "code",
   "execution_count": 32,
   "metadata": {},
   "outputs": [
    {
     "name": "stdout",
     "output_type": "stream",
     "text": [
      "tensor(0.2946, grad_fn=<MseLossBackward0>)\n"
     ]
    },
    {
     "name": "stderr",
     "output_type": "stream",
     "text": [
      "/Users/adamklie/Desktop/EUGENe/eugene/models/base/_base_models.py:162: UserWarning: Using a target size (torch.Size([10, 1])) that is different to the input size (torch.Size([10])). This will likely lead to incorrect results due to broadcasting. Please ensure they have the same size.\n",
      "  loss = self.loss_fxn(outs, y)\n"
     ]
    },
    {
     "ename": "TypeError",
     "evalue": "log() missing 2 required positional arguments: 'name' and 'value'",
     "output_type": "error",
     "traceback": [
      "\u001b[0;31m---------------------------------------------------------------------------\u001b[0m",
      "\u001b[0;31mTypeError\u001b[0m                                 Traceback (most recent call last)",
      "\u001b[0;32m/var/folders/tm/f8q3_wcj5s98dwjv86bvq7hr0000gn/T/ipykernel_53559/855973565.py\u001b[0m in \u001b[0;36m<module>\u001b[0;34m\u001b[0m\n\u001b[0;32m----> 1\u001b[0;31m \u001b[0mmodel\u001b[0m\u001b[0;34m.\u001b[0m\u001b[0m_common_step\u001b[0m\u001b[0;34m(\u001b[0m\u001b[0mbatch\u001b[0m\u001b[0;34m=\u001b[0m\u001b[0mbatch\u001b[0m\u001b[0;34m,\u001b[0m \u001b[0mbatch_idx\u001b[0m\u001b[0;34m=\u001b[0m\u001b[0;36m0\u001b[0m\u001b[0;34m,\u001b[0m \u001b[0moptimizer_idx\u001b[0m\u001b[0;34m=\u001b[0m\u001b[0;36m0\u001b[0m\u001b[0;34m,\u001b[0m \u001b[0mstage\u001b[0m\u001b[0;34m=\u001b[0m\u001b[0;34m\"train\"\u001b[0m\u001b[0;34m)\u001b[0m\u001b[0;34m\u001b[0m\u001b[0;34m\u001b[0m\u001b[0m\n\u001b[0m",
      "\u001b[0;32m~/Desktop/EUGENe/eugene/models/base/_base_models.py\u001b[0m in \u001b[0;36m_common_step\u001b[0;34m(self, batch, batch_idx, optimizer_idx, stage)\u001b[0m\n\u001b[1;32m    168\u001b[0m             \u001b[0mrank_zero_only\u001b[0m\u001b[0;34m=\u001b[0m\u001b[0;32mTrue\u001b[0m\u001b[0;34m\u001b[0m\u001b[0;34m\u001b[0m\u001b[0m\n\u001b[1;32m    169\u001b[0m         )\n\u001b[0;32m--> 170\u001b[0;31m         \u001b[0mprint\u001b[0m\u001b[0;34m(\u001b[0m\u001b[0mself\u001b[0m\u001b[0;34m.\u001b[0m\u001b[0mlog\u001b[0m\u001b[0;34m(\u001b[0m\u001b[0;34m)\u001b[0m\u001b[0;34m)\u001b[0m\u001b[0;34m\u001b[0m\u001b[0;34m\u001b[0m\u001b[0m\n\u001b[0m\u001b[1;32m    171\u001b[0m         \u001b[0;31m# Get and log metrics\u001b[0m\u001b[0;34m\u001b[0m\u001b[0;34m\u001b[0m\u001b[0;34m\u001b[0m\u001b[0m\n\u001b[1;32m    172\u001b[0m         \u001b[0mself\u001b[0m\u001b[0;34m.\u001b[0m\u001b[0mcalculate_metrics\u001b[0m\u001b[0;34m(\u001b[0m\u001b[0mouts\u001b[0m\u001b[0;34m,\u001b[0m \u001b[0my\u001b[0m\u001b[0;34m)\u001b[0m\u001b[0;34m\u001b[0m\u001b[0;34m\u001b[0m\u001b[0m\n",
      "\u001b[0;31mTypeError\u001b[0m: log() missing 2 required positional arguments: 'name' and 'value'"
     ]
    }
   ],
   "source": [
    "model._common_step(batch=batch, batch_idx=0, optimizer_idx=0, stage=\"train\")"
   ]
  },
  {
   "cell_type": "code",
   "execution_count": 34,
   "metadata": {},
   "outputs": [
    {
     "data": {
      "text/plain": [
       "<bound method LightningModule.log_dict of CNN(\n",
       "  (metric): AUROC()\n",
       "  (conv1d_block): Conv1DBlock(\n",
       "    (layers): Sequential(\n",
       "      (0): Conv1d(4, 10, kernel_size=(5,), stride=(1,), padding=valid)\n",
       "      (1): ReLU()\n",
       "      (2): MaxPool1d(kernel_size=1, stride=1, padding=0, dilation=1, ceil_mode=False)\n",
       "      (3): Conv1d(10, 10, kernel_size=(3,), stride=(1,), padding=valid)\n",
       "      (4): ReLU()\n",
       "      (5): MaxPool1d(kernel_size=1, stride=1, padding=0, dilation=1, ceil_mode=False)\n",
       "    )\n",
       "  )\n",
       "  (dense_block): DenseBlock(\n",
       "    (layers): Sequential(\n",
       "      (0): Linear(in_features=940, out_features=1, bias=True)\n",
       "    )\n",
       "  )\n",
       ")>"
      ]
     },
     "execution_count": 34,
     "metadata": {},
     "output_type": "execute_result"
    }
   ],
   "source": [
    "model.log_dict"
   ]
  },
  {
   "cell_type": "code",
   "execution_count": 26,
   "metadata": {},
   "outputs": [
    {
     "ename": "AttributeError",
     "evalue": "'NoneType' object has no attribute 'lr_schedulers'",
     "output_type": "error",
     "traceback": [
      "\u001b[0;31m---------------------------------------------------------------------------\u001b[0m",
      "\u001b[0;31mAttributeError\u001b[0m                            Traceback (most recent call last)",
      "\u001b[0;32m/var/folders/tm/f8q3_wcj5s98dwjv86bvq7hr0000gn/T/ipykernel_55788/2235029459.py\u001b[0m in \u001b[0;36m<module>\u001b[0;34m\u001b[0m\n\u001b[0;32m----> 1\u001b[0;31m \u001b[0mmodel\u001b[0m\u001b[0;34m.\u001b[0m\u001b[0mlr_schedulers\u001b[0m\u001b[0;34m(\u001b[0m\u001b[0;34m)\u001b[0m\u001b[0;34m\u001b[0m\u001b[0;34m\u001b[0m\u001b[0m\n\u001b[0m",
      "\u001b[0;32m~/miniconda3/envs/eugene/lib/python3.7/site-packages/pytorch_lightning/core/lightning.py\u001b[0m in \u001b[0;36mlr_schedulers\u001b[0;34m(self)\u001b[0m\n\u001b[1;32m    171\u001b[0m             \u001b[0mschedulers\u001b[0m \u001b[0mwere\u001b[0m \u001b[0mreturned\u001b[0m \u001b[0;32min\u001b[0m \u001b[0;34m:\u001b[0m\u001b[0mmeth\u001b[0m\u001b[0;34m:\u001b[0m\u001b[0;31m`\u001b[0m\u001b[0mconfigure_optimizers\u001b[0m\u001b[0;31m`\u001b[0m\u001b[0;34m.\u001b[0m\u001b[0;34m\u001b[0m\u001b[0;34m\u001b[0m\u001b[0m\n\u001b[1;32m    172\u001b[0m         \"\"\"\n\u001b[0;32m--> 173\u001b[0;31m         \u001b[0;32mif\u001b[0m \u001b[0;32mnot\u001b[0m \u001b[0mself\u001b[0m\u001b[0;34m.\u001b[0m\u001b[0mtrainer\u001b[0m\u001b[0;34m.\u001b[0m\u001b[0mlr_schedulers\u001b[0m\u001b[0;34m:\u001b[0m\u001b[0;34m\u001b[0m\u001b[0;34m\u001b[0m\u001b[0m\n\u001b[0m\u001b[1;32m    174\u001b[0m             \u001b[0;32mreturn\u001b[0m \u001b[0;32mNone\u001b[0m\u001b[0;34m\u001b[0m\u001b[0;34m\u001b[0m\u001b[0m\n\u001b[1;32m    175\u001b[0m \u001b[0;34m\u001b[0m\u001b[0m\n",
      "\u001b[0;31mAttributeError\u001b[0m: 'NoneType' object has no attribute 'lr_schedulers'"
     ]
    }
   ],
   "source": [
    "model.lr_schedulers()"
   ]
  },
  {
   "cell_type": "code",
   "execution_count": 29,
   "metadata": {},
   "outputs": [
    {
     "ename": "AttributeError",
     "evalue": "'NoneType' object has no attribute 'lr_schedulers'",
     "output_type": "error",
     "traceback": [
      "\u001b[0;31m---------------------------------------------------------------------------\u001b[0m",
      "\u001b[0;31mAttributeError\u001b[0m                            Traceback (most recent call last)",
      "\u001b[0;32m/var/folders/tm/f8q3_wcj5s98dwjv86bvq7hr0000gn/T/ipykernel_55788/2235029459.py\u001b[0m in \u001b[0;36m<module>\u001b[0;34m\u001b[0m\n\u001b[0;32m----> 1\u001b[0;31m \u001b[0mmodel\u001b[0m\u001b[0;34m.\u001b[0m\u001b[0mlr_schedulers\u001b[0m\u001b[0;34m(\u001b[0m\u001b[0;34m)\u001b[0m\u001b[0;34m\u001b[0m\u001b[0;34m\u001b[0m\u001b[0m\n\u001b[0m",
      "\u001b[0;32m~/miniconda3/envs/eugene/lib/python3.7/site-packages/pytorch_lightning/core/lightning.py\u001b[0m in \u001b[0;36mlr_schedulers\u001b[0;34m(self)\u001b[0m\n\u001b[1;32m    171\u001b[0m             \u001b[0mschedulers\u001b[0m \u001b[0mwere\u001b[0m \u001b[0mreturned\u001b[0m \u001b[0;32min\u001b[0m \u001b[0;34m:\u001b[0m\u001b[0mmeth\u001b[0m\u001b[0;34m:\u001b[0m\u001b[0;31m`\u001b[0m\u001b[0mconfigure_optimizers\u001b[0m\u001b[0;31m`\u001b[0m\u001b[0;34m.\u001b[0m\u001b[0;34m\u001b[0m\u001b[0;34m\u001b[0m\u001b[0m\n\u001b[1;32m    172\u001b[0m         \"\"\"\n\u001b[0;32m--> 173\u001b[0;31m         \u001b[0;32mif\u001b[0m \u001b[0;32mnot\u001b[0m \u001b[0mself\u001b[0m\u001b[0;34m.\u001b[0m\u001b[0mtrainer\u001b[0m\u001b[0;34m.\u001b[0m\u001b[0mlr_schedulers\u001b[0m\u001b[0;34m:\u001b[0m\u001b[0;34m\u001b[0m\u001b[0;34m\u001b[0m\u001b[0m\n\u001b[0m\u001b[1;32m    174\u001b[0m             \u001b[0;32mreturn\u001b[0m \u001b[0;32mNone\u001b[0m\u001b[0;34m\u001b[0m\u001b[0;34m\u001b[0m\u001b[0m\n\u001b[1;32m    175\u001b[0m \u001b[0;34m\u001b[0m\u001b[0m\n",
      "\u001b[0;31mAttributeError\u001b[0m: 'NoneType' object has no attribute 'lr_schedulers'"
     ]
    }
   ],
   "source": [
    "model.lr_schedulers()"
   ]
  },
  {
   "cell_type": "code",
   "execution_count": null,
   "metadata": {},
   "outputs": [],
   "source": []
  }
 ],
 "metadata": {
  "kernelspec": {
   "display_name": "Python 3.7.12 ('eugene')",
   "language": "python",
   "name": "python3"
  },
  "language_info": {
   "codemirror_mode": {
    "name": "ipython",
    "version": 3
   },
   "file_extension": ".py",
   "mimetype": "text/x-python",
   "name": "python",
   "nbconvert_exporter": "python",
   "pygments_lexer": "ipython3",
   "version": "3.7.12"
  },
  "orig_nbformat": 4,
  "vscode": {
   "interpreter": {
    "hash": "7782186cff5d7e5d5e3fe0a7e6ebf1d74655b3470c460e9b06cf809b4e9601e8"
   }
  }
 },
 "nbformat": 4,
 "nbformat_minor": 2
}

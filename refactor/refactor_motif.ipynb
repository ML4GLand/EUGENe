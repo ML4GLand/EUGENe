{
 "cells": [
  {
   "cell_type": "code",
   "execution_count": 1,
   "metadata": {},
   "outputs": [],
   "source": [
    "if 'autoreload' not in get_ipython().extension_manager.loaded:\n",
    "    %load_ext autoreload\n",
    "%autoreload 2"
   ]
  },
  {
   "cell_type": "markdown",
   "metadata": {},
   "source": [
    "# Explore"
   ]
  },
  {
   "attachments": {},
   "cell_type": "markdown",
   "metadata": {},
   "source": [
    "## Biopython"
   ]
  },
  {
   "cell_type": "code",
   "execution_count": 3,
   "metadata": {},
   "outputs": [],
   "source": [
    "from Bio import motifs "
   ]
  },
  {
   "cell_type": "code",
   "execution_count": 3,
   "metadata": {},
   "outputs": [
    {
     "name": "stdout",
     "output_type": "stream",
     "text": [
      "AGCT\n",
      "TCGA\n",
      "AACT\n",
      "\n"
     ]
    }
   ],
   "source": [
    "from Bio.Seq import Seq \n",
    "DNA_motif = [Seq(\"AGCT\"), Seq(\"TCGA\"), Seq(\"AACT\")] \n",
    "seq = motifs.create(DNA_motif) \n",
    "print(seq)"
   ]
  },
  {
   "cell_type": "code",
   "execution_count": 4,
   "metadata": {},
   "outputs": [
    {
     "data": {
      "text/plain": [
       "{'A': [2, 1, 0, 1], 'C': [0, 1, 2, 0], 'G': [0, 1, 1, 0], 'T': [1, 0, 0, 2]}"
      ]
     },
     "execution_count": 4,
     "metadata": {},
     "output_type": "execute_result"
    }
   ],
   "source": [
    "seq.counts"
   ]
  },
  {
   "cell_type": "code",
   "execution_count": 12,
   "metadata": {},
   "outputs": [
    {
     "data": {
      "text/plain": [
       "{'A': (0.6666666666666666, 0.3333333333333333, 0.0, 0.3333333333333333),\n",
       " 'C': (0.0, 0.3333333333333333, 0.6666666666666666, 0.0),\n",
       " 'G': (0.0, 0.3333333333333333, 0.3333333333333333, 0.0),\n",
       " 'T': (0.3333333333333333, 0.0, 0.0, 0.6666666666666666)}"
      ]
     },
     "execution_count": 12,
     "metadata": {},
     "output_type": "execute_result"
    }
   ],
   "source": [
    "seq.pwm"
   ]
  },
  {
   "cell_type": "code",
   "execution_count": 13,
   "metadata": {},
   "outputs": [
    {
     "data": {
      "text/plain": [
       "Seq('AACT')"
      ]
     },
     "execution_count": 13,
     "metadata": {},
     "output_type": "execute_result"
    }
   ],
   "source": [
    "seq.consensus"
   ]
  },
  {
   "cell_type": "code",
   "execution_count": 14,
   "metadata": {},
   "outputs": [
    {
     "data": {
      "text/plain": [
       "Seq('CTAC')"
      ]
     },
     "execution_count": 14,
     "metadata": {},
     "output_type": "execute_result"
    }
   ],
   "source": [
    "seq.anticonsensus"
   ]
  },
  {
   "cell_type": "code",
   "execution_count": 18,
   "metadata": {},
   "outputs": [
    {
     "data": {
      "text/plain": [
       "<Bio.motifs.Motif at 0x7f8cc320a990>"
      ]
     },
     "execution_count": 18,
     "metadata": {},
     "output_type": "execute_result"
    }
   ],
   "source": [
    "seq.reverse_complement()"
   ]
  },
  {
   "cell_type": "code",
   "execution_count": 19,
   "metadata": {},
   "outputs": [
    {
     "data": {
      "text/plain": [
       "[Seq('AGCT'), Seq('TCGA'), Seq('AACT')]"
      ]
     },
     "execution_count": 19,
     "metadata": {},
     "output_type": "execute_result"
    }
   ],
   "source": [
    "seq.instances"
   ]
  },
  {
   "cell_type": "code",
   "execution_count": 20,
   "metadata": {},
   "outputs": [
    {
     "data": {
      "text/plain": [
       "{'A': [1.4150374992788437, 0.4150374992788437, -inf, 0.4150374992788437],\n",
       " 'C': [-inf, 0.4150374992788437, 1.4150374992788437, -inf],\n",
       " 'G': [-inf, 0.4150374992788437, 0.4150374992788437, -inf],\n",
       " 'T': [0.4150374992788437, -inf, -inf, 1.4150374992788437]}"
      ]
     },
     "execution_count": 20,
     "metadata": {},
     "output_type": "execute_result"
    }
   ],
   "source": [
    "seq.pssm"
   ]
  },
  {
   "cell_type": "code",
   "execution_count": 23,
   "metadata": {},
   "outputs": [
    {
     "name": "stderr",
     "output_type": "stream",
     "text": [
      "/Users/adamklie/miniconda3/envs/eugene/lib/python3.7/site-packages/Bio/motifs/__init__.py:610: BiopythonDeprecationWarning: Motif.format has been deprecated, and we intend to remove it in a future release of Biopython. Instead of motif.format(format_spec), please use format(motif, format_spec).\n",
      "  BiopythonDeprecationWarning,\n"
     ]
    }
   ],
   "source": [
    "seq.weblogo(\"test.logo\")"
   ]
  },
  {
   "cell_type": "code",
   "execution_count": 7,
   "metadata": {},
   "outputs": [],
   "source": [
    "with open(\"../eugene/dataload/motif/resources/sample.sites\") as handle: \n",
    "    data = motifs.read(handle,\"sites\") "
   ]
  },
  {
   "cell_type": "code",
   "execution_count": 9,
   "metadata": {},
   "outputs": [
    {
     "name": "stdout",
     "output_type": "stream",
     "text": [
      "TF name\tNone\n",
      "Matrix ID\tNone\n",
      "Matrix:\n",
      "        0      1      2      3      4      5\n",
      "A:   2.00   5.00   0.00   0.00   0.00   1.00\n",
      "C:   3.00   0.00   5.00   0.00   0.00   0.00\n",
      "G:   0.00   1.00   1.00   6.00   0.00   5.00\n",
      "T:   1.00   0.00   0.00   0.00   6.00   0.00\n",
      "\n",
      "\n",
      "\n"
     ]
    }
   ],
   "source": [
    "print(data)"
   ]
  },
  {
   "attachments": {},
   "cell_type": "markdown",
   "metadata": {},
   "source": [
    "## PyJaspar"
   ]
  },
  {
   "cell_type": "code",
   "execution_count": 11,
   "metadata": {},
   "outputs": [],
   "source": [
    "from pyjaspar import jaspardb"
   ]
  },
  {
   "cell_type": "code",
   "execution_count": 65,
   "metadata": {},
   "outputs": [],
   "source": [
    "from eugene.dataload.motif._io import get_motifs_pyjaspar"
   ]
  },
  {
   "cell_type": "code",
   "execution_count": 74,
   "metadata": {},
   "outputs": [],
   "source": [
    "motifs = get_motifs_pyjaspar(collection=\"CORE\", release=\"JASPAR2018\")"
   ]
  },
  {
   "cell_type": "code",
   "execution_count": 81,
   "metadata": {},
   "outputs": [
    {
     "name": "stdout",
     "output_type": "stream",
     "text": [
      "\u001b[0;31mType:\u001b[0m        module\n",
      "\u001b[0;31mString form:\u001b[0m <module 'Bio.motifs' from '/Users/adamklie/miniconda3/envs/eugene/lib/python3.7/site-packages/Bio/motifs/__init__.py'>\n",
      "\u001b[0;31mFile:\u001b[0m        ~/miniconda3/envs/eugene/lib/python3.7/site-packages/Bio/motifs/__init__.py\n",
      "\u001b[0;31mDocstring:\u001b[0m  \n",
      "Tools for sequence motif analysis.\n",
      "\n",
      "Bio.motifs contains the core Motif class containing various I/O methods\n",
      "as well as methods for motif comparisons and motif searching in sequences.\n",
      "It also includes functionality for parsing output from the AlignACE, MEME,\n",
      "and MAST programs, as well as files in the TRANSFAC format.\n"
     ]
    }
   ],
   "source": [
    "motifs?"
   ]
  },
  {
   "cell_type": "code",
   "execution_count": 80,
   "metadata": {},
   "outputs": [
    {
     "name": "stdout",
     "output_type": "stream",
     "text": [
      "\u001b[0;31mInit signature:\u001b[0m\n",
      "\u001b[0mmotifs\u001b[0m\u001b[0;34m.\u001b[0m\u001b[0mjaspar\u001b[0m\u001b[0;34m.\u001b[0m\u001b[0mMotif\u001b[0m\u001b[0;34m(\u001b[0m\u001b[0;34m\u001b[0m\n",
      "\u001b[0;34m\u001b[0m    \u001b[0mmatrix_id\u001b[0m\u001b[0;34m,\u001b[0m\u001b[0;34m\u001b[0m\n",
      "\u001b[0;34m\u001b[0m    \u001b[0mname\u001b[0m\u001b[0;34m,\u001b[0m\u001b[0;34m\u001b[0m\n",
      "\u001b[0;34m\u001b[0m    \u001b[0malphabet\u001b[0m\u001b[0;34m=\u001b[0m\u001b[0;34m'ACGT'\u001b[0m\u001b[0;34m,\u001b[0m\u001b[0;34m\u001b[0m\n",
      "\u001b[0;34m\u001b[0m    \u001b[0minstances\u001b[0m\u001b[0;34m=\u001b[0m\u001b[0;32mNone\u001b[0m\u001b[0;34m,\u001b[0m\u001b[0;34m\u001b[0m\n",
      "\u001b[0;34m\u001b[0m    \u001b[0mcounts\u001b[0m\u001b[0;34m=\u001b[0m\u001b[0;32mNone\u001b[0m\u001b[0;34m,\u001b[0m\u001b[0;34m\u001b[0m\n",
      "\u001b[0;34m\u001b[0m    \u001b[0mcollection\u001b[0m\u001b[0;34m=\u001b[0m\u001b[0;32mNone\u001b[0m\u001b[0;34m,\u001b[0m\u001b[0;34m\u001b[0m\n",
      "\u001b[0;34m\u001b[0m    \u001b[0mtf_class\u001b[0m\u001b[0;34m=\u001b[0m\u001b[0;32mNone\u001b[0m\u001b[0;34m,\u001b[0m\u001b[0;34m\u001b[0m\n",
      "\u001b[0;34m\u001b[0m    \u001b[0mtf_family\u001b[0m\u001b[0;34m=\u001b[0m\u001b[0;32mNone\u001b[0m\u001b[0;34m,\u001b[0m\u001b[0;34m\u001b[0m\n",
      "\u001b[0;34m\u001b[0m    \u001b[0mspecies\u001b[0m\u001b[0;34m=\u001b[0m\u001b[0;32mNone\u001b[0m\u001b[0;34m,\u001b[0m\u001b[0;34m\u001b[0m\n",
      "\u001b[0;34m\u001b[0m    \u001b[0mtax_group\u001b[0m\u001b[0;34m=\u001b[0m\u001b[0;32mNone\u001b[0m\u001b[0;34m,\u001b[0m\u001b[0;34m\u001b[0m\n",
      "\u001b[0;34m\u001b[0m    \u001b[0macc\u001b[0m\u001b[0;34m=\u001b[0m\u001b[0;32mNone\u001b[0m\u001b[0;34m,\u001b[0m\u001b[0;34m\u001b[0m\n",
      "\u001b[0;34m\u001b[0m    \u001b[0mdata_type\u001b[0m\u001b[0;34m=\u001b[0m\u001b[0;32mNone\u001b[0m\u001b[0;34m,\u001b[0m\u001b[0;34m\u001b[0m\n",
      "\u001b[0;34m\u001b[0m    \u001b[0mmedline\u001b[0m\u001b[0;34m=\u001b[0m\u001b[0;32mNone\u001b[0m\u001b[0;34m,\u001b[0m\u001b[0;34m\u001b[0m\n",
      "\u001b[0;34m\u001b[0m    \u001b[0mpazar_id\u001b[0m\u001b[0;34m=\u001b[0m\u001b[0;32mNone\u001b[0m\u001b[0;34m,\u001b[0m\u001b[0;34m\u001b[0m\n",
      "\u001b[0;34m\u001b[0m    \u001b[0mcomment\u001b[0m\u001b[0;34m=\u001b[0m\u001b[0;32mNone\u001b[0m\u001b[0;34m,\u001b[0m\u001b[0;34m\u001b[0m\n",
      "\u001b[0;34m\u001b[0m\u001b[0;34m)\u001b[0m\u001b[0;34m\u001b[0m\u001b[0;34m\u001b[0m\u001b[0m\n",
      "\u001b[0;31mDocstring:\u001b[0m     \n",
      "A subclass of Bio.motifs.Motif used to represent a JASPAR profile.\n",
      "\n",
      "Additional metadata information are stored if available. The metadata\n",
      "availability depends on the source of the JASPAR motif (a 'pfm' format\n",
      "file, a 'jaspar' format file or a JASPAR database).\n",
      "\u001b[0;31mInit docstring:\u001b[0m Construct a JASPAR Motif instance.\n",
      "\u001b[0;31mFile:\u001b[0m           ~/miniconda3/envs/eugene/lib/python3.7/site-packages/Bio/motifs/jaspar/__init__.py\n",
      "\u001b[0;31mType:\u001b[0m           type\n",
      "\u001b[0;31mSubclasses:\u001b[0m     \n"
     ]
    }
   ],
   "source": [
    "motifs.jaspar.Motif?"
   ]
  },
  {
   "cell_type": "code",
   "execution_count": 45,
   "metadata": {},
   "outputs": [],
   "source": [
    "motif = motifs[0]"
   ]
  },
  {
   "cell_type": "code",
   "execution_count": 42,
   "metadata": {},
   "outputs": [
    {
     "data": {
      "text/plain": [
       "{'A': (0.09529025191675794,\n",
       "  0.1829134720700986,\n",
       "  0.307776560788609,\n",
       "  0.06133625410733844,\n",
       "  0.008762322015334063,\n",
       "  0.8148959474260679,\n",
       "  0.04381161007667032,\n",
       "  0.11732456140350878,\n",
       "  0.9331140350877193,\n",
       "  0.005488474204171241,\n",
       "  0.36553238199780463,\n",
       "  0.059275521405049394,\n",
       "  0.013186813186813187,\n",
       "  0.06153846153846154,\n",
       "  0.11441144114411442,\n",
       "  0.40924092409240925,\n",
       "  0.09030837004405286,\n",
       "  0.1288546255506608,\n",
       "  0.44273127753303965),\n",
       " 'C': (0.3187294633077766,\n",
       "  0.1588170865279299,\n",
       "  0.05366922234392114,\n",
       "  0.8762322015334063,\n",
       "  0.9890470974808324,\n",
       "  0.014238773274917854,\n",
       "  0.5783132530120482,\n",
       "  0.47478070175438597,\n",
       "  0.01206140350877193,\n",
       "  0.0,\n",
       "  0.003293084522502744,\n",
       "  0.013172338090010977,\n",
       "  0.0,\n",
       "  0.008791208791208791,\n",
       "  0.8063806380638063,\n",
       "  0.014301430143014302,\n",
       "  0.5308370044052864,\n",
       "  0.35462555066079293,\n",
       "  0.19933920704845814),\n",
       " 'G': (0.0832420591456736,\n",
       "  0.4534501642935378,\n",
       "  0.49178532311062434,\n",
       "  0.023001095290251915,\n",
       "  0.0,\n",
       "  0.07119386637458927,\n",
       "  0.3658269441401972,\n",
       "  0.05263157894736842,\n",
       "  0.03508771929824561,\n",
       "  0.991218441273326,\n",
       "  0.6212952799121844,\n",
       "  0.5532381997804611,\n",
       "  0.978021978021978,\n",
       "  0.8516483516483516,\n",
       "  0.005500550055005501,\n",
       "  0.5577557755775577,\n",
       "  0.3381057268722467,\n",
       "  0.08039647577092511,\n",
       "  0.29295154185022027),\n",
       " 'T': (0.5027382256297919,\n",
       "  0.20481927710843373,\n",
       "  0.14676889375684557,\n",
       "  0.03943044906900329,\n",
       "  0.002190580503833516,\n",
       "  0.09967141292442497,\n",
       "  0.012048192771084338,\n",
       "  0.35526315789473684,\n",
       "  0.019736842105263157,\n",
       "  0.003293084522502744,\n",
       "  0.009879253567508232,\n",
       "  0.3743139407244786,\n",
       "  0.008791208791208791,\n",
       "  0.07802197802197802,\n",
       "  0.0737073707370737,\n",
       "  0.0187018701870187,\n",
       "  0.040748898678414094,\n",
       "  0.43612334801762115,\n",
       "  0.06497797356828194)}"
      ]
     },
     "execution_count": 42,
     "metadata": {},
     "output_type": "execute_result"
    }
   ],
   "source": [
    "motif.pwm"
   ]
  },
  {
   "attachments": {},
   "cell_type": "markdown",
   "metadata": {},
   "source": [
    "## Pymemesuite"
   ]
  },
  {
   "cell_type": "code",
   "execution_count": 82,
   "metadata": {},
   "outputs": [],
   "source": [
    "from pymemesuite.common import MotifFile"
   ]
  },
  {
   "cell_type": "code",
   "execution_count": 83,
   "metadata": {},
   "outputs": [],
   "source": [
    "from eugene.dataload.motif._io import load_meme_pymemesuite"
   ]
  },
  {
   "cell_type": "code",
   "execution_count": 86,
   "metadata": {},
   "outputs": [],
   "source": [
    "mot = load_meme_pymemesuite(\"../eugene/dataload/motif/resources/CPEs.meme\")"
   ]
  },
  {
   "cell_type": "code",
   "execution_count": 91,
   "metadata": {},
   "outputs": [],
   "source": [
    "one = mot[0][0]"
   ]
  },
  {
   "cell_type": "code",
   "execution_count": 102,
   "metadata": {},
   "outputs": [
    {
     "data": {
      "text/plain": [
       "<pymemesuite.common.Motif at 0x7f8ccb936780>"
      ]
     },
     "execution_count": 102,
     "metadata": {},
     "output_type": "execute_result"
    }
   ],
   "source": [
    "one"
   ]
  },
  {
   "cell_type": "code",
   "execution_count": 94,
   "metadata": {},
   "outputs": [],
   "source": [
    "test = one.frequencies"
   ]
  },
  {
   "cell_type": "code",
   "execution_count": 101,
   "metadata": {},
   "outputs": [
    {
     "data": {
      "text/plain": [
       "pymemesuite.common.Array([0.1574698456407955, 0.39823201677801773, 0.1989122543297929, 0.24538588325139368])"
      ]
     },
     "execution_count": 101,
     "metadata": {},
     "output_type": "execute_result"
    }
   ],
   "source": [
    "test[1]"
   ]
  },
  {
   "attachments": {},
   "cell_type": "markdown",
   "metadata": {},
   "source": [
    "## EUGENe Motif"
   ]
  },
  {
   "cell_type": "code",
   "execution_count": 2,
   "metadata": {},
   "outputs": [
    {
     "name": "stderr",
     "output_type": "stream",
     "text": [
      "Global seed set to 13\n",
      "2023-01-03 20:44:46.285091: I tensorflow/core/platform/cpu_feature_guard.cc:193] This TensorFlow binary is optimized with oneAPI Deep Neural Network Library (oneDNN) to use the following CPU instructions in performance-critical operations:  AVX2 FMA\n",
      "To enable them in other operations, rebuild TensorFlow with the appropriate compiler flags.\n",
      "Fontconfig warning: ignoring UTF-8: not a valid region tag\n"
     ]
    }
   ],
   "source": [
    "import numpy as np\n",
    "from eugene.dataload.motif._Motif import Motif, MotifSet"
   ]
  },
  {
   "attachments": {},
   "cell_type": "markdown",
   "metadata": {},
   "source": [
    "### From `MEME` file"
   ]
  },
  {
   "cell_type": "code",
   "execution_count": 3,
   "metadata": {},
   "outputs": [],
   "source": [
    "from eugene.dataload.motif._io import read_meme"
   ]
  },
  {
   "cell_type": "code",
   "execution_count": 4,
   "metadata": {},
   "outputs": [],
   "source": [
    "motif_set = read_meme(\"../eugene/dataload/motif/resources/CPEs.meme\")"
   ]
  },
  {
   "cell_type": "code",
   "execution_count": 5,
   "metadata": {},
   "outputs": [
    {
     "data": {
      "text/plain": [
       "array([[0.1275, 0.3765, 0.1195, 0.3765],\n",
       "       [0.1575, 0.3985, 0.199 , 0.2455],\n",
       "       [0.249 , 0.303 , 0.197 , 0.251 ],\n",
       "       [0.1235, 0.655 , 0.0755, 0.1455],\n",
       "       [0.01  , 0.002 , 0.002 , 0.986 ],\n",
       "       [0.968 , 0.    , 0.    , 0.032 ],\n",
       "       [0.002 , 0.014 , 0.006 , 0.978 ],\n",
       "       [0.992 , 0.    , 0.002 , 0.006 ],\n",
       "       [0.653 , 0.012 , 0.002 , 0.333 ],\n",
       "       [0.974 , 0.    , 0.008 , 0.018 ],\n",
       "       [0.341 , 0.028 , 0.036 , 0.5955],\n",
       "       [0.6955, 0.0815, 0.1195, 0.1035],\n",
       "       [0.1255, 0.432 , 0.3165, 0.1255],\n",
       "       [0.291 , 0.418 , 0.175 , 0.1155],\n",
       "       [0.263 , 0.3445, 0.1755, 0.2175],\n",
       "       [0.307 , 0.3085, 0.2365, 0.1475]])"
      ]
     },
     "execution_count": 5,
     "metadata": {},
     "output_type": "execute_result"
    }
   ],
   "source": [
    "motif_set[\"TATA\"].pfm"
   ]
  },
  {
   "attachments": {},
   "cell_type": "markdown",
   "metadata": {},
   "source": [
    "### From BioPython motifs"
   ]
  },
  {
   "cell_type": "code",
   "execution_count": 7,
   "metadata": {},
   "outputs": [],
   "source": [
    "from eugene.dataload.motif._io import _load_jaspar\n",
    "from eugene.dataload.motif._convert import _from_biopython"
   ]
  },
  {
   "cell_type": "code",
   "execution_count": 8,
   "metadata": {},
   "outputs": [],
   "source": [
    "motifs = _load_jaspar(collection=\"CORE\", release=\"JASPAR2018\")"
   ]
  },
  {
   "cell_type": "code",
   "execution_count": 9,
   "metadata": {},
   "outputs": [
    {
     "data": {
      "text/plain": [
       "1404"
      ]
     },
     "execution_count": 9,
     "metadata": {},
     "output_type": "execute_result"
    }
   ],
   "source": [
    "len(motifs)"
   ]
  },
  {
   "cell_type": "code",
   "execution_count": 10,
   "metadata": {},
   "outputs": [],
   "source": [
    "motif_set = _from_biopython(motifs)"
   ]
  },
  {
   "cell_type": "code",
   "execution_count": 11,
   "metadata": {},
   "outputs": [
    {
     "data": {
      "text/plain": [
       "(6, 4)"
      ]
     },
     "execution_count": 11,
     "metadata": {},
     "output_type": "execute_result"
    }
   ],
   "source": [
    "motif_set[\"P53762\"].pfm.shape"
   ]
  },
  {
   "cell_type": "code",
   "execution_count": 13,
   "metadata": {},
   "outputs": [],
   "source": [
    "from eugene.dataload.motif._io import load_jaspar"
   ]
  },
  {
   "cell_type": "code",
   "execution_count": 15,
   "metadata": {},
   "outputs": [
    {
     "data": {
      "text/plain": [
       "Motif with 1787 motifs"
      ]
     },
     "execution_count": 15,
     "metadata": {},
     "output_type": "execute_result"
    }
   ],
   "source": [
    "load_jaspar(collection=\"CORE\", release=\"JASPAR2022\")"
   ]
  },
  {
   "attachments": {},
   "cell_type": "markdown",
   "metadata": {},
   "source": [
    "### From PyMemeSuite motifs"
   ]
  },
  {
   "cell_type": "code",
   "execution_count": 16,
   "metadata": {},
   "outputs": [],
   "source": [
    "from eugene.dataload.motif._io import _read_meme\n",
    "from eugene.dataload.motif._convert import _from_pymemesuite"
   ]
  },
  {
   "cell_type": "code",
   "execution_count": 17,
   "metadata": {},
   "outputs": [],
   "source": [
    "motifs, bg = _read_meme(\"../eugene/dataload/motif/resources/CPEs.meme\")"
   ]
  },
  {
   "cell_type": "code",
   "execution_count": 19,
   "metadata": {},
   "outputs": [
    {
     "data": {
      "text/plain": [
       "([<pymemesuite.common.Motif at 0x7fdaa5ed7f50>,\n",
       "  <pymemesuite.common.Motif at 0x7fdaa5ed7190>,\n",
       "  <pymemesuite.common.Motif at 0x7fdaa5ed71e0>,\n",
       "  <pymemesuite.common.Motif at 0x7fdaa5ed70f0>,\n",
       "  <pymemesuite.common.Motif at 0x7fdaa5ed7140>,\n",
       "  <pymemesuite.common.Motif at 0x7fdaa5ed7be0>],\n",
       " pymemesuite.common.Array([0.2817739364521271, 0.22202005595988805, 0.22887604224791547, 0.2673299653400693]))"
      ]
     },
     "execution_count": 19,
     "metadata": {},
     "output_type": "execute_result"
    }
   ],
   "source": [
    "motifs, bg"
   ]
  },
  {
   "cell_type": "code",
   "execution_count": 20,
   "metadata": {},
   "outputs": [],
   "source": [
    "motif_set = _from_pymemesuite(motifs)"
   ]
  },
  {
   "cell_type": "code",
   "execution_count": 21,
   "metadata": {},
   "outputs": [
    {
     "data": {
      "text/plain": [
       "(16, 4)"
      ]
     },
     "execution_count": 21,
     "metadata": {},
     "output_type": "execute_result"
    }
   ],
   "source": [
    "motif_set[\"TATA\"].pfm.shape"
   ]
  },
  {
   "cell_type": "code",
   "execution_count": 22,
   "metadata": {},
   "outputs": [
    {
     "data": {
      "text/plain": [
       "array([[1.27560240e-01, 3.76439680e-01, 1.19542708e-01, 3.76457372e-01],\n",
       "       [1.57469846e-01, 3.98232017e-01, 1.98912254e-01, 2.45385883e-01],\n",
       "       [2.49012797e-01, 3.02968380e-01, 1.97012447e-01, 2.51006376e-01],\n",
       "       [1.23623558e-01, 6.55158469e-01, 7.55976433e-02, 1.45620329e-01],\n",
       "       [1.01061202e-02, 2.08591178e-03, 2.08858885e-03, 9.85719379e-01],\n",
       "       [9.67732048e-01, 8.66927200e-05, 8.93697939e-05, 3.20918899e-02],\n",
       "       [2.10924402e-03, 1.40812261e-02, 6.08702696e-03, 9.77722503e-01],\n",
       "       [9.91722676e-01, 8.66927200e-05, 2.08858885e-03, 6.10204216e-03],\n",
       "       [6.52855046e-01, 1.20820071e-02, 2.08858885e-03, 3.32974358e-01],\n",
       "       [9.73729705e-01, 8.66927200e-05, 8.08624601e-03, 1.80973565e-02],\n",
       "       [3.40806526e-01, 2.80617720e-02, 3.60573288e-02, 5.95074374e-01],\n",
       "       [6.95338451e-01, 8.15548692e-02, 1.19542708e-01, 1.03563971e-01],\n",
       "       [1.25623778e-01, 4.32134032e-01, 3.16624053e-01, 1.25618138e-01],\n",
       "       [2.91141913e-01, 4.18132498e-01, 1.75108547e-01, 1.15617042e-01],\n",
       "       [2.62875948e-01, 3.44280078e-01, 1.75433170e-01, 2.17410804e-01],\n",
       "       [3.07143667e-01, 3.08620499e-01, 2.36615286e-01, 1.47620548e-01]])"
      ]
     },
     "execution_count": 22,
     "metadata": {},
     "output_type": "execute_result"
    }
   ],
   "source": [
    "motif_set[\"TATA\"].pfm"
   ]
  },
  {
   "attachments": {},
   "cell_type": "markdown",
   "metadata": {},
   "source": [
    "### From PFM/Motif files"
   ]
  },
  {
   "cell_type": "code",
   "execution_count": 23,
   "metadata": {},
   "outputs": [],
   "source": [
    "#filename = \"../eugene/dataload/motif/resources/known.motifs\"\n",
    "filename = \"../eugene/dataload/motif/resources/MA0037.3.pfm\""
   ]
  },
  {
   "cell_type": "code",
   "execution_count": 24,
   "metadata": {},
   "outputs": [],
   "source": [
    "from eugene.preprocess import decode_seq\n",
    "from eugene.preprocess._utils import _token2one_hot"
   ]
  },
  {
   "cell_type": "code",
   "execution_count": 25,
   "metadata": {},
   "outputs": [],
   "source": [
    "from eugene.dataload.motif._io import read_motifs"
   ]
  },
  {
   "cell_type": "code",
   "execution_count": 26,
   "metadata": {},
   "outputs": [],
   "source": [
    "motif_set = read_motifs(\"../eugene/dataload/motif/resources/MA0037.3.pfm\", counts=True)"
   ]
  },
  {
   "cell_type": "code",
   "execution_count": 27,
   "metadata": {},
   "outputs": [],
   "source": [
    "pfm = motif_set.motifs[\">MA0037.3\"].pfm"
   ]
  },
  {
   "cell_type": "code",
   "execution_count": 30,
   "metadata": {},
   "outputs": [
    {
     "data": {
      "text/plain": [
       "(8, 4)"
      ]
     },
     "execution_count": 30,
     "metadata": {},
     "output_type": "execute_result"
    }
   ],
   "source": [
    "pfm.shape"
   ]
  },
  {
   "attachments": {},
   "cell_type": "markdown",
   "metadata": {},
   "source": [
    "### To kernels"
   ]
  },
  {
   "cell_type": "code",
   "execution_count": 31,
   "metadata": {},
   "outputs": [],
   "source": [
    "from eugene.dataload.motif._convert import _to_array"
   ]
  },
  {
   "cell_type": "code",
   "execution_count": 32,
   "metadata": {},
   "outputs": [],
   "source": [
    "motifs = read_meme(\"../eugene/dataload/motif/resources/CPEs.meme\")"
   ]
  },
  {
   "cell_type": "code",
   "execution_count": 50,
   "metadata": {},
   "outputs": [],
   "source": [
    "tensor = _to_array(\n",
    "    size=(10, 4, 16),\n",
    "    motifs=motifs,\n",
    "    convert_to_pwm=False\n",
    ")"
   ]
  },
  {
   "cell_type": "code",
   "execution_count": 51,
   "metadata": {},
   "outputs": [
    {
     "data": {
      "text/plain": [
       "tensor([[0.1275, 0.3765, 0.1195, 0.3765],\n",
       "        [0.1575, 0.3985, 0.1990, 0.2455],\n",
       "        [0.2490, 0.3030, 0.1970, 0.2510],\n",
       "        [0.1235, 0.6550, 0.0755, 0.1455],\n",
       "        [0.0100, 0.0020, 0.0020, 0.9860],\n",
       "        [0.9680, 0.0000, 0.0000, 0.0320],\n",
       "        [0.0020, 0.0140, 0.0060, 0.9780],\n",
       "        [0.9920, 0.0000, 0.0020, 0.0060],\n",
       "        [0.6530, 0.0120, 0.0020, 0.3330],\n",
       "        [0.9740, 0.0000, 0.0080, 0.0180],\n",
       "        [0.3410, 0.0280, 0.0360, 0.5955],\n",
       "        [0.6955, 0.0815, 0.1195, 0.1035],\n",
       "        [0.1255, 0.4320, 0.3165, 0.1255],\n",
       "        [0.2910, 0.4180, 0.1750, 0.1155],\n",
       "        [0.2630, 0.3445, 0.1755, 0.2175],\n",
       "        [0.3070, 0.3085, 0.2365, 0.1475]])"
      ]
     },
     "execution_count": 51,
     "metadata": {},
     "output_type": "execute_result"
    }
   ],
   "source": [
    "tensor[0].transpose(1, 0)"
   ]
  },
  {
   "attachments": {},
   "cell_type": "markdown",
   "metadata": {},
   "source": [
    "### To `MEME` file"
   ]
  },
  {
   "attachments": {},
   "cell_type": "markdown",
   "metadata": {},
   "source": [
    "To PFM/motifs files"
   ]
  },
  {
   "attachments": {},
   "cell_type": "markdown",
   "metadata": {},
   "source": [
    "# Models convs"
   ]
  },
  {
   "cell_type": "code",
   "execution_count": 201,
   "metadata": {},
   "outputs": [
    {
     "name": "stderr",
     "output_type": "stream",
     "text": [
      "2022-12-20 19:05:35.855539: I tensorflow/core/platform/cpu_feature_guard.cc:193] This TensorFlow binary is optimized with oneAPI Deep Neural Network Library (oneDNN) to use the following CPU instructions in performance-critical operations:  AVX2 FMA\n",
      "To enable them in other operations, rebuild TensorFlow with the appropriate compiler flags.\n",
      "Fontconfig warning: ignoring UTF-8: not a valid region tag\n"
     ]
    }
   ],
   "source": [
    "from eugene.models._sequence_to_function import DeepSTARR "
   ]
  },
  {
   "cell_type": "code",
   "execution_count": 203,
   "metadata": {},
   "outputs": [
    {
     "name": "stdout",
     "output_type": "stream",
     "text": [
      "None None regression\n",
      "r2score\n",
      "{}\n",
      "R2Score()\n",
      "{'regression': {}, 'binary_classification': {'task': 'binary'}, 'multiclass_classification': {'task': 'multiclass'}, 'multilabel_classification': {'task': 'multilabel'}}\n"
     ]
    }
   ],
   "source": [
    "model = DeepSTARR(input_len=249, output_dim=2)"
   ]
  },
  {
   "cell_type": "code",
   "execution_count": 204,
   "metadata": {},
   "outputs": [
    {
     "data": {
      "text/plain": [
       "DeepSTARR(\n",
       "  (train_metric): R2Score()\n",
       "  (val_metric): R2Score()\n",
       "  (test_metric): R2Score()\n",
       "  (conv1d_tower): Conv1DTower(\n",
       "    (layers): Sequential(\n",
       "      (0): Conv1d(4, 246, kernel_size=(7,), stride=(1,), padding=same)\n",
       "      (1): BatchNorm1d(246, eps=1e-05, momentum=0.1, affine=True, track_running_stats=True)\n",
       "      (2): ReLU()\n",
       "      (3): MaxPool1d(kernel_size=2, stride=1, padding=0, dilation=1, ceil_mode=False)\n",
       "      (4): Conv1d(246, 60, kernel_size=(3,), stride=(1,), padding=same)\n",
       "      (5): BatchNorm1d(60, eps=1e-05, momentum=0.1, affine=True, track_running_stats=True)\n",
       "      (6): ReLU()\n",
       "      (7): MaxPool1d(kernel_size=2, stride=1, padding=0, dilation=1, ceil_mode=False)\n",
       "      (8): Conv1d(60, 60, kernel_size=(5,), stride=(1,), padding=same)\n",
       "      (9): BatchNorm1d(60, eps=1e-05, momentum=0.1, affine=True, track_running_stats=True)\n",
       "      (10): ReLU()\n",
       "      (11): MaxPool1d(kernel_size=2, stride=1, padding=0, dilation=1, ceil_mode=False)\n",
       "      (12): Conv1d(60, 120, kernel_size=(3,), stride=(1,), padding=same)\n",
       "      (13): BatchNorm1d(120, eps=1e-05, momentum=0.1, affine=True, track_running_stats=True)\n",
       "      (14): ReLU()\n",
       "      (15): MaxPool1d(kernel_size=2, stride=1, padding=0, dilation=1, ceil_mode=False)\n",
       "    )\n",
       "  )\n",
       "  (dense_block): DenseBlock(\n",
       "    (layers): Sequential(\n",
       "      (0): Linear(in_features=29400, out_features=256, bias=True)\n",
       "      (1): BatchNorm1d(256, eps=1e-05, momentum=0.1, affine=True, track_running_stats=True)\n",
       "      (2): ReLU()\n",
       "      (3): Dropout(p=0.4, inplace=False)\n",
       "      (4): Linear(in_features=256, out_features=256, bias=True)\n",
       "      (5): BatchNorm1d(256, eps=1e-05, momentum=0.1, affine=True, track_running_stats=True)\n",
       "      (6): ReLU()\n",
       "      (7): Dropout(p=0.4, inplace=False)\n",
       "      (8): Linear(in_features=256, out_features=2, bias=True)\n",
       "    )\n",
       "  )\n",
       ")"
      ]
     },
     "execution_count": 204,
     "metadata": {},
     "output_type": "execute_result"
    }
   ],
   "source": [
    "def get_layer(model, layer_name):\n",
    "    return [layer for layer in model.layers if layer.name == layer_name][0]"
   ]
  },
  {
   "attachments": {},
   "cell_type": "markdown",
   "metadata": {},
   "source": [
    "---"
   ]
  },
  {
   "cell_type": "markdown",
   "metadata": {},
   "source": []
  }
 ],
 "metadata": {
  "kernelspec": {
   "display_name": "eugene",
   "language": "python",
   "name": "python3"
  },
  "language_info": {
   "codemirror_mode": {
    "name": "ipython",
    "version": 3
   },
   "file_extension": ".py",
   "mimetype": "text/x-python",
   "name": "python",
   "nbconvert_exporter": "python",
   "pygments_lexer": "ipython3",
   "version": "3.7.12 | packaged by conda-forge | (default, Oct 26 2021, 05:59:23) \n[Clang 11.1.0 ]"
  },
  "orig_nbformat": 4,
  "vscode": {
   "interpreter": {
    "hash": "7782186cff5d7e5d5e3fe0a7e6ebf1d74655b3470c460e9b06cf809b4e9601e8"
   }
  }
 },
 "nbformat": 4,
 "nbformat_minor": 2
}

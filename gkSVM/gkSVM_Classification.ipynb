{
 "cells": [
  {
   "cell_type": "markdown",
   "metadata": {},
   "source": [
    "# Gapped k-mer Support Vector Machine (gkSVM) Classification\n",
    "Adam Klie \n",
    "08/02/2021\n",
    "\n",
    "Notebook to preprocess the data for, train and evaluate a gkSVM classsifier based on the implmentation in https://github.com/Dongwon-Lee/lsgkm/."
   ]
  },
  {
   "cell_type": "code",
   "execution_count": 94,
   "metadata": {
    "execution": {
     "iopub.execute_input": "2021-11-15T17:25:14.970825Z",
     "iopub.status.busy": "2021-11-15T17:25:14.970533Z",
     "iopub.status.idle": "2021-11-15T17:25:15.970632Z",
     "shell.execute_reply": "2021-11-15T17:25:15.969812Z",
     "shell.execute_reply.started": "2021-11-15T17:25:14.970794Z"
    },
    "tags": []
   },
   "outputs": [],
   "source": [
    "import matplotlib.pyplot as plt\n",
    "import numpy as np\n",
    "import pandas as pd\n",
    "import seaborn as sns\n",
    "import os\n",
    "\n",
    "# Loading webpages\n",
    "from IPython.display import IFrame\n",
    "\n",
    "# Autoreload extension\n",
    "if 'autoreload' not in get_ipython().extension_manager.loaded:\n",
    "    %load_ext autoreload\n",
    "    \n",
    "%autoreload 2"
   ]
  },
  {
   "cell_type": "code",
   "execution_count": 95,
   "metadata": {
    "execution": {
     "iopub.execute_input": "2021-11-15T17:25:15.972557Z",
     "iopub.status.busy": "2021-11-15T17:25:15.972189Z",
     "iopub.status.idle": "2021-11-15T17:25:17.023861Z",
     "shell.execute_reply": "2021-11-15T17:25:17.023156Z",
     "shell.execute_reply.started": "2021-11-15T17:25:15.972512Z"
    },
    "tags": []
   },
   "outputs": [],
   "source": [
    "import sys\n",
    "sys.path.append('/cellar/users/aklie/projects/EUGENE/bin/')\n",
    "import project_utils"
   ]
  },
  {
   "cell_type": "markdown",
   "metadata": {
    "tags": []
   },
   "source": [
    "# Define parameters of the notebook"
   ]
  },
  {
   "cell_type": "code",
   "execution_count": 140,
   "metadata": {
    "execution": {
     "iopub.execute_input": "2021-11-15T17:29:36.582706Z",
     "iopub.status.busy": "2021-11-15T17:29:36.582424Z",
     "iopub.status.idle": "2021-11-15T17:29:38.089994Z",
     "shell.execute_reply": "2021-11-15T17:29:38.089201Z",
     "shell.execute_reply.started": "2021-11-15T17:29:36.582675Z"
    },
    "tags": []
   },
   "outputs": [],
   "source": [
    "DATASET = \"2021-OLS-Library\"  # Which dataset to look at\n",
    "FEATURES = \"fasta\"  # What features to use to train the model\n",
    "LABELS = \"binary\"\n",
    "PREPROCESS = \"0.18-0.4\"  # Preprocessing steps, separated by \"-\"\n",
    "TRAIN = True\n",
    "SPLIT = 0.9\n",
    "SUBSET = False\n",
    "HYPERPARAM = \"baseline-positive-weighted\""
   ]
  },
  {
   "cell_type": "markdown",
   "metadata": {},
   "source": [
    "# Check gkSVM assumptions"
   ]
  },
  {
   "cell_type": "markdown",
   "metadata": {
    "tags": []
   },
   "source": [
    "# Train and test gkSVM model with script"
   ]
  },
  {
   "cell_type": "markdown",
   "metadata": {},
   "source": [
    "## gkSVM Training and testing"
   ]
  },
  {
   "cell_type": "code",
   "execution_count": 141,
   "metadata": {
    "execution": {
     "iopub.execute_input": "2021-11-15T17:29:38.091488Z",
     "iopub.status.busy": "2021-11-15T17:29:38.091219Z",
     "iopub.status.idle": "2021-11-15T17:29:39.294502Z",
     "shell.execute_reply": "2021-11-15T17:29:39.293567Z",
     "shell.execute_reply.started": "2021-11-15T17:29:38.091458Z"
    },
    "tags": []
   },
   "outputs": [],
   "source": [
    "#sbatch gkSVM.sh OLS.tr.fa OLS.neg.tr.fa OLS.test.fa OLS.neg.test.fa OLS"
   ]
  },
  {
   "cell_type": "code",
   "execution_count": 142,
   "metadata": {
    "execution": {
     "iopub.execute_input": "2021-11-15T17:29:39.297040Z",
     "iopub.status.busy": "2021-11-15T17:29:39.296676Z",
     "iopub.status.idle": "2021-11-15T17:29:40.644054Z",
     "shell.execute_reply": "2021-11-15T17:29:40.643306Z",
     "shell.execute_reply.started": "2021-11-15T17:29:39.296994Z"
    },
    "tags": []
   },
   "outputs": [],
   "source": [
    "#!gkmpredict OLS.tr.fa OLS.model.txt OLS.tr.predict.txt\n",
    "#!gkmpredict OLS.neg.tr.fa OLS.model.txt OLS.neg.tr.predict.txt"
   ]
  },
  {
   "cell_type": "markdown",
   "metadata": {},
   "source": [
    "## gkSVM evaluation with help from downloaded script \n",
    "https://raw.githubusercontent.com/kundajelab/lsgkm/master/scripts/lsgkm_eval.py "
   ]
  },
  {
   "cell_type": "markdown",
   "metadata": {},
   "source": [
    "**Provided script**"
   ]
  },
  {
   "cell_type": "code",
   "execution_count": 144,
   "metadata": {
    "execution": {
     "iopub.execute_input": "2021-11-15T17:29:42.134808Z",
     "iopub.status.busy": "2021-11-15T17:29:42.134581Z",
     "iopub.status.idle": "2021-11-15T17:29:43.297481Z",
     "shell.execute_reply": "2021-11-15T17:29:43.296433Z",
     "shell.execute_reply.started": "2021-11-15T17:29:42.134778Z"
    },
    "tags": []
   },
   "outputs": [],
   "source": [
    "out_dir = \"Result_{0}_{1}_gkSVM-clf_{2}\".format(PREPROCESS, FEATURES, HYPERPARAM)\n",
    "pos_tr_file = os.path.join(out_dir, \"{0}_{1}_gkSVM-clf_{2}.tr.predict.txt\".format(PREPROCESS, FEATURES, HYPERPARAM))\n",
    "neg_tr_file = os.path.join(out_dir, \"{0}_{1}_gkSVM-clf_{2}.neg.tr.predict.txt\".format(PREPROCESS, FEATURES, HYPERPARAM))\n",
    "pos_file = os.path.join(out_dir, \"{0}_{1}_gkSVM-clf_{2}.predict.txt\".format(PREPROCESS, FEATURES, HYPERPARAM))\n",
    "neg_file = os.path.join(out_dir, \"{0}_{1}_gkSVM-clf_{2}.neg.predict.txt\".format(PREPROCESS, FEATURES, HYPERPARAM))"
   ]
  },
  {
   "cell_type": "code",
   "execution_count": 145,
   "metadata": {
    "execution": {
     "iopub.execute_input": "2021-11-15T17:29:43.299518Z",
     "iopub.status.busy": "2021-11-15T17:29:43.299064Z",
     "iopub.status.idle": "2021-11-15T17:29:44.624191Z",
     "shell.execute_reply": "2021-11-15T17:29:44.623289Z",
     "shell.execute_reply.started": "2021-11-15T17:29:43.299470Z"
    },
    "tags": []
   },
   "outputs": [
    {
     "name": "stdout",
     "output_type": "stream",
     "text": [
      "Result_0.18-0.4_fasta_gkSVM-clf_baseline-positive-weighted/0.18-0.4_fasta_gkSVM-clf_baseline-positive-weighted.tr.predict.txt\n"
     ]
    }
   ],
   "source": [
    "print(pos_tr_file)"
   ]
  },
  {
   "cell_type": "code",
   "execution_count": 146,
   "metadata": {
    "execution": {
     "iopub.execute_input": "2021-11-15T17:29:44.625530Z",
     "iopub.status.busy": "2021-11-15T17:29:44.625280Z",
     "iopub.status.idle": "2021-11-15T17:29:48.030887Z",
     "shell.execute_reply": "2021-11-15T17:29:48.030009Z",
     "shell.execute_reply.started": "2021-11-15T17:29:44.625502Z"
    },
    "tags": []
   },
   "outputs": [
    {
     "name": "stdout",
     "output_type": "stream",
     "text": [
      "Metric\tValue\tRandomised\n",
      "Accuracy_at_threshold_0\t0.7663\t0.5953\n",
      "AUROC\t0.7760\t0.4985\n",
      "AUPRC\t0.6556\t0.3105\n"
     ]
    }
   ],
   "source": [
    "# Train\n",
    "project_utils.score(pos_tr_file, neg_tr_file, 0)"
   ]
  },
  {
   "cell_type": "code",
   "execution_count": 147,
   "metadata": {
    "execution": {
     "iopub.execute_input": "2021-11-15T17:29:48.032909Z",
     "iopub.status.busy": "2021-11-15T17:29:48.032680Z",
     "iopub.status.idle": "2021-11-15T17:29:49.477682Z",
     "shell.execute_reply": "2021-11-15T17:29:49.477025Z",
     "shell.execute_reply.started": "2021-11-15T17:29:48.032879Z"
    },
    "tags": []
   },
   "outputs": [
    {
     "name": "stdout",
     "output_type": "stream",
     "text": [
      "Metric\tValue\tRandomised\n",
      "Accuracy_at_threshold_0\t0.7643\t0.5965\n",
      "AUROC\t0.7748\t0.4992\n",
      "AUPRC\t0.6517\t0.3080\n"
     ]
    }
   ],
   "source": [
    "# Test\n",
    "project_utils.score(pos_file, neg_file, 0)"
   ]
  },
  {
   "cell_type": "markdown",
   "metadata": {},
   "source": [
    "**Training scores**"
   ]
  },
  {
   "cell_type": "code",
   "execution_count": 148,
   "metadata": {
    "execution": {
     "iopub.execute_input": "2021-11-15T17:29:49.479053Z",
     "iopub.status.busy": "2021-11-15T17:29:49.478833Z",
     "iopub.status.idle": "2021-11-15T17:29:51.096421Z",
     "shell.execute_reply": "2021-11-15T17:29:51.095637Z",
     "shell.execute_reply.started": "2021-11-15T17:29:49.479024Z"
    },
    "tags": []
   },
   "outputs": [],
   "source": [
    "# Make sure ordering is correct\n",
    "pos_tr_scores = project_utils.get_scores(pos_tr_file)\n",
    "neg_tr_scores = project_utils.get_scores(neg_tr_file)"
   ]
  },
  {
   "cell_type": "code",
   "execution_count": 149,
   "metadata": {
    "execution": {
     "iopub.execute_input": "2021-11-15T17:29:51.097774Z",
     "iopub.status.busy": "2021-11-15T17:29:51.097543Z",
     "iopub.status.idle": "2021-11-15T17:29:52.484891Z",
     "shell.execute_reply": "2021-11-15T17:29:52.484161Z",
     "shell.execute_reply.started": "2021-11-15T17:29:51.097745Z"
    },
    "tags": []
   },
   "outputs": [
    {
     "name": "stdout",
     "output_type": "stream",
     "text": [
      "(272642,) (272642,) (272642,)\n"
     ]
    }
   ],
   "source": [
    "y_tr_probs = np.array(pos_tr_scores + neg_tr_scores)\n",
    "y_tr_preds = (y_tr_probs >= 0).astype(int)\n",
    "y_train = np.array([1]*len(pos_tr_scores) + [0]*len(neg_tr_scores))\n",
    "print(y_train.shape, y_tr_probs.shape, y_tr_preds.shape)"
   ]
  },
  {
   "cell_type": "markdown",
   "metadata": {},
   "source": [
    "**Test scores**"
   ]
  },
  {
   "cell_type": "code",
   "execution_count": 150,
   "metadata": {
    "execution": {
     "iopub.execute_input": "2021-11-15T17:29:52.486118Z",
     "iopub.status.busy": "2021-11-15T17:29:52.485892Z",
     "iopub.status.idle": "2021-11-15T17:29:53.705602Z",
     "shell.execute_reply": "2021-11-15T17:29:53.704930Z",
     "shell.execute_reply.started": "2021-11-15T17:29:52.486089Z"
    },
    "tags": []
   },
   "outputs": [],
   "source": [
    "# Make sure ordering is correct\n",
    "pos_scores = project_utils.get_scores(pos_file)\n",
    "neg_scores = project_utils.get_scores(neg_file)"
   ]
  },
  {
   "cell_type": "code",
   "execution_count": 151,
   "metadata": {
    "execution": {
     "iopub.execute_input": "2021-11-15T17:29:53.706822Z",
     "iopub.status.busy": "2021-11-15T17:29:53.706611Z",
     "iopub.status.idle": "2021-11-15T17:29:55.120044Z",
     "shell.execute_reply": "2021-11-15T17:29:55.119132Z",
     "shell.execute_reply.started": "2021-11-15T17:29:53.706795Z"
    },
    "tags": []
   },
   "outputs": [
    {
     "name": "stdout",
     "output_type": "stream",
     "text": [
      "(30294,) (30294,) (30294,)\n"
     ]
    }
   ],
   "source": [
    "y_probs = np.array(pos_scores + neg_scores)\n",
    "y_preds = (y_probs >= 0).astype(int)\n",
    "y_test = np.array([1]*len(pos_scores) + [0]*len(neg_scores))\n",
    "print(y_test.shape, y_probs.shape, y_preds.shape)"
   ]
  },
  {
   "cell_type": "code",
   "execution_count": 115,
   "metadata": {
    "execution": {
     "iopub.execute_input": "2021-11-15T17:28:09.674540Z",
     "iopub.status.busy": "2021-11-15T17:28:09.674302Z",
     "iopub.status.idle": "2021-11-15T17:28:10.963222Z",
     "shell.execute_reply": "2021-11-15T17:28:10.962270Z",
     "shell.execute_reply.started": "2021-11-15T17:28:09.674511Z"
    },
    "tags": []
   },
   "outputs": [
    {
     "ename": "NameError",
     "evalue": "name 'clf' is not defined",
     "output_type": "error",
     "traceback": [
      "\u001b[0;31m---------------------------------------------------------------------------\u001b[0m",
      "\u001b[0;31mNameError\u001b[0m                                 Traceback (most recent call last)",
      "\u001b[0;32m<ipython-input-115-2960bd758590>\u001b[0m in \u001b[0;36m<module>\u001b[0;34m\u001b[0m\n\u001b[1;32m      1\u001b[0m project_utils.classification_report(filename=\"{}_{}_{}_gkSVM-Classificaton-Report.md\".format(PREPROCESS, FEATURES, HYPERPARAM),\n\u001b[1;32m      2\u001b[0m                                     \u001b[0mmd_title\u001b[0m\u001b[0;34m=\u001b[0m\u001b[0;34m\"{}_{}_{}_gkSVM-Classificaton-Report\"\u001b[0m\u001b[0;34m.\u001b[0m\u001b[0mformat\u001b[0m\u001b[0;34m(\u001b[0m\u001b[0mPREPROCESS\u001b[0m\u001b[0;34m,\u001b[0m \u001b[0mFEATURES\u001b[0m\u001b[0;34m,\u001b[0m \u001b[0mHYPERPARAM\u001b[0m\u001b[0;34m)\u001b[0m\u001b[0;34m,\u001b[0m\u001b[0;34m\u001b[0m\u001b[0;34m\u001b[0m\u001b[0m\n\u001b[0;32m----> 3\u001b[0;31m                                     clf=clf, train_X=X_train, test_X=X_test, train_y=y_train, test_y=y_test)\n\u001b[0m",
      "\u001b[0;31mNameError\u001b[0m: name 'clf' is not defined"
     ]
    }
   ],
   "source": [
    "project_utils.classification_report(filename=\"{}_{}_{}_gkSVM-Classificaton-Report.md\".format(PREPROCESS, FEATURES, HYPERPARAM),\n",
    "                                    md_title=\"{}_{}_{}_gkSVM-Classificaton-Report\".format(PREPROCESS, FEATURES, HYPERPARAM),\n",
    "                                    clf=clf, train_X=X_train, test_X=X_test, train_y=y_train, test_y=y_test)"
   ]
  },
  {
   "cell_type": "markdown",
   "metadata": {
    "tags": []
   },
   "source": [
    "### <u>**Confusion matrices** </u>"
   ]
  },
  {
   "cell_type": "code",
   "execution_count": 152,
   "metadata": {
    "execution": {
     "iopub.execute_input": "2021-11-15T17:29:55.121493Z",
     "iopub.status.busy": "2021-11-15T17:29:55.121209Z",
     "iopub.status.idle": "2021-11-15T17:29:56.382615Z",
     "shell.execute_reply": "2021-11-15T17:29:56.381916Z",
     "shell.execute_reply.started": "2021-11-15T17:29:55.121463Z"
    },
    "tags": []
   },
   "outputs": [],
   "source": [
    "from sklearn.metrics import confusion_matrix"
   ]
  },
  {
   "cell_type": "code",
   "execution_count": 117,
   "metadata": {
    "execution": {
     "iopub.execute_input": "2021-11-15T17:28:14.962984Z",
     "iopub.status.busy": "2021-11-15T17:28:14.962759Z",
     "iopub.status.idle": "2021-11-15T17:28:16.087802Z",
     "shell.execute_reply": "2021-11-15T17:28:16.086876Z",
     "shell.execute_reply.started": "2021-11-15T17:28:14.962955Z"
    },
    "tags": []
   },
   "outputs": [
    {
     "data": {
      "text/plain": [
       "((array([0, 1]), array([205212,  67379])),\n",
       " (array([0, 1]), array([22772,  7516])))"
      ]
     },
     "execution_count": 117,
     "metadata": {},
     "output_type": "execute_result"
    }
   ],
   "source": [
    "np.unique(y_tr_preds, return_counts=True), np.unique(y_preds, return_counts=True)"
   ]
  },
  {
   "cell_type": "code",
   "execution_count": 118,
   "metadata": {
    "execution": {
     "iopub.execute_input": "2021-11-15T17:28:16.089497Z",
     "iopub.status.busy": "2021-11-15T17:28:16.089251Z",
     "iopub.status.idle": "2021-11-15T17:28:20.819368Z",
     "shell.execute_reply": "2021-11-15T17:28:20.818542Z",
     "shell.execute_reply.started": "2021-11-15T17:28:16.089467Z"
    },
    "tags": []
   },
   "outputs": [
    {
     "data": {
      "image/png": "[encoded data removed]",
      "text/plain": [
       "<Figure size 1152x576 with 4 Axes>"
      ]
     },
     "metadata": {
      "needs_background": "light"
     },
     "output_type": "display_data"
    }
   ],
   "source": [
    "fig, ax = plt.subplots(1,2,figsize=(16,8))\n",
    "\n",
    "rc = {\"font.size\": 20}\n",
    "with plt.rc_context(rc):\n",
    "    sns.heatmap(confusion_matrix(y_train, y_tr_preds), annot=True, fmt='d', cmap='viridis', ax=ax[0])\n",
    "    ax[0].set_xlabel('predicted')\n",
    "    ax[0].set_ylabel('true label')\n",
    "    ax[0].set_title('Train Set')\n",
    "\n",
    "    sns.heatmap(confusion_matrix(y_test, y_preds), annot=True, fmt='d', cmap='viridis', ax=ax[1])\n",
    "    ax[1].set_xlabel('predicted')\n",
    "    ax[1].set_ylabel('true label')\n",
    "    ax[1].set_title('Test Set')\n",
    "    \n",
    "    plt.tight_layout();"
   ]
  },
  {
   "cell_type": "markdown",
   "metadata": {},
   "source": [
    "### <u> **Accuracies** </u>"
   ]
  },
  {
   "cell_type": "code",
   "execution_count": 119,
   "metadata": {
    "execution": {
     "iopub.execute_input": "2021-11-15T17:28:20.820875Z",
     "iopub.status.busy": "2021-11-15T17:28:20.820650Z",
     "iopub.status.idle": "2021-11-15T17:28:22.206812Z",
     "shell.execute_reply": "2021-11-15T17:28:22.206027Z",
     "shell.execute_reply.started": "2021-11-15T17:28:20.820846Z"
    },
    "tags": []
   },
   "outputs": [],
   "source": [
    "from sklearn.metrics import accuracy_score"
   ]
  },
  {
   "cell_type": "code",
   "execution_count": 120,
   "metadata": {
    "execution": {
     "iopub.execute_input": "2021-11-15T17:28:22.208130Z",
     "iopub.status.busy": "2021-11-15T17:28:22.207904Z",
     "iopub.status.idle": "2021-11-15T17:28:23.586039Z",
     "shell.execute_reply": "2021-11-15T17:28:23.585240Z",
     "shell.execute_reply.started": "2021-11-15T17:28:22.208100Z"
    },
    "tags": []
   },
   "outputs": [],
   "source": [
    "train_acc, test_acc = accuracy_score(y_true=y_train, y_pred=y_tr_preds), accuracy_score(y_true=y_test, y_pred=y_preds)"
   ]
  },
  {
   "cell_type": "code",
   "execution_count": 121,
   "metadata": {
    "execution": {
     "iopub.execute_input": "2021-11-15T17:28:23.587245Z",
     "iopub.status.busy": "2021-11-15T17:28:23.587028Z",
     "iopub.status.idle": "2021-11-15T17:28:24.713023Z",
     "shell.execute_reply": "2021-11-15T17:28:24.712083Z",
     "shell.execute_reply.started": "2021-11-15T17:28:23.587218Z"
    },
    "tags": []
   },
   "outputs": [
    {
     "name": "stdout",
     "output_type": "stream",
     "text": [
      "Train Acc\tTest Acc\n",
      "0.7659\t0.7661\n"
     ]
    }
   ],
   "source": [
    "print(\"Train Acc\", \"Test Acc\", sep='\\t')\n",
    "print(\"{:.4f}\\t{:.4f}\".format(train_acc, test_acc))"
   ]
  },
  {
   "cell_type": "markdown",
   "metadata": {},
   "source": [
    "### <u> **F-scores** </u>"
   ]
  },
  {
   "cell_type": "code",
   "execution_count": 122,
   "metadata": {
    "execution": {
     "iopub.execute_input": "2021-11-15T17:28:24.715105Z",
     "iopub.status.busy": "2021-11-15T17:28:24.714856Z",
     "iopub.status.idle": "2021-11-15T17:28:26.165198Z",
     "shell.execute_reply": "2021-11-15T17:28:26.164382Z",
     "shell.execute_reply.started": "2021-11-15T17:28:24.715075Z"
    },
    "tags": []
   },
   "outputs": [
    {
     "data": {
      "text/html": [
       "\n",
       "        <iframe\n",
       "            width=\"800\"\n",
       "            height=\"400\"\n",
       "            src=\"https://en.wikipedia.org/wiki/F-score\"\n",
       "            frameborder=\"0\"\n",
       "            allowfullscreen\n",
       "        ></iframe>\n",
       "        "
      ],
      "text/plain": [
       "<IPython.lib.display.IFrame at 0x1554d26248b0>"
      ]
     },
     "execution_count": 122,
     "metadata": {},
     "output_type": "execute_result"
    }
   ],
   "source": [
    "IFrame('https://en.wikipedia.org/wiki/F-score', width=800, height=400)"
   ]
  },
  {
   "cell_type": "code",
   "execution_count": 123,
   "metadata": {
    "execution": {
     "iopub.execute_input": "2021-11-15T17:28:26.166906Z",
     "iopub.status.busy": "2021-11-15T17:28:26.166680Z",
     "iopub.status.idle": "2021-11-15T17:28:27.469344Z",
     "shell.execute_reply": "2021-11-15T17:28:27.468553Z",
     "shell.execute_reply.started": "2021-11-15T17:28:26.166877Z"
    },
    "tags": []
   },
   "outputs": [],
   "source": [
    "from sklearn.metrics import precision_score, recall_score, f1_score"
   ]
  },
  {
   "cell_type": "code",
   "execution_count": 124,
   "metadata": {
    "execution": {
     "iopub.execute_input": "2021-11-15T17:28:27.470706Z",
     "iopub.status.busy": "2021-11-15T17:28:27.470463Z",
     "iopub.status.idle": "2021-11-15T17:28:28.556155Z",
     "shell.execute_reply": "2021-11-15T17:28:28.555392Z",
     "shell.execute_reply.started": "2021-11-15T17:28:27.470676Z"
    },
    "tags": []
   },
   "outputs": [],
   "source": [
    "def fbeta_score(pr, rec, beta):\n",
    "    return (1+(beta**2))*((pr*rec)/(((beta**2)*pr)+rec))"
   ]
  },
  {
   "cell_type": "code",
   "execution_count": 125,
   "metadata": {
    "execution": {
     "iopub.execute_input": "2021-11-15T17:28:28.557425Z",
     "iopub.status.busy": "2021-11-15T17:28:28.557162Z",
     "iopub.status.idle": "2021-11-15T17:28:30.013146Z",
     "shell.execute_reply": "2021-11-15T17:28:30.012375Z",
     "shell.execute_reply.started": "2021-11-15T17:28:28.557395Z"
    },
    "tags": []
   },
   "outputs": [],
   "source": [
    "train_prec, test_prec = precision_score(y_true=y_train, y_pred=y_tr_preds), precision_score(y_true=y_test, y_pred=y_preds)"
   ]
  },
  {
   "cell_type": "code",
   "execution_count": 126,
   "metadata": {
    "execution": {
     "iopub.execute_input": "2021-11-15T17:28:30.014738Z",
     "iopub.status.busy": "2021-11-15T17:28:30.014405Z",
     "iopub.status.idle": "2021-11-15T17:28:31.317201Z",
     "shell.execute_reply": "2021-11-15T17:28:31.316331Z",
     "shell.execute_reply.started": "2021-11-15T17:28:30.014692Z"
    },
    "tags": []
   },
   "outputs": [],
   "source": [
    "train_recall, test_recall = recall_score(y_true=y_train, y_pred=y_tr_preds), recall_score(y_true=y_test, y_pred=y_preds)"
   ]
  },
  {
   "cell_type": "code",
   "execution_count": 127,
   "metadata": {
    "execution": {
     "iopub.execute_input": "2021-11-15T17:28:31.318543Z",
     "iopub.status.busy": "2021-11-15T17:28:31.318293Z",
     "iopub.status.idle": "2021-11-15T17:28:32.759047Z",
     "shell.execute_reply": "2021-11-15T17:28:32.758395Z",
     "shell.execute_reply.started": "2021-11-15T17:28:31.318515Z"
    },
    "tags": []
   },
   "outputs": [],
   "source": [
    "train_f1, test_f1 = f1_score(y_true=y_train, y_pred=y_tr_preds), f1_score(y_true=y_test, y_pred=y_preds)"
   ]
  },
  {
   "cell_type": "code",
   "execution_count": 128,
   "metadata": {
    "execution": {
     "iopub.execute_input": "2021-11-15T17:28:32.760311Z",
     "iopub.status.busy": "2021-11-15T17:28:32.760091Z",
     "iopub.status.idle": "2021-11-15T17:28:34.196311Z",
     "shell.execute_reply": "2021-11-15T17:28:34.195325Z",
     "shell.execute_reply.started": "2021-11-15T17:28:32.760283Z"
    },
    "tags": []
   },
   "outputs": [],
   "source": [
    "fbeta_tr_scores = []\n",
    "fbeta_scores = []\n",
    "for b in [0.1, 0.5, 1, 2, 10]:\n",
    "    fbeta_tr_scores.append(fbeta_score(train_prec, train_recall, b))\n",
    "    fbeta_scores.append(fbeta_score(test_prec, test_recall, b))"
   ]
  },
  {
   "cell_type": "code",
   "execution_count": 129,
   "metadata": {
    "execution": {
     "iopub.execute_input": "2021-11-15T17:28:34.198413Z",
     "iopub.status.busy": "2021-11-15T17:28:34.198043Z",
     "iopub.status.idle": "2021-11-15T17:28:35.328608Z",
     "shell.execute_reply": "2021-11-15T17:28:35.327902Z",
     "shell.execute_reply.started": "2021-11-15T17:28:34.198361Z"
    },
    "tags": []
   },
   "outputs": [
    {
     "name": "stdout",
     "output_type": "stream",
     "text": [
      "Metric\tTrain\tTest\n",
      "Precision\t0.6554\t0.6559\n",
      "Recall\t0.5210\t0.5229\n",
      "F0.1-Score\t0.6537\t0.6543\n",
      "F0.5-Score\t0.6232\t0.6242\n",
      "F1-Score\t0.5805\t0.5819\n",
      "F2-Score\t0.5433\t0.5450\n",
      "F10-Score\t0.5220\t0.5240\n"
     ]
    }
   ],
   "source": [
    "print(\"Metric\", \"Train\", \"Test\", sep='\\t')\n",
    "print(\"{:s}\\t{:.4f}\\t{:.4f}\".format(\"Precision\", train_prec, test_prec))\n",
    "print(\"{:s}\\t{:.4f}\\t{:.4f}\".format(\"Recall\", train_recall, test_recall))\n",
    "#print(\"{:s}\\t{:.4f}\\t{:.4f}\".format(\"F1-Score\", train_f1, test_f1))\n",
    "for i, b in enumerate([0.1, 0.5, 1, 2, 10]):\n",
    "    print(\"F{:s}-Score\\t{:.4f}\\t{:.4f}\".format(str(b), fbeta_tr_scores[i], fbeta_scores[i])) "
   ]
  },
  {
   "cell_type": "markdown",
   "metadata": {},
   "source": [
    "### <u> **Precision-recall** </u>"
   ]
  },
  {
   "cell_type": "code",
   "execution_count": 130,
   "metadata": {
    "execution": {
     "iopub.execute_input": "2021-11-15T17:28:35.329846Z",
     "iopub.status.busy": "2021-11-15T17:28:35.329626Z",
     "iopub.status.idle": "2021-11-15T17:28:36.645688Z",
     "shell.execute_reply": "2021-11-15T17:28:36.644921Z",
     "shell.execute_reply.started": "2021-11-15T17:28:35.329816Z"
    },
    "tags": []
   },
   "outputs": [],
   "source": [
    "from sklearn.metrics import precision_recall_curve, average_precision_score"
   ]
  },
  {
   "cell_type": "code",
   "execution_count": 131,
   "metadata": {
    "execution": {
     "iopub.execute_input": "2021-11-15T17:28:36.646984Z",
     "iopub.status.busy": "2021-11-15T17:28:36.646728Z",
     "iopub.status.idle": "2021-11-15T17:28:38.206805Z",
     "shell.execute_reply": "2021-11-15T17:28:38.206039Z",
     "shell.execute_reply.started": "2021-11-15T17:28:36.646954Z"
    },
    "tags": []
   },
   "outputs": [],
   "source": [
    "precs_tr, recs_tr, threshs_tr = precision_recall_curve(y_true=y_train, probas_pred=y_tr_probs)\n",
    "avg_prec_tr = average_precision_score(y_true=y_train, y_score=y_tr_probs)"
   ]
  },
  {
   "cell_type": "code",
   "execution_count": 132,
   "metadata": {
    "execution": {
     "iopub.execute_input": "2021-11-15T17:28:38.208444Z",
     "iopub.status.busy": "2021-11-15T17:28:38.208091Z",
     "iopub.status.idle": "2021-11-15T17:28:39.390831Z",
     "shell.execute_reply": "2021-11-15T17:28:39.390045Z",
     "shell.execute_reply.started": "2021-11-15T17:28:38.208397Z"
    },
    "tags": []
   },
   "outputs": [],
   "source": [
    "precs, recs, threshs = precision_recall_curve(y_true=y_test, probas_pred=y_probs)\n",
    "avg_prec = average_precision_score(y_true=y_test, y_score=y_probs)"
   ]
  },
  {
   "cell_type": "code",
   "execution_count": 133,
   "metadata": {
    "execution": {
     "iopub.execute_input": "2021-11-15T17:28:39.393289Z",
     "iopub.status.busy": "2021-11-15T17:28:39.393050Z",
     "iopub.status.idle": "2021-11-15T17:28:40.735711Z",
     "shell.execute_reply": "2021-11-15T17:28:40.734972Z",
     "shell.execute_reply.started": "2021-11-15T17:28:39.393259Z"
    },
    "tags": []
   },
   "outputs": [
    {
     "data": {
      "text/plain": [
       "(0.6549809681965381, 0.6563953009524599)"
      ]
     },
     "execution_count": 133,
     "metadata": {},
     "output_type": "execute_result"
    }
   ],
   "source": [
    "avg_prec_tr, avg_prec"
   ]
  },
  {
   "cell_type": "code",
   "execution_count": 134,
   "metadata": {
    "execution": {
     "iopub.execute_input": "2021-11-15T17:28:40.737237Z",
     "iopub.status.busy": "2021-11-15T17:28:40.737015Z",
     "iopub.status.idle": "2021-11-15T17:28:43.103164Z",
     "shell.execute_reply": "2021-11-15T17:28:43.102456Z",
     "shell.execute_reply.started": "2021-11-15T17:28:40.737208Z"
    },
    "tags": []
   },
   "outputs": [
    {
     "data": {
      "image/png": "[encoded data removed]",
      "text/plain": [
       "<Figure size 864x576 with 1 Axes>"
      ]
     },
     "metadata": {
      "needs_background": "light"
     },
     "output_type": "display_data"
    }
   ],
   "source": [
    "fig, ax = plt.subplots(1,1, figsize=(12,8))\n",
    "ax.step(recs_tr, precs_tr, where='post', lw=3, alpha=0.4, label='Training auPRC = %0.4f' % (avg_prec_tr))\n",
    "ax.step(recs, precs, where='post', lw=3, alpha=0.4, label='Testing auPRC = %0.4f' % (avg_prec))\n",
    "ax.axhline(len(y_test[y_test==1])/len(y_test), linestyle='--', lw=3, color='k', label='No skill', alpha=.8)\n",
    "ax.set_xlim([-0.05, 1.05])\n",
    "ax.set_ylim([-0.05, 1.05])\n",
    "ax.set_xlabel('Recall', fontsize=18)\n",
    "ax.set_ylabel('Precision', fontsize=18)\n",
    "ax.set_title('Precision recall', fontsize=18)\n",
    "ax.legend(loc=\"lower right\", fontsize=16);"
   ]
  },
  {
   "cell_type": "markdown",
   "metadata": {},
   "source": [
    "### <u> **Reciever operating characteristic** </u>"
   ]
  },
  {
   "cell_type": "code",
   "execution_count": 135,
   "metadata": {
    "execution": {
     "iopub.execute_input": "2021-11-15T17:28:43.104435Z",
     "iopub.status.busy": "2021-11-15T17:28:43.104183Z",
     "iopub.status.idle": "2021-11-15T17:28:44.508029Z",
     "shell.execute_reply": "2021-11-15T17:28:44.507238Z",
     "shell.execute_reply.started": "2021-11-15T17:28:43.104405Z"
    },
    "tags": []
   },
   "outputs": [],
   "source": [
    "from sklearn.metrics import roc_curve, auc"
   ]
  },
  {
   "cell_type": "code",
   "execution_count": 136,
   "metadata": {
    "execution": {
     "iopub.execute_input": "2021-11-15T17:28:44.509265Z",
     "iopub.status.busy": "2021-11-15T17:28:44.509046Z",
     "iopub.status.idle": "2021-11-15T17:28:45.767776Z",
     "shell.execute_reply": "2021-11-15T17:28:45.767098Z",
     "shell.execute_reply.started": "2021-11-15T17:28:44.509236Z"
    },
    "tags": []
   },
   "outputs": [],
   "source": [
    "fprs_tr, tprs_tr, threshs_tr = roc_curve(y_true=y_train, y_score=y_tr_probs)\n",
    "roc_auc_tr = auc(fprs_tr, tprs_tr)"
   ]
  },
  {
   "cell_type": "code",
   "execution_count": 137,
   "metadata": {
    "execution": {
     "iopub.execute_input": "2021-11-15T17:28:45.769425Z",
     "iopub.status.busy": "2021-11-15T17:28:45.769074Z",
     "iopub.status.idle": "2021-11-15T17:28:47.144077Z",
     "shell.execute_reply": "2021-11-15T17:28:47.143256Z",
     "shell.execute_reply.started": "2021-11-15T17:28:45.769380Z"
    },
    "tags": []
   },
   "outputs": [],
   "source": [
    "fprs, tprs, threshs = roc_curve(y_true=y_test, y_score=y_probs)\n",
    "roc_auc = auc(fprs, tprs)"
   ]
  },
  {
   "cell_type": "code",
   "execution_count": 138,
   "metadata": {
    "execution": {
     "iopub.execute_input": "2021-11-15T17:28:47.145359Z",
     "iopub.status.busy": "2021-11-15T17:28:47.145124Z",
     "iopub.status.idle": "2021-11-15T17:28:48.429233Z",
     "shell.execute_reply": "2021-11-15T17:28:48.428595Z",
     "shell.execute_reply.started": "2021-11-15T17:28:47.145328Z"
    },
    "tags": []
   },
   "outputs": [
    {
     "data": {
      "text/plain": [
       "(0.7760402166226209, 0.7738164830815453)"
      ]
     },
     "execution_count": 138,
     "metadata": {},
     "output_type": "execute_result"
    }
   ],
   "source": [
    "roc_auc_tr, roc_auc"
   ]
  },
  {
   "cell_type": "code",
   "execution_count": 139,
   "metadata": {
    "execution": {
     "iopub.execute_input": "2021-11-15T17:28:48.430451Z",
     "iopub.status.busy": "2021-11-15T17:28:48.430214Z",
     "iopub.status.idle": "2021-11-15T17:28:50.705557Z",
     "shell.execute_reply": "2021-11-15T17:28:50.704603Z",
     "shell.execute_reply.started": "2021-11-15T17:28:48.430423Z"
    },
    "tags": []
   },
   "outputs": [
    {
     "data": {
      "image/png": "[encoded data removed]",
      "text/plain": [
       "<Figure size 864x576 with 1 Axes>"
      ]
     },
     "metadata": {
      "needs_background": "light"
     },
     "output_type": "display_data"
    }
   ],
   "source": [
    "fig, ax = plt.subplots(1, 1, figsize=(12,8))\n",
    "ax.plot(fprs_tr, tprs_tr, lw=3, alpha=0.4, label='Training (auROC = %0.4f)' % (roc_auc_tr))\n",
    "ax.plot(fprs, tprs, lw=3, alpha=0.4, label='Test (auROC= %0.4f)' % (roc_auc))\n",
    "ax.plot([0, 1], [0, 1], linestyle='--', lw=3, color='k', label='No skill', alpha=.8)\n",
    "ax.set_xlim([-0.05, 1.05])\n",
    "ax.set_ylim([-0.05, 1.05])\n",
    "ax.set_xlabel('False Positive Rate', fontsize=18)\n",
    "ax.set_ylabel('True Positive Rate', fontsize=18)\n",
    "ax.set_title('Receiver operating characteristic', fontsize=18)\n",
    "ax.legend(loc=\"lower right\", fontsize=16);"
   ]
  },
  {
   "cell_type": "markdown",
   "metadata": {},
   "source": [
    "## Save the classifier\n",
    "Classifier is already saved by the LS-GKM tool"
   ]
  },
  {
   "cell_type": "markdown",
   "metadata": {},
   "source": [
    "# Scratch"
   ]
  },
  {
   "cell_type": "markdown",
   "metadata": {},
   "source": [
    "# References"
   ]
  }
 ],
 "metadata": {
  "kernelspec": {
   "display_name": "Python3 ml_env",
   "language": "python",
   "name": "ml_env"
  },
  "language_info": {
   "codemirror_mode": {
    "name": "ipython",
    "version": 3
   },
   "file_extension": ".py",
   "mimetype": "text/x-python",
   "name": "python",
   "nbconvert_exporter": "python",
   "pygments_lexer": "ipython3",
   "version": "3.8.8"
  }
 },
 "nbformat": 4,
 "nbformat_minor": 4
}

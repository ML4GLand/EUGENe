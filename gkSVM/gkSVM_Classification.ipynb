{
 "cells": [
  {
   "cell_type": "markdown",
   "metadata": {},
   "source": [
    "# Gapped k-mer Support Vector Machine (gkSVM) for Enhancer Activity Prediction"
   ]
  },
  {
   "cell_type": "markdown",
   "metadata": {
    "execution": {
     "iopub.execute_input": "2022-02-05T19:33:21.144170Z",
     "iopub.status.busy": "2022-02-05T19:33:21.143956Z",
     "iopub.status.idle": "2022-02-05T19:33:21.151754Z",
     "shell.execute_reply": "2022-02-05T19:33:21.151300Z",
     "shell.execute_reply.started": "2022-02-05T19:33:21.144120Z"
    }
   },
   "source": [
    "**Authorship:**\n",
    "Adam Klie, *08/02/2021*\n",
    "***\n",
    "**Description:**\n",
    "    Notebook to train gkSVM classsifiers for predicting enhancer activity based on the implmentation in https://github.com/Dongwon-Lee/lsgkm/.\n",
    "\n",
    " - Currentlly allows the user to create a custom script with gkSVM hyperparameters\n",
    "***\n",
    "**TODOs:**\n",
    " - <font color='red'> Figure out how to work with kwargs in future </font>\n",
    "***"
   ]
  },
  {
   "cell_type": "code",
   "execution_count": 2,
   "metadata": {
    "execution": {
     "iopub.execute_input": "2022-02-05T19:34:05.557172Z",
     "iopub.status.busy": "2022-02-05T19:34:05.557011Z",
     "iopub.status.idle": "2022-02-05T19:34:16.719149Z",
     "shell.execute_reply": "2022-02-05T19:34:16.718690Z",
     "shell.execute_reply.started": "2022-02-05T19:34:05.557156Z"
    },
    "tags": []
   },
   "outputs": [],
   "source": [
    "# Classics\n",
    "import os\n",
    "import matplotlib.pyplot as plt\n",
    "import numpy as np\n",
    "import pandas as pd\n",
    "import seaborn as sns\n",
    "\n",
    "# Autoreload extension\n",
    "if 'autoreload' not in get_ipython().extension_manager.loaded:\n",
    "    %load_ext autoreload\n",
    "    \n",
    "%autoreload 2\n",
    "\n",
    "# Load local libraries\n",
    "import sys\n",
    "sys.path.append('/cellar/users/aklie/projects/EUGENE/bin/')\n",
    "import project_utils"
   ]
  },
  {
   "cell_type": "markdown",
   "metadata": {
    "tags": []
   },
   "source": [
    "# Set-up"
   ]
  },
  {
   "cell_type": "code",
   "execution_count": 216,
   "metadata": {
    "execution": {
     "iopub.execute_input": "2022-02-06T00:51:16.659456Z",
     "iopub.status.busy": "2022-02-06T00:51:16.659297Z",
     "iopub.status.idle": "2022-02-06T00:51:17.699560Z",
     "shell.execute_reply": "2022-02-06T00:51:17.699191Z",
     "shell.execute_reply.started": "2022-02-06T00:51:16.659440Z"
    },
    "tags": []
   },
   "outputs": [],
   "source": [
    "# Data params\n",
    "DATASET = \"2021_OLS_Library\"  # Which dataset to look at\n",
    "FEATURES = \"fasta\"  # What features to use to train the model\n",
    "LABELS = \"binary\"\n",
    "PREPROCESS = \"0.09-0.4\"  # Preprocessing steps, separated by \"-\"\n",
    "SPLIT = 0.9\n",
    "SUBSET = False"
   ]
  },
  {
   "cell_type": "code",
   "execution_count": 217,
   "metadata": {
    "execution": {
     "iopub.execute_input": "2022-02-06T00:51:18.242893Z",
     "iopub.status.busy": "2022-02-06T00:51:18.242685Z",
     "iopub.status.idle": "2022-02-06T00:51:19.211162Z",
     "shell.execute_reply": "2022-02-06T00:51:19.210655Z",
     "shell.execute_reply.started": "2022-02-06T00:51:18.242868Z"
    },
    "tags": []
   },
   "outputs": [],
   "source": [
    "# gkSVM hyperparams. See documentation for what each means\n",
    "KERNEL=\"2\"\n",
    "WORD_LENGTH=\"11\"\n",
    "INFORM_COLS=\"7\"\n",
    "MISMATCHES=\"3\"\n",
    "REG_PARAM=\"1.0\"\n",
    "POS_WEIGHT=\"1.0\"\n",
    "REV_COMP=True\n",
    "HYPERPARAM = \"{}-{}-{}-{}-{}-{}-{}\".format(KERNEL, \n",
    "                                           WORD_LENGTH, INFORM_COLS, MISMATCHES, \n",
    "                                           REV_COMP,\n",
    "                                           REG_PARAM, POS_WEIGHT)\n",
    "ARCHITECTURE = \"gkSVM\""
   ]
  },
  {
   "cell_type": "code",
   "execution_count": 218,
   "metadata": {
    "execution": {
     "iopub.execute_input": "2022-02-06T00:51:19.212036Z",
     "iopub.status.busy": "2022-02-06T00:51:19.211923Z",
     "iopub.status.idle": "2022-02-06T00:51:20.114248Z",
     "shell.execute_reply": "2022-02-06T00:51:20.113931Z",
     "shell.execute_reply.started": "2022-02-06T00:51:19.212022Z"
    },
    "tags": []
   },
   "outputs": [
    {
     "name": "stdout",
     "output_type": "stream",
     "text": [
      "Directory already exists\n"
     ]
    }
   ],
   "source": [
    "# Output directory\n",
    "OUTDIR=\"{}_{}_{}_{}\".format(PREPROCESS, FEATURES, HYPERPARAM, ARCHITECTURE)\n",
    "if not os.path.exists(OUTDIR):\n",
    "    print(\"Making directory {}\".format(OUTDIR))\n",
    "    os.makedirs(OUTDIR)\n",
    "else:\n",
    "    print(\"Directory already exists\")"
   ]
  },
  {
   "cell_type": "code",
   "execution_count": 219,
   "metadata": {
    "execution": {
     "iopub.execute_input": "2022-02-06T00:51:21.355735Z",
     "iopub.status.busy": "2022-02-06T00:51:21.355480Z",
     "iopub.status.idle": "2022-02-06T00:51:22.396239Z",
     "shell.execute_reply": "2022-02-06T00:51:22.395795Z",
     "shell.execute_reply.started": "2022-02-06T00:51:21.355707Z"
    },
    "tags": []
   },
   "outputs": [
    {
     "data": {
      "text/plain": [
       "('/cellar/users/aklie/projects/EUGENE/data/2021_OLS_Library/fasta',\n",
       " '0.09-0.4_X-train-0.9_fasta-pos.fa',\n",
       " '0.09-0.4_X-train-0.9_fasta-neg.fa',\n",
       " '0.09-0.4_X-test-0.1_fasta.fa')"
      ]
     },
     "execution_count": 219,
     "metadata": {},
     "output_type": "execute_result"
    }
   ],
   "source": [
    "# Define paths to train and validation data. Train data must be split into each class\n",
    "in_dir = \"/cellar/users/aklie/projects/EUGENE/data/{0}/fasta\".format(DATASET)\n",
    "pos = \"{0}_X-train-{1}_{2}-pos.fa\".format(PREPROCESS, SPLIT, FEATURES)\n",
    "neg = \"{0}_X-train-{1}_{2}-neg.fa\".format(PREPROCESS, SPLIT, FEATURES)\n",
    "val = \"{0}_X-test-{1}_{2}.fa\".format(PREPROCESS, round(1-SPLIT, 1), FEATURES)\n",
    "in_dir, pos, neg, val"
   ]
  },
  {
   "cell_type": "markdown",
   "metadata": {
    "tags": []
   },
   "source": [
    "# Train gkSVM model with script"
   ]
  },
  {
   "cell_type": "code",
   "execution_count": 221,
   "metadata": {
    "execution": {
     "iopub.execute_input": "2022-02-06T00:52:11.353905Z",
     "iopub.status.busy": "2022-02-06T00:52:11.353649Z",
     "iopub.status.idle": "2022-02-06T00:52:12.394962Z",
     "shell.execute_reply": "2022-02-06T00:52:12.394532Z",
     "shell.execute_reply.started": "2022-02-06T00:52:11.353878Z"
    },
    "tags": []
   },
   "outputs": [
    {
     "name": "stdout",
     "output_type": "stream",
     "text": [
      "Successfully generated 0.09-0.4_fasta_2-11-7-3-True-1.0-1.0_gkSVM/train_0.09-0.4_fasta_gkSVM-clf_2-11-7-3-True-1.0-1.0.sh\n",
      "Usage: sbatch train_0.09-0.4_fasta_gkSVM-clf_2-11-7-3-True-1.0-1.0.sh --job-name=train_0.09-0.4_fasta_gkSVM-clf_2-11-7-3-True-1.0-1.0 -o 0.09-0.4_fasta_2-11-7-3-True-1.0-1.0_gkSVM/train_0.09-0.4_fasta_gkSVM-clf_2-11-7-3-True-1.0-1.0.out -e 0.09-0.4_fasta_2-11-7-3-True-1.0-1.0_gkSVM/train_0.09-0.4_fasta_gkSVM-clf_2-11-7-3-True-1.0-1.0.err --mem=20G\n"
     ]
    }
   ],
   "source": [
    "project_utils.generate_slurm_train_script(in_dir, pos, neg, val, OUTDIR, HYPERPARAM, PREPROCESS)"
   ]
  },
  {
   "cell_type": "code",
   "execution_count": 171,
   "metadata": {
    "execution": {
     "iopub.execute_input": "2022-02-05T21:38:59.966544Z",
     "iopub.status.busy": "2022-02-05T21:38:59.966378Z",
     "iopub.status.idle": "2022-02-05T21:39:01.916915Z",
     "shell.execute_reply": "2022-02-05T21:39:01.916519Z",
     "shell.execute_reply.started": "2022-02-05T21:38:59.966526Z"
    },
    "tags": []
   },
   "outputs": [
    {
     "name": "stdout",
     "output_type": "stream",
     "text": [
      "Submitted batch job 1036406\n"
     ]
    }
   ],
   "source": [
    "#!sbatch train_0.09-0.4_fasta_gkSVM-clf_2-11-7-3-True-1.0-1.345.sh --job-name=train_0.09-0.4_fasta_gkSVM-clf_2-11-7-3-True-1.0-1.345 --mem=20G"
   ]
  },
  {
   "cell_type": "markdown",
   "metadata": {},
   "source": [
    "# Validation Set performance"
   ]
  },
  {
   "cell_type": "code",
   "execution_count": 193,
   "metadata": {
    "execution": {
     "iopub.execute_input": "2022-02-05T21:45:45.963954Z",
     "iopub.status.busy": "2022-02-05T21:45:45.963790Z",
     "iopub.status.idle": "2022-02-05T21:45:46.850382Z",
     "shell.execute_reply": "2022-02-05T21:45:46.850003Z",
     "shell.execute_reply.started": "2022-02-05T21:45:45.963938Z"
    },
    "tags": []
   },
   "outputs": [
    {
     "data": {
      "text/plain": [
       "('subset_fasta_2-11-7-3-True-1.0-1.0_gkSVM/subset_fasta_gkSVM-clf_2-11-7-3-True-1.0-1.0.train-pos.predict.txt',\n",
       " 'subset_fasta_2-11-7-3-True-1.0-1.0_gkSVM/subset_fasta_gkSVM-clf_2-11-7-3-True-1.0-1.0.train-neg.predict.txt',\n",
       " 'subset_fasta_2-11-7-3-True-1.0-1.0_gkSVM/subset_fasta_gkSVM-clf_2-11-7-3-True-1.0-1.0.test.predict.txt')"
      ]
     },
     "execution_count": 193,
     "metadata": {},
     "output_type": "execute_result"
    }
   ],
   "source": [
    "model = \"{}_{}_{}-clf_{}\".format(PREPROCESS, FEATURES, ARCHITECTURE, HYPERPARAM)\n",
    "model_name = os.path.join(OUTDIR, model)\n",
    "pos_tr_file = \"{}.train-pos.predict.txt\".format(model_name)\n",
    "neg_tr_file = \"{}.train-neg.predict.txt\".format(model_name)\n",
    "val_file = \"{}.test.predict.txt\".format(model_name)\n",
    "pos_tr_file, neg_tr_file, val_file"
   ]
  },
  {
   "cell_type": "markdown",
   "metadata": {},
   "source": [
    "## **Training scores**"
   ]
  },
  {
   "cell_type": "code",
   "execution_count": 190,
   "metadata": {
    "execution": {
     "iopub.execute_input": "2022-02-05T21:45:21.600139Z",
     "iopub.status.busy": "2022-02-05T21:45:21.600014Z",
     "iopub.status.idle": "2022-02-05T21:45:22.626525Z",
     "shell.execute_reply": "2022-02-05T21:45:22.626112Z",
     "shell.execute_reply.started": "2022-02-05T21:45:21.600125Z"
    },
    "tags": []
   },
   "outputs": [],
   "source": [
    "# Make sure ordering is correct\n",
    "pos_tr_scores = project_utils.get_scores(pos_tr_file)\n",
    "neg_tr_scores = project_utils.get_scores(neg_tr_file)"
   ]
  },
  {
   "cell_type": "code",
   "execution_count": 191,
   "metadata": {
    "execution": {
     "iopub.execute_input": "2022-02-05T21:45:25.142943Z",
     "iopub.status.busy": "2022-02-05T21:45:25.142803Z",
     "iopub.status.idle": "2022-02-05T21:45:26.070795Z",
     "shell.execute_reply": "2022-02-05T21:45:26.070376Z",
     "shell.execute_reply.started": "2022-02-05T21:45:25.142928Z"
    },
    "tags": []
   },
   "outputs": [
    {
     "name": "stdout",
     "output_type": "stream",
     "text": [
      "(100,) (100,) (100,)\n"
     ]
    }
   ],
   "source": [
    "y_tr_probs = np.array(pos_tr_scores + neg_tr_scores)\n",
    "y_tr_preds = (y_tr_probs >= 0).astype(int)\n",
    "y_train = np.array([1]*len(pos_tr_scores) + [0]*len(neg_tr_scores))\n",
    "print(y_train.shape, y_tr_probs.shape, y_tr_preds.shape)"
   ]
  },
  {
   "cell_type": "markdown",
   "metadata": {},
   "source": [
    "## **Test scores**"
   ]
  },
  {
   "cell_type": "code",
   "execution_count": 207,
   "metadata": {
    "execution": {
     "iopub.execute_input": "2022-02-05T21:49:45.193031Z",
     "iopub.status.busy": "2022-02-05T21:49:45.192871Z",
     "iopub.status.idle": "2022-02-05T21:49:46.097173Z",
     "shell.execute_reply": "2022-02-05T21:49:46.096837Z",
     "shell.execute_reply.started": "2022-02-05T21:49:45.193015Z"
    },
    "tags": []
   },
   "outputs": [],
   "source": [
    "# Make sure ordering is correct\n",
    "y_probs = np.array(project_utils.get_scores(val_file))"
   ]
  },
  {
   "cell_type": "code",
   "execution_count": 208,
   "metadata": {
    "execution": {
     "iopub.execute_input": "2022-02-05T21:49:59.548531Z",
     "iopub.status.busy": "2022-02-05T21:49:59.548360Z",
     "iopub.status.idle": "2022-02-05T21:50:00.453334Z",
     "shell.execute_reply": "2022-02-05T21:50:00.453006Z",
     "shell.execute_reply.started": "2022-02-05T21:49:59.548515Z"
    },
    "tags": []
   },
   "outputs": [],
   "source": [
    "#y_test = np.loadtxt('../data/{0}/{1}/{2}_y-test-{3}_{1}.txt'.format(DATASET, LABELS, PREPROCESS, round(1-SPLIT, 1)), dtype=int)\n",
    "y_test = np.random.randint(0, 2, size=len(val_scores))"
   ]
  },
  {
   "cell_type": "code",
   "execution_count": 209,
   "metadata": {
    "execution": {
     "iopub.execute_input": "2022-02-05T21:50:00.529039Z",
     "iopub.status.busy": "2022-02-05T21:50:00.528925Z",
     "iopub.status.idle": "2022-02-05T21:50:01.531081Z",
     "shell.execute_reply": "2022-02-05T21:50:01.530616Z",
     "shell.execute_reply.started": "2022-02-05T21:50:00.529025Z"
    },
    "tags": []
   },
   "outputs": [
    {
     "name": "stdout",
     "output_type": "stream",
     "text": [
      "(25,) (25,) (25,)\n"
     ]
    }
   ],
   "source": [
    "y_preds = (y_probs >= 0).astype(int)\n",
    "print(y_test.shape, y_probs.shape, y_preds.shape)"
   ]
  },
  {
   "cell_type": "code",
   "execution_count": 210,
   "metadata": {
    "execution": {
     "iopub.execute_input": "2022-02-05T21:51:42.438717Z",
     "iopub.status.busy": "2022-02-05T21:51:42.438557Z",
     "iopub.status.idle": "2022-02-05T21:51:46.591329Z",
     "shell.execute_reply": "2022-02-05T21:51:46.590867Z",
     "shell.execute_reply.started": "2022-02-05T21:51:42.438701Z"
    }
   },
   "outputs": [
    {
     "name": "stdout",
     "output_type": "stream",
     "text": [
      "Predictions provided, skipping them\n",
      "Generating confusion matrix\n",
      "Calculating classification metrics\n",
      "Metric\tTrain\tTest\n",
      "Accuracy\t0.9200\t0.6000\n",
      "Precision\t0.9038\t0.5333\n",
      "Recall\t0.9400\t0.7273\n",
      "F0.1-Score\t0.9042\t0.5347\n",
      "F0.5-Score\t0.9109\t0.5634\n",
      "F1-Score\t0.9216\t0.6154\n",
      "F2-Score\t0.9325\t0.6780\n",
      "F10-Score\t0.9396\t0.7247\n",
      "Plotting PR Curve\n",
      "Plotting ROC Curve\n",
      "Generating report\n"
     ]
    }
   ],
   "source": [
    "project_utils.classification_report(out_path=\"{}\".format(OUTDIR),\n",
    "                                    train_X=None, test_X=None, \n",
    "                                    train_y=y_train, test_y=y_test,\n",
    "                                    train_preds=y_tr_preds, test_preds=y_preds,\n",
    "                                    train_probs=y_tr_probs, test_probs=y_probs)"
   ]
  },
  {
   "cell_type": "markdown",
   "metadata": {
    "tags": [],
    "toc-hr-collapsed": true
   },
   "source": [
    "# Scratch"
   ]
  },
  {
   "cell_type": "code",
   "execution_count": null,
   "metadata": {},
   "outputs": [],
   "source": [
    "def generate_slurm_train_script(input_dir,\n",
    "                                pos_seqs,\n",
    "                                neg_seqs,\n",
    "                                val_seqs,\n",
    "                                result_dir,\n",
    "                                hyperparams,\n",
    "                                preprocess,\n",
    "                                features=\"fasta\",\n",
    "                                architecture=\"gkSVM\"):\n",
    "    \n",
    "    # Set up model name\n",
    "    model = \"{}_{}_{}-clf_{}\".format(preprocess, features, architecture, hyperparams)\n",
    "    model_name = os.path.join(result_dir, model)\n",
    "    \n",
    "    # Set up hyperparams\n",
    "    hyperparams = hyperparams.split(\"-\")\n",
    "    if hyperparams[4]:\n",
    "        hyperparams.remove(\"True\")\n",
    "        hyperparams = \"-t {} -l {} -k {} -d {} -R -c {} -w {}\".format(*hyperparams)\n",
    "    else:\n",
    "        hyperparams.remove(\"False\")\n",
    "        hyperparams = \"-t {} -l {} -k {} -d -c {} -w {}\".format(*hyperparams)\n",
    "        \n",
    "    # Set up file pointers\n",
    "    output = [\"#!/bin/bash\", \"#SBATCH --cpus-per-task=16\", \"#SBATCH --time=48:00:00\",\n",
    "              \"#SBATCH --partition carter-compute\", \"#SBATCH -o ./out/%x.out\", \"#SBATCH -e ./err/%x.err\\n\"]\n",
    "    output += ['date\\necho -e \"Job ID: $SLURM_JOB_ID\\\\n\"\\n']\n",
    "    output += [\"trainposseqs={}\".format(os.path.join(input_dir, pos_seqs)),\n",
    "               \"trainnegseqs={}\".format(os.path.join(input_dir, neg_seqs)),\n",
    "               \"valseqs={}\".format(os.path.join(input_dir, val_seqs)),\n",
    "               \"resultdir={}\".format(result_dir),\n",
    "               \"modelname={}\".format(model_name)]\n",
    "    output += [\"[ ! -d $resultdir ] && mkdir $resultdir\\n\"]\n",
    "    \n",
    "    # Set-up training command\n",
    "    train_command = \"gkmtrain $trainposseqs $trainnegseqs $modelname {} -v 2 -T $SLURM_CPUS_PER_TASK -m 8000.0\".format(hyperparams)\n",
    "    output += [\"echo -e {}\".format(train_command)]\n",
    "    output += [train_command]\n",
    "    output += ['echo -e \"\\\\n\"\\n']\n",
    "    \n",
    "    # Set up positive train seq predict\n",
    "    predict_pos_train_command = 'gkmpredict $trainposseqs $modelname\".model.txt\" $modelname\".train-pos.predict.txt\"'\n",
    "    output += [\"echo -e {}\".format(predict_pos_train_command)]\n",
    "    output += [predict_pos_train_command]\n",
    "    output += ['echo -e \"\\\\n\"\\n']\n",
    "    \n",
    "    # Set up negative train seq predict\n",
    "    predict_neg_train_command = 'gkmpredict $trainnegseqs $modelname\".model.txt\" $modelname\".train-neg.predict.txt\"'\n",
    "    output += [\"echo -e {}\".format(predict_neg_train_command)]\n",
    "    output += [predict_neg_train_command]\n",
    "    output += ['echo -e \"\\\\n\"\\n']\n",
    "    \n",
    "    # Set up val seq predict\n",
    "    predict_val_command = 'gkmpredict $valseqs $modelname\".model.txt\" $modelname\".test.predict.txt\"'\n",
    "    output += [\"echo -e {}\".format(predict_val_command)]\n",
    "    output += [predict_val_command]\n",
    "    output += ['echo -e \"\\\\n\"\\n']\n",
    "    \n",
    "    output += [\"date\"]\n",
    "    \n",
    "    # Write to script\n",
    "    with open(\"train_{}\".format(model), \"w\") as f:\n",
    "        f.write(\"\\n\".join(output))\n",
    "        \n",
    "    # Bash command to edit\n",
    "    print(\"sbatch train_{0} --job-name=train_{0} --mem=20G\".format(model))"
   ]
  },
  {
   "cell_type": "markdown",
   "metadata": {
    "tags": [],
    "toc-hr-collapsed": true
   },
   "source": [
    "# References"
   ]
  }
 ],
 "metadata": {
  "kernelspec": {
   "display_name": "Python3 ml_env",
   "language": "python",
   "name": "ml_env"
  },
  "language_info": {
   "codemirror_mode": {
    "name": "ipython",
    "version": 3
   },
   "file_extension": ".py",
   "mimetype": "text/x-python",
   "name": "python",
   "nbconvert_exporter": "python",
   "pygments_lexer": "ipython3",
   "version": "3.8.8"
  }
 },
 "nbformat": 4,
 "nbformat_minor": 4
}

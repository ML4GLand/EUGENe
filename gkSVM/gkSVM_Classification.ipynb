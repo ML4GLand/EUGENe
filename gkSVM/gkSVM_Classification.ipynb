{
 "cells": [
  {
   "cell_type": "markdown",
   "metadata": {},
   "source": [
    "# Gapped k-mer Support Vector Machine (gkSVM) Classification\n",
    "Adam Klie \n",
    "08/02/2021\n",
    "\n",
    "Notebook to preprocess the data for, train and evaluate a gkSVM classsifier based on the implmentation in https://github.com/Dongwon-Lee/lsgkm/."
   ]
  },
  {
   "cell_type": "code",
   "execution_count": 1,
   "metadata": {
    "execution": {
     "iopub.execute_input": "2021-09-22T00:42:47.603367Z",
     "iopub.status.busy": "2021-09-22T00:42:47.603101Z",
     "iopub.status.idle": "2021-09-22T00:42:51.985086Z",
     "shell.execute_reply": "2021-09-22T00:42:51.982904Z",
     "shell.execute_reply.started": "2021-09-22T00:42:47.603297Z"
    },
    "tags": []
   },
   "outputs": [],
   "source": [
    "import matplotlib.pyplot as plt\n",
    "import numpy as np\n",
    "import pandas as pd\n",
    "import seaborn as sns\n",
    "\n",
    "# Loading webpages\n",
    "from IPython.display import IFrame\n",
    "\n",
    "# Autoreload extension\n",
    "if 'autoreload' not in get_ipython().extension_manager.loaded:\n",
    "    %load_ext autoreload\n",
    "    \n",
    "%autoreload 2"
   ]
  },
  {
   "cell_type": "code",
   "execution_count": 2,
   "metadata": {
    "execution": {
     "iopub.execute_input": "2021-09-22T00:42:51.987330Z",
     "iopub.status.busy": "2021-09-22T00:42:51.986973Z",
     "iopub.status.idle": "2021-09-22T00:42:53.987908Z",
     "shell.execute_reply": "2021-09-22T00:42:53.987192Z",
     "shell.execute_reply.started": "2021-09-22T00:42:51.987284Z"
    },
    "tags": []
   },
   "outputs": [],
   "source": [
    "import sys\n",
    "sys.path.append('/cellar/users/aklie/projects/EUGENE/bin/')\n",
    "import project_utils"
   ]
  },
  {
   "cell_type": "markdown",
   "metadata": {},
   "source": [
    "# Load data"
   ]
  },
  {
   "cell_type": "code",
   "execution_count": 3,
   "metadata": {
    "execution": {
     "iopub.execute_input": "2021-09-22T00:42:53.989648Z",
     "iopub.status.busy": "2021-09-22T00:42:53.989287Z",
     "iopub.status.idle": "2021-09-22T00:42:56.489914Z",
     "shell.execute_reply": "2021-09-22T00:42:56.488858Z",
     "shell.execute_reply.started": "2021-09-22T00:42:53.989601Z"
    },
    "tags": []
   },
   "outputs": [],
   "source": [
    "X, y = np.loadtxt('../data/2021_OLS_Library/X_seqs_0.18-0.4.txt', dtype=str), np.loadtxt('../data/2021_OLS_Library/y_binary_0.18-0.4.txt', delimiter=' ', dtype=int)"
   ]
  },
  {
   "cell_type": "code",
   "execution_count": 4,
   "metadata": {
    "execution": {
     "iopub.execute_input": "2021-09-22T00:42:56.493806Z",
     "iopub.status.busy": "2021-09-22T00:42:56.493582Z",
     "iopub.status.idle": "2021-09-22T00:42:58.008436Z",
     "shell.execute_reply": "2021-09-22T00:42:58.007403Z",
     "shell.execute_reply.started": "2021-09-22T00:42:56.493775Z"
    },
    "tags": []
   },
   "outputs": [],
   "source": [
    "seq_ids = np.loadtxt('../data/2021_OLS_Library/sequence_id_0.18-0.4.txt', dtype=str)"
   ]
  },
  {
   "cell_type": "code",
   "execution_count": 5,
   "metadata": {
    "execution": {
     "iopub.execute_input": "2021-09-22T00:42:58.010094Z",
     "iopub.status.busy": "2021-09-22T00:42:58.009856Z",
     "iopub.status.idle": "2021-09-22T00:42:58.468325Z",
     "shell.execute_reply": "2021-09-22T00:42:58.467557Z",
     "shell.execute_reply.started": "2021-09-22T00:42:58.010064Z"
    },
    "tags": []
   },
   "outputs": [
    {
     "data": {
      "text/plain": [
       "((302936,), (302936,), (302936,))"
      ]
     },
     "execution_count": 5,
     "metadata": {},
     "output_type": "execute_result"
    }
   ],
   "source": [
    "X.shape, y.shape, seq_ids.shape"
   ]
  },
  {
   "cell_type": "markdown",
   "metadata": {},
   "source": [
    "# Check gkSVM assumptions"
   ]
  },
  {
   "cell_type": "markdown",
   "metadata": {
    "tags": []
   },
   "source": [
    "# Train and test gkSVM model with script"
   ]
  },
  {
   "cell_type": "markdown",
   "metadata": {
    "tags": [],
    "toc-hr-collapsed": true
   },
   "source": [
    "## **Train/test split**"
   ]
  },
  {
   "cell_type": "code",
   "execution_count": 6,
   "metadata": {
    "execution": {
     "iopub.execute_input": "2021-09-22T00:42:59.554223Z",
     "iopub.status.busy": "2021-09-22T00:42:59.554006Z",
     "iopub.status.idle": "2021-09-22T00:43:00.006691Z",
     "shell.execute_reply": "2021-09-22T00:43:00.006034Z",
     "shell.execute_reply.started": "2021-09-22T00:42:59.554194Z"
    },
    "tags": []
   },
   "outputs": [],
   "source": [
    "from sklearn.model_selection import train_test_split"
   ]
  },
  {
   "cell_type": "code",
   "execution_count": 7,
   "metadata": {
    "execution": {
     "iopub.execute_input": "2021-09-22T00:43:00.007953Z",
     "iopub.status.busy": "2021-09-22T00:43:00.007685Z",
     "iopub.status.idle": "2021-09-22T00:43:00.468421Z",
     "shell.execute_reply": "2021-09-22T00:43:00.467581Z",
     "shell.execute_reply.started": "2021-09-22T00:43:00.007913Z"
    },
    "tags": []
   },
   "outputs": [],
   "source": [
    "split = 0.9"
   ]
  },
  {
   "cell_type": "code",
   "execution_count": 8,
   "metadata": {
    "execution": {
     "iopub.execute_input": "2021-09-22T00:43:00.469701Z",
     "iopub.status.busy": "2021-09-22T00:43:00.469452Z",
     "iopub.status.idle": "2021-09-22T00:43:01.164530Z",
     "shell.execute_reply": "2021-09-22T00:43:01.163755Z",
     "shell.execute_reply.started": "2021-09-22T00:43:00.469671Z"
    },
    "tags": []
   },
   "outputs": [],
   "source": [
    "X_train, X_test, y_train, y_test, id_train, id_test = train_test_split(X, y, seq_ids, train_size=split, random_state=13, shuffle=True)"
   ]
  },
  {
   "cell_type": "markdown",
   "metadata": {},
   "source": [
    "### **Split into negative and positive for lsgkm**"
   ]
  },
  {
   "cell_type": "markdown",
   "metadata": {
    "tags": []
   },
   "source": [
    "#### <u> **Train** </u>"
   ]
  },
  {
   "cell_type": "code",
   "execution_count": 9,
   "metadata": {
    "execution": {
     "iopub.execute_input": "2021-09-22T00:43:01.165780Z",
     "iopub.status.busy": "2021-09-22T00:43:01.165555Z",
     "iopub.status.idle": "2021-09-22T00:43:01.584834Z",
     "shell.execute_reply": "2021-09-22T00:43:01.584058Z",
     "shell.execute_reply.started": "2021-09-22T00:43:01.165751Z"
    },
    "tags": []
   },
   "outputs": [],
   "source": [
    "# Mask\n",
    "train_neg_mask = (y_train == 0)"
   ]
  },
  {
   "cell_type": "code",
   "execution_count": 10,
   "metadata": {
    "execution": {
     "iopub.execute_input": "2021-09-22T00:43:01.586163Z",
     "iopub.status.busy": "2021-09-22T00:43:01.585918Z",
     "iopub.status.idle": "2021-09-22T00:43:02.064239Z",
     "shell.execute_reply": "2021-09-22T00:43:02.063420Z",
     "shell.execute_reply.started": "2021-09-22T00:43:01.586134Z"
    },
    "tags": []
   },
   "outputs": [],
   "source": [
    "# Negative seqs\n",
    "X_train_neg = X_train[train_neg_mask]\n",
    "y_train_neg = y_train[train_neg_mask]\n",
    "id_train_neg = id_train[train_neg_mask]\n",
    "\n",
    "# Positive seqs\n",
    "X_train_pos = X_train[~train_neg_mask]\n",
    "y_train_pos = y_train[~train_neg_mask]\n",
    "id_train_pos = id_train[~train_neg_mask]"
   ]
  },
  {
   "cell_type": "code",
   "execution_count": 11,
   "metadata": {
    "execution": {
     "iopub.execute_input": "2021-09-22T00:43:02.065591Z",
     "iopub.status.busy": "2021-09-22T00:43:02.065362Z",
     "iopub.status.idle": "2021-09-22T00:43:02.758670Z",
     "shell.execute_reply": "2021-09-22T00:43:02.757825Z",
     "shell.execute_reply.started": "2021-09-22T00:43:02.065562Z"
    },
    "tags": []
   },
   "outputs": [
    {
     "name": "stdout",
     "output_type": "stream",
     "text": [
      "(187791,) (187791,)\n",
      "(84851,) (84851,)\n",
      "We good: (272642,), (272642,), (272642,)\n"
     ]
    }
   ],
   "source": [
    "# Check\n",
    "print(X_train_neg.shape, y_train_neg.shape)\n",
    "print(X_train_pos.shape, y_train_pos.shape)\n",
    "if (X_train_neg.shape[0] + X_train_pos.shape[0] == X_train.shape[0]):\n",
    "    print(\"We good: {}, {}, {}\".format(X_train.shape, y_train.shape, id_train.shape))\n",
    "else:\n",
    "    print(\"The game is afoot\")"
   ]
  },
  {
   "cell_type": "markdown",
   "metadata": {},
   "source": [
    "*Positive training sequences*"
   ]
  },
  {
   "cell_type": "code",
   "execution_count": 12,
   "metadata": {
    "execution": {
     "iopub.execute_input": "2021-09-22T00:43:02.760047Z",
     "iopub.status.busy": "2021-09-22T00:43:02.759781Z",
     "iopub.status.idle": "2021-09-22T00:43:03.338753Z",
     "shell.execute_reply": "2021-09-22T00:43:03.338012Z",
     "shell.execute_reply.started": "2021-09-22T00:43:02.760012Z"
    },
    "tags": []
   },
   "outputs": [],
   "source": [
    "tr_file = open(\"../data/2021_OLS_Library/OLS.tr.fa\", \"w\")\n",
    "for i in range(len(X_train_pos)):\n",
    "    tr_file.write(\">\" + id_train_pos[i] + \"\\n\" + X_train_pos[i] + \"\\n\")\n",
    "tr_file.close()"
   ]
  },
  {
   "cell_type": "code",
   "execution_count": 13,
   "metadata": {
    "execution": {
     "iopub.execute_input": "2021-09-22T00:43:03.340025Z",
     "iopub.status.busy": "2021-09-22T00:43:03.339791Z",
     "iopub.status.idle": "2021-09-22T00:43:04.413939Z",
     "shell.execute_reply": "2021-09-22T00:43:04.413171Z",
     "shell.execute_reply.started": "2021-09-22T00:43:03.339997Z"
    },
    "tags": []
   },
   "outputs": [
    {
     "name": "stdout",
     "output_type": "stream",
     "text": [
      "169702 ../data/2021_OLS_Library/OLS.tr.fa\n"
     ]
    }
   ],
   "source": [
    "!wc -l ../data/2021_OLS_Library/OLS.tr.fa"
   ]
  },
  {
   "cell_type": "code",
   "execution_count": 14,
   "metadata": {
    "execution": {
     "iopub.execute_input": "2021-09-22T00:43:04.415398Z",
     "iopub.status.busy": "2021-09-22T00:43:04.415158Z",
     "iopub.status.idle": "2021-09-22T00:43:04.836503Z",
     "shell.execute_reply": "2021-09-22T00:43:04.835564Z",
     "shell.execute_reply.started": "2021-09-22T00:43:04.415369Z"
    },
    "tags": []
   },
   "outputs": [
    {
     "data": {
      "text/plain": [
       "169702"
      ]
     },
     "execution_count": 14,
     "metadata": {},
     "output_type": "execute_result"
    }
   ],
   "source": [
    "len(X_train_pos)*2"
   ]
  },
  {
   "cell_type": "markdown",
   "metadata": {},
   "source": [
    "*Negative training sequences*"
   ]
  },
  {
   "cell_type": "code",
   "execution_count": 15,
   "metadata": {
    "execution": {
     "iopub.execute_input": "2021-09-22T00:43:04.838373Z",
     "iopub.status.busy": "2021-09-22T00:43:04.838011Z",
     "iopub.status.idle": "2021-09-22T00:43:05.579695Z",
     "shell.execute_reply": "2021-09-22T00:43:05.578938Z",
     "shell.execute_reply.started": "2021-09-22T00:43:04.838328Z"
    },
    "tags": []
   },
   "outputs": [],
   "source": [
    "tr_neg_file = open(\"../data/2021_OLS_Library/OLS.neg.tr.fa\", \"w\")\n",
    "for i in range(len(X_train_neg)):\n",
    "    tr_neg_file.write(\">\" + id_train_neg[i] + \"\\n\" + X_train_neg[i] + \"\\n\")\n",
    "tr_neg_file.close()"
   ]
  },
  {
   "cell_type": "code",
   "execution_count": 16,
   "metadata": {
    "execution": {
     "iopub.execute_input": "2021-09-22T00:43:05.580958Z",
     "iopub.status.busy": "2021-09-22T00:43:05.580718Z",
     "iopub.status.idle": "2021-09-22T00:43:06.566095Z",
     "shell.execute_reply": "2021-09-22T00:43:06.565222Z",
     "shell.execute_reply.started": "2021-09-22T00:43:05.580929Z"
    },
    "tags": []
   },
   "outputs": [
    {
     "name": "stdout",
     "output_type": "stream",
     "text": [
      "375582 ../data/2021_OLS_Library/OLS.neg.tr.fa\n"
     ]
    }
   ],
   "source": [
    "!wc -l ../data/2021_OLS_Library/OLS.neg.tr.fa"
   ]
  },
  {
   "cell_type": "code",
   "execution_count": 17,
   "metadata": {
    "execution": {
     "iopub.execute_input": "2021-09-22T00:43:06.568105Z",
     "iopub.status.busy": "2021-09-22T00:43:06.567716Z",
     "iopub.status.idle": "2021-09-22T00:43:07.123912Z",
     "shell.execute_reply": "2021-09-22T00:43:07.123221Z",
     "shell.execute_reply.started": "2021-09-22T00:43:06.568057Z"
    },
    "tags": []
   },
   "outputs": [
    {
     "data": {
      "text/plain": [
       "375582"
      ]
     },
     "execution_count": 17,
     "metadata": {},
     "output_type": "execute_result"
    }
   ],
   "source": [
    "len(X_train_neg)*2"
   ]
  },
  {
   "cell_type": "markdown",
   "metadata": {
    "execution": {
     "iopub.execute_input": "2021-08-05T04:56:26.512653Z",
     "iopub.status.busy": "2021-08-05T04:56:26.512337Z",
     "iopub.status.idle": "2021-08-05T04:56:26.519366Z",
     "shell.execute_reply": "2021-08-05T04:56:26.517654Z",
     "shell.execute_reply.started": "2021-08-05T04:56:26.512618Z"
    },
    "tags": []
   },
   "source": [
    "#### <u> **Test** </u>"
   ]
  },
  {
   "cell_type": "code",
   "execution_count": 18,
   "metadata": {
    "execution": {
     "iopub.execute_input": "2021-09-22T00:43:07.125307Z",
     "iopub.status.busy": "2021-09-22T00:43:07.125081Z",
     "iopub.status.idle": "2021-09-22T00:43:07.664788Z",
     "shell.execute_reply": "2021-09-22T00:43:07.663947Z",
     "shell.execute_reply.started": "2021-09-22T00:43:07.125278Z"
    },
    "tags": []
   },
   "outputs": [],
   "source": [
    "# Mask\n",
    "test_neg_mask = (y_test == 0)"
   ]
  },
  {
   "cell_type": "code",
   "execution_count": 19,
   "metadata": {
    "execution": {
     "iopub.execute_input": "2021-09-22T00:43:07.666740Z",
     "iopub.status.busy": "2021-09-22T00:43:07.666356Z",
     "iopub.status.idle": "2021-09-22T00:43:08.120289Z",
     "shell.execute_reply": "2021-09-22T00:43:08.119523Z",
     "shell.execute_reply.started": "2021-09-22T00:43:07.666692Z"
    },
    "tags": []
   },
   "outputs": [],
   "source": [
    "# Negative seqs\n",
    "X_test_neg = X_test[test_neg_mask]\n",
    "y_test_neg = y_test[test_neg_mask]\n",
    "id_test_neg = id_test[test_neg_mask]\n",
    "\n",
    "# Positive seqs\n",
    "X_test_pos = X_test[~test_neg_mask]\n",
    "y_test_pos = y_test[~test_neg_mask]\n",
    "id_test_pos = id_test[~test_neg_mask]"
   ]
  },
  {
   "cell_type": "code",
   "execution_count": 20,
   "metadata": {
    "execution": {
     "iopub.execute_input": "2021-09-22T00:43:08.121557Z",
     "iopub.status.busy": "2021-09-22T00:43:08.121330Z",
     "iopub.status.idle": "2021-09-22T00:43:08.552061Z",
     "shell.execute_reply": "2021-09-22T00:43:08.551146Z",
     "shell.execute_reply.started": "2021-09-22T00:43:08.121528Z"
    },
    "tags": []
   },
   "outputs": [
    {
     "name": "stdout",
     "output_type": "stream",
     "text": [
      "(20938,) (20938,)\n",
      "(9356,) (9356,)\n",
      "We good: (30294,), (30294,). (30294,)\n"
     ]
    }
   ],
   "source": [
    "# Check\n",
    "print(X_test_neg.shape, y_test_neg.shape)\n",
    "print(X_test_pos.shape, y_test_pos.shape)\n",
    "if (X_test_neg.shape[0] + X_test_pos.shape[0] == X_test.shape[0]):\n",
    "    print(\"We good: {}, {}. {}\".format(X_test.shape, y_test.shape, id_test.shape))\n",
    "else:\n",
    "    print(\"The game is afoot\")"
   ]
  },
  {
   "cell_type": "markdown",
   "metadata": {},
   "source": [
    "*Positive test sequences*"
   ]
  },
  {
   "cell_type": "code",
   "execution_count": 21,
   "metadata": {
    "execution": {
     "iopub.execute_input": "2021-09-22T00:43:08.557834Z",
     "iopub.status.busy": "2021-09-22T00:43:08.557505Z",
     "iopub.status.idle": "2021-09-22T00:43:09.105104Z",
     "shell.execute_reply": "2021-09-22T00:43:09.104328Z",
     "shell.execute_reply.started": "2021-09-22T00:43:08.557794Z"
    },
    "tags": []
   },
   "outputs": [],
   "source": [
    "test_file = open(\"../data/2021_OLS_Library/OLS.test.fa\", \"w\")\n",
    "for i in range(len(X_test_pos)):\n",
    "    test_file.write(\">\" + id_test_pos[i] + \"\\n\" + X_test_pos[i] + \"\\n\")\n",
    "test_file.close()"
   ]
  },
  {
   "cell_type": "code",
   "execution_count": 22,
   "metadata": {
    "execution": {
     "iopub.execute_input": "2021-09-22T00:43:09.106934Z",
     "iopub.status.busy": "2021-09-22T00:43:09.106692Z",
     "iopub.status.idle": "2021-09-22T00:43:10.046976Z",
     "shell.execute_reply": "2021-09-22T00:43:10.045922Z",
     "shell.execute_reply.started": "2021-09-22T00:43:09.106905Z"
    },
    "tags": []
   },
   "outputs": [
    {
     "name": "stdout",
     "output_type": "stream",
     "text": [
      "18712 ../data/2021_OLS_Library/OLS.test.fa\n"
     ]
    }
   ],
   "source": [
    "!wc -l ../data/2021_OLS_Library/OLS.test.fa"
   ]
  },
  {
   "cell_type": "code",
   "execution_count": 23,
   "metadata": {
    "execution": {
     "iopub.execute_input": "2021-09-22T00:43:10.048607Z",
     "iopub.status.busy": "2021-09-22T00:43:10.048366Z",
     "iopub.status.idle": "2021-09-22T00:43:10.528782Z",
     "shell.execute_reply": "2021-09-22T00:43:10.527884Z",
     "shell.execute_reply.started": "2021-09-22T00:43:10.048577Z"
    },
    "tags": []
   },
   "outputs": [
    {
     "data": {
      "text/plain": [
       "18712"
      ]
     },
     "execution_count": 23,
     "metadata": {},
     "output_type": "execute_result"
    }
   ],
   "source": [
    "len(X_test_pos)*2"
   ]
  },
  {
   "cell_type": "markdown",
   "metadata": {},
   "source": [
    "*Negative test sequences*"
   ]
  },
  {
   "cell_type": "code",
   "execution_count": 24,
   "metadata": {
    "execution": {
     "iopub.execute_input": "2021-09-22T00:43:10.530148Z",
     "iopub.status.busy": "2021-09-22T00:43:10.529905Z",
     "iopub.status.idle": "2021-09-22T00:43:11.113081Z",
     "shell.execute_reply": "2021-09-22T00:43:11.112271Z",
     "shell.execute_reply.started": "2021-09-22T00:43:10.530120Z"
    },
    "tags": []
   },
   "outputs": [],
   "source": [
    "test_neg_file = open(\"../data/2021_OLS_Library/OLS.neg.test.fa\", \"w\")\n",
    "for i in range(len(X_test_neg)):\n",
    "    test_neg_file.write(\">\" + id_test_neg[i] + \"\\n\" + X_test_neg[i] + \"\\n\")\n",
    "test_neg_file.close()"
   ]
  },
  {
   "cell_type": "code",
   "execution_count": 25,
   "metadata": {
    "execution": {
     "iopub.execute_input": "2021-09-22T00:43:11.114375Z",
     "iopub.status.busy": "2021-09-22T00:43:11.114149Z",
     "iopub.status.idle": "2021-09-22T00:43:12.071272Z",
     "shell.execute_reply": "2021-09-22T00:43:12.070281Z",
     "shell.execute_reply.started": "2021-09-22T00:43:11.114347Z"
    },
    "tags": []
   },
   "outputs": [
    {
     "name": "stdout",
     "output_type": "stream",
     "text": [
      "41876 ../data/2021_OLS_Library/OLS.neg.test.fa\n"
     ]
    }
   ],
   "source": [
    "!wc -l ../data/2021_OLS_Library/OLS.neg.test.fa"
   ]
  },
  {
   "cell_type": "code",
   "execution_count": 26,
   "metadata": {
    "execution": {
     "iopub.execute_input": "2021-09-22T00:43:12.072985Z",
     "iopub.status.busy": "2021-09-22T00:43:12.072704Z",
     "iopub.status.idle": "2021-09-22T00:43:12.824839Z",
     "shell.execute_reply": "2021-09-22T00:43:12.824108Z",
     "shell.execute_reply.started": "2021-09-22T00:43:12.072955Z"
    },
    "tags": []
   },
   "outputs": [
    {
     "data": {
      "text/plain": [
       "41876"
      ]
     },
     "execution_count": 26,
     "metadata": {},
     "output_type": "execute_result"
    }
   ],
   "source": [
    "len(X_test_neg)*2"
   ]
  },
  {
   "cell_type": "markdown",
   "metadata": {},
   "source": [
    "## gkSVM Training and testing"
   ]
  },
  {
   "cell_type": "code",
   "execution_count": null,
   "metadata": {},
   "outputs": [],
   "source": [
    "#sbatch gkSVM.sh OLS.tr.fa OLS.neg.tr.fa OLS.test.fa OLS.neg.test.fa OLS"
   ]
  },
  {
   "cell_type": "code",
   "execution_count": null,
   "metadata": {},
   "outputs": [],
   "source": [
    "#!gkmpredict OLS.tr.fa OLS.model.txt OLS.tr.predict.txt\n",
    "#!gkmpredict OLS.neg.tr.fa OLS.model.txt OLS.neg.tr.predict.txt"
   ]
  },
  {
   "cell_type": "markdown",
   "metadata": {},
   "source": [
    "## gkSVM evaluation with help from downloaded script \n",
    "https://raw.githubusercontent.com/kundajelab/lsgkm/master/scripts/lsgkm_eval.py "
   ]
  },
  {
   "cell_type": "markdown",
   "metadata": {},
   "source": [
    "**Provided script**"
   ]
  },
  {
   "cell_type": "code",
   "execution_count": 38,
   "metadata": {
    "execution": {
     "iopub.execute_input": "2021-09-22T00:48:58.481848Z",
     "iopub.status.busy": "2021-09-22T00:48:58.481564Z",
     "iopub.status.idle": "2021-09-22T00:49:00.922404Z",
     "shell.execute_reply": "2021-09-22T00:49:00.921537Z",
     "shell.execute_reply.started": "2021-09-22T00:48:58.481817Z"
    },
    "tags": []
   },
   "outputs": [
    {
     "name": "stdout",
     "output_type": "stream",
     "text": [
      "Metric\tValue\tRandomised\n",
      "Accuracy_at_threshold_0\t0.7671\t0.6243\n",
      "AUROC\t0.7735\t0.4984\n",
      "AUPRC\t0.6521\t0.3103\n"
     ]
    }
   ],
   "source": [
    "# Train\n",
    "project_utils.score('Result_2021-OLS-X-fasta_0.18-0.4_baseline-regularization-strength/2021-OLS-X-fasta_0.18-0.4_baseline-regularization-strength.tr.predict.txt', \n",
    "                    'Result_2021-OLS-X-fasta_0.18-0.4_baseline-regularization-strength/2021-OLS-X-fasta_0.18-0.4_baseline-regularization-strength.neg.tr.predict.txt',\n",
    "                    0)"
   ]
  },
  {
   "cell_type": "code",
   "execution_count": 39,
   "metadata": {
    "execution": {
     "iopub.execute_input": "2021-09-22T00:49:01.479593Z",
     "iopub.status.busy": "2021-09-22T00:49:01.479375Z",
     "iopub.status.idle": "2021-09-22T00:49:02.324911Z",
     "shell.execute_reply": "2021-09-22T00:49:02.324042Z",
     "shell.execute_reply.started": "2021-09-22T00:49:01.479564Z"
    },
    "tags": []
   },
   "outputs": [
    {
     "name": "stdout",
     "output_type": "stream",
     "text": [
      "Metric\tValue\tRandomised\n",
      "Accuracy_at_threshold_0\t0.7668\t0.6275\n",
      "AUROC\t0.7725\t0.5026\n",
      "AUPRC\t0.6480\t0.3101\n"
     ]
    }
   ],
   "source": [
    "# Test\n",
    "project_utils.score('Result_2021-OLS-X-fasta_0.18-0.4_baseline-regularization-strength/2021-OLS-X-fasta_0.18-0.4_baseline-regularization-strength.predict.txt', \n",
    "                    'Result_2021-OLS-X-fasta_0.18-0.4_baseline-regularization-strength/2021-OLS-X-fasta_0.18-0.4_baseline-regularization-strength.neg.predict.txt',\n",
    "                    0)"
   ]
  },
  {
   "cell_type": "markdown",
   "metadata": {},
   "source": [
    "**Training scores**"
   ]
  },
  {
   "cell_type": "code",
   "execution_count": 29,
   "metadata": {
    "execution": {
     "iopub.execute_input": "2021-09-22T00:44:12.948306Z",
     "iopub.status.busy": "2021-09-22T00:44:12.948029Z",
     "iopub.status.idle": "2021-09-22T00:44:18.053833Z",
     "shell.execute_reply": "2021-09-22T00:44:18.051843Z",
     "shell.execute_reply.started": "2021-09-22T00:44:12.948275Z"
    },
    "tags": []
   },
   "outputs": [
    {
     "ename": "FileNotFoundError",
     "evalue": "[Errno 2] No such file or directory: 'Result_0.18-0.4/X_fasta_0.18-0.4.tr.predict.txt'",
     "output_type": "error",
     "traceback": [
      "\u001b[0;31m---------------------------------------------------------------------------\u001b[0m",
      "\u001b[0;31mFileNotFoundError\u001b[0m                         Traceback (most recent call last)",
      "\u001b[0;32m<ipython-input-29-d1fe4e6070fd>\u001b[0m in \u001b[0;36m<module>\u001b[0;34m\u001b[0m\n\u001b[1;32m      1\u001b[0m \u001b[0;31m# Make sure ordering is correct\u001b[0m\u001b[0;34m\u001b[0m\u001b[0;34m\u001b[0m\u001b[0;34m\u001b[0m\u001b[0m\n\u001b[0;32m----> 2\u001b[0;31m \u001b[0mpos_tr_scores\u001b[0m \u001b[0;34m=\u001b[0m \u001b[0mproject_utils\u001b[0m\u001b[0;34m.\u001b[0m\u001b[0mget_scores\u001b[0m\u001b[0;34m(\u001b[0m\u001b[0;34m'Result_0.18-0.4/X_fasta_0.18-0.4.tr.predict.txt'\u001b[0m\u001b[0;34m)\u001b[0m\u001b[0;34m\u001b[0m\u001b[0;34m\u001b[0m\u001b[0m\n\u001b[0m\u001b[1;32m      3\u001b[0m \u001b[0mneg_tr_scores\u001b[0m \u001b[0;34m=\u001b[0m \u001b[0mproject_utils\u001b[0m\u001b[0;34m.\u001b[0m\u001b[0mget_scores\u001b[0m\u001b[0;34m(\u001b[0m\u001b[0;34m'Result_0.18-0.4/X_fasta_0.18-0.4.neg.tr.predict.txt'\u001b[0m\u001b[0;34m)\u001b[0m\u001b[0;34m\u001b[0m\u001b[0;34m\u001b[0m\u001b[0m\n",
      "\u001b[0;32m~/projects/EUGENE/bin/project_utils.py\u001b[0m in \u001b[0;36mget_scores\u001b[0;34m(fname)\u001b[0m\n\u001b[1;32m     64\u001b[0m \u001b[0;34m\u001b[0m\u001b[0m\n\u001b[1;32m     65\u001b[0m \u001b[0;32mdef\u001b[0m \u001b[0mget_scores\u001b[0m\u001b[0;34m(\u001b[0m\u001b[0mfname\u001b[0m\u001b[0;34m)\u001b[0m\u001b[0;34m:\u001b[0m\u001b[0;34m\u001b[0m\u001b[0;34m\u001b[0m\u001b[0m\n\u001b[0;32m---> 66\u001b[0;31m     \u001b[0mf\u001b[0m \u001b[0;34m=\u001b[0m \u001b[0mopen\u001b[0m\u001b[0;34m(\u001b[0m\u001b[0mfname\u001b[0m\u001b[0;34m)\u001b[0m\u001b[0;34m\u001b[0m\u001b[0;34m\u001b[0m\u001b[0m\n\u001b[0m\u001b[1;32m     67\u001b[0m     \u001b[0md\u001b[0m \u001b[0;34m=\u001b[0m \u001b[0;34m[\u001b[0m\u001b[0mfloat\u001b[0m\u001b[0;34m(\u001b[0m\u001b[0mx\u001b[0m\u001b[0;34m.\u001b[0m\u001b[0mstrip\u001b[0m\u001b[0;34m(\u001b[0m\u001b[0;34m)\u001b[0m\u001b[0;34m.\u001b[0m\u001b[0msplit\u001b[0m\u001b[0;34m(\u001b[0m\u001b[0;34m'\\t'\u001b[0m\u001b[0;34m)\u001b[0m\u001b[0;34m[\u001b[0m\u001b[0;36m1\u001b[0m\u001b[0;34m]\u001b[0m\u001b[0;34m)\u001b[0m \u001b[0;32mfor\u001b[0m \u001b[0mx\u001b[0m \u001b[0;32min\u001b[0m \u001b[0mf\u001b[0m\u001b[0;34m]\u001b[0m\u001b[0;34m\u001b[0m\u001b[0;34m\u001b[0m\u001b[0m\n\u001b[1;32m     68\u001b[0m     \u001b[0mf\u001b[0m\u001b[0;34m.\u001b[0m\u001b[0mclose\u001b[0m\u001b[0;34m(\u001b[0m\u001b[0;34m)\u001b[0m\u001b[0;34m\u001b[0m\u001b[0;34m\u001b[0m\u001b[0m\n",
      "\u001b[0;31mFileNotFoundError\u001b[0m: [Errno 2] No such file or directory: 'Result_0.18-0.4/X_fasta_0.18-0.4.tr.predict.txt'"
     ]
    }
   ],
   "source": [
    "# Make sure ordering is correct\n",
    "pos_tr_scores = project_utils.get_scores('Result_0.18-0.4/X_fasta_0.18-0.4.tr.predict.txt')\n",
    "neg_tr_scores = project_utils.get_scores('Result_0.18-0.4/X_fasta_0.18-0.4.neg.tr.predict.txt')"
   ]
  },
  {
   "cell_type": "code",
   "execution_count": null,
   "metadata": {
    "execution": {
     "iopub.status.busy": "2021-09-22T00:44:18.055059Z",
     "iopub.status.idle": "2021-09-22T00:44:18.055678Z",
     "shell.execute_reply": "2021-09-22T00:44:18.055472Z"
    },
    "tags": []
   },
   "outputs": [],
   "source": [
    "y_tr_probs = np.array(pos_tr_scores + neg_tr_scores)"
   ]
  },
  {
   "cell_type": "code",
   "execution_count": null,
   "metadata": {
    "execution": {
     "iopub.status.busy": "2021-09-22T00:44:18.058134Z",
     "iopub.status.idle": "2021-09-22T00:44:18.058457Z",
     "shell.execute_reply": "2021-09-22T00:44:18.058297Z"
    },
    "tags": []
   },
   "outputs": [],
   "source": [
    "y_tr_preds = (y_tr_probs >= 0).astype(int)"
   ]
  },
  {
   "cell_type": "code",
   "execution_count": null,
   "metadata": {
    "execution": {
     "iopub.status.busy": "2021-09-22T00:44:18.059483Z",
     "iopub.status.idle": "2021-09-22T00:44:18.059801Z",
     "shell.execute_reply": "2021-09-22T00:44:18.059642Z"
    },
    "tags": []
   },
   "outputs": [],
   "source": [
    "y_train = np.array([1]*len(pos_tr_scores) + [0]*len(neg_tr_scores))"
   ]
  },
  {
   "cell_type": "code",
   "execution_count": null,
   "metadata": {
    "execution": {
     "iopub.status.busy": "2021-09-22T00:44:18.060917Z",
     "iopub.status.idle": "2021-09-22T00:44:18.061243Z",
     "shell.execute_reply": "2021-09-22T00:44:18.061083Z"
    },
    "tags": []
   },
   "outputs": [],
   "source": [
    "print(y_train.shape, y_tr_probs.shape, y_tr_preds.shape)"
   ]
  },
  {
   "cell_type": "markdown",
   "metadata": {},
   "source": [
    "**Test scores**"
   ]
  },
  {
   "cell_type": "code",
   "execution_count": null,
   "metadata": {
    "execution": {
     "iopub.status.busy": "2021-09-22T00:44:18.062252Z",
     "iopub.status.idle": "2021-09-22T00:44:18.062575Z",
     "shell.execute_reply": "2021-09-22T00:44:18.062415Z"
    },
    "tags": []
   },
   "outputs": [],
   "source": [
    "# Make sure ordering is correct\n",
    "pos_scores = project_utils.get_scores('Result_0.18-0.4/X_fasta_0.18-0.4.predict.txt')\n",
    "neg_scores = project_utils.get_scores('Result_0.18-0.4/X_fasta_0.18-0.4.neg.predict.txt')"
   ]
  },
  {
   "cell_type": "code",
   "execution_count": null,
   "metadata": {
    "execution": {
     "iopub.status.busy": "2021-09-22T00:44:18.063413Z",
     "iopub.status.idle": "2021-09-22T00:44:18.063732Z",
     "shell.execute_reply": "2021-09-22T00:44:18.063574Z"
    },
    "tags": []
   },
   "outputs": [],
   "source": [
    "y_probs = np.array(pos_scores + neg_scores)"
   ]
  },
  {
   "cell_type": "code",
   "execution_count": null,
   "metadata": {
    "execution": {
     "iopub.status.busy": "2021-09-22T00:44:18.064687Z",
     "iopub.status.idle": "2021-09-22T00:44:18.065130Z",
     "shell.execute_reply": "2021-09-22T00:44:18.064940Z"
    },
    "tags": []
   },
   "outputs": [],
   "source": [
    "y_preds = (y_probs >= 0).astype(int)"
   ]
  },
  {
   "cell_type": "code",
   "execution_count": null,
   "metadata": {
    "execution": {
     "iopub.status.busy": "2021-09-22T00:44:18.066080Z",
     "iopub.status.idle": "2021-09-22T00:44:18.066402Z",
     "shell.execute_reply": "2021-09-22T00:44:18.066241Z"
    },
    "tags": []
   },
   "outputs": [],
   "source": [
    "y_test = np.array([1]*len(pos_scores) + [0]*len(neg_scores))"
   ]
  },
  {
   "cell_type": "code",
   "execution_count": null,
   "metadata": {
    "execution": {
     "iopub.status.busy": "2021-09-22T00:44:18.067554Z",
     "iopub.status.idle": "2021-09-22T00:44:18.067892Z",
     "shell.execute_reply": "2021-09-22T00:44:18.067716Z"
    },
    "tags": []
   },
   "outputs": [],
   "source": [
    "print(y_test.shape, y_probs.shape, y_preds.shape)"
   ]
  },
  {
   "cell_type": "markdown",
   "metadata": {
    "tags": []
   },
   "source": [
    "### <u>**Confusion matrices** </u>"
   ]
  },
  {
   "cell_type": "code",
   "execution_count": null,
   "metadata": {
    "execution": {
     "iopub.status.busy": "2021-09-22T00:44:18.068755Z",
     "iopub.status.idle": "2021-09-22T00:44:18.069100Z",
     "shell.execute_reply": "2021-09-22T00:44:18.068941Z"
    },
    "tags": []
   },
   "outputs": [],
   "source": [
    "from sklearn.metrics import confusion_matrix"
   ]
  },
  {
   "cell_type": "code",
   "execution_count": null,
   "metadata": {
    "execution": {
     "iopub.status.busy": "2021-09-22T00:44:18.071728Z",
     "iopub.status.idle": "2021-09-22T00:44:18.072342Z",
     "shell.execute_reply": "2021-09-22T00:44:18.072044Z"
    },
    "tags": []
   },
   "outputs": [],
   "source": [
    "np.unique(y_tr_preds, return_counts=True), np.unique(y_preds, return_counts=True)"
   ]
  },
  {
   "cell_type": "code",
   "execution_count": null,
   "metadata": {
    "execution": {
     "iopub.status.busy": "2021-09-22T00:44:18.073771Z",
     "iopub.status.idle": "2021-09-22T00:44:18.074499Z",
     "shell.execute_reply": "2021-09-22T00:44:18.074198Z"
    },
    "tags": []
   },
   "outputs": [],
   "source": [
    "fig, ax = plt.subplots(1,2,figsize=(16,8))\n",
    "\n",
    "rc = {\"font.size\": 20}\n",
    "with plt.rc_context(rc):\n",
    "    sns.heatmap(confusion_matrix(y_train, y_tr_preds), annot=True, fmt='d', cmap='viridis', ax=ax[0])\n",
    "    ax[0].set_xlabel('predicted')\n",
    "    ax[0].set_ylabel('true label')\n",
    "    ax[0].set_title('Train Set')\n",
    "\n",
    "    sns.heatmap(confusion_matrix(y_test, y_preds), annot=True, fmt='d', cmap='viridis', ax=ax[1])\n",
    "    ax[1].set_xlabel('predicted')\n",
    "    ax[1].set_ylabel('true label')\n",
    "    ax[1].set_title('Test Set')\n",
    "    \n",
    "    plt.tight_layout();"
   ]
  },
  {
   "cell_type": "markdown",
   "metadata": {},
   "source": [
    "### <u> **Accuracies** </u>"
   ]
  },
  {
   "cell_type": "code",
   "execution_count": 33,
   "metadata": {
    "execution": {
     "iopub.execute_input": "2021-09-22T00:44:23.479292Z",
     "iopub.status.busy": "2021-09-22T00:44:23.479014Z",
     "iopub.status.idle": "2021-09-22T00:44:23.902572Z",
     "shell.execute_reply": "2021-09-22T00:44:23.901833Z",
     "shell.execute_reply.started": "2021-09-22T00:44:23.479263Z"
    },
    "tags": []
   },
   "outputs": [],
   "source": [
    "from sklearn.metrics import accuracy_score"
   ]
  },
  {
   "cell_type": "code",
   "execution_count": 30,
   "metadata": {
    "execution": {
     "iopub.execute_input": "2021-09-22T00:44:18.491252Z",
     "iopub.status.busy": "2021-09-22T00:44:18.490966Z",
     "iopub.status.idle": "2021-09-22T00:44:19.016246Z",
     "shell.execute_reply": "2021-09-22T00:44:19.014664Z",
     "shell.execute_reply.started": "2021-09-22T00:44:18.491220Z"
    },
    "tags": []
   },
   "outputs": [
    {
     "ename": "NameError",
     "evalue": "name 'accuracy_score' is not defined",
     "output_type": "error",
     "traceback": [
      "\u001b[0;31m---------------------------------------------------------------------------\u001b[0m",
      "\u001b[0;31mNameError\u001b[0m                                 Traceback (most recent call last)",
      "\u001b[0;32m<ipython-input-30-1f6a1acc4a1b>\u001b[0m in \u001b[0;36m<module>\u001b[0;34m\u001b[0m\n\u001b[0;32m----> 1\u001b[0;31m \u001b[0mtrain_acc\u001b[0m\u001b[0;34m,\u001b[0m \u001b[0mtest_acc\u001b[0m \u001b[0;34m=\u001b[0m \u001b[0maccuracy_score\u001b[0m\u001b[0;34m(\u001b[0m\u001b[0my_true\u001b[0m\u001b[0;34m=\u001b[0m\u001b[0my_train\u001b[0m\u001b[0;34m,\u001b[0m \u001b[0my_pred\u001b[0m\u001b[0;34m=\u001b[0m\u001b[0my_tr_preds\u001b[0m\u001b[0;34m)\u001b[0m\u001b[0;34m,\u001b[0m \u001b[0maccuracy_score\u001b[0m\u001b[0;34m(\u001b[0m\u001b[0my_true\u001b[0m\u001b[0;34m=\u001b[0m\u001b[0my_test\u001b[0m\u001b[0;34m,\u001b[0m \u001b[0my_pred\u001b[0m\u001b[0;34m=\u001b[0m\u001b[0my_preds\u001b[0m\u001b[0;34m)\u001b[0m\u001b[0;34m\u001b[0m\u001b[0;34m\u001b[0m\u001b[0m\n\u001b[0m",
      "\u001b[0;31mNameError\u001b[0m: name 'accuracy_score' is not defined"
     ]
    }
   ],
   "source": [
    "train_acc, test_acc = accuracy_score(y_true=y_train, y_pred=y_tr_preds), accuracy_score(y_true=y_test, y_pred=y_preds)"
   ]
  },
  {
   "cell_type": "code",
   "execution_count": null,
   "metadata": {
    "execution": {
     "iopub.status.busy": "2021-09-22T00:44:19.017345Z",
     "iopub.status.idle": "2021-09-22T00:44:19.017696Z",
     "shell.execute_reply": "2021-09-22T00:44:19.017527Z"
    },
    "tags": []
   },
   "outputs": [],
   "source": [
    "print(\"Train Acc\", \"Test Acc\", sep='\\t')\n",
    "print(\"{:.4f}\\t{:.4f}\".format(train_acc, test_acc))"
   ]
  },
  {
   "cell_type": "markdown",
   "metadata": {},
   "source": [
    "### <u> **F-scores** </u>"
   ]
  },
  {
   "cell_type": "code",
   "execution_count": null,
   "metadata": {
    "execution": {
     "iopub.status.busy": "2021-09-22T00:44:19.018898Z",
     "iopub.status.idle": "2021-09-22T00:44:19.019239Z",
     "shell.execute_reply": "2021-09-22T00:44:19.019076Z"
    },
    "tags": []
   },
   "outputs": [],
   "source": [
    "IFrame('https://en.wikipedia.org/wiki/F-score', width=800, height=400)"
   ]
  },
  {
   "cell_type": "code",
   "execution_count": 31,
   "metadata": {
    "execution": {
     "iopub.execute_input": "2021-09-22T00:44:19.481383Z",
     "iopub.status.busy": "2021-09-22T00:44:19.481112Z",
     "iopub.status.idle": "2021-09-22T00:44:19.940893Z",
     "shell.execute_reply": "2021-09-22T00:44:19.940125Z",
     "shell.execute_reply.started": "2021-09-22T00:44:19.481354Z"
    },
    "tags": []
   },
   "outputs": [],
   "source": [
    "from sklearn.metrics import precision_score, recall_score, f1_score"
   ]
  },
  {
   "cell_type": "code",
   "execution_count": 32,
   "metadata": {
    "execution": {
     "iopub.execute_input": "2021-09-22T00:44:20.413228Z",
     "iopub.status.busy": "2021-09-22T00:44:20.413006Z",
     "iopub.status.idle": "2021-09-22T00:44:20.856182Z",
     "shell.execute_reply": "2021-09-22T00:44:20.855377Z",
     "shell.execute_reply.started": "2021-09-22T00:44:20.413201Z"
    },
    "tags": []
   },
   "outputs": [],
   "source": [
    "def fbeta_score(pr, rec, beta):\n",
    "    return (1+(beta**2))*((pr*rec)/(((beta**2)*pr)+rec))"
   ]
  },
  {
   "cell_type": "code",
   "execution_count": 36,
   "metadata": {
    "execution": {
     "iopub.execute_input": "2021-08-13T18:36:17.320365Z",
     "iopub.status.busy": "2021-08-13T18:36:17.320104Z",
     "iopub.status.idle": "2021-08-13T18:36:18.319642Z",
     "shell.execute_reply": "2021-08-13T18:36:18.318852Z",
     "shell.execute_reply.started": "2021-08-13T18:36:17.320332Z"
    },
    "tags": []
   },
   "outputs": [],
   "source": [
    "train_prec, test_prec = precision_score(y_true=y_train, y_pred=y_tr_preds), precision_score(y_true=y_test, y_pred=y_preds)"
   ]
  },
  {
   "cell_type": "code",
   "execution_count": 37,
   "metadata": {
    "execution": {
     "iopub.execute_input": "2021-08-13T18:36:18.321455Z",
     "iopub.status.busy": "2021-08-13T18:36:18.320969Z",
     "iopub.status.idle": "2021-08-13T18:36:19.206951Z",
     "shell.execute_reply": "2021-08-13T18:36:19.206030Z",
     "shell.execute_reply.started": "2021-08-13T18:36:18.321407Z"
    },
    "tags": []
   },
   "outputs": [],
   "source": [
    "train_recall, test_recall = recall_score(y_true=y_train, y_pred=y_tr_preds), recall_score(y_true=y_test, y_pred=y_preds)"
   ]
  },
  {
   "cell_type": "code",
   "execution_count": 38,
   "metadata": {
    "execution": {
     "iopub.execute_input": "2021-08-13T18:36:19.208511Z",
     "iopub.status.busy": "2021-08-13T18:36:19.208236Z",
     "iopub.status.idle": "2021-08-13T18:36:20.010620Z",
     "shell.execute_reply": "2021-08-13T18:36:20.009762Z",
     "shell.execute_reply.started": "2021-08-13T18:36:19.208481Z"
    },
    "tags": []
   },
   "outputs": [],
   "source": [
    "train_f1, test_f1 = f1_score(y_true=y_train, y_pred=y_tr_preds), f1_score(y_true=y_test, y_pred=y_preds)"
   ]
  },
  {
   "cell_type": "code",
   "execution_count": 39,
   "metadata": {
    "execution": {
     "iopub.execute_input": "2021-08-13T18:36:20.012137Z",
     "iopub.status.busy": "2021-08-13T18:36:20.011880Z",
     "iopub.status.idle": "2021-08-13T18:36:20.762249Z",
     "shell.execute_reply": "2021-08-13T18:36:20.761400Z",
     "shell.execute_reply.started": "2021-08-13T18:36:20.012108Z"
    },
    "tags": []
   },
   "outputs": [],
   "source": [
    "fbeta_tr_scores = []\n",
    "fbeta_scores = []\n",
    "for b in [0.1, 0.5, 1, 2, 10]:\n",
    "    fbeta_tr_scores.append(fbeta_score(train_prec, train_recall, b))\n",
    "    fbeta_scores.append(fbeta_score(test_prec, test_recall, b))"
   ]
  },
  {
   "cell_type": "code",
   "execution_count": 40,
   "metadata": {
    "execution": {
     "iopub.execute_input": "2021-08-13T18:36:20.763621Z",
     "iopub.status.busy": "2021-08-13T18:36:20.763373Z",
     "iopub.status.idle": "2021-08-13T18:36:21.574097Z",
     "shell.execute_reply": "2021-08-13T18:36:21.572885Z",
     "shell.execute_reply.started": "2021-08-13T18:36:20.763592Z"
    },
    "tags": []
   },
   "outputs": [
    {
     "name": "stdout",
     "output_type": "stream",
     "text": [
      "Metric\tTrain\tTest\n",
      "Precision\t0.7279\t0.7206\n",
      "Recall\t0.4050\t0.4021\n",
      "F0.1-Score\t0.7222\t0.7149\n",
      "F0.5-Score\t0.6278\t0.6220\n",
      "F1-Score\t0.5205\t0.5162\n",
      "F2-Score\t0.4444\t0.4411\n",
      "F10-Score\t0.4068\t0.4039\n"
     ]
    }
   ],
   "source": [
    "print(\"Metric\", \"Train\", \"Test\", sep='\\t')\n",
    "print(\"{:s}\\t{:.4f}\\t{:.4f}\".format(\"Precision\", train_prec, test_prec))\n",
    "print(\"{:s}\\t{:.4f}\\t{:.4f}\".format(\"Recall\", train_recall, test_recall))\n",
    "#print(\"{:s}\\t{:.4f}\\t{:.4f}\".format(\"F1-Score\", train_f1, test_f1))\n",
    "for i, b in enumerate([0.1, 0.5, 1, 2, 10]):\n",
    "    print(\"F{:s}-Score\\t{:.4f}\\t{:.4f}\".format(str(b), fbeta_tr_scores[i], fbeta_scores[i])) "
   ]
  },
  {
   "cell_type": "markdown",
   "metadata": {},
   "source": [
    "### <u> **Precision-recall** </u>"
   ]
  },
  {
   "cell_type": "code",
   "execution_count": 41,
   "metadata": {
    "execution": {
     "iopub.execute_input": "2021-08-13T18:36:28.000293Z",
     "iopub.status.busy": "2021-08-13T18:36:28.000066Z",
     "iopub.status.idle": "2021-08-13T18:36:28.632613Z",
     "shell.execute_reply": "2021-08-13T18:36:28.631515Z",
     "shell.execute_reply.started": "2021-08-13T18:36:28.000264Z"
    },
    "tags": []
   },
   "outputs": [],
   "source": [
    "from sklearn.metrics import precision_recall_curve, average_precision_score"
   ]
  },
  {
   "cell_type": "code",
   "execution_count": 42,
   "metadata": {
    "execution": {
     "iopub.execute_input": "2021-08-13T18:36:28.634381Z",
     "iopub.status.busy": "2021-08-13T18:36:28.634150Z",
     "iopub.status.idle": "2021-08-13T18:36:29.486824Z",
     "shell.execute_reply": "2021-08-13T18:36:29.485842Z",
     "shell.execute_reply.started": "2021-08-13T18:36:28.634353Z"
    },
    "tags": []
   },
   "outputs": [],
   "source": [
    "precs_tr, recs_tr, threshs_tr = precision_recall_curve(y_true=y_train, probas_pred=y_tr_probs)\n",
    "avg_prec_tr = average_precision_score(y_true=y_train, y_score=y_tr_probs)"
   ]
  },
  {
   "cell_type": "code",
   "execution_count": 43,
   "metadata": {
    "execution": {
     "iopub.execute_input": "2021-08-13T18:36:29.490704Z",
     "iopub.status.busy": "2021-08-13T18:36:29.490426Z",
     "iopub.status.idle": "2021-08-13T18:36:30.224106Z",
     "shell.execute_reply": "2021-08-13T18:36:30.223249Z",
     "shell.execute_reply.started": "2021-08-13T18:36:29.490660Z"
    },
    "tags": []
   },
   "outputs": [],
   "source": [
    "precs, recs, threshs = precision_recall_curve(y_true=y_test, probas_pred=y_probs)\n",
    "avg_prec = average_precision_score(y_true=y_test, y_score=y_probs)"
   ]
  },
  {
   "cell_type": "code",
   "execution_count": 44,
   "metadata": {
    "execution": {
     "iopub.execute_input": "2021-08-13T18:36:30.225393Z",
     "iopub.status.busy": "2021-08-13T18:36:30.225168Z",
     "iopub.status.idle": "2021-08-13T18:36:31.015588Z",
     "shell.execute_reply": "2021-08-13T18:36:31.014783Z",
     "shell.execute_reply.started": "2021-08-13T18:36:30.225365Z"
    },
    "tags": []
   },
   "outputs": [
    {
     "data": {
      "text/plain": [
       "(0.652847810095438, 0.6485840670468868)"
      ]
     },
     "execution_count": 44,
     "metadata": {},
     "output_type": "execute_result"
    }
   ],
   "source": [
    "avg_prec_tr, avg_prec"
   ]
  },
  {
   "cell_type": "code",
   "execution_count": 47,
   "metadata": {
    "execution": {
     "iopub.execute_input": "2021-08-13T18:36:48.946236Z",
     "iopub.status.busy": "2021-08-13T18:36:48.945936Z",
     "iopub.status.idle": "2021-08-13T18:36:50.733618Z",
     "shell.execute_reply": "2021-08-13T18:36:50.732864Z",
     "shell.execute_reply.started": "2021-08-13T18:36:48.946205Z"
    },
    "tags": []
   },
   "outputs": [
    {
     "data": {
      "image/png": "[encoded data removed]",
      "text/plain": [
       "<Figure size 864x576 with 1 Axes>"
      ]
     },
     "metadata": {
      "needs_background": "light"
     },
     "output_type": "display_data"
    }
   ],
   "source": [
    "fig, ax = plt.subplots(1,1, figsize=(12,8))\n",
    "ax.step(recs_tr, precs_tr, where='post', lw=3, alpha=0.4, label='Training auPRC = %0.4f' % (avg_prec_tr))\n",
    "ax.step(recs, precs, where='post', lw=3, alpha=0.4, label='Testing auPRC = %0.4f' % (avg_prec))\n",
    "ax.axhline(len(y_test[y_test==1])/len(y_test), linestyle='--', lw=3, color='k', label='No skill', alpha=.8)\n",
    "ax.set_xlim([-0.05, 1.05])\n",
    "ax.set_ylim([-0.05, 1.05])\n",
    "ax.set_xlabel('Recall', fontsize=18)\n",
    "ax.set_ylabel('Precision', fontsize=18)\n",
    "ax.set_title('Precision recall', fontsize=18)\n",
    "ax.legend(loc=\"lower right\", fontsize=16);"
   ]
  },
  {
   "cell_type": "markdown",
   "metadata": {},
   "source": [
    "### <u> **Reciever operating characteristic** </u>"
   ]
  },
  {
   "cell_type": "code",
   "execution_count": 48,
   "metadata": {
    "execution": {
     "iopub.execute_input": "2021-08-13T18:39:54.351869Z",
     "iopub.status.busy": "2021-08-13T18:39:54.351562Z",
     "iopub.status.idle": "2021-08-13T18:39:55.057998Z",
     "shell.execute_reply": "2021-08-13T18:39:55.057168Z",
     "shell.execute_reply.started": "2021-08-13T18:39:54.351838Z"
    }
   },
   "outputs": [],
   "source": [
    "from sklearn.metrics import roc_curve, auc"
   ]
  },
  {
   "cell_type": "code",
   "execution_count": 50,
   "metadata": {
    "execution": {
     "iopub.execute_input": "2021-08-13T18:41:59.508944Z",
     "iopub.status.busy": "2021-08-13T18:41:59.508623Z",
     "iopub.status.idle": "2021-08-13T18:42:00.378722Z",
     "shell.execute_reply": "2021-08-13T18:42:00.377676Z",
     "shell.execute_reply.started": "2021-08-13T18:41:59.508914Z"
    }
   },
   "outputs": [],
   "source": [
    "fprs_tr, tprs_tr, threshs_tr = roc_curve(y_true=y_train, y_score=y_tr_probs)\n",
    "roc_auc_tr = auc(fprs_tr, tprs_tr)"
   ]
  },
  {
   "cell_type": "code",
   "execution_count": 52,
   "metadata": {
    "execution": {
     "iopub.execute_input": "2021-08-13T18:42:08.341845Z",
     "iopub.status.busy": "2021-08-13T18:42:08.341547Z",
     "iopub.status.idle": "2021-08-13T18:42:09.097378Z",
     "shell.execute_reply": "2021-08-13T18:42:09.096450Z",
     "shell.execute_reply.started": "2021-08-13T18:42:08.341814Z"
    },
    "tags": []
   },
   "outputs": [],
   "source": [
    "fprs, tprs, threshs = roc_curve(y_true=y_test, y_score=y_probs)\n",
    "roc_auc = auc(fprs, tprs)"
   ]
  },
  {
   "cell_type": "code",
   "execution_count": 53,
   "metadata": {
    "execution": {
     "iopub.execute_input": "2021-08-13T18:42:10.221076Z",
     "iopub.status.busy": "2021-08-13T18:42:10.220700Z",
     "iopub.status.idle": "2021-08-13T18:42:10.918647Z",
     "shell.execute_reply": "2021-08-13T18:42:10.917772Z",
     "shell.execute_reply.started": "2021-08-13T18:42:10.221027Z"
    },
    "tags": []
   },
   "outputs": [
    {
     "data": {
      "text/plain": [
       "(0.774158374803343, 0.7730121577616458)"
      ]
     },
     "execution_count": 53,
     "metadata": {},
     "output_type": "execute_result"
    }
   ],
   "source": [
    "roc_auc_tr, roc_auc"
   ]
  },
  {
   "cell_type": "code",
   "execution_count": 56,
   "metadata": {
    "execution": {
     "iopub.execute_input": "2021-08-13T18:44:31.599038Z",
     "iopub.status.busy": "2021-08-13T18:44:31.598750Z",
     "iopub.status.idle": "2021-08-13T18:44:33.565661Z",
     "shell.execute_reply": "2021-08-13T18:44:33.564810Z",
     "shell.execute_reply.started": "2021-08-13T18:44:31.599006Z"
    },
    "tags": []
   },
   "outputs": [
    {
     "data": {
      "image/png": "[encoded data removed]",
      "text/plain": [
       "<Figure size 864x576 with 1 Axes>"
      ]
     },
     "metadata": {
      "needs_background": "light"
     },
     "output_type": "display_data"
    }
   ],
   "source": [
    "fig, ax = plt.subplots(1, 1, figsize=(12,8))\n",
    "ax.plot(fprs_tr, tprs_tr, lw=3, alpha=0.4, label='Training (auROC = %0.4f)' % (roc_auc))\n",
    "ax.plot(fprs, tprs, lw=3, alpha=0.4, label='Test (auROC= %0.4f)' % (roc_auc))\n",
    "ax.plot([0, 1], [0, 1], linestyle='--', lw=3, color='k', label='No skill', alpha=.8)\n",
    "ax.set_xlim([-0.05, 1.05])\n",
    "ax.set_ylim([-0.05, 1.05])\n",
    "ax.set_xlabel('False Positive Rate', fontsize=18)\n",
    "ax.set_ylabel('True Positive Rate', fontsize=18)\n",
    "ax.set_title('Receiver operating characteristic', fontsize=18)\n",
    "ax.legend(loc=\"lower right\", fontsize=16);"
   ]
  },
  {
   "cell_type": "markdown",
   "metadata": {},
   "source": [
    "## Save the classifier\n",
    "Classifier is already saved by the LS-GKM tool"
   ]
  },
  {
   "cell_type": "code",
   "execution_count": null,
   "metadata": {},
   "outputs": [],
   "source": []
  }
 ],
 "metadata": {
  "kernelspec": {
   "display_name": "Python3 ml_env",
   "language": "python",
   "name": "ml_env"
  },
  "language_info": {
   "codemirror_mode": {
    "name": "ipython",
    "version": 3
   },
   "file_extension": ".py",
   "mimetype": "text/x-python",
   "name": "python",
   "nbconvert_exporter": "python",
   "pygments_lexer": "ipython3",
   "version": "3.8.8"
  }
 },
 "nbformat": 4,
 "nbformat_minor": 4
}

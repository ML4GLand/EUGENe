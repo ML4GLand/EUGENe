{
 "cells": [
  {
   "cell_type": "markdown",
   "id": "c8fab0a8-93f8-49b4-a95f-3b4e0efeced1",
   "metadata": {},
   "source": [
    "# Logistic Regression For Enhancer Activity Prediction\n",
    "Adam Klie\n",
    "07/25/2021"
   ]
  },
  {
   "cell_type": "code",
   "execution_count": 63,
   "id": "150f32b8-50b6-40ad-bf7f-13d191df89f7",
   "metadata": {
    "execution": {
     "iopub.execute_input": "2021-09-21T23:11:28.472735Z",
     "iopub.status.busy": "2021-09-21T23:11:28.472459Z",
     "iopub.status.idle": "2021-09-21T23:11:28.969078Z",
     "shell.execute_reply": "2021-09-21T23:11:28.968255Z",
     "shell.execute_reply.started": "2021-09-21T23:11:28.472705Z"
    },
    "tags": []
   },
   "outputs": [],
   "source": [
    "# Classics\n",
    "import matplotlib.pyplot as plt\n",
    "import numpy as np\n",
    "import pandas as pd\n",
    "import seaborn as sns\n",
    "\n",
    "import pickle\n",
    "\n",
    "plt.style.use('presentation')\n",
    "from IPython.display import IFrame\n",
    "\n",
    "# Autoreload extension\n",
    "if 'autoreload' not in get_ipython().extension_manager.loaded:\n",
    "    %load_ext autoreload\n",
    "    \n",
    "%autoreload 2"
   ]
  },
  {
   "cell_type": "code",
   "execution_count": 64,
   "id": "3d20bc99-4f08-445a-8d61-71269630f061",
   "metadata": {
    "execution": {
     "iopub.execute_input": "2021-09-21T23:11:29.634383Z",
     "iopub.status.busy": "2021-09-21T23:11:29.634166Z",
     "iopub.status.idle": "2021-09-21T23:11:30.148295Z",
     "shell.execute_reply": "2021-09-21T23:11:30.147498Z",
     "shell.execute_reply.started": "2021-09-21T23:11:29.634354Z"
    },
    "tags": []
   },
   "outputs": [],
   "source": [
    "import sys\n",
    "sys.path.append('/cellar/users/aklie/projects/EUGENE/bin/')\n",
    "import project_utils"
   ]
  },
  {
   "cell_type": "markdown",
   "id": "20293f16-1e15-442c-ad9c-58a5068ac90d",
   "metadata": {
    "tags": []
   },
   "source": [
    "# Load data"
   ]
  },
  {
   "cell_type": "code",
   "execution_count": 168,
   "id": "46c67fbf-c1f0-4387-9ef0-b20b91e92ff0",
   "metadata": {
    "execution": {
     "iopub.execute_input": "2021-09-21T23:20:10.428071Z",
     "iopub.status.busy": "2021-09-21T23:20:10.427765Z",
     "iopub.status.idle": "2021-09-21T23:20:25.700699Z",
     "shell.execute_reply": "2021-09-21T23:20:25.699959Z",
     "shell.execute_reply.started": "2021-09-21T23:20:10.428040Z"
    },
    "tags": []
   },
   "outputs": [],
   "source": [
    "X, y = np.loadtxt('../data/2021_OLS_Library/block/X_block_0.18-0.4.txt', delimiter=' ', dtype=float), np.loadtxt('../data/2021_OLS_Library/y_binary_0.18-0.4.txt', delimiter=' ', dtype=int)\n",
    "#X, y = np.loadtxt('../data/2021_OLS_Library/mixed/X_mixed_0.18-0.4.txt', delimiter=' ', dtype=float), np.loadtxt('../data/2021_OLS_Library/y_binary_0.18-0.4.txt', delimiter=' ', dtype=int)\n",
    "#X, y = np.loadtxt('../data/2021_OLS_Library/mixed_2.0/X_mixed_2.0_0.18-0.4.txt', delimiter=' ', dtype=float), np.loadtxt('../data/2021_OLS_Library/y_binary_0.18-0.4.txt', delimiter=' ', dtype=int)"
   ]
  },
  {
   "cell_type": "code",
   "execution_count": 169,
   "id": "ddff66c7-e76e-47fa-aa0a-7c9e8739a09a",
   "metadata": {
    "execution": {
     "iopub.execute_input": "2021-09-21T23:20:26.283097Z",
     "iopub.status.busy": "2021-09-21T23:20:26.282882Z",
     "iopub.status.idle": "2021-09-21T23:20:26.909518Z",
     "shell.execute_reply": "2021-09-21T23:20:26.908625Z",
     "shell.execute_reply.started": "2021-09-21T23:20:26.283068Z"
    },
    "tags": []
   },
   "outputs": [
    {
     "data": {
      "text/plain": [
       "((302936, 75), (302936,))"
      ]
     },
     "execution_count": 169,
     "metadata": {},
     "output_type": "execute_result"
    }
   ],
   "source": [
    "X.shape, y.shape"
   ]
  },
  {
   "cell_type": "code",
   "execution_count": 170,
   "id": "14612003-df71-4b7c-a6ea-3d9952ff468b",
   "metadata": {
    "execution": {
     "iopub.execute_input": "2021-09-21T23:20:26.911122Z",
     "iopub.status.busy": "2021-09-21T23:20:26.910882Z",
     "iopub.status.idle": "2021-09-21T23:20:27.407288Z",
     "shell.execute_reply": "2021-09-21T23:20:27.406463Z",
     "shell.execute_reply.started": "2021-09-21T23:20:26.911092Z"
    },
    "tags": []
   },
   "outputs": [
    {
     "data": {
      "text/plain": [
       "(array([1., 0., 0., 0., 0., 0., 0., 0., 0., 0., 1., 0., 0., 0., 0., 0., 1.,\n",
       "        0., 0., 0., 1., 0., 0., 0., 0., 0., 0., 0., 0., 0., 0., 0., 1., 0.,\n",
       "        0., 0., 0., 1., 0., 0., 0., 0., 0., 0., 0., 0., 0., 0., 1., 0., 0.,\n",
       "        0., 0., 0., 0., 0., 0., 1., 0., 0., 0., 0., 0., 0., 1., 0., 0., 0.,\n",
       "        0., 0., 0., 0., 0., 1., 0.]),\n",
       " 1)"
      ]
     },
     "execution_count": 170,
     "metadata": {},
     "output_type": "execute_result"
    }
   ],
   "source": [
    "X[0], y[0]"
   ]
  },
  {
   "cell_type": "code",
   "execution_count": 171,
   "id": "668c8f57-bf8c-444d-8bdf-54d56f276536",
   "metadata": {
    "execution": {
     "iopub.execute_input": "2021-09-21T23:20:27.408621Z",
     "iopub.status.busy": "2021-09-21T23:20:27.408391Z",
     "iopub.status.idle": "2021-09-21T23:20:27.969621Z",
     "shell.execute_reply": "2021-09-21T23:20:27.968843Z",
     "shell.execute_reply.started": "2021-09-21T23:20:27.408592Z"
    },
    "tags": []
   },
   "outputs": [
    {
     "data": {
      "text/plain": [
       "(array([0., 1.]), array([272779,  30157]))"
      ]
     },
     "execution_count": 171,
     "metadata": {},
     "output_type": "execute_result"
    }
   ],
   "source": [
    "# Don't remove current feature if more than one unique value\n",
    "np.unique(X[:,-1], return_counts=True)"
   ]
  },
  {
   "cell_type": "code",
   "execution_count": 15,
   "id": "06597290-f095-404d-a5c4-ac53f83d5073",
   "metadata": {
    "execution": {
     "iopub.execute_input": "2021-09-21T22:58:23.646126Z",
     "iopub.status.busy": "2021-09-21T22:58:23.645849Z",
     "iopub.status.idle": "2021-09-21T22:58:24.184161Z",
     "shell.execute_reply": "2021-09-21T22:58:24.183363Z",
     "shell.execute_reply.started": "2021-09-21T22:58:23.646094Z"
    },
    "tags": []
   },
   "outputs": [],
   "source": [
    "# Remove consant feature\n",
    "#X = X[:,:-1]"
   ]
  },
  {
   "cell_type": "markdown",
   "id": "7e0a40c9-fcd3-4d4a-945d-5f85a174d270",
   "metadata": {
    "tags": []
   },
   "source": [
    "# Check logistic regression assumptions"
   ]
  },
  {
   "cell_type": "markdown",
   "id": "4c2d7bbe-3860-46b3-a333-0ee67fdc02ec",
   "metadata": {},
   "source": [
    "**1. <u> Response variable is binary </u>**"
   ]
  },
  {
   "cell_type": "code",
   "execution_count": 16,
   "id": "90638832-fb03-4276-8606-faad93536e01",
   "metadata": {
    "execution": {
     "iopub.execute_input": "2021-09-21T22:59:07.433739Z",
     "iopub.status.busy": "2021-09-21T22:59:07.433462Z",
     "iopub.status.idle": "2021-09-21T22:59:07.911681Z",
     "shell.execute_reply": "2021-09-21T22:59:07.910941Z",
     "shell.execute_reply.started": "2021-09-21T22:59:07.433708Z"
    },
    "tags": []
   },
   "outputs": [
    {
     "data": {
      "text/plain": [
       "(array([0, 1]), array([208729,  94207]))"
      ]
     },
     "execution_count": 16,
     "metadata": {},
     "output_type": "execute_result"
    }
   ],
   "source": [
    "np.unique(y, return_counts=True)"
   ]
  },
  {
   "cell_type": "markdown",
   "id": "330263ad-213f-4bc0-ad37-cf41750633d0",
   "metadata": {},
   "source": [
    "Check"
   ]
  },
  {
   "cell_type": "markdown",
   "id": "5a10b4e2-0b0a-4542-813f-b236d189ef93",
   "metadata": {
    "execution": {
     "iopub.execute_input": "2021-07-26T02:59:53.467132Z",
     "iopub.status.busy": "2021-07-26T02:59:53.466847Z",
     "iopub.status.idle": "2021-07-26T02:59:54.101085Z",
     "shell.execute_reply": "2021-07-26T02:59:54.099223Z",
     "shell.execute_reply.started": "2021-07-26T02:59:53.467098Z"
    },
    "tags": []
   },
   "source": [
    "**2. <u> Observations are independent </u>**"
   ]
  },
  {
   "cell_type": "markdown",
   "id": "c0091c15-f7ed-4a08-8b1f-366356ba5e2b",
   "metadata": {},
   "source": [
    "Check. These are all independent observations"
   ]
  },
  {
   "cell_type": "markdown",
   "id": "bbc9d71f-9cbc-4733-b245-753177fd943f",
   "metadata": {},
   "source": [
    "**3. <u> No multicolinearity between features </u>**"
   ]
  },
  {
   "cell_type": "code",
   "execution_count": 73,
   "id": "85d22ecd-da84-48e6-a31f-a711e3ee7184",
   "metadata": {
    "execution": {
     "iopub.execute_input": "2021-08-03T03:15:43.442781Z",
     "iopub.status.busy": "2021-08-03T03:15:43.442489Z",
     "iopub.status.idle": "2021-08-03T03:15:44.044208Z",
     "shell.execute_reply": "2021-08-03T03:15:44.043149Z",
     "shell.execute_reply.started": "2021-08-03T03:15:43.442750Z"
    },
    "tags": []
   },
   "outputs": [],
   "source": [
    "#project_utils.multicollinearity_assumption(X)"
   ]
  },
  {
   "cell_type": "markdown",
   "id": "e10ff768-0809-413f-85de-ac16510a2b6e",
   "metadata": {},
   "source": [
    "**4. <u> There are No Extreme Outliers </u>**"
   ]
  },
  {
   "cell_type": "markdown",
   "id": "02325a93-d511-4c71-84aa-d990ef27d1da",
   "metadata": {},
   "source": [
    "This is something I would have to think about more but I think the preprocessing steps probably got rid of a lot of these"
   ]
  },
  {
   "cell_type": "markdown",
   "id": "9644a32a-9305-444d-a941-67a77ee85a1a",
   "metadata": {},
   "source": [
    "**5. <u> There is a Linear Relationship Between Explanatory Variables and the Logit of the Response Variable </u>**"
   ]
  },
  {
   "cell_type": "markdown",
   "id": "c83c3aad-cc56-48e7-9bd7-0b730a92ca08",
   "metadata": {},
   "source": [
    "Can maybe use this box tidwell test for each variable?"
   ]
  },
  {
   "cell_type": "markdown",
   "id": "db325e6f-3e63-49fc-8300-62a353bd86fd",
   "metadata": {},
   "source": [
    "**6. <u> Large enough sample size </u>**"
   ]
  },
  {
   "cell_type": "markdown",
   "id": "91a37c02-0bde-46bf-a641-633b1e7c9f91",
   "metadata": {},
   "source": [
    "General rule of thumb here is to have 10 examples for the least frequent outcome for each predictor variable you have"
   ]
  },
  {
   "cell_type": "code",
   "execution_count": 17,
   "id": "4512108a-e872-4d0a-8006-31a9af90d873",
   "metadata": {
    "execution": {
     "iopub.execute_input": "2021-09-21T23:00:49.483613Z",
     "iopub.status.busy": "2021-09-21T23:00:49.483325Z",
     "iopub.status.idle": "2021-09-21T23:00:50.103191Z",
     "shell.execute_reply": "2021-09-21T23:00:50.102446Z",
     "shell.execute_reply.started": "2021-09-21T23:00:49.483581Z"
    },
    "tags": []
   },
   "outputs": [
    {
     "name": "stdout",
     "output_type": "stream",
     "text": [
      "(10*75)/(0.310979876937703) = 2411.731612300572\n"
     ]
    }
   ],
   "source": [
    "y_counts = np.unique(y, return_counts=True)[1]\n",
    "p = y_counts[1]/len(y)\n",
    "print(\"(10*{})/({}) = {}\".format(X.shape[1], p, (10*X.shape[1])/p))"
   ]
  },
  {
   "cell_type": "markdown",
   "id": "c11b1964-7ac1-4533-8768-4ee6ad2d1c0e",
   "metadata": {},
   "source": [
    "# Train and test a logistic regression model"
   ]
  },
  {
   "cell_type": "markdown",
   "id": "e591483e-ec5b-47aa-95e8-46d514e7ba4b",
   "metadata": {},
   "source": [
    "## **Train/test split**"
   ]
  },
  {
   "cell_type": "code",
   "execution_count": 177,
   "id": "e025c794-220f-4106-85ad-32577a29d50e",
   "metadata": {
    "execution": {
     "iopub.execute_input": "2021-09-21T23:20:41.747458Z",
     "iopub.status.busy": "2021-09-21T23:20:41.747169Z",
     "iopub.status.idle": "2021-09-21T23:20:42.368371Z",
     "shell.execute_reply": "2021-09-21T23:20:42.367585Z",
     "shell.execute_reply.started": "2021-09-21T23:20:41.747427Z"
    },
    "tags": []
   },
   "outputs": [],
   "source": [
    "from sklearn.model_selection import train_test_split"
   ]
  },
  {
   "cell_type": "code",
   "execution_count": 178,
   "id": "8b70c395-3a00-403d-9697-3bfc8e3364cf",
   "metadata": {
    "execution": {
     "iopub.execute_input": "2021-09-21T23:20:42.369748Z",
     "iopub.status.busy": "2021-09-21T23:20:42.369529Z",
     "iopub.status.idle": "2021-09-21T23:20:42.852514Z",
     "shell.execute_reply": "2021-09-21T23:20:42.851776Z",
     "shell.execute_reply.started": "2021-09-21T23:20:42.369720Z"
    },
    "tags": []
   },
   "outputs": [],
   "source": [
    "split = 0.9"
   ]
  },
  {
   "cell_type": "code",
   "execution_count": 179,
   "id": "eb93b92c-91e7-4565-b99f-93a5656b0dc0",
   "metadata": {
    "execution": {
     "iopub.execute_input": "2021-09-21T23:20:43.582528Z",
     "iopub.status.busy": "2021-09-21T23:20:43.582304Z",
     "iopub.status.idle": "2021-09-21T23:20:44.163753Z",
     "shell.execute_reply": "2021-09-21T23:20:44.162971Z",
     "shell.execute_reply.started": "2021-09-21T23:20:43.582498Z"
    },
    "tags": []
   },
   "outputs": [],
   "source": [
    "X_train, X_test, y_train, y_test = train_test_split(X, y, train_size=split, random_state=13, shuffle=True)"
   ]
  },
  {
   "cell_type": "code",
   "execution_count": 180,
   "id": "9c0279fc-8e9e-415d-831e-ca918b165cfb",
   "metadata": {
    "execution": {
     "iopub.execute_input": "2021-09-21T23:20:44.165096Z",
     "iopub.status.busy": "2021-09-21T23:20:44.164774Z",
     "iopub.status.idle": "2021-09-21T23:20:44.719902Z",
     "shell.execute_reply": "2021-09-21T23:20:44.719171Z",
     "shell.execute_reply.started": "2021-09-21T23:20:44.165066Z"
    },
    "tags": []
   },
   "outputs": [
    {
     "data": {
      "text/plain": [
       "((272642, 75), (30294, 75), (272642,), (30294,))"
      ]
     },
     "execution_count": 180,
     "metadata": {},
     "output_type": "execute_result"
    }
   ],
   "source": [
    "X_train.shape, X_test.shape, y_train.shape, y_test.shape"
   ]
  },
  {
   "cell_type": "code",
   "execution_count": 181,
   "id": "c85808af-0887-4a78-ab49-1d1a4eae9522",
   "metadata": {
    "execution": {
     "iopub.execute_input": "2021-09-21T23:20:44.721591Z",
     "iopub.status.busy": "2021-09-21T23:20:44.721241Z",
     "iopub.status.idle": "2021-09-21T23:20:45.247730Z",
     "shell.execute_reply": "2021-09-21T23:20:45.247072Z",
     "shell.execute_reply.started": "2021-09-21T23:20:44.721545Z"
    },
    "tags": []
   },
   "outputs": [
    {
     "data": {
      "text/plain": [
       "(array([0.68878236, 0.31121764]), array([0.69115997, 0.30884003]))"
      ]
     },
     "execution_count": 181,
     "metadata": {},
     "output_type": "execute_result"
    }
   ],
   "source": [
    "np.unique(y_train, return_counts=True)[1]/len(y_train), np.unique(y_test, return_counts=True)[1]/len(y_test)"
   ]
  },
  {
   "cell_type": "markdown",
   "id": "05e5dbae-2935-4170-8e0d-0843f2f58eb1",
   "metadata": {},
   "source": [
    "## **Standardize features:** *For mixed encoding only*"
   ]
  },
  {
   "cell_type": "code",
   "execution_count": 124,
   "id": "cc5a4b32-88ae-48bd-804b-958a5de468fd",
   "metadata": {
    "execution": {
     "iopub.execute_input": "2021-09-21T23:17:26.712778Z",
     "iopub.status.busy": "2021-09-21T23:17:26.712499Z",
     "iopub.status.idle": "2021-09-21T23:17:27.669311Z",
     "shell.execute_reply": "2021-09-21T23:17:27.668453Z",
     "shell.execute_reply.started": "2021-09-21T23:17:26.712747Z"
    },
    "tags": []
   },
   "outputs": [],
   "source": [
    "#scale_indeces = np.array([0, 3, 4, 7, 8, 11, 12, 15, 16, 19, 20])  # Mixed 1.0\n",
    "scale_indeces = np.array([0, 5, 10, 15, 20, 25])  # Mixed 2.0"
   ]
  },
  {
   "cell_type": "code",
   "execution_count": 125,
   "id": "69a10716-ae78-45ff-8e15-82ceb09af932",
   "metadata": {
    "execution": {
     "iopub.execute_input": "2021-09-21T23:17:28.184918Z",
     "iopub.status.busy": "2021-09-21T23:17:28.184689Z",
     "iopub.status.idle": "2021-09-21T23:17:28.816569Z",
     "shell.execute_reply": "2021-09-21T23:17:28.815790Z",
     "shell.execute_reply.started": "2021-09-21T23:17:28.184889Z"
    },
    "tags": []
   },
   "outputs": [],
   "source": [
    "means = X_train[:, scale_indeces].mean(axis=0)\n",
    "stds = X_train[:, scale_indeces].std(axis=0)"
   ]
  },
  {
   "cell_type": "code",
   "execution_count": 126,
   "id": "13291aa4-2023-4d3d-bfb8-b2eab7944e90",
   "metadata": {
    "execution": {
     "iopub.execute_input": "2021-09-21T23:17:30.592626Z",
     "iopub.status.busy": "2021-09-21T23:17:30.592361Z",
     "iopub.status.idle": "2021-09-21T23:17:31.254635Z",
     "shell.execute_reply": "2021-09-21T23:17:31.253878Z",
     "shell.execute_reply.started": "2021-09-21T23:17:30.592595Z"
    },
    "tags": []
   },
   "outputs": [],
   "source": [
    "X_train[:, scale_indeces] -= means\n",
    "X_train[:, scale_indeces] /= stds"
   ]
  },
  {
   "cell_type": "code",
   "execution_count": 127,
   "id": "d82d77f5-c2ec-4cc2-9834-008600156fcf",
   "metadata": {
    "execution": {
     "iopub.execute_input": "2021-09-21T23:17:31.867748Z",
     "iopub.status.busy": "2021-09-21T23:17:31.867398Z",
     "iopub.status.idle": "2021-09-21T23:17:32.451905Z",
     "shell.execute_reply": "2021-09-21T23:17:32.451133Z",
     "shell.execute_reply.started": "2021-09-21T23:17:31.867704Z"
    },
    "tags": []
   },
   "outputs": [
    {
     "data": {
      "text/plain": [
       "(array([-3.72156537e-17, -8.61328681e-17,  6.50101178e-17,  5.79083912e-17,\n",
       "         3.13779041e-17,  1.27648650e-16]),\n",
       " array([1., 1., 1., 1., 1., 1.]))"
      ]
     },
     "execution_count": 127,
     "metadata": {},
     "output_type": "execute_result"
    }
   ],
   "source": [
    "X_train[:, scale_indeces].mean(axis=0), X_train[:, scale_indeces].std(axis=0)"
   ]
  },
  {
   "cell_type": "code",
   "execution_count": 128,
   "id": "078560b0-08d5-4985-bfae-c51ffd2b5318",
   "metadata": {
    "execution": {
     "iopub.execute_input": "2021-09-21T23:17:33.574562Z",
     "iopub.status.busy": "2021-09-21T23:17:33.574318Z",
     "iopub.status.idle": "2021-09-21T23:17:34.026786Z",
     "shell.execute_reply": "2021-09-21T23:17:34.025734Z",
     "shell.execute_reply.started": "2021-09-21T23:17:33.574532Z"
    },
    "tags": []
   },
   "outputs": [],
   "source": [
    "X_test[:, scale_indeces] -= means\n",
    "X_test[:, scale_indeces] /= stds"
   ]
  },
  {
   "cell_type": "markdown",
   "id": "fd02d4fc-dd2c-4970-a10c-6fa4704cbae1",
   "metadata": {},
   "source": [
    "## **Logistic Regression training**"
   ]
  },
  {
   "cell_type": "code",
   "execution_count": 129,
   "id": "07d52b5f-623d-4b2d-9cd3-a6b248ec66c1",
   "metadata": {
    "execution": {
     "iopub.execute_input": "2021-09-21T23:17:34.837114Z",
     "iopub.status.busy": "2021-09-21T23:17:34.836735Z",
     "iopub.status.idle": "2021-09-21T23:17:35.335804Z",
     "shell.execute_reply": "2021-09-21T23:17:35.334954Z",
     "shell.execute_reply.started": "2021-09-21T23:17:34.837068Z"
    },
    "tags": []
   },
   "outputs": [],
   "source": [
    "from sklearn.linear_model import LogisticRegression"
   ]
  },
  {
   "cell_type": "code",
   "execution_count": 130,
   "id": "32d63a1a-da3a-4774-800c-00b32f23bbab",
   "metadata": {
    "execution": {
     "iopub.execute_input": "2021-09-21T23:17:35.893564Z",
     "iopub.status.busy": "2021-09-21T23:17:35.893340Z",
     "iopub.status.idle": "2021-09-21T23:17:36.651196Z",
     "shell.execute_reply": "2021-09-21T23:17:36.650330Z",
     "shell.execute_reply.started": "2021-09-21T23:17:35.893535Z"
    },
    "tags": []
   },
   "outputs": [],
   "source": [
    "clf = LogisticRegression(random_state=13, verbose=1)  #, class_weight='balanced') #{0:1, 1:2})"
   ]
  },
  {
   "cell_type": "code",
   "execution_count": 131,
   "id": "e28cb90e-d2a3-401f-b9f7-1f98af5ec42c",
   "metadata": {
    "execution": {
     "iopub.execute_input": "2021-09-21T23:17:37.112531Z",
     "iopub.status.busy": "2021-09-21T23:17:37.112316Z",
     "iopub.status.idle": "2021-09-21T23:17:40.262086Z",
     "shell.execute_reply": "2021-09-21T23:17:40.261205Z",
     "shell.execute_reply.started": "2021-09-21T23:17:37.112502Z"
    },
    "tags": []
   },
   "outputs": [
    {
     "name": "stderr",
     "output_type": "stream",
     "text": [
      "[Parallel(n_jobs=1)]: Using backend SequentialBackend with 1 concurrent workers.\n",
      "[Parallel(n_jobs=1)]: Done   1 out of   1 | elapsed:    2.3s finished\n"
     ]
    },
    {
     "data": {
      "text/plain": [
       "LogisticRegression(random_state=13, verbose=1)"
      ]
     },
     "execution_count": 131,
     "metadata": {},
     "output_type": "execute_result"
    }
   ],
   "source": [
    "clf.fit(X_train, y_train)"
   ]
  },
  {
   "cell_type": "code",
   "execution_count": 132,
   "id": "0c07f3e0-0cf5-4eb5-9295-355798ae3260",
   "metadata": {
    "execution": {
     "iopub.execute_input": "2021-09-21T23:17:40.264346Z",
     "iopub.status.busy": "2021-09-21T23:17:40.263782Z",
     "iopub.status.idle": "2021-09-21T23:17:40.933269Z",
     "shell.execute_reply": "2021-09-21T23:17:40.932510Z",
     "shell.execute_reply.started": "2021-09-21T23:17:40.264301Z"
    },
    "tags": []
   },
   "outputs": [
    {
     "data": {
      "text/plain": [
       "{'C': 1.0,\n",
       " 'class_weight': None,\n",
       " 'dual': False,\n",
       " 'fit_intercept': True,\n",
       " 'intercept_scaling': 1,\n",
       " 'l1_ratio': None,\n",
       " 'max_iter': 100,\n",
       " 'multi_class': 'auto',\n",
       " 'n_jobs': None,\n",
       " 'penalty': 'l2',\n",
       " 'random_state': 13,\n",
       " 'solver': 'lbfgs',\n",
       " 'tol': 0.0001,\n",
       " 'verbose': 1,\n",
       " 'warm_start': False}"
      ]
     },
     "execution_count": 132,
     "metadata": {},
     "output_type": "execute_result"
    }
   ],
   "source": [
    "clf.get_params()"
   ]
  },
  {
   "cell_type": "markdown",
   "id": "dcef867d-f75e-4615-8062-05c803c97051",
   "metadata": {},
   "source": [
    "#### <u> **Load previously trained model** </u>"
   ]
  },
  {
   "cell_type": "code",
   "execution_count": 182,
   "id": "5fca9578-f451-4ee7-b047-974d5cd26935",
   "metadata": {
    "execution": {
     "iopub.execute_input": "2021-09-21T23:21:11.431802Z",
     "iopub.status.busy": "2021-09-21T23:21:11.431403Z",
     "iopub.status.idle": "2021-09-21T23:21:11.910400Z",
     "shell.execute_reply": "2021-09-21T23:21:11.909226Z",
     "shell.execute_reply.started": "2021-09-21T23:21:11.431756Z"
    },
    "tags": []
   },
   "outputs": [],
   "source": [
    "from sklearn.linear_model import LogisticRegression\n",
    "import pickle\n",
    "\n",
    "file = '0.18-0.4_block_LR-clf.pickle'\n",
    "clf = pickle.load(open(file, 'rb'))"
   ]
  },
  {
   "cell_type": "markdown",
   "id": "91febd92-a935-41d1-8f23-2e3f7de9b546",
   "metadata": {
    "execution": {
     "iopub.execute_input": "2021-07-26T03:43:46.264746Z",
     "iopub.status.busy": "2021-07-26T03:43:46.264474Z",
     "iopub.status.idle": "2021-07-26T03:43:47.055876Z",
     "shell.execute_reply": "2021-07-26T03:43:47.054281Z",
     "shell.execute_reply.started": "2021-07-26T03:43:46.264712Z"
    },
    "tags": []
   },
   "source": [
    "## **Logistic regression testing**"
   ]
  },
  {
   "cell_type": "code",
   "execution_count": 183,
   "id": "485e33bb-253c-41dd-9993-971ba0683ed4",
   "metadata": {
    "execution": {
     "iopub.execute_input": "2021-09-21T23:21:12.407188Z",
     "iopub.status.busy": "2021-09-21T23:21:12.406969Z",
     "iopub.status.idle": "2021-09-21T23:21:12.998531Z",
     "shell.execute_reply": "2021-09-21T23:21:12.997481Z",
     "shell.execute_reply.started": "2021-09-21T23:21:12.407160Z"
    },
    "tags": []
   },
   "outputs": [],
   "source": [
    "prob_thresh = 0.5"
   ]
  },
  {
   "cell_type": "code",
   "execution_count": 184,
   "id": "044ad514-ec0e-41a9-a3b1-085dcb2d3347",
   "metadata": {
    "execution": {
     "iopub.execute_input": "2021-09-21T23:21:13.000591Z",
     "iopub.status.busy": "2021-09-21T23:21:13.000232Z",
     "iopub.status.idle": "2021-09-21T23:21:13.472498Z",
     "shell.execute_reply": "2021-09-21T23:21:13.471556Z",
     "shell.execute_reply.started": "2021-09-21T23:21:13.000544Z"
    },
    "tags": []
   },
   "outputs": [],
   "source": [
    "y_tr_probs = clf.predict_proba(X_train)[:, 1]\n",
    "y_probs = clf.predict_proba(X_test)[:, 1]"
   ]
  },
  {
   "cell_type": "code",
   "execution_count": 185,
   "id": "0481b8fe-3d3d-4994-ae07-edde2111a1af",
   "metadata": {
    "execution": {
     "iopub.execute_input": "2021-09-21T23:21:14.060842Z",
     "iopub.status.busy": "2021-09-21T23:21:14.060602Z",
     "iopub.status.idle": "2021-09-21T23:21:14.526920Z",
     "shell.execute_reply": "2021-09-21T23:21:14.526154Z",
     "shell.execute_reply.started": "2021-09-21T23:21:14.060799Z"
    },
    "tags": []
   },
   "outputs": [],
   "source": [
    "y_tr_preds = (y_tr_probs >= prob_thresh).astype(int)\n",
    "y_preds = (y_probs >= prob_thresh).astype(int)"
   ]
  },
  {
   "cell_type": "code",
   "execution_count": 186,
   "id": "499a4de3-b8cb-4477-9a39-a1d8b6439aa0",
   "metadata": {
    "execution": {
     "iopub.execute_input": "2021-09-21T23:21:15.006470Z",
     "iopub.status.busy": "2021-09-21T23:21:15.006066Z",
     "iopub.status.idle": "2021-09-21T23:21:15.653692Z",
     "shell.execute_reply": "2021-09-21T23:21:15.652841Z",
     "shell.execute_reply.started": "2021-09-21T23:21:15.006423Z"
    },
    "tags": []
   },
   "outputs": [
    {
     "name": "stdout",
     "output_type": "stream",
     "text": [
      "Predictions looks good\n"
     ]
    }
   ],
   "source": [
    "if prob_thresh == 0.5:\n",
    "    if (y_tr_preds == clf.predict(X_train)).all() and (y_preds == clf.predict(X_test)).all():\n",
    "        print(\"Predictions looks good\")\n",
    "    else:\n",
    "        print(\"No cigar\")\n",
    "else:\n",
    "    if not ((y_tr_preds == clf.predict(X_train)).all() and (y_preds == clf.predict(X_test)).all()):\n",
    "        print(\"Using different threshold ({}), expect preds to be different and they are\".format(prob_thresh))\n",
    "    else:\n",
    "        print(\"These shouldn't be the same...\")"
   ]
  },
  {
   "cell_type": "markdown",
   "id": "cc5def1c-057d-4111-9d76-6961d31cde07",
   "metadata": {
    "tags": []
   },
   "source": [
    "### <u>**Confusion matrices** </u>"
   ]
  },
  {
   "cell_type": "code",
   "execution_count": 187,
   "id": "b0cb1218-5e64-4217-934b-9916f7c8e4a7",
   "metadata": {
    "execution": {
     "iopub.execute_input": "2021-09-21T23:21:16.704889Z",
     "iopub.status.busy": "2021-09-21T23:21:16.704613Z",
     "iopub.status.idle": "2021-09-21T23:21:17.266082Z",
     "shell.execute_reply": "2021-09-21T23:21:17.265231Z",
     "shell.execute_reply.started": "2021-09-21T23:21:16.704847Z"
    },
    "tags": []
   },
   "outputs": [],
   "source": [
    "from sklearn.metrics import confusion_matrix"
   ]
  },
  {
   "cell_type": "code",
   "execution_count": 188,
   "id": "2fb5760c-01f6-46aa-aed8-a28ef55377db",
   "metadata": {
    "execution": {
     "iopub.execute_input": "2021-09-21T23:21:17.267352Z",
     "iopub.status.busy": "2021-09-21T23:21:17.267131Z",
     "iopub.status.idle": "2021-09-21T23:21:17.724502Z",
     "shell.execute_reply": "2021-09-21T23:21:17.723637Z",
     "shell.execute_reply.started": "2021-09-21T23:21:17.267323Z"
    },
    "tags": []
   },
   "outputs": [
    {
     "data": {
      "text/plain": [
       "((array([0, 1]), array([249868,  22774])),\n",
       " (array([0, 1]), array([27738,  2556])))"
      ]
     },
     "execution_count": 188,
     "metadata": {},
     "output_type": "execute_result"
    }
   ],
   "source": [
    "np.unique(y_tr_preds, return_counts=True), np.unique(y_preds, return_counts=True)"
   ]
  },
  {
   "cell_type": "code",
   "execution_count": 189,
   "id": "ac0f6969-1995-43e8-accd-f324a8996ff3",
   "metadata": {
    "execution": {
     "iopub.execute_input": "2021-09-21T23:21:17.726588Z",
     "iopub.status.busy": "2021-09-21T23:21:17.726356Z",
     "iopub.status.idle": "2021-09-21T23:21:20.138332Z",
     "shell.execute_reply": "2021-09-21T23:21:20.137550Z",
     "shell.execute_reply.started": "2021-09-21T23:21:17.726558Z"
    },
    "tags": []
   },
   "outputs": [
    {
     "data": {
      "image/png": "[encoded data removed]",
      "text/plain": [
       "<Figure size 1152x576 with 4 Axes>"
      ]
     },
     "metadata": {
      "needs_background": "light"
     },
     "output_type": "display_data"
    }
   ],
   "source": [
    "fig, ax = plt.subplots(1,2,figsize=(16,8))\n",
    "rc = {\"font.size\" : 20}\n",
    "with plt.rc_context(rc):\n",
    "    sns.heatmap(confusion_matrix(y_train, y_tr_preds), annot=True, fmt='d', cmap='viridis', ax=ax[0])\n",
    "    ax[0].set_xlabel('predicted')\n",
    "    ax[0].set_ylabel('true label')\n",
    "    ax[0].set_title('Train Set')\n",
    "\n",
    "    sns.heatmap(confusion_matrix(y_test, y_preds), annot=True, fmt='d', cmap='viridis', ax=ax[1])\n",
    "    ax[1].set_xlabel('predicted')\n",
    "    ax[1].set_ylabel('true label')\n",
    "    ax[1].set_title('Test Set')\n",
    "\n",
    "    fig.tight_layout();"
   ]
  },
  {
   "cell_type": "markdown",
   "id": "9336aa97-2484-4520-9a55-4b96c19ddb9b",
   "metadata": {},
   "source": [
    "### <u> **Accuracies** </u>"
   ]
  },
  {
   "cell_type": "code",
   "execution_count": 190,
   "id": "8412f905-3038-42d6-97ec-fd9eab9e10ef",
   "metadata": {
    "execution": {
     "iopub.execute_input": "2021-09-21T23:21:20.140060Z",
     "iopub.status.busy": "2021-09-21T23:21:20.139806Z",
     "iopub.status.idle": "2021-09-21T23:21:20.603841Z",
     "shell.execute_reply": "2021-09-21T23:21:20.603012Z",
     "shell.execute_reply.started": "2021-09-21T23:21:20.140031Z"
    },
    "tags": []
   },
   "outputs": [],
   "source": [
    "from sklearn.metrics import accuracy_score"
   ]
  },
  {
   "cell_type": "code",
   "execution_count": 191,
   "id": "8259e486-5356-46cf-8d1b-333ed4595240",
   "metadata": {
    "execution": {
     "iopub.execute_input": "2021-09-21T23:21:21.074632Z",
     "iopub.status.busy": "2021-09-21T23:21:21.074406Z",
     "iopub.status.idle": "2021-09-21T23:21:21.754830Z",
     "shell.execute_reply": "2021-09-21T23:21:21.753862Z",
     "shell.execute_reply.started": "2021-09-21T23:21:21.074603Z"
    },
    "tags": []
   },
   "outputs": [],
   "source": [
    "train_acc, test_acc = accuracy_score(y_true=y_train, y_pred=y_tr_preds), accuracy_score(y_true=y_test, y_pred=y_preds)"
   ]
  },
  {
   "cell_type": "code",
   "execution_count": 192,
   "id": "1c9a1b26-8205-4fc6-8394-6294dac2b2bc",
   "metadata": {
    "execution": {
     "iopub.execute_input": "2021-09-21T23:21:21.756143Z",
     "iopub.status.busy": "2021-09-21T23:21:21.755896Z",
     "iopub.status.idle": "2021-09-21T23:21:22.203040Z",
     "shell.execute_reply": "2021-09-21T23:21:22.202244Z",
     "shell.execute_reply.started": "2021-09-21T23:21:21.756113Z"
    },
    "tags": []
   },
   "outputs": [
    {
     "name": "stdout",
     "output_type": "stream",
     "text": [
      "Threshold\tTrain Acc\tTest Acc\n",
      "0.5\t0.7056\t0.7067\n"
     ]
    }
   ],
   "source": [
    "print(\"Threshold\", \"Train Acc\", \"Test Acc\", sep='\\t')\n",
    "print(\"{:.1f}\\t{:.4f}\\t{:.4f}\".format(prob_thresh, train_acc, test_acc))"
   ]
  },
  {
   "cell_type": "markdown",
   "id": "0962740d-d0f6-4e5c-8054-460d51232f15",
   "metadata": {},
   "source": [
    "### <u> **F-scores** </u>"
   ]
  },
  {
   "cell_type": "code",
   "execution_count": 193,
   "id": "47fd0703-774d-4a8b-a297-0e45d8a2cee0",
   "metadata": {
    "execution": {
     "iopub.execute_input": "2021-09-21T23:21:22.204292Z",
     "iopub.status.busy": "2021-09-21T23:21:22.204045Z",
     "iopub.status.idle": "2021-09-21T23:21:22.638265Z",
     "shell.execute_reply": "2021-09-21T23:21:22.637509Z",
     "shell.execute_reply.started": "2021-09-21T23:21:22.204263Z"
    },
    "tags": []
   },
   "outputs": [
    {
     "data": {
      "text/html": [
       "\n",
       "        <iframe\n",
       "            width=\"800\"\n",
       "            height=\"400\"\n",
       "            src=\"https://en.wikipedia.org/wiki/F-score\"\n",
       "            frameborder=\"0\"\n",
       "            allowfullscreen\n",
       "        ></iframe>\n",
       "        "
      ],
      "text/plain": [
       "<IPython.lib.display.IFrame at 0x15551ee68bb0>"
      ]
     },
     "execution_count": 193,
     "metadata": {},
     "output_type": "execute_result"
    }
   ],
   "source": [
    "IFrame('https://en.wikipedia.org/wiki/F-score', width=800, height=400)"
   ]
  },
  {
   "cell_type": "code",
   "execution_count": 194,
   "id": "a2f061bd-6926-43d3-ae6d-a33db9ff01cc",
   "metadata": {
    "execution": {
     "iopub.execute_input": "2021-09-21T23:21:23.242308Z",
     "iopub.status.busy": "2021-09-21T23:21:23.242092Z",
     "iopub.status.idle": "2021-09-21T23:21:23.716602Z",
     "shell.execute_reply": "2021-09-21T23:21:23.715744Z",
     "shell.execute_reply.started": "2021-09-21T23:21:23.242280Z"
    },
    "tags": []
   },
   "outputs": [],
   "source": [
    "from sklearn.metrics import precision_score, recall_score, f1_score"
   ]
  },
  {
   "cell_type": "code",
   "execution_count": 195,
   "id": "33b5d8f6-11fb-43b4-b76c-e2ff3a752e27",
   "metadata": {
    "execution": {
     "iopub.execute_input": "2021-09-21T23:21:23.718253Z",
     "iopub.status.busy": "2021-09-21T23:21:23.717986Z",
     "iopub.status.idle": "2021-09-21T23:21:24.192583Z",
     "shell.execute_reply": "2021-09-21T23:21:24.191829Z",
     "shell.execute_reply.started": "2021-09-21T23:21:23.718222Z"
    },
    "tags": []
   },
   "outputs": [],
   "source": [
    "def fbeta_score(pr, rec, beta):\n",
    "    return (1+(beta**2))*((pr*rec)/(((beta**2)*pr)+rec))"
   ]
  },
  {
   "cell_type": "code",
   "execution_count": 196,
   "id": "0131dae0-5b0a-4fa1-ba8d-2cf006a3240a",
   "metadata": {
    "execution": {
     "iopub.execute_input": "2021-09-21T23:21:24.194035Z",
     "iopub.status.busy": "2021-09-21T23:21:24.193749Z",
     "iopub.status.idle": "2021-09-21T23:21:24.871537Z",
     "shell.execute_reply": "2021-09-21T23:21:24.870734Z",
     "shell.execute_reply.started": "2021-09-21T23:21:24.194005Z"
    },
    "tags": []
   },
   "outputs": [],
   "source": [
    "train_prec, test_prec = precision_score(y_true=y_train, y_pred=y_tr_preds), precision_score(y_true=y_test, y_pred=y_preds)"
   ]
  },
  {
   "cell_type": "code",
   "execution_count": 197,
   "id": "ccddffa7-196c-41c6-b41b-7687f553470d",
   "metadata": {
    "execution": {
     "iopub.execute_input": "2021-09-21T23:21:25.366898Z",
     "iopub.status.busy": "2021-09-21T23:21:25.366646Z",
     "iopub.status.idle": "2021-09-21T23:21:25.963528Z",
     "shell.execute_reply": "2021-09-21T23:21:25.962776Z",
     "shell.execute_reply.started": "2021-09-21T23:21:25.366858Z"
    },
    "tags": []
   },
   "outputs": [],
   "source": [
    "train_recall, test_recall = recall_score(y_true=y_train, y_pred=y_tr_preds), recall_score(y_true=y_test, y_pred=y_preds)"
   ]
  },
  {
   "cell_type": "code",
   "execution_count": 198,
   "id": "0969731a-2e46-40a0-8809-d014f207055e",
   "metadata": {
    "execution": {
     "iopub.execute_input": "2021-09-21T23:21:25.964849Z",
     "iopub.status.busy": "2021-09-21T23:21:25.964610Z",
     "iopub.status.idle": "2021-09-21T23:21:26.519526Z",
     "shell.execute_reply": "2021-09-21T23:21:26.518733Z",
     "shell.execute_reply.started": "2021-09-21T23:21:25.964806Z"
    },
    "tags": []
   },
   "outputs": [],
   "source": [
    "train_f1, test_f1 = f1_score(y_true=y_train, y_pred=y_tr_preds), f1_score(y_true=y_test, y_pred=y_preds)"
   ]
  },
  {
   "cell_type": "code",
   "execution_count": 199,
   "id": "9f607278-a1bf-4986-85c9-c355312c5145",
   "metadata": {
    "execution": {
     "iopub.execute_input": "2021-09-21T23:21:26.520788Z",
     "iopub.status.busy": "2021-09-21T23:21:26.520568Z",
     "iopub.status.idle": "2021-09-21T23:21:27.043043Z",
     "shell.execute_reply": "2021-09-21T23:21:27.042025Z",
     "shell.execute_reply.started": "2021-09-21T23:21:26.520759Z"
    },
    "tags": []
   },
   "outputs": [],
   "source": [
    "fbeta_tr_scores = []\n",
    "fbeta_scores = []\n",
    "for b in [0.1, 0.5, 1, 2, 10]:\n",
    "    fbeta_tr_scores.append(fbeta_score(train_prec, train_recall, b))\n",
    "    fbeta_scores.append(fbeta_score(test_prec, test_recall, b))"
   ]
  },
  {
   "cell_type": "code",
   "execution_count": 200,
   "id": "5c69aafb-344d-4f81-9577-cc61fd11b6ae",
   "metadata": {
    "execution": {
     "iopub.execute_input": "2021-09-21T23:21:27.045392Z",
     "iopub.status.busy": "2021-09-21T23:21:27.044987Z",
     "iopub.status.idle": "2021-09-21T23:21:27.529253Z",
     "shell.execute_reply": "2021-09-21T23:21:27.528526Z",
     "shell.execute_reply.started": "2021-09-21T23:21:27.045338Z"
    },
    "tags": []
   },
   "outputs": [
    {
     "name": "stdout",
     "output_type": "stream",
     "text": [
      "Metric\tThreshold\tTrain\tTest\n",
      "Precision\t0.5\t0.6005\t0.5919\n",
      "Recall\t0.5\t0.1612\t0.1617\n",
      "F0.1-Score\t0.5\t0.5847\t0.5767\n",
      "F0.5-Score\t0.5\t0.3886\t0.3864\n",
      "F1-Score\t0.5\t0.2541\t0.2540\n",
      "F2-Score\t0.5\t0.1888\t0.1892\n",
      "F10-Score\t0.5\t0.1623\t0.1629\n"
     ]
    }
   ],
   "source": [
    "print(\"Metric\", \"Threshold\", \"Train\", \"Test\", sep='\\t')\n",
    "print(\"{:s}\\t{:.1f}\\t{:.4f}\\t{:.4f}\".format(\"Precision\", prob_thresh, train_prec, test_prec))\n",
    "print(\"{:s}\\t{:.1f}\\t{:.4f}\\t{:.4f}\".format(\"Recall\", prob_thresh, train_recall, test_recall))\n",
    "#print(\"{:s}\\t{:.1f}\\t{:.4f}\\t{:.4f}\".format(\"F1-Score\", prob_thresh, train_f1, test_f1))\n",
    "for i, b in enumerate([0.1, 0.5, 1, 2, 10]):\n",
    "    print(\"F{:s}-Score\\t{:.1f}\\t{:.4f}\\t{:.4f}\".format(str(b), prob_thresh, fbeta_tr_scores[i], fbeta_scores[i])) "
   ]
  },
  {
   "cell_type": "markdown",
   "id": "7ecd720d-d2e3-4caa-ae0b-cd5dec347f46",
   "metadata": {},
   "source": [
    "### <u> **Precision-recall** </u>"
   ]
  },
  {
   "cell_type": "code",
   "execution_count": 201,
   "id": "24e7626f-31cc-4910-a2ab-09372a5538d8",
   "metadata": {
    "execution": {
     "iopub.execute_input": "2021-09-21T23:21:27.530583Z",
     "iopub.status.busy": "2021-09-21T23:21:27.530337Z",
     "iopub.status.idle": "2021-09-21T23:21:28.024321Z",
     "shell.execute_reply": "2021-09-21T23:21:28.023341Z",
     "shell.execute_reply.started": "2021-09-21T23:21:27.530551Z"
    },
    "tags": []
   },
   "outputs": [],
   "source": [
    "from sklearn.metrics import precision_recall_curve, average_precision_score"
   ]
  },
  {
   "cell_type": "code",
   "execution_count": 202,
   "id": "11240511-7065-44c5-bd34-7871952982b7",
   "metadata": {
    "execution": {
     "iopub.execute_input": "2021-09-21T23:21:28.025787Z",
     "iopub.status.busy": "2021-09-21T23:21:28.025534Z",
     "iopub.status.idle": "2021-09-21T23:21:28.717691Z",
     "shell.execute_reply": "2021-09-21T23:21:28.716846Z",
     "shell.execute_reply.started": "2021-09-21T23:21:28.025748Z"
    },
    "tags": []
   },
   "outputs": [],
   "source": [
    "precs_tr, recs_tr, threshs_tr = precision_recall_curve(y_true=y_train, probas_pred=y_tr_probs)\n",
    "avg_prec_tr = average_precision_score(y_true=y_train, y_score=y_tr_probs)"
   ]
  },
  {
   "cell_type": "code",
   "execution_count": 203,
   "id": "ebfb2d07-b2cb-4655-a4df-ae77eacf87ec",
   "metadata": {
    "execution": {
     "iopub.execute_input": "2021-09-21T23:21:28.719353Z",
     "iopub.status.busy": "2021-09-21T23:21:28.718997Z",
     "iopub.status.idle": "2021-09-21T23:21:29.179289Z",
     "shell.execute_reply": "2021-09-21T23:21:29.178533Z",
     "shell.execute_reply.started": "2021-09-21T23:21:28.719307Z"
    },
    "tags": []
   },
   "outputs": [],
   "source": [
    "precs, recs, threshs = precision_recall_curve(y_true=y_test, probas_pred=y_probs)\n",
    "avg_prec = average_precision_score(y_true=y_test, y_score=y_probs)"
   ]
  },
  {
   "cell_type": "code",
   "execution_count": 204,
   "id": "56eed6a7-fb74-42a5-8b0c-80c6e8435df5",
   "metadata": {
    "execution": {
     "iopub.execute_input": "2021-09-21T23:21:29.180536Z",
     "iopub.status.busy": "2021-09-21T23:21:29.180312Z",
     "iopub.status.idle": "2021-09-21T23:21:29.742757Z",
     "shell.execute_reply": "2021-09-21T23:21:29.741828Z",
     "shell.execute_reply.started": "2021-09-21T23:21:29.180506Z"
    },
    "tags": []
   },
   "outputs": [
    {
     "data": {
      "text/plain": [
       "(0.4731631217532038, 0.46916371509076704)"
      ]
     },
     "execution_count": 204,
     "metadata": {},
     "output_type": "execute_result"
    }
   ],
   "source": [
    "avg_prec_tr, avg_prec"
   ]
  },
  {
   "cell_type": "code",
   "execution_count": 205,
   "id": "028ce24c-0669-4d03-a444-8ed3cd357fe0",
   "metadata": {
    "execution": {
     "iopub.execute_input": "2021-09-21T23:21:29.744593Z",
     "iopub.status.busy": "2021-09-21T23:21:29.744232Z",
     "iopub.status.idle": "2021-09-21T23:21:31.076867Z",
     "shell.execute_reply": "2021-09-21T23:21:31.076116Z",
     "shell.execute_reply.started": "2021-09-21T23:21:29.744546Z"
    },
    "tags": []
   },
   "outputs": [
    {
     "data": {
      "image/png": "[encoded data removed]",
      "text/plain": [
       "<Figure size 576x576 with 1 Axes>"
      ]
     },
     "metadata": {
      "needs_background": "light"
     },
     "output_type": "display_data"
    }
   ],
   "source": [
    "fig, ax = plt.subplots(1,1, figsize=(8,8))\n",
    "ax.step(recs_tr, precs_tr, where='post', lw=3, alpha=0.4, label='Training auPRC = %0.4f' % (avg_prec_tr))\n",
    "ax.step(recs, precs, where='post', lw=3, alpha=0.4, label='Testing auPRC = %0.4f' % (avg_prec))\n",
    "ax.axhline(len(y_test[y_test==1])/len(y_test), linestyle='--', lw=3, color='k', label='No skill', alpha=.8)\n",
    "ax.set_xlim([-0.05, 1.05])\n",
    "ax.set_ylim([-0.05, 1.05])\n",
    "ax.set_xlabel('Recall', fontsize=18)\n",
    "ax.set_ylabel('Precision', fontsize=18)\n",
    "ax.set_title('Precision recall', fontsize=18)\n",
    "ax.legend(loc=\"lower right\", fontsize=16);"
   ]
  },
  {
   "cell_type": "markdown",
   "id": "ec714a59-15ab-4659-bffd-1f76319d610a",
   "metadata": {},
   "source": [
    "### <u> **Reciever operating characteristic** </u>"
   ]
  },
  {
   "cell_type": "code",
   "execution_count": 206,
   "id": "82e63047-dc3a-4239-8185-43a35deade31",
   "metadata": {
    "execution": {
     "iopub.execute_input": "2021-09-21T23:21:31.078221Z",
     "iopub.status.busy": "2021-09-21T23:21:31.077985Z",
     "iopub.status.idle": "2021-09-21T23:21:31.635984Z",
     "shell.execute_reply": "2021-09-21T23:21:31.635025Z",
     "shell.execute_reply.started": "2021-09-21T23:21:31.078192Z"
    },
    "tags": []
   },
   "outputs": [],
   "source": [
    "from sklearn.metrics import roc_curve, auc"
   ]
  },
  {
   "cell_type": "code",
   "execution_count": 207,
   "id": "00eee1a6-a8b1-479b-a3b1-f62cbce66085",
   "metadata": {
    "execution": {
     "iopub.execute_input": "2021-09-21T23:21:31.637406Z",
     "iopub.status.busy": "2021-09-21T23:21:31.637158Z",
     "iopub.status.idle": "2021-09-21T23:21:32.176212Z",
     "shell.execute_reply": "2021-09-21T23:21:32.175414Z",
     "shell.execute_reply.started": "2021-09-21T23:21:31.637369Z"
    },
    "tags": []
   },
   "outputs": [],
   "source": [
    "fprs_tr, tprs_tr, threshs_tr = roc_curve(y_true=y_train, y_score=y_tr_probs)\n",
    "roc_auc_tr = auc(fprs_tr, tprs_tr)"
   ]
  },
  {
   "cell_type": "code",
   "execution_count": 208,
   "id": "5666001d-b2e6-4d3e-865d-d04d7d452958",
   "metadata": {
    "execution": {
     "iopub.execute_input": "2021-09-21T23:21:32.177481Z",
     "iopub.status.busy": "2021-09-21T23:21:32.177265Z",
     "iopub.status.idle": "2021-09-21T23:21:32.687547Z",
     "shell.execute_reply": "2021-09-21T23:21:32.686737Z",
     "shell.execute_reply.started": "2021-09-21T23:21:32.177453Z"
    },
    "tags": []
   },
   "outputs": [],
   "source": [
    "fprs, tprs, threshs = roc_curve(y_true=y_test, y_score=y_probs)\n",
    "roc_auc = auc(fprs, tprs)"
   ]
  },
  {
   "cell_type": "code",
   "execution_count": 209,
   "id": "72545bdc-3f3b-463a-867f-706439c6d2b7",
   "metadata": {
    "execution": {
     "iopub.execute_input": "2021-09-21T23:21:32.688773Z",
     "iopub.status.busy": "2021-09-21T23:21:32.688553Z",
     "iopub.status.idle": "2021-09-21T23:21:33.218379Z",
     "shell.execute_reply": "2021-09-21T23:21:33.217632Z",
     "shell.execute_reply.started": "2021-09-21T23:21:32.688745Z"
    },
    "tags": []
   },
   "outputs": [
    {
     "data": {
      "text/plain": [
       "(0.6575669482413836, 0.6604374390058787)"
      ]
     },
     "execution_count": 209,
     "metadata": {},
     "output_type": "execute_result"
    }
   ],
   "source": [
    "roc_auc_tr, roc_auc"
   ]
  },
  {
   "cell_type": "code",
   "execution_count": 210,
   "id": "ffb0011f-f1c9-4981-81c3-a0b563805864",
   "metadata": {
    "execution": {
     "iopub.execute_input": "2021-09-21T23:21:33.219741Z",
     "iopub.status.busy": "2021-09-21T23:21:33.219521Z",
     "iopub.status.idle": "2021-09-21T23:21:34.627529Z",
     "shell.execute_reply": "2021-09-21T23:21:34.626586Z",
     "shell.execute_reply.started": "2021-09-21T23:21:33.219712Z"
    },
    "tags": []
   },
   "outputs": [
    {
     "data": {
      "image/png": "[encoded data removed]",
      "text/plain": [
       "<Figure size 864x576 with 1 Axes>"
      ]
     },
     "metadata": {
      "needs_background": "light"
     },
     "output_type": "display_data"
    }
   ],
   "source": [
    "fig, ax = plt.subplots(1, 1, figsize=(12,8))\n",
    "ax.plot(fprs_tr, tprs_tr, lw=3, alpha=0.4, label='Training (auROC = %0.4f)' % (roc_auc_tr))\n",
    "ax.plot(fprs, tprs, lw=3, alpha=0.4, label='Test (auROC= %0.4f)' % (roc_auc))\n",
    "ax.plot([0, 1], [0, 1], linestyle='--', lw=3, color='k', label='No skill', alpha=.8)\n",
    "ax.set_xlim([-0.05, 1.05])\n",
    "ax.set_ylim([-0.05, 1.05])\n",
    "ax.set_xlabel('False Positive Rate', fontsize=18)\n",
    "ax.set_ylabel('True Positive Rate', fontsize=18)\n",
    "ax.set_title('Receiver operating characteristic', fontsize=18)\n",
    "ax.legend(loc=\"lower right\", fontsize=16);"
   ]
  },
  {
   "cell_type": "markdown",
   "id": "66403e4d-0da0-4325-90da-ad143074ef93",
   "metadata": {},
   "source": [
    "## Save the classifier"
   ]
  },
  {
   "cell_type": "code",
   "execution_count": 161,
   "id": "88d12aa2-2b92-4d5f-a3b8-af6895d674a5",
   "metadata": {
    "execution": {
     "iopub.execute_input": "2021-09-21T23:19:19.903284Z",
     "iopub.status.busy": "2021-09-21T23:19:19.903005Z",
     "iopub.status.idle": "2021-09-21T23:19:20.506827Z",
     "shell.execute_reply": "2021-09-21T23:19:20.506037Z",
     "shell.execute_reply.started": "2021-09-21T23:19:19.903254Z"
    },
    "tags": []
   },
   "outputs": [],
   "source": [
    "import pickle"
   ]
  },
  {
   "cell_type": "code",
   "execution_count": 162,
   "id": "254142a0-07ed-4a8d-afc7-4b361c334e85",
   "metadata": {
    "execution": {
     "iopub.execute_input": "2021-09-21T23:19:20.978248Z",
     "iopub.status.busy": "2021-09-21T23:19:20.977887Z",
     "iopub.status.idle": "2021-09-21T23:19:21.640694Z",
     "shell.execute_reply": "2021-09-21T23:19:21.639883Z",
     "shell.execute_reply.started": "2021-09-21T23:19:20.978199Z"
    },
    "tags": []
   },
   "outputs": [],
   "source": [
    "#file = '0.18-0.4_block_LR-clf.pickle'\n",
    "#file = '0.18-0.4_mixed_LR-clf.pickle'\n",
    "file = '0.18-0.4_mixed_2.0_LR-clf.pickle'"
   ]
  },
  {
   "cell_type": "code",
   "execution_count": 163,
   "id": "47748bde-2fce-4655-9ea9-20aff04ed4d4",
   "metadata": {
    "execution": {
     "iopub.execute_input": "2021-09-21T23:19:24.431729Z",
     "iopub.status.busy": "2021-09-21T23:19:24.431456Z",
     "iopub.status.idle": "2021-09-21T23:19:25.017073Z",
     "shell.execute_reply": "2021-09-21T23:19:25.016360Z",
     "shell.execute_reply.started": "2021-09-21T23:19:24.431699Z"
    },
    "tags": []
   },
   "outputs": [],
   "source": [
    "pickle.dump(clf, open(file, 'wb'))"
   ]
  },
  {
   "cell_type": "code",
   "execution_count": 62,
   "id": "0af3f15d-dca6-4785-a415-366654941659",
   "metadata": {
    "execution": {
     "iopub.execute_input": "2021-09-21T23:06:46.429971Z",
     "iopub.status.busy": "2021-09-21T23:06:46.429691Z",
     "iopub.status.idle": "2021-09-21T23:06:46.931904Z",
     "shell.execute_reply": "2021-09-21T23:06:46.931025Z",
     "shell.execute_reply.started": "2021-09-21T23:06:46.429940Z"
    },
    "tags": []
   },
   "outputs": [
    {
     "data": {
      "text/plain": [
       "(array([0, 1]), array([27738,  2556]))"
      ]
     },
     "execution_count": 62,
     "metadata": {},
     "output_type": "execute_result"
    }
   ],
   "source": [
    "test_load = pickle.load(open(file, 'rb'))\n",
    "np.unique(test_load.predict(X_test), return_counts=True)"
   ]
  }
 ],
 "metadata": {
  "kernelspec": {
   "display_name": "Python3 ml_env",
   "language": "python",
   "name": "ml_env"
  },
  "language_info": {
   "codemirror_mode": {
    "name": "ipython",
    "version": 3
   },
   "file_extension": ".py",
   "mimetype": "text/x-python",
   "name": "python",
   "nbconvert_exporter": "python",
   "pygments_lexer": "ipython3",
   "version": "3.8.8"
  }
 },
 "nbformat": 4,
 "nbformat_minor": 5
}

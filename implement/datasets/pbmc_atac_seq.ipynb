{
 "cells": [
  {
   "cell_type": "code",
   "execution_count": 45,
   "id": "6dcffdcd-8812-49fd-8a08-5135dc0532d9",
   "metadata": {
    "execution": {
     "iopub.execute_input": "2023-01-05T21:41:02.067783Z",
     "iopub.status.busy": "2023-01-05T21:41:02.067386Z",
     "iopub.status.idle": "2023-01-05T21:41:02.072080Z",
     "shell.execute_reply": "2023-01-05T21:41:02.071331Z",
     "shell.execute_reply.started": "2023-01-05T21:41:02.067752Z"
    },
    "tags": []
   },
   "outputs": [],
   "source": [
    "import os\n",
    "import sys\n",
    "import warnings\n",
    "import dill\n",
    "import pickle\n",
    "import pandas\n",
    "import pyranges\n",
    "import numpy as np\n",
    "import pandas as pd"
   ]
  },
  {
   "cell_type": "code",
   "execution_count": 169,
   "id": "2b39f208-11c8-47f6-86b4-1e3666fbf5c6",
   "metadata": {
    "execution": {
     "iopub.execute_input": "2023-01-06T00:33:31.086459Z",
     "iopub.status.busy": "2023-01-06T00:33:31.086071Z",
     "iopub.status.idle": "2023-01-06T00:33:31.091323Z",
     "shell.execute_reply": "2023-01-06T00:33:31.090437Z",
     "shell.execute_reply.started": "2023-01-06T00:33:31.086429Z"
    },
    "tags": []
   },
   "outputs": [],
   "source": [
    "warnings.filterwarnings(\"ignore\")\n",
    "# Set stderr to null to avoid strange messages from ray\n",
    "_stderr = sys.stderr\n",
    "null = open(os.devnull, 'wb')\n",
    "work_dir = '/cellar/users/aklie/projects/beta_cell_networks/notebooks/tutorial/infer_grns/scenicplus/pbmc_tutorial'\n",
    "tmp_dir = '/cellar/users/aklie/tmp/'"
   ]
  },
  {
   "cell_type": "code",
   "execution_count": 193,
   "id": "e2019edf-0d3b-496a-a8df-7af7cc388db3",
   "metadata": {
    "execution": {
     "iopub.execute_input": "2023-01-06T00:37:59.085218Z",
     "iopub.status.busy": "2023-01-06T00:37:59.084814Z",
     "iopub.status.idle": "2023-01-06T00:37:59.628665Z",
     "shell.execute_reply": "2023-01-06T00:37:59.627786Z",
     "shell.execute_reply.started": "2023-01-06T00:37:59.085189Z"
    },
    "tags": []
   },
   "outputs": [],
   "source": [
    "cistopic_obj = dill.load(open(os.path.join(work_dir, 'scATAC/cistopic_obj.pkl'), 'rb'))\n",
    "region_bin_topics_otsu = pickle.load(open(os.path.join(work_dir, 'scATAC/candidate_enhancers/region_bin_topics_otsu.pkl'), 'rb'))"
   ]
  },
  {
   "cell_type": "markdown",
   "id": "3a50a7be-db8c-42ab-ad39-1e1ebb90b722",
   "metadata": {},
   "source": [
    "# CisTopic object"
   ]
  },
  {
   "cell_type": "code",
   "execution_count": 194,
   "id": "bfe9188a-b80a-4cce-b7ed-e1a879fab263",
   "metadata": {
    "execution": {
     "iopub.execute_input": "2023-01-06T00:38:00.087823Z",
     "iopub.status.busy": "2023-01-06T00:38:00.087352Z",
     "iopub.status.idle": "2023-01-06T00:38:00.093003Z",
     "shell.execute_reply": "2023-01-06T00:38:00.092206Z",
     "shell.execute_reply.started": "2023-01-06T00:38:00.087793Z"
    },
    "tags": []
   },
   "outputs": [
    {
     "data": {
      "text/plain": [
       "(194203, 2418)"
      ]
     },
     "execution_count": 194,
     "metadata": {},
     "output_type": "execute_result"
    }
   ],
   "source": [
    "cistopic_obj.binary_matrix.shape"
   ]
  },
  {
   "cell_type": "code",
   "execution_count": 195,
   "id": "9003d062-5b2f-4473-bf60-3e03fd22646b",
   "metadata": {
    "execution": {
     "iopub.execute_input": "2023-01-06T00:38:00.187139Z",
     "iopub.status.busy": "2023-01-06T00:38:00.186701Z",
     "iopub.status.idle": "2023-01-06T00:38:00.222488Z",
     "shell.execute_reply": "2023-01-06T00:38:00.221633Z",
     "shell.execute_reply.started": "2023-01-06T00:38:00.187108Z"
    },
    "tags": []
   },
   "outputs": [
    {
     "data": {
      "text/html": [
       "<div>\n",
       "<style scoped>\n",
       "    .dataframe tbody tr th:only-of-type {\n",
       "        vertical-align: middle;\n",
       "    }\n",
       "\n",
       "    .dataframe tbody tr th {\n",
       "        vertical-align: top;\n",
       "    }\n",
       "\n",
       "    .dataframe thead th {\n",
       "        text-align: right;\n",
       "    }\n",
       "</style>\n",
       "<table border=\"1\" class=\"dataframe\">\n",
       "  <thead>\n",
       "    <tr style=\"text-align: right;\">\n",
       "      <th></th>\n",
       "      <th>cisTopic_nr_acc</th>\n",
       "      <th>cisTopic_log_nr_acc</th>\n",
       "      <th>Log_total_nr_frag</th>\n",
       "      <th>Log_unique_nr_frag</th>\n",
       "      <th>Total_nr_frag</th>\n",
       "      <th>TSS_enrichment</th>\n",
       "      <th>cisTopic_log_nr_frag</th>\n",
       "      <th>Total_nr_frag_in_regions</th>\n",
       "      <th>Unique_nr_frag_in_regions</th>\n",
       "      <th>barcode</th>\n",
       "      <th>...</th>\n",
       "      <th>doublet_score</th>\n",
       "      <th>predicted_doublet</th>\n",
       "      <th>n_genes_by_counts</th>\n",
       "      <th>total_counts</th>\n",
       "      <th>total_counts_mt</th>\n",
       "      <th>pct_counts_mt</th>\n",
       "      <th>ingest_celltype_label</th>\n",
       "      <th>leiden_res_0.8</th>\n",
       "      <th>celltype</th>\n",
       "      <th>sample_id</th>\n",
       "    </tr>\n",
       "  </thead>\n",
       "  <tbody>\n",
       "    <tr>\n",
       "      <th>ACACTAATCGTTAGCG-1-10x_pbmc</th>\n",
       "      <td>8561</td>\n",
       "      <td>3.932524</td>\n",
       "      <td>4.367412</td>\n",
       "      <td>4.170907</td>\n",
       "      <td>23303</td>\n",
       "      <td>11.173084</td>\n",
       "      <td>4.037267</td>\n",
       "      <td>16472</td>\n",
       "      <td>10321</td>\n",
       "      <td>ACACTAATCGTTAGCG-1</td>\n",
       "      <td>...</td>\n",
       "      <td>0.002129</td>\n",
       "      <td>False</td>\n",
       "      <td>1791</td>\n",
       "      <td>3399.0</td>\n",
       "      <td>264.0</td>\n",
       "      <td>7.766990</td>\n",
       "      <td>NK cells</td>\n",
       "      <td>9</td>\n",
       "      <td>NK_cells</td>\n",
       "      <td>10x_pbmc</td>\n",
       "    </tr>\n",
       "    <tr>\n",
       "      <th>GCAATGAAGTAGCGGG-1-10x_pbmc</th>\n",
       "      <td>8037</td>\n",
       "      <td>3.905094</td>\n",
       "      <td>4.338158</td>\n",
       "      <td>4.148294</td>\n",
       "      <td>21785</td>\n",
       "      <td>10.795806</td>\n",
       "      <td>4.007107</td>\n",
       "      <td>13599</td>\n",
       "      <td>8681</td>\n",
       "      <td>GCAATGAAGTAGCGGG-1</td>\n",
       "      <td>...</td>\n",
       "      <td>0.006036</td>\n",
       "      <td>False</td>\n",
       "      <td>1474</td>\n",
       "      <td>2501.0</td>\n",
       "      <td>107.0</td>\n",
       "      <td>4.278289</td>\n",
       "      <td>NK cells</td>\n",
       "      <td>9</td>\n",
       "      <td>NK_cells</td>\n",
       "      <td>10x_pbmc</td>\n",
       "    </tr>\n",
       "    <tr>\n",
       "      <th>TGAGCTTAGCTTAGCG-1-10x_pbmc</th>\n",
       "      <td>7489</td>\n",
       "      <td>3.874424</td>\n",
       "      <td>4.292478</td>\n",
       "      <td>4.106055</td>\n",
       "      <td>19610</td>\n",
       "      <td>10.369332</td>\n",
       "      <td>3.98304</td>\n",
       "      <td>11786</td>\n",
       "      <td>7691</td>\n",
       "      <td>TGAGCTTAGCTTAGCG-1</td>\n",
       "      <td>...</td>\n",
       "      <td>0.007582</td>\n",
       "      <td>False</td>\n",
       "      <td>1402</td>\n",
       "      <td>2439.0</td>\n",
       "      <td>186.0</td>\n",
       "      <td>7.626076</td>\n",
       "      <td>NK cells</td>\n",
       "      <td>9</td>\n",
       "      <td>NK_cells</td>\n",
       "      <td>10x_pbmc</td>\n",
       "    </tr>\n",
       "    <tr>\n",
       "      <th>GTTTCAGCATGAATAG-1-10x_pbmc</th>\n",
       "      <td>10171</td>\n",
       "      <td>4.007364</td>\n",
       "      <td>4.455530</td>\n",
       "      <td>4.262665</td>\n",
       "      <td>28545</td>\n",
       "      <td>10.908879</td>\n",
       "      <td>4.12408</td>\n",
       "      <td>16715</td>\n",
       "      <td>10715</td>\n",
       "      <td>GTTTCAGCATGAATAG-1</td>\n",
       "      <td>...</td>\n",
       "      <td>0.026921</td>\n",
       "      <td>False</td>\n",
       "      <td>1982</td>\n",
       "      <td>4535.0</td>\n",
       "      <td>467.0</td>\n",
       "      <td>10.297685</td>\n",
       "      <td>CD4 T cells</td>\n",
       "      <td>1</td>\n",
       "      <td>CD4_T_cells</td>\n",
       "      <td>10x_pbmc</td>\n",
       "    </tr>\n",
       "    <tr>\n",
       "      <th>ACCGAAGCAAAGGCCA-1-10x_pbmc</th>\n",
       "      <td>9613</td>\n",
       "      <td>3.982859</td>\n",
       "      <td>4.431959</td>\n",
       "      <td>4.237996</td>\n",
       "      <td>27037</td>\n",
       "      <td>11.231102</td>\n",
       "      <td>4.094995</td>\n",
       "      <td>18507</td>\n",
       "      <td>11713</td>\n",
       "      <td>ACCGAAGCAAAGGCCA-1</td>\n",
       "      <td>...</td>\n",
       "      <td>0.013229</td>\n",
       "      <td>False</td>\n",
       "      <td>1694</td>\n",
       "      <td>3822.0</td>\n",
       "      <td>437.0</td>\n",
       "      <td>11.433804</td>\n",
       "      <td>CD4 T cells</td>\n",
       "      <td>2</td>\n",
       "      <td>CD4_T_cells</td>\n",
       "      <td>10x_pbmc</td>\n",
       "    </tr>\n",
       "    <tr>\n",
       "      <th>...</th>\n",
       "      <td>...</td>\n",
       "      <td>...</td>\n",
       "      <td>...</td>\n",
       "      <td>...</td>\n",
       "      <td>...</td>\n",
       "      <td>...</td>\n",
       "      <td>...</td>\n",
       "      <td>...</td>\n",
       "      <td>...</td>\n",
       "      <td>...</td>\n",
       "      <td>...</td>\n",
       "      <td>...</td>\n",
       "      <td>...</td>\n",
       "      <td>...</td>\n",
       "      <td>...</td>\n",
       "      <td>...</td>\n",
       "      <td>...</td>\n",
       "      <td>...</td>\n",
       "      <td>...</td>\n",
       "      <td>...</td>\n",
       "      <td>...</td>\n",
       "    </tr>\n",
       "    <tr>\n",
       "      <th>GTTCCCAGTAATCCCT-1-10x_pbmc</th>\n",
       "      <td>1631</td>\n",
       "      <td>3.212454</td>\n",
       "      <td>3.550106</td>\n",
       "      <td>3.387568</td>\n",
       "      <td>3549</td>\n",
       "      <td>12.249080</td>\n",
       "      <td>3.238297</td>\n",
       "      <td>2019</td>\n",
       "      <td>1402</td>\n",
       "      <td>GTTCCCAGTAATCCCT-1</td>\n",
       "      <td>...</td>\n",
       "      <td>0.013229</td>\n",
       "      <td>False</td>\n",
       "      <td>1550</td>\n",
       "      <td>3122.0</td>\n",
       "      <td>87.0</td>\n",
       "      <td>2.786675</td>\n",
       "      <td>CD14+ Monocytes</td>\n",
       "      <td>4</td>\n",
       "      <td>CD14+_Monocytes</td>\n",
       "      <td>10x_pbmc</td>\n",
       "    </tr>\n",
       "    <tr>\n",
       "      <th>ATTCACTTCCTAACGG-1-10x_pbmc</th>\n",
       "      <td>2700</td>\n",
       "      <td>3.431364</td>\n",
       "      <td>3.797060</td>\n",
       "      <td>3.605197</td>\n",
       "      <td>6267</td>\n",
       "      <td>12.059204</td>\n",
       "      <td>3.459543</td>\n",
       "      <td>4103</td>\n",
       "      <td>2614</td>\n",
       "      <td>ATTCACTTCCTAACGG-1</td>\n",
       "      <td>...</td>\n",
       "      <td>0.018142</td>\n",
       "      <td>False</td>\n",
       "      <td>1734</td>\n",
       "      <td>3295.0</td>\n",
       "      <td>142.0</td>\n",
       "      <td>4.309560</td>\n",
       "      <td>CD4 T cells</td>\n",
       "      <td>3</td>\n",
       "      <td>CD14+_Monocytes</td>\n",
       "      <td>10x_pbmc</td>\n",
       "    </tr>\n",
       "    <tr>\n",
       "      <th>ATTCGTTTCCAGGAAA-1-10x_pbmc</th>\n",
       "      <td>2307</td>\n",
       "      <td>3.363048</td>\n",
       "      <td>3.687707</td>\n",
       "      <td>3.484157</td>\n",
       "      <td>4872</td>\n",
       "      <td>9.330452</td>\n",
       "      <td>3.393575</td>\n",
       "      <td>3542</td>\n",
       "      <td>2230</td>\n",
       "      <td>ATTCGTTTCCAGGAAA-1</td>\n",
       "      <td>...</td>\n",
       "      <td>0.051823</td>\n",
       "      <td>False</td>\n",
       "      <td>2073</td>\n",
       "      <td>4368.0</td>\n",
       "      <td>358.0</td>\n",
       "      <td>8.195971</td>\n",
       "      <td>CD8 T cells</td>\n",
       "      <td>6</td>\n",
       "      <td>CD8_T_cells</td>\n",
       "      <td>10x_pbmc</td>\n",
       "    </tr>\n",
       "    <tr>\n",
       "      <th>AGCCTGGGTAACCAGC-1-10x_pbmc</th>\n",
       "      <td>2298</td>\n",
       "      <td>3.36135</td>\n",
       "      <td>3.703549</td>\n",
       "      <td>3.504471</td>\n",
       "      <td>5053</td>\n",
       "      <td>11.389053</td>\n",
       "      <td>3.391288</td>\n",
       "      <td>3619</td>\n",
       "      <td>2278</td>\n",
       "      <td>AGCCTGGGTAACCAGC-1</td>\n",
       "      <td>...</td>\n",
       "      <td>0.054726</td>\n",
       "      <td>False</td>\n",
       "      <td>2060</td>\n",
       "      <td>4259.0</td>\n",
       "      <td>389.0</td>\n",
       "      <td>9.133599</td>\n",
       "      <td>CD4 T cells</td>\n",
       "      <td>1</td>\n",
       "      <td>CD4_T_cells</td>\n",
       "      <td>10x_pbmc</td>\n",
       "    </tr>\n",
       "    <tr>\n",
       "      <th>GTTTAACCATTTGCTC-1-10x_pbmc</th>\n",
       "      <td>1841</td>\n",
       "      <td>3.265054</td>\n",
       "      <td>3.608205</td>\n",
       "      <td>3.404492</td>\n",
       "      <td>4057</td>\n",
       "      <td>8.742059</td>\n",
       "      <td>3.279439</td>\n",
       "      <td>2549</td>\n",
       "      <td>1609</td>\n",
       "      <td>GTTTAACCATTTGCTC-1</td>\n",
       "      <td>...</td>\n",
       "      <td>0.039935</td>\n",
       "      <td>False</td>\n",
       "      <td>2893</td>\n",
       "      <td>7040.0</td>\n",
       "      <td>747.0</td>\n",
       "      <td>10.610796</td>\n",
       "      <td>CD14+ Monocytes</td>\n",
       "      <td>3</td>\n",
       "      <td>CD14+_Monocytes</td>\n",
       "      <td>10x_pbmc</td>\n",
       "    </tr>\n",
       "  </tbody>\n",
       "</table>\n",
       "<p>2418 rows × 26 columns</p>\n",
       "</div>"
      ],
      "text/plain": [
       "                            cisTopic_nr_acc cisTopic_log_nr_acc  \\\n",
       "ACACTAATCGTTAGCG-1-10x_pbmc            8561            3.932524   \n",
       "GCAATGAAGTAGCGGG-1-10x_pbmc            8037            3.905094   \n",
       "TGAGCTTAGCTTAGCG-1-10x_pbmc            7489            3.874424   \n",
       "GTTTCAGCATGAATAG-1-10x_pbmc           10171            4.007364   \n",
       "ACCGAAGCAAAGGCCA-1-10x_pbmc            9613            3.982859   \n",
       "...                                     ...                 ...   \n",
       "GTTCCCAGTAATCCCT-1-10x_pbmc            1631            3.212454   \n",
       "ATTCACTTCCTAACGG-1-10x_pbmc            2700            3.431364   \n",
       "ATTCGTTTCCAGGAAA-1-10x_pbmc            2307            3.363048   \n",
       "AGCCTGGGTAACCAGC-1-10x_pbmc            2298             3.36135   \n",
       "GTTTAACCATTTGCTC-1-10x_pbmc            1841            3.265054   \n",
       "\n",
       "                             Log_total_nr_frag  Log_unique_nr_frag  \\\n",
       "ACACTAATCGTTAGCG-1-10x_pbmc           4.367412            4.170907   \n",
       "GCAATGAAGTAGCGGG-1-10x_pbmc           4.338158            4.148294   \n",
       "TGAGCTTAGCTTAGCG-1-10x_pbmc           4.292478            4.106055   \n",
       "GTTTCAGCATGAATAG-1-10x_pbmc           4.455530            4.262665   \n",
       "ACCGAAGCAAAGGCCA-1-10x_pbmc           4.431959            4.237996   \n",
       "...                                        ...                 ...   \n",
       "GTTCCCAGTAATCCCT-1-10x_pbmc           3.550106            3.387568   \n",
       "ATTCACTTCCTAACGG-1-10x_pbmc           3.797060            3.605197   \n",
       "ATTCGTTTCCAGGAAA-1-10x_pbmc           3.687707            3.484157   \n",
       "AGCCTGGGTAACCAGC-1-10x_pbmc           3.703549            3.504471   \n",
       "GTTTAACCATTTGCTC-1-10x_pbmc           3.608205            3.404492   \n",
       "\n",
       "                             Total_nr_frag  TSS_enrichment  \\\n",
       "ACACTAATCGTTAGCG-1-10x_pbmc          23303       11.173084   \n",
       "GCAATGAAGTAGCGGG-1-10x_pbmc          21785       10.795806   \n",
       "TGAGCTTAGCTTAGCG-1-10x_pbmc          19610       10.369332   \n",
       "GTTTCAGCATGAATAG-1-10x_pbmc          28545       10.908879   \n",
       "ACCGAAGCAAAGGCCA-1-10x_pbmc          27037       11.231102   \n",
       "...                                    ...             ...   \n",
       "GTTCCCAGTAATCCCT-1-10x_pbmc           3549       12.249080   \n",
       "ATTCACTTCCTAACGG-1-10x_pbmc           6267       12.059204   \n",
       "ATTCGTTTCCAGGAAA-1-10x_pbmc           4872        9.330452   \n",
       "AGCCTGGGTAACCAGC-1-10x_pbmc           5053       11.389053   \n",
       "GTTTAACCATTTGCTC-1-10x_pbmc           4057        8.742059   \n",
       "\n",
       "                            cisTopic_log_nr_frag  Total_nr_frag_in_regions  \\\n",
       "ACACTAATCGTTAGCG-1-10x_pbmc             4.037267                     16472   \n",
       "GCAATGAAGTAGCGGG-1-10x_pbmc             4.007107                     13599   \n",
       "TGAGCTTAGCTTAGCG-1-10x_pbmc              3.98304                     11786   \n",
       "GTTTCAGCATGAATAG-1-10x_pbmc              4.12408                     16715   \n",
       "ACCGAAGCAAAGGCCA-1-10x_pbmc             4.094995                     18507   \n",
       "...                                          ...                       ...   \n",
       "GTTCCCAGTAATCCCT-1-10x_pbmc             3.238297                      2019   \n",
       "ATTCACTTCCTAACGG-1-10x_pbmc             3.459543                      4103   \n",
       "ATTCGTTTCCAGGAAA-1-10x_pbmc             3.393575                      3542   \n",
       "AGCCTGGGTAACCAGC-1-10x_pbmc             3.391288                      3619   \n",
       "GTTTAACCATTTGCTC-1-10x_pbmc             3.279439                      2549   \n",
       "\n",
       "                             Unique_nr_frag_in_regions             barcode  \\\n",
       "ACACTAATCGTTAGCG-1-10x_pbmc                      10321  ACACTAATCGTTAGCG-1   \n",
       "GCAATGAAGTAGCGGG-1-10x_pbmc                       8681  GCAATGAAGTAGCGGG-1   \n",
       "TGAGCTTAGCTTAGCG-1-10x_pbmc                       7691  TGAGCTTAGCTTAGCG-1   \n",
       "GTTTCAGCATGAATAG-1-10x_pbmc                      10715  GTTTCAGCATGAATAG-1   \n",
       "ACCGAAGCAAAGGCCA-1-10x_pbmc                      11713  ACCGAAGCAAAGGCCA-1   \n",
       "...                                                ...                 ...   \n",
       "GTTCCCAGTAATCCCT-1-10x_pbmc                       1402  GTTCCCAGTAATCCCT-1   \n",
       "ATTCACTTCCTAACGG-1-10x_pbmc                       2614  ATTCACTTCCTAACGG-1   \n",
       "ATTCGTTTCCAGGAAA-1-10x_pbmc                       2230  ATTCGTTTCCAGGAAA-1   \n",
       "AGCCTGGGTAACCAGC-1-10x_pbmc                       2278  AGCCTGGGTAACCAGC-1   \n",
       "GTTTAACCATTTGCTC-1-10x_pbmc                       1609  GTTTAACCATTTGCTC-1   \n",
       "\n",
       "                             ...  doublet_score  predicted_doublet  \\\n",
       "ACACTAATCGTTAGCG-1-10x_pbmc  ...       0.002129              False   \n",
       "GCAATGAAGTAGCGGG-1-10x_pbmc  ...       0.006036              False   \n",
       "TGAGCTTAGCTTAGCG-1-10x_pbmc  ...       0.007582              False   \n",
       "GTTTCAGCATGAATAG-1-10x_pbmc  ...       0.026921              False   \n",
       "ACCGAAGCAAAGGCCA-1-10x_pbmc  ...       0.013229              False   \n",
       "...                          ...            ...                ...   \n",
       "GTTCCCAGTAATCCCT-1-10x_pbmc  ...       0.013229              False   \n",
       "ATTCACTTCCTAACGG-1-10x_pbmc  ...       0.018142              False   \n",
       "ATTCGTTTCCAGGAAA-1-10x_pbmc  ...       0.051823              False   \n",
       "AGCCTGGGTAACCAGC-1-10x_pbmc  ...       0.054726              False   \n",
       "GTTTAACCATTTGCTC-1-10x_pbmc  ...       0.039935              False   \n",
       "\n",
       "                             n_genes_by_counts total_counts  total_counts_mt  \\\n",
       "ACACTAATCGTTAGCG-1-10x_pbmc               1791       3399.0            264.0   \n",
       "GCAATGAAGTAGCGGG-1-10x_pbmc               1474       2501.0            107.0   \n",
       "TGAGCTTAGCTTAGCG-1-10x_pbmc               1402       2439.0            186.0   \n",
       "GTTTCAGCATGAATAG-1-10x_pbmc               1982       4535.0            467.0   \n",
       "ACCGAAGCAAAGGCCA-1-10x_pbmc               1694       3822.0            437.0   \n",
       "...                                        ...          ...              ...   \n",
       "GTTCCCAGTAATCCCT-1-10x_pbmc               1550       3122.0             87.0   \n",
       "ATTCACTTCCTAACGG-1-10x_pbmc               1734       3295.0            142.0   \n",
       "ATTCGTTTCCAGGAAA-1-10x_pbmc               2073       4368.0            358.0   \n",
       "AGCCTGGGTAACCAGC-1-10x_pbmc               2060       4259.0            389.0   \n",
       "GTTTAACCATTTGCTC-1-10x_pbmc               2893       7040.0            747.0   \n",
       "\n",
       "                             pct_counts_mt  ingest_celltype_label  \\\n",
       "ACACTAATCGTTAGCG-1-10x_pbmc       7.766990               NK cells   \n",
       "GCAATGAAGTAGCGGG-1-10x_pbmc       4.278289               NK cells   \n",
       "TGAGCTTAGCTTAGCG-1-10x_pbmc       7.626076               NK cells   \n",
       "GTTTCAGCATGAATAG-1-10x_pbmc      10.297685            CD4 T cells   \n",
       "ACCGAAGCAAAGGCCA-1-10x_pbmc      11.433804            CD4 T cells   \n",
       "...                                    ...                    ...   \n",
       "GTTCCCAGTAATCCCT-1-10x_pbmc       2.786675        CD14+ Monocytes   \n",
       "ATTCACTTCCTAACGG-1-10x_pbmc       4.309560            CD4 T cells   \n",
       "ATTCGTTTCCAGGAAA-1-10x_pbmc       8.195971            CD8 T cells   \n",
       "AGCCTGGGTAACCAGC-1-10x_pbmc       9.133599            CD4 T cells   \n",
       "GTTTAACCATTTGCTC-1-10x_pbmc      10.610796        CD14+ Monocytes   \n",
       "\n",
       "                             leiden_res_0.8         celltype  sample_id  \n",
       "ACACTAATCGTTAGCG-1-10x_pbmc               9         NK_cells   10x_pbmc  \n",
       "GCAATGAAGTAGCGGG-1-10x_pbmc               9         NK_cells   10x_pbmc  \n",
       "TGAGCTTAGCTTAGCG-1-10x_pbmc               9         NK_cells   10x_pbmc  \n",
       "GTTTCAGCATGAATAG-1-10x_pbmc               1      CD4_T_cells   10x_pbmc  \n",
       "ACCGAAGCAAAGGCCA-1-10x_pbmc               2      CD4_T_cells   10x_pbmc  \n",
       "...                                     ...              ...        ...  \n",
       "GTTCCCAGTAATCCCT-1-10x_pbmc               4  CD14+_Monocytes   10x_pbmc  \n",
       "ATTCACTTCCTAACGG-1-10x_pbmc               3  CD14+_Monocytes   10x_pbmc  \n",
       "ATTCGTTTCCAGGAAA-1-10x_pbmc               6      CD8_T_cells   10x_pbmc  \n",
       "AGCCTGGGTAACCAGC-1-10x_pbmc               1      CD4_T_cells   10x_pbmc  \n",
       "GTTTAACCATTTGCTC-1-10x_pbmc               3  CD14+_Monocytes   10x_pbmc  \n",
       "\n",
       "[2418 rows x 26 columns]"
      ]
     },
     "execution_count": 195,
     "metadata": {},
     "output_type": "execute_result"
    }
   ],
   "source": [
    "cistopic_obj.cell_data"
   ]
  },
  {
   "cell_type": "code",
   "execution_count": 197,
   "id": "3a751b80-79c9-4fab-889a-6155be5cd9a6",
   "metadata": {
    "execution": {
     "iopub.execute_input": "2023-01-06T00:38:26.566309Z",
     "iopub.status.busy": "2023-01-06T00:38:26.565912Z",
     "iopub.status.idle": "2023-01-06T00:38:26.570129Z",
     "shell.execute_reply": "2023-01-06T00:38:26.569407Z",
     "shell.execute_reply.started": "2023-01-06T00:38:26.566279Z"
    },
    "tags": []
   },
   "outputs": [],
   "source": [
    "region_data = cistopic_obj.region_data"
   ]
  },
  {
   "cell_type": "code",
   "execution_count": 202,
   "id": "4ad3c608-c035-4dff-b30f-5e9ead49cf5c",
   "metadata": {
    "execution": {
     "iopub.execute_input": "2023-01-06T00:39:30.119876Z",
     "iopub.status.busy": "2023-01-06T00:39:30.119408Z",
     "iopub.status.idle": "2023-01-06T00:39:30.138188Z",
     "shell.execute_reply": "2023-01-06T00:39:30.137338Z",
     "shell.execute_reply.started": "2023-01-06T00:39:30.119846Z"
    },
    "tags": []
   },
   "outputs": [
    {
     "data": {
      "text/html": [
       "<div>\n",
       "<style scoped>\n",
       "    .dataframe tbody tr th:only-of-type {\n",
       "        vertical-align: middle;\n",
       "    }\n",
       "\n",
       "    .dataframe tbody tr th {\n",
       "        vertical-align: top;\n",
       "    }\n",
       "\n",
       "    .dataframe thead th {\n",
       "        text-align: right;\n",
       "    }\n",
       "</style>\n",
       "<table border=\"1\" class=\"dataframe\">\n",
       "  <thead>\n",
       "    <tr style=\"text-align: right;\">\n",
       "      <th></th>\n",
       "      <th>Chromosome</th>\n",
       "      <th>Start</th>\n",
       "      <th>End</th>\n",
       "      <th>Width</th>\n",
       "      <th>cisTopic_nr_frag</th>\n",
       "      <th>cisTopic_log_nr_frag</th>\n",
       "      <th>cisTopic_nr_acc</th>\n",
       "      <th>cisTopic_log_nr_acc</th>\n",
       "    </tr>\n",
       "  </thead>\n",
       "  <tbody>\n",
       "    <tr>\n",
       "      <th>GL000194.1:101175-101675</th>\n",
       "      <td>GL000194.1</td>\n",
       "      <td>101175</td>\n",
       "      <td>101675</td>\n",
       "      <td>500</td>\n",
       "      <td>27</td>\n",
       "      <td>1.431364</td>\n",
       "      <td>24</td>\n",
       "      <td>1.380211</td>\n",
       "    </tr>\n",
       "    <tr>\n",
       "      <th>GL000194.1:101909-102409</th>\n",
       "      <td>GL000194.1</td>\n",
       "      <td>101909</td>\n",
       "      <td>102409</td>\n",
       "      <td>500</td>\n",
       "      <td>4</td>\n",
       "      <td>0.602060</td>\n",
       "      <td>4</td>\n",
       "      <td>0.602060</td>\n",
       "    </tr>\n",
       "    <tr>\n",
       "      <th>GL000194.1:114712-115212</th>\n",
       "      <td>GL000194.1</td>\n",
       "      <td>114712</td>\n",
       "      <td>115212</td>\n",
       "      <td>500</td>\n",
       "      <td>44</td>\n",
       "      <td>1.643453</td>\n",
       "      <td>44</td>\n",
       "      <td>1.643453</td>\n",
       "    </tr>\n",
       "    <tr>\n",
       "      <th>GL000195.1:22453-22953</th>\n",
       "      <td>GL000195.1</td>\n",
       "      <td>22453</td>\n",
       "      <td>22953</td>\n",
       "      <td>500</td>\n",
       "      <td>7</td>\n",
       "      <td>0.845098</td>\n",
       "      <td>7</td>\n",
       "      <td>0.845098</td>\n",
       "    </tr>\n",
       "    <tr>\n",
       "      <th>GL000195.1:30601-31101</th>\n",
       "      <td>GL000195.1</td>\n",
       "      <td>30601</td>\n",
       "      <td>31101</td>\n",
       "      <td>500</td>\n",
       "      <td>610</td>\n",
       "      <td>2.785330</td>\n",
       "      <td>527</td>\n",
       "      <td>2.721811</td>\n",
       "    </tr>\n",
       "    <tr>\n",
       "      <th>...</th>\n",
       "      <td>...</td>\n",
       "      <td>...</td>\n",
       "      <td>...</td>\n",
       "      <td>...</td>\n",
       "      <td>...</td>\n",
       "      <td>...</td>\n",
       "      <td>...</td>\n",
       "      <td>...</td>\n",
       "    </tr>\n",
       "    <tr>\n",
       "      <th>chrX:45768071-45768571</th>\n",
       "      <td>chrX</td>\n",
       "      <td>45768071</td>\n",
       "      <td>45768571</td>\n",
       "      <td>500</td>\n",
       "      <td>37</td>\n",
       "      <td>1.568202</td>\n",
       "      <td>35</td>\n",
       "      <td>1.544068</td>\n",
       "    </tr>\n",
       "    <tr>\n",
       "      <th>chrX:3711862-3712362</th>\n",
       "      <td>chrX</td>\n",
       "      <td>3711862</td>\n",
       "      <td>3712362</td>\n",
       "      <td>500</td>\n",
       "      <td>98</td>\n",
       "      <td>1.991226</td>\n",
       "      <td>96</td>\n",
       "      <td>1.982271</td>\n",
       "    </tr>\n",
       "    <tr>\n",
       "      <th>chrX:40095148-40095648</th>\n",
       "      <td>chrX</td>\n",
       "      <td>40095148</td>\n",
       "      <td>40095648</td>\n",
       "      <td>500</td>\n",
       "      <td>61</td>\n",
       "      <td>1.785330</td>\n",
       "      <td>57</td>\n",
       "      <td>1.755875</td>\n",
       "    </tr>\n",
       "    <tr>\n",
       "      <th>chrX:107715002-107715502</th>\n",
       "      <td>chrX</td>\n",
       "      <td>107715002</td>\n",
       "      <td>107715502</td>\n",
       "      <td>500</td>\n",
       "      <td>155</td>\n",
       "      <td>2.190332</td>\n",
       "      <td>148</td>\n",
       "      <td>2.170262</td>\n",
       "    </tr>\n",
       "    <tr>\n",
       "      <th>chrX:154370450-154370950</th>\n",
       "      <td>chrX</td>\n",
       "      <td>154370450</td>\n",
       "      <td>154370950</td>\n",
       "      <td>500</td>\n",
       "      <td>160</td>\n",
       "      <td>2.204120</td>\n",
       "      <td>141</td>\n",
       "      <td>2.149219</td>\n",
       "    </tr>\n",
       "  </tbody>\n",
       "</table>\n",
       "<p>194203 rows × 8 columns</p>\n",
       "</div>"
      ],
      "text/plain": [
       "                          Chromosome      Start        End  Width  \\\n",
       "GL000194.1:101175-101675  GL000194.1     101175     101675    500   \n",
       "GL000194.1:101909-102409  GL000194.1     101909     102409    500   \n",
       "GL000194.1:114712-115212  GL000194.1     114712     115212    500   \n",
       "GL000195.1:22453-22953    GL000195.1      22453      22953    500   \n",
       "GL000195.1:30601-31101    GL000195.1      30601      31101    500   \n",
       "...                              ...        ...        ...    ...   \n",
       "chrX:45768071-45768571          chrX   45768071   45768571    500   \n",
       "chrX:3711862-3712362            chrX    3711862    3712362    500   \n",
       "chrX:40095148-40095648          chrX   40095148   40095648    500   \n",
       "chrX:107715002-107715502        chrX  107715002  107715502    500   \n",
       "chrX:154370450-154370950        chrX  154370450  154370950    500   \n",
       "\n",
       "                          cisTopic_nr_frag  cisTopic_log_nr_frag  \\\n",
       "GL000194.1:101175-101675                27              1.431364   \n",
       "GL000194.1:101909-102409                 4              0.602060   \n",
       "GL000194.1:114712-115212                44              1.643453   \n",
       "GL000195.1:22453-22953                   7              0.845098   \n",
       "GL000195.1:30601-31101                 610              2.785330   \n",
       "...                                    ...                   ...   \n",
       "chrX:45768071-45768571                  37              1.568202   \n",
       "chrX:3711862-3712362                    98              1.991226   \n",
       "chrX:40095148-40095648                  61              1.785330   \n",
       "chrX:107715002-107715502               155              2.190332   \n",
       "chrX:154370450-154370950               160              2.204120   \n",
       "\n",
       "                          cisTopic_nr_acc  cisTopic_log_nr_acc  \n",
       "GL000194.1:101175-101675               24             1.380211  \n",
       "GL000194.1:101909-102409                4             0.602060  \n",
       "GL000194.1:114712-115212               44             1.643453  \n",
       "GL000195.1:22453-22953                  7             0.845098  \n",
       "GL000195.1:30601-31101                527             2.721811  \n",
       "...                                   ...                  ...  \n",
       "chrX:45768071-45768571                 35             1.544068  \n",
       "chrX:3711862-3712362                   96             1.982271  \n",
       "chrX:40095148-40095648                 57             1.755875  \n",
       "chrX:107715002-107715502              148             2.170262  \n",
       "chrX:154370450-154370950              141             2.149219  \n",
       "\n",
       "[194203 rows x 8 columns]"
      ]
     },
     "execution_count": 202,
     "metadata": {},
     "output_type": "execute_result"
    }
   ],
   "source": [
    "region_data"
   ]
  },
  {
   "cell_type": "markdown",
   "id": "7655ae9c-3eb1-44bd-b63d-24b7a15698eb",
   "metadata": {},
   "source": [
    "# Binarized regions"
   ]
  },
  {
   "cell_type": "code",
   "execution_count": 204,
   "id": "d157c04e-89aa-4e5c-b116-28c7c69cf556",
   "metadata": {
    "execution": {
     "iopub.execute_input": "2023-01-06T00:39:52.086424Z",
     "iopub.status.busy": "2023-01-06T00:39:52.086046Z",
     "iopub.status.idle": "2023-01-06T00:39:52.179590Z",
     "shell.execute_reply": "2023-01-06T00:39:52.178685Z",
     "shell.execute_reply.started": "2023-01-06T00:39:52.086394Z"
    },
    "tags": []
   },
   "outputs": [],
   "source": [
    "region_data_filt = region_data[region_data.index.str.contains(\"chr\")]"
   ]
  },
  {
   "cell_type": "code",
   "execution_count": 205,
   "id": "83c80157-1122-4c76-8f59-fcc1072d3d27",
   "metadata": {
    "execution": {
     "iopub.execute_input": "2023-01-06T00:39:59.085615Z",
     "iopub.status.busy": "2023-01-06T00:39:59.085243Z",
     "iopub.status.idle": "2023-01-06T00:39:59.089383Z",
     "shell.execute_reply": "2023-01-06T00:39:59.088669Z",
     "shell.execute_reply.started": "2023-01-06T00:39:59.085586Z"
    },
    "tags": []
   },
   "outputs": [],
   "source": [
    "all_regions = region_data_filt.index"
   ]
  },
  {
   "cell_type": "code",
   "execution_count": 206,
   "id": "416bea54-8514-45ef-80a3-17e92ed81da8",
   "metadata": {
    "execution": {
     "iopub.execute_input": "2023-01-06T00:40:03.087395Z",
     "iopub.status.busy": "2023-01-06T00:40:03.087021Z",
     "iopub.status.idle": "2023-01-06T00:40:03.743890Z",
     "shell.execute_reply": "2023-01-06T00:40:03.742998Z",
     "shell.execute_reply.started": "2023-01-06T00:40:03.087366Z"
    },
    "tags": []
   },
   "outputs": [],
   "source": [
    "topic_regions_pd = pd.Index([])\n",
    "topic_regions_lst = []\n",
    "topic_region_mp = {}\n",
    "for topic, regions in region_bin_topics_otsu.items():\n",
    "    topic_regions_lst += list(regions.index)\n",
    "    topic_regions_pd = pd.Index.union(topic_regions_pd, regions.index)\n",
    "    for region in regions.index:\n",
    "        topic_region_mp.setdefault(region, []).append(topic)\n",
    "topic_regions_np = np.array(topic_regions_lst)\n",
    "topic_regions_set = set(topic_regions_lst)"
   ]
  },
  {
   "cell_type": "code",
   "execution_count": 207,
   "id": "268adb0a-a488-43b1-af95-c38719550d32",
   "metadata": {
    "execution": {
     "iopub.execute_input": "2023-01-06T00:40:05.087837Z",
     "iopub.status.busy": "2023-01-06T00:40:05.087459Z",
     "iopub.status.idle": "2023-01-06T00:40:05.093016Z",
     "shell.execute_reply": "2023-01-06T00:40:05.092211Z",
     "shell.execute_reply.started": "2023-01-06T00:40:05.087807Z"
    },
    "tags": []
   },
   "outputs": [
    {
     "data": {
      "text/plain": [
       "194165"
      ]
     },
     "execution_count": 207,
     "metadata": {},
     "output_type": "execute_result"
    }
   ],
   "source": [
    "len(all_regions)"
   ]
  },
  {
   "cell_type": "code",
   "execution_count": 208,
   "id": "1cd8c697-3740-440a-87b2-f9b61fbf6681",
   "metadata": {
    "execution": {
     "iopub.execute_input": "2023-01-06T00:40:05.238046Z",
     "iopub.status.busy": "2023-01-06T00:40:05.237582Z",
     "iopub.status.idle": "2023-01-06T00:40:05.243643Z",
     "shell.execute_reply": "2023-01-06T00:40:05.242853Z",
     "shell.execute_reply.started": "2023-01-06T00:40:05.238016Z"
    },
    "tags": []
   },
   "outputs": [
    {
     "data": {
      "text/plain": [
       "(56571, 73288, 73288, 56571)"
      ]
     },
     "execution_count": 208,
     "metadata": {},
     "output_type": "execute_result"
    }
   ],
   "source": [
    "len(topic_regions_pd), len(topic_regions_lst), len(topic_regions_np), len(topic_regions_set)"
   ]
  },
  {
   "cell_type": "code",
   "execution_count": 209,
   "id": "72c90505-59ec-4698-8bb8-ebf8f10c8d4f",
   "metadata": {
    "execution": {
     "iopub.execute_input": "2023-01-06T00:40:06.189635Z",
     "iopub.status.busy": "2023-01-06T00:40:06.189256Z",
     "iopub.status.idle": "2023-01-06T00:40:06.252880Z",
     "shell.execute_reply": "2023-01-06T00:40:06.252052Z",
     "shell.execute_reply.started": "2023-01-06T00:40:06.189605Z"
    },
    "tags": []
   },
   "outputs": [
    {
     "data": {
      "text/plain": [
       "56559"
      ]
     },
     "execution_count": 209,
     "metadata": {},
     "output_type": "execute_result"
    }
   ],
   "source": [
    "topic_regions_pd.isin(all_regions).sum()"
   ]
  },
  {
   "cell_type": "code",
   "execution_count": 210,
   "id": "488f027d-62a1-4d21-81a0-48f1503cc3e2",
   "metadata": {
    "execution": {
     "iopub.execute_input": "2023-01-06T00:40:07.378401Z",
     "iopub.status.busy": "2023-01-06T00:40:07.378025Z",
     "iopub.status.idle": "2023-01-06T00:40:07.429883Z",
     "shell.execute_reply": "2023-01-06T00:40:07.428981Z",
     "shell.execute_reply.started": "2023-01-06T00:40:07.378371Z"
    },
    "tags": []
   },
   "outputs": [],
   "source": [
    "non_topic_regions = all_regions[~all_regions.isin(topic_regions_pd)]"
   ]
  },
  {
   "cell_type": "code",
   "execution_count": 211,
   "id": "506e0b38-1ff8-42ac-92e7-57a3bd241e82",
   "metadata": {
    "execution": {
     "iopub.execute_input": "2023-01-06T00:40:08.086573Z",
     "iopub.status.busy": "2023-01-06T00:40:08.086201Z",
     "iopub.status.idle": "2023-01-06T00:40:08.266485Z",
     "shell.execute_reply": "2023-01-06T00:40:08.265585Z",
     "shell.execute_reply.started": "2023-01-06T00:40:08.086543Z"
    },
    "tags": []
   },
   "outputs": [
    {
     "name": "stdout",
     "output_type": "stream",
     "text": [
      "0\n",
      "0\n",
      "0\n",
      "0\n",
      "0\n",
      "0\n",
      "0\n",
      "0\n",
      "0\n",
      "0\n",
      "0\n",
      "0\n",
      "0\n",
      "0\n",
      "0\n",
      "0\n"
     ]
    }
   ],
   "source": [
    "for topic, regions in region_bin_topics_otsu.items():\n",
    "    print(non_topic_regions.isin(regions.index).sum())"
   ]
  },
  {
   "cell_type": "code",
   "execution_count": 212,
   "id": "f9e63baa-8a50-4b28-ac41-07c77f2ae457",
   "metadata": {
    "execution": {
     "iopub.execute_input": "2023-01-06T00:40:10.085537Z",
     "iopub.status.busy": "2023-01-06T00:40:10.085164Z",
     "iopub.status.idle": "2023-01-06T00:40:10.399373Z",
     "shell.execute_reply": "2023-01-06T00:40:10.398474Z",
     "shell.execute_reply.started": "2023-01-06T00:40:10.085507Z"
    },
    "tags": []
   },
   "outputs": [],
   "source": [
    "arr = np.zeros((len(all_regions), len(region_bin_topics_otsu)))\n",
    "for i, row in enumerate(all_regions):\n",
    "    if row in topic_region_mp:\n",
    "        topic_nums = []\n",
    "        for topic in topic_region_mp[row]:\n",
    "            #print(i, row, topic, topic.split(\"Topic\")[-1])\n",
    "            topic_nums.append(int(topic.split(\"Topic\")[-1])-1)\n",
    "        arr[i, topic_nums] = 1"
   ]
  },
  {
   "cell_type": "code",
   "execution_count": 213,
   "id": "fd10dde2-9cc9-4e43-9109-68d7f6c362ca",
   "metadata": {
    "execution": {
     "iopub.execute_input": "2023-01-06T00:40:10.609182Z",
     "iopub.status.busy": "2023-01-06T00:40:10.608778Z",
     "iopub.status.idle": "2023-01-06T00:40:10.620729Z",
     "shell.execute_reply": "2023-01-06T00:40:10.619892Z",
     "shell.execute_reply.started": "2023-01-06T00:40:10.609152Z"
    },
    "tags": []
   },
   "outputs": [
    {
     "data": {
      "text/plain": [
       "array([7745., 6571., 5218., 4326., 2668., 3555., 6667., 7160., 6649.,\n",
       "       3981., 3214., 3191., 1176., 6375., 1961., 2815.])"
      ]
     },
     "execution_count": 213,
     "metadata": {},
     "output_type": "execute_result"
    }
   ],
   "source": [
    "arr.sum(axis=0)"
   ]
  },
  {
   "cell_type": "code",
   "execution_count": 214,
   "id": "76f64519-293b-4c8a-a625-078fe423f254",
   "metadata": {
    "execution": {
     "iopub.execute_input": "2023-01-06T00:40:12.086197Z",
     "iopub.status.busy": "2023-01-06T00:40:12.085793Z",
     "iopub.status.idle": "2023-01-06T00:40:12.098199Z",
     "shell.execute_reply": "2023-01-06T00:40:12.097432Z",
     "shell.execute_reply.started": "2023-01-06T00:40:12.086167Z"
    },
    "tags": []
   },
   "outputs": [
    {
     "data": {
      "text/plain": [
       "array([ True, False, False, False,  True, False,  True, False,  True,\n",
       "       False, False,  True,  True, False, False, False])"
      ]
     },
     "execution_count": 214,
     "metadata": {},
     "output_type": "execute_result"
    }
   ],
   "source": [
    "np.array([len(regions) for topic, regions in region_bin_topics_otsu.items()]) == arr.sum(axis=0)"
   ]
  },
  {
   "cell_type": "code",
   "execution_count": 215,
   "id": "21e051d2-2d89-4334-8618-88cb1823da68",
   "metadata": {
    "execution": {
     "iopub.execute_input": "2023-01-06T00:40:13.085695Z",
     "iopub.status.busy": "2023-01-06T00:40:13.085235Z",
     "iopub.status.idle": "2023-01-06T00:40:13.123235Z",
     "shell.execute_reply": "2023-01-06T00:40:13.122488Z",
     "shell.execute_reply.started": "2023-01-06T00:40:13.085664Z"
    },
    "tags": []
   },
   "outputs": [
    {
     "data": {
      "text/plain": [
       "True"
      ]
     },
     "execution_count": 215,
     "metadata": {},
     "output_type": "execute_result"
    }
   ],
   "source": [
    "np.all(all_regions[arr.sum(axis=1) == 0].isin(non_topic_regions))"
   ]
  },
  {
   "cell_type": "code",
   "execution_count": 216,
   "id": "af43623d-5ad1-4e68-846f-70672f49db79",
   "metadata": {
    "execution": {
     "iopub.execute_input": "2023-01-06T00:40:14.087357Z",
     "iopub.status.busy": "2023-01-06T00:40:14.086979Z",
     "iopub.status.idle": "2023-01-06T00:40:14.127472Z",
     "shell.execute_reply": "2023-01-06T00:40:14.126663Z",
     "shell.execute_reply.started": "2023-01-06T00:40:14.087327Z"
    },
    "tags": []
   },
   "outputs": [
    {
     "data": {
      "text/plain": [
       "True"
      ]
     },
     "execution_count": 216,
     "metadata": {},
     "output_type": "execute_result"
    }
   ],
   "source": [
    "np.all(~all_regions[arr.sum(axis=1) == 0].isin(topic_regions_pd))"
   ]
  },
  {
   "cell_type": "code",
   "execution_count": 217,
   "id": "29d3addf-be9f-4125-a992-f801f37c8341",
   "metadata": {
    "execution": {
     "iopub.execute_input": "2023-01-06T00:40:15.087757Z",
     "iopub.status.busy": "2023-01-06T00:40:15.087370Z",
     "iopub.status.idle": "2023-01-06T00:40:15.094879Z",
     "shell.execute_reply": "2023-01-06T00:40:15.094055Z",
     "shell.execute_reply.started": "2023-01-06T00:40:15.087727Z"
    },
    "tags": []
   },
   "outputs": [
    {
     "data": {
      "text/plain": [
       "False"
      ]
     },
     "execution_count": 217,
     "metadata": {},
     "output_type": "execute_result"
    }
   ],
   "source": [
    "arr.sum() == len(topic_regions_lst)"
   ]
  },
  {
   "cell_type": "code",
   "execution_count": 224,
   "id": "a626370a-40aa-4456-bbe6-1d6315e78a4a",
   "metadata": {
    "execution": {
     "iopub.execute_input": "2023-01-06T00:40:38.324368Z",
     "iopub.status.busy": "2023-01-06T00:40:38.323992Z",
     "iopub.status.idle": "2023-01-06T00:40:38.387572Z",
     "shell.execute_reply": "2023-01-06T00:40:38.386677Z",
     "shell.execute_reply.started": "2023-01-06T00:40:38.324338Z"
    },
    "tags": []
   },
   "outputs": [],
   "source": [
    "pr_obj = pyranges.PyRanges(region_data_filt)"
   ]
  },
  {
   "cell_type": "code",
   "execution_count": 225,
   "id": "7a0c7b95-1485-42b4-9a03-05f3d16eabce",
   "metadata": {
    "execution": {
     "iopub.execute_input": "2023-01-06T00:40:39.085449Z",
     "iopub.status.busy": "2023-01-06T00:40:39.085070Z",
     "iopub.status.idle": "2023-01-06T00:41:39.353925Z",
     "shell.execute_reply": "2023-01-06T00:41:39.352924Z",
     "shell.execute_reply.started": "2023-01-06T00:40:39.085419Z"
    },
    "tags": []
   },
   "outputs": [],
   "source": [
    "seqs = pyranges.get_fasta(\n",
    "    pr_obj, \n",
    "    \"/cellar/users/aklie/projects/beta_cell_networks/notebooks/tutorial/infer_grns/dictys/tutorial/data/genome/genome.fa\"\n",
    ")"
   ]
  },
  {
   "cell_type": "code",
   "execution_count": 226,
   "id": "b7786b38-c200-4665-852e-713a4261ec09",
   "metadata": {
    "execution": {
     "iopub.execute_input": "2023-01-06T00:41:39.355864Z",
     "iopub.status.busy": "2023-01-06T00:41:39.355468Z",
     "iopub.status.idle": "2023-01-06T00:41:39.361495Z",
     "shell.execute_reply": "2023-01-06T00:41:39.360716Z",
     "shell.execute_reply.started": "2023-01-06T00:41:39.355832Z"
    },
    "tags": []
   },
   "outputs": [
    {
     "data": {
      "text/plain": [
       "(array(['CTGTCTAGCAGATCCACCCTGTCTATACTACCTGCCCATCCAGCAGGTCCACCCTGTCTACACTACCTCCCTGCCGAGTAGATCCACCCTGTCTACACTACCTGCCTGGCCAGAAGATCCACCCTGTCTACACTACCTTCCTTGCCAGTAATGCACGCTATCTACACTACCTGCCTGGCTAGCAGATCCACGCTGTCTATACTACCTCCCTGTCCAGTAGACCCACCCTGTCTATACTACCTCCCTGGCCAGCAGATCCACCCTGTCTATACTACCTGCCTGGCCAGCAGATCCACCCTGTCTATACTACCTGACTGGCCAGCAGATCCACCCTGTCTACACTACCTGCCTGCCCAGAAGATGCGCCATGTCTACACTACCTGCTTGTCCAGCAGATCCACCCTGTCTACACTAGCTGCCTGTCCAGCATGTCCACCCTATCTACACTACCTGCCTGTCCAGCAGATCCACCCTGTCTATACTACCTGCCTATCCAGCAG',\n",
       "        'aagtcactcacagtgtggaggttccatgtctggaggggcaagctaggaagacaagaggctaccatgcccacccagctactggctcatgcagcaagggtgtcgctctggtggaactggatcacggtccccaggagcagaggagacctaagagcagagcatgtccctgaggtgacagactttacttggagaacagcatgcggaagttcaagcccaaggaagttggcaaaaatagtggagattttgttgatgaacaattaagagtgggtgaaatggtagactagatagaacttaaacagagggaacaaggaagagagattgttgagaagagctccggggtctgagcagacttgaaaagctggcaacactctgcccctgcaaaagagcctgatgttcactggatgagtctatggagcaatttgtgccccaggcatcataaaaaatgatagagcacttgcatttagtggatgttaacagctgtgtgtgacaccaaagagagacag',\n",
       "        'TGTTTCAGTCATATCAAGTAAAACCACTTCCCCCAGGTAATATAGTTTTCCTTTTTACTTTTTCCCTTGGCCTCAGCATTTACAGCCCCGTGCAGACTGTTTTAACAAACGCGTTGGTGAGGTGTGGTAGAATCACAGGCAAAGGCGTGCTTTGCTGTGCTGTGTAGGTACATATCAAACGCTCACCAAGAAATTATAAAATATTATTCATAGCAGTTTTTTTCTTCAGTATTTTATGGGCTAAGTGCAATCTGGCTTTTGATAACAACGGCTGAATAATATTTGAGTTTGCCAGCTGAAATGTCCTAAATATCTTATTGATTCATTTATTGCCTCTTCAAATAACAAGGCAACAAGACAGTGTCAGAATGCTCAGTGTTTTTACTTTTTTGTCTATCATGGGATGGTGTCAGTTTCAGTAAAAACGATGTCTCTTATTTTGGTCCACATTGTAGGAATCTCACCAGTGACACGCGTTTGTGAAAAGCTGTGAATATTCA',\n",
       "        'AGGAGAGGCCTGCAGAATCAGCCTGTGCACCTCTCTGACGATAAGCAGAGATGCTGGTTTAGAGActtgctactcacggggaagtccttgggcctcctgtactcacattacctggaacttcttggaaattcagaatctcaggccccaacccagacggactgaatcaaaatcttcattgtggtaagaccctcggtgacacacaggcctgggaagcacAGGTtagcgtgtcaccttgggcaaagctctcagcattgtgagcctctgttttctactctgtaaaggaggcatgaatatctacaacatcagtttgccatgagtattgaaaaataatgtcttagaagcacagggcagagcctggcatgtagtttgtgctcagtgcacagcagACAAGAAACCACATGCACCAGACCTGGGCGGCCGTCGGCAGCCCACCCTGAGCAACCATGGGTGGCCCTCTTGTCTCTCGGGACAAGAAATGCTTCTTTAGAAATGCTTCTTTC',\n",
       "        'GCCACAGGTCTCCGACTCTCCTGCAACACCTCCTGCTGCCTGTTCCCACCGCCCATGATTCACTCAGTCACCATCCTCAGCAGCACCCGACAGCCTCTGTGTGTCTGTGTCACTCACCATTACCAGCCCCCTGGGTGCCCAATGCATGTATGTTAGACAGAACAAATGCACGGCGGCCTTCAGCAGCACCGACCGCGTCAACCCCTCTGTGCTCACACCAGGAGTGATCAGCGCACACGCCCTCCCACAGGATGGGAGAAGGTGATAACAGCTGAGCTGGGTGTCCAGAAGCCAGCCCCACCCCACAGCCACTACTGAGAGGTTATGAGATCATGGCCTTATCCCGAGTAATGCTGCTGCAGTGAACTGGGACTTTTTTCCTCTGAATTCAAAGGTGGGGCAGTCTAGGCACCTGGATGCACCATCTGCTCTGTCCCGGCCTGGTGGCTGCTCACTGTGGGATGCTGTGCAATTAGACAGTTACTATCTTTCCCTGGTTG'],\n",
       "       dtype=object),\n",
       " 194165)"
      ]
     },
     "execution_count": 226,
     "metadata": {},
     "output_type": "execute_result"
    }
   ],
   "source": [
    "seqs.values[:5], len(seqs)"
   ]
  },
  {
   "cell_type": "code",
   "execution_count": 227,
   "id": "5785ce90-9f85-4622-8169-674ee1f31fa2",
   "metadata": {
    "execution": {
     "iopub.execute_input": "2023-01-06T00:41:39.362768Z",
     "iopub.status.busy": "2023-01-06T00:41:39.362415Z",
     "iopub.status.idle": "2023-01-06T00:41:39.373000Z",
     "shell.execute_reply": "2023-01-06T00:41:39.372181Z",
     "shell.execute_reply.started": "2023-01-06T00:41:39.362740Z"
    }
   },
   "outputs": [
    {
     "data": {
      "text/plain": [
       "True"
      ]
     },
     "execution_count": 227,
     "metadata": {},
     "output_type": "execute_result"
    }
   ],
   "source": [
    "len(arr) == len(seqs)"
   ]
  },
  {
   "cell_type": "code",
   "execution_count": 230,
   "id": "e0a91c26-513a-4719-8a82-c096f687e65c",
   "metadata": {
    "execution": {
     "iopub.execute_input": "2023-01-06T00:44:15.086256Z",
     "iopub.status.busy": "2023-01-06T00:44:15.085816Z",
     "iopub.status.idle": "2023-01-06T00:44:15.118579Z",
     "shell.execute_reply": "2023-01-06T00:44:15.117681Z",
     "shell.execute_reply.started": "2023-01-06T00:44:15.086225Z"
    },
    "tags": []
   },
   "outputs": [],
   "source": [
    "np.save(\"_data/topic_labels\", arr)"
   ]
  },
  {
   "cell_type": "code",
   "execution_count": 231,
   "id": "4a840f93-3c93-40e7-b8da-885386fec4fb",
   "metadata": {
    "execution": {
     "iopub.execute_input": "2023-01-06T00:44:31.133770Z",
     "iopub.status.busy": "2023-01-06T00:44:31.133319Z",
     "iopub.status.idle": "2023-01-06T00:44:31.359580Z",
     "shell.execute_reply": "2023-01-06T00:44:31.358681Z",
     "shell.execute_reply.started": "2023-01-06T00:44:31.133738Z"
    }
   },
   "outputs": [],
   "source": [
    "np.save(\"_data/seqs\", seqs)"
   ]
  },
  {
   "cell_type": "code",
   "execution_count": 234,
   "id": "3b43117d-6052-446f-af75-4cd036134d90",
   "metadata": {
    "execution": {
     "iopub.execute_input": "2023-01-06T00:48:15.318025Z",
     "iopub.status.busy": "2023-01-06T00:48:15.317551Z",
     "iopub.status.idle": "2023-01-06T00:48:15.388459Z",
     "shell.execute_reply": "2023-01-06T00:48:15.387538Z",
     "shell.execute_reply.started": "2023-01-06T00:48:15.317995Z"
    },
    "tags": []
   },
   "outputs": [],
   "source": [
    "np.save(\"_data/regions\", all_regions.to_numpy())"
   ]
  },
  {
   "cell_type": "code",
   "execution_count": null,
   "id": "80f45537-7030-4469-92b7-80eef8fb7207",
   "metadata": {},
   "outputs": [],
   "source": []
  }
 ],
 "metadata": {
  "kernelspec": {
   "display_name": "Python 3.8 scenicplus",
   "language": "python",
   "name": "scenicplus"
  },
  "language_info": {
   "codemirror_mode": {
    "name": "ipython",
    "version": 3
   },
   "file_extension": ".py",
   "mimetype": "text/x-python",
   "name": "python",
   "nbconvert_exporter": "python",
   "pygments_lexer": "ipython3",
   "version": "3.8.15"
  }
 },
 "nbformat": 4,
 "nbformat_minor": 5
}

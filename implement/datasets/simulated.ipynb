{
 "cells": [
  {
   "attachments": {},
   "cell_type": "markdown",
   "metadata": {},
   "source": [
    "# Generate synthetic/simulated datasets for testing out package"
   ]
  },
  {
   "cell_type": "code",
   "execution_count": 187,
   "metadata": {},
   "outputs": [],
   "source": [
    "from __future__ import absolute_import\n",
    "from __future__ import division\n",
    "from __future__ import print_function"
   ]
  },
  {
   "cell_type": "code",
   "execution_count": 188,
   "metadata": {},
   "outputs": [],
   "source": [
    "# Autoreload\n",
    "if 'autoreload' not in get_ipython().extension_manager.loaded:\n",
    "    %load_ext autoreload\n",
    "%autoreload 2\n",
    "\n",
    "\n",
    "\n",
    "import os, sys, h5py\n",
    "import numpy as np\n",
    "import pandas as pd\n",
    "\n",
    "# plotting tools\n",
    "import matplotlib.pyplot as plt\n",
    "from matplotlib import rcParams\n",
    "%matplotlib inline"
   ]
  },
  {
   "attachments": {},
   "cell_type": "markdown",
   "metadata": {},
   "source": [
    "# random1000"
   ]
  },
  {
   "cell_type": "code",
   "execution_count": null,
   "metadata": {},
   "outputs": [],
   "source": [
    "eu.utils.generate_random_data(num_seqs=1000, seq_len=66, out_dir=\"../_data/datasets/\")"
   ]
  },
  {
   "attachments": {},
   "cell_type": "markdown",
   "metadata": {},
   "source": [
    "# Peter Koo's code\n",
    "https://github.com/p-koo/learning_sequence_motifs/blob/master/code/0_Generate_synthetic_dataset.ipynb"
   ]
  },
  {
   "cell_type": "code",
   "execution_count": 189,
   "metadata": {},
   "outputs": [
    {
     "name": "stdout",
     "output_type": "stream",
     "text": [
      "--2022-12-15 10:33:57--  https://raw.githubusercontent.com/p-koo/learning_sequence_motifs/master/data/pfm_vertebrates.txt\n",
      "Resolving raw.githubusercontent.com (raw.githubusercontent.com)... 185.199.109.133, 185.199.111.133, 185.199.108.133, ...\n",
      "Connecting to raw.githubusercontent.com (raw.githubusercontent.com)|185.199.109.133|:443... connected.\n",
      "HTTP request sent, awaiting response... 200 OK\n",
      "Length: 135700 (133K) [text/plain]\n",
      "Saving to: ‘pfm_vertebrates.txt.2’\n",
      "\n",
      "pfm_vertebrates.txt 100%[===================>] 132.52K  --.-KB/s    in 0.02s   \n",
      "\n",
      "2022-12-15 10:33:57 (8.19 MB/s) - ‘pfm_vertebrates.txt.2’ saved [135700/135700]\n",
      "\n"
     ]
    }
   ],
   "source": [
    "!wget https://raw.githubusercontent.com/p-koo/learning_sequence_motifs/master/data/pfm_vertebrates.txt"
   ]
  },
  {
   "cell_type": "code",
   "execution_count": 190,
   "metadata": {},
   "outputs": [],
   "source": [
    "def get_jaspar_motifs(file_path):\n",
    "    def get_motif(f):\n",
    "        line = f.readline()\n",
    "        name = line.strip().split()[1]\n",
    "        pfm = []\n",
    "        for i in range(4):\n",
    "            line = f.readline()\n",
    "            if len(line.split()[1]) > 1:\n",
    "                pfm.append(np.asarray(np.hstack([line.split()[1][1:], line.split()[2:-1]]), dtype=float))\n",
    "            else:\n",
    "                pfm.append(np.asarray(line.split()[2:-1], dtype=float))\n",
    "        pfm = np.vstack(pfm)\n",
    "        sum_pfm = np.sum(pfm, axis=0)\n",
    "        pwm = pfm/np.outer(np.ones(4), sum_pfm)\n",
    "        line = f.readline()\n",
    "        return name, pwm\n",
    "\n",
    "    num_lines = sum(1 for line in open(file_path))\n",
    "    num_motifs = int(num_lines/6)\n",
    "\n",
    "    f = open(file_path)\n",
    "    tf_names = []\n",
    "    tf_motifs = []\n",
    "    for i in range(num_motifs):\n",
    "        name, pwm = get_motif(f)\n",
    "        tf_names.append(name)\n",
    "        tf_motifs.append(pwm)\n",
    "\n",
    "    return tf_motifs, tf_names\n",
    "\n",
    "# parse JASPAR motifs\n",
    "file_path = os.path.join('pfm_vertebrates.txt')\n",
    "motif_set, motif_names = get_jaspar_motifs(file_path)\n",
    "\n",
    "# get a subset of core motifs \n",
    "core_names = ['Arid3a', 'CEBPB', 'FOSL1', 'Gabpa', 'MAFK', 'MAX', \n",
    "              'MEF2A', 'NFYB', 'SP1', 'SRF', 'STAT1', 'YY1']\n",
    "\n",
    "strand_motifs = []\n",
    "core_index = []\n",
    "for name in core_names:\n",
    "    strand_motifs.append(motif_set[motif_names.index(name)])\n",
    "    core_index.append(motif_names.index(name))\n",
    "\n",
    "# generate reverse compliments\n",
    "core_motifs = []\n",
    "for pwm in strand_motifs:\n",
    "    core_motifs.append(pwm)\n",
    "    reverse = pwm[:,::-1]\n",
    "    core_motifs.append(reverse[::-1,:]) "
   ]
  },
  {
   "cell_type": "code",
   "execution_count": 198,
   "metadata": {},
   "outputs": [],
   "source": [
    "def seq_logo(pwm, height=30, nt_width=10, norm=0, alphabet='dna', colormap='standard'):\n",
    "\n",
    "\tdef get_nt_height(pwm, height, norm):\n",
    "\n",
    "\t\tdef entropy(p):\n",
    "\t\t\ts = 0\n",
    "\t\t\tfor i in range(len(p)):\n",
    "\t\t\t\tif p[i] > 0:\n",
    "\t\t\t\t\ts -= p[i]*np.log2(p[i])\n",
    "\t\t\treturn s\n",
    "\n",
    "\t\tnum_nt, num_seq = pwm.shape\n",
    "\t\theights = np.zeros((num_nt,num_seq));\n",
    "\t\tfor i in range(num_seq):\n",
    "\t\t\tif norm == 1:\n",
    "\t\t\t\ttotal_height = height\n",
    "\t\t\telse:\n",
    "\t\t\t\ttotal_height = (np.log2(num_nt) - entropy(pwm[:, i]))*height;\n",
    "\t\t\tif alphabet == 'pu':\n",
    "\t\t\t\theights[:,i] = np.floor(pwm[:,i]*np.minimum(total_height, height));\n",
    "\t\t\telse:\n",
    "\t\t\t\theights[:,i] = np.floor(pwm[:,i]*np.minimum(total_height, height*2));\n",
    "\n",
    "\t\treturn heights.astype(int)\n",
    "\n",
    "\n",
    "\t# get the alphabet images of each nucleotide\n",
    "\tpackage_directory = os.path.dirname(os.path.abspath(__file__))\n",
    "\tchar_path = os.path.join(package_directory,'chars')\n",
    "\tchars = load_alphabet(char_path, alphabet, colormap)\n",
    "\n",
    "\t# get the heights of each nucleotide\n",
    "\theights = get_nt_height(pwm, height, norm)\n",
    "\n",
    "\t# resize nucleotide images for each base of sequence and stack\n",
    "\tnum_nt, num_seq = pwm.shape\n",
    "\twidth = np.ceil(nt_width*num_seq).astype(int)\n",
    "\n",
    "\tif alphabet == 'pu':\n",
    "\t\tmax_height = height\n",
    "\telse:\n",
    "\t\tmax_height = height*2\n",
    "\t#total_height = np.sum(heights,axis=0) # np.minimum(np.sum(heights,axis=0), max_height)\n",
    "\tlogo = np.ones((max_height, width, 3)).astype(int)*255;\n",
    "\tfor i in range(num_seq):\n",
    "\t\tnt_height = np.sort(heights[:,i]);\n",
    "\t\tindex = np.argsort(heights[:,i])\n",
    "\t\tremaining_height = np.sum(heights[:,i]);\n",
    "\t\toffset = max_height-remaining_height\n",
    "\n",
    "\t\tfor j in range(num_nt):\n",
    "\t\t\tif nt_height[j] > 0:\n",
    "\t\t\t\t# resized dimensions of image\n",
    "\t\t\t\tnt_img = imresize(chars[index[j]], (nt_height[j], nt_width))\n",
    "\n",
    "\t\t\t\t# determine location of image\n",
    "\t\t\t\theight_range = range(remaining_height-nt_height[j], remaining_height)\n",
    "\t\t\t\twidth_range = range(i*nt_width, i*nt_width+nt_width)\n",
    "\n",
    "\t\t\t\t# 'annoying' way to broadcast resized nucleotide image\n",
    "\t\t\t\tif height_range:\n",
    "\t\t\t\t\tfor k in range(3):\n",
    "\t\t\t\t\t\tfor m in range(len(width_range)):\n",
    "\t\t\t\t\t\t\tlogo[height_range+offset, width_range[m],k] = nt_img[:,m,k];\n",
    "\n",
    "\t\t\t\tremaining_height -= nt_height[j]\n",
    "\n",
    "\treturn logo.astype(np.uint8)\n",
    "    \n",
    "def plot_seq_logo(logo, nt_width=None, step_multiple=None):\n",
    "\tplt.imshow(logo, interpolation='none')\n",
    "\tif nt_width:\n",
    "\t\tnum_nt = logo.shape[1]/nt_width\n",
    "\t\tif step_multiple:\n",
    "\t\t\tstep_size = int(num_nt/(step_multiple+1))\n",
    "\t\t\tnt_range = range(step_size, step_size*step_multiple)\n",
    "\t\t\tplt.xticks([step_size*nt_width, step_size*2*nt_width, step_size*3*nt_width, step_size*4*nt_width],\n",
    "\t\t\t\t\t\t[str(step_size), str(step_size*2), str(step_size*3), str(step_size*4)])\n",
    "\t\telse:\n",
    "\t\t\tplt.xticks([])\n",
    "\t\t#plt.yticks([0, 50], ['2.0','0.0'])\n",
    "\t\tax = plt.gca()\n",
    "\t\tax.spines['right'].set_visible(False)\n",
    "\t\tax.spines['top'].set_visible(False)\n",
    "\t\tax.yaxis.set_ticks_position('none')\n",
    "\t\tax.xaxis.set_ticks_position('none')\n",
    "\telse:\n",
    "\t\tplt.imshow(logo, interpolation='none')\n",
    "\t\tplt.axis('off');"
   ]
  },
  {
   "cell_type": "code",
   "execution_count": 199,
   "metadata": {},
   "outputs": [],
   "source": [
    "core_names = ['Arid3a', 'CEBPB', 'FOSL1', 'Gabpa', 'MAFK', 'MAX', \n",
    "              'MEF2A', 'NFYB', 'SP1', 'SRF', 'STAT1', 'YY1']\n",
    "bio_motifs = eu.dl.motif.get_jaspar_motifs(motif_names=[core_names])"
   ]
  },
  {
   "cell_type": "code",
   "execution_count": 200,
   "metadata": {},
   "outputs": [],
   "source": [
    "example_motif = bio_motifs[0]"
   ]
  },
  {
   "cell_type": "code",
   "execution_count": 201,
   "metadata": {},
   "outputs": [
    {
     "data": {
      "text/plain": [
       "{'A': [27.0, 0.0, 1.0, 27.0, 27.0, 20.0],\n",
       " 'C': [0.0, 0.0, 9.0, 0.0, 0.0, 0.0],\n",
       " 'G': [0.0, 0.0, 0.0, 0.0, 0.0, 1.0],\n",
       " 'T': [0.0, 27.0, 17.0, 0.0, 0.0, 6.0]}"
      ]
     },
     "execution_count": 201,
     "metadata": {},
     "output_type": "execute_result"
    }
   ],
   "source": [
    "example_motif.counts"
   ]
  },
  {
   "cell_type": "code",
   "execution_count": 203,
   "metadata": {},
   "outputs": [
    {
     "ename": "NameError",
     "evalue": "name '__file__' is not defined",
     "output_type": "error",
     "traceback": [
      "\u001b[0;31m---------------------------------------------------------------------------\u001b[0m",
      "\u001b[0;31mNameError\u001b[0m                                 Traceback (most recent call last)",
      "\u001b[0;32m/var/folders/tm/f8q3_wcj5s98dwjv86bvq7hr0000gn/T/ipykernel_2638/2270085567.py\u001b[0m in \u001b[0;36m<module>\u001b[0;34m\u001b[0m\n\u001b[1;32m      4\u001b[0m     \u001b[0mfig\u001b[0m \u001b[0;34m=\u001b[0m \u001b[0mplt\u001b[0m\u001b[0;34m.\u001b[0m\u001b[0mfigure\u001b[0m\u001b[0;34m(\u001b[0m\u001b[0mfigsize\u001b[0m \u001b[0;34m=\u001b[0m \u001b[0;34m(\u001b[0m\u001b[0;36m3\u001b[0m\u001b[0;34m,\u001b[0m\u001b[0;36m1\u001b[0m\u001b[0;34m)\u001b[0m\u001b[0;34m)\u001b[0m\u001b[0;34m\u001b[0m\u001b[0;34m\u001b[0m\u001b[0m\n\u001b[1;32m      5\u001b[0m     \u001b[0mplt\u001b[0m\u001b[0;34m.\u001b[0m\u001b[0msubplot\u001b[0m\u001b[0;34m(\u001b[0m\u001b[0;36m1\u001b[0m\u001b[0;34m,\u001b[0m\u001b[0;36m2\u001b[0m\u001b[0;34m,\u001b[0m\u001b[0;36m1\u001b[0m\u001b[0;34m)\u001b[0m\u001b[0;34m\u001b[0m\u001b[0;34m\u001b[0m\u001b[0m\n\u001b[0;32m----> 6\u001b[0;31m     \u001b[0mlogo\u001b[0m \u001b[0;34m=\u001b[0m \u001b[0mseq_logo\u001b[0m\u001b[0;34m(\u001b[0m\u001b[0mcore_motifs\u001b[0m\u001b[0;34m[\u001b[0m\u001b[0mj\u001b[0m\u001b[0;34m]\u001b[0m\u001b[0;34m,\u001b[0m \u001b[0mheight\u001b[0m\u001b[0;34m=\u001b[0m\u001b[0;36m100\u001b[0m\u001b[0;34m,\u001b[0m \u001b[0mnt_width\u001b[0m\u001b[0;34m=\u001b[0m\u001b[0;36m50\u001b[0m\u001b[0;34m,\u001b[0m \u001b[0mnorm\u001b[0m\u001b[0;34m=\u001b[0m\u001b[0;36m0\u001b[0m\u001b[0;34m,\u001b[0m \u001b[0malphabet\u001b[0m\u001b[0;34m=\u001b[0m\u001b[0;34m'dna'\u001b[0m\u001b[0;34m)\u001b[0m\u001b[0;34m\u001b[0m\u001b[0;34m\u001b[0m\u001b[0m\n\u001b[0m\u001b[1;32m      7\u001b[0m     \u001b[0mplot_seq_logo\u001b[0m\u001b[0;34m(\u001b[0m\u001b[0mlogo\u001b[0m\u001b[0;34m,\u001b[0m \u001b[0mnt_width\u001b[0m\u001b[0;34m=\u001b[0m\u001b[0;36m20\u001b[0m\u001b[0;34m,\u001b[0m \u001b[0mstep_multiple\u001b[0m\u001b[0;34m=\u001b[0m\u001b[0;36m4\u001b[0m\u001b[0;34m)\u001b[0m\u001b[0;34m\u001b[0m\u001b[0;34m\u001b[0m\u001b[0m\n\u001b[1;32m      8\u001b[0m     \u001b[0mplt\u001b[0m\u001b[0;34m.\u001b[0m\u001b[0mxticks\u001b[0m\u001b[0;34m(\u001b[0m\u001b[0;34m[\u001b[0m\u001b[0;34m]\u001b[0m\u001b[0;34m)\u001b[0m\u001b[0;34m\u001b[0m\u001b[0;34m\u001b[0m\u001b[0m\n",
      "\u001b[0;32m/var/folders/tm/f8q3_wcj5s98dwjv86bvq7hr0000gn/T/ipykernel_2638/1536489821.py\u001b[0m in \u001b[0;36mseq_logo\u001b[0;34m(pwm, height, nt_width, norm, alphabet, colormap)\u001b[0m\n\u001b[1;32m     26\u001b[0m \u001b[0;34m\u001b[0m\u001b[0m\n\u001b[1;32m     27\u001b[0m         \u001b[0;31m# get the alphabet images of each nucleotide\u001b[0m\u001b[0;34m\u001b[0m\u001b[0;34m\u001b[0m\u001b[0;34m\u001b[0m\u001b[0m\n\u001b[0;32m---> 28\u001b[0;31m         \u001b[0mpackage_directory\u001b[0m \u001b[0;34m=\u001b[0m \u001b[0mos\u001b[0m\u001b[0;34m.\u001b[0m\u001b[0mpath\u001b[0m\u001b[0;34m.\u001b[0m\u001b[0mdirname\u001b[0m\u001b[0;34m(\u001b[0m\u001b[0mos\u001b[0m\u001b[0;34m.\u001b[0m\u001b[0mpath\u001b[0m\u001b[0;34m.\u001b[0m\u001b[0mabspath\u001b[0m\u001b[0;34m(\u001b[0m\u001b[0m__file__\u001b[0m\u001b[0;34m)\u001b[0m\u001b[0;34m)\u001b[0m\u001b[0;34m\u001b[0m\u001b[0;34m\u001b[0m\u001b[0m\n\u001b[0m\u001b[1;32m     29\u001b[0m         \u001b[0mchar_path\u001b[0m \u001b[0;34m=\u001b[0m \u001b[0mos\u001b[0m\u001b[0;34m.\u001b[0m\u001b[0mpath\u001b[0m\u001b[0;34m.\u001b[0m\u001b[0mjoin\u001b[0m\u001b[0;34m(\u001b[0m\u001b[0mpackage_directory\u001b[0m\u001b[0;34m,\u001b[0m\u001b[0;34m'chars'\u001b[0m\u001b[0;34m)\u001b[0m\u001b[0;34m\u001b[0m\u001b[0;34m\u001b[0m\u001b[0m\n\u001b[1;32m     30\u001b[0m         \u001b[0mchars\u001b[0m \u001b[0;34m=\u001b[0m \u001b[0mload_alphabet\u001b[0m\u001b[0;34m(\u001b[0m\u001b[0mchar_path\u001b[0m\u001b[0;34m,\u001b[0m \u001b[0malphabet\u001b[0m\u001b[0;34m,\u001b[0m \u001b[0mcolormap\u001b[0m\u001b[0;34m)\u001b[0m\u001b[0;34m\u001b[0m\u001b[0;34m\u001b[0m\u001b[0m\n",
      "\u001b[0;31mNameError\u001b[0m: name '__file__' is not defined"
     ]
    },
    {
     "data": {
      "image/png": "[encoded data removed]",
      "text/plain": [
       "<Figure size 300x100 with 1 Axes>"
      ]
     },
     "metadata": {},
     "output_type": "display_data"
    }
   ],
   "source": [
    "i=0\n",
    "for j in range(0,len(core_motifs),2):\n",
    "    \n",
    "    fig = plt.figure(figsize = (3,1))\n",
    "    plt.subplot(1,2,1)\n",
    "    logo = seq_logo(core_motifs[j], height=100, nt_width=50, norm=0, alphabet='dna')\n",
    "    plot_seq_logo(logo, nt_width=20, step_multiple=4)    \n",
    "    plt.xticks([])\n",
    "    plt.yticks([])\n",
    "    plt.ylabel(core_names[i], fontsize=14)\n",
    "\n",
    "    plt.subplot(1,2,2)\n",
    "    logo = seq_logo(core_motifs[j+1], height=100, nt_width=50, norm=0, alphabet='dna')\n",
    "    plot_seq_logo(logo, nt_width=20, step_multiple=4)    \n",
    "    plt.xticks([])\n",
    "    plt.yticks([])\n",
    "\n",
    "    \n",
    "    i += 1"
   ]
  },
  {
   "attachments": {},
   "cell_type": "markdown",
   "metadata": {},
   "source": [
    "# Janggu resources"
   ]
  },
  {
   "cell_type": "code",
   "execution_count": 1,
   "metadata": {},
   "outputs": [],
   "source": [
    "from pkg_resources import resource_filename"
   ]
  },
  {
   "cell_type": "markdown",
   "metadata": {},
   "source": [
    "The reference genome is made up of a concatenation of Oct4 and Mafk binding sites and we shall use all regions on chromosome 'pseudo1' as training and 'pseudo2' as test chromosomes."
   ]
  },
  {
   "cell_type": "code",
   "execution_count": 7,
   "metadata": {},
   "outputs": [],
   "source": [
    "#\n",
    "ref_file = resource_filename(\"eugene\", \"datasets/janggu_resources/pseudo_genome.fa\")\n",
    "roi_train_file = resource_filename(\"eugene\", \"datasets/janggu_resources/roi_train.bed\")\n",
    "roi_test_file = resource_filename(\"eugene\", \"datasets/janggu_resources/roi_test.bed\")\n",
    "peak_file = resource_filename(\"eugene\", \"datasets/janggu_resources/scores.bed\")"
   ]
  },
  {
   "cell_type": "code",
   "execution_count": 8,
   "metadata": {},
   "outputs": [],
   "source": [
    "import pybedtools"
   ]
  },
  {
   "cell_type": "code",
   "execution_count": 11,
   "metadata": {},
   "outputs": [],
   "source": [
    "test_bedtool = pybedtools.BedTool(peak_file)"
   ]
  },
  {
   "cell_type": "code",
   "execution_count": 13,
   "metadata": {},
   "outputs": [
    {
     "name": "stdout",
     "output_type": "stream",
     "text": [
      "pseudo1\t0\t779400\n",
      " pseudo2\t0\t20000\n",
      " "
     ]
    }
   ],
   "source": [
    "test_bedtool.head()"
   ]
  },
  {
   "cell_type": "code",
   "execution_count": 14,
   "metadata": {},
   "outputs": [],
   "source": [
    "import eugene as eu"
   ]
  },
  {
   "cell_type": "code",
   "execution_count": 51,
   "metadata": {},
   "outputs": [
    {
     "name": "stdout",
     "output_type": "stream",
     "text": [
      "environment variable JANGGU_OUTPUT not set. Will use JANGGU_OUTPUT=/Users/adamklie/janggu_results\n"
     ]
    }
   ],
   "source": [
    "dna, cov = eu.dl.read_bed(\n",
    "    bed_file=peak_file,\n",
    "    roi_file=roi_train_file,\n",
    "    ref_file=ref_file,\n",
    "    binsize=200,\n",
    "    order=5,\n",
    "    cache=True,\n",
    "    return_janggu=True\n",
    ")"
   ]
  },
  {
   "cell_type": "code",
   "execution_count": 120,
   "metadata": {},
   "outputs": [],
   "source": [
    "#step_size"
   ]
  },
  {
   "cell_type": "code",
   "execution_count": 52,
   "metadata": {},
   "outputs": [
    {
     "data": {
      "text/plain": [
       "((7797, 196, 1, 1024), (7797, 1, 1, 1))"
      ]
     },
     "execution_count": 52,
     "metadata": {},
     "output_type": "execute_result"
    }
   ],
   "source": [
    "dna.shape, cov.shape"
   ]
  },
  {
   "cell_type": "code",
   "execution_count": 59,
   "metadata": {},
   "outputs": [],
   "source": [
    "dna_model = SqueezeDim(ReduceDim(dna))\n",
    "cov_model = SqueezeDim(ReduceDim(cov))"
   ]
  },
  {
   "cell_type": "code",
   "execution_count": 67,
   "metadata": {},
   "outputs": [
    {
     "data": {
      "text/plain": [
       "(7797, 1024)"
      ]
     },
     "execution_count": 67,
     "metadata": {},
     "output_type": "execute_result"
    }
   ],
   "source": [
    "dna_model[:"
   ]
  },
  {
   "cell_type": "code",
   "execution_count": 58,
   "metadata": {},
   "outputs": [],
   "source": [
    "from sklearn.linear_model import LogisticRegression"
   ]
  },
  {
   "cell_type": "code",
   "execution_count": 68,
   "metadata": {},
   "outputs": [
    {
     "name": "stderr",
     "output_type": "stream",
     "text": [
      "/Users/adamklie/miniconda3/envs/eugene/lib/python3.7/site-packages/sklearn/linear_model/_logistic.py:818: ConvergenceWarning: lbfgs failed to converge (status=1):\n",
      "STOP: TOTAL NO. of ITERATIONS REACHED LIMIT.\n",
      "\n",
      "Increase the number of iterations (max_iter) or scale the data as shown in:\n",
      "    https://scikit-learn.org/stable/modules/preprocessing.html\n",
      "Please also refer to the documentation for alternative solver options:\n",
      "    https://scikit-learn.org/stable/modules/linear_model.html#logistic-regression\n",
      "  extra_warning_msg=_LOGISTIC_SOLVER_CONVERGENCE_MSG,\n"
     ]
    },
    {
     "data": {
      "text/plain": [
       "LogisticRegression()"
      ]
     },
     "execution_count": 68,
     "metadata": {},
     "output_type": "execute_result"
    }
   ],
   "source": [
    "model = LogisticRegression()\n",
    "model.fit(dna_model, cov_model)"
   ]
  },
  {
   "cell_type": "code",
   "execution_count": null,
   "metadata": {},
   "outputs": [],
   "source": [
    "model"
   ]
  },
  {
   "cell_type": "code",
   "execution_count": 73,
   "metadata": {},
   "outputs": [],
   "source": [
    "dna_test, cov_test = eu.dl.read_bed(\n",
    "    bed_file=peak_file,\n",
    "    roi_file=roi_test_file,\n",
    "    ref_file=ref_file,\n",
    "    binsize=200,\n",
    "    order=5,\n",
    "    return_janggu=True\n",
    ")"
   ]
  },
  {
   "cell_type": "code",
   "execution_count": 74,
   "metadata": {},
   "outputs": [],
   "source": [
    "dna_test_model = SqueezeDim(ReduceDim(dna_test))\n",
    "cov_test_model = SqueezeDim(ReduceDim(cov_test))"
   ]
  },
  {
   "cell_type": "code",
   "execution_count": 75,
   "metadata": {},
   "outputs": [
    {
     "data": {
      "text/plain": [
       "(200, 1024)"
      ]
     },
     "execution_count": 75,
     "metadata": {},
     "output_type": "execute_result"
    }
   ],
   "source": [
    "dna_test_model.shape"
   ]
  },
  {
   "cell_type": "code",
   "execution_count": 76,
   "metadata": {},
   "outputs": [],
   "source": [
    "logregpred = model.predict(dna_test_model)"
   ]
  },
  {
   "cell_type": "code",
   "execution_count": 77,
   "metadata": {},
   "outputs": [],
   "source": [
    "from sklearn.metrics import roc_auc_score"
   ]
  },
  {
   "cell_type": "code",
   "execution_count": 79,
   "metadata": {},
   "outputs": [
    {
     "data": {
      "text/plain": [
       "0.845"
      ]
     },
     "execution_count": 79,
     "metadata": {},
     "output_type": "execute_result"
    }
   ],
   "source": [
    "roc_auc_score(cov_test_model[:], logregpred)"
   ]
  },
  {
   "cell_type": "code",
   "execution_count": 41,
   "metadata": {},
   "outputs": [],
   "source": [
    "from eugene.external.janggu.data import SqueezeDim, ReduceDim"
   ]
  },
  {
   "cell_type": "code",
   "execution_count": 39,
   "metadata": {},
   "outputs": [
    {
     "name": "stdout",
     "output_type": "stream",
     "text": [
      "\u001b[0;31mInit signature:\u001b[0m\n",
      "\u001b[0mJangguSequence\u001b[0m\u001b[0;34m(\u001b[0m\u001b[0;34m\u001b[0m\n",
      "\u001b[0;34m\u001b[0m    \u001b[0minputs\u001b[0m\u001b[0;34m,\u001b[0m\u001b[0;34m\u001b[0m\n",
      "\u001b[0;34m\u001b[0m    \u001b[0moutputs\u001b[0m\u001b[0;34m=\u001b[0m\u001b[0;32mNone\u001b[0m\u001b[0;34m,\u001b[0m\u001b[0;34m\u001b[0m\n",
      "\u001b[0;34m\u001b[0m    \u001b[0msample_weights\u001b[0m\u001b[0;34m=\u001b[0m\u001b[0;32mNone\u001b[0m\u001b[0;34m,\u001b[0m\u001b[0;34m\u001b[0m\n",
      "\u001b[0;34m\u001b[0m    \u001b[0mbatch_size\u001b[0m\u001b[0;34m=\u001b[0m\u001b[0;36m32\u001b[0m\u001b[0;34m,\u001b[0m\u001b[0;34m\u001b[0m\n",
      "\u001b[0;34m\u001b[0m    \u001b[0mshuffle\u001b[0m\u001b[0;34m=\u001b[0m\u001b[0;32mFalse\u001b[0m\u001b[0;34m,\u001b[0m\u001b[0;34m\u001b[0m\n",
      "\u001b[0;34m\u001b[0m    \u001b[0mas_dict\u001b[0m\u001b[0;34m=\u001b[0m\u001b[0;32mTrue\u001b[0m\u001b[0;34m,\u001b[0m\u001b[0;34m\u001b[0m\n",
      "\u001b[0;34m\u001b[0m\u001b[0;34m)\u001b[0m\u001b[0;34m\u001b[0m\u001b[0;34m\u001b[0m\u001b[0m\n",
      "\u001b[0;31mDocstring:\u001b[0m     \n",
      "JangguSequence class.\n",
      "\n",
      "This class is a subclass of keras.utils.Sequence.\n",
      "It is used to serve the fit_generator, predict_generator\n",
      "and evaluate_generator.\n",
      "It can also be used with the new keras interface (>=2.4.3).\n",
      "\n",
      "Parameters\n",
      "---------\n",
      "inputs : :class:`Dataset`, list(:class:`Dataset`) or array-like\n",
      "    Dataset or list(Dataset).\n",
      "outputs :  :class:`Dataset`, list(:class:`Dataset`), array-like or None\n",
      "    Dataset or list(Dataset).\n",
      "sample_weights : array-like or None\n",
      "    Array or list of sample weights.\n",
      "batch_size : int\n",
      "    Batch size. Default: 32\n",
      "shuffle : boolean\n",
      "    Whether to shuffle the data. Default: False\n",
      "as_dict : boolean\n",
      "    Whether to return mini-batches as dict or unnamed tuples.\n",
      "    In the latter case, the order of the input arguments\n",
      "    reflects the order to the mini-batch tuples. Default: True\n",
      "\u001b[0;31mFile:\u001b[0m           ~/Desktop/EUGENe/eugene/external/janggu/data/data.py\n",
      "\u001b[0;31mType:\u001b[0m           type\n",
      "\u001b[0;31mSubclasses:\u001b[0m     \n"
     ]
    }
   ],
   "source": [
    "JangguSequence?"
   ]
  },
  {
   "cell_type": "code",
   "execution_count": 121,
   "metadata": {},
   "outputs": [],
   "source": [
    "ref_file = resource_filename(\"eugene\", \"datasets/janggu_resources/sample_genome.fa\")\n",
    "roi_file = resource_filename(\"eugene\", \"datasets/janggu_resources/sample.bed\")\n",
    "bam_file = resource_filename(\"eugene\", \"datasets/janggu_resources/sample2.bam\")"
   ]
  },
  {
   "cell_type": "code",
   "execution_count": 124,
   "metadata": {},
   "outputs": [],
   "source": [
    "sdata = eu.dl.read_bam(\n",
    "    bam_file=bam_file,\n",
    "    roi_file=roi_file,\n",
    "    ref_file=ref_file,\n",
    "    binsize=200,\n",
    "    resolution=200,\n",
    "    order=1,\n",
    ")"
   ]
  },
  {
   "cell_type": "code",
   "execution_count": 125,
   "metadata": {},
   "outputs": [
    {
     "data": {
      "text/plain": [
       "0.0"
      ]
     },
     "execution_count": 125,
     "metadata": {},
     "output_type": "execute_result"
    }
   ],
   "source": [
    "sdata.seqs_annot.sum(axis=0).max()"
   ]
  },
  {
   "cell_type": "code",
   "execution_count": 93,
   "metadata": {},
   "outputs": [],
   "source": [
    "from eugene.external.janggu.data import Cover"
   ]
  },
  {
   "cell_type": "code",
   "execution_count": 126,
   "metadata": {},
   "outputs": [],
   "source": [
    "cover = Cover.create_from_bam('read_coverage',\n",
    "                              bamfiles=bam_file,\n",
    "                              binsize=200,\n",
    "                              stepsize=200,\n",
    "                              stranded=False,\n",
    "                              roi=roi_file)"
   ]
  },
  {
   "cell_type": "code",
   "execution_count": 130,
   "metadata": {},
   "outputs": [
    {
     "data": {
      "text/plain": [
       "(100, 200, 1, 1)"
      ]
     },
     "execution_count": 130,
     "metadata": {},
     "output_type": "execute_result"
    }
   ],
   "source": [
    "cover.shape"
   ]
  },
  {
   "cell_type": "code",
   "execution_count": 85,
   "metadata": {},
   "outputs": [
    {
     "data": {
      "text/plain": [
       "0.0    7797\n",
       "Name: target_0, dtype: int64"
      ]
     },
     "execution_count": 85,
     "metadata": {},
     "output_type": "execute_result"
    }
   ],
   "source": [
    "sdata[\"target_0\"].value_counts()"
   ]
  },
  {
   "cell_type": "code",
   "execution_count": 137,
   "metadata": {},
   "outputs": [],
   "source": [
    "ref_file = resource_filename(\"eugene\", \"datasets/janggu_resources/sample_genome.fa\")\n",
    "roi_file = resource_filename(\"eugene\", \"datasets/janggu_resources/sample.bed\")\n",
    "bw_file = resource_filename(\"eugene\", \"datasets/janggu_resources/sample.bw\") "
   ]
  },
  {
   "cell_type": "code",
   "execution_count": 172,
   "metadata": {},
   "outputs": [],
   "source": [
    "# True labels may be obtained from a BED file\n",
    "cover = Cover.create_from_bigwig('cov',\n",
    "                                  bigwigfiles=bw_file,\n",
    "                                  roi=roi_file,\n",
    "                                  binsize=200,\n",
    "                                  resolution=50)"
   ]
  },
  {
   "cell_type": "code",
   "execution_count": 149,
   "metadata": {},
   "outputs": [],
   "source": [
    "# True labels may be obtained from a BED file\n",
    "cover = Cover.create_from_bigwig('cov',\n",
    "                                  bigwigfiles=bw_file,\n",
    "                                  roi=roi_file,\n",
    "                                  binsize=200,\n",
    "                                  stepsize=200\n",
    ") "
   ]
  },
  {
   "cell_type": "code",
   "execution_count": 150,
   "metadata": {},
   "outputs": [
    {
     "data": {
      "text/plain": [
       "(100, 200, 1, 1)"
      ]
     },
     "execution_count": 150,
     "metadata": {},
     "output_type": "execute_result"
    }
   ],
   "source": [
    "cover.shape"
   ]
  },
  {
   "cell_type": "code",
   "execution_count": 151,
   "metadata": {},
   "outputs": [
    {
     "data": {
      "text/plain": [
       "2.0"
      ]
     },
     "execution_count": 151,
     "metadata": {},
     "output_type": "execute_result"
    }
   ],
   "source": [
    "cover[:].max()"
   ]
  },
  {
   "cell_type": "code",
   "execution_count": null,
   "metadata": {},
   "outputs": [],
   "source": []
  },
  {
   "cell_type": "code",
   "execution_count": 158,
   "metadata": {},
   "outputs": [],
   "source": [
    "sdata = eu.dl.read_bigwig(\n",
    "    ref_file=ref_file,\n",
    "    bigwig_file=bw_file,\n",
    "    roi_file=roi_file,\n",
    "    binsize=200,\n",
    "    resolution=50\n",
    ")"
   ]
  },
  {
   "cell_type": "code",
   "execution_count": 162,
   "metadata": {},
   "outputs": [
    {
     "data": {
      "text/plain": [
       "target_0    2.0\n",
       "target_1    2.0\n",
       "target_2    1.0\n",
       "target_3    2.0\n",
       "dtype: float64"
      ]
     },
     "execution_count": 162,
     "metadata": {},
     "output_type": "execute_result"
    }
   ],
   "source": [
    "sdata.seqs_annot.max(axis=0)"
   ]
  },
  {
   "cell_type": "code",
   "execution_count": 163,
   "metadata": {},
   "outputs": [
    {
     "data": {
      "text/plain": [
       "Cover('cov')"
      ]
     },
     "execution_count": 163,
     "metadata": {},
     "output_type": "execute_result"
    }
   ],
   "source": [
    "cover"
   ]
  },
  {
   "cell_type": "code",
   "execution_count": 165,
   "metadata": {},
   "outputs": [],
   "source": [
    "from eugene.external.janggu.data import LineTrack\n",
    "from eugene.external.janggu.data import plotGenomeTrack"
   ]
  },
  {
   "cell_type": "code",
   "execution_count": 166,
   "metadata": {},
   "outputs": [
    {
     "data": {
      "text/plain": [
       "eugene.external.janggu.data.visualization.LineTrack"
      ]
     },
     "execution_count": 166,
     "metadata": {},
     "output_type": "execute_result"
    }
   ],
   "source": [
    "LineTrack"
   ]
  },
  {
   "cell_type": "code",
   "execution_count": 170,
   "metadata": {},
   "outputs": [
    {
     "data": {
      "text/html": [
       "<div>\n",
       "<style scoped>\n",
       "    .dataframe tbody tr th:only-of-type {\n",
       "        vertical-align: middle;\n",
       "    }\n",
       "\n",
       "    .dataframe tbody tr th {\n",
       "        vertical-align: top;\n",
       "    }\n",
       "\n",
       "    .dataframe thead th {\n",
       "        text-align: right;\n",
       "    }\n",
       "</style>\n",
       "<table border=\"1\" class=\"dataframe\">\n",
       "  <thead>\n",
       "    <tr style=\"text-align: right;\">\n",
       "      <th></th>\n",
       "      <th>target_0</th>\n",
       "      <th>target_1</th>\n",
       "      <th>target_2</th>\n",
       "      <th>target_3</th>\n",
       "    </tr>\n",
       "  </thead>\n",
       "  <tbody>\n",
       "    <tr>\n",
       "      <th>chr1:15000-15200</th>\n",
       "      <td>0.0</td>\n",
       "      <td>0.0</td>\n",
       "      <td>0.0</td>\n",
       "      <td>0.0</td>\n",
       "    </tr>\n",
       "    <tr>\n",
       "      <th>chr1:15200-15400</th>\n",
       "      <td>0.0</td>\n",
       "      <td>0.0</td>\n",
       "      <td>0.0</td>\n",
       "      <td>0.0</td>\n",
       "    </tr>\n",
       "    <tr>\n",
       "      <th>chr1:15400-15600</th>\n",
       "      <td>0.0</td>\n",
       "      <td>0.0</td>\n",
       "      <td>0.0</td>\n",
       "      <td>0.0</td>\n",
       "    </tr>\n",
       "    <tr>\n",
       "      <th>chr1:15600-15800</th>\n",
       "      <td>0.0</td>\n",
       "      <td>0.0</td>\n",
       "      <td>0.0</td>\n",
       "      <td>0.0</td>\n",
       "    </tr>\n",
       "    <tr>\n",
       "      <th>chr1:15800-16000</th>\n",
       "      <td>0.0</td>\n",
       "      <td>0.0</td>\n",
       "      <td>1.0</td>\n",
       "      <td>1.0</td>\n",
       "    </tr>\n",
       "    <tr>\n",
       "      <th>...</th>\n",
       "      <td>...</td>\n",
       "      <td>...</td>\n",
       "      <td>...</td>\n",
       "      <td>...</td>\n",
       "    </tr>\n",
       "    <tr>\n",
       "      <th>chr2:24000-24200</th>\n",
       "      <td>0.0</td>\n",
       "      <td>0.0</td>\n",
       "      <td>0.0</td>\n",
       "      <td>0.0</td>\n",
       "    </tr>\n",
       "    <tr>\n",
       "      <th>chr2:24200-24400</th>\n",
       "      <td>1.0</td>\n",
       "      <td>0.0</td>\n",
       "      <td>0.0</td>\n",
       "      <td>0.0</td>\n",
       "    </tr>\n",
       "    <tr>\n",
       "      <th>chr2:24400-24600</th>\n",
       "      <td>0.0</td>\n",
       "      <td>0.0</td>\n",
       "      <td>0.0</td>\n",
       "      <td>1.0</td>\n",
       "    </tr>\n",
       "    <tr>\n",
       "      <th>chr2:24600-24800</th>\n",
       "      <td>0.0</td>\n",
       "      <td>0.0</td>\n",
       "      <td>0.0</td>\n",
       "      <td>0.0</td>\n",
       "    </tr>\n",
       "    <tr>\n",
       "      <th>chr2:24800-25000</th>\n",
       "      <td>0.0</td>\n",
       "      <td>0.0</td>\n",
       "      <td>0.0</td>\n",
       "      <td>0.0</td>\n",
       "    </tr>\n",
       "  </tbody>\n",
       "</table>\n",
       "<p>100 rows × 4 columns</p>\n",
       "</div>"
      ],
      "text/plain": [
       "                  target_0  target_1  target_2  target_3\n",
       "chr1:15000-15200       0.0       0.0       0.0       0.0\n",
       "chr1:15200-15400       0.0       0.0       0.0       0.0\n",
       "chr1:15400-15600       0.0       0.0       0.0       0.0\n",
       "chr1:15600-15800       0.0       0.0       0.0       0.0\n",
       "chr1:15800-16000       0.0       0.0       1.0       1.0\n",
       "...                    ...       ...       ...       ...\n",
       "chr2:24000-24200       0.0       0.0       0.0       0.0\n",
       "chr2:24200-24400       1.0       0.0       0.0       0.0\n",
       "chr2:24400-24600       0.0       0.0       0.0       1.0\n",
       "chr2:24600-24800       0.0       0.0       0.0       0.0\n",
       "chr2:24800-25000       0.0       0.0       0.0       0.0\n",
       "\n",
       "[100 rows x 4 columns]"
      ]
     },
     "execution_count": 170,
     "metadata": {},
     "output_type": "execute_result"
    }
   ],
   "source": [
    "sdata.seqs_annot"
   ]
  },
  {
   "cell_type": "code",
   "execution_count": 174,
   "metadata": {},
   "outputs": [
    {
     "data": {
      "image/png": "[encoded data removed]",
      "text/plain": [
       "<Figure size 1000x500 with 5 Axes>"
      ]
     },
     "metadata": {},
     "output_type": "display_data"
    }
   ],
   "source": [
    "fig = plotGenomeTrack([LineTrack(cover), LineTrack(cover)], 'chr1', 16000, 18000)"
   ]
  },
  {
   "cell_type": "code",
   "execution_count": null,
   "metadata": {},
   "outputs": [],
   "source": []
  }
 ],
 "metadata": {
  "kernelspec": {
   "display_name": "eugene",
   "language": "python",
   "name": "python3"
  },
  "language_info": {
   "codemirror_mode": {
    "name": "ipython",
    "version": 3
   },
   "file_extension": ".py",
   "mimetype": "text/x-python",
   "name": "python",
   "nbconvert_exporter": "python",
   "pygments_lexer": "ipython3",
   "version": "3.7.12"
  },
  "orig_nbformat": 4,
  "vscode": {
   "interpreter": {
    "hash": "7782186cff5d7e5d5e3fe0a7e6ebf1d74655b3470c460e9b06cf809b4e9601e8"
   }
  }
 },
 "nbformat": 4,
 "nbformat_minor": 2
}

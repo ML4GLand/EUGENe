{
 "cells": [
  {
   "cell_type": "code",
   "execution_count": 1,
   "id": "4ebc51bc-7791-4965-8d6a-fced6b17241d",
   "metadata": {
    "execution": {
     "iopub.execute_input": "2023-01-06T01:15:19.583354Z",
     "iopub.status.busy": "2023-01-06T01:15:19.582921Z",
     "iopub.status.idle": "2023-01-06T01:15:54.900867Z",
     "shell.execute_reply": "2023-01-06T01:15:54.900293Z",
     "shell.execute_reply.started": "2023-01-06T01:15:19.583286Z"
    },
    "tags": []
   },
   "outputs": [
    {
     "name": "stderr",
     "output_type": "stream",
     "text": [
      "Global seed set to 13\n"
     ]
    },
    {
     "name": "stdout",
     "output_type": "stream",
     "text": [
      "GPU is available: True\n",
      "Number of GPUs: 1\n",
      "Current GPU: 0\n",
      "GPUs: Quadro RTX 5000\n"
     ]
    }
   ],
   "source": [
    "import eugene as eu"
   ]
  },
  {
   "cell_type": "code",
   "execution_count": 18,
   "id": "5d4c81d8-983f-4aa3-beb0-1a65d7578cbe",
   "metadata": {
    "execution": {
     "iopub.execute_input": "2023-01-06T01:16:11.264603Z",
     "iopub.status.busy": "2023-01-06T01:16:11.264361Z",
     "iopub.status.idle": "2023-01-06T01:16:11.267594Z",
     "shell.execute_reply": "2023-01-06T01:16:11.267019Z",
     "shell.execute_reply.started": "2023-01-06T01:16:11.264585Z"
    },
    "tags": []
   },
   "outputs": [],
   "source": [
    "import numpy as np\n",
    "import pandas as pd"
   ]
  },
  {
   "cell_type": "code",
   "execution_count": 19,
   "id": "1171bc14-9d9b-4131-a8ad-52b52469e3dd",
   "metadata": {
    "execution": {
     "iopub.execute_input": "2023-01-06T01:16:11.719785Z",
     "iopub.status.busy": "2023-01-06T01:16:11.719607Z",
     "iopub.status.idle": "2023-01-06T01:16:11.928199Z",
     "shell.execute_reply": "2023-01-06T01:16:11.927555Z",
     "shell.execute_reply.started": "2023-01-06T01:16:11.719768Z"
    },
    "tags": []
   },
   "outputs": [],
   "source": [
    "seqs = np.load(\"../datasets/_data/seqs.npy\", allow_pickle=True)"
   ]
  },
  {
   "cell_type": "code",
   "execution_count": 20,
   "id": "fcce4ea2-e020-4da7-97f0-ff1289031081",
   "metadata": {
    "execution": {
     "iopub.execute_input": "2023-01-06T01:16:11.929441Z",
     "iopub.status.busy": "2023-01-06T01:16:11.929188Z",
     "iopub.status.idle": "2023-01-06T01:16:11.960595Z",
     "shell.execute_reply": "2023-01-06T01:16:11.959905Z",
     "shell.execute_reply.started": "2023-01-06T01:16:11.929423Z"
    },
    "tags": []
   },
   "outputs": [],
   "source": [
    "names = np.load(\"../datasets/_data/regions.npy\", allow_pickle=True)"
   ]
  },
  {
   "cell_type": "code",
   "execution_count": 21,
   "id": "124bee08-05c1-4a8a-ac76-5072c74bea50",
   "metadata": {
    "execution": {
     "iopub.execute_input": "2023-01-06T01:16:12.055556Z",
     "iopub.status.busy": "2023-01-06T01:16:12.055386Z",
     "iopub.status.idle": "2023-01-06T01:16:12.085537Z",
     "shell.execute_reply": "2023-01-06T01:16:12.085037Z",
     "shell.execute_reply.started": "2023-01-06T01:16:12.055539Z"
    },
    "tags": []
   },
   "outputs": [],
   "source": [
    "targets = np.load(\"../datasets/_data/topic_labels.npy\")"
   ]
  },
  {
   "cell_type": "code",
   "execution_count": 22,
   "id": "dcae7bf2-fa5a-4b24-a177-6ce7de9e0d15",
   "metadata": {
    "execution": {
     "iopub.execute_input": "2023-01-06T01:16:12.245579Z",
     "iopub.status.busy": "2023-01-06T01:16:12.245213Z",
     "iopub.status.idle": "2023-01-06T01:16:12.248325Z",
     "shell.execute_reply": "2023-01-06T01:16:12.247871Z",
     "shell.execute_reply.started": "2023-01-06T01:16:12.245547Z"
    },
    "tags": []
   },
   "outputs": [],
   "source": [
    "topic_names = [f\"Topic{i+1}\" for i in range(targets.shape[1])]"
   ]
  },
  {
   "cell_type": "code",
   "execution_count": 23,
   "id": "d694baa7-abb1-49a1-be82-9ce948f76abf",
   "metadata": {
    "execution": {
     "iopub.execute_input": "2023-01-06T01:16:12.471479Z",
     "iopub.status.busy": "2023-01-06T01:16:12.471125Z",
     "iopub.status.idle": "2023-01-06T01:16:12.475860Z",
     "shell.execute_reply": "2023-01-06T01:16:12.475370Z",
     "shell.execute_reply.started": "2023-01-06T01:16:12.471449Z"
    },
    "tags": []
   },
   "outputs": [],
   "source": [
    "topic_df = pd.DataFrame(data=targets, index=names, columns=topic_names)"
   ]
  },
  {
   "cell_type": "code",
   "execution_count": 24,
   "id": "5ee144bb-e7c0-474d-9b22-3b38c9dcfc5f",
   "metadata": {
    "execution": {
     "iopub.execute_input": "2023-01-06T01:16:12.987696Z",
     "iopub.status.busy": "2023-01-06T01:16:12.987523Z",
     "iopub.status.idle": "2023-01-06T01:16:13.067195Z",
     "shell.execute_reply": "2023-01-06T01:16:13.066684Z",
     "shell.execute_reply.started": "2023-01-06T01:16:12.987679Z"
    },
    "tags": []
   },
   "outputs": [],
   "source": [
    "sdata = eu.dl.SeqData(\n",
    "    seqs=seqs,\n",
    "    names=names,\n",
    "    seqs_annot=topic_df\n",
    ")"
   ]
  },
  {
   "cell_type": "code",
   "execution_count": 25,
   "id": "ce06c158-e7a5-44fe-bf63-a72f9de63a52",
   "metadata": {
    "execution": {
     "iopub.execute_input": "2023-01-06T01:16:13.272304Z",
     "iopub.status.busy": "2023-01-06T01:16:13.272093Z",
     "iopub.status.idle": "2023-01-06T01:16:13.582414Z",
     "shell.execute_reply": "2023-01-06T01:16:13.581910Z",
     "shell.execute_reply.started": "2023-01-06T01:16:13.272287Z"
    },
    "tags": []
   },
   "outputs": [
    {
     "name": "stdout",
     "output_type": "stream",
     "text": [
      "SeqData object modified:\n",
      "\tseqs: ['CTGTCTAGCAGATCCACCCTGTCTATACTACCTGCCCATCCAGCAGGTCCACCCTGTCTACACTACCTCCCTGCCGAGTAGATCCACCCTGTCTACACTACCTGCCTGGCCAGAAGATCCACCCTGTCTACACTACCTTCCTTGCCAGTAATGCACGCTATCTACACTACCTGCCTGGCTAGCAGATCCACGCTGTCTATACTACCTCCCTGTCCAGTAGACCCACCCTGTCTATACTACCTCCCTGGCCAGCAGATCCACCCTGTCTATACTACCTGCCTGGCCAGCAGATCCACCCTGTCTATACTACCTGACTGGCCAGCAGATCCACCCTGTCTACACTACCTGCCTGCCCAGAAGATGCGCCATGTCTACACTACCTGCTTGTCCAGCAGATCCACCCTGTCTACACTAGCTGCCTGTCCAGCATGTCCACCCTATCTACACTACCTGCCTGTCCAGCAGATCCACCCTGTCTATACTACCTGCCTATCCAGCAG'\n",
      " 'aagtcactcacagtgtggaggttccatgtctggaggggcaagctaggaagacaagaggctaccatgcccacccagctactggctcatgcagcaagggtgtcgctctggtggaactggatcacggtccccaggagcagaggagacctaagagcagagcatgtccctgaggtgacagactttacttggagaacagcatgcggaagttcaagcccaaggaagttggcaaaaatagtggagattttgttgatgaacaattaagagtgggtgaaatggtagactagatagaacttaaacagagggaacaaggaagagagattgttgagaagagctccggggtctgagcagacttgaaaagctggcaacactctgcccctgcaaaagagcctgatgttcactggatgagtctatggagcaatttgtgccccaggcatcataaaaaatgatagagcacttgcatttagtggatgttaacagctgtgtgtgacaccaaagagagacag'\n",
      " 'TGTTTCAGTCATATCAAGTAAAACCACTTCCCCCAGGTAATATAGTTTTCCTTTTTACTTTTTCCCTTGGCCTCAGCATTTACAGCCCCGTGCAGACTGTTTTAACAAACGCGTTGGTGAGGTGTGGTAGAATCACAGGCAAAGGCGTGCTTTGCTGTGCTGTGTAGGTACATATCAAACGCTCACCAAGAAATTATAAAATATTATTCATAGCAGTTTTTTTCTTCAGTATTTTATGGGCTAAGTGCAATCTGGCTTTTGATAACAACGGCTGAATAATATTTGAGTTTGCCAGCTGAAATGTCCTAAATATCTTATTGATTCATTTATTGCCTCTTCAAATAACAAGGCAACAAGACAGTGTCAGAATGCTCAGTGTTTTTACTTTTTTGTCTATCATGGGATGGTGTCAGTTTCAGTAAAAACGATGTCTCTTATTTTGGTCCACATTGTAGGAATCTCACCAGTGACACGCGTTTGTGAAAAGCTGTGAATATTCA'\n",
      " ...\n",
      " 'CCCCCCACTCCGCTCTACGCGCTGAAACCCTGCCCAAAATAAACACGAAAACCAACACTGCAAAACCCACACCAGATAACAGGTCGAGAGAGGAGTGGGCAGGGTCAAGGAACGAGCGTATTCCCTAAGTGTCCACGTACAGGAATCTTTGAGGCTGACAATTAAAATGCCTTCCACGCAAGCAATTCTGTTGGCAAAACCGAACCCAACACTTCGTAAGGATTGATTTCGGCCCGCGGTGTCCGTTTCCAGTGCCACAGGAAGTGTCAGATGGCCAGAAATACCCAAGTCTGTCTGCACTCACCACCCACCACCTTCTGGGGTGGGCCATTTCCTCCTAGTCTTTACTCCCAGGCCATTTTAAGGATCTTTCTCCAAAAGACTACCCCTAGAACCAAATACCACACTACCCCTCCTCTAGCGTCTTCTCAAAACGAAAAAAGGGGGGGAAAACACAGCTAAAACCCCGAGCTGTCTAGTCTAGACGCAGCGAGGCTGTG'\n",
      " 'CCTGCAAGTTTCTAATGACTTTCAAAGCTGGCTGCTGAGGGGCCTTTGGGGTGACACTTCTGCTGTTTGCCAGTGGTTTGCTATGTCCCCCTTTTTACATAAGCCCCTACTGCTGCCGATCCAGATCTGGGGGAAGGGTAGACCTGCAATGCATCCCATACTGTTTGTCTGCTGTACAAATCTTAACCAAGAGAATAAAATTGGCTATTTTAGAGTCTCCTCCCCTCCATATGACCCAGCACATTGAATTGCAGCTGTCCTGCAGCCGGCCAGTTAGCACACAGGACATTGGCCTTGGGGAAAGGTACAGAACTGCCGCATCCTCTCTGAATTTGATGACTGCACTGGGGGCAGGGAAGGTGTCCTTAAGCTCCAGGGCACAATTAAGTGGCTCCCAACCGCTGAAGCCCTAACCCTCTGCAGCCATTGTGGCTGCTCCTTGGAGTATGACCTCTACCTGGTAAGGAGAGGGACAGGGGTGGGGTGCTTCGCTTCCTGTT'\n",
      " 'CCAACGGGCCTCTGAAGGCCAGAGGGCCCTCTCTAAACAGCTGTGGGGGGAGAGCCCGGGCCTCCTCCTCCTCGGGGACGGGGCGCAGGGCCAGGAGCctgcccagtgcccgaccccccaggcccactcccaccgcGAGCACAGCCGCGGAGGCGCGGCCTGCGGAGGATGTGAGTTCAGCCTGGGCGCCGGCCAGCCGGGGCGCAGCGGGCGGGGGCGCGTAGCGGTTCGCACGCccggccggccagccagccagcccgcGCGCCTTTGTTCTGCAGGCCCGCGTGGAGCAGAGCAGCCGGAGGCCTCGGGAGTTGCGCTGCGGCCCGGAAGGGGGTGGTTTGGAGGGGTCCGCCCGGGGAGATGGAAGGACGCACGGAGTCCCCGCCCCCGCCCGCCCGGCGCTTCGGGGCGTCCCTCACCGATGGACACCAGTTTGATGCTCTCGCGGTCCAGGAACTCGAGCGCCACCGACACGTTCTCAAGCTGCATTTGGCGGA'] -> 194165 seqs added\n"
     ]
    }
   ],
   "source": [
    "eu.pp.sanitize_seqs_sdata(sdata)"
   ]
  },
  {
   "cell_type": "code",
   "execution_count": 26,
   "id": "3730025c-c288-4fea-af29-5fb3237e31c1",
   "metadata": {
    "execution": {
     "iopub.execute_input": "2023-01-06T01:16:14.222017Z",
     "iopub.status.busy": "2023-01-06T01:16:14.221621Z",
     "iopub.status.idle": "2023-01-06T01:16:15.289949Z",
     "shell.execute_reply": "2023-01-06T01:16:15.289439Z",
     "shell.execute_reply.started": "2023-01-06T01:16:14.221997Z"
    },
    "tags": []
   },
   "outputs": [
    {
     "name": "stdout",
     "output_type": "stream",
     "text": [
      "SeqData object modified:\n",
      "    seqs_annot:\n",
      "        + start, chr, end\n"
     ]
    }
   ],
   "source": [
    "eu.pp.add_ranges_sdata(sdata)"
   ]
  },
  {
   "cell_type": "code",
   "execution_count": 27,
   "id": "2e2c2729-c480-47c1-bd49-88a950714ea1",
   "metadata": {
    "execution": {
     "iopub.execute_input": "2023-01-06T01:16:15.291096Z",
     "iopub.status.busy": "2023-01-06T01:16:15.290911Z",
     "iopub.status.idle": "2023-01-06T01:16:15.369820Z",
     "shell.execute_reply": "2023-01-06T01:16:15.369370Z",
     "shell.execute_reply.started": "2023-01-06T01:16:15.291079Z"
    },
    "tags": []
   },
   "outputs": [
    {
     "name": "stdout",
     "output_type": "stream",
     "text": [
      "SeqData object modified:\n",
      "    seqs_annot:\n",
      "        + train_val\n"
     ]
    }
   ],
   "source": [
    "eu.pp.train_test_split_sdata(sdata, chr=\"chr2\")"
   ]
  },
  {
   "cell_type": "code",
   "execution_count": 28,
   "id": "e71af5d5-7f16-426d-8974-ed91f9c222ef",
   "metadata": {
    "execution": {
     "iopub.execute_input": "2023-01-06T01:16:15.370695Z",
     "iopub.status.busy": "2023-01-06T01:16:15.370511Z",
     "iopub.status.idle": "2023-01-06T01:16:15.377653Z",
     "shell.execute_reply": "2023-01-06T01:16:15.377271Z",
     "shell.execute_reply.started": "2023-01-06T01:16:15.370678Z"
    },
    "tags": []
   },
   "outputs": [],
   "source": [
    "from eugene.models.base import SequenceModel"
   ]
  },
  {
   "cell_type": "code",
   "execution_count": 29,
   "id": "04e89855-7c87-4037-95da-3dc8f50e5a84",
   "metadata": {
    "execution": {
     "iopub.execute_input": "2023-01-06T01:16:15.457532Z",
     "iopub.status.busy": "2023-01-06T01:16:15.457347Z",
     "iopub.status.idle": "2023-01-06T01:16:15.460078Z",
     "shell.execute_reply": "2023-01-06T01:16:15.459696Z",
     "shell.execute_reply.started": "2023-01-06T01:16:15.457516Z"
    },
    "tags": []
   },
   "outputs": [],
   "source": [
    "from eugene.models.base import _layers as layers\n",
    "from eugene.models.base import _blocks as blocks\n",
    "from eugene.models.base import _towers as towers"
   ]
  },
  {
   "cell_type": "code",
   "execution_count": 30,
   "id": "e45948ef-2c0a-4c0e-bc0e-43caf68b5bba",
   "metadata": {
    "execution": {
     "iopub.execute_input": "2023-01-06T01:16:15.978290Z",
     "iopub.status.busy": "2023-01-06T01:16:15.978120Z",
     "iopub.status.idle": "2023-01-06T01:16:15.986944Z",
     "shell.execute_reply": "2023-01-06T01:16:15.986516Z",
     "shell.execute_reply.started": "2023-01-06T01:16:15.978271Z"
    },
    "tags": []
   },
   "outputs": [],
   "source": [
    "class DeepMEL(SequenceModel):\n",
    "    \"\"\"DeepMEL\n",
    "    \n",
    "    Parameters\n",
    "    ----------\n",
    "    input_len:\n",
    "        The length of the input sequence.\n",
    "    output_dim:\n",
    "        The dimension of the output.\n",
    "    strand:\n",
    "        The strand of the model.\n",
    "    task:\n",
    "        The task of the model.\n",
    "    aggr:\n",
    "        The aggregation function.\n",
    "    dense_kwargs:\n",
    "        The keyword arguments for the fully connected layer.\n",
    "    \"\"\"\n",
    "    def __init__(\n",
    "        self,\n",
    "        input_len: int,\n",
    "        output_dim: int,\n",
    "        strand: str = \"ss\",\n",
    "        task: str = \"multilabel_classification\",\n",
    "        loss_fxn: str = \"bce\",\n",
    "        aggr: str = None,\n",
    "        conv_kwargs: dict = {},\n",
    "        recurrent_kwargs: dict = {},\n",
    "        dense_kwargs: dict = {},\n",
    "        **kwargs\n",
    "    ):\n",
    "        super().__init__(\n",
    "            input_len, \n",
    "            output_dim, \n",
    "            strand=strand, \n",
    "            task=task, \n",
    "            aggr=aggr, \n",
    "            loss_fxn=loss_fxn, \n",
    "            **kwargs\n",
    "        ) \n",
    "        self.conv_kwargs, self.recurrent_kwargs, self.dense_kwargs = self.kwarg_handler(\n",
    "            conv_kwargs, recurrent_kwargs, dense_kwargs\n",
    "        )\n",
    "        self.conv1d_tower = towers.Conv1DTower(**self.conv_kwargs)\n",
    "        self.recurrent_block = blocks.RecurrentBlock(\n",
    "            input_dim=self.conv1d_tower.out_channels, \n",
    "            **self.recurrent_kwargs\n",
    "        )\n",
    "        self.dense_block = blocks.DenseBlock(\n",
    "            input_dim=self.recurrent_block.out_channels,\n",
    "            output_dim=output_dim, \n",
    "            **self.dense_kwargs\n",
    "        )\n",
    "\n",
    "    def forward(self, x, x_rev_comp=None):\n",
    "        x = self.conv1d_tower(x)\n",
    "        x = x.transpose(1, 2)\n",
    "        out, _ = self.recurrent_block(x)\n",
    "        out = self.dense_block(out[:, -1, :])\n",
    "        return out\n",
    "\n",
    "    def kwarg_handler(self, conv_kwargs, recurrent_kwargs, dense_kwargs):\n",
    "        \"\"\"Sets default kwargs for conv and fc modules if not specified\"\"\"\n",
    "        conv_kwargs.setdefault(\"input_len\", self.input_len)\n",
    "        conv_kwargs.setdefault(\"input_channels\", 4)\n",
    "        conv_kwargs.setdefault(\"conv_channels\", [128])\n",
    "        conv_kwargs.setdefault(\"conv_kernels\", [20])\n",
    "        conv_kwargs.setdefault(\"conv_strides\", [1])\n",
    "        conv_kwargs.setdefault(\"conv_padding\", \"valid\")\n",
    "        conv_kwargs.setdefault(\"pool_kernels\", [20])\n",
    "        conv_kwargs.setdefault(\"dropout_rates\", 0.2)\n",
    "        conv_kwargs.setdefault(\"activations\", \"relu\")\n",
    "        conv_kwargs.setdefault(\"batchnorm\", False)\n",
    "        recurrent_kwargs.setdefault(\"unit_type\", \"lstm\")\n",
    "        recurrent_kwargs.setdefault(\"hidden_dim\", 128)\n",
    "        #recurrent_kwargs.setdefault(\"dropout_rates\", 0.2)\n",
    "        recurrent_kwargs.setdefault(\"bidirectional\", True)\n",
    "        recurrent_kwargs.setdefault(\"batch_first\", True)\n",
    "        dense_kwargs.setdefault(\"hidden_dims\", [256])\n",
    "        dense_kwargs.setdefault(\"dropout_rates\", 0.4)\n",
    "        dense_kwargs.setdefault(\"batchnorm\", False)\n",
    "        return conv_kwargs, recurrent_kwargs, dense_kwargs"
   ]
  },
  {
   "cell_type": "code",
   "execution_count": 36,
   "id": "51ff5bc3-a1af-44b4-ac3b-94ec212f15a3",
   "metadata": {
    "execution": {
     "iopub.execute_input": "2023-01-06T01:18:42.480948Z",
     "iopub.status.busy": "2023-01-06T01:18:42.480700Z",
     "iopub.status.idle": "2023-01-06T01:18:42.489097Z",
     "shell.execute_reply": "2023-01-06T01:18:42.488486Z",
     "shell.execute_reply.started": "2023-01-06T01:18:42.480928Z"
    },
    "tags": []
   },
   "outputs": [
    {
     "name": "stderr",
     "output_type": "stream",
     "text": [
      "/cellar/users/aklie/opt/miniconda3/envs/eugene_dev/lib/python3.7/site-packages/torchmetrics/utilities/prints.py:36: UserWarning: Metric `AUROC` will save all targets and predictions in buffer. For large datasets this may lead to large memory footprint.\n",
      "  warnings.warn(*args, **kwargs)\n"
     ]
    }
   ],
   "source": [
    "model = DeepMEL(input_len=500, output_dim=16, metric_kwargs={\"num_classes\": 16})"
   ]
  },
  {
   "cell_type": "code",
   "execution_count": 37,
   "id": "b44ce5a6-95b0-4c6c-99c0-4464edb3369d",
   "metadata": {
    "execution": {
     "iopub.execute_input": "2023-01-06T01:18:43.879356Z",
     "iopub.status.busy": "2023-01-06T01:18:43.879140Z",
     "iopub.status.idle": "2023-01-06T01:18:43.882994Z",
     "shell.execute_reply": "2023-01-06T01:18:43.882502Z",
     "shell.execute_reply.started": "2023-01-06T01:18:43.879337Z"
    },
    "tags": []
   },
   "outputs": [
    {
     "data": {
      "text/plain": [
       "'auroc'"
      ]
     },
     "execution_count": 37,
     "metadata": {},
     "output_type": "execute_result"
    }
   ],
   "source": [
    "model.metric_name"
   ]
  },
  {
   "cell_type": "code",
   "execution_count": 39,
   "id": "e4e44af8-42a4-4807-a7bd-48cf6d7c0748",
   "metadata": {
    "execution": {
     "iopub.execute_input": "2023-01-06T01:18:50.922709Z",
     "iopub.status.busy": "2023-01-06T01:18:50.922464Z",
     "iopub.status.idle": "2023-01-06T01:18:50.926171Z",
     "shell.execute_reply": "2023-01-06T01:18:50.925666Z",
     "shell.execute_reply.started": "2023-01-06T01:18:50.922690Z"
    },
    "tags": []
   },
   "outputs": [
    {
     "data": {
      "text/plain": [
       "16"
      ]
     },
     "execution_count": 39,
     "metadata": {},
     "output_type": "execute_result"
    }
   ],
   "source": [
    "model.train_metric.num_classes"
   ]
  },
  {
   "cell_type": "code",
   "execution_count": 33,
   "id": "347cf19e-697e-461e-bcda-f551fb867b2a",
   "metadata": {
    "execution": {
     "iopub.execute_input": "2023-01-06T01:16:29.274833Z",
     "iopub.status.busy": "2023-01-06T01:16:29.274572Z",
     "iopub.status.idle": "2023-01-06T01:16:29.311570Z",
     "shell.execute_reply": "2023-01-06T01:16:29.311087Z",
     "shell.execute_reply.started": "2023-01-06T01:16:29.274817Z"
    },
    "tags": []
   },
   "outputs": [],
   "source": [
    "sdata_sub = eu.dl.concat([sdata[sdata[\"chr\"] == \"chr2\"][:100], sdata[:900]], [\"train\", \"val\"])"
   ]
  },
  {
   "cell_type": "code",
   "execution_count": 34,
   "id": "b461aa68-e3bd-4df7-aa85-a15c3e3d0151",
   "metadata": {
    "execution": {
     "iopub.execute_input": "2023-01-06T01:16:33.988871Z",
     "iopub.status.busy": "2023-01-06T01:16:33.988673Z",
     "iopub.status.idle": "2023-01-06T01:16:57.447112Z",
     "shell.execute_reply": "2023-01-06T01:16:57.446651Z",
     "shell.execute_reply.started": "2023-01-06T01:16:33.988854Z"
    },
    "tags": []
   },
   "outputs": [
    {
     "data": {
      "application/vnd.jupyter.widget-view+json": {
       "model_id": "5c8f54cd87c8414292061140f47e35c9",
       "version_major": 2,
       "version_minor": 0
      },
      "text/plain": [
       "One-hot encoding sequences:   0%|          | 0/194165 [00:00<?, ?it/s]"
      ]
     },
     "metadata": {},
     "output_type": "display_data"
    },
    {
     "name": "stdout",
     "output_type": "stream",
     "text": [
      "SeqData object modified:\n",
      "\tohe_seqs: None -> 194165 ohe_seqs added\n"
     ]
    }
   ],
   "source": [
    "eu.pp.ohe_seqs_sdata(sdata)"
   ]
  },
  {
   "cell_type": "code",
   "execution_count": 97,
   "id": "89f2b35d-2bbf-4786-9a54-811b6193410a",
   "metadata": {
    "execution": {
     "iopub.execute_input": "2023-01-06T01:09:58.508775Z",
     "iopub.status.busy": "2023-01-06T01:09:58.508280Z",
     "iopub.status.idle": "2023-01-06T01:09:58.523847Z",
     "shell.execute_reply": "2023-01-06T01:09:58.522681Z",
     "shell.execute_reply.started": "2023-01-06T01:09:58.508742Z"
    },
    "tags": []
   },
   "outputs": [],
   "source": [
    "sdata_sub.seqs_annot[topic_names] = sdata_sub.seqs_annot[topic_names].astype(np.int64)"
   ]
  },
  {
   "cell_type": "code",
   "execution_count": null,
   "id": "1e19f3c5-820a-4300-af98-067640f571aa",
   "metadata": {
    "execution": {
     "iopub.execute_input": "2023-01-06T01:18:54.088359Z",
     "iopub.status.busy": "2023-01-06T01:18:54.088085Z"
    },
    "tags": []
   },
   "outputs": [
    {
     "name": "stderr",
     "output_type": "stream",
     "text": [
      "Global seed set to 13\n"
     ]
    },
    {
     "name": "stdout",
     "output_type": "stream",
     "text": [
      "Dropping 0 sequences with NaN targets.\n",
      "No transforms given, assuming just need to tensorize.\n",
      "No transforms given, assuming just need to tensorize.\n"
     ]
    },
    {
     "name": "stderr",
     "output_type": "stream",
     "text": [
      "GPU available: True, used: True\n",
      "TPU available: False, using: 0 TPU cores\n",
      "IPU available: False, using: 0 IPUs\n",
      "LOCAL_RANK: 0 - CUDA_VISIBLE_DEVICES: [0]\n",
      "Set SLURM handle signals.\n",
      "\n",
      "  | Name            | Type           | Params\n",
      "---------------------------------------------------\n",
      "0 | train_metric    | AUROC          | 0     \n",
      "1 | val_metric      | AUROC          | 0     \n",
      "2 | test_metric     | AUROC          | 0     \n",
      "3 | conv1d_tower    | Conv1DTower    | 10.4 K\n",
      "4 | recurrent_block | RecurrentBlock | 264 K \n",
      "5 | dense_block     | DenseBlock     | 69.9 K\n",
      "---------------------------------------------------\n",
      "344 K     Trainable params\n",
      "0         Non-trainable params\n",
      "344 K     Total params\n",
      "1.378     Total estimated model params size (MB)\n"
     ]
    },
    {
     "data": {
      "application/vnd.jupyter.widget-view+json": {
       "model_id": "",
       "version_major": 2,
       "version_minor": 0
      },
      "text/plain": [
       "Validation sanity check: 0it [00:00, ?it/s]"
      ]
     },
     "metadata": {},
     "output_type": "display_data"
    },
    {
     "name": "stderr",
     "output_type": "stream",
     "text": [
      "/cellar/users/aklie/opt/miniconda3/envs/eugene_dev/lib/python3.7/site-packages/torchmetrics/utilities/prints.py:36: UserWarning: No positive samples in targets, true positive value should be meaningless. Returning zero tensor in true positive score\n",
      "  warnings.warn(*args, **kwargs)\n",
      "Global seed set to 13\n"
     ]
    },
    {
     "data": {
      "application/vnd.jupyter.widget-view+json": {
       "model_id": "9be698c18db74e6e8bab6febd54b9f41",
       "version_major": 2,
       "version_minor": 0
      },
      "text/plain": [
       "Training: 0it [00:00, ?it/s]"
      ]
     },
     "metadata": {},
     "output_type": "display_data"
    },
    {
     "data": {
      "application/vnd.jupyter.widget-view+json": {
       "model_id": "",
       "version_major": 2,
       "version_minor": 0
      },
      "text/plain": [
       "Validating: 0it [00:00, ?it/s]"
      ]
     },
     "metadata": {},
     "output_type": "display_data"
    },
    {
     "data": {
      "application/vnd.jupyter.widget-view+json": {
       "model_id": "",
       "version_major": 2,
       "version_minor": 0
      },
      "text/plain": [
       "Validating: 0it [00:00, ?it/s]"
      ]
     },
     "metadata": {},
     "output_type": "display_data"
    },
    {
     "data": {
      "application/vnd.jupyter.widget-view+json": {
       "model_id": "",
       "version_major": 2,
       "version_minor": 0
      },
      "text/plain": [
       "Validating: 0it [00:00, ?it/s]"
      ]
     },
     "metadata": {},
     "output_type": "display_data"
    },
    {
     "data": {
      "application/vnd.jupyter.widget-view+json": {
       "model_id": "",
       "version_major": 2,
       "version_minor": 0
      },
      "text/plain": [
       "Validating: 0it [00:00, ?it/s]"
      ]
     },
     "metadata": {},
     "output_type": "display_data"
    }
   ],
   "source": [
    "eu.train.fit(\n",
    "    model,\n",
    "    sdata,\n",
    "    target_keys=topic_names,\n",
    "    train_key=\"train_val\",\n",
    "    gpus=1,\n",
    "    batch_size=128,\n",
    "    num_workers=4\n",
    ")"
   ]
  },
  {
   "cell_type": "code",
   "execution_count": 43,
   "id": "afe24b35-f7bc-4270-b0d9-63ae57f89d36",
   "metadata": {
    "execution": {
     "iopub.execute_input": "2023-01-06T16:02:16.101503Z",
     "iopub.status.busy": "2023-01-06T16:02:16.101285Z",
     "iopub.status.idle": "2023-01-06T16:02:17.854520Z",
     "shell.execute_reply": "2023-01-06T16:02:17.853937Z",
     "shell.execute_reply.started": "2023-01-06T16:02:16.101485Z"
    },
    "tags": []
   },
   "outputs": [
    {
     "data": {
      "image/png": "[encoded data removed]",
      "text/plain": [
       "<Figure size 864x432 with 2 Axes>"
      ]
     },
     "metadata": {
      "needs_background": "light"
     },
     "output_type": "display_data"
    }
   ],
   "source": [
    "eu.pl.training_summary(\"eugene_logs/ssDeepMEL_multilabel_classification/version_4/\", metric=\"auroc\")"
   ]
  },
  {
   "cell_type": "code",
   "execution_count": null,
   "id": "7b2fec0b-ecf2-4acf-aa3b-77277746927d",
   "metadata": {},
   "outputs": [],
   "source": []
  }
 ],
 "metadata": {
  "kernelspec": {
   "display_name": "Python 3.7 eugene_dev",
   "language": "python",
   "name": "eugene_dev"
  },
  "language_info": {
   "codemirror_mode": {
    "name": "ipython",
    "version": 3
   },
   "file_extension": ".py",
   "mimetype": "text/x-python",
   "name": "python",
   "nbconvert_exporter": "python",
   "pygments_lexer": "ipython3",
   "version": "3.7.12"
  }
 },
 "nbformat": 4,
 "nbformat_minor": 5
}

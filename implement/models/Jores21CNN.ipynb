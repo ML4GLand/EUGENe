{
 "cells": [
  {
   "cell_type": "markdown",
   "metadata": {},
   "source": [
    "# Implementing the `Jores21CNN` class"
   ]
  },
  {
   "cell_type": "markdown",
   "metadata": {
    "tags": []
   },
   "source": [
    "**Authorship:**\n",
    "Adam Klie, *07/31/2022*\n",
    "***\n",
    "**Description:**\n",
    "Notebook for implementing the `Jores21CNN` class."
   ]
  },
  {
   "cell_type": "code",
   "execution_count": 7,
   "metadata": {
    "vscode": {
     "languageId": "python"
    }
   },
   "outputs": [],
   "source": [
    "import numpy as np\n",
    "import pandas as pd\n",
    "import torch\n",
    "import torch.nn as nn\n",
    "import torch.nn.functional as F\n",
    "from eugene.models.base import BaseModel, BasicFullyConnectedModule, BasicConv1D\n",
    "\n",
    "# Autoreload extension\n",
    "if 'autoreload' not in get_ipython().extension_manager.loaded:\n",
    "    %load_ext autoreload\n",
    "%autoreload 2"
   ]
  },
  {
   "cell_type": "markdown",
   "metadata": {},
   "source": [
    "# `Jores21CNN`\n",
    "See *TODO* for more details"
   ]
  },
  {
   "cell_type": "markdown",
   "metadata": {},
   "source": [
    "## `BiConv1D` module\n",
    "This is a `torch.nn.Module` that is used in the `Jores21CNN` class."
   ]
  },
  {
   "cell_type": "code",
   "execution_count": 91,
   "metadata": {
    "vscode": {
     "languageId": "python"
    }
   },
   "outputs": [],
   "source": [
    "class BiConv1D(nn.Module):\n",
    "    def __init__(self, filters, kernel_size, input_size = 4, layers = 2, stride = 1, dropout_rate = 0.15):\n",
    "        super().__init__()\n",
    "        self.input_size = input_size\n",
    "        self.filters = filters\n",
    "        self.kernel_size = kernel_size\n",
    "        if layers < 1:\n",
    "            raise ValueError(\"At least one layer needed\")\n",
    "        self.layers = layers\n",
    "        if (dropout_rate < 0) or (dropout_rate > 1):\n",
    "            raise ValueError(\"Dropout rate must be a float between 0 and 1\")\n",
    "        self.dropout_rate = dropout_rate\n",
    "        self.stride = stride\n",
    "\n",
    "        self.kernels = []\n",
    "        self.biases = []\n",
    "        kernel = torch.zeros(filters, input_size, kernel_size)\n",
    "        nn.init.xavier_uniform_(kernel)\n",
    "        self.kernels.append(kernel)\n",
    "        bias = torch.zeros(filters)\n",
    "        nn.init.zeros_(bias)\n",
    "        self.biases.append(bias)\n",
    "        for layer in range(1, self.layers):\n",
    "            kernel = nn.Parameter(torch.empty((self.filters, self.filters, self.kernel_size)))\n",
    "            nn.init.xavier_uniform_(kernel)\n",
    "            self.kernels.append(kernel)\n",
    "            bias = nn.Parameter(torch.empty((self.filters)))\n",
    "            nn.init.zeros_(bias)\n",
    "            self.biases.append(bias)\n",
    "\n",
    "    def forward(self, x):\n",
    "        x_fwd = F.conv1d(x, self.kernels[0], stride = self.stride, padding = \"same\")\n",
    "        x_fwd = torch.add(x_fwd.transpose(1,2), self.biases[0]).transpose(1,2)\n",
    "        x_fwd = F.dropout(F.relu(x_fwd), p = self.dropout_rate)\n",
    "        x_rev = F.conv1d(x, torch.flip(self.kernels[0], dims=[1, 2]), stride = self.stride, padding = \"same\")\n",
    "        x_rev = torch.add(x_rev.transpose(1,2), self.biases[0]).transpose(1,2)\n",
    "        x_rev = F.dropout(F.relu(x_rev), p = self.dropout_rate)\n",
    "        for layer in range(1, self.layers):\n",
    "            x_fwd = F.conv1d(x_fwd, self.kernels[layer], stride = self.stride, padding = \"same\")\n",
    "            x_fwd = torch.add(x_fwd.transpose(1,2), self.biases[layer]).transpose(1,2)\n",
    "            x_fwd = F.dropout(F.relu(x_fwd), p = self.dropout_rate)\n",
    "            x_rev = F.conv1d(x_rev, torch.flip(self.kernels[layer], dims=[1, 2]), stride = self.stride, padding = \"same\")\n",
    "            x_rev = torch.add(x_rev.transpose(1,2), self.biases[layer]).transpose(1,2)\n",
    "            x_rev = F.dropout(F.relu(x_rev), p = self.dropout_rate)\n",
    "        return torch.add(x_fwd, x_rev)"
   ]
  },
  {
   "cell_type": "code",
   "execution_count": 92,
   "metadata": {
    "vscode": {
     "languageId": "python"
    }
   },
   "outputs": [],
   "source": [
    "test_biconv = BiConv1D(filters=128, kernel_size=13)\n",
    "x = torch.randn(10, 4, 170)\n",
    "test_biconv(x).shape"
   ]
  },
  {
   "cell_type": "markdown",
   "metadata": {},
   "source": [
    "## `Jores21CNN` class definition"
   ]
  },
  {
   "cell_type": "code",
   "execution_count": 94,
   "metadata": {
    "vscode": {
     "languageId": "python"
    }
   },
   "outputs": [],
   "source": [
    "class jores21(BaseModel):\n",
    "    def __init__(self, input_len, output_dim, strand=\"ss\", task=\"regression\", aggr=None):\n",
    "        super().__init__(input_len, output_dim, strand, task, aggr)\n",
    "        self.biconv = BiConv1D(filters=128, kernel_size=13)\n",
    "        self.conv = nn.Conv1d(in_channels=128, out_channels=128, kernel_size=13, stride=1, padding=\"same\")\n",
    "        self.dropout = nn.Dropout(p=0.15)\n",
    "        self.fc = nn.Linear(in_features=128*170, out_features=64)\n",
    "        self.batchnorm = nn.BatchNorm1d(num_features=64)\n",
    "        self.fc2 = nn.Linear(in_features=64, out_features=output_dim)\n",
    "\n",
    "    def forward(self, x):\n",
    "        x = self.biconv(x)\n",
    "        x = self.conv(x)\n",
    "        x = F.relu(x)\n",
    "        x = self.dropout(x)\n",
    "        x = self.fc(x.view(x.shape[0], -1))\n",
    "        x = self.batchnorm(x)\n",
    "        x = F.relu(x)\n",
    "        x = self.fc2(x)\n",
    "        return x"
   ]
  },
  {
   "cell_type": "code",
   "execution_count": 96,
   "metadata": {
    "vscode": {
     "languageId": "python"
    }
   },
   "outputs": [],
   "source": [
    "model = jores21(input_len=4, output_dim=1, strand=\"ss\", task=\"regression\", aggr=None)\n",
    "model.biconv.kernels[0] = torch.randn(128, 4, 13)"
   ]
  },
  {
   "cell_type": "code",
   "execution_count": 100,
   "metadata": {
    "vscode": {
     "languageId": "python"
    }
   },
   "outputs": [
    {
     "data": {
      "text/plain": [
       "tensor([[[ 1.8953, -0.4749,  0.6269,  ..., -1.2313,  0.6483, -1.2316],\n",
       "         [-2.4813, -0.7270,  0.8044,  ...,  1.4520, -0.4763,  0.0513],\n",
       "         [-1.7531,  0.3280, -0.1239,  ..., -0.5653,  0.4183,  0.4763],\n",
       "         [-0.3167, -2.6283,  1.0020,  ...,  0.3277,  0.7104, -1.1900]],\n",
       "\n",
       "        [[ 0.5870, -1.8096,  1.1668,  ...,  0.1083, -0.7349, -0.0243],\n",
       "         [ 0.8162,  0.1150, -0.2222,  ..., -0.1172, -0.0473,  1.6646],\n",
       "         [ 1.0849,  0.7717,  0.7226,  ...,  1.4296, -0.2696, -2.5712],\n",
       "         [ 1.4951,  0.9446, -0.7659,  ...,  0.7915, -0.8546,  0.8496]],\n",
       "\n",
       "        [[-0.6582, -0.8332, -0.4257,  ...,  0.7393, -1.0129,  1.5116],\n",
       "         [ 0.8167,  2.0377, -0.2003,  ...,  1.0718,  0.6252,  0.6872],\n",
       "         [-0.0168,  0.9187, -0.0466,  ..., -1.0867,  0.7338, -0.1525],\n",
       "         [-0.2133,  0.9298, -0.1380,  ...,  0.0164, -2.2652,  0.1844]],\n",
       "\n",
       "        ...,\n",
       "\n",
       "        [[ 1.1549, -0.2447,  1.3656,  ...,  0.1596, -0.7859,  1.7132],\n",
       "         [ 0.1077, -0.9730, -0.2881,  ..., -0.2443,  1.6554, -0.7789],\n",
       "         [-0.9496,  0.1938, -0.8339,  ...,  0.3777,  0.4544,  0.7723],\n",
       "         [-0.2645,  1.6957, -1.0603,  ..., -0.3017, -1.2851,  0.3994]],\n",
       "\n",
       "        [[ 0.5423,  1.1164,  1.7211,  ...,  0.8696, -0.8627,  0.0486],\n",
       "         [-0.7823, -0.7166, -0.2116,  ..., -0.1863, -1.5836,  0.8598],\n",
       "         [-1.0160, -0.8601,  0.5956,  ...,  0.2417,  0.7387,  1.1976],\n",
       "         [-1.4545, -0.1878, -0.9754,  ..., -0.4860, -0.1269,  0.8443]],\n",
       "\n",
       "        [[-0.3679, -0.0789, -0.4455,  ..., -0.8197,  1.0556,  1.2622],\n",
       "         [-1.9292, -2.6121,  0.4247,  ..., -0.2626,  0.5144,  0.8947],\n",
       "         [-0.9590,  1.0489,  0.6512,  ..., -1.5514, -0.5759,  1.0372],\n",
       "         [ 0.5772,  0.9646,  0.4938,  ..., -0.4501,  0.9700, -2.1552]]])"
      ]
     },
     "execution_count": 100,
     "metadata": {},
     "output_type": "execute_result"
    }
   ],
   "source": [
    "model.biconv.kernels[0]"
   ]
  },
  {
   "cell_type": "markdown",
   "metadata": {},
   "source": [
    "# `Motif` and `MinimalMEME` integration "
   ]
  },
  {
   "cell_type": "markdown",
   "metadata": {},
   "source": [
    "## `Motif` and `MinimalMEME` class definitions"
   ]
  },
  {
   "cell_type": "code",
   "execution_count": 103,
   "metadata": {
    "vscode": {
     "languageId": "python"
    }
   },
   "outputs": [],
   "source": [
    "import os\n",
    "import numpy as np\n",
    "import pandas as pd\n",
    "import re\n",
    "from sklearn.preprocessing import LabelEncoder, OneHotEncoder\n",
    "from dataclasses import dataclass\n",
    "from typing import Optional\n",
    "from io import TextIOBase\n",
    "\n",
    "@dataclass\n",
    "class Motif:\n",
    "    identifier: str\n",
    "    pfm: np.ndarray\n",
    "    alphabet_length: int\n",
    "    length: int\n",
    "    name: Optional[str] = None\n",
    "    source_sites: Optional[int] = None\n",
    "    source_evalue: Optional[float] = None\n",
    "    \n",
    "    def __len__(self) -> int:\n",
    "        return self.length\n",
    "    \n",
    "    \n",
    "class MinimalMEME:\n",
    "    \"\"\" http://meme-suite.org/doc/meme-format.html \"\"\"\n",
    "    \n",
    "    __version_regex = re.compile('^MEME version ([0-9]+)$')\n",
    "    __background_regex = re.compile('^Background letter frequencies(?: \\(from (.+)\\))?$')\n",
    "    __background_sum_error = 0.00001\n",
    "    __pfm_header_regex = re.compile('^letter-probability matrix:(?: alength= ([0-9]+))?(?: w= ([0-9]+))?(?: nsites= ([0-9]+))?(?: E= ([0-9.e-]+))?$')\n",
    "    version = None\n",
    "    alphabet = None\n",
    "    strands = None\n",
    "    background = None\n",
    "    background_source = None\n",
    "    motifs = None\n",
    "    \n",
    "    def __init__(self, path):\n",
    "        self.motifs = {}\n",
    "        \n",
    "        # parse the minimal MEME file\n",
    "        with open(path) as minimal_meme_file:\n",
    "            line = minimal_meme_file.readline()\n",
    "            # first line must be version\n",
    "            self.version = self._parse_version(line)\n",
    "\n",
    "            line = minimal_meme_file.readline()\n",
    "            while line:\n",
    "                if line.startswith('ALPHABET'):\n",
    "                    if self.alphabet is None:\n",
    "                        self.alphabet = self._parse_alphabet(line)\n",
    "                        line = minimal_meme_file.readline()\n",
    "                    else:\n",
    "                        raise RuntimeError(\"Multiple alphabet definitions encountered in MEME file\")\n",
    "                elif line.startswith('strands: '):\n",
    "                    if self.strands is None:\n",
    "                        self.strands = self._parse_strands(line)\n",
    "                        line = minimal_meme_file.readline()\n",
    "                    else:\n",
    "                        raise RuntimeError(\"Multiple strand definitions encountered in MEME file\")\n",
    "                elif line.startswith('Background letter frequencies'):\n",
    "                    if self.background is None:\n",
    "                        line = self._parse_background(line, minimal_meme_file)\n",
    "                    else:\n",
    "                        raise RuntimeError(\"Multiple background frequency definitions encountered in MEME file\")\n",
    "                elif line.startswith('MOTIF'):\n",
    "                    line = self._parse_motif(line, minimal_meme_file)\n",
    "                else:\n",
    "                    line = minimal_meme_file.readline()\n",
    "    \n",
    "    def _parse_version(self, line: str) -> str:\n",
    "        match = re.match(self.__version_regex, line)\n",
    "        if match:\n",
    "            return match.group(1)\n",
    "        else:\n",
    "            raise RuntimeError(\"Minimal MEME file missing version string on first line\")\n",
    "            \n",
    "    def _parse_alphabet(self, line: str) -> str:\n",
    "        if line.startswith('ALPHABET '):\n",
    "            raise NotImplementedError(\"Alphabet definitions not supported\")\n",
    "        elif line.startswith('ALPHABET= '):\n",
    "            return line.rstrip()[10:]\n",
    "        else:\n",
    "            raise RuntimeError('Unable to parse alphabet line')\n",
    "            \n",
    "    def _parse_strands(self, line: str) -> str:\n",
    "        strands = line.rstrip()[9:]\n",
    "        if not ((strands == '+') or (strands == '+ -')):\n",
    "            raise RuntimeError(\"Invalid strand specification\")\n",
    "        else:\n",
    "            return strands\n",
    "        \n",
    "    def _parse_background(self, line: str, handle: TextIOBase) -> str:\n",
    "        match = re.match(self.__background_regex, line)\n",
    "        if match:\n",
    "            if match.group(1) is not None:\n",
    "                self.background_source = match.group(1)\n",
    "        else:\n",
    "            raise RuntimeError(\"Unable to parse background frequency line\")\n",
    "\n",
    "        self.background = {}\n",
    "        # start parsing possibly multiple lines of background frequencies\n",
    "        line = handle.readline()\n",
    "        while line:\n",
    "            if (not line.rstrip()) or line.startswith('MOTIF'):\n",
    "                if abs(1 - sum(self.background.values())) <= self.__background_sum_error:\n",
    "                    return line\n",
    "                else:\n",
    "                    raise RuntimeError(\"Background frequencies do not sum to 1\")\n",
    "            else:\n",
    "                line_freqs = line.rstrip().split(' ')\n",
    "                if len(line_freqs) % 2 != 0:\n",
    "                    raise RuntimeError(\"Invalid background frequency definition\")\n",
    "                for residue, freq in zip(line_freqs[0::2], line_freqs[1::2]):\n",
    "                    self.background[residue] = float(freq)\n",
    "            line = handle.readline()\n",
    "    \n",
    "    def _parse_motif(self, line: str, handle: TextIOBase) -> str:\n",
    "        # parse motif identifier\n",
    "        line_split = line.rstrip().split(' ')\n",
    "        if (len(line_split) < 2) or (len(line_split) > 3):\n",
    "            raise RuntimeError(\"Invalid motif name line\")\n",
    "        motif_identifier = line_split[1]\n",
    "        motif_name = line_split[2] if len(line_split) == 3 else None\n",
    "        \n",
    "        line = handle.readline()\n",
    "        # parse letter probability matrix header\n",
    "        if not line.startswith('letter-probability matrix:'):\n",
    "            raise RuntimeError(\"No letter-probability matrix header line in motif entry\")\n",
    "        match = re.match(self.__pfm_header_regex, line)\n",
    "        if match:\n",
    "            motif_alphabet_length = int(match.group(1)) if match.group(1) is not None else None\n",
    "            motif_length = int(match.group(2)) if match.group(2) is not None else None\n",
    "            motif_source_sites = int(match.group(3)) if match.group(3) is not None else None\n",
    "            motif_source_evalue = float(match.group(4)) if match.group(4) is not None else None\n",
    "        else:\n",
    "            raise RuntimeError(\"Unable to parse letter-probability matrix header\")\n",
    "        \n",
    "        # parse letter probability matrix\n",
    "        line = handle.readline()\n",
    "        pfm_rows = []\n",
    "        while line:\n",
    "            if (not line.rstrip()) or line.startswith('MOTIF'):\n",
    "                if motif_identifier in self.motifs:\n",
    "                    raise RuntimeError(\"Motif identifiers not unique within file\")\n",
    "                pfm = np.stack(pfm_rows)\n",
    "                if motif_length is None:\n",
    "                    motif_length = pfm.shape[0]\n",
    "                elif motif_length != pfm.shape[0]:\n",
    "                    raise RuntimeError(\"Provided motif length is not consistent with the letter-probability matrix shape\")\n",
    "                self.motifs[motif_identifier] = Motif(\n",
    "                    identifier = motif_identifier,\n",
    "                    pfm = pfm,\n",
    "                    alphabet_length = motif_alphabet_length,\n",
    "                    length = motif_length,\n",
    "                    name = motif_name,\n",
    "                    source_sites = motif_source_sites,\n",
    "                    source_evalue = motif_source_evalue\n",
    "                )\n",
    "                return line\n",
    "            else:\n",
    "                line_split = line.rstrip().split()\n",
    "                if motif_alphabet_length is None:\n",
    "                    motif_alphabet_length = len(line_split)\n",
    "                elif motif_alphabet_length != len(line_split):\n",
    "                    raise RuntimeError(\"Letter-probability matrix row length doesn't equal alphabet length\")\n",
    "                pfm_row = np.array([float(s) for s in line_split])\n",
    "                pfm_rows.append(pfm_row)\n",
    "                line = handle.readline()"
   ]
  },
  {
   "cell_type": "markdown",
   "metadata": {},
   "source": [
    "## Initializing a layer with `Motif` objects"
   ]
  },
  {
   "cell_type": "code",
   "execution_count": 104,
   "metadata": {
    "vscode": {
     "languageId": "python"
    }
   },
   "outputs": [],
   "source": [
    "core_promoter_elements = MinimalMEME('/cellar/users/aklie/projects/EUGENe/tests/_data/datasets/jores21/CPEs.meme')\n",
    "tf_groups = MinimalMEME('/cellar/users/aklie/projects/EUGENe/tests/_data/datasets/jores21/TF-clusters.meme')\n",
    "all_motifs = {**core_promoter_elements.motifs, **tf_groups.motifs}"
   ]
  },
  {
   "cell_type": "code",
   "execution_count": 122,
   "metadata": {
    "vscode": {
     "languageId": "python"
    }
   },
   "outputs": [],
   "source": [
    "kernel = torch.zeros(128, 4, 13)\n",
    "nn.init.xavier_uniform_(kernel)\n",
    "\n",
    "# overwrite part of kernel with pfms from motifs\n",
    "for i, motif_id in enumerate(all_motifs):\n",
    "    motif = all_motifs[motif_id]\n",
    "    # convert PFM to PWM, assume equal background frequency of 0.25\n",
    "    # truncates motifs longer than 13bp to 13bp\n",
    "    kernel[i, :, :min(len(motif), kernel.shape[2])] = torch.tensor(motif.pfm[:min(len(motif), kernel.shape[2]), :] / 0.25).transpose(0, 1)"
   ]
  },
  {
   "cell_type": "code",
   "execution_count": 124,
   "metadata": {
    "vscode": {
     "languageId": "python"
    }
   },
   "outputs": [],
   "source": [
    "model.biconv.kernels[0] = kernel"
   ]
  },
  {
   "cell_type": "code",
   "execution_count": 125,
   "metadata": {
    "vscode": {
     "languageId": "python"
    }
   },
   "outputs": [
    {
     "data": {
      "text/plain": [
       "tensor([[-0.0013],\n",
       "        [ 0.0682],\n",
       "        [ 0.0221],\n",
       "        [-0.0021],\n",
       "        [ 0.0844],\n",
       "        [ 0.1157],\n",
       "        [ 0.0566],\n",
       "        [ 0.2570],\n",
       "        [-0.1326],\n",
       "        [-0.1769]], grad_fn=<AddmmBackward0>)"
      ]
     },
     "execution_count": 125,
     "metadata": {},
     "output_type": "execute_result"
    }
   ],
   "source": [
    "model(x)"
   ]
  }
 ],
 "metadata": {
  "kernelspec": {
   "display_name": "Python 3",
   "language": "python",
   "name": "python3"
  },
  "language_info": {
   "codemirror_mode": {
    "name": "ipython",
    "version": 3
   },
   "file_extension": ".py",
   "mimetype": "text/x-python",
   "name": "python",
   "nbconvert_exporter": "python",
   "pygments_lexer": "ipython3",
   "version": "3.7.13"
  }
 },
 "nbformat": 4,
 "nbformat_minor": 4
}

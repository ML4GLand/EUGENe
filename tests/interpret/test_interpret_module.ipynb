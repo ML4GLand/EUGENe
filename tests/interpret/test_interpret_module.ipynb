{
 "cells": [
  {
   "cell_type": "markdown",
   "id": "a724a8a7-e41f-4362-b03a-afbfea6f35ca",
   "metadata": {},
   "source": [
    "# Testing the `intepret` module"
   ]
  },
  {
   "cell_type": "markdown",
   "id": "3a151559-38b0-4e49-b6e4-ce6951b48c5b",
   "metadata": {
    "tags": []
   },
   "source": [
    "**Authorship:**\n",
    "Adam Klie, *10/05/2022*\n",
    "***\n",
    "**Description:**\n",
    "Notebook for testing out the `intepret` module."
   ]
  },
  {
   "cell_type": "code",
   "execution_count": 2,
   "id": "5b79aa44-6856-46c9-9c7d-9ece3e99e09e",
   "metadata": {
    "execution": {
     "iopub.execute_input": "2022-10-04T16:28:16.402299Z",
     "iopub.status.busy": "2022-10-04T16:28:16.402033Z",
     "iopub.status.idle": "2022-10-04T16:28:54.583944Z",
     "shell.execute_reply": "2022-10-04T16:28:54.583312Z",
     "shell.execute_reply.started": "2022-10-04T16:28:16.402243Z"
    },
    "tags": []
   },
   "outputs": [
    {
     "name": "stderr",
     "output_type": "stream",
     "text": [
      "Global seed set to 13\n",
      "2022-10-06 18:27:37.059378: I tensorflow/core/platform/cpu_feature_guard.cc:193] This TensorFlow binary is optimized with oneAPI Deep Neural Network Library (oneDNN) to use the following CPU instructions in performance-critical operations:  AVX2 FMA\n",
      "To enable them in other operations, rebuild TensorFlow with the appropriate compiler flags.\n",
      "Fontconfig warning: ignoring UTF-8: not a valid region tag\n"
     ]
    }
   ],
   "source": [
    "if 'autoreload' not in get_ipython().extension_manager.loaded:\n",
    "    %load_ext autoreload\n",
    "%autoreload 2\n",
    "\n",
    "import os\n",
    "import torch\n",
    "import numpy as np\n",
    "import pandas as pd\n",
    "import eugene as eu"
   ]
  },
  {
   "cell_type": "code",
   "execution_count": 3,
   "id": "a6368982",
   "metadata": {},
   "outputs": [],
   "source": [
    "x = torch.randn(10, 4, 100)\n",
    "x_rev = torch.randn(10, 4, 100)\n",
    "y = torch.randn(10, 2)"
   ]
  },
  {
   "cell_type": "code",
   "execution_count": 4,
   "id": "d6478f83",
   "metadata": {},
   "outputs": [
    {
     "data": {
      "application/vnd.jupyter.widget-view+json": {
       "model_id": "ae610f7649df4306908eec2a6ccf1073",
       "version_major": 2,
       "version_minor": 0
      },
      "text/plain": [
       "One-hot encoding sequences:   0%|          | 0/1000 [00:00<?, ?it/s]"
      ]
     },
     "metadata": {},
     "output_type": "display_data"
    },
    {
     "name": "stdout",
     "output_type": "stream",
     "text": [
      "SeqData object modified:\n",
      "\tohe_seqs: None -> 1000 ohe_seqs added\n",
      "SeqData object modified:\n",
      "\tohe_rev_seqs: None -> 1000 ohe_rev_seqs added\n"
     ]
    }
   ],
   "source": [
    "sdata = eu.datasets.random1000()\n",
    "eu.pp.ohe_seqs_sdata(sdata)\n",
    "eu.pp.reverse_complement_seqs_sdata(sdata)"
   ]
  },
  {
   "cell_type": "code",
   "execution_count": 5,
   "id": "5a295aa1",
   "metadata": {},
   "outputs": [],
   "source": [
    "model = eu.models.DeepBind(input_len=100, output_dim=2)"
   ]
  },
  {
   "cell_type": "markdown",
   "id": "0ce9af43-bc43-4898-bfce-6a88b49d06cc",
   "metadata": {},
   "source": [
    "# Feature attribution"
   ]
  },
  {
   "cell_type": "code",
   "execution_count": 6,
   "id": "d892675e",
   "metadata": {},
   "outputs": [],
   "source": [
    "def check_attribution_method(model, sdata, method, **kwargs):\n",
    "    \"\"\"\n",
    "    Check that an attribution method works\n",
    "    \"\"\"\n",
    "    explains = eu.interpret.nn_explain(\n",
    "        model=model, \n",
    "        inputs=(x, x_rev), \n",
    "        target=0, \n",
    "        saliency_type=method,\n",
    "        **kwargs\n",
    "    )\n",
    "    assert explains.shape == (10, 4, 100)\n",
    "    eu.interpret.feature_attribution_sdata(\n",
    "        sdata=sdata,\n",
    "        model=model,\n",
    "        target=0,\n",
    "        method=method,\n",
    "        **kwargs\n",
    "    )\n",
    "    assert sdata.uns[f\"{method}_imps\"].shape == (1000, 4, 100)"
   ]
  },
  {
   "cell_type": "code",
   "execution_count": 7,
   "id": "e1640e47",
   "metadata": {},
   "outputs": [
    {
     "name": "stdout",
     "output_type": "stream",
     "text": [
      "HERE\n",
      "No transforms given, assuming just need to tensorize.\n"
     ]
    },
    {
     "data": {
      "application/vnd.jupyter.widget-view+json": {
       "model_id": "592bcc848ae546768a763fb9cbb5847f",
       "version_major": 2,
       "version_minor": 0
      },
      "text/plain": [
       "Computing saliency on batches of size 128:   0%|          | 0/7 [00:00<?, ?it/s]"
      ]
     },
     "metadata": {},
     "output_type": "display_data"
    },
    {
     "name": "stdout",
     "output_type": "stream",
     "text": [
      "HERE\n",
      "HERE\n",
      "HERE\n",
      "HERE\n",
      "HERE\n",
      "HERE\n",
      "HERE\n",
      "HERE\n"
     ]
    }
   ],
   "source": [
    "def test_NaiveISM():\n",
    "    check_attribution_method(model, sdata, \"NaiveISM\")\n",
    "test_NaiveISM()"
   ]
  },
  {
   "cell_type": "code",
   "execution_count": 8,
   "id": "3b117d82",
   "metadata": {},
   "outputs": [
    {
     "name": "stdout",
     "output_type": "stream",
     "text": [
      "No transforms given, assuming just need to tensorize.\n"
     ]
    },
    {
     "data": {
      "application/vnd.jupyter.widget-view+json": {
       "model_id": "901fe3fc7f7c4706ac8559daa437587d",
       "version_major": 2,
       "version_minor": 0
      },
      "text/plain": [
       "Computing saliency on batches of size 128:   0%|          | 0/7 [00:00<?, ?it/s]"
      ]
     },
     "metadata": {},
     "output_type": "display_data"
    }
   ],
   "source": [
    "def test_InputXGradient():\n",
    "    check_attribution_method(model, sdata, \"InputXGradient\")\n",
    "test_InputXGradient()"
   ]
  },
  {
   "cell_type": "code",
   "execution_count": 9,
   "id": "d2dcf17f",
   "metadata": {},
   "outputs": [
    {
     "name": "stderr",
     "output_type": "stream",
     "text": [
      "/Users/adamklie/miniconda3/envs/eugene/lib/python3.7/site-packages/captum/attr/_core/deep_lift.py:339: UserWarning: Setting forward, backward hooks and attributes on non-linear\n",
      "               activations. The hooks and attributes will be removed\n",
      "            after the attribution is finished\n",
      "  after the attribution is finished\"\"\"\n",
      "/Users/adamklie/miniconda3/envs/eugene/lib/python3.7/site-packages/captum/attr/_core/deep_lift.py:471: UserWarning: An invalid module MaxPool1d(kernel_size=85, stride=85, padding=0, dilation=1, ceil_mode=False) is detected. Saved gradients will\n",
      "                be used as the gradients of the module's input tensor.\n",
      "                See MaxPool1d as an example.\n",
      "  module\n",
      "/Users/adamklie/miniconda3/envs/eugene/lib/python3.7/site-packages/torch/nn/functional.py:651: UserWarning: Note that order of the arguments: ceil_mode and return_indices will changeto match the args list in nn.MaxPool1d in a future release.\n",
      "  warnings.warn(\"Note that order of the arguments: ceil_mode and return_indices will change\"\n"
     ]
    },
    {
     "name": "stdout",
     "output_type": "stream",
     "text": [
      "No transforms given, assuming just need to tensorize.\n"
     ]
    },
    {
     "data": {
      "application/vnd.jupyter.widget-view+json": {
       "model_id": "f4ad3eba1d4e496392be846d982d24d1",
       "version_major": 2,
       "version_minor": 0
      },
      "text/plain": [
       "Computing saliency on batches of size 128:   0%|          | 0/7 [00:00<?, ?it/s]"
      ]
     },
     "metadata": {},
     "output_type": "display_data"
    },
    {
     "name": "stdout",
     "output_type": "stream",
     "text": [
      "No transforms given, assuming just need to tensorize.\n"
     ]
    },
    {
     "data": {
      "application/vnd.jupyter.widget-view+json": {
       "model_id": "2b6f1dafcfa44b71b165fcac5ef26261",
       "version_major": 2,
       "version_minor": 0
      },
      "text/plain": [
       "Computing saliency on batches of size 128:   0%|          | 0/7 [00:00<?, ?it/s]"
      ]
     },
     "metadata": {},
     "output_type": "display_data"
    },
    {
     "name": "stdout",
     "output_type": "stream",
     "text": [
      "No transforms given, assuming just need to tensorize.\n"
     ]
    },
    {
     "data": {
      "application/vnd.jupyter.widget-view+json": {
       "model_id": "575d3b29fbd34e1bafe3ea38f80149c2",
       "version_major": 2,
       "version_minor": 0
      },
      "text/plain": [
       "Computing saliency on batches of size 128:   0%|          | 0/7 [00:00<?, ?it/s]"
      ]
     },
     "metadata": {},
     "output_type": "display_data"
    }
   ],
   "source": [
    "def test_DeepLIFT():\n",
    "    check_attribution_method(model, sdata, \"DeepLift\", reference=\"zero\")\n",
    "    check_attribution_method(model, sdata, \"DeepLift\", reference=\"shuffle\")\n",
    "    check_attribution_method(model, sdata, \"DeepLift\", reference=\"gc\")\n",
    "test_DeepLIFT()"
   ]
  },
  {
   "cell_type": "code",
   "execution_count": 10,
   "metadata": {},
   "outputs": [
    {
     "name": "stdout",
     "output_type": "stream",
     "text": [
      "No transforms given, assuming just need to tensorize.\n"
     ]
    },
    {
     "data": {
      "application/vnd.jupyter.widget-view+json": {
       "model_id": "61d05ff54f99465099b8f18ae7354356",
       "version_major": 2,
       "version_minor": 0
      },
      "text/plain": [
       "Computing saliency on batches of size 128:   0%|          | 0/7 [00:00<?, ?it/s]"
      ]
     },
     "metadata": {},
     "output_type": "display_data"
    },
    {
     "name": "stdout",
     "output_type": "stream",
     "text": [
      "No transforms given, assuming just need to tensorize.\n"
     ]
    },
    {
     "data": {
      "application/vnd.jupyter.widget-view+json": {
       "model_id": "a278169a5a5e405db46de84e00587918",
       "version_major": 2,
       "version_minor": 0
      },
      "text/plain": [
       "Computing saliency on batches of size 128:   0%|          | 0/7 [00:00<?, ?it/s]"
      ]
     },
     "metadata": {},
     "output_type": "display_data"
    },
    {
     "name": "stdout",
     "output_type": "stream",
     "text": [
      "No transforms given, assuming just need to tensorize.\n"
     ]
    },
    {
     "data": {
      "application/vnd.jupyter.widget-view+json": {
       "model_id": "0ba662b6d1944ede9e1f01692fe6fa5e",
       "version_major": 2,
       "version_minor": 0
      },
      "text/plain": [
       "Computing saliency on batches of size 128:   0%|          | 0/7 [00:00<?, ?it/s]"
      ]
     },
     "metadata": {},
     "output_type": "display_data"
    }
   ],
   "source": [
    "def test_GradientSHAP():\n",
    "    check_attribution_method(model, sdata, \"GradientSHAP\", reference=\"zero\")\n",
    "    check_attribution_method(model, sdata, \"GradientSHAP\", reference=\"shuffle\")\n",
    "    check_attribution_method(model, sdata, \"GradientSHAP\", reference=\"gc\")\n",
    "test_GradientSHAP()"
   ]
  },
  {
   "cell_type": "markdown",
   "id": "7e9790e1",
   "metadata": {},
   "source": [
    "# Dim reduction"
   ]
  },
  {
   "cell_type": "code",
   "execution_count": 11,
   "id": "9dac881c",
   "metadata": {},
   "outputs": [
    {
     "name": "stdout",
     "output_type": "stream",
     "text": [
      "No transforms given, assuming just need to tensorize.\n"
     ]
    },
    {
     "data": {
      "application/vnd.jupyter.widget-view+json": {
       "model_id": "08653e7bac164fa397f6ca0c269d8594",
       "version_major": 2,
       "version_minor": 0
      },
      "text/plain": [
       "Computing saliency on batches of size 128:   0%|          | 0/7 [00:00<?, ?it/s]"
      ]
     },
     "metadata": {},
     "output_type": "display_data"
    },
    {
     "name": "stdout",
     "output_type": "stream",
     "text": [
      "Make sure your matrix is sample by feature\n"
     ]
    },
    {
     "data": {
      "image/png": "[encoded data removed]",
      "text/plain": [
       "<Figure size 640x480 with 1 Axes>"
      ]
     },
     "metadata": {},
     "output_type": "display_data"
    }
   ],
   "source": [
    "def test_pca(model, sdata):\n",
    "    \"\"\"\n",
    "    Test PCA\n",
    "    \"\"\"\n",
    "    from sklearn.decomposition import PCA\n",
    "    eu.interpret.feature_attribution_sdata(\n",
    "        sdata=sdata,\n",
    "        model=model,\n",
    "        target=0,\n",
    "        method=\"InputXGradient\"\n",
    "    )\n",
    "    eu.interpret.pca(sdata, uns_key=\"InputXGradient_imps\")\n",
    "    assert sdata.seqsm[\"InputXGradient_imps_pca\"].shape == (1000, 30)\n",
    "    assert isinstance(sdata.uns[\"InputXGradient_imps_pca\"], PCA)\n",
    "    eu.pl.skree(sdata, uns_key=\"InputXGradient_imps_pca\")\n",
    "test_pca(model, sdata)"
   ]
  },
  {
   "cell_type": "code",
   "execution_count": 12,
   "id": "6225aa7b",
   "metadata": {},
   "outputs": [
    {
     "name": "stdout",
     "output_type": "stream",
     "text": [
      "No transforms given, assuming just need to tensorize.\n"
     ]
    },
    {
     "data": {
      "application/vnd.jupyter.widget-view+json": {
       "model_id": "cf5c48bd230c4366858366851d389ad5",
       "version_major": 2,
       "version_minor": 0
      },
      "text/plain": [
       "Computing saliency on batches of size 128:   0%|          | 0/7 [00:00<?, ?it/s]"
      ]
     },
     "metadata": {},
     "output_type": "display_data"
    },
    {
     "name": "stdout",
     "output_type": "stream",
     "text": [
      "Saved PWM File as : motifs.meme\n"
     ]
    }
   ],
   "source": [
    "def test_aggregate_importances_sdata(model, sdata):\n",
    "    \"\"\"\n",
    "    Test PCA\n",
    "    \"\"\"\n",
    "    from sklearn.decomposition import PCA\n",
    "    eu.interpret.feature_attribution_sdata(\n",
    "        sdata=sdata,\n",
    "        model=model,\n",
    "        target=0,\n",
    "        method=\"InputXGradient\"\n",
    "    )\n",
    "    eu.dataload.motif.jaspar_annots_sdata(sdata, motif_names=[\"GATA1\"])\n",
    "    eu.interpret.aggregate_importances_sdata(sdata, uns_key=\"InputXGradient_imps\")\n",
    "    assert \"InputXGradient_imps_agg_scores\" in sdata.pos_annot.df.columns\n",
    "test_aggregate_importances_sdata(model, sdata)"
   ]
  },
  {
   "cell_type": "markdown",
   "id": "d22cb4f0-5176-4c41-aeaa-aa69fe13fe0a",
   "metadata": {},
   "source": [
    "# Filter Visualization"
   ]
  },
  {
   "cell_type": "code",
   "execution_count": 13,
   "id": "77b3071d",
   "metadata": {},
   "outputs": [],
   "source": [
    "from torch.utils.data import DataLoader"
   ]
  },
  {
   "cell_type": "code",
   "execution_count": 14,
   "id": "698dd526",
   "metadata": {},
   "outputs": [
    {
     "data": {
      "application/vnd.jupyter.widget-view+json": {
       "model_id": "59b08629c3d049fca0a7e99f95b70383",
       "version_major": 2,
       "version_minor": 0
      },
      "text/plain": [
       "One-hot encoding sequences:   0%|          | 0/1000 [00:00<?, ?it/s]"
      ]
     },
     "metadata": {},
     "output_type": "display_data"
    },
    {
     "name": "stdout",
     "output_type": "stream",
     "text": [
      "SeqData object modified:\n",
      "\tohe_seqs: None -> 1000 ohe_seqs added\n",
      "SeqData object modified:\n",
      "\tohe_rev_seqs: None -> 1000 ohe_rev_seqs added\n",
      "No transforms given, assuming just need to tensorize.\n"
     ]
    }
   ],
   "source": [
    "sdata = eu.datasets.random1000()\n",
    "eu.pp.ohe_seqs_sdata(sdata)\n",
    "eu.pp.reverse_complement_seqs_sdata(sdata)\n",
    "sdataset = sdata.to_dataset(target_keys=\"activity_0\")\n",
    "sdataloader = DataLoader(sdataset, batch_size=32, num_workers=0)"
   ]
  },
  {
   "cell_type": "code",
   "execution_count": 15,
   "id": "71b79300",
   "metadata": {},
   "outputs": [],
   "source": [
    "from eugene.interpret._filter_viz import _get_first_conv_layer, _get_activations_from_layer, _get_filter_activators, _get_pfms"
   ]
  },
  {
   "cell_type": "code",
   "execution_count": 16,
   "id": "bdcdfcc2",
   "metadata": {},
   "outputs": [],
   "source": [
    "def test_get_first_conv_layer(model):\n",
    "    first_layer = _get_first_conv_layer(model)\n",
    "    assert isinstance(first_layer, torch.nn.Conv1d)\n",
    "test_get_first_conv_layer(model)"
   ]
  },
  {
   "cell_type": "code",
   "execution_count": 17,
   "id": "63bc9b58",
   "metadata": {},
   "outputs": [
    {
     "data": {
      "application/vnd.jupyter.widget-view+json": {
       "model_id": "11521e40ee134b63b64a40ec6a7fcfbc",
       "version_major": 2,
       "version_minor": 0
      },
      "text/plain": [
       "Getting maximial activating seqlets:   0%|          | 0/31 [00:00<?, ?it/s]"
      ]
     },
     "metadata": {},
     "output_type": "display_data"
    }
   ],
   "source": [
    "def test_get_activations_from_layer(model, sdataloader):\n",
    "    first_layer = _get_first_conv_layer(model)\n",
    "    np_activators, np_sequences = _get_activations_from_layer(first_layer, sdataloader, vocab=\"DNA\")\n",
    "    assert np_activators.shape == (1000, 16, 85)\n",
    "    assert len(np_sequences) == 1000\n",
    "    isinstance(np_sequences[0], str)\n",
    "test_get_activations_from_layer(model, sdataloader)"
   ]
  },
  {
   "cell_type": "code",
   "execution_count": 18,
   "id": "c61af180",
   "metadata": {},
   "outputs": [
    {
     "data": {
      "application/vnd.jupyter.widget-view+json": {
       "model_id": "1d0fef64528548eb8a9e3b0863bae79c",
       "version_major": 2,
       "version_minor": 0
      },
      "text/plain": [
       "Getting maximial activating seqlets:   0%|          | 0/31 [00:00<?, ?it/s]"
      ]
     },
     "metadata": {},
     "output_type": "display_data"
    },
    {
     "data": {
      "application/vnd.jupyter.widget-view+json": {
       "model_id": "4fb823825ee0494caea6b60ee4242c34",
       "version_major": 2,
       "version_minor": 0
      },
      "text/plain": [
       "Getting filter activators for 16 filters:   0%|          | 0/16 [00:00<?, ?it/s]"
      ]
     },
     "metadata": {},
     "output_type": "display_data"
    },
    {
     "data": {
      "application/vnd.jupyter.widget-view+json": {
       "model_id": "755fc4a9cf1943d894f76ea0cf38df49",
       "version_major": 2,
       "version_minor": 0
      },
      "text/plain": [
       "Getting filter activators for 16 filters:   0%|          | 0/16 [00:00<?, ?it/s]"
      ]
     },
     "metadata": {},
     "output_type": "display_data"
    }
   ],
   "source": [
    "def test_get_filter_activators(model, sdataloader):\n",
    "    first_layer = _get_first_conv_layer(model)\n",
    "    np_activators, np_sequences = _get_activations_from_layer(first_layer, sdataloader, vocab=\"DNA\")\n",
    "    activator_seqs = _get_filter_activators(np_activators, np_sequences, first_layer.kernel_size[0], method=\"Alipanahi15\", threshold=0.75)\n",
    "    assert len(activator_seqs) == 16\n",
    "    assert isinstance(activator_seqs[0], list)\n",
    "    assert isinstance(activator_seqs[0][0], str)\n",
    "    activator_seqs = _get_filter_activators(np_activators, np_sequences, first_layer.kernel_size[0], method=\"Minnoye20\", num_seqlets=10)\n",
    "    assert len(activator_seqs) == 16\n",
    "    assert isinstance(activator_seqs[0], list)\n",
    "    assert isinstance(activator_seqs[0][0], str)\n",
    "    assert len(activator_seqs[0]) == 10\n",
    "test_get_filter_activators(model, sdataloader)"
   ]
  },
  {
   "cell_type": "code",
   "execution_count": 19,
   "id": "89fdee23",
   "metadata": {},
   "outputs": [
    {
     "data": {
      "application/vnd.jupyter.widget-view+json": {
       "model_id": "071017a4c4b249a38289aa8cc4bf5abd",
       "version_major": 2,
       "version_minor": 0
      },
      "text/plain": [
       "Getting maximial activating seqlets:   0%|          | 0/31 [00:00<?, ?it/s]"
      ]
     },
     "metadata": {},
     "output_type": "display_data"
    },
    {
     "data": {
      "application/vnd.jupyter.widget-view+json": {
       "model_id": "e8080b57134d40d3b23aeaa79d652ad6",
       "version_major": 2,
       "version_minor": 0
      },
      "text/plain": [
       "Getting filter activators for 16 filters:   0%|          | 0/16 [00:00<?, ?it/s]"
      ]
     },
     "metadata": {},
     "output_type": "display_data"
    },
    {
     "data": {
      "application/vnd.jupyter.widget-view+json": {
       "model_id": "1d65285b507f4e8b9483cb2ccb3603e8",
       "version_major": 2,
       "version_minor": 0
      },
      "text/plain": [
       "Getting PFMs from filters:   0%|          | 0/16 [00:00<?, ?it/s]"
      ]
     },
     "metadata": {},
     "output_type": "display_data"
    }
   ],
   "source": [
    "def test_get_pfm(model, sdataloader):\n",
    "    first_layer = _get_first_conv_layer(model)\n",
    "    np_activators, np_sequences = _get_activations_from_layer(first_layer, sdataloader, vocab=\"DNA\")\n",
    "    activator_seqs = _get_filter_activators(np_activators, np_sequences, first_layer.kernel_size[0], method=\"Alipanahi15\", threshold=0.75)\n",
    "    pfms = _get_pfms(activator_seqs, first_layer.kernel_size[0], vocab=\"DNA\")\n",
    "    assert len(pfms) == 16\n",
    "    assert isinstance(pfms[0], pd.DataFrame)\n",
    "    assert pfms[0].shape == (16, 4)\n",
    "test_get_pfm(model, sdataloader)"
   ]
  },
  {
   "cell_type": "code",
   "execution_count": 20,
   "id": "ef1ae315",
   "metadata": {},
   "outputs": [
    {
     "name": "stdout",
     "output_type": "stream",
     "text": [
      "No transforms given, assuming just need to tensorize.\n"
     ]
    },
    {
     "data": {
      "application/vnd.jupyter.widget-view+json": {
       "model_id": "d40f7d3f5671442da8138c1f2fc235e6",
       "version_major": 2,
       "version_minor": 0
      },
      "text/plain": [
       "Getting maximial activating seqlets:   0%|          | 0/7 [00:00<?, ?it/s]"
      ]
     },
     "metadata": {},
     "output_type": "display_data"
    },
    {
     "data": {
      "application/vnd.jupyter.widget-view+json": {
       "model_id": "cae30ce00bab4bf4af904126d91b0bfe",
       "version_major": 2,
       "version_minor": 0
      },
      "text/plain": [
       "Getting filter activators for 16 filters:   0%|          | 0/16 [00:00<?, ?it/s]"
      ]
     },
     "metadata": {},
     "output_type": "display_data"
    },
    {
     "data": {
      "application/vnd.jupyter.widget-view+json": {
       "model_id": "92b3d828771f4c41924db21d30cfda62",
       "version_major": 2,
       "version_minor": 0
      },
      "text/plain": [
       "Getting PFMs from filters:   0%|          | 0/16 [00:00<?, ?it/s]"
      ]
     },
     "metadata": {},
     "output_type": "display_data"
    }
   ],
   "source": [
    "def test_generate_pfms_sdata(model, sdata):\n",
    "    eu.interpret.generate_pfms_sdata(model, sdata)\n",
    "    assert \"pfms\" in sdata.uns\n",
    "    assert len(sdata.uns[\"pfms\"]) == 16\n",
    "    assert isinstance(sdata.uns[\"pfms\"][0], pd.DataFrame)\n",
    "    assert sdata.uns[\"pfms\"][0].shape == (16, 4)\n",
    "test_generate_pfms_sdata(model, sdata)"
   ]
  },
  {
   "cell_type": "markdown",
   "id": "ea5bc118-bce1-4b25-a2e1-b85b1619f02e",
   "metadata": {},
   "source": [
    "# *In Silico* Experimentation"
   ]
  },
  {
   "cell_type": "markdown",
   "id": "4e8ad7b8",
   "metadata": {},
   "source": [
    "## *In Silico* Evolution"
   ]
  },
  {
   "cell_type": "code",
   "execution_count": 21,
   "id": "8a036f45",
   "metadata": {},
   "outputs": [],
   "source": [
    "model = eu.models.DeepBind(input_len=100, output_dim=1)"
   ]
  },
  {
   "cell_type": "code",
   "execution_count": 22,
   "id": "70aa4726-91b5-49d6-92b8-d9bcf5963528",
   "metadata": {},
   "outputs": [
    {
     "data": {
      "text/plain": [
       "('CACGAGTGGGATCATCTCCAACTGAGGTCTTGCAGAATATCAAATAGGAAGCCCAAGGAGGGAAATAATTGCTTAATCCCCAATTGAGAGTAACGCATAT',\n",
       " (4, 100),\n",
       " (32, 4, 100))"
      ]
     },
     "execution_count": 22,
     "metadata": {},
     "output_type": "execute_result"
    }
   ],
   "source": [
    "# Set-up of some sequences to test\n",
    "seq_num = np.random.choice(32, size=1, replace=False).squeeze()\n",
    "seqs = sdata.seqs[:32]\n",
    "seq = seqs[seq_num]\n",
    "ohe_seqs = sdata.ohe_seqs[:32]\n",
    "ohe_seq = ohe_seqs[seq_num]\n",
    "seq, ohe_seq.shape, ohe_seqs.shape"
   ]
  },
  {
   "cell_type": "markdown",
   "id": "562d8ee5-9ccb-4dc9-b484-28a3e8204ffd",
   "metadata": {},
   "source": [
    "### Test `in_silico_best_k_muts`"
   ]
  },
  {
   "cell_type": "code",
   "execution_count": 23,
   "id": "6ad070dd-2fcc-47bc-a5e8-5ecbef3480f6",
   "metadata": {},
   "outputs": [
    {
     "data": {
      "text/plain": [
       "('A',\n",
       " 'C',\n",
       " 'CACGAGTGGGATCATCTCCAACTGAGGTCTTGCAGAATATCAAATAGGAAGCCCAAGGAGGGAAATAATTGCTTAATCCCCAATTGAGAGTAACGCATAT',\n",
       " 'CACGAGTGGGATCATCTCCAACTGAGGTCTTGCAGAATCTCAAATAGGAAGCCCAAGGAGGGAAATAATTGCTTAATCCCCAATTGAGAGTAACGCATAT',\n",
       " 1)"
      ]
     },
     "execution_count": 23,
     "metadata": {},
     "output_type": "execute_result"
    }
   ],
   "source": [
    "mut_ohe_seq, delta, delta_ind = eu.interpret.best_k_muts(model, ohe_seq, k=1)\n",
    "mut_seq = eu.pp.decode_seq(mut_ohe_seq.squeeze(axis=0))\n",
    "seq[delta_ind.squeeze()], mut_seq[delta_ind.squeeze()], seq, mut_seq, eu.pp._utils._hamming_distance(seq, mut_seq)"
   ]
  },
  {
   "cell_type": "code",
   "execution_count": 24,
   "id": "ce18f181",
   "metadata": {},
   "outputs": [],
   "source": [
    "def test_in_silico_best_k_muts():\n",
    "    mut_ohe_seq, delta, delta_ind = eu.interpret.best_k_muts(model, ohe_seq, k=1)\n",
    "    mut_seq = eu.pp.decode_seq(mut_ohe_seq.squeeze(axis=0))\n",
    "    assert eu.pp._utils._hamming_distance(seq, mut_seq) == 1\n",
    "test_in_silico_best_k_muts()"
   ]
  },
  {
   "cell_type": "markdown",
   "id": "4ac05e25-819e-40a7-9c2d-82133bc3098a",
   "metadata": {},
   "source": [
    "### Test `in_silico_best_mut_seqs`"
   ]
  },
  {
   "cell_type": "code",
   "execution_count": 25,
   "id": "32d8909e",
   "metadata": {},
   "outputs": [],
   "source": [
    "def test_in_silico_best_mut_seqs():\n",
    "    mut_ohe_seqs, deltas, delta_inds = eu.interpret.best_mut_seqs(model, ohe_seqs, batch_size=32)\n",
    "    for i in range(len(mut_ohe_seqs)):\n",
    "        mut_seq = eu.pp.decode_seq(mut_ohe_seqs[i])\n",
    "        assert eu.pp._utils._hamming_distance(seqs[i], mut_seq) == 1\n",
    "test_in_silico_best_mut_seqs()"
   ]
  },
  {
   "cell_type": "markdown",
   "id": "e1b06b25-f770-4515-b030-331a20b8977e",
   "metadata": {},
   "source": [
    "### Test `in_silico_evolution`"
   ]
  },
  {
   "cell_type": "code",
   "execution_count": 26,
   "id": "553fcac9",
   "metadata": {},
   "outputs": [],
   "source": [
    "def test_evolution():\n",
    "    evolved_ohe_seq, deltas, delta_pos = eu.interpret.evolution(\n",
    "        model, \n",
    "        ohe_seq, \n",
    "        force_different=True\n",
    "    )\n",
    "    evolved_seq = eu.pp.decode_seq(evolved_ohe_seq)\n",
    "    assert eu.pp._utils._hamming_distance(seq, evolved_seq) == 10\n",
    "test_evolution()"
   ]
  },
  {
   "cell_type": "code",
   "execution_count": 27,
   "id": "16807b32-f666-4fdf-83fb-d2d7cca80776",
   "metadata": {},
   "outputs": [],
   "source": [
    "sdata_subset = sdata[:5]"
   ]
  },
  {
   "cell_type": "code",
   "execution_count": 28,
   "id": "f00a1146-3e03-482c-91d8-c4b465968f9d",
   "metadata": {},
   "outputs": [
    {
     "data": {
      "application/vnd.jupyter.widget-view+json": {
       "model_id": "863face3440f470fab9071a56037db47",
       "version_major": 2,
       "version_minor": 0
      },
      "text/plain": [
       "Evolving seqs:   0%|          | 0/5 [00:00<?, ?it/s]"
      ]
     },
     "metadata": {},
     "output_type": "display_data"
    },
    {
     "name": "stdout",
     "output_type": "stream",
     "text": [
      "True\n",
      "SeqData object modified:\n",
      "    seqs_annot:\n",
      "        + evolved_5_score, evolved_3_score, evolved_2_score, evolved_4_score, evolved_1_score, original_score\n"
     ]
    },
    {
     "ename": "TypeError",
     "evalue": "object of type 'NoneType' has no len()",
     "output_type": "error",
     "traceback": [
      "\u001b[0;31m---------------------------------------------------------------------------\u001b[0m",
      "\u001b[0;31mTypeError\u001b[0m                                 Traceback (most recent call last)",
      "\u001b[0;32m/var/folders/tm/f8q3_wcj5s98dwjv86bvq7hr0000gn/T/ipykernel_71624/1175450535.py\u001b[0m in \u001b[0;36m<module>\u001b[0;34m\u001b[0m\n\u001b[1;32m     10\u001b[0m     \u001b[0;32massert\u001b[0m \u001b[0;34m\"evolved_5_score\"\u001b[0m \u001b[0;32min\u001b[0m \u001b[0msdata\u001b[0m\u001b[0;34m.\u001b[0m\u001b[0mseqs_annot\u001b[0m\u001b[0;34m\u001b[0m\u001b[0;34m\u001b[0m\u001b[0m\n\u001b[1;32m     11\u001b[0m     \u001b[0;32massert\u001b[0m \u001b[0mlen\u001b[0m\u001b[0;34m(\u001b[0m\u001b[0mevolved_seqs\u001b[0m\u001b[0;34m)\u001b[0m \u001b[0;34m==\u001b[0m \u001b[0;36m5\u001b[0m\u001b[0;34m\u001b[0m\u001b[0;34m\u001b[0m\u001b[0m\n\u001b[0;32m---> 12\u001b[0;31m \u001b[0mtest_evolve_seqs_sdata\u001b[0m\u001b[0;34m(\u001b[0m\u001b[0mmodel\u001b[0m\u001b[0;34m,\u001b[0m \u001b[0msdata_subset\u001b[0m\u001b[0;34m)\u001b[0m\u001b[0;34m\u001b[0m\u001b[0;34m\u001b[0m\u001b[0m\n\u001b[0m",
      "\u001b[0;32m/var/folders/tm/f8q3_wcj5s98dwjv86bvq7hr0000gn/T/ipykernel_71624/1175450535.py\u001b[0m in \u001b[0;36mtest_evolve_seqs_sdata\u001b[0;34m(model, sdata)\u001b[0m\n\u001b[1;32m      9\u001b[0m     \u001b[0;32massert\u001b[0m \u001b[0;34m\"original_score\"\u001b[0m \u001b[0;32min\u001b[0m \u001b[0msdata\u001b[0m\u001b[0;34m.\u001b[0m\u001b[0mseqs_annot\u001b[0m\u001b[0;34m\u001b[0m\u001b[0;34m\u001b[0m\u001b[0m\n\u001b[1;32m     10\u001b[0m     \u001b[0;32massert\u001b[0m \u001b[0;34m\"evolved_5_score\"\u001b[0m \u001b[0;32min\u001b[0m \u001b[0msdata\u001b[0m\u001b[0;34m.\u001b[0m\u001b[0mseqs_annot\u001b[0m\u001b[0;34m\u001b[0m\u001b[0;34m\u001b[0m\u001b[0m\n\u001b[0;32m---> 11\u001b[0;31m     \u001b[0;32massert\u001b[0m \u001b[0mlen\u001b[0m\u001b[0;34m(\u001b[0m\u001b[0mevolved_seqs\u001b[0m\u001b[0;34m)\u001b[0m \u001b[0;34m==\u001b[0m \u001b[0;36m5\u001b[0m\u001b[0;34m\u001b[0m\u001b[0;34m\u001b[0m\u001b[0m\n\u001b[0m\u001b[1;32m     12\u001b[0m \u001b[0mtest_evolve_seqs_sdata\u001b[0m\u001b[0;34m(\u001b[0m\u001b[0mmodel\u001b[0m\u001b[0;34m,\u001b[0m \u001b[0msdata_subset\u001b[0m\u001b[0;34m)\u001b[0m\u001b[0;34m\u001b[0m\u001b[0;34m\u001b[0m\u001b[0m\n",
      "\u001b[0;31mTypeError\u001b[0m: object of type 'NoneType' has no len()"
     ]
    }
   ],
   "source": [
    "def test_evolve_seqs_sdata(model, sdata):\n",
    "    evolved_seqs = eu.interpret.evolve_seqs_sdata(\n",
    "        model,\n",
    "        sdata,\n",
    "        rounds=5,\n",
    "        force_different=True,\n",
    "        return_seqs=True\n",
    "    )\n",
    "    assert \"original_score\" in sdata.seqs_annot\n",
    "    assert \"evolved_5_score\" in sdata.seqs_annot\n",
    "    assert len(evolved_seqs) == 5\n",
    "test_evolve_seqs_sdata(model, sdata_subset)"
   ]
  },
  {
   "cell_type": "markdown",
   "id": "894b2fbd",
   "metadata": {},
   "source": [
    "### Feature implantation"
   ]
  },
  {
   "cell_type": "code",
   "execution_count": 31,
   "id": "47f7c79d-f0f2-4955-ac34-ec652d55ac71",
   "metadata": {},
   "outputs": [],
   "source": [
    "# Prep data\n",
    "model = eu.models.DeepBind(input_len=66, output_dim=1)\n",
    "seq = sdata.seqs[0]\n",
    "ohe_seq = eu.pp.ohe_seq(seq)\n",
    "meme = eu.dl.motif.MinimalMEME(path=\"../../_data/CPEs.meme\")\n",
    "motif = meme.motifs[\"TATA\"]\n",
    "name = motif.name\n",
    "pfm = motif.pfm\n",
    "consensus = motif.consensus\n",
    "pos = 2"
   ]
  },
  {
   "cell_type": "code",
   "execution_count": 32,
   "id": "fb6c0d5f-b3dd-41ed-90a1-d59312a95471",
   "metadata": {},
   "outputs": [
    {
     "data": {
      "text/plain": [
       "'TGCCCCTATAAATACCCCGAGTTCTAAGGATGCGAATAACACAAAAAGCCGCGATCTTAAACGTTCTACACTTCTAAGGTCTGCATGAGCGAACCGAAAC'"
      ]
     },
     "execution_count": 32,
     "metadata": {},
     "output_type": "execute_result"
    }
   ],
   "source": [
    "implanted_seq = eu.pp.feature_implant_seq(seq, consensus, pos, encoding=\"str\")"
   ]
  },
  {
   "cell_type": "code",
   "execution_count": 34,
   "id": "cccce631",
   "metadata": {},
   "outputs": [
    {
     "data": {
      "text/plain": [
       "16"
      ]
     },
     "execution_count": 34,
     "metadata": {},
     "output_type": "execute_result"
    }
   ],
   "source": [
    "len(consensus)"
   ]
  },
  {
   "cell_type": "code",
   "execution_count": 35,
   "id": "76126e2e-2b01-439c-96dd-b9700da22d7d",
   "metadata": {},
   "outputs": [],
   "source": [
    "implanted_seqs = eu.pp.feature_implant_across_seq(seq, consensus, encoding=\"str\")"
   ]
  },
  {
   "cell_type": "code",
   "execution_count": 36,
   "id": "9362568b",
   "metadata": {},
   "outputs": [
    {
     "data": {
      "text/plain": [
       "85"
      ]
     },
     "execution_count": 36,
     "metadata": {},
     "output_type": "execute_result"
    }
   ],
   "source": [
    "len(implanted_seqs)"
   ]
  },
  {
   "cell_type": "code",
   "execution_count": 58,
   "id": "f7889ad6-c0c0-465c-b1a7-5aeee7722ddb",
   "metadata": {},
   "outputs": [],
   "source": [
    "implanted_seq = eu.pp.feature_implant_seq(ohe_seq, pfm, pos, encoding=\"onehot\")"
   ]
  },
  {
   "cell_type": "code",
   "execution_count": 63,
   "id": "1c9b62c5",
   "metadata": {},
   "outputs": [
    {
     "data": {
      "text/plain": [
       "array([[ True,  True,  True,  True],\n",
       "       [ True,  True,  True,  True],\n",
       "       [ True,  True,  True,  True],\n",
       "       [ True,  True,  True,  True],\n",
       "       [ True,  True,  True,  True],\n",
       "       [ True,  True,  True,  True],\n",
       "       [ True,  True,  True,  True],\n",
       "       [ True,  True,  True,  True],\n",
       "       [ True,  True,  True,  True],\n",
       "       [ True,  True,  True,  True],\n",
       "       [ True,  True,  True,  True],\n",
       "       [ True,  True,  True,  True],\n",
       "       [ True,  True,  True,  True],\n",
       "       [ True,  True,  True,  True],\n",
       "       [ True,  True,  True,  True],\n",
       "       [ True,  True,  True,  True]])"
      ]
     },
     "execution_count": 63,
     "metadata": {},
     "output_type": "execute_result"
    }
   ],
   "source": [
    "implanted_seq.transpose()[2:18] == pfm"
   ]
  },
  {
   "cell_type": "code",
   "execution_count": 54,
   "id": "63b0da99-d550-4aa7-9a35-b56084281cda",
   "metadata": {},
   "outputs": [],
   "source": [
    "implanted_seqs = eu.pp.feature_implant_across_seq(ohe_seq, pfm, encoding=\"onehot\")"
   ]
  },
  {
   "cell_type": "code",
   "execution_count": 56,
   "id": "7547240f",
   "metadata": {},
   "outputs": [
    {
     "data": {
      "text/plain": [
       "array([[0.1275, 0.3765, 0.1195, 0.3765],\n",
       "       [0.1575, 0.3985, 0.199 , 0.2455],\n",
       "       [0.249 , 0.303 , 0.197 , 0.251 ],\n",
       "       [0.1235, 0.655 , 0.0755, 0.1455],\n",
       "       [0.01  , 0.002 , 0.002 , 0.986 ],\n",
       "       [0.968 , 0.    , 0.    , 0.032 ],\n",
       "       [0.002 , 0.014 , 0.006 , 0.978 ],\n",
       "       [0.992 , 0.    , 0.002 , 0.006 ],\n",
       "       [0.653 , 0.012 , 0.002 , 0.333 ],\n",
       "       [0.974 , 0.    , 0.008 , 0.018 ],\n",
       "       [0.341 , 0.028 , 0.036 , 0.5955],\n",
       "       [0.6955, 0.0815, 0.1195, 0.1035],\n",
       "       [0.1255, 0.432 , 0.3165, 0.1255],\n",
       "       [0.291 , 0.418 , 0.175 , 0.1155],\n",
       "       [0.263 , 0.3445, 0.1755, 0.2175],\n",
       "       [0.307 , 0.3085, 0.2365, 0.1475]])"
      ]
     },
     "execution_count": 56,
     "metadata": {},
     "output_type": "execute_result"
    }
   ],
   "source": [
    "pfm"
   ]
  },
  {
   "cell_type": "code",
   "execution_count": 57,
   "id": "1c6c72a0",
   "metadata": {},
   "outputs": [
    {
     "data": {
      "text/plain": [
       "array([[0.1275, 0.3765, 0.1195, 0.3765],\n",
       "       [0.1575, 0.3985, 0.199 , 0.2455],\n",
       "       [0.249 , 0.303 , 0.197 , 0.251 ],\n",
       "       [0.1235, 0.655 , 0.0755, 0.1455],\n",
       "       [0.01  , 0.002 , 0.002 , 0.986 ],\n",
       "       [0.968 , 0.    , 0.    , 0.032 ],\n",
       "       [0.002 , 0.014 , 0.006 , 0.978 ],\n",
       "       [0.992 , 0.    , 0.002 , 0.006 ],\n",
       "       [0.653 , 0.012 , 0.002 , 0.333 ],\n",
       "       [0.974 , 0.    , 0.008 , 0.018 ],\n",
       "       [0.341 , 0.028 , 0.036 , 0.5955],\n",
       "       [0.6955, 0.0815, 0.1195, 0.1035],\n",
       "       [0.1255, 0.432 , 0.3165, 0.1255],\n",
       "       [0.291 , 0.418 , 0.175 , 0.1155],\n",
       "       [0.263 , 0.3445, 0.1755, 0.2175],\n",
       "       [0.307 , 0.3085, 0.2365, 0.1475],\n",
       "       [1.    , 0.    , 0.    , 0.    ],\n",
       "       [0.    , 0.    , 0.    , 1.    ],\n",
       "       [0.    , 0.    , 1.    , 0.    ],\n",
       "       [1.    , 0.    , 0.    , 0.    ],\n",
       "       [0.    , 0.    , 1.    , 0.    ],\n",
       "       [0.    , 0.    , 0.    , 1.    ],\n",
       "       [0.    , 0.    , 0.    , 1.    ],\n",
       "       [0.    , 1.    , 0.    , 0.    ],\n",
       "       [0.    , 0.    , 0.    , 1.    ],\n",
       "       [1.    , 0.    , 0.    , 0.    ],\n",
       "       [1.    , 0.    , 0.    , 0.    ],\n",
       "       [0.    , 0.    , 1.    , 0.    ],\n",
       "       [0.    , 0.    , 1.    , 0.    ],\n",
       "       [1.    , 0.    , 0.    , 0.    ],\n",
       "       [0.    , 0.    , 0.    , 1.    ],\n",
       "       [0.    , 0.    , 1.    , 0.    ],\n",
       "       [0.    , 1.    , 0.    , 0.    ],\n",
       "       [0.    , 0.    , 1.    , 0.    ],\n",
       "       [1.    , 0.    , 0.    , 0.    ],\n",
       "       [1.    , 0.    , 0.    , 0.    ],\n",
       "       [0.    , 0.    , 0.    , 1.    ],\n",
       "       [1.    , 0.    , 0.    , 0.    ],\n",
       "       [1.    , 0.    , 0.    , 0.    ],\n",
       "       [0.    , 1.    , 0.    , 0.    ],\n",
       "       [1.    , 0.    , 0.    , 0.    ],\n",
       "       [0.    , 1.    , 0.    , 0.    ],\n",
       "       [1.    , 0.    , 0.    , 0.    ],\n",
       "       [1.    , 0.    , 0.    , 0.    ],\n",
       "       [1.    , 0.    , 0.    , 0.    ],\n",
       "       [1.    , 0.    , 0.    , 0.    ],\n",
       "       [1.    , 0.    , 0.    , 0.    ],\n",
       "       [0.    , 0.    , 1.    , 0.    ],\n",
       "       [0.    , 1.    , 0.    , 0.    ],\n",
       "       [0.    , 1.    , 0.    , 0.    ],\n",
       "       [0.    , 0.    , 1.    , 0.    ],\n",
       "       [0.    , 1.    , 0.    , 0.    ],\n",
       "       [0.    , 0.    , 1.    , 0.    ],\n",
       "       [1.    , 0.    , 0.    , 0.    ],\n",
       "       [0.    , 0.    , 0.    , 1.    ],\n",
       "       [0.    , 1.    , 0.    , 0.    ],\n",
       "       [0.    , 0.    , 0.    , 1.    ],\n",
       "       [0.    , 0.    , 0.    , 1.    ],\n",
       "       [1.    , 0.    , 0.    , 0.    ],\n",
       "       [1.    , 0.    , 0.    , 0.    ],\n",
       "       [1.    , 0.    , 0.    , 0.    ],\n",
       "       [0.    , 1.    , 0.    , 0.    ],\n",
       "       [0.    , 0.    , 1.    , 0.    ],\n",
       "       [0.    , 0.    , 0.    , 1.    ],\n",
       "       [0.    , 0.    , 0.    , 1.    ],\n",
       "       [0.    , 1.    , 0.    , 0.    ],\n",
       "       [0.    , 0.    , 0.    , 1.    ],\n",
       "       [1.    , 0.    , 0.    , 0.    ],\n",
       "       [0.    , 1.    , 0.    , 0.    ],\n",
       "       [1.    , 0.    , 0.    , 0.    ],\n",
       "       [0.    , 1.    , 0.    , 0.    ],\n",
       "       [0.    , 0.    , 0.    , 1.    ],\n",
       "       [0.    , 0.    , 0.    , 1.    ],\n",
       "       [0.    , 1.    , 0.    , 0.    ],\n",
       "       [0.    , 0.    , 0.    , 1.    ],\n",
       "       [1.    , 0.    , 0.    , 0.    ],\n",
       "       [1.    , 0.    , 0.    , 0.    ],\n",
       "       [0.    , 0.    , 1.    , 0.    ],\n",
       "       [0.    , 0.    , 1.    , 0.    ],\n",
       "       [0.    , 0.    , 0.    , 1.    ],\n",
       "       [0.    , 1.    , 0.    , 0.    ],\n",
       "       [0.    , 0.    , 0.    , 1.    ],\n",
       "       [0.    , 0.    , 1.    , 0.    ],\n",
       "       [0.    , 1.    , 0.    , 0.    ],\n",
       "       [1.    , 0.    , 0.    , 0.    ],\n",
       "       [0.    , 0.    , 0.    , 1.    ],\n",
       "       [0.    , 0.    , 1.    , 0.    ],\n",
       "       [1.    , 0.    , 0.    , 0.    ],\n",
       "       [0.    , 0.    , 1.    , 0.    ],\n",
       "       [0.    , 1.    , 0.    , 0.    ],\n",
       "       [0.    , 0.    , 1.    , 0.    ],\n",
       "       [1.    , 0.    , 0.    , 0.    ],\n",
       "       [1.    , 0.    , 0.    , 0.    ],\n",
       "       [0.    , 1.    , 0.    , 0.    ],\n",
       "       [0.    , 1.    , 0.    , 0.    ],\n",
       "       [0.    , 0.    , 1.    , 0.    ],\n",
       "       [1.    , 0.    , 0.    , 0.    ],\n",
       "       [1.    , 0.    , 0.    , 0.    ],\n",
       "       [1.    , 0.    , 0.    , 0.    ],\n",
       "       [0.    , 1.    , 0.    , 0.    ]])"
      ]
     },
     "execution_count": 57,
     "metadata": {},
     "output_type": "execute_result"
    }
   ],
   "source": [
    "implanted_seqs[0][0:16].transpose() == pfm"
   ]
  },
  {
   "cell_type": "code",
   "execution_count": 39,
   "id": "a717fb84-9a25-4bf0-b63e-e0518ef567b7",
   "metadata": {},
   "outputs": [],
   "source": [
    "implanted_seqs = eu.pp.feature_implant_across_seq(ohe_seq, pfm, encoding=\"onehot\", onehot=True)"
   ]
  },
  {
   "cell_type": "code",
   "execution_count": 44,
   "id": "ff9b1e94",
   "metadata": {},
   "outputs": [
    {
     "data": {
      "text/plain": [
       "True"
      ]
     },
     "execution_count": 44,
     "metadata": {},
     "output_type": "execute_result"
    }
   ],
   "source": []
  },
  {
   "cell_type": "code",
   "execution_count": 46,
   "id": "f0a9c9aa-9ef4-4a92-accc-285b1977f572",
   "metadata": {},
   "outputs": [
    {
     "data": {
      "text/plain": [
       "85"
      ]
     },
     "execution_count": 46,
     "metadata": {},
     "output_type": "execute_result"
    }
   ],
   "source": [
    "len(eu.interpret.feature_implant_seq_sdata(\n",
    "    model, \n",
    "    sdata_subset, \n",
    "    seq_id=sdata_subset.names[0], \n",
    "    feature=consensus, \n",
    "    feature_name=name, \n",
    "    encoding=\"str\", \n",
    "    onehot=False, \n",
    "    device=\"cpu\", \n",
    "    store=False\n",
    "))"
   ]
  },
  {
   "cell_type": "code",
   "execution_count": 51,
   "id": "e1cdc6f3-34da-44b8-b170-b69682f07e70",
   "metadata": {},
   "outputs": [
    {
     "data": {
      "application/vnd.jupyter.widget-view+json": {
       "model_id": "06fbd4cea574469891be014aed0685ef",
       "version_major": 2,
       "version_minor": 0
      },
      "text/plain": [
       "Implanting feature in all seqs of sdata:   0%|          | 0/5 [00:00<?, ?it/s]"
      ]
     },
     "metadata": {},
     "output_type": "display_data"
    }
   ],
   "source": [
    "eu.interpret.feature_implant_seqs_sdata(\n",
    "    model,\n",
    "    sdata_subset,\n",
    "    feature=consensus,\n",
    "    seqsm_key=f\"{name}_slide\",\n",
    "    encoding=\"str\",\n",
    "    onehot=False,\n",
    "    device=\"cpu\"\n",
    ")"
   ]
  },
  {
   "cell_type": "code",
   "execution_count": 52,
   "id": "05aafd4b-35d6-4728-8522-467d22e349d7",
   "metadata": {},
   "outputs": [
    {
     "data": {
      "text/plain": [
       "(5, 85)"
      ]
     },
     "execution_count": 52,
     "metadata": {},
     "output_type": "execute_result"
    }
   ],
   "source": [
    "sdata.seqsm[\"TATA_slide\"].shape"
   ]
  },
  {
   "cell_type": "markdown",
   "id": "0d1adef6-4740-4696-8d8e-837d9af651ce",
   "metadata": {},
   "source": [
    "---"
   ]
  }
 ],
 "metadata": {
  "kernelspec": {
   "display_name": "Python 3.7.12 ('eugene')",
   "language": "python",
   "name": "python3"
  },
  "language_info": {
   "codemirror_mode": {
    "name": "ipython",
    "version": 3
   },
   "file_extension": ".py",
   "mimetype": "text/x-python",
   "name": "python",
   "nbconvert_exporter": "python",
   "pygments_lexer": "ipython3",
   "version": "3.7.12"
  },
  "vscode": {
   "interpreter": {
    "hash": "7782186cff5d7e5d5e3fe0a7e6ebf1d74655b3470c460e9b06cf809b4e9601e8"
   }
  }
 },
 "nbformat": 4,
 "nbformat_minor": 5
}

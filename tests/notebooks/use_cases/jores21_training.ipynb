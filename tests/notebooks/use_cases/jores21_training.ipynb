{
 "cells": [
  {
   "cell_type": "markdown",
   "metadata": {},
   "source": [
    "# Jores et al 2021 Training \n",
    "**Authorship:**\n",
    "Adam Klie, *08/11/2022*\n",
    "***\n",
    "**Description:**\n",
    "Notebook to perform simple training of models on the Jores et al dataset.\n",
    "***"
   ]
  },
  {
   "cell_type": "code",
   "execution_count": 2,
   "metadata": {},
   "outputs": [
    {
     "name": "stderr",
     "output_type": "stream",
     "text": [
      "Global seed set to 13\n",
      "2022-08-12 23:42:47.645958: W tensorflow/stream_executor/platform/default/dso_loader.cc:60] Could not load dynamic library 'libcudart.so.11.0'; dlerror: libcudart.so.11.0: cannot open shared object file: No such file or directory\n",
      "2022-08-12 23:42:47.646062: I tensorflow/stream_executor/cuda/cudart_stub.cc:29] Ignore above cudart dlerror if you do not have a GPU set up on your machine.\n"
     ]
    }
   ],
   "source": [
    "if 'autoreload' not in get_ipython().extension_manager.loaded:\n",
    "    %load_ext autoreload\n",
    "%autoreload 2\n",
    "\n",
    "import os\n",
    "import logging\n",
    "import torch\n",
    "import numpy as np\n",
    "import pandas as pd\n",
    "import eugene as eu"
   ]
  },
  {
   "cell_type": "code",
   "execution_count": 3,
   "metadata": {},
   "outputs": [],
   "source": [
    "eu.settings.dataset_dir = \"../../_data/datasets/jores21\"\n",
    "eu.settings.output_dir = \"../../_output/jores21\"\n",
    "eu.settings.logging_dir = \"../../_logs/jores21\"\n",
    "eu.settings.config_dir = \"../../_configs/jores21\"\n",
    "eu.settings.batch_size = 128\n",
    "eu.settings.dl_num_workers = 4\n",
    "#eu.settings.verbosity = logging.ERROR"
   ]
  },
  {
   "cell_type": "markdown",
   "metadata": {},
   "source": [
    "# Load in the `leaf`, `proto` and `combined` `SeqData`s "
   ]
  },
  {
   "cell_type": "code",
   "execution_count": 4,
   "metadata": {},
   "outputs": [
    {
     "data": {
      "text/plain": [
       "(SeqData object with = 65004 seqs\n",
       " seqs = (65004,)\n",
       " names = (65004,)\n",
       " rev_seqs = (65004,)\n",
       " ohe_seqs = (65004, 170, 4)\n",
       " ohe_rev_seqs = (65004, 170, 4)\n",
       " seqs_annot: 'GC', 'barcodes', 'batch', 'chromosome', 'end', 'enrichment', 'gene', 'mutations', 'set', 'sp', 'start', 'strand', 'train_val', 'type'\n",
       " pos_annot: None\n",
       " seqsm: None\n",
       " uns: None,\n",
       " SeqData object with = 68213 seqs\n",
       " seqs = (68213,)\n",
       " names = (68213,)\n",
       " rev_seqs = (68213,)\n",
       " ohe_seqs = (68213, 170, 4)\n",
       " ohe_rev_seqs = (68213, 170, 4)\n",
       " seqs_annot: 'GC', 'barcodes', 'batch', 'chromosome', 'end', 'enrichment', 'gene', 'mutations', 'set', 'sp', 'start', 'strand', 'train_val', 'type'\n",
       " pos_annot: None\n",
       " seqsm: None\n",
       " uns: None,\n",
       " SeqData object with = 133217 seqs\n",
       " seqs = (133217,)\n",
       " names = (133217,)\n",
       " rev_seqs = (133217,)\n",
       " ohe_seqs = (133217, 170, 4)\n",
       " ohe_rev_seqs = (133217, 170, 4)\n",
       " seqs_annot: 'GC', 'barcodes', 'batch', 'chromosome', 'end', 'enrichment', 'gene', 'mutations', 'set', 'sp', 'start', 'strand', 'train_val', 'type'\n",
       " pos_annot: None\n",
       " seqsm: None\n",
       " uns: None)"
      ]
     },
     "execution_count": 4,
     "metadata": {},
     "output_type": "execute_result"
    }
   ],
   "source": [
    "# Load in the preprocessed training data\n",
    "sdata_leaf = eu.dl.read(os.path.join(eu.settings.dataset_dir, \"leaf_processed_train.h5sd\"))\n",
    "sdata_proto = eu.dl.read(os.path.join(eu.settings.dataset_dir, \"proto_processed_train.h5sd\"))\n",
    "sdata_combined = eu.dl.concat([sdata_leaf, sdata_proto], keys=[\"leaf\", \"proto\"])\n",
    "sdata_leaf, sdata_proto, sdata_combined"
   ]
  },
  {
   "cell_type": "code",
   "execution_count": 5,
   "metadata": {},
   "outputs": [
    {
     "data": {
      "text/plain": [
       "78"
      ]
     },
     "execution_count": 5,
     "metadata": {},
     "output_type": "execute_result"
    }
   ],
   "source": [
    "# Grab initialization motifs\n",
    "core_promoter_elements = eu.utils.MinimalMEME(os.path.join(eu.settings.dataset_dir, 'CPEs.meme'))\n",
    "tf_groups = eu.utils.MinimalMEME(os.path.join(eu.settings.dataset_dir, 'TF-clusters.meme'))\n",
    "all_motifs = {**core_promoter_elements.motifs, **tf_groups.motifs}\n",
    "len(all_motifs)"
   ]
  },
  {
   "cell_type": "code",
   "execution_count": 6,
   "metadata": {},
   "outputs": [],
   "source": [
    "def prep_new_model(\n",
    "    seed,\n",
    "    arch,\n",
    "    config\n",
    "):\n",
    "    # Instantiate the model\n",
    "    model = eu.models.load_config(\n",
    "        arch=arch,\n",
    "        model_config=config\n",
    "    )\n",
    "\n",
    "    # Initialize the model prior to conv filter initialization\n",
    "    eu.models.base.init_weights(model)\n",
    "\n",
    "    # Initialize the conv filters\n",
    "    if arch == \"Jores21CNN\":\n",
    "        layer_name, kernel_name, kernel_number, module_number = \"biconv\", \"kernels\", 0, None\n",
    "    elif arch == \"CNN\":\n",
    "        layer_name, kernel_name, kernel_number, module_number = \"convnet\", None, None, 0\n",
    "    eu.models.init_from_motifs(\n",
    "        model, \n",
    "        all_motifs, \n",
    "        layer_name=layer_name,\n",
    "        kernel_name=kernel_name,\n",
    "        kernel_number=kernel_number,\n",
    "        module_number=module_number,\n",
    "    )\n",
    "\n",
    "    # Return the model\n",
    "    return model "
   ]
  },
  {
   "cell_type": "markdown",
   "metadata": {},
   "source": [
    "# Train leaf models"
   ]
  },
  {
   "cell_type": "code",
   "execution_count": null,
   "metadata": {},
   "outputs": [],
   "source": [
    "# Train 5 models with 5 different random initializations\n",
    "model_types = [\"CNN\", \"Jores21CNN\"]\n",
    "model_names = [\"ssCNN\", \"Jores21CNN\"]\n",
    "sdata_leaf_sub = sdata_leaf[:100]\n",
    "trials = 5\n",
    "for model_name, model_type in zip(model_names, model_types):\n",
    "    for trial in range(1, trials+1):\n",
    "        print(f\"{model_name} trial {trial}\")\n",
    "\n",
    "        # Initialize the model\n",
    "        leaf_model = prep_new_model(\n",
    "            arch=model_type, \n",
    "            config=os.path.join(eu.settings.config_dir, f\"{model_name}.yaml\"),\n",
    "            seed=13\n",
    "        )\n",
    "        # Train the model\n",
    "        eu.train.fit(\n",
    "            model=leaf_model, \n",
    "            sdata=sdata_leaf_sub, \n",
    "            #gpus=1, \n",
    "            target=\"enrichment\",\n",
    "            train_key=\"train_val\",\n",
    "            #epochs=25,\n",
    "            epochs=1,\n",
    "            name=model_name,\n",
    "            version=f\"test_leaf_trial_{trial}\",\n",
    "            seed=trial,\n",
    "            verbosity=logging.ERROR\n",
    "        )\n",
    "        # Get predictions on the training data\n",
    "        eu.predict.train_val_predictions(\n",
    "            leaf_model,\n",
    "            sdata=sdata_leaf_sub, \n",
    "            target=\"enrichment\",\n",
    "            train_key=\"train_val\",\n",
    "            name=model_name,\n",
    "            version=f\"test_leaf_trial_{trial}\",\n",
    "            prefix=f\"{model_name}_test_trial_{trial}_\"\n",
    "        )\n",
    "        del leaf_model\n",
    "    sdata_leaf_sub.write_h5sd(os.path.join(eu.settings.output_dir, \"leaf_sub_predictions.h5sd\"))"
   ]
  },
  {
   "cell_type": "markdown",
   "metadata": {},
   "source": [
    "# Train proto models"
   ]
  },
  {
   "cell_type": "code",
   "execution_count": null,
   "metadata": {},
   "outputs": [],
   "source": [
    "# Train 5 models with 5 different random initializations\n",
    "model_types = [\"CNN\", \"Jores21CNN\"]\n",
    "model_names = [\"ssCNN\", \"Jores21CNN\"]\n",
    "sdata_proto_sub = sdata_proto[:100]\n",
    "trials = 5\n",
    "for model_name, model_type in zip(model_names, model_types):\n",
    "    for trial in range(1, trials+1):\n",
    "        print(f\"{model_name} trial {trial}\")\n",
    "\n",
    "        # Initialize the model\n",
    "        proto_model = prep_new_model(\n",
    "            arch=model_type, \n",
    "            config=os.path.join(eu.settings.config_dir, f\"{model_name}.yaml\"),\n",
    "            seed=13\n",
    "        )\n",
    "        # Train the model\n",
    "        eu.train.fit(\n",
    "            model=proto_model, \n",
    "            sdata=sdata_proto_sub, \n",
    "            #gpus=1, \n",
    "            target=\"enrichment\",\n",
    "            train_key=\"train_val\",\n",
    "            #epochs=25,\n",
    "            epochs=1,\n",
    "            name=model_name,\n",
    "            version=f\"test_proto_trial_{trial}\",\n",
    "            seed=trial,\n",
    "            verbosity=logging.ERROR\n",
    "        )\n",
    "        # Get predictions on the training data\n",
    "        eu.predict.train_val_predictions(\n",
    "            proto_model,\n",
    "            sdata=sdata_proto_sub, \n",
    "            target=\"enrichment\",\n",
    "            train_key=\"train_val\",\n",
    "            name=model_name,\n",
    "            version=f\"test_proto_trial_{trial}\",\n",
    "            prefix=f\"{model_name}_test_trial_{trial}_\"\n",
    "        )\n",
    "        del proto_model\n",
    "    sdata_proto_sub.write_h5sd(os.path.join(eu.settings.output_dir, \"proto_sub_predictions.h5sd\"))"
   ]
  },
  {
   "cell_type": "markdown",
   "metadata": {},
   "source": [
    "# Train combined models"
   ]
  },
  {
   "cell_type": "code",
   "execution_count": null,
   "metadata": {},
   "outputs": [],
   "source": [
    "# Train 5 models with 5 different random initializations\n",
    "model_types = [\"CNN\", \"Jores21CNN\"]\n",
    "model_names = [\"ssCNN\", \"Jores21CNN\"]\n",
    "sdata_combined_sub = sdata_combined[:100]\n",
    "trials = 5\n",
    "for model_name, model_type in zip(model_names, model_types):\n",
    "    for trial in range(1, trials+1):\n",
    "        print(f\"{model_name} trial {trial}\")\n",
    "\n",
    "        # Initialize the model\n",
    "        combined_model = prep_new_model(\n",
    "            arch=model_type, \n",
    "            config=os.path.join(eu.settings.config_dir, f\"{model_name}.yaml\"),\n",
    "            seed=13\n",
    "        )\n",
    "        # Train the model\n",
    "        eu.train.fit(\n",
    "            model=combined_model, \n",
    "            sdata=sdata_combined_sub, \n",
    "            #gpus=1, \n",
    "            target=\"enrichment\",\n",
    "            train_key=\"train_val\",\n",
    "            #epochs=25,\n",
    "            epochs=1,\n",
    "            name=model_name,\n",
    "            version=f\"test_combined_trial_{trial}\",\n",
    "            seed=trial,\n",
    "            verbosity=logging.ERROR\n",
    "        )\n",
    "        # Get predictions on the training data\n",
    "        eu.predict.train_val_predictions(\n",
    "            combined_model,\n",
    "            sdata=sdata_combined_sub, \n",
    "            target=\"enrichment\",\n",
    "            train_key=\"train_val\",\n",
    "            name=model_name,\n",
    "            version=f\"test_combined_trial_{trial}\",\n",
    "            prefix=f\"{model_name}_test_trial_{trial}_\"\n",
    "        )\n",
    "        del combined_model\n",
    "sdata_combined_sub.write_h5sd(os.path.join(eu.settings.output_dir, \"combined_sub_predictions.h5sd\"))"
   ]
  },
  {
   "cell_type": "markdown",
   "metadata": {},
   "source": [
    "---"
   ]
  },
  {
   "cell_type": "markdown",
   "metadata": {},
   "source": [
    "# Scratch"
   ]
  },
  {
   "cell_type": "code",
   "execution_count": null,
   "metadata": {},
   "outputs": [],
   "source": [
    "# Test conv kernel initialization, this needs a fix!\n",
    "cnn = prep_new_model(seed=0, arch=\"CNN\", config=os.path.join(eu.settings.config_dir, \"ssCNN.yaml\"))\n",
    "jores = prep_new_model(seed=0, arch=\"Jores21CNN\", config=os.path.join(eu.settings.config_dir, \"Jores21CNN.yaml\"))\n",
    "torch.all(cnn.convnet.module[0].weight[0] == jores.biconv.kernels[0][0])"
   ]
  }
 ],
 "metadata": {
  "kernelspec": {
   "display_name": "Python 3.7.13 64-bit",
   "language": "python",
   "name": "python3"
  },
  "language_info": {
   "codemirror_mode": {
    "name": "ipython",
    "version": 3
   },
   "file_extension": ".py",
   "mimetype": "text/x-python",
   "name": "python",
   "nbconvert_exporter": "python",
   "pygments_lexer": "ipython3",
   "version": "3.7.13"
  },
  "orig_nbformat": 4,
  "vscode": {
   "interpreter": {
    "hash": "949777d72b0d2535278d3dc13498b2535136f6dfe0678499012e853ee9abcab1"
   }
  }
 },
 "nbformat": 4,
 "nbformat_minor": 2
}

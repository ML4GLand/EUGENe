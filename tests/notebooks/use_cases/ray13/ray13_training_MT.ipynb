{
 "cells": [
  {
   "cell_type": "markdown",
   "id": "b4ffcaef",
   "metadata": {},
   "source": [
    "# Ray et al 2013 Multi Task Training \n",
    "**Authorship:**\n",
    "Adam Klie, *08/31/2022*\n",
    "***\n",
    "**Description:**\n",
    "Notebook to perform simple training of *multi task* models on the Ray et al dataset.\n",
    "***"
   ]
  },
  {
   "cell_type": "code",
   "execution_count": 1,
   "id": "794120f3-bd89-42a9-8caf-3b666ae6ae6f",
   "metadata": {
    "execution": {
     "iopub.execute_input": "2022-08-26T23:42:21.353446Z",
     "iopub.status.busy": "2022-08-26T23:42:21.353086Z",
     "iopub.status.idle": "2022-08-26T23:42:25.737120Z",
     "shell.execute_reply": "2022-08-26T23:42:25.735799Z",
     "shell.execute_reply.started": "2022-08-26T23:42:21.353412Z"
    },
    "tags": []
   },
   "outputs": [
    {
     "name": "stderr",
     "output_type": "stream",
     "text": [
      "Global seed set to 13\n",
      "2022-09-03 17:38:02.838523: W tensorflow/stream_executor/platform/default/dso_loader.cc:64] Could not load dynamic library 'libcudart.so.11.0'; dlerror: libcudart.so.11.0: cannot open shared object file: No such file or directory\n",
      "2022-09-03 17:38:02.838581: I tensorflow/stream_executor/cuda/cudart_stub.cc:29] Ignore above cudart dlerror if you do not have a GPU set up on your machine.\n",
      "/workspaces/EUGENe/eugene/external/kipoi_veff/seqplotting_deps.py:36: FutureWarning: arrays to stack must be passed as a \"sequence\" type such as list or tuple. Support for non-sequence iterables such as generators is deprecated as of NumPy 1.16 and will raise an error in the future.\n",
      "  min_coords = np.vstack(data.min(0) for data in polygons_data).min(0)\n",
      "/workspaces/EUGENe/eugene/external/kipoi_veff/seqplotting_deps.py:37: FutureWarning: arrays to stack must be passed as a \"sequence\" type such as list or tuple. Support for non-sequence iterables such as generators is deprecated as of NumPy 1.16 and will raise an error in the future.\n",
      "  max_coords = np.vstack(data.max(0) for data in polygons_data).max(0)\n"
     ]
    }
   ],
   "source": [
    "if 'autoreload' not in get_ipython().extension_manager.loaded:\n",
    "    %load_ext autoreload\n",
    "%autoreload 2\n",
    "\n",
    "import os\n",
    "import logging\n",
    "import torch\n",
    "import numpy as np\n",
    "import pandas as pd\n",
    "import eugene as eu"
   ]
  },
  {
   "cell_type": "code",
   "execution_count": 2,
   "id": "3ea64720",
   "metadata": {},
   "outputs": [],
   "source": [
    "eu.settings.dataset_dir = \"../../../_datasets/ray13\"\n",
    "eu.settings.output_dir = \"../../../_output/ray13\"\n",
    "eu.settings.logging_dir = \"../../../_logs/ray13\"\n",
    "eu.settings.config_dir = \"../../../_configs/ray13\"\n",
    "eu.settings.verbosity = logging.ERROR\n",
    "\n",
    "# Test experimentally\n",
    "eu.settings.dl_num_workers = 4\n",
    "eu.settings.batch_size = 1024\n",
    "eu.settings.dl_pin_memory_gpu_training = True"
   ]
  },
  {
   "cell_type": "code",
   "execution_count": 3,
   "id": "cdf28384-5f24-4a86-8b11-ba91089f7005",
   "metadata": {
    "execution": {
     "iopub.execute_input": "2022-08-26T23:42:25.740394Z",
     "iopub.status.busy": "2022-08-26T23:42:25.739726Z",
     "iopub.status.idle": "2022-08-26T23:42:34.146785Z",
     "shell.execute_reply": "2022-08-26T23:42:34.145797Z",
     "shell.execute_reply.started": "2022-08-26T23:42:25.740342Z"
    },
    "tags": []
   },
   "outputs": [],
   "source": [
    "sdata_training = eu.dl.read_h5sd(os.path.join(eu.settings.dataset_dir, eu.settings.dataset_dir, \"norm_setA_MT_sub.h5sd\"))"
   ]
  },
  {
   "cell_type": "code",
   "execution_count": 5,
   "id": "e58a8235",
   "metadata": {},
   "outputs": [],
   "source": [
    "# Grab the prediction columns\n",
    "target_mask = sdata_training.seqs_annot.columns.str.contains(\"RNCMPT\")\n",
    "target_cols = sdata_training.seqs_annot.columns[target_mask]"
   ]
  },
  {
   "cell_type": "code",
   "execution_count": 8,
   "id": "af2abef1",
   "metadata": {},
   "outputs": [],
   "source": [
    "model_version = 0"
   ]
  },
  {
   "cell_type": "code",
   "execution_count": 12,
   "id": "1ffd6106",
   "metadata": {},
   "outputs": [
    {
     "name": "stdout",
     "output_type": "stream",
     "text": [
      "Model: DeepBind\n",
      "Input length: 41\n",
      "Output dimension: 233\n",
      "Strand: ss\n",
      "Task: regression\n",
      "Aggregation: None\n",
      "Loss function: mse_loss\n",
      "Optimizer: sgd\n",
      "\tOptimizer parameters: {}\n",
      "Learning rate: 0.0005\n",
      "Scheduler: lr_scheduler\n",
      "Scheduler patience: 3\n"
     ]
    },
    {
     "data": {
      "text/plain": [
       "DeepBind(\n",
       "  (hp_metric): R2Score()\n",
       "  (max_pool): MaxPool1d(kernel_size=8, stride=8, padding=0, dilation=1, ceil_mode=False)\n",
       "  (convnet): BasicConv1D(\n",
       "    (module): Sequential(\n",
       "      (0): Conv1d(4, 512, kernel_size=(16,), stride=(1,))\n",
       "      (1): ReLU()\n",
       "      (2): Dropout(p=0.5, inplace=False)\n",
       "      (3): BatchNorm1d(512, eps=1e-05, momentum=0.1, affine=True, track_running_stats=True)\n",
       "    )\n",
       "  )\n",
       "  (fcn): BasicFullyConnectedModule(\n",
       "    (module): Sequential(\n",
       "      (0): Linear(in_features=1664, out_features=1024, bias=True)\n",
       "      (1): ReLU()\n",
       "      (2): Dropout(p=0.5, inplace=False)\n",
       "      (3): BatchNorm1d(1024, eps=1e-05, momentum=0.1, affine=True, track_running_stats=True)\n",
       "      (4): Linear(in_features=1024, out_features=233, bias=True)\n",
       "    )\n",
       "  )\n",
       ")"
      ]
     },
     "execution_count": 12,
     "metadata": {},
     "output_type": "execute_result"
    }
   ],
   "source": [
    "conv_dropout = 0.5\n",
    "fc_dropout = 0.5\n",
    "batchnorm = True\n",
    "model = eu.models.DeepBind(\n",
    "    input_len=41, # Length of padded sequences\n",
    "    output_dim=len(target_cols), # Number of multitask outputs\n",
    "    strand=\"ss\",\n",
    "    task=\"regression\",\n",
    "    optimizer=\"sgd\",\n",
    "    lr=0.0005,\n",
    "    scheduler_patience=3,\n",
    "    conv_kwargs=dict(channels=[4, 512], conv_kernels=[16], dropout_rates=conv_dropout, batchnorm=batchnorm),\n",
    "    mp_kwargs=dict(kernel_size=8),\n",
    "    fc_kwargs=dict(hidden_dims=[1024], dropout_rate=fc_dropout, batchnorm=batchnorm)\n",
    ")\n",
    "\n",
    "model.summary()\n",
    "model"
   ]
  },
  {
   "cell_type": "code",
   "execution_count": 13,
   "id": "fa423507",
   "metadata": {},
   "outputs": [
    {
     "name": "stderr",
     "output_type": "stream",
     "text": [
      "Global seed set to 0\n",
      "GPU available: False, used: False\n",
      "TPU available: False, using: 0 TPU cores\n",
      "IPU available: False, using: 0 IPUs\n",
      "\n",
      "  | Name      | Type                      | Params\n",
      "--------------------------------------------------------\n",
      "0 | hp_metric | R2Score                   | 0     \n",
      "1 | max_pool  | MaxPool1d                 | 0     \n",
      "2 | convnet   | BasicConv1D               | 34.3 K\n",
      "3 | fcn       | BasicFullyConnectedModule | 1.9 M \n",
      "--------------------------------------------------------\n",
      "2.0 M     Trainable params\n",
      "0         Non-trainable params\n",
      "2.0 M     Total params\n",
      "7.921     Total estimated model params size (MB)\n"
     ]
    },
    {
     "name": "stdout",
     "output_type": "stream",
     "text": [
      "Dropping 0 sequences with NaN targets.\n",
      "No transforms given, assuming just need to tensorize).\n",
      "No transforms given, assuming just need to tensorize).\n"
     ]
    },
    {
     "data": {
      "application/vnd.jupyter.widget-view+json": {
       "model_id": "395f2dd45b81494592200cb63b64b7db",
       "version_major": 2,
       "version_minor": 0
      },
      "text/plain": [
       "Validation sanity check: 0it [00:00, ?it/s]"
      ]
     },
     "metadata": {},
     "output_type": "display_data"
    },
    {
     "name": "stderr",
     "output_type": "stream",
     "text": [
      "Global seed set to 0\n",
      "/home/vscode/.local/lib/python3.7/site-packages/pytorch_lightning/trainer/data_loading.py:433: UserWarning: The number of training samples (2) is smaller than the logging interval Trainer(log_every_n_steps=50). Set a lower value for log_every_n_steps if you want to see logs for the training epoch.\n",
      "  f\"The number of training samples ({self.num_training_batches}) is smaller than the logging interval\"\n"
     ]
    },
    {
     "data": {
      "application/vnd.jupyter.widget-view+json": {
       "model_id": "0bb48cb0d9bb45e292a95c3c3993d596",
       "version_major": 2,
       "version_minor": 0
      },
      "text/plain": [
       "Training: 0it [00:00, ?it/s]"
      ]
     },
     "metadata": {},
     "output_type": "display_data"
    },
    {
     "data": {
      "application/vnd.jupyter.widget-view+json": {
       "model_id": "dc2ba5d106664acf8f07b6a1cc62f158",
       "version_major": 2,
       "version_minor": 0
      },
      "text/plain": [
       "Validating: 0it [00:00, ?it/s]"
      ]
     },
     "metadata": {},
     "output_type": "display_data"
    },
    {
     "name": "stderr",
     "output_type": "stream",
     "text": [
      "Metric val_loss improved. New best score: 1.062\n"
     ]
    },
    {
     "data": {
      "application/vnd.jupyter.widget-view+json": {
       "model_id": "e034ccaf2d374cb3b456ad84fee3fc68",
       "version_major": 2,
       "version_minor": 0
      },
      "text/plain": [
       "Validating: 0it [00:00, ?it/s]"
      ]
     },
     "metadata": {},
     "output_type": "display_data"
    },
    {
     "data": {
      "application/vnd.jupyter.widget-view+json": {
       "model_id": "441f843175b948c9b11dcda100aa6a5c",
       "version_major": 2,
       "version_minor": 0
      },
      "text/plain": [
       "Validating: 0it [00:00, ?it/s]"
      ]
     },
     "metadata": {},
     "output_type": "display_data"
    },
    {
     "data": {
      "application/vnd.jupyter.widget-view+json": {
       "model_id": "c4bf05a3c5934845a67495bc3a4ffc19",
       "version_major": 2,
       "version_minor": 0
      },
      "text/plain": [
       "Validating: 0it [00:00, ?it/s]"
      ]
     },
     "metadata": {},
     "output_type": "display_data"
    },
    {
     "data": {
      "application/vnd.jupyter.widget-view+json": {
       "model_id": "170fce8133fe4de2b36dc7455f75aad9",
       "version_major": 2,
       "version_minor": 0
      },
      "text/plain": [
       "Validating: 0it [00:00, ?it/s]"
      ]
     },
     "metadata": {},
     "output_type": "display_data"
    },
    {
     "name": "stderr",
     "output_type": "stream",
     "text": [
      "GPU available: False, used: False\n",
      "TPU available: False, using: 0 TPU cores\n",
      "IPU available: False, using: 0 IPUs\n",
      "GPU available: False, used: False\n",
      "TPU available: False, using: 0 TPU cores\n",
      "IPU available: False, using: 0 IPUs\n"
     ]
    },
    {
     "name": "stdout",
     "output_type": "stream",
     "text": [
      "No transforms given, assuming just need to tensorize).\n",
      "No transforms given, assuming just need to tensorize).\n"
     ]
    },
    {
     "name": "stderr",
     "output_type": "stream",
     "text": [
      "/home/vscode/.local/lib/python3.7/site-packages/pytorch_lightning/trainer/data_loading.py:133: UserWarning: The dataloader, predict_dataloader 0, does not have many workers which may be a bottleneck. Consider increasing the value of the `num_workers` argument` (try 4 which is the number of cpus on this machine) in the `DataLoader` init to improve performance.\n",
      "  f\"The dataloader, {name}, does not have many workers which may be a bottleneck.\"\n"
     ]
    },
    {
     "data": {
      "application/vnd.jupyter.widget-view+json": {
       "model_id": "6e73e21a38d44fc3bcea0022b79a60f0",
       "version_major": 2,
       "version_minor": 0
      },
      "text/plain": [
       "Predicting: 0it [00:00, ?it/s]"
      ]
     },
     "metadata": {},
     "output_type": "display_data"
    },
    {
     "data": {
      "application/vnd.jupyter.widget-view+json": {
       "model_id": "a441e8de853b4af1a66d3299391bab26",
       "version_major": 2,
       "version_minor": 0
      },
      "text/plain": [
       "Predicting: 0it [00:00, ?it/s]"
      ]
     },
     "metadata": {},
     "output_type": "display_data"
    },
    {
     "name": "stderr",
     "output_type": "stream",
     "text": [
      "/home/vscode/.local/lib/python3.7/site-packages/pandas/core/frame.py:3641: PerformanceWarning: DataFrame is highly fragmented.  This is usually the result of calling `frame.insert` many times, which has poor performance.  Consider joining all columns at once using pd.concat(axis=1) instead.  To get a de-fragmented frame, use `newframe = frame.copy()`\n",
      "  self[k1] = value[k2]\n"
     ]
    },
    {
     "name": "stdout",
     "output_type": "stream",
     "text": [
      "SeqData object modified:\n",
      "    seqs_annot:\n",
      "        + RNCMPT00234_predictions, RNCMPT00054_predictions, RNCMPT00285_predictions, RNCMPT00124_predictions, RNCMPT00224_predictions, RNCMPT00209_predictions, RNCMPT00037_predictions, RNCMPT00187_predictions, RNCMPT00284_predictions, RNCMPT00156_predictions, RNCMPT00126_predictions, RNCMPT00259_predictions, RNCMPT00088_predictions, RNCMPT00001_predictions, RNCMPT00216_predictions, RNCMPT00073_predictions, RNCMPT00050_predictions, RNCMPT00199_predictions, RNCMPT00028_predictions, RNCMPT00131_predictions, RNCMPT00217_predictions, RNCMPT00177_predictions, RNCMPT00225_predictions, RNCMPT00081_predictions, RNCMPT00253_predictions, RNCMPT00185_predictions, RNCMPT00257_predictions, RNCMPT00134_predictions, RNCMPT00159_predictions, RNCMPT00165_predictions, RNCMPT00120_predictions, RNCMPT00077_predictions, RNCMPT00155_predictions, RNCMPT00140_predictions, RNCMPT00279_predictions, RNCMPT00235_predictions, RNCMPT00160_predictions, RNCMPT00085_predictions, RNCMPT00206_predictions, RNCMPT00044_predictions, RNCMPT00034_predictions, RNCMPT00147_predictions, RNCMPT00273_predictions, RNCMPT00161_predictions, RNCMPT00278_predictions, RNCMPT00100_predictions, RNCMPT00003_predictions, RNCMPT00205_predictions, RNCMPT00105_predictions, RNCMPT00047_predictions, RNCMPT00084_predictions, RNCMPT00057_predictions, RNCMPT00228_predictions, RNCMPT00122_predictions, RNCMPT00075_predictions, RNCMPT00031_predictions, RNCMPT00163_predictions, RNCMPT00079_predictions, RNCMPT00040_predictions, RNCMPT00053_predictions, RNCMPT00022_predictions, RNCMPT00111_predictions, RNCMPT00280_predictions, RNCMPT00169_predictions, RNCMPT00056_predictions, RNCMPT00027_predictions, RNCMPT00232_predictions, RNCMPT00123_predictions, RNCMPT00152_predictions, RNCMPT00248_predictions, RNCMPT00171_predictions, RNCMPT00119_predictions, RNCMPT00162_predictions, RNCMPT00245_predictions, RNCMPT00157_predictions, RNCMPT00032_predictions, RNCMPT00256_predictions, RNCMPT00114_predictions, RNCMPT00107_predictions, RNCMPT00176_predictions, RNCMPT00014_predictions, RNCMPT00291_predictions, RNCMPT00007_predictions, RNCMPT00249_predictions, RNCMPT00064_predictions, RNCMPT00143_predictions, RNCMPT00132_predictions, RNCMPT00137_predictions, RNCMPT00219_predictions, RNCMPT00045_predictions, RNCMPT00251_predictions, RNCMPT00080_predictions, RNCMPT00118_predictions, RNCMPT00164_predictions, RNCMPT00017_predictions, RNCMPT00121_predictions, RNCMPT00138_predictions, RNCMPT00071_predictions, RNCMPT00133_predictions, RNCMPT00011_predictions, RNCMPT00104_predictions, RNCMPT00016_predictions, RNCMPT00043_predictions, RNCMPT00076_predictions, RNCMPT00268_predictions, RNCMPT00212_predictions, RNCMPT00182_predictions, RNCMPT00151_predictions, RNCMPT00041_predictions, RNCMPT00203_predictions, RNCMPT00042_predictions, RNCMPT00200_predictions, RNCMPT00051_predictions, RNCMPT00283_predictions, RNCMPT00142_predictions, RNCMPT00174_predictions, RNCMPT00023_predictions, RNCMPT00175_predictions, RNCMPT00150_predictions, RNCMPT00241_predictions, RNCMPT00181_predictions, RNCMPT00020_predictions, RNCMPT00035_predictions, RNCMPT00019_predictions, RNCMPT00029_predictions, RNCMPT00002_predictions, RNCMPT00116_predictions, RNCMPT00270_predictions, RNCMPT00095_predictions, RNCMPT00004_predictions, RNCMPT00288_predictions, RNCMPT00036_predictions, RNCMPT00146_predictions, RNCMPT00018_predictions, RNCMPT00103_predictions, RNCMPT00136_predictions, RNCMPT00263_predictions, RNCMPT00183_predictions, RNCMPT00158_predictions, RNCMPT00069_predictions, RNCMPT00197_predictions, RNCMPT00083_predictions, RNCMPT00281_predictions, RNCMPT00094_predictions, RNCMPT00033_predictions, RNCMPT00049_predictions, RNCMPT00112_predictions, RNCMPT00274_predictions, RNCMPT00012_predictions, RNCMPT00078_predictions, RNCMPT00246_predictions, RNCMPT00039_predictions, RNCMPT00055_predictions, RNCMPT00038_predictions, RNCMPT00261_predictions, RNCMPT00070_predictions, RNCMPT00093_predictions, RNCMPT00010_predictions, RNCMPT00229_predictions, RNCMPT00013_predictions, RNCMPT00262_predictions, RNCMPT00148_predictions, RNCMPT00236_predictions, RNCMPT00184_predictions, RNCMPT00237_predictions, RNCMPT00108_predictions, RNCMPT00282_predictions, RNCMPT00025_predictions, RNCMPT00086_predictions, RNCMPT00230_predictions, RNCMPT00082_predictions, RNCMPT00127_predictions, RNCMPT00063_predictions, RNCMPT00106_predictions, RNCMPT00254_predictions, RNCMPT00287_predictions, RNCMPT00024_predictions, RNCMPT00149_predictions, RNCMPT00218_predictions, RNCMPT00139_predictions, RNCMPT00153_predictions, RNCMPT00168_predictions, RNCMPT00026_predictions, RNCMPT00141_predictions, RNCMPT00005_predictions, RNCMPT00087_predictions, RNCMPT00090_predictions, RNCMPT00258_predictions, RNCMPT00117_predictions, RNCMPT00062_predictions, RNCMPT00179_predictions, RNCMPT00252_predictions, RNCMPT00099_predictions, RNCMPT00074_predictions, RNCMPT00186_predictions, RNCMPT00255_predictions, RNCMPT00096_predictions, RNCMPT00289_predictions, RNCMPT00089_predictions, RNCMPT00066_predictions, RNCMPT00272_predictions, RNCMPT00068_predictions, RNCMPT00202_predictions, RNCMPT00239_predictions, RNCMPT00240_predictions, RNCMPT00180_predictions, RNCMPT00021_predictions, RNCMPT00065_predictions, RNCMPT00113_predictions, RNCMPT00269_predictions, RNCMPT00046_predictions, RNCMPT00166_predictions, RNCMPT00170_predictions, RNCMPT00173_predictions, RNCMPT00238_predictions, RNCMPT00101_predictions, RNCMPT00059_predictions, RNCMPT00109_predictions, RNCMPT00167_predictions, RNCMPT00067_predictions, RNCMPT00052_predictions, RNCMPT00178_predictions, RNCMPT00220_predictions, RNCMPT00110_predictions, RNCMPT00172_predictions, RNCMPT00223_predictions, RNCMPT00265_predictions, RNCMPT00215_predictions, RNCMPT00226_predictions, RNCMPT00072_predictions, RNCMPT00091_predictions, RNCMPT00006_predictions, RNCMPT00102_predictions\n"
     ]
    }
   ],
   "source": [
    "# Train the model\n",
    "eu.train.fit(\n",
    "    model=model,\n",
    "    sdata=sdata_training,\n",
    "    #gpus=1,\n",
    "    target=target_cols,\n",
    "    train_key=\"train_val\",\n",
    "    epochs=5,\n",
    "    early_stopping_metric=\"val_loss\",\n",
    "    early_stopping_patience=5,\n",
    "    batch_size=64,\n",
    "    num_workers=4,\n",
    "    name=\"DeepBind_MT\",\n",
    "    seed=0,\n",
    "    version=f\"v{model_version}\",\n",
    "    verbosity=logging.ERROR\n",
    ")\n",
    "\n",
    "# Get predictions on the training data\n",
    "eu.settings.dl_num_workers = 0\n",
    "eu.predict.train_val_predictions(\n",
    "    model,\n",
    "    sdata=sdata_training, \n",
    "    target=target_cols,\n",
    "    train_key=\"train_val\",\n",
    "    name=\"DeepBind_MT\",\n",
    "    version=f\"v{model_version}\"\n",
    ")"
   ]
  },
  {
   "cell_type": "code",
   "execution_count": 18,
   "id": "ac2113ce",
   "metadata": {},
   "outputs": [
    {
     "ename": "",
     "evalue": "",
     "output_type": "error",
     "traceback": [
      "\u001b[1;31mThe Kernel crashed while executing code in the the current cell or a previous cell. Please review the code in the cell(s) to identify a possible cause of the failure. Click <a href='https://aka.ms/vscodeJupyterKernelCrash'>here</a> for more info. View Jupyter <a href='command:jupyter.viewOutput'>log</a> for further details."
     ]
    }
   ],
   "source": [
    "sdata_training.write_h5sd(os.path.join(eu.settings.output_dir, f\"norm_training_predictions_MT_v{model_version}.h5sd\"))"
   ]
  },
  {
   "cell_type": "code",
   "execution_count": null,
   "id": "43a67195",
   "metadata": {},
   "outputs": [],
   "source": [
    "model_version = model_version + 1"
   ]
  },
  {
   "cell_type": "markdown",
   "id": "9c341b39",
   "metadata": {},
   "source": [
    "---"
   ]
  },
  {
   "cell_type": "markdown",
   "id": "e29d8c64",
   "metadata": {},
   "source": [
    "# Scratch"
   ]
  }
 ],
 "metadata": {
  "kernelspec": {
   "display_name": "Python 3.7.13 64-bit",
   "language": "python",
   "name": "python3"
  },
  "language_info": {
   "codemirror_mode": {
    "name": "ipython",
    "version": 3
   },
   "file_extension": ".py",
   "mimetype": "text/x-python",
   "name": "python",
   "nbconvert_exporter": "python",
   "pygments_lexer": "ipython3",
   "version": "3.7.13"
  },
  "vscode": {
   "interpreter": {
    "hash": "949777d72b0d2535278d3dc13498b2535136f6dfe0678499012e853ee9abcab1"
   }
  }
 },
 "nbformat": 4,
 "nbformat_minor": 5
}

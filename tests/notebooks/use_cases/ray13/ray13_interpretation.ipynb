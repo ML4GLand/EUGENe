{
 "cells": [
  {
   "cell_type": "markdown",
   "metadata": {},
   "source": [
    "# Ray et al 2013 Intepretation\n",
    "**Authorship:**\n",
    "Adam Klie, *09/03/2022*\n",
    "***\n",
    "**Description:**\n",
    "Notebook to interpret the best trained models on the Ray et al dataset.\n",
    "***"
   ]
  },
  {
   "cell_type": "code",
   "execution_count": 1,
   "metadata": {},
   "outputs": [
    {
     "name": "stderr",
     "output_type": "stream",
     "text": [
      "Global seed set to 13\n",
      "2022-09-03 20:25:06.976903: W tensorflow/stream_executor/platform/default/dso_loader.cc:64] Could not load dynamic library 'libcudart.so.11.0'; dlerror: libcudart.so.11.0: cannot open shared object file: No such file or directory\n",
      "2022-09-03 20:25:06.976943: I tensorflow/stream_executor/cuda/cudart_stub.cc:29] Ignore above cudart dlerror if you do not have a GPU set up on your machine.\n",
      "/workspaces/EUGENe/eugene/external/kipoi_veff/seqplotting_deps.py:36: FutureWarning: arrays to stack must be passed as a \"sequence\" type such as list or tuple. Support for non-sequence iterables such as generators is deprecated as of NumPy 1.16 and will raise an error in the future.\n",
      "  min_coords = np.vstack(data.min(0) for data in polygons_data).min(0)\n",
      "/workspaces/EUGENe/eugene/external/kipoi_veff/seqplotting_deps.py:37: FutureWarning: arrays to stack must be passed as a \"sequence\" type such as list or tuple. Support for non-sequence iterables such as generators is deprecated as of NumPy 1.16 and will raise an error in the future.\n",
      "  max_coords = np.vstack(data.max(0) for data in polygons_data).max(0)\n"
     ]
    }
   ],
   "source": [
    "if 'autoreload' not in get_ipython().extension_manager.loaded:\n",
    "    %load_ext autoreload\n",
    "%autoreload 2\n",
    "\n",
    "import os\n",
    "import glob\n",
    "import logging\n",
    "import torch\n",
    "import numpy as np\n",
    "import pandas as pd\n",
    "import eugene as eu\n",
    "import matplotlib.pyplot as plt\n",
    "import matplotlib\n",
    "\n",
    "matplotlib.rcParams['pdf.fonttype'] = 42\n",
    "matplotlib.rcParams['ps.fonttype'] = 42"
   ]
  },
  {
   "cell_type": "code",
   "execution_count": 2,
   "metadata": {},
   "outputs": [],
   "source": [
    "eu.settings.dataset_dir = \"../../../_datasets/ray13\"\n",
    "eu.settings.output_dir = \"../../../_output/ray13\"\n",
    "eu.settings.logging_dir = \"../../../_logs/ray13\"\n",
    "eu.settings.config_dir = \"../../../_configs/ray13\"\n",
    "figure_dir = \"../../../_figures/ray13\"\n",
    "eu.settings.verbosity = logging.ERROR"
   ]
  },
  {
   "cell_type": "markdown",
   "metadata": {},
   "source": [
    "# Load the test `SeqData`"
   ]
  },
  {
   "cell_type": "code",
   "execution_count": 29,
   "metadata": {},
   "outputs": [
    {
     "data": {
      "text/plain": [
       "SeqData object with = 100 seqs\n",
       "seqs = (100,)\n",
       "names = (100,)\n",
       "rev_seqs = None\n",
       "ohe_seqs = (100, 41, 4)\n",
       "ohe_rev_seqs = None\n",
       "seqs_annot: 'Probe_Set', 'RNCMPT00001', 'RNCMPT00001_predictions_MT', 'RNCMPT00001_predictions_ST', 'RNCMPT00002', 'RNCMPT00002_predictions_MT', 'RNCMPT00002_predictions_ST', 'RNCMPT00003', 'RNCMPT00003_predictions_MT', 'RNCMPT00003_predictions_ST', 'RNCMPT00004', 'RNCMPT00004_predictions_MT', 'RNCMPT00004_predictions_ST', 'RNCMPT00005', 'RNCMPT00005_predictions_MT', 'RNCMPT00005_predictions_ST', 'RNCMPT00006', 'RNCMPT00006_predictions_MT', 'RNCMPT00007', 'RNCMPT00007_predictions_MT', 'RNCMPT00008', 'RNCMPT00009', 'RNCMPT00010', 'RNCMPT00010_predictions_MT', 'RNCMPT00011', 'RNCMPT00011_predictions_MT', 'RNCMPT00012', 'RNCMPT00012_predictions_MT', 'RNCMPT00013', 'RNCMPT00013_predictions_MT', 'RNCMPT00014', 'RNCMPT00014_predictions_MT', 'RNCMPT00015', 'RNCMPT00016', 'RNCMPT00016_predictions_MT', 'RNCMPT00017', 'RNCMPT00017_predictions_MT', 'RNCMPT00018', 'RNCMPT00018_predictions_MT', 'RNCMPT00019', 'RNCMPT00019_predictions_MT', 'RNCMPT00020', 'RNCMPT00020_predictions_MT', 'RNCMPT00021', 'RNCMPT00021_predictions_MT', 'RNCMPT00022', 'RNCMPT00022_predictions_MT', 'RNCMPT00023', 'RNCMPT00023_predictions_MT', 'RNCMPT00024', 'RNCMPT00024_predictions_MT', 'RNCMPT00025', 'RNCMPT00025_predictions_MT', 'RNCMPT00026', 'RNCMPT00026_predictions_MT', 'RNCMPT00027', 'RNCMPT00027_predictions_MT', 'RNCMPT00028', 'RNCMPT00028_predictions_MT', 'RNCMPT00029', 'RNCMPT00029_predictions_MT', 'RNCMPT00031', 'RNCMPT00031_predictions_MT', 'RNCMPT00032', 'RNCMPT00032_predictions_MT', 'RNCMPT00033', 'RNCMPT00033_predictions_MT', 'RNCMPT00034', 'RNCMPT00034_predictions_MT', 'RNCMPT00035', 'RNCMPT00035_predictions_MT', 'RNCMPT00036', 'RNCMPT00036_predictions_MT', 'RNCMPT00037', 'RNCMPT00037_predictions_MT', 'RNCMPT00038', 'RNCMPT00038_predictions_MT', 'RNCMPT00039', 'RNCMPT00039_predictions_MT', 'RNCMPT00040', 'RNCMPT00040_predictions_MT', 'RNCMPT00041', 'RNCMPT00041_predictions_MT', 'RNCMPT00042', 'RNCMPT00042_predictions_MT', 'RNCMPT00043', 'RNCMPT00043_predictions_MT', 'RNCMPT00044', 'RNCMPT00044_predictions_MT', 'RNCMPT00045', 'RNCMPT00045_predictions_MT', 'RNCMPT00046', 'RNCMPT00046_predictions_MT', 'RNCMPT00047', 'RNCMPT00047_predictions_MT', 'RNCMPT00049', 'RNCMPT00049_predictions_MT', 'RNCMPT00050', 'RNCMPT00050_predictions_MT', 'RNCMPT00051', 'RNCMPT00051_predictions_MT', 'RNCMPT00052', 'RNCMPT00052_predictions_MT', 'RNCMPT00053', 'RNCMPT00053_predictions_MT', 'RNCMPT00054', 'RNCMPT00054_predictions_MT', 'RNCMPT00055', 'RNCMPT00055_predictions_MT', 'RNCMPT00056', 'RNCMPT00056_predictions_MT', 'RNCMPT00057', 'RNCMPT00057_predictions_MT', 'RNCMPT00058', 'RNCMPT00059', 'RNCMPT00059_predictions_MT', 'RNCMPT00060', 'RNCMPT00061', 'RNCMPT00062', 'RNCMPT00062_predictions_MT', 'RNCMPT00063', 'RNCMPT00063_predictions_MT', 'RNCMPT00064', 'RNCMPT00064_predictions_MT', 'RNCMPT00065', 'RNCMPT00065_predictions_MT', 'RNCMPT00066', 'RNCMPT00066_predictions_MT', 'RNCMPT00067', 'RNCMPT00067_predictions_MT', 'RNCMPT00068', 'RNCMPT00068_predictions_MT', 'RNCMPT00069', 'RNCMPT00069_predictions_MT', 'RNCMPT00070', 'RNCMPT00070_predictions_MT', 'RNCMPT00071', 'RNCMPT00071_predictions_MT', 'RNCMPT00072', 'RNCMPT00072_predictions_MT', 'RNCMPT00073', 'RNCMPT00073_predictions_MT', 'RNCMPT00074', 'RNCMPT00074_predictions_MT', 'RNCMPT00075', 'RNCMPT00075_predictions_MT', 'RNCMPT00076', 'RNCMPT00076_predictions_MT', 'RNCMPT00077', 'RNCMPT00077_predictions_MT', 'RNCMPT00078', 'RNCMPT00078_predictions_MT', 'RNCMPT00079', 'RNCMPT00079_predictions_MT', 'RNCMPT00080', 'RNCMPT00080_predictions_MT', 'RNCMPT00081', 'RNCMPT00081_predictions_MT', 'RNCMPT00082', 'RNCMPT00082_predictions_MT', 'RNCMPT00083', 'RNCMPT00083_predictions_MT', 'RNCMPT00084', 'RNCMPT00084_predictions_MT', 'RNCMPT00085', 'RNCMPT00085_predictions_MT', 'RNCMPT00086', 'RNCMPT00086_predictions_MT', 'RNCMPT00087', 'RNCMPT00087_predictions_MT', 'RNCMPT00088', 'RNCMPT00088_predictions_MT', 'RNCMPT00089', 'RNCMPT00089_predictions_MT', 'RNCMPT00090', 'RNCMPT00090_predictions_MT', 'RNCMPT00091', 'RNCMPT00091_predictions_MT', 'RNCMPT00093', 'RNCMPT00093_predictions_MT', 'RNCMPT00094', 'RNCMPT00094_predictions_MT', 'RNCMPT00095', 'RNCMPT00095_predictions_MT', 'RNCMPT00096', 'RNCMPT00096_predictions_MT', 'RNCMPT00097', 'RNCMPT00099', 'RNCMPT00099_predictions_MT', 'RNCMPT00100', 'RNCMPT00100_predictions_MT', 'RNCMPT00101', 'RNCMPT00101_predictions_MT', 'RNCMPT00102', 'RNCMPT00102_predictions_MT', 'RNCMPT00103', 'RNCMPT00103_predictions_MT', 'RNCMPT00104', 'RNCMPT00104_predictions_MT', 'RNCMPT00105', 'RNCMPT00105_predictions_MT', 'RNCMPT00106', 'RNCMPT00106_predictions_MT', 'RNCMPT00107', 'RNCMPT00107_predictions_MT', 'RNCMPT00108', 'RNCMPT00108_predictions_MT', 'RNCMPT00109', 'RNCMPT00109_predictions_MT', 'RNCMPT00110', 'RNCMPT00110_predictions_MT', 'RNCMPT00111', 'RNCMPT00111_predictions_MT', 'RNCMPT00112', 'RNCMPT00112_predictions_MT', 'RNCMPT00113', 'RNCMPT00113_predictions_MT', 'RNCMPT00114', 'RNCMPT00114_predictions_MT', 'RNCMPT00116', 'RNCMPT00116_predictions_MT', 'RNCMPT00117', 'RNCMPT00117_predictions_MT', 'RNCMPT00118', 'RNCMPT00118_predictions_MT', 'RNCMPT00119', 'RNCMPT00119_predictions_MT', 'RNCMPT00120', 'RNCMPT00120_predictions_MT', 'RNCMPT00121', 'RNCMPT00121_predictions_MT', 'RNCMPT00122', 'RNCMPT00122_predictions_MT', 'RNCMPT00123', 'RNCMPT00123_predictions_MT', 'RNCMPT00124', 'RNCMPT00124_predictions_MT', 'RNCMPT00126', 'RNCMPT00126_predictions_MT', 'RNCMPT00127', 'RNCMPT00127_predictions_MT', 'RNCMPT00129', 'RNCMPT00131', 'RNCMPT00131_predictions_MT', 'RNCMPT00132', 'RNCMPT00132_predictions_MT', 'RNCMPT00133', 'RNCMPT00133_predictions_MT', 'RNCMPT00134', 'RNCMPT00134_predictions_MT', 'RNCMPT00136', 'RNCMPT00136_predictions_MT', 'RNCMPT00137', 'RNCMPT00137_predictions_MT', 'RNCMPT00138', 'RNCMPT00138_predictions_MT', 'RNCMPT00139', 'RNCMPT00139_predictions_MT', 'RNCMPT00140', 'RNCMPT00140_predictions_MT', 'RNCMPT00141', 'RNCMPT00141_predictions_MT', 'RNCMPT00142', 'RNCMPT00142_predictions_MT', 'RNCMPT00143', 'RNCMPT00143_predictions_MT', 'RNCMPT00144', 'RNCMPT00145', 'RNCMPT00146', 'RNCMPT00146_predictions_MT', 'RNCMPT00147', 'RNCMPT00147_predictions_MT', 'RNCMPT00148', 'RNCMPT00148_predictions_MT', 'RNCMPT00149', 'RNCMPT00149_predictions_MT', 'RNCMPT00150', 'RNCMPT00150_predictions_MT', 'RNCMPT00151', 'RNCMPT00151_predictions_MT', 'RNCMPT00152', 'RNCMPT00152_predictions_MT', 'RNCMPT00153', 'RNCMPT00153_predictions_MT', 'RNCMPT00154', 'RNCMPT00155', 'RNCMPT00155_predictions_MT', 'RNCMPT00156', 'RNCMPT00156_predictions_MT', 'RNCMPT00157', 'RNCMPT00157_predictions_MT', 'RNCMPT00158', 'RNCMPT00158_predictions_MT', 'RNCMPT00159', 'RNCMPT00159_predictions_MT', 'RNCMPT00160', 'RNCMPT00160_predictions_MT', 'RNCMPT00161', 'RNCMPT00161_predictions_MT', 'RNCMPT00162', 'RNCMPT00162_predictions_MT', 'RNCMPT00163', 'RNCMPT00163_predictions_MT', 'RNCMPT00164', 'RNCMPT00164_predictions_MT', 'RNCMPT00165', 'RNCMPT00165_predictions_MT', 'RNCMPT00166', 'RNCMPT00166_predictions_MT', 'RNCMPT00167', 'RNCMPT00167_predictions_MT', 'RNCMPT00168', 'RNCMPT00168_predictions_MT', 'RNCMPT00169', 'RNCMPT00169_predictions_MT', 'RNCMPT00170', 'RNCMPT00170_predictions_MT', 'RNCMPT00171', 'RNCMPT00171_predictions_MT', 'RNCMPT00172', 'RNCMPT00172_predictions_MT', 'RNCMPT00173', 'RNCMPT00173_predictions_MT', 'RNCMPT00174', 'RNCMPT00174_predictions_MT', 'RNCMPT00175', 'RNCMPT00175_predictions_MT', 'RNCMPT00176', 'RNCMPT00176_predictions_MT', 'RNCMPT00177', 'RNCMPT00177_predictions_MT', 'RNCMPT00178', 'RNCMPT00178_predictions_MT', 'RNCMPT00179', 'RNCMPT00179_predictions_MT', 'RNCMPT00180', 'RNCMPT00180_predictions_MT', 'RNCMPT00181', 'RNCMPT00181_predictions_MT', 'RNCMPT00182', 'RNCMPT00182_predictions_MT', 'RNCMPT00183', 'RNCMPT00183_predictions_MT', 'RNCMPT00184', 'RNCMPT00184_predictions_MT', 'RNCMPT00185', 'RNCMPT00185_predictions_MT', 'RNCMPT00186', 'RNCMPT00186_predictions_MT', 'RNCMPT00187', 'RNCMPT00187_predictions_MT', 'RNCMPT00197', 'RNCMPT00197_predictions_MT', 'RNCMPT00199', 'RNCMPT00199_predictions_MT', 'RNCMPT00200', 'RNCMPT00200_predictions_MT', 'RNCMPT00202', 'RNCMPT00202_predictions_MT', 'RNCMPT00203', 'RNCMPT00203_predictions_MT', 'RNCMPT00205', 'RNCMPT00205_predictions_MT', 'RNCMPT00206', 'RNCMPT00206_predictions_MT', 'RNCMPT00209', 'RNCMPT00209_predictions_MT', 'RNCMPT00212', 'RNCMPT00212_predictions_MT', 'RNCMPT00215', 'RNCMPT00215_predictions_MT', 'RNCMPT00216', 'RNCMPT00216_predictions_MT', 'RNCMPT00217', 'RNCMPT00217_predictions_MT', 'RNCMPT00218', 'RNCMPT00218_predictions_MT', 'RNCMPT00219', 'RNCMPT00219_predictions_MT', 'RNCMPT00220', 'RNCMPT00220_predictions_MT', 'RNCMPT00223', 'RNCMPT00223_predictions_MT', 'RNCMPT00224', 'RNCMPT00224_predictions_MT', 'RNCMPT00225', 'RNCMPT00225_predictions_MT', 'RNCMPT00226', 'RNCMPT00226_predictions_MT', 'RNCMPT00228', 'RNCMPT00228_predictions_MT', 'RNCMPT00229', 'RNCMPT00229_predictions_MT', 'RNCMPT00230', 'RNCMPT00230_predictions_MT', 'RNCMPT00232', 'RNCMPT00232_predictions_MT', 'RNCMPT00234', 'RNCMPT00234_predictions_MT', 'RNCMPT00235', 'RNCMPT00235_predictions_MT', 'RNCMPT00236', 'RNCMPT00236_predictions_MT', 'RNCMPT00237', 'RNCMPT00237_predictions_MT', 'RNCMPT00238', 'RNCMPT00238_predictions_MT', 'RNCMPT00239', 'RNCMPT00239_predictions_MT', 'RNCMPT00240', 'RNCMPT00240_predictions_MT', 'RNCMPT00241', 'RNCMPT00241_predictions_MT', 'RNCMPT00245', 'RNCMPT00245_predictions_MT', 'RNCMPT00246', 'RNCMPT00246_predictions_MT', 'RNCMPT00248', 'RNCMPT00248_predictions_MT', 'RNCMPT00249', 'RNCMPT00249_predictions_MT', 'RNCMPT00251', 'RNCMPT00251_predictions_MT', 'RNCMPT00252', 'RNCMPT00252_predictions_MT', 'RNCMPT00253', 'RNCMPT00253_predictions_MT', 'RNCMPT00254', 'RNCMPT00254_predictions_MT', 'RNCMPT00255', 'RNCMPT00255_predictions_MT', 'RNCMPT00256', 'RNCMPT00256_predictions_MT', 'RNCMPT00257', 'RNCMPT00257_predictions_MT', 'RNCMPT00258', 'RNCMPT00258_predictions_MT', 'RNCMPT00259', 'RNCMPT00259_predictions_MT', 'RNCMPT00261', 'RNCMPT00261_predictions_MT', 'RNCMPT00262', 'RNCMPT00262_predictions_MT', 'RNCMPT00263', 'RNCMPT00263_predictions_MT', 'RNCMPT00265', 'RNCMPT00265_predictions_MT', 'RNCMPT00268', 'RNCMPT00268_predictions_MT', 'RNCMPT00269', 'RNCMPT00269_predictions_MT', 'RNCMPT00270', 'RNCMPT00270_predictions_MT', 'RNCMPT00272', 'RNCMPT00272_predictions_MT', 'RNCMPT00273', 'RNCMPT00273_predictions_MT', 'RNCMPT00274', 'RNCMPT00274_predictions_MT', 'RNCMPT00278', 'RNCMPT00278_predictions_MT', 'RNCMPT00279', 'RNCMPT00279_predictions_MT', 'RNCMPT00280', 'RNCMPT00280_predictions_MT', 'RNCMPT00281', 'RNCMPT00281_predictions_MT', 'RNCMPT00282', 'RNCMPT00282_predictions_MT', 'RNCMPT00283', 'RNCMPT00283_predictions_MT', 'RNCMPT00284', 'RNCMPT00284_predictions_MT', 'RNCMPT00285', 'RNCMPT00285_predictions_MT', 'RNCMPT00287', 'RNCMPT00287_predictions_MT', 'RNCMPT00288', 'RNCMPT00288_predictions_MT', 'RNCMPT00289', 'RNCMPT00289_predictions_MT', 'RNCMPT00291', 'RNCMPT00291_predictions_MT'\n",
       "pos_annot: None\n",
       "seqsm: None\n",
       "uns: None"
      ]
     },
     "execution_count": 29,
     "metadata": {},
     "output_type": "execute_result"
    }
   ],
   "source": [
    "sdata_test = eu.dl.read_h5sd(os.path.join(eu.settings.output_dir, \"norm_test_predictions.h5sd\"))\n",
    "target_mask = sdata_test.seqs_annot.columns.str.contains(\"RNCMPT\") & ~sdata_test.seqs_annot.columns.str.contains(\"MT|ST\")\n",
    "target_cols = sdata_test.seqs_annot.columns[target_mask]\n",
    "sdata_test"
   ]
  },
  {
   "cell_type": "markdown",
   "metadata": {},
   "source": [
    "# Feature Attribution"
   ]
  },
  {
   "cell_type": "markdown",
   "metadata": {},
   "source": [
    "## Single task"
   ]
  },
  {
   "cell_type": "code",
   "execution_count": 40,
   "metadata": {},
   "outputs": [
    {
     "name": "stdout",
     "output_type": "stream",
     "text": [
      "Testing DeepBind SingleTask model on RNCMPT00001\n",
      "No transforms given, assuming just need to tensorize).\n"
     ]
    },
    {
     "data": {
      "application/vnd.jupyter.widget-view+json": {
       "model_id": "84c0525061f24f30a08d6929ea07dd3a",
       "version_major": 2,
       "version_minor": 0
      },
      "text/plain": [
       "Computing saliency on batches: 0it [00:00, ?it/s]"
      ]
     },
     "metadata": {},
     "output_type": "display_data"
    },
    {
     "name": "stdout",
     "output_type": "stream",
     "text": [
      "Testing DeepBind SingleTask model on RNCMPT00002\n",
      "No transforms given, assuming just need to tensorize).\n"
     ]
    },
    {
     "data": {
      "application/vnd.jupyter.widget-view+json": {
       "model_id": "bba2c695ead44ca49d9d28c488254a0f",
       "version_major": 2,
       "version_minor": 0
      },
      "text/plain": [
       "Computing saliency on batches: 0it [00:00, ?it/s]"
      ]
     },
     "metadata": {},
     "output_type": "display_data"
    },
    {
     "name": "stdout",
     "output_type": "stream",
     "text": [
      "Testing DeepBind SingleTask model on RNCMPT00003\n",
      "No transforms given, assuming just need to tensorize).\n"
     ]
    },
    {
     "data": {
      "application/vnd.jupyter.widget-view+json": {
       "model_id": "eaf72b4405d04fbbb561a782004b0138",
       "version_major": 2,
       "version_minor": 0
      },
      "text/plain": [
       "Computing saliency on batches: 0it [00:00, ?it/s]"
      ]
     },
     "metadata": {},
     "output_type": "display_data"
    },
    {
     "name": "stdout",
     "output_type": "stream",
     "text": [
      "Testing DeepBind SingleTask model on RNCMPT00004\n",
      "No transforms given, assuming just need to tensorize).\n"
     ]
    },
    {
     "data": {
      "application/vnd.jupyter.widget-view+json": {
       "model_id": "bd6c4ac6c9d944fd935cba784873fbd4",
       "version_major": 2,
       "version_minor": 0
      },
      "text/plain": [
       "Computing saliency on batches: 0it [00:00, ?it/s]"
      ]
     },
     "metadata": {},
     "output_type": "display_data"
    },
    {
     "name": "stdout",
     "output_type": "stream",
     "text": [
      "Testing DeepBind SingleTask model on RNCMPT00005\n",
      "No transforms given, assuming just need to tensorize).\n"
     ]
    },
    {
     "data": {
      "application/vnd.jupyter.widget-view+json": {
       "model_id": "6a8715ae0e69434dbf6f187467802595",
       "version_major": 2,
       "version_minor": 0
      },
      "text/plain": [
       "Computing saliency on batches: 0it [00:00, ?it/s]"
      ]
     },
     "metadata": {},
     "output_type": "display_data"
    }
   ],
   "source": [
    "for i, target_col in enumerate(target_cols[:5]):\n",
    "    print(f\"Testing DeepBind SingleTask model on {target_col}\")\n",
    "    model_file = glob.glob(os.path.join(eu.settings.logging_dir, \"DeepBind_ST\", target_col, \"checkpoints\", \"*\"))[0]\n",
    "    model = eu.models.DeepBind.load_from_checkpoint(model_file)\n",
    "    # Get predictions on the training data\n",
    "    \n",
    "    saliency_methods = [\"InputXGradient\", \"DeepLift\", \"GradientSHAP\"]\n",
    "    eu.interpret.feature_attribution(\n",
    "        model,\n",
    "        sdata_test,\n",
    "        saliency_method=\"InputXGradient\",\n",
    "        prefix=f\"ST_{target_col}\"\n",
    "    )"
   ]
  },
  {
   "cell_type": "markdown",
   "metadata": {},
   "source": [
    "## Multi-task"
   ]
  },
  {
   "cell_type": "code",
   "execution_count": 46,
   "metadata": {},
   "outputs": [
    {
     "name": "stdout",
     "output_type": "stream",
     "text": [
      "Testing DeepBind MultiTask model on RNCMPT00001\n",
      "No transforms given, assuming just need to tensorize).\n"
     ]
    },
    {
     "data": {
      "application/vnd.jupyter.widget-view+json": {
       "model_id": "89924c90bd4f451ba00b65856dfdbea9",
       "version_major": 2,
       "version_minor": 0
      },
      "text/plain": [
       "Computing saliency on batches: 0it [00:00, ?it/s]"
      ]
     },
     "metadata": {},
     "output_type": "display_data"
    },
    {
     "name": "stdout",
     "output_type": "stream",
     "text": [
      "No transforms given, assuming just need to tensorize).\n"
     ]
    },
    {
     "data": {
      "application/vnd.jupyter.widget-view+json": {
       "model_id": "5ffe8622c1c64c81915426caac3ec0fe",
       "version_major": 2,
       "version_minor": 0
      },
      "text/plain": [
       "Computing saliency on batches: 0it [00:00, ?it/s]"
      ]
     },
     "metadata": {},
     "output_type": "display_data"
    },
    {
     "name": "stdout",
     "output_type": "stream",
     "text": [
      "No transforms given, assuming just need to tensorize).\n"
     ]
    },
    {
     "data": {
      "application/vnd.jupyter.widget-view+json": {
       "model_id": "2f37171a77af4d3abc73d7e4e92f3b9d",
       "version_major": 2,
       "version_minor": 0
      },
      "text/plain": [
       "Computing saliency on batches: 0it [00:00, ?it/s]"
      ]
     },
     "metadata": {},
     "output_type": "display_data"
    },
    {
     "name": "stdout",
     "output_type": "stream",
     "text": [
      "No transforms given, assuming just need to tensorize).\n"
     ]
    },
    {
     "data": {
      "application/vnd.jupyter.widget-view+json": {
       "model_id": "199151f4eda34e4585db6c6bca756b82",
       "version_major": 2,
       "version_minor": 0
      },
      "text/plain": [
       "Computing saliency on batches: 0it [00:00, ?it/s]"
      ]
     },
     "metadata": {},
     "output_type": "display_data"
    },
    {
     "name": "stdout",
     "output_type": "stream",
     "text": [
      "No transforms given, assuming just need to tensorize).\n"
     ]
    },
    {
     "data": {
      "application/vnd.jupyter.widget-view+json": {
       "model_id": "8fd150d0a2414cfca386c3be7e7834b6",
       "version_major": 2,
       "version_minor": 0
      },
      "text/plain": [
       "Computing saliency on batches: 0it [00:00, ?it/s]"
      ]
     },
     "metadata": {},
     "output_type": "display_data"
    }
   ],
   "source": [
    "print(f\"Testing DeepBind MultiTask model on {target_cols[0]}\")\n",
    "version = 0\n",
    "model_file = glob.glob(os.path.join(eu.settings.logging_dir, \"DeepBind_MT\", f\"v{version}\", \"checkpoints\", \"*\"))[0]\n",
    "model = eu.models.DeepBind.load_from_checkpoint(model_file)\n",
    "\n",
    "saliency_methods = [\"InputXGradient\", \"DeepLift\", \"GradientSHAP\"]\n",
    "for i, target_col in enumerate(target_cols[:5]):\n",
    "    eu.interpret.feature_attribution(\n",
    "        model,\n",
    "        sdata_test,\n",
    "        saliency_method=\"InputXGradient\",\n",
    "        target=i,\n",
    "        prefix=f\"MT_{target_cols[i]}\"\n",
    "    )"
   ]
  },
  {
   "cell_type": "markdown",
   "metadata": {},
   "source": [
    "# Filter viz"
   ]
  },
  {
   "cell_type": "markdown",
   "metadata": {},
   "source": [
    "## Single task "
   ]
  },
  {
   "cell_type": "code",
   "execution_count": 51,
   "metadata": {},
   "outputs": [
    {
     "name": "stdout",
     "output_type": "stream",
     "text": [
      "Testing DeepBind SingleTask model on RNCMPT00001\n",
      "No transforms given, assuming just need to tensorize).\n"
     ]
    },
    {
     "data": {
      "application/vnd.jupyter.widget-view+json": {
       "model_id": "849b4d0fab7944dfbae32df9366a22d8",
       "version_major": 2,
       "version_minor": 0
      },
      "text/plain": [
       "Getting maximial activating seqlets: 0it [00:00, ?it/s]"
      ]
     },
     "metadata": {},
     "output_type": "display_data"
    },
    {
     "data": {
      "application/vnd.jupyter.widget-view+json": {
       "model_id": "05a13b335b8a4f1db6cbd2912c5d27bc",
       "version_major": 2,
       "version_minor": 0
      },
      "text/plain": [
       "Getting PFMs from filters:   0%|          | 0/32 [00:00<?, ?it/s]"
      ]
     },
     "metadata": {},
     "output_type": "display_data"
    },
    {
     "name": "stdout",
     "output_type": "stream",
     "text": [
      "Testing DeepBind SingleTask model on RNCMPT00002\n",
      "No transforms given, assuming just need to tensorize).\n"
     ]
    },
    {
     "data": {
      "application/vnd.jupyter.widget-view+json": {
       "model_id": "680bbf97fb774d36b804723782e5e821",
       "version_major": 2,
       "version_minor": 0
      },
      "text/plain": [
       "Getting maximial activating seqlets: 0it [00:00, ?it/s]"
      ]
     },
     "metadata": {},
     "output_type": "display_data"
    },
    {
     "data": {
      "application/vnd.jupyter.widget-view+json": {
       "model_id": "e6f830d9e8634e278025fb2a65cc4fee",
       "version_major": 2,
       "version_minor": 0
      },
      "text/plain": [
       "Getting PFMs from filters:   0%|          | 0/32 [00:00<?, ?it/s]"
      ]
     },
     "metadata": {},
     "output_type": "display_data"
    },
    {
     "name": "stdout",
     "output_type": "stream",
     "text": [
      "Testing DeepBind SingleTask model on RNCMPT00003\n",
      "No transforms given, assuming just need to tensorize).\n"
     ]
    },
    {
     "data": {
      "application/vnd.jupyter.widget-view+json": {
       "model_id": "90fde05eaa6749ab8dc1475b30f067f7",
       "version_major": 2,
       "version_minor": 0
      },
      "text/plain": [
       "Getting maximial activating seqlets: 0it [00:00, ?it/s]"
      ]
     },
     "metadata": {},
     "output_type": "display_data"
    },
    {
     "data": {
      "application/vnd.jupyter.widget-view+json": {
       "model_id": "bdbc11bc1fab412b9e1d524c38967cf9",
       "version_major": 2,
       "version_minor": 0
      },
      "text/plain": [
       "Getting PFMs from filters:   0%|          | 0/32 [00:00<?, ?it/s]"
      ]
     },
     "metadata": {},
     "output_type": "display_data"
    },
    {
     "name": "stdout",
     "output_type": "stream",
     "text": [
      "Testing DeepBind SingleTask model on RNCMPT00004\n",
      "No transforms given, assuming just need to tensorize).\n"
     ]
    },
    {
     "data": {
      "application/vnd.jupyter.widget-view+json": {
       "model_id": "4f09b9c6ffa94cb79daccecce227af58",
       "version_major": 2,
       "version_minor": 0
      },
      "text/plain": [
       "Getting maximial activating seqlets: 0it [00:00, ?it/s]"
      ]
     },
     "metadata": {},
     "output_type": "display_data"
    },
    {
     "data": {
      "application/vnd.jupyter.widget-view+json": {
       "model_id": "ebf69d841ae84fa88763d5f3f82b232a",
       "version_major": 2,
       "version_minor": 0
      },
      "text/plain": [
       "Getting PFMs from filters:   0%|          | 0/32 [00:00<?, ?it/s]"
      ]
     },
     "metadata": {},
     "output_type": "display_data"
    },
    {
     "name": "stdout",
     "output_type": "stream",
     "text": [
      "Testing DeepBind SingleTask model on RNCMPT00005\n",
      "No transforms given, assuming just need to tensorize).\n"
     ]
    },
    {
     "data": {
      "application/vnd.jupyter.widget-view+json": {
       "model_id": "f701d3f997a14ab09477908d1fd6561d",
       "version_major": 2,
       "version_minor": 0
      },
      "text/plain": [
       "Getting maximial activating seqlets: 0it [00:00, ?it/s]"
      ]
     },
     "metadata": {},
     "output_type": "display_data"
    },
    {
     "data": {
      "application/vnd.jupyter.widget-view+json": {
       "model_id": "02b7cba60a9d4592bb342c010931d21e",
       "version_major": 2,
       "version_minor": 0
      },
      "text/plain": [
       "Getting PFMs from filters:   0%|          | 0/32 [00:00<?, ?it/s]"
      ]
     },
     "metadata": {},
     "output_type": "display_data"
    }
   ],
   "source": [
    "for i, target_col in enumerate(target_cols[:5]):\n",
    "    print(f\"Testing DeepBind SingleTask model on {target_col}\")\n",
    "    model_file = glob.glob(os.path.join(eu.settings.logging_dir, \"DeepBind_ST\", target_col, \"checkpoints\", \"*\"))[0]\n",
    "    model = eu.models.DeepBind.load_from_checkpoint(model_file)\n",
    "    # Get predictions on the training data\n",
    "    eu.interpret.generate_pfms(model, sdata_test, key_name=f\"ST_{target_col}_pfms\")"
   ]
  },
  {
   "cell_type": "markdown",
   "metadata": {},
   "source": [
    "## Multitask"
   ]
  },
  {
   "cell_type": "code",
   "execution_count": 52,
   "metadata": {},
   "outputs": [
    {
     "name": "stdout",
     "output_type": "stream",
     "text": [
      "No transforms given, assuming just need to tensorize).\n"
     ]
    },
    {
     "data": {
      "application/vnd.jupyter.widget-view+json": {
       "model_id": "f1b37d1d9a8a4e5f8a9ce33146b20dab",
       "version_major": 2,
       "version_minor": 0
      },
      "text/plain": [
       "Getting maximial activating seqlets: 0it [00:00, ?it/s]"
      ]
     },
     "metadata": {},
     "output_type": "display_data"
    },
    {
     "data": {
      "application/vnd.jupyter.widget-view+json": {
       "model_id": "1c4e9a84321f4c5d995f8c0d7319305d",
       "version_major": 2,
       "version_minor": 0
      },
      "text/plain": [
       "Getting PFMs from filters:   0%|          | 0/32 [00:00<?, ?it/s]"
      ]
     },
     "metadata": {},
     "output_type": "display_data"
    }
   ],
   "source": [
    "#model.to(\"cuda\") #TODO\n",
    "eu.interpret.generate_pfms(model, sdata_test, key_name=f\"MT_pfms\")"
   ]
  },
  {
   "cell_type": "code",
   "execution_count": 53,
   "metadata": {},
   "outputs": [
    {
     "data": {
      "text/plain": [
       "SeqData object with = 100 seqs\n",
       "seqs = (100,)\n",
       "names = (100,)\n",
       "rev_seqs = None\n",
       "ohe_seqs = (100, 41, 4)\n",
       "ohe_rev_seqs = None\n",
       "seqs_annot: 'Probe_Set', 'RNCMPT00001', 'RNCMPT00001_predictions_MT', 'RNCMPT00001_predictions_ST', 'RNCMPT00002', 'RNCMPT00002_predictions_MT', 'RNCMPT00002_predictions_ST', 'RNCMPT00003', 'RNCMPT00003_predictions_MT', 'RNCMPT00003_predictions_ST', 'RNCMPT00004', 'RNCMPT00004_predictions_MT', 'RNCMPT00004_predictions_ST', 'RNCMPT00005', 'RNCMPT00005_predictions_MT', 'RNCMPT00005_predictions_ST', 'RNCMPT00006', 'RNCMPT00006_predictions_MT', 'RNCMPT00007', 'RNCMPT00007_predictions_MT', 'RNCMPT00008', 'RNCMPT00009', 'RNCMPT00010', 'RNCMPT00010_predictions_MT', 'RNCMPT00011', 'RNCMPT00011_predictions_MT', 'RNCMPT00012', 'RNCMPT00012_predictions_MT', 'RNCMPT00013', 'RNCMPT00013_predictions_MT', 'RNCMPT00014', 'RNCMPT00014_predictions_MT', 'RNCMPT00015', 'RNCMPT00016', 'RNCMPT00016_predictions_MT', 'RNCMPT00017', 'RNCMPT00017_predictions_MT', 'RNCMPT00018', 'RNCMPT00018_predictions_MT', 'RNCMPT00019', 'RNCMPT00019_predictions_MT', 'RNCMPT00020', 'RNCMPT00020_predictions_MT', 'RNCMPT00021', 'RNCMPT00021_predictions_MT', 'RNCMPT00022', 'RNCMPT00022_predictions_MT', 'RNCMPT00023', 'RNCMPT00023_predictions_MT', 'RNCMPT00024', 'RNCMPT00024_predictions_MT', 'RNCMPT00025', 'RNCMPT00025_predictions_MT', 'RNCMPT00026', 'RNCMPT00026_predictions_MT', 'RNCMPT00027', 'RNCMPT00027_predictions_MT', 'RNCMPT00028', 'RNCMPT00028_predictions_MT', 'RNCMPT00029', 'RNCMPT00029_predictions_MT', 'RNCMPT00031', 'RNCMPT00031_predictions_MT', 'RNCMPT00032', 'RNCMPT00032_predictions_MT', 'RNCMPT00033', 'RNCMPT00033_predictions_MT', 'RNCMPT00034', 'RNCMPT00034_predictions_MT', 'RNCMPT00035', 'RNCMPT00035_predictions_MT', 'RNCMPT00036', 'RNCMPT00036_predictions_MT', 'RNCMPT00037', 'RNCMPT00037_predictions_MT', 'RNCMPT00038', 'RNCMPT00038_predictions_MT', 'RNCMPT00039', 'RNCMPT00039_predictions_MT', 'RNCMPT00040', 'RNCMPT00040_predictions_MT', 'RNCMPT00041', 'RNCMPT00041_predictions_MT', 'RNCMPT00042', 'RNCMPT00042_predictions_MT', 'RNCMPT00043', 'RNCMPT00043_predictions_MT', 'RNCMPT00044', 'RNCMPT00044_predictions_MT', 'RNCMPT00045', 'RNCMPT00045_predictions_MT', 'RNCMPT00046', 'RNCMPT00046_predictions_MT', 'RNCMPT00047', 'RNCMPT00047_predictions_MT', 'RNCMPT00049', 'RNCMPT00049_predictions_MT', 'RNCMPT00050', 'RNCMPT00050_predictions_MT', 'RNCMPT00051', 'RNCMPT00051_predictions_MT', 'RNCMPT00052', 'RNCMPT00052_predictions_MT', 'RNCMPT00053', 'RNCMPT00053_predictions_MT', 'RNCMPT00054', 'RNCMPT00054_predictions_MT', 'RNCMPT00055', 'RNCMPT00055_predictions_MT', 'RNCMPT00056', 'RNCMPT00056_predictions_MT', 'RNCMPT00057', 'RNCMPT00057_predictions_MT', 'RNCMPT00058', 'RNCMPT00059', 'RNCMPT00059_predictions_MT', 'RNCMPT00060', 'RNCMPT00061', 'RNCMPT00062', 'RNCMPT00062_predictions_MT', 'RNCMPT00063', 'RNCMPT00063_predictions_MT', 'RNCMPT00064', 'RNCMPT00064_predictions_MT', 'RNCMPT00065', 'RNCMPT00065_predictions_MT', 'RNCMPT00066', 'RNCMPT00066_predictions_MT', 'RNCMPT00067', 'RNCMPT00067_predictions_MT', 'RNCMPT00068', 'RNCMPT00068_predictions_MT', 'RNCMPT00069', 'RNCMPT00069_predictions_MT', 'RNCMPT00070', 'RNCMPT00070_predictions_MT', 'RNCMPT00071', 'RNCMPT00071_predictions_MT', 'RNCMPT00072', 'RNCMPT00072_predictions_MT', 'RNCMPT00073', 'RNCMPT00073_predictions_MT', 'RNCMPT00074', 'RNCMPT00074_predictions_MT', 'RNCMPT00075', 'RNCMPT00075_predictions_MT', 'RNCMPT00076', 'RNCMPT00076_predictions_MT', 'RNCMPT00077', 'RNCMPT00077_predictions_MT', 'RNCMPT00078', 'RNCMPT00078_predictions_MT', 'RNCMPT00079', 'RNCMPT00079_predictions_MT', 'RNCMPT00080', 'RNCMPT00080_predictions_MT', 'RNCMPT00081', 'RNCMPT00081_predictions_MT', 'RNCMPT00082', 'RNCMPT00082_predictions_MT', 'RNCMPT00083', 'RNCMPT00083_predictions_MT', 'RNCMPT00084', 'RNCMPT00084_predictions_MT', 'RNCMPT00085', 'RNCMPT00085_predictions_MT', 'RNCMPT00086', 'RNCMPT00086_predictions_MT', 'RNCMPT00087', 'RNCMPT00087_predictions_MT', 'RNCMPT00088', 'RNCMPT00088_predictions_MT', 'RNCMPT00089', 'RNCMPT00089_predictions_MT', 'RNCMPT00090', 'RNCMPT00090_predictions_MT', 'RNCMPT00091', 'RNCMPT00091_predictions_MT', 'RNCMPT00093', 'RNCMPT00093_predictions_MT', 'RNCMPT00094', 'RNCMPT00094_predictions_MT', 'RNCMPT00095', 'RNCMPT00095_predictions_MT', 'RNCMPT00096', 'RNCMPT00096_predictions_MT', 'RNCMPT00097', 'RNCMPT00099', 'RNCMPT00099_predictions_MT', 'RNCMPT00100', 'RNCMPT00100_predictions_MT', 'RNCMPT00101', 'RNCMPT00101_predictions_MT', 'RNCMPT00102', 'RNCMPT00102_predictions_MT', 'RNCMPT00103', 'RNCMPT00103_predictions_MT', 'RNCMPT00104', 'RNCMPT00104_predictions_MT', 'RNCMPT00105', 'RNCMPT00105_predictions_MT', 'RNCMPT00106', 'RNCMPT00106_predictions_MT', 'RNCMPT00107', 'RNCMPT00107_predictions_MT', 'RNCMPT00108', 'RNCMPT00108_predictions_MT', 'RNCMPT00109', 'RNCMPT00109_predictions_MT', 'RNCMPT00110', 'RNCMPT00110_predictions_MT', 'RNCMPT00111', 'RNCMPT00111_predictions_MT', 'RNCMPT00112', 'RNCMPT00112_predictions_MT', 'RNCMPT00113', 'RNCMPT00113_predictions_MT', 'RNCMPT00114', 'RNCMPT00114_predictions_MT', 'RNCMPT00116', 'RNCMPT00116_predictions_MT', 'RNCMPT00117', 'RNCMPT00117_predictions_MT', 'RNCMPT00118', 'RNCMPT00118_predictions_MT', 'RNCMPT00119', 'RNCMPT00119_predictions_MT', 'RNCMPT00120', 'RNCMPT00120_predictions_MT', 'RNCMPT00121', 'RNCMPT00121_predictions_MT', 'RNCMPT00122', 'RNCMPT00122_predictions_MT', 'RNCMPT00123', 'RNCMPT00123_predictions_MT', 'RNCMPT00124', 'RNCMPT00124_predictions_MT', 'RNCMPT00126', 'RNCMPT00126_predictions_MT', 'RNCMPT00127', 'RNCMPT00127_predictions_MT', 'RNCMPT00129', 'RNCMPT00131', 'RNCMPT00131_predictions_MT', 'RNCMPT00132', 'RNCMPT00132_predictions_MT', 'RNCMPT00133', 'RNCMPT00133_predictions_MT', 'RNCMPT00134', 'RNCMPT00134_predictions_MT', 'RNCMPT00136', 'RNCMPT00136_predictions_MT', 'RNCMPT00137', 'RNCMPT00137_predictions_MT', 'RNCMPT00138', 'RNCMPT00138_predictions_MT', 'RNCMPT00139', 'RNCMPT00139_predictions_MT', 'RNCMPT00140', 'RNCMPT00140_predictions_MT', 'RNCMPT00141', 'RNCMPT00141_predictions_MT', 'RNCMPT00142', 'RNCMPT00142_predictions_MT', 'RNCMPT00143', 'RNCMPT00143_predictions_MT', 'RNCMPT00144', 'RNCMPT00145', 'RNCMPT00146', 'RNCMPT00146_predictions_MT', 'RNCMPT00147', 'RNCMPT00147_predictions_MT', 'RNCMPT00148', 'RNCMPT00148_predictions_MT', 'RNCMPT00149', 'RNCMPT00149_predictions_MT', 'RNCMPT00150', 'RNCMPT00150_predictions_MT', 'RNCMPT00151', 'RNCMPT00151_predictions_MT', 'RNCMPT00152', 'RNCMPT00152_predictions_MT', 'RNCMPT00153', 'RNCMPT00153_predictions_MT', 'RNCMPT00154', 'RNCMPT00155', 'RNCMPT00155_predictions_MT', 'RNCMPT00156', 'RNCMPT00156_predictions_MT', 'RNCMPT00157', 'RNCMPT00157_predictions_MT', 'RNCMPT00158', 'RNCMPT00158_predictions_MT', 'RNCMPT00159', 'RNCMPT00159_predictions_MT', 'RNCMPT00160', 'RNCMPT00160_predictions_MT', 'RNCMPT00161', 'RNCMPT00161_predictions_MT', 'RNCMPT00162', 'RNCMPT00162_predictions_MT', 'RNCMPT00163', 'RNCMPT00163_predictions_MT', 'RNCMPT00164', 'RNCMPT00164_predictions_MT', 'RNCMPT00165', 'RNCMPT00165_predictions_MT', 'RNCMPT00166', 'RNCMPT00166_predictions_MT', 'RNCMPT00167', 'RNCMPT00167_predictions_MT', 'RNCMPT00168', 'RNCMPT00168_predictions_MT', 'RNCMPT00169', 'RNCMPT00169_predictions_MT', 'RNCMPT00170', 'RNCMPT00170_predictions_MT', 'RNCMPT00171', 'RNCMPT00171_predictions_MT', 'RNCMPT00172', 'RNCMPT00172_predictions_MT', 'RNCMPT00173', 'RNCMPT00173_predictions_MT', 'RNCMPT00174', 'RNCMPT00174_predictions_MT', 'RNCMPT00175', 'RNCMPT00175_predictions_MT', 'RNCMPT00176', 'RNCMPT00176_predictions_MT', 'RNCMPT00177', 'RNCMPT00177_predictions_MT', 'RNCMPT00178', 'RNCMPT00178_predictions_MT', 'RNCMPT00179', 'RNCMPT00179_predictions_MT', 'RNCMPT00180', 'RNCMPT00180_predictions_MT', 'RNCMPT00181', 'RNCMPT00181_predictions_MT', 'RNCMPT00182', 'RNCMPT00182_predictions_MT', 'RNCMPT00183', 'RNCMPT00183_predictions_MT', 'RNCMPT00184', 'RNCMPT00184_predictions_MT', 'RNCMPT00185', 'RNCMPT00185_predictions_MT', 'RNCMPT00186', 'RNCMPT00186_predictions_MT', 'RNCMPT00187', 'RNCMPT00187_predictions_MT', 'RNCMPT00197', 'RNCMPT00197_predictions_MT', 'RNCMPT00199', 'RNCMPT00199_predictions_MT', 'RNCMPT00200', 'RNCMPT00200_predictions_MT', 'RNCMPT00202', 'RNCMPT00202_predictions_MT', 'RNCMPT00203', 'RNCMPT00203_predictions_MT', 'RNCMPT00205', 'RNCMPT00205_predictions_MT', 'RNCMPT00206', 'RNCMPT00206_predictions_MT', 'RNCMPT00209', 'RNCMPT00209_predictions_MT', 'RNCMPT00212', 'RNCMPT00212_predictions_MT', 'RNCMPT00215', 'RNCMPT00215_predictions_MT', 'RNCMPT00216', 'RNCMPT00216_predictions_MT', 'RNCMPT00217', 'RNCMPT00217_predictions_MT', 'RNCMPT00218', 'RNCMPT00218_predictions_MT', 'RNCMPT00219', 'RNCMPT00219_predictions_MT', 'RNCMPT00220', 'RNCMPT00220_predictions_MT', 'RNCMPT00223', 'RNCMPT00223_predictions_MT', 'RNCMPT00224', 'RNCMPT00224_predictions_MT', 'RNCMPT00225', 'RNCMPT00225_predictions_MT', 'RNCMPT00226', 'RNCMPT00226_predictions_MT', 'RNCMPT00228', 'RNCMPT00228_predictions_MT', 'RNCMPT00229', 'RNCMPT00229_predictions_MT', 'RNCMPT00230', 'RNCMPT00230_predictions_MT', 'RNCMPT00232', 'RNCMPT00232_predictions_MT', 'RNCMPT00234', 'RNCMPT00234_predictions_MT', 'RNCMPT00235', 'RNCMPT00235_predictions_MT', 'RNCMPT00236', 'RNCMPT00236_predictions_MT', 'RNCMPT00237', 'RNCMPT00237_predictions_MT', 'RNCMPT00238', 'RNCMPT00238_predictions_MT', 'RNCMPT00239', 'RNCMPT00239_predictions_MT', 'RNCMPT00240', 'RNCMPT00240_predictions_MT', 'RNCMPT00241', 'RNCMPT00241_predictions_MT', 'RNCMPT00245', 'RNCMPT00245_predictions_MT', 'RNCMPT00246', 'RNCMPT00246_predictions_MT', 'RNCMPT00248', 'RNCMPT00248_predictions_MT', 'RNCMPT00249', 'RNCMPT00249_predictions_MT', 'RNCMPT00251', 'RNCMPT00251_predictions_MT', 'RNCMPT00252', 'RNCMPT00252_predictions_MT', 'RNCMPT00253', 'RNCMPT00253_predictions_MT', 'RNCMPT00254', 'RNCMPT00254_predictions_MT', 'RNCMPT00255', 'RNCMPT00255_predictions_MT', 'RNCMPT00256', 'RNCMPT00256_predictions_MT', 'RNCMPT00257', 'RNCMPT00257_predictions_MT', 'RNCMPT00258', 'RNCMPT00258_predictions_MT', 'RNCMPT00259', 'RNCMPT00259_predictions_MT', 'RNCMPT00261', 'RNCMPT00261_predictions_MT', 'RNCMPT00262', 'RNCMPT00262_predictions_MT', 'RNCMPT00263', 'RNCMPT00263_predictions_MT', 'RNCMPT00265', 'RNCMPT00265_predictions_MT', 'RNCMPT00268', 'RNCMPT00268_predictions_MT', 'RNCMPT00269', 'RNCMPT00269_predictions_MT', 'RNCMPT00270', 'RNCMPT00270_predictions_MT', 'RNCMPT00272', 'RNCMPT00272_predictions_MT', 'RNCMPT00273', 'RNCMPT00273_predictions_MT', 'RNCMPT00274', 'RNCMPT00274_predictions_MT', 'RNCMPT00278', 'RNCMPT00278_predictions_MT', 'RNCMPT00279', 'RNCMPT00279_predictions_MT', 'RNCMPT00280', 'RNCMPT00280_predictions_MT', 'RNCMPT00281', 'RNCMPT00281_predictions_MT', 'RNCMPT00282', 'RNCMPT00282_predictions_MT', 'RNCMPT00283', 'RNCMPT00283_predictions_MT', 'RNCMPT00284', 'RNCMPT00284_predictions_MT', 'RNCMPT00285', 'RNCMPT00285_predictions_MT', 'RNCMPT00287', 'RNCMPT00287_predictions_MT', 'RNCMPT00288', 'RNCMPT00288_predictions_MT', 'RNCMPT00289', 'RNCMPT00289_predictions_MT', 'RNCMPT00291', 'RNCMPT00291_predictions_MT'\n",
       "pos_annot: None\n",
       "seqsm: None\n",
       "uns: 'InputXGradient_imps', 'ST_InputXGradient_imps', 'ST_RNCMPT00001InputXGradient_imps', 'ST_RNCMPT00002InputXGradient_imps', 'ST_RNCMPT00003InputXGradient_imps', 'ST_RNCMPT00004InputXGradient_imps', 'ST_RNCMPT00005InputXGradient_imps', 'MT_RNCMPT00001InputXGradient_imps', 'MT_RNCMPT00002InputXGradient_imps', 'MT_RNCMPT00003InputXGradient_imps', 'MT_RNCMPT00004InputXGradient_imps', 'MT_RNCMPT00005InputXGradient_imps', 'pfms', 'RNCMPT00001_pfms', 'RNCMPT00002_pfms', 'RNCMPT00003_pfms', 'RNCMPT00004_pfms', 'RNCMPT00005_pfms', 'ST_RNCMPT00001_pfms', 'ST_RNCMPT00002_pfms', 'ST_RNCMPT00003_pfms', 'ST_RNCMPT00004_pfms', 'ST_RNCMPT00005_pfms', 'MT_pfms'"
      ]
     },
     "execution_count": 53,
     "metadata": {},
     "output_type": "execute_result"
    }
   ],
   "source": [
    "sdata_test"
   ]
  },
  {
   "cell_type": "markdown",
   "metadata": {},
   "source": [
    "# Save"
   ]
  },
  {
   "cell_type": "code",
   "execution_count": 57,
   "metadata": {},
   "outputs": [],
   "source": [
    "sdata_test.write_h5sd(os.path.join(eu.settings.output_dir, \"norm_test_predictions_and_intepretations.h5sd\"))"
   ]
  },
  {
   "cell_type": "markdown",
   "metadata": {},
   "source": [
    "---"
   ]
  },
  {
   "cell_type": "markdown",
   "metadata": {},
   "source": [
    "# Scratch"
   ]
  }
 ],
 "metadata": {
  "kernelspec": {
   "display_name": "Python 3.7.13 64-bit",
   "language": "python",
   "name": "python3"
  },
  "language_info": {
   "codemirror_mode": {
    "name": "ipython",
    "version": 3
   },
   "file_extension": ".py",
   "mimetype": "text/x-python",
   "name": "python",
   "nbconvert_exporter": "python",
   "pygments_lexer": "ipython3",
   "version": "3.7.13"
  },
  "orig_nbformat": 4,
  "vscode": {
   "interpreter": {
    "hash": "949777d72b0d2535278d3dc13498b2535136f6dfe0678499012e853ee9abcab1"
   }
  }
 },
 "nbformat": 4,
 "nbformat_minor": 2
}

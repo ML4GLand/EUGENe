{
 "cells": [
  {
   "cell_type": "code",
   "execution_count": 177,
   "id": "794120f3-bd89-42a9-8caf-3b666ae6ae6f",
   "metadata": {
    "execution": {
     "iopub.execute_input": "2022-08-26T23:42:21.353446Z",
     "iopub.status.busy": "2022-08-26T23:42:21.353086Z",
     "iopub.status.idle": "2022-08-26T23:42:25.737120Z",
     "shell.execute_reply": "2022-08-26T23:42:25.735799Z",
     "shell.execute_reply.started": "2022-08-26T23:42:21.353412Z"
    },
    "tags": []
   },
   "outputs": [],
   "source": [
    "if 'autoreload' not in get_ipython().extension_manager.loaded:\n",
    "    %load_ext autoreload\n",
    "%autoreload 2\n",
    "\n",
    "import numpy as np\n",
    "import pandas as pd\n",
    "import eugene as eu\n",
    "from sklearn.metrics import r2_score\n",
    "from scipy.stats import pearsonr, spearmanr\n",
    "import matplotlib.pyplot as plt\n",
    "import seaborn as sns"
   ]
  },
  {
   "cell_type": "code",
   "execution_count": 178,
   "id": "cdf28384-5f24-4a86-8b11-ba91089f7005",
   "metadata": {
    "execution": {
     "iopub.execute_input": "2022-08-26T23:42:25.740394Z",
     "iopub.status.busy": "2022-08-26T23:42:25.739726Z",
     "iopub.status.idle": "2022-08-26T23:42:34.146785Z",
     "shell.execute_reply": "2022-08-26T23:42:34.145797Z",
     "shell.execute_reply.started": "2022-08-26T23:42:25.740342Z"
    },
    "tags": []
   },
   "outputs": [],
   "source": [
    "sdata = eu.dl.read_h5sd(\"../../output/ray13/sequence_datum/SD_predict_RNAcomplete.h5\")\n",
    "sdata_set_a = sdata[:120326]\n",
    "sdata_set_b = sdata[120326:]"
   ]
  },
  {
   "cell_type": "code",
   "execution_count": 305,
   "id": "14617950-0e3d-4373-874b-f2d20ebc8883",
   "metadata": {
    "execution": {
     "iopub.execute_input": "2022-08-27T00:45:50.393596Z",
     "iopub.status.busy": "2022-08-27T00:45:50.393142Z",
     "iopub.status.idle": "2022-08-27T00:46:25.511681Z",
     "shell.execute_reply": "2022-08-27T00:46:25.510682Z",
     "shell.execute_reply.started": "2022-08-27T00:45:50.393559Z"
    },
    "tags": []
   },
   "outputs": [],
   "source": [
    "a_presence_absence = np.load(\"/cellar/users/aklie/data/eugene/ray13/SetA_binary.npy\")\n",
    "b_presence_absence = np.load(\"/cellar/users/aklie/data/eugene/ray13/SetB_binary.npy\")"
   ]
  },
  {
   "cell_type": "markdown",
   "id": "63f7bdec-1a40-466e-9da7-2b8b241c72b5",
   "metadata": {},
   "source": [
    "# Spot check"
   ]
  },
  {
   "cell_type": "code",
   "execution_count": 192,
   "id": "eda051d6-8860-4166-b726-14dac12e1c30",
   "metadata": {
    "execution": {
     "iopub.execute_input": "2022-08-26T23:46:04.694488Z",
     "iopub.status.busy": "2022-08-26T23:46:04.694113Z",
     "iopub.status.idle": "2022-08-26T23:46:09.323862Z",
     "shell.execute_reply": "2022-08-26T23:46:09.322792Z",
     "shell.execute_reply.started": "2022-08-26T23:46:04.694460Z"
    },
    "tags": []
   },
   "outputs": [],
   "source": [
    "from tqdm import tqdm\n",
    "tqdm.pandas()\n",
    "from eugene.predict._metrics import median_calc, auc_calc, calc_auc, escore"
   ]
  },
  {
   "cell_type": "code",
   "execution_count": 199,
   "id": "453d3cfc-4e14-43db-85ba-880186396f4c",
   "metadata": {
    "execution": {
     "iopub.execute_input": "2022-08-26T23:48:11.628494Z",
     "iopub.status.busy": "2022-08-26T23:48:11.627990Z",
     "iopub.status.idle": "2022-08-26T23:48:16.496722Z",
     "shell.execute_reply": "2022-08-26T23:48:16.495750Z",
     "shell.execute_reply.started": "2022-08-26T23:48:11.628458Z"
    },
    "tags": []
   },
   "outputs": [],
   "source": [
    "# Choose the task\n",
    "probe_id = \"RNCMPT00001\"\n",
    "observed = sdata_set_a[probe_id].values\n",
    "preds = sdata_set_a[f\"{probe_id}_predictions\"].values"
   ]
  },
  {
   "cell_type": "code",
   "execution_count": 291,
   "id": "78bfe88f-ebfc-408e-90aa-b92d18d0f3f8",
   "metadata": {
    "execution": {
     "iopub.execute_input": "2022-08-27T00:41:48.354394Z",
     "iopub.status.busy": "2022-08-27T00:41:48.353907Z",
     "iopub.status.idle": "2022-08-27T00:41:52.357542Z",
     "shell.execute_reply": "2022-08-27T00:41:52.356455Z",
     "shell.execute_reply.started": "2022-08-27T00:41:48.354358Z"
    },
    "tags": []
   },
   "outputs": [],
   "source": [
    "def rna_complete_metrics_apply(kmer_presence_mtx, intensities, num_kmers=None, use_calc_auc=False, verbose=True):\n",
    "    df = pd.DataFrame(kmer_presence_mtx)\n",
    "    y = intensities\n",
    "    df_sub = df[:num_kmers]\n",
    "    if verbose:\n",
    "        if use_calc_auc:\n",
    "            rbp_eval = df_sub.progress_apply(lambda preds: pd.Series({'Median': median_calc(preds, y), 'AUC': calc_auc(y, preds), 'E-score': escore(preds, y, use_calc_auc=True)}), axis=1)\n",
    "        else:\n",
    "            rbp_eval = df_sub.progress_apply(lambda preds: pd.Series({'Median': median_calc(preds, y), 'AUC': auc_calc(preds, y), 'E-score': escore(preds, y)}), axis=1)\n",
    "    else:\n",
    "        if use_calc_auc:\n",
    "            rbp_eval = df_sub.apply(lambda preds: pd.Series({'Median': median_calc(preds, y), 'AUC': calc_auc(y, preds), 'E-score': escore(preds, y, use_calc_auc=True)}), axis=1)\n",
    "        else:\n",
    "            rbp_eval = df_sub.apply(lambda preds: pd.Series({'Median': median_calc(preds, y), 'AUC': auc_calc(preds, y), 'E-score': escore(preds, y)}), axis=1)\n",
    "    rbp_eval[\"Z-score\"] = (rbp_eval[\"Median\"] - np.mean(rbp_eval[\"Median\"])) / np.std(rbp_eval[\"Median\"], ddof=1)\n",
    "    return rbp_eval[\"Z-score\"].values, rbp_eval[\"AUC\"].values, rbp_eval[\"E-score\"].values, "
   ]
  },
  {
   "cell_type": "code",
   "execution_count": 292,
   "id": "bf7ce3d1-33aa-4dc5-a30f-7edeb2183977",
   "metadata": {
    "execution": {
     "iopub.execute_input": "2022-08-27T00:41:52.360585Z",
     "iopub.status.busy": "2022-08-27T00:41:52.359961Z",
     "iopub.status.idle": "2022-08-27T00:42:01.595428Z",
     "shell.execute_reply": "2022-08-27T00:42:01.594245Z",
     "shell.execute_reply.started": "2022-08-27T00:41:52.360537Z"
    },
    "tags": []
   },
   "outputs": [],
   "source": [
    "metr = rna_complete_metrics_apply(a_presence_absence, observed, num_kmers=100, verbose=False)"
   ]
  },
  {
   "cell_type": "code",
   "execution_count": 293,
   "id": "b865472d-19b2-47d7-aef9-ddd6acdd6a9f",
   "metadata": {
    "execution": {
     "iopub.execute_input": "2022-08-27T00:42:01.597730Z",
     "iopub.status.busy": "2022-08-27T00:42:01.597357Z",
     "iopub.status.idle": "2022-08-27T00:42:11.270184Z",
     "shell.execute_reply": "2022-08-27T00:42:11.269317Z",
     "shell.execute_reply.started": "2022-08-27T00:42:01.597699Z"
    }
   },
   "outputs": [
    {
     "name": "stderr",
     "output_type": "stream",
     "text": [
      "100%|██████████| 100/100 [00:05<00:00, 19.76it/s]\n"
     ]
    }
   ],
   "source": [
    "metr = rna_complete_metrics_apply(a_presence_absence, observed, num_kmers=100, verbose=True)"
   ]
  },
  {
   "cell_type": "code",
   "execution_count": 294,
   "id": "84ebe91c-13ba-422c-bd7d-fffd516713c8",
   "metadata": {
    "execution": {
     "iopub.execute_input": "2022-08-27T00:42:13.052179Z",
     "iopub.status.busy": "2022-08-27T00:42:13.051630Z",
     "iopub.status.idle": "2022-08-27T00:42:17.594588Z",
     "shell.execute_reply": "2022-08-27T00:42:17.593492Z",
     "shell.execute_reply.started": "2022-08-27T00:42:13.052142Z"
    },
    "tags": []
   },
   "outputs": [],
   "source": [
    "def column_rnac_metrics_apply(sdata, kmer_presence_mtx, probe_id, n_kmers=None, return_cors=False, use_calc_auc=False, verbose=True):\n",
    "    observed = sdata[probe_id].values\n",
    "    preds = sdata[f\"{probe_id}_predictions\"].values\n",
    "    \n",
    "    # Get zscores, aucs and escores from observed intensities\n",
    "    observed_zscores, observed_aucs, observed_escores = rna_complete_metrics_apply(kmer_presence_mtx, observed, num_kmers=n_kmers, verbose=verbose, use_calc_auc=use_calc_auc)\n",
    "\n",
    "    # Get zscores, aucs, and escores from predicted intensities\n",
    "    preds_zscores, preds_aucs, preds_escores = rna_complete_metrics_apply(kmer_presence_mtx, preds, num_kmers=n_kmers, verbose=verbose, use_calc_auc=use_calc_auc)\n",
    "    \n",
    "    # Z-scores\n",
    "    zscore_pearson = pearsonr(preds_zscores, observed_zscores)[0]\n",
    "    zscore_spearman = spearmanr(preds_zscores, observed_zscores).correlation\n",
    "\n",
    "    # AUCs\n",
    "    auc_pearson = pearsonr(preds_aucs, observed_aucs)[0]\n",
    "    auc_spearman = spearmanr(preds_aucs, observed_aucs).correlation\n",
    "\n",
    "    # E-scores\n",
    "    escore_pearson = pearsonr(preds_escores, observed_escores)[0]\n",
    "    escore_spearman = spearmanr(preds_escores, observed_escores).correlation\n",
    "\n",
    "    # Intensities\n",
    "    intensity_pearson = pearsonr(observed, preds)[0]\n",
    "    intensity_spearman = spearmanr(observed, preds).correlation\n",
    "    \n",
    "    if return_cors:\n",
    "        pearson = {\"Z-score\": zscore_pearson, \"AUC\": auc_pearson, \"E-score\": escore_pearson, \"Intensity\": intensity_pearson}\n",
    "        spearman = {\"Z-score\": zscore_spearman, \"AUC\": auc_spearman, \"E-score\": escore_spearman, \"Intensity\": intensity_spearman}\n",
    "        return pearson, spearman\n",
    "    \n",
    "    fig, ax = plt.subplots(1, 4, figsize=(16, 4))\n",
    "    ax[0].scatter(observed_zscores, preds_zscores)\n",
    "    ax[0].set_title(\"Z-scores\")\n",
    "    ax[0].set_xlabel(\"Observed\")\n",
    "    ax[0].set_ylabel(\"Predicted\")\n",
    "    ax[0].text(0.75, 0.05, \"r=\" + str(round(zscore_pearson, 2)) + \"\\nrho=\" + str(round(zscore_spearman, 2)), transform=ax[0].transAxes)\n",
    "\n",
    "    ax[1].scatter(observed_aucs, preds_aucs)\n",
    "    ax[1].set_title(\"AUCs\")\n",
    "    ax[1].set_xlabel(\"Observed\")\n",
    "    ax[1].set_ylabel(\"Predicted\")\n",
    "    ax[1].text(0.75, 0.05, \"r=\" + str(round(auc_pearson, 2)) + \"\\nrho=\" + str(round(auc_spearman, 2)), transform=ax[1].transAxes)\n",
    "\n",
    "    ax[2].scatter(observed_escores, preds_escores)\n",
    "    ax[2].set_title(\"E-scores\")\n",
    "    ax[2].set_xlabel(\"Observed\")\n",
    "    ax[2].set_ylabel(\"Predicted\")\n",
    "    ax[2].text(0.75, 0.05, \"r=\" + str(round(escore_pearson, 2)) + \"\\nrho=\" + str(round(escore_spearman, 2)), transform=ax[2].transAxes)\n",
    "\n",
    "    ax[3].scatter(observed, preds)\n",
    "    ax[3].set_title(\"Intensities\")\n",
    "    ax[3].set_xlabel(\"Observed\")\n",
    "    ax[3].set_ylabel(\"Predicted\")\n",
    "    ax[3].text(0.75, 0.05, \"r=\" + str(round(intensity_pearson, 2)) + \"\\nrho=\" + str(round(intensity_spearman, 2)), transform=ax[3].transAxes)\n",
    "\n",
    "    plt.tight_layout()"
   ]
  },
  {
   "cell_type": "code",
   "execution_count": 295,
   "id": "07ee8ac5-91e2-4e9f-a82e-0a67dcb1b10b",
   "metadata": {
    "execution": {
     "iopub.execute_input": "2022-08-27T00:42:24.352074Z",
     "iopub.status.busy": "2022-08-27T00:42:24.351707Z",
     "iopub.status.idle": "2022-08-27T00:42:41.016008Z",
     "shell.execute_reply": "2022-08-27T00:42:41.014821Z",
     "shell.execute_reply.started": "2022-08-27T00:42:24.352039Z"
    },
    "tags": []
   },
   "outputs": [
    {
     "name": "stderr",
     "output_type": "stream",
     "text": [
      "100%|██████████| 100/100 [00:05<00:00, 19.74it/s]\n",
      "100%|██████████| 100/100 [00:05<00:00, 19.47it/s]\n"
     ]
    },
    {
     "data": {
      "image/png": "[encoded data removed]",
      "text/plain": [
       "<Figure size 1152x288 with 4 Axes>"
      ]
     },
     "metadata": {
      "needs_background": "light"
     },
     "output_type": "display_data"
    }
   ],
   "source": [
    "column_rnac_metrics_apply(sdata=sdata_set_a, kmer_presence_mtx=a_presence_absence, probe_id=probe_id, n_kmers=100, verbose=True)"
   ]
  },
  {
   "cell_type": "code",
   "execution_count": 296,
   "id": "e2095ef2-a020-4555-8c13-96b4f8e651da",
   "metadata": {
    "execution": {
     "iopub.execute_input": "2022-08-27T00:42:41.018521Z",
     "iopub.status.busy": "2022-08-27T00:42:41.018008Z",
     "iopub.status.idle": "2022-08-27T00:43:34.933277Z",
     "shell.execute_reply": "2022-08-27T00:43:34.931943Z",
     "shell.execute_reply.started": "2022-08-27T00:42:41.018474Z"
    },
    "tags": []
   },
   "outputs": [
    {
     "data": {
      "image/png": "[encoded data removed]",
      "text/plain": [
       "<Figure size 1152x288 with 4 Axes>"
      ]
     },
     "metadata": {
      "needs_background": "light"
     },
     "output_type": "display_data"
    }
   ],
   "source": [
    "column_rnac_metrics_apply(sdata=sdata_set_a, kmer_presence_mtx=a_presence_absence, probe_id=probe_id, n_kmers=100, use_calc_auc=True, verbose=False)"
   ]
  },
  {
   "cell_type": "code",
   "execution_count": 297,
   "id": "f785fce6-9ab3-4d53-8937-7a4d500775fa",
   "metadata": {
    "execution": {
     "iopub.execute_input": "2022-08-27T00:43:34.935437Z",
     "iopub.status.busy": "2022-08-27T00:43:34.934978Z",
     "iopub.status.idle": "2022-08-27T00:43:39.152476Z",
     "shell.execute_reply": "2022-08-27T00:43:39.151066Z",
     "shell.execute_reply.started": "2022-08-27T00:43:34.935402Z"
    },
    "tags": []
   },
   "outputs": [],
   "source": [
    "from tqdm.auto import tqdm\n",
    "def summarize_rbps_apply(sdata, kmer_presence_mtx, probe_ids, n_kmers=100, verbose=False, use_calc_auc=False):\n",
    "    spearman_summary = pd.DataFrame()\n",
    "    pearson_summary = pd.DataFrame()\n",
    "    for i, probe_id in tqdm(enumerate(probe_ids), desc=\"Evaluating probes\", total=len(probe_ids)):\n",
    "        rs, rhos = column_rnac_metrics_apply(sdata, kmer_presence_mtx, probe_id=probe_id, n_kmers=n_kmers, return_cors=True, verbose=verbose, use_calc_auc=use_calc_auc)\n",
    "        pearson_summary = pd.concat([pearson_summary, pd.DataFrame(rs, index=[probe_id])], axis=0)\n",
    "        spearman_summary = pd.concat([spearman_summary, pd.DataFrame(rhos, index=[probe_id])], axis=0)\n",
    "    return pearson_summary, spearman_summary"
   ]
  },
  {
   "cell_type": "code",
   "execution_count": 303,
   "id": "11909459-be22-4cc6-84ba-769e1b9a0612",
   "metadata": {
    "execution": {
     "iopub.execute_input": "2022-08-27T00:45:34.026011Z",
     "iopub.status.busy": "2022-08-27T00:45:34.025629Z",
     "iopub.status.idle": "2022-08-27T00:45:38.462030Z",
     "shell.execute_reply": "2022-08-27T00:45:38.460722Z",
     "shell.execute_reply.started": "2022-08-27T00:45:34.025965Z"
    },
    "tags": []
   },
   "outputs": [],
   "source": [
    "all_probe_ids = sdata_set_b.seqs_annot.columns[~sdata_set_b.seqs_annot.columns.str.contains(\"predictions\")][:-1]"
   ]
  },
  {
   "cell_type": "code",
   "execution_count": 307,
   "id": "513c9af1-9803-4431-8894-ade0ebc10574",
   "metadata": {
    "execution": {
     "iopub.execute_input": "2022-08-27T00:55:06.916715Z",
     "iopub.status.busy": "2022-08-27T00:55:06.916247Z",
     "iopub.status.idle": "2022-08-27T00:55:26.456518Z",
     "shell.execute_reply": "2022-08-27T00:55:26.454565Z",
     "shell.execute_reply.started": "2022-08-27T00:55:06.916673Z"
    },
    "tags": []
   },
   "outputs": [
    {
     "data": {
      "application/vnd.jupyter.widget-view+json": {
       "model_id": "a908dfabc8a8416691957f2fd46c8a50",
       "version_major": 2,
       "version_minor": 0
      },
      "text/plain": [
       "Evaluating probes:   0%|          | 0/236 [00:00<?, ?it/s]"
      ]
     },
     "metadata": {},
     "output_type": "display_data"
    },
    {
     "name": "stderr",
     "output_type": "stream",
     "text": [
      "\n",
      "  0%|          | 0/16384 [00:00<?, ?it/s]\u001b[A\n",
      "  0%|          | 2/16384 [00:00<33:27,  8.16it/s]\u001b[A\n",
      "  0%|          | 3/16384 [00:00<46:37,  5.86it/s]\u001b[A\n",
      "  0%|          | 4/16384 [00:00<56:29,  4.83it/s]\u001b[A\n",
      "  0%|          | 5/16384 [00:01<1:03:28,  4.30it/s]\u001b[A\n",
      "  0%|          | 6/16384 [00:01<1:04:03,  4.26it/s]\u001b[A\n",
      "  0%|          | 7/16384 [00:01<1:04:24,  4.24it/s]\u001b[A\n",
      "  0%|          | 8/16384 [00:01<1:04:41,  4.22it/s]\u001b[A\n",
      "  0%|          | 9/16384 [00:02<1:06:20,  4.11it/s]\u001b[A\n",
      "  0%|          | 10/16384 [00:02<1:06:26,  4.11it/s]\u001b[A\n",
      "  0%|          | 11/16384 [00:02<1:06:07,  4.13it/s]\u001b[A\n",
      "  0%|          | 12/16384 [00:02<1:05:43,  4.15it/s]\u001b[A\n",
      "  0%|          | 13/16384 [00:02<1:05:25,  4.17it/s]\u001b[A\n",
      "  0%|          | 14/16384 [00:03<1:05:14,  4.18it/s]\u001b[A\n",
      "  0%|          | 15/16384 [00:03<1:05:09,  4.19it/s]\u001b[A\n",
      "  0%|          | 16/16384 [00:03<1:05:05,  4.19it/s]\u001b[A\n",
      "  0%|          | 17/16384 [00:03<1:05:07,  4.19it/s]\u001b[A\n",
      "  0%|          | 18/16384 [00:04<1:04:56,  4.20it/s]\u001b[A\n",
      "  0%|          | 19/16384 [00:04<1:05:05,  4.19it/s]\u001b[A\n",
      "  0%|          | 20/16384 [00:04<1:05:03,  4.19it/s]\u001b[A\n",
      "  0%|          | 21/16384 [00:04<1:04:59,  4.20it/s]\u001b[A\n",
      "  0%|          | 22/16384 [00:05<1:04:56,  4.20it/s]\u001b[A\n",
      "  0%|          | 23/16384 [00:05<1:04:58,  4.20it/s]\u001b[A\n",
      "  0%|          | 24/16384 [00:05<1:04:58,  4.20it/s]\u001b[A\n",
      "  0%|          | 25/16384 [00:05<1:05:11,  4.18it/s]\u001b[A\n",
      "  0%|          | 26/16384 [00:06<1:05:00,  4.19it/s]\u001b[A\n",
      "  0%|          | 27/16384 [00:06<1:05:15,  4.18it/s]\u001b[A\n",
      "  0%|          | 28/16384 [00:06<1:05:07,  4.19it/s]\u001b[A\n",
      "  0%|          | 29/16384 [00:06<1:07:18,  4.05it/s]\u001b[A\n",
      "  0%|          | 30/16384 [00:07<1:07:01,  4.07it/s]\u001b[A\n",
      "  0%|          | 31/16384 [00:07<1:06:27,  4.10it/s]\u001b[A\n",
      "  0%|          | 32/16384 [00:07<1:06:03,  4.13it/s]\u001b[A\n",
      "  0%|          | 33/16384 [00:07<1:05:53,  4.14it/s]\u001b[A\n",
      "  0%|          | 34/16384 [00:08<1:05:37,  4.15it/s]\u001b[A\n",
      "  0%|          | 35/16384 [00:08<1:05:30,  4.16it/s]\u001b[A\n",
      "  0%|          | 36/16384 [00:08<1:05:11,  4.18it/s]\u001b[A\n",
      "  0%|          | 37/16384 [00:08<1:05:15,  4.18it/s]\u001b[A\n",
      "  0%|          | 38/16384 [00:08<1:05:09,  4.18it/s]\u001b[A\n",
      "  0%|          | 39/16384 [00:09<1:05:05,  4.19it/s]\u001b[A\n",
      "  0%|          | 40/16384 [00:09<1:05:04,  4.19it/s]\u001b[A\n",
      "  0%|          | 41/16384 [00:09<1:05:01,  4.19it/s]\u001b[A\n",
      "  0%|          | 42/16384 [00:09<1:04:58,  4.19it/s]\u001b[A\n",
      "  0%|          | 43/16384 [00:10<1:05:54,  4.13it/s]\u001b[A\n",
      "  0%|          | 44/16384 [00:10<1:05:38,  4.15it/s]\u001b[A\n",
      "  0%|          | 45/16384 [00:10<1:05:29,  4.16it/s]\u001b[A\n",
      "  0%|          | 46/16384 [00:10<1:08:14,  3.99it/s]\u001b[A\n",
      "  0%|          | 47/16384 [00:11<1:07:06,  4.06it/s]\u001b[A\n",
      "  0%|          | 48/16384 [00:11<1:06:20,  4.10it/s]\u001b[A\n",
      "  0%|          | 49/16384 [00:11<1:05:53,  4.13it/s]\u001b[A\n",
      "  0%|          | 50/16384 [00:11<1:05:36,  4.15it/s]\u001b[A\n",
      "  0%|          | 51/16384 [00:12<1:05:17,  4.17it/s]\u001b[A\n",
      "  0%|          | 52/16384 [00:12<1:05:05,  4.18it/s]\u001b[A\n",
      "  0%|          | 53/16384 [00:12<1:04:50,  4.20it/s]\u001b[A\n",
      "  0%|          | 54/16384 [00:12<1:04:49,  4.20it/s]\u001b[A\n",
      "  0%|          | 55/16384 [00:13<1:05:02,  4.18it/s]\u001b[A\n",
      "  0%|          | 56/16384 [00:13<1:04:52,  4.19it/s]\u001b[A\n",
      "  0%|          | 57/16384 [00:13<1:04:57,  4.19it/s]\u001b[A\n",
      "  0%|          | 58/16384 [00:13<1:07:26,  4.03it/s]\u001b[A\n",
      "  0%|          | 59/16384 [00:14<1:06:58,  4.06it/s]\u001b[A\n",
      "  0%|          | 60/16384 [00:14<1:06:23,  4.10it/s]\u001b[A\n",
      "  0%|          | 61/16384 [00:14<1:05:55,  4.13it/s]\u001b[A\n",
      "  0%|          | 62/16384 [00:14<1:05:22,  4.16it/s]\u001b[A\n"
     ]
    },
    {
     "ename": "KeyboardInterrupt",
     "evalue": "",
     "output_type": "error",
     "traceback": [
      "\u001b[0;31m---------------------------------------------------------------------------\u001b[0m",
      "\u001b[0;31mKeyboardInterrupt\u001b[0m                         Traceback (most recent call last)",
      "\u001b[0;32m/tmp/ipykernel_679707/3176297271.py\u001b[0m in \u001b[0;36m<module>\u001b[0;34m\u001b[0m\n\u001b[0;32m----> 1\u001b[0;31m \u001b[0mpearson_df\u001b[0m\u001b[0;34m,\u001b[0m \u001b[0mspearman_df\u001b[0m \u001b[0;34m=\u001b[0m \u001b[0msummarize_rbps_apply\u001b[0m\u001b[0;34m(\u001b[0m\u001b[0msdata_set_b\u001b[0m\u001b[0;34m,\u001b[0m \u001b[0mb_presence_absence\u001b[0m\u001b[0;34m,\u001b[0m \u001b[0mall_probe_ids\u001b[0m\u001b[0;34m,\u001b[0m \u001b[0mn_kmers\u001b[0m\u001b[0;34m=\u001b[0m\u001b[0;32mNone\u001b[0m\u001b[0;34m,\u001b[0m \u001b[0muse_calc_auc\u001b[0m\u001b[0;34m=\u001b[0m\u001b[0;32mTrue\u001b[0m\u001b[0;34m,\u001b[0m \u001b[0mverbose\u001b[0m\u001b[0;34m=\u001b[0m\u001b[0;32mTrue\u001b[0m\u001b[0;34m)\u001b[0m\u001b[0;34m\u001b[0m\u001b[0;34m\u001b[0m\u001b[0m\n\u001b[0m",
      "\u001b[0;32m/tmp/ipykernel_679707/1848209900.py\u001b[0m in \u001b[0;36msummarize_rbps_apply\u001b[0;34m(sdata, kmer_presence_mtx, probe_ids, n_kmers, verbose, use_calc_auc)\u001b[0m\n\u001b[1;32m      4\u001b[0m     \u001b[0mpearson_summary\u001b[0m \u001b[0;34m=\u001b[0m \u001b[0mpd\u001b[0m\u001b[0;34m.\u001b[0m\u001b[0mDataFrame\u001b[0m\u001b[0;34m(\u001b[0m\u001b[0;34m)\u001b[0m\u001b[0;34m\u001b[0m\u001b[0;34m\u001b[0m\u001b[0m\n\u001b[1;32m      5\u001b[0m     \u001b[0;32mfor\u001b[0m \u001b[0mi\u001b[0m\u001b[0;34m,\u001b[0m \u001b[0mprobe_id\u001b[0m \u001b[0;32min\u001b[0m \u001b[0mtqdm\u001b[0m\u001b[0;34m(\u001b[0m\u001b[0menumerate\u001b[0m\u001b[0;34m(\u001b[0m\u001b[0mprobe_ids\u001b[0m\u001b[0;34m)\u001b[0m\u001b[0;34m,\u001b[0m \u001b[0mdesc\u001b[0m\u001b[0;34m=\u001b[0m\u001b[0;34m\"Evaluating probes\"\u001b[0m\u001b[0;34m,\u001b[0m \u001b[0mtotal\u001b[0m\u001b[0;34m=\u001b[0m\u001b[0mlen\u001b[0m\u001b[0;34m(\u001b[0m\u001b[0mprobe_ids\u001b[0m\u001b[0;34m)\u001b[0m\u001b[0;34m)\u001b[0m\u001b[0;34m:\u001b[0m\u001b[0;34m\u001b[0m\u001b[0;34m\u001b[0m\u001b[0m\n\u001b[0;32m----> 6\u001b[0;31m         \u001b[0mrs\u001b[0m\u001b[0;34m,\u001b[0m \u001b[0mrhos\u001b[0m \u001b[0;34m=\u001b[0m \u001b[0mcolumn_rnac_metrics_apply\u001b[0m\u001b[0;34m(\u001b[0m\u001b[0msdata\u001b[0m\u001b[0;34m,\u001b[0m \u001b[0mkmer_presence_mtx\u001b[0m\u001b[0;34m,\u001b[0m \u001b[0mprobe_id\u001b[0m\u001b[0;34m=\u001b[0m\u001b[0mprobe_id\u001b[0m\u001b[0;34m,\u001b[0m \u001b[0mn_kmers\u001b[0m\u001b[0;34m=\u001b[0m\u001b[0mn_kmers\u001b[0m\u001b[0;34m,\u001b[0m \u001b[0mreturn_cors\u001b[0m\u001b[0;34m=\u001b[0m\u001b[0;32mTrue\u001b[0m\u001b[0;34m,\u001b[0m \u001b[0mverbose\u001b[0m\u001b[0;34m=\u001b[0m\u001b[0mverbose\u001b[0m\u001b[0;34m,\u001b[0m \u001b[0muse_calc_auc\u001b[0m\u001b[0;34m=\u001b[0m\u001b[0muse_calc_auc\u001b[0m\u001b[0;34m)\u001b[0m\u001b[0;34m\u001b[0m\u001b[0;34m\u001b[0m\u001b[0m\n\u001b[0m\u001b[1;32m      7\u001b[0m         \u001b[0mpearson_summary\u001b[0m \u001b[0;34m=\u001b[0m \u001b[0mpd\u001b[0m\u001b[0;34m.\u001b[0m\u001b[0mconcat\u001b[0m\u001b[0;34m(\u001b[0m\u001b[0;34m[\u001b[0m\u001b[0mpearson_summary\u001b[0m\u001b[0;34m,\u001b[0m \u001b[0mpd\u001b[0m\u001b[0;34m.\u001b[0m\u001b[0mDataFrame\u001b[0m\u001b[0;34m(\u001b[0m\u001b[0mrs\u001b[0m\u001b[0;34m,\u001b[0m \u001b[0mindex\u001b[0m\u001b[0;34m=\u001b[0m\u001b[0;34m[\u001b[0m\u001b[0mprobe_id\u001b[0m\u001b[0;34m]\u001b[0m\u001b[0;34m)\u001b[0m\u001b[0;34m]\u001b[0m\u001b[0;34m,\u001b[0m \u001b[0maxis\u001b[0m\u001b[0;34m=\u001b[0m\u001b[0;36m0\u001b[0m\u001b[0;34m)\u001b[0m\u001b[0;34m\u001b[0m\u001b[0;34m\u001b[0m\u001b[0m\n\u001b[1;32m      8\u001b[0m         \u001b[0mspearman_summary\u001b[0m \u001b[0;34m=\u001b[0m \u001b[0mpd\u001b[0m\u001b[0;34m.\u001b[0m\u001b[0mconcat\u001b[0m\u001b[0;34m(\u001b[0m\u001b[0;34m[\u001b[0m\u001b[0mspearman_summary\u001b[0m\u001b[0;34m,\u001b[0m \u001b[0mpd\u001b[0m\u001b[0;34m.\u001b[0m\u001b[0mDataFrame\u001b[0m\u001b[0;34m(\u001b[0m\u001b[0mrhos\u001b[0m\u001b[0;34m,\u001b[0m \u001b[0mindex\u001b[0m\u001b[0;34m=\u001b[0m\u001b[0;34m[\u001b[0m\u001b[0mprobe_id\u001b[0m\u001b[0;34m]\u001b[0m\u001b[0;34m)\u001b[0m\u001b[0;34m]\u001b[0m\u001b[0;34m,\u001b[0m \u001b[0maxis\u001b[0m\u001b[0;34m=\u001b[0m\u001b[0;36m0\u001b[0m\u001b[0;34m)\u001b[0m\u001b[0;34m\u001b[0m\u001b[0;34m\u001b[0m\u001b[0m\n",
      "\u001b[0;32m/tmp/ipykernel_679707/680893931.py\u001b[0m in \u001b[0;36mcolumn_rnac_metrics_apply\u001b[0;34m(sdata, kmer_presence_mtx, probe_id, n_kmers, return_cors, use_calc_auc, verbose)\u001b[0m\n\u001b[1;32m      4\u001b[0m \u001b[0;34m\u001b[0m\u001b[0m\n\u001b[1;32m      5\u001b[0m     \u001b[0;31m# Get zscores, aucs and escores from observed intensities\u001b[0m\u001b[0;34m\u001b[0m\u001b[0;34m\u001b[0m\u001b[0;34m\u001b[0m\u001b[0m\n\u001b[0;32m----> 6\u001b[0;31m     \u001b[0mobserved_zscores\u001b[0m\u001b[0;34m,\u001b[0m \u001b[0mobserved_aucs\u001b[0m\u001b[0;34m,\u001b[0m \u001b[0mobserved_escores\u001b[0m \u001b[0;34m=\u001b[0m \u001b[0mrna_complete_metrics_apply\u001b[0m\u001b[0;34m(\u001b[0m\u001b[0mkmer_presence_mtx\u001b[0m\u001b[0;34m,\u001b[0m \u001b[0mobserved\u001b[0m\u001b[0;34m,\u001b[0m \u001b[0mnum_kmers\u001b[0m\u001b[0;34m=\u001b[0m\u001b[0mn_kmers\u001b[0m\u001b[0;34m,\u001b[0m \u001b[0mverbose\u001b[0m\u001b[0;34m=\u001b[0m\u001b[0mverbose\u001b[0m\u001b[0;34m,\u001b[0m \u001b[0muse_calc_auc\u001b[0m\u001b[0;34m=\u001b[0m\u001b[0muse_calc_auc\u001b[0m\u001b[0;34m)\u001b[0m\u001b[0;34m\u001b[0m\u001b[0;34m\u001b[0m\u001b[0m\n\u001b[0m\u001b[1;32m      7\u001b[0m \u001b[0;34m\u001b[0m\u001b[0m\n\u001b[1;32m      8\u001b[0m     \u001b[0;31m# Get zscores, aucs, and escores from predicted intensities\u001b[0m\u001b[0;34m\u001b[0m\u001b[0;34m\u001b[0m\u001b[0;34m\u001b[0m\u001b[0m\n",
      "\u001b[0;32m/tmp/ipykernel_679707/2317901422.py\u001b[0m in \u001b[0;36mrna_complete_metrics_apply\u001b[0;34m(kmer_presence_mtx, intensities, num_kmers, use_calc_auc, verbose)\u001b[0m\n\u001b[1;32m      5\u001b[0m     \u001b[0;32mif\u001b[0m \u001b[0mverbose\u001b[0m\u001b[0;34m:\u001b[0m\u001b[0;34m\u001b[0m\u001b[0;34m\u001b[0m\u001b[0m\n\u001b[1;32m      6\u001b[0m         \u001b[0;32mif\u001b[0m \u001b[0muse_calc_auc\u001b[0m\u001b[0;34m:\u001b[0m\u001b[0;34m\u001b[0m\u001b[0;34m\u001b[0m\u001b[0m\n\u001b[0;32m----> 7\u001b[0;31m             \u001b[0mrbp_eval\u001b[0m \u001b[0;34m=\u001b[0m \u001b[0mdf_sub\u001b[0m\u001b[0;34m.\u001b[0m\u001b[0mprogress_apply\u001b[0m\u001b[0;34m(\u001b[0m\u001b[0;32mlambda\u001b[0m \u001b[0mpreds\u001b[0m\u001b[0;34m:\u001b[0m \u001b[0mpd\u001b[0m\u001b[0;34m.\u001b[0m\u001b[0mSeries\u001b[0m\u001b[0;34m(\u001b[0m\u001b[0;34m{\u001b[0m\u001b[0;34m'Median'\u001b[0m\u001b[0;34m:\u001b[0m \u001b[0mmedian_calc\u001b[0m\u001b[0;34m(\u001b[0m\u001b[0mpreds\u001b[0m\u001b[0;34m,\u001b[0m \u001b[0my\u001b[0m\u001b[0;34m)\u001b[0m\u001b[0;34m,\u001b[0m \u001b[0;34m'AUC'\u001b[0m\u001b[0;34m:\u001b[0m \u001b[0mcalc_auc\u001b[0m\u001b[0;34m(\u001b[0m\u001b[0my\u001b[0m\u001b[0;34m,\u001b[0m \u001b[0mpreds\u001b[0m\u001b[0;34m)\u001b[0m\u001b[0;34m,\u001b[0m \u001b[0;34m'E-score'\u001b[0m\u001b[0;34m:\u001b[0m \u001b[0mescore\u001b[0m\u001b[0;34m(\u001b[0m\u001b[0mpreds\u001b[0m\u001b[0;34m,\u001b[0m \u001b[0my\u001b[0m\u001b[0;34m,\u001b[0m \u001b[0muse_calc_auc\u001b[0m\u001b[0;34m=\u001b[0m\u001b[0;32mTrue\u001b[0m\u001b[0;34m)\u001b[0m\u001b[0;34m}\u001b[0m\u001b[0;34m)\u001b[0m\u001b[0;34m,\u001b[0m \u001b[0maxis\u001b[0m\u001b[0;34m=\u001b[0m\u001b[0;36m1\u001b[0m\u001b[0;34m)\u001b[0m\u001b[0;34m\u001b[0m\u001b[0;34m\u001b[0m\u001b[0m\n\u001b[0m\u001b[1;32m      8\u001b[0m         \u001b[0;32melse\u001b[0m\u001b[0;34m:\u001b[0m\u001b[0;34m\u001b[0m\u001b[0;34m\u001b[0m\u001b[0m\n\u001b[1;32m      9\u001b[0m             \u001b[0mrbp_eval\u001b[0m \u001b[0;34m=\u001b[0m \u001b[0mdf_sub\u001b[0m\u001b[0;34m.\u001b[0m\u001b[0mprogress_apply\u001b[0m\u001b[0;34m(\u001b[0m\u001b[0;32mlambda\u001b[0m \u001b[0mpreds\u001b[0m\u001b[0;34m:\u001b[0m \u001b[0mpd\u001b[0m\u001b[0;34m.\u001b[0m\u001b[0mSeries\u001b[0m\u001b[0;34m(\u001b[0m\u001b[0;34m{\u001b[0m\u001b[0;34m'Median'\u001b[0m\u001b[0;34m:\u001b[0m \u001b[0mmedian_calc\u001b[0m\u001b[0;34m(\u001b[0m\u001b[0mpreds\u001b[0m\u001b[0;34m,\u001b[0m \u001b[0my\u001b[0m\u001b[0;34m)\u001b[0m\u001b[0;34m,\u001b[0m \u001b[0;34m'AUC'\u001b[0m\u001b[0;34m:\u001b[0m \u001b[0mauc_calc\u001b[0m\u001b[0;34m(\u001b[0m\u001b[0mpreds\u001b[0m\u001b[0;34m,\u001b[0m \u001b[0my\u001b[0m\u001b[0;34m)\u001b[0m\u001b[0;34m,\u001b[0m \u001b[0;34m'E-score'\u001b[0m\u001b[0;34m:\u001b[0m \u001b[0mescore\u001b[0m\u001b[0;34m(\u001b[0m\u001b[0mpreds\u001b[0m\u001b[0;34m,\u001b[0m \u001b[0my\u001b[0m\u001b[0;34m)\u001b[0m\u001b[0;34m}\u001b[0m\u001b[0;34m)\u001b[0m\u001b[0;34m,\u001b[0m \u001b[0maxis\u001b[0m\u001b[0;34m=\u001b[0m\u001b[0;36m1\u001b[0m\u001b[0;34m)\u001b[0m\u001b[0;34m\u001b[0m\u001b[0;34m\u001b[0m\u001b[0m\n",
      "\u001b[0;32m~/opt/miniconda3/envs/eugene_dev/lib/python3.7/site-packages/tqdm/std.py\u001b[0m in \u001b[0;36minner\u001b[0;34m(df, func, *args, **kwargs)\u001b[0m\n\u001b[1;32m    812\u001b[0m                 \u001b[0;31m# on the df using our wrapper (which provides bar updating)\u001b[0m\u001b[0;34m\u001b[0m\u001b[0;34m\u001b[0m\u001b[0;34m\u001b[0m\u001b[0m\n\u001b[1;32m    813\u001b[0m                 \u001b[0;32mtry\u001b[0m\u001b[0;34m:\u001b[0m\u001b[0;34m\u001b[0m\u001b[0;34m\u001b[0m\u001b[0m\n\u001b[0;32m--> 814\u001b[0;31m                     \u001b[0;32mreturn\u001b[0m \u001b[0mgetattr\u001b[0m\u001b[0;34m(\u001b[0m\u001b[0mdf\u001b[0m\u001b[0;34m,\u001b[0m \u001b[0mdf_function\u001b[0m\u001b[0;34m)\u001b[0m\u001b[0;34m(\u001b[0m\u001b[0mwrapper\u001b[0m\u001b[0;34m,\u001b[0m \u001b[0;34m**\u001b[0m\u001b[0mkwargs\u001b[0m\u001b[0;34m)\u001b[0m\u001b[0;34m\u001b[0m\u001b[0;34m\u001b[0m\u001b[0m\n\u001b[0m\u001b[1;32m    815\u001b[0m                 \u001b[0;32mfinally\u001b[0m\u001b[0;34m:\u001b[0m\u001b[0;34m\u001b[0m\u001b[0;34m\u001b[0m\u001b[0m\n\u001b[1;32m    816\u001b[0m                     \u001b[0mt\u001b[0m\u001b[0;34m.\u001b[0m\u001b[0mclose\u001b[0m\u001b[0;34m(\u001b[0m\u001b[0;34m)\u001b[0m\u001b[0;34m\u001b[0m\u001b[0;34m\u001b[0m\u001b[0m\n",
      "\u001b[0;32m~/opt/miniconda3/envs/eugene_dev/lib/python3.7/site-packages/pandas/core/frame.py\u001b[0m in \u001b[0;36mapply\u001b[0;34m(self, func, axis, raw, result_type, args, **kwargs)\u001b[0m\n\u001b[1;32m   8734\u001b[0m             \u001b[0mkwargs\u001b[0m\u001b[0;34m=\u001b[0m\u001b[0mkwargs\u001b[0m\u001b[0;34m,\u001b[0m\u001b[0;34m\u001b[0m\u001b[0;34m\u001b[0m\u001b[0m\n\u001b[1;32m   8735\u001b[0m         )\n\u001b[0;32m-> 8736\u001b[0;31m         \u001b[0;32mreturn\u001b[0m \u001b[0mop\u001b[0m\u001b[0;34m.\u001b[0m\u001b[0mapply\u001b[0m\u001b[0;34m(\u001b[0m\u001b[0;34m)\u001b[0m\u001b[0;34m\u001b[0m\u001b[0;34m\u001b[0m\u001b[0m\n\u001b[0m\u001b[1;32m   8737\u001b[0m \u001b[0;34m\u001b[0m\u001b[0m\n\u001b[1;32m   8738\u001b[0m     def applymap(\n",
      "\u001b[0;32m~/opt/miniconda3/envs/eugene_dev/lib/python3.7/site-packages/pandas/core/apply.py\u001b[0m in \u001b[0;36mapply\u001b[0;34m(self)\u001b[0m\n\u001b[1;32m    686\u001b[0m             \u001b[0;32mreturn\u001b[0m \u001b[0mself\u001b[0m\u001b[0;34m.\u001b[0m\u001b[0mapply_raw\u001b[0m\u001b[0;34m(\u001b[0m\u001b[0;34m)\u001b[0m\u001b[0;34m\u001b[0m\u001b[0;34m\u001b[0m\u001b[0m\n\u001b[1;32m    687\u001b[0m \u001b[0;34m\u001b[0m\u001b[0m\n\u001b[0;32m--> 688\u001b[0;31m         \u001b[0;32mreturn\u001b[0m \u001b[0mself\u001b[0m\u001b[0;34m.\u001b[0m\u001b[0mapply_standard\u001b[0m\u001b[0;34m(\u001b[0m\u001b[0;34m)\u001b[0m\u001b[0;34m\u001b[0m\u001b[0;34m\u001b[0m\u001b[0m\n\u001b[0m\u001b[1;32m    689\u001b[0m \u001b[0;34m\u001b[0m\u001b[0m\n\u001b[1;32m    690\u001b[0m     \u001b[0;32mdef\u001b[0m \u001b[0magg\u001b[0m\u001b[0;34m(\u001b[0m\u001b[0mself\u001b[0m\u001b[0;34m)\u001b[0m\u001b[0;34m:\u001b[0m\u001b[0;34m\u001b[0m\u001b[0;34m\u001b[0m\u001b[0m\n",
      "\u001b[0;32m~/opt/miniconda3/envs/eugene_dev/lib/python3.7/site-packages/pandas/core/apply.py\u001b[0m in \u001b[0;36mapply_standard\u001b[0;34m(self)\u001b[0m\n\u001b[1;32m    803\u001b[0m \u001b[0;34m\u001b[0m\u001b[0m\n\u001b[1;32m    804\u001b[0m     \u001b[0;32mdef\u001b[0m \u001b[0mapply_standard\u001b[0m\u001b[0;34m(\u001b[0m\u001b[0mself\u001b[0m\u001b[0;34m)\u001b[0m\u001b[0;34m:\u001b[0m\u001b[0;34m\u001b[0m\u001b[0;34m\u001b[0m\u001b[0m\n\u001b[0;32m--> 805\u001b[0;31m         \u001b[0mresults\u001b[0m\u001b[0;34m,\u001b[0m \u001b[0mres_index\u001b[0m \u001b[0;34m=\u001b[0m \u001b[0mself\u001b[0m\u001b[0;34m.\u001b[0m\u001b[0mapply_series_generator\u001b[0m\u001b[0;34m(\u001b[0m\u001b[0;34m)\u001b[0m\u001b[0;34m\u001b[0m\u001b[0;34m\u001b[0m\u001b[0m\n\u001b[0m\u001b[1;32m    806\u001b[0m \u001b[0;34m\u001b[0m\u001b[0m\n\u001b[1;32m    807\u001b[0m         \u001b[0;31m# wrap results\u001b[0m\u001b[0;34m\u001b[0m\u001b[0;34m\u001b[0m\u001b[0;34m\u001b[0m\u001b[0m\n",
      "\u001b[0;32m~/opt/miniconda3/envs/eugene_dev/lib/python3.7/site-packages/pandas/core/apply.py\u001b[0m in \u001b[0;36mapply_series_generator\u001b[0;34m(self)\u001b[0m\n\u001b[1;32m    819\u001b[0m             \u001b[0;32mfor\u001b[0m \u001b[0mi\u001b[0m\u001b[0;34m,\u001b[0m \u001b[0mv\u001b[0m \u001b[0;32min\u001b[0m \u001b[0menumerate\u001b[0m\u001b[0;34m(\u001b[0m\u001b[0mseries_gen\u001b[0m\u001b[0;34m)\u001b[0m\u001b[0;34m:\u001b[0m\u001b[0;34m\u001b[0m\u001b[0;34m\u001b[0m\u001b[0m\n\u001b[1;32m    820\u001b[0m                 \u001b[0;31m# ignore SettingWithCopy here in case the user mutates\u001b[0m\u001b[0;34m\u001b[0m\u001b[0;34m\u001b[0m\u001b[0;34m\u001b[0m\u001b[0m\n\u001b[0;32m--> 821\u001b[0;31m                 \u001b[0mresults\u001b[0m\u001b[0;34m[\u001b[0m\u001b[0mi\u001b[0m\u001b[0;34m]\u001b[0m \u001b[0;34m=\u001b[0m \u001b[0mself\u001b[0m\u001b[0;34m.\u001b[0m\u001b[0mf\u001b[0m\u001b[0;34m(\u001b[0m\u001b[0mv\u001b[0m\u001b[0;34m)\u001b[0m\u001b[0;34m\u001b[0m\u001b[0;34m\u001b[0m\u001b[0m\n\u001b[0m\u001b[1;32m    822\u001b[0m                 \u001b[0;32mif\u001b[0m \u001b[0misinstance\u001b[0m\u001b[0;34m(\u001b[0m\u001b[0mresults\u001b[0m\u001b[0;34m[\u001b[0m\u001b[0mi\u001b[0m\u001b[0;34m]\u001b[0m\u001b[0;34m,\u001b[0m \u001b[0mABCSeries\u001b[0m\u001b[0;34m)\u001b[0m\u001b[0;34m:\u001b[0m\u001b[0;34m\u001b[0m\u001b[0;34m\u001b[0m\u001b[0m\n\u001b[1;32m    823\u001b[0m                     \u001b[0;31m# If we have a view on v, we need to make a copy because\u001b[0m\u001b[0;34m\u001b[0m\u001b[0;34m\u001b[0m\u001b[0;34m\u001b[0m\u001b[0m\n",
      "\u001b[0;32m~/opt/miniconda3/envs/eugene_dev/lib/python3.7/site-packages/tqdm/std.py\u001b[0m in \u001b[0;36mwrapper\u001b[0;34m(*args, **kwargs)\u001b[0m\n\u001b[1;32m    807\u001b[0m                     \u001b[0;31m# take a fast or slow code path; so stop when t.total==t.n\u001b[0m\u001b[0;34m\u001b[0m\u001b[0;34m\u001b[0m\u001b[0;34m\u001b[0m\u001b[0m\n\u001b[1;32m    808\u001b[0m                     \u001b[0mt\u001b[0m\u001b[0;34m.\u001b[0m\u001b[0mupdate\u001b[0m\u001b[0;34m(\u001b[0m\u001b[0mn\u001b[0m\u001b[0;34m=\u001b[0m\u001b[0;36m1\u001b[0m \u001b[0;32mif\u001b[0m \u001b[0;32mnot\u001b[0m \u001b[0mt\u001b[0m\u001b[0;34m.\u001b[0m\u001b[0mtotal\u001b[0m \u001b[0;32mor\u001b[0m \u001b[0mt\u001b[0m\u001b[0;34m.\u001b[0m\u001b[0mn\u001b[0m \u001b[0;34m<\u001b[0m \u001b[0mt\u001b[0m\u001b[0;34m.\u001b[0m\u001b[0mtotal\u001b[0m \u001b[0;32melse\u001b[0m \u001b[0;36m0\u001b[0m\u001b[0;34m)\u001b[0m\u001b[0;34m\u001b[0m\u001b[0;34m\u001b[0m\u001b[0m\n\u001b[0;32m--> 809\u001b[0;31m                     \u001b[0;32mreturn\u001b[0m \u001b[0mfunc\u001b[0m\u001b[0;34m(\u001b[0m\u001b[0;34m*\u001b[0m\u001b[0margs\u001b[0m\u001b[0;34m,\u001b[0m \u001b[0;34m**\u001b[0m\u001b[0mkwargs\u001b[0m\u001b[0;34m)\u001b[0m\u001b[0;34m\u001b[0m\u001b[0;34m\u001b[0m\u001b[0m\n\u001b[0m\u001b[1;32m    810\u001b[0m \u001b[0;34m\u001b[0m\u001b[0m\n\u001b[1;32m    811\u001b[0m                 \u001b[0;31m# Apply the provided function (in **kwargs)\u001b[0m\u001b[0;34m\u001b[0m\u001b[0;34m\u001b[0m\u001b[0;34m\u001b[0m\u001b[0m\n",
      "\u001b[0;32m/tmp/ipykernel_679707/2317901422.py\u001b[0m in \u001b[0;36m<lambda>\u001b[0;34m(preds)\u001b[0m\n\u001b[1;32m      5\u001b[0m     \u001b[0;32mif\u001b[0m \u001b[0mverbose\u001b[0m\u001b[0;34m:\u001b[0m\u001b[0;34m\u001b[0m\u001b[0;34m\u001b[0m\u001b[0m\n\u001b[1;32m      6\u001b[0m         \u001b[0;32mif\u001b[0m \u001b[0muse_calc_auc\u001b[0m\u001b[0;34m:\u001b[0m\u001b[0;34m\u001b[0m\u001b[0;34m\u001b[0m\u001b[0m\n\u001b[0;32m----> 7\u001b[0;31m             \u001b[0mrbp_eval\u001b[0m \u001b[0;34m=\u001b[0m \u001b[0mdf_sub\u001b[0m\u001b[0;34m.\u001b[0m\u001b[0mprogress_apply\u001b[0m\u001b[0;34m(\u001b[0m\u001b[0;32mlambda\u001b[0m \u001b[0mpreds\u001b[0m\u001b[0;34m:\u001b[0m \u001b[0mpd\u001b[0m\u001b[0;34m.\u001b[0m\u001b[0mSeries\u001b[0m\u001b[0;34m(\u001b[0m\u001b[0;34m{\u001b[0m\u001b[0;34m'Median'\u001b[0m\u001b[0;34m:\u001b[0m \u001b[0mmedian_calc\u001b[0m\u001b[0;34m(\u001b[0m\u001b[0mpreds\u001b[0m\u001b[0;34m,\u001b[0m \u001b[0my\u001b[0m\u001b[0;34m)\u001b[0m\u001b[0;34m,\u001b[0m \u001b[0;34m'AUC'\u001b[0m\u001b[0;34m:\u001b[0m \u001b[0mcalc_auc\u001b[0m\u001b[0;34m(\u001b[0m\u001b[0my\u001b[0m\u001b[0;34m,\u001b[0m \u001b[0mpreds\u001b[0m\u001b[0;34m)\u001b[0m\u001b[0;34m,\u001b[0m \u001b[0;34m'E-score'\u001b[0m\u001b[0;34m:\u001b[0m \u001b[0mescore\u001b[0m\u001b[0;34m(\u001b[0m\u001b[0mpreds\u001b[0m\u001b[0;34m,\u001b[0m \u001b[0my\u001b[0m\u001b[0;34m,\u001b[0m \u001b[0muse_calc_auc\u001b[0m\u001b[0;34m=\u001b[0m\u001b[0;32mTrue\u001b[0m\u001b[0;34m)\u001b[0m\u001b[0;34m}\u001b[0m\u001b[0;34m)\u001b[0m\u001b[0;34m,\u001b[0m \u001b[0maxis\u001b[0m\u001b[0;34m=\u001b[0m\u001b[0;36m1\u001b[0m\u001b[0;34m)\u001b[0m\u001b[0;34m\u001b[0m\u001b[0;34m\u001b[0m\u001b[0m\n\u001b[0m\u001b[1;32m      8\u001b[0m         \u001b[0;32melse\u001b[0m\u001b[0;34m:\u001b[0m\u001b[0;34m\u001b[0m\u001b[0;34m\u001b[0m\u001b[0m\n\u001b[1;32m      9\u001b[0m             \u001b[0mrbp_eval\u001b[0m \u001b[0;34m=\u001b[0m \u001b[0mdf_sub\u001b[0m\u001b[0;34m.\u001b[0m\u001b[0mprogress_apply\u001b[0m\u001b[0;34m(\u001b[0m\u001b[0;32mlambda\u001b[0m \u001b[0mpreds\u001b[0m\u001b[0;34m:\u001b[0m \u001b[0mpd\u001b[0m\u001b[0;34m.\u001b[0m\u001b[0mSeries\u001b[0m\u001b[0;34m(\u001b[0m\u001b[0;34m{\u001b[0m\u001b[0;34m'Median'\u001b[0m\u001b[0;34m:\u001b[0m \u001b[0mmedian_calc\u001b[0m\u001b[0;34m(\u001b[0m\u001b[0mpreds\u001b[0m\u001b[0;34m,\u001b[0m \u001b[0my\u001b[0m\u001b[0;34m)\u001b[0m\u001b[0;34m,\u001b[0m \u001b[0;34m'AUC'\u001b[0m\u001b[0;34m:\u001b[0m \u001b[0mauc_calc\u001b[0m\u001b[0;34m(\u001b[0m\u001b[0mpreds\u001b[0m\u001b[0;34m,\u001b[0m \u001b[0my\u001b[0m\u001b[0;34m)\u001b[0m\u001b[0;34m,\u001b[0m \u001b[0;34m'E-score'\u001b[0m\u001b[0;34m:\u001b[0m \u001b[0mescore\u001b[0m\u001b[0;34m(\u001b[0m\u001b[0mpreds\u001b[0m\u001b[0;34m,\u001b[0m \u001b[0my\u001b[0m\u001b[0;34m)\u001b[0m\u001b[0;34m}\u001b[0m\u001b[0;34m)\u001b[0m\u001b[0;34m,\u001b[0m \u001b[0maxis\u001b[0m\u001b[0;34m=\u001b[0m\u001b[0;36m1\u001b[0m\u001b[0;34m)\u001b[0m\u001b[0;34m\u001b[0m\u001b[0;34m\u001b[0m\u001b[0m\n",
      "\u001b[0;32m/mnt/beegfs/users/aklie/projects/EUGENe/eugene/predict/_metrics.py\u001b[0m in \u001b[0;36mcalc_auc\u001b[0;34m(z, y, want_curve)\u001b[0m\n\u001b[1;32m     51\u001b[0m        \u001b[0;32mif\u001b[0m \u001b[0myi\u001b[0m\u001b[0;34m:\u001b[0m \u001b[0mntpos\u001b[0m \u001b[0;34m+=\u001b[0m \u001b[0;36m1\u001b[0m\u001b[0;34m\u001b[0m\u001b[0;34m\u001b[0m\u001b[0m\n\u001b[1;32m     52\u001b[0m        \u001b[0;32melse\u001b[0m\u001b[0;34m:\u001b[0m  \u001b[0mnfpos\u001b[0m \u001b[0;34m+=\u001b[0m \u001b[0;36m1\u001b[0m\u001b[0;34m\u001b[0m\u001b[0;34m\u001b[0m\u001b[0m\n\u001b[0;32m---> 53\u001b[0;31m        \u001b[0mtprate\u001b[0m\u001b[0;34m[\u001b[0m\u001b[0mi\u001b[0m\u001b[0;34m+\u001b[0m\u001b[0;36m1\u001b[0m\u001b[0;34m]\u001b[0m \u001b[0;34m=\u001b[0m \u001b[0mntpos\u001b[0m\u001b[0;34m/\u001b[0m\u001b[0mnpos\u001b[0m\u001b[0;34m\u001b[0m\u001b[0;34m\u001b[0m\u001b[0m\n\u001b[0m\u001b[1;32m     54\u001b[0m        \u001b[0mfprate\u001b[0m\u001b[0;34m[\u001b[0m\u001b[0mi\u001b[0m\u001b[0;34m+\u001b[0m\u001b[0;36m1\u001b[0m\u001b[0;34m]\u001b[0m \u001b[0;34m=\u001b[0m \u001b[0mnfpos\u001b[0m\u001b[0;34m/\u001b[0m\u001b[0mnneg\u001b[0m\u001b[0;34m\u001b[0m\u001b[0;34m\u001b[0m\u001b[0m\n\u001b[1;32m     55\u001b[0m     \u001b[0mauc\u001b[0m \u001b[0;34m=\u001b[0m \u001b[0mfloat\u001b[0m\u001b[0;34m(\u001b[0m\u001b[0mnp\u001b[0m\u001b[0;34m.\u001b[0m\u001b[0mtrapz\u001b[0m\u001b[0;34m(\u001b[0m\u001b[0mtprate\u001b[0m\u001b[0;34m,\u001b[0m\u001b[0mfprate\u001b[0m\u001b[0;34m,\u001b[0m\u001b[0maxis\u001b[0m\u001b[0;34m=\u001b[0m\u001b[0;36m0\u001b[0m\u001b[0;34m)\u001b[0m\u001b[0;34m)\u001b[0m\u001b[0;34m\u001b[0m\u001b[0;34m\u001b[0m\u001b[0m\n",
      "\u001b[0;31mKeyboardInterrupt\u001b[0m: "
     ]
    }
   ],
   "source": [
    "pearson_df, spearman_df = summarize_rbps_apply(sdata_set_b, b_presence_absence, all_probe_ids, n_kmers=None, use_calc_auc=True, verbose=True)"
   ]
  },
  {
   "cell_type": "code",
   "execution_count": 300,
   "id": "0e46d525-2921-43d7-a547-53b0491e199d",
   "metadata": {
    "execution": {
     "iopub.execute_input": "2022-08-27T00:44:36.410541Z",
     "iopub.status.busy": "2022-08-27T00:44:36.410142Z",
     "iopub.status.idle": "2022-08-27T00:44:40.602099Z",
     "shell.execute_reply": "2022-08-27T00:44:40.600990Z",
     "shell.execute_reply.started": "2022-08-27T00:44:36.410502Z"
    },
    "tags": []
   },
   "outputs": [],
   "source": [
    "pearson_long = pearson_df.reset_index().melt(id_vars=\"index\", value_name=\"Pearson\", var_name=\"Metric\").rename({\"index\":\"RBP\"}, axis=1)\n",
    "spearman_long = spearman_df.reset_index().melt(id_vars=\"index\", value_name=\"Spearman\", var_name=\"Metric\").rename({\"index\":\"RBP\"}, axis=1)"
   ]
  },
  {
   "cell_type": "code",
   "execution_count": 301,
   "id": "3d347e71-b98d-41e9-91ed-4e97daeb0e09",
   "metadata": {
    "execution": {
     "iopub.execute_input": "2022-08-27T00:44:40.605025Z",
     "iopub.status.busy": "2022-08-27T00:44:40.604409Z",
     "iopub.status.idle": "2022-08-27T00:44:45.824147Z",
     "shell.execute_reply": "2022-08-27T00:44:45.823199Z",
     "shell.execute_reply.started": "2022-08-27T00:44:40.604968Z"
    },
    "tags": []
   },
   "outputs": [
    {
     "data": {
      "image/png": "[encoded data removed]",
      "text/plain": [
       "<Figure size 576x288 with 2 Axes>"
      ]
     },
     "metadata": {
      "needs_background": "light"
     },
     "output_type": "display_data"
    }
   ],
   "source": [
    "fig, ax = plt.subplots(1, 2, figsize=(8, 4))\n",
    "sns.boxplot(data=pearson_long, x=\"Metric\", y=\"Pearson\", color=\"red\", ax=ax[0])\n",
    "sns.boxplot(data=spearman_long, x=\"Metric\", y=\"Spearman\", color=\"red\", ax=ax[1])\n",
    "plt.tight_layout()"
   ]
  },
  {
   "cell_type": "code",
   "execution_count": null,
   "id": "be7a0468-d704-4d7c-b625-495f8607041a",
   "metadata": {},
   "outputs": [],
   "source": []
  },
  {
   "cell_type": "code",
   "execution_count": null,
   "id": "9827ea19-2089-41a5-9859-9ff2a71366d7",
   "metadata": {},
   "outputs": [],
   "source": [
    "def rna_complete(kmer_presence_mtx, intensities, num_kmers=None, use_calc_auc=False, verbose=True):\n",
    "    y = intensities\n",
    "    num_kmers = len(kmer_presence_mtx) if num_kmers is None else num_kmers\n",
    "    kmer_presence_mtx = kmer_presence_mtx[:num_kmers]\n",
    "    preds = kmer_presence\n",
    "        kmer_medians.append(median_calc(preds=preds, y=y))\n",
    "        if use_calc_auc:\n",
    "            kmer_aucs.append(calc_auc(y, preds))\n",
    "        else:\n",
    "            kmer_aucs.append(auc_calc(preds=preds, y=y))\n",
    "        kmer_escores.append(escore(preds=preds, y=y, use_calc_auc=use_calc_auc))\n",
    "    kmer_medians, kmer_aucs, kmer_escore = np.array(kmer_medians), np.array(kmer_aucs), np.array(kmer_escores)\n",
    "    kmer_zscores = (kmer_medians - np.mean(kmer_medians))/np.std(kmer_medians, ddof=1)\n",
    "    return kmer_zscores, kmer_aucs, kmer_escores"
   ]
  },
  {
   "cell_type": "code",
   "execution_count": 183,
   "id": "1ea6a30f-e522-492f-928e-e97f497fb676",
   "metadata": {
    "execution": {
     "iopub.execute_input": "2022-08-26T23:43:18.451086Z",
     "iopub.status.busy": "2022-08-26T23:43:18.450630Z",
     "iopub.status.idle": "2022-08-26T23:43:22.857986Z",
     "shell.execute_reply": "2022-08-26T23:43:22.856924Z",
     "shell.execute_reply.started": "2022-08-26T23:43:18.451049Z"
    },
    "tags": []
   },
   "outputs": [],
   "source": [
    "def rna_complete_metrics_2(kmer_presence_mtx, intensities, num_kmers=None, use_calc_auc=False, verbose=True):\n",
    "    y = intensities\n",
    "    num_kmers = len(kmer_presence_mtx) if num_kmers is None else num_kmers\n",
    "    kmer_presence_mtx = kmer_presence_mtx[:num_kmers]\n",
    "    kmer_medians, kmer_aucs, kmer_escores = [], [], []\n",
    "    for i, kmer_presence in tqdm(enumerate(kmer_presence_mtx), desc=\"Scoring k-mers\", total=len(kmer_presence_mtx), disable = not verbose):\n",
    "        preds = kmer_presence\n",
    "        kmer_medians.append(median_calc(preds=preds, y=y))\n",
    "        if use_calc_auc:\n",
    "            kmer_aucs.append(calc_auc(y, preds))\n",
    "        else:\n",
    "            kmer_aucs.append(auc_calc(preds=preds, y=y))\n",
    "        kmer_escores.append(escore(preds=preds, y=y, use_calc_auc=use_calc_auc))\n",
    "    kmer_medians, kmer_aucs, kmer_escore = np.array(kmer_medians), np.array(kmer_aucs), np.array(kmer_escores)\n",
    "    kmer_zscores = (kmer_medians - np.mean(kmer_medians))/np.std(kmer_medians, ddof=1)\n",
    "    return kmer_zscores, kmer_aucs, kmer_escores"
   ]
  },
  {
   "cell_type": "code",
   "execution_count": 175,
   "id": "69aa0b55-e295-4722-b798-f2da717fe974",
   "metadata": {
    "execution": {
     "iopub.execute_input": "2022-08-26T23:39:39.796839Z",
     "iopub.status.busy": "2022-08-26T23:39:39.796368Z",
     "iopub.status.idle": "2022-08-26T23:39:43.538999Z",
     "shell.execute_reply": "2022-08-26T23:39:43.537292Z",
     "shell.execute_reply.started": "2022-08-26T23:39:39.796783Z"
    }
   },
   "outputs": [
    {
     "ename": "SyntaxError",
     "evalue": "invalid syntax (1524864938.py, line 1)",
     "output_type": "error",
     "traceback": [
      "\u001b[0;36m  File \u001b[0;32m\"/tmp/ipykernel_679707/1524864938.py\"\u001b[0;36m, line \u001b[0;32m1\u001b[0m\n\u001b[0;31m    def column_rnac_metrics(sdata, kmer_presence_mtx, probe_id, n_kmers=, return_cors=False, verbose=True, use_calc_auc=False):\u001b[0m\n\u001b[0m                                                                        ^\u001b[0m\n\u001b[0;31mSyntaxError\u001b[0m\u001b[0;31m:\u001b[0m invalid syntax\n"
     ]
    }
   ],
   "source": [
    "def column_rnac_metrics(sdata, kmer_presence_mtx, probe_id, n_kmers=None, return_cors=False, verbose=True, use_calc_auc=False):\n",
    "    observed = sdata[probe_id].values\n",
    "    preds = sdata[f\"{probe_id}_predictions\"].values\n",
    "    \n",
    "    # Get zscores, aucs and escores from observed intensities\n",
    "    observed_zscores, observed_aucs, observed_escores = rna_complete_metrics_2(kmer_presence_mtx, observed, num_kmers=n_kmers, verbose=verbose, use_calc_auc=use_calc_auc)\n",
    "\n",
    "    # Get zscores, aucs, and escores from predicted intensities\n",
    "    preds_zscores, preds_aucs, preds_escores = rna_complete_metrics_2(kmer_presence_mtx, preds, num_kmers=n_kmers, verbose=verbose, use_calc_auc=use_calc_auc)\n",
    "    \n",
    "    # Z-scores\n",
    "    zscore_pearson = pearsonr(preds_zscores, observed_zscores)[0]\n",
    "    zscore_spearman = spearmanr(preds_zscores, observed_zscores).correlation\n",
    "\n",
    "    # AUCs\n",
    "    auc_pearson = pearsonr(preds_aucs, observed_aucs)[0]\n",
    "    auc_spearman = spearmanr(preds_aucs, observed_aucs).correlation\n",
    "\n",
    "    # E-scores\n",
    "    escore_pearson = pearsonr(preds_escores, observed_escores)[0]\n",
    "    escore_spearman = spearmanr(preds_escores, observed_escores).correlation\n",
    "\n",
    "    # Intensities\n",
    "    intensity_pearson = pearsonr(observed, preds)[0]\n",
    "    intensity_spearman = spearmanr(observed, preds).correlation\n",
    "    \n",
    "    if return_cors:\n",
    "        pearson = {\"Z-score\": zscore_pearson, \"AUC\": auc_pearson, \"E-score\": escore_pearson, \"Intensity\": intensity_pearson}\n",
    "        spearman = {\"Z-score\": zscore_spearman, \"AUC\": auc_spearman, \"E-score\": escore_spearman, \"Intensity\": intensity_spearman}\n",
    "        return pearson, spearman\n",
    "    \n",
    "    fig, ax = plt.subplots(1, 4, figsize=(16, 4))\n",
    "    ax[0].scatter(observed_zscores, preds_zscores)\n",
    "    ax[0].set_title(\"Z-scores\")\n",
    "    ax[0].set_xlabel(\"Observed\")\n",
    "    ax[0].set_ylabel(\"Predicted\")\n",
    "    ax[0].text(0.75, 0.05, \"r=\" + str(round(zscore_pearson, 2)) + \"\\nrho=\" + str(round(zscore_spearman, 2)), transform=ax[0].transAxes)\n",
    "\n",
    "    ax[1].scatter(observed_aucs, preds_aucs)\n",
    "    ax[1].set_title(\"AUCs\")\n",
    "    ax[1].set_xlabel(\"Observed\")\n",
    "    ax[1].set_ylabel(\"Predicted\")\n",
    "    ax[1].text(0.75, 0.05, \"r=\" + str(round(auc_pearson, 2)) + \"\\nrho=\" + str(round(auc_spearman, 2)), transform=ax[1].transAxes)\n",
    "\n",
    "    ax[2].scatter(observed_escores, preds_escores)\n",
    "    ax[2].set_title(\"E-scores\")\n",
    "    ax[2].set_xlabel(\"Observed\")\n",
    "    ax[2].set_ylabel(\"Predicted\")\n",
    "    ax[2].text(0.75, 0.05, \"r=\" + str(round(escore_pearson, 2)) + \"\\nrho=\" + str(round(escore_spearman, 2)), transform=ax[2].transAxes)\n",
    "\n",
    "    ax[3].scatter(observed, preds)\n",
    "    ax[3].set_title(\"Intensities\")\n",
    "    ax[3].set_xlabel(\"Observed\")\n",
    "    ax[3].set_ylabel(\"Predicted\")\n",
    "    ax[3].text(0.75, 0.05, \"r=\" + str(round(intensity_pearson, 2)) + \"\\nrho=\" + str(round(intensity_spearman, 2)), transform=ax[3].transAxes)\n",
    "\n",
    "    plt.tight_layout()"
   ]
  },
  {
   "cell_type": "code",
   "execution_count": 164,
   "id": "959a7e8e-d561-460e-81b7-8f01d998c55a",
   "metadata": {
    "execution": {
     "iopub.execute_input": "2022-08-26T19:55:28.346717Z",
     "iopub.status.busy": "2022-08-26T19:55:28.346430Z",
     "iopub.status.idle": "2022-08-26T19:55:32.823954Z",
     "shell.execute_reply": "2022-08-26T19:55:32.822847Z",
     "shell.execute_reply.started": "2022-08-26T19:55:28.346688Z"
    },
    "tags": []
   },
   "outputs": [],
   "source": [
    "# Choose the task\n",
    "probe_id = \"RNCMPT00001\"\n",
    "observed = sdata[probe_id].values\n",
    "preds = sdata[f\"{probe_id}_predictions\"].values"
   ]
  },
  {
   "cell_type": "code",
   "execution_count": 165,
   "id": "11aa2fcc-c14f-4636-9768-f5473a61c7ab",
   "metadata": {
    "execution": {
     "iopub.execute_input": "2022-08-26T19:55:36.381070Z",
     "iopub.status.busy": "2022-08-26T19:55:36.380737Z",
     "iopub.status.idle": "2022-08-26T19:55:59.012989Z",
     "shell.execute_reply": "2022-08-26T19:55:59.011628Z",
     "shell.execute_reply.started": "2022-08-26T19:55:36.381037Z"
    },
    "tags": []
   },
   "outputs": [
    {
     "data": {
      "application/vnd.jupyter.widget-view+json": {
       "model_id": "bb6824195479417c88f4f2513628e5e8",
       "version_major": 2,
       "version_minor": 0
      },
      "text/plain": [
       "Scoring k-mers:   0%|          | 0/10 [00:00<?, ?it/s]"
      ]
     },
     "metadata": {},
     "output_type": "display_data"
    },
    {
     "name": "stdout",
     "output_type": "stream",
     "text": [
      "HERE\n",
      "HERE\n",
      "HERE\n",
      "HERE\n",
      "HERE\n",
      "HERE\n",
      "HERE\n",
      "HERE\n",
      "HERE\n",
      "HERE\n"
     ]
    },
    {
     "data": {
      "application/vnd.jupyter.widget-view+json": {
       "model_id": "0462280fca5647b09f8dfa8dacc0f754",
       "version_major": 2,
       "version_minor": 0
      },
      "text/plain": [
       "Scoring k-mers:   0%|          | 0/10 [00:00<?, ?it/s]"
      ]
     },
     "metadata": {},
     "output_type": "display_data"
    },
    {
     "name": "stdout",
     "output_type": "stream",
     "text": [
      "HERE\n",
      "HERE\n",
      "HERE\n",
      "HERE\n",
      "HERE\n",
      "HERE\n",
      "HERE\n",
      "HERE\n",
      "HERE\n",
      "HERE\n"
     ]
    },
    {
     "data": {
      "image/png": "[encoded data removed]",
      "text/plain": [
       "<Figure size 1152x288 with 4 Axes>"
      ]
     },
     "metadata": {
      "needs_background": "light"
     },
     "output_type": "display_data"
    }
   ],
   "source": [
    "evaluate_rbp(probe_id, sdata.seqs, n_kmers=10, verbose=True, use_calc_auc=True)"
   ]
  },
  {
   "cell_type": "code",
   "execution_count": 166,
   "id": "6b8ff08d-4a26-470c-854d-8103a4a2ccff",
   "metadata": {
    "execution": {
     "iopub.execute_input": "2022-08-26T19:56:46.425143Z",
     "iopub.status.busy": "2022-08-26T19:56:46.424743Z",
     "iopub.status.idle": "2022-08-26T19:56:50.807715Z",
     "shell.execute_reply": "2022-08-26T19:56:50.806514Z",
     "shell.execute_reply.started": "2022-08-26T19:56:46.425098Z"
    },
    "tags": []
   },
   "outputs": [],
   "source": [
    "from tqdm.auto import tqdm\n",
    "def summarize_rbps(probe_ids, seqs, n_kmers=100, verbose=False, use_calc_auc=False):\n",
    "    spearman_summary = pd.DataFrame()\n",
    "    pearson_summary = pd.DataFrame()\n",
    "    for i, probe_id in tqdm(enumerate(probe_ids), desc=\"Evaluating probes\", total=len(probe_ids)):\n",
    "        rs, rhos = evaluate_rbp(probe_id, sdata.seqs, n_kmers=n_kmers, return_cors=True, verbose=verbose, use_calc_auc=use_calc_auc)\n",
    "        pearson_summary = pd.concat([pearson_summary, pd.DataFrame(rs, index=[probe_id])], axis=0)\n",
    "        spearman_summary = pd.concat([spearman_summary, pd.DataFrame(rhos, index=[probe_id])], axis=0)\n",
    "    return pearson_summary, spearman_summary"
   ]
  },
  {
   "cell_type": "code",
   "execution_count": 167,
   "id": "b2985cdb-3efe-4926-9ab6-e896921a0161",
   "metadata": {
    "execution": {
     "iopub.execute_input": "2022-08-26T19:56:50.810725Z",
     "iopub.status.busy": "2022-08-26T19:56:50.810103Z",
     "iopub.status.idle": "2022-08-26T19:56:55.313826Z",
     "shell.execute_reply": "2022-08-26T19:56:55.312771Z",
     "shell.execute_reply.started": "2022-08-26T19:56:50.810674Z"
    },
    "tags": []
   },
   "outputs": [],
   "source": [
    "all_probe_ids = sdata.seqs_annot.columns[~sdata.seqs_annot.columns.str.contains(\"predictions\")][:-1]"
   ]
  },
  {
   "cell_type": "code",
   "execution_count": 169,
   "id": "faba68ea-560e-4cd7-9f84-900f3cd8b6da",
   "metadata": {
    "execution": {
     "iopub.execute_input": "2022-08-26T19:57:29.353971Z",
     "iopub.status.busy": "2022-08-26T19:57:29.353601Z",
     "iopub.status.idle": "2022-08-26T19:58:40.827062Z",
     "shell.execute_reply": "2022-08-26T19:58:40.825749Z",
     "shell.execute_reply.started": "2022-08-26T19:57:29.353934Z"
    },
    "tags": []
   },
   "outputs": [
    {
     "data": {
      "application/vnd.jupyter.widget-view+json": {
       "model_id": "07b1a6a77f6f477880db518e09f9a7cd",
       "version_major": 2,
       "version_minor": 0
      },
      "text/plain": [
       "Evaluating probes:   0%|          | 0/10 [00:00<?, ?it/s]"
      ]
     },
     "metadata": {},
     "output_type": "display_data"
    }
   ],
   "source": [
    "pearson_df, spearman_df = summarize_rbps(all_probe_ids[:10], sdata.seqs, n_kmers=5, use_calc_auc=True)"
   ]
  },
  {
   "cell_type": "code",
   "execution_count": 171,
   "id": "fe121845-a836-48fc-903a-d28232674b09",
   "metadata": {
    "execution": {
     "iopub.execute_input": "2022-08-26T19:58:59.634062Z",
     "iopub.status.busy": "2022-08-26T19:58:59.633660Z",
     "iopub.status.idle": "2022-08-26T19:59:03.459360Z",
     "shell.execute_reply": "2022-08-26T19:59:03.458278Z",
     "shell.execute_reply.started": "2022-08-26T19:58:59.634023Z"
    },
    "tags": []
   },
   "outputs": [],
   "source": [
    "pearson_long = pearson_df.reset_index().melt(id_vars=\"index\", value_name=\"Pearson\", var_name=\"Metric\").rename({\"index\":\"RBP\"}, axis=1)\n",
    "spearman_long = spearman_df.reset_index().melt(id_vars=\"index\", value_name=\"Spearman\", var_name=\"Metric\").rename({\"index\":\"RBP\"}, axis=1)"
   ]
  },
  {
   "cell_type": "code",
   "execution_count": 173,
   "id": "f56c200a-d6ea-4f14-9b2a-f0d8dd956a76",
   "metadata": {
    "execution": {
     "iopub.execute_input": "2022-08-26T20:04:51.352112Z",
     "iopub.status.busy": "2022-08-26T20:04:51.351669Z",
     "iopub.status.idle": "2022-08-26T20:04:56.837960Z",
     "shell.execute_reply": "2022-08-26T20:04:56.836791Z",
     "shell.execute_reply.started": "2022-08-26T20:04:51.352074Z"
    },
    "tags": []
   },
   "outputs": [
    {
     "data": {
      "image/png": "[encoded data removed]",
      "text/plain": [
       "<Figure size 576x288 with 2 Axes>"
      ]
     },
     "metadata": {
      "needs_background": "light"
     },
     "output_type": "display_data"
    }
   ],
   "source": [
    "fig, ax = plt.subplots(1, 2, figsize=(8, 4))\n",
    "sns.boxplot(data=pearson_long, x=\"Metric\", y=\"Pearson\", color=\"red\", ax=ax[0])\n",
    "sns.boxplot(data=spearman_long, x=\"Metric\", y=\"Spearman\", color=\"red\", ax=ax[1])\n",
    "plt.tight_layout()"
   ]
  },
  {
   "cell_type": "code",
   "execution_count": 161,
   "id": "b5cdfcdb-2a7a-4f93-bf69-0eeb2e9e5c72",
   "metadata": {
    "execution": {
     "iopub.execute_input": "2022-08-26T19:50:50.831759Z",
     "iopub.status.busy": "2022-08-26T19:50:50.831351Z",
     "iopub.status.idle": "2022-08-26T19:50:55.744755Z",
     "shell.execute_reply": "2022-08-26T19:50:55.743743Z",
     "shell.execute_reply.started": "2022-08-26T19:50:50.831704Z"
    },
    "tags": []
   },
   "outputs": [
    {
     "data": {
      "text/plain": [
       "<AxesSubplot:xlabel='Metric', ylabel='Spearman'>"
      ]
     },
     "execution_count": 161,
     "metadata": {},
     "output_type": "execute_result"
    },
    {
     "data": {
      "image/png": "[encoded data removed]",
      "text/plain": [
       "<Figure size 576x288 with 2 Axes>"
      ]
     },
     "metadata": {
      "needs_background": "light"
     },
     "output_type": "display_data"
    }
   ],
   "source": [
    "fig, ax = plt.subplots(1, 2, figsize=(8, 4))\n",
    "sns.boxplot(data=pearson_long, x=\"Metric\", y=\"Pearson\", color=\"red\", ax=ax[0])\n",
    "sns.boxplot(data=spearman_long, x=\"Metric\", y=\"Spearman\", color=\"red\", ax=ax[1])"
   ]
  },
  {
   "cell_type": "markdown",
   "id": "f18d95b1-b397-49e2-87a2-084f63797885",
   "metadata": {},
   "source": [
    "---"
   ]
  },
  {
   "cell_type": "markdown",
   "id": "607cfa23-b8f0-4552-9a87-37bc6b843529",
   "metadata": {},
   "source": [
    "# Scratch"
   ]
  },
  {
   "cell_type": "markdown",
   "id": "779f7bb1-45a8-476f-b87f-541c2a1d4d54",
   "metadata": {},
   "source": [
    "## Developing evaluate RBP"
   ]
  },
  {
   "cell_type": "code",
   "execution_count": null,
   "id": "c5f99548-2e1f-4b49-a0b9-73182f42f811",
   "metadata": {},
   "outputs": [],
   "source": [
    "def evaluate_rbp(sdata, probe_id, n_kmers=100, return_cors=False, verbose=True, use_calc_auc=False):\n",
    "    seqs = sdata.seqs\n",
    "    observed = sdata[probe_id].values\n",
    "    preds = sdata[f\"{probe_id}_predictions\"].values\n",
    "    \n",
    "    # Get zscores, aucs and escores from observed intensities\n",
    "    observed_zscores, observed_aucs, observed_escores = eu.predict.rna_complete_metrics(seqs, observed, num_kmers=n_kmers, verbose=verbose, use_calc_auc=use_calc_auc)\n",
    "\n",
    "    # Get zscores, aucs, and escores from predicted intensities\n",
    "    preds_zscores, preds_aucs, preds_escores = eu.predict.rna_complete_metrics(seqs, preds, num_kmers=n_kmers, verbose=verbose, use_calc_auc=use_calc_auc)\n",
    "    \n",
    "    # Z-scores\n",
    "    zscore_pearson = pearsonr(preds_zscores, observed_zscores)[0]\n",
    "    zscore_spearman = spearmanr(preds_zscores, observed_zscores).correlation\n",
    "\n",
    "    # AUCs\n",
    "    auc_pearson = pearsonr(preds_aucs, observed_aucs)[0]\n",
    "    auc_spearman = spearmanr(preds_aucs, observed_aucs).correlation\n",
    "\n",
    "    # E-scores\n",
    "    escore_pearson = pearsonr(preds_escores, observed_escores)[0]\n",
    "    escore_spearman = spearmanr(preds_escores, observed_escores).correlation\n",
    "\n",
    "    # Intensities\n",
    "    intensity_pearson = pearsonr(observed, preds)[0]\n",
    "    intensity_spearman = spearmanr(observed, preds).correlation\n",
    "    \n",
    "    if return_cors:\n",
    "        pearson = {\"Z-score\": zscore_pearson, \"AUC\": auc_pearson, \"E-score\": escore_pearson, \"Intensity\": intensity_pearson}\n",
    "        spearman = {\"Z-score\": zscore_spearman, \"AUC\": auc_spearman, \"E-score\": escore_spearman, \"Intensity\": intensity_spearman}\n",
    "        return pearson, spearman\n",
    "    \n",
    "    fig, ax = plt.subplots(1, 4, figsize=(16, 4))\n",
    "    ax[0].scatter(observed_zscores, preds_zscores)\n",
    "    ax[0].set_title(\"Z-scores\")\n",
    "    ax[0].set_xlabel(\"Observed\")\n",
    "    ax[0].set_ylabel(\"Predicted\")\n",
    "    ax[0].text(0.75, 0.05, \"r=\" + str(round(zscore_pearson, 2)) + \"\\nrho=\" + str(round(zscore_spearman, 2)), transform=ax[0].transAxes)\n",
    "\n",
    "    ax[1].scatter(observed_aucs, preds_aucs)\n",
    "    ax[1].set_title(\"AUCs\")\n",
    "    ax[1].set_xlabel(\"Observed\")\n",
    "    ax[1].set_ylabel(\"Predicted\")\n",
    "    ax[1].text(0.75, 0.05, \"r=\" + str(round(auc_pearson, 2)) + \"\\nrho=\" + str(round(auc_spearman, 2)), transform=ax[1].transAxes)\n",
    "\n",
    "    ax[2].scatter(observed_escores, preds_escores)\n",
    "    ax[2].set_title(\"E-scores\")\n",
    "    ax[2].set_xlabel(\"Observed\")\n",
    "    ax[2].set_ylabel(\"Predicted\")\n",
    "    ax[2].text(0.75, 0.05, \"r=\" + str(round(escore_pearson, 2)) + \"\\nrho=\" + str(round(escore_spearman, 2)), transform=ax[2].transAxes)\n",
    "\n",
    "    ax[3].scatter(observed, preds)\n",
    "    ax[3].set_title(\"Intensities\")\n",
    "    ax[3].set_xlabel(\"Observed\")\n",
    "    ax[3].set_ylabel(\"Predicted\")\n",
    "    ax[3].text(0.75, 0.05, \"r=\" + str(round(intensity_pearson, 2)) + \"\\nrho=\" + str(round(intensity_spearman, 2)), transform=ax[3].transAxes)\n",
    "\n",
    "    plt.tight_layout()"
   ]
  },
  {
   "cell_type": "code",
   "execution_count": 90,
   "id": "8f2b1fa3-3a85-4e66-b994-b5f8b69eedaf",
   "metadata": {
    "execution": {
     "iopub.execute_input": "2022-08-26T18:37:59.508759Z",
     "iopub.status.busy": "2022-08-26T18:37:59.508400Z",
     "iopub.status.idle": "2022-08-26T18:38:07.145256Z",
     "shell.execute_reply": "2022-08-26T18:38:07.144163Z",
     "shell.execute_reply.started": "2022-08-26T18:37:59.508730Z"
    },
    "tags": []
   },
   "outputs": [],
   "source": [
    "# Get zscores, aucs and escores from observed intensities\n",
    "observed_zscores, observed_aucs, observed_escores = eu.predict.rna_complete_metrics(sdata.seqs, observed, num_kmers=100)\n",
    "\n",
    "# Get zscores, aucs, and escores from predicted intensities\n",
    "db_zscores, db_aucs, db_escores = eu.predict.rna_complete_metrics(sdata.seqs, preds, num_kmers=100)\n",
    "\n",
    "# Z-scores\n",
    "zscore_pearson = pearsonr(db_zscores, observed_zscores)[0]\n",
    "zscore_spearman = spearmanr(db_zscores, observed_zscores).correlation\n",
    "\n",
    "# AUCs\n",
    "auc_pearson = pearsonr(db_aucs, observed_aucs)[0]\n",
    "auc_spearman = spearmanr(db_aucs, observed_aucs).correlation\n",
    "\n",
    "# E-scores\n",
    "escore_pearson = pearsonr(db_escores, observed_escores)[0]\n",
    "escore_spearman = spearmanr(db_escores, observed_escores).correlation\n",
    "\n",
    "# Intensities\n",
    "intensity_pearson = pearsonr(observed, preds)[0]\n",
    "intensity_spearman = spearmanr(observed, preds).correlation\n",
    "\n",
    "fig, ax = plt.subplots(1, 4, figsize=(16, 4))\n",
    "\n",
    "ax[0].scatter(observed_zscores, db_zscores)\n",
    "ax[0].set_title(\"Z-scores\")\n",
    "ax[0].set_xlabel(\"Observed\")\n",
    "ax[0].set_ylabel(\"Predicted\")\n",
    "ax[0].text(0.75, 0.05, \"r=\" + str(round(zscore_pearson, 2)) + \"\\nrho=\" + str(round(zscore_spearman, 2)), transform=ax[0].transAxes)\n",
    "\n",
    "ax[1].scatter(observed_aucs, db_aucs)\n",
    "ax[1].set_title(\"AUCs\")\n",
    "ax[1].set_xlabel(\"Observed\")\n",
    "ax[1].set_ylabel(\"Predicted\")\n",
    "ax[1].text(0.75, 0.05, \"r=\" + str(round(auc_pearson, 2)) + \"\\nrho=\" + str(round(auc_spearman, 2)), transform=ax[1].transAxes)\n",
    "\n",
    "ax[2].scatter(observed_escores, db_escores)\n",
    "ax[2].set_title(\"E-scores\")\n",
    "ax[2].set_xlabel(\"Observed\")\n",
    "ax[2].set_ylabel(\"Predicted\")\n",
    "ax[2].text(0.75, 0.05, \"r=\" + str(round(escore_pearson, 2)) + \"\\nrho=\" + str(round(escore_spearman, 2)), transform=ax[2].transAxes)\n",
    "\n",
    "ax[3].scatter(observed, preds)\n",
    "ax[3].set_title(\"Intensities\")\n",
    "ax[3].set_xlabel(\"Observed\")\n",
    "ax[3].set_ylabel(\"Predicted\")\n",
    "ax[3].text(0.75, 0.05, \"r=\" + str(round(intensity_pearson, 2)) + \"\\nrho=\" + str(round(intensity_spearman, 2)), transform=ax[3].transAxes)\n",
    "\n",
    "plt.tight_layout()"
   ]
  },
  {
   "cell_type": "code",
   "execution_count": null,
   "id": "71bebe56-733a-47cd-b992-4e92dcf19225",
   "metadata": {},
   "outputs": [],
   "source": [
    "df = pd.DataFrame(a_presence_absence)\n",
    "df_sub = df[:100]\n",
    "rbp_eval = df_sub.progress_apply(lambda x: pd.Series({'Median': median_calc(x, preds), 'AUC': auc_calc(x, preds), 'E-score': escore(x, preds)}), axis=1)\n",
    "rbp_eval[\"Z-score\"] = (rbp_eval[\"Median\"] - np.mean(rbp_eval[\"Median\"])) / np.std(rbp_eval[\"Median\"], ddof=1)\n",
    "rbp_eval"
   ]
  }
 ],
 "metadata": {
  "kernelspec": {
   "display_name": "Python 3",
   "language": "python",
   "name": "python3"
  }
 },
 "nbformat": 4,
 "nbformat_minor": 5
}

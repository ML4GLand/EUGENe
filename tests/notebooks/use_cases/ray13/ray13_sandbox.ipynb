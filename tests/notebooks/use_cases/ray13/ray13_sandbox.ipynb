{
 "cells": [
  {
   "cell_type": "markdown",
   "id": "85c10a31",
   "metadata": {},
   "source": [
    "# Ray13 et al 2013 Sandbox \n",
    "**Authorship:**\n",
    "Adam Klie, *08/31/2022*\n",
    "***\n",
    "**Description:**\n",
    "Notebook to test things out as we get Ray13 working\n",
    "***"
   ]
  },
  {
   "cell_type": "code",
   "execution_count": 177,
   "id": "794120f3-bd89-42a9-8caf-3b666ae6ae6f",
   "metadata": {
    "execution": {
     "iopub.execute_input": "2022-08-26T23:42:21.353446Z",
     "iopub.status.busy": "2022-08-26T23:42:21.353086Z",
     "iopub.status.idle": "2022-08-26T23:42:25.737120Z",
     "shell.execute_reply": "2022-08-26T23:42:25.735799Z",
     "shell.execute_reply.started": "2022-08-26T23:42:21.353412Z"
    },
    "tags": []
   },
   "outputs": [],
   "source": [
    "if 'autoreload' not in get_ipython().extension_manager.loaded:\n",
    "    %load_ext autoreload\n",
    "%autoreload 2\n",
    "\n",
    "import os\n",
    "import logging\n",
    "import torch\n",
    "import numpy as np\n",
    "import pandas as pd\n",
    "import eugene as eu\n",
    "from tqdm.auto import tqdm\n",
    "from itertools import product\n",
    "tqdm.pandas()\n",
    "from sklearn.metrics import r2_score, auc\n",
    "from scipy.stats import pearsonr, spearmanr\n",
    "import matplotlib.pyplot as plt\n",
    "import seaborn as sns"
   ]
  },
  {
   "cell_type": "code",
   "execution_count": null,
   "id": "50ffafd6",
   "metadata": {
    "execution": {
     "iopub.execute_input": "2022-09-01T00:05:38.726110Z",
     "iopub.status.busy": "2022-09-01T00:05:38.725814Z",
     "iopub.status.idle": "2022-09-01T00:05:41.670013Z",
     "shell.execute_reply": "2022-09-01T00:05:41.669395Z",
     "shell.execute_reply.started": "2022-09-01T00:05:38.726093Z"
    },
    "tags": []
   },
   "outputs": [],
   "source": [
    "eu.settings.dataset_dir = \"../../../_datasets/ray13\"\n",
    "eu.settings.output_dir = \"../../../_output/ray13\"\n",
    "eu.settings.logging_dir = \"../../../_logs/ray13\"\n",
    "eu.settings.config_dir = \"../../../_configs/ray13\"\n",
    "eu.settings.verbosity = logging.ERROR"
   ]
  },
  {
   "cell_type": "markdown",
   "id": "8238dfd8",
   "metadata": {},
   "source": [
    "## Function definitions for testing"
   ]
  },
  {
   "cell_type": "code",
   "execution_count": null,
   "id": "e5157bc2",
   "metadata": {},
   "outputs": [],
   "source": [
    "def generate_all_possible_kmers(n=7, alphabet=\"AGCU\"):\n",
    "    \"\"\"\n",
    "    Generate all possible kmers of length and alphabet provided\n",
    "    \"\"\"\n",
    "    return [''.join(c) for c in product(alphabet, repeat=n)]"
   ]
  },
  {
   "cell_type": "code",
   "execution_count": null,
   "id": "79e3dcc3",
   "metadata": {},
   "outputs": [],
   "source": [
    "def kmer_in_seqs(seqs, kmer):\n",
    "    \"\"\"\n",
    "    Return a 0/1 array of whether a kmer is in each of the passed in sequences\n",
    "    \"\"\"\n",
    "    seqs_s = pd.Series(seqs)\n",
    "    kmer_binary = seqs_s.str.contains(kmer).astype(int).values\n",
    "    return kmer_binary"
   ]
  },
  {
   "cell_type": "code",
   "execution_count": null,
   "id": "a44a7622",
   "metadata": {},
   "outputs": [],
   "source": [
    "def calc_auc(z, y, want_curve = False):\n",
    "    # https://github.com/jisraeli/DeepBind/blob/master/code/deepfind.py\n",
    "   \"\"\"Given predictions z and 0/1 targets y, computes AUC with optional ROC curve\"\"\"\n",
    "   z = z.ravel()\n",
    "   y = y.ravel()\n",
    "   assert len(z) == len(y)\n",
    "\n",
    "# Remove any pair with NaN in y    \n",
    "   m = ~np.isnan(y)\n",
    "   y = y[m]\n",
    "   z = z[m]\n",
    "   assert np.all(np.logical_or(y==0, y==1)), \"Cannot calculate AUC for non-binary targets\"\n",
    "\n",
    "   order = np.argsort(z,axis=0)[::-1].ravel()   # Sort by decreasing order of prediction strength\n",
    "   z = z[order]\n",
    "   y = y[order]\n",
    "   npos = np.count_nonzero(y)      # Total number of positives.\n",
    "   nneg = len(y)-npos              # Total number of negatives.\n",
    "   if nneg == 0 or npos == 0:\n",
    "       return (np.nan,None) if want_curve else 1\n",
    "\n",
    "   n = len(y)\n",
    "   fprate = np.zeros((n+1,1))\n",
    "   tprate = np.zeros((n+1,1))\n",
    "   ntpos,nfpos = 0.,0.\n",
    "   for i,yi in enumerate(y):\n",
    "       if yi: ntpos += 1\n",
    "       else:  nfpos += 1\n",
    "       tprate[i+1] = ntpos/npos\n",
    "       fprate[i+1] = nfpos/nneg\n",
    "   auc = float(np.trapz(tprate,fprate,axis=0))\n",
    "   if want_curve:\n",
    "       curve = np.hstack([fprate,tprate])\n",
    "       return auc, curve\n",
    "   return auc"
   ]
  },
  {
   "cell_type": "code",
   "execution_count": null,
   "id": "04ff5923",
   "metadata": {},
   "outputs": [],
   "source": [
    "def median_calc(preds, y):\n",
    "    nan_mask = (~np.isnan(y))\n",
    "    y = y[nan_mask]\n",
    "    preds = preds[nan_mask]\n",
    "    indeces_1 = np.where(preds==1)[0]\n",
    "    return np.median(y[indeces_1])\n"
   ]
  },
  {
   "cell_type": "code",
   "execution_count": null,
   "id": "7626afc2",
   "metadata": {},
   "outputs": [],
   "source": [
    "def auc_calc(preds, y):\n",
    "    nan_mask = (~np.isnan(y))\n",
    "    y = y[nan_mask]a\n",
    "    preds = preds[nan_mask]\n",
    "    order = np.argsort(y)\n",
    "    y_sorted = y[order]\n",
    "    preds_sorted = preds[order]\n",
    "    return auc(y_sorted, preds_sorted)"
   ]
  },
  {
   "cell_type": "code",
   "execution_count": null,
   "id": "cdbbdcd8",
   "metadata": {},
   "outputs": [],
   "source": [
    "def escore(preds, y, use_calc_auc=False):\n",
    "    nan_mask = (~np.isnan(y))\n",
    "    y = y[nan_mask]\n",
    "    preds = preds[nan_mask]\n",
    "    l_0 = np.where(preds == 0)[0]\n",
    "    l_1 = np.where(preds == 1)[0]\n",
    "    y_0 = y[l_0]\n",
    "    y_1 = y[l_1]\n",
    "    indeces_y_0, indeces_y_1 = np.argsort(y_0)[::-1], np.argsort(y_1)[::-1]\n",
    "    sorted_y_0, sorted_y_1 = np.sort(y_0)[::-1], np.sort(y_1)[::-1]\n",
    "    indeces_y_0_top = indeces_y_0[:int(len(sorted_y_0)/2)]\n",
    "    indeces_y_1_top = indeces_y_1[:int(len(sorted_y_1)/2)]\n",
    "    sorted_y_0_top = sorted_y_0[:int(len(sorted_y_0)/2)]\n",
    "    sorted_y_1_top = sorted_y_1[:int(len(sorted_y_1)/2)]\n",
    "    l_0_top = l_0[indeces_y_0_top]\n",
    "    l_1_top = l_1[indeces_y_1_top]\n",
    "    l_top = np.concatenate([l_0_top, l_1_top])\n",
    "    if use_calc_auc:\n",
    "        print(\"HERE\")\n",
    "        return calc_auc(y[l_top], preds[l_top])\n",
    "    else:\n",
    "        return auc_calc(preds=preds[l_top], y=y[l_top])"
   ]
  },
  {
   "cell_type": "code",
   "execution_count": null,
   "id": "138376ea",
   "metadata": {},
   "outputs": [],
   "source": [
    "def rna_complete_metrics(probes, intensities, n=7, alphabet=\"AGCU\", num_kmers=None):\n",
    "    possible_kmers = generate_all_possible_kmers(n=n, alphabet=alphabet)\n",
    "    num_kmers = len(possible_kmers) if num_kmers is None else num_kmers\n",
    "    possible_kmers = possible_kmers[:num_kmers]\n",
    "    kmer_medians, kmer_aucs, kmer_escores = [], [], []\n",
    "    y = intensities\n",
    "    for i, kmer in tqdm(enumerate(possible_kmers), desc=\"Scoring k-mers\", total=len(possible_kmers)):\n",
    "        preds = kmer_in_seqs(seqs=probes, kmer=kmer)\n",
    "        kmer_medians.append(median_calc(preds=preds, y=y))\n",
    "        kmer_aucs.append(auc_calc(preds=preds, y=y))\n",
    "        kmer_escores.append(escore(preds=preds, y=y))\n",
    "    kmer_medians, kmer_aucs, kmer_escore = np.array(kmer_medians), np.array(kmer_aucs), np.array(kmer_escores)\n",
    "    kmer_zscores = (kmer_medians - np.mean(kmer_medians))/np.std(kmer_medians, ddof=1)\n",
    "    return kmer_zscores, kmer_aucs, kmer_escores"
   ]
  },
  {
   "cell_type": "code",
   "execution_count": null,
   "id": "9827ea19-2089-41a5-9859-9ff2a71366d7",
   "metadata": {},
   "outputs": [],
   "source": [
    "def rna_complete(kmer_presence_mtx, intensities, num_kmers=None, use_calc_auc=False, verbose=True):\n",
    "    y = intensities\n",
    "    num_kmers = len(kmer_presence_mtx) if num_kmers is None else num_kmers\n",
    "    kmer_presence_mtx = kmer_presence_mtx[:num_kmers]\n",
    "    preds = kmer_presence\n",
    "        kmer_medians.append(median_calc(preds=preds, y=y))\n",
    "        if use_calc_auc:\n",
    "            kmer_aucs.append(calc_auc(y, preds))\n",
    "        else:\n",
    "            kmer_aucs.append(auc_calc(preds=preds, y=y))\n",
    "        kmer_escores.append(escore(preds=preds, y=y, use_calc_auc=use_calc_auc))\n",
    "    kmer_medians, kmer_aucs, kmer_escore = np.array(kmer_medians), np.array(kmer_aucs), np.array(kmer_escores)\n",
    "    kmer_zscores = (kmer_medians - np.mean(kmer_medians))/np.std(kmer_medians, ddof=1)\n",
    "    return kmer_zscores, kmer_aucs, kmer_escores"
   ]
  },
  {
   "cell_type": "code",
   "execution_count": null,
   "id": "1ea6a30f-e522-492f-928e-e97f497fb676",
   "metadata": {
    "execution": {
     "iopub.execute_input": "2022-08-26T23:43:18.451086Z",
     "iopub.status.busy": "2022-08-26T23:43:18.450630Z",
     "iopub.status.idle": "2022-08-26T23:43:22.857986Z",
     "shell.execute_reply": "2022-08-26T23:43:22.856924Z",
     "shell.execute_reply.started": "2022-08-26T23:43:18.451049Z"
    },
    "tags": []
   },
   "outputs": [],
   "source": [
    "def rna_complete_metrics_2(kmer_presence_mtx, intensities, num_kmers=None, use_calc_auc=False, verbose=True):\n",
    "    y = intensities\n",
    "    num_kmers = len(kmer_presence_mtx) if num_kmers is None else num_kmers\n",
    "    kmer_presence_mtx = kmer_presence_mtx[:num_kmers]\n",
    "    kmer_medians, kmer_aucs, kmer_escores = [], [], []\n",
    "    for i, kmer_presence in tqdm(enumerate(kmer_presence_mtx), desc=\"Scoring k-mers\", total=len(kmer_presence_mtx), disable = not verbose):\n",
    "        preds = kmer_presence\n",
    "        kmer_medians.append(median_calc(preds=preds, y=y))\n",
    "        if use_calc_auc:\n",
    "            kmer_aucs.append(calc_auc(y, preds))\n",
    "        else:\n",
    "            kmer_aucs.append(auc_calc(preds=preds, y=y))\n",
    "        kmer_escores.append(escore(preds=preds, y=y, use_calc_auc=use_calc_auc))\n",
    "    kmer_medians, kmer_aucs, kmer_escore = np.array(kmer_medians), np.array(kmer_aucs), np.array(kmer_escores)\n",
    "    kmer_zscores = (kmer_medians - np.mean(kmer_medians))/np.std(kmer_medians, ddof=1)\n",
    "    return kmer_zscores, kmer_aucs, kmer_escores"
   ]
  },
  {
   "cell_type": "code",
   "execution_count": null,
   "id": "69aa0b55-e295-4722-b798-f2da717fe974",
   "metadata": {
    "execution": {
     "iopub.execute_input": "2022-08-26T23:39:39.796839Z",
     "iopub.status.busy": "2022-08-26T23:39:39.796368Z",
     "iopub.status.idle": "2022-08-26T23:39:43.538999Z",
     "shell.execute_reply": "2022-08-26T23:39:43.537292Z",
     "shell.execute_reply.started": "2022-08-26T23:39:39.796783Z"
    }
   },
   "outputs": [
    {
     "ename": "SyntaxError",
     "evalue": "invalid syntax (1524864938.py, line 1)",
     "output_type": "error",
     "traceback": [
      "\u001b[0;36m  File \u001b[0;32m\"/tmp/ipykernel_679707/1524864938.py\"\u001b[0;36m, line \u001b[0;32m1\u001b[0m\n",
      "\u001b[0;31m    def column_rnac_metrics(sdata, kmer_presence_mtx, probe_id, n_kmers=, return_cors=False, verbose=True, use_calc_auc=False):\u001b[0m\n",
      "\u001b[0m                                                                        ^\u001b[0m\n",
      "\u001b[0;31mSyntaxError\u001b[0m\u001b[0;31m:\u001b[0m invalid syntax\n"
     ]
    }
   ],
   "source": [
    "def column_rnac_metrics(sdata, kmer_presence_mtx, probe_id, n_kmers=None, return_cors=False, verbose=True, use_calc_auc=False):\n",
    "    observed = sdata[probe_id].values\n",
    "    preds = sdata[f\"{probe_id}_predictions\"].values\n",
    "    \n",
    "    # Get zscores, aucs and escores from observed intensities\n",
    "    observed_zscores, observed_aucs, observed_escores = rna_complete_metrics_2(kmer_presence_mtx, observed, num_kmers=n_kmers, verbose=verbose, use_calc_auc=use_calc_auc)\n",
    "\n",
    "    # Get zscores, aucs, and escores from predicted intensities\n",
    "    preds_zscores, preds_aucs, preds_escores = rna_complete_metrics_2(kmer_presence_mtx, preds, num_kmers=n_kmers, verbose=verbose, use_calc_auc=use_calc_auc)\n",
    "    \n",
    "    # Z-scores\n",
    "    zscore_pearson = pearsonr(preds_zscores, observed_zscores)[0]\n",
    "    zscore_spearman = spearmanr(preds_zscores, observed_zscores).correlation\n",
    "\n",
    "    # AUCs\n",
    "    auc_pearson = pearsonr(preds_aucs, observed_aucs)[0]\n",
    "    auc_spearman = spearmanr(preds_aucs, observed_aucs).correlation\n",
    "\n",
    "    # E-scores\n",
    "    escore_pearson = pearsonr(preds_escores, observed_escores)[0]\n",
    "    escore_spearman = spearmanr(preds_escores, observed_escores).correlation\n",
    "\n",
    "    # Intensities\n",
    "    intensity_pearson = pearsonr(observed, preds)[0]\n",
    "    intensity_spearman = spearmanr(observed, preds).correlation\n",
    "    \n",
    "    if return_cors:\n",
    "        pearson = {\"Z-score\": zscore_pearson, \"AUC\": auc_pearson, \"E-score\": escore_pearson, \"Intensity\": intensity_pearson}\n",
    "        spearman = {\"Z-score\": zscore_spearman, \"AUC\": auc_spearman, \"E-score\": escore_spearman, \"Intensity\": intensity_spearman}\n",
    "        return pearson, spearman\n",
    "    \n",
    "    fig, ax = plt.subplots(1, 4, figsize=(16, 4))\n",
    "    ax[0].scatter(observed_zscores, preds_zscores)\n",
    "    ax[0].set_title(\"Z-scores\")\n",
    "    ax[0].set_xlabel(\"Observed\")\n",
    "    ax[0].set_ylabel(\"Predicted\")\n",
    "    ax[0].text(0.75, 0.05, \"r=\" + str(round(zscore_pearson, 2)) + \"\\nrho=\" + str(round(zscore_spearman, 2)), transform=ax[0].transAxes)\n",
    "\n",
    "    ax[1].scatter(observed_aucs, preds_aucs)\n",
    "    ax[1].set_title(\"AUCs\")\n",
    "    ax[1].set_xlabel(\"Observed\")\n",
    "    ax[1].set_ylabel(\"Predicted\")\n",
    "    ax[1].text(0.75, 0.05, \"r=\" + str(round(auc_pearson, 2)) + \"\\nrho=\" + str(round(auc_spearman, 2)), transform=ax[1].transAxes)\n",
    "\n",
    "    ax[2].scatter(observed_escores, preds_escores)\n",
    "    ax[2].set_title(\"E-scores\")\n",
    "    ax[2].set_xlabel(\"Observed\")\n",
    "    ax[2].set_ylabel(\"Predicted\")\n",
    "    ax[2].text(0.75, 0.05, \"r=\" + str(round(escore_pearson, 2)) + \"\\nrho=\" + str(round(escore_spearman, 2)), transform=ax[2].transAxes)\n",
    "\n",
    "    ax[3].scatter(observed, preds)\n",
    "    ax[3].set_title(\"Intensities\")\n",
    "    ax[3].set_xlabel(\"Observed\")\n",
    "    ax[3].set_ylabel(\"Predicted\")\n",
    "    ax[3].text(0.75, 0.05, \"r=\" + str(round(intensity_pearson, 2)) + \"\\nrho=\" + str(round(intensity_spearman, 2)), transform=ax[3].transAxes)\n",
    "\n",
    "    plt.tight_layout()"
   ]
  },
  {
   "cell_type": "code",
   "execution_count": null,
   "id": "6b8ff08d-4a26-470c-854d-8103a4a2ccff",
   "metadata": {
    "execution": {
     "iopub.execute_input": "2022-08-26T19:56:46.425143Z",
     "iopub.status.busy": "2022-08-26T19:56:46.424743Z",
     "iopub.status.idle": "2022-08-26T19:56:50.807715Z",
     "shell.execute_reply": "2022-08-26T19:56:50.806514Z",
     "shell.execute_reply.started": "2022-08-26T19:56:46.425098Z"
    },
    "tags": []
   },
   "outputs": [],
   "source": [
    "def summarize_rbps(probe_ids, seqs, n_kmers=100, verbose=False, use_calc_auc=False):\n",
    "    spearman_summary = pd.DataFrame()\n",
    "    pearson_summary = pd.DataFrame()\n",
    "    for i, probe_id in tqdm(enumerate(probe_ids), desc=\"Evaluating probes\", total=len(probe_ids)):\n",
    "        rs, rhos = evaluate_rbp(probe_id, sdata.seqs, n_kmers=n_kmers, return_cors=True, verbose=verbose, use_calc_auc=use_calc_auc)\n",
    "        pearson_summary = pd.concat([pearson_summary, pd.DataFrame(rs, index=[probe_id])], axis=0)\n",
    "        spearman_summary = pd.concat([spearman_summary, pd.DataFrame(rhos, index=[probe_id])], axis=0)\n",
    "    return pearson_summary, spearman_summary"
   ]
  },
  {
   "cell_type": "code",
   "execution_count": null,
   "id": "78bfe88f-ebfc-408e-90aa-b92d18d0f3f8",
   "metadata": {
    "execution": {
     "iopub.execute_input": "2022-08-27T00:41:48.354394Z",
     "iopub.status.busy": "2022-08-27T00:41:48.353907Z",
     "iopub.status.idle": "2022-08-27T00:41:52.357542Z",
     "shell.execute_reply": "2022-08-27T00:41:52.356455Z",
     "shell.execute_reply.started": "2022-08-27T00:41:48.354358Z"
    },
    "tags": []
   },
   "outputs": [],
   "source": [
    "def rna_complete_metrics_apply(kmer_presence_mtx, intensities, num_kmers=None, use_calc_auc=False, verbose=True):\n",
    "    df = pd.DataFrame(kmer_presence_mtx)\n",
    "    y = intensities\n",
    "    df_sub = df[:num_kmers]\n",
    "    if verbose:\n",
    "        if use_calc_auc:\n",
    "            rbp_eval = df_sub.progress_apply(lambda preds: pd.Series({'Median': median_calc(preds, y), 'AUC': calc_auc(y, preds), 'E-score': escore(preds, y, use_calc_auc=True)}), axis=1)\n",
    "        else:\n",
    "            rbp_eval = df_sub.progress_apply(lambda preds: pd.Series({'Median': median_calc(preds, y), 'AUC': auc_calc(preds, y), 'E-score': escore(preds, y)}), axis=1)\n",
    "    else:\n",
    "        if use_calc_auc:\n",
    "            rbp_eval = df_sub.apply(lambda preds: pd.Series({'Median': median_calc(preds, y), 'AUC': calc_auc(y, preds), 'E-score': escore(preds, y, use_calc_auc=True)}), axis=1)\n",
    "        else:\n",
    "            rbp_eval = df_sub.apply(lambda preds: pd.Series({'Median': median_calc(preds, y), 'AUC': auc_calc(preds, y), 'E-score': escore(preds, y)}), axis=1)\n",
    "    rbp_eval[\"Z-score\"] = (rbp_eval[\"Median\"] - np.mean(rbp_eval[\"Median\"])) / np.std(rbp_eval[\"Median\"], ddof=1)\n",
    "    return rbp_eval[\"Z-score\"].values, rbp_eval[\"AUC\"].values, rbp_eval[\"E-score\"].values, "
   ]
  },
  {
   "cell_type": "code",
   "execution_count": null,
   "id": "20325975",
   "metadata": {},
   "outputs": [],
   "source": [
    "def column_rnac_metrics_apply(sdata, kmer_presence_mtx, probe_id, n_kmers=None, return_cors=False, use_calc_auc=False, verbose=True):\n",
    "    observed = sdata[probe_id].values\n",
    "    preds = sdata[f\"{probe_id}_predictions\"].values\n",
    "    \n",
    "    # Get zscores, aucs and escores from observed intensities\n",
    "    observed_zscores, observed_aucs, observed_escores = rna_complete_metrics_apply(kmer_presence_mtx, observed, num_kmers=n_kmers, verbose=verbose, use_calc_auc=use_calc_auc)\n",
    "\n",
    "    # Get zscores, aucs, and escores from predicted intensities\n",
    "    preds_zscores, preds_aucs, preds_escores = rna_complete_metrics_apply(kmer_presence_mtx, preds, num_kmers=n_kmers, verbose=verbose, use_calc_auc=use_calc_auc)\n",
    "    \n",
    "    # Z-scores\n",
    "    zscore_pearson = pearsonr(preds_zscores, observed_zscores)[0]\n",
    "    zscore_spearman = spearmanr(preds_zscores, observed_zscores).correlation\n",
    "\n",
    "    # AUCs\n",
    "    auc_pearson = pearsonr(preds_aucs, observed_aucs)[0]\n",
    "    auc_spearman = spearmanr(preds_aucs, observed_aucs).correlation\n",
    "\n",
    "    # E-scores\n",
    "    escore_pearson = pearsonr(preds_escores, observed_escores)[0]\n",
    "    escore_spearman = spearmanr(preds_escores, observed_escores).correlation\n",
    "\n",
    "    # Intensities\n",
    "    intensity_pearson = pearsonr(observed, preds)[0]\n",
    "    intensity_spearman = spearmanr(observed, preds).correlation\n",
    "    \n",
    "    if return_cors:\n",
    "        pearson = {\"Z-score\": zscore_pearson, \"AUC\": auc_pearson, \"E-score\": escore_pearson, \"Intensity\": intensity_pearson}\n",
    "        spearman = {\"Z-score\": zscore_spearman, \"AUC\": auc_spearman, \"E-score\": escore_spearman, \"Intensity\": intensity_spearman}\n",
    "        return pearson, spearman\n",
    "    \n",
    "    fig, ax = plt.subplots(1, 4, figsize=(16, 4))\n",
    "    ax[0].scatter(observed_zscores, preds_zscores)\n",
    "    ax[0].set_title(\"Z-scores\")\n",
    "    ax[0].set_xlabel(\"Observed\")\n",
    "    ax[0].set_ylabel(\"Predicted\")\n",
    "    ax[0].text(0.75, 0.05, \"r=\" + str(round(zscore_pearson, 2)) + \"\\nrho=\" + str(round(zscore_spearman, 2)), transform=ax[0].transAxes)\n",
    "\n",
    "    ax[1].scatter(observed_aucs, preds_aucs)\n",
    "    ax[1].set_title(\"AUCs\")\n",
    "    ax[1].set_xlabel(\"Observed\")\n",
    "    ax[1].set_ylabel(\"Predicted\")\n",
    "    ax[1].text(0.75, 0.05, \"r=\" + str(round(auc_pearson, 2)) + \"\\nrho=\" + str(round(auc_spearman, 2)), transform=ax[1].transAxes)\n",
    "\n",
    "    ax[2].scatter(observed_escores, preds_escores)\n",
    "    ax[2].set_title(\"E-scores\")\n",
    "    ax[2].set_xlabel(\"Observed\")\n",
    "    ax[2].set_ylabel(\"Predicted\")\n",
    "    ax[2].text(0.75, 0.05, \"r=\" + str(round(escore_pearson, 2)) + \"\\nrho=\" + str(round(escore_spearman, 2)), transform=ax[2].transAxes)\n",
    "\n",
    "    ax[3].scatter(observed, preds)\n",
    "    ax[3].set_title(\"Intensities\")\n",
    "    ax[3].set_xlabel(\"Observed\")\n",
    "    ax[3].set_ylabel(\"Predicted\")\n",
    "    ax[3].text(0.75, 0.05, \"r=\" + str(round(intensity_pearson, 2)) + \"\\nrho=\" + str(round(intensity_spearman, 2)), transform=ax[3].transAxes)\n",
    "\n",
    "    plt.tight_layout()"
   ]
  },
  {
   "cell_type": "code",
   "execution_count": null,
   "metadata": {},
   "outputs": [],
   "source": [
    "def summarize_rbps_apply(sdata, kmer_presence_mtx, probe_ids, n_kmers=100, verbose=False, use_calc_auc=False):\n",
    "    spearman_summary = pd.DataFrame()\n",
    "    pearson_summary = pd.DataFrame()\n",
    "    for i, probe_id in tqdm(enumerate(probe_ids), desc=\"Evaluating probes\", total=len(probe_ids)):\n",
    "        rs, rhos = column_rnac_metrics_apply(sdata, kmer_presence_mtx, probe_id=probe_id, n_kmers=n_kmers, return_cors=True, verbose=verbose, use_calc_auc=use_calc_auc)\n",
    "        pearson_summary = pd.concat([pearson_summary, pd.DataFrame(rs, index=[probe_id])], axis=0)\n",
    "        spearman_summary = pd.concat([spearman_summary, pd.DataFrame(rhos, index=[probe_id])], axis=0)\n",
    "    return pearson_summary, spearman_summary"
   ]
  },
  {
   "cell_type": "markdown",
   "id": "36850fcc",
   "metadata": {},
   "source": [
    "# Working with predictions sent by Hayden on 08/24/2022\n",
    "Muiltitask model trained on the whole dataset"
   ]
  },
  {
   "cell_type": "code",
   "execution_count": 178,
   "id": "cdf28384-5f24-4a86-8b11-ba91089f7005",
   "metadata": {
    "execution": {
     "iopub.execute_input": "2022-08-26T23:42:25.740394Z",
     "iopub.status.busy": "2022-08-26T23:42:25.739726Z",
     "iopub.status.idle": "2022-08-26T23:42:34.146785Z",
     "shell.execute_reply": "2022-08-26T23:42:34.145797Z",
     "shell.execute_reply.started": "2022-08-26T23:42:25.740342Z"
    },
    "tags": []
   },
   "outputs": [],
   "source": [
    "# This dataset wasn't originally split on Set, so I manually did it\n",
    "sdata = eu.dl.read_h5sd(\"../../output/ray13/sequence_datum/SD_predict_RNAcomplete.h5\")\n",
    "sdata_set_a = sdata[:120326]\n",
    "sdata_set_b = sdata[120326:]"
   ]
  },
  {
   "cell_type": "code",
   "execution_count": 305,
   "id": "14617950-0e3d-4373-874b-f2d20ebc8883",
   "metadata": {
    "execution": {
     "iopub.execute_input": "2022-08-27T00:45:50.393596Z",
     "iopub.status.busy": "2022-08-27T00:45:50.393142Z",
     "iopub.status.idle": "2022-08-27T00:46:25.511681Z",
     "shell.execute_reply": "2022-08-27T00:46:25.510682Z",
     "shell.execute_reply.started": "2022-08-27T00:45:50.393559Z"
    },
    "tags": []
   },
   "outputs": [],
   "source": [
    "# For apply functions, we want preloaded kmer presence matrices\n",
    "a_presence_absence = np.load(\"/cellar/users/aklie/data/eugene/ray13/SetA_binary.npy\")\n",
    "b_presence_absence = np.load(\"/cellar/users/aklie/data/eugene/ray13/SetB_binary.npy\")"
   ]
  },
  {
   "cell_type": "markdown",
   "id": "44fb9963",
   "metadata": {},
   "source": [
    "# Testing out the pandas apply versions of eval metrics"
   ]
  },
  {
   "cell_type": "code",
   "execution_count": 199,
   "id": "453d3cfc-4e14-43db-85ba-880186396f4c",
   "metadata": {
    "execution": {
     "iopub.execute_input": "2022-08-26T23:48:11.628494Z",
     "iopub.status.busy": "2022-08-26T23:48:11.627990Z",
     "iopub.status.idle": "2022-08-26T23:48:16.496722Z",
     "shell.execute_reply": "2022-08-26T23:48:16.495750Z",
     "shell.execute_reply.started": "2022-08-26T23:48:11.628458Z"
    },
    "tags": []
   },
   "outputs": [],
   "source": [
    "# Choose the task\n",
    "probe_id = \"RNCMPT00001\"\n",
    "observed = sdata_set_a[probe_id].values\n",
    "preds = sdata_set_a[f\"{probe_id}_predictions\"].values"
   ]
  },
  {
   "cell_type": "code",
   "execution_count": 292,
   "id": "bf7ce3d1-33aa-4dc5-a30f-7edeb2183977",
   "metadata": {
    "execution": {
     "iopub.execute_input": "2022-08-27T00:41:52.360585Z",
     "iopub.status.busy": "2022-08-27T00:41:52.359961Z",
     "iopub.status.idle": "2022-08-27T00:42:01.595428Z",
     "shell.execute_reply": "2022-08-27T00:42:01.594245Z",
     "shell.execute_reply.started": "2022-08-27T00:41:52.360537Z"
    },
    "tags": []
   },
   "outputs": [],
   "source": [
    "# Test the apply version of teh functions\n",
    "metr = rna_complete_metrics_apply(a_presence_absence, observed, num_kmers=100, verbose=False)\n",
    "metr = rna_complete_metrics_apply(a_presence_absence, observed, num_kmers=100, verbose=True)\n",
    "column_rnac_metrics_apply(sdata=sdata_set_a, kmer_presence_mtx=a_presence_absence, probe_id=probe_id, n_kmers=100, verbose=True)\n",
    "column_rnac_metrics_apply(sdata=sdata_set_a, kmer_presence_mtx=a_presence_absence, probe_id=probe_id, n_kmers=100, use_calc_auc=True, verbose=False)"
   ]
  },
  {
   "cell_type": "code",
   "execution_count": 303,
   "id": "11909459-be22-4cc6-84ba-769e1b9a0612",
   "metadata": {
    "execution": {
     "iopub.execute_input": "2022-08-27T00:45:34.026011Z",
     "iopub.status.busy": "2022-08-27T00:45:34.025629Z",
     "iopub.status.idle": "2022-08-27T00:45:38.462030Z",
     "shell.execute_reply": "2022-08-27T00:45:38.460722Z",
     "shell.execute_reply.started": "2022-08-27T00:45:34.025965Z"
    },
    "tags": []
   },
   "outputs": [],
   "source": [
    "# Try to get all the targets z-scores etc\n",
    "all_probe_ids = sdata_set_b.seqs_annot.columns[~sdata_set_b.seqs_annot.columns.str.contains(\"predictions\")][:-1]\n",
    "pearson_df, spearman_df = summarize_rbps_apply(sdata_set_b, b_presence_absence, all_probe_ids, n_kmers=None, use_calc_auc=True, verbose=True)"
   ]
  },
  {
   "cell_type": "code",
   "execution_count": 300,
   "id": "0e46d525-2921-43d7-a547-53b0491e199d",
   "metadata": {
    "execution": {
     "iopub.execute_input": "2022-08-27T00:44:36.410541Z",
     "iopub.status.busy": "2022-08-27T00:44:36.410142Z",
     "iopub.status.idle": "2022-08-27T00:44:40.602099Z",
     "shell.execute_reply": "2022-08-27T00:44:40.600990Z",
     "shell.execute_reply.started": "2022-08-27T00:44:36.410502Z"
    },
    "tags": []
   },
   "outputs": [],
   "source": [
    "# Make Seaborn plottable dfs\n",
    "pearson_long = pearson_df.reset_index().melt(id_vars=\"index\", value_name=\"Pearson\", var_name=\"Metric\").rename({\"index\":\"RBP\"}, axis=1)\n",
    "spearman_long = spearman_df.reset_index().melt(id_vars=\"index\", value_name=\"Spearman\", var_name=\"Metric\").rename({\"index\":\"RBP\"}, axis=1)"
   ]
  },
  {
   "cell_type": "code",
   "execution_count": 301,
   "id": "3d347e71-b98d-41e9-91ed-4e97daeb0e09",
   "metadata": {
    "execution": {
     "iopub.execute_input": "2022-08-27T00:44:40.605025Z",
     "iopub.status.busy": "2022-08-27T00:44:40.604409Z",
     "iopub.status.idle": "2022-08-27T00:44:45.824147Z",
     "shell.execute_reply": "2022-08-27T00:44:45.823199Z",
     "shell.execute_reply.started": "2022-08-27T00:44:40.604968Z"
    },
    "tags": []
   },
   "outputs": [
    {
     "data": {
      "image/png": "[encoded data removed]",
      "text/plain": [
       "<Figure size 576x288 with 2 Axes>"
      ]
     },
     "metadata": {
      "needs_background": "light"
     },
     "output_type": "display_data"
    }
   ],
   "source": [
    "# Plot the results!\n",
    "fig, ax = plt.subplots(1, 2, figsize=(8, 4))\n",
    "sns.boxplot(data=pearson_long, x=\"Metric\", y=\"Pearson\", color=\"red\", ax=ax[0])\n",
    "sns.boxplot(data=spearman_long, x=\"Metric\", y=\"Spearman\", color=\"red\", ax=ax[1])\n",
    "plt.tight_layout()"
   ]
  },
  {
   "cell_type": "markdown",
   "id": "0fa6bedf",
   "metadata": {},
   "source": [
    "# Testing out the original for loop versions of eval metrics"
   ]
  },
  {
   "cell_type": "code",
   "execution_count": 164,
   "id": "959a7e8e-d561-460e-81b7-8f01d998c55a",
   "metadata": {
    "execution": {
     "iopub.execute_input": "2022-08-26T19:55:28.346717Z",
     "iopub.status.busy": "2022-08-26T19:55:28.346430Z",
     "iopub.status.idle": "2022-08-26T19:55:32.823954Z",
     "shell.execute_reply": "2022-08-26T19:55:32.822847Z",
     "shell.execute_reply.started": "2022-08-26T19:55:28.346688Z"
    },
    "tags": []
   },
   "outputs": [],
   "source": [
    "# Choose the task\n",
    "probe_id = \"RNCMPT00001\"\n",
    "observed = sdata[probe_id].values\n",
    "preds = sdata[f\"{probe_id}_predictions\"].values"
   ]
  },
  {
   "cell_type": "code",
   "execution_count": 3,
   "id": "11aa2fcc-c14f-4636-9768-f5473a61c7ab",
   "metadata": {
    "execution": {
     "iopub.execute_input": "2022-08-26T19:55:36.381070Z",
     "iopub.status.busy": "2022-08-26T19:55:36.380737Z",
     "iopub.status.idle": "2022-08-26T19:55:59.012989Z",
     "shell.execute_reply": "2022-08-26T19:55:59.011628Z",
     "shell.execute_reply.started": "2022-08-26T19:55:36.381037Z"
    },
    "tags": []
   },
   "outputs": [],
   "source": [
    "# Function calculates metrics on a single column or task\n",
    "evaluate_rbp(probe_id, sdata.seqs, n_kmers=10, verbose=True, use_calc_auc=True)"
   ]
  },
  {
   "cell_type": "code",
   "execution_count": 167,
   "id": "b2985cdb-3efe-4926-9ab6-e896921a0161",
   "metadata": {
    "execution": {
     "iopub.execute_input": "2022-08-26T19:56:50.810725Z",
     "iopub.status.busy": "2022-08-26T19:56:50.810103Z",
     "iopub.status.idle": "2022-08-26T19:56:55.313826Z",
     "shell.execute_reply": "2022-08-26T19:56:55.312771Z",
     "shell.execute_reply.started": "2022-08-26T19:56:50.810674Z"
    },
    "tags": []
   },
   "outputs": [],
   "source": [
    "# Get all columns for each rbp\n",
    "all_probe_ids = sdata.seqs_annot.columns[~sdata.seqs_annot.columns.str.contains(\"predictions\")][:-1]"
   ]
  },
  {
   "cell_type": "code",
   "execution_count": 169,
   "id": "faba68ea-560e-4cd7-9f84-900f3cd8b6da",
   "metadata": {
    "execution": {
     "iopub.execute_input": "2022-08-26T19:57:29.353971Z",
     "iopub.status.busy": "2022-08-26T19:57:29.353601Z",
     "iopub.status.idle": "2022-08-26T19:58:40.827062Z",
     "shell.execute_reply": "2022-08-26T19:58:40.825749Z",
     "shell.execute_reply.started": "2022-08-26T19:57:29.353934Z"
    },
    "tags": []
   },
   "outputs": [
    {
     "data": {
      "application/vnd.jupyter.widget-view+json": {
       "model_id": "07b1a6a77f6f477880db518e09f9a7cd",
       "version_major": 2,
       "version_minor": 0
      },
      "text/plain": [
       "Evaluating probes:   0%|          | 0/10 [00:00<?, ?it/s]"
      ]
     },
     "metadata": {},
     "output_type": "display_data"
    }
   ],
   "source": [
    "# Calc metrics for 10 of them\n",
    "pearson_df, spearman_df = summarize_rbps(all_probe_ids[:10], sdata.seqs, n_kmers=5, use_calc_auc=True)"
   ]
  },
  {
   "cell_type": "code",
   "execution_count": 171,
   "id": "fe121845-a836-48fc-903a-d28232674b09",
   "metadata": {
    "execution": {
     "iopub.execute_input": "2022-08-26T19:58:59.634062Z",
     "iopub.status.busy": "2022-08-26T19:58:59.633660Z",
     "iopub.status.idle": "2022-08-26T19:59:03.459360Z",
     "shell.execute_reply": "2022-08-26T19:59:03.458278Z",
     "shell.execute_reply.started": "2022-08-26T19:58:59.634023Z"
    },
    "tags": []
   },
   "outputs": [],
   "source": [
    "# Make Seaborn plottable dfs\n",
    "pearson_long = pearson_df.reset_index().melt(id_vars=\"index\", value_name=\"Pearson\", var_name=\"Metric\").rename({\"index\":\"RBP\"}, axis=1)\n",
    "spearman_long = spearman_df.reset_index().melt(id_vars=\"index\", value_name=\"Spearman\", var_name=\"Metric\").rename({\"index\":\"RBP\"}, axis=1)"
   ]
  },
  {
   "cell_type": "code",
   "execution_count": 173,
   "id": "f56c200a-d6ea-4f14-9b2a-f0d8dd956a76",
   "metadata": {
    "execution": {
     "iopub.execute_input": "2022-08-26T20:04:51.352112Z",
     "iopub.status.busy": "2022-08-26T20:04:51.351669Z",
     "iopub.status.idle": "2022-08-26T20:04:56.837960Z",
     "shell.execute_reply": "2022-08-26T20:04:56.836791Z",
     "shell.execute_reply.started": "2022-08-26T20:04:51.352074Z"
    },
    "tags": []
   },
   "outputs": [
    {
     "data": {
      "image/png": "[encoded data removed]",
      "text/plain": [
       "<Figure size 576x288 with 2 Axes>"
      ]
     },
     "metadata": {
      "needs_background": "light"
     },
     "output_type": "display_data"
    }
   ],
   "source": [
    "# Plot the results!\n",
    "fig, ax = plt.subplots(1, 2, figsize=(8, 4))\n",
    "sns.boxplot(data=pearson_long, x=\"Metric\", y=\"Pearson\", color=\"red\", ax=ax[0])\n",
    "sns.boxplot(data=spearman_long, x=\"Metric\", y=\"Spearman\", color=\"red\", ax=ax[1])\n",
    "plt.tight_layout()"
   ]
  },
  {
   "cell_type": "markdown",
   "id": "f18d95b1-b397-49e2-87a2-084f63797885",
   "metadata": {},
   "source": [
    "---"
   ]
  },
  {
   "cell_type": "markdown",
   "id": "607cfa23-b8f0-4552-9a87-37bc6b843529",
   "metadata": {},
   "source": [
    "# Scratch"
   ]
  },
  {
   "cell_type": "markdown",
   "id": "779f7bb1-45a8-476f-b87f-541c2a1d4d54",
   "metadata": {},
   "source": [
    "## Developing evaluate RBP"
   ]
  },
  {
   "cell_type": "code",
   "execution_count": 2,
   "id": "c5f99548-2e1f-4b49-a0b9-73182f42f811",
   "metadata": {},
   "outputs": [],
   "source": [
    "def evaluate_rbp(sdata, probe_id, n_kmers=100, return_cors=False, verbose=True, use_calc_auc=False):\n",
    "    seqs = sdata.seqs\n",
    "    observed = sdata[probe_id].values\n",
    "    preds = sdata[f\"{probe_id}_predictions\"].values\n",
    "    \n",
    "    # Get zscores, aucs and escores from observed intensities\n",
    "    observed_zscores, observed_aucs, observed_escores = eu.predict.rna_complete_metrics(seqs, observed, num_kmers=n_kmers, verbose=verbose, use_calc_auc=use_calc_auc)\n",
    "\n",
    "    # Get zscores, aucs, and escores from predicted intensities\n",
    "    preds_zscores, preds_aucs, preds_escores = eu.predict.rna_complete_metrics(seqs, preds, num_kmers=n_kmers, verbose=verbose, use_calc_auc=use_calc_auc)\n",
    "    \n",
    "    # Z-scores\n",
    "    zscore_pearson = pearsonr(preds_zscores, observed_zscores)[0]\n",
    "    zscore_spearman = spearmanr(preds_zscores, observed_zscores).correlation\n",
    "\n",
    "    # AUCs\n",
    "    auc_pearson = pearsonr(preds_aucs, observed_aucs)[0]\n",
    "    auc_spearman = spearmanr(preds_aucs, observed_aucs).correlation\n",
    "\n",
    "    # E-scores\n",
    "    escore_pearson = pearsonr(preds_escores, observed_escores)[0]\n",
    "    escore_spearman = spearmanr(preds_escores, observed_escores).correlation\n",
    "\n",
    "    # Intensities\n",
    "    intensity_pearson = pearsonr(observed, preds)[0]\n",
    "    intensity_spearman = spearmanr(observed, preds).correlation\n",
    "    \n",
    "    if return_cors:\n",
    "        pearson = {\"Z-score\": zscore_pearson, \"AUC\": auc_pearson, \"E-score\": escore_pearson, \"Intensity\": intensity_pearson}\n",
    "        spearman = {\"Z-score\": zscore_spearman, \"AUC\": auc_spearman, \"E-score\": escore_spearman, \"Intensity\": intensity_spearman}\n",
    "        return pearson, spearman\n",
    "    \n",
    "    fig, ax = plt.subplots(1, 4, figsize=(16, 4))\n",
    "    ax[0].scatter(observed_zscores, preds_zscores)\n",
    "    ax[0].set_title(\"Z-scores\")\n",
    "    ax[0].set_xlabel(\"Observed\")\n",
    "    ax[0].set_ylabel(\"Predicted\")\n",
    "    ax[0].text(0.75, 0.05, \"r=\" + str(round(zscore_pearson, 2)) + \"\\nrho=\" + str(round(zscore_spearman, 2)), transform=ax[0].transAxes)\n",
    "\n",
    "    ax[1].scatter(observed_aucs, preds_aucs)\n",
    "    ax[1].set_title(\"AUCs\")\n",
    "    ax[1].set_xlabel(\"Observed\")\n",
    "    ax[1].set_ylabel(\"Predicted\")\n",
    "    ax[1].text(0.75, 0.05, \"r=\" + str(round(auc_pearson, 2)) + \"\\nrho=\" + str(round(auc_spearman, 2)), transform=ax[1].transAxes)\n",
    "\n",
    "    ax[2].scatter(observed_escores, preds_escores)\n",
    "    ax[2].set_title(\"E-scores\")\n",
    "    ax[2].set_xlabel(\"Observed\")\n",
    "    ax[2].set_ylabel(\"Predicted\")\n",
    "    ax[2].text(0.75, 0.05, \"r=\" + str(round(escore_pearson, 2)) + \"\\nrho=\" + str(round(escore_spearman, 2)), transform=ax[2].transAxes)\n",
    "\n",
    "    ax[3].scatter(observed, preds)\n",
    "    ax[3].set_title(\"Intensities\")\n",
    "    ax[3].set_xlabel(\"Observed\")\n",
    "    ax[3].set_ylabel(\"Predicted\")\n",
    "    ax[3].text(0.75, 0.05, \"r=\" + str(round(intensity_pearson, 2)) + \"\\nrho=\" + str(round(intensity_spearman, 2)), transform=ax[3].transAxes)\n",
    "\n",
    "    plt.tight_layout()"
   ]
  },
  {
   "cell_type": "code",
   "execution_count": 90,
   "id": "8f2b1fa3-3a85-4e66-b994-b5f8b69eedaf",
   "metadata": {
    "execution": {
     "iopub.execute_input": "2022-08-26T18:37:59.508759Z",
     "iopub.status.busy": "2022-08-26T18:37:59.508400Z",
     "iopub.status.idle": "2022-08-26T18:38:07.145256Z",
     "shell.execute_reply": "2022-08-26T18:38:07.144163Z",
     "shell.execute_reply.started": "2022-08-26T18:37:59.508730Z"
    },
    "tags": []
   },
   "outputs": [],
   "source": [
    "# Get zscores, aucs and escores from observed intensities\n",
    "observed_zscores, observed_aucs, observed_escores = eu.predict.rna_complete_metrics(sdata.seqs, observed, num_kmers=100)\n",
    "\n",
    "# Get zscores, aucs, and escores from predicted intensities\n",
    "db_zscores, db_aucs, db_escores = eu.predict.rna_complete_metrics(sdata.seqs, preds, num_kmers=100)\n",
    "\n",
    "# Z-scores\n",
    "zscore_pearson = pearsonr(db_zscores, observed_zscores)[0]\n",
    "zscore_spearman = spearmanr(db_zscores, observed_zscores).correlation\n",
    "\n",
    "# AUCs\n",
    "auc_pearson = pearsonr(db_aucs, observed_aucs)[0]\n",
    "auc_spearman = spearmanr(db_aucs, observed_aucs).correlation\n",
    "\n",
    "# E-scores\n",
    "escore_pearson = pearsonr(db_escores, observed_escores)[0]\n",
    "escore_spearman = spearmanr(db_escores, observed_escores).correlation\n",
    "\n",
    "# Intensities\n",
    "intensity_pearson = pearsonr(observed, preds)[0]\n",
    "intensity_spearman = spearmanr(observed, preds).correlation\n",
    "\n",
    "fig, ax = plt.subplots(1, 4, figsize=(16, 4))\n",
    "\n",
    "ax[0].scatter(observed_zscores, db_zscores)\n",
    "ax[0].set_title(\"Z-scores\")\n",
    "ax[0].set_xlabel(\"Observed\")\n",
    "ax[0].set_ylabel(\"Predicted\")\n",
    "ax[0].text(0.75, 0.05, \"r=\" + str(round(zscore_pearson, 2)) + \"\\nrho=\" + str(round(zscore_spearman, 2)), transform=ax[0].transAxes)\n",
    "\n",
    "ax[1].scatter(observed_aucs, db_aucs)\n",
    "ax[1].set_title(\"AUCs\")\n",
    "ax[1].set_xlabel(\"Observed\")\n",
    "ax[1].set_ylabel(\"Predicted\")\n",
    "ax[1].text(0.75, 0.05, \"r=\" + str(round(auc_pearson, 2)) + \"\\nrho=\" + str(round(auc_spearman, 2)), transform=ax[1].transAxes)\n",
    "\n",
    "ax[2].scatter(observed_escores, db_escores)\n",
    "ax[2].set_title(\"E-scores\")\n",
    "ax[2].set_xlabel(\"Observed\")\n",
    "ax[2].set_ylabel(\"Predicted\")\n",
    "ax[2].text(0.75, 0.05, \"r=\" + str(round(escore_pearson, 2)) + \"\\nrho=\" + str(round(escore_spearman, 2)), transform=ax[2].transAxes)\n",
    "\n",
    "ax[3].scatter(observed, preds)\n",
    "ax[3].set_title(\"Intensities\")\n",
    "ax[3].set_xlabel(\"Observed\")\n",
    "ax[3].set_ylabel(\"Predicted\")\n",
    "ax[3].text(0.75, 0.05, \"r=\" + str(round(intensity_pearson, 2)) + \"\\nrho=\" + str(round(intensity_spearman, 2)), transform=ax[3].transAxes)\n",
    "\n",
    "plt.tight_layout()"
   ]
  },
  {
   "cell_type": "code",
   "execution_count": null,
   "id": "71bebe56-733a-47cd-b992-4e92dcf19225",
   "metadata": {},
   "outputs": [],
   "source": [
    "# Test out above\n",
    "df = pd.DataFrame(a_presence_absence)\n",
    "df_sub = df[:100]\n",
    "rbp_eval = df_sub.progress_apply(lambda x: pd.Series({'Median': median_calc(x, preds), 'AUC': auc_calc(x, preds), 'E-score': escore(x, preds)}), axis=1)\n",
    "rbp_eval[\"Z-score\"] = (rbp_eval[\"Median\"] - np.mean(rbp_eval[\"Median\"])) / np.std(rbp_eval[\"Median\"], ddof=1)\n",
    "rbp_eval"
   ]
  },
  {
   "cell_type": "markdown",
   "id": "613f7064",
   "metadata": {
    "execution": {
     "iopub.execute_input": "2022-08-26T04:23:33.585492Z",
     "iopub.status.busy": "2022-08-26T04:23:33.584922Z",
     "iopub.status.idle": "2022-08-26T04:23:38.364818Z",
     "shell.execute_reply": "2022-08-26T04:23:38.363426Z",
     "shell.execute_reply.started": "2022-08-26T04:23:33.585454Z"
    },
    "tags": []
   },
   "source": [
    "## Developing DeepBind Evaluation Metrics"
   ]
  },
  {
   "cell_type": "code",
   "execution_count": null,
   "id": "48b09b55",
   "metadata": {},
   "outputs": [],
   "source": [
    "# Older attempts\n",
    "def rna_complete_zscores(probes, values):\n",
    "    kmers = generate_all_possible_kmers(n=7, alphabet=\"AGCU\")\n",
    "    probes_s = pd.Series(probes)\n",
    "    kmer_indeces = [np.where(probes_s.str.contains(kmer))[0] for kmer in kmers]\n",
    "    median_kmer_intensities = [np.nanmedian(values[l]) for l in kmer_indeces]\n",
    "    z_scores = (median_kmer_intensities - np.mean(median_kmer_intensities))/np.std(median_kmer_intensities, ddof=1)\n",
    "    return z_scores\n",
    "\n",
    "\n",
    "def rna_complete_zscores(probes, values):\n",
    "    kmers = generate_all_possible_kmers(n=7, alphabet=\"AGCU\")[:10]\n",
    "    probes_s = pd.Series(probes)\n",
    "    kmer_indeces = [np.where(probes_s.str.contains(kmer))[0] for kmer in kmers[:10]]\n",
    "    median_kmer_intensities = [np.nanmedian(values[l]) for l in kmer_indeces]\n",
    "    z_scores = (median_kmer_intensities - np.mean(median_kmer_intensities))/np.std(median_kmer_intensities, ddof=1)\n",
    "    return z_scores\n",
    "\n",
    "\n",
    "def rna_complete_aucs(probes, values):\n",
    "    kmers = generate_all_possible_kmers(n=7, alphabet=\"AGCU\")[:10]\n",
    "    kmers_in_probes(probes, kmers):\n",
    "    order = np.argsort(values)\n",
    "    true_sorted = values[order]\n",
    "    preds_sorted = kmer_hits[:, order]\n",
    "    nan_mask = (~np.isnan(true_sorted))\n",
    "    true_cleaned = true_sorted[nan_mask]\n",
    "    preds_cleaned = preds_sorted[:, nan_mask]\n",
    "    aucs = np.array([auc(true_cleaned, preds) for preds in preds_cleaned])\n",
    "    return aucs\n",
    "\n",
    "\n",
    "def rna_complete_aucs(probes, values):\n",
    "    kmers = generate_all_possible_kmers(n=7, alphabet=\"AGCU\")[:10]\n",
    "    probes_s = pd.Series(probes)\n",
    "    kmer_hits = np.array([probes_s.str.contains(kmer).astype(int).values for kmer in kmers[:10]])\n",
    "    order = np.argsort(values)\n",
    "    true_sorted = values[order]\n",
    "    preds_sorted = kmer_hits[:, order]\n",
    "    nan_mask = (~np.isnan(true_sorted))\n",
    "    true_cleaned = true_sorted[nan_mask]\n",
    "    preds_cleaned = preds_sorted[:, nan_mask]\n",
    "    aucs = np.array([auc(true_cleaned, preds) for preds in preds_cleaned])\n",
    "    return aucs\n",
    "\n",
    "\n",
    "def rna_complete_aucs(kmer_binary, values):\n",
    "    nan_mask = (~np.isnan(values))\n",
    "    true = values[nan_mask]\n",
    "    preds = kmer_binary[:, nan_mask]\n",
    "    order = np.argsort(true)\n",
    "    true_sorted = true[order]\n",
    "    preds_sorted = preds[:, order]\n",
    "    aucs = np.array([auc(true_sorted, preds) for preds in preds_sorted])\n",
    "    return aucs\n",
    "\n",
    "rna_complete_zscores(probes=sdata.seqs, values=sdata[\"RNCMPT00100\"])\n",
    "rna_complete_aucs(k_binary, sdata[\"RNCMPT00100\"].values)\n",
    "rna_complete_aucs(probes=sdata.seqs, values=sdata[\"RNCMPT00100\"].values)"
   ]
  },
  {
   "cell_type": "code",
   "execution_count": null,
   "id": "799b105c",
   "metadata": {
    "execution": {
     "iopub.execute_input": "2022-08-26T17:15:36.506858Z",
     "iopub.status.busy": "2022-08-26T17:15:36.506575Z",
     "iopub.status.idle": "2022-08-26T17:15:40.585836Z",
     "shell.execute_reply": "2022-08-26T17:15:40.584771Z",
     "shell.execute_reply.started": "2022-08-26T17:15:36.506830Z"
    },
    "tags": []
   },
   "outputs": [],
   "source": [
    "# Get the hits for k-mers\n",
    "possible_kmers = generate_all_possible_kmers(n=7, alphabet=\"AGCU\")\n",
    "k_binary = kmer_in_seqs(seqs=sdata.seqs, kmer=possible_kmers[0])\n",
    "np.unique(k_binary, return_counts=True)\n",
    "\n",
    "# Real data\n",
    "preds = k_binary\n",
    "y = sdata[\"RNCMPT00100\"].values\n",
    "\n",
    "# Pretend data\n",
    "#preds = np.array([0, 1, 1, 1, 0, 0, 0, 1])\n",
    "#y = np.array([0.2, 0.6, 0.8, 0.7, 0.5, 0.3, 0.1, 0.9])\n",
    "\n",
    "median_calc(preds=preds, y=y), calc_auc(y, preds), auc_calc(preds=preds, y=y), escore(preds=preds, y=y), escore(preds, y, use_calc_auc=True)\n",
    "rna_complete_metrics(probes=sdata.seqs, intensities=sdata[\"RNCMPT00100\"].values, n=7, alphabet=\"AGCU\", num_kmers=100)"
   ]
  },
  {
   "cell_type": "code",
   "execution_count": null,
   "id": "bdb34758",
   "metadata": {},
   "outputs": [],
   "source": [
    "# Implementing the escore function\n",
    "\n",
    "# Pull out one k-mers worth of hits and actuall probe intensities\n",
    "preds = k_binary\n",
    "y = sdata[\"RNCMPT00100\"].values\n",
    "\n",
    "preds = np.array([0, 1, 1, 1, 0, 0, 0, 1])\n",
    "y = np.array([0.2, 0.6, 0.8, 0.7, 0.5, 0.3, 0.1, 0.9])\n",
    "\n",
    "# Get the indices where the 7mers are hits and where they are not\n",
    "l_0 = np.where(preds == 0)[0]\n",
    "l_1 = np.where(preds == 1)[0]\n",
    "l_0, l_1\n",
    "\n",
    "# Get the probe intensities for k-mer hits and not\n",
    "y_0 = y[l_0]\n",
    "y_1 = y[l_1]\n",
    "y_0, y_1\n",
    "\n",
    "indeces_y_0, indeces_y_1 = np.argsort(y_0)[::-1], np.argsort(y_1)[::-1]\n",
    "indeces_y_0, indeces_y_1\n",
    "\n",
    "sorted_y_0, sorted_y_1 = np.sort(y_0)[::-1], np.sort(y_1)[::-1]\n",
    "sorted_y_0, sorted_y_1\n",
    "\n",
    "indeces_y_0_top = indeces_y_0[:int(len(sorted_y_0)/2)]\n",
    "indeces_y_1_top = indeces_y_1[:int(len(sorted_y_1)/2)]\n",
    "indeces_y_0_top, indeces_y_1_top\n",
    "\n",
    "sorted_y_0_top = sorted_y_0[:int(len(sorted_y_0)/2)]\n",
    "sorted_y_1_top = sorted_y_1[:int(len(sorted_y_1)/2)]\n",
    "sorted_y_0_top, sorted_y_1_top\n",
    "\n",
    "l_0_top = l_0[indeces_y_0_top]\n",
    "l_1_top = l_1[indeces_y_1_top]\n",
    "l_0_top, l_1_top\n",
    "\n",
    "l_top = np.concatenate([l_0_top, l_1_top])\n",
    "l_top\n",
    "\n",
    "preds[l_top], y[l_top]\n",
    "\n",
    "rna_complete_auc(preds=preds, y=y), rna_complete_auc(preds=preds[l_top], y=y[l_top])"
   ]
  },
  {
   "cell_type": "code",
   "execution_count": null,
   "id": "ee030e8d",
   "metadata": {
    "execution": {
     "iopub.execute_input": "2022-08-26T17:27:49.137595Z",
     "iopub.status.busy": "2022-08-26T17:27:49.137124Z",
     "iopub.status.idle": "2022-08-26T17:27:55.614955Z",
     "shell.execute_reply": "2022-08-26T17:27:55.613825Z",
     "shell.execute_reply.started": "2022-08-26T17:27:49.137559Z"
    },
    "tags": []
   },
   "outputs": [
    {
     "data": {
      "application/vnd.jupyter.widget-view+json": {
       "model_id": "",
       "version_major": 2,
       "version_minor": 0
      },
      "text/plain": [
       "Scoring k-mers:   0%|          | 0/10 [00:00<?, ?it/s]"
      ]
     },
     "metadata": {},
     "output_type": "display_data"
    }
   ],
   "source": [
    "# Implementing the rnacomplete_metrics function\n",
    "kmer_medians = []\n",
    "kmer_aucs = []\n",
    "kmer_escores = []\n",
    "y = sdata[\"RNCMPT00100\"].values\n",
    "for i, kmer in tqdm(enumerate(possible_kmers[:n]), desc=\"Scoring k-mers\", total=len(possible_kmers[:n])):\n",
    "    preds = kmer_in_seqs(seqs=sdata.seqs, kmer=kmer)\n",
    "    kmer_medians.append(median_calc(preds=preds, y=y))\n",
    "    kmer_aucs.append(auc_calc(preds=preds, y=y))\n",
    "    kmer_escores.append(escores(preds=preds, y=y))\n",
    "kmer_medians = np.array(kmer_medians)\n",
    "kmer_aucs = np.array(kmer_aucs)\n",
    "kmer_escore = np.array(kmer_escores)\n",
    "kmer_zscores = (kmer_medians - np.mean(kmer_medians))/np.std(kmer_medians, ddof=1)"
   ]
  }
 ],
 "metadata": {
  "kernelspec": {
   "display_name": "Python 3.7.13 64-bit",
   "language": "python",
   "name": "python3"
  },
  "language_info": {
   "codemirror_mode": {
    "name": "ipython",
    "version": 3
   },
   "file_extension": ".py",
   "mimetype": "text/x-python",
   "name": "python",
   "nbconvert_exporter": "python",
   "pygments_lexer": "ipython3",
   "version": "3.7.13"
  },
  "vscode": {
   "interpreter": {
    "hash": "949777d72b0d2535278d3dc13498b2535136f6dfe0678499012e853ee9abcab1"
   }
  }
 },
 "nbformat": 4,
 "nbformat_minor": 5
}

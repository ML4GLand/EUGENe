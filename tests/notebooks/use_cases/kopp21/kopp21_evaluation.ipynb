{
 "cells": [
  {
   "cell_type": "markdown",
   "metadata": {},
   "source": [
    "# Kopp et al 2021 Evaluation \n",
    "**Authorship:**\n",
    "Adam Klie, *08/12/2022*\n",
    "***\n",
    "**Description:**\n",
    "Notebook to perform a brief evaluation of trained models on the Kopp21 et al dataset.\n",
    "***"
   ]
  },
  {
   "cell_type": "code",
   "execution_count": 1,
   "metadata": {
    "execution": {
     "iopub.execute_input": "2022-08-23T17:41:23.103334Z",
     "iopub.status.busy": "2022-08-23T17:41:23.102820Z",
     "iopub.status.idle": "2022-08-23T17:41:25.061999Z",
     "shell.execute_reply": "2022-08-23T17:41:25.061521Z",
     "shell.execute_reply.started": "2022-08-23T17:41:23.103314Z"
    },
    "tags": []
   },
   "outputs": [
    {
     "name": "stderr",
     "output_type": "stream",
     "text": [
      "Global seed set to 13\n",
      "2022-08-25 16:17:19.914222: W tensorflow/stream_executor/platform/default/dso_loader.cc:64] Could not load dynamic library 'libcudart.so.11.0'; dlerror: libcudart.so.11.0: cannot open shared object file: No such file or directory\n",
      "2022-08-25 16:17:19.914265: I tensorflow/stream_executor/cuda/cudart_stub.cc:29] Ignore above cudart dlerror if you do not have a GPU set up on your machine.\n",
      "/workspaces/EUGENe/eugene/external/kipoi_veff/seqplotting_deps.py:36: FutureWarning: arrays to stack must be passed as a \"sequence\" type such as list or tuple. Support for non-sequence iterables such as generators is deprecated as of NumPy 1.16 and will raise an error in the future.\n",
      "  min_coords = np.vstack(data.min(0) for data in polygons_data).min(0)\n",
      "/workspaces/EUGENe/eugene/external/kipoi_veff/seqplotting_deps.py:37: FutureWarning: arrays to stack must be passed as a \"sequence\" type such as list or tuple. Support for non-sequence iterables such as generators is deprecated as of NumPy 1.16 and will raise an error in the future.\n",
      "  max_coords = np.vstack(data.max(0) for data in polygons_data).max(0)\n"
     ]
    }
   ],
   "source": [
    "if 'autoreload' not in get_ipython().extension_manager.loaded:\n",
    "    %load_ext autoreload\n",
    "%autoreload 2\n",
    "\n",
    "import os\n",
    "import glob\n",
    "import logging\n",
    "import torch\n",
    "import numpy as np\n",
    "import pandas as pd\n",
    "import eugene as eu\n",
    "import matplotlib.pyplot as plt\n",
    "import matplotlib\n",
    "\n",
    "matplotlib.rcParams['pdf.fonttype'] = 42\n",
    "matplotlib.rcParams['ps.fonttype'] = 42"
   ]
  },
  {
   "cell_type": "code",
   "execution_count": 2,
   "metadata": {
    "execution": {
     "iopub.execute_input": "2022-08-23T17:30:59.170892Z",
     "iopub.status.busy": "2022-08-23T17:30:59.170161Z",
     "iopub.status.idle": "2022-08-23T17:31:01.362066Z",
     "shell.execute_reply": "2022-08-23T17:31:01.361453Z",
     "shell.execute_reply.started": "2022-08-23T17:30:59.170870Z"
    },
    "tags": []
   },
   "outputs": [],
   "source": [
    "eu.settings.dataset_dir = \"../../../_data/eugene/kopp21\"\n",
    "eu.settings.output_dir = \"../../../_output/kopp21\"\n",
    "eu.settings.logging_dir = \"../../../_logs/kopp21\"\n",
    "eu.settings.config_dir = \"../../../_configs/kopp21\"\n",
    "figure_dir = \"../../../_figures/kopp21\"\n",
    "eu.settings.verbosity = logging.ERROR\n",
    "eu.settings.batch_size = 128\n",
    "eu.settings.dl_num_workers = 0"
   ]
  },
  {
   "cell_type": "markdown",
   "metadata": {},
   "source": [
    "# Load in the `leaf`, `proto` and `combined` test `SeqData`s "
   ]
  },
  {
   "cell_type": "code",
   "execution_count": 3,
   "metadata": {
    "execution": {
     "iopub.execute_input": "2022-08-23T17:16:13.964881Z",
     "iopub.status.busy": "2022-08-23T17:16:13.964511Z",
     "iopub.status.idle": "2022-08-23T17:16:16.343966Z",
     "shell.execute_reply": "2022-08-23T17:16:16.343533Z",
     "shell.execute_reply.started": "2022-08-23T17:16:13.964864Z"
    }
   },
   "outputs": [
    {
     "data": {
      "text/plain": [
       "SeqData object with = 2000 seqs\n",
       "seqs = (2000,)\n",
       "names = (2000,)\n",
       "rev_seqs = (2000,)\n",
       "ohe_seqs = (2000, 500, 4)\n",
       "ohe_rev_seqs = (2000, 500, 4)\n",
       "seqs_annot: 'chr', 'end', 'seq_len', 'start', 'target'\n",
       "pos_annot: None\n",
       "seqsm: None\n",
       "uns: None"
      ]
     },
     "execution_count": 3,
     "metadata": {},
     "output_type": "execute_result"
    }
   ],
   "source": [
    "# Load in the preprocessed training data\n",
    "#sdata_sub = eu.dl.read_h5sd(os.path.join(eu.settings.output_dir, \"train_sub_predictions.h5sd\"))\n",
    "sdata_sub = eu.dl.read_h5sd(\n",
    "    filename=\"../../../_data/jund_processed_sub.h5sd\",\n",
    ")\n",
    "sdata_sub.make_names_unique()\n",
    "sdata_sub"
   ]
  },
  {
   "cell_type": "code",
   "execution_count": 4,
   "metadata": {},
   "outputs": [
    {
     "name": "stdout",
     "output_type": "stream",
     "text": [
      "SeqData object modified:\n",
      "    seqs_annot:\n",
      "        + train_val\n"
     ]
    },
    {
     "data": {
      "text/plain": [
       "True     90\n",
       "False    10\n",
       "Name: train_val, dtype: int64"
      ]
     },
     "execution_count": 4,
     "metadata": {},
     "output_type": "execute_result"
    }
   ],
   "source": [
    "# Split into train and test sets\n",
    "eu.pp.train_test_split_data(\n",
    "    sdata_sub, \n",
    "    train_key=\"train_val\",\n",
    "    chr = [\"chr3\"]\n",
    ")\n",
    "sdata_sub = eu.dl.concat([sdata_sub[sdata_sub[\"train_val\"]][:90], sdata_sub[~sdata_sub[\"train_val\"]][:10]], keys=[\"train\", \"val\"])\n",
    "sdata_sub[\"train_val\"].value_counts()"
   ]
  },
  {
   "cell_type": "markdown",
   "metadata": {},
   "source": [
    "# Get test set predictions for each model"
   ]
  },
  {
   "cell_type": "code",
   "execution_count": 5,
   "metadata": {
    "execution": {
     "iopub.execute_input": "2022-08-23T17:16:19.717862Z",
     "iopub.status.busy": "2022-08-23T17:16:19.717624Z",
     "iopub.status.idle": "2022-08-23T17:16:55.556288Z",
     "shell.execute_reply": "2022-08-23T17:16:55.555827Z",
     "shell.execute_reply.started": "2022-08-23T17:16:19.717843Z"
    }
   },
   "outputs": [
    {
     "name": "stdout",
     "output_type": "stream",
     "text": [
      "dsFCN trial 1\n"
     ]
    },
    {
     "name": "stderr",
     "output_type": "stream",
     "text": [
      "/home/vscode/.local/lib/python3.7/site-packages/torchmetrics/utilities/prints.py:36: UserWarning: Metric `AUROC` will save all targets and predictions in buffer. For large datasets this may lead to large memory footprint.\n",
      "  warnings.warn(*args, **kwargs)\n",
      "GPU available: False, used: False\n",
      "TPU available: False, using: 0 TPU cores\n",
      "IPU available: False, using: 0 IPUs\n"
     ]
    },
    {
     "name": "stdout",
     "output_type": "stream",
     "text": [
      "No transforms given, assuming just need to tensorize).\n"
     ]
    },
    {
     "name": "stderr",
     "output_type": "stream",
     "text": [
      "/home/vscode/.local/lib/python3.7/site-packages/pytorch_lightning/trainer/data_loading.py:662: UserWarning: Your `predict_dataloader` has `shuffle=True`, it is strongly recommended that you turn this off for val/test/predict dataloaders.\n",
      "  category=UserWarning,\n",
      "/home/vscode/.local/lib/python3.7/site-packages/pytorch_lightning/trainer/data_loading.py:133: UserWarning: The dataloader, predict_dataloader 0, does not have many workers which may be a bottleneck. Consider increasing the value of the `num_workers` argument` (try 4 which is the number of cpus on this machine) in the `DataLoader` init to improve performance.\n",
      "  f\"The dataloader, {name}, does not have many workers which may be a bottleneck.\"\n"
     ]
    },
    {
     "data": {
      "application/vnd.jupyter.widget-view+json": {
       "model_id": "cd1e75ea390e44a0bfe644fb73e96aba",
       "version_major": 2,
       "version_minor": 0
      },
      "text/plain": [
       "Predicting: 0it [00:00, ?it/s]"
      ]
     },
     "metadata": {},
     "output_type": "display_data"
    },
    {
     "name": "stderr",
     "output_type": "stream",
     "text": [
      "GPU available: False, used: False\n",
      "TPU available: False, using: 0 TPU cores\n",
      "IPU available: False, using: 0 IPUs\n"
     ]
    },
    {
     "name": "stdout",
     "output_type": "stream",
     "text": [
      "SeqData object modified:\n",
      "    seqs_annot:\n",
      "        + dsFCN_test_trial_1_target_predictions\n",
      "dsFCN trial 2\n",
      "No transforms given, assuming just need to tensorize).\n"
     ]
    },
    {
     "data": {
      "application/vnd.jupyter.widget-view+json": {
       "model_id": "278862ca85e849b485544fd82d3c2aaa",
       "version_major": 2,
       "version_minor": 0
      },
      "text/plain": [
       "Predicting: 0it [00:00, ?it/s]"
      ]
     },
     "metadata": {},
     "output_type": "display_data"
    },
    {
     "name": "stdout",
     "output_type": "stream",
     "text": [
      "SeqData object modified:\n",
      "    seqs_annot:\n",
      "        + dsFCN_test_trial_2_target_predictions\n",
      "dsFCN trial 3\n"
     ]
    },
    {
     "name": "stderr",
     "output_type": "stream",
     "text": [
      "GPU available: False, used: False\n",
      "TPU available: False, using: 0 TPU cores\n",
      "IPU available: False, using: 0 IPUs\n"
     ]
    },
    {
     "name": "stdout",
     "output_type": "stream",
     "text": [
      "No transforms given, assuming just need to tensorize).\n"
     ]
    },
    {
     "data": {
      "application/vnd.jupyter.widget-view+json": {
       "model_id": "dc05b51b9f1c4246bde8d13e20a0c28d",
       "version_major": 2,
       "version_minor": 0
      },
      "text/plain": [
       "Predicting: 0it [00:00, ?it/s]"
      ]
     },
     "metadata": {},
     "output_type": "display_data"
    },
    {
     "name": "stdout",
     "output_type": "stream",
     "text": [
      "SeqData object modified:\n",
      "    seqs_annot:\n",
      "        + dsFCN_test_trial_3_target_predictions\n",
      "dsFCN trial 4\n"
     ]
    },
    {
     "name": "stderr",
     "output_type": "stream",
     "text": [
      "GPU available: False, used: False\n",
      "TPU available: False, using: 0 TPU cores\n",
      "IPU available: False, using: 0 IPUs\n"
     ]
    },
    {
     "name": "stdout",
     "output_type": "stream",
     "text": [
      "No transforms given, assuming just need to tensorize).\n"
     ]
    },
    {
     "data": {
      "application/vnd.jupyter.widget-view+json": {
       "model_id": "f41647a7eb0d4abfa0d91f5099a93625",
       "version_major": 2,
       "version_minor": 0
      },
      "text/plain": [
       "Predicting: 0it [00:00, ?it/s]"
      ]
     },
     "metadata": {},
     "output_type": "display_data"
    },
    {
     "name": "stdout",
     "output_type": "stream",
     "text": [
      "SeqData object modified:\n",
      "    seqs_annot:\n",
      "        + dsFCN_test_trial_4_target_predictions\n",
      "dsFCN trial 5\n"
     ]
    },
    {
     "name": "stderr",
     "output_type": "stream",
     "text": [
      "GPU available: False, used: False\n",
      "TPU available: False, using: 0 TPU cores\n",
      "IPU available: False, using: 0 IPUs\n"
     ]
    },
    {
     "name": "stdout",
     "output_type": "stream",
     "text": [
      "No transforms given, assuming just need to tensorize).\n"
     ]
    },
    {
     "data": {
      "application/vnd.jupyter.widget-view+json": {
       "model_id": "1dc248e3f7d34d21a3f49f407bff10fd",
       "version_major": 2,
       "version_minor": 0
      },
      "text/plain": [
       "Predicting: 0it [00:00, ?it/s]"
      ]
     },
     "metadata": {},
     "output_type": "display_data"
    },
    {
     "name": "stdout",
     "output_type": "stream",
     "text": [
      "SeqData object modified:\n",
      "    seqs_annot:\n",
      "        + dsFCN_test_trial_5_target_predictions\n",
      "dsCNN trial 1\n"
     ]
    },
    {
     "name": "stderr",
     "output_type": "stream",
     "text": [
      "GPU available: False, used: False\n",
      "TPU available: False, using: 0 TPU cores\n",
      "IPU available: False, using: 0 IPUs\n"
     ]
    },
    {
     "name": "stdout",
     "output_type": "stream",
     "text": [
      "No transforms given, assuming just need to tensorize).\n"
     ]
    },
    {
     "data": {
      "application/vnd.jupyter.widget-view+json": {
       "model_id": "421999362a0c4a3e96062df5ec303a62",
       "version_major": 2,
       "version_minor": 0
      },
      "text/plain": [
       "Predicting: 0it [00:00, ?it/s]"
      ]
     },
     "metadata": {},
     "output_type": "display_data"
    },
    {
     "name": "stderr",
     "output_type": "stream",
     "text": [
      "GPU available: False, used: False\n",
      "TPU available: False, using: 0 TPU cores\n",
      "IPU available: False, using: 0 IPUs\n"
     ]
    },
    {
     "name": "stdout",
     "output_type": "stream",
     "text": [
      "SeqData object modified:\n",
      "    seqs_annot:\n",
      "        + dsCNN_test_trial_1_target_predictions\n",
      "dsCNN trial 2\n",
      "No transforms given, assuming just need to tensorize).\n"
     ]
    },
    {
     "data": {
      "application/vnd.jupyter.widget-view+json": {
       "model_id": "b47c20bd07e24884b9b7923da8df8a8d",
       "version_major": 2,
       "version_minor": 0
      },
      "text/plain": [
       "Predicting: 0it [00:00, ?it/s]"
      ]
     },
     "metadata": {},
     "output_type": "display_data"
    },
    {
     "name": "stderr",
     "output_type": "stream",
     "text": [
      "GPU available: False, used: False\n",
      "TPU available: False, using: 0 TPU cores\n",
      "IPU available: False, using: 0 IPUs\n"
     ]
    },
    {
     "name": "stdout",
     "output_type": "stream",
     "text": [
      "SeqData object modified:\n",
      "    seqs_annot:\n",
      "        + dsCNN_test_trial_2_target_predictions\n",
      "dsCNN trial 3\n",
      "No transforms given, assuming just need to tensorize).\n"
     ]
    },
    {
     "data": {
      "application/vnd.jupyter.widget-view+json": {
       "model_id": "82896ca184c844a881dabd94785169c5",
       "version_major": 2,
       "version_minor": 0
      },
      "text/plain": [
       "Predicting: 0it [00:00, ?it/s]"
      ]
     },
     "metadata": {},
     "output_type": "display_data"
    },
    {
     "name": "stderr",
     "output_type": "stream",
     "text": [
      "GPU available: False, used: False\n",
      "TPU available: False, using: 0 TPU cores\n",
      "IPU available: False, using: 0 IPUs\n"
     ]
    },
    {
     "name": "stdout",
     "output_type": "stream",
     "text": [
      "SeqData object modified:\n",
      "    seqs_annot:\n",
      "        + dsCNN_test_trial_3_target_predictions\n",
      "dsCNN trial 4\n",
      "No transforms given, assuming just need to tensorize).\n"
     ]
    },
    {
     "data": {
      "application/vnd.jupyter.widget-view+json": {
       "model_id": "728cb21da1264a7aa9eb0960ae6d448d",
       "version_major": 2,
       "version_minor": 0
      },
      "text/plain": [
       "Predicting: 0it [00:00, ?it/s]"
      ]
     },
     "metadata": {},
     "output_type": "display_data"
    },
    {
     "name": "stderr",
     "output_type": "stream",
     "text": [
      "GPU available: False, used: False\n",
      "TPU available: False, using: 0 TPU cores\n",
      "IPU available: False, using: 0 IPUs\n"
     ]
    },
    {
     "name": "stdout",
     "output_type": "stream",
     "text": [
      "SeqData object modified:\n",
      "    seqs_annot:\n",
      "        + dsCNN_test_trial_4_target_predictions\n",
      "dsCNN trial 5\n",
      "No transforms given, assuming just need to tensorize).\n"
     ]
    },
    {
     "data": {
      "application/vnd.jupyter.widget-view+json": {
       "model_id": "1fbda1724f064535b82c61d8bc9359ea",
       "version_major": 2,
       "version_minor": 0
      },
      "text/plain": [
       "Predicting: 0it [00:00, ?it/s]"
      ]
     },
     "metadata": {},
     "output_type": "display_data"
    },
    {
     "name": "stderr",
     "output_type": "stream",
     "text": [
      "GPU available: False, used: False\n",
      "TPU available: False, using: 0 TPU cores\n",
      "IPU available: False, using: 0 IPUs\n"
     ]
    },
    {
     "name": "stdout",
     "output_type": "stream",
     "text": [
      "SeqData object modified:\n",
      "    seqs_annot:\n",
      "        + dsCNN_test_trial_5_target_predictions\n",
      "dsRNN trial 1\n",
      "No transforms given, assuming just need to tensorize).\n"
     ]
    },
    {
     "data": {
      "application/vnd.jupyter.widget-view+json": {
       "model_id": "266e822f5e164c44b257c82a216c5612",
       "version_major": 2,
       "version_minor": 0
      },
      "text/plain": [
       "Predicting: 0it [00:00, ?it/s]"
      ]
     },
     "metadata": {},
     "output_type": "display_data"
    },
    {
     "name": "stderr",
     "output_type": "stream",
     "text": [
      "GPU available: False, used: False\n",
      "TPU available: False, using: 0 TPU cores\n",
      "IPU available: False, using: 0 IPUs\n"
     ]
    },
    {
     "name": "stdout",
     "output_type": "stream",
     "text": [
      "SeqData object modified:\n",
      "    seqs_annot:\n",
      "        + dsRNN_test_trial_1_target_predictions\n",
      "dsRNN trial 2\n",
      "No transforms given, assuming just need to tensorize).\n"
     ]
    },
    {
     "data": {
      "application/vnd.jupyter.widget-view+json": {
       "model_id": "57796665ddc74cf493d6cb585f499bd4",
       "version_major": 2,
       "version_minor": 0
      },
      "text/plain": [
       "Predicting: 0it [00:00, ?it/s]"
      ]
     },
     "metadata": {},
     "output_type": "display_data"
    },
    {
     "name": "stderr",
     "output_type": "stream",
     "text": [
      "GPU available: False, used: False\n",
      "TPU available: False, using: 0 TPU cores\n",
      "IPU available: False, using: 0 IPUs\n"
     ]
    },
    {
     "name": "stdout",
     "output_type": "stream",
     "text": [
      "SeqData object modified:\n",
      "    seqs_annot:\n",
      "        + dsRNN_test_trial_2_target_predictions\n",
      "dsRNN trial 3\n",
      "No transforms given, assuming just need to tensorize).\n"
     ]
    },
    {
     "data": {
      "application/vnd.jupyter.widget-view+json": {
       "model_id": "d811f0eef4914778b1ebdaad23bb47a7",
       "version_major": 2,
       "version_minor": 0
      },
      "text/plain": [
       "Predicting: 0it [00:00, ?it/s]"
      ]
     },
     "metadata": {},
     "output_type": "display_data"
    },
    {
     "name": "stderr",
     "output_type": "stream",
     "text": [
      "GPU available: False, used: False\n",
      "TPU available: False, using: 0 TPU cores\n",
      "IPU available: False, using: 0 IPUs\n"
     ]
    },
    {
     "name": "stdout",
     "output_type": "stream",
     "text": [
      "SeqData object modified:\n",
      "    seqs_annot:\n",
      "        + dsRNN_test_trial_3_target_predictions\n",
      "dsRNN trial 4\n",
      "No transforms given, assuming just need to tensorize).\n"
     ]
    },
    {
     "data": {
      "application/vnd.jupyter.widget-view+json": {
       "model_id": "6946aa02bcd04b299574d6a16f9277ce",
       "version_major": 2,
       "version_minor": 0
      },
      "text/plain": [
       "Predicting: 0it [00:00, ?it/s]"
      ]
     },
     "metadata": {},
     "output_type": "display_data"
    },
    {
     "name": "stderr",
     "output_type": "stream",
     "text": [
      "GPU available: False, used: False\n",
      "TPU available: False, using: 0 TPU cores\n",
      "IPU available: False, using: 0 IPUs\n"
     ]
    },
    {
     "name": "stdout",
     "output_type": "stream",
     "text": [
      "SeqData object modified:\n",
      "    seqs_annot:\n",
      "        + dsRNN_test_trial_4_target_predictions\n",
      "dsRNN trial 5\n",
      "No transforms given, assuming just need to tensorize).\n"
     ]
    },
    {
     "data": {
      "application/vnd.jupyter.widget-view+json": {
       "model_id": "206803b9b7fa4f36adb044be58f92112",
       "version_major": 2,
       "version_minor": 0
      },
      "text/plain": [
       "Predicting: 0it [00:00, ?it/s]"
      ]
     },
     "metadata": {},
     "output_type": "display_data"
    },
    {
     "name": "stderr",
     "output_type": "stream",
     "text": [
      "GPU available: False, used: False\n",
      "TPU available: False, using: 0 TPU cores\n",
      "IPU available: False, using: 0 IPUs\n"
     ]
    },
    {
     "name": "stdout",
     "output_type": "stream",
     "text": [
      "SeqData object modified:\n",
      "    seqs_annot:\n",
      "        + dsRNN_test_trial_5_target_predictions\n",
      "dsHybrid trial 1\n",
      "No transforms given, assuming just need to tensorize).\n"
     ]
    },
    {
     "data": {
      "application/vnd.jupyter.widget-view+json": {
       "model_id": "a6793c24b0c7427ebabf5740b9649d9e",
       "version_major": 2,
       "version_minor": 0
      },
      "text/plain": [
       "Predicting: 0it [00:00, ?it/s]"
      ]
     },
     "metadata": {},
     "output_type": "display_data"
    },
    {
     "name": "stderr",
     "output_type": "stream",
     "text": [
      "GPU available: False, used: False\n",
      "TPU available: False, using: 0 TPU cores\n",
      "IPU available: False, using: 0 IPUs\n"
     ]
    },
    {
     "name": "stdout",
     "output_type": "stream",
     "text": [
      "SeqData object modified:\n",
      "    seqs_annot:\n",
      "        + dsHybrid_test_trial_1_target_predictions\n",
      "dsHybrid trial 2\n",
      "No transforms given, assuming just need to tensorize).\n"
     ]
    },
    {
     "data": {
      "application/vnd.jupyter.widget-view+json": {
       "model_id": "e125c55316fb4c9f8802ae1ecff9973b",
       "version_major": 2,
       "version_minor": 0
      },
      "text/plain": [
       "Predicting: 0it [00:00, ?it/s]"
      ]
     },
     "metadata": {},
     "output_type": "display_data"
    },
    {
     "name": "stderr",
     "output_type": "stream",
     "text": [
      "GPU available: False, used: False\n",
      "TPU available: False, using: 0 TPU cores\n",
      "IPU available: False, using: 0 IPUs\n"
     ]
    },
    {
     "name": "stdout",
     "output_type": "stream",
     "text": [
      "SeqData object modified:\n",
      "    seqs_annot:\n",
      "        + dsHybrid_test_trial_2_target_predictions\n",
      "dsHybrid trial 3\n",
      "No transforms given, assuming just need to tensorize).\n"
     ]
    },
    {
     "data": {
      "application/vnd.jupyter.widget-view+json": {
       "model_id": "02f0dd0904cc4cceb78aa66b7df56772",
       "version_major": 2,
       "version_minor": 0
      },
      "text/plain": [
       "Predicting: 0it [00:00, ?it/s]"
      ]
     },
     "metadata": {},
     "output_type": "display_data"
    },
    {
     "name": "stderr",
     "output_type": "stream",
     "text": [
      "GPU available: False, used: False\n",
      "TPU available: False, using: 0 TPU cores\n",
      "IPU available: False, using: 0 IPUs\n"
     ]
    },
    {
     "name": "stdout",
     "output_type": "stream",
     "text": [
      "SeqData object modified:\n",
      "    seqs_annot:\n",
      "        + dsHybrid_test_trial_3_target_predictions\n",
      "dsHybrid trial 4\n",
      "No transforms given, assuming just need to tensorize).\n"
     ]
    },
    {
     "data": {
      "application/vnd.jupyter.widget-view+json": {
       "model_id": "a9b0c311fa7248cda48b5e4d60419f6b",
       "version_major": 2,
       "version_minor": 0
      },
      "text/plain": [
       "Predicting: 0it [00:00, ?it/s]"
      ]
     },
     "metadata": {},
     "output_type": "display_data"
    },
    {
     "name": "stderr",
     "output_type": "stream",
     "text": [
      "GPU available: False, used: False\n",
      "TPU available: False, using: 0 TPU cores\n",
      "IPU available: False, using: 0 IPUs\n"
     ]
    },
    {
     "name": "stdout",
     "output_type": "stream",
     "text": [
      "SeqData object modified:\n",
      "    seqs_annot:\n",
      "        + dsHybrid_test_trial_4_target_predictions\n",
      "dsHybrid trial 5\n",
      "No transforms given, assuming just need to tensorize).\n"
     ]
    },
    {
     "data": {
      "application/vnd.jupyter.widget-view+json": {
       "model_id": "d6de77699f704b5ca2f207023ac5e337",
       "version_major": 2,
       "version_minor": 0
      },
      "text/plain": [
       "Predicting: 0it [00:00, ?it/s]"
      ]
     },
     "metadata": {},
     "output_type": "display_data"
    },
    {
     "name": "stderr",
     "output_type": "stream",
     "text": [
      "GPU available: False, used: False\n",
      "TPU available: False, using: 0 TPU cores\n",
      "IPU available: False, using: 0 IPUs\n"
     ]
    },
    {
     "name": "stdout",
     "output_type": "stream",
     "text": [
      "SeqData object modified:\n",
      "    seqs_annot:\n",
      "        + dsHybrid_test_trial_5_target_predictions\n",
      "Kopp21CNN trial 1\n",
      "No transforms given, assuming just need to tensorize).\n"
     ]
    },
    {
     "data": {
      "application/vnd.jupyter.widget-view+json": {
       "model_id": "ae84a3defd8841548b7ebc4e39e22b79",
       "version_major": 2,
       "version_minor": 0
      },
      "text/plain": [
       "Predicting: 0it [00:00, ?it/s]"
      ]
     },
     "metadata": {},
     "output_type": "display_data"
    },
    {
     "name": "stderr",
     "output_type": "stream",
     "text": [
      "GPU available: False, used: False\n",
      "TPU available: False, using: 0 TPU cores\n",
      "IPU available: False, using: 0 IPUs\n"
     ]
    },
    {
     "name": "stdout",
     "output_type": "stream",
     "text": [
      "SeqData object modified:\n",
      "    seqs_annot:\n",
      "        + Kopp21CNN_test_trial_1_target_predictions\n",
      "Kopp21CNN trial 2\n",
      "No transforms given, assuming just need to tensorize).\n"
     ]
    },
    {
     "data": {
      "application/vnd.jupyter.widget-view+json": {
       "model_id": "522a545cf86449e4b0b1f57f27691912",
       "version_major": 2,
       "version_minor": 0
      },
      "text/plain": [
       "Predicting: 0it [00:00, ?it/s]"
      ]
     },
     "metadata": {},
     "output_type": "display_data"
    },
    {
     "name": "stderr",
     "output_type": "stream",
     "text": [
      "GPU available: False, used: False\n",
      "TPU available: False, using: 0 TPU cores\n",
      "IPU available: False, using: 0 IPUs\n"
     ]
    },
    {
     "name": "stdout",
     "output_type": "stream",
     "text": [
      "SeqData object modified:\n",
      "    seqs_annot:\n",
      "        + Kopp21CNN_test_trial_2_target_predictions\n",
      "Kopp21CNN trial 3\n",
      "No transforms given, assuming just need to tensorize).\n"
     ]
    },
    {
     "data": {
      "application/vnd.jupyter.widget-view+json": {
       "model_id": "736bd8dc79344a1fa6d214d280acaf31",
       "version_major": 2,
       "version_minor": 0
      },
      "text/plain": [
       "Predicting: 0it [00:00, ?it/s]"
      ]
     },
     "metadata": {},
     "output_type": "display_data"
    },
    {
     "name": "stderr",
     "output_type": "stream",
     "text": [
      "GPU available: False, used: False\n",
      "TPU available: False, using: 0 TPU cores\n",
      "IPU available: False, using: 0 IPUs\n"
     ]
    },
    {
     "name": "stdout",
     "output_type": "stream",
     "text": [
      "SeqData object modified:\n",
      "    seqs_annot:\n",
      "        + Kopp21CNN_test_trial_3_target_predictions\n",
      "Kopp21CNN trial 4\n",
      "No transforms given, assuming just need to tensorize).\n"
     ]
    },
    {
     "data": {
      "application/vnd.jupyter.widget-view+json": {
       "model_id": "e92310c776524c618a4ba2cc172ceb87",
       "version_major": 2,
       "version_minor": 0
      },
      "text/plain": [
       "Predicting: 0it [00:00, ?it/s]"
      ]
     },
     "metadata": {},
     "output_type": "display_data"
    },
    {
     "name": "stdout",
     "output_type": "stream",
     "text": [
      "SeqData object modified:\n",
      "    seqs_annot:\n",
      "        + Kopp21CNN_test_trial_4_target_predictions\n",
      "Kopp21CNN trial 5\n"
     ]
    },
    {
     "name": "stderr",
     "output_type": "stream",
     "text": [
      "GPU available: False, used: False\n",
      "TPU available: False, using: 0 TPU cores\n",
      "IPU available: False, using: 0 IPUs\n"
     ]
    },
    {
     "name": "stdout",
     "output_type": "stream",
     "text": [
      "No transforms given, assuming just need to tensorize).\n"
     ]
    },
    {
     "data": {
      "application/vnd.jupyter.widget-view+json": {
       "model_id": "079e8fdc51a74a5089ed5a397ba84f9e",
       "version_major": 2,
       "version_minor": 0
      },
      "text/plain": [
       "Predicting: 0it [00:00, ?it/s]"
      ]
     },
     "metadata": {},
     "output_type": "display_data"
    },
    {
     "name": "stdout",
     "output_type": "stream",
     "text": [
      "SeqData object modified:\n",
      "    seqs_annot:\n",
      "        + Kopp21CNN_test_trial_5_target_predictions\n"
     ]
    }
   ],
   "source": [
    "# Predict on test set with each model\n",
    "model_types = [\"FCN\", \"CNN\", \"RNN\", \"Hybrid\", \"Kopp21CNN\"]\n",
    "model_names = [\"dsFCN\", \"dsCNN\", \"dsRNN\", \"dsHybrid\", \"Kopp21CNN\"]\n",
    "trials = 5\n",
    "for model_name, model_type in zip(model_names, model_types):\n",
    "    for trial in range(1, trials+1):\n",
    "        print(f\"{model_name} trial {trial}\")\n",
    "        model_file = glob.glob(os.path.join(eu.settings.logging_dir, model_name, f\"test_trial_{trial}\", \"checkpoints\", \"*\"))[0]\n",
    "        if model_type == \"FCN\":\n",
    "            model = eu.models.FCN.load_from_checkpoint(model_file)\n",
    "        if model_type == \"CNN\":\n",
    "            model = eu.models.CNN.load_from_checkpoint(model_file)\n",
    "        if model_type == \"RNN\":\n",
    "            model = eu.models.RNN.load_from_checkpoint(model_file)\n",
    "        elif model_type == \"Hybrid\":\n",
    "            model = eu.models.Hybrid.load_from_checkpoint(model_file)\n",
    "        elif model_type == \"Kopp21CNN\":\n",
    "            model = eu.models.Kopp21CNN.load_from_checkpoint(model_file)\n",
    "        if model_type == \"RNN\":\n",
    "            t_kwargs = transform_kwargs={\"transpose\": False}\n",
    "        else:\n",
    "            t_kwargs = transform_kwargs={\"transpose\": True}\n",
    "        eu.predict.predictions(\n",
    "            model,\n",
    "            sdata=sdata_sub,\n",
    "            target=\"target\",\n",
    "            name=model_name,\n",
    "            transform_kwargs=t_kwargs,\n",
    "            version=f\"test_trial_{trial}\",\n",
    "            file_label=\"test\",\n",
    "            prefix=f\"{model_name}_test_trial_{trial}_\"\n",
    "        )\n",
    "        del model\n",
    "sdata_sub.write_h5sd(os.path.join(eu.settings.output_dir, \"test_sub_predictions.h5sd\"))"
   ]
  },
  {
   "cell_type": "markdown",
   "metadata": {},
   "source": [
    "# Generate performance figures"
   ]
  },
  {
   "cell_type": "code",
   "execution_count": 47,
   "metadata": {},
   "outputs": [],
   "source": [
    "from sklearn.metrics import precision_score"
   ]
  },
  {
   "cell_type": "code",
   "execution_count": 50,
   "metadata": {},
   "outputs": [
    {
     "name": "stderr",
     "output_type": "stream",
     "text": [
      "/home/vscode/.local/lib/python3.7/site-packages/sklearn/metrics/_classification.py:1318: UndefinedMetricWarning: Precision is ill-defined and being set to 0.0 due to no predicted samples. Use `zero_division` parameter to control this behavior.\n",
      "  _warn_prf(average, modifier, msg_start, len(result))\n",
      "/home/vscode/.local/lib/python3.7/site-packages/sklearn/metrics/_classification.py:1318: UndefinedMetricWarning: Precision is ill-defined and being set to 0.0 due to no predicted samples. Use `zero_division` parameter to control this behavior.\n",
      "  _warn_prf(average, modifier, msg_start, len(result))\n",
      "/home/vscode/.local/lib/python3.7/site-packages/sklearn/metrics/_classification.py:1318: UndefinedMetricWarning: Precision is ill-defined and being set to 0.0 due to no predicted samples. Use `zero_division` parameter to control this behavior.\n",
      "  _warn_prf(average, modifier, msg_start, len(result))\n",
      "/home/vscode/.local/lib/python3.7/site-packages/sklearn/metrics/_classification.py:1318: UndefinedMetricWarning: Precision is ill-defined and being set to 0.0 due to no predicted samples. Use `zero_division` parameter to control this behavior.\n",
      "  _warn_prf(average, modifier, msg_start, len(result))\n",
      "/home/vscode/.local/lib/python3.7/site-packages/sklearn/metrics/_classification.py:1318: UndefinedMetricWarning: Precision is ill-defined and being set to 0.0 due to no predicted samples. Use `zero_division` parameter to control this behavior.\n",
      "  _warn_prf(average, modifier, msg_start, len(result))\n",
      "/home/vscode/.local/lib/python3.7/site-packages/sklearn/metrics/_classification.py:1318: UndefinedMetricWarning: Precision is ill-defined and being set to 0.0 due to no predicted samples. Use `zero_division` parameter to control this behavior.\n",
      "  _warn_prf(average, modifier, msg_start, len(result))\n",
      "/home/vscode/.local/lib/python3.7/site-packages/sklearn/metrics/_classification.py:1318: UndefinedMetricWarning: Precision is ill-defined and being set to 0.0 due to no predicted samples. Use `zero_division` parameter to control this behavior.\n",
      "  _warn_prf(average, modifier, msg_start, len(result))\n",
      "/home/vscode/.local/lib/python3.7/site-packages/sklearn/metrics/_classification.py:1318: UndefinedMetricWarning: Precision is ill-defined and being set to 0.0 due to no predicted samples. Use `zero_division` parameter to control this behavior.\n",
      "  _warn_prf(average, modifier, msg_start, len(result))\n",
      "/home/vscode/.local/lib/python3.7/site-packages/sklearn/metrics/_classification.py:1318: UndefinedMetricWarning: Precision is ill-defined and being set to 0.0 due to no predicted samples. Use `zero_division` parameter to control this behavior.\n",
      "  _warn_prf(average, modifier, msg_start, len(result))\n"
     ]
    }
   ],
   "source": [
    "sdataframe = sdata_sub.seqs_annot\n",
    "true = sdata_sub[\"target\"]\n",
    "prediction_labels = (sdataframe.columns[sdataframe.columns.str.contains(\"predictions\")])\n",
    "predicts = sdataframe[prediction_labels]\n",
    "predicts = (predicts >= 0).astype(int)\n",
    "scores = pd.DataFrame()\n",
    "scores = pd.concat(\n",
    "                [\n",
    "                    scores,\n",
    "                    predicts.apply(lambda x: precision_score(true, x), axis=0).to_frame(\n",
    "                        name=\"precision\"\n",
    "                    ),\n",
    "                ],\n",
    "                axis=1,\n",
    "            )"
   ]
  },
  {
   "cell_type": "code",
   "execution_count": 51,
   "metadata": {},
   "outputs": [
    {
     "data": {
      "text/html": [
       "<div>\n",
       "<style scoped>\n",
       "    .dataframe tbody tr th:only-of-type {\n",
       "        vertical-align: middle;\n",
       "    }\n",
       "\n",
       "    .dataframe tbody tr th {\n",
       "        vertical-align: top;\n",
       "    }\n",
       "\n",
       "    .dataframe thead th {\n",
       "        text-align: right;\n",
       "    }\n",
       "</style>\n",
       "<table border=\"1\" class=\"dataframe\">\n",
       "  <thead>\n",
       "    <tr style=\"text-align: right;\">\n",
       "      <th></th>\n",
       "      <th>dsFCN_test_trial_1_target_predictions</th>\n",
       "      <th>dsFCN_test_trial_2_target_predictions</th>\n",
       "      <th>dsFCN_test_trial_3_target_predictions</th>\n",
       "      <th>dsFCN_test_trial_4_target_predictions</th>\n",
       "      <th>dsFCN_test_trial_5_target_predictions</th>\n",
       "      <th>dsCNN_test_trial_1_target_predictions</th>\n",
       "      <th>dsCNN_test_trial_2_target_predictions</th>\n",
       "      <th>dsCNN_test_trial_3_target_predictions</th>\n",
       "      <th>dsCNN_test_trial_4_target_predictions</th>\n",
       "      <th>dsCNN_test_trial_5_target_predictions</th>\n",
       "      <th>...</th>\n",
       "      <th>dsHybrid_test_trial_1_target_predictions</th>\n",
       "      <th>dsHybrid_test_trial_2_target_predictions</th>\n",
       "      <th>dsHybrid_test_trial_3_target_predictions</th>\n",
       "      <th>dsHybrid_test_trial_4_target_predictions</th>\n",
       "      <th>dsHybrid_test_trial_5_target_predictions</th>\n",
       "      <th>Kopp21CNN_test_trial_1_target_predictions</th>\n",
       "      <th>Kopp21CNN_test_trial_2_target_predictions</th>\n",
       "      <th>Kopp21CNN_test_trial_3_target_predictions</th>\n",
       "      <th>Kopp21CNN_test_trial_4_target_predictions</th>\n",
       "      <th>Kopp21CNN_test_trial_5_target_predictions</th>\n",
       "    </tr>\n",
       "  </thead>\n",
       "  <tbody>\n",
       "    <tr>\n",
       "      <th>seq0000</th>\n",
       "      <td>0</td>\n",
       "      <td>0</td>\n",
       "      <td>0</td>\n",
       "      <td>0</td>\n",
       "      <td>0</td>\n",
       "      <td>1</td>\n",
       "      <td>1</td>\n",
       "      <td>1</td>\n",
       "      <td>1</td>\n",
       "      <td>1</td>\n",
       "      <td>...</td>\n",
       "      <td>1</td>\n",
       "      <td>1</td>\n",
       "      <td>1</td>\n",
       "      <td>0</td>\n",
       "      <td>0</td>\n",
       "      <td>1</td>\n",
       "      <td>1</td>\n",
       "      <td>0</td>\n",
       "      <td>1</td>\n",
       "      <td>0</td>\n",
       "    </tr>\n",
       "    <tr>\n",
       "      <th>seq0001</th>\n",
       "      <td>0</td>\n",
       "      <td>0</td>\n",
       "      <td>0</td>\n",
       "      <td>0</td>\n",
       "      <td>0</td>\n",
       "      <td>1</td>\n",
       "      <td>1</td>\n",
       "      <td>1</td>\n",
       "      <td>1</td>\n",
       "      <td>1</td>\n",
       "      <td>...</td>\n",
       "      <td>1</td>\n",
       "      <td>1</td>\n",
       "      <td>1</td>\n",
       "      <td>0</td>\n",
       "      <td>0</td>\n",
       "      <td>1</td>\n",
       "      <td>1</td>\n",
       "      <td>0</td>\n",
       "      <td>1</td>\n",
       "      <td>0</td>\n",
       "    </tr>\n",
       "    <tr>\n",
       "      <th>seq0002</th>\n",
       "      <td>0</td>\n",
       "      <td>0</td>\n",
       "      <td>0</td>\n",
       "      <td>0</td>\n",
       "      <td>0</td>\n",
       "      <td>1</td>\n",
       "      <td>1</td>\n",
       "      <td>1</td>\n",
       "      <td>1</td>\n",
       "      <td>1</td>\n",
       "      <td>...</td>\n",
       "      <td>1</td>\n",
       "      <td>1</td>\n",
       "      <td>1</td>\n",
       "      <td>0</td>\n",
       "      <td>0</td>\n",
       "      <td>1</td>\n",
       "      <td>1</td>\n",
       "      <td>0</td>\n",
       "      <td>1</td>\n",
       "      <td>0</td>\n",
       "    </tr>\n",
       "    <tr>\n",
       "      <th>seq0003</th>\n",
       "      <td>0</td>\n",
       "      <td>0</td>\n",
       "      <td>0</td>\n",
       "      <td>0</td>\n",
       "      <td>0</td>\n",
       "      <td>1</td>\n",
       "      <td>1</td>\n",
       "      <td>1</td>\n",
       "      <td>1</td>\n",
       "      <td>1</td>\n",
       "      <td>...</td>\n",
       "      <td>1</td>\n",
       "      <td>1</td>\n",
       "      <td>1</td>\n",
       "      <td>0</td>\n",
       "      <td>0</td>\n",
       "      <td>1</td>\n",
       "      <td>1</td>\n",
       "      <td>0</td>\n",
       "      <td>1</td>\n",
       "      <td>0</td>\n",
       "    </tr>\n",
       "    <tr>\n",
       "      <th>seq0005</th>\n",
       "      <td>0</td>\n",
       "      <td>0</td>\n",
       "      <td>0</td>\n",
       "      <td>0</td>\n",
       "      <td>0</td>\n",
       "      <td>1</td>\n",
       "      <td>1</td>\n",
       "      <td>1</td>\n",
       "      <td>1</td>\n",
       "      <td>1</td>\n",
       "      <td>...</td>\n",
       "      <td>1</td>\n",
       "      <td>1</td>\n",
       "      <td>1</td>\n",
       "      <td>0</td>\n",
       "      <td>0</td>\n",
       "      <td>1</td>\n",
       "      <td>1</td>\n",
       "      <td>0</td>\n",
       "      <td>1</td>\n",
       "      <td>0</td>\n",
       "    </tr>\n",
       "    <tr>\n",
       "      <th>...</th>\n",
       "      <td>...</td>\n",
       "      <td>...</td>\n",
       "      <td>...</td>\n",
       "      <td>...</td>\n",
       "      <td>...</td>\n",
       "      <td>...</td>\n",
       "      <td>...</td>\n",
       "      <td>...</td>\n",
       "      <td>...</td>\n",
       "      <td>...</td>\n",
       "      <td>...</td>\n",
       "      <td>...</td>\n",
       "      <td>...</td>\n",
       "      <td>...</td>\n",
       "      <td>...</td>\n",
       "      <td>...</td>\n",
       "      <td>...</td>\n",
       "      <td>...</td>\n",
       "      <td>...</td>\n",
       "      <td>...</td>\n",
       "      <td>...</td>\n",
       "    </tr>\n",
       "    <tr>\n",
       "      <th>seq0072</th>\n",
       "      <td>0</td>\n",
       "      <td>0</td>\n",
       "      <td>0</td>\n",
       "      <td>0</td>\n",
       "      <td>0</td>\n",
       "      <td>1</td>\n",
       "      <td>1</td>\n",
       "      <td>1</td>\n",
       "      <td>1</td>\n",
       "      <td>1</td>\n",
       "      <td>...</td>\n",
       "      <td>1</td>\n",
       "      <td>1</td>\n",
       "      <td>1</td>\n",
       "      <td>0</td>\n",
       "      <td>0</td>\n",
       "      <td>1</td>\n",
       "      <td>1</td>\n",
       "      <td>0</td>\n",
       "      <td>1</td>\n",
       "      <td>0</td>\n",
       "    </tr>\n",
       "    <tr>\n",
       "      <th>seq0181</th>\n",
       "      <td>0</td>\n",
       "      <td>0</td>\n",
       "      <td>0</td>\n",
       "      <td>0</td>\n",
       "      <td>0</td>\n",
       "      <td>1</td>\n",
       "      <td>1</td>\n",
       "      <td>1</td>\n",
       "      <td>1</td>\n",
       "      <td>1</td>\n",
       "      <td>...</td>\n",
       "      <td>1</td>\n",
       "      <td>1</td>\n",
       "      <td>1</td>\n",
       "      <td>0</td>\n",
       "      <td>0</td>\n",
       "      <td>1</td>\n",
       "      <td>1</td>\n",
       "      <td>0</td>\n",
       "      <td>1</td>\n",
       "      <td>0</td>\n",
       "    </tr>\n",
       "    <tr>\n",
       "      <th>seq0191</th>\n",
       "      <td>0</td>\n",
       "      <td>0</td>\n",
       "      <td>0</td>\n",
       "      <td>0</td>\n",
       "      <td>0</td>\n",
       "      <td>1</td>\n",
       "      <td>1</td>\n",
       "      <td>1</td>\n",
       "      <td>1</td>\n",
       "      <td>1</td>\n",
       "      <td>...</td>\n",
       "      <td>1</td>\n",
       "      <td>1</td>\n",
       "      <td>1</td>\n",
       "      <td>0</td>\n",
       "      <td>0</td>\n",
       "      <td>1</td>\n",
       "      <td>1</td>\n",
       "      <td>0</td>\n",
       "      <td>1</td>\n",
       "      <td>0</td>\n",
       "    </tr>\n",
       "    <tr>\n",
       "      <th>seq0215</th>\n",
       "      <td>0</td>\n",
       "      <td>0</td>\n",
       "      <td>0</td>\n",
       "      <td>0</td>\n",
       "      <td>0</td>\n",
       "      <td>1</td>\n",
       "      <td>1</td>\n",
       "      <td>1</td>\n",
       "      <td>1</td>\n",
       "      <td>1</td>\n",
       "      <td>...</td>\n",
       "      <td>1</td>\n",
       "      <td>1</td>\n",
       "      <td>1</td>\n",
       "      <td>0</td>\n",
       "      <td>0</td>\n",
       "      <td>1</td>\n",
       "      <td>1</td>\n",
       "      <td>0</td>\n",
       "      <td>1</td>\n",
       "      <td>0</td>\n",
       "    </tr>\n",
       "    <tr>\n",
       "      <th>seq0226</th>\n",
       "      <td>0</td>\n",
       "      <td>0</td>\n",
       "      <td>0</td>\n",
       "      <td>0</td>\n",
       "      <td>0</td>\n",
       "      <td>1</td>\n",
       "      <td>1</td>\n",
       "      <td>1</td>\n",
       "      <td>1</td>\n",
       "      <td>1</td>\n",
       "      <td>...</td>\n",
       "      <td>1</td>\n",
       "      <td>1</td>\n",
       "      <td>1</td>\n",
       "      <td>0</td>\n",
       "      <td>0</td>\n",
       "      <td>1</td>\n",
       "      <td>1</td>\n",
       "      <td>0</td>\n",
       "      <td>1</td>\n",
       "      <td>0</td>\n",
       "    </tr>\n",
       "  </tbody>\n",
       "</table>\n",
       "<p>100 rows × 25 columns</p>\n",
       "</div>"
      ],
      "text/plain": [
       "         dsFCN_test_trial_1_target_predictions  \\\n",
       "seq0000                                      0   \n",
       "seq0001                                      0   \n",
       "seq0002                                      0   \n",
       "seq0003                                      0   \n",
       "seq0005                                      0   \n",
       "...                                        ...   \n",
       "seq0072                                      0   \n",
       "seq0181                                      0   \n",
       "seq0191                                      0   \n",
       "seq0215                                      0   \n",
       "seq0226                                      0   \n",
       "\n",
       "         dsFCN_test_trial_2_target_predictions  \\\n",
       "seq0000                                      0   \n",
       "seq0001                                      0   \n",
       "seq0002                                      0   \n",
       "seq0003                                      0   \n",
       "seq0005                                      0   \n",
       "...                                        ...   \n",
       "seq0072                                      0   \n",
       "seq0181                                      0   \n",
       "seq0191                                      0   \n",
       "seq0215                                      0   \n",
       "seq0226                                      0   \n",
       "\n",
       "         dsFCN_test_trial_3_target_predictions  \\\n",
       "seq0000                                      0   \n",
       "seq0001                                      0   \n",
       "seq0002                                      0   \n",
       "seq0003                                      0   \n",
       "seq0005                                      0   \n",
       "...                                        ...   \n",
       "seq0072                                      0   \n",
       "seq0181                                      0   \n",
       "seq0191                                      0   \n",
       "seq0215                                      0   \n",
       "seq0226                                      0   \n",
       "\n",
       "         dsFCN_test_trial_4_target_predictions  \\\n",
       "seq0000                                      0   \n",
       "seq0001                                      0   \n",
       "seq0002                                      0   \n",
       "seq0003                                      0   \n",
       "seq0005                                      0   \n",
       "...                                        ...   \n",
       "seq0072                                      0   \n",
       "seq0181                                      0   \n",
       "seq0191                                      0   \n",
       "seq0215                                      0   \n",
       "seq0226                                      0   \n",
       "\n",
       "         dsFCN_test_trial_5_target_predictions  \\\n",
       "seq0000                                      0   \n",
       "seq0001                                      0   \n",
       "seq0002                                      0   \n",
       "seq0003                                      0   \n",
       "seq0005                                      0   \n",
       "...                                        ...   \n",
       "seq0072                                      0   \n",
       "seq0181                                      0   \n",
       "seq0191                                      0   \n",
       "seq0215                                      0   \n",
       "seq0226                                      0   \n",
       "\n",
       "         dsCNN_test_trial_1_target_predictions  \\\n",
       "seq0000                                      1   \n",
       "seq0001                                      1   \n",
       "seq0002                                      1   \n",
       "seq0003                                      1   \n",
       "seq0005                                      1   \n",
       "...                                        ...   \n",
       "seq0072                                      1   \n",
       "seq0181                                      1   \n",
       "seq0191                                      1   \n",
       "seq0215                                      1   \n",
       "seq0226                                      1   \n",
       "\n",
       "         dsCNN_test_trial_2_target_predictions  \\\n",
       "seq0000                                      1   \n",
       "seq0001                                      1   \n",
       "seq0002                                      1   \n",
       "seq0003                                      1   \n",
       "seq0005                                      1   \n",
       "...                                        ...   \n",
       "seq0072                                      1   \n",
       "seq0181                                      1   \n",
       "seq0191                                      1   \n",
       "seq0215                                      1   \n",
       "seq0226                                      1   \n",
       "\n",
       "         dsCNN_test_trial_3_target_predictions  \\\n",
       "seq0000                                      1   \n",
       "seq0001                                      1   \n",
       "seq0002                                      1   \n",
       "seq0003                                      1   \n",
       "seq0005                                      1   \n",
       "...                                        ...   \n",
       "seq0072                                      1   \n",
       "seq0181                                      1   \n",
       "seq0191                                      1   \n",
       "seq0215                                      1   \n",
       "seq0226                                      1   \n",
       "\n",
       "         dsCNN_test_trial_4_target_predictions  \\\n",
       "seq0000                                      1   \n",
       "seq0001                                      1   \n",
       "seq0002                                      1   \n",
       "seq0003                                      1   \n",
       "seq0005                                      1   \n",
       "...                                        ...   \n",
       "seq0072                                      1   \n",
       "seq0181                                      1   \n",
       "seq0191                                      1   \n",
       "seq0215                                      1   \n",
       "seq0226                                      1   \n",
       "\n",
       "         dsCNN_test_trial_5_target_predictions  ...  \\\n",
       "seq0000                                      1  ...   \n",
       "seq0001                                      1  ...   \n",
       "seq0002                                      1  ...   \n",
       "seq0003                                      1  ...   \n",
       "seq0005                                      1  ...   \n",
       "...                                        ...  ...   \n",
       "seq0072                                      1  ...   \n",
       "seq0181                                      1  ...   \n",
       "seq0191                                      1  ...   \n",
       "seq0215                                      1  ...   \n",
       "seq0226                                      1  ...   \n",
       "\n",
       "         dsHybrid_test_trial_1_target_predictions  \\\n",
       "seq0000                                         1   \n",
       "seq0001                                         1   \n",
       "seq0002                                         1   \n",
       "seq0003                                         1   \n",
       "seq0005                                         1   \n",
       "...                                           ...   \n",
       "seq0072                                         1   \n",
       "seq0181                                         1   \n",
       "seq0191                                         1   \n",
       "seq0215                                         1   \n",
       "seq0226                                         1   \n",
       "\n",
       "         dsHybrid_test_trial_2_target_predictions  \\\n",
       "seq0000                                         1   \n",
       "seq0001                                         1   \n",
       "seq0002                                         1   \n",
       "seq0003                                         1   \n",
       "seq0005                                         1   \n",
       "...                                           ...   \n",
       "seq0072                                         1   \n",
       "seq0181                                         1   \n",
       "seq0191                                         1   \n",
       "seq0215                                         1   \n",
       "seq0226                                         1   \n",
       "\n",
       "         dsHybrid_test_trial_3_target_predictions  \\\n",
       "seq0000                                         1   \n",
       "seq0001                                         1   \n",
       "seq0002                                         1   \n",
       "seq0003                                         1   \n",
       "seq0005                                         1   \n",
       "...                                           ...   \n",
       "seq0072                                         1   \n",
       "seq0181                                         1   \n",
       "seq0191                                         1   \n",
       "seq0215                                         1   \n",
       "seq0226                                         1   \n",
       "\n",
       "         dsHybrid_test_trial_4_target_predictions  \\\n",
       "seq0000                                         0   \n",
       "seq0001                                         0   \n",
       "seq0002                                         0   \n",
       "seq0003                                         0   \n",
       "seq0005                                         0   \n",
       "...                                           ...   \n",
       "seq0072                                         0   \n",
       "seq0181                                         0   \n",
       "seq0191                                         0   \n",
       "seq0215                                         0   \n",
       "seq0226                                         0   \n",
       "\n",
       "         dsHybrid_test_trial_5_target_predictions  \\\n",
       "seq0000                                         0   \n",
       "seq0001                                         0   \n",
       "seq0002                                         0   \n",
       "seq0003                                         0   \n",
       "seq0005                                         0   \n",
       "...                                           ...   \n",
       "seq0072                                         0   \n",
       "seq0181                                         0   \n",
       "seq0191                                         0   \n",
       "seq0215                                         0   \n",
       "seq0226                                         0   \n",
       "\n",
       "         Kopp21CNN_test_trial_1_target_predictions  \\\n",
       "seq0000                                          1   \n",
       "seq0001                                          1   \n",
       "seq0002                                          1   \n",
       "seq0003                                          1   \n",
       "seq0005                                          1   \n",
       "...                                            ...   \n",
       "seq0072                                          1   \n",
       "seq0181                                          1   \n",
       "seq0191                                          1   \n",
       "seq0215                                          1   \n",
       "seq0226                                          1   \n",
       "\n",
       "         Kopp21CNN_test_trial_2_target_predictions  \\\n",
       "seq0000                                          1   \n",
       "seq0001                                          1   \n",
       "seq0002                                          1   \n",
       "seq0003                                          1   \n",
       "seq0005                                          1   \n",
       "...                                            ...   \n",
       "seq0072                                          1   \n",
       "seq0181                                          1   \n",
       "seq0191                                          1   \n",
       "seq0215                                          1   \n",
       "seq0226                                          1   \n",
       "\n",
       "         Kopp21CNN_test_trial_3_target_predictions  \\\n",
       "seq0000                                          0   \n",
       "seq0001                                          0   \n",
       "seq0002                                          0   \n",
       "seq0003                                          0   \n",
       "seq0005                                          0   \n",
       "...                                            ...   \n",
       "seq0072                                          0   \n",
       "seq0181                                          0   \n",
       "seq0191                                          0   \n",
       "seq0215                                          0   \n",
       "seq0226                                          0   \n",
       "\n",
       "         Kopp21CNN_test_trial_4_target_predictions  \\\n",
       "seq0000                                          1   \n",
       "seq0001                                          1   \n",
       "seq0002                                          1   \n",
       "seq0003                                          1   \n",
       "seq0005                                          1   \n",
       "...                                            ...   \n",
       "seq0072                                          1   \n",
       "seq0181                                          1   \n",
       "seq0191                                          1   \n",
       "seq0215                                          1   \n",
       "seq0226                                          1   \n",
       "\n",
       "         Kopp21CNN_test_trial_5_target_predictions  \n",
       "seq0000                                          0  \n",
       "seq0001                                          0  \n",
       "seq0002                                          0  \n",
       "seq0003                                          0  \n",
       "seq0005                                          0  \n",
       "...                                            ...  \n",
       "seq0072                                          0  \n",
       "seq0181                                          0  \n",
       "seq0191                                          0  \n",
       "seq0215                                          0  \n",
       "seq0226                                          0  \n",
       "\n",
       "[100 rows x 25 columns]"
      ]
     },
     "execution_count": 51,
     "metadata": {},
     "output_type": "execute_result"
    }
   ],
   "source": [
    "predicts"
   ]
  },
  {
   "cell_type": "code",
   "execution_count": 73,
   "metadata": {},
   "outputs": [
    {
     "name": "stderr",
     "output_type": "stream",
     "text": [
      "/home/vscode/.local/lib/python3.7/site-packages/sklearn/metrics/_classification.py:1318: UndefinedMetricWarning: Precision is ill-defined and being set to 0.0 due to no predicted samples. Use `zero_division` parameter to control this behavior.\n",
      "  _warn_prf(average, modifier, msg_start, len(result))\n",
      "/home/vscode/.local/lib/python3.7/site-packages/sklearn/metrics/_classification.py:1318: UndefinedMetricWarning: Precision is ill-defined and being set to 0.0 due to no predicted samples. Use `zero_division` parameter to control this behavior.\n",
      "  _warn_prf(average, modifier, msg_start, len(result))\n",
      "/home/vscode/.local/lib/python3.7/site-packages/sklearn/metrics/_classification.py:1318: UndefinedMetricWarning: Precision is ill-defined and being set to 0.0 due to no predicted samples. Use `zero_division` parameter to control this behavior.\n",
      "  _warn_prf(average, modifier, msg_start, len(result))\n",
      "/home/vscode/.local/lib/python3.7/site-packages/sklearn/metrics/_classification.py:1318: UndefinedMetricWarning: Precision is ill-defined and being set to 0.0 due to no predicted samples. Use `zero_division` parameter to control this behavior.\n",
      "  _warn_prf(average, modifier, msg_start, len(result))\n",
      "/home/vscode/.local/lib/python3.7/site-packages/sklearn/metrics/_classification.py:1318: UndefinedMetricWarning: Precision is ill-defined and being set to 0.0 due to no predicted samples. Use `zero_division` parameter to control this behavior.\n",
      "  _warn_prf(average, modifier, msg_start, len(result))\n",
      "/home/vscode/.local/lib/python3.7/site-packages/sklearn/metrics/_classification.py:1318: UndefinedMetricWarning: Precision is ill-defined and being set to 0.0 due to no predicted samples. Use `zero_division` parameter to control this behavior.\n",
      "  _warn_prf(average, modifier, msg_start, len(result))\n",
      "/home/vscode/.local/lib/python3.7/site-packages/sklearn/metrics/_classification.py:1318: UndefinedMetricWarning: Precision is ill-defined and being set to 0.0 due to no predicted samples. Use `zero_division` parameter to control this behavior.\n",
      "  _warn_prf(average, modifier, msg_start, len(result))\n",
      "/home/vscode/.local/lib/python3.7/site-packages/sklearn/metrics/_classification.py:1318: UndefinedMetricWarning: Precision is ill-defined and being set to 0.0 due to no predicted samples. Use `zero_division` parameter to control this behavior.\n",
      "  _warn_prf(average, modifier, msg_start, len(result))\n",
      "/home/vscode/.local/lib/python3.7/site-packages/sklearn/metrics/_classification.py:1318: UndefinedMetricWarning: Precision is ill-defined and being set to 0.0 due to no predicted samples. Use `zero_division` parameter to control this behavior.\n",
      "  _warn_prf(average, modifier, msg_start, len(result))\n"
     ]
    },
    {
     "data": {
      "image/png": "[encoded data removed]",
      "text/plain": [
       "<Figure size 1800x1200 with 6 Axes>"
      ]
     },
     "metadata": {},
     "output_type": "display_data"
    }
   ],
   "source": [
    "# Summarize performance across models for a metric\n",
    "model_scores = eu.pl.performance_summary(\n",
    "    sdata_sub,\n",
    "    target=\"target\",\n",
    "    prediction_groups=[\"dsFCN\"]*5 + [\"dsCNN\"]*5 + [\"dsRNN\"]*5 + [\"dsHybrid\"]*5 + [\"Jores21CNN\"]*5,\n",
    "    hue=\"prediction_groups\",\n",
    "    metrics=[\"accuracy\", \"precision\", \"recall\", \"f1\", \"average_precision\", \"roc_auc\"],\n",
    "    figsize=(6, 6)\n",
    ")\n",
    "\n",
    "# Identify the best model from returned model scores\n",
    "auprc_sorted = model_scores[\"average_precision\"].sort_values(ascending=False)\n",
    "auprc_sorted.plot(kind=\"bar\", ylabel=\"auPRC\")\n",
    "plt.savefig(os.path.join(figure_dir, \"performance_summary.png\"))\n",
    "plt.show()"
   ]
  },
  {
   "cell_type": "code",
   "execution_count": 75,
   "metadata": {
    "execution": {
     "iopub.execute_input": "2022-08-23T17:42:06.503353Z",
     "iopub.status.busy": "2022-08-23T17:42:06.503129Z",
     "iopub.status.idle": "2022-08-23T17:42:10.056680Z",
     "shell.execute_reply": "2022-08-23T17:42:10.056218Z",
     "shell.execute_reply.started": "2022-08-23T17:42:06.503335Z"
    },
    "tags": []
   },
   "outputs": [
    {
     "data": {
      "image/png": "[encoded data removed]",
      "text/plain": [
       "<Figure size 600x600 with 1 Axes>"
      ]
     },
     "metadata": {},
     "output_type": "display_data"
    }
   ],
   "source": [
    "# Plot the performances across species for the best model\n",
    "best_preds = auprc_sorted.index[:5]\n",
    "eu.pl.auprc(\n",
    "    sdata_sub, \n",
    "    targets=[\"target\"]*5, \n",
    "    predictions=best_preds,\n",
    "    labels=best_preds,\n",
    ")\n",
    "plt.show()"
   ]
  },
  {
   "cell_type": "markdown",
   "metadata": {},
   "source": [
    "---"
   ]
  },
  {
   "cell_type": "markdown",
   "metadata": {
    "jp-MarkdownHeadingCollapsed": true,
    "tags": []
   },
   "source": [
    "# Scratch"
   ]
  },
  {
   "cell_type": "code",
   "execution_count": null,
   "metadata": {},
   "outputs": [],
   "source": [
    "preds = sdata_sub[\"dsFCN_test_trial_2_target_predictions\"].values.reshape(-1, 1)"
   ]
  },
  {
   "cell_type": "code",
   "execution_count": null,
   "metadata": {},
   "outputs": [],
   "source": [
    "targets = sdata_sub[\"target\"].values.reshape(-1, 1)"
   ]
  },
  {
   "cell_type": "code",
   "execution_count": null,
   "metadata": {},
   "outputs": [],
   "source": [
    "from sklearn.metrics import average_precision_score"
   ]
  },
  {
   "cell_type": "code",
   "execution_count": null,
   "metadata": {},
   "outputs": [
    {
     "data": {
      "text/plain": [
       "0.6782945736434108"
      ]
     },
     "metadata": {},
     "output_type": "display_data"
    }
   ],
   "source": [
    "average_precision_score(targets, preds)"
   ]
  }
 ],
 "metadata": {
  "kernelspec": {
   "display_name": "Python 3.7.13 64-bit",
   "language": "python",
   "name": "python3"
  },
  "language_info": {
   "codemirror_mode": {
    "name": "ipython",
    "version": 3
   },
   "file_extension": ".py",
   "mimetype": "text/x-python",
   "name": "python",
   "nbconvert_exporter": "python",
   "pygments_lexer": "ipython3",
   "version": "3.7.13"
  },
  "vscode": {
   "interpreter": {
    "hash": "949777d72b0d2535278d3dc13498b2535136f6dfe0678499012e853ee9abcab1"
   }
  }
 },
 "nbformat": 4,
 "nbformat_minor": 4
}

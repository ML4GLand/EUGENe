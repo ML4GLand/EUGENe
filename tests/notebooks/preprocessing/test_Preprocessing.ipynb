{
 "cells": [
  {
   "cell_type": "markdown",
   "id": "90a88efe-ebb3-424c-8704-fb4ee189af2c",
   "metadata": {},
   "source": [
    "# Testing `eugene.preprocessing` Module "
   ]
  },
  {
   "cell_type": "markdown",
   "id": "2d058003-a667-4b45-9ddc-e47efe48e0e1",
   "metadata": {
    "tags": []
   },
   "source": [
    "**Authorship:**\n",
    "Adam Klie, *06/23/2022*\n",
    "***\n",
    "**Description:**\n",
    "Notebook to test the `preprocessing` module of the `eugene` package\n",
    "***"
   ]
  },
  {
   "cell_type": "code",
   "execution_count": 1,
   "id": "3ebaff6f",
   "metadata": {
    "execution": {
     "iopub.execute_input": "2022-06-22T21:40:50.734456Z",
     "iopub.status.busy": "2022-06-22T21:40:50.734315Z",
     "iopub.status.idle": "2022-06-22T21:40:55.752826Z",
     "shell.execute_reply": "2022-06-22T21:40:55.752465Z",
     "shell.execute_reply.started": "2022-06-22T21:40:50.734412Z"
    },
    "tags": []
   },
   "outputs": [
    {
     "name": "stderr",
     "output_type": "stream",
     "text": [
      "Global seed set to 13\n",
      "Global seed set to 13\n",
      "Global seed set to 13\n"
     ]
    },
    {
     "data": {
      "text/plain": [
       "'0.0.0'"
      ]
     },
     "execution_count": 1,
     "metadata": {},
     "output_type": "execute_result"
    }
   ],
   "source": [
    "# Autoreload extension\n",
    "if 'autoreload' not in get_ipython().extension_manager.loaded:\n",
    "    %load_ext autoreload\n",
    "%autoreload 2\n",
    "\n",
    "# Basic import\n",
    "import eugene as eu\n",
    "eu.__version__"
   ]
  },
  {
   "cell_type": "markdown",
   "id": "527787b2",
   "metadata": {},
   "source": [
    "# Prep data"
   ]
  },
  {
   "cell_type": "code",
   "execution_count": 2,
   "id": "c2909a3f",
   "metadata": {},
   "outputs": [
    {
     "data": {
      "text/plain": [
       "'CACACCAGAC'"
      ]
     },
     "execution_count": 2,
     "metadata": {},
     "output_type": "execute_result"
    }
   ],
   "source": [
    "seq = eu.utils._random_data.random_seq(seq_len=10)\n",
    "seq"
   ]
  },
  {
   "cell_type": "code",
   "execution_count": 3,
   "id": "19f2e61a",
   "metadata": {},
   "outputs": [
    {
     "data": {
      "text/plain": [
       "array(['TCACCCCGGC', 'GTACATGTTC', 'GTGCAATAAC', 'CCAGTTGATC',\n",
       "       'AGGATGGTTG'], dtype='<U10')"
      ]
     },
     "execution_count": 3,
     "metadata": {},
     "output_type": "execute_result"
    }
   ],
   "source": [
    "seqs = eu.utils._random_data.random_seqs(seq_num=5, seq_len=10)\n",
    "seqs"
   ]
  },
  {
   "cell_type": "code",
   "execution_count": 4,
   "id": "be2bbd3a",
   "metadata": {},
   "outputs": [
    {
     "data": {
      "text/plain": [
       "['CTCCTTTTCC', 'TATCA']"
      ]
     },
     "execution_count": 4,
     "metadata": {},
     "output_type": "execute_result"
    }
   ],
   "source": [
    "jagged_seqs = [eu.utils._random_data.random_seq(seq_len=10), eu.utils._random_data.random_seq(seq_len=5)]\n",
    "jagged_seqs"
   ]
  },
  {
   "cell_type": "markdown",
   "id": "d548d1f0",
   "metadata": {},
   "source": [
    "# Test `_seq_preprocess.py` functions"
   ]
  },
  {
   "cell_type": "markdown",
   "id": "548a15ec",
   "metadata": {},
   "source": [
    "## Reverse complement"
   ]
  },
  {
   "cell_type": "code",
   "execution_count": 9,
   "id": "bdfa1bbf",
   "metadata": {},
   "outputs": [],
   "source": [
    "from eugene.preprocessing import reverse_complement_seq, reverse_complement_seqs"
   ]
  },
  {
   "cell_type": "code",
   "execution_count": 10,
   "id": "0f0303e9",
   "metadata": {},
   "outputs": [
    {
     "data": {
      "text/plain": [
       "('CACACCAGAC', 'GTCTGGTGTG', 'CACACCAGAC')"
      ]
     },
     "execution_count": 10,
     "metadata": {},
     "output_type": "execute_result"
    }
   ],
   "source": [
    "rc_seq = reverse_complement_seq(seq)\n",
    "seq, rc_seq, reverse_complement_seq(rc_seq)"
   ]
  },
  {
   "cell_type": "code",
   "execution_count": 11,
   "id": "b999f1da",
   "metadata": {},
   "outputs": [
    {
     "data": {
      "text/plain": [
       "(array(['TCACCCCGGC', 'GTACATGTTC', 'GTGCAATAAC', 'CCAGTTGATC',\n",
       "        'AGGATGGTTG'], dtype='<U10'),\n",
       " array(['GCCGGGGTGA', 'GAACATGTAC', 'GTTATTGCAC', 'GATCAACTGG',\n",
       "        'CAACCATCCT'], dtype='<U10'),\n",
       " array(['TCACCCCGGC', 'GTACATGTTC', 'GTGCAATAAC', 'CCAGTTGATC',\n",
       "        'AGGATGGTTG'], dtype='<U10'))"
      ]
     },
     "execution_count": 11,
     "metadata": {},
     "output_type": "execute_result"
    }
   ],
   "source": [
    "rc_seqs = reverse_complement_seqs(seqs)\n",
    "seqs, rc_seqs, reverse_complement_seqs(rc_seqs)"
   ]
  },
  {
   "cell_type": "code",
   "execution_count": 12,
   "id": "de58e42e",
   "metadata": {},
   "outputs": [
    {
     "data": {
      "text/plain": [
       "array(['GGAAAAGGAG', 'TGATA'], dtype='<U10')"
      ]
     },
     "execution_count": 12,
     "metadata": {},
     "output_type": "execute_result"
    }
   ],
   "source": [
    "reverse_complement_seqs(jagged_seqs)"
   ]
  },
  {
   "cell_type": "markdown",
   "id": "5b380a89",
   "metadata": {},
   "source": [
    "## One hot encoding"
   ]
  },
  {
   "cell_type": "code",
   "execution_count": 13,
   "id": "87dee15a",
   "metadata": {},
   "outputs": [],
   "source": [
    "from eugene.preprocessing import ohe_DNA_seq, ohe_DNA_seqs, decode_DNA_seq, decode_DNA_seqs"
   ]
  },
  {
   "cell_type": "code",
   "execution_count": 14,
   "id": "9f510312",
   "metadata": {},
   "outputs": [
    {
     "data": {
      "text/plain": [
       "('CACACCAGAC',\n",
       " array([[0., 1., 0., 0.],\n",
       "        [1., 0., 0., 0.],\n",
       "        [0., 1., 0., 0.],\n",
       "        [1., 0., 0., 0.],\n",
       "        [0., 1., 0., 0.],\n",
       "        [0., 1., 0., 0.],\n",
       "        [1., 0., 0., 0.],\n",
       "        [0., 0., 1., 0.],\n",
       "        [1., 0., 0., 0.],\n",
       "        [0., 1., 0., 0.]]),\n",
       " 'CACACCAGAC')"
      ]
     },
     "execution_count": 14,
     "metadata": {},
     "output_type": "execute_result"
    }
   ],
   "source": [
    "ohe_seq = ohe_DNA_seq(seq)\n",
    "decoded_seq = decode_DNA_seq(ohe_seq)\n",
    "seq, ohe_seq, decoded_seq"
   ]
  },
  {
   "cell_type": "code",
   "execution_count": 15,
   "id": "0e1dd407",
   "metadata": {},
   "outputs": [
    {
     "data": {
      "text/plain": [
       "(array(['TCACCCCGGC', 'GTACATGTTC', 'GTGCAATAAC', 'CCAGTTGATC',\n",
       "        'AGGATGGTTG'], dtype='<U10'),\n",
       " array([[[0., 0., 0., 1.],\n",
       "         [0., 1., 0., 0.],\n",
       "         [1., 0., 0., 0.],\n",
       "         [0., 1., 0., 0.],\n",
       "         [0., 1., 0., 0.],\n",
       "         [0., 1., 0., 0.],\n",
       "         [0., 1., 0., 0.],\n",
       "         [0., 0., 1., 0.],\n",
       "         [0., 0., 1., 0.],\n",
       "         [0., 1., 0., 0.]],\n",
       " \n",
       "        [[0., 0., 1., 0.],\n",
       "         [0., 0., 0., 1.],\n",
       "         [1., 0., 0., 0.],\n",
       "         [0., 1., 0., 0.],\n",
       "         [1., 0., 0., 0.],\n",
       "         [0., 0., 0., 1.],\n",
       "         [0., 0., 1., 0.],\n",
       "         [0., 0., 0., 1.],\n",
       "         [0., 0., 0., 1.],\n",
       "         [0., 1., 0., 0.]],\n",
       " \n",
       "        [[0., 0., 1., 0.],\n",
       "         [0., 0., 0., 1.],\n",
       "         [0., 0., 1., 0.],\n",
       "         [0., 1., 0., 0.],\n",
       "         [1., 0., 0., 0.],\n",
       "         [1., 0., 0., 0.],\n",
       "         [0., 0., 0., 1.],\n",
       "         [1., 0., 0., 0.],\n",
       "         [1., 0., 0., 0.],\n",
       "         [0., 1., 0., 0.]],\n",
       " \n",
       "        [[0., 1., 0., 0.],\n",
       "         [0., 1., 0., 0.],\n",
       "         [1., 0., 0., 0.],\n",
       "         [0., 0., 1., 0.],\n",
       "         [0., 0., 0., 1.],\n",
       "         [0., 0., 0., 1.],\n",
       "         [0., 0., 1., 0.],\n",
       "         [1., 0., 0., 0.],\n",
       "         [0., 0., 0., 1.],\n",
       "         [0., 1., 0., 0.]],\n",
       " \n",
       "        [[1., 0., 0., 0.],\n",
       "         [0., 0., 1., 0.],\n",
       "         [0., 0., 1., 0.],\n",
       "         [1., 0., 0., 0.],\n",
       "         [0., 0., 0., 1.],\n",
       "         [0., 0., 1., 0.],\n",
       "         [0., 0., 1., 0.],\n",
       "         [0., 0., 0., 1.],\n",
       "         [0., 0., 0., 1.],\n",
       "         [0., 0., 1., 0.]]]),\n",
       " ['TCACCCCGGC', 'GTACATGTTC', 'GTGCAATAAC', 'CCAGTTGATC', 'AGGATGGTTG'])"
      ]
     },
     "execution_count": 15,
     "metadata": {},
     "output_type": "execute_result"
    }
   ],
   "source": [
    "ohe_seqs = ohe_DNA_seqs(seqs)\n",
    "decoded_seqs = decode_DNA_seqs(ohe_seqs)\n",
    "seqs, ohe_seqs, decoded_seqs"
   ]
  },
  {
   "cell_type": "code",
   "execution_count": 16,
   "id": "c359e019",
   "metadata": {},
   "outputs": [
    {
     "data": {
      "text/plain": [
       "(['CTCCTTTTCC', 'TATCA'],\n",
       " array([[[0., 1., 0., 0.],\n",
       "         [0., 0., 0., 1.],\n",
       "         [0., 1., 0., 0.],\n",
       "         [0., 1., 0., 0.],\n",
       "         [0., 0., 0., 1.],\n",
       "         [0., 0., 0., 1.],\n",
       "         [0., 0., 0., 1.],\n",
       "         [0., 0., 0., 1.],\n",
       "         [0., 1., 0., 0.],\n",
       "         [0., 1., 0., 0.]],\n",
       " \n",
       "        [[0., 0., 0., 1.],\n",
       "         [1., 0., 0., 0.],\n",
       "         [0., 0., 0., 1.],\n",
       "         [0., 1., 0., 0.],\n",
       "         [1., 0., 0., 0.],\n",
       "         [0., 0., 0., 0.],\n",
       "         [0., 0., 0., 0.],\n",
       "         [0., 0., 0., 0.],\n",
       "         [0., 0., 0., 0.],\n",
       "         [0., 0., 0., 0.]]]),\n",
       " ['CTCCTTTTCC', 'TATCAAAAAA'])"
      ]
     },
     "execution_count": 16,
     "metadata": {},
     "output_type": "execute_result"
    }
   ],
   "source": [
    "jagged_ohe_seqs = ohe_DNA_seqs(jagged_seqs)\n",
    "jagged_decoded_seqs = decode_DNA_seqs(jagged_ohe_seqs)\n",
    "jagged_seqs, jagged_ohe_seqs, jagged_decoded_seqs"
   ]
  },
  {
   "cell_type": "markdown",
   "id": "5f614b30",
   "metadata": {},
   "source": [
    "## Dinucleotide shuffle"
   ]
  },
  {
   "cell_type": "code",
   "execution_count": 17,
   "id": "54535f9f",
   "metadata": {},
   "outputs": [],
   "source": [
    "from eugene.preprocessing import dinuc_shuffle_seq, dinuc_shuffle_seqs"
   ]
  },
  {
   "cell_type": "code",
   "execution_count": 18,
   "id": "f5dcfaee",
   "metadata": {},
   "outputs": [
    {
     "data": {
      "text/plain": [
       "('CACACCAGAC',\n",
       " ['CAGACACCAC',\n",
       "  'CAGACACCAC',\n",
       "  'CAGACACCAC',\n",
       "  'CAGACACCAC',\n",
       "  'CAGACACCAC',\n",
       "  'CCACAGACAC',\n",
       "  'CACCAGACAC',\n",
       "  'CACACCAGAC',\n",
       "  'CACCACAGAC',\n",
       "  'CACCACAGAC'])"
      ]
     },
     "execution_count": 18,
     "metadata": {},
     "output_type": "execute_result"
    }
   ],
   "source": [
    "dnt_shuf_seq = dinuc_shuffle_seq(seq, num_shufs=10)\n",
    "seq, dnt_shuf_seq"
   ]
  },
  {
   "cell_type": "code",
   "execution_count": 19,
   "id": "cacd8eca",
   "metadata": {},
   "outputs": [
    {
     "data": {
      "text/plain": [
       "(array(['TCACCCCGGC', 'GTACATGTTC', 'GTGCAATAAC', 'CCAGTTGATC',\n",
       "        'AGGATGGTTG'], dtype='<U10'),\n",
       " array(['TCACCCCGGC', 'GTTGTACATC', 'GTGCAAATAC', 'CCAGTGATTC',\n",
       "        'AGGATTGGTG'], dtype='<U10'))"
      ]
     },
     "execution_count": 19,
     "metadata": {},
     "output_type": "execute_result"
    }
   ],
   "source": [
    "dnt_shuf_seqs = dinuc_shuffle_seqs(seqs)\n",
    "seqs, dnt_shuf_seqs"
   ]
  },
  {
   "cell_type": "markdown",
   "id": "4537dbfd",
   "metadata": {},
   "source": [
    "## In silico mutagenesis"
   ]
  },
  {
   "cell_type": "code",
   "execution_count": 27,
   "id": "7c913161",
   "metadata": {},
   "outputs": [],
   "source": [
    "from eugene.preprocessing import perturb_seqs"
   ]
  },
  {
   "cell_type": "code",
   "execution_count": 32,
   "id": "b9b23cf9",
   "metadata": {},
   "outputs": [],
   "source": [
    "perturbed_seqs = perturb_seqs(ohe_seqs.transpose(0,2,1))"
   ]
  },
  {
   "cell_type": "code",
   "execution_count": 34,
   "id": "bfb342ec",
   "metadata": {},
   "outputs": [
    {
     "data": {
      "text/plain": [
       "(5, 4, 10)"
      ]
     },
     "execution_count": 34,
     "metadata": {},
     "output_type": "execute_result"
    }
   ],
   "source": [
    "ohe_seqs.transpose(0,2,1).shape"
   ]
  },
  {
   "cell_type": "code",
   "execution_count": 37,
   "id": "9f681202",
   "metadata": {},
   "outputs": [
    {
     "data": {
      "text/plain": [
       "torch.Size([30, 4, 10])"
      ]
     },
     "execution_count": 37,
     "metadata": {},
     "output_type": "execute_result"
    }
   ],
   "source": [
    "perturbed_seqs[0].shape"
   ]
  },
  {
   "cell_type": "code",
   "execution_count": null,
   "id": "88de43f9",
   "metadata": {},
   "outputs": [],
   "source": []
  },
  {
   "cell_type": "markdown",
   "id": "615c8f51",
   "metadata": {},
   "source": [
    "# Preprocess a random dataset by hand"
   ]
  },
  {
   "cell_type": "markdown",
   "id": "85e4ea82",
   "metadata": {},
   "source": [
    "## Load"
   ]
  },
  {
   "cell_type": "code",
   "execution_count": 19,
   "id": "e16cd3bc",
   "metadata": {},
   "outputs": [
    {
     "data": {
      "text/plain": [
       "('seq001',\n",
       " 'CAGCCGGTCCATACACCAAGGGCATCTACTTGGGCAAGGGTGTACCCCTTGTGGCTTGGAAGAAGG',\n",
       " 'CCTTCTTCCAAGCCACAAGGGGTACACCCTTGCCCAAGTAGATGCCCTTGGTGTATGGACCGGCTG',\n",
       " 0.0570990784451763)"
      ]
     },
     "execution_count": 19,
     "metadata": {},
     "output_type": "execute_result"
    }
   ],
   "source": [
    "names, seqs, rev_seqs, targets = eu.dl.read(\"/cellar/users/aklie/data/eugene/random_datasets/random100seqs_66bp/random_seqs.tsv\", seq_col=\"SEQ\", name_col=\"NAME\", target_col=\"ACTIVITY\", rev_comp=True, return_numpy=True)\n",
    "names[0], seqs[0], rev_seqs[0], targets[0]"
   ]
  },
  {
   "cell_type": "markdown",
   "id": "84512b07",
   "metadata": {},
   "source": [
    "## Reverse Complement"
   ]
  },
  {
   "cell_type": "code",
   "execution_count": 20,
   "id": "3397d5a8",
   "metadata": {},
   "outputs": [
    {
     "data": {
      "text/plain": [
       "('CCTTCTTCCAAGCCACAAGGGGTACACCCTTGCCCAAGTAGATGCCCTTGGTGTATGGACCGGCTG',\n",
       " 'CAGCCGGTCCATACACCAAGGGCATCTACTTGGGCAAGGGTGTACCCCTTGTGGCTTGGAAGAAGG',\n",
       " 'CCTTCTTCCAAGCCACAAGGGGTACACCCTTGCCCAAGTAGATGCCCTTGGTGTATGGACCGGCTG')"
      ]
     },
     "execution_count": 20,
     "metadata": {},
     "output_type": "execute_result"
    }
   ],
   "source": [
    "rev_seqs = eu.pp.reverse_complement_seqs(seqs)\n",
    "rev_ohe_seqs = eu.pp.ohe_DNA_seqs(rev_seqs)\n",
    "decoded_rev_seqs = eu.pp.decode_DNA_seqs(rev_ohe_seqs)\n",
    "rev_seqs[0], seqs[0], decoded_rev_seqs[0]"
   ]
  },
  {
   "cell_type": "code",
   "execution_count": 21,
   "id": "a23298eb",
   "metadata": {},
   "outputs": [
    {
     "data": {
      "text/plain": [
       "(array([[0., 1., 0., 0.],\n",
       "        [0., 1., 0., 0.],\n",
       "        [0., 0., 0., 1.],\n",
       "        [0., 0., 0., 1.],\n",
       "        [0., 1., 0., 0.]]),\n",
       " 'CCTTC')"
      ]
     },
     "execution_count": 21,
     "metadata": {},
     "output_type": "execute_result"
    }
   ],
   "source": [
    "rev_ohe_seqs[0][:5], rev_seqs[0][:5]"
   ]
  },
  {
   "cell_type": "markdown",
   "id": "90fc08ae",
   "metadata": {},
   "source": [
    "## One-hot-encoding "
   ]
  },
  {
   "cell_type": "code",
   "execution_count": 22,
   "id": "c36f2171",
   "metadata": {},
   "outputs": [
    {
     "data": {
      "text/plain": [
       "('CAGCCGGTCCATACACCAAGGGCATCTACTTGGGCAAGGGTGTACCCCTTGTGGCTTGGAAGAAGG',\n",
       " array([[0., 1., 0., 0.],\n",
       "        [1., 0., 0., 0.],\n",
       "        [0., 0., 1., 0.],\n",
       "        [0., 1., 0., 0.],\n",
       "        [0., 1., 0., 0.]]),\n",
       " 'CAGCCGGTCCATACACCAAGGGCATCTACTTGGGCAAGGGTGTACCCCTTGTGGCTTGGAAGAAGG')"
      ]
     },
     "execution_count": 22,
     "metadata": {},
     "output_type": "execute_result"
    }
   ],
   "source": [
    "ohe_seq = eu.pp.ohe_DNA_seq(seqs[0])\n",
    "decoded_seq = eu.pp.decode_DNA_seq(ohe_seq)\n",
    "seqs[0], ohe_seq[:5], decoded_seq"
   ]
  },
  {
   "cell_type": "code",
   "execution_count": 23,
   "id": "83a91579",
   "metadata": {},
   "outputs": [
    {
     "data": {
      "text/plain": [
       "('CAGCC',\n",
       " array([[0., 1., 0., 0.],\n",
       "        [1., 0., 0., 0.],\n",
       "        [0., 0., 1., 0.],\n",
       "        [0., 1., 0., 0.],\n",
       "        [0., 1., 0., 0.]]),\n",
       " 'CAGCC')"
      ]
     },
     "execution_count": 23,
     "metadata": {},
     "output_type": "execute_result"
    }
   ],
   "source": [
    "ohe_seqs = eu.pp.ohe_DNA_seqs(seqs)\n",
    "decoded_seqs = eu.pp.decode_DNA_seqs(ohe_seqs)\n",
    "seqs[0][:5], ohe_seqs[0][:5], decoded_seqs[0][:5]"
   ]
  },
  {
   "cell_type": "markdown",
   "id": "7bcf61cc",
   "metadata": {},
   "source": [
    "## Encode Names"
   ]
  },
  {
   "cell_type": "code",
   "execution_count": 24,
   "id": "7079998f",
   "metadata": {},
   "outputs": [
    {
     "data": {
      "text/plain": [
       "('seq001', array([115, 101, 113,  48,  48,  49]), 'seq001')"
      ]
     },
     "execution_count": 24,
     "metadata": {},
     "output_type": "execute_result"
    }
   ],
   "source": [
    "encoded_names = [eu.pp.ascii_encode(name) for name in names]\n",
    "decoded_names = [eu.pp.ascii_decode(name) for name in encoded_names]\n",
    "names[0], encoded_names[0], decoded_names[0]"
   ]
  },
  {
   "cell_type": "markdown",
   "id": "737f26ad",
   "metadata": {},
   "source": [
    "## Dinucleotide Shuffle"
   ]
  },
  {
   "cell_type": "code",
   "execution_count": 25,
   "id": "49060fa0",
   "metadata": {},
   "outputs": [
    {
     "data": {
      "text/plain": [
       "'CCAGGTCCTGGTATTAGCCCAGGGTGCTCAGGGGCACCATTACAAAAACGACCTGGGCTGTTGAGG'"
      ]
     },
     "execution_count": 25,
     "metadata": {},
     "output_type": "execute_result"
    }
   ],
   "source": [
    "eu.pp.dinuc_shuffle_seq(seqs[0])"
   ]
  },
  {
   "cell_type": "code",
   "execution_count": 26,
   "id": "60acbe18",
   "metadata": {},
   "outputs": [
    {
     "data": {
      "text/plain": [
       "'CCAAATGCGGGGCAGTGTCTGCCCCCCAGCTTTCAGGTGGTATAACACACTACTTGGGAGGAAGGG'"
      ]
     },
     "execution_count": 26,
     "metadata": {},
     "output_type": "execute_result"
    }
   ],
   "source": [
    "eu.pp.decode_DNA_seq(eu.pp.dinuc_shuffle_seq(ohe_seqs[0]))"
   ]
  },
  {
   "cell_type": "markdown",
   "id": "5f0177a4",
   "metadata": {},
   "source": [
    "## Dataset Processing"
   ]
  },
  {
   "cell_type": "code",
   "execution_count": 27,
   "id": "16801628",
   "metadata": {},
   "outputs": [
    {
     "data": {
      "text/plain": [
       "(80, 20, 80, 20)"
      ]
     },
     "execution_count": 27,
     "metadata": {},
     "output_type": "execute_result"
    }
   ],
   "source": [
    "train_seqs, test_seqs, train_targets, test_targets = eu.pp.split_train_test(ohe_seqs, targets)\n",
    "len(train_seqs), len(test_seqs), len(train_targets), len(test_targets)"
   ]
  },
  {
   "cell_type": "markdown",
   "id": "683c6cb1",
   "metadata": {},
   "source": [
    "# Working with sdata"
   ]
  },
  {
   "cell_type": "code",
   "execution_count": 29,
   "id": "2f4d0edf",
   "metadata": {},
   "outputs": [],
   "source": [
    "sdata = eu.datasets.random1000()"
   ]
  },
  {
   "cell_type": "code",
   "execution_count": 30,
   "id": "91abdc8c",
   "metadata": {},
   "outputs": [
    {
     "name": "stdout",
     "output_type": "stream",
     "text": [
      "SeqData object modified:\n",
      "\trev_seqs: None -> 1000 rev_seqs added\n",
      "SeqData object modified:\n",
      "\tohe_seqs: None -> 1000 ohe_seqs added\n",
      "\tohe_rev_seqs: None -> 1000 ohe_rev_seqs added\n",
      "SeqData object modified:\n",
      "    seqs_annot:\n",
      "        + TRAIN\n"
     ]
    },
    {
     "data": {
      "text/plain": [
       "SeqData object with = 1000 seqs\n",
       "seqs = (1000,)\n",
       "names = (1000,)\n",
       "rev_seqs = (1000,)\n",
       "ohe_seqs = (1000, 66, 4)\n",
       "ohe_rev_seqs = (1000, 66, 4)\n",
       "seqs_annot: 'TARGETS', 'TRAIN'\n",
       "pos_annot: PyRanges object with 1456 features"
      ]
     },
     "execution_count": 30,
     "metadata": {},
     "output_type": "execute_result"
    }
   ],
   "source": [
    "eu.pp.reverse_complement_data(sdata)\n",
    "eu.pp.one_hot_encode_data(sdata)\n",
    "eu.pp.train_test_split_data(sdata)\n",
    "sdata"
   ]
  },
  {
   "cell_type": "code",
   "execution_count": 31,
   "id": "7bd5ba34",
   "metadata": {},
   "outputs": [
    {
     "data": {
      "application/vnd.jupyter.widget-view+json": {
       "model_id": "1c32b696adf0411da8b862714c019083",
       "version_major": 2,
       "version_minor": 0
      },
      "text/plain": [
       "  0%|          | 0/3 [00:00<?, ?it/s]"
      ]
     },
     "metadata": {},
     "output_type": "display_data"
    },
    {
     "name": "stdout",
     "output_type": "stream",
     "text": [
      "SeqData object modified:\n",
      "\trev_seqs: None -> 1000 rev_seqs added\n",
      "\tohe_seqs: None -> 1000 ohe_seqs added\n",
      "\tohe_rev_seqs: None -> 1000 ohe_rev_seqs added\n",
      "    seqs_annot:\n",
      "        + TRAIN\n"
     ]
    }
   ],
   "source": [
    "sdata = eu.datasets.random1000()\n",
    "eu.pp.prepare_data(sdata)"
   ]
  },
  {
   "cell_type": "markdown",
   "id": "7c911a6b",
   "metadata": {},
   "source": [
    "---"
   ]
  },
  {
   "cell_type": "markdown",
   "id": "7f61e73a",
   "metadata": {},
   "source": [
    "# Scratch"
   ]
  }
 ],
 "metadata": {
  "kernelspec": {
   "display_name": "Python 3.7.13 64-bit",
   "language": "python",
   "name": "python3"
  },
  "language_info": {
   "codemirror_mode": {
    "name": "ipython",
    "version": 3
   },
   "file_extension": ".py",
   "mimetype": "text/x-python",
   "name": "python",
   "nbconvert_exporter": "python",
   "pygments_lexer": "ipython3",
   "version": "3.7.13"
  },
  "vscode": {
   "interpreter": {
    "hash": "949777d72b0d2535278d3dc13498b2535136f6dfe0678499012e853ee9abcab1"
   }
  }
 },
 "nbformat": 4,
 "nbformat_minor": 5
}

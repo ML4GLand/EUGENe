{
 "cells": [
  {
   "cell_type": "markdown",
   "id": "90a88efe-ebb3-424c-8704-fb4ee189af2c",
   "metadata": {},
   "source": [
    "# Testing functions in `_seq_preprocessing.py`"
   ]
  },
  {
   "cell_type": "markdown",
   "id": "2d058003-a667-4b45-9ddc-e47efe48e0e1",
   "metadata": {
    "tags": []
   },
   "source": [
    "**Authorship:**\n",
    "Adam Klie, *06/23/2022*\n",
    "***\n",
    "**Description:**\n",
    "Notebook to test the functions in `_seq_preprocessing.py`\n",
    "***"
   ]
  },
  {
   "cell_type": "code",
   "execution_count": 9,
   "id": "3ebaff6f",
   "metadata": {
    "execution": {
     "iopub.execute_input": "2022-06-22T21:40:50.734456Z",
     "iopub.status.busy": "2022-06-22T21:40:50.734315Z",
     "iopub.status.idle": "2022-06-22T21:40:55.752826Z",
     "shell.execute_reply": "2022-06-22T21:40:55.752465Z",
     "shell.execute_reply.started": "2022-06-22T21:40:50.734412Z"
    },
    "tags": []
   },
   "outputs": [
    {
     "data": {
      "text/plain": [
       "'0.1.0'"
      ]
     },
     "execution_count": 9,
     "metadata": {},
     "output_type": "execute_result"
    }
   ],
   "source": [
    "# Autoreload extension\n",
    "if 'autoreload' not in get_ipython().extension_manager.loaded:\n",
    "    %load_ext autoreload\n",
    "%autoreload 2\n",
    "\n",
    "# Basic import\n",
    "import eugene as eu\n",
    "eu.__version__"
   ]
  },
  {
   "cell_type": "markdown",
   "id": "527787b2",
   "metadata": {},
   "source": [
    "# Prep data"
   ]
  },
  {
   "cell_type": "code",
   "execution_count": 10,
   "id": "c2909a3f",
   "metadata": {},
   "outputs": [
    {
     "data": {
      "text/plain": [
       "'CACACCAGAC'"
      ]
     },
     "execution_count": 10,
     "metadata": {},
     "output_type": "execute_result"
    }
   ],
   "source": [
    "seq = eu.utils._random_data.random_seq(seq_len=10)\n",
    "seq"
   ]
  },
  {
   "cell_type": "code",
   "execution_count": 11,
   "id": "19f2e61a",
   "metadata": {},
   "outputs": [
    {
     "data": {
      "text/plain": [
       "array(['TCACCCCGGC', 'GTACATGTTC', 'GTGCAATAAC', 'CCAGTTGATC',\n",
       "       'AGGATGGTTG'], dtype='<U10')"
      ]
     },
     "execution_count": 11,
     "metadata": {},
     "output_type": "execute_result"
    }
   ],
   "source": [
    "seqs = eu.utils._random_data.random_seqs(seq_num=5, seq_len=10)\n",
    "seqs"
   ]
  },
  {
   "cell_type": "code",
   "execution_count": 12,
   "id": "be2bbd3a",
   "metadata": {},
   "outputs": [
    {
     "data": {
      "text/plain": [
       "['CTCCTTTTCC', 'TATCA']"
      ]
     },
     "execution_count": 12,
     "metadata": {},
     "output_type": "execute_result"
    }
   ],
   "source": [
    "jagged_seqs = [eu.utils._random_data.random_seq(seq_len=10), eu.utils._random_data.random_seq(seq_len=5)]\n",
    "jagged_seqs"
   ]
  },
  {
   "cell_type": "markdown",
   "id": "d548d1f0",
   "metadata": {},
   "source": [
    "# Test `_seq_preprocess.py` functions"
   ]
  },
  {
   "cell_type": "markdown",
   "id": "272f9d43",
   "metadata": {},
   "source": [
    "## Sanitize seqs"
   ]
  },
  {
   "cell_type": "code",
   "execution_count": 13,
   "id": "b43a11e7",
   "metadata": {},
   "outputs": [],
   "source": [
    "# TODO: add tests for the following functions"
   ]
  },
  {
   "cell_type": "markdown",
   "id": "67bb1421",
   "metadata": {},
   "source": [
    "## Ascii encode seqs"
   ]
  },
  {
   "cell_type": "code",
   "execution_count": 14,
   "id": "de1bf16a",
   "metadata": {},
   "outputs": [],
   "source": [
    "# TODO: add tests for the following functions"
   ]
  },
  {
   "cell_type": "markdown",
   "id": "548a15ec",
   "metadata": {},
   "source": [
    "## Reverse complement"
   ]
  },
  {
   "cell_type": "code",
   "execution_count": 15,
   "id": "bdfa1bbf",
   "metadata": {},
   "outputs": [],
   "source": [
    "from eugene.preprocessing import reverse_complement_seq, reverse_complement_seqs"
   ]
  },
  {
   "cell_type": "code",
   "execution_count": 16,
   "id": "0f0303e9",
   "metadata": {},
   "outputs": [
    {
     "data": {
      "text/plain": [
       "('CACACCAGAC', 'GTCTGGTGTG', 'CACACCAGAC')"
      ]
     },
     "execution_count": 16,
     "metadata": {},
     "output_type": "execute_result"
    }
   ],
   "source": [
    "rc_seq = reverse_complement_seq(seq)\n",
    "seq, rc_seq, reverse_complement_seq(rc_seq)"
   ]
  },
  {
   "cell_type": "code",
   "execution_count": 17,
   "id": "b999f1da",
   "metadata": {},
   "outputs": [
    {
     "data": {
      "application/vnd.jupyter.widget-view+json": {
       "model_id": "4f0627c1161342758970cca7767fbefe",
       "version_major": 2,
       "version_minor": 0
      },
      "text/plain": [
       "Reverse complementing sequences:   0%|          | 0/5 [00:00<?, ?it/s]"
      ]
     },
     "metadata": {},
     "output_type": "display_data"
    },
    {
     "data": {
      "application/vnd.jupyter.widget-view+json": {
       "model_id": "4d975f59a8c544de92973bc2e3e939f6",
       "version_major": 2,
       "version_minor": 0
      },
      "text/plain": [
       "Reverse complementing sequences:   0%|          | 0/5 [00:00<?, ?it/s]"
      ]
     },
     "metadata": {},
     "output_type": "display_data"
    },
    {
     "data": {
      "text/plain": [
       "(array(['TCACCCCGGC', 'GTACATGTTC', 'GTGCAATAAC', 'CCAGTTGATC',\n",
       "        'AGGATGGTTG'], dtype='<U10'),\n",
       " array(['GCCGGGGTGA', 'GAACATGTAC', 'GTTATTGCAC', 'GATCAACTGG',\n",
       "        'CAACCATCCT'], dtype='<U10'),\n",
       " array(['TCACCCCGGC', 'GTACATGTTC', 'GTGCAATAAC', 'CCAGTTGATC',\n",
       "        'AGGATGGTTG'], dtype='<U10'))"
      ]
     },
     "execution_count": 17,
     "metadata": {},
     "output_type": "execute_result"
    }
   ],
   "source": [
    "rc_seqs = reverse_complement_seqs(seqs)\n",
    "seqs, rc_seqs, reverse_complement_seqs(rc_seqs)"
   ]
  },
  {
   "cell_type": "code",
   "execution_count": 18,
   "id": "de58e42e",
   "metadata": {},
   "outputs": [
    {
     "data": {
      "application/vnd.jupyter.widget-view+json": {
       "model_id": "f231c0da40a0443e9515d1dec2e79859",
       "version_major": 2,
       "version_minor": 0
      },
      "text/plain": [
       "Reverse complementing sequences:   0%|          | 0/2 [00:00<?, ?it/s]"
      ]
     },
     "metadata": {},
     "output_type": "display_data"
    },
    {
     "data": {
      "text/plain": [
       "array(['GGAAAAGGAG', 'TGATA'], dtype='<U10')"
      ]
     },
     "execution_count": 18,
     "metadata": {},
     "output_type": "execute_result"
    }
   ],
   "source": [
    "reverse_complement_seqs(jagged_seqs)"
   ]
  },
  {
   "cell_type": "markdown",
   "id": "5b380a89",
   "metadata": {},
   "source": [
    "## One hot encoding"
   ]
  },
  {
   "cell_type": "code",
   "execution_count": 270,
   "id": "12c3af51",
   "metadata": {},
   "outputs": [],
   "source": [
    "DNA = [\"A\", \"C\", \"G\", \"T\"]\n",
    "RNA = [\"A\", \"C\", \"G\", \"U\"]\n",
    "COMPLEMENT_DNA = {\"A\": \"T\", \"C\": \"G\", \"G\": \"C\", \"T\": \"A\"}\n",
    "COMPLEMENT_RNA = {\"A\": \"U\", \"C\": \"G\", \"G\": \"C\", \"U\": \"A\"}"
   ]
  },
  {
   "cell_type": "code",
   "execution_count": 271,
   "id": "1511bb3c",
   "metadata": {},
   "outputs": [],
   "source": [
    "from eugene.preprocessing._utils import _get_vocab_dict, _get_index_dict"
   ]
  },
  {
   "cell_type": "code",
   "execution_count": 272,
   "id": "b1851ef4",
   "metadata": {},
   "outputs": [
    {
     "data": {
      "text/plain": [
       "({'A': 0, 'C': 1, 'G': 2, 'T': 3}, {0: 'A', 1: 'C', 2: 'G', 3: 'T'})"
      ]
     },
     "execution_count": 272,
     "metadata": {},
     "output_type": "execute_result"
    }
   ],
   "source": [
    "_get_vocab_dict(DNA), _get_index_dict(DNA)"
   ]
  },
  {
   "cell_type": "code",
   "execution_count": 273,
   "id": "b4c42f10",
   "metadata": {},
   "outputs": [],
   "source": [
    "from eugene.preprocessing._utils import _tokenize, _token2one_hot, _one_hot2token, _sequencize"
   ]
  },
  {
   "cell_type": "code",
   "execution_count": 274,
   "id": "0a67358c",
   "metadata": {},
   "outputs": [
    {
     "data": {
      "text/plain": [
       "('CACACCAGAC',\n",
       " [1, 0, 1, 0, 1, 1, 0, 2, 0, 1],\n",
       " array([[0, 1, 0, 1, 0, 0, 1, 0, 1, 0],\n",
       "        [1, 0, 1, 0, 1, 1, 0, 0, 0, 1],\n",
       "        [0, 0, 0, 0, 0, 0, 0, 1, 0, 0],\n",
       "        [0, 0, 0, 0, 0, 0, 0, 0, 0, 0]], dtype=int8),\n",
       " array([1, 0, 1, 0, 1, 1, 0, 2, 0, 1]),\n",
       " 'CACACCAGAC')"
      ]
     },
     "execution_count": 274,
     "metadata": {},
     "output_type": "execute_result"
    }
   ],
   "source": [
    "tokens = _tokenize(seq)\n",
    "ohe = _token2one_hot(tokens)\n",
    "decoded_tokens = _one_hot2token(ohe)\n",
    "decoded_seq = _sequencize(decoded_tokens)\n",
    "seq, tokens, ohe, decoded_tokens, decoded_seq"
   ]
  },
  {
   "cell_type": "code",
   "execution_count": 275,
   "id": "ddcc98ac",
   "metadata": {},
   "outputs": [],
   "source": [
    "from eugene.preprocessing._utils import _pad_sequences "
   ]
  },
  {
   "cell_type": "code",
   "execution_count": 276,
   "id": "faa2e10a",
   "metadata": {},
   "outputs": [
    {
     "data": {
      "text/plain": [
       "(['CTCCTTTTCC', 'NNNNNTATCA'],\n",
       " ['CTCCTTTTCC', 'TATCA$$$$$'],\n",
       " ['CTCCTTTTCC', '000TATCA00'])"
      ]
     },
     "execution_count": 276,
     "metadata": {},
     "output_type": "execute_result"
    }
   ],
   "source": [
    "_pad_sequences(jagged_seqs, align=\"end\", value=\"N\"), _pad_sequences(jagged_seqs, align=\"start\", value=\"$\"), _pad_sequences(jagged_seqs, align=\"center\", value=\"0\")"
   ]
  },
  {
   "cell_type": "code",
   "execution_count": 277,
   "id": "fe8a4ec4",
   "metadata": {},
   "outputs": [
    {
     "data": {
      "text/plain": [
       "('NNNNNTATCA',\n",
       " [-1, -1, -1, -1, -1, 3, 0, 3, 1, 0],\n",
       " array([[0.25, 0.25, 0.25, 0.25, 0.25, 0.  , 1.  , 0.  , 0.  , 1.  ],\n",
       "        [0.25, 0.25, 0.25, 0.25, 0.25, 0.  , 0.  , 0.  , 1.  , 0.  ],\n",
       "        [0.25, 0.25, 0.25, 0.25, 0.25, 0.  , 0.  , 0.  , 0.  , 0.  ],\n",
       "        [0.25, 0.25, 0.25, 0.25, 0.25, 1.  , 0.  , 1.  , 0.  , 0.  ]],\n",
       "       dtype=float16),\n",
       " array([-1, -1, -1, -1, -1,  3,  0,  3,  1,  0]),\n",
       " 'NNNNNTATCA')"
      ]
     },
     "execution_count": 277,
     "metadata": {},
     "output_type": "execute_result"
    }
   ],
   "source": [
    "padded_seqs = _pad_sequences(jagged_seqs, align=\"end\", value=\"N\")\n",
    "tokens = _tokenize(padded_seqs[1])\n",
    "ohe = _token2one_hot(tokens, fill_value=0.25)\n",
    "decoded_tokens = _one_hot2token(ohe)\n",
    "decoded_seq = _sequencize(decoded_tokens)\n",
    "padded_seqs[1], tokens, ohe, decoded_tokens, decoded_seq"
   ]
  },
  {
   "cell_type": "code",
   "execution_count": 278,
   "id": "87dee15a",
   "metadata": {},
   "outputs": [],
   "source": [
    "from eugene.preprocessing import ohe_seq, ohe_seqs, decode_seq, decode_seqs"
   ]
  },
  {
   "cell_type": "code",
   "execution_count": 279,
   "id": "9f510312",
   "metadata": {},
   "outputs": [
    {
     "data": {
      "text/plain": [
       "('CACACCAGAC',\n",
       " array([[0., 1., 0., 1., 0., 0., 1., 0., 1., 0.],\n",
       "        [1., 0., 1., 0., 1., 1., 0., 0., 0., 1.],\n",
       "        [0., 0., 0., 0., 0., 0., 0., 1., 0., 0.],\n",
       "        [0., 0., 0., 0., 0., 0., 0., 0., 0., 0.]], dtype=float16),\n",
       " 'CACACCAGAC')"
      ]
     },
     "execution_count": 279,
     "metadata": {},
     "output_type": "execute_result"
    }
   ],
   "source": [
    "ohe = ohe_seq(seq)\n",
    "decoded_seq = decode_seq(ohe)\n",
    "seq, ohe, decoded_seq"
   ]
  },
  {
   "cell_type": "code",
   "execution_count": 280,
   "id": "0e1dd407",
   "metadata": {},
   "outputs": [
    {
     "data": {
      "application/vnd.jupyter.widget-view+json": {
       "model_id": "1777cd575d6445df89a32c70d3a9f0ce",
       "version_major": 2,
       "version_minor": 0
      },
      "text/plain": [
       "One-hot encoding sequences:   0%|          | 0/5 [00:00<?, ?it/s]"
      ]
     },
     "metadata": {},
     "output_type": "display_data"
    },
    {
     "data": {
      "application/vnd.jupyter.widget-view+json": {
       "model_id": "ad26225ef5294f4791c44f43c7f85a19",
       "version_major": 2,
       "version_minor": 0
      },
      "text/plain": [
       "Decoding sequences:   0%|          | 0/5 [00:00<?, ?it/s]"
      ]
     },
     "metadata": {},
     "output_type": "display_data"
    },
    {
     "data": {
      "text/plain": [
       "(array(['TCACCCCGGC', 'GTACATGTTC', 'GTGCAATAAC', 'CCAGTTGATC',\n",
       "        'AGGATGGTTG'], dtype='<U10'),\n",
       " array([[[0, 0, 1, 0, 0, 0, 0, 0, 0, 0],\n",
       "         [0, 1, 0, 1, 1, 1, 1, 0, 0, 1],\n",
       "         [0, 0, 0, 0, 0, 0, 0, 1, 1, 0],\n",
       "         [1, 0, 0, 0, 0, 0, 0, 0, 0, 0]],\n",
       " \n",
       "        [[0, 0, 1, 0, 1, 0, 0, 0, 0, 0],\n",
       "         [0, 0, 0, 1, 0, 0, 0, 0, 0, 1],\n",
       "         [1, 0, 0, 0, 0, 0, 1, 0, 0, 0],\n",
       "         [0, 1, 0, 0, 0, 1, 0, 1, 1, 0]],\n",
       " \n",
       "        [[0, 0, 0, 0, 1, 1, 0, 1, 1, 0],\n",
       "         [0, 0, 0, 1, 0, 0, 0, 0, 0, 1],\n",
       "         [1, 0, 1, 0, 0, 0, 0, 0, 0, 0],\n",
       "         [0, 1, 0, 0, 0, 0, 1, 0, 0, 0]],\n",
       " \n",
       "        [[0, 0, 1, 0, 0, 0, 0, 1, 0, 0],\n",
       "         [1, 1, 0, 0, 0, 0, 0, 0, 0, 1],\n",
       "         [0, 0, 0, 1, 0, 0, 1, 0, 0, 0],\n",
       "         [0, 0, 0, 0, 1, 1, 0, 0, 1, 0]],\n",
       " \n",
       "        [[1, 0, 0, 1, 0, 0, 0, 0, 0, 0],\n",
       "         [0, 0, 0, 0, 0, 0, 0, 0, 0, 0],\n",
       "         [0, 1, 1, 0, 0, 1, 1, 0, 0, 1],\n",
       "         [0, 0, 0, 0, 1, 0, 0, 1, 1, 0]]], dtype=int8),\n",
       " array(['TCACCCCGGC', 'GTACATGTTC', 'GTGCAATAAC', 'CCAGTTGATC',\n",
       "        'AGGATGGTTG'], dtype='<U10'))"
      ]
     },
     "execution_count": 280,
     "metadata": {},
     "output_type": "execute_result"
    }
   ],
   "source": [
    "ohes = ohe_seqs(seqs)\n",
    "decoded_seqs = decode_seqs(ohes)\n",
    "seqs, ohes, decoded_seqs"
   ]
  },
  {
   "cell_type": "code",
   "execution_count": 281,
   "id": "c359e019",
   "metadata": {},
   "outputs": [
    {
     "data": {
      "application/vnd.jupyter.widget-view+json": {
       "model_id": "d81e26a01ed3430999ed3458b830fde6",
       "version_major": 2,
       "version_minor": 0
      },
      "text/plain": [
       "One-hot encoding sequences:   0%|          | 0/2 [00:00<?, ?it/s]"
      ]
     },
     "metadata": {},
     "output_type": "display_data"
    },
    {
     "data": {
      "application/vnd.jupyter.widget-view+json": {
       "model_id": "653774aefe924f868d29652dd0586f2f",
       "version_major": 2,
       "version_minor": 0
      },
      "text/plain": [
       "Decoding sequences:   0%|          | 0/2 [00:00<?, ?it/s]"
      ]
     },
     "metadata": {},
     "output_type": "display_data"
    },
    {
     "data": {
      "text/plain": [
       "(['CTCCTTTTCC', 'TATCA'],\n",
       " array([[[0, 0, 0, 0, 0, 0, 0, 0, 0, 0],\n",
       "         [1, 0, 1, 1, 0, 0, 0, 0, 1, 1],\n",
       "         [0, 0, 0, 0, 0, 0, 0, 0, 0, 0],\n",
       "         [0, 1, 0, 0, 1, 1, 1, 1, 0, 0]],\n",
       " \n",
       "        [[0, 1, 0, 0, 1, 0, 0, 0, 0, 0],\n",
       "         [0, 0, 0, 1, 0, 0, 0, 0, 0, 0],\n",
       "         [0, 0, 0, 0, 0, 0, 0, 0, 0, 0],\n",
       "         [1, 0, 1, 0, 0, 0, 0, 0, 0, 0]]], dtype=int8),\n",
       " array(['CTCCTTTTCC', 'TATCANNNNN'], dtype='<U10'))"
      ]
     },
     "execution_count": 281,
     "metadata": {},
     "output_type": "execute_result"
    }
   ],
   "source": [
    "jagged_ohe_seqs = ohe_seqs(jagged_seqs)\n",
    "jagged_decoded_seqs = decode_seqs(jagged_ohe_seqs)\n",
    "jagged_seqs, jagged_ohe_seqs, jagged_decoded_seqs"
   ]
  },
  {
   "cell_type": "code",
   "execution_count": 288,
   "id": "64f12be0",
   "metadata": {},
   "outputs": [
    {
     "data": {
      "application/vnd.jupyter.widget-view+json": {
       "model_id": "5ff726e98d164b54be4dc1e14ca2d477",
       "version_major": 2,
       "version_minor": 0
      },
      "text/plain": [
       "Reverse complementing sequences:   0%|          | 0/5 [00:00<?, ?it/s]"
      ]
     },
     "metadata": {},
     "output_type": "display_data"
    },
    {
     "data": {
      "text/plain": [
       "array(['GCCGGGGTGA', 'GAACATGTAC', 'GTTATTGCAC', 'GATCAACTGG',\n",
       "       'CAACCATCCT'], dtype='<U10')"
      ]
     },
     "execution_count": 288,
     "metadata": {},
     "output_type": "execute_result"
    }
   ],
   "source": [
    "reverse_complement_seqs(seqs)"
   ]
  },
  {
   "cell_type": "code",
   "execution_count": 293,
   "id": "c2e06fed",
   "metadata": {},
   "outputs": [
    {
     "data": {
      "text/plain": [
       "'GTCTGGTGTG'"
      ]
     },
     "execution_count": 293,
     "metadata": {},
     "output_type": "execute_result"
    }
   ],
   "source": [
    "rc_seq"
   ]
  },
  {
   "cell_type": "code",
   "execution_count": 292,
   "id": "9713f147",
   "metadata": {},
   "outputs": [
    {
     "data": {
      "text/plain": [
       "'GTCTGGTGTG'"
      ]
     },
     "execution_count": 292,
     "metadata": {},
     "output_type": "execute_result"
    }
   ],
   "source": [
    "decode_seq(reverse_complement_seq(ohe))"
   ]
  },
  {
   "cell_type": "code",
   "execution_count": 287,
   "id": "dc2323b2",
   "metadata": {},
   "outputs": [
    {
     "data": {
      "application/vnd.jupyter.widget-view+json": {
       "model_id": "2b1cea182b944a3e96765871332be034",
       "version_major": 2,
       "version_minor": 0
      },
      "text/plain": [
       "Decoding sequences:   0%|          | 0/5 [00:00<?, ?it/s]"
      ]
     },
     "metadata": {},
     "output_type": "display_data"
    },
    {
     "data": {
      "text/plain": [
       "array(['GCCGGGGTGA', 'GAACATGTAC', 'GTTATTGCAC', 'GATCAACTGG',\n",
       "       'CAACCATCCT'], dtype='<U10')"
      ]
     },
     "execution_count": 287,
     "metadata": {},
     "output_type": "execute_result"
    }
   ],
   "source": [
    "decode_seqs(ohes[:, ::-1, ::-1])"
   ]
  },
  {
   "cell_type": "markdown",
   "id": "5f614b30",
   "metadata": {},
   "source": [
    "## Dinucleotide shuffle"
   ]
  },
  {
   "cell_type": "code",
   "execution_count": 141,
   "id": "54535f9f",
   "metadata": {},
   "outputs": [],
   "source": [
    "from eugene.preprocessing import dinuc_shuffle_seq, dinuc_shuffle_seqs"
   ]
  },
  {
   "cell_type": "code",
   "execution_count": 142,
   "id": "f5dcfaee",
   "metadata": {},
   "outputs": [
    {
     "data": {
      "text/plain": [
       "('CACACCAGAC',\n",
       " ['CCACAGACAC',\n",
       "  'CACACCAGAC',\n",
       "  'CACAGACCAC',\n",
       "  'CACCAGACAC',\n",
       "  'CCACAGACAC',\n",
       "  'CACCACAGAC',\n",
       "  'CCACACAGAC',\n",
       "  'CCACAGACAC',\n",
       "  'CCACACAGAC',\n",
       "  'CACAGACCAC'])"
      ]
     },
     "execution_count": 142,
     "metadata": {},
     "output_type": "execute_result"
    }
   ],
   "source": [
    "dnt_shuf_seq = dinuc_shuffle_seq(seq, num_shufs=10)\n",
    "seq, dnt_shuf_seq"
   ]
  },
  {
   "cell_type": "code",
   "execution_count": 143,
   "id": "cacd8eca",
   "metadata": {},
   "outputs": [
    {
     "data": {
      "text/plain": [
       "(array(['TCACCCCGGC', 'GTACATGTTC', 'GTGCAATAAC', 'CCAGTTGATC',\n",
       "        'AGGATGGTTG'], dtype='<U10'),\n",
       " array(['TCCACCCGGC', 'GTACATTGTC', 'GTGCAAATAC', 'CCAGTTGATC',\n",
       "        'AGATTGGGTG'], dtype='<U10'))"
      ]
     },
     "execution_count": 143,
     "metadata": {},
     "output_type": "execute_result"
    }
   ],
   "source": [
    "dnt_shuf_seqs = dinuc_shuffle_seqs(seqs)\n",
    "seqs, dnt_shuf_seqs"
   ]
  },
  {
   "cell_type": "markdown",
   "id": "4537dbfd",
   "metadata": {},
   "source": [
    "## In silico mutagenesis"
   ]
  },
  {
   "cell_type": "code",
   "execution_count": 190,
   "id": "7c913161",
   "metadata": {},
   "outputs": [],
   "source": [
    "from eugene.preprocessing import perturb_seq, perturb_seqs"
   ]
  },
  {
   "cell_type": "code",
   "execution_count": 202,
   "id": "f7283c42",
   "metadata": {},
   "outputs": [
    {
     "data": {
      "application/vnd.jupyter.widget-view+json": {
       "model_id": "88c9b48ff455405ba9ce0a73a5e7064b",
       "version_major": 2,
       "version_minor": 0
      },
      "text/plain": [
       "Decoding sequences:   0%|          | 0/30 [00:00<?, ?it/s]"
      ]
     },
     "metadata": {},
     "output_type": "display_data"
    },
    {
     "data": {
      "text/plain": [
       "('CACACCAGAC',\n",
       " array(['GACACCAGAC', 'TACACCAGAC', 'AACACCAGAC', 'CCCACCAGAC',\n",
       "        'CGCACCAGAC', 'CTCACCAGAC', 'CAGACCAGAC', 'CATACCAGAC',\n",
       "        'CAAACCAGAC', 'CACCCCAGAC', 'CACGCCAGAC', 'CACTCCAGAC',\n",
       "        'CACAGCAGAC', 'CACATCAGAC', 'CACAACAGAC', 'CACACGAGAC',\n",
       "        'CACACTAGAC', 'CACACAAGAC', 'CACACCCGAC', 'CACACCGGAC',\n",
       "        'CACACCTGAC', 'CACACCATAC', 'CACACCAAAC', 'CACACCACAC',\n",
       "        'CACACCAGCC', 'CACACCAGGC', 'CACACCAGTC', 'CACACCAGAG',\n",
       "        'CACACCAGAT', 'CACACCAGAA'], dtype='<U10'))"
      ]
     },
     "execution_count": 202,
     "metadata": {},
     "output_type": "execute_result"
    }
   ],
   "source": [
    "decoded_perturb = decode_seqs(perturb_seq(ohe))\n",
    "seq, decoded_perturb"
   ]
  },
  {
   "cell_type": "code",
   "execution_count": 204,
   "id": "b9b23cf9",
   "metadata": {},
   "outputs": [
    {
     "data": {
      "application/vnd.jupyter.widget-view+json": {
       "model_id": "a4fabbcf7e254662b6eb11d35fcf82f2",
       "version_major": 2,
       "version_minor": 0
      },
      "text/plain": [
       "Decoding sequences:   0%|          | 0/30 [00:00<?, ?it/s]"
      ]
     },
     "metadata": {},
     "output_type": "display_data"
    },
    {
     "data": {
      "text/plain": [
       "('TCACCCCGGC',\n",
       " array(['ACACCCCGGC', 'CCACCCCGGC', 'GCACCCCGGC', 'TGACCCCGGC',\n",
       "        'TTACCCCGGC', 'TAACCCCGGC', 'TCCCCCCGGC', 'TCGCCCCGGC',\n",
       "        'TCTCCCCGGC', 'TCAGCCCGGC', 'TCATCCCGGC', 'TCAACCCGGC',\n",
       "        'TCACGCCGGC', 'TCACTCCGGC', 'TCACACCGGC', 'TCACCGCGGC',\n",
       "        'TCACCTCGGC', 'TCACCACGGC', 'TCACCCGGGC', 'TCACCCTGGC',\n",
       "        'TCACCCAGGC', 'TCACCCCTGC', 'TCACCCCAGC', 'TCACCCCCGC',\n",
       "        'TCACCCCGTC', 'TCACCCCGAC', 'TCACCCCGCC', 'TCACCCCGGG',\n",
       "        'TCACCCCGGT', 'TCACCCCGGA'], dtype='<U10'))"
      ]
     },
     "execution_count": 204,
     "metadata": {},
     "output_type": "execute_result"
    }
   ],
   "source": [
    "decoded_perturbs = decode_seqs(perturb_seqs(ohes)[0])\n",
    "seqs[0], decoded_perturbs"
   ]
  },
  {
   "cell_type": "markdown",
   "id": "7ab6c016",
   "metadata": {},
   "source": [
    "## Feature implant "
   ]
  },
  {
   "cell_type": "code",
   "execution_count": 222,
   "id": "04370fca",
   "metadata": {},
   "outputs": [],
   "source": [
    "from eugene.preprocessing._utils import _token2one_hot"
   ]
  },
  {
   "cell_type": "code",
   "execution_count": 302,
   "id": "416b80bd",
   "metadata": {},
   "outputs": [],
   "source": [
    "# Prep data\n",
    "meme = eu.dl.motif.MinimalMEME(path=\"../../_data/CPEs.meme\")\n",
    "motif = meme.motifs[\"TATA\"]\n",
    "name = motif.name\n",
    "pfm = motif.pfm[4:8]\n",
    "consensus = motif.consensus[4:8] \n",
    "pos = 2"
   ]
  },
  {
   "cell_type": "code",
   "execution_count": 304,
   "id": "ee1bf2dd",
   "metadata": {},
   "outputs": [
    {
     "data": {
      "text/plain": [
       "array(['TATACCAGAC', 'CTATACAGAC', 'CATATAAGAC', 'CACTATAGAC',\n",
       "       'CACATATAAC', 'CACACTATAC', 'CACACCTATA'], dtype='<U10')"
      ]
     },
     "execution_count": 304,
     "metadata": {},
     "output_type": "execute_result"
    }
   ],
   "source": [
    "eu.pp.feature_implant_across_seq(seq, consensus, encoding=\"str\")"
   ]
  },
  {
   "cell_type": "code",
   "execution_count": 305,
   "id": "d7f48885",
   "metadata": {},
   "outputs": [
    {
     "data": {
      "text/plain": [
       "array([[0.   , 1.   , 0.01 , 0.968, 0.002, 0.992, 1.   , 0.   , 1.   ,\n",
       "        0.   ],\n",
       "       [1.   , 0.   , 0.002, 0.   , 0.014, 0.   , 0.   , 0.   , 0.   ,\n",
       "        1.   ],\n",
       "       [0.   , 0.   , 0.002, 0.   , 0.006, 0.002, 0.   , 1.   , 0.   ,\n",
       "        0.   ],\n",
       "       [0.   , 0.   , 0.986, 0.032, 0.978, 0.006, 0.   , 0.   , 0.   ,\n",
       "        0.   ]])"
      ]
     },
     "execution_count": 305,
     "metadata": {},
     "output_type": "execute_result"
    }
   ],
   "source": [
    "eu.pp.feature_implant_seq(ohe, pfm.T, pos, encoding=\"onehot\")"
   ]
  },
  {
   "cell_type": "code",
   "execution_count": 261,
   "id": "1c070f59",
   "metadata": {},
   "outputs": [
    {
     "data": {
      "text/plain": [
       "array([[[0.01 , 0.968, 0.002, 0.992, 0.   , 0.   , 1.   , 0.   , 1.   ,\n",
       "         0.   ],\n",
       "        [0.002, 0.   , 0.014, 0.   , 1.   , 1.   , 0.   , 0.   , 0.   ,\n",
       "         1.   ],\n",
       "        [0.002, 0.   , 0.006, 0.002, 0.   , 0.   , 0.   , 1.   , 0.   ,\n",
       "         0.   ],\n",
       "        [0.986, 0.032, 0.978, 0.006, 0.   , 0.   , 0.   , 0.   , 0.   ,\n",
       "         0.   ]],\n",
       "\n",
       "       [[0.   , 0.01 , 0.968, 0.002, 0.992, 0.   , 1.   , 0.   , 1.   ,\n",
       "         0.   ],\n",
       "        [1.   , 0.002, 0.   , 0.014, 0.   , 1.   , 0.   , 0.   , 0.   ,\n",
       "         1.   ],\n",
       "        [0.   , 0.002, 0.   , 0.006, 0.002, 0.   , 0.   , 1.   , 0.   ,\n",
       "         0.   ],\n",
       "        [0.   , 0.986, 0.032, 0.978, 0.006, 0.   , 0.   , 0.   , 0.   ,\n",
       "         0.   ]],\n",
       "\n",
       "       [[0.   , 1.   , 0.01 , 0.968, 0.002, 0.992, 1.   , 0.   , 1.   ,\n",
       "         0.   ],\n",
       "        [1.   , 0.   , 0.002, 0.   , 0.014, 0.   , 0.   , 0.   , 0.   ,\n",
       "         1.   ],\n",
       "        [0.   , 0.   , 0.002, 0.   , 0.006, 0.002, 0.   , 1.   , 0.   ,\n",
       "         0.   ],\n",
       "        [0.   , 0.   , 0.986, 0.032, 0.978, 0.006, 0.   , 0.   , 0.   ,\n",
       "         0.   ]],\n",
       "\n",
       "       [[0.   , 1.   , 0.   , 0.01 , 0.968, 0.002, 0.992, 0.   , 1.   ,\n",
       "         0.   ],\n",
       "        [1.   , 0.   , 1.   , 0.002, 0.   , 0.014, 0.   , 0.   , 0.   ,\n",
       "         1.   ],\n",
       "        [0.   , 0.   , 0.   , 0.002, 0.   , 0.006, 0.002, 1.   , 0.   ,\n",
       "         0.   ],\n",
       "        [0.   , 0.   , 0.   , 0.986, 0.032, 0.978, 0.006, 0.   , 0.   ,\n",
       "         0.   ]],\n",
       "\n",
       "       [[0.   , 1.   , 0.   , 1.   , 0.01 , 0.968, 0.002, 0.992, 1.   ,\n",
       "         0.   ],\n",
       "        [1.   , 0.   , 1.   , 0.   , 0.002, 0.   , 0.014, 0.   , 0.   ,\n",
       "         1.   ],\n",
       "        [0.   , 0.   , 0.   , 0.   , 0.002, 0.   , 0.006, 0.002, 0.   ,\n",
       "         0.   ],\n",
       "        [0.   , 0.   , 0.   , 0.   , 0.986, 0.032, 0.978, 0.006, 0.   ,\n",
       "         0.   ]],\n",
       "\n",
       "       [[0.   , 1.   , 0.   , 1.   , 0.   , 0.01 , 0.968, 0.002, 0.992,\n",
       "         0.   ],\n",
       "        [1.   , 0.   , 1.   , 0.   , 1.   , 0.002, 0.   , 0.014, 0.   ,\n",
       "         1.   ],\n",
       "        [0.   , 0.   , 0.   , 0.   , 0.   , 0.002, 0.   , 0.006, 0.002,\n",
       "         0.   ],\n",
       "        [0.   , 0.   , 0.   , 0.   , 0.   , 0.986, 0.032, 0.978, 0.006,\n",
       "         0.   ]],\n",
       "\n",
       "       [[0.   , 1.   , 0.   , 1.   , 0.   , 0.   , 0.01 , 0.968, 0.002,\n",
       "         0.992],\n",
       "        [1.   , 0.   , 1.   , 0.   , 1.   , 1.   , 0.002, 0.   , 0.014,\n",
       "         0.   ],\n",
       "        [0.   , 0.   , 0.   , 0.   , 0.   , 0.   , 0.002, 0.   , 0.006,\n",
       "         0.002],\n",
       "        [0.   , 0.   , 0.   , 0.   , 0.   , 0.   , 0.986, 0.032, 0.978,\n",
       "         0.006]]])"
      ]
     },
     "execution_count": 261,
     "metadata": {},
     "output_type": "execute_result"
    }
   ],
   "source": [
    "eu.pp.feature_implant_across_seq(ohe, pfm.T, encoding=\"onehot\")"
   ]
  },
  {
   "cell_type": "code",
   "execution_count": 266,
   "id": "79ec5cba",
   "metadata": {},
   "outputs": [
    {
     "data": {
      "text/plain": [
       "array([[0., 1., 0., 1., 0., 0., 1., 0., 1., 0.],\n",
       "       [1., 0., 1., 0., 1., 1., 0., 0., 0., 1.],\n",
       "       [0., 0., 0., 0., 0., 0., 0., 1., 0., 0.],\n",
       "       [0., 0., 0., 0., 0., 0., 0., 0., 0., 0.]], dtype=float16)"
      ]
     },
     "execution_count": 266,
     "metadata": {},
     "output_type": "execute_result"
    }
   ],
   "source": [
    "ohe"
   ]
  },
  {
   "cell_type": "code",
   "execution_count": 265,
   "id": "c2c52ad1",
   "metadata": {},
   "outputs": [
    {
     "data": {
      "text/plain": [
       "array([[0., 1., 0., 1., 0., 1., 1., 0., 1., 0.],\n",
       "       [1., 0., 0., 0., 0., 0., 0., 0., 0., 1.],\n",
       "       [0., 0., 0., 0., 0., 0., 0., 1., 0., 0.],\n",
       "       [0., 0., 1., 0., 1., 0., 0., 0., 0., 0.]], dtype=float16)"
      ]
     },
     "execution_count": 265,
     "metadata": {},
     "output_type": "execute_result"
    }
   ],
   "source": [
    "eu.pp.feature_implant_seq(ohe, pfm, pos, encoding=\"onehot\", onehot=True)"
   ]
  },
  {
   "cell_type": "code",
   "execution_count": 267,
   "id": "39c9c109",
   "metadata": {},
   "outputs": [
    {
     "data": {
      "text/plain": [
       "array([[[0., 1., 0., 1., 0., 0., 1., 0., 1., 0.],\n",
       "        [0., 0., 0., 0., 1., 1., 0., 0., 0., 1.],\n",
       "        [0., 0., 0., 0., 0., 0., 0., 1., 0., 0.],\n",
       "        [1., 0., 1., 0., 0., 0., 0., 0., 0., 0.]],\n",
       "\n",
       "       [[0., 0., 1., 0., 1., 0., 1., 0., 1., 0.],\n",
       "        [1., 0., 0., 0., 0., 1., 0., 0., 0., 1.],\n",
       "        [0., 0., 0., 0., 0., 0., 0., 1., 0., 0.],\n",
       "        [0., 1., 0., 1., 0., 0., 0., 0., 0., 0.]],\n",
       "\n",
       "       [[0., 1., 0., 1., 0., 1., 1., 0., 1., 0.],\n",
       "        [1., 0., 0., 0., 0., 0., 0., 0., 0., 1.],\n",
       "        [0., 0., 0., 0., 0., 0., 0., 1., 0., 0.],\n",
       "        [0., 0., 1., 0., 1., 0., 0., 0., 0., 0.]],\n",
       "\n",
       "       [[0., 1., 0., 0., 1., 0., 1., 0., 1., 0.],\n",
       "        [1., 0., 1., 0., 0., 0., 0., 0., 0., 1.],\n",
       "        [0., 0., 0., 0., 0., 0., 0., 1., 0., 0.],\n",
       "        [0., 0., 0., 1., 0., 1., 0., 0., 0., 0.]],\n",
       "\n",
       "       [[0., 1., 0., 1., 0., 1., 0., 1., 1., 0.],\n",
       "        [1., 0., 1., 0., 0., 0., 0., 0., 0., 1.],\n",
       "        [0., 0., 0., 0., 0., 0., 0., 0., 0., 0.],\n",
       "        [0., 0., 0., 0., 1., 0., 1., 0., 0., 0.]],\n",
       "\n",
       "       [[0., 1., 0., 1., 0., 0., 1., 0., 1., 0.],\n",
       "        [1., 0., 1., 0., 1., 0., 0., 0., 0., 1.],\n",
       "        [0., 0., 0., 0., 0., 0., 0., 0., 0., 0.],\n",
       "        [0., 0., 0., 0., 0., 1., 0., 1., 0., 0.]],\n",
       "\n",
       "       [[0., 1., 0., 1., 0., 0., 0., 1., 0., 1.],\n",
       "        [1., 0., 1., 0., 1., 1., 0., 0., 0., 0.],\n",
       "        [0., 0., 0., 0., 0., 0., 0., 0., 0., 0.],\n",
       "        [0., 0., 0., 0., 0., 0., 1., 0., 1., 0.]]], dtype=float16)"
      ]
     },
     "execution_count": 267,
     "metadata": {},
     "output_type": "execute_result"
    }
   ],
   "source": [
    "eu.pp.feature_implant_across_seq(ohe, pfm, encoding=\"onehot\", onehot=True)"
   ]
  },
  {
   "cell_type": "markdown",
   "id": "615c8f51",
   "metadata": {},
   "source": [
    "# Preprocess a random dataset by hand"
   ]
  },
  {
   "cell_type": "markdown",
   "id": "85e4ea82",
   "metadata": {},
   "source": [
    "## Load"
   ]
  },
  {
   "cell_type": "code",
   "execution_count": 19,
   "id": "e16cd3bc",
   "metadata": {},
   "outputs": [
    {
     "data": {
      "text/plain": [
       "('seq001',\n",
       " 'CAGCCGGTCCATACACCAAGGGCATCTACTTGGGCAAGGGTGTACCCCTTGTGGCTTGGAAGAAGG',\n",
       " 'CCTTCTTCCAAGCCACAAGGGGTACACCCTTGCCCAAGTAGATGCCCTTGGTGTATGGACCGGCTG',\n",
       " 0.0570990784451763)"
      ]
     },
     "execution_count": 19,
     "metadata": {},
     "output_type": "execute_result"
    }
   ],
   "source": [
    "names, seqs, rev_seqs, targets = eu.dl.read(\"/cellar/users/aklie/data/eugene/random_datasets/random100seqs_66bp/random_seqs.tsv\", seq_col=\"SEQ\", name_col=\"NAME\", target_col=\"ACTIVITY\", rev_comp=True, return_numpy=True)\n",
    "names[0], seqs[0], rev_seqs[0], targets[0]"
   ]
  },
  {
   "cell_type": "markdown",
   "id": "84512b07",
   "metadata": {},
   "source": [
    "## Reverse Complement"
   ]
  },
  {
   "cell_type": "code",
   "execution_count": 268,
   "id": "3397d5a8",
   "metadata": {},
   "outputs": [
    {
     "data": {
      "application/vnd.jupyter.widget-view+json": {
       "model_id": "ec76643afd4f4e1792c0f1d1b2d67f6c",
       "version_major": 2,
       "version_minor": 0
      },
      "text/plain": [
       "Reverse complementing sequences:   0%|          | 0/5 [00:00<?, ?it/s]"
      ]
     },
     "metadata": {},
     "output_type": "display_data"
    },
    {
     "ename": "AttributeError",
     "evalue": "module 'eugene.preprocessing' has no attribute 'ohe_DNA_seqs'",
     "output_type": "error",
     "traceback": [
      "\u001b[0;31m---------------------------------------------------------------------------\u001b[0m",
      "\u001b[0;31mAttributeError\u001b[0m                            Traceback (most recent call last)",
      "\u001b[0;32m/tmp/ipykernel_8301/2482782330.py\u001b[0m in \u001b[0;36m<module>\u001b[0;34m\u001b[0m\n\u001b[1;32m      1\u001b[0m \u001b[0mrev_seqs\u001b[0m \u001b[0;34m=\u001b[0m \u001b[0meu\u001b[0m\u001b[0;34m.\u001b[0m\u001b[0mpp\u001b[0m\u001b[0;34m.\u001b[0m\u001b[0mreverse_complement_seqs\u001b[0m\u001b[0;34m(\u001b[0m\u001b[0mseqs\u001b[0m\u001b[0;34m)\u001b[0m\u001b[0;34m\u001b[0m\u001b[0;34m\u001b[0m\u001b[0m\n\u001b[0;32m----> 2\u001b[0;31m \u001b[0mrev_ohe_seqs\u001b[0m \u001b[0;34m=\u001b[0m \u001b[0meu\u001b[0m\u001b[0;34m.\u001b[0m\u001b[0mpp\u001b[0m\u001b[0;34m.\u001b[0m\u001b[0mohe_DNA_seqs\u001b[0m\u001b[0;34m(\u001b[0m\u001b[0mrev_seqs\u001b[0m\u001b[0;34m)\u001b[0m\u001b[0;34m\u001b[0m\u001b[0;34m\u001b[0m\u001b[0m\n\u001b[0m\u001b[1;32m      3\u001b[0m \u001b[0mdecoded_rev_seqs\u001b[0m \u001b[0;34m=\u001b[0m \u001b[0meu\u001b[0m\u001b[0;34m.\u001b[0m\u001b[0mpp\u001b[0m\u001b[0;34m.\u001b[0m\u001b[0mdecode_DNA_seqs\u001b[0m\u001b[0;34m(\u001b[0m\u001b[0mrev_ohe_seqs\u001b[0m\u001b[0;34m)\u001b[0m\u001b[0;34m\u001b[0m\u001b[0;34m\u001b[0m\u001b[0m\n\u001b[1;32m      4\u001b[0m \u001b[0mrev_seqs\u001b[0m\u001b[0;34m[\u001b[0m\u001b[0;36m0\u001b[0m\u001b[0;34m]\u001b[0m\u001b[0;34m,\u001b[0m \u001b[0mseqs\u001b[0m\u001b[0;34m[\u001b[0m\u001b[0;36m0\u001b[0m\u001b[0;34m]\u001b[0m\u001b[0;34m,\u001b[0m \u001b[0mdecoded_rev_seqs\u001b[0m\u001b[0;34m[\u001b[0m\u001b[0;36m0\u001b[0m\u001b[0;34m]\u001b[0m\u001b[0;34m\u001b[0m\u001b[0;34m\u001b[0m\u001b[0m\n",
      "\u001b[0;31mAttributeError\u001b[0m: module 'eugene.preprocessing' has no attribute 'ohe_DNA_seqs'"
     ]
    }
   ],
   "source": [
    "rev_seqs = eu.pp.reverse_complement_seqs(seqs)\n",
    "rev_ohe_seqs = eu.pp.ohe_DNA_seqs(rev_seqs)\n",
    "decoded_rev_seqs = eu.pp.decode_DNA_seqs(rev_ohe_seqs)\n",
    "rev_seqs[0], seqs[0], decoded_rev_seqs[0]"
   ]
  },
  {
   "cell_type": "code",
   "execution_count": 269,
   "id": "a23298eb",
   "metadata": {},
   "outputs": [
    {
     "ename": "NameError",
     "evalue": "name 'rev_ohe_seqs' is not defined",
     "output_type": "error",
     "traceback": [
      "\u001b[0;31m---------------------------------------------------------------------------\u001b[0m",
      "\u001b[0;31mNameError\u001b[0m                                 Traceback (most recent call last)",
      "\u001b[0;32m/tmp/ipykernel_8301/4219042952.py\u001b[0m in \u001b[0;36m<module>\u001b[0;34m\u001b[0m\n\u001b[0;32m----> 1\u001b[0;31m \u001b[0mrev_ohe_seqs\u001b[0m\u001b[0;34m[\u001b[0m\u001b[0;36m0\u001b[0m\u001b[0;34m]\u001b[0m\u001b[0;34m[\u001b[0m\u001b[0;34m:\u001b[0m\u001b[0;36m5\u001b[0m\u001b[0;34m]\u001b[0m\u001b[0;34m,\u001b[0m \u001b[0mrev_seqs\u001b[0m\u001b[0;34m[\u001b[0m\u001b[0;36m0\u001b[0m\u001b[0;34m]\u001b[0m\u001b[0;34m[\u001b[0m\u001b[0;34m:\u001b[0m\u001b[0;36m5\u001b[0m\u001b[0;34m]\u001b[0m\u001b[0;34m\u001b[0m\u001b[0;34m\u001b[0m\u001b[0m\n\u001b[0m",
      "\u001b[0;31mNameError\u001b[0m: name 'rev_ohe_seqs' is not defined"
     ]
    }
   ],
   "source": [
    "rev_ohe_seqs[0][:5], rev_seqs[0][:5]"
   ]
  },
  {
   "cell_type": "markdown",
   "id": "90fc08ae",
   "metadata": {},
   "source": [
    "## One-hot-encoding "
   ]
  },
  {
   "cell_type": "code",
   "execution_count": 22,
   "id": "c36f2171",
   "metadata": {},
   "outputs": [
    {
     "data": {
      "text/plain": [
       "('CAGCCGGTCCATACACCAAGGGCATCTACTTGGGCAAGGGTGTACCCCTTGTGGCTTGGAAGAAGG',\n",
       " array([[0., 1., 0., 0.],\n",
       "        [1., 0., 0., 0.],\n",
       "        [0., 0., 1., 0.],\n",
       "        [0., 1., 0., 0.],\n",
       "        [0., 1., 0., 0.]]),\n",
       " 'CAGCCGGTCCATACACCAAGGGCATCTACTTGGGCAAGGGTGTACCCCTTGTGGCTTGGAAGAAGG')"
      ]
     },
     "execution_count": 22,
     "metadata": {},
     "output_type": "execute_result"
    }
   ],
   "source": [
    "ohe_seq = eu.pp.ohe_DNA_seq(seqs[0])\n",
    "decoded_seq = eu.pp.decode_DNA_seq(ohe_seq)\n",
    "seqs[0], ohe_seq[:5], decoded_seq"
   ]
  },
  {
   "cell_type": "code",
   "execution_count": 23,
   "id": "83a91579",
   "metadata": {},
   "outputs": [
    {
     "data": {
      "text/plain": [
       "('CAGCC',\n",
       " array([[0., 1., 0., 0.],\n",
       "        [1., 0., 0., 0.],\n",
       "        [0., 0., 1., 0.],\n",
       "        [0., 1., 0., 0.],\n",
       "        [0., 1., 0., 0.]]),\n",
       " 'CAGCC')"
      ]
     },
     "execution_count": 23,
     "metadata": {},
     "output_type": "execute_result"
    }
   ],
   "source": [
    "ohe_seqs = eu.pp.ohe_DNA_seqs(seqs)\n",
    "decoded_seqs = eu.pp.decode_DNA_seqs(ohe_seqs)\n",
    "seqs[0][:5], ohe_seqs[0][:5], decoded_seqs[0][:5]"
   ]
  },
  {
   "cell_type": "markdown",
   "id": "7bcf61cc",
   "metadata": {},
   "source": [
    "## Encode Names"
   ]
  },
  {
   "cell_type": "code",
   "execution_count": 24,
   "id": "7079998f",
   "metadata": {},
   "outputs": [
    {
     "data": {
      "text/plain": [
       "('seq001', array([115, 101, 113,  48,  48,  49]), 'seq001')"
      ]
     },
     "execution_count": 24,
     "metadata": {},
     "output_type": "execute_result"
    }
   ],
   "source": [
    "encoded_names = [eu.pp.ascii_encode(name) for name in names]\n",
    "decoded_names = [eu.pp.ascii_decode(name) for name in encoded_names]\n",
    "names[0], encoded_names[0], decoded_names[0]"
   ]
  },
  {
   "cell_type": "markdown",
   "id": "737f26ad",
   "metadata": {},
   "source": [
    "## Dinucleotide Shuffle"
   ]
  },
  {
   "cell_type": "code",
   "execution_count": 25,
   "id": "49060fa0",
   "metadata": {},
   "outputs": [
    {
     "data": {
      "text/plain": [
       "'CCAGGTCCTGGTATTAGCCCAGGGTGCTCAGGGGCACCATTACAAAAACGACCTGGGCTGTTGAGG'"
      ]
     },
     "execution_count": 25,
     "metadata": {},
     "output_type": "execute_result"
    }
   ],
   "source": [
    "eu.pp.dinuc_shuffle_seq(seqs[0])"
   ]
  },
  {
   "cell_type": "code",
   "execution_count": 26,
   "id": "60acbe18",
   "metadata": {},
   "outputs": [
    {
     "data": {
      "text/plain": [
       "'CCAAATGCGGGGCAGTGTCTGCCCCCCAGCTTTCAGGTGGTATAACACACTACTTGGGAGGAAGGG'"
      ]
     },
     "execution_count": 26,
     "metadata": {},
     "output_type": "execute_result"
    }
   ],
   "source": [
    "eu.pp.decode_DNA_seq(eu.pp.dinuc_shuffle_seq(ohe_seqs[0]))"
   ]
  },
  {
   "cell_type": "markdown",
   "id": "5f0177a4",
   "metadata": {},
   "source": [
    "## Dataset Processing"
   ]
  },
  {
   "cell_type": "code",
   "execution_count": 27,
   "id": "16801628",
   "metadata": {},
   "outputs": [
    {
     "data": {
      "text/plain": [
       "(80, 20, 80, 20)"
      ]
     },
     "execution_count": 27,
     "metadata": {},
     "output_type": "execute_result"
    }
   ],
   "source": [
    "train_seqs, test_seqs, train_targets, test_targets = eu.pp.split_train_test(ohe_seqs, targets)\n",
    "len(train_seqs), len(test_seqs), len(train_targets), len(test_targets)"
   ]
  },
  {
   "cell_type": "markdown",
   "id": "683c6cb1",
   "metadata": {},
   "source": [
    "# Working with sdata"
   ]
  },
  {
   "cell_type": "code",
   "execution_count": 29,
   "id": "2f4d0edf",
   "metadata": {},
   "outputs": [],
   "source": [
    "sdata = eu.datasets.random1000()"
   ]
  },
  {
   "cell_type": "code",
   "execution_count": 30,
   "id": "91abdc8c",
   "metadata": {},
   "outputs": [
    {
     "name": "stdout",
     "output_type": "stream",
     "text": [
      "SeqData object modified:\n",
      "\trev_seqs: None -> 1000 rev_seqs added\n",
      "SeqData object modified:\n",
      "\tohe_seqs: None -> 1000 ohe_seqs added\n",
      "\tohe_rev_seqs: None -> 1000 ohe_rev_seqs added\n",
      "SeqData object modified:\n",
      "    seqs_annot:\n",
      "        + TRAIN\n"
     ]
    },
    {
     "data": {
      "text/plain": [
       "SeqData object with = 1000 seqs\n",
       "seqs = (1000,)\n",
       "names = (1000,)\n",
       "rev_seqs = (1000,)\n",
       "ohe_seqs = (1000, 66, 4)\n",
       "ohe_rev_seqs = (1000, 66, 4)\n",
       "seqs_annot: 'TARGETS', 'TRAIN'\n",
       "pos_annot: PyRanges object with 1456 features"
      ]
     },
     "execution_count": 30,
     "metadata": {},
     "output_type": "execute_result"
    }
   ],
   "source": [
    "eu.pp.reverse_complement_data(sdata)\n",
    "eu.pp.one_hot_encode_data(sdata)\n",
    "eu.pp.train_test_split_data(sdata)\n",
    "sdata"
   ]
  },
  {
   "cell_type": "code",
   "execution_count": 31,
   "id": "7bd5ba34",
   "metadata": {},
   "outputs": [
    {
     "data": {
      "application/vnd.jupyter.widget-view+json": {
       "model_id": "1c32b696adf0411da8b862714c019083",
       "version_major": 2,
       "version_minor": 0
      },
      "text/plain": [
       "  0%|          | 0/3 [00:00<?, ?it/s]"
      ]
     },
     "metadata": {},
     "output_type": "display_data"
    },
    {
     "name": "stdout",
     "output_type": "stream",
     "text": [
      "SeqData object modified:\n",
      "\trev_seqs: None -> 1000 rev_seqs added\n",
      "\tohe_seqs: None -> 1000 ohe_seqs added\n",
      "\tohe_rev_seqs: None -> 1000 ohe_rev_seqs added\n",
      "    seqs_annot:\n",
      "        + TRAIN\n"
     ]
    }
   ],
   "source": [
    "sdata = eu.datasets.random1000()\n",
    "eu.pp.prepare_data(sdata)"
   ]
  },
  {
   "cell_type": "markdown",
   "id": "7c911a6b",
   "metadata": {},
   "source": [
    "---"
   ]
  },
  {
   "cell_type": "markdown",
   "id": "7f61e73a",
   "metadata": {},
   "source": [
    "# Scratch"
   ]
  }
 ],
 "metadata": {
  "kernelspec": {
   "display_name": "Python 3.7.13 64-bit",
   "language": "python",
   "name": "python3"
  },
  "language_info": {
   "codemirror_mode": {
    "name": "ipython",
    "version": 3
   },
   "file_extension": ".py",
   "mimetype": "text/x-python",
   "name": "python",
   "nbconvert_exporter": "python",
   "pygments_lexer": "ipython3",
   "version": "3.7.13"
  },
  "vscode": {
   "interpreter": {
    "hash": "949777d72b0d2535278d3dc13498b2535136f6dfe0678499012e853ee9abcab1"
   }
  }
 },
 "nbformat": 4,
 "nbformat_minor": 5
}

{
 "cells": [
  {
   "cell_type": "markdown",
   "id": "90a88efe-ebb3-424c-8704-fb4ee189af2c",
   "metadata": {},
   "source": [
    "# Testing functions in `_seq_preprocessing.py`"
   ]
  },
  {
   "cell_type": "markdown",
   "id": "2d058003-a667-4b45-9ddc-e47efe48e0e1",
   "metadata": {
    "tags": []
   },
   "source": [
    "**Authorship:**\n",
    "Adam Klie, *06/23/2022*\n",
    "***\n",
    "**Description:**\n",
    "Notebook to test the functions in `_seq_preprocessing.py`\n",
    "***"
   ]
  },
  {
   "cell_type": "code",
   "execution_count": 9,
   "id": "3ebaff6f",
   "metadata": {
    "execution": {
     "iopub.execute_input": "2022-06-22T21:40:50.734456Z",
     "iopub.status.busy": "2022-06-22T21:40:50.734315Z",
     "iopub.status.idle": "2022-06-22T21:40:55.752826Z",
     "shell.execute_reply": "2022-06-22T21:40:55.752465Z",
     "shell.execute_reply.started": "2022-06-22T21:40:50.734412Z"
    },
    "tags": []
   },
   "outputs": [
    {
     "data": {
      "text/plain": [
       "'0.1.0'"
      ]
     },
     "execution_count": 9,
     "metadata": {},
     "output_type": "execute_result"
    }
   ],
   "source": [
    "# Autoreload extension\n",
    "if 'autoreload' not in get_ipython().extension_manager.loaded:\n",
    "    %load_ext autoreload\n",
    "%autoreload 2\n",
    "\n",
    "# Basic import\n",
    "import eugene as eu\n",
    "eu.__version__"
   ]
  },
  {
   "cell_type": "markdown",
   "id": "527787b2",
   "metadata": {},
   "source": [
    "# Prep data"
   ]
  },
  {
   "cell_type": "code",
   "execution_count": 10,
   "id": "c2909a3f",
   "metadata": {},
   "outputs": [
    {
     "data": {
      "text/plain": [
       "'CACACCAGAC'"
      ]
     },
     "execution_count": 10,
     "metadata": {},
     "output_type": "execute_result"
    }
   ],
   "source": [
    "seq = eu.utils._random_data.random_seq(seq_len=10)\n",
    "seq"
   ]
  },
  {
   "cell_type": "code",
   "execution_count": 11,
   "id": "19f2e61a",
   "metadata": {},
   "outputs": [
    {
     "data": {
      "text/plain": [
       "array(['TCACCCCGGC', 'GTACATGTTC', 'GTGCAATAAC', 'CCAGTTGATC',\n",
       "       'AGGATGGTTG'], dtype='<U10')"
      ]
     },
     "execution_count": 11,
     "metadata": {},
     "output_type": "execute_result"
    }
   ],
   "source": [
    "seqs = eu.utils._random_data.random_seqs(seq_num=5, seq_len=10)\n",
    "seqs"
   ]
  },
  {
   "cell_type": "code",
   "execution_count": 12,
   "id": "be2bbd3a",
   "metadata": {},
   "outputs": [
    {
     "data": {
      "text/plain": [
       "['CTCCTTTTCC', 'TATCA']"
      ]
     },
     "execution_count": 12,
     "metadata": {},
     "output_type": "execute_result"
    }
   ],
   "source": [
    "jagged_seqs = [eu.utils._random_data.random_seq(seq_len=10), eu.utils._random_data.random_seq(seq_len=5)]\n",
    "jagged_seqs"
   ]
  },
  {
   "cell_type": "markdown",
   "id": "d548d1f0",
   "metadata": {},
   "source": [
    "# Test `_seq_preprocess.py` functions"
   ]
  },
  {
   "cell_type": "markdown",
   "id": "272f9d43",
   "metadata": {},
   "source": [
    "## Sanitize seqs"
   ]
  },
  {
   "cell_type": "code",
   "execution_count": 13,
   "id": "b43a11e7",
   "metadata": {},
   "outputs": [],
   "source": [
    "# TODO: add tests for the following functions"
   ]
  },
  {
   "cell_type": "markdown",
   "id": "67bb1421",
   "metadata": {},
   "source": [
    "## Ascii encode seqs"
   ]
  },
  {
   "cell_type": "code",
   "execution_count": 14,
   "id": "de1bf16a",
   "metadata": {},
   "outputs": [],
   "source": [
    "# TODO: add tests for the following functions"
   ]
  },
  {
   "cell_type": "markdown",
   "id": "548a15ec",
   "metadata": {},
   "source": [
    "## Reverse complement"
   ]
  },
  {
   "cell_type": "code",
   "execution_count": 15,
   "id": "bdfa1bbf",
   "metadata": {},
   "outputs": [],
   "source": [
    "from eugene.preprocessing import reverse_complement_seq, reverse_complement_seqs"
   ]
  },
  {
   "cell_type": "code",
   "execution_count": 16,
   "id": "0f0303e9",
   "metadata": {},
   "outputs": [
    {
     "data": {
      "text/plain": [
       "('CACACCAGAC', 'GTCTGGTGTG', 'CACACCAGAC')"
      ]
     },
     "execution_count": 16,
     "metadata": {},
     "output_type": "execute_result"
    }
   ],
   "source": [
    "rc_seq = reverse_complement_seq(seq)\n",
    "seq, rc_seq, reverse_complement_seq(rc_seq)"
   ]
  },
  {
   "cell_type": "code",
   "execution_count": 17,
   "id": "b999f1da",
   "metadata": {},
   "outputs": [
    {
     "data": {
      "application/vnd.jupyter.widget-view+json": {
       "model_id": "4f0627c1161342758970cca7767fbefe",
       "version_major": 2,
       "version_minor": 0
      },
      "text/plain": [
       "Reverse complementing sequences:   0%|          | 0/5 [00:00<?, ?it/s]"
      ]
     },
     "metadata": {},
     "output_type": "display_data"
    },
    {
     "data": {
      "application/vnd.jupyter.widget-view+json": {
       "model_id": "4d975f59a8c544de92973bc2e3e939f6",
       "version_major": 2,
       "version_minor": 0
      },
      "text/plain": [
       "Reverse complementing sequences:   0%|          | 0/5 [00:00<?, ?it/s]"
      ]
     },
     "metadata": {},
     "output_type": "display_data"
    },
    {
     "data": {
      "text/plain": [
       "(array(['TCACCCCGGC', 'GTACATGTTC', 'GTGCAATAAC', 'CCAGTTGATC',\n",
       "        'AGGATGGTTG'], dtype='<U10'),\n",
       " array(['GCCGGGGTGA', 'GAACATGTAC', 'GTTATTGCAC', 'GATCAACTGG',\n",
       "        'CAACCATCCT'], dtype='<U10'),\n",
       " array(['TCACCCCGGC', 'GTACATGTTC', 'GTGCAATAAC', 'CCAGTTGATC',\n",
       "        'AGGATGGTTG'], dtype='<U10'))"
      ]
     },
     "execution_count": 17,
     "metadata": {},
     "output_type": "execute_result"
    }
   ],
   "source": [
    "rc_seqs = reverse_complement_seqs(seqs)\n",
    "seqs, rc_seqs, reverse_complement_seqs(rc_seqs)"
   ]
  },
  {
   "cell_type": "code",
   "execution_count": 18,
   "id": "de58e42e",
   "metadata": {},
   "outputs": [
    {
     "data": {
      "application/vnd.jupyter.widget-view+json": {
       "model_id": "f231c0da40a0443e9515d1dec2e79859",
       "version_major": 2,
       "version_minor": 0
      },
      "text/plain": [
       "Reverse complementing sequences:   0%|          | 0/2 [00:00<?, ?it/s]"
      ]
     },
     "metadata": {},
     "output_type": "display_data"
    },
    {
     "data": {
      "text/plain": [
       "array(['GGAAAAGGAG', 'TGATA'], dtype='<U10')"
      ]
     },
     "execution_count": 18,
     "metadata": {},
     "output_type": "execute_result"
    }
   ],
   "source": [
    "reverse_complement_seqs(jagged_seqs)"
   ]
  },
  {
   "cell_type": "markdown",
   "id": "5b380a89",
   "metadata": {},
   "source": [
    "## One hot encoding"
   ]
  },
  {
   "cell_type": "code",
   "execution_count": 19,
   "id": "12c3af51",
   "metadata": {},
   "outputs": [],
   "source": [
    "DNA = [\"A\", \"C\", \"G\", \"T\"]\n",
    "RNA = [\"A\", \"C\", \"G\", \"U\"]\n",
    "COMPLEMENT_DNA = {\"A\": \"T\", \"C\": \"G\", \"G\": \"C\", \"T\": \"A\"}\n",
    "COMPLEMENT_RNA = {\"A\": \"U\", \"C\": \"G\", \"G\": \"C\", \"U\": \"A\"}"
   ]
  },
  {
   "cell_type": "code",
   "execution_count": 20,
   "id": "1511bb3c",
   "metadata": {},
   "outputs": [],
   "source": [
    "from eugene.preprocessing._utils import _get_vocab_dict, _get_index_dict"
   ]
  },
  {
   "cell_type": "code",
   "execution_count": 21,
   "id": "b1851ef4",
   "metadata": {},
   "outputs": [
    {
     "data": {
      "text/plain": [
       "({'A': 0, 'C': 1, 'G': 2, 'T': 3}, {0: 'A', 1: 'C', 2: 'G', 3: 'T'})"
      ]
     },
     "execution_count": 21,
     "metadata": {},
     "output_type": "execute_result"
    }
   ],
   "source": [
    "_get_vocab_dict(DNA), _get_index_dict(DNA)"
   ]
  },
  {
   "cell_type": "code",
   "execution_count": 22,
   "id": "b4c42f10",
   "metadata": {},
   "outputs": [],
   "source": [
    "from eugene.preprocessing._utils import _tokenize, _token2one_hot, _one_hot2token, _sequencize"
   ]
  },
  {
   "cell_type": "code",
   "execution_count": 23,
   "id": "0a67358c",
   "metadata": {},
   "outputs": [
    {
     "data": {
      "text/plain": [
       "('CACACCAGAC',\n",
       " [1, 0, 1, 0, 1, 1, 0, 2, 0, 1],\n",
       " array([[0, 1, 0, 0],\n",
       "        [1, 0, 0, 0],\n",
       "        [0, 1, 0, 0],\n",
       "        [1, 0, 0, 0],\n",
       "        [0, 1, 0, 0],\n",
       "        [0, 1, 0, 0],\n",
       "        [1, 0, 0, 0],\n",
       "        [0, 0, 1, 0],\n",
       "        [1, 0, 0, 0],\n",
       "        [0, 1, 0, 0]], dtype=int8),\n",
       " array([1, 0, 1, 0, 1, 1, 0, 2, 0, 1]),\n",
       " 'CACACCAGAC')"
      ]
     },
     "execution_count": 23,
     "metadata": {},
     "output_type": "execute_result"
    }
   ],
   "source": [
    "tokens = _tokenize(seq)\n",
    "ohe = _token2one_hot(tokens)\n",
    "decoded_tokens = _one_hot2token(ohe)\n",
    "decoded_seq = _sequencize(decoded_tokens)\n",
    "seq, tokens, ohe, decoded_tokens, decoded_seq"
   ]
  },
  {
   "cell_type": "code",
   "execution_count": 24,
   "id": "ddcc98ac",
   "metadata": {},
   "outputs": [],
   "source": [
    "from eugene.preprocessing._utils import _pad_sequences "
   ]
  },
  {
   "cell_type": "code",
   "execution_count": 25,
   "id": "faa2e10a",
   "metadata": {},
   "outputs": [
    {
     "data": {
      "text/plain": [
       "(['CTCCTTTTCC', 'NNNNNTATCA'],\n",
       " ['CTCCTTTTCC', 'TATCA$$$$$'],\n",
       " ['CTCCTTTTCC', '000TATCA00'])"
      ]
     },
     "execution_count": 25,
     "metadata": {},
     "output_type": "execute_result"
    }
   ],
   "source": [
    "_pad_sequences(jagged_seqs, align=\"end\", value=\"N\"), _pad_sequences(jagged_seqs, align=\"start\", value=\"$\"), _pad_sequences(jagged_seqs, align=\"center\", value=\"0\")"
   ]
  },
  {
   "cell_type": "code",
   "execution_count": 26,
   "id": "fe8a4ec4",
   "metadata": {},
   "outputs": [
    {
     "data": {
      "text/plain": [
       "('NNNNNTATCA',\n",
       " [-1, -1, -1, -1, -1, 3, 0, 3, 1, 0],\n",
       " array([[0.25, 0.25, 0.25, 0.25],\n",
       "        [0.25, 0.25, 0.25, 0.25],\n",
       "        [0.25, 0.25, 0.25, 0.25],\n",
       "        [0.25, 0.25, 0.25, 0.25],\n",
       "        [0.25, 0.25, 0.25, 0.25],\n",
       "        [0.  , 0.  , 0.  , 1.  ],\n",
       "        [1.  , 0.  , 0.  , 0.  ],\n",
       "        [0.  , 0.  , 0.  , 1.  ],\n",
       "        [0.  , 1.  , 0.  , 0.  ],\n",
       "        [1.  , 0.  , 0.  , 0.  ]], dtype=float16),\n",
       " array([-1, -1, -1, -1, -1,  3,  0,  3,  1,  0]),\n",
       " 'NNNNNTATCA')"
      ]
     },
     "execution_count": 26,
     "metadata": {},
     "output_type": "execute_result"
    }
   ],
   "source": [
    "padded_seqs = _pad_sequences(jagged_seqs, align=\"end\", value=\"N\")\n",
    "tokens = _tokenize(padded_seqs[1])\n",
    "ohe = _token2one_hot(tokens, fill_value=0.25)\n",
    "decoded_tokens = _one_hot2token(ohe)\n",
    "decoded_seq = _sequencize(decoded_tokens)\n",
    "padded_seqs[1], tokens, ohe, decoded_tokens, decoded_seq"
   ]
  },
  {
   "cell_type": "code",
   "execution_count": 27,
   "id": "87dee15a",
   "metadata": {},
   "outputs": [],
   "source": [
    "from eugene.preprocessing import ohe_seq, ohe_seqs, decode_seq, decode_seqs"
   ]
  },
  {
   "cell_type": "code",
   "execution_count": 28,
   "id": "9f510312",
   "metadata": {},
   "outputs": [
    {
     "data": {
      "text/plain": [
       "('CACACCAGAC',\n",
       " array([[0., 1., 0., 0.],\n",
       "        [1., 0., 0., 0.],\n",
       "        [0., 1., 0., 0.],\n",
       "        [1., 0., 0., 0.],\n",
       "        [0., 1., 0., 0.],\n",
       "        [0., 1., 0., 0.],\n",
       "        [1., 0., 0., 0.],\n",
       "        [0., 0., 1., 0.],\n",
       "        [1., 0., 0., 0.],\n",
       "        [0., 1., 0., 0.]], dtype=float16),\n",
       " 'CACACCAGAC')"
      ]
     },
     "execution_count": 28,
     "metadata": {},
     "output_type": "execute_result"
    }
   ],
   "source": [
    "ohe = ohe_seq(seq)\n",
    "decoded_seq = decode_seq(ohe)\n",
    "seq, ohe, decoded_seq"
   ]
  },
  {
   "cell_type": "code",
   "execution_count": 29,
   "id": "0e1dd407",
   "metadata": {},
   "outputs": [
    {
     "data": {
      "application/vnd.jupyter.widget-view+json": {
       "model_id": "4a28a2c27a4048fb91de2da3a1d3c7e4",
       "version_major": 2,
       "version_minor": 0
      },
      "text/plain": [
       "One-hot encoding sequences:   0%|          | 0/5 [00:00<?, ?it/s]"
      ]
     },
     "metadata": {},
     "output_type": "display_data"
    },
    {
     "data": {
      "application/vnd.jupyter.widget-view+json": {
       "model_id": "419b332cffde4b69a14f19e75661efbe",
       "version_major": 2,
       "version_minor": 0
      },
      "text/plain": [
       "Decoding sequences:   0%|          | 0/5 [00:00<?, ?it/s]"
      ]
     },
     "metadata": {},
     "output_type": "display_data"
    },
    {
     "data": {
      "text/plain": [
       "(array(['TCACCCCGGC', 'GTACATGTTC', 'GTGCAATAAC', 'CCAGTTGATC',\n",
       "        'AGGATGGTTG'], dtype='<U10'),\n",
       " array([[[0, 0, 0, 1],\n",
       "         [0, 1, 0, 0],\n",
       "         [1, 0, 0, 0],\n",
       "         [0, 1, 0, 0],\n",
       "         [0, 1, 0, 0],\n",
       "         [0, 1, 0, 0],\n",
       "         [0, 1, 0, 0],\n",
       "         [0, 0, 1, 0],\n",
       "         [0, 0, 1, 0],\n",
       "         [0, 1, 0, 0]],\n",
       " \n",
       "        [[0, 0, 1, 0],\n",
       "         [0, 0, 0, 1],\n",
       "         [1, 0, 0, 0],\n",
       "         [0, 1, 0, 0],\n",
       "         [1, 0, 0, 0],\n",
       "         [0, 0, 0, 1],\n",
       "         [0, 0, 1, 0],\n",
       "         [0, 0, 0, 1],\n",
       "         [0, 0, 0, 1],\n",
       "         [0, 1, 0, 0]],\n",
       " \n",
       "        [[0, 0, 1, 0],\n",
       "         [0, 0, 0, 1],\n",
       "         [0, 0, 1, 0],\n",
       "         [0, 1, 0, 0],\n",
       "         [1, 0, 0, 0],\n",
       "         [1, 0, 0, 0],\n",
       "         [0, 0, 0, 1],\n",
       "         [1, 0, 0, 0],\n",
       "         [1, 0, 0, 0],\n",
       "         [0, 1, 0, 0]],\n",
       " \n",
       "        [[0, 1, 0, 0],\n",
       "         [0, 1, 0, 0],\n",
       "         [1, 0, 0, 0],\n",
       "         [0, 0, 1, 0],\n",
       "         [0, 0, 0, 1],\n",
       "         [0, 0, 0, 1],\n",
       "         [0, 0, 1, 0],\n",
       "         [1, 0, 0, 0],\n",
       "         [0, 0, 0, 1],\n",
       "         [0, 1, 0, 0]],\n",
       " \n",
       "        [[1, 0, 0, 0],\n",
       "         [0, 0, 1, 0],\n",
       "         [0, 0, 1, 0],\n",
       "         [1, 0, 0, 0],\n",
       "         [0, 0, 0, 1],\n",
       "         [0, 0, 1, 0],\n",
       "         [0, 0, 1, 0],\n",
       "         [0, 0, 0, 1],\n",
       "         [0, 0, 0, 1],\n",
       "         [0, 0, 1, 0]]], dtype=int8),\n",
       " array(['TCACCCCGGC', 'GTACATGTTC', 'GTGCAATAAC', 'CCAGTTGATC',\n",
       "        'AGGATGGTTG'], dtype='<U10'))"
      ]
     },
     "execution_count": 29,
     "metadata": {},
     "output_type": "execute_result"
    }
   ],
   "source": [
    "ohes = ohe_seqs(seqs)\n",
    "decoded_seqs = decode_seqs(ohes)\n",
    "seqs, ohes, decoded_seqs"
   ]
  },
  {
   "cell_type": "code",
   "execution_count": 30,
   "id": "c359e019",
   "metadata": {},
   "outputs": [
    {
     "data": {
      "application/vnd.jupyter.widget-view+json": {
       "model_id": "b8dacc0c8d8c45bead77f238a5bf6099",
       "version_major": 2,
       "version_minor": 0
      },
      "text/plain": [
       "One-hot encoding sequences:   0%|          | 0/2 [00:00<?, ?it/s]"
      ]
     },
     "metadata": {},
     "output_type": "display_data"
    },
    {
     "data": {
      "application/vnd.jupyter.widget-view+json": {
       "model_id": "4ee89452e7e6457c9a005d5fb984aecf",
       "version_major": 2,
       "version_minor": 0
      },
      "text/plain": [
       "Decoding sequences:   0%|          | 0/2 [00:00<?, ?it/s]"
      ]
     },
     "metadata": {},
     "output_type": "display_data"
    },
    {
     "data": {
      "text/plain": [
       "(['CTCCTTTTCC', 'TATCA'],\n",
       " array([[[0, 1, 0, 0],\n",
       "         [0, 0, 0, 1],\n",
       "         [0, 1, 0, 0],\n",
       "         [0, 1, 0, 0],\n",
       "         [0, 0, 0, 1],\n",
       "         [0, 0, 0, 1],\n",
       "         [0, 0, 0, 1],\n",
       "         [0, 0, 0, 1],\n",
       "         [0, 1, 0, 0],\n",
       "         [0, 1, 0, 0]],\n",
       " \n",
       "        [[0, 0, 0, 1],\n",
       "         [1, 0, 0, 0],\n",
       "         [0, 0, 0, 1],\n",
       "         [0, 1, 0, 0],\n",
       "         [1, 0, 0, 0],\n",
       "         [0, 0, 0, 0],\n",
       "         [0, 0, 0, 0],\n",
       "         [0, 0, 0, 0],\n",
       "         [0, 0, 0, 0],\n",
       "         [0, 0, 0, 0]]], dtype=int8),\n",
       " array(['CTCCTTTTCC', 'TATCANNNNN'], dtype='<U10'))"
      ]
     },
     "execution_count": 30,
     "metadata": {},
     "output_type": "execute_result"
    }
   ],
   "source": [
    "jagged_ohe_seqs = ohe_seqs(jagged_seqs)\n",
    "jagged_decoded_seqs = decode_seqs(jagged_ohe_seqs)\n",
    "jagged_seqs, jagged_ohe_seqs, jagged_decoded_seqs"
   ]
  },
  {
   "cell_type": "markdown",
   "id": "5f614b30",
   "metadata": {},
   "source": [
    "## Dinucleotide shuffle"
   ]
  },
  {
   "cell_type": "code",
   "execution_count": 31,
   "id": "54535f9f",
   "metadata": {},
   "outputs": [],
   "source": [
    "from eugene.preprocessing import dinuc_shuffle_seq, dinuc_shuffle_seqs"
   ]
  },
  {
   "cell_type": "code",
   "execution_count": 32,
   "id": "f5dcfaee",
   "metadata": {},
   "outputs": [
    {
     "data": {
      "text/plain": [
       "('CACACCAGAC',\n",
       " ['CAGACACCAC',\n",
       "  'CCACAGACAC',\n",
       "  'CACAGACCAC',\n",
       "  'CACCACAGAC',\n",
       "  'CACCAGACAC',\n",
       "  'CCAGACACAC',\n",
       "  'CACACCAGAC',\n",
       "  'CACCAGACAC',\n",
       "  'CACCACAGAC',\n",
       "  'CACCAGACAC'])"
      ]
     },
     "execution_count": 32,
     "metadata": {},
     "output_type": "execute_result"
    }
   ],
   "source": [
    "dnt_shuf_seq = dinuc_shuffle_seq(seq, num_shufs=10)\n",
    "seq, dnt_shuf_seq"
   ]
  },
  {
   "cell_type": "code",
   "execution_count": 33,
   "id": "cacd8eca",
   "metadata": {},
   "outputs": [
    {
     "data": {
      "text/plain": [
       "(array(['TCACCCCGGC', 'GTACATGTTC', 'GTGCAATAAC', 'CCAGTTGATC',\n",
       "        'AGGATGGTTG'], dtype='<U10'),\n",
       " array(['TCCACCCGGC', 'GTGTACATTC', 'GTGCAAATAC', 'CCAGTTGATC',\n",
       "        'AGATTGGGTG'], dtype='<U10'))"
      ]
     },
     "execution_count": 33,
     "metadata": {},
     "output_type": "execute_result"
    }
   ],
   "source": [
    "dnt_shuf_seqs = dinuc_shuffle_seqs(seqs)\n",
    "seqs, dnt_shuf_seqs"
   ]
  },
  {
   "cell_type": "markdown",
   "id": "4537dbfd",
   "metadata": {},
   "source": [
    "## In silico mutagenesis"
   ]
  },
  {
   "cell_type": "code",
   "execution_count": 34,
   "id": "7c913161",
   "metadata": {},
   "outputs": [],
   "source": [
    "from eugene.preprocessing import perturb_seqs"
   ]
  },
  {
   "cell_type": "code",
   "execution_count": 64,
   "id": "b9b23cf9",
   "metadata": {},
   "outputs": [
    {
     "name": "stdout",
     "output_type": "stream",
     "text": [
      "torch.Size([150, 4, 10])\n",
      "torch.Size([5, 30, 4, 10])\n"
     ]
    },
    {
     "name": "stderr",
     "output_type": "stream",
     "text": [
      "/workspaces/EUGENe/eugene/preprocessing/_seq_preprocess.py:281: UserWarning: X_0 has 10 choices, but should have 4. Transposing\n",
      "  \"X_0 has {} choices, but should have 4. Transposing\".format(X_0.shape[1]),\n"
     ]
    }
   ],
   "source": [
    "perturbed_seqs = perturb_seqs(ohes)"
   ]
  },
  {
   "cell_type": "code",
   "execution_count": 73,
   "id": "c8165175",
   "metadata": {},
   "outputs": [
    {
     "data": {
      "text/plain": [
       "(5, 10, 4)"
      ]
     },
     "execution_count": 73,
     "metadata": {},
     "output_type": "execute_result"
    }
   ],
   "source": [
    "ohes.shape"
   ]
  },
  {
   "cell_type": "code",
   "execution_count": 71,
   "id": "173d93cc",
   "metadata": {},
   "outputs": [
    {
     "data": {
      "text/plain": [
       "'TCACCCCGGC'"
      ]
     },
     "execution_count": 71,
     "metadata": {},
     "output_type": "execute_result"
    }
   ],
   "source": [
    "seqs[0]"
   ]
  },
  {
   "cell_type": "code",
   "execution_count": 70,
   "id": "81da2845",
   "metadata": {},
   "outputs": [
    {
     "data": {
      "application/vnd.jupyter.widget-view+json": {
       "model_id": "b76b0566480e455a9453a4fcf504bba1",
       "version_major": 2,
       "version_minor": 0
      },
      "text/plain": [
       "Decoding sequences:   0%|          | 0/30 [00:00<?, ?it/s]"
      ]
     },
     "metadata": {},
     "output_type": "display_data"
    },
    {
     "data": {
      "text/plain": [
       "array(['ACACCCCGGC', 'CCACCCCGGC', 'GCACCCCGGC', 'TGACCCCGGC',\n",
       "       'TTACCCCGGC', 'TAACCCCGGC', 'TCCCCCCGGC', 'TCGCCCCGGC',\n",
       "       'TCTCCCCGGC', 'TCAGCCCGGC', 'TCATCCCGGC', 'TCAACCCGGC',\n",
       "       'TCACGCCGGC', 'TCACTCCGGC', 'TCACACCGGC', 'TCACCGCGGC',\n",
       "       'TCACCTCGGC', 'TCACCACGGC', 'TCACCCGGGC', 'TCACCCTGGC',\n",
       "       'TCACCCAGGC', 'TCACCCCTGC', 'TCACCCCAGC', 'TCACCCCCGC',\n",
       "       'TCACCCCGTC', 'TCACCCCGAC', 'TCACCCCGCC', 'TCACCCCGGG',\n",
       "       'TCACCCCGGT', 'TCACCCCGGA'], dtype='<U10')"
      ]
     },
     "execution_count": 70,
     "metadata": {},
     "output_type": "execute_result"
    }
   ],
   "source": [
    "decode_seqs(perturbed_seqs[0].numpy().transpose(0, 2, 1))"
   ]
  },
  {
   "cell_type": "code",
   "execution_count": 63,
   "id": "9f681202",
   "metadata": {},
   "outputs": [
    {
     "data": {
      "text/plain": [
       "torch.Size([36, 10, 4])"
      ]
     },
     "execution_count": 63,
     "metadata": {},
     "output_type": "execute_result"
    }
   ],
   "source": [
    "perturbed_seqs[0].shape"
   ]
  },
  {
   "cell_type": "code",
   "execution_count": 54,
   "id": "0ec0b82c",
   "metadata": {},
   "outputs": [],
   "source": [
    "import torch\n",
    "import numpy as np\n",
    "def perturb_seq(X_0):\n",
    "    if not isinstance(X_0, np.ndarray):\n",
    "        raise ValueError(\"X_0 must be of type np.ndarray, not {}\".format(type(X_0)))\n",
    "\n",
    "    if len(X_0.shape) != 2:\n",
    "        raise ValueError(\n",
    "            \"X_0 must have three dimensions: (n_seqs, n_choices, seq_len).\"\n",
    "        )\n",
    "    n_choices, seq_len = X_0.shape\n",
    "    idxs = X_0.argmax(axis=1)\n",
    "    X_0 = torch.from_numpy(X_0)\n",
    "\n",
    "    n = seq_len * (n_choices - 1)\n",
    "    X = torch.tile(X_0, (n, 1, 1))\n",
    "    X = X.reshape(n, n_choices, seq_len).permute(1, 0, 2, 3)\n",
    "\n",
    "    for k in range(1, n_choices):\n",
    "        idx = np.arange(seq_len) * (n_choices - 1) + (k - 1)\n",
    "\n",
    "        X[i, idx, idxs[i], np.arange(seq_len)] = 0\n",
    "        X[i, idx, (idxs[i] + k) % n_choices, np.arange(seq_len)] = 1\n",
    "\n",
    "    return X"
   ]
  },
  {
   "cell_type": "code",
   "execution_count": 57,
   "id": "829f924b",
   "metadata": {},
   "outputs": [
    {
     "data": {
      "text/plain": [
       "(5, 10, 4)"
      ]
     },
     "execution_count": 57,
     "metadata": {},
     "output_type": "execute_result"
    }
   ],
   "source": [
    "ohes.shape"
   ]
  },
  {
   "cell_type": "code",
   "execution_count": 55,
   "id": "b2dda640",
   "metadata": {},
   "outputs": [
    {
     "data": {
      "text/plain": [
       "torch.Size([36, 10, 4])"
      ]
     },
     "execution_count": 55,
     "metadata": {},
     "output_type": "execute_result"
    }
   ],
   "source": [
    "perturb_seq(ohes[0]).shape"
   ]
  },
  {
   "cell_type": "code",
   "execution_count": 51,
   "id": "7dd35301",
   "metadata": {},
   "outputs": [
    {
     "data": {
      "text/plain": [
       "array([[0, 0, 0, 1],\n",
       "       [0, 1, 0, 0],\n",
       "       [1, 0, 0, 0],\n",
       "       [0, 1, 0, 0],\n",
       "       [0, 1, 0, 0],\n",
       "       [0, 1, 0, 0],\n",
       "       [0, 1, 0, 0],\n",
       "       [0, 0, 1, 0],\n",
       "       [0, 0, 1, 0],\n",
       "       [0, 1, 0, 0]], dtype=int8)"
      ]
     },
     "execution_count": 51,
     "metadata": {},
     "output_type": "execute_result"
    }
   ],
   "source": [
    "ohes[0]"
   ]
  },
  {
   "cell_type": "code",
   "execution_count": 41,
   "id": "88de43f9",
   "metadata": {},
   "outputs": [
    {
     "data": {
      "text/plain": [
       "torch.Size([5, 30, 4, 10])"
      ]
     },
     "execution_count": 41,
     "metadata": {},
     "output_type": "execute_result"
    }
   ],
   "source": [
    "perturbed_seqs.shape"
   ]
  },
  {
   "cell_type": "markdown",
   "id": "615c8f51",
   "metadata": {},
   "source": [
    "# Preprocess a random dataset by hand"
   ]
  },
  {
   "cell_type": "markdown",
   "id": "85e4ea82",
   "metadata": {},
   "source": [
    "## Load"
   ]
  },
  {
   "cell_type": "code",
   "execution_count": 19,
   "id": "e16cd3bc",
   "metadata": {},
   "outputs": [
    {
     "data": {
      "text/plain": [
       "('seq001',\n",
       " 'CAGCCGGTCCATACACCAAGGGCATCTACTTGGGCAAGGGTGTACCCCTTGTGGCTTGGAAGAAGG',\n",
       " 'CCTTCTTCCAAGCCACAAGGGGTACACCCTTGCCCAAGTAGATGCCCTTGGTGTATGGACCGGCTG',\n",
       " 0.0570990784451763)"
      ]
     },
     "execution_count": 19,
     "metadata": {},
     "output_type": "execute_result"
    }
   ],
   "source": [
    "names, seqs, rev_seqs, targets = eu.dl.read(\"/cellar/users/aklie/data/eugene/random_datasets/random100seqs_66bp/random_seqs.tsv\", seq_col=\"SEQ\", name_col=\"NAME\", target_col=\"ACTIVITY\", rev_comp=True, return_numpy=True)\n",
    "names[0], seqs[0], rev_seqs[0], targets[0]"
   ]
  },
  {
   "cell_type": "markdown",
   "id": "84512b07",
   "metadata": {},
   "source": [
    "## Reverse Complement"
   ]
  },
  {
   "cell_type": "code",
   "execution_count": 20,
   "id": "3397d5a8",
   "metadata": {},
   "outputs": [
    {
     "data": {
      "text/plain": [
       "('CCTTCTTCCAAGCCACAAGGGGTACACCCTTGCCCAAGTAGATGCCCTTGGTGTATGGACCGGCTG',\n",
       " 'CAGCCGGTCCATACACCAAGGGCATCTACTTGGGCAAGGGTGTACCCCTTGTGGCTTGGAAGAAGG',\n",
       " 'CCTTCTTCCAAGCCACAAGGGGTACACCCTTGCCCAAGTAGATGCCCTTGGTGTATGGACCGGCTG')"
      ]
     },
     "execution_count": 20,
     "metadata": {},
     "output_type": "execute_result"
    }
   ],
   "source": [
    "rev_seqs = eu.pp.reverse_complement_seqs(seqs)\n",
    "rev_ohe_seqs = eu.pp.ohe_DNA_seqs(rev_seqs)\n",
    "decoded_rev_seqs = eu.pp.decode_DNA_seqs(rev_ohe_seqs)\n",
    "rev_seqs[0], seqs[0], decoded_rev_seqs[0]"
   ]
  },
  {
   "cell_type": "code",
   "execution_count": 21,
   "id": "a23298eb",
   "metadata": {},
   "outputs": [
    {
     "data": {
      "text/plain": [
       "(array([[0., 1., 0., 0.],\n",
       "        [0., 1., 0., 0.],\n",
       "        [0., 0., 0., 1.],\n",
       "        [0., 0., 0., 1.],\n",
       "        [0., 1., 0., 0.]]),\n",
       " 'CCTTC')"
      ]
     },
     "execution_count": 21,
     "metadata": {},
     "output_type": "execute_result"
    }
   ],
   "source": [
    "rev_ohe_seqs[0][:5], rev_seqs[0][:5]"
   ]
  },
  {
   "cell_type": "markdown",
   "id": "90fc08ae",
   "metadata": {},
   "source": [
    "## One-hot-encoding "
   ]
  },
  {
   "cell_type": "code",
   "execution_count": 22,
   "id": "c36f2171",
   "metadata": {},
   "outputs": [
    {
     "data": {
      "text/plain": [
       "('CAGCCGGTCCATACACCAAGGGCATCTACTTGGGCAAGGGTGTACCCCTTGTGGCTTGGAAGAAGG',\n",
       " array([[0., 1., 0., 0.],\n",
       "        [1., 0., 0., 0.],\n",
       "        [0., 0., 1., 0.],\n",
       "        [0., 1., 0., 0.],\n",
       "        [0., 1., 0., 0.]]),\n",
       " 'CAGCCGGTCCATACACCAAGGGCATCTACTTGGGCAAGGGTGTACCCCTTGTGGCTTGGAAGAAGG')"
      ]
     },
     "execution_count": 22,
     "metadata": {},
     "output_type": "execute_result"
    }
   ],
   "source": [
    "ohe_seq = eu.pp.ohe_DNA_seq(seqs[0])\n",
    "decoded_seq = eu.pp.decode_DNA_seq(ohe_seq)\n",
    "seqs[0], ohe_seq[:5], decoded_seq"
   ]
  },
  {
   "cell_type": "code",
   "execution_count": 23,
   "id": "83a91579",
   "metadata": {},
   "outputs": [
    {
     "data": {
      "text/plain": [
       "('CAGCC',\n",
       " array([[0., 1., 0., 0.],\n",
       "        [1., 0., 0., 0.],\n",
       "        [0., 0., 1., 0.],\n",
       "        [0., 1., 0., 0.],\n",
       "        [0., 1., 0., 0.]]),\n",
       " 'CAGCC')"
      ]
     },
     "execution_count": 23,
     "metadata": {},
     "output_type": "execute_result"
    }
   ],
   "source": [
    "ohe_seqs = eu.pp.ohe_DNA_seqs(seqs)\n",
    "decoded_seqs = eu.pp.decode_DNA_seqs(ohe_seqs)\n",
    "seqs[0][:5], ohe_seqs[0][:5], decoded_seqs[0][:5]"
   ]
  },
  {
   "cell_type": "markdown",
   "id": "7bcf61cc",
   "metadata": {},
   "source": [
    "## Encode Names"
   ]
  },
  {
   "cell_type": "code",
   "execution_count": 24,
   "id": "7079998f",
   "metadata": {},
   "outputs": [
    {
     "data": {
      "text/plain": [
       "('seq001', array([115, 101, 113,  48,  48,  49]), 'seq001')"
      ]
     },
     "execution_count": 24,
     "metadata": {},
     "output_type": "execute_result"
    }
   ],
   "source": [
    "encoded_names = [eu.pp.ascii_encode(name) for name in names]\n",
    "decoded_names = [eu.pp.ascii_decode(name) for name in encoded_names]\n",
    "names[0], encoded_names[0], decoded_names[0]"
   ]
  },
  {
   "cell_type": "markdown",
   "id": "737f26ad",
   "metadata": {},
   "source": [
    "## Dinucleotide Shuffle"
   ]
  },
  {
   "cell_type": "code",
   "execution_count": 25,
   "id": "49060fa0",
   "metadata": {},
   "outputs": [
    {
     "data": {
      "text/plain": [
       "'CCAGGTCCTGGTATTAGCCCAGGGTGCTCAGGGGCACCATTACAAAAACGACCTGGGCTGTTGAGG'"
      ]
     },
     "execution_count": 25,
     "metadata": {},
     "output_type": "execute_result"
    }
   ],
   "source": [
    "eu.pp.dinuc_shuffle_seq(seqs[0])"
   ]
  },
  {
   "cell_type": "code",
   "execution_count": 26,
   "id": "60acbe18",
   "metadata": {},
   "outputs": [
    {
     "data": {
      "text/plain": [
       "'CCAAATGCGGGGCAGTGTCTGCCCCCCAGCTTTCAGGTGGTATAACACACTACTTGGGAGGAAGGG'"
      ]
     },
     "execution_count": 26,
     "metadata": {},
     "output_type": "execute_result"
    }
   ],
   "source": [
    "eu.pp.decode_DNA_seq(eu.pp.dinuc_shuffle_seq(ohe_seqs[0]))"
   ]
  },
  {
   "cell_type": "markdown",
   "id": "5f0177a4",
   "metadata": {},
   "source": [
    "## Dataset Processing"
   ]
  },
  {
   "cell_type": "code",
   "execution_count": 27,
   "id": "16801628",
   "metadata": {},
   "outputs": [
    {
     "data": {
      "text/plain": [
       "(80, 20, 80, 20)"
      ]
     },
     "execution_count": 27,
     "metadata": {},
     "output_type": "execute_result"
    }
   ],
   "source": [
    "train_seqs, test_seqs, train_targets, test_targets = eu.pp.split_train_test(ohe_seqs, targets)\n",
    "len(train_seqs), len(test_seqs), len(train_targets), len(test_targets)"
   ]
  },
  {
   "cell_type": "markdown",
   "id": "683c6cb1",
   "metadata": {},
   "source": [
    "# Working with sdata"
   ]
  },
  {
   "cell_type": "code",
   "execution_count": 29,
   "id": "2f4d0edf",
   "metadata": {},
   "outputs": [],
   "source": [
    "sdata = eu.datasets.random1000()"
   ]
  },
  {
   "cell_type": "code",
   "execution_count": 30,
   "id": "91abdc8c",
   "metadata": {},
   "outputs": [
    {
     "name": "stdout",
     "output_type": "stream",
     "text": [
      "SeqData object modified:\n",
      "\trev_seqs: None -> 1000 rev_seqs added\n",
      "SeqData object modified:\n",
      "\tohe_seqs: None -> 1000 ohe_seqs added\n",
      "\tohe_rev_seqs: None -> 1000 ohe_rev_seqs added\n",
      "SeqData object modified:\n",
      "    seqs_annot:\n",
      "        + TRAIN\n"
     ]
    },
    {
     "data": {
      "text/plain": [
       "SeqData object with = 1000 seqs\n",
       "seqs = (1000,)\n",
       "names = (1000,)\n",
       "rev_seqs = (1000,)\n",
       "ohe_seqs = (1000, 66, 4)\n",
       "ohe_rev_seqs = (1000, 66, 4)\n",
       "seqs_annot: 'TARGETS', 'TRAIN'\n",
       "pos_annot: PyRanges object with 1456 features"
      ]
     },
     "execution_count": 30,
     "metadata": {},
     "output_type": "execute_result"
    }
   ],
   "source": [
    "eu.pp.reverse_complement_data(sdata)\n",
    "eu.pp.one_hot_encode_data(sdata)\n",
    "eu.pp.train_test_split_data(sdata)\n",
    "sdata"
   ]
  },
  {
   "cell_type": "code",
   "execution_count": 31,
   "id": "7bd5ba34",
   "metadata": {},
   "outputs": [
    {
     "data": {
      "application/vnd.jupyter.widget-view+json": {
       "model_id": "1c32b696adf0411da8b862714c019083",
       "version_major": 2,
       "version_minor": 0
      },
      "text/plain": [
       "  0%|          | 0/3 [00:00<?, ?it/s]"
      ]
     },
     "metadata": {},
     "output_type": "display_data"
    },
    {
     "name": "stdout",
     "output_type": "stream",
     "text": [
      "SeqData object modified:\n",
      "\trev_seqs: None -> 1000 rev_seqs added\n",
      "\tohe_seqs: None -> 1000 ohe_seqs added\n",
      "\tohe_rev_seqs: None -> 1000 ohe_rev_seqs added\n",
      "    seqs_annot:\n",
      "        + TRAIN\n"
     ]
    }
   ],
   "source": [
    "sdata = eu.datasets.random1000()\n",
    "eu.pp.prepare_data(sdata)"
   ]
  },
  {
   "cell_type": "markdown",
   "id": "7c911a6b",
   "metadata": {},
   "source": [
    "---"
   ]
  },
  {
   "cell_type": "markdown",
   "id": "7f61e73a",
   "metadata": {},
   "source": [
    "# Scratch"
   ]
  }
 ],
 "metadata": {
  "kernelspec": {
   "display_name": "Python 3.7.13 64-bit",
   "language": "python",
   "name": "python3"
  },
  "language_info": {
   "codemirror_mode": {
    "name": "ipython",
    "version": 3
   },
   "file_extension": ".py",
   "mimetype": "text/x-python",
   "name": "python",
   "nbconvert_exporter": "python",
   "pygments_lexer": "ipython3",
   "version": "3.7.13"
  },
  "vscode": {
   "interpreter": {
    "hash": "949777d72b0d2535278d3dc13498b2535136f6dfe0678499012e853ee9abcab1"
   }
  }
 },
 "nbformat": 4,
 "nbformat_minor": 5
}

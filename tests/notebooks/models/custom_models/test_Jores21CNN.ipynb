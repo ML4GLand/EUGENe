{
 "cells": [
  {
   "cell_type": "markdown",
   "id": "661f6b58",
   "metadata": {},
   "source": [
    "# Testing `Jores21CNN` model class"
   ]
  },
  {
   "cell_type": "markdown",
   "id": "fa64213c",
   "metadata": {
    "tags": []
   },
   "source": [
    "**Authorship:**\n",
    "Adam Klie, *07/31/2022*\n",
    "***\n",
    "**Description:**\n",
    "Notebook for testing out the custom `Jores21CNN` model class."
   ]
  },
  {
   "cell_type": "code",
   "execution_count": 21,
   "metadata": {
    "vscode": {
     "languageId": "python"
    }
   },
   "outputs": [],
   "source": [
    "import numpy as np\n",
    "import pandas as pd\n",
    "import torch\n",
    "\n",
    "# Autoreload extension\n",
    "if 'autoreload' not in get_ipython().extension_manager.loaded:\n",
    "    %load_ext autoreload\n",
    "%autoreload 2"
   ]
  },
  {
   "cell_type": "code",
   "execution_count": 22,
   "metadata": {
    "vscode": {
     "languageId": "python"
    }
   },
   "outputs": [],
   "source": [
    "import eugene as eu"
   ]
  },
  {
   "cell_type": "markdown",
   "metadata": {},
   "source": [
    "# Instantiate a `Jores21CNN` model"
   ]
  },
  {
   "cell_type": "code",
   "execution_count": 89,
   "metadata": {
    "vscode": {
     "languageId": "python"
    }
   },
   "outputs": [
    {
     "data": {
      "text/plain": [
       "Jores21CNN(\n",
       "  (hp_metric): R2Score()\n",
       "  (biconv): BiConv1D()\n",
       "  (conv): Conv1d(128, 128, kernel_size=(13,), stride=(1,), padding=same)\n",
       "  (dropout): Dropout(p=0.15, inplace=False)\n",
       "  (fc): Linear(in_features=21760, out_features=64, bias=True)\n",
       "  (batchnorm): BatchNorm1d(64, eps=1e-05, momentum=0.1, affine=True, track_running_stats=True)\n",
       "  (fc2): Linear(in_features=64, out_features=1, bias=True)\n",
       ")"
      ]
     },
     "execution_count": 89,
     "metadata": {},
     "output_type": "execute_result"
    }
   ],
   "source": [
    "model = eu.models.Jores21CNN(170, 1)\n",
    "model"
   ]
  },
  {
   "cell_type": "code",
   "execution_count": 90,
   "metadata": {
    "vscode": {
     "languageId": "python"
    }
   },
   "outputs": [],
   "source": [
    "x = torch.randn(10, 4, 170)"
   ]
  },
  {
   "cell_type": "code",
   "execution_count": 91,
   "metadata": {
    "vscode": {
     "languageId": "python"
    }
   },
   "outputs": [
    {
     "data": {
      "text/plain": [
       "tensor([[0.4699],\n",
       "        [0.8423],\n",
       "        [1.1953],\n",
       "        [1.1711],\n",
       "        [0.7117],\n",
       "        [0.0583],\n",
       "        [1.0075],\n",
       "        [0.9660],\n",
       "        [0.5447],\n",
       "        [0.7457]], grad_fn=<AddmmBackward0>)"
      ]
     },
     "execution_count": 91,
     "metadata": {},
     "output_type": "execute_result"
    }
   ],
   "source": [
    "model(x)"
   ]
  },
  {
   "cell_type": "code",
   "execution_count": 92,
   "metadata": {
    "vscode": {
     "languageId": "python"
    }
   },
   "outputs": [
    {
     "data": {
      "text/plain": [
       "78"
      ]
     },
     "execution_count": 92,
     "metadata": {},
     "output_type": "execute_result"
    }
   ],
   "source": [
    "core_promoter_elements = eu.utils.MinimalMEME('/cellar/users/aklie/projects/EUGENe/tests/_data/datasets/jores21/CPEs.meme')\n",
    "tf_groups = eu.utils.MinimalMEME('/cellar/users/aklie/projects/EUGENe/tests/_data/datasets/jores21/TF-clusters.meme')\n",
    "all_motifs = {**core_promoter_elements.motifs, **tf_groups.motifs}\n",
    "len(all_motifs)"
   ]
  },
  {
   "cell_type": "code",
   "execution_count": 93,
   "metadata": {
    "vscode": {
     "languageId": "python"
    }
   },
   "outputs": [
    {
     "data": {
      "text/plain": [
       "tensor([[ 5.8025e-02,  2.6416e-02, -3.8535e-02, -1.0577e-02,  4.3315e-02,\n",
       "          2.1613e-02, -1.7688e-02, -5.0108e-02,  4.6055e-02, -2.9319e-02,\n",
       "         -3.8448e-02, -1.5185e-02, -1.7067e-03],\n",
       "        [-4.1143e-03, -3.3956e-02,  6.2217e-04, -4.1170e-02,  4.2986e-02,\n",
       "          2.0373e-02, -1.6676e-02,  2.3642e-02, -3.5047e-02,  4.6149e-02,\n",
       "          5.6794e-03,  3.8404e-02,  6.6676e-05],\n",
       "        [-2.6334e-02, -2.7681e-02, -2.8493e-02, -5.0077e-02,  4.9505e-02,\n",
       "          1.5518e-02,  3.3436e-02,  4.9166e-02, -2.9328e-02,  1.6801e-02,\n",
       "          4.0794e-02, -7.5571e-03,  3.2738e-02],\n",
       "        [-4.1177e-02,  3.2498e-04,  4.9090e-02,  4.4912e-02,  4.4724e-03,\n",
       "          1.5145e-02,  9.6194e-03,  3.7163e-02,  3.9051e-02, -3.7046e-03,\n",
       "          3.5302e-02,  5.0088e-02, -2.5166e-02]])"
      ]
     },
     "execution_count": 93,
     "metadata": {},
     "output_type": "execute_result"
    }
   ],
   "source": [
    "model.biconv.kernels[0][0]"
   ]
  },
  {
   "cell_type": "code",
   "execution_count": 94,
   "metadata": {
    "vscode": {
     "languageId": "python"
    }
   },
   "outputs": [],
   "source": [
    "eu.models.init_from_motifs(\n",
    "    model, \n",
    "    all_motifs, \n",
    "    layer_name='biconv', \n",
    "    kernel_name='kernels',\n",
    "    kernel_number=0\n",
    ")"
   ]
  },
  {
   "cell_type": "code",
   "execution_count": 95,
   "metadata": {
    "vscode": {
     "languageId": "python"
    }
   },
   "outputs": [
    {
     "data": {
      "text/plain": [
       "tensor([[0.5100, 0.6300, 0.9960, 0.4940, 0.0400, 3.8720, 0.0080, 3.9680, 2.6120,\n",
       "         3.8960, 1.3640, 2.7820, 0.5020],\n",
       "        [1.5060, 1.5940, 1.2120, 2.6200, 0.0080, 0.0000, 0.0560, 0.0000, 0.0480,\n",
       "         0.0000, 0.1120, 0.3260, 1.7280],\n",
       "        [0.4780, 0.7960, 0.7880, 0.3020, 0.0080, 0.0000, 0.0240, 0.0080, 0.0080,\n",
       "         0.0320, 0.1440, 0.4780, 1.2660],\n",
       "        [1.5060, 0.9820, 1.0040, 0.5820, 3.9440, 0.1280, 3.9120, 0.0240, 1.3320,\n",
       "         0.0720, 2.3820, 0.4140, 0.5020]])"
      ]
     },
     "execution_count": 95,
     "metadata": {},
     "output_type": "execute_result"
    }
   ],
   "source": [
    "model.biconv.kernels[0][0]"
   ]
  },
  {
   "cell_type": "code",
   "execution_count": 96,
   "metadata": {
    "vscode": {
     "languageId": "python"
    }
   },
   "outputs": [
    {
     "data": {
      "text/plain": [
       "tensor([[1.3220],\n",
       "        [0.1054],\n",
       "        [1.1493],\n",
       "        [0.2871],\n",
       "        [1.2071],\n",
       "        [0.4177],\n",
       "        [1.4466],\n",
       "        [0.3072],\n",
       "        [0.6756],\n",
       "        [0.6425]], grad_fn=<AddmmBackward0>)"
      ]
     },
     "execution_count": 96,
     "metadata": {},
     "output_type": "execute_result"
    }
   ],
   "source": [
    "model(x)"
   ]
  },
  {
   "cell_type": "code",
   "execution_count": 28,
   "metadata": {
    "vscode": {
     "languageId": "python"
    }
   },
   "outputs": [],
   "source": [
    "from eugene.utils._motif import _create_kernel_matrix"
   ]
  },
  {
   "cell_type": "code",
   "execution_count": 46,
   "metadata": {
    "vscode": {
     "languageId": "python"
    }
   },
   "outputs": [],
   "source": [
    "model.__getattr__(\"biconv\").kernels[0] = kern"
   ]
  },
  {
   "cell_type": "code",
   "execution_count": 40,
   "metadata": {
    "vscode": {
     "languageId": "python"
    }
   },
   "outputs": [
    {
     "ename": "SyntaxError",
     "evalue": "invalid syntax (2592916639.py, line 1)",
     "output_type": "error",
     "traceback": [
      "\u001b[0;36m  File \u001b[0;32m\"/tmp/ipykernel_2809931/2592916639.py\"\u001b[0;36m, line \u001b[0;32m1\u001b[0m\n\u001b[0;31m    model.\"biconv\"\u001b[0m\n\u001b[0m                 ^\u001b[0m\n\u001b[0;31mSyntaxError\u001b[0m\u001b[0;31m:\u001b[0m invalid syntax\n"
     ]
    }
   ],
   "source": [
    "model.\"biconv\""
   ]
  },
  {
   "cell_type": "code",
   "execution_count": 36,
   "metadata": {
    "vscode": {
     "languageId": "python"
    }
   },
   "outputs": [],
   "source": [
    "kern = model.biconv.kernels[0]"
   ]
  },
  {
   "cell_type": "code",
   "execution_count": 37,
   "metadata": {
    "vscode": {
     "languageId": "python"
    }
   },
   "outputs": [],
   "source": [
    "kern = _create_kernel_matrix((128, 4, 13), all_motifs)"
   ]
  },
  {
   "cell_type": "code",
   "execution_count": 56,
   "metadata": {
    "vscode": {
     "languageId": "python"
    }
   },
   "outputs": [],
   "source": [
    "model.conv.weight = torch.nn.Parameter(torch.randn(128, 128, 13))"
   ]
  },
  {
   "cell_type": "code",
   "execution_count": 57,
   "metadata": {
    "vscode": {
     "languageId": "python"
    }
   },
   "outputs": [
    {
     "data": {
      "text/plain": [
       "Parameter containing:\n",
       "tensor([[[-1.1160, -0.3325, -0.7744,  ...,  0.0685, -0.1617, -0.7123],\n",
       "         [ 0.0985, -1.0684,  0.9452,  ...,  0.0340,  0.8200, -0.8049],\n",
       "         [-0.3100, -1.2196, -0.4721,  ...,  0.7886,  0.2196,  2.7004],\n",
       "         ...,\n",
       "         [-1.1247, -0.0458, -0.4971,  ...,  0.4404, -1.2233, -0.1531],\n",
       "         [ 0.6456, -0.5590, -1.2134,  ..., -0.5988, -0.2380, -0.2558],\n",
       "         [-0.8898, -1.3874, -0.8575,  ..., -0.4385,  1.1100, -0.2351]],\n",
       "\n",
       "        [[-0.7794,  0.8648, -0.3815,  ..., -1.6818,  0.1235,  1.6162],\n",
       "         [ 0.7390, -1.7336,  0.4566,  ...,  0.1805, -0.2668,  0.9915],\n",
       "         [ 0.9938, -0.0948,  1.4486,  ...,  1.2259, -0.0529,  0.5860],\n",
       "         ...,\n",
       "         [-0.9741, -2.5641, -0.8386,  ...,  0.6279, -2.0081, -1.0378],\n",
       "         [-0.1105,  0.5527, -0.0749,  ..., -0.5626, -0.4269,  0.9372],\n",
       "         [-0.6103,  2.6745,  0.2042,  ..., -1.4715, -0.0636,  0.8312]],\n",
       "\n",
       "        [[-1.8713,  0.9585,  1.2868,  ...,  0.8011,  0.1002,  0.1813],\n",
       "         [-0.8813, -0.4428, -0.6552,  ...,  2.2116, -0.7333, -0.2952],\n",
       "         [ 0.9176,  0.4540,  0.1921,  ...,  0.5704, -0.1935, -0.0619],\n",
       "         ...,\n",
       "         [ 0.4834, -2.1227, -0.0961,  ...,  0.5562, -0.4741,  0.1875],\n",
       "         [ 2.2409,  2.5021, -0.3851,  ...,  1.4255,  0.1176,  1.6271],\n",
       "         [-2.0504, -0.7523, -0.0459,  ...,  0.8371, -0.2201,  0.5072]],\n",
       "\n",
       "        ...,\n",
       "\n",
       "        [[-0.8270,  0.5552, -0.8519,  ..., -0.0312,  0.7769, -0.5204],\n",
       "         [-1.3426,  2.7165, -0.4185,  ...,  0.4012,  1.3280,  0.3382],\n",
       "         [ 1.7115, -2.0949, -1.2283,  ...,  0.6765,  1.5882, -1.0367],\n",
       "         ...,\n",
       "         [-0.1204, -0.1004,  0.1519,  ..., -0.1057, -0.2492, -0.8002],\n",
       "         [ 1.0801,  0.3808,  0.5798,  ..., -0.2676,  1.2737,  0.2731],\n",
       "         [ 0.2874,  1.3103,  2.2645,  ...,  0.3736, -0.6230,  0.3414]],\n",
       "\n",
       "        [[ 2.1960,  0.0416,  0.5965,  ...,  1.5337, -0.3431, -0.5239],\n",
       "         [-0.3504,  2.3995, -0.5174,  ..., -0.1617,  0.1410, -0.7351],\n",
       "         [ 0.2526, -1.0138, -0.4444,  ..., -0.7099,  1.5995,  1.2871],\n",
       "         ...,\n",
       "         [ 1.0917, -0.9538, -1.5787,  ..., -0.3891, -0.3516, -0.9551],\n",
       "         [-0.9018,  1.6121,  0.3049,  ...,  0.0752, -0.0773, -0.1659],\n",
       "         [-0.7044, -0.8433,  0.1669,  ..., -1.4490,  0.6086, -0.2205]],\n",
       "\n",
       "        [[ 1.8735,  0.0935, -0.2253,  ...,  1.2810, -0.3493, -2.0016],\n",
       "         [-0.1917, -0.4573, -1.4948,  ..., -0.3727, -1.9024,  0.0155],\n",
       "         [ 0.5639, -0.2768,  0.5754,  ..., -0.2391, -0.2505,  1.0358],\n",
       "         ...,\n",
       "         [ 0.0492, -1.2838, -1.9506,  ...,  0.3111,  0.4975,  0.3490],\n",
       "         [-0.7728,  1.6625, -0.4513,  ...,  0.6862,  1.0874, -2.0907],\n",
       "         [ 0.9651, -0.2641, -1.4692,  ...,  0.7001, -0.8018, -1.2162]]],\n",
       "       requires_grad=True)"
      ]
     },
     "execution_count": 57,
     "metadata": {},
     "output_type": "execute_result"
    }
   ],
   "source": [
    "model.conv.weight"
   ]
  },
  {
   "cell_type": "code",
   "execution_count": 104,
   "metadata": {
    "vscode": {
     "languageId": "python"
    }
   },
   "outputs": [],
   "source": [
    "core_promoter_elements = MinimalMEME('/cellar/users/aklie/projects/EUGENe/tests/_data/datasets/jores21/CPEs.meme')\n",
    "tf_groups = MinimalMEME('/cellar/users/aklie/projects/EUGENe/tests/_data/datasets/jores21/TF-clusters.meme')\n",
    "all_motifs = {**core_promoter_elements.motifs, **tf_groups.motifs}"
   ]
  },
  {
   "cell_type": "code",
   "execution_count": null,
   "metadata": {
    "vscode": {
     "languageId": "python"
    }
   },
   "outputs": [],
   "source": []
  },
  {
   "cell_type": "code",
   "execution_count": 122,
   "metadata": {
    "vscode": {
     "languageId": "python"
    }
   },
   "outputs": [],
   "source": [
    "kernel = torch.zeros(128, 4, 13)\n",
    "nn.init.xavier_uniform_(kernel)\n",
    "\n",
    "# overwrite part of kernel with pfms from motifs\n",
    "for i, motif_id in enumerate(all_motifs):\n",
    "    motif = all_motifs[motif_id]\n",
    "    # convert PFM to PWM, assume equal background frequency of 0.25\n",
    "    # truncates motifs longer than 13bp to 13bp\n",
    "    kernel[i, :, :min(len(motif), kernel.shape[2])] = torch.tensor(motif.pfm[:min(len(motif), kernel.shape[2]), :] / 0.25).transpose(0, 1)"
   ]
  },
  {
   "cell_type": "code",
   "execution_count": 124,
   "metadata": {
    "vscode": {
     "languageId": "python"
    }
   },
   "outputs": [],
   "source": [
    "model.biconv.kernels[0] = kernel"
   ]
  },
  {
   "cell_type": "code",
   "execution_count": 125,
   "metadata": {
    "vscode": {
     "languageId": "python"
    }
   },
   "outputs": [
    {
     "data": {
      "text/plain": [
       "tensor([[-0.0013],\n",
       "        [ 0.0682],\n",
       "        [ 0.0221],\n",
       "        [-0.0021],\n",
       "        [ 0.0844],\n",
       "        [ 0.1157],\n",
       "        [ 0.0566],\n",
       "        [ 0.2570],\n",
       "        [-0.1326],\n",
       "        [-0.1769]], grad_fn=<AddmmBackward0>)"
      ]
     },
     "execution_count": 125,
     "metadata": {},
     "output_type": "execute_result"
    }
   ],
   "source": [
    "model(x)"
   ]
  },
  {
   "cell_type": "code",
   "execution_count": 18,
   "metadata": {
    "vscode": {
     "languageId": "python"
    }
   },
   "outputs": [
    {
     "ename": "AttributeError",
     "evalue": "module 'eugene.utils' has no attribute 'MinimalMEME'",
     "output_type": "error",
     "traceback": [
      "\u001b[0;31m---------------------------------------------------------------------------\u001b[0m",
      "\u001b[0;31mAttributeError\u001b[0m                            Traceback (most recent call last)",
      "\u001b[0;32m/tmp/ipykernel_2809931/3840676192.py\u001b[0m in \u001b[0;36m<module>\u001b[0;34m\u001b[0m\n\u001b[0;32m----> 1\u001b[0;31m \u001b[0mcore_promoter_elements\u001b[0m \u001b[0;34m=\u001b[0m \u001b[0meu\u001b[0m\u001b[0;34m.\u001b[0m\u001b[0mutils\u001b[0m\u001b[0;34m.\u001b[0m\u001b[0mMinimalMEME\u001b[0m\u001b[0;34m(\u001b[0m\u001b[0;34m'/cellar/users/aklie/projects/EUGENe/tests/_data/datasets/jores21/CPEs.meme'\u001b[0m\u001b[0;34m)\u001b[0m\u001b[0;34m\u001b[0m\u001b[0;34m\u001b[0m\u001b[0m\n\u001b[0m\u001b[1;32m      2\u001b[0m \u001b[0mtf_groups\u001b[0m \u001b[0;34m=\u001b[0m \u001b[0meu\u001b[0m\u001b[0;34m.\u001b[0m\u001b[0mutils\u001b[0m\u001b[0;34m.\u001b[0m\u001b[0mMinimalMEME\u001b[0m\u001b[0;34m(\u001b[0m\u001b[0;34m'/cellar/users/aklie/projects/EUGENe/tests/_data/datasets/jores21/TF-clusters.meme'\u001b[0m\u001b[0;34m)\u001b[0m\u001b[0;34m\u001b[0m\u001b[0;34m\u001b[0m\u001b[0m\n\u001b[1;32m      3\u001b[0m \u001b[0mall_motifs\u001b[0m \u001b[0;34m=\u001b[0m \u001b[0;34m{\u001b[0m\u001b[0;34m**\u001b[0m\u001b[0mcore_promoter_elements\u001b[0m\u001b[0;34m.\u001b[0m\u001b[0mmotifs\u001b[0m\u001b[0;34m,\u001b[0m \u001b[0;34m**\u001b[0m\u001b[0mtf_groups\u001b[0m\u001b[0;34m.\u001b[0m\u001b[0mmotifs\u001b[0m\u001b[0;34m}\u001b[0m\u001b[0;34m\u001b[0m\u001b[0;34m\u001b[0m\u001b[0m\n",
      "\u001b[0;31mAttributeError\u001b[0m: module 'eugene.utils' has no attribute 'MinimalMEME'"
     ]
    }
   ],
   "source": [
    "core_promoter_elements = eu.utils.MinimalMEME('/cellar/users/aklie/projects/EUGENe/tests/_data/datasets/jores21/CPEs.meme')\n",
    "tf_groups = eu.utils.MinimalMEME('/cellar/users/aklie/projects/EUGENe/tests/_data/datasets/jores21/TF-clusters.meme')\n",
    "all_motifs = {**core_promoter_elements.motifs, **tf_groups.motifs}"
   ]
  }
 ],
 "metadata": {
  "kernelspec": {
   "display_name": "Python 3",
   "language": "python",
   "name": "python3"
  },
  "orig_nbformat": 4
 },
 "nbformat": 4,
 "nbformat_minor": 2
}

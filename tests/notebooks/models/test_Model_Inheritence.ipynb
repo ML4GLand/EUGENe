{
 "cells": [
  {
   "cell_type": "markdown",
   "id": "90a88efe-ebb3-424c-8704-fb4ee189af2c",
   "metadata": {},
   "source": [
    "# Testing Model Inheritance"
   ]
  },
  {
   "cell_type": "markdown",
   "id": "2d058003-a667-4b45-9ddc-e47efe48e0e1",
   "metadata": {
    "tags": []
   },
   "source": [
    "**Authorship:**\n",
    "Adam Klie, *04/06/2022*\n",
    "***\n",
    "**Description:**\n",
    "Notebook to test the inheritance of models.\n",
    "***"
   ]
  },
  {
   "cell_type": "code",
   "execution_count": 1,
   "id": "3ebaff6f",
   "metadata": {
    "execution": {
     "iopub.execute_input": "2022-06-22T21:40:50.734456Z",
     "iopub.status.busy": "2022-06-22T21:40:50.734315Z",
     "iopub.status.idle": "2022-06-22T21:40:55.752826Z",
     "shell.execute_reply": "2022-06-22T21:40:55.752465Z",
     "shell.execute_reply.started": "2022-06-22T21:40:50.734412Z"
    },
    "tags": []
   },
   "outputs": [
    {
     "name": "stderr",
     "output_type": "stream",
     "text": [
      "Global seed set to 13\n",
      "Global seed set to 13\n",
      "Global seed set to 13\n"
     ]
    }
   ],
   "source": [
    "# Autoreload extension\n",
    "if 'autoreload' not in get_ipython().extension_manager.loaded:\n",
    "    %load_ext autoreload\n",
    "%autoreload 2\n",
    "\n",
    "# Basic import\n",
    "import eugene as eu"
   ]
  },
  {
   "cell_type": "code",
   "execution_count": 2,
   "id": "b4bd2cf5",
   "metadata": {},
   "outputs": [
    {
     "data": {
      "text/plain": [
       "'0.0.0'"
      ]
     },
     "execution_count": 2,
     "metadata": {},
     "output_type": "execute_result"
    }
   ],
   "source": [
    "eu.__version__"
   ]
  },
  {
   "cell_type": "markdown",
   "id": "524af904",
   "metadata": {
    "tags": []
   },
   "source": [
    "# Instantiate models"
   ]
  },
  {
   "cell_type": "code",
   "execution_count": 3,
   "id": "abceade5-b914-4058-810c-82a28734f4f0",
   "metadata": {
    "execution": {
     "iopub.execute_input": "2022-04-07T06:28:25.663489Z",
     "iopub.status.busy": "2022-04-07T06:28:25.663379Z",
     "iopub.status.idle": "2022-04-07T06:28:26.546059Z",
     "shell.execute_reply": "2022-04-07T06:28:26.545614Z",
     "shell.execute_reply.started": "2022-04-07T06:28:25.663474Z"
    },
    "tags": []
   },
   "outputs": [
    {
     "name": "stdout",
     "output_type": "stream",
     "text": [
      "\u001b[0;31mInit signature:\u001b[0m\n",
      "\u001b[0meu\u001b[0m\u001b[0;34m.\u001b[0m\u001b[0mmodels\u001b[0m\u001b[0;34m.\u001b[0m\u001b[0mDeepSEA\u001b[0m\u001b[0;34m(\u001b[0m\u001b[0;34m\u001b[0m\n",
      "\u001b[0;34m\u001b[0m    \u001b[0minput_len\u001b[0m\u001b[0;34m=\u001b[0m\u001b[0;36m1000\u001b[0m\u001b[0;34m,\u001b[0m\u001b[0;34m\u001b[0m\n",
      "\u001b[0;34m\u001b[0m    \u001b[0moutput_dim\u001b[0m\u001b[0;34m=\u001b[0m\u001b[0;36m1\u001b[0m\u001b[0;34m,\u001b[0m\u001b[0;34m\u001b[0m\n",
      "\u001b[0;34m\u001b[0m    \u001b[0mstrand\u001b[0m\u001b[0;34m=\u001b[0m\u001b[0;34m'ss'\u001b[0m\u001b[0;34m,\u001b[0m\u001b[0;34m\u001b[0m\n",
      "\u001b[0;34m\u001b[0m    \u001b[0mtask\u001b[0m\u001b[0;34m=\u001b[0m\u001b[0;34m'regression'\u001b[0m\u001b[0;34m,\u001b[0m\u001b[0;34m\u001b[0m\n",
      "\u001b[0;34m\u001b[0m    \u001b[0maggr\u001b[0m\u001b[0;34m=\u001b[0m\u001b[0;32mNone\u001b[0m\u001b[0;34m,\u001b[0m\u001b[0;34m\u001b[0m\n",
      "\u001b[0;34m\u001b[0m    \u001b[0mconv_kwargs\u001b[0m\u001b[0;34m=\u001b[0m\u001b[0;34m{\u001b[0m\u001b[0;34m}\u001b[0m\u001b[0;34m,\u001b[0m\u001b[0;34m\u001b[0m\n",
      "\u001b[0;34m\u001b[0m    \u001b[0mfc_kwargs\u001b[0m\u001b[0;34m=\u001b[0m\u001b[0;34m{\u001b[0m\u001b[0;34m}\u001b[0m\u001b[0;34m,\u001b[0m\u001b[0;34m\u001b[0m\n",
      "\u001b[0;34m\u001b[0m\u001b[0;34m)\u001b[0m\u001b[0;34m\u001b[0m\u001b[0;34m\u001b[0m\u001b[0m\n",
      "\u001b[0;31mDocstring:\u001b[0m      Hooks to be used in LightningModule.\n",
      "\u001b[0;31mInit docstring:\u001b[0m\n",
      "Generates a PyTorch module with architecture matching the convnet part of DeepSea. Default parameters are those specified in the DeepSea paper\n",
      "Parameters\n",
      "----------\n",
      "input_len : int, input sequence length\n",
      "channels : list-like or int, channel width for each conv layer. If int each of the three layers will be the same channel width\n",
      "conv_kernels : list-like or int, conv kernel size for each conv layer. If int will be the same for all conv layers\n",
      "pool_kernels : list-like or int, maxpooling kernel size for the first two conv layers. If int will be the same for all conv layers\n",
      "dropout_rates : list-like or float, dropout rates for each conv layer. If int will be the same for all conv layers\n",
      "\u001b[0;31mFile:\u001b[0m           /mnt/beegfs/users/aklie/projects/EUGENE/eugene/models/_sota_models.py\n",
      "\u001b[0;31mType:\u001b[0m           type\n",
      "\u001b[0;31mSubclasses:\u001b[0m     \n"
     ]
    }
   ],
   "source": [
    "eu.models.DeepSEA?"
   ]
  },
  {
   "cell_type": "code",
   "execution_count": 5,
   "id": "4164cec7",
   "metadata": {},
   "outputs": [
    {
     "data": {
      "text/plain": [
       "DeepSEA(\n",
       "  (r_squared): R2Score()\n",
       "  (convnet): BasicConv1D(\n",
       "    (module): Sequential(\n",
       "      (0): Conv1d(4, 320, kernel_size=(8,), stride=(1,))\n",
       "      (1): ReLU()\n",
       "      (2): MaxPool1d(kernel_size=4, stride=4, padding=0, dilation=1, ceil_mode=False)\n",
       "      (3): Dropout(p=0.2, inplace=False)\n",
       "      (4): Conv1d(320, 480, kernel_size=(8,), stride=(1,))\n",
       "      (5): ReLU()\n",
       "      (6): MaxPool1d(kernel_size=4, stride=4, padding=0, dilation=1, ceil_mode=False)\n",
       "      (7): Dropout(p=0.2, inplace=False)\n",
       "      (8): Conv1d(480, 960, kernel_size=(8,), stride=(1,))\n",
       "      (9): ReLU()\n",
       "      (10): Dropout(p=0.5, inplace=False)\n",
       "    )\n",
       "  )\n",
       "  (fcn): BasicFullyConnectedModule(\n",
       "    (module): Sequential(\n",
       "      (0): Linear(in_features=50880, out_features=925, bias=True)\n",
       "      (1): ReLU()\n",
       "      (2): Linear(in_features=925, out_features=1, bias=True)\n",
       "    )\n",
       "  )\n",
       ")"
      ]
     },
     "execution_count": 5,
     "metadata": {},
     "output_type": "execute_result"
    }
   ],
   "source": [
    "#model = eu.models.FCN(input_len=66, output_dim=1)\n",
    "#model = eu.models.CNN(input_len=66, conv_kwargs={\"channels\": [4, 32], \"conv_kernels\": [4], \"pool_kernels\": [2]}, output_dim=1) \n",
    "#model = eu.models.RNN(input_len=66, rnn_kwargs={\"output_dim\":1}, output_dim=1)\n",
    "#model = eu.models.Hybrid(input_len=66, conv_kwargs={\"channels\": [4, 32], \"conv_kernels\": [4], \"pool_kernels\": [2]}, rnn_kwargs={\"output_dim\":1}, output_dim=1)\n",
    "#model = eu.models.DeepBind(input_len=66, output_dim=1)\n",
    "model = eu.models.DeepSEA()\n",
    "model"
   ]
  },
  {
   "cell_type": "code",
   "execution_count": 6,
   "id": "7cbd1a82",
   "metadata": {},
   "outputs": [
    {
     "name": "stdout",
     "output_type": "stream",
     "text": [
      "<class 'eugene.models._sota_models.DeepSEA'>\n",
      "True\n"
     ]
    }
   ],
   "source": [
    "print(type(model))\n",
    "print(isinstance(model, eu.models.base.BaseModel))"
   ]
  },
  {
   "cell_type": "markdown",
   "id": "8708d86e-0cc1-4c5d-b929-f8f2849a2373",
   "metadata": {
    "tags": []
   },
   "source": [
    "# Load data"
   ]
  },
  {
   "cell_type": "code",
   "execution_count": 7,
   "id": "a6d4870e",
   "metadata": {},
   "outputs": [
    {
     "data": {
      "text/plain": [
       "SeqData object with = 1000 seqs\n",
       "seqs = (1000,)\n",
       "names = (1000,)\n",
       "rev_seqs = None\n",
       "ohe_seqs = None\n",
       "ohe_rev_seqs = None\n",
       "seqs_annot: 'TARGETS'\n",
       "pos_annot: PyRanges object with 1456 features"
      ]
     },
     "execution_count": 7,
     "metadata": {},
     "output_type": "execute_result"
    }
   ],
   "source": [
    "sdata = eu.datasets.random1000()\n",
    "sdata"
   ]
  },
  {
   "cell_type": "code",
   "execution_count": 8,
   "id": "fcdde717",
   "metadata": {},
   "outputs": [
    {
     "name": "stdout",
     "output_type": "stream",
     "text": [
      "SeqData object modified:\n",
      "    seqs_annot:\n",
      "        + TRAIN\n"
     ]
    }
   ],
   "source": [
    "eu.pp.train_test_split_data(sdata, kwargs = {\"split\": 0.8})"
   ]
  },
  {
   "cell_type": "markdown",
   "id": "b3689b57-de7f-4104-8042-ae93f1893501",
   "metadata": {
    "tags": []
   },
   "source": [
    "# Train (and time) with PyTorch Lightning"
   ]
  },
  {
   "cell_type": "code",
   "execution_count": 13,
   "id": "955efbc6",
   "metadata": {},
   "outputs": [
    {
     "name": "stderr",
     "output_type": "stream",
     "text": [
      "GPU available: False, used: False\n",
      "TPU available: False, using: 0 TPU cores\n",
      "IPU available: False, using: 0 IPUs\n",
      "\n",
      "  | Name      | Type                      | Params\n",
      "--------------------------------------------------------\n",
      "0 | r_squared | R2Score                   | 0     \n",
      "1 | max_pool  | MaxPool1d                 | 0     \n",
      "2 | avg_pool  | AvgPool1d                 | 0     \n",
      "3 | convnet   | BasicConv1D               | 272   \n",
      "4 | fcn       | BasicFullyConnectedModule | 146 K \n",
      "--------------------------------------------------------\n",
      "147 K     Trainable params\n",
      "0         Non-trainable params\n",
      "147 K     Total params\n",
      "0.588     Total estimated model params size (MB)\n"
     ]
    },
    {
     "data": {
      "application/vnd.jupyter.widget-view+json": {
       "model_id": "9ba1c9df3c594a2294871efa7becc462",
       "version_major": 2,
       "version_minor": 0
      },
      "text/plain": [
       "Validation sanity check: 0it [00:00, ?it/s]"
      ]
     },
     "metadata": {},
     "output_type": "display_data"
    },
    {
     "name": "stderr",
     "output_type": "stream",
     "text": [
      "Global seed set to 13\n",
      "/cellar/users/aklie/opt/miniconda3/envs/eugene/lib/python3.7/site-packages/pytorch_lightning/trainer/data_loading.py:433: UserWarning: The number of training samples (25) is smaller than the logging interval Trainer(log_every_n_steps=50). Set a lower value for log_every_n_steps if you want to see logs for the training epoch.\n",
      "  f\"The number of training samples ({self.num_training_batches}) is smaller than the logging interval\"\n"
     ]
    },
    {
     "data": {
      "application/vnd.jupyter.widget-view+json": {
       "model_id": "eeeb279745ba468fbde7c863e64e8c17",
       "version_major": 2,
       "version_minor": 0
      },
      "text/plain": [
       "Training: 0it [00:00, ?it/s]"
      ]
     },
     "metadata": {},
     "output_type": "display_data"
    },
    {
     "data": {
      "application/vnd.jupyter.widget-view+json": {
       "model_id": "f182b13da5d84d41bd98a3344723e316",
       "version_major": 2,
       "version_minor": 0
      },
      "text/plain": [
       "Validating: 0it [00:00, ?it/s]"
      ]
     },
     "metadata": {},
     "output_type": "display_data"
    },
    {
     "data": {
      "application/vnd.jupyter.widget-view+json": {
       "model_id": "0c0ec7895c2d439a975d8f5316dce4ff",
       "version_major": 2,
       "version_minor": 0
      },
      "text/plain": [
       "Validating: 0it [00:00, ?it/s]"
      ]
     },
     "metadata": {},
     "output_type": "display_data"
    },
    {
     "data": {
      "application/vnd.jupyter.widget-view+json": {
       "model_id": "672d04b76f3c4863946a7e2875e19b68",
       "version_major": 2,
       "version_minor": 0
      },
      "text/plain": [
       "Validating: 0it [00:00, ?it/s]"
      ]
     },
     "metadata": {},
     "output_type": "display_data"
    },
    {
     "name": "stderr",
     "output_type": "stream",
     "text": [
      "GPU available: False, used: False\n",
      "TPU available: False, using: 0 TPU cores\n",
      "IPU available: False, using: 0 IPUs\n",
      "GPU available: False, used: False\n",
      "TPU available: False, using: 0 TPU cores\n",
      "IPU available: False, using: 0 IPUs\n"
     ]
    },
    {
     "data": {
      "application/vnd.jupyter.widget-view+json": {
       "model_id": "1edeb9f56ac745ce9767cf14661bd0f6",
       "version_major": 2,
       "version_minor": 0
      },
      "text/plain": [
       "Predicting: 0it [00:00, ?it/s]"
      ]
     },
     "metadata": {},
     "output_type": "display_data"
    },
    {
     "data": {
      "application/vnd.jupyter.widget-view+json": {
       "model_id": "f9f2e2749c074b538c9f98f71603db62",
       "version_major": 2,
       "version_minor": 0
      },
      "text/plain": [
       "Predicting: 0it [00:00, ?it/s]"
      ]
     },
     "metadata": {},
     "output_type": "display_data"
    },
    {
     "name": "stdout",
     "output_type": "stream",
     "text": [
      "SeqData object modified:\n",
      "    seqs_annot:\n",
      "        + PREDICTIONS\n"
     ]
    }
   ],
   "source": [
    "eu.train.fit(model, sdata=sdata, epochs=3, num_workers=4, log_dir=\"../_logs\", out_dir=\"../_out/\")"
   ]
  },
  {
   "cell_type": "markdown",
   "id": "42a371fb",
   "metadata": {},
   "source": [
    "---"
   ]
  }
 ],
 "metadata": {
  "kernelspec": {
   "display_name": "Python 3.7.12 ('eugene')",
   "language": "python",
   "name": "python3"
  },
  "language_info": {
   "codemirror_mode": {
    "name": "ipython",
    "version": 3
   },
   "file_extension": ".py",
   "mimetype": "text/x-python",
   "name": "python",
   "nbconvert_exporter": "python",
   "pygments_lexer": "ipython3",
   "version": "3.7.12"
  },
  "vscode": {
   "interpreter": {
    "hash": "1330bbbf2c4cf53098ef1254540d5dd54a9d501f0408fea1c04a20872667b797"
   }
  }
 },
 "nbformat": 4,
 "nbformat_minor": 5
}

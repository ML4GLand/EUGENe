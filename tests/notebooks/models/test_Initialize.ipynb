{
 "cells": [
  {
   "cell_type": "code",
   "execution_count": 1,
   "metadata": {},
   "outputs": [
    {
     "name": "stderr",
     "output_type": "stream",
     "text": [
      "Global seed set to 13\n",
      "2022-09-26 20:55:21.498172: I tensorflow/core/platform/cpu_feature_guard.cc:193] This TensorFlow binary is optimized with oneAPI Deep Neural Network Library (oneDNN) to use the following CPU instructions in performance-critical operations:  AVX2 AVX512F FMA\n",
      "To enable them in other operations, rebuild TensorFlow with the appropriate compiler flags.\n",
      "2022-09-26 20:55:21.724834: W tensorflow/stream_executor/platform/default/dso_loader.cc:64] Could not load dynamic library 'libcudart.so.11.0'; dlerror: libcudart.so.11.0: cannot open shared object file: No such file or directory\n",
      "2022-09-26 20:55:21.724866: I tensorflow/stream_executor/cuda/cudart_stub.cc:29] Ignore above cudart dlerror if you do not have a GPU set up on your machine.\n",
      "2022-09-26 20:55:21.758242: E tensorflow/stream_executor/cuda/cuda_blas.cc:2981] Unable to register cuBLAS factory: Attempting to register factory for plugin cuBLAS when one has already been registered\n",
      "2022-09-26 20:55:22.634552: W tensorflow/stream_executor/platform/default/dso_loader.cc:64] Could not load dynamic library 'libnvinfer.so.7'; dlerror: libnvinfer.so.7: cannot open shared object file: No such file or directory\n",
      "2022-09-26 20:55:22.634688: W tensorflow/stream_executor/platform/default/dso_loader.cc:64] Could not load dynamic library 'libnvinfer_plugin.so.7'; dlerror: libnvinfer_plugin.so.7: cannot open shared object file: No such file or directory\n",
      "2022-09-26 20:55:22.634700: W tensorflow/compiler/tf2tensorrt/utils/py_utils.cc:38] TF-TRT Warning: Cannot dlopen some TensorRT libraries. If you would like to use Nvidia GPU with TensorRT, please make sure the missing libraries mentioned above are installed properly.\n"
     ]
    }
   ],
   "source": [
    "# Autoreload extension\n",
    "if 'autoreload' not in get_ipython().extension_manager.loaded:\n",
    "    %load_ext autoreload\n",
    "%autoreload 2\n",
    "\n",
    "import numpy as np\n",
    "import pandas as pd\n",
    "import eugene as eu"
   ]
  },
  {
   "cell_type": "code",
   "execution_count": 30,
   "metadata": {},
   "outputs": [],
   "source": [
    "test_model = eu.models.Jores21CNN(input_len=66, output_dim=1)"
   ]
  },
  {
   "cell_type": "code",
   "execution_count": 38,
   "metadata": {},
   "outputs": [
    {
     "data": {
      "text/plain": [
       "tensor([ 0.0612, -0.0536,  0.2887, -0.1920,  0.3159, -0.2874,  0.0552,  0.0625,\n",
       "        -0.0778, -0.2019, -0.2042, -0.0334,  0.1407],\n",
       "       grad_fn=<SelectBackward0>)"
      ]
     },
     "execution_count": 38,
     "metadata": {},
     "output_type": "execute_result"
    }
   ],
   "source": [
    "test_model.biconv.kernels[0][0][0]"
   ]
  },
  {
   "cell_type": "code",
   "execution_count": 39,
   "metadata": {},
   "outputs": [
    {
     "name": "stdout",
     "output_type": "stream",
     "text": [
      "Initializing Parameter containing:\n",
      "tensor([[[ 0.0612, -0.0536,  0.2887,  ..., -0.2042, -0.0334,  0.1407],\n",
      "         [-0.1950,  0.1743, -0.1812,  ..., -0.0642, -0.1494,  0.0763],\n",
      "         [-0.0470,  0.1843, -0.0274,  ...,  0.0056, -0.1053, -0.1083],\n",
      "         [ 0.0811, -0.2294, -0.4775,  ..., -0.1892, -0.1242, -0.0157]],\n",
      "\n",
      "        [[ 0.0996, -0.0074,  0.3859,  ..., -0.1124, -0.0520,  0.1077],\n",
      "         [ 0.4660,  0.0969, -0.0276,  ..., -0.1436,  0.2889,  0.1241],\n",
      "         [ 0.0409, -0.2220, -0.1669,  ..., -0.2784,  0.0202, -0.4784],\n",
      "         [ 0.0532,  0.0534,  0.0575,  ...,  0.2235,  0.1281, -0.2048]],\n",
      "\n",
      "        [[-0.0023,  0.2004,  0.2376,  ...,  0.1524, -0.1352, -0.4274],\n",
      "         [ 0.0683,  0.0976, -0.1108,  ..., -0.0626,  0.0666, -0.0328],\n",
      "         [-0.2985,  0.0101, -0.2466,  ...,  0.0508,  0.0229, -0.0469],\n",
      "         [ 0.2460,  0.0740,  0.4381,  ..., -0.0100,  0.0438,  0.0786]],\n",
      "\n",
      "        ...,\n",
      "\n",
      "        [[-0.0776, -0.1389,  0.0336,  ..., -0.1651,  0.2761, -0.1048],\n",
      "         [ 0.0726,  0.2479, -0.1675,  ...,  0.2264,  0.2171, -0.1362],\n",
      "         [-0.3040, -0.1683,  0.0211,  ..., -0.1667,  0.0503,  0.0690],\n",
      "         [-0.0135, -0.0733, -0.1389,  ..., -0.1250, -0.1393, -0.1102]],\n",
      "\n",
      "        [[-0.1299,  0.1264, -0.1425,  ..., -0.1557,  0.0106,  0.4373],\n",
      "         [ 0.1626,  0.2805,  0.0558,  ..., -0.4547,  0.3191,  0.1312],\n",
      "         [-0.3376, -0.0241, -0.1576,  ...,  0.2110,  0.0253, -0.0863],\n",
      "         [-0.4284,  0.1059,  0.0552,  ..., -0.2265, -0.3579, -0.0390]],\n",
      "\n",
      "        [[ 0.0521, -0.0442,  0.3224,  ..., -0.3900, -0.0627, -0.4359],\n",
      "         [ 0.0619, -0.0880,  0.0499,  ...,  0.1610, -0.4625,  0.2696],\n",
      "         [ 0.1973,  0.0073,  0.0402,  ..., -0.0471, -0.2237, -0.0641],\n",
      "         [ 0.0310,  0.2312,  0.3599,  ...,  0.1833,  0.0546,  0.1439]]],\n",
      "       requires_grad=True) with kaiming_normal\n",
      "Initializing Parameter containing:\n",
      "tensor([[[ 0.0048, -0.0024,  0.0268,  ...,  0.0018,  0.0486, -0.0435],\n",
      "         [-0.0715,  0.0127, -0.0170,  ...,  0.0541, -0.0154,  0.0103],\n",
      "         [-0.0728,  0.0196,  0.0603,  ..., -0.0149,  0.0002,  0.0358],\n",
      "         ...,\n",
      "         [-0.0332,  0.0064,  0.0132,  ...,  0.0415,  0.0450,  0.0724],\n",
      "         [ 0.0354, -0.0334, -0.0120,  ...,  0.0654,  0.0843, -0.0559],\n",
      "         [-0.0055, -0.0122,  0.0031,  ..., -0.0138,  0.0121,  0.0297]],\n",
      "\n",
      "        [[-0.0045, -0.0510, -0.0552,  ..., -0.0091, -0.0167, -0.0057],\n",
      "         [ 0.0349, -0.0033,  0.0126,  ...,  0.0058,  0.0578, -0.0356],\n",
      "         [ 0.0033,  0.0177, -0.0249,  ..., -0.0120, -0.0003,  0.0255],\n",
      "         ...,\n",
      "         [-0.0325,  0.0340, -0.0231,  ..., -0.0200, -0.0248,  0.0286],\n",
      "         [ 0.0201, -0.0119,  0.0063,  ...,  0.0008, -0.0060, -0.0260],\n",
      "         [ 0.0089,  0.0320, -0.0779,  ..., -0.0207,  0.0003,  0.0054]],\n",
      "\n",
      "        [[ 0.0230,  0.0133,  0.0469,  ...,  0.0015,  0.0107,  0.0126],\n",
      "         [ 0.0159, -0.0243,  0.0020,  ..., -0.0119,  0.0084,  0.0097],\n",
      "         [-0.0082,  0.0163,  0.0226,  ...,  0.0691, -0.0425,  0.0308],\n",
      "         ...,\n",
      "         [-0.0147, -0.0241,  0.0749,  ...,  0.0282, -0.0227,  0.0605],\n",
      "         [ 0.0051,  0.0134,  0.0462,  ..., -0.0240,  0.0255,  0.0051],\n",
      "         [-0.0019,  0.0214, -0.0059,  ..., -0.0508,  0.0063,  0.0201]],\n",
      "\n",
      "        ...,\n",
      "\n",
      "        [[ 0.0286, -0.0393,  0.0172,  ..., -0.0138, -0.0052,  0.0006],\n",
      "         [-0.0068, -0.0156,  0.0212,  ...,  0.0400,  0.0356, -0.0733],\n",
      "         [ 0.0004, -0.0399, -0.0464,  ..., -0.0698,  0.0138, -0.0096],\n",
      "         ...,\n",
      "         [ 0.0345, -0.0016,  0.0354,  ...,  0.0029,  0.0016, -0.0358],\n",
      "         [-0.0391,  0.0370, -0.0282,  ...,  0.0310,  0.0247, -0.0630],\n",
      "         [-0.0453, -0.0104,  0.0119,  ..., -0.0503,  0.0021, -0.0238]],\n",
      "\n",
      "        [[ 0.0457,  0.0113,  0.0307,  ...,  0.0227, -0.0184,  0.0174],\n",
      "         [-0.0286,  0.0348, -0.0230,  ..., -0.0605, -0.0119, -0.0462],\n",
      "         [ 0.0077,  0.0848, -0.0549,  ..., -0.0828, -0.0212, -0.0318],\n",
      "         ...,\n",
      "         [ 0.0583,  0.0080, -0.0228,  ..., -0.0397,  0.0279, -0.0737],\n",
      "         [-0.0103,  0.0291, -0.0152,  ..., -0.0063, -0.0296, -0.0397],\n",
      "         [-0.0728, -0.0063, -0.0132,  ..., -0.0569,  0.0011, -0.0335]],\n",
      "\n",
      "        [[ 0.0839,  0.0012,  0.0028,  ..., -0.0088, -0.0288,  0.0113],\n",
      "         [-0.0375, -0.0102, -0.0506,  ...,  0.0396,  0.0286, -0.0222],\n",
      "         [-0.0062,  0.0360,  0.0321,  ..., -0.0085, -0.0017, -0.0059],\n",
      "         ...,\n",
      "         [ 0.0098, -0.0051, -0.0082,  ...,  0.0297, -0.0480,  0.0002],\n",
      "         [-0.0173,  0.0255, -0.0494,  ..., -0.0027, -0.0439,  0.0585],\n",
      "         [-0.0188,  0.0274,  0.0217,  ..., -0.0571,  0.0170, -0.0508]]],\n",
      "       requires_grad=True) with kaiming_normal\n",
      "Initializing Conv1d(128, 128, kernel_size=(13,), stride=(1,), padding=same) with kaiming_normal\n",
      "Initializing Linear(in_features=8448, out_features=64, bias=True) with kaiming_normal\n",
      "Initializing Linear(in_features=64, out_features=1, bias=True) with kaiming_normal\n"
     ]
    }
   ],
   "source": [
    "eu.models.init_weights(test_model)"
   ]
  },
  {
   "cell_type": "code",
   "execution_count": 40,
   "metadata": {},
   "outputs": [
    {
     "data": {
      "text/plain": [
       "tensor([-0.4188,  0.0741, -0.1926, -0.3829, -0.1939,  0.1521,  0.5470,  0.0652,\n",
       "         0.0006,  0.1485, -0.0212, -0.0861,  0.2850],\n",
       "       grad_fn=<SelectBackward0>)"
      ]
     },
     "execution_count": 40,
     "metadata": {},
     "output_type": "execute_result"
    }
   ],
   "source": [
    "test_model.biconv.kernels[0][0][0]"
   ]
  },
  {
   "cell_type": "code",
   "execution_count": null,
   "metadata": {},
   "outputs": [],
   "source": []
  }
 ],
 "metadata": {
  "kernelspec": {
   "display_name": "Python 3.7.13 64-bit",
   "language": "python",
   "name": "python3"
  },
  "language_info": {
   "codemirror_mode": {
    "name": "ipython",
    "version": 3
   },
   "file_extension": ".py",
   "mimetype": "text/x-python",
   "name": "python",
   "nbconvert_exporter": "python",
   "pygments_lexer": "ipython3",
   "version": "3.7.13"
  },
  "orig_nbformat": 4,
  "vscode": {
   "interpreter": {
    "hash": "949777d72b0d2535278d3dc13498b2535136f6dfe0678499012e853ee9abcab1"
   }
  }
 },
 "nbformat": 4,
 "nbformat_minor": 2
}

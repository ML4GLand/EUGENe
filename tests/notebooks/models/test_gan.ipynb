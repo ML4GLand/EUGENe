{
 "cells": [
  {
   "cell_type": "code",
   "execution_count": 1,
   "id": "0e9ca43f-c2c5-4289-a69a-2e70385defdf",
   "metadata": {},
   "outputs": [
    {
     "name": "stderr",
     "output_type": "stream",
     "text": [
      "Global seed set to 13\n"
     ]
    },
    {
     "name": "stdout",
     "output_type": "stream",
     "text": [
      "GPU is available: True\n",
      "Number of GPUs: 1\n",
      "Current GPU: 0\n",
      "GPUs: NVIDIA GeForce RTX 2070\n"
     ]
    },
    {
     "data": {
      "text/plain": [
       "'0.0.6'"
      ]
     },
     "execution_count": 1,
     "metadata": {},
     "output_type": "execute_result"
    }
   ],
   "source": [
    "import pandas as pd\n",
    "import numpy as np\n",
    "import torch\n",
    "\n",
    "from eugene.dataload._io import read_numpy, read\n",
    "\n",
    "# Autoreload extension\n",
    "if 'autoreload' not in get_ipython().extension_manager.loaded:\n",
    "    %load_ext autoreload\n",
    "%autoreload 2\n",
    "\n",
    "# Basic import\n",
    "import eugene as eu\n",
    "eu.__version__"
   ]
  },
  {
   "cell_type": "code",
   "execution_count": 2,
   "id": "25d3606c",
   "metadata": {},
   "outputs": [],
   "source": [
    "sdata = read_numpy(\"chr1.npy_ohe_seqs.npy\", ohe=True)"
   ]
  },
  {
   "cell_type": "code",
   "execution_count": 3,
   "id": "b20b8606",
   "metadata": {},
   "outputs": [
    {
     "name": "stdout",
     "output_type": "stream",
     "text": [
      "SeqData object modified:\n",
      "    seqs_annot:\n",
      "        + train_val\n"
     ]
    }
   ],
   "source": [
    "eu.pp.train_test_split_sdata(sdata)"
   ]
  },
  {
   "cell_type": "code",
   "execution_count": 4,
   "id": "f6cc0dba",
   "metadata": {},
   "outputs": [],
   "source": [
    "seq_len = 50\n",
    "seq_dim = seq_len * 4\n",
    "latent_dim = 300"
   ]
  },
  {
   "cell_type": "code",
   "execution_count": 5,
   "id": "cca291be",
   "metadata": {},
   "outputs": [
    {
     "data": {
      "text/plain": [
       "Sequential(\n",
       "  (0): FCN(\n",
       "    (hp_metric): R2Score()\n",
       "    (fcnet): BasicFullyConnectedModule(\n",
       "      (module): Sequential(\n",
       "        (0): Linear(in_features=1200, out_features=300, bias=True)\n",
       "        (1): ReLU()\n",
       "        (2): Linear(in_features=300, out_features=200, bias=True)\n",
       "      )\n",
       "    )\n",
       "  )\n",
       "  (1): Tanh()\n",
       ")"
      ]
     },
     "execution_count": 5,
     "metadata": {},
     "output_type": "execute_result"
    }
   ],
   "source": [
    "generator = torch.nn.Sequential(\n",
    "    eu.models.FCN(\n",
    "        input_len=latent_dim,\n",
    "        output_dim=seq_dim,\n",
    "        fc_kwargs=dict(hidden_dims=[300])\n",
    "    ),\n",
    "    torch.nn.Tanh()\n",
    ")\n",
    "generator"
   ]
  },
  {
   "cell_type": "code",
   "execution_count": 6,
   "id": "58e4aa50",
   "metadata": {},
   "outputs": [
    {
     "data": {
      "text/plain": [
       "Sequential(\n",
       "  (0): FCN(\n",
       "    (hp_metric): R2Score()\n",
       "    (fcnet): BasicFullyConnectedModule(\n",
       "      (module): Sequential(\n",
       "        (0): Linear(in_features=200, out_features=256, bias=True)\n",
       "        (1): ReLU()\n",
       "        (2): Linear(in_features=256, out_features=64, bias=True)\n",
       "        (3): ReLU()\n",
       "        (4): Linear(in_features=64, out_features=1, bias=True)\n",
       "      )\n",
       "    )\n",
       "  )\n",
       "  (1): Sigmoid()\n",
       ")"
      ]
     },
     "execution_count": 6,
     "metadata": {},
     "output_type": "execute_result"
    }
   ],
   "source": [
    "discriminator = torch.nn.Sequential(\n",
    "    eu.models.FCN(\n",
    "        input_len=seq_len,\n",
    "        output_dim=1,\n",
    "        fc_kwargs=dict(hidden_dims=[256, 64]),\n",
    "    ),\n",
    "    torch.nn.Sigmoid()\n",
    ")\n",
    "discriminator"
   ]
  },
  {
   "cell_type": "code",
   "execution_count": 7,
   "id": "cc1cdedb",
   "metadata": {},
   "outputs": [],
   "source": [
    "model = eu.models.GAN(\n",
    "    latent_dim=latent_dim, \n",
    "    generator=generator, \n",
    "    discriminator=discriminator,\n",
    "    mode=\"gan\",\n",
    "    grad_clip=0.01,\n",
    "    gen_lr=1e-3,\n",
    "    disc_lr=1e-3,\n",
    ")"
   ]
  },
  {
   "cell_type": "code",
   "execution_count": 8,
   "id": "5e6e8646",
   "metadata": {},
   "outputs": [
    {
     "name": "stderr",
     "output_type": "stream",
     "text": [
      "Global seed set to 13\n",
      "GPU available: True, used: False\n",
      "TPU available: False, using: 0 TPU cores\n",
      "IPU available: False, using: 0 IPUs\n"
     ]
    },
    {
     "name": "stdout",
     "output_type": "stream",
     "text": [
      "No transforms given, assuming just need to tensorize.\n",
      "No transforms given, assuming just need to tensorize.\n"
     ]
    },
    {
     "name": "stderr",
     "output_type": "stream",
     "text": [
      "c:\\Users\\Lab\\anaconda3\\envs\\eugene\\lib\\site-packages\\pytorch_lightning\\trainer\\trainer.py:1584: UserWarning: GPU available but not used. Set the gpus flag in your trainer `Trainer(gpus=1)` or script `--gpus=1`.\n",
      "  rank_zero_warn(\n",
      "\n",
      "  | Name          | Type       | Params\n",
      "---------------------------------------------\n",
      "0 | generator     | Sequential | 420 K \n",
      "1 | discriminator | Sequential | 68.0 K\n",
      "---------------------------------------------\n",
      "488 K     Trainable params\n",
      "0         Non-trainable params\n",
      "488 K     Total params\n",
      "1.954     Total estimated model params size (MB)\n"
     ]
    },
    {
     "data": {
      "application/vnd.jupyter.widget-view+json": {
       "model_id": "31446664858941c689dca2ea3dd18b76",
       "version_major": 2,
       "version_minor": 0
      },
      "text/plain": [
       "Validation sanity check: 0it [00:00, ?it/s]"
      ]
     },
     "metadata": {},
     "output_type": "display_data"
    },
    {
     "name": "stderr",
     "output_type": "stream",
     "text": [
      "Global seed set to 13\n"
     ]
    },
    {
     "data": {
      "application/vnd.jupyter.widget-view+json": {
       "model_id": "c29ea43c13ac459899d76064f2038673",
       "version_major": 2,
       "version_minor": 0
      },
      "text/plain": [
       "Training: 0it [00:00, ?it/s]"
      ]
     },
     "metadata": {},
     "output_type": "display_data"
    },
    {
     "name": "stderr",
     "output_type": "stream",
     "text": [
      "c:\\Users\\Lab\\anaconda3\\envs\\eugene\\lib\\site-packages\\pytorch_lightning\\trainer\\trainer.py:688: UserWarning: Detected KeyboardInterrupt, attempting graceful shutdown...\n",
      "  rank_zero_warn(\"Detected KeyboardInterrupt, attempting graceful shutdown...\")\n"
     ]
    }
   ],
   "source": [
    "eu.settings.batch_size = 256\n",
    "eu.settings.dl_num_workers = 8\n",
    "eu.settings.dl_pin_memory_gpu_training = True\n",
    "eu.train.fit(\n",
    "    model=model,\n",
    "    sdata=sdata,\n",
    "    early_stopping_callback=False,\n",
    "    gpus=0,\n",
    "    early_stopping_metric=\"val_generator_loss\"\n",
    ")"
   ]
  },
  {
   "cell_type": "markdown",
   "id": "7dc78854-191e-4714-bc83-7fa3f442e26d",
   "metadata": {},
   "source": [
    "---"
   ]
  }
 ],
 "metadata": {
  "kernelspec": {
   "display_name": "Python 3.10.4 ('eugene')",
   "language": "python",
   "name": "python3"
  },
  "language_info": {
   "codemirror_mode": {
    "name": "ipython",
    "version": 3
   },
   "file_extension": ".py",
   "mimetype": "text/x-python",
   "name": "python",
   "nbconvert_exporter": "python",
   "pygments_lexer": "ipython3",
   "version": "3.10.4"
  },
  "vscode": {
   "interpreter": {
    "hash": "3dbbff05fc9c23df2b8cfb8dfa1c8cab53b5b79b84eaada81073f79339e0e490"
   }
  }
 },
 "nbformat": 4,
 "nbformat_minor": 5
}

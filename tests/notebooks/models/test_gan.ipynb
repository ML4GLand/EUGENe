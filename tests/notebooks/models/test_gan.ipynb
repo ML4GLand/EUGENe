{
 "cells": [
  {
   "cell_type": "code",
   "execution_count": 1,
   "id": "0e9ca43f-c2c5-4289-a69a-2e70385defdf",
   "metadata": {},
   "outputs": [
    {
     "name": "stderr",
     "output_type": "stream",
     "text": [
      "Global seed set to 13\n"
     ]
    },
    {
     "name": "stdout",
     "output_type": "stream",
     "text": [
      "GPU is available: True\n",
      "Number of GPUs: 1\n",
      "Current GPU: 0\n",
      "GPUs: NVIDIA GeForce RTX 2070\n"
     ]
    },
    {
     "data": {
      "text/plain": [
       "'0.0.6'"
      ]
     },
     "execution_count": 1,
     "metadata": {},
     "output_type": "execute_result"
    }
   ],
   "source": [
    "import pandas as pd\n",
    "import numpy as np\n",
    "import torch\n",
    "\n",
    "from eugene.dataload._io import read_numpy, read\n",
    "\n",
    "# Autoreload extension\n",
    "if 'autoreload' not in get_ipython().extension_manager.loaded:\n",
    "    %load_ext autoreload\n",
    "%autoreload 2\n",
    "\n",
    "# Basic import\n",
    "import eugene as eu\n",
    "eu.__version__"
   ]
  },
  {
   "cell_type": "code",
   "execution_count": 2,
   "id": "25d3606c",
   "metadata": {},
   "outputs": [],
   "source": [
    "sdata = read_numpy(\"chr1.npy_ohe_seqs.npy\", ohe=True)"
   ]
  },
  {
   "cell_type": "code",
   "execution_count": 3,
   "id": "b20b8606",
   "metadata": {},
   "outputs": [
    {
     "name": "stdout",
     "output_type": "stream",
     "text": [
      "SeqData object modified:\n",
      "    seqs_annot:\n",
      "        + train_val\n"
     ]
    }
   ],
   "source": [
    "eu.pp.train_test_split_sdata(sdata)"
   ]
  },
  {
   "cell_type": "code",
   "execution_count": 4,
   "id": "f6cc0dba",
   "metadata": {},
   "outputs": [],
   "source": [
    "seq_len = 50\n",
    "latent_dim = seq_len * 4"
   ]
  },
  {
   "cell_type": "code",
   "execution_count": 5,
   "id": "cca291be",
   "metadata": {},
   "outputs": [],
   "source": [
    "generator = torch.nn.Sequential(\n",
    "    eu.models.base.BasicFullyConnectedModule(\n",
    "        input_dim=500,\n",
    "        output_dim=latent_dim,\n",
    "        hidden_dims=[300]\n",
    "    ),\n",
    "    torch.nn.Tanh()\n",
    ")"
   ]
  },
  {
   "cell_type": "code",
   "execution_count": 6,
   "id": "58e4aa50",
   "metadata": {},
   "outputs": [],
   "source": [
    "disc_batchnorm = True\n",
    "disc_conv_dropout = 0\n",
    "disc_fc_dropout = 0\n",
    "discriminator = torch.nn.Sequential(\n",
    "    eu.models.DeepBind(\n",
    "        input_len=latent_dim,\n",
    "        output_dim=1,\n",
    "        pool_width=8,\n",
    "        conv_kwargs=dict(channels=[4, 128], conv_kernels=[16], dropout_rates=disc_conv_dropout, batchnorm=disc_batchnorm),\n",
    "        fc_kwargs=dict(hidden_dims=[256, 64], dropout_rate=disc_fc_dropout, batchnorm=disc_batchnorm),\n",
    "        mode=\"dna\",\n",
    "    ),\n",
    "    torch.nn.Sigmoid()\n",
    ")"
   ]
  },
  {
   "cell_type": "code",
   "execution_count": 7,
   "id": "cc1cdedb",
   "metadata": {},
   "outputs": [],
   "source": [
    "model = eu.models.GAN(\n",
    "    latent_dim=latent_dim, \n",
    "    generator=generator, \n",
    "    discriminator=discriminator,\n",
    "    grad_clip=0.01,\n",
    "    gen_lr=1e-3,\n",
    "    disc_lr=1e-3,\n",
    ")"
   ]
  },
  {
   "cell_type": "code",
   "execution_count": 8,
   "id": "5e6e8646",
   "metadata": {},
   "outputs": [
    {
     "name": "stderr",
     "output_type": "stream",
     "text": [
      "Global seed set to 13\n",
      "GPU available: True, used: True\n",
      "TPU available: False, using: 0 TPU cores\n",
      "IPU available: False, using: 0 IPUs\n",
      "LOCAL_RANK: 0 - CUDA_VISIBLE_DEVICES: [0]\n"
     ]
    },
    {
     "name": "stdout",
     "output_type": "stream",
     "text": [
      "No transforms given, assuming just need to tensorize.\n",
      "No transforms given, assuming just need to tensorize.\n"
     ]
    },
    {
     "name": "stderr",
     "output_type": "stream",
     "text": [
      "\n",
      "  | Name          | Type       | Params\n",
      "---------------------------------------------\n",
      "0 | generator     | Sequential | 210 K \n",
      "1 | discriminator | Sequential | 157 K \n",
      "---------------------------------------------\n",
      "367 K     Trainable params\n",
      "0         Non-trainable params\n",
      "367 K     Total params\n",
      "1.470     Total estimated model params size (MB)\n"
     ]
    },
    {
     "data": {
      "application/vnd.jupyter.widget-view+json": {
       "model_id": "a1c700a42ca2441587e78205de400968",
       "version_major": 2,
       "version_minor": 0
      },
      "text/plain": [
       "Validation sanity check: 0it [00:00, ?it/s]"
      ]
     },
     "metadata": {},
     "output_type": "display_data"
    },
    {
     "name": "stderr",
     "output_type": "stream",
     "text": [
      "Global seed set to 13\n"
     ]
    },
    {
     "data": {
      "application/vnd.jupyter.widget-view+json": {
       "model_id": "8d7a54ed54b641bfa5cacc593736aebb",
       "version_major": 2,
       "version_minor": 0
      },
      "text/plain": [
       "Training: 0it [00:00, ?it/s]"
      ]
     },
     "metadata": {},
     "output_type": "display_data"
    },
    {
     "data": {
      "application/vnd.jupyter.widget-view+json": {
       "model_id": "fc7d963e4406499195f0d6e2d61542ab",
       "version_major": 2,
       "version_minor": 0
      },
      "text/plain": [
       "Validating: 0it [00:00, ?it/s]"
      ]
     },
     "metadata": {},
     "output_type": "display_data"
    },
    {
     "name": "stderr",
     "output_type": "stream",
     "text": [
      "c:\\Users\\Lab\\anaconda3\\envs\\eugene\\lib\\site-packages\\pytorch_lightning\\trainer\\trainer.py:688: UserWarning: Detected KeyboardInterrupt, attempting graceful shutdown...\n",
      "  rank_zero_warn(\"Detected KeyboardInterrupt, attempting graceful shutdown...\")\n"
     ]
    }
   ],
   "source": [
    "eu.settings.batch_size = 256\n",
    "eu.settings.dl_num_workers = 8\n",
    "eu.settings.dl_pin_memory_gpu_training = True\n",
    "eu.train.fit(\n",
    "    model=model,\n",
    "    sdata=sdata,\n",
    "    early_stopping_callback=False,\n",
    ")"
   ]
  },
  {
   "cell_type": "markdown",
   "id": "7dc78854-191e-4714-bc83-7fa3f442e26d",
   "metadata": {},
   "source": [
    "---"
   ]
  }
 ],
 "metadata": {
  "kernelspec": {
   "display_name": "Python 3.10.4 ('eugene')",
   "language": "python",
   "name": "python3"
  },
  "language_info": {
   "codemirror_mode": {
    "name": "ipython",
    "version": 3
   },
   "file_extension": ".py",
   "mimetype": "text/x-python",
   "name": "python",
   "nbconvert_exporter": "python",
   "pygments_lexer": "ipython3",
   "version": "3.10.4"
  },
  "vscode": {
   "interpreter": {
    "hash": "3dbbff05fc9c23df2b8cfb8dfa1c8cab53b5b79b84eaada81073f79339e0e490"
   }
  }
 },
 "nbformat": 4,
 "nbformat_minor": 5
}

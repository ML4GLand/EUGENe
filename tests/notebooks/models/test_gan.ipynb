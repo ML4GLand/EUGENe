{
 "cells": [
  {
   "cell_type": "code",
   "execution_count": 171,
   "id": "0e9ca43f-c2c5-4289-a69a-2e70385defdf",
   "metadata": {
    "execution": {
     "iopub.execute_input": "2022-11-26T17:49:44.650297Z",
     "iopub.status.busy": "2022-11-26T17:49:44.650113Z",
     "iopub.status.idle": "2022-11-26T17:50:24.032791Z",
     "shell.execute_reply": "2022-11-26T17:50:24.032143Z",
     "shell.execute_reply.started": "2022-11-26T17:49:44.650252Z"
    },
    "tags": []
   },
   "outputs": [
    {
     "data": {
      "text/plain": [
       "'0.0.4'"
      ]
     },
     "execution_count": 171,
     "metadata": {},
     "output_type": "execute_result"
    }
   ],
   "source": [
    "import os\n",
    "import pandas as pd\n",
    "import numpy as np\n",
    "import torch\n",
    "\n",
    "from eugene.dataload._io import read_numpy, read\n",
    "\n",
    "# Autoreload extension\n",
    "if 'autoreload' not in get_ipython().extension_manager.loaded:\n",
    "    %load_ext autoreload\n",
    "%autoreload 2\n",
    "\n",
    "# Basic import\n",
    "import eugene as eu\n",
    "\n",
    "eu.settings.dataset_dir = \"/cellar/users/aklie/data/eugene/\"\n",
    "\n",
    "eu.__version__"
   ]
  },
  {
   "cell_type": "code",
   "execution_count": 186,
   "id": "f63f8b6b",
   "metadata": {},
   "outputs": [],
   "source": [
    "import gzip\n",
    "import shutil\n",
    "from eugene.datasets._utils import try_download_urls\n",
    "def killoran17(dataset=\"chr1\", return_sdata=True, **kwargs):\n",
    "    urls_list = [\n",
    "        \"https://hgdownload.soe.ucsc.edu/goldenPath/hg38/chromosomes/chr1.fa.gz\"\n",
    "    ]\n",
    "    if dataset == \"chr1\":\n",
    "        dataset = [0]\n",
    "    paths = try_download_urls(dataset, urls_list, \"killoran17\")\n",
    "    if dataset == [0]:\n",
    "        paths = paths[0]\n",
    "        print(\"Unzipping...\")\n",
    "        with gzip.open(paths, 'rb') as f_in:\n",
    "            with open(paths[:-3], 'wb') as f_out:\n",
    "                shutil.copyfileobj(f_in, f_out)\n",
    "                paths = paths[:-3]\n",
    "    if return_sdata:\n",
    "        return eu.dl.read_fasta(paths, **kwargs)\n",
    "    else:\n",
    "        return paths"
   ]
  },
  {
   "cell_type": "code",
   "execution_count": 187,
   "id": "1a5813e2",
   "metadata": {},
   "outputs": [
    {
     "name": "stdout",
     "output_type": "stream",
     "text": [
      "Dataset killoran17 chr1.fa.gz has already been downloaded.\n",
      "Unzipping...\n"
     ]
    }
   ],
   "source": [
    "sdata = killoran17()"
   ]
  },
  {
   "cell_type": "code",
   "execution_count": 188,
   "id": "6e33ee42",
   "metadata": {},
   "outputs": [
    {
     "data": {
      "text/plain": [
       "SeqData object with = 2489565 seqs\n",
       "seqs = (2489565,)\n",
       "names = (2489565,)\n",
       "rev_seqs = None\n",
       "ohe_seqs = None\n",
       "ohe_rev_seqs = None\n",
       "pos_annot: None\n",
       "seqsm: None\n",
       "uns: None"
      ]
     },
     "execution_count": 188,
     "metadata": {},
     "output_type": "execute_result"
    }
   ],
   "source": [
    "sdata"
   ]
  },
  {
   "cell_type": "code",
   "execution_count": 189,
   "id": "26ac2452",
   "metadata": {
    "execution": {
     "iopub.execute_input": "2022-11-26T17:50:33.699260Z",
     "iopub.status.busy": "2022-11-26T17:50:33.699067Z",
     "iopub.status.idle": "2022-11-26T17:50:37.369665Z",
     "shell.execute_reply": "2022-11-26T17:50:37.369146Z",
     "shell.execute_reply.started": "2022-11-26T17:50:33.699243Z"
    }
   },
   "outputs": [],
   "source": [
    "def downsample_sdata(sdata, n=None, frac=None, copy=False):\n",
    "    sdata = sdata.copy() if copy else sdata\n",
    "    if n is None and frac is None:\n",
    "        raise ValueError(\"Must specify either n or frac\")\n",
    "    if n is not None and frac is not None:\n",
    "        raise ValueError(\"Must specify either n or frac, not both\")\n",
    "    num_seqs = sdata.n_obs\n",
    "    if n is not None:\n",
    "        if n > num_seqs:\n",
    "            raise ValueError(\"n must be less than or equal to the number of sequences\")\n",
    "        rand_idx = np.random.choice(num_seqs, n, replace=False)\n",
    "        sdata = sdata[rand_idx]\n",
    "    elif frac is not None:\n",
    "        if frac > 1:\n",
    "            raise ValueError(\"frac must be less than or equal to 1\")\n",
    "        rand_idx = np.random.choice(num_seqs, int(num_seqs * frac), replace=False)\n",
    "        sdata = sdata[rand_idx]\n",
    "    return sdata\n",
    "      \n",
    "def remove_only_N_seqs(seqs):\n",
    "    return [seq for seq in seqs if not all([x == \"N\" for x in seq])]  \n",
    "\n",
    "def remove_only_N_seqs_sdata(sdata, copy=False):\n",
    "    sdata = sdata.copy() if copy else sdata\n",
    "    N_only_mask = np.array([all([x == \"N\" for x in seq]) for seq in sdata.seqs])\n",
    "    sdata = sdata[~N_only_mask]\n",
    "    return sdata\n",
    "\n",
    "def seq_len_sdata(sdata, copy=False):\n",
    "    sdata = sdata.copy() if copy else sdata\n",
    "    sdata.seqs_annot[\"seq_len\"] = [len(seq) for seq in sdata.seqs]\n",
    "    return sdata"
   ]
  },
  {
   "cell_type": "code",
   "execution_count": 190,
   "id": "13a78bf7",
   "metadata": {
    "execution": {
     "iopub.execute_input": "2022-11-26T17:50:37.370450Z",
     "iopub.status.busy": "2022-11-26T17:50:37.370298Z",
     "iopub.status.idle": "2022-11-26T17:50:41.206386Z",
     "shell.execute_reply": "2022-11-26T17:50:41.205817Z",
     "shell.execute_reply.started": "2022-11-26T17:50:37.370433Z"
    }
   },
   "outputs": [],
   "source": [
    "sdata_downsampled = downsample_sdata(sdata, frac=0.01, copy=True)"
   ]
  },
  {
   "cell_type": "code",
   "execution_count": 191,
   "id": "bfd6d4f1",
   "metadata": {
    "execution": {
     "iopub.execute_input": "2022-11-26T17:50:41.207316Z",
     "iopub.status.busy": "2022-11-26T17:50:41.207052Z",
     "iopub.status.idle": "2022-11-26T17:50:45.648405Z",
     "shell.execute_reply": "2022-11-26T17:50:45.647911Z",
     "shell.execute_reply.started": "2022-11-26T17:50:41.207296Z"
    }
   },
   "outputs": [
    {
     "name": "stdout",
     "output_type": "stream",
     "text": [
      "SeqData object modified:\n",
      "\tseqs: ['ATTAGCATACTATATACTAATAGAATTAGCATACTATATACTAATAGAAT'\n",
      " 'tttcactggcctagagagctcccctctggaggaccctacaactgcagggt'\n",
      " 'ccagttccagaacagttaagctgaaacctgaaaagatgactaggattagc' ...\n",
      " 'CCACGGGTCACATCCTGAGTTGTGCCGCATCCGCTTAGTGCAGCGTGTGC'\n",
      " 'tgataataaatgagtttctctaggaatttttctttttgttcaggcactgt'\n",
      " 'CAAGCGGCCTTAGTAAAAAAGAGAAGAAAAAATTTATAGAAAATGTTGCT'] -> 24895 seqs added\n"
     ]
    }
   ],
   "source": [
    "remove_only_N_seqs_sdata(sdata_downsampled, copy=False)\n",
    "eu.pp.sanitize_seqs_sdata(sdata_downsampled, copy=False)"
   ]
  },
  {
   "cell_type": "code",
   "execution_count": 192,
   "id": "9efbb06f",
   "metadata": {
    "execution": {
     "iopub.execute_input": "2022-11-26T17:50:45.649458Z",
     "iopub.status.busy": "2022-11-26T17:50:45.649102Z",
     "iopub.status.idle": "2022-11-26T17:50:49.070531Z",
     "shell.execute_reply": "2022-11-26T17:50:49.070070Z",
     "shell.execute_reply.started": "2022-11-26T17:50:45.649439Z"
    }
   },
   "outputs": [
    {
     "data": {
      "text/plain": [
       "array(['ATTAGCATACTATATACTAATAGAATTAGCATACTATATACTAATAGAAT',\n",
       "       'TTTCACTGGCCTAGAGAGCTCCCCTCTGGAGGACCCTACAACTGCAGGGT',\n",
       "       'CCAGTTCCAGAACAGTTAAGCTGAAACCTGAAAAGATGACTAGGATTAGC',\n",
       "       'GTCTGTTTCTGATAAAAAGAGATACATGGAATGTTTTTATTTTAGCATTT',\n",
       "       'GTTTTCGCGGTAAGAGTTGTTTAGGTAGTACAGATGCAATTTTCTTTTAT'], dtype='<U50')"
      ]
     },
     "execution_count": 192,
     "metadata": {},
     "output_type": "execute_result"
    }
   ],
   "source": [
    "sdata_downsampled.seqs[:5]"
   ]
  },
  {
   "cell_type": "code",
   "execution_count": 193,
   "id": "54e5adec",
   "metadata": {
    "execution": {
     "iopub.execute_input": "2022-11-26T17:50:49.072400Z",
     "iopub.status.busy": "2022-11-26T17:50:49.072245Z",
     "iopub.status.idle": "2022-11-26T17:50:52.670669Z",
     "shell.execute_reply": "2022-11-26T17:50:52.670092Z",
     "shell.execute_reply.started": "2022-11-26T17:50:49.072385Z"
    }
   },
   "outputs": [
    {
     "data": {
      "text/plain": [
       "SeqData object with = 24895 seqs\n",
       "seqs = (24895,)\n",
       "names = (24895,)\n",
       "rev_seqs = None\n",
       "ohe_seqs = None\n",
       "ohe_rev_seqs = None\n",
       "seqs_annot: 'seq_len'\n",
       "pos_annot: None\n",
       "seqsm: None\n",
       "uns: None"
      ]
     },
     "execution_count": 193,
     "metadata": {},
     "output_type": "execute_result"
    }
   ],
   "source": [
    "seq_len_sdata(sdata_downsampled, copy=False)"
   ]
  },
  {
   "cell_type": "code",
   "execution_count": 194,
   "id": "e3f03a24",
   "metadata": {
    "execution": {
     "iopub.execute_input": "2022-11-26T17:50:52.671541Z",
     "iopub.status.busy": "2022-11-26T17:50:52.671349Z",
     "iopub.status.idle": "2022-11-26T17:50:56.388600Z",
     "shell.execute_reply": "2022-11-26T17:50:56.388027Z",
     "shell.execute_reply.started": "2022-11-26T17:50:52.671524Z"
    }
   },
   "outputs": [
    {
     "data": {
      "text/plain": [
       "50    24895\n",
       "Name: seq_len, dtype: int64"
      ]
     },
     "execution_count": 194,
     "metadata": {},
     "output_type": "execute_result"
    }
   ],
   "source": [
    "sdata_downsampled[\"seq_len\"].value_counts()"
   ]
  },
  {
   "cell_type": "code",
   "execution_count": 195,
   "id": "82f81205",
   "metadata": {
    "execution": {
     "iopub.execute_input": "2022-11-26T17:50:56.389525Z",
     "iopub.status.busy": "2022-11-26T17:50:56.389322Z",
     "iopub.status.idle": "2022-11-26T17:51:06.123046Z",
     "shell.execute_reply": "2022-11-26T17:51:06.122414Z",
     "shell.execute_reply.started": "2022-11-26T17:50:56.389509Z"
    }
   },
   "outputs": [
    {
     "data": {
      "application/vnd.jupyter.widget-view+json": {
       "model_id": "9f06afecc9604cf081efd281b94d3a27",
       "version_major": 2,
       "version_minor": 0
      },
      "text/plain": [
       "One-hot encoding sequences:   0%|          | 0/24895 [00:00<?, ?it/s]"
      ]
     },
     "metadata": {},
     "output_type": "display_data"
    },
    {
     "name": "stdout",
     "output_type": "stream",
     "text": [
      "SeqData object modified:\n",
      "\tohe_seqs: None -> 24895 ohe_seqs added\n"
     ]
    }
   ],
   "source": [
    "eu.pp.ohe_seqs_sdata(sdata_downsampled, copy=False)"
   ]
  },
  {
   "cell_type": "code",
   "execution_count": 196,
   "id": "b20b8606",
   "metadata": {
    "execution": {
     "iopub.execute_input": "2022-11-26T17:51:06.124002Z",
     "iopub.status.busy": "2022-11-26T17:51:06.123784Z",
     "iopub.status.idle": "2022-11-26T17:51:09.771941Z",
     "shell.execute_reply": "2022-11-26T17:51:09.771264Z",
     "shell.execute_reply.started": "2022-11-26T17:51:06.123985Z"
    }
   },
   "outputs": [
    {
     "name": "stdout",
     "output_type": "stream",
     "text": [
      "SeqData object modified:\n",
      "    seqs_annot:\n",
      "        + train_val\n"
     ]
    }
   ],
   "source": [
    "eu.pp.train_test_split_sdata(sdata_downsampled)"
   ]
  },
  {
   "cell_type": "code",
   "execution_count": 197,
   "id": "f6cc0dba",
   "metadata": {
    "execution": {
     "iopub.execute_input": "2022-11-26T17:51:09.772883Z",
     "iopub.status.busy": "2022-11-26T17:51:09.772664Z",
     "iopub.status.idle": "2022-11-26T17:51:13.474419Z",
     "shell.execute_reply": "2022-11-26T17:51:13.473895Z",
     "shell.execute_reply.started": "2022-11-26T17:51:09.772866Z"
    }
   },
   "outputs": [],
   "source": [
    "seq_len = 50\n",
    "latent_dim = 128"
   ]
  },
  {
   "cell_type": "code",
   "execution_count": 198,
   "id": "2142970b",
   "metadata": {},
   "outputs": [],
   "source": [
    "import torch.nn as nn"
   ]
  },
  {
   "cell_type": "code",
   "execution_count": 199,
   "id": "239daa45",
   "metadata": {},
   "outputs": [],
   "source": [
    "class Flatten(torch.nn.Module):\n",
    "    def forward(self, x):\n",
    "        batch_size = x.shape[0]\n",
    "        return x.view(batch_size, -1)\n",
    "        \n",
    "class View(nn.Module):\n",
    "    def __init__(self, shape):\n",
    "        super().__init__()\n",
    "        self.shape = shape\n",
    "\n",
    "    def __repr__(self):\n",
    "        return f'View{self.shape}'\n",
    "\n",
    "    def forward(self, input):\n",
    "        '''\n",
    "        Reshapes the input according to the shape saved in the view data structure.\n",
    "        '''\n",
    "        batch_size = input.size(0)\n",
    "        shape = (batch_size, *self.shape)\n",
    "        out = input.view(shape)\n",
    "        return out"
   ]
  },
  {
   "cell_type": "code",
   "execution_count": 200,
   "id": "2d491b7d",
   "metadata": {},
   "outputs": [],
   "source": [
    "class ResidualBlock(nn.Module):\n",
    "    def __init__(self, in_channels, out_channels, kernel_size, stride, padding, residual_multiplier=1):\n",
    "        super(ResidualBlock, self).__init__()\n",
    "        self.residual_multiplier = residual_multiplier\n",
    "        self.relu = nn.ReLU()\n",
    "        self.conv = nn.Conv1d(in_channels, out_channels, kernel_size, stride, padding)\n",
    "        \n",
    "    def forward(self, x):\n",
    "        residual = x\n",
    "        out = self.relu(x)\n",
    "        out = self.conv(out)\n",
    "        out = out*self.residual_multiplier + residual\n",
    "        return out"
   ]
  },
  {
   "cell_type": "code",
   "execution_count": 201,
   "id": "8260a864",
   "metadata": {},
   "outputs": [],
   "source": [
    "class Generator(nn.Module):\n",
    "    def __init__(self, latent_dim, seq_len):\n",
    "        super(Generator, self).__init__()\n",
    "        self.latent_dim = latent_dim\n",
    "        self.seq_len = seq_len\n",
    "        self.linear = nn.Linear(latent_dim, seq_len*100)\n",
    "        self.elu = nn.ELU()\n",
    "        self.view = View((100, seq_len))\n",
    "        self.res_blocks = nn.Sequential(*[ResidualBlock(100, 100, 3, 1, 1)]*5)\n",
    "        self.conv = nn.Conv1d(100, 4, 1)\n",
    "        self.softmax = nn.Softmax(dim=1)\n",
    "\n",
    "    def forward(self, x):\n",
    "        out = self.linear(x) \n",
    "        out = self.elu(out) \n",
    "        out = self.view(out) \n",
    "        out = self.res_blocks(out) \n",
    "        out = self.conv(out)\n",
    "        out = self.softmax(out)\n",
    "        return out"
   ]
  },
  {
   "cell_type": "code",
   "execution_count": 202,
   "id": "34b6f747",
   "metadata": {},
   "outputs": [],
   "source": [
    "gen = Generator(latent_dim, seq_len)"
   ]
  },
  {
   "cell_type": "code",
   "execution_count": 203,
   "id": "7c232922",
   "metadata": {},
   "outputs": [
    {
     "data": {
      "text/plain": [
       "torch.Size([10, 128])"
      ]
     },
     "execution_count": 203,
     "metadata": {},
     "output_type": "execute_result"
    }
   ],
   "source": [
    "z = torch.Tensor(np.random.normal(0, 1, (10, latent_dim)))\n",
    "z.shape"
   ]
  },
  {
   "cell_type": "code",
   "execution_count": 204,
   "id": "47faf106",
   "metadata": {},
   "outputs": [],
   "source": [
    "fake = gen(z)"
   ]
  },
  {
   "cell_type": "code",
   "execution_count": 205,
   "id": "8cb374b5",
   "metadata": {},
   "outputs": [
    {
     "data": {
      "text/plain": [
       "'ATTTTCCATATAGGTCGTACCCGTTTTCTCCTATTTCATGTCCCTTTCTC'"
      ]
     },
     "execution_count": 205,
     "metadata": {},
     "output_type": "execute_result"
    }
   ],
   "source": [
    "fake_tokens = np.argmax(fake.detach().numpy(), axis=1).reshape(10, 50)\n",
    "eu.pp.decode_seq(eu.pp._utils._token2one_hot(fake_tokens[0]))"
   ]
  },
  {
   "cell_type": "code",
   "execution_count": 206,
   "id": "58d5e311",
   "metadata": {},
   "outputs": [],
   "source": [
    "class Discriminator(nn.Module):\n",
    "    def __init__(self, seq_len):\n",
    "        super(Discriminator, self).__init__()\n",
    "        self.seq_len = seq_len\n",
    "        self.conv = nn.Conv1d(4, 100, 1)\n",
    "        self.res_blocks = nn.Sequential(*[ResidualBlock(100, 100, 3, 1, 1)]*5)\n",
    "        self.view = View((100*seq_len,))\n",
    "        self.linear = nn.Linear(100*seq_len, 1)\n",
    "        self.sigmoid = nn.Sigmoid()\n",
    "\n",
    "    def forward(self, x):\n",
    "        out = self.conv(x)\n",
    "        out = self.res_blocks(out)\n",
    "        out = self.view(out)\n",
    "        out = self.linear(out)\n",
    "        out = self.sigmoid(out)\n",
    "        return out"
   ]
  },
  {
   "cell_type": "code",
   "execution_count": 207,
   "id": "8035924a",
   "metadata": {},
   "outputs": [],
   "source": [
    "disc = Discriminator(seq_len) "
   ]
  },
  {
   "cell_type": "code",
   "execution_count": 208,
   "id": "3cd94b49",
   "metadata": {},
   "outputs": [
    {
     "data": {
      "text/plain": [
       "tensor([[0.2476],\n",
       "        [0.2639],\n",
       "        [0.2641],\n",
       "        [0.2184],\n",
       "        [0.2509],\n",
       "        [0.2672],\n",
       "        [0.2206],\n",
       "        [0.2475],\n",
       "        [0.2486],\n",
       "        [0.2420]], grad_fn=<SigmoidBackward0>)"
      ]
     },
     "execution_count": 208,
     "metadata": {},
     "output_type": "execute_result"
    }
   ],
   "source": [
    "disc(fake)"
   ]
  },
  {
   "cell_type": "code",
   "execution_count": 164,
   "id": "cc1cdedb",
   "metadata": {
    "execution": {
     "iopub.execute_input": "2022-11-26T17:51:20.610376Z",
     "iopub.status.busy": "2022-11-26T17:51:20.610196Z",
     "iopub.status.idle": "2022-11-26T17:51:24.098186Z",
     "shell.execute_reply": "2022-11-26T17:51:24.097521Z",
     "shell.execute_reply.started": "2022-11-26T17:51:20.610359Z"
    }
   },
   "outputs": [],
   "source": [
    "model = eu.models.GAN(\n",
    "    seq_len=50,\n",
    "    latent_dim=128, \n",
    "    generator=gen, \n",
    "    discriminator=disc,\n",
    "    mode=\"gan\",\n",
    "    grad_clip=0.01,\n",
    "    gen_lr=1e-3,\n",
    "    disc_lr=1e-3\n",
    ")"
   ]
  },
  {
   "cell_type": "code",
   "execution_count": 209,
   "id": "b8b22d4f",
   "metadata": {},
   "outputs": [
    {
     "data": {
      "text/plain": [
       "torch.Size([10, 128])"
      ]
     },
     "execution_count": 209,
     "metadata": {},
     "output_type": "execute_result"
    }
   ],
   "source": [
    "z = torch.Tensor(np.random.normal(0, 1, (10, latent_dim)))\n",
    "z.shape"
   ]
  },
  {
   "cell_type": "code",
   "execution_count": 210,
   "id": "fefd2736",
   "metadata": {},
   "outputs": [
    {
     "data": {
      "text/plain": [
       "tensor([[0.5013],\n",
       "        [0.5014],\n",
       "        [0.5012],\n",
       "        [0.5019],\n",
       "        [0.5018],\n",
       "        [0.5015],\n",
       "        [0.5016],\n",
       "        [0.5011],\n",
       "        [0.5016],\n",
       "        [0.5018]])"
      ]
     },
     "execution_count": 210,
     "metadata": {},
     "output_type": "execute_result"
    }
   ],
   "source": [
    "model.discriminator(model(z))"
   ]
  },
  {
   "cell_type": "code",
   "execution_count": 211,
   "id": "5e6e8646",
   "metadata": {
    "execution": {
     "iopub.execute_input": "2022-11-26T18:01:06.168852Z",
     "iopub.status.busy": "2022-11-26T18:01:06.168535Z",
     "iopub.status.idle": "2022-11-26T18:01:24.908168Z",
     "shell.execute_reply": "2022-11-26T18:01:24.907402Z",
     "shell.execute_reply.started": "2022-11-26T18:01:06.168833Z"
    },
    "tags": []
   },
   "outputs": [
    {
     "name": "stderr",
     "output_type": "stream",
     "text": [
      "Global seed set to 13\n",
      "GPU available: True, used: True\n",
      "TPU available: False, using: 0 TPU cores\n",
      "IPU available: False, using: 0 IPUs\n"
     ]
    },
    {
     "name": "stdout",
     "output_type": "stream",
     "text": [
      "No transforms given, assuming just need to tensorize.\n",
      "No transforms given, assuming just need to tensorize.\n"
     ]
    },
    {
     "name": "stderr",
     "output_type": "stream",
     "text": [
      "LOCAL_RANK: 0 - CUDA_VISIBLE_DEVICES: [0,1]\n",
      "Set SLURM handle signals.\n",
      "\n",
      "  | Name          | Type          | Params\n",
      "------------------------------------------------\n",
      "0 | generator     | Generator     | 675 K \n",
      "1 | discriminator | Discriminator | 35.6 K\n",
      "------------------------------------------------\n",
      "0         Trainable params\n",
      "711 K     Non-trainable params\n",
      "711 K     Total params\n",
      "2.844     Total estimated model params size (MB)\n"
     ]
    },
    {
     "data": {
      "application/vnd.jupyter.widget-view+json": {
       "model_id": "0cbc908fcbae4c278588c3e4b3a10ba5",
       "version_major": 2,
       "version_minor": 0
      },
      "text/plain": [
       "Validation sanity check: 0it [00:00, ?it/s]"
      ]
     },
     "metadata": {},
     "output_type": "display_data"
    },
    {
     "name": "stderr",
     "output_type": "stream",
     "text": [
      "/cellar/users/aklie/opt/miniconda3/envs/eugene_dev/lib/python3.7/site-packages/pytorch_lightning/trainer/data_loading.py:133: UserWarning: The dataloader, val_dataloader 0, does not have many workers which may be a bottleneck. Consider increasing the value of the `num_workers` argument` (try 16 which is the number of cpus on this machine) in the `DataLoader` init to improve performance.\n",
      "  f\"The dataloader, {name}, does not have many workers which may be a bottleneck.\"\n",
      "Global seed set to 13\n",
      "/cellar/users/aklie/opt/miniconda3/envs/eugene_dev/lib/python3.7/site-packages/pytorch_lightning/trainer/data_loading.py:133: UserWarning: The dataloader, train_dataloader, does not have many workers which may be a bottleneck. Consider increasing the value of the `num_workers` argument` (try 16 which is the number of cpus on this machine) in the `DataLoader` init to improve performance.\n",
      "  f\"The dataloader, {name}, does not have many workers which may be a bottleneck.\"\n"
     ]
    },
    {
     "data": {
      "application/vnd.jupyter.widget-view+json": {
       "model_id": "f77676a7bb1645f7b79e0e7dfde5ea53",
       "version_major": 2,
       "version_minor": 0
      },
      "text/plain": [
       "Training: 0it [00:00, ?it/s]"
      ]
     },
     "metadata": {},
     "output_type": "display_data"
    },
    {
     "name": "stderr",
     "output_type": "stream",
     "text": [
      "/cellar/users/aklie/opt/miniconda3/envs/eugene_dev/lib/python3.7/site-packages/pytorch_lightning/loops/optimization/closure.py:36: LightningDeprecationWarning: One of the returned values {'log', 'progress_bar'} has a `grad_fn`. We will detach it automatically but this behaviour will change in v1.6. Please detach it manually: `return {'loss': ..., 'something': something.detach()}`\n",
      "  f\"One of the returned values {set(extra.keys())} has a `grad_fn`. We will detach it automatically\"\n"
     ]
    },
    {
     "data": {
      "application/vnd.jupyter.widget-view+json": {
       "model_id": "3ce2e63cc63c4065bc0b41fe1211663c",
       "version_major": 2,
       "version_minor": 0
      },
      "text/plain": [
       "Validating: 0it [00:00, ?it/s]"
      ]
     },
     "metadata": {},
     "output_type": "display_data"
    },
    {
     "data": {
      "application/vnd.jupyter.widget-view+json": {
       "model_id": "138e3ae4c4964799b1adddb93b266995",
       "version_major": 2,
       "version_minor": 0
      },
      "text/plain": [
       "Validating: 0it [00:00, ?it/s]"
      ]
     },
     "metadata": {},
     "output_type": "display_data"
    },
    {
     "data": {
      "application/vnd.jupyter.widget-view+json": {
       "model_id": "f34eb3bb72b843438e72fff50d1de658",
       "version_major": 2,
       "version_minor": 0
      },
      "text/plain": [
       "Validating: 0it [00:00, ?it/s]"
      ]
     },
     "metadata": {},
     "output_type": "display_data"
    },
    {
     "data": {
      "application/vnd.jupyter.widget-view+json": {
       "model_id": "9a3a0168112a4f40b6e8db8c71d6867c",
       "version_major": 2,
       "version_minor": 0
      },
      "text/plain": [
       "Validating: 0it [00:00, ?it/s]"
      ]
     },
     "metadata": {},
     "output_type": "display_data"
    },
    {
     "data": {
      "application/vnd.jupyter.widget-view+json": {
       "model_id": "4c7ae1844f1e4765ba69a104a03669df",
       "version_major": 2,
       "version_minor": 0
      },
      "text/plain": [
       "Validating: 0it [00:00, ?it/s]"
      ]
     },
     "metadata": {},
     "output_type": "display_data"
    }
   ],
   "source": [
    "eu.settings.batch_size = 128\n",
    "eu.settings.dl_num_workers = 0\n",
    "eu.settings.dl_pin_memory_gpu_training = True\n",
    "eu.train.fit(\n",
    "    model=model,\n",
    "    sdata=sdata_downsampled,\n",
    "    mode=\"wgan\"\n",
    "    epochs=5,\n",
    "    gpus=1,\n",
    "    model_checkpoint_callback=False,\n",
    "    early_stopping_callback=False,\n",
    "    log_dir=\"/cellar/users/aklie/projects/EUGENe/tests/notebooks/models/GAN\",\n",
    "    name=\"test\"\n",
    ")"
   ]
  },
  {
   "cell_type": "code",
   "execution_count": 214,
   "id": "e9dbb5e4",
   "metadata": {},
   "outputs": [],
   "source": [
    "from eugene.plot._utils import tflog2pandas"
   ]
  },
  {
   "cell_type": "code",
   "execution_count": 216,
   "id": "00c5c321",
   "metadata": {},
   "outputs": [],
   "source": [
    "logs = tflog2pandas(\"/cellar/users/aklie/projects/EUGENe/tests/notebooks/models/GAN/test/version_1\")"
   ]
  },
  {
   "cell_type": "code",
   "execution_count": 220,
   "id": "d3062960",
   "metadata": {},
   "outputs": [
    {
     "data": {
      "text/html": [
       "<div>\n",
       "<style scoped>\n",
       "    .dataframe tbody tr th:only-of-type {\n",
       "        vertical-align: middle;\n",
       "    }\n",
       "\n",
       "    .dataframe tbody tr th {\n",
       "        vertical-align: top;\n",
       "    }\n",
       "\n",
       "    .dataframe thead th {\n",
       "        text-align: right;\n",
       "    }\n",
       "</style>\n",
       "<table border=\"1\" class=\"dataframe\">\n",
       "  <thead>\n",
       "    <tr style=\"text-align: right;\">\n",
       "      <th></th>\n",
       "      <th>metric</th>\n",
       "      <th>value</th>\n",
       "      <th>step</th>\n",
       "    </tr>\n",
       "  </thead>\n",
       "  <tbody>\n",
       "    <tr>\n",
       "      <th>55</th>\n",
       "      <td>train_discriminator_loss</td>\n",
       "      <td>0.695262</td>\n",
       "      <td>49.0</td>\n",
       "    </tr>\n",
       "    <tr>\n",
       "      <th>56</th>\n",
       "      <td>train_discriminator_loss</td>\n",
       "      <td>0.695445</td>\n",
       "      <td>99.0</td>\n",
       "    </tr>\n",
       "    <tr>\n",
       "      <th>57</th>\n",
       "      <td>train_discriminator_loss</td>\n",
       "      <td>0.695528</td>\n",
       "      <td>149.0</td>\n",
       "    </tr>\n",
       "    <tr>\n",
       "      <th>58</th>\n",
       "      <td>train_discriminator_loss</td>\n",
       "      <td>0.695282</td>\n",
       "      <td>199.0</td>\n",
       "    </tr>\n",
       "    <tr>\n",
       "      <th>59</th>\n",
       "      <td>train_discriminator_loss</td>\n",
       "      <td>0.695296</td>\n",
       "      <td>249.0</td>\n",
       "    </tr>\n",
       "    <tr>\n",
       "      <th>60</th>\n",
       "      <td>train_discriminator_loss</td>\n",
       "      <td>0.695336</td>\n",
       "      <td>299.0</td>\n",
       "    </tr>\n",
       "    <tr>\n",
       "      <th>61</th>\n",
       "      <td>train_discriminator_loss</td>\n",
       "      <td>0.695307</td>\n",
       "      <td>349.0</td>\n",
       "    </tr>\n",
       "    <tr>\n",
       "      <th>62</th>\n",
       "      <td>train_discriminator_loss</td>\n",
       "      <td>0.695351</td>\n",
       "      <td>399.0</td>\n",
       "    </tr>\n",
       "    <tr>\n",
       "      <th>63</th>\n",
       "      <td>train_discriminator_loss</td>\n",
       "      <td>0.695502</td>\n",
       "      <td>449.0</td>\n",
       "    </tr>\n",
       "    <tr>\n",
       "      <th>64</th>\n",
       "      <td>train_discriminator_loss</td>\n",
       "      <td>0.695396</td>\n",
       "      <td>499.0</td>\n",
       "    </tr>\n",
       "    <tr>\n",
       "      <th>65</th>\n",
       "      <td>train_discriminator_loss</td>\n",
       "      <td>0.695217</td>\n",
       "      <td>549.0</td>\n",
       "    </tr>\n",
       "    <tr>\n",
       "      <th>66</th>\n",
       "      <td>train_discriminator_loss</td>\n",
       "      <td>0.695366</td>\n",
       "      <td>599.0</td>\n",
       "    </tr>\n",
       "    <tr>\n",
       "      <th>67</th>\n",
       "      <td>train_discriminator_loss</td>\n",
       "      <td>0.695120</td>\n",
       "      <td>649.0</td>\n",
       "    </tr>\n",
       "    <tr>\n",
       "      <th>68</th>\n",
       "      <td>train_discriminator_loss</td>\n",
       "      <td>0.695458</td>\n",
       "      <td>699.0</td>\n",
       "    </tr>\n",
       "    <tr>\n",
       "      <th>69</th>\n",
       "      <td>train_discriminator_loss</td>\n",
       "      <td>0.695314</td>\n",
       "      <td>749.0</td>\n",
       "    </tr>\n",
       "  </tbody>\n",
       "</table>\n",
       "</div>"
      ],
      "text/plain": [
       "                      metric     value   step\n",
       "55  train_discriminator_loss  0.695262   49.0\n",
       "56  train_discriminator_loss  0.695445   99.0\n",
       "57  train_discriminator_loss  0.695528  149.0\n",
       "58  train_discriminator_loss  0.695282  199.0\n",
       "59  train_discriminator_loss  0.695296  249.0\n",
       "60  train_discriminator_loss  0.695336  299.0\n",
       "61  train_discriminator_loss  0.695307  349.0\n",
       "62  train_discriminator_loss  0.695351  399.0\n",
       "63  train_discriminator_loss  0.695502  449.0\n",
       "64  train_discriminator_loss  0.695396  499.0\n",
       "65  train_discriminator_loss  0.695217  549.0\n",
       "66  train_discriminator_loss  0.695366  599.0\n",
       "67  train_discriminator_loss  0.695120  649.0\n",
       "68  train_discriminator_loss  0.695458  699.0\n",
       "69  train_discriminator_loss  0.695314  749.0"
      ]
     },
     "execution_count": 220,
     "metadata": {},
     "output_type": "execute_result"
    }
   ],
   "source": [
    "logs[logs[\"metric\"] == \"train_discriminator_loss\"]"
   ]
  },
  {
   "cell_type": "code",
   "execution_count": 212,
   "id": "2677d43d",
   "metadata": {},
   "outputs": [],
   "source": [
    "def generate_seqs(model, num_seqs):\n",
    "    z = torch.Tensor(np.random.normal(0, 1, (num_seqs, model.latent_dim)))\n",
    "    fake = model(z)\n",
    "    print(fake.shape)\n",
    "    fake_tokens = np.argmax(fake.detach().numpy(), axis=1).reshape(num_seqs, 50)\n",
    "    print(fake_tokens.shape)\n",
    "    return np.array([eu.pp.decode_seq(eu.pp._utils._token2one_hot(tokens)) for tokens in fake_tokens])"
   ]
  },
  {
   "cell_type": "code",
   "execution_count": 213,
   "id": "e031a93b",
   "metadata": {},
   "outputs": [
    {
     "name": "stdout",
     "output_type": "stream",
     "text": [
      "torch.Size([10, 4, 50])\n",
      "(10, 50)\n"
     ]
    },
    {
     "data": {
      "text/plain": [
       "array(['TTTTTTTTTTTTTTTTTTTTTTTTTTTTTTTTTTTTTTTTTTTTTTTTTT',\n",
       "       'TTTTTTTTTTTTTTTTTTTTTTTTTTTTTTTTTTTTTTTTTTTTTTTTTT',\n",
       "       'TTTTTTTTTTTTTTTTTTTTTTTTTTTTTTTATTTTTTTTTTTTTTTTTT',\n",
       "       'TTTTTTTTTTTTTTTTTTTTTTTTTTTTTTTTTTTTTTTTTTTTTTTTTT',\n",
       "       'TTTTATTTTTTTTTTTTTTTTTTTTTTTTTTTTTTTTTTTTTTTTTTTTT',\n",
       "       'TTTTTTTTTTTTTTTTTTTTTTTTTTTTTTTTTTTTTTTTTTTTTTTTTT',\n",
       "       'TTTTTTTTTTTTTTTTTTTTTTTTTTTTTTTTTTTTTTTTTTTTTTTTTT',\n",
       "       'TTTTTTTTTTTTTTTTTTTTTTTTTTTTTTTTTTTTTTTTTTTTTTTTTT',\n",
       "       'TTTTTTTTTTTTTTTTTTTTTTTTTTTTTTTTTTTTTTTTTTTTTTTTTT',\n",
       "       'TTTTTTTTTTTTTTTTTTTTTTTTTTTTTTTTTTTTATTTTTTTTTTTTT'], dtype='<U50')"
      ]
     },
     "execution_count": 213,
     "metadata": {},
     "output_type": "execute_result"
    }
   ],
   "source": [
    "generate_seqs(model, 10)"
   ]
  },
  {
   "cell_type": "markdown",
   "id": "7dc78854-191e-4714-bc83-7fa3f442e26d",
   "metadata": {},
   "source": [
    "---"
   ]
  }
 ],
 "metadata": {
  "kernelspec": {
   "display_name": "Python 3.7 eugene_dev",
   "language": "python",
   "name": "eugene_dev"
  },
  "language_info": {
   "codemirror_mode": {
    "name": "ipython",
    "version": 3
   },
   "file_extension": ".py",
   "mimetype": "text/x-python",
   "name": "python",
   "nbconvert_exporter": "python",
   "pygments_lexer": "ipython3",
   "version": "3.7.12"
  },
  "vscode": {
   "interpreter": {
    "hash": "f0aab14ae665ca4264878e5867720697752ca4d3a67458798aa51c276bf829a9"
   }
  }
 },
 "nbformat": 4,
 "nbformat_minor": 5
}

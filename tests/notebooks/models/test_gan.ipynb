{
 "cells": [
  {
   "cell_type": "code",
   "execution_count": 1,
   "id": "0e9ca43f-c2c5-4289-a69a-2e70385defdf",
   "metadata": {},
   "outputs": [
    {
     "name": "stderr",
     "output_type": "stream",
     "text": [
      "Global seed set to 13\n"
     ]
    },
    {
     "data": {
      "text/plain": [
       "'0.0.6'"
      ]
     },
     "execution_count": 1,
     "metadata": {},
     "output_type": "execute_result"
    }
   ],
   "source": [
    "import pandas as pd\n",
    "import numpy as np\n",
    "import torch\n",
    "\n",
    "# Autoreload extension\n",
    "if 'autoreload' not in get_ipython().extension_manager.loaded:\n",
    "    %load_ext autoreload\n",
    "%autoreload 2\n",
    "\n",
    "# Basic import\n",
    "import eugene as eu\n",
    "eu.__version__"
   ]
  },
  {
   "cell_type": "code",
   "execution_count": 2,
   "id": "b6ef1aae",
   "metadata": {},
   "outputs": [
    {
     "data": {
      "application/vnd.jupyter.widget-view+json": {
       "model_id": "4c50df23dcae40aabe3b2706037f25bf",
       "version_major": 2,
       "version_minor": 0
      },
      "text/plain": [
       "One-hot encoding sequences:   0%|          | 0/1000 [00:00<?, ?it/s]"
      ]
     },
     "metadata": {},
     "output_type": "display_data"
    },
    {
     "name": "stdout",
     "output_type": "stream",
     "text": [
      "SeqData object modified:\n",
      "\tohe_seqs: None -> 1000 ohe_seqs added\n",
      "SeqData object modified:\n",
      "    seqs_annot:\n",
      "        + train_val\n"
     ]
    }
   ],
   "source": [
    "sdata = eu.datasets.random1000()\n",
    "eu.pp.ohe_seqs_sdata(sdata)\n",
    "eu.pp.train_test_split_sdata(sdata)"
   ]
  },
  {
   "cell_type": "code",
   "execution_count": 3,
   "id": "c786c9ec",
   "metadata": {},
   "outputs": [
    {
     "data": {
      "text/html": [
       "<div>\n",
       "<style scoped>\n",
       "    .dataframe tbody tr th:only-of-type {\n",
       "        vertical-align: middle;\n",
       "    }\n",
       "\n",
       "    .dataframe tbody tr th {\n",
       "        vertical-align: top;\n",
       "    }\n",
       "\n",
       "    .dataframe thead th {\n",
       "        text-align: right;\n",
       "    }\n",
       "</style>\n",
       "<table border=\"1\" class=\"dataframe\">\n",
       "  <thead>\n",
       "    <tr style=\"text-align: right;\">\n",
       "      <th></th>\n",
       "      <th>label_0</th>\n",
       "      <th>label_1</th>\n",
       "      <th>label_2</th>\n",
       "      <th>label_3</th>\n",
       "      <th>label_4</th>\n",
       "      <th>label_5</th>\n",
       "      <th>label_6</th>\n",
       "      <th>label_7</th>\n",
       "      <th>label_8</th>\n",
       "      <th>label_9</th>\n",
       "      <th>...</th>\n",
       "      <th>activity_1</th>\n",
       "      <th>activity_2</th>\n",
       "      <th>activity_3</th>\n",
       "      <th>activity_4</th>\n",
       "      <th>activity_5</th>\n",
       "      <th>activity_6</th>\n",
       "      <th>activity_7</th>\n",
       "      <th>activity_8</th>\n",
       "      <th>activity_9</th>\n",
       "      <th>train_val</th>\n",
       "    </tr>\n",
       "  </thead>\n",
       "  <tbody>\n",
       "    <tr>\n",
       "      <th>seq000</th>\n",
       "      <td>0</td>\n",
       "      <td>0</td>\n",
       "      <td>1</td>\n",
       "      <td>1</td>\n",
       "      <td>0</td>\n",
       "      <td>1</td>\n",
       "      <td>0</td>\n",
       "      <td>0</td>\n",
       "      <td>0</td>\n",
       "      <td>1</td>\n",
       "      <td>...</td>\n",
       "      <td>0.153547</td>\n",
       "      <td>0.856263</td>\n",
       "      <td>0.731073</td>\n",
       "      <td>0.001675</td>\n",
       "      <td>0.016131</td>\n",
       "      <td>0.042079</td>\n",
       "      <td>0.285377</td>\n",
       "      <td>0.800250</td>\n",
       "      <td>0.436581</td>\n",
       "      <td>True</td>\n",
       "    </tr>\n",
       "    <tr>\n",
       "      <th>seq001</th>\n",
       "      <td>1</td>\n",
       "      <td>0</td>\n",
       "      <td>1</td>\n",
       "      <td>0</td>\n",
       "      <td>0</td>\n",
       "      <td>1</td>\n",
       "      <td>1</td>\n",
       "      <td>1</td>\n",
       "      <td>1</td>\n",
       "      <td>1</td>\n",
       "      <td>...</td>\n",
       "      <td>0.491851</td>\n",
       "      <td>0.654039</td>\n",
       "      <td>0.847881</td>\n",
       "      <td>0.118016</td>\n",
       "      <td>0.892414</td>\n",
       "      <td>0.107932</td>\n",
       "      <td>0.106812</td>\n",
       "      <td>0.881007</td>\n",
       "      <td>0.960471</td>\n",
       "      <td>True</td>\n",
       "    </tr>\n",
       "    <tr>\n",
       "      <th>seq002</th>\n",
       "      <td>1</td>\n",
       "      <td>0</td>\n",
       "      <td>0</td>\n",
       "      <td>0</td>\n",
       "      <td>0</td>\n",
       "      <td>0</td>\n",
       "      <td>1</td>\n",
       "      <td>1</td>\n",
       "      <td>1</td>\n",
       "      <td>0</td>\n",
       "      <td>...</td>\n",
       "      <td>0.180755</td>\n",
       "      <td>0.546862</td>\n",
       "      <td>0.255944</td>\n",
       "      <td>0.187834</td>\n",
       "      <td>0.772877</td>\n",
       "      <td>0.425402</td>\n",
       "      <td>0.725678</td>\n",
       "      <td>0.311773</td>\n",
       "      <td>0.665010</td>\n",
       "      <td>True</td>\n",
       "    </tr>\n",
       "    <tr>\n",
       "      <th>seq003</th>\n",
       "      <td>1</td>\n",
       "      <td>0</td>\n",
       "      <td>1</td>\n",
       "      <td>0</td>\n",
       "      <td>0</td>\n",
       "      <td>1</td>\n",
       "      <td>1</td>\n",
       "      <td>0</td>\n",
       "      <td>0</td>\n",
       "      <td>0</td>\n",
       "      <td>...</td>\n",
       "      <td>0.848787</td>\n",
       "      <td>0.574788</td>\n",
       "      <td>0.876968</td>\n",
       "      <td>0.748678</td>\n",
       "      <td>0.216482</td>\n",
       "      <td>0.248412</td>\n",
       "      <td>0.126978</td>\n",
       "      <td>0.239007</td>\n",
       "      <td>0.833106</td>\n",
       "      <td>False</td>\n",
       "    </tr>\n",
       "    <tr>\n",
       "      <th>seq004</th>\n",
       "      <td>0</td>\n",
       "      <td>1</td>\n",
       "      <td>0</td>\n",
       "      <td>0</td>\n",
       "      <td>1</td>\n",
       "      <td>1</td>\n",
       "      <td>0</td>\n",
       "      <td>1</td>\n",
       "      <td>1</td>\n",
       "      <td>0</td>\n",
       "      <td>...</td>\n",
       "      <td>0.200091</td>\n",
       "      <td>0.099287</td>\n",
       "      <td>0.665125</td>\n",
       "      <td>0.186673</td>\n",
       "      <td>0.826641</td>\n",
       "      <td>0.789425</td>\n",
       "      <td>0.158561</td>\n",
       "      <td>0.645586</td>\n",
       "      <td>0.635246</td>\n",
       "      <td>False</td>\n",
       "    </tr>\n",
       "    <tr>\n",
       "      <th>...</th>\n",
       "      <td>...</td>\n",
       "      <td>...</td>\n",
       "      <td>...</td>\n",
       "      <td>...</td>\n",
       "      <td>...</td>\n",
       "      <td>...</td>\n",
       "      <td>...</td>\n",
       "      <td>...</td>\n",
       "      <td>...</td>\n",
       "      <td>...</td>\n",
       "      <td>...</td>\n",
       "      <td>...</td>\n",
       "      <td>...</td>\n",
       "      <td>...</td>\n",
       "      <td>...</td>\n",
       "      <td>...</td>\n",
       "      <td>...</td>\n",
       "      <td>...</td>\n",
       "      <td>...</td>\n",
       "      <td>...</td>\n",
       "      <td>...</td>\n",
       "    </tr>\n",
       "    <tr>\n",
       "      <th>seq995</th>\n",
       "      <td>0</td>\n",
       "      <td>0</td>\n",
       "      <td>0</td>\n",
       "      <td>1</td>\n",
       "      <td>1</td>\n",
       "      <td>0</td>\n",
       "      <td>1</td>\n",
       "      <td>0</td>\n",
       "      <td>1</td>\n",
       "      <td>0</td>\n",
       "      <td>...</td>\n",
       "      <td>0.357780</td>\n",
       "      <td>0.072767</td>\n",
       "      <td>0.497433</td>\n",
       "      <td>0.895439</td>\n",
       "      <td>0.744571</td>\n",
       "      <td>0.217330</td>\n",
       "      <td>0.831783</td>\n",
       "      <td>0.198165</td>\n",
       "      <td>0.217957</td>\n",
       "      <td>True</td>\n",
       "    </tr>\n",
       "    <tr>\n",
       "      <th>seq996</th>\n",
       "      <td>0</td>\n",
       "      <td>0</td>\n",
       "      <td>1</td>\n",
       "      <td>0</td>\n",
       "      <td>0</td>\n",
       "      <td>0</td>\n",
       "      <td>0</td>\n",
       "      <td>1</td>\n",
       "      <td>1</td>\n",
       "      <td>1</td>\n",
       "      <td>...</td>\n",
       "      <td>0.806614</td>\n",
       "      <td>0.616042</td>\n",
       "      <td>0.983932</td>\n",
       "      <td>0.827483</td>\n",
       "      <td>0.351451</td>\n",
       "      <td>0.150491</td>\n",
       "      <td>0.475193</td>\n",
       "      <td>0.501179</td>\n",
       "      <td>0.159739</td>\n",
       "      <td>True</td>\n",
       "    </tr>\n",
       "    <tr>\n",
       "      <th>seq997</th>\n",
       "      <td>0</td>\n",
       "      <td>0</td>\n",
       "      <td>0</td>\n",
       "      <td>1</td>\n",
       "      <td>1</td>\n",
       "      <td>0</td>\n",
       "      <td>0</td>\n",
       "      <td>1</td>\n",
       "      <td>0</td>\n",
       "      <td>0</td>\n",
       "      <td>...</td>\n",
       "      <td>0.037673</td>\n",
       "      <td>0.511785</td>\n",
       "      <td>0.419193</td>\n",
       "      <td>0.390730</td>\n",
       "      <td>0.719997</td>\n",
       "      <td>0.597271</td>\n",
       "      <td>0.559852</td>\n",
       "      <td>0.740937</td>\n",
       "      <td>0.231428</td>\n",
       "      <td>True</td>\n",
       "    </tr>\n",
       "    <tr>\n",
       "      <th>seq998</th>\n",
       "      <td>0</td>\n",
       "      <td>1</td>\n",
       "      <td>1</td>\n",
       "      <td>0</td>\n",
       "      <td>0</td>\n",
       "      <td>1</td>\n",
       "      <td>0</td>\n",
       "      <td>1</td>\n",
       "      <td>1</td>\n",
       "      <td>1</td>\n",
       "      <td>...</td>\n",
       "      <td>0.523726</td>\n",
       "      <td>0.466135</td>\n",
       "      <td>0.037641</td>\n",
       "      <td>0.763547</td>\n",
       "      <td>0.120880</td>\n",
       "      <td>0.287024</td>\n",
       "      <td>0.503631</td>\n",
       "      <td>0.706469</td>\n",
       "      <td>0.203218</td>\n",
       "      <td>True</td>\n",
       "    </tr>\n",
       "    <tr>\n",
       "      <th>seq999</th>\n",
       "      <td>0</td>\n",
       "      <td>1</td>\n",
       "      <td>1</td>\n",
       "      <td>1</td>\n",
       "      <td>1</td>\n",
       "      <td>0</td>\n",
       "      <td>0</td>\n",
       "      <td>1</td>\n",
       "      <td>1</td>\n",
       "      <td>0</td>\n",
       "      <td>...</td>\n",
       "      <td>0.738478</td>\n",
       "      <td>0.426038</td>\n",
       "      <td>0.539569</td>\n",
       "      <td>0.324419</td>\n",
       "      <td>0.275050</td>\n",
       "      <td>0.137742</td>\n",
       "      <td>0.331047</td>\n",
       "      <td>0.488616</td>\n",
       "      <td>0.940926</td>\n",
       "      <td>True</td>\n",
       "    </tr>\n",
       "  </tbody>\n",
       "</table>\n",
       "<p>1000 rows × 21 columns</p>\n",
       "</div>"
      ],
      "text/plain": [
       "        label_0  label_1  label_2  label_3  label_4  label_5  label_6  \\\n",
       "seq000        0        0        1        1        0        1        0   \n",
       "seq001        1        0        1        0        0        1        1   \n",
       "seq002        1        0        0        0        0        0        1   \n",
       "seq003        1        0        1        0        0        1        1   \n",
       "seq004        0        1        0        0        1        1        0   \n",
       "...         ...      ...      ...      ...      ...      ...      ...   \n",
       "seq995        0        0        0        1        1        0        1   \n",
       "seq996        0        0        1        0        0        0        0   \n",
       "seq997        0        0        0        1        1        0        0   \n",
       "seq998        0        1        1        0        0        1        0   \n",
       "seq999        0        1        1        1        1        0        0   \n",
       "\n",
       "        label_7  label_8  label_9  ...  activity_1  activity_2  activity_3  \\\n",
       "seq000        0        0        1  ...    0.153547    0.856263    0.731073   \n",
       "seq001        1        1        1  ...    0.491851    0.654039    0.847881   \n",
       "seq002        1        1        0  ...    0.180755    0.546862    0.255944   \n",
       "seq003        0        0        0  ...    0.848787    0.574788    0.876968   \n",
       "seq004        1        1        0  ...    0.200091    0.099287    0.665125   \n",
       "...         ...      ...      ...  ...         ...         ...         ...   \n",
       "seq995        0        1        0  ...    0.357780    0.072767    0.497433   \n",
       "seq996        1        1        1  ...    0.806614    0.616042    0.983932   \n",
       "seq997        1        0        0  ...    0.037673    0.511785    0.419193   \n",
       "seq998        1        1        1  ...    0.523726    0.466135    0.037641   \n",
       "seq999        1        1        0  ...    0.738478    0.426038    0.539569   \n",
       "\n",
       "        activity_4  activity_5  activity_6  activity_7  activity_8  \\\n",
       "seq000    0.001675    0.016131    0.042079    0.285377    0.800250   \n",
       "seq001    0.118016    0.892414    0.107932    0.106812    0.881007   \n",
       "seq002    0.187834    0.772877    0.425402    0.725678    0.311773   \n",
       "seq003    0.748678    0.216482    0.248412    0.126978    0.239007   \n",
       "seq004    0.186673    0.826641    0.789425    0.158561    0.645586   \n",
       "...            ...         ...         ...         ...         ...   \n",
       "seq995    0.895439    0.744571    0.217330    0.831783    0.198165   \n",
       "seq996    0.827483    0.351451    0.150491    0.475193    0.501179   \n",
       "seq997    0.390730    0.719997    0.597271    0.559852    0.740937   \n",
       "seq998    0.763547    0.120880    0.287024    0.503631    0.706469   \n",
       "seq999    0.324419    0.275050    0.137742    0.331047    0.488616   \n",
       "\n",
       "        activity_9  train_val  \n",
       "seq000    0.436581       True  \n",
       "seq001    0.960471       True  \n",
       "seq002    0.665010       True  \n",
       "seq003    0.833106      False  \n",
       "seq004    0.635246      False  \n",
       "...            ...        ...  \n",
       "seq995    0.217957       True  \n",
       "seq996    0.159739       True  \n",
       "seq997    0.231428       True  \n",
       "seq998    0.203218       True  \n",
       "seq999    0.940926       True  \n",
       "\n",
       "[1000 rows x 21 columns]"
      ]
     },
     "execution_count": 3,
     "metadata": {},
     "output_type": "execute_result"
    }
   ],
   "source": [
    "sdata.seqs_annot"
   ]
  },
  {
   "cell_type": "code",
   "execution_count": 52,
   "id": "cca291be",
   "metadata": {},
   "outputs": [],
   "source": [
    "input_dim = 100\n",
    "latent_dim = input_dim * 4\n",
    "generator = torch.nn.Sequential(\n",
    "    eu.models.base.BasicFullyConnectedModule(\n",
    "        input_dim=1000,\n",
    "        output_dim=latent_dim,\n",
    "        hidden_dims=[600]\n",
    "    ),\n",
    "    torch.nn.Tanh()\n",
    ")\n",
    "discriminator = torch.nn.Sequential(\n",
    "    eu.models.base.BasicFullyConnectedModule(\n",
    "        input_dim=latent_dim,\n",
    "        output_dim=1,\n",
    "        hidden_dims=[400, 200]\n",
    "    ),\n",
    "    torch.nn.Sigmoid()\n",
    ")"
   ]
  },
  {
   "cell_type": "code",
   "execution_count": 53,
   "id": "cc1cdedb",
   "metadata": {},
   "outputs": [],
   "source": [
    "model = eu.models.GAN(\n",
    "    latent_dim=latent_dim, \n",
    "    generator=generator, \n",
    "    discriminator=discriminator,\n",
    "    gen_lr=1e-3,\n",
    "    disc_lr=1e-3\n",
    ")"
   ]
  },
  {
   "cell_type": "code",
   "execution_count": 54,
   "id": "5e6e8646",
   "metadata": {},
   "outputs": [
    {
     "name": "stderr",
     "output_type": "stream",
     "text": [
      "Global seed set to 13\n",
      "GPU available: False, used: False\n",
      "TPU available: False, using: 0 TPU cores\n",
      "IPU available: False, using: 0 IPUs\n"
     ]
    },
    {
     "name": "stdout",
     "output_type": "stream",
     "text": [
      "Dropping 0 sequences with NaN targets.\n",
      "No transforms given, assuming just need to tensorize.\n",
      "No transforms given, assuming just need to tensorize.\n"
     ]
    },
    {
     "name": "stderr",
     "output_type": "stream",
     "text": [
      "\n",
      "  | Name          | Type       | Params\n",
      "---------------------------------------------\n",
      "0 | generator     | Sequential | 841 K \n",
      "1 | discriminator | Sequential | 240 K \n",
      "---------------------------------------------\n",
      "1.1 M     Trainable params\n",
      "0         Non-trainable params\n",
      "1.1 M     Total params\n",
      "4.327     Total estimated model params size (MB)\n"
     ]
    },
    {
     "data": {
      "application/vnd.jupyter.widget-view+json": {
       "model_id": "00e8a63523ce4a508692f73365672029",
       "version_major": 2,
       "version_minor": 0
      },
      "text/plain": [
       "Validation sanity check: 0it [00:00, ?it/s]"
      ]
     },
     "metadata": {},
     "output_type": "display_data"
    },
    {
     "name": "stderr",
     "output_type": "stream",
     "text": [
      "Global seed set to 13\n"
     ]
    },
    {
     "data": {
      "application/vnd.jupyter.widget-view+json": {
       "model_id": "de409773456b42968b4d98d27a0eb4c3",
       "version_major": 2,
       "version_minor": 0
      },
      "text/plain": [
       "Training: 0it [00:00, ?it/s]"
      ]
     },
     "metadata": {},
     "output_type": "display_data"
    },
    {
     "data": {
      "application/vnd.jupyter.widget-view+json": {
       "model_id": "6f907409bf284d2fa573d78d1c8df234",
       "version_major": 2,
       "version_minor": 0
      },
      "text/plain": [
       "Validating: 0it [00:00, ?it/s]"
      ]
     },
     "metadata": {},
     "output_type": "display_data"
    },
    {
     "data": {
      "application/vnd.jupyter.widget-view+json": {
       "model_id": "2f2845075f8440028150d1f3645b2b61",
       "version_major": 2,
       "version_minor": 0
      },
      "text/plain": [
       "Validating: 0it [00:00, ?it/s]"
      ]
     },
     "metadata": {},
     "output_type": "display_data"
    },
    {
     "data": {
      "application/vnd.jupyter.widget-view+json": {
       "model_id": "a01ec7100f0341758cf1ca52417a92d7",
       "version_major": 2,
       "version_minor": 0
      },
      "text/plain": [
       "Validating: 0it [00:00, ?it/s]"
      ]
     },
     "metadata": {},
     "output_type": "display_data"
    },
    {
     "data": {
      "application/vnd.jupyter.widget-view+json": {
       "model_id": "04b560644ce64aa3830409c0e7cd2fcf",
       "version_major": 2,
       "version_minor": 0
      },
      "text/plain": [
       "Validating: 0it [00:00, ?it/s]"
      ]
     },
     "metadata": {},
     "output_type": "display_data"
    },
    {
     "data": {
      "application/vnd.jupyter.widget-view+json": {
       "model_id": "10ba0efe9a194aeaaf39fee940861199",
       "version_major": 2,
       "version_minor": 0
      },
      "text/plain": [
       "Validating: 0it [00:00, ?it/s]"
      ]
     },
     "metadata": {},
     "output_type": "display_data"
    },
    {
     "data": {
      "application/vnd.jupyter.widget-view+json": {
       "model_id": "4a42f4a970674866941e651e2b012675",
       "version_major": 2,
       "version_minor": 0
      },
      "text/plain": [
       "Validating: 0it [00:00, ?it/s]"
      ]
     },
     "metadata": {},
     "output_type": "display_data"
    },
    {
     "data": {
      "application/vnd.jupyter.widget-view+json": {
       "model_id": "47c4e4cca62a4af99185b69b84cce3fb",
       "version_major": 2,
       "version_minor": 0
      },
      "text/plain": [
       "Validating: 0it [00:00, ?it/s]"
      ]
     },
     "metadata": {},
     "output_type": "display_data"
    }
   ],
   "source": [
    "eu.train.fit(\n",
    "    model=model,\n",
    "    sdata=sdata,\n",
    "    target_keys=\"label_0\"\n",
    ")"
   ]
  },
  {
   "cell_type": "markdown",
   "id": "7dc78854-191e-4714-bc83-7fa3f442e26d",
   "metadata": {},
   "source": [
    "---"
   ]
  }
 ],
 "metadata": {
  "kernelspec": {
   "display_name": "Python 3.10.4 ('eugene')",
   "language": "python",
   "name": "python3"
  },
  "language_info": {
   "codemirror_mode": {
    "name": "ipython",
    "version": 3
   },
   "file_extension": ".py",
   "mimetype": "text/x-python",
   "name": "python",
   "nbconvert_exporter": "python",
   "pygments_lexer": "ipython3",
   "version": "3.10.4"
  },
  "vscode": {
   "interpreter": {
    "hash": "3dbbff05fc9c23df2b8cfb8dfa1c8cab53b5b79b84eaada81073f79339e0e490"
   }
  }
 },
 "nbformat": 4,
 "nbformat_minor": 5
}

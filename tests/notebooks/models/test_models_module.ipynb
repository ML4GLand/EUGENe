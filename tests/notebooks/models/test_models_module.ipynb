{
 "cells": [
  {
   "cell_type": "markdown",
   "id": "ec1087ef-40fd-4351-b2f5-d11524d97858",
   "metadata": {},
   "source": [
    "# Testing the `models` module"
   ]
  },
  {
   "cell_type": "markdown",
   "id": "8c05151d-48fa-43fb-a119-1ea6bb841141",
   "metadata": {
    "tags": []
   },
   "source": [
    "**Authorship:**\n",
    "Adam Klie, *10/04/2022*\n",
    "***\n",
    "**Description:**\n",
    "Notebook for testing out the `models` module."
   ]
  },
  {
   "cell_type": "code",
   "execution_count": 70,
   "id": "c870da00-aa99-4057-bcbf-b47c6ddecb71",
   "metadata": {
    "execution": {
     "iopub.execute_input": "2022-10-04T16:28:16.402299Z",
     "iopub.status.busy": "2022-10-04T16:28:16.402033Z",
     "iopub.status.idle": "2022-10-04T16:28:54.583944Z",
     "shell.execute_reply": "2022-10-04T16:28:54.583312Z",
     "shell.execute_reply.started": "2022-10-04T16:28:16.402243Z"
    },
    "tags": []
   },
   "outputs": [],
   "source": [
    "if 'autoreload' not in get_ipython().extension_manager.loaded:\n",
    "    %load_ext autoreload\n",
    "%autoreload 2\n",
    "\n",
    "import os\n",
    "import torch\n",
    "import numpy as np\n",
    "import pandas as pd\n",
    "import eugene as eu"
   ]
  },
  {
   "cell_type": "code",
   "execution_count": 150,
   "id": "d9cc8f97-55af-4c7c-97fa-1d2b67ce6b87",
   "metadata": {},
   "outputs": [
    {
     "data": {
      "application/vnd.jupyter.widget-view+json": {
       "model_id": "ffa73a0d815846fb8c69ea228e665175",
       "version_major": 2,
       "version_minor": 0
      },
      "text/plain": [
       "One-hot encoding sequences:   0%|          | 0/1000 [00:00<?, ?it/s]"
      ]
     },
     "metadata": {},
     "output_type": "display_data"
    },
    {
     "name": "stdout",
     "output_type": "stream",
     "text": [
      "SeqData object modified:\n",
      "\tohe_seqs: None -> 1000 ohe_seqs added\n",
      "SeqData object modified:\n",
      "\tohe_rev_seqs: None -> 1000 ohe_rev_seqs added\n"
     ]
    }
   ],
   "source": [
    "# For all models, just teest some basics\n",
    "SEQ_LEN = 100\n",
    "OUT_DIMS = 2\n",
    "MODEL = \"hybrid\"\n",
    "STRAND = \"ss\"\n",
    "TASK = \"regression\"\n",
    "LOSS_FXN = \"mse\"\n",
    "CNN_KWARGS=dict(channels=[4, 16, 32], \n",
    "                conv_kernels=[15, 5], \n",
    "                pool_kernels=[1, 1])\n",
    "RNN_KWARGS=dict(output_dim=32,\n",
    "                bidirectional=True,\n",
    "                batch_first=True)\n",
    "FCN_KWARGS=dict(hidden_dims=[50])\n",
    "\n",
    "# Make a fixture\n",
    "sdata = eu.datasets.random1000()\n",
    "eu.pp.ohe_seqs_sdata(sdata)\n",
    "eu.pp.reverse_complement_seqs_sdata(sdata)"
   ]
  },
  {
   "cell_type": "code",
   "execution_count": 120,
   "id": "dcd1f695",
   "metadata": {},
   "outputs": [],
   "source": [
    "def check_model(test_model, transpose=False):\n",
    "    x = torch.randn(10, 4, SEQ_LEN)\n",
    "    x_rev = torch.randn(10, 4, SEQ_LEN)\n",
    "    eu.models.init_weights(test_model)\n",
    "    if transpose:\n",
    "        x = x.transpose(1, 2)\n",
    "        x_rev = x_rev.transpose(1, 2)\n",
    "        transform_kwargs = {\"transpose\": True}\n",
    "    else:\n",
    "        x = x\n",
    "        x_rev = x_rev\n",
    "        transform_kwargs = {\"transpose\": False}\n",
    "    output = test_model(x, x_rev)\n",
    "    assert output.shape == (10, 2)\n",
    "    eu.evaluate.predictions(\n",
    "        test_model,\n",
    "        sdata,\n",
    "        target_keys=[\"activity_0\", \"activity_1\"],\n",
    "        transform_kwargs=transform_kwargs,\n",
    "        store_only=True\n",
    "    )\n",
    "    assert \"activity_0_predictions\" in sdata.seqs_annot.columns"
   ]
  },
  {
   "cell_type": "markdown",
   "id": "cdddee88-d884-4106-bbc3-9e690197405b",
   "metadata": {},
   "source": [
    "# Base Models"
   ]
  },
  {
   "cell_type": "markdown",
   "id": "00037f4a-900c-493e-880e-476b933dbf8e",
   "metadata": {},
   "source": [
    "## FCN"
   ]
  },
  {
   "cell_type": "code",
   "execution_count": 111,
   "id": "20a59a2a-a25d-4e1b-b9b4-7fd1bb6ea50a",
   "metadata": {},
   "outputs": [
    {
     "name": "stderr",
     "output_type": "stream",
     "text": [
      "GPU available: False, used: False\n",
      "TPU available: False, using: 0 TPU cores\n",
      "IPU available: False, using: 0 IPUs\n"
     ]
    },
    {
     "name": "stdout",
     "output_type": "stream",
     "text": [
      "Initializing Linear(in_features=400, out_features=50, bias=True) with kaiming_normal\n",
      "Initializing Linear(in_features=50, out_features=2, bias=True) with kaiming_normal\n",
      "No transforms given, assuming just need to tensorize.\n"
     ]
    },
    {
     "name": "stderr",
     "output_type": "stream",
     "text": [
      "/Users/adamklie/miniconda3/envs/eugene/lib/python3.7/site-packages/pytorch_lightning/trainer/data_loading.py:133: UserWarning: The dataloader, predict_dataloader 0, does not have many workers which may be a bottleneck. Consider increasing the value of the `num_workers` argument` (try 4 which is the number of cpus on this machine) in the `DataLoader` init to improve performance.\n",
      "  f\"The dataloader, {name}, does not have many workers which may be a bottleneck.\"\n"
     ]
    },
    {
     "data": {
      "application/vnd.jupyter.widget-view+json": {
       "model_id": "50cb299bcb954d5db701b66a614a7c58",
       "version_major": 2,
       "version_minor": 0
      },
      "text/plain": [
       "Predicting: 0it [00:00, ?it/s]"
      ]
     },
     "metadata": {},
     "output_type": "display_data"
    }
   ],
   "source": [
    "def test_FCN():\n",
    "    model = eu.models.FCN(\n",
    "        input_len=SEQ_LEN,\n",
    "        output_dim=OUT_DIMS,\n",
    "        strand=STRAND,\n",
    "        task=TASK,\n",
    "        aggr=None,\n",
    "        loss_fxn=LOSS_FXN,\n",
    "        fc_kwargs=FCN_KWARGS\n",
    "    )\n",
    "    check_model(model)\n",
    "test_FCN()"
   ]
  },
  {
   "cell_type": "markdown",
   "id": "f193c43a",
   "metadata": {},
   "source": [
    "## CNN"
   ]
  },
  {
   "cell_type": "code",
   "execution_count": 112,
   "id": "71362429",
   "metadata": {},
   "outputs": [
    {
     "name": "stderr",
     "output_type": "stream",
     "text": [
      "GPU available: False, used: False\n",
      "TPU available: False, using: 0 TPU cores\n",
      "IPU available: False, using: 0 IPUs\n"
     ]
    },
    {
     "name": "stdout",
     "output_type": "stream",
     "text": [
      "Initializing Conv1d(4, 16, kernel_size=(15,), stride=(1,), padding=valid) with kaiming_normal\n",
      "Initializing Conv1d(16, 32, kernel_size=(5,), stride=(1,), padding=valid) with kaiming_normal\n",
      "Initializing Linear(in_features=2624, out_features=50, bias=True) with kaiming_normal\n",
      "Initializing Linear(in_features=50, out_features=2, bias=True) with kaiming_normal\n",
      "No transforms given, assuming just need to tensorize.\n"
     ]
    },
    {
     "data": {
      "application/vnd.jupyter.widget-view+json": {
       "model_id": "4348df875dd640d58595b1fd7d598214",
       "version_major": 2,
       "version_minor": 0
      },
      "text/plain": [
       "Predicting: 0it [00:00, ?it/s]"
      ]
     },
     "metadata": {},
     "output_type": "display_data"
    }
   ],
   "source": [
    "def test_CNN():\n",
    "    model = eu.models.CNN(\n",
    "        input_len=SEQ_LEN,\n",
    "        output_dim=OUT_DIMS,\n",
    "        strand=STRAND,\n",
    "        task=TASK,\n",
    "        aggr=None,\n",
    "        loss_fxn=LOSS_FXN,\n",
    "        fc_kwargs=FCN_KWARGS,\n",
    "        conv_kwargs=CNN_KWARGS\n",
    "    )\n",
    "    check_model(model)\n",
    "test_CNN()"
   ]
  },
  {
   "cell_type": "markdown",
   "id": "399d9fdb",
   "metadata": {},
   "source": [
    "## RNN"
   ]
  },
  {
   "cell_type": "code",
   "execution_count": 114,
   "id": "4da162e7",
   "metadata": {},
   "outputs": [
    {
     "name": "stderr",
     "output_type": "stream",
     "text": [
      "GPU available: False, used: False\n",
      "TPU available: False, using: 0 TPU cores\n",
      "IPU available: False, using: 0 IPUs\n"
     ]
    },
    {
     "name": "stdout",
     "output_type": "stream",
     "text": [
      "Initializing Linear(in_features=64, out_features=2, bias=True) with kaiming_normal\n",
      "No transforms given, assuming just need to tensorize.\n"
     ]
    },
    {
     "name": "stderr",
     "output_type": "stream",
     "text": [
      "/Users/adamklie/miniconda3/envs/eugene/lib/python3.7/site-packages/pytorch_lightning/trainer/data_loading.py:133: UserWarning: The dataloader, predict_dataloader 0, does not have many workers which may be a bottleneck. Consider increasing the value of the `num_workers` argument` (try 4 which is the number of cpus on this machine) in the `DataLoader` init to improve performance.\n",
      "  f\"The dataloader, {name}, does not have many workers which may be a bottleneck.\"\n"
     ]
    },
    {
     "data": {
      "application/vnd.jupyter.widget-view+json": {
       "model_id": "69933192bc7142818fe3ec8be8c64f4b",
       "version_major": 2,
       "version_minor": 0
      },
      "text/plain": [
       "Predicting: 0it [00:00, ?it/s]"
      ]
     },
     "metadata": {},
     "output_type": "display_data"
    }
   ],
   "source": [
    "def test_RNN():\n",
    "    model = eu.models.RNN(\n",
    "        input_len=SEQ_LEN,\n",
    "        output_dim=OUT_DIMS,\n",
    "        strand=STRAND,\n",
    "        task=TASK,\n",
    "        aggr=None,\n",
    "        loss_fxn=LOSS_FXN,\n",
    "        rnn_kwargs=RNN_KWARGS\n",
    "    )\n",
    "    check_model(model, transpose=True)\n",
    "test_RNN()"
   ]
  },
  {
   "cell_type": "markdown",
   "id": "fbe13fc4",
   "metadata": {},
   "source": [
    "## Hybrid"
   ]
  },
  {
   "cell_type": "code",
   "execution_count": 115,
   "id": "3aa409dd-d482-4a1b-b0d4-1e6419ea7f45",
   "metadata": {},
   "outputs": [
    {
     "name": "stderr",
     "output_type": "stream",
     "text": [
      "GPU available: False, used: False\n",
      "TPU available: False, using: 0 TPU cores\n",
      "IPU available: False, using: 0 IPUs\n"
     ]
    },
    {
     "name": "stdout",
     "output_type": "stream",
     "text": [
      "Initializing Conv1d(4, 16, kernel_size=(15,), stride=(1,), padding=valid) with kaiming_normal\n",
      "Initializing Conv1d(16, 32, kernel_size=(5,), stride=(1,), padding=valid) with kaiming_normal\n",
      "Initializing Linear(in_features=64, out_features=50, bias=True) with kaiming_normal\n",
      "Initializing Linear(in_features=50, out_features=2, bias=True) with kaiming_normal\n",
      "No transforms given, assuming just need to tensorize.\n"
     ]
    },
    {
     "name": "stderr",
     "output_type": "stream",
     "text": [
      "/Users/adamklie/miniconda3/envs/eugene/lib/python3.7/site-packages/pytorch_lightning/trainer/data_loading.py:133: UserWarning: The dataloader, predict_dataloader 0, does not have many workers which may be a bottleneck. Consider increasing the value of the `num_workers` argument` (try 4 which is the number of cpus on this machine) in the `DataLoader` init to improve performance.\n",
      "  f\"The dataloader, {name}, does not have many workers which may be a bottleneck.\"\n"
     ]
    },
    {
     "data": {
      "application/vnd.jupyter.widget-view+json": {
       "model_id": "927d652a84074dd09a81b6302c5312fd",
       "version_major": 2,
       "version_minor": 0
      },
      "text/plain": [
       "Predicting: 0it [00:00, ?it/s]"
      ]
     },
     "metadata": {},
     "output_type": "display_data"
    }
   ],
   "source": [
    "def test_Hybrid():\n",
    "    model = eu.models.Hybrid(\n",
    "        input_len=SEQ_LEN,\n",
    "        output_dim=OUT_DIMS,\n",
    "        strand=STRAND,\n",
    "        task=TASK,\n",
    "        aggr=None,\n",
    "        loss_fxn=LOSS_FXN,\n",
    "        fc_kwargs=FCN_KWARGS,\n",
    "        conv_kwargs=CNN_KWARGS,\n",
    "        rnn_kwargs=RNN_KWARGS\n",
    "    )\n",
    "    check_model(model) \n",
    "test_Hybrid()"
   ]
  },
  {
   "cell_type": "markdown",
   "id": "f4614db7-d736-4a67-af99-d2b55feb07aa",
   "metadata": {},
   "source": [
    "# SOTA Models"
   ]
  },
  {
   "cell_type": "markdown",
   "id": "fa85dadb-1eaa-4eef-8d84-ff20ec8fda2b",
   "metadata": {},
   "source": [
    "## DeepBind"
   ]
  },
  {
   "cell_type": "code",
   "execution_count": 121,
   "id": "e7f96a4d",
   "metadata": {},
   "outputs": [
    {
     "name": "stderr",
     "output_type": "stream",
     "text": [
      "GPU available: False, used: False\n",
      "TPU available: False, using: 0 TPU cores\n",
      "IPU available: False, using: 0 IPUs\n"
     ]
    },
    {
     "name": "stdout",
     "output_type": "stream",
     "text": [
      "Initializing Conv1d(4, 16, kernel_size=(16,), stride=(1,), padding=valid) with kaiming_normal\n",
      "Initializing Linear(in_features=32, out_features=32, bias=True) with kaiming_normal\n",
      "Initializing Linear(in_features=32, out_features=2, bias=True) with kaiming_normal\n",
      "No transforms given, assuming just need to tensorize.\n"
     ]
    },
    {
     "name": "stderr",
     "output_type": "stream",
     "text": [
      "/Users/adamklie/miniconda3/envs/eugene/lib/python3.7/site-packages/pytorch_lightning/trainer/data_loading.py:133: UserWarning: The dataloader, predict_dataloader 0, does not have many workers which may be a bottleneck. Consider increasing the value of the `num_workers` argument` (try 4 which is the number of cpus on this machine) in the `DataLoader` init to improve performance.\n",
      "  f\"The dataloader, {name}, does not have many workers which may be a bottleneck.\"\n"
     ]
    },
    {
     "data": {
      "application/vnd.jupyter.widget-view+json": {
       "model_id": "1be1215ab76847128d536878867ffcf6",
       "version_major": 2,
       "version_minor": 0
      },
      "text/plain": [
       "Predicting: 0it [00:00, ?it/s]"
      ]
     },
     "metadata": {},
     "output_type": "display_data"
    }
   ],
   "source": [
    "def test_DeepBind():\n",
    "    model = eu.models.DeepBind(\n",
    "        input_len=SEQ_LEN,\n",
    "        output_dim=OUT_DIMS,\n",
    "        strand=STRAND,\n",
    "        task=TASK,\n",
    "        aggr=\"max\",\n",
    "        loss_fxn=LOSS_FXN,\n",
    "    )\n",
    "    check_model(model)\n",
    "test_DeepBind()"
   ]
  },
  {
   "cell_type": "markdown",
   "id": "fa28f97f-863f-4043-8c13-ee42996f70ce",
   "metadata": {},
   "source": [
    "## DeepSEA"
   ]
  },
  {
   "cell_type": "code",
   "execution_count": 122,
   "id": "33cefdef",
   "metadata": {},
   "outputs": [
    {
     "name": "stderr",
     "output_type": "stream",
     "text": [
      "GPU available: False, used: False\n",
      "TPU available: False, using: 0 TPU cores\n",
      "IPU available: False, using: 0 IPUs\n"
     ]
    },
    {
     "name": "stdout",
     "output_type": "stream",
     "text": [
      "Initializing Conv1d(4, 16, kernel_size=(16,), stride=(1,), padding=valid) with kaiming_normal\n",
      "Initializing Linear(in_features=32, out_features=32, bias=True) with kaiming_normal\n",
      "Initializing Linear(in_features=32, out_features=2, bias=True) with kaiming_normal\n",
      "No transforms given, assuming just need to tensorize.\n"
     ]
    },
    {
     "name": "stderr",
     "output_type": "stream",
     "text": [
      "/Users/adamklie/miniconda3/envs/eugene/lib/python3.7/site-packages/pytorch_lightning/trainer/data_loading.py:133: UserWarning: The dataloader, predict_dataloader 0, does not have many workers which may be a bottleneck. Consider increasing the value of the `num_workers` argument` (try 4 which is the number of cpus on this machine) in the `DataLoader` init to improve performance.\n",
      "  f\"The dataloader, {name}, does not have many workers which may be a bottleneck.\"\n"
     ]
    },
    {
     "data": {
      "application/vnd.jupyter.widget-view+json": {
       "model_id": "4237f19d76364a7785e5ff980232054d",
       "version_major": 2,
       "version_minor": 0
      },
      "text/plain": [
       "Predicting: 0it [00:00, ?it/s]"
      ]
     },
     "metadata": {},
     "output_type": "display_data"
    }
   ],
   "source": [
    "def test_DeepSEA():\n",
    "    model = eu.models.DeepBind(\n",
    "        input_len=SEQ_LEN,\n",
    "        output_dim=OUT_DIMS,\n",
    "        strand=STRAND,\n",
    "        task=TASK,\n",
    "        aggr=None,\n",
    "        loss_fxn=LOSS_FXN,\n",
    "    )\n",
    "    check_model(model)\n",
    "test_DeepSEA()"
   ]
  },
  {
   "cell_type": "markdown",
   "id": "d21fc245-0f55-40bd-9c38-7366dc947596",
   "metadata": {},
   "source": [
    "# Custom Models"
   ]
  },
  {
   "cell_type": "markdown",
   "id": "d54ce4d2-65c4-4cb9-aedc-2da6a51bdff3",
   "metadata": {},
   "source": [
    "## Jores21CNN"
   ]
  },
  {
   "cell_type": "code",
   "execution_count": 124,
   "id": "ac923140",
   "metadata": {},
   "outputs": [
    {
     "name": "stderr",
     "output_type": "stream",
     "text": [
      "GPU available: False, used: False\n",
      "TPU available: False, using: 0 TPU cores\n",
      "IPU available: False, using: 0 IPUs\n"
     ]
    },
    {
     "name": "stdout",
     "output_type": "stream",
     "text": [
      "No transforms given, assuming just need to tensorize.\n"
     ]
    },
    {
     "data": {
      "application/vnd.jupyter.widget-view+json": {
       "model_id": "895f3eed51214a6a90c59f291845850a",
       "version_major": 2,
       "version_minor": 0
      },
      "text/plain": [
       "Predicting: 0it [00:00, ?it/s]"
      ]
     },
     "metadata": {},
     "output_type": "display_data"
    }
   ],
   "source": [
    "def test_Jores21CNN():\n",
    "    model = eu.models.Jores21CNN(\n",
    "        input_len=SEQ_LEN,\n",
    "        output_dim=OUT_DIMS,\n",
    "        strand=STRAND,\n",
    "        task=TASK,\n",
    "        aggr=None,\n",
    "        loss_fxn=LOSS_FXN,\n",
    "    )\n",
    "    check_model(model)\n",
    "test_Jores21CNN()"
   ]
  },
  {
   "cell_type": "markdown",
   "id": "2a5dba65",
   "metadata": {},
   "source": [
    "## Kopp21CNN"
   ]
  },
  {
   "cell_type": "code",
   "execution_count": 151,
   "id": "2cf887cf",
   "metadata": {},
   "outputs": [
    {
     "name": "stderr",
     "output_type": "stream",
     "text": [
      "GPU available: False, used: False\n",
      "TPU available: False, using: 0 TPU cores\n",
      "IPU available: False, using: 0 IPUs\n"
     ]
    },
    {
     "name": "stdout",
     "output_type": "stream",
     "text": [
      "No transforms given, assuming just need to tensorize.\n"
     ]
    },
    {
     "name": "stderr",
     "output_type": "stream",
     "text": [
      "/Users/adamklie/miniconda3/envs/eugene/lib/python3.7/site-packages/pytorch_lightning/trainer/data_loading.py:133: UserWarning: The dataloader, predict_dataloader 0, does not have many workers which may be a bottleneck. Consider increasing the value of the `num_workers` argument` (try 4 which is the number of cpus on this machine) in the `DataLoader` init to improve performance.\n",
      "  f\"The dataloader, {name}, does not have many workers which may be a bottleneck.\"\n"
     ]
    },
    {
     "data": {
      "application/vnd.jupyter.widget-view+json": {
       "model_id": "75d248cbf8354f32b31a386dca9a52e5",
       "version_major": 2,
       "version_minor": 0
      },
      "text/plain": [
       "Predicting: 0it [00:00, ?it/s]"
      ]
     },
     "metadata": {},
     "output_type": "display_data"
    },
    {
     "name": "stdout",
     "output_type": "stream",
     "text": [
      "SeqData object modified:\n",
      "    seqs_annot:\n",
      "        + activity_0_predictions, activity_1_predictions\n"
     ]
    }
   ],
   "source": [
    "def test_Kopp21CNN():\n",
    "    model = eu.models.Kopp21CNN(\n",
    "        input_len=SEQ_LEN,\n",
    "        output_dim=OUT_DIMS,\n",
    "        strand=STRAND,\n",
    "        task=TASK,\n",
    "        aggr=\"max\",\n",
    "        loss_fxn=LOSS_FXN,\n",
    "    )\n",
    "    check_model(model, transpose=False)\n",
    "test_Kopp21CNN()"
   ]
  },
  {
   "cell_type": "markdown",
   "id": "de05b344-0536-44bb-bd19-268500116b6a",
   "metadata": {
    "tags": []
   },
   "source": [
    "# Load from config"
   ]
  },
  {
   "cell_type": "code",
   "execution_count": 155,
   "id": "0e9ca43f-c2c5-4289-a69a-2e70385defdf",
   "metadata": {},
   "outputs": [
    {
     "name": "stderr",
     "output_type": "stream",
     "text": [
      "GPU available: False, used: False\n",
      "TPU available: False, using: 0 TPU cores\n",
      "IPU available: False, using: 0 IPUs\n"
     ]
    },
    {
     "name": "stdout",
     "output_type": "stream",
     "text": [
      "No transforms given, assuming just need to tensorize.\n"
     ]
    },
    {
     "name": "stderr",
     "output_type": "stream",
     "text": [
      "/Users/adamklie/miniconda3/envs/eugene/lib/python3.7/site-packages/pytorch_lightning/trainer/data_loading.py:133: UserWarning: The dataloader, predict_dataloader 0, does not have many workers which may be a bottleneck. Consider increasing the value of the `num_workers` argument` (try 4 which is the number of cpus on this machine) in the `DataLoader` init to improve performance.\n",
      "  f\"The dataloader, {name}, does not have many workers which may be a bottleneck.\"\n"
     ]
    },
    {
     "data": {
      "application/vnd.jupyter.widget-view+json": {
       "model_id": "61320fe2c9dd437fa6e8507717ae6e62",
       "version_major": 2,
       "version_minor": 0
      },
      "text/plain": [
       "Predicting: 0it [00:00, ?it/s]"
      ]
     },
     "metadata": {},
     "output_type": "display_data"
    }
   ],
   "source": [
    "def test_load_config():\n",
    "    model_config = \"../../_configs/ssHybrid.yaml\"\n",
    "    model = eu.models.load_config(\"Hybrid\", model_config)\n",
    "    check_model(model)\n",
    "test_load_config()\n"
   ]
  },
  {
   "cell_type": "markdown",
   "id": "7dc78854-191e-4714-bc83-7fa3f442e26d",
   "metadata": {},
   "source": [
    "---"
   ]
  }
 ],
 "metadata": {
  "kernelspec": {
   "display_name": "Python 3.7.12 ('eugene')",
   "language": "python",
   "name": "python3"
  },
  "language_info": {
   "codemirror_mode": {
    "name": "ipython",
    "version": 3
   },
   "file_extension": ".py",
   "mimetype": "text/x-python",
   "name": "python",
   "nbconvert_exporter": "python",
   "pygments_lexer": "ipython3",
   "version": "3.7.12"
  },
  "vscode": {
   "interpreter": {
    "hash": "7782186cff5d7e5d5e3fe0a7e6ebf1d74655b3470c460e9b06cf809b4e9601e8"
   }
  }
 },
 "nbformat": 4,
 "nbformat_minor": 5
}

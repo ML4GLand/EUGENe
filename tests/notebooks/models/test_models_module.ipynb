{
 "cells": [
  {
   "cell_type": "markdown",
   "id": "ec1087ef-40fd-4351-b2f5-d11524d97858",
   "metadata": {},
   "source": [
    "# Testing the `models` module"
   ]
  },
  {
   "cell_type": "markdown",
   "id": "8c05151d-48fa-43fb-a119-1ea6bb841141",
   "metadata": {
    "tags": []
   },
   "source": [
    "**Authorship:**\n",
    "Adam Klie, *10/04/2022*\n",
    "***\n",
    "**Description:**\n",
    "Notebook for testing out the `models` module."
   ]
  },
  {
   "cell_type": "code",
   "execution_count": 1,
   "id": "c870da00-aa99-4057-bcbf-b47c6ddecb71",
   "metadata": {
    "execution": {
     "iopub.execute_input": "2022-10-04T16:28:16.402299Z",
     "iopub.status.busy": "2022-10-04T16:28:16.402033Z",
     "iopub.status.idle": "2022-10-04T16:28:54.583944Z",
     "shell.execute_reply": "2022-10-04T16:28:54.583312Z",
     "shell.execute_reply.started": "2022-10-04T16:28:16.402243Z"
    },
    "tags": []
   },
   "outputs": [
    {
     "name": "stderr",
     "output_type": "stream",
     "text": [
      "Global seed set to 13\n"
     ]
    },
    {
     "name": "stdout",
     "output_type": "stream",
     "text": [
      "GPU is available: True\n",
      "Number of GPUs: 1\n",
      "Current GPU: 0\n",
      "GPUs: Quadro RTX 5000\n"
     ]
    }
   ],
   "source": [
    "if 'autoreload' not in get_ipython().extension_manager.loaded:\n",
    "    %load_ext autoreload\n",
    "%autoreload 2\n",
    "\n",
    "import os\n",
    "import torch\n",
    "import numpy as np\n",
    "import pandas as pd\n",
    "import eugene as eu"
   ]
  },
  {
   "cell_type": "code",
   "execution_count": null,
   "id": "d9cc8f97-55af-4c7c-97fa-1d2b67ce6b87",
   "metadata": {},
   "outputs": [],
   "source": [
    "SEQ_LEN = 66\n",
    "OUT_DIMS = 2\n",
    "MODEL = \"hybrid\"\n",
    "STRAND = \"ss\"\n",
    "TASK = \"regression\"\n",
    "LOSS_FXN = \"mse\""
   ]
  },
  {
   "cell_type": "code",
   "execution_count": null,
   "id": "88f3f677-c029-425e-aa29-79fa7c850c11",
   "metadata": {},
   "outputs": [],
   "source": [
    "# Length of strand\n",
    "x_len = 66\n",
    "\n",
    "# Substitute x and x_rev for their respective data\n",
    "x = torch.randn(10, 4, x_len)\n",
    "x_rev = torch.randn(10, 4, x_len)\n",
    "y = torch.randn(10, 2)"
   ]
  },
  {
   "cell_type": "code",
   "execution_count": null,
   "id": "d41dfe00-fabc-4fce-84e0-9194e2048670",
   "metadata": {},
   "outputs": [],
   "source": [
    "sdata = eu.datasets.random1000()\n",
    "sdata"
   ]
  },
  {
   "cell_type": "markdown",
   "id": "a5917992-5baf-48af-89ee-aa7c8baf06e8",
   "metadata": {},
   "source": [
    "# BaseModel"
   ]
  },
  {
   "cell_type": "markdown",
   "id": "cdddee88-d884-4106-bbc3-9e690197405b",
   "metadata": {},
   "source": [
    "# Base Models"
   ]
  },
  {
   "cell_type": "code",
   "execution_count": null,
   "id": "00037f4a-900c-493e-880e-476b933dbf8e",
   "metadata": {},
   "outputs": [],
   "source": [
    "\n",
    "CNN_KWARGS=dict(channels=[4, 16, 32], \n",
    "                conv_kernels=[15, 5], \n",
    "                pool_kernels=[1, 1])\n",
    "RNN_KWARGS=dict(output_dim=32,\n",
    "                bidirectional=True,\n",
    "                batch_first=True)\n",
    "FCN_KWARGS=dict(hidden_dims=[50])"
   ]
  },
  {
   "cell_type": "code",
   "execution_count": null,
   "id": "20a59a2a-a25d-4e1b-b9b4-7fd1bb6ea50a",
   "metadata": {},
   "outputs": [],
   "source": [
    "eu.models.FCN(\n",
    "    input_len=66\n",
    "    "
   ]
  },
  {
   "cell_type": "code",
   "execution_count": null,
   "id": "3aa409dd-d482-4a1b-b0d4-1e6419ea7f45",
   "metadata": {},
   "outputs": [],
   "source": [
    "eugene = eu.models.Hybrid(\n",
    "    input_len=SEQ_LEN, \n",
    "    output_dim=OUT_DIMS,\n",
    "    strand=STRAND,\n",
    "    task=TASK,\n",
    "    loss_fxn=LOSS_FXN,\n",
    "    conv_kwargs=CNN_KWARGS,\n",
    "    rnn_kwargs=RNN_KWARGS,\n",
    "    fc_kwargs=FCN_KWARGS\n",
    ")\n",
    "eu.models.base.init_weights(eugene)\n",
    "eugene"
   ]
  },
  {
   "cell_type": "markdown",
   "id": "f4614db7-d736-4a67-af99-d2b55feb07aa",
   "metadata": {},
   "source": [
    "# SOTA Models"
   ]
  },
  {
   "cell_type": "markdown",
   "id": "fa85dadb-1eaa-4eef-8d84-ff20ec8fda2b",
   "metadata": {},
   "source": [
    "## DeepBind"
   ]
  },
  {
   "cell_type": "code",
   "execution_count": 5,
   "id": "f9709819-88b5-4141-9987-9ecf882a2707",
   "metadata": {
    "vscode": {
     "languageId": "python"
    }
   },
   "outputs": [
    {
     "data": {
      "text/plain": [
       "DeepBind(\n",
       "  (max_pool): MaxPool1d(kernel_size=4, stride=4, padding=0, dilation=1, ceil_mode=False)\n",
       "  (avg_pool): AvgPool1d(kernel_size=(4,), stride=(4,), padding=(0,))\n",
       "  (convnet): BasicConv1D(\n",
       "    (module): Sequential(\n",
       "      (0): Conv1d(4, 16, kernel_size=(4,), stride=(1,))\n",
       "      (1): ReLU()\n",
       "      (2): Dropout(p=0.2, inplace=False)\n",
       "    )\n",
       "  )\n",
       "  (fcn): BasicFullyConnectedModule(\n",
       "    (module): Sequential(\n",
       "      (0): Linear(in_features=504, out_features=256, bias=True)\n",
       "      (1): ReLU()\n",
       "      (2): Dropout(p=0.2, inplace=False)\n",
       "      (3): Linear(in_features=256, out_features=64, bias=True)\n",
       "      (4): ReLU()\n",
       "      (5): Dropout(p=0.2, inplace=False)\n",
       "      (6): Linear(in_features=64, out_features=16, bias=True)\n",
       "      (7): ReLU()\n",
       "      (8): Dropout(p=0.2, inplace=False)\n",
       "      (9): Linear(in_features=16, out_features=4, bias=True)\n",
       "      (10): ReLU()\n",
       "      (11): Dropout(p=0.2, inplace=False)\n",
       "      (12): Linear(in_features=4, out_features=1, bias=True)\n",
       "    )\n",
       "  )\n",
       "  (r_squared): R2Score()\n",
       ")"
      ]
     },
     "execution_count": 5,
     "metadata": {},
     "output_type": "execute_result"
    }
   ],
   "source": [
    "simple_deepbind_instance = DeepBind(input_len=x_len)\n",
    "\n",
    "simple_deepbind_instance"
   ]
  },
  {
   "cell_type": "code",
   "execution_count": 6,
   "id": "e815436a-e695-4d1e-9c6e-09aa0b7a9713",
   "metadata": {
    "vscode": {
     "languageId": "python"
    }
   },
   "outputs": [
    {
     "data": {
      "text/plain": [
       "(tensor([[0.4146],\n",
       "         [0.4225],\n",
       "         [0.4162],\n",
       "         [0.4346],\n",
       "         [0.4200],\n",
       "         [0.4334],\n",
       "         [0.4164],\n",
       "         [0.4181],\n",
       "         [0.4171],\n",
       "         [0.4255]], grad_fn=<AddmmBackward0>),\n",
       " torch.Size([10, 1]))"
      ]
     },
     "execution_count": 6,
     "metadata": {},
     "output_type": "execute_result"
    }
   ],
   "source": [
    "# x_rev does not need to be specified in single strand mode\n",
    "out = simple_deepbind_instance(x)\n",
    "\n",
    "out, out.shape"
   ]
  },
  {
   "cell_type": "markdown",
   "id": "05c6d115-7efa-46eb-8c67-4b768747d0f5",
   "metadata": {},
   "source": [
    "# DeepBind Parameters\n",
    "\n",
    "- input_len : int - length of input strand\n",
    "- strand : string - type of strand to process, only  || default : \"ss\" || res: single (\"ss\"), double (\"ds\"), twin (\"ts\")\n",
    "- task : string - task for the model to perform || default : \"regression\" || res: \"regression\", \"binary_classification\"\n",
    "\n",
    "#### conv_kwargs\n",
    "\n",
    "- channels : list of ints - amount of channels for each convolutional layer || default : [4, 16]\n",
    "- conv_kernels : list of int(s) - size of convolutional kernels || default : [4] || res : length must be 1 less than that of channels\n",
    "- pool_kernels : list of int(s) - size of max pooling kernels || default : [4] || res: length must be 1 less than that of channels, only applies is length of channels is > 2\n",
    "- omit_final_pool : boolean - bypass final max pooling step of output || default : True\n",
    "- dropout_rates : float - probability for the dropout of any given node || default : 0.2\n",
    "- batchnorm : boolean - enable batch normalization between layers || default : False\n",
    "\n",
    "#### mp_kwargs\n",
    "\n",
    "- kernel_size : int - motif pooling kernel size || default : 4 || res : multiples of 2\n",
    "\n",
    "#### fc_kwargs\n",
    "\n",
    "- output_dim : int - number of output dimensions for the network || default : 1\n",
    "- hidden_dims : list of int(s) - width of each hidden dimension || default : [256, 64, 16, 4]\n",
    "- dropout_rate : float - probability for the dropout of any given node || default : 0.2\n",
    "- batchnorm : boolean - enable batch normalization between layers || default : False"
   ]
  },
  {
   "cell_type": "code",
   "execution_count": 7,
   "id": "47d6d7fe-2880-47b4-94cf-4bef98659a66",
   "metadata": {
    "vscode": {
     "languageId": "python"
    }
   },
   "outputs": [
    {
     "data": {
      "text/plain": [
       "DeepBind(\n",
       "  (max_pool): MaxPool1d(kernel_size=16, stride=16, padding=0, dilation=1, ceil_mode=False)\n",
       "  (avg_pool): AvgPool1d(kernel_size=(16,), stride=(16,), padding=(0,))\n",
       "  (convnet): BasicConv1D(\n",
       "    (module): Sequential(\n",
       "      (0): Conv1d(4, 16, kernel_size=(4,), stride=(1,))\n",
       "      (1): ReLU()\n",
       "      (2): MaxPool1d(kernel_size=4, stride=4, padding=0, dilation=1, ceil_mode=False)\n",
       "      (3): Dropout(p=0.5, inplace=False)\n",
       "      (4): BatchNorm1d(16, eps=1e-05, momentum=0.1, affine=True, track_running_stats=True)\n",
       "      (5): Conv1d(16, 32, kernel_size=(4,), stride=(1,))\n",
       "      (6): ReLU()\n",
       "      (7): MaxPool1d(kernel_size=4, stride=4, padding=0, dilation=1, ceil_mode=False)\n",
       "      (8): Dropout(p=0.5, inplace=False)\n",
       "      (9): BatchNorm1d(32, eps=1e-05, momentum=0.1, affine=True, track_running_stats=True)\n",
       "    )\n",
       "  )\n",
       "  (fcn): BasicFullyConnectedModule(\n",
       "    (module): Sequential(\n",
       "      (0): Linear(in_features=12, out_features=256, bias=True)\n",
       "      (1): ReLU()\n",
       "      (2): Dropout(p=0.3, inplace=False)\n",
       "      (3): BatchNorm1d(256, eps=1e-05, momentum=0.1, affine=True, track_running_stats=True)\n",
       "      (4): Linear(in_features=256, out_features=128, bias=True)\n",
       "      (5): ReLU()\n",
       "      (6): Dropout(p=0.3, inplace=False)\n",
       "      (7): BatchNorm1d(128, eps=1e-05, momentum=0.1, affine=True, track_running_stats=True)\n",
       "      (8): Linear(in_features=128, out_features=64, bias=True)\n",
       "      (9): ReLU()\n",
       "      (10): Dropout(p=0.3, inplace=False)\n",
       "      (11): BatchNorm1d(64, eps=1e-05, momentum=0.1, affine=True, track_running_stats=True)\n",
       "      (12): Linear(in_features=64, out_features=32, bias=True)\n",
       "      (13): ReLU()\n",
       "      (14): Dropout(p=0.3, inplace=False)\n",
       "      (15): BatchNorm1d(32, eps=1e-05, momentum=0.1, affine=True, track_running_stats=True)\n",
       "      (16): Linear(in_features=32, out_features=16, bias=True)\n",
       "      (17): ReLU()\n",
       "      (18): Dropout(p=0.3, inplace=False)\n",
       "      (19): BatchNorm1d(16, eps=1e-05, momentum=0.1, affine=True, track_running_stats=True)\n",
       "      (20): Linear(in_features=16, out_features=5, bias=True)\n",
       "    )\n",
       "  )\n",
       "  (reverse_convnet): BasicConv1D(\n",
       "    (module): Sequential(\n",
       "      (0): Conv1d(4, 16, kernel_size=(4,), stride=(1,))\n",
       "      (1): ReLU()\n",
       "      (2): MaxPool1d(kernel_size=4, stride=4, padding=0, dilation=1, ceil_mode=False)\n",
       "      (3): Dropout(p=0.5, inplace=False)\n",
       "      (4): BatchNorm1d(16, eps=1e-05, momentum=0.1, affine=True, track_running_stats=True)\n",
       "      (5): Conv1d(16, 32, kernel_size=(4,), stride=(1,))\n",
       "      (6): ReLU()\n",
       "      (7): MaxPool1d(kernel_size=4, stride=4, padding=0, dilation=1, ceil_mode=False)\n",
       "      (8): Dropout(p=0.5, inplace=False)\n",
       "      (9): BatchNorm1d(32, eps=1e-05, momentum=0.1, affine=True, track_running_stats=True)\n",
       "    )\n",
       "  )\n",
       "  (reverse_fcn): BasicFullyConnectedModule(\n",
       "    (module): Sequential(\n",
       "      (0): Linear(in_features=12, out_features=256, bias=True)\n",
       "      (1): ReLU()\n",
       "      (2): Dropout(p=0.3, inplace=False)\n",
       "      (3): BatchNorm1d(256, eps=1e-05, momentum=0.1, affine=True, track_running_stats=True)\n",
       "      (4): Linear(in_features=256, out_features=128, bias=True)\n",
       "      (5): ReLU()\n",
       "      (6): Dropout(p=0.3, inplace=False)\n",
       "      (7): BatchNorm1d(128, eps=1e-05, momentum=0.1, affine=True, track_running_stats=True)\n",
       "      (8): Linear(in_features=128, out_features=64, bias=True)\n",
       "      (9): ReLU()\n",
       "      (10): Dropout(p=0.3, inplace=False)\n",
       "      (11): BatchNorm1d(64, eps=1e-05, momentum=0.1, affine=True, track_running_stats=True)\n",
       "      (12): Linear(in_features=64, out_features=32, bias=True)\n",
       "      (13): ReLU()\n",
       "      (14): Dropout(p=0.3, inplace=False)\n",
       "      (15): BatchNorm1d(32, eps=1e-05, momentum=0.1, affine=True, track_running_stats=True)\n",
       "      (16): Linear(in_features=32, out_features=16, bias=True)\n",
       "      (17): ReLU()\n",
       "      (18): Dropout(p=0.3, inplace=False)\n",
       "      (19): BatchNorm1d(16, eps=1e-05, momentum=0.1, affine=True, track_running_stats=True)\n",
       "      (20): Linear(in_features=16, out_features=5, bias=True)\n",
       "    )\n",
       "  )\n",
       "  (r_squared): R2Score()\n",
       ")"
      ]
     },
     "execution_count": 7,
     "metadata": {},
     "output_type": "execute_result"
    }
   ],
   "source": [
    "customized_deepbind_instance = DeepBind(\n",
    "    input_len=x_len,\n",
    "    strand=\"ts\",\n",
    "    mp_kwargs=dict(kernel_size=16),\n",
    "    conv_kwargs=dict(channels=[4, 16, 32], conv_kernels=[4, 4], pool_kernels=[4, 4], omit_final_pool=False, dropout_rates=0.5, batchnorm=True),\n",
    "    fc_kwargs=dict(output_dim=5, hidden_dims=[256, 128, 64, 32, 16], dropout_rate=0.3, batchnorm=True)\n",
    ")\n",
    "\n",
    "customized_deepbind_instance"
   ]
  },
  {
   "cell_type": "code",
   "execution_count": 8,
   "id": "c2ed0a04-9a4f-42c0-8453-0ffb0a202e2d",
   "metadata": {
    "vscode": {
     "languageId": "python"
    }
   },
   "outputs": [
    {
     "data": {
      "text/plain": [
       "(tensor([[-0.3034],\n",
       "         [ 0.1875],\n",
       "         [ 0.0155],\n",
       "         [ 0.1738],\n",
       "         [-0.1377],\n",
       "         [ 0.0516],\n",
       "         [-0.2159],\n",
       "         [-0.0738],\n",
       "         [ 0.0833],\n",
       "         [ 0.0272]], grad_fn=<UnsqueezeBackward0>),\n",
       " torch.Size([10, 1]))"
      ]
     },
     "execution_count": 8,
     "metadata": {},
     "output_type": "execute_result"
    }
   ],
   "source": [
    "# x_rev must be specified in double and twin strand modes\n",
    "out = customized_deepbind_instance(x, x_rev)\n",
    "\n",
    "out, out.shape"
   ]
  },
  {
   "cell_type": "markdown",
   "id": "fa28f97f-863f-4043-8c13-ee42996f70ce",
   "metadata": {},
   "source": [
    "# Simple usage of DeepSEA module\n",
    "\n",
    "The DeepBind module only requires one parameter to function. It can be further customized with optional parameters."
   ]
  },
  {
   "cell_type": "code",
   "execution_count": 4,
   "id": "6d26ac82-349e-470d-b42e-5216d72d1c08",
   "metadata": {
    "vscode": {
     "languageId": "python"
    }
   },
   "outputs": [
    {
     "data": {
      "text/plain": [
       "DeepSEA(\n",
       "  (module): Sequential(\n",
       "    (0): Conv1d(4, 320, kernel_size=(8,), stride=(1,))\n",
       "    (1): ReLU()\n",
       "    (2): MaxPool1d(kernel_size=4, stride=4, padding=0, dilation=1, ceil_mode=False)\n",
       "    (3): Dropout(p=0.2, inplace=False)\n",
       "    (4): Conv1d(320, 480, kernel_size=(8,), stride=(1,))\n",
       "    (5): ReLU()\n",
       "    (6): MaxPool1d(kernel_size=4, stride=4, padding=0, dilation=1, ceil_mode=False)\n",
       "    (7): Dropout(p=0.2, inplace=False)\n",
       "    (8): Conv1d(480, 960, kernel_size=(8,), stride=(1,))\n",
       "    (9): ReLU()\n",
       "    (10): Dropout(p=0.2, inplace=False)\n",
       "  )\n",
       "  (fcnet): BasicFullyConnectedModule(\n",
       "    (module): Sequential(\n",
       "      (0): Linear(in_features=50880, out_features=1, bias=True)\n",
       "    )\n",
       "  )\n",
       "  (r_squared): R2Score()\n",
       ")"
      ]
     },
     "execution_count": 4,
     "metadata": {},
     "output_type": "execute_result"
    }
   ],
   "source": [
    "simple_deepsea_instance = DeepSEA(input_len=x_len)\n",
    "\n",
    "simple_deepsea_instance"
   ]
  },
  {
   "cell_type": "code",
   "execution_count": 5,
   "id": "757200b2-576b-453c-969d-080542d398f5",
   "metadata": {
    "vscode": {
     "languageId": "python"
    }
   },
   "outputs": [
    {
     "data": {
      "text/plain": [
       "(tensor([[ 0.0167],\n",
       "         [ 0.0913],\n",
       "         [ 0.0399],\n",
       "         [-0.0184],\n",
       "         [ 0.1422],\n",
       "         [-0.0843],\n",
       "         [-0.0960],\n",
       "         [ 0.0060],\n",
       "         [ 0.0312],\n",
       "         [ 0.3167]], grad_fn=<AddmmBackward0>),\n",
       " torch.Size([10, 1]))"
      ]
     },
     "execution_count": 5,
     "metadata": {},
     "output_type": "execute_result"
    }
   ],
   "source": [
    "# x_rev does not need to be specified in single strand mode\n",
    "out = simple_deepsea_instance(x)\n",
    "\n",
    "out, out.shape"
   ]
  },
  {
   "cell_type": "markdown",
   "id": "d21fc245-0f55-40bd-9c38-7366dc947596",
   "metadata": {},
   "source": [
    "# Custom Models"
   ]
  },
  {
   "cell_type": "markdown",
   "id": "d54ce4d2-65c4-4cb9-aedc-2da6a51bdff3",
   "metadata": {},
   "source": [
    "# Instantiate a `Jores21CNN` model"
   ]
  },
  {
   "cell_type": "code",
   "execution_count": 89,
   "id": "3747745b-024e-4088-8530-86bc78e0c060",
   "metadata": {
    "vscode": {
     "languageId": "python"
    }
   },
   "outputs": [
    {
     "data": {
      "text/plain": [
       "Jores21CNN(\n",
       "  (hp_metric): R2Score()\n",
       "  (biconv): BiConv1D()\n",
       "  (conv): Conv1d(128, 128, kernel_size=(13,), stride=(1,), padding=same)\n",
       "  (dropout): Dropout(p=0.15, inplace=False)\n",
       "  (fc): Linear(in_features=21760, out_features=64, bias=True)\n",
       "  (batchnorm): BatchNorm1d(64, eps=1e-05, momentum=0.1, affine=True, track_running_stats=True)\n",
       "  (fc2): Linear(in_features=64, out_features=1, bias=True)\n",
       ")"
      ]
     },
     "execution_count": 89,
     "metadata": {},
     "output_type": "execute_result"
    }
   ],
   "source": [
    "model = eu.models.Jores21CNN(170, 1)\n",
    "model"
   ]
  },
  {
   "cell_type": "code",
   "execution_count": 90,
   "id": "f88cdfd7-fc78-46d1-a6c9-cea019b2ab69",
   "metadata": {
    "vscode": {
     "languageId": "python"
    }
   },
   "outputs": [],
   "source": [
    "x = torch.randn(10, 4, 170)"
   ]
  },
  {
   "cell_type": "code",
   "execution_count": 91,
   "id": "3e028b21-eec1-451b-bbdb-83f5f05200d8",
   "metadata": {
    "vscode": {
     "languageId": "python"
    }
   },
   "outputs": [
    {
     "data": {
      "text/plain": [
       "tensor([[0.4699],\n",
       "        [0.8423],\n",
       "        [1.1953],\n",
       "        [1.1711],\n",
       "        [0.7117],\n",
       "        [0.0583],\n",
       "        [1.0075],\n",
       "        [0.9660],\n",
       "        [0.5447],\n",
       "        [0.7457]], grad_fn=<AddmmBackward0>)"
      ]
     },
     "execution_count": 91,
     "metadata": {},
     "output_type": "execute_result"
    }
   ],
   "source": [
    "model(x)"
   ]
  },
  {
   "cell_type": "code",
   "execution_count": 92,
   "id": "d7aa88b5-3397-4745-bb3c-7e6db8a203b8",
   "metadata": {
    "vscode": {
     "languageId": "python"
    }
   },
   "outputs": [
    {
     "data": {
      "text/plain": [
       "78"
      ]
     },
     "execution_count": 92,
     "metadata": {},
     "output_type": "execute_result"
    }
   ],
   "source": [
    "core_promoter_elements = eu.utils.MinimalMEME('/cellar/users/aklie/projects/EUGENe/tests/_data/datasets/jores21/CPEs.meme')\n",
    "tf_groups = eu.utils.MinimalMEME('/cellar/users/aklie/projects/EUGENe/tests/_data/datasets/jores21/TF-clusters.meme')\n",
    "all_motifs = {**core_promoter_elements.motifs, **tf_groups.motifs}\n",
    "len(all_motifs)"
   ]
  },
  {
   "cell_type": "code",
   "execution_count": 93,
   "id": "296d2b75-0650-4f12-b9a1-2e5ad6463bac",
   "metadata": {
    "vscode": {
     "languageId": "python"
    }
   },
   "outputs": [
    {
     "data": {
      "text/plain": [
       "tensor([[ 5.8025e-02,  2.6416e-02, -3.8535e-02, -1.0577e-02,  4.3315e-02,\n",
       "          2.1613e-02, -1.7688e-02, -5.0108e-02,  4.6055e-02, -2.9319e-02,\n",
       "         -3.8448e-02, -1.5185e-02, -1.7067e-03],\n",
       "        [-4.1143e-03, -3.3956e-02,  6.2217e-04, -4.1170e-02,  4.2986e-02,\n",
       "          2.0373e-02, -1.6676e-02,  2.3642e-02, -3.5047e-02,  4.6149e-02,\n",
       "          5.6794e-03,  3.8404e-02,  6.6676e-05],\n",
       "        [-2.6334e-02, -2.7681e-02, -2.8493e-02, -5.0077e-02,  4.9505e-02,\n",
       "          1.5518e-02,  3.3436e-02,  4.9166e-02, -2.9328e-02,  1.6801e-02,\n",
       "          4.0794e-02, -7.5571e-03,  3.2738e-02],\n",
       "        [-4.1177e-02,  3.2498e-04,  4.9090e-02,  4.4912e-02,  4.4724e-03,\n",
       "          1.5145e-02,  9.6194e-03,  3.7163e-02,  3.9051e-02, -3.7046e-03,\n",
       "          3.5302e-02,  5.0088e-02, -2.5166e-02]])"
      ]
     },
     "execution_count": 93,
     "metadata": {},
     "output_type": "execute_result"
    }
   ],
   "source": [
    "model.biconv.kernels[0][0]"
   ]
  },
  {
   "cell_type": "code",
   "execution_count": 94,
   "id": "24ee6c4a-76ac-4cf1-a2be-6e42d94fd299",
   "metadata": {
    "vscode": {
     "languageId": "python"
    }
   },
   "outputs": [],
   "source": [
    "eu.models.init_from_motifs(\n",
    "    model, \n",
    "    all_motifs, \n",
    "    layer_name='biconv', \n",
    "    kernel_name='kernels',\n",
    "    kernel_number=0\n",
    ")"
   ]
  },
  {
   "cell_type": "code",
   "execution_count": 95,
   "id": "49abed98-f640-4a58-bf82-fa36216036bb",
   "metadata": {
    "vscode": {
     "languageId": "python"
    }
   },
   "outputs": [
    {
     "data": {
      "text/plain": [
       "tensor([[0.5100, 0.6300, 0.9960, 0.4940, 0.0400, 3.8720, 0.0080, 3.9680, 2.6120,\n",
       "         3.8960, 1.3640, 2.7820, 0.5020],\n",
       "        [1.5060, 1.5940, 1.2120, 2.6200, 0.0080, 0.0000, 0.0560, 0.0000, 0.0480,\n",
       "         0.0000, 0.1120, 0.3260, 1.7280],\n",
       "        [0.4780, 0.7960, 0.7880, 0.3020, 0.0080, 0.0000, 0.0240, 0.0080, 0.0080,\n",
       "         0.0320, 0.1440, 0.4780, 1.2660],\n",
       "        [1.5060, 0.9820, 1.0040, 0.5820, 3.9440, 0.1280, 3.9120, 0.0240, 1.3320,\n",
       "         0.0720, 2.3820, 0.4140, 0.5020]])"
      ]
     },
     "execution_count": 95,
     "metadata": {},
     "output_type": "execute_result"
    }
   ],
   "source": [
    "model.biconv.kernels[0][0]"
   ]
  },
  {
   "cell_type": "code",
   "execution_count": 96,
   "id": "05af86eb-cd94-4144-8b5e-d2337f421ed3",
   "metadata": {
    "vscode": {
     "languageId": "python"
    }
   },
   "outputs": [
    {
     "data": {
      "text/plain": [
       "tensor([[1.3220],\n",
       "        [0.1054],\n",
       "        [1.1493],\n",
       "        [0.2871],\n",
       "        [1.2071],\n",
       "        [0.4177],\n",
       "        [1.4466],\n",
       "        [0.3072],\n",
       "        [0.6756],\n",
       "        [0.6425]], grad_fn=<AddmmBackward0>)"
      ]
     },
     "execution_count": 96,
     "metadata": {},
     "output_type": "execute_result"
    }
   ],
   "source": [
    "model(x)"
   ]
  },
  {
   "cell_type": "code",
   "execution_count": 28,
   "id": "767eda04-6539-4f2a-bf59-46534525a52f",
   "metadata": {
    "vscode": {
     "languageId": "python"
    }
   },
   "outputs": [],
   "source": [
    "from eugene.utils._motif import _create_kernel_matrix"
   ]
  },
  {
   "cell_type": "code",
   "execution_count": 46,
   "id": "c1b96990-411f-4f4a-812a-1bc8c14086f4",
   "metadata": {
    "vscode": {
     "languageId": "python"
    }
   },
   "outputs": [],
   "source": [
    "model.__getattr__(\"biconv\").kernels[0] = kern"
   ]
  },
  {
   "cell_type": "code",
   "execution_count": 40,
   "id": "c01a8a23-efb3-42d4-b787-e9c5bff09997",
   "metadata": {
    "vscode": {
     "languageId": "python"
    }
   },
   "outputs": [
    {
     "ename": "SyntaxError",
     "evalue": "invalid syntax (2592916639.py, line 1)",
     "output_type": "error",
     "traceback": [
      "\u001b[0;36m  File \u001b[0;32m\"/tmp/ipykernel_2809931/2592916639.py\"\u001b[0;36m, line \u001b[0;32m1\u001b[0m\n\u001b[0;31m    model.\"biconv\"\u001b[0m\n\u001b[0m                 ^\u001b[0m\n\u001b[0;31mSyntaxError\u001b[0m\u001b[0;31m:\u001b[0m invalid syntax\n"
     ]
    }
   ],
   "source": [
    "model.\"biconv\""
   ]
  },
  {
   "cell_type": "code",
   "execution_count": 36,
   "id": "804055b5-ad0e-4e84-850a-4b14480be550",
   "metadata": {
    "vscode": {
     "languageId": "python"
    }
   },
   "outputs": [],
   "source": [
    "kern = model.biconv.kernels[0]"
   ]
  },
  {
   "cell_type": "code",
   "execution_count": 37,
   "id": "89330004-5462-4f0d-bd88-099b5dcfe888",
   "metadata": {
    "vscode": {
     "languageId": "python"
    }
   },
   "outputs": [],
   "source": [
    "kern = _create_kernel_matrix((128, 4, 13), all_motifs)"
   ]
  },
  {
   "cell_type": "code",
   "execution_count": 56,
   "id": "e9d7a6de-1db3-475b-b408-142feeefc5f1",
   "metadata": {
    "vscode": {
     "languageId": "python"
    }
   },
   "outputs": [],
   "source": [
    "model.conv.weight = torch.nn.Parameter(torch.randn(128, 128, 13))"
   ]
  },
  {
   "cell_type": "code",
   "execution_count": 57,
   "id": "d96c7309-48c5-43af-9d6c-e3d605de13f0",
   "metadata": {
    "vscode": {
     "languageId": "python"
    }
   },
   "outputs": [
    {
     "data": {
      "text/plain": [
       "Parameter containing:\n",
       "tensor([[[-1.1160, -0.3325, -0.7744,  ...,  0.0685, -0.1617, -0.7123],\n",
       "         [ 0.0985, -1.0684,  0.9452,  ...,  0.0340,  0.8200, -0.8049],\n",
       "         [-0.3100, -1.2196, -0.4721,  ...,  0.7886,  0.2196,  2.7004],\n",
       "         ...,\n",
       "         [-1.1247, -0.0458, -0.4971,  ...,  0.4404, -1.2233, -0.1531],\n",
       "         [ 0.6456, -0.5590, -1.2134,  ..., -0.5988, -0.2380, -0.2558],\n",
       "         [-0.8898, -1.3874, -0.8575,  ..., -0.4385,  1.1100, -0.2351]],\n",
       "\n",
       "        [[-0.7794,  0.8648, -0.3815,  ..., -1.6818,  0.1235,  1.6162],\n",
       "         [ 0.7390, -1.7336,  0.4566,  ...,  0.1805, -0.2668,  0.9915],\n",
       "         [ 0.9938, -0.0948,  1.4486,  ...,  1.2259, -0.0529,  0.5860],\n",
       "         ...,\n",
       "         [-0.9741, -2.5641, -0.8386,  ...,  0.6279, -2.0081, -1.0378],\n",
       "         [-0.1105,  0.5527, -0.0749,  ..., -0.5626, -0.4269,  0.9372],\n",
       "         [-0.6103,  2.6745,  0.2042,  ..., -1.4715, -0.0636,  0.8312]],\n",
       "\n",
       "        [[-1.8713,  0.9585,  1.2868,  ...,  0.8011,  0.1002,  0.1813],\n",
       "         [-0.8813, -0.4428, -0.6552,  ...,  2.2116, -0.7333, -0.2952],\n",
       "         [ 0.9176,  0.4540,  0.1921,  ...,  0.5704, -0.1935, -0.0619],\n",
       "         ...,\n",
       "         [ 0.4834, -2.1227, -0.0961,  ...,  0.5562, -0.4741,  0.1875],\n",
       "         [ 2.2409,  2.5021, -0.3851,  ...,  1.4255,  0.1176,  1.6271],\n",
       "         [-2.0504, -0.7523, -0.0459,  ...,  0.8371, -0.2201,  0.5072]],\n",
       "\n",
       "        ...,\n",
       "\n",
       "        [[-0.8270,  0.5552, -0.8519,  ..., -0.0312,  0.7769, -0.5204],\n",
       "         [-1.3426,  2.7165, -0.4185,  ...,  0.4012,  1.3280,  0.3382],\n",
       "         [ 1.7115, -2.0949, -1.2283,  ...,  0.6765,  1.5882, -1.0367],\n",
       "         ...,\n",
       "         [-0.1204, -0.1004,  0.1519,  ..., -0.1057, -0.2492, -0.8002],\n",
       "         [ 1.0801,  0.3808,  0.5798,  ..., -0.2676,  1.2737,  0.2731],\n",
       "         [ 0.2874,  1.3103,  2.2645,  ...,  0.3736, -0.6230,  0.3414]],\n",
       "\n",
       "        [[ 2.1960,  0.0416,  0.5965,  ...,  1.5337, -0.3431, -0.5239],\n",
       "         [-0.3504,  2.3995, -0.5174,  ..., -0.1617,  0.1410, -0.7351],\n",
       "         [ 0.2526, -1.0138, -0.4444,  ..., -0.7099,  1.5995,  1.2871],\n",
       "         ...,\n",
       "         [ 1.0917, -0.9538, -1.5787,  ..., -0.3891, -0.3516, -0.9551],\n",
       "         [-0.9018,  1.6121,  0.3049,  ...,  0.0752, -0.0773, -0.1659],\n",
       "         [-0.7044, -0.8433,  0.1669,  ..., -1.4490,  0.6086, -0.2205]],\n",
       "\n",
       "        [[ 1.8735,  0.0935, -0.2253,  ...,  1.2810, -0.3493, -2.0016],\n",
       "         [-0.1917, -0.4573, -1.4948,  ..., -0.3727, -1.9024,  0.0155],\n",
       "         [ 0.5639, -0.2768,  0.5754,  ..., -0.2391, -0.2505,  1.0358],\n",
       "         ...,\n",
       "         [ 0.0492, -1.2838, -1.9506,  ...,  0.3111,  0.4975,  0.3490],\n",
       "         [-0.7728,  1.6625, -0.4513,  ...,  0.6862,  1.0874, -2.0907],\n",
       "         [ 0.9651, -0.2641, -1.4692,  ...,  0.7001, -0.8018, -1.2162]]],\n",
       "       requires_grad=True)"
      ]
     },
     "execution_count": 57,
     "metadata": {},
     "output_type": "execute_result"
    }
   ],
   "source": [
    "model.conv.weight"
   ]
  },
  {
   "cell_type": "code",
   "execution_count": 104,
   "id": "02b936d5-92e7-4ef2-9ae1-e784e86cc219",
   "metadata": {
    "vscode": {
     "languageId": "python"
    }
   },
   "outputs": [],
   "source": [
    "core_promoter_elements = MinimalMEME('/cellar/users/aklie/projects/EUGENe/tests/_data/datasets/jores21/CPEs.meme')\n",
    "tf_groups = MinimalMEME('/cellar/users/aklie/projects/EUGENe/tests/_data/datasets/jores21/TF-clusters.meme')\n",
    "all_motifs = {**core_promoter_elements.motifs, **tf_groups.motifs}"
   ]
  },
  {
   "cell_type": "code",
   "execution_count": null,
   "id": "66bfad47-9b4c-489f-b4de-c53fee12ad9e",
   "metadata": {
    "vscode": {
     "languageId": "python"
    }
   },
   "outputs": [],
   "source": []
  },
  {
   "cell_type": "code",
   "execution_count": 122,
   "id": "05c9212c-dc19-4683-aaf4-62a726e02170",
   "metadata": {
    "vscode": {
     "languageId": "python"
    }
   },
   "outputs": [],
   "source": [
    "kernel = torch.zeros(128, 4, 13)\n",
    "nn.init.xavier_uniform_(kernel)\n",
    "\n",
    "# overwrite part of kernel with pfms from motifs\n",
    "for i, motif_id in enumerate(all_motifs):\n",
    "    motif = all_motifs[motif_id]\n",
    "    # convert PFM to PWM, assume equal background frequency of 0.25\n",
    "    # truncates motifs longer than 13bp to 13bp\n",
    "    kernel[i, :, :min(len(motif), kernel.shape[2])] = torch.tensor(motif.pfm[:min(len(motif), kernel.shape[2]), :] / 0.25).transpose(0, 1)"
   ]
  },
  {
   "cell_type": "code",
   "execution_count": 124,
   "id": "b11b5e2f-4d3b-4851-bf1e-402e30ac33cb",
   "metadata": {
    "vscode": {
     "languageId": "python"
    }
   },
   "outputs": [],
   "source": [
    "model.biconv.kernels[0] = kernel"
   ]
  },
  {
   "cell_type": "code",
   "execution_count": 125,
   "id": "3983358c-e961-4947-892b-456de5bed095",
   "metadata": {
    "vscode": {
     "languageId": "python"
    }
   },
   "outputs": [
    {
     "data": {
      "text/plain": [
       "tensor([[-0.0013],\n",
       "        [ 0.0682],\n",
       "        [ 0.0221],\n",
       "        [-0.0021],\n",
       "        [ 0.0844],\n",
       "        [ 0.1157],\n",
       "        [ 0.0566],\n",
       "        [ 0.2570],\n",
       "        [-0.1326],\n",
       "        [-0.1769]], grad_fn=<AddmmBackward0>)"
      ]
     },
     "execution_count": 125,
     "metadata": {},
     "output_type": "execute_result"
    }
   ],
   "source": [
    "model(x)"
   ]
  },
  {
   "cell_type": "code",
   "execution_count": 18,
   "id": "7ff8edff-e410-4cdb-b74e-a76692d2d623",
   "metadata": {
    "vscode": {
     "languageId": "python"
    }
   },
   "outputs": [
    {
     "ename": "AttributeError",
     "evalue": "module 'eugene.utils' has no attribute 'MinimalMEME'",
     "output_type": "error",
     "traceback": [
      "\u001b[0;31m---------------------------------------------------------------------------\u001b[0m",
      "\u001b[0;31mAttributeError\u001b[0m                            Traceback (most recent call last)",
      "\u001b[0;32m/tmp/ipykernel_2809931/3840676192.py\u001b[0m in \u001b[0;36m<module>\u001b[0;34m\u001b[0m\n\u001b[0;32m----> 1\u001b[0;31m \u001b[0mcore_promoter_elements\u001b[0m \u001b[0;34m=\u001b[0m \u001b[0meu\u001b[0m\u001b[0;34m.\u001b[0m\u001b[0mutils\u001b[0m\u001b[0;34m.\u001b[0m\u001b[0mMinimalMEME\u001b[0m\u001b[0;34m(\u001b[0m\u001b[0;34m'/cellar/users/aklie/projects/EUGENe/tests/_data/datasets/jores21/CPEs.meme'\u001b[0m\u001b[0;34m)\u001b[0m\u001b[0;34m\u001b[0m\u001b[0;34m\u001b[0m\u001b[0m\n\u001b[0m\u001b[1;32m      2\u001b[0m \u001b[0mtf_groups\u001b[0m \u001b[0;34m=\u001b[0m \u001b[0meu\u001b[0m\u001b[0;34m.\u001b[0m\u001b[0mutils\u001b[0m\u001b[0;34m.\u001b[0m\u001b[0mMinimalMEME\u001b[0m\u001b[0;34m(\u001b[0m\u001b[0;34m'/cellar/users/aklie/projects/EUGENe/tests/_data/datasets/jores21/TF-clusters.meme'\u001b[0m\u001b[0;34m)\u001b[0m\u001b[0;34m\u001b[0m\u001b[0;34m\u001b[0m\u001b[0m\n\u001b[1;32m      3\u001b[0m \u001b[0mall_motifs\u001b[0m \u001b[0;34m=\u001b[0m \u001b[0;34m{\u001b[0m\u001b[0;34m**\u001b[0m\u001b[0mcore_promoter_elements\u001b[0m\u001b[0;34m.\u001b[0m\u001b[0mmotifs\u001b[0m\u001b[0;34m,\u001b[0m \u001b[0;34m**\u001b[0m\u001b[0mtf_groups\u001b[0m\u001b[0;34m.\u001b[0m\u001b[0mmotifs\u001b[0m\u001b[0;34m}\u001b[0m\u001b[0;34m\u001b[0m\u001b[0;34m\u001b[0m\u001b[0m\n",
      "\u001b[0;31mAttributeError\u001b[0m: module 'eugene.utils' has no attribute 'MinimalMEME'"
     ]
    }
   ],
   "source": [
    "core_promoter_elements = eu.utils.MinimalMEME('/cellar/users/aklie/projects/EUGENe/tests/_data/datasets/jores21/CPEs.meme')\n",
    "tf_groups = eu.utils.MinimalMEME('/cellar/users/aklie/projects/EUGENe/tests/_data/datasets/jores21/TF-clusters.meme')\n",
    "all_motifs = {**core_promoter_elements.motifs, **tf_groups.motifs}"
   ]
  },
  {
   "cell_type": "markdown",
   "id": "de05b344-0536-44bb-bd19-268500116b6a",
   "metadata": {
    "tags": []
   },
   "source": [
    "# Load from config"
   ]
  },
  {
   "cell_type": "code",
   "execution_count": 47,
   "id": "0e9ca43f-c2c5-4289-a69a-2e70385defdf",
   "metadata": {},
   "outputs": [
    {
     "data": {
      "text/plain": [
       "FCN(\n",
       "  (fcn): BasicFullyConnectedModule(\n",
       "    (module): Sequential(\n",
       "      (0): Linear(in_features=264, out_features=128, bias=True)\n",
       "      (1): ReLU(inplace=True)\n",
       "      (2): Linear(in_features=128, out_features=64, bias=True)\n",
       "      (3): ReLU(inplace=True)\n",
       "      (4): Linear(in_features=64, out_features=1, bias=True)\n",
       "    )\n",
       "  )\n",
       "  (r_squared): R2Score()\n",
       ")"
      ]
     },
     "execution_count": 47,
     "metadata": {},
     "output_type": "execute_result"
    }
   ],
   "source": [
    "model_config = \"../_configs/test_fcn.yaml\"\n",
    "eu.models.load_config(\"FCN\", model_config)"
   ]
  },
  {
   "cell_type": "code",
   "execution_count": 40,
   "id": "bd14ac17-9cbb-481b-934d-4156d2bd2a31",
   "metadata": {},
   "outputs": [],
   "source": [
    "test_dict = {'input_len': 66, 'strand': 'ss', 'fc_kwargs': {'output_dim': 1, 'hidden_dims': [128, 66]}}"
   ]
  },
  {
   "cell_type": "code",
   "execution_count": 44,
   "id": "8ced5241-7851-4212-9d72-15705a1c3535",
   "metadata": {},
   "outputs": [],
   "source": [
    "out = \"../_configs/test_fcn.yaml\""
   ]
  },
  {
   "cell_type": "code",
   "execution_count": 42,
   "id": "18ef157d-c7fa-4d98-bb48-fb4466a842a5",
   "metadata": {},
   "outputs": [
    {
     "data": {
      "text/plain": [
       "{'input_len': 66,\n",
       " 'strand': 'ss',\n",
       " 'fc_kwargs': {'output_dim': 1, 'hidden_dims': [128, 66]}}"
      ]
     },
     "execution_count": 42,
     "metadata": {},
     "output_type": "execute_result"
    }
   ],
   "source": [
    "test_dict"
   ]
  },
  {
   "cell_type": "markdown",
   "id": "7dc78854-191e-4714-bc83-7fa3f442e26d",
   "metadata": {},
   "source": [
    "---"
   ]
  }
 ],
 "metadata": {
  "kernelspec": {
   "display_name": "Python 3.7 eugene_dev",
   "language": "python",
   "name": "eugene_dev"
  },
  "language_info": {
   "codemirror_mode": {
    "name": "ipython",
    "version": 3
   },
   "file_extension": ".py",
   "mimetype": "text/x-python",
   "name": "python",
   "nbconvert_exporter": "python",
   "pygments_lexer": "ipython3",
   "version": "3.7.12"
  }
 },
 "nbformat": 4,
 "nbformat_minor": 5
}

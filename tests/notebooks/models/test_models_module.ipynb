{
 "cells": [
  {
   "cell_type": "markdown",
   "id": "ec1087ef-40fd-4351-b2f5-d11524d97858",
   "metadata": {},
   "source": [
    "# Testing the `models` module"
   ]
  },
  {
   "cell_type": "markdown",
   "id": "8c05151d-48fa-43fb-a119-1ea6bb841141",
   "metadata": {
    "tags": []
   },
   "source": [
    "**Authorship:**\n",
    "Adam Klie, *10/04/2022*\n",
    "***\n",
    "**Description:**\n",
    "Notebook for testing out the `models` module."
   ]
  },
  {
   "cell_type": "code",
   "execution_count": 1,
   "id": "c870da00-aa99-4057-bcbf-b47c6ddecb71",
   "metadata": {
    "execution": {
     "iopub.execute_input": "2022-10-04T16:28:16.402299Z",
     "iopub.status.busy": "2022-10-04T16:28:16.402033Z",
     "iopub.status.idle": "2022-10-04T16:28:54.583944Z",
     "shell.execute_reply": "2022-10-04T16:28:54.583312Z",
     "shell.execute_reply.started": "2022-10-04T16:28:16.402243Z"
    },
    "tags": []
   },
   "outputs": [
    {
     "name": "stderr",
     "output_type": "stream",
     "text": [
      "Global seed set to 13\n"
     ]
    },
    {
     "name": "stdout",
     "output_type": "stream",
     "text": [
      "GPU is available: True\n",
      "Number of GPUs: 1\n",
      "Current GPU: 0\n",
      "GPUs: Quadro RTX 5000\n"
     ]
    }
   ],
   "source": [
    "if 'autoreload' not in get_ipython().extension_manager.loaded:\n",
    "    %load_ext autoreload\n",
    "%autoreload 2\n",
    "\n",
    "import os\n",
    "import torch\n",
    "import numpy as np\n",
    "import pandas as pd\n",
    "import eugene as eu"
   ]
  },
  {
   "cell_type": "markdown",
   "id": "a5917992-5baf-48af-89ee-aa7c8baf06e8",
   "metadata": {},
   "source": [
    "# BaseModel"
   ]
  },
  {
   "cell_type": "markdown",
   "id": "cdddee88-d884-4106-bbc3-9e690197405b",
   "metadata": {},
   "source": [
    "# Base Models"
   ]
  },
  {
   "cell_type": "markdown",
   "id": "f4614db7-d736-4a67-af99-d2b55feb07aa",
   "metadata": {},
   "source": [
    "# SOTA Models"
   ]
  },
  {
   "cell_type": "markdown",
   "id": "d21fc245-0f55-40bd-9c38-7366dc947596",
   "metadata": {},
   "source": [
    "# Custom Models"
   ]
  }
 ],
 "metadata": {
  "kernelspec": {
   "display_name": "Python 3.7 eugene_dev",
   "language": "python",
   "name": "eugene_dev"
  },
  "language_info": {
   "codemirror_mode": {
    "name": "ipython",
    "version": 3
   },
   "file_extension": ".py",
   "mimetype": "text/x-python",
   "name": "python",
   "nbconvert_exporter": "python",
   "pygments_lexer": "ipython3",
   "version": "3.7.12"
  }
 },
 "nbformat": 4,
 "nbformat_minor": 5
}

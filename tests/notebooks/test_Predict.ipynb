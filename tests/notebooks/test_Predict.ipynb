{
 "cells": [
  {
   "cell_type": "markdown",
   "id": "47cc2c48",
   "metadata": {},
   "source": [
    "# Testing EUGENE prediction"
   ]
  },
  {
   "cell_type": "markdown",
   "id": "3b1880c3",
   "metadata": {
    "tags": []
   },
   "source": [
    "**Authorship:**\n",
    "Adam Klie, *03/19/2022*\n",
    "***\n",
    "**Description:**\n",
    "Notebook for testing predictions with EUGENE architectures"
   ]
  },
  {
   "cell_type": "markdown",
   "id": "599007ce",
   "metadata": {},
   "source": [
    "<div class=\"alert alert-block alert-warning\">\n",
    "<b>TODOs</b>:\n",
    "<ul>\n",
    "    <b><li>Config for EUGENES</li></b>\n",
    "    </ul>\n",
    "</div>"
   ]
  },
  {
   "cell_type": "code",
   "execution_count": 3,
   "id": "1dd9ef33",
   "metadata": {
    "execution": {
     "iopub.execute_input": "2022-05-14T17:54:42.876636Z",
     "iopub.status.busy": "2022-05-14T17:54:42.876452Z",
     "iopub.status.idle": "2022-05-14T17:54:43.634970Z",
     "shell.execute_reply": "2022-05-14T17:54:43.634478Z",
     "shell.execute_reply.started": "2022-05-14T17:54:42.876618Z"
    },
    "tags": []
   },
   "outputs": [],
   "source": [
    "import os\n",
    "import numpy as np\n",
    "import pandas as pd\n",
    "\n",
    "# Autoreload extension\n",
    "if 'autoreload' not in get_ipython().extension_manager.loaded:\n",
    "    %load_ext autoreload\n",
    "%autoreload 2"
   ]
  },
  {
   "cell_type": "code",
   "execution_count": 2,
   "id": "c573922f",
   "metadata": {},
   "outputs": [],
   "source": [
    "import eugene as eu"
   ]
  },
  {
   "cell_type": "markdown",
   "id": "2b388b20-ba21-4cfd-956d-76456918b0d5",
   "metadata": {},
   "source": [
    "# Predictions with a EUGENE model\n"
   ]
  },
  {
   "cell_type": "markdown",
   "id": "b446ff4c-3bc0-44a5-930b-3d30dcb17e76",
   "metadata": {
    "tags": []
   },
   "source": [
    "## Load data"
   ]
  },
  {
   "cell_type": "code",
   "execution_count": 4,
   "id": "662691f7",
   "metadata": {},
   "outputs": [],
   "source": [
    "sdata = eu.datasets.random1000()"
   ]
  },
  {
   "cell_type": "code",
   "execution_count": 5,
   "id": "6dec1645",
   "metadata": {},
   "outputs": [],
   "source": [
    "eugene = eu.models.DeepBind(input_len=66)"
   ]
  },
  {
   "cell_type": "code",
   "execution_count": 18,
   "id": "8746d999",
   "metadata": {},
   "outputs": [
    {
     "name": "stderr",
     "output_type": "stream",
     "text": [
      "Global seed set to 13\n",
      "GPU available: False, used: False\n",
      "TPU available: False, using: 0 TPU cores\n",
      "IPU available: False, using: 0 IPUs\n"
     ]
    },
    {
     "data": {
      "application/vnd.jupyter.widget-view+json": {
       "model_id": "2e0f4ec68e164a3a91aa85c8e2f36e93",
       "version_major": 2,
       "version_minor": 0
      },
      "text/plain": [
       "Predicting: 0it [00:00, ?it/s]"
      ]
     },
     "metadata": {},
     "output_type": "display_data"
    },
    {
     "name": "stdout",
     "output_type": "stream",
     "text": [
      "[['seq001' '-0.3775099' '1.0']\n",
      " ['seq002' '-0.37696442' '0.0']\n",
      " ['seq003' '-0.3778545' '1.0']\n",
      " ...\n",
      " ['seq998' '-0.3799876' '0.0']\n",
      " ['seq999' '-0.37663758' '0.0']\n",
      " ['seq1000' '-0.3763308' '0.0']]\n"
     ]
    }
   ],
   "source": [
    "eu.predict.predictions(eugene, sdata=sdata, out_dir=\"../_out/test_\", save_preds=\"random1000_PREDS\")"
   ]
  },
  {
   "cell_type": "code",
   "execution_count": 20,
   "id": "a6ae0f4e",
   "metadata": {},
   "outputs": [
    {
     "data": {
      "text/html": [
       "<div>\n",
       "<style scoped>\n",
       "    .dataframe tbody tr th:only-of-type {\n",
       "        vertical-align: middle;\n",
       "    }\n",
       "\n",
       "    .dataframe tbody tr th {\n",
       "        vertical-align: top;\n",
       "    }\n",
       "\n",
       "    .dataframe thead th {\n",
       "        text-align: right;\n",
       "    }\n",
       "</style>\n",
       "<table border=\"1\" class=\"dataframe\">\n",
       "  <thead>\n",
       "    <tr style=\"text-align: right;\">\n",
       "      <th></th>\n",
       "      <th>TARGETS</th>\n",
       "      <th>random1000_PREDS</th>\n",
       "    </tr>\n",
       "  </thead>\n",
       "  <tbody>\n",
       "    <tr>\n",
       "      <th>seq001</th>\n",
       "      <td>1.0</td>\n",
       "      <td>-0.377510</td>\n",
       "    </tr>\n",
       "    <tr>\n",
       "      <th>seq002</th>\n",
       "      <td>0.0</td>\n",
       "      <td>-0.376964</td>\n",
       "    </tr>\n",
       "    <tr>\n",
       "      <th>seq003</th>\n",
       "      <td>1.0</td>\n",
       "      <td>-0.377854</td>\n",
       "    </tr>\n",
       "    <tr>\n",
       "      <th>seq004</th>\n",
       "      <td>0.0</td>\n",
       "      <td>-0.377361</td>\n",
       "    </tr>\n",
       "    <tr>\n",
       "      <th>seq005</th>\n",
       "      <td>0.0</td>\n",
       "      <td>-0.377899</td>\n",
       "    </tr>\n",
       "    <tr>\n",
       "      <th>...</th>\n",
       "      <td>...</td>\n",
       "      <td>...</td>\n",
       "    </tr>\n",
       "    <tr>\n",
       "      <th>seq996</th>\n",
       "      <td>0.0</td>\n",
       "      <td>-0.377196</td>\n",
       "    </tr>\n",
       "    <tr>\n",
       "      <th>seq997</th>\n",
       "      <td>0.0</td>\n",
       "      <td>-0.376374</td>\n",
       "    </tr>\n",
       "    <tr>\n",
       "      <th>seq998</th>\n",
       "      <td>0.0</td>\n",
       "      <td>-0.379988</td>\n",
       "    </tr>\n",
       "    <tr>\n",
       "      <th>seq999</th>\n",
       "      <td>0.0</td>\n",
       "      <td>-0.376638</td>\n",
       "    </tr>\n",
       "    <tr>\n",
       "      <th>seq1000</th>\n",
       "      <td>0.0</td>\n",
       "      <td>-0.376331</td>\n",
       "    </tr>\n",
       "  </tbody>\n",
       "</table>\n",
       "<p>1000 rows × 2 columns</p>\n",
       "</div>"
      ],
      "text/plain": [
       "         TARGETS  random1000_PREDS\n",
       "seq001       1.0         -0.377510\n",
       "seq002       0.0         -0.376964\n",
       "seq003       1.0         -0.377854\n",
       "seq004       0.0         -0.377361\n",
       "seq005       0.0         -0.377899\n",
       "...          ...               ...\n",
       "seq996       0.0         -0.377196\n",
       "seq997       0.0         -0.376374\n",
       "seq998       0.0         -0.379988\n",
       "seq999       0.0         -0.376638\n",
       "seq1000      0.0         -0.376331\n",
       "\n",
       "[1000 rows x 2 columns]"
      ]
     },
     "execution_count": 20,
     "metadata": {},
     "output_type": "execute_result"
    }
   ],
   "source": [
    "sdata.seqs_annot"
   ]
  },
  {
   "cell_type": "markdown",
   "id": "25d1b265",
   "metadata": {},
   "source": [
    "---"
   ]
  },
  {
   "cell_type": "markdown",
   "id": "42bec541",
   "metadata": {},
   "source": [
    "# Scratch"
   ]
  }
 ],
 "metadata": {
  "kernelspec": {
   "display_name": "Python 3.7.12 ('eugene')",
   "language": "python",
   "name": "python3"
  },
  "language_info": {
   "codemirror_mode": {
    "name": "ipython",
    "version": 3
   },
   "file_extension": ".py",
   "mimetype": "text/x-python",
   "name": "python",
   "nbconvert_exporter": "python",
   "pygments_lexer": "ipython3",
   "version": "3.7.12"
  },
  "vscode": {
   "interpreter": {
    "hash": "1330bbbf2c4cf53098ef1254540d5dd54a9d501f0408fea1c04a20872667b797"
   }
  }
 },
 "nbformat": 4,
 "nbformat_minor": 5
}

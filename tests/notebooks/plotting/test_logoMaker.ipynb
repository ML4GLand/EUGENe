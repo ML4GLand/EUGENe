{
 "cells": [
  {
   "cell_type": "code",
   "execution_count": 9,
   "metadata": {},
   "outputs": [],
   "source": [
    "import logomaker as lm"
   ]
  },
  {
   "cell_type": "code",
   "execution_count": 56,
   "metadata": {},
   "outputs": [],
   "source": [
    "import numpy as np\n",
    "import pandas as pd\n",
    "import matplotlib.pyplot as plt\n",
    "import matplotlib\n",
    "\n",
    "# For illustrator editing\n",
    "matplotlib.rcParams['pdf.fonttype'] = 42\n",
    "matplotlib.rcParams['ps.fonttype'] = 42"
   ]
  },
  {
   "cell_type": "code",
   "execution_count": 58,
   "metadata": {},
   "outputs": [],
   "source": [
    "pcm = pd.read_csv(\"/cellar/users/aklie/projects/EUGENe/tests/notebooks/plotting/MA0098.1.pfm\", skiprows=1, delim_whitespace=True, header=None).values"
   ]
  },
  {
   "cell_type": "code",
   "execution_count": 59,
   "metadata": {},
   "outputs": [
    {
     "data": {
      "text/plain": [
       "array([[ 4., 17.,  0.,  0.,  0.,  5.],\n",
       "       [16.,  0.,  1., 39., 39.,  3.],\n",
       "       [ 4.,  0.,  0.,  1.,  0., 17.],\n",
       "       [16., 23., 39.,  0.,  1., 15.]])"
      ]
     },
     "execution_count": 59,
     "metadata": {},
     "output_type": "execute_result"
    }
   ],
   "source": [
    "pcm"
   ]
  },
  {
   "cell_type": "code",
   "execution_count": 60,
   "metadata": {},
   "outputs": [],
   "source": [
    "random = np.random.randint(0, 40, size=(4, 10))"
   ]
  },
  {
   "cell_type": "code",
   "execution_count": 61,
   "metadata": {},
   "outputs": [],
   "source": [
    "pcm_mod = np.concatenate((random[:, :5], pcm, random[:, 5:]), axis=1)\n",
    "df = pd.DataFrame(pcm_mod.T, columns=[\"A\", \"C\", \"G\", \"T\"])"
   ]
  },
  {
   "cell_type": "code",
   "execution_count": 62,
   "metadata": {},
   "outputs": [],
   "source": [
    "info_mat = lm.transform_matrix(\n",
    "            df, from_type=\"counts\", to_type=\"information\"\n",
    "        )"
   ]
  },
  {
   "cell_type": "code",
   "execution_count": 63,
   "metadata": {},
   "outputs": [
    {
     "data": {
      "text/html": [
       "<div>\n",
       "<style scoped>\n",
       "    .dataframe tbody tr th:only-of-type {\n",
       "        vertical-align: middle;\n",
       "    }\n",
       "\n",
       "    .dataframe tbody tr th {\n",
       "        vertical-align: top;\n",
       "    }\n",
       "\n",
       "    .dataframe thead th {\n",
       "        text-align: right;\n",
       "    }\n",
       "</style>\n",
       "<table border=\"1\" class=\"dataframe\">\n",
       "  <thead>\n",
       "    <tr style=\"text-align: right;\">\n",
       "      <th></th>\n",
       "      <th>A</th>\n",
       "      <th>C</th>\n",
       "      <th>G</th>\n",
       "      <th>T</th>\n",
       "    </tr>\n",
       "    <tr>\n",
       "      <th>pos</th>\n",
       "      <th></th>\n",
       "      <th></th>\n",
       "      <th></th>\n",
       "      <th></th>\n",
       "    </tr>\n",
       "  </thead>\n",
       "  <tbody>\n",
       "    <tr>\n",
       "      <th>0</th>\n",
       "      <td>0.045416</td>\n",
       "      <td>0.045416</td>\n",
       "      <td>0.345158</td>\n",
       "      <td>0.099914</td>\n",
       "    </tr>\n",
       "    <tr>\n",
       "      <th>1</th>\n",
       "      <td>0.012572</td>\n",
       "      <td>0.007278</td>\n",
       "      <td>0.008932</td>\n",
       "      <td>0.007609</td>\n",
       "    </tr>\n",
       "    <tr>\n",
       "      <th>2</th>\n",
       "      <td>0.024337</td>\n",
       "      <td>0.014873</td>\n",
       "      <td>0.048674</td>\n",
       "      <td>0.037857</td>\n",
       "    </tr>\n",
       "    <tr>\n",
       "      <th>3</th>\n",
       "      <td>0.006725</td>\n",
       "      <td>0.010928</td>\n",
       "      <td>0.007565</td>\n",
       "      <td>0.006725</td>\n",
       "    </tr>\n",
       "    <tr>\n",
       "      <th>4</th>\n",
       "      <td>0.018683</td>\n",
       "      <td>0.057487</td>\n",
       "      <td>0.022995</td>\n",
       "      <td>0.048864</td>\n",
       "    </tr>\n",
       "    <tr>\n",
       "      <th>5</th>\n",
       "      <td>0.025770</td>\n",
       "      <td>0.087617</td>\n",
       "      <td>0.025770</td>\n",
       "      <td>0.087617</td>\n",
       "    </tr>\n",
       "    <tr>\n",
       "      <th>6</th>\n",
       "      <td>0.305728</td>\n",
       "      <td>0.016985</td>\n",
       "      <td>0.016985</td>\n",
       "      <td>0.407638</td>\n",
       "    </tr>\n",
       "    <tr>\n",
       "      <th>7</th>\n",
       "      <td>0.032367</td>\n",
       "      <td>0.064734</td>\n",
       "      <td>0.032367</td>\n",
       "      <td>1.294672</td>\n",
       "    </tr>\n",
       "    <tr>\n",
       "      <th>8</th>\n",
       "      <td>0.032367</td>\n",
       "      <td>1.294672</td>\n",
       "      <td>0.064734</td>\n",
       "      <td>0.032367</td>\n",
       "    </tr>\n",
       "    <tr>\n",
       "      <th>9</th>\n",
       "      <td>0.032367</td>\n",
       "      <td>1.294672</td>\n",
       "      <td>0.032367</td>\n",
       "      <td>0.064734</td>\n",
       "    </tr>\n",
       "    <tr>\n",
       "      <th>10</th>\n",
       "      <td>0.032087</td>\n",
       "      <td>0.021391</td>\n",
       "      <td>0.096261</td>\n",
       "      <td>0.085566</td>\n",
       "    </tr>\n",
       "    <tr>\n",
       "      <th>11</th>\n",
       "      <td>0.011757</td>\n",
       "      <td>0.011757</td>\n",
       "      <td>0.006532</td>\n",
       "      <td>0.013063</td>\n",
       "    </tr>\n",
       "    <tr>\n",
       "      <th>12</th>\n",
       "      <td>0.123044</td>\n",
       "      <td>0.077928</td>\n",
       "      <td>0.094334</td>\n",
       "      <td>0.008203</td>\n",
       "    </tr>\n",
       "    <tr>\n",
       "      <th>13</th>\n",
       "      <td>0.011166</td>\n",
       "      <td>0.039080</td>\n",
       "      <td>0.041872</td>\n",
       "      <td>0.041872</td>\n",
       "    </tr>\n",
       "    <tr>\n",
       "      <th>14</th>\n",
       "      <td>0.007122</td>\n",
       "      <td>0.012949</td>\n",
       "      <td>0.009712</td>\n",
       "      <td>0.013596</td>\n",
       "    </tr>\n",
       "    <tr>\n",
       "      <th>15</th>\n",
       "      <td>0.011831</td>\n",
       "      <td>0.015946</td>\n",
       "      <td>0.018518</td>\n",
       "      <td>0.008745</td>\n",
       "    </tr>\n",
       "  </tbody>\n",
       "</table>\n",
       "</div>"
      ],
      "text/plain": [
       "            A         C         G         T\n",
       "pos                                        \n",
       "0    0.045416  0.045416  0.345158  0.099914\n",
       "1    0.012572  0.007278  0.008932  0.007609\n",
       "2    0.024337  0.014873  0.048674  0.037857\n",
       "3    0.006725  0.010928  0.007565  0.006725\n",
       "4    0.018683  0.057487  0.022995  0.048864\n",
       "5    0.025770  0.087617  0.025770  0.087617\n",
       "6    0.305728  0.016985  0.016985  0.407638\n",
       "7    0.032367  0.064734  0.032367  1.294672\n",
       "8    0.032367  1.294672  0.064734  0.032367\n",
       "9    0.032367  1.294672  0.032367  0.064734\n",
       "10   0.032087  0.021391  0.096261  0.085566\n",
       "11   0.011757  0.011757  0.006532  0.013063\n",
       "12   0.123044  0.077928  0.094334  0.008203\n",
       "13   0.011166  0.039080  0.041872  0.041872\n",
       "14   0.007122  0.012949  0.009712  0.013596\n",
       "15   0.011831  0.015946  0.018518  0.008745"
      ]
     },
     "execution_count": 63,
     "metadata": {},
     "output_type": "execute_result"
    }
   ],
   "source": [
    "info_mat"
   ]
  },
  {
   "cell_type": "code",
   "execution_count": 64,
   "metadata": {},
   "outputs": [],
   "source": [
    "info_mat.columns = [\"A\", \"C\", \"G\", \"T\"]"
   ]
  },
  {
   "cell_type": "code",
   "execution_count": 65,
   "metadata": {},
   "outputs": [
    {
     "data": {
      "image/png": "[encoded data removed]",
      "text/plain": [
       "<Figure size 360x90 with 1 Axes>"
      ]
     },
     "metadata": {
      "needs_background": "light"
     },
     "output_type": "display_data"
    }
   ],
   "source": [
    "logo = lm.Logo(info_mat, figsize=(5, 1.25))\n",
    "logo.style_xticks(spacing=5, anchor=25, rotation=45, fmt=\"%d\", fontsize=14)\n",
    "logo.style_spines(visible=False)\n",
    "logo.style_spines(spines=[\"left\", \"bottom\"], visible=True, linewidth=2)\n",
    "logo.ax.set_ylim([0, 2])\n",
    "logo.ax.set_yticks([0, 1, 2])\n",
    "logo.ax.set_yticklabels([\"0\", \"1\", \"2\"])\n",
    "logo.ax.set_ylabel(\"bits\")\n",
    "logo.ax.set_title(\"filter7\")\n",
    "plt.savefig(\"/cellar/users/aklie/projects/EUGENe/tests/notebooks/plotting/filter13.pdf\", dpi=300, bbox_inches=\"tight\")"
   ]
  },
  {
   "cell_type": "code",
   "execution_count": null,
   "metadata": {},
   "outputs": [],
   "source": []
  }
 ],
 "metadata": {
  "kernelspec": {
   "display_name": "Python 3.7 eugene_dev",
   "language": "python",
   "name": "eugene_dev"
  },
  "language_info": {
   "codemirror_mode": {
    "name": "ipython",
    "version": 3
   },
   "file_extension": ".py",
   "mimetype": "text/x-python",
   "name": "python",
   "nbconvert_exporter": "python",
   "pygments_lexer": "ipython3",
   "version": "3.7.12"
  },
  "orig_nbformat": 4
 },
 "nbformat": 4,
 "nbformat_minor": 2
}

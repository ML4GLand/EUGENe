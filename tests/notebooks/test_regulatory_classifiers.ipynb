{
 "cells": [
  {
   "cell_type": "code",
   "execution_count": 157,
   "metadata": {},
   "outputs": [],
   "source": [
    "# Extensions\n",
    "if 'autoreload' not in get_ipython().extension_manager.loaded:\n",
    "    %load_ext autoreload\n",
    "%autoreload 2"
   ]
  },
  {
   "cell_type": "code",
   "execution_count": 1,
   "metadata": {},
   "outputs": [],
   "source": [
    "# Imports\n",
    "import torch\n",
    "import pandas as pd\n",
    "import numpy as np"
   ]
  },
  {
   "cell_type": "code",
   "execution_count": 2,
   "metadata": {},
   "outputs": [],
   "source": [
    "# Configuration\n",
    "ID = torch.Tensor([1, 2, 3, 4, 5, 6, 7, 8, 9, 10])\n",
    "x = torch.randn(10, 4, 100)\n",
    "x_rev_comp = torch.randn(10, 4, 100)\n",
    "y = torch.randint(0, 2, (10, 1))\n",
    "batch = (ID, x, x_rev_comp, y)"
   ]
  },
  {
   "cell_type": "code",
   "execution_count": 3,
   "metadata": {},
   "outputs": [],
   "source": [
    "# Helper functions\n",
    "def move_module_to_cpu(module):\n",
    "    module.to(\"cpu\")\n",
    "    for child in module.children():\n",
    "        move_module_to_cpu(child)"
   ]
  },
  {
   "attachments": {},
   "cell_type": "markdown",
   "metadata": {},
   "source": [
    "### DeepSEA"
   ]
  },
  {
   "cell_type": "code",
   "execution_count": 4,
   "metadata": {},
   "outputs": [],
   "source": [
    "from eugene.models.zoo import DeepSEA"
   ]
  },
  {
   "cell_type": "code",
   "execution_count": 5,
   "metadata": {},
   "outputs": [
    {
     "data": {
      "text/plain": [
       "(DeepSEA(\n",
       "   (conv1d_tower): Conv1DTower(\n",
       "     (layers): Sequential(\n",
       "       (0): Conv1d(4, 320, kernel_size=(8,), stride=(1,), padding=valid)\n",
       "       (1): ReLU()\n",
       "       (2): AvgPool1d(kernel_size=4, stride=1, padding=(0,))\n",
       "       (3): Dropout(p=0.2, inplace=False)\n",
       "       (4): Conv1d(320, 480, kernel_size=(8,), stride=(1,), padding=valid)\n",
       "       (5): ReLU()\n",
       "       (6): MaxPool1d(kernel_size=4, stride=1, padding=0, dilation=1, ceil_mode=False)\n",
       "       (7): Dropout(p=0.2, inplace=False)\n",
       "       (8): Conv1d(480, 960, kernel_size=(8,), stride=(1,), padding=valid)\n",
       "       (9): ReLU()\n",
       "       (10): Dropout(p=0.5, inplace=False)\n",
       "     )\n",
       "   )\n",
       "   (dense_block): DenseBlock(\n",
       "     (layers): Sequential(\n",
       "       (0): Linear(in_features=70080, out_features=925, bias=True)\n",
       "       (1): ReLU()\n",
       "       (2): Linear(in_features=925, out_features=1, bias=True)\n",
       "     )\n",
       "   )\n",
       " ),\n",
       " torch.Size([10, 1]))"
      ]
     },
     "execution_count": 5,
     "metadata": {},
     "output_type": "execute_result"
    }
   ],
   "source": [
    "model = DeepSEA(\n",
    "    input_len=100,\n",
    "    output_dim=1,\n",
    "    conv_kwargs={\n",
    "        \"pool_types\": [\"avg\", \"max\", None]\n",
    "    }\n",
    ")\n",
    "model_out = model(x)\n",
    "model, model_out.shape"
   ]
  },
  {
   "attachments": {},
   "cell_type": "markdown",
   "metadata": {},
   "source": [
    "## Basset"
   ]
  },
  {
   "cell_type": "code",
   "execution_count": 6,
   "metadata": {},
   "outputs": [],
   "source": [
    "from eugene.models.zoo import Basset"
   ]
  },
  {
   "cell_type": "code",
   "execution_count": 8,
   "metadata": {},
   "outputs": [
    {
     "data": {
      "text/plain": [
       "(Basset(\n",
       "   (conv1d_tower): Conv1DTower(\n",
       "     (layers): Sequential(\n",
       "       (0): Conv1d(4, 300, kernel_size=(19,), stride=(1,), padding=(9,))\n",
       "       (1): BatchNorm1d(300, eps=1e-05, momentum=0.1, affine=True, track_running_stats=True)\n",
       "       (2): ReLU()\n",
       "       (3): MaxPool1d(kernel_size=3, stride=1, padding=0, dilation=1, ceil_mode=False)\n",
       "       (4): Conv1d(300, 200, kernel_size=(11,), stride=(1,), padding=(5,))\n",
       "       (5): BatchNorm1d(200, eps=1e-05, momentum=0.1, affine=True, track_running_stats=True)\n",
       "       (6): ReLU()\n",
       "       (7): MaxPool1d(kernel_size=4, stride=1, padding=0, dilation=1, ceil_mode=False)\n",
       "       (8): Conv1d(200, 200, kernel_size=(7,), stride=(1,), padding=(3,))\n",
       "       (9): BatchNorm1d(200, eps=1e-05, momentum=0.1, affine=True, track_running_stats=True)\n",
       "       (10): ReLU()\n",
       "       (11): MaxPool1d(kernel_size=4, stride=1, padding=0, dilation=1, ceil_mode=False)\n",
       "     )\n",
       "   )\n",
       "   (dense_block): DenseBlock(\n",
       "     (layers): Sequential(\n",
       "       (0): Linear(in_features=18400, out_features=1000, bias=True)\n",
       "       (1): BatchNorm1d(1000, eps=1e-05, momentum=0.1, affine=True, track_running_stats=True)\n",
       "       (2): ReLU()\n",
       "       (3): Linear(in_features=1000, out_features=164, bias=True)\n",
       "       (4): BatchNorm1d(164, eps=1e-05, momentum=0.1, affine=True, track_running_stats=True)\n",
       "       (5): ReLU()\n",
       "       (6): Linear(in_features=164, out_features=1, bias=True)\n",
       "     )\n",
       "   )\n",
       " ),\n",
       " torch.Size([10, 1]))"
      ]
     },
     "execution_count": 8,
     "metadata": {},
     "output_type": "execute_result"
    }
   ],
   "source": [
    "model = Basset(\n",
    "    input_len=100,\n",
    "    output_dim=1\n",
    ")\n",
    "model_out = model(x)\n",
    "model, model_out.shape"
   ]
  },
  {
   "attachments": {},
   "cell_type": "markdown",
   "metadata": {},
   "source": [
    "## FactorizedBasset"
   ]
  },
  {
   "cell_type": "code",
   "execution_count": 9,
   "metadata": {},
   "outputs": [],
   "source": [
    "from eugene.models.zoo import FactorizedBasset"
   ]
  },
  {
   "cell_type": "code",
   "execution_count": 11,
   "metadata": {},
   "outputs": [
    {
     "data": {
      "text/plain": [
       "(FactorizedBasset(\n",
       "   (conv1d_tower1): Conv1DTower(\n",
       "     (layers): Sequential(\n",
       "       (0): Conv1d(4, 48, kernel_size=(3,), stride=(1,), padding=(1,))\n",
       "       (1): BatchNorm1d(48, eps=1e-05, momentum=0.1, affine=True, track_running_stats=True)\n",
       "       (2): ReLU()\n",
       "       (3): Conv1d(48, 64, kernel_size=(3,), stride=(1,), padding=(1,))\n",
       "       (4): BatchNorm1d(64, eps=1e-05, momentum=0.1, affine=True, track_running_stats=True)\n",
       "       (5): ReLU()\n",
       "       (6): Conv1d(64, 100, kernel_size=(3,), stride=(1,), padding=(1,))\n",
       "       (7): BatchNorm1d(100, eps=1e-05, momentum=0.1, affine=True, track_running_stats=True)\n",
       "       (8): ReLU()\n",
       "       (9): Conv1d(100, 150, kernel_size=(7,), stride=(1,), padding=(3,))\n",
       "       (10): BatchNorm1d(150, eps=1e-05, momentum=0.1, affine=True, track_running_stats=True)\n",
       "       (11): ReLU()\n",
       "       (12): Conv1d(150, 300, kernel_size=(7,), stride=(1,), padding=(3,))\n",
       "       (13): BatchNorm1d(300, eps=1e-05, momentum=0.1, affine=True, track_running_stats=True)\n",
       "       (14): ReLU()\n",
       "       (15): MaxPool1d(kernel_size=3, stride=1, padding=0, dilation=1, ceil_mode=False)\n",
       "     )\n",
       "   )\n",
       "   (conv1d_tower2): Conv1DTower(\n",
       "     (layers): Sequential(\n",
       "       (0): Conv1d(300, 200, kernel_size=(7,), stride=(1,), padding=(3,))\n",
       "       (1): BatchNorm1d(200, eps=1e-05, momentum=0.1, affine=True, track_running_stats=True)\n",
       "       (2): ReLU()\n",
       "       (3): Conv1d(200, 200, kernel_size=(3,), stride=(1,), padding=(1,))\n",
       "       (4): BatchNorm1d(200, eps=1e-05, momentum=0.1, affine=True, track_running_stats=True)\n",
       "       (5): ReLU()\n",
       "       (6): Conv1d(200, 200, kernel_size=(3,), stride=(1,), padding=(1,))\n",
       "       (7): BatchNorm1d(200, eps=1e-05, momentum=0.1, affine=True, track_running_stats=True)\n",
       "       (8): ReLU()\n",
       "       (9): MaxPool1d(kernel_size=4, stride=1, padding=0, dilation=1, ceil_mode=False)\n",
       "     )\n",
       "   )\n",
       "   (conv1d_tower3): Conv1DTower(\n",
       "     (layers): Sequential(\n",
       "       (0): Conv1d(200, 200, kernel_size=(7,), stride=(1,), padding=(3,))\n",
       "       (1): BatchNorm1d(200, eps=1e-05, momentum=0.1, affine=True, track_running_stats=True)\n",
       "       (2): ReLU()\n",
       "       (3): MaxPool1d(kernel_size=4, stride=1, padding=0, dilation=1, ceil_mode=False)\n",
       "     )\n",
       "   )\n",
       "   (dense_block): DenseBlock(\n",
       "     (layers): Sequential(\n",
       "       (0): Linear(in_features=18400, out_features=1000, bias=True)\n",
       "       (1): BatchNorm1d(1000, eps=1e-05, momentum=0.1, affine=True, track_running_stats=True)\n",
       "       (2): ReLU()\n",
       "       (3): Linear(in_features=1000, out_features=164, bias=True)\n",
       "       (4): BatchNorm1d(164, eps=1e-05, momentum=0.1, affine=True, track_running_stats=True)\n",
       "       (5): ReLU()\n",
       "       (6): Linear(in_features=164, out_features=1, bias=True)\n",
       "     )\n",
       "   )\n",
       " ),\n",
       " torch.Size([10, 1]))"
      ]
     },
     "execution_count": 11,
     "metadata": {},
     "output_type": "execute_result"
    }
   ],
   "source": [
    "model = FactorizedBasset(input_len=100, output_dim=1)\n",
    "model_out = model(x)\n",
    "model, model_out.shape"
   ]
  },
  {
   "attachments": {},
   "cell_type": "markdown",
   "metadata": {},
   "source": [
    "## DanQ"
   ]
  },
  {
   "cell_type": "code",
   "execution_count": 12,
   "metadata": {},
   "outputs": [],
   "source": [
    "from eugene.models.zoo import DanQ"
   ]
  },
  {
   "cell_type": "code",
   "execution_count": 13,
   "metadata": {},
   "outputs": [
    {
     "name": "stderr",
     "output_type": "stream",
     "text": [
      "/cellar/users/aklie/opt/miniconda3/envs/ml4gland/lib/python3.9/site-packages/torch/nn/modules/conv.py:309: UserWarning: Using padding='same' with even kernel lengths and odd dilation may require a zero-padded copy of the input be created (Triggered internally at /opt/conda/conda-bld/pytorch_1678402412426/work/aten/src/ATen/native/Convolution.cpp:1003.)\n",
      "  return F.conv1d(input, weight, bias, self.stride,\n"
     ]
    },
    {
     "data": {
      "text/plain": [
       "(DanQ(\n",
       "   (conv1d_tower): Conv1DTower(\n",
       "     (layers): Sequential(\n",
       "       (0): Conv1d(4, 320, kernel_size=(26,), stride=(1,), padding=same)\n",
       "       (1): ReLU()\n",
       "       (2): MaxPool1d(kernel_size=13, stride=1, padding=0, dilation=1, ceil_mode=False)\n",
       "       (3): Dropout(p=0.2, inplace=False)\n",
       "     )\n",
       "   )\n",
       "   (recurrent_block): RecurrentBlock(\n",
       "     (layers): LSTM(320, 320, batch_first=True, bidirectional=True)\n",
       "   )\n",
       "   (dense_block): DenseBlock(\n",
       "     (layers): Sequential(\n",
       "       (0): Linear(in_features=640, out_features=925, bias=True)\n",
       "       (1): ReLU()\n",
       "       (2): Dropout(p=0.5, inplace=False)\n",
       "       (3): Linear(in_features=925, out_features=1, bias=True)\n",
       "     )\n",
       "   )\n",
       " ),\n",
       " torch.Size([10, 1]))"
      ]
     },
     "execution_count": 13,
     "metadata": {},
     "output_type": "execute_result"
    }
   ],
   "source": [
    "model = DanQ(\n",
    "    input_len=100,\n",
    "    output_dim=1\n",
    ")\n",
    "model_out = model(x)\n",
    "model, model_out.shape"
   ]
  },
  {
   "attachments": {},
   "cell_type": "markdown",
   "metadata": {},
   "source": [
    "## Satori"
   ]
  },
  {
   "cell_type": "code",
   "execution_count": 14,
   "metadata": {},
   "outputs": [],
   "source": [
    "from eugene.models.zoo import Satori"
   ]
  },
  {
   "cell_type": "code",
   "execution_count": 15,
   "metadata": {},
   "outputs": [
    {
     "data": {
      "text/plain": [
       "(Satori(\n",
       "   (conv_block): Conv1DBlock(\n",
       "     (layers): Sequential(\n",
       "       (conv): Conv1d(4, 320, kernel_size=(26,), stride=(1,), padding=same, bias=False)\n",
       "       (norm): BatchNorm1d(320, eps=1e-05, momentum=0.1, affine=True, track_running_stats=True)\n",
       "       (act): ReLU()\n",
       "       (pool): MaxPool1d(kernel_size=3, stride=3, padding=1, dilation=1, ceil_mode=False)\n",
       "       (dropout): Dropout(p=0.2, inplace=False)\n",
       "     )\n",
       "   )\n",
       "   (mha_layer): MultiHeadAttention(\n",
       "     (qkv): Linear(in_features=34, out_features=1536, bias=False)\n",
       "     (softmax): Softmax(dim=-1)\n",
       "     (dropout_layer): Dropout(p=0.1, inplace=False)\n",
       "     (projection_layer): Sequential(\n",
       "       (0): Linear(in_features=512, out_features=34, bias=True)\n",
       "       (1): Dropout(p=0.1, inplace=False)\n",
       "     )\n",
       "   )\n",
       "   (flatten): Flatten(start_dim=1, end_dim=-1)\n",
       "   (dense_block): DenseBlock(\n",
       "     (layers): Sequential(\n",
       "       (0): Linear(in_features=10880, out_features=1, bias=True)\n",
       "     )\n",
       "   )\n",
       " ),\n",
       " torch.Size([10, 1]))"
      ]
     },
     "execution_count": 15,
     "metadata": {},
     "output_type": "execute_result"
    }
   ],
   "source": [
    "model = Satori(\n",
    "    input_len=100,\n",
    "    output_dim=1\n",
    ")\n",
    "model_out = model(x)\n",
    "model, model_out.shape"
   ]
  },
  {
   "attachments": {},
   "cell_type": "markdown",
   "metadata": {},
   "source": [
    "# DONE"
   ]
  },
  {
   "attachments": {},
   "cell_type": "markdown",
   "metadata": {},
   "source": [
    "---"
   ]
  },
  {
   "attachments": {},
   "cell_type": "markdown",
   "metadata": {},
   "source": [
    "# Scratch"
   ]
  }
 ],
 "metadata": {
  "kernelspec": {
   "display_name": "Python 3.9 ml4gland",
   "language": "python",
   "name": "ml4gland"
  },
  "orig_nbformat": 4,
  "vscode": {
   "interpreter": {
    "hash": "7782186cff5d7e5d5e3fe0a7e6ebf1d74655b3470c460e9b06cf809b4e9601e8"
   }
  }
 },
 "nbformat": 4,
 "nbformat_minor": 2
}

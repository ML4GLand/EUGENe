{
 "cells": [
  {
   "cell_type": "markdown",
   "id": "7c83d48b",
   "metadata": {},
   "source": [
    "# Basic imports"
   ]
  },
  {
   "cell_type": "code",
   "execution_count": 9,
   "id": "5a91ed0d",
   "metadata": {},
   "outputs": [
    {
     "name": "stdout",
     "output_type": "stream",
     "text": [
      "The autoreload extension is already loaded. To reload it, use:\n",
      "  %reload_ext autoreload\n"
     ]
    }
   ],
   "source": [
    "# The classics\n",
    "import pandas as pd\n",
    "import numpy as np\n",
    "\n",
    "from torch.utils.data import DataLoader\n",
    "\n",
    "import pytorch_lightning as pl\n",
    "\n",
    "# Autoreload extension\n",
    "if 'autoreload' not in get_ipython().extension_manager.loaded:\n",
    "    %load_ext autoreload\n",
    "%autoreload 2"
   ]
  },
  {
   "cell_type": "code",
   "execution_count": 10,
   "id": "c75d1836",
   "metadata": {},
   "outputs": [],
   "source": [
    "import eugene as eu\n",
    "\n",
    "from eugene.datasets import deBoer20\n",
    "from eugene.models import DeepBind"
   ]
  },
  {
   "cell_type": "markdown",
   "id": "8f7da768",
   "metadata": {},
   "source": [
    "# Download the deBoer20 dataset"
   ]
  },
  {
   "cell_type": "code",
   "execution_count": 11,
   "id": "aed46d4d",
   "metadata": {},
   "outputs": [
    {
     "name": "stdout",
     "output_type": "stream",
     "text": [
      "Dataset deBoer20 GSE104878_20160503_average_promoter_ELs_per_seq_atLeast100Counts.csv.gz has already been dowloaded.\n"
     ]
    }
   ],
   "source": [
    "sdata = deBoer20(0)"
   ]
  },
  {
   "cell_type": "code",
   "execution_count": 12,
   "id": "6b85e12f",
   "metadata": {},
   "outputs": [
    {
     "data": {
      "text/plain": [
       "array(['TGCATTTTTTTCACAAGAGCACTTGAAGGGCGCCTATGACAAGGGAGAGAAGAAAGTGCGCGGGCCCCGCGGCACGACTGGAGCGTGGGTTACGGCTGTT',\n",
       "       'TGCATTTTTTTCACACATATACTTGGGTGACTTAGATATTTGCATGCTAGAAATGACTCTCAAGACACAGAGTTAGTAGCGCTCTCGTATTATAGGTTACGGCTGTT',\n",
       "       'TGCATTTTTTTCACACATCTGGATTGTCTGGTGTGCTGGTATCTTCCCTATTTGGATTGCACGATGGGGCTCTGACGGCGAAAAGGTATTCCGCGTGGTTACGGCTGTT',\n",
       "       ...,\n",
       "       'TGCATTTTTTTCACTTCCAGTAATATGCGAAAGGGTGATGTGAACTAGAGAAAAGGTGAGATGTTGGGGGCAATCTCGGCAACGGTCACAAACTATGGGTTACGGCTGTT',\n",
       "       'TGCATTTTTTTCACTTCGCACTCCACTTCTCGGTTTCTGGTATTATAGTTGACCCTTAAATTCGCTTTTCTAGTATTGGGTTGGGTTACGGCTGTT',\n",
       "       'TGCATTTTTTTCACTTGCCTGGTACGAACACAGGTATCTTTCGTAAGGATCTTTGCCCTGACGGGTTGACTCAATCTGAGATTCTGTAATTGGAGGTTACGGCTGTT'],\n",
       "      dtype='<U125')"
      ]
     },
     "execution_count": 12,
     "metadata": {},
     "output_type": "execute_result"
    }
   ],
   "source": [
    "sdata.seqs"
   ]
  },
  {
   "cell_type": "code",
   "execution_count": 13,
   "id": "a58d4127",
   "metadata": {},
   "outputs": [
    {
     "name": "stdout",
     "output_type": "stream",
     "text": [
      "SeqData object modified:\n",
      "\trev_seqs: None -> 9982 rev_seqs added\n",
      "SeqData object modified:\n",
      "\tohe_seqs: None -> 9982 ohe_seqs added\n",
      "\tohe_rev_seqs: None -> 9982 ohe_rev_seqs added\n"
     ]
    },
    {
     "data": {
      "text/plain": [
       "SeqData object with = 9982 seqs\n",
       "seqs = (9982,)\n",
       "names = (9982,)\n",
       "rev_seqs = (9982,)\n",
       "ohe_seqs = (9982, 125, 4)\n",
       "ohe_rev_seqs = (9982, 125, 4)\n",
       "    seqs_annot: 'TARGETS'"
      ]
     },
     "execution_count": 13,
     "metadata": {},
     "output_type": "execute_result"
    }
   ],
   "source": [
    "\n",
    "eu.pp.reverse_complement_data(sdata)\n",
    "eu.pp.one_hot_encode_data(sdata)\n",
    "sdata"
   ]
  },
  {
   "cell_type": "code",
   "execution_count": 14,
   "id": "7c4d0fcb",
   "metadata": {},
   "outputs": [
    {
     "data": {
      "text/plain": [
       "109"
      ]
     },
     "execution_count": 14,
     "metadata": {},
     "output_type": "execute_result"
    }
   ],
   "source": [
    "len(sdata.seqs[2])"
   ]
  },
  {
   "cell_type": "code",
   "execution_count": 15,
   "id": "87323c38",
   "metadata": {},
   "outputs": [],
   "source": [
    "sdata = eu.datasets.random1000()"
   ]
  },
  {
   "cell_type": "code",
   "execution_count": 16,
   "id": "7cfb6b9e",
   "metadata": {},
   "outputs": [
    {
     "data": {
      "text/plain": [
       "SeqData object with = 999 seqs\n",
       "seqs = (999,)\n",
       "names = (999,)\n",
       "rev_seqs = None\n",
       "ohe_seqs = None\n",
       "ohe_rev_seqs = None\n",
       "    seqs_annot: 'TARGETS'"
      ]
     },
     "execution_count": 16,
     "metadata": {},
     "output_type": "execute_result"
    }
   ],
   "source": [
    "sdata"
   ]
  },
  {
   "cell_type": "code",
   "execution_count": null,
   "id": "c37a575f",
   "metadata": {},
   "outputs": [],
   "source": []
  }
 ],
 "metadata": {
  "kernelspec": {
   "display_name": "Python 3.9.12 ('base')",
   "language": "python",
   "name": "python3"
  },
  "language_info": {
   "codemirror_mode": {
    "name": "ipython",
    "version": 3
   },
   "file_extension": ".py",
   "mimetype": "text/x-python",
   "name": "python",
   "nbconvert_exporter": "python",
   "pygments_lexer": "ipython3",
   "version": "3.9.12"
  },
  "vscode": {
   "interpreter": {
    "hash": "a445412b3331741a9e83c12b8d1f58585dfec4cc047851993ff836572bfde74d"
   }
  }
 },
 "nbformat": 4,
 "nbformat_minor": 5
}

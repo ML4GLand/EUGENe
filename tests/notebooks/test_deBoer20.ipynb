{
 "cells": [
  {
   "cell_type": "markdown",
   "id": "7c83d48b",
   "metadata": {},
   "source": [
    "# Basic imports"
   ]
  },
  {
   "cell_type": "code",
   "execution_count": 47,
   "id": "5a91ed0d",
   "metadata": {},
   "outputs": [
    {
     "name": "stdout",
     "output_type": "stream",
     "text": [
      "The autoreload extension is already loaded. To reload it, use:\n",
      "  %reload_ext autoreload\n"
     ]
    }
   ],
   "source": [
    "# The classics\n",
    "import pandas as pd\n",
    "import numpy as np\n",
    "\n",
    "from torch.utils.data import DataLoader\n",
    "\n",
    "import pytorch_lightning as pl\n",
    "\n",
    "# Autoreload extension\n",
    "if 'autoreload' not in get_ipython().extension_manager.loaded:\n",
    "    %load_ext autoreload\n",
    "%autoreload 2"
   ]
  },
  {
   "cell_type": "code",
   "execution_count": 48,
   "id": "c75d1836",
   "metadata": {},
   "outputs": [],
   "source": [
    "import eugene as eu\n",
    "\n",
    "from eugene.datasets import deBoer20\n",
    "from eugene.models import DeepBind"
   ]
  },
  {
   "cell_type": "markdown",
   "id": "8f7da768",
   "metadata": {},
   "source": [
    "# Download the deBoer20 dataset"
   ]
  },
  {
   "cell_type": "code",
   "execution_count": 56,
   "id": "aed46d4d",
   "metadata": {},
   "outputs": [
    {
     "name": "stdout",
     "output_type": "stream",
     "text": [
      "Dataset deBoer20 GSE104878_pTpA_random_design_tiling_etc_YPD_expression.csv has already been dowloaded.\n",
      "SeqData object modified:\n",
      "\trev_seqs: None -> 75487 rev_seqs added\n",
      "SeqData object modified:\n",
      "\tohe_seqs: None -> 75487 ohe_seqs added\n",
      "\tohe_rev_seqs: None -> 75487 ohe_rev_seqs added\n"
     ]
    },
    {
     "data": {
      "text/plain": [
       "SeqData object with = 75487 seqs\n",
       "seqs = (75487,)\n",
       "names = None\n",
       "rev_seqs = (75487,)\n",
       "ohe_seqs = (75487, 110, 4)\n",
       "ohe_rev_seqs = (75487, 110, 4)\n",
       "    seqs_annot: 'TARGETS'"
      ]
     },
     "execution_count": 56,
     "metadata": {},
     "output_type": "execute_result"
    }
   ],
   "source": [
    "sdata = deBoer20(0)\n",
    "eu.pp.reverse_complement_data(sdata)\n",
    "eu.pp.one_hot_encode_data(sdata)\n",
    "sdata"
   ]
  }
 ],
 "metadata": {
  "kernelspec": {
   "display_name": "Python 3.9.12 ('base')",
   "language": "python",
   "name": "python3"
  },
  "language_info": {
   "codemirror_mode": {
    "name": "ipython",
    "version": 3
   },
   "file_extension": ".py",
   "mimetype": "text/x-python",
   "name": "python",
   "nbconvert_exporter": "python",
   "pygments_lexer": "ipython3",
   "version": "3.9.12"
  },
  "vscode": {
   "interpreter": {
    "hash": "a445412b3331741a9e83c12b8d1f58585dfec4cc047851993ff836572bfde74d"
   }
  }
 },
 "nbformat": 4,
 "nbformat_minor": 5
}

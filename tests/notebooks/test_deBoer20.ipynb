{
 "cells": [
  {
   "cell_type": "markdown",
   "id": "7c83d48b",
   "metadata": {},
   "source": [
    "# Basic imports"
   ]
  },
  {
   "cell_type": "code",
   "execution_count": 1,
   "id": "5a91ed0d",
   "metadata": {},
   "outputs": [],
   "source": [
    "# The classics\n",
    "import pandas as pd\n",
    "import numpy as np\n",
    "\n",
    "# Autoreload extension\n",
    "if 'autoreload' not in get_ipython().extension_manager.loaded:\n",
    "    %load_ext autoreload\n",
    "%autoreload 2"
   ]
  },
  {
   "cell_type": "code",
   "execution_count": 3,
   "id": "c75d1836",
   "metadata": {},
   "outputs": [],
   "source": [
    "import eugene as eu\n",
    "\n",
    "from eugene.datasets import deBoer20"
   ]
  },
  {
   "cell_type": "markdown",
   "id": "8f7da768",
   "metadata": {},
   "source": [
    "# Download the deBoer20 dataset"
   ]
  },
  {
   "cell_type": "code",
   "execution_count": 129,
   "id": "aed46d4d",
   "metadata": {},
   "outputs": [
    {
     "name": "stdout",
     "output_type": "stream",
     "text": [
      "Dataset deBoer20 GSE104878_20160503_average_promoter_ELs_per_seq_atLeast100Counts.csv has already been dowloaded.\n",
      "Dataset deBoer20 GSE104878_pTpA_random_design_tiling_etc_YPD_expression.csv has already been dowloaded.\n",
      "['c:\\\\users\\\\lab\\\\documents\\\\eugene\\\\eugene\\\\datasets\\\\deBoer20\\\\GSE104878_20160503_average_promoter_ELs_per_seq_atLeast100Counts.csv', 'c:\\\\users\\\\lab\\\\documents\\\\eugene\\\\eugene\\\\datasets\\\\deBoer20\\\\GSE104878_pTpA_random_design_tiling_etc_YPD_expression.csv']\n"
     ]
    }
   ],
   "source": [
    "deBoer20([0, 6], kwargs=None)"
   ]
  }
 ],
 "metadata": {
  "kernelspec": {
   "display_name": "Python 3.9.12 ('base')",
   "language": "python",
   "name": "python3"
  },
  "language_info": {
   "codemirror_mode": {
    "name": "ipython",
    "version": 3
   },
   "file_extension": ".py",
   "mimetype": "text/x-python",
   "name": "python",
   "nbconvert_exporter": "python",
   "pygments_lexer": "ipython3",
   "version": "3.9.12"
  },
  "vscode": {
   "interpreter": {
    "hash": "a445412b3331741a9e83c12b8d1f58585dfec4cc047851993ff836572bfde74d"
   }
  }
 },
 "nbformat": 4,
 "nbformat_minor": 5
}

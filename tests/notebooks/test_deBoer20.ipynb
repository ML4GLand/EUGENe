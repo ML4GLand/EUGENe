{
 "cells": [
  {
   "cell_type": "markdown",
   "id": "7c83d48b",
   "metadata": {},
   "source": [
    "# Basic imports"
   ]
  },
  {
   "cell_type": "code",
   "execution_count": 1,
   "id": "5a91ed0d",
   "metadata": {},
   "outputs": [],
   "source": [
    "# Autoreload extension\n",
    "if 'autoreload' not in get_ipython().extension_manager.loaded:\n",
    "    %load_ext autoreload\n",
    "%autoreload 2"
   ]
  },
  {
   "cell_type": "code",
   "execution_count": 2,
   "id": "c75d1836",
   "metadata": {},
   "outputs": [
    {
     "name": "stderr",
     "output_type": "stream",
     "text": [
      "Global seed set to 13\n",
      "Global seed set to 13\n",
      "Global seed set to 13\n"
     ]
    }
   ],
   "source": [
    "import eugene as eu\n",
    "\n",
    "from eugene.datasets import deBoer20\n",
    "from eugene.models import DeepBind"
   ]
  },
  {
   "cell_type": "code",
   "execution_count": 3,
   "id": "547d870c",
   "metadata": {},
   "outputs": [],
   "source": [
    "eu.settings.datasetdir = \"../_data/datasets/\""
   ]
  },
  {
   "cell_type": "code",
   "execution_count": 4,
   "id": "7d9b6fe9",
   "metadata": {},
   "outputs": [
    {
     "data": {
      "text/plain": [
       "PosixPath('/mnt/beegfs/users/aklie/projects/EUGENE/tests/_data/datasets')"
      ]
     },
     "execution_count": 4,
     "metadata": {},
     "output_type": "execute_result"
    }
   ],
   "source": [
    "eu.settings.datasetdir"
   ]
  },
  {
   "cell_type": "markdown",
   "id": "8f7da768",
   "metadata": {},
   "source": [
    "# Download the deBoer20 dataset"
   ]
  },
  {
   "cell_type": "code",
   "execution_count": 10,
   "id": "aed46d4d",
   "metadata": {},
   "outputs": [
    {
     "name": "stdout",
     "output_type": "stream",
     "text": [
      "Dataset deBoer20 GSE104878_20160503_average_promoter_ELs_per_seq_atLeast100Counts.txt.gz has already been dowloaded.\n",
      "Kept 9982 sequences with targets, dropped 0 sequences with no targets\n"
     ]
    }
   ],
   "source": [
    "sdata = deBoer20([0])"
   ]
  },
  {
   "cell_type": "code",
   "execution_count": 9,
   "id": "8513f218",
   "metadata": {},
   "outputs": [
    {
     "data": {
      "text/plain": [
       "SeqData object with = 19965 seqs\n",
       "seqs = (19965,)\n",
       "names = (19965,)\n",
       "rev_seqs = None\n",
       "ohe_seqs = None\n",
       "ohe_rev_seqs = None\n",
       "seqs_annot: 'TARGETS'\n",
       "pos_annot: None\n",
       "seqsm: None\n",
       "uns: None"
      ]
     },
     "execution_count": 9,
     "metadata": {},
     "output_type": "execute_result"
    }
   ],
   "source": [
    "sdata"
   ]
  },
  {
   "cell_type": "code",
   "execution_count": 48,
   "id": "58a57452",
   "metadata": {},
   "outputs": [
    {
     "name": "stdout",
     "output_type": "stream",
     "text": [
      "Dataset deBoer20 GSE104878_20160503_average_promoter_ELs_per_seq_atLeast100Counts.csv.gz has already been dowloaded.\n",
      "Kept 9982 sequences with targets, dropped 0 sequences with no targets\n"
     ]
    }
   ],
   "source": [
    "sdata = deBoer20(0)"
   ]
  },
  {
   "cell_type": "code",
   "execution_count": 49,
   "id": "127036f9",
   "metadata": {},
   "outputs": [
    {
     "name": "stdout",
     "output_type": "stream",
     "text": [
      "Dataset deBoer20 GSE104878_20180808_processed_Native80_and_N80_spikein.csv.gz has already been dowloaded.\n",
      "Kept 69240 sequences with targets, dropped 1684 sequences with no targets\n"
     ]
    }
   ],
   "source": [
    "sdata = deBoer20(6)"
   ]
  },
  {
   "cell_type": "code",
   "execution_count": 46,
   "id": "8aca831a",
   "metadata": {},
   "outputs": [
    {
     "data": {
      "text/html": [
       "<div>\n",
       "<style scoped>\n",
       "    .dataframe tbody tr th:only-of-type {\n",
       "        vertical-align: middle;\n",
       "    }\n",
       "\n",
       "    .dataframe tbody tr th {\n",
       "        vertical-align: top;\n",
       "    }\n",
       "\n",
       "    .dataframe thead th {\n",
       "        text-align: right;\n",
       "    }\n",
       "</style>\n",
       "<table border=\"1\" class=\"dataframe\">\n",
       "  <thead>\n",
       "    <tr style=\"text-align: right;\">\n",
       "      <th></th>\n",
       "      <th>TARGETS</th>\n",
       "    </tr>\n",
       "  </thead>\n",
       "  <tbody>\n",
       "    <tr>\n",
       "      <th>seq00000</th>\n",
       "      <td>13.708592</td>\n",
       "    </tr>\n",
       "    <tr>\n",
       "      <th>seq00001</th>\n",
       "      <td>2.553335</td>\n",
       "    </tr>\n",
       "    <tr>\n",
       "      <th>seq00002</th>\n",
       "      <td>13.369969</td>\n",
       "    </tr>\n",
       "    <tr>\n",
       "      <th>seq00003</th>\n",
       "      <td>3.328683</td>\n",
       "    </tr>\n",
       "    <tr>\n",
       "      <th>seq00004</th>\n",
       "      <td>10.466688</td>\n",
       "    </tr>\n",
       "    <tr>\n",
       "      <th>...</th>\n",
       "      <td>...</td>\n",
       "    </tr>\n",
       "    <tr>\n",
       "      <th>seq80900</th>\n",
       "      <td>14.220082</td>\n",
       "    </tr>\n",
       "    <tr>\n",
       "      <th>seq80901</th>\n",
       "      <td>6.978840</td>\n",
       "    </tr>\n",
       "    <tr>\n",
       "      <th>seq80902</th>\n",
       "      <td>3.917299</td>\n",
       "    </tr>\n",
       "    <tr>\n",
       "      <th>seq80903</th>\n",
       "      <td>16.012221</td>\n",
       "    </tr>\n",
       "    <tr>\n",
       "      <th>seq80905</th>\n",
       "      <td>14.126017</td>\n",
       "    </tr>\n",
       "  </tbody>\n",
       "</table>\n",
       "<p>79222 rows × 1 columns</p>\n",
       "</div>"
      ],
      "text/plain": [
       "            TARGETS\n",
       "seq00000  13.708592\n",
       "seq00001   2.553335\n",
       "seq00002  13.369969\n",
       "seq00003   3.328683\n",
       "seq00004  10.466688\n",
       "...             ...\n",
       "seq80900  14.220082\n",
       "seq80901   6.978840\n",
       "seq80902   3.917299\n",
       "seq80903  16.012221\n",
       "seq80905  14.126017\n",
       "\n",
       "[79222 rows x 1 columns]"
      ]
     },
     "execution_count": 46,
     "metadata": {},
     "output_type": "execute_result"
    }
   ],
   "source": [
    "sdata.seqs_annot"
   ]
  },
  {
   "cell_type": "code",
   "execution_count": 50,
   "id": "a58d4127",
   "metadata": {},
   "outputs": [
    {
     "name": "stdout",
     "output_type": "stream",
     "text": [
      "SeqData object modified:\n",
      "\trev_seqs: None -> 69240 rev_seqs added\n",
      "SeqData object modified:\n",
      "\tohe_seqs: None -> 69240 ohe_seqs added\n",
      "\tohe_rev_seqs: None -> 69240 ohe_rev_seqs added\n"
     ]
    },
    {
     "data": {
      "text/plain": [
       "SeqData object with = 69240 seqs\n",
       "seqs = (69240,)\n",
       "names = (69240,)\n",
       "rev_seqs = (69240,)\n",
       "ohe_seqs = (69240, 120, 4)\n",
       "ohe_rev_seqs = (69240, 120, 4)\n",
       "seqs_annot: 'TARGETS'\n",
       "pos_annot: None"
      ]
     },
     "execution_count": 50,
     "metadata": {},
     "output_type": "execute_result"
    }
   ],
   "source": [
    "eu.pp.reverse_complement_data(sdata)\n",
    "eu.pp.one_hot_encode_data(sdata)\n",
    "sdata"
   ]
  },
  {
   "cell_type": "code",
   "execution_count": 51,
   "id": "7c4d0fcb",
   "metadata": {},
   "outputs": [
    {
     "data": {
      "text/plain": [
       "120"
      ]
     },
     "execution_count": 51,
     "metadata": {},
     "output_type": "execute_result"
    }
   ],
   "source": [
    "len(sdata.seqs[2])"
   ]
  },
  {
   "cell_type": "code",
   "execution_count": 52,
   "id": "87323c38",
   "metadata": {},
   "outputs": [
    {
     "name": "stdout",
     "output_type": "stream",
     "text": [
      "Kept 1000 sequences with targets, dropped 0 sequences with no targets\n"
     ]
    }
   ],
   "source": [
    "sdata = eu.datasets.random1000()"
   ]
  },
  {
   "cell_type": "code",
   "execution_count": 53,
   "id": "7cfb6b9e",
   "metadata": {},
   "outputs": [
    {
     "data": {
      "text/html": [
       "<div>\n",
       "<style scoped>\n",
       "    .dataframe tbody tr th:only-of-type {\n",
       "        vertical-align: middle;\n",
       "    }\n",
       "\n",
       "    .dataframe tbody tr th {\n",
       "        vertical-align: top;\n",
       "    }\n",
       "\n",
       "    .dataframe thead th {\n",
       "        text-align: right;\n",
       "    }\n",
       "</style>\n",
       "<table border=\"1\" class=\"dataframe\">\n",
       "  <thead>\n",
       "    <tr style=\"text-align: right;\">\n",
       "      <th></th>\n",
       "      <th>TARGETS</th>\n",
       "    </tr>\n",
       "  </thead>\n",
       "  <tbody>\n",
       "    <tr>\n",
       "      <th>seq000</th>\n",
       "      <td>0.866168</td>\n",
       "    </tr>\n",
       "    <tr>\n",
       "      <th>seq001</th>\n",
       "      <td>0.800737</td>\n",
       "    </tr>\n",
       "    <tr>\n",
       "      <th>seq002</th>\n",
       "      <td>0.703108</td>\n",
       "    </tr>\n",
       "    <tr>\n",
       "      <th>seq003</th>\n",
       "      <td>0.465782</td>\n",
       "    </tr>\n",
       "    <tr>\n",
       "      <th>seq004</th>\n",
       "      <td>0.676781</td>\n",
       "    </tr>\n",
       "    <tr>\n",
       "      <th>...</th>\n",
       "      <td>...</td>\n",
       "    </tr>\n",
       "    <tr>\n",
       "      <th>seq995</th>\n",
       "      <td>0.001721</td>\n",
       "    </tr>\n",
       "    <tr>\n",
       "      <th>seq996</th>\n",
       "      <td>0.617911</td>\n",
       "    </tr>\n",
       "    <tr>\n",
       "      <th>seq997</th>\n",
       "      <td>0.565960</td>\n",
       "    </tr>\n",
       "    <tr>\n",
       "      <th>seq998</th>\n",
       "      <td>0.293470</td>\n",
       "    </tr>\n",
       "    <tr>\n",
       "      <th>seq999</th>\n",
       "      <td>0.205779</td>\n",
       "    </tr>\n",
       "  </tbody>\n",
       "</table>\n",
       "<p>1000 rows × 1 columns</p>\n",
       "</div>"
      ],
      "text/plain": [
       "         TARGETS\n",
       "seq000  0.866168\n",
       "seq001  0.800737\n",
       "seq002  0.703108\n",
       "seq003  0.465782\n",
       "seq004  0.676781\n",
       "...          ...\n",
       "seq995  0.001721\n",
       "seq996  0.617911\n",
       "seq997  0.565960\n",
       "seq998  0.293470\n",
       "seq999  0.205779\n",
       "\n",
       "[1000 rows x 1 columns]"
      ]
     },
     "execution_count": 53,
     "metadata": {},
     "output_type": "execute_result"
    }
   ],
   "source": [
    "sdata.seqs_annot"
   ]
  },
  {
   "cell_type": "code",
   "execution_count": null,
   "id": "8be26839",
   "metadata": {},
   "outputs": [],
   "source": []
  }
 ],
 "metadata": {
  "kernelspec": {
   "display_name": "Python 3.7.12 ('eugene')",
   "language": "python",
   "name": "python3"
  },
  "language_info": {
   "codemirror_mode": {
    "name": "ipython",
    "version": 3
   },
   "file_extension": ".py",
   "mimetype": "text/x-python",
   "name": "python",
   "nbconvert_exporter": "python",
   "pygments_lexer": "ipython3",
   "version": "3.7.12"
  },
  "vscode": {
   "interpreter": {
    "hash": "1330bbbf2c4cf53098ef1254540d5dd54a9d501f0408fea1c04a20872667b797"
   }
  }
 },
 "nbformat": 4,
 "nbformat_minor": 5
}

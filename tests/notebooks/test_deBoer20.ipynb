{
 "cells": [
  {
   "cell_type": "markdown",
   "id": "7c83d48b",
   "metadata": {},
   "source": [
    "# Basic imports"
   ]
  },
  {
   "cell_type": "code",
   "execution_count": 3,
   "id": "5a91ed0d",
   "metadata": {},
   "outputs": [],
   "source": [
    "# The classics\n",
    "import pandas as pd\n",
    "import numpy as np\n",
    "\n",
    "from torch.utils.data import DataLoader\n",
    "\n",
    "import pytorch_lightning as pl\n",
    "\n",
    "# Autoreload extension\n",
    "if 'autoreload' not in get_ipython().extension_manager.loaded:\n",
    "    %load_ext autoreload\n",
    "%autoreload 2"
   ]
  },
  {
   "cell_type": "code",
   "execution_count": 4,
   "id": "c75d1836",
   "metadata": {},
   "outputs": [],
   "source": [
    "import eugene as eu\n",
    "\n",
    "from eugene.datasets import deBoer20\n",
    "from eugene.models import DeepBind"
   ]
  },
  {
   "cell_type": "markdown",
   "id": "8f7da768",
   "metadata": {},
   "source": [
    "# Download the deBoer20 dataset"
   ]
  },
  {
   "cell_type": "code",
   "execution_count": 31,
   "id": "aed46d4d",
   "metadata": {},
   "outputs": [
    {
     "name": "stdout",
     "output_type": "stream",
     "text": [
      "Path /mnt/beegfs/users/aklie/projects/EUGENE/tests/notebooks/datasets/deBoer20 does not exist, creating new folder.\n",
      "Downloading deBoer20 GSE104878_20160503_average_promoter_ELs_per_seq_atLeast100Counts.txt.gz to /mnt/beegfs/users/aklie/projects/EUGENE/tests/notebooks/datasets/deBoer20...\n",
      "Finished downloading GSE104878_20160503_average_promoter_ELs_per_seq_atLeast100Counts.txt.gz\n",
      "Processing gzip file...\n",
      "Saving csv file to /mnt/beegfs/users/aklie/projects/EUGENE/tests/notebooks/datasets/deBoer20/GSE104878_20160503_average_promoter_ELs_per_seq_atLeast100Counts.csv...\n",
      "Saved csv file to /mnt/beegfs/users/aklie/projects/EUGENE/tests/notebooks/datasets/deBoer20/GSE104878_20160503_average_promoter_ELs_per_seq_atLeast100Counts.csv\n"
     ]
    }
   ],
   "source": [
    "sdata = deBoer20(0)"
   ]
  },
  {
   "cell_type": "code",
   "execution_count": 33,
   "id": "6b85e12f",
   "metadata": {},
   "outputs": [
    {
     "data": {
      "text/plain": [
       "array(['0',\n",
       "       'TGCATTTTTTTCACAAGAGCACTTGAAGGGCGCCTATGACAAGGGAGAGAAGAAAGTGCGCGGGCCCCGCGGCACGACTGGAGCGTGGGTTACGGCTGTT',\n",
       "       'TGCATTTTTTTCACACATATACTTGGGTGACTTAGATATTTGCATGCTAGAAATGACTCTCAAGACACAGAGTTAGTAGCGCTCTCGTATTATAGGTTACGGCTGTT',\n",
       "       ...,\n",
       "       'TGCATTTTTTTCACTTCCAGTAATATGCGAAAGGGTGATGTGAACTAGAGAAAAGGTGAGATGTTGGGGGCAATCTCGGCAACGGTCACAAACTATGGGTTACGGCTGTT',\n",
       "       'TGCATTTTTTTCACTTCGCACTCCACTTCTCGGTTTCTGGTATTATAGTTGACCCTTAAATTCGCTTTTCTAGTATTGGGTTGGGTTACGGCTGTT',\n",
       "       'TGCATTTTTTTCACTTGCCTGGTACGAACACAGGTATCTTTCGTAAGGATCTTTGCCCTGACGGGTTGACTCAATCTGAGATTCTGTAATTGGAGGTTACGGCTGTT'],\n",
       "      dtype='<U125')"
      ]
     },
     "execution_count": 33,
     "metadata": {},
     "output_type": "execute_result"
    }
   ],
   "source": [
    "sdata.seqs"
   ]
  },
  {
   "cell_type": "code",
   "execution_count": null,
   "id": "a58d4127",
   "metadata": {},
   "outputs": [],
   "source": [
    "\n",
    "eu.pp.reverse_complement_data(sdata)\n",
    "eu.pp.one_hot_encode_data(sdata)\n",
    "sdata"
   ]
  },
  {
   "cell_type": "code",
   "execution_count": 17,
   "id": "7c4d0fcb",
   "metadata": {},
   "outputs": [
    {
     "data": {
      "text/plain": [
       "115"
      ]
     },
     "execution_count": 17,
     "metadata": {},
     "output_type": "execute_result"
    }
   ],
   "source": [
    "len(sdata.seqs[2])"
   ]
  },
  {
   "cell_type": "code",
   "execution_count": 28,
   "id": "87323c38",
   "metadata": {},
   "outputs": [],
   "source": [
    "sdata = eu.datasets.random1000()"
   ]
  },
  {
   "cell_type": "code",
   "execution_count": 30,
   "id": "7cfb6b9e",
   "metadata": {},
   "outputs": [
    {
     "data": {
      "text/plain": [
       "SeqData object with = 1000 seqs\n",
       "seqs = (1000,)\n",
       "names = (1000,)\n",
       "rev_seqs = None\n",
       "ohe_seqs = None\n",
       "ohe_rev_seqs = None\n",
       "    seqs_annot: 'TARGETS'"
      ]
     },
     "execution_count": 30,
     "metadata": {},
     "output_type": "execute_result"
    }
   ],
   "source": [
    "sdata"
   ]
  },
  {
   "cell_type": "code",
   "execution_count": null,
   "id": "c37a575f",
   "metadata": {},
   "outputs": [],
   "source": []
  }
 ],
 "metadata": {
  "kernelspec": {
   "display_name": "Python 3.7.12 ('eugene')",
   "language": "python",
   "name": "python3"
  },
  "language_info": {
   "codemirror_mode": {
    "name": "ipython",
    "version": 3
   },
   "file_extension": ".py",
   "mimetype": "text/x-python",
   "name": "python",
   "nbconvert_exporter": "python",
   "pygments_lexer": "ipython3",
   "version": "3.7.12"
  },
  "vscode": {
   "interpreter": {
    "hash": "1330bbbf2c4cf53098ef1254540d5dd54a9d501f0408fea1c04a20872667b797"
   }
  }
 },
 "nbformat": 4,
 "nbformat_minor": 5
}

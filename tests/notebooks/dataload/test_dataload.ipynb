{
 "cells": [
  {
   "cell_type": "markdown",
   "id": "c3daa03e",
   "metadata": {},
   "source": [
    "# Testing the `dataload` module"
   ]
  },
  {
   "cell_type": "markdown",
   "id": "91689580",
   "metadata": {
    "tags": []
   },
   "source": [
    "**Authorship:**\n",
    "Adam Klie, *03/02/2022*\n",
    "***\n",
    "**Description:**\n",
    "Notebook for testing out the `dataload` module."
   ]
  },
  {
   "cell_type": "code",
   "execution_count": 3,
   "id": "92833b89",
   "metadata": {
    "execution": {
     "iopub.execute_input": "2022-04-24T18:43:50.141019Z",
     "iopub.status.busy": "2022-04-24T18:43:50.140893Z",
     "iopub.status.idle": "2022-04-24T18:43:57.795293Z",
     "shell.execute_reply": "2022-04-24T18:43:57.794764Z",
     "shell.execute_reply.started": "2022-04-24T18:43:50.140980Z"
    },
    "tags": []
   },
   "outputs": [],
   "source": [
    "if 'autoreload' not in get_ipython().extension_manager.loaded:\n",
    "    %load_ext autoreload\n",
    "%autoreload 2\n",
    "\n",
    "import os\n",
    "import numpy as np\n",
    "import pandas as pd\n",
    "import eugene as eu"
   ]
  },
  {
   "cell_type": "markdown",
   "id": "48ba8e8e",
   "metadata": {},
   "source": [
    "# IO"
   ]
  },
  {
   "cell_type": "markdown",
   "id": "1c622062",
   "metadata": {},
   "source": [
    "## Built-in io"
   ]
  },
  {
   "cell_type": "code",
   "execution_count": 6,
   "id": "8088c5fa",
   "metadata": {},
   "outputs": [],
   "source": [
    "eu.logging.dataset_dir = \"../../../eugene/datasets/random1000\"\n",
    "from eugene.dataload import SeqData"
   ]
  },
  {
   "cell_type": "code",
   "execution_count": 42,
   "id": "78342278",
   "metadata": {},
   "outputs": [],
   "source": [
    "def check_random1000_load(sdata, has_target=False):\n",
    "    assert isinstance(sdata, SeqData)\n",
    "    assert sdata.n_obs == 1000\n",
    "    assert sdata.names[-1] == \"seq999\"\n",
    "    if has_target:\n",
    "        assert sdata.seqs_annot.iloc[:, -1][0] is not np.nan"
   ]
  },
  {
   "cell_type": "code",
   "execution_count": 17,
   "id": "8cd40144",
   "metadata": {},
   "outputs": [],
   "source": [
    "sdata = eu.dl.read(os.path.join(eu.logging.dataset_dir, \"random1000_seqs.tsv\"))\n",
    "check_random1000_load(sdata)"
   ]
  },
  {
   "cell_type": "code",
   "execution_count": 43,
   "id": "e46110ed",
   "metadata": {},
   "outputs": [],
   "source": [
    "sdata = eu.dl.read_csv(\n",
    "    filename=os.path.join(eu.logging.dataset_dir, \"random1000_seqs.tsv\"),\n",
    "    seq_col=\"seq\",\n",
    "    name_col=\"name\",\n",
    "    target_col=\"activity_0\",\n",
    "    rev_comp=False,\n",
    "    sep=\"\\t\",\n",
    "    low_memory=False,\n",
    "    return_numpy=False,\n",
    "    return_dataframe=False,\n",
    "    col_names=None,\n",
    "    auto_name=False,\n",
    "    compression=\"infer\"\n",
    ")\n",
    "check_random1000_load(sdata, has_target=True)"
   ]
  },
  {
   "cell_type": "code",
   "execution_count": 44,
   "id": "7e14ee59",
   "metadata": {},
   "outputs": [],
   "source": [
    "sdata = eu.dl.read_fasta(\n",
    "    seq_file=os.path.join(eu.logging.dataset_dir, \"random1000_seqs.fa\"),\n",
    "    target_file=os.path.join(eu.logging.dataset_dir, \"random1000_activities.npy\"),\n",
    "    rev_comp=False,\n",
    "    is_target_text=False,\n",
    "    return_numpy=False\n",
    ")\n",
    "check_random1000_load(sdata, has_target=True)"
   ]
  },
  {
   "cell_type": "code",
   "execution_count": 47,
   "id": "e2f66707",
   "metadata": {},
   "outputs": [],
   "source": [
    "sdata = eu.dl.read_numpy(\n",
    "    seq_file=os.path.join(eu.logging.dataset_dir, \"random1000_seqs.npy\"),\n",
    "    names_file=os.path.join(eu.logging.dataset_dir, \"random1000_ids.npy\"),\n",
    "    target_file=os.path.join(eu.logging.dataset_dir, \"random1000_activities.npy\"),\n",
    "    rev_seq_file=os.path.join(eu.logging.dataset_dir, \"random1000_rev_seqs.npy\"),\n",
    "    is_names_text=False,\n",
    "    is_target_text=False,\n",
    "    delim=\"\\n\",\n",
    "    ohe=False,\n",
    "    return_numpy=False\n",
    ")\n",
    "check_random1000_load(sdata, has_target=True)"
   ]
  },
  {
   "cell_type": "markdown",
   "id": "ec768113",
   "metadata": {},
   "source": [
    "## Janggu wrapped io"
   ]
  },
  {
   "cell_type": "code",
   "execution_count": 49,
   "id": "ed40e603",
   "metadata": {},
   "outputs": [],
   "source": [
    "eu.settings.dataset_dir = \"../../../eugene/datasets/janggu_resources\""
   ]
  },
  {
   "cell_type": "code",
   "execution_count": null,
   "id": "3a57e73c",
   "metadata": {},
   "outputs": [],
   "source": [
    "refgenome = \"sample_genome.fa\"\n",
    "roi_file = \"sample.bed\"\n",
    "bed_file = \"scored_sample.bed\"\n",
    "bam_file = \"sample2.bam\"\n",
    "bw_file = \"sample.bw\"                                         \n",
    "refgenome, roi_file, bed_file, bam_file, bw_file"
   ]
  },
  {
   "cell_type": "code",
   "execution_count": null,
   "id": "63de273a",
   "metadata": {},
   "outputs": [
    {
     "name": "stdout",
     "output_type": "stream",
     "text": [
      "HERE\n",
      "/usr/local/bin\n"
     ]
    },
    {
     "ename": "NotImplementedError",
     "evalue": "\"intersectBed\" does not appear to be installed or on the path, so this method is disabled.  Please install a more recent version of BEDTools and re-import to use this method.",
     "output_type": "error",
     "traceback": [
      "\u001b[0;31m---------------------------------------------------------------------------\u001b[0m",
      "\u001b[0;31mNotImplementedError\u001b[0m                       Traceback (most recent call last)",
      "\u001b[0;32m/tmp/ipykernel_11108/684102390.py\u001b[0m in \u001b[0;36m<module>\u001b[0;34m\u001b[0m\n\u001b[1;32m      2\u001b[0m     \u001b[0mbed_file\u001b[0m\u001b[0;34m=\u001b[0m\u001b[0mos\u001b[0m\u001b[0;34m.\u001b[0m\u001b[0mpath\u001b[0m\u001b[0;34m.\u001b[0m\u001b[0mjoin\u001b[0m\u001b[0;34m(\u001b[0m\u001b[0meu\u001b[0m\u001b[0;34m.\u001b[0m\u001b[0msettings\u001b[0m\u001b[0;34m.\u001b[0m\u001b[0mdataset_dir\u001b[0m\u001b[0;34m,\u001b[0m \u001b[0;34m\"scores.bed\"\u001b[0m\u001b[0;34m)\u001b[0m\u001b[0;34m,\u001b[0m\u001b[0;34m\u001b[0m\u001b[0;34m\u001b[0m\u001b[0m\n\u001b[1;32m      3\u001b[0m     \u001b[0mroi_file\u001b[0m\u001b[0;34m=\u001b[0m\u001b[0mos\u001b[0m\u001b[0;34m.\u001b[0m\u001b[0mpath\u001b[0m\u001b[0;34m.\u001b[0m\u001b[0mjoin\u001b[0m\u001b[0;34m(\u001b[0m\u001b[0meu\u001b[0m\u001b[0;34m.\u001b[0m\u001b[0msettings\u001b[0m\u001b[0;34m.\u001b[0m\u001b[0mdataset_dir\u001b[0m\u001b[0;34m,\u001b[0m \u001b[0;34m\"roi_train.bed\"\u001b[0m\u001b[0;34m)\u001b[0m\u001b[0;34m,\u001b[0m\u001b[0;34m\u001b[0m\u001b[0;34m\u001b[0m\u001b[0m\n\u001b[0;32m----> 4\u001b[0;31m     \u001b[0mref_file\u001b[0m\u001b[0;34m=\u001b[0m\u001b[0mos\u001b[0m\u001b[0;34m.\u001b[0m\u001b[0mpath\u001b[0m\u001b[0;34m.\u001b[0m\u001b[0mjoin\u001b[0m\u001b[0;34m(\u001b[0m\u001b[0meu\u001b[0m\u001b[0;34m.\u001b[0m\u001b[0msettings\u001b[0m\u001b[0;34m.\u001b[0m\u001b[0mdataset_dir\u001b[0m\u001b[0;34m,\u001b[0m \u001b[0;34m\"pseudo_genome.fa\"\u001b[0m\u001b[0;34m)\u001b[0m\u001b[0;34m\u001b[0m\u001b[0;34m\u001b[0m\u001b[0m\n\u001b[0m\u001b[1;32m      5\u001b[0m )\n",
      "\u001b[0;32m/workspaces/EUGENe/eugene/dataload/_io.py\u001b[0m in \u001b[0;36mread_bed\u001b[0;34m(bed_file, roi_file, ref_file, dnaflank, resolution, collapser, add_seqs, return_janggu, **kwargs)\u001b[0m\n\u001b[1;32m    415\u001b[0m         \u001b[0mresolution\u001b[0m\u001b[0;34m=\u001b[0m\u001b[0mresolution\u001b[0m\u001b[0;34m,\u001b[0m\u001b[0;34m\u001b[0m\u001b[0;34m\u001b[0m\u001b[0m\n\u001b[1;32m    416\u001b[0m         \u001b[0mcollapser\u001b[0m\u001b[0;34m=\u001b[0m\u001b[0mcollapser\u001b[0m\u001b[0;34m,\u001b[0m\u001b[0;34m\u001b[0m\u001b[0;34m\u001b[0m\u001b[0m\n\u001b[0;32m--> 417\u001b[0;31m         \u001b[0;34m**\u001b[0m\u001b[0mkwargs\u001b[0m\u001b[0;34m,\u001b[0m\u001b[0;34m\u001b[0m\u001b[0;34m\u001b[0m\u001b[0m\n\u001b[0m\u001b[1;32m    418\u001b[0m     )\n\u001b[1;32m    419\u001b[0m     \u001b[0;32mif\u001b[0m \u001b[0mreturn_janggu\u001b[0m\u001b[0;34m:\u001b[0m\u001b[0;34m\u001b[0m\u001b[0;34m\u001b[0m\u001b[0m\n",
      "\u001b[0;32m/workspaces/EUGENe/eugene/external/janggu/data/coverage.py\u001b[0m in \u001b[0;36mcreate_from_bed\u001b[0;34m(cls, name, bedfiles, roi, genomesize, conditions, binsize, stepsize, resolution, flank, storage, dtype, mode, store_whole_genome, overwrite, zero_padding, normalizer, collapser, minoverlap, random_state, datatags, cache, verbose)\u001b[0m\n\u001b[1;32m   1161\u001b[0m                                      \u001b[0mcollapser\u001b[0m\u001b[0;34m=\u001b[0m\u001b[0mcollapser_\u001b[0m\u001b[0;34m,\u001b[0m\u001b[0;34m\u001b[0m\u001b[0;34m\u001b[0m\u001b[0m\n\u001b[1;32m   1162\u001b[0m                                      \u001b[0mnormalizer\u001b[0m\u001b[0;34m=\u001b[0m\u001b[0mnormalizer\u001b[0m\u001b[0;34m,\u001b[0m\u001b[0;34m\u001b[0m\u001b[0;34m\u001b[0m\u001b[0m\n\u001b[0;32m-> 1163\u001b[0;31m                                      verbose=verbose)\n\u001b[0m\u001b[1;32m   1164\u001b[0m \u001b[0;34m\u001b[0m\u001b[0m\n\u001b[1;32m   1165\u001b[0m         \u001b[0;32mreturn\u001b[0m \u001b[0mcls\u001b[0m\u001b[0;34m(\u001b[0m\u001b[0mname\u001b[0m\u001b[0;34m,\u001b[0m \u001b[0mcover\u001b[0m\u001b[0;34m,\u001b[0m \u001b[0mgindexer\u001b[0m\u001b[0;34m)\u001b[0m\u001b[0;34m\u001b[0m\u001b[0;34m\u001b[0m\u001b[0m\n",
      "\u001b[0;32m/workspaces/EUGENe/eugene/external/janggu/data/genomicarray.py\u001b[0m in \u001b[0;36mcreate_genomic_array\u001b[0;34m(chroms, stranded, conditions, typecode, storage, resolution, order, padding_value, store_whole_genome, datatags, cache, overwrite, loader, normalizer, collapser, verbose)\u001b[0m\n\u001b[1;32m   1189\u001b[0m                               \u001b[0mnormalizer\u001b[0m\u001b[0;34m=\u001b[0m\u001b[0mnormalizer\u001b[0m\u001b[0;34m,\u001b[0m\u001b[0;34m\u001b[0m\u001b[0;34m\u001b[0m\u001b[0m\n\u001b[1;32m   1190\u001b[0m                               \u001b[0mcollapser\u001b[0m\u001b[0;34m=\u001b[0m\u001b[0mget_collapser\u001b[0m\u001b[0;34m(\u001b[0m\u001b[0mcollapser\u001b[0m\u001b[0;34m)\u001b[0m\u001b[0;34m,\u001b[0m\u001b[0;34m\u001b[0m\u001b[0;34m\u001b[0m\u001b[0m\n\u001b[0;32m-> 1191\u001b[0;31m                               verbose=verbose)\n\u001b[0m\u001b[1;32m   1192\u001b[0m     \u001b[0;32melif\u001b[0m \u001b[0mstorage\u001b[0m \u001b[0;34m==\u001b[0m \u001b[0;34m'sparse'\u001b[0m\u001b[0;34m:\u001b[0m\u001b[0;34m\u001b[0m\u001b[0;34m\u001b[0m\u001b[0m\n\u001b[1;32m   1193\u001b[0m         return SparseGenomicArray(chroms, stranded=stranded,\n",
      "\u001b[0;32m/workspaces/EUGENe/eugene/external/janggu/data/genomicarray.py\u001b[0m in \u001b[0;36m__init__\u001b[0;34m(self, gsize, stranded, conditions, typecode, datatags, resolution, order, padding_value, store_whole_genome, cache, overwrite, loader, normalizer, collapser, verbose)\u001b[0m\n\u001b[1;32m    664\u001b[0m             \u001b[0;31m# invoke the loader\u001b[0m\u001b[0;34m\u001b[0m\u001b[0;34m\u001b[0m\u001b[0;34m\u001b[0m\u001b[0m\n\u001b[1;32m    665\u001b[0m             \u001b[0;32mif\u001b[0m \u001b[0mloader\u001b[0m\u001b[0;34m:\u001b[0m\u001b[0;34m\u001b[0m\u001b[0;34m\u001b[0m\u001b[0m\n\u001b[0;32m--> 666\u001b[0;31m                 \u001b[0mloader\u001b[0m\u001b[0;34m(\u001b[0m\u001b[0mself\u001b[0m\u001b[0;34m)\u001b[0m\u001b[0;34m\u001b[0m\u001b[0;34m\u001b[0m\u001b[0m\n\u001b[0m\u001b[1;32m    667\u001b[0m \u001b[0;34m\u001b[0m\u001b[0m\n\u001b[1;32m    668\u001b[0m \u001b[0;34m\u001b[0m\u001b[0m\n",
      "\u001b[0;32m/workspaces/EUGENe/eugene/external/janggu/data/coverage.py\u001b[0m in \u001b[0;36m__call__\u001b[0;34m(self, garray)\u001b[0m\n\u001b[1;32m    391\u001b[0m \u001b[0;34m\u001b[0m\u001b[0m\n\u001b[1;32m    392\u001b[0m             \u001b[0;31m# map data to rois\u001b[0m\u001b[0;34m\u001b[0m\u001b[0;34m\u001b[0m\u001b[0;34m\u001b[0m\u001b[0m\n\u001b[0;32m--> 393\u001b[0;31m             \u001b[0mroiregs\u001b[0m \u001b[0;34m=\u001b[0m \u001b[0mroifile\u001b[0m\u001b[0;34m.\u001b[0m\u001b[0mintersect\u001b[0m\u001b[0;34m(\u001b[0m\u001b[0mregions_\u001b[0m\u001b[0;34m,\u001b[0m \u001b[0mwa\u001b[0m\u001b[0;34m=\u001b[0m\u001b[0;32mTrue\u001b[0m\u001b[0;34m,\u001b[0m \u001b[0mu\u001b[0m\u001b[0;34m=\u001b[0m\u001b[0;32mTrue\u001b[0m\u001b[0;34m)\u001b[0m\u001b[0;34m\u001b[0m\u001b[0;34m\u001b[0m\u001b[0m\n\u001b[0m\u001b[1;32m    394\u001b[0m             \u001b[0;32mfor\u001b[0m \u001b[0mroireg\u001b[0m \u001b[0;32min\u001b[0m \u001b[0mroiregs\u001b[0m\u001b[0;34m:\u001b[0m\u001b[0;34m\u001b[0m\u001b[0;34m\u001b[0m\u001b[0m\n\u001b[1;32m    395\u001b[0m                 \u001b[0;32mif\u001b[0m \u001b[0mroireg\u001b[0m\u001b[0;34m.\u001b[0m\u001b[0mend\u001b[0m \u001b[0;34m<=\u001b[0m \u001b[0marrays\u001b[0m\u001b[0;34m[\u001b[0m\u001b[0mroireg\u001b[0m\u001b[0;34m.\u001b[0m\u001b[0mchrom\u001b[0m\u001b[0;34m]\u001b[0m\u001b[0;34m.\u001b[0m\u001b[0mshape\u001b[0m\u001b[0;34m[\u001b[0m\u001b[0;36m0\u001b[0m\u001b[0;34m]\u001b[0m\u001b[0;34m:\u001b[0m\u001b[0;34m\u001b[0m\u001b[0;34m\u001b[0m\u001b[0m\n",
      "\u001b[0;32m~/.local/lib/python3.7/site-packages/pybedtools/bedtool.py\u001b[0m in \u001b[0;36mdecorated\u001b[0;34m(self, *args, **kwargs)\u001b[0m\n\u001b[1;32m    921\u001b[0m             \u001b[0;31m# this calls the actual method in the first place; *result* is\u001b[0m\u001b[0;34m\u001b[0m\u001b[0;34m\u001b[0m\u001b[0;34m\u001b[0m\u001b[0m\n\u001b[1;32m    922\u001b[0m             \u001b[0;31m# whatever you get back\u001b[0m\u001b[0;34m\u001b[0m\u001b[0;34m\u001b[0m\u001b[0;34m\u001b[0m\u001b[0m\n\u001b[0;32m--> 923\u001b[0;31m             \u001b[0mresult\u001b[0m \u001b[0;34m=\u001b[0m \u001b[0mmethod\u001b[0m\u001b[0;34m(\u001b[0m\u001b[0mself\u001b[0m\u001b[0;34m,\u001b[0m \u001b[0;34m*\u001b[0m\u001b[0margs\u001b[0m\u001b[0;34m,\u001b[0m \u001b[0;34m**\u001b[0m\u001b[0mkwargs\u001b[0m\u001b[0;34m)\u001b[0m\u001b[0;34m\u001b[0m\u001b[0;34m\u001b[0m\u001b[0m\n\u001b[0m\u001b[1;32m    924\u001b[0m \u001b[0;34m\u001b[0m\u001b[0m\n\u001b[1;32m    925\u001b[0m             \u001b[0;31m# add appropriate tags\u001b[0m\u001b[0;34m\u001b[0m\u001b[0;34m\u001b[0m\u001b[0;34m\u001b[0m\u001b[0m\n",
      "\u001b[0;32m~/.local/lib/python3.7/site-packages/pybedtools/bedtool.py\u001b[0m in \u001b[0;36mnot_implemented_func\u001b[0;34m(*args, **kwargs)\u001b[0m\n\u001b[1;32m    242\u001b[0m \u001b[0;34m\u001b[0m\u001b[0m\n\u001b[1;32m    243\u001b[0m             \u001b[0;32mdef\u001b[0m \u001b[0mnot_implemented_func\u001b[0m\u001b[0;34m(\u001b[0m\u001b[0;34m*\u001b[0m\u001b[0margs\u001b[0m\u001b[0;34m,\u001b[0m \u001b[0;34m**\u001b[0m\u001b[0mkwargs\u001b[0m\u001b[0;34m)\u001b[0m\u001b[0;34m:\u001b[0m\u001b[0;34m\u001b[0m\u001b[0;34m\u001b[0m\u001b[0m\n\u001b[0;32m--> 244\u001b[0;31m                 \u001b[0;32mraise\u001b[0m \u001b[0mNotImplementedError\u001b[0m\u001b[0;34m(\u001b[0m\u001b[0mhelp_str\u001b[0m\u001b[0;34m)\u001b[0m\u001b[0;34m\u001b[0m\u001b[0;34m\u001b[0m\u001b[0m\n\u001b[0m\u001b[1;32m    245\u001b[0m \u001b[0;34m\u001b[0m\u001b[0m\n\u001b[1;32m    246\u001b[0m             \u001b[0;32mreturn\u001b[0m \u001b[0mnot_implemented_func\u001b[0m\u001b[0;34m\u001b[0m\u001b[0;34m\u001b[0m\u001b[0m\n",
      "\u001b[0;31mNotImplementedError\u001b[0m: \"intersectBed\" does not appear to be installed or on the path, so this method is disabled.  Please install a more recent version of BEDTools and re-import to use this method."
     ]
    }
   ],
   "source": [
    "# Set-up a simple function call to read to sdata\n",
    "sdata = eu.dl.read_bed(\n",
    "    bed_file=bed_file,\n",
    "    roi_file=roi_file,  \n",
    "    ref_file=refgenome,\n",
    "    binsize=200, \n",
    "    collapser=\"max\",\n",
    "    dnaflank=50,\n",
    "    add_seqs=True,\n",
    "    return_janggu=False\n",
    ")\n",
    "check_random1000_load(sdata, has_target=True)"
   ]
  },
  {
   "cell_type": "code",
   "execution_count": null,
   "id": "f459c429",
   "metadata": {},
   "outputs": [],
   "source": [
    "# Just a test of Janggu style return\n",
    "dna, cov = eu.dl.read_bed(\n",
    "    bed_file=bed_file,\n",
    "    roi_file=roi_file,  \n",
    "    ref_file=refgenome,\n",
    "    binsize=200, \n",
    "    collapser=\"max\",\n",
    "    dnaflank=50,\n",
    "    return_janggu=True\n",
    ")"
   ]
  },
  {
   "cell_type": "code",
   "execution_count": null,
   "id": "bdb26a90",
   "metadata": {},
   "outputs": [],
   "source": [
    "sdata = eu.dl.read_bam(\n",
    "    bam_file, \n",
    "    roi_file, \n",
    "    refgenome, \n",
    "    binsize=200, \n",
    "    resolution=25\n",
    ")"
   ]
  },
  {
   "cell_type": "code",
   "execution_count": null,
   "id": "d7766387",
   "metadata": {},
   "outputs": [],
   "source": [
    "sdata = eu.dl.read_bigwig(\n",
    "    bigwig_file=bw_file,\n",
    "    roi_file=roi_file,\n",
    "    ref_file=refgenome,\n",
    "    dnaflank=50,\n",
    "    binsize=200,\n",
    "    resolution=None,\n",
    "    collapser=\"max\"\n",
    ")"
   ]
  },
  {
   "cell_type": "markdown",
   "id": "80919654",
   "metadata": {},
   "source": [
    "# Dataloaders"
   ]
  },
  {
   "cell_type": "markdown",
   "id": "31675bb9",
   "metadata": {},
   "source": [
    "# Motif"
   ]
  },
  {
   "cell_type": "markdown",
   "id": "37d1c186",
   "metadata": {},
   "source": [
    "---"
   ]
  }
 ],
 "metadata": {
  "kernelspec": {
   "display_name": "Python 3.7.13 64-bit",
   "language": "python",
   "name": "python3"
  },
  "language_info": {
   "codemirror_mode": {
    "name": "ipython",
    "version": 3
   },
   "file_extension": ".py",
   "mimetype": "text/x-python",
   "name": "python",
   "nbconvert_exporter": "python",
   "pygments_lexer": "ipython3",
   "version": "3.7.13"
  },
  "vscode": {
   "interpreter": {
    "hash": "949777d72b0d2535278d3dc13498b2535136f6dfe0678499012e853ee9abcab1"
   }
  }
 },
 "nbformat": 4,
 "nbformat_minor": 5
}

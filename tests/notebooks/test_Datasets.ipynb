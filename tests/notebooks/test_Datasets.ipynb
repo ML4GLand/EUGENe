{
 "cells": [
  {
   "cell_type": "markdown",
   "id": "90a88efe-ebb3-424c-8704-fb4ee189af2c",
   "metadata": {},
   "source": [
    "# Testing `eugene.dataset` Module "
   ]
  },
  {
   "cell_type": "markdown",
   "id": "2d058003-a667-4b45-9ddc-e47efe48e0e1",
   "metadata": {
    "tags": []
   },
   "source": [
    "**Authorship:**\n",
    "Adam Klie, *06/23/2022*\n",
    "***\n",
    "**Description:**\n",
    "Notebook to test the `dataset` module of the `eugene` package\n",
    "***"
   ]
  },
  {
   "cell_type": "code",
   "execution_count": 1,
   "id": "3ebaff6f",
   "metadata": {
    "execution": {
     "iopub.execute_input": "2022-06-22T21:40:50.734456Z",
     "iopub.status.busy": "2022-06-22T21:40:50.734315Z",
     "iopub.status.idle": "2022-06-22T21:40:55.752826Z",
     "shell.execute_reply": "2022-06-22T21:40:55.752465Z",
     "shell.execute_reply.started": "2022-06-22T21:40:50.734412Z"
    },
    "tags": []
   },
   "outputs": [
    {
     "name": "stderr",
     "output_type": "stream",
     "text": [
      "Global seed set to 13\n",
      "Global seed set to 13\n",
      "Global seed set to 13\n"
     ]
    },
    {
     "data": {
      "text/plain": [
       "'0.0.0'"
      ]
     },
     "execution_count": 1,
     "metadata": {},
     "output_type": "execute_result"
    }
   ],
   "source": [
    "# Autoreload extension\n",
    "if 'autoreload' not in get_ipython().extension_manager.loaded:\n",
    "    %load_ext autoreload\n",
    "%autoreload 2\n",
    "\n",
    "# Basic import\n",
    "import eugene as eu\n",
    "eu.__version__"
   ]
  },
  {
   "cell_type": "code",
   "execution_count": 2,
   "id": "816f32fd",
   "metadata": {},
   "outputs": [],
   "source": [
    "#eu.utils.generate_random_data(num_seqs=1000, seq_len=66, out_dir=\"../_data/datasets/random1000\")"
   ]
  },
  {
   "cell_type": "markdown",
   "id": "615c8f51",
   "metadata": {},
   "source": [
    "# `get_dataset_info`"
   ]
  },
  {
   "cell_type": "code",
   "execution_count": 3,
   "id": "d39b5026",
   "metadata": {},
   "outputs": [
    {
     "data": {
      "text/html": [
       "<div>\n",
       "<style scoped>\n",
       "    .dataframe tbody tr th:only-of-type {\n",
       "        vertical-align: middle;\n",
       "    }\n",
       "\n",
       "    .dataframe tbody tr th {\n",
       "        vertical-align: top;\n",
       "    }\n",
       "\n",
       "    .dataframe thead th {\n",
       "        text-align: right;\n",
       "    }\n",
       "</style>\n",
       "<table border=\"1\" class=\"dataframe\">\n",
       "  <thead>\n",
       "    <tr style=\"text-align: right;\">\n",
       "      <th></th>\n",
       "      <th>n_seqs</th>\n",
       "      <th>url</th>\n",
       "      <th>description</th>\n",
       "    </tr>\n",
       "    <tr>\n",
       "      <th>name</th>\n",
       "      <th></th>\n",
       "      <th></th>\n",
       "      <th></th>\n",
       "    </tr>\n",
       "  </thead>\n",
       "  <tbody>\n",
       "    <tr>\n",
       "      <th>random1000</th>\n",
       "      <td>1000</td>\n",
       "      <td>NaN</td>\n",
       "      <td>A randomly generated set of 1000 sequences</td>\n",
       "    </tr>\n",
       "    <tr>\n",
       "      <th>ols</th>\n",
       "      <td>460800</td>\n",
       "      <td>TBD</td>\n",
       "      <td>This library is a collection of sequences from...</td>\n",
       "    </tr>\n",
       "    <tr>\n",
       "      <th>Khouiery</th>\n",
       "      <td>10</td>\n",
       "      <td>https://www.sciencedirect.com/science/article/...</td>\n",
       "      <td>This data comes from genomic sequences of Cion...</td>\n",
       "    </tr>\n",
       "  </tbody>\n",
       "</table>\n",
       "</div>"
      ],
      "text/plain": [
       "            n_seqs                                                url  \\\n",
       "name                                                                    \n",
       "random1000    1000                                                NaN   \n",
       "ols         460800                                                TBD   \n",
       "Khouiery        10  https://www.sciencedirect.com/science/article/...   \n",
       "\n",
       "                                                  description  \n",
       "name                                                           \n",
       "random1000         A randomly generated set of 1000 sequences  \n",
       "ols         This library is a collection of sequences from...  \n",
       "Khouiery    This data comes from genomic sequences of Cion...  "
      ]
     },
     "execution_count": 3,
     "metadata": {},
     "output_type": "execute_result"
    }
   ],
   "source": [
    "eu.datasets.get_dataset_info()"
   ]
  },
  {
   "cell_type": "code",
   "execution_count": 4,
   "id": "d1b9ef70",
   "metadata": {},
   "outputs": [
    {
     "name": "stdout",
     "output_type": "stream",
     "text": [
      "Kept 1000 sequences with targets, dropped 0 sequences with no targets\n"
     ]
    },
    {
     "data": {
      "text/plain": [
       "SeqData object with = 1000 seqs\n",
       "seqs = (1000,)\n",
       "names = (1000,)\n",
       "rev_seqs = None\n",
       "ohe_seqs = None\n",
       "ohe_rev_seqs = None\n",
       "seqs_annot: 'TARGETS'\n",
       "pos_annot: PyRanges object with 1400 features\n",
       "seqsm: None\n",
       "uns: None"
      ]
     },
     "execution_count": 4,
     "metadata": {},
     "output_type": "execute_result"
    }
   ],
   "source": [
    "eu.datasets.random1000()"
   ]
  },
  {
   "cell_type": "code",
   "execution_count": 11,
   "id": "4232e1f2",
   "metadata": {},
   "outputs": [
    {
     "name": "stdout",
     "output_type": "stream",
     "text": [
      "Kept 460775 sequences with targets, dropped 25 sequences with no targets\n"
     ]
    },
    {
     "data": {
      "text/plain": [
       "SeqData object with = 460775 seqs\n",
       "seqs = (460775,)\n",
       "names = (460775,)\n",
       "rev_seqs = None\n",
       "ohe_seqs = None\n",
       "ohe_rev_seqs = None\n",
       "seqs_annot: 'TARGETS'\n",
       "pos_annot: None"
      ]
     },
     "execution_count": 11,
     "metadata": {},
     "output_type": "execute_result"
    }
   ],
   "source": [
    "eu.datasets.ols()"
   ]
  },
  {
   "cell_type": "code",
   "execution_count": 12,
   "id": "cc68e1b9",
   "metadata": {},
   "outputs": [
    {
     "name": "stdout",
     "output_type": "stream",
     "text": [
      "Kept 20 sequences with targets, dropped 0 sequences with no targets\n"
     ]
    },
    {
     "data": {
      "text/plain": [
       "SeqData object with = 20 seqs\n",
       "seqs = (20,)\n",
       "names = (20,)\n",
       "rev_seqs = None\n",
       "ohe_seqs = None\n",
       "ohe_rev_seqs = None\n",
       "seqs_annot: 'TARGETS'\n",
       "pos_annot: None"
      ]
     },
     "execution_count": 12,
     "metadata": {},
     "output_type": "execute_result"
    }
   ],
   "source": [
    "eu.datasets.Khoueiry10()"
   ]
  },
  {
   "cell_type": "code",
   "execution_count": 3,
   "id": "ccda18ca",
   "metadata": {},
   "outputs": [
    {
     "name": "stdout",
     "output_type": "stream",
     "text": [
      "Dataset deBoer20 GSE104878_20160503_average_promoter_ELs_per_seq_atLeast100Counts.csv.gz has already been dowloaded.\n",
      "Kept 9982 sequences with targets, dropped 0 sequences with no targets\n"
     ]
    },
    {
     "data": {
      "text/plain": [
       "SeqData object with = 9982 seqs\n",
       "seqs = (9982,)\n",
       "names = (9982,)\n",
       "rev_seqs = (9982,)\n",
       "ohe_seqs = None\n",
       "ohe_rev_seqs = None\n",
       "seqs_annot: 'TARGETS'\n",
       "pos_annot: None"
      ]
     },
     "execution_count": 3,
     "metadata": {},
     "output_type": "execute_result"
    }
   ],
   "source": [
    "eu.datasets.deBoer20(0, rev_comp=True)"
   ]
  },
  {
   "cell_type": "markdown",
   "id": "7c911a6b",
   "metadata": {},
   "source": [
    "---"
   ]
  }
 ],
 "metadata": {
  "kernelspec": {
   "display_name": "Python 3.7.12 ('eugene')",
   "language": "python",
   "name": "python3"
  },
  "language_info": {
   "codemirror_mode": {
    "name": "ipython",
    "version": 3
   },
   "file_extension": ".py",
   "mimetype": "text/x-python",
   "name": "python",
   "nbconvert_exporter": "python",
   "pygments_lexer": "ipython3",
   "version": "3.7.12"
  },
  "vscode": {
   "interpreter": {
    "hash": "1330bbbf2c4cf53098ef1254540d5dd54a9d501f0408fea1c04a20872667b797"
   }
  }
 },
 "nbformat": 4,
 "nbformat_minor": 5
}

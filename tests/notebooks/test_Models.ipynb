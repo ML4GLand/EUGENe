{
 "cells": [
  {
   "cell_type": "markdown",
   "id": "661f6b58",
   "metadata": {},
   "source": [
    "# Testing `models` module"
   ]
  },
  {
   "cell_type": "markdown",
   "id": "fa64213c",
   "metadata": {
    "tags": []
   },
   "source": [
    "**Authorship:**\n",
    "Adam Klie, *03/19/2022*\n",
    "***\n",
    "**Description:**\n",
    "Notebook for testing out EUGENE architectures"
   ]
  },
  {
   "cell_type": "markdown",
   "id": "0cc2e158",
   "metadata": {},
   "source": [
    "<div class=\"alert alert-block alert-warning\">\n",
    "<b>TODOs</b>:\n",
    "<ul>\n",
    "    <b><li></li></b>\n",
    "    </ul>\n",
    "</div>"
   ]
  },
  {
   "cell_type": "markdown",
   "id": "a4759785",
   "metadata": {},
   "source": [
    "# Set-up"
   ]
  },
  {
   "cell_type": "code",
   "execution_count": 1,
   "id": "fdbc9d9e",
   "metadata": {
    "execution": {
     "iopub.execute_input": "2022-04-24T05:13:04.488011Z",
     "iopub.status.busy": "2022-04-24T05:13:04.487892Z",
     "iopub.status.idle": "2022-04-24T05:13:05.878267Z",
     "shell.execute_reply": "2022-04-24T05:13:05.877813Z",
     "shell.execute_reply.started": "2022-04-24T05:13:04.487995Z"
    },
    "tags": []
   },
   "outputs": [],
   "source": [
    "import numpy as np\n",
    "import pandas as pd\n",
    "import torch\n",
    "\n",
    "# Autoreload extension\n",
    "if 'autoreload' not in get_ipython().extension_manager.loaded:\n",
    "    %load_ext autoreload\n",
    "%autoreload 2"
   ]
  },
  {
   "cell_type": "code",
   "execution_count": 2,
   "id": "02492726",
   "metadata": {},
   "outputs": [
    {
     "name": "stderr",
     "output_type": "stream",
     "text": [
      "Global seed set to 13\n"
     ]
    }
   ],
   "source": [
    "import eugene as eu"
   ]
  },
  {
   "cell_type": "markdown",
   "id": "26c77403-2ab3-466d-b23c-76739b251fb3",
   "metadata": {
    "tags": []
   },
   "source": [
    "# Load data"
   ]
  },
  {
   "cell_type": "code",
   "execution_count": 3,
   "id": "8b7ba7c8-69b4-4935-bbfa-732a84ace076",
   "metadata": {
    "execution": {
     "iopub.execute_input": "2022-04-24T05:13:57.638797Z",
     "iopub.status.busy": "2022-04-24T05:13:57.638667Z",
     "iopub.status.idle": "2022-04-24T05:13:59.255265Z",
     "shell.execute_reply": "2022-04-24T05:13:59.254763Z",
     "shell.execute_reply.started": "2022-04-24T05:13:57.638781Z"
    },
    "tags": []
   },
   "outputs": [],
   "source": [
    "x = torch.randn(10, 4, 66)\n",
    "x_t = x.transpose(2, 1)\n",
    "x_rev = torch.randn(10, 4, 66)\n",
    "x_rev_t = x_rev.transpose(2, 1)"
   ]
  },
  {
   "cell_type": "markdown",
   "id": "e922973f-5e6c-42e9-81df-337f97c3518a",
   "metadata": {
    "tags": []
   },
   "source": [
    "# FCN Only"
   ]
  },
  {
   "cell_type": "code",
   "execution_count": 10,
   "id": "00a80ff3-c7a3-4639-98f2-15ea4f7d5bb8",
   "metadata": {
    "execution": {
     "iopub.execute_input": "2022-04-24T05:13:42.130728Z",
     "iopub.status.busy": "2022-04-24T05:13:42.130551Z",
     "iopub.status.idle": "2022-04-24T05:13:43.239769Z",
     "shell.execute_reply": "2022-04-24T05:13:43.239375Z",
     "shell.execute_reply.started": "2022-04-24T05:13:42.130711Z"
    },
    "tags": []
   },
   "outputs": [
    {
     "name": "stderr",
     "output_type": "stream",
     "text": [
      "/cellar/users/aklie/opt/miniconda3/envs/eugene/lib/python3.7/site-packages/torchmetrics/utilities/prints.py:36: UserWarning: Metric `AUROC` will save all targets and predictions in buffer. For large datasets this may lead to large memory footprint.\n",
      "  warnings.warn(*args, **kwargs)\n"
     ]
    },
    {
     "data": {
      "text/plain": [
       "FCN(\n",
       "  (fcn): BasicFullyConnectedModule(\n",
       "    (module): Sequential(\n",
       "      (0): Linear(in_features=264, out_features=100, bias=True)\n",
       "      (1): ReLU(inplace=True)\n",
       "      (2): Linear(in_features=100, out_features=1, bias=True)\n",
       "    )\n",
       "  )\n",
       "  (accuracy): Accuracy()\n",
       "  (auroc): AUROC()\n",
       ")"
      ]
     },
     "execution_count": 10,
     "metadata": {},
     "output_type": "execute_result"
    }
   ],
   "source": [
    "fcn = eu.models.FCN(input_len=66, \n",
    "          strand=\"ss\",\n",
    "          task=\"binary_classification\",\n",
    "          fc_kwargs=dict(hidden_dims=[100], output_dim=1))\n",
    "fcn"
   ]
  },
  {
   "cell_type": "code",
   "execution_count": 11,
   "id": "5af40b16-e803-4f80-9138-f22d57ded05a",
   "metadata": {
    "execution": {
     "iopub.execute_input": "2022-04-24T05:13:59.494509Z",
     "iopub.status.busy": "2022-04-24T05:13:59.494373Z",
     "iopub.status.idle": "2022-04-24T05:14:00.902655Z",
     "shell.execute_reply": "2022-04-24T05:14:00.902220Z",
     "shell.execute_reply.started": "2022-04-24T05:13:59.494490Z"
    },
    "tags": []
   },
   "outputs": [
    {
     "data": {
      "text/plain": [
       "(tensor([[ 0.1548],\n",
       "         [ 0.1647],\n",
       "         [ 0.1098],\n",
       "         [-0.0852],\n",
       "         [ 0.3124],\n",
       "         [ 0.0656],\n",
       "         [-0.2696],\n",
       "         [-0.1712],\n",
       "         [-0.1495],\n",
       "         [-0.1621]], grad_fn=<AddmmBackward0>),\n",
       " torch.Size([10, 1]))"
      ]
     },
     "execution_count": 11,
     "metadata": {},
     "output_type": "execute_result"
    }
   ],
   "source": [
    "out = fcn(x, x_rev)\n",
    "out, out.shape"
   ]
  },
  {
   "cell_type": "markdown",
   "id": "4529126c-6ec8-47af-9772-a19d7d0e9815",
   "metadata": {
    "tags": [],
    "toc-hr-collapsed": true
   },
   "source": [
    "# CNN Only"
   ]
  },
  {
   "cell_type": "code",
   "execution_count": 12,
   "id": "232f9a7d-8ff0-401d-87b7-651425fe314f",
   "metadata": {
    "execution": {
     "iopub.execute_input": "2022-04-23T23:39:37.387526Z",
     "iopub.status.busy": "2022-04-23T23:39:37.387358Z",
     "iopub.status.idle": "2022-04-23T23:39:38.741346Z",
     "shell.execute_reply": "2022-04-23T23:39:38.740914Z",
     "shell.execute_reply.started": "2022-04-23T23:39:37.387508Z"
    },
    "tags": []
   },
   "outputs": [
    {
     "name": "stderr",
     "output_type": "stream",
     "text": [
      "/cellar/users/aklie/opt/miniconda3/envs/eugene/lib/python3.7/site-packages/torchmetrics/utilities/prints.py:36: UserWarning: Metric `AUROC` will save all targets and predictions in buffer. For large datasets this may lead to large memory footprint.\n",
      "  warnings.warn(*args, **kwargs)\n"
     ]
    },
    {
     "data": {
      "text/plain": [
       "CNN(\n",
       "  (convnet): BasicConv1D(\n",
       "    (module): Sequential(\n",
       "      (0): Conv1d(4, 16, kernel_size=(15,), stride=(1,))\n",
       "      (1): ReLU(inplace=True)\n",
       "      (2): MaxPool1d(kernel_size=1, stride=1, padding=0, dilation=1, ceil_mode=False)\n",
       "      (3): Dropout(p=0.2, inplace=False)\n",
       "      (4): Conv1d(16, 32, kernel_size=(5,), stride=(1,))\n",
       "      (5): ReLU(inplace=True)\n",
       "      (6): MaxPool1d(kernel_size=1, stride=1, padding=0, dilation=1, ceil_mode=False)\n",
       "      (7): Dropout(p=0.2, inplace=False)\n",
       "    )\n",
       "  )\n",
       "  (fcnet): BasicFullyConnectedModule(\n",
       "    (module): Sequential(\n",
       "      (0): Linear(in_features=1536, out_features=1, bias=True)\n",
       "    )\n",
       "  )\n",
       "  (accuracy): Accuracy()\n",
       "  (auroc): AUROC()\n",
       ")"
      ]
     },
     "execution_count": 12,
     "metadata": {},
     "output_type": "execute_result"
    }
   ],
   "source": [
    "cnn = eu.models.CNN(input_len=66, \n",
    "          strand=\"ss\",\n",
    "          task=\"binary_classification\", \n",
    "          conv_kwargs=dict(channels=[4, 16, 32], conv_kernels=[15, 5, 5], pool_kernels=[1, 1], pool_strides = [1, 1], dropout_rates=0.2), \n",
    "          fc_kwargs=dict(output_dim=1))\n",
    "cnn"
   ]
  },
  {
   "cell_type": "code",
   "execution_count": 14,
   "id": "5cebaa2f-c055-4002-b548-eb7b729ed7a2",
   "metadata": {
    "execution": {
     "iopub.execute_input": "2022-04-23T19:52:22.743755Z",
     "iopub.status.busy": "2022-04-23T19:52:22.743642Z",
     "iopub.status.idle": "2022-04-23T19:52:24.152616Z",
     "shell.execute_reply": "2022-04-23T19:52:24.152314Z",
     "shell.execute_reply.started": "2022-04-23T19:52:22.743740Z"
    },
    "tags": []
   },
   "outputs": [
    {
     "data": {
      "text/plain": [
       "(tensor([[-0.0206],\n",
       "         [ 0.0497],\n",
       "         [ 0.0494],\n",
       "         [-0.0139],\n",
       "         [ 0.0993],\n",
       "         [ 0.0783],\n",
       "         [ 0.2109],\n",
       "         [ 0.0920],\n",
       "         [-0.0542],\n",
       "         [ 0.0899]], grad_fn=<AddmmBackward0>),\n",
       " torch.Size([10, 1]))"
      ]
     },
     "execution_count": 14,
     "metadata": {},
     "output_type": "execute_result"
    }
   ],
   "source": [
    "out = cnn(x, x_rev)\n",
    "out, out.shape"
   ]
  },
  {
   "cell_type": "markdown",
   "id": "02e88a1a-8889-48dc-8516-3474a37e670c",
   "metadata": {
    "tags": []
   },
   "source": [
    "# RNN Only"
   ]
  },
  {
   "cell_type": "code",
   "execution_count": 15,
   "id": "cc597a0a-c05a-41cf-8f0b-2c398aa31068",
   "metadata": {
    "execution": {
     "iopub.execute_input": "2022-04-23T23:46:54.905006Z",
     "iopub.status.busy": "2022-04-23T23:46:54.904774Z",
     "iopub.status.idle": "2022-04-23T23:46:55.928772Z",
     "shell.execute_reply": "2022-04-23T23:46:55.928352Z",
     "shell.execute_reply.started": "2022-04-23T23:46:54.904988Z"
    },
    "tags": []
   },
   "outputs": [
    {
     "data": {
      "text/plain": [
       "RNN(\n",
       "  (rnn): BasicRecurrent(\n",
       "    (module): LSTM(4, 32, batch_first=True, bidirectional=True)\n",
       "  )\n",
       "  (fcnet): BasicFullyConnectedModule(\n",
       "    (module): Sequential(\n",
       "      (0): Linear(in_features=64, out_features=1, bias=True)\n",
       "    )\n",
       "  )\n",
       "  (r_squared): R2Score()\n",
       ")"
      ]
     },
     "execution_count": 15,
     "metadata": {},
     "output_type": "execute_result"
    }
   ],
   "source": [
    "rnn = eu.models.RNN(input_len=66, \n",
    "          strand=\"ss\",\n",
    "          task=\"regression\",\n",
    "          rnn_kwargs=dict(output_dim=32, unit_type=\"lstm\", bidirectional=True, batch_first=True), \n",
    "          fc_kwargs=dict(output_dim=1))\n",
    "rnn"
   ]
  },
  {
   "cell_type": "code",
   "execution_count": 16,
   "id": "40f768a4-abfb-4554-b9cd-b6fc761ec5b6",
   "metadata": {
    "execution": {
     "iopub.execute_input": "2022-04-23T20:00:44.519061Z",
     "iopub.status.busy": "2022-04-23T20:00:44.518823Z",
     "iopub.status.idle": "2022-04-23T20:00:46.021229Z",
     "shell.execute_reply": "2022-04-23T20:00:46.020793Z",
     "shell.execute_reply.started": "2022-04-23T20:00:44.519035Z"
    },
    "tags": []
   },
   "outputs": [
    {
     "data": {
      "text/plain": [
       "(tensor([[ 0.0410],\n",
       "         [ 0.0373],\n",
       "         [-0.0069],\n",
       "         [ 0.0746],\n",
       "         [ 0.0769],\n",
       "         [ 0.0542],\n",
       "         [ 0.0185],\n",
       "         [ 0.0386],\n",
       "         [ 0.0927],\n",
       "         [ 0.1275]], grad_fn=<AddmmBackward0>),\n",
       " torch.Size([10, 1]))"
      ]
     },
     "execution_count": 16,
     "metadata": {},
     "output_type": "execute_result"
    }
   ],
   "source": [
    "out = rnn(x_t, x_rev_t)\n",
    "out, out.shape"
   ]
  },
  {
   "cell_type": "markdown",
   "id": "9a304bad-9890-46ac-a885-6c7684f59016",
   "metadata": {
    "tags": [],
    "toc-hr-collapsed": true
   },
   "source": [
    "# Hybrid CNN-RNN"
   ]
  },
  {
   "cell_type": "code",
   "execution_count": 17,
   "id": "001c1d68-f2e4-4474-a202-20c8a86667af",
   "metadata": {
    "execution": {
     "iopub.execute_input": "2022-04-23T20:23:48.335767Z",
     "iopub.status.busy": "2022-04-23T20:23:48.335617Z",
     "iopub.status.idle": "2022-04-23T20:23:49.759241Z",
     "shell.execute_reply": "2022-04-23T20:23:49.758878Z",
     "shell.execute_reply.started": "2022-04-23T20:23:48.335750Z"
    },
    "tags": []
   },
   "outputs": [
    {
     "name": "stderr",
     "output_type": "stream",
     "text": [
      "/cellar/users/aklie/opt/miniconda3/envs/eugene/lib/python3.7/site-packages/torchmetrics/utilities/prints.py:36: UserWarning: Metric `AUROC` will save all targets and predictions in buffer. For large datasets this may lead to large memory footprint.\n",
      "  warnings.warn(*args, **kwargs)\n"
     ]
    },
    {
     "data": {
      "text/plain": [
       "Hybrid(\n",
       "  (convnet): BasicConv1D(\n",
       "    (module): Sequential(\n",
       "      (0): Conv1d(4, 16, kernel_size=(15,), stride=(1,))\n",
       "      (1): ReLU(inplace=True)\n",
       "      (2): MaxPool1d(kernel_size=1, stride=1, padding=0, dilation=1, ceil_mode=False)\n",
       "      (3): Dropout(p=0.2, inplace=False)\n",
       "      (4): Conv1d(16, 32, kernel_size=(5,), stride=(1,))\n",
       "      (5): ReLU(inplace=True)\n",
       "      (6): MaxPool1d(kernel_size=1, stride=1, padding=0, dilation=1, ceil_mode=False)\n",
       "      (7): Dropout(p=0.2, inplace=False)\n",
       "    )\n",
       "  )\n",
       "  (reverse_convnet): BasicConv1D(\n",
       "    (module): Sequential(\n",
       "      (0): Conv1d(4, 16, kernel_size=(15,), stride=(1,))\n",
       "      (1): ReLU(inplace=True)\n",
       "      (2): MaxPool1d(kernel_size=1, stride=1, padding=0, dilation=1, ceil_mode=False)\n",
       "      (3): Dropout(p=0.2, inplace=False)\n",
       "      (4): Conv1d(16, 32, kernel_size=(5,), stride=(1,))\n",
       "      (5): ReLU(inplace=True)\n",
       "      (6): MaxPool1d(kernel_size=1, stride=1, padding=0, dilation=1, ceil_mode=False)\n",
       "      (7): Dropout(p=0.2, inplace=False)\n",
       "    )\n",
       "  )\n",
       "  (recurrentnet): BasicRecurrent(\n",
       "    (module): LSTM(64, 32, batch_first=True, bidirectional=True)\n",
       "  )\n",
       "  (fcnet): BasicFullyConnectedModule(\n",
       "    (module): Sequential(\n",
       "      (0): Linear(in_features=64, out_features=1, bias=True)\n",
       "    )\n",
       "  )\n",
       "  (accuracy): Accuracy()\n",
       "  (auroc): AUROC()\n",
       ")"
      ]
     },
     "execution_count": 17,
     "metadata": {},
     "output_type": "execute_result"
    }
   ],
   "source": [
    "cnn_rnn = eu.models.Hybrid(input_len=66, \n",
    "                 strand=\"ts\",\n",
    "                 task=\"binary_classification\", \n",
    "                 conv_kwargs=dict(channels=[4, 16, 32], conv_kernels=[15, 5], pool_kernels=[1, 1, 1], pool_strides = [1, 1], dropout_rates=0.2), \n",
    "                 rnn_kwargs=dict(output_dim=32, unit_type=\"lstm\", bidirectional=True, batch_first=True),  \n",
    "                 fc_kwargs=dict(output_dim=1))\n",
    "cnn_rnn"
   ]
  },
  {
   "cell_type": "code",
   "execution_count": 18,
   "id": "88ae63cd-845c-4176-9b97-9b6b3b8d1f5f",
   "metadata": {
    "execution": {
     "iopub.execute_input": "2022-04-23T20:23:49.759911Z",
     "iopub.status.busy": "2022-04-23T20:23:49.759800Z",
     "iopub.status.idle": "2022-04-23T20:23:51.228095Z",
     "shell.execute_reply": "2022-04-23T20:23:51.227796Z",
     "shell.execute_reply.started": "2022-04-23T20:23:49.759895Z"
    },
    "tags": []
   },
   "outputs": [
    {
     "data": {
      "text/plain": [
       "(tensor([[-0.0302],\n",
       "         [-0.0532],\n",
       "         [-0.0707],\n",
       "         [-0.0539],\n",
       "         [-0.0465],\n",
       "         [-0.0774],\n",
       "         [-0.0164],\n",
       "         [-0.0476],\n",
       "         [-0.0719],\n",
       "         [-0.0618]], grad_fn=<AddmmBackward0>),\n",
       " torch.Size([10, 1]))"
      ]
     },
     "execution_count": 18,
     "metadata": {},
     "output_type": "execute_result"
    }
   ],
   "source": [
    "out = cnn_rnn(x, x_rev)\n",
    "out, out.shape"
   ]
  },
  {
   "cell_type": "markdown",
   "id": "16b87e28",
   "metadata": {},
   "source": [
    "# DeepBind"
   ]
  },
  {
   "cell_type": "code",
   "execution_count": 20,
   "id": "33051237",
   "metadata": {},
   "outputs": [],
   "source": [
    "deepbind = eu.models.DeepBind(input_len=66)"
   ]
  },
  {
   "cell_type": "code",
   "execution_count": 21,
   "id": "afb15eb1",
   "metadata": {},
   "outputs": [
    {
     "data": {
      "text/plain": [
       "(tensor([[-0.0146],\n",
       "         [ 0.0010],\n",
       "         [ 0.0380],\n",
       "         [-0.0201],\n",
       "         [ 0.0266],\n",
       "         [-0.0139],\n",
       "         [ 0.0040],\n",
       "         [ 0.0325],\n",
       "         [-0.0869],\n",
       "         [ 0.0088]], grad_fn=<AddmmBackward0>),\n",
       " torch.Size([10, 1]))"
      ]
     },
     "execution_count": 21,
     "metadata": {},
     "output_type": "execute_result"
    }
   ],
   "source": [
    "# x_rev does not need to be specified in single strand mode\n",
    "out = deepbind(x)\n",
    "\n",
    "out, out.shape"
   ]
  },
  {
   "cell_type": "markdown",
   "id": "ce00b11b",
   "metadata": {},
   "source": [
    "# Load from config"
   ]
  },
  {
   "cell_type": "code",
   "execution_count": 47,
   "id": "38353b97",
   "metadata": {},
   "outputs": [
    {
     "data": {
      "text/plain": [
       "FCN(\n",
       "  (fcn): BasicFullyConnectedModule(\n",
       "    (module): Sequential(\n",
       "      (0): Linear(in_features=264, out_features=128, bias=True)\n",
       "      (1): ReLU(inplace=True)\n",
       "      (2): Linear(in_features=128, out_features=64, bias=True)\n",
       "      (3): ReLU(inplace=True)\n",
       "      (4): Linear(in_features=64, out_features=1, bias=True)\n",
       "    )\n",
       "  )\n",
       "  (r_squared): R2Score()\n",
       ")"
      ]
     },
     "execution_count": 47,
     "metadata": {},
     "output_type": "execute_result"
    }
   ],
   "source": [
    "model_config = \"../_configs/test_fcn.yaml\"\n",
    "eu.models.load_config(\"FCN\", model_config)"
   ]
  },
  {
   "cell_type": "code",
   "execution_count": 40,
   "id": "06b51ef2",
   "metadata": {},
   "outputs": [],
   "source": [
    "test_dict = {'input_len': 66, 'strand': 'ss', 'fc_kwargs': {'output_dim': 1, 'hidden_dims': [128, 66]}}"
   ]
  },
  {
   "cell_type": "code",
   "execution_count": 44,
   "id": "3b5bc13e",
   "metadata": {},
   "outputs": [],
   "source": [
    "out = \"../_configs/test_fcn.yaml\""
   ]
  },
  {
   "cell_type": "code",
   "execution_count": 42,
   "id": "673c1a7b",
   "metadata": {},
   "outputs": [
    {
     "data": {
      "text/plain": [
       "{'input_len': 66,\n",
       " 'strand': 'ss',\n",
       " 'fc_kwargs': {'output_dim': 1, 'hidden_dims': [128, 66]}}"
      ]
     },
     "execution_count": 42,
     "metadata": {},
     "output_type": "execute_result"
    }
   ],
   "source": [
    "test_dict"
   ]
  },
  {
   "cell_type": "code",
   "execution_count": 45,
   "id": "eceebd2a",
   "metadata": {},
   "outputs": [],
   "source": [
    "import yaml\n",
    "with open(out, 'w') as yaml_file:\n",
    "    yaml.dump(test_dict, yaml_file, sort_keys=False, default_flow_style=False)"
   ]
  },
  {
   "cell_type": "markdown",
   "id": "bcf5902a",
   "metadata": {},
   "source": [
    "---"
   ]
  },
  {
   "cell_type": "markdown",
   "id": "75046335-c815-4cd7-ae00-95e6e43e0379",
   "metadata": {
    "tags": [],
    "toc-hr-collapsed": true
   },
   "source": [
    "# Scratch"
   ]
  }
 ],
 "metadata": {
  "kernelspec": {
   "display_name": "Python 3.7.12 ('eugene')",
   "language": "python",
   "name": "python3"
  },
  "language_info": {
   "codemirror_mode": {
    "name": "ipython",
    "version": 3
   },
   "file_extension": ".py",
   "mimetype": "text/x-python",
   "name": "python",
   "nbconvert_exporter": "python",
   "pygments_lexer": "ipython3",
   "version": "3.7.12"
  },
  "vscode": {
   "interpreter": {
    "hash": "1330bbbf2c4cf53098ef1254540d5dd54a9d501f0408fea1c04a20872667b797"
   }
  }
 },
 "nbformat": 4,
 "nbformat_minor": 5
}

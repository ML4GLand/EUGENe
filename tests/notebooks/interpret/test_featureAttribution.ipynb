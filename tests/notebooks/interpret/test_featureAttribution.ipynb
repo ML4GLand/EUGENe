{
 "cells": [
  {
   "cell_type": "markdown",
   "id": "47cc2c48",
   "metadata": {},
   "source": [
    "# Testing `interpret` module"
   ]
  },
  {
   "cell_type": "markdown",
   "id": "3b1880c3",
   "metadata": {
    "tags": []
   },
   "source": [
    "**Authorship:**\n",
    "Adam Klie, *03/19/2022*\n",
    "***\n",
    "**Description:**\n",
    "Notebook for testing the `interpret` module of the `eugene` package."
   ]
  },
  {
   "cell_type": "code",
   "execution_count": 163,
   "id": "1dd9ef33",
   "metadata": {
    "execution": {
     "iopub.execute_input": "2022-05-04T17:01:08.512199Z",
     "iopub.status.busy": "2022-05-04T17:01:08.512010Z",
     "iopub.status.idle": "2022-05-04T17:01:10.027673Z",
     "shell.execute_reply": "2022-05-04T17:01:10.027193Z",
     "shell.execute_reply.started": "2022-05-04T17:01:08.512177Z"
    },
    "tags": []
   },
   "outputs": [],
   "source": [
    "import torch\n",
    "import numpy as np\n",
    "import pandas as pd\n",
    "from torch.utils.data import DataLoader\n",
    "\n",
    "# Autoreload extension\n",
    "if 'autoreload' not in get_ipython().extension_manager.loaded:\n",
    "    %load_ext autoreload\n",
    "%autoreload 2"
   ]
  },
  {
   "cell_type": "code",
   "execution_count": 164,
   "id": "395ab567",
   "metadata": {},
   "outputs": [],
   "source": [
    "import eugene as eu"
   ]
  },
  {
   "cell_type": "markdown",
   "id": "b446ff4c-3bc0-44a5-930b-3d30dcb17e76",
   "metadata": {
    "tags": []
   },
   "source": [
    "# Load data"
   ]
  },
  {
   "cell_type": "code",
   "execution_count": 165,
   "id": "fc0b3dcb-37dd-4ed9-a571-987219c44088",
   "metadata": {
    "execution": {
     "iopub.execute_input": "2022-05-04T17:01:16.222298Z",
     "iopub.status.busy": "2022-05-04T17:01:16.222171Z",
     "iopub.status.idle": "2022-05-04T17:01:17.868874Z",
     "shell.execute_reply": "2022-05-04T17:01:17.868477Z",
     "shell.execute_reply.started": "2022-05-04T17:01:16.222283Z"
    },
    "tags": []
   },
   "outputs": [
    {
     "data": {
      "application/vnd.jupyter.widget-view+json": {
       "model_id": "76ad8e9c7e784f9a89abd34124d6453d",
       "version_major": 2,
       "version_minor": 0
      },
      "text/plain": [
       "  0%|          | 0/3 [00:00<?, ?it/s]"
      ]
     },
     "metadata": {},
     "output_type": "display_data"
    },
    {
     "data": {
      "application/vnd.jupyter.widget-view+json": {
       "model_id": "caf2affdf65142a3bde8c560f948c96e",
       "version_major": 2,
       "version_minor": 0
      },
      "text/plain": [
       "One-hot encoding sequences:   0%|          | 0/1000 [00:00<?, ?it/s]"
      ]
     },
     "metadata": {},
     "output_type": "display_data"
    },
    {
     "name": "stdout",
     "output_type": "stream",
     "text": [
      "SeqData object modified:\n",
      "\tohe_seqs: None -> 1000 ohe_seqs added\n",
      "\tohe_rev_seqs: None -> 1000 ohe_rev_seqs added\n",
      "    seqs_annot:\n",
      "        + train_val\n"
     ]
    },
    {
     "data": {
      "text/plain": [
       "SeqData object with = 1000 seqs\n",
       "seqs = (1000,)\n",
       "names = (1000,)\n",
       "rev_seqs = None\n",
       "ohe_seqs = (1000, 4, 66)\n",
       "ohe_rev_seqs = (1000, 4, 66)\n",
       "seqs_annot: 'target', 'train_val'\n",
       "pos_annot: PyRanges object with 1400 features\n",
       "seqsm: None\n",
       "uns: None"
      ]
     },
     "execution_count": 165,
     "metadata": {},
     "output_type": "execute_result"
    }
   ],
   "source": [
    "sdata = eu.datasets.random1000()\n",
    "eu.pp.prepare_seqs_sdata(sdata)\n",
    "sdata"
   ]
  },
  {
   "cell_type": "code",
   "execution_count": 166,
   "id": "135551d2",
   "metadata": {},
   "outputs": [],
   "source": [
    "sdata[\"target_2\"] = sdata[\"target\"] + 1"
   ]
  },
  {
   "cell_type": "code",
   "execution_count": 167,
   "id": "8cad712a",
   "metadata": {},
   "outputs": [
    {
     "name": "stdout",
     "output_type": "stream",
     "text": [
      "No transforms given, assuming just need to tensorize.\n"
     ]
    }
   ],
   "source": [
    "sdataset = sdata.to_dataset(target_keys=[\"target\"])\n",
    "sdataloader = DataLoader(sdataset, batch_size=32, num_workers=0)"
   ]
  },
  {
   "cell_type": "code",
   "execution_count": 168,
   "id": "103e22c4",
   "metadata": {},
   "outputs": [
    {
     "name": "stdout",
     "output_type": "stream",
     "text": [
      "No transforms given, assuming just need to tensorize.\n"
     ]
    }
   ],
   "source": [
    "sdataset_mt = sdata.to_dataset(target_keys=[\"target\", \"target_2\"])\n",
    "sdataloader_mt = DataLoader(sdataset_mt, batch_size=32, num_workers=0)"
   ]
  },
  {
   "cell_type": "markdown",
   "id": "5279866a",
   "metadata": {
    "tags": []
   },
   "source": [
    "# Instantiate EUGENE architecture"
   ]
  },
  {
   "cell_type": "code",
   "execution_count": 287,
   "id": "81191c28-36aa-416a-a8d3-5190ce272b11",
   "metadata": {
    "execution": {
     "iopub.execute_input": "2022-05-06T18:26:42.681121Z",
     "iopub.status.busy": "2022-05-06T18:26:42.681014Z",
     "iopub.status.idle": "2022-05-06T18:26:44.268176Z",
     "shell.execute_reply": "2022-05-06T18:26:44.267654Z",
     "shell.execute_reply.started": "2022-05-06T18:26:42.681106Z"
    },
    "tags": []
   },
   "outputs": [],
   "source": [
    "CNN_KWARGS=dict(channels=[4, 16, 32], conv_kernels=[15, 5], pool_kernels=[1, 1])\n",
    "RNN_KWARGS=dict(output_dim=32, bidirectional=True, batch_first=True)\n",
    "FCN_KWARGS=dict(hidden_dims=[50])\n",
    "MODEL = \"hybrid\"\n",
    "STRAND = \"ss\"\n",
    "TASK = \"regression\""
   ]
  },
  {
   "cell_type": "code",
   "execution_count": 288,
   "id": "4a3a2ee4-f870-4adb-97a7-9e0916342908",
   "metadata": {
    "execution": {
     "iopub.execute_input": "2022-05-06T18:29:05.441088Z",
     "iopub.status.busy": "2022-05-06T18:29:05.440972Z",
     "iopub.status.idle": "2022-05-06T18:29:06.555265Z",
     "shell.execute_reply": "2022-05-06T18:29:06.554824Z",
     "shell.execute_reply.started": "2022-05-06T18:29:05.441072Z"
    },
    "tags": []
   },
   "outputs": [
    {
     "data": {
      "text/plain": [
       "Hybrid(\n",
       "  (hp_metric): R2Score()\n",
       "  (convnet): BasicConv1D(\n",
       "    (module): Sequential(\n",
       "      (0): Conv1d(4, 16, kernel_size=(15,), stride=(1,))\n",
       "      (1): ReLU()\n",
       "      (2): MaxPool1d(kernel_size=1, stride=1, padding=0, dilation=1, ceil_mode=False)\n",
       "      (3): Conv1d(16, 32, kernel_size=(5,), stride=(1,))\n",
       "      (4): ReLU()\n",
       "      (5): MaxPool1d(kernel_size=1, stride=1, padding=0, dilation=1, ceil_mode=False)\n",
       "    )\n",
       "  )\n",
       "  (recurrentnet): BasicRecurrent(\n",
       "    (module): LSTM(32, 32, batch_first=True, bidirectional=True)\n",
       "  )\n",
       "  (fcnet): BasicFullyConnectedModule(\n",
       "    (module): Sequential(\n",
       "      (0): Linear(in_features=64, out_features=50, bias=True)\n",
       "      (1): ReLU()\n",
       "      (2): Linear(in_features=50, out_features=1, bias=True)\n",
       "    )\n",
       "  )\n",
       ")"
      ]
     },
     "execution_count": 288,
     "metadata": {},
     "output_type": "execute_result"
    }
   ],
   "source": [
    "model = eu.models.Hybrid(input_len=66, output_dim=1, strand=STRAND, task=TASK, conv_kwargs=CNN_KWARGS, rnn_kwargs=RNN_KWARGS, fc_kwargs=FCN_KWARGS)\n",
    "eu.models.init_weights(model)\n",
    "model"
   ]
  },
  {
   "cell_type": "markdown",
   "id": "145b2bbd",
   "metadata": {},
   "source": [
    "# Feature attribtion "
   ]
  },
  {
   "cell_type": "code",
   "execution_count": 289,
   "id": "ed4b6f07",
   "metadata": {},
   "outputs": [
    {
     "data": {
      "text/plain": [
       "(torch.Size([32, 4, 66]), torch.Size([32, 4, 66]), torch.Size([32, 2]))"
      ]
     },
     "execution_count": 289,
     "metadata": {},
     "output_type": "execute_result"
    }
   ],
   "source": [
    "_, x, x_rev, y = next(iter(sdataloader_mt))\n",
    "x.shape, x_rev.shape, y.shape"
   ]
  },
  {
   "cell_type": "code",
   "execution_count": 228,
   "id": "70258cff",
   "metadata": {},
   "outputs": [],
   "source": [
    "from eugene.interpret._utils import _naive_ism"
   ]
  },
  {
   "cell_type": "code",
   "execution_count": 229,
   "id": "b704ea3b",
   "metadata": {},
   "outputs": [
    {
     "ename": "ValueError",
     "evalue": "Naive ISM currrently only works for single strand models",
     "output_type": "error",
     "traceback": [
      "\u001b[0;31m---------------------------------------------------------------------------\u001b[0m",
      "\u001b[0;31mValueError\u001b[0m                                Traceback (most recent call last)",
      "\u001b[0;32m/tmp/ipykernel_2946/3360385223.py\u001b[0m in \u001b[0;36m<module>\u001b[0;34m\u001b[0m\n\u001b[0;32m----> 1\u001b[0;31m \u001b[0mexplains\u001b[0m \u001b[0;34m=\u001b[0m \u001b[0meu\u001b[0m\u001b[0;34m.\u001b[0m\u001b[0minterpret\u001b[0m\u001b[0;34m.\u001b[0m\u001b[0mnn_explain\u001b[0m\u001b[0;34m(\u001b[0m\u001b[0mmodel\u001b[0m\u001b[0;34m,\u001b[0m \u001b[0mx\u001b[0m\u001b[0;34m,\u001b[0m \u001b[0msaliency_type\u001b[0m\u001b[0;34m=\u001b[0m\u001b[0;34m\"NaiveISM\"\u001b[0m\u001b[0;34m,\u001b[0m \u001b[0mscore_type\u001b[0m\u001b[0;34m=\u001b[0m\u001b[0;34m\"l2\"\u001b[0m\u001b[0;34m)\u001b[0m\u001b[0;34m\u001b[0m\u001b[0;34m\u001b[0m\u001b[0m\n\u001b[0m",
      "\u001b[0;32m/workspaces/EUGENe/eugene/interpret/_feature_attribution.py\u001b[0m in \u001b[0;36mnn_explain\u001b[0;34m(model, inputs, saliency_type, target, ref_type, device, batch_size, abs_value, **kwargs)\u001b[0m\n\u001b[1;32m    179\u001b[0m             \u001b[0mdevice\u001b[0m\u001b[0;34m=\u001b[0m\u001b[0mdevice\u001b[0m\u001b[0;34m,\u001b[0m\u001b[0;34m\u001b[0m\u001b[0;34m\u001b[0m\u001b[0m\n\u001b[1;32m    180\u001b[0m             \u001b[0mbatch_size\u001b[0m\u001b[0;34m=\u001b[0m\u001b[0mbatch_size\u001b[0m\u001b[0;34m,\u001b[0m\u001b[0;34m\u001b[0m\u001b[0;34m\u001b[0m\u001b[0m\n\u001b[0;32m--> 181\u001b[0;31m             \u001b[0;34m**\u001b[0m\u001b[0mkwargs\u001b[0m\u001b[0;34m\u001b[0m\u001b[0;34m\u001b[0m\u001b[0m\n\u001b[0m\u001b[1;32m    182\u001b[0m         )\n\u001b[1;32m    183\u001b[0m     \u001b[0;32melif\u001b[0m \u001b[0msaliency_type\u001b[0m \u001b[0;34m==\u001b[0m \u001b[0;34m\"GradientSHAP\"\u001b[0m\u001b[0;34m:\u001b[0m\u001b[0;34m\u001b[0m\u001b[0;34m\u001b[0m\u001b[0m\n",
      "\u001b[0;32m/workspaces/EUGENe/eugene/interpret/_feature_attribution.py\u001b[0m in \u001b[0;36m_ism_explain\u001b[0;34m(model, inputs, ism_type, score_type, device, batch_size)\u001b[0m\n\u001b[1;32m     26\u001b[0m     \u001b[0;32mif\u001b[0m \u001b[0mism_type\u001b[0m \u001b[0;34m==\u001b[0m \u001b[0;34m\"naive\"\u001b[0m\u001b[0;34m:\u001b[0m\u001b[0;34m\u001b[0m\u001b[0;34m\u001b[0m\u001b[0m\n\u001b[1;32m     27\u001b[0m         \u001b[0;32mif\u001b[0m \u001b[0mmodel\u001b[0m\u001b[0;34m.\u001b[0m\u001b[0mstrand\u001b[0m \u001b[0;34m!=\u001b[0m \u001b[0;34m\"ss\"\u001b[0m\u001b[0;34m:\u001b[0m\u001b[0;34m\u001b[0m\u001b[0;34m\u001b[0m\u001b[0m\n\u001b[0;32m---> 28\u001b[0;31m             \u001b[0;32mraise\u001b[0m \u001b[0mValueError\u001b[0m\u001b[0;34m(\u001b[0m\u001b[0;34m\"Naive ISM currrently only works for single strand models\"\u001b[0m\u001b[0;34m)\u001b[0m\u001b[0;34m\u001b[0m\u001b[0;34m\u001b[0m\u001b[0m\n\u001b[0m\u001b[1;32m     29\u001b[0m         \u001b[0mattrs\u001b[0m \u001b[0;34m=\u001b[0m \u001b[0m_naive_ism\u001b[0m\u001b[0;34m(\u001b[0m\u001b[0mmodel\u001b[0m\u001b[0;34m=\u001b[0m\u001b[0mmodel\u001b[0m\u001b[0;34m,\u001b[0m \u001b[0mX_0\u001b[0m\u001b[0;34m=\u001b[0m\u001b[0minputs\u001b[0m\u001b[0;34m,\u001b[0m \u001b[0mtype\u001b[0m\u001b[0;34m=\u001b[0m\u001b[0mscore_type\u001b[0m\u001b[0;34m,\u001b[0m \u001b[0mdevice\u001b[0m\u001b[0;34m=\u001b[0m\u001b[0mdevice\u001b[0m\u001b[0;34m,\u001b[0m \u001b[0mbatch_size\u001b[0m\u001b[0;34m=\u001b[0m\u001b[0mbatch_size\u001b[0m\u001b[0;34m)\u001b[0m\u001b[0;34m\u001b[0m\u001b[0;34m\u001b[0m\u001b[0m\n\u001b[1;32m     30\u001b[0m     \u001b[0;32melse\u001b[0m\u001b[0;34m:\u001b[0m\u001b[0;34m\u001b[0m\u001b[0;34m\u001b[0m\u001b[0m\n",
      "\u001b[0;31mValueError\u001b[0m: Naive ISM currrently only works for single strand models"
     ]
    }
   ],
   "source": [
    "explains = eu.interpret.nn_explain(model, x, saliency_type=\"NaiveISM\", score_type=\"l2\")"
   ]
  },
  {
   "cell_type": "code",
   "execution_count": 230,
   "id": "0a868294",
   "metadata": {},
   "outputs": [],
   "source": [
    "explains = eu.interpret.nn_explain(model, (x, x_rev), target=0, saliency_type=\"InputXGradient\")"
   ]
  },
  {
   "cell_type": "code",
   "execution_count": 233,
   "id": "43cf7791",
   "metadata": {},
   "outputs": [
    {
     "name": "stderr",
     "output_type": "stream",
     "text": [
      "/home/vscode/.local/lib/python3.7/site-packages/captum/attr/_core/deep_lift.py:339: UserWarning: Setting forward, backward hooks and attributes on non-linear\n",
      "               activations. The hooks and attributes will be removed\n",
      "            after the attribution is finished\n",
      "  after the attribution is finished\"\"\"\n",
      "/home/vscode/.local/lib/python3.7/site-packages/captum/attr/_core/deep_lift.py:471: UserWarning: An invalid module MaxPool1d(kernel_size=1, stride=1, padding=0, dilation=1, ceil_mode=False) is detected. Saved gradients will\n",
      "                be used as the gradients of the module's input tensor.\n",
      "                See MaxPool1d as an example.\n",
      "  module\n",
      "/home/vscode/.local/lib/python3.7/site-packages/torch/nn/functional.py:651: UserWarning: Note that order of the arguments: ceil_mode and return_indices will changeto match the args list in nn.MaxPool1d in a future release.\n",
      "  warnings.warn(\"Note that order of the arguments: ceil_mode and return_indices will change\"\n"
     ]
    }
   ],
   "source": [
    "explains = eu.interpret.nn_explain(model, (x, x_rev), target=0, ref_type=\"zero\", saliency_type=\"DeepLift\")"
   ]
  },
  {
   "cell_type": "code",
   "execution_count": 234,
   "id": "c7f01da8",
   "metadata": {},
   "outputs": [],
   "source": [
    "explains = eu.interpret.nn_explain(model, (x, x_rev), target=1, ref_type=\"gc\", saliency_type=\"DeepLift\")"
   ]
  },
  {
   "cell_type": "code",
   "execution_count": 235,
   "id": "5d79c634",
   "metadata": {},
   "outputs": [],
   "source": [
    "explains = eu.interpret.nn_explain(model, (x, x_rev), target=0, ref_type=\"shuffle\", saliency_type=\"DeepLift\")"
   ]
  },
  {
   "cell_type": "code",
   "execution_count": 236,
   "id": "c312c1f4",
   "metadata": {},
   "outputs": [],
   "source": [
    "explains = eu.interpret.nn_explain(model, (x, x_rev), target=0, ref_type=\"zero\", saliency_type=\"GradientSHAP\")"
   ]
  },
  {
   "cell_type": "code",
   "execution_count": 237,
   "id": "b1c7bd7b",
   "metadata": {},
   "outputs": [],
   "source": [
    "explains = eu.interpret.nn_explain(model, (x, x_rev), target=0, ref_type=\"shuffle\", saliency_type=\"GradientSHAP\")"
   ]
  },
  {
   "cell_type": "code",
   "execution_count": 238,
   "id": "9381b21d",
   "metadata": {},
   "outputs": [],
   "source": [
    "explains = eu.interpret.nn_explain(model, (x, x_rev), target=0, ref_type=\"gc\", saliency_type=\"GradientSHAP\")"
   ]
  },
  {
   "cell_type": "code",
   "execution_count": 241,
   "id": "6fbd7b56",
   "metadata": {},
   "outputs": [
    {
     "name": "stdout",
     "output_type": "stream",
     "text": [
      "No transforms given, assuming just need to tensorize.\n"
     ]
    },
    {
     "data": {
      "application/vnd.jupyter.widget-view+json": {
       "model_id": "aa929d84527145c8a15e2deaae5a5e23",
       "version_major": 2,
       "version_minor": 0
      },
      "text/plain": [
       "Computing saliency on batches of size 128:   0%|          | 0/7 [00:00<?, ?it/s]"
      ]
     },
     "metadata": {},
     "output_type": "display_data"
    },
    {
     "name": "stdout",
     "output_type": "stream",
     "text": [
      "No transforms given, assuming just need to tensorize.\n"
     ]
    },
    {
     "data": {
      "application/vnd.jupyter.widget-view+json": {
       "model_id": "14bc5a1a2071432c930b9514002fc8fe",
       "version_major": 2,
       "version_minor": 0
      },
      "text/plain": [
       "Computing saliency on batches of size 128:   0%|          | 0/7 [00:00<?, ?it/s]"
      ]
     },
     "metadata": {},
     "output_type": "display_data"
    },
    {
     "name": "stdout",
     "output_type": "stream",
     "text": [
      "No transforms given, assuming just need to tensorize.\n"
     ]
    },
    {
     "data": {
      "application/vnd.jupyter.widget-view+json": {
       "model_id": "69fb620b3f764da4be43fc2273a97c97",
       "version_major": 2,
       "version_minor": 0
      },
      "text/plain": [
       "Computing saliency on batches of size 128:   0%|          | 0/7 [00:00<?, ?it/s]"
      ]
     },
     "metadata": {},
     "output_type": "display_data"
    }
   ],
   "source": [
    "eu.interpret.feature_attribution_sdata(model, sdata, target=0)\n",
    "#eu.interpret.feature_attribution(eugene, sdata, saliency_method=\"NaiveISM\")\n",
    "eu.interpret.feature_attribution_sdata(model, sdata, target=1, reference_type=\"gc\", saliency_method=\"DeepLift\")\n",
    "eu.interpret.feature_attribution_sdata(model, sdata, target=1, reference_type=\"shuffle\", saliency_method=\"GradientSHAP\")"
   ]
  },
  {
   "cell_type": "code",
   "execution_count": 245,
   "id": "d8479822",
   "metadata": {},
   "outputs": [],
   "source": [
    "import shap"
   ]
  },
  {
   "cell_type": "code",
   "execution_count": 251,
   "id": "e95f70f3",
   "metadata": {},
   "outputs": [
    {
     "data": {
      "text/plain": [
       "torch.Size([4, 66])"
      ]
     },
     "execution_count": 251,
     "metadata": {},
     "output_type": "execute_result"
    }
   ],
   "source": [
    "x[0].shape"
   ]
  },
  {
   "cell_type": "code",
   "execution_count": null,
   "id": "abd2cd69",
   "metadata": {},
   "outputs": [],
   "source": []
  },
  {
   "cell_type": "code",
   "execution_count": 253,
   "id": "5520db2f",
   "metadata": {},
   "outputs": [],
   "source": [
    "rn=np.random.choice(sdata.ohe_seqs.shape[0], 500, replace=False)"
   ]
  },
  {
   "cell_type": "code",
   "execution_count": 268,
   "id": "bbb1fbdb",
   "metadata": {},
   "outputs": [
    {
     "data": {
      "text/plain": [
       "tensor([[-0.0863, -0.1243],\n",
       "        [-0.0859, -0.1225],\n",
       "        [-0.0796, -0.1198],\n",
       "        [-0.0829, -0.1183],\n",
       "        [-0.0902, -0.1211],\n",
       "        [-0.0874, -0.1207],\n",
       "        [-0.0904, -0.1213],\n",
       "        [-0.0834, -0.1193],\n",
       "        [-0.0861, -0.1172],\n",
       "        [-0.0916, -0.1254],\n",
       "        [-0.0854, -0.1256],\n",
       "        [-0.0876, -0.1245],\n",
       "        [-0.0860, -0.1217],\n",
       "        [-0.0838, -0.1210],\n",
       "        [-0.0905, -0.1219],\n",
       "        [-0.0872, -0.1225],\n",
       "        [-0.0858, -0.1264],\n",
       "        [-0.0846, -0.1206],\n",
       "        [-0.0833, -0.1243],\n",
       "        [-0.0837, -0.1250],\n",
       "        [-0.0857, -0.1194],\n",
       "        [-0.0876, -0.1208],\n",
       "        [-0.0822, -0.1215],\n",
       "        [-0.0853, -0.1247],\n",
       "        [-0.0918, -0.1208],\n",
       "        [-0.0802, -0.1231],\n",
       "        [-0.0851, -0.1234],\n",
       "        [-0.0836, -0.1179],\n",
       "        [-0.0844, -0.1172],\n",
       "        [-0.0896, -0.1339],\n",
       "        [-0.0807, -0.1219],\n",
       "        [-0.0849, -0.1251],\n",
       "        [-0.0908, -0.1260],\n",
       "        [-0.0849, -0.1203],\n",
       "        [-0.0782, -0.1189],\n",
       "        [-0.0844, -0.1233],\n",
       "        [-0.0844, -0.1206],\n",
       "        [-0.0886, -0.1242],\n",
       "        [-0.0902, -0.1183],\n",
       "        [-0.0853, -0.1235],\n",
       "        [-0.0847, -0.1227],\n",
       "        [-0.0821, -0.1252],\n",
       "        [-0.0932, -0.1225],\n",
       "        [-0.0875, -0.1239],\n",
       "        [-0.0824, -0.1218],\n",
       "        [-0.0903, -0.1233],\n",
       "        [-0.0829, -0.1251],\n",
       "        [-0.0925, -0.1302],\n",
       "        [-0.0827, -0.1247],\n",
       "        [-0.0866, -0.1199],\n",
       "        [-0.0916, -0.1244],\n",
       "        [-0.0841, -0.1274],\n",
       "        [-0.0831, -0.1225],\n",
       "        [-0.0816, -0.1238],\n",
       "        [-0.0844, -0.1228],\n",
       "        [-0.0878, -0.1243],\n",
       "        [-0.0826, -0.1215],\n",
       "        [-0.0845, -0.1233],\n",
       "        [-0.0852, -0.1220],\n",
       "        [-0.0891, -0.1234],\n",
       "        [-0.0876, -0.1205],\n",
       "        [-0.0848, -0.1175],\n",
       "        [-0.0842, -0.1196],\n",
       "        [-0.0873, -0.1248],\n",
       "        [-0.0878, -0.1247],\n",
       "        [-0.0863, -0.1273],\n",
       "        [-0.0861, -0.1207],\n",
       "        [-0.0867, -0.1245],\n",
       "        [-0.0880, -0.1303],\n",
       "        [-0.0886, -0.1222],\n",
       "        [-0.0869, -0.1220],\n",
       "        [-0.0832, -0.1247],\n",
       "        [-0.0853, -0.1254],\n",
       "        [-0.0843, -0.1173],\n",
       "        [-0.0868, -0.1161],\n",
       "        [-0.0865, -0.1212],\n",
       "        [-0.0893, -0.1185],\n",
       "        [-0.0895, -0.1227],\n",
       "        [-0.0874, -0.1190],\n",
       "        [-0.0837, -0.1251],\n",
       "        [-0.0901, -0.1236],\n",
       "        [-0.0856, -0.1228],\n",
       "        [-0.0880, -0.1236],\n",
       "        [-0.0852, -0.1216],\n",
       "        [-0.0820, -0.1236],\n",
       "        [-0.0843, -0.1215],\n",
       "        [-0.0871, -0.1234],\n",
       "        [-0.0875, -0.1181],\n",
       "        [-0.0863, -0.1265],\n",
       "        [-0.0832, -0.1251],\n",
       "        [-0.0838, -0.1196],\n",
       "        [-0.0879, -0.1254],\n",
       "        [-0.0890, -0.1200],\n",
       "        [-0.0889, -0.1235],\n",
       "        [-0.0856, -0.1206],\n",
       "        [-0.0850, -0.1221],\n",
       "        [-0.0867, -0.1226],\n",
       "        [-0.0901, -0.1193],\n",
       "        [-0.0853, -0.1211],\n",
       "        [-0.0878, -0.1225],\n",
       "        [-0.0821, -0.1219],\n",
       "        [-0.0856, -0.1214],\n",
       "        [-0.0882, -0.1281],\n",
       "        [-0.0889, -0.1231],\n",
       "        [-0.0845, -0.1259],\n",
       "        [-0.0912, -0.1249],\n",
       "        [-0.0851, -0.1186],\n",
       "        [-0.0883, -0.1172],\n",
       "        [-0.0913, -0.1269],\n",
       "        [-0.0872, -0.1246],\n",
       "        [-0.0867, -0.1254],\n",
       "        [-0.0867, -0.1243],\n",
       "        [-0.0870, -0.1269],\n",
       "        [-0.0894, -0.1272],\n",
       "        [-0.0833, -0.1259],\n",
       "        [-0.0831, -0.1246],\n",
       "        [-0.0815, -0.1188],\n",
       "        [-0.0867, -0.1242],\n",
       "        [-0.0901, -0.1241],\n",
       "        [-0.0829, -0.1210],\n",
       "        [-0.0861, -0.1201],\n",
       "        [-0.0831, -0.1174],\n",
       "        [-0.0860, -0.1237],\n",
       "        [-0.0831, -0.1234],\n",
       "        [-0.0871, -0.1270],\n",
       "        [-0.0874, -0.1264],\n",
       "        [-0.0873, -0.1244],\n",
       "        [-0.0814, -0.1215],\n",
       "        [-0.0829, -0.1236],\n",
       "        [-0.0898, -0.1210],\n",
       "        [-0.0836, -0.1212],\n",
       "        [-0.0845, -0.1221],\n",
       "        [-0.0861, -0.1268],\n",
       "        [-0.0849, -0.1214],\n",
       "        [-0.0876, -0.1222],\n",
       "        [-0.0863, -0.1220],\n",
       "        [-0.0845, -0.1140],\n",
       "        [-0.0812, -0.1193],\n",
       "        [-0.0807, -0.1249],\n",
       "        [-0.0894, -0.1256],\n",
       "        [-0.0847, -0.1227],\n",
       "        [-0.0872, -0.1227],\n",
       "        [-0.0846, -0.1161],\n",
       "        [-0.0868, -0.1252],\n",
       "        [-0.0835, -0.1234],\n",
       "        [-0.0889, -0.1203],\n",
       "        [-0.0864, -0.1259],\n",
       "        [-0.0832, -0.1248],\n",
       "        [-0.0882, -0.1202],\n",
       "        [-0.0871, -0.1199],\n",
       "        [-0.0878, -0.1239],\n",
       "        [-0.0859, -0.1187],\n",
       "        [-0.0857, -0.1258],\n",
       "        [-0.0874, -0.1229],\n",
       "        [-0.0893, -0.1265],\n",
       "        [-0.0895, -0.1257],\n",
       "        [-0.0820, -0.1229],\n",
       "        [-0.0871, -0.1219],\n",
       "        [-0.0867, -0.1257],\n",
       "        [-0.0869, -0.1212],\n",
       "        [-0.0879, -0.1231],\n",
       "        [-0.0831, -0.1216],\n",
       "        [-0.0861, -0.1233],\n",
       "        [-0.0865, -0.1218],\n",
       "        [-0.0847, -0.1219],\n",
       "        [-0.0890, -0.1222],\n",
       "        [-0.0829, -0.1225],\n",
       "        [-0.0877, -0.1241],\n",
       "        [-0.0851, -0.1220],\n",
       "        [-0.0814, -0.1229],\n",
       "        [-0.0790, -0.1244],\n",
       "        [-0.0898, -0.1248],\n",
       "        [-0.0883, -0.1184],\n",
       "        [-0.0838, -0.1204],\n",
       "        [-0.0830, -0.1211],\n",
       "        [-0.0888, -0.1212],\n",
       "        [-0.0827, -0.1193],\n",
       "        [-0.0895, -0.1216],\n",
       "        [-0.0846, -0.1270],\n",
       "        [-0.0846, -0.1177],\n",
       "        [-0.0790, -0.1238],\n",
       "        [-0.0848, -0.1186],\n",
       "        [-0.0854, -0.1191],\n",
       "        [-0.0823, -0.1226],\n",
       "        [-0.0863, -0.1186],\n",
       "        [-0.0873, -0.1282],\n",
       "        [-0.0823, -0.1244],\n",
       "        [-0.0887, -0.1232],\n",
       "        [-0.0882, -0.1265],\n",
       "        [-0.0845, -0.1206],\n",
       "        [-0.0861, -0.1216],\n",
       "        [-0.0817, -0.1205],\n",
       "        [-0.0899, -0.1296],\n",
       "        [-0.0885, -0.1167],\n",
       "        [-0.0881, -0.1231],\n",
       "        [-0.0849, -0.1197],\n",
       "        [-0.0888, -0.1275],\n",
       "        [-0.0892, -0.1243],\n",
       "        [-0.0896, -0.1218],\n",
       "        [-0.0865, -0.1234],\n",
       "        [-0.0857, -0.1206],\n",
       "        [-0.0857, -0.1247],\n",
       "        [-0.0910, -0.1219],\n",
       "        [-0.0856, -0.1197],\n",
       "        [-0.0913, -0.1212],\n",
       "        [-0.0871, -0.1226],\n",
       "        [-0.0923, -0.1283],\n",
       "        [-0.0887, -0.1248],\n",
       "        [-0.0865, -0.1239],\n",
       "        [-0.0853, -0.1225],\n",
       "        [-0.0810, -0.1201],\n",
       "        [-0.0846, -0.1205],\n",
       "        [-0.0844, -0.1229],\n",
       "        [-0.0888, -0.1255],\n",
       "        [-0.0891, -0.1263],\n",
       "        [-0.0850, -0.1232],\n",
       "        [-0.0833, -0.1218],\n",
       "        [-0.0848, -0.1191],\n",
       "        [-0.0815, -0.1222],\n",
       "        [-0.0860, -0.1210],\n",
       "        [-0.0843, -0.1211],\n",
       "        [-0.0856, -0.1200],\n",
       "        [-0.0871, -0.1191],\n",
       "        [-0.0883, -0.1232],\n",
       "        [-0.0837, -0.1218],\n",
       "        [-0.0907, -0.1211],\n",
       "        [-0.0844, -0.1213],\n",
       "        [-0.0870, -0.1218],\n",
       "        [-0.0864, -0.1221],\n",
       "        [-0.0832, -0.1211],\n",
       "        [-0.0831, -0.1203],\n",
       "        [-0.0834, -0.1234],\n",
       "        [-0.0870, -0.1250],\n",
       "        [-0.0852, -0.1275],\n",
       "        [-0.0840, -0.1228],\n",
       "        [-0.0880, -0.1254],\n",
       "        [-0.0842, -0.1223],\n",
       "        [-0.0839, -0.1191],\n",
       "        [-0.0901, -0.1260],\n",
       "        [-0.0846, -0.1198],\n",
       "        [-0.0845, -0.1259],\n",
       "        [-0.0881, -0.1229],\n",
       "        [-0.0851, -0.1210],\n",
       "        [-0.0846, -0.1200],\n",
       "        [-0.0837, -0.1247],\n",
       "        [-0.0874, -0.1238],\n",
       "        [-0.0874, -0.1273],\n",
       "        [-0.0883, -0.1221],\n",
       "        [-0.0826, -0.1251],\n",
       "        [-0.0823, -0.1256],\n",
       "        [-0.0853, -0.1274],\n",
       "        [-0.0877, -0.1267],\n",
       "        [-0.0796, -0.1225],\n",
       "        [-0.0891, -0.1260],\n",
       "        [-0.0919, -0.1182],\n",
       "        [-0.0825, -0.1220],\n",
       "        [-0.0853, -0.1210],\n",
       "        [-0.0868, -0.1248],\n",
       "        [-0.0861, -0.1246],\n",
       "        [-0.0857, -0.1212],\n",
       "        [-0.0807, -0.1223],\n",
       "        [-0.0840, -0.1213],\n",
       "        [-0.0834, -0.1292],\n",
       "        [-0.0853, -0.1238],\n",
       "        [-0.0815, -0.1238],\n",
       "        [-0.0854, -0.1273],\n",
       "        [-0.0850, -0.1209],\n",
       "        [-0.0861, -0.1266],\n",
       "        [-0.0838, -0.1203],\n",
       "        [-0.0848, -0.1224],\n",
       "        [-0.0876, -0.1227],\n",
       "        [-0.0886, -0.1244],\n",
       "        [-0.0888, -0.1228],\n",
       "        [-0.0805, -0.1231],\n",
       "        [-0.0843, -0.1205],\n",
       "        [-0.0867, -0.1255],\n",
       "        [-0.0857, -0.1235],\n",
       "        [-0.0863, -0.1190],\n",
       "        [-0.0843, -0.1240],\n",
       "        [-0.0840, -0.1203],\n",
       "        [-0.0919, -0.1247],\n",
       "        [-0.0818, -0.1242],\n",
       "        [-0.0866, -0.1283],\n",
       "        [-0.0858, -0.1258],\n",
       "        [-0.0883, -0.1193],\n",
       "        [-0.0897, -0.1266],\n",
       "        [-0.0841, -0.1275],\n",
       "        [-0.0841, -0.1232],\n",
       "        [-0.0864, -0.1237],\n",
       "        [-0.0825, -0.1234],\n",
       "        [-0.0855, -0.1186],\n",
       "        [-0.0892, -0.1260],\n",
       "        [-0.0846, -0.1274],\n",
       "        [-0.0891, -0.1266],\n",
       "        [-0.0823, -0.1261],\n",
       "        [-0.0858, -0.1172],\n",
       "        [-0.0854, -0.1262],\n",
       "        [-0.0805, -0.1232],\n",
       "        [-0.0905, -0.1184],\n",
       "        [-0.0804, -0.1230],\n",
       "        [-0.0883, -0.1200],\n",
       "        [-0.0839, -0.1241],\n",
       "        [-0.0873, -0.1180],\n",
       "        [-0.0852, -0.1254],\n",
       "        [-0.0884, -0.1237],\n",
       "        [-0.0836, -0.1205],\n",
       "        [-0.0835, -0.1253],\n",
       "        [-0.0806, -0.1199],\n",
       "        [-0.0905, -0.1227],\n",
       "        [-0.0872, -0.1247],\n",
       "        [-0.0861, -0.1231],\n",
       "        [-0.0864, -0.1236],\n",
       "        [-0.0853, -0.1248],\n",
       "        [-0.0830, -0.1209],\n",
       "        [-0.0814, -0.1211],\n",
       "        [-0.0817, -0.1213],\n",
       "        [-0.0909, -0.1212],\n",
       "        [-0.0821, -0.1217],\n",
       "        [-0.0838, -0.1245],\n",
       "        [-0.0816, -0.1226],\n",
       "        [-0.0850, -0.1220],\n",
       "        [-0.0922, -0.1242],\n",
       "        [-0.0897, -0.1255],\n",
       "        [-0.0870, -0.1222],\n",
       "        [-0.0877, -0.1178],\n",
       "        [-0.0875, -0.1228],\n",
       "        [-0.0911, -0.1299],\n",
       "        [-0.0885, -0.1243],\n",
       "        [-0.0875, -0.1209],\n",
       "        [-0.0883, -0.1207],\n",
       "        [-0.0865, -0.1233],\n",
       "        [-0.0835, -0.1210],\n",
       "        [-0.0872, -0.1207],\n",
       "        [-0.0910, -0.1170],\n",
       "        [-0.0892, -0.1216],\n",
       "        [-0.0857, -0.1215],\n",
       "        [-0.0833, -0.1270],\n",
       "        [-0.0849, -0.1185],\n",
       "        [-0.0832, -0.1233],\n",
       "        [-0.0828, -0.1266],\n",
       "        [-0.0829, -0.1249],\n",
       "        [-0.0879, -0.1251],\n",
       "        [-0.0864, -0.1212],\n",
       "        [-0.0872, -0.1252],\n",
       "        [-0.0895, -0.1251],\n",
       "        [-0.0808, -0.1232],\n",
       "        [-0.0820, -0.1244],\n",
       "        [-0.0805, -0.1220],\n",
       "        [-0.0816, -0.1254],\n",
       "        [-0.0863, -0.1192],\n",
       "        [-0.0820, -0.1218],\n",
       "        [-0.0886, -0.1233],\n",
       "        [-0.0852, -0.1293],\n",
       "        [-0.0868, -0.1235],\n",
       "        [-0.0833, -0.1212],\n",
       "        [-0.0872, -0.1224],\n",
       "        [-0.0862, -0.1270],\n",
       "        [-0.0857, -0.1211],\n",
       "        [-0.0856, -0.1272],\n",
       "        [-0.0832, -0.1229],\n",
       "        [-0.0897, -0.1275],\n",
       "        [-0.0837, -0.1238],\n",
       "        [-0.0851, -0.1246],\n",
       "        [-0.0873, -0.1253],\n",
       "        [-0.0862, -0.1233],\n",
       "        [-0.0910, -0.1243],\n",
       "        [-0.0912, -0.1257],\n",
       "        [-0.0882, -0.1259],\n",
       "        [-0.0851, -0.1193],\n",
       "        [-0.0917, -0.1281],\n",
       "        [-0.0840, -0.1233],\n",
       "        [-0.0824, -0.1203],\n",
       "        [-0.0867, -0.1200],\n",
       "        [-0.0847, -0.1252],\n",
       "        [-0.0847, -0.1220],\n",
       "        [-0.0839, -0.1236],\n",
       "        [-0.0889, -0.1228],\n",
       "        [-0.0883, -0.1223],\n",
       "        [-0.0845, -0.1215],\n",
       "        [-0.0840, -0.1259],\n",
       "        [-0.0842, -0.1232],\n",
       "        [-0.0849, -0.1218],\n",
       "        [-0.0825, -0.1235],\n",
       "        [-0.0873, -0.1209],\n",
       "        [-0.0839, -0.1217],\n",
       "        [-0.0870, -0.1267],\n",
       "        [-0.0876, -0.1217],\n",
       "        [-0.0868, -0.1215],\n",
       "        [-0.0840, -0.1224],\n",
       "        [-0.0867, -0.1246],\n",
       "        [-0.0837, -0.1239],\n",
       "        [-0.0821, -0.1210],\n",
       "        [-0.0874, -0.1238],\n",
       "        [-0.0849, -0.1200],\n",
       "        [-0.0839, -0.1199],\n",
       "        [-0.0836, -0.1220],\n",
       "        [-0.0846, -0.1201],\n",
       "        [-0.0860, -0.1258],\n",
       "        [-0.0819, -0.1234],\n",
       "        [-0.0867, -0.1241],\n",
       "        [-0.0831, -0.1204],\n",
       "        [-0.0840, -0.1230],\n",
       "        [-0.0868, -0.1215],\n",
       "        [-0.0827, -0.1235],\n",
       "        [-0.0855, -0.1222],\n",
       "        [-0.0841, -0.1245],\n",
       "        [-0.0847, -0.1220],\n",
       "        [-0.0810, -0.1194],\n",
       "        [-0.0859, -0.1216],\n",
       "        [-0.0862, -0.1262],\n",
       "        [-0.0859, -0.1248],\n",
       "        [-0.0844, -0.1227],\n",
       "        [-0.0831, -0.1218],\n",
       "        [-0.0885, -0.1216],\n",
       "        [-0.0867, -0.1234],\n",
       "        [-0.0844, -0.1230],\n",
       "        [-0.0857, -0.1218],\n",
       "        [-0.0857, -0.1245],\n",
       "        [-0.0881, -0.1240],\n",
       "        [-0.0857, -0.1209],\n",
       "        [-0.0847, -0.1208],\n",
       "        [-0.0873, -0.1224],\n",
       "        [-0.0868, -0.1222],\n",
       "        [-0.0852, -0.1241],\n",
       "        [-0.0919, -0.1232],\n",
       "        [-0.0790, -0.1257],\n",
       "        [-0.0914, -0.1242],\n",
       "        [-0.0888, -0.1212],\n",
       "        [-0.0884, -0.1249],\n",
       "        [-0.0897, -0.1227],\n",
       "        [-0.0817, -0.1222],\n",
       "        [-0.0841, -0.1232],\n",
       "        [-0.0860, -0.1235],\n",
       "        [-0.0896, -0.1237],\n",
       "        [-0.0870, -0.1212],\n",
       "        [-0.0885, -0.1243],\n",
       "        [-0.0861, -0.1181],\n",
       "        [-0.0837, -0.1229],\n",
       "        [-0.0846, -0.1197],\n",
       "        [-0.0892, -0.1285],\n",
       "        [-0.0841, -0.1220],\n",
       "        [-0.0893, -0.1253],\n",
       "        [-0.0883, -0.1223],\n",
       "        [-0.0893, -0.1214],\n",
       "        [-0.0859, -0.1251],\n",
       "        [-0.0866, -0.1212],\n",
       "        [-0.0881, -0.1258],\n",
       "        [-0.0885, -0.1279],\n",
       "        [-0.0837, -0.1215],\n",
       "        [-0.0855, -0.1213],\n",
       "        [-0.0859, -0.1256],\n",
       "        [-0.0885, -0.1248],\n",
       "        [-0.0786, -0.1267],\n",
       "        [-0.0902, -0.1238],\n",
       "        [-0.0843, -0.1269],\n",
       "        [-0.0809, -0.1229],\n",
       "        [-0.0788, -0.1226],\n",
       "        [-0.0878, -0.1232],\n",
       "        [-0.0897, -0.1210],\n",
       "        [-0.0876, -0.1190],\n",
       "        [-0.0847, -0.1250],\n",
       "        [-0.0872, -0.1242],\n",
       "        [-0.0872, -0.1285],\n",
       "        [-0.0856, -0.1254],\n",
       "        [-0.0917, -0.1257],\n",
       "        [-0.0869, -0.1242],\n",
       "        [-0.0891, -0.1222],\n",
       "        [-0.0823, -0.1237],\n",
       "        [-0.0851, -0.1248],\n",
       "        [-0.0858, -0.1233],\n",
       "        [-0.0894, -0.1256],\n",
       "        [-0.0877, -0.1207],\n",
       "        [-0.0894, -0.1232],\n",
       "        [-0.0870, -0.1230],\n",
       "        [-0.0853, -0.1284],\n",
       "        [-0.0862, -0.1210],\n",
       "        [-0.0876, -0.1205],\n",
       "        [-0.0835, -0.1214],\n",
       "        [-0.0842, -0.1223],\n",
       "        [-0.0838, -0.1259],\n",
       "        [-0.0900, -0.1194],\n",
       "        [-0.0890, -0.1213],\n",
       "        [-0.0871, -0.1291],\n",
       "        [-0.0845, -0.1249],\n",
       "        [-0.0870, -0.1243],\n",
       "        [-0.0868, -0.1219],\n",
       "        [-0.0865, -0.1217],\n",
       "        [-0.0866, -0.1211],\n",
       "        [-0.0880, -0.1245],\n",
       "        [-0.0853, -0.1205],\n",
       "        [-0.0857, -0.1269],\n",
       "        [-0.0877, -0.1202],\n",
       "        [-0.0846, -0.1170],\n",
       "        [-0.0922, -0.1237],\n",
       "        [-0.0882, -0.1293],\n",
       "        [-0.0855, -0.1218],\n",
       "        [-0.0845, -0.1250],\n",
       "        [-0.0863, -0.1243],\n",
       "        [-0.0887, -0.1212],\n",
       "        [-0.0878, -0.1263]], grad_fn=<AddmmBackward0>)"
      ]
     },
     "execution_count": 268,
     "metadata": {},
     "output_type": "execute_result"
    }
   ],
   "source": [
    "model(*(torch.tensor(sdata.ohe_seqs[rn]).float(), torch.tensor(sdata.ohe_rev_seqs[rn]).float()))"
   ]
  },
  {
   "cell_type": "code",
   "execution_count": 290,
   "id": "a2667c77",
   "metadata": {},
   "outputs": [],
   "source": [
    "explainer = shap.DeepExplainer(model, [x, x_rev])"
   ]
  },
  {
   "cell_type": "code",
   "execution_count": 291,
   "id": "39fcfb90",
   "metadata": {},
   "outputs": [
    {
     "name": "stderr",
     "output_type": "stream",
     "text": [
      "Using a non-full backward hook when the forward contains multiple autograd Nodes is deprecated and will be removed in future versions. This hook will be missing some grad_input. Please use register_full_backward_hook to get the documented behavior.\n",
      "Using non-full backward hooks on a Module that does not return a single Tensor or a tuple of Tensors is deprecated and will be removed in future versions. This hook will be missing some of the grad_output. Please use register_full_backward_hook to get the documented behavior.\n",
      "Note that order of the arguments: ceil_mode and return_indices will changeto match the args list in nn.MaxPool1d in a future release.\n"
     ]
    },
    {
     "name": "stdout",
     "output_type": "stream",
     "text": [
      "Warning: unrecognized nn.Module: LSTM\n",
      "Warning: unrecognized nn.Module: LSTM\n",
      "Warning: unrecognized nn.Module: LSTM\n",
      "Warning: unrecognized nn.Module: LSTM\n",
      "Warning: unrecognized nn.Module: LSTM\n",
      "Warning: unrecognized nn.Module: LSTM\n",
      "Warning: unrecognized nn.Module: LSTM\n",
      "Warning: unrecognized nn.Module: LSTM\n",
      "Warning: unrecognized nn.Module: LSTM\n",
      "Warning: unrecognized nn.Module: LSTM\n",
      "Warning: unrecognized nn.Module: LSTM\n",
      "Warning: unrecognized nn.Module: LSTM\n",
      "Warning: unrecognized nn.Module: LSTM\n",
      "Warning: unrecognized nn.Module: LSTM\n",
      "Warning: unrecognized nn.Module: LSTM\n",
      "Warning: unrecognized nn.Module: LSTM\n",
      "Warning: unrecognized nn.Module: LSTM\n",
      "Warning: unrecognized nn.Module: LSTM\n",
      "Warning: unrecognized nn.Module: LSTM\n",
      "Warning: unrecognized nn.Module: LSTM\n",
      "Warning: unrecognized nn.Module: LSTM\n",
      "Warning: unrecognized nn.Module: LSTM\n",
      "Warning: unrecognized nn.Module: LSTM\n",
      "Warning: unrecognized nn.Module: LSTM\n",
      "Warning: unrecognized nn.Module: LSTM\n",
      "Warning: unrecognized nn.Module: LSTM\n",
      "Warning: unrecognized nn.Module: LSTM\n",
      "Warning: unrecognized nn.Module: LSTM\n",
      "Warning: unrecognized nn.Module: LSTM\n",
      "Warning: unrecognized nn.Module: LSTM\n",
      "Warning: unrecognized nn.Module: LSTM\n",
      "Warning: unrecognized nn.Module: LSTM\n"
     ]
    }
   ],
   "source": [
    "shap_values, indexes = explainer.shap_values([x, x_rev])"
   ]
  },
  {
   "cell_type": "code",
   "execution_count": 292,
   "id": "d00de4e1",
   "metadata": {},
   "outputs": [
    {
     "data": {
      "text/plain": [
       "array([[[-1.74931040e-14,  3.31201470e-14,  3.76816329e-14, ...,\n",
       "         -4.02863196e-04,  5.42432826e-05, -5.57458407e-05],\n",
       "        [ 3.43919009e-15,  3.12095862e-14,  6.12488982e-14, ...,\n",
       "          8.92341122e-05,  1.97865920e-05,  2.04870630e-05],\n",
       "        [-2.93781731e-15, -1.18175381e-13, -5.87193461e-14, ...,\n",
       "          9.56197910e-05,  3.55838929e-05,  8.37760017e-05],\n",
       "        [ 2.47436162e-14,  5.54933195e-14,  1.13752893e-13, ...,\n",
       "         -3.08431445e-05, -3.96842843e-05, -3.81094505e-05]],\n",
       "\n",
       "       [[-4.32161250e-15,  7.06729648e-15, -1.58084741e-13, ...,\n",
       "          4.28808380e-05,  1.79533999e-05, -3.37442470e-05],\n",
       "        [ 3.90953732e-15,  2.20080539e-14,  1.79750166e-14, ...,\n",
       "          1.37334660e-04, -1.49069510e-05,  8.62936577e-05],\n",
       "        [ 8.42222224e-15, -8.28414892e-14,  2.73198924e-14, ...,\n",
       "          4.20268043e-05, -3.98679476e-05, -1.42444367e-06],\n",
       "        [-7.82612365e-14,  3.37817746e-14,  1.12575924e-13, ...,\n",
       "          3.98531061e-04,  4.78343354e-05, -6.05588284e-05]],\n",
       "\n",
       "       [[ 3.98157048e-16, -1.25652405e-13,  3.21121642e-14, ...,\n",
       "         -9.83017708e-06, -2.48708995e-04, -2.39246274e-05],\n",
       "        [ 5.00937572e-15,  2.60605966e-14,  2.23325979e-14, ...,\n",
       "         -4.37430208e-05, -6.63142919e-06,  6.96814604e-05],\n",
       "        [-7.96383088e-15,  3.15437916e-14,  1.97913348e-14, ...,\n",
       "          1.18651849e-04, -1.85633107e-05,  8.67220842e-06],\n",
       "        [-1.51067970e-14,  6.63078330e-14, -4.60694254e-13, ...,\n",
       "         -1.04946099e-04, -8.83355533e-05, -6.52220115e-05]],\n",
       "\n",
       "       ...,\n",
       "\n",
       "       [[ 2.85875551e-14,  2.39351843e-14,  3.95957748e-14, ...,\n",
       "          6.06705289e-05,  1.03383845e-05, -7.78470508e-07],\n",
       "        [ 3.66323369e-15,  2.24640083e-14,  7.54089293e-16, ...,\n",
       "         -1.18917407e-04,  1.02284612e-04,  8.78293940e-05],\n",
       "        [ 2.61417957e-15,  5.85165054e-14, -1.04201729e-13, ...,\n",
       "          1.07569329e-04,  2.40135905e-05,  1.67330418e-05],\n",
       "        [ 2.21497269e-14, -2.42711694e-13,  1.13951952e-13, ...,\n",
       "         -4.64929399e-05,  2.34857125e-05, -3.27937742e-05]],\n",
       "\n",
       "       [[-2.77076996e-14,  6.01506759e-14,  5.21866723e-14, ...,\n",
       "          7.98445180e-05,  3.92924449e-05, -1.42326735e-05],\n",
       "        [ 1.11584235e-15,  2.92389031e-14,  5.82319091e-14, ...,\n",
       "          1.38052084e-04,  2.28879762e-05, -9.85257429e-05],\n",
       "        [-6.31789085e-15, -6.25391666e-14,  5.53749653e-14, ...,\n",
       "         -3.19745974e-04, -5.80181295e-05,  9.04352328e-06],\n",
       "        [ 2.72732141e-14,  5.28620896e-14,  1.50728713e-13, ...,\n",
       "         -7.58173483e-05,  1.84538330e-05,  2.26874778e-04]],\n",
       "\n",
       "       [[ 1.55548910e-14,  3.75980917e-14, -1.79206774e-13, ...,\n",
       "          5.85316229e-05,  3.54056392e-05, -2.49058248e-05],\n",
       "        [ 4.33298391e-15, -7.99016140e-14,  6.08184970e-14, ...,\n",
       "          7.36814109e-05,  6.32600422e-05,  1.13093738e-04],\n",
       "        [ 1.21579192e-15,  5.65554141e-14,  5.75456295e-14, ...,\n",
       "         -2.97211081e-04,  2.05122760e-05,  3.84586247e-06],\n",
       "        [ 2.56126060e-14,  4.88547699e-14,  1.70198735e-13, ...,\n",
       "         -1.04699604e-04, -2.44645453e-05, -4.66992096e-05]]])"
      ]
     },
     "execution_count": 292,
     "metadata": {},
     "output_type": "execute_result"
    }
   ],
   "source": [
    "shap_values"
   ]
  },
  {
   "cell_type": "code",
   "execution_count": null,
   "id": "8ab67aec",
   "metadata": {},
   "outputs": [],
   "source": [
    "explainer."
   ]
  },
  {
   "cell_type": "code",
   "execution_count": 242,
   "id": "f94528ed",
   "metadata": {},
   "outputs": [
    {
     "data": {
      "text/plain": [
       "SeqData object with = 1000 seqs\n",
       "seqs = (1000,)\n",
       "names = (1000,)\n",
       "rev_seqs = None\n",
       "ohe_seqs = (1000, 4, 66)\n",
       "ohe_rev_seqs = (1000, 4, 66)\n",
       "seqs_annot: 'target', 'train_val', 'target_2'\n",
       "pos_annot: PyRanges object with 1400 features\n",
       "seqsm: None\n",
       "uns: 'InputXGradient_forward_imps', 'InputXGradient_reverse_imps', 'DeepLift_forward_imps', 'DeepLift_reverse_imps', 'GradientSHAP_forward_imps', 'GradientSHAP_reverse_imps'"
      ]
     },
     "execution_count": 242,
     "metadata": {},
     "output_type": "execute_result"
    }
   ],
   "source": [
    "sdata"
   ]
  },
  {
   "cell_type": "code",
   "execution_count": 243,
   "id": "2e17c692",
   "metadata": {},
   "outputs": [
    {
     "data": {
      "image/png": "[encoded data removed]",
      "text/plain": [
       "<Figure size 1200x400 with 2 Axes>"
      ]
     },
     "metadata": {},
     "output_type": "display_data"
    }
   ],
   "source": [
    "eu.pl.seq_track(sdata, seq_id=\"seq001\", uns_key=\"DeepLift_reverse_imps\")"
   ]
  },
  {
   "cell_type": "code",
   "execution_count": 244,
   "id": "158687ff",
   "metadata": {},
   "outputs": [
    {
     "data": {
      "image/png": "[encoded data removed]",
      "text/plain": [
       "<Figure size 1200x400 with 2 Axes>"
      ]
     },
     "metadata": {},
     "output_type": "display_data"
    }
   ],
   "source": [
    "eu.pl.seq_track(sdata, seq_id=\"seq001\", uns_key=\"InputXGradient_reverse_imps\")"
   ]
  },
  {
   "cell_type": "markdown",
   "id": "105d4fb4-1932-4822-bc1e-1297ee9e2b60",
   "metadata": {
    "tags": []
   },
   "source": [
    "# Filter vizualization "
   ]
  },
  {
   "cell_type": "code",
   "execution_count": 25,
   "id": "301a3838",
   "metadata": {},
   "outputs": [
    {
     "data": {
      "application/vnd.jupyter.widget-view+json": {
       "model_id": "8527ace0ec164554b0d27165ae7c879d",
       "version_major": 2,
       "version_minor": 0
      },
      "text/plain": [
       "0it [00:00, ?it/s]"
      ]
     },
     "metadata": {},
     "output_type": "display_data"
    },
    {
     "data": {
      "application/vnd.jupyter.widget-view+json": {
       "model_id": "9058969d1dc44aeca5b9bca8a0a947ff",
       "version_major": 2,
       "version_minor": 0
      },
      "text/plain": [
       "0it [00:00, ?it/s]"
      ]
     },
     "metadata": {},
     "output_type": "display_data"
    }
   ],
   "source": [
    "eu.interpret.generate_pfms(eugene, sdata)"
   ]
  },
  {
   "cell_type": "code",
   "execution_count": 26,
   "id": "6d58323d",
   "metadata": {},
   "outputs": [
    {
     "data": {
      "image/png": "[encoded data removed]",
      "text/plain": [
       "<IPython.core.display.Image object>"
      ]
     },
     "metadata": {},
     "output_type": "display_data"
    }
   ],
   "source": [
    "eu.pl.logo(sdata, filter_id=0, size=\"small\")"
   ]
  },
  {
   "cell_type": "code",
   "execution_count": 27,
   "id": "05401ba0",
   "metadata": {},
   "outputs": [
    {
     "data": {
      "text/plain": [
       "SeqData object with = 1000 seqs\n",
       "seqs = (1000,)\n",
       "names = (1000,)\n",
       "rev_seqs = (1000,)\n",
       "ohe_seqs = (1000, 66, 4)\n",
       "ohe_rev_seqs = None\n",
       "seqs_annot: 'TARGETS', 'TRAIN'\n",
       "pos_annot: PyRanges object with 1400 features\n",
       "seqsm: None\n",
       "uns: 'InputXGradient_imps', 'pfms'"
      ]
     },
     "execution_count": 27,
     "metadata": {},
     "output_type": "execute_result"
    }
   ],
   "source": [
    "sdata"
   ]
  },
  {
   "cell_type": "markdown",
   "id": "07f5f46c",
   "metadata": {},
   "source": [
    "# Feature attribution reduction"
   ]
  },
  {
   "cell_type": "code",
   "execution_count": 28,
   "id": "acf8711d",
   "metadata": {},
   "outputs": [
    {
     "name": "stdout",
     "output_type": "stream",
     "text": [
      "Make sure your matrix is sample by feature\n"
     ]
    }
   ],
   "source": [
    "eu.interpret.pca(sdata, uns_key=\"InputXGradient_imps\")"
   ]
  },
  {
   "cell_type": "code",
   "execution_count": 29,
   "id": "9642971a",
   "metadata": {},
   "outputs": [
    {
     "data": {
      "image/png": "[encoded data removed]",
      "text/plain": [
       "<Figure size 432x288 with 1 Axes>"
      ]
     },
     "metadata": {
      "needs_background": "light"
     },
     "output_type": "display_data"
    },
    {
     "data": {
      "text/plain": [
       "<matplotlib.collections.PathCollection at 0x15548cc9ae10>"
      ]
     },
     "execution_count": 29,
     "metadata": {},
     "output_type": "execute_result"
    }
   ],
   "source": [
    "eu.pl.pca(sdata, seqsm_key=\"InputXGradient_imps_pca\")"
   ]
  },
  {
   "cell_type": "code",
   "execution_count": 30,
   "id": "242d48ad",
   "metadata": {},
   "outputs": [
    {
     "name": "stdout",
     "output_type": "stream",
     "text": [
      "Make sure your matrix is sample by feature\n"
     ]
    }
   ],
   "source": [
    "eu.interpret.umap(sdata, uns_key=\"InputXGradient_imps\")"
   ]
  },
  {
   "cell_type": "code",
   "execution_count": 31,
   "id": "18417460",
   "metadata": {},
   "outputs": [
    {
     "data": {
      "image/png": "[encoded data removed]",
      "text/plain": [
       "<Figure size 432x288 with 1 Axes>"
      ]
     },
     "metadata": {
      "needs_background": "light"
     },
     "output_type": "display_data"
    },
    {
     "data": {
      "text/plain": [
       "<matplotlib.collections.PathCollection at 0x15548c314a50>"
      ]
     },
     "execution_count": 31,
     "metadata": {},
     "output_type": "execute_result"
    }
   ],
   "source": [
    "eu.pl.umap(sdata, seqsm_key=\"InputXGradient_imps_umap\")"
   ]
  },
  {
   "cell_type": "code",
   "execution_count": 36,
   "id": "5fcc74d3",
   "metadata": {},
   "outputs": [
    {
     "data": {
      "text/plain": [
       "PCA(n_components=30)"
      ]
     },
     "execution_count": 36,
     "metadata": {},
     "output_type": "execute_result"
    }
   ],
   "source": [
    "sdata.uns[\"InputXGradient_imps_pca\"]"
   ]
  },
  {
   "cell_type": "code",
   "execution_count": 41,
   "id": "9766a713",
   "metadata": {},
   "outputs": [
    {
     "data": {
      "image/png": "[encoded data removed]",
      "text/plain": [
       "<Figure size 432x288 with 1 Axes>"
      ]
     },
     "metadata": {
      "needs_background": "light"
     },
     "output_type": "display_data"
    }
   ],
   "source": [
    "eu.pl.skree(sdata, uns_key=\"InputXGradient_imps_pca\")"
   ]
  },
  {
   "cell_type": "code",
   "execution_count": 75,
   "id": "a99afaec",
   "metadata": {},
   "outputs": [],
   "source": [
    "eu.interpret.aggregate_importance(sdata, uns_key=\"InputXGradient_imps\")"
   ]
  },
  {
   "cell_type": "code",
   "execution_count": 77,
   "id": "fd38b264",
   "metadata": {},
   "outputs": [
    {
     "data": {
      "text/html": [
       "<div>\n",
       "<style scoped>\n",
       "    .dataframe tbody tr th:only-of-type {\n",
       "        vertical-align: middle;\n",
       "    }\n",
       "\n",
       "    .dataframe tbody tr th {\n",
       "        vertical-align: top;\n",
       "    }\n",
       "\n",
       "    .dataframe thead th {\n",
       "        text-align: right;\n",
       "    }\n",
       "</style>\n",
       "<table border=\"1\" class=\"dataframe\">\n",
       "  <thead>\n",
       "    <tr style=\"text-align: right;\">\n",
       "      <th></th>\n",
       "      <th>Chromosome</th>\n",
       "      <th>Start</th>\n",
       "      <th>End</th>\n",
       "      <th>Name</th>\n",
       "      <th>Score</th>\n",
       "      <th>Strand</th>\n",
       "      <th>InputXGradient_imps_agg_scores</th>\n",
       "    </tr>\n",
       "  </thead>\n",
       "  <tbody>\n",
       "    <tr>\n",
       "      <th>0</th>\n",
       "      <td>seq000</td>\n",
       "      <td>27</td>\n",
       "      <td>34</td>\n",
       "      <td>ETS</td>\n",
       "      <td>.</td>\n",
       "      <td>+</td>\n",
       "      <td>6.907533e-07</td>\n",
       "    </tr>\n",
       "    <tr>\n",
       "      <th>1</th>\n",
       "      <td>seq000</td>\n",
       "      <td>47</td>\n",
       "      <td>54</td>\n",
       "      <td>GATA</td>\n",
       "      <td>.</td>\n",
       "      <td>-</td>\n",
       "      <td>2.522031e-03</td>\n",
       "    </tr>\n",
       "    <tr>\n",
       "      <th>2</th>\n",
       "      <td>seq000</td>\n",
       "      <td>48</td>\n",
       "      <td>55</td>\n",
       "      <td>ETS</td>\n",
       "      <td>.</td>\n",
       "      <td>-</td>\n",
       "      <td>2.087915e-03</td>\n",
       "    </tr>\n",
       "    <tr>\n",
       "      <th>3</th>\n",
       "      <td>seq001</td>\n",
       "      <td>6</td>\n",
       "      <td>13</td>\n",
       "      <td>ETS</td>\n",
       "      <td>.</td>\n",
       "      <td>+</td>\n",
       "      <td>1.701949e-11</td>\n",
       "    </tr>\n",
       "    <tr>\n",
       "      <th>4</th>\n",
       "      <td>seq002</td>\n",
       "      <td>5</td>\n",
       "      <td>12</td>\n",
       "      <td>ETS</td>\n",
       "      <td>.</td>\n",
       "      <td>+</td>\n",
       "      <td>-9.114633e-12</td>\n",
       "    </tr>\n",
       "    <tr>\n",
       "      <th>...</th>\n",
       "      <td>...</td>\n",
       "      <td>...</td>\n",
       "      <td>...</td>\n",
       "      <td>...</td>\n",
       "      <td>...</td>\n",
       "      <td>...</td>\n",
       "      <td>...</td>\n",
       "    </tr>\n",
       "    <tr>\n",
       "      <th>1395</th>\n",
       "      <td>seq994</td>\n",
       "      <td>20</td>\n",
       "      <td>27</td>\n",
       "      <td>ETS</td>\n",
       "      <td>.</td>\n",
       "      <td>-</td>\n",
       "      <td>3.931711e-09</td>\n",
       "    </tr>\n",
       "    <tr>\n",
       "      <th>1396</th>\n",
       "      <td>seq995</td>\n",
       "      <td>8</td>\n",
       "      <td>15</td>\n",
       "      <td>ETS</td>\n",
       "      <td>.</td>\n",
       "      <td>+</td>\n",
       "      <td>-2.968943e-11</td>\n",
       "    </tr>\n",
       "    <tr>\n",
       "      <th>1397</th>\n",
       "      <td>seq996</td>\n",
       "      <td>54</td>\n",
       "      <td>61</td>\n",
       "      <td>ETS</td>\n",
       "      <td>.</td>\n",
       "      <td>-</td>\n",
       "      <td>-3.709709e-03</td>\n",
       "    </tr>\n",
       "    <tr>\n",
       "      <th>1398</th>\n",
       "      <td>seq997</td>\n",
       "      <td>35</td>\n",
       "      <td>42</td>\n",
       "      <td>ETS</td>\n",
       "      <td>.</td>\n",
       "      <td>+</td>\n",
       "      <td>2.780085e-05</td>\n",
       "    </tr>\n",
       "    <tr>\n",
       "      <th>1399</th>\n",
       "      <td>seq997</td>\n",
       "      <td>1</td>\n",
       "      <td>8</td>\n",
       "      <td>GATA</td>\n",
       "      <td>.</td>\n",
       "      <td>-</td>\n",
       "      <td>4.713486e-12</td>\n",
       "    </tr>\n",
       "  </tbody>\n",
       "</table>\n",
       "<p>1400 rows × 7 columns</p>\n",
       "</div>"
      ],
      "text/plain": [
       "+--------------+-----------+-----------+------------+------------+-------+\n",
       "| Chromosome   | Start     | End       | Name       | Score      | +2    |\n",
       "| (category)   | (int32)   | (int32)   | (object)   | (object)   | ...   |\n",
       "|--------------+-----------+-----------+------------+------------+-------|\n",
       "| seq000       | 27        | 34        | ETS        | .          | ...   |\n",
       "| seq000       | 47        | 54        | GATA       | .          | ...   |\n",
       "| seq000       | 48        | 55        | ETS        | .          | ...   |\n",
       "| seq001       | 6         | 13        | ETS        | .          | ...   |\n",
       "| ...          | ...       | ...       | ...        | ...        | ...   |\n",
       "| seq995       | 8         | 15        | ETS        | .          | ...   |\n",
       "| seq996       | 54        | 61        | ETS        | .          | ...   |\n",
       "| seq997       | 35        | 42        | ETS        | .          | ...   |\n",
       "| seq997       | 1         | 8         | GATA       | .          | ...   |\n",
       "+--------------+-----------+-----------+------------+------------+-------+\n",
       "Stranded PyRanges object has 1,400 rows and 7 columns from 745 chromosomes.\n",
       "For printing, the PyRanges was sorted on Chromosome and Strand.\n",
       "2 hidden columns: Strand, InputXGradient_imps_agg_scores"
      ]
     },
     "execution_count": 77,
     "metadata": {},
     "output_type": "execute_result"
    }
   ],
   "source": [
    "sdata.pos_annot"
   ]
  },
  {
   "cell_type": "code",
   "execution_count": 82,
   "id": "6b6fda4d",
   "metadata": {},
   "outputs": [
    {
     "data": {
      "image/png": "[encoded data removed]",
      "text/plain": [
       "<Figure size 864x288 with 2 Axes>"
      ]
     },
     "metadata": {
      "needs_background": "light"
     },
     "output_type": "display_data"
    }
   ],
   "source": [
    "eu.pl.seq(sdata, seq_id=\"seq002\", uns_key=\"InputXGradient_imps\", additional_annotations=[\"Strand\", \"InputXGradient_imps_agg_scores\"])"
   ]
  },
  {
   "cell_type": "code",
   "execution_count": 43,
   "id": "ce78c147",
   "metadata": {},
   "outputs": [],
   "source": [
    "p_annot = sdata.pos_annot.df[sdata.pos_annot.df[\"Chromosome\"] == \"seq000\"]"
   ]
  },
  {
   "cell_type": "code",
   "execution_count": 44,
   "id": "abcac0d9",
   "metadata": {},
   "outputs": [
    {
     "data": {
      "text/html": [
       "<div>\n",
       "<style scoped>\n",
       "    .dataframe tbody tr th:only-of-type {\n",
       "        vertical-align: middle;\n",
       "    }\n",
       "\n",
       "    .dataframe tbody tr th {\n",
       "        vertical-align: top;\n",
       "    }\n",
       "\n",
       "    .dataframe thead th {\n",
       "        text-align: right;\n",
       "    }\n",
       "</style>\n",
       "<table border=\"1\" class=\"dataframe\">\n",
       "  <thead>\n",
       "    <tr style=\"text-align: right;\">\n",
       "      <th></th>\n",
       "      <th>Chromosome</th>\n",
       "      <th>Start</th>\n",
       "      <th>End</th>\n",
       "      <th>Name</th>\n",
       "      <th>Score</th>\n",
       "      <th>Strand</th>\n",
       "    </tr>\n",
       "  </thead>\n",
       "  <tbody>\n",
       "    <tr>\n",
       "      <th>0</th>\n",
       "      <td>seq000</td>\n",
       "      <td>27</td>\n",
       "      <td>34</td>\n",
       "      <td>ETS</td>\n",
       "      <td>.</td>\n",
       "      <td>+</td>\n",
       "    </tr>\n",
       "    <tr>\n",
       "      <th>1</th>\n",
       "      <td>seq000</td>\n",
       "      <td>47</td>\n",
       "      <td>54</td>\n",
       "      <td>GATA</td>\n",
       "      <td>.</td>\n",
       "      <td>-</td>\n",
       "    </tr>\n",
       "    <tr>\n",
       "      <th>2</th>\n",
       "      <td>seq000</td>\n",
       "      <td>48</td>\n",
       "      <td>55</td>\n",
       "      <td>ETS</td>\n",
       "      <td>.</td>\n",
       "      <td>-</td>\n",
       "    </tr>\n",
       "  </tbody>\n",
       "</table>\n",
       "</div>"
      ],
      "text/plain": [
       "  Chromosome  Start  End  Name Score Strand\n",
       "0     seq000     27   34   ETS     .      +\n",
       "1     seq000     47   54  GATA     .      -\n",
       "2     seq000     48   55   ETS     .      -"
      ]
     },
     "execution_count": 44,
     "metadata": {},
     "output_type": "execute_result"
    }
   ],
   "source": [
    "p_annot"
   ]
  },
  {
   "cell_type": "code",
   "execution_count": 47,
   "id": "74af0d0b",
   "metadata": {},
   "outputs": [],
   "source": [
    "vals = sdata.uns[\"InputXGradient_imps\"]"
   ]
  },
  {
   "cell_type": "code",
   "execution_count": 48,
   "id": "2795aee2",
   "metadata": {},
   "outputs": [
    {
     "data": {
      "text/plain": [
       "(1000, 4, 66)"
      ]
     },
     "execution_count": 48,
     "metadata": {},
     "output_type": "execute_result"
    }
   ],
   "source": [
    "vals.shape"
   ]
  },
  {
   "cell_type": "code",
   "execution_count": 64,
   "id": "f4e6c136",
   "metadata": {},
   "outputs": [
    {
     "data": {
      "text/html": [
       "<div>\n",
       "<style scoped>\n",
       "    .dataframe tbody tr th:only-of-type {\n",
       "        vertical-align: middle;\n",
       "    }\n",
       "\n",
       "    .dataframe tbody tr th {\n",
       "        vertical-align: top;\n",
       "    }\n",
       "\n",
       "    .dataframe thead th {\n",
       "        text-align: right;\n",
       "    }\n",
       "</style>\n",
       "<table border=\"1\" class=\"dataframe\">\n",
       "  <thead>\n",
       "    <tr style=\"text-align: right;\">\n",
       "      <th></th>\n",
       "      <th>Chromosome</th>\n",
       "      <th>Start</th>\n",
       "      <th>End</th>\n",
       "      <th>Name</th>\n",
       "      <th>Score</th>\n",
       "      <th>Strand</th>\n",
       "    </tr>\n",
       "  </thead>\n",
       "  <tbody>\n",
       "    <tr>\n",
       "      <th>0</th>\n",
       "      <td>seq000</td>\n",
       "      <td>27</td>\n",
       "      <td>34</td>\n",
       "      <td>ETS</td>\n",
       "      <td>.</td>\n",
       "      <td>+</td>\n",
       "    </tr>\n",
       "    <tr>\n",
       "      <th>1</th>\n",
       "      <td>seq000</td>\n",
       "      <td>47</td>\n",
       "      <td>54</td>\n",
       "      <td>GATA</td>\n",
       "      <td>.</td>\n",
       "      <td>-</td>\n",
       "    </tr>\n",
       "    <tr>\n",
       "      <th>2</th>\n",
       "      <td>seq000</td>\n",
       "      <td>48</td>\n",
       "      <td>55</td>\n",
       "      <td>ETS</td>\n",
       "      <td>.</td>\n",
       "      <td>-</td>\n",
       "    </tr>\n",
       "    <tr>\n",
       "      <th>3</th>\n",
       "      <td>seq001</td>\n",
       "      <td>6</td>\n",
       "      <td>13</td>\n",
       "      <td>ETS</td>\n",
       "      <td>.</td>\n",
       "      <td>+</td>\n",
       "    </tr>\n",
       "    <tr>\n",
       "      <th>4</th>\n",
       "      <td>seq002</td>\n",
       "      <td>5</td>\n",
       "      <td>12</td>\n",
       "      <td>ETS</td>\n",
       "      <td>.</td>\n",
       "      <td>+</td>\n",
       "    </tr>\n",
       "    <tr>\n",
       "      <th>...</th>\n",
       "      <td>...</td>\n",
       "      <td>...</td>\n",
       "      <td>...</td>\n",
       "      <td>...</td>\n",
       "      <td>...</td>\n",
       "      <td>...</td>\n",
       "    </tr>\n",
       "    <tr>\n",
       "      <th>1395</th>\n",
       "      <td>seq994</td>\n",
       "      <td>20</td>\n",
       "      <td>27</td>\n",
       "      <td>ETS</td>\n",
       "      <td>.</td>\n",
       "      <td>-</td>\n",
       "    </tr>\n",
       "    <tr>\n",
       "      <th>1396</th>\n",
       "      <td>seq995</td>\n",
       "      <td>8</td>\n",
       "      <td>15</td>\n",
       "      <td>ETS</td>\n",
       "      <td>.</td>\n",
       "      <td>+</td>\n",
       "    </tr>\n",
       "    <tr>\n",
       "      <th>1397</th>\n",
       "      <td>seq996</td>\n",
       "      <td>54</td>\n",
       "      <td>61</td>\n",
       "      <td>ETS</td>\n",
       "      <td>.</td>\n",
       "      <td>-</td>\n",
       "    </tr>\n",
       "    <tr>\n",
       "      <th>1398</th>\n",
       "      <td>seq997</td>\n",
       "      <td>35</td>\n",
       "      <td>42</td>\n",
       "      <td>ETS</td>\n",
       "      <td>.</td>\n",
       "      <td>+</td>\n",
       "    </tr>\n",
       "    <tr>\n",
       "      <th>1399</th>\n",
       "      <td>seq997</td>\n",
       "      <td>1</td>\n",
       "      <td>8</td>\n",
       "      <td>GATA</td>\n",
       "      <td>.</td>\n",
       "      <td>-</td>\n",
       "    </tr>\n",
       "  </tbody>\n",
       "</table>\n",
       "<p>1400 rows × 6 columns</p>\n",
       "</div>"
      ],
      "text/plain": [
       "     Chromosome  Start  End  Name Score Strand\n",
       "0        seq000     27   34   ETS     .      +\n",
       "1        seq000     47   54  GATA     .      -\n",
       "2        seq000     48   55   ETS     .      -\n",
       "3        seq001      6   13   ETS     .      +\n",
       "4        seq002      5   12   ETS     .      +\n",
       "...         ...    ...  ...   ...   ...    ...\n",
       "1395     seq994     20   27   ETS     .      -\n",
       "1396     seq995      8   15   ETS     .      +\n",
       "1397     seq996     54   61   ETS     .      -\n",
       "1398     seq997     35   42   ETS     .      +\n",
       "1399     seq997      1    8  GATA     .      -\n",
       "\n",
       "[1400 rows x 6 columns]"
      ]
     },
     "execution_count": 64,
     "metadata": {},
     "output_type": "execute_result"
    }
   ],
   "source": [
    "df"
   ]
  },
  {
   "cell_type": "code",
   "execution_count": 67,
   "id": "df477b09",
   "metadata": {},
   "outputs": [],
   "source": [
    "vals = sdata.uns[\"InputXGradient_imps\"]\n",
    "df = sdata.pos_annot.df\n",
    "agg_scores = []\n",
    "for i, row in df.iterrows():\n",
    "    seq_id = row[\"Chromosome\"]\n",
    "    start = row[\"Start\"]\n",
    "    end = row[\"End\"]\n",
    "    seq_idx = np.where(sdata.names == seq_id)[0][0]\n",
    "    agg_scores.append(vals[seq_idx, :, start:end].sum())\n",
    "df[\"agg_scores\"] = agg_scores\n",
    "pr.PyRanges(df)"
   ]
  },
  {
   "cell_type": "code",
   "execution_count": 71,
   "id": "73e66ac2",
   "metadata": {},
   "outputs": [],
   "source": [
    "import pyranges as pr"
   ]
  },
  {
   "cell_type": "code",
   "execution_count": 73,
   "id": "e70f83f3",
   "metadata": {},
   "outputs": [
    {
     "data": {
      "text/html": [
       "<div>\n",
       "<style scoped>\n",
       "    .dataframe tbody tr th:only-of-type {\n",
       "        vertical-align: middle;\n",
       "    }\n",
       "\n",
       "    .dataframe tbody tr th {\n",
       "        vertical-align: top;\n",
       "    }\n",
       "\n",
       "    .dataframe thead th {\n",
       "        text-align: right;\n",
       "    }\n",
       "</style>\n",
       "<table border=\"1\" class=\"dataframe\">\n",
       "  <thead>\n",
       "    <tr style=\"text-align: right;\">\n",
       "      <th></th>\n",
       "      <th>Chromosome</th>\n",
       "      <th>Start</th>\n",
       "      <th>End</th>\n",
       "      <th>Name</th>\n",
       "      <th>Score</th>\n",
       "      <th>Strand</th>\n",
       "      <th>agg_scores</th>\n",
       "    </tr>\n",
       "  </thead>\n",
       "  <tbody>\n",
       "    <tr>\n",
       "      <th>0</th>\n",
       "      <td>seq000</td>\n",
       "      <td>27</td>\n",
       "      <td>34</td>\n",
       "      <td>ETS</td>\n",
       "      <td>.</td>\n",
       "      <td>+</td>\n",
       "      <td>6.907533e-07</td>\n",
       "    </tr>\n",
       "    <tr>\n",
       "      <th>1</th>\n",
       "      <td>seq000</td>\n",
       "      <td>47</td>\n",
       "      <td>54</td>\n",
       "      <td>GATA</td>\n",
       "      <td>.</td>\n",
       "      <td>-</td>\n",
       "      <td>2.522031e-03</td>\n",
       "    </tr>\n",
       "    <tr>\n",
       "      <th>2</th>\n",
       "      <td>seq000</td>\n",
       "      <td>48</td>\n",
       "      <td>55</td>\n",
       "      <td>ETS</td>\n",
       "      <td>.</td>\n",
       "      <td>-</td>\n",
       "      <td>2.087915e-03</td>\n",
       "    </tr>\n",
       "    <tr>\n",
       "      <th>3</th>\n",
       "      <td>seq001</td>\n",
       "      <td>6</td>\n",
       "      <td>13</td>\n",
       "      <td>ETS</td>\n",
       "      <td>.</td>\n",
       "      <td>+</td>\n",
       "      <td>1.701949e-11</td>\n",
       "    </tr>\n",
       "    <tr>\n",
       "      <th>4</th>\n",
       "      <td>seq002</td>\n",
       "      <td>5</td>\n",
       "      <td>12</td>\n",
       "      <td>ETS</td>\n",
       "      <td>.</td>\n",
       "      <td>+</td>\n",
       "      <td>-9.114633e-12</td>\n",
       "    </tr>\n",
       "    <tr>\n",
       "      <th>...</th>\n",
       "      <td>...</td>\n",
       "      <td>...</td>\n",
       "      <td>...</td>\n",
       "      <td>...</td>\n",
       "      <td>...</td>\n",
       "      <td>...</td>\n",
       "      <td>...</td>\n",
       "    </tr>\n",
       "    <tr>\n",
       "      <th>1395</th>\n",
       "      <td>seq994</td>\n",
       "      <td>20</td>\n",
       "      <td>27</td>\n",
       "      <td>ETS</td>\n",
       "      <td>.</td>\n",
       "      <td>-</td>\n",
       "      <td>3.931711e-09</td>\n",
       "    </tr>\n",
       "    <tr>\n",
       "      <th>1396</th>\n",
       "      <td>seq995</td>\n",
       "      <td>8</td>\n",
       "      <td>15</td>\n",
       "      <td>ETS</td>\n",
       "      <td>.</td>\n",
       "      <td>+</td>\n",
       "      <td>-2.968943e-11</td>\n",
       "    </tr>\n",
       "    <tr>\n",
       "      <th>1397</th>\n",
       "      <td>seq996</td>\n",
       "      <td>54</td>\n",
       "      <td>61</td>\n",
       "      <td>ETS</td>\n",
       "      <td>.</td>\n",
       "      <td>-</td>\n",
       "      <td>-3.709709e-03</td>\n",
       "    </tr>\n",
       "    <tr>\n",
       "      <th>1398</th>\n",
       "      <td>seq997</td>\n",
       "      <td>35</td>\n",
       "      <td>42</td>\n",
       "      <td>ETS</td>\n",
       "      <td>.</td>\n",
       "      <td>+</td>\n",
       "      <td>2.780085e-05</td>\n",
       "    </tr>\n",
       "    <tr>\n",
       "      <th>1399</th>\n",
       "      <td>seq997</td>\n",
       "      <td>1</td>\n",
       "      <td>8</td>\n",
       "      <td>GATA</td>\n",
       "      <td>.</td>\n",
       "      <td>-</td>\n",
       "      <td>4.713486e-12</td>\n",
       "    </tr>\n",
       "  </tbody>\n",
       "</table>\n",
       "<p>1400 rows × 7 columns</p>\n",
       "</div>"
      ],
      "text/plain": [
       "+--------------+-----------+-----------+------------+------------+-------+\n",
       "| Chromosome   | Start     | End       | Name       | Score      | +2    |\n",
       "| (category)   | (int32)   | (int32)   | (object)   | (object)   | ...   |\n",
       "|--------------+-----------+-----------+------------+------------+-------|\n",
       "| seq000       | 27        | 34        | ETS        | .          | ...   |\n",
       "| seq000       | 47        | 54        | GATA       | .          | ...   |\n",
       "| seq000       | 48        | 55        | ETS        | .          | ...   |\n",
       "| seq001       | 6         | 13        | ETS        | .          | ...   |\n",
       "| ...          | ...       | ...       | ...        | ...        | ...   |\n",
       "| seq995       | 8         | 15        | ETS        | .          | ...   |\n",
       "| seq996       | 54        | 61        | ETS        | .          | ...   |\n",
       "| seq997       | 35        | 42        | ETS        | .          | ...   |\n",
       "| seq997       | 1         | 8         | GATA       | .          | ...   |\n",
       "+--------------+-----------+-----------+------------+------------+-------+\n",
       "Stranded PyRanges object has 1,400 rows and 7 columns from 745 chromosomes.\n",
       "For printing, the PyRanges was sorted on Chromosome and Strand.\n",
       "2 hidden columns: Strand, agg_scores"
      ]
     },
     "execution_count": 73,
     "metadata": {},
     "output_type": "execute_result"
    }
   ],
   "source": []
  },
  {
   "cell_type": "code",
   "execution_count": 56,
   "id": "4ebeaf05",
   "metadata": {},
   "outputs": [],
   "source": [
    "ranges = sdata.pos_annot"
   ]
  },
  {
   "cell_type": "code",
   "execution_count": 58,
   "id": "fa5e0313",
   "metadata": {},
   "outputs": [
    {
     "ename": "TypeError",
     "evalue": "'PyRanges' object does not support item assignment",
     "output_type": "error",
     "traceback": [
      "\u001b[0;31m---------------------------------------------------------------------------\u001b[0m",
      "\u001b[0;31mTypeError\u001b[0m                                 Traceback (most recent call last)",
      "\u001b[0;32m/tmp/ipykernel_1055676/3025634434.py\u001b[0m in \u001b[0;36m<module>\u001b[0;34m\u001b[0m\n\u001b[0;32m----> 1\u001b[0;31m \u001b[0mranges\u001b[0m\u001b[0;34m[\u001b[0m\u001b[0;34m\"agg\"\u001b[0m\u001b[0;34m]\u001b[0m \u001b[0;34m=\u001b[0m \u001b[0;34m\"test\"\u001b[0m\u001b[0;34m\u001b[0m\u001b[0;34m\u001b[0m\u001b[0m\n\u001b[0m",
      "\u001b[0;31mTypeError\u001b[0m: 'PyRanges' object does not support item assignment"
     ]
    }
   ],
   "source": [
    "ranges[\"agg\"] = \"test\""
   ]
  },
  {
   "cell_type": "code",
   "execution_count": 59,
   "id": "793349bb",
   "metadata": {},
   "outputs": [
    {
     "data": {
      "text/html": [
       "<div>\n",
       "<style scoped>\n",
       "    .dataframe tbody tr th:only-of-type {\n",
       "        vertical-align: middle;\n",
       "    }\n",
       "\n",
       "    .dataframe tbody tr th {\n",
       "        vertical-align: top;\n",
       "    }\n",
       "\n",
       "    .dataframe thead th {\n",
       "        text-align: right;\n",
       "    }\n",
       "</style>\n",
       "<table border=\"1\" class=\"dataframe\">\n",
       "  <thead>\n",
       "    <tr style=\"text-align: right;\">\n",
       "      <th></th>\n",
       "      <th>Chromosome</th>\n",
       "      <th>Start</th>\n",
       "      <th>End</th>\n",
       "      <th>Name</th>\n",
       "      <th>Score</th>\n",
       "      <th>Strand</th>\n",
       "    </tr>\n",
       "  </thead>\n",
       "  <tbody>\n",
       "    <tr>\n",
       "      <th>0</th>\n",
       "      <td>seq000</td>\n",
       "      <td>27</td>\n",
       "      <td>34</td>\n",
       "      <td>ETS</td>\n",
       "      <td>.</td>\n",
       "      <td>+</td>\n",
       "    </tr>\n",
       "    <tr>\n",
       "      <th>1</th>\n",
       "      <td>seq000</td>\n",
       "      <td>47</td>\n",
       "      <td>54</td>\n",
       "      <td>GATA</td>\n",
       "      <td>.</td>\n",
       "      <td>-</td>\n",
       "    </tr>\n",
       "    <tr>\n",
       "      <th>2</th>\n",
       "      <td>seq000</td>\n",
       "      <td>48</td>\n",
       "      <td>55</td>\n",
       "      <td>ETS</td>\n",
       "      <td>.</td>\n",
       "      <td>-</td>\n",
       "    </tr>\n",
       "    <tr>\n",
       "      <th>3</th>\n",
       "      <td>seq001</td>\n",
       "      <td>6</td>\n",
       "      <td>13</td>\n",
       "      <td>ETS</td>\n",
       "      <td>.</td>\n",
       "      <td>+</td>\n",
       "    </tr>\n",
       "    <tr>\n",
       "      <th>4</th>\n",
       "      <td>seq002</td>\n",
       "      <td>5</td>\n",
       "      <td>12</td>\n",
       "      <td>ETS</td>\n",
       "      <td>.</td>\n",
       "      <td>+</td>\n",
       "    </tr>\n",
       "    <tr>\n",
       "      <th>...</th>\n",
       "      <td>...</td>\n",
       "      <td>...</td>\n",
       "      <td>...</td>\n",
       "      <td>...</td>\n",
       "      <td>...</td>\n",
       "      <td>...</td>\n",
       "    </tr>\n",
       "    <tr>\n",
       "      <th>1395</th>\n",
       "      <td>seq994</td>\n",
       "      <td>20</td>\n",
       "      <td>27</td>\n",
       "      <td>ETS</td>\n",
       "      <td>.</td>\n",
       "      <td>-</td>\n",
       "    </tr>\n",
       "    <tr>\n",
       "      <th>1396</th>\n",
       "      <td>seq995</td>\n",
       "      <td>8</td>\n",
       "      <td>15</td>\n",
       "      <td>ETS</td>\n",
       "      <td>.</td>\n",
       "      <td>+</td>\n",
       "    </tr>\n",
       "    <tr>\n",
       "      <th>1397</th>\n",
       "      <td>seq996</td>\n",
       "      <td>54</td>\n",
       "      <td>61</td>\n",
       "      <td>ETS</td>\n",
       "      <td>.</td>\n",
       "      <td>-</td>\n",
       "    </tr>\n",
       "    <tr>\n",
       "      <th>1398</th>\n",
       "      <td>seq997</td>\n",
       "      <td>35</td>\n",
       "      <td>42</td>\n",
       "      <td>ETS</td>\n",
       "      <td>.</td>\n",
       "      <td>+</td>\n",
       "    </tr>\n",
       "    <tr>\n",
       "      <th>1399</th>\n",
       "      <td>seq997</td>\n",
       "      <td>1</td>\n",
       "      <td>8</td>\n",
       "      <td>GATA</td>\n",
       "      <td>.</td>\n",
       "      <td>-</td>\n",
       "    </tr>\n",
       "  </tbody>\n",
       "</table>\n",
       "<p>1400 rows × 6 columns</p>\n",
       "</div>"
      ],
      "text/plain": [
       "     Chromosome  Start  End  Name Score Strand\n",
       "0        seq000     27   34   ETS     .      +\n",
       "1        seq000     47   54  GATA     .      -\n",
       "2        seq000     48   55   ETS     .      -\n",
       "3        seq001      6   13   ETS     .      +\n",
       "4        seq002      5   12   ETS     .      +\n",
       "...         ...    ...  ...   ...   ...    ...\n",
       "1395     seq994     20   27   ETS     .      -\n",
       "1396     seq995      8   15   ETS     .      +\n",
       "1397     seq996     54   61   ETS     .      -\n",
       "1398     seq997     35   42   ETS     .      +\n",
       "1399     seq997      1    8  GATA     .      -\n",
       "\n",
       "[1400 rows x 6 columns]"
      ]
     },
     "execution_count": 59,
     "metadata": {},
     "output_type": "execute_result"
    }
   ],
   "source": [
    "ranges.df"
   ]
  },
  {
   "cell_type": "markdown",
   "id": "b6c76d81",
   "metadata": {},
   "source": [
    "---"
   ]
  },
  {
   "cell_type": "markdown",
   "id": "82f8fb8c-1a13-4b47-a39d-970f9cba3b1b",
   "metadata": {
    "tags": []
   },
   "source": [
    "# Scratch "
   ]
  },
  {
   "cell_type": "code",
   "execution_count": null,
   "id": "879ad96b",
   "metadata": {},
   "outputs": [
    {
     "data": {
      "image/png": "[encoded data removed]",
      "text/plain": [
       "<IPython.core.display.Image object>"
      ]
     },
     "metadata": {},
     "output_type": "display_data"
    }
   ],
   "source": [
    "eu.pl.plot_logo(seqlogo.Pwm(test.pwm))"
   ]
  },
  {
   "cell_type": "code",
   "execution_count": null,
   "id": "615b73b7",
   "metadata": {},
   "outputs": [
    {
     "data": {
      "image/png": "[encoded data removed]",
      "text/plain": [
       "<IPython.core.display.Image object>"
      ]
     },
     "metadata": {},
     "output_type": "display_data"
    }
   ],
   "source": [
    "eu.pl.plot_logo(seqlogo.CompletePm(seqlogo.pfm2pwm(test.pwm)))"
   ]
  },
  {
   "cell_type": "code",
   "execution_count": null,
   "id": "475e1748",
   "metadata": {},
   "outputs": [
    {
     "data": {
      "image/png": "[encoded data removed]",
      "text/plain": [
       "<IPython.core.display.Image object>"
      ]
     },
     "metadata": {},
     "output_type": "display_data"
    }
   ],
   "source": [
    "eu.pl.plot_logo(seqlogo.CompletePm(test.pwm))"
   ]
  },
  {
   "cell_type": "code",
   "execution_count": null,
   "id": "4562839a",
   "metadata": {},
   "outputs": [
    {
     "ename": "AttributeError",
     "evalue": "'DataFrame' object has no attribute '_alphabet_type'",
     "output_type": "error",
     "traceback": [
      "\u001b[0;31m---------------------------------------------------------------------------\u001b[0m\n",
      "\u001b[0;31mAttributeError\u001b[0m                            Traceback (most recent call last)\n",
      "\u001b[0;32m/tmp/ipykernel_1686654/3260621901.py\u001b[0m in \u001b[0;36m<module>\u001b[0;34m\u001b[0m\n",
      "\u001b[0;32m----> 1\u001b[0;31m \u001b[0meu\u001b[0m\u001b[0;34m.\u001b[0m\u001b[0mpl\u001b[0m\u001b[0;34m.\u001b[0m\u001b[0mplot_logo\u001b[0m\u001b[0;34m(\u001b[0m\u001b[0mtest\u001b[0m\u001b[0;34m.\u001b[0m\u001b[0mpwm\u001b[0m\u001b[0;34m)\u001b[0m\u001b[0;34m\u001b[0m\u001b[0;34m\u001b[0m\u001b[0m\n",
      "\u001b[0m\n",
      "\u001b[0;32m/mnt/beegfs/users/aklie/projects/EUGENE/eugene/plotting/_plotting.py\u001b[0m in \u001b[0;36mplot_logo\u001b[0;34m(cpm, **kwargs)\u001b[0m\n",
      "\u001b[1;32m      8\u001b[0m \u001b[0;34m\u001b[0m\u001b[0m\n",
      "\u001b[1;32m      9\u001b[0m \u001b[0;32mdef\u001b[0m \u001b[0mplot_logo\u001b[0m\u001b[0;34m(\u001b[0m\u001b[0mcpm\u001b[0m\u001b[0;34m,\u001b[0m \u001b[0;34m**\u001b[0m\u001b[0mkwargs\u001b[0m\u001b[0;34m)\u001b[0m\u001b[0;34m:\u001b[0m\u001b[0;34m\u001b[0m\u001b[0;34m\u001b[0m\u001b[0m\n",
      "\u001b[0;32m---> 10\u001b[0;31m     \u001b[0mlogo\u001b[0m \u001b[0;34m=\u001b[0m \u001b[0mseqlogo\u001b[0m\u001b[0;34m.\u001b[0m\u001b[0mseqlogo\u001b[0m\u001b[0;34m(\u001b[0m\u001b[0mcpm\u001b[0m\u001b[0;34m,\u001b[0m \u001b[0mic_scale\u001b[0m \u001b[0;34m=\u001b[0m \u001b[0;32mTrue\u001b[0m\u001b[0;34m,\u001b[0m \u001b[0mformat\u001b[0m \u001b[0;34m=\u001b[0m \u001b[0;34m'png'\u001b[0m\u001b[0;34m,\u001b[0m \u001b[0msize\u001b[0m \u001b[0;34m=\u001b[0m \u001b[0;34m'medium'\u001b[0m\u001b[0;34m)\u001b[0m\u001b[0;34m\u001b[0m\u001b[0;34m\u001b[0m\u001b[0m\n",
      "\u001b[0m\u001b[1;32m     11\u001b[0m     \u001b[0mdisplay\u001b[0m\u001b[0;34m(\u001b[0m\u001b[0mlogo\u001b[0m\u001b[0;34m)\u001b[0m\u001b[0;34m\u001b[0m\u001b[0;34m\u001b[0m\u001b[0m\n",
      "\u001b[1;32m     12\u001b[0m \u001b[0;34m\u001b[0m\u001b[0m\n",
      "\n",
      "\u001b[0;32m~/opt/miniconda3/envs/eugene/lib/python3.7/site-packages/seqlogo/seqlogo.py\u001b[0m in \u001b[0;36mseqlogo\u001b[0;34m(pm, ic_scale, color_scheme, size, format, filename, **kwargs)\u001b[0m\n",
      "\u001b[1;32m     59\u001b[0m     \"\"\"\n",
      "\u001b[1;32m     60\u001b[0m     \u001b[0;31m# Ensure color scheme matches the alphabet\u001b[0m\u001b[0;34m\u001b[0m\u001b[0;34m\u001b[0m\u001b[0;34m\u001b[0m\u001b[0m\n",
      "\u001b[0;32m---> 61\u001b[0;31m     \u001b[0;32mif\u001b[0m \u001b[0mpm\u001b[0m\u001b[0;34m.\u001b[0m\u001b[0m_alphabet_type\u001b[0m \u001b[0;32min\u001b[0m \u001b[0mutils\u001b[0m\u001b[0;34m.\u001b[0m\u001b[0m_NA_ALPHABETS\u001b[0m\u001b[0;34m:\u001b[0m\u001b[0;34m\u001b[0m\u001b[0;34m\u001b[0m\u001b[0m\n",
      "\u001b[0m\u001b[1;32m     62\u001b[0m         \u001b[0;32mif\u001b[0m \u001b[0mcolor_scheme\u001b[0m \u001b[0;32mis\u001b[0m \u001b[0;32mNone\u001b[0m\u001b[0;34m:\u001b[0m\u001b[0;34m\u001b[0m\u001b[0;34m\u001b[0m\u001b[0m\n",
      "\u001b[1;32m     63\u001b[0m             \u001b[0mcolor_scheme\u001b[0m \u001b[0;34m=\u001b[0m \u001b[0;34m'classic'\u001b[0m\u001b[0;34m\u001b[0m\u001b[0;34m\u001b[0m\u001b[0m\n",
      "\n",
      "\u001b[0;32m~/opt/miniconda3/envs/eugene/lib/python3.7/site-packages/pandas/core/generic.py\u001b[0m in \u001b[0;36m__getattr__\u001b[0;34m(self, name)\u001b[0m\n",
      "\u001b[1;32m   5485\u001b[0m         ):\n",
      "\u001b[1;32m   5486\u001b[0m             \u001b[0;32mreturn\u001b[0m \u001b[0mself\u001b[0m\u001b[0;34m[\u001b[0m\u001b[0mname\u001b[0m\u001b[0;34m]\u001b[0m\u001b[0;34m\u001b[0m\u001b[0;34m\u001b[0m\u001b[0m\n",
      "\u001b[0;32m-> 5487\u001b[0;31m         \u001b[0;32mreturn\u001b[0m \u001b[0mobject\u001b[0m\u001b[0;34m.\u001b[0m\u001b[0m__getattribute__\u001b[0m\u001b[0;34m(\u001b[0m\u001b[0mself\u001b[0m\u001b[0;34m,\u001b[0m \u001b[0mname\u001b[0m\u001b[0;34m)\u001b[0m\u001b[0;34m\u001b[0m\u001b[0;34m\u001b[0m\u001b[0m\n",
      "\u001b[0m\u001b[1;32m   5488\u001b[0m \u001b[0;34m\u001b[0m\u001b[0m\n",
      "\u001b[1;32m   5489\u001b[0m     \u001b[0;32mdef\u001b[0m \u001b[0m__setattr__\u001b[0m\u001b[0;34m(\u001b[0m\u001b[0mself\u001b[0m\u001b[0;34m,\u001b[0m \u001b[0mname\u001b[0m\u001b[0;34m:\u001b[0m \u001b[0mstr\u001b[0m\u001b[0;34m,\u001b[0m \u001b[0mvalue\u001b[0m\u001b[0;34m)\u001b[0m \u001b[0;34m->\u001b[0m \u001b[0;32mNone\u001b[0m\u001b[0;34m:\u001b[0m\u001b[0;34m\u001b[0m\u001b[0;34m\u001b[0m\u001b[0m\n",
      "\n",
      "\u001b[0;31mAttributeError\u001b[0m: 'DataFrame' object has no attribute '_alphabet_type'"
     ]
    }
   ],
   "source": [
    "eu.pl.plot_logo(test.pwm)"
   ]
  },
  {
   "cell_type": "code",
   "execution_count": null,
   "id": "0d1e0b03",
   "metadata": {},
   "outputs": [
    {
     "data": {
      "text/html": [
       "<div>\n",
       "<style scoped>\n",
       "    .dataframe tbody tr th:only-of-type {\n",
       "        vertical-align: middle;\n",
       "    }\n",
       "\n",
       "    .dataframe tbody tr th {\n",
       "        vertical-align: top;\n",
       "    }\n",
       "\n",
       "    .dataframe thead th {\n",
       "        text-align: right;\n",
       "    }\n",
       "</style>\n",
       "<table border=\"1\" class=\"dataframe\">\n",
       "  <thead>\n",
       "    <tr style=\"text-align: right;\">\n",
       "      <th></th>\n",
       "      <th>A</th>\n",
       "      <th>C</th>\n",
       "      <th>G</th>\n",
       "      <th>T</th>\n",
       "    </tr>\n",
       "  </thead>\n",
       "  <tbody>\n",
       "    <tr>\n",
       "      <th>0</th>\n",
       "      <td>-31.219281</td>\n",
       "      <td>-31.219281</td>\n",
       "      <td>1.176816</td>\n",
       "      <td>0.798446</td>\n",
       "    </tr>\n",
       "    <tr>\n",
       "      <th>1</th>\n",
       "      <td>0.155128</td>\n",
       "      <td>0.462382</td>\n",
       "      <td>-1.189307</td>\n",
       "      <td>0.097814</td>\n",
       "    </tr>\n",
       "    <tr>\n",
       "      <th>2</th>\n",
       "      <td>0.993165</td>\n",
       "      <td>-0.938109</td>\n",
       "      <td>-1.377950</td>\n",
       "      <td>0.141133</td>\n",
       "    </tr>\n",
       "    <tr>\n",
       "      <th>3</th>\n",
       "      <td>-3.577362</td>\n",
       "      <td>1.239084</td>\n",
       "      <td>0.006536</td>\n",
       "      <td>-0.859352</td>\n",
       "    </tr>\n",
       "  </tbody>\n",
       "</table>\n",
       "</div>"
      ],
      "text/plain": [
       "           A          C         G         T\n",
       "0 -31.219281 -31.219281  1.176816  0.798446\n",
       "1   0.155128   0.462382 -1.189307  0.097814\n",
       "2   0.993165  -0.938109 -1.377950  0.141133\n",
       "3  -3.577362   1.239084  0.006536 -0.859352"
      ]
     },
     "metadata": {},
     "output_type": "display_data"
    }
   ],
   "source": [
    "test.pwm"
   ]
  },
  {
   "cell_type": "code",
   "execution_count": null,
   "id": "675c396c",
   "metadata": {},
   "outputs": [
    {
     "data": {
      "image/png": "[encoded data removed]",
      "text/plain": [
       "<IPython.core.display.Image object>"
      ]
     },
     "metadata": {},
     "output_type": "display_data"
    }
   ],
   "source": [
    "eu.pl.plot_logo(cpms[0])"
   ]
  },
  {
   "cell_type": "code",
   "execution_count": null,
   "id": "fc7021c1",
   "metadata": {},
   "outputs": [],
   "source": [
    "from eugene.interpret._filters_to_pwms import _get_first_conv_layer, _get_activations_from_layer, _get_filter_activators, _get_pwms"
   ]
  },
  {
   "cell_type": "code",
   "execution_count": null,
   "id": "38347f9a",
   "metadata": {},
   "outputs": [
    {
     "data": {
      "application/vnd.jupyter.widget-view+json": {
       "model_id": "e5d396ba462e4d8bba2c5268f66f70fa",
       "version_major": 2,
       "version_minor": 0
      },
      "text/plain": [
       "0it [00:00, ?it/s]"
      ]
     },
     "metadata": {},
     "output_type": "display_data"
    },
    {
     "name": "stdout",
     "output_type": "stream",
     "text": [
      "0 :  10791 0.8560847\n",
      "1 :  4871 0.51075804\n",
      "2 :  22152 0.6268455\n",
      "3 :  9928 0.23927915\n",
      "4 :  2189 0.4935101\n",
      "5 :  7029 0.60175943\n",
      "6 :  5643 0.73942125\n",
      "7 :  5516 0.44271824\n",
      "8 :  5394 0.5266361\n",
      "9 :  5678 0.38835356\n",
      "10 :  12754 0.7448571\n",
      "11 :  27066 0.80411243\n",
      "12 :  12252 0.8845444\n",
      "13 :  8503 0.56819844\n",
      "14 :  24998 0.8837944\n",
      "15 :  22720 0.5602239\n"
     ]
    },
    {
     "data": {
      "application/vnd.jupyter.widget-view+json": {
       "model_id": "977acfb990004f8782de0148cbd95294",
       "version_major": 2,
       "version_minor": 0
      },
      "text/plain": [
       "0it [00:00, ?it/s]"
      ]
     },
     "metadata": {},
     "output_type": "display_data"
    }
   ],
   "source": [
    "layer = _get_first_conv_layer(eugene)\n",
    "acts, seqs = _get_activations_from_layer(layer, sdataloader)\n",
    "activators = _get_filter_activators(acts, seqs, layer)\n",
    "pwms = _get_pwms(activators, layer.kernel_size[0])"
   ]
  },
  {
   "cell_type": "code",
   "execution_count": null,
   "id": "3c53223f",
   "metadata": {},
   "outputs": [
    {
     "data": {
      "text/html": [
       "<div>\n",
       "<style scoped>\n",
       "    .dataframe tbody tr th:only-of-type {\n",
       "        vertical-align: middle;\n",
       "    }\n",
       "\n",
       "    .dataframe tbody tr th {\n",
       "        vertical-align: top;\n",
       "    }\n",
       "\n",
       "    .dataframe thead th {\n",
       "        text-align: right;\n",
       "    }\n",
       "</style>\n",
       "<table border=\"1\" class=\"dataframe\">\n",
       "  <thead>\n",
       "    <tr style=\"text-align: right;\">\n",
       "      <th></th>\n",
       "      <th>A</th>\n",
       "      <th>C</th>\n",
       "      <th>G</th>\n",
       "      <th>T</th>\n",
       "    </tr>\n",
       "  </thead>\n",
       "  <tbody>\n",
       "    <tr>\n",
       "      <th>0</th>\n",
       "      <td>-31.219281</td>\n",
       "      <td>-31.219281</td>\n",
       "      <td>1.176816</td>\n",
       "      <td>0.798446</td>\n",
       "    </tr>\n",
       "    <tr>\n",
       "      <th>1</th>\n",
       "      <td>0.155128</td>\n",
       "      <td>0.462382</td>\n",
       "      <td>-1.189307</td>\n",
       "      <td>0.097814</td>\n",
       "    </tr>\n",
       "    <tr>\n",
       "      <th>2</th>\n",
       "      <td>0.993165</td>\n",
       "      <td>-0.938109</td>\n",
       "      <td>-1.377950</td>\n",
       "      <td>0.141133</td>\n",
       "    </tr>\n",
       "    <tr>\n",
       "      <th>3</th>\n",
       "      <td>-3.577362</td>\n",
       "      <td>1.239084</td>\n",
       "      <td>0.006536</td>\n",
       "      <td>-0.859352</td>\n",
       "    </tr>\n",
       "  </tbody>\n",
       "</table>\n",
       "</div>"
      ],
      "text/plain": [
       "           A          C         G         T\n",
       "0 -31.219281 -31.219281  1.176816  0.798446\n",
       "1   0.155128   0.462382 -1.189307  0.097814\n",
       "2   0.993165  -0.938109 -1.377950  0.141133\n",
       "3  -3.577362   1.239084  0.006536 -0.859352"
      ]
     },
     "metadata": {},
     "output_type": "display_data"
    }
   ],
   "source": [
    "pwms.pwm"
   ]
  },
  {
   "cell_type": "code",
   "execution_count": null,
   "id": "9e5c5177-bbaa-4c7b-99d7-0cab1ca8c69b",
   "metadata": {
    "execution": {
     "iopub.execute_input": "2022-05-04T17:01:42.229703Z",
     "iopub.status.busy": "2022-05-04T17:01:42.229481Z",
     "iopub.status.idle": "2022-05-04T17:01:43.713523Z",
     "shell.execute_reply": "2022-05-04T17:01:43.713088Z",
     "shell.execute_reply.started": "2022-05-04T17:01:42.229675Z"
    },
    "tags": []
   },
   "outputs": [],
   "source": [
    "pwms = get_first_conv_layer(eugene)"
   ]
  },
  {
   "cell_type": "code",
   "execution_count": null,
   "id": "43a6aa62-ec3c-48cb-9d23-fc9f2f76bb4c",
   "metadata": {
    "execution": {
     "iopub.execute_input": "2022-05-04T18:07:54.138976Z",
     "iopub.status.busy": "2022-05-04T18:07:54.138801Z",
     "iopub.status.idle": "2022-05-04T18:07:55.450125Z",
     "shell.execute_reply": "2022-05-04T18:07:55.449778Z",
     "shell.execute_reply.started": "2022-05-04T18:07:54.138958Z"
    }
   },
   "outputs": [
    {
     "data": {
      "text/plain": [
       "torch.Size([32, 4, 15])"
      ]
     },
     "metadata": {},
     "output_type": "display_data"
    }
   ],
   "source": [
    "pwms.size()"
   ]
  },
  {
   "cell_type": "code",
   "execution_count": null,
   "id": "687a1313-8fdb-499b-82d0-2b681bb0aa71",
   "metadata": {
    "execution": {
     "iopub.execute_input": "2022-05-04T17:01:45.726569Z",
     "iopub.status.busy": "2022-05-04T17:01:45.726396Z",
     "iopub.status.idle": "2022-05-04T17:01:47.536098Z",
     "shell.execute_reply": "2022-05-04T17:01:47.535714Z",
     "shell.execute_reply.started": "2022-05-04T17:01:45.726551Z"
    },
    "tags": []
   },
   "outputs": [
    {
     "data": {
      "image/png": "[encoded data removed]",
      "text/plain": [
       "<Figure size 720x180 with 1 Axes>"
      ]
     },
     "metadata": {},
     "output_type": "display_data"
    }
   ],
   "source": [
    "for pwm in pwms:\n",
    "    pwm_df = pd.DataFrame(columns=[\"A\", \"C\", \"G\", \"T\"], data=pwm.T.detach().numpy())\n",
    "    lm.Logo(pwm_df)\n",
    "    break"
   ]
  },
  {
   "cell_type": "code",
   "execution_count": null,
   "id": "b2cba1fb-8f2c-41d4-b886-2aefd8e4d93f",
   "metadata": {
    "execution": {
     "iopub.execute_input": "2022-05-04T05:44:49.701661Z",
     "iopub.status.busy": "2022-05-04T05:44:49.701553Z",
     "iopub.status.idle": "2022-05-04T05:44:54.577706Z",
     "shell.execute_reply": "2022-05-04T05:44:54.577358Z",
     "shell.execute_reply.started": "2022-05-04T05:44:49.701645Z"
    },
    "tags": []
   },
   "outputs": [],
   "source": [
    "from eugene.interpret.nn_explain import nn_explain"
   ]
  },
  {
   "cell_type": "code",
   "execution_count": null,
   "id": "5ef47e60-1592-4e30-a378-57b03311aad7",
   "metadata": {
    "execution": {
     "iopub.execute_input": "2022-05-04T05:44:54.579343Z",
     "iopub.status.busy": "2022-05-04T05:44:54.579140Z",
     "iopub.status.idle": "2022-05-04T05:44:56.158941Z",
     "shell.execute_reply": "2022-05-04T05:44:56.158592Z",
     "shell.execute_reply.started": "2022-05-04T05:44:54.579327Z"
    },
    "tags": []
   },
   "outputs": [],
   "source": [
    "# Get access to the dataloader\n",
    "mod.setup()\n",
    "dataloader = mod.test_dataloader()\n",
    "dataset = dataloader.dataset"
   ]
  },
  {
   "cell_type": "code",
   "execution_count": null,
   "id": "b0b20d4c-b174-401e-99b3-418c3d9fb0b5",
   "metadata": {
    "tags": []
   },
   "outputs": [],
   "source": [
    "dataset_len = len(dataset)\n",
    "example_shape = dataset[0][1].numpy().shape\n",
    "all_explanations = np.zeros((dataset_len, *example_shape))\n",
    "for i_batch, batch in enumerate(dataloader):\n",
    "    ID, x, x_rev_comp, y = batch\n",
    "    curr_explanations = nn_explain(eugene, (x, x_rev_comp), saliency_type=\"Saliency\", device=device)\n",
    "    if (i_batch+1)*BATCH_SIZE < dataset_len:\n",
    "        print(i_batch*BATCH_SIZE, (i_batch+1)*BATCH_SIZE)\n",
    "        all_explanations[i_batch*BATCH_SIZE: (i_batch+1)*BATCH_SIZE] = curr_explanations\n",
    "    else:\n",
    "        print(i_batch*BATCH_SIZE, dataset_len)\n",
    "        all_explanations[i_batch*BATCH_SIZE:dataset_len] = curr_explanations"
   ]
  },
  {
   "cell_type": "code",
   "execution_count": null,
   "id": "f5e7cb55-7b9e-4991-a395-3f8f25120a06",
   "metadata": {
    "execution": {
     "iopub.execute_input": "2022-05-04T05:35:25.165884Z",
     "iopub.status.busy": "2022-05-04T05:35:25.165752Z",
     "iopub.status.idle": "2022-05-04T05:35:26.593326Z",
     "shell.execute_reply": "2022-05-04T05:35:26.592955Z",
     "shell.execute_reply.started": "2022-05-04T05:35:25.165867Z"
    },
    "tags": []
   },
   "outputs": [],
   "source": [
    "from eugene.utils.otx_enhancer_utils import otxGenomeTracks"
   ]
  },
  {
   "cell_type": "code",
   "execution_count": null,
   "id": "02a10f42-17e7-40ef-8600-5b91d533c771",
   "metadata": {
    "execution": {
     "iopub.execute_input": "2022-05-04T05:35:26.594114Z",
     "iopub.status.busy": "2022-05-04T05:35:26.593996Z",
     "iopub.status.idle": "2022-05-04T05:35:29.168443Z",
     "shell.execute_reply": "2022-05-04T05:35:29.168079Z",
     "shell.execute_reply.started": "2022-05-04T05:35:26.594097Z"
    },
    "tags": []
   },
   "outputs": [
    {
     "data": {
      "image/png": "[encoded data removed]",
      "text/plain": [
       "<Figure size 864x288 with 2 Axes>"
      ]
     },
     "metadata": {
      "needs_background": "light"
     },
     "output_type": "display_data"
    }
   ],
   "source": [
    "# Visualize the first example\n",
    "cmap = mpl.cm.RdYlGn\n",
    "norm = mpl.colors.Normalize(vmin=0, vmax=1)\n",
    "otxGenomeTracks(dataset.seqs[0], \n",
    "                importance_scores=all_explanations[0], \n",
    "                seq_name=dataset.names[0], \n",
    "                cmap=cmap, \n",
    "                norm=norm)"
   ]
  },
  {
   "cell_type": "code",
   "execution_count": null,
   "id": "89a063d4-093b-4781-9a7b-f75cb4a6054d",
   "metadata": {
    "execution": {
     "iopub.execute_input": "2022-05-04T05:26:22.130846Z",
     "iopub.status.busy": "2022-05-04T05:26:22.130620Z",
     "iopub.status.idle": "2022-05-04T05:26:23.747537Z",
     "shell.execute_reply": "2022-05-04T05:26:23.747043Z",
     "shell.execute_reply.started": "2022-05-04T05:26:22.130816Z"
    },
    "tags": []
   },
   "outputs": [],
   "source": [
    "from captum.attr import DeepLift\n",
    "def deeplift_explain(model, inputs, ref_type=\"zero\", target=None, device=\"cpu\"):\n",
    "    model.train()\n",
    "    model.to(device)\n",
    "    deep_lift = DeepLift(model)\n",
    "    forward_inputs = inputs[0].requires_grad_().to(device)\n",
    "    reverse_inputs = inputs[1].requires_grad_().to(device)\n",
    "    if ref_type == \"zero\":\n",
    "        forward_ref = torch.zeros(inputs[0].size()).to(device)\n",
    "        reverse_ref = torch.zeros(inputs[1].size()).to(device)\n",
    "    elif ref_type == \"shuffle\":\n",
    "        forward_shuffled = forward_inputs.detach().to(\"cpu\").squeeze(dim=0).numpy()\n",
    "        forward_shuffled = reverse_inputs.detach().to(\"cpu\").squeeze(dim=0).numpy()\n",
    "        forward_ref = torch.tensor(dinuc_shuffle(forward_shuffled)).unsqueeze(dim=0).requires_grad_().to(device)\n",
    "        reverse_ref = torch.tensor(dinuc_shuffle(reverse_ref)).unsqueeze(dim=0).requires_grad_().to(device)\n",
    "    elif ref_type == \"gc\":\n",
    "        ref = torch.tensor([0.3, 0.2, 0.2, 0.3]).expand(forward_inputs.size()[1], 4).unsqueeze(dim=0).to(device)\n",
    "    attrs = deep_lift.attribute(inputs=forward_inputs, baselines=forward_ref, additional_forward_args=reverse_inputs)\n",
    "    return attrs.to(\"cpu\").detach().numpy()"
   ]
  },
  {
   "cell_type": "code",
   "execution_count": null,
   "id": "327e371b-a728-4265-b24f-acf9fc8b0539",
   "metadata": {
    "execution": {
     "iopub.execute_input": "2022-05-04T05:30:42.088573Z",
     "iopub.status.busy": "2022-05-04T05:30:42.088428Z",
     "iopub.status.idle": "2022-05-04T05:30:43.128485Z",
     "shell.execute_reply": "2022-05-04T05:30:43.127964Z",
     "shell.execute_reply.started": "2022-05-04T05:30:42.088557Z"
    },
    "tags": []
   },
   "outputs": [],
   "source": [
    "inputs = (dataset[0][1], dataset[0][1])\n",
    "forward_inputs = inputs[0].requires_grad_().to(device)\n",
    "reverse_inputs = inputs[1].requires_grad_().to(device)\n",
    "dev_inputs = (forward_inputs, reverse_inputs)"
   ]
  },
  {
   "cell_type": "code",
   "execution_count": null,
   "id": "6bc26e1a-14ab-4e68-b9b4-5ba9fb101cd0",
   "metadata": {
    "execution": {
     "iopub.execute_input": "2022-05-04T05:34:15.460525Z",
     "iopub.status.busy": "2022-05-04T05:34:15.460355Z",
     "iopub.status.idle": "2022-05-04T05:34:16.740207Z",
     "shell.execute_reply": "2022-05-04T05:34:16.739677Z",
     "shell.execute_reply.started": "2022-05-04T05:34:15.460508Z"
    },
    "tags": []
   },
   "outputs": [
    {
     "ename": "ValueError",
     "evalue": "could not broadcast input array from shape (1024,37) into shape (1024,)",
     "output_type": "error",
     "traceback": [
      "\u001b[0;31m---------------------------------------------------------------------------\u001b[0m",
      "\u001b[0;31mValueError\u001b[0m                                Traceback (most recent call last)",
      "\u001b[0;32m<ipython-input-207-aaa32eb8a94b>\u001b[0m in \u001b[0;36m<module>\u001b[0;34m\u001b[0m\n\u001b[0;32m----> 1\u001b[0;31m \u001b[0mdeeplift_explain\u001b[0m\u001b[0;34m(\u001b[0m\u001b[0meugene\u001b[0m\u001b[0;34m,\u001b[0m \u001b[0;34m(\u001b[0m\u001b[0mdataset\u001b[0m\u001b[0;34m[\u001b[0m\u001b[0;34m:\u001b[0m\u001b[0;36m1024\u001b[0m\u001b[0;34m]\u001b[0m\u001b[0;34m[\u001b[0m\u001b[0;36m1\u001b[0m\u001b[0;34m]\u001b[0m\u001b[0;34m,\u001b[0m \u001b[0mdataset\u001b[0m\u001b[0;34m[\u001b[0m\u001b[0;34m:\u001b[0m\u001b[0;36m1024\u001b[0m\u001b[0;34m]\u001b[0m\u001b[0;34m[\u001b[0m\u001b[0;36m2\u001b[0m\u001b[0;34m]\u001b[0m\u001b[0;34m)\u001b[0m\u001b[0;34m,\u001b[0m \u001b[0mdevice\u001b[0m\u001b[0;34m=\u001b[0m\u001b[0mdevice\u001b[0m\u001b[0;34m)\u001b[0m\u001b[0;34m\u001b[0m\u001b[0;34m\u001b[0m\u001b[0m\n\u001b[0m",
      "\u001b[0;32m/mnt/beegfs/users/aklie/projects/EUGENE/eugene/dataloading/SeqDataset.py\u001b[0m in \u001b[0;36m__getitem__\u001b[0;34m(self, idx)\u001b[0m\n\u001b[1;32m     79\u001b[0m             \u001b[0mrev_seq\u001b[0m \u001b[0;34m=\u001b[0m \u001b[0mnp\u001b[0m\u001b[0;34m.\u001b[0m\u001b[0marray\u001b[0m\u001b[0;34m(\u001b[0m\u001b[0;34m[\u001b[0m\u001b[0;34m-\u001b[0m\u001b[0;36m1.0\u001b[0m\u001b[0;34m]\u001b[0m\u001b[0;34m)\u001b[0m\u001b[0;34m\u001b[0m\u001b[0;34m\u001b[0m\u001b[0m\n\u001b[1;32m     80\u001b[0m \u001b[0;34m\u001b[0m\u001b[0m\n\u001b[0;32m---> 81\u001b[0;31m         \u001b[0msample\u001b[0m \u001b[0;34m=\u001b[0m \u001b[0mnp\u001b[0m\u001b[0;34m.\u001b[0m\u001b[0marray\u001b[0m\u001b[0;34m(\u001b[0m\u001b[0;34m[\u001b[0m\u001b[0mname\u001b[0m\u001b[0;34m,\u001b[0m \u001b[0mseq\u001b[0m\u001b[0;34m,\u001b[0m \u001b[0mrev_seq\u001b[0m\u001b[0;34m,\u001b[0m \u001b[0mtarget\u001b[0m\u001b[0;34m]\u001b[0m\u001b[0;34m,\u001b[0m \u001b[0mdtype\u001b[0m\u001b[0;34m=\u001b[0m\u001b[0mobject\u001b[0m\u001b[0;34m)\u001b[0m\u001b[0;34m\u001b[0m\u001b[0;34m\u001b[0m\u001b[0m\n\u001b[0m\u001b[1;32m     82\u001b[0m \u001b[0;34m\u001b[0m\u001b[0m\n\u001b[1;32m     83\u001b[0m         \u001b[0;32mif\u001b[0m \u001b[0mself\u001b[0m\u001b[0;34m.\u001b[0m\u001b[0mtransform\u001b[0m\u001b[0;34m:\u001b[0m\u001b[0;34m\u001b[0m\u001b[0;34m\u001b[0m\u001b[0m\n",
      "\u001b[0;31mValueError\u001b[0m: could not broadcast input array from shape (1024,37) into shape (1024,)"
     ]
    }
   ],
   "source": [
    "deeplift_explain(eugene, (dataset[:1024][1], dataset[:1024][2]), device=device)"
   ]
  },
  {
   "cell_type": "code",
   "execution_count": null,
   "id": "78da52ce-8190-4485-ba5d-53af2bf5f92b",
   "metadata": {},
   "outputs": [],
   "source": []
  },
  {
   "cell_type": "markdown",
   "id": "e2afed57-8f5b-4ed9-a149-d7959a004e8f",
   "metadata": {},
   "source": [
    "## Penultimate activations"
   ]
  },
  {
   "cell_type": "markdown",
   "id": "5c0c4a45-0cd9-46af-a795-6989ca16a7df",
   "metadata": {},
   "source": [
    "## Repeat With Configs"
   ]
  },
  {
   "cell_type": "markdown",
   "id": "bc605263-99ee-4079-bff8-8ae2aee07cd6",
   "metadata": {},
   "source": [
    "## Load the config"
   ]
  },
  {
   "cell_type": "code",
   "execution_count": null,
   "id": "56655786-cb87-40a1-ab76-33031e680a1f",
   "metadata": {
    "execution": {
     "iopub.execute_input": "2022-05-04T05:11:17.210438Z",
     "iopub.status.busy": "2022-05-04T05:11:17.210170Z",
     "iopub.status.idle": "2022-05-04T05:11:18.772107Z",
     "shell.execute_reply": "2022-05-04T05:11:18.771694Z",
     "shell.execute_reply.started": "2022-05-04T05:11:17.210409Z"
    },
    "tags": []
   },
   "outputs": [],
   "source": [
    "import pytorch_lightning as pl\n",
    "from pytorch_lightning.utilities.cli import LightningArgumentParser\n",
    "from pytorch_lightning.loggers import TensorBoardLogger"
   ]
  },
  {
   "cell_type": "code",
   "execution_count": null,
   "id": "397d2add-6e60-492c-b5b1-9ddfe2b23eb5",
   "metadata": {
    "execution": {
     "iopub.execute_input": "2022-05-04T05:11:18.772861Z",
     "iopub.status.busy": "2022-05-04T05:11:18.772745Z",
     "iopub.status.idle": "2022-05-04T05:11:20.295974Z",
     "shell.execute_reply": "2022-05-04T05:11:20.295587Z",
     "shell.execute_reply.started": "2022-05-04T05:11:18.772845Z"
    },
    "tags": []
   },
   "outputs": [],
   "source": [
    "parser = LightningArgumentParser()\n",
    "parser.add_lightning_class_args(pl.Trainer, nested_key=\"trainer\")\n",
    "parser.add_lightning_class_args(SeqDataModule, nested_key=\"data\")\n",
    "parser.add_lightning_class_args(hybrid, nested_key=\"model\");"
   ]
  },
  {
   "cell_type": "code",
   "execution_count": null,
   "id": "35642519-03a9-415d-b43e-8389e22ce872",
   "metadata": {},
   "outputs": [],
   "source": [
    "config = \"/cellar/users/aklie/projects/EUGENE/config/data/2021_OLS_Library_Holdout_NPY-T_bin_clf.yaml\"\n",
    "yml = parser.parse_path(cfg_path=config)"
   ]
  },
  {
   "cell_type": "markdown",
   "id": "7376c187-69c7-4e35-ad69-8c8243b06cf8",
   "metadata": {},
   "source": [
    "## Use to load the data"
   ]
  },
  {
   "cell_type": "code",
   "execution_count": null,
   "id": "7cb45bc5-9301-497b-91b0-5da5c561cd15",
   "metadata": {
    "execution": {
     "iopub.execute_input": "2022-05-04T05:14:42.712925Z",
     "iopub.status.busy": "2022-05-04T05:14:42.712754Z",
     "iopub.status.idle": "2022-05-04T05:14:43.910722Z",
     "shell.execute_reply": "2022-05-04T05:14:43.910205Z",
     "shell.execute_reply.started": "2022-05-04T05:14:42.712907Z"
    }
   },
   "outputs": [],
   "source": [
    "from eugene.dataloading.SeqDataModule import SeqDataModule"
   ]
  },
  {
   "cell_type": "code",
   "execution_count": null,
   "id": "80fb5e90-5f95-4a9c-9af0-a3e898c58571",
   "metadata": {
    "execution": {
     "iopub.execute_input": "2022-05-04T05:11:20.296811Z",
     "iopub.status.busy": "2022-05-04T05:11:20.296650Z",
     "iopub.status.idle": "2022-05-04T05:11:27.071409Z",
     "shell.execute_reply": "2022-05-04T05:11:27.070990Z",
     "shell.execute_reply.started": "2022-05-04T05:11:20.296796Z"
    },
    "tags": []
   },
   "outputs": [],
   "source": [
    "mod = SeqDataModule(**yml[\"data\"])\n",
    "mod.setup()"
   ]
  },
  {
   "cell_type": "markdown",
   "id": "de006f90-3898-4532-8c10-23baa905b642",
   "metadata": {},
   "source": [
    "## Load up the model from checkpoint"
   ]
  },
  {
   "cell_type": "code",
   "execution_count": null,
   "id": "0b5ecf6c-0675-4f57-83db-a646da0285db",
   "metadata": {
    "execution": {
     "iopub.execute_input": "2022-05-04T05:14:24.760642Z",
     "iopub.status.busy": "2022-05-04T05:14:24.760461Z",
     "iopub.status.idle": "2022-05-04T05:14:26.383454Z",
     "shell.execute_reply": "2022-05-04T05:14:26.382962Z",
     "shell.execute_reply.started": "2022-05-04T05:14:24.760624Z"
    },
    "tags": []
   },
   "outputs": [],
   "source": [
    "from eugene.models.hybrid import hybrid"
   ]
  },
  {
   "cell_type": "code",
   "execution_count": null,
   "id": "866cd5d0-060c-4f1a-a573-beab5c2b6a87",
   "metadata": {
    "execution": {
     "iopub.execute_input": "2022-05-04T05:11:28.459934Z",
     "iopub.status.busy": "2022-05-04T05:11:28.459822Z",
     "iopub.status.idle": "2022-05-04T05:11:29.817999Z",
     "shell.execute_reply": "2022-05-04T05:11:29.817496Z",
     "shell.execute_reply.started": "2022-05-04T05:11:28.459919Z"
    },
    "tags": []
   },
   "outputs": [
    {
     "name": "stderr",
     "output_type": "stream",
     "text": [
      "/cellar/users/aklie/opt/miniconda3/envs/pytorch_dev/lib/python3.7/site-packages/torchmetrics/utilities/prints.py:36: UserWarning: Metric `AUROC` will save all targets and predictions in buffer. For large datasets this may lead to large memory footprint.\n",
      "  warnings.warn(*args, **kwargs)\n"
     ]
    }
   ],
   "source": [
    "CKT_PTH  = \"/cellar/users/aklie/projects/EUGENE/results/simple/classification/sshybrid/2022_04_23_NPY_Baseline/checkpoints/epoch=25-step=4523.ckpt\"\n",
    "device = torch.device('cuda' if torch.cuda.is_available() else 'cpu')\n",
    "eugene = hybrid.load_from_checkpoint(\n",
    "    checkpoint_path=CKT_PTH,\n",
    "    map_location=device,\n",
    ")"
   ]
  },
  {
   "cell_type": "code",
   "execution_count": null,
   "id": "1e04c3f9-224f-4a4d-9671-4a3b15f0a1ec",
   "metadata": {
    "execution": {
     "iopub.execute_input": "2022-05-04T02:58:49.560245Z",
     "iopub.status.busy": "2022-05-04T02:58:49.560062Z",
     "iopub.status.idle": "2022-05-04T02:58:51.138702Z",
     "shell.execute_reply": "2022-05-04T02:58:51.138214Z",
     "shell.execute_reply.started": "2022-05-04T02:58:49.560228Z"
    },
    "tags": []
   },
   "outputs": [],
   "source": [
    "from eugene.interpret.nn_explain import get_importances"
   ]
  },
  {
   "cell_type": "code",
   "execution_count": null,
   "id": "41939afc-0ca2-4835-b594-f8de1682b1ef",
   "metadata": {
    "execution": {
     "iopub.execute_input": "2022-05-04T05:12:03.226649Z",
     "iopub.status.busy": "2022-05-04T05:12:03.226410Z",
     "iopub.status.idle": "2022-05-04T05:12:09.720809Z",
     "shell.execute_reply": "2022-05-04T05:12:09.720309Z",
     "shell.execute_reply.started": "2022-05-04T05:12:03.226630Z"
    },
    "tags": []
   },
   "outputs": [],
   "source": [
    "dataloader = mod.test_dataloader()\n",
    "dataset = dataloader.dataset\n",
    "imp = get_importances(eugene, dataloader, device=device, batch_size=yml[\"data\"][\"batch_size\"])"
   ]
  },
  {
   "cell_type": "code",
   "execution_count": null,
   "id": "42d5be31-91f6-497b-97fc-4f806836353c",
   "metadata": {
    "execution": {
     "iopub.execute_input": "2022-05-04T04:44:34.125772Z",
     "iopub.status.busy": "2022-05-04T04:44:34.125600Z",
     "iopub.status.idle": "2022-05-04T04:44:35.797311Z",
     "shell.execute_reply": "2022-05-04T04:44:35.796857Z",
     "shell.execute_reply.started": "2022-05-04T04:44:34.125755Z"
    },
    "tags": []
   },
   "outputs": [],
   "source": [
    "from eugene.utils.seq_utils import one_hot2string"
   ]
  },
  {
   "cell_type": "code",
   "execution_count": null,
   "id": "6bbbd389-4974-4bf2-bce7-1230b1243de6",
   "metadata": {
    "execution": {
     "iopub.execute_input": "2022-05-04T04:48:39.638555Z",
     "iopub.status.busy": "2022-05-04T04:48:39.638385Z",
     "iopub.status.idle": "2022-05-04T04:48:44.760039Z",
     "shell.execute_reply": "2022-05-04T04:48:44.759542Z",
     "shell.execute_reply.started": "2022-05-04T04:48:39.638538Z"
    }
   },
   "outputs": [],
   "source": [
    "# Covert all the one hots to DNA sequence\n",
    "seqs = one_hot2string(dataset.seqs, [\"A\", \"C\", \"G\", \"T\"])"
   ]
  },
  {
   "cell_type": "code",
   "execution_count": null,
   "id": "341cd9d8-5232-4713-8df6-1dd203002403",
   "metadata": {
    "execution": {
     "iopub.execute_input": "2022-05-04T04:48:45.565572Z",
     "iopub.status.busy": "2022-05-04T04:48:45.565380Z",
     "iopub.status.idle": "2022-05-04T04:48:47.772694Z",
     "shell.execute_reply": "2022-05-04T04:48:47.772231Z",
     "shell.execute_reply.started": "2022-05-04T04:48:45.565556Z"
    },
    "tags": []
   },
   "outputs": [
    {
     "data": {
      "image/png": "[encoded data removed]",
      "text/plain": [
       "<Figure size 864x288 with 2 Axes>"
      ]
     },
     "metadata": {
      "needs_background": "light"
     },
     "output_type": "display_data"
    }
   ],
   "source": [
    "# Show one\n",
    "cmap = mpl.cm.RdYlGn\n",
    "norm = mpl.colors.Normalize(vmin=0, vmax=1)\n",
    "otxGenomeTracks(seqs[0], \n",
    "                importance_scores=imp[0], \n",
    "                seq_name=dataset.names[0], \n",
    "                cmap=cmap, \n",
    "                norm=norm)"
   ]
  },
  {
   "cell_type": "code",
   "execution_count": null,
   "id": "abe061cd-479c-428f-a615-e2fbae78eed8",
   "metadata": {},
   "outputs": [],
   "source": [
    "from eugene.utils.seq_utils import dinuc_shuffle\n",
    "from eugene.utils.seq_utils import dinuc_content"
   ]
  },
  {
   "cell_type": "code",
   "execution_count": null,
   "id": "5cca6018-8904-419d-9d0b-033678bfe858",
   "metadata": {
    "execution": {
     "iopub.execute_input": "2022-05-04T05:15:50.087892Z",
     "iopub.status.busy": "2022-05-04T05:15:50.087751Z",
     "iopub.status.idle": "2022-05-04T05:15:51.662738Z",
     "shell.execute_reply": "2022-05-04T05:15:51.662244Z",
     "shell.execute_reply.started": "2022-05-04T05:15:50.087875Z"
    },
    "tags": []
   },
   "outputs": [],
   "source": [
    "# Test example\n",
    "forward = dataset[0][1]\n",
    "reverse = dataset[0][2]\n",
    "inputs = np.array([forward.numpy().T, reverse.numpy().T])\n",
    "dna_seqs = one_hot2string(inputs, [\"A\", \"C\", \"G\", \"T\"])\n",
    "shuffled_inputs = np.array([dinuc_shuffle(forward.numpy().T), dinuc_shuffle(reverse.numpy().T)])\n",
    "shuffled_seqs = one_hot2string(shuffled_inputs, [\"A\", \"C\", \"G\", \"T\"])"
   ]
  },
  {
   "cell_type": "code",
   "execution_count": null,
   "id": "049cf28b-8721-40f6-899a-e77465558525",
   "metadata": {
    "execution": {
     "iopub.execute_input": "2022-05-04T05:15:57.722833Z",
     "iopub.status.busy": "2022-05-04T05:15:57.722621Z",
     "iopub.status.idle": "2022-05-04T05:15:59.332373Z",
     "shell.execute_reply": "2022-05-04T05:15:59.331882Z",
     "shell.execute_reply.started": "2022-05-04T05:15:57.722816Z"
    },
    "tags": []
   },
   "outputs": [
    {
     "data": {
      "text/plain": [
       "({'CA': 2,\n",
       "  'AT': 6,\n",
       "  'TC': 7,\n",
       "  'CT': 6,\n",
       "  'TG': 2,\n",
       "  'GA': 6,\n",
       "  'AA': 10,\n",
       "  'AG': 5,\n",
       "  'GC': 2,\n",
       "  'CG': 3,\n",
       "  'GT': 2,\n",
       "  'TT': 5,\n",
       "  'TA': 5,\n",
       "  'AC': 1,\n",
       "  'GG': 3},\n",
       " {'CG': 3,\n",
       "  'GC': 2,\n",
       "  'CA': 2,\n",
       "  'AA': 10,\n",
       "  'AT': 6,\n",
       "  'TT': 5,\n",
       "  'TC': 7,\n",
       "  'CT': 6,\n",
       "  'TA': 5,\n",
       "  'AC': 1,\n",
       "  'GA': 6,\n",
       "  'AG': 5,\n",
       "  'GT': 2,\n",
       "  'GG': 3,\n",
       "  'TG': 2})"
      ]
     },
     "execution_count": 165,
     "metadata": {},
     "output_type": "execute_result"
    }
   ],
   "source": [
    "dinuc_content(dna_seqs[0]), dinuc_content(shuffled_seqs[0])"
   ]
  },
  {
   "cell_type": "code",
   "execution_count": null,
   "id": "c62c4243-4940-44ab-99b4-463422051cd6",
   "metadata": {
    "execution": {
     "iopub.execute_input": "2022-05-04T05:17:17.317228Z",
     "iopub.status.busy": "2022-05-04T05:17:17.317048Z",
     "iopub.status.idle": "2022-05-04T05:17:18.789144Z",
     "shell.execute_reply": "2022-05-04T05:17:18.788700Z",
     "shell.execute_reply.started": "2022-05-04T05:17:17.317209Z"
    },
    "tags": []
   },
   "outputs": [
    {
     "data": {
      "text/plain": [
       "({'TC': 6,\n",
       "  'CC': 3,\n",
       "  'CT': 5,\n",
       "  'TA': 5,\n",
       "  'AT': 6,\n",
       "  'TT': 10,\n",
       "  'AG': 6,\n",
       "  'GA': 7,\n",
       "  'TG': 2,\n",
       "  'GC': 2,\n",
       "  'CA': 2,\n",
       "  'AA': 5,\n",
       "  'CG': 3,\n",
       "  'AC': 2,\n",
       "  'GT': 1},\n",
       " {'TT': 10,\n",
       "  'TA': 5,\n",
       "  'AG': 6,\n",
       "  'GA': 7,\n",
       "  'AA': 5,\n",
       "  'AT': 6,\n",
       "  'TC': 6,\n",
       "  'CT': 5,\n",
       "  'TG': 2,\n",
       "  'GT': 1,\n",
       "  'CC': 3,\n",
       "  'CG': 3,\n",
       "  'GC': 2,\n",
       "  'CA': 2,\n",
       "  'AC': 2})"
      ]
     },
     "execution_count": 166,
     "metadata": {},
     "output_type": "execute_result"
    }
   ],
   "source": [
    "dinuc_content(dna_seqs[1]), dinuc_content(shuffled_seqs[1])"
   ]
  },
  {
   "cell_type": "code",
   "execution_count": null,
   "id": "6bf7d864-79de-4003-8052-6b215d6d9687",
   "metadata": {},
   "outputs": [],
   "source": []
  },
  {
   "cell_type": "code",
   "execution_count": null,
   "id": "f459f02c-ad1e-4c58-b65c-28d60009b812",
   "metadata": {
    "execution": {
     "iopub.execute_input": "2022-05-04T04:51:08.483880Z",
     "iopub.status.busy": "2022-05-04T04:51:08.483752Z",
     "iopub.status.idle": "2022-05-04T04:51:10.449674Z",
     "shell.execute_reply": "2022-05-04T04:51:10.449188Z",
     "shell.execute_reply.started": "2022-05-04T04:51:08.483863Z"
    }
   },
   "outputs": [],
   "source": []
  },
  {
   "cell_type": "code",
   "execution_count": null,
   "id": "cba93b87-2adc-4ebd-afca-00ce04b84764",
   "metadata": {
    "execution": {
     "iopub.execute_input": "2022-05-04T04:51:17.087684Z",
     "iopub.status.busy": "2022-05-04T04:51:17.087466Z",
     "iopub.status.idle": "2022-05-04T04:51:19.025766Z",
     "shell.execute_reply": "2022-05-04T04:51:19.025324Z",
     "shell.execute_reply.started": "2022-05-04T04:51:17.087668Z"
    }
   },
   "outputs": [
    {
     "data": {
      "text/plain": [
       "hybrid(\n",
       "  (convnet): BasicConv1D(\n",
       "    (module): Sequential(\n",
       "      (0): Conv1d(4, 32, kernel_size=(15,), stride=(1,))\n",
       "      (1): ReLU(inplace=True)\n",
       "      (2): MaxPool1d(kernel_size=2, stride=2, padding=0, dilation=1, ceil_mode=False)\n",
       "      (3): Dropout(p=0.2, inplace=False)\n",
       "      (4): BatchNorm1d(32, eps=1e-05, momentum=0.1, affine=True, track_running_stats=True)\n",
       "      (5): Conv1d(32, 64, kernel_size=(5,), stride=(1,))\n",
       "      (6): ReLU(inplace=True)\n",
       "      (7): MaxPool1d(kernel_size=1, stride=1, padding=0, dilation=1, ceil_mode=False)\n",
       "      (8): Dropout(p=0.2, inplace=False)\n",
       "      (9): BatchNorm1d(64, eps=1e-05, momentum=0.1, affine=True, track_running_stats=True)\n",
       "    )\n",
       "  )\n",
       "  (recurrentnet): BasicRecurrent(\n",
       "    (module): LSTM(64, 64, batch_first=True)\n",
       "  )\n",
       "  (fcnet): BasicFullyConnectedModule(\n",
       "    (module): Sequential(\n",
       "      (0): Linear(in_features=64, out_features=32, bias=True)\n",
       "      (1): ReLU(inplace=True)\n",
       "      (2): Dropout(p=0.2, inplace=False)\n",
       "      (3): BatchNorm1d(32, eps=1e-05, momentum=0.1, affine=True, track_running_stats=True)\n",
       "      (4): Linear(in_features=32, out_features=1, bias=True)\n",
       "    )\n",
       "  )\n",
       "  (accuracy): Accuracy()\n",
       "  (auroc): AUROC()\n",
       ")"
      ]
     },
     "execution_count": 92,
     "metadata": {},
     "output_type": "execute_result"
    }
   ],
   "source": [
    "eugene.train()"
   ]
  },
  {
   "cell_type": "code",
   "execution_count": null,
   "id": "67da03ec-289e-420c-9a35-2be3df106864",
   "metadata": {
    "execution": {
     "iopub.execute_input": "2022-05-04T04:51:23.087752Z",
     "iopub.status.busy": "2022-05-04T04:51:23.087591Z",
     "iopub.status.idle": "2022-05-04T04:51:25.081572Z",
     "shell.execute_reply": "2022-05-04T04:51:25.081133Z",
     "shell.execute_reply.started": "2022-05-04T04:51:23.087735Z"
    }
   },
   "outputs": [
    {
     "data": {
      "text/plain": [
       "hybrid(\n",
       "  (convnet): BasicConv1D(\n",
       "    (module): Sequential(\n",
       "      (0): Conv1d(4, 32, kernel_size=(15,), stride=(1,))\n",
       "      (1): ReLU(inplace=True)\n",
       "      (2): MaxPool1d(kernel_size=2, stride=2, padding=0, dilation=1, ceil_mode=False)\n",
       "      (3): Dropout(p=0.2, inplace=False)\n",
       "      (4): BatchNorm1d(32, eps=1e-05, momentum=0.1, affine=True, track_running_stats=True)\n",
       "      (5): Conv1d(32, 64, kernel_size=(5,), stride=(1,))\n",
       "      (6): ReLU(inplace=True)\n",
       "      (7): MaxPool1d(kernel_size=1, stride=1, padding=0, dilation=1, ceil_mode=False)\n",
       "      (8): Dropout(p=0.2, inplace=False)\n",
       "      (9): BatchNorm1d(64, eps=1e-05, momentum=0.1, affine=True, track_running_stats=True)\n",
       "    )\n",
       "  )\n",
       "  (recurrentnet): BasicRecurrent(\n",
       "    (module): LSTM(64, 64, batch_first=True)\n",
       "  )\n",
       "  (fcnet): BasicFullyConnectedModule(\n",
       "    (module): Sequential(\n",
       "      (0): Linear(in_features=64, out_features=32, bias=True)\n",
       "      (1): ReLU(inplace=True)\n",
       "      (2): Dropout(p=0.2, inplace=False)\n",
       "      (3): BatchNorm1d(32, eps=1e-05, momentum=0.1, affine=True, track_running_stats=True)\n",
       "      (4): Linear(in_features=32, out_features=1, bias=True)\n",
       "    )\n",
       "  )\n",
       "  (accuracy): Accuracy()\n",
       "  (auroc): AUROC()\n",
       ")"
      ]
     },
     "execution_count": 93,
     "metadata": {},
     "output_type": "execute_result"
    }
   ],
   "source": [
    "eugene.to(device)"
   ]
  },
  {
   "cell_type": "code",
   "execution_count": null,
   "id": "8b58da1c-8a9a-4804-94ce-92c22b5d8ed4",
   "metadata": {
    "execution": {
     "iopub.execute_input": "2022-05-04T19:18:32.404732Z",
     "iopub.status.busy": "2022-05-04T19:18:32.404462Z",
     "iopub.status.idle": "2022-05-04T19:18:33.516071Z",
     "shell.execute_reply": "2022-05-04T19:18:33.515481Z",
     "shell.execute_reply.started": "2022-05-04T19:18:32.404704Z"
    }
   },
   "outputs": [],
   "source": [
    "def load_from_pl_ckt(ckt_pth, model_type):\n",
    "    if model_type in [\"fcn\", \"cnn\", \"rnn\"]:\n",
    "        module = getattr(importlib.import_module(f\"eugene.models.{model}\"), model.upper())\n",
    "    else:\n",
    "        module = getattr(importlib.import_module(f\"eugene.models.{model.lower}\"), model.lower())\n",
    "    model = hybrid.load_from_checkpoint(checkpoint_path=ckt_pth, map_location=device)\n",
    "    return model"
   ]
  },
  {
   "cell_type": "code",
   "execution_count": null,
   "id": "87f9b4f6-ae5a-4624-be2e-b185c915cb58",
   "metadata": {
    "execution": {
     "iopub.execute_input": "2022-05-04T19:18:45.137933Z",
     "iopub.status.busy": "2022-05-04T19:18:45.137792Z",
     "iopub.status.idle": "2022-05-04T19:18:46.147961Z",
     "shell.execute_reply": "2022-05-04T19:18:46.147560Z",
     "shell.execute_reply.started": "2022-05-04T19:18:45.137917Z"
    },
    "tags": []
   },
   "outputs": [],
   "source": [
    "model = \"hybrid\""
   ]
  },
  {
   "cell_type": "code",
   "execution_count": null,
   "id": "5f825320-1631-4275-ab29-6f49891a878b",
   "metadata": {
    "execution": {
     "iopub.execute_input": "2022-05-04T19:18:46.148832Z",
     "iopub.status.busy": "2022-05-04T19:18:46.148705Z",
     "iopub.status.idle": "2022-05-04T19:18:47.196973Z",
     "shell.execute_reply": "2022-05-04T19:18:47.196593Z",
     "shell.execute_reply.started": "2022-05-04T19:18:46.148815Z"
    },
    "tags": []
   },
   "outputs": [],
   "source": [
    "import importlib"
   ]
  },
  {
   "cell_type": "code",
   "execution_count": null,
   "id": "883da312-bea3-4b6f-b0ef-c77b6529867d",
   "metadata": {
    "execution": {
     "iopub.execute_input": "2022-05-04T19:19:06.551923Z",
     "iopub.status.busy": "2022-05-04T19:19:06.551718Z",
     "iopub.status.idle": "2022-05-04T19:19:07.494906Z",
     "shell.execute_reply": "2022-05-04T19:19:07.494487Z",
     "shell.execute_reply.started": "2022-05-04T19:19:06.551905Z"
    },
    "tags": []
   },
   "outputs": [],
   "source": [
    "module = getattr(importlib.import_module(f\"eugene.models.{model.lower()}\"), model.lower())"
   ]
  },
  {
   "cell_type": "code",
   "execution_count": null,
   "id": "d3b150c1-2f33-4735-ad95-884cfb1948c7",
   "metadata": {
    "execution": {
     "iopub.execute_input": "2022-05-04T19:19:29.138926Z",
     "iopub.status.busy": "2022-05-04T19:19:29.138748Z",
     "iopub.status.idle": "2022-05-04T19:19:30.044749Z",
     "shell.execute_reply": "2022-05-04T19:19:30.044360Z",
     "shell.execute_reply.started": "2022-05-04T19:19:29.138909Z"
    },
    "tags": []
   },
   "outputs": [],
   "source": [
    "ckt_pth = \"/cellar/users/aklie/projects/EUGENE/results/simple/classification/sshybrid/2022_04_23_NPY_Baseline/checkpoints/epoch=25-step=4523.ckpt\""
   ]
  },
  {
   "cell_type": "code",
   "execution_count": null,
   "id": "2587dade-c819-4b5b-98e1-73e0bef0d1cd",
   "metadata": {
    "execution": {
     "iopub.execute_input": "2022-05-04T19:19:31.256255Z",
     "iopub.status.busy": "2022-05-04T19:19:31.256093Z",
     "iopub.status.idle": "2022-05-04T19:19:32.609165Z",
     "shell.execute_reply": "2022-05-04T19:19:32.608791Z",
     "shell.execute_reply.started": "2022-05-04T19:19:31.256238Z"
    },
    "tags": []
   },
   "outputs": [
    {
     "name": "stderr",
     "output_type": "stream",
     "text": [
      "/cellar/users/aklie/opt/miniconda3/envs/pytorch_dev/lib/python3.7/site-packages/torchmetrics/utilities/prints.py:36: UserWarning: Metric `AUROC` will save all targets and predictions in buffer. For large datasets this may lead to large memory footprint.\n",
      "  warnings.warn(*args, **kwargs)\n"
     ]
    },
    {
     "data": {
      "text/plain": [
       "hybrid(\n",
       "  (convnet): BasicConv1D(\n",
       "    (module): Sequential(\n",
       "      (0): Conv1d(4, 32, kernel_size=(15,), stride=(1,))\n",
       "      (1): ReLU(inplace=True)\n",
       "      (2): MaxPool1d(kernel_size=2, stride=2, padding=0, dilation=1, ceil_mode=False)\n",
       "      (3): Dropout(p=0.2, inplace=False)\n",
       "      (4): BatchNorm1d(32, eps=1e-05, momentum=0.1, affine=True, track_running_stats=True)\n",
       "      (5): Conv1d(32, 64, kernel_size=(5,), stride=(1,))\n",
       "      (6): ReLU(inplace=True)\n",
       "      (7): MaxPool1d(kernel_size=1, stride=1, padding=0, dilation=1, ceil_mode=False)\n",
       "      (8): Dropout(p=0.2, inplace=False)\n",
       "      (9): BatchNorm1d(64, eps=1e-05, momentum=0.1, affine=True, track_running_stats=True)\n",
       "    )\n",
       "  )\n",
       "  (recurrentnet): BasicRecurrent(\n",
       "    (module): LSTM(64, 64, batch_first=True)\n",
       "  )\n",
       "  (fcnet): BasicFullyConnectedModule(\n",
       "    (module): Sequential(\n",
       "      (0): Linear(in_features=64, out_features=32, bias=True)\n",
       "      (1): ReLU(inplace=True)\n",
       "      (2): Dropout(p=0.2, inplace=False)\n",
       "      (3): BatchNorm1d(32, eps=1e-05, momentum=0.1, affine=True, track_running_stats=True)\n",
       "      (4): Linear(in_features=32, out_features=1, bias=True)\n",
       "    )\n",
       "  )\n",
       "  (accuracy): Accuracy()\n",
       "  (auroc): AUROC()\n",
       ")"
      ]
     },
     "execution_count": 51,
     "metadata": {},
     "output_type": "execute_result"
    }
   ],
   "source": [
    "module.load_from_checkpoint(checkpoint_path=ckt_pth, map_location=\"cuda\")"
   ]
  }
 ],
 "metadata": {
  "kernelspec": {
   "display_name": "Python 3.7.13 64-bit",
   "language": "python",
   "name": "python3"
  },
  "language_info": {
   "codemirror_mode": {
    "name": "ipython",
    "version": 3
   },
   "file_extension": ".py",
   "mimetype": "text/x-python",
   "name": "python",
   "nbconvert_exporter": "python",
   "pygments_lexer": "ipython3",
   "version": "3.7.13"
  },
  "vscode": {
   "interpreter": {
    "hash": "949777d72b0d2535278d3dc13498b2535136f6dfe0678499012e853ee9abcab1"
   }
  }
 },
 "nbformat": 4,
 "nbformat_minor": 5
}

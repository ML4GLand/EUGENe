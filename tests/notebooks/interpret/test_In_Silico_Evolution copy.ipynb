{
 "cells": [
  {
   "cell_type": "markdown",
   "id": "47cc2c48",
   "metadata": {},
   "source": [
    "# Testing `in_silico_evolution` function"
   ]
  },
  {
   "cell_type": "markdown",
   "id": "3b1880c3",
   "metadata": {
    "tags": []
   },
   "source": [
    "**Authorship:**\n",
    "Adam Klie, *08/08/2022*\n",
    "***\n",
    "**Description:**\n",
    "Notebook for testing the `in_silico_evolution` function"
   ]
  },
  {
   "cell_type": "code",
   "execution_count": 1,
   "id": "1dd9ef33",
   "metadata": {
    "execution": {
     "iopub.execute_input": "2022-05-04T17:01:08.512199Z",
     "iopub.status.busy": "2022-05-04T17:01:08.512010Z",
     "iopub.status.idle": "2022-05-04T17:01:10.027673Z",
     "shell.execute_reply": "2022-05-04T17:01:10.027193Z",
     "shell.execute_reply.started": "2022-05-04T17:01:08.512177Z"
    },
    "tags": []
   },
   "outputs": [],
   "source": [
    "import numpy as np\n",
    "import pandas as pd\n",
    "\n",
    "# Autoreload extension\n",
    "if 'autoreload' not in get_ipython().extension_manager.loaded:\n",
    "    %load_ext autoreload\n",
    "%autoreload 2"
   ]
  },
  {
   "cell_type": "code",
   "execution_count": 2,
   "id": "395ab567",
   "metadata": {},
   "outputs": [
    {
     "name": "stderr",
     "output_type": "stream",
     "text": [
      "Global seed set to 13\n",
      "2022-08-10 01:03:09.016627: W tensorflow/stream_executor/platform/default/dso_loader.cc:64] Could not load dynamic library 'libcudart.so.11.0'; dlerror: libcudart.so.11.0: cannot open shared object file: No such file or directory\n",
      "2022-08-10 01:03:09.016664: I tensorflow/stream_executor/cuda/cudart_stub.cc:29] Ignore above cudart dlerror if you do not have a GPU set up on your machine.\n"
     ]
    }
   ],
   "source": [
    "import eugene as eu"
   ]
  },
  {
   "cell_type": "markdown",
   "id": "b446ff4c-3bc0-44a5-930b-3d30dcb17e76",
   "metadata": {
    "tags": []
   },
   "source": [
    "# Data E-T-L"
   ]
  },
  {
   "cell_type": "code",
   "execution_count": 3,
   "id": "fc0b3dcb-37dd-4ed9-a571-987219c44088",
   "metadata": {
    "execution": {
     "iopub.execute_input": "2022-05-04T17:01:16.222298Z",
     "iopub.status.busy": "2022-05-04T17:01:16.222171Z",
     "iopub.status.idle": "2022-05-04T17:01:17.868874Z",
     "shell.execute_reply": "2022-05-04T17:01:17.868477Z",
     "shell.execute_reply.started": "2022-05-04T17:01:16.222283Z"
    },
    "tags": []
   },
   "outputs": [
    {
     "data": {
      "application/vnd.jupyter.widget-view+json": {
       "model_id": "ab8e6b65e4234b2eae2c908c2a0a01ef",
       "version_major": 2,
       "version_minor": 0
      },
      "text/plain": [
       "  0%|          | 0/3 [00:00<?, ?it/s]"
      ]
     },
     "metadata": {},
     "output_type": "display_data"
    },
    {
     "name": "stdout",
     "output_type": "stream",
     "text": [
      "SeqData object modified:\n",
      "\trev_seqs: None -> 1000 rev_seqs added\n",
      "\tohe_seqs: None -> 1000 ohe_seqs added\n",
      "\tohe_rev_seqs: None -> 1000 ohe_rev_seqs added\n",
      "    seqs_annot:\n",
      "        + train\n"
     ]
    },
    {
     "data": {
      "text/plain": [
       "SeqData object with = 1000 seqs\n",
       "seqs = (1000,)\n",
       "names = (1000,)\n",
       "rev_seqs = (1000,)\n",
       "ohe_seqs = (1000, 66, 4)\n",
       "ohe_rev_seqs = (1000, 66, 4)\n",
       "seqs_annot: 'target', 'train'\n",
       "pos_annot: PyRanges object with 1400 features\n",
       "seqsm: None\n",
       "uns: None"
      ]
     },
     "execution_count": 3,
     "metadata": {},
     "output_type": "execute_result"
    }
   ],
   "source": [
    "sdata = eu.datasets.random1000()\n",
    "eu.pp.prepare_data(sdata)\n",
    "sdata"
   ]
  },
  {
   "cell_type": "markdown",
   "metadata": {},
   "source": [
    "# Model I&I"
   ]
  },
  {
   "cell_type": "code",
   "execution_count": 35,
   "metadata": {},
   "outputs": [],
   "source": [
    "model = eu.models.DeepBind(input_len=66, output_dim=1)\n",
    "eu.models.base.init_weights(model)"
   ]
  },
  {
   "cell_type": "markdown",
   "metadata": {},
   "source": [
    "# Test API"
   ]
  },
  {
   "cell_type": "code",
   "execution_count": 40,
   "metadata": {},
   "outputs": [
    {
     "data": {
      "text/plain": [
       "('TATAACCTTTCTTGGGGCGACGATAAGCGCAATAACAAGTCCGTCTGCTTCCAAAAGCGATACTGA',\n",
       " (66, 4),\n",
       " (32, 66, 4))"
      ]
     },
     "execution_count": 40,
     "metadata": {},
     "output_type": "execute_result"
    }
   ],
   "source": [
    "# Set-up of some sequences to test\n",
    "seq_num = np.random.choice(32, size=1, replace=False).squeeze()\n",
    "seqs = sdata.seqs[:32]\n",
    "seq = seqs[seq_num]\n",
    "ohe_seqs = sdata.ohe_seqs[:32]\n",
    "ohe_seq = ohe_seqs[seq_num]\n",
    "seq, ohe_seq.shape, ohe_seqs.shape"
   ]
  },
  {
   "cell_type": "markdown",
   "metadata": {},
   "source": [
    "## Test `in_silico_best_k_muts`"
   ]
  },
  {
   "cell_type": "code",
   "execution_count": 44,
   "metadata": {},
   "outputs": [
    {
     "data": {
      "text/plain": [
       "('A',\n",
       " 'T',\n",
       " 'TATAACCTTTCTTGGGGCGACGATAAGCGCAATAACAAGTCCGTCTGCTTCCAAAAGCGATACTGA',\n",
       " 'TATTACCTTTCTTGGGGCGACGATAAGCGCAATAACAAGTCCGTCTGCTTCCAAAAGCGATACTGA',\n",
       " 1)"
      ]
     },
     "execution_count": 44,
     "metadata": {},
     "output_type": "execute_result"
    }
   ],
   "source": [
    "mut_ohe_seq, delta, delta_ind = eu.interpret.in_silico_best_k_muts(model, ohe_seq, k=1)\n",
    "mut_seq = eu.pp.decode_DNA_seq(mut_ohe_seq.squeeze(axis=0))\n",
    "seq[delta_ind.squeeze()], mut_seq[delta_ind.squeeze()], seq, mut_seq, eu.preprocessing._utils._hamming_distance(seq, mut_seq)"
   ]
  },
  {
   "cell_type": "markdown",
   "metadata": {},
   "source": [
    "## Test `in_silico_best_mut_seqs`"
   ]
  },
  {
   "cell_type": "code",
   "execution_count": 45,
   "metadata": {},
   "outputs": [
    {
     "name": "stdout",
     "output_type": "stream",
     "text": [
      "0.00091798604 32\n",
      "T A\n",
      "AGGACAGATTTTCGCGTGTTGGGCCCAACGGATCAGCCTCTATAAACCGTATCCGACAATATAAGG\n",
      "AGGACAGATTTTCGCGTGTTGGGCCCAACGGAACAGCCTCTATAAACCGTATCCGACAATATAAGG\n",
      "1\n",
      "\n",
      "0.00077727437 42\n",
      "A C\n",
      "TGACTCCAGGAAGGACGTGTTGTTCGAGAAGAGCAGCCGAAAAAGTTAGCGATCGGCTCGACTTTC\n",
      "TGACTCCAGGAAGGACGTGTTGTTCGAGAAGAGCAGCCGAAACAGTTAGCGATCGGCTCGACTTTC\n",
      "1\n",
      "\n",
      "0.0009640306 42\n",
      "G C\n",
      "TATACTAGGAAGTCGACTTAAGAGATGCAAACAAAGAGTGGGGCATATTATCTAGCCAGACGTCAC\n",
      "TATACTAGGAAGTCGACTTAAGAGATGCAAACAAAGAGTGGGCCATATTATCTAGCCAGACGTCAC\n",
      "1\n",
      "\n"
     ]
    }
   ],
   "source": [
    "mut_ohe_seqs, deltas, delta_inds = eu.interpret.in_silico_best_mut_seqs(model, ohe_seqs, batch_size=32)\n",
    "for i in range(len(mut_ohe_seqs)):\n",
    "    mut_seq = eu.pp.decode_DNA_seq(mut_ohe_seqs[i])\n",
    "    assert eu.pp._utils._hamming_distance(seqs[i], mut_seq) == 1\n",
    "    if i < 3:\n",
    "        print(deltas[i], delta_inds[i])\n",
    "        print(seqs[i][delta_inds[i]], mut_seq[delta_inds[i]])\n",
    "        print(seqs[i])\n",
    "        print(mut_seq)\n",
    "        print(eu.pp._utils._hamming_distance(seqs[i], mut_seq))\n",
    "        print()"
   ]
  },
  {
   "cell_type": "markdown",
   "metadata": {},
   "source": [
    "## Test `in_silico_evolution`"
   ]
  },
  {
   "cell_type": "code",
   "execution_count": 46,
   "metadata": {},
   "outputs": [
    {
     "name": "stdout",
     "output_type": "stream",
     "text": [
      "0.0009134412 3\n",
      "A T\n",
      "0.0007402301 54\n",
      "A C\n",
      "0.0006982386 40\n",
      "C T\n",
      "0.00059239566 56\n",
      "G A\n",
      "0.00069119036 9\n",
      "T A\n",
      "0.00069236755 41\n",
      "C G\n",
      "0.0007134974 42\n",
      "G C\n",
      "0.0006405711 57\n",
      "C A\n",
      "0.0006160885 11\n",
      "T A\n",
      "0.00067421794 52\n",
      "A T\n",
      "TATAACCTTTCTTGGGGCGACGATAAGCGCAATAACAAGTCCGTCTGCTTCCAAAAGCGATACTGA\n",
      "TATTACCTTACATGGGGCGACGATAAGCGCAATAACAAGTTGCTCTGCTTCCTACAAAGATACTGA\n",
      "10\n"
     ]
    }
   ],
   "source": [
    "evolved_ohe_seq, deltas, delta_pos = eu.interpret.in_silico_evolution(\n",
    "    model, \n",
    "    ohe_seq, \n",
    "    force_different=True)\n",
    "\n",
    "evolved_seq = eu.pp.decode_DNA_seq(evolved_ohe_seq)\n",
    "for i in range(len(deltas)):\n",
    "    print(deltas[i], delta_pos[i])\n",
    "    print(seq[delta_pos[i]], evolved_seq[delta_pos[i]])\n",
    "print(seq)\n",
    "print(evolved_seq)\n",
    "print(eu.preprocessing._utils._hamming_distance(seq, evolved_seq))"
   ]
  },
  {
   "cell_type": "markdown",
   "metadata": {},
   "source": [
    "---"
   ]
  },
  {
   "cell_type": "markdown",
   "metadata": {},
   "source": [
    "# Scratch"
   ]
  }
 ],
 "metadata": {
  "kernelspec": {
   "display_name": "Python 3.7.13 64-bit",
   "language": "python",
   "name": "python3"
  },
  "language_info": {
   "codemirror_mode": {
    "name": "ipython",
    "version": 3
   },
   "file_extension": ".py",
   "mimetype": "text/x-python",
   "name": "python",
   "nbconvert_exporter": "python",
   "pygments_lexer": "ipython3",
   "version": "3.7.13"
  },
  "orig_nbformat": 4,
  "vscode": {
   "interpreter": {
    "hash": "949777d72b0d2535278d3dc13498b2535136f6dfe0678499012e853ee9abcab1"
   }
  }
 },
 "nbformat": 4,
 "nbformat_minor": 2
}

{
 "cells": [
  {
   "cell_type": "markdown",
   "id": "90a88efe-ebb3-424c-8704-fb4ee189af2c",
   "metadata": {},
   "source": [
    "# Testing `datasets` Module "
   ]
  },
  {
   "cell_type": "markdown",
   "id": "2d058003-a667-4b45-9ddc-e47efe48e0e1",
   "metadata": {
    "tags": []
   },
   "source": [
    "**Authorship:**\n",
    "Adam Klie, *06/23/2022*\n",
    "***\n",
    "**Description:**\n",
    "Notebook to test the `dataset`\n",
    "***"
   ]
  },
  {
   "cell_type": "code",
   "execution_count": null,
   "id": "3ebaff6f",
   "metadata": {
    "execution": {
     "iopub.execute_input": "2022-06-22T21:40:50.734456Z",
     "iopub.status.busy": "2022-06-22T21:40:50.734315Z",
     "iopub.status.idle": "2022-06-22T21:40:55.752826Z",
     "shell.execute_reply": "2022-06-22T21:40:55.752465Z",
     "shell.execute_reply.started": "2022-06-22T21:40:50.734412Z"
    },
    "tags": [],
    "vscode": {
     "languageId": "python"
    }
   },
   "outputs": [],
   "source": [
    "import numpy as np\n",
    "import pandas as pd\n",
    "\n",
    "# Autoreload extension\n",
    "if 'autoreload' not in get_ipython().extension_manager.loaded:\n",
    "    %load_ext autoreload\n",
    "%autoreload 2\n",
    "\n",
    "# Basic import\n",
    "import eugene as eu\n",
    "eu.settings.dataset_dir = \"/cellar/users/aklie/projects/EUGENe/tests/_data/datasets/\"\n",
    "eu.__version__"
   ]
  },
  {
   "cell_type": "markdown",
   "id": "615c8f51",
   "metadata": {},
   "source": [
    "# `get_dataset_info`"
   ]
  },
  {
   "cell_type": "code",
   "execution_count": null,
   "id": "d39b5026",
   "metadata": {
    "vscode": {
     "languageId": "python"
    }
   },
   "outputs": [
    {
     "data": {
      "text/html": [
       "<div>\n",
       "<style scoped>\n",
       "    .dataframe tbody tr th:only-of-type {\n",
       "        vertical-align: middle;\n",
       "    }\n",
       "\n",
       "    .dataframe tbody tr th {\n",
       "        vertical-align: top;\n",
       "    }\n",
       "\n",
       "    .dataframe thead th {\n",
       "        text-align: right;\n",
       "    }\n",
       "</style>\n",
       "<table border=\"1\" class=\"dataframe\">\n",
       "  <thead>\n",
       "    <tr style=\"text-align: right;\">\n",
       "      <th></th>\n",
       "      <th>n_seqs</th>\n",
       "      <th>url</th>\n",
       "      <th>description</th>\n",
       "    </tr>\n",
       "    <tr>\n",
       "      <th>name</th>\n",
       "      <th></th>\n",
       "      <th></th>\n",
       "      <th></th>\n",
       "    </tr>\n",
       "  </thead>\n",
       "  <tbody>\n",
       "    <tr>\n",
       "      <th>random1000</th>\n",
       "      <td>1000</td>\n",
       "      <td>https://github.com/adamklie/EUGENe/tree/main/e...</td>\n",
       "      <td>A randomly generated set of 1000 sequences wit...</td>\n",
       "    </tr>\n",
       "    <tr>\n",
       "      <th>random1000_10</th>\n",
       "      <td>100</td>\n",
       "      <td>https://github.com/adamklie/EUGENe/tree/main/e...</td>\n",
       "      <td>A randomly generated set of 1000 sequences wit...</td>\n",
       "    </tr>\n",
       "    <tr>\n",
       "      <th>Khouiery</th>\n",
       "      <td>10</td>\n",
       "      <td>https://www.sciencedirect.com/science/article/...</td>\n",
       "      <td>This data comes from genomic sequences of Cion...</td>\n",
       "    </tr>\n",
       "    <tr>\n",
       "      <th>farley15</th>\n",
       "      <td>163708</td>\n",
       "      <td>https://zenodo.org/record/6863861#.YuG15uxKg-Q</td>\n",
       "      <td>This dataset represents SEL-seq data generated...</td>\n",
       "    </tr>\n",
       "    <tr>\n",
       "      <th>deBoer20</th>\n",
       "      <td>multiple</td>\n",
       "      <td>https://www.ncbi.nlm.nih.gov/geo/query/acc.cgi...</td>\n",
       "      <td>WIP</td>\n",
       "    </tr>\n",
       "    <tr>\n",
       "      <th>jores21</th>\n",
       "      <td>72158|75808</td>\n",
       "      <td>https://raw.githubusercontent.com/tobjores/Syn...</td>\n",
       "      <td>WIP</td>\n",
       "    </tr>\n",
       "    <tr>\n",
       "      <th>deAlmeida22</th>\n",
       "      <td>402296</td>\n",
       "      <td>https://zenodo.org/record/5502060/</td>\n",
       "      <td>WIP</td>\n",
       "    </tr>\n",
       "  </tbody>\n",
       "</table>\n",
       "</div>"
      ],
      "text/plain": [
       "                    n_seqs                                                url  \\\n",
       "name                                                                            \n",
       "random1000            1000  https://github.com/adamklie/EUGENe/tree/main/e...   \n",
       "random1000_10          100  https://github.com/adamklie/EUGENe/tree/main/e...   \n",
       "Khouiery                10  https://www.sciencedirect.com/science/article/...   \n",
       "farley15            163708     https://zenodo.org/record/6863861#.YuG15uxKg-Q   \n",
       "deBoer20          multiple  https://www.ncbi.nlm.nih.gov/geo/query/acc.cgi...   \n",
       "jores21        72158|75808  https://raw.githubusercontent.com/tobjores/Syn...   \n",
       "deAlmeida22         402296                 https://zenodo.org/record/5502060/   \n",
       "\n",
       "                                                     description  \n",
       "name                                                              \n",
       "random1000     A randomly generated set of 1000 sequences wit...  \n",
       "random1000_10  A randomly generated set of 1000 sequences wit...  \n",
       "Khouiery       This data comes from genomic sequences of Cion...  \n",
       "farley15       This dataset represents SEL-seq data generated...  \n",
       "deBoer20                                                     WIP  \n",
       "jores21                                                      WIP  \n",
       "deAlmeida22                                                  WIP  "
      ]
     },
     "metadata": {},
     "output_type": "display_data"
    }
   ],
   "source": [
    "eu.datasets.get_dataset_info()"
   ]
  },
  {
   "cell_type": "markdown",
   "id": "b8601b44",
   "metadata": {},
   "source": [
    "# `random1000`\n",
    "A randomly generated set of 1000 sequences with 1 target for testing single-task learning models. Comes with EUGENe installation.\n",
    "\n",
    "Can be generated by running the following command:\n",
    "\n",
    "```python\n",
    "eu.utils.generate_random_data(num_seqs=1000, seq_len=66, out_dir=\"../_data/datasets/\")\n",
    "```"
   ]
  },
  {
   "cell_type": "code",
   "execution_count": 30,
   "id": "faaaed16",
   "metadata": {
    "vscode": {
     "languageId": "python"
    }
   },
   "outputs": [
    {
     "data": {
      "text/plain": [
       "SeqData object with = 1000 seqs\n",
       "seqs = (1000,)\n",
       "names = (1000,)\n",
       "rev_seqs = None\n",
       "ohe_seqs = None\n",
       "ohe_rev_seqs = None\n",
       "seqs_annot: 'target'\n",
       "pos_annot: PyRanges object with 1400 features\n",
       "seqsm: None\n",
       "uns: None"
      ]
     },
     "execution_count": 30,
     "metadata": {},
     "output_type": "execute_result"
    }
   ],
   "source": [
    "random1000 = eu.datasets.random1000()\n",
    "random1000"
   ]
  },
  {
   "cell_type": "code",
   "execution_count": 34,
   "id": "857b0bd1",
   "metadata": {
    "vscode": {
     "languageId": "python"
    }
   },
   "outputs": [
    {
     "data": {
      "image/png": "[encoded data removed]",
      "text/plain": [
       "<Figure size 400x400 with 1 Axes>"
      ]
     },
     "metadata": {},
     "output_type": "display_data"
    }
   ],
   "source": [
    "# These are essentially just random targets\n",
    "eu.pl.histplot(\n",
    "    random1000,\n",
    "    keys=\"target\",\n",
    ")"
   ]
  },
  {
   "cell_type": "code",
   "execution_count": 35,
   "id": "68673b11",
   "metadata": {
    "vscode": {
     "languageId": "python"
    }
   },
   "outputs": [
    {
     "name": "stdout",
     "output_type": "stream",
     "text": [
      "No importance scores given, outputting just sequence\n"
     ]
    },
    {
     "data": {
      "image/png": "[encoded data removed]",
      "text/plain": [
       "<Figure size 1200x400 with 2 Axes>"
      ]
     },
     "metadata": {},
     "output_type": "display_data"
    }
   ],
   "source": [
    "# Even random sequence has ETS and GATA motifs\n",
    "eu.pl.seq_track(\n",
    "    random1000,\n",
    "    seq_id=random1000.names[0]\n",
    ")"
   ]
  },
  {
   "cell_type": "markdown",
   "id": "312bb294",
   "metadata": {},
   "source": [
    "# `random1000_10`\n",
    "A randomly generated set of 1000 sequences with 10 targets for testing multi-task learning models. Comes with EUGENe installation.\n",
    "\n",
    "Can be generated by running the following command:\n",
    "\n",
    "```python\n",
    "eu.utils.generate_random_data(num_seqs=1000, seq_len=66, num_outputs=10, dataset_name=\"random1000_10\")\n",
    "```"
   ]
  },
  {
   "cell_type": "code",
   "execution_count": 37,
   "id": "c39d4429",
   "metadata": {
    "vscode": {
     "languageId": "python"
    }
   },
   "outputs": [
    {
     "data": {
      "text/plain": [
       "SeqData object with = 1000 seqs\n",
       "seqs = (1000,)\n",
       "names = (1000,)\n",
       "rev_seqs = None\n",
       "ohe_seqs = None\n",
       "ohe_rev_seqs = None\n",
       "seqs_annot: 'LABEL_0', 'LABEL_1', 'LABEL_2', 'LABEL_3', 'LABEL_4', 'LABEL_5', 'LABEL_6', 'LABEL_7', 'LABEL_8', 'LABEL_9', 'ACTIVITY_0', 'ACTIVITY_1', 'ACTIVITY_2', 'ACTIVITY_3', 'ACTIVITY_4', 'ACTIVITY_5', 'ACTIVITY_6', 'ACTIVITY_7', 'ACTIVITY_8', 'ACTIVITY_9'\n",
       "pos_annot: None\n",
       "seqsm: None\n",
       "uns: None"
      ]
     },
     "execution_count": 37,
     "metadata": {},
     "output_type": "execute_result"
    }
   ],
   "source": [
    "random1000_10 = eu.datasets.random1000_10()\n",
    "random1000_10"
   ]
  },
  {
   "cell_type": "code",
   "execution_count": 40,
   "id": "83c0a567",
   "metadata": {
    "vscode": {
     "languageId": "python"
    }
   },
   "outputs": [
    {
     "data": {
      "image/png": "[encoded data removed]",
      "text/plain": [
       "<Figure size 1200x400 with 3 Axes>"
      ]
     },
     "metadata": {},
     "output_type": "display_data"
    }
   ],
   "source": [
    "eu.pl.violinplot(\n",
    "    random1000_10,\n",
    "    keys=['ACTIVITY_0', 'ACTIVITY_1', 'ACTIVITY_2']\n",
    ")"
   ]
  },
  {
   "cell_type": "markdown",
   "id": "d88e0ea0",
   "metadata": {},
   "source": [
    "# `farley15`\n",
    "This dataset represents SEL-seq data generated by first constructing a dictionary of unique barcode tag-enhancer pairs by allowing 2 bp mismatches in the ~69 bp enhancers to buffer the sequencing mistakes. If more than one barcode tag was associated with a single enhancer the maximum reads between these tags were used. Barcoded tags that were attached to multiple enhancers were removed. The resulting dictionary contains 2534802 enhancers that are uniquely mapped to one or more barcode tags. 2 biological replicates were used in this experiment and the reads per million total reads (RPM) was used for each tag. In total 163708 enhancers were detected by RNA-seq and 21799 of them were defined as active enhancers by RPM ≥ 4 in either of the 2 replicates."
   ]
  },
  {
   "cell_type": "code",
   "execution_count": 41,
   "id": "09cbd9c5",
   "metadata": {
    "vscode": {
     "languageId": "python"
    }
   },
   "outputs": [
    {
     "name": "stdout",
     "output_type": "stream",
     "text": [
      "Dataset farley15 farley2015_seqs.csv has already been dowloaded.\n",
      "Dataset farley15 farley2015_seqs_annot.csv has already been dowloaded.\n"
     ]
    },
    {
     "data": {
      "text/plain": [
       "SeqData object with = 163708 seqs\n",
       "seqs = (163708,)\n",
       "names = (163708,)\n",
       "rev_seqs = None\n",
       "ohe_seqs = None\n",
       "ohe_rev_seqs = None\n",
       "seqs_annot: 'Barcode', 'Biological Replicate 1 (RPM)', 'Biological Replicate 2 (RPM)'\n",
       "pos_annot: None\n",
       "seqsm: None\n",
       "uns: None"
      ]
     },
     "execution_count": 41,
     "metadata": {},
     "output_type": "execute_result"
    }
   ],
   "source": [
    "farley15 = eu.datasets.farley15()\n",
    "farley15"
   ]
  },
  {
   "cell_type": "code",
   "execution_count": 52,
   "id": "73c0d0f1",
   "metadata": {
    "vscode": {
     "languageId": "python"
    }
   },
   "outputs": [],
   "source": [
    "farley15_sub = farley15[farley15.seqs_annot[['Biological Replicate 1 (RPM)', 'Biological Replicate 2 (RPM)']].max(axis=1) >= 4]"
   ]
  },
  {
   "cell_type": "code",
   "execution_count": 53,
   "id": "e214f20e",
   "metadata": {
    "vscode": {
     "languageId": "python"
    }
   },
   "outputs": [
    {
     "data": {
      "application/vnd.jupyter.widget-view+json": {
       "model_id": "51a28b80629042519796b9efeef4a9b5",
       "version_major": 2,
       "version_minor": 0
      },
      "text/plain": [
       "0it [00:00, ?it/s]"
      ]
     },
     "metadata": {},
     "output_type": "display_data"
    }
   ],
   "source": [
    "farley15_sub.pos_annot = eu.pp.convert2pyRanges(farley15_sub.names, farley15_sub.seqs)"
   ]
  },
  {
   "cell_type": "code",
   "execution_count": 54,
   "id": "96d077c3",
   "metadata": {
    "vscode": {
     "languageId": "python"
    }
   },
   "outputs": [
    {
     "name": "stdout",
     "output_type": "stream",
     "text": [
      "No importance scores given, outputting just sequence\n"
     ]
    },
    {
     "data": {
      "image/png": "[encoded data removed]",
      "text/plain": [
       "<Figure size 1200x400 with 2 Axes>"
      ]
     },
     "metadata": {},
     "output_type": "display_data"
    }
   ],
   "source": [
    "eu.pl.seq_track(\n",
    "    farley15_sub,\n",
    "    seq_id=farley15_sub.names[0],\n",
    ")"
   ]
  },
  {
   "cell_type": "markdown",
   "id": "44a98146",
   "metadata": {},
   "source": [
    "# `deBoer20`"
   ]
  },
  {
   "cell_type": "code",
   "execution_count": null,
   "id": "0e6cedae",
   "metadata": {
    "vscode": {
     "languageId": "python"
    }
   },
   "outputs": [],
   "source": [
    "deBoer20_1 = eu.datasets.deBoer20(0)\n",
    "deBoer20_1"
   ]
  },
  {
   "cell_type": "markdown",
   "id": "e2a55b02",
   "metadata": {},
   "source": [
    "# `jores21`"
   ]
  },
  {
   "cell_type": "code",
   "execution_count": 27,
   "id": "5901200c",
   "metadata": {
    "vscode": {
     "languageId": "python"
    }
   },
   "outputs": [
    {
     "name": "stdout",
     "output_type": "stream",
     "text": [
      "Dataset jores21 CNN_test_leaf.tsv has already been dowloaded.\n",
      "Dataset jores21 CNN_train_leaf.tsv has already been dowloaded.\n",
      "Downloading jores21 CNN_train_proto.tsv to /cellar/users/aklie/projects/EUGENe/tests/_data/datasets/jores21...\n",
      "Finished downloading CNN_train_proto.tsv\n",
      "Downloading jores21 CNN_test_proto.tsv to /cellar/users/aklie/projects/EUGENe/tests/_data/datasets/jores21...\n",
      "Finished downloading CNN_test_proto.tsv\n"
     ]
    },
    {
     "data": {
      "text/plain": [
       "(SeqData object with = 72158 seqs\n",
       " seqs = (72158,)\n",
       " names = (72158,)\n",
       " rev_seqs = None\n",
       " ohe_seqs = None\n",
       " ohe_rev_seqs = None\n",
       " seqs_annot: 'set', 'sp', 'gene', 'enrichment'\n",
       " pos_annot: None\n",
       " seqsm: None\n",
       " uns: None,\n",
       " SeqData object with = 75808 seqs\n",
       " seqs = (75808,)\n",
       " names = (75808,)\n",
       " rev_seqs = None\n",
       " ohe_seqs = None\n",
       " ohe_rev_seqs = None\n",
       " seqs_annot: 'set', 'sp', 'gene', 'enrichment'\n",
       " pos_annot: None\n",
       " seqsm: None\n",
       " uns: None)"
      ]
     },
     "execution_count": 27,
     "metadata": {},
     "output_type": "execute_result"
    }
   ],
   "source": [
    "eu.datasets.jores21(dataset=\"leaf\"), eu.datasets.jores21(dataset=\"proto\")"
   ]
  },
  {
   "cell_type": "markdown",
   "id": "765bde41",
   "metadata": {},
   "source": [
    "# RNA Complete dataset"
   ]
  },
  {
   "cell_type": "code",
   "execution_count": null,
   "id": "3a38f1fd",
   "metadata": {
    "vscode": {
     "languageId": "python"
    }
   },
   "outputs": [],
   "source": [
    "pd.read_csv(\"/cellar/users/aklie/data/eugene/rna_complete/norm_data.txt.gz\", sep=\"\\t\")"
   ]
  },
  {
   "cell_type": "code",
   "execution_count": 59,
   "id": "3eac3502",
   "metadata": {
    "vscode": {
     "languageId": "python"
    }
   },
   "outputs": [],
   "source": [
    "eu.utils.generate_random_data(num_seqs=1000, seq_len=66, num_outputs=10, dataset_name=\"random1000_10\")"
   ]
  },
  {
   "cell_type": "code",
   "execution_count": 7,
   "id": "816f32fd",
   "metadata": {
    "vscode": {
     "languageId": "python"
    }
   },
   "outputs": [],
   "source": []
  },
  {
   "cell_type": "code",
   "execution_count": null,
   "id": "4625ee69",
   "metadata": {
    "vscode": {
     "languageId": "python"
    }
   },
   "outputs": [],
   "source": []
  },
  {
   "cell_type": "code",
   "execution_count": 18,
   "id": "be9926c2",
   "metadata": {
    "vscode": {
     "languageId": "python"
    }
   },
   "outputs": [],
   "source": [
    "num_seqs = 1000\n",
    "num_outputs = 10"
   ]
  },
  {
   "cell_type": "code",
   "execution_count": 30,
   "id": "9c139271",
   "metadata": {
    "vscode": {
     "languageId": "python"
    }
   },
   "outputs": [],
   "source": [
    "n_digits = len(str(num_seqs-1))\n",
    "ids = np.array([\"seq{num:0{width}}\".format(num=i, width=n_digits) for i in range(num_seqs)])"
   ]
  },
  {
   "cell_type": "code",
   "execution_count": 19,
   "id": "811fa63c",
   "metadata": {
    "vscode": {
     "languageId": "python"
    }
   },
   "outputs": [],
   "source": [
    "labels = np.random.randint(0,2,size=(num_seqs, num_outputs))\n",
    "activities = np.random.rand(num_seqs, num_outputs)"
   ]
  },
  {
   "cell_type": "code",
   "execution_count": 20,
   "id": "a3a3b121",
   "metadata": {
    "vscode": {
     "languageId": "python"
    }
   },
   "outputs": [],
   "source": [
    "label_cols = [\"LABEL_{}\".format(i) for i in range(num_outputs)]\n",
    "activity_cols = [\"ACTIVITY_{}\".format(i) for i in range(num_outputs)]"
   ]
  },
  {
   "cell_type": "code",
   "execution_count": 45,
   "id": "a516c276",
   "metadata": {
    "vscode": {
     "languageId": "python"
    }
   },
   "outputs": [],
   "source": [
    "test_dict = dict(dict(NAME=ids), **dict(zip(label_cols, labels.T)), **dict(zip(activity_cols, activities.T)))"
   ]
  },
  {
   "cell_type": "code",
   "execution_count": 46,
   "id": "39819356",
   "metadata": {
    "vscode": {
     "languageId": "python"
    }
   },
   "outputs": [
    {
     "data": {
      "text/plain": [
       "dict_keys(['NAME', 'LABEL_0', 'LABEL_1', 'LABEL_2', 'LABEL_3', 'LABEL_4', 'LABEL_5', 'LABEL_6', 'LABEL_7', 'LABEL_8', 'LABEL_9', 'ACTIVITY_0', 'ACTIVITY_1', 'ACTIVITY_2', 'ACTIVITY_3', 'ACTIVITY_4', 'ACTIVITY_5', 'ACTIVITY_6', 'ACTIVITY_7', 'ACTIVITY_8', 'ACTIVITY_9'])"
      ]
     },
     "execution_count": 46,
     "metadata": {},
     "output_type": "execute_result"
    }
   ],
   "source": [
    "test_dict.keys()"
   ]
  },
  {
   "cell_type": "code",
   "execution_count": 47,
   "id": "5683a6bc",
   "metadata": {
    "vscode": {
     "languageId": "python"
    }
   },
   "outputs": [
    {
     "data": {
      "text/html": [
       "<div>\n",
       "<style scoped>\n",
       "    .dataframe tbody tr th:only-of-type {\n",
       "        vertical-align: middle;\n",
       "    }\n",
       "\n",
       "    .dataframe tbody tr th {\n",
       "        vertical-align: top;\n",
       "    }\n",
       "\n",
       "    .dataframe thead th {\n",
       "        text-align: right;\n",
       "    }\n",
       "</style>\n",
       "<table border=\"1\" class=\"dataframe\">\n",
       "  <thead>\n",
       "    <tr style=\"text-align: right;\">\n",
       "      <th></th>\n",
       "      <th>NAME</th>\n",
       "      <th>LABEL_0</th>\n",
       "      <th>LABEL_1</th>\n",
       "      <th>LABEL_2</th>\n",
       "      <th>LABEL_3</th>\n",
       "      <th>LABEL_4</th>\n",
       "      <th>LABEL_5</th>\n",
       "      <th>LABEL_6</th>\n",
       "      <th>LABEL_7</th>\n",
       "      <th>LABEL_8</th>\n",
       "      <th>...</th>\n",
       "      <th>ACTIVITY_0</th>\n",
       "      <th>ACTIVITY_1</th>\n",
       "      <th>ACTIVITY_2</th>\n",
       "      <th>ACTIVITY_3</th>\n",
       "      <th>ACTIVITY_4</th>\n",
       "      <th>ACTIVITY_5</th>\n",
       "      <th>ACTIVITY_6</th>\n",
       "      <th>ACTIVITY_7</th>\n",
       "      <th>ACTIVITY_8</th>\n",
       "      <th>ACTIVITY_9</th>\n",
       "    </tr>\n",
       "  </thead>\n",
       "  <tbody>\n",
       "    <tr>\n",
       "      <th>0</th>\n",
       "      <td>seq000</td>\n",
       "      <td>0</td>\n",
       "      <td>1</td>\n",
       "      <td>0</td>\n",
       "      <td>0</td>\n",
       "      <td>1</td>\n",
       "      <td>0</td>\n",
       "      <td>1</td>\n",
       "      <td>1</td>\n",
       "      <td>1</td>\n",
       "      <td>...</td>\n",
       "      <td>0.136091</td>\n",
       "      <td>0.393341</td>\n",
       "      <td>0.856728</td>\n",
       "      <td>0.371197</td>\n",
       "      <td>0.039131</td>\n",
       "      <td>0.062918</td>\n",
       "      <td>0.171280</td>\n",
       "      <td>0.726156</td>\n",
       "      <td>0.044187</td>\n",
       "      <td>0.288193</td>\n",
       "    </tr>\n",
       "    <tr>\n",
       "      <th>1</th>\n",
       "      <td>seq001</td>\n",
       "      <td>1</td>\n",
       "      <td>0</td>\n",
       "      <td>1</td>\n",
       "      <td>1</td>\n",
       "      <td>0</td>\n",
       "      <td>0</td>\n",
       "      <td>0</td>\n",
       "      <td>1</td>\n",
       "      <td>1</td>\n",
       "      <td>...</td>\n",
       "      <td>0.759417</td>\n",
       "      <td>0.321257</td>\n",
       "      <td>0.235287</td>\n",
       "      <td>0.259573</td>\n",
       "      <td>0.202452</td>\n",
       "      <td>0.309004</td>\n",
       "      <td>0.895309</td>\n",
       "      <td>0.759696</td>\n",
       "      <td>0.893332</td>\n",
       "      <td>0.580223</td>\n",
       "    </tr>\n",
       "    <tr>\n",
       "      <th>2</th>\n",
       "      <td>seq002</td>\n",
       "      <td>0</td>\n",
       "      <td>0</td>\n",
       "      <td>0</td>\n",
       "      <td>1</td>\n",
       "      <td>0</td>\n",
       "      <td>1</td>\n",
       "      <td>0</td>\n",
       "      <td>0</td>\n",
       "      <td>0</td>\n",
       "      <td>...</td>\n",
       "      <td>0.355752</td>\n",
       "      <td>0.744815</td>\n",
       "      <td>0.159422</td>\n",
       "      <td>0.120629</td>\n",
       "      <td>0.773472</td>\n",
       "      <td>0.617851</td>\n",
       "      <td>0.929572</td>\n",
       "      <td>0.190477</td>\n",
       "      <td>0.293232</td>\n",
       "      <td>0.547462</td>\n",
       "    </tr>\n",
       "    <tr>\n",
       "      <th>3</th>\n",
       "      <td>seq003</td>\n",
       "      <td>0</td>\n",
       "      <td>0</td>\n",
       "      <td>1</td>\n",
       "      <td>1</td>\n",
       "      <td>0</td>\n",
       "      <td>0</td>\n",
       "      <td>0</td>\n",
       "      <td>1</td>\n",
       "      <td>1</td>\n",
       "      <td>...</td>\n",
       "      <td>0.737131</td>\n",
       "      <td>0.166221</td>\n",
       "      <td>0.137907</td>\n",
       "      <td>0.420561</td>\n",
       "      <td>0.513999</td>\n",
       "      <td>0.805506</td>\n",
       "      <td>0.059836</td>\n",
       "      <td>0.971746</td>\n",
       "      <td>0.513194</td>\n",
       "      <td>0.622146</td>\n",
       "    </tr>\n",
       "    <tr>\n",
       "      <th>4</th>\n",
       "      <td>seq004</td>\n",
       "      <td>0</td>\n",
       "      <td>0</td>\n",
       "      <td>0</td>\n",
       "      <td>0</td>\n",
       "      <td>1</td>\n",
       "      <td>1</td>\n",
       "      <td>1</td>\n",
       "      <td>1</td>\n",
       "      <td>0</td>\n",
       "      <td>...</td>\n",
       "      <td>0.003090</td>\n",
       "      <td>0.514462</td>\n",
       "      <td>0.924040</td>\n",
       "      <td>0.358115</td>\n",
       "      <td>0.285167</td>\n",
       "      <td>0.609111</td>\n",
       "      <td>0.050351</td>\n",
       "      <td>0.631610</td>\n",
       "      <td>0.922408</td>\n",
       "      <td>0.479885</td>\n",
       "    </tr>\n",
       "    <tr>\n",
       "      <th>...</th>\n",
       "      <td>...</td>\n",
       "      <td>...</td>\n",
       "      <td>...</td>\n",
       "      <td>...</td>\n",
       "      <td>...</td>\n",
       "      <td>...</td>\n",
       "      <td>...</td>\n",
       "      <td>...</td>\n",
       "      <td>...</td>\n",
       "      <td>...</td>\n",
       "      <td>...</td>\n",
       "      <td>...</td>\n",
       "      <td>...</td>\n",
       "      <td>...</td>\n",
       "      <td>...</td>\n",
       "      <td>...</td>\n",
       "      <td>...</td>\n",
       "      <td>...</td>\n",
       "      <td>...</td>\n",
       "      <td>...</td>\n",
       "      <td>...</td>\n",
       "    </tr>\n",
       "    <tr>\n",
       "      <th>995</th>\n",
       "      <td>seq995</td>\n",
       "      <td>0</td>\n",
       "      <td>1</td>\n",
       "      <td>1</td>\n",
       "      <td>0</td>\n",
       "      <td>0</td>\n",
       "      <td>1</td>\n",
       "      <td>1</td>\n",
       "      <td>1</td>\n",
       "      <td>0</td>\n",
       "      <td>...</td>\n",
       "      <td>0.856105</td>\n",
       "      <td>0.058945</td>\n",
       "      <td>0.791553</td>\n",
       "      <td>0.975106</td>\n",
       "      <td>0.775342</td>\n",
       "      <td>0.050280</td>\n",
       "      <td>0.659470</td>\n",
       "      <td>0.742035</td>\n",
       "      <td>0.643288</td>\n",
       "      <td>0.581103</td>\n",
       "    </tr>\n",
       "    <tr>\n",
       "      <th>996</th>\n",
       "      <td>seq996</td>\n",
       "      <td>0</td>\n",
       "      <td>0</td>\n",
       "      <td>1</td>\n",
       "      <td>1</td>\n",
       "      <td>1</td>\n",
       "      <td>1</td>\n",
       "      <td>1</td>\n",
       "      <td>0</td>\n",
       "      <td>0</td>\n",
       "      <td>...</td>\n",
       "      <td>0.089650</td>\n",
       "      <td>0.500784</td>\n",
       "      <td>0.498494</td>\n",
       "      <td>0.041080</td>\n",
       "      <td>0.630354</td>\n",
       "      <td>0.653317</td>\n",
       "      <td>0.224752</td>\n",
       "      <td>0.262105</td>\n",
       "      <td>0.153604</td>\n",
       "      <td>0.857420</td>\n",
       "    </tr>\n",
       "    <tr>\n",
       "      <th>997</th>\n",
       "      <td>seq997</td>\n",
       "      <td>0</td>\n",
       "      <td>1</td>\n",
       "      <td>0</td>\n",
       "      <td>0</td>\n",
       "      <td>0</td>\n",
       "      <td>0</td>\n",
       "      <td>0</td>\n",
       "      <td>1</td>\n",
       "      <td>0</td>\n",
       "      <td>...</td>\n",
       "      <td>0.275583</td>\n",
       "      <td>0.101739</td>\n",
       "      <td>0.886046</td>\n",
       "      <td>0.727605</td>\n",
       "      <td>0.327248</td>\n",
       "      <td>0.678102</td>\n",
       "      <td>0.255925</td>\n",
       "      <td>0.333556</td>\n",
       "      <td>0.676320</td>\n",
       "      <td>0.026159</td>\n",
       "    </tr>\n",
       "    <tr>\n",
       "      <th>998</th>\n",
       "      <td>seq998</td>\n",
       "      <td>0</td>\n",
       "      <td>1</td>\n",
       "      <td>1</td>\n",
       "      <td>1</td>\n",
       "      <td>0</td>\n",
       "      <td>1</td>\n",
       "      <td>1</td>\n",
       "      <td>0</td>\n",
       "      <td>0</td>\n",
       "      <td>...</td>\n",
       "      <td>0.428197</td>\n",
       "      <td>0.598415</td>\n",
       "      <td>0.535759</td>\n",
       "      <td>0.440924</td>\n",
       "      <td>0.270214</td>\n",
       "      <td>0.497965</td>\n",
       "      <td>0.159741</td>\n",
       "      <td>0.895670</td>\n",
       "      <td>0.512714</td>\n",
       "      <td>0.933207</td>\n",
       "    </tr>\n",
       "    <tr>\n",
       "      <th>999</th>\n",
       "      <td>seq999</td>\n",
       "      <td>0</td>\n",
       "      <td>1</td>\n",
       "      <td>1</td>\n",
       "      <td>1</td>\n",
       "      <td>1</td>\n",
       "      <td>0</td>\n",
       "      <td>0</td>\n",
       "      <td>0</td>\n",
       "      <td>1</td>\n",
       "      <td>...</td>\n",
       "      <td>0.842813</td>\n",
       "      <td>0.950582</td>\n",
       "      <td>0.682285</td>\n",
       "      <td>0.415795</td>\n",
       "      <td>0.786869</td>\n",
       "      <td>0.903783</td>\n",
       "      <td>0.536297</td>\n",
       "      <td>0.598698</td>\n",
       "      <td>0.487516</td>\n",
       "      <td>0.115725</td>\n",
       "    </tr>\n",
       "  </tbody>\n",
       "</table>\n",
       "<p>1000 rows × 21 columns</p>\n",
       "</div>"
      ],
      "text/plain": [
       "       NAME  LABEL_0  LABEL_1  LABEL_2  LABEL_3  LABEL_4  LABEL_5  LABEL_6  \\\n",
       "0    seq000        0        1        0        0        1        0        1   \n",
       "1    seq001        1        0        1        1        0        0        0   \n",
       "2    seq002        0        0        0        1        0        1        0   \n",
       "3    seq003        0        0        1        1        0        0        0   \n",
       "4    seq004        0        0        0        0        1        1        1   \n",
       "..      ...      ...      ...      ...      ...      ...      ...      ...   \n",
       "995  seq995        0        1        1        0        0        1        1   \n",
       "996  seq996        0        0        1        1        1        1        1   \n",
       "997  seq997        0        1        0        0        0        0        0   \n",
       "998  seq998        0        1        1        1        0        1        1   \n",
       "999  seq999        0        1        1        1        1        0        0   \n",
       "\n",
       "     LABEL_7  LABEL_8  ...  ACTIVITY_0  ACTIVITY_1  ACTIVITY_2  ACTIVITY_3  \\\n",
       "0          1        1  ...    0.136091    0.393341    0.856728    0.371197   \n",
       "1          1        1  ...    0.759417    0.321257    0.235287    0.259573   \n",
       "2          0        0  ...    0.355752    0.744815    0.159422    0.120629   \n",
       "3          1        1  ...    0.737131    0.166221    0.137907    0.420561   \n",
       "4          1        0  ...    0.003090    0.514462    0.924040    0.358115   \n",
       "..       ...      ...  ...         ...         ...         ...         ...   \n",
       "995        1        0  ...    0.856105    0.058945    0.791553    0.975106   \n",
       "996        0        0  ...    0.089650    0.500784    0.498494    0.041080   \n",
       "997        1        0  ...    0.275583    0.101739    0.886046    0.727605   \n",
       "998        0        0  ...    0.428197    0.598415    0.535759    0.440924   \n",
       "999        0        1  ...    0.842813    0.950582    0.682285    0.415795   \n",
       "\n",
       "     ACTIVITY_4  ACTIVITY_5  ACTIVITY_6  ACTIVITY_7  ACTIVITY_8  ACTIVITY_9  \n",
       "0      0.039131    0.062918    0.171280    0.726156    0.044187    0.288193  \n",
       "1      0.202452    0.309004    0.895309    0.759696    0.893332    0.580223  \n",
       "2      0.773472    0.617851    0.929572    0.190477    0.293232    0.547462  \n",
       "3      0.513999    0.805506    0.059836    0.971746    0.513194    0.622146  \n",
       "4      0.285167    0.609111    0.050351    0.631610    0.922408    0.479885  \n",
       "..          ...         ...         ...         ...         ...         ...  \n",
       "995    0.775342    0.050280    0.659470    0.742035    0.643288    0.581103  \n",
       "996    0.630354    0.653317    0.224752    0.262105    0.153604    0.857420  \n",
       "997    0.327248    0.678102    0.255925    0.333556    0.676320    0.026159  \n",
       "998    0.270214    0.497965    0.159741    0.895670    0.512714    0.933207  \n",
       "999    0.786869    0.903783    0.536297    0.598698    0.487516    0.115725  \n",
       "\n",
       "[1000 rows x 21 columns]"
      ]
     },
     "execution_count": 47,
     "metadata": {},
     "output_type": "execute_result"
    }
   ],
   "source": [
    "pd.DataFrame(test_dict)"
   ]
  },
  {
   "cell_type": "code",
   "execution_count": 5,
   "id": "d1b9ef70",
   "metadata": {
    "vscode": {
     "languageId": "python"
    }
   },
   "outputs": [
    {
     "name": "stdout",
     "output_type": "stream",
     "text": [
      "Kept 1000 sequences with targets, dropped 0 sequences with no targets\n"
     ]
    }
   ],
   "source": [
    "sdata = eu.datasets.random1000()"
   ]
  },
  {
   "cell_type": "code",
   "execution_count": 6,
   "id": "06cad659",
   "metadata": {
    "vscode": {
     "languageId": "python"
    }
   },
   "outputs": [
    {
     "data": {
      "application/vnd.jupyter.widget-view+json": {
       "model_id": "e4cec35fbad34e8e8cb00c398d23b158",
       "version_major": 2,
       "version_minor": 0
      },
      "text/plain": [
       "  0%|          | 0/3 [00:00<?, ?it/s]"
      ]
     },
     "metadata": {},
     "output_type": "display_data"
    },
    {
     "name": "stdout",
     "output_type": "stream",
     "text": [
      "SeqData object modified:\n",
      "\trev_seqs: None -> 1000 rev_seqs added\n",
      "\tohe_seqs: None -> 1000 ohe_seqs added\n",
      "\tohe_rev_seqs: None -> 1000 ohe_rev_seqs added\n",
      "    seqs_annot:\n",
      "        + TRAIN\n"
     ]
    }
   ],
   "source": [
    "eu.pp.prepare_data(sdata)"
   ]
  },
  {
   "cell_type": "code",
   "execution_count": 15,
   "id": "4232e1f2",
   "metadata": {
    "vscode": {
     "languageId": "python"
    }
   },
   "outputs": [
    {
     "name": "stdout",
     "output_type": "stream",
     "text": [
      "Dataset farley15 farley2015_seqs.csv has already been dowloaded.\n",
      "Dataset farley15 farley2015_seqs_annot.csv has already been dowloaded.\n"
     ]
    },
    {
     "data": {
      "text/plain": [
       "SeqData object with = 163708 seqs\n",
       "seqs = (163708,)\n",
       "names = (163708,)\n",
       "rev_seqs = None\n",
       "ohe_seqs = None\n",
       "ohe_rev_seqs = None\n",
       "seqs_annot: 'Barcode', 'Biological Replicate 1 (RPM)', 'Biological Replicate 2 (RPM)'\n",
       "pos_annot: None\n",
       "seqsm: None\n",
       "uns: None"
      ]
     },
     "execution_count": 15,
     "metadata": {},
     "output_type": "execute_result"
    }
   ],
   "source": [
    "eu.datasets.farley15()"
   ]
  },
  {
   "cell_type": "code",
   "execution_count": 12,
   "id": "cc68e1b9",
   "metadata": {
    "vscode": {
     "languageId": "python"
    }
   },
   "outputs": [
    {
     "name": "stdout",
     "output_type": "stream",
     "text": [
      "Kept 20 sequences with targets, dropped 0 sequences with no targets\n"
     ]
    },
    {
     "data": {
      "text/plain": [
       "SeqData object with = 20 seqs\n",
       "seqs = (20,)\n",
       "names = (20,)\n",
       "rev_seqs = None\n",
       "ohe_seqs = None\n",
       "ohe_rev_seqs = None\n",
       "seqs_annot: 'TARGETS'\n",
       "pos_annot: None"
      ]
     },
     "execution_count": 12,
     "metadata": {},
     "output_type": "execute_result"
    }
   ],
   "source": [
    "eu.datasets.Khoueiry10()"
   ]
  },
  {
   "cell_type": "code",
   "execution_count": 3,
   "id": "ccda18ca",
   "metadata": {
    "vscode": {
     "languageId": "python"
    }
   },
   "outputs": [
    {
     "name": "stdout",
     "output_type": "stream",
     "text": [
      "Dataset deBoer20 GSE104878_20160503_average_promoter_ELs_per_seq_atLeast100Counts.csv.gz has already been dowloaded.\n",
      "Kept 9982 sequences with targets, dropped 0 sequences with no targets\n"
     ]
    },
    {
     "data": {
      "text/plain": [
       "SeqData object with = 9982 seqs\n",
       "seqs = (9982,)\n",
       "names = (9982,)\n",
       "rev_seqs = (9982,)\n",
       "ohe_seqs = None\n",
       "ohe_rev_seqs = None\n",
       "seqs_annot: 'TARGETS'\n",
       "pos_annot: None"
      ]
     },
     "execution_count": 3,
     "metadata": {},
     "output_type": "execute_result"
    }
   ],
   "source": [
    "eu.datasets.deBoer20(0, rev_comp=True)"
   ]
  },
  {
   "cell_type": "code",
   "execution_count": 6,
   "id": "8a93b9c9",
   "metadata": {
    "vscode": {
     "languageId": "python"
    }
   },
   "outputs": [
    {
     "name": "stdout",
     "output_type": "stream",
     "text": [
      "Path /cellar/users/aklie/projects/EUGENE/tests/_data/datasets/deAlmeida22 does not exist, creating new folder.\n",
      "Downloading deAlmeida22 Sequences_Train.fa?download=1 to /cellar/users/aklie/projects/EUGENE/tests/_data/datasets/deAlmeida22...\n",
      "Finished downloading Sequences_Train.fa?download=1\n",
      "Downloading deAlmeida22 Sequences_activity_Train.txt?download=1 to /cellar/users/aklie/projects/EUGENE/tests/_data/datasets/deAlmeida22...\n",
      "Finished downloading Sequences_activity_Train.txt?download=1\n"
     ]
    },
    {
     "data": {
      "text/plain": [
       "SeqData object with = 402296 seqs\n",
       "seqs = (402296,)\n",
       "names = (402296,)\n",
       "rev_seqs = None\n",
       "ohe_seqs = None\n",
       "ohe_rev_seqs = None\n",
       "seqs_annot: 'Dev_log2_enrichment', 'Hk_log2_enrichment', 'Dev_log2_enrichment_scaled', 'Hk_log2_enrichment_scaled', 'Dev_log2_enrichment_quantile_normalized', 'Hk_log2_enrichment_quantile_normalized'\n",
       "pos_annot: None\n",
       "seqsm: None\n",
       "uns: None"
      ]
     },
     "execution_count": 6,
     "metadata": {},
     "output_type": "execute_result"
    }
   ],
   "source": [
    "eu.datasets.deAlmeida22()"
   ]
  },
  {
   "cell_type": "markdown",
   "id": "7c911a6b",
   "metadata": {},
   "source": [
    "---"
   ]
  }
 ],
 "metadata": {
  "kernelspec": {
   "display_name": "Python 3.7 eugene_dev",
   "language": "python",
   "name": "eugene_dev"
  },
  "language_info": {
   "name": "",
   "version": ""
  },
  "vscode": {
   "interpreter": {
    "hash": "f0aab14ae665ca4264878e5867720697752ca4d3a67458798aa51c276bf829a9"
   }
  }
 },
 "nbformat": 4,
 "nbformat_minor": 5
}

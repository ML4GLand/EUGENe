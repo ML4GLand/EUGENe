{
 "cells": [
  {
   "cell_type": "markdown",
   "id": "b4015d04",
   "metadata": {},
   "source": [
    "# Setup of file and variables"
   ]
  },
  {
   "cell_type": "code",
   "execution_count": 1,
   "id": "0bd57526",
   "metadata": {},
   "outputs": [
    {
     "name": "stderr",
     "output_type": "stream",
     "text": [
      "Global seed set to 13\n",
      "Global seed set to 13\n",
      "Global seed set to 13\n"
     ]
    }
   ],
   "source": [
    "import numpy as np\n",
    "import pandas as pd\n",
    "import torch\n",
    "\n",
    "import pytorch_lightning as pl\n",
    "\n",
    "import eugene as eu\n",
    "from torch.utils.data import Dataset, DataLoader\n",
    "\n",
    "# Autoreload extension\n",
    "if 'autoreload' not in get_ipython().extension_manager.loaded:\n",
    "    %load_ext autoreload\n",
    "%autoreload 2"
   ]
  },
  {
   "cell_type": "code",
   "execution_count": 2,
   "id": "4c6932cc",
   "metadata": {},
   "outputs": [],
   "source": [
    "from eugene.models import DeepSEA"
   ]
  },
  {
   "cell_type": "code",
   "execution_count": 3,
   "id": "0172bcae",
   "metadata": {},
   "outputs": [],
   "source": [
    "# Length of strand\n",
    "x_len = 1000\n",
    "\n",
    "# Substitute x and x_rev for their respective data\n",
    "x = torch.randn(10, 4, x_len)\n",
    "x_rev = torch.randn(10, 4, x_len)"
   ]
  },
  {
   "cell_type": "markdown",
   "id": "027e874a",
   "metadata": {},
   "source": [
    "# Simple usage of DeepSEA module\n",
    "\n",
    "The DeepBind module only requires one parameter to function. It can be further customized with optional parameters."
   ]
  },
  {
   "cell_type": "code",
   "execution_count": 4,
   "id": "ebdd1bde",
   "metadata": {},
   "outputs": [
    {
     "data": {
      "text/plain": [
       "DeepSEA(\n",
       "  (module): Sequential(\n",
       "    (0): Conv1d(4, 320, kernel_size=(8,), stride=(1,))\n",
       "    (1): ReLU()\n",
       "    (2): MaxPool1d(kernel_size=4, stride=4, padding=0, dilation=1, ceil_mode=False)\n",
       "    (3): Dropout(p=0.2, inplace=False)\n",
       "    (4): Conv1d(320, 480, kernel_size=(8,), stride=(1,))\n",
       "    (5): ReLU()\n",
       "    (6): MaxPool1d(kernel_size=4, stride=4, padding=0, dilation=1, ceil_mode=False)\n",
       "    (7): Dropout(p=0.2, inplace=False)\n",
       "    (8): Conv1d(480, 960, kernel_size=(8,), stride=(1,))\n",
       "    (9): ReLU()\n",
       "    (10): Dropout(p=0.2, inplace=False)\n",
       "  )\n",
       "  (fcnet): BasicFullyConnectedModule(\n",
       "    (module): Sequential(\n",
       "      (0): Linear(in_features=50880, out_features=1, bias=True)\n",
       "    )\n",
       "  )\n",
       "  (r_squared): R2Score()\n",
       ")"
      ]
     },
     "execution_count": 4,
     "metadata": {},
     "output_type": "execute_result"
    }
   ],
   "source": [
    "simple_deepsea_instance = DeepSEA(input_len=x_len)\n",
    "\n",
    "simple_deepsea_instance"
   ]
  },
  {
   "cell_type": "code",
   "execution_count": 5,
   "id": "40ae4a20",
   "metadata": {},
   "outputs": [
    {
     "ename": "RuntimeError",
     "evalue": "mat1 and mat2 shapes cannot be multiplied (9600x53 and 50880x1)",
     "output_type": "error",
     "traceback": [
      "\u001b[0;31m---------------------------------------------------------------------------\u001b[0m",
      "\u001b[0;31mRuntimeError\u001b[0m                              Traceback (most recent call last)",
      "\u001b[0;32m/tmp/ipykernel_3368736/1918430868.py\u001b[0m in \u001b[0;36m<module>\u001b[0;34m\u001b[0m\n\u001b[1;32m      1\u001b[0m \u001b[0;31m# x_rev does not need to be specified in single strand mode\u001b[0m\u001b[0;34m\u001b[0m\u001b[0;34m\u001b[0m\u001b[0;34m\u001b[0m\u001b[0m\n\u001b[0;32m----> 2\u001b[0;31m \u001b[0mout\u001b[0m \u001b[0;34m=\u001b[0m \u001b[0msimple_deepsea_instance\u001b[0m\u001b[0;34m(\u001b[0m\u001b[0mx\u001b[0m\u001b[0;34m)\u001b[0m\u001b[0;34m\u001b[0m\u001b[0;34m\u001b[0m\u001b[0m\n\u001b[0m\u001b[1;32m      3\u001b[0m \u001b[0;34m\u001b[0m\u001b[0m\n\u001b[1;32m      4\u001b[0m \u001b[0mout\u001b[0m\u001b[0;34m,\u001b[0m \u001b[0mout\u001b[0m\u001b[0;34m.\u001b[0m\u001b[0mshape\u001b[0m\u001b[0;34m\u001b[0m\u001b[0;34m\u001b[0m\u001b[0m\n",
      "\u001b[0;32m~/opt/miniconda3/envs/eugene/lib/python3.7/site-packages/torch/nn/modules/module.py\u001b[0m in \u001b[0;36m_call_impl\u001b[0;34m(self, *input, **kwargs)\u001b[0m\n\u001b[1;32m   1108\u001b[0m         if not (self._backward_hooks or self._forward_hooks or self._forward_pre_hooks or _global_backward_hooks\n\u001b[1;32m   1109\u001b[0m                 or _global_forward_hooks or _global_forward_pre_hooks):\n\u001b[0;32m-> 1110\u001b[0;31m             \u001b[0;32mreturn\u001b[0m \u001b[0mforward_call\u001b[0m\u001b[0;34m(\u001b[0m\u001b[0;34m*\u001b[0m\u001b[0minput\u001b[0m\u001b[0;34m,\u001b[0m \u001b[0;34m**\u001b[0m\u001b[0mkwargs\u001b[0m\u001b[0;34m)\u001b[0m\u001b[0;34m\u001b[0m\u001b[0;34m\u001b[0m\u001b[0m\n\u001b[0m\u001b[1;32m   1111\u001b[0m         \u001b[0;31m# Do not call functions when jit is used\u001b[0m\u001b[0;34m\u001b[0m\u001b[0;34m\u001b[0m\u001b[0;34m\u001b[0m\u001b[0m\n\u001b[1;32m   1112\u001b[0m         \u001b[0mfull_backward_hooks\u001b[0m\u001b[0;34m,\u001b[0m \u001b[0mnon_full_backward_hooks\u001b[0m \u001b[0;34m=\u001b[0m \u001b[0;34m[\u001b[0m\u001b[0;34m]\u001b[0m\u001b[0;34m,\u001b[0m \u001b[0;34m[\u001b[0m\u001b[0;34m]\u001b[0m\u001b[0;34m\u001b[0m\u001b[0;34m\u001b[0m\u001b[0m\n",
      "\u001b[0;32m/mnt/beegfs/users/aklie/projects/EUGENE/eugene/models/_deepsea.py\u001b[0m in \u001b[0;36mforward\u001b[0;34m(self, x)\u001b[0m\n\u001b[1;32m     91\u001b[0m \u001b[0;34m\u001b[0m\u001b[0m\n\u001b[1;32m     92\u001b[0m     \u001b[0;32mdef\u001b[0m \u001b[0mforward\u001b[0m\u001b[0;34m(\u001b[0m\u001b[0mself\u001b[0m\u001b[0;34m,\u001b[0m \u001b[0mx\u001b[0m\u001b[0;34m)\u001b[0m\u001b[0;34m:\u001b[0m\u001b[0;34m\u001b[0m\u001b[0;34m\u001b[0m\u001b[0m\n\u001b[0;32m---> 93\u001b[0;31m         \u001b[0;32mreturn\u001b[0m \u001b[0mself\u001b[0m\u001b[0;34m.\u001b[0m\u001b[0mfcnet\u001b[0m\u001b[0;34m(\u001b[0m\u001b[0mself\u001b[0m\u001b[0;34m.\u001b[0m\u001b[0mmodule\u001b[0m\u001b[0;34m(\u001b[0m\u001b[0mx\u001b[0m\u001b[0;34m)\u001b[0m\u001b[0;34m)\u001b[0m\u001b[0;34m\u001b[0m\u001b[0;34m\u001b[0m\u001b[0m\n\u001b[0m\u001b[1;32m     94\u001b[0m \u001b[0;34m\u001b[0m\u001b[0m\n\u001b[1;32m     95\u001b[0m     \u001b[0;32mdef\u001b[0m \u001b[0mtraining_step\u001b[0m\u001b[0;34m(\u001b[0m\u001b[0mself\u001b[0m\u001b[0;34m,\u001b[0m \u001b[0mbatch\u001b[0m\u001b[0;34m,\u001b[0m \u001b[0mbatch_idx\u001b[0m\u001b[0;34m)\u001b[0m\u001b[0;34m:\u001b[0m\u001b[0;34m\u001b[0m\u001b[0;34m\u001b[0m\u001b[0m\n",
      "\u001b[0;32m~/opt/miniconda3/envs/eugene/lib/python3.7/site-packages/torch/nn/modules/module.py\u001b[0m in \u001b[0;36m_call_impl\u001b[0;34m(self, *input, **kwargs)\u001b[0m\n\u001b[1;32m   1108\u001b[0m         if not (self._backward_hooks or self._forward_hooks or self._forward_pre_hooks or _global_backward_hooks\n\u001b[1;32m   1109\u001b[0m                 or _global_forward_hooks or _global_forward_pre_hooks):\n\u001b[0;32m-> 1110\u001b[0;31m             \u001b[0;32mreturn\u001b[0m \u001b[0mforward_call\u001b[0m\u001b[0;34m(\u001b[0m\u001b[0;34m*\u001b[0m\u001b[0minput\u001b[0m\u001b[0;34m,\u001b[0m \u001b[0;34m**\u001b[0m\u001b[0mkwargs\u001b[0m\u001b[0;34m)\u001b[0m\u001b[0;34m\u001b[0m\u001b[0;34m\u001b[0m\u001b[0m\n\u001b[0m\u001b[1;32m   1111\u001b[0m         \u001b[0;31m# Do not call functions when jit is used\u001b[0m\u001b[0;34m\u001b[0m\u001b[0;34m\u001b[0m\u001b[0;34m\u001b[0m\u001b[0m\n\u001b[1;32m   1112\u001b[0m         \u001b[0mfull_backward_hooks\u001b[0m\u001b[0;34m,\u001b[0m \u001b[0mnon_full_backward_hooks\u001b[0m \u001b[0;34m=\u001b[0m \u001b[0;34m[\u001b[0m\u001b[0;34m]\u001b[0m\u001b[0;34m,\u001b[0m \u001b[0;34m[\u001b[0m\u001b[0;34m]\u001b[0m\u001b[0;34m\u001b[0m\u001b[0;34m\u001b[0m\u001b[0m\n",
      "\u001b[0;32m/mnt/beegfs/users/aklie/projects/EUGENE/eugene/models/base/_base_modules.py\u001b[0m in \u001b[0;36mforward\u001b[0;34m(self, x)\u001b[0m\n\u001b[1;32m     21\u001b[0m \u001b[0;34m\u001b[0m\u001b[0m\n\u001b[1;32m     22\u001b[0m     \u001b[0;32mdef\u001b[0m \u001b[0mforward\u001b[0m\u001b[0;34m(\u001b[0m\u001b[0mself\u001b[0m\u001b[0;34m,\u001b[0m \u001b[0mx\u001b[0m\u001b[0;34m)\u001b[0m\u001b[0;34m:\u001b[0m\u001b[0;34m\u001b[0m\u001b[0;34m\u001b[0m\u001b[0m\n\u001b[0;32m---> 23\u001b[0;31m         \u001b[0;32mreturn\u001b[0m \u001b[0mself\u001b[0m\u001b[0;34m.\u001b[0m\u001b[0mmodule\u001b[0m\u001b[0;34m(\u001b[0m\u001b[0mx\u001b[0m\u001b[0;34m)\u001b[0m\u001b[0;34m\u001b[0m\u001b[0;34m\u001b[0m\u001b[0m\n\u001b[0m\u001b[1;32m     24\u001b[0m \u001b[0;34m\u001b[0m\u001b[0m\n\u001b[1;32m     25\u001b[0m \u001b[0;34m\u001b[0m\u001b[0m\n",
      "\u001b[0;32m~/opt/miniconda3/envs/eugene/lib/python3.7/site-packages/torch/nn/modules/module.py\u001b[0m in \u001b[0;36m_call_impl\u001b[0;34m(self, *input, **kwargs)\u001b[0m\n\u001b[1;32m   1108\u001b[0m         if not (self._backward_hooks or self._forward_hooks or self._forward_pre_hooks or _global_backward_hooks\n\u001b[1;32m   1109\u001b[0m                 or _global_forward_hooks or _global_forward_pre_hooks):\n\u001b[0;32m-> 1110\u001b[0;31m             \u001b[0;32mreturn\u001b[0m \u001b[0mforward_call\u001b[0m\u001b[0;34m(\u001b[0m\u001b[0;34m*\u001b[0m\u001b[0minput\u001b[0m\u001b[0;34m,\u001b[0m \u001b[0;34m**\u001b[0m\u001b[0mkwargs\u001b[0m\u001b[0;34m)\u001b[0m\u001b[0;34m\u001b[0m\u001b[0;34m\u001b[0m\u001b[0m\n\u001b[0m\u001b[1;32m   1111\u001b[0m         \u001b[0;31m# Do not call functions when jit is used\u001b[0m\u001b[0;34m\u001b[0m\u001b[0;34m\u001b[0m\u001b[0;34m\u001b[0m\u001b[0m\n\u001b[1;32m   1112\u001b[0m         \u001b[0mfull_backward_hooks\u001b[0m\u001b[0;34m,\u001b[0m \u001b[0mnon_full_backward_hooks\u001b[0m \u001b[0;34m=\u001b[0m \u001b[0;34m[\u001b[0m\u001b[0;34m]\u001b[0m\u001b[0;34m,\u001b[0m \u001b[0;34m[\u001b[0m\u001b[0;34m]\u001b[0m\u001b[0;34m\u001b[0m\u001b[0;34m\u001b[0m\u001b[0m\n",
      "\u001b[0;32m~/opt/miniconda3/envs/eugene/lib/python3.7/site-packages/torch/nn/modules/container.py\u001b[0m in \u001b[0;36mforward\u001b[0;34m(self, input)\u001b[0m\n\u001b[1;32m    139\u001b[0m     \u001b[0;32mdef\u001b[0m \u001b[0mforward\u001b[0m\u001b[0;34m(\u001b[0m\u001b[0mself\u001b[0m\u001b[0;34m,\u001b[0m \u001b[0minput\u001b[0m\u001b[0;34m)\u001b[0m\u001b[0;34m:\u001b[0m\u001b[0;34m\u001b[0m\u001b[0;34m\u001b[0m\u001b[0m\n\u001b[1;32m    140\u001b[0m         \u001b[0;32mfor\u001b[0m \u001b[0mmodule\u001b[0m \u001b[0;32min\u001b[0m \u001b[0mself\u001b[0m\u001b[0;34m:\u001b[0m\u001b[0;34m\u001b[0m\u001b[0;34m\u001b[0m\u001b[0m\n\u001b[0;32m--> 141\u001b[0;31m             \u001b[0minput\u001b[0m \u001b[0;34m=\u001b[0m \u001b[0mmodule\u001b[0m\u001b[0;34m(\u001b[0m\u001b[0minput\u001b[0m\u001b[0;34m)\u001b[0m\u001b[0;34m\u001b[0m\u001b[0;34m\u001b[0m\u001b[0m\n\u001b[0m\u001b[1;32m    142\u001b[0m         \u001b[0;32mreturn\u001b[0m \u001b[0minput\u001b[0m\u001b[0;34m\u001b[0m\u001b[0;34m\u001b[0m\u001b[0m\n\u001b[1;32m    143\u001b[0m \u001b[0;34m\u001b[0m\u001b[0m\n",
      "\u001b[0;32m~/opt/miniconda3/envs/eugene/lib/python3.7/site-packages/torch/nn/modules/module.py\u001b[0m in \u001b[0;36m_call_impl\u001b[0;34m(self, *input, **kwargs)\u001b[0m\n\u001b[1;32m   1108\u001b[0m         if not (self._backward_hooks or self._forward_hooks or self._forward_pre_hooks or _global_backward_hooks\n\u001b[1;32m   1109\u001b[0m                 or _global_forward_hooks or _global_forward_pre_hooks):\n\u001b[0;32m-> 1110\u001b[0;31m             \u001b[0;32mreturn\u001b[0m \u001b[0mforward_call\u001b[0m\u001b[0;34m(\u001b[0m\u001b[0;34m*\u001b[0m\u001b[0minput\u001b[0m\u001b[0;34m,\u001b[0m \u001b[0;34m**\u001b[0m\u001b[0mkwargs\u001b[0m\u001b[0;34m)\u001b[0m\u001b[0;34m\u001b[0m\u001b[0;34m\u001b[0m\u001b[0m\n\u001b[0m\u001b[1;32m   1111\u001b[0m         \u001b[0;31m# Do not call functions when jit is used\u001b[0m\u001b[0;34m\u001b[0m\u001b[0;34m\u001b[0m\u001b[0;34m\u001b[0m\u001b[0m\n\u001b[1;32m   1112\u001b[0m         \u001b[0mfull_backward_hooks\u001b[0m\u001b[0;34m,\u001b[0m \u001b[0mnon_full_backward_hooks\u001b[0m \u001b[0;34m=\u001b[0m \u001b[0;34m[\u001b[0m\u001b[0;34m]\u001b[0m\u001b[0;34m,\u001b[0m \u001b[0;34m[\u001b[0m\u001b[0;34m]\u001b[0m\u001b[0;34m\u001b[0m\u001b[0;34m\u001b[0m\u001b[0m\n",
      "\u001b[0;32m~/opt/miniconda3/envs/eugene/lib/python3.7/site-packages/torch/nn/modules/linear.py\u001b[0m in \u001b[0;36mforward\u001b[0;34m(self, input)\u001b[0m\n\u001b[1;32m    101\u001b[0m \u001b[0;34m\u001b[0m\u001b[0m\n\u001b[1;32m    102\u001b[0m     \u001b[0;32mdef\u001b[0m \u001b[0mforward\u001b[0m\u001b[0;34m(\u001b[0m\u001b[0mself\u001b[0m\u001b[0;34m,\u001b[0m \u001b[0minput\u001b[0m\u001b[0;34m:\u001b[0m \u001b[0mTensor\u001b[0m\u001b[0;34m)\u001b[0m \u001b[0;34m->\u001b[0m \u001b[0mTensor\u001b[0m\u001b[0;34m:\u001b[0m\u001b[0;34m\u001b[0m\u001b[0;34m\u001b[0m\u001b[0m\n\u001b[0;32m--> 103\u001b[0;31m         \u001b[0;32mreturn\u001b[0m \u001b[0mF\u001b[0m\u001b[0;34m.\u001b[0m\u001b[0mlinear\u001b[0m\u001b[0;34m(\u001b[0m\u001b[0minput\u001b[0m\u001b[0;34m,\u001b[0m \u001b[0mself\u001b[0m\u001b[0;34m.\u001b[0m\u001b[0mweight\u001b[0m\u001b[0;34m,\u001b[0m \u001b[0mself\u001b[0m\u001b[0;34m.\u001b[0m\u001b[0mbias\u001b[0m\u001b[0;34m)\u001b[0m\u001b[0;34m\u001b[0m\u001b[0;34m\u001b[0m\u001b[0m\n\u001b[0m\u001b[1;32m    104\u001b[0m \u001b[0;34m\u001b[0m\u001b[0m\n\u001b[1;32m    105\u001b[0m     \u001b[0;32mdef\u001b[0m \u001b[0mextra_repr\u001b[0m\u001b[0;34m(\u001b[0m\u001b[0mself\u001b[0m\u001b[0;34m)\u001b[0m \u001b[0;34m->\u001b[0m \u001b[0mstr\u001b[0m\u001b[0;34m:\u001b[0m\u001b[0;34m\u001b[0m\u001b[0;34m\u001b[0m\u001b[0m\n",
      "\u001b[0;31mRuntimeError\u001b[0m: mat1 and mat2 shapes cannot be multiplied (9600x53 and 50880x1)"
     ]
    }
   ],
   "source": [
    "# x_rev does not need to be specified in single strand mode\n",
    "out = simple_deepsea_instance(x)\n",
    "\n",
    "out, out.shape"
   ]
  },
  {
   "cell_type": "markdown",
   "id": "c453be53",
   "metadata": {},
   "source": [
    "# DeepBind Parameters\n",
    "\n",
    "- input_len : int - length of input strand\n",
    "- strand : string - type of strand to process, only  || default : \"ss\" || res: single (\"ss\"), double (\"ds\"), twin (\"ts\")\n",
    "- task : string - task for the model to perform || default : \"regression\" || res: \"regression\", \"binary_classification\"\n",
    "\n",
    "#### conv_kwargs\n",
    "\n",
    "- channels : list of ints - amount of channels for each convolutional layer || default : [4, 16]\n",
    "- conv_kernels : list of int(s) - size of convolutional kernels || default : [4] || res : length must be 1 less than that of channels\n",
    "- pool_kernels : list of int(s) - size of max pooling kernels || default : [4] || res: length must be 1 less than that of channels, only applies is length of channels is > 2\n",
    "- omit_final_pool : boolean - bypass final max pooling step of output || default : True\n",
    "- dropout_rates : float - probability for the dropout of any given node || default : 0.2\n",
    "- batchnorm : boolean - enable batch normalization between layers || default : False\n",
    "\n",
    "#### mp_kwargs\n",
    "\n",
    "- kernel_size : int - motif pooling kernel size || default : 4 || res : multiples of 2\n",
    "\n",
    "#### fc_kwargs\n",
    "\n",
    "- output_dim : int - number of output dimensions for the network || default : 1\n",
    "- hidden_dims : list of int(s) - width of each hidden dimension || default : [256, 64, 16, 4]\n",
    "- dropout_rate : float - probability for the dropout of any given node || default : 0.2\n",
    "- batchnorm : boolean - enable batch normalization between layers || default : False"
   ]
  },
  {
   "cell_type": "code",
   "execution_count": 7,
   "id": "ffc3b57d",
   "metadata": {},
   "outputs": [
    {
     "data": {
      "text/plain": [
       "DeepBind(\n",
       "  (max_pool): MaxPool1d(kernel_size=16, stride=16, padding=0, dilation=1, ceil_mode=False)\n",
       "  (avg_pool): AvgPool1d(kernel_size=(16,), stride=(16,), padding=(0,))\n",
       "  (convnet): BasicConv1D(\n",
       "    (module): Sequential(\n",
       "      (0): Conv1d(4, 16, kernel_size=(4,), stride=(1,))\n",
       "      (1): ReLU()\n",
       "      (2): MaxPool1d(kernel_size=4, stride=4, padding=0, dilation=1, ceil_mode=False)\n",
       "      (3): Dropout(p=0.5, inplace=False)\n",
       "      (4): BatchNorm1d(16, eps=1e-05, momentum=0.1, affine=True, track_running_stats=True)\n",
       "      (5): Conv1d(16, 32, kernel_size=(4,), stride=(1,))\n",
       "      (6): ReLU()\n",
       "      (7): MaxPool1d(kernel_size=4, stride=4, padding=0, dilation=1, ceil_mode=False)\n",
       "      (8): Dropout(p=0.5, inplace=False)\n",
       "      (9): BatchNorm1d(32, eps=1e-05, momentum=0.1, affine=True, track_running_stats=True)\n",
       "    )\n",
       "  )\n",
       "  (fcn): BasicFullyConnectedModule(\n",
       "    (module): Sequential(\n",
       "      (0): Linear(in_features=12, out_features=256, bias=True)\n",
       "      (1): ReLU()\n",
       "      (2): Dropout(p=0.3, inplace=False)\n",
       "      (3): BatchNorm1d(256, eps=1e-05, momentum=0.1, affine=True, track_running_stats=True)\n",
       "      (4): Linear(in_features=256, out_features=128, bias=True)\n",
       "      (5): ReLU()\n",
       "      (6): Dropout(p=0.3, inplace=False)\n",
       "      (7): BatchNorm1d(128, eps=1e-05, momentum=0.1, affine=True, track_running_stats=True)\n",
       "      (8): Linear(in_features=128, out_features=64, bias=True)\n",
       "      (9): ReLU()\n",
       "      (10): Dropout(p=0.3, inplace=False)\n",
       "      (11): BatchNorm1d(64, eps=1e-05, momentum=0.1, affine=True, track_running_stats=True)\n",
       "      (12): Linear(in_features=64, out_features=32, bias=True)\n",
       "      (13): ReLU()\n",
       "      (14): Dropout(p=0.3, inplace=False)\n",
       "      (15): BatchNorm1d(32, eps=1e-05, momentum=0.1, affine=True, track_running_stats=True)\n",
       "      (16): Linear(in_features=32, out_features=16, bias=True)\n",
       "      (17): ReLU()\n",
       "      (18): Dropout(p=0.3, inplace=False)\n",
       "      (19): BatchNorm1d(16, eps=1e-05, momentum=0.1, affine=True, track_running_stats=True)\n",
       "      (20): Linear(in_features=16, out_features=5, bias=True)\n",
       "    )\n",
       "  )\n",
       "  (reverse_convnet): BasicConv1D(\n",
       "    (module): Sequential(\n",
       "      (0): Conv1d(4, 16, kernel_size=(4,), stride=(1,))\n",
       "      (1): ReLU()\n",
       "      (2): MaxPool1d(kernel_size=4, stride=4, padding=0, dilation=1, ceil_mode=False)\n",
       "      (3): Dropout(p=0.5, inplace=False)\n",
       "      (4): BatchNorm1d(16, eps=1e-05, momentum=0.1, affine=True, track_running_stats=True)\n",
       "      (5): Conv1d(16, 32, kernel_size=(4,), stride=(1,))\n",
       "      (6): ReLU()\n",
       "      (7): MaxPool1d(kernel_size=4, stride=4, padding=0, dilation=1, ceil_mode=False)\n",
       "      (8): Dropout(p=0.5, inplace=False)\n",
       "      (9): BatchNorm1d(32, eps=1e-05, momentum=0.1, affine=True, track_running_stats=True)\n",
       "    )\n",
       "  )\n",
       "  (reverse_fcn): BasicFullyConnectedModule(\n",
       "    (module): Sequential(\n",
       "      (0): Linear(in_features=12, out_features=256, bias=True)\n",
       "      (1): ReLU()\n",
       "      (2): Dropout(p=0.3, inplace=False)\n",
       "      (3): BatchNorm1d(256, eps=1e-05, momentum=0.1, affine=True, track_running_stats=True)\n",
       "      (4): Linear(in_features=256, out_features=128, bias=True)\n",
       "      (5): ReLU()\n",
       "      (6): Dropout(p=0.3, inplace=False)\n",
       "      (7): BatchNorm1d(128, eps=1e-05, momentum=0.1, affine=True, track_running_stats=True)\n",
       "      (8): Linear(in_features=128, out_features=64, bias=True)\n",
       "      (9): ReLU()\n",
       "      (10): Dropout(p=0.3, inplace=False)\n",
       "      (11): BatchNorm1d(64, eps=1e-05, momentum=0.1, affine=True, track_running_stats=True)\n",
       "      (12): Linear(in_features=64, out_features=32, bias=True)\n",
       "      (13): ReLU()\n",
       "      (14): Dropout(p=0.3, inplace=False)\n",
       "      (15): BatchNorm1d(32, eps=1e-05, momentum=0.1, affine=True, track_running_stats=True)\n",
       "      (16): Linear(in_features=32, out_features=16, bias=True)\n",
       "      (17): ReLU()\n",
       "      (18): Dropout(p=0.3, inplace=False)\n",
       "      (19): BatchNorm1d(16, eps=1e-05, momentum=0.1, affine=True, track_running_stats=True)\n",
       "      (20): Linear(in_features=16, out_features=5, bias=True)\n",
       "    )\n",
       "  )\n",
       "  (r_squared): R2Score()\n",
       ")"
      ]
     },
     "execution_count": 7,
     "metadata": {},
     "output_type": "execute_result"
    }
   ],
   "source": [
    "customized_deepbind_instance = DeepBind(\n",
    "    input_len=x_len,\n",
    "    strand=\"ts\",\n",
    "    mp_kwargs=dict(kernel_size=16),\n",
    "    conv_kwargs=dict(channels=[4, 16, 32], conv_kernels=[4, 4], pool_kernels=[4, 4], omit_final_pool=False, dropout_rates=0.5, batchnorm=True),\n",
    "    fc_kwargs=dict(output_dim=5, hidden_dims=[256, 128, 64, 32, 16], dropout_rate=0.3, batchnorm=True)\n",
    ")\n",
    "\n",
    "customized_deepbind_instance"
   ]
  },
  {
   "cell_type": "code",
   "execution_count": 8,
   "id": "46d8d86c",
   "metadata": {},
   "outputs": [
    {
     "data": {
      "text/plain": [
       "(tensor([[-0.3034],\n",
       "         [ 0.1875],\n",
       "         [ 0.0155],\n",
       "         [ 0.1738],\n",
       "         [-0.1377],\n",
       "         [ 0.0516],\n",
       "         [-0.2159],\n",
       "         [-0.0738],\n",
       "         [ 0.0833],\n",
       "         [ 0.0272]], grad_fn=<UnsqueezeBackward0>),\n",
       " torch.Size([10, 1]))"
      ]
     },
     "execution_count": 8,
     "metadata": {},
     "output_type": "execute_result"
    }
   ],
   "source": [
    "# x_rev must be specified in double and twin strand modes\n",
    "out = customized_deepbind_instance(x, x_rev)\n",
    "\n",
    "out, out.shape"
   ]
  },
  {
   "cell_type": "markdown",
   "id": "852226ac",
   "metadata": {},
   "source": [
    "# Training with random dataset"
   ]
  },
  {
   "cell_type": "code",
   "execution_count": 9,
   "id": "d8685092",
   "metadata": {},
   "outputs": [],
   "source": [
    "sdata = eu.datasets.random1000()"
   ]
  },
  {
   "cell_type": "code",
   "execution_count": 10,
   "id": "ddfa44dd",
   "metadata": {},
   "outputs": [
    {
     "name": "stdout",
     "output_type": "stream",
     "text": [
      "SeqData object modified:\n",
      "\trev_seqs: None -> 1000 rev_seqs added\n"
     ]
    }
   ],
   "source": [
    "eu.pp.reverse_complement_data(sdata)"
   ]
  },
  {
   "cell_type": "code",
   "execution_count": 11,
   "id": "65e3ea9c",
   "metadata": {},
   "outputs": [
    {
     "name": "stdout",
     "output_type": "stream",
     "text": [
      "SeqData object modified:\n",
      "\tohe_seqs: None -> 1000 ohe_seqs added\n",
      "\tohe_rev_seqs: None -> 1000 ohe_rev_seqs added\n"
     ]
    }
   ],
   "source": [
    "eu.pp.one_hot_encode_data(sdata)"
   ]
  },
  {
   "cell_type": "code",
   "execution_count": 12,
   "id": "feb294d2",
   "metadata": {},
   "outputs": [
    {
     "data": {
      "text/plain": [
       "SeqData object with = 1000 seqs\n",
       "seqs = (1000,)\n",
       "names = (1000,)\n",
       "rev_seqs = (1000,)\n",
       "ohe_seqs = (1000, 66, 4)\n",
       "ohe_rev_seqs = (1000, 66, 4)\n",
       "seqs_annot: 'TARGETS'\n",
       "pos_annot: PyRanges object with 1456 features"
      ]
     },
     "execution_count": 12,
     "metadata": {},
     "output_type": "execute_result"
    }
   ],
   "source": [
    "sdata"
   ]
  },
  {
   "cell_type": "code",
   "execution_count": 13,
   "id": "cf7b1fe2",
   "metadata": {},
   "outputs": [],
   "source": [
    "sdataset = sdata.to_dataset(label=\"TARGETS\", seq_transforms=[], transform_kwargs={\"transpose\": True})"
   ]
  },
  {
   "cell_type": "code",
   "execution_count": 14,
   "id": "96885637",
   "metadata": {},
   "outputs": [
    {
     "data": {
      "text/plain": [
       "(tensor([115., 101., 113.,  48.,  48.,  49.,  36.]),\n",
       " tensor([[0., 0., 1., 0., 0., 0., 1., 1., 0., 0., 0., 0., 0., 0., 0., 1., 0., 0.,\n",
       "          0., 0., 0., 1., 0., 0., 0., 0., 0., 0., 0., 0., 1., 1., 0., 0., 0., 1.,\n",
       "          0., 1., 1., 0., 0., 0., 0., 0., 0., 0., 0., 0., 0., 0., 0., 0., 0., 0.,\n",
       "          0., 0., 0., 1., 0., 1., 0., 0., 1., 1., 0., 0.],\n",
       "         [0., 0., 0., 0., 0., 0., 0., 0., 0., 1., 0., 0., 0., 0., 0., 0., 0., 0.,\n",
       "          0., 0., 1., 0., 1., 0., 0., 1., 1., 1., 0., 0., 0., 0., 0., 1., 1., 0.,\n",
       "          0., 0., 0., 0., 0., 0., 1., 0., 0., 0., 0., 0., 1., 1., 0., 1., 0., 0.,\n",
       "          0., 0., 0., 0., 0., 0., 0., 0., 0., 0., 0., 1.],\n",
       "         [1., 0., 0., 1., 1., 0., 0., 0., 1., 0., 1., 1., 1., 1., 0., 0., 0., 0.,\n",
       "          0., 1., 0., 0., 0., 0., 0., 0., 0., 0., 0., 0., 0., 0., 0., 0., 0., 0.,\n",
       "          0., 0., 0., 1., 1., 1., 0., 0., 0., 0., 0., 1., 0., 0., 1., 0., 1., 0.,\n",
       "          1., 0., 0., 0., 1., 0., 1., 1., 0., 0., 1., 0.],\n",
       "         [0., 1., 0., 0., 0., 1., 0., 0., 0., 0., 0., 0., 0., 0., 1., 0., 1., 1.,\n",
       "          1., 0., 0., 0., 0., 1., 1., 0., 0., 0., 1., 1., 0., 0., 1., 0., 0., 0.,\n",
       "          1., 0., 0., 0., 0., 0., 0., 1., 1., 1., 1., 0., 0., 0., 0., 0., 0., 1.,\n",
       "          0., 1., 1., 0., 0., 0., 0., 0., 0., 0., 0., 0.]]),\n",
       " tensor([[0., 0., 0., 0., 0., 0., 0., 0., 0., 1., 1., 0., 1., 0., 0., 0., 0., 0.,\n",
       "          0., 1., 1., 1., 1., 0., 0., 0., 0., 0., 0., 1., 0., 0., 0., 1., 0., 0.,\n",
       "          1., 1., 0., 0., 0., 1., 1., 0., 0., 0., 0., 1., 1., 1., 0., 1., 0., 0.,\n",
       "          0., 0., 0., 0., 0., 0., 1., 0., 0., 0., 1., 0.],\n",
       "         [0., 1., 0., 0., 1., 1., 0., 1., 0., 0., 0., 1., 0., 1., 0., 1., 0., 0.,\n",
       "          1., 0., 0., 0., 0., 0., 1., 1., 1., 0., 0., 0., 0., 0., 0., 0., 0., 0.,\n",
       "          0., 0., 0., 0., 0., 0., 0., 0., 0., 0., 1., 0., 0., 0., 0., 0., 1., 1.,\n",
       "          1., 1., 0., 1., 0., 0., 0., 1., 1., 0., 0., 1.],\n",
       "         [1., 0., 0., 0., 0., 0., 0., 0., 0., 0., 0., 0., 0., 0., 1., 0., 1., 1.,\n",
       "          0., 0., 0., 0., 0., 1., 0., 0., 0., 0., 0., 0., 0., 1., 1., 0., 0., 0.,\n",
       "          0., 0., 1., 1., 1., 0., 0., 1., 0., 1., 0., 0., 0., 0., 0., 0., 0., 0.,\n",
       "          0., 0., 1., 0., 0., 0., 0., 0., 0., 0., 0., 0.],\n",
       "         [0., 0., 1., 1., 0., 0., 1., 0., 1., 0., 0., 0., 0., 0., 0., 0., 0., 0.,\n",
       "          0., 0., 0., 0., 0., 0., 0., 0., 0., 1., 1., 0., 1., 0., 0., 0., 1., 1.,\n",
       "          0., 0., 0., 0., 0., 0., 0., 0., 1., 0., 0., 0., 0., 0., 1., 0., 0., 0.,\n",
       "          0., 0., 0., 0., 1., 1., 0., 0., 0., 1., 0., 0.]]),\n",
       " tensor(0.7709))"
      ]
     },
     "execution_count": 14,
     "metadata": {},
     "output_type": "execute_result"
    }
   ],
   "source": [
    "sdataset[0]"
   ]
  },
  {
   "cell_type": "code",
   "execution_count": 15,
   "id": "8b9c9d58",
   "metadata": {},
   "outputs": [],
   "source": [
    "batch_size = 100\n",
    "\n",
    "sdataloader = DataLoader(sdataset, batch_size=batch_size, shuffle=True, pin_memory=True, num_workers=0)"
   ]
  },
  {
   "cell_type": "code",
   "execution_count": 16,
   "id": "6226506c",
   "metadata": {},
   "outputs": [
    {
     "name": "stderr",
     "output_type": "stream",
     "text": [
      "GPU available: False, used: False\n",
      "TPU available: False, using: 0 TPU cores\n",
      "IPU available: False, using: 0 IPUs\n",
      "/cellar/users/aklie/opt/miniconda3/envs/eugene/lib/python3.7/site-packages/pytorch_lightning/trainer/configuration_validator.py:122: UserWarning: You defined a `validation_step` but have no `val_dataloader`. Skipping val loop.\n",
      "  rank_zero_warn(\"You defined a `validation_step` but have no `val_dataloader`. Skipping val loop.\")\n",
      "\n",
      "  | Name      | Type                      | Params\n",
      "--------------------------------------------------------\n",
      "0 | max_pool  | MaxPool1d                 | 0     \n",
      "1 | avg_pool  | AvgPool1d                 | 0     \n",
      "2 | convnet   | BasicConv1D               | 272   \n",
      "3 | fcn       | BasicFullyConnectedModule | 146 K \n",
      "4 | r_squared | R2Score                   | 0     \n",
      "--------------------------------------------------------\n",
      "147 K     Trainable params\n",
      "0         Non-trainable params\n",
      "147 K     Total params\n",
      "0.588     Total estimated model params size (MB)\n",
      "/cellar/users/aklie/opt/miniconda3/envs/eugene/lib/python3.7/site-packages/pytorch_lightning/trainer/data_loading.py:133: UserWarning: The dataloader, train_dataloader, does not have many workers which may be a bottleneck. Consider increasing the value of the `num_workers` argument` (try 16 which is the number of cpus on this machine) in the `DataLoader` init to improve performance.\n",
      "  f\"The dataloader, {name}, does not have many workers which may be a bottleneck.\"\n",
      "/cellar/users/aklie/opt/miniconda3/envs/eugene/lib/python3.7/site-packages/pytorch_lightning/trainer/data_loading.py:433: UserWarning: The number of training samples (10) is smaller than the logging interval Trainer(log_every_n_steps=50). Set a lower value for log_every_n_steps if you want to see logs for the training epoch.\n",
      "  f\"The number of training samples ({self.num_training_batches}) is smaller than the logging interval\"\n"
     ]
    },
    {
     "data": {
      "application/vnd.jupyter.widget-view+json": {
       "model_id": "93678f0a2e3f4138ac35b93966de1c96",
       "version_major": 2,
       "version_minor": 0
      },
      "text/plain": [
       "Training: 0it [00:00, ?it/s]"
      ]
     },
     "metadata": {},
     "output_type": "display_data"
    }
   ],
   "source": [
    "simple_deepbind_instance = DeepBind(input_len=x_len)\n",
    "\n",
    "trainer = pl.Trainer(accelerator = \"cpu\", devices = 1)\n",
    "trainer.fit(simple_deepbind_instance, sdataloader)"
   ]
  },
  {
   "cell_type": "code",
   "execution_count": null,
   "id": "4330db74",
   "metadata": {},
   "outputs": [
    {
     "data": {
      "text/plain": [
       "DeepBind(\n",
       "  (max_pool): MaxPool1d(kernel_size=4, stride=4, padding=0, dilation=1, ceil_mode=False)\n",
       "  (avg_pool): AvgPool1d(kernel_size=(4,), stride=(4,), padding=(0,))\n",
       "  (convnet): BasicConv1D(\n",
       "    (module): Sequential(\n",
       "      (0): Conv1d(4, 16, kernel_size=(4,), stride=(1,))\n",
       "      (1): ReLU(inplace=True)\n",
       "      (2): Dropout(p=0.2, inplace=False)\n",
       "    )\n",
       "  )\n",
       "  (fcn): BasicFullyConnectedModule(\n",
       "    (module): Sequential(\n",
       "      (0): Linear(in_features=504, out_features=256, bias=True)\n",
       "      (1): ReLU(inplace=True)\n",
       "      (2): Dropout(p=0.2, inplace=False)\n",
       "      (3): Linear(in_features=256, out_features=64, bias=True)\n",
       "      (4): ReLU(inplace=True)\n",
       "      (5): Dropout(p=0.2, inplace=False)\n",
       "      (6): Linear(in_features=64, out_features=16, bias=True)\n",
       "      (7): ReLU(inplace=True)\n",
       "      (8): Dropout(p=0.2, inplace=False)\n",
       "      (9): Linear(in_features=16, out_features=4, bias=True)\n",
       "      (10): ReLU(inplace=True)\n",
       "      (11): Dropout(p=0.2, inplace=False)\n",
       "      (12): Linear(in_features=4, out_features=1, bias=True)\n",
       "    )\n",
       "  )\n",
       "  (r_squared): R2Score()\n",
       ")"
      ]
     },
     "execution_count": 37,
     "metadata": {},
     "output_type": "execute_result"
    }
   ],
   "source": [
    "simple_deepbind_instance"
   ]
  },
  {
   "cell_type": "markdown",
   "id": "cd9b1e89",
   "metadata": {},
   "source": [
    "---"
   ]
  },
  {
   "cell_type": "markdown",
   "id": "99a3c106",
   "metadata": {},
   "source": [
    "# Scratch"
   ]
  }
 ],
 "metadata": {
  "kernelspec": {
   "display_name": "Python 3.7.12 ('eugene')",
   "language": "python",
   "name": "python3"
  },
  "language_info": {
   "codemirror_mode": {
    "name": "ipython",
    "version": 3
   },
   "file_extension": ".py",
   "mimetype": "text/x-python",
   "name": "python",
   "nbconvert_exporter": "python",
   "pygments_lexer": "ipython3",
   "version": "3.7.12"
  },
  "vscode": {
   "interpreter": {
    "hash": "1330bbbf2c4cf53098ef1254540d5dd54a9d501f0408fea1c04a20872667b797"
   }
  }
 },
 "nbformat": 4,
 "nbformat_minor": 5
}

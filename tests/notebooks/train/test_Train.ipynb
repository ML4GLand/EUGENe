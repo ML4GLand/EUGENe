{
 "cells": [
  {
   "cell_type": "markdown",
   "id": "47cc2c48",
   "metadata": {},
   "source": [
    "# Testing EUGENE `train` module"
   ]
  },
  {
   "cell_type": "markdown",
   "id": "3b1880c3",
   "metadata": {
    "tags": []
   },
   "source": [
    "**Authorship:**\n",
    "Adam Klie, *03/19/2022*\n",
    "***\n",
    "**Description:**\n",
    "Notebook for testing the EUGENE `train` module. "
   ]
  },
  {
   "cell_type": "markdown",
   "id": "41832ecc-a51e-4311-9372-b4a1ffb40139",
   "metadata": {},
   "source": [
    "# Set-up"
   ]
  },
  {
   "cell_type": "code",
   "execution_count": 20,
   "id": "1dd9ef33",
   "metadata": {
    "execution": {
     "iopub.execute_input": "2022-05-06T18:26:27.475241Z",
     "iopub.status.busy": "2022-05-06T18:26:27.475074Z",
     "iopub.status.idle": "2022-05-06T18:26:29.650302Z",
     "shell.execute_reply": "2022-05-06T18:26:29.649905Z",
     "shell.execute_reply.started": "2022-05-06T18:26:27.475197Z"
    },
    "tags": []
   },
   "outputs": [
    {
     "ename": "",
     "evalue": "",
     "output_type": "error",
     "traceback": [
      "\u001b[1;31mCanceled future for execute_request message before replies were done"
     ]
    },
    {
     "ename": "",
     "evalue": "",
     "output_type": "error",
     "traceback": [
      "\u001b[1;31mThe Kernel crashed while executing code in the the current cell or a previous cell. Please review the code in the cell(s) to identify a possible cause of the failure. Click <a href='https://aka.ms/vscodeJupyterKernelCrash'>here</a> for more info. View Jupyter <a href='command:jupyter.viewOutput'>log</a> for further details."
     ]
    }
   ],
   "source": [
    "import numpy as np\n",
    "import pandas as pd\n",
    "\n",
    "# Autoreload extension\n",
    "if 'autoreload' not in get_ipython().extension_manager.loaded:\n",
    "    %load_ext autoreload\n",
    "%autoreload 2"
   ]
  },
  {
   "cell_type": "code",
   "execution_count": 2,
   "id": "bf8a26fe-0272-4533-b8cc-7a3c8e532ff0",
   "metadata": {
    "execution": {
     "iopub.execute_input": "2022-05-06T18:26:29.651097Z",
     "iopub.status.busy": "2022-05-06T18:26:29.650981Z",
     "iopub.status.idle": "2022-05-06T18:26:41.171910Z",
     "shell.execute_reply": "2022-05-06T18:26:41.171392Z",
     "shell.execute_reply.started": "2022-05-06T18:26:29.651081Z"
    },
    "tags": []
   },
   "outputs": [
    {
     "name": "stderr",
     "output_type": "stream",
     "text": [
      "Global seed set to 13\n",
      "2022-09-10 22:10:33.655385: I tensorflow/core/platform/cpu_feature_guard.cc:193] This TensorFlow binary is optimized with oneAPI Deep Neural Network Library (oneDNN) to use the following CPU instructions in performance-critical operations:  AVX2 AVX512F FMA\n",
      "To enable them in other operations, rebuild TensorFlow with the appropriate compiler flags.\n",
      "2022-09-10 22:10:36.579326: W tensorflow/stream_executor/platform/default/dso_loader.cc:64] Could not load dynamic library 'libcudart.so.11.0'; dlerror: libcudart.so.11.0: cannot open shared object file: No such file or directory\n",
      "2022-09-10 22:10:36.579362: I tensorflow/stream_executor/cuda/cudart_stub.cc:29] Ignore above cudart dlerror if you do not have a GPU set up on your machine.\n",
      "2022-09-10 22:10:36.839644: E tensorflow/stream_executor/cuda/cuda_blas.cc:2981] Unable to register cuBLAS factory: Attempting to register factory for plugin cuBLAS when one has already been registered\n",
      "2022-09-10 22:10:40.019932: W tensorflow/stream_executor/platform/default/dso_loader.cc:64] Could not load dynamic library 'libnvinfer.so.7'; dlerror: libnvinfer.so.7: cannot open shared object file: No such file or directory\n",
      "2022-09-10 22:10:40.020088: W tensorflow/stream_executor/platform/default/dso_loader.cc:64] Could not load dynamic library 'libnvinfer_plugin.so.7'; dlerror: libnvinfer_plugin.so.7: cannot open shared object file: No such file or directory\n",
      "2022-09-10 22:10:40.020098: W tensorflow/compiler/tf2tensorrt/utils/py_utils.cc:38] TF-TRT Warning: Cannot dlopen some TensorRT libraries. If you would like to use Nvidia GPU with TensorRT, please make sure the missing libraries mentioned above are installed properly.\n"
     ]
    }
   ],
   "source": [
    "import eugene as eu"
   ]
  },
  {
   "cell_type": "code",
   "execution_count": 16,
   "id": "5f6b5655",
   "metadata": {},
   "outputs": [],
   "source": [
    "eu.settings.batch_size = 128\n",
    "eu.settings.dl_num_workers = 4\n",
    "eu.settings.logging_dir = \"../../_logs\"\n",
    "eu.settings.output_dir = \"../../_outputs\""
   ]
  },
  {
   "cell_type": "markdown",
   "id": "e5602c89-ac01-44be-9d44-91eff5453329",
   "metadata": {
    "tags": []
   },
   "source": [
    "# Load model"
   ]
  },
  {
   "cell_type": "code",
   "execution_count": 4,
   "id": "a77e6ace-4cc4-41e9-891d-64d529435978",
   "metadata": {
    "execution": {
     "iopub.execute_input": "2022-05-06T18:26:41.172953Z",
     "iopub.status.busy": "2022-05-06T18:26:41.172831Z",
     "iopub.status.idle": "2022-05-06T18:26:42.679523Z",
     "shell.execute_reply": "2022-05-06T18:26:42.679135Z",
     "shell.execute_reply.started": "2022-05-06T18:26:41.172937Z"
    },
    "tags": []
   },
   "outputs": [],
   "source": [
    "# Manual configuration\n",
    "SEQ_LEN = 66\n",
    "OUT_DIM = 10\n",
    "CNN_KWARGS = dict(\n",
    "    channels=[4, 16, 32], \n",
    "    conv_kernels=[15, 5], \n",
    "    pool_kernels=[1, 1]\n",
    ")\n",
    "RNN_KWARGS = dict(\n",
    "    output_dim=32,\n",
    "    bidirectional=True,\n",
    "    batch_first=True\n",
    ")\n",
    "FCN_KWARGS = dict(\n",
    "    hidden_dims=[50]\n",
    ")\n",
    "STRAND = \"ss\"\n",
    "TASK = \"regression\"\n",
    "LOSS_FXN = \"mse\""
   ]
  },
  {
   "cell_type": "markdown",
   "id": "5aa43cca-9ceb-4c6e-be78-4e73569d1331",
   "metadata": {
    "tags": []
   },
   "source": [
    "# Instantiate model"
   ]
  },
  {
   "cell_type": "code",
   "execution_count": 5,
   "id": "4a3a2ee4-f870-4adb-97a7-9e0916342908",
   "metadata": {
    "execution": {
     "iopub.execute_input": "2022-05-06T18:29:05.441088Z",
     "iopub.status.busy": "2022-05-06T18:29:05.440972Z",
     "iopub.status.idle": "2022-05-06T18:29:06.555265Z",
     "shell.execute_reply": "2022-05-06T18:29:06.554824Z",
     "shell.execute_reply.started": "2022-05-06T18:29:05.441072Z"
    },
    "tags": []
   },
   "outputs": [],
   "source": [
    "eugene = eu.models.Hybrid(\n",
    "    input_len=SEQ_LEN,\n",
    "    output_dim=OUT_DIM,\n",
    "    strand=STRAND,\n",
    "    task=TASK,\n",
    "    loss_fxn=LOSS_FXN,\n",
    "    conv_kwargs=CNN_KWARGS,\n",
    "    rnn_kwargs=RNN_KWARGS,\n",
    "    fc_kwargs=FCN_KWARGS\n",
    ")"
   ]
  },
  {
   "cell_type": "code",
   "execution_count": 7,
   "id": "9933ff38",
   "metadata": {},
   "outputs": [
    {
     "data": {
      "text/plain": [
       "Hybrid(\n",
       "  (hp_metric): R2Score()\n",
       "  (convnet): BasicConv1D(\n",
       "    (module): Sequential(\n",
       "      (0): Conv1d(4, 16, kernel_size=(15,), stride=(1,))\n",
       "      (1): ReLU()\n",
       "      (2): MaxPool1d(kernel_size=1, stride=1, padding=0, dilation=1, ceil_mode=False)\n",
       "      (3): Conv1d(16, 32, kernel_size=(5,), stride=(1,))\n",
       "      (4): ReLU()\n",
       "      (5): MaxPool1d(kernel_size=1, stride=1, padding=0, dilation=1, ceil_mode=False)\n",
       "    )\n",
       "  )\n",
       "  (recurrentnet): BasicRecurrent(\n",
       "    (module): LSTM(32, 32, batch_first=True, bidirectional=True)\n",
       "  )\n",
       "  (fcnet): BasicFullyConnectedModule(\n",
       "    (module): Sequential(\n",
       "      (0): Linear(in_features=64, out_features=50, bias=True)\n",
       "      (1): ReLU()\n",
       "      (2): Linear(in_features=50, out_features=10, bias=True)\n",
       "    )\n",
       "  )\n",
       ")"
      ]
     },
     "execution_count": 7,
     "metadata": {},
     "output_type": "execute_result"
    }
   ],
   "source": [
    "eu.models.init_weights(eugene)\n",
    "eugene"
   ]
  },
  {
   "cell_type": "markdown",
   "id": "8708d86e-0cc1-4c5d-b929-f8f2849a2373",
   "metadata": {
    "tags": []
   },
   "source": [
    "# Load data"
   ]
  },
  {
   "cell_type": "code",
   "execution_count": 8,
   "id": "a6d4870e",
   "metadata": {},
   "outputs": [
    {
     "data": {
      "text/plain": [
       "SeqData object with = 1000 seqs\n",
       "seqs = (1000,)\n",
       "names = (1000,)\n",
       "rev_seqs = None\n",
       "ohe_seqs = None\n",
       "ohe_rev_seqs = None\n",
       "seqs_annot: 'LABEL_0', 'LABEL_1', 'LABEL_2', 'LABEL_3', 'LABEL_4', 'LABEL_5', 'LABEL_6', 'LABEL_7', 'LABEL_8', 'LABEL_9', 'ACTIVITY_0', 'ACTIVITY_1', 'ACTIVITY_2', 'ACTIVITY_3', 'ACTIVITY_4', 'ACTIVITY_5', 'ACTIVITY_6', 'ACTIVITY_7', 'ACTIVITY_8', 'ACTIVITY_9'\n",
       "pos_annot: None\n",
       "seqsm: None\n",
       "uns: None"
      ]
     },
     "execution_count": 8,
     "metadata": {},
     "output_type": "execute_result"
    }
   ],
   "source": [
    "sdata = eu.datasets.random1000_10()\n",
    "sdata"
   ]
  },
  {
   "cell_type": "code",
   "execution_count": 9,
   "id": "fcdde717",
   "metadata": {},
   "outputs": [
    {
     "data": {
      "application/vnd.jupyter.widget-view+json": {
       "model_id": "bdb528b8ea044ccf837074f9129b7960",
       "version_major": 2,
       "version_minor": 0
      },
      "text/plain": [
       "  0%|          | 0/3 [00:00<?, ?it/s]"
      ]
     },
     "metadata": {},
     "output_type": "display_data"
    },
    {
     "data": {
      "application/vnd.jupyter.widget-view+json": {
       "model_id": "3aa1e4548d5b4b4da571245bda3d442c",
       "version_major": 2,
       "version_minor": 0
      },
      "text/plain": [
       "One-hot encoding sequences:   0%|          | 0/1000 [00:00<?, ?it/s]"
      ]
     },
     "metadata": {},
     "output_type": "display_data"
    },
    {
     "name": "stdout",
     "output_type": "stream",
     "text": [
      "SeqData object modified:\n",
      "\tohe_seqs: None -> 1000 ohe_seqs added\n",
      "\tohe_rev_seqs: None -> 1000 ohe_rev_seqs added\n",
      "    seqs_annot:\n",
      "        + train_val\n"
     ]
    },
    {
     "data": {
      "text/plain": [
       "SeqData object with = 1000 seqs\n",
       "seqs = (1000,)\n",
       "names = (1000,)\n",
       "rev_seqs = None\n",
       "ohe_seqs = (1000, 4, 66)\n",
       "ohe_rev_seqs = (1000, 4, 66)\n",
       "seqs_annot: 'LABEL_0', 'LABEL_1', 'LABEL_2', 'LABEL_3', 'LABEL_4', 'LABEL_5', 'LABEL_6', 'LABEL_7', 'LABEL_8', 'LABEL_9', 'ACTIVITY_0', 'ACTIVITY_1', 'ACTIVITY_2', 'ACTIVITY_3', 'ACTIVITY_4', 'ACTIVITY_5', 'ACTIVITY_6', 'ACTIVITY_7', 'ACTIVITY_8', 'ACTIVITY_9', 'train_val'\n",
       "pos_annot: None\n",
       "seqsm: None\n",
       "uns: None"
      ]
     },
     "execution_count": 9,
     "metadata": {},
     "output_type": "execute_result"
    }
   ],
   "source": [
    "eu.pp.prepare_seqs_sdata(sdata)\n",
    "sdata"
   ]
  },
  {
   "cell_type": "markdown",
   "id": "b3689b57-de7f-4104-8042-ae93f1893501",
   "metadata": {
    "tags": []
   },
   "source": [
    "# Train "
   ]
  },
  {
   "cell_type": "code",
   "execution_count": 17,
   "id": "e100ae9f",
   "metadata": {},
   "outputs": [
    {
     "data": {
      "text/plain": [
       "['LABEL_0',\n",
       " 'LABEL_1',\n",
       " 'LABEL_2',\n",
       " 'LABEL_3',\n",
       " 'LABEL_4',\n",
       " 'LABEL_5',\n",
       " 'LABEL_6',\n",
       " 'LABEL_7',\n",
       " 'LABEL_8',\n",
       " 'LABEL_9']"
      ]
     },
     "execution_count": 17,
     "metadata": {},
     "output_type": "execute_result"
    }
   ],
   "source": [
    "targets = [f\"LABEL_{i}\" for i in range(OUT_DIM)]\n",
    "targets"
   ]
  },
  {
   "cell_type": "code",
   "execution_count": 19,
   "id": "955efbc6",
   "metadata": {},
   "outputs": [
    {
     "name": "stderr",
     "output_type": "stream",
     "text": [
      "Global seed set to 13\n",
      "GPU available: False, used: False\n",
      "TPU available: False, using: 0 TPU cores\n",
      "IPU available: False, using: 0 IPUs\n",
      "\n",
      "  | Name         | Type                      | Params\n",
      "-----------------------------------------------------------\n",
      "0 | hp_metric    | R2Score                   | 0     \n",
      "1 | convnet      | BasicConv1D               | 3.6 K \n",
      "2 | recurrentnet | BasicRecurrent            | 16.9 K\n",
      "3 | fcnet        | BasicFullyConnectedModule | 3.8 K \n",
      "-----------------------------------------------------------\n",
      "24.2 K    Trainable params\n",
      "0         Non-trainable params\n",
      "24.2 K    Total params\n",
      "0.097     Total estimated model params size (MB)\n"
     ]
    },
    {
     "name": "stdout",
     "output_type": "stream",
     "text": [
      "Dropping 0 sequences with NaN targets.\n",
      "No transforms given, assuming just need to tensorize.\n",
      "No transforms given, assuming just need to tensorize.\n"
     ]
    },
    {
     "data": {
      "application/vnd.jupyter.widget-view+json": {
       "model_id": "35b173d136bc42d4ad008ab14f79bf40",
       "version_major": 2,
       "version_minor": 0
      },
      "text/plain": [
       "Validation sanity check: 0it [00:00, ?it/s]"
      ]
     },
     "metadata": {},
     "output_type": "display_data"
    },
    {
     "name": "stderr",
     "output_type": "stream",
     "text": [
      "Global seed set to 13\n"
     ]
    },
    {
     "data": {
      "application/vnd.jupyter.widget-view+json": {
       "model_id": "1bd6a8df7d6946639e8b7e322cbcac87",
       "version_major": 2,
       "version_minor": 0
      },
      "text/plain": [
       "Training: 0it [00:00, ?it/s]"
      ]
     },
     "metadata": {},
     "output_type": "display_data"
    },
    {
     "data": {
      "application/vnd.jupyter.widget-view+json": {
       "model_id": "0f05f38e6f73404c961304d137ead3ad",
       "version_major": 2,
       "version_minor": 0
      },
      "text/plain": [
       "Validating: 0it [00:00, ?it/s]"
      ]
     },
     "metadata": {},
     "output_type": "display_data"
    },
    {
     "name": "stderr",
     "output_type": "stream",
     "text": [
      "Metric val_loss improved. New best score: 0.370\n"
     ]
    }
   ],
   "source": [
    "eu.train.fit(eugene, sdata=sdata, target_keys=targets, epochs=1)"
   ]
  },
  {
   "cell_type": "code",
   "execution_count": 36,
   "id": "a006ff64",
   "metadata": {},
   "outputs": [
    {
     "name": "stderr",
     "output_type": "stream",
     "text": [
      "GPU available: True, used: True\n",
      "TPU available: False, using: 0 TPU cores\n",
      "IPU available: False, using: 0 IPUs\n",
      "GPU available: True, used: True\n",
      "TPU available: False, using: 0 TPU cores\n",
      "IPU available: False, using: 0 IPUs\n",
      "LOCAL_RANK: 0 - CUDA_VISIBLE_DEVICES: [0]\n"
     ]
    },
    {
     "name": "stdout",
     "output_type": "stream",
     "text": [
      "HERE ['LABEL_0', 'LABEL_1', 'LABEL_2', 'LABEL_3', 'LABEL_4', 'LABEL_5', 'LABEL_6', 'LABEL_7', 'LABEL_8', 'LABEL_9']\n",
      "No transforms given, assuming just need to tensorize).\n",
      "No transforms given, assuming just need to tensorize).\n"
     ]
    },
    {
     "data": {
      "application/vnd.jupyter.widget-view+json": {
       "model_id": "6050a02af9114c46beb85a88b59091a7",
       "version_major": 2,
       "version_minor": 0
      },
      "text/plain": [
       "Predicting: 0it [00:00, ?it/s]"
      ]
     },
     "metadata": {},
     "output_type": "display_data"
    },
    {
     "name": "stderr",
     "output_type": "stream",
     "text": [
      "LOCAL_RANK: 0 - CUDA_VISIBLE_DEVICES: [0]\n"
     ]
    },
    {
     "data": {
      "application/vnd.jupyter.widget-view+json": {
       "model_id": "4d529c5851f34851822358b106f91bea",
       "version_major": 2,
       "version_minor": 0
      },
      "text/plain": [
       "Predicting: 0it [00:00, ?it/s]"
      ]
     },
     "metadata": {},
     "output_type": "display_data"
    },
    {
     "name": "stdout",
     "output_type": "stream",
     "text": [
      "                 0           1           2           3            4  \\\n",
      "seq000  0.22151977  0.42979366  0.40367535  0.62748384   0.10740046   \n",
      "seq001  0.20679933   0.3980499  0.38247472   0.5965491   0.10531287   \n",
      "seq002  0.20890895  0.40850383  0.39109713   0.6113459  0.106457405   \n",
      "seq005  0.21345711  0.41622812  0.40266123  0.62153447  0.107835375   \n",
      "seq006  0.20972896  0.41624838  0.39150807    0.612308   0.11024589   \n",
      "...            ...         ...         ...         ...          ...   \n",
      "seq980   0.2183375   0.4252531   0.4016859   0.6296614   0.10766679   \n",
      "seq986  0.22487453  0.42974097  0.40623972  0.63793683   0.10833167   \n",
      "seq987  0.22622463  0.42148906  0.39546132   0.6181561  0.103938796   \n",
      "seq991  0.21146774   0.4153229  0.38607493   0.6068795  0.112112425   \n",
      "seq993  0.21846488   0.4268222  0.39783695   0.6232819   0.10530958   \n",
      "\n",
      "                 5           6           7           8           9  \n",
      "seq000  0.16664916  0.31013647  0.59695965  0.23060434  0.40394092  \n",
      "seq001  0.16539247   0.2724502   0.5633785  0.22814536  0.37444553  \n",
      "seq002  0.16484833  0.28713614    0.579108  0.23202239  0.39067602  \n",
      "seq005  0.16965532  0.29900086   0.5935817  0.23740883  0.39884773  \n",
      "seq006  0.16516228  0.29062322   0.5780068  0.22898673  0.38604605  \n",
      "...            ...         ...         ...         ...         ...  \n",
      "seq980   0.1704322   0.3067842  0.60184103   0.2325007  0.40403727  \n",
      "seq986  0.16581966  0.31688908   0.6086902  0.23457146   0.4106355  \n",
      "seq987  0.15896939  0.30303904  0.58571464  0.22837532   0.3971152  \n",
      "seq991  0.16630748  0.28528467   0.5734054  0.22617598  0.38134745  \n",
      "seq993  0.16185844  0.30435684  0.58827144   0.2280531  0.39878005  \n",
      "\n",
      "[1000 rows x 10 columns]\n"
     ]
    }
   ],
   "source": [
    "eu.predict.train_val_predictions(eugene, sdata=sdata, target_label=targets, gpus=1, out_dir=OUT_DIR)"
   ]
  },
  {
   "cell_type": "code",
   "execution_count": null,
   "id": "e63ff32f",
   "metadata": {},
   "outputs": [],
   "source": []
  },
  {
   "cell_type": "code",
   "execution_count": null,
   "id": "94e45dc0",
   "metadata": {},
   "outputs": [
    {
     "data": {
      "text/plain": [
       "True"
      ]
     },
     "execution_count": 70,
     "metadata": {},
     "output_type": "execute_result"
    }
   ],
   "source": [
    "saved_t = pd.read_csv(\"../_out/train_predictions.tsv\", index_col=0, sep=\"\\t\")\n",
    "np.allclose(saved_t[\"PREDICTION\"].values, sdata.seqs_annot.loc[saved_t.index][\"PREDICTIONS\"].values)"
   ]
  },
  {
   "cell_type": "code",
   "execution_count": 58,
   "id": "9c8238fd",
   "metadata": {},
   "outputs": [
    {
     "data": {
      "text/html": [
       "<div>\n",
       "<style scoped>\n",
       "    .dataframe tbody tr th:only-of-type {\n",
       "        vertical-align: middle;\n",
       "    }\n",
       "\n",
       "    .dataframe tbody tr th {\n",
       "        vertical-align: top;\n",
       "    }\n",
       "\n",
       "    .dataframe thead th {\n",
       "        text-align: right;\n",
       "    }\n",
       "</style>\n",
       "<table border=\"1\" class=\"dataframe\">\n",
       "  <thead>\n",
       "    <tr style=\"text-align: right;\">\n",
       "      <th></th>\n",
       "      <th>TARGETS</th>\n",
       "      <th>TRAIN</th>\n",
       "      <th>0</th>\n",
       "    </tr>\n",
       "  </thead>\n",
       "  <tbody>\n",
       "    <tr>\n",
       "      <th>seq001</th>\n",
       "      <td>1.0</td>\n",
       "      <td>False</td>\n",
       "      <td>0.6329051</td>\n",
       "    </tr>\n",
       "    <tr>\n",
       "      <th>seq002</th>\n",
       "      <td>0.0</td>\n",
       "      <td>True</td>\n",
       "      <td>0.49575517</td>\n",
       "    </tr>\n",
       "    <tr>\n",
       "      <th>seq003</th>\n",
       "      <td>1.0</td>\n",
       "      <td>False</td>\n",
       "      <td>0.546878</td>\n",
       "    </tr>\n",
       "    <tr>\n",
       "      <th>seq004</th>\n",
       "      <td>0.0</td>\n",
       "      <td>False</td>\n",
       "      <td>0.4899232</td>\n",
       "    </tr>\n",
       "    <tr>\n",
       "      <th>seq005</th>\n",
       "      <td>0.0</td>\n",
       "      <td>False</td>\n",
       "      <td>0.6157094</td>\n",
       "    </tr>\n",
       "    <tr>\n",
       "      <th>...</th>\n",
       "      <td>...</td>\n",
       "      <td>...</td>\n",
       "      <td>...</td>\n",
       "    </tr>\n",
       "    <tr>\n",
       "      <th>seq996</th>\n",
       "      <td>0.0</td>\n",
       "      <td>True</td>\n",
       "      <td>0.48639736</td>\n",
       "    </tr>\n",
       "    <tr>\n",
       "      <th>seq997</th>\n",
       "      <td>0.0</td>\n",
       "      <td>True</td>\n",
       "      <td>0.6196456</td>\n",
       "    </tr>\n",
       "    <tr>\n",
       "      <th>seq998</th>\n",
       "      <td>0.0</td>\n",
       "      <td>False</td>\n",
       "      <td>0.5316826</td>\n",
       "    </tr>\n",
       "    <tr>\n",
       "      <th>seq999</th>\n",
       "      <td>0.0</td>\n",
       "      <td>True</td>\n",
       "      <td>0.35639912</td>\n",
       "    </tr>\n",
       "    <tr>\n",
       "      <th>seq1000</th>\n",
       "      <td>0.0</td>\n",
       "      <td>False</td>\n",
       "      <td>0.52968895</td>\n",
       "    </tr>\n",
       "  </tbody>\n",
       "</table>\n",
       "<p>1000 rows × 3 columns</p>\n",
       "</div>"
      ],
      "text/plain": [
       "         TARGETS  TRAIN           0\n",
       "seq001       1.0  False   0.6329051\n",
       "seq002       0.0   True  0.49575517\n",
       "seq003       1.0  False    0.546878\n",
       "seq004       0.0  False   0.4899232\n",
       "seq005       0.0  False   0.6157094\n",
       "...          ...    ...         ...\n",
       "seq996       0.0   True  0.48639736\n",
       "seq997       0.0   True   0.6196456\n",
       "seq998       0.0  False   0.5316826\n",
       "seq999       0.0   True  0.35639912\n",
       "seq1000      0.0  False  0.52968895\n",
       "\n",
       "[1000 rows x 3 columns]"
      ]
     },
     "execution_count": 58,
     "metadata": {},
     "output_type": "execute_result"
    }
   ],
   "source": [
    "sdata.seqs_annot.merge(preds, left_index=True, right_index=True)"
   ]
  },
  {
   "cell_type": "code",
   "execution_count": 39,
   "id": "445e8d0a",
   "metadata": {},
   "outputs": [
    {
     "data": {
      "text/html": [
       "<div>\n",
       "<style scoped>\n",
       "    .dataframe tbody tr th:only-of-type {\n",
       "        vertical-align: middle;\n",
       "    }\n",
       "\n",
       "    .dataframe tbody tr th {\n",
       "        vertical-align: top;\n",
       "    }\n",
       "\n",
       "    .dataframe thead th {\n",
       "        text-align: right;\n",
       "    }\n",
       "</style>\n",
       "<table border=\"1\" class=\"dataframe\">\n",
       "  <thead>\n",
       "    <tr style=\"text-align: right;\">\n",
       "      <th></th>\n",
       "      <th>0</th>\n",
       "      <th>1</th>\n",
       "      <th>2</th>\n",
       "    </tr>\n",
       "  </thead>\n",
       "  <tbody>\n",
       "    <tr>\n",
       "      <th>0</th>\n",
       "      <td>seq001</td>\n",
       "      <td>0.6047737</td>\n",
       "      <td>1.0</td>\n",
       "    </tr>\n",
       "    <tr>\n",
       "      <th>1</th>\n",
       "      <td>seq003</td>\n",
       "      <td>0.5640073</td>\n",
       "      <td>0.0</td>\n",
       "    </tr>\n",
       "    <tr>\n",
       "      <th>2</th>\n",
       "      <td>seq004</td>\n",
       "      <td>0.5120066</td>\n",
       "      <td>1.0</td>\n",
       "    </tr>\n",
       "    <tr>\n",
       "      <th>3</th>\n",
       "      <td>seq005</td>\n",
       "      <td>0.5677963</td>\n",
       "      <td>0.0</td>\n",
       "    </tr>\n",
       "    <tr>\n",
       "      <th>4</th>\n",
       "      <td>seq008</td>\n",
       "      <td>0.58250546</td>\n",
       "      <td>0.0</td>\n",
       "    </tr>\n",
       "    <tr>\n",
       "      <th>...</th>\n",
       "      <td>...</td>\n",
       "      <td>...</td>\n",
       "      <td>...</td>\n",
       "    </tr>\n",
       "    <tr>\n",
       "      <th>595</th>\n",
       "      <td>seq991</td>\n",
       "      <td>0.48263985</td>\n",
       "      <td>1.0</td>\n",
       "    </tr>\n",
       "    <tr>\n",
       "      <th>596</th>\n",
       "      <td>seq992</td>\n",
       "      <td>0.61272997</td>\n",
       "      <td>0.0</td>\n",
       "    </tr>\n",
       "    <tr>\n",
       "      <th>597</th>\n",
       "      <td>seq994</td>\n",
       "      <td>0.55296373</td>\n",
       "      <td>1.0</td>\n",
       "    </tr>\n",
       "    <tr>\n",
       "      <th>598</th>\n",
       "      <td>seq998</td>\n",
       "      <td>0.5503518</td>\n",
       "      <td>1.0</td>\n",
       "    </tr>\n",
       "    <tr>\n",
       "      <th>599</th>\n",
       "      <td>seq1000</td>\n",
       "      <td>0.5347437</td>\n",
       "      <td>1.0</td>\n",
       "    </tr>\n",
       "  </tbody>\n",
       "</table>\n",
       "<p>600 rows × 3 columns</p>\n",
       "</div>"
      ],
      "text/plain": [
       "           0           1    2\n",
       "0     seq001   0.6047737  1.0\n",
       "1     seq003   0.5640073  0.0\n",
       "2     seq004   0.5120066  1.0\n",
       "3     seq005   0.5677963  0.0\n",
       "4     seq008  0.58250546  0.0\n",
       "..       ...         ...  ...\n",
       "595   seq991  0.48263985  1.0\n",
       "596   seq992  0.61272997  0.0\n",
       "597   seq994  0.55296373  1.0\n",
       "598   seq998   0.5503518  1.0\n",
       "599  seq1000   0.5347437  1.0\n",
       "\n",
       "[600 rows x 3 columns]"
      ]
     },
     "execution_count": 39,
     "metadata": {},
     "output_type": "execute_result"
    }
   ],
   "source": [
    "pd.DataFrame(np.concatenate(v, axis=0))"
   ]
  },
  {
   "cell_type": "code",
   "execution_count": null,
   "id": "6dd4c485",
   "metadata": {},
   "outputs": [],
   "source": [
    "eu.train.fit(eugene, sdata=sdata, epochs=5, log_dir=\"../_logs\") "
   ]
  },
  {
   "cell_type": "code",
   "execution_count": 22,
   "id": "0baee293",
   "metadata": {},
   "outputs": [],
   "source": [
    "from pytorch_lightning import Trainer"
   ]
  },
  {
   "cell_type": "code",
   "execution_count": 23,
   "id": "76679c81",
   "metadata": {},
   "outputs": [
    {
     "name": "stderr",
     "output_type": "stream",
     "text": [
      "GPU available: False, used: False\n",
      "TPU available: False, using: 0 TPU cores\n",
      "IPU available: False, using: 0 IPUs\n"
     ]
    }
   ],
   "source": [
    "trainer = Trainer(max_epochs=3)"
   ]
  },
  {
   "cell_type": "code",
   "execution_count": 24,
   "id": "fb0742cc",
   "metadata": {},
   "outputs": [
    {
     "name": "stderr",
     "output_type": "stream",
     "text": [
      "/cellar/users/aklie/opt/miniconda3/envs/eugene/lib/python3.7/site-packages/pytorch_lightning/trainer/configuration_validator.py:122: UserWarning: You defined a `validation_step` but have no `val_dataloader`. Skipping val loop.\n",
      "  rank_zero_warn(\"You defined a `validation_step` but have no `val_dataloader`. Skipping val loop.\")\n",
      "\n",
      "  | Name         | Type                      | Params\n",
      "-----------------------------------------------------------\n",
      "0 | convnet      | BasicConv1D               | 3.6 K \n",
      "1 | recurrentnet | BasicRecurrent            | 16.9 K\n",
      "2 | fcnet        | BasicFullyConnectedModule | 3.3 K \n",
      "3 | r_squared    | R2Score                   | 0     \n",
      "-----------------------------------------------------------\n",
      "23.8 K    Trainable params\n",
      "0         Non-trainable params\n",
      "23.8 K    Total params\n",
      "0.095     Total estimated model params size (MB)\n",
      "/cellar/users/aklie/opt/miniconda3/envs/eugene/lib/python3.7/site-packages/pytorch_lightning/trainer/data_loading.py:133: UserWarning: The dataloader, train_dataloader, does not have many workers which may be a bottleneck. Consider increasing the value of the `num_workers` argument` (try 16 which is the number of cpus on this machine) in the `DataLoader` init to improve performance.\n",
      "  f\"The dataloader, {name}, does not have many workers which may be a bottleneck.\"\n",
      "/cellar/users/aklie/opt/miniconda3/envs/eugene/lib/python3.7/site-packages/pytorch_lightning/trainer/data_loading.py:433: UserWarning: The number of training samples (32) is smaller than the logging interval Trainer(log_every_n_steps=50). Set a lower value for log_every_n_steps if you want to see logs for the training epoch.\n",
      "  f\"The number of training samples ({self.num_training_batches}) is smaller than the logging interval\"\n"
     ]
    },
    {
     "data": {
      "application/vnd.jupyter.widget-view+json": {
       "model_id": "f72306440e9243c194bf6ae329f409ec",
       "version_major": 2,
       "version_minor": 0
      },
      "text/plain": [
       "Training: 0it [00:00, ?it/s]"
      ]
     },
     "metadata": {},
     "output_type": "display_data"
    }
   ],
   "source": [
    "trainer.fit(eugene, sdataloader) "
   ]
  },
  {
   "cell_type": "code",
   "execution_count": 19,
   "id": "a4ff9359",
   "metadata": {},
   "outputs": [
    {
     "data": {
      "text/plain": [
       "Parameter containing:\n",
       "tensor([[[-9.4785e-02, -1.7045e-03,  1.2167e-01, -1.2430e-01, -1.2435e-01,\n",
       "           2.1259e-02, -7.5152e-02,  7.2229e-02,  1.0589e-01, -8.6553e-02,\n",
       "          -1.1654e-01, -1.2605e-02,  1.0931e-01,  1.7115e-02, -8.7077e-03],\n",
       "         [-7.3724e-02, -7.8527e-02, -5.5711e-02,  8.2650e-02, -1.0370e-01,\n",
       "           1.4170e-01, -1.6458e-02,  9.5570e-03,  9.7584e-02,  1.2892e-01,\n",
       "          -4.4364e-02, -1.1682e-02,  8.7450e-02, -1.9598e-02, -6.5818e-02],\n",
       "         [-8.2107e-02, -3.5073e-02,  6.3604e-02,  8.6646e-02,  1.4163e-01,\n",
       "          -4.8572e-02, -3.7498e-02, -7.4766e-02,  2.6753e-02, -9.3077e-02,\n",
       "           1.2472e-01, -1.4999e-01,  7.3813e-02,  9.0117e-03,  7.4403e-02],\n",
       "         [ 7.2231e-02,  1.1413e-01, -8.5916e-02, -7.6079e-02,  8.6604e-02,\n",
       "           3.2138e-02,  6.6427e-02, -4.0387e-02,  1.5578e-01,  6.1688e-02,\n",
       "           2.6640e-02, -5.1305e-02,  2.5741e-02, -1.4536e-01,  5.5284e-02]],\n",
       "\n",
       "        [[-9.9758e-03,  2.3328e-02, -4.0814e-03, -3.5643e-03, -1.7920e-01,\n",
       "          -4.4642e-02, -4.6246e-02,  2.3358e-02,  5.0230e-02,  1.8842e-01,\n",
       "           3.8526e-02, -1.3001e-01, -1.6003e-01, -1.1730e-01, -1.2557e-01],\n",
       "         [-5.3795e-03,  4.2581e-03, -1.1709e-01, -7.1699e-02,  1.1994e-02,\n",
       "           1.3258e-01, -3.6201e-02, -1.0557e-01,  1.7013e-01, -9.9656e-02,\n",
       "           5.1865e-02,  9.7588e-02,  1.2616e-01,  2.9506e-02,  1.4187e-01],\n",
       "         [ 4.9345e-02,  1.2170e-01, -8.6468e-02,  1.7377e-02,  9.4852e-02,\n",
       "          -2.1022e-01,  4.8738e-02,  3.9517e-02, -6.0886e-03,  7.7643e-04,\n",
       "           3.2694e-03, -8.8474e-02, -2.6232e-02, -4.9447e-02,  6.3287e-02],\n",
       "         [-4.4684e-02, -1.4310e-01,  1.3220e-01,  7.8099e-02,  1.4963e-01,\n",
       "           1.2447e-01, -5.2878e-02, -1.0201e-01,  7.8384e-03, -1.5104e-01,\n",
       "           1.6500e-01,  5.7524e-02,  4.0174e-02,  2.7048e-02, -2.0218e-01]],\n",
       "\n",
       "        [[-2.7766e-03,  4.1054e-03,  4.2755e-02,  3.2775e-02,  1.1996e-01,\n",
       "          -8.4894e-02,  4.8679e-02,  1.8882e-02, -1.1665e-01,  9.7030e-02,\n",
       "           8.3848e-02,  1.2970e-01,  5.5630e-03, -4.6003e-02, -7.4613e-02],\n",
       "         [ 1.2559e-01, -6.3751e-02, -8.2832e-02,  1.3931e-01,  4.9800e-03,\n",
       "           8.8587e-02,  4.6786e-02, -3.7258e-02,  4.3011e-02,  5.1920e-02,\n",
       "          -2.7914e-03, -5.3445e-02, -1.2120e-02, -5.8884e-02,  6.8089e-02],\n",
       "         [-3.4630e-02, -9.2645e-02,  1.3180e-01,  7.4017e-02, -9.7212e-03,\n",
       "          -8.0819e-02, -3.0981e-02,  8.6393e-02, -4.0100e-02,  7.3798e-02,\n",
       "           2.1290e-02,  1.3586e-01, -1.3762e-01,  6.1912e-02, -1.0960e-01],\n",
       "         [ 9.4823e-02,  3.2498e-02,  8.8577e-02,  6.0796e-03,  1.4519e-01,\n",
       "           1.5544e-01, -5.7092e-03,  1.0555e-01,  2.7590e-02, -1.1855e-01,\n",
       "           6.3109e-02,  4.0360e-02,  1.0549e-01, -1.2360e-02,  3.5349e-04]],\n",
       "\n",
       "        [[-8.0517e-02,  4.7524e-02, -1.6185e-02,  6.2340e-02,  1.0963e-01,\n",
       "           9.4647e-02,  7.9181e-03, -3.7051e-03, -2.2138e-02,  1.3362e-01,\n",
       "           4.8284e-02,  1.0328e-02,  1.3506e-01, -5.5846e-03,  9.0493e-02],\n",
       "         [-4.4986e-02,  3.9988e-03,  1.4670e-01,  1.5974e-01,  1.9558e-02,\n",
       "           3.1215e-03, -3.9280e-02,  1.3521e-02,  3.8946e-02, -9.4756e-02,\n",
       "           3.6692e-02,  8.9511e-02,  9.3094e-02,  5.3474e-02, -5.7185e-02],\n",
       "         [-1.9817e-02,  5.0760e-02, -3.0073e-02,  1.1074e-01, -1.9386e-02,\n",
       "          -6.1977e-04, -6.9655e-02,  2.7576e-02, -3.9916e-02, -6.5335e-02,\n",
       "           1.4771e-01,  7.4599e-02, -8.2301e-02, -1.0798e-01,  1.1851e-01],\n",
       "         [ 1.8717e-02, -7.3467e-03,  5.3235e-02, -1.7342e-02,  1.0000e-01,\n",
       "           5.3551e-02,  9.1498e-02, -9.0314e-02, -1.0357e-01, -9.4363e-02,\n",
       "           1.0316e-01, -3.4096e-03,  1.3982e-01,  9.9061e-02,  4.5142e-03]],\n",
       "\n",
       "        [[ 1.3431e-02,  6.9661e-02,  3.3499e-03,  1.1778e-01,  2.3628e-02,\n",
       "          -7.2394e-02,  8.2668e-02,  7.7974e-02,  3.4642e-03,  5.5108e-02,\n",
       "           1.3582e-03,  7.6919e-02, -1.5333e-01,  2.8669e-02, -7.0680e-02],\n",
       "         [ 7.5094e-02,  1.5039e-01,  7.7836e-02,  4.6083e-02,  3.1437e-02,\n",
       "          -4.0445e-02, -3.1798e-03, -9.9462e-03, -1.0892e-01, -1.4303e-01,\n",
       "          -4.6910e-02, -7.8699e-02,  1.1682e-01, -6.8896e-02,  2.0958e-01],\n",
       "         [ 1.3977e-01,  4.5935e-02, -6.4550e-02,  3.1700e-02,  1.7344e-02,\n",
       "           7.1029e-02, -7.5593e-02,  3.6159e-02, -5.9023e-02, -2.9624e-02,\n",
       "          -6.8990e-02, -4.4198e-02, -4.7060e-02,  3.3913e-02, -3.1806e-02],\n",
       "         [-6.5537e-02,  4.1507e-02, -1.3366e-02, -9.4657e-02,  3.2072e-02,\n",
       "          -6.9448e-02, -2.5261e-03,  4.6493e-02,  2.5316e-02,  1.7809e-01,\n",
       "          -1.7374e-02,  9.9770e-02, -8.8959e-02,  1.1777e-01, -2.3375e-02]],\n",
       "\n",
       "        [[ 2.1854e-02, -2.0878e-01, -4.4404e-02, -2.9552e-02,  9.5598e-02,\n",
       "          -1.0861e-01, -1.5882e-01, -1.8094e-02, -1.3950e-02,  1.2434e-02,\n",
       "          -1.5003e-01, -4.9670e-02,  3.3599e-02, -1.8231e-01, -3.7845e-02],\n",
       "         [ 1.4782e-01, -5.9492e-02, -1.1377e-01, -1.3054e-03, -8.2063e-02,\n",
       "          -8.2340e-02, -1.1627e-01, -7.4127e-02, -2.3009e-02, -7.0630e-02,\n",
       "           1.0250e-01, -1.4886e-01,  1.3029e-01,  1.6309e-01, -6.2249e-02],\n",
       "         [ 9.5609e-03,  5.1319e-02,  1.0291e-01,  6.7852e-02, -1.5782e-02,\n",
       "          -1.4678e-01,  1.2585e-01,  1.0861e-01,  1.5584e-01, -4.2054e-02,\n",
       "           3.5582e-02, -4.6036e-04, -6.6196e-04, -4.7813e-03, -7.9296e-02],\n",
       "         [ 5.7050e-02,  2.2840e-02,  9.0000e-02,  1.3987e-01, -8.2029e-02,\n",
       "          -2.3219e-02, -1.9581e-01, -2.4832e-02, -4.9991e-02, -7.3185e-02,\n",
       "          -1.5344e-01,  9.4998e-02, -1.5851e-01, -1.2285e-01, -1.5850e-01]],\n",
       "\n",
       "        [[ 5.7983e-02,  1.8766e-03, -5.3021e-02, -1.0845e-01,  3.1607e-02,\n",
       "           1.9385e-02,  8.7373e-02, -7.8360e-02,  1.4470e-02, -9.3603e-02,\n",
       "           1.3695e-02, -1.1943e-01,  9.5593e-02,  5.7334e-02,  7.9346e-02],\n",
       "         [ 1.6241e-01,  1.2221e-01,  4.2781e-02,  5.2510e-02,  6.6896e-02,\n",
       "          -7.9029e-03,  5.9053e-04,  3.0052e-02,  3.8712e-02,  1.4911e-01,\n",
       "          -4.9426e-02,  3.9288e-02, -1.1694e-02,  8.8234e-02,  1.4046e-01],\n",
       "         [ 3.5220e-02,  8.1984e-02,  5.2091e-03,  7.2662e-03,  5.8421e-02,\n",
       "          -4.9163e-02,  9.2448e-02, -1.1978e-01,  3.7325e-02,  1.0713e-01,\n",
       "          -3.4488e-02,  1.1506e-01, -4.0394e-02,  9.1770e-03,  2.5148e-02],\n",
       "         [ 1.3589e-02, -8.4382e-02,  5.1801e-02,  8.8462e-02, -1.4334e-01,\n",
       "           9.2148e-02,  4.4304e-02, -1.1473e-01,  1.5688e-02, -7.7407e-02,\n",
       "           4.8010e-02, -1.0735e-01, -7.4962e-02, -3.2379e-02, -6.4157e-02]],\n",
       "\n",
       "        [[ 2.9940e-02, -3.2824e-02,  1.4403e-01,  1.2155e-01, -7.5190e-02,\n",
       "          -1.2314e-01,  6.6362e-02, -4.6404e-02, -9.6549e-02, -5.7184e-03,\n",
       "          -4.8673e-02,  5.0218e-02, -1.8669e-01,  1.4432e-01,  1.4894e-01],\n",
       "         [ 1.4827e-01, -1.0492e-03, -3.4135e-02,  4.3027e-02,  1.0094e-01,\n",
       "           1.4450e-01, -2.2413e-02,  6.0083e-02, -2.6808e-02, -1.1520e-01,\n",
       "           9.1889e-02,  1.0883e-02,  7.0426e-02,  5.1106e-02,  1.0977e-01],\n",
       "         [ 1.1695e-01, -4.5043e-02, -7.4982e-02,  7.3268e-02, -1.3956e-01,\n",
       "           4.1226e-02, -1.5485e-02, -1.1326e-01,  3.9708e-02,  1.5613e-01,\n",
       "           1.3580e-01,  1.0524e-01,  1.5288e-01, -4.5461e-02, -7.2033e-02],\n",
       "         [ 1.6008e-02, -7.5074e-02,  8.9643e-02, -4.1830e-02, -5.6381e-02,\n",
       "           9.6013e-02,  9.1141e-02,  1.8038e-02, -7.8874e-02,  1.3612e-02,\n",
       "           5.9689e-02, -3.5991e-02,  9.7762e-03, -6.8762e-02,  1.0292e-01]],\n",
       "\n",
       "        [[-6.6455e-03,  1.0660e-01,  7.7078e-02,  9.0365e-02, -1.0336e-01,\n",
       "           6.2153e-02, -6.0009e-02,  1.7770e-02, -4.5380e-02, -5.1170e-02,\n",
       "           4.9848e-02,  9.2271e-02,  1.9718e-02, -1.8010e-02,  6.3861e-02],\n",
       "         [ 6.5299e-02,  4.5528e-02,  6.1343e-02,  1.3507e-01,  6.1735e-02,\n",
       "           7.6687e-02, -8.5998e-02, -7.1190e-02, -6.3982e-02, -4.0432e-02,\n",
       "           8.0256e-02,  9.4591e-02, -4.8525e-02,  4.4954e-02, -3.4885e-02],\n",
       "         [ 1.0986e-03, -1.7775e-02,  1.4747e-03,  5.0308e-02, -5.8338e-02,\n",
       "           6.0245e-02,  1.8696e-02,  1.0780e-01, -6.2215e-02,  1.2195e-01,\n",
       "           6.9636e-02,  5.9960e-02,  1.1988e-02, -6.2431e-02,  6.0185e-03],\n",
       "         [ 5.8273e-02,  9.3836e-02,  4.5339e-02, -1.5638e-01, -1.1047e-01,\n",
       "          -7.4368e-02, -4.5472e-02,  4.2487e-02,  1.4960e-02,  3.1212e-02,\n",
       "          -1.0740e-02, -2.3681e-02, -1.1343e-01, -3.4031e-02,  8.9265e-02]],\n",
       "\n",
       "        [[-1.3522e-01, -2.8534e-02, -1.1333e-01, -4.8375e-02,  1.0828e-01,\n",
       "          -1.0602e-01,  1.0402e-02, -5.5882e-02, -4.0342e-02, -1.0894e-01,\n",
       "           7.8449e-03,  1.0255e-01, -2.4335e-02,  3.5742e-02,  1.5701e-02],\n",
       "         [ 1.8628e-01,  6.3351e-02,  1.1648e-01,  5.2303e-03,  1.0158e-01,\n",
       "           5.0465e-02,  8.5242e-02, -3.7431e-02,  5.6977e-02, -9.2762e-02,\n",
       "           1.1031e-01, -7.8952e-02,  1.3955e-02, -7.1500e-03,  3.4029e-02],\n",
       "         [-4.4054e-02, -8.0998e-02, -3.2847e-02,  1.2415e-01,  7.5976e-02,\n",
       "          -8.4852e-02,  1.0069e-01,  5.1348e-02,  1.2215e-01,  9.8857e-02,\n",
       "          -4.9321e-02,  1.7913e-02,  3.1717e-02,  1.2376e-01, -7.4923e-02],\n",
       "         [-1.4450e-01, -4.2909e-02,  1.2202e-01,  9.9090e-02, -7.4489e-02,\n",
       "          -1.9796e-02, -6.3947e-03, -1.7942e-03,  1.0989e-01,  1.1007e-01,\n",
       "          -1.4371e-01,  1.4227e-01, -4.2562e-03,  4.2912e-02, -5.9728e-02]],\n",
       "\n",
       "        [[ 2.1508e-02,  1.4126e-01, -1.4711e-01,  1.6295e-02,  6.3573e-02,\n",
       "           5.7908e-02,  1.0005e-01, -1.0836e-01, -6.9951e-02, -8.5875e-02,\n",
       "           1.1043e-01, -7.1107e-02, -8.7463e-02, -9.1641e-03,  6.4927e-02],\n",
       "         [ 4.5699e-02,  1.1473e-01,  1.0889e-01,  1.0087e-01, -5.5395e-02,\n",
       "          -2.4546e-02,  5.2358e-02, -2.8265e-02,  9.2627e-02, -7.6226e-03,\n",
       "           2.5623e-02,  6.2496e-02,  9.6559e-02,  8.4046e-02,  1.2276e-01],\n",
       "         [ 2.5797e-02,  1.7356e-02,  1.4359e-01,  9.4984e-02, -1.0306e-01,\n",
       "          -3.0656e-02, -1.5172e-02,  5.0274e-02,  1.4513e-01,  1.1771e-01,\n",
       "           1.4172e-01,  1.3401e-01, -8.2538e-02, -8.4816e-02,  8.9047e-02],\n",
       "         [-1.4312e-01, -5.0293e-02, -8.3994e-02, -8.6911e-02,  9.4141e-03,\n",
       "           2.9583e-02,  8.2121e-02, -1.0584e-01, -3.5560e-02,  8.3059e-02,\n",
       "           2.2838e-02, -2.1161e-02, -9.2317e-02,  8.3158e-02,  3.9624e-02]],\n",
       "\n",
       "        [[ 6.9968e-02, -8.8178e-02,  9.6016e-02,  1.7480e-01, -8.2512e-03,\n",
       "           7.4090e-02,  1.8302e-01, -4.7061e-02, -1.3070e-01, -1.7830e-01,\n",
       "           1.1538e-01,  6.4332e-03, -1.0958e-01,  8.7244e-02,  1.9584e-02],\n",
       "         [-1.0689e-01, -1.4371e-02,  1.5930e-03, -3.9879e-02, -1.4223e-01,\n",
       "           1.3426e-02, -1.4415e-01, -7.9271e-02, -1.3853e-01,  1.0799e-02,\n",
       "          -1.4433e-01,  1.5820e-01,  1.2703e-01,  1.6192e-01,  1.0343e-01],\n",
       "         [-5.9506e-02,  4.3240e-02,  5.3758e-02,  6.0207e-02, -1.1283e-01,\n",
       "          -9.1811e-03, -1.9217e-01, -1.4145e-02,  1.4732e-02, -3.9795e-02,\n",
       "          -8.1726e-02, -8.0911e-02,  4.3819e-02, -9.0327e-02,  2.8948e-02],\n",
       "         [-5.3492e-03,  8.7157e-02,  8.9741e-02, -1.6212e-01, -2.3830e-02,\n",
       "           7.0513e-02,  6.7726e-02, -1.5713e-02,  1.2655e-01, -5.5617e-02,\n",
       "           1.7503e-01, -7.2122e-02, -1.0071e-01, -3.2308e-02, -2.3434e-01]],\n",
       "\n",
       "        [[-1.5991e-02,  2.3295e-02, -9.1598e-02,  1.2189e-01,  1.4077e-01,\n",
       "          -2.1066e-01,  5.8301e-02,  7.2459e-02, -1.5392e-01,  8.9891e-03,\n",
       "           1.3228e-01,  1.8469e-02,  1.0615e-01, -3.9899e-02,  1.0473e-01],\n",
       "         [-1.5756e-01,  3.2037e-02,  1.0916e-01,  4.2252e-02, -6.5642e-02,\n",
       "           1.4204e-01, -8.4617e-02, -2.4419e-01,  7.4157e-02, -8.9651e-02,\n",
       "           7.5969e-02,  1.4505e-01,  2.0821e-02,  2.2650e-01, -3.2392e-01],\n",
       "         [ 1.0524e-01, -1.3323e-02,  5.3597e-02,  1.0728e-01, -9.7776e-02,\n",
       "          -6.4143e-02, -1.6671e-01, -2.1553e-02, -6.7299e-02,  4.1378e-02,\n",
       "          -1.9844e-01,  9.4484e-02, -2.0216e-02, -1.6684e-01,  9.6739e-02],\n",
       "         [-6.9450e-02,  1.3544e-02, -9.3220e-02, -7.7143e-02, -8.9698e-02,\n",
       "           2.1082e-02,  1.2750e-01,  5.1800e-02, -6.5451e-02,  2.6159e-02,\n",
       "          -6.3145e-02,  1.0476e-01, -5.0536e-02, -6.6403e-02,  8.8336e-02]],\n",
       "\n",
       "        [[-3.2196e-02,  1.1914e-01,  5.8721e-02,  4.7350e-02, -8.8622e-02,\n",
       "          -2.9347e-02,  7.9544e-02,  6.8790e-02,  7.8091e-02,  5.3820e-02,\n",
       "          -4.8394e-02,  6.7983e-02,  1.5945e-02,  2.7069e-02,  7.9551e-02],\n",
       "         [-8.9939e-02, -2.9220e-02,  9.7849e-02,  8.6919e-02,  1.5084e-01,\n",
       "          -5.6998e-02, -9.2662e-02,  8.3310e-02, -1.5845e-02, -3.6350e-02,\n",
       "           1.3268e-02, -5.1483e-02, -1.0086e-01, -1.6361e-01,  1.9216e-04],\n",
       "         [-4.6801e-02,  9.0521e-02,  5.9734e-02, -9.4066e-02,  1.0915e-01,\n",
       "           5.4532e-02, -1.2449e-01, -9.6374e-02, -4.6429e-02,  5.7952e-02,\n",
       "           6.0118e-02, -3.9842e-02, -6.4394e-02, -8.8073e-02,  6.8872e-02],\n",
       "         [ 1.4362e-01,  7.7328e-03,  1.5861e-02, -8.6441e-02, -1.4035e-01,\n",
       "           3.9841e-02,  2.7315e-02, -1.2897e-01, -9.5095e-02, -7.5703e-02,\n",
       "          -4.7904e-02,  8.5658e-02,  4.7708e-02,  1.8065e-01, -6.3630e-02]],\n",
       "\n",
       "        [[-8.0727e-02, -2.3274e-01, -1.3474e-01,  6.5543e-02,  6.5600e-02,\n",
       "          -9.0512e-02, -2.2070e-01, -8.6271e-02, -8.9819e-02,  1.0528e-01,\n",
       "           8.9238e-02, -3.4107e-02,  3.0791e-02, -2.8696e-02, -3.4468e-04],\n",
       "         [-1.4619e-01,  1.3569e-01,  1.6895e-02, -1.7975e-01, -8.2177e-02,\n",
       "          -9.0818e-03, -1.1169e-02, -8.4322e-02, -1.5803e-01,  3.1383e-02,\n",
       "           4.6642e-02, -7.6193e-02, -9.7616e-02,  4.0135e-02,  3.6210e-02],\n",
       "         [ 4.4857e-02,  1.1177e-01,  4.2148e-02, -2.1211e-01,  1.1082e-01,\n",
       "           7.9970e-02, -9.3288e-02, -1.6657e-01, -2.0434e-02, -2.2461e-02,\n",
       "          -2.5307e-02,  4.3142e-02, -4.4569e-03, -1.0261e-01, -8.7039e-02],\n",
       "         [ 2.6169e-02, -2.3725e-01,  1.1083e-02,  6.8324e-02, -2.7241e-03,\n",
       "           1.1082e-01, -1.3846e-01,  1.4106e-01,  2.0688e-02,  1.1368e-01,\n",
       "           1.9347e-01, -6.4918e-02,  8.3248e-02,  1.1028e-01,  6.4622e-02]],\n",
       "\n",
       "        [[ 1.9240e-02, -1.0750e-01,  3.2005e-02,  6.4999e-02, -2.8498e-02,\n",
       "          -1.1065e-01, -5.3104e-02, -8.6835e-02, -1.1879e-01,  6.4780e-02,\n",
       "          -2.1958e-02,  5.1363e-02,  4.0550e-02, -1.9301e-02, -6.4817e-02],\n",
       "         [-7.1784e-02,  1.4075e-02,  1.3581e-01, -5.8457e-03, -1.7959e-02,\n",
       "          -1.9633e-02,  1.0435e-01, -3.5278e-02,  1.3055e-01, -1.3407e-01,\n",
       "           9.5420e-02,  3.7460e-02, -5.9051e-02,  5.3887e-02,  1.3545e-02],\n",
       "         [ 8.2392e-02,  5.6868e-02,  1.2747e-01, -4.9851e-02,  1.1247e-01,\n",
       "          -1.1530e-01,  3.6338e-02, -5.0269e-02,  6.7196e-02,  1.4568e-01,\n",
       "          -4.5150e-03, -3.4796e-02,  6.9660e-02, -4.9645e-02,  9.9977e-02],\n",
       "         [ 3.0968e-02,  8.1753e-02,  4.0974e-02, -3.9490e-02,  1.1501e-01,\n",
       "          -3.2959e-02, -1.4161e-02,  6.5715e-02, -5.0916e-02,  2.1579e-02,\n",
       "          -4.6165e-03,  4.8526e-02,  1.1071e-01,  8.5748e-02,  1.3058e-01]]],\n",
       "       requires_grad=True)"
      ]
     },
     "execution_count": 19,
     "metadata": {},
     "output_type": "execute_result"
    }
   ],
   "source": [
    "next(eugene.parameters())"
   ]
  },
  {
   "cell_type": "code",
   "execution_count": 60,
   "id": "699c2485-0150-4f77-90a3-b01aaf2412b9",
   "metadata": {
    "execution": {
     "iopub.execute_input": "2022-05-06T18:40:28.305279Z",
     "iopub.status.busy": "2022-05-06T18:40:28.305152Z",
     "iopub.status.idle": "2022-05-06T18:40:29.965626Z",
     "shell.execute_reply": "2022-05-06T18:40:29.965188Z",
     "shell.execute_reply.started": "2022-05-06T18:40:28.305263Z"
    },
    "tags": []
   },
   "outputs": [],
   "source": [
    "import pytorch_lightning as pl\n",
    "from pytorch_lightning.loggers import TensorBoardLogger"
   ]
  },
  {
   "cell_type": "code",
   "execution_count": 63,
   "id": "882a534b-1b80-4bba-9e60-5cab157f80f5",
   "metadata": {
    "execution": {
     "iopub.execute_input": "2022-05-06T18:40:29.966301Z",
     "iopub.status.busy": "2022-05-06T18:40:29.966183Z",
     "iopub.status.idle": "2022-05-06T18:40:31.580640Z",
     "shell.execute_reply": "2022-05-06T18:40:31.580304Z",
     "shell.execute_reply.started": "2022-05-06T18:40:29.966286Z"
    },
    "tags": []
   },
   "outputs": [
    {
     "name": "stderr",
     "output_type": "stream",
     "text": [
      "GPU available: False, used: False\n",
      "TPU available: False, using: 0 TPU cores\n",
      "IPU available: False, using: 0 IPUs\n"
     ]
    }
   ],
   "source": [
    "LOG_DIR = f\"../_logs/batch_size-{BATCH_SIZE}.num_workers-{NUM_WORKERS}.num_seq-{NUM_SEQS}.seq_len-{SEQ_LEN}\"\n",
    "logger = TensorBoardLogger(LOG_DIR, name=MODEL, version=f\"{STRAND}_{TASK}\")\n",
    "trainer = pl.Trainer(max_epochs=10, logger=logger)"
   ]
  },
  {
   "cell_type": "code",
   "execution_count": null,
   "id": "1e11f38e",
   "metadata": {},
   "outputs": [],
   "source": []
  },
  {
   "cell_type": "code",
   "execution_count": 64,
   "id": "eb52d3ed",
   "metadata": {},
   "outputs": [
    {
     "name": "stderr",
     "output_type": "stream",
     "text": [
      "\n",
      "  | Name         | Type                      | Params\n",
      "-----------------------------------------------------------\n",
      "0 | convnet      | BasicConv1D               | 3.6 K \n",
      "1 | recurrentnet | BasicRecurrent            | 16.9 K\n",
      "2 | fcnet        | BasicFullyConnectedModule | 3.3 K \n",
      "3 | r_squared    | R2Score                   | 0     \n",
      "-----------------------------------------------------------\n",
      "23.8 K    Trainable params\n",
      "0         Non-trainable params\n",
      "23.8 K    Total params\n",
      "0.095     Total estimated model params size (MB)\n"
     ]
    },
    {
     "data": {
      "application/vnd.jupyter.widget-view+json": {
       "model_id": "ae7b8c4cb5274f69a9cbdb18e0485d5b",
       "version_major": 2,
       "version_minor": 0
      },
      "text/plain": [
       "Training: 0it [00:00, ?it/s]"
      ]
     },
     "metadata": {},
     "output_type": "display_data"
    }
   ],
   "source": [
    "trainer.fit(eugene, sdataloader)"
   ]
  },
  {
   "cell_type": "markdown",
   "id": "24527bb0",
   "metadata": {},
   "source": [
    "---"
   ]
  },
  {
   "cell_type": "markdown",
   "id": "23b15b0e-0b7b-4791-9806-04ff888bb49f",
   "metadata": {
    "tags": []
   },
   "source": [
    "# Scratch"
   ]
  }
 ],
 "metadata": {
  "kernelspec": {
   "display_name": "Python 3.7.13 64-bit",
   "language": "python",
   "name": "python3"
  },
  "language_info": {
   "codemirror_mode": {
    "name": "ipython",
    "version": 3
   },
   "file_extension": ".py",
   "mimetype": "text/x-python",
   "name": "python",
   "nbconvert_exporter": "python",
   "pygments_lexer": "ipython3",
   "version": "3.7.13"
  },
  "vscode": {
   "interpreter": {
    "hash": "949777d72b0d2535278d3dc13498b2535136f6dfe0678499012e853ee9abcab1"
   }
  }
 },
 "nbformat": 4,
 "nbformat_minor": 5
}

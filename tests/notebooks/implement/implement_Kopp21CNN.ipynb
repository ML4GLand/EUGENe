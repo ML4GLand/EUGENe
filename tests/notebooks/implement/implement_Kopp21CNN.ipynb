{
 "cells": [
  {
   "cell_type": "markdown",
   "id": "661f6b58",
   "metadata": {},
   "source": [
    "# Testing `Jores21CNN` model class"
   ]
  },
  {
   "cell_type": "markdown",
   "id": "fa64213c",
   "metadata": {
    "tags": []
   },
   "source": [
    "**Authorship:**\n",
    "Adam Klie, *07/31/2022*\n",
    "***\n",
    "**Description:**\n",
    "Notebook for testing out the custom `Jores21CNN` model class."
   ]
  },
  {
   "cell_type": "code",
   "execution_count": 1,
   "metadata": {},
   "outputs": [],
   "source": [
    "import numpy as np\n",
    "import pandas as pd\n",
    "import torch\n",
    "\n",
    "# Autoreload extension\n",
    "if 'autoreload' not in get_ipython().extension_manager.loaded:\n",
    "    %load_ext autoreload\n",
    "%autoreload 2"
   ]
  },
  {
   "cell_type": "code",
   "execution_count": 2,
   "metadata": {},
   "outputs": [
    {
     "name": "stderr",
     "output_type": "stream",
     "text": [
      "Global seed set to 13\n"
     ]
    }
   ],
   "source": [
    "import eugene as eu"
   ]
  },
  {
   "cell_type": "code",
   "execution_count": 36,
   "metadata": {},
   "outputs": [],
   "source": [
    "from eugene.models.base import BaseModel\n",
    "import torch.nn as nn\n",
    "import torch.nn.functional as F\n",
    "from eugene.models.base._utils import GetFlattenDim\n",
    "\n",
    "class Kopp21CNN(BaseModel):\n",
    "    def __init__(\n",
    "        self,\n",
    "        input_len,\n",
    "        output_dim,\n",
    "        strand=\"ds\",\n",
    "        task=\"binary_classification\",\n",
    "        aggr=\"max\",\n",
    "        filters: list = [10, 8],\n",
    "        conv_kernel_size: list = [11, 3],\n",
    "        maxpool_kernel_size: int = 30,\n",
    "        stride: int = 1,\n",
    "        **kwargs\n",
    "    ):\n",
    "        super().__init__(\n",
    "            input_len, output_dim, strand=strand, task=task, aggr=aggr, **kwargs\n",
    "        )\n",
    "        self.conv = nn.Conv1d(4, filters[0], conv_kernel_size[0], stride=stride)\n",
    "        self.maxpool = nn.MaxPool1d(kernel_size=maxpool_kernel_size, stride=stride)\n",
    "        self.batchnorm = nn.BatchNorm1d(filters[0])\n",
    "        self.conv2 = nn.Conv1d(filters[0], filters[1], conv_kernel_size[1], stride=stride)\n",
    "        self.batchnorm2 = nn.BatchNorm1d(filters[1])\n",
    "        self.linear = nn.Linear(filters[1], self.output_dim)\n",
    "\n",
    "    def forward(self, x, x_rev):\n",
    "        x_fwd = F.relu(self.conv(x))\n",
    "        x_rev = F.relu(self.conv(x_rev))\n",
    "        if self.aggr == 'concat':\n",
    "            x = torch.cat((x_fwd, x_rev), dim=1)\n",
    "        elif self.aggr == 'max':\n",
    "            x = torch.max(x_fwd, x_rev)\n",
    "        elif self.aggr == 'ave':\n",
    "            x = (x_fwd + x_rev) / 2\n",
    "        elif self.aggr is None:\n",
    "            x = torch.cat((x_fwd, x_rev), dim=1) \n",
    "        x = self.maxpool(x)\n",
    "        x = self.conv2(x)\n",
    "        x = F.relu(x)\n",
    "        x = F.max_pool1d(x, x.shape[2])\n",
    "        x = self.batchnorm2(x)\n",
    "        x = x.view(x.shape[0], -1)\n",
    "        x = self.linear(x)\n",
    "        return x"
   ]
  },
  {
   "cell_type": "code",
   "execution_count": 37,
   "metadata": {},
   "outputs": [],
   "source": [
    "x = torch.randn(10, 4, 500)\n",
    "x_rev = torch.randn(10, 4, 500)"
   ]
  },
  {
   "cell_type": "code",
   "execution_count": 38,
   "metadata": {},
   "outputs": [
    {
     "name": "stderr",
     "output_type": "stream",
     "text": [
      "/cellar/users/aklie/opt/miniconda3/envs/eugene_dev/lib/python3.7/site-packages/torchmetrics/utilities/prints.py:36: UserWarning: Metric `AUROC` will save all targets and predictions in buffer. For large datasets this may lead to large memory footprint.\n",
      "  warnings.warn(*args, **kwargs)\n"
     ]
    },
    {
     "data": {
      "text/plain": [
       "Kopp21CNN(\n",
       "  (hp_metric): AUROC()\n",
       "  (conv): Conv1d(4, 10, kernel_size=(11,), stride=(1,))\n",
       "  (maxpool): MaxPool1d(kernel_size=30, stride=1, padding=0, dilation=1, ceil_mode=False)\n",
       "  (batchnorm): BatchNorm1d(10, eps=1e-05, momentum=0.1, affine=True, track_running_stats=True)\n",
       "  (conv2): Conv1d(10, 8, kernel_size=(3,), stride=(1,))\n",
       "  (batchnorm2): BatchNorm1d(8, eps=1e-05, momentum=0.1, affine=True, track_running_stats=True)\n",
       "  (linear): Linear(in_features=8, out_features=1, bias=True)\n",
       ")"
      ]
     },
     "execution_count": 38,
     "metadata": {},
     "output_type": "execute_result"
    }
   ],
   "source": [
    "model = Kopp21CNN(\n",
    "    input_len=500,\n",
    "    output_dim=1,\n",
    ")\n",
    "model"
   ]
  },
  {
   "cell_type": "code",
   "execution_count": 39,
   "metadata": {},
   "outputs": [
    {
     "name": "stdout",
     "output_type": "stream",
     "text": [
      "torch.Size([10, 8, 459])\n",
      "torch.Size([10, 8, 1])\n",
      "torch.Size([10, 8])\n"
     ]
    },
    {
     "data": {
      "text/plain": [
       "tensor([[ 0.3092],\n",
       "        [ 0.1936],\n",
       "        [ 0.0502],\n",
       "        [ 0.6300],\n",
       "        [-0.4470],\n",
       "        [ 0.1794],\n",
       "        [ 0.1944],\n",
       "        [ 0.2262],\n",
       "        [ 0.3051],\n",
       "        [ 0.5353]], grad_fn=<AddmmBackward0>)"
      ]
     },
     "execution_count": 39,
     "metadata": {},
     "output_type": "execute_result"
    }
   ],
   "source": [
    "model(x, x_rev)"
   ]
  },
  {
   "cell_type": "code",
   "execution_count": 28,
   "metadata": {},
   "outputs": [],
   "source": [
    "from eugene.utils._motif import _create_kernel_matrix"
   ]
  },
  {
   "cell_type": "code",
   "execution_count": 46,
   "metadata": {},
   "outputs": [],
   "source": [
    "model.__getattr__(\"biconv\").kernels[0] = kern"
   ]
  },
  {
   "cell_type": "code",
   "execution_count": 40,
   "metadata": {},
   "outputs": [
    {
     "ename": "SyntaxError",
     "evalue": "invalid syntax (2592916639.py, line 1)",
     "output_type": "error",
     "traceback": [
      "\u001b[0;36m  File \u001b[0;32m\"/tmp/ipykernel_2809931/2592916639.py\"\u001b[0;36m, line \u001b[0;32m1\u001b[0m\n\u001b[0;31m    model.\"biconv\"\u001b[0m\n\u001b[0m                 ^\u001b[0m\n\u001b[0;31mSyntaxError\u001b[0m\u001b[0;31m:\u001b[0m invalid syntax\n"
     ]
    }
   ],
   "source": [
    "model.\"biconv\""
   ]
  },
  {
   "cell_type": "code",
   "execution_count": 36,
   "metadata": {},
   "outputs": [],
   "source": [
    "kern = model.biconv.kernels[0]"
   ]
  },
  {
   "cell_type": "code",
   "execution_count": 37,
   "metadata": {},
   "outputs": [],
   "source": [
    "kern = _create_kernel_matrix((128, 4, 13), all_motifs)"
   ]
  },
  {
   "cell_type": "code",
   "execution_count": 56,
   "metadata": {},
   "outputs": [],
   "source": [
    "model.conv.weight = torch.nn.Parameter(torch.randn(128, 128, 13))"
   ]
  },
  {
   "cell_type": "code",
   "execution_count": 57,
   "metadata": {},
   "outputs": [
    {
     "data": {
      "text/plain": [
       "Parameter containing:\n",
       "tensor([[[-1.1160, -0.3325, -0.7744,  ...,  0.0685, -0.1617, -0.7123],\n",
       "         [ 0.0985, -1.0684,  0.9452,  ...,  0.0340,  0.8200, -0.8049],\n",
       "         [-0.3100, -1.2196, -0.4721,  ...,  0.7886,  0.2196,  2.7004],\n",
       "         ...,\n",
       "         [-1.1247, -0.0458, -0.4971,  ...,  0.4404, -1.2233, -0.1531],\n",
       "         [ 0.6456, -0.5590, -1.2134,  ..., -0.5988, -0.2380, -0.2558],\n",
       "         [-0.8898, -1.3874, -0.8575,  ..., -0.4385,  1.1100, -0.2351]],\n",
       "\n",
       "        [[-0.7794,  0.8648, -0.3815,  ..., -1.6818,  0.1235,  1.6162],\n",
       "         [ 0.7390, -1.7336,  0.4566,  ...,  0.1805, -0.2668,  0.9915],\n",
       "         [ 0.9938, -0.0948,  1.4486,  ...,  1.2259, -0.0529,  0.5860],\n",
       "         ...,\n",
       "         [-0.9741, -2.5641, -0.8386,  ...,  0.6279, -2.0081, -1.0378],\n",
       "         [-0.1105,  0.5527, -0.0749,  ..., -0.5626, -0.4269,  0.9372],\n",
       "         [-0.6103,  2.6745,  0.2042,  ..., -1.4715, -0.0636,  0.8312]],\n",
       "\n",
       "        [[-1.8713,  0.9585,  1.2868,  ...,  0.8011,  0.1002,  0.1813],\n",
       "         [-0.8813, -0.4428, -0.6552,  ...,  2.2116, -0.7333, -0.2952],\n",
       "         [ 0.9176,  0.4540,  0.1921,  ...,  0.5704, -0.1935, -0.0619],\n",
       "         ...,\n",
       "         [ 0.4834, -2.1227, -0.0961,  ...,  0.5562, -0.4741,  0.1875],\n",
       "         [ 2.2409,  2.5021, -0.3851,  ...,  1.4255,  0.1176,  1.6271],\n",
       "         [-2.0504, -0.7523, -0.0459,  ...,  0.8371, -0.2201,  0.5072]],\n",
       "\n",
       "        ...,\n",
       "\n",
       "        [[-0.8270,  0.5552, -0.8519,  ..., -0.0312,  0.7769, -0.5204],\n",
       "         [-1.3426,  2.7165, -0.4185,  ...,  0.4012,  1.3280,  0.3382],\n",
       "         [ 1.7115, -2.0949, -1.2283,  ...,  0.6765,  1.5882, -1.0367],\n",
       "         ...,\n",
       "         [-0.1204, -0.1004,  0.1519,  ..., -0.1057, -0.2492, -0.8002],\n",
       "         [ 1.0801,  0.3808,  0.5798,  ..., -0.2676,  1.2737,  0.2731],\n",
       "         [ 0.2874,  1.3103,  2.2645,  ...,  0.3736, -0.6230,  0.3414]],\n",
       "\n",
       "        [[ 2.1960,  0.0416,  0.5965,  ...,  1.5337, -0.3431, -0.5239],\n",
       "         [-0.3504,  2.3995, -0.5174,  ..., -0.1617,  0.1410, -0.7351],\n",
       "         [ 0.2526, -1.0138, -0.4444,  ..., -0.7099,  1.5995,  1.2871],\n",
       "         ...,\n",
       "         [ 1.0917, -0.9538, -1.5787,  ..., -0.3891, -0.3516, -0.9551],\n",
       "         [-0.9018,  1.6121,  0.3049,  ...,  0.0752, -0.0773, -0.1659],\n",
       "         [-0.7044, -0.8433,  0.1669,  ..., -1.4490,  0.6086, -0.2205]],\n",
       "\n",
       "        [[ 1.8735,  0.0935, -0.2253,  ...,  1.2810, -0.3493, -2.0016],\n",
       "         [-0.1917, -0.4573, -1.4948,  ..., -0.3727, -1.9024,  0.0155],\n",
       "         [ 0.5639, -0.2768,  0.5754,  ..., -0.2391, -0.2505,  1.0358],\n",
       "         ...,\n",
       "         [ 0.0492, -1.2838, -1.9506,  ...,  0.3111,  0.4975,  0.3490],\n",
       "         [-0.7728,  1.6625, -0.4513,  ...,  0.6862,  1.0874, -2.0907],\n",
       "         [ 0.9651, -0.2641, -1.4692,  ...,  0.7001, -0.8018, -1.2162]]],\n",
       "       requires_grad=True)"
      ]
     },
     "execution_count": 57,
     "metadata": {},
     "output_type": "execute_result"
    }
   ],
   "source": [
    "model.conv.weight"
   ]
  },
  {
   "cell_type": "code",
   "execution_count": 104,
   "metadata": {},
   "outputs": [],
   "source": [
    "core_promoter_elements = MinimalMEME('/cellar/users/aklie/projects/EUGENe/tests/_data/datasets/jores21/CPEs.meme')\n",
    "tf_groups = MinimalMEME('/cellar/users/aklie/projects/EUGENe/tests/_data/datasets/jores21/TF-clusters.meme')\n",
    "all_motifs = {**core_promoter_elements.motifs, **tf_groups.motifs}"
   ]
  },
  {
   "cell_type": "code",
   "execution_count": null,
   "metadata": {},
   "outputs": [],
   "source": []
  },
  {
   "cell_type": "code",
   "execution_count": 122,
   "metadata": {},
   "outputs": [],
   "source": [
    "kernel = torch.zeros(128, 4, 13)\n",
    "nn.init.xavier_uniform_(kernel)\n",
    "\n",
    "# overwrite part of kernel with pfms from motifs\n",
    "for i, motif_id in enumerate(all_motifs):\n",
    "    motif = all_motifs[motif_id]\n",
    "    # convert PFM to PWM, assume equal background frequency of 0.25\n",
    "    # truncates motifs longer than 13bp to 13bp\n",
    "    kernel[i, :, :min(len(motif), kernel.shape[2])] = torch.tensor(motif.pfm[:min(len(motif), kernel.shape[2]), :] / 0.25).transpose(0, 1)"
   ]
  },
  {
   "cell_type": "code",
   "execution_count": 124,
   "metadata": {},
   "outputs": [],
   "source": [
    "model.biconv.kernels[0] = kernel"
   ]
  },
  {
   "cell_type": "code",
   "execution_count": 125,
   "metadata": {},
   "outputs": [
    {
     "data": {
      "text/plain": [
       "tensor([[-0.0013],\n",
       "        [ 0.0682],\n",
       "        [ 0.0221],\n",
       "        [-0.0021],\n",
       "        [ 0.0844],\n",
       "        [ 0.1157],\n",
       "        [ 0.0566],\n",
       "        [ 0.2570],\n",
       "        [-0.1326],\n",
       "        [-0.1769]], grad_fn=<AddmmBackward0>)"
      ]
     },
     "execution_count": 125,
     "metadata": {},
     "output_type": "execute_result"
    }
   ],
   "source": [
    "model(x)"
   ]
  },
  {
   "cell_type": "code",
   "execution_count": 18,
   "metadata": {},
   "outputs": [
    {
     "ename": "AttributeError",
     "evalue": "module 'eugene.utils' has no attribute 'MinimalMEME'",
     "output_type": "error",
     "traceback": [
      "\u001b[0;31m---------------------------------------------------------------------------\u001b[0m",
      "\u001b[0;31mAttributeError\u001b[0m                            Traceback (most recent call last)",
      "\u001b[0;32m/tmp/ipykernel_2809931/3840676192.py\u001b[0m in \u001b[0;36m<module>\u001b[0;34m\u001b[0m\n\u001b[0;32m----> 1\u001b[0;31m \u001b[0mcore_promoter_elements\u001b[0m \u001b[0;34m=\u001b[0m \u001b[0meu\u001b[0m\u001b[0;34m.\u001b[0m\u001b[0mutils\u001b[0m\u001b[0;34m.\u001b[0m\u001b[0mMinimalMEME\u001b[0m\u001b[0;34m(\u001b[0m\u001b[0;34m'/cellar/users/aklie/projects/EUGENe/tests/_data/datasets/jores21/CPEs.meme'\u001b[0m\u001b[0;34m)\u001b[0m\u001b[0;34m\u001b[0m\u001b[0;34m\u001b[0m\u001b[0m\n\u001b[0m\u001b[1;32m      2\u001b[0m \u001b[0mtf_groups\u001b[0m \u001b[0;34m=\u001b[0m \u001b[0meu\u001b[0m\u001b[0;34m.\u001b[0m\u001b[0mutils\u001b[0m\u001b[0;34m.\u001b[0m\u001b[0mMinimalMEME\u001b[0m\u001b[0;34m(\u001b[0m\u001b[0;34m'/cellar/users/aklie/projects/EUGENe/tests/_data/datasets/jores21/TF-clusters.meme'\u001b[0m\u001b[0;34m)\u001b[0m\u001b[0;34m\u001b[0m\u001b[0;34m\u001b[0m\u001b[0m\n\u001b[1;32m      3\u001b[0m \u001b[0mall_motifs\u001b[0m \u001b[0;34m=\u001b[0m \u001b[0;34m{\u001b[0m\u001b[0;34m**\u001b[0m\u001b[0mcore_promoter_elements\u001b[0m\u001b[0;34m.\u001b[0m\u001b[0mmotifs\u001b[0m\u001b[0;34m,\u001b[0m \u001b[0;34m**\u001b[0m\u001b[0mtf_groups\u001b[0m\u001b[0;34m.\u001b[0m\u001b[0mmotifs\u001b[0m\u001b[0;34m}\u001b[0m\u001b[0;34m\u001b[0m\u001b[0;34m\u001b[0m\u001b[0m\n",
      "\u001b[0;31mAttributeError\u001b[0m: module 'eugene.utils' has no attribute 'MinimalMEME'"
     ]
    }
   ],
   "source": [
    "core_promoter_elements = eu.utils.MinimalMEME('/cellar/users/aklie/projects/EUGENe/tests/_data/datasets/jores21/CPEs.meme')\n",
    "tf_groups = eu.utils.MinimalMEME('/cellar/users/aklie/projects/EUGENe/tests/_data/datasets/jores21/TF-clusters.meme')\n",
    "all_motifs = {**core_promoter_elements.motifs, **tf_groups.motifs}"
   ]
  }
 ],
 "metadata": {
  "kernelspec": {
   "display_name": "Python 3.7 eugene_dev",
   "language": "python",
   "name": "eugene_dev"
  },
  "language_info": {
   "codemirror_mode": {
    "name": "ipython",
    "version": 3
   },
   "file_extension": ".py",
   "mimetype": "text/x-python",
   "name": "python",
   "nbconvert_exporter": "python",
   "pygments_lexer": "ipython3",
   "version": "3.7.12"
  },
  "orig_nbformat": 4
 },
 "nbformat": 4,
 "nbformat_minor": 2
}

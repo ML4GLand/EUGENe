{
 "cells": [
  {
   "cell_type": "code",
   "execution_count": 1,
   "id": "a9c9c7b5-5c6b-46b2-8ba5-4922c6df2f18",
   "metadata": {
    "execution": {
     "iopub.execute_input": "2022-11-03T00:12:34.441105Z",
     "iopub.status.busy": "2022-11-03T00:12:34.440788Z",
     "iopub.status.idle": "2022-11-03T00:12:34.886254Z",
     "shell.execute_reply": "2022-11-03T00:12:34.885869Z",
     "shell.execute_reply.started": "2022-11-03T00:12:34.441059Z"
    },
    "tags": []
   },
   "outputs": [],
   "source": [
    "if 'autoreload' not in get_ipython().extension_manager.loaded:\n",
    "    %load_ext autoreload \n",
    "%autoreload 2"
   ]
  },
  {
   "cell_type": "code",
   "execution_count": 2,
   "id": "27246577-9981-41e7-8d87-0dd13ec2d7ec",
   "metadata": {
    "execution": {
     "iopub.execute_input": "2022-11-03T00:12:34.887482Z",
     "iopub.status.busy": "2022-11-03T00:12:34.887198Z",
     "iopub.status.idle": "2022-11-03T00:13:07.429421Z",
     "shell.execute_reply": "2022-11-03T00:13:07.428786Z",
     "shell.execute_reply.started": "2022-11-03T00:12:34.887465Z"
    },
    "tags": []
   },
   "outputs": [
    {
     "name": "stderr",
     "output_type": "stream",
     "text": [
      "Global seed set to 13\n"
     ]
    },
    {
     "name": "stdout",
     "output_type": "stream",
     "text": [
      "GPU is available: True\n",
      "Number of GPUs: 1\n",
      "Current GPU: 0\n",
      "GPUs: Quadro RTX 5000\n"
     ]
    }
   ],
   "source": [
    "import os\n",
    "import numpy as np\n",
    "import subprocess\n",
    "import eugene as eu"
   ]
  },
  {
   "cell_type": "code",
   "execution_count": 25,
   "id": "69d0e415-96c7-45dc-9af7-6d4bbaa939ce",
   "metadata": {
    "execution": {
     "iopub.execute_input": "2022-11-03T00:25:02.304614Z",
     "iopub.status.busy": "2022-11-03T00:25:02.304081Z",
     "iopub.status.idle": "2022-11-03T00:25:05.290030Z",
     "shell.execute_reply": "2022-11-03T00:25:05.289548Z",
     "shell.execute_reply.started": "2022-11-03T00:25:02.304591Z"
    },
    "tags": []
   },
   "outputs": [],
   "source": [
    "eu.settings.dataset_dir = \"/cellar/users/aklie/projects/EUGENe/tests/notebooks/implement/gkm_data\"\n",
    "eu.settings.logging_dir = \"/cellar/users/aklie/projects/EUGENe/tests/notebooks/implement/gkm_logs\""
   ]
  },
  {
   "cell_type": "markdown",
   "id": "5fae5556-0d0a-46ed-9fb5-494c3df0b3e2",
   "metadata": {},
   "source": [
    "# SeqData to gkmSVM Fasta's"
   ]
  },
  {
   "cell_type": "code",
   "execution_count": 3,
   "id": "c940f1b3-66dc-4221-8409-463ec751a67d",
   "metadata": {
    "execution": {
     "iopub.execute_input": "2022-11-03T00:14:05.558914Z",
     "iopub.status.busy": "2022-11-03T00:14:05.558478Z",
     "iopub.status.idle": "2022-11-03T00:14:08.768253Z",
     "shell.execute_reply": "2022-11-03T00:14:08.767638Z",
     "shell.execute_reply.started": "2022-11-03T00:14:05.558889Z"
    },
    "tags": []
   },
   "outputs": [],
   "source": [
    "sdata = eu.datasets.random1000()"
   ]
  },
  {
   "cell_type": "code",
   "execution_count": 4,
   "id": "ded3d76f-378d-4122-83d0-57381f524fee",
   "metadata": {
    "execution": {
     "iopub.execute_input": "2022-11-03T00:14:08.769633Z",
     "iopub.status.busy": "2022-11-03T00:14:08.769289Z",
     "iopub.status.idle": "2022-11-03T00:14:11.220063Z",
     "shell.execute_reply": "2022-11-03T00:14:11.219628Z",
     "shell.execute_reply.started": "2022-11-03T00:14:08.769612Z"
    },
    "tags": []
   },
   "outputs": [
    {
     "data": {
      "application/vnd.jupyter.widget-view+json": {
       "model_id": "c6a0931cc9204cf89e5f5cf8328ae6a5",
       "version_major": 2,
       "version_minor": 0
      },
      "text/plain": [
       "One-hot encoding sequences:   0%|          | 0/1000 [00:00<?, ?it/s]"
      ]
     },
     "metadata": {},
     "output_type": "display_data"
    },
    {
     "name": "stdout",
     "output_type": "stream",
     "text": [
      "SeqData object modified:\n",
      "\tohe_seqs: None -> 1000 ohe_seqs added\n",
      "SeqData object modified:\n",
      "    seqs_annot:\n",
      "        + train_val\n"
     ]
    }
   ],
   "source": [
    "eu.pp.ohe_seqs_sdata(sdata)\n",
    "eu.pp.train_test_split_sdata(sdata)"
   ]
  },
  {
   "cell_type": "code",
   "execution_count": 5,
   "id": "9da51c3c-2b62-46d2-a66d-e335841d8cb5",
   "metadata": {
    "execution": {
     "iopub.execute_input": "2022-11-03T00:14:11.221121Z",
     "iopub.status.busy": "2022-11-03T00:14:11.220831Z",
     "iopub.status.idle": "2022-11-03T00:14:14.424045Z",
     "shell.execute_reply": "2022-11-03T00:14:14.423462Z",
     "shell.execute_reply.started": "2022-11-03T00:14:11.221104Z"
    },
    "tags": []
   },
   "outputs": [],
   "source": [
    "seqs = sdata.seqs\n",
    "seq = seqs[0]"
   ]
  },
  {
   "cell_type": "code",
   "execution_count": 6,
   "id": "bf9b1ab2-126d-4573-ba4f-9c8f1c6d173c",
   "metadata": {
    "execution": {
     "iopub.execute_input": "2022-11-03T00:14:14.425608Z",
     "iopub.status.busy": "2022-11-03T00:14:14.425282Z",
     "iopub.status.idle": "2022-11-03T00:14:18.042661Z",
     "shell.execute_reply": "2022-11-03T00:14:18.042124Z",
     "shell.execute_reply.started": "2022-11-03T00:14:14.425590Z"
    },
    "tags": []
   },
   "outputs": [],
   "source": [
    "ohe_seqs = sdata.ohe_seqs\n",
    "ohe_seq = ohe_seqs[0]"
   ]
  },
  {
   "cell_type": "code",
   "execution_count": 7,
   "id": "27207319-57b1-4005-9b8c-058615dfa1c4",
   "metadata": {
    "execution": {
     "iopub.execute_input": "2022-11-03T00:14:18.043883Z",
     "iopub.status.busy": "2022-11-03T00:14:18.043582Z",
     "iopub.status.idle": "2022-11-03T00:14:21.522134Z",
     "shell.execute_reply": "2022-11-03T00:14:21.521476Z",
     "shell.execute_reply.started": "2022-11-03T00:14:18.043866Z"
    },
    "tags": []
   },
   "outputs": [],
   "source": [
    "seq_len = len(seqs[0])"
   ]
  },
  {
   "cell_type": "code",
   "execution_count": 9,
   "id": "3e12fb9d-a060-4dbb-8513-852ea689de5d",
   "metadata": {
    "execution": {
     "iopub.execute_input": "2022-10-28T18:30:42.759193Z",
     "iopub.status.busy": "2022-10-28T18:30:42.758965Z",
     "iopub.status.idle": "2022-10-28T18:30:45.999625Z",
     "shell.execute_reply": "2022-10-28T18:30:45.998989Z",
     "shell.execute_reply.started": "2022-10-28T18:30:42.759176Z"
    },
    "tags": []
   },
   "outputs": [],
   "source": [
    "def gc_content_seq(seq, ohe=False):\n",
    "    if ohe:\n",
    "        return np.sum(ohe_seq[1:3, :])/ohe_seq.shape[1]\n",
    "    else:\n",
    "        return (seq.count(\"G\") + seq.count(\"C\"))/len(seq)"
   ]
  },
  {
   "cell_type": "code",
   "execution_count": 10,
   "id": "efbebb67-bb2f-4b6a-a2b0-5e418480426d",
   "metadata": {
    "execution": {
     "iopub.execute_input": "2022-10-28T18:32:08.111378Z",
     "iopub.status.busy": "2022-10-28T18:32:08.111060Z",
     "iopub.status.idle": "2022-10-28T18:32:11.565539Z",
     "shell.execute_reply": "2022-10-28T18:32:11.564926Z",
     "shell.execute_reply.started": "2022-10-28T18:32:08.111360Z"
    },
    "tags": []
   },
   "outputs": [],
   "source": [
    "def gc_content_seqs(seqs, ohe=False):\n",
    "    if ohe:\n",
    "        return np.sum(ohe_seqs[:, 1:3, :], axis=1).sum(axis=1)/seq_len\n",
    "    else:\n",
    "        return np.array([gc_content_seq(seq) for seq in seqs])"
   ]
  },
  {
   "cell_type": "code",
   "execution_count": 11,
   "id": "70d0ba55-d9e7-4cd1-aaaa-154284c4016f",
   "metadata": {
    "execution": {
     "iopub.execute_input": "2022-11-03T00:16:21.543460Z",
     "iopub.status.busy": "2022-11-03T00:16:21.543236Z",
     "iopub.status.idle": "2022-11-03T00:16:23.260426Z",
     "shell.execute_reply": "2022-11-03T00:16:23.259917Z",
     "shell.execute_reply.started": "2022-11-03T00:16:21.543443Z"
    },
    "tags": []
   },
   "outputs": [
    {
     "data": {
      "text/plain": [
       "(0.47, 0.47)"
      ]
     },
     "execution_count": 11,
     "metadata": {},
     "output_type": "execute_result"
    }
   ],
   "source": [
    "eu.pp.gc_content_seq(seq), eu.pp.gc_content_seq(ohe_seq, ohe=True)"
   ]
  },
  {
   "cell_type": "code",
   "execution_count": 14,
   "id": "577d087a-4dec-4818-8100-04b74f057c43",
   "metadata": {
    "execution": {
     "iopub.execute_input": "2022-11-03T00:17:43.959967Z",
     "iopub.status.busy": "2022-11-03T00:17:43.959716Z",
     "iopub.status.idle": "2022-11-03T00:17:45.667447Z",
     "shell.execute_reply": "2022-11-03T00:17:45.666992Z",
     "shell.execute_reply.started": "2022-11-03T00:17:43.959948Z"
    },
    "tags": []
   },
   "outputs": [
    {
     "data": {
      "text/plain": [
       "(array([0.47, 0.54, 0.56, 0.49, 0.52]), array([0.47, 0.54, 0.56, 0.49, 0.52]))"
      ]
     },
     "execution_count": 14,
     "metadata": {},
     "output_type": "execute_result"
    }
   ],
   "source": [
    "eu.pp.gc_content_seqs(seqs)[:5], eu.pp.gc_content_seqs(ohe_seqs, ohe=True)[:5]"
   ]
  },
  {
   "cell_type": "code",
   "execution_count": 13,
   "id": "ec2250db-823a-45d8-82a1-b8111bb53fd8",
   "metadata": {
    "execution": {
     "iopub.execute_input": "2022-10-28T18:42:29.412503Z",
     "iopub.status.busy": "2022-10-28T18:42:29.412273Z",
     "iopub.status.idle": "2022-10-28T18:42:33.125682Z",
     "shell.execute_reply": "2022-10-28T18:42:33.125049Z",
     "shell.execute_reply.started": "2022-10-28T18:42:29.412486Z"
    }
   },
   "outputs": [],
   "source": [
    "def gc_content_seqs_sdata(\n",
    "    sdata,\n",
    "    copy=False\n",
    "):\n",
    "    sdata = sdata.copy() if copy else sdata\n",
    "    if sdata.ohe_seqs is not None:\n",
    "        sdata[\"gc_content\"] = gc_content_seqs(sdata.ohe_seqs, ohe=True)\n",
    "    elif sdata.seqs is not None:\n",
    "        sdata[\"gc_content\"] = gc_content_seqs(sdata.ohe_seqs, ohe=True)\n",
    "    else:\n",
    "        raise ValueError(\"No sequences to calculate gc_content on\")\n",
    "    return sdata if copy else None"
   ]
  },
  {
   "cell_type": "code",
   "execution_count": 16,
   "id": "b39f6e3b-8ec2-4553-9ae7-f02b2d2bb732",
   "metadata": {
    "execution": {
     "iopub.execute_input": "2022-11-03T00:18:21.181718Z",
     "iopub.status.busy": "2022-11-03T00:18:21.181026Z",
     "iopub.status.idle": "2022-11-03T00:18:23.234194Z",
     "shell.execute_reply": "2022-11-03T00:18:23.233144Z",
     "shell.execute_reply.started": "2022-11-03T00:18:21.181695Z"
    },
    "tags": []
   },
   "outputs": [
    {
     "name": "stdout",
     "output_type": "stream",
     "text": [
      "SeqData object modified:\n",
      "    seqs_annot:\n",
      "        + gc_content\n"
     ]
    }
   ],
   "source": [
    "eu.pp.gc_content_seqs_sdata(sdata)"
   ]
  },
  {
   "cell_type": "code",
   "execution_count": 16,
   "id": "c05b2d7b-e9cf-4484-8346-2c0e7449d76a",
   "metadata": {},
   "outputs": [],
   "source": [
    "def to_gkmSVM_fasta(\n",
    "    sdata, \n",
    "    target_key,\n",
    "    train_key=None,\n",
    "    task=\"binary_classification\",\n",
    "    file_name=\"seqs\"\n",
    "):\n",
    "    \"\"\"Utility function to generate a fasta file from an sdata object\n",
    "    \n",
    "    Useful for running gkm-SVM. If the task is binary classfiction, the seqs are\n",
    "    split into two files, one for positive label and one for negative label. If the task \n",
    "    is regression, the seqs are written to a single file and the target values are written\n",
    "    to a single file.\n",
    "\n",
    "    Parameters\n",
    "    ----------\n",
    "    sdata : SeqData\n",
    "        SeqData object containing sequences and target values\n",
    "    target_key : str\n",
    "        Key for the target values in the sdata object\n",
    "    train_key : str, optional\n",
    "        Key for the train/test split in the sdata object, by default None\n",
    "    task : str, optional\n",
    "        Task type, by default \"binary_classification\"\n",
    "    file_name : str, optional\n",
    "        Name of the fasta file, by default \"seqs\"\n",
    "    \n",
    "    Returns\n",
    "    -------\n",
    "    None\n",
    "    \"\"\"\n",
    "    if target_key is None:\n",
    "            raise ValueError(\"target_key must be specified\")\n",
    "    if train_key is not None:\n",
    "        train = sdata[sdata[train_key] == True]\n",
    "        test = sdata[sdata[train_key] == False]\n",
    "    if task == \"binary_classification\":\n",
    "        if train_key is not None:\n",
    "            train_pos = train[train[target_key] == 1]\n",
    "            train_neg = train[train[target_key] == 0]\n",
    "            test_pos = test[test[target_key] == 1]\n",
    "            test_neg = test[test[target_key] == 0]\n",
    "            seqs_to_save = [train_pos.seqs, train_neg.seqs, test_pos.seqs, test_neg.seqs]\n",
    "            ids_to_save = [train_pos.seqs_annot.index, train_neg.seqs_annot.index, test_pos.seqs_annot.index, test_neg.seqs_annot.index]\n",
    "            file_names = [f\"{file_name}_train_pos.fasta\", f\"{file_name}_train_neg.fasta\", f\"{file_name}_test_pos.fasta\", f\"{file_name}_test_neg.fasta\"]\n",
    "        else:\n",
    "            pos = sdata[sdata[target_key] == 1]\n",
    "            neg = sdata[sdata[target_key] == 0]\n",
    "            seqs_to_save = [pos.seqs, neg.seqs]\n",
    "            ids_to_save = [pos.seqs_annot.index, neg.seqs_annot.index]\n",
    "            file_names = [f\"{file_name}_pos.fasta\", f\"{file_name}_neg.fasta\"]\n",
    "        targets_to_save = None\n",
    "    elif task == \"regression\":\n",
    "        if train_key is not None:\n",
    "            seqs_to_save = [train.seqs, test.seqs]\n",
    "            ids_to_save = [train.seqs_annot.index, test.seqs_annot.index]\n",
    "            targets_to_save = [train[target_key].values, test[target_key].values]\n",
    "            file_names = [f\"{file_name}_train.fasta\", f\"{file_name}_test.fasta\"]\n",
    "        else:\n",
    "            seqs_to_save = [sdata.seqs]\n",
    "            ids_to_save = [sdata.seqs_annot.index]\n",
    "            file_names = [f\"{file_name}.fasta\"]\n",
    "            targets_to_save = [sdata[target_key].values]\n",
    "\n",
    "    for seqs, ids, file_name in zip(seqs_to_save, ids_to_save, file_names):\n",
    "        with open(file_name, \"w\") as f:\n",
    "            for j, seq in enumerate(seqs):\n",
    "                f.write(\">\" + ids[j] + \"\\n\" + seqs[j] + \"\\n\")\n",
    "    if targets_to_save is not None:\n",
    "        for targets, file_name in zip(targets_to_save, file_names):\n",
    "            with open(file_name.replace(\".fasta\", \".targets\"), \"w\") as f:\n",
    "                for target in targets:\n",
    "                    f.write(str(target) + \"\\n\")"
   ]
  },
  {
   "cell_type": "code",
   "execution_count": 24,
   "id": "71e07544",
   "metadata": {
    "execution": {
     "iopub.execute_input": "2022-11-03T00:24:40.959339Z",
     "iopub.status.busy": "2022-11-03T00:24:40.959038Z",
     "iopub.status.idle": "2022-11-03T00:24:44.088405Z",
     "shell.execute_reply": "2022-11-03T00:24:44.087810Z",
     "shell.execute_reply.started": "2022-11-03T00:24:40.959322Z"
    },
    "tags": []
   },
   "outputs": [],
   "source": [
    "eu.external.gkm_svm.to_fasta(sdata, \"label_0\", train_key=\"train_val\", task=\"binary_classification\", file_name=\"seqs\")"
   ]
  },
  {
   "cell_type": "markdown",
   "id": "583683a5-672c-4af6-b370-b12eb3eeec0c",
   "metadata": {},
   "source": [
    "# Fit on these files and add training predictions to SeqData\n",
    "Will need to make sure IDs line up in all cases"
   ]
  },
  {
   "cell_type": "code",
   "execution_count": 54,
   "id": "909dcef0",
   "metadata": {},
   "outputs": [],
   "source": [
    "import threading\n",
    "param_dict = {\n",
    "    \"binary_classification\": 0, \n",
    "    \"regression\": 3\n",
    "}  # gkm-SVM parameter for task type\n",
    "\n",
    "def fit(\n",
    "    sdata,\n",
    "    target_key,\n",
    "    train_key=None,\n",
    "    task=\"binary_classification\",\n",
    "    kernel_type=\"gkm\",\n",
    "    word_length=11,\n",
    "    informative_columns=7,\n",
    "    mismatches=3,\n",
    "    gamma=1.0,\n",
    "    decay_M=50,\n",
    "    half_life=50,\n",
    "    reverse_complement=False,\n",
    "    regularization_strength=1.0,\n",
    "    epsilon=0.001,\n",
    "    positive_weight=1.0,\n",
    "    cached_mem_size=8000,\n",
    "    threads=None,\n",
    "    verbose=2,\n",
    "    data_dir=None,\n",
    "    log_dir=None,\n",
    "    name=\"seqs\",\n",
    "    prefix=\"\",\n",
    "    suffix=\"\"\n",
    "):\n",
    "    data_dir = data_dir if data_dir is not None else eu.settings.dataset_dir\n",
    "    log_dir = log_dir if log_dir is not None else eu.settings.logging_dir\n",
    "    os.makedirs(log_dir) if not os.path.exists(log_dir) else None\n",
    "    threads = threads if threads is not None else threading.active_count() - 1\n",
    "    if task == \"binary_classification\":\n",
    "        if train_key is not None:\n",
    "            file1_name = os.path.join(data_dir, f\"{name}_train_pos.fasta\")\n",
    "            file2_name = os.path.join(data_dir, f\"{name}_train_neg.fasta\")  \n",
    "        else:\n",
    "            file1_name = os.path.join(data_dir, f\"{name}_pos.fasta\")\n",
    "            file2_name = os.path.join(data_dir, f\"{name}_neg.fasta\")\n",
    "    elif task == \"regression\":\n",
    "        if train_key is not None:\n",
    "            file1_name = os.path.join(data_dir, f\"{name}_train.fasta\")\n",
    "            file2_name = os.path.join(data_dir, f\"{name}_train.targets\") \n",
    "\n",
    "        else:\n",
    "            file1_name = os.path.join(data_dir, f\"{name}.fasta\")\n",
    "            file2_name = os.path.join(data_dir, f\"{name}.targets\")\n",
    "    if os.path.exists(file1_name) and os.path.exists(file2_name):\n",
    "        print(\"Train files already exist, skipping generation\")\n",
    "    else:\n",
    "        to_gkmSVM_fasta(sdata, target_key, train_key=train_key, task=task, name=name)   \n",
    "    print(\"Fitting model\")\n",
    "    log_file = open(os.path.join(log_dir, f\"{prefix}{name}_fit{suffix}.log\"), \"w\")\n",
    "    process = subprocess.Popen(\n",
    "        [\n",
    "            'gkmtrain', \n",
    "            file1_name, # positive training file\n",
    "            file2_name, # negative training file\n",
    "            os.path.join(log_dir, prefix+name+suffix), # output file name\n",
    "            '-y', str(param_dict[task]), # task type\n",
    "            '-t', kernel_type, # kernel type\n",
    "            '-l', str(word_length), # word length\n",
    "            '-k', str(informative_columns), # number of informative columns\n",
    "            '-d', str(mismatches), # number of mismatches\n",
    "            '-g', str(gamma), # gamma\n",
    "            '-M', str(decay_M), # decay M\n",
    "            '-H', str(half_life), # half life\n",
    "            #'-R', str(reverse_complement), # reverse complement\n",
    "            '-c', str(regularization_strength), # regularization strength\n",
    "            '-e', str(epsilon), # epsilon\n",
    "            '-w', str(positive_weight), # positive weight\n",
    "            #'-m', str(cached_mem_size), # cached memory size\n",
    "            '-T', str(threads), # number of threads\n",
    "            '-v', str(verbose), # verbose\n",
    "        ],\n",
    "                    stdout=log_file,\n",
    "                    stderr=subprocess.PIPE\n",
    "    )\n",
    "    stdout, stderr = process.communicate()\n",
    "    if stderr.decode(\"utf-8\") != \"\":\n",
    "        err_file = open(os.path.join(log_dir, f\"{prefix}{name}_fit{suffix}.err\"), \"w\")\n",
    "        err_file.write(stderr.decode(\"utf-8\"))\n",
    "        raise Exception(\"Error in gkmtrain, check error file: \" + os.path.join(log_dir, f\"{prefix}{name}_fit{suffix}.err\"))\n",
    "    print(\"Model fit, log file saved to\", os.path.join(log_dir, f\"{prefix}{name}_fit{suffix}.log\"))\n",
    "    log_file.close()\n",
    "    return"
   ]
  },
  {
   "cell_type": "code",
   "execution_count": 33,
   "id": "40055b15-4fbe-41cd-8479-10c8e5d3ee2e",
   "metadata": {
    "execution": {
     "iopub.execute_input": "2022-11-03T00:30:37.007200Z",
     "iopub.status.busy": "2022-11-03T00:30:37.006843Z",
     "iopub.status.idle": "2022-11-03T00:30:39.053293Z",
     "shell.execute_reply": "2022-11-03T00:30:39.052617Z",
     "shell.execute_reply.started": "2022-11-03T00:30:37.007181Z"
    },
    "tags": []
   },
   "outputs": [],
   "source": [
    "import threading\n",
    "import math"
   ]
  },
  {
   "cell_type": "code",
   "execution_count": 35,
   "id": "7920b28e-8e8c-46cc-b07d-dc723df6b2bd",
   "metadata": {
    "execution": {
     "iopub.execute_input": "2022-11-03T00:31:11.025658Z",
     "iopub.status.busy": "2022-11-03T00:31:11.025331Z",
     "iopub.status.idle": "2022-11-03T00:31:13.204219Z",
     "shell.execute_reply": "2022-11-03T00:31:13.203648Z",
     "shell.execute_reply.started": "2022-11-03T00:31:11.025638Z"
    }
   },
   "outputs": [
    {
     "data": {
      "text/plain": [
       "9"
      ]
     },
     "execution_count": 35,
     "metadata": {},
     "output_type": "execute_result"
    }
   ],
   "source": []
  },
  {
   "cell_type": "code",
   "execution_count": 55,
   "id": "51826513-658e-41de-9f57-3ac8f0cb89af",
   "metadata": {
    "execution": {
     "iopub.execute_input": "2022-11-03T00:34:09.884654Z",
     "iopub.status.busy": "2022-11-03T00:34:09.884499Z",
     "iopub.status.idle": "2022-11-03T00:34:11.496652Z",
     "shell.execute_reply": "2022-11-03T00:34:11.496042Z",
     "shell.execute_reply.started": "2022-11-03T00:34:09.884637Z"
    },
    "tags": []
   },
   "outputs": [],
   "source": [
    "num = threading.active_count()\n",
    "num = 3"
   ]
  },
  {
   "cell_type": "code",
   "execution_count": 56,
   "id": "358b8ebd-d3f2-4ef4-b1bd-ef365e1fd2eb",
   "metadata": {
    "execution": {
     "iopub.execute_input": "2022-11-03T00:34:12.187823Z",
     "iopub.status.busy": "2022-11-03T00:34:12.187519Z",
     "iopub.status.idle": "2022-11-03T00:34:13.834443Z",
     "shell.execute_reply": "2022-11-03T00:34:13.833915Z",
     "shell.execute_reply.started": "2022-11-03T00:34:12.187789Z"
    },
    "tags": []
   },
   "outputs": [
    {
     "data": {
      "text/plain": [
       "1"
      ]
     },
     "execution_count": 56,
     "metadata": {},
     "output_type": "execute_result"
    }
   ],
   "source": [
    "4**(math.floor(math.log(num, 4)))"
   ]
  },
  {
   "cell_type": "code",
   "execution_count": null,
   "id": "93f0bbbc-ce9a-4f81-a910-c1f791e68df9",
   "metadata": {},
   "outputs": [],
   "source": [
    "(4 * int((threading.active_count() / 4)))"
   ]
  },
  {
   "cell_type": "code",
   "execution_count": 28,
   "id": "22079919",
   "metadata": {
    "execution": {
     "iopub.execute_input": "2022-11-03T00:28:25.269101Z",
     "iopub.status.busy": "2022-11-03T00:28:25.268842Z",
     "iopub.status.idle": "2022-11-03T00:28:27.136354Z",
     "shell.execute_reply": "2022-11-03T00:28:27.135829Z",
     "shell.execute_reply.started": "2022-11-03T00:28:25.269082Z"
    },
    "tags": []
   },
   "outputs": [
    {
     "data": {
      "text/plain": [
       "8"
      ]
     },
     "execution_count": 28,
     "metadata": {},
     "output_type": "execute_result"
    }
   ],
   "source": [
    "(4 * int((threading.active_count() / 4)))"
   ]
  },
  {
   "cell_type": "code",
   "execution_count": 32,
   "id": "7c90f227-7139-4a6d-a9bb-5d17facb2752",
   "metadata": {
    "execution": {
     "iopub.execute_input": "2022-11-03T00:30:10.050493Z",
     "iopub.status.busy": "2022-11-03T00:30:10.050212Z",
     "iopub.status.idle": "2022-11-03T00:30:12.643060Z",
     "shell.execute_reply": "2022-11-03T00:30:12.642599Z",
     "shell.execute_reply.started": "2022-11-03T00:30:10.050475Z"
    },
    "tags": []
   },
   "outputs": [
    {
     "data": {
      "text/plain": [
       "3"
      ]
     },
     "execution_count": 32,
     "metadata": {},
     "output_type": "execute_result"
    }
   ],
   "source": [
    "int(12**(1/2))"
   ]
  },
  {
   "cell_type": "code",
   "execution_count": 64,
   "id": "af3a0157-c6d2-47c5-a142-7130d81b9ce0",
   "metadata": {
    "execution": {
     "iopub.execute_input": "2022-11-03T00:37:52.384818Z",
     "iopub.status.busy": "2022-11-03T00:37:52.384585Z",
     "iopub.status.idle": "2022-11-03T00:38:04.120501Z",
     "shell.execute_reply": "2022-11-03T00:38:04.119811Z",
     "shell.execute_reply.started": "2022-11-03T00:37:52.384799Z"
    },
    "tags": []
   },
   "outputs": [
    {
     "name": "stdout",
     "output_type": "stream",
     "text": [
      "Train files already exist, skipping generation\n",
      "Fitting model\n",
      "Model fit, log file saved to /cellar/users/aklie/projects/EUGENe/tests/notebooks/implement/gkm_logs/trainset_seqs_fit_binary_classification.log\n"
     ]
    }
   ],
   "source": [
    "eu.external.gkm_svm.fit(\n",
    "    sdata, \n",
    "    target_key=\"label_0\", \n",
    "    task=\"binary_classification\", \n",
    "    train_key=\"train_val\", \n",
    "    name=\"seqs\", \n",
    "    prefix=\"trainset_\", \n",
    "    suffix=\"_binary_classification\"\n",
    ")"
   ]
  },
  {
   "cell_type": "code",
   "execution_count": 49,
   "id": "924a029b",
   "metadata": {},
   "outputs": [
    {
     "name": "stdout",
     "output_type": "stream",
     "text": [
      "Train files already exist, skipping generation\n",
      "Fitting model\n",
      "Model fit, log file saved to /mnt/beegfs/users/aklie/projects/EUGENe/tests/notebooks/implement/gkm_logs/trainset_seqs_fit_binary_classification.log\n"
     ]
    }
   ],
   "source": [
    "fit(\n",
    "    sdata, \n",
    "    target_key=\"label_0\", \n",
    "    task=\"binary_classification\", \n",
    "    train_key=\"train_val\", \n",
    "    file_name=\"seqs\", \n",
    "    prefix=\"trainset_\", \n",
    "    suffix=\"_binary_classification\"\n",
    ")"
   ]
  },
  {
   "cell_type": "code",
   "execution_count": 52,
   "id": "44ddd9df",
   "metadata": {},
   "outputs": [
    {
     "name": "stdout",
     "output_type": "stream",
     "text": [
      "Train files already exist, skipping generation\n",
      "Fitting model\n",
      "Model fit, log file saved to /mnt/beegfs/users/aklie/projects/EUGENe/tests/notebooks/implement/gkm_logs/all_seqs_fit_binary_classification.log\n"
     ]
    }
   ],
   "source": [
    "fit(\n",
    "    sdata, \n",
    "    \"label_0\", \n",
    "    task=\"binary_classification\", \n",
    "    file_name=\"seqs\",\n",
    "    prefix=\"all_\",    \n",
    "    suffix=\"_binary_classification\"\n",
    ")"
   ]
  },
  {
   "cell_type": "code",
   "execution_count": 55,
   "id": "cbb901cb",
   "metadata": {},
   "outputs": [
    {
     "name": "stdout",
     "output_type": "stream",
     "text": [
      "Train files already exist, skipping generation\n",
      "Fitting model\n",
      "Model fit, log file saved to /mnt/beegfs/users/aklie/projects/EUGENe/tests/notebooks/implement/gkm_logs/trainset_seqs_fit_regression.log\n"
     ]
    }
   ],
   "source": [
    "fit(\n",
    "    sdata, \n",
    "    \"label_0\", \n",
    "    task=\"regression\", \n",
    "    train_key=\"train_val\", \n",
    "    file_name=\"seqs\",\n",
    "    prefix=\"trainset_\",\n",
    "    suffix=\"_regression\"\n",
    ")"
   ]
  },
  {
   "cell_type": "code",
   "execution_count": 56,
   "id": "5c83ed9f",
   "metadata": {},
   "outputs": [
    {
     "name": "stdout",
     "output_type": "stream",
     "text": [
      "Train files already exist, skipping generation\n",
      "Fitting model\n",
      "Model fit, log file saved to /mnt/beegfs/users/aklie/projects/EUGENe/tests/notebooks/implement/gkm_logs/all_seqs_fit_regression.log\n"
     ]
    }
   ],
   "source": [
    "fit(\n",
    "    sdata, \n",
    "    \"label_0\", \n",
    "    task=\"regression\", \n",
    "    file_name=\"seqs\",\n",
    "    prefix=\"all_\",\n",
    "    suffix=\"_regression\"\n",
    ")"
   ]
  },
  {
   "cell_type": "markdown",
   "id": "d2fca124-8534-4f65-9a6b-c6e86e011013",
   "metadata": {},
   "source": [
    "# Predict function for new sequences"
   ]
  },
  {
   "cell_type": "code",
   "execution_count": 94,
   "id": "8722010a",
   "metadata": {},
   "outputs": [],
   "source": [
    "def predict(\n",
    "    model,\n",
    "    sdata=None,\n",
    "    file_names=None,\n",
    "    data_dir=None,\n",
    "    log_dir=None,\n",
    "    out_dir=None,\n",
    "    file_label=None,\n",
    "    threads=None,\n",
    "    prefix=\"\",\n",
    "    suffix=\"\",\n",
    "    verbose=2\n",
    "):  \n",
    "    data_dir = data_dir if data_dir is not None else eu.settings.dataset_dir\n",
    "    log_dir = log_dir if log_dir is not None else eu.settings.logging_dir\n",
    "    out_dir = out_dir if out_dir is not None else eu.settings.output_dir\n",
    "    os.makedirs(out_dir) if not os.path.exists(out_dir) else None\n",
    "    file_label = file_label if file_label is not None else \"sdata\"\n",
    "    threads = threads if threads is not None else threading.active_count() - 1\n",
    "    \n",
    "    # Check if model exists\n",
    "    print(os.path.join(log_dir, prefix + model + suffix+\".model.txt\"))\n",
    "    if not os.path.exists(model):\n",
    "        if os.path.exists(os.path.join(log_dir, model + \".model.txt\")):\n",
    "            model = os.path.join(log_dir, model + \"model.txt\")\n",
    "        elif os.path.exists(os.path.join(log_dir, prefix + model + suffix+\".model.txt\")):\n",
    "            model = os.path.join(log_dir, prefix+model+suffix + \".model.txt\")\n",
    "        else:\n",
    "            raise Exception(\"Model file does not exist\")\n",
    "\n",
    "    if sdata is not None:\n",
    "        seqs = sdata.seqs\n",
    "        ids = sdata.seqs_annot.index\n",
    "        with open(prefix+file_label+suffix+\".fasta\", \"w\") as f:\n",
    "            for j, seq in enumerate(seqs):\n",
    "                f.write(\">\" + ids[j] + \"\\n\" + seqs[j] + \"\\n\")\n",
    "        file_names = [prefix+file_label+suffix+\".fasta\"]\n",
    "    else:\n",
    "        assert file_names is not None, \"Either sdata or file_names must be provided\"\n",
    "        if isinstance(file_names, str):\n",
    "            file_names = [file_names]\n",
    "\n",
    "    for file_name in file_names:\n",
    "        if os.path.exists(os.path.join(data_dir, file_name)):\n",
    "                file_name = os.path.join(data_dir, file_name)\n",
    "        if not os.path.exists(file_name):\n",
    "            raise Exception(\"Data file does not exist: \" + file_name)\n",
    "        log_file = open(os.path.join(out_dir, f\"{prefix}{file_label}_predict{suffix}.log\"), \"w\")\n",
    "        process = subprocess.Popen(\n",
    "            [\n",
    "                'gkmpredict', \n",
    "                file_name, # seqs to test\n",
    "                model, # model file\n",
    "                os.path.join(out_dir, prefix+file_label+suffix+\"_predictions.txt\"), # output file name\n",
    "                '-T', str(threads), # number of threads\n",
    "                '-v', str(verbose), # verbose\n",
    "            ],\n",
    "                        stdout=log_file,\n",
    "                        stderr=subprocess.PIPE\n",
    "        )\n",
    "        stdout, stderr = process.communicate()\n",
    "        if stderr.decode(\"utf-8\") != \"\":\n",
    "            err_file = open(os.path.join(out_dir, f\"{prefix}{file_label}_predict{suffix}.err\"), \"w\")\n",
    "            err_file.write(stderr.decode(\"utf-8\"))\n",
    "            raise Exception(\"Error in gkmpredict, check error file: \" + os.path.join(log_dir, f\"{prefix}{file_name}predict{suffix}.err\"))\n",
    "        print(\"Predictions saved to\", os.path.join(out_dir, prefix+file_label+suffix+\"_predictions.txt\"))\n",
    "        log_file.close()\n",
    "\n",
    "    if sdata is not None:\n",
    "        f = open(os.path.join(out_dir, prefix+file_label+suffix+\"_predictions.txt\"), \"r\")\n",
    "        d = [float(x.strip().split('\\t')[1]) for x in f]\n",
    "        f.close()\n",
    "        sdata.seqs_annot[f\"{file_label}_prediction\"] = d\n",
    "    return\n",
    "        "
   ]
  },
  {
   "cell_type": "code",
   "execution_count": 65,
   "id": "259dab93",
   "metadata": {
    "execution": {
     "iopub.execute_input": "2022-11-03T00:38:43.359219Z",
     "iopub.status.busy": "2022-11-03T00:38:43.358966Z",
     "iopub.status.idle": "2022-11-03T00:38:45.876173Z",
     "shell.execute_reply": "2022-11-03T00:38:45.875687Z",
     "shell.execute_reply.started": "2022-11-03T00:38:43.359201Z"
    }
   },
   "outputs": [],
   "source": [
    "eu.settings.output_dir = \"/cellar/users/aklie/projects/EUGENe/tests/notebooks/implement/gkm_output\""
   ]
  },
  {
   "cell_type": "code",
   "execution_count": null,
   "id": "b4817481-566f-4b7e-be70-531677c01c28",
   "metadata": {},
   "outputs": [],
   "source": [
    "predict("
   ]
  },
  {
   "cell_type": "code",
   "execution_count": 66,
   "id": "fd1dbd0c",
   "metadata": {
    "execution": {
     "iopub.execute_input": "2022-11-03T00:39:11.081019Z",
     "iopub.status.busy": "2022-11-03T00:39:11.080654Z",
     "iopub.status.idle": "2022-11-03T00:39:35.660030Z",
     "shell.execute_reply": "2022-11-03T00:39:35.659449Z",
     "shell.execute_reply.started": "2022-11-03T00:39:11.081000Z"
    }
   },
   "outputs": [
    {
     "name": "stdout",
     "output_type": "stream",
     "text": [
      "/cellar/users/aklie/projects/EUGENe/tests/notebooks/implement/gkm_logs/trainset_seqs_binary_classification.model.txt\n",
      "Predictions saved to /cellar/users/aklie/projects/EUGENe/tests/notebooks/implement/gkm_output/trainset_seqs_binary_classification_predictions.txt\n"
     ]
    }
   ],
   "source": [
    "eu.external.gkm_svm.predict(\n",
    "    model=\"seqs\",\n",
    "    file_names=\"seqs.fasta\",\n",
    "    prefix=\"trainset_\",\n",
    "    suffix=\"_binary_classification\",\n",
    "    file_label=\"seqs\"\n",
    ")"
   ]
  },
  {
   "cell_type": "code",
   "execution_count": 95,
   "id": "934ea05c",
   "metadata": {},
   "outputs": [
    {
     "name": "stdout",
     "output_type": "stream",
     "text": [
      "/mnt/beegfs/users/aklie/projects/EUGENe/tests/notebooks/implement/gkm_logs/trainset_seqs_binary_classification.model.txt\n",
      "Predictions saved to /mnt/beegfs/users/aklie/projects/EUGENe/tests/notebooks/implement/gkm_output/trainset_sdata_binary_classification_predictions.txt\n"
     ]
    }
   ],
   "source": [
    "predict(\n",
    "    model=\"seqs\",\n",
    "    sdata=sdata,\n",
    "    prefix=\"trainset_\",\n",
    "    suffix=\"_binary_classification\",\n",
    "    file_label=\"sdata\"\n",
    ")"
   ]
  },
  {
   "cell_type": "code",
   "execution_count": 96,
   "id": "8769e6e6",
   "metadata": {},
   "outputs": [
    {
     "data": {
      "text/html": [
       "<div>\n",
       "<style scoped>\n",
       "    .dataframe tbody tr th:only-of-type {\n",
       "        vertical-align: middle;\n",
       "    }\n",
       "\n",
       "    .dataframe tbody tr th {\n",
       "        vertical-align: top;\n",
       "    }\n",
       "\n",
       "    .dataframe thead th {\n",
       "        text-align: right;\n",
       "    }\n",
       "</style>\n",
       "<table border=\"1\" class=\"dataframe\">\n",
       "  <thead>\n",
       "    <tr style=\"text-align: right;\">\n",
       "      <th></th>\n",
       "      <th>label_0</th>\n",
       "      <th>label_1</th>\n",
       "      <th>label_2</th>\n",
       "      <th>label_3</th>\n",
       "      <th>label_4</th>\n",
       "      <th>label_5</th>\n",
       "      <th>label_6</th>\n",
       "      <th>label_7</th>\n",
       "      <th>label_8</th>\n",
       "      <th>label_9</th>\n",
       "      <th>...</th>\n",
       "      <th>activity_3</th>\n",
       "      <th>activity_4</th>\n",
       "      <th>activity_5</th>\n",
       "      <th>activity_6</th>\n",
       "      <th>activity_7</th>\n",
       "      <th>activity_8</th>\n",
       "      <th>activity_9</th>\n",
       "      <th>train_val</th>\n",
       "      <th>gc_content</th>\n",
       "      <th>sdata_prediction</th>\n",
       "    </tr>\n",
       "  </thead>\n",
       "  <tbody>\n",
       "    <tr>\n",
       "      <th>seq000</th>\n",
       "      <td>0</td>\n",
       "      <td>0</td>\n",
       "      <td>1</td>\n",
       "      <td>1</td>\n",
       "      <td>0</td>\n",
       "      <td>1</td>\n",
       "      <td>0</td>\n",
       "      <td>0</td>\n",
       "      <td>0</td>\n",
       "      <td>1</td>\n",
       "      <td>...</td>\n",
       "      <td>0.731073</td>\n",
       "      <td>0.001675</td>\n",
       "      <td>0.016131</td>\n",
       "      <td>0.042079</td>\n",
       "      <td>0.285377</td>\n",
       "      <td>0.800250</td>\n",
       "      <td>0.436581</td>\n",
       "      <td>True</td>\n",
       "      <td>0.47</td>\n",
       "      <td>-0.999734</td>\n",
       "    </tr>\n",
       "    <tr>\n",
       "      <th>seq001</th>\n",
       "      <td>1</td>\n",
       "      <td>0</td>\n",
       "      <td>1</td>\n",
       "      <td>0</td>\n",
       "      <td>0</td>\n",
       "      <td>1</td>\n",
       "      <td>1</td>\n",
       "      <td>1</td>\n",
       "      <td>1</td>\n",
       "      <td>1</td>\n",
       "      <td>...</td>\n",
       "      <td>0.847881</td>\n",
       "      <td>0.118016</td>\n",
       "      <td>0.892414</td>\n",
       "      <td>0.107932</td>\n",
       "      <td>0.106812</td>\n",
       "      <td>0.881007</td>\n",
       "      <td>0.960471</td>\n",
       "      <td>True</td>\n",
       "      <td>0.54</td>\n",
       "      <td>1.000070</td>\n",
       "    </tr>\n",
       "    <tr>\n",
       "      <th>seq002</th>\n",
       "      <td>1</td>\n",
       "      <td>0</td>\n",
       "      <td>0</td>\n",
       "      <td>0</td>\n",
       "      <td>0</td>\n",
       "      <td>0</td>\n",
       "      <td>1</td>\n",
       "      <td>1</td>\n",
       "      <td>1</td>\n",
       "      <td>0</td>\n",
       "      <td>...</td>\n",
       "      <td>0.255944</td>\n",
       "      <td>0.187834</td>\n",
       "      <td>0.772877</td>\n",
       "      <td>0.425402</td>\n",
       "      <td>0.725678</td>\n",
       "      <td>0.311773</td>\n",
       "      <td>0.665010</td>\n",
       "      <td>True</td>\n",
       "      <td>0.56</td>\n",
       "      <td>1.000250</td>\n",
       "    </tr>\n",
       "    <tr>\n",
       "      <th>seq003</th>\n",
       "      <td>1</td>\n",
       "      <td>0</td>\n",
       "      <td>1</td>\n",
       "      <td>0</td>\n",
       "      <td>0</td>\n",
       "      <td>1</td>\n",
       "      <td>1</td>\n",
       "      <td>0</td>\n",
       "      <td>0</td>\n",
       "      <td>0</td>\n",
       "      <td>...</td>\n",
       "      <td>0.876968</td>\n",
       "      <td>0.748678</td>\n",
       "      <td>0.216482</td>\n",
       "      <td>0.248412</td>\n",
       "      <td>0.126978</td>\n",
       "      <td>0.239007</td>\n",
       "      <td>0.833106</td>\n",
       "      <td>False</td>\n",
       "      <td>0.49</td>\n",
       "      <td>-0.107020</td>\n",
       "    </tr>\n",
       "    <tr>\n",
       "      <th>seq004</th>\n",
       "      <td>0</td>\n",
       "      <td>1</td>\n",
       "      <td>0</td>\n",
       "      <td>0</td>\n",
       "      <td>1</td>\n",
       "      <td>1</td>\n",
       "      <td>0</td>\n",
       "      <td>1</td>\n",
       "      <td>1</td>\n",
       "      <td>0</td>\n",
       "      <td>...</td>\n",
       "      <td>0.665125</td>\n",
       "      <td>0.186673</td>\n",
       "      <td>0.826641</td>\n",
       "      <td>0.789425</td>\n",
       "      <td>0.158561</td>\n",
       "      <td>0.645586</td>\n",
       "      <td>0.635246</td>\n",
       "      <td>False</td>\n",
       "      <td>0.52</td>\n",
       "      <td>0.233125</td>\n",
       "    </tr>\n",
       "  </tbody>\n",
       "</table>\n",
       "<p>5 rows × 23 columns</p>\n",
       "</div>"
      ],
      "text/plain": [
       "        label_0  label_1  label_2  label_3  label_4  label_5  label_6  \\\n",
       "seq000        0        0        1        1        0        1        0   \n",
       "seq001        1        0        1        0        0        1        1   \n",
       "seq002        1        0        0        0        0        0        1   \n",
       "seq003        1        0        1        0        0        1        1   \n",
       "seq004        0        1        0        0        1        1        0   \n",
       "\n",
       "        label_7  label_8  label_9  ...  activity_3  activity_4  activity_5  \\\n",
       "seq000        0        0        1  ...    0.731073    0.001675    0.016131   \n",
       "seq001        1        1        1  ...    0.847881    0.118016    0.892414   \n",
       "seq002        1        1        0  ...    0.255944    0.187834    0.772877   \n",
       "seq003        0        0        0  ...    0.876968    0.748678    0.216482   \n",
       "seq004        1        1        0  ...    0.665125    0.186673    0.826641   \n",
       "\n",
       "        activity_6  activity_7  activity_8  activity_9  train_val  gc_content  \\\n",
       "seq000    0.042079    0.285377    0.800250    0.436581       True        0.47   \n",
       "seq001    0.107932    0.106812    0.881007    0.960471       True        0.54   \n",
       "seq002    0.425402    0.725678    0.311773    0.665010       True        0.56   \n",
       "seq003    0.248412    0.126978    0.239007    0.833106      False        0.49   \n",
       "seq004    0.789425    0.158561    0.645586    0.635246      False        0.52   \n",
       "\n",
       "        sdata_prediction  \n",
       "seq000         -0.999734  \n",
       "seq001          1.000070  \n",
       "seq002          1.000250  \n",
       "seq003         -0.107020  \n",
       "seq004          0.233125  \n",
       "\n",
       "[5 rows x 23 columns]"
      ]
     },
     "execution_count": 96,
     "metadata": {},
     "output_type": "execute_result"
    }
   ],
   "source": [
    "sdata.seqs_annot.head()"
   ]
  },
  {
   "cell_type": "markdown",
   "id": "3bfabfb0-0a9f-4cda-9f3d-ca71345db3aa",
   "metadata": {},
   "source": [
    "# Explain function"
   ]
  },
  {
   "cell_type": "code",
   "execution_count": 115,
   "id": "d9e28dd4-27e3-4857-a903-cd96f099f591",
   "metadata": {},
   "outputs": [],
   "source": [
    "mode_dict = {\n",
    "    \"importances\": 0\n",
    "}\n",
    "def explain(\n",
    "    model,\n",
    "    sdata=None,\n",
    "    explanation_mode=\"importances\",\n",
    "    file_names=None,\n",
    "    data_dir=None,\n",
    "    log_dir=None,\n",
    "    out_dir=None,\n",
    "    file_label=None,\n",
    "    threads=None,\n",
    "    prefix=\"\",\n",
    "    suffix=\"\",\n",
    "    verbose=2\n",
    "):  \n",
    "    data_dir = data_dir if data_dir is not None else eu.settings.dataset_dir\n",
    "    log_dir = log_dir if log_dir is not None else eu.settings.logging_dir\n",
    "    out_dir = out_dir if out_dir is not None else eu.settings.output_dir\n",
    "    os.makedirs(out_dir) if not os.path.exists(out_dir) else None\n",
    "    file_label = file_label if file_label is not None else \"sdata\"\n",
    "    threads = threads if threads is not None else threading.active_count() - 1\n",
    "    \n",
    "    # Check if model exists\n",
    "    print(os.path.join(log_dir, prefix + model + suffix+\".model.txt\"))\n",
    "    if not os.path.exists(model):\n",
    "        if os.path.exists(os.path.join(log_dir, model + \".model.txt\")):\n",
    "            model = os.path.join(log_dir, model + \"model.txt\")\n",
    "        elif os.path.exists(os.path.join(log_dir, prefix + model + suffix+\".model.txt\")):\n",
    "            model = os.path.join(log_dir, prefix+model+suffix + \".model.txt\")\n",
    "        else:\n",
    "            raise Exception(\"Model file does not exist\")\n",
    "\n",
    "    if sdata is not None:\n",
    "        seqs = sdata.seqs\n",
    "        ids = sdata.seqs_annot.index\n",
    "        with open(prefix+file_label+suffix+\".fasta\", \"w\") as f:\n",
    "            for j, seq in enumerate(seqs):\n",
    "                f.write(\">\" + ids[j] + \"\\n\" + seqs[j] + \"\\n\")\n",
    "        file_names = [prefix+file_label+suffix+\".fasta\"]\n",
    "    else:\n",
    "        assert file_names is not None, \"Either sdata or file_names must be provided\"\n",
    "        if isinstance(file_names, str):\n",
    "            file_names = [file_names]\n",
    "\n",
    "    for file_name in file_names:\n",
    "        if os.path.exists(os.path.join(data_dir, file_name)):\n",
    "                file_name = os.path.join(data_dir, file_name)\n",
    "        if not os.path.exists(file_name):\n",
    "            raise Exception(\"Data file does not exist: \" + file_name)\n",
    "        log_file = open(os.path.join(out_dir, f\"{prefix}{file_label}_explain{suffix}.log\"), \"w\")\n",
    "        print(\"running gkmexplain on\", file_name, \"with model\", model, \"and mode\", mode_dict[explanation_mode])\n",
    "        print(\" \".join([\n",
    "                'gkmexplain', \n",
    "                file_name, # seqs to test\n",
    "                model, # model file\n",
    "                os.path.join(out_dir, prefix+file_label+suffix+\"_explanations.txt\"), # output file name\n",
    "                '-m', str(mode_dict[explanation_mode]), # explanation mode\n",
    "                '-T', str(threads), # number of threads\n",
    "                '-v', str(verbose), # verbose\n",
    "            ]))\n",
    "        process = subprocess.Popen(\n",
    "            [\n",
    "                'gkmexplain', \n",
    "                file_name, # seqs to test\n",
    "                model, # model file\n",
    "                os.path.join(out_dir, prefix+file_label+suffix+\"_explanations.txt\"), # output file name\n",
    "                '-m', str(mode_dict[explanation_mode]), # explanation mode\n",
    "                '-v', str(verbose), # verbose\n",
    "            ],\n",
    "                        stdout=log_file,\n",
    "                        stderr=subprocess.PIPE\n",
    "        )\n",
    "        stdout, stderr = process.communicate()\n",
    "        if stderr.decode(\"utf-8\") != \"\":\n",
    "            err_file = open(os.path.join(out_dir, f\"{prefix}{file_label}_explain{suffix}.err\"), \"w\")\n",
    "            err_file.write(stderr.decode(\"utf-8\"))\n",
    "            raise Exception(\"Error in gkmexplain, check error file: \" + os.path.join(log_dir, f\"{prefix}{file_name}explain{suffix}.err\"))\n",
    "        print(\"Predictions saved to\", os.path.join(out_dir, prefix+file_label+suffix+\"_explanations.txt\"))\n",
    "        log_file.close()\n",
    "\n",
    "    if sdata is not None:\n",
    "        file = os.path.join(out_dir, prefix+file_label+suffix+\"_explanations.txt\")\n",
    "        impscores = np.array([np.array([[float(z) for z in y.split(\",\")] for y in x.rstrip().split(\"\\t\")[2].split(\";\")]).transpose() for x in open(file, \"r\")]) # list of np arrays of shape (L, 4) for each sequence\n",
    "        sdata.uns[f\"{file_label}_imps\"] = impscores\n",
    "    return "
   ]
  },
  {
   "cell_type": "code",
   "execution_count": 68,
   "id": "ffd89602",
   "metadata": {
    "execution": {
     "iopub.execute_input": "2022-11-03T00:42:43.968992Z",
     "iopub.status.busy": "2022-11-03T00:42:43.968810Z",
     "iopub.status.idle": "2022-11-03T00:43:03.768292Z",
     "shell.execute_reply": "2022-11-03T00:43:03.767603Z",
     "shell.execute_reply.started": "2022-11-03T00:42:43.968974Z"
    },
    "tags": []
   },
   "outputs": [
    {
     "name": "stdout",
     "output_type": "stream",
     "text": [
      "/cellar/users/aklie/projects/EUGENe/tests/notebooks/implement/gkm_logs/trainset_seqs_binary_classification.model.txt\n",
      "running gkmexplain on trainset_sdata_binary_classification.fasta with model /cellar/users/aklie/projects/EUGENe/tests/notebooks/implement/gkm_logs/trainset_seqs_binary_classification.model.txt and mode 0\n",
      "gkmexplain trainset_sdata_binary_classification.fasta /cellar/users/aklie/projects/EUGENe/tests/notebooks/implement/gkm_logs/trainset_seqs_binary_classification.model.txt /cellar/users/aklie/projects/EUGENe/tests/notebooks/implement/gkm_output/trainset_sdata_binary_classification_explanations.txt -m 0 -T 4 -v 2\n",
      "Predictions saved to /cellar/users/aklie/projects/EUGENe/tests/notebooks/implement/gkm_output/trainset_sdata_binary_classification_explanations.txt\n"
     ]
    }
   ],
   "source": [
    "eu.external.gkm_svm.explain(\n",
    "    model=\"seqs\",\n",
    "    sdata=sdata,\n",
    "    prefix=\"trainset_\",\n",
    "    suffix=\"_binary_classification\",\n",
    "    file_label=\"sdata\"\n",
    ")"
   ]
  },
  {
   "cell_type": "code",
   "execution_count": null,
   "id": "b7e385ea",
   "metadata": {
    "execution": {
     "iopub.execute_input": "2022-11-03T00:43:03.769729Z",
     "iopub.status.busy": "2022-11-03T00:43:03.769465Z"
    }
   },
   "outputs": [],
   "source": [
    "sdata.uns[\"sdata_imps\"].shape"
   ]
  },
  {
   "cell_type": "code",
   "execution_count": null,
   "id": "22b06f94",
   "metadata": {},
   "outputs": [],
   "source": [
    "eu.pl.seq_track(\n",
    "    sdata,\n",
    "    seq_id=\"seq000\",\n",
    "    uns_key = \"sdata_imps\",\n",
    ")"
   ]
  },
  {
   "cell_type": "code",
   "execution_count": null,
   "id": "d432bec2-e6b3-49ca-ac1f-9778b077a6d5",
   "metadata": {},
   "outputs": [],
   "source": []
  }
 ],
 "metadata": {
  "kernelspec": {
   "display_name": "Python 3.7 eugene_dev",
   "language": "python",
   "name": "eugene_dev"
  },
  "language_info": {
   "codemirror_mode": {
    "name": "ipython",
    "version": 3
   },
   "file_extension": ".py",
   "mimetype": "text/x-python",
   "name": "python",
   "nbconvert_exporter": "python",
   "pygments_lexer": "ipython3",
   "version": "3.7.12"
  },
  "vscode": {
   "interpreter": {
    "hash": "f0aab14ae665ca4264878e5867720697752ca4d3a67458798aa51c276bf829a9"
   }
  }
 },
 "nbformat": 4,
 "nbformat_minor": 5
}

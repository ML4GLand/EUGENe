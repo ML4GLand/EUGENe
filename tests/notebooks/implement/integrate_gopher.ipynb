{
 "cells": [
  {
   "cell_type": "code",
   "execution_count": 1,
   "metadata": {},
   "outputs": [
    {
     "name": "stderr",
     "output_type": "stream",
     "text": [
      "Global seed set to 13\n"
     ]
    },
    {
     "data": {
      "text/plain": [
       "'0.0.6'"
      ]
     },
     "execution_count": 1,
     "metadata": {},
     "output_type": "execute_result"
    }
   ],
   "source": [
    "import pandas as pd\n",
    "import numpy as np\n",
    "import torch\n",
    "\n",
    "from eugene.dataload._io import read_numpy, read\n",
    "\n",
    "# Autoreload extension\n",
    "if 'autoreload' not in get_ipython().extension_manager.loaded:\n",
    "    %load_ext autoreload\n",
    "%autoreload 2\n",
    "\n",
    "# Basic import\n",
    "import eugene as eu\n",
    "eu.__version_\n"
   ]
  },
  {
   "cell_type": "code",
   "execution_count": null,
   "metadata": {},
   "outputs": [],
   "source": [
    "# modified gopher\n",
    "def set_seqs_for_removing(sdata, subset, num_sample, seed):\n",
    "    \"\"\"\n",
    "    select sequences to remove/occlude a given motif from by randomizing nucleotides\n",
    "    :param subset: a set of onehot sequences in np array\n",
    "    :param num_sample: number to limit the sequences to\n",
    "    :param seed: random sample seed\n",
    "    :return:\n",
    "    \"\"\"\n",
    "    if num_sample:\n",
    "        if seed:\n",
    "            np.random.seed(seed)\n",
    "        rand_idx = np.random.choice(subset.shape[0], num_sample, replace=False).flatten()\n",
    "        self.seqs_to_remove_motif = subset[rand_idx]\n",
    "    else:\n",
    "        self.seqs_to_remove_motif = subset"
   ]
  },
  {
   "cell_type": "code",
   "execution_count": null,
   "metadata": {},
   "outputs": [],
   "source": [
    "def occlude_all_motif_instances(sdata, subset, tandem_motifs_to_remove,\n",
    "                                    num_sample=None,\n",
    "                                    seed=42, batch_size=32):\n",
    "        \"\"\"\n",
    "        :param subset: subset of sequences to occlude the motif in\n",
    "        :param tandem_motifs_to_remove: list of motifs to remove in tandem/together\n",
    "        :param num_sample: sample size\n",
    "        :param seed: random seed for sampling\n",
    "        :param batch_size: batch size for making predictions\n",
    "        :return: None\n",
    "        \"\"\"\n",
    "        self.set_seqs_for_removing(subset, num_sample, seed)\n",
    "        print('tandem_motifs_to_remove', tandem_motifs_to_remove)\n",
    "        motif_key = ', '.join(tandem_motifs_to_remove)\n",
    "        print(motif_key)\n",
    "        self.seqs_with[motif_key], self.seqs_removed[motif_key], self.n_instances, self.seq_idx[\n",
    "            motif_key] = randomize_multiple_seqs(self.seqs_to_remove_motif,\n",
    "                                                 tandem_motifs_to_remove)\n",
    "        if len(self.seqs_with[motif_key]) > 0:\n",
    "            self.seqs_with[motif_key], self.seqs_removed[motif_key] = [np.array(n) for n in [self.seqs_with[motif_key],\n",
    "                                                                                             self.seqs_removed[\n",
    "                                                                                                 motif_key]]]\n",
    "            df = self.get_predictions(motif_key, batch_size)\n",
    "        else:\n",
    "            print('WARNING: no seqs with motifs found')\n",
    "            df = pd.DataFrame(\n",
    "                {'mean coverage': [None], 'sequence': [None], 'N instances': [None], 'motif pattern': [motif_key]})\n",
    "        self.summary_remove_motifs.append(df)\n"
   ]
  }
 ],
 "metadata": {
  "kernelspec": {
   "display_name": "Python 3.7.15 64-bit",
   "language": "python",
   "name": "python3"
  },
  "language_info": {
   "codemirror_mode": {
    "name": "ipython",
    "version": 3
   },
   "file_extension": ".py",
   "mimetype": "text/x-python",
   "name": "python",
   "nbconvert_exporter": "python",
   "pygments_lexer": "ipython3",
   "version": "3.7.15"
  },
  "orig_nbformat": 4,
  "vscode": {
   "interpreter": {
    "hash": "949777d72b0d2535278d3dc13498b2535136f6dfe0678499012e853ee9abcab1"
   }
  }
 },
 "nbformat": 4,
 "nbformat_minor": 2
}

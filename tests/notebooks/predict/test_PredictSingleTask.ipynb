{
 "cells": [
  {
   "cell_type": "markdown",
   "id": "47cc2c48",
   "metadata": {},
   "source": [
    "# Testing EUGENE `predict` module"
   ]
  },
  {
   "cell_type": "markdown",
   "id": "3b1880c3",
   "metadata": {
    "tags": []
   },
   "source": [
    "**Authorship:**\n",
    "Adam Klie, *03/19/2022*\n",
    "***\n",
    "**Description:**\n",
    "Notebook for testing functionality of EUGENE `predict` module on single task models. "
   ]
  },
  {
   "cell_type": "code",
   "execution_count": 1,
   "id": "1dd9ef33",
   "metadata": {
    "execution": {
     "iopub.execute_input": "2022-05-14T17:54:42.876636Z",
     "iopub.status.busy": "2022-05-14T17:54:42.876452Z",
     "iopub.status.idle": "2022-05-14T17:54:43.634970Z",
     "shell.execute_reply": "2022-05-14T17:54:43.634478Z",
     "shell.execute_reply.started": "2022-05-14T17:54:42.876618Z"
    },
    "tags": [],
    "vscode": {
     "languageId": "python"
    }
   },
   "outputs": [
    {
     "name": "stderr",
     "output_type": "stream",
     "text": [
      "Global seed set to 13\n"
     ]
    },
    {
     "name": "stdout",
     "output_type": "stream",
     "text": [
      "GPU is available: True\n",
      "Number of GPUs: 1\n",
      "Current GPU: 0\n",
      "GPUs: Quadro RTX 5000\n"
     ]
    }
   ],
   "source": [
    "import os\n",
    "import numpy as np\n",
    "import pandas as pd\n",
    "\n",
    "# Autoreload extension\n",
    "if 'autoreload' not in get_ipython().extension_manager.loaded:\n",
    "    %load_ext autoreload\n",
    "%autoreload 2\n",
    "\n",
    "import eugene as eu\n",
    "eu.settings.batch_size = 128\n",
    "eu.settings.dl_num_workers = 4\n",
    "eu.settings.logging_dir = \"/cellar/users/aklie/projects/EUGENE/tests/_logs/\"\n",
    "eu.settings.datasetdir = \"/cellar/users/aklie/projects/EUGENE/tests/_data/datasets/\"\n",
    "eu.settings.output_dir = \"/cellar/users/aklie/projects/EUGENE/tests/_out/\""
   ]
  },
  {
   "cell_type": "markdown",
   "id": "2b388b20-ba21-4cfd-956d-76456918b0d5",
   "metadata": {},
   "source": [
    "# Single task prediction workflow\n"
   ]
  },
  {
   "cell_type": "code",
   "execution_count": 2,
   "id": "662691f7",
   "metadata": {
    "vscode": {
     "languageId": "python"
    }
   },
   "outputs": [
    {
     "name": "stdout",
     "output_type": "stream",
     "text": [
      "Kept 1000 sequences with targets, dropped 0 sequences with no targets\n"
     ]
    },
    {
     "data": {
      "application/vnd.jupyter.widget-view+json": {
       "model_id": "c5a0099634e74b7ea21a0cbcde61f6ca",
       "version_major": 2,
       "version_minor": 0
      },
      "text/plain": [
       "  0%|          | 0/3 [00:00<?, ?it/s]"
      ]
     },
     "metadata": {},
     "output_type": "display_data"
    },
    {
     "name": "stdout",
     "output_type": "stream",
     "text": [
      "SeqData object modified:\n",
      "\trev_seqs: None -> 1000 rev_seqs added\n",
      "\tohe_seqs: None -> 1000 ohe_seqs added\n",
      "\tohe_rev_seqs: None -> 1000 ohe_rev_seqs added\n",
      "    seqs_annot:\n",
      "        + TRAIN\n"
     ]
    }
   ],
   "source": [
    "# Set-up\n",
    "sdata = eu.datasets.random1000()\n",
    "eu.pp.prepare_data(sdata)\n",
    "model = eu.models.DeepBind(input_len=66, output_dim=1)\n",
    "eu.models.base.init_weights(model)"
   ]
  },
  {
   "cell_type": "code",
   "execution_count": 3,
   "id": "c3491a4e",
   "metadata": {
    "vscode": {
     "languageId": "python"
    }
   },
   "outputs": [
    {
     "name": "stderr",
     "output_type": "stream",
     "text": [
      "GPU available: True, used: True\n",
      "TPU available: False, using: 0 TPU cores\n",
      "IPU available: False, using: 0 IPUs\n",
      "GPU available: True, used: True\n",
      "TPU available: False, using: 0 TPU cores\n",
      "IPU available: False, using: 0 IPUs\n",
      "LOCAL_RANK: 0 - CUDA_VISIBLE_DEVICES: [0]\n"
     ]
    },
    {
     "name": "stdout",
     "output_type": "stream",
     "text": [
      "No transforms given, assuming just need to tensorize).\n",
      "No transforms given, assuming just need to tensorize).\n"
     ]
    },
    {
     "data": {
      "application/vnd.jupyter.widget-view+json": {
       "model_id": "f1a14fbd22684a289234282e8f3258c1",
       "version_major": 2,
       "version_minor": 0
      },
      "text/plain": [
       "Predicting: 0it [00:00, ?it/s]"
      ]
     },
     "metadata": {},
     "output_type": "display_data"
    },
    {
     "name": "stderr",
     "output_type": "stream",
     "text": [
      "LOCAL_RANK: 0 - CUDA_VISIBLE_DEVICES: [0]\n"
     ]
    },
    {
     "data": {
      "application/vnd.jupyter.widget-view+json": {
       "model_id": "3e010ffa79f242838ca29712661609eb",
       "version_major": 2,
       "version_minor": 0
      },
      "text/plain": [
       "Predicting: 0it [00:00, ?it/s]"
      ]
     },
     "metadata": {},
     "output_type": "display_data"
    },
    {
     "name": "stdout",
     "output_type": "stream",
     "text": [
      "SeqData object modified:\n",
      "    seqs_annot:\n",
      "        + TARGETS_PREDICTIONS\n"
     ]
    }
   ],
   "source": [
    "# Train/Val predictions\n",
    "eu.predict.train_val_predictions(model, sdata=sdata, target_label=\"TARGETS\")"
   ]
  },
  {
   "cell_type": "code",
   "execution_count": 7,
   "id": "c9eeb071",
   "metadata": {
    "vscode": {
     "languageId": "python"
    }
   },
   "outputs": [
    {
     "data": {
      "text/plain": [
       "True"
      ]
     },
     "execution_count": 7,
     "metadata": {},
     "output_type": "execute_result"
    }
   ],
   "source": [
    "saved_t = pd.read_csv(f\"{eu.settings.output_dir}/train_predictions.tsv\", index_col=0, sep=\"\\t\")\n",
    "np.allclose(saved_t[\"PREDICTIONS_0\"].values, sdata.seqs_annot.loc[saved_t.index][\"TARGETS_PREDICTIONS\"].values)"
   ]
  },
  {
   "cell_type": "code",
   "execution_count": null,
   "id": "67495801",
   "metadata": {
    "vscode": {
     "languageId": "python"
    }
   },
   "outputs": [],
   "source": []
  },
  {
   "cell_type": "code",
   "execution_count": 6,
   "id": "fe61b71c",
   "metadata": {
    "vscode": {
     "languageId": "python"
    }
   },
   "outputs": [
    {
     "data": {
      "text/plain": [
       "True"
      ]
     },
     "execution_count": 6,
     "metadata": {},
     "output_type": "execute_result"
    }
   ],
   "source": [
    "saved_v = pd.read_csv(f\"{eu.settings.output_dir}/val_predictions.tsv\", index_col=0, sep=\"\\t\")\n",
    "np.allclose(saved_t[\"PREDICTIONS_0\"].values, sdata.seqs_annot.loc[saved_t.index][\"TARGETS_PREDICTIONS\"].values)"
   ]
  },
  {
   "cell_type": "code",
   "execution_count": 11,
   "id": "eb33eb15",
   "metadata": {
    "vscode": {
     "languageId": "python"
    }
   },
   "outputs": [
    {
     "name": "stderr",
     "output_type": "stream",
     "text": [
      "GPU available: True, used: True\n",
      "TPU available: False, using: 0 TPU cores\n",
      "IPU available: False, using: 0 IPUs\n",
      "LOCAL_RANK: 0 - CUDA_VISIBLE_DEVICES: [0]\n"
     ]
    },
    {
     "name": "stdout",
     "output_type": "stream",
     "text": [
      "/cellar/users/aklie/projects/EUGENE/tests/_out\n",
      "No transforms given, assuming just need to tensorize).\n"
     ]
    },
    {
     "data": {
      "application/vnd.jupyter.widget-view+json": {
       "model_id": "c55398b44ee349209128534ca6020c61",
       "version_major": 2,
       "version_minor": 0
      },
      "text/plain": [
       "Predicting: 0it [00:00, ?it/s]"
      ]
     },
     "metadata": {},
     "output_type": "display_data"
    },
    {
     "name": "stdout",
     "output_type": "stream",
     "text": [
      "SeqData object modified:\n",
      "    seqs_annot:\n",
      "        + TARGETS_PREDICTIONS\n"
     ]
    },
    {
     "data": {
      "text/plain": [
       "(SeqData object with = 1000 seqs\n",
       " seqs = (1000,)\n",
       " names = (1000,)\n",
       " rev_seqs = (1000,)\n",
       " ohe_seqs = (1000, 66, 4)\n",
       " ohe_rev_seqs = (1000, 66, 4)\n",
       " seqs_annot: 'TARGETS', 'TRAIN', 'TARGETS_PREDICTIONS'\n",
       " pos_annot: PyRanges object with 1400 features\n",
       " seqsm: None\n",
       " uns: None,\n",
       " DeepBind(\n",
       "   (hp_metric): R2Score()\n",
       "   (max_pool): MaxPool1d(kernel_size=4, stride=4, padding=0, dilation=1, ceil_mode=False)\n",
       "   (avg_pool): AvgPool1d(kernel_size=(4,), stride=(4,), padding=(0,))\n",
       "   (convnet): BasicConv1D(\n",
       "     (module): Sequential(\n",
       "       (0): Conv1d(4, 16, kernel_size=(4,), stride=(1,))\n",
       "       (1): ReLU()\n",
       "       (2): Dropout(p=0.2, inplace=False)\n",
       "     )\n",
       "   )\n",
       "   (fcn): BasicFullyConnectedModule(\n",
       "     (module): Sequential(\n",
       "       (0): Linear(in_features=504, out_features=256, bias=True)\n",
       "       (1): ReLU()\n",
       "       (2): Dropout(p=0.2, inplace=False)\n",
       "       (3): Linear(in_features=256, out_features=64, bias=True)\n",
       "       (4): ReLU()\n",
       "       (5): Dropout(p=0.2, inplace=False)\n",
       "       (6): Linear(in_features=64, out_features=16, bias=True)\n",
       "       (7): ReLU()\n",
       "       (8): Dropout(p=0.2, inplace=False)\n",
       "       (9): Linear(in_features=16, out_features=4, bias=True)\n",
       "       (10): ReLU()\n",
       "       (11): Dropout(p=0.2, inplace=False)\n",
       "       (12): Linear(in_features=4, out_features=1, bias=True)\n",
       "     )\n",
       "   )\n",
       " ))"
      ]
     },
     "execution_count": 11,
     "metadata": {},
     "output_type": "execute_result"
    }
   ],
   "source": [
    "# Predictions\n",
    "eu.predict.predictions(model, sdata=sdata, target_label=\"TARGETS\", label=\"random1000\")\n",
    "sdata, model"
   ]
  },
  {
   "cell_type": "code",
   "execution_count": 13,
   "id": "88ff9d61",
   "metadata": {
    "vscode": {
     "languageId": "python"
    }
   },
   "outputs": [
    {
     "data": {
      "text/plain": [
       "True"
      ]
     },
     "execution_count": 13,
     "metadata": {},
     "output_type": "execute_result"
    }
   ],
   "source": [
    "# Tests\n",
    "saved_t = pd.read_csv(f\"{eu.settings.out_dir}/random1000_predictions.tsv\", index_col=0, sep=\"\\t\")\n",
    "np.allclose(saved_t[\"PREDICTIONS_0\"].values, sdata.seqs_annot.loc[saved_t.index][\"TARGETS_PREDICTIONS\"].values)"
   ]
  },
  {
   "cell_type": "markdown",
   "id": "25d1b265",
   "metadata": {},
   "source": [
    "---"
   ]
  },
  {
   "cell_type": "markdown",
   "id": "42bec541",
   "metadata": {},
   "source": [
    "# Scratch"
   ]
  }
 ],
 "metadata": {
  "kernelspec": {
   "display_name": "Python 3.7 eugene",
   "language": "python",
   "name": "eugene"
  },
  "language_info": {
   "name": "",
   "version": ""
  },
  "vscode": {
   "interpreter": {
    "hash": "1330bbbf2c4cf53098ef1254540d5dd54a9d501f0408fea1c04a20872667b797"
   }
  }
 },
 "nbformat": 4,
 "nbformat_minor": 5
}

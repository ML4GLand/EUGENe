{
 "cells": [
  {
   "cell_type": "markdown",
   "id": "90a88efe-ebb3-424c-8704-fb4ee189af2c",
   "metadata": {},
   "source": [
    "# Testing `deAlmeida22` dataset"
   ]
  },
  {
   "cell_type": "markdown",
   "id": "2d058003-a667-4b45-9ddc-e47efe48e0e1",
   "metadata": {
    "tags": []
   },
   "source": [
    "**Authorship:**\n",
    "Adam Klie, *07/19/2022*\n",
    "***\n",
    "**Description:**\n",
    "Notebook to test the working with the `deAlmeida` dataset.\n",
    "***"
   ]
  },
  {
   "cell_type": "code",
   "execution_count": 1,
   "id": "3ebaff6f",
   "metadata": {
    "execution": {
     "iopub.execute_input": "2022-06-22T21:40:50.734456Z",
     "iopub.status.busy": "2022-06-22T21:40:50.734315Z",
     "iopub.status.idle": "2022-06-22T21:40:55.752826Z",
     "shell.execute_reply": "2022-06-22T21:40:55.752465Z",
     "shell.execute_reply.started": "2022-06-22T21:40:50.734412Z"
    },
    "tags": []
   },
   "outputs": [
    {
     "name": "stderr",
     "output_type": "stream",
     "text": [
      "Global seed set to 13\n",
      "Global seed set to 13\n",
      "Global seed set to 13\n"
     ]
    },
    {
     "data": {
      "text/plain": [
       "'0.0.0'"
      ]
     },
     "execution_count": 1,
     "metadata": {},
     "output_type": "execute_result"
    }
   ],
   "source": [
    "import pandas as pd\n",
    "import numpy as np\n",
    "\n",
    "# Autoreload extension\n",
    "if 'autoreload' not in get_ipython().extension_manager.loaded:\n",
    "    %load_ext autoreload\n",
    "%autoreload 2\n",
    "\n",
    "# Basic import\n",
    "import eugene as eu\n",
    "eu.__version__"
   ]
  },
  {
   "cell_type": "code",
   "execution_count": 2,
   "id": "547d870c",
   "metadata": {},
   "outputs": [
    {
     "data": {
      "text/plain": [
       "PosixPath('/mnt/beegfs/users/aklie/projects/EUGENE/tests/_data/datasets')"
      ]
     },
     "execution_count": 2,
     "metadata": {},
     "output_type": "execute_result"
    }
   ],
   "source": [
    "eu.settings.datasetdir = \"../_data/datasets/\"\n",
    "eu.settings.datasetdir"
   ]
  },
  {
   "cell_type": "code",
   "execution_count": 25,
   "id": "f8b9a2e2",
   "metadata": {},
   "outputs": [
    {
     "name": "stdout",
     "output_type": "stream",
     "text": [
      "Dataset deAlmeida22 Sequences_Val.fa has already been dowloaded.\n",
      "Dataset deAlmeida22 Sequences_activity_Val.txt has already been dowloaded.\n"
     ]
    },
    {
     "data": {
      "text/plain": [
       "SeqData object with = 40570 seqs\n",
       "seqs = (40570,)\n",
       "names = (40570,)\n",
       "rev_seqs = None\n",
       "ohe_seqs = None\n",
       "ohe_rev_seqs = None\n",
       "seqs_annot: 'Dev_log2_enrichment', 'Hk_log2_enrichment', 'Dev_log2_enrichment_scaled', 'Hk_log2_enrichment_scaled', 'Dev_log2_enrichment_quantile_normalized', 'Hk_log2_enrichment_quantile_normalized'\n",
       "pos_annot: None\n",
       "seqsm: None\n",
       "uns: None"
      ]
     },
     "execution_count": 25,
     "metadata": {},
     "output_type": "execute_result"
    }
   ],
   "source": [
    "sdata = eu.datasets.deAlmeida22(dataset=\"val\")\n",
    "sdata"
   ]
  },
  {
   "cell_type": "code",
   "execution_count": 21,
   "id": "98688ea1",
   "metadata": {},
   "outputs": [
    {
     "data": {
      "text/plain": [
       "SeqData object with = 40570 seqs\n",
       "seqs = (40570,)\n",
       "names = (40570,)\n",
       "rev_seqs = None\n",
       "ohe_seqs = None\n",
       "ohe_rev_seqs = None\n",
       "seqs_annot: 'Dev_log2_enrichment', 'Hk_log2_enrichment', 'Dev_log2_enrichment_scaled', 'Hk_log2_enrichment_scaled', 'Dev_log2_enrichment_quantile_normalized', 'Hk_log2_enrichment_quantile_normalized'\n",
       "pos_annot: None\n",
       "seqsm: None\n",
       "uns: None"
      ]
     },
     "execution_count": 21,
     "metadata": {},
     "output_type": "execute_result"
    }
   ],
   "source": [
    "\n",
    "sdata"
   ]
  },
  {
   "cell_type": "code",
   "execution_count": 23,
   "id": "729d195a",
   "metadata": {},
   "outputs": [],
   "source": []
  },
  {
   "cell_type": "code",
   "execution_count": 8,
   "id": "481db6ef",
   "metadata": {},
   "outputs": [],
   "source": [
    "import os"
   ]
  },
  {
   "cell_type": "code",
   "execution_count": 9,
   "id": "22193e81",
   "metadata": {},
   "outputs": [
    {
     "data": {
      "text/plain": [
       "False"
      ]
     },
     "execution_count": 9,
     "metadata": {},
     "output_type": "execute_result"
    }
   ],
   "source": [
    "os.path.exists(\"/mnt/beegfs/users/aklie/projects/EUGENE/tests/_data/datasets/deAlmeida22/Sequences_Train.csv\")"
   ]
  },
  {
   "cell_type": "code",
   "execution_count": null,
   "id": "f6d3718c",
   "metadata": {},
   "outputs": [],
   "source": [
    "s"
   ]
  },
  {
   "cell_type": "code",
   "execution_count": 20,
   "id": "8f0871ed",
   "metadata": {},
   "outputs": [
    {
     "data": {
      "text/plain": [
       "train    65004\n",
       "test      7154\n",
       "Name: set, dtype: int64"
      ]
     },
     "execution_count": 20,
     "metadata": {},
     "output_type": "execute_result"
    }
   ],
   "source": [
    "sdata[\"set\"].value_counts()"
   ]
  },
  {
   "cell_type": "code",
   "execution_count": 14,
   "id": "4ffab0a5",
   "metadata": {},
   "outputs": [
    {
     "data": {
      "text/plain": [
       "train    133217\n",
       "test      14748\n",
       "Name: set, dtype: int64"
      ]
     },
     "execution_count": 14,
     "metadata": {},
     "output_type": "execute_result"
    }
   ],
   "source": [
    "sdata.seqs_annot[\"set\"].value_counts()"
   ]
  },
  {
   "cell_type": "code",
   "execution_count": 21,
   "id": "4c406851",
   "metadata": {},
   "outputs": [
    {
     "data": {
      "text/html": [
       "<div>\n",
       "<style scoped>\n",
       "    .dataframe tbody tr th:only-of-type {\n",
       "        vertical-align: middle;\n",
       "    }\n",
       "\n",
       "    .dataframe tbody tr th {\n",
       "        vertical-align: top;\n",
       "    }\n",
       "\n",
       "    .dataframe thead th {\n",
       "        text-align: right;\n",
       "    }\n",
       "</style>\n",
       "<table border=\"1\" class=\"dataframe\">\n",
       "  <thead>\n",
       "    <tr style=\"text-align: right;\">\n",
       "      <th></th>\n",
       "      <th>set</th>\n",
       "      <th>sp</th>\n",
       "      <th>gene</th>\n",
       "      <th>enrichment</th>\n",
       "    </tr>\n",
       "  </thead>\n",
       "  <tbody>\n",
       "    <tr>\n",
       "      <th>seq00000</th>\n",
       "      <td>test</td>\n",
       "      <td>At</td>\n",
       "      <td>AT5G03425</td>\n",
       "      <td>-0.537451</td>\n",
       "    </tr>\n",
       "    <tr>\n",
       "      <th>seq00001</th>\n",
       "      <td>test</td>\n",
       "      <td>Sb</td>\n",
       "      <td>ENSRNA049996419</td>\n",
       "      <td>4.108127</td>\n",
       "    </tr>\n",
       "    <tr>\n",
       "      <th>seq00002</th>\n",
       "      <td>test</td>\n",
       "      <td>Zm</td>\n",
       "      <td>ENSRNA049997541</td>\n",
       "      <td>-0.718419</td>\n",
       "    </tr>\n",
       "    <tr>\n",
       "      <th>seq00003</th>\n",
       "      <td>test</td>\n",
       "      <td>Sb</td>\n",
       "      <td>ENSRNA049996013</td>\n",
       "      <td>1.340581</td>\n",
       "    </tr>\n",
       "    <tr>\n",
       "      <th>seq00004</th>\n",
       "      <td>test</td>\n",
       "      <td>At</td>\n",
       "      <td>AT4G04125</td>\n",
       "      <td>4.227307</td>\n",
       "    </tr>\n",
       "    <tr>\n",
       "      <th>...</th>\n",
       "      <td>...</td>\n",
       "      <td>...</td>\n",
       "      <td>...</td>\n",
       "      <td>...</td>\n",
       "    </tr>\n",
       "    <tr>\n",
       "      <th>seq72153</th>\n",
       "      <td>train</td>\n",
       "      <td>Zm</td>\n",
       "      <td>Zm00001d013406</td>\n",
       "      <td>-1.274929</td>\n",
       "    </tr>\n",
       "    <tr>\n",
       "      <th>seq72154</th>\n",
       "      <td>train</td>\n",
       "      <td>Zm</td>\n",
       "      <td>Zm00001d049906</td>\n",
       "      <td>-0.190040</td>\n",
       "    </tr>\n",
       "    <tr>\n",
       "      <th>seq72155</th>\n",
       "      <td>train</td>\n",
       "      <td>Sb</td>\n",
       "      <td>SORBI_3004G044100</td>\n",
       "      <td>-0.954699</td>\n",
       "    </tr>\n",
       "    <tr>\n",
       "      <th>seq72156</th>\n",
       "      <td>train</td>\n",
       "      <td>Sb</td>\n",
       "      <td>SORBI_3004G252700</td>\n",
       "      <td>0.337022</td>\n",
       "    </tr>\n",
       "    <tr>\n",
       "      <th>seq72157</th>\n",
       "      <td>train</td>\n",
       "      <td>Sb</td>\n",
       "      <td>SORBI_3010G217400</td>\n",
       "      <td>-0.630557</td>\n",
       "    </tr>\n",
       "  </tbody>\n",
       "</table>\n",
       "<p>72158 rows × 4 columns</p>\n",
       "</div>"
      ],
      "text/plain": [
       "            set  sp               gene  enrichment\n",
       "seq00000   test  At          AT5G03425   -0.537451\n",
       "seq00001   test  Sb    ENSRNA049996419    4.108127\n",
       "seq00002   test  Zm    ENSRNA049997541   -0.718419\n",
       "seq00003   test  Sb    ENSRNA049996013    1.340581\n",
       "seq00004   test  At          AT4G04125    4.227307\n",
       "...         ...  ..                ...         ...\n",
       "seq72153  train  Zm     Zm00001d013406   -1.274929\n",
       "seq72154  train  Zm     Zm00001d049906   -0.190040\n",
       "seq72155  train  Sb  SORBI_3004G044100   -0.954699\n",
       "seq72156  train  Sb  SORBI_3004G252700    0.337022\n",
       "seq72157  train  Sb  SORBI_3010G217400   -0.630557\n",
       "\n",
       "[72158 rows x 4 columns]"
      ]
     },
     "execution_count": 21,
     "metadata": {},
     "output_type": "execute_result"
    }
   ],
   "source": [
    "sdata.seqs_annot"
   ]
  },
  {
   "cell_type": "code",
   "execution_count": 22,
   "id": "f4af1047",
   "metadata": {},
   "outputs": [
    {
     "data": {
      "application/vnd.jupyter.widget-view+json": {
       "model_id": "282adb8f177246b68b3900a7f65ae433",
       "version_major": 2,
       "version_minor": 0
      },
      "text/plain": [
       "  0%|          | 0/3 [00:00<?, ?it/s]"
      ]
     },
     "metadata": {},
     "output_type": "display_data"
    },
    {
     "name": "stdout",
     "output_type": "stream",
     "text": [
      "reverse_complement\n",
      "one_hot_encode\n",
      "train_test_split\n",
      "SeqData object modified:\n",
      "\trev_seqs: None -> 72158 rev_seqs added\n",
      "\tohe_seqs: None -> 72158 ohe_seqs added\n",
      "\tohe_rev_seqs: None -> 72158 ohe_rev_seqs added\n",
      "    seqs_annot:\n",
      "        + TRAIN\n"
     ]
    }
   ],
   "source": [
    "eu.pp.prepare_data(sdata)"
   ]
  },
  {
   "cell_type": "code",
   "execution_count": 23,
   "id": "7bdb6288",
   "metadata": {},
   "outputs": [
    {
     "name": "stdout",
     "output_type": "stream",
     "text": [
      "SeqData object modified:\n",
      "    seqs_annot:\n",
      "        + enrichment_SCALED\n"
     ]
    }
   ],
   "source": [
    "eu.pp.scale_targets(sdata, target_col=\"enrichment\")"
   ]
  },
  {
   "cell_type": "code",
   "execution_count": 24,
   "id": "528a4bd9",
   "metadata": {},
   "outputs": [
    {
     "data": {
      "image/png": "[encoded data removed]",
      "text/plain": [
       "<Figure size 432x432 with 1 Axes>"
      ]
     },
     "metadata": {
      "needs_background": "light"
     },
     "output_type": "display_data"
    }
   ],
   "source": [
    "eu.pl.violin(sdata, value=\"enrichment_SCALED\")"
   ]
  },
  {
   "cell_type": "code",
   "execution_count": 25,
   "id": "1c81a974",
   "metadata": {},
   "outputs": [
    {
     "data": {
      "text/plain": [
       "SeqData object with = 72158 seqs\n",
       "seqs = (72158,)\n",
       "names = (72158,)\n",
       "rev_seqs = (72158,)\n",
       "ohe_seqs = (72158, 170, 4)\n",
       "ohe_rev_seqs = (72158, 170, 4)\n",
       "seqs_annot: 'set', 'sp', 'gene', 'enrichment', 'TRAIN', 'enrichment_SCALED'\n",
       "pos_annot: None\n",
       "seqsm: None\n",
       "uns: None"
      ]
     },
     "execution_count": 25,
     "metadata": {},
     "output_type": "execute_result"
    }
   ],
   "source": [
    "sdata"
   ]
  },
  {
   "cell_type": "code",
   "execution_count": 28,
   "id": "9392ea92",
   "metadata": {},
   "outputs": [],
   "source": [
    "model = eu.models.DeepBind(input_len=170, output_dim=1)"
   ]
  },
  {
   "cell_type": "code",
   "execution_count": 29,
   "id": "b3e79944",
   "metadata": {},
   "outputs": [
    {
     "name": "stderr",
     "output_type": "stream",
     "text": [
      "GPU available: False, used: False\n",
      "TPU available: False, using: 0 TPU cores\n",
      "IPU available: False, using: 0 IPUs\n",
      "\n",
      "  | Name      | Type                      | Params\n",
      "--------------------------------------------------------\n",
      "0 | r_squared | R2Score                   | 0     \n",
      "1 | max_pool  | MaxPool1d                 | 0     \n",
      "2 | avg_pool  | AvgPool1d                 | 0     \n",
      "3 | convnet   | BasicConv1D               | 272   \n",
      "4 | fcn       | BasicFullyConnectedModule | 359 K \n",
      "--------------------------------------------------------\n",
      "360 K     Trainable params\n",
      "0         Non-trainable params\n",
      "360 K     Total params\n",
      "1.440     Total estimated model params size (MB)\n"
     ]
    },
    {
     "data": {
      "application/vnd.jupyter.widget-view+json": {
       "model_id": "9ee07bdbd87c44cea2087d31270f23dd",
       "version_major": 2,
       "version_minor": 0
      },
      "text/plain": [
       "Validation sanity check: 0it [00:00, ?it/s]"
      ]
     },
     "metadata": {},
     "output_type": "display_data"
    },
    {
     "name": "stderr",
     "output_type": "stream",
     "text": [
      "Global seed set to 13\n",
      "/cellar/users/aklie/opt/miniconda3/envs/eugene/lib/python3.7/site-packages/pytorch_lightning/trainer/data_loading.py:133: UserWarning: The dataloader, train_dataloader, does not have many workers which may be a bottleneck. Consider increasing the value of the `num_workers` argument` (try 16 which is the number of cpus on this machine) in the `DataLoader` init to improve performance.\n",
      "  f\"The dataloader, {name}, does not have many workers which may be a bottleneck.\"\n"
     ]
    },
    {
     "data": {
      "application/vnd.jupyter.widget-view+json": {
       "model_id": "664fbfe7db08419a871b797f4090ac92",
       "version_major": 2,
       "version_minor": 0
      },
      "text/plain": [
       "Training: 0it [00:00, ?it/s]"
      ]
     },
     "metadata": {},
     "output_type": "display_data"
    },
    {
     "data": {
      "application/vnd.jupyter.widget-view+json": {
       "model_id": "2da846d8d69c453baa9c22577f219677",
       "version_major": 2,
       "version_minor": 0
      },
      "text/plain": [
       "Validating: 0it [00:00, ?it/s]"
      ]
     },
     "metadata": {},
     "output_type": "display_data"
    },
    {
     "name": "stderr",
     "output_type": "stream",
     "text": [
      "GPU available: False, used: False\n",
      "TPU available: False, using: 0 TPU cores\n",
      "IPU available: False, using: 0 IPUs\n",
      "GPU available: False, used: False\n",
      "TPU available: False, using: 0 TPU cores\n",
      "IPU available: False, using: 0 IPUs\n",
      "/cellar/users/aklie/opt/miniconda3/envs/eugene/lib/python3.7/site-packages/pytorch_lightning/trainer/data_loading.py:133: UserWarning: The dataloader, predict_dataloader 0, does not have many workers which may be a bottleneck. Consider increasing the value of the `num_workers` argument` (try 16 which is the number of cpus on this machine) in the `DataLoader` init to improve performance.\n",
      "  f\"The dataloader, {name}, does not have many workers which may be a bottleneck.\"\n"
     ]
    },
    {
     "data": {
      "application/vnd.jupyter.widget-view+json": {
       "model_id": "9358490c799c4b59be12b1711418a88f",
       "version_major": 2,
       "version_minor": 0
      },
      "text/plain": [
       "Predicting: 0it [00:00, ?it/s]"
      ]
     },
     "metadata": {},
     "output_type": "display_data"
    },
    {
     "data": {
      "application/vnd.jupyter.widget-view+json": {
       "model_id": "6afc9ec719fa4b469631fa0f623c1244",
       "version_major": 2,
       "version_minor": 0
      },
      "text/plain": [
       "Predicting: 0it [00:00, ?it/s]"
      ]
     },
     "metadata": {},
     "output_type": "display_data"
    },
    {
     "name": "stdout",
     "output_type": "stream",
     "text": [
      "SeqData object modified:\n",
      "    seqs_annot:\n",
      "        + PREDICTIONS\n"
     ]
    }
   ],
   "source": [
    "eu.train.fit(model, sdata=sdata, target_label=\"enrichment_SCALED\", epochs=1, log_dir=\"../_logs\", out_dir=\"../_out/jores21\")"
   ]
  },
  {
   "cell_type": "code",
   "execution_count": 32,
   "id": "cab8dbdb",
   "metadata": {},
   "outputs": [
    {
     "data": {
      "image/png": "[encoded data removed]",
      "text/plain": [
       "<Figure size 432x288 with 1 Axes>"
      ]
     },
     "metadata": {
      "needs_background": "light"
     },
     "output_type": "display_data"
    }
   ],
   "source": [
    "eu.pl.performance_scatter(sdata, target=\"enrichment_SCALED\")"
   ]
  },
  {
   "cell_type": "code",
   "execution_count": 30,
   "id": "6d369b0c",
   "metadata": {},
   "outputs": [
    {
     "data": {
      "text/html": [
       "<div>\n",
       "<style scoped>\n",
       "    .dataframe tbody tr th:only-of-type {\n",
       "        vertical-align: middle;\n",
       "    }\n",
       "\n",
       "    .dataframe tbody tr th {\n",
       "        vertical-align: top;\n",
       "    }\n",
       "\n",
       "    .dataframe thead th {\n",
       "        text-align: right;\n",
       "    }\n",
       "</style>\n",
       "<table border=\"1\" class=\"dataframe\">\n",
       "  <thead>\n",
       "    <tr style=\"text-align: right;\">\n",
       "      <th></th>\n",
       "      <th>set</th>\n",
       "      <th>sp</th>\n",
       "      <th>gene</th>\n",
       "      <th>enrichment</th>\n",
       "      <th>TRAIN</th>\n",
       "      <th>enrichment_SCALED</th>\n",
       "      <th>PREDICTIONS</th>\n",
       "    </tr>\n",
       "  </thead>\n",
       "  <tbody>\n",
       "    <tr>\n",
       "      <th>seq00000</th>\n",
       "      <td>test</td>\n",
       "      <td>At</td>\n",
       "      <td>AT5G03425</td>\n",
       "      <td>-0.537451</td>\n",
       "      <td>True</td>\n",
       "      <td>-0.864320</td>\n",
       "      <td>-0.507624</td>\n",
       "    </tr>\n",
       "    <tr>\n",
       "      <th>seq00001</th>\n",
       "      <td>test</td>\n",
       "      <td>Sb</td>\n",
       "      <td>ENSRNA049996419</td>\n",
       "      <td>4.108127</td>\n",
       "      <td>True</td>\n",
       "      <td>1.922392</td>\n",
       "      <td>-0.769259</td>\n",
       "    </tr>\n",
       "    <tr>\n",
       "      <th>seq00002</th>\n",
       "      <td>test</td>\n",
       "      <td>Zm</td>\n",
       "      <td>ENSRNA049997541</td>\n",
       "      <td>-0.718419</td>\n",
       "      <td>False</td>\n",
       "      <td>-0.972876</td>\n",
       "      <td>-0.729843</td>\n",
       "    </tr>\n",
       "    <tr>\n",
       "      <th>seq00003</th>\n",
       "      <td>test</td>\n",
       "      <td>Sb</td>\n",
       "      <td>ENSRNA049996013</td>\n",
       "      <td>1.340581</td>\n",
       "      <td>False</td>\n",
       "      <td>0.262242</td>\n",
       "      <td>-0.684897</td>\n",
       "    </tr>\n",
       "    <tr>\n",
       "      <th>seq00004</th>\n",
       "      <td>test</td>\n",
       "      <td>At</td>\n",
       "      <td>AT4G04125</td>\n",
       "      <td>4.227307</td>\n",
       "      <td>True</td>\n",
       "      <td>1.993883</td>\n",
       "      <td>-0.318295</td>\n",
       "    </tr>\n",
       "    <tr>\n",
       "      <th>...</th>\n",
       "      <td>...</td>\n",
       "      <td>...</td>\n",
       "      <td>...</td>\n",
       "      <td>...</td>\n",
       "      <td>...</td>\n",
       "      <td>...</td>\n",
       "      <td>...</td>\n",
       "    </tr>\n",
       "    <tr>\n",
       "      <th>seq72153</th>\n",
       "      <td>train</td>\n",
       "      <td>Zm</td>\n",
       "      <td>Zm00001d013406</td>\n",
       "      <td>-1.274929</td>\n",
       "      <td>False</td>\n",
       "      <td>-1.306706</td>\n",
       "      <td>-1.006838</td>\n",
       "    </tr>\n",
       "    <tr>\n",
       "      <th>seq72154</th>\n",
       "      <td>train</td>\n",
       "      <td>Zm</td>\n",
       "      <td>Zm00001d049906</td>\n",
       "      <td>-0.190040</td>\n",
       "      <td>True</td>\n",
       "      <td>-0.655921</td>\n",
       "      <td>-0.888485</td>\n",
       "    </tr>\n",
       "    <tr>\n",
       "      <th>seq72155</th>\n",
       "      <td>train</td>\n",
       "      <td>Sb</td>\n",
       "      <td>SORBI_3004G044100</td>\n",
       "      <td>-0.954699</td>\n",
       "      <td>True</td>\n",
       "      <td>-1.114611</td>\n",
       "      <td>-0.688373</td>\n",
       "    </tr>\n",
       "    <tr>\n",
       "      <th>seq72156</th>\n",
       "      <td>train</td>\n",
       "      <td>Sb</td>\n",
       "      <td>SORBI_3004G252700</td>\n",
       "      <td>0.337022</td>\n",
       "      <td>True</td>\n",
       "      <td>-0.339756</td>\n",
       "      <td>-1.021375</td>\n",
       "    </tr>\n",
       "    <tr>\n",
       "      <th>seq72157</th>\n",
       "      <td>train</td>\n",
       "      <td>Sb</td>\n",
       "      <td>SORBI_3010G217400</td>\n",
       "      <td>-0.630557</td>\n",
       "      <td>True</td>\n",
       "      <td>-0.920170</td>\n",
       "      <td>-0.676835</td>\n",
       "    </tr>\n",
       "  </tbody>\n",
       "</table>\n",
       "<p>72158 rows × 7 columns</p>\n",
       "</div>"
      ],
      "text/plain": [
       "            set  sp               gene  enrichment  TRAIN  enrichment_SCALED  \\\n",
       "seq00000   test  At          AT5G03425   -0.537451   True          -0.864320   \n",
       "seq00001   test  Sb    ENSRNA049996419    4.108127   True           1.922392   \n",
       "seq00002   test  Zm    ENSRNA049997541   -0.718419  False          -0.972876   \n",
       "seq00003   test  Sb    ENSRNA049996013    1.340581  False           0.262242   \n",
       "seq00004   test  At          AT4G04125    4.227307   True           1.993883   \n",
       "...         ...  ..                ...         ...    ...                ...   \n",
       "seq72153  train  Zm     Zm00001d013406   -1.274929  False          -1.306706   \n",
       "seq72154  train  Zm     Zm00001d049906   -0.190040   True          -0.655921   \n",
       "seq72155  train  Sb  SORBI_3004G044100   -0.954699   True          -1.114611   \n",
       "seq72156  train  Sb  SORBI_3004G252700    0.337022   True          -0.339756   \n",
       "seq72157  train  Sb  SORBI_3010G217400   -0.630557   True          -0.920170   \n",
       "\n",
       "          PREDICTIONS  \n",
       "seq00000    -0.507624  \n",
       "seq00001    -0.769259  \n",
       "seq00002    -0.729843  \n",
       "seq00003    -0.684897  \n",
       "seq00004    -0.318295  \n",
       "...               ...  \n",
       "seq72153    -1.006838  \n",
       "seq72154    -0.888485  \n",
       "seq72155    -0.688373  \n",
       "seq72156    -1.021375  \n",
       "seq72157    -0.676835  \n",
       "\n",
       "[72158 rows x 7 columns]"
      ]
     },
     "execution_count": 30,
     "metadata": {},
     "output_type": "execute_result"
    }
   ],
   "source": [
    "sdata.seqs_annot"
   ]
  },
  {
   "cell_type": "markdown",
   "id": "198f80c7",
   "metadata": {},
   "source": [
    "---"
   ]
  },
  {
   "cell_type": "markdown",
   "id": "489841f8",
   "metadata": {},
   "source": [
    "# Scratch"
   ]
  },
  {
   "cell_type": "code",
   "execution_count": 6,
   "id": "123e86bd",
   "metadata": {},
   "outputs": [],
   "source": [
    "from eugene.datasets._utils import try_download_urls"
   ]
  },
  {
   "cell_type": "code",
   "execution_count": 13,
   "id": "6f2f1876",
   "metadata": {},
   "outputs": [
    {
     "name": "stdout",
     "output_type": "stream",
     "text": [
      "Dataset farley15 farley2015_seqs.csv has already been dowloaded.\n",
      "Dataset farley15 farley2015_seqs_annot.csv has already been dowloaded.\n"
     ]
    }
   ],
   "source": [
    "urls_list = [\"https://zenodo.org/record/6863861/files/farley2015_seqs.csv?download=1\",\n",
    "\"https://zenodo.org/record/6863861/files/farley2015_seqs_annot.csv?download=1\"]\n",
    "paths = try_download_urls([0,1], urls_list, \"farley15\", compression = \"\") "
   ]
  },
  {
   "cell_type": "code",
   "execution_count": 14,
   "id": "33060106",
   "metadata": {},
   "outputs": [],
   "source": [
    "path = paths[0]"
   ]
  },
  {
   "cell_type": "code",
   "execution_count": null,
   "id": "7f48c430",
   "metadata": {},
   "outputs": [],
   "source": [
    "eu.dl.read_csv(path, sep=\",\", seq_col=seq_col, target_col=target_col, col_names=[seq_col,target_col], auto_name=True, compression=\"\")"
   ]
  }
 ],
 "metadata": {
  "kernelspec": {
   "display_name": "Python 3.7.12 ('eugene')",
   "language": "python",
   "name": "python3"
  },
  "language_info": {
   "codemirror_mode": {
    "name": "ipython",
    "version": 3
   },
   "file_extension": ".py",
   "mimetype": "text/x-python",
   "name": "python",
   "nbconvert_exporter": "python",
   "pygments_lexer": "ipython3",
   "version": "3.7.12"
  },
  "vscode": {
   "interpreter": {
    "hash": "1330bbbf2c4cf53098ef1254540d5dd54a9d501f0408fea1c04a20872667b797"
   }
  }
 },
 "nbformat": 4,
 "nbformat_minor": 5
}

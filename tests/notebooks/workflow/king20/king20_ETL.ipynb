{
 "cells": [
  {
   "cell_type": "markdown",
   "metadata": {},
   "source": [
    "# King et al 2020 E-T-L"
   ]
  },
  {
   "cell_type": "markdown",
   "metadata": {
    "tags": []
   },
   "source": [
    "**Authorship:**<br>\n",
    "Created by: Adam Klie, *11/18/2022*\n",
    "Last updated: Adam Klie, *11/18/2022*\n",
    "***\n",
    "**Description:**\n",
    "\n",
    "***"
   ]
  },
  {
   "cell_type": "code",
   "execution_count": 3,
   "metadata": {
    "execution": {
     "iopub.execute_input": "2022-11-19T18:29:18.162475Z",
     "iopub.status.busy": "2022-11-19T18:29:18.161504Z",
     "iopub.status.idle": "2022-11-19T18:29:22.325856Z",
     "shell.execute_reply": "2022-11-19T18:29:22.324709Z",
     "shell.execute_reply.started": "2022-11-19T18:29:18.162408Z"
    },
    "tags": []
   },
   "outputs": [
    {
     "name": "stdout",
     "output_type": "stream",
     "text": [
      "0.0.4\n"
     ]
    }
   ],
   "source": [
    "if 'autoreload' not in get_ipython().extension_manager.loaded:\n",
    "    %load_ext autoreload \n",
    "%autoreload 2\n",
    "\n",
    "import os\n",
    "import numpy as np\n",
    "import pandas as pd\n",
    "import eugene as eu\n",
    "\n",
    "# Configure EUGENe \n",
    "print(eu.__version__)\n",
    "eu.settings.dataset_dir = \"/cellar/users/aklie/data/eugene\" \n",
    "eu.settings.logging_dir = \"/cellar/users/aklie/projects/EUGENe/tests/_logs/king20\"\n",
    "eu.settings.output_dir = \"/cellar/users/aklie/projects/EUGENe/tests/_output/king20\""
   ]
  },
  {
   "cell_type": "markdown",
   "metadata": {},
   "source": [
    "# Load data"
   ]
  },
  {
   "cell_type": "markdown",
   "metadata": {
    "tags": []
   },
   "source": [
    "## `king20()` dataset function"
   ]
  },
  {
   "cell_type": "code",
   "execution_count": 278,
   "metadata": {
    "execution": {
     "iopub.execute_input": "2022-11-20T17:43:10.603923Z",
     "iopub.status.busy": "2022-11-20T17:43:10.603264Z",
     "iopub.status.idle": "2022-11-20T17:43:15.108076Z",
     "shell.execute_reply": "2022-11-20T17:43:15.107001Z",
     "shell.execute_reply.started": "2022-11-20T17:43:10.603879Z"
    },
    "tags": []
   },
   "outputs": [],
   "source": [
    "def king20(\n",
    "    dataset = \"SYN\", \n",
    "    return_sdata=True, \n",
    "    download_mm10=False,\n",
    "    **kwargs: dict\n",
    "):\n",
    "    urls_list = [\n",
    "        \"https://elifesciences.org/download/aHR0cHM6Ly9jZG4uZWxpZmVzY2llbmNlcy5vcmcvYXJ0aWNsZXMvNDEyNzkvZWxpZmUtNDEyNzktc3VwcDEtdjIueGxzeA--/elife-41279-supp1-v2.xlsx?_hash=nX7V5q5UXEGDbCoqhF23ru1RNUI14CBnHk27Cxlpgr4%3D\",\n",
    "        \"https://elifesciences.org/download/aHR0cHM6Ly9jZG4uZWxpZmVzY2llbmNlcy5vcmcvYXJ0aWNsZXMvNDEyNzkvZWxpZmUtNDEyNzktc3VwcDItdjIueGxzeA--/elife-41279-supp2-v2.xlsx?_hash=V%2FARKgB5fn%2FUe1zKqVdBFHuq7na8rU%2BuFcWIQQwnAPM%3D\",\n",
    "        \"https://elifesciences.org/download/aHR0cHM6Ly9jZG4uZWxpZmVzY2llbmNlcy5vcmcvYXJ0aWNsZXMvNDEyNzkvZWxpZmUtNDEyNzktc3VwcDQtdjIuZmFzdGE-/elife-41279-supp4-v2.fasta?_hash=HEFd7o2rJQ5Be4CHpN3L9SnE0zbrhhJah%2Fgao0poWG0%3D\",\n",
    "        \"https://ftp.ebi.ac.uk/pub/databases/gencode/Gencode_mouse/release_M31/GRCm39.genome.fa.gz\"\n",
    "    ]\n",
    "    paths = [\n",
    "        os.path.join(eu.settings.dataset_dir, \"king20\", \"design.xlsx\"),\n",
    "        os.path.join(eu.settings.dataset_dir, \"king20\", \"models.xlsx\"),\n",
    "        os.path.join(eu.settings.dataset_dir, \"king20\", \"GEN.fasta\"),\n",
    "        os.path.join(eu.settings.dataset_dir, \"king20\", \"GRCm39.genome.fa.gz\")\n",
    "    ]\n",
    "    \n",
    "    # Design excel\n",
    "    print(f\"Downloading king20 design spreadsheet to {paths[0]}\")\n",
    "    os.system(\"wget -q -O {0} {1}\".format(paths[0], urls_list[0]))\n",
    "    print(f\"Finished downloading king20 design spreadsheet to {paths[0]}\")\n",
    "    \n",
    "    # Mode excel\n",
    "    print(f\"Downloading king20 model spreadsheet to {paths[1]}\")\n",
    "    os.system(\"wget -q -O {0} {1}\".format(paths[1], urls_list[1]))\n",
    "    print(f\"Finished downloading king20 spreadsheet to {paths[1]}\")\n",
    "    \n",
    "    \n",
    "    if dataset == \"SYN\":\n",
    "        seq_tbl = pd.read_excel(paths[0], sheet_name=1)\n",
    "        seq_tbl_filt = seq_tbl[~seq_tbl[\"Sequence\"].duplicated()]\n",
    "        model_tbl = pd.read_excel(paths[1], sheet_name=4)\n",
    "        merged_tbl = pd.merge(seq_tbl_filt, model_tbl, on=\"Element_id\", how=\"outer\")\n",
    "    elif dataset == \"GEN\":\n",
    "        seq_tbl = pd.read_excel(paths[0], sheet_name=6)\n",
    "        seq_tbl_filt = seq_tbl[~seq_tbl[\"Element_id\"].duplicated()]\n",
    "        seq_tbl_wt = seq_tbl_filt[seq_tbl_filt[\"Element_id\"].str.contains(\"Genomic\")]\n",
    "        exp_summary = pd.read_excel(paths[0], sheet_name=7)\n",
    "        merged = pd.merge(seq_tbl_wt, exp_summary, on=\"Element_id\", how=\"left\")\n",
    "        bc_grouped = merged.groupby(\"Element_id\").agg(\"mean\")\n",
    "        CRE_norm_expression_WT_all = bc_grouped[[\"Rep1_Element_normalized\", \"Rep2_Element_normalized\",\"Rep3_Element_normalized\"]].mean(axis=1)\n",
    "        bc_grouped[\"CRE_norm_expression_WT_all\"] = CRE_norm_expression_WT_all\n",
    "        bc_grouped[\"Sequence\"] = merged.groupby(\"Element_id\").agg({\"Sequence\": lambda x: x.iloc[0]})[\"Sequence\"]\n",
    "        merged_tbl = bc_grouped.reset_index()[[\"Sequence\", \"Element_id\", \"CRE_norm_expression_WT_all\"]]\n",
    "        merged_tbl[\"Element_id\"] = merged_tbl[\"Element_id\"].str.replace(\"_Genomic\", \"\")\n",
    "        merged_tbl[\"Barcode\"] = \"NA\"\n",
    "        \n",
    "        print(f\"Downloading king20 gkmsvm fasta to {paths[2]}\")\n",
    "        os.system(\"wget -q -O {0} {1}\".format(paths[2], urls_list[2]))\n",
    "        print(f\"Finished downloading king20 gkmsvm fasta to {paths[2]}\")\n",
    "        \n",
    "        if download_mouse:\n",
    "            print(f\"Downloading mm10 fasta to {paths[2]}\")\n",
    "            os.system(\"wget -q -O {0} {1}\".format(paths[3], urls_list[3]))\n",
    "            print(f\"Finished downloading mm10 fasta to {paths[0]}\")\n",
    "    else:\n",
    "        raise ValueError(\"dataset must be either 'SYN' or 'GEN'.\")\n",
    "    if return_sdata:\n",
    "        seq_col = \"Sequence\"\n",
    "        sdata = eu.dl.SeqData(\n",
    "            seqs=merged_tbl[\"Sequence\"],\n",
    "            names=merged_tbl[\"Element_id\"],\n",
    "            seqs_annot=merged_tbl.drop([\"Barcode\", \"Sequence\"], axis=1).set_index(\"Element_id\")\n",
    "        )\n",
    "        return sdata\n",
    "    else:\n",
    "        return paths"
   ]
  },
  {
   "cell_type": "code",
   "execution_count": 280,
   "metadata": {
    "execution": {
     "iopub.execute_input": "2022-11-20T17:43:54.362431Z",
     "iopub.status.busy": "2022-11-20T17:43:54.362038Z",
     "iopub.status.idle": "2022-11-20T18:13:17.890406Z",
     "shell.execute_reply": "2022-11-20T18:13:17.889101Z",
     "shell.execute_reply.started": "2022-11-20T17:43:54.362387Z"
    },
    "tags": []
   },
   "outputs": [
    {
     "name": "stdout",
     "output_type": "stream",
     "text": [
      "Downloading king20 design spreadsheet to /cellar/users/aklie/data/eugene/king20/design.xlsx\n",
      "Finished downloading king20 design spreadsheet to /cellar/users/aklie/data/eugene/king20/design.xlsx\n",
      "Downloading king20 model spreadsheet to /cellar/users/aklie/data/eugene/king20/models.xlsx\n",
      "Finished downloading king20 spreadsheet to /cellar/users/aklie/data/eugene/king20/models.xlsx\n",
      "Downloading king20 gkmsvm fasta to /cellar/users/aklie/data/eugene/king20/GEN.fasta\n",
      "Finished downloading king20 gkmsvm fasta to /cellar/users/aklie/data/eugene/king20/GEN.fasta\n",
      "Downloading mm10 fasta to /cellar/users/aklie/data/eugene/king20/GEN.fasta\n",
      "Finished downloading mm10 fasta to /cellar/users/aklie/data/eugene/king20/design.xlsx\n"
     ]
    }
   ],
   "source": [
    "sdata = king20(\"GEN\")"
   ]
  },
  {
   "cell_type": "code",
   "execution_count": 283,
   "metadata": {
    "execution": {
     "iopub.execute_input": "2022-11-20T18:13:27.141697Z",
     "iopub.status.busy": "2022-11-20T18:13:27.141283Z",
     "iopub.status.idle": "2022-11-20T18:13:31.853281Z",
     "shell.execute_reply": "2022-11-20T18:13:31.852030Z",
     "shell.execute_reply.started": "2022-11-20T18:13:27.141663Z"
    }
   },
   "outputs": [
    {
     "data": {
      "text/plain": [
       "SeqData object with = 403 seqs\n",
       "seqs = (403,)\n",
       "names = (403,)\n",
       "rev_seqs = None\n",
       "ohe_seqs = None\n",
       "ohe_rev_seqs = None\n",
       "seqs_annot: 'CRE_norm_expression_WT_all', 'chr', 'start', 'end'\n",
       "pos_annot: None\n",
       "seqsm: None\n",
       "uns: None"
      ]
     },
     "execution_count": 283,
     "metadata": {},
     "output_type": "execute_result"
    }
   ],
   "source": [
    "sdata"
   ]
  },
  {
   "cell_type": "code",
   "execution_count": 281,
   "metadata": {
    "execution": {
     "iopub.execute_input": "2022-11-20T18:13:17.894519Z",
     "iopub.status.busy": "2022-11-20T18:13:17.893707Z",
     "iopub.status.idle": "2022-11-20T18:13:22.530619Z",
     "shell.execute_reply": "2022-11-20T18:13:22.529610Z",
     "shell.execute_reply.started": "2022-11-20T18:13:17.894440Z"
    },
    "tags": []
   },
   "outputs": [
    {
     "name": "stdout",
     "output_type": "stream",
     "text": [
      "SeqData object modified:\n",
      "    seqs_annot:\n",
      "        + start, end, chr\n"
     ]
    }
   ],
   "source": [
    "eu.pp.add_ranges_sdata(sdata)"
   ]
  },
  {
   "cell_type": "code",
   "execution_count": 282,
   "metadata": {
    "execution": {
     "iopub.execute_input": "2022-11-20T18:13:22.532304Z",
     "iopub.status.busy": "2022-11-20T18:13:22.531853Z",
     "iopub.status.idle": "2022-11-20T18:13:27.138882Z",
     "shell.execute_reply": "2022-11-20T18:13:27.137499Z",
     "shell.execute_reply.started": "2022-11-20T18:13:22.532272Z"
    },
    "tags": []
   },
   "outputs": [
    {
     "data": {
      "text/html": [
       "<div>\n",
       "<style scoped>\n",
       "    .dataframe tbody tr th:only-of-type {\n",
       "        vertical-align: middle;\n",
       "    }\n",
       "\n",
       "    .dataframe tbody tr th {\n",
       "        vertical-align: top;\n",
       "    }\n",
       "\n",
       "    .dataframe thead th {\n",
       "        text-align: right;\n",
       "    }\n",
       "</style>\n",
       "<table border=\"1\" class=\"dataframe\">\n",
       "  <thead>\n",
       "    <tr style=\"text-align: right;\">\n",
       "      <th></th>\n",
       "      <th>CRE_norm_expression_WT_all</th>\n",
       "      <th>chr</th>\n",
       "      <th>start</th>\n",
       "      <th>end</th>\n",
       "    </tr>\n",
       "    <tr>\n",
       "      <th>Element_id</th>\n",
       "      <th></th>\n",
       "      <th></th>\n",
       "      <th></th>\n",
       "      <th></th>\n",
       "    </tr>\n",
       "  </thead>\n",
       "  <tbody>\n",
       "    <tr>\n",
       "      <th>chr10:108456620-108456701</th>\n",
       "      <td>2.292053</td>\n",
       "      <td>chr10</td>\n",
       "      <td>108456620</td>\n",
       "      <td>108456701</td>\n",
       "    </tr>\n",
       "    <tr>\n",
       "      <th>chr10:110940873-110940954</th>\n",
       "      <td>1.026702</td>\n",
       "      <td>chr10</td>\n",
       "      <td>110940873</td>\n",
       "      <td>110940954</td>\n",
       "    </tr>\n",
       "    <tr>\n",
       "      <th>chr10:115312950-115313031</th>\n",
       "      <td>1.818395</td>\n",
       "      <td>chr10</td>\n",
       "      <td>115312950</td>\n",
       "      <td>115313031</td>\n",
       "    </tr>\n",
       "    <tr>\n",
       "      <th>chr10:128631710-128631792</th>\n",
       "      <td>1.059821</td>\n",
       "      <td>chr10</td>\n",
       "      <td>128631710</td>\n",
       "      <td>128631792</td>\n",
       "    </tr>\n",
       "    <tr>\n",
       "      <th>chr10:18597642-18597724</th>\n",
       "      <td>0.827090</td>\n",
       "      <td>chr10</td>\n",
       "      <td>18597642</td>\n",
       "      <td>18597724</td>\n",
       "    </tr>\n",
       "    <tr>\n",
       "      <th>...</th>\n",
       "      <td>...</td>\n",
       "      <td>...</td>\n",
       "      <td>...</td>\n",
       "      <td>...</td>\n",
       "    </tr>\n",
       "    <tr>\n",
       "      <th>chr9:9961010-9961092</th>\n",
       "      <td>1.022724</td>\n",
       "      <td>chr9</td>\n",
       "      <td>9961010</td>\n",
       "      <td>9961092</td>\n",
       "    </tr>\n",
       "    <tr>\n",
       "      <th>chrX:114694676-114694758</th>\n",
       "      <td>1.952495</td>\n",
       "      <td>chrX</td>\n",
       "      <td>114694676</td>\n",
       "      <td>114694758</td>\n",
       "    </tr>\n",
       "    <tr>\n",
       "      <th>chrX:134296640-134296721</th>\n",
       "      <td>1.326962</td>\n",
       "      <td>chrX</td>\n",
       "      <td>134296640</td>\n",
       "      <td>134296721</td>\n",
       "    </tr>\n",
       "    <tr>\n",
       "      <th>chrX:42432096-42432178</th>\n",
       "      <td>1.432373</td>\n",
       "      <td>chrX</td>\n",
       "      <td>42432096</td>\n",
       "      <td>42432178</td>\n",
       "    </tr>\n",
       "    <tr>\n",
       "      <th>chrX:51684780-51684862</th>\n",
       "      <td>0.950248</td>\n",
       "      <td>chrX</td>\n",
       "      <td>51684780</td>\n",
       "      <td>51684862</td>\n",
       "    </tr>\n",
       "  </tbody>\n",
       "</table>\n",
       "<p>403 rows × 4 columns</p>\n",
       "</div>"
      ],
      "text/plain": [
       "                           CRE_norm_expression_WT_all    chr      start  \\\n",
       "Element_id                                                                \n",
       "chr10:108456620-108456701                    2.292053  chr10  108456620   \n",
       "chr10:110940873-110940954                    1.026702  chr10  110940873   \n",
       "chr10:115312950-115313031                    1.818395  chr10  115312950   \n",
       "chr10:128631710-128631792                    1.059821  chr10  128631710   \n",
       "chr10:18597642-18597724                      0.827090  chr10   18597642   \n",
       "...                                               ...    ...        ...   \n",
       "chr9:9961010-9961092                         1.022724   chr9    9961010   \n",
       "chrX:114694676-114694758                     1.952495   chrX  114694676   \n",
       "chrX:134296640-134296721                     1.326962   chrX  134296640   \n",
       "chrX:42432096-42432178                       1.432373   chrX   42432096   \n",
       "chrX:51684780-51684862                       0.950248   chrX   51684780   \n",
       "\n",
       "                                 end  \n",
       "Element_id                            \n",
       "chr10:108456620-108456701  108456701  \n",
       "chr10:110940873-110940954  110940954  \n",
       "chr10:115312950-115313031  115313031  \n",
       "chr10:128631710-128631792  128631792  \n",
       "chr10:18597642-18597724     18597724  \n",
       "...                              ...  \n",
       "chr9:9961010-9961092         9961092  \n",
       "chrX:114694676-114694758   114694758  \n",
       "chrX:134296640-134296721   134296721  \n",
       "chrX:42432096-42432178      42432178  \n",
       "chrX:51684780-51684862      51684862  \n",
       "\n",
       "[403 rows x 4 columns]"
      ]
     },
     "execution_count": 282,
     "metadata": {},
     "output_type": "execute_result"
    }
   ],
   "source": [
    "sdata.seqs_annot"
   ]
  },
  {
   "cell_type": "code",
   "execution_count": 294,
   "metadata": {
    "execution": {
     "iopub.execute_input": "2022-11-20T18:28:29.613030Z",
     "iopub.status.busy": "2022-11-20T18:28:29.612591Z",
     "iopub.status.idle": "2022-11-20T18:28:34.029688Z",
     "shell.execute_reply": "2022-11-20T18:28:34.028720Z",
     "shell.execute_reply.started": "2022-11-20T18:28:29.612993Z"
    },
    "tags": []
   },
   "outputs": [
    {
     "data": {
      "text/plain": [
       "[<Bio.motifs.jaspar.Motif at 0x1553c252c890>,\n",
       " <Bio.motifs.jaspar.Motif at 0x1553c252cb10>,\n",
       " <Bio.motifs.jaspar.Motif at 0x1553c252c310>,\n",
       " <Bio.motifs.jaspar.Motif at 0x1553b2d40f50>]"
      ]
     },
     "execution_count": 294,
     "metadata": {},
     "output_type": "execute_result"
    }
   ],
   "source": [
    "eu.dl.motif.get_jaspar_motifs(motif_accs=[\"MA0627.1\", \"MA0143.3\", \"MA0141.1\", \"MA0039.2\"])"
   ]
  },
  {
   "cell_type": "code",
   "execution_count": 296,
   "metadata": {
    "execution": {
     "iopub.execute_input": "2022-11-20T18:29:59.106339Z",
     "iopub.status.busy": "2022-11-20T18:29:59.105976Z",
     "iopub.status.idle": "2022-11-20T18:30:04.556303Z",
     "shell.execute_reply": "2022-11-20T18:30:04.555424Z",
     "shell.execute_reply.started": "2022-11-20T18:29:59.106304Z"
    },
    "tags": []
   },
   "outputs": [
    {
     "name": "stdout",
     "output_type": "stream",
     "text": [
      "Saved PWM File as : /cellar/users/aklie/data/eugene/king20/motifs.meme\n"
     ]
    }
   ],
   "source": [
    "eu.dl.motif.jaspar_annots_sdata(\n",
    "    sdata,\n",
    "    motif_accs=[\"MA0627.1\", \"MA0143.3\", \"MA0141.1\", \"MA0039.2\"],\n",
    "    filename=\"/cellar/users/aklie/data/eugene/king20/motifs.meme\"\n",
    ")"
   ]
  },
  {
   "cell_type": "code",
   "execution_count": 298,
   "metadata": {
    "execution": {
     "iopub.execute_input": "2022-11-20T18:30:32.312299Z",
     "iopub.status.busy": "2022-11-20T18:30:32.311911Z",
     "iopub.status.idle": "2022-11-20T18:30:37.661564Z",
     "shell.execute_reply": "2022-11-20T18:30:37.660733Z",
     "shell.execute_reply.started": "2022-11-20T18:30:32.312265Z"
    },
    "tags": []
   },
   "outputs": [
    {
     "data": {
      "text/html": [
       "<div>\n",
       "<style scoped>\n",
       "    .dataframe tbody tr th:only-of-type {\n",
       "        vertical-align: middle;\n",
       "    }\n",
       "\n",
       "    .dataframe tbody tr th {\n",
       "        vertical-align: top;\n",
       "    }\n",
       "\n",
       "    .dataframe thead th {\n",
       "        text-align: right;\n",
       "    }\n",
       "</style>\n",
       "<table border=\"1\" class=\"dataframe\">\n",
       "  <thead>\n",
       "    <tr style=\"text-align: right;\">\n",
       "      <th></th>\n",
       "      <th>Chromosome</th>\n",
       "      <th>Start</th>\n",
       "      <th>End</th>\n",
       "      <th>Strand</th>\n",
       "      <th>Score</th>\n",
       "      <th>Pvalue</th>\n",
       "      <th>Qvalue</th>\n",
       "      <th>Accession</th>\n",
       "      <th>Name</th>\n",
       "    </tr>\n",
       "  </thead>\n",
       "  <tbody>\n",
       "    <tr>\n",
       "      <th>0</th>\n",
       "      <td>chr1:20908643-20908725</td>\n",
       "      <td>14</td>\n",
       "      <td>21</td>\n",
       "      <td>+</td>\n",
       "      <td>12.989796</td>\n",
       "      <td>0.000071</td>\n",
       "      <td>0.064660</td>\n",
       "      <td>MA0143</td>\n",
       "      <td>Sox2</td>\n",
       "    </tr>\n",
       "    <tr>\n",
       "      <th>1</th>\n",
       "      <td>chr1:20908643-20908725</td>\n",
       "      <td>73</td>\n",
       "      <td>62</td>\n",
       "      <td>-</td>\n",
       "      <td>14.846939</td>\n",
       "      <td>0.000006</td>\n",
       "      <td>0.009156</td>\n",
       "      <td>MA0141</td>\n",
       "      <td>Esrrb</td>\n",
       "    </tr>\n",
       "    <tr>\n",
       "      <th>2</th>\n",
       "      <td>chr1:36105279-36105361</td>\n",
       "      <td>51</td>\n",
       "      <td>40</td>\n",
       "      <td>-</td>\n",
       "      <td>16.173469</td>\n",
       "      <td>0.000001</td>\n",
       "      <td>0.006548</td>\n",
       "      <td>MA0141</td>\n",
       "      <td>Esrrb</td>\n",
       "    </tr>\n",
       "    <tr>\n",
       "      <th>3</th>\n",
       "      <td>chr1:38418914-38418996</td>\n",
       "      <td>35</td>\n",
       "      <td>46</td>\n",
       "      <td>+</td>\n",
       "      <td>16.020408</td>\n",
       "      <td>0.000002</td>\n",
       "      <td>0.006601</td>\n",
       "      <td>MA0141</td>\n",
       "      <td>Esrrb</td>\n",
       "    </tr>\n",
       "    <tr>\n",
       "      <th>4</th>\n",
       "      <td>chr1:39459379-39459460</td>\n",
       "      <td>20</td>\n",
       "      <td>27</td>\n",
       "      <td>+</td>\n",
       "      <td>13.530612</td>\n",
       "      <td>0.000044</td>\n",
       "      <td>0.064660</td>\n",
       "      <td>MA0143</td>\n",
       "      <td>Sox2</td>\n",
       "    </tr>\n",
       "    <tr>\n",
       "      <th>...</th>\n",
       "      <td>...</td>\n",
       "      <td>...</td>\n",
       "      <td>...</td>\n",
       "      <td>...</td>\n",
       "      <td>...</td>\n",
       "      <td>...</td>\n",
       "      <td>...</td>\n",
       "      <td>...</td>\n",
       "      <td>...</td>\n",
       "    </tr>\n",
       "    <tr>\n",
       "      <th>346</th>\n",
       "      <td>chr19:37401085-37401167</td>\n",
       "      <td>57</td>\n",
       "      <td>68</td>\n",
       "      <td>+</td>\n",
       "      <td>14.897959</td>\n",
       "      <td>0.000006</td>\n",
       "      <td>0.008804</td>\n",
       "      <td>MA0141</td>\n",
       "      <td>Esrrb</td>\n",
       "    </tr>\n",
       "    <tr>\n",
       "      <th>347</th>\n",
       "      <td>chr19:43606979-43607060</td>\n",
       "      <td>36</td>\n",
       "      <td>25</td>\n",
       "      <td>-</td>\n",
       "      <td>10.479592</td>\n",
       "      <td>0.000084</td>\n",
       "      <td>0.036812</td>\n",
       "      <td>MA0141</td>\n",
       "      <td>Esrrb</td>\n",
       "    </tr>\n",
       "    <tr>\n",
       "      <th>348</th>\n",
       "      <td>chrX:114694676-114694758</td>\n",
       "      <td>52</td>\n",
       "      <td>63</td>\n",
       "      <td>+</td>\n",
       "      <td>11.775510</td>\n",
       "      <td>0.000042</td>\n",
       "      <td>0.024820</td>\n",
       "      <td>MA0141</td>\n",
       "      <td>Esrrb</td>\n",
       "    </tr>\n",
       "    <tr>\n",
       "      <th>349</th>\n",
       "      <td>chrX:114694676-114694758</td>\n",
       "      <td>56</td>\n",
       "      <td>41</td>\n",
       "      <td>-</td>\n",
       "      <td>14.242424</td>\n",
       "      <td>0.000009</td>\n",
       "      <td>0.043782</td>\n",
       "      <td>MA0627</td>\n",
       "      <td>Pou2f3</td>\n",
       "    </tr>\n",
       "    <tr>\n",
       "      <th>350</th>\n",
       "      <td>chrX:134296640-134296721</td>\n",
       "      <td>16</td>\n",
       "      <td>27</td>\n",
       "      <td>+</td>\n",
       "      <td>15.918367</td>\n",
       "      <td>0.000002</td>\n",
       "      <td>0.006601</td>\n",
       "      <td>MA0141</td>\n",
       "      <td>Esrrb</td>\n",
       "    </tr>\n",
       "  </tbody>\n",
       "</table>\n",
       "<p>351 rows × 9 columns</p>\n",
       "</div>"
      ],
      "text/plain": [
       "+--------------------------+-----------+-----------+--------------+-------+\n",
       "| Chromosome               | Start     | End       | Strand       | +5    |\n",
       "| (category)               | (int32)   | (int32)   | (category)   | ...   |\n",
       "|--------------------------+-----------+-----------+--------------+-------|\n",
       "| chr1:20908643-20908725   | 14        | 21        | +            | ...   |\n",
       "| chr1:20908643-20908725   | 73        | 62        | -            | ...   |\n",
       "| chr1:36105279-36105361   | 51        | 40        | -            | ...   |\n",
       "| chr1:38418914-38418996   | 35        | 46        | +            | ...   |\n",
       "| ...                      | ...       | ...       | ...          | ...   |\n",
       "| chr19:43606979-43607060  | 36        | 25        | -            | ...   |\n",
       "| chrX:114694676-114694758 | 52        | 63        | +            | ...   |\n",
       "| chrX:114694676-114694758 | 56        | 41        | -            | ...   |\n",
       "| chrX:134296640-134296721 | 16        | 27        | +            | ...   |\n",
       "+--------------------------+-----------+-----------+--------------+-------+\n",
       "Stranded PyRanges object has 351 rows and 9 columns from 265 chromosomes.\n",
       "For printing, the PyRanges was sorted on Chromosome and Strand.\n",
       "5 hidden columns: Score, Pvalue, Qvalue, Accession, Name"
      ]
     },
     "execution_count": 298,
     "metadata": {},
     "output_type": "execute_result"
    }
   ],
   "source": [
    "sdata.pos_annot"
   ]
  },
  {
   "cell_type": "code",
   "execution_count": 299,
   "metadata": {
    "execution": {
     "iopub.execute_input": "2022-11-20T18:34:21.312176Z",
     "iopub.status.busy": "2022-11-20T18:34:21.311686Z",
     "iopub.status.idle": "2022-11-20T18:34:25.953285Z",
     "shell.execute_reply": "2022-11-20T18:34:25.952312Z",
     "shell.execute_reply.started": "2022-11-20T18:34:21.312125Z"
    }
   },
   "outputs": [],
   "source": [
    "from pymemesuite.fimo import FIMO"
   ]
  },
  {
   "cell_type": "code",
   "execution_count": 300,
   "metadata": {
    "execution": {
     "iopub.execute_input": "2022-11-20T18:34:30.312111Z",
     "iopub.status.busy": "2022-11-20T18:34:30.311732Z",
     "iopub.status.idle": "2022-11-20T18:34:34.881387Z",
     "shell.execute_reply": "2022-11-20T18:34:34.879964Z",
     "shell.execute_reply.started": "2022-11-20T18:34:30.312065Z"
    }
   },
   "outputs": [
    {
     "data": {
      "text/plain": [
       "\u001b[0;31mInit signature:\u001b[0m\n",
       "\u001b[0mFIMO\u001b[0m\u001b[0;34m(\u001b[0m\u001b[0;34m\u001b[0m\n",
       "\u001b[0;34m\u001b[0m    \u001b[0mself\u001b[0m\u001b[0;34m,\u001b[0m\u001b[0;34m\u001b[0m\n",
       "\u001b[0;34m\u001b[0m    \u001b[0;34m*\u001b[0m\u001b[0;34m,\u001b[0m\u001b[0;34m\u001b[0m\n",
       "\u001b[0;34m\u001b[0m    \u001b[0malpha\u001b[0m\u001b[0;34m=\u001b[0m\u001b[0;36m1.0\u001b[0m\u001b[0;34m,\u001b[0m\u001b[0;34m\u001b[0m\n",
       "\u001b[0;34m\u001b[0m    \u001b[0mboth_strands\u001b[0m\u001b[0;34m=\u001b[0m\u001b[0;32mTrue\u001b[0m\u001b[0;34m,\u001b[0m\u001b[0;34m\u001b[0m\n",
       "\u001b[0;34m\u001b[0m    \u001b[0mthreshold\u001b[0m\u001b[0;34m=\u001b[0m\u001b[0;36m0.0001\u001b[0m\u001b[0;34m,\u001b[0m\u001b[0;34m\u001b[0m\n",
       "\u001b[0;34m\u001b[0m    \u001b[0mmax_stored_scores\u001b[0m\u001b[0;34m=\u001b[0m\u001b[0;36m100000\u001b[0m\u001b[0;34m,\u001b[0m\u001b[0;34m\u001b[0m\n",
       "\u001b[0;34m\u001b[0m\u001b[0;34m)\u001b[0m\u001b[0;34m\u001b[0m\u001b[0;34m\u001b[0m\u001b[0m\n",
       "\u001b[0;31mDocstring:\u001b[0m      <no docstring>\n",
       "\u001b[0;31mInit docstring:\u001b[0m\n",
       "Create a new FIMO runner.\n",
       "\n",
       "Keyword Arguments:\n",
       "    alpha (`float`): The scale factor for non-specific priors,\n",
       "    both_strands (`bool`): Whether or not to run the motif scan on\n",
       "        both segments.\n",
       "    threshold (`float`): The p-value above which matches are\n",
       "        marked as non-significant and discarded.\n",
       "    max_scored_scores (`int`): The maximum number of scored sites\n",
       "        to keep in the result `Pattern`. Using a smaller number\n",
       "        will reduce memory consumption at the cost of statistical\n",
       "        accuracy, and significant results may be lost.\n",
       "\u001b[0;31mFile:\u001b[0m           ~/opt/miniconda3/envs/eugene_dev/lib/python3.7/site-packages/pymemesuite/fimo.cpython-37m-x86_64-linux-gnu.so\n",
       "\u001b[0;31mType:\u001b[0m           type\n",
       "\u001b[0;31mSubclasses:\u001b[0m     \n"
      ]
     },
     "metadata": {},
     "output_type": "display_data"
    }
   ],
   "source": [
    "FIMO?"
   ]
  },
  {
   "cell_type": "markdown",
   "metadata": {
    "tags": []
   },
   "source": [
    "## Data Visualization"
   ]
  },
  {
   "cell_type": "code",
   "execution_count": 123,
   "metadata": {
    "execution": {
     "iopub.execute_input": "2022-11-19T19:03:07.485224Z",
     "iopub.status.busy": "2022-11-19T19:03:07.484833Z",
     "iopub.status.idle": "2022-11-19T19:03:12.135751Z",
     "shell.execute_reply": "2022-11-19T19:03:12.134100Z",
     "shell.execute_reply.started": "2022-11-19T19:03:07.485193Z"
    },
    "tags": []
   },
   "outputs": [],
   "source": [
    "# Add this to sanitize seqs\n",
    "sdata = sdata[~np.array([seq is np.nan for seq in sdata.seqs])]"
   ]
  },
  {
   "cell_type": "code",
   "execution_count": 124,
   "metadata": {
    "execution": {
     "iopub.execute_input": "2022-11-19T19:03:12.138579Z",
     "iopub.status.busy": "2022-11-19T19:03:12.137873Z",
     "iopub.status.idle": "2022-11-19T19:03:17.227003Z",
     "shell.execute_reply": "2022-11-19T19:03:17.226229Z",
     "shell.execute_reply.started": "2022-11-19T19:03:12.138521Z"
    },
    "tags": []
   },
   "outputs": [
    {
     "data": {
      "image/png": "[encoded data removed]",
      "text/plain": [
       "<Figure size 1000x500 with 1 Axes>"
      ]
     },
     "metadata": {},
     "output_type": "display_data"
    }
   ],
   "source": [
    "# Add this to some kind of preprocess seqs or seqs metrics\n",
    "sdata[\"seq_len\"] = [len(seq) for seq in sdata.seqs]\n",
    "eu.pl.histplot(\n",
    "    sdata, \n",
    "    keys=\"seq_len\", \n",
    "    orient=\"h\"\n",
    ")"
   ]
  },
  {
   "cell_type": "code",
   "execution_count": 125,
   "metadata": {
    "execution": {
     "iopub.execute_input": "2022-11-19T19:03:17.229231Z",
     "iopub.status.busy": "2022-11-19T19:03:17.228947Z",
     "iopub.status.idle": "2022-11-19T19:03:22.438093Z",
     "shell.execute_reply": "2022-11-19T19:03:22.437266Z",
     "shell.execute_reply.started": "2022-11-19T19:03:17.229203Z"
    },
    "tags": []
   },
   "outputs": [
    {
     "name": "stdout",
     "output_type": "stream",
     "text": [
      "12\n"
     ]
    },
    {
     "data": {
      "image/png": "[encoded data removed]",
      "text/plain": [
       "<Figure size 1000x500 with 1 Axes>"
      ]
     },
     "metadata": {},
     "output_type": "display_data"
    }
   ],
   "source": [
    "# Chceck the potential target to start\n",
    "eu.pl.histplot(\n",
    "    sdata,\n",
    "    keys=\"CRE_normalized_mean\",\n",
    "    orient=\"h\"\n",
    ")\n",
    "print(sdata[\"CRE_normalized_mean\"].isna().sum())"
   ]
  },
  {
   "cell_type": "markdown",
   "metadata": {
    "tags": []
   },
   "source": [
    "## Preprocessing"
   ]
  },
  {
   "cell_type": "code",
   "execution_count": 126,
   "metadata": {
    "execution": {
     "iopub.execute_input": "2022-11-19T19:03:22.439587Z",
     "iopub.status.busy": "2022-11-19T19:03:22.439215Z",
     "iopub.status.idle": "2022-11-19T19:03:27.160361Z",
     "shell.execute_reply": "2022-11-19T19:03:27.159487Z",
     "shell.execute_reply.started": "2022-11-19T19:03:22.439556Z"
    },
    "tags": []
   },
   "outputs": [
    {
     "data": {
      "application/vnd.jupyter.widget-view+json": {
       "model_id": "8767bad5aafc484397c207cfd3478c13",
       "version_major": 2,
       "version_minor": 0
      },
      "text/plain": [
       "One-hot encoding sequences:   0%|          | 0/636 [00:00<?, ?it/s]"
      ]
     },
     "metadata": {},
     "output_type": "display_data"
    },
    {
     "name": "stdout",
     "output_type": "stream",
     "text": [
      "SeqData object modified:\n",
      "\tohe_seqs: None -> 636 ohe_seqs added\n"
     ]
    }
   ],
   "source": [
    "# One-hot-encode, though this is no bueno\n",
    "eu.pp.ohe_seqs_sdata(sdata, maxlen=sdata[\"seq_len\"].max())"
   ]
  },
  {
   "cell_type": "code",
   "execution_count": 127,
   "metadata": {
    "execution": {
     "iopub.execute_input": "2022-11-19T19:03:27.161885Z",
     "iopub.status.busy": "2022-11-19T19:03:27.161519Z",
     "iopub.status.idle": "2022-11-19T19:03:31.777193Z",
     "shell.execute_reply": "2022-11-19T19:03:31.775908Z",
     "shell.execute_reply.started": "2022-11-19T19:03:27.161855Z"
    },
    "tags": []
   },
   "outputs": [],
   "source": [
    "# Add function registry for normalization\n",
    "sdata[\"log_CRE_normalized_mean\"] = np.log2(sdata[\"CRE_normalized_mean\"])"
   ]
  },
  {
   "cell_type": "code",
   "execution_count": 128,
   "metadata": {
    "execution": {
     "iopub.execute_input": "2022-11-19T19:03:31.782175Z",
     "iopub.status.busy": "2022-11-19T19:03:31.781787Z",
     "iopub.status.idle": "2022-11-19T19:03:37.395367Z",
     "shell.execute_reply": "2022-11-19T19:03:37.394476Z",
     "shell.execute_reply.started": "2022-11-19T19:03:31.782136Z"
    },
    "tags": []
   },
   "outputs": [
    {
     "data": {
      "image/png": "[encoded data removed]",
      "text/plain": [
       "<Figure size 1000x500 with 1 Axes>"
      ]
     },
     "metadata": {},
     "output_type": "display_data"
    }
   ],
   "source": [
    "# Check log normalization\n",
    "eu.pl.histplot(\n",
    "    sdata,\n",
    "    keys=\"log_CRE_normalized_mean\",\n",
    "    orient=\"h\",\n",
    "    bins=100\n",
    ")"
   ]
  },
  {
   "cell_type": "code",
   "execution_count": 129,
   "metadata": {
    "execution": {
     "iopub.execute_input": "2022-11-19T19:03:37.396805Z",
     "iopub.status.busy": "2022-11-19T19:03:37.396439Z",
     "iopub.status.idle": "2022-11-19T19:03:41.946847Z",
     "shell.execute_reply": "2022-11-19T19:03:41.945745Z",
     "shell.execute_reply.started": "2022-11-19T19:03:37.396776Z"
    },
    "tags": []
   },
   "outputs": [],
   "source": [
    "# Clean up features to use\n",
    "sdata.seqs_annot = sdata.seqs_annot.replace({True: 1, False: 0})"
   ]
  },
  {
   "cell_type": "code",
   "execution_count": 130,
   "metadata": {
    "execution": {
     "iopub.execute_input": "2022-11-19T19:03:41.948528Z",
     "iopub.status.busy": "2022-11-19T19:03:41.948092Z",
     "iopub.status.idle": "2022-11-19T19:03:46.630874Z",
     "shell.execute_reply": "2022-11-19T19:03:46.629345Z",
     "shell.execute_reply.started": "2022-11-19T19:03:41.948495Z"
    },
    "tags": []
   },
   "outputs": [
    {
     "name": "stdout",
     "output_type": "stream",
     "text": [
      "SeqData object modified:\n",
      "    seqs_annot:\n",
      "        + train_val\n"
     ]
    }
   ],
   "source": [
    "eu.pp.train_test_split_sdata(sdata, split=0.5)"
   ]
  },
  {
   "cell_type": "code",
   "execution_count": 131,
   "metadata": {
    "execution": {
     "iopub.execute_input": "2022-11-19T19:03:46.637017Z",
     "iopub.status.busy": "2022-11-19T19:03:46.636648Z",
     "iopub.status.idle": "2022-11-19T19:03:51.218115Z",
     "shell.execute_reply": "2022-11-19T19:03:51.217124Z",
     "shell.execute_reply.started": "2022-11-19T19:03:46.636983Z"
    },
    "tags": []
   },
   "outputs": [],
   "source": [
    "nan_mask = np.isnan(sdata[\"log_CRE_normalized_mean\"])\n",
    "sdata = sdata[~nan_mask]"
   ]
  },
  {
   "cell_type": "code",
   "execution_count": 132,
   "metadata": {
    "execution": {
     "iopub.execute_input": "2022-11-19T19:03:51.220044Z",
     "iopub.status.busy": "2022-11-19T19:03:51.219534Z",
     "iopub.status.idle": "2022-11-19T19:03:55.884730Z",
     "shell.execute_reply": "2022-11-19T19:03:55.883748Z",
     "shell.execute_reply.started": "2022-11-19T19:03:51.220008Z"
    },
    "tags": []
   },
   "outputs": [
    {
     "data": {
      "text/plain": [
       "SeqData object with = 624 seqs\n",
       "seqs = (624,)\n",
       "names = (624,)\n",
       "rev_seqs = None\n",
       "ohe_seqs = (624, 4, 80)\n",
       "ohe_rev_seqs = None\n",
       "seqs_annot: 'Sequence', 'Element_id_simplified', 'Class', 'CRE_normalized_mean', 'O_presence', 'S_presence', 'K_presence', 'E_presence', 'Position.4_O', 'Position.4_S', 'Position.4_K', 'Position.4_E', 'Position.3_O', 'Position.3_S', 'Position.3_K', 'Position.3_E', 'Position.2_O', 'Position.2_S', 'Position.2_K', 'Position.2_E', 'Position.1_O', 'Position.1_S', 'Position.1_K', 'Position.1_E', 'seq_len', 'log_CRE_normalized_mean', 'train_val'\n",
       "pos_annot: None\n",
       "seqsm: None\n",
       "uns: None"
      ]
     },
     "execution_count": 132,
     "metadata": {},
     "output_type": "execute_result"
    }
   ],
   "source": [
    "sdata"
   ]
  },
  {
   "cell_type": "markdown",
   "metadata": {},
   "source": [
    "# Training"
   ]
  },
  {
   "cell_type": "markdown",
   "metadata": {},
   "source": [
    "## Initialization"
   ]
  },
  {
   "cell_type": "code",
   "execution_count": 133,
   "metadata": {
    "execution": {
     "iopub.execute_input": "2022-11-19T19:03:55.886281Z",
     "iopub.status.busy": "2022-11-19T19:03:55.885841Z",
     "iopub.status.idle": "2022-11-19T19:04:00.041655Z",
     "shell.execute_reply": "2022-11-19T19:04:00.040650Z",
     "shell.execute_reply.started": "2022-11-19T19:03:55.886250Z"
    },
    "tags": []
   },
   "outputs": [],
   "source": [
    "from sklearn.ensemble import RandomForestRegressor"
   ]
  },
  {
   "cell_type": "code",
   "execution_count": 134,
   "metadata": {
    "execution": {
     "iopub.execute_input": "2022-11-19T19:04:00.045110Z",
     "iopub.status.busy": "2022-11-19T19:04:00.044695Z",
     "iopub.status.idle": "2022-11-19T19:04:04.193724Z",
     "shell.execute_reply": "2022-11-19T19:04:04.192679Z",
     "shell.execute_reply.started": "2022-11-19T19:04:00.045052Z"
    },
    "tags": []
   },
   "outputs": [],
   "source": [
    "model = RandomForestRegressor(random_state=13)"
   ]
  },
  {
   "cell_type": "markdown",
   "metadata": {},
   "source": [
    "## `fit()`"
   ]
  },
  {
   "cell_type": "code",
   "execution_count": 135,
   "metadata": {
    "execution": {
     "iopub.execute_input": "2022-11-19T19:04:04.195442Z",
     "iopub.status.busy": "2022-11-19T19:04:04.195017Z",
     "iopub.status.idle": "2022-11-19T19:04:08.455635Z",
     "shell.execute_reply": "2022-11-19T19:04:08.454640Z",
     "shell.execute_reply.started": "2022-11-19T19:04:04.195411Z"
    },
    "tags": []
   },
   "outputs": [],
   "source": [
    "feature_cols = sdata.seqs_annot.columns[sdata.seqs_annot.columns.str.contains(\"presence|Position\")]"
   ]
  },
  {
   "cell_type": "code",
   "execution_count": 169,
   "metadata": {
    "execution": {
     "iopub.execute_input": "2022-11-19T23:00:39.741881Z",
     "iopub.status.busy": "2022-11-19T23:00:39.741362Z",
     "iopub.status.idle": "2022-11-19T23:00:44.078271Z",
     "shell.execute_reply": "2022-11-19T23:00:44.076840Z",
     "shell.execute_reply.started": "2022-11-19T23:00:39.741846Z"
    },
    "tags": []
   },
   "outputs": [],
   "source": [
    "from sklearn.ensemble import RandomForestRegressor\n",
    "from eugene._settings import settings\n",
    "import threading\n",
    "\n",
    "def fit(\n",
    "    model,\n",
    "    sdata,\n",
    "    target_keys,\n",
    "    train_key=\"train_val\",\n",
    "    features_cols = None,\n",
    "    seqsm_key = None,\n",
    "    threads=None,\n",
    "    log_dir=None,\n",
    "    name=None,\n",
    "    version=\"\",\n",
    "    seed=None,\n",
    "    verbosity=1\n",
    "):\n",
    "    # Set-up the run\n",
    "    threads = threads if threads is not None else threading.active_count()\n",
    "    log_dir = log_dir if log_dir is not None else settings.logging_dir\n",
    "    model_name = model.__class__.__name__\n",
    "    name = name if name is not None else model_name\n",
    "    np.random.seed(seed) if seed is not None else np.random.seed(settings.seed)\n",
    "    model.verbose = verbosity\n",
    "\n",
    "    # Remove seqs with NaN targets\n",
    "    targs = sdata.seqs_annot[target_keys].values  \n",
    "    if len(targs.shape) == 1:\n",
    "        nan_mask = np.isnan(targs)\n",
    "    else:\n",
    "        nan_mask = np.any(np.isnan(targs), axis=1)\n",
    "    print(f\"Dropping {nan_mask.sum()} sequences with NaN targets.\")\n",
    "    sdata = sdata[~nan_mask]\n",
    "    targs = targs[~nan_mask]\n",
    "    print(np.isnan(targs).sum())\n",
    "    \n",
    "    # Get train and val indeces\n",
    "    train_idx = np.where(sdata.seqs_annot[train_key] == True)[0]\n",
    "    val_idx = np.where(sdata.seqs_annot[train_key] == False)[0]\n",
    "    \n",
    "    # Get train and val targets\n",
    "    train_Y = targs[train_idx].squeeze()\n",
    "    val_Y = targs[val_idx].squeeze()\n",
    "    \n",
    "    # Get train adn val features\n",
    "    if feature_cols is not None:\n",
    "        sdata.seqsm[f\"{model_name}_features\" if seqsm_key is None else seqsm_key] = sdata.seqs_annot[feature_cols].values\n",
    "    else:\n",
    "        assert seqsm_key is not None\n",
    "    features = sdata.seqsm[seqsm_key]\n",
    "    train_X = features[train_idx]\n",
    "    val_X = features[val_idx]\n",
    "    model.fit(train_X, train_Y)\n",
    "    \n",
    "    if not os.path.exists(os.path.join(log_dir, name, version)):\n",
    "        os.makedirs(os.path.join(log_dir, name, version))\n",
    "        \n",
    "    pd.DataFrame(pd.Series(model.get_params())).T.to_csv(os.path.join(log_dir, name, version, \"hyperparams.tsv\"), index=False, sep=\"\\t\")"
   ]
  },
  {
   "cell_type": "code",
   "execution_count": 170,
   "metadata": {
    "execution": {
     "iopub.execute_input": "2022-11-19T23:00:44.080754Z",
     "iopub.status.busy": "2022-11-19T23:00:44.080231Z",
     "iopub.status.idle": "2022-11-19T23:00:48.352099Z",
     "shell.execute_reply": "2022-11-19T23:00:48.351243Z",
     "shell.execute_reply.started": "2022-11-19T23:00:44.080716Z"
    },
    "tags": []
   },
   "outputs": [
    {
     "name": "stdout",
     "output_type": "stream",
     "text": [
      "Dropping 0 sequences with NaN targets.\n",
      "0\n"
     ]
    },
    {
     "name": "stderr",
     "output_type": "stream",
     "text": [
      "[Parallel(n_jobs=1)]: Using backend SequentialBackend with 1 concurrent workers.\n",
      "[Parallel(n_jobs=1)]: Done 100 out of 100 | elapsed:    0.1s finished\n"
     ]
    }
   ],
   "source": [
    "fit(\n",
    "    model,\n",
    "    sdata,\n",
    "    target_keys = \"log_CRE_normalized_mean\",\n",
    "    train_key = \"train_val\",\n",
    "    features_cols = \"feature_cols\",\n",
    "    seqsm_key = \"independent_position_features\"\n",
    ")"
   ]
  },
  {
   "cell_type": "code",
   "execution_count": null,
   "metadata": {
    "execution": {
     "iopub.execute_input": "2022-11-19T19:04:17.333144Z",
     "iopub.status.busy": "2022-11-19T19:04:17.332847Z",
     "iopub.status.idle": "2022-11-19T19:04:21.754506Z",
     "shell.execute_reply": "2022-11-19T19:04:21.752976Z",
     "shell.execute_reply.started": "2022-11-19T19:04:17.333105Z"
    },
    "tags": []
   },
   "outputs": [
    {
     "data": {
      "text/plain": [
       "SeqData object with = 624 seqs\n",
       "seqs = (624,)\n",
       "names = (624,)\n",
       "rev_seqs = None\n",
       "ohe_seqs = (624, 4, 80)\n",
       "ohe_rev_seqs = None\n",
       "seqs_annot: 'Sequence', 'Element_id_simplified', 'Class', 'CRE_normalized_mean', 'O_presence', 'S_presence', 'K_presence', 'E_presence', 'Position.4_O', 'Position.4_S', 'Position.4_K', 'Position.4_E', 'Position.3_O', 'Position.3_S', 'Position.3_K', 'Position.3_E', 'Position.2_O', 'Position.2_S', 'Position.2_K', 'Position.2_E', 'Position.1_O', 'Position.1_S', 'Position.1_K', 'Position.1_E', 'seq_len', 'log_CRE_normalized_mean', 'train_val'\n",
       "pos_annot: None\n",
       "seqsm: 'independent_position_features'\n",
       "uns: None"
      ]
     },
     "execution_count": 138,
     "metadata": {},
     "output_type": "execute_result"
    }
   ],
   "source": [
    "sdata"
   ]
  },
  {
   "cell_type": "markdown",
   "metadata": {},
   "source": [
    "## `hyperopt`"
   ]
  },
  {
   "cell_type": "code",
   "execution_count": null,
   "metadata": {},
   "outputs": [],
   "source": [
    "def hyperopt_with_random_cv(\n",
    "    config,\n",
    "    model,\n",
    "    sdata,\n",
    "    target_keys,\n",
    "    train_key=\"train_val\",\n",
    "    features_cols = None,\n",
    "    seqsm_key = None,\n",
    "    threads=None,\n",
    "    log_dir=None,\n",
    "    name=None,\n",
    "    version=None,\n",
    "    seed=None,\n",
    "    verbosity=1\n",
    "):\n",
    "    pass\n",
    "\n",
    "\n",
    "def hyperopt_with_\n",
    "    "
   ]
  },
  {
   "cell_type": "markdown",
   "metadata": {},
   "source": [
    "# Evaluation"
   ]
  },
  {
   "cell_type": "code",
   "execution_count": 171,
   "metadata": {
    "execution": {
     "iopub.execute_input": "2022-11-19T23:02:53.517413Z",
     "iopub.status.busy": "2022-11-19T23:02:53.517038Z",
     "iopub.status.idle": "2022-11-19T23:02:57.138394Z",
     "shell.execute_reply": "2022-11-19T23:02:57.137424Z",
     "shell.execute_reply.started": "2022-11-19T23:02:53.517377Z"
    },
    "tags": []
   },
   "outputs": [],
   "source": [
    "def predictions(\n",
    "    model,\n",
    "    sdata,\n",
    "    target_keys,\n",
    "    features_cols = None,\n",
    "    seqsm_key = None,\n",
    "    threads=None,\n",
    "    store_only=False,\n",
    "    out_dir=None,\n",
    "    name=None,\n",
    "    version=\"\",\n",
    "    file_label=\"\",\n",
    "    prefix=\"\",\n",
    "    suffix=\"\",\n",
    "    copy=False\n",
    "):\n",
    "    threads = threads if threads is not None else threading.active_count()\n",
    "    target_keys = [target_keys] if type(target_keys) == str else target_keys\n",
    "    out_dir = out_dir if out_dir is not None else settings.output_dir\n",
    "    model_name = model.__class__.__name__\n",
    "    name = name if name is not None else model_name\n",
    "    out_dir = os.path.join(out_dir, name, version)\n",
    "    \n",
    "    if feature_cols is not None:\n",
    "        sdata.seqsm[f\"{model_name}_features\"] = sdata.seqs_annot[feature_cols].values\n",
    "    else:\n",
    "        assert seqsm_key is not None\n",
    "    features = sdata.seqsm[seqsm_key]\n",
    "    ps = model.predict(features)\n",
    "    ts = sdata.seqs_annot[target_keys].values.squeeze()\n",
    "    inds = sdata.seqs_annot.index\n",
    "    new_cols = [f\"{prefix}{lab}_predictions{suffix}\" for lab in target_keys]\n",
    "    sdata.seqs_annot[new_cols] = np.expand_dims(model.predict(features), axis=1)\n",
    "    if not store_only:\n",
    "        if not os.path.exists(out_dir):\n",
    "            os.makedirs(out_dir)\n",
    "        df = pd.DataFrame(index=inds, data={\"targets\": ts, \"predictions\": ps})\n",
    "        df.to_csv(os.path.join(out_dir, f\"{file_label}_predictions.tsv\"), sep=\"\\t\")\n",
    "    return sdata if copy else None\n",
    "\n",
    "def train_val_predictions():\n",
    "    pass"
   ]
  },
  {
   "cell_type": "code",
   "execution_count": 172,
   "metadata": {
    "execution": {
     "iopub.execute_input": "2022-11-19T23:02:57.141296Z",
     "iopub.status.busy": "2022-11-19T23:02:57.140589Z",
     "iopub.status.idle": "2022-11-19T23:03:00.824165Z",
     "shell.execute_reply": "2022-11-19T23:03:00.823235Z",
     "shell.execute_reply.started": "2022-11-19T23:02:57.141235Z"
    },
    "tags": []
   },
   "outputs": [
    {
     "name": "stderr",
     "output_type": "stream",
     "text": [
      "[Parallel(n_jobs=1)]: Using backend SequentialBackend with 1 concurrent workers.\n",
      "[Parallel(n_jobs=1)]: Done 100 out of 100 | elapsed:    0.0s finished\n",
      "[Parallel(n_jobs=1)]: Using backend SequentialBackend with 1 concurrent workers.\n",
      "[Parallel(n_jobs=1)]: Done 100 out of 100 | elapsed:    0.0s finished\n"
     ]
    }
   ],
   "source": [
    "predictions(\n",
    "    model,\n",
    "    sdata,\n",
    "    target_keys = \"log_CRE_normalized_mean\",\n",
    "    seqsm_key = \"independent_position_features\",\n",
    "    file_label = \"syn\"\n",
    ")"
   ]
  },
  {
   "cell_type": "code",
   "execution_count": 173,
   "metadata": {
    "execution": {
     "iopub.execute_input": "2022-11-19T23:03:00.826507Z",
     "iopub.status.busy": "2022-11-19T23:03:00.826115Z",
     "iopub.status.idle": "2022-11-19T23:03:05.615722Z",
     "shell.execute_reply": "2022-11-19T23:03:05.614811Z",
     "shell.execute_reply.started": "2022-11-19T23:03:00.826476Z"
    },
    "tags": []
   },
   "outputs": [
    {
     "name": "stdout",
     "output_type": "stream",
     "text": [
      "Group R2 MSE Spearmanr\n",
      "2mer 0.17061259008224539 0.09883053880486709 0.5473634553720202\n",
      "3mer 0.5737275066327123 0.11716702652214686 0.7331065672246669\n",
      "4mer 0.5764634718931543 0.11139033426487625 0.7527458403771544\n"
     ]
    },
    {
     "data": {
      "image/png": "[encoded data removed]",
      "text/plain": [
       "<Figure size 800x800 with 1 Axes>"
      ]
     },
     "metadata": {},
     "output_type": "display_data"
    }
   ],
   "source": [
    "val_idx = np.where(sdata.seqs_annot[\"train_val\"] == False)[0]\n",
    "eu.pl.performance_scatter(\n",
    "    sdata,\n",
    "    target_keys=\"log_CRE_normalized_mean\",\n",
    "    prediction_keys=\"log_CRE_normalized_mean_predictions\",\n",
    "    seq_idx=val_idx,\n",
    "    groupby=\"Class\"\n",
    ")"
   ]
  },
  {
   "cell_type": "markdown",
   "metadata": {},
   "source": [
    "# Interpretation"
   ]
  },
  {
   "cell_type": "markdown",
   "metadata": {},
   "source": [
    "## Feature attribution"
   ]
  },
  {
   "cell_type": "code",
   "execution_count": 199,
   "metadata": {
    "execution": {
     "iopub.execute_input": "2022-11-19T23:22:32.656209Z",
     "iopub.status.busy": "2022-11-19T23:22:32.655831Z",
     "iopub.status.idle": "2022-11-19T23:22:37.351736Z",
     "shell.execute_reply": "2022-11-19T23:22:37.350652Z",
     "shell.execute_reply.started": "2022-11-19T23:22:32.656174Z"
    },
    "tags": []
   },
   "outputs": [],
   "source": [
    "import matplotlib.pyplot as plt\n",
    "def _impurity_decrease(\n",
    "    model, \n",
    "    feature_names,\n",
    "    plot=True,\n",
    "    prefix=\"\",\n",
    "    suffix=\"\",\n",
    "    copy=False\n",
    "):\n",
    "    importances = model.feature_importances_\n",
    "    std = np.std([tree.feature_importances_ for tree in model.estimators_], axis=0)\n",
    "    descending_ord = np.argsort(importances)\n",
    "    importances = importances[descending_ord]\n",
    "    std = std[descending_ord]\n",
    "    names = feature_cols[descending_ord]\n",
    "    forest_importances = pd.DataFrame(data={\"importances\": importances, \"std\": std}, index=names)\n",
    "    if plot:\n",
    "        fig, ax = plt.subplots()\n",
    "        forest_importances[\"importances\"].plot.barh(yerr=std, ax=ax)\n",
    "        ax.set_title(\"Feature importances using MDI\")\n",
    "        ax.set_ylabel(\"Mean decrease in impurity\")\n",
    "    return feature_importances_\n",
    "\n",
    "\n",
    "def feature_attribution_sdata(\n",
    "    sdata,\n",
    "    model,\n",
    "    method = \"mean_impurity\",\n",
    "    uns_key=None,\n",
    "    feature_names=None\n",
    "    copy=False\n",
    "):\n",
    "    if method == \"mean_impurity\":\n",
    "        uns_key if uns_key is not None else \"mean_impurity_imps\"\n",
    "        forest_importances = _impurity_decrease(model, feature_names, plot=False, uns)\n",
    "        sdata.uns[f\"{prefix}uns_key{suffix}\"] = forest_importances\n",
    "    return sdata if copy else None"
   ]
  },
  {
   "cell_type": "code",
   "execution_count": 200,
   "metadata": {
    "execution": {
     "iopub.execute_input": "2022-11-19T23:22:39.261793Z",
     "iopub.status.busy": "2022-11-19T23:22:39.261436Z",
     "iopub.status.idle": "2022-11-19T23:22:45.191718Z",
     "shell.execute_reply": "2022-11-19T23:22:45.190669Z",
     "shell.execute_reply.started": "2022-11-19T23:22:39.261760Z"
    },
    "tags": []
   },
   "outputs": [
    {
     "data": {
      "image/png": "[encoded data removed]",
      "text/plain": [
       "<Figure size 640x480 with 1 Axes>"
      ]
     },
     "metadata": {},
     "output_type": "display_data"
    }
   ],
   "source": [
    "_impurity_decrease(sdata, model, feature_cols)"
   ]
  },
  {
   "cell_type": "code",
   "execution_count": null,
   "metadata": {},
   "outputs": [],
   "source": []
  },
  {
   "cell_type": "code",
   "execution_count": null,
   "metadata": {},
   "outputs": [],
   "source": [
    "def permutation_importance(\n",
    "    sdata,\n",
    "    model,\n",
    "    n_repeats,\n",
    "    seed\n",
    "):\n",
    "    pass"
   ]
  },
  {
   "cell_type": "markdown",
   "metadata": {},
   "source": [
    "---"
   ]
  }
 ],
 "metadata": {
  "kernelspec": {
   "display_name": "Python 3.7 eugene_dev",
   "language": "python",
   "name": "eugene_dev"
  },
  "language_info": {
   "codemirror_mode": {
    "name": "ipython",
    "version": 3
   },
   "file_extension": ".py",
   "mimetype": "text/x-python",
   "name": "python",
   "nbconvert_exporter": "python",
   "pygments_lexer": "ipython3",
   "version": "3.7.12"
  },
  "vscode": {
   "interpreter": {
    "hash": "949777d72b0d2535278d3dc13498b2535136f6dfe0678499012e853ee9abcab1"
   }
  }
 },
 "nbformat": 4,
 "nbformat_minor": 4
}

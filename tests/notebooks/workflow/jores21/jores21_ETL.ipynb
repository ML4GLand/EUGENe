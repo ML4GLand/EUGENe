{
 "cells": [
  {
   "cell_type": "markdown",
   "metadata": {},
   "source": [
    "# Jores et al 2021 Extract-Transform-Load\n",
    "**Authorship:**\n",
    "Adam Klie, *08/11/2022*\n",
    "***\n",
    "**Description:**\n",
    "Notebook to extract, transform, and load data from the Jores et al (2021) dataset.\n",
    "***"
   ]
  },
  {
   "cell_type": "code",
   "execution_count": 1,
   "metadata": {},
   "outputs": [
    {
     "name": "stderr",
     "output_type": "stream",
     "text": [
      "Global seed set to 13\n",
      "2022-08-12 01:06:01.229886: W tensorflow/stream_executor/platform/default/dso_loader.cc:60] Could not load dynamic library 'libcudart.so.11.0'; dlerror: libcudart.so.11.0: cannot open shared object file: No such file or directory\n",
      "2022-08-12 01:06:01.230032: I tensorflow/stream_executor/cuda/cudart_stub.cc:29] Ignore above cudart dlerror if you do not have a GPU set up on your machine.\n"
     ]
    }
   ],
   "source": [
    "if 'autoreload' not in get_ipython().extension_manager.loaded:\n",
    "    %load_ext autoreload\n",
    "%autoreload 2\n",
    "\n",
    "import os\n",
    "import pandas as pd\n",
    "import eugene as eu\n",
    "eu.settings.dataset_dir = \"../../_data/datasets\""
   ]
  },
  {
   "cell_type": "markdown",
   "metadata": {},
   "source": [
    "# Download and load in the dataset to a raw `SeqData` object"
   ]
  },
  {
   "cell_type": "code",
   "execution_count": 2,
   "metadata": {},
   "outputs": [
    {
     "name": "stdout",
     "output_type": "stream",
     "text": [
      "Dataset jores21 CNN_test_leaf.tsv has already been dowloaded.\n",
      "Dataset jores21 CNN_train_leaf.tsv has already been dowloaded.\n",
      "Dataset jores21 CNN_train_proto.tsv has already been dowloaded.\n",
      "Dataset jores21 CNN_test_proto.tsv has already been dowloaded.\n"
     ]
    }
   ],
   "source": [
    "# Load in the downloaded datasets from the manuscript Github repo\n",
    "sdata_leaf_raw = eu.datasets.jores21(dataset=\"leaf\")\n",
    "sdata_proto_raw = eu.datasets.jores21(dataset=\"proto\")"
   ]
  },
  {
   "cell_type": "code",
   "execution_count": 3,
   "metadata": {},
   "outputs": [
    {
     "name": "stdout",
     "output_type": "stream",
     "text": [
      "--2022-08-12 01:11:16--  https://raw.githubusercontent.com/tobjores/Synthetic-Promoter-Designs-Enabled-by-a-Comprehensive-Analysis-of-Plant-Core-Promoters/main/analysis/validation_sequences/promoters_for_evolution.tsv\n",
      "Resolving raw.githubusercontent.com (raw.githubusercontent.com)... 185.199.109.133, 185.199.110.133, 185.199.111.133, ...\n",
      "Connecting to raw.githubusercontent.com (raw.githubusercontent.com)|185.199.109.133|:443... connected.\n",
      "HTTP request sent, awaiting response... 200 OK\n",
      "Length: 57854 (56K) [text/plain]\n",
      "Saving to: ‘promoters_for_evolution.tsv’\n",
      "\n",
      "promoters_for_evolu 100%[===================>]  56.50K  --.-KB/s    in 0.004s  \n",
      "\n",
      "2022-08-12 01:11:16 (13.5 MB/s) - ‘promoters_for_evolution.tsv’ saved [57854/57854]\n",
      "\n",
      "--2022-08-12 01:11:17--  https://raw.githubusercontent.com/tobjores/Synthetic-Promoter-Designs-Enabled-by-a-Comprehensive-Analysis-of-Plant-Core-Promoters/main/data/misc/CPEs.meme\n",
      "Resolving raw.githubusercontent.com (raw.githubusercontent.com)... 185.199.108.133, 185.199.111.133, 185.199.110.133, ...\n",
      "Connecting to raw.githubusercontent.com (raw.githubusercontent.com)|185.199.108.133|:443... connected.\n",
      "HTTP request sent, awaiting response... 200 OK\n",
      "Length: 2913 (2.8K) [text/plain]\n",
      "Saving to: ‘CPEs.meme’\n",
      "\n",
      "CPEs.meme           100%[===================>]   2.84K  --.-KB/s    in 0s      \n",
      "\n",
      "2022-08-12 01:11:17 (29.5 MB/s) - ‘CPEs.meme’ saved [2913/2913]\n",
      "\n",
      "--2022-08-12 01:11:18--  https://raw.githubusercontent.com/tobjores/Synthetic-Promoter-Designs-Enabled-by-a-Comprehensive-Analysis-of-Plant-Core-Promoters/main/data/misc/TF-clusters.meme\n",
      "Resolving raw.githubusercontent.com (raw.githubusercontent.com)... 185.199.108.133, 185.199.111.133, 185.199.110.133, ...\n",
      "Connecting to raw.githubusercontent.com (raw.githubusercontent.com)|185.199.108.133|:443... connected.\n",
      "HTTP request sent, awaiting response... 200 OK\n",
      "Length: 36718 (36K) [text/plain]\n",
      "Saving to: ‘TF-clusters.meme’\n",
      "\n",
      "TF-clusters.meme    100%[===================>]  35.86K  --.-KB/s    in 0.001s  \n",
      "\n",
      "2022-08-12 01:11:18 (26.6 MB/s) - ‘TF-clusters.meme’ saved [36718/36718]\n",
      "\n"
     ]
    }
   ],
   "source": [
    "#!wget https://static-content.springer.com/esm/art%3A10.1038%2Fs41477-021-00932-y/MediaObjects/41477_2021_932_MOESM3_ESM.xlsx\n",
    "!wget https://raw.githubusercontent.com/tobjores/Synthetic-Promoter-Designs-Enabled-by-a-Comprehensive-Analysis-of-Plant-Core-Promoters/main/analysis/validation_sequences/promoters_for_evolution.tsv\n",
    "!wget https://raw.githubusercontent.com/tobjores/Synthetic-Promoter-Designs-Enabled-by-a-Comprehensive-Analysis-of-Plant-Core-Promoters/main/data/misc/CPEs.meme\n",
    "!wget https://raw.githubusercontent.com/tobjores/Synthetic-Promoter-Designs-Enabled-by-a-Comprehensive-Analysis-of-Plant-Core-Promoters/main/data/misc/TF-clusters.meme"
   ]
  },
  {
   "cell_type": "code",
   "execution_count": 4,
   "metadata": {},
   "outputs": [],
   "source": [
    "# Concatenate the datasets into a combined SeqData object\n",
    "sdata_combined_raw = eu.dl.concat([sdata_leaf_raw, sdata_proto_raw], keys=[\"leaf\", \"proto\"])"
   ]
  },
  {
   "cell_type": "code",
   "execution_count": 5,
   "metadata": {},
   "outputs": [
    {
     "data": {
      "text/html": [
       "<div>\n",
       "<style scoped>\n",
       "    .dataframe tbody tr th:only-of-type {\n",
       "        vertical-align: middle;\n",
       "    }\n",
       "\n",
       "    .dataframe tbody tr th {\n",
       "        vertical-align: top;\n",
       "    }\n",
       "\n",
       "    .dataframe thead th {\n",
       "        text-align: right;\n",
       "    }\n",
       "</style>\n",
       "<table border=\"1\" class=\"dataframe\">\n",
       "  <thead>\n",
       "    <tr style=\"text-align: right;\">\n",
       "      <th></th>\n",
       "      <th>set</th>\n",
       "      <th>sp</th>\n",
       "      <th>gene</th>\n",
       "      <th>enrichment</th>\n",
       "      <th>batch</th>\n",
       "    </tr>\n",
       "  </thead>\n",
       "  <tbody>\n",
       "    <tr>\n",
       "      <th>seq00000</th>\n",
       "      <td>test</td>\n",
       "      <td>At</td>\n",
       "      <td>AT5G03425</td>\n",
       "      <td>-0.537451</td>\n",
       "      <td>leaf</td>\n",
       "    </tr>\n",
       "    <tr>\n",
       "      <th>seq00001</th>\n",
       "      <td>test</td>\n",
       "      <td>Sb</td>\n",
       "      <td>ENSRNA049996419</td>\n",
       "      <td>4.108127</td>\n",
       "      <td>leaf</td>\n",
       "    </tr>\n",
       "    <tr>\n",
       "      <th>seq00002</th>\n",
       "      <td>test</td>\n",
       "      <td>Zm</td>\n",
       "      <td>ENSRNA049997541</td>\n",
       "      <td>-0.718419</td>\n",
       "      <td>leaf</td>\n",
       "    </tr>\n",
       "    <tr>\n",
       "      <th>seq00003</th>\n",
       "      <td>test</td>\n",
       "      <td>Sb</td>\n",
       "      <td>ENSRNA049996013</td>\n",
       "      <td>1.340581</td>\n",
       "      <td>leaf</td>\n",
       "    </tr>\n",
       "    <tr>\n",
       "      <th>seq00004</th>\n",
       "      <td>test</td>\n",
       "      <td>At</td>\n",
       "      <td>AT4G04125</td>\n",
       "      <td>4.227307</td>\n",
       "      <td>leaf</td>\n",
       "    </tr>\n",
       "  </tbody>\n",
       "</table>\n",
       "</div>"
      ],
      "text/plain": [
       "           set  sp             gene  enrichment batch\n",
       "seq00000  test  At        AT5G03425   -0.537451  leaf\n",
       "seq00001  test  Sb  ENSRNA049996419    4.108127  leaf\n",
       "seq00002  test  Zm  ENSRNA049997541   -0.718419  leaf\n",
       "seq00003  test  Sb  ENSRNA049996013    1.340581  leaf\n",
       "seq00004  test  At        AT4G04125    4.227307  leaf"
      ]
     },
     "execution_count": 5,
     "metadata": {},
     "output_type": "execute_result"
    }
   ],
   "source": [
    "sdata_combined_raw.seqs_annot.head()"
   ]
  },
  {
   "cell_type": "code",
   "execution_count": 6,
   "metadata": {},
   "outputs": [
    {
     "data": {
      "text/plain": [
       "76712"
      ]
     },
     "execution_count": 6,
     "metadata": {},
     "output_type": "execute_result"
    }
   ],
   "source": [
    "# Load some other sequence features\n",
    "smetadata = pd.read_excel(\n",
    "    os.path.join(eu.settings.dataset_dir, \"jores21\", \"41477_2021_932_MOESM3_ESM.xlsx\"),\n",
    "    sheet_name=0, \n",
    "    skiprows=3, \n",
    ")\n",
    "smetadata.drop(columns=[\"species\", \"gene\"], inplace=True)\n",
    "smetadata[\"sequence\"].isin(sdata_combined_raw.seqs).sum()"
   ]
  },
  {
   "cell_type": "code",
   "execution_count": 9,
   "metadata": {},
   "outputs": [],
   "source": [
    "# Add the sequence annotations to the combined SeqData object\n",
    "sdata_combined_raw[\"sequence\"] = sdata_combined_raw.seqs\n",
    "sdata_combined_raw.seqs_annot = sdata_combined_raw.seqs_annot.merge(smetadata, on=\"sequence\", how=\"left\")\n",
    "sdata_combined_raw.seqs_annot.drop(columns=[\"sequence\", \"UTR\"], inplace=True)"
   ]
  },
  {
   "cell_type": "code",
   "execution_count": 17,
   "metadata": {},
   "outputs": [],
   "source": [
    "# Save raw versions of these three\n",
    "sdata_leaf_raw.write_h5sd(os.path.join(eu.settings.dataset_dir, \"jores21\", \"leaf_raw.h5sd\"))\n",
    "sdata_proto_raw.write_h5sd(os.path.join(eu.settings.dataset_dir, \"jores21\", \"proto_raw.h5sd\"))\n",
    "sdata_combined_raw.write_h5sd(os.path.join(eu.settings.dataset_dir, \"jores21\", \"combined_raw.h5sd\"))"
   ]
  },
  {
   "cell_type": "markdown",
   "metadata": {},
   "source": [
    "# Transform the input data in the combined SeqData object"
   ]
  },
  {
   "cell_type": "code",
   "execution_count": 18,
   "metadata": {},
   "outputs": [
    {
     "data": {
      "application/vnd.jupyter.widget-view+json": {
       "model_id": "704605f04ade4a27949ef38f41d87059",
       "version_major": 2,
       "version_minor": 0
      },
      "text/plain": [
       "Reverse complementing DNA sequences:   0%|          | 0/147966 [00:00<?, ?it/s]"
      ]
     },
     "metadata": {},
     "output_type": "display_data"
    },
    {
     "name": "stdout",
     "output_type": "stream",
     "text": [
      "SeqData object modified:\n",
      "\trev_seqs: None -> 147966 rev_seqs added\n"
     ]
    },
    {
     "data": {
      "application/vnd.jupyter.widget-view+json": {
       "model_id": "779136b900b04a82a3d442b5cee7cbae",
       "version_major": 2,
       "version_minor": 0
      },
      "text/plain": [
       "One-hot-encoding sequences:   0%|          | 0/147966 [00:00<?, ?it/s]"
      ]
     },
     "metadata": {},
     "output_type": "display_data"
    },
    {
     "data": {
      "application/vnd.jupyter.widget-view+json": {
       "model_id": "ff3bbeb5e2154ee0893c5006cc09e410",
       "version_major": 2,
       "version_minor": 0
      },
      "text/plain": [
       "One-hot-encoding sequences:   0%|          | 0/147966 [00:00<?, ?it/s]"
      ]
     },
     "metadata": {},
     "output_type": "display_data"
    },
    {
     "name": "stdout",
     "output_type": "stream",
     "text": [
      "SeqData object modified:\n",
      "\tohe_seqs: None -> 147966 ohe_seqs added\n",
      "\tohe_rev_seqs: None -> 147966 ohe_rev_seqs added\n"
     ]
    }
   ],
   "source": [
    "# Add reverse complement sequences and one-hot encoded sequences (forward and reverse complement)\n",
    "eu.pp.reverse_complement_data(sdata_combined_raw)\n",
    "eu.pp.one_hot_encode_data(sdata_combined_raw)"
   ]
  },
  {
   "cell_type": "code",
   "execution_count": 19,
   "metadata": {},
   "outputs": [],
   "source": [
    "# Save the combined processed SeqData object\n",
    "sdata_combined_raw.write_h5sd(os.path.join(eu.settings.dataset_dir, \"jores21\", \"combined_processed.h5sd\"))"
   ]
  },
  {
   "cell_type": "code",
   "execution_count": 20,
   "metadata": {},
   "outputs": [],
   "source": [
    "# Subset back to leaf and proto objects\n",
    "sdata_leaf_processed = sdata_combined_raw[sdata_combined_raw[\"batch\"] == \"leaf\"]\n",
    "sdata_proto_processed = sdata_combined_raw[sdata_combined_raw[\"batch\"] == \"proto\"]"
   ]
  },
  {
   "cell_type": "code",
   "execution_count": 21,
   "metadata": {},
   "outputs": [],
   "source": [
    "# Split each of the three datases into training and train sets\n",
    "sdata_leaf_train = sdata_leaf_processed[sdata_leaf_processed[\"set\"] == \"train\"]\n",
    "sdata_proto_train = sdata_proto_processed[sdata_proto_processed[\"set\"] == \"train\"]\n",
    "sdata_combined_train = sdata_combined_raw[sdata_combined_raw[\"set\"] == \"train\"]\n",
    "sdata_leaf_test = sdata_leaf_processed[sdata_leaf_processed[\"set\"] == \"test\"]\n",
    "sdata_proto_test = sdata_proto_processed[sdata_proto_processed[\"set\"] == \"test\"]\n",
    "sdata_combined_test = sdata_combined_raw[sdata_combined_raw[\"set\"] == \"test\"]"
   ]
  },
  {
   "cell_type": "code",
   "execution_count": 22,
   "metadata": {},
   "outputs": [
    {
     "name": "stdout",
     "output_type": "stream",
     "text": [
      "SeqData object modified:\n",
      "    seqs_annot:\n",
      "        + train_val\n",
      "SeqData object modified:\n",
      "    seqs_annot:\n",
      "        + train_val\n"
     ]
    }
   ],
   "source": [
    "# Add in a column signifying whether the sequence is in the training set or the validation set\n",
    "eu.pp.train_test_split_data(sdata_leaf_train, train_key=\"train_val\", split=0.9)\n",
    "eu.pp.train_test_split_data(sdata_proto_train, train_key=\"train_val\", split=0.9)"
   ]
  },
  {
   "cell_type": "code",
   "execution_count": 23,
   "metadata": {},
   "outputs": [
    {
     "ename": "",
     "evalue": "",
     "output_type": "error",
     "traceback": [
      "The Kernel crashed while executing code in the the current cell or a previous cell. Please review the code in the cell(s) to identify a possible cause of the failure. Click <a href='https://aka.ms/vscodeJupyterKernelCrash'>here</a> for more info. View Jupyter <a href='command:jupyter.viewOutput'>log</a> for further details."
     ]
    }
   ],
   "source": [
    "# Save all the sets\n",
    "sdata_leaf_processed.write_h5sd(os.path.join(eu.settings.dataset_dir, \"jores21\", \"leaf_processed.h5sd\"))\n",
    "sdata_proto_processed.write_h5sd(os.path.join(eu.settings.dataset_dir, \"jores21\", \"proto_processed.h5sd\"))\n",
    "sdata_leaf_train.write_h5sd(os.path.join(eu.settings.dataset_dir, \"jores21\", \"leaf_processed_train.h5sd\"))\n",
    "sdata_proto_train.write_h5sd(os.path.join(eu.settings.dataset_dir, \"jores21\", \"proto_processed_train.h5sd\"))\n",
    "sdata_combined_train.write_h5sd(os.path.join(eu.settings.dataset_dir, \"jores21\", \"combined_processed_train.h5sd\"))\n",
    "sdata_leaf_test.write_h5sd(os.path.join(eu.settings.dataset_dir, \"jores21\", \"leaf_processed_test.h5sd\"))\n",
    "sdata_proto_test.write_h5sd(os.path.join(eu.settings.dataset_dir, \"jores21\", \"proto_processed_test.h5sd\"))\n",
    "sdata_combined_test.write_h5sd(os.path.join(eu.settings.dataset_dir, \"jores21\", \"combined_processed_test.h5sd\"))"
   ]
  },
  {
   "cell_type": "markdown",
   "metadata": {},
   "source": [
    "---"
   ]
  },
  {
   "cell_type": "markdown",
   "metadata": {},
   "source": [
    "# Scratch"
   ]
  }
 ],
 "metadata": {
  "kernelspec": {
   "display_name": "Python 3.7.13 64-bit",
   "language": "python",
   "name": "python3"
  },
  "language_info": {
   "codemirror_mode": {
    "name": "ipython",
    "version": 3
   },
   "file_extension": ".py",
   "mimetype": "text/x-python",
   "name": "python",
   "nbconvert_exporter": "python",
   "pygments_lexer": "ipython3",
   "version": "3.7.13"
  },
  "orig_nbformat": 4,
  "vscode": {
   "interpreter": {
    "hash": "949777d72b0d2535278d3dc13498b2535136f6dfe0678499012e853ee9abcab1"
   }
  }
 },
 "nbformat": 4,
 "nbformat_minor": 2
}

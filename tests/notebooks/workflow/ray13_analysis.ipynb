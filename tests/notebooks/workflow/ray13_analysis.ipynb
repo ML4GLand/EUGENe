{
 "cells": [
  {
   "cell_type": "markdown",
   "id": "90a88efe-ebb3-424c-8704-fb4ee189af2c",
   "metadata": {},
   "source": [
    "# Implementation of DeepBind neural network using EUGENe"
   ]
  },
  {
   "cell_type": "markdown",
   "id": "2d058003-a667-4b45-9ddc-e47efe48e0e1",
   "metadata": {
    "tags": []
   },
   "source": [
    "**Authorship:**\n",
    "Hayden Stites, Adam Klie, *08/12/2022*\n",
    "***\n",
    "**Description:**\n",
    "Replicating experimental results from DeepBind and RNAcomplete (Ray, D., Kazan, H., Cook, K. et al.) using the eugene framework. 👍\n",
    "***"
   ]
  },
  {
   "cell_type": "code",
   "execution_count": 1,
   "metadata": {},
   "outputs": [
    {
     "name": "stderr",
     "output_type": "stream",
     "text": [
      "c:\\Users\\Lab\\anaconda3\\lib\\site-packages\\torchvision\\io\\image.py:13: UserWarning: Failed to load image Python extension: Could not find module 'C:\\Users\\Lab\\anaconda3\\Lib\\site-packages\\torchvision\\image.pyd' (or one of its dependencies). Try using the full path with constructor syntax.\n",
      "  warn(f\"Failed to load image Python extension: {e}\")\n",
      "Global seed set to 13\n",
      "c:\\users\\lab\\documents\\eugene\\eugene\\dataloading\\dataloaders\\_SeqData.py:11: FutureWarning: pandas.Int64Index is deprecated and will be removed from pandas in a future version. Use pandas.Index with the appropriate dtype instead.\n",
      "  from pandas import Int64Index\n"
     ]
    },
    {
     "name": "stdout",
     "output_type": "stream",
     "text": [
      "janggu does not work on this machine, are you using MacOS or Linux?\n",
      "janggu does not work on this machine, are you using MacOS or Linux?\n",
      "0.1.0\n"
     ]
    }
   ],
   "source": [
    "if 'autoreload' not in get_ipython().extension_manager.loaded:\n",
    "    %load_ext autoreload \n",
    "%autoreload 2\n",
    "\n",
    "import numpy as np\n",
    "import pandas as pd\n",
    "import eugene as eu\n",
    "\n",
    "# Configure EUGENe \n",
    "print(eu.__version__)\n",
    "eu.settings.dataset_dir = \"./datasets/\"\n",
    "eu.settings.logging_dir = \"./eugene_log/\"\n",
    "eu.settings.output_dir = \"./eugene_output/\"\n",
    "\n",
    "# Test experimentally\n",
    "eu.settings.dl_num_workers = 1\n",
    "eu.settings.batch_size = 100"
   ]
  },
  {
   "cell_type": "markdown",
   "metadata": {},
   "source": [
    "# Dataloading\n",
    "The RNAcomplete dataset has its own helper function in the `datasets` module that returns a `SeqData` object from the dataset. The function will download and load the normalized RNAcomplete dataset from the hugheslab online repository, but the raw version can be specified. The directory that the dataset is downloaded into is specified by `eu.settings.dataset_dir`."
   ]
  },
  {
   "cell_type": "code",
   "execution_count": 2,
   "metadata": {},
   "outputs": [
    {
     "name": "stdout",
     "output_type": "stream",
     "text": [
      "Dataset RNAcomplete norm_data.txt.gz has already been dowloaded.\n"
     ]
    }
   ],
   "source": [
    "# Import the RNAcomplete dataset\n",
    "from eugene.datasets import RNAcomplete\n",
    "sdata = RNAcomplete()"
   ]
  },
  {
   "cell_type": "code",
   "execution_count": 3,
   "metadata": {},
   "outputs": [
    {
     "data": {
      "text/html": [
       "<div>\n",
       "<style scoped>\n",
       "    .dataframe tbody tr th:only-of-type {\n",
       "        vertical-align: middle;\n",
       "    }\n",
       "\n",
       "    .dataframe tbody tr th {\n",
       "        vertical-align: top;\n",
       "    }\n",
       "\n",
       "    .dataframe thead th {\n",
       "        text-align: right;\n",
       "    }\n",
       "</style>\n",
       "<table border=\"1\" class=\"dataframe\">\n",
       "  <thead>\n",
       "    <tr style=\"text-align: right;\">\n",
       "      <th></th>\n",
       "      <th>RNCMPT00100</th>\n",
       "      <th>RNCMPT00101</th>\n",
       "      <th>RNCMPT00102</th>\n",
       "      <th>RNCMPT00103</th>\n",
       "      <th>RNCMPT00104</th>\n",
       "      <th>RNCMPT00105</th>\n",
       "      <th>RNCMPT00106</th>\n",
       "      <th>RNCMPT00107</th>\n",
       "      <th>RNCMPT00108</th>\n",
       "      <th>RNCMPT00109</th>\n",
       "      <th>...</th>\n",
       "      <th>RNCMPT00008</th>\n",
       "      <th>RNCMPT00090</th>\n",
       "      <th>RNCMPT00091</th>\n",
       "      <th>RNCMPT00093</th>\n",
       "      <th>RNCMPT00094</th>\n",
       "      <th>RNCMPT00095</th>\n",
       "      <th>RNCMPT00096</th>\n",
       "      <th>RNCMPT00097</th>\n",
       "      <th>RNCMPT00099</th>\n",
       "      <th>RNCMPT00009</th>\n",
       "    </tr>\n",
       "  </thead>\n",
       "  <tbody>\n",
       "    <tr>\n",
       "      <th>seq000000</th>\n",
       "      <td>1.122218</td>\n",
       "      <td>1.272641</td>\n",
       "      <td>-1.089717</td>\n",
       "      <td>-0.067146</td>\n",
       "      <td>0.831671</td>\n",
       "      <td>-0.070631</td>\n",
       "      <td>2.779642</td>\n",
       "      <td>2.509418</td>\n",
       "      <td>1.811186</td>\n",
       "      <td>2.762714</td>\n",
       "      <td>...</td>\n",
       "      <td>5.734185</td>\n",
       "      <td>0.907487</td>\n",
       "      <td>1.282393</td>\n",
       "      <td>0.861743</td>\n",
       "      <td>-0.115417</td>\n",
       "      <td>0.126413</td>\n",
       "      <td>1.010198</td>\n",
       "      <td>-0.123415</td>\n",
       "      <td>-0.060651</td>\n",
       "      <td>-0.398931</td>\n",
       "    </tr>\n",
       "    <tr>\n",
       "      <th>seq000001</th>\n",
       "      <td>8.840295</td>\n",
       "      <td>-2.113002</td>\n",
       "      <td>2.397376</td>\n",
       "      <td>-1.809082</td>\n",
       "      <td>-0.963712</td>\n",
       "      <td>-0.202229</td>\n",
       "      <td>-0.121975</td>\n",
       "      <td>-0.038112</td>\n",
       "      <td>-0.636935</td>\n",
       "      <td>-1.100769</td>\n",
       "      <td>...</td>\n",
       "      <td>NaN</td>\n",
       "      <td>0.029810</td>\n",
       "      <td>0.986617</td>\n",
       "      <td>3.979510</td>\n",
       "      <td>-0.388808</td>\n",
       "      <td>-0.348266</td>\n",
       "      <td>0.216500</td>\n",
       "      <td>-1.098411</td>\n",
       "      <td>3.820988</td>\n",
       "      <td>NaN</td>\n",
       "    </tr>\n",
       "    <tr>\n",
       "      <th>seq000002</th>\n",
       "      <td>-0.353194</td>\n",
       "      <td>-0.183539</td>\n",
       "      <td>-0.467021</td>\n",
       "      <td>-1.865032</td>\n",
       "      <td>0.663077</td>\n",
       "      <td>0.626212</td>\n",
       "      <td>0.910989</td>\n",
       "      <td>1.431777</td>\n",
       "      <td>0.003613</td>\n",
       "      <td>-0.086335</td>\n",
       "      <td>...</td>\n",
       "      <td>0.198792</td>\n",
       "      <td>1.821554</td>\n",
       "      <td>1.289043</td>\n",
       "      <td>-1.282063</td>\n",
       "      <td>-0.640817</td>\n",
       "      <td>0.054688</td>\n",
       "      <td>-1.351889</td>\n",
       "      <td>0.470123</td>\n",
       "      <td>-0.057985</td>\n",
       "      <td>-1.057710</td>\n",
       "    </tr>\n",
       "    <tr>\n",
       "      <th>seq000003</th>\n",
       "      <td>1.386679</td>\n",
       "      <td>-0.236797</td>\n",
       "      <td>-0.031135</td>\n",
       "      <td>-0.997679</td>\n",
       "      <td>-0.079547</td>\n",
       "      <td>0.473447</td>\n",
       "      <td>6.296981</td>\n",
       "      <td>7.877085</td>\n",
       "      <td>13.880688</td>\n",
       "      <td>10.165925</td>\n",
       "      <td>...</td>\n",
       "      <td>NaN</td>\n",
       "      <td>1.121754</td>\n",
       "      <td>1.009484</td>\n",
       "      <td>0.450070</td>\n",
       "      <td>-1.106999</td>\n",
       "      <td>1.617407</td>\n",
       "      <td>0.272935</td>\n",
       "      <td>0.621780</td>\n",
       "      <td>0.643033</td>\n",
       "      <td>NaN</td>\n",
       "    </tr>\n",
       "    <tr>\n",
       "      <th>seq000004</th>\n",
       "      <td>-0.267395</td>\n",
       "      <td>1.387100</td>\n",
       "      <td>0.986554</td>\n",
       "      <td>-0.622790</td>\n",
       "      <td>-0.261790</td>\n",
       "      <td>-0.782576</td>\n",
       "      <td>-0.674672</td>\n",
       "      <td>-0.432181</td>\n",
       "      <td>0.007804</td>\n",
       "      <td>-0.629471</td>\n",
       "      <td>...</td>\n",
       "      <td>NaN</td>\n",
       "      <td>0.472460</td>\n",
       "      <td>0.476233</td>\n",
       "      <td>-0.150370</td>\n",
       "      <td>-0.545728</td>\n",
       "      <td>-0.398383</td>\n",
       "      <td>-0.677650</td>\n",
       "      <td>-0.122340</td>\n",
       "      <td>-0.891034</td>\n",
       "      <td>NaN</td>\n",
       "    </tr>\n",
       "    <tr>\n",
       "      <th>...</th>\n",
       "      <td>...</td>\n",
       "      <td>...</td>\n",
       "      <td>...</td>\n",
       "      <td>...</td>\n",
       "      <td>...</td>\n",
       "      <td>...</td>\n",
       "      <td>...</td>\n",
       "      <td>...</td>\n",
       "      <td>...</td>\n",
       "      <td>...</td>\n",
       "      <td>...</td>\n",
       "      <td>...</td>\n",
       "      <td>...</td>\n",
       "      <td>...</td>\n",
       "      <td>...</td>\n",
       "      <td>...</td>\n",
       "      <td>...</td>\n",
       "      <td>...</td>\n",
       "      <td>...</td>\n",
       "      <td>...</td>\n",
       "      <td>...</td>\n",
       "    </tr>\n",
       "    <tr>\n",
       "      <th>seq241352</th>\n",
       "      <td>1.674055</td>\n",
       "      <td>20.389858</td>\n",
       "      <td>0.770055</td>\n",
       "      <td>12.959504</td>\n",
       "      <td>11.324906</td>\n",
       "      <td>0.086366</td>\n",
       "      <td>7.169778</td>\n",
       "      <td>5.404982</td>\n",
       "      <td>1.465122</td>\n",
       "      <td>1.487886</td>\n",
       "      <td>...</td>\n",
       "      <td>0.687683</td>\n",
       "      <td>-1.841742</td>\n",
       "      <td>-0.141082</td>\n",
       "      <td>7.559083</td>\n",
       "      <td>0.501589</td>\n",
       "      <td>2.483238</td>\n",
       "      <td>-0.078747</td>\n",
       "      <td>1.047783</td>\n",
       "      <td>0.134119</td>\n",
       "      <td>1.433700</td>\n",
       "    </tr>\n",
       "    <tr>\n",
       "      <th>seq241353</th>\n",
       "      <td>-0.426269</td>\n",
       "      <td>-0.821294</td>\n",
       "      <td>0.591560</td>\n",
       "      <td>0.627169</td>\n",
       "      <td>0.459313</td>\n",
       "      <td>2.148826</td>\n",
       "      <td>-0.224518</td>\n",
       "      <td>-0.138735</td>\n",
       "      <td>-0.092908</td>\n",
       "      <td>-0.507217</td>\n",
       "      <td>...</td>\n",
       "      <td>NaN</td>\n",
       "      <td>1.903628</td>\n",
       "      <td>0.193573</td>\n",
       "      <td>0.087378</td>\n",
       "      <td>-0.699687</td>\n",
       "      <td>-2.233314</td>\n",
       "      <td>0.752704</td>\n",
       "      <td>-0.246153</td>\n",
       "      <td>-1.003296</td>\n",
       "      <td>NaN</td>\n",
       "    </tr>\n",
       "    <tr>\n",
       "      <th>seq241354</th>\n",
       "      <td>0.604869</td>\n",
       "      <td>-0.592981</td>\n",
       "      <td>-0.319087</td>\n",
       "      <td>-0.203019</td>\n",
       "      <td>0.625912</td>\n",
       "      <td>0.138792</td>\n",
       "      <td>0.195578</td>\n",
       "      <td>-0.531915</td>\n",
       "      <td>0.000103</td>\n",
       "      <td>0.128531</td>\n",
       "      <td>...</td>\n",
       "      <td>0.558631</td>\n",
       "      <td>-1.288070</td>\n",
       "      <td>0.400266</td>\n",
       "      <td>0.748016</td>\n",
       "      <td>0.156894</td>\n",
       "      <td>-0.426744</td>\n",
       "      <td>0.388496</td>\n",
       "      <td>0.169070</td>\n",
       "      <td>0.397499</td>\n",
       "      <td>NaN</td>\n",
       "    </tr>\n",
       "    <tr>\n",
       "      <th>seq241355</th>\n",
       "      <td>3.972188</td>\n",
       "      <td>1.513030</td>\n",
       "      <td>-1.339399</td>\n",
       "      <td>0.297040</td>\n",
       "      <td>-0.954315</td>\n",
       "      <td>1.459436</td>\n",
       "      <td>-0.456848</td>\n",
       "      <td>-0.532908</td>\n",
       "      <td>-1.082723</td>\n",
       "      <td>-0.884932</td>\n",
       "      <td>...</td>\n",
       "      <td>NaN</td>\n",
       "      <td>-0.019835</td>\n",
       "      <td>-1.293031</td>\n",
       "      <td>2.349549</td>\n",
       "      <td>2.965371</td>\n",
       "      <td>1.019436</td>\n",
       "      <td>-0.226711</td>\n",
       "      <td>18.726991</td>\n",
       "      <td>17.560194</td>\n",
       "      <td>NaN</td>\n",
       "    </tr>\n",
       "    <tr>\n",
       "      <th>seq241356</th>\n",
       "      <td>6.721357</td>\n",
       "      <td>0.901949</td>\n",
       "      <td>-0.334034</td>\n",
       "      <td>-0.895239</td>\n",
       "      <td>-0.912853</td>\n",
       "      <td>0.035600</td>\n",
       "      <td>175.727903</td>\n",
       "      <td>154.003802</td>\n",
       "      <td>54.663814</td>\n",
       "      <td>58.427359</td>\n",
       "      <td>...</td>\n",
       "      <td>-0.834070</td>\n",
       "      <td>-0.226717</td>\n",
       "      <td>-0.595780</td>\n",
       "      <td>7.172921</td>\n",
       "      <td>4.124859</td>\n",
       "      <td>0.861849</td>\n",
       "      <td>2.549737</td>\n",
       "      <td>6.358077</td>\n",
       "      <td>1.825678</td>\n",
       "      <td>NaN</td>\n",
       "    </tr>\n",
       "  </tbody>\n",
       "</table>\n",
       "<p>241357 rows × 244 columns</p>\n",
       "</div>"
      ],
      "text/plain": [
       "          RNCMPT00100 RNCMPT00101 RNCMPT00102 RNCMPT00103 RNCMPT00104  \\\n",
       "seq000000    1.122218    1.272641   -1.089717   -0.067146    0.831671   \n",
       "seq000001    8.840295   -2.113002    2.397376   -1.809082   -0.963712   \n",
       "seq000002   -0.353194   -0.183539   -0.467021   -1.865032    0.663077   \n",
       "seq000003    1.386679   -0.236797   -0.031135   -0.997679   -0.079547   \n",
       "seq000004   -0.267395    1.387100    0.986554   -0.622790   -0.261790   \n",
       "...               ...         ...         ...         ...         ...   \n",
       "seq241352    1.674055   20.389858    0.770055   12.959504   11.324906   \n",
       "seq241353   -0.426269   -0.821294    0.591560    0.627169    0.459313   \n",
       "seq241354    0.604869   -0.592981   -0.319087   -0.203019    0.625912   \n",
       "seq241355    3.972188    1.513030   -1.339399    0.297040   -0.954315   \n",
       "seq241356    6.721357    0.901949   -0.334034   -0.895239   -0.912853   \n",
       "\n",
       "          RNCMPT00105  RNCMPT00106  RNCMPT00107 RNCMPT00108 RNCMPT00109  ...  \\\n",
       "seq000000   -0.070631     2.779642     2.509418    1.811186    2.762714  ...   \n",
       "seq000001   -0.202229    -0.121975    -0.038112   -0.636935   -1.100769  ...   \n",
       "seq000002    0.626212     0.910989     1.431777    0.003613   -0.086335  ...   \n",
       "seq000003    0.473447     6.296981     7.877085   13.880688   10.165925  ...   \n",
       "seq000004   -0.782576    -0.674672    -0.432181    0.007804   -0.629471  ...   \n",
       "...               ...          ...          ...         ...         ...  ...   \n",
       "seq241352    0.086366     7.169778     5.404982    1.465122    1.487886  ...   \n",
       "seq241353    2.148826    -0.224518    -0.138735   -0.092908   -0.507217  ...   \n",
       "seq241354    0.138792     0.195578    -0.531915    0.000103    0.128531  ...   \n",
       "seq241355    1.459436    -0.456848    -0.532908   -1.082723   -0.884932  ...   \n",
       "seq241356    0.035600   175.727903   154.003802   54.663814   58.427359  ...   \n",
       "\n",
       "          RNCMPT00008 RNCMPT00090 RNCMPT00091 RNCMPT00093 RNCMPT00094  \\\n",
       "seq000000    5.734185    0.907487    1.282393    0.861743   -0.115417   \n",
       "seq000001         NaN    0.029810    0.986617    3.979510   -0.388808   \n",
       "seq000002    0.198792    1.821554    1.289043   -1.282063   -0.640817   \n",
       "seq000003         NaN    1.121754    1.009484    0.450070   -1.106999   \n",
       "seq000004         NaN    0.472460    0.476233   -0.150370   -0.545728   \n",
       "...               ...         ...         ...         ...         ...   \n",
       "seq241352    0.687683   -1.841742   -0.141082    7.559083    0.501589   \n",
       "seq241353         NaN    1.903628    0.193573    0.087378   -0.699687   \n",
       "seq241354    0.558631   -1.288070    0.400266    0.748016    0.156894   \n",
       "seq241355         NaN   -0.019835   -1.293031    2.349549    2.965371   \n",
       "seq241356   -0.834070   -0.226717   -0.595780    7.172921    4.124859   \n",
       "\n",
       "          RNCMPT00095 RNCMPT00096 RNCMPT00097 RNCMPT00099 RNCMPT00009  \n",
       "seq000000    0.126413    1.010198   -0.123415   -0.060651   -0.398931  \n",
       "seq000001   -0.348266    0.216500   -1.098411    3.820988         NaN  \n",
       "seq000002    0.054688   -1.351889    0.470123   -0.057985   -1.057710  \n",
       "seq000003    1.617407    0.272935    0.621780    0.643033         NaN  \n",
       "seq000004   -0.398383   -0.677650   -0.122340   -0.891034         NaN  \n",
       "...               ...         ...         ...         ...         ...  \n",
       "seq241352    2.483238   -0.078747    1.047783    0.134119    1.433700  \n",
       "seq241353   -2.233314    0.752704   -0.246153   -1.003296         NaN  \n",
       "seq241354   -0.426744    0.388496    0.169070    0.397499         NaN  \n",
       "seq241355    1.019436   -0.226711   18.726991   17.560194         NaN  \n",
       "seq241356    0.861849    2.549737    6.358077    1.825678         NaN  \n",
       "\n",
       "[241357 rows x 244 columns]"
      ]
     },
     "execution_count": 3,
     "metadata": {},
     "output_type": "execute_result"
    }
   ],
   "source": [
    "# This displays the probe intensities recorded in the dataset\n",
    "sdata.seqs_annot"
   ]
  },
  {
   "cell_type": "markdown",
   "metadata": {},
   "source": [
    "# Data Visualization\n",
    "In order to visualize the downloaded data, the `plotting` module can be used. This module has many functions that integrate `seaborn` functions with the `SeqData` object.\n",
    "\n",
    "- The first plot depicts the frequency of a differing length of sequences appearing in the dataset.\n",
    "- The second plot depicts the distribution of probe intensities in the `RNCMPT00100` column of the dataset. It can be noted that a few outliers are present in this graph, which would disrupt the machine learning process. This issue will be remedied with the `preprocessing` module."
   ]
  },
  {
   "cell_type": "code",
   "execution_count": 35,
   "metadata": {},
   "outputs": [
    {
     "data": {
      "image/png": "[encoded data removed]",
      "text/plain": [
       "<Figure size 1000x500 with 1 Axes>"
      ]
     },
     "metadata": {},
     "output_type": "display_data"
    },
    {
     "data": {
      "image/png": "[encoded data removed]",
      "text/plain": [
       "<Figure size 1000x500 with 1 Axes>"
      ]
     },
     "metadata": {},
     "output_type": "display_data"
    }
   ],
   "source": [
    "sdata[\"SEQ_LEN\"] = [len(seq) for seq in sdata.seqs]\n",
    "eu.pl.histplot(\n",
    "    sdata, \n",
    "    keys=\"SEQ_LEN\", \n",
    "    orient=\"h\"\n",
    ")\n",
    "\n",
    "sdata[\"VIEW_TARGET\"] = sdata[\"RNCMPT00100\"].astype(float)\n",
    "eu.pl.violinplot(\n",
    "    sdata, \n",
    "    keys=\"VIEW_TARGET\"\n",
    ")"
   ]
  },
  {
   "cell_type": "markdown",
   "metadata": {},
   "source": [
    "# Preprocessing\n",
    "The `preprocessing` module contains a myriad of functions that help `SeqData` objects once they are filled with data. After generating the reverse compliments, one hot encoding, and splitting the data, two transforms are done to the data in order to increase its machine learning potential.\n",
    "\n",
    "- The values of probe intensities are clamped at 99.95% percentile per binding protein to eliminate outliers and balance the data.\n",
    "- Additionally, the probe intensities are normalized to a mean of 0 and a standard deviation of 1.\n",
    "\n",
    "By `plotting` the distribution of probe intensities of the now preprocessed set of data, it can be seen how many of the outliers have been made less impactful on the set itself."
   ]
  },
  {
   "cell_type": "code",
   "execution_count": 5,
   "metadata": {},
   "outputs": [
    {
     "data": {
      "application/vnd.jupyter.widget-view+json": {
       "model_id": "bd20493c8ffe4524bc3f924a5dfaf667",
       "version_major": 2,
       "version_minor": 0
      },
      "text/plain": [
       "Reverse complementing sequences:   0%|          | 0/241357 [00:00<?, ?it/s]"
      ]
     },
     "metadata": {},
     "output_type": "display_data"
    },
    {
     "name": "stdout",
     "output_type": "stream",
     "text": [
      "SeqData object modified:\n",
      "\trev_seqs: None -> 241357 rev_seqs added\n"
     ]
    },
    {
     "data": {
      "application/vnd.jupyter.widget-view+json": {
       "model_id": "06539a9a52764833afe5fbfcbf7696dc",
       "version_major": 2,
       "version_minor": 0
      },
      "text/plain": [
       "One-hot-encoding sequences:   0%|          | 0/241357 [00:00<?, ?it/s]"
      ]
     },
     "metadata": {},
     "output_type": "display_data"
    },
    {
     "data": {
      "application/vnd.jupyter.widget-view+json": {
       "model_id": "86b32186e99d4544843109ef74bedb03",
       "version_major": 2,
       "version_minor": 0
      },
      "text/plain": [
       "One-hot-encoding sequences:   0%|          | 0/241357 [00:00<?, ?it/s]"
      ]
     },
     "metadata": {},
     "output_type": "display_data"
    },
    {
     "name": "stdout",
     "output_type": "stream",
     "text": [
      "SeqData object modified:\n",
      "\tohe_seqs: None -> 241357 ohe_seqs added\n",
      "\tohe_rev_seqs: None -> 241357 ohe_rev_seqs added\n",
      "SeqData object modified:\n",
      "    seqs_annot:\n",
      "        + train\n"
     ]
    }
   ],
   "source": [
    "eu.pp.reverse_complement_data(sdata, RNA_bases=True)\n",
    "eu.pp.one_hot_encode_data(sdata, RNA_bases=True)\n",
    "eu.pp.train_test_split_data(sdata, split=0.8)"
   ]
  },
  {
   "cell_type": "code",
   "execution_count": 6,
   "metadata": {},
   "outputs": [],
   "source": [
    "# Only clamp and scale columns of usable data\n",
    "drop_annots = [\"SEQ_LEN\", \"VIEW_TARGET\", \"train\"]\n",
    "target_list = sdata.seqs_annot.columns.drop(drop_annots).tolist()"
   ]
  },
  {
   "cell_type": "code",
   "execution_count": null,
   "metadata": {},
   "outputs": [],
   "source": [
    "eu.pp.clamp_percentiles(sdata, 0.9995, target_list)"
   ]
  },
  {
   "cell_type": "code",
   "execution_count": null,
   "metadata": {},
   "outputs": [],
   "source": [
    "eu.pp.scale_targets(sdata, target_list, \"train\")"
   ]
  },
  {
   "cell_type": "code",
   "execution_count": 33,
   "metadata": {},
   "outputs": [
    {
     "data": {
      "image/png": "[encoded data removed]",
      "text/plain": [
       "<Figure size 1000x500 with 1 Axes>"
      ]
     },
     "metadata": {},
     "output_type": "display_data"
    }
   ],
   "source": [
    "eu.pl.violinplot(\n",
    "    sdata, \n",
    "    keys=\"RNCMPT00100_scaled\"\n",
    ")"
   ]
  },
  {
   "cell_type": "markdown",
   "metadata": {},
   "source": [
    "# Training\n",
    "Now that we have our data ready, it's time to train our model. This starts with instantiating and initializing our model. We can use the `models` module to do this:\n",
    "\n",
    "```python\n",
    "model = eu.models.DeepBind(\n",
    "    input_len=100,\n",
    "    output_dim=1,\n",
    "    scheduler = \"reduce_lr_on_plateau\",\n",
    "    scheduler_patience=2,\n",
    "    lr=0.001\n",
    ")\n",
    "model.summary()\n",
    "eu.models.init_weights(model)\n",
    "```\n",
    "We offer several options for instantiating a model architecture. Take a look at the API for more options and details.\n",
    "- The `Base Model`s contain the 4 common base architectures: FCN, CNN, RNN and Hybrid. \n",
    "- The `SOTA Model`s contain 2 SOTA architectures: DeepBind and DeepSEA.\n",
    "- The `Custom Models` are models that you can add to. We have  a single custom model currently implemented to serve as a template (`Jores21CNN`). Who knows? Maybe your custom model will become SOTA!"
   ]
  },
  {
   "cell_type": "code",
   "execution_count": 13,
   "metadata": {},
   "outputs": [],
   "source": [
    "# TODO: Instantiate your model"
   ]
  },
  {
   "cell_type": "markdown",
   "metadata": {},
   "source": [
    "With a model intantiated and initialized, we are set up to train our model. We can do this through the `train` module:\n",
    "\n",
    "```python\n",
    "eu.train.fit(\n",
    "    model=model, \n",
    "    sdata=sdata, \n",
    "    gpus=1, \n",
    "    target=\"target\",\n",
    "    train_key=\"train\",\n",
    "    epochs=50,\n",
    "    version=f\"v1\"\n",
    ")\n",
    "```\n",
    "\n",
    "We can see how well our models trained by plotting a training summary:\n",
    "\n",
    "```python\n",
    "eu.train.pl_training_summary(model_leaf, version=f\"v1\")\n",
    "```"
   ]
  },
  {
   "cell_type": "code",
   "execution_count": 14,
   "metadata": {},
   "outputs": [],
   "source": [
    "# TODO: Initialize your models parameters"
   ]
  },
  {
   "cell_type": "markdown",
   "metadata": {},
   "source": [
    "# Evaluation\n",
    "After the model's been trained, we can evaluate our performance on our training data and our held-out test data. This is done through the `plotting` module.\n",
    "It is often best to use the model that achieved the lowest loss on the validation data for evaluation. We can load this model in from the log directory:\n",
    "```python\n",
    "best_model = eu.models.DeepBind.load_from_checkpoint(\"...\")\n",
    "```\n",
    "We can then use this model to make predictions on our training and validation data and to visualize the performance:\n",
    "```python\n",
    "eu.predict.train_val_predictions(\n",
    "    best_model, \n",
    "    sdata=sdata, \n",
    "    target=\"target\",\n",
    "    train_key=\"train\",\n",
    "    version=f\"v1\",\n",
    ")\n",
    "train_idx = np.where(sdata_leaf_train[\"train\"] == True)[0]\n",
    "eu.pl.performance_scatter(\n",
    "    sdata, \n",
    "    seq_idx=train_idx, \n",
    "    target=\"target\", \n",
    "    prediction=\"target_predictions\",\n",
    "    title=\"Training Set Performance\",\n",
    "    alpha=0.5,\n",
    ")\n",
    "```"
   ]
  },
  {
   "cell_type": "code",
   "execution_count": 15,
   "metadata": {},
   "outputs": [],
   "source": [
    "# TODO: See how you performed and the training and validation sets"
   ]
  },
  {
   "cell_type": "markdown",
   "metadata": {},
   "source": [
    "It is important to understand how the model is performing on a held-out (and ideally independent) test set. You should either load this separately above, here or have split your data up in preprocessing (see `jores21_analysis.ipynb` for an example).\n",
    "\n",
    "```python\n",
    "eu.predict.predictions(\n",
    "    best_model, \n",
    "    sdata=sdata, \n",
    "    target=\"target\",\n",
    "    version=f\"v1\",\n",
    "    file_label=\"test\"\n",
    ")\n",
    "eu.predict.predictions(\n",
    "    best_model, \n",
    "    sdata=sdata, \n",
    "    target=\"target\",\n",
    "    version=f\"v1\",\n",
    "    file_label=\"test\"\n",
    ")"
   ]
  },
  {
   "cell_type": "code",
   "execution_count": 16,
   "metadata": {},
   "outputs": [],
   "source": [
    "# TODO: If you have a test set, see how you did on that"
   ]
  },
  {
   "cell_type": "markdown",
   "metadata": {},
   "source": [
    "# Interpretation\n",
    "Potentially the most important step in the EUGENe workflow is the interpretation of the model's predictions. This is done through the `interpret` module. All the functions in this module act on either `SeqData` and Models or just Models. Results from these calls can be visualized using the `plotting` module.\n",
    "---\n",
    "There are many options for interpreting the model's predictions, and we will again point users to the API for all the options and their arguments. We list examples for a few common ones below.\n",
    "\n",
    "\n",
    "```python\n",
    "eu.interpret.generate_pfms(\n",
    "    best_model_leaf, \n",
    "    sdata_leaf_test\n",
    ")\n",
    "```"
   ]
  },
  {
   "cell_type": "markdown",
   "metadata": {},
   "source": [
    "## Feature attribution\n",
    "We can calculate the contribution of each nucleotide to the model's predictions for a sequence by using the `interpret` module's `feature_attribution` function. We currently implement several different methods for this, includeing `DeepLift, ISM, InputXGradient and DeepSHAP`.\n",
    "```python\n",
    "eu.interpret.feature_attribution(\n",
    "    best_model,\n",
    "    sdata_test,\n",
    "    saliency_method=\"DeepLift\",\n",
    "    device= \"cuda\" if eu.settings.gpus > 0 else \"cpu\"\n",
    ")\n",
    "```"
   ]
  },
  {
   "cell_type": "code",
   "execution_count": 17,
   "metadata": {},
   "outputs": [],
   "source": [
    "# TODO: Run feature attribution on your model"
   ]
  },
  {
   "cell_type": "markdown",
   "metadata": {},
   "source": [
    "## Filter Visualization \n",
    "We can get an idea for what each filter of first convoulional layer of the model is seeing by using the `interpret` module's `generate_pfms` function. This creates a position frequency matrix for each filter in the model using sequences that highly activate that filter (can be defined in multiple ways). We often times pass the the test sequences through the model, but you can theoretically pass any sequences you want.\n",
    "```python\n",
    "eu.interpret.generate_pfms(\n",
    "    best_model, \n",
    "    sdata_test\n",
    ")\n",
    "```"
   ]
  },
  {
   "cell_type": "code",
   "execution_count": 18,
   "metadata": {},
   "outputs": [],
   "source": [
    "# TODO: Run filter visualization on your model"
   ]
  },
  {
   "cell_type": "markdown",
   "metadata": {},
   "source": [
    "## Other intepretation methods\n",
    "We currently implement a few other methods for interpreting the model's predictions. These include:\n",
    "- Dimensionality Reduction on your importance scores: e.g. `eu.interpret.pca`\n",
    "- ...\n",
    "We are looking to add more! If you are interested in contributing..."
   ]
  },
  {
   "cell_type": "code",
   "execution_count": 19,
   "metadata": {},
   "outputs": [],
   "source": [
    "# TODO: Perform other intepretation methods on your trained model"
   ]
  },
  {
   "cell_type": "markdown",
   "metadata": {},
   "source": [
    "# Wrapping up\n",
    "EUGENe is very much meant to be a community project. It represents a collection of data, models, and techniques meant for analyzing sequence data with deep learning. We are looking for contributions in almost every aspect of EUGENe. We are particularly interested in:\n",
    "\n",
    "- New model additions through the `models` module\n",
    "- New dataset additions through the `datasets` module\n",
    "- New preprocessing techniques through the `preprocessing` module\n",
    "- New visualization techniques through the `plotting` module\n",
    "- New interpretation techniques through the `interpret` module\n",
    "- New methods for training models in the `train` module\n",
    "\n",
    "Please do not hesitate to contact us if you have any questions or suggestions."
   ]
  },
  {
   "cell_type": "markdown",
   "metadata": {},
   "source": [
    "---"
   ]
  }
 ],
 "metadata": {
  "kernelspec": {
   "display_name": "Python 3.9.12 ('base')",
   "language": "python",
   "name": "python3"
  },
  "language_info": {
   "codemirror_mode": {
    "name": "ipython",
    "version": 3
   },
   "file_extension": ".py",
   "mimetype": "text/x-python",
   "name": "python",
   "nbconvert_exporter": "python",
   "pygments_lexer": "ipython3",
   "version": "3.9.12"
  },
  "orig_nbformat": 4,
  "vscode": {
   "interpreter": {
    "hash": "a445412b3331741a9e83c12b8d1f58585dfec4cc047851993ff836572bfde74d"
   }
  }
 },
 "nbformat": 4,
 "nbformat_minor": 2
}

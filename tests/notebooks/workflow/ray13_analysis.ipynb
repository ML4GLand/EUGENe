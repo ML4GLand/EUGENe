{
 "cells": [
  {
   "cell_type": "markdown",
   "id": "90a88efe-ebb3-424c-8704-fb4ee189af2c",
   "metadata": {},
   "source": [
    "# Implementation of DeepBind neural network using EUGENe"
   ]
  },
  {
   "cell_type": "markdown",
   "id": "2d058003-a667-4b45-9ddc-e47efe48e0e1",
   "metadata": {
    "tags": []
   },
   "source": [
    "**Authorship:**\n",
    "Hayden Stites, Adam Klie, *08/12/2022*\n",
    "***\n",
    "**Description:**\n",
    "Replicating experimental results from DeepBind and RNAcomplete (Ray, D., Kazan, H., Cook, K. et al.) using the eugene framework. 👍\n",
    "***"
   ]
  },
  {
   "cell_type": "code",
   "execution_count": 1,
   "metadata": {},
   "outputs": [
    {
     "name": "stderr",
     "output_type": "stream",
     "text": [
      "Global seed set to 13\n"
     ]
    },
    {
     "name": "stdout",
     "output_type": "stream",
     "text": [
      "GPU is available: True\n",
      "Number of GPUs: 1\n",
      "Current GPU: 0\n",
      "GPUs: NVIDIA GeForce RTX 2070\n",
      "janggu does not work on this machine, are you using MacOS or Linux?\n",
      "janggu does not work on this machine, are you using MacOS or Linux?\n",
      "0.1.0\n"
     ]
    }
   ],
   "source": [
    "if 'autoreload' not in get_ipython().extension_manager.loaded:\n",
    "    %load_ext autoreload \n",
    "%autoreload 2\n",
    "\n",
    "import numpy as np\n",
    "import pandas as pd\n",
    "import eugene as eu\n",
    "\n",
    "print(eu.__version__)"
   ]
  },
  {
   "cell_type": "markdown",
   "metadata": {},
   "source": [
    "# Dataloading\n",
    "The RNAcomplete dataset has its own helper function in the `datasets` module that returns a `SeqData` object from the dataset. The function will download and load the normalized RNAcomplete dataset from the hugheslab online repository, but the raw version can be specified. The directory that the dataset is downloaded into is specified by `eu.settings.dataset_dir`."
   ]
  },
  {
   "cell_type": "code",
   "execution_count": 2,
   "metadata": {},
   "outputs": [
    {
     "name": "stdout",
     "output_type": "stream",
     "text": [
      "Dataset RNAcomplete norm_data.txt.gz has already been dowloaded.\n"
     ]
    }
   ],
   "source": [
    "# Import the RNAcomplete dataset\n",
    "from eugene.datasets import RNAcomplete\n",
    "sdata = RNAcomplete()"
   ]
  },
  {
   "cell_type": "code",
   "execution_count": 9,
   "metadata": {},
   "outputs": [
    {
     "data": {
      "text/html": [
       "<div>\n",
       "<style scoped>\n",
       "    .dataframe tbody tr th:only-of-type {\n",
       "        vertical-align: middle;\n",
       "    }\n",
       "\n",
       "    .dataframe tbody tr th {\n",
       "        vertical-align: top;\n",
       "    }\n",
       "\n",
       "    .dataframe thead th {\n",
       "        text-align: right;\n",
       "    }\n",
       "</style>\n",
       "<table border=\"1\" class=\"dataframe\">\n",
       "  <thead>\n",
       "    <tr style=\"text-align: right;\">\n",
       "      <th></th>\n",
       "      <th>RNCMPT00100</th>\n",
       "      <th>RNCMPT00101</th>\n",
       "      <th>RNCMPT00102</th>\n",
       "      <th>RNCMPT00103</th>\n",
       "      <th>RNCMPT00104</th>\n",
       "      <th>RNCMPT00105</th>\n",
       "      <th>RNCMPT00106</th>\n",
       "      <th>RNCMPT00107</th>\n",
       "      <th>RNCMPT00108</th>\n",
       "      <th>RNCMPT00109</th>\n",
       "      <th>...</th>\n",
       "      <th>RNCMPT00008</th>\n",
       "      <th>RNCMPT00090</th>\n",
       "      <th>RNCMPT00091</th>\n",
       "      <th>RNCMPT00093</th>\n",
       "      <th>RNCMPT00094</th>\n",
       "      <th>RNCMPT00095</th>\n",
       "      <th>RNCMPT00096</th>\n",
       "      <th>RNCMPT00097</th>\n",
       "      <th>RNCMPT00099</th>\n",
       "      <th>RNCMPT00009</th>\n",
       "    </tr>\n",
       "  </thead>\n",
       "  <tbody>\n",
       "    <tr>\n",
       "      <th>seq000000</th>\n",
       "      <td>1.122218</td>\n",
       "      <td>1.272641</td>\n",
       "      <td>-1.089717</td>\n",
       "      <td>-0.067146</td>\n",
       "      <td>0.831671</td>\n",
       "      <td>-0.070631</td>\n",
       "      <td>2.779642</td>\n",
       "      <td>2.509418</td>\n",
       "      <td>1.811186</td>\n",
       "      <td>2.762714</td>\n",
       "      <td>...</td>\n",
       "      <td>5.734185</td>\n",
       "      <td>0.907487</td>\n",
       "      <td>1.282393</td>\n",
       "      <td>0.861743</td>\n",
       "      <td>-0.115417</td>\n",
       "      <td>0.126413</td>\n",
       "      <td>1.010198</td>\n",
       "      <td>-0.123415</td>\n",
       "      <td>-0.060651</td>\n",
       "      <td>-0.398931</td>\n",
       "    </tr>\n",
       "    <tr>\n",
       "      <th>seq000001</th>\n",
       "      <td>8.840295</td>\n",
       "      <td>-2.113002</td>\n",
       "      <td>2.397376</td>\n",
       "      <td>-1.809082</td>\n",
       "      <td>-0.963712</td>\n",
       "      <td>-0.202229</td>\n",
       "      <td>-0.121975</td>\n",
       "      <td>-0.038112</td>\n",
       "      <td>-0.636935</td>\n",
       "      <td>-1.100769</td>\n",
       "      <td>...</td>\n",
       "      <td>NaN</td>\n",
       "      <td>0.029810</td>\n",
       "      <td>0.986617</td>\n",
       "      <td>3.979510</td>\n",
       "      <td>-0.388808</td>\n",
       "      <td>-0.348266</td>\n",
       "      <td>0.216500</td>\n",
       "      <td>-1.098411</td>\n",
       "      <td>3.820988</td>\n",
       "      <td>NaN</td>\n",
       "    </tr>\n",
       "    <tr>\n",
       "      <th>seq000002</th>\n",
       "      <td>-0.353194</td>\n",
       "      <td>-0.183539</td>\n",
       "      <td>-0.467021</td>\n",
       "      <td>-1.865032</td>\n",
       "      <td>0.663077</td>\n",
       "      <td>0.626212</td>\n",
       "      <td>0.910989</td>\n",
       "      <td>1.431777</td>\n",
       "      <td>0.003613</td>\n",
       "      <td>-0.086335</td>\n",
       "      <td>...</td>\n",
       "      <td>0.198792</td>\n",
       "      <td>1.821554</td>\n",
       "      <td>1.289043</td>\n",
       "      <td>-1.282063</td>\n",
       "      <td>-0.640817</td>\n",
       "      <td>0.054688</td>\n",
       "      <td>-1.351889</td>\n",
       "      <td>0.470123</td>\n",
       "      <td>-0.057985</td>\n",
       "      <td>-1.057710</td>\n",
       "    </tr>\n",
       "    <tr>\n",
       "      <th>seq000003</th>\n",
       "      <td>1.386679</td>\n",
       "      <td>-0.236797</td>\n",
       "      <td>-0.031135</td>\n",
       "      <td>-0.997679</td>\n",
       "      <td>-0.079547</td>\n",
       "      <td>0.473447</td>\n",
       "      <td>6.296981</td>\n",
       "      <td>7.877085</td>\n",
       "      <td>13.880688</td>\n",
       "      <td>10.165925</td>\n",
       "      <td>...</td>\n",
       "      <td>NaN</td>\n",
       "      <td>1.121754</td>\n",
       "      <td>1.009484</td>\n",
       "      <td>0.450070</td>\n",
       "      <td>-1.106999</td>\n",
       "      <td>1.617407</td>\n",
       "      <td>0.272935</td>\n",
       "      <td>0.621780</td>\n",
       "      <td>0.643033</td>\n",
       "      <td>NaN</td>\n",
       "    </tr>\n",
       "    <tr>\n",
       "      <th>seq000004</th>\n",
       "      <td>-0.267395</td>\n",
       "      <td>1.387100</td>\n",
       "      <td>0.986554</td>\n",
       "      <td>-0.622790</td>\n",
       "      <td>-0.261790</td>\n",
       "      <td>-0.782576</td>\n",
       "      <td>-0.674672</td>\n",
       "      <td>-0.432181</td>\n",
       "      <td>0.007804</td>\n",
       "      <td>-0.629471</td>\n",
       "      <td>...</td>\n",
       "      <td>NaN</td>\n",
       "      <td>0.472460</td>\n",
       "      <td>0.476233</td>\n",
       "      <td>-0.150370</td>\n",
       "      <td>-0.545728</td>\n",
       "      <td>-0.398383</td>\n",
       "      <td>-0.677650</td>\n",
       "      <td>-0.122340</td>\n",
       "      <td>-0.891034</td>\n",
       "      <td>NaN</td>\n",
       "    </tr>\n",
       "    <tr>\n",
       "      <th>...</th>\n",
       "      <td>...</td>\n",
       "      <td>...</td>\n",
       "      <td>...</td>\n",
       "      <td>...</td>\n",
       "      <td>...</td>\n",
       "      <td>...</td>\n",
       "      <td>...</td>\n",
       "      <td>...</td>\n",
       "      <td>...</td>\n",
       "      <td>...</td>\n",
       "      <td>...</td>\n",
       "      <td>...</td>\n",
       "      <td>...</td>\n",
       "      <td>...</td>\n",
       "      <td>...</td>\n",
       "      <td>...</td>\n",
       "      <td>...</td>\n",
       "      <td>...</td>\n",
       "      <td>...</td>\n",
       "      <td>...</td>\n",
       "      <td>...</td>\n",
       "    </tr>\n",
       "    <tr>\n",
       "      <th>seq241352</th>\n",
       "      <td>1.674055</td>\n",
       "      <td>20.389858</td>\n",
       "      <td>0.770055</td>\n",
       "      <td>12.959504</td>\n",
       "      <td>11.324906</td>\n",
       "      <td>0.086366</td>\n",
       "      <td>7.169778</td>\n",
       "      <td>5.404982</td>\n",
       "      <td>1.465122</td>\n",
       "      <td>1.487886</td>\n",
       "      <td>...</td>\n",
       "      <td>0.687683</td>\n",
       "      <td>-1.841742</td>\n",
       "      <td>-0.141082</td>\n",
       "      <td>7.559083</td>\n",
       "      <td>0.501589</td>\n",
       "      <td>2.483238</td>\n",
       "      <td>-0.078747</td>\n",
       "      <td>1.047783</td>\n",
       "      <td>0.134119</td>\n",
       "      <td>1.433700</td>\n",
       "    </tr>\n",
       "    <tr>\n",
       "      <th>seq241353</th>\n",
       "      <td>-0.426269</td>\n",
       "      <td>-0.821294</td>\n",
       "      <td>0.591560</td>\n",
       "      <td>0.627169</td>\n",
       "      <td>0.459313</td>\n",
       "      <td>2.148826</td>\n",
       "      <td>-0.224518</td>\n",
       "      <td>-0.138735</td>\n",
       "      <td>-0.092908</td>\n",
       "      <td>-0.507217</td>\n",
       "      <td>...</td>\n",
       "      <td>NaN</td>\n",
       "      <td>1.903628</td>\n",
       "      <td>0.193573</td>\n",
       "      <td>0.087378</td>\n",
       "      <td>-0.699687</td>\n",
       "      <td>-2.233314</td>\n",
       "      <td>0.752704</td>\n",
       "      <td>-0.246153</td>\n",
       "      <td>-1.003296</td>\n",
       "      <td>NaN</td>\n",
       "    </tr>\n",
       "    <tr>\n",
       "      <th>seq241354</th>\n",
       "      <td>0.604869</td>\n",
       "      <td>-0.592981</td>\n",
       "      <td>-0.319087</td>\n",
       "      <td>-0.203019</td>\n",
       "      <td>0.625912</td>\n",
       "      <td>0.138792</td>\n",
       "      <td>0.195578</td>\n",
       "      <td>-0.531915</td>\n",
       "      <td>0.000103</td>\n",
       "      <td>0.128531</td>\n",
       "      <td>...</td>\n",
       "      <td>0.558631</td>\n",
       "      <td>-1.288070</td>\n",
       "      <td>0.400266</td>\n",
       "      <td>0.748016</td>\n",
       "      <td>0.156894</td>\n",
       "      <td>-0.426744</td>\n",
       "      <td>0.388496</td>\n",
       "      <td>0.169070</td>\n",
       "      <td>0.397499</td>\n",
       "      <td>NaN</td>\n",
       "    </tr>\n",
       "    <tr>\n",
       "      <th>seq241355</th>\n",
       "      <td>3.972188</td>\n",
       "      <td>1.513030</td>\n",
       "      <td>-1.339399</td>\n",
       "      <td>0.297040</td>\n",
       "      <td>-0.954315</td>\n",
       "      <td>1.459436</td>\n",
       "      <td>-0.456848</td>\n",
       "      <td>-0.532908</td>\n",
       "      <td>-1.082723</td>\n",
       "      <td>-0.884932</td>\n",
       "      <td>...</td>\n",
       "      <td>NaN</td>\n",
       "      <td>-0.019835</td>\n",
       "      <td>-1.293031</td>\n",
       "      <td>2.349549</td>\n",
       "      <td>2.965371</td>\n",
       "      <td>1.019436</td>\n",
       "      <td>-0.226711</td>\n",
       "      <td>18.726991</td>\n",
       "      <td>17.560194</td>\n",
       "      <td>NaN</td>\n",
       "    </tr>\n",
       "    <tr>\n",
       "      <th>seq241356</th>\n",
       "      <td>6.721357</td>\n",
       "      <td>0.901949</td>\n",
       "      <td>-0.334034</td>\n",
       "      <td>-0.895239</td>\n",
       "      <td>-0.912853</td>\n",
       "      <td>0.035600</td>\n",
       "      <td>175.727903</td>\n",
       "      <td>154.003802</td>\n",
       "      <td>54.663814</td>\n",
       "      <td>58.427359</td>\n",
       "      <td>...</td>\n",
       "      <td>-0.834070</td>\n",
       "      <td>-0.226717</td>\n",
       "      <td>-0.595780</td>\n",
       "      <td>7.172921</td>\n",
       "      <td>4.124859</td>\n",
       "      <td>0.861849</td>\n",
       "      <td>2.549737</td>\n",
       "      <td>6.358077</td>\n",
       "      <td>1.825678</td>\n",
       "      <td>NaN</td>\n",
       "    </tr>\n",
       "  </tbody>\n",
       "</table>\n",
       "<p>241357 rows × 244 columns</p>\n",
       "</div>"
      ],
      "text/plain": [
       "          RNCMPT00100 RNCMPT00101 RNCMPT00102 RNCMPT00103 RNCMPT00104  \\\n",
       "seq000000    1.122218    1.272641   -1.089717   -0.067146    0.831671   \n",
       "seq000001    8.840295   -2.113002    2.397376   -1.809082   -0.963712   \n",
       "seq000002   -0.353194   -0.183539   -0.467021   -1.865032    0.663077   \n",
       "seq000003    1.386679   -0.236797   -0.031135   -0.997679   -0.079547   \n",
       "seq000004   -0.267395    1.387100    0.986554   -0.622790   -0.261790   \n",
       "...               ...         ...         ...         ...         ...   \n",
       "seq241352    1.674055   20.389858    0.770055   12.959504   11.324906   \n",
       "seq241353   -0.426269   -0.821294    0.591560    0.627169    0.459313   \n",
       "seq241354    0.604869   -0.592981   -0.319087   -0.203019    0.625912   \n",
       "seq241355    3.972188    1.513030   -1.339399    0.297040   -0.954315   \n",
       "seq241356    6.721357    0.901949   -0.334034   -0.895239   -0.912853   \n",
       "\n",
       "          RNCMPT00105  RNCMPT00106  RNCMPT00107 RNCMPT00108 RNCMPT00109  ...  \\\n",
       "seq000000   -0.070631     2.779642     2.509418    1.811186    2.762714  ...   \n",
       "seq000001   -0.202229    -0.121975    -0.038112   -0.636935   -1.100769  ...   \n",
       "seq000002    0.626212     0.910989     1.431777    0.003613   -0.086335  ...   \n",
       "seq000003    0.473447     6.296981     7.877085   13.880688   10.165925  ...   \n",
       "seq000004   -0.782576    -0.674672    -0.432181    0.007804   -0.629471  ...   \n",
       "...               ...          ...          ...         ...         ...  ...   \n",
       "seq241352    0.086366     7.169778     5.404982    1.465122    1.487886  ...   \n",
       "seq241353    2.148826    -0.224518    -0.138735   -0.092908   -0.507217  ...   \n",
       "seq241354    0.138792     0.195578    -0.531915    0.000103    0.128531  ...   \n",
       "seq241355    1.459436    -0.456848    -0.532908   -1.082723   -0.884932  ...   \n",
       "seq241356    0.035600   175.727903   154.003802   54.663814   58.427359  ...   \n",
       "\n",
       "          RNCMPT00008 RNCMPT00090 RNCMPT00091 RNCMPT00093 RNCMPT00094  \\\n",
       "seq000000    5.734185    0.907487    1.282393    0.861743   -0.115417   \n",
       "seq000001         NaN    0.029810    0.986617    3.979510   -0.388808   \n",
       "seq000002    0.198792    1.821554    1.289043   -1.282063   -0.640817   \n",
       "seq000003         NaN    1.121754    1.009484    0.450070   -1.106999   \n",
       "seq000004         NaN    0.472460    0.476233   -0.150370   -0.545728   \n",
       "...               ...         ...         ...         ...         ...   \n",
       "seq241352    0.687683   -1.841742   -0.141082    7.559083    0.501589   \n",
       "seq241353         NaN    1.903628    0.193573    0.087378   -0.699687   \n",
       "seq241354    0.558631   -1.288070    0.400266    0.748016    0.156894   \n",
       "seq241355         NaN   -0.019835   -1.293031    2.349549    2.965371   \n",
       "seq241356   -0.834070   -0.226717   -0.595780    7.172921    4.124859   \n",
       "\n",
       "          RNCMPT00095 RNCMPT00096 RNCMPT00097 RNCMPT00099 RNCMPT00009  \n",
       "seq000000    0.126413    1.010198   -0.123415   -0.060651   -0.398931  \n",
       "seq000001   -0.348266    0.216500   -1.098411    3.820988         NaN  \n",
       "seq000002    0.054688   -1.351889    0.470123   -0.057985   -1.057710  \n",
       "seq000003    1.617407    0.272935    0.621780    0.643033         NaN  \n",
       "seq000004   -0.398383   -0.677650   -0.122340   -0.891034         NaN  \n",
       "...               ...         ...         ...         ...         ...  \n",
       "seq241352    2.483238   -0.078747    1.047783    0.134119    1.433700  \n",
       "seq241353   -2.233314    0.752704   -0.246153   -1.003296         NaN  \n",
       "seq241354   -0.426744    0.388496    0.169070    0.397499         NaN  \n",
       "seq241355    1.019436   -0.226711   18.726991   17.560194         NaN  \n",
       "seq241356    0.861849    2.549737    6.358077    1.825678         NaN  \n",
       "\n",
       "[241357 rows x 244 columns]"
      ]
     },
     "execution_count": 9,
     "metadata": {},
     "output_type": "execute_result"
    }
   ],
   "source": [
    "# This displays the probe intensities recorded in the dataset\n",
    "sdata.seqs_annot"
   ]
  },
  {
   "cell_type": "markdown",
   "metadata": {},
   "source": [
    "# Data Visualization\n",
    "In order to visualize the downloaded data, the `plotting` module can be used. This module has many functions that integrate `seaborn` functions with the `SeqData` object.\n",
    "\n",
    "- The first plot depicts the frequency of a differing length of sequences appearing in the dataset.\n",
    "- The second plot depicts the distribution of probe intensities in the `RNCMPT00100` column of the dataset. It can be noted that a few outliers are present in this graph, which would disrupt the machine learning process. This issue will be remedied with the `preprocessing` module."
   ]
  },
  {
   "cell_type": "code",
   "execution_count": null,
   "metadata": {},
   "outputs": [],
   "source": [
    "sdata[\"SEQ_LEN\"] = [len(seq) for seq in sdata.seqs]\n",
    "eu.pl.histplot(\n",
    "    sdata, \n",
    "    keys=\"SEQ_LEN\", \n",
    "    orient=\"h\"\n",
    ")\n",
    "\n",
    "sdata[\"VIEW_TARGET\"] = sdata[\"RNCMPT00100\"].astype(float)\n",
    "eu.pl.violinplot(\n",
    "    sdata, \n",
    "    keys=\"VIEW_TARGET\"\n",
    ")\n",
    "\n",
    "sdata.seqs_annot = sdata.seqs_annot.drop([\"SEQ_LEN\", \"VIEW_TARGET\"], axis=1)"
   ]
  },
  {
   "cell_type": "markdown",
   "metadata": {},
   "source": [
    "# Preprocessing\n",
    "The `preprocessing` module contains a myriad of functions that help `SeqData` objects once they are filled with data. After generating the reverse compliments, one hot encoding, and splitting the data, three additional transforms are performed on the data in order to increase the learning potential of the model.\n",
    "\n",
    "- The values of probe intensities are clamped at 99.95% percentile per binding protein to eliminate outliers and balance the data.\n",
    "- The probe intensities are normalized to a mean of 0 and a standard deviation of 1.\n",
    "- Targets with too many NaN values are dropped, and the remaining ones have NaN values replaced with 0.\n",
    "\n",
    "By `plotting` the distribution of probe intensities of the now preprocessed set of data, it can be seen how many of the outliers have been made less impactful on the set itself."
   ]
  },
  {
   "cell_type": "code",
   "execution_count": 3,
   "metadata": {},
   "outputs": [
    {
     "data": {
      "application/vnd.jupyter.widget-view+json": {
       "model_id": "543dfd1f971749f79464ce0904d5bf3b",
       "version_major": 2,
       "version_minor": 0
      },
      "text/plain": [
       "Reverse complementing sequences:   0%|          | 0/241357 [00:00<?, ?it/s]"
      ]
     },
     "metadata": {},
     "output_type": "display_data"
    },
    {
     "name": "stdout",
     "output_type": "stream",
     "text": [
      "SeqData object modified:\n",
      "\trev_seqs: None -> 241357 rev_seqs added\n"
     ]
    },
    {
     "data": {
      "application/vnd.jupyter.widget-view+json": {
       "model_id": "ce6741794e764eecb8ffd1b13af5a366",
       "version_major": 2,
       "version_minor": 0
      },
      "text/plain": [
       "One-hot-encoding sequences:   0%|          | 0/241357 [00:00<?, ?it/s]"
      ]
     },
     "metadata": {},
     "output_type": "display_data"
    },
    {
     "data": {
      "application/vnd.jupyter.widget-view+json": {
       "model_id": "e565422dc9cf4fd2bd63602536c232fb",
       "version_major": 2,
       "version_minor": 0
      },
      "text/plain": [
       "One-hot-encoding sequences:   0%|          | 0/241357 [00:00<?, ?it/s]"
      ]
     },
     "metadata": {},
     "output_type": "display_data"
    },
    {
     "name": "stdout",
     "output_type": "stream",
     "text": [
      "SeqData object modified:\n",
      "\tohe_seqs: None -> 241357 ohe_seqs added\n",
      "\tohe_rev_seqs: None -> 241357 ohe_rev_seqs added\n",
      "SeqData object modified:\n",
      "    seqs_annot:\n",
      "        + train\n"
     ]
    }
   ],
   "source": [
    "eu.pp.reverse_complement_data(sdata, alphabet=\"RNA\")\n",
    "eu.pp.one_hot_encode_data(sdata, alphabet=\"RNA\", seq_align=\"center\", fill_value=0.25)\n",
    "eu.pp.train_test_split_data(sdata, split=0.8)"
   ]
  },
  {
   "cell_type": "code",
   "execution_count": 5,
   "metadata": {},
   "outputs": [],
   "source": [
    "# Only process columns of usable data\n",
    "target_list = sdata.seqs_annot.columns.drop(\"train\").tolist()"
   ]
  },
  {
   "cell_type": "code",
   "execution_count": 6,
   "metadata": {},
   "outputs": [],
   "source": [
    "eu.pp.clamp_percentiles(sdata, 0.9995, target_list)\n",
    "eu.pp.scale_targets(sdata, target_list, \"train\", suffix=False)"
   ]
  },
  {
   "cell_type": "code",
   "execution_count": 7,
   "metadata": {},
   "outputs": [
    {
     "name": "stdout",
     "output_type": "stream",
     "text": [
      "SeqData object modified:\n",
      "    seqs_annot:\n",
      "        - RNCMPT00060, RNCMPT00015, RNCMPT00009, RNCMPT00129, RNCMPT00058, RNCMPT00144, RNCMPT00145, RNCMPT00008\n"
     ]
    }
   ],
   "source": [
    "eu.pp.clean_nan_data(sdata, target_list, nan_threshold=0.2)"
   ]
  },
  {
   "cell_type": "code",
   "execution_count": 9,
   "metadata": {},
   "outputs": [
    {
     "data": {
      "image/png": "[encoded data removed]",
      "text/plain": [
       "<Figure size 1000x500 with 1 Axes>"
      ]
     },
     "metadata": {},
     "output_type": "display_data"
    }
   ],
   "source": [
    "eu.pl.violinplot(\n",
    "    sdata, \n",
    "    keys=\"RNCMPT00100\"\n",
    ")"
   ]
  },
  {
   "cell_type": "markdown",
   "metadata": {},
   "source": [
    "The `eu.dl.write_h5sd` function allows a `SeqData` object (complete with all its data) to be written to an `h5sd` file. This can be used to configure and test a model multiple times without rerunning the `dataloading` and `preprocessing`."
   ]
  },
  {
   "cell_type": "code",
   "execution_count": 8,
   "metadata": {},
   "outputs": [],
   "source": [
    "eu.dl.write_h5sd(sdata, \"SD_RNAcomplete.h5\")"
   ]
  },
  {
   "cell_type": "markdown",
   "metadata": {},
   "source": [
    "# Training\n",
    "\n",
    "The `training` step is where the optimization of the model occurs. The `models` module comes with many preset models that can be accessed by calling one of their classes. For this analysis, the `DeepBind` model is used. All `models` can be instantiated with different parameters to modify their behavior. Because the dataset has 236 different targets, that many output dimensions will be in the model to allow for multitasking."
   ]
  },
  {
   "cell_type": "code",
   "execution_count": 9,
   "metadata": {},
   "outputs": [
    {
     "name": "stdout",
     "output_type": "stream",
     "text": [
      "The autoreload extension is already loaded. To reload it, use:\n",
      "  %reload_ext autoreload\n",
      "0.1.0\n"
     ]
    }
   ],
   "source": [
    "if 'autoreload' not in get_ipython().extension_manager.loaded:\n",
    "    %load_ext autoreload \n",
    "%autoreload 2\n",
    "\n",
    "import numpy as np\n",
    "import pandas as pd\n",
    "import eugene as eu\n",
    "\n",
    "# Configure EUGENe \n",
    "print(eu.__version__)\n",
    "eu.settings.dataset_dir = \"./datasets/\"\n",
    "eu.settings.logging_dir = \"./eugene_log/\"\n",
    "eu.settings.output_dir = \"./eugene_output/\"\n",
    "\n",
    "# Test experimentally\n",
    "eu.settings.dl_num_workers = 4\n",
    "eu.settings.batch_size = 2048\n",
    "eu.settings.dl_pin_memory_gpu_training = True"
   ]
  },
  {
   "cell_type": "code",
   "execution_count": 2,
   "metadata": {},
   "outputs": [],
   "source": [
    "# Load preprocessed sdata\n",
    "sdata = eu.dl.read_h5sd(\"SD_RNAcomplete.h5\")"
   ]
  },
  {
   "cell_type": "code",
   "execution_count": null,
   "metadata": {},
   "outputs": [],
   "source": [
    "# Adam:\n",
    "# Get rid of stride_c before its done. I can't figure out how to automatically calculate out the fc inputs from different mp strides. Check that all the kwargs are according to the paper too.\n",
    "# I increased some dims to help it out a bit but you can set them back if you need. Double check that a motif length of 16 is conv_kernels (conv kernel size) and not mp kernel_size."
   ]
  },
  {
   "cell_type": "code",
   "execution_count": 10,
   "metadata": {},
   "outputs": [
    {
     "name": "stdout",
     "output_type": "stream",
     "text": [
      "Model: DeepBind\n",
      "Input length: 41\n",
      "Output dimension: 236\n",
      "Strand: ds\n",
      "Task: regression\n",
      "Aggregation: None\n",
      "Loss function: mse_loss\n",
      "Optimizer: adam\n",
      "\tOptimizer parameters: {}\n",
      "Learning rate: 0.0005\n",
      "Scheduler: reduce_lr_on_plateau\n",
      "Scheduler patience: 3\n"
     ]
    },
    {
     "data": {
      "text/plain": [
       "DeepBind(\n",
       "  (hp_metric): R2Score()\n",
       "  (max_pool): MaxPool1d(kernel_size=4, stride=1, padding=0, dilation=1, ceil_mode=False)\n",
       "  (avg_pool): AvgPool1d(kernel_size=(4,), stride=(1,), padding=(0,))\n",
       "  (convnet): BasicConv1D(\n",
       "    (module): Sequential(\n",
       "      (0): Conv1d(4, 64, kernel_size=(16,), stride=(1,))\n",
       "      (1): ReLU()\n",
       "      (2): Dropout(p=0.25, inplace=False)\n",
       "      (3): BatchNorm1d(64, eps=1e-05, momentum=0.1, affine=True, track_running_stats=True)\n",
       "    )\n",
       "  )\n",
       "  (fcn): BasicFullyConnectedModule(\n",
       "    (module): Sequential(\n",
       "      (0): Linear(in_features=6644, out_features=1024, bias=True)\n",
       "      (1): ReLU()\n",
       "      (2): Dropout(p=0.25, inplace=False)\n",
       "      (3): BatchNorm1d(1024, eps=1e-05, momentum=0.1, affine=True, track_running_stats=True)\n",
       "      (4): Linear(in_features=1024, out_features=512, bias=True)\n",
       "      (5): ReLU()\n",
       "      (6): Dropout(p=0.25, inplace=False)\n",
       "      (7): BatchNorm1d(512, eps=1e-05, momentum=0.1, affine=True, track_running_stats=True)\n",
       "      (8): Linear(in_features=512, out_features=236, bias=True)\n",
       "    )\n",
       "  )\n",
       ")"
      ]
     },
     "execution_count": 10,
     "metadata": {},
     "output_type": "execute_result"
    }
   ],
   "source": [
    "from eugene.models import DeepBind\n",
    "\n",
    "conv_dropout = 0.25\n",
    "fc_dropout = 0.25\n",
    "batchnorm = True\n",
    "model = DeepBind(\n",
    "    input_len=41, # Length of padded sequences\n",
    "    output_dim=236, # Number of multitask outputs\n",
    "    strand=\"ds\",\n",
    "    task=\"regression\",\n",
    "    stride_c=4980,\n",
    "    conv_kwargs=dict(channels=[4, 64], conv_kernels=[16], dropout_rates=conv_dropout, batchnorm=batchnorm),\n",
    "    mp_kwargs=dict(kernel_size=4, stride=1),\n",
    "    fc_kwargs=dict(hidden_dims=[1024, 512], dropout_rate=fc_dropout, batchnorm=batchnorm),\n",
    "    lr=.0005,\n",
    "    scheduler=\"reduce_lr_on_plateau\",\n",
    "    scheduler_patience=3\n",
    ")\n",
    "\n",
    "model.summary()\n",
    "model"
   ]
  },
  {
   "cell_type": "code",
   "execution_count": 11,
   "metadata": {},
   "outputs": [
    {
     "name": "stdout",
     "output_type": "stream",
     "text": [
      "No transforms given, assuming just need to tensorize).\n"
     ]
    },
    {
     "name": "stderr",
     "output_type": "stream",
     "text": [
      "GPU available: True, used: True\n",
      "TPU available: False, using: 0 TPU cores\n",
      "IPU available: False, using: 0 IPUs\n",
      "LOCAL_RANK: 0 - CUDA_VISIBLE_DEVICES: [0]\n"
     ]
    },
    {
     "name": "stdout",
     "output_type": "stream",
     "text": [
      "No transforms given, assuming just need to tensorize).\n"
     ]
    },
    {
     "name": "stderr",
     "output_type": "stream",
     "text": [
      "\n",
      "  | Name      | Type                      | Params\n",
      "--------------------------------------------------------\n",
      "0 | hp_metric | R2Score                   | 0     \n",
      "1 | max_pool  | MaxPool1d                 | 0     \n",
      "2 | avg_pool  | AvgPool1d                 | 0     \n",
      "3 | convnet   | BasicConv1D               | 4.3 K \n",
      "4 | fcn       | BasicFullyConnectedModule | 7.5 M \n",
      "--------------------------------------------------------\n",
      "7.5 M     Trainable params\n",
      "0         Non-trainable params\n",
      "7.5 M     Total params\n",
      "29.831    Total estimated model params size (MB)\n"
     ]
    },
    {
     "data": {
      "application/vnd.jupyter.widget-view+json": {
       "model_id": "aed93a4f0f104610beb12f4078c9dcbe",
       "version_major": 2,
       "version_minor": 0
      },
      "text/plain": [
       "Validation sanity check: 0it [00:00, ?it/s]"
      ]
     },
     "metadata": {},
     "output_type": "display_data"
    },
    {
     "name": "stderr",
     "output_type": "stream",
     "text": [
      "Global seed set to 13\n"
     ]
    },
    {
     "data": {
      "application/vnd.jupyter.widget-view+json": {
       "model_id": "f1b9d032a85d4974a11a190ea3b29252",
       "version_major": 2,
       "version_minor": 0
      },
      "text/plain": [
       "Training: 0it [00:00, ?it/s]"
      ]
     },
     "metadata": {},
     "output_type": "display_data"
    },
    {
     "data": {
      "application/vnd.jupyter.widget-view+json": {
       "model_id": "046b327a28664d7a9fbc837136a3d04c",
       "version_major": 2,
       "version_minor": 0
      },
      "text/plain": [
       "Validating: 0it [00:00, ?it/s]"
      ]
     },
     "metadata": {},
     "output_type": "display_data"
    },
    {
     "name": "stderr",
     "output_type": "stream",
     "text": [
      "Metric val_loss improved. New best score: 0.804\n"
     ]
    },
    {
     "data": {
      "application/vnd.jupyter.widget-view+json": {
       "model_id": "ff84959d4b1b4d3f94d031dc7baef246",
       "version_major": 2,
       "version_minor": 0
      },
      "text/plain": [
       "Validating: 0it [00:00, ?it/s]"
      ]
     },
     "metadata": {},
     "output_type": "display_data"
    },
    {
     "name": "stderr",
     "output_type": "stream",
     "text": [
      "Metric val_loss improved by 0.056 >= min_delta = 0.0. New best score: 0.748\n"
     ]
    },
    {
     "data": {
      "application/vnd.jupyter.widget-view+json": {
       "model_id": "9f4d280a6b3f41859d3b9af2c90ad6f8",
       "version_major": 2,
       "version_minor": 0
      },
      "text/plain": [
       "Validating: 0it [00:00, ?it/s]"
      ]
     },
     "metadata": {},
     "output_type": "display_data"
    },
    {
     "name": "stderr",
     "output_type": "stream",
     "text": [
      "Metric val_loss improved by 0.036 >= min_delta = 0.0. New best score: 0.713\n"
     ]
    },
    {
     "data": {
      "application/vnd.jupyter.widget-view+json": {
       "model_id": "3902e776912e4bd1aa78be44b44dba50",
       "version_major": 2,
       "version_minor": 0
      },
      "text/plain": [
       "Validating: 0it [00:00, ?it/s]"
      ]
     },
     "metadata": {},
     "output_type": "display_data"
    },
    {
     "name": "stderr",
     "output_type": "stream",
     "text": [
      "Metric val_loss improved by 0.021 >= min_delta = 0.0. New best score: 0.691\n"
     ]
    },
    {
     "data": {
      "application/vnd.jupyter.widget-view+json": {
       "model_id": "f5cbd20e59444ce78747db67b728b6d4",
       "version_major": 2,
       "version_minor": 0
      },
      "text/plain": [
       "Validating: 0it [00:00, ?it/s]"
      ]
     },
     "metadata": {},
     "output_type": "display_data"
    },
    {
     "name": "stderr",
     "output_type": "stream",
     "text": [
      "Metric val_loss improved by 0.012 >= min_delta = 0.0. New best score: 0.679\n"
     ]
    },
    {
     "data": {
      "application/vnd.jupyter.widget-view+json": {
       "model_id": "ce3a5f2463b0400494e1ee9b8d18230c",
       "version_major": 2,
       "version_minor": 0
      },
      "text/plain": [
       "Validating: 0it [00:00, ?it/s]"
      ]
     },
     "metadata": {},
     "output_type": "display_data"
    },
    {
     "name": "stderr",
     "output_type": "stream",
     "text": [
      "Metric val_loss improved by 0.008 >= min_delta = 0.0. New best score: 0.671\n"
     ]
    },
    {
     "data": {
      "application/vnd.jupyter.widget-view+json": {
       "model_id": "26bd12d3fa8a47848a29f13a506d1627",
       "version_major": 2,
       "version_minor": 0
      },
      "text/plain": [
       "Validating: 0it [00:00, ?it/s]"
      ]
     },
     "metadata": {},
     "output_type": "display_data"
    },
    {
     "name": "stderr",
     "output_type": "stream",
     "text": [
      "Metric val_loss improved by 0.009 >= min_delta = 0.0. New best score: 0.662\n"
     ]
    },
    {
     "data": {
      "application/vnd.jupyter.widget-view+json": {
       "model_id": "ec856e4e18694f7e91d42e862af9aba0",
       "version_major": 2,
       "version_minor": 0
      },
      "text/plain": [
       "Validating: 0it [00:00, ?it/s]"
      ]
     },
     "metadata": {},
     "output_type": "display_data"
    },
    {
     "name": "stderr",
     "output_type": "stream",
     "text": [
      "Metric val_loss improved by 0.003 >= min_delta = 0.0. New best score: 0.658\n"
     ]
    },
    {
     "data": {
      "application/vnd.jupyter.widget-view+json": {
       "model_id": "a666233528ba4c07af0e69373183dcf0",
       "version_major": 2,
       "version_minor": 0
      },
      "text/plain": [
       "Validating: 0it [00:00, ?it/s]"
      ]
     },
     "metadata": {},
     "output_type": "display_data"
    },
    {
     "data": {
      "application/vnd.jupyter.widget-view+json": {
       "model_id": "d42fb0ebad6a4b9180a9222d2fc7b996",
       "version_major": 2,
       "version_minor": 0
      },
      "text/plain": [
       "Validating: 0it [00:00, ?it/s]"
      ]
     },
     "metadata": {},
     "output_type": "display_data"
    },
    {
     "data": {
      "application/vnd.jupyter.widget-view+json": {
       "model_id": "18e7672fef354cb190c51df7e898c955",
       "version_major": 2,
       "version_minor": 0
      },
      "text/plain": [
       "Validating: 0it [00:00, ?it/s]"
      ]
     },
     "metadata": {},
     "output_type": "display_data"
    },
    {
     "name": "stderr",
     "output_type": "stream",
     "text": [
      "Metric val_loss improved by 0.009 >= min_delta = 0.0. New best score: 0.650\n"
     ]
    },
    {
     "data": {
      "application/vnd.jupyter.widget-view+json": {
       "model_id": "7009a0704628438f83fd13db8f9960c2",
       "version_major": 2,
       "version_minor": 0
      },
      "text/plain": [
       "Validating: 0it [00:00, ?it/s]"
      ]
     },
     "metadata": {},
     "output_type": "display_data"
    },
    {
     "data": {
      "application/vnd.jupyter.widget-view+json": {
       "model_id": "511e94e51e4b4f5e9f05c71dc04a44c1",
       "version_major": 2,
       "version_minor": 0
      },
      "text/plain": [
       "Validating: 0it [00:00, ?it/s]"
      ]
     },
     "metadata": {},
     "output_type": "display_data"
    },
    {
     "data": {
      "application/vnd.jupyter.widget-view+json": {
       "model_id": "2577c9be53d944b08e70688a42946789",
       "version_major": 2,
       "version_minor": 0
      },
      "text/plain": [
       "Validating: 0it [00:00, ?it/s]"
      ]
     },
     "metadata": {},
     "output_type": "display_data"
    },
    {
     "data": {
      "application/vnd.jupyter.widget-view+json": {
       "model_id": "9b8aa2e6cb674a5c81aa782d6400243e",
       "version_major": 2,
       "version_minor": 0
      },
      "text/plain": [
       "Validating: 0it [00:00, ?it/s]"
      ]
     },
     "metadata": {},
     "output_type": "display_data"
    },
    {
     "data": {
      "application/vnd.jupyter.widget-view+json": {
       "model_id": "789587aa2c9d4d788e17431104654ae9",
       "version_major": 2,
       "version_minor": 0
      },
      "text/plain": [
       "Validating: 0it [00:00, ?it/s]"
      ]
     },
     "metadata": {},
     "output_type": "display_data"
    },
    {
     "name": "stderr",
     "output_type": "stream",
     "text": [
      "Metric val_loss improved by 0.017 >= min_delta = 0.0. New best score: 0.632\n"
     ]
    },
    {
     "data": {
      "application/vnd.jupyter.widget-view+json": {
       "model_id": "78653cea378149a58a31b99e10659114",
       "version_major": 2,
       "version_minor": 0
      },
      "text/plain": [
       "Validating: 0it [00:00, ?it/s]"
      ]
     },
     "metadata": {},
     "output_type": "display_data"
    },
    {
     "name": "stderr",
     "output_type": "stream",
     "text": [
      "Metric val_loss improved by 0.003 >= min_delta = 0.0. New best score: 0.629\n"
     ]
    },
    {
     "data": {
      "application/vnd.jupyter.widget-view+json": {
       "model_id": "15d77b100cbf440ca9f888cdf24c3049",
       "version_major": 2,
       "version_minor": 0
      },
      "text/plain": [
       "Validating: 0it [00:00, ?it/s]"
      ]
     },
     "metadata": {},
     "output_type": "display_data"
    },
    {
     "name": "stderr",
     "output_type": "stream",
     "text": [
      "Metric val_loss improved by 0.002 >= min_delta = 0.0. New best score: 0.627\n"
     ]
    },
    {
     "data": {
      "application/vnd.jupyter.widget-view+json": {
       "model_id": "42db801ce1164a9a97e6e3659ab912fe",
       "version_major": 2,
       "version_minor": 0
      },
      "text/plain": [
       "Validating: 0it [00:00, ?it/s]"
      ]
     },
     "metadata": {},
     "output_type": "display_data"
    },
    {
     "name": "stderr",
     "output_type": "stream",
     "text": [
      "Metric val_loss improved by 0.001 >= min_delta = 0.0. New best score: 0.626\n"
     ]
    },
    {
     "data": {
      "application/vnd.jupyter.widget-view+json": {
       "model_id": "b69db5c4a8134181b62986044c7deef1",
       "version_major": 2,
       "version_minor": 0
      },
      "text/plain": [
       "Validating: 0it [00:00, ?it/s]"
      ]
     },
     "metadata": {},
     "output_type": "display_data"
    },
    {
     "name": "stderr",
     "output_type": "stream",
     "text": [
      "Metric val_loss improved by 0.000 >= min_delta = 0.0. New best score: 0.626\n"
     ]
    },
    {
     "data": {
      "application/vnd.jupyter.widget-view+json": {
       "model_id": "b0219cd2df7c4a55b5a9c6c2a98e80b8",
       "version_major": 2,
       "version_minor": 0
      },
      "text/plain": [
       "Validating: 0it [00:00, ?it/s]"
      ]
     },
     "metadata": {},
     "output_type": "display_data"
    },
    {
     "name": "stderr",
     "output_type": "stream",
     "text": [
      "Metric val_loss improved by 0.002 >= min_delta = 0.0. New best score: 0.624\n"
     ]
    },
    {
     "data": {
      "application/vnd.jupyter.widget-view+json": {
       "model_id": "535c34083f674589922bf279b012e81a",
       "version_major": 2,
       "version_minor": 0
      },
      "text/plain": [
       "Validating: 0it [00:00, ?it/s]"
      ]
     },
     "metadata": {},
     "output_type": "display_data"
    },
    {
     "name": "stderr",
     "output_type": "stream",
     "text": [
      "Metric val_loss improved by 0.001 >= min_delta = 0.0. New best score: 0.623\n"
     ]
    },
    {
     "data": {
      "application/vnd.jupyter.widget-view+json": {
       "model_id": "89628df0b8b74669a368d9870f90ed2b",
       "version_major": 2,
       "version_minor": 0
      },
      "text/plain": [
       "Validating: 0it [00:00, ?it/s]"
      ]
     },
     "metadata": {},
     "output_type": "display_data"
    },
    {
     "data": {
      "application/vnd.jupyter.widget-view+json": {
       "model_id": "7de341e757d541c68e22f29c1350d23c",
       "version_major": 2,
       "version_minor": 0
      },
      "text/plain": [
       "Validating: 0it [00:00, ?it/s]"
      ]
     },
     "metadata": {},
     "output_type": "display_data"
    },
    {
     "name": "stderr",
     "output_type": "stream",
     "text": [
      "Metric val_loss improved by 0.000 >= min_delta = 0.0. New best score: 0.623\n"
     ]
    },
    {
     "data": {
      "application/vnd.jupyter.widget-view+json": {
       "model_id": "bcf77f5b231a4f6b9cf2841240a4f7f5",
       "version_major": 2,
       "version_minor": 0
      },
      "text/plain": [
       "Validating: 0it [00:00, ?it/s]"
      ]
     },
     "metadata": {},
     "output_type": "display_data"
    },
    {
     "name": "stderr",
     "output_type": "stream",
     "text": [
      "Metric val_loss improved by 0.001 >= min_delta = 0.0. New best score: 0.622\n"
     ]
    },
    {
     "data": {
      "application/vnd.jupyter.widget-view+json": {
       "model_id": "1673200746eb4ac7bb5fbdda70d7f599",
       "version_major": 2,
       "version_minor": 0
      },
      "text/plain": [
       "Validating: 0it [00:00, ?it/s]"
      ]
     },
     "metadata": {},
     "output_type": "display_data"
    },
    {
     "data": {
      "application/vnd.jupyter.widget-view+json": {
       "model_id": "7caa079fb9fa401e8e842806b47bae9f",
       "version_major": 2,
       "version_minor": 0
      },
      "text/plain": [
       "Validating: 0it [00:00, ?it/s]"
      ]
     },
     "metadata": {},
     "output_type": "display_data"
    },
    {
     "name": "stderr",
     "output_type": "stream",
     "text": [
      "Metric val_loss improved by 0.001 >= min_delta = 0.0. New best score: 0.621\n"
     ]
    },
    {
     "data": {
      "application/vnd.jupyter.widget-view+json": {
       "model_id": "af07770601924d159732c1e11f15adfc",
       "version_major": 2,
       "version_minor": 0
      },
      "text/plain": [
       "Validating: 0it [00:00, ?it/s]"
      ]
     },
     "metadata": {},
     "output_type": "display_data"
    },
    {
     "data": {
      "application/vnd.jupyter.widget-view+json": {
       "model_id": "3adcccb4aafb4eee9bc311d71913cb01",
       "version_major": 2,
       "version_minor": 0
      },
      "text/plain": [
       "Validating: 0it [00:00, ?it/s]"
      ]
     },
     "metadata": {},
     "output_type": "display_data"
    },
    {
     "name": "stderr",
     "output_type": "stream",
     "text": [
      "Metric val_loss improved by 0.001 >= min_delta = 0.0. New best score: 0.620\n"
     ]
    },
    {
     "data": {
      "application/vnd.jupyter.widget-view+json": {
       "model_id": "ab059a2f93864d35b2dcaaced2e34d54",
       "version_major": 2,
       "version_minor": 0
      },
      "text/plain": [
       "Validating: 0it [00:00, ?it/s]"
      ]
     },
     "metadata": {},
     "output_type": "display_data"
    }
   ],
   "source": [
    "target_list = sdata.seqs_annot.columns.drop(\"train\").tolist()\n",
    "eu.train.fit(\n",
    "    model=model,\n",
    "    sdata=sdata,\n",
    "    gpus=1,\n",
    "    target=target_list,\n",
    "    train_key=\"train\",\n",
    "    epochs=30\n",
    ")"
   ]
  },
  {
   "cell_type": "markdown",
   "metadata": {},
   "source": [
    "# Evaluation\n",
    "Evaluation allows users to see how well their models perform by making `predictions` and `plotting` the predicted vs. actual data.\n",
    "\n",
    "- First, the best performing model from training is loaded in.\n",
    "- Predictions are made using the `train_val_predictions` function, which outputs a table of predictions for both sets of data.\n",
    "- The data is then plotted to allow its performance to be visually inspected."
   ]
  },
  {
   "cell_type": "code",
   "execution_count": 1,
   "metadata": {},
   "outputs": [
    {
     "name": "stderr",
     "output_type": "stream",
     "text": [
      "Global seed set to 13\n"
     ]
    },
    {
     "name": "stdout",
     "output_type": "stream",
     "text": [
      "GPU is available: True\n",
      "Number of GPUs: 1\n",
      "Current GPU: 0\n",
      "GPUs: NVIDIA GeForce RTX 2070\n",
      "janggu does not work on this machine, are you using MacOS or Linux?\n",
      "janggu does not work on this machine, are you using MacOS or Linux?\n"
     ]
    }
   ],
   "source": [
    "if 'autoreload' not in get_ipython().extension_manager.loaded:\n",
    "    %load_ext autoreload \n",
    "%autoreload 2\n",
    "\n",
    "import numpy as np\n",
    "import pandas as pd\n",
    "import eugene as eu"
   ]
  },
  {
   "cell_type": "code",
   "execution_count": 2,
   "metadata": {},
   "outputs": [],
   "source": [
    "# Load preprocessed sdata\n",
    "sdata = eu.dl.read_h5sd(\"SD_RNAcomplete.h5\")"
   ]
  },
  {
   "cell_type": "code",
   "execution_count": 3,
   "metadata": {},
   "outputs": [],
   "source": [
    "model = eu.models.DeepBind.load_from_checkpoint(\"eugene_log/dsDeepBind_regression/version_1/checkpoints/epoch=28-step=2754.ckpt\")"
   ]
  },
  {
   "cell_type": "code",
   "execution_count": 4,
   "metadata": {},
   "outputs": [],
   "source": [
    "target_list = sdata.seqs_annot.columns.drop(\"train\").tolist()"
   ]
  },
  {
   "cell_type": "code",
   "execution_count": null,
   "metadata": {},
   "outputs": [],
   "source": [
    "eu.predict.train_val_predictions(\n",
    "    model,\n",
    "    sdata=sdata,\n",
    "    target=target_list,\n",
    "    train_key=\"train\"\n",
    ")"
   ]
  },
  {
   "cell_type": "code",
   "execution_count": null,
   "metadata": {},
   "outputs": [],
   "source": [
    "train_idx = np.where(sdata.seqs_annot[\"train\"] == True)[0]\n",
    "prediction_target_list = [i + \"_predictions\" for i in target_list]\n",
    "eu.pl.performance_scatter(\n",
    "    sdata, \n",
    "    seq_idx=train_idx, \n",
    "    targets=target_list[0], \n",
    "    predictions=prediction_target_list[0],\n",
    "    title=\"Training Set Performance\",\n",
    "    alpha=0.5,\n",
    ")"
   ]
  },
  {
   "cell_type": "markdown",
   "metadata": {},
   "source": [
    "# Interpretation\n",
    "Potentially the most important step in the EUGENe workflow is the interpretation of the model's predictions. This is done through the `interpret` module. All the functions in this module act on either `SeqData` and Models or just Models. Results from these calls can be visualized using the `plotting` module.\n",
    "---\n",
    "There are many options for interpreting the model's predictions, and we will again point users to the API for all the options and their arguments. We list examples for a few common ones below.\n",
    "\n",
    "\n",
    "```python\n",
    "eu.interpret.generate_pfms(\n",
    "    best_model_leaf, \n",
    "    sdata_leaf_test\n",
    ")\n",
    "```"
   ]
  },
  {
   "cell_type": "markdown",
   "metadata": {},
   "source": [
    "## Feature attribution\n",
    "We can calculate the contribution of each nucleotide to the model's predictions for a sequence by using the `interpret` module's `feature_attribution` function. We currently implement several different methods for this, includeing `DeepLift, ISM, InputXGradient and DeepSHAP`.\n",
    "```python\n",
    "eu.interpret.feature_attribution(\n",
    "    best_model,\n",
    "    sdata_test,\n",
    "    saliency_method=\"DeepLift\",\n",
    "    device= \"cuda\" if eu.settings.gpus > 0 else \"cpu\"\n",
    ")\n",
    "```"
   ]
  },
  {
   "cell_type": "code",
   "execution_count": 5,
   "metadata": {},
   "outputs": [
    {
     "name": "stdout",
     "output_type": "stream",
     "text": [
      "No transforms given, assuming just need to tensorize).\n"
     ]
    },
    {
     "data": {
      "application/vnd.jupyter.widget-view+json": {
       "model_id": "ffbc992cb8c942b99d8c903e7378519f",
       "version_major": 2,
       "version_minor": 0
      },
      "text/plain": [
       "Getting maximial activating seqlets:   0%|          | 0/1885 [00:00<?, ?it/s]"
      ]
     },
     "metadata": {},
     "output_type": "display_data"
    },
    {
     "data": {
      "application/vnd.jupyter.widget-view+json": {
       "model_id": "fd7ba172198941f78c0d70004202eac0",
       "version_major": 2,
       "version_minor": 0
      },
      "text/plain": [
       "Getting PFMs from filters:   0%|          | 0/64 [00:00<?, ?it/s]"
      ]
     },
     "metadata": {},
     "output_type": "display_data"
    }
   ],
   "source": [
    "eu.interpret.generate_pfms(\n",
    "    model,\n",
    "    sdata,\n",
    "    device=\"cpu\"\n",
    ")"
   ]
  },
  {
   "cell_type": "code",
   "execution_count": 19,
   "metadata": {},
   "outputs": [
    {
     "data": {
      "text/html": [
       "<div>\n",
       "<style scoped>\n",
       "    .dataframe tbody tr th:only-of-type {\n",
       "        vertical-align: middle;\n",
       "    }\n",
       "\n",
       "    .dataframe tbody tr th {\n",
       "        vertical-align: top;\n",
       "    }\n",
       "\n",
       "    .dataframe thead th {\n",
       "        text-align: right;\n",
       "    }\n",
       "</style>\n",
       "<table border=\"1\" class=\"dataframe\">\n",
       "  <thead>\n",
       "    <tr style=\"text-align: right;\">\n",
       "      <th></th>\n",
       "      <th>A</th>\n",
       "      <th>C</th>\n",
       "      <th>G</th>\n",
       "      <th>T</th>\n",
       "    </tr>\n",
       "  </thead>\n",
       "  <tbody>\n",
       "    <tr>\n",
       "      <th>0</th>\n",
       "      <td>6490.0</td>\n",
       "      <td>4988.0</td>\n",
       "      <td>9176.0</td>\n",
       "      <td>4201.0</td>\n",
       "    </tr>\n",
       "    <tr>\n",
       "      <th>1</th>\n",
       "      <td>5057.0</td>\n",
       "      <td>5865.0</td>\n",
       "      <td>6517.0</td>\n",
       "      <td>7416.0</td>\n",
       "    </tr>\n",
       "    <tr>\n",
       "      <th>2</th>\n",
       "      <td>4209.0</td>\n",
       "      <td>6770.0</td>\n",
       "      <td>11394.0</td>\n",
       "      <td>2482.0</td>\n",
       "    </tr>\n",
       "    <tr>\n",
       "      <th>3</th>\n",
       "      <td>4403.0</td>\n",
       "      <td>6432.0</td>\n",
       "      <td>3800.0</td>\n",
       "      <td>10220.0</td>\n",
       "    </tr>\n",
       "    <tr>\n",
       "      <th>4</th>\n",
       "      <td>3564.0</td>\n",
       "      <td>9965.0</td>\n",
       "      <td>9149.0</td>\n",
       "      <td>2177.0</td>\n",
       "    </tr>\n",
       "    <tr>\n",
       "      <th>5</th>\n",
       "      <td>3909.0</td>\n",
       "      <td>6434.0</td>\n",
       "      <td>1325.0</td>\n",
       "      <td>13187.0</td>\n",
       "    </tr>\n",
       "    <tr>\n",
       "      <th>6</th>\n",
       "      <td>3777.0</td>\n",
       "      <td>6959.0</td>\n",
       "      <td>11760.0</td>\n",
       "      <td>2359.0</td>\n",
       "    </tr>\n",
       "    <tr>\n",
       "      <th>7</th>\n",
       "      <td>5468.0</td>\n",
       "      <td>5673.0</td>\n",
       "      <td>336.0</td>\n",
       "      <td>13378.0</td>\n",
       "    </tr>\n",
       "    <tr>\n",
       "      <th>8</th>\n",
       "      <td>5771.0</td>\n",
       "      <td>3424.0</td>\n",
       "      <td>15186.0</td>\n",
       "      <td>474.0</td>\n",
       "    </tr>\n",
       "    <tr>\n",
       "      <th>9</th>\n",
       "      <td>4421.0</td>\n",
       "      <td>101.0</td>\n",
       "      <td>17.0</td>\n",
       "      <td>20316.0</td>\n",
       "    </tr>\n",
       "    <tr>\n",
       "      <th>10</th>\n",
       "      <td>1417.0</td>\n",
       "      <td>1745.0</td>\n",
       "      <td>21681.0</td>\n",
       "      <td>12.0</td>\n",
       "    </tr>\n",
       "    <tr>\n",
       "      <th>11</th>\n",
       "      <td>3697.0</td>\n",
       "      <td>4631.0</td>\n",
       "      <td>272.0</td>\n",
       "      <td>16255.0</td>\n",
       "    </tr>\n",
       "    <tr>\n",
       "      <th>12</th>\n",
       "      <td>12750.0</td>\n",
       "      <td>642.0</td>\n",
       "      <td>9920.0</td>\n",
       "      <td>1543.0</td>\n",
       "    </tr>\n",
       "    <tr>\n",
       "      <th>13</th>\n",
       "      <td>6531.0</td>\n",
       "      <td>2067.0</td>\n",
       "      <td>7997.0</td>\n",
       "      <td>8260.0</td>\n",
       "    </tr>\n",
       "    <tr>\n",
       "      <th>14</th>\n",
       "      <td>7587.0</td>\n",
       "      <td>1932.0</td>\n",
       "      <td>11041.0</td>\n",
       "      <td>4295.0</td>\n",
       "    </tr>\n",
       "    <tr>\n",
       "      <th>15</th>\n",
       "      <td>7910.0</td>\n",
       "      <td>3203.0</td>\n",
       "      <td>8470.0</td>\n",
       "      <td>5272.0</td>\n",
       "    </tr>\n",
       "  </tbody>\n",
       "</table>\n",
       "</div>"
      ],
      "text/plain": [
       "          A       C        G        T\n",
       "0    6490.0  4988.0   9176.0   4201.0\n",
       "1    5057.0  5865.0   6517.0   7416.0\n",
       "2    4209.0  6770.0  11394.0   2482.0\n",
       "3    4403.0  6432.0   3800.0  10220.0\n",
       "4    3564.0  9965.0   9149.0   2177.0\n",
       "5    3909.0  6434.0   1325.0  13187.0\n",
       "6    3777.0  6959.0  11760.0   2359.0\n",
       "7    5468.0  5673.0    336.0  13378.0\n",
       "8    5771.0  3424.0  15186.0    474.0\n",
       "9    4421.0   101.0     17.0  20316.0\n",
       "10   1417.0  1745.0  21681.0     12.0\n",
       "11   3697.0  4631.0    272.0  16255.0\n",
       "12  12750.0   642.0   9920.0   1543.0\n",
       "13   6531.0  2067.0   7997.0   8260.0\n",
       "14   7587.0  1932.0  11041.0   4295.0\n",
       "15   7910.0  3203.0   8470.0   5272.0"
      ]
     },
     "execution_count": 19,
     "metadata": {},
     "output_type": "execute_result"
    }
   ],
   "source": [
    "sdata.uns[\"pfms\"][0]"
   ]
  },
  {
   "cell_type": "markdown",
   "metadata": {},
   "source": [
    "## Filter Visualization \n",
    "We can get an idea for what each filter of first convoulional layer of the model is seeing by using the `interpret` module's `generate_pfms` function. This creates a position frequency matrix for each filter in the model using sequences that highly activate that filter (can be defined in multiple ways). We often times pass the the test sequences through the model, but you can theoretically pass any sequences you want.\n",
    "```python\n",
    "eu.interpret.generate_pfms(\n",
    "    best_model, \n",
    "    sdata_test\n",
    ")\n",
    "```"
   ]
  },
  {
   "cell_type": "code",
   "execution_count": null,
   "metadata": {},
   "outputs": [],
   "source": [
    "# TODO: Run filter visualization on your model"
   ]
  },
  {
   "cell_type": "markdown",
   "metadata": {},
   "source": [
    "## Other intepretation methods\n",
    "We currently implement a few other methods for interpreting the model's predictions. These include:\n",
    "- Dimensionality Reduction on your importance scores: e.g. `eu.interpret.pca`\n",
    "- ...\n",
    "We are looking to add more! If you are interested in contributing..."
   ]
  },
  {
   "cell_type": "code",
   "execution_count": null,
   "metadata": {},
   "outputs": [],
   "source": [
    "# TODO: Perform other intepretation methods on your trained model"
   ]
  },
  {
   "cell_type": "markdown",
   "metadata": {},
   "source": [
    "# Wrapping up\n",
    "EUGENe is very much meant to be a community project. It represents a collection of data, models, and techniques meant for analyzing sequence data with deep learning. We are looking for contributions in almost every aspect of EUGENe. We are particularly interested in:\n",
    "\n",
    "- New model additions through the `models` module\n",
    "- New dataset additions through the `datasets` module\n",
    "- New preprocessing techniques through the `preprocessing` module\n",
    "- New visualization techniques through the `plotting` module\n",
    "- New interpretation techniques through the `interpret` module\n",
    "- New methods for training models in the `train` module\n",
    "\n",
    "Please do not hesitate to contact us if you have any questions or suggestions."
   ]
  },
  {
   "cell_type": "markdown",
   "metadata": {},
   "source": [
    "---"
   ]
  }
 ],
 "metadata": {
  "kernelspec": {
   "display_name": "Python 3 (ipykernel)",
   "language": "python",
   "name": "python3"
  },
  "language_info": {
   "codemirror_mode": {
    "name": "ipython",
    "version": 3
   },
   "file_extension": ".py",
   "mimetype": "text/x-python",
   "name": "python",
   "nbconvert_exporter": "python",
   "pygments_lexer": "ipython3",
   "version": "3.9.12"
  },
  "vscode": {
   "interpreter": {
    "hash": "a445412b3331741a9e83c12b8d1f58585dfec4cc047851993ff836572bfde74d"
   }
  }
 },
 "nbformat": 4,
 "nbformat_minor": 2
}

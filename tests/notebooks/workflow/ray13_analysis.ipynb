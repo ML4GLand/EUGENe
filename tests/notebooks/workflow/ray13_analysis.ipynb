{
 "cells": [
  {
   "cell_type": "markdown",
   "id": "90a88efe-ebb3-424c-8704-fb4ee189af2c",
   "metadata": {},
   "source": [
    "# Implementation of DeepBind neural network using EUGENe"
   ]
  },
  {
   "cell_type": "markdown",
   "id": "2d058003-a667-4b45-9ddc-e47efe48e0e1",
   "metadata": {
    "tags": []
   },
   "source": [
    "**Authorship:**\n",
    "Hayden Stites, Adam Klie, *08/12/2022*\n",
    "***\n",
    "**Description:**\n",
    "Replicating experimental results from DeepBind and RNAcomplete (Ray, D., Kazan, H., Cook, K. et al.) using the eugene framework. 👍\n",
    "***"
   ]
  },
  {
   "cell_type": "code",
   "execution_count": 1,
   "metadata": {},
   "outputs": [
    {
     "name": "stderr",
     "output_type": "stream",
     "text": [
      "Global seed set to 13\n"
     ]
    },
    {
     "name": "stdout",
     "output_type": "stream",
     "text": [
      "GPU is available: True\n",
      "Number of GPUs: 1\n",
      "Current GPU: 0\n",
      "GPUs: NVIDIA GeForce RTX 2070\n",
      "janggu does not work on this machine, are you using MacOS or Linux?\n",
      "janggu does not work on this machine, are you using MacOS or Linux?\n",
      "0.1.0\n"
     ]
    }
   ],
   "source": [
    "if 'autoreload' not in get_ipython().extension_manager.loaded:\n",
    "    %load_ext autoreload \n",
    "%autoreload 2\n",
    "\n",
    "import numpy as np\n",
    "import pandas as pd\n",
    "import eugene as eu\n",
    "\n",
    "print(eu.__version__)"
   ]
  },
  {
   "cell_type": "markdown",
   "metadata": {},
   "source": [
    "# Dataloading\n",
    "The RNAcomplete dataset has its own helper function in the `datasets` module that returns a `SeqData` object from the dataset. The function will download and load the normalized RNAcomplete dataset from the hugheslab online repository, but the raw version can be specified. The directory that the dataset is downloaded into is specified by `eu.settings.dataset_dir`."
   ]
  },
  {
   "cell_type": "code",
   "execution_count": 2,
   "metadata": {},
   "outputs": [
    {
     "name": "stdout",
     "output_type": "stream",
     "text": [
      "Dataset RNAcomplete norm_data.txt.gz has already been dowloaded.\n"
     ]
    }
   ],
   "source": [
    "# Import the RNAcomplete dataset\n",
    "from eugene.datasets import RNAcomplete\n",
    "sdata = RNAcomplete()"
   ]
  },
  {
   "cell_type": "code",
   "execution_count": 3,
   "metadata": {},
   "outputs": [
    {
     "data": {
      "text/html": [
       "<div>\n",
       "<style scoped>\n",
       "    .dataframe tbody tr th:only-of-type {\n",
       "        vertical-align: middle;\n",
       "    }\n",
       "\n",
       "    .dataframe tbody tr th {\n",
       "        vertical-align: top;\n",
       "    }\n",
       "\n",
       "    .dataframe thead th {\n",
       "        text-align: right;\n",
       "    }\n",
       "</style>\n",
       "<table border=\"1\" class=\"dataframe\">\n",
       "  <thead>\n",
       "    <tr style=\"text-align: right;\">\n",
       "      <th></th>\n",
       "      <th>RNCMPT00100</th>\n",
       "      <th>RNCMPT00101</th>\n",
       "      <th>RNCMPT00102</th>\n",
       "      <th>RNCMPT00103</th>\n",
       "      <th>RNCMPT00104</th>\n",
       "      <th>RNCMPT00105</th>\n",
       "      <th>RNCMPT00106</th>\n",
       "      <th>RNCMPT00107</th>\n",
       "      <th>RNCMPT00108</th>\n",
       "      <th>RNCMPT00109</th>\n",
       "      <th>...</th>\n",
       "      <th>RNCMPT00008</th>\n",
       "      <th>RNCMPT00090</th>\n",
       "      <th>RNCMPT00091</th>\n",
       "      <th>RNCMPT00093</th>\n",
       "      <th>RNCMPT00094</th>\n",
       "      <th>RNCMPT00095</th>\n",
       "      <th>RNCMPT00096</th>\n",
       "      <th>RNCMPT00097</th>\n",
       "      <th>RNCMPT00099</th>\n",
       "      <th>RNCMPT00009</th>\n",
       "    </tr>\n",
       "  </thead>\n",
       "  <tbody>\n",
       "    <tr>\n",
       "      <th>seq000000</th>\n",
       "      <td>1.122218</td>\n",
       "      <td>1.272641</td>\n",
       "      <td>-1.089717</td>\n",
       "      <td>-0.067146</td>\n",
       "      <td>0.831671</td>\n",
       "      <td>-0.070631</td>\n",
       "      <td>2.779642</td>\n",
       "      <td>2.509418</td>\n",
       "      <td>1.811186</td>\n",
       "      <td>2.762714</td>\n",
       "      <td>...</td>\n",
       "      <td>5.734185</td>\n",
       "      <td>0.907487</td>\n",
       "      <td>1.282393</td>\n",
       "      <td>0.861743</td>\n",
       "      <td>-0.115417</td>\n",
       "      <td>0.126413</td>\n",
       "      <td>1.010198</td>\n",
       "      <td>-0.123415</td>\n",
       "      <td>-0.060651</td>\n",
       "      <td>-0.398931</td>\n",
       "    </tr>\n",
       "    <tr>\n",
       "      <th>seq000001</th>\n",
       "      <td>8.840295</td>\n",
       "      <td>-2.113002</td>\n",
       "      <td>2.397376</td>\n",
       "      <td>-1.809082</td>\n",
       "      <td>-0.963712</td>\n",
       "      <td>-0.202229</td>\n",
       "      <td>-0.121975</td>\n",
       "      <td>-0.038112</td>\n",
       "      <td>-0.636935</td>\n",
       "      <td>-1.100769</td>\n",
       "      <td>...</td>\n",
       "      <td>NaN</td>\n",
       "      <td>0.029810</td>\n",
       "      <td>0.986617</td>\n",
       "      <td>3.979510</td>\n",
       "      <td>-0.388808</td>\n",
       "      <td>-0.348266</td>\n",
       "      <td>0.216500</td>\n",
       "      <td>-1.098411</td>\n",
       "      <td>3.820988</td>\n",
       "      <td>NaN</td>\n",
       "    </tr>\n",
       "    <tr>\n",
       "      <th>seq000002</th>\n",
       "      <td>-0.353194</td>\n",
       "      <td>-0.183539</td>\n",
       "      <td>-0.467021</td>\n",
       "      <td>-1.865032</td>\n",
       "      <td>0.663077</td>\n",
       "      <td>0.626212</td>\n",
       "      <td>0.910989</td>\n",
       "      <td>1.431777</td>\n",
       "      <td>0.003613</td>\n",
       "      <td>-0.086335</td>\n",
       "      <td>...</td>\n",
       "      <td>0.198792</td>\n",
       "      <td>1.821554</td>\n",
       "      <td>1.289043</td>\n",
       "      <td>-1.282063</td>\n",
       "      <td>-0.640817</td>\n",
       "      <td>0.054688</td>\n",
       "      <td>-1.351889</td>\n",
       "      <td>0.470123</td>\n",
       "      <td>-0.057985</td>\n",
       "      <td>-1.057710</td>\n",
       "    </tr>\n",
       "    <tr>\n",
       "      <th>seq000003</th>\n",
       "      <td>1.386679</td>\n",
       "      <td>-0.236797</td>\n",
       "      <td>-0.031135</td>\n",
       "      <td>-0.997679</td>\n",
       "      <td>-0.079547</td>\n",
       "      <td>0.473447</td>\n",
       "      <td>6.296981</td>\n",
       "      <td>7.877085</td>\n",
       "      <td>13.880688</td>\n",
       "      <td>10.165925</td>\n",
       "      <td>...</td>\n",
       "      <td>NaN</td>\n",
       "      <td>1.121754</td>\n",
       "      <td>1.009484</td>\n",
       "      <td>0.450070</td>\n",
       "      <td>-1.106999</td>\n",
       "      <td>1.617407</td>\n",
       "      <td>0.272935</td>\n",
       "      <td>0.621780</td>\n",
       "      <td>0.643033</td>\n",
       "      <td>NaN</td>\n",
       "    </tr>\n",
       "    <tr>\n",
       "      <th>seq000004</th>\n",
       "      <td>-0.267395</td>\n",
       "      <td>1.387100</td>\n",
       "      <td>0.986554</td>\n",
       "      <td>-0.622790</td>\n",
       "      <td>-0.261790</td>\n",
       "      <td>-0.782576</td>\n",
       "      <td>-0.674672</td>\n",
       "      <td>-0.432181</td>\n",
       "      <td>0.007804</td>\n",
       "      <td>-0.629471</td>\n",
       "      <td>...</td>\n",
       "      <td>NaN</td>\n",
       "      <td>0.472460</td>\n",
       "      <td>0.476233</td>\n",
       "      <td>-0.150370</td>\n",
       "      <td>-0.545728</td>\n",
       "      <td>-0.398383</td>\n",
       "      <td>-0.677650</td>\n",
       "      <td>-0.122340</td>\n",
       "      <td>-0.891034</td>\n",
       "      <td>NaN</td>\n",
       "    </tr>\n",
       "    <tr>\n",
       "      <th>...</th>\n",
       "      <td>...</td>\n",
       "      <td>...</td>\n",
       "      <td>...</td>\n",
       "      <td>...</td>\n",
       "      <td>...</td>\n",
       "      <td>...</td>\n",
       "      <td>...</td>\n",
       "      <td>...</td>\n",
       "      <td>...</td>\n",
       "      <td>...</td>\n",
       "      <td>...</td>\n",
       "      <td>...</td>\n",
       "      <td>...</td>\n",
       "      <td>...</td>\n",
       "      <td>...</td>\n",
       "      <td>...</td>\n",
       "      <td>...</td>\n",
       "      <td>...</td>\n",
       "      <td>...</td>\n",
       "      <td>...</td>\n",
       "      <td>...</td>\n",
       "    </tr>\n",
       "    <tr>\n",
       "      <th>seq241352</th>\n",
       "      <td>1.674055</td>\n",
       "      <td>20.389858</td>\n",
       "      <td>0.770055</td>\n",
       "      <td>12.959504</td>\n",
       "      <td>11.324906</td>\n",
       "      <td>0.086366</td>\n",
       "      <td>7.169778</td>\n",
       "      <td>5.404982</td>\n",
       "      <td>1.465122</td>\n",
       "      <td>1.487886</td>\n",
       "      <td>...</td>\n",
       "      <td>0.687683</td>\n",
       "      <td>-1.841742</td>\n",
       "      <td>-0.141082</td>\n",
       "      <td>7.559083</td>\n",
       "      <td>0.501589</td>\n",
       "      <td>2.483238</td>\n",
       "      <td>-0.078747</td>\n",
       "      <td>1.047783</td>\n",
       "      <td>0.134119</td>\n",
       "      <td>1.433700</td>\n",
       "    </tr>\n",
       "    <tr>\n",
       "      <th>seq241353</th>\n",
       "      <td>-0.426269</td>\n",
       "      <td>-0.821294</td>\n",
       "      <td>0.591560</td>\n",
       "      <td>0.627169</td>\n",
       "      <td>0.459313</td>\n",
       "      <td>2.148826</td>\n",
       "      <td>-0.224518</td>\n",
       "      <td>-0.138735</td>\n",
       "      <td>-0.092908</td>\n",
       "      <td>-0.507217</td>\n",
       "      <td>...</td>\n",
       "      <td>NaN</td>\n",
       "      <td>1.903628</td>\n",
       "      <td>0.193573</td>\n",
       "      <td>0.087378</td>\n",
       "      <td>-0.699687</td>\n",
       "      <td>-2.233314</td>\n",
       "      <td>0.752704</td>\n",
       "      <td>-0.246153</td>\n",
       "      <td>-1.003296</td>\n",
       "      <td>NaN</td>\n",
       "    </tr>\n",
       "    <tr>\n",
       "      <th>seq241354</th>\n",
       "      <td>0.604869</td>\n",
       "      <td>-0.592981</td>\n",
       "      <td>-0.319087</td>\n",
       "      <td>-0.203019</td>\n",
       "      <td>0.625912</td>\n",
       "      <td>0.138792</td>\n",
       "      <td>0.195578</td>\n",
       "      <td>-0.531915</td>\n",
       "      <td>0.000103</td>\n",
       "      <td>0.128531</td>\n",
       "      <td>...</td>\n",
       "      <td>0.558631</td>\n",
       "      <td>-1.288070</td>\n",
       "      <td>0.400266</td>\n",
       "      <td>0.748016</td>\n",
       "      <td>0.156894</td>\n",
       "      <td>-0.426744</td>\n",
       "      <td>0.388496</td>\n",
       "      <td>0.169070</td>\n",
       "      <td>0.397499</td>\n",
       "      <td>NaN</td>\n",
       "    </tr>\n",
       "    <tr>\n",
       "      <th>seq241355</th>\n",
       "      <td>3.972188</td>\n",
       "      <td>1.513030</td>\n",
       "      <td>-1.339399</td>\n",
       "      <td>0.297040</td>\n",
       "      <td>-0.954315</td>\n",
       "      <td>1.459436</td>\n",
       "      <td>-0.456848</td>\n",
       "      <td>-0.532908</td>\n",
       "      <td>-1.082723</td>\n",
       "      <td>-0.884932</td>\n",
       "      <td>...</td>\n",
       "      <td>NaN</td>\n",
       "      <td>-0.019835</td>\n",
       "      <td>-1.293031</td>\n",
       "      <td>2.349549</td>\n",
       "      <td>2.965371</td>\n",
       "      <td>1.019436</td>\n",
       "      <td>-0.226711</td>\n",
       "      <td>18.726991</td>\n",
       "      <td>17.560194</td>\n",
       "      <td>NaN</td>\n",
       "    </tr>\n",
       "    <tr>\n",
       "      <th>seq241356</th>\n",
       "      <td>6.721357</td>\n",
       "      <td>0.901949</td>\n",
       "      <td>-0.334034</td>\n",
       "      <td>-0.895239</td>\n",
       "      <td>-0.912853</td>\n",
       "      <td>0.035600</td>\n",
       "      <td>175.727903</td>\n",
       "      <td>154.003802</td>\n",
       "      <td>54.663814</td>\n",
       "      <td>58.427359</td>\n",
       "      <td>...</td>\n",
       "      <td>-0.834070</td>\n",
       "      <td>-0.226717</td>\n",
       "      <td>-0.595780</td>\n",
       "      <td>7.172921</td>\n",
       "      <td>4.124859</td>\n",
       "      <td>0.861849</td>\n",
       "      <td>2.549737</td>\n",
       "      <td>6.358077</td>\n",
       "      <td>1.825678</td>\n",
       "      <td>NaN</td>\n",
       "    </tr>\n",
       "  </tbody>\n",
       "</table>\n",
       "<p>241357 rows × 244 columns</p>\n",
       "</div>"
      ],
      "text/plain": [
       "          RNCMPT00100 RNCMPT00101 RNCMPT00102 RNCMPT00103 RNCMPT00104  \\\n",
       "seq000000    1.122218    1.272641   -1.089717   -0.067146    0.831671   \n",
       "seq000001    8.840295   -2.113002    2.397376   -1.809082   -0.963712   \n",
       "seq000002   -0.353194   -0.183539   -0.467021   -1.865032    0.663077   \n",
       "seq000003    1.386679   -0.236797   -0.031135   -0.997679   -0.079547   \n",
       "seq000004   -0.267395    1.387100    0.986554   -0.622790   -0.261790   \n",
       "...               ...         ...         ...         ...         ...   \n",
       "seq241352    1.674055   20.389858    0.770055   12.959504   11.324906   \n",
       "seq241353   -0.426269   -0.821294    0.591560    0.627169    0.459313   \n",
       "seq241354    0.604869   -0.592981   -0.319087   -0.203019    0.625912   \n",
       "seq241355    3.972188    1.513030   -1.339399    0.297040   -0.954315   \n",
       "seq241356    6.721357    0.901949   -0.334034   -0.895239   -0.912853   \n",
       "\n",
       "          RNCMPT00105  RNCMPT00106  RNCMPT00107 RNCMPT00108 RNCMPT00109  ...  \\\n",
       "seq000000   -0.070631     2.779642     2.509418    1.811186    2.762714  ...   \n",
       "seq000001   -0.202229    -0.121975    -0.038112   -0.636935   -1.100769  ...   \n",
       "seq000002    0.626212     0.910989     1.431777    0.003613   -0.086335  ...   \n",
       "seq000003    0.473447     6.296981     7.877085   13.880688   10.165925  ...   \n",
       "seq000004   -0.782576    -0.674672    -0.432181    0.007804   -0.629471  ...   \n",
       "...               ...          ...          ...         ...         ...  ...   \n",
       "seq241352    0.086366     7.169778     5.404982    1.465122    1.487886  ...   \n",
       "seq241353    2.148826    -0.224518    -0.138735   -0.092908   -0.507217  ...   \n",
       "seq241354    0.138792     0.195578    -0.531915    0.000103    0.128531  ...   \n",
       "seq241355    1.459436    -0.456848    -0.532908   -1.082723   -0.884932  ...   \n",
       "seq241356    0.035600   175.727903   154.003802   54.663814   58.427359  ...   \n",
       "\n",
       "          RNCMPT00008 RNCMPT00090 RNCMPT00091 RNCMPT00093 RNCMPT00094  \\\n",
       "seq000000    5.734185    0.907487    1.282393    0.861743   -0.115417   \n",
       "seq000001         NaN    0.029810    0.986617    3.979510   -0.388808   \n",
       "seq000002    0.198792    1.821554    1.289043   -1.282063   -0.640817   \n",
       "seq000003         NaN    1.121754    1.009484    0.450070   -1.106999   \n",
       "seq000004         NaN    0.472460    0.476233   -0.150370   -0.545728   \n",
       "...               ...         ...         ...         ...         ...   \n",
       "seq241352    0.687683   -1.841742   -0.141082    7.559083    0.501589   \n",
       "seq241353         NaN    1.903628    0.193573    0.087378   -0.699687   \n",
       "seq241354    0.558631   -1.288070    0.400266    0.748016    0.156894   \n",
       "seq241355         NaN   -0.019835   -1.293031    2.349549    2.965371   \n",
       "seq241356   -0.834070   -0.226717   -0.595780    7.172921    4.124859   \n",
       "\n",
       "          RNCMPT00095 RNCMPT00096 RNCMPT00097 RNCMPT00099 RNCMPT00009  \n",
       "seq000000    0.126413    1.010198   -0.123415   -0.060651   -0.398931  \n",
       "seq000001   -0.348266    0.216500   -1.098411    3.820988         NaN  \n",
       "seq000002    0.054688   -1.351889    0.470123   -0.057985   -1.057710  \n",
       "seq000003    1.617407    0.272935    0.621780    0.643033         NaN  \n",
       "seq000004   -0.398383   -0.677650   -0.122340   -0.891034         NaN  \n",
       "...               ...         ...         ...         ...         ...  \n",
       "seq241352    2.483238   -0.078747    1.047783    0.134119    1.433700  \n",
       "seq241353   -2.233314    0.752704   -0.246153   -1.003296         NaN  \n",
       "seq241354   -0.426744    0.388496    0.169070    0.397499         NaN  \n",
       "seq241355    1.019436   -0.226711   18.726991   17.560194         NaN  \n",
       "seq241356    0.861849    2.549737    6.358077    1.825678         NaN  \n",
       "\n",
       "[241357 rows x 244 columns]"
      ]
     },
     "execution_count": 3,
     "metadata": {},
     "output_type": "execute_result"
    }
   ],
   "source": [
    "# This displays the probe intensities recorded in the dataset\n",
    "sdata.seqs_annot"
   ]
  },
  {
   "cell_type": "markdown",
   "metadata": {},
   "source": [
    "# Data Visualization\n",
    "In order to visualize the downloaded data, the `plotting` module can be used. This module has many functions that integrate `seaborn` functions with the `SeqData` object.\n",
    "\n",
    "- The first plot depicts the frequency of a differing length of sequences appearing in the dataset.\n",
    "- The second plot depicts the distribution of probe intensities in the `RNCMPT00100` column of the dataset. It can be noted that a few outliers are present in this graph, which would disrupt the machine learning process. This issue will be remedied with the `preprocessing` module."
   ]
  },
  {
   "cell_type": "code",
   "execution_count": 4,
   "metadata": {},
   "outputs": [
    {
     "data": {
      "image/png": "[encoded data removed]",
      "text/plain": [
       "<Figure size 720x360 with 1 Axes>"
      ]
     },
     "metadata": {
      "needs_background": "light"
     },
     "output_type": "display_data"
    },
    {
     "data": {
      "image/png": "[encoded data removed]",
      "text/plain": [
       "<Figure size 1000x500 with 1 Axes>"
      ]
     },
     "metadata": {},
     "output_type": "display_data"
    }
   ],
   "source": [
    "sdata[\"SEQ_LEN\"] = [len(seq) for seq in sdata.seqs]\n",
    "eu.pl.histplot(\n",
    "    sdata, \n",
    "    keys=\"SEQ_LEN\", \n",
    "    orient=\"h\"\n",
    ")\n",
    "\n",
    "sdata[\"VIEW_TARGET\"] = sdata[\"RNCMPT00100\"].astype(float)\n",
    "eu.pl.violinplot(\n",
    "    sdata, \n",
    "    keys=\"VIEW_TARGET\"\n",
    ")\n",
    "\n",
    "sdata.seqs_annot = sdata.seqs_annot.drop([\"SEQ_LEN\", \"VIEW_TARGET\"], axis=1)"
   ]
  },
  {
   "cell_type": "markdown",
   "metadata": {},
   "source": [
    "# Preprocessing\n",
    "The `preprocessing` module contains a myriad of functions that help `SeqData` objects once they are filled with data. Aside from one hot encoding and splitting the data, four additional transforms are performed on the data in order to increase the learning potential of the model.\n",
    "\n",
    "- Padded elements of sequences are replaced with a one hot encoded value of 0.25 spanning each base.\n",
    "- The values of probe intensities are clamped at 99.95% percentile per binding protein to eliminate outliers and balance the data.\n",
    "- The probe intensities are normalized to a mean of 0 and a standard deviation of 1.\n",
    "- Targets with too many NaN values are dropped, and the remaining ones have NaN values replaced with 0.\n",
    "\n",
    "By `plotting` the distribution of probe intensities of the now preprocessed set of data, it can be seen how many of the outliers have been made less impactful on the set itself."
   ]
  },
  {
   "cell_type": "code",
   "execution_count": 5,
   "metadata": {},
   "outputs": [
    {
     "data": {
      "application/vnd.jupyter.widget-view+json": {
       "model_id": "a6d5055a0316470fad007bfad0ff4bd2",
       "version_major": 2,
       "version_minor": 0
      },
      "text/plain": [
       "One-hot-encoding sequences:   0%|          | 0/241357 [00:00<?, ?it/s]"
      ]
     },
     "metadata": {},
     "output_type": "display_data"
    },
    {
     "name": "stdout",
     "output_type": "stream",
     "text": [
      "SeqData object modified:\n",
      "\tohe_seqs: None -> 241357 ohe_seqs added\n",
      "SeqData object modified:\n",
      "    seqs_annot:\n",
      "        + train\n"
     ]
    }
   ],
   "source": [
    "eu.pp.one_hot_encode_data(sdata, alphabet=\"RNA\", seq_align=\"center\", fill_value=0.25)\n",
    "eu.pp.train_test_split_data(sdata, split=0.8)"
   ]
  },
  {
   "cell_type": "code",
   "execution_count": 6,
   "metadata": {},
   "outputs": [],
   "source": [
    "# Only process columns of usable data\n",
    "target_list = sdata.seqs_annot.columns.drop(\"train\").tolist()"
   ]
  },
  {
   "cell_type": "code",
   "execution_count": 7,
   "metadata": {},
   "outputs": [],
   "source": [
    "eu.pp.clamp_percentiles(sdata, 0.9995, target_list)\n",
    "eu.pp.scale_targets(sdata, target_list, \"train\", suffix=False)"
   ]
  },
  {
   "cell_type": "code",
   "execution_count": 8,
   "metadata": {},
   "outputs": [
    {
     "name": "stdout",
     "output_type": "stream",
     "text": [
      "SeqData object modified:\n",
      "    seqs_annot:\n",
      "        - RNCMPT00009, RNCMPT00058, RNCMPT00144, RNCMPT00129, RNCMPT00015, RNCMPT00145, RNCMPT00060, RNCMPT00008\n"
     ]
    }
   ],
   "source": [
    "# Temporary\n",
    "eu.pp.clean_nan_data(sdata, target_list, nan_threshold=0.2)"
   ]
  },
  {
   "cell_type": "code",
   "execution_count": 9,
   "metadata": {},
   "outputs": [
    {
     "data": {
      "image/png": "[encoded data removed]",
      "text/plain": [
       "<Figure size 1000x500 with 1 Axes>"
      ]
     },
     "metadata": {},
     "output_type": "display_data"
    }
   ],
   "source": [
    "eu.pl.violinplot(\n",
    "    sdata, \n",
    "    keys=\"RNCMPT00100\"\n",
    ")"
   ]
  },
  {
   "cell_type": "markdown",
   "metadata": {},
   "source": [
    "The `eu.dl.write_h5sd` function allows a `SeqData` object (complete with all its data) to be written to an `h5sd` file. This can be used to configure and test a model multiple times without rerunning the `dataloading` and `preprocessing`."
   ]
  },
  {
   "cell_type": "code",
   "execution_count": 10,
   "metadata": {},
   "outputs": [],
   "source": [
    "eu.dl.write_h5sd(sdata, \"SD_RNAcomplete.h5\")"
   ]
  },
  {
   "cell_type": "markdown",
   "metadata": {},
   "source": [
    "# Training\n",
    "\n",
    "The `training` step is where the optimization of the model occurs. The `models` module comes with many preset models that can be accessed by calling one of their classes. For this analysis, the `DeepBind` model is used. All `models` can be instantiated with different parameters to modify their behavior. Because the dataset has 236 different targets, that many output dimensions will be in the model to allow for multitasking."
   ]
  },
  {
   "cell_type": "code",
   "execution_count": 6,
   "metadata": {},
   "outputs": [
    {
     "name": "stderr",
     "output_type": "stream",
     "text": [
      "Global seed set to 13\n"
     ]
    },
    {
     "name": "stdout",
     "output_type": "stream",
     "text": [
      "GPU is available: True\n",
      "Number of GPUs: 1\n",
      "Current GPU: 0\n",
      "GPUs: NVIDIA GeForce RTX 2070\n",
      "janggu does not work on this machine, are you using MacOS or Linux?\n",
      "janggu does not work on this machine, are you using MacOS or Linux?\n",
      "0.1.0\n"
     ]
    }
   ],
   "source": [
    "if 'autoreload' not in get_ipython().extension_manager.loaded:\n",
    "    %load_ext autoreload \n",
    "%autoreload 2\n",
    "\n",
    "import numpy as np\n",
    "import pandas as pd\n",
    "import eugene as eu\n",
    "\n",
    "# Configure EUGENe \n",
    "print(eu.__version__)\n",
    "eu.settings.dataset_dir = \"./datasets/\"\n",
    "eu.settings.logging_dir = \"./eugene_log/\"\n",
    "eu.settings.output_dir = \"./eugene_output/\"\n",
    "\n",
    "# Test experimentally\n",
    "eu.settings.dl_num_workers = 6\n",
    "eu.settings.batch_size = 1024\n",
    "eu.settings.dl_pin_memory_gpu_training = True"
   ]
  },
  {
   "cell_type": "code",
   "execution_count": 7,
   "metadata": {},
   "outputs": [],
   "source": [
    "# Load preprocessed sdata\n",
    "sdata = eu.dl.read_h5sd(\"SD_RNAcomplete.h5\")"
   ]
  },
  {
   "cell_type": "code",
   "execution_count": 3,
   "metadata": {},
   "outputs": [
    {
     "name": "stdout",
     "output_type": "stream",
     "text": [
      "Model: DeepBind\n",
      "Input length: 41\n",
      "Output dimension: 236\n",
      "Strand: ss\n",
      "Task: regression\n",
      "Aggregation: None\n",
      "Loss function: mse_loss\n",
      "Optimizer: adam\n",
      "\tOptimizer parameters: {}\n",
      "Learning rate: 0.0005\n",
      "Scheduler: lr_scheduler\n",
      "Scheduler patience: 3\n"
     ]
    },
    {
     "data": {
      "text/plain": [
       "DeepBind(\n",
       "  (hp_metric): R2Score()\n",
       "  (max_pool): MaxPool1d(kernel_size=8, stride=8, padding=0, dilation=1, ceil_mode=False)\n",
       "  (convnet): BasicConv1D(\n",
       "    (module): Sequential(\n",
       "      (0): Conv1d(4, 512, kernel_size=(16,), stride=(1,))\n",
       "      (1): ReLU()\n",
       "      (2): BatchNorm1d(512, eps=1e-05, momentum=0.1, affine=True, track_running_stats=True)\n",
       "    )\n",
       "  )\n",
       "  (fcn): BasicFullyConnectedModule(\n",
       "    (module): Sequential(\n",
       "      (0): Linear(in_features=1664, out_features=1024, bias=True)\n",
       "      (1): ReLU()\n",
       "      (2): BatchNorm1d(1024, eps=1e-05, momentum=0.1, affine=True, track_running_stats=True)\n",
       "      (3): Linear(in_features=1024, out_features=236, bias=True)\n",
       "    )\n",
       "  )\n",
       ")"
      ]
     },
     "execution_count": 3,
     "metadata": {},
     "output_type": "execute_result"
    }
   ],
   "source": [
    "from eugene.models import DeepBind\n",
    "\n",
    "conv_dropout = 0\n",
    "fc_dropout = 0\n",
    "batchnorm = True\n",
    "model = DeepBind(\n",
    "    input_len=41, # Length of padded sequences\n",
    "    output_dim=236, # Number of multitask outputs\n",
    "    strand=\"ss\",\n",
    "    task=\"regression\",\n",
    "    lr=0.0005,\n",
    "    scheduler_patience=3,\n",
    "    conv_kwargs=dict(channels=[4, 512], conv_kernels=[16], dropout_rates=conv_dropout, batchnorm=batchnorm),\n",
    "    mp_kwargs=dict(kernel_size=8),\n",
    "    fc_kwargs=dict(hidden_dims=[1024], dropout_rate=fc_dropout, batchnorm=batchnorm)\n",
    ")\n",
    "\n",
    "model.summary()\n",
    "model"
   ]
  },
  {
   "cell_type": "code",
   "execution_count": 5,
   "metadata": {},
   "outputs": [
    {
     "name": "stdout",
     "output_type": "stream",
     "text": [
      "No transforms given, assuming just need to tensorize).\n"
     ]
    },
    {
     "name": "stderr",
     "output_type": "stream",
     "text": [
      "GPU available: True, used: True\n",
      "TPU available: False, using: 0 TPU cores\n",
      "IPU available: False, using: 0 IPUs\n",
      "LOCAL_RANK: 0 - CUDA_VISIBLE_DEVICES: [0]\n",
      "\n",
      "  | Name      | Type                      | Params\n",
      "--------------------------------------------------------\n",
      "0 | hp_metric | R2Score                   | 0     \n",
      "1 | max_pool  | MaxPool1d                 | 0     \n",
      "2 | convnet   | BasicConv1D               | 34.3 K\n",
      "3 | fcn       | BasicFullyConnectedModule | 1.9 M \n",
      "--------------------------------------------------------\n",
      "2.0 M     Trainable params\n",
      "0         Non-trainable params\n",
      "2.0 M     Total params\n",
      "7.933     Total estimated model params size (MB)\n"
     ]
    },
    {
     "name": "stdout",
     "output_type": "stream",
     "text": [
      "No transforms given, assuming just need to tensorize).\n"
     ]
    },
    {
     "data": {
      "application/vnd.jupyter.widget-view+json": {
       "model_id": "9253e950c5ea4ce2bda6bb549729dca3",
       "version_major": 2,
       "version_minor": 0
      },
      "text/plain": [
       "Validation sanity check: 0it [00:00, ?it/s]"
      ]
     },
     "metadata": {},
     "output_type": "display_data"
    },
    {
     "name": "stderr",
     "output_type": "stream",
     "text": [
      "Global seed set to 13\n"
     ]
    },
    {
     "data": {
      "application/vnd.jupyter.widget-view+json": {
       "model_id": "665aae4962d641b881ccd85d078761a5",
       "version_major": 2,
       "version_minor": 0
      },
      "text/plain": [
       "Training: 0it [00:00, ?it/s]"
      ]
     },
     "metadata": {},
     "output_type": "display_data"
    },
    {
     "name": "stderr",
     "output_type": "stream",
     "text": [
      "c:\\Users\\Lab\\anaconda3\\lib\\site-packages\\pytorch_lightning\\trainer\\trainer.py:688: UserWarning: Detected KeyboardInterrupt, attempting graceful shutdown...\n",
      "  rank_zero_warn(\"Detected KeyboardInterrupt, attempting graceful shutdown...\")\n",
      "Exception ignored in: <function _MultiProcessingDataLoaderIter.__del__ at 0x0000021257714E50>\n",
      "Traceback (most recent call last):\n",
      "  File \"c:\\Users\\Lab\\anaconda3\\lib\\site-packages\\torch\\utils\\data\\dataloader.py\", line 1358, in __del__\n",
      "    self._shutdown_workers()\n",
      "  File \"c:\\Users\\Lab\\anaconda3\\lib\\site-packages\\torch\\utils\\data\\dataloader.py\", line 1316, in _shutdown_workers\n",
      "    if self._persistent_workers or self._workers_status[worker_id]:\n",
      "AttributeError: '_MultiProcessingDataLoaderIter' object has no attribute '_workers_status'\n"
     ]
    }
   ],
   "source": [
    "target_list = sdata.seqs_annot.columns.drop(\"train\").tolist()\n",
    "eu.train.fit(\n",
    "    model=model,\n",
    "    sdata=sdata,\n",
    "    gpus=1,\n",
    "    target=target_list,\n",
    "    train_key=\"train\",\n",
    "    epochs=30\n",
    ")"
   ]
  },
  {
   "cell_type": "markdown",
   "metadata": {},
   "source": [
    "# Non-multitasking train test"
   ]
  },
  {
   "cell_type": "code",
   "execution_count": 37,
   "metadata": {},
   "outputs": [
    {
     "name": "stdout",
     "output_type": "stream",
     "text": [
      "The autoreload extension is already loaded. To reload it, use:\n",
      "  %reload_ext autoreload\n",
      "0.1.0\n"
     ]
    }
   ],
   "source": [
    "if 'autoreload' not in get_ipython().extension_manager.loaded:\n",
    "    %load_ext autoreload \n",
    "%autoreload 2\n",
    "\n",
    "import numpy as np\n",
    "import pandas as pd\n",
    "import eugene as eu\n",
    "\n",
    "# Configure EUGENe \n",
    "print(eu.__version__)\n",
    "eu.settings.dataset_dir = \"./datasets/\"\n",
    "eu.settings.logging_dir = \"./eugene_log/\"\n",
    "eu.settings.output_dir = \"./eugene_output/\"\n",
    "\n",
    "# Test experimentally\n",
    "eu.settings.dl_num_workers = 6\n",
    "eu.settings.batch_size = 1024\n",
    "eu.settings.dl_pin_memory_gpu_training = True"
   ]
  },
  {
   "cell_type": "code",
   "execution_count": 38,
   "metadata": {},
   "outputs": [],
   "source": [
    "sdata = eu.dl.read_h5sd(\"SD_RNAcomplete.h5\")"
   ]
  },
  {
   "cell_type": "code",
   "execution_count": 8,
   "metadata": {},
   "outputs": [
    {
     "name": "stdout",
     "output_type": "stream",
     "text": [
      "Model: DeepBind\n",
      "Input length: 41\n",
      "Output dimension: 1\n",
      "Strand: ss\n",
      "Task: regression\n",
      "Aggregation: None\n",
      "Loss function: mse_loss\n",
      "Optimizer: adam\n",
      "\tOptimizer parameters: {}\n",
      "Learning rate: 0.0005\n",
      "Scheduler: lr_scheduler\n",
      "Scheduler patience: 3\n"
     ]
    },
    {
     "data": {
      "text/plain": [
       "DeepBind(\n",
       "  (hp_metric): R2Score()\n",
       "  (max_pool): MaxPool1d(kernel_size=8, stride=8, padding=0, dilation=1, ceil_mode=False)\n",
       "  (convnet): BasicConv1D(\n",
       "    (module): Sequential(\n",
       "      (0): Conv1d(4, 128, kernel_size=(16,), stride=(1,))\n",
       "      (1): ReLU()\n",
       "      (2): BatchNorm1d(128, eps=1e-05, momentum=0.1, affine=True, track_running_stats=True)\n",
       "    )\n",
       "  )\n",
       "  (fcn): BasicFullyConnectedModule(\n",
       "    (module): Sequential(\n",
       "      (0): Linear(in_features=416, out_features=256, bias=True)\n",
       "      (1): ReLU()\n",
       "      (2): BatchNorm1d(256, eps=1e-05, momentum=0.1, affine=True, track_running_stats=True)\n",
       "      (3): Linear(in_features=256, out_features=1, bias=True)\n",
       "    )\n",
       "  )\n",
       ")"
      ]
     },
     "execution_count": 8,
     "metadata": {},
     "output_type": "execute_result"
    }
   ],
   "source": [
    "from eugene.models import DeepBind\n",
    "target_list = sdata.seqs_annot.columns.drop(\"train\").tolist()\n",
    "\n",
    "conv_dropout = 0\n",
    "fc_dropout = 0\n",
    "batchnorm = True\n",
    "\n",
    "base = DeepBind(\n",
    "    input_len=41, # Length of padded sequences\n",
    "    output_dim=1, # Number of multitask outputs\n",
    "    strand=\"ss\",\n",
    "    task=\"regression\",\n",
    "    lr=0.0005,\n",
    "    scheduler_patience=3,\n",
    "    conv_kwargs=dict(channels=[4, 128], conv_kernels=[16], dropout_rates=conv_dropout, batchnorm=batchnorm),\n",
    "    mp_kwargs=dict(kernel_size=8),\n",
    "    fc_kwargs=dict(hidden_dims=[256], dropout_rate=fc_dropout, batchnorm=batchnorm)\n",
    ")\n",
    "\n",
    "base.summary()\n",
    "base"
   ]
  },
  {
   "cell_type": "code",
   "execution_count": 40,
   "metadata": {},
   "outputs": [],
   "source": [
    "models_num = 5\n",
    "slice = range(len(target_list))[:models_num]\n",
    "\n",
    "models_obj = {}\n",
    "for iter in slice:\n",
    "    models_obj[iter] = base"
   ]
  },
  {
   "cell_type": "code",
   "execution_count": 41,
   "metadata": {},
   "outputs": [
    {
     "name": "stdout",
     "output_type": "stream",
     "text": [
      "DeepBind(\n",
      "  (hp_metric): R2Score()\n",
      "  (max_pool): MaxPool1d(kernel_size=8, stride=8, padding=0, dilation=1, ceil_mode=False)\n",
      "  (convnet): BasicConv1D(\n",
      "    (module): Sequential(\n",
      "      (0): Conv1d(4, 128, kernel_size=(16,), stride=(1,))\n",
      "      (1): ReLU()\n",
      "      (2): BatchNorm1d(128, eps=1e-05, momentum=0.1, affine=True, track_running_stats=True)\n",
      "    )\n",
      "  )\n",
      "  (fcn): BasicFullyConnectedModule(\n",
      "    (module): Sequential(\n",
      "      (0): Linear(in_features=416, out_features=256, bias=True)\n",
      "      (1): ReLU()\n",
      "      (2): BatchNorm1d(256, eps=1e-05, momentum=0.1, affine=True, track_running_stats=True)\n",
      "      (3): Linear(in_features=256, out_features=1, bias=True)\n",
      "    )\n",
      "  )\n",
      ")\n",
      "No transforms given, assuming just need to tensorize).\n"
     ]
    },
    {
     "name": "stderr",
     "output_type": "stream",
     "text": [
      "Missing logger folder: eugene_log\\ssDeepBind_regression\n",
      "GPU available: True, used: True\n",
      "TPU available: False, using: 0 TPU cores\n",
      "IPU available: False, using: 0 IPUs\n",
      "LOCAL_RANK: 0 - CUDA_VISIBLE_DEVICES: [0]\n"
     ]
    },
    {
     "name": "stdout",
     "output_type": "stream",
     "text": [
      "No transforms given, assuming just need to tensorize).\n"
     ]
    },
    {
     "name": "stderr",
     "output_type": "stream",
     "text": [
      "\n",
      "  | Name      | Type                      | Params\n",
      "--------------------------------------------------------\n",
      "0 | hp_metric | R2Score                   | 0     \n",
      "1 | max_pool  | MaxPool1d                 | 0     \n",
      "2 | convnet   | BasicConv1D               | 8.6 K \n",
      "3 | fcn       | BasicFullyConnectedModule | 107 K \n",
      "--------------------------------------------------------\n",
      "116 K     Trainable params\n",
      "0         Non-trainable params\n",
      "116 K     Total params\n",
      "0.464     Total estimated model params size (MB)\n"
     ]
    },
    {
     "data": {
      "application/vnd.jupyter.widget-view+json": {
       "model_id": "088b04ce7004434d8e61a4497d42350c",
       "version_major": 2,
       "version_minor": 0
      },
      "text/plain": [
       "Validation sanity check: 0it [00:00, ?it/s]"
      ]
     },
     "metadata": {},
     "output_type": "display_data"
    },
    {
     "name": "stderr",
     "output_type": "stream",
     "text": [
      "Global seed set to 13\n"
     ]
    },
    {
     "data": {
      "application/vnd.jupyter.widget-view+json": {
       "model_id": "bcd01d1293214d1695bace0d229408ed",
       "version_major": 2,
       "version_minor": 0
      },
      "text/plain": [
       "Training: 0it [00:00, ?it/s]"
      ]
     },
     "metadata": {},
     "output_type": "display_data"
    },
    {
     "data": {
      "application/vnd.jupyter.widget-view+json": {
       "model_id": "7c4f9d1deca74518be650ba51305e383",
       "version_major": 2,
       "version_minor": 0
      },
      "text/plain": [
       "Validating: 0it [00:00, ?it/s]"
      ]
     },
     "metadata": {},
     "output_type": "display_data"
    },
    {
     "name": "stderr",
     "output_type": "stream",
     "text": [
      "Metric val_loss improved. New best score: 0.758\n"
     ]
    },
    {
     "data": {
      "application/vnd.jupyter.widget-view+json": {
       "model_id": "14d2c05cd5f54caca7987f968f8251ef",
       "version_major": 2,
       "version_minor": 0
      },
      "text/plain": [
       "Validating: 0it [00:00, ?it/s]"
      ]
     },
     "metadata": {},
     "output_type": "display_data"
    },
    {
     "data": {
      "application/vnd.jupyter.widget-view+json": {
       "model_id": "090d25c861224f0fbf7c200103e57d16",
       "version_major": 2,
       "version_minor": 0
      },
      "text/plain": [
       "Validating: 0it [00:00, ?it/s]"
      ]
     },
     "metadata": {},
     "output_type": "display_data"
    },
    {
     "name": "stderr",
     "output_type": "stream",
     "text": [
      "Metric val_loss improved by 0.125 >= min_delta = 0.0. New best score: 0.633\n"
     ]
    },
    {
     "data": {
      "application/vnd.jupyter.widget-view+json": {
       "model_id": "b69cc782b4af46d9bdc796b11b2613dd",
       "version_major": 2,
       "version_minor": 0
      },
      "text/plain": [
       "Validating: 0it [00:00, ?it/s]"
      ]
     },
     "metadata": {},
     "output_type": "display_data"
    },
    {
     "name": "stderr",
     "output_type": "stream",
     "text": [
      "Metric val_loss improved by 0.046 >= min_delta = 0.0. New best score: 0.587\n"
     ]
    },
    {
     "data": {
      "application/vnd.jupyter.widget-view+json": {
       "model_id": "b20423eb1a0641aa920c2828756bfcd5",
       "version_major": 2,
       "version_minor": 0
      },
      "text/plain": [
       "Validating: 0it [00:00, ?it/s]"
      ]
     },
     "metadata": {},
     "output_type": "display_data"
    },
    {
     "name": "stderr",
     "output_type": "stream",
     "text": [
      "Metric val_loss improved by 0.002 >= min_delta = 0.0. New best score: 0.585\n"
     ]
    },
    {
     "data": {
      "application/vnd.jupyter.widget-view+json": {
       "model_id": "55774c365ed9485099a5533273d6a0c1",
       "version_major": 2,
       "version_minor": 0
      },
      "text/plain": [
       "Validating: 0it [00:00, ?it/s]"
      ]
     },
     "metadata": {},
     "output_type": "display_data"
    },
    {
     "name": "stderr",
     "output_type": "stream",
     "text": [
      "Metric val_loss improved by 0.006 >= min_delta = 0.0. New best score: 0.579\n"
     ]
    },
    {
     "data": {
      "application/vnd.jupyter.widget-view+json": {
       "model_id": "d6b7fb57119a4ab0b9ba3dc849f3b1c5",
       "version_major": 2,
       "version_minor": 0
      },
      "text/plain": [
       "Validating: 0it [00:00, ?it/s]"
      ]
     },
     "metadata": {},
     "output_type": "display_data"
    },
    {
     "data": {
      "application/vnd.jupyter.widget-view+json": {
       "model_id": "303f029869a94b32bfab55120ba6edb3",
       "version_major": 2,
       "version_minor": 0
      },
      "text/plain": [
       "Validating: 0it [00:00, ?it/s]"
      ]
     },
     "metadata": {},
     "output_type": "display_data"
    },
    {
     "data": {
      "application/vnd.jupyter.widget-view+json": {
       "model_id": "103ec55286d6406c81b1276cf02a6b54",
       "version_major": 2,
       "version_minor": 0
      },
      "text/plain": [
       "Validating: 0it [00:00, ?it/s]"
      ]
     },
     "metadata": {},
     "output_type": "display_data"
    },
    {
     "name": "stderr",
     "output_type": "stream",
     "text": [
      "Metric val_loss improved by 0.007 >= min_delta = 0.0. New best score: 0.572\n"
     ]
    },
    {
     "data": {
      "application/vnd.jupyter.widget-view+json": {
       "model_id": "248754b4b82d45968fa80ed79b127082",
       "version_major": 2,
       "version_minor": 0
      },
      "text/plain": [
       "Validating: 0it [00:00, ?it/s]"
      ]
     },
     "metadata": {},
     "output_type": "display_data"
    },
    {
     "name": "stdout",
     "output_type": "stream",
     "text": [
      "DeepBind(\n",
      "  (hp_metric): R2Score()\n",
      "  (max_pool): MaxPool1d(kernel_size=8, stride=8, padding=0, dilation=1, ceil_mode=False)\n",
      "  (convnet): BasicConv1D(\n",
      "    (module): Sequential(\n",
      "      (0): Conv1d(4, 128, kernel_size=(16,), stride=(1,))\n",
      "      (1): ReLU()\n",
      "      (2): BatchNorm1d(128, eps=1e-05, momentum=0.1, affine=True, track_running_stats=True)\n",
      "    )\n",
      "  )\n",
      "  (fcn): BasicFullyConnectedModule(\n",
      "    (module): Sequential(\n",
      "      (0): Linear(in_features=416, out_features=256, bias=True)\n",
      "      (1): ReLU()\n",
      "      (2): BatchNorm1d(256, eps=1e-05, momentum=0.1, affine=True, track_running_stats=True)\n",
      "      (3): Linear(in_features=256, out_features=1, bias=True)\n",
      "    )\n",
      "  )\n",
      ")\n",
      "No transforms given, assuming just need to tensorize).\n"
     ]
    },
    {
     "name": "stderr",
     "output_type": "stream",
     "text": [
      "GPU available: True, used: True\n",
      "TPU available: False, using: 0 TPU cores\n",
      "IPU available: False, using: 0 IPUs\n",
      "LOCAL_RANK: 0 - CUDA_VISIBLE_DEVICES: [0]\n",
      "\n",
      "  | Name      | Type                      | Params\n",
      "--------------------------------------------------------\n",
      "0 | hp_metric | R2Score                   | 0     \n",
      "1 | max_pool  | MaxPool1d                 | 0     \n",
      "2 | convnet   | BasicConv1D               | 8.6 K \n",
      "3 | fcn       | BasicFullyConnectedModule | 107 K \n",
      "--------------------------------------------------------\n",
      "116 K     Trainable params\n",
      "0         Non-trainable params\n",
      "116 K     Total params\n",
      "0.464     Total estimated model params size (MB)\n"
     ]
    },
    {
     "name": "stdout",
     "output_type": "stream",
     "text": [
      "No transforms given, assuming just need to tensorize).\n"
     ]
    },
    {
     "data": {
      "application/vnd.jupyter.widget-view+json": {
       "model_id": "9aac7a769361414a9fe15b64858c1b69",
       "version_major": 2,
       "version_minor": 0
      },
      "text/plain": [
       "Validation sanity check: 0it [00:00, ?it/s]"
      ]
     },
     "metadata": {},
     "output_type": "display_data"
    },
    {
     "name": "stderr",
     "output_type": "stream",
     "text": [
      "Global seed set to 13\n"
     ]
    },
    {
     "data": {
      "application/vnd.jupyter.widget-view+json": {
       "model_id": "c8fe6454ef7449348f9457fe9c21da77",
       "version_major": 2,
       "version_minor": 0
      },
      "text/plain": [
       "Training: 0it [00:00, ?it/s]"
      ]
     },
     "metadata": {},
     "output_type": "display_data"
    },
    {
     "data": {
      "application/vnd.jupyter.widget-view+json": {
       "model_id": "4c26c7d45166478d9aa9b3f0d09a7bfa",
       "version_major": 2,
       "version_minor": 0
      },
      "text/plain": [
       "Validating: 0it [00:00, ?it/s]"
      ]
     },
     "metadata": {},
     "output_type": "display_data"
    },
    {
     "name": "stderr",
     "output_type": "stream",
     "text": [
      "Metric val_loss improved. New best score: 0.553\n"
     ]
    },
    {
     "data": {
      "application/vnd.jupyter.widget-view+json": {
       "model_id": "47bb4d3b133d41cca95eb1bc6186df2e",
       "version_major": 2,
       "version_minor": 0
      },
      "text/plain": [
       "Validating: 0it [00:00, ?it/s]"
      ]
     },
     "metadata": {},
     "output_type": "display_data"
    },
    {
     "name": "stderr",
     "output_type": "stream",
     "text": [
      "Metric val_loss improved by 0.027 >= min_delta = 0.0. New best score: 0.526\n"
     ]
    },
    {
     "data": {
      "application/vnd.jupyter.widget-view+json": {
       "model_id": "5f50881be18749b09a6aa1328b78b8b9",
       "version_major": 2,
       "version_minor": 0
      },
      "text/plain": [
       "Validating: 0it [00:00, ?it/s]"
      ]
     },
     "metadata": {},
     "output_type": "display_data"
    },
    {
     "data": {
      "application/vnd.jupyter.widget-view+json": {
       "model_id": "eba129f7482d4a1ebf07fc3f92f5e6e6",
       "version_major": 2,
       "version_minor": 0
      },
      "text/plain": [
       "Validating: 0it [00:00, ?it/s]"
      ]
     },
     "metadata": {},
     "output_type": "display_data"
    },
    {
     "data": {
      "application/vnd.jupyter.widget-view+json": {
       "model_id": "55af61bec0784a1396e658ef8f0d0667",
       "version_major": 2,
       "version_minor": 0
      },
      "text/plain": [
       "Validating: 0it [00:00, ?it/s]"
      ]
     },
     "metadata": {},
     "output_type": "display_data"
    },
    {
     "name": "stderr",
     "output_type": "stream",
     "text": [
      "Metric val_loss improved by 0.000 >= min_delta = 0.0. New best score: 0.526\n"
     ]
    },
    {
     "data": {
      "application/vnd.jupyter.widget-view+json": {
       "model_id": "099607c716b949ce9e9005a712001f70",
       "version_major": 2,
       "version_minor": 0
      },
      "text/plain": [
       "Validating: 0it [00:00, ?it/s]"
      ]
     },
     "metadata": {},
     "output_type": "display_data"
    },
    {
     "data": {
      "application/vnd.jupyter.widget-view+json": {
       "model_id": "fede930bcb964d4fa5f801a629af1b0c",
       "version_major": 2,
       "version_minor": 0
      },
      "text/plain": [
       "Validating: 0it [00:00, ?it/s]"
      ]
     },
     "metadata": {},
     "output_type": "display_data"
    },
    {
     "data": {
      "application/vnd.jupyter.widget-view+json": {
       "model_id": "342cefc6839b4df987b105f4e4974860",
       "version_major": 2,
       "version_minor": 0
      },
      "text/plain": [
       "Validating: 0it [00:00, ?it/s]"
      ]
     },
     "metadata": {},
     "output_type": "display_data"
    },
    {
     "data": {
      "application/vnd.jupyter.widget-view+json": {
       "model_id": "1574f772655e4462b23db173c3e8a7b7",
       "version_major": 2,
       "version_minor": 0
      },
      "text/plain": [
       "Validating: 0it [00:00, ?it/s]"
      ]
     },
     "metadata": {},
     "output_type": "display_data"
    },
    {
     "data": {
      "application/vnd.jupyter.widget-view+json": {
       "model_id": "4fa3229b70f24be48410dfe78c996d80",
       "version_major": 2,
       "version_minor": 0
      },
      "text/plain": [
       "Validating: 0it [00:00, ?it/s]"
      ]
     },
     "metadata": {},
     "output_type": "display_data"
    },
    {
     "name": "stderr",
     "output_type": "stream",
     "text": [
      "Monitored metric val_loss did not improve in the last 5 records. Best score: 0.526. Signaling Trainer to stop.\n"
     ]
    },
    {
     "name": "stdout",
     "output_type": "stream",
     "text": [
      "DeepBind(\n",
      "  (hp_metric): R2Score()\n",
      "  (max_pool): MaxPool1d(kernel_size=8, stride=8, padding=0, dilation=1, ceil_mode=False)\n",
      "  (convnet): BasicConv1D(\n",
      "    (module): Sequential(\n",
      "      (0): Conv1d(4, 128, kernel_size=(16,), stride=(1,))\n",
      "      (1): ReLU()\n",
      "      (2): BatchNorm1d(128, eps=1e-05, momentum=0.1, affine=True, track_running_stats=True)\n",
      "    )\n",
      "  )\n",
      "  (fcn): BasicFullyConnectedModule(\n",
      "    (module): Sequential(\n",
      "      (0): Linear(in_features=416, out_features=256, bias=True)\n",
      "      (1): ReLU()\n",
      "      (2): BatchNorm1d(256, eps=1e-05, momentum=0.1, affine=True, track_running_stats=True)\n",
      "      (3): Linear(in_features=256, out_features=1, bias=True)\n",
      "    )\n",
      "  )\n",
      ")\n",
      "No transforms given, assuming just need to tensorize).\n"
     ]
    },
    {
     "name": "stderr",
     "output_type": "stream",
     "text": [
      "GPU available: True, used: True\n",
      "TPU available: False, using: 0 TPU cores\n",
      "IPU available: False, using: 0 IPUs\n",
      "LOCAL_RANK: 0 - CUDA_VISIBLE_DEVICES: [0]\n",
      "\n",
      "  | Name      | Type                      | Params\n",
      "--------------------------------------------------------\n",
      "0 | hp_metric | R2Score                   | 0     \n",
      "1 | max_pool  | MaxPool1d                 | 0     \n",
      "2 | convnet   | BasicConv1D               | 8.6 K \n",
      "3 | fcn       | BasicFullyConnectedModule | 107 K \n",
      "--------------------------------------------------------\n",
      "116 K     Trainable params\n",
      "0         Non-trainable params\n",
      "116 K     Total params\n",
      "0.464     Total estimated model params size (MB)\n"
     ]
    },
    {
     "name": "stdout",
     "output_type": "stream",
     "text": [
      "No transforms given, assuming just need to tensorize).\n"
     ]
    },
    {
     "data": {
      "application/vnd.jupyter.widget-view+json": {
       "model_id": "47261e3e028045a592952305d717910a",
       "version_major": 2,
       "version_minor": 0
      },
      "text/plain": [
       "Validation sanity check: 0it [00:00, ?it/s]"
      ]
     },
     "metadata": {},
     "output_type": "display_data"
    },
    {
     "name": "stderr",
     "output_type": "stream",
     "text": [
      "Global seed set to 13\n"
     ]
    },
    {
     "data": {
      "application/vnd.jupyter.widget-view+json": {
       "model_id": "84b5f183bb5446beaacfc71e542eaf5b",
       "version_major": 2,
       "version_minor": 0
      },
      "text/plain": [
       "Training: 0it [00:00, ?it/s]"
      ]
     },
     "metadata": {},
     "output_type": "display_data"
    },
    {
     "data": {
      "application/vnd.jupyter.widget-view+json": {
       "model_id": "8fb4203bbeff49079dbd6c7c63de4572",
       "version_major": 2,
       "version_minor": 0
      },
      "text/plain": [
       "Validating: 0it [00:00, ?it/s]"
      ]
     },
     "metadata": {},
     "output_type": "display_data"
    },
    {
     "name": "stderr",
     "output_type": "stream",
     "text": [
      "Metric val_loss improved. New best score: 0.540\n"
     ]
    },
    {
     "data": {
      "application/vnd.jupyter.widget-view+json": {
       "model_id": "256c5049f83c4a0d8590b1f5e1e62293",
       "version_major": 2,
       "version_minor": 0
      },
      "text/plain": [
       "Validating: 0it [00:00, ?it/s]"
      ]
     },
     "metadata": {},
     "output_type": "display_data"
    },
    {
     "data": {
      "application/vnd.jupyter.widget-view+json": {
       "model_id": "aa7994bca2cb423ea9b06c19cc9126c3",
       "version_major": 2,
       "version_minor": 0
      },
      "text/plain": [
       "Validating: 0it [00:00, ?it/s]"
      ]
     },
     "metadata": {},
     "output_type": "display_data"
    },
    {
     "name": "stderr",
     "output_type": "stream",
     "text": [
      "Metric val_loss improved by 0.004 >= min_delta = 0.0. New best score: 0.536\n"
     ]
    },
    {
     "data": {
      "application/vnd.jupyter.widget-view+json": {
       "model_id": "45922be848a44766bf305addb6995203",
       "version_major": 2,
       "version_minor": 0
      },
      "text/plain": [
       "Validating: 0it [00:00, ?it/s]"
      ]
     },
     "metadata": {},
     "output_type": "display_data"
    },
    {
     "data": {
      "application/vnd.jupyter.widget-view+json": {
       "model_id": "0a9b492d8c444b3dbaf065a47d2fa80d",
       "version_major": 2,
       "version_minor": 0
      },
      "text/plain": [
       "Validating: 0it [00:00, ?it/s]"
      ]
     },
     "metadata": {},
     "output_type": "display_data"
    },
    {
     "data": {
      "application/vnd.jupyter.widget-view+json": {
       "model_id": "5189ab03958943cd866694c3c5f2a06c",
       "version_major": 2,
       "version_minor": 0
      },
      "text/plain": [
       "Validating: 0it [00:00, ?it/s]"
      ]
     },
     "metadata": {},
     "output_type": "display_data"
    },
    {
     "name": "stderr",
     "output_type": "stream",
     "text": [
      "Metric val_loss improved by 0.013 >= min_delta = 0.0. New best score: 0.523\n"
     ]
    },
    {
     "data": {
      "application/vnd.jupyter.widget-view+json": {
       "model_id": "d9f68a141bf440b9a0231b81de0cb1da",
       "version_major": 2,
       "version_minor": 0
      },
      "text/plain": [
       "Validating: 0it [00:00, ?it/s]"
      ]
     },
     "metadata": {},
     "output_type": "display_data"
    },
    {
     "data": {
      "application/vnd.jupyter.widget-view+json": {
       "model_id": "207dced6fce94c6ca5217f2ad685be94",
       "version_major": 2,
       "version_minor": 0
      },
      "text/plain": [
       "Validating: 0it [00:00, ?it/s]"
      ]
     },
     "metadata": {},
     "output_type": "display_data"
    },
    {
     "data": {
      "application/vnd.jupyter.widget-view+json": {
       "model_id": "1dbd647e2975482284fb7785ff8f124b",
       "version_major": 2,
       "version_minor": 0
      },
      "text/plain": [
       "Validating: 0it [00:00, ?it/s]"
      ]
     },
     "metadata": {},
     "output_type": "display_data"
    },
    {
     "name": "stderr",
     "output_type": "stream",
     "text": [
      "Metric val_loss improved by 0.001 >= min_delta = 0.0. New best score: 0.522\n"
     ]
    },
    {
     "data": {
      "application/vnd.jupyter.widget-view+json": {
       "model_id": "a2a0866447bf4ad28c8c8b50a488c23d",
       "version_major": 2,
       "version_minor": 0
      },
      "text/plain": [
       "Validating: 0it [00:00, ?it/s]"
      ]
     },
     "metadata": {},
     "output_type": "display_data"
    },
    {
     "name": "stdout",
     "output_type": "stream",
     "text": [
      "DeepBind(\n",
      "  (hp_metric): R2Score()\n",
      "  (max_pool): MaxPool1d(kernel_size=8, stride=8, padding=0, dilation=1, ceil_mode=False)\n",
      "  (convnet): BasicConv1D(\n",
      "    (module): Sequential(\n",
      "      (0): Conv1d(4, 128, kernel_size=(16,), stride=(1,))\n",
      "      (1): ReLU()\n",
      "      (2): BatchNorm1d(128, eps=1e-05, momentum=0.1, affine=True, track_running_stats=True)\n",
      "    )\n",
      "  )\n",
      "  (fcn): BasicFullyConnectedModule(\n",
      "    (module): Sequential(\n",
      "      (0): Linear(in_features=416, out_features=256, bias=True)\n",
      "      (1): ReLU()\n",
      "      (2): BatchNorm1d(256, eps=1e-05, momentum=0.1, affine=True, track_running_stats=True)\n",
      "      (3): Linear(in_features=256, out_features=1, bias=True)\n",
      "    )\n",
      "  )\n",
      ")\n",
      "No transforms given, assuming just need to tensorize).\n"
     ]
    },
    {
     "name": "stderr",
     "output_type": "stream",
     "text": [
      "GPU available: True, used: True\n",
      "TPU available: False, using: 0 TPU cores\n",
      "IPU available: False, using: 0 IPUs\n",
      "LOCAL_RANK: 0 - CUDA_VISIBLE_DEVICES: [0]\n",
      "\n",
      "  | Name      | Type                      | Params\n",
      "--------------------------------------------------------\n",
      "0 | hp_metric | R2Score                   | 0     \n",
      "1 | max_pool  | MaxPool1d                 | 0     \n",
      "2 | convnet   | BasicConv1D               | 8.6 K \n",
      "3 | fcn       | BasicFullyConnectedModule | 107 K \n",
      "--------------------------------------------------------\n",
      "116 K     Trainable params\n",
      "0         Non-trainable params\n",
      "116 K     Total params\n",
      "0.464     Total estimated model params size (MB)\n"
     ]
    },
    {
     "name": "stdout",
     "output_type": "stream",
     "text": [
      "No transforms given, assuming just need to tensorize).\n"
     ]
    },
    {
     "data": {
      "application/vnd.jupyter.widget-view+json": {
       "model_id": "ccb712a866b8466f92b2385ef17b28a3",
       "version_major": 2,
       "version_minor": 0
      },
      "text/plain": [
       "Validation sanity check: 0it [00:00, ?it/s]"
      ]
     },
     "metadata": {},
     "output_type": "display_data"
    },
    {
     "name": "stderr",
     "output_type": "stream",
     "text": [
      "Global seed set to 13\n"
     ]
    },
    {
     "data": {
      "application/vnd.jupyter.widget-view+json": {
       "model_id": "963805a8cd4f47c8bafdc132142b4ca0",
       "version_major": 2,
       "version_minor": 0
      },
      "text/plain": [
       "Training: 0it [00:00, ?it/s]"
      ]
     },
     "metadata": {},
     "output_type": "display_data"
    },
    {
     "data": {
      "application/vnd.jupyter.widget-view+json": {
       "model_id": "3f424c9f79d8430981fa6ef9821f8512",
       "version_major": 2,
       "version_minor": 0
      },
      "text/plain": [
       "Validating: 0it [00:00, ?it/s]"
      ]
     },
     "metadata": {},
     "output_type": "display_data"
    },
    {
     "name": "stderr",
     "output_type": "stream",
     "text": [
      "Metric val_loss improved. New best score: 0.535\n"
     ]
    },
    {
     "data": {
      "application/vnd.jupyter.widget-view+json": {
       "model_id": "85cb185afd874e7b833caa49972495a0",
       "version_major": 2,
       "version_minor": 0
      },
      "text/plain": [
       "Validating: 0it [00:00, ?it/s]"
      ]
     },
     "metadata": {},
     "output_type": "display_data"
    },
    {
     "data": {
      "application/vnd.jupyter.widget-view+json": {
       "model_id": "48de2c958a0e4d3cb1a4c8c2231a674d",
       "version_major": 2,
       "version_minor": 0
      },
      "text/plain": [
       "Validating: 0it [00:00, ?it/s]"
      ]
     },
     "metadata": {},
     "output_type": "display_data"
    },
    {
     "name": "stderr",
     "output_type": "stream",
     "text": [
      "Metric val_loss improved by 0.024 >= min_delta = 0.0. New best score: 0.510\n"
     ]
    },
    {
     "data": {
      "application/vnd.jupyter.widget-view+json": {
       "model_id": "6fcd1627f92e49dabdf9a819c1cbafe7",
       "version_major": 2,
       "version_minor": 0
      },
      "text/plain": [
       "Validating: 0it [00:00, ?it/s]"
      ]
     },
     "metadata": {},
     "output_type": "display_data"
    },
    {
     "data": {
      "application/vnd.jupyter.widget-view+json": {
       "model_id": "784cd9ce60894081a4731100502b2e91",
       "version_major": 2,
       "version_minor": 0
      },
      "text/plain": [
       "Validating: 0it [00:00, ?it/s]"
      ]
     },
     "metadata": {},
     "output_type": "display_data"
    },
    {
     "data": {
      "application/vnd.jupyter.widget-view+json": {
       "model_id": "ad3f95ed72cc4f8ca59ab7d6115a5c05",
       "version_major": 2,
       "version_minor": 0
      },
      "text/plain": [
       "Validating: 0it [00:00, ?it/s]"
      ]
     },
     "metadata": {},
     "output_type": "display_data"
    },
    {
     "data": {
      "application/vnd.jupyter.widget-view+json": {
       "model_id": "0c69a235ef5d4e288b3bf6f3d93d89f3",
       "version_major": 2,
       "version_minor": 0
      },
      "text/plain": [
       "Validating: 0it [00:00, ?it/s]"
      ]
     },
     "metadata": {},
     "output_type": "display_data"
    },
    {
     "data": {
      "application/vnd.jupyter.widget-view+json": {
       "model_id": "d75ad12fe64b43fe8e66cf59048b0135",
       "version_major": 2,
       "version_minor": 0
      },
      "text/plain": [
       "Validating: 0it [00:00, ?it/s]"
      ]
     },
     "metadata": {},
     "output_type": "display_data"
    },
    {
     "name": "stderr",
     "output_type": "stream",
     "text": [
      "Metric val_loss improved by 0.007 >= min_delta = 0.0. New best score: 0.504\n"
     ]
    },
    {
     "data": {
      "application/vnd.jupyter.widget-view+json": {
       "model_id": "4069c6c0f57e4da3813dea1a853a7e8e",
       "version_major": 2,
       "version_minor": 0
      },
      "text/plain": [
       "Validating: 0it [00:00, ?it/s]"
      ]
     },
     "metadata": {},
     "output_type": "display_data"
    },
    {
     "data": {
      "application/vnd.jupyter.widget-view+json": {
       "model_id": "ec3c35046c5a42279850ea8c440a8a50",
       "version_major": 2,
       "version_minor": 0
      },
      "text/plain": [
       "Validating: 0it [00:00, ?it/s]"
      ]
     },
     "metadata": {},
     "output_type": "display_data"
    },
    {
     "name": "stdout",
     "output_type": "stream",
     "text": [
      "DeepBind(\n",
      "  (hp_metric): R2Score()\n",
      "  (max_pool): MaxPool1d(kernel_size=8, stride=8, padding=0, dilation=1, ceil_mode=False)\n",
      "  (convnet): BasicConv1D(\n",
      "    (module): Sequential(\n",
      "      (0): Conv1d(4, 128, kernel_size=(16,), stride=(1,))\n",
      "      (1): ReLU()\n",
      "      (2): BatchNorm1d(128, eps=1e-05, momentum=0.1, affine=True, track_running_stats=True)\n",
      "    )\n",
      "  )\n",
      "  (fcn): BasicFullyConnectedModule(\n",
      "    (module): Sequential(\n",
      "      (0): Linear(in_features=416, out_features=256, bias=True)\n",
      "      (1): ReLU()\n",
      "      (2): BatchNorm1d(256, eps=1e-05, momentum=0.1, affine=True, track_running_stats=True)\n",
      "      (3): Linear(in_features=256, out_features=1, bias=True)\n",
      "    )\n",
      "  )\n",
      ")\n",
      "No transforms given, assuming just need to tensorize).\n"
     ]
    },
    {
     "name": "stderr",
     "output_type": "stream",
     "text": [
      "GPU available: True, used: True\n",
      "TPU available: False, using: 0 TPU cores\n",
      "IPU available: False, using: 0 IPUs\n",
      "LOCAL_RANK: 0 - CUDA_VISIBLE_DEVICES: [0]\n",
      "\n",
      "  | Name      | Type                      | Params\n",
      "--------------------------------------------------------\n",
      "0 | hp_metric | R2Score                   | 0     \n",
      "1 | max_pool  | MaxPool1d                 | 0     \n",
      "2 | convnet   | BasicConv1D               | 8.6 K \n",
      "3 | fcn       | BasicFullyConnectedModule | 107 K \n",
      "--------------------------------------------------------\n",
      "116 K     Trainable params\n",
      "0         Non-trainable params\n",
      "116 K     Total params\n",
      "0.464     Total estimated model params size (MB)\n"
     ]
    },
    {
     "name": "stdout",
     "output_type": "stream",
     "text": [
      "No transforms given, assuming just need to tensorize).\n"
     ]
    },
    {
     "data": {
      "application/vnd.jupyter.widget-view+json": {
       "model_id": "fc3765cd8fca4f0299417fe52d203e8a",
       "version_major": 2,
       "version_minor": 0
      },
      "text/plain": [
       "Validation sanity check: 0it [00:00, ?it/s]"
      ]
     },
     "metadata": {},
     "output_type": "display_data"
    },
    {
     "name": "stderr",
     "output_type": "stream",
     "text": [
      "Global seed set to 13\n"
     ]
    },
    {
     "data": {
      "application/vnd.jupyter.widget-view+json": {
       "model_id": "c6f6ecddfe5c428f822fc0e6144e1739",
       "version_major": 2,
       "version_minor": 0
      },
      "text/plain": [
       "Training: 0it [00:00, ?it/s]"
      ]
     },
     "metadata": {},
     "output_type": "display_data"
    },
    {
     "data": {
      "application/vnd.jupyter.widget-view+json": {
       "model_id": "552ada7366fc4b5d8c405c0778b328fc",
       "version_major": 2,
       "version_minor": 0
      },
      "text/plain": [
       "Validating: 0it [00:00, ?it/s]"
      ]
     },
     "metadata": {},
     "output_type": "display_data"
    },
    {
     "name": "stderr",
     "output_type": "stream",
     "text": [
      "Metric val_loss improved. New best score: 0.571\n"
     ]
    },
    {
     "data": {
      "application/vnd.jupyter.widget-view+json": {
       "model_id": "d9bf9056ccef4bca9eca789f9fa4135f",
       "version_major": 2,
       "version_minor": 0
      },
      "text/plain": [
       "Validating: 0it [00:00, ?it/s]"
      ]
     },
     "metadata": {},
     "output_type": "display_data"
    },
    {
     "name": "stderr",
     "output_type": "stream",
     "text": [
      "Metric val_loss improved by 0.013 >= min_delta = 0.0. New best score: 0.557\n"
     ]
    },
    {
     "data": {
      "application/vnd.jupyter.widget-view+json": {
       "model_id": "28e35b3b58524661a2a4cc8b925ec849",
       "version_major": 2,
       "version_minor": 0
      },
      "text/plain": [
       "Validating: 0it [00:00, ?it/s]"
      ]
     },
     "metadata": {},
     "output_type": "display_data"
    },
    {
     "name": "stderr",
     "output_type": "stream",
     "text": [
      "Metric val_loss improved by 0.013 >= min_delta = 0.0. New best score: 0.544\n"
     ]
    },
    {
     "data": {
      "application/vnd.jupyter.widget-view+json": {
       "model_id": "daafe579bd144fb3a3f517e09d814583",
       "version_major": 2,
       "version_minor": 0
      },
      "text/plain": [
       "Validating: 0it [00:00, ?it/s]"
      ]
     },
     "metadata": {},
     "output_type": "display_data"
    },
    {
     "data": {
      "application/vnd.jupyter.widget-view+json": {
       "model_id": "17cb14e2b8784b29a86ebc707fc443d4",
       "version_major": 2,
       "version_minor": 0
      },
      "text/plain": [
       "Validating: 0it [00:00, ?it/s]"
      ]
     },
     "metadata": {},
     "output_type": "display_data"
    },
    {
     "data": {
      "application/vnd.jupyter.widget-view+json": {
       "model_id": "4d75c89312e84b6385d96c9583b979f1",
       "version_major": 2,
       "version_minor": 0
      },
      "text/plain": [
       "Validating: 0it [00:00, ?it/s]"
      ]
     },
     "metadata": {},
     "output_type": "display_data"
    },
    {
     "data": {
      "application/vnd.jupyter.widget-view+json": {
       "model_id": "3d40c7920dd74e58b92f3758eac200e4",
       "version_major": 2,
       "version_minor": 0
      },
      "text/plain": [
       "Validating: 0it [00:00, ?it/s]"
      ]
     },
     "metadata": {},
     "output_type": "display_data"
    },
    {
     "name": "stderr",
     "output_type": "stream",
     "text": [
      "Metric val_loss improved by 0.015 >= min_delta = 0.0. New best score: 0.529\n"
     ]
    },
    {
     "ename": "OSError",
     "evalue": "[Errno 22] Invalid argument",
     "output_type": "error",
     "traceback": [
      "\u001b[1;31m---------------------------------------------------------------------------\u001b[0m",
      "\u001b[1;31mOSError\u001b[0m                                   Traceback (most recent call last)",
      "\u001b[1;32mc:\\Users\\Lab\\Documents\\EUGENe\\tests\\notebooks\\workflow\\ray13_analysis.ipynb Cell 27\u001b[0m in \u001b[0;36m<cell line: 1>\u001b[1;34m()\u001b[0m\n\u001b[0;32m      <a href='vscode-notebook-cell:/c%3A/Users/Lab/Documents/EUGENe/tests/notebooks/workflow/ray13_analysis.ipynb#X64sZmlsZQ%3D%3D?line=0'>1</a>\u001b[0m \u001b[39mfor\u001b[39;00m model \u001b[39min\u001b[39;00m models_obj:\n\u001b[0;32m      <a href='vscode-notebook-cell:/c%3A/Users/Lab/Documents/EUGENe/tests/notebooks/workflow/ray13_analysis.ipynb#X64sZmlsZQ%3D%3D?line=1'>2</a>\u001b[0m     \u001b[39mprint\u001b[39m(models_obj[model])\n\u001b[1;32m----> <a href='vscode-notebook-cell:/c%3A/Users/Lab/Documents/EUGENe/tests/notebooks/workflow/ray13_analysis.ipynb#X64sZmlsZQ%3D%3D?line=2'>3</a>\u001b[0m     eu\u001b[39m.\u001b[39;49mtrain\u001b[39m.\u001b[39;49mfit(\n\u001b[0;32m      <a href='vscode-notebook-cell:/c%3A/Users/Lab/Documents/EUGENe/tests/notebooks/workflow/ray13_analysis.ipynb#X64sZmlsZQ%3D%3D?line=3'>4</a>\u001b[0m         model\u001b[39m=\u001b[39;49mmodels_obj[model],\n\u001b[0;32m      <a href='vscode-notebook-cell:/c%3A/Users/Lab/Documents/EUGENe/tests/notebooks/workflow/ray13_analysis.ipynb#X64sZmlsZQ%3D%3D?line=4'>5</a>\u001b[0m         sdata\u001b[39m=\u001b[39;49msdata,\n\u001b[0;32m      <a href='vscode-notebook-cell:/c%3A/Users/Lab/Documents/EUGENe/tests/notebooks/workflow/ray13_analysis.ipynb#X64sZmlsZQ%3D%3D?line=5'>6</a>\u001b[0m         gpus\u001b[39m=\u001b[39;49m\u001b[39m1\u001b[39;49m,\n\u001b[0;32m      <a href='vscode-notebook-cell:/c%3A/Users/Lab/Documents/EUGENe/tests/notebooks/workflow/ray13_analysis.ipynb#X64sZmlsZQ%3D%3D?line=6'>7</a>\u001b[0m         target\u001b[39m=\u001b[39;49mtarget_list[\u001b[39miter\u001b[39;49m],\n\u001b[0;32m      <a href='vscode-notebook-cell:/c%3A/Users/Lab/Documents/EUGENe/tests/notebooks/workflow/ray13_analysis.ipynb#X64sZmlsZQ%3D%3D?line=7'>8</a>\u001b[0m         train_key\u001b[39m=\u001b[39;49m\u001b[39m\"\u001b[39;49m\u001b[39mtrain\u001b[39;49m\u001b[39m\"\u001b[39;49m,\n\u001b[0;32m      <a href='vscode-notebook-cell:/c%3A/Users/Lab/Documents/EUGENe/tests/notebooks/workflow/ray13_analysis.ipynb#X64sZmlsZQ%3D%3D?line=8'>9</a>\u001b[0m         epochs\u001b[39m=\u001b[39;49m\u001b[39m10\u001b[39;49m\n\u001b[0;32m     <a href='vscode-notebook-cell:/c%3A/Users/Lab/Documents/EUGENe/tests/notebooks/workflow/ray13_analysis.ipynb#X64sZmlsZQ%3D%3D?line=9'>10</a>\u001b[0m     )\n",
      "File \u001b[1;32mc:\\users\\lab\\documents\\eugene\\eugene\\train\\_fit.py:102\u001b[0m, in \u001b[0;36mfit\u001b[1;34m(model, sdata, target, train_key, epochs, gpus, batch_size, num_workers, log_dir, name, version, train_dataset, val_dataset, seq_transforms, transform_kwargs, early_stopping_callback, early_stopping_metric, early_stopping_patience, **kwargs)\u001b[0m\n\u001b[0;32m     98\u001b[0m     callbacks\u001b[39m.\u001b[39mappend(LearningRateMonitor())\n\u001b[0;32m     99\u001b[0m trainer \u001b[39m=\u001b[39m Trainer(\n\u001b[0;32m    100\u001b[0m     max_epochs\u001b[39m=\u001b[39mepochs, logger\u001b[39m=\u001b[39mlogger, gpus\u001b[39m=\u001b[39mgpus, callbacks\u001b[39m=\u001b[39mcallbacks, \u001b[39m*\u001b[39m\u001b[39m*\u001b[39mkwargs\n\u001b[0;32m    101\u001b[0m )\n\u001b[1;32m--> 102\u001b[0m trainer\u001b[39m.\u001b[39;49mfit(\n\u001b[0;32m    103\u001b[0m     model, train_dataloaders\u001b[39m=\u001b[39;49mtrain_dataloader, val_dataloaders\u001b[39m=\u001b[39;49mval_dataloader\n\u001b[0;32m    104\u001b[0m )\n",
      "File \u001b[1;32mc:\\Users\\Lab\\anaconda3\\lib\\site-packages\\pytorch_lightning\\trainer\\trainer.py:740\u001b[0m, in \u001b[0;36mTrainer.fit\u001b[1;34m(self, model, train_dataloaders, val_dataloaders, datamodule, train_dataloader, ckpt_path)\u001b[0m\n\u001b[0;32m    735\u001b[0m     rank_zero_deprecation(\n\u001b[0;32m    736\u001b[0m         \u001b[39m\"\u001b[39m\u001b[39m`trainer.fit(train_dataloader)` is deprecated in v1.4 and will be removed in v1.6.\u001b[39m\u001b[39m\"\u001b[39m\n\u001b[0;32m    737\u001b[0m         \u001b[39m\"\u001b[39m\u001b[39m Use `trainer.fit(train_dataloaders)` instead. HINT: added \u001b[39m\u001b[39m'\u001b[39m\u001b[39ms\u001b[39m\u001b[39m'\u001b[39m\u001b[39m\"\u001b[39m\n\u001b[0;32m    738\u001b[0m     )\n\u001b[0;32m    739\u001b[0m     train_dataloaders \u001b[39m=\u001b[39m train_dataloader\n\u001b[1;32m--> 740\u001b[0m \u001b[39mself\u001b[39;49m\u001b[39m.\u001b[39;49m_call_and_handle_interrupt(\n\u001b[0;32m    741\u001b[0m     \u001b[39mself\u001b[39;49m\u001b[39m.\u001b[39;49m_fit_impl, model, train_dataloaders, val_dataloaders, datamodule, ckpt_path\n\u001b[0;32m    742\u001b[0m )\n",
      "File \u001b[1;32mc:\\Users\\Lab\\anaconda3\\lib\\site-packages\\pytorch_lightning\\trainer\\trainer.py:685\u001b[0m, in \u001b[0;36mTrainer._call_and_handle_interrupt\u001b[1;34m(self, trainer_fn, *args, **kwargs)\u001b[0m\n\u001b[0;32m    675\u001b[0m \u001b[39mr\u001b[39m\u001b[39m\"\"\"\u001b[39;00m\n\u001b[0;32m    676\u001b[0m \u001b[39mError handling, intended to be used only for main trainer function entry points (fit, validate, test, predict)\u001b[39;00m\n\u001b[0;32m    677\u001b[0m \u001b[39mas all errors should funnel through them\u001b[39;00m\n\u001b[1;32m   (...)\u001b[0m\n\u001b[0;32m    682\u001b[0m \u001b[39m    **kwargs: keyword arguments to be passed to `trainer_fn`\u001b[39;00m\n\u001b[0;32m    683\u001b[0m \u001b[39m\"\"\"\u001b[39;00m\n\u001b[0;32m    684\u001b[0m \u001b[39mtry\u001b[39;00m:\n\u001b[1;32m--> 685\u001b[0m     \u001b[39mreturn\u001b[39;00m trainer_fn(\u001b[39m*\u001b[39margs, \u001b[39m*\u001b[39m\u001b[39m*\u001b[39mkwargs)\n\u001b[0;32m    686\u001b[0m \u001b[39m# TODO: treat KeyboardInterrupt as BaseException (delete the code below) in v1.7\u001b[39;00m\n\u001b[0;32m    687\u001b[0m \u001b[39mexcept\u001b[39;00m \u001b[39mKeyboardInterrupt\u001b[39;00m \u001b[39mas\u001b[39;00m exception:\n",
      "File \u001b[1;32mc:\\Users\\Lab\\anaconda3\\lib\\site-packages\\pytorch_lightning\\trainer\\trainer.py:777\u001b[0m, in \u001b[0;36mTrainer._fit_impl\u001b[1;34m(self, model, train_dataloaders, val_dataloaders, datamodule, ckpt_path)\u001b[0m\n\u001b[0;32m    775\u001b[0m \u001b[39m# TODO: ckpt_path only in v1.7\u001b[39;00m\n\u001b[0;32m    776\u001b[0m ckpt_path \u001b[39m=\u001b[39m ckpt_path \u001b[39mor\u001b[39;00m \u001b[39mself\u001b[39m\u001b[39m.\u001b[39mresume_from_checkpoint\n\u001b[1;32m--> 777\u001b[0m \u001b[39mself\u001b[39;49m\u001b[39m.\u001b[39;49m_run(model, ckpt_path\u001b[39m=\u001b[39;49mckpt_path)\n\u001b[0;32m    779\u001b[0m \u001b[39massert\u001b[39;00m \u001b[39mself\u001b[39m\u001b[39m.\u001b[39mstate\u001b[39m.\u001b[39mstopped\n\u001b[0;32m    780\u001b[0m \u001b[39mself\u001b[39m\u001b[39m.\u001b[39mtraining \u001b[39m=\u001b[39m \u001b[39mFalse\u001b[39;00m\n",
      "File \u001b[1;32mc:\\Users\\Lab\\anaconda3\\lib\\site-packages\\pytorch_lightning\\trainer\\trainer.py:1199\u001b[0m, in \u001b[0;36mTrainer._run\u001b[1;34m(self, model, ckpt_path)\u001b[0m\n\u001b[0;32m   1196\u001b[0m \u001b[39mself\u001b[39m\u001b[39m.\u001b[39mcheckpoint_connector\u001b[39m.\u001b[39mresume_end()\n\u001b[0;32m   1198\u001b[0m \u001b[39m# dispatch `start_training` or `start_evaluating` or `start_predicting`\u001b[39;00m\n\u001b[1;32m-> 1199\u001b[0m \u001b[39mself\u001b[39;49m\u001b[39m.\u001b[39;49m_dispatch()\n\u001b[0;32m   1201\u001b[0m \u001b[39m# plugin will finalized fitting (e.g. ddp_spawn will load trained model)\u001b[39;00m\n\u001b[0;32m   1202\u001b[0m \u001b[39mself\u001b[39m\u001b[39m.\u001b[39m_post_dispatch()\n",
      "File \u001b[1;32mc:\\Users\\Lab\\anaconda3\\lib\\site-packages\\pytorch_lightning\\trainer\\trainer.py:1279\u001b[0m, in \u001b[0;36mTrainer._dispatch\u001b[1;34m(self)\u001b[0m\n\u001b[0;32m   1277\u001b[0m     \u001b[39mself\u001b[39m\u001b[39m.\u001b[39mtraining_type_plugin\u001b[39m.\u001b[39mstart_predicting(\u001b[39mself\u001b[39m)\n\u001b[0;32m   1278\u001b[0m \u001b[39melse\u001b[39;00m:\n\u001b[1;32m-> 1279\u001b[0m     \u001b[39mself\u001b[39;49m\u001b[39m.\u001b[39;49mtraining_type_plugin\u001b[39m.\u001b[39;49mstart_training(\u001b[39mself\u001b[39;49m)\n",
      "File \u001b[1;32mc:\\Users\\Lab\\anaconda3\\lib\\site-packages\\pytorch_lightning\\plugins\\training_type\\training_type_plugin.py:202\u001b[0m, in \u001b[0;36mTrainingTypePlugin.start_training\u001b[1;34m(self, trainer)\u001b[0m\n\u001b[0;32m    200\u001b[0m \u001b[39mdef\u001b[39;00m \u001b[39mstart_training\u001b[39m(\u001b[39mself\u001b[39m, trainer: \u001b[39m\"\u001b[39m\u001b[39mpl.Trainer\u001b[39m\u001b[39m\"\u001b[39m) \u001b[39m-\u001b[39m\u001b[39m>\u001b[39m \u001b[39mNone\u001b[39;00m:\n\u001b[0;32m    201\u001b[0m     \u001b[39m# double dispatch to initiate the training loop\u001b[39;00m\n\u001b[1;32m--> 202\u001b[0m     \u001b[39mself\u001b[39m\u001b[39m.\u001b[39m_results \u001b[39m=\u001b[39m trainer\u001b[39m.\u001b[39;49mrun_stage()\n",
      "File \u001b[1;32mc:\\Users\\Lab\\anaconda3\\lib\\site-packages\\pytorch_lightning\\trainer\\trainer.py:1289\u001b[0m, in \u001b[0;36mTrainer.run_stage\u001b[1;34m(self)\u001b[0m\n\u001b[0;32m   1287\u001b[0m \u001b[39mif\u001b[39;00m \u001b[39mself\u001b[39m\u001b[39m.\u001b[39mpredicting:\n\u001b[0;32m   1288\u001b[0m     \u001b[39mreturn\u001b[39;00m \u001b[39mself\u001b[39m\u001b[39m.\u001b[39m_run_predict()\n\u001b[1;32m-> 1289\u001b[0m \u001b[39mreturn\u001b[39;00m \u001b[39mself\u001b[39;49m\u001b[39m.\u001b[39;49m_run_train()\n",
      "File \u001b[1;32mc:\\Users\\Lab\\anaconda3\\lib\\site-packages\\pytorch_lightning\\trainer\\trainer.py:1319\u001b[0m, in \u001b[0;36mTrainer._run_train\u001b[1;34m(self)\u001b[0m\n\u001b[0;32m   1317\u001b[0m \u001b[39mself\u001b[39m\u001b[39m.\u001b[39mfit_loop\u001b[39m.\u001b[39mtrainer \u001b[39m=\u001b[39m \u001b[39mself\u001b[39m\n\u001b[0;32m   1318\u001b[0m \u001b[39mwith\u001b[39;00m torch\u001b[39m.\u001b[39mautograd\u001b[39m.\u001b[39mset_detect_anomaly(\u001b[39mself\u001b[39m\u001b[39m.\u001b[39m_detect_anomaly):\n\u001b[1;32m-> 1319\u001b[0m     \u001b[39mself\u001b[39;49m\u001b[39m.\u001b[39;49mfit_loop\u001b[39m.\u001b[39;49mrun()\n",
      "File \u001b[1;32mc:\\Users\\Lab\\anaconda3\\lib\\site-packages\\pytorch_lightning\\loops\\base.py:145\u001b[0m, in \u001b[0;36mLoop.run\u001b[1;34m(self, *args, **kwargs)\u001b[0m\n\u001b[0;32m    143\u001b[0m \u001b[39mtry\u001b[39;00m:\n\u001b[0;32m    144\u001b[0m     \u001b[39mself\u001b[39m\u001b[39m.\u001b[39mon_advance_start(\u001b[39m*\u001b[39margs, \u001b[39m*\u001b[39m\u001b[39m*\u001b[39mkwargs)\n\u001b[1;32m--> 145\u001b[0m     \u001b[39mself\u001b[39m\u001b[39m.\u001b[39madvance(\u001b[39m*\u001b[39margs, \u001b[39m*\u001b[39m\u001b[39m*\u001b[39mkwargs)\n\u001b[0;32m    146\u001b[0m     \u001b[39mself\u001b[39m\u001b[39m.\u001b[39mon_advance_end()\n\u001b[0;32m    147\u001b[0m     \u001b[39mself\u001b[39m\u001b[39m.\u001b[39mrestarting \u001b[39m=\u001b[39m \u001b[39mFalse\u001b[39;00m\n",
      "File \u001b[1;32mc:\\Users\\Lab\\anaconda3\\lib\\site-packages\\pytorch_lightning\\loops\\fit_loop.py:234\u001b[0m, in \u001b[0;36mFitLoop.advance\u001b[1;34m(self)\u001b[0m\n\u001b[0;32m    231\u001b[0m data_fetcher \u001b[39m=\u001b[39m \u001b[39mself\u001b[39m\u001b[39m.\u001b[39mtrainer\u001b[39m.\u001b[39m_data_connector\u001b[39m.\u001b[39mget_profiled_dataloader(dataloader)\n\u001b[0;32m    233\u001b[0m \u001b[39mwith\u001b[39;00m \u001b[39mself\u001b[39m\u001b[39m.\u001b[39mtrainer\u001b[39m.\u001b[39mprofiler\u001b[39m.\u001b[39mprofile(\u001b[39m\"\u001b[39m\u001b[39mrun_training_epoch\u001b[39m\u001b[39m\"\u001b[39m):\n\u001b[1;32m--> 234\u001b[0m     \u001b[39mself\u001b[39;49m\u001b[39m.\u001b[39;49mepoch_loop\u001b[39m.\u001b[39;49mrun(data_fetcher)\n\u001b[0;32m    236\u001b[0m     \u001b[39m# the global step is manually decreased here due to backwards compatibility with existing loggers\u001b[39;00m\n\u001b[0;32m    237\u001b[0m     \u001b[39m# as they expect that the same step is used when logging epoch end metrics even when the batch loop has\u001b[39;00m\n\u001b[0;32m    238\u001b[0m     \u001b[39m# finished. this means the attribute does not exactly track the number of optimizer steps applied.\u001b[39;00m\n\u001b[0;32m    239\u001b[0m     \u001b[39m# TODO(@carmocca): deprecate and rename so users don't get confused\u001b[39;00m\n\u001b[0;32m    240\u001b[0m     \u001b[39mself\u001b[39m\u001b[39m.\u001b[39mglobal_step \u001b[39m-\u001b[39m\u001b[39m=\u001b[39m \u001b[39m1\u001b[39m\n",
      "File \u001b[1;32mc:\\Users\\Lab\\anaconda3\\lib\\site-packages\\pytorch_lightning\\loops\\base.py:140\u001b[0m, in \u001b[0;36mLoop.run\u001b[1;34m(self, *args, **kwargs)\u001b[0m\n\u001b[0;32m    136\u001b[0m     \u001b[39mreturn\u001b[39;00m \u001b[39mself\u001b[39m\u001b[39m.\u001b[39mon_skip()\n\u001b[0;32m    138\u001b[0m \u001b[39mself\u001b[39m\u001b[39m.\u001b[39mreset()\n\u001b[1;32m--> 140\u001b[0m \u001b[39mself\u001b[39m\u001b[39m.\u001b[39mon_run_start(\u001b[39m*\u001b[39margs, \u001b[39m*\u001b[39m\u001b[39m*\u001b[39mkwargs)\n\u001b[0;32m    142\u001b[0m \u001b[39mwhile\u001b[39;00m \u001b[39mnot\u001b[39;00m \u001b[39mself\u001b[39m\u001b[39m.\u001b[39mdone:\n\u001b[0;32m    143\u001b[0m     \u001b[39mtry\u001b[39;00m:\n",
      "File \u001b[1;32mc:\\Users\\Lab\\anaconda3\\lib\\site-packages\\pytorch_lightning\\loops\\epoch\\training_epoch_loop.py:141\u001b[0m, in \u001b[0;36mTrainingEpochLoop.on_run_start\u001b[1;34m(self, data_fetcher, **kwargs)\u001b[0m\n\u001b[0;32m    138\u001b[0m \u001b[39mself\u001b[39m\u001b[39m.\u001b[39mtrainer\u001b[39m.\u001b[39mfit_loop\u001b[39m.\u001b[39mepoch_progress\u001b[39m.\u001b[39mincrement_started()\n\u001b[0;32m    140\u001b[0m \u001b[39mself\u001b[39m\u001b[39m.\u001b[39m_reload_dataloader_state_dict(data_fetcher)\n\u001b[1;32m--> 141\u001b[0m \u001b[39mself\u001b[39m\u001b[39m.\u001b[39m_dataloader_iter \u001b[39m=\u001b[39m _update_dataloader_iter(data_fetcher, \u001b[39mself\u001b[39;49m\u001b[39m.\u001b[39;49mbatch_idx \u001b[39m+\u001b[39;49m \u001b[39m1\u001b[39;49m)\n",
      "File \u001b[1;32mc:\\Users\\Lab\\anaconda3\\lib\\site-packages\\pytorch_lightning\\loops\\utilities.py:121\u001b[0m, in \u001b[0;36m_update_dataloader_iter\u001b[1;34m(data_fetcher, batch_idx)\u001b[0m\n\u001b[0;32m    118\u001b[0m \u001b[39m\"\"\"Attach the dataloader.\"\"\"\u001b[39;00m\n\u001b[0;32m    119\u001b[0m \u001b[39mif\u001b[39;00m \u001b[39mnot\u001b[39;00m \u001b[39misinstance\u001b[39m(data_fetcher, DataLoaderIterDataFetcher):\n\u001b[0;32m    120\u001b[0m     \u001b[39m# restore iteration\u001b[39;00m\n\u001b[1;32m--> 121\u001b[0m     dataloader_iter \u001b[39m=\u001b[39m \u001b[39menumerate\u001b[39;49m(data_fetcher, batch_idx)\n\u001b[0;32m    122\u001b[0m \u001b[39melse\u001b[39;00m:\n\u001b[0;32m    123\u001b[0m     dataloader_iter \u001b[39m=\u001b[39m \u001b[39miter\u001b[39m(data_fetcher)\n",
      "File \u001b[1;32mc:\\Users\\Lab\\anaconda3\\lib\\site-packages\\pytorch_lightning\\utilities\\fetching.py:198\u001b[0m, in \u001b[0;36mAbstractDataFetcher.__iter__\u001b[1;34m(self)\u001b[0m\n\u001b[0;32m    196\u001b[0m \u001b[39mself\u001b[39m\u001b[39m.\u001b[39mreset()\n\u001b[0;32m    197\u001b[0m \u001b[39mself\u001b[39m\u001b[39m.\u001b[39mdataloader_iter \u001b[39m=\u001b[39m \u001b[39miter\u001b[39m(\u001b[39mself\u001b[39m\u001b[39m.\u001b[39mdataloader)\n\u001b[1;32m--> 198\u001b[0m \u001b[39mself\u001b[39;49m\u001b[39m.\u001b[39;49m_apply_patch()\n\u001b[0;32m    199\u001b[0m \u001b[39mself\u001b[39m\u001b[39m.\u001b[39mprefetching(\u001b[39mself\u001b[39m\u001b[39m.\u001b[39mprefetch_batches)\n\u001b[0;32m    200\u001b[0m \u001b[39mreturn\u001b[39;00m \u001b[39mself\u001b[39m\n",
      "File \u001b[1;32mc:\\Users\\Lab\\anaconda3\\lib\\site-packages\\pytorch_lightning\\utilities\\fetching.py:133\u001b[0m, in \u001b[0;36mAbstractDataFetcher._apply_patch\u001b[1;34m(self)\u001b[0m\n\u001b[0;32m    130\u001b[0m         loader\u001b[39m.\u001b[39m_lightning_fetcher \u001b[39m=\u001b[39m \u001b[39mself\u001b[39m\n\u001b[0;32m    131\u001b[0m         patch_dataloader_iterator(loader, iterator, \u001b[39mself\u001b[39m)\n\u001b[1;32m--> 133\u001b[0m apply_to_collections(\u001b[39mself\u001b[39m\u001b[39m.\u001b[39mloaders, \u001b[39mself\u001b[39;49m\u001b[39m.\u001b[39;49mloader_iters, (Iterator, DataLoader), _apply_patch_fn)\n",
      "File \u001b[1;32mc:\\Users\\Lab\\anaconda3\\lib\\site-packages\\pytorch_lightning\\utilities\\fetching.py:181\u001b[0m, in \u001b[0;36mAbstractDataFetcher.loader_iters\u001b[1;34m(self)\u001b[0m\n\u001b[0;32m    178\u001b[0m     \u001b[39mraise\u001b[39;00m MisconfigurationException(\u001b[39m\"\u001b[39m\u001b[39mThe `dataloader_iter` isn\u001b[39m\u001b[39m'\u001b[39m\u001b[39mt available outside the __iter__ context.\u001b[39m\u001b[39m\"\u001b[39m)\n\u001b[0;32m    180\u001b[0m \u001b[39mif\u001b[39;00m \u001b[39misinstance\u001b[39m(\u001b[39mself\u001b[39m\u001b[39m.\u001b[39mdataloader, CombinedLoader):\n\u001b[1;32m--> 181\u001b[0m     loader_iters \u001b[39m=\u001b[39m \u001b[39mself\u001b[39;49m\u001b[39m.\u001b[39;49mdataloader_iter\u001b[39m.\u001b[39;49mloader_iters\n\u001b[0;32m    182\u001b[0m \u001b[39melse\u001b[39;00m:\n\u001b[0;32m    183\u001b[0m     loader_iters \u001b[39m=\u001b[39m [\u001b[39mself\u001b[39m\u001b[39m.\u001b[39mdataloader_iter]\n",
      "File \u001b[1;32mc:\\Users\\Lab\\anaconda3\\lib\\site-packages\\pytorch_lightning\\trainer\\supporters.py:537\u001b[0m, in \u001b[0;36mCombinedLoaderIterator.loader_iters\u001b[1;34m(self)\u001b[0m\n\u001b[0;32m    535\u001b[0m \u001b[39m\"\"\"Get the `_loader_iters` and create one if it is None.\"\"\"\u001b[39;00m\n\u001b[0;32m    536\u001b[0m \u001b[39mif\u001b[39;00m \u001b[39mself\u001b[39m\u001b[39m.\u001b[39m_loader_iters \u001b[39mis\u001b[39;00m \u001b[39mNone\u001b[39;00m:\n\u001b[1;32m--> 537\u001b[0m     \u001b[39mself\u001b[39m\u001b[39m.\u001b[39m_loader_iters \u001b[39m=\u001b[39m \u001b[39mself\u001b[39;49m\u001b[39m.\u001b[39;49mcreate_loader_iters(\u001b[39mself\u001b[39;49m\u001b[39m.\u001b[39;49mloaders)\n\u001b[0;32m    539\u001b[0m \u001b[39mreturn\u001b[39;00m \u001b[39mself\u001b[39m\u001b[39m.\u001b[39m_loader_iters\n",
      "File \u001b[1;32mc:\\Users\\Lab\\anaconda3\\lib\\site-packages\\pytorch_lightning\\trainer\\supporters.py:577\u001b[0m, in \u001b[0;36mCombinedLoaderIterator.create_loader_iters\u001b[1;34m(loaders)\u001b[0m\n\u001b[0;32m    568\u001b[0m \u001b[39m\"\"\"Create and return a collection of iterators from loaders.\u001b[39;00m\n\u001b[0;32m    569\u001b[0m \n\u001b[0;32m    570\u001b[0m \u001b[39mArgs:\u001b[39;00m\n\u001b[1;32m   (...)\u001b[0m\n\u001b[0;32m    574\u001b[0m \u001b[39m    a collections of iterators\u001b[39;00m\n\u001b[0;32m    575\u001b[0m \u001b[39m\"\"\"\u001b[39;00m\n\u001b[0;32m    576\u001b[0m \u001b[39m# dataloaders are Iterable but not Sequences. Need this to specifically exclude sequences\u001b[39;00m\n\u001b[1;32m--> 577\u001b[0m \u001b[39mreturn\u001b[39;00m apply_to_collection(loaders, Iterable, \u001b[39miter\u001b[39;49m, wrong_dtype\u001b[39m=\u001b[39;49m(Sequence, Mapping))\n",
      "File \u001b[1;32mc:\\Users\\Lab\\anaconda3\\lib\\site-packages\\pytorch_lightning\\utilities\\apply_func.py:96\u001b[0m, in \u001b[0;36mapply_to_collection\u001b[1;34m(data, dtype, function, wrong_dtype, include_none, *args, **kwargs)\u001b[0m\n\u001b[0;32m     94\u001b[0m \u001b[39m# Breaking condition\u001b[39;00m\n\u001b[0;32m     95\u001b[0m \u001b[39mif\u001b[39;00m \u001b[39misinstance\u001b[39m(data, dtype) \u001b[39mand\u001b[39;00m (wrong_dtype \u001b[39mis\u001b[39;00m \u001b[39mNone\u001b[39;00m \u001b[39mor\u001b[39;00m \u001b[39mnot\u001b[39;00m \u001b[39misinstance\u001b[39m(data, wrong_dtype)):\n\u001b[1;32m---> 96\u001b[0m     \u001b[39mreturn\u001b[39;00m function(data, \u001b[39m*\u001b[39margs, \u001b[39m*\u001b[39m\u001b[39m*\u001b[39mkwargs)\n\u001b[0;32m     98\u001b[0m elem_type \u001b[39m=\u001b[39m \u001b[39mtype\u001b[39m(data)\n\u001b[0;32m    100\u001b[0m \u001b[39m# Recursively apply to collection items\u001b[39;00m\n",
      "File \u001b[1;32mc:\\Users\\Lab\\anaconda3\\lib\\site-packages\\torch\\utils\\data\\dataloader.py:368\u001b[0m, in \u001b[0;36mDataLoader.__iter__\u001b[1;34m(self)\u001b[0m\n\u001b[0;32m    366\u001b[0m     \u001b[39mreturn\u001b[39;00m \u001b[39mself\u001b[39m\u001b[39m.\u001b[39m_iterator\n\u001b[0;32m    367\u001b[0m \u001b[39melse\u001b[39;00m:\n\u001b[1;32m--> 368\u001b[0m     \u001b[39mreturn\u001b[39;00m \u001b[39mself\u001b[39;49m\u001b[39m.\u001b[39;49m_get_iterator()\n",
      "File \u001b[1;32mc:\\Users\\Lab\\anaconda3\\lib\\site-packages\\torch\\utils\\data\\dataloader.py:314\u001b[0m, in \u001b[0;36mDataLoader._get_iterator\u001b[1;34m(self)\u001b[0m\n\u001b[0;32m    312\u001b[0m \u001b[39melse\u001b[39;00m:\n\u001b[0;32m    313\u001b[0m     \u001b[39mself\u001b[39m\u001b[39m.\u001b[39mcheck_worker_number_rationality()\n\u001b[1;32m--> 314\u001b[0m     \u001b[39mreturn\u001b[39;00m _MultiProcessingDataLoaderIter(\u001b[39mself\u001b[39;49m)\n",
      "File \u001b[1;32mc:\\Users\\Lab\\anaconda3\\lib\\site-packages\\torch\\utils\\data\\dataloader.py:927\u001b[0m, in \u001b[0;36m_MultiProcessingDataLoaderIter.__init__\u001b[1;34m(self, loader)\u001b[0m\n\u001b[0;32m    920\u001b[0m w\u001b[39m.\u001b[39mdaemon \u001b[39m=\u001b[39m \u001b[39mTrue\u001b[39;00m\n\u001b[0;32m    921\u001b[0m \u001b[39m# NB: Process.start() actually take some time as it needs to\u001b[39;00m\n\u001b[0;32m    922\u001b[0m \u001b[39m#     start a process and pass the arguments over via a pipe.\u001b[39;00m\n\u001b[0;32m    923\u001b[0m \u001b[39m#     Therefore, we only add a worker to self._workers list after\u001b[39;00m\n\u001b[0;32m    924\u001b[0m \u001b[39m#     it started, so that we do not call .join() if program dies\u001b[39;00m\n\u001b[0;32m    925\u001b[0m \u001b[39m#     before it starts, and __del__ tries to join but will get:\u001b[39;00m\n\u001b[0;32m    926\u001b[0m \u001b[39m#     AssertionError: can only join a started process.\u001b[39;00m\n\u001b[1;32m--> 927\u001b[0m w\u001b[39m.\u001b[39;49mstart()\n\u001b[0;32m    928\u001b[0m \u001b[39mself\u001b[39m\u001b[39m.\u001b[39m_index_queues\u001b[39m.\u001b[39mappend(index_queue)\n\u001b[0;32m    929\u001b[0m \u001b[39mself\u001b[39m\u001b[39m.\u001b[39m_workers\u001b[39m.\u001b[39mappend(w)\n",
      "File \u001b[1;32mc:\\Users\\Lab\\anaconda3\\lib\\multiprocessing\\process.py:121\u001b[0m, in \u001b[0;36mBaseProcess.start\u001b[1;34m(self)\u001b[0m\n\u001b[0;32m    118\u001b[0m \u001b[39massert\u001b[39;00m \u001b[39mnot\u001b[39;00m _current_process\u001b[39m.\u001b[39m_config\u001b[39m.\u001b[39mget(\u001b[39m'\u001b[39m\u001b[39mdaemon\u001b[39m\u001b[39m'\u001b[39m), \\\n\u001b[0;32m    119\u001b[0m        \u001b[39m'\u001b[39m\u001b[39mdaemonic processes are not allowed to have children\u001b[39m\u001b[39m'\u001b[39m\n\u001b[0;32m    120\u001b[0m _cleanup()\n\u001b[1;32m--> 121\u001b[0m \u001b[39mself\u001b[39m\u001b[39m.\u001b[39m_popen \u001b[39m=\u001b[39m \u001b[39mself\u001b[39;49m\u001b[39m.\u001b[39;49m_Popen(\u001b[39mself\u001b[39;49m)\n\u001b[0;32m    122\u001b[0m \u001b[39mself\u001b[39m\u001b[39m.\u001b[39m_sentinel \u001b[39m=\u001b[39m \u001b[39mself\u001b[39m\u001b[39m.\u001b[39m_popen\u001b[39m.\u001b[39msentinel\n\u001b[0;32m    123\u001b[0m \u001b[39m# Avoid a refcycle if the target function holds an indirect\u001b[39;00m\n\u001b[0;32m    124\u001b[0m \u001b[39m# reference to the process object (see bpo-30775)\u001b[39;00m\n",
      "File \u001b[1;32mc:\\Users\\Lab\\anaconda3\\lib\\multiprocessing\\context.py:224\u001b[0m, in \u001b[0;36mProcess._Popen\u001b[1;34m(process_obj)\u001b[0m\n\u001b[0;32m    222\u001b[0m \u001b[39m@staticmethod\u001b[39m\n\u001b[0;32m    223\u001b[0m \u001b[39mdef\u001b[39;00m \u001b[39m_Popen\u001b[39m(process_obj):\n\u001b[1;32m--> 224\u001b[0m     \u001b[39mreturn\u001b[39;00m _default_context\u001b[39m.\u001b[39;49mget_context()\u001b[39m.\u001b[39;49mProcess\u001b[39m.\u001b[39;49m_Popen(process_obj)\n",
      "File \u001b[1;32mc:\\Users\\Lab\\anaconda3\\lib\\multiprocessing\\context.py:327\u001b[0m, in \u001b[0;36mSpawnProcess._Popen\u001b[1;34m(process_obj)\u001b[0m\n\u001b[0;32m    324\u001b[0m \u001b[39m@staticmethod\u001b[39m\n\u001b[0;32m    325\u001b[0m \u001b[39mdef\u001b[39;00m \u001b[39m_Popen\u001b[39m(process_obj):\n\u001b[0;32m    326\u001b[0m     \u001b[39mfrom\u001b[39;00m \u001b[39m.\u001b[39;00m\u001b[39mpopen_spawn_win32\u001b[39;00m \u001b[39mimport\u001b[39;00m Popen\n\u001b[1;32m--> 327\u001b[0m     \u001b[39mreturn\u001b[39;00m Popen(process_obj)\n",
      "File \u001b[1;32mc:\\Users\\Lab\\anaconda3\\lib\\multiprocessing\\popen_spawn_win32.py:93\u001b[0m, in \u001b[0;36mPopen.__init__\u001b[1;34m(self, process_obj)\u001b[0m\n\u001b[0;32m     91\u001b[0m \u001b[39mtry\u001b[39;00m:\n\u001b[0;32m     92\u001b[0m     reduction\u001b[39m.\u001b[39mdump(prep_data, to_child)\n\u001b[1;32m---> 93\u001b[0m     reduction\u001b[39m.\u001b[39;49mdump(process_obj, to_child)\n\u001b[0;32m     94\u001b[0m \u001b[39mfinally\u001b[39;00m:\n\u001b[0;32m     95\u001b[0m     set_spawning_popen(\u001b[39mNone\u001b[39;00m)\n",
      "File \u001b[1;32mc:\\Users\\Lab\\anaconda3\\lib\\multiprocessing\\reduction.py:60\u001b[0m, in \u001b[0;36mdump\u001b[1;34m(obj, file, protocol)\u001b[0m\n\u001b[0;32m     58\u001b[0m \u001b[39mdef\u001b[39;00m \u001b[39mdump\u001b[39m(obj, file, protocol\u001b[39m=\u001b[39m\u001b[39mNone\u001b[39;00m):\n\u001b[0;32m     59\u001b[0m     \u001b[39m'''Replacement for pickle.dump() using ForkingPickler.'''\u001b[39;00m\n\u001b[1;32m---> 60\u001b[0m     ForkingPickler(file, protocol)\u001b[39m.\u001b[39;49mdump(obj)\n",
      "\u001b[1;31mOSError\u001b[0m: [Errno 22] Invalid argument"
     ]
    }
   ],
   "source": [
    "for model in models_obj:\n",
    "    print(models_obj[model])\n",
    "    eu.train.fit(\n",
    "        model=models_obj[model],\n",
    "        sdata=sdata,\n",
    "        gpus=1,\n",
    "        target=target_list[iter],\n",
    "        train_key=\"train\",\n",
    "        epochs=10,\n",
    "    )"
   ]
  },
  {
   "cell_type": "markdown",
   "metadata": {},
   "source": [
    "# Evaluation\n",
    "Evaluation allows users to see how well their models perform by making `predictions` and `plotting` the predicted vs. actual data.\n",
    "\n",
    "- First, the best performing model from training is loaded in.\n",
    "- Predictions are made using the `train_val_predictions` function, which outputs a table of predictions for both sets of data.\n",
    "- The data is then plotted to allow its performance to be visually inspected."
   ]
  },
  {
   "cell_type": "code",
   "execution_count": 1,
   "metadata": {},
   "outputs": [
    {
     "name": "stderr",
     "output_type": "stream",
     "text": [
      "Global seed set to 13\n"
     ]
    },
    {
     "name": "stdout",
     "output_type": "stream",
     "text": [
      "GPU is available: True\n",
      "Number of GPUs: 1\n",
      "Current GPU: 0\n",
      "GPUs: NVIDIA GeForce RTX 2070\n",
      "janggu does not work on this machine, are you using MacOS or Linux?\n",
      "janggu does not work on this machine, are you using MacOS or Linux?\n"
     ]
    }
   ],
   "source": [
    "if 'autoreload' not in get_ipython().extension_manager.loaded:\n",
    "    %load_ext autoreload \n",
    "%autoreload 2\n",
    "\n",
    "import numpy as np\n",
    "import pandas as pd\n",
    "import eugene as eu"
   ]
  },
  {
   "cell_type": "code",
   "execution_count": 2,
   "metadata": {},
   "outputs": [],
   "source": [
    "# Load preprocessed sdata\n",
    "sdata = eu.dl.read_h5sd(\"SD_RNAcomplete.h5\")"
   ]
  },
  {
   "cell_type": "code",
   "execution_count": 27,
   "metadata": {},
   "outputs": [],
   "source": [
    "model = eu.models.DeepBind.load_from_checkpoint(\"eugene_log/ssDeepBind_regression/version_4/checkpoints/epoch=6-step=1322.ckpt\")"
   ]
  },
  {
   "cell_type": "code",
   "execution_count": 18,
   "metadata": {},
   "outputs": [],
   "source": [
    "target_list = sdata.seqs_annot.columns.drop(\"train\").tolist()"
   ]
  },
  {
   "cell_type": "code",
   "execution_count": 28,
   "metadata": {},
   "outputs": [
    {
     "name": "stdout",
     "output_type": "stream",
     "text": [
      "No transforms given, assuming just need to tensorize).\n"
     ]
    },
    {
     "name": "stderr",
     "output_type": "stream",
     "text": [
      "GPU available: True, used: True\n",
      "TPU available: False, using: 0 TPU cores\n",
      "IPU available: False, using: 0 IPUs\n",
      "GPU available: True, used: True\n",
      "TPU available: False, using: 0 TPU cores\n",
      "IPU available: False, using: 0 IPUs\n",
      "LOCAL_RANK: 0 - CUDA_VISIBLE_DEVICES: [0]\n"
     ]
    },
    {
     "name": "stdout",
     "output_type": "stream",
     "text": [
      "No transforms given, assuming just need to tensorize).\n"
     ]
    },
    {
     "name": "stderr",
     "output_type": "stream",
     "text": [
      "c:\\Users\\Lab\\anaconda3\\lib\\site-packages\\pytorch_lightning\\trainer\\data_loading.py:132: UserWarning: The dataloader, predict_dataloader 0, does not have many workers which may be a bottleneck. Consider increasing the value of the `num_workers` argument` (try 8 which is the number of cpus on this machine) in the `DataLoader` init to improve performance.\n",
      "  rank_zero_warn(\n"
     ]
    },
    {
     "data": {
      "application/vnd.jupyter.widget-view+json": {
       "model_id": "f24899881c5949cd9b9fab7ec577b562",
       "version_major": 2,
       "version_minor": 0
      },
      "text/plain": [
       "Predicting: 0it [00:00, ?it/s]"
      ]
     },
     "metadata": {},
     "output_type": "display_data"
    },
    {
     "name": "stderr",
     "output_type": "stream",
     "text": [
      "LOCAL_RANK: 0 - CUDA_VISIBLE_DEVICES: [0]\n",
      "c:\\Users\\Lab\\anaconda3\\lib\\site-packages\\pytorch_lightning\\trainer\\data_loading.py:132: UserWarning: The dataloader, predict_dataloader 0, does not have many workers which may be a bottleneck. Consider increasing the value of the `num_workers` argument` (try 8 which is the number of cpus on this machine) in the `DataLoader` init to improve performance.\n",
      "  rank_zero_warn(\n"
     ]
    },
    {
     "data": {
      "application/vnd.jupyter.widget-view+json": {
       "model_id": "8805eeb80d0b49e8ab842e6feb1a662e",
       "version_major": 2,
       "version_minor": 0
      },
      "text/plain": [
       "Predicting: 0it [00:00, ?it/s]"
      ]
     },
     "metadata": {},
     "output_type": "display_data"
    }
   ],
   "source": [
    "eu.predict.train_val_predictions(\n",
    "    model,\n",
    "    sdata=sdata,\n",
    "    target=target_list[4],\n",
    "    train_key=\"train\"\n",
    ")"
   ]
  },
  {
   "cell_type": "code",
   "execution_count": 35,
   "metadata": {},
   "outputs": [
    {
     "data": {
      "image/png": "[encoded data removed]",
      "text/plain": [
       "<Figure size 288x288 with 1 Axes>"
      ]
     },
     "metadata": {
      "needs_background": "light"
     },
     "output_type": "display_data"
    }
   ],
   "source": [
    "train_idx = np.where(sdata.seqs_annot[\"train\"] == True)[0]\n",
    "prediction_target_list = [i + \"_predictions\" for i in target_list]\n",
    "num=4\n",
    "eu.pl.performance_scatter(\n",
    "    sdata, \n",
    "    seq_idx=train_idx, \n",
    "    targets=target_list[num], \n",
    "    predictions=prediction_target_list[num],\n",
    "    title=\"Training Set Performance\",\n",
    "    alpha=0.5,\n",
    ")"
   ]
  },
  {
   "cell_type": "code",
   "execution_count": 17,
   "metadata": {},
   "outputs": [],
   "source": [
    "eu.dl.write_h5sd(sdata, \"SD_predict_RNAcomplete.h5\")"
   ]
  },
  {
   "cell_type": "markdown",
   "metadata": {},
   "source": [
    "# Interpretation\n",
    "Potentially the most important step in the EUGENe workflow is the interpretation of the model's predictions. This is done through the `interpret` module. All the functions in this module act on either `SeqData` and Models or just Models. Results from these calls can be visualized using the `plotting` module.\n",
    "---\n",
    "There are many options for interpreting the model's predictions, and we will again point users to the API for all the options and their arguments. We list examples for a few common ones below.\n",
    "\n",
    "\n",
    "```python\n",
    "eu.interpret.generate_pfms(\n",
    "    best_model_leaf, \n",
    "    sdata_leaf_test\n",
    ")\n",
    "```"
   ]
  },
  {
   "cell_type": "markdown",
   "metadata": {},
   "source": [
    "## Feature attribution\n",
    "We can calculate the contribution of each nucleotide to the model's predictions for a sequence by using the `interpret` module's `feature_attribution` function. We currently implement several different methods for this, includeing `DeepLift, ISM, InputXGradient and DeepSHAP`.\n",
    "```python\n",
    "eu.interpret.feature_attribution(\n",
    "    best_model,\n",
    "    sdata_test,\n",
    "    saliency_method=\"DeepLift\",\n",
    "    device= \"cuda\" if eu.settings.gpus > 0 else \"cpu\"\n",
    ")\n",
    "```"
   ]
  },
  {
   "cell_type": "code",
   "execution_count": null,
   "metadata": {},
   "outputs": [
    {
     "name": "stdout",
     "output_type": "stream",
     "text": [
      "No transforms given, assuming just need to tensorize).\n"
     ]
    },
    {
     "data": {
      "application/vnd.jupyter.widget-view+json": {
       "model_id": "ffbc992cb8c942b99d8c903e7378519f",
       "version_major": 2,
       "version_minor": 0
      },
      "text/plain": [
       "Getting maximial activating seqlets:   0%|          | 0/1885 [00:00<?, ?it/s]"
      ]
     },
     "metadata": {},
     "output_type": "display_data"
    },
    {
     "data": {
      "application/vnd.jupyter.widget-view+json": {
       "model_id": "fd7ba172198941f78c0d70004202eac0",
       "version_major": 2,
       "version_minor": 0
      },
      "text/plain": [
       "Getting PFMs from filters:   0%|          | 0/64 [00:00<?, ?it/s]"
      ]
     },
     "metadata": {},
     "output_type": "display_data"
    }
   ],
   "source": [
    "eu.interpret.generate_pfms(\n",
    "    model,\n",
    "    sdata,\n",
    "    device=\"cpu\"\n",
    ")"
   ]
  },
  {
   "cell_type": "code",
   "execution_count": null,
   "metadata": {},
   "outputs": [
    {
     "data": {
      "text/html": [
       "<div>\n",
       "<style scoped>\n",
       "    .dataframe tbody tr th:only-of-type {\n",
       "        vertical-align: middle;\n",
       "    }\n",
       "\n",
       "    .dataframe tbody tr th {\n",
       "        vertical-align: top;\n",
       "    }\n",
       "\n",
       "    .dataframe thead th {\n",
       "        text-align: right;\n",
       "    }\n",
       "</style>\n",
       "<table border=\"1\" class=\"dataframe\">\n",
       "  <thead>\n",
       "    <tr style=\"text-align: right;\">\n",
       "      <th></th>\n",
       "      <th>A</th>\n",
       "      <th>C</th>\n",
       "      <th>G</th>\n",
       "      <th>T</th>\n",
       "    </tr>\n",
       "  </thead>\n",
       "  <tbody>\n",
       "    <tr>\n",
       "      <th>0</th>\n",
       "      <td>6490.0</td>\n",
       "      <td>4988.0</td>\n",
       "      <td>9176.0</td>\n",
       "      <td>4201.0</td>\n",
       "    </tr>\n",
       "    <tr>\n",
       "      <th>1</th>\n",
       "      <td>5057.0</td>\n",
       "      <td>5865.0</td>\n",
       "      <td>6517.0</td>\n",
       "      <td>7416.0</td>\n",
       "    </tr>\n",
       "    <tr>\n",
       "      <th>2</th>\n",
       "      <td>4209.0</td>\n",
       "      <td>6770.0</td>\n",
       "      <td>11394.0</td>\n",
       "      <td>2482.0</td>\n",
       "    </tr>\n",
       "    <tr>\n",
       "      <th>3</th>\n",
       "      <td>4403.0</td>\n",
       "      <td>6432.0</td>\n",
       "      <td>3800.0</td>\n",
       "      <td>10220.0</td>\n",
       "    </tr>\n",
       "    <tr>\n",
       "      <th>4</th>\n",
       "      <td>3564.0</td>\n",
       "      <td>9965.0</td>\n",
       "      <td>9149.0</td>\n",
       "      <td>2177.0</td>\n",
       "    </tr>\n",
       "    <tr>\n",
       "      <th>5</th>\n",
       "      <td>3909.0</td>\n",
       "      <td>6434.0</td>\n",
       "      <td>1325.0</td>\n",
       "      <td>13187.0</td>\n",
       "    </tr>\n",
       "    <tr>\n",
       "      <th>6</th>\n",
       "      <td>3777.0</td>\n",
       "      <td>6959.0</td>\n",
       "      <td>11760.0</td>\n",
       "      <td>2359.0</td>\n",
       "    </tr>\n",
       "    <tr>\n",
       "      <th>7</th>\n",
       "      <td>5468.0</td>\n",
       "      <td>5673.0</td>\n",
       "      <td>336.0</td>\n",
       "      <td>13378.0</td>\n",
       "    </tr>\n",
       "    <tr>\n",
       "      <th>8</th>\n",
       "      <td>5771.0</td>\n",
       "      <td>3424.0</td>\n",
       "      <td>15186.0</td>\n",
       "      <td>474.0</td>\n",
       "    </tr>\n",
       "    <tr>\n",
       "      <th>9</th>\n",
       "      <td>4421.0</td>\n",
       "      <td>101.0</td>\n",
       "      <td>17.0</td>\n",
       "      <td>20316.0</td>\n",
       "    </tr>\n",
       "    <tr>\n",
       "      <th>10</th>\n",
       "      <td>1417.0</td>\n",
       "      <td>1745.0</td>\n",
       "      <td>21681.0</td>\n",
       "      <td>12.0</td>\n",
       "    </tr>\n",
       "    <tr>\n",
       "      <th>11</th>\n",
       "      <td>3697.0</td>\n",
       "      <td>4631.0</td>\n",
       "      <td>272.0</td>\n",
       "      <td>16255.0</td>\n",
       "    </tr>\n",
       "    <tr>\n",
       "      <th>12</th>\n",
       "      <td>12750.0</td>\n",
       "      <td>642.0</td>\n",
       "      <td>9920.0</td>\n",
       "      <td>1543.0</td>\n",
       "    </tr>\n",
       "    <tr>\n",
       "      <th>13</th>\n",
       "      <td>6531.0</td>\n",
       "      <td>2067.0</td>\n",
       "      <td>7997.0</td>\n",
       "      <td>8260.0</td>\n",
       "    </tr>\n",
       "    <tr>\n",
       "      <th>14</th>\n",
       "      <td>7587.0</td>\n",
       "      <td>1932.0</td>\n",
       "      <td>11041.0</td>\n",
       "      <td>4295.0</td>\n",
       "    </tr>\n",
       "    <tr>\n",
       "      <th>15</th>\n",
       "      <td>7910.0</td>\n",
       "      <td>3203.0</td>\n",
       "      <td>8470.0</td>\n",
       "      <td>5272.0</td>\n",
       "    </tr>\n",
       "  </tbody>\n",
       "</table>\n",
       "</div>"
      ],
      "text/plain": [
       "          A       C        G        T\n",
       "0    6490.0  4988.0   9176.0   4201.0\n",
       "1    5057.0  5865.0   6517.0   7416.0\n",
       "2    4209.0  6770.0  11394.0   2482.0\n",
       "3    4403.0  6432.0   3800.0  10220.0\n",
       "4    3564.0  9965.0   9149.0   2177.0\n",
       "5    3909.0  6434.0   1325.0  13187.0\n",
       "6    3777.0  6959.0  11760.0   2359.0\n",
       "7    5468.0  5673.0    336.0  13378.0\n",
       "8    5771.0  3424.0  15186.0    474.0\n",
       "9    4421.0   101.0     17.0  20316.0\n",
       "10   1417.0  1745.0  21681.0     12.0\n",
       "11   3697.0  4631.0    272.0  16255.0\n",
       "12  12750.0   642.0   9920.0   1543.0\n",
       "13   6531.0  2067.0   7997.0   8260.0\n",
       "14   7587.0  1932.0  11041.0   4295.0\n",
       "15   7910.0  3203.0   8470.0   5272.0"
      ]
     },
     "execution_count": 19,
     "metadata": {},
     "output_type": "execute_result"
    }
   ],
   "source": [
    "sdata.uns[\"pfms\"][0]"
   ]
  },
  {
   "cell_type": "markdown",
   "metadata": {},
   "source": [
    "## Filter Visualization \n",
    "We can get an idea for what each filter of first convoulional layer of the model is seeing by using the `interpret` module's `generate_pfms` function. This creates a position frequency matrix for each filter in the model using sequences that highly activate that filter (can be defined in multiple ways). We often times pass the the test sequences through the model, but you can theoretically pass any sequences you want.\n",
    "```python\n",
    "eu.interpret.generate_pfms(\n",
    "    best_model, \n",
    "    sdata_test\n",
    ")\n",
    "```"
   ]
  },
  {
   "cell_type": "code",
   "execution_count": null,
   "metadata": {},
   "outputs": [],
   "source": [
    "# TODO: Run filter visualization on your model"
   ]
  },
  {
   "cell_type": "markdown",
   "metadata": {},
   "source": [
    "## Other intepretation methods\n",
    "We currently implement a few other methods for interpreting the model's predictions. These include:\n",
    "- Dimensionality Reduction on your importance scores: e.g. `eu.interpret.pca`\n",
    "- ...\n",
    "We are looking to add more! If you are interested in contributing..."
   ]
  },
  {
   "cell_type": "code",
   "execution_count": null,
   "metadata": {},
   "outputs": [],
   "source": [
    "# TODO: Perform other intepretation methods on your trained model"
   ]
  },
  {
   "cell_type": "markdown",
   "metadata": {},
   "source": [
    "# Wrapping up\n",
    "EUGENe is very much meant to be a community project. It represents a collection of data, models, and techniques meant for analyzing sequence data with deep learning. We are looking for contributions in almost every aspect of EUGENe. We are particularly interested in:\n",
    "\n",
    "- New model additions through the `models` module\n",
    "- New dataset additions through the `datasets` module\n",
    "- New preprocessing techniques through the `preprocessing` module\n",
    "- New visualization techniques through the `plotting` module\n",
    "- New interpretation techniques through the `interpret` module\n",
    "- New methods for training models in the `train` module\n",
    "\n",
    "Please do not hesitate to contact us if you have any questions or suggestions."
   ]
  },
  {
   "cell_type": "markdown",
   "metadata": {},
   "source": [
    "---"
   ]
  }
 ],
 "metadata": {
  "kernelspec": {
   "display_name": "Python 3 (ipykernel)",
   "language": "python",
   "name": "python3"
  },
  "language_info": {
   "codemirror_mode": {
    "name": "ipython",
    "version": 3
   },
   "file_extension": ".py",
   "mimetype": "text/x-python",
   "name": "python",
   "nbconvert_exporter": "python",
   "pygments_lexer": "ipython3",
   "version": "3.9.12"
  },
  "vscode": {
   "interpreter": {
    "hash": "a445412b3331741a9e83c12b8d1f58585dfec4cc047851993ff836572bfde74d"
   }
  }
 },
 "nbformat": 4,
 "nbformat_minor": 2
}

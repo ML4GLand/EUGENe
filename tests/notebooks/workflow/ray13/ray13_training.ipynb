{
 "cells": [
  {
   "cell_type": "markdown",
   "metadata": {},
   "source": [
    "# Ray et al 2013 Training \n",
    "**Authorship:**\n",
    "Adam Klie, *08/31/2022*\n",
    "***\n",
    "**Description:**\n",
    "Notebook to perform simple training of *single task* and *multitask* models on the Ray et al dataset.\n",
    "***"
   ]
  },
  {
   "cell_type": "code",
   "execution_count": 1,
   "metadata": {
    "execution": {
     "iopub.execute_input": "2022-09-01T00:04:44.420208Z",
     "iopub.status.busy": "2022-09-01T00:04:44.419793Z",
     "iopub.status.idle": "2022-09-01T00:05:38.722759Z",
     "shell.execute_reply": "2022-09-01T00:05:38.722149Z",
     "shell.execute_reply.started": "2022-09-01T00:04:44.420169Z"
    },
    "tags": []
   },
   "outputs": [
    {
     "name": "stderr",
     "output_type": "stream",
     "text": [
      "Global seed set to 13\n",
      "2022-09-04 20:01:46.861783: W tensorflow/stream_executor/platform/default/dso_loader.cc:64] Could not load dynamic library 'libcudart.so.11.0'; dlerror: libcudart.so.11.0: cannot open shared object file: No such file or directory\n",
      "2022-09-04 20:01:46.861818: I tensorflow/stream_executor/cuda/cudart_stub.cc:29] Ignore above cudart dlerror if you do not have a GPU set up on your machine.\n",
      "/workspaces/EUGENe/eugene/external/kipoi_veff/seqplotting_deps.py:36: FutureWarning: arrays to stack must be passed as a \"sequence\" type such as list or tuple. Support for non-sequence iterables such as generators is deprecated as of NumPy 1.16 and will raise an error in the future.\n",
      "  min_coords = np.vstack(data.min(0) for data in polygons_data).min(0)\n",
      "/workspaces/EUGENe/eugene/external/kipoi_veff/seqplotting_deps.py:37: FutureWarning: arrays to stack must be passed as a \"sequence\" type such as list or tuple. Support for non-sequence iterables such as generators is deprecated as of NumPy 1.16 and will raise an error in the future.\n",
      "  max_coords = np.vstack(data.max(0) for data in polygons_data).max(0)\n"
     ]
    }
   ],
   "source": [
    "if 'autoreload' not in get_ipython().extension_manager.loaded:\n",
    "    %load_ext autoreload\n",
    "%autoreload 2\n",
    "\n",
    "import os\n",
    "import logging\n",
    "import torch\n",
    "import numpy as np\n",
    "import pandas as pd\n",
    "import eugene as eu"
   ]
  },
  {
   "cell_type": "code",
   "execution_count": 2,
   "metadata": {
    "execution": {
     "iopub.execute_input": "2022-09-01T00:05:38.726110Z",
     "iopub.status.busy": "2022-09-01T00:05:38.725814Z",
     "iopub.status.idle": "2022-09-01T00:05:41.670013Z",
     "shell.execute_reply": "2022-09-01T00:05:41.669395Z",
     "shell.execute_reply.started": "2022-09-01T00:05:38.726093Z"
    },
    "tags": []
   },
   "outputs": [],
   "source": [
    "eu.settings.dataset_dir = \"../../../_datasets/ray13\"\n",
    "eu.settings.output_dir = \"../../../_output/ray13\"\n",
    "eu.settings.logging_dir = \"../../../_logs/ray13\"\n",
    "eu.settings.config_dir = \"../../../_configs/ray13\"\n",
    "eu.settings.verbosity = logging.ERROR"
   ]
  },
  {
   "cell_type": "markdown",
   "metadata": {
    "tags": []
   },
   "source": [
    "# Load in the SetA training `SeqData`'s for single task and multi-task models"
   ]
  },
  {
   "cell_type": "code",
   "execution_count": 3,
   "metadata": {
    "execution": {
     "iopub.execute_input": "2022-09-01T00:05:41.671226Z",
     "iopub.status.busy": "2022-09-01T00:05:41.670933Z",
     "iopub.status.idle": "2022-09-01T00:05:44.941963Z",
     "shell.execute_reply": "2022-09-01T00:05:44.941445Z",
     "shell.execute_reply.started": "2022-09-01T00:05:41.671209Z"
    },
    "tags": []
   },
   "outputs": [],
   "source": [
    "# Load in the training SetA processed data for single task and multitask models\n",
    "sdata_training_ST = eu.dl.read_h5sd(os.path.join(eu.settings.dataset_dir, eu.settings.dataset_dir, \"norm_setA_sub.h5sd\"))\n",
    "sdata_training_MT = eu.dl.read_h5sd(os.path.join(eu.settings.dataset_dir, eu.settings.dataset_dir, \"norm_setA_MT_sub.h5sd\"))"
   ]
  },
  {
   "cell_type": "code",
   "execution_count": 4,
   "metadata": {
    "execution": {
     "iopub.execute_input": "2022-09-01T00:05:44.947140Z",
     "iopub.status.busy": "2022-09-01T00:05:44.945627Z",
     "iopub.status.idle": "2022-09-01T00:05:48.003038Z",
     "shell.execute_reply": "2022-09-01T00:05:48.002510Z",
     "shell.execute_reply.started": "2022-09-01T00:05:44.947121Z"
    },
    "tags": []
   },
   "outputs": [],
   "source": [
    "# Grab the prediction columns for single task and multitask\n",
    "target_mask_ST = sdata_training_ST.seqs_annot.columns.str.contains(\"RNCMPT\")\n",
    "target_cols_ST = sdata_training_ST.seqs_annot.columns[target_mask_ST]\n",
    "target_mask_MT = sdata_training_MT.seqs_annot.columns.str.contains(\"RNCMPT\")\n",
    "target_cols_MT = sdata_training_MT.seqs_annot.columns[target_mask_MT]"
   ]
  },
  {
   "cell_type": "markdown",
   "metadata": {},
   "source": [
    "# Train single task models"
   ]
  },
  {
   "cell_type": "code",
   "execution_count": 13,
   "metadata": {
    "execution": {
     "iopub.execute_input": "2022-09-01T00:06:53.263178Z",
     "iopub.status.busy": "2022-09-01T00:06:53.262950Z",
     "iopub.status.idle": "2022-09-01T00:06:56.793077Z",
     "shell.execute_reply": "2022-09-01T00:06:56.792545Z",
     "shell.execute_reply.started": "2022-09-01T00:06:53.263160Z"
    },
    "tags": []
   },
   "outputs": [],
   "source": [
    "# Instantiation function\n",
    "from pytorch_lightning import seed_everything\n",
    "def prep_new_model(\n",
    "    seed,\n",
    "    conv_dropout = 0,\n",
    "    fc_dropout = 0,\n",
    "    batchnorm = True\n",
    "):\n",
    "    model = eu.models.DeepBind(\n",
    "        input_len=41, # Length of padded sequences\n",
    "        output_dim=1, # Number of multitask outputs\n",
    "        strand=\"ss\",\n",
    "        task=\"regression\",\n",
    "        conv_kwargs=dict(channels=[4, 16], conv_kernels=[16], dropout_rates=conv_dropout, batchnorm=batchnorm),\n",
    "        mp_kwargs=dict(kernel_size=8),\n",
    "        fc_kwargs=dict(hidden_dims=[32], dropout_rate=fc_dropout, batchnorm=batchnorm),\n",
    "        optimizer=\"sgd\",\n",
    "        lr=0.0005,\n",
    "        scheduler_patience=3\n",
    "    )\n",
    "\n",
    "    # Set a seed\n",
    "    seed_everything(seed)\n",
    "    \n",
    "    # Initialize the model prior to conv filter initialization\n",
    "    eu.models.base.init_weights(model)\n",
    "\n",
    "    # Return the model\n",
    "    return model "
   ]
  },
  {
   "cell_type": "code",
   "execution_count": 14,
   "metadata": {
    "execution": {
     "iopub.execute_input": "2022-09-01T00:06:56.794509Z",
     "iopub.status.busy": "2022-09-01T00:06:56.794190Z",
     "iopub.status.idle": "2022-09-01T00:07:00.537358Z",
     "shell.execute_reply": "2022-09-01T00:07:00.536928Z",
     "shell.execute_reply.started": "2022-09-01T00:06:56.794492Z"
    },
    "tags": []
   },
   "outputs": [
    {
     "name": "stderr",
     "output_type": "stream",
     "text": [
      "Global seed set to 0\n"
     ]
    },
    {
     "name": "stdout",
     "output_type": "stream",
     "text": [
      "Model: DeepBind\n",
      "Input length: 41\n",
      "Output dimension: 1\n",
      "Strand: ss\n",
      "Task: regression\n",
      "Aggregation: None\n",
      "Loss function: mse_loss\n",
      "Optimizer: sgd\n",
      "\tOptimizer parameters: {}\n",
      "Learning rate: 0.0005\n",
      "Scheduler: lr_scheduler\n",
      "Scheduler patience: 3\n",
      "  | Name      | Type                      | Params\n",
      "--------------------------------------------------------\n",
      "0 | hp_metric | R2Score                   | 0     \n",
      "1 | max_pool  | MaxPool1d                 | 0     \n",
      "2 | convnet   | BasicConv1D               | 1.1 K \n",
      "3 | fcn       | BasicFullyConnectedModule | 1.8 K \n",
      "--------------------------------------------------------\n",
      "2.9 K     Trainable params\n",
      "0         Non-trainable params\n",
      "2.9 K     Total params\n",
      "0.011     Total estimated model params size (MB)\n",
      "No transforms given, assuming just need to tensorize).\n",
      "torch.Size([64, 1])\n"
     ]
    }
   ],
   "source": [
    "# Test out a model before training\n",
    "model = prep_new_model(0)\n",
    "print(model.summary())\n",
    "sdataloader = sdata_training_ST[:64].to_dataset(transform_kwargs={\"transpose\": True}).to_dataloader()\n",
    "test_seqs = next(iter(sdataloader))\n",
    "print(model(test_seqs[1], test_seqs[2]).size())"
   ]
  },
  {
   "cell_type": "code",
   "execution_count": 16,
   "metadata": {
    "execution": {
     "iopub.execute_input": "2022-09-01T00:08:49.278173Z",
     "iopub.status.busy": "2022-09-01T00:08:49.277953Z",
     "iopub.status.idle": "2022-09-01T00:15:16.408153Z",
     "shell.execute_reply": "2022-09-01T00:15:16.406402Z",
     "shell.execute_reply.started": "2022-09-01T00:08:49.278156Z"
    },
    "tags": []
   },
   "outputs": [
    {
     "name": "stderr",
     "output_type": "stream",
     "text": [
      "Global seed set to 0\n",
      "Global seed set to 0\n",
      "GPU available: False, used: False\n",
      "TPU available: False, using: 0 TPU cores\n",
      "IPU available: False, using: 0 IPUs\n",
      "\n",
      "  | Name      | Type                      | Params\n",
      "--------------------------------------------------------\n",
      "0 | hp_metric | R2Score                   | 0     \n",
      "1 | max_pool  | MaxPool1d                 | 0     \n",
      "2 | convnet   | BasicConv1D               | 1.1 K \n",
      "3 | fcn       | BasicFullyConnectedModule | 1.8 K \n",
      "--------------------------------------------------------\n",
      "2.9 K     Trainable params\n",
      "0         Non-trainable params\n",
      "2.9 K     Total params\n",
      "0.011     Total estimated model params size (MB)\n"
     ]
    },
    {
     "name": "stdout",
     "output_type": "stream",
     "text": [
      "Training DeepBind SingleTask model on RNCMPT00001\n",
      "Dropping 2 sequences with NaN targets.\n",
      "No transforms given, assuming just need to tensorize).\n",
      "No transforms given, assuming just need to tensorize).\n"
     ]
    },
    {
     "name": "stderr",
     "output_type": "stream",
     "text": [
      "/home/vscode/.local/lib/python3.7/site-packages/pytorch_lightning/callbacks/model_checkpoint.py:631: UserWarning: Checkpoint directory /workspaces/EUGENe/tests/_logs/ray13/DeepBind_ST/RNCMPT00001/checkpoints exists and is not empty.\n",
      "  rank_zero_warn(f\"Checkpoint directory {dirpath} exists and is not empty.\")\n"
     ]
    },
    {
     "data": {
      "application/vnd.jupyter.widget-view+json": {
       "model_id": "673c164a81bb4049a0a73ac67d6e69ba",
       "version_major": 2,
       "version_minor": 0
      },
      "text/plain": [
       "Validation sanity check: 0it [00:00, ?it/s]"
      ]
     },
     "metadata": {},
     "output_type": "display_data"
    },
    {
     "name": "stderr",
     "output_type": "stream",
     "text": [
      "Global seed set to 0\n",
      "/home/vscode/.local/lib/python3.7/site-packages/pytorch_lightning/trainer/data_loading.py:433: UserWarning: The number of training samples (2) is smaller than the logging interval Trainer(log_every_n_steps=50). Set a lower value for log_every_n_steps if you want to see logs for the training epoch.\n",
      "  f\"The number of training samples ({self.num_training_batches}) is smaller than the logging interval\"\n"
     ]
    },
    {
     "data": {
      "application/vnd.jupyter.widget-view+json": {
       "model_id": "bfa614e711e54110a2607ae883fa4b90",
       "version_major": 2,
       "version_minor": 0
      },
      "text/plain": [
       "Training: 0it [00:00, ?it/s]"
      ]
     },
     "metadata": {},
     "output_type": "display_data"
    },
    {
     "data": {
      "application/vnd.jupyter.widget-view+json": {
       "model_id": "3e6b85eebcb14748bac7fa5d28ca249b",
       "version_major": 2,
       "version_minor": 0
      },
      "text/plain": [
       "Validating: 0it [00:00, ?it/s]"
      ]
     },
     "metadata": {},
     "output_type": "display_data"
    },
    {
     "name": "stderr",
     "output_type": "stream",
     "text": [
      "Metric val_loss improved. New best score: 0.093\n"
     ]
    },
    {
     "data": {
      "application/vnd.jupyter.widget-view+json": {
       "model_id": "dd728705e518490fb391870917dbfcdf",
       "version_major": 2,
       "version_minor": 0
      },
      "text/plain": [
       "Validating: 0it [00:00, ?it/s]"
      ]
     },
     "metadata": {},
     "output_type": "display_data"
    },
    {
     "data": {
      "application/vnd.jupyter.widget-view+json": {
       "model_id": "42fe6e0d388c4409b81dc0f89a2e2d23",
       "version_major": 2,
       "version_minor": 0
      },
      "text/plain": [
       "Validating: 0it [00:00, ?it/s]"
      ]
     },
     "metadata": {},
     "output_type": "display_data"
    },
    {
     "data": {
      "application/vnd.jupyter.widget-view+json": {
       "model_id": "8781ce5e2e324a3ab669f350a6ba1bba",
       "version_major": 2,
       "version_minor": 0
      },
      "text/plain": [
       "Validating: 0it [00:00, ?it/s]"
      ]
     },
     "metadata": {},
     "output_type": "display_data"
    },
    {
     "name": "stderr",
     "output_type": "stream",
     "text": [
      "Monitored metric val_loss did not improve in the last 3 records. Best score: 0.093. Signaling Trainer to stop.\n",
      "GPU available: False, used: False\n",
      "TPU available: False, using: 0 TPU cores\n",
      "IPU available: False, using: 0 IPUs\n",
      "GPU available: False, used: False\n",
      "TPU available: False, using: 0 TPU cores\n",
      "IPU available: False, using: 0 IPUs\n"
     ]
    },
    {
     "name": "stdout",
     "output_type": "stream",
     "text": [
      "No transforms given, assuming just need to tensorize).\n",
      "No transforms given, assuming just need to tensorize).\n"
     ]
    },
    {
     "name": "stderr",
     "output_type": "stream",
     "text": [
      "/home/vscode/.local/lib/python3.7/site-packages/pytorch_lightning/trainer/data_loading.py:133: UserWarning: The dataloader, predict_dataloader 0, does not have many workers which may be a bottleneck. Consider increasing the value of the `num_workers` argument` (try 4 which is the number of cpus on this machine) in the `DataLoader` init to improve performance.\n",
      "  f\"The dataloader, {name}, does not have many workers which may be a bottleneck.\"\n"
     ]
    },
    {
     "data": {
      "application/vnd.jupyter.widget-view+json": {
       "model_id": "176d240ed8df43538495340a9106e53b",
       "version_major": 2,
       "version_minor": 0
      },
      "text/plain": [
       "Predicting: 0it [00:00, ?it/s]"
      ]
     },
     "metadata": {},
     "output_type": "display_data"
    },
    {
     "data": {
      "application/vnd.jupyter.widget-view+json": {
       "model_id": "347372cafb9f4adca06cbedf737d62a3",
       "version_major": 2,
       "version_minor": 0
      },
      "text/plain": [
       "Predicting: 0it [00:00, ?it/s]"
      ]
     },
     "metadata": {},
     "output_type": "display_data"
    },
    {
     "name": "stderr",
     "output_type": "stream",
     "text": [
      "Global seed set to 1\n",
      "Global seed set to 1\n",
      "GPU available: False, used: False\n",
      "TPU available: False, using: 0 TPU cores\n",
      "IPU available: False, using: 0 IPUs\n",
      "\n",
      "  | Name      | Type                      | Params\n",
      "--------------------------------------------------------\n",
      "0 | hp_metric | R2Score                   | 0     \n",
      "1 | max_pool  | MaxPool1d                 | 0     \n",
      "2 | convnet   | BasicConv1D               | 1.1 K \n",
      "3 | fcn       | BasicFullyConnectedModule | 1.8 K \n",
      "--------------------------------------------------------\n",
      "2.9 K     Trainable params\n",
      "0         Non-trainable params\n",
      "2.9 K     Total params\n",
      "0.011     Total estimated model params size (MB)\n"
     ]
    },
    {
     "name": "stdout",
     "output_type": "stream",
     "text": [
      "SeqData object modified:\n",
      "    seqs_annot:\n",
      "        + RNCMPT00001_predictions_ST\n",
      "Training DeepBind SingleTask model on RNCMPT00002\n",
      "Dropping 2 sequences with NaN targets.\n",
      "No transforms given, assuming just need to tensorize).\n",
      "No transforms given, assuming just need to tensorize).\n"
     ]
    },
    {
     "name": "stderr",
     "output_type": "stream",
     "text": [
      "/home/vscode/.local/lib/python3.7/site-packages/pytorch_lightning/callbacks/model_checkpoint.py:631: UserWarning: Checkpoint directory /workspaces/EUGENe/tests/_logs/ray13/DeepBind_ST/RNCMPT00002/checkpoints exists and is not empty.\n",
      "  rank_zero_warn(f\"Checkpoint directory {dirpath} exists and is not empty.\")\n"
     ]
    },
    {
     "data": {
      "application/vnd.jupyter.widget-view+json": {
       "model_id": "af650540befd414bbf4ffa64d8780625",
       "version_major": 2,
       "version_minor": 0
      },
      "text/plain": [
       "Validation sanity check: 0it [00:00, ?it/s]"
      ]
     },
     "metadata": {},
     "output_type": "display_data"
    },
    {
     "name": "stderr",
     "output_type": "stream",
     "text": [
      "Global seed set to 1\n"
     ]
    },
    {
     "data": {
      "application/vnd.jupyter.widget-view+json": {
       "model_id": "ad653e6672804f3c822688856eed5442",
       "version_major": 2,
       "version_minor": 0
      },
      "text/plain": [
       "Training: 0it [00:00, ?it/s]"
      ]
     },
     "metadata": {},
     "output_type": "display_data"
    },
    {
     "data": {
      "application/vnd.jupyter.widget-view+json": {
       "model_id": "3e18433f2d984af8872ccc7a4fd2c73e",
       "version_major": 2,
       "version_minor": 0
      },
      "text/plain": [
       "Validating: 0it [00:00, ?it/s]"
      ]
     },
     "metadata": {},
     "output_type": "display_data"
    },
    {
     "name": "stderr",
     "output_type": "stream",
     "text": [
      "Metric val_loss improved. New best score: 1.052\n"
     ]
    },
    {
     "data": {
      "application/vnd.jupyter.widget-view+json": {
       "model_id": "a68aaaf3d04644099fd16352d07144b5",
       "version_major": 2,
       "version_minor": 0
      },
      "text/plain": [
       "Validating: 0it [00:00, ?it/s]"
      ]
     },
     "metadata": {},
     "output_type": "display_data"
    },
    {
     "name": "stderr",
     "output_type": "stream",
     "text": [
      "Metric val_loss improved by 0.006 >= min_delta = 0.0. New best score: 1.046\n"
     ]
    },
    {
     "data": {
      "application/vnd.jupyter.widget-view+json": {
       "model_id": "d713d8d60c71446c981d1aae2eadef86",
       "version_major": 2,
       "version_minor": 0
      },
      "text/plain": [
       "Validating: 0it [00:00, ?it/s]"
      ]
     },
     "metadata": {},
     "output_type": "display_data"
    },
    {
     "name": "stderr",
     "output_type": "stream",
     "text": [
      "Metric val_loss improved by 0.008 >= min_delta = 0.0. New best score: 1.038\n"
     ]
    },
    {
     "data": {
      "application/vnd.jupyter.widget-view+json": {
       "model_id": "df38598365cc494d86f2cf63a4da614d",
       "version_major": 2,
       "version_minor": 0
      },
      "text/plain": [
       "Validating: 0it [00:00, ?it/s]"
      ]
     },
     "metadata": {},
     "output_type": "display_data"
    },
    {
     "name": "stderr",
     "output_type": "stream",
     "text": [
      "Metric val_loss improved by 0.006 >= min_delta = 0.0. New best score: 1.032\n"
     ]
    },
    {
     "data": {
      "application/vnd.jupyter.widget-view+json": {
       "model_id": "04e9e0299bc843728575af34cd3b1ff0",
       "version_major": 2,
       "version_minor": 0
      },
      "text/plain": [
       "Validating: 0it [00:00, ?it/s]"
      ]
     },
     "metadata": {},
     "output_type": "display_data"
    },
    {
     "name": "stderr",
     "output_type": "stream",
     "text": [
      "Metric val_loss improved by 0.004 >= min_delta = 0.0. New best score: 1.027\n"
     ]
    },
    {
     "data": {
      "application/vnd.jupyter.widget-view+json": {
       "model_id": "9aa15f1203764d96b61a5a8fab1e6140",
       "version_major": 2,
       "version_minor": 0
      },
      "text/plain": [
       "Validating: 0it [00:00, ?it/s]"
      ]
     },
     "metadata": {},
     "output_type": "display_data"
    },
    {
     "name": "stderr",
     "output_type": "stream",
     "text": [
      "Metric val_loss improved by 0.003 >= min_delta = 0.0. New best score: 1.025\n"
     ]
    },
    {
     "data": {
      "application/vnd.jupyter.widget-view+json": {
       "model_id": "6ffcad5609c64ae0b71d29b1f2d65b1b",
       "version_major": 2,
       "version_minor": 0
      },
      "text/plain": [
       "Validating: 0it [00:00, ?it/s]"
      ]
     },
     "metadata": {},
     "output_type": "display_data"
    },
    {
     "name": "stderr",
     "output_type": "stream",
     "text": [
      "Metric val_loss improved by 0.004 >= min_delta = 0.0. New best score: 1.020\n"
     ]
    },
    {
     "data": {
      "application/vnd.jupyter.widget-view+json": {
       "model_id": "6128f29e6fef44c7a6eeb5b34c347631",
       "version_major": 2,
       "version_minor": 0
      },
      "text/plain": [
       "Validating: 0it [00:00, ?it/s]"
      ]
     },
     "metadata": {},
     "output_type": "display_data"
    },
    {
     "name": "stderr",
     "output_type": "stream",
     "text": [
      "Metric val_loss improved by 0.005 >= min_delta = 0.0. New best score: 1.015\n"
     ]
    },
    {
     "data": {
      "application/vnd.jupyter.widget-view+json": {
       "model_id": "5985de070bf84638a9f9289ab80adf53",
       "version_major": 2,
       "version_minor": 0
      },
      "text/plain": [
       "Validating: 0it [00:00, ?it/s]"
      ]
     },
     "metadata": {},
     "output_type": "display_data"
    },
    {
     "name": "stderr",
     "output_type": "stream",
     "text": [
      "Metric val_loss improved by 0.005 >= min_delta = 0.0. New best score: 1.010\n"
     ]
    },
    {
     "data": {
      "application/vnd.jupyter.widget-view+json": {
       "model_id": "12d4c81d0b6a46c5b98a6623a76c89d7",
       "version_major": 2,
       "version_minor": 0
      },
      "text/plain": [
       "Validating: 0it [00:00, ?it/s]"
      ]
     },
     "metadata": {},
     "output_type": "display_data"
    },
    {
     "name": "stderr",
     "output_type": "stream",
     "text": [
      "Metric val_loss improved by 0.005 >= min_delta = 0.0. New best score: 1.005\n"
     ]
    },
    {
     "data": {
      "application/vnd.jupyter.widget-view+json": {
       "model_id": "62011f5ef556422398d3f8be8c36771e",
       "version_major": 2,
       "version_minor": 0
      },
      "text/plain": [
       "Validating: 0it [00:00, ?it/s]"
      ]
     },
     "metadata": {},
     "output_type": "display_data"
    },
    {
     "name": "stderr",
     "output_type": "stream",
     "text": [
      "Metric val_loss improved by 0.005 >= min_delta = 0.0. New best score: 1.000\n"
     ]
    },
    {
     "data": {
      "application/vnd.jupyter.widget-view+json": {
       "model_id": "35a79ca7473a47cf8e9693d25a7e4283",
       "version_major": 2,
       "version_minor": 0
      },
      "text/plain": [
       "Validating: 0it [00:00, ?it/s]"
      ]
     },
     "metadata": {},
     "output_type": "display_data"
    },
    {
     "name": "stderr",
     "output_type": "stream",
     "text": [
      "Metric val_loss improved by 0.005 >= min_delta = 0.0. New best score: 0.995\n"
     ]
    },
    {
     "data": {
      "application/vnd.jupyter.widget-view+json": {
       "model_id": "4469b4efc43b486f820c872882526104",
       "version_major": 2,
       "version_minor": 0
      },
      "text/plain": [
       "Validating: 0it [00:00, ?it/s]"
      ]
     },
     "metadata": {},
     "output_type": "display_data"
    },
    {
     "name": "stderr",
     "output_type": "stream",
     "text": [
      "Metric val_loss improved by 0.004 >= min_delta = 0.0. New best score: 0.991\n"
     ]
    },
    {
     "data": {
      "application/vnd.jupyter.widget-view+json": {
       "model_id": "17266a96a24b48fdaae8147d0f7d9e50",
       "version_major": 2,
       "version_minor": 0
      },
      "text/plain": [
       "Validating: 0it [00:00, ?it/s]"
      ]
     },
     "metadata": {},
     "output_type": "display_data"
    },
    {
     "name": "stderr",
     "output_type": "stream",
     "text": [
      "Metric val_loss improved by 0.002 >= min_delta = 0.0. New best score: 0.989\n"
     ]
    },
    {
     "data": {
      "application/vnd.jupyter.widget-view+json": {
       "model_id": "16f77aa28cb042d6966ba6bbd4b2e362",
       "version_major": 2,
       "version_minor": 0
      },
      "text/plain": [
       "Validating: 0it [00:00, ?it/s]"
      ]
     },
     "metadata": {},
     "output_type": "display_data"
    },
    {
     "name": "stderr",
     "output_type": "stream",
     "text": [
      "Metric val_loss improved by 0.003 >= min_delta = 0.0. New best score: 0.986\n"
     ]
    },
    {
     "data": {
      "application/vnd.jupyter.widget-view+json": {
       "model_id": "e53b374c522542b8a033458b9db6eed6",
       "version_major": 2,
       "version_minor": 0
      },
      "text/plain": [
       "Validating: 0it [00:00, ?it/s]"
      ]
     },
     "metadata": {},
     "output_type": "display_data"
    },
    {
     "data": {
      "application/vnd.jupyter.widget-view+json": {
       "model_id": "94740e0885734647a2877107d8c42cda",
       "version_major": 2,
       "version_minor": 0
      },
      "text/plain": [
       "Validating: 0it [00:00, ?it/s]"
      ]
     },
     "metadata": {},
     "output_type": "display_data"
    },
    {
     "data": {
      "application/vnd.jupyter.widget-view+json": {
       "model_id": "e259aa9cfe0c49efbdb38b25e1460b06",
       "version_major": 2,
       "version_minor": 0
      },
      "text/plain": [
       "Validating: 0it [00:00, ?it/s]"
      ]
     },
     "metadata": {},
     "output_type": "display_data"
    },
    {
     "name": "stderr",
     "output_type": "stream",
     "text": [
      "Monitored metric val_loss did not improve in the last 3 records. Best score: 0.986. Signaling Trainer to stop.\n",
      "GPU available: False, used: False\n",
      "TPU available: False, using: 0 TPU cores\n",
      "IPU available: False, using: 0 IPUs\n",
      "GPU available: False, used: False\n",
      "TPU available: False, using: 0 TPU cores\n",
      "IPU available: False, using: 0 IPUs\n"
     ]
    },
    {
     "name": "stdout",
     "output_type": "stream",
     "text": [
      "No transforms given, assuming just need to tensorize).\n",
      "No transforms given, assuming just need to tensorize).\n"
     ]
    },
    {
     "data": {
      "application/vnd.jupyter.widget-view+json": {
       "model_id": "d78bf40782d0463fbdf5e969d7e498b4",
       "version_major": 2,
       "version_minor": 0
      },
      "text/plain": [
       "Predicting: 0it [00:00, ?it/s]"
      ]
     },
     "metadata": {},
     "output_type": "display_data"
    },
    {
     "data": {
      "application/vnd.jupyter.widget-view+json": {
       "model_id": "bb41e1f0e074469db39d77365ee74f4e",
       "version_major": 2,
       "version_minor": 0
      },
      "text/plain": [
       "Predicting: 0it [00:00, ?it/s]"
      ]
     },
     "metadata": {},
     "output_type": "display_data"
    },
    {
     "name": "stderr",
     "output_type": "stream",
     "text": [
      "Global seed set to 2\n",
      "Global seed set to 2\n",
      "GPU available: False, used: False\n",
      "TPU available: False, using: 0 TPU cores\n",
      "IPU available: False, using: 0 IPUs\n",
      "\n",
      "  | Name      | Type                      | Params\n",
      "--------------------------------------------------------\n",
      "0 | hp_metric | R2Score                   | 0     \n",
      "1 | max_pool  | MaxPool1d                 | 0     \n",
      "2 | convnet   | BasicConv1D               | 1.1 K \n",
      "3 | fcn       | BasicFullyConnectedModule | 1.8 K \n",
      "--------------------------------------------------------\n",
      "2.9 K     Trainable params\n",
      "0         Non-trainable params\n",
      "2.9 K     Total params\n",
      "0.011     Total estimated model params size (MB)\n"
     ]
    },
    {
     "name": "stdout",
     "output_type": "stream",
     "text": [
      "SeqData object modified:\n",
      "    seqs_annot:\n",
      "        + RNCMPT00002_predictions_ST\n",
      "Training DeepBind SingleTask model on RNCMPT00003\n",
      "Dropping 0 sequences with NaN targets.\n",
      "No transforms given, assuming just need to tensorize).\n",
      "No transforms given, assuming just need to tensorize).\n"
     ]
    },
    {
     "name": "stderr",
     "output_type": "stream",
     "text": [
      "/home/vscode/.local/lib/python3.7/site-packages/pytorch_lightning/callbacks/model_checkpoint.py:631: UserWarning: Checkpoint directory /workspaces/EUGENe/tests/_logs/ray13/DeepBind_ST/RNCMPT00003/checkpoints exists and is not empty.\n",
      "  rank_zero_warn(f\"Checkpoint directory {dirpath} exists and is not empty.\")\n"
     ]
    },
    {
     "data": {
      "application/vnd.jupyter.widget-view+json": {
       "model_id": "96657bf4d8874aea9f0a9bdc7a91e26b",
       "version_major": 2,
       "version_minor": 0
      },
      "text/plain": [
       "Validation sanity check: 0it [00:00, ?it/s]"
      ]
     },
     "metadata": {},
     "output_type": "display_data"
    },
    {
     "name": "stderr",
     "output_type": "stream",
     "text": [
      "Global seed set to 2\n"
     ]
    },
    {
     "data": {
      "application/vnd.jupyter.widget-view+json": {
       "model_id": "2500fc446a9748639b2617eb87978094",
       "version_major": 2,
       "version_minor": 0
      },
      "text/plain": [
       "Training: 0it [00:00, ?it/s]"
      ]
     },
     "metadata": {},
     "output_type": "display_data"
    },
    {
     "data": {
      "application/vnd.jupyter.widget-view+json": {
       "model_id": "2bdfc800a3944e0a9bcc183cdf00f49e",
       "version_major": 2,
       "version_minor": 0
      },
      "text/plain": [
       "Validating: 0it [00:00, ?it/s]"
      ]
     },
     "metadata": {},
     "output_type": "display_data"
    },
    {
     "name": "stderr",
     "output_type": "stream",
     "text": [
      "Metric val_loss improved. New best score: 0.052\n"
     ]
    },
    {
     "data": {
      "application/vnd.jupyter.widget-view+json": {
       "model_id": "8b15bd1f48f14b4bafcd6b0727d06b3e",
       "version_major": 2,
       "version_minor": 0
      },
      "text/plain": [
       "Validating: 0it [00:00, ?it/s]"
      ]
     },
     "metadata": {},
     "output_type": "display_data"
    },
    {
     "data": {
      "application/vnd.jupyter.widget-view+json": {
       "model_id": "e8136b86479f44e9a1ac6068a73e038a",
       "version_major": 2,
       "version_minor": 0
      },
      "text/plain": [
       "Validating: 0it [00:00, ?it/s]"
      ]
     },
     "metadata": {},
     "output_type": "display_data"
    },
    {
     "data": {
      "application/vnd.jupyter.widget-view+json": {
       "model_id": "d5cb21d3cf9347529af7124fd52de2e3",
       "version_major": 2,
       "version_minor": 0
      },
      "text/plain": [
       "Validating: 0it [00:00, ?it/s]"
      ]
     },
     "metadata": {},
     "output_type": "display_data"
    },
    {
     "name": "stderr",
     "output_type": "stream",
     "text": [
      "Monitored metric val_loss did not improve in the last 3 records. Best score: 0.052. Signaling Trainer to stop.\n",
      "GPU available: False, used: False\n",
      "TPU available: False, using: 0 TPU cores\n",
      "IPU available: False, using: 0 IPUs\n",
      "GPU available: False, used: False\n",
      "TPU available: False, using: 0 TPU cores\n",
      "IPU available: False, using: 0 IPUs\n"
     ]
    },
    {
     "name": "stdout",
     "output_type": "stream",
     "text": [
      "No transforms given, assuming just need to tensorize).\n",
      "No transforms given, assuming just need to tensorize).\n"
     ]
    },
    {
     "data": {
      "application/vnd.jupyter.widget-view+json": {
       "model_id": "ec04cee88cd443f39d1ecf5c9e363568",
       "version_major": 2,
       "version_minor": 0
      },
      "text/plain": [
       "Predicting: 0it [00:00, ?it/s]"
      ]
     },
     "metadata": {},
     "output_type": "display_data"
    },
    {
     "data": {
      "application/vnd.jupyter.widget-view+json": {
       "model_id": "2b64b7768aff4b6e9c4ab53ed54f6d4b",
       "version_major": 2,
       "version_minor": 0
      },
      "text/plain": [
       "Predicting: 0it [00:00, ?it/s]"
      ]
     },
     "metadata": {},
     "output_type": "display_data"
    },
    {
     "name": "stderr",
     "output_type": "stream",
     "text": [
      "Global seed set to 3\n",
      "Global seed set to 3\n",
      "GPU available: False, used: False\n",
      "TPU available: False, using: 0 TPU cores\n",
      "IPU available: False, using: 0 IPUs\n",
      "\n",
      "  | Name      | Type                      | Params\n",
      "--------------------------------------------------------\n",
      "0 | hp_metric | R2Score                   | 0     \n",
      "1 | max_pool  | MaxPool1d                 | 0     \n",
      "2 | convnet   | BasicConv1D               | 1.1 K \n",
      "3 | fcn       | BasicFullyConnectedModule | 1.8 K \n",
      "--------------------------------------------------------\n",
      "2.9 K     Trainable params\n",
      "0         Non-trainable params\n",
      "2.9 K     Total params\n",
      "0.011     Total estimated model params size (MB)\n"
     ]
    },
    {
     "name": "stdout",
     "output_type": "stream",
     "text": [
      "SeqData object modified:\n",
      "    seqs_annot:\n",
      "        + RNCMPT00003_predictions_ST\n",
      "Training DeepBind SingleTask model on RNCMPT00004\n",
      "Dropping 2 sequences with NaN targets.\n",
      "No transforms given, assuming just need to tensorize).\n",
      "No transforms given, assuming just need to tensorize).\n"
     ]
    },
    {
     "name": "stderr",
     "output_type": "stream",
     "text": [
      "/home/vscode/.local/lib/python3.7/site-packages/pytorch_lightning/callbacks/model_checkpoint.py:631: UserWarning: Checkpoint directory /workspaces/EUGENe/tests/_logs/ray13/DeepBind_ST/RNCMPT00004/checkpoints exists and is not empty.\n",
      "  rank_zero_warn(f\"Checkpoint directory {dirpath} exists and is not empty.\")\n"
     ]
    },
    {
     "data": {
      "application/vnd.jupyter.widget-view+json": {
       "model_id": "3a24cdf471a5453d9b570ce1eb68634f",
       "version_major": 2,
       "version_minor": 0
      },
      "text/plain": [
       "Validation sanity check: 0it [00:00, ?it/s]"
      ]
     },
     "metadata": {},
     "output_type": "display_data"
    },
    {
     "name": "stderr",
     "output_type": "stream",
     "text": [
      "Global seed set to 3\n"
     ]
    },
    {
     "data": {
      "application/vnd.jupyter.widget-view+json": {
       "model_id": "13fc51749d50498f9a1e262265662142",
       "version_major": 2,
       "version_minor": 0
      },
      "text/plain": [
       "Training: 0it [00:00, ?it/s]"
      ]
     },
     "metadata": {},
     "output_type": "display_data"
    },
    {
     "data": {
      "application/vnd.jupyter.widget-view+json": {
       "model_id": "9b20750ad6174b688d015822c9edf052",
       "version_major": 2,
       "version_minor": 0
      },
      "text/plain": [
       "Validating: 0it [00:00, ?it/s]"
      ]
     },
     "metadata": {},
     "output_type": "display_data"
    },
    {
     "name": "stderr",
     "output_type": "stream",
     "text": [
      "Metric val_loss improved. New best score: 0.480\n"
     ]
    },
    {
     "data": {
      "application/vnd.jupyter.widget-view+json": {
       "model_id": "53f035d468da400384c1b92b0c5c2951",
       "version_major": 2,
       "version_minor": 0
      },
      "text/plain": [
       "Validating: 0it [00:00, ?it/s]"
      ]
     },
     "metadata": {},
     "output_type": "display_data"
    },
    {
     "data": {
      "application/vnd.jupyter.widget-view+json": {
       "model_id": "6734ba8c995a42499df7889f738a7727",
       "version_major": 2,
       "version_minor": 0
      },
      "text/plain": [
       "Validating: 0it [00:00, ?it/s]"
      ]
     },
     "metadata": {},
     "output_type": "display_data"
    },
    {
     "data": {
      "application/vnd.jupyter.widget-view+json": {
       "model_id": "fe972c8477884961b3d86b22a3bea560",
       "version_major": 2,
       "version_minor": 0
      },
      "text/plain": [
       "Validating: 0it [00:00, ?it/s]"
      ]
     },
     "metadata": {},
     "output_type": "display_data"
    },
    {
     "name": "stderr",
     "output_type": "stream",
     "text": [
      "Monitored metric val_loss did not improve in the last 3 records. Best score: 0.480. Signaling Trainer to stop.\n",
      "GPU available: False, used: False\n",
      "TPU available: False, using: 0 TPU cores\n",
      "IPU available: False, using: 0 IPUs\n",
      "GPU available: False, used: False\n",
      "TPU available: False, using: 0 TPU cores\n",
      "IPU available: False, using: 0 IPUs\n"
     ]
    },
    {
     "name": "stdout",
     "output_type": "stream",
     "text": [
      "No transforms given, assuming just need to tensorize).\n",
      "No transforms given, assuming just need to tensorize).\n"
     ]
    },
    {
     "data": {
      "application/vnd.jupyter.widget-view+json": {
       "model_id": "3ad09419861548638df9cccd8f62b25e",
       "version_major": 2,
       "version_minor": 0
      },
      "text/plain": [
       "Predicting: 0it [00:00, ?it/s]"
      ]
     },
     "metadata": {},
     "output_type": "display_data"
    },
    {
     "data": {
      "application/vnd.jupyter.widget-view+json": {
       "model_id": "f7c4bfe331e642978e39c8627e2a649a",
       "version_major": 2,
       "version_minor": 0
      },
      "text/plain": [
       "Predicting: 0it [00:00, ?it/s]"
      ]
     },
     "metadata": {},
     "output_type": "display_data"
    },
    {
     "name": "stderr",
     "output_type": "stream",
     "text": [
      "Global seed set to 4\n",
      "Global seed set to 4\n",
      "GPU available: False, used: False\n",
      "TPU available: False, using: 0 TPU cores\n",
      "IPU available: False, using: 0 IPUs\n",
      "\n",
      "  | Name      | Type                      | Params\n",
      "--------------------------------------------------------\n",
      "0 | hp_metric | R2Score                   | 0     \n",
      "1 | max_pool  | MaxPool1d                 | 0     \n",
      "2 | convnet   | BasicConv1D               | 1.1 K \n",
      "3 | fcn       | BasicFullyConnectedModule | 1.8 K \n",
      "--------------------------------------------------------\n",
      "2.9 K     Trainable params\n",
      "0         Non-trainable params\n",
      "2.9 K     Total params\n",
      "0.011     Total estimated model params size (MB)\n"
     ]
    },
    {
     "name": "stdout",
     "output_type": "stream",
     "text": [
      "SeqData object modified:\n",
      "    seqs_annot:\n",
      "        + RNCMPT00004_predictions_ST\n",
      "Training DeepBind SingleTask model on RNCMPT00005\n",
      "Dropping 3 sequences with NaN targets.\n",
      "No transforms given, assuming just need to tensorize).\n",
      "No transforms given, assuming just need to tensorize).\n"
     ]
    },
    {
     "name": "stderr",
     "output_type": "stream",
     "text": [
      "/home/vscode/.local/lib/python3.7/site-packages/pytorch_lightning/callbacks/model_checkpoint.py:631: UserWarning: Checkpoint directory /workspaces/EUGENe/tests/_logs/ray13/DeepBind_ST/RNCMPT00005/checkpoints exists and is not empty.\n",
      "  rank_zero_warn(f\"Checkpoint directory {dirpath} exists and is not empty.\")\n"
     ]
    },
    {
     "data": {
      "application/vnd.jupyter.widget-view+json": {
       "model_id": "97074e5f3317489cb61e4342520a2232",
       "version_major": 2,
       "version_minor": 0
      },
      "text/plain": [
       "Validation sanity check: 0it [00:00, ?it/s]"
      ]
     },
     "metadata": {},
     "output_type": "display_data"
    },
    {
     "name": "stderr",
     "output_type": "stream",
     "text": [
      "Global seed set to 4\n"
     ]
    },
    {
     "data": {
      "application/vnd.jupyter.widget-view+json": {
       "model_id": "db353ae031b747df8ffe87381756026f",
       "version_major": 2,
       "version_minor": 0
      },
      "text/plain": [
       "Training: 0it [00:00, ?it/s]"
      ]
     },
     "metadata": {},
     "output_type": "display_data"
    },
    {
     "data": {
      "application/vnd.jupyter.widget-view+json": {
       "model_id": "ad09c8da13384708a139409d7ccc3cb6",
       "version_major": 2,
       "version_minor": 0
      },
      "text/plain": [
       "Validating: 0it [00:00, ?it/s]"
      ]
     },
     "metadata": {},
     "output_type": "display_data"
    },
    {
     "name": "stderr",
     "output_type": "stream",
     "text": [
      "Metric val_loss improved. New best score: 1.027\n"
     ]
    },
    {
     "data": {
      "application/vnd.jupyter.widget-view+json": {
       "model_id": "238337cae53f475486f119ce78da8768",
       "version_major": 2,
       "version_minor": 0
      },
      "text/plain": [
       "Validating: 0it [00:00, ?it/s]"
      ]
     },
     "metadata": {},
     "output_type": "display_data"
    },
    {
     "name": "stderr",
     "output_type": "stream",
     "text": [
      "Metric val_loss improved by 0.020 >= min_delta = 0.0. New best score: 1.007\n"
     ]
    },
    {
     "data": {
      "application/vnd.jupyter.widget-view+json": {
       "model_id": "db29151926de40a7b3f325c190534faa",
       "version_major": 2,
       "version_minor": 0
      },
      "text/plain": [
       "Validating: 0it [00:00, ?it/s]"
      ]
     },
     "metadata": {},
     "output_type": "display_data"
    },
    {
     "name": "stderr",
     "output_type": "stream",
     "text": [
      "Metric val_loss improved by 0.016 >= min_delta = 0.0. New best score: 0.991\n"
     ]
    },
    {
     "data": {
      "application/vnd.jupyter.widget-view+json": {
       "model_id": "695f799a612f4d53be0ff1f50a12bd43",
       "version_major": 2,
       "version_minor": 0
      },
      "text/plain": [
       "Validating: 0it [00:00, ?it/s]"
      ]
     },
     "metadata": {},
     "output_type": "display_data"
    },
    {
     "name": "stderr",
     "output_type": "stream",
     "text": [
      "Metric val_loss improved by 0.004 >= min_delta = 0.0. New best score: 0.987\n"
     ]
    },
    {
     "data": {
      "application/vnd.jupyter.widget-view+json": {
       "model_id": "6a7f3847e8af43de96cd83a0f5ba4abf",
       "version_major": 2,
       "version_minor": 0
      },
      "text/plain": [
       "Validating: 0it [00:00, ?it/s]"
      ]
     },
     "metadata": {},
     "output_type": "display_data"
    },
    {
     "name": "stderr",
     "output_type": "stream",
     "text": [
      "Metric val_loss improved by 0.001 >= min_delta = 0.0. New best score: 0.987\n"
     ]
    },
    {
     "data": {
      "application/vnd.jupyter.widget-view+json": {
       "model_id": "e1fb21f52159487985c60f66896488c9",
       "version_major": 2,
       "version_minor": 0
      },
      "text/plain": [
       "Validating: 0it [00:00, ?it/s]"
      ]
     },
     "metadata": {},
     "output_type": "display_data"
    },
    {
     "name": "stderr",
     "output_type": "stream",
     "text": [
      "Metric val_loss improved by 0.001 >= min_delta = 0.0. New best score: 0.985\n"
     ]
    },
    {
     "data": {
      "application/vnd.jupyter.widget-view+json": {
       "model_id": "5c6323d8aeba41d397d263b9223bbb90",
       "version_major": 2,
       "version_minor": 0
      },
      "text/plain": [
       "Validating: 0it [00:00, ?it/s]"
      ]
     },
     "metadata": {},
     "output_type": "display_data"
    },
    {
     "name": "stderr",
     "output_type": "stream",
     "text": [
      "Metric val_loss improved by 0.001 >= min_delta = 0.0. New best score: 0.984\n"
     ]
    },
    {
     "data": {
      "application/vnd.jupyter.widget-view+json": {
       "model_id": "b5b4ea6a1d1943b38f0acf3203ca2c32",
       "version_major": 2,
       "version_minor": 0
      },
      "text/plain": [
       "Validating: 0it [00:00, ?it/s]"
      ]
     },
     "metadata": {},
     "output_type": "display_data"
    },
    {
     "name": "stderr",
     "output_type": "stream",
     "text": [
      "Metric val_loss improved by 0.004 >= min_delta = 0.0. New best score: 0.980\n"
     ]
    },
    {
     "data": {
      "application/vnd.jupyter.widget-view+json": {
       "model_id": "06b759fa0ddb4fc8a10f559b46a47637",
       "version_major": 2,
       "version_minor": 0
      },
      "text/plain": [
       "Validating: 0it [00:00, ?it/s]"
      ]
     },
     "metadata": {},
     "output_type": "display_data"
    },
    {
     "name": "stderr",
     "output_type": "stream",
     "text": [
      "Metric val_loss improved by 0.003 >= min_delta = 0.0. New best score: 0.977\n"
     ]
    },
    {
     "data": {
      "application/vnd.jupyter.widget-view+json": {
       "model_id": "fb53fcbb72b7444584e3beae1829f8a1",
       "version_major": 2,
       "version_minor": 0
      },
      "text/plain": [
       "Validating: 0it [00:00, ?it/s]"
      ]
     },
     "metadata": {},
     "output_type": "display_data"
    },
    {
     "name": "stderr",
     "output_type": "stream",
     "text": [
      "Metric val_loss improved by 0.004 >= min_delta = 0.0. New best score: 0.973\n"
     ]
    },
    {
     "data": {
      "application/vnd.jupyter.widget-view+json": {
       "model_id": "6dd1f029ab70429f9339632ae0fc1f45",
       "version_major": 2,
       "version_minor": 0
      },
      "text/plain": [
       "Validating: 0it [00:00, ?it/s]"
      ]
     },
     "metadata": {},
     "output_type": "display_data"
    },
    {
     "name": "stderr",
     "output_type": "stream",
     "text": [
      "Metric val_loss improved by 0.004 >= min_delta = 0.0. New best score: 0.969\n"
     ]
    },
    {
     "data": {
      "application/vnd.jupyter.widget-view+json": {
       "model_id": "8e59a7b06b844bebacfc0b9fb960fc0d",
       "version_major": 2,
       "version_minor": 0
      },
      "text/plain": [
       "Validating: 0it [00:00, ?it/s]"
      ]
     },
     "metadata": {},
     "output_type": "display_data"
    },
    {
     "name": "stderr",
     "output_type": "stream",
     "text": [
      "Metric val_loss improved by 0.004 >= min_delta = 0.0. New best score: 0.965\n"
     ]
    },
    {
     "data": {
      "application/vnd.jupyter.widget-view+json": {
       "model_id": "61069e2fdba24bf6b31299f56622da6b",
       "version_major": 2,
       "version_minor": 0
      },
      "text/plain": [
       "Validating: 0it [00:00, ?it/s]"
      ]
     },
     "metadata": {},
     "output_type": "display_data"
    },
    {
     "name": "stderr",
     "output_type": "stream",
     "text": [
      "Metric val_loss improved by 0.000 >= min_delta = 0.0. New best score: 0.965\n"
     ]
    },
    {
     "data": {
      "application/vnd.jupyter.widget-view+json": {
       "model_id": "604401e95728473fbba3ada50643c9cf",
       "version_major": 2,
       "version_minor": 0
      },
      "text/plain": [
       "Validating: 0it [00:00, ?it/s]"
      ]
     },
     "metadata": {},
     "output_type": "display_data"
    },
    {
     "name": "stderr",
     "output_type": "stream",
     "text": [
      "Metric val_loss improved by 0.005 >= min_delta = 0.0. New best score: 0.959\n"
     ]
    },
    {
     "data": {
      "application/vnd.jupyter.widget-view+json": {
       "model_id": "e5646bc9c66b4108ac83c74dd0b8359c",
       "version_major": 2,
       "version_minor": 0
      },
      "text/plain": [
       "Validating: 0it [00:00, ?it/s]"
      ]
     },
     "metadata": {},
     "output_type": "display_data"
    },
    {
     "name": "stderr",
     "output_type": "stream",
     "text": [
      "Metric val_loss improved by 0.002 >= min_delta = 0.0. New best score: 0.958\n"
     ]
    },
    {
     "data": {
      "application/vnd.jupyter.widget-view+json": {
       "model_id": "9c679d346108498ea9210fd195236ddf",
       "version_major": 2,
       "version_minor": 0
      },
      "text/plain": [
       "Validating: 0it [00:00, ?it/s]"
      ]
     },
     "metadata": {},
     "output_type": "display_data"
    },
    {
     "name": "stderr",
     "output_type": "stream",
     "text": [
      "Metric val_loss improved by 0.002 >= min_delta = 0.0. New best score: 0.956\n"
     ]
    },
    {
     "data": {
      "application/vnd.jupyter.widget-view+json": {
       "model_id": "6daacc5e406d44368100db5ad3b0889f",
       "version_major": 2,
       "version_minor": 0
      },
      "text/plain": [
       "Validating: 0it [00:00, ?it/s]"
      ]
     },
     "metadata": {},
     "output_type": "display_data"
    },
    {
     "name": "stderr",
     "output_type": "stream",
     "text": [
      "Metric val_loss improved by 0.003 >= min_delta = 0.0. New best score: 0.953\n"
     ]
    },
    {
     "data": {
      "application/vnd.jupyter.widget-view+json": {
       "model_id": "2a5d92237c394275a924b9bb2df9e8fb",
       "version_major": 2,
       "version_minor": 0
      },
      "text/plain": [
       "Validating: 0it [00:00, ?it/s]"
      ]
     },
     "metadata": {},
     "output_type": "display_data"
    },
    {
     "name": "stderr",
     "output_type": "stream",
     "text": [
      "Metric val_loss improved by 0.002 >= min_delta = 0.0. New best score: 0.951\n"
     ]
    },
    {
     "data": {
      "application/vnd.jupyter.widget-view+json": {
       "model_id": "0b2dd9a1eae04e549b137cd4721b2c72",
       "version_major": 2,
       "version_minor": 0
      },
      "text/plain": [
       "Validating: 0it [00:00, ?it/s]"
      ]
     },
     "metadata": {},
     "output_type": "display_data"
    },
    {
     "name": "stderr",
     "output_type": "stream",
     "text": [
      "Metric val_loss improved by 0.002 >= min_delta = 0.0. New best score: 0.949\n"
     ]
    },
    {
     "data": {
      "application/vnd.jupyter.widget-view+json": {
       "model_id": "21c2db4f93944e2e9534c4c2b806897a",
       "version_major": 2,
       "version_minor": 0
      },
      "text/plain": [
       "Validating: 0it [00:00, ?it/s]"
      ]
     },
     "metadata": {},
     "output_type": "display_data"
    },
    {
     "name": "stderr",
     "output_type": "stream",
     "text": [
      "Metric val_loss improved by 0.002 >= min_delta = 0.0. New best score: 0.947\n"
     ]
    },
    {
     "data": {
      "application/vnd.jupyter.widget-view+json": {
       "model_id": "cf3ffed5666c4487ab9c3230c1fb71e6",
       "version_major": 2,
       "version_minor": 0
      },
      "text/plain": [
       "Validating: 0it [00:00, ?it/s]"
      ]
     },
     "metadata": {},
     "output_type": "display_data"
    },
    {
     "data": {
      "application/vnd.jupyter.widget-view+json": {
       "model_id": "d95bdd5ed365478d8b58396ec976f439",
       "version_major": 2,
       "version_minor": 0
      },
      "text/plain": [
       "Validating: 0it [00:00, ?it/s]"
      ]
     },
     "metadata": {},
     "output_type": "display_data"
    },
    {
     "name": "stderr",
     "output_type": "stream",
     "text": [
      "Metric val_loss improved by 0.003 >= min_delta = 0.0. New best score: 0.944\n"
     ]
    },
    {
     "data": {
      "application/vnd.jupyter.widget-view+json": {
       "model_id": "bb8a76b829024b51b33abd81e13ca0a9",
       "version_major": 2,
       "version_minor": 0
      },
      "text/plain": [
       "Validating: 0it [00:00, ?it/s]"
      ]
     },
     "metadata": {},
     "output_type": "display_data"
    },
    {
     "data": {
      "application/vnd.jupyter.widget-view+json": {
       "model_id": "4d0bfa0ddd2c47749fd0b592d692e890",
       "version_major": 2,
       "version_minor": 0
      },
      "text/plain": [
       "Validating: 0it [00:00, ?it/s]"
      ]
     },
     "metadata": {},
     "output_type": "display_data"
    },
    {
     "data": {
      "application/vnd.jupyter.widget-view+json": {
       "model_id": "795eccf40c3f49838e7f7845c5529f5c",
       "version_major": 2,
       "version_minor": 0
      },
      "text/plain": [
       "Validating: 0it [00:00, ?it/s]"
      ]
     },
     "metadata": {},
     "output_type": "display_data"
    },
    {
     "name": "stderr",
     "output_type": "stream",
     "text": [
      "Monitored metric val_loss did not improve in the last 3 records. Best score: 0.944. Signaling Trainer to stop.\n",
      "GPU available: False, used: False\n",
      "TPU available: False, using: 0 TPU cores\n",
      "IPU available: False, using: 0 IPUs\n",
      "GPU available: False, used: False\n",
      "TPU available: False, using: 0 TPU cores\n",
      "IPU available: False, using: 0 IPUs\n"
     ]
    },
    {
     "name": "stdout",
     "output_type": "stream",
     "text": [
      "No transforms given, assuming just need to tensorize).\n",
      "No transforms given, assuming just need to tensorize).\n"
     ]
    },
    {
     "data": {
      "application/vnd.jupyter.widget-view+json": {
       "model_id": "16ed11dad7164853bb75292c445662f0",
       "version_major": 2,
       "version_minor": 0
      },
      "text/plain": [
       "Predicting: 0it [00:00, ?it/s]"
      ]
     },
     "metadata": {},
     "output_type": "display_data"
    },
    {
     "data": {
      "application/vnd.jupyter.widget-view+json": {
       "model_id": "e011f777242e48b7bea4af5dc45a0c81",
       "version_major": 2,
       "version_minor": 0
      },
      "text/plain": [
       "Predicting: 0it [00:00, ?it/s]"
      ]
     },
     "metadata": {},
     "output_type": "display_data"
    },
    {
     "name": "stdout",
     "output_type": "stream",
     "text": [
      "SeqData object modified:\n",
      "    seqs_annot:\n",
      "        + RNCMPT00005_predictions_ST\n"
     ]
    }
   ],
   "source": [
    "# Train a model on each target prediction!\n",
    "for i, target_col in enumerate(target_cols_ST[:5]):\n",
    "    print(f\"Training DeepBind SingleTask model on {target_col}\")\n",
    "\n",
    "    # Initialize the model\n",
    "    model = prep_new_model(seed=i, conv_dropout=0.5, fc_dropout=0.5, batchnorm=True)\n",
    "\n",
    "    # Train the model\n",
    "    eu.train.fit(\n",
    "        model=model, \n",
    "        sdata=sdata_training_ST, \n",
    "        #gpus=1, \n",
    "        target=target_col,\n",
    "        train_key=\"train_val\",\n",
    "        #epochs=5,\n",
    "        epochs=50,\n",
    "        early_stopping_metric=\"val_loss\",\n",
    "        early_stopping_patience=3,\n",
    "        batch_size=64,\n",
    "        num_workers=4,\n",
    "        name=\"DeepBind_ST\",\n",
    "        seed=i,\n",
    "        version=target_col,\n",
    "        verbosity=logging.ERROR\n",
    "    )\n",
    "    \n",
    "    # Get predictions on the training data\n",
    "    eu.settings.dl_num_workers = 0\n",
    "    eu.predict.train_val_predictions(\n",
    "        model,\n",
    "        sdata=sdata_training_ST, \n",
    "        target=target_col,\n",
    "        train_key=\"train_val\",\n",
    "        name=\"DeepBind_ST\",\n",
    "        suffix=\"_ST\",\n",
    "        version=target_col\n",
    "    )\n",
    "    del model \n",
    "sdata_training_ST.write_h5sd(os.path.join(eu.settings.output_dir, \"DeepBind_ST\", \"norm_training_predictions_ST.h5sd\"))"
   ]
  },
  {
   "cell_type": "markdown",
   "metadata": {},
   "source": [
    "# Train multi-task model"
   ]
  },
  {
   "cell_type": "code",
   "execution_count": 17,
   "id": "af2abef1",
   "metadata": {},
   "outputs": [],
   "source": [
    "# Define the version for saving\n",
    "model_version = 0"
   ]
  },
  {
   "cell_type": "code",
   "execution_count": 18,
   "id": "1ffd6106",
   "metadata": {},
   "outputs": [
    {
     "name": "stdout",
     "output_type": "stream",
     "text": [
      "Model: DeepBind\n",
      "Input length: 41\n",
      "Output dimension: 233\n",
      "Strand: ss\n",
      "Task: regression\n",
      "Aggregation: None\n",
      "Loss function: mse_loss\n",
      "Optimizer: sgd\n",
      "\tOptimizer parameters: {}\n",
      "Learning rate: 0.0005\n",
      "Scheduler: lr_scheduler\n",
      "Scheduler patience: 3\n"
     ]
    },
    {
     "data": {
      "text/plain": [
       "  | Name      | Type                      | Params\n",
       "--------------------------------------------------------\n",
       "0 | hp_metric | R2Score                   | 0     \n",
       "1 | max_pool  | MaxPool1d                 | 0     \n",
       "2 | convnet   | BasicConv1D               | 34.3 K\n",
       "3 | fcn       | BasicFullyConnectedModule | 1.9 M \n",
       "--------------------------------------------------------\n",
       "2.0 M     Trainable params\n",
       "0         Non-trainable params\n",
       "2.0 M     Total params\n",
       "7.921     Total estimated model params size (MB)"
      ]
     },
     "execution_count": 18,
     "metadata": {},
     "output_type": "execute_result"
    }
   ],
   "source": [
    "# Instantiate the model\n",
    "conv_dropout = 0.5\n",
    "fc_dropout = 0.5\n",
    "batchnorm = True\n",
    "model = eu.models.DeepBind(\n",
    "    input_len=41, # Length of padded sequences\n",
    "    output_dim=len(target_cols_MT), # Number of multitask outputs\n",
    "    strand=\"ss\",\n",
    "    task=\"regression\",\n",
    "    optimizer=\"sgd\",\n",
    "    lr=0.0005,\n",
    "    scheduler_patience=3,\n",
    "    conv_kwargs=dict(channels=[4, 512], conv_kernels=[16], dropout_rates=conv_dropout, batchnorm=batchnorm),\n",
    "    mp_kwargs=dict(kernel_size=8),\n",
    "    fc_kwargs=dict(hidden_dims=[1024], dropout_rate=fc_dropout, batchnorm=batchnorm)\n",
    ")\n",
    "model.summary()"
   ]
  },
  {
   "cell_type": "code",
   "execution_count": 19,
   "id": "fa423507",
   "metadata": {},
   "outputs": [
    {
     "name": "stderr",
     "output_type": "stream",
     "text": [
      "Global seed set to 4\n",
      "GPU available: False, used: False\n",
      "TPU available: False, using: 0 TPU cores\n",
      "IPU available: False, using: 0 IPUs\n",
      "\n",
      "  | Name      | Type                      | Params\n",
      "--------------------------------------------------------\n",
      "0 | hp_metric | R2Score                   | 0     \n",
      "1 | max_pool  | MaxPool1d                 | 0     \n",
      "2 | convnet   | BasicConv1D               | 34.3 K\n",
      "3 | fcn       | BasicFullyConnectedModule | 1.9 M \n",
      "--------------------------------------------------------\n",
      "2.0 M     Trainable params\n",
      "0         Non-trainable params\n",
      "2.0 M     Total params\n",
      "7.921     Total estimated model params size (MB)\n"
     ]
    },
    {
     "name": "stdout",
     "output_type": "stream",
     "text": [
      "Dropping 0 sequences with NaN targets.\n",
      "No transforms given, assuming just need to tensorize).\n",
      "No transforms given, assuming just need to tensorize).\n"
     ]
    },
    {
     "data": {
      "application/vnd.jupyter.widget-view+json": {
       "model_id": "a47705cba4614d199d94c7d30e8ad14d",
       "version_major": 2,
       "version_minor": 0
      },
      "text/plain": [
       "Validation sanity check: 0it [00:00, ?it/s]"
      ]
     },
     "metadata": {},
     "output_type": "display_data"
    },
    {
     "name": "stderr",
     "output_type": "stream",
     "text": [
      "Global seed set to 4\n",
      "/home/vscode/.local/lib/python3.7/site-packages/pytorch_lightning/trainer/data_loading.py:433: UserWarning: The number of training samples (2) is smaller than the logging interval Trainer(log_every_n_steps=50). Set a lower value for log_every_n_steps if you want to see logs for the training epoch.\n",
      "  f\"The number of training samples ({self.num_training_batches}) is smaller than the logging interval\"\n"
     ]
    },
    {
     "data": {
      "application/vnd.jupyter.widget-view+json": {
       "model_id": "37ecfba32e974bfdad5f5aadc167850a",
       "version_major": 2,
       "version_minor": 0
      },
      "text/plain": [
       "Training: 0it [00:00, ?it/s]"
      ]
     },
     "metadata": {},
     "output_type": "display_data"
    },
    {
     "data": {
      "application/vnd.jupyter.widget-view+json": {
       "model_id": "e89f9426eb9247b8bd1af88b02ba4edb",
       "version_major": 2,
       "version_minor": 0
      },
      "text/plain": [
       "Validating: 0it [00:00, ?it/s]"
      ]
     },
     "metadata": {},
     "output_type": "display_data"
    },
    {
     "name": "stderr",
     "output_type": "stream",
     "text": [
      "Metric val_loss improved. New best score: 1.059\n"
     ]
    },
    {
     "data": {
      "application/vnd.jupyter.widget-view+json": {
       "model_id": "23f7941279394801bbac0f8b6704ef52",
       "version_major": 2,
       "version_minor": 0
      },
      "text/plain": [
       "Validating: 0it [00:00, ?it/s]"
      ]
     },
     "metadata": {},
     "output_type": "display_data"
    },
    {
     "data": {
      "application/vnd.jupyter.widget-view+json": {
       "model_id": "e01dbf79032249c88653d321ab924798",
       "version_major": 2,
       "version_minor": 0
      },
      "text/plain": [
       "Validating: 0it [00:00, ?it/s]"
      ]
     },
     "metadata": {},
     "output_type": "display_data"
    },
    {
     "data": {
      "application/vnd.jupyter.widget-view+json": {
       "model_id": "76d193c60f9b420f828fbf97b8121d05",
       "version_major": 2,
       "version_minor": 0
      },
      "text/plain": [
       "Validating: 0it [00:00, ?it/s]"
      ]
     },
     "metadata": {},
     "output_type": "display_data"
    },
    {
     "data": {
      "application/vnd.jupyter.widget-view+json": {
       "model_id": "4e5acf49693e4e0c919fe89e85407d9a",
       "version_major": 2,
       "version_minor": 0
      },
      "text/plain": [
       "Validating: 0it [00:00, ?it/s]"
      ]
     },
     "metadata": {},
     "output_type": "display_data"
    },
    {
     "data": {
      "application/vnd.jupyter.widget-view+json": {
       "model_id": "a25f919423614feabca55b0eb3dea3a9",
       "version_major": 2,
       "version_minor": 0
      },
      "text/plain": [
       "Validating: 0it [00:00, ?it/s]"
      ]
     },
     "metadata": {},
     "output_type": "display_data"
    },
    {
     "name": "stderr",
     "output_type": "stream",
     "text": [
      "Monitored metric val_loss did not improve in the last 5 records. Best score: 1.059. Signaling Trainer to stop.\n",
      "GPU available: False, used: False\n",
      "TPU available: False, using: 0 TPU cores\n",
      "IPU available: False, using: 0 IPUs\n",
      "GPU available: False, used: False\n",
      "TPU available: False, using: 0 TPU cores\n",
      "IPU available: False, using: 0 IPUs\n"
     ]
    },
    {
     "name": "stdout",
     "output_type": "stream",
     "text": [
      "No transforms given, assuming just need to tensorize).\n",
      "No transforms given, assuming just need to tensorize).\n"
     ]
    },
    {
     "name": "stderr",
     "output_type": "stream",
     "text": [
      "/home/vscode/.local/lib/python3.7/site-packages/pytorch_lightning/trainer/data_loading.py:133: UserWarning: The dataloader, predict_dataloader 0, does not have many workers which may be a bottleneck. Consider increasing the value of the `num_workers` argument` (try 4 which is the number of cpus on this machine) in the `DataLoader` init to improve performance.\n",
      "  f\"The dataloader, {name}, does not have many workers which may be a bottleneck.\"\n"
     ]
    },
    {
     "data": {
      "application/vnd.jupyter.widget-view+json": {
       "model_id": "c675288a1a644aca991aa7982ccb7120",
       "version_major": 2,
       "version_minor": 0
      },
      "text/plain": [
       "Predicting: 0it [00:00, ?it/s]"
      ]
     },
     "metadata": {},
     "output_type": "display_data"
    },
    {
     "data": {
      "application/vnd.jupyter.widget-view+json": {
       "model_id": "356d12049cd2425092d5b35d92b1fb5a",
       "version_major": 2,
       "version_minor": 0
      },
      "text/plain": [
       "Predicting: 0it [00:00, ?it/s]"
      ]
     },
     "metadata": {},
     "output_type": "display_data"
    },
    {
     "name": "stderr",
     "output_type": "stream",
     "text": [
      "/home/vscode/.local/lib/python3.7/site-packages/pandas/core/frame.py:3641: PerformanceWarning: DataFrame is highly fragmented.  This is usually the result of calling `frame.insert` many times, which has poor performance.  Consider joining all columns at once using pd.concat(axis=1) instead.  To get a de-fragmented frame, use `newframe = frame.copy()`\n",
      "  self[k1] = value[k2]\n"
     ]
    },
    {
     "name": "stdout",
     "output_type": "stream",
     "text": [
      "SeqData object modified:\n",
      "    seqs_annot:\n",
      "        + RNCMPT00087_predictions_MT, RNCMPT00150_predictions_MT, RNCMPT00203_predictions_MT, RNCMPT00209_predictions_MT, RNCMPT00157_predictions_MT, RNCMPT00014_predictions_MT, RNCMPT00003_predictions_MT, RNCMPT00006_predictions_MT, RNCMPT00285_predictions_MT, RNCMPT00226_predictions_MT, RNCMPT00235_predictions_MT, RNCMPT00272_predictions_MT, RNCMPT00249_predictions_MT, RNCMPT00163_predictions_MT, RNCMPT00018_predictions_MT, RNCMPT00011_predictions_MT, RNCMPT00081_predictions_MT, RNCMPT00284_predictions_MT, RNCMPT00147_predictions_MT, RNCMPT00273_predictions_MT, RNCMPT00064_predictions_MT, RNCMPT00149_predictions_MT, RNCMPT00114_predictions_MT, RNCMPT00085_predictions_MT, RNCMPT00088_predictions_MT, RNCMPT00202_predictions_MT, RNCMPT00063_predictions_MT, RNCMPT00113_predictions_MT, RNCMPT00103_predictions_MT, RNCMPT00289_predictions_MT, RNCMPT00223_predictions_MT, RNCMPT00229_predictions_MT, RNCMPT00241_predictions_MT, RNCMPT00184_predictions_MT, RNCMPT00082_predictions_MT, RNCMPT00036_predictions_MT, RNCMPT00177_predictions_MT, RNCMPT00093_predictions_MT, RNCMPT00232_predictions_MT, RNCMPT00220_predictions_MT, RNCMPT00007_predictions_MT, RNCMPT00005_predictions_MT, RNCMPT00056_predictions_MT, RNCMPT00089_predictions_MT, RNCMPT00055_predictions_MT, RNCMPT00042_predictions_MT, RNCMPT00121_predictions_MT, RNCMPT00010_predictions_MT, RNCMPT00077_predictions_MT, RNCMPT00065_predictions_MT, RNCMPT00178_predictions_MT, RNCMPT00116_predictions_MT, RNCMPT00024_predictions_MT, RNCMPT00016_predictions_MT, RNCMPT00073_predictions_MT, RNCMPT00162_predictions_MT, RNCMPT00175_predictions_MT, RNCMPT00131_predictions_MT, RNCMPT00080_predictions_MT, RNCMPT00001_predictions_MT, RNCMPT00258_predictions_MT, RNCMPT00034_predictions_MT, RNCMPT00141_predictions_MT, RNCMPT00183_predictions_MT, RNCMPT00160_predictions_MT, RNCMPT00151_predictions_MT, RNCMPT00118_predictions_MT, RNCMPT00023_predictions_MT, RNCMPT00029_predictions_MT, RNCMPT00167_predictions_MT, RNCMPT00280_predictions_MT, RNCMPT00105_predictions_MT, RNCMPT00123_predictions_MT, RNCMPT00122_predictions_MT, RNCMPT00288_predictions_MT, RNCMPT00200_predictions_MT, RNCMPT00169_predictions_MT, RNCMPT00283_predictions_MT, RNCMPT00026_predictions_MT, RNCMPT00074_predictions_MT, RNCMPT00248_predictions_MT, RNCMPT00238_predictions_MT, RNCMPT00031_predictions_MT, RNCMPT00171_predictions_MT, RNCMPT00252_predictions_MT, RNCMPT00256_predictions_MT, RNCMPT00044_predictions_MT, RNCMPT00068_predictions_MT, RNCMPT00240_predictions_MT, RNCMPT00101_predictions_MT, RNCMPT00270_predictions_MT, RNCMPT00109_predictions_MT, RNCMPT00100_predictions_MT, RNCMPT00084_predictions_MT, RNCMPT00251_predictions_MT, RNCMPT00057_predictions_MT, RNCMPT00017_predictions_MT, RNCMPT00013_predictions_MT, RNCMPT00282_predictions_MT, RNCMPT00035_predictions_MT, RNCMPT00022_predictions_MT, RNCMPT00279_predictions_MT, RNCMPT00159_predictions_MT, RNCMPT00206_predictions_MT, RNCMPT00142_predictions_MT, RNCMPT00174_predictions_MT, RNCMPT00140_predictions_MT, RNCMPT00095_predictions_MT, RNCMPT00146_predictions_MT, RNCMPT00265_predictions_MT, RNCMPT00090_predictions_MT, RNCMPT00040_predictions_MT, RNCMPT00168_predictions_MT, RNCMPT00137_predictions_MT, RNCMPT00127_predictions_MT, RNCMPT00107_predictions_MT, RNCMPT00219_predictions_MT, RNCMPT00102_predictions_MT, RNCMPT00133_predictions_MT, RNCMPT00094_predictions_MT, RNCMPT00070_predictions_MT, RNCMPT00112_predictions_MT, RNCMPT00083_predictions_MT, RNCMPT00237_predictions_MT, RNCMPT00212_predictions_MT, RNCMPT00181_predictions_MT, RNCMPT00182_predictions_MT, RNCMPT00180_predictions_MT, RNCMPT00262_predictions_MT, RNCMPT00158_predictions_MT, RNCMPT00155_predictions_MT, RNCMPT00099_predictions_MT, RNCMPT00047_predictions_MT, RNCMPT00218_predictions_MT, RNCMPT00041_predictions_MT, RNCMPT00134_predictions_MT, RNCMPT00255_predictions_MT, RNCMPT00143_predictions_MT, RNCMPT00234_predictions_MT, RNCMPT00072_predictions_MT, RNCMPT00032_predictions_MT, RNCMPT00161_predictions_MT, RNCMPT00049_predictions_MT, RNCMPT00236_predictions_MT, RNCMPT00268_predictions_MT, RNCMPT00170_predictions_MT, RNCMPT00054_predictions_MT, RNCMPT00246_predictions_MT, RNCMPT00261_predictions_MT, RNCMPT00228_predictions_MT, RNCMPT00075_predictions_MT, RNCMPT00173_predictions_MT, RNCMPT00043_predictions_MT, RNCMPT00096_predictions_MT, RNCMPT00257_predictions_MT, RNCMPT00050_predictions_MT, RNCMPT00186_predictions_MT, RNCMPT00274_predictions_MT, RNCMPT00197_predictions_MT, RNCMPT00224_predictions_MT, RNCMPT00108_predictions_MT, RNCMPT00046_predictions_MT, RNCMPT00152_predictions_MT, RNCMPT00067_predictions_MT, RNCMPT00165_predictions_MT, RNCMPT00021_predictions_MT, RNCMPT00172_predictions_MT, RNCMPT00004_predictions_MT, RNCMPT00012_predictions_MT, RNCMPT00217_predictions_MT, RNCMPT00062_predictions_MT, RNCMPT00120_predictions_MT, RNCMPT00239_predictions_MT, RNCMPT00037_predictions_MT, RNCMPT00124_predictions_MT, RNCMPT00086_predictions_MT, RNCMPT00045_predictions_MT, RNCMPT00259_predictions_MT, RNCMPT00176_predictions_MT, RNCMPT00071_predictions_MT, RNCMPT00148_predictions_MT, RNCMPT00185_predictions_MT, RNCMPT00119_predictions_MT, RNCMPT00079_predictions_MT, RNCMPT00051_predictions_MT, RNCMPT00027_predictions_MT, RNCMPT00253_predictions_MT, RNCMPT00156_predictions_MT, RNCMPT00179_predictions_MT, RNCMPT00205_predictions_MT, RNCMPT00216_predictions_MT, RNCMPT00291_predictions_MT, RNCMPT00153_predictions_MT, RNCMPT00025_predictions_MT, RNCMPT00225_predictions_MT, RNCMPT00126_predictions_MT, RNCMPT00136_predictions_MT, RNCMPT00020_predictions_MT, RNCMPT00076_predictions_MT, RNCMPT00110_predictions_MT, RNCMPT00269_predictions_MT, RNCMPT00132_predictions_MT, RNCMPT00215_predictions_MT, RNCMPT00019_predictions_MT, RNCMPT00199_predictions_MT, RNCMPT00002_predictions_MT, RNCMPT00278_predictions_MT, RNCMPT00287_predictions_MT, RNCMPT00053_predictions_MT, RNCMPT00028_predictions_MT, RNCMPT00166_predictions_MT, RNCMPT00187_predictions_MT, RNCMPT00230_predictions_MT, RNCMPT00066_predictions_MT, RNCMPT00104_predictions_MT, RNCMPT00164_predictions_MT, RNCMPT00069_predictions_MT, RNCMPT00038_predictions_MT, RNCMPT00281_predictions_MT, RNCMPT00111_predictions_MT, RNCMPT00263_predictions_MT, RNCMPT00091_predictions_MT, RNCMPT00138_predictions_MT, RNCMPT00245_predictions_MT, RNCMPT00254_predictions_MT, RNCMPT00117_predictions_MT, RNCMPT00139_predictions_MT, RNCMPT00033_predictions_MT, RNCMPT00052_predictions_MT, RNCMPT00059_predictions_MT, RNCMPT00039_predictions_MT, RNCMPT00106_predictions_MT, RNCMPT00078_predictions_MT\n"
     ]
    }
   ],
   "source": [
    "# Train the model\n",
    "eu.train.fit(\n",
    "    model=model,\n",
    "    sdata=sdata_training_MT,\n",
    "    #gpus=1,\n",
    "    target=target_cols_MT,\n",
    "    train_key=\"train_val\",\n",
    "    #epochs=5,\n",
    "    epochs=50,\n",
    "    early_stopping_metric=\"val_loss\",\n",
    "    early_stopping_patience=5,\n",
    "    batch_size=64,\n",
    "    num_workers=4,\n",
    "    name=\"DeepBind_MT\",\n",
    "    seed=i,\n",
    "    version=f\"v{model_version}\",\n",
    "    verbosity=logging.ERROR\n",
    ")\n",
    "# Get predictions on the training data\n",
    "eu.settings.dl_num_workers = 0\n",
    "eu.predict.train_val_predictions(\n",
    "    model,\n",
    "    sdata=sdata_training_MT, \n",
    "    target=target_cols_MT,\n",
    "    train_key=\"train_val\",\n",
    "    name=\"DeepBind_MT\",\n",
    "    suffix=\"_MT\",\n",
    "    version=f\"v{model_version}\"\n",
    ")"
   ]
  },
  {
   "cell_type": "code",
   "execution_count": 20,
   "metadata": {},
   "outputs": [],
   "source": [
    "# Move on to the next model version if training multiple\n",
    "model_version = model_version + 1"
   ]
  },
  {
   "cell_type": "code",
   "execution_count": 21,
   "id": "ac2113ce",
   "metadata": {},
   "outputs": [],
   "source": [
    "# Save the predictions!\n",
    "sdata_training_MT.write_h5sd(os.path.join(eu.settings.output_dir, \"DeepBind_MT\", f\"norm_training_predictions_MT_v{model_version}.h5sd\"))"
   ]
  },
  {
   "cell_type": "markdown",
   "metadata": {},
   "source": [
    "---"
   ]
  },
  {
   "cell_type": "markdown",
   "metadata": {},
   "source": [
    "# Scratch"
   ]
  },
  {
   "cell_type": "code",
   "execution_count": null,
   "metadata": {},
   "outputs": [],
   "source": [
    "# Test conv kernel initialization, this needs a fix!\n",
    "cnn = prep_new_model(seed=0, arch=\"CNN\", config=os.path.join(eu.settings.config_dir, \"ssCNN.yaml\"))\n",
    "jores = prep_new_model(seed=0, arch=\"Jores21CNN\", config=os.path.join(eu.settings.config_dir, \"Jores21CNN.yaml\"))\n",
    "torch.all(cnn.convnet.module[0].weight[0] == jores.biconv.kernels[0][0])"
   ]
  }
 ],
 "metadata": {
  "kernelspec": {
   "display_name": "Python 3.7.13 64-bit",
   "language": "python",
   "name": "python3"
  },
  "language_info": {
   "codemirror_mode": {
    "name": "ipython",
    "version": 3
   },
   "file_extension": ".py",
   "mimetype": "text/x-python",
   "name": "python",
   "nbconvert_exporter": "python",
   "pygments_lexer": "ipython3",
   "version": "3.7.13"
  },
  "vscode": {
   "interpreter": {
    "hash": "949777d72b0d2535278d3dc13498b2535136f6dfe0678499012e853ee9abcab1"
   }
  }
 },
 "nbformat": 4,
 "nbformat_minor": 4
}

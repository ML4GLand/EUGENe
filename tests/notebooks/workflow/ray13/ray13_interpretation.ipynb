{
 "cells": [
  {
   "cell_type": "markdown",
   "metadata": {},
   "source": [
    "# Ray et al 2013 Intepretation\n",
    "**Authorship:**\n",
    "Adam Klie, *09/03/2022*\n",
    "***\n",
    "**Description:**\n",
    "Notebook to interpret the trained models on the Ray et al dataset.\n",
    "***"
   ]
  },
  {
   "cell_type": "code",
   "execution_count": 1,
   "metadata": {},
   "outputs": [
    {
     "name": "stderr",
     "output_type": "stream",
     "text": [
      "Global seed set to 13\n",
      "2022-09-04 21:35:15.724443: W tensorflow/stream_executor/platform/default/dso_loader.cc:64] Could not load dynamic library 'libcudart.so.11.0'; dlerror: libcudart.so.11.0: cannot open shared object file: No such file or directory\n",
      "2022-09-04 21:35:15.724493: I tensorflow/stream_executor/cuda/cudart_stub.cc:29] Ignore above cudart dlerror if you do not have a GPU set up on your machine.\n",
      "/workspaces/EUGENe/eugene/external/kipoi_veff/seqplotting_deps.py:36: FutureWarning: arrays to stack must be passed as a \"sequence\" type such as list or tuple. Support for non-sequence iterables such as generators is deprecated as of NumPy 1.16 and will raise an error in the future.\n",
      "  min_coords = np.vstack(data.min(0) for data in polygons_data).min(0)\n",
      "/workspaces/EUGENe/eugene/external/kipoi_veff/seqplotting_deps.py:37: FutureWarning: arrays to stack must be passed as a \"sequence\" type such as list or tuple. Support for non-sequence iterables such as generators is deprecated as of NumPy 1.16 and will raise an error in the future.\n",
      "  max_coords = np.vstack(data.max(0) for data in polygons_data).max(0)\n"
     ]
    },
    {
     "name": "stdout",
     "output_type": "stream",
     "text": [
      "Already up to date.\n"
     ]
    }
   ],
   "source": [
    "if 'autoreload' not in get_ipython().extension_manager.loaded:\n",
    "    %load_ext autoreload\n",
    "%autoreload 2\n",
    "\n",
    "import os\n",
    "import glob\n",
    "import logging\n",
    "import torch\n",
    "import numpy as np\n",
    "import pandas as pd\n",
    "import eugene as eu\n",
    "import matplotlib.pyplot as plt\n",
    "import matplotlib\n",
    "\n",
    "matplotlib.rcParams['pdf.fonttype'] = 42\n",
    "matplotlib.rcParams['ps.fonttype'] = 42"
   ]
  },
  {
   "cell_type": "code",
   "execution_count": 14,
   "metadata": {},
   "outputs": [],
   "source": [
    "eu.settings.dataset_dir = \"../../../_datasets/ray13\"\n",
    "eu.settings.output_dir = \"../../../_output/ray13\"\n",
    "eu.settings.logging_dir = \"../../../_logs/ray13\"\n",
    "eu.settings.config_dir = \"../../../_configs/ray13\"\n",
    "figure_dir = \"../../../_figures/ray13\"\n",
    "eu.settings.verbosity = logging.ERROR"
   ]
  },
  {
   "cell_type": "markdown",
   "metadata": {},
   "source": [
    "# Load the test `SeqData`"
   ]
  },
  {
   "cell_type": "code",
   "execution_count": 22,
   "metadata": {},
   "outputs": [
    {
     "data": {
      "text/plain": [
       "Index(['Probe_Set', 'RNCMPT00001', 'RNCMPT00001_predictions_MT',\n",
       "       'RNCMPT00001_predictions_ST', 'RNCMPT00001_predictions_kipoi'],\n",
       "      dtype='object')"
      ]
     },
     "execution_count": 22,
     "metadata": {},
     "output_type": "execute_result"
    }
   ],
   "source": [
    "sdata_test = eu.dl.read_h5sd(os.path.join(eu.settings.output_dir, \"norm_test_predictions.h5sd\"))\n",
    "target_mask = sdata_test.seqs_annot.columns.str.contains(\"RNCMPT\") & ~sdata_test.seqs_annot.columns.str.contains(\"ST|MT|kipoi\")\n",
    "target_cols = sdata_test.seqs_annot.columns[target_mask]\n",
    "sdata_test.seqs_annot.columns[:5]"
   ]
  },
  {
   "cell_type": "markdown",
   "metadata": {},
   "source": [
    "# Feature Attribution"
   ]
  },
  {
   "cell_type": "markdown",
   "metadata": {},
   "source": [
    "## Single task models"
   ]
  },
  {
   "cell_type": "code",
   "execution_count": 23,
   "metadata": {},
   "outputs": [
    {
     "name": "stdout",
     "output_type": "stream",
     "text": [
      "Testing DeepBind SingleTask model on RNCMPT00001\n",
      "No transforms given, assuming just need to tensorize).\n"
     ]
    },
    {
     "data": {
      "application/vnd.jupyter.widget-view+json": {
       "model_id": "d6ed86e6619042b5a262b55b514c6e71",
       "version_major": 2,
       "version_minor": 0
      },
      "text/plain": [
       "Computing saliency on batches: 0it [00:00, ?it/s]"
      ]
     },
     "metadata": {},
     "output_type": "display_data"
    },
    {
     "name": "stdout",
     "output_type": "stream",
     "text": [
      "Testing DeepBind SingleTask model on RNCMPT00002\n",
      "No transforms given, assuming just need to tensorize).\n"
     ]
    },
    {
     "data": {
      "application/vnd.jupyter.widget-view+json": {
       "model_id": "65278c6ec66a45e0a34277e8def9e680",
       "version_major": 2,
       "version_minor": 0
      },
      "text/plain": [
       "Computing saliency on batches: 0it [00:00, ?it/s]"
      ]
     },
     "metadata": {},
     "output_type": "display_data"
    },
    {
     "name": "stdout",
     "output_type": "stream",
     "text": [
      "Testing DeepBind SingleTask model on RNCMPT00003\n",
      "No transforms given, assuming just need to tensorize).\n"
     ]
    },
    {
     "data": {
      "application/vnd.jupyter.widget-view+json": {
       "model_id": "ebe13803a4ea4b1b8d283146b5aedd37",
       "version_major": 2,
       "version_minor": 0
      },
      "text/plain": [
       "Computing saliency on batches: 0it [00:00, ?it/s]"
      ]
     },
     "metadata": {},
     "output_type": "display_data"
    },
    {
     "name": "stdout",
     "output_type": "stream",
     "text": [
      "Testing DeepBind SingleTask model on RNCMPT00004\n",
      "No transforms given, assuming just need to tensorize).\n"
     ]
    },
    {
     "data": {
      "application/vnd.jupyter.widget-view+json": {
       "model_id": "27b57bc168b440e892bbe7e7bb566839",
       "version_major": 2,
       "version_minor": 0
      },
      "text/plain": [
       "Computing saliency on batches: 0it [00:00, ?it/s]"
      ]
     },
     "metadata": {},
     "output_type": "display_data"
    },
    {
     "name": "stdout",
     "output_type": "stream",
     "text": [
      "Testing DeepBind SingleTask model on RNCMPT00005\n",
      "No transforms given, assuming just need to tensorize).\n"
     ]
    },
    {
     "data": {
      "application/vnd.jupyter.widget-view+json": {
       "model_id": "f53a3cdb737f428199616f68e51772c7",
       "version_major": 2,
       "version_minor": 0
      },
      "text/plain": [
       "Computing saliency on batches: 0it [00:00, ?it/s]"
      ]
     },
     "metadata": {},
     "output_type": "display_data"
    }
   ],
   "source": [
    "for i, target_col in enumerate(target_cols[:5]):\n",
    "    print(f\"Testing DeepBind SingleTask model on {target_col}\")\n",
    "    model_file = glob.glob(os.path.join(eu.settings.logging_dir, \"DeepBind_ST\", target_col, \"checkpoints\", \"*\"))[0]\n",
    "    model = eu.models.DeepBind.load_from_checkpoint(model_file)\n",
    "    eu.interpret.feature_attribution(\n",
    "        model,\n",
    "        sdata_test,\n",
    "        saliency_method=\"InputXGradient\",\n",
    "        suffix=f\"_{target_col}_ST\"\n",
    "    )"
   ]
  },
  {
   "cell_type": "markdown",
   "metadata": {},
   "source": [
    "## Multi-task"
   ]
  },
  {
   "cell_type": "code",
   "execution_count": 49,
   "metadata": {},
   "outputs": [
    {
     "name": "stdout",
     "output_type": "stream",
     "text": [
      "Testing DeepBind MultiTask model on RNCMPT00001\n",
      "No transforms given, assuming just need to tensorize).\n"
     ]
    },
    {
     "data": {
      "application/vnd.jupyter.widget-view+json": {
       "model_id": "786b02a65e0d4c6cb4e4b9dee0c36870",
       "version_major": 2,
       "version_minor": 0
      },
      "text/plain": [
       "Computing saliency on batches: 0it [00:00, ?it/s]"
      ]
     },
     "metadata": {},
     "output_type": "display_data"
    },
    {
     "name": "stdout",
     "output_type": "stream",
     "text": [
      "No transforms given, assuming just need to tensorize).\n"
     ]
    },
    {
     "data": {
      "application/vnd.jupyter.widget-view+json": {
       "model_id": "c466b736dd824f36b30919ee9a7a5a57",
       "version_major": 2,
       "version_minor": 0
      },
      "text/plain": [
       "Computing saliency on batches: 0it [00:00, ?it/s]"
      ]
     },
     "metadata": {},
     "output_type": "display_data"
    },
    {
     "name": "stdout",
     "output_type": "stream",
     "text": [
      "No transforms given, assuming just need to tensorize).\n"
     ]
    },
    {
     "data": {
      "application/vnd.jupyter.widget-view+json": {
       "model_id": "74254f732c314a9b80b57600f9164c52",
       "version_major": 2,
       "version_minor": 0
      },
      "text/plain": [
       "Computing saliency on batches: 0it [00:00, ?it/s]"
      ]
     },
     "metadata": {},
     "output_type": "display_data"
    },
    {
     "name": "stdout",
     "output_type": "stream",
     "text": [
      "No transforms given, assuming just need to tensorize).\n"
     ]
    },
    {
     "data": {
      "application/vnd.jupyter.widget-view+json": {
       "model_id": "205ca36a37644665b39c70640a316745",
       "version_major": 2,
       "version_minor": 0
      },
      "text/plain": [
       "Computing saliency on batches: 0it [00:00, ?it/s]"
      ]
     },
     "metadata": {},
     "output_type": "display_data"
    },
    {
     "name": "stdout",
     "output_type": "stream",
     "text": [
      "No transforms given, assuming just need to tensorize).\n"
     ]
    },
    {
     "data": {
      "application/vnd.jupyter.widget-view+json": {
       "model_id": "479258bb96d444dda62ba51aad3f6743",
       "version_major": 2,
       "version_minor": 0
      },
      "text/plain": [
       "Computing saliency on batches: 0it [00:00, ?it/s]"
      ]
     },
     "metadata": {},
     "output_type": "display_data"
    }
   ],
   "source": [
    "print(f\"Testing DeepBind MultiTask model on {target_cols[0]}\")\n",
    "version = 0\n",
    "model_file = glob.glob(os.path.join(eu.settings.logging_dir, \"DeepBind_MT\", f\"v{version}\", \"checkpoints\", \"*\"))[0]\n",
    "model = eu.models.DeepBind.load_from_checkpoint(model_file)\n",
    "for i, target_col in enumerate(target_cols[:5]):\n",
    "    eu.interpret.feature_attribution(\n",
    "        model,\n",
    "        sdata_test,\n",
    "        saliency_method=\"InputXGradient\",\n",
    "        target=i,\n",
    "        suffix=f\"_{target_col}_MT\"\n",
    "    )"
   ]
  },
  {
   "cell_type": "markdown",
   "metadata": {},
   "source": [
    "# Plot feature attributions "
   ]
  },
  {
   "cell_type": "code",
   "execution_count": 50,
   "metadata": {},
   "outputs": [
    {
     "data": {
      "text/plain": [
       "odict_keys(['InputXGradient_imps_RNCMPT00001_ST', 'InputXGradient_imps_RNCMPT00002_ST', 'InputXGradient_imps_RNCMPT00003_ST', 'InputXGradient_imps_RNCMPT00004_ST', 'InputXGradient_imps_RNCMPT00005_ST', 'InputXGradient_imps_RNCMPT00001_MT', 'InputXGradient_imps_RNCMPT00002_MT', 'InputXGradient_imps_RNCMPT00003_MT', 'InputXGradient_imps_RNCMPT00004_MT', 'InputXGradient_imps_RNCMPT00005_MT'])"
      ]
     },
     "execution_count": 50,
     "metadata": {},
     "output_type": "execute_result"
    }
   ],
   "source": [
    "sdata_test.uns.keys()"
   ]
  },
  {
   "cell_type": "code",
   "execution_count": 51,
   "metadata": {},
   "outputs": [],
   "source": []
  },
  {
   "cell_type": "code",
   "execution_count": 84,
   "metadata": {},
   "outputs": [
    {
     "name": "stdout",
     "output_type": "stream",
     "text": [
      "Generating feature attribution scores for DeepBind models on RNCMPT00001\n"
     ]
    },
    {
     "data": {
      "application/vnd.jupyter.widget-view+json": {
       "model_id": "b82dcbb5a5ce4c57a074ab83e7f33bce",
       "version_major": 2,
       "version_minor": 0
      },
      "text/plain": [
       "Importance values: 0it [00:00, ?it/s]"
      ]
     },
     "metadata": {},
     "output_type": "display_data"
    },
    {
     "data": {
      "application/vnd.jupyter.widget-view+json": {
       "model_id": "17b3bfb007684a4881e46472242bde01",
       "version_major": 2,
       "version_minor": 0
      },
      "text/plain": [
       "Importance values: 0it [00:00, ?it/s]"
      ]
     },
     "metadata": {},
     "output_type": "display_data"
    },
    {
     "name": "stdout",
     "output_type": "stream",
     "text": [
      "Generating feature attribution scores for DeepBind models on RNCMPT00002\n"
     ]
    },
    {
     "data": {
      "application/vnd.jupyter.widget-view+json": {
       "model_id": "881823bb5e30406899ca6f6530db0dfb",
       "version_major": 2,
       "version_minor": 0
      },
      "text/plain": [
       "Importance values: 0it [00:00, ?it/s]"
      ]
     },
     "metadata": {},
     "output_type": "display_data"
    },
    {
     "data": {
      "application/vnd.jupyter.widget-view+json": {
       "model_id": "5711af2b33ed4bb297b19f7b78b4c365",
       "version_major": 2,
       "version_minor": 0
      },
      "text/plain": [
       "Importance values: 0it [00:00, ?it/s]"
      ]
     },
     "metadata": {},
     "output_type": "display_data"
    },
    {
     "name": "stdout",
     "output_type": "stream",
     "text": [
      "Generating feature attribution scores for DeepBind models on RNCMPT00003\n"
     ]
    },
    {
     "data": {
      "application/vnd.jupyter.widget-view+json": {
       "model_id": "f87356cd50c2443382b70781635aab97",
       "version_major": 2,
       "version_minor": 0
      },
      "text/plain": [
       "Importance values: 0it [00:00, ?it/s]"
      ]
     },
     "metadata": {},
     "output_type": "display_data"
    },
    {
     "data": {
      "application/vnd.jupyter.widget-view+json": {
       "model_id": "15d48046036a4f2bac12937dc7c2cda3",
       "version_major": 2,
       "version_minor": 0
      },
      "text/plain": [
       "Importance values: 0it [00:00, ?it/s]"
      ]
     },
     "metadata": {},
     "output_type": "display_data"
    },
    {
     "name": "stdout",
     "output_type": "stream",
     "text": [
      "Generating feature attribution scores for DeepBind models on RNCMPT00004\n"
     ]
    },
    {
     "data": {
      "application/vnd.jupyter.widget-view+json": {
       "model_id": "bd0690e12f0e45e8882c17e34e6f1ee1",
       "version_major": 2,
       "version_minor": 0
      },
      "text/plain": [
       "Importance values: 0it [00:00, ?it/s]"
      ]
     },
     "metadata": {},
     "output_type": "display_data"
    },
    {
     "data": {
      "application/vnd.jupyter.widget-view+json": {
       "model_id": "63505f71445c44d69a04fb6dd1e2bfea",
       "version_major": 2,
       "version_minor": 0
      },
      "text/plain": [
       "Importance values: 0it [00:00, ?it/s]"
      ]
     },
     "metadata": {},
     "output_type": "display_data"
    },
    {
     "name": "stdout",
     "output_type": "stream",
     "text": [
      "Generating feature attribution scores for DeepBind models on RNCMPT00005\n"
     ]
    },
    {
     "data": {
      "application/vnd.jupyter.widget-view+json": {
       "model_id": "dd3a4ff3e154422b968fd2a049922a53",
       "version_major": 2,
       "version_minor": 0
      },
      "text/plain": [
       "Importance values: 0it [00:00, ?it/s]"
      ]
     },
     "metadata": {},
     "output_type": "display_data"
    },
    {
     "data": {
      "application/vnd.jupyter.widget-view+json": {
       "model_id": "1b3bb6fd010c4ce79c14401fda03152c",
       "version_major": 2,
       "version_minor": 0
      },
      "text/plain": [
       "Importance values: 0it [00:00, ?it/s]"
      ]
     },
     "metadata": {},
     "output_type": "display_data"
    }
   ],
   "source": [
    "for i, target_col in enumerate(target_cols[:5]):\n",
    "    print(f\"Generating feature attribution scores for DeepBind models on {target_col}\")\n",
    "    top3_index = sdata_test[target_col].sort_values(ascending=False).index[:3]\n",
    "    bottom3_index = sdata_test[target_col].sort_values(ascending=False).index[-3:]\n",
    "    eu.pl.lm_multiseq_track(\n",
    "        sdata_test,\n",
    "        seq_ids=top3_index,\n",
    "        uns_keys=[f\"InputXGradient_imps_{target_col}_ST\", f\"InputXGradient_imps_{target_col}_MT\"],\n",
    "        alphabet=\"RNA\",\n",
    "        width=18,\n",
    "        height=6,\n",
    "        ylabels=[\"DeepBind SingleTask\", \"DeepBind MultiTask\"],\n",
    "        save=os.path.join(figure_dir, \"feature_attr\", f\"model_top3_feature_attr_{target_col}_STandMT.pdf\")\n",
    "    )\n",
    "    plt.close()\n",
    "    eu.pl.lm_multiseq_track(\n",
    "        sdata_test,\n",
    "        seq_ids=bottom3_index,\n",
    "        uns_keys=[f\"InputXGradient_imps_{target_col}_ST\", f\"InputXGradient_imps_{target_col}_MT\"],\n",
    "        alphabet=\"RNA\",\n",
    "        width=18,\n",
    "        height=6,\n",
    "        ylabels=[\"DeepBind SingleTask\", \"DeepBind MultiTask\"],\n",
    "        save=os.path.join(figure_dir, \"feature_attr\", f\"model_bottom3_feature_attr_{target_col}_STandMT.pdf\")\n",
    "    )\n",
    "    plt.close()\n",
    "    "
   ]
  },
  {
   "cell_type": "markdown",
   "metadata": {},
   "source": [
    "# Filter viz"
   ]
  },
  {
   "cell_type": "markdown",
   "metadata": {},
   "source": [
    "## Single task "
   ]
  },
  {
   "cell_type": "code",
   "execution_count": 64,
   "metadata": {},
   "outputs": [
    {
     "name": "stdout",
     "output_type": "stream",
     "text": [
      "Generating filter visualizations for DeepBind models on RNCMPT00001\n",
      "No transforms given, assuming just need to tensorize).\n"
     ]
    },
    {
     "data": {
      "application/vnd.jupyter.widget-view+json": {
       "model_id": "f99d0487ada44614842d957eb4b66f77",
       "version_major": 2,
       "version_minor": 0
      },
      "text/plain": [
       "Getting maximial activating seqlets: 0it [00:00, ?it/s]"
      ]
     },
     "metadata": {},
     "output_type": "display_data"
    },
    {
     "data": {
      "application/vnd.jupyter.widget-view+json": {
       "model_id": "7d335fab8b524cff87ebbd3f48de9fb4",
       "version_major": 2,
       "version_minor": 0
      },
      "text/plain": [
       "Getting PFMs from filters:   0%|          | 0/16 [00:00<?, ?it/s]"
      ]
     },
     "metadata": {},
     "output_type": "display_data"
    },
    {
     "name": "stdout",
     "output_type": "stream",
     "text": [
      "Generating filter visualizations for DeepBind models on RNCMPT00002\n",
      "No transforms given, assuming just need to tensorize).\n"
     ]
    },
    {
     "data": {
      "application/vnd.jupyter.widget-view+json": {
       "model_id": "663dd47e8b644bb4aad3c9015d2af40d",
       "version_major": 2,
       "version_minor": 0
      },
      "text/plain": [
       "Getting maximial activating seqlets: 0it [00:00, ?it/s]"
      ]
     },
     "metadata": {},
     "output_type": "display_data"
    },
    {
     "data": {
      "application/vnd.jupyter.widget-view+json": {
       "model_id": "34cb828d08504cdebed42790b9052516",
       "version_major": 2,
       "version_minor": 0
      },
      "text/plain": [
       "Getting PFMs from filters:   0%|          | 0/16 [00:00<?, ?it/s]"
      ]
     },
     "metadata": {},
     "output_type": "display_data"
    },
    {
     "name": "stdout",
     "output_type": "stream",
     "text": [
      "Generating filter visualizations for DeepBind models on RNCMPT00003\n",
      "No transforms given, assuming just need to tensorize).\n"
     ]
    },
    {
     "data": {
      "application/vnd.jupyter.widget-view+json": {
       "model_id": "3a9fafb67bfc40358b0a8ed3d2301014",
       "version_major": 2,
       "version_minor": 0
      },
      "text/plain": [
       "Getting maximial activating seqlets: 0it [00:00, ?it/s]"
      ]
     },
     "metadata": {},
     "output_type": "display_data"
    },
    {
     "data": {
      "application/vnd.jupyter.widget-view+json": {
       "model_id": "721059f0b0fe4994b18a3123e48e47eb",
       "version_major": 2,
       "version_minor": 0
      },
      "text/plain": [
       "Getting PFMs from filters:   0%|          | 0/16 [00:00<?, ?it/s]"
      ]
     },
     "metadata": {},
     "output_type": "display_data"
    },
    {
     "name": "stdout",
     "output_type": "stream",
     "text": [
      "Generating filter visualizations for DeepBind models on RNCMPT00004\n",
      "No transforms given, assuming just need to tensorize).\n"
     ]
    },
    {
     "data": {
      "application/vnd.jupyter.widget-view+json": {
       "model_id": "864e782275ff47c1978be200e84cb951",
       "version_major": 2,
       "version_minor": 0
      },
      "text/plain": [
       "Getting maximial activating seqlets: 0it [00:00, ?it/s]"
      ]
     },
     "metadata": {},
     "output_type": "display_data"
    },
    {
     "data": {
      "application/vnd.jupyter.widget-view+json": {
       "model_id": "808f656a79614c94bbf21e7ed1bfa973",
       "version_major": 2,
       "version_minor": 0
      },
      "text/plain": [
       "Getting PFMs from filters:   0%|          | 0/16 [00:00<?, ?it/s]"
      ]
     },
     "metadata": {},
     "output_type": "display_data"
    },
    {
     "name": "stdout",
     "output_type": "stream",
     "text": [
      "Generating filter visualizations for DeepBind models on RNCMPT00005\n",
      "No transforms given, assuming just need to tensorize).\n"
     ]
    },
    {
     "data": {
      "application/vnd.jupyter.widget-view+json": {
       "model_id": "71fdf75a184540be868972a649487707",
       "version_major": 2,
       "version_minor": 0
      },
      "text/plain": [
       "Getting maximial activating seqlets: 0it [00:00, ?it/s]"
      ]
     },
     "metadata": {},
     "output_type": "display_data"
    },
    {
     "data": {
      "application/vnd.jupyter.widget-view+json": {
       "model_id": "1436f61cc37c4beca91c84828ef80d1a",
       "version_major": 2,
       "version_minor": 0
      },
      "text/plain": [
       "Getting PFMs from filters:   0%|          | 0/16 [00:00<?, ?it/s]"
      ]
     },
     "metadata": {},
     "output_type": "display_data"
    }
   ],
   "source": [
    "# Grab the pfms for the 16 filters of each single task model\n",
    "for i, target_col in enumerate(target_cols[:5]):\n",
    "    print(f\"Generating pfms for DeepBind models on {target_col}\")\n",
    "    model_file = glob.glob(os.path.join(eu.settings.logging_dir, \"DeepBind_ST\", target_col, \"checkpoints\", \"*\"))[0]\n",
    "    model = eu.models.DeepBind.load_from_checkpoint(model_file)\n",
    "    #model.to(\"cuda\")\n",
    "    eu.interpret.generate_pfms(model, sdata_test, key_name=f\"pfms_{target_col}_ST\")"
   ]
  },
  {
   "cell_type": "markdown",
   "metadata": {},
   "source": [
    "## Multitask"
   ]
  },
  {
   "cell_type": "code",
   "execution_count": 81,
   "metadata": {},
   "outputs": [
    {
     "name": "stdout",
     "output_type": "stream",
     "text": [
      "No transforms given, assuming just need to tensorize).\n"
     ]
    },
    {
     "data": {
      "application/vnd.jupyter.widget-view+json": {
       "model_id": "f607bd676854427d8ea04bdb236e6227",
       "version_major": 2,
       "version_minor": 0
      },
      "text/plain": [
       "Getting maximial activating seqlets: 0it [00:00, ?it/s]"
      ]
     },
     "metadata": {},
     "output_type": "display_data"
    },
    {
     "data": {
      "application/vnd.jupyter.widget-view+json": {
       "model_id": "d4f19a97a8e147aebd230ee752e0dc0e",
       "version_major": 2,
       "version_minor": 0
      },
      "text/plain": [
       "Getting PFMs from filters:   0%|          | 0/512 [00:00<?, ?it/s]"
      ]
     },
     "metadata": {},
     "output_type": "display_data"
    }
   ],
   "source": [
    "# Grab the pfms for all filters of the multitask model\n",
    "version = 0\n",
    "model_file = glob.glob(os.path.join(eu.settings.logging_dir, \"DeepBind_MT\", f\"v{version}\", \"checkpoints\", \"*\"))[0]\n",
    "model = eu.models.DeepBind.load_from_checkpoint(model_file)\n",
    "#model.to(\"cuda\") #TODO\n",
    "eu.interpret.generate_pfms(model, sdata_test, key_name=f\"pfms_MT\")"
   ]
  },
  {
   "cell_type": "markdown",
   "metadata": {},
   "source": [
    "# Plot filter viz"
   ]
  },
  {
   "cell_type": "code",
   "execution_count": 73,
   "metadata": {},
   "outputs": [
    {
     "name": "stdout",
     "output_type": "stream",
     "text": [
      "Plotting filter visualizations for DeepBind models on RNCMPT00001\n",
      "Plotting filter visualizations for DeepBind models on RNCMPT00002\n",
      "Plotting filter visualizations for DeepBind models on RNCMPT00003\n",
      "Plotting filter visualizations for DeepBind models on RNCMPT00004\n",
      "Plotting filter visualizations for DeepBind models on RNCMPT00005\n"
     ]
    }
   ],
   "source": [
    "# Visualizations for all 16 filters for DeepBind SingleTask models\n",
    "for i, target_col in enumerate(target_cols[:5]):\n",
    "    print(f\"Plotting filter visualizations for DeepBind models on {target_col}\")\n",
    "    eu.pl.lm_multifilter_viz(\n",
    "        sdata_test,\n",
    "        filter_ids=range(0,16),\n",
    "        uns_key=f\"pfms_{target_col}_ST\",\n",
    "        titles=[f\"filter {i}\" for i in range(16)]\n",
    "        num_rows=4,\n",
    "        num_cols=4,\n",
    "        save=os.path.join(figure_dir, \"filter_viz\", f\"model_filters_viz_{target_col}_ST.pdf\")\n",
    "    )\n",
    "    plt.close()"
   ]
  },
  {
   "cell_type": "code",
   "execution_count": 83,
   "metadata": {},
   "outputs": [
    {
     "name": "stdout",
     "output_type": "stream",
     "text": [
      "Plotting and saving filters 1-32\n",
      "Plotting and saving filters 33-64\n",
      "Plotting and saving filters 65-96\n",
      "Plotting and saving filters 97-128\n",
      "Plotting and saving filters 129-160\n",
      "Plotting and saving filters 161-192\n",
      "Plotting and saving filters 193-224\n",
      "Plotting and saving filters 225-256\n",
      "Plotting and saving filters 257-288\n",
      "Plotting and saving filters 289-320\n",
      "Plotting and saving filters 321-352\n",
      "Plotting and saving filters 353-384\n",
      "Plotting and saving filters 385-416\n",
      "Plotting and saving filters 417-448\n",
      "Plotting and saving filters 449-480\n",
      "Plotting and saving filters 481-512\n"
     ]
    }
   ],
   "source": [
    "# Visualizations for all filters of the multitask model\n",
    "for i in range(16):\n",
    "    start_filter = i*32\n",
    "    end_filter = (i*32) + 32\n",
    "    print(f\"Plotting and saving filters {start_filter+1}-{end_filter}\")\n",
    "    eu.pl.lm_multifilter_viz(\n",
    "        sdata_test,\n",
    "        filter_ids=list(sdata_test.uns[\"pfms_MT\"].keys())[start_filter:end_filter],\n",
    "        num_rows=8,\n",
    "        num_cols=4,\n",
    "        uns_key=\"pfms_MT\",\n",
    "        titles=[f\"filter {i}\" for i in range(32)],\n",
    "        save=os.path.join(figure_dir, \"filter_viz\", f\"model_filters{start_filter+1}-{end_filter}_viz_MT.pdf\")\n",
    "    )\n",
    "    plt.tight_layout()\n",
    "    plt.close()"
   ]
  },
  {
   "cell_type": "markdown",
   "metadata": {},
   "source": [
    "# Save"
   ]
  },
  {
   "cell_type": "code",
   "execution_count": 57,
   "metadata": {},
   "outputs": [],
   "source": [
    "# Save the SeqData with predictions and interpretations\n",
    "sdata_test.write_h5sd(os.path.join(eu.settings.output_dir, \"norm_test_predictions_and_intepretations.h5sd\"))"
   ]
  },
  {
   "cell_type": "markdown",
   "metadata": {},
   "source": [
    "---"
   ]
  },
  {
   "cell_type": "markdown",
   "metadata": {},
   "source": [
    "# Scratch"
   ]
  }
 ],
 "metadata": {
  "kernelspec": {
   "display_name": "Python 3.7.13 64-bit",
   "language": "python",
   "name": "python3"
  },
  "language_info": {
   "codemirror_mode": {
    "name": "ipython",
    "version": 3
   },
   "file_extension": ".py",
   "mimetype": "text/x-python",
   "name": "python",
   "nbconvert_exporter": "python",
   "pygments_lexer": "ipython3",
   "version": "3.7.13"
  },
  "orig_nbformat": 4,
  "vscode": {
   "interpreter": {
    "hash": "949777d72b0d2535278d3dc13498b2535136f6dfe0678499012e853ee9abcab1"
   }
  }
 },
 "nbformat": 4,
 "nbformat_minor": 2
}

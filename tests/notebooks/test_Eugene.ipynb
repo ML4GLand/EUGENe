{
 "cells": [
  {
   "cell_type": "markdown",
   "id": "47cc2c48",
   "metadata": {},
   "source": [
    "# Welcome to the EUGENE project!"
   ]
  },
  {
   "cell_type": "markdown",
   "id": "3b1880c3",
   "metadata": {
    "tags": []
   },
   "source": [
    "**Authorship:**\n",
    "Adam Klie, *07/07/2022*\n",
    "***\n",
    "**Description:**\n",
    "Excited to have you try out the tool. This notebook is meant to be a starting place for using and developing EUGENE. It hasn't been converted to tutorial yet, but it should test the CORE functionality of EUGENE to make sure your compute environment is set-up properly. If you run into any bugs, please report them to the EUGENE team via email (aklie@eng.ucsd.edu or on Github issues)\n",
    "\n",
    "This dataset used in this notebook is small enough to be run without a gpu."
   ]
  },
  {
   "cell_type": "markdown",
   "id": "41832ecc-a51e-4311-9372-b4a1ffb40139",
   "metadata": {},
   "source": [
    "# Set-up"
   ]
  },
  {
   "cell_type": "code",
   "execution_count": 1,
   "id": "1dd9ef33",
   "metadata": {
    "execution": {
     "iopub.execute_input": "2022-05-06T18:26:27.475241Z",
     "iopub.status.busy": "2022-05-06T18:26:27.475074Z",
     "iopub.status.idle": "2022-05-06T18:26:29.650302Z",
     "shell.execute_reply": "2022-05-06T18:26:29.649905Z",
     "shell.execute_reply.started": "2022-05-06T18:26:27.475197Z"
    },
    "tags": []
   },
   "outputs": [],
   "source": [
    "import numpy as np\n",
    "import pandas as pd\n",
    "\n",
    "# Autoreload extension\n",
    "if 'autoreload' not in get_ipython().extension_manager.loaded:\n",
    "    %load_ext autoreload\n",
    "%autoreload 2"
   ]
  },
  {
   "cell_type": "code",
   "execution_count": 2,
   "id": "bf8a26fe-0272-4533-b8cc-7a3c8e532ff0",
   "metadata": {
    "execution": {
     "iopub.execute_input": "2022-05-06T18:26:29.651097Z",
     "iopub.status.busy": "2022-05-06T18:26:29.650981Z",
     "iopub.status.idle": "2022-05-06T18:26:41.171910Z",
     "shell.execute_reply": "2022-05-06T18:26:41.171392Z",
     "shell.execute_reply.started": "2022-05-06T18:26:29.651081Z"
    },
    "tags": []
   },
   "outputs": [
    {
     "name": "stderr",
     "output_type": "stream",
     "text": [
      "Global seed set to 13\n",
      "Global seed set to 13\n",
      "Global seed set to 13\n"
     ]
    }
   ],
   "source": [
    "import eugene as eu"
   ]
  },
  {
   "cell_type": "markdown",
   "id": "8708d86e-0cc1-4c5d-b929-f8f2849a2373",
   "metadata": {
    "tags": []
   },
   "source": [
    "# Load data"
   ]
  },
  {
   "cell_type": "code",
   "execution_count": 3,
   "id": "a6d4870e",
   "metadata": {},
   "outputs": [],
   "source": [
    "# Loads a random dataset of 1000 sequences of length 66\n",
    "sdata = eu.datasets.random1000()"
   ]
  },
  {
   "cell_type": "markdown",
   "id": "bdd86f92",
   "metadata": {},
   "source": [
    "# Preprocess data"
   ]
  },
  {
   "cell_type": "code",
   "execution_count": 4,
   "id": "aba816e2",
   "metadata": {},
   "outputs": [
    {
     "data": {
      "application/vnd.jupyter.widget-view+json": {
       "model_id": "ee8f1a682d314444b1bbc31650cacb04",
       "version_major": 2,
       "version_minor": 0
      },
      "text/plain": [
       "  0%|          | 0/3 [00:00<?, ?it/s]"
      ]
     },
     "metadata": {},
     "output_type": "display_data"
    },
    {
     "name": "stdout",
     "output_type": "stream",
     "text": [
      "SeqData object modified:\n",
      "\trev_seqs: None -> 1000 rev_seqs added\n",
      "\tohe_seqs: None -> 1000 ohe_seqs added\n",
      "    seqs_annot:\n",
      "        + TRAIN\n"
     ]
    },
    {
     "data": {
      "text/plain": [
       "SeqData object with = 1000 seqs\n",
       "seqs = (1000,)\n",
       "names = (1000,)\n",
       "rev_seqs = (1000,)\n",
       "ohe_seqs = (1000, 66, 4)\n",
       "ohe_rev_seqs = None\n",
       "    seqs_annot: 'TARGETS', 'TRAIN'"
      ]
     },
     "execution_count": 4,
     "metadata": {},
     "output_type": "execute_result"
    }
   ],
   "source": [
    "\n",
    "# Preprocess the data for training (prepare_data wraps these)\n",
    "eu.pp.prepare_data(sdata)\n",
    "sdata"
   ]
  },
  {
   "cell_type": "markdown",
   "id": "5aa43cca-9ceb-4c6e-be78-4e73569d1331",
   "metadata": {
    "tags": []
   },
   "source": [
    "# Instantiate model"
   ]
  },
  {
   "cell_type": "code",
   "execution_count": 5,
   "id": "02dbd2b1",
   "metadata": {},
   "outputs": [],
   "source": [
    "# Loads the default DeepBind architecture\n",
    "eugene = eu.models.DeepBind(input_len=66)\n",
    "eu.models.base.init_weights(eugene)"
   ]
  },
  {
   "cell_type": "markdown",
   "id": "2272c21f",
   "metadata": {},
   "source": [
    "# Prepare Dataloader"
   ]
  },
  {
   "cell_type": "code",
   "execution_count": 6,
   "id": "9a1f909d",
   "metadata": {},
   "outputs": [],
   "source": [
    "sdataset = sdata.to_dataset(label=\"TARGETS\", seq_transforms=[\"one_hot_encode\"], transform_kwargs={\"transpose\": True})\n",
    "sdataloader = sdataset.to_dataloader()"
   ]
  },
  {
   "cell_type": "markdown",
   "id": "b3689b57-de7f-4104-8042-ae93f1893501",
   "metadata": {
    "tags": []
   },
   "source": [
    "# Train the model"
   ]
  },
  {
   "cell_type": "code",
   "execution_count": 7,
   "id": "955efbc6",
   "metadata": {},
   "outputs": [
    {
     "name": "stderr",
     "output_type": "stream",
     "text": [
      "GPU available: False, used: False\n",
      "TPU available: False, using: 0 TPU cores\n",
      "IPU available: False, using: 0 IPUs\n",
      "\n",
      "  | Name      | Type                      | Params\n",
      "--------------------------------------------------------\n",
      "0 | max_pool  | MaxPool1d                 | 0     \n",
      "1 | avg_pool  | AvgPool1d                 | 0     \n",
      "2 | convnet   | BasicConv1D               | 272   \n",
      "3 | fcn       | BasicFullyConnectedModule | 146 K \n",
      "4 | r_squared | R2Score                   | 0     \n",
      "--------------------------------------------------------\n",
      "147 K     Trainable params\n",
      "0         Non-trainable params\n",
      "147 K     Total params\n",
      "0.588     Total estimated model params size (MB)\n"
     ]
    },
    {
     "data": {
      "application/vnd.jupyter.widget-view+json": {
       "model_id": "29e0c43cefa04bae8d91197b4359452c",
       "version_major": 2,
       "version_minor": 0
      },
      "text/plain": [
       "Validation sanity check: 0it [00:00, ?it/s]"
      ]
     },
     "metadata": {},
     "output_type": "display_data"
    },
    {
     "name": "stderr",
     "output_type": "stream",
     "text": [
      "/cellar/users/aklie/opt/miniconda3/envs/eugene/lib/python3.7/site-packages/pytorch_lightning/trainer/data_loading.py:133: UserWarning: The dataloader, val_dataloader 0, does not have many workers which may be a bottleneck. Consider increasing the value of the `num_workers` argument` (try 16 which is the number of cpus on this machine) in the `DataLoader` init to improve performance.\n",
      "  f\"The dataloader, {name}, does not have many workers which may be a bottleneck.\"\n",
      "Global seed set to 13\n",
      "/cellar/users/aklie/opt/miniconda3/envs/eugene/lib/python3.7/site-packages/pytorch_lightning/trainer/data_loading.py:133: UserWarning: The dataloader, train_dataloader, does not have many workers which may be a bottleneck. Consider increasing the value of the `num_workers` argument` (try 16 which is the number of cpus on this machine) in the `DataLoader` init to improve performance.\n",
      "  f\"The dataloader, {name}, does not have many workers which may be a bottleneck.\"\n",
      "/cellar/users/aklie/opt/miniconda3/envs/eugene/lib/python3.7/site-packages/pytorch_lightning/trainer/data_loading.py:433: UserWarning: The number of training samples (25) is smaller than the logging interval Trainer(log_every_n_steps=50). Set a lower value for log_every_n_steps if you want to see logs for the training epoch.\n",
      "  f\"The number of training samples ({self.num_training_batches}) is smaller than the logging interval\"\n"
     ]
    },
    {
     "data": {
      "application/vnd.jupyter.widget-view+json": {
       "model_id": "3c47730cf4364c28b8146349c8a996e5",
       "version_major": 2,
       "version_minor": 0
      },
      "text/plain": [
       "Training: 0it [00:00, ?it/s]"
      ]
     },
     "metadata": {},
     "output_type": "display_data"
    },
    {
     "data": {
      "application/vnd.jupyter.widget-view+json": {
       "model_id": "fb155da69c2d486a8d9bdfe5bc8df129",
       "version_major": 2,
       "version_minor": 0
      },
      "text/plain": [
       "Validating: 0it [00:00, ?it/s]"
      ]
     },
     "metadata": {},
     "output_type": "display_data"
    },
    {
     "data": {
      "application/vnd.jupyter.widget-view+json": {
       "model_id": "ed08905f023b4e4988822d368ebfb3a0",
       "version_major": 2,
       "version_minor": 0
      },
      "text/plain": [
       "Validating: 0it [00:00, ?it/s]"
      ]
     },
     "metadata": {},
     "output_type": "display_data"
    },
    {
     "data": {
      "application/vnd.jupyter.widget-view+json": {
       "model_id": "006b17dcce794a5192f5979010206ba5",
       "version_major": 2,
       "version_minor": 0
      },
      "text/plain": [
       "Validating: 0it [00:00, ?it/s]"
      ]
     },
     "metadata": {},
     "output_type": "display_data"
    },
    {
     "data": {
      "application/vnd.jupyter.widget-view+json": {
       "model_id": "82d922a4371c4d8c8e7993765ec656b1",
       "version_major": 2,
       "version_minor": 0
      },
      "text/plain": [
       "Validating: 0it [00:00, ?it/s]"
      ]
     },
     "metadata": {},
     "output_type": "display_data"
    },
    {
     "data": {
      "application/vnd.jupyter.widget-view+json": {
       "model_id": "52dcc24a4bd74af281f2640f826b11f8",
       "version_major": 2,
       "version_minor": 0
      },
      "text/plain": [
       "Validating: 0it [00:00, ?it/s]"
      ]
     },
     "metadata": {},
     "output_type": "display_data"
    },
    {
     "name": "stderr",
     "output_type": "stream",
     "text": [
      "GPU available: False, used: False\n",
      "TPU available: False, using: 0 TPU cores\n",
      "IPU available: False, using: 0 IPUs\n",
      "GPU available: False, used: False\n",
      "TPU available: False, using: 0 TPU cores\n",
      "IPU available: False, using: 0 IPUs\n",
      "/cellar/users/aklie/opt/miniconda3/envs/eugene/lib/python3.7/site-packages/pytorch_lightning/trainer/data_loading.py:133: UserWarning: The dataloader, predict_dataloader 0, does not have many workers which may be a bottleneck. Consider increasing the value of the `num_workers` argument` (try 16 which is the number of cpus on this machine) in the `DataLoader` init to improve performance.\n",
      "  f\"The dataloader, {name}, does not have many workers which may be a bottleneck.\"\n"
     ]
    },
    {
     "data": {
      "application/vnd.jupyter.widget-view+json": {
       "model_id": "8b7a2e6f9a5c4a4e8a0e2728fae5ddcf",
       "version_major": 2,
       "version_minor": 0
      },
      "text/plain": [
       "Predicting: 0it [00:00, ?it/s]"
      ]
     },
     "metadata": {},
     "output_type": "display_data"
    },
    {
     "data": {
      "application/vnd.jupyter.widget-view+json": {
       "model_id": "46b1e375fe964d8197b3f469a59ed587",
       "version_major": 2,
       "version_minor": 0
      },
      "text/plain": [
       "Predicting: 0it [00:00, ?it/s]"
      ]
     },
     "metadata": {},
     "output_type": "display_data"
    },
    {
     "name": "stdout",
     "output_type": "stream",
     "text": [
      "SeqData object modified:\n",
      "    seqs_annot:\n",
      "        + PREDICTIONS\n"
     ]
    }
   ],
   "source": [
    "eu.train.fit(eugene, sdata=sdata, epochs=5, log_dir=\"../_logs\")"
   ]
  },
  {
   "cell_type": "code",
   "execution_count": 8,
   "id": "397d8297",
   "metadata": {},
   "outputs": [
    {
     "data": {
      "text/html": [
       "<div>\n",
       "<style scoped>\n",
       "    .dataframe tbody tr th:only-of-type {\n",
       "        vertical-align: middle;\n",
       "    }\n",
       "\n",
       "    .dataframe tbody tr th {\n",
       "        vertical-align: top;\n",
       "    }\n",
       "\n",
       "    .dataframe thead th {\n",
       "        text-align: right;\n",
       "    }\n",
       "</style>\n",
       "<table border=\"1\" class=\"dataframe\">\n",
       "  <thead>\n",
       "    <tr style=\"text-align: right;\">\n",
       "      <th></th>\n",
       "      <th>TARGETS</th>\n",
       "      <th>TRAIN</th>\n",
       "      <th>PREDICTIONS</th>\n",
       "    </tr>\n",
       "  </thead>\n",
       "  <tbody>\n",
       "    <tr>\n",
       "      <th>seq001</th>\n",
       "      <td>1.0</td>\n",
       "      <td>True</td>\n",
       "      <td>0.359638</td>\n",
       "    </tr>\n",
       "    <tr>\n",
       "      <th>seq002</th>\n",
       "      <td>0.0</td>\n",
       "      <td>True</td>\n",
       "      <td>0.410613</td>\n",
       "    </tr>\n",
       "    <tr>\n",
       "      <th>seq003</th>\n",
       "      <td>1.0</td>\n",
       "      <td>True</td>\n",
       "      <td>0.396085</td>\n",
       "    </tr>\n",
       "    <tr>\n",
       "      <th>seq004</th>\n",
       "      <td>0.0</td>\n",
       "      <td>False</td>\n",
       "      <td>0.405854</td>\n",
       "    </tr>\n",
       "    <tr>\n",
       "      <th>seq005</th>\n",
       "      <td>0.0</td>\n",
       "      <td>False</td>\n",
       "      <td>0.401179</td>\n",
       "    </tr>\n",
       "    <tr>\n",
       "      <th>...</th>\n",
       "      <td>...</td>\n",
       "      <td>...</td>\n",
       "      <td>...</td>\n",
       "    </tr>\n",
       "    <tr>\n",
       "      <th>seq996</th>\n",
       "      <td>0.0</td>\n",
       "      <td>True</td>\n",
       "      <td>0.382790</td>\n",
       "    </tr>\n",
       "    <tr>\n",
       "      <th>seq997</th>\n",
       "      <td>0.0</td>\n",
       "      <td>True</td>\n",
       "      <td>0.397430</td>\n",
       "    </tr>\n",
       "    <tr>\n",
       "      <th>seq998</th>\n",
       "      <td>0.0</td>\n",
       "      <td>True</td>\n",
       "      <td>0.380698</td>\n",
       "    </tr>\n",
       "    <tr>\n",
       "      <th>seq999</th>\n",
       "      <td>0.0</td>\n",
       "      <td>True</td>\n",
       "      <td>0.418305</td>\n",
       "    </tr>\n",
       "    <tr>\n",
       "      <th>seq1000</th>\n",
       "      <td>0.0</td>\n",
       "      <td>True</td>\n",
       "      <td>0.410798</td>\n",
       "    </tr>\n",
       "  </tbody>\n",
       "</table>\n",
       "<p>1000 rows × 3 columns</p>\n",
       "</div>"
      ],
      "text/plain": [
       "         TARGETS  TRAIN  PREDICTIONS\n",
       "seq001       1.0   True     0.359638\n",
       "seq002       0.0   True     0.410613\n",
       "seq003       1.0   True     0.396085\n",
       "seq004       0.0  False     0.405854\n",
       "seq005       0.0  False     0.401179\n",
       "...          ...    ...          ...\n",
       "seq996       0.0   True     0.382790\n",
       "seq997       0.0   True     0.397430\n",
       "seq998       0.0   True     0.380698\n",
       "seq999       0.0   True     0.418305\n",
       "seq1000      0.0   True     0.410798\n",
       "\n",
       "[1000 rows x 3 columns]"
      ]
     },
     "execution_count": 8,
     "metadata": {},
     "output_type": "execute_result"
    }
   ],
   "source": [
    "sdata.seqs_annot"
   ]
  },
  {
   "cell_type": "markdown",
   "id": "15f459f0",
   "metadata": {},
   "source": [
    "# Predict with model "
   ]
  },
  {
   "cell_type": "code",
   "execution_count": 9,
   "id": "5513acd3",
   "metadata": {},
   "outputs": [
    {
     "name": "stderr",
     "output_type": "stream",
     "text": [
      "GPU available: False, used: False\n",
      "TPU available: False, using: 0 TPU cores\n",
      "IPU available: False, using: 0 IPUs\n",
      "/cellar/users/aklie/opt/miniconda3/envs/eugene/lib/python3.7/site-packages/pytorch_lightning/trainer/data_loading.py:133: UserWarning: The dataloader, predict_dataloader 0, does not have many workers which may be a bottleneck. Consider increasing the value of the `num_workers` argument` (try 16 which is the number of cpus on this machine) in the `DataLoader` init to improve performance.\n",
      "  f\"The dataloader, {name}, does not have many workers which may be a bottleneck.\"\n"
     ]
    },
    {
     "data": {
      "application/vnd.jupyter.widget-view+json": {
       "model_id": "0c76e3c4b972403f976d8e7c48ed4e23",
       "version_major": 2,
       "version_minor": 0
      },
      "text/plain": [
       "Predicting: 0it [00:00, ?it/s]"
      ]
     },
     "metadata": {},
     "output_type": "display_data"
    },
    {
     "name": "stderr",
     "output_type": "stream",
     "text": [
      "/mnt/beegfs/users/aklie/projects/EUGENE/eugene/predict/_predict.py:41: VisibleDeprecationWarning: Creating an ndarray from ragged nested sequences (which is a list-or-tuple of lists-or-tuples-or ndarrays with different lengths or shapes) is deprecated. If you meant to do this, you must specify 'dtype=object' when creating the ndarray.\n",
      "  t = np.concatenate(np.array(trainer.predict(model, sdataloader)), axis=0)\n"
     ]
    },
    {
     "data": {
      "text/html": [
       "<div>\n",
       "<style scoped>\n",
       "    .dataframe tbody tr th:only-of-type {\n",
       "        vertical-align: middle;\n",
       "    }\n",
       "\n",
       "    .dataframe tbody tr th {\n",
       "        vertical-align: top;\n",
       "    }\n",
       "\n",
       "    .dataframe thead th {\n",
       "        text-align: right;\n",
       "    }\n",
       "</style>\n",
       "<table border=\"1\" class=\"dataframe\">\n",
       "  <thead>\n",
       "    <tr style=\"text-align: right;\">\n",
       "      <th></th>\n",
       "      <th>0</th>\n",
       "    </tr>\n",
       "  </thead>\n",
       "  <tbody>\n",
       "    <tr>\n",
       "      <th>seq001</th>\n",
       "      <td>0.35963845</td>\n",
       "    </tr>\n",
       "    <tr>\n",
       "      <th>seq002</th>\n",
       "      <td>0.41061306</td>\n",
       "    </tr>\n",
       "    <tr>\n",
       "      <th>seq003</th>\n",
       "      <td>0.39608538</td>\n",
       "    </tr>\n",
       "    <tr>\n",
       "      <th>seq004</th>\n",
       "      <td>0.40585387</td>\n",
       "    </tr>\n",
       "    <tr>\n",
       "      <th>seq005</th>\n",
       "      <td>0.40117908</td>\n",
       "    </tr>\n",
       "    <tr>\n",
       "      <th>...</th>\n",
       "      <td>...</td>\n",
       "    </tr>\n",
       "    <tr>\n",
       "      <th>seq996</th>\n",
       "      <td>0.3827901</td>\n",
       "    </tr>\n",
       "    <tr>\n",
       "      <th>seq997</th>\n",
       "      <td>0.39743</td>\n",
       "    </tr>\n",
       "    <tr>\n",
       "      <th>seq998</th>\n",
       "      <td>0.38069797</td>\n",
       "    </tr>\n",
       "    <tr>\n",
       "      <th>seq999</th>\n",
       "      <td>0.41830504</td>\n",
       "    </tr>\n",
       "    <tr>\n",
       "      <th>seq1000</th>\n",
       "      <td>0.4107983</td>\n",
       "    </tr>\n",
       "  </tbody>\n",
       "</table>\n",
       "<p>1000 rows × 1 columns</p>\n",
       "</div>"
      ],
      "text/plain": [
       "                  0\n",
       "seq001   0.35963845\n",
       "seq002   0.41061306\n",
       "seq003   0.39608538\n",
       "seq004   0.40585387\n",
       "seq005   0.40117908\n",
       "...             ...\n",
       "seq996    0.3827901\n",
       "seq997      0.39743\n",
       "seq998   0.38069797\n",
       "seq999   0.41830504\n",
       "seq1000   0.4107983\n",
       "\n",
       "[1000 rows x 1 columns]"
      ]
     },
     "execution_count": 9,
     "metadata": {},
     "output_type": "execute_result"
    }
   ],
   "source": [
    "eu.predict.predictions(eugene, sdataloader=sdataloader, target_label=\"TARGETS\", batch_size=1, num_workers=0, out_dir=\"../_out/test_\")"
   ]
  },
  {
   "cell_type": "markdown",
   "id": "ac2b768b",
   "metadata": {},
   "source": [
    "# Interpret the model"
   ]
  },
  {
   "cell_type": "code",
   "execution_count": 10,
   "id": "8b9ffecb",
   "metadata": {},
   "outputs": [
    {
     "data": {
      "application/vnd.jupyter.widget-view+json": {
       "model_id": "051c1cc3a6604cbb9e234818790384be",
       "version_major": 2,
       "version_minor": 0
      },
      "text/plain": [
       "  0%|          | 0/31 [00:00<?, ?it/s]"
      ]
     },
     "metadata": {},
     "output_type": "display_data"
    },
    {
     "data": {
      "text/plain": [
       "array([[[ 0.        ,  0.        ,  0.00641138, ...,  0.00272099,\n",
       "          0.        ,  0.        ],\n",
       "        [-0.        ,  0.        , -0.        , ..., -0.        ,\n",
       "          0.        ,  0.00364729],\n",
       "        [ 0.00399181, -0.        , -0.        , ..., -0.        ,\n",
       "          0.00248242,  0.        ],\n",
       "        [-0.        ,  0.00491963,  0.        , ...,  0.        ,\n",
       "          0.        ,  0.        ]],\n",
       "\n",
       "       [[-0.        ,  0.00451582,  0.        , ...,  0.        ,\n",
       "          0.        ,  0.00158742],\n",
       "        [-0.        ,  0.        ,  0.        , ...,  0.        ,\n",
       "         -0.        ,  0.        ],\n",
       "        [ 0.        , -0.        ,  0.        , ..., -0.        ,\n",
       "          0.        ,  0.        ],\n",
       "        [ 0.00161232,  0.        ,  0.00241995, ...,  0.00435137,\n",
       "          0.00183829, -0.        ]],\n",
       "\n",
       "       [[-0.00056602,  0.00576064,  0.        , ...,  0.        ,\n",
       "          0.        , -0.        ],\n",
       "        [ 0.        , -0.        ,  0.        , ...,  0.01109879,\n",
       "          0.01043829, -0.        ],\n",
       "        [-0.        , -0.        ,  0.00642888, ..., -0.        ,\n",
       "         -0.        ,  0.        ],\n",
       "        [ 0.        ,  0.        ,  0.        , ...,  0.        ,\n",
       "         -0.        ,  0.00224606]],\n",
       "\n",
       "       ...,\n",
       "\n",
       "       [[ 0.        ,  0.        ,  0.        , ..., -0.        ,\n",
       "          0.        ,  0.00178039],\n",
       "        [-0.        ,  0.        ,  0.        , ...,  0.00951932,\n",
       "          0.00500232,  0.        ],\n",
       "        [ 0.0009674 , -0.        ,  0.        , ..., -0.        ,\n",
       "         -0.        ,  0.        ],\n",
       "        [ 0.        ,  0.00692733,  0.00994682, ...,  0.        ,\n",
       "          0.        ,  0.        ]],\n",
       "\n",
       "       [[ 0.00263298, -0.        ,  0.00346804, ...,  0.00516176,\n",
       "          0.00380733,  0.        ],\n",
       "        [-0.        ,  0.        ,  0.        , ...,  0.        ,\n",
       "         -0.        ,  0.        ],\n",
       "        [-0.        , -0.        , -0.        , ..., -0.        ,\n",
       "         -0.        ,  0.00121543],\n",
       "        [ 0.        ,  0.00568294,  0.        , ...,  0.        ,\n",
       "          0.        , -0.        ]],\n",
       "\n",
       "       [[ 0.        ,  0.        ,  0.        , ...,  0.00735642,\n",
       "         -0.        ,  0.        ],\n",
       "        [-0.        ,  0.        , -0.        , ..., -0.        ,\n",
       "          0.        ,  0.0019634 ],\n",
       "        [ 0.00171467, -0.        , -0.        , ..., -0.        ,\n",
       "          0.        ,  0.        ],\n",
       "        [ 0.        ,  0.00558219,  0.00743571, ...,  0.        ,\n",
       "          0.00196706, -0.        ]]])"
      ]
     },
     "execution_count": 10,
     "metadata": {},
     "output_type": "execute_result"
    }
   ],
   "source": [
    "eu.interpret.feature_attribution(eugene, sdata)"
   ]
  },
  {
   "cell_type": "code",
   "execution_count": 12,
   "id": "13eff1f7",
   "metadata": {},
   "outputs": [
    {
     "ename": "AttributeError",
     "evalue": "module 'eugene' has no attribute 'get_pfms'",
     "output_type": "error",
     "traceback": [
      "\u001b[0;31m---------------------------------------------------------------------------\u001b[0m",
      "\u001b[0;31mAttributeError\u001b[0m                            Traceback (most recent call last)",
      "\u001b[0;32m/tmp/ipykernel_1725924/3227793103.py\u001b[0m in \u001b[0;36m<module>\u001b[0;34m\u001b[0m\n\u001b[0;32m----> 1\u001b[0;31m \u001b[0meu\u001b[0m\u001b[0;34m.\u001b[0m\u001b[0mget_pfms\u001b[0m\u001b[0;34m(\u001b[0m\u001b[0meugene\u001b[0m\u001b[0;34m,\u001b[0m \u001b[0msdata\u001b[0m\u001b[0;34m)\u001b[0m\u001b[0;34m\u001b[0m\u001b[0;34m\u001b[0m\u001b[0m\n\u001b[0m",
      "\u001b[0;31mAttributeError\u001b[0m: module 'eugene' has no attribute 'get_pfms'"
     ]
    }
   ],
   "source": [
    "eu.get_pfms(eugene, sdata)"
   ]
  },
  {
   "cell_type": "markdown",
   "id": "24527bb0",
   "metadata": {},
   "source": [
    "---"
   ]
  },
  {
   "cell_type": "markdown",
   "id": "23b15b0e-0b7b-4791-9806-04ff888bb49f",
   "metadata": {
    "tags": []
   },
   "source": [
    "# Scratch"
   ]
  }
 ],
 "metadata": {
  "kernelspec": {
   "display_name": "Python 3.7.12 ('eugene')",
   "language": "python",
   "name": "python3"
  },
  "language_info": {
   "codemirror_mode": {
    "name": "ipython",
    "version": 3
   },
   "file_extension": ".py",
   "mimetype": "text/x-python",
   "name": "python",
   "nbconvert_exporter": "python",
   "pygments_lexer": "ipython3",
   "version": "3.7.12"
  },
  "vscode": {
   "interpreter": {
    "hash": "1330bbbf2c4cf53098ef1254540d5dd54a9d501f0408fea1c04a20872667b797"
   }
  }
 },
 "nbformat": 4,
 "nbformat_minor": 5
}

{
 "cells": [
  {
   "cell_type": "markdown",
   "id": "90a88efe-ebb3-424c-8704-fb4ee189af2c",
   "metadata": {},
   "source": [
    "# Testing `farley15` dataset"
   ]
  },
  {
   "cell_type": "markdown",
   "id": "2d058003-a667-4b45-9ddc-e47efe48e0e1",
   "metadata": {
    "tags": []
   },
   "source": [
    "**Authorship:**\n",
    "Adam Klie, *07/19/2022*\n",
    "***\n",
    "**Description:**\n",
    "Notebook to test the working with the `farley15` dataset.\n",
    "***"
   ]
  },
  {
   "cell_type": "code",
   "execution_count": 100,
   "id": "3ebaff6f",
   "metadata": {
    "execution": {
     "iopub.execute_input": "2022-06-22T21:40:50.734456Z",
     "iopub.status.busy": "2022-06-22T21:40:50.734315Z",
     "iopub.status.idle": "2022-06-22T21:40:55.752826Z",
     "shell.execute_reply": "2022-06-22T21:40:55.752465Z",
     "shell.execute_reply.started": "2022-06-22T21:40:50.734412Z"
    },
    "tags": []
   },
   "outputs": [
    {
     "data": {
      "text/plain": [
       "'0.0.0'"
      ]
     },
     "execution_count": 100,
     "metadata": {},
     "output_type": "execute_result"
    }
   ],
   "source": [
    "import pandas as pd\n",
    "import numpy as np\n",
    "\n",
    "# Autoreload extension\n",
    "if 'autoreload' not in get_ipython().extension_manager.loaded:\n",
    "    %load_ext autoreload\n",
    "%autoreload 2\n",
    "\n",
    "# Basic import\n",
    "import eugene as eu\n",
    "eu.__version__"
   ]
  },
  {
   "cell_type": "code",
   "execution_count": 77,
   "id": "547d870c",
   "metadata": {},
   "outputs": [
    {
     "data": {
      "text/plain": [
       "PosixPath('/mnt/beegfs/users/aklie/projects/EUGENE/tests/_data/datasets')"
      ]
     },
     "execution_count": 77,
     "metadata": {},
     "output_type": "execute_result"
    }
   ],
   "source": [
    "eu.settings.datasetdir = \"../_data/datasets/\"\n",
    "eu.settings.datasetdir"
   ]
  },
  {
   "cell_type": "code",
   "execution_count": 80,
   "id": "f8b9a2e2",
   "metadata": {},
   "outputs": [
    {
     "name": "stdout",
     "output_type": "stream",
     "text": [
      "Dataset farley15 farley2015_seqs.csv has already been dowloaded.\n",
      "Dataset farley15 farley2015_seqs_annot.csv has already been dowloaded.\n"
     ]
    },
    {
     "data": {
      "text/plain": [
       "SeqData object with = 163708 seqs\n",
       "seqs = (163708,)\n",
       "names = (163708,)\n",
       "rev_seqs = None\n",
       "ohe_seqs = None\n",
       "ohe_rev_seqs = None\n",
       "seqs_annot: 'Barcode', 'Biological Replicate 1 (RPM)', 'Biological Replicate 2 (RPM)'\n",
       "pos_annot: None\n",
       "seqsm: None\n",
       "uns: None"
      ]
     },
     "execution_count": 80,
     "metadata": {},
     "output_type": "execute_result"
    }
   ],
   "source": [
    "sdata = eu.datasets.farley15()\n",
    "sdata"
   ]
  },
  {
   "cell_type": "code",
   "execution_count": 81,
   "id": "6a93f027",
   "metadata": {},
   "outputs": [],
   "source": [
    "sdata.seqs_annot[\"SEQ_LEN\"] = [len(seq) for seq in sdata.seqs]"
   ]
  },
  {
   "cell_type": "code",
   "execution_count": 82,
   "id": "869db3a4",
   "metadata": {},
   "outputs": [],
   "source": [
    "sdata_processed = sdata[sdata[\"SEQ_LEN\"] == 69]"
   ]
  },
  {
   "cell_type": "code",
   "execution_count": 83,
   "id": "f4af1047",
   "metadata": {},
   "outputs": [
    {
     "data": {
      "application/vnd.jupyter.widget-view+json": {
       "model_id": "fe6db4a777534ab4b9e90f304932e97a",
       "version_major": 2,
       "version_minor": 0
      },
      "text/plain": [
       "  0%|          | 0/3 [00:00<?, ?it/s]"
      ]
     },
     "metadata": {},
     "output_type": "display_data"
    },
    {
     "name": "stdout",
     "output_type": "stream",
     "text": [
      "reverse_complement\n",
      "one_hot_encode\n",
      "train_test_split\n",
      "SeqData object modified:\n",
      "\trev_seqs: None -> 151810 rev_seqs added\n",
      "\tohe_seqs: None -> 151810 ohe_seqs added\n",
      "\tohe_rev_seqs: None -> 151810 ohe_rev_seqs added\n",
      "    seqs_annot:\n",
      "        + TRAIN\n"
     ]
    }
   ],
   "source": [
    "eu.pp.prepare_data(sdata_processed)"
   ]
  },
  {
   "cell_type": "code",
   "execution_count": 84,
   "id": "2a9a20a9",
   "metadata": {},
   "outputs": [],
   "source": [
    "sdata_processed.seqs_annot[\"TARGETS\"] = sdata_processed.seqs_annot[[\"Biological Replicate 1 (RPM)\", \"Biological Replicate 1 (RPM)\"]].max(axis=1)"
   ]
  },
  {
   "cell_type": "code",
   "execution_count": 86,
   "id": "dbb5add5",
   "metadata": {},
   "outputs": [
    {
     "name": "stdout",
     "output_type": "stream",
     "text": [
      "SeqData object modified:\n",
      "    seqs_annot:\n",
      "        + TARGETS_SCALED\n"
     ]
    }
   ],
   "source": [
    "eu.pp.scale_targets(sdata_processed)"
   ]
  },
  {
   "cell_type": "code",
   "execution_count": 88,
   "id": "528a4bd9",
   "metadata": {},
   "outputs": [
    {
     "data": {
      "image/png": "[encoded data removed]",
      "text/plain": [
       "<Figure size 432x432 with 1 Axes>"
      ]
     },
     "metadata": {
      "needs_background": "light"
     },
     "output_type": "display_data"
    }
   ],
   "source": [
    "eu.pl.violin(sdata_processed, value=\"TARGETS_SCALED\")"
   ]
  },
  {
   "cell_type": "code",
   "execution_count": 74,
   "id": "64aa3b44",
   "metadata": {},
   "outputs": [
    {
     "data": {
      "text/plain": [
       "SeqData object with = 151810 seqs\n",
       "seqs = (151810,)\n",
       "names = None\n",
       "rev_seqs = (151810,)\n",
       "ohe_seqs = (151810, 69, 4)\n",
       "ohe_rev_seqs = (151810, 69, 4)\n",
       "seqs_annot: 'Barcode', 'Biological Replicate 1 (RPM)', 'Biological Replicate 2 (RPM)', 'SEQ_LEN', 'TRAIN', 'TARGETS', 'TARGETS_SCALED'\n",
       "pos_annot: None\n",
       "seqsm: None\n",
       "uns: None"
      ]
     },
     "execution_count": 74,
     "metadata": {},
     "output_type": "execute_result"
    }
   ],
   "source": [
    "sdata_processed"
   ]
  },
  {
   "cell_type": "code",
   "execution_count": 93,
   "id": "39dfb41e",
   "metadata": {},
   "outputs": [],
   "source": [
    "add_seqs_annot = pd.read_csv(\"../_data/datasets/farley15/farley2015_seqs_annot.csv\", index_col=1)"
   ]
  },
  {
   "cell_type": "code",
   "execution_count": 105,
   "id": "9392ea92",
   "metadata": {},
   "outputs": [],
   "source": [
    "model = eu.models.DeepBind(input_len=69, output_dim=1)"
   ]
  },
  {
   "cell_type": "code",
   "execution_count": 107,
   "id": "b3e79944",
   "metadata": {},
   "outputs": [
    {
     "name": "stderr",
     "output_type": "stream",
     "text": [
      "GPU available: False, used: False\n",
      "TPU available: False, using: 0 TPU cores\n",
      "IPU available: False, using: 0 IPUs\n",
      "\n",
      "  | Name      | Type                      | Params\n",
      "--------------------------------------------------------\n",
      "0 | r_squared | R2Score                   | 0     \n",
      "1 | max_pool  | MaxPool1d                 | 0     \n",
      "2 | avg_pool  | AvgPool1d                 | 0     \n",
      "3 | convnet   | BasicConv1D               | 272   \n",
      "4 | fcn       | BasicFullyConnectedModule | 152 K \n",
      "--------------------------------------------------------\n",
      "153 K     Trainable params\n",
      "0         Non-trainable params\n",
      "153 K     Total params\n",
      "0.613     Total estimated model params size (MB)\n"
     ]
    },
    {
     "data": {
      "application/vnd.jupyter.widget-view+json": {
       "model_id": "639d6e4f6d614777a0178228cea5a4dd",
       "version_major": 2,
       "version_minor": 0
      },
      "text/plain": [
       "Validation sanity check: 0it [00:00, ?it/s]"
      ]
     },
     "metadata": {},
     "output_type": "display_data"
    },
    {
     "name": "stderr",
     "output_type": "stream",
     "text": [
      "/cellar/users/aklie/opt/miniconda3/envs/eugene/lib/python3.7/site-packages/pytorch_lightning/trainer/data_loading.py:133: UserWarning: The dataloader, val_dataloader 0, does not have many workers which may be a bottleneck. Consider increasing the value of the `num_workers` argument` (try 16 which is the number of cpus on this machine) in the `DataLoader` init to improve performance.\n",
      "  f\"The dataloader, {name}, does not have many workers which may be a bottleneck.\"\n",
      "Global seed set to 13\n",
      "/cellar/users/aklie/opt/miniconda3/envs/eugene/lib/python3.7/site-packages/pytorch_lightning/trainer/data_loading.py:133: UserWarning: The dataloader, train_dataloader, does not have many workers which may be a bottleneck. Consider increasing the value of the `num_workers` argument` (try 16 which is the number of cpus on this machine) in the `DataLoader` init to improve performance.\n",
      "  f\"The dataloader, {name}, does not have many workers which may be a bottleneck.\"\n"
     ]
    },
    {
     "data": {
      "application/vnd.jupyter.widget-view+json": {
       "model_id": "3b3e82889b4c4f2882fe1d535b4b60ea",
       "version_major": 2,
       "version_minor": 0
      },
      "text/plain": [
       "Training: 0it [00:00, ?it/s]"
      ]
     },
     "metadata": {},
     "output_type": "display_data"
    },
    {
     "data": {
      "application/vnd.jupyter.widget-view+json": {
       "model_id": "08142a4d2e1449148543bbbdd8d2342e",
       "version_major": 2,
       "version_minor": 0
      },
      "text/plain": [
       "Validating: 0it [00:00, ?it/s]"
      ]
     },
     "metadata": {},
     "output_type": "display_data"
    }
   ],
   "source": [
    "eu.train.fit(model, sdata=sdata_processed, target_label=\"TARGETS_SCALED\", epochs=10, log_dir=\"../_logs\", out_dir=\"../_out/farley15\")"
   ]
  },
  {
   "cell_type": "markdown",
   "id": "198f80c7",
   "metadata": {},
   "source": [
    "---"
   ]
  },
  {
   "cell_type": "markdown",
   "id": "489841f8",
   "metadata": {},
   "source": [
    "# Scratch"
   ]
  },
  {
   "cell_type": "code",
   "execution_count": 6,
   "id": "123e86bd",
   "metadata": {},
   "outputs": [],
   "source": [
    "from eugene.datasets._utils import try_download_urls"
   ]
  },
  {
   "cell_type": "code",
   "execution_count": 13,
   "id": "6f2f1876",
   "metadata": {},
   "outputs": [
    {
     "name": "stdout",
     "output_type": "stream",
     "text": [
      "Dataset farley15 farley2015_seqs.csv has already been dowloaded.\n",
      "Dataset farley15 farley2015_seqs_annot.csv has already been dowloaded.\n"
     ]
    }
   ],
   "source": [
    "urls_list = [\"https://zenodo.org/record/6863861/files/farley2015_seqs.csv?download=1\",\n",
    "\"https://zenodo.org/record/6863861/files/farley2015_seqs_annot.csv?download=1\"]\n",
    "paths = try_download_urls([0,1], urls_list, \"farley15\", compression = \"\") "
   ]
  },
  {
   "cell_type": "code",
   "execution_count": 14,
   "id": "33060106",
   "metadata": {},
   "outputs": [],
   "source": [
    "path = paths[0]"
   ]
  },
  {
   "cell_type": "code",
   "execution_count": null,
   "id": "7f48c430",
   "metadata": {},
   "outputs": [],
   "source": [
    "eu.dl.read_csv(path, sep=\",\", seq_col=seq_col, target_col=target_col, col_names=[seq_col,target_col], auto_name=True, compression=\"\")"
   ]
  }
 ],
 "metadata": {
  "kernelspec": {
   "display_name": "Python 3.7.12 ('eugene')",
   "language": "python",
   "name": "python3"
  },
  "language_info": {
   "codemirror_mode": {
    "name": "ipython",
    "version": 3
   },
   "file_extension": ".py",
   "mimetype": "text/x-python",
   "name": "python",
   "nbconvert_exporter": "python",
   "pygments_lexer": "ipython3",
   "version": "3.7.12"
  },
  "vscode": {
   "interpreter": {
    "hash": "1330bbbf2c4cf53098ef1254540d5dd54a9d501f0408fea1c04a20872667b797"
   }
  }
 },
 "nbformat": 4,
 "nbformat_minor": 5
}

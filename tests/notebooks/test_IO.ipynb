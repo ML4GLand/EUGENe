{
 "cells": [
  {
   "cell_type": "markdown",
   "id": "c3daa03e",
   "metadata": {},
   "source": [
    "# Testing Sequence `dataloading` module"
   ]
  },
  {
   "cell_type": "markdown",
   "id": "91689580",
   "metadata": {
    "tags": []
   },
   "source": [
    "**Authorship:**\n",
    "Adam Klie, *03/02/2022*\n",
    "***\n",
    "**Description:**\n",
    "Notebook for testing out `dataloading` module."
   ]
  },
  {
   "cell_type": "code",
   "execution_count": null,
   "id": "92833b89",
   "metadata": {
    "execution": {
     "iopub.execute_input": "2022-04-24T18:43:50.141019Z",
     "iopub.status.busy": "2022-04-24T18:43:50.140893Z",
     "iopub.status.idle": "2022-04-24T18:43:57.795293Z",
     "shell.execute_reply": "2022-04-24T18:43:57.794764Z",
     "shell.execute_reply.started": "2022-04-24T18:43:50.140980Z"
    },
    "tags": []
   },
   "outputs": [
    {
     "name": "stderr",
     "output_type": "stream",
     "text": [
      "Global seed set to 13\n",
      "Global seed set to 13\n",
      "Global seed set to 13\n"
     ]
    }
   ],
   "source": [
    "# Classics\n",
    "import numpy as np\n",
    "import pandas as pd\n",
    "\n",
    "# Autoreload extension\n",
    "if 'autoreload' not in get_ipython().extension_manager.loaded:\n",
    "    %load_ext autoreload\n",
    "%autoreload 2\n",
    "\n",
    "import eugene as eu"
   ]
  }
 ],
 "metadata": {
  "language_info": {
   "name": "python"
  },
  "orig_nbformat": 4
 },
 "nbformat": 4,
 "nbformat_minor": 2
}

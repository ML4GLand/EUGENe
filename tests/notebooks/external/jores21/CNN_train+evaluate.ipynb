{
 "cells": [
  {
   "cell_type": "markdown",
   "metadata": {},
   "source": [
    "# Building a convolutional neural network to predict promoter strength"
   ]
  },
  {
   "cell_type": "markdown",
   "metadata": {},
   "source": [
    "## Import modules and define functions"
   ]
  },
  {
   "cell_type": "markdown",
   "metadata": {},
   "source": [
    "Import the required modules:"
   ]
  },
  {
   "cell_type": "code",
   "execution_count": 1,
   "metadata": {},
   "outputs": [
    {
     "name": "stderr",
     "output_type": "stream",
     "text": [
      "2022-08-01 15:45:09.091607: I tensorflow/stream_executor/platform/default/dso_loader.cc:49] Successfully opened dynamic library libcudart.so.10.1\n"
     ]
    }
   ],
   "source": [
    "import os\n",
    "import numpy as np\n",
    "import pandas as pd\n",
    "import re\n",
    "from sklearn.preprocessing import LabelEncoder, OneHotEncoder\n",
    "import tensorflow as tf\n",
    "from tensorflow import keras as k\n",
    "import tensorflow.keras.layers as kl\n",
    "from dataclasses import dataclass\n",
    "from typing import Optional\n",
    "from io import TextIOBase"
   ]
  },
  {
   "cell_type": "markdown",
   "metadata": {},
   "source": [
    "Enable GPU memory growth:"
   ]
  },
  {
   "cell_type": "code",
   "execution_count": 2,
   "metadata": {
    "tags": []
   },
   "outputs": [
    {
     "name": "stdout",
     "output_type": "stream",
     "text": [
      "1 Physical GPUs 1 Logical GPUs\n"
     ]
    },
    {
     "name": "stderr",
     "output_type": "stream",
     "text": [
      "2022-08-01 15:45:58.722623: I tensorflow/compiler/jit/xla_cpu_device.cc:41] Not creating XLA devices, tf_xla_enable_xla_devices not set\n",
      "2022-08-01 15:45:58.727500: I tensorflow/stream_executor/platform/default/dso_loader.cc:49] Successfully opened dynamic library libcuda.so.1\n",
      "2022-08-01 15:45:58.793479: I tensorflow/stream_executor/cuda/cuda_gpu_executor.cc:941] successful NUMA node read from SysFS had negative value (-1), but there must be at least one NUMA node, so returning NUMA node zero\n",
      "2022-08-01 15:45:58.794684: I tensorflow/core/common_runtime/gpu/gpu_device.cc:1720] Found device 0 with properties: \n",
      "pciBusID: 0000:c3:00.0 name: Quadro RTX 5000 computeCapability: 7.5\n",
      "coreClock: 1.815GHz coreCount: 48 deviceMemorySize: 15.75GiB deviceMemoryBandwidth: 417.29GiB/s\n",
      "2022-08-01 15:45:58.794707: I tensorflow/stream_executor/platform/default/dso_loader.cc:49] Successfully opened dynamic library libcudart.so.10.1\n",
      "2022-08-01 15:45:59.926723: I tensorflow/stream_executor/platform/default/dso_loader.cc:49] Successfully opened dynamic library libcublas.so.10\n",
      "2022-08-01 15:45:59.926833: I tensorflow/stream_executor/platform/default/dso_loader.cc:49] Successfully opened dynamic library libcublasLt.so.10\n",
      "2022-08-01 15:46:00.493666: I tensorflow/stream_executor/platform/default/dso_loader.cc:49] Successfully opened dynamic library libcufft.so.10\n",
      "2022-08-01 15:46:00.612482: I tensorflow/stream_executor/platform/default/dso_loader.cc:49] Successfully opened dynamic library libcurand.so.10\n",
      "2022-08-01 15:46:01.458237: I tensorflow/stream_executor/platform/default/dso_loader.cc:49] Successfully opened dynamic library libcusolver.so.10\n",
      "2022-08-01 15:46:01.671702: I tensorflow/stream_executor/platform/default/dso_loader.cc:49] Successfully opened dynamic library libcusparse.so.10\n",
      "2022-08-01 15:46:02.953392: I tensorflow/stream_executor/platform/default/dso_loader.cc:49] Successfully opened dynamic library libcudnn.so.7\n",
      "2022-08-01 15:46:02.953678: I tensorflow/stream_executor/cuda/cuda_gpu_executor.cc:941] successful NUMA node read from SysFS had negative value (-1), but there must be at least one NUMA node, so retur"
     ]
    }
   ],
   "source": [
    "gpus = tf.config.experimental.list_physical_devices('GPU')\n",
    "if gpus:\n",
    "    try:\n",
    "        # Currently, memory growth needs to be the same across GPUs\n",
    "        for gpu in gpus:\n",
    "            tf.config.experimental.set_memory_growth(gpu, True)\n",
    "        logical_gpus = tf.config.experimental.list_logical_devices('GPU')\n",
    "        print(len(gpus), \"Physical GPUs\", len(logical_gpus), \"Logical GPUs\")\n",
    "    except RuntimeError as e:\n",
    "        # Memory growth must be set before GPUs have been initialized\n",
    "        print(e)"
   ]
  },
  {
   "cell_type": "markdown",
   "metadata": {},
   "source": [
    "Define a function to one-hot encode the DNA sequences (adapted from https://colab.research.google.com/drive/17E4h5aAOioh5DiTo7MZg4hpL6Z_0FyWr):"
   ]
  },
  {
   "cell_type": "code",
   "execution_count": 3,
   "metadata": {},
   "outputs": [],
   "source": [
    "integer_encoder = LabelEncoder()  \n",
    "\n",
    "one_hot_encoder = OneHotEncoder(categories='auto')\n",
    "\n",
    "def one_hot_encoding(sequences, verbose = True): \n",
    "    one_hot_sequences = []\n",
    "\n",
    "    if verbose:\n",
    "        i = 0\n",
    "        print('one-hot encoding in progress ...', flush = True)\n",
    "    \n",
    "    for sequence in sequences:\n",
    "        integer_encoded = integer_encoder.fit_transform(list(sequence))\n",
    "        integer_encoded = np.array(integer_encoded).reshape(-1, 1)\n",
    "        one_hot_encoded = one_hot_encoder.fit_transform(integer_encoded)\n",
    "        one_hot_sequences.append(one_hot_encoded.toarray())\n",
    "    \n",
    "        if verbose:\n",
    "            i += 1\n",
    "            if i % 1000 == 0:\n",
    "                print(i, 'sequences processed', flush = True, end = '\\r')\n",
    "        \n",
    "    if verbose:\n",
    "        print('finished one-hot encoding:', i, 'sequences processed', flush = True)\n",
    "    \n",
    "    one_hot_sequences = np.stack(one_hot_sequences)\n",
    "\n",
    "    return one_hot_sequences"
   ]
  },
  {
   "cell_type": "markdown",
   "metadata": {},
   "source": [
    "Define a class to read in MEME files:"
   ]
  },
  {
   "cell_type": "code",
   "execution_count": 4,
   "metadata": {},
   "outputs": [],
   "source": [
    "@dataclass\n",
    "class Motif:\n",
    "    identifier: str\n",
    "    pfm: np.ndarray\n",
    "    alphabet_length: int\n",
    "    length: int\n",
    "    name: Optional[str] = None\n",
    "    source_sites: Optional[int] = None\n",
    "    source_evalue: Optional[float] = None\n",
    "    \n",
    "    def __len__(self) -> int:\n",
    "        return self.length\n",
    "    \n",
    "    \n",
    "class MinimalMEME:\n",
    "    \"\"\" http://meme-suite.org/doc/meme-format.html \"\"\"\n",
    "    \n",
    "    __version_regex = re.compile('^MEME version ([0-9]+)$')\n",
    "    __background_regex = re.compile('^Background letter frequencies(?: \\(from (.+)\\))?$')\n",
    "    __background_sum_error = 0.00001\n",
    "    __pfm_header_regex = re.compile('^letter-probability matrix:(?: alength= ([0-9]+))?(?: w= ([0-9]+))?(?: nsites= ([0-9]+))?(?: E= ([0-9.e-]+))?$')\n",
    "    version = None\n",
    "    alphabet = None\n",
    "    strands = None\n",
    "    background = None\n",
    "    background_source = None\n",
    "    motifs = None\n",
    "    \n",
    "    def __init__(self, path):\n",
    "        self.motifs = {}\n",
    "        \n",
    "        # parse the minimal MEME file\n",
    "        with open(path) as minimal_meme_file:\n",
    "            line = minimal_meme_file.readline()\n",
    "            # first line must be version\n",
    "            self.version = self._parse_version(line)\n",
    "\n",
    "            line = minimal_meme_file.readline()\n",
    "            while line:\n",
    "                if line.startswith('ALPHABET'):\n",
    "                    if self.alphabet is None:\n",
    "                        self.alphabet = self._parse_alphabet(line)\n",
    "                        line = minimal_meme_file.readline()\n",
    "                    else:\n",
    "                        raise RuntimeError(\"Multiple alphabet definitions encountered in MEME file\")\n",
    "                elif line.startswith('strands: '):\n",
    "                    if self.strands is None:\n",
    "                        self.strands = self._parse_strands(line)\n",
    "                        line = minimal_meme_file.readline()\n",
    "                    else:\n",
    "                        raise RuntimeError(\"Multiple strand definitions encountered in MEME file\")\n",
    "                elif line.startswith('Background letter frequencies'):\n",
    "                    if self.background is None:\n",
    "                        line = self._parse_background(line, minimal_meme_file)\n",
    "                    else:\n",
    "                        raise RuntimeError(\"Multiple background frequency definitions encountered in MEME file\")\n",
    "                elif line.startswith('MOTIF'):\n",
    "                    line = self._parse_motif(line, minimal_meme_file)\n",
    "                else:\n",
    "                    line = minimal_meme_file.readline()\n",
    "    \n",
    "    def _parse_version(self, line: str) -> str:\n",
    "        match = re.match(self.__version_regex, line)\n",
    "        if match:\n",
    "            return match.group(1)\n",
    "        else:\n",
    "            raise RuntimeError(\"Minimal MEME file missing version string on first line\")\n",
    "            \n",
    "    def _parse_alphabet(self, line: str) -> str:\n",
    "        if line.startswith('ALPHABET '):\n",
    "            raise NotImplementedError(\"Alphabet definitions not supported\")\n",
    "        elif line.startswith('ALPHABET= '):\n",
    "            return line.rstrip()[10:]\n",
    "        else:\n",
    "            raise RuntimeError('Unable to parse alphabet line')\n",
    "            \n",
    "    def _parse_strands(self, line: str) -> str:\n",
    "        strands = line.rstrip()[9:]\n",
    "        if not ((strands == '+') or (strands == '+ -')):\n",
    "            raise RuntimeError(\"Invalid strand specification\")\n",
    "        else:\n",
    "            return strands\n",
    "        \n",
    "    def _parse_background(self, line: str, handle: TextIOBase) -> str:\n",
    "        match = re.match(self.__background_regex, line)\n",
    "        if match:\n",
    "            if match.group(1) is not None:\n",
    "                self.background_source = match.group(1)\n",
    "        else:\n",
    "            raise RuntimeError(\"Unable to parse background frequency line\")\n",
    "\n",
    "        self.background = {}\n",
    "        # start parsing possibly multiple lines of background frequencies\n",
    "        line = handle.readline()\n",
    "        while line:\n",
    "            if (not line.rstrip()) or line.startswith('MOTIF'):\n",
    "                if abs(1 - sum(self.background.values())) <= self.__background_sum_error:\n",
    "                    return line\n",
    "                else:\n",
    "                    raise RuntimeError(\"Background frequencies do not sum to 1\")\n",
    "            else:\n",
    "                line_freqs = line.rstrip().split(' ')\n",
    "                if len(line_freqs) % 2 != 0:\n",
    "                    raise RuntimeError(\"Invalid background frequency definition\")\n",
    "                for residue, freq in zip(line_freqs[0::2], line_freqs[1::2]):\n",
    "                    self.background[residue] = float(freq)\n",
    "            line = handle.readline()\n",
    "    \n",
    "    def _parse_motif(self, line: str, handle: TextIOBase) -> str:\n",
    "        # parse motif identifier\n",
    "        line_split = line.rstrip().split(' ')\n",
    "        if (len(line_split) < 2) or (len(line_split) > 3):\n",
    "            raise RuntimeError(\"Invalid motif name line\")\n",
    "        motif_identifier = line_split[1]\n",
    "        motif_name = line_split[2] if len(line_split) == 3 else None\n",
    "        \n",
    "        line = handle.readline()\n",
    "        # parse letter probability matrix header\n",
    "        if not line.startswith('letter-probability matrix:'):\n",
    "            raise RuntimeError(\"No letter-probability matrix header line in motif entry\")\n",
    "        match = re.match(self.__pfm_header_regex, line)\n",
    "        if match:\n",
    "            motif_alphabet_length = int(match.group(1)) if match.group(1) is not None else None\n",
    "            motif_length = int(match.group(2)) if match.group(2) is not None else None\n",
    "            motif_source_sites = int(match.group(3)) if match.group(3) is not None else None\n",
    "            motif_source_evalue = float(match.group(4)) if match.group(4) is not None else None\n",
    "        else:\n",
    "            raise RuntimeError(\"Unable to parse letter-probability matrix header\")\n",
    "        \n",
    "        # parse letter probability matrix\n",
    "        line = handle.readline()\n",
    "        pfm_rows = []\n",
    "        while line:\n",
    "            if (not line.rstrip()) or line.startswith('MOTIF'):\n",
    "                if motif_identifier in self.motifs:\n",
    "                    raise RuntimeError(\"Motif identifiers not unique within file\")\n",
    "                pfm = np.stack(pfm_rows)\n",
    "                if motif_length is None:\n",
    "                    motif_length = pfm.shape[0]\n",
    "                elif motif_length != pfm.shape[0]:\n",
    "                    raise RuntimeError(\"Provided motif length is not consistent with the letter-probability matrix shape\")\n",
    "                self.motifs[motif_identifier] = Motif(\n",
    "                    identifier = motif_identifier,\n",
    "                    pfm = pfm,\n",
    "                    alphabet_length = motif_alphabet_length,\n",
    "                    length = motif_length,\n",
    "                    name = motif_name,\n",
    "                    source_sites = motif_source_sites,\n",
    "                    source_evalue = motif_source_evalue\n",
    "                )\n",
    "                return line\n",
    "            else:\n",
    "                line_split = line.rstrip().split()\n",
    "                if motif_alphabet_length is None:\n",
    "                    motif_alphabet_length = len(line_split)\n",
    "                elif motif_alphabet_length != len(line_split):\n",
    "                    raise RuntimeError(\"Letter-probability matrix row length doesn't equal alphabet length\")\n",
    "                pfm_row = np.array([float(s) for s in line_split])\n",
    "                pfm_rows.append(pfm_row)\n",
    "                line = handle.readline()"
   ]
  },
  {
   "cell_type": "markdown",
   "metadata": {},
   "source": [
    "## Load and convert the data to the required format"
   ]
  },
  {
   "cell_type": "markdown",
   "metadata": {},
   "source": [
    "Load CPE and TF motifs:"
   ]
  },
  {
   "cell_type": "code",
   "execution_count": 5,
   "metadata": {},
   "outputs": [],
   "source": [
    "core_promoter_elements = MinimalMEME('/cellar/users/aklie/projects/EUGENe/tests/_data/datasets/jores21/CPEs.meme')\n",
    "tf_groups = MinimalMEME('/cellar/users/aklie/projects/EUGENe/tests/_data/datasets/jores21/TF-clusters.meme')\n",
    "all_motifs = {**core_promoter_elements.motifs, **tf_groups.motifs}"
   ]
  },
  {
   "cell_type": "markdown",
   "metadata": {},
   "source": [
    "Load the training and test data:"
   ]
  },
  {
   "cell_type": "code",
   "execution_count": 6,
   "metadata": {},
   "outputs": [],
   "source": [
    "data_test_leaf = pd.read_csv('/cellar/users/aklie/projects/EUGENe/tests/_data/datasets/jores21/CNN_test_leaf.tsv', sep = '\\t', header = 0)\n",
    "data_train_leaf = pd.read_csv('/cellar/users/aklie/projects/EUGENe/tests/_data/datasets/jores21/CNN_train_leaf.tsv', sep = '\\t', header = 0)\n",
    "data_test_proto = pd.read_csv('/cellar/users/aklie/projects/EUGENe/tests/_data/datasets/jores21/CNN_test_proto.tsv', sep = '\\t', header = 0)\n",
    "data_train_proto = pd.read_csv('/cellar/users/aklie/projects/EUGENe/tests/_data/datasets/jores21/CNN_train_proto.tsv', sep = '\\t', header = 0)"
   ]
  },
  {
   "cell_type": "markdown",
   "metadata": {},
   "source": [
    "One-hot encode the promoter sequences:"
   ]
  },
  {
   "cell_type": "code",
   "execution_count": 7,
   "metadata": {},
   "outputs": [
    {
     "name": "stdout",
     "output_type": "stream",
     "text": [
      "one-hot encoding in progress ...\n",
      "finished one-hot encoding: 65004 sequences processed\n",
      "one-hot encoding in progress ...\n",
      "finished one-hot encoding: 7154 sequences processed\n",
      "one-hot encoding in progress ...\n",
      "finished one-hot encoding: 68213 sequences processed\n",
      "one-hot encoding in progress ...\n",
      "finished one-hot encoding: 7595 sequences processed\n"
     ]
    }
   ],
   "source": [
    "train_sequences_leaf = one_hot_encoding(data_train_leaf['sequence'])\n",
    "test_sequences_leaf = one_hot_encoding(data_test_leaf['sequence'])\n",
    "train_sequences_proto = one_hot_encoding(data_train_proto['sequence'])\n",
    "test_sequences_proto = one_hot_encoding(data_test_proto['sequence'])"
   ]
  },
  {
   "cell_type": "markdown",
   "metadata": {},
   "source": [
    "Convert the enrichment value to an array of the correct shape."
   ]
  },
  {
   "cell_type": "code",
   "execution_count": 8,
   "metadata": {},
   "outputs": [],
   "source": [
    "train_enrichment_leaf = np.array(data_train_leaf['enrichment']).reshape(-1, 1)\n",
    "test_enrichment_leaf = np.array(data_test_leaf['enrichment']).reshape(-1, 1)\n",
    "train_enrichment_proto = np.array(data_train_proto['enrichment']).reshape(-1, 1)\n",
    "test_enrichment_proto = np.array(data_test_proto['enrichment']).reshape(-1, 1)"
   ]
  },
  {
   "cell_type": "markdown",
   "metadata": {},
   "source": [
    "## Build the models"
   ]
  },
  {
   "cell_type": "markdown",
   "metadata": {},
   "source": [
    "Define a bidirectional convolutional layer stack, inspired from DeepGMAP (https://doi.org/10.1371/journal.pone.0235748)"
   ]
  },
  {
   "cell_type": "code",
   "execution_count": 9,
   "metadata": {},
   "outputs": [],
   "source": [
    "class BiConv1D(kl.Layer):\n",
    "    def __init__(self, filters, kernel_size, layers = 2, stride = 1, dropout_rate = 0.15):\n",
    "        super().__init__()\n",
    "        self.filters = filters\n",
    "        self.kernel_size = kernel_size\n",
    "        if layers < 1:\n",
    "            raise ValueError(\"At least one layer needed\")\n",
    "        self.layers = layers\n",
    "        if (dropout_rate < 0) or (dropout_rate > 1):\n",
    "            raise ValueError(\"Dropout rate must be a float between 0 and 1\")\n",
    "        self.dropout_rate = dropout_rate\n",
    "        self.stride = stride\n",
    "    \n",
    "    def build(self, input_shape):\n",
    "        self.kernels = []\n",
    "        self.biases = []\n",
    "        for layer in range(self.layers):\n",
    "            self.kernels.append(self.add_weight(\n",
    "                f\"kernel{layer}\",\n",
    "                shape = (self.kernel_size, input_shape[-1], self.filters),\n",
    "                trainable = True,\n",
    "                initializer = k.initializers.GlorotUniform()\n",
    "            ))\n",
    "            self.biases.append(self.add_weight(\n",
    "                f\"bias{layer}\",\n",
    "                shape = (self.filters,),\n",
    "                trainable = True,\n",
    "                initializer = k.initializers.Zeros()\n",
    "            ))\n",
    "\n",
    "    def call(self, input):\n",
    "        # first layer\n",
    "        x_fwd = tf.nn.conv1d(input, self.kernels[0], stride = self.stride, padding = 'SAME')\n",
    "        x_fwd = tf.add(x_fwd, self.biases[0])\n",
    "        x_fwd = tf.nn.dropout(tf.nn.relu(x_fwd), rate = self.dropout_rate)\n",
    "        x_rev = tf.nn.conv1d(input, tf.reverse(self.kernels[0], axis = [1, 2]), stride = self.stride, padding = 'SAME')\n",
    "        x_rev = tf.add(x_fwd, self.biases[0])\n",
    "        x_rev = tf.nn.dropout(tf.nn.relu(x_rev), rate = self.dropout_rate)\n",
    "    \n",
    "        # subsequent layers\n",
    "        for layer in range(1, self.layers):\n",
    "            x_fwd = tf.nn.conv1d(x_fwd, self.kernels[layer], stride = self.stride, padding = 'SAME')\n",
    "            x_fwd = tf.add(x_fwd, self.biases[layer])\n",
    "            x_fwd = tf.nn.dropout(tf.nn.relu(x_fwd), rate = self.dropout_rate)\n",
    "            x_rev = tf.nn.conv1d(x_rev, tf.reverse(self.kernels[layer], axis = [1, 2]), stride = self.stride, padding = 'SAME')\n",
    "            x_rev = tf.add(x_fwd, self.biases[layer])\n",
    "            x_rev = tf.nn.dropout(tf.nn.relu(x_rev), rate = self.dropout_rate)\n",
    "        \n",
    "        return tf.math.add(x_fwd, x_rev)"
   ]
  },
  {
   "cell_type": "markdown",
   "metadata": {},
   "source": [
    "Define a function to build the bidirectional model:"
   ]
  },
  {
   "cell_type": "code",
   "execution_count": 10,
   "metadata": {},
   "outputs": [],
   "source": [
    "def build_bidirectional_model(motif_kernel: np.ndarray):\n",
    "    # motif_kernel.shape[2] is filters, shape[0] is kernel size\n",
    "    inputs = kl.Input((170, 4))\n",
    "    x = BiConv1D(filters = motif_kernel.shape[2], kernel_size = motif_kernel.shape[0], layers = 2)(inputs)\n",
    "    x = kl.Conv1D(filters = 128, kernel_size = 13, padding = 'same', activation = 'relu')(x)\n",
    "    x = kl.Dropout(0.15)(x)\n",
    "    x = kl.Flatten()(x)\n",
    "    x = kl.Dense(64)(x)\n",
    "    x = kl.BatchNormalization()(x)\n",
    "    x = kl.Activation('relu')(x)\n",
    "    outputs = kl.Dense(1)(x)\n",
    "    model = k.Model(inputs = inputs, outputs = outputs, name = \"BiDirectionalCNN\")\n",
    "    # initialize first layer kernel with motifs\n",
    "    model.layers[1].kernels[0].assign(motif_kernel)\n",
    "    return model"
   ]
  },
  {
   "cell_type": "code",
   "execution_count": 11,
   "metadata": {},
   "outputs": [],
   "source": [
    "kernel = k.initializers.glorot_uniform()(shape = (13, 4, 128)).numpy()\n",
    "\n",
    "# overwrite part of kernel with pfms from motifs\n",
    "for i, motif_id in enumerate(all_motifs):\n",
    "    motif = all_motifs[motif_id]\n",
    "    \n",
    "    # convert PFM to PWM, assume equal background frequency of 0.25\n",
    "    # truncates motifs longer than 13bp to 13bp\n",
    "    kernel[:min(len(motif), kernel.shape[0]), :, i] = motif.pfm[:min(len(motif), kernel.shape[0]), :] / 0.25"
   ]
  },
  {
   "cell_type": "markdown",
   "metadata": {},
   "source": [
    "Build and compile the models:"
   ]
  },
  {
   "cell_type": "code",
   "execution_count": 12,
   "metadata": {},
   "outputs": [
    {
     "name": "stdout",
     "output_type": "stream",
     "text": [
      "WARNING:tensorflow:AutoGraph could not transform <bound method BiConv1D.call of <__main__.BiConv1D object at 0x1554e87b90d0>> and will run it as-is.\n",
      "Please report this to the TensorFlow team. When filing the bug, set the verbosity to 10 (on Linux, `export AUTOGRAPH_VERBOSITY=10`) and attach the full output.\n",
      "Cause: module 'gast' has no attribute 'Index'\n",
      "To silence this warning, decorate the function with @tf.autograph.experimental.do_not_convert\n",
      "WARNING: AutoGraph could not transform <bound method BiConv1D.call of <__main__.BiConv1D object at 0x1554e87b90d0>> and will run it as-is.\n",
      "Please report this to the TensorFlow team. When filing the bug, set the verbosity to 10 (on Linux, `export AUTOGRAPH_VERBOSITY=10`) and attach the full output.\n",
      "Cause: module 'gast' has no attribute 'Index'\n",
      "To silence this warning, decorate the function with @tf.autograph.experimental.do_not_convert\n"
     ]
    }
   ],
   "source": [
    "model_leaf = build_bidirectional_model(kernel)\n",
    "model_proto = build_bidirectional_model(kernel)\n",
    "\n",
    "model_leaf.compile(\n",
    "    loss = 'mean_squared_error',\n",
    "    optimizer = 'Adam',\n",
    "    metrics = ['mean_squared_error']\n",
    ")\n",
    "model_proto.compile(\n",
    "    loss = 'mean_squared_error',\n",
    "    optimizer = 'Adam',\n",
    "    metrics = ['mean_squared_error']\n",
    ")"
   ]
  },
  {
   "cell_type": "code",
   "execution_count": 13,
   "metadata": {},
   "outputs": [
    {
     "name": "stdout",
     "output_type": "stream",
     "text": [
      "Model: \"BiDirectionalCNN\"\n",
      "_________________________________________________________________\n",
      "Layer (type)                 Output Shape              Param #   \n",
      "=================================================================\n",
      "input_2 (InputLayer)         [(None, 170, 4)]          0         \n",
      "_________________________________________________________________\n",
      "bi_conv1d_1 (BiConv1D)       (None, 170, 128)          13568     \n",
      "_________________________________________________________________\n",
      "conv1d_1 (Conv1D)            (None, 170, 128)          213120    \n",
      "_________________________________________________________________\n",
      "dropout_1 (Dropout)          (None, 170, 128)          0         \n",
      "_________________________________________________________________\n",
      "flatten_1 (Flatten)          (None, 21760)             0         \n",
      "_________________________________________________________________\n",
      "dense_2 (Dense)              (None, 64)                1392704   \n",
      "_________________________________________________________________\n",
      "batch_normalization_1 (Batch (None, 64)                256       \n",
      "_________________________________________________________________\n",
      "activation_1 (Activation)    (None, 64)                0         \n",
      "_________________________________________________________________\n",
      "dense_3 (Dense)              (None, 1)                 65        \n",
      "=================================================================\n",
      "Total params: 1,619,713\n",
      "Trainable params: 1,619,585\n",
      "Non-trainable params: 128\n",
      "_________________________________________________________________\n"
     ]
    }
   ],
   "source": [
    "model_proto.summary()"
   ]
  },
  {
   "cell_type": "markdown",
   "metadata": {},
   "source": [
    "Define training parameters:"
   ]
  },
  {
   "cell_type": "code",
   "execution_count": 15,
   "metadata": {},
   "outputs": [],
   "source": [
    "earlyStop = k.callbacks.EarlyStopping(patience = 5)\n",
    "#reduceLR = k.callbacks.ReduceLROnPlateau(patience = 2)"
   ]
  },
  {
   "cell_type": "markdown",
   "metadata": {},
   "source": [
    "Train the model for the tobacco leaf system:"
   ]
  },
  {
   "cell_type": "code",
   "execution_count": 16,
   "metadata": {},
   "outputs": [
    {
     "name": "stderr",
     "output_type": "stream",
     "text": [
      "2022-08-01 15:48:34.695173: I tensorflow/compiler/mlir/mlir_graph_optimization_pass.cc:116] None of the MLIR optimization passes are enabled (registered 2)\n",
      "2022-08-01 15:48:34.739658: I tensorflow/core/platform/profile_utils/cpu_utils.cc:112] CPU Frequency: 2999865000 Hz\n"
     ]
    },
    {
     "name": "stdout",
     "output_type": "stream",
     "text": [
      "Epoch 1/25\n"
     ]
    },
    {
     "name": "stderr",
     "output_type": "stream",
     "text": [
      "2022-08-01 15:48:35.725587: I tensorflow/stream_executor/platform/default/dso_loader.cc:49] Successfully opened dynamic library libcublas.so.10\n",
      "2022-08-01 15:48:37.854862: I tensorflow/stream_executor/platform/default/dso_loader.cc:49] Successfully opened dynamic library libcudnn.so.7\n"
     ]
    },
    {
     "name": "stdout",
     "output_type": "stream",
     "text": [
      "458/458 [==============================] - 16s 11ms/step - loss: 3.0290 - mean_squared_error: 3.0290 - val_loss: 1.7665 - val_mean_squared_error: 1.7665\n",
      "Epoch 2/25\n",
      "458/458 [==============================] - 4s 9ms/step - loss: 1.1256 - mean_squared_error: 1.1256 - val_loss: 1.5998 - val_mean_squared_error: 1.5998\n",
      "Epoch 3/25\n",
      "458/458 [==============================] - 4s 9ms/step - loss: 1.0072 - mean_squared_error: 1.0072 - val_loss: 1.4194 - val_mean_squared_error: 1.4194\n",
      "Epoch 4/25\n",
      "458/458 [==============================] - 4s 9ms/step - loss: 0.9567 - mean_squared_error: 0.9567 - val_loss: 1.4114 - val_mean_squared_error: 1.4114\n",
      "Epoch 5/25\n",
      "458/458 [==============================] - 4s 9ms/step - loss: 0.8935 - mean_squared_error: 0.8935 - val_loss: 1.3507 - val_mean_squared_error: 1.3507\n",
      "Epoch 6/25\n",
      "458/458 [==============================] - 4s 10ms/step - loss: 0.8771 - mean_squared_error: 0.8771 - val_loss: 2.1755 - val_mean_squared_error: 2.1755\n",
      "Epoch 7/25\n",
      "458/458 [==============================] - 4s 10ms/step - loss: 0.8598 - mean_squared_error: 0.8598 - val_loss: 1.4200 - val_mean_squared_error: 1.4200\n",
      "Epoch 8/25\n",
      "458/458 [==============================] - 4s 10ms/step - loss: 0.8274 - mean_squared_error: 0.8274 - val_loss: 1.2635 - val_mean_squared_error: 1.2635\n",
      "Epoch 9/25\n",
      "458/458 [==============================] - 4s 9ms/step - loss: 0.7919 - mean_squared_error: 0.7919 - val_loss: 1.2233 - val_mean_squared_error: 1.2233\n",
      "Epoch 10/25\n",
      "458/458 [==============================] - 4s 9ms/step - loss: 0.7589 - mean_squared_error: 0.7589 - val_loss: 1.2821 - val_mean_squared_error: 1.2821\n",
      "Epoch 11/25\n",
      "458/458 [==============================] - 4s 9ms/step - loss: 0.7408 - mean_squared_error: 0.7408 - val_loss: 1.3636 - val_mean_squared_error: 1.3636\n",
      "Epoch 12/25\n",
      "458/458 [==============================] - 4s 9ms/step - loss: 0.7041 - mean_squared_error: 0.7041 - val_loss: 1.2219 - val_mean_squared_error: 1.2219\n",
      "Epoch 13/25\n",
      "458/458 [==============================] - 4s 9ms/step - loss: 0.6790 - mean_squared_error: 0.6790 - val_loss: 1.2616 - val_mean_squared_error: 1.2616\n",
      "Epoch 14/25\n",
      "458/458 [==============================] - 4s 9ms/step - loss: 0.6560 - mean_squared_error: 0.6560 - val_loss: 1.3128 - val_mean_squared_error: 1.3128\n",
      "Epoch 15/25\n",
      "458/458 [==============================] - 4s 9ms/step - loss: 0.6204 - mean_squared_error: 0.6204 - val_loss: 1.5506 - val_mean_squared_error: 1.5506\n",
      "Epoch 16/25\n",
      "458/458 [==============================] - 4s 9ms/step - loss: 0.5833 - mean_squared_error: 0.5833 - val_loss: 1.3898 - val_mean_squared_error: 1.3898\n",
      "Epoch 17/25\n",
      "458/458 [==============================] - 4s 9ms/step - loss: 0.5707 - mean_squared_error: 0.5707 - val_loss: 1.3766 - val_mean_squared_error: 1.3766\n"
     ]
    }
   ],
   "source": [
    "if os.path.isdir('model_leaf'):\n",
    "    # load previously trained model\n",
    "    model_leaf = k.models.load_model('model_leaf')\n",
    "else:\n",
    "    # train model\n",
    "    model_leaf.fit(\n",
    "        train_sequences_leaf,\n",
    "        train_enrichment_leaf, \n",
    "        epochs = 25,\n",
    "        batch_size = 128,\n",
    "        validation_split = 0.1,\n",
    "        callbacks = [earlyStop], #reduceLR],\n",
    "        verbose = 1\n",
    "    )"
   ]
  },
  {
   "cell_type": "code",
   "execution_count": null,
   "metadata": {},
   "outputs": [],
   "source": [
    "# save model\n",
    "# model_leaf.save('model_leaf')"
   ]
  },
  {
   "cell_type": "code",
   "execution_count": 29,
   "metadata": {},
   "outputs": [
    {
     "name": "stdout",
     "output_type": "stream",
     "text": [
      "0.001\n"
     ]
    }
   ],
   "source": [
    "print(k.backend.eval(model_leaf.optimizer.lr))"
   ]
  },
  {
   "cell_type": "markdown",
   "metadata": {},
   "source": [
    "Train the model for the maize protoplast system:"
   ]
  },
  {
   "cell_type": "code",
   "execution_count": 15,
   "metadata": {},
   "outputs": [],
   "source": [
    "\"\"\"\n",
    "if os.path.isdir('model_proto'):\n",
    "    # load previously trained model\n",
    "    model_proto = k.models.load_model('model_proto')\n",
    "else:\n",
    "    # train model\n",
    "    model_proto.fit(\n",
    "        train_sequences_proto,\n",
    "        train_enrichment_proto, \n",
    "        epochs = 25,\n",
    "        batch_size = 128,\n",
    "        validation_split = 0.1,\n",
    "        callbacks = [earlyStop, reduceLR],\n",
    "        verbose = 1\n",
    "    )\n",
    "\n",
    "    # save model\n",
    "    model_proto.save('model_proto')\n",
    "\"\"\""
   ]
  },
  {
   "cell_type": "markdown",
   "metadata": {},
   "source": [
    "## Evalutate the models"
   ]
  },
  {
   "cell_type": "markdown",
   "metadata": {},
   "source": [
    "Predict enrichment for the training and test sets:"
   ]
  },
  {
   "cell_type": "code",
   "execution_count": 17,
   "metadata": {},
   "outputs": [],
   "source": [
    "predicted_enrichment_train_leaf = model_leaf.predict(np.stack(train_sequences_leaf))\n",
    "predicted_enrichment_test_leaf = model_leaf.predict(np.stack(test_sequences_leaf))\n",
    "#predicted_enrichment_train_proto = model_proto.predict(np.stack(train_sequences_proto))\n",
    "#predicted_enrichment_test_proto = model_proto.predict(np.stack(test_sequences_proto))"
   ]
  },
  {
   "cell_type": "markdown",
   "metadata": {},
   "source": [
    "Add predicted values to the dataframe:"
   ]
  },
  {
   "cell_type": "code",
   "execution_count": 18,
   "metadata": {},
   "outputs": [],
   "source": [
    "data_test_leaf['prediction'] = predicted_enrichment_test_leaf\n",
    "data_train_leaf['prediction'] = predicted_enrichment_train_leaf\n",
    "#data_test_proto['prediction'] = predicted_enrichment_test_proto\n",
    "#data_train_proto['prediction'] = predicted_enrichment_train_proto"
   ]
  },
  {
   "cell_type": "markdown",
   "metadata": {},
   "source": [
    "Rename column with species identifier (for compatibility with LaTeX plotting code) and shuffle data to avoid one species always being drawn on top of another:"
   ]
  },
  {
   "cell_type": "code",
   "execution_count": 19,
   "metadata": {},
   "outputs": [],
   "source": [
    "data_test_leaf = data_test_leaf.rename(columns = {'sp' : 'sample.name'}).sample(frac = 1)\n",
    "data_train_leaf = data_train_leaf.rename(columns = {'sp' : 'sample.name'}).sample(frac = 1)\n",
    "#data_test_proto = data_test_proto.rename(columns = {'sp' : 'sample.name'}).sample(frac = 1)\n",
    "#data_train_proto = data_train_proto.rename(columns = {'sp' : 'sample.name'}).sample(frac = 1)"
   ]
  },
  {
   "cell_type": "markdown",
   "metadata": {},
   "source": [
    "Define a function to calculate the correlation between the measured and predicted enrichment (overall and for each species individually):"
   ]
  },
  {
   "cell_type": "code",
   "execution_count": 20,
   "metadata": {},
   "outputs": [],
   "source": [
    "def get_cor(data):\n",
    "    samples = ['all', 'At', 'Zm', 'Sb']\n",
    "\n",
    "    rsquare = []\n",
    "    spearman = []\n",
    "\n",
    "    for species in samples:\n",
    "        if species == 'all':\n",
    "            data_filt = data\n",
    "        else:\n",
    "            data_filt = data[data['sample.name'] == species]\n",
    "        \n",
    "        rsquare.append(round(data_filt['enrichment'].corr(data_filt['prediction'])**2, 2))\n",
    "        spearman.append(round(data_filt['enrichment'].corr(data_filt['prediction'], method = 'spearman'), 2))\n",
    "\n",
    "    return pd.DataFrame({'sample.name' : samples, 'spearman' : spearman, 'rsquare' : rsquare})"
   ]
  },
  {
   "cell_type": "markdown",
   "metadata": {},
   "source": [
    "Calculate correlation for test and training set:"
   ]
  },
  {
   "cell_type": "code",
   "execution_count": 21,
   "metadata": {},
   "outputs": [],
   "source": [
    "correlation_test_leaf = get_cor(data_test_leaf)\n",
    "correlation_train_leaf = get_cor(data_train_leaf)\n",
    "#correlation_test_proto = get_cor(data_test_proto)\n",
    "#correlation_train_proto = get_cor(data_train_proto)"
   ]
  },
  {
   "cell_type": "markdown",
   "metadata": {},
   "source": [
    "Let's take a look at how well the model performed on the test set:"
   ]
  },
  {
   "cell_type": "code",
   "execution_count": 23,
   "metadata": {},
   "outputs": [
    {
     "name": "stdout",
     "output_type": "stream",
     "text": [
      "Training data in tobacco leaf system:\n",
      "  sample.name  spearman  rsquare\n",
      "0         all      0.89     0.79\n",
      "1          At      0.84     0.72\n",
      "2          Zm      0.89     0.79\n",
      "3          Sb      0.89     0.79\n",
      "\n",
      "Test data in tobacco leaf system:\n",
      "  sample.name  spearman  rsquare\n",
      "0         all      0.81     0.66\n",
      "1          At      0.70     0.52\n",
      "2          Zm      0.82     0.67\n",
      "3          Sb      0.81     0.66\n"
     ]
    }
   ],
   "source": [
    "print('Training data in tobacco leaf system:')\n",
    "print(correlation_train_leaf)\n",
    "print('\\nTest data in tobacco leaf system:')\n",
    "print(correlation_test_leaf)\n",
    "#print('\\nTraining data in maize protoplast system:')\n",
    "#print(correlation_train_proto)\n",
    "#print('\\nTest data in maize protoplast system:')\n",
    "#print(correlation_test_proto)"
   ]
  },
  {
   "cell_type": "markdown",
   "metadata": {},
   "source": [
    "Save the data to files:"
   ]
  },
  {
   "cell_type": "code",
   "execution_count": 22,
   "metadata": {},
   "outputs": [],
   "source": [
    "data_test_leaf.to_csv('../figures/rawData/CNN_test_leaf_pred.tsv', sep = '\\t', index = False, columns = ['sample.name', 'enrichment', 'prediction'])\n",
    "data_test_proto.to_csv('../figures/rawData/CNN_test_proto_pred.tsv', sep = '\\t', index = False, columns = ['sample.name', 'enrichment', 'prediction'])\n",
    "# data_train_leaf.to_csv('../figures/rawData/CNN_train_leaf_pred.tsv', sep = '\\t', index = False, columns = ['sample.name', 'enrichment', 'prediction'])\n",
    "# data_train_proto.to_csv('../figures/rawData/CNN_train_proto_pred.tsv', sep = '\\t', index = False, columns = ['sample.name', 'enrichment', 'prediction'])\n",
    "\n",
    "correlation_test_leaf.to_csv('../figures/rawData/CNN_test_leaf_stats.tsv', sep = '\\t', index = False)\n",
    "correlation_test_proto.to_csv('../figures/rawData/CNN_test_proto_stats.tsv', sep = '\\t', index = False)\n",
    "# correlation_train_leaf.to_csv('../figures/rawData/CNN_train_leaf_stats.tsv', sep = '\\t', index = False)\n",
    "# correlation_train_proto.to_csv('../figures/rawData/CNN_train_proto_stats.tsv', sep = '\\t', index = False)"
   ]
  },
  {
   "cell_type": "markdown",
   "metadata": {},
   "source": [
    "scratch"
   ]
  },
  {
   "cell_type": "code",
   "execution_count": null,
   "metadata": {},
   "outputs": [
    {
     "data": {
      "text/plain": [
       "(TensorShape([13, 4, 128]), TensorShape([13, 4, 128]))"
      ]
     },
     "metadata": {},
     "output_type": "display_data"
    }
   ],
   "source": [
    "model_proto.layers[1].kernels[0].shape, model_proto.layers[1].kernels[1].shape"
   ]
  },
  {
   "cell_type": "code",
   "execution_count": null,
   "metadata": {},
   "outputs": [
    {
     "data": {
      "text/plain": [
       "<tf.Tensor: shape=(13, 4), dtype=float32, numpy=\n",
       "array([[0.51 , 1.506, 0.478, 1.506],\n",
       "       [0.63 , 1.594, 0.796, 0.982],\n",
       "       [0.996, 1.212, 0.788, 1.004],\n",
       "       [0.494, 2.62 , 0.302, 0.582],\n",
       "       [0.04 , 0.008, 0.008, 3.944],\n",
       "       [3.872, 0.   , 0.   , 0.128],\n",
       "       [0.008, 0.056, 0.024, 3.912],\n",
       "       [3.968, 0.   , 0.008, 0.024],\n",
       "       [2.612, 0.048, 0.008, 1.332],\n",
       "       [3.896, 0.   , 0.032, 0.072],\n",
       "       [1.364, 0.112, 0.144, 2.382],\n",
       "       [2.782, 0.326, 0.478, 0.414],\n",
       "       [0.502, 1.728, 1.266, 0.502]], dtype=float32)>"
      ]
     },
     "metadata": {},
     "output_type": "display_data"
    }
   ],
   "source": [
    "model_proto.layers[1].kernels[0][:, :, 0]"
   ]
  },
  {
   "cell_type": "code",
   "execution_count": null,
   "metadata": {},
   "outputs": [
    {
     "data": {
      "text/plain": [
       "<tf.Tensor: shape=(13, 4), dtype=float32, numpy=\n",
       "array([[-1.1752490e-02, -3.3738129e-02,  6.0109161e-03,  1.9622605e-02],\n",
       "       [-2.2206314e-02,  4.1522197e-03,  5.1510818e-03,  3.5024669e-02],\n",
       "       [-3.6124412e-02, -3.3148341e-02,  4.9235549e-02, -4.9587451e-02],\n",
       "       [-2.1023933e-02,  4.6193339e-03, -5.1596034e-02, -3.1489260e-02],\n",
       "       [ 1.5524324e-02, -2.6284009e-03,  8.2412772e-03,  1.4788691e-02],\n",
       "       [ 2.6899632e-02, -2.5407940e-02, -5.0277077e-03, -1.8956561e-02],\n",
       "       [ 5.5888068e-02,  2.1890689e-02,  1.0152947e-02,  4.3098699e-02],\n",
       "       [-3.2539338e-02, -5.1493611e-02,  2.1482933e-02,  1.9928727e-02],\n",
       "       [-1.3733637e-02,  4.3182302e-02,  2.1718442e-06, -3.5343777e-02],\n",
       "       [ 3.0339655e-02, -5.3364597e-02,  2.1932591e-02,  1.6808707e-02],\n",
       "       [-5.4198734e-02, -2.9335709e-02, -1.9956362e-02,  5.3986106e-02],\n",
       "       [-4.3515462e-02,  1.3974495e-03,  2.9999938e-02,  8.1115179e-03],\n",
       "       [-5.7419207e-02,  1.8064570e-02, -3.2875217e-02,  5.6787375e-02]],\n",
       "      dtype=float32)>"
      ]
     },
     "metadata": {},
     "output_type": "display_data"
    }
   ],
   "source": [
    "tf.reverse(model_proto.layers[1].kernels[0], axis = [1, 2])[:, :, 0]"
   ]
  },
  {
   "cell_type": "code",
   "execution_count": null,
   "metadata": {},
   "outputs": [
    {
     "data": {
      "text/plain": [
       "(TensorShape([128]), TensorShape([128]))"
      ]
     },
     "metadata": {},
     "output_type": "display_data"
    }
   ],
   "source": [
    "model_proto.layers[1].biases[0].shape, model_proto.layers[1].biases[1].shape"
   ]
  },
  {
   "cell_type": "code",
   "execution_count": null,
   "metadata": {},
   "outputs": [],
   "source": [
    "first_out = tf.nn.conv1d(tf.ones((10, 170, 4)), model_proto.layers[1].kernels[0], stride = 1, padding = 'SAME')"
   ]
  },
  {
   "cell_type": "code",
   "execution_count": null,
   "metadata": {},
   "outputs": [
    {
     "data": {
      "text/plain": [
       "TensorShape([10, 170, 128])"
      ]
     },
     "metadata": {},
     "output_type": "display_data"
    }
   ],
   "source": [
    "first_out.shape"
   ]
  },
  {
   "cell_type": "code",
   "execution_count": null,
   "metadata": {},
   "outputs": [
    {
     "data": {
      "text/plain": [
       "<tf.Tensor: shape=(1, 170, 128), dtype=float32, numpy=\n",
       "array([[[-6.2085419e+00,  2.3372312e+00,  7.3843746e+00, ...,\n",
       "         -8.6654257e-03, -7.0331623e-03,  2.3195921e-02],\n",
       "        [-5.8269234e+00,  3.9527270e-01,  8.7749662e+00, ...,\n",
       "         -2.0850651e-02, -2.3376362e-02,  1.1375189e-02],\n",
       "        [-6.6466060e+00,  5.4851884e-01,  1.0273194e+01, ...,\n",
       "         -4.3990575e-03, -9.5281871e-03,  1.5416055e-02],\n",
       "        ...,\n",
       "        [ 3.9359903e+00, -6.0941577e-01,  1.6216959e+01, ...,\n",
       "         -7.2578099e-03, -1.5117239e-02, -2.3746926e-02],\n",
       "        [ 5.4510412e+00, -5.6218451e-01,  1.5262706e+01, ...,\n",
       "          2.0589863e-03,  2.5248829e-02, -2.4427205e-02],\n",
       "        [ 6.9992914e+00, -3.6010320e+00,  1.2241146e+01, ...,\n",
       "          1.2646944e-03,  1.7705860e-02, -1.1187748e-03]]], dtype=float32)>"
      ]
     },
     "metadata": {},
     "output_type": "display_data"
    }
   ],
   "source": [
    "tf.nn.conv1d(first_out, model_proto.layers[1].kernels[1], stride = 1, padding = 'SAME')"
   ]
  },
  {
   "cell_type": "code",
   "execution_count": null,
   "metadata": {},
   "outputs": [
    {
     "data": {
      "text/plain": [
       "(TensorShape([13, 4, 128]), TensorShape([13, 4, 128]))"
      ]
     },
     "metadata": {},
     "output_type": "display_data"
    }
   ],
   "source": [
    "model_leaf.layers[1].kernels[0].shape, tf.reverse(model_leaf.layers[1].kernels[0], axis = [1, 2]).shape"
   ]
  }
 ],
 "metadata": {
  "kernelspec": {
   "display_name": "Python 3.7 eugene_benchmarks",
   "language": "python",
   "name": "eugene_benchmarks"
  },
  "language_info": {
   "codemirror_mode": {
    "name": "ipython",
    "version": 3
   },
   "file_extension": ".py",
   "mimetype": "text/x-python",
   "name": "python",
   "nbconvert_exporter": "python",
   "pygments_lexer": "ipython3",
   "version": "3.7.12"
  }
 },
 "nbformat": 4,
 "nbformat_minor": 4
}

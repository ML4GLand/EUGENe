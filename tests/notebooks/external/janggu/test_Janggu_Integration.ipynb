{
 "cells": [
  {
   "cell_type": "markdown",
   "id": "661f6b58",
   "metadata": {},
   "source": [
    "# Testing Janggu's Integration "
   ]
  },
  {
   "cell_type": "markdown",
   "id": "fa64213c",
   "metadata": {
    "tags": []
   },
   "source": [
    "**Authorship:**\n",
    "Adam Klie, *08/04/2022*\n",
    "***\n",
    "**Description:**\n",
    "Notebook for testing Janggu's `data` module's compatibility with EUGENe"
   ]
  },
  {
   "cell_type": "code",
   "execution_count": 3,
   "metadata": {
    "vscode": {
     "languageId": "python"
    }
   },
   "outputs": [],
   "source": [
    "from pkg_resources import resource_filename\n",
    "import eugene as eu\n",
    "\n",
    "# Autoreload extension\n",
    "if 'autoreload' not in get_ipython().extension_manager.loaded:\n",
    "    %load_ext autoreload\n",
    "%autoreload 2"
   ]
  },
  {
   "cell_type": "code",
   "execution_count": 4,
   "metadata": {
    "vscode": {
     "languageId": "python"
    }
   },
   "outputs": [
    {
     "name": "stdout",
     "output_type": "stream",
     "text": [
      "\u001b[0;31mType:\u001b[0m        module\n",
      "\u001b[0;31mString form:\u001b[0m <module 'eugene.external.janggu' from '/mnt/beegfs/users/aklie/projects/EUGENe/eugene/external/janggu/__init__.py'>\n",
      "\u001b[0;31mFile:\u001b[0m        /mnt/beegfs/users/aklie/projects/EUGENe/eugene/external/janggu/__init__.py\n",
      "\u001b[0;31mDocstring:\u001b[0m   <no docstring>\n"
     ]
    }
   ],
   "source": [
    "eu.external.janggu?"
   ]
  },
  {
   "cell_type": "code",
   "execution_count": 5,
   "metadata": {
    "vscode": {
     "languageId": "python"
    }
   },
   "outputs": [
    {
     "name": "stdout",
     "output_type": "stream",
     "text": [
      "\u001b[0;31mInit signature:\u001b[0m \u001b[0meu\u001b[0m\u001b[0;34m.\u001b[0m\u001b[0mexternal\u001b[0m\u001b[0;34m.\u001b[0m\u001b[0mjanggu\u001b[0m\u001b[0;34m.\u001b[0m\u001b[0mdata\u001b[0m\u001b[0;34m.\u001b[0m\u001b[0mBioseq\u001b[0m\u001b[0;34m(\u001b[0m\u001b[0mname\u001b[0m\u001b[0;34m,\u001b[0m \u001b[0mgarray\u001b[0m\u001b[0;34m,\u001b[0m \u001b[0mgindexer\u001b[0m\u001b[0;34m,\u001b[0m \u001b[0malphabet\u001b[0m\u001b[0;34m)\u001b[0m\u001b[0;34m\u001b[0m\u001b[0;34m\u001b[0m\u001b[0m\n",
      "\u001b[0;31mDocstring:\u001b[0m     \n",
      "Bioseq class.\n",
      "\n",
      "This class maintains a set of biological sequences,\n",
      "e.g. nucleotide or amino acid sequences,\n",
      "and determines its one-hot encoding.\n",
      "\n",
      "Parameters\n",
      "-----------\n",
      "name : str\n",
      "    Name of the dataset\n",
      "garray : :class:`GenomicArray`\n",
      "    A genomic array that holds the sequence data.\n",
      "gindexer : :class:`GenomicIndexer` or None\n",
      "    A genomic index mapper that translates an integer index to a\n",
      "    genomic coordinate. Can be None, if the Dataset is only loaded.\n",
      "alphabet : str\n",
      "    String of sequence alphabet. For example, 'ACGT'.\n",
      "\u001b[0;31mFile:\u001b[0m           /mnt/beegfs/users/aklie/projects/EUGENe/eugene/external/janggu/data/dna.py\n",
      "\u001b[0;31mType:\u001b[0m           type\n",
      "\u001b[0;31mSubclasses:\u001b[0m     \n"
     ]
    }
   ],
   "source": [
    "eu.external.janggu.data.Bioseq?"
   ]
  },
  {
   "cell_type": "code",
   "execution_count": null,
   "metadata": {
    "vscode": {
     "languageId": "python"
    }
   },
   "outputs": [],
   "source": []
  }
 ],
 "metadata": {
  "kernelspec": {
   "display_name": "Python 3.7 eugene_dev",
   "language": "python",
   "name": "eugene_dev"
  },
  "orig_nbformat": 4
 },
 "nbformat": 4,
 "nbformat_minor": 2
}

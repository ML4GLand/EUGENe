{
 "cells": [
  {
   "cell_type": "markdown",
   "id": "e966fec3-4d06-49ba-991d-42598ab48770",
   "metadata": {},
   "source": [
    "# Testing the `external` module"
   ]
  },
  {
   "cell_type": "markdown",
   "id": "068eacc8-11c7-4426-963c-30b8c8646d41",
   "metadata": {
    "tags": []
   },
   "source": [
    "**Authorship:**\n",
    "Adam Klie, *10/05/2022*\n",
    "***\n",
    "**Description:**\n",
    "Notebook for testing out the `external` module."
   ]
  }
 ],
 "metadata": {
  "kernelspec": {
   "display_name": "Python 3.7 eugene_dev",
   "language": "python",
   "name": "eugene_dev"
  },
  "language_info": {
   "codemirror_mode": {
    "name": "ipython",
    "version": 3
   },
   "file_extension": ".py",
   "mimetype": "text/x-python",
   "name": "python",
   "nbconvert_exporter": "python",
   "pygments_lexer": "ipython3",
   "version": "3.7.12"
  }
 },
 "nbformat": 4,
 "nbformat_minor": 5
}

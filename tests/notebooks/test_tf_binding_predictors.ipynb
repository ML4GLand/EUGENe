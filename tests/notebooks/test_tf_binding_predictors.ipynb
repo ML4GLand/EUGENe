{
 "cells": [
  {
   "cell_type": "code",
   "execution_count": 157,
   "metadata": {},
   "outputs": [],
   "source": [
    "# Extensions\n",
    "if 'autoreload' not in get_ipython().extension_manager.loaded:\n",
    "    %load_ext autoreload\n",
    "%autoreload 2"
   ]
  },
  {
   "cell_type": "code",
   "execution_count": 1,
   "metadata": {},
   "outputs": [],
   "source": [
    "# Imports\n",
    "import torch\n",
    "import pandas as pd\n",
    "import numpy as np"
   ]
  },
  {
   "cell_type": "code",
   "execution_count": 2,
   "metadata": {},
   "outputs": [],
   "source": [
    "# Configuration\n",
    "ID = torch.Tensor([1, 2, 3, 4, 5, 6, 7, 8, 9, 10])\n",
    "x = torch.randn(10, 4, 100)\n",
    "x_rev_comp = torch.randn(10, 4, 100)\n",
    "y = torch.randint(0, 2, (10, 1))\n",
    "batch = (ID, x, x_rev_comp, y)"
   ]
  },
  {
   "cell_type": "code",
   "execution_count": 3,
   "metadata": {},
   "outputs": [],
   "source": [
    "# Helper functions\n",
    "def move_module_to_cpu(module):\n",
    "    module.to(\"cpu\")\n",
    "    for child in module.children():\n",
    "        move_module_to_cpu(child)"
   ]
  },
  {
   "attachments": {},
   "cell_type": "markdown",
   "metadata": {},
   "source": [
    "# TF binding predictors"
   ]
  },
  {
   "attachments": {},
   "cell_type": "markdown",
   "metadata": {},
   "source": [
    "### DeepBind"
   ]
  },
  {
   "cell_type": "code",
   "execution_count": 8,
   "metadata": {},
   "outputs": [],
   "source": [
    "from eugene.models.zoo import DeepBind"
   ]
  },
  {
   "cell_type": "code",
   "execution_count": 12,
   "metadata": {},
   "outputs": [
    {
     "data": {
      "text/plain": [
       "(DeepBind(\n",
       "   (conv1d_tower): Conv1DTower(\n",
       "     (layers): Sequential(\n",
       "       (0): Conv1d(4, 16, kernel_size=(16,), stride=(1,), padding=valid)\n",
       "       (1): ReLU()\n",
       "       (2): Dropout(p=0.25, inplace=False)\n",
       "     )\n",
       "   )\n",
       "   (max_pool): MaxPool1d(kernel_size=85, stride=85, padding=0, dilation=1, ceil_mode=False)\n",
       "   (avg_pool): AvgPool1d(kernel_size=(85,), stride=(85,), padding=(0,))\n",
       "   (dense_block): DenseBlock(\n",
       "     (layers): Sequential(\n",
       "       (0): Linear(in_features=16, out_features=32, bias=True)\n",
       "       (1): ReLU()\n",
       "       (2): Dropout(p=0.25, inplace=False)\n",
       "       (3): Linear(in_features=32, out_features=1, bias=True)\n",
       "     )\n",
       "   )\n",
       " ),\n",
       " torch.Size([10, 1]))"
      ]
     },
     "execution_count": 12,
     "metadata": {},
     "output_type": "execute_result"
    }
   ],
   "source": [
    "model = DeepBind(\n",
    "    input_len=100,\n",
    "    output_dim=1,\n",
    "    mode=\"dna\"\n",
    ")\n",
    "model_out = model(x)\n",
    "model, model_out.shape"
   ]
  },
  {
   "cell_type": "code",
   "execution_count": 13,
   "metadata": {},
   "outputs": [
    {
     "data": {
      "text/plain": [
       "(DeepBind(\n",
       "   (conv1d_tower): Conv1DTower(\n",
       "     (layers): Sequential(\n",
       "       (0): Conv1d(4, 16, kernel_size=(16,), stride=(1,), padding=valid)\n",
       "       (1): ReLU()\n",
       "       (2): Dropout(p=0.25, inplace=False)\n",
       "     )\n",
       "   )\n",
       "   (max_pool): MaxPool1d(kernel_size=85, stride=85, padding=0, dilation=1, ceil_mode=False)\n",
       "   (avg_pool): AvgPool1d(kernel_size=(85,), stride=(85,), padding=(0,))\n",
       "   (dense_block): DenseBlock(\n",
       "     (layers): Sequential(\n",
       "       (0): Linear(in_features=32, out_features=32, bias=True)\n",
       "       (1): ReLU()\n",
       "       (2): Dropout(p=0.25, inplace=False)\n",
       "       (3): Linear(in_features=32, out_features=1, bias=True)\n",
       "     )\n",
       "   )\n",
       " ),\n",
       " torch.Size([10, 1]))"
      ]
     },
     "execution_count": 13,
     "metadata": {},
     "output_type": "execute_result"
    }
   ],
   "source": [
    "model = DeepBind(\n",
    "    input_len=100,\n",
    "    output_dim=1,\n",
    "    mode=\"rbp\"\n",
    ")\n",
    "model_out = model(x)\n",
    "model, model_out.shape"
   ]
  },
  {
   "cell_type": "code",
   "execution_count": 17,
   "metadata": {},
   "outputs": [
    {
     "data": {
      "text/plain": [
       "(DeepBind(\n",
       "   (conv1d_tower): Conv1DTower(\n",
       "     (layers): Sequential(\n",
       "       (0): Conv1d(4, 32, kernel_size=(8,), stride=(1,), padding=valid)\n",
       "       (1): ReLU()\n",
       "       (2): Dropout(p=0.25, inplace=False)\n",
       "       (3): Conv1d(32, 64, kernel_size=(12,), stride=(1,), padding=valid)\n",
       "       (4): ReLU()\n",
       "       (5): Dropout(p=0.25, inplace=False)\n",
       "     )\n",
       "   )\n",
       "   (max_pool): MaxPool1d(kernel_size=82, stride=82, padding=0, dilation=1, ceil_mode=False)\n",
       "   (avg_pool): AvgPool1d(kernel_size=(82,), stride=(82,), padding=(0,))\n",
       "   (dense_block): DenseBlock(\n",
       "     (layers): Sequential(\n",
       "       (0): Linear(in_features=128, out_features=32, bias=True)\n",
       "       (1): ReLU()\n",
       "       (2): Dropout(p=0.25, inplace=False)\n",
       "       (3): Linear(in_features=32, out_features=1, bias=True)\n",
       "     )\n",
       "   )\n",
       " ),\n",
       " torch.Size([10, 1]))"
      ]
     },
     "execution_count": 17,
     "metadata": {},
     "output_type": "execute_result"
    }
   ],
   "source": [
    "model = DeepBind(\n",
    "    input_len=100,\n",
    "    output_dim=1,\n",
    "    mode=\"rbp\",\n",
    "    conv_kwargs=dict(conv_channels=[32, 64], conv_kernels=[8, 12])\n",
    ")\n",
    "model_out = model(x)\n",
    "model, model_out.shape"
   ]
  },
  {
   "attachments": {},
   "cell_type": "markdown",
   "metadata": {},
   "source": [
    "## ResidualBind "
   ]
  },
  {
   "cell_type": "code",
   "execution_count": 18,
   "metadata": {},
   "outputs": [],
   "source": [
    "from eugene.models.zoo import ResidualBind"
   ]
  },
  {
   "cell_type": "code",
   "execution_count": 19,
   "metadata": {},
   "outputs": [
    {
     "data": {
      "text/plain": [
       "(ResidualBind(\n",
       "   (conv1d_tower): Conv1DTower(\n",
       "     (layers): Sequential(\n",
       "       (0): Conv1d(4, 96, kernel_size=(11,), stride=(1,), padding=valid)\n",
       "       (1): BatchNorm1d(96, eps=1e-05, momentum=0.1, affine=True, track_running_stats=True)\n",
       "       (2): ReLU()\n",
       "       (3): Dropout(p=0.1, inplace=False)\n",
       "     )\n",
       "   )\n",
       "   (residual_block): Residual(\n",
       "     (wrapped): Conv1DTower(\n",
       "       (layers): Sequential(\n",
       "         (0): Conv1d(96, 96, kernel_size=(3,), stride=(1,), padding=same)\n",
       "         (1): BatchNorm1d(96, eps=1e-05, momentum=0.1, affine=True, track_running_stats=True)\n",
       "         (2): ReLU()\n",
       "         (3): Dropout(p=0.1, inplace=False)\n",
       "         (4): Conv1d(96, 96, kernel_size=(3,), stride=(1,), padding=same, dilation=(2,))\n",
       "         (5): BatchNorm1d(96, eps=1e-05, momentum=0.1, affine=True, track_running_stats=True)\n",
       "         (6): ReLU()\n",
       "         (7): Dropout(p=0.1, inplace=False)\n",
       "         (8): Conv1d(96, 96, kernel_size=(3,), stride=(1,), padding=same, dilation=(4,))\n",
       "         (9): BatchNorm1d(96, eps=1e-05, momentum=0.1, affine=True, track_running_stats=True)\n",
       "         (10): ReLU()\n",
       "         (11): Dropout(p=0.1, inplace=False)\n",
       "       )\n",
       "     )\n",
       "   )\n",
       "   (average_pool): AvgPool1d(kernel_size=(10,), stride=(1,), padding=(0,))\n",
       "   (dropout): Dropout(p=0.2, inplace=False)\n",
       "   (flatten): Flatten(start_dim=1, end_dim=-1)\n",
       "   (dense_block): DenseBlock(\n",
       "     (layers): Sequential(\n",
       "       (0): Linear(in_features=7776, out_features=256, bias=False)\n",
       "       (1): BatchNorm1d(256, eps=1e-05, momentum=0.1, affine=True, track_running_stats=True)\n",
       "       (2): ReLU()\n",
       "       (3): Dropout(p=0.5, inplace=False)\n",
       "       (4): Linear(in_features=256, out_features=1, bias=False)\n",
       "     )\n",
       "   )\n",
       " ),\n",
       " torch.Size([10, 1]))"
      ]
     },
     "execution_count": 19,
     "metadata": {},
     "output_type": "execute_result"
    }
   ],
   "source": [
    "model = ResidualBind(\n",
    "    input_len=100,\n",
    "    output_dim=1\n",
    ")\n",
    "model_out = model(x)\n",
    "model, model_out.shape"
   ]
  },
  {
   "cell_type": "code",
   "execution_count": 21,
   "metadata": {},
   "outputs": [
    {
     "data": {
      "text/plain": [
       "(ResidualBind(\n",
       "   (conv1d_tower): Conv1DTower(\n",
       "     (layers): Sequential(\n",
       "       (0): Conv1d(4, 96, kernel_size=(11,), stride=(1,), padding=valid)\n",
       "       (1): BatchNorm1d(96, eps=1e-05, momentum=0.1, affine=True, track_running_stats=True)\n",
       "       (2): ReLU()\n",
       "       (3): Dropout(p=0.1, inplace=False)\n",
       "     )\n",
       "   )\n",
       "   (residual_block): Residual(\n",
       "     (wrapped): Conv1DTower(\n",
       "       (layers): Sequential(\n",
       "         (0): Conv1d(96, 96, kernel_size=(3,), stride=(1,), padding=same)\n",
       "         (1): BatchNorm1d(96, eps=1e-05, momentum=0.1, affine=True, track_running_stats=True)\n",
       "         (2): GELU()\n",
       "         (3): Dropout(p=0.1, inplace=False)\n",
       "         (4): Conv1d(96, 96, kernel_size=(3,), stride=(1,), padding=same, dilation=(2,))\n",
       "         (5): BatchNorm1d(96, eps=1e-05, momentum=0.1, affine=True, track_running_stats=True)\n",
       "         (6): GELU()\n",
       "         (7): Dropout(p=0.1, inplace=False)\n",
       "         (8): Conv1d(96, 96, kernel_size=(3,), stride=(1,), padding=same, dilation=(4,))\n",
       "         (9): BatchNorm1d(96, eps=1e-05, momentum=0.1, affine=True, track_running_stats=True)\n",
       "         (10): GELU()\n",
       "         (11): Dropout(p=0.1, inplace=False)\n",
       "       )\n",
       "     )\n",
       "   )\n",
       "   (average_pool): AvgPool1d(kernel_size=(10,), stride=(1,), padding=(0,))\n",
       "   (dropout): Dropout(p=0.2, inplace=False)\n",
       "   (flatten): Flatten(start_dim=1, end_dim=-1)\n",
       "   (dense_block): DenseBlock(\n",
       "     (layers): Sequential(\n",
       "       (0): Linear(in_features=7776, out_features=256, bias=False)\n",
       "       (1): BatchNorm1d(256, eps=1e-05, momentum=0.1, affine=True, track_running_stats=True)\n",
       "       (2): ReLU()\n",
       "       (3): Dropout(p=0.5, inplace=False)\n",
       "       (4): Linear(in_features=256, out_features=1, bias=False)\n",
       "     )\n",
       "   )\n",
       " ),\n",
       " torch.Size([10, 1]))"
      ]
     },
     "execution_count": 21,
     "metadata": {},
     "output_type": "execute_result"
    }
   ],
   "source": [
    "model = ResidualBind(\n",
    "    input_len=100,\n",
    "    output_dim=1,\n",
    "    residual_activation=\"gelu\"\n",
    ")\n",
    "model_out = model(x)\n",
    "model, model_out.shape"
   ]
  },
  {
   "attachments": {},
   "cell_type": "markdown",
   "metadata": {},
   "source": [
    "## Kopp21CNN"
   ]
  },
  {
   "cell_type": "code",
   "execution_count": 5,
   "metadata": {},
   "outputs": [],
   "source": [
    "from eugene.models.zoo import Kopp21CNN"
   ]
  },
  {
   "attachments": {},
   "cell_type": "markdown",
   "metadata": {},
   "source": [
    "# DONE"
   ]
  },
  {
   "attachments": {},
   "cell_type": "markdown",
   "metadata": {},
   "source": [
    "---"
   ]
  },
  {
   "attachments": {},
   "cell_type": "markdown",
   "metadata": {},
   "source": [
    "# Scratch"
   ]
  }
 ],
 "metadata": {
  "kernelspec": {
   "display_name": "Python 3.9 ml4gland",
   "language": "python",
   "name": "ml4gland"
  },
  "language_info": {
   "codemirror_mode": {
    "name": "ipython",
    "version": 3
   },
   "file_extension": ".py",
   "mimetype": "text/x-python",
   "name": "python",
   "nbconvert_exporter": "python",
   "pygments_lexer": "ipython3",
   "version": "3.9.16"
  },
  "orig_nbformat": 4,
  "vscode": {
   "interpreter": {
    "hash": "7782186cff5d7e5d5e3fe0a7e6ebf1d74655b3470c460e9b06cf809b4e9601e8"
   }
  }
 },
 "nbformat": 4,
 "nbformat_minor": 2
}

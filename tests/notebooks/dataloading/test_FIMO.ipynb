{
 "cells": [
  {
   "cell_type": "code",
   "execution_count": 25,
   "metadata": {},
   "outputs": [],
   "source": [
    "# Autoreload extension\n",
    "if 'autoreload' not in get_ipython().extension_manager.loaded:\n",
    "    %load_ext autoreload\n",
    "%autoreload 2\n",
    "\n",
    "import numpy as np\n",
    "import pandas as pd\n",
    "import eugene as eu\n",
    "from pyjaspar import jaspardb\n",
    "import pyranges as pr\n",
    "from pymemesuite.common import MotifFile, Sequence\n",
    "from pymemesuite.fimo import FIMO"
   ]
  },
  {
   "cell_type": "markdown",
   "metadata": {},
   "source": [
    "## Dev"
   ]
  },
  {
   "cell_type": "code",
   "execution_count": 42,
   "metadata": {},
   "outputs": [],
   "source": [
    "from pyjaspar import jaspardb\n",
    "def get_jaspar_motifs(\n",
    "    motif_accs=None,\n",
    "    motif_names=None,\n",
    "    collection=None,\n",
    "    release='JASPAR2020'\n",
    "):\n",
    "    assert motif_accs or motif_names or collection, \"Must provide either motif_accs, motif_names, or collection\"\n",
    "    jdb_obj = jaspardb(release='JASPAR2020')\n",
    "    if motif_accs:\n",
    "        motifs = [jdb_obj.fetch_motif_by_id(acc) for acc in motif_accs]\n",
    "    elif motif_names:\n",
    "        motifs = [motif for name in motif_names for motif in jdb_obj.fetch_motifs_by_name(name)]\n",
    "    elif collection:\n",
    "        motifs = jdb_obj.fetch_motifs(\n",
    "            collection = collection,\n",
    "            tax_group = ['vertebrates']\n",
    "        )\n",
    "    return motifs\n",
    "\n",
    "\n",
    "def save_motifs_as_meme(\n",
    "    jaspar_motifs,\n",
    "    filename\n",
    "):\n",
    "    meme_file = open(filename, 'w')\n",
    "    meme_file.write(\"MEME version 4 \\n\")\n",
    "    print(f'Saved PWM File as : {filename}')\n",
    "    for motif in jaspar_motifs:\n",
    "        acc = motif.base_id\n",
    "        name = motif.name\n",
    "        pwm = np.array(list(motif.pwm.values()))\n",
    "        filter_size = pwm.shape[1]\n",
    "        meme_file.write(\"\\n\")\n",
    "        meme_file.write(f\"MOTIF {acc} {name}\\n\")\n",
    "        meme_file.write(\n",
    "            \"letter-probability matrix: alength= 4 w= %d \\n\" % np.count_nonzero(np.sum(pwm[:, :], axis=0)))\n",
    "        for j in range(0, filter_size):\n",
    "            if np.sum(pwm[:, j]) > 0:\n",
    "                meme_file.write(\n",
    "                    str(pwm[0, j]) + \"\\t\" + \n",
    "                    str(pwm[1, j]) + \"\\t\" + \n",
    "                    str(pwm[2, j]) + \"\\t\" + \n",
    "                    str(pwm[3, j]) + \"\\n\"\n",
    "                )\n",
    "    meme_file.close()\n",
    "\n",
    "def load_meme(filename):\n",
    "    memesuite_motifs = []\n",
    "    with MotifFile(filename) as motif_file:\n",
    "        for motif in motif_file:\n",
    "            memesuite_motifs.append(motif)\n",
    "        bg = motif_file.background\n",
    "    return memesuite_motifs, bg\n",
    "\n",
    "\n",
    "def fimo_motifs(\n",
    "    sdata,\n",
    "    pymeme_motifs,\n",
    "    background\n",
    "):\n",
    "    pymeme_seqs = [Sequence(str(seq), name.encode()) for seq, name in zip(sdata.seqs, sdata.names)]\n",
    "    fimo = FIMO(both_strands=True)\n",
    "    motif_scores = []\n",
    "    for motif in pymeme_motifs:\n",
    "        pattern = fimo.score_motif(motif, pymeme_seqs, background)\n",
    "        for m in pattern.matched_elements:\n",
    "            motif_scores.append([\n",
    "                m.source.accession.decode(),\n",
    "                m.start,\n",
    "                m.stop,\n",
    "                m.strand,\n",
    "                m.score,\n",
    "                m.pvalue,\n",
    "                m.qvalue,\n",
    "                motif.accession.decode(),\n",
    "                motif.name.decode()\n",
    "            ])\n",
    "    return motif_scores\n",
    "\n",
    "\n",
    "def score_seqs(\n",
    "    sdata,\n",
    "    motif_accs=None,\n",
    "    motif_names=None,\n",
    "    collection=None,\n",
    "    release='JASPAR2020',\n",
    "    filename=\"motifs.meme\"\n",
    "):\n",
    "    assert motif_accs or motif_names or collection, \"Must provide either motif_accs, motif_names, or collection\"\n",
    "    motifs = get_jaspar_motifs(\n",
    "        motif_accs=motif_accs,\n",
    "        motif_names=motif_names,\n",
    "        collection=collection,\n",
    "        release=release\n",
    "    )\n",
    "    save_motifs_as_meme(motifs, filename)\n",
    "    memesuite_motifs, bg = load_meme(filename)\n",
    "    scores = fimo_motifs(sdata, memesuite_motifs, bg)\n",
    "    dataframe = pr.PyRanges(pd.DataFrame(scores, columns=['Chromosome', 'Start', 'End', 'Strand', 'Score', 'Pvalue', 'Qvalue', 'Accession', 'Name']))\n",
    "    return dataframe\n",
    "\n",
    "\n",
    "def jaspar_annots_sdata(\n",
    "    sdata,\n",
    "    motif_accs=None,\n",
    "    motif_names=None,\n",
    "    collection=None,\n",
    "    release='JASPAR2020',\n",
    "    filename=\"motifs.meme\",\n",
    "    copy=False\n",
    "):\n",
    "    sdata = sdata.copy() if copy else sdata\n",
    "    sdata.pos_annot = score_seqs(\n",
    "        sdata,\n",
    "        motif_accs=motif_accs,\n",
    "        motif_names=motif_names,\n",
    "        collection=collection,\n",
    "        release=release,\n",
    "        filename=filename\n",
    "    )\n",
    "    return sdata if copy else None"
   ]
  },
  {
   "cell_type": "markdown",
   "metadata": {},
   "source": [
    "## Integration"
   ]
  },
  {
   "cell_type": "code",
   "execution_count": 43,
   "metadata": {},
   "outputs": [],
   "source": [
    "sdata = eu.datasets.random1000()"
   ]
  },
  {
   "cell_type": "code",
   "execution_count": 46,
   "metadata": {},
   "outputs": [
    {
     "name": "stdout",
     "output_type": "stream",
     "text": [
      "\u001b[0;31mSignature:\u001b[0m\n",
      "\u001b[0meu\u001b[0m\u001b[0;34m.\u001b[0m\u001b[0mexternal\u001b[0m\u001b[0;34m.\u001b[0m\u001b[0mmeme\u001b[0m\u001b[0;34m.\u001b[0m\u001b[0mjaspar_annots_sdata\u001b[0m\u001b[0;34m(\u001b[0m\u001b[0;34m\u001b[0m\n",
      "\u001b[0;34m\u001b[0m    \u001b[0msdata\u001b[0m\u001b[0;34m,\u001b[0m\u001b[0;34m\u001b[0m\n",
      "\u001b[0;34m\u001b[0m    \u001b[0mmotif_accs\u001b[0m\u001b[0;34m=\u001b[0m\u001b[0;32mNone\u001b[0m\u001b[0;34m,\u001b[0m\u001b[0;34m\u001b[0m\n",
      "\u001b[0;34m\u001b[0m    \u001b[0mmotif_names\u001b[0m\u001b[0;34m=\u001b[0m\u001b[0;32mNone\u001b[0m\u001b[0;34m,\u001b[0m\u001b[0;34m\u001b[0m\n",
      "\u001b[0;34m\u001b[0m    \u001b[0mcollection\u001b[0m\u001b[0;34m=\u001b[0m\u001b[0;32mNone\u001b[0m\u001b[0;34m,\u001b[0m\u001b[0;34m\u001b[0m\n",
      "\u001b[0;34m\u001b[0m    \u001b[0mrelease\u001b[0m\u001b[0;34m=\u001b[0m\u001b[0;34m'JASPAR2020'\u001b[0m\u001b[0;34m,\u001b[0m\u001b[0;34m\u001b[0m\n",
      "\u001b[0;34m\u001b[0m    \u001b[0mfilename\u001b[0m\u001b[0;34m=\u001b[0m\u001b[0;34m'motifs.meme'\u001b[0m\u001b[0;34m,\u001b[0m\u001b[0;34m\u001b[0m\n",
      "\u001b[0;34m\u001b[0m    \u001b[0mcopy\u001b[0m\u001b[0;34m=\u001b[0m\u001b[0;32mFalse\u001b[0m\u001b[0;34m,\u001b[0m\u001b[0;34m\u001b[0m\n",
      "\u001b[0;34m\u001b[0m\u001b[0;34m)\u001b[0m\u001b[0;34m\u001b[0m\u001b[0;34m\u001b[0m\u001b[0m\n",
      "\u001b[0;31mDocstring:\u001b[0m <no docstring>\n",
      "\u001b[0;31mFile:\u001b[0m      /workspaces/EUGENe/eugene/external/meme/_fimo.py\n",
      "\u001b[0;31mType:\u001b[0m      function\n"
     ]
    }
   ],
   "source": [
    "eu.external.meme.jaspar_annots_sdata?"
   ]
  },
  {
   "cell_type": "code",
   "execution_count": 48,
   "metadata": {},
   "outputs": [
    {
     "name": "stdout",
     "output_type": "stream",
     "text": [
      "Saved PWM File as : motifs.meme\n"
     ]
    }
   ],
   "source": [
    "eu.external.meme.jaspar_annots_sdata(\n",
    "    sdata,\n",
    "    motif_accs=['MA0048.1', 'MA0049.1']\n",
    ")"
   ]
  },
  {
   "cell_type": "code",
   "execution_count": 51,
   "metadata": {},
   "outputs": [
    {
     "name": "stdout",
     "output_type": "stream",
     "text": [
      "No importance scores given, outputting just sequence\n"
     ]
    },
    {
     "data": {
      "image/png": "[encoded data removed]",
      "text/plain": [
       "<Figure size 1200x400 with 2 Axes>"
      ]
     },
     "metadata": {},
     "output_type": "display_data"
    }
   ],
   "source": [
    "eu.pl.seq_track(\n",
    "    sdata,\n",
    "    seq_id=\"seq159\"\n",
    ")"
   ]
  },
  {
   "cell_type": "code",
   "execution_count": 49,
   "metadata": {},
   "outputs": [
    {
     "data": {
      "text/html": [
       "<div>\n",
       "<style scoped>\n",
       "    .dataframe tbody tr th:only-of-type {\n",
       "        vertical-align: middle;\n",
       "    }\n",
       "\n",
       "    .dataframe tbody tr th {\n",
       "        vertical-align: top;\n",
       "    }\n",
       "\n",
       "    .dataframe thead th {\n",
       "        text-align: right;\n",
       "    }\n",
       "</style>\n",
       "<table border=\"1\" class=\"dataframe\">\n",
       "  <thead>\n",
       "    <tr style=\"text-align: right;\">\n",
       "      <th></th>\n",
       "      <th>Chromosome</th>\n",
       "      <th>Start</th>\n",
       "      <th>End</th>\n",
       "      <th>Strand</th>\n",
       "      <th>Score</th>\n",
       "      <th>Pvalue</th>\n",
       "      <th>Qvalue</th>\n",
       "      <th>Accession</th>\n",
       "      <th>Name</th>\n",
       "    </tr>\n",
       "  </thead>\n",
       "  <tbody>\n",
       "    <tr>\n",
       "      <th>0</th>\n",
       "      <td>seq143</td>\n",
       "      <td>22</td>\n",
       "      <td>13</td>\n",
       "      <td>-</td>\n",
       "      <td>11.267327</td>\n",
       "      <td>0.000054</td>\n",
       "      <td>1.000000</td>\n",
       "      <td>MA0049</td>\n",
       "      <td>hb</td>\n",
       "    </tr>\n",
       "    <tr>\n",
       "      <th>1</th>\n",
       "      <td>seq159</td>\n",
       "      <td>14</td>\n",
       "      <td>25</td>\n",
       "      <td>+</td>\n",
       "      <td>10.520408</td>\n",
       "      <td>0.000063</td>\n",
       "      <td>0.699513</td>\n",
       "      <td>MA0048</td>\n",
       "      <td>NHLH1</td>\n",
       "    </tr>\n",
       "    <tr>\n",
       "      <th>2</th>\n",
       "      <td>seq159</td>\n",
       "      <td>25</td>\n",
       "      <td>14</td>\n",
       "      <td>-</td>\n",
       "      <td>11.336735</td>\n",
       "      <td>0.000041</td>\n",
       "      <td>0.699513</td>\n",
       "      <td>MA0048</td>\n",
       "      <td>NHLH1</td>\n",
       "    </tr>\n",
       "    <tr>\n",
       "      <th>3</th>\n",
       "      <td>seq173</td>\n",
       "      <td>20</td>\n",
       "      <td>29</td>\n",
       "      <td>+</td>\n",
       "      <td>10.980198</td>\n",
       "      <td>0.000083</td>\n",
       "      <td>1.000000</td>\n",
       "      <td>MA0049</td>\n",
       "      <td>hb</td>\n",
       "    </tr>\n",
       "    <tr>\n",
       "      <th>4</th>\n",
       "      <td>seq228</td>\n",
       "      <td>56</td>\n",
       "      <td>45</td>\n",
       "      <td>-</td>\n",
       "      <td>10.938776</td>\n",
       "      <td>0.000051</td>\n",
       "      <td>0.699513</td>\n",
       "      <td>MA0048</td>\n",
       "      <td>NHLH1</td>\n",
       "    </tr>\n",
       "    <tr>\n",
       "      <th>5</th>\n",
       "      <td>seq262</td>\n",
       "      <td>28</td>\n",
       "      <td>19</td>\n",
       "      <td>-</td>\n",
       "      <td>11.247525</td>\n",
       "      <td>0.000056</td>\n",
       "      <td>1.000000</td>\n",
       "      <td>MA0049</td>\n",
       "      <td>hb</td>\n",
       "    </tr>\n",
       "    <tr>\n",
       "      <th>6</th>\n",
       "      <td>seq418</td>\n",
       "      <td>56</td>\n",
       "      <td>47</td>\n",
       "      <td>-</td>\n",
       "      <td>11.346535</td>\n",
       "      <td>0.000051</td>\n",
       "      <td>1.000000</td>\n",
       "      <td>MA0049</td>\n",
       "      <td>hb</td>\n",
       "    </tr>\n",
       "    <tr>\n",
       "      <th>7</th>\n",
       "      <td>seq429</td>\n",
       "      <td>28</td>\n",
       "      <td>39</td>\n",
       "      <td>+</td>\n",
       "      <td>9.775510</td>\n",
       "      <td>0.000087</td>\n",
       "      <td>0.699513</td>\n",
       "      <td>MA0048</td>\n",
       "      <td>NHLH1</td>\n",
       "    </tr>\n",
       "    <tr>\n",
       "      <th>8</th>\n",
       "      <td>seq468</td>\n",
       "      <td>46</td>\n",
       "      <td>57</td>\n",
       "      <td>+</td>\n",
       "      <td>11.255102</td>\n",
       "      <td>0.000043</td>\n",
       "      <td>0.699513</td>\n",
       "      <td>MA0048</td>\n",
       "      <td>NHLH1</td>\n",
       "    </tr>\n",
       "    <tr>\n",
       "      <th>9</th>\n",
       "      <td>seq468</td>\n",
       "      <td>57</td>\n",
       "      <td>46</td>\n",
       "      <td>-</td>\n",
       "      <td>13.153061</td>\n",
       "      <td>0.000016</td>\n",
       "      <td>0.657199</td>\n",
       "      <td>MA0048</td>\n",
       "      <td>NHLH1</td>\n",
       "    </tr>\n",
       "    <tr>\n",
       "      <th>10</th>\n",
       "      <td>seq625</td>\n",
       "      <td>18</td>\n",
       "      <td>7</td>\n",
       "      <td>-</td>\n",
       "      <td>9.653061</td>\n",
       "      <td>0.000091</td>\n",
       "      <td>0.699513</td>\n",
       "      <td>MA0048</td>\n",
       "      <td>NHLH1</td>\n",
       "    </tr>\n",
       "    <tr>\n",
       "      <th>11</th>\n",
       "      <td>seq638</td>\n",
       "      <td>53</td>\n",
       "      <td>64</td>\n",
       "      <td>+</td>\n",
       "      <td>9.969388</td>\n",
       "      <td>0.000080</td>\n",
       "      <td>0.699513</td>\n",
       "      <td>MA0048</td>\n",
       "      <td>NHLH1</td>\n",
       "    </tr>\n",
       "    <tr>\n",
       "      <th>12</th>\n",
       "      <td>seq688</td>\n",
       "      <td>24</td>\n",
       "      <td>13</td>\n",
       "      <td>-</td>\n",
       "      <td>9.816327</td>\n",
       "      <td>0.000085</td>\n",
       "      <td>0.699513</td>\n",
       "      <td>MA0048</td>\n",
       "      <td>NHLH1</td>\n",
       "    </tr>\n",
       "    <tr>\n",
       "      <th>13</th>\n",
       "      <td>seq732</td>\n",
       "      <td>51</td>\n",
       "      <td>62</td>\n",
       "      <td>+</td>\n",
       "      <td>13.479592</td>\n",
       "      <td>0.000013</td>\n",
       "      <td>0.657199</td>\n",
       "      <td>MA0048</td>\n",
       "      <td>NHLH1</td>\n",
       "    </tr>\n",
       "    <tr>\n",
       "      <th>14</th>\n",
       "      <td>seq732</td>\n",
       "      <td>62</td>\n",
       "      <td>51</td>\n",
       "      <td>-</td>\n",
       "      <td>12.357143</td>\n",
       "      <td>0.000026</td>\n",
       "      <td>0.657199</td>\n",
       "      <td>MA0048</td>\n",
       "      <td>NHLH1</td>\n",
       "    </tr>\n",
       "    <tr>\n",
       "      <th>15</th>\n",
       "      <td>seq760</td>\n",
       "      <td>56</td>\n",
       "      <td>65</td>\n",
       "      <td>+</td>\n",
       "      <td>11.584158</td>\n",
       "      <td>0.000042</td>\n",
       "      <td>1.000000</td>\n",
       "      <td>MA0049</td>\n",
       "      <td>hb</td>\n",
       "    </tr>\n",
       "    <tr>\n",
       "      <th>16</th>\n",
       "      <td>seq788</td>\n",
       "      <td>57</td>\n",
       "      <td>48</td>\n",
       "      <td>-</td>\n",
       "      <td>11.871287</td>\n",
       "      <td>0.000028</td>\n",
       "      <td>1.000000</td>\n",
       "      <td>MA0049</td>\n",
       "      <td>hb</td>\n",
       "    </tr>\n",
       "    <tr>\n",
       "      <th>17</th>\n",
       "      <td>seq819</td>\n",
       "      <td>1</td>\n",
       "      <td>12</td>\n",
       "      <td>+</td>\n",
       "      <td>12.408163</td>\n",
       "      <td>0.000025</td>\n",
       "      <td>0.657199</td>\n",
       "      <td>MA0048</td>\n",
       "      <td>NHLH1</td>\n",
       "    </tr>\n",
       "    <tr>\n",
       "      <th>18</th>\n",
       "      <td>seq954</td>\n",
       "      <td>48</td>\n",
       "      <td>59</td>\n",
       "      <td>+</td>\n",
       "      <td>9.551020</td>\n",
       "      <td>0.000095</td>\n",
       "      <td>0.699513</td>\n",
       "      <td>MA0048</td>\n",
       "      <td>NHLH1</td>\n",
       "    </tr>\n",
       "    <tr>\n",
       "      <th>19</th>\n",
       "      <td>seq988</td>\n",
       "      <td>47</td>\n",
       "      <td>36</td>\n",
       "      <td>-</td>\n",
       "      <td>10.326531</td>\n",
       "      <td>0.000069</td>\n",
       "      <td>0.699513</td>\n",
       "      <td>MA0048</td>\n",
       "      <td>NHLH1</td>\n",
       "    </tr>\n",
       "  </tbody>\n",
       "</table>\n",
       "</div>"
      ],
      "text/plain": [
       "+--------------+-----------+-----------+--------------+-------+\n",
       "| Chromosome   | Start     | End       | Strand       | +5    |\n",
       "| (category)   | (int32)   | (int32)   | (category)   | ...   |\n",
       "|--------------+-----------+-----------+--------------+-------|\n",
       "| seq143       | 22        | 13        | -            | ...   |\n",
       "| seq159       | 14        | 25        | +            | ...   |\n",
       "| seq159       | 25        | 14        | -            | ...   |\n",
       "| seq173       | 20        | 29        | +            | ...   |\n",
       "| ...          | ...       | ...       | ...          | ...   |\n",
       "| seq788       | 57        | 48        | -            | ...   |\n",
       "| seq819       | 1         | 12        | +            | ...   |\n",
       "| seq954       | 48        | 59        | +            | ...   |\n",
       "| seq988       | 47        | 36        | -            | ...   |\n",
       "+--------------+-----------+-----------+--------------+-------+\n",
       "Stranded PyRanges object has 20 rows and 9 columns from 17 chromosomes.\n",
       "For printing, the PyRanges was sorted on Chromosome and Strand.\n",
       "5 hidden columns: Score, Pvalue, Qvalue, Accession, Name"
      ]
     },
     "execution_count": 49,
     "metadata": {},
     "output_type": "execute_result"
    }
   ],
   "source": [
    "sdata.pos_annot"
   ]
  },
  {
   "cell_type": "code",
   "execution_count": 35,
   "metadata": {},
   "outputs": [
    {
     "name": "stdout",
     "output_type": "stream",
     "text": [
      "Saved PWM File as : motifs.meme\n"
     ]
    },
    {
     "data": {
      "text/html": [
       "<div>\n",
       "<style scoped>\n",
       "    .dataframe tbody tr th:only-of-type {\n",
       "        vertical-align: middle;\n",
       "    }\n",
       "\n",
       "    .dataframe tbody tr th {\n",
       "        vertical-align: top;\n",
       "    }\n",
       "\n",
       "    .dataframe thead th {\n",
       "        text-align: right;\n",
       "    }\n",
       "</style>\n",
       "<table border=\"1\" class=\"dataframe\">\n",
       "  <thead>\n",
       "    <tr style=\"text-align: right;\">\n",
       "      <th></th>\n",
       "      <th>Chromosome</th>\n",
       "      <th>Start</th>\n",
       "      <th>End</th>\n",
       "      <th>Strand</th>\n",
       "      <th>Score</th>\n",
       "      <th>Pvalue</th>\n",
       "      <th>Qvalue</th>\n",
       "      <th>Accession</th>\n",
       "      <th>Name</th>\n",
       "    </tr>\n",
       "  </thead>\n",
       "  <tbody>\n",
       "    <tr>\n",
       "      <th>0</th>\n",
       "      <td>seq001</td>\n",
       "      <td>11</td>\n",
       "      <td>27</td>\n",
       "      <td>+</td>\n",
       "      <td>6.265306</td>\n",
       "      <td>0.000078</td>\n",
       "      <td>0.370748</td>\n",
       "      <td>MA0113</td>\n",
       "      <td>NR3C1</td>\n",
       "    </tr>\n",
       "    <tr>\n",
       "      <th>1</th>\n",
       "      <td>seq001</td>\n",
       "      <td>11</td>\n",
       "      <td>27</td>\n",
       "      <td>+</td>\n",
       "      <td>5.581633</td>\n",
       "      <td>0.000099</td>\n",
       "      <td>0.441127</td>\n",
       "      <td>MA0727</td>\n",
       "      <td>NR3C2</td>\n",
       "    </tr>\n",
       "    <tr>\n",
       "      <th>2</th>\n",
       "      <td>seq001</td>\n",
       "      <td>3</td>\n",
       "      <td>14</td>\n",
       "      <td>+</td>\n",
       "      <td>10.756098</td>\n",
       "      <td>0.000077</td>\n",
       "      <td>0.972898</td>\n",
       "      <td>MA1624</td>\n",
       "      <td>Stat5a</td>\n",
       "    </tr>\n",
       "    <tr>\n",
       "      <th>3</th>\n",
       "      <td>seq001</td>\n",
       "      <td>6</td>\n",
       "      <td>15</td>\n",
       "      <td>+</td>\n",
       "      <td>12.744898</td>\n",
       "      <td>0.000037</td>\n",
       "      <td>0.318627</td>\n",
       "      <td>MA0764</td>\n",
       "      <td>ETV4</td>\n",
       "    </tr>\n",
       "    <tr>\n",
       "      <th>4</th>\n",
       "      <td>seq001</td>\n",
       "      <td>28</td>\n",
       "      <td>18</td>\n",
       "      <td>-</td>\n",
       "      <td>10.234694</td>\n",
       "      <td>0.000099</td>\n",
       "      <td>0.726914</td>\n",
       "      <td>MA1561</td>\n",
       "      <td>SOX12</td>\n",
       "    </tr>\n",
       "    <tr>\n",
       "      <th>...</th>\n",
       "      <td>...</td>\n",
       "      <td>...</td>\n",
       "      <td>...</td>\n",
       "      <td>...</td>\n",
       "      <td>...</td>\n",
       "      <td>...</td>\n",
       "      <td>...</td>\n",
       "      <td>...</td>\n",
       "      <td>...</td>\n",
       "    </tr>\n",
       "    <tr>\n",
       "      <th>8415</th>\n",
       "      <td>seq999</td>\n",
       "      <td>50</td>\n",
       "      <td>65</td>\n",
       "      <td>+</td>\n",
       "      <td>14.121951</td>\n",
       "      <td>0.000007</td>\n",
       "      <td>0.153215</td>\n",
       "      <td>MA1107</td>\n",
       "      <td>KLF9</td>\n",
       "    </tr>\n",
       "    <tr>\n",
       "      <th>8416</th>\n",
       "      <td>seq999</td>\n",
       "      <td>22</td>\n",
       "      <td>32</td>\n",
       "      <td>+</td>\n",
       "      <td>10.532258</td>\n",
       "      <td>0.000097</td>\n",
       "      <td>0.969510</td>\n",
       "      <td>MA0143</td>\n",
       "      <td>SOX2</td>\n",
       "    </tr>\n",
       "    <tr>\n",
       "      <th>8417</th>\n",
       "      <td>seq999</td>\n",
       "      <td>31</td>\n",
       "      <td>23</td>\n",
       "      <td>-</td>\n",
       "      <td>11.846939</td>\n",
       "      <td>0.000049</td>\n",
       "      <td>0.716396</td>\n",
       "      <td>MA0078</td>\n",
       "      <td>Sox17</td>\n",
       "    </tr>\n",
       "    <tr>\n",
       "      <th>8418</th>\n",
       "      <td>seq999</td>\n",
       "      <td>54</td>\n",
       "      <td>44</td>\n",
       "      <td>-</td>\n",
       "      <td>11.806122</td>\n",
       "      <td>0.000046</td>\n",
       "      <td>0.481668</td>\n",
       "      <td>MA0812</td>\n",
       "      <td>TFAP2B(var.2)</td>\n",
       "    </tr>\n",
       "    <tr>\n",
       "      <th>8419</th>\n",
       "      <td>seq999</td>\n",
       "      <td>54</td>\n",
       "      <td>44</td>\n",
       "      <td>-</td>\n",
       "      <td>12.040816</td>\n",
       "      <td>0.000064</td>\n",
       "      <td>0.377421</td>\n",
       "      <td>MA1569</td>\n",
       "      <td>TFAP2E</td>\n",
       "    </tr>\n",
       "  </tbody>\n",
       "</table>\n",
       "<p>8420 rows × 9 columns</p>\n",
       "</div>"
      ],
      "text/plain": [
       "+--------------+-----------+-----------+--------------+-------+\n",
       "| Chromosome   | Start     | End       | Strand       | +5    |\n",
       "| (category)   | (int32)   | (int32)   | (category)   | ...   |\n",
       "|--------------+-----------+-----------+--------------+-------|\n",
       "| seq001       | 11        | 27        | +            | ...   |\n",
       "| seq001       | 11        | 27        | +            | ...   |\n",
       "| seq001       | 3         | 14        | +            | ...   |\n",
       "| seq001       | 6         | 15        | +            | ...   |\n",
       "| ...          | ...       | ...       | ...          | ...   |\n",
       "| seq999       | 22        | 32        | +            | ...   |\n",
       "| seq999       | 31        | 23        | -            | ...   |\n",
       "| seq999       | 54        | 44        | -            | ...   |\n",
       "| seq999       | 54        | 44        | -            | ...   |\n",
       "+--------------+-----------+-----------+--------------+-------+\n",
       "Stranded PyRanges object has 8,420 rows and 9 columns from 962 chromosomes.\n",
       "For printing, the PyRanges was sorted on Chromosome and Strand.\n",
       "5 hidden columns: Score, Pvalue, Qvalue, Accession, Name"
      ]
     },
     "execution_count": 35,
     "metadata": {},
     "output_type": "execute_result"
    }
   ],
   "source": [
    "jaspar_annots_sdata(sdata, collection=\"CORE\") \n",
    "sdata.pos_annot"
   ]
  },
  {
   "cell_type": "code",
   "execution_count": 37,
   "metadata": {},
   "outputs": [
    {
     "name": "stdout",
     "output_type": "stream",
     "text": [
      "Saved PWM File as : motifs.meme\n"
     ]
    },
    {
     "data": {
      "text/html": [
       "<div>\n",
       "<style scoped>\n",
       "    .dataframe tbody tr th:only-of-type {\n",
       "        vertical-align: middle;\n",
       "    }\n",
       "\n",
       "    .dataframe tbody tr th {\n",
       "        vertical-align: top;\n",
       "    }\n",
       "\n",
       "    .dataframe thead th {\n",
       "        text-align: right;\n",
       "    }\n",
       "</style>\n",
       "<table border=\"1\" class=\"dataframe\">\n",
       "  <thead>\n",
       "    <tr style=\"text-align: right;\">\n",
       "      <th></th>\n",
       "      <th>Chromosome</th>\n",
       "      <th>Start</th>\n",
       "      <th>End</th>\n",
       "      <th>Strand</th>\n",
       "      <th>Score</th>\n",
       "      <th>Pvalue</th>\n",
       "      <th>Qvalue</th>\n",
       "      <th>Accession</th>\n",
       "      <th>Name</th>\n",
       "    </tr>\n",
       "  </thead>\n",
       "  <tbody>\n",
       "    <tr>\n",
       "      <th>0</th>\n",
       "      <td>seq112</td>\n",
       "      <td>29</td>\n",
       "      <td>19</td>\n",
       "      <td>-</td>\n",
       "      <td>12.198582</td>\n",
       "      <td>0.000040</td>\n",
       "      <td>1.0</td>\n",
       "      <td>MA0035</td>\n",
       "      <td>GATA1</td>\n",
       "    </tr>\n",
       "    <tr>\n",
       "      <th>1</th>\n",
       "      <td>seq137</td>\n",
       "      <td>32</td>\n",
       "      <td>42</td>\n",
       "      <td>+</td>\n",
       "      <td>11.134752</td>\n",
       "      <td>0.000097</td>\n",
       "      <td>1.0</td>\n",
       "      <td>MA0035</td>\n",
       "      <td>GATA1</td>\n",
       "    </tr>\n",
       "    <tr>\n",
       "      <th>2</th>\n",
       "      <td>seq215</td>\n",
       "      <td>55</td>\n",
       "      <td>65</td>\n",
       "      <td>+</td>\n",
       "      <td>11.113475</td>\n",
       "      <td>0.000098</td>\n",
       "      <td>1.0</td>\n",
       "      <td>MA0035</td>\n",
       "      <td>GATA1</td>\n",
       "    </tr>\n",
       "    <tr>\n",
       "      <th>3</th>\n",
       "      <td>seq566</td>\n",
       "      <td>53</td>\n",
       "      <td>43</td>\n",
       "      <td>-</td>\n",
       "      <td>11.482270</td>\n",
       "      <td>0.000079</td>\n",
       "      <td>1.0</td>\n",
       "      <td>MA0035</td>\n",
       "      <td>GATA1</td>\n",
       "    </tr>\n",
       "    <tr>\n",
       "      <th>4</th>\n",
       "      <td>seq738</td>\n",
       "      <td>36</td>\n",
       "      <td>46</td>\n",
       "      <td>+</td>\n",
       "      <td>12.070922</td>\n",
       "      <td>0.000046</td>\n",
       "      <td>1.0</td>\n",
       "      <td>MA0035</td>\n",
       "      <td>GATA1</td>\n",
       "    </tr>\n",
       "  </tbody>\n",
       "</table>\n",
       "</div>"
      ],
      "text/plain": [
       "+--------------+-----------+-----------+--------------+-------------+-------+\n",
       "| Chromosome   |     Start |       End | Strand       |       Score | +4    |\n",
       "| (category)   |   (int32) |   (int32) | (category)   |   (float64) | ...   |\n",
       "|--------------+-----------+-----------+--------------+-------------+-------|\n",
       "| seq112       |        29 |        19 | -            |     12.1986 | ...   |\n",
       "| seq137       |        32 |        42 | +            |     11.1348 | ...   |\n",
       "| seq215       |        55 |        65 | +            |     11.1135 | ...   |\n",
       "| seq566       |        53 |        43 | -            |     11.4823 | ...   |\n",
       "| seq738       |        36 |        46 | +            |     12.0709 | ...   |\n",
       "+--------------+-----------+-----------+--------------+-------------+-------+\n",
       "Stranded PyRanges object has 5 rows and 9 columns from 5 chromosomes.\n",
       "For printing, the PyRanges was sorted on Chromosome and Strand.\n",
       "4 hidden columns: Pvalue, Qvalue, Accession, Name"
      ]
     },
     "execution_count": 37,
     "metadata": {},
     "output_type": "execute_result"
    }
   ],
   "source": [
    "jaspar_annots_sdata(sdata, motif_names=[\"GATA1\"]) \n",
    "sdata.pos_annot"
   ]
  },
  {
   "cell_type": "code",
   "execution_count": 39,
   "metadata": {},
   "outputs": [
    {
     "name": "stdout",
     "output_type": "stream",
     "text": [
      "No importance scores given, outputting just sequence\n"
     ]
    },
    {
     "data": {
      "image/png": "[encoded data removed]",
      "text/plain": [
       "<Figure size 1200x400 with 2 Axes>"
      ]
     },
     "metadata": {},
     "output_type": "display_data"
    }
   ],
   "source": [
    "eu.pl.seq_track(\n",
    "    sdata,\n",
    "    seq_id=\"seq137\"\n",
    ")"
   ]
  },
  {
   "cell_type": "code",
   "execution_count": 186,
   "metadata": {},
   "outputs": [
    {
     "name": "stdout",
     "output_type": "stream",
     "text": [
      "Saved PWM File as : test_meme2.out\n"
     ]
    }
   ],
   "source": [
    "# Unit testing\n",
    "single_test = get_jaspar_motifs(motif_accs=['MA0095.2'])\n",
    "multi_test = get_jaspar_motifs(motif_names=['CTCF', 'GATA1'])\n",
    "motifs = get_jaspar_motifs(motif_names=['CTCF', \"GATA1\"])\n",
    "save_motifs_as_meme(motifs, \"test_meme2.out\")\n",
    "annots = fimo_motifs(sdata, *load_meme(\"test_meme2.out\"))\n",
    "score_df = score_seqs(sdata=sdata, motif_accs=['MA0095.2'], filename=\"test_meme.out\")"
   ]
  },
  {
   "cell_type": "markdown",
   "metadata": {},
   "source": [
    "---"
   ]
  },
  {
   "cell_type": "markdown",
   "metadata": {},
   "source": [
    "# Scratch"
   ]
  },
  {
   "cell_type": "code",
   "execution_count": 4,
   "metadata": {},
   "outputs": [
    {
     "name": "stdout",
     "output_type": "stream",
     "text": [
      "--2022-08-22 23:51:05--  https://raw.githubusercontent.com/althonos/pymemesuite/main/tests/data/fimo/prodoric_mx000001_meme.txt\n",
      "Resolving raw.githubusercontent.com (raw.githubusercontent.com)... 185.199.111.133, 185.199.110.133, 185.199.109.133, ...\n",
      "Connecting to raw.githubusercontent.com (raw.githubusercontent.com)|185.199.111.133|:443... connected.\n",
      "HTTP request sent, awaiting response... 200 OK\n",
      "Length: 712 [text/plain]\n",
      "Saving to: ‘prodoric_mx000001_meme.txt.1’\n",
      "\n",
      "prodoric_mx000001_m 100%[===================>]     712  --.-KB/s    in 0s      \n",
      "\n",
      "2022-08-22 23:51:05 (57.5 MB/s) - ‘prodoric_mx000001_meme.txt.1’ saved [712/712]\n",
      "\n",
      "--2022-08-22 23:51:06--  https://raw.githubusercontent.com/althonos/pymemesuite/main/tests/data/fimo/mibig-genes.fna\n",
      "Resolving raw.githubusercontent.com (raw.githubusercontent.com)... 185.199.111.133, 185.199.110.133, 185.199.109.133, ...\n",
      "Connecting to raw.githubusercontent.com (raw.githubusercontent.com)|185.199.111.133|:443... connected.\n",
      "HTTP request sent, awaiting response... 200 OK\n",
      "Length: 58588 (57K) [text/plain]\n",
      "Saving to: ‘mibig-genes.fna’\n",
      "\n",
      "mibig-genes.fna     100%[===================>]  57.21K  --.-KB/s    in 0.004s  \n",
      "\n",
      "2022-08-22 23:51:06 (12.6 MB/s) - ‘mibig-genes.fna’ saved [58588/58588]\n",
      "\n"
     ]
    }
   ],
   "source": [
    "!wget https://raw.githubusercontent.com/althonos/pymemesuite/main/tests/data/fimo/prodoric_mx000001_meme.txt\n",
    "!wget https://raw.githubusercontent.com/althonos/pymemesuite/main/tests/data/fimo/mibig-genes.fna"
   ]
  },
  {
   "cell_type": "code",
   "execution_count": null,
   "metadata": {},
   "outputs": [],
   "source": [
    "def filters_to_meme(pwm, output_file_path):\n",
    "    \"\"\"\n",
    "    Function to convert pwm array to meme file\n",
    "    :param pwm: numpy.array, pwm matrices, shape (U, 4, filter_size), where U - number of units\n",
    "    :param output_file_path: string, the name of the output meme file\n",
    "    \"\"\"\n",
    "\n",
    "    n_filters = pwm.shape[0]\n",
    "    filter_size = pwm.shape[2]\n",
    "    meme_file = open(output_file_path, 'w')\n",
    "    meme_file.write(\"MEME version 4 \\n\")\n",
    "\n",
    "    print('Saved PWM File as : {}'.format(output_file_path))\n",
    "\n",
    "    for i in range(0, n_filters):\n",
    "        if np.sum(pwm[i, :, :]) > 0:\n",
    "            meme_file.write(\"\\n\")\n",
    "            meme_file.write(\"MOTIF filter%s \\n\" % i)\n",
    "            meme_file.write(\n",
    "                \"letter-probability matrix: alength= 4 w= %d \\n\" % np.count_nonzero(np.sum(pwm[i, :, :], axis=0)))\n",
    "\n",
    "        for j in range(0, filter_size):\n",
    "            if np.sum(pwm[i, :, j]) > 0:\n",
    "                meme_file.write(str(pwm[i, 0, j]) + \"\\t\" + str(pwm[i, 1, j]) + \"\\t\" + str(pwm[i, 2, j]) + \"\\t\" + str(\n",
    "                    pwm[i, 3, j]) + \"\\n\")\n",
    "\n",
    "    meme_file.close()"
   ]
  },
  {
   "cell_type": "code",
   "execution_count": null,
   "metadata": {},
   "outputs": [],
   "source": [
    "def pwm_to_meme(pwm, output_file_path, acc, name):\n",
    "    \"\"\"\n",
    "    Function to convert pwm array to meme file\n",
    "    :param pwm: numpy.array, pwm matrices, shape (U, 4, filter_size), where U - number of units\n",
    "    :param output_file_path: string, the name of the output meme file\n",
    "    \"\"\"\n",
    "\n",
    "    n_filters = pwm.shape[0]\n",
    "    filter_size = pwm.shape[2]\n",
    "    meme_file = open(output_file_path, 'w')\n",
    "    meme_file.write(\"MEME version 4 \\n\")\n",
    "\n",
    "    print(f'Saved PWM File as : {output_file_path}')\n",
    "\n",
    "    for i in range(0, n_filters):\n",
    "        if np.sum(pwm[i, :, :]) > 0:\n",
    "            meme_file.write(\"\\n\")\n",
    "            meme_file.write(f\"MOTIF {acc} {name}\\n\")\n",
    "            meme_file.write(\n",
    "                \"letter-probability matrix: alength= 4 w= %d \\n\" % np.count_nonzero(np.sum(pwm[i, :, :], axis=0)))\n",
    "\n",
    "        for j in range(0, filter_size):\n",
    "            if np.sum(pwm[i, :, j]) > 0:\n",
    "                meme_file.write(str(pwm[i, 0, j]) + \"\\t\" + str(pwm[i, 1, j]) + \"\\t\" + str(pwm[i, 2, j]) + \"\\t\" + str(\n",
    "                    pwm[i, 3, j]) + \"\\n\")\n",
    "\n",
    "    meme_file.close()"
   ]
  },
  {
   "cell_type": "code",
   "execution_count": null,
   "metadata": {},
   "outputs": [
    {
     "data": {
      "text/plain": [
       "('YY1', 'MA0095')"
      ]
     },
     "metadata": {},
     "output_type": "display_data"
    }
   ],
   "source": [
    "# Use pyjaspar to read in\n",
    "jdb_obj = jaspardb(release='JASPAR2020')\n",
    "jaspar_motif = jdb_obj.fetch_motif_by_id('MA0095.2')\n",
    "jaspar_motif.name, jaspar_motif.base_id"
   ]
  },
  {
   "cell_type": "code",
   "execution_count": null,
   "metadata": {},
   "outputs": [
    {
     "name": "stdout",
     "output_type": "stream",
     "text": [
      "Saved PWM File as : test_meme.out\n"
     ]
    }
   ],
   "source": [
    "# Save to meme file with wasserman lab function\n",
    "pwm_to_meme(np.expand_dims(np.array(list(motif.pwm.values())), axis=0), \"test_meme.out\")"
   ]
  },
  {
   "cell_type": "code",
   "execution_count": null,
   "metadata": {},
   "outputs": [],
   "source": [
    "f = MotifFile('test_meme2.out')"
   ]
  },
  {
   "cell_type": "code",
   "execution_count": null,
   "metadata": {},
   "outputs": [
    {
     "name": "stdout",
     "output_type": "stream",
     "text": [
      "<pymemesuite.common.Motif object at 0x7f535dcb0870>\n",
      "<pymemesuite.common.Motif object at 0x7f535dcb06e0>\n"
     ]
    }
   ],
   "source": [
    "for i in f:\n",
    "    print(i)"
   ]
  },
  {
   "cell_type": "code",
   "execution_count": null,
   "metadata": {},
   "outputs": [
    {
     "data": {
      "text/plain": [
       "b'MA0531'"
      ]
     },
     "metadata": {},
     "output_type": "display_data"
    }
   ],
   "source": [
    "motif = f.read()\n",
    "motif.accession"
   ]
  },
  {
   "cell_type": "code",
   "execution_count": null,
   "metadata": {},
   "outputs": [
    {
     "data": {
      "text/plain": [
       "('test', 'test2')"
      ]
     },
     "metadata": {},
     "output_type": "display_data"
    }
   ],
   "source": [
    "# Read the meme file to Motif for pymemesuite\n",
    "with MotifFile(\"test_meme.out\") as motif_file:\n",
    "    motif = motif_file.read()\n",
    "motif.accession.decode(), motif.name.decode()"
   ]
  },
  {
   "cell_type": "code",
   "execution_count": null,
   "metadata": {},
   "outputs": [],
   "source": [
    "# Perform FIMO on sequences\n",
    "sdata = eu.datasets.random1000()\n",
    "pymeme_seqs = [Sequence(str(seq), name.encode()) for seq, name in zip(sdata.seqs, sdata.names)]\n",
    "fimo = FIMO(both_strands=False)\n",
    "pattern = fimo.score_motif(motif, pymeme_seqs, motif_file.background)"
   ]
  },
  {
   "cell_type": "code",
   "execution_count": null,
   "metadata": {},
   "outputs": [
    {
     "name": "stdout",
     "output_type": "stream",
     "text": [
      "seq056 18 29 + 14.061224489795919 9.363586039748786e-06 0.2182942144793498\n",
      "seq758 25 36 + 13.561224489795919 1.3757725722382639e-05 0.2182942144793498\n",
      "seq822 36 47 + 13.40816326530613 1.5280343427657978e-05 0.2182942144793498\n",
      "seq275 42 53 + 13.295918367346943 1.616994181328517e-05 0.2182942144793498\n",
      "seq173 40 51 + 12.255102040816325 3.151484975887798e-05 0.28462756301293\n",
      "seq066 49 60 + 12.244897959183675 3.162528477921445e-05 0.28462756301293\n",
      "seq647 7 18 + 11.244897959183675 5.165651465399175e-05 0.39849311304507923\n",
      "seq017 11 22 + 10.816326530612244 6.244671373201486e-05 0.41598405149732437\n",
      "seq407 1 12 + 10.5 7.330143175078421e-05 0.41598405149732437\n",
      "seq532 51 62 + 10.34693877551021 7.866432319426316e-05 0.41598405149732437\n",
      "seq542 30 41 + 10.204081632653057 8.47374919716772e-05 0.41598405149732437\n"
     ]
    }
   ],
   "source": [
    "fimo = FIMO(both_strands=False)\n",
    "pattern = fimo.score_motif(motif, pymeme_seqs, motif_file.background)\n",
    "\n",
    "for m in pattern.matched_elements:\n",
    "    print(\n",
    "        m.source.accession.decode(),\n",
    "        m.start,\n",
    "        m.stop,\n",
    "        m.strand,\n",
    "        m.score,\n",
    "        m.pvalue,\n",
    "        m.qvalue\n",
    "    )"
   ]
  },
  {
   "cell_type": "code",
   "execution_count": null,
   "metadata": {},
   "outputs": [
    {
     "data": {
      "text/plain": [
       "b'filter0'"
      ]
     },
     "metadata": {},
     "output_type": "display_data"
    }
   ],
   "source": [
    "motif.accession"
   ]
  },
  {
   "cell_type": "code",
   "execution_count": null,
   "metadata": {},
   "outputs": [],
   "source": [
    "sdata = eu.datasets.random1000()"
   ]
  },
  {
   "cell_type": "code",
   "execution_count": null,
   "metadata": {},
   "outputs": [
    {
     "data": {
      "text/plain": [
       "[<Bio.motifs.jaspar.Motif at 0x7f53bab00b50>,\n",
       " <Bio.motifs.jaspar.Motif at 0x7f53bab0b7d0>]"
      ]
     },
     "metadata": {},
     "output_type": "display_data"
    }
   ],
   "source": [
    "motifs = jdb_obj.fetch_motifs_by_name('CTCF')\n",
    "motifs"
   ]
  },
  {
   "cell_type": "code",
   "execution_count": null,
   "metadata": {},
   "outputs": [
    {
     "data": {
      "text/plain": [
       "[<Bio.motifs.jaspar.Motif at 0x7f5360567ed0>,\n",
       " <Bio.motifs.jaspar.Motif at 0x7f5431013d90>]"
      ]
     },
     "metadata": {},
     "output_type": "display_data"
    }
   ],
   "source": [
    "motifs"
   ]
  },
  {
   "cell_type": "code",
   "execution_count": 3,
   "metadata": {},
   "outputs": [
    {
     "name": "stdout",
     "output_type": "stream",
     "text": [
      "MexR\n",
      "GTTGAYCYWRTCAAC\n",
      "0.01 0.01 0.96 0.01\n",
      "0.01 0.01 0.01 0.97\n",
      "0.01 0.01 0.01 0.97\n",
      "0.01 0.01 0.96 0.01\n",
      "0.97 0.01 0.01 0.01\n",
      "0.01 0.49 0.01 0.49\n",
      "0.01 0.96 0.01 0.01\n",
      "0.01 0.49 0.01 0.49\n",
      "0.49 0.01 0.01 0.49\n",
      "0.49 0.01 0.49 0.01\n",
      "0.01 0.01 0.01 0.97\n",
      "0.01 0.96 0.01 0.01\n",
      "0.97 0.01 0.01 0.01\n",
      "0.97 0.01 0.01 0.01\n",
      "0.01 0.96 0.01 0.01\n"
     ]
    }
   ],
   "source": [
    "with MotifFile(\"prodoric_mx000001_meme.txt\") as motif_file:\n",
    "    motif = motif_file.read()\n",
    "\n",
    "print(motif.name.decode())\n",
    "print(motif.consensus)\n",
    "\n",
    "for row in motif.frequencies:\n",
    "    print(\" \".join(f'{freq:.2f}' for freq in row))"
   ]
  },
  {
   "cell_type": "code",
   "execution_count": 5,
   "metadata": {},
   "outputs": [
    {
     "name": "stdout",
     "output_type": "stream",
     "text": [
      "BGC0002035.1_3425_15590 6700 6714 + 9.328571428571422 1.1024163606971822e-05 0.6174858127445146\n"
     ]
    }
   ],
   "source": [
    "import Bio.SeqIO\n",
    "from pymemesuite.common import Sequence\n",
    "from pymemesuite.fimo import FIMO\n",
    "\n",
    "sequences = [\n",
    "    Sequence(str(record.seq), name=record.id.encode())\n",
    "    for record in Bio.SeqIO.parse(\"mibig-genes.fna\", \"fasta\")\n",
    "]\n",
    "\n",
    "fimo = FIMO(both_strands=False)\n",
    "pattern = fimo.score_motif(motif, sequences, motif_file.background)\n",
    "\n",
    "for m in pattern.matched_elements:\n",
    "    print(\n",
    "        m.source.accession.decode(),\n",
    "        m.start,\n",
    "        m.stop,\n",
    "        m.strand,\n",
    "        m.score,\n",
    "        m.pvalue,\n",
    "        m.qvalue\n",
    "    )"
   ]
  },
  {
   "cell_type": "code",
   "execution_count": 7,
   "metadata": {},
   "outputs": [
    {
     "data": {
      "text/plain": [
       "<Bio.motifs.jaspar.Motif at 0x7f1d292f8c10>"
      ]
     },
     "execution_count": 7,
     "metadata": {},
     "output_type": "execute_result"
    }
   ],
   "source": [
    "motif"
   ]
  },
  {
   "cell_type": "code",
   "execution_count": 8,
   "metadata": {},
   "outputs": [],
   "source": [
    "from Bio.motifs import write"
   ]
  },
  {
   "cell_type": "code",
   "execution_count": 15,
   "metadata": {},
   "outputs": [],
   "source": [
    "import numpy as np"
   ]
  },
  {
   "cell_type": "code",
   "execution_count": 26,
   "metadata": {},
   "outputs": [
    {
     "name": "stdout",
     "output_type": "stream",
     "text": [
      "Saved PWM File as : test.meme\n"
     ]
    }
   ],
   "source": []
  },
  {
   "cell_type": "code",
   "execution_count": 32,
   "metadata": {},
   "outputs": [
    {
     "name": "stderr",
     "output_type": "stream",
     "text": [
      "/home/vscode/.local/lib/python3.7/site-packages/Bio/motifs/__init__.py:610: BiopythonDeprecationWarning: Motif.format has been deprecated, and we intend to remove it in a future release of Biopython. Instead of motif.format(format_spec), please use format(motif, format_spec).\n",
      "  BiopythonDeprecationWarning,\n"
     ]
    }
   ],
   "source": [
    "motif.weblogo(\"test.svg\")"
   ]
  },
  {
   "cell_type": "code",
   "execution_count": 33,
   "metadata": {},
   "outputs": [
    {
     "data": {
      "text/plain": [
       "{'A': (0.15702133593641054,\n",
       "  0.9726676893041417,\n",
       "  0.9400362571468415,\n",
       "  0.3494631153256171,\n",
       "  1.0,\n",
       "  0.0,\n",
       "  0.0015339562125226607,\n",
       "  0.0018128573420722353,\n",
       "  0.11323385859712731,\n",
       "  0.12090363965974062,\n",
       "  0.12536605773253381,\n",
       "  0.18574815228001673),\n",
       " 'C': (0.6391019383628503,\n",
       "  0.0,\n",
       "  0.013805605912703946,\n",
       "  0.15576628085343747,\n",
       "  0.0,\n",
       "  0.001673406777297448,\n",
       "  0.0,\n",
       "  0.0,\n",
       "  0.7860828336354763,\n",
       "  0.2344163993864175,\n",
       "  0.12201924417793893,\n",
       "  0.6370101798912285),\n",
       " 'G': (0.11169990238460466,\n",
       "  0.025240552224236507,\n",
       "  0.037372751359643006,\n",
       "  0.457676753590852,\n",
       "  0.0,\n",
       "  0.0,\n",
       "  0.9984660437874774,\n",
       "  0.9981871426579277,\n",
       "  0.005299121461441919,\n",
       "  0.38558081160228697,\n",
       "  0.6491423790266351,\n",
       "  0.054525170826941846),\n",
       " 'T': (0.09217682331613443,\n",
       "  0.00209175847162181,\n",
       "  0.008785385580811602,\n",
       "  0.037093850230093435,\n",
       "  0.0,\n",
       "  0.9983265932227026,\n",
       "  0.0,\n",
       "  0.0,\n",
       "  0.09538418630595454,\n",
       "  0.25909914935155487,\n",
       "  0.1034723190628922,\n",
       "  0.12271649700181286)}"
      ]
     },
     "execution_count": 33,
     "metadata": {},
     "output_type": "execute_result"
    }
   ],
   "source": [
    "motif.pwm"
   ]
  },
  {
   "cell_type": "code",
   "execution_count": 28,
   "metadata": {},
   "outputs": [],
   "source": [
    "from pymemesuite.common import MotifFile"
   ]
  },
  {
   "cell_type": "code",
   "execution_count": 29,
   "metadata": {},
   "outputs": [
    {
     "name": "stdout",
     "output_type": "stream",
     "text": [
      "\n",
      "CAARATGGCBGC\n",
      "0.16 0.64 0.11 0.09\n",
      "0.97 0.00 0.03 0.00\n",
      "0.94 0.01 0.04 0.01\n",
      "0.35 0.16 0.46 0.04\n",
      "1.00 0.00 0.00 0.00\n",
      "0.00 0.00 0.00 0.99\n",
      "0.00 0.00 0.99 0.00\n",
      "0.00 0.00 0.99 0.00\n",
      "0.11 0.78 0.01 0.10\n",
      "0.12 0.23 0.38 0.26\n",
      "0.13 0.12 0.65 0.10\n",
      "0.19 0.63 0.06 0.12\n"
     ]
    }
   ],
   "source": [
    "\n",
    "\n",
    "print(motif.name.decode())\n",
    "print(motif.consensus)\n",
    "\n",
    "for row in motif.frequencies:\n",
    "    print(\" \".join(f'{freq:.2f}' for freq in row))"
   ]
  },
  {
   "cell_type": "code",
   "execution_count": 25,
   "metadata": {},
   "outputs": [],
   "source": []
  },
  {
   "cell_type": "code",
   "execution_count": 9,
   "metadata": {},
   "outputs": [
    {
     "name": "stdout",
     "output_type": "stream",
     "text": [
      "\u001b[0;31mSignature:\u001b[0m \u001b[0mwrite\u001b[0m\u001b[0;34m(\u001b[0m\u001b[0mmotifs\u001b[0m\u001b[0;34m,\u001b[0m \u001b[0mformat\u001b[0m\u001b[0;34m)\u001b[0m\u001b[0;34m\u001b[0m\u001b[0;34m\u001b[0m\u001b[0m\n",
      "\u001b[0;31mDocstring:\u001b[0m\n",
      "Return a string representation of motifs in the given format.\n",
      "\n",
      "Currently supported formats (case is ignored):\n",
      " - clusterbuster: Cluster Buster position frequency matrix format\n",
      " - pfm : JASPAR simple single Position Frequency Matrix\n",
      " - jaspar : JASPAR multiple PFM format\n",
      " - transfac : TRANSFAC like files\n",
      "\u001b[0;31mFile:\u001b[0m      ~/.local/lib/python3.7/site-packages/Bio/motifs/__init__.py\n",
      "\u001b[0;31mType:\u001b[0m      function\n"
     ]
    }
   ],
   "source": [
    "write(motif, \"\")"
   ]
  },
  {
   "cell_type": "code",
   "execution_count": 14,
   "metadata": {},
   "outputs": [],
   "source": [
    "import pymemesuite"
   ]
  },
  {
   "cell_type": "code",
   "execution_count": null,
   "metadata": {},
   "outputs": [
    {
     "ename": "",
     "evalue": "",
     "output_type": "error",
     "traceback": [
      "\u001b[1;31mCanceled future for execute_request message before replies were done"
     ]
    },
    {
     "ename": "",
     "evalue": "",
     "output_type": "error",
     "traceback": [
      "The Kernel crashed while executing code in the the current cell or a previous cell. Please review the code in the cell(s) to identify a possible cause of the failure. Click <a href='https://aka.ms/vscodeJupyterKernelCrash'>here</a> for more info. View Jupyter <a href='command:jupyter.viewOutput'>log</a> for further details."
     ]
    }
   ],
   "source": [
    "common.Alphabet(motif.alphabet)"
   ]
  },
  {
   "cell_type": "code",
   "execution_count": 47,
   "metadata": {},
   "outputs": [
    {
     "ename": "TypeError",
     "evalue": "Argument 'alphabet' has incorrect type (expected pymemesuite.common.Alphabet, got str)",
     "output_type": "error",
     "traceback": [
      "\u001b[0;31m---------------------------------------------------------------------------\u001b[0m",
      "\u001b[0;31mTypeError\u001b[0m                                 Traceback (most recent call last)",
      "\u001b[0;32m/tmp/ipykernel_9940/1302291129.py\u001b[0m in \u001b[0;36m<module>\u001b[0;34m\u001b[0m\n\u001b[0;32m----> 1\u001b[0;31m \u001b[0mpymemesuite\u001b[0m\u001b[0;34m.\u001b[0m\u001b[0mcommon\u001b[0m\u001b[0;34m.\u001b[0m\u001b[0mMotif\u001b[0m\u001b[0;34m(\u001b[0m\u001b[0mmotif\u001b[0m\u001b[0;34m.\u001b[0m\u001b[0malphabet\u001b[0m\u001b[0;34m)\u001b[0m\u001b[0;34m\u001b[0m\u001b[0;34m\u001b[0m\u001b[0m\n\u001b[0m",
      "\u001b[0;31mTypeError\u001b[0m: Argument 'alphabet' has incorrect type (expected pymemesuite.common.Alphabet, got str)"
     ]
    }
   ],
   "source": [
    "pymemesuite.common.Motif(motif.alphabet)"
   ]
  },
  {
   "cell_type": "code",
   "execution_count": 25,
   "metadata": {},
   "outputs": [],
   "source": [
    "from Bio.motifs.jaspar.db import JASPAR5"
   ]
  },
  {
   "cell_type": "code",
   "execution_count": 26,
   "metadata": {},
   "outputs": [
    {
     "name": "stdout",
     "output_type": "stream",
     "text": [
      "\u001b[0;31mInit signature:\u001b[0m \u001b[0mJASPAR5\u001b[0m\u001b[0;34m(\u001b[0m\u001b[0mhost\u001b[0m\u001b[0;34m=\u001b[0m\u001b[0;32mNone\u001b[0m\u001b[0;34m,\u001b[0m \u001b[0mname\u001b[0m\u001b[0;34m=\u001b[0m\u001b[0;32mNone\u001b[0m\u001b[0;34m,\u001b[0m \u001b[0muser\u001b[0m\u001b[0;34m=\u001b[0m\u001b[0;32mNone\u001b[0m\u001b[0;34m,\u001b[0m \u001b[0mpassword\u001b[0m\u001b[0;34m=\u001b[0m\u001b[0;32mNone\u001b[0m\u001b[0;34m)\u001b[0m\u001b[0;34m\u001b[0m\u001b[0;34m\u001b[0m\u001b[0m\n",
      "\u001b[0;31mDocstring:\u001b[0m     \n",
      "Class representing a JASPAR5 database.\n",
      "\n",
      "Class representing a JASPAR5 DB. The methods within are loosely based\n",
      "on the perl TFBS::DB::JASPAR5 module.\n",
      "\n",
      "Note: We will only implement reading of JASPAR motifs from the DB.\n",
      "Unlike the perl module, we will not attempt to implement any methods to\n",
      "store JASPAR motifs or create a new DB at this time.\n",
      "\u001b[0;31mInit docstring:\u001b[0m\n",
      "Construct a JASPAR5 instance and connect to specified DB.\n",
      "\n",
      "Arguments:\n",
      " - host - host name of the the JASPAR DB server\n",
      " - name - name of the JASPAR database\n",
      " - user - user name to connect to the JASPAR DB\n",
      " - password - JASPAR DB password\n",
      "\u001b[0;31mFile:\u001b[0m           ~/.local/lib/python3.7/site-packages/Bio/motifs/jaspar/db.py\n",
      "\u001b[0;31mType:\u001b[0m           type\n",
      "\u001b[0;31mSubclasses:\u001b[0m     \n"
     ]
    }
   ],
   "source": [
    "JASPAR5?"
   ]
  },
  {
   "cell_type": "code",
   "execution_count": 27,
   "metadata": {},
   "outputs": [],
   "source": [
    "JASPAR_DB_HOST = 'vm5.cmmt.ubc.ca'\n",
    "JASPAR_DB_NAME = 'JASPAR_2010'\n",
    "JASPAR_DB_USER = 'jaspar_r'\n",
    "JASPAR_DB_PASS = ''"
   ]
  },
  {
   "cell_type": "code",
   "execution_count": 28,
   "metadata": {},
   "outputs": [
    {
     "ename": "KeyboardInterrupt",
     "evalue": "",
     "output_type": "error",
     "traceback": [
      "\u001b[0;31m---------------------------------------------------------------------------\u001b[0m",
      "\u001b[0;31mOperationalError\u001b[0m                          Traceback (most recent call last)",
      "    \u001b[0;31m[... skipping hidden 1 frame]\u001b[0m\n",
      "\u001b[0;32m/tmp/ipykernel_9940/3675562022.py\u001b[0m in \u001b[0;36m<module>\u001b[0;34m\u001b[0m\n\u001b[1;32m      5\u001b[0m    \u001b[0muser\u001b[0m\u001b[0;34m=\u001b[0m\u001b[0mJASPAR_DB_USER\u001b[0m\u001b[0;34m,\u001b[0m\u001b[0;34m\u001b[0m\u001b[0;34m\u001b[0m\u001b[0m\n\u001b[0;32m----> 6\u001b[0;31m    \u001b[0mpassword\u001b[0m\u001b[0;34m=\u001b[0m\u001b[0mJASPAR_DB_PASS\u001b[0m\u001b[0;34m\u001b[0m\u001b[0;34m\u001b[0m\u001b[0m\n\u001b[0m\u001b[1;32m      7\u001b[0m )\n",
      "\u001b[0;32m~/.local/lib/python3.7/site-packages/Bio/motifs/jaspar/db.py\u001b[0m in \u001b[0;36m__init__\u001b[0;34m(self, host, name, user, password)\u001b[0m\n\u001b[1;32m     99\u001b[0m \u001b[0;34m\u001b[0m\u001b[0m\n\u001b[0;32m--> 100\u001b[0;31m         \u001b[0mself\u001b[0m\u001b[0;34m.\u001b[0m\u001b[0mdbh\u001b[0m \u001b[0;34m=\u001b[0m \u001b[0mmdb\u001b[0m\u001b[0;34m.\u001b[0m\u001b[0mconnect\u001b[0m\u001b[0;34m(\u001b[0m\u001b[0mhost\u001b[0m\u001b[0;34m,\u001b[0m \u001b[0muser\u001b[0m\u001b[0;34m,\u001b[0m \u001b[0mpassword\u001b[0m\u001b[0;34m,\u001b[0m \u001b[0mname\u001b[0m\u001b[0;34m)\u001b[0m\u001b[0;34m\u001b[0m\u001b[0;34m\u001b[0m\u001b[0m\n\u001b[0m\u001b[1;32m    101\u001b[0m \u001b[0;34m\u001b[0m\u001b[0m\n",
      "\u001b[0;32m~/.local/lib/python3.7/site-packages/MySQLdb/__init__.py\u001b[0m in \u001b[0;36mConnect\u001b[0;34m(*args, **kwargs)\u001b[0m\n\u001b[1;32m    122\u001b[0m \u001b[0;34m\u001b[0m\u001b[0m\n\u001b[0;32m--> 123\u001b[0;31m     \u001b[0;32mreturn\u001b[0m \u001b[0mConnection\u001b[0m\u001b[0;34m(\u001b[0m\u001b[0;34m*\u001b[0m\u001b[0margs\u001b[0m\u001b[0;34m,\u001b[0m \u001b[0;34m**\u001b[0m\u001b[0mkwargs\u001b[0m\u001b[0;34m)\u001b[0m\u001b[0;34m\u001b[0m\u001b[0;34m\u001b[0m\u001b[0m\n\u001b[0m\u001b[1;32m    124\u001b[0m \u001b[0;34m\u001b[0m\u001b[0m\n",
      "\u001b[0;32m~/.local/lib/python3.7/site-packages/MySQLdb/connections.py\u001b[0m in \u001b[0;36m__init__\u001b[0;34m(self, *args, **kwargs)\u001b[0m\n\u001b[1;32m    184\u001b[0m \u001b[0;34m\u001b[0m\u001b[0m\n\u001b[0;32m--> 185\u001b[0;31m         \u001b[0msuper\u001b[0m\u001b[0;34m(\u001b[0m\u001b[0;34m)\u001b[0m\u001b[0;34m.\u001b[0m\u001b[0m__init__\u001b[0m\u001b[0;34m(\u001b[0m\u001b[0;34m*\u001b[0m\u001b[0margs\u001b[0m\u001b[0;34m,\u001b[0m \u001b[0;34m**\u001b[0m\u001b[0mkwargs2\u001b[0m\u001b[0;34m)\u001b[0m\u001b[0;34m\u001b[0m\u001b[0;34m\u001b[0m\u001b[0m\n\u001b[0m\u001b[1;32m    186\u001b[0m         \u001b[0mself\u001b[0m\u001b[0;34m.\u001b[0m\u001b[0mcursorclass\u001b[0m \u001b[0;34m=\u001b[0m \u001b[0mcursorclass\u001b[0m\u001b[0;34m\u001b[0m\u001b[0;34m\u001b[0m\u001b[0m\n",
      "\u001b[0;31mOperationalError\u001b[0m: (2002, \"Can't connect to MySQL server on 'vm5.cmmt.ubc.ca' (4)\")",
      "\nDuring handling of the above exception, another exception occurred:\n",
      "\u001b[0;31mKeyboardInterrupt\u001b[0m                         Traceback (most recent call last)",
      "\u001b[0;31mKeyboardInterrupt\u001b[0m: "
     ]
    }
   ],
   "source": [
    "DFLT_COLLECTION = 'CORE'\n",
    "jdb = JASPAR5(\n",
    "    host=JASPAR_DB_HOST,\n",
    "    name=JASPAR_DB_NAME,\n",
    "    user=JASPAR_DB_USER,\n",
    "    password=JASPAR_DB_PASS\n",
    ")"
   ]
  },
  {
   "cell_type": "code",
   "execution_count": null,
   "metadata": {},
   "outputs": [],
   "source": [
    "ets1 = jdb.fetch_motif_by_id('MA0098')\n",
    "print ets1"
   ]
  }
 ],
 "metadata": {
  "kernelspec": {
   "display_name": "Python 3.7.13 64-bit",
   "language": "python",
   "name": "python3"
  },
  "language_info": {
   "codemirror_mode": {
    "name": "ipython",
    "version": 3
   },
   "file_extension": ".py",
   "mimetype": "text/x-python",
   "name": "python",
   "nbconvert_exporter": "python",
   "pygments_lexer": "ipython3",
   "version": "3.7.13"
  },
  "orig_nbformat": 4,
  "vscode": {
   "interpreter": {
    "hash": "949777d72b0d2535278d3dc13498b2535136f6dfe0678499012e853ee9abcab1"
   }
  }
 },
 "nbformat": 4,
 "nbformat_minor": 2
}

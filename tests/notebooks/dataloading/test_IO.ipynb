{
 "cells": [
  {
   "cell_type": "markdown",
   "id": "c3daa03e",
   "metadata": {},
   "source": [
    "# Implementing `dataloading` modules `_io.py` functionality"
   ]
  },
  {
   "cell_type": "markdown",
   "id": "91689580",
   "metadata": {
    "tags": []
   },
   "source": [
    "**Authorship:**\n",
    "Adam Klie, *03/02/2022*\n",
    "***\n",
    "**Description:**\n",
    "Notebook for implementing `dataloading` modules I/O functins in `_io.py`"
   ]
  },
  {
   "cell_type": "code",
   "execution_count": 1,
   "id": "92833b89",
   "metadata": {
    "execution": {
     "iopub.execute_input": "2022-04-24T18:43:50.141019Z",
     "iopub.status.busy": "2022-04-24T18:43:50.140893Z",
     "iopub.status.idle": "2022-04-24T18:43:57.795293Z",
     "shell.execute_reply": "2022-04-24T18:43:57.794764Z",
     "shell.execute_reply.started": "2022-04-24T18:43:50.140980Z"
    },
    "tags": []
   },
   "outputs": [
    {
     "name": "stderr",
     "output_type": "stream",
     "text": [
      "Global seed set to 13\n"
     ]
    },
    {
     "name": "stdout",
     "output_type": "stream",
     "text": [
      "GPU is available: True\n",
      "Number of GPUs: 1\n",
      "Current GPU: 0\n",
      "GPUs: Quadro RTX 5000\n"
     ]
    }
   ],
   "source": [
    "import os\n",
    "import numpy as np\n",
    "import pandas as pd\n",
    "\n",
    "# Autoreload extension\n",
    "if 'autoreload' not in get_ipython().extension_manager.loaded:\n",
    "    %load_ext autoreload\n",
    "%autoreload 2\n",
    "\n",
    "from pkg_resources import resource_filename\n",
    "import eugene as eu"
   ]
  },
  {
   "cell_type": "markdown",
   "metadata": {},
   "source": [
    "# READ"
   ]
  },
  {
   "cell_type": "markdown",
   "metadata": {},
   "source": [
    "## `read_bed`"
   ]
  },
  {
   "cell_type": "code",
   "execution_count": 71,
   "metadata": {},
   "outputs": [],
   "source": [
    "def read_bed(\n",
    "    bed_file: str,\n",
    "    roi_file: str,\n",
    "    ref_file: str,\n",
    "    dnaflank=None,\n",
    "    resolution=None,\n",
    "    collapser=\"max\",\n",
    "    add_seqs=False,\n",
    "    return_janggu=False,\n",
    "    **kwargs\n",
    "):\n",
    "    \"\"\"\n",
    "    Read a BED file and return a DataFrame.\n",
    "\n",
    "    Parameters\n",
    "    ----------\n",
    "    bed_file : str\n",
    "        Path to the BED file where peaks are stored.\n",
    "    roi_file : str\n",
    "        Path to the file containing the regions of interest under consideration.\n",
    "    ref_file : str\n",
    "        Path to the genome reference file.\n",
    "    kwargs : dict\n",
    "        Additional arguments to pass to as Janggu's parameters for loading\n",
    "    \n",
    "    Returns\n",
    "    -------\n",
    "    sdata : SeqData\n",
    "        SeqData object containing the peaks.\n",
    "    \"\"\"\n",
    "    dna = eu.external.janggu.data.Bioseq.create_from_refgenome(\n",
    "        name='dna',\n",
    "        refgenome=ref_file,\n",
    "        roi=roi_file,\n",
    "        flank=dnaflank,\n",
    "        **kwargs\n",
    "    )\n",
    "    cover = eu.external.janggu.data.Cover.create_from_bed(\n",
    "        'cover',\n",
    "        bedfiles=bed_file,\n",
    "        roi=roi_file,\n",
    "        resolution=resolution,\n",
    "        collapser=collapser,\n",
    "        **kwargs\n",
    "    )\n",
    "    if return_janggu:\n",
    "        return dna, cover\n",
    "    ids = np.array(list(dna.garray.region2index.keys()))\n",
    "    ohe_seqs = dna[:][:, :, 0, :]\n",
    "    targets = cover[:].squeeze()\n",
    "    seqs = np.array(eu.pp.decode_DNA_seqs(ohe_seqs)) if add_seqs else None\n",
    "    return eu.dl.SeqData(\n",
    "            names=ids,\n",
    "            seqs=seqs,\n",
    "            ohe_seqs=ohe_seqs,\n",
    "            rev_seqs=None,\n",
    "            seqs_annot=pd.DataFrame(data=targets, index=ids, columns=[\"target\"]),\n",
    "        )\n"
   ]
  },
  {
   "cell_type": "code",
   "execution_count": 20,
   "metadata": {},
   "outputs": [],
   "source": [
    "bed_file = resource_filename(\n",
    "    'eugene',\n",
    "    'external/janggu/resources/scored_sample.bed'\n",
    ")\n",
    "roi_file = resource_filename(\n",
    "    'eugene',\n",
    "    'external/janggu/resources/sample.bed'\n",
    ")\n",
    "refgenome = resource_filename(\n",
    "    'eugene',\n",
    "    'external/janggu/resources/sample_genome.fa'\n",
    ")"
   ]
  },
  {
   "cell_type": "code",
   "execution_count": 21,
   "metadata": {},
   "outputs": [
    {
     "data": {
      "text/plain": [
       "('/mnt/beegfs/users/aklie/projects/EUGENe/eugene/external/janggu/resources/scored_sample.bed',\n",
       " '/mnt/beegfs/users/aklie/projects/EUGENe/eugene/external/janggu/resources/sample.bed',\n",
       " '/mnt/beegfs/users/aklie/projects/EUGENe/eugene/external/janggu/resources/sample_genome.fa')"
      ]
     },
     "execution_count": 21,
     "metadata": {},
     "output_type": "execute_result"
    }
   ],
   "source": [
    "bed_file, roi_file, refgenome"
   ]
  },
  {
   "cell_type": "code",
   "execution_count": 72,
   "metadata": {},
   "outputs": [],
   "source": [
    "dna, cov = read_bed(\n",
    "    bed_file=bed_file,\n",
    "    roi_file=roi_file,  \n",
    "    ref_file=refgenome,\n",
    "    binsize=200, \n",
    "    collapser=\"max\",\n",
    "    dnaflank=50,\n",
    "    return_janggu=True\n",
    ")"
   ]
  },
  {
   "cell_type": "code",
   "execution_count": 74,
   "metadata": {},
   "outputs": [
    {
     "data": {
      "text/plain": [
       "(100, 1, 1, 1)"
      ]
     },
     "execution_count": 74,
     "metadata": {},
     "output_type": "execute_result"
    }
   ],
   "source": [
    "cov.shape"
   ]
  },
  {
   "cell_type": "code",
   "execution_count": 79,
   "metadata": {},
   "outputs": [],
   "source": [
    "sdata = read_bed(\n",
    "    bed_file=bed_file,\n",
    "    roi_file=roi_file,  \n",
    "    ref_file=refgenome,\n",
    "    binsize=200, \n",
    "    collapser=\"max\",\n",
    "    dnaflank=50,\n",
    "    add_seqs=True,\n",
    "    return_janggu=False\n",
    ")"
   ]
  },
  {
   "cell_type": "code",
   "execution_count": 81,
   "metadata": {},
   "outputs": [
    {
     "name": "stdout",
     "output_type": "stream",
     "text": [
      "SeqData object modified:\n",
      "\trev_seqs: None -> 100 rev_seqs added\n"
     ]
    }
   ],
   "source": [
    "eu.pp.reverse_complement_data(sdata)"
   ]
  },
  {
   "cell_type": "code",
   "execution_count": 82,
   "metadata": {},
   "outputs": [
    {
     "data": {
      "text/plain": [
       "SeqData object with = 100 seqs\n",
       "seqs = (100,)\n",
       "names = (100,)\n",
       "rev_seqs = (100,)\n",
       "ohe_seqs = (100, 300, 4)\n",
       "ohe_rev_seqs = None\n",
       "seqs_annot: 'target'\n",
       "pos_annot: None\n",
       "seqsm: None\n",
       "uns: None"
      ]
     },
     "execution_count": 82,
     "metadata": {},
     "output_type": "execute_result"
    }
   ],
   "source": [
    "sdata"
   ]
  },
  {
   "cell_type": "code",
   "execution_count": null,
   "metadata": {},
   "outputs": [],
   "source": []
  },
  {
   "cell_type": "code",
   "execution_count": 70,
   "metadata": {},
   "outputs": [
    {
     "data": {
      "text/plain": [
       "array([0., 0., 0., 1., 1.])"
      ]
     },
     "execution_count": 70,
     "metadata": {},
     "output_type": "execute_result"
    }
   ],
   "source": [
    "cov[:].squeeze()[:5]"
   ]
  },
  {
   "cell_type": "code",
   "execution_count": 43,
   "metadata": {},
   "outputs": [
    {
     "data": {
      "text/plain": [
       "{'_binsize': 200,\n",
       " '_stepsize': 200,\n",
       " '_flank': 50,\n",
       " 'chrs': ['chr1',\n",
       "  'chr1',\n",
       "  'chr1',\n",
       "  'chr1',\n",
       "  'chr1',\n",
       "  'chr1',\n",
       "  'chr1',\n",
       "  'chr1',\n",
       "  'chr1',\n",
       "  'chr1',\n",
       "  'chr1',\n",
       "  'chr1',\n",
       "  'chr1',\n",
       "  'chr1',\n",
       "  'chr1',\n",
       "  'chr1',\n",
       "  'chr1',\n",
       "  'chr1',\n",
       "  'chr1',\n",
       "  'chr1',\n",
       "  'chr1',\n",
       "  'chr1',\n",
       "  'chr1',\n",
       "  'chr1',\n",
       "  'chr1',\n",
       "  'chr1',\n",
       "  'chr1',\n",
       "  'chr1',\n",
       "  'chr1',\n",
       "  'chr1',\n",
       "  'chr1',\n",
       "  'chr1',\n",
       "  'chr1',\n",
       "  'chr1',\n",
       "  'chr1',\n",
       "  'chr1',\n",
       "  'chr1',\n",
       "  'chr1',\n",
       "  'chr1',\n",
       "  'chr1',\n",
       "  'chr1',\n",
       "  'chr1',\n",
       "  'chr1',\n",
       "  'chr1',\n",
       "  'chr1',\n",
       "  'chr1',\n",
       "  'chr1',\n",
       "  'chr1',\n",
       "  'chr1',\n",
       "  'chr1',\n",
       "  'chr2',\n",
       "  'chr2',\n",
       "  'chr2',\n",
       "  'chr2',\n",
       "  'chr2',\n",
       "  'chr2',\n",
       "  'chr2',\n",
       "  'chr2',\n",
       "  'chr2',\n",
       "  'chr2',\n",
       "  'chr2',\n",
       "  'chr2',\n",
       "  'chr2',\n",
       "  'chr2',\n",
       "  'chr2',\n",
       "  'chr2',\n",
       "  'chr2',\n",
       "  'chr2',\n",
       "  'chr2',\n",
       "  'chr2',\n",
       "  'chr2',\n",
       "  'chr2',\n",
       "  'chr2',\n",
       "  'chr2',\n",
       "  'chr2',\n",
       "  'chr2',\n",
       "  'chr2',\n",
       "  'chr2',\n",
       "  'chr2',\n",
       "  'chr2',\n",
       "  'chr2',\n",
       "  'chr2',\n",
       "  'chr2',\n",
       "  'chr2',\n",
       "  'chr2',\n",
       "  'chr2',\n",
       "  'chr2',\n",
       "  'chr2',\n",
       "  'chr2',\n",
       "  'chr2',\n",
       "  'chr2',\n",
       "  'chr2',\n",
       "  'chr2',\n",
       "  'chr2',\n",
       "  'chr2',\n",
       "  'chr2',\n",
       "  'chr2',\n",
       "  'chr2',\n",
       "  'chr2',\n",
       "  'chr2'],\n",
       " 'starts': [15000,\n",
       "  15200,\n",
       "  15400,\n",
       "  15600,\n",
       "  15800,\n",
       "  16000,\n",
       "  16200,\n",
       "  16400,\n",
       "  16600,\n",
       "  16800,\n",
       "  17000,\n",
       "  17200,\n",
       "  17400,\n",
       "  17600,\n",
       "  17800,\n",
       "  18000,\n",
       "  18200,\n",
       "  18400,\n",
       "  18600,\n",
       "  18800,\n",
       "  19000,\n",
       "  19200,\n",
       "  19400,\n",
       "  19600,\n",
       "  19800,\n",
       "  20000,\n",
       "  20200,\n",
       "  20400,\n",
       "  20600,\n",
       "  20800,\n",
       "  21000,\n",
       "  21200,\n",
       "  21400,\n",
       "  21600,\n",
       "  21800,\n",
       "  22000,\n",
       "  22200,\n",
       "  22400,\n",
       "  22600,\n",
       "  22800,\n",
       "  23000,\n",
       "  23200,\n",
       "  23400,\n",
       "  23600,\n",
       "  23800,\n",
       "  24000,\n",
       "  24200,\n",
       "  24400,\n",
       "  24600,\n",
       "  24800,\n",
       "  15000,\n",
       "  15200,\n",
       "  15400,\n",
       "  15600,\n",
       "  15800,\n",
       "  16000,\n",
       "  16200,\n",
       "  16400,\n",
       "  16600,\n",
       "  16800,\n",
       "  17000,\n",
       "  17200,\n",
       "  17400,\n",
       "  17600,\n",
       "  17800,\n",
       "  18000,\n",
       "  18200,\n",
       "  18400,\n",
       "  18600,\n",
       "  18800,\n",
       "  19000,\n",
       "  19200,\n",
       "  19400,\n",
       "  19600,\n",
       "  19800,\n",
       "  20000,\n",
       "  20200,\n",
       "  20400,\n",
       "  20600,\n",
       "  20800,\n",
       "  21000,\n",
       "  21200,\n",
       "  21400,\n",
       "  21600,\n",
       "  21800,\n",
       "  22000,\n",
       "  22200,\n",
       "  22400,\n",
       "  22600,\n",
       "  22800,\n",
       "  23000,\n",
       "  23200,\n",
       "  23400,\n",
       "  23600,\n",
       "  23800,\n",
       "  24000,\n",
       "  24200,\n",
       "  24400,\n",
       "  24600,\n",
       "  24800],\n",
       " 'strand': ['+',\n",
       "  '+',\n",
       "  '+',\n",
       "  '+',\n",
       "  '+',\n",
       "  '+',\n",
       "  '+',\n",
       "  '+',\n",
       "  '+',\n",
       "  '+',\n",
       "  '+',\n",
       "  '+',\n",
       "  '+',\n",
       "  '+',\n",
       "  '+',\n",
       "  '+',\n",
       "  '+',\n",
       "  '+',\n",
       "  '+',\n",
       "  '+',\n",
       "  '+',\n",
       "  '+',\n",
       "  '+',\n",
       "  '+',\n",
       "  '+',\n",
       "  '+',\n",
       "  '+',\n",
       "  '+',\n",
       "  '+',\n",
       "  '+',\n",
       "  '+',\n",
       "  '+',\n",
       "  '+',\n",
       "  '+',\n",
       "  '+',\n",
       "  '+',\n",
       "  '+',\n",
       "  '+',\n",
       "  '+',\n",
       "  '+',\n",
       "  '+',\n",
       "  '+',\n",
       "  '+',\n",
       "  '+',\n",
       "  '+',\n",
       "  '+',\n",
       "  '+',\n",
       "  '+',\n",
       "  '+',\n",
       "  '+',\n",
       "  '-',\n",
       "  '-',\n",
       "  '-',\n",
       "  '-',\n",
       "  '-',\n",
       "  '-',\n",
       "  '-',\n",
       "  '-',\n",
       "  '-',\n",
       "  '-',\n",
       "  '-',\n",
       "  '-',\n",
       "  '-',\n",
       "  '-',\n",
       "  '-',\n",
       "  '-',\n",
       "  '-',\n",
       "  '-',\n",
       "  '-',\n",
       "  '-',\n",
       "  '-',\n",
       "  '-',\n",
       "  '-',\n",
       "  '-',\n",
       "  '-',\n",
       "  '-',\n",
       "  '-',\n",
       "  '-',\n",
       "  '-',\n",
       "  '-',\n",
       "  '-',\n",
       "  '-',\n",
       "  '-',\n",
       "  '-',\n",
       "  '-',\n",
       "  '-',\n",
       "  '-',\n",
       "  '-',\n",
       "  '-',\n",
       "  '-',\n",
       "  '-',\n",
       "  '-',\n",
       "  '-',\n",
       "  '-',\n",
       "  '-',\n",
       "  '-',\n",
       "  '-',\n",
       "  '-',\n",
       "  '-',\n",
       "  '-'],\n",
       " 'ends': [15200,\n",
       "  15400,\n",
       "  15600,\n",
       "  15800,\n",
       "  16000,\n",
       "  16200,\n",
       "  16400,\n",
       "  16600,\n",
       "  16800,\n",
       "  17000,\n",
       "  17200,\n",
       "  17400,\n",
       "  17600,\n",
       "  17800,\n",
       "  18000,\n",
       "  18200,\n",
       "  18400,\n",
       "  18600,\n",
       "  18800,\n",
       "  19000,\n",
       "  19200,\n",
       "  19400,\n",
       "  19600,\n",
       "  19800,\n",
       "  20000,\n",
       "  20200,\n",
       "  20400,\n",
       "  20600,\n",
       "  20800,\n",
       "  21000,\n",
       "  21200,\n",
       "  21400,\n",
       "  21600,\n",
       "  21800,\n",
       "  22000,\n",
       "  22200,\n",
       "  22400,\n",
       "  22600,\n",
       "  22800,\n",
       "  23000,\n",
       "  23200,\n",
       "  23400,\n",
       "  23600,\n",
       "  23800,\n",
       "  24000,\n",
       "  24200,\n",
       "  24400,\n",
       "  24600,\n",
       "  24800,\n",
       "  25000,\n",
       "  15200,\n",
       "  15400,\n",
       "  15600,\n",
       "  15800,\n",
       "  16000,\n",
       "  16200,\n",
       "  16400,\n",
       "  16600,\n",
       "  16800,\n",
       "  17000,\n",
       "  17200,\n",
       "  17400,\n",
       "  17600,\n",
       "  17800,\n",
       "  18000,\n",
       "  18200,\n",
       "  18400,\n",
       "  18600,\n",
       "  18800,\n",
       "  19000,\n",
       "  19200,\n",
       "  19400,\n",
       "  19600,\n",
       "  19800,\n",
       "  20000,\n",
       "  20200,\n",
       "  20400,\n",
       "  20600,\n",
       "  20800,\n",
       "  21000,\n",
       "  21200,\n",
       "  21400,\n",
       "  21600,\n",
       "  21800,\n",
       "  22000,\n",
       "  22200,\n",
       "  22400,\n",
       "  22600,\n",
       "  22800,\n",
       "  23000,\n",
       "  23200,\n",
       "  23400,\n",
       "  23600,\n",
       "  23800,\n",
       "  24000,\n",
       "  24200,\n",
       "  24400,\n",
       "  24600,\n",
       "  24800,\n",
       "  25000],\n",
       " 'zero_padding': True,\n",
       " 'collapse': False,\n",
       " '_randomidx': None,\n",
       " '_random_state': None}"
      ]
     },
     "execution_count": 43,
     "metadata": {},
     "output_type": "execute_result"
    }
   ],
   "source": [
    "dna.gindexer.__dict__"
   ]
  },
  {
   "cell_type": "code",
   "execution_count": 44,
   "metadata": {},
   "outputs": [
    {
     "data": {
      "text/plain": [
       "(100, 300, 1, 4)"
      ]
     },
     "execution_count": 44,
     "metadata": {},
     "output_type": "execute_result"
    }
   ],
   "source": [
    "dna.shape"
   ]
  },
  {
   "cell_type": "code",
   "execution_count": 46,
   "metadata": {},
   "outputs": [
    {
     "data": {
      "text/plain": [
       "dict_keys(['stranded', '_condition', '_order', 'padding_value', '_resolution', 'typecode', '_full_genome_stored', 'collapser', 'region2index', 'handle'])"
      ]
     },
     "execution_count": 46,
     "metadata": {},
     "output_type": "execute_result"
    }
   ],
   "source": [
    "dna.garray.__dict__.keys()"
   ]
  },
  {
   "cell_type": "code",
   "execution_count": 61,
   "metadata": {},
   "outputs": [
    {
     "data": {
      "text/plain": [
       "array(['chr1:14950-15250', 'chr1:15150-15450', 'chr1:15350-15650',\n",
       "       'chr1:15550-15850', 'chr1:15750-16050', 'chr1:15950-16250',\n",
       "       'chr1:16150-16450', 'chr1:16350-16650', 'chr1:16550-16850',\n",
       "       'chr1:16750-17050', 'chr1:16950-17250', 'chr1:17150-17450',\n",
       "       'chr1:17350-17650', 'chr1:17550-17850', 'chr1:17750-18050',\n",
       "       'chr1:17950-18250', 'chr1:18150-18450', 'chr1:18350-18650',\n",
       "       'chr1:18550-18850', 'chr1:18750-19050', 'chr1:18950-19250',\n",
       "       'chr1:19150-19450', 'chr1:19350-19650', 'chr1:19550-19850',\n",
       "       'chr1:19750-20050', 'chr1:19950-20250', 'chr1:20150-20450',\n",
       "       'chr1:20350-20650', 'chr1:20550-20850', 'chr1:20750-21050',\n",
       "       'chr1:20950-21250', 'chr1:21150-21450', 'chr1:21350-21650',\n",
       "       'chr1:21550-21850', 'chr1:21750-22050', 'chr1:21950-22250',\n",
       "       'chr1:22150-22450', 'chr1:22350-22650', 'chr1:22550-22850',\n",
       "       'chr1:22750-23050', 'chr1:22950-23250', 'chr1:23150-23450',\n",
       "       'chr1:23350-23650', 'chr1:23550-23850', 'chr1:23750-24050',\n",
       "       'chr1:23950-24250', 'chr1:24150-24450', 'chr1:24350-24650',\n",
       "       'chr1:24550-24850', 'chr1:24750-25050', 'chr2:14950-15250',\n",
       "       'chr2:15150-15450', 'chr2:15350-15650', 'chr2:15550-15850',\n",
       "       'chr2:15750-16050', 'chr2:15950-16250', 'chr2:16150-16450',\n",
       "       'chr2:16350-16650', 'chr2:16550-16850', 'chr2:16750-17050',\n",
       "       'chr2:16950-17250', 'chr2:17150-17450', 'chr2:17350-17650',\n",
       "       'chr2:17550-17850', 'chr2:17750-18050', 'chr2:17950-18250',\n",
       "       'chr2:18150-18450', 'chr2:18350-18650', 'chr2:18550-18850',\n",
       "       'chr2:18750-19050', 'chr2:18950-19250', 'chr2:19150-19450',\n",
       "       'chr2:19350-19650', 'chr2:19550-19850', 'chr2:19750-20050',\n",
       "       'chr2:19950-20250', 'chr2:20150-20450', 'chr2:20350-20650',\n",
       "       'chr2:20550-20850', 'chr2:20750-21050', 'chr2:20950-21250',\n",
       "       'chr2:21150-21450', 'chr2:21350-21650', 'chr2:21550-21850',\n",
       "       'chr2:21750-22050', 'chr2:21950-22250', 'chr2:22150-22450',\n",
       "       'chr2:22350-22650', 'chr2:22550-22850', 'chr2:22750-23050',\n",
       "       'chr2:22950-23250', 'chr2:23150-23450', 'chr2:23350-23650',\n",
       "       'chr2:23550-23850', 'chr2:23750-24050', 'chr2:23950-24250',\n",
       "       'chr2:24150-24450', 'chr2:24350-24650', 'chr2:24550-24850',\n",
       "       'chr2:24750-25050'], dtype='<U16')"
      ]
     },
     "execution_count": 61,
     "metadata": {},
     "output_type": "execute_result"
    }
   ],
   "source": []
  },
  {
   "cell_type": "code",
   "execution_count": 51,
   "metadata": {},
   "outputs": [
    {
     "data": {
      "text/plain": [
       "(100, 300, 1, 1)"
      ]
     },
     "execution_count": 51,
     "metadata": {},
     "output_type": "execute_result"
    }
   ],
   "source": [
    "dna.garray.handle[\"data\"].shape"
   ]
  },
  {
   "cell_type": "code",
   "execution_count": 58,
   "metadata": {},
   "outputs": [
    {
     "data": {
      "text/plain": [
       "array([0., 0., 0., 1., 1., 0., 0., 0., 0., 0., 0., 0., 0., 0., 0., 0., 0.,\n",
       "       0., 0., 0., 0., 0., 0., 0., 0., 0., 0., 0., 0., 0., 0., 0., 0., 0.,\n",
       "       0., 0., 0., 0., 0., 0., 0., 0., 0., 0., 0., 0., 0., 0., 0., 0., 0.,\n",
       "       0., 0., 1., 1., 0., 0., 0., 0., 0., 0., 0., 0., 0., 0., 0., 0., 0.,\n",
       "       0., 0., 0., 0., 0., 0., 0., 0., 0., 0., 0., 0., 0., 0., 0., 0., 0.,\n",
       "       0., 0., 0., 0., 0., 0., 0., 0., 0., 0., 0., 0., 0., 0., 0.])"
      ]
     },
     "execution_count": 58,
     "metadata": {},
     "output_type": "execute_result"
    }
   ],
   "source": [
    "cov[:].squeeze()"
   ]
  },
  {
   "cell_type": "code",
   "execution_count": 57,
   "metadata": {},
   "outputs": [
    {
     "data": {
      "text/plain": [
       "array([0., 0., 0., 1., 1., 0., 0., 0., 0., 0., 0., 0., 0., 0., 0., 0., 0.,\n",
       "       0., 0., 0., 0., 0., 0., 0., 0., 0., 0., 0., 0., 0., 0., 0., 0., 0.,\n",
       "       0., 0., 0., 0., 0., 0., 0., 0., 0., 0., 0., 0., 0., 0., 0., 0., 0.,\n",
       "       0., 0., 1., 1., 0., 0., 0., 0., 0., 0., 0., 0., 0., 0., 0., 0., 0.,\n",
       "       0., 0., 0., 0., 0., 0., 0., 0., 0., 0., 0., 0., 0., 0., 0., 0., 0.,\n",
       "       0., 0., 0., 0., 0., 0., 0., 0., 0., 0., 0., 0., 0., 0., 0.],\n",
       "      dtype=float32)"
      ]
     },
     "execution_count": 57,
     "metadata": {},
     "output_type": "execute_result"
    }
   ],
   "source": [
    "cov.garray.handle[\"data\"].squeeze()"
   ]
  },
  {
   "cell_type": "code",
   "execution_count": 56,
   "metadata": {},
   "outputs": [
    {
     "data": {
      "text/plain": [
       "{'_binsize': 200,\n",
       " '_stepsize': 200,\n",
       " '_flank': 0,\n",
       " 'chrs': ['chr1',\n",
       "  'chr1',\n",
       "  'chr1',\n",
       "  'chr1',\n",
       "  'chr1',\n",
       "  'chr1',\n",
       "  'chr1',\n",
       "  'chr1',\n",
       "  'chr1',\n",
       "  'chr1',\n",
       "  'chr1',\n",
       "  'chr1',\n",
       "  'chr1',\n",
       "  'chr1',\n",
       "  'chr1',\n",
       "  'chr1',\n",
       "  'chr1',\n",
       "  'chr1',\n",
       "  'chr1',\n",
       "  'chr1',\n",
       "  'chr1',\n",
       "  'chr1',\n",
       "  'chr1',\n",
       "  'chr1',\n",
       "  'chr1',\n",
       "  'chr1',\n",
       "  'chr1',\n",
       "  'chr1',\n",
       "  'chr1',\n",
       "  'chr1',\n",
       "  'chr1',\n",
       "  'chr1',\n",
       "  'chr1',\n",
       "  'chr1',\n",
       "  'chr1',\n",
       "  'chr1',\n",
       "  'chr1',\n",
       "  'chr1',\n",
       "  'chr1',\n",
       "  'chr1',\n",
       "  'chr1',\n",
       "  'chr1',\n",
       "  'chr1',\n",
       "  'chr1',\n",
       "  'chr1',\n",
       "  'chr1',\n",
       "  'chr1',\n",
       "  'chr1',\n",
       "  'chr1',\n",
       "  'chr1',\n",
       "  'chr2',\n",
       "  'chr2',\n",
       "  'chr2',\n",
       "  'chr2',\n",
       "  'chr2',\n",
       "  'chr2',\n",
       "  'chr2',\n",
       "  'chr2',\n",
       "  'chr2',\n",
       "  'chr2',\n",
       "  'chr2',\n",
       "  'chr2',\n",
       "  'chr2',\n",
       "  'chr2',\n",
       "  'chr2',\n",
       "  'chr2',\n",
       "  'chr2',\n",
       "  'chr2',\n",
       "  'chr2',\n",
       "  'chr2',\n",
       "  'chr2',\n",
       "  'chr2',\n",
       "  'chr2',\n",
       "  'chr2',\n",
       "  'chr2',\n",
       "  'chr2',\n",
       "  'chr2',\n",
       "  'chr2',\n",
       "  'chr2',\n",
       "  'chr2',\n",
       "  'chr2',\n",
       "  'chr2',\n",
       "  'chr2',\n",
       "  'chr2',\n",
       "  'chr2',\n",
       "  'chr2',\n",
       "  'chr2',\n",
       "  'chr2',\n",
       "  'chr2',\n",
       "  'chr2',\n",
       "  'chr2',\n",
       "  'chr2',\n",
       "  'chr2',\n",
       "  'chr2',\n",
       "  'chr2',\n",
       "  'chr2',\n",
       "  'chr2',\n",
       "  'chr2',\n",
       "  'chr2',\n",
       "  'chr2'],\n",
       " 'starts': [15000,\n",
       "  15200,\n",
       "  15400,\n",
       "  15600,\n",
       "  15800,\n",
       "  16000,\n",
       "  16200,\n",
       "  16400,\n",
       "  16600,\n",
       "  16800,\n",
       "  17000,\n",
       "  17200,\n",
       "  17400,\n",
       "  17600,\n",
       "  17800,\n",
       "  18000,\n",
       "  18200,\n",
       "  18400,\n",
       "  18600,\n",
       "  18800,\n",
       "  19000,\n",
       "  19200,\n",
       "  19400,\n",
       "  19600,\n",
       "  19800,\n",
       "  20000,\n",
       "  20200,\n",
       "  20400,\n",
       "  20600,\n",
       "  20800,\n",
       "  21000,\n",
       "  21200,\n",
       "  21400,\n",
       "  21600,\n",
       "  21800,\n",
       "  22000,\n",
       "  22200,\n",
       "  22400,\n",
       "  22600,\n",
       "  22800,\n",
       "  23000,\n",
       "  23200,\n",
       "  23400,\n",
       "  23600,\n",
       "  23800,\n",
       "  24000,\n",
       "  24200,\n",
       "  24400,\n",
       "  24600,\n",
       "  24800,\n",
       "  15000,\n",
       "  15200,\n",
       "  15400,\n",
       "  15600,\n",
       "  15800,\n",
       "  16000,\n",
       "  16200,\n",
       "  16400,\n",
       "  16600,\n",
       "  16800,\n",
       "  17000,\n",
       "  17200,\n",
       "  17400,\n",
       "  17600,\n",
       "  17800,\n",
       "  18000,\n",
       "  18200,\n",
       "  18400,\n",
       "  18600,\n",
       "  18800,\n",
       "  19000,\n",
       "  19200,\n",
       "  19400,\n",
       "  19600,\n",
       "  19800,\n",
       "  20000,\n",
       "  20200,\n",
       "  20400,\n",
       "  20600,\n",
       "  20800,\n",
       "  21000,\n",
       "  21200,\n",
       "  21400,\n",
       "  21600,\n",
       "  21800,\n",
       "  22000,\n",
       "  22200,\n",
       "  22400,\n",
       "  22600,\n",
       "  22800,\n",
       "  23000,\n",
       "  23200,\n",
       "  23400,\n",
       "  23600,\n",
       "  23800,\n",
       "  24000,\n",
       "  24200,\n",
       "  24400,\n",
       "  24600,\n",
       "  24800],\n",
       " 'strand': ['+',\n",
       "  '+',\n",
       "  '+',\n",
       "  '+',\n",
       "  '+',\n",
       "  '+',\n",
       "  '+',\n",
       "  '+',\n",
       "  '+',\n",
       "  '+',\n",
       "  '+',\n",
       "  '+',\n",
       "  '+',\n",
       "  '+',\n",
       "  '+',\n",
       "  '+',\n",
       "  '+',\n",
       "  '+',\n",
       "  '+',\n",
       "  '+',\n",
       "  '+',\n",
       "  '+',\n",
       "  '+',\n",
       "  '+',\n",
       "  '+',\n",
       "  '+',\n",
       "  '+',\n",
       "  '+',\n",
       "  '+',\n",
       "  '+',\n",
       "  '+',\n",
       "  '+',\n",
       "  '+',\n",
       "  '+',\n",
       "  '+',\n",
       "  '+',\n",
       "  '+',\n",
       "  '+',\n",
       "  '+',\n",
       "  '+',\n",
       "  '+',\n",
       "  '+',\n",
       "  '+',\n",
       "  '+',\n",
       "  '+',\n",
       "  '+',\n",
       "  '+',\n",
       "  '+',\n",
       "  '+',\n",
       "  '+',\n",
       "  '-',\n",
       "  '-',\n",
       "  '-',\n",
       "  '-',\n",
       "  '-',\n",
       "  '-',\n",
       "  '-',\n",
       "  '-',\n",
       "  '-',\n",
       "  '-',\n",
       "  '-',\n",
       "  '-',\n",
       "  '-',\n",
       "  '-',\n",
       "  '-',\n",
       "  '-',\n",
       "  '-',\n",
       "  '-',\n",
       "  '-',\n",
       "  '-',\n",
       "  '-',\n",
       "  '-',\n",
       "  '-',\n",
       "  '-',\n",
       "  '-',\n",
       "  '-',\n",
       "  '-',\n",
       "  '-',\n",
       "  '-',\n",
       "  '-',\n",
       "  '-',\n",
       "  '-',\n",
       "  '-',\n",
       "  '-',\n",
       "  '-',\n",
       "  '-',\n",
       "  '-',\n",
       "  '-',\n",
       "  '-',\n",
       "  '-',\n",
       "  '-',\n",
       "  '-',\n",
       "  '-',\n",
       "  '-',\n",
       "  '-',\n",
       "  '-',\n",
       "  '-',\n",
       "  '-',\n",
       "  '-',\n",
       "  '-'],\n",
       " 'ends': [15200,\n",
       "  15400,\n",
       "  15600,\n",
       "  15800,\n",
       "  16000,\n",
       "  16200,\n",
       "  16400,\n",
       "  16600,\n",
       "  16800,\n",
       "  17000,\n",
       "  17200,\n",
       "  17400,\n",
       "  17600,\n",
       "  17800,\n",
       "  18000,\n",
       "  18200,\n",
       "  18400,\n",
       "  18600,\n",
       "  18800,\n",
       "  19000,\n",
       "  19200,\n",
       "  19400,\n",
       "  19600,\n",
       "  19800,\n",
       "  20000,\n",
       "  20200,\n",
       "  20400,\n",
       "  20600,\n",
       "  20800,\n",
       "  21000,\n",
       "  21200,\n",
       "  21400,\n",
       "  21600,\n",
       "  21800,\n",
       "  22000,\n",
       "  22200,\n",
       "  22400,\n",
       "  22600,\n",
       "  22800,\n",
       "  23000,\n",
       "  23200,\n",
       "  23400,\n",
       "  23600,\n",
       "  23800,\n",
       "  24000,\n",
       "  24200,\n",
       "  24400,\n",
       "  24600,\n",
       "  24800,\n",
       "  25000,\n",
       "  15200,\n",
       "  15400,\n",
       "  15600,\n",
       "  15800,\n",
       "  16000,\n",
       "  16200,\n",
       "  16400,\n",
       "  16600,\n",
       "  16800,\n",
       "  17000,\n",
       "  17200,\n",
       "  17400,\n",
       "  17600,\n",
       "  17800,\n",
       "  18000,\n",
       "  18200,\n",
       "  18400,\n",
       "  18600,\n",
       "  18800,\n",
       "  19000,\n",
       "  19200,\n",
       "  19400,\n",
       "  19600,\n",
       "  19800,\n",
       "  20000,\n",
       "  20200,\n",
       "  20400,\n",
       "  20600,\n",
       "  20800,\n",
       "  21000,\n",
       "  21200,\n",
       "  21400,\n",
       "  21600,\n",
       "  21800,\n",
       "  22000,\n",
       "  22200,\n",
       "  22400,\n",
       "  22600,\n",
       "  22800,\n",
       "  23000,\n",
       "  23200,\n",
       "  23400,\n",
       "  23600,\n",
       "  23800,\n",
       "  24000,\n",
       "  24200,\n",
       "  24400,\n",
       "  24600,\n",
       "  24800,\n",
       "  25000],\n",
       " 'zero_padding': True,\n",
       " 'collapse': False,\n",
       " '_randomidx': None,\n",
       " '_random_state': None}"
      ]
     },
     "execution_count": 56,
     "metadata": {},
     "output_type": "execute_result"
    }
   ],
   "source": [
    "cov.gindexer.__dict__"
   ]
  },
  {
   "cell_type": "code",
   "execution_count": 9,
   "metadata": {},
   "outputs": [
    {
     "data": {
      "text/plain": [
       "SeqData object with = 100 seqs\n",
       "seqs = (100,)\n",
       "names = None\n",
       "rev_seqs = None\n",
       "ohe_seqs = None\n",
       "ohe_rev_seqs = None\n",
       "seqs_annot: 'target'\n",
       "pos_annot: None\n",
       "seqsm: None\n",
       "uns: None"
      ]
     },
     "execution_count": 9,
     "metadata": {},
     "output_type": "execute_result"
    }
   ],
   "source": [
    "sdata"
   ]
  },
  {
   "cell_type": "markdown",
   "metadata": {},
   "source": [
    "## JunD Data"
   ]
  },
  {
   "cell_type": "code",
   "execution_count": 2,
   "metadata": {},
   "outputs": [],
   "source": [
    "input_dir = '/cellar/users/aklie/data/eugene/junD'"
   ]
  },
  {
   "cell_type": "code",
   "execution_count": 3,
   "metadata": {},
   "outputs": [
    {
     "data": {
      "text/plain": [
       "('/cellar/users/aklie/data/eugene/junD/jund_raw_peaks.bed',\n",
       " '/cellar/users/aklie/data/eugene/junD/trim_roi_jund_extended.bed',\n",
       " '/cellar/users/aklie/data/eugene/junD/hg38.fa')"
      ]
     },
     "execution_count": 3,
     "metadata": {},
     "output_type": "execute_result"
    }
   ],
   "source": [
    "bed_file = os.path.join(\n",
    "    input_dir,\n",
    "    \"jund_raw_peaks.bed\" \n",
    ")\n",
    "roi_file = os.path.join(\n",
    "    input_dir,\n",
    "    \"trim_roi_jund_extended.bed\"\n",
    ")\n",
    "refgenome = os.path.join(\n",
    "    input_dir,\n",
    "    \"hg38.fa\"\n",
    ")\n",
    "bed_file, roi_file, refgenome"
   ]
  },
  {
   "cell_type": "code",
   "execution_count": null,
   "metadata": {},
   "outputs": [
    {
     "ename": "KeyboardInterrupt",
     "evalue": "",
     "output_type": "error",
     "traceback": [
      "\u001b[0;31m---------------------------------------------------------------------------\u001b[0m",
      "\u001b[0;31mKeyboardInterrupt\u001b[0m                         Traceback (most recent call last)",
      "\u001b[0;32m/tmp/ipykernel_3296544/4038153762.py\u001b[0m in \u001b[0;36m<module>\u001b[0;34m\u001b[0m\n\u001b[1;32m      5\u001b[0m     \u001b[0mbinsize\u001b[0m\u001b[0;34m=\u001b[0m\u001b[0;36m200\u001b[0m\u001b[0;34m,\u001b[0m\u001b[0;34m\u001b[0m\u001b[0;34m\u001b[0m\u001b[0m\n\u001b[1;32m      6\u001b[0m     \u001b[0mresolution\u001b[0m\u001b[0;34m=\u001b[0m\u001b[0;36m200\u001b[0m\u001b[0;34m,\u001b[0m\u001b[0;34m\u001b[0m\u001b[0;34m\u001b[0m\u001b[0m\n\u001b[0;32m----> 7\u001b[0;31m     \u001b[0mdnaflank\u001b[0m\u001b[0;34m=\u001b[0m\u001b[0;36m150\u001b[0m\u001b[0;34m\u001b[0m\u001b[0;34m\u001b[0m\u001b[0m\n\u001b[0m\u001b[1;32m      8\u001b[0m )\n",
      "\u001b[0;32m/tmp/ipykernel_3296544/949150096.py\u001b[0m in \u001b[0;36mread_bed\u001b[0;34m(bed_file, roi_file, ref_file, **kwargs)\u001b[0m\n\u001b[1;32m     29\u001b[0m         \u001b[0mroi\u001b[0m\u001b[0;34m=\u001b[0m\u001b[0mroi_file\u001b[0m\u001b[0;34m,\u001b[0m\u001b[0;34m\u001b[0m\u001b[0;34m\u001b[0m\u001b[0m\n\u001b[1;32m     30\u001b[0m         \u001b[0mbinsize\u001b[0m\u001b[0;34m=\u001b[0m\u001b[0;36m200\u001b[0m\u001b[0;34m,\u001b[0m\u001b[0;34m\u001b[0m\u001b[0;34m\u001b[0m\u001b[0m\n\u001b[0;32m---> 31\u001b[0;31m         \u001b[0mstepsize\u001b[0m\u001b[0;34m=\u001b[0m\u001b[0;36m200\u001b[0m\u001b[0;34m\u001b[0m\u001b[0;34m\u001b[0m\u001b[0m\n\u001b[0m\u001b[1;32m     32\u001b[0m     )\n\u001b[1;32m     33\u001b[0m     \u001b[0mohe_seqs\u001b[0m \u001b[0;34m=\u001b[0m \u001b[0mdna\u001b[0m\u001b[0;34m[\u001b[0m\u001b[0;34m:\u001b[0m\u001b[0;34m]\u001b[0m\u001b[0;34m[\u001b[0m\u001b[0;34m:\u001b[0m\u001b[0;34m,\u001b[0m \u001b[0;34m:\u001b[0m\u001b[0;34m,\u001b[0m \u001b[0;36m0\u001b[0m\u001b[0;34m,\u001b[0m \u001b[0;34m:\u001b[0m\u001b[0;34m]\u001b[0m\u001b[0;34m\u001b[0m\u001b[0;34m\u001b[0m\u001b[0m\n",
      "\u001b[0;32m/mnt/beegfs/users/aklie/projects/EUGENe/eugene/external/janggu/data/dna.py\u001b[0m in \u001b[0;36mcreate_from_refgenome\u001b[0;34m(cls, name, refgenome, roi, binsize, stepsize, flank, order, storage, datatags, cache, overwrite, random_state, store_whole_genome, verbose)\u001b[0m\n\u001b[1;32m    358\u001b[0m                                          \u001b[0mstore_whole_genome\u001b[0m\u001b[0;34m=\u001b[0m\u001b[0mstore_whole_genome\u001b[0m\u001b[0;34m,\u001b[0m\u001b[0;34m\u001b[0m\u001b[0;34m\u001b[0m\u001b[0m\n\u001b[1;32m    359\u001b[0m                                          \u001b[0mrandom_state\u001b[0m\u001b[0;34m=\u001b[0m\u001b[0mrandom_state\u001b[0m\u001b[0;34m,\u001b[0m\u001b[0;34m\u001b[0m\u001b[0;34m\u001b[0m\u001b[0m\n\u001b[0;32m--> 360\u001b[0;31m                                          verbose=verbose)\n\u001b[0m\u001b[1;32m    361\u001b[0m \u001b[0;34m\u001b[0m\u001b[0m\n\u001b[1;32m    362\u001b[0m         return cls(name, garray, gindexer,\n",
      "\u001b[0;32m/mnt/beegfs/users/aklie/projects/EUGENe/eugene/external/janggu/data/dna.py\u001b[0m in \u001b[0;36m_make_genomic_array\u001b[0;34m(name, gsize, seqs, order, storage, cache, datatags, overwrite, store_whole_genome, random_state, verbose)\u001b[0m\n\u001b[1;32m    252\u001b[0m                                       \u001b[0mtypecode\u001b[0m\u001b[0;34m=\u001b[0m\u001b[0mdtype\u001b[0m\u001b[0;34m,\u001b[0m\u001b[0;34m\u001b[0m\u001b[0;34m\u001b[0m\u001b[0m\n\u001b[1;32m    253\u001b[0m                                       \u001b[0mloader\u001b[0m\u001b[0;34m=\u001b[0m\u001b[0mseqloader\u001b[0m\u001b[0;34m,\u001b[0m\u001b[0;34m\u001b[0m\u001b[0;34m\u001b[0m\u001b[0m\n\u001b[0;32m--> 254\u001b[0;31m                                       verbose=verbose)\n\u001b[0m\u001b[1;32m    255\u001b[0m \u001b[0;34m\u001b[0m\u001b[0m\n\u001b[1;32m    256\u001b[0m         \u001b[0;32mreturn\u001b[0m \u001b[0mgarray\u001b[0m\u001b[0;34m\u001b[0m\u001b[0;34m\u001b[0m\u001b[0m\n",
      "\u001b[0;32m/mnt/beegfs/users/aklie/projects/EUGENe/eugene/external/janggu/data/genomicarray.py\u001b[0m in \u001b[0;36mcreate_genomic_array\u001b[0;34m(chroms, stranded, conditions, typecode, storage, resolution, order, padding_value, store_whole_genome, datatags, cache, overwrite, loader, normalizer, collapser, verbose)\u001b[0m\n\u001b[1;32m   1189\u001b[0m                               \u001b[0mnormalizer\u001b[0m\u001b[0;34m=\u001b[0m\u001b[0mnormalizer\u001b[0m\u001b[0;34m,\u001b[0m\u001b[0;34m\u001b[0m\u001b[0;34m\u001b[0m\u001b[0m\n\u001b[1;32m   1190\u001b[0m                               \u001b[0mcollapser\u001b[0m\u001b[0;34m=\u001b[0m\u001b[0mget_collapser\u001b[0m\u001b[0;34m(\u001b[0m\u001b[0mcollapser\u001b[0m\u001b[0;34m)\u001b[0m\u001b[0;34m,\u001b[0m\u001b[0;34m\u001b[0m\u001b[0;34m\u001b[0m\u001b[0m\n\u001b[0;32m-> 1191\u001b[0;31m                               verbose=verbose)\n\u001b[0m\u001b[1;32m   1192\u001b[0m     \u001b[0;32melif\u001b[0m \u001b[0mstorage\u001b[0m \u001b[0;34m==\u001b[0m \u001b[0;34m'sparse'\u001b[0m\u001b[0;34m:\u001b[0m\u001b[0;34m\u001b[0m\u001b[0;34m\u001b[0m\u001b[0m\n\u001b[1;32m   1193\u001b[0m         return SparseGenomicArray(chroms, stranded=stranded,\n",
      "\u001b[0;32m/mnt/beegfs/users/aklie/projects/EUGENe/eugene/external/janggu/data/genomicarray.py\u001b[0m in \u001b[0;36m__init__\u001b[0;34m(self, gsize, stranded, conditions, typecode, datatags, resolution, order, padding_value, store_whole_genome, cache, overwrite, loader, normalizer, collapser, verbose)\u001b[0m\n\u001b[1;32m    631\u001b[0m                                             \u001b[0mregion\u001b[0m\u001b[0;34m.\u001b[0m\u001b[0mstart\u001b[0m\u001b[0;34m,\u001b[0m\u001b[0;34m\u001b[0m\u001b[0;34m\u001b[0m\u001b[0m\n\u001b[1;32m    632\u001b[0m                                             region.end): i \\\n\u001b[0;32m--> 633\u001b[0;31m                                                 for i, region in enumerate(gsize_)}\n\u001b[0m\u001b[1;32m    634\u001b[0m \u001b[0;34m\u001b[0m\u001b[0m\n\u001b[1;32m    635\u001b[0m         \u001b[0mcachefile\u001b[0m \u001b[0;34m=\u001b[0m \u001b[0m_get_cachefile\u001b[0m\u001b[0;34m(\u001b[0m\u001b[0mcache\u001b[0m\u001b[0;34m,\u001b[0m \u001b[0mdatatags\u001b[0m\u001b[0;34m,\u001b[0m \u001b[0;34m'.npz'\u001b[0m\u001b[0;34m)\u001b[0m\u001b[0;34m\u001b[0m\u001b[0;34m\u001b[0m\u001b[0m\n",
      "\u001b[0;32m/mnt/beegfs/users/aklie/projects/EUGENe/eugene/external/janggu/data/genomicarray.py\u001b[0m in \u001b[0;36m<dictcomp>\u001b[0;34m(.0)\u001b[0m\n\u001b[1;32m    628\u001b[0m             \u001b[0mgsize_\u001b[0m \u001b[0;34m=\u001b[0m \u001b[0mgsize\u001b[0m\u001b[0;34m(\u001b[0m\u001b[0;34m)\u001b[0m \u001b[0;32mif\u001b[0m \u001b[0mcallable\u001b[0m\u001b[0;34m(\u001b[0m\u001b[0mgsize\u001b[0m\u001b[0;34m)\u001b[0m \u001b[0;32melse\u001b[0m \u001b[0mgsize\u001b[0m\u001b[0;34m\u001b[0m\u001b[0;34m\u001b[0m\u001b[0m\n\u001b[1;32m    629\u001b[0m \u001b[0;34m\u001b[0m\u001b[0m\n\u001b[0;32m--> 630\u001b[0;31m             self.region2index = {_iv_to_str(region.chrom,\n\u001b[0m\u001b[1;32m    631\u001b[0m                                             \u001b[0mregion\u001b[0m\u001b[0;34m.\u001b[0m\u001b[0mstart\u001b[0m\u001b[0;34m,\u001b[0m\u001b[0;34m\u001b[0m\u001b[0;34m\u001b[0m\u001b[0m\n\u001b[1;32m    632\u001b[0m                                             region.end): i \\\n",
      "\u001b[0;32m/mnt/beegfs/users/aklie/projects/EUGENe/eugene/external/janggu/data/genomic_indexer.py\u001b[0m in \u001b[0;36m__getitem__\u001b[0;34m(self, index_)\u001b[0m\n\u001b[1;32m    283\u001b[0m             return Interval(self.chrs[index], max(0, start - self.flank),\n\u001b[1;32m    284\u001b[0m                             \u001b[0mend\u001b[0m \u001b[0;34m+\u001b[0m \u001b[0mself\u001b[0m\u001b[0;34m.\u001b[0m\u001b[0mflank\u001b[0m\u001b[0;34m,\u001b[0m\u001b[0;34m\u001b[0m\u001b[0;34m\u001b[0m\u001b[0m\n\u001b[0;32m--> 285\u001b[0;31m                             strand=self.strand[index])\n\u001b[0m\u001b[1;32m    286\u001b[0m \u001b[0;34m\u001b[0m\u001b[0m\n\u001b[1;32m    287\u001b[0m         \u001b[0;32mraise\u001b[0m \u001b[0mIndexError\u001b[0m\u001b[0;34m(\u001b[0m\u001b[0;34m'Cannot interpret index: {}'\u001b[0m\u001b[0;34m.\u001b[0m\u001b[0mformat\u001b[0m\u001b[0;34m(\u001b[0m\u001b[0mtype\u001b[0m\u001b[0;34m(\u001b[0m\u001b[0mindex_\u001b[0m\u001b[0;34m)\u001b[0m\u001b[0;34m)\u001b[0m\u001b[0;34m)\u001b[0m\u001b[0;34m\u001b[0m\u001b[0;34m\u001b[0m\u001b[0m\n",
      "\u001b[0;32m~/opt/miniconda3/envs/eugene_dev/lib/python3.7/site-packages/pybedtools/cbedtools.pyx\u001b[0m in \u001b[0;36mpybedtools.cbedtools.Interval.__init__\u001b[0;34m()\u001b[0m\n",
      "\u001b[0;31mKeyboardInterrupt\u001b[0m: "
     ]
    },
    {
     "ename": "",
     "evalue": "",
     "output_type": "error",
     "traceback": [
      "\u001b[1;31mnotebook controller is DISPOSED. \n",
      "View Jupyter <a href='command:jupyter.viewOutput'>log</a> for further details."
     ]
    }
   ],
   "source": [
    "sdata = read_bed(\n",
    "    bed_file=bed_file,\n",
    "    roi_file=roi_file,\n",
    "    ref_file=refgenome,\n",
    "    dnaflank=150\n",
    "    binsize=200,\n",
    "    resolution=200\n",
    ")"
   ]
  },
  {
   "cell_type": "code",
   "execution_count": 8,
   "metadata": {},
   "outputs": [],
   "source": [
    "LABELS = eu.external.janggu.data.Cover.create_from_bed(\n",
    "    'jund_peaks',\n",
    "    bedfiles=bed_file,\n",
    "    roi=roi_file,\n",
    "    binsize=200,\n",
    "    conditions=['JunD'],\n",
    "    resolution=200,\n",
    ")"
   ]
  },
  {
   "cell_type": "code",
   "execution_count": 9,
   "metadata": {},
   "outputs": [
    {
     "data": {
      "text/plain": [
       "(1013080, 1, 1, 1)"
      ]
     },
     "execution_count": 9,
     "metadata": {},
     "output_type": "execute_result"
    }
   ],
   "source": [
    "LABELS.shape"
   ]
  },
  {
   "cell_type": "code",
   "execution_count": 12,
   "metadata": {},
   "outputs": [
    {
     "data": {
      "text/plain": [
       "(array([0., 1.]), array([985230,  27850]))"
      ]
     },
     "execution_count": 12,
     "metadata": {},
     "output_type": "execute_result"
    }
   ],
   "source": [
    "np.unique(LABELS[:].squeeze(), return_counts=True)"
   ]
  },
  {
   "cell_type": "code",
   "execution_count": 13,
   "metadata": {},
   "outputs": [],
   "source": [
    "DNA = eu.external.janggu.data.Bioseq.create_from_refgenome(\n",
    "    'dna', \n",
    "    refgenome=refgenome,\n",
    "    roi=roi_file,\n",
    "    binsize=200,\n",
    "    flank=150\n",
    ")"
   ]
  },
  {
   "cell_type": "code",
   "execution_count": 14,
   "metadata": {},
   "outputs": [
    {
     "data": {
      "text/plain": [
       "(1013080, 500, 1, 4)"
      ]
     },
     "execution_count": 14,
     "metadata": {},
     "output_type": "execute_result"
    }
   ],
   "source": [
    "DNA.shape"
   ]
  },
  {
   "cell_type": "code",
   "execution_count": 15,
   "metadata": {},
   "outputs": [
    {
     "data": {
      "text/plain": [
       "(1013080, 500, 4)"
      ]
     },
     "execution_count": 15,
     "metadata": {},
     "output_type": "execute_result"
    }
   ],
   "source": [
    "DNA[:][:, :, 0, :].shape"
   ]
  },
  {
   "cell_type": "markdown",
   "metadata": {},
   "source": []
  }
 ],
 "metadata": {
  "kernelspec": {
   "display_name": "Python 3.7 eugene_dev",
   "language": "python",
   "name": "eugene_dev"
  },
  "language_info": {
   "codemirror_mode": {
    "name": "ipython",
    "version": 3
   },
   "file_extension": ".py",
   "mimetype": "text/x-python",
   "name": "python",
   "nbconvert_exporter": "python",
   "pygments_lexer": "ipython3",
   "version": "3.7.12"
  },
  "orig_nbformat": 4
 },
 "nbformat": 4,
 "nbformat_minor": 2
}

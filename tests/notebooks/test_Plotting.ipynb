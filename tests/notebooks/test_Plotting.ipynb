{
 "cells": [
  {
   "cell_type": "markdown",
   "id": "47cc2c48",
   "metadata": {},
   "source": [
    "# Testing `plotting` module"
   ]
  },
  {
   "cell_type": "markdown",
   "id": "3b1880c3",
   "metadata": {
    "tags": []
   },
   "source": [
    "**Authorship:**\n",
    "Adam Klie, *07/12/2022*\n",
    "***\n",
    "**Description:**"
   ]
  },
  {
   "cell_type": "code",
   "execution_count": 2,
   "id": "1dd9ef33",
   "metadata": {
    "execution": {
     "iopub.execute_input": "2022-05-06T18:26:27.475241Z",
     "iopub.status.busy": "2022-05-06T18:26:27.475074Z",
     "iopub.status.idle": "2022-05-06T18:26:29.650302Z",
     "shell.execute_reply": "2022-05-06T18:26:29.649905Z",
     "shell.execute_reply.started": "2022-05-06T18:26:27.475197Z"
    },
    "tags": []
   },
   "outputs": [],
   "source": [
    "import numpy as np\n",
    "import pandas as pd\n",
    "\n",
    "# Autoreload extension\n",
    "if 'autoreload' not in get_ipython().extension_manager.loaded:\n",
    "    %load_ext autoreload\n",
    "%autoreload 2"
   ]
  },
  {
   "cell_type": "code",
   "execution_count": 3,
   "id": "bf8a26fe-0272-4533-b8cc-7a3c8e532ff0",
   "metadata": {
    "execution": {
     "iopub.execute_input": "2022-05-06T18:26:29.651097Z",
     "iopub.status.busy": "2022-05-06T18:26:29.650981Z",
     "iopub.status.idle": "2022-05-06T18:26:41.171910Z",
     "shell.execute_reply": "2022-05-06T18:26:41.171392Z",
     "shell.execute_reply.started": "2022-05-06T18:26:29.651081Z"
    },
    "tags": []
   },
   "outputs": [
    {
     "name": "stderr",
     "output_type": "stream",
     "text": [
      "Global seed set to 13\n",
      "Global seed set to 13\n",
      "Global seed set to 13\n"
     ]
    }
   ],
   "source": [
    "import eugene as eu"
   ]
  },
  {
   "cell_type": "markdown",
   "id": "8708d86e-0cc1-4c5d-b929-f8f2849a2373",
   "metadata": {
    "tags": []
   },
   "source": [
    "# Load data"
   ]
  },
  {
   "cell_type": "code",
   "execution_count": 5,
   "id": "a6d4870e",
   "metadata": {},
   "outputs": [],
   "source": [
    "# Loads a random dataset of 1000 sequences of length 66\n",
    "sdata = eu.datasets.random1000(binary=True)"
   ]
  },
  {
   "cell_type": "markdown",
   "id": "bdd86f92",
   "metadata": {},
   "source": [
    "# Preprocess data"
   ]
  },
  {
   "cell_type": "code",
   "execution_count": 6,
   "id": "aba816e2",
   "metadata": {},
   "outputs": [
    {
     "data": {
      "application/vnd.jupyter.widget-view+json": {
       "model_id": "c44e9c45724b4f8d9f89d64e33ddbcd1",
       "version_major": 2,
       "version_minor": 0
      },
      "text/plain": [
       "  0%|          | 0/3 [00:00<?, ?it/s]"
      ]
     },
     "metadata": {},
     "output_type": "display_data"
    },
    {
     "name": "stdout",
     "output_type": "stream",
     "text": [
      "SeqData object modified:\n",
      "\trev_seqs: None -> 1000 rev_seqs added\n",
      "\tohe_seqs: None -> 1000 ohe_seqs added\n",
      "    seqs_annot:\n",
      "        + TRAIN\n"
     ]
    },
    {
     "data": {
      "text/plain": [
       "SeqData object with = 1000 seqs\n",
       "seqs = (1000,)\n",
       "names = (1000,)\n",
       "rev_seqs = (1000,)\n",
       "ohe_seqs = (1000, 66, 4)\n",
       "ohe_rev_seqs = None\n",
       "seqs_annot: 'TARGETS', 'TRAIN'\n",
       "pos_annot: PyRanges object with 1456 features"
      ]
     },
     "execution_count": 6,
     "metadata": {},
     "output_type": "execute_result"
    }
   ],
   "source": [
    "\n",
    "# Preprocess the data for training (prepare_data wraps these)\n",
    "eu.pp.prepare_data(sdata)\n",
    "sdata"
   ]
  },
  {
   "cell_type": "markdown",
   "id": "5aa43cca-9ceb-4c6e-be78-4e73569d1331",
   "metadata": {
    "tags": []
   },
   "source": [
    "# Instantiate model"
   ]
  },
  {
   "cell_type": "code",
   "execution_count": 7,
   "id": "02dbd2b1",
   "metadata": {},
   "outputs": [
    {
     "name": "stderr",
     "output_type": "stream",
     "text": [
      "/cellar/users/aklie/opt/miniconda3/envs/eugene/lib/python3.7/site-packages/torchmetrics/utilities/prints.py:36: UserWarning: Metric `AUROC` will save all targets and predictions in buffer. For large datasets this may lead to large memory footprint.\n",
      "  warnings.warn(*args, **kwargs)\n"
     ]
    }
   ],
   "source": [
    "# Loads the default DeepBind architecture\n",
    "eugene = eu.models.DeepBind(input_len=66, task=\"binary_classification\")\n",
    "eu.models.base.init_weights(eugene)"
   ]
  },
  {
   "cell_type": "markdown",
   "id": "2272c21f",
   "metadata": {},
   "source": [
    "# Prepare Dataloader"
   ]
  },
  {
   "cell_type": "code",
   "execution_count": 8,
   "id": "9a1f909d",
   "metadata": {},
   "outputs": [],
   "source": [
    "sdataset = sdata.to_dataset(label=\"TARGETS\", seq_transforms=[\"one_hot_encode\"], transform_kwargs={\"transpose\": True})\n",
    "sdataloader = sdataset.to_dataloader()"
   ]
  },
  {
   "cell_type": "markdown",
   "id": "b3689b57-de7f-4104-8042-ae93f1893501",
   "metadata": {
    "tags": []
   },
   "source": [
    "# Train the model"
   ]
  },
  {
   "cell_type": "code",
   "execution_count": 9,
   "id": "955efbc6",
   "metadata": {},
   "outputs": [
    {
     "name": "stderr",
     "output_type": "stream",
     "text": [
      "GPU available: False, used: False\n",
      "TPU available: False, using: 0 TPU cores\n",
      "IPU available: False, using: 0 IPUs\n",
      "\n",
      "  | Name     | Type                      | Params\n",
      "-------------------------------------------------------\n",
      "0 | max_pool | MaxPool1d                 | 0     \n",
      "1 | avg_pool | AvgPool1d                 | 0     \n",
      "2 | convnet  | BasicConv1D               | 272   \n",
      "3 | fcn      | BasicFullyConnectedModule | 146 K \n",
      "4 | accuracy | Accuracy                  | 0     \n",
      "5 | auroc    | AUROC                     | 0     \n",
      "-------------------------------------------------------\n",
      "147 K     Trainable params\n",
      "0         Non-trainable params\n",
      "147 K     Total params\n",
      "0.588     Total estimated model params size (MB)\n"
     ]
    },
    {
     "data": {
      "application/vnd.jupyter.widget-view+json": {
       "model_id": "6598281d16704d238fba9f2e7afc0e3f",
       "version_major": 2,
       "version_minor": 0
      },
      "text/plain": [
       "Validation sanity check: 0it [00:00, ?it/s]"
      ]
     },
     "metadata": {},
     "output_type": "display_data"
    },
    {
     "name": "stderr",
     "output_type": "stream",
     "text": [
      "/cellar/users/aklie/opt/miniconda3/envs/eugene/lib/python3.7/site-packages/pytorch_lightning/trainer/data_loading.py:133: UserWarning: The dataloader, val_dataloader 0, does not have many workers which may be a bottleneck. Consider increasing the value of the `num_workers` argument` (try 16 which is the number of cpus on this machine) in the `DataLoader` init to improve performance.\n",
      "  f\"The dataloader, {name}, does not have many workers which may be a bottleneck.\"\n",
      "Global seed set to 13\n",
      "/cellar/users/aklie/opt/miniconda3/envs/eugene/lib/python3.7/site-packages/pytorch_lightning/trainer/data_loading.py:133: UserWarning: The dataloader, train_dataloader, does not have many workers which may be a bottleneck. Consider increasing the value of the `num_workers` argument` (try 16 which is the number of cpus on this machine) in the `DataLoader` init to improve performance.\n",
      "  f\"The dataloader, {name}, does not have many workers which may be a bottleneck.\"\n",
      "/cellar/users/aklie/opt/miniconda3/envs/eugene/lib/python3.7/site-packages/pytorch_lightning/trainer/data_loading.py:433: UserWarning: The number of training samples (25) is smaller than the logging interval Trainer(log_every_n_steps=50). Set a lower value for log_every_n_steps if you want to see logs for the training epoch.\n",
      "  f\"The number of training samples ({self.num_training_batches}) is smaller than the logging interval\"\n"
     ]
    },
    {
     "data": {
      "application/vnd.jupyter.widget-view+json": {
       "model_id": "b2f7eaf2a1b64f869f9b6d7b37200e18",
       "version_major": 2,
       "version_minor": 0
      },
      "text/plain": [
       "Training: 0it [00:00, ?it/s]"
      ]
     },
     "metadata": {},
     "output_type": "display_data"
    },
    {
     "data": {
      "application/vnd.jupyter.widget-view+json": {
       "model_id": "8c205fb9b73840549319c16bfc3f4c19",
       "version_major": 2,
       "version_minor": 0
      },
      "text/plain": [
       "Validating: 0it [00:00, ?it/s]"
      ]
     },
     "metadata": {},
     "output_type": "display_data"
    },
    {
     "name": "stderr",
     "output_type": "stream",
     "text": [
      "GPU available: False, used: False\n",
      "TPU available: False, using: 0 TPU cores\n",
      "IPU available: False, using: 0 IPUs\n",
      "GPU available: False, used: False\n",
      "TPU available: False, using: 0 TPU cores\n",
      "IPU available: False, using: 0 IPUs\n",
      "/cellar/users/aklie/opt/miniconda3/envs/eugene/lib/python3.7/site-packages/pytorch_lightning/trainer/data_loading.py:133: UserWarning: The dataloader, predict_dataloader 0, does not have many workers which may be a bottleneck. Consider increasing the value of the `num_workers` argument` (try 16 which is the number of cpus on this machine) in the `DataLoader` init to improve performance.\n",
      "  f\"The dataloader, {name}, does not have many workers which may be a bottleneck.\"\n"
     ]
    },
    {
     "data": {
      "application/vnd.jupyter.widget-view+json": {
       "model_id": "71b04d5290ee4df6be975819ca69fb49",
       "version_major": 2,
       "version_minor": 0
      },
      "text/plain": [
       "Predicting: 0it [00:00, ?it/s]"
      ]
     },
     "metadata": {},
     "output_type": "display_data"
    },
    {
     "data": {
      "application/vnd.jupyter.widget-view+json": {
       "model_id": "21978289d95e4cf1aa897d5d105aa6d2",
       "version_major": 2,
       "version_minor": 0
      },
      "text/plain": [
       "Predicting: 0it [00:00, ?it/s]"
      ]
     },
     "metadata": {},
     "output_type": "display_data"
    },
    {
     "name": "stdout",
     "output_type": "stream",
     "text": [
      "SeqData object modified:\n",
      "    seqs_annot:\n",
      "        + PREDICTIONS\n"
     ]
    }
   ],
   "source": [
    "eu.train.fit(eugene, sdata=sdata, epochs=1, log_dir=\"../_logs\")"
   ]
  },
  {
   "cell_type": "code",
   "execution_count": 11,
   "id": "3bb226a6",
   "metadata": {},
   "outputs": [
    {
     "data": {
      "image/png": "[encoded data removed]",
      "text/plain": [
       "<Figure size 432x288 with 1 Axes>"
      ]
     },
     "metadata": {
      "needs_background": "light"
     },
     "output_type": "display_data"
    }
   ],
   "source": [
    "eu.pl.performance_scatter(sdata)"
   ]
  },
  {
   "cell_type": "code",
   "execution_count": 13,
   "id": "6480f0cd",
   "metadata": {},
   "outputs": [],
   "source": [
    "from sklearn.metrics import confusion_matrix"
   ]
  },
  {
   "cell_type": "code",
   "execution_count": 20,
   "id": "00c24864",
   "metadata": {},
   "outputs": [
    {
     "data": {
      "image/png": "[encoded data removed]",
      "text/plain": [
       "<Figure size 432x432 with 1 Axes>"
      ]
     },
     "metadata": {
      "needs_background": "light"
     },
     "output_type": "display_data"
    }
   ],
   "source": [
    "eu.pl.confusion_mtx(sdata, threshold=0.1)"
   ]
  },
  {
   "cell_type": "code",
   "execution_count": 27,
   "id": "f5152229",
   "metadata": {},
   "outputs": [
    {
     "data": {
      "image/png": "[encoded data removed]",
      "text/plain": [
       "<Figure size 432x432 with 1 Axes>"
      ]
     },
     "metadata": {
      "needs_background": "light"
     },
     "output_type": "display_data"
    }
   ],
   "source": [
    "eu.pl.auroc(sdata[sdata.seqs_annot[\"TRAIN\"] == True])"
   ]
  },
  {
   "cell_type": "code",
   "execution_count": 29,
   "id": "be7a24ee",
   "metadata": {},
   "outputs": [
    {
     "data": {
      "image/png": "[encoded data removed]",
      "text/plain": [
       "<Figure size 432x432 with 1 Axes>"
      ]
     },
     "metadata": {
      "needs_background": "light"
     },
     "output_type": "display_data"
    }
   ],
   "source": [
    "eu.pl.violin(sdata, category=\"TRAIN\")"
   ]
  },
  {
   "cell_type": "code",
   "execution_count": 31,
   "id": "26db669f",
   "metadata": {},
   "outputs": [
    {
     "data": {
      "image/png": "[encoded data removed]",
      "text/plain": [
       "<Figure size 432x432 with 1 Axes>"
      ]
     },
     "metadata": {
      "needs_background": "light"
     },
     "output_type": "display_data"
    }
   ],
   "source": [
    "eu.pl.boxplot(sdata, category=\"TRAIN\")"
   ]
  },
  {
   "cell_type": "markdown",
   "id": "15f459f0",
   "metadata": {},
   "source": [
    "# Predict with model "
   ]
  },
  {
   "cell_type": "code",
   "execution_count": 9,
   "id": "5513acd3",
   "metadata": {},
   "outputs": [
    {
     "name": "stderr",
     "output_type": "stream",
     "text": [
      "GPU available: False, used: False\n",
      "TPU available: False, using: 0 TPU cores\n",
      "IPU available: False, using: 0 IPUs\n",
      "/cellar/users/aklie/opt/miniconda3/envs/eugene/lib/python3.7/site-packages/pytorch_lightning/trainer/data_loading.py:133: UserWarning: The dataloader, predict_dataloader 0, does not have many workers which may be a bottleneck. Consider increasing the value of the `num_workers` argument` (try 16 which is the number of cpus on this machine) in the `DataLoader` init to improve performance.\n",
      "  f\"The dataloader, {name}, does not have many workers which may be a bottleneck.\"\n"
     ]
    },
    {
     "data": {
      "application/vnd.jupyter.widget-view+json": {
       "model_id": "0c76e3c4b972403f976d8e7c48ed4e23",
       "version_major": 2,
       "version_minor": 0
      },
      "text/plain": [
       "Predicting: 0it [00:00, ?it/s]"
      ]
     },
     "metadata": {},
     "output_type": "display_data"
    },
    {
     "name": "stderr",
     "output_type": "stream",
     "text": [
      "/mnt/beegfs/users/aklie/projects/EUGENE/eugene/predict/_predict.py:41: VisibleDeprecationWarning: Creating an ndarray from ragged nested sequences (which is a list-or-tuple of lists-or-tuples-or ndarrays with different lengths or shapes) is deprecated. If you meant to do this, you must specify 'dtype=object' when creating the ndarray.\n",
      "  t = np.concatenate(np.array(trainer.predict(model, sdataloader)), axis=0)\n"
     ]
    },
    {
     "data": {
      "text/html": [
       "<div>\n",
       "<style scoped>\n",
       "    .dataframe tbody tr th:only-of-type {\n",
       "        vertical-align: middle;\n",
       "    }\n",
       "\n",
       "    .dataframe tbody tr th {\n",
       "        vertical-align: top;\n",
       "    }\n",
       "\n",
       "    .dataframe thead th {\n",
       "        text-align: right;\n",
       "    }\n",
       "</style>\n",
       "<table border=\"1\" class=\"dataframe\">\n",
       "  <thead>\n",
       "    <tr style=\"text-align: right;\">\n",
       "      <th></th>\n",
       "      <th>0</th>\n",
       "    </tr>\n",
       "  </thead>\n",
       "  <tbody>\n",
       "    <tr>\n",
       "      <th>seq001</th>\n",
       "      <td>0.35963845</td>\n",
       "    </tr>\n",
       "    <tr>\n",
       "      <th>seq002</th>\n",
       "      <td>0.41061306</td>\n",
       "    </tr>\n",
       "    <tr>\n",
       "      <th>seq003</th>\n",
       "      <td>0.39608538</td>\n",
       "    </tr>\n",
       "    <tr>\n",
       "      <th>seq004</th>\n",
       "      <td>0.40585387</td>\n",
       "    </tr>\n",
       "    <tr>\n",
       "      <th>seq005</th>\n",
       "      <td>0.40117908</td>\n",
       "    </tr>\n",
       "    <tr>\n",
       "      <th>...</th>\n",
       "      <td>...</td>\n",
       "    </tr>\n",
       "    <tr>\n",
       "      <th>seq996</th>\n",
       "      <td>0.3827901</td>\n",
       "    </tr>\n",
       "    <tr>\n",
       "      <th>seq997</th>\n",
       "      <td>0.39743</td>\n",
       "    </tr>\n",
       "    <tr>\n",
       "      <th>seq998</th>\n",
       "      <td>0.38069797</td>\n",
       "    </tr>\n",
       "    <tr>\n",
       "      <th>seq999</th>\n",
       "      <td>0.41830504</td>\n",
       "    </tr>\n",
       "    <tr>\n",
       "      <th>seq1000</th>\n",
       "      <td>0.4107983</td>\n",
       "    </tr>\n",
       "  </tbody>\n",
       "</table>\n",
       "<p>1000 rows × 1 columns</p>\n",
       "</div>"
      ],
      "text/plain": [
       "                  0\n",
       "seq001   0.35963845\n",
       "seq002   0.41061306\n",
       "seq003   0.39608538\n",
       "seq004   0.40585387\n",
       "seq005   0.40117908\n",
       "...             ...\n",
       "seq996    0.3827901\n",
       "seq997      0.39743\n",
       "seq998   0.38069797\n",
       "seq999   0.41830504\n",
       "seq1000   0.4107983\n",
       "\n",
       "[1000 rows x 1 columns]"
      ]
     },
     "execution_count": 9,
     "metadata": {},
     "output_type": "execute_result"
    }
   ],
   "source": [
    "eu.predict.predictions(eugene, sdataloader=sdataloader, target_label=\"TARGETS\", batch_size=1, num_workers=0, out_dir=\"../_out/test_\")"
   ]
  },
  {
   "cell_type": "markdown",
   "id": "ac2b768b",
   "metadata": {},
   "source": [
    "# Interpret the model"
   ]
  },
  {
   "cell_type": "code",
   "execution_count": 10,
   "id": "8b9ffecb",
   "metadata": {},
   "outputs": [
    {
     "data": {
      "application/vnd.jupyter.widget-view+json": {
       "model_id": "051c1cc3a6604cbb9e234818790384be",
       "version_major": 2,
       "version_minor": 0
      },
      "text/plain": [
       "  0%|          | 0/31 [00:00<?, ?it/s]"
      ]
     },
     "metadata": {},
     "output_type": "display_data"
    },
    {
     "data": {
      "text/plain": [
       "array([[[ 0.        ,  0.        ,  0.00641138, ...,  0.00272099,\n",
       "          0.        ,  0.        ],\n",
       "        [-0.        ,  0.        , -0.        , ..., -0.        ,\n",
       "          0.        ,  0.00364729],\n",
       "        [ 0.00399181, -0.        , -0.        , ..., -0.        ,\n",
       "          0.00248242,  0.        ],\n",
       "        [-0.        ,  0.00491963,  0.        , ...,  0.        ,\n",
       "          0.        ,  0.        ]],\n",
       "\n",
       "       [[-0.        ,  0.00451582,  0.        , ...,  0.        ,\n",
       "          0.        ,  0.00158742],\n",
       "        [-0.        ,  0.        ,  0.        , ...,  0.        ,\n",
       "         -0.        ,  0.        ],\n",
       "        [ 0.        , -0.        ,  0.        , ..., -0.        ,\n",
       "          0.        ,  0.        ],\n",
       "        [ 0.00161232,  0.        ,  0.00241995, ...,  0.00435137,\n",
       "          0.00183829, -0.        ]],\n",
       "\n",
       "       [[-0.00056602,  0.00576064,  0.        , ...,  0.        ,\n",
       "          0.        , -0.        ],\n",
       "        [ 0.        , -0.        ,  0.        , ...,  0.01109879,\n",
       "          0.01043829, -0.        ],\n",
       "        [-0.        , -0.        ,  0.00642888, ..., -0.        ,\n",
       "         -0.        ,  0.        ],\n",
       "        [ 0.        ,  0.        ,  0.        , ...,  0.        ,\n",
       "         -0.        ,  0.00224606]],\n",
       "\n",
       "       ...,\n",
       "\n",
       "       [[ 0.        ,  0.        ,  0.        , ..., -0.        ,\n",
       "          0.        ,  0.00178039],\n",
       "        [-0.        ,  0.        ,  0.        , ...,  0.00951932,\n",
       "          0.00500232,  0.        ],\n",
       "        [ 0.0009674 , -0.        ,  0.        , ..., -0.        ,\n",
       "         -0.        ,  0.        ],\n",
       "        [ 0.        ,  0.00692733,  0.00994682, ...,  0.        ,\n",
       "          0.        ,  0.        ]],\n",
       "\n",
       "       [[ 0.00263298, -0.        ,  0.00346804, ...,  0.00516176,\n",
       "          0.00380733,  0.        ],\n",
       "        [-0.        ,  0.        ,  0.        , ...,  0.        ,\n",
       "         -0.        ,  0.        ],\n",
       "        [-0.        , -0.        , -0.        , ..., -0.        ,\n",
       "         -0.        ,  0.00121543],\n",
       "        [ 0.        ,  0.00568294,  0.        , ...,  0.        ,\n",
       "          0.        , -0.        ]],\n",
       "\n",
       "       [[ 0.        ,  0.        ,  0.        , ...,  0.00735642,\n",
       "         -0.        ,  0.        ],\n",
       "        [-0.        ,  0.        , -0.        , ..., -0.        ,\n",
       "          0.        ,  0.0019634 ],\n",
       "        [ 0.00171467, -0.        , -0.        , ..., -0.        ,\n",
       "          0.        ,  0.        ],\n",
       "        [ 0.        ,  0.00558219,  0.00743571, ...,  0.        ,\n",
       "          0.00196706, -0.        ]]])"
      ]
     },
     "execution_count": 10,
     "metadata": {},
     "output_type": "execute_result"
    }
   ],
   "source": [
    "eu.interpret.feature_attribution(eugene, sdata)"
   ]
  },
  {
   "cell_type": "code",
   "execution_count": 12,
   "id": "13eff1f7",
   "metadata": {},
   "outputs": [
    {
     "ename": "AttributeError",
     "evalue": "module 'eugene' has no attribute 'get_pfms'",
     "output_type": "error",
     "traceback": [
      "\u001b[0;31m---------------------------------------------------------------------------\u001b[0m",
      "\u001b[0;31mAttributeError\u001b[0m                            Traceback (most recent call last)",
      "\u001b[0;32m/tmp/ipykernel_1725924/3227793103.py\u001b[0m in \u001b[0;36m<module>\u001b[0;34m\u001b[0m\n\u001b[0;32m----> 1\u001b[0;31m \u001b[0meu\u001b[0m\u001b[0;34m.\u001b[0m\u001b[0mget_pfms\u001b[0m\u001b[0;34m(\u001b[0m\u001b[0meugene\u001b[0m\u001b[0;34m,\u001b[0m \u001b[0msdata\u001b[0m\u001b[0;34m)\u001b[0m\u001b[0;34m\u001b[0m\u001b[0;34m\u001b[0m\u001b[0m\n\u001b[0m",
      "\u001b[0;31mAttributeError\u001b[0m: module 'eugene' has no attribute 'get_pfms'"
     ]
    }
   ],
   "source": [
    "eu.get_pfms(eugene, sdata)"
   ]
  },
  {
   "cell_type": "markdown",
   "id": "24527bb0",
   "metadata": {},
   "source": [
    "---"
   ]
  },
  {
   "cell_type": "markdown",
   "id": "23b15b0e-0b7b-4791-9806-04ff888bb49f",
   "metadata": {
    "tags": []
   },
   "source": [
    "# Scratch"
   ]
  }
 ],
 "metadata": {
  "kernelspec": {
   "display_name": "Python 3.7.12 ('eugene')",
   "language": "python",
   "name": "python3"
  },
  "language_info": {
   "codemirror_mode": {
    "name": "ipython",
    "version": 3
   },
   "file_extension": ".py",
   "mimetype": "text/x-python",
   "name": "python",
   "nbconvert_exporter": "python",
   "pygments_lexer": "ipython3",
   "version": "3.7.12"
  },
  "vscode": {
   "interpreter": {
    "hash": "1330bbbf2c4cf53098ef1254540d5dd54a9d501f0408fea1c04a20872667b797"
   }
  }
 },
 "nbformat": 4,
 "nbformat_minor": 5
}

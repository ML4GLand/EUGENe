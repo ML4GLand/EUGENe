{
 "cells": [
  {
   "cell_type": "markdown",
   "id": "47cc2c48",
   "metadata": {},
   "source": [
    "# Testing `interpret` module"
   ]
  },
  {
   "cell_type": "markdown",
   "id": "3b1880c3",
   "metadata": {
    "tags": []
   },
   "source": [
    "**Authorship:**\n",
    "Adam Klie, *03/19/2022*\n",
    "***\n",
    "**Description:**\n",
    "Notebook for testing interpretations with EUGENE architectures"
   ]
  },
  {
   "cell_type": "code",
   "execution_count": 1,
   "id": "1dd9ef33",
   "metadata": {
    "execution": {
     "iopub.execute_input": "2022-05-04T17:01:08.512199Z",
     "iopub.status.busy": "2022-05-04T17:01:08.512010Z",
     "iopub.status.idle": "2022-05-04T17:01:10.027673Z",
     "shell.execute_reply": "2022-05-04T17:01:10.027193Z",
     "shell.execute_reply.started": "2022-05-04T17:01:08.512177Z"
    },
    "tags": []
   },
   "outputs": [],
   "source": [
    "import numpy as np\n",
    "import pandas as pd\n",
    "from torch.utils.data import DataLoader\n",
    "\n",
    "# Autoreload extension\n",
    "if 'autoreload' not in get_ipython().extension_manager.loaded:\n",
    "    %load_ext autoreload\n",
    "%autoreload 2"
   ]
  },
  {
   "cell_type": "code",
   "execution_count": 2,
   "id": "395ab567",
   "metadata": {},
   "outputs": [
    {
     "name": "stderr",
     "output_type": "stream",
     "text": [
      "Global seed set to 13\n",
      "Global seed set to 13\n",
      "Global seed set to 13\n"
     ]
    }
   ],
   "source": [
    "import eugene as eu"
   ]
  },
  {
   "cell_type": "markdown",
   "id": "b446ff4c-3bc0-44a5-930b-3d30dcb17e76",
   "metadata": {
    "tags": []
   },
   "source": [
    "# Load data"
   ]
  },
  {
   "cell_type": "code",
   "execution_count": 3,
   "id": "fc0b3dcb-37dd-4ed9-a571-987219c44088",
   "metadata": {
    "execution": {
     "iopub.execute_input": "2022-05-04T17:01:16.222298Z",
     "iopub.status.busy": "2022-05-04T17:01:16.222171Z",
     "iopub.status.idle": "2022-05-04T17:01:17.868874Z",
     "shell.execute_reply": "2022-05-04T17:01:17.868477Z",
     "shell.execute_reply.started": "2022-05-04T17:01:16.222283Z"
    },
    "tags": []
   },
   "outputs": [
    {
     "data": {
      "application/vnd.jupyter.widget-view+json": {
       "model_id": "2726b743586f47378afef57464ebabe8",
       "version_major": 2,
       "version_minor": 0
      },
      "text/plain": [
       "  0%|          | 0/3 [00:00<?, ?it/s]"
      ]
     },
     "metadata": {},
     "output_type": "display_data"
    },
    {
     "name": "stdout",
     "output_type": "stream",
     "text": [
      "SeqData object modified:\n",
      "\trev_seqs: None -> 1000 rev_seqs added\n",
      "\tohe_seqs: None -> 1000 ohe_seqs added\n",
      "    seqs_annot:\n",
      "        + TRAIN\n"
     ]
    },
    {
     "data": {
      "text/plain": [
       "SeqData object with = 1000 seqs\n",
       "seqs = (1000,)\n",
       "names = (1000,)\n",
       "rev_seqs = (1000,)\n",
       "ohe_seqs = (1000, 66, 4)\n",
       "ohe_rev_seqs = None\n",
       "    seqs_annot: 'TARGETS', 'TRAIN'"
      ]
     },
     "execution_count": 3,
     "metadata": {},
     "output_type": "execute_result"
    }
   ],
   "source": [
    "sdata = eu.datasets.random1000()\n",
    "eu.pp.prepare_data(sdata)\n",
    "sdata"
   ]
  },
  {
   "cell_type": "code",
   "execution_count": 10,
   "id": "103e22c4",
   "metadata": {},
   "outputs": [],
   "source": [
    "sdataset = sdata.to_dataset(label=\"TARGETS\", seq_transforms=[\"one_hot_encode\"], transform_kwargs={\"transpose\": True})\n",
    "sdataloader = DataLoader(sdataset, batch_size=32, num_workers=0)"
   ]
  },
  {
   "cell_type": "markdown",
   "id": "5279866a",
   "metadata": {
    "tags": []
   },
   "source": [
    "# Instantiate EUGENE architecture"
   ]
  },
  {
   "cell_type": "code",
   "execution_count": 4,
   "id": "d2a38685",
   "metadata": {
    "execution": {
     "iopub.execute_input": "2022-05-04T17:01:17.869563Z",
     "iopub.status.busy": "2022-05-04T17:01:17.869453Z",
     "iopub.status.idle": "2022-05-04T17:01:19.544347Z",
     "shell.execute_reply": "2022-05-04T17:01:19.543925Z",
     "shell.execute_reply.started": "2022-05-04T17:01:17.869548Z"
    },
    "tags": []
   },
   "outputs": [],
   "source": [
    "from eugene.models import DeepBind"
   ]
  },
  {
   "cell_type": "code",
   "execution_count": 5,
   "id": "ffdae036",
   "metadata": {},
   "outputs": [],
   "source": [
    "eugene = DeepBind(input_len=66)"
   ]
  },
  {
   "cell_type": "markdown",
   "id": "145b2bbd",
   "metadata": {},
   "source": [
    "# Feature attribtion "
   ]
  },
  {
   "cell_type": "code",
   "execution_count": 13,
   "id": "ed4b6f07",
   "metadata": {},
   "outputs": [
    {
     "data": {
      "text/plain": [
       "(torch.Size([32, 4, 66]), torch.Size([32, 4, 66]), torch.Size([32]))"
      ]
     },
     "execution_count": 13,
     "metadata": {},
     "output_type": "execute_result"
    }
   ],
   "source": [
    "_, x, x_rev, y = next(iter(sdataloader))\n",
    "x.shape, x_rev.shape, y.shape"
   ]
  },
  {
   "cell_type": "code",
   "execution_count": 14,
   "id": "0a868294",
   "metadata": {},
   "outputs": [
    {
     "data": {
      "text/plain": [
       "(32, 4, 66)"
      ]
     },
     "execution_count": 14,
     "metadata": {},
     "output_type": "execute_result"
    }
   ],
   "source": [
    "eu.interpret.grad_explain(eugene, (x, x_rev))\n",
    "explains = eu.interpret.nn_explain(eugene, (x, x_rev), saliency_type=\"InputXGradient\")\n",
    "explains.shape"
   ]
  },
  {
   "cell_type": "code",
   "execution_count": 15,
   "id": "6fbd7b56",
   "metadata": {},
   "outputs": [
    {
     "data": {
      "application/vnd.jupyter.widget-view+json": {
       "model_id": "2af749c92fe842d498a0186a0fd9ee07",
       "version_major": 2,
       "version_minor": 0
      },
      "text/plain": [
       "  0%|          | 0/31 [00:00<?, ?it/s]"
      ]
     },
     "metadata": {},
     "output_type": "display_data"
    },
    {
     "data": {
      "text/plain": [
       "(1000, 4, 66)"
      ]
     },
     "execution_count": 15,
     "metadata": {},
     "output_type": "execute_result"
    }
   ],
   "source": [
    "explains = eu.interpret.feature_attribution(eugene, sdata)\n",
    "explains.shape"
   ]
  },
  {
   "cell_type": "markdown",
   "id": "105d4fb4-1932-4822-bc1e-1297ee9e2b60",
   "metadata": {
    "tags": []
   },
   "source": [
    "# Filter vizualization "
   ]
  },
  {
   "cell_type": "code",
   "execution_count": 6,
   "id": "c2668d33",
   "metadata": {},
   "outputs": [],
   "source": [
    "from eugene.interpret import generate_pfms"
   ]
  },
  {
   "cell_type": "code",
   "execution_count": 7,
   "id": "301a3838",
   "metadata": {},
   "outputs": [
    {
     "data": {
      "application/vnd.jupyter.widget-view+json": {
       "model_id": "43b83eb1dad64af29c840a965a078091",
       "version_major": 2,
       "version_minor": 0
      },
      "text/plain": [
       "0it [00:00, ?it/s]"
      ]
     },
     "metadata": {},
     "output_type": "display_data"
    },
    {
     "data": {
      "application/vnd.jupyter.widget-view+json": {
       "model_id": "4c4ce909b86841149266bbd128a746f8",
       "version_major": 2,
       "version_minor": 0
      },
      "text/plain": [
       "0it [00:00, ?it/s]"
      ]
     },
     "metadata": {},
     "output_type": "display_data"
    }
   ],
   "source": [
    "generate_pfms(eugene, sdata)"
   ]
  },
  {
   "cell_type": "code",
   "execution_count": 10,
   "id": "56d1888e",
   "metadata": {},
   "outputs": [
    {
     "data": {
      "text/html": [
       "<div>\n",
       "<style scoped>\n",
       "    .dataframe tbody tr th:only-of-type {\n",
       "        vertical-align: middle;\n",
       "    }\n",
       "\n",
       "    .dataframe tbody tr th {\n",
       "        vertical-align: top;\n",
       "    }\n",
       "\n",
       "    .dataframe thead th {\n",
       "        text-align: right;\n",
       "    }\n",
       "</style>\n",
       "<table border=\"1\" class=\"dataframe\">\n",
       "  <thead>\n",
       "    <tr style=\"text-align: right;\">\n",
       "      <th></th>\n",
       "      <th>A</th>\n",
       "      <th>C</th>\n",
       "      <th>G</th>\n",
       "      <th>T</th>\n",
       "    </tr>\n",
       "  </thead>\n",
       "  <tbody>\n",
       "    <tr>\n",
       "      <th>0</th>\n",
       "      <td>0.0</td>\n",
       "      <td>0.0</td>\n",
       "      <td>6099.0</td>\n",
       "      <td>4692.0</td>\n",
       "    </tr>\n",
       "    <tr>\n",
       "      <th>1</th>\n",
       "      <td>3004.0</td>\n",
       "      <td>3717.0</td>\n",
       "      <td>1183.0</td>\n",
       "      <td>2887.0</td>\n",
       "    </tr>\n",
       "    <tr>\n",
       "      <th>2</th>\n",
       "      <td>5370.0</td>\n",
       "      <td>1408.0</td>\n",
       "      <td>1038.0</td>\n",
       "      <td>2975.0</td>\n",
       "    </tr>\n",
       "    <tr>\n",
       "      <th>3</th>\n",
       "      <td>226.0</td>\n",
       "      <td>6368.0</td>\n",
       "      <td>2710.0</td>\n",
       "      <td>1487.0</td>\n",
       "    </tr>\n",
       "  </tbody>\n",
       "</table>\n",
       "</div>"
      ],
      "text/plain": [
       "        A       C       G       T\n",
       "0     0.0     0.0  6099.0  4692.0\n",
       "1  3004.0  3717.0  1183.0  2887.0\n",
       "2  5370.0  1408.0  1038.0  2975.0\n",
       "3   226.0  6368.0  2710.0  1487.0"
      ]
     },
     "execution_count": 10,
     "metadata": {},
     "output_type": "execute_result"
    }
   ],
   "source": [
    "sdata.uns[\"pfms\"][0]"
   ]
  },
  {
   "cell_type": "code",
   "execution_count": 68,
   "id": "45dc7a96",
   "metadata": {},
   "outputs": [
    {
     "ename": "KeyError",
     "evalue": "'pfms'",
     "output_type": "error",
     "traceback": [
      "\u001b[0;31m---------------------------------------------------------------------------\u001b[0m",
      "\u001b[0;31mKeyError\u001b[0m                                  Traceback (most recent call last)",
      "\u001b[0;32m/tmp/ipykernel_1686654/422250799.py\u001b[0m in \u001b[0;36m<module>\u001b[0;34m\u001b[0m\n\u001b[0;32m----> 1\u001b[0;31m \u001b[0msdata\u001b[0m\u001b[0;34m.\u001b[0m\u001b[0muns\u001b[0m\u001b[0;34m[\u001b[0m\u001b[0;34m\"pfms\"\u001b[0m\u001b[0;34m]\u001b[0m\u001b[0;34m\u001b[0m\u001b[0;34m\u001b[0m\u001b[0m\n\u001b[0m",
      "\u001b[0;31mKeyError\u001b[0m: 'pfms'"
     ]
    }
   ],
   "source": [
    "sdata.uns[\"pfms\"]"
   ]
  },
  {
   "cell_type": "code",
   "execution_count": 33,
   "id": "f082c365",
   "metadata": {},
   "outputs": [
    {
     "data": {
      "text/html": [
       "<div>\n",
       "<style scoped>\n",
       "    .dataframe tbody tr th:only-of-type {\n",
       "        vertical-align: middle;\n",
       "    }\n",
       "\n",
       "    .dataframe tbody tr th {\n",
       "        vertical-align: top;\n",
       "    }\n",
       "\n",
       "    .dataframe thead th {\n",
       "        text-align: right;\n",
       "    }\n",
       "</style>\n",
       "<table border=\"1\" class=\"dataframe\">\n",
       "  <thead>\n",
       "    <tr style=\"text-align: right;\">\n",
       "      <th></th>\n",
       "      <th>A</th>\n",
       "      <th>C</th>\n",
       "      <th>G</th>\n",
       "      <th>T</th>\n",
       "    </tr>\n",
       "  </thead>\n",
       "  <tbody>\n",
       "    <tr>\n",
       "      <th>0</th>\n",
       "      <td>0.0</td>\n",
       "      <td>0.0</td>\n",
       "      <td>6099.0</td>\n",
       "      <td>4692.0</td>\n",
       "    </tr>\n",
       "    <tr>\n",
       "      <th>1</th>\n",
       "      <td>3004.0</td>\n",
       "      <td>3717.0</td>\n",
       "      <td>1183.0</td>\n",
       "      <td>2887.0</td>\n",
       "    </tr>\n",
       "    <tr>\n",
       "      <th>2</th>\n",
       "      <td>5370.0</td>\n",
       "      <td>1408.0</td>\n",
       "      <td>1038.0</td>\n",
       "      <td>2975.0</td>\n",
       "    </tr>\n",
       "    <tr>\n",
       "      <th>3</th>\n",
       "      <td>226.0</td>\n",
       "      <td>6368.0</td>\n",
       "      <td>2710.0</td>\n",
       "      <td>1487.0</td>\n",
       "    </tr>\n",
       "  </tbody>\n",
       "</table>\n",
       "</div>"
      ],
      "text/plain": [
       "        A       C       G       T\n",
       "0     0.0     0.0  6099.0  4692.0\n",
       "1  3004.0  3717.0  1183.0  2887.0\n",
       "2  5370.0  1408.0  1038.0  2975.0\n",
       "3   226.0  6368.0  2710.0  1487.0"
      ]
     },
     "execution_count": 33,
     "metadata": {},
     "output_type": "execute_result"
    }
   ],
   "source": [
    "test = cpms[0]\n",
    "test"
   ]
  },
  {
   "cell_type": "code",
   "execution_count": null,
   "id": "b1adf567",
   "metadata": {},
   "outputs": [],
   "source": [
    "test."
   ]
  },
  {
   "cell_type": "code",
   "execution_count": 21,
   "id": "c2fdcbaf",
   "metadata": {},
   "outputs": [],
   "source": [
    "import seqlogo"
   ]
  },
  {
   "cell_type": "code",
   "execution_count": 23,
   "id": "879ad96b",
   "metadata": {},
   "outputs": [
    {
     "data": {
      "image/png": "[encoded data removed]",
      "text/plain": [
       "<IPython.core.display.Image object>"
      ]
     },
     "metadata": {},
     "output_type": "display_data"
    }
   ],
   "source": [
    "eu.pl.plot_logo(seqlogo.Pwm(test.pwm))"
   ]
  },
  {
   "cell_type": "code",
   "execution_count": 30,
   "id": "615b73b7",
   "metadata": {},
   "outputs": [
    {
     "data": {
      "image/png": "[encoded data removed]",
      "text/plain": [
       "<IPython.core.display.Image object>"
      ]
     },
     "metadata": {},
     "output_type": "display_data"
    }
   ],
   "source": [
    "eu.pl.plot_logo(seqlogo.CompletePm(seqlogo.pfm2pwm(test.pwm)))"
   ]
  },
  {
   "cell_type": "code",
   "execution_count": 27,
   "id": "475e1748",
   "metadata": {},
   "outputs": [
    {
     "data": {
      "image/png": "[encoded data removed]",
      "text/plain": [
       "<IPython.core.display.Image object>"
      ]
     },
     "metadata": {},
     "output_type": "display_data"
    }
   ],
   "source": [
    "eu.pl.plot_logo(seqlogo.CompletePm(test.pwm))"
   ]
  },
  {
   "cell_type": "code",
   "execution_count": 19,
   "id": "4562839a",
   "metadata": {},
   "outputs": [
    {
     "ename": "AttributeError",
     "evalue": "'DataFrame' object has no attribute '_alphabet_type'",
     "output_type": "error",
     "traceback": [
      "\u001b[0;31m---------------------------------------------------------------------------\u001b[0m",
      "\u001b[0;31mAttributeError\u001b[0m                            Traceback (most recent call last)",
      "\u001b[0;32m/tmp/ipykernel_1686654/3260621901.py\u001b[0m in \u001b[0;36m<module>\u001b[0;34m\u001b[0m\n\u001b[0;32m----> 1\u001b[0;31m \u001b[0meu\u001b[0m\u001b[0;34m.\u001b[0m\u001b[0mpl\u001b[0m\u001b[0;34m.\u001b[0m\u001b[0mplot_logo\u001b[0m\u001b[0;34m(\u001b[0m\u001b[0mtest\u001b[0m\u001b[0;34m.\u001b[0m\u001b[0mpwm\u001b[0m\u001b[0;34m)\u001b[0m\u001b[0;34m\u001b[0m\u001b[0;34m\u001b[0m\u001b[0m\n\u001b[0m",
      "\u001b[0;32m/mnt/beegfs/users/aklie/projects/EUGENE/eugene/plotting/_plotting.py\u001b[0m in \u001b[0;36mplot_logo\u001b[0;34m(cpm, **kwargs)\u001b[0m\n\u001b[1;32m      8\u001b[0m \u001b[0;34m\u001b[0m\u001b[0m\n\u001b[1;32m      9\u001b[0m \u001b[0;32mdef\u001b[0m \u001b[0mplot_logo\u001b[0m\u001b[0;34m(\u001b[0m\u001b[0mcpm\u001b[0m\u001b[0;34m,\u001b[0m \u001b[0;34m**\u001b[0m\u001b[0mkwargs\u001b[0m\u001b[0;34m)\u001b[0m\u001b[0;34m:\u001b[0m\u001b[0;34m\u001b[0m\u001b[0;34m\u001b[0m\u001b[0m\n\u001b[0;32m---> 10\u001b[0;31m     \u001b[0mlogo\u001b[0m \u001b[0;34m=\u001b[0m \u001b[0mseqlogo\u001b[0m\u001b[0;34m.\u001b[0m\u001b[0mseqlogo\u001b[0m\u001b[0;34m(\u001b[0m\u001b[0mcpm\u001b[0m\u001b[0;34m,\u001b[0m \u001b[0mic_scale\u001b[0m \u001b[0;34m=\u001b[0m \u001b[0;32mTrue\u001b[0m\u001b[0;34m,\u001b[0m \u001b[0mformat\u001b[0m \u001b[0;34m=\u001b[0m \u001b[0;34m'png'\u001b[0m\u001b[0;34m,\u001b[0m \u001b[0msize\u001b[0m \u001b[0;34m=\u001b[0m \u001b[0;34m'medium'\u001b[0m\u001b[0;34m)\u001b[0m\u001b[0;34m\u001b[0m\u001b[0;34m\u001b[0m\u001b[0m\n\u001b[0m\u001b[1;32m     11\u001b[0m     \u001b[0mdisplay\u001b[0m\u001b[0;34m(\u001b[0m\u001b[0mlogo\u001b[0m\u001b[0;34m)\u001b[0m\u001b[0;34m\u001b[0m\u001b[0;34m\u001b[0m\u001b[0m\n\u001b[1;32m     12\u001b[0m \u001b[0;34m\u001b[0m\u001b[0m\n",
      "\u001b[0;32m~/opt/miniconda3/envs/eugene/lib/python3.7/site-packages/seqlogo/seqlogo.py\u001b[0m in \u001b[0;36mseqlogo\u001b[0;34m(pm, ic_scale, color_scheme, size, format, filename, **kwargs)\u001b[0m\n\u001b[1;32m     59\u001b[0m     \"\"\"\n\u001b[1;32m     60\u001b[0m     \u001b[0;31m# Ensure color scheme matches the alphabet\u001b[0m\u001b[0;34m\u001b[0m\u001b[0;34m\u001b[0m\u001b[0;34m\u001b[0m\u001b[0m\n\u001b[0;32m---> 61\u001b[0;31m     \u001b[0;32mif\u001b[0m \u001b[0mpm\u001b[0m\u001b[0;34m.\u001b[0m\u001b[0m_alphabet_type\u001b[0m \u001b[0;32min\u001b[0m \u001b[0mutils\u001b[0m\u001b[0;34m.\u001b[0m\u001b[0m_NA_ALPHABETS\u001b[0m\u001b[0;34m:\u001b[0m\u001b[0;34m\u001b[0m\u001b[0;34m\u001b[0m\u001b[0m\n\u001b[0m\u001b[1;32m     62\u001b[0m         \u001b[0;32mif\u001b[0m \u001b[0mcolor_scheme\u001b[0m \u001b[0;32mis\u001b[0m \u001b[0;32mNone\u001b[0m\u001b[0;34m:\u001b[0m\u001b[0;34m\u001b[0m\u001b[0;34m\u001b[0m\u001b[0m\n\u001b[1;32m     63\u001b[0m             \u001b[0mcolor_scheme\u001b[0m \u001b[0;34m=\u001b[0m \u001b[0;34m'classic'\u001b[0m\u001b[0;34m\u001b[0m\u001b[0;34m\u001b[0m\u001b[0m\n",
      "\u001b[0;32m~/opt/miniconda3/envs/eugene/lib/python3.7/site-packages/pandas/core/generic.py\u001b[0m in \u001b[0;36m__getattr__\u001b[0;34m(self, name)\u001b[0m\n\u001b[1;32m   5485\u001b[0m         ):\n\u001b[1;32m   5486\u001b[0m             \u001b[0;32mreturn\u001b[0m \u001b[0mself\u001b[0m\u001b[0;34m[\u001b[0m\u001b[0mname\u001b[0m\u001b[0;34m]\u001b[0m\u001b[0;34m\u001b[0m\u001b[0;34m\u001b[0m\u001b[0m\n\u001b[0;32m-> 5487\u001b[0;31m         \u001b[0;32mreturn\u001b[0m \u001b[0mobject\u001b[0m\u001b[0;34m.\u001b[0m\u001b[0m__getattribute__\u001b[0m\u001b[0;34m(\u001b[0m\u001b[0mself\u001b[0m\u001b[0;34m,\u001b[0m \u001b[0mname\u001b[0m\u001b[0;34m)\u001b[0m\u001b[0;34m\u001b[0m\u001b[0;34m\u001b[0m\u001b[0m\n\u001b[0m\u001b[1;32m   5488\u001b[0m \u001b[0;34m\u001b[0m\u001b[0m\n\u001b[1;32m   5489\u001b[0m     \u001b[0;32mdef\u001b[0m \u001b[0m__setattr__\u001b[0m\u001b[0;34m(\u001b[0m\u001b[0mself\u001b[0m\u001b[0;34m,\u001b[0m \u001b[0mname\u001b[0m\u001b[0;34m:\u001b[0m \u001b[0mstr\u001b[0m\u001b[0;34m,\u001b[0m \u001b[0mvalue\u001b[0m\u001b[0;34m)\u001b[0m \u001b[0;34m->\u001b[0m \u001b[0;32mNone\u001b[0m\u001b[0;34m:\u001b[0m\u001b[0;34m\u001b[0m\u001b[0;34m\u001b[0m\u001b[0m\n",
      "\u001b[0;31mAttributeError\u001b[0m: 'DataFrame' object has no attribute '_alphabet_type'"
     ]
    }
   ],
   "source": [
    "eu.pl.plot_logo(test.pwm)"
   ]
  },
  {
   "cell_type": "code",
   "execution_count": 42,
   "id": "0d1e0b03",
   "metadata": {},
   "outputs": [
    {
     "data": {
      "text/html": [
       "<div>\n",
       "<style scoped>\n",
       "    .dataframe tbody tr th:only-of-type {\n",
       "        vertical-align: middle;\n",
       "    }\n",
       "\n",
       "    .dataframe tbody tr th {\n",
       "        vertical-align: top;\n",
       "    }\n",
       "\n",
       "    .dataframe thead th {\n",
       "        text-align: right;\n",
       "    }\n",
       "</style>\n",
       "<table border=\"1\" class=\"dataframe\">\n",
       "  <thead>\n",
       "    <tr style=\"text-align: right;\">\n",
       "      <th></th>\n",
       "      <th>A</th>\n",
       "      <th>C</th>\n",
       "      <th>G</th>\n",
       "      <th>T</th>\n",
       "    </tr>\n",
       "  </thead>\n",
       "  <tbody>\n",
       "    <tr>\n",
       "      <th>0</th>\n",
       "      <td>-31.219281</td>\n",
       "      <td>-31.219281</td>\n",
       "      <td>1.176816</td>\n",
       "      <td>0.798446</td>\n",
       "    </tr>\n",
       "    <tr>\n",
       "      <th>1</th>\n",
       "      <td>0.155128</td>\n",
       "      <td>0.462382</td>\n",
       "      <td>-1.189307</td>\n",
       "      <td>0.097814</td>\n",
       "    </tr>\n",
       "    <tr>\n",
       "      <th>2</th>\n",
       "      <td>0.993165</td>\n",
       "      <td>-0.938109</td>\n",
       "      <td>-1.377950</td>\n",
       "      <td>0.141133</td>\n",
       "    </tr>\n",
       "    <tr>\n",
       "      <th>3</th>\n",
       "      <td>-3.577362</td>\n",
       "      <td>1.239084</td>\n",
       "      <td>0.006536</td>\n",
       "      <td>-0.859352</td>\n",
       "    </tr>\n",
       "  </tbody>\n",
       "</table>\n",
       "</div>"
      ],
      "text/plain": [
       "           A          C         G         T\n",
       "0 -31.219281 -31.219281  1.176816  0.798446\n",
       "1   0.155128   0.462382 -1.189307  0.097814\n",
       "2   0.993165  -0.938109 -1.377950  0.141133\n",
       "3  -3.577362   1.239084  0.006536 -0.859352"
      ]
     },
     "execution_count": 42,
     "metadata": {},
     "output_type": "execute_result"
    }
   ],
   "source": [
    "test.pwm"
   ]
  },
  {
   "cell_type": "code",
   "execution_count": 43,
   "id": "675c396c",
   "metadata": {},
   "outputs": [
    {
     "data": {
      "image/png": "[encoded data removed]",
      "text/plain": [
       "<IPython.core.display.Image object>"
      ]
     },
     "metadata": {},
     "output_type": "display_data"
    }
   ],
   "source": [
    "eu.pl.plot_logo(cpms[0])"
   ]
  },
  {
   "cell_type": "code",
   "execution_count": null,
   "id": "fc7021c1",
   "metadata": {},
   "outputs": [],
   "source": [
    "from eugene.interpret._filters_to_pwms import _get_first_conv_layer, _get_activations_from_layer, _get_filter_activators, _get_pwms"
   ]
  },
  {
   "cell_type": "code",
   "execution_count": null,
   "id": "38347f9a",
   "metadata": {},
   "outputs": [
    {
     "data": {
      "application/vnd.jupyter.widget-view+json": {
       "model_id": "e5d396ba462e4d8bba2c5268f66f70fa",
       "version_major": 2,
       "version_minor": 0
      },
      "text/plain": [
       "0it [00:00, ?it/s]"
      ]
     },
     "metadata": {},
     "output_type": "display_data"
    },
    {
     "name": "stdout",
     "output_type": "stream",
     "text": [
      "0 :  10791 0.8560847\n",
      "1 :  4871 0.51075804\n",
      "2 :  22152 0.6268455\n",
      "3 :  9928 0.23927915\n",
      "4 :  2189 0.4935101\n",
      "5 :  7029 0.60175943\n",
      "6 :  5643 0.73942125\n",
      "7 :  5516 0.44271824\n",
      "8 :  5394 0.5266361\n",
      "9 :  5678 0.38835356\n",
      "10 :  12754 0.7448571\n",
      "11 :  27066 0.80411243\n",
      "12 :  12252 0.8845444\n",
      "13 :  8503 0.56819844\n",
      "14 :  24998 0.8837944\n",
      "15 :  22720 0.5602239\n"
     ]
    },
    {
     "data": {
      "application/vnd.jupyter.widget-view+json": {
       "model_id": "977acfb990004f8782de0148cbd95294",
       "version_major": 2,
       "version_minor": 0
      },
      "text/plain": [
       "0it [00:00, ?it/s]"
      ]
     },
     "metadata": {},
     "output_type": "display_data"
    }
   ],
   "source": [
    "layer = _get_first_conv_layer(eugene)\n",
    "acts, seqs = _get_activations_from_layer(layer, sdataloader)\n",
    "activators = _get_filter_activators(acts, seqs, layer)\n",
    "pwms = _get_pwms(activators, layer.kernel_size[0])"
   ]
  },
  {
   "cell_type": "code",
   "execution_count": 23,
   "id": "3c53223f",
   "metadata": {},
   "outputs": [
    {
     "data": {
      "text/html": [
       "<div>\n",
       "<style scoped>\n",
       "    .dataframe tbody tr th:only-of-type {\n",
       "        vertical-align: middle;\n",
       "    }\n",
       "\n",
       "    .dataframe tbody tr th {\n",
       "        vertical-align: top;\n",
       "    }\n",
       "\n",
       "    .dataframe thead th {\n",
       "        text-align: right;\n",
       "    }\n",
       "</style>\n",
       "<table border=\"1\" class=\"dataframe\">\n",
       "  <thead>\n",
       "    <tr style=\"text-align: right;\">\n",
       "      <th></th>\n",
       "      <th>A</th>\n",
       "      <th>C</th>\n",
       "      <th>G</th>\n",
       "      <th>T</th>\n",
       "    </tr>\n",
       "  </thead>\n",
       "  <tbody>\n",
       "    <tr>\n",
       "      <th>0</th>\n",
       "      <td>-31.219281</td>\n",
       "      <td>-31.219281</td>\n",
       "      <td>1.176816</td>\n",
       "      <td>0.798446</td>\n",
       "    </tr>\n",
       "    <tr>\n",
       "      <th>1</th>\n",
       "      <td>0.155128</td>\n",
       "      <td>0.462382</td>\n",
       "      <td>-1.189307</td>\n",
       "      <td>0.097814</td>\n",
       "    </tr>\n",
       "    <tr>\n",
       "      <th>2</th>\n",
       "      <td>0.993165</td>\n",
       "      <td>-0.938109</td>\n",
       "      <td>-1.377950</td>\n",
       "      <td>0.141133</td>\n",
       "    </tr>\n",
       "    <tr>\n",
       "      <th>3</th>\n",
       "      <td>-3.577362</td>\n",
       "      <td>1.239084</td>\n",
       "      <td>0.006536</td>\n",
       "      <td>-0.859352</td>\n",
       "    </tr>\n",
       "  </tbody>\n",
       "</table>\n",
       "</div>"
      ],
      "text/plain": [
       "           A          C         G         T\n",
       "0 -31.219281 -31.219281  1.176816  0.798446\n",
       "1   0.155128   0.462382 -1.189307  0.097814\n",
       "2   0.993165  -0.938109 -1.377950  0.141133\n",
       "3  -3.577362   1.239084  0.006536 -0.859352"
      ]
     },
     "execution_count": 23,
     "metadata": {},
     "output_type": "execute_result"
    }
   ],
   "source": [
    "pwms.pwm"
   ]
  },
  {
   "cell_type": "code",
   "execution_count": null,
   "id": "9e5c5177-bbaa-4c7b-99d7-0cab1ca8c69b",
   "metadata": {
    "execution": {
     "iopub.execute_input": "2022-05-04T17:01:42.229703Z",
     "iopub.status.busy": "2022-05-04T17:01:42.229481Z",
     "iopub.status.idle": "2022-05-04T17:01:43.713523Z",
     "shell.execute_reply": "2022-05-04T17:01:43.713088Z",
     "shell.execute_reply.started": "2022-05-04T17:01:42.229675Z"
    },
    "tags": []
   },
   "outputs": [],
   "source": [
    "pwms = get_first_conv_layer(eugene)"
   ]
  },
  {
   "cell_type": "code",
   "execution_count": null,
   "id": "43a6aa62-ec3c-48cb-9d23-fc9f2f76bb4c",
   "metadata": {
    "execution": {
     "iopub.execute_input": "2022-05-04T18:07:54.138976Z",
     "iopub.status.busy": "2022-05-04T18:07:54.138801Z",
     "iopub.status.idle": "2022-05-04T18:07:55.450125Z",
     "shell.execute_reply": "2022-05-04T18:07:55.449778Z",
     "shell.execute_reply.started": "2022-05-04T18:07:54.138958Z"
    }
   },
   "outputs": [
    {
     "data": {
      "text/plain": [
       "torch.Size([32, 4, 15])"
      ]
     },
     "execution_count": 29,
     "metadata": {},
     "output_type": "execute_result"
    }
   ],
   "source": [
    "pwms.size()"
   ]
  },
  {
   "cell_type": "code",
   "execution_count": null,
   "id": "687a1313-8fdb-499b-82d0-2b681bb0aa71",
   "metadata": {
    "execution": {
     "iopub.execute_input": "2022-05-04T17:01:45.726569Z",
     "iopub.status.busy": "2022-05-04T17:01:45.726396Z",
     "iopub.status.idle": "2022-05-04T17:01:47.536098Z",
     "shell.execute_reply": "2022-05-04T17:01:47.535714Z",
     "shell.execute_reply.started": "2022-05-04T17:01:45.726551Z"
    },
    "tags": []
   },
   "outputs": [
    {
     "data": {
      "image/png": "[encoded data removed]",
      "text/plain": [
       "<Figure size 720x180 with 1 Axes>"
      ]
     },
     "metadata": {
      "needs_background": "light"
     },
     "output_type": "display_data"
    }
   ],
   "source": [
    "for pwm in pwms:\n",
    "    pwm_df = pd.DataFrame(columns=[\"A\", \"C\", \"G\", \"T\"], data=pwm.T.detach().numpy())\n",
    "    lm.Logo(pwm_df)\n",
    "    break"
   ]
  },
  {
   "cell_type": "markdown",
   "id": "82f8fb8c-1a13-4b47-a39d-970f9cba3b1b",
   "metadata": {
    "tags": []
   },
   "source": [
    "# Calculate Nucleotide Importances"
   ]
  },
  {
   "cell_type": "code",
   "execution_count": null,
   "id": "b2cba1fb-8f2c-41d4-b886-2aefd8e4d93f",
   "metadata": {
    "execution": {
     "iopub.execute_input": "2022-05-04T05:44:49.701661Z",
     "iopub.status.busy": "2022-05-04T05:44:49.701553Z",
     "iopub.status.idle": "2022-05-04T05:44:54.577706Z",
     "shell.execute_reply": "2022-05-04T05:44:54.577358Z",
     "shell.execute_reply.started": "2022-05-04T05:44:49.701645Z"
    },
    "tags": []
   },
   "outputs": [],
   "source": [
    "from eugene.interpret.nn_explain import nn_explain"
   ]
  },
  {
   "cell_type": "code",
   "execution_count": null,
   "id": "5ef47e60-1592-4e30-a378-57b03311aad7",
   "metadata": {
    "execution": {
     "iopub.execute_input": "2022-05-04T05:44:54.579343Z",
     "iopub.status.busy": "2022-05-04T05:44:54.579140Z",
     "iopub.status.idle": "2022-05-04T05:44:56.158941Z",
     "shell.execute_reply": "2022-05-04T05:44:56.158592Z",
     "shell.execute_reply.started": "2022-05-04T05:44:54.579327Z"
    },
    "tags": []
   },
   "outputs": [],
   "source": [
    "# Get access to the dataloader\n",
    "mod.setup()\n",
    "dataloader = mod.test_dataloader()\n",
    "dataset = dataloader.dataset"
   ]
  },
  {
   "cell_type": "code",
   "execution_count": null,
   "id": "b0b20d4c-b174-401e-99b3-418c3d9fb0b5",
   "metadata": {
    "tags": []
   },
   "outputs": [],
   "source": [
    "dataset_len = len(dataset)\n",
    "example_shape = dataset[0][1].numpy().shape\n",
    "all_explanations = np.zeros((dataset_len, *example_shape))\n",
    "for i_batch, batch in enumerate(dataloader):\n",
    "    ID, x, x_rev_comp, y = batch\n",
    "    curr_explanations = nn_explain(eugene, (x, x_rev_comp), saliency_type=\"Saliency\", device=device)\n",
    "    if (i_batch+1)*BATCH_SIZE < dataset_len:\n",
    "        print(i_batch*BATCH_SIZE, (i_batch+1)*BATCH_SIZE)\n",
    "        all_explanations[i_batch*BATCH_SIZE: (i_batch+1)*BATCH_SIZE] = curr_explanations\n",
    "    else:\n",
    "        print(i_batch*BATCH_SIZE, dataset_len)\n",
    "        all_explanations[i_batch*BATCH_SIZE:dataset_len] = curr_explanations"
   ]
  },
  {
   "cell_type": "code",
   "execution_count": null,
   "id": "f5e7cb55-7b9e-4991-a395-3f8f25120a06",
   "metadata": {
    "execution": {
     "iopub.execute_input": "2022-05-04T05:35:25.165884Z",
     "iopub.status.busy": "2022-05-04T05:35:25.165752Z",
     "iopub.status.idle": "2022-05-04T05:35:26.593326Z",
     "shell.execute_reply": "2022-05-04T05:35:26.592955Z",
     "shell.execute_reply.started": "2022-05-04T05:35:25.165867Z"
    },
    "tags": []
   },
   "outputs": [],
   "source": [
    "from eugene.utils.otx_enhancer_utils import otxGenomeTracks"
   ]
  },
  {
   "cell_type": "code",
   "execution_count": null,
   "id": "02a10f42-17e7-40ef-8600-5b91d533c771",
   "metadata": {
    "execution": {
     "iopub.execute_input": "2022-05-04T05:35:26.594114Z",
     "iopub.status.busy": "2022-05-04T05:35:26.593996Z",
     "iopub.status.idle": "2022-05-04T05:35:29.168443Z",
     "shell.execute_reply": "2022-05-04T05:35:29.168079Z",
     "shell.execute_reply.started": "2022-05-04T05:35:26.594097Z"
    },
    "tags": []
   },
   "outputs": [
    {
     "data": {
      "image/png": "[encoded data removed]",
      "text/plain": [
       "<Figure size 864x288 with 2 Axes>"
      ]
     },
     "metadata": {
      "needs_background": "light"
     },
     "output_type": "display_data"
    }
   ],
   "source": [
    "# Visualize the first example\n",
    "cmap = mpl.cm.RdYlGn\n",
    "norm = mpl.colors.Normalize(vmin=0, vmax=1)\n",
    "otxGenomeTracks(dataset.seqs[0], \n",
    "                importance_scores=all_explanations[0], \n",
    "                seq_name=dataset.names[0], \n",
    "                cmap=cmap, \n",
    "                norm=norm)"
   ]
  },
  {
   "cell_type": "code",
   "execution_count": null,
   "id": "89a063d4-093b-4781-9a7b-f75cb4a6054d",
   "metadata": {
    "execution": {
     "iopub.execute_input": "2022-05-04T05:26:22.130846Z",
     "iopub.status.busy": "2022-05-04T05:26:22.130620Z",
     "iopub.status.idle": "2022-05-04T05:26:23.747537Z",
     "shell.execute_reply": "2022-05-04T05:26:23.747043Z",
     "shell.execute_reply.started": "2022-05-04T05:26:22.130816Z"
    },
    "tags": []
   },
   "outputs": [],
   "source": [
    "from captum.attr import DeepLift\n",
    "def deeplift_explain(model, inputs, ref_type=\"zero\", target=None, device=\"cpu\"):\n",
    "    model.train()\n",
    "    model.to(device)\n",
    "    deep_lift = DeepLift(model)\n",
    "    forward_inputs = inputs[0].requires_grad_().to(device)\n",
    "    reverse_inputs = inputs[1].requires_grad_().to(device)\n",
    "    if ref_type == \"zero\":\n",
    "        forward_ref = torch.zeros(inputs[0].size()).to(device)\n",
    "        reverse_ref = torch.zeros(inputs[1].size()).to(device)\n",
    "    elif ref_type == \"shuffle\":\n",
    "        forward_shuffled = forward_inputs.detach().to(\"cpu\").squeeze(dim=0).numpy()\n",
    "        forward_shuffled = reverse_inputs.detach().to(\"cpu\").squeeze(dim=0).numpy()\n",
    "        forward_ref = torch.tensor(dinuc_shuffle(forward_shuffled)).unsqueeze(dim=0).requires_grad_().to(device)\n",
    "        reverse_ref = torch.tensor(dinuc_shuffle(reverse_ref)).unsqueeze(dim=0).requires_grad_().to(device)\n",
    "    elif ref_type == \"gc\":\n",
    "        ref = torch.tensor([0.3, 0.2, 0.2, 0.3]).expand(forward_inputs.size()[1], 4).unsqueeze(dim=0).to(device)\n",
    "    attrs = deep_lift.attribute(inputs=forward_inputs, baselines=forward_ref, additional_forward_args=reverse_inputs)\n",
    "    return attrs.to(\"cpu\").detach().numpy()"
   ]
  },
  {
   "cell_type": "code",
   "execution_count": null,
   "id": "327e371b-a728-4265-b24f-acf9fc8b0539",
   "metadata": {
    "execution": {
     "iopub.execute_input": "2022-05-04T05:30:42.088573Z",
     "iopub.status.busy": "2022-05-04T05:30:42.088428Z",
     "iopub.status.idle": "2022-05-04T05:30:43.128485Z",
     "shell.execute_reply": "2022-05-04T05:30:43.127964Z",
     "shell.execute_reply.started": "2022-05-04T05:30:42.088557Z"
    },
    "tags": []
   },
   "outputs": [],
   "source": [
    "inputs = (dataset[0][1], dataset[0][1])\n",
    "forward_inputs = inputs[0].requires_grad_().to(device)\n",
    "reverse_inputs = inputs[1].requires_grad_().to(device)\n",
    "dev_inputs = (forward_inputs, reverse_inputs)"
   ]
  },
  {
   "cell_type": "code",
   "execution_count": null,
   "id": "6bc26e1a-14ab-4e68-b9b4-5ba9fb101cd0",
   "metadata": {
    "execution": {
     "iopub.execute_input": "2022-05-04T05:34:15.460525Z",
     "iopub.status.busy": "2022-05-04T05:34:15.460355Z",
     "iopub.status.idle": "2022-05-04T05:34:16.740207Z",
     "shell.execute_reply": "2022-05-04T05:34:16.739677Z",
     "shell.execute_reply.started": "2022-05-04T05:34:15.460508Z"
    },
    "tags": []
   },
   "outputs": [
    {
     "ename": "ValueError",
     "evalue": "could not broadcast input array from shape (1024,37) into shape (1024,)",
     "output_type": "error",
     "traceback": [
      "\u001b[0;31m---------------------------------------------------------------------------\u001b[0m",
      "\u001b[0;31mValueError\u001b[0m                                Traceback (most recent call last)",
      "\u001b[0;32m<ipython-input-207-aaa32eb8a94b>\u001b[0m in \u001b[0;36m<module>\u001b[0;34m\u001b[0m\n\u001b[0;32m----> 1\u001b[0;31m \u001b[0mdeeplift_explain\u001b[0m\u001b[0;34m(\u001b[0m\u001b[0meugene\u001b[0m\u001b[0;34m,\u001b[0m \u001b[0;34m(\u001b[0m\u001b[0mdataset\u001b[0m\u001b[0;34m[\u001b[0m\u001b[0;34m:\u001b[0m\u001b[0;36m1024\u001b[0m\u001b[0;34m]\u001b[0m\u001b[0;34m[\u001b[0m\u001b[0;36m1\u001b[0m\u001b[0;34m]\u001b[0m\u001b[0;34m,\u001b[0m \u001b[0mdataset\u001b[0m\u001b[0;34m[\u001b[0m\u001b[0;34m:\u001b[0m\u001b[0;36m1024\u001b[0m\u001b[0;34m]\u001b[0m\u001b[0;34m[\u001b[0m\u001b[0;36m2\u001b[0m\u001b[0;34m]\u001b[0m\u001b[0;34m)\u001b[0m\u001b[0;34m,\u001b[0m \u001b[0mdevice\u001b[0m\u001b[0;34m=\u001b[0m\u001b[0mdevice\u001b[0m\u001b[0;34m)\u001b[0m\u001b[0;34m\u001b[0m\u001b[0;34m\u001b[0m\u001b[0m\n\u001b[0m",
      "\u001b[0;32m/mnt/beegfs/users/aklie/projects/EUGENE/eugene/dataloading/SeqDataset.py\u001b[0m in \u001b[0;36m__getitem__\u001b[0;34m(self, idx)\u001b[0m\n\u001b[1;32m     79\u001b[0m             \u001b[0mrev_seq\u001b[0m \u001b[0;34m=\u001b[0m \u001b[0mnp\u001b[0m\u001b[0;34m.\u001b[0m\u001b[0marray\u001b[0m\u001b[0;34m(\u001b[0m\u001b[0;34m[\u001b[0m\u001b[0;34m-\u001b[0m\u001b[0;36m1.0\u001b[0m\u001b[0;34m]\u001b[0m\u001b[0;34m)\u001b[0m\u001b[0;34m\u001b[0m\u001b[0;34m\u001b[0m\u001b[0m\n\u001b[1;32m     80\u001b[0m \u001b[0;34m\u001b[0m\u001b[0m\n\u001b[0;32m---> 81\u001b[0;31m         \u001b[0msample\u001b[0m \u001b[0;34m=\u001b[0m \u001b[0mnp\u001b[0m\u001b[0;34m.\u001b[0m\u001b[0marray\u001b[0m\u001b[0;34m(\u001b[0m\u001b[0;34m[\u001b[0m\u001b[0mname\u001b[0m\u001b[0;34m,\u001b[0m \u001b[0mseq\u001b[0m\u001b[0;34m,\u001b[0m \u001b[0mrev_seq\u001b[0m\u001b[0;34m,\u001b[0m \u001b[0mtarget\u001b[0m\u001b[0;34m]\u001b[0m\u001b[0;34m,\u001b[0m \u001b[0mdtype\u001b[0m\u001b[0;34m=\u001b[0m\u001b[0mobject\u001b[0m\u001b[0;34m)\u001b[0m\u001b[0;34m\u001b[0m\u001b[0;34m\u001b[0m\u001b[0m\n\u001b[0m\u001b[1;32m     82\u001b[0m \u001b[0;34m\u001b[0m\u001b[0m\n\u001b[1;32m     83\u001b[0m         \u001b[0;32mif\u001b[0m \u001b[0mself\u001b[0m\u001b[0;34m.\u001b[0m\u001b[0mtransform\u001b[0m\u001b[0;34m:\u001b[0m\u001b[0;34m\u001b[0m\u001b[0;34m\u001b[0m\u001b[0m\n",
      "\u001b[0;31mValueError\u001b[0m: could not broadcast input array from shape (1024,37) into shape (1024,)"
     ]
    }
   ],
   "source": [
    "deeplift_explain(eugene, (dataset[:1024][1], dataset[:1024][2]), device=device)"
   ]
  },
  {
   "cell_type": "code",
   "execution_count": null,
   "id": "78da52ce-8190-4485-ba5d-53af2bf5f92b",
   "metadata": {},
   "outputs": [],
   "source": []
  },
  {
   "cell_type": "markdown",
   "id": "e2afed57-8f5b-4ed9-a149-d7959a004e8f",
   "metadata": {},
   "source": [
    "# Penultimate activations"
   ]
  },
  {
   "cell_type": "markdown",
   "id": "5c0c4a45-0cd9-46af-a795-6989ca16a7df",
   "metadata": {},
   "source": [
    "# Repeat With Configs"
   ]
  },
  {
   "cell_type": "markdown",
   "id": "bc605263-99ee-4079-bff8-8ae2aee07cd6",
   "metadata": {},
   "source": [
    "## Load the config"
   ]
  },
  {
   "cell_type": "code",
   "execution_count": null,
   "id": "56655786-cb87-40a1-ab76-33031e680a1f",
   "metadata": {
    "execution": {
     "iopub.execute_input": "2022-05-04T05:11:17.210438Z",
     "iopub.status.busy": "2022-05-04T05:11:17.210170Z",
     "iopub.status.idle": "2022-05-04T05:11:18.772107Z",
     "shell.execute_reply": "2022-05-04T05:11:18.771694Z",
     "shell.execute_reply.started": "2022-05-04T05:11:17.210409Z"
    },
    "tags": []
   },
   "outputs": [],
   "source": [
    "import pytorch_lightning as pl\n",
    "from pytorch_lightning.utilities.cli import LightningArgumentParser\n",
    "from pytorch_lightning.loggers import TensorBoardLogger"
   ]
  },
  {
   "cell_type": "code",
   "execution_count": null,
   "id": "397d2add-6e60-492c-b5b1-9ddfe2b23eb5",
   "metadata": {
    "execution": {
     "iopub.execute_input": "2022-05-04T05:11:18.772861Z",
     "iopub.status.busy": "2022-05-04T05:11:18.772745Z",
     "iopub.status.idle": "2022-05-04T05:11:20.295974Z",
     "shell.execute_reply": "2022-05-04T05:11:20.295587Z",
     "shell.execute_reply.started": "2022-05-04T05:11:18.772845Z"
    },
    "tags": []
   },
   "outputs": [],
   "source": [
    "parser = LightningArgumentParser()\n",
    "parser.add_lightning_class_args(pl.Trainer, nested_key=\"trainer\")\n",
    "parser.add_lightning_class_args(SeqDataModule, nested_key=\"data\")\n",
    "parser.add_lightning_class_args(hybrid, nested_key=\"model\");"
   ]
  },
  {
   "cell_type": "code",
   "execution_count": null,
   "id": "35642519-03a9-415d-b43e-8389e22ce872",
   "metadata": {},
   "outputs": [],
   "source": [
    "config = \"/cellar/users/aklie/projects/EUGENE/config/data/2021_OLS_Library_Holdout_NPY-T_bin_clf.yaml\"\n",
    "yml = parser.parse_path(cfg_path=config)"
   ]
  },
  {
   "cell_type": "markdown",
   "id": "7376c187-69c7-4e35-ad69-8c8243b06cf8",
   "metadata": {},
   "source": [
    "## Use to load the data"
   ]
  },
  {
   "cell_type": "code",
   "execution_count": null,
   "id": "7cb45bc5-9301-497b-91b0-5da5c561cd15",
   "metadata": {
    "execution": {
     "iopub.execute_input": "2022-05-04T05:14:42.712925Z",
     "iopub.status.busy": "2022-05-04T05:14:42.712754Z",
     "iopub.status.idle": "2022-05-04T05:14:43.910722Z",
     "shell.execute_reply": "2022-05-04T05:14:43.910205Z",
     "shell.execute_reply.started": "2022-05-04T05:14:42.712907Z"
    }
   },
   "outputs": [],
   "source": [
    "from eugene.dataloading.SeqDataModule import SeqDataModule"
   ]
  },
  {
   "cell_type": "code",
   "execution_count": null,
   "id": "80fb5e90-5f95-4a9c-9af0-a3e898c58571",
   "metadata": {
    "execution": {
     "iopub.execute_input": "2022-05-04T05:11:20.296811Z",
     "iopub.status.busy": "2022-05-04T05:11:20.296650Z",
     "iopub.status.idle": "2022-05-04T05:11:27.071409Z",
     "shell.execute_reply": "2022-05-04T05:11:27.070990Z",
     "shell.execute_reply.started": "2022-05-04T05:11:20.296796Z"
    },
    "tags": []
   },
   "outputs": [],
   "source": [
    "mod = SeqDataModule(**yml[\"data\"])\n",
    "mod.setup()"
   ]
  },
  {
   "cell_type": "markdown",
   "id": "de006f90-3898-4532-8c10-23baa905b642",
   "metadata": {},
   "source": [
    "## Load up the model from checkpoint"
   ]
  },
  {
   "cell_type": "code",
   "execution_count": null,
   "id": "0b5ecf6c-0675-4f57-83db-a646da0285db",
   "metadata": {
    "execution": {
     "iopub.execute_input": "2022-05-04T05:14:24.760642Z",
     "iopub.status.busy": "2022-05-04T05:14:24.760461Z",
     "iopub.status.idle": "2022-05-04T05:14:26.383454Z",
     "shell.execute_reply": "2022-05-04T05:14:26.382962Z",
     "shell.execute_reply.started": "2022-05-04T05:14:24.760624Z"
    },
    "tags": []
   },
   "outputs": [],
   "source": [
    "from eugene.models.hybrid import hybrid"
   ]
  },
  {
   "cell_type": "code",
   "execution_count": null,
   "id": "866cd5d0-060c-4f1a-a573-beab5c2b6a87",
   "metadata": {
    "execution": {
     "iopub.execute_input": "2022-05-04T05:11:28.459934Z",
     "iopub.status.busy": "2022-05-04T05:11:28.459822Z",
     "iopub.status.idle": "2022-05-04T05:11:29.817999Z",
     "shell.execute_reply": "2022-05-04T05:11:29.817496Z",
     "shell.execute_reply.started": "2022-05-04T05:11:28.459919Z"
    },
    "tags": []
   },
   "outputs": [
    {
     "name": "stderr",
     "output_type": "stream",
     "text": [
      "/cellar/users/aklie/opt/miniconda3/envs/pytorch_dev/lib/python3.7/site-packages/torchmetrics/utilities/prints.py:36: UserWarning: Metric `AUROC` will save all targets and predictions in buffer. For large datasets this may lead to large memory footprint.\n",
      "  warnings.warn(*args, **kwargs)\n"
     ]
    }
   ],
   "source": [
    "CKT_PTH  = \"/cellar/users/aklie/projects/EUGENE/results/simple/classification/sshybrid/2022_04_23_NPY_Baseline/checkpoints/epoch=25-step=4523.ckpt\"\n",
    "device = torch.device('cuda' if torch.cuda.is_available() else 'cpu')\n",
    "eugene = hybrid.load_from_checkpoint(\n",
    "    checkpoint_path=CKT_PTH,\n",
    "    map_location=device,\n",
    ")"
   ]
  },
  {
   "cell_type": "code",
   "execution_count": null,
   "id": "1e04c3f9-224f-4a4d-9671-4a3b15f0a1ec",
   "metadata": {
    "execution": {
     "iopub.execute_input": "2022-05-04T02:58:49.560245Z",
     "iopub.status.busy": "2022-05-04T02:58:49.560062Z",
     "iopub.status.idle": "2022-05-04T02:58:51.138702Z",
     "shell.execute_reply": "2022-05-04T02:58:51.138214Z",
     "shell.execute_reply.started": "2022-05-04T02:58:49.560228Z"
    },
    "tags": []
   },
   "outputs": [],
   "source": [
    "from eugene.interpret.nn_explain import get_importances"
   ]
  },
  {
   "cell_type": "code",
   "execution_count": null,
   "id": "41939afc-0ca2-4835-b594-f8de1682b1ef",
   "metadata": {
    "execution": {
     "iopub.execute_input": "2022-05-04T05:12:03.226649Z",
     "iopub.status.busy": "2022-05-04T05:12:03.226410Z",
     "iopub.status.idle": "2022-05-04T05:12:09.720809Z",
     "shell.execute_reply": "2022-05-04T05:12:09.720309Z",
     "shell.execute_reply.started": "2022-05-04T05:12:03.226630Z"
    },
    "tags": []
   },
   "outputs": [],
   "source": [
    "dataloader = mod.test_dataloader()\n",
    "dataset = dataloader.dataset\n",
    "imp = get_importances(eugene, dataloader, device=device, batch_size=yml[\"data\"][\"batch_size\"])"
   ]
  },
  {
   "cell_type": "code",
   "execution_count": null,
   "id": "42d5be31-91f6-497b-97fc-4f806836353c",
   "metadata": {
    "execution": {
     "iopub.execute_input": "2022-05-04T04:44:34.125772Z",
     "iopub.status.busy": "2022-05-04T04:44:34.125600Z",
     "iopub.status.idle": "2022-05-04T04:44:35.797311Z",
     "shell.execute_reply": "2022-05-04T04:44:35.796857Z",
     "shell.execute_reply.started": "2022-05-04T04:44:34.125755Z"
    },
    "tags": []
   },
   "outputs": [],
   "source": [
    "from eugene.utils.seq_utils import one_hot2string"
   ]
  },
  {
   "cell_type": "code",
   "execution_count": null,
   "id": "6bbbd389-4974-4bf2-bce7-1230b1243de6",
   "metadata": {
    "execution": {
     "iopub.execute_input": "2022-05-04T04:48:39.638555Z",
     "iopub.status.busy": "2022-05-04T04:48:39.638385Z",
     "iopub.status.idle": "2022-05-04T04:48:44.760039Z",
     "shell.execute_reply": "2022-05-04T04:48:44.759542Z",
     "shell.execute_reply.started": "2022-05-04T04:48:39.638538Z"
    }
   },
   "outputs": [],
   "source": [
    "# Covert all the one hots to DNA sequence\n",
    "seqs = one_hot2string(dataset.seqs, [\"A\", \"C\", \"G\", \"T\"])"
   ]
  },
  {
   "cell_type": "code",
   "execution_count": null,
   "id": "341cd9d8-5232-4713-8df6-1dd203002403",
   "metadata": {
    "execution": {
     "iopub.execute_input": "2022-05-04T04:48:45.565572Z",
     "iopub.status.busy": "2022-05-04T04:48:45.565380Z",
     "iopub.status.idle": "2022-05-04T04:48:47.772694Z",
     "shell.execute_reply": "2022-05-04T04:48:47.772231Z",
     "shell.execute_reply.started": "2022-05-04T04:48:45.565556Z"
    },
    "tags": []
   },
   "outputs": [
    {
     "data": {
      "image/png": "[encoded data removed]",
      "text/plain": [
       "<Figure size 864x288 with 2 Axes>"
      ]
     },
     "metadata": {
      "needs_background": "light"
     },
     "output_type": "display_data"
    }
   ],
   "source": [
    "# Show one\n",
    "cmap = mpl.cm.RdYlGn\n",
    "norm = mpl.colors.Normalize(vmin=0, vmax=1)\n",
    "otxGenomeTracks(seqs[0], \n",
    "                importance_scores=imp[0], \n",
    "                seq_name=dataset.names[0], \n",
    "                cmap=cmap, \n",
    "                norm=norm)"
   ]
  },
  {
   "cell_type": "code",
   "execution_count": null,
   "id": "abe061cd-479c-428f-a615-e2fbae78eed8",
   "metadata": {},
   "outputs": [],
   "source": [
    "from eugene.utils.seq_utils import dinuc_shuffle\n",
    "from eugene.utils.seq_utils import dinuc_content"
   ]
  },
  {
   "cell_type": "code",
   "execution_count": null,
   "id": "5cca6018-8904-419d-9d0b-033678bfe858",
   "metadata": {
    "execution": {
     "iopub.execute_input": "2022-05-04T05:15:50.087892Z",
     "iopub.status.busy": "2022-05-04T05:15:50.087751Z",
     "iopub.status.idle": "2022-05-04T05:15:51.662738Z",
     "shell.execute_reply": "2022-05-04T05:15:51.662244Z",
     "shell.execute_reply.started": "2022-05-04T05:15:50.087875Z"
    },
    "tags": []
   },
   "outputs": [],
   "source": [
    "# Test example\n",
    "forward = dataset[0][1]\n",
    "reverse = dataset[0][2]\n",
    "inputs = np.array([forward.numpy().T, reverse.numpy().T])\n",
    "dna_seqs = one_hot2string(inputs, [\"A\", \"C\", \"G\", \"T\"])\n",
    "shuffled_inputs = np.array([dinuc_shuffle(forward.numpy().T), dinuc_shuffle(reverse.numpy().T)])\n",
    "shuffled_seqs = one_hot2string(shuffled_inputs, [\"A\", \"C\", \"G\", \"T\"])"
   ]
  },
  {
   "cell_type": "code",
   "execution_count": null,
   "id": "049cf28b-8721-40f6-899a-e77465558525",
   "metadata": {
    "execution": {
     "iopub.execute_input": "2022-05-04T05:15:57.722833Z",
     "iopub.status.busy": "2022-05-04T05:15:57.722621Z",
     "iopub.status.idle": "2022-05-04T05:15:59.332373Z",
     "shell.execute_reply": "2022-05-04T05:15:59.331882Z",
     "shell.execute_reply.started": "2022-05-04T05:15:57.722816Z"
    },
    "tags": []
   },
   "outputs": [
    {
     "data": {
      "text/plain": [
       "({'CA': 2,\n",
       "  'AT': 6,\n",
       "  'TC': 7,\n",
       "  'CT': 6,\n",
       "  'TG': 2,\n",
       "  'GA': 6,\n",
       "  'AA': 10,\n",
       "  'AG': 5,\n",
       "  'GC': 2,\n",
       "  'CG': 3,\n",
       "  'GT': 2,\n",
       "  'TT': 5,\n",
       "  'TA': 5,\n",
       "  'AC': 1,\n",
       "  'GG': 3},\n",
       " {'CG': 3,\n",
       "  'GC': 2,\n",
       "  'CA': 2,\n",
       "  'AA': 10,\n",
       "  'AT': 6,\n",
       "  'TT': 5,\n",
       "  'TC': 7,\n",
       "  'CT': 6,\n",
       "  'TA': 5,\n",
       "  'AC': 1,\n",
       "  'GA': 6,\n",
       "  'AG': 5,\n",
       "  'GT': 2,\n",
       "  'GG': 3,\n",
       "  'TG': 2})"
      ]
     },
     "execution_count": 165,
     "metadata": {},
     "output_type": "execute_result"
    }
   ],
   "source": [
    "dinuc_content(dna_seqs[0]), dinuc_content(shuffled_seqs[0])"
   ]
  },
  {
   "cell_type": "code",
   "execution_count": null,
   "id": "c62c4243-4940-44ab-99b4-463422051cd6",
   "metadata": {
    "execution": {
     "iopub.execute_input": "2022-05-04T05:17:17.317228Z",
     "iopub.status.busy": "2022-05-04T05:17:17.317048Z",
     "iopub.status.idle": "2022-05-04T05:17:18.789144Z",
     "shell.execute_reply": "2022-05-04T05:17:18.788700Z",
     "shell.execute_reply.started": "2022-05-04T05:17:17.317209Z"
    },
    "tags": []
   },
   "outputs": [
    {
     "data": {
      "text/plain": [
       "({'TC': 6,\n",
       "  'CC': 3,\n",
       "  'CT': 5,\n",
       "  'TA': 5,\n",
       "  'AT': 6,\n",
       "  'TT': 10,\n",
       "  'AG': 6,\n",
       "  'GA': 7,\n",
       "  'TG': 2,\n",
       "  'GC': 2,\n",
       "  'CA': 2,\n",
       "  'AA': 5,\n",
       "  'CG': 3,\n",
       "  'AC': 2,\n",
       "  'GT': 1},\n",
       " {'TT': 10,\n",
       "  'TA': 5,\n",
       "  'AG': 6,\n",
       "  'GA': 7,\n",
       "  'AA': 5,\n",
       "  'AT': 6,\n",
       "  'TC': 6,\n",
       "  'CT': 5,\n",
       "  'TG': 2,\n",
       "  'GT': 1,\n",
       "  'CC': 3,\n",
       "  'CG': 3,\n",
       "  'GC': 2,\n",
       "  'CA': 2,\n",
       "  'AC': 2})"
      ]
     },
     "execution_count": 166,
     "metadata": {},
     "output_type": "execute_result"
    }
   ],
   "source": [
    "dinuc_content(dna_seqs[1]), dinuc_content(shuffled_seqs[1])"
   ]
  },
  {
   "cell_type": "code",
   "execution_count": null,
   "id": "6bf7d864-79de-4003-8052-6b215d6d9687",
   "metadata": {},
   "outputs": [],
   "source": []
  },
  {
   "cell_type": "code",
   "execution_count": null,
   "id": "f459f02c-ad1e-4c58-b65c-28d60009b812",
   "metadata": {
    "execution": {
     "iopub.execute_input": "2022-05-04T04:51:08.483880Z",
     "iopub.status.busy": "2022-05-04T04:51:08.483752Z",
     "iopub.status.idle": "2022-05-04T04:51:10.449674Z",
     "shell.execute_reply": "2022-05-04T04:51:10.449188Z",
     "shell.execute_reply.started": "2022-05-04T04:51:08.483863Z"
    }
   },
   "outputs": [],
   "source": []
  },
  {
   "cell_type": "code",
   "execution_count": null,
   "id": "cba93b87-2adc-4ebd-afca-00ce04b84764",
   "metadata": {
    "execution": {
     "iopub.execute_input": "2022-05-04T04:51:17.087684Z",
     "iopub.status.busy": "2022-05-04T04:51:17.087466Z",
     "iopub.status.idle": "2022-05-04T04:51:19.025766Z",
     "shell.execute_reply": "2022-05-04T04:51:19.025324Z",
     "shell.execute_reply.started": "2022-05-04T04:51:17.087668Z"
    }
   },
   "outputs": [
    {
     "data": {
      "text/plain": [
       "hybrid(\n",
       "  (convnet): BasicConv1D(\n",
       "    (module): Sequential(\n",
       "      (0): Conv1d(4, 32, kernel_size=(15,), stride=(1,))\n",
       "      (1): ReLU(inplace=True)\n",
       "      (2): MaxPool1d(kernel_size=2, stride=2, padding=0, dilation=1, ceil_mode=False)\n",
       "      (3): Dropout(p=0.2, inplace=False)\n",
       "      (4): BatchNorm1d(32, eps=1e-05, momentum=0.1, affine=True, track_running_stats=True)\n",
       "      (5): Conv1d(32, 64, kernel_size=(5,), stride=(1,))\n",
       "      (6): ReLU(inplace=True)\n",
       "      (7): MaxPool1d(kernel_size=1, stride=1, padding=0, dilation=1, ceil_mode=False)\n",
       "      (8): Dropout(p=0.2, inplace=False)\n",
       "      (9): BatchNorm1d(64, eps=1e-05, momentum=0.1, affine=True, track_running_stats=True)\n",
       "    )\n",
       "  )\n",
       "  (recurrentnet): BasicRecurrent(\n",
       "    (module): LSTM(64, 64, batch_first=True)\n",
       "  )\n",
       "  (fcnet): BasicFullyConnectedModule(\n",
       "    (module): Sequential(\n",
       "      (0): Linear(in_features=64, out_features=32, bias=True)\n",
       "      (1): ReLU(inplace=True)\n",
       "      (2): Dropout(p=0.2, inplace=False)\n",
       "      (3): BatchNorm1d(32, eps=1e-05, momentum=0.1, affine=True, track_running_stats=True)\n",
       "      (4): Linear(in_features=32, out_features=1, bias=True)\n",
       "    )\n",
       "  )\n",
       "  (accuracy): Accuracy()\n",
       "  (auroc): AUROC()\n",
       ")"
      ]
     },
     "execution_count": 92,
     "metadata": {},
     "output_type": "execute_result"
    }
   ],
   "source": [
    "eugene.train()"
   ]
  },
  {
   "cell_type": "code",
   "execution_count": null,
   "id": "67da03ec-289e-420c-9a35-2be3df106864",
   "metadata": {
    "execution": {
     "iopub.execute_input": "2022-05-04T04:51:23.087752Z",
     "iopub.status.busy": "2022-05-04T04:51:23.087591Z",
     "iopub.status.idle": "2022-05-04T04:51:25.081572Z",
     "shell.execute_reply": "2022-05-04T04:51:25.081133Z",
     "shell.execute_reply.started": "2022-05-04T04:51:23.087735Z"
    }
   },
   "outputs": [
    {
     "data": {
      "text/plain": [
       "hybrid(\n",
       "  (convnet): BasicConv1D(\n",
       "    (module): Sequential(\n",
       "      (0): Conv1d(4, 32, kernel_size=(15,), stride=(1,))\n",
       "      (1): ReLU(inplace=True)\n",
       "      (2): MaxPool1d(kernel_size=2, stride=2, padding=0, dilation=1, ceil_mode=False)\n",
       "      (3): Dropout(p=0.2, inplace=False)\n",
       "      (4): BatchNorm1d(32, eps=1e-05, momentum=0.1, affine=True, track_running_stats=True)\n",
       "      (5): Conv1d(32, 64, kernel_size=(5,), stride=(1,))\n",
       "      (6): ReLU(inplace=True)\n",
       "      (7): MaxPool1d(kernel_size=1, stride=1, padding=0, dilation=1, ceil_mode=False)\n",
       "      (8): Dropout(p=0.2, inplace=False)\n",
       "      (9): BatchNorm1d(64, eps=1e-05, momentum=0.1, affine=True, track_running_stats=True)\n",
       "    )\n",
       "  )\n",
       "  (recurrentnet): BasicRecurrent(\n",
       "    (module): LSTM(64, 64, batch_first=True)\n",
       "  )\n",
       "  (fcnet): BasicFullyConnectedModule(\n",
       "    (module): Sequential(\n",
       "      (0): Linear(in_features=64, out_features=32, bias=True)\n",
       "      (1): ReLU(inplace=True)\n",
       "      (2): Dropout(p=0.2, inplace=False)\n",
       "      (3): BatchNorm1d(32, eps=1e-05, momentum=0.1, affine=True, track_running_stats=True)\n",
       "      (4): Linear(in_features=32, out_features=1, bias=True)\n",
       "    )\n",
       "  )\n",
       "  (accuracy): Accuracy()\n",
       "  (auroc): AUROC()\n",
       ")"
      ]
     },
     "execution_count": 93,
     "metadata": {},
     "output_type": "execute_result"
    }
   ],
   "source": [
    "eugene.to(device)"
   ]
  },
  {
   "cell_type": "code",
   "execution_count": null,
   "id": "8b58da1c-8a9a-4804-94ce-92c22b5d8ed4",
   "metadata": {
    "execution": {
     "iopub.execute_input": "2022-05-04T19:18:32.404732Z",
     "iopub.status.busy": "2022-05-04T19:18:32.404462Z",
     "iopub.status.idle": "2022-05-04T19:18:33.516071Z",
     "shell.execute_reply": "2022-05-04T19:18:33.515481Z",
     "shell.execute_reply.started": "2022-05-04T19:18:32.404704Z"
    }
   },
   "outputs": [],
   "source": [
    "def load_from_pl_ckt(ckt_pth, model_type):\n",
    "    if model_type in [\"fcn\", \"cnn\", \"rnn\"]:\n",
    "        module = getattr(importlib.import_module(f\"eugene.models.{model}\"), model.upper())\n",
    "    else:\n",
    "        module = getattr(importlib.import_module(f\"eugene.models.{model.lower}\"), model.lower())\n",
    "    model = hybrid.load_from_checkpoint(checkpoint_path=ckt_pth, map_location=device)\n",
    "    return model"
   ]
  },
  {
   "cell_type": "code",
   "execution_count": null,
   "id": "87f9b4f6-ae5a-4624-be2e-b185c915cb58",
   "metadata": {
    "execution": {
     "iopub.execute_input": "2022-05-04T19:18:45.137933Z",
     "iopub.status.busy": "2022-05-04T19:18:45.137792Z",
     "iopub.status.idle": "2022-05-04T19:18:46.147961Z",
     "shell.execute_reply": "2022-05-04T19:18:46.147560Z",
     "shell.execute_reply.started": "2022-05-04T19:18:45.137917Z"
    },
    "tags": []
   },
   "outputs": [],
   "source": [
    "model = \"hybrid\""
   ]
  },
  {
   "cell_type": "code",
   "execution_count": null,
   "id": "5f825320-1631-4275-ab29-6f49891a878b",
   "metadata": {
    "execution": {
     "iopub.execute_input": "2022-05-04T19:18:46.148832Z",
     "iopub.status.busy": "2022-05-04T19:18:46.148705Z",
     "iopub.status.idle": "2022-05-04T19:18:47.196973Z",
     "shell.execute_reply": "2022-05-04T19:18:47.196593Z",
     "shell.execute_reply.started": "2022-05-04T19:18:46.148815Z"
    },
    "tags": []
   },
   "outputs": [],
   "source": [
    "import importlib"
   ]
  },
  {
   "cell_type": "code",
   "execution_count": null,
   "id": "883da312-bea3-4b6f-b0ef-c77b6529867d",
   "metadata": {
    "execution": {
     "iopub.execute_input": "2022-05-04T19:19:06.551923Z",
     "iopub.status.busy": "2022-05-04T19:19:06.551718Z",
     "iopub.status.idle": "2022-05-04T19:19:07.494906Z",
     "shell.execute_reply": "2022-05-04T19:19:07.494487Z",
     "shell.execute_reply.started": "2022-05-04T19:19:06.551905Z"
    },
    "tags": []
   },
   "outputs": [],
   "source": [
    "module = getattr(importlib.import_module(f\"eugene.models.{model.lower()}\"), model.lower())"
   ]
  },
  {
   "cell_type": "code",
   "execution_count": null,
   "id": "d3b150c1-2f33-4735-ad95-884cfb1948c7",
   "metadata": {
    "execution": {
     "iopub.execute_input": "2022-05-04T19:19:29.138926Z",
     "iopub.status.busy": "2022-05-04T19:19:29.138748Z",
     "iopub.status.idle": "2022-05-04T19:19:30.044749Z",
     "shell.execute_reply": "2022-05-04T19:19:30.044360Z",
     "shell.execute_reply.started": "2022-05-04T19:19:29.138909Z"
    },
    "tags": []
   },
   "outputs": [],
   "source": [
    "ckt_pth = \"/cellar/users/aklie/projects/EUGENE/results/simple/classification/sshybrid/2022_04_23_NPY_Baseline/checkpoints/epoch=25-step=4523.ckpt\""
   ]
  },
  {
   "cell_type": "code",
   "execution_count": null,
   "id": "2587dade-c819-4b5b-98e1-73e0bef0d1cd",
   "metadata": {
    "execution": {
     "iopub.execute_input": "2022-05-04T19:19:31.256255Z",
     "iopub.status.busy": "2022-05-04T19:19:31.256093Z",
     "iopub.status.idle": "2022-05-04T19:19:32.609165Z",
     "shell.execute_reply": "2022-05-04T19:19:32.608791Z",
     "shell.execute_reply.started": "2022-05-04T19:19:31.256238Z"
    },
    "tags": []
   },
   "outputs": [
    {
     "name": "stderr",
     "output_type": "stream",
     "text": [
      "/cellar/users/aklie/opt/miniconda3/envs/pytorch_dev/lib/python3.7/site-packages/torchmetrics/utilities/prints.py:36: UserWarning: Metric `AUROC` will save all targets and predictions in buffer. For large datasets this may lead to large memory footprint.\n",
      "  warnings.warn(*args, **kwargs)\n"
     ]
    },
    {
     "data": {
      "text/plain": [
       "hybrid(\n",
       "  (convnet): BasicConv1D(\n",
       "    (module): Sequential(\n",
       "      (0): Conv1d(4, 32, kernel_size=(15,), stride=(1,))\n",
       "      (1): ReLU(inplace=True)\n",
       "      (2): MaxPool1d(kernel_size=2, stride=2, padding=0, dilation=1, ceil_mode=False)\n",
       "      (3): Dropout(p=0.2, inplace=False)\n",
       "      (4): BatchNorm1d(32, eps=1e-05, momentum=0.1, affine=True, track_running_stats=True)\n",
       "      (5): Conv1d(32, 64, kernel_size=(5,), stride=(1,))\n",
       "      (6): ReLU(inplace=True)\n",
       "      (7): MaxPool1d(kernel_size=1, stride=1, padding=0, dilation=1, ceil_mode=False)\n",
       "      (8): Dropout(p=0.2, inplace=False)\n",
       "      (9): BatchNorm1d(64, eps=1e-05, momentum=0.1, affine=True, track_running_stats=True)\n",
       "    )\n",
       "  )\n",
       "  (recurrentnet): BasicRecurrent(\n",
       "    (module): LSTM(64, 64, batch_first=True)\n",
       "  )\n",
       "  (fcnet): BasicFullyConnectedModule(\n",
       "    (module): Sequential(\n",
       "      (0): Linear(in_features=64, out_features=32, bias=True)\n",
       "      (1): ReLU(inplace=True)\n",
       "      (2): Dropout(p=0.2, inplace=False)\n",
       "      (3): BatchNorm1d(32, eps=1e-05, momentum=0.1, affine=True, track_running_stats=True)\n",
       "      (4): Linear(in_features=32, out_features=1, bias=True)\n",
       "    )\n",
       "  )\n",
       "  (accuracy): Accuracy()\n",
       "  (auroc): AUROC()\n",
       ")"
      ]
     },
     "execution_count": 51,
     "metadata": {},
     "output_type": "execute_result"
    }
   ],
   "source": [
    "module.load_from_checkpoint(checkpoint_path=ckt_pth, map_location=\"cuda\")"
   ]
  },
  {
   "cell_type": "markdown",
   "id": "748e0502",
   "metadata": {},
   "source": [
    "# References"
   ]
  }
 ],
 "metadata": {
  "kernelspec": {
   "display_name": "Python 3.7.12 ('eugene')",
   "language": "python",
   "name": "python3"
  },
  "language_info": {
   "codemirror_mode": {
    "name": "ipython",
    "version": 3
   },
   "file_extension": ".py",
   "mimetype": "text/x-python",
   "name": "python",
   "nbconvert_exporter": "python",
   "pygments_lexer": "ipython3",
   "version": "3.7.12"
  },
  "vscode": {
   "interpreter": {
    "hash": "1330bbbf2c4cf53098ef1254540d5dd54a9d501f0408fea1c04a20872667b797"
   }
  }
 },
 "nbformat": 4,
 "nbformat_minor": 5
}

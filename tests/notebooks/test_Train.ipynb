{
 "cells": [
  {
   "cell_type": "markdown",
   "id": "47cc2c48",
   "metadata": {},
   "source": [
    "# Testing EUGENE `train` module"
   ]
  },
  {
   "cell_type": "markdown",
   "id": "3b1880c3",
   "metadata": {
    "tags": []
   },
   "source": [
    "**Authorship:**\n",
    "Adam Klie, *03/19/2022*\n",
    "***\n",
    "**Description:**\n",
    "Notebook for testing the training of EUGENE architectures"
   ]
  },
  {
   "cell_type": "markdown",
   "id": "599007ce",
   "metadata": {},
   "source": [
    "<div class=\"alert alert-block alert-warning\">\n",
    "<b>TODOs</b>:\n",
    "<ul>\n",
    "    <b><li></li></b>\n",
    "    </ul>\n",
    "</div>"
   ]
  },
  {
   "cell_type": "markdown",
   "id": "41832ecc-a51e-4311-9372-b4a1ffb40139",
   "metadata": {},
   "source": [
    "# Set-up"
   ]
  },
  {
   "cell_type": "code",
   "execution_count": 1,
   "id": "1dd9ef33",
   "metadata": {
    "execution": {
     "iopub.execute_input": "2022-05-06T18:26:27.475241Z",
     "iopub.status.busy": "2022-05-06T18:26:27.475074Z",
     "iopub.status.idle": "2022-05-06T18:26:29.650302Z",
     "shell.execute_reply": "2022-05-06T18:26:29.649905Z",
     "shell.execute_reply.started": "2022-05-06T18:26:27.475197Z"
    },
    "tags": []
   },
   "outputs": [],
   "source": [
    "import numpy as np\n",
    "import pandas as pd\n",
    "\n",
    "# Autoreload extension\n",
    "if 'autoreload' not in get_ipython().extension_manager.loaded:\n",
    "    %load_ext autoreload\n",
    "%autoreload 2"
   ]
  },
  {
   "cell_type": "code",
   "execution_count": 2,
   "id": "bf8a26fe-0272-4533-b8cc-7a3c8e532ff0",
   "metadata": {
    "execution": {
     "iopub.execute_input": "2022-05-06T18:26:29.651097Z",
     "iopub.status.busy": "2022-05-06T18:26:29.650981Z",
     "iopub.status.idle": "2022-05-06T18:26:41.171910Z",
     "shell.execute_reply": "2022-05-06T18:26:41.171392Z",
     "shell.execute_reply.started": "2022-05-06T18:26:29.651081Z"
    },
    "tags": []
   },
   "outputs": [
    {
     "name": "stderr",
     "output_type": "stream",
     "text": [
      "Global seed set to 13\n"
     ]
    }
   ],
   "source": [
    "import eugene as eu"
   ]
  },
  {
   "cell_type": "markdown",
   "id": "e5602c89-ac01-44be-9d44-91eff5453329",
   "metadata": {
    "tags": []
   },
   "source": [
    "# Benchmark params"
   ]
  },
  {
   "cell_type": "code",
   "execution_count": 3,
   "id": "a77e6ace-4cc4-41e9-891d-64d529435978",
   "metadata": {
    "execution": {
     "iopub.execute_input": "2022-05-06T18:26:41.172953Z",
     "iopub.status.busy": "2022-05-06T18:26:41.172831Z",
     "iopub.status.idle": "2022-05-06T18:26:42.679523Z",
     "shell.execute_reply": "2022-05-06T18:26:42.679135Z",
     "shell.execute_reply.started": "2022-05-06T18:26:41.172937Z"
    },
    "tags": []
   },
   "outputs": [],
   "source": [
    "BATCH_SIZE = 32\n",
    "NUM_SEQS = 1000\n",
    "SEQ_LEN = 66\n",
    "NUM_WORKERS = 0"
   ]
  },
  {
   "cell_type": "code",
   "execution_count": 4,
   "id": "81191c28-36aa-416a-a8d3-5190ce272b11",
   "metadata": {
    "execution": {
     "iopub.execute_input": "2022-05-06T18:26:42.681121Z",
     "iopub.status.busy": "2022-05-06T18:26:42.681014Z",
     "iopub.status.idle": "2022-05-06T18:26:44.268176Z",
     "shell.execute_reply": "2022-05-06T18:26:44.267654Z",
     "shell.execute_reply.started": "2022-05-06T18:26:42.681106Z"
    },
    "tags": []
   },
   "outputs": [],
   "source": [
    "CNN_KWARGS=dict(channels=[4, 16, 32], \n",
    "                conv_kernels=[15, 5], \n",
    "                pool_kernels=[1, 1])\n",
    "RNN_KWARGS=dict(output_dim=32,\n",
    "                bidirectional=True,\n",
    "                batch_first=True)\n",
    "FCN_KWARGS=dict(hidden_dims=[50], \n",
    "                output_dim=1)"
   ]
  },
  {
   "cell_type": "code",
   "execution_count": 54,
   "id": "582d6abc-dc11-45f4-9fd7-85c694537079",
   "metadata": {
    "execution": {
     "iopub.execute_input": "2022-05-06T18:26:56.290369Z",
     "iopub.status.busy": "2022-05-06T18:26:56.290185Z",
     "iopub.status.idle": "2022-05-06T18:26:57.625691Z",
     "shell.execute_reply": "2022-05-06T18:26:57.625302Z",
     "shell.execute_reply.started": "2022-05-06T18:26:56.290351Z"
    },
    "tags": []
   },
   "outputs": [],
   "source": [
    "MODEL = \"hybrid\"\n",
    "STRAND = \"ss\"\n",
    "TASK = \"regression\""
   ]
  },
  {
   "cell_type": "markdown",
   "id": "5aa43cca-9ceb-4c6e-be78-4e73569d1331",
   "metadata": {
    "tags": []
   },
   "source": [
    "# Instantiate model"
   ]
  },
  {
   "cell_type": "code",
   "execution_count": 55,
   "id": "4a3a2ee4-f870-4adb-97a7-9e0916342908",
   "metadata": {
    "execution": {
     "iopub.execute_input": "2022-05-06T18:29:05.441088Z",
     "iopub.status.busy": "2022-05-06T18:29:05.440972Z",
     "iopub.status.idle": "2022-05-06T18:29:06.555265Z",
     "shell.execute_reply": "2022-05-06T18:29:06.554824Z",
     "shell.execute_reply.started": "2022-05-06T18:29:05.441072Z"
    },
    "tags": []
   },
   "outputs": [
    {
     "data": {
      "text/plain": [
       "Hybrid(\n",
       "  (convnet): BasicConv1D(\n",
       "    (module): Sequential(\n",
       "      (0): Conv1d(4, 16, kernel_size=(15,), stride=(1,))\n",
       "      (1): ReLU(inplace=True)\n",
       "      (2): MaxPool1d(kernel_size=1, stride=1, padding=0, dilation=1, ceil_mode=False)\n",
       "      (3): Conv1d(16, 32, kernel_size=(5,), stride=(1,))\n",
       "      (4): ReLU(inplace=True)\n",
       "      (5): MaxPool1d(kernel_size=1, stride=1, padding=0, dilation=1, ceil_mode=False)\n",
       "    )\n",
       "  )\n",
       "  (recurrentnet): BasicRecurrent(\n",
       "    (module): LSTM(32, 32, batch_first=True, bidirectional=True)\n",
       "  )\n",
       "  (fcnet): BasicFullyConnectedModule(\n",
       "    (module): Sequential(\n",
       "      (0): Linear(in_features=64, out_features=50, bias=True)\n",
       "      (1): ReLU(inplace=True)\n",
       "      (2): Linear(in_features=50, out_features=1, bias=True)\n",
       "    )\n",
       "  )\n",
       "  (r_squared): R2Score()\n",
       ")"
      ]
     },
     "execution_count": 55,
     "metadata": {},
     "output_type": "execute_result"
    }
   ],
   "source": [
    "eugene = eu.models.Hybrid(input_len=66,\n",
    "strand=STRAND,\n",
    "task=TASK,\n",
    "conv_kwargs=CNN_KWARGS,\n",
    "rnn_kwargs=RNN_KWARGS,\n",
    "fc_kwargs=FCN_KWARGS)\n",
    "eugene"
   ]
  },
  {
   "cell_type": "code",
   "execution_count": 56,
   "id": "d4c72b58",
   "metadata": {},
   "outputs": [],
   "source": [
    "eu.models.base.init_weights(eugene)"
   ]
  },
  {
   "cell_type": "markdown",
   "id": "8708d86e-0cc1-4c5d-b929-f8f2849a2373",
   "metadata": {
    "tags": []
   },
   "source": [
    "# Load data"
   ]
  },
  {
   "cell_type": "code",
   "execution_count": 57,
   "id": "a6d4870e",
   "metadata": {},
   "outputs": [
    {
     "data": {
      "text/plain": [
       "SeqData object with = 1000 seqs\n",
       "seqs = (1000,)\n",
       "names = (1000,)\n",
       "rev_seqs = None\n",
       "ohe_seqs = None\n",
       "ohe_rev_seqs = None\n",
       "    seqs_annot: 'TARGETS'"
      ]
     },
     "execution_count": 57,
     "metadata": {},
     "output_type": "execute_result"
    }
   ],
   "source": [
    "sdata = eu.datasets.random1000()\n",
    "sdata"
   ]
  },
  {
   "cell_type": "code",
   "execution_count": 58,
   "id": "9a1f909d",
   "metadata": {},
   "outputs": [
    {
     "data": {
      "text/plain": [
       "torch.Size([4, 66])"
      ]
     },
     "execution_count": 58,
     "metadata": {},
     "output_type": "execute_result"
    }
   ],
   "source": [
    "sdataset = sdata.to_dataset(label=\"TARGETS\", seq_transforms=[\"one_hot_encode\"], transform_kwargs={\"transpose\": True})\n",
    "sdataset[0][1].shape"
   ]
  },
  {
   "cell_type": "code",
   "execution_count": 59,
   "id": "59e8052e",
   "metadata": {},
   "outputs": [],
   "source": [
    "sdataloader = sdataset.to_dataloader(batch_size=BATCH_SIZE, num_workers=NUM_WORKERS)"
   ]
  },
  {
   "cell_type": "markdown",
   "id": "b3689b57-de7f-4104-8042-ae93f1893501",
   "metadata": {
    "tags": []
   },
   "source": [
    "# Train (and time) with PyTorch Lightning"
   ]
  },
  {
   "cell_type": "code",
   "execution_count": 60,
   "id": "699c2485-0150-4f77-90a3-b01aaf2412b9",
   "metadata": {
    "execution": {
     "iopub.execute_input": "2022-05-06T18:40:28.305279Z",
     "iopub.status.busy": "2022-05-06T18:40:28.305152Z",
     "iopub.status.idle": "2022-05-06T18:40:29.965626Z",
     "shell.execute_reply": "2022-05-06T18:40:29.965188Z",
     "shell.execute_reply.started": "2022-05-06T18:40:28.305263Z"
    },
    "tags": []
   },
   "outputs": [],
   "source": [
    "import pytorch_lightning as pl\n",
    "from pytorch_lightning.loggers import TensorBoardLogger"
   ]
  },
  {
   "cell_type": "code",
   "execution_count": 63,
   "id": "882a534b-1b80-4bba-9e60-5cab157f80f5",
   "metadata": {
    "execution": {
     "iopub.execute_input": "2022-05-06T18:40:29.966301Z",
     "iopub.status.busy": "2022-05-06T18:40:29.966183Z",
     "iopub.status.idle": "2022-05-06T18:40:31.580640Z",
     "shell.execute_reply": "2022-05-06T18:40:31.580304Z",
     "shell.execute_reply.started": "2022-05-06T18:40:29.966286Z"
    },
    "tags": []
   },
   "outputs": [
    {
     "name": "stderr",
     "output_type": "stream",
     "text": [
      "GPU available: False, used: False\n",
      "TPU available: False, using: 0 TPU cores\n",
      "IPU available: False, using: 0 IPUs\n"
     ]
    }
   ],
   "source": [
    "LOG_DIR = f\"../_logs/batch_size-{BATCH_SIZE}.num_workers-{NUM_WORKERS}.num_seq-{NUM_SEQS}.seq_len-{SEQ_LEN}\"\n",
    "logger = TensorBoardLogger(LOG_DIR, name=MODEL, version=f\"{STRAND}_{TASK}\")\n",
    "trainer = pl.Trainer(max_epochs=10, logger=logger)"
   ]
  },
  {
   "cell_type": "code",
   "execution_count": 64,
   "id": "eb52d3ed",
   "metadata": {},
   "outputs": [
    {
     "name": "stderr",
     "output_type": "stream",
     "text": [
      "\n",
      "  | Name         | Type                      | Params\n",
      "-----------------------------------------------------------\n",
      "0 | convnet      | BasicConv1D               | 3.6 K \n",
      "1 | recurrentnet | BasicRecurrent            | 16.9 K\n",
      "2 | fcnet        | BasicFullyConnectedModule | 3.3 K \n",
      "3 | r_squared    | R2Score                   | 0     \n",
      "-----------------------------------------------------------\n",
      "23.8 K    Trainable params\n",
      "0         Non-trainable params\n",
      "23.8 K    Total params\n",
      "0.095     Total estimated model params size (MB)\n"
     ]
    },
    {
     "data": {
      "application/vnd.jupyter.widget-view+json": {
       "model_id": "ae7b8c4cb5274f69a9cbdb18e0485d5b",
       "version_major": 2,
       "version_minor": 0
      },
      "text/plain": [
       "Training: 0it [00:00, ?it/s]"
      ]
     },
     "metadata": {},
     "output_type": "display_data"
    }
   ],
   "source": [
    "trainer.fit(eugene, sdataloader)"
   ]
  },
  {
   "cell_type": "markdown",
   "id": "24527bb0",
   "metadata": {},
   "source": [
    "---"
   ]
  },
  {
   "cell_type": "markdown",
   "id": "23b15b0e-0b7b-4791-9806-04ff888bb49f",
   "metadata": {
    "tags": []
   },
   "source": [
    "# Scratch"
   ]
  }
 ],
 "metadata": {
  "kernelspec": {
   "display_name": "Python 3.7.12 ('eugene')",
   "language": "python",
   "name": "python3"
  },
  "language_info": {
   "codemirror_mode": {
    "name": "ipython",
    "version": 3
   },
   "file_extension": ".py",
   "mimetype": "text/x-python",
   "name": "python",
   "nbconvert_exporter": "python",
   "pygments_lexer": "ipython3",
   "version": "3.7.12"
  },
  "vscode": {
   "interpreter": {
    "hash": "1330bbbf2c4cf53098ef1254540d5dd54a9d501f0408fea1c04a20872667b797"
   }
  }
 },
 "nbformat": 4,
 "nbformat_minor": 5
}

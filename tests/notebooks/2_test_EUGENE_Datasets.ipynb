{
 "cells": [
  {
   "cell_type": "markdown",
   "id": "90a88efe-ebb3-424c-8704-fb4ee189af2c",
   "metadata": {},
   "source": [
    "# Testing `eugene.dataset` Module "
   ]
  },
  {
   "cell_type": "markdown",
   "id": "2d058003-a667-4b45-9ddc-e47efe48e0e1",
   "metadata": {
    "tags": []
   },
   "source": [
    "**Authorship:**\n",
    "Adam Klie, *06/23/2022*\n",
    "***\n",
    "**Description:**\n",
    "Notebook to test the `dataset` module of the `eugene` package\n",
    "***\n",
    "<div class=\"alert alert-block alert-warning\">\n",
    "<b>TODOs</b>:\n",
    "<ul>\n",
    "    <b><li></li></b>\n",
    "    <b><li></li></b>\n",
    "    <b><li></li></b>\n",
    "    </ul>\n",
    "</div>"
   ]
  },
  {
   "cell_type": "markdown",
   "id": "a2a2c4a5-1dac-4dce-8e87-cb83f07de4c3",
   "metadata": {
    "execution": {
     "iopub.execute_input": "2021-09-05T21:21:18.602440Z",
     "iopub.status.busy": "2021-09-05T21:21:18.602151Z",
     "iopub.status.idle": "2021-09-05T21:21:18.606439Z",
     "shell.execute_reply": "2021-09-05T21:21:18.605256Z",
     "shell.execute_reply.started": "2021-09-05T21:21:18.602409Z"
    },
    "tags": []
   },
   "source": [
    "# Set-up"
   ]
  },
  {
   "cell_type": "code",
   "execution_count": 19,
   "id": "3ebaff6f",
   "metadata": {
    "execution": {
     "iopub.execute_input": "2022-06-22T21:40:50.734456Z",
     "iopub.status.busy": "2022-06-22T21:40:50.734315Z",
     "iopub.status.idle": "2022-06-22T21:40:55.752826Z",
     "shell.execute_reply": "2022-06-22T21:40:55.752465Z",
     "shell.execute_reply.started": "2022-06-22T21:40:50.734412Z"
    },
    "tags": []
   },
   "outputs": [
    {
     "data": {
      "text/plain": [
       "'0.0.0'"
      ]
     },
     "execution_count": 19,
     "metadata": {},
     "output_type": "execute_result"
    }
   ],
   "source": [
    "# The classics\n",
    "import pandas as pd\n",
    "import numpy as np\n",
    "\n",
    "# Autoreload extension\n",
    "if 'autoreload' not in get_ipython().extension_manager.loaded:\n",
    "    %load_ext autoreload\n",
    "%autoreload 2\n",
    "\n",
    "# Basic import\n",
    "import eugene\n",
    "eugene.__version__"
   ]
  },
  {
   "cell_type": "markdown",
   "id": "615c8f51",
   "metadata": {},
   "source": [
    "# Generation and Manipulation of Random Datasets"
   ]
  },
  {
   "cell_type": "code",
   "execution_count": 22,
   "id": "b2996c8c",
   "metadata": {},
   "outputs": [],
   "source": [
    "eugene.datasets.generate_random_data(num_seqs=100, seq_len=66, out_dir=\"/cellar/users/aklie/data/eugene/random_datasets\")"
   ]
  },
  {
   "cell_type": "code",
   "execution_count": 35,
   "id": "aa47b214",
   "metadata": {},
   "outputs": [
    {
     "name": "stdout",
     "output_type": "stream",
     "text": [
      "/cellar/users/aklie/data/eugene/random_datasets\n",
      "└── random100seqs_66bp\n",
      "    ├── random_activities.npy\n",
      "    ├── random_ids.npy\n",
      "    ├── random_labels.npy\n",
      "    ├── random_ohe_seqs.npy\n",
      "    ├── random_rev_ohe_seqs.npy\n",
      "    ├── random_rev_seqs.npy\n",
      "    ├── random_seqs.fa\n",
      "    ├── random_seqs.npy\n",
      "    └── random_seqs.tsv\n",
      "\n",
      "1 directory, 9 files\n"
     ]
    }
   ],
   "source": [
    "!tree -L 2 \"/cellar/users/aklie/data/eugene/random_datasets\""
   ]
  },
  {
   "cell_type": "markdown",
   "id": "90fc08ae",
   "metadata": {},
   "source": [
    "# Loading of Preprocessed Datasets"
   ]
  },
  {
   "cell_type": "code",
   "execution_count": 32,
   "id": "d39b5026",
   "metadata": {},
   "outputs": [
    {
     "data": {
      "text/html": [
       "<div>\n",
       "<style scoped>\n",
       "    .dataframe tbody tr th:only-of-type {\n",
       "        vertical-align: middle;\n",
       "    }\n",
       "\n",
       "    .dataframe tbody tr th {\n",
       "        vertical-align: top;\n",
       "    }\n",
       "\n",
       "    .dataframe thead th {\n",
       "        text-align: right;\n",
       "    }\n",
       "</style>\n",
       "<table border=\"1\" class=\"dataframe\">\n",
       "  <thead>\n",
       "    <tr style=\"text-align: right;\">\n",
       "      <th></th>\n",
       "      <th>n_seqs</th>\n",
       "      <th>url</th>\n",
       "      <th>description</th>\n",
       "    </tr>\n",
       "    <tr>\n",
       "      <th>name</th>\n",
       "      <th></th>\n",
       "      <th></th>\n",
       "      <th></th>\n",
       "    </tr>\n",
       "  </thead>\n",
       "  <tbody>\n",
       "    <tr>\n",
       "      <th>ols</th>\n",
       "      <td>460800</td>\n",
       "      <td>TBD</td>\n",
       "      <td>This library is a collection of sequences from...</td>\n",
       "    </tr>\n",
       "    <tr>\n",
       "      <th>Khouiery</th>\n",
       "      <td>10</td>\n",
       "      <td>https://www.sciencedirect.com/science/article/...</td>\n",
       "      <td>This data comes from genomic sequences of Cion...</td>\n",
       "    </tr>\n",
       "  </tbody>\n",
       "</table>\n",
       "</div>"
      ],
      "text/plain": [
       "          n_seqs                                                url  \\\n",
       "name                                                                  \n",
       "ols       460800                                                TBD   \n",
       "Khouiery      10  https://www.sciencedirect.com/science/article/...   \n",
       "\n",
       "                                                description  \n",
       "name                                                         \n",
       "ols       This library is a collection of sequences from...  \n",
       "Khouiery  This data comes from genomic sequences of Cion...  "
      ]
     },
     "execution_count": 32,
     "metadata": {},
     "output_type": "execute_result"
    }
   ],
   "source": [
    "eugene.datasets.get_dataset_info()"
   ]
  },
  {
   "cell_type": "code",
   "execution_count": 33,
   "id": "4232e1f2",
   "metadata": {},
   "outputs": [
    {
     "data": {
      "text/plain": [
       "(array(['scaffold_1:462149:462232', 'scaffold_102:102675:102754',\n",
       "        'scaffold_3:475040:475120', 'scaffold_3:781073:781145',\n",
       "        'scaffold_357:46416:46496', 'scaffold_577:39771:39829',\n",
       "        'scaffold_6:512297:512370', 'scaffold_98:245430:245507',\n",
       "        'scaffold_248:118347:118482', 'Scaffold_31:173924:174038',\n",
       "        'scaffold_6:562995:563124', 'scaffold_11:490974:491037',\n",
       "        'scaffold_366:40184:40258', 'scaffold_37:273449:273512',\n",
       "        'scaffold_371:68262:68340', 'scaffold_40:155281:155360',\n",
       "        'scaffold_48:226447:226527', 'scaffold_490:18446:18523',\n",
       "        'scaffold_50:51150:51235', 'scaffold_522:36260:36327'],\n",
       "       dtype='<U26'),\n",
       " array(['AAAGTAGGCTATATGCTACAGCCCAGAGCTCATGGATTTTAATGGGATCGGCTATCTAGGCCGACCCTCGCTCTCCCAAGGAAATGTCCACCTTCCAGCCGGGAAAAGATAACCGCTCGCCAGAGCGACGCTTTCCGGCTGACAAATTGTGTCGGACCTTGATAGCATTCCTGTTCCCTATCGGACCCAACTTT ',\n",
       "        'AAAGTAGGCTATCGCGACCACTGATCGTCGCGTAATTATTTTGAGGCAACATATCGATCAGCGATCTCGGCAACGATAGCgAaATtctccCTCAGCTTTCTCGGAAGCGCTCGCTGCTGGTTATCCGGAAAAGTGcggAACTTCCCTCGCTCTCCAGCAGCAacGACTCGGGAACCCAACTTT',\n",
       "        'AAAGTAGGCTTTGTATAATTCCCAATTAGAACACACAGGTAGGGTAATACATTAGAATGTCTTTGATTAGACTAGCAAGATAGGCACCTAATTTCCTATGTTGGTACAACTGGTTTTAGAAAATTATAAAAATTTCCTGCTATAATCGGTTAGAGCAAGGAACGGTGATTACCCAACTTT',\n",
       "        'AAAGTAGGCTTTAACATGGAATCTATTCCCCGTGACGATGAGATAAGGACAAGCGGAAACCGACCAACGCGTATTTCGAGAACTATTTATCTCGACTGATTCCTGTTCCTTCCTTTCCTTCCGCCCGCAGCTTACCGGTAAACAACCCAACTTT',\n",
       "        'AAAGTAGGCTTCTTGCTTTGTTGTTTTTGTTTTGAAACTGGTGAGCAGCACCGGAAATTGGTCTCAGTTCTCTAGCCAGTCTACTTCCTGCTGTTACTGCTAAACGATAACATTTCTCTTGTACATGATATCATTCTATGGTTCATATAAGTTGAAACACAATATGCATTACATTTACCCAACTTT',\n",
       "        'AAAGTAGGCTCTTGGTATTTGTACCTGACGCGTGCTACGCCTTCCTTTCGTAACACAATGACTTAATTATCTTCTTTATCTTTATTTATTTGACTTCCGATCGCCCGTCGCTTTCCCATGCGCACGTGGACCCAACTTT',\n",
       "        'AAAGTAGGCTACGGCCATAGTAGATTTAGCTTCCTGGTAAAAACATCAGTAGTTCCTGGTCTTTACCCTAAACCAGGAAATAACCGCTTTGTTTTCGCGATCGCCTAATAGATATCAGCGTCTTCGTATAAACTCAATGCGGAAGTACAGAATAAAGATAGACTTCGACGCACACAATGTATTGTGTTACTCTCCCTTGACTAACACTGTGAGAACCAACCCAACTTT',\n",
       "        'CGTTATCTCTAACGGAAGTTTTCGAAAAGGAAATTGTTCAATATCTAAGATAGGA',\n",
       "        'AAAGTAGGCTTTCAAATAAATAGGGATTGTGACGTCACAACCGGATGATTATGAATCGATAATGGTGATTGTTGGTGTGATTGTTCCCATCATATCGCGGCGGAAGTGACGATTTTAACACGTGATCCCCTACCCAACTTT',\n",
       "        'AAAGTAGGCTATACAACGCGTGTCGAATCTGAATGTTCAATTCAATAACTGACACAATTTAACAAGCAATAGATAAAAGTCATTCAACCTGGCAGAAACGTGAATATTGCTTCAAGCGATGCCTATACATTACTTCCTCTTTACAACAAACAATTTCCTGGATTACGAGTTCAATGTGATCGGACAGTAATCCCCTTGCCAGTTAAAAACTTATACACCCAACTTT',\n",
       "        'AAAGTAGGCTCCGCCTCTCCTGCTATTGTCTTGCGGAAATGGGGTCGAGGAAAAGGGTTAGTCAGATACAAGGCCCGATCAGCGTCCGAGGAAATCAGGTCGTCTCGCGAAGCGCTCGCGCGTAACAACAAAGGAGACGCTTTCCATCGTGCTCTTGTCCGCCGACTTCTCGCTATCACACCGTGGAGAGAACAAAAGAGTGAATACCCACGCACCCAACTTT',\n",
       "        'AAAGTAGGCTCATAATTAAGTATTTGCTTACCGGTAGTCTTGATATGTTGGTGTGATACTTCAGTTCATCCACGAGCTTCCTCGCGCTTTCCAAATTACATGATAATTGGGAGTTCATGATTGCTCTTGTTACCCAACTTT',\n",
       "        'AAAGTAGGCTCTTAACTGGCAGATGTGGGCCGATAAGCCACgAAAAGAGCCCTTGCTTCGTTTCGTGGATAAtTTTTAAAGCACTGCCTTCCTAGAGGTAGCTATCACTGTAGTTGGAACGTTGGCGGTTACCCAACTTT',\n",
       "        'AAAGTAGGCTTATGTTGTTCACAAACTACCTGGTTATCTTATTTCTATCAGTCCATTACTGTCGGAAAGGCTCATATAGCTCTGTGGCGTTCCGGAAAGGCCTCCTGCACGGTTAAgCAACCCAACTTT',\n",
       "        'AAAGTAGGCTCAACAACCAACTAAAAACAAGCCTTGGAAAACAgAATTGATTAAACCAGCAGCGGAAATGCTGAAATACTTAgACAGTGAAGTAGATATGAAACAAGGATATCATCTCGCCGATATTTTGTCCAAAACTACCCAACTTT',\n",
       "        'AAAGTAGGCTTCACTGTAATGATTTTGAAAGGGGGTCTCGGTGGGCGTATCTAAGTGATATGAAAGTGGCAACAGGAAACAGCTTTCAGATTTAACAGGCCGTCTCGCGCCGCTGACTTCTTGGAAGCGTTCTGTATTTATTCTAATGGGACCCAACTTT',\n",
       "        'AAAGTAGGCTACAAGATAGCATTGATTGCATGCTATCCATGGGAGGGGGAAGGGAAAGAACAGATGGAGGAGAAAGCTCCGGATATGAATCTTCCGGAGGATCAGCAGTGGATGTTAGAAAACTAGAGTTAGCATGTCAGACCCAACTTT',\n",
       "        'AAAGTAGGCTACCAAAGTTGACGCAAGTTATGTCAAACATAGATAACAACAATGTCATCTTATCTACGCAACTAGGAAACATAATCATTTATAAAACTTTCTATCTACTTAAACGGAAACCCTTTGTTACGTCACGGTGACGTATTATCTGACGTCAACCCAACTTT',\n",
       "        'AAAGTAGGCTGTGATTGCAGGATTGGCATCCATGTATCTCTTCCTCATTCATGAACAAATTTCCAAGTGAAATTATGTCGGATGGGAACTTCAATTCGAGTGAAAAATCACCAAGTAATATTGATAGAGGTTTAgCACCGTGGAAAGtAAACCCAACTTT',\n",
       "        'AAAGTAGGCTGATATGGATTTGTGAGCTGTACCTTCCAAAAGCATCATCCGTCGTACAGGTATATATACCAGTATCCTCTTTTGACACAGAGGCTAGATATAACATGGGTTGTGTTCTTAAAGTATTATTAACCCAACTTT'],\n",
       "       dtype='<U228'),\n",
       " None,\n",
       " array([1., 1., 1., 1., 0., 0., 0., 1., 1., 0., 1., 0., 0., 0., 0., 0., 0.,\n",
       "        1., 0., 0.]))"
      ]
     },
     "execution_count": 33,
     "metadata": {},
     "output_type": "execute_result"
    }
   ],
   "source": [
    "eugene.datasets.Khoueiry10()"
   ]
  },
  {
   "cell_type": "code",
   "execution_count": 34,
   "id": "ccda18ca",
   "metadata": {},
   "outputs": [
    {
     "data": {
      "text/plain": [
       "(array(['S1-G1R-S2-E1F-S3-E2F-S4-G2R-S5-G3F-S6',\n",
       "        'S1-G1F-S2-E1F-S3-E2F-S4-G2R-S5-G3F-S6',\n",
       "        'S1-G1R-S2-E1F-S3-E2F-S4-G2F-S5-G3F-S6', ...,\n",
       "        'S5-G3R-S4-G2R-S3-E2R-S2-E1R-S1-G1F-S6',\n",
       "        'S5-G3R-S4-G2F-S3-E2R-S2-E1R-S1-G1R-S6',\n",
       "        'S5-G3R-S4-G2F-S3-E2R-S2-E1R-S1-G1F-S6'], dtype='<U37'),\n",
       " array(['CATCTGAAGCTCGTTATCTCTAACGGAAGTTTTCGAAAAGGAAATTGCTCAATATCTAAGATAGGA',\n",
       "        'CATCTGAAGCTCGAGATAACTAACGGAAGTTTTCGAAAAGGAAATTGCTCAATATCTAAGATAGGA',\n",
       "        'CATCTGAAGCTCGTTATCTCTAACGGAAGTTTTCGAAAAGGAAATTGCTCAGATATTAAGATAGGA',\n",
       "        ...,\n",
       "        'CCTATCTTTGCTCAATATCTTTTCGAAATTTCCTTTAACTTCCGTCATCTGAAGCTCGAGATAACA',\n",
       "        'CCTATCTTTGCTCAGATATTTTTCGAAATTTCCTTTAACTTCCGTCATCTGAAGCTCGTTATCTCA',\n",
       "        'CCTATCTTTGCTCAGATATTTTTCGAAATTTCCTTTAACTTCCGTCATCTGAAGCTCGAGATAACA'],\n",
       "       dtype='<U66'),\n",
       " None,\n",
       " array([0.61176673, 0.31301127, 0.38712121, ..., 0.18054633, 0.19439343,\n",
       "        0.27834158]))"
      ]
     },
     "execution_count": 34,
     "metadata": {},
     "output_type": "execute_result"
    }
   ],
   "source": [
    "eugene.datasets.ols()"
   ]
  },
  {
   "cell_type": "markdown",
   "id": "7c911a6b",
   "metadata": {},
   "source": [
    "---"
   ]
  }
 ],
 "metadata": {
  "kernelspec": {
   "display_name": "Python 3.7.12 ('eugene')",
   "language": "python",
   "name": "python3"
  },
  "language_info": {
   "codemirror_mode": {
    "name": "ipython",
    "version": 3
   },
   "file_extension": ".py",
   "mimetype": "text/x-python",
   "name": "python",
   "nbconvert_exporter": "python",
   "pygments_lexer": "ipython3",
   "version": "3.7.12"
  },
  "vscode": {
   "interpreter": {
    "hash": "1330bbbf2c4cf53098ef1254540d5dd54a9d501f0408fea1c04a20872667b797"
   }
  }
 },
 "nbformat": 4,
 "nbformat_minor": 5
}

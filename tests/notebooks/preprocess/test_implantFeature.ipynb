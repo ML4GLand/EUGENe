{
 "cells": [
  {
   "cell_type": "markdown",
   "id": "90a88efe-ebb3-424c-8704-fb4ee189af2c",
   "metadata": {},
   "source": [
    "# Testin implanting a feature into sequences"
   ]
  },
  {
   "cell_type": "markdown",
   "id": "2d058003-a667-4b45-9ddc-e47efe48e0e1",
   "metadata": {
    "tags": []
   },
   "source": [
    "**Authorship:**\n",
    "Adam Klie, *09/01/2022*\n",
    "***\n",
    "**Description:**\n",
    "Notebook to test adding a feature to sequences.\n",
    "***"
   ]
  },
  {
   "cell_type": "code",
   "execution_count": 1,
   "metadata": {},
   "outputs": [
    {
     "name": "stderr",
     "output_type": "stream",
     "text": [
      "Global seed set to 13\n",
      "2022-09-02 00:59:43.932881: W tensorflow/stream_executor/platform/default/dso_loader.cc:64] Could not load dynamic library 'libcudart.so.11.0'; dlerror: libcudart.so.11.0: cannot open shared object file: No such file or directory\n",
      "2022-09-02 00:59:43.932925: I tensorflow/stream_executor/cuda/cudart_stub.cc:29] Ignore above cudart dlerror if you do not have a GPU set up on your machine.\n",
      "/workspaces/EUGENe/eugene/external/kipoi_veff/seqplotting_deps.py:36: FutureWarning: arrays to stack must be passed as a \"sequence\" type such as list or tuple. Support for non-sequence iterables such as generators is deprecated as of NumPy 1.16 and will raise an error in the future.\n",
      "  min_coords = np.vstack(data.min(0) for data in polygons_data).min(0)\n",
      "/workspaces/EUGENe/eugene/external/kipoi_veff/seqplotting_deps.py:37: FutureWarning: arrays to stack must be passed as a \"sequence\" type such as list or tuple. Support for non-sequence iterables such as generators is deprecated as of NumPy 1.16 and will raise an error in the future.\n",
      "  max_coords = np.vstack(data.max(0) for data in polygons_data).max(0)\n"
     ]
    },
    {
     "data": {
      "text/plain": [
       "'0.1.0'"
      ]
     },
     "execution_count": 1,
     "metadata": {},
     "output_type": "execute_result"
    }
   ],
   "source": [
    "# Autoreload extension\n",
    "if 'autoreload' not in get_ipython().extension_manager.loaded:\n",
    "    %load_ext autoreload\n",
    "%autoreload 2\n",
    "\n",
    "# Basic import\n",
    "import torch\n",
    "import numpy as np\n",
    "import eugene as eu\n",
    "eu.__version__"
   ]
  },
  {
   "cell_type": "code",
   "execution_count": 3,
   "metadata": {},
   "outputs": [],
   "source": [
    "sdata = eu.datasets.random1000()"
   ]
  },
  {
   "cell_type": "code",
   "execution_count": 4,
   "metadata": {},
   "outputs": [
    {
     "data": {
      "application/vnd.jupyter.widget-view+json": {
       "model_id": "9479b4320b0f453eb02a1ba21f0fc886",
       "version_major": 2,
       "version_minor": 0
      },
      "text/plain": [
       "One-hot-encoding sequences:   0%|          | 0/1000 [00:00<?, ?it/s]"
      ]
     },
     "metadata": {},
     "output_type": "display_data"
    },
    {
     "name": "stdout",
     "output_type": "stream",
     "text": [
      "SeqData object modified:\n",
      "\tohe_seqs: None -> 1000 ohe_seqs added\n"
     ]
    }
   ],
   "source": [
    "eu.pp.one_hot_encode_data(sdata)"
   ]
  },
  {
   "cell_type": "code",
   "execution_count": 5,
   "metadata": {},
   "outputs": [],
   "source": [
    "# Prep data\n",
    "model = eu.models.DeepBind(input_len=66, output_dim=1)\n",
    "seq = sdata.seqs[0]\n",
    "ohe_seq = eu.pp.ohe_DNA_seq(seq)\n",
    "meme = eu.utils.MinimalMEME(path=\"../../_datasets/jores21/CPEs.meme\")\n",
    "motif = meme.motifs[\"TATA\"]\n",
    "name = motif.name\n",
    "pfm = motif.pfm\n",
    "consensus = eu.pp.decode_DNA_seq(pfm)\n",
    "pos = 2"
   ]
  },
  {
   "cell_type": "code",
   "execution_count": 6,
   "metadata": {},
   "outputs": [
    {
     "data": {
      "text/plain": [
       "'AGCCCCTATAAATACCCCTTGGGCCCAACGGATCAGCCTCTATAAACCGTATCCGACAATATAAGG'"
      ]
     },
     "execution_count": 6,
     "metadata": {},
     "output_type": "execute_result"
    }
   ],
   "source": [
    "eu.pp.feature_implant_seq(seq, consensus, pos, encoding=\"str\")"
   ]
  },
  {
   "cell_type": "code",
   "execution_count": 7,
   "metadata": {},
   "outputs": [
    {
     "data": {
      "text/plain": [
       "array(['CCCCTATAAATACCCCTGTTGGGCCCAACGGATCAGCCTCTATAAACCGTATCCGACAATATAAGG',\n",
       "       'ACCCCTATAAATACCCCGTTGGGCCCAACGGATCAGCCTCTATAAACCGTATCCGACAATATAAGG',\n",
       "       'AGCCCCTATAAATACCCCTTGGGCCCAACGGATCAGCCTCTATAAACCGTATCCGACAATATAAGG',\n",
       "       'AGGCCCCTATAAATACCCCTGGGCCCAACGGATCAGCCTCTATAAACCGTATCCGACAATATAAGG',\n",
       "       'AGGACCCCTATAAATACCCCGGGCCCAACGGATCAGCCTCTATAAACCGTATCCGACAATATAAGG',\n",
       "       'AGGACCCCCTATAAATACCCCGGCCCAACGGATCAGCCTCTATAAACCGTATCCGACAATATAAGG',\n",
       "       'AGGACACCCCTATAAATACCCCGCCCAACGGATCAGCCTCTATAAACCGTATCCGACAATATAAGG',\n",
       "       'AGGACAGCCCCTATAAATACCCCCCCAACGGATCAGCCTCTATAAACCGTATCCGACAATATAAGG',\n",
       "       'AGGACAGACCCCTATAAATACCCCCCAACGGATCAGCCTCTATAAACCGTATCCGACAATATAAGG',\n",
       "       'AGGACAGATCCCCTATAAATACCCCCAACGGATCAGCCTCTATAAACCGTATCCGACAATATAAGG',\n",
       "       'AGGACAGATTCCCCTATAAATACCCCAACGGATCAGCCTCTATAAACCGTATCCGACAATATAAGG',\n",
       "       'AGGACAGATTTCCCCTATAAATACCCCACGGATCAGCCTCTATAAACCGTATCCGACAATATAAGG',\n",
       "       'AGGACAGATTTTCCCCTATAAATACCCCCGGATCAGCCTCTATAAACCGTATCCGACAATATAAGG',\n",
       "       'AGGACAGATTTTCCCCCTATAAATACCCCGGATCAGCCTCTATAAACCGTATCCGACAATATAAGG',\n",
       "       'AGGACAGATTTTCGCCCCTATAAATACCCCGATCAGCCTCTATAAACCGTATCCGACAATATAAGG',\n",
       "       'AGGACAGATTTTCGCCCCCTATAAATACCCCATCAGCCTCTATAAACCGTATCCGACAATATAAGG',\n",
       "       'AGGACAGATTTTCGCGCCCCTATAAATACCCCTCAGCCTCTATAAACCGTATCCGACAATATAAGG',\n",
       "       'AGGACAGATTTTCGCGTCCCCTATAAATACCCCCAGCCTCTATAAACCGTATCCGACAATATAAGG',\n",
       "       'AGGACAGATTTTCGCGTGCCCCTATAAATACCCCAGCCTCTATAAACCGTATCCGACAATATAAGG',\n",
       "       'AGGACAGATTTTCGCGTGTCCCCTATAAATACCCCGCCTCTATAAACCGTATCCGACAATATAAGG',\n",
       "       'AGGACAGATTTTCGCGTGTTCCCCTATAAATACCCCCCTCTATAAACCGTATCCGACAATATAAGG',\n",
       "       'AGGACAGATTTTCGCGTGTTGCCCCTATAAATACCCCCTCTATAAACCGTATCCGACAATATAAGG',\n",
       "       'AGGACAGATTTTCGCGTGTTGGCCCCTATAAATACCCCTCTATAAACCGTATCCGACAATATAAGG',\n",
       "       'AGGACAGATTTTCGCGTGTTGGGCCCCTATAAATACCCCCTATAAACCGTATCCGACAATATAAGG',\n",
       "       'AGGACAGATTTTCGCGTGTTGGGCCCCCTATAAATACCCCTATAAACCGTATCCGACAATATAAGG',\n",
       "       'AGGACAGATTTTCGCGTGTTGGGCCCCCCTATAAATACCCCATAAACCGTATCCGACAATATAAGG',\n",
       "       'AGGACAGATTTTCGCGTGTTGGGCCCCCCCTATAAATACCCCTAAACCGTATCCGACAATATAAGG',\n",
       "       'AGGACAGATTTTCGCGTGTTGGGCCCACCCCTATAAATACCCCAAACCGTATCCGACAATATAAGG',\n",
       "       'AGGACAGATTTTCGCGTGTTGGGCCCAACCCCTATAAATACCCCAACCGTATCCGACAATATAAGG',\n",
       "       'AGGACAGATTTTCGCGTGTTGGGCCCAACCCCCTATAAATACCCCACCGTATCCGACAATATAAGG',\n",
       "       'AGGACAGATTTTCGCGTGTTGGGCCCAACGCCCCTATAAATACCCCCCGTATCCGACAATATAAGG',\n",
       "       'AGGACAGATTTTCGCGTGTTGGGCCCAACGGCCCCTATAAATACCCCCGTATCCGACAATATAAGG',\n",
       "       'AGGACAGATTTTCGCGTGTTGGGCCCAACGGACCCCTATAAATACCCCGTATCCGACAATATAAGG',\n",
       "       'AGGACAGATTTTCGCGTGTTGGGCCCAACGGATCCCCTATAAATACCCCTATCCGACAATATAAGG',\n",
       "       'AGGACAGATTTTCGCGTGTTGGGCCCAACGGATCCCCCTATAAATACCCCATCCGACAATATAAGG',\n",
       "       'AGGACAGATTTTCGCGTGTTGGGCCCAACGGATCACCCCTATAAATACCCCTCCGACAATATAAGG',\n",
       "       'AGGACAGATTTTCGCGTGTTGGGCCCAACGGATCAGCCCCTATAAATACCCCCCGACAATATAAGG',\n",
       "       'AGGACAGATTTTCGCGTGTTGGGCCCAACGGATCAGCCCCCTATAAATACCCCCGACAATATAAGG',\n",
       "       'AGGACAGATTTTCGCGTGTTGGGCCCAACGGATCAGCCCCCCTATAAATACCCCGACAATATAAGG',\n",
       "       'AGGACAGATTTTCGCGTGTTGGGCCCAACGGATCAGCCTCCCCTATAAATACCCCACAATATAAGG',\n",
       "       'AGGACAGATTTTCGCGTGTTGGGCCCAACGGATCAGCCTCCCCCTATAAATACCCCCAATATAAGG',\n",
       "       'AGGACAGATTTTCGCGTGTTGGGCCCAACGGATCAGCCTCTCCCCTATAAATACCCCAATATAAGG',\n",
       "       'AGGACAGATTTTCGCGTGTTGGGCCCAACGGATCAGCCTCTACCCCTATAAATACCCCATATAAGG',\n",
       "       'AGGACAGATTTTCGCGTGTTGGGCCCAACGGATCAGCCTCTATCCCCTATAAATACCCCTATAAGG',\n",
       "       'AGGACAGATTTTCGCGTGTTGGGCCCAACGGATCAGCCTCTATACCCCTATAAATACCCCATAAGG',\n",
       "       'AGGACAGATTTTCGCGTGTTGGGCCCAACGGATCAGCCTCTATAACCCCTATAAATACCCCTAAGG',\n",
       "       'AGGACAGATTTTCGCGTGTTGGGCCCAACGGATCAGCCTCTATAAACCCCTATAAATACCCCAAGG',\n",
       "       'AGGACAGATTTTCGCGTGTTGGGCCCAACGGATCAGCCTCTATAAACCCCCTATAAATACCCCAGG',\n",
       "       'AGGACAGATTTTCGCGTGTTGGGCCCAACGGATCAGCCTCTATAAACCCCCCTATAAATACCCCGG',\n",
       "       'AGGACAGATTTTCGCGTGTTGGGCCCAACGGATCAGCCTCTATAAACCGCCCCTATAAATACCCCG',\n",
       "       'AGGACAGATTTTCGCGTGTTGGGCCCAACGGATCAGCCTCTATAAACCGTCCCCTATAAATACCCC'],\n",
       "      dtype='<U66')"
      ]
     },
     "execution_count": 7,
     "metadata": {},
     "output_type": "execute_result"
    }
   ],
   "source": [
    "eu.pp.feature_implant_across_seq(seq, consensus, encoding=\"str\")"
   ]
  },
  {
   "cell_type": "code",
   "execution_count": 8,
   "metadata": {},
   "outputs": [
    {
     "data": {
      "text/plain": [
       "array([[1.    , 0.    , 0.    , 0.    ],\n",
       "       [0.    , 0.    , 1.    , 0.    ],\n",
       "       [0.1275, 0.3765, 0.1195, 0.3765],\n",
       "       [0.1575, 0.3985, 0.199 , 0.2455],\n",
       "       [0.249 , 0.303 , 0.197 , 0.251 ],\n",
       "       [0.1235, 0.655 , 0.0755, 0.1455],\n",
       "       [0.01  , 0.002 , 0.002 , 0.986 ],\n",
       "       [0.968 , 0.    , 0.    , 0.032 ],\n",
       "       [0.002 , 0.014 , 0.006 , 0.978 ],\n",
       "       [0.992 , 0.    , 0.002 , 0.006 ],\n",
       "       [0.653 , 0.012 , 0.002 , 0.333 ],\n",
       "       [0.974 , 0.    , 0.008 , 0.018 ],\n",
       "       [0.341 , 0.028 , 0.036 , 0.5955],\n",
       "       [0.6955, 0.0815, 0.1195, 0.1035],\n",
       "       [0.1255, 0.432 , 0.3165, 0.1255],\n",
       "       [0.291 , 0.418 , 0.175 , 0.1155],\n",
       "       [0.263 , 0.3445, 0.1755, 0.2175],\n",
       "       [0.307 , 0.3085, 0.2365, 0.1475],\n",
       "       [0.    , 0.    , 0.    , 1.    ],\n",
       "       [0.    , 0.    , 0.    , 1.    ],\n",
       "       [0.    , 0.    , 1.    , 0.    ],\n",
       "       [0.    , 0.    , 1.    , 0.    ],\n",
       "       [0.    , 0.    , 1.    , 0.    ],\n",
       "       [0.    , 1.    , 0.    , 0.    ],\n",
       "       [0.    , 1.    , 0.    , 0.    ],\n",
       "       [0.    , 1.    , 0.    , 0.    ],\n",
       "       [1.    , 0.    , 0.    , 0.    ],\n",
       "       [1.    , 0.    , 0.    , 0.    ],\n",
       "       [0.    , 1.    , 0.    , 0.    ],\n",
       "       [0.    , 0.    , 1.    , 0.    ],\n",
       "       [0.    , 0.    , 1.    , 0.    ],\n",
       "       [1.    , 0.    , 0.    , 0.    ],\n",
       "       [0.    , 0.    , 0.    , 1.    ],\n",
       "       [0.    , 1.    , 0.    , 0.    ],\n",
       "       [1.    , 0.    , 0.    , 0.    ],\n",
       "       [0.    , 0.    , 1.    , 0.    ],\n",
       "       [0.    , 1.    , 0.    , 0.    ],\n",
       "       [0.    , 1.    , 0.    , 0.    ],\n",
       "       [0.    , 0.    , 0.    , 1.    ],\n",
       "       [0.    , 1.    , 0.    , 0.    ],\n",
       "       [0.    , 0.    , 0.    , 1.    ],\n",
       "       [1.    , 0.    , 0.    , 0.    ],\n",
       "       [0.    , 0.    , 0.    , 1.    ],\n",
       "       [1.    , 0.    , 0.    , 0.    ],\n",
       "       [1.    , 0.    , 0.    , 0.    ],\n",
       "       [1.    , 0.    , 0.    , 0.    ],\n",
       "       [0.    , 1.    , 0.    , 0.    ],\n",
       "       [0.    , 1.    , 0.    , 0.    ],\n",
       "       [0.    , 0.    , 1.    , 0.    ],\n",
       "       [0.    , 0.    , 0.    , 1.    ],\n",
       "       [1.    , 0.    , 0.    , 0.    ],\n",
       "       [0.    , 0.    , 0.    , 1.    ],\n",
       "       [0.    , 1.    , 0.    , 0.    ],\n",
       "       [0.    , 1.    , 0.    , 0.    ],\n",
       "       [0.    , 0.    , 1.    , 0.    ],\n",
       "       [1.    , 0.    , 0.    , 0.    ],\n",
       "       [0.    , 1.    , 0.    , 0.    ],\n",
       "       [1.    , 0.    , 0.    , 0.    ],\n",
       "       [1.    , 0.    , 0.    , 0.    ],\n",
       "       [0.    , 0.    , 0.    , 1.    ],\n",
       "       [1.    , 0.    , 0.    , 0.    ],\n",
       "       [0.    , 0.    , 0.    , 1.    ],\n",
       "       [1.    , 0.    , 0.    , 0.    ],\n",
       "       [1.    , 0.    , 0.    , 0.    ],\n",
       "       [0.    , 0.    , 1.    , 0.    ],\n",
       "       [0.    , 0.    , 1.    , 0.    ]])"
      ]
     },
     "execution_count": 8,
     "metadata": {},
     "output_type": "execute_result"
    }
   ],
   "source": [
    "eu.pp.feature_implant_seq(ohe_seq, pfm, pos, encoding=\"onehot\")"
   ]
  },
  {
   "cell_type": "code",
   "execution_count": 9,
   "metadata": {},
   "outputs": [
    {
     "data": {
      "text/plain": [
       "array([[[0.1275, 0.3765, 0.1195, 0.3765],\n",
       "        [0.1575, 0.3985, 0.199 , 0.2455],\n",
       "        [0.249 , 0.303 , 0.197 , 0.251 ],\n",
       "        ...,\n",
       "        [1.    , 0.    , 0.    , 0.    ],\n",
       "        [0.    , 0.    , 1.    , 0.    ],\n",
       "        [0.    , 0.    , 1.    , 0.    ]],\n",
       "\n",
       "       [[1.    , 0.    , 0.    , 0.    ],\n",
       "        [0.1275, 0.3765, 0.1195, 0.3765],\n",
       "        [0.1575, 0.3985, 0.199 , 0.2455],\n",
       "        ...,\n",
       "        [1.    , 0.    , 0.    , 0.    ],\n",
       "        [0.    , 0.    , 1.    , 0.    ],\n",
       "        [0.    , 0.    , 1.    , 0.    ]],\n",
       "\n",
       "       [[1.    , 0.    , 0.    , 0.    ],\n",
       "        [0.    , 0.    , 1.    , 0.    ],\n",
       "        [0.1275, 0.3765, 0.1195, 0.3765],\n",
       "        ...,\n",
       "        [1.    , 0.    , 0.    , 0.    ],\n",
       "        [0.    , 0.    , 1.    , 0.    ],\n",
       "        [0.    , 0.    , 1.    , 0.    ]],\n",
       "\n",
       "       ...,\n",
       "\n",
       "       [[1.    , 0.    , 0.    , 0.    ],\n",
       "        [0.    , 0.    , 1.    , 0.    ],\n",
       "        [0.    , 0.    , 1.    , 0.    ],\n",
       "        ...,\n",
       "        [0.307 , 0.3085, 0.2365, 0.1475],\n",
       "        [0.    , 0.    , 1.    , 0.    ],\n",
       "        [0.    , 0.    , 1.    , 0.    ]],\n",
       "\n",
       "       [[1.    , 0.    , 0.    , 0.    ],\n",
       "        [0.    , 0.    , 1.    , 0.    ],\n",
       "        [0.    , 0.    , 1.    , 0.    ],\n",
       "        ...,\n",
       "        [0.263 , 0.3445, 0.1755, 0.2175],\n",
       "        [0.307 , 0.3085, 0.2365, 0.1475],\n",
       "        [0.    , 0.    , 1.    , 0.    ]],\n",
       "\n",
       "       [[1.    , 0.    , 0.    , 0.    ],\n",
       "        [0.    , 0.    , 1.    , 0.    ],\n",
       "        [0.    , 0.    , 1.    , 0.    ],\n",
       "        ...,\n",
       "        [0.291 , 0.418 , 0.175 , 0.1155],\n",
       "        [0.263 , 0.3445, 0.1755, 0.2175],\n",
       "        [0.307 , 0.3085, 0.2365, 0.1475]]])"
      ]
     },
     "execution_count": 9,
     "metadata": {},
     "output_type": "execute_result"
    }
   ],
   "source": [
    "eu.pp.feature_implant_across_seq(ohe_seq, pfm, encoding=\"onehot\")"
   ]
  },
  {
   "cell_type": "code",
   "execution_count": 10,
   "metadata": {},
   "outputs": [
    {
     "data": {
      "text/plain": [
       "array([[[0., 1., 0., 0.],\n",
       "        [0., 1., 0., 0.],\n",
       "        [0., 1., 0., 0.],\n",
       "        ...,\n",
       "        [1., 0., 0., 0.],\n",
       "        [0., 0., 1., 0.],\n",
       "        [0., 0., 1., 0.]],\n",
       "\n",
       "       [[1., 0., 0., 0.],\n",
       "        [0., 1., 0., 0.],\n",
       "        [0., 1., 0., 0.],\n",
       "        ...,\n",
       "        [1., 0., 0., 0.],\n",
       "        [0., 0., 1., 0.],\n",
       "        [0., 0., 1., 0.]],\n",
       "\n",
       "       [[1., 0., 0., 0.],\n",
       "        [0., 0., 1., 0.],\n",
       "        [0., 1., 0., 0.],\n",
       "        ...,\n",
       "        [1., 0., 0., 0.],\n",
       "        [0., 0., 1., 0.],\n",
       "        [0., 0., 1., 0.]],\n",
       "\n",
       "       ...,\n",
       "\n",
       "       [[1., 0., 0., 0.],\n",
       "        [0., 0., 1., 0.],\n",
       "        [0., 0., 1., 0.],\n",
       "        ...,\n",
       "        [0., 1., 0., 0.],\n",
       "        [0., 0., 1., 0.],\n",
       "        [0., 0., 1., 0.]],\n",
       "\n",
       "       [[1., 0., 0., 0.],\n",
       "        [0., 0., 1., 0.],\n",
       "        [0., 0., 1., 0.],\n",
       "        ...,\n",
       "        [0., 1., 0., 0.],\n",
       "        [0., 1., 0., 0.],\n",
       "        [0., 0., 1., 0.]],\n",
       "\n",
       "       [[1., 0., 0., 0.],\n",
       "        [0., 0., 1., 0.],\n",
       "        [0., 0., 1., 0.],\n",
       "        ...,\n",
       "        [0., 1., 0., 0.],\n",
       "        [0., 1., 0., 0.],\n",
       "        [0., 1., 0., 0.]]], dtype=float16)"
      ]
     },
     "execution_count": 10,
     "metadata": {},
     "output_type": "execute_result"
    }
   ],
   "source": [
    "eu.pp.feature_implant_across_seq(ohe_seq, pfm, encoding=\"onehot\", onehot=True)"
   ]
  },
  {
   "cell_type": "code",
   "execution_count": 11,
   "metadata": {},
   "outputs": [
    {
     "data": {
      "text/plain": [
       "array([-0.12860738, -0.20724249, -0.09944402, -0.15735872, -0.07232916,\n",
       "        0.10080706, -0.05799149, -0.00366257, -0.13281582, -0.03578924,\n",
       "        0.07352825, -0.08969332, -0.14790955, -0.19986603, -0.17278814,\n",
       "       -0.18217488, -0.07786699, -0.18028736, -0.13209815, -0.0564633 ,\n",
       "       -0.15503126, -0.09165487, -0.11240477, -0.0220406 , -0.00690747,\n",
       "       -0.05037049, -0.13428695, -0.07957186,  0.05299611, -0.00722817,\n",
       "       -0.05692093, -0.06351749, -0.12362285, -0.04635581, -0.10504552,\n",
       "        0.02596581,  0.10609262, -0.04033621, -0.09065762, -0.05444472,\n",
       "       -0.05513809, -0.08035021, -0.02563847, -0.05098003,  0.05189031,\n",
       "       -0.14998351,  0.04425012,  0.00295492, -0.0998994 , -0.09659025,\n",
       "       -0.06869654], dtype=float32)"
      ]
     },
     "execution_count": 11,
     "metadata": {},
     "output_type": "execute_result"
    }
   ],
   "source": [
    "eu.interpret.feature_implant(\n",
    "    model, \n",
    "    sdata, \n",
    "    seq_id=sdata.names[0], \n",
    "    feature=consensus, \n",
    "    feature_name=name, \n",
    "    encoding=\"str\", \n",
    "    onehot=False, \n",
    "    device=\"cpu\", \n",
    "    store=True\n",
    ")"
   ]
  },
  {
   "cell_type": "code",
   "execution_count": 16,
   "metadata": {},
   "outputs": [
    {
     "data": {
      "application/vnd.jupyter.widget-view+json": {
       "model_id": "f25032fb91654518a34e900b192cfb21",
       "version_major": 2,
       "version_minor": 0
      },
      "text/plain": [
       "Implanting feature:   0%|          | 0/1000 [00:00<?, ?it/s]"
      ]
     },
     "metadata": {},
     "output_type": "display_data"
    }
   ],
   "source": [
    "eu.interpret.feature_implant_sdata(\n",
    "    model,\n",
    "    sdata,\n",
    "    feature=consensus,\n",
    "    seqsm_key=f\"{name}_slide\",\n",
    "    encoding=\"str\",\n",
    "    onehot=False,\n",
    "    device=\"cpu\"\n",
    ")"
   ]
  },
  {
   "cell_type": "code",
   "execution_count": 17,
   "metadata": {},
   "outputs": [
    {
     "data": {
      "text/plain": [
       "SeqData object with = 1000 seqs\n",
       "seqs = (1000,)\n",
       "names = (1000,)\n",
       "rev_seqs = None\n",
       "ohe_seqs = (1000, 66, 4)\n",
       "ohe_rev_seqs = None\n",
       "seqs_annot: 'target'\n",
       "pos_annot: PyRanges object with 1400 features\n",
       "seqsm: 'seq000_TATA_slide', 'TATA_slide'\n",
       "uns: None"
      ]
     },
     "execution_count": 17,
     "metadata": {},
     "output_type": "execute_result"
    }
   ],
   "source": [
    "sdata"
   ]
  },
  {
   "cell_type": "markdown",
   "metadata": {},
   "source": [
    "---"
   ]
  },
  {
   "cell_type": "markdown",
   "metadata": {},
   "source": [
    "# Scratch"
   ]
  }
 ],
 "metadata": {
  "kernelspec": {
   "display_name": "Python 3.7.13 64-bit",
   "language": "python",
   "name": "python3"
  },
  "language_info": {
   "codemirror_mode": {
    "name": "ipython",
    "version": 3
   },
   "file_extension": ".py",
   "mimetype": "text/x-python",
   "name": "python",
   "nbconvert_exporter": "python",
   "pygments_lexer": "ipython3",
   "version": "3.7.13"
  },
  "orig_nbformat": 4,
  "vscode": {
   "interpreter": {
    "hash": "949777d72b0d2535278d3dc13498b2535136f6dfe0678499012e853ee9abcab1"
   }
  }
 },
 "nbformat": 4,
 "nbformat_minor": 2
}

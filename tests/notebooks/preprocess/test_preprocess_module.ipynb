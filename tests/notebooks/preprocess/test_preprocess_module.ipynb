{
 "cells": [
  {
   "cell_type": "markdown",
   "id": "29253736-6d1e-4955-9371-2f87ba2dd74f",
   "metadata": {},
   "source": [
    "# Testing the `preprocess` module"
   ]
  },
  {
   "cell_type": "markdown",
   "id": "4dbd4376-6f69-42d2-8f61-40c3f0947f7d",
   "metadata": {
    "tags": []
   },
   "source": [
    "**Authorship:**\n",
    "Adam Klie, *10/04/2022*\n",
    "***\n",
    "**Description:**\n",
    "Notebook for testing out the `preprocess` module."
   ]
  },
  {
   "cell_type": "code",
   "execution_count": 1,
   "id": "287fd470-529f-4f26-add6-9bafe33b192c",
   "metadata": {
    "execution": {
     "iopub.execute_input": "2022-10-04T16:17:50.842401Z",
     "iopub.status.busy": "2022-10-04T16:17:50.842197Z",
     "iopub.status.idle": "2022-10-04T16:20:10.398506Z",
     "shell.execute_reply": "2022-10-04T16:20:10.397939Z",
     "shell.execute_reply.started": "2022-10-04T16:17:50.842348Z"
    }
   },
   "outputs": [
    {
     "name": "stderr",
     "output_type": "stream",
     "text": [
      "Global seed set to 13\n"
     ]
    },
    {
     "name": "stdout",
     "output_type": "stream",
     "text": [
      "GPU is available: True\n",
      "Number of GPUs: 1\n",
      "Current GPU: 0\n",
      "GPUs: Quadro RTX 5000\n"
     ]
    },
    {
     "name": "stderr",
     "output_type": "stream",
     "text": [
      "Matplotlib is building the font cache; this may take a moment.\n"
     ]
    }
   ],
   "source": [
    "if 'autoreload' not in get_ipython().extension_manager.loaded:\n",
    "    %load_ext autoreload\n",
    "%autoreload 2\n",
    "\n",
    "import os\n",
    "import torch\n",
    "import numpy as np\n",
    "import pandas as pd\n",
    "import eugene as eu"
   ]
  },
  {
   "cell_type": "markdown",
   "id": "95913b72-88de-4e74-96d4-1e9625a76c8f",
   "metadata": {
    "tags": []
   },
   "source": [
    "# Sequence preprocessing"
   ]
  },
  {
   "cell_type": "markdown",
   "id": "cfaacf8a-11c0-4c6d-ba78-8a9246007e4d",
   "metadata": {},
   "source": [
    "## Prep data"
   ]
  },
  {
   "cell_type": "code",
   "execution_count": 2,
   "id": "f7a0a13f-838f-4cdd-9f39-3a96e76596c1",
   "metadata": {},
   "outputs": [
    {
     "data": {
      "text/plain": [
       "'CACACCAGAC'"
      ]
     },
     "execution_count": 2,
     "metadata": {},
     "output_type": "execute_result"
    }
   ],
   "source": [
    "seq = eu.utils._random_data.random_seq(seq_len=10)\n",
    "seq"
   ]
  },
  {
   "cell_type": "code",
   "execution_count": 3,
   "id": "a77bab57-227c-4a2b-86aa-63520c3a41cb",
   "metadata": {},
   "outputs": [
    {
     "data": {
      "text/plain": [
       "array(['TCACCCCGGC', 'GTACATGTTC', 'GTGCAATAAC', 'CCAGTTGATC',\n",
       "       'AGGATGGTTG'], dtype='<U10')"
      ]
     },
     "execution_count": 3,
     "metadata": {},
     "output_type": "execute_result"
    }
   ],
   "source": [
    "seqs = eu.utils._random_data.random_seqs(seq_num=5, seq_len=10)\n",
    "seqs"
   ]
  },
  {
   "cell_type": "code",
   "execution_count": 4,
   "id": "909819f1-76ba-4456-b5ac-82732cc877ba",
   "metadata": {},
   "outputs": [
    {
     "data": {
      "text/plain": [
       "['CTCCTTTTCC', 'TATCA']"
      ]
     },
     "execution_count": 4,
     "metadata": {},
     "output_type": "execute_result"
    }
   ],
   "source": [
    "jagged_seqs = [eu.utils._random_data.random_seq(seq_len=10), eu.utils._random_data.random_seq(seq_len=5)]\n",
    "jagged_seqs"
   ]
  },
  {
   "cell_type": "markdown",
   "id": "e5220572-dd5a-4882-97b5-ae6a5103898f",
   "metadata": {
    "tags": []
   },
   "source": [
    "## Test `_seq_preprocess.py` functions"
   ]
  },
  {
   "cell_type": "markdown",
   "id": "a0fa9f95-5ebf-4747-816e-3d4fde8013fb",
   "metadata": {
    "jp-MarkdownHeadingCollapsed": true,
    "tags": []
   },
   "source": [
    "### Sanitize seqs"
   ]
  },
  {
   "cell_type": "code",
   "execution_count": 5,
   "id": "c50a4946-40a1-4607-9b37-fd48ae87f64b",
   "metadata": {},
   "outputs": [],
   "source": [
    "# TODO: add tests for the following functions"
   ]
  },
  {
   "cell_type": "markdown",
   "id": "bfe33b7d-cadf-47b5-9b99-95fb8719a714",
   "metadata": {
    "jp-MarkdownHeadingCollapsed": true,
    "tags": []
   },
   "source": [
    "### Ascii encode seqs"
   ]
  },
  {
   "cell_type": "code",
   "execution_count": 6,
   "id": "2415ebfe-a40e-49ff-8874-874a2d10f56f",
   "metadata": {},
   "outputs": [],
   "source": [
    "# TODO: add tests for the following functions"
   ]
  },
  {
   "cell_type": "markdown",
   "id": "2b5eb413-663a-4e38-95ac-64e18152e3ff",
   "metadata": {
    "jp-MarkdownHeadingCollapsed": true,
    "tags": []
   },
   "source": [
    "### Reverse complement"
   ]
  },
  {
   "cell_type": "code",
   "execution_count": 11,
   "id": "c0dac805-e297-4685-8bc4-9dd63fe92d96",
   "metadata": {},
   "outputs": [],
   "source": [
    "from eugene.preprocess import reverse_complement_seq, reverse_complement_seqs"
   ]
  },
  {
   "cell_type": "code",
   "execution_count": 12,
   "id": "12fffa60-605f-4af3-b51e-8a3029469694",
   "metadata": {},
   "outputs": [
    {
     "data": {
      "text/plain": [
       "('CACACCAGAC', 'GTCTGGTGTG', 'CACACCAGAC')"
      ]
     },
     "execution_count": 12,
     "metadata": {},
     "output_type": "execute_result"
    }
   ],
   "source": [
    "rc_seq = reverse_complement_seq(seq)\n",
    "seq, rc_seq, reverse_complement_seq(rc_seq)"
   ]
  },
  {
   "cell_type": "code",
   "execution_count": 55,
   "id": "4e3166f4-ed80-4cc6-91cb-98188d42811d",
   "metadata": {},
   "outputs": [
    {
     "data": {
      "application/vnd.jupyter.widget-view+json": {
       "model_id": "52b4a05f4d1a4ee39a487844a7f21ece",
       "version_major": 2,
       "version_minor": 0
      },
      "text/plain": [
       "Reverse complementing sequences:   0%|          | 0/5 [00:00<?, ?it/s]"
      ]
     },
     "metadata": {},
     "output_type": "display_data"
    },
    {
     "data": {
      "application/vnd.jupyter.widget-view+json": {
       "model_id": "8effa1b9a0a24ba781dfefc1d421bee8",
       "version_major": 2,
       "version_minor": 0
      },
      "text/plain": [
       "Reverse complementing sequences:   0%|          | 0/5 [00:00<?, ?it/s]"
      ]
     },
     "metadata": {},
     "output_type": "display_data"
    },
    {
     "data": {
      "text/plain": [
       "(array(['TCACCCCGGC', 'GTACATGTTC', 'GTGCAATAAC', 'CCAGTTGATC',\n",
       "        'AGGATGGTTG'], dtype='<U10'),\n",
       " array(['GCCGGGGTGA', 'GAACATGTAC', 'GTTATTGCAC', 'GATCAACTGG',\n",
       "        'CAACCATCCT'], dtype='<U10'),\n",
       " array(['TCACCCCGGC', 'GTACATGTTC', 'GTGCAATAAC', 'CCAGTTGATC',\n",
       "        'AGGATGGTTG'], dtype='<U10'))"
      ]
     },
     "execution_count": 55,
     "metadata": {},
     "output_type": "execute_result"
    }
   ],
   "source": [
    "rc_seqs = reverse_complement_seqs(seqs)\n",
    "seqs, rc_seqs, reverse_complement_seqs(rc_seqs)"
   ]
  },
  {
   "cell_type": "code",
   "execution_count": 14,
   "id": "7f6bb5b7-6be5-4f93-a6ef-4164a3a24075",
   "metadata": {},
   "outputs": [
    {
     "data": {
      "application/vnd.jupyter.widget-view+json": {
       "model_id": "d187b38eca294caa9a3ce5ef3ec69401",
       "version_major": 2,
       "version_minor": 0
      },
      "text/plain": [
       "Reverse complementing sequences:   0%|          | 0/2 [00:00<?, ?it/s]"
      ]
     },
     "metadata": {},
     "output_type": "display_data"
    },
    {
     "data": {
      "text/plain": [
       "array(['GGAAAAGGAG', 'TGATA'], dtype='<U10')"
      ]
     },
     "execution_count": 14,
     "metadata": {},
     "output_type": "execute_result"
    }
   ],
   "source": [
    "reverse_complement_seqs(jagged_seqs)"
   ]
  },
  {
   "cell_type": "markdown",
   "id": "d97644bc-fed5-4dc5-bf4b-67523052c07a",
   "metadata": {
    "jp-MarkdownHeadingCollapsed": true,
    "tags": []
   },
   "source": [
    "### One hot encoding"
   ]
  },
  {
   "cell_type": "code",
   "execution_count": 15,
   "id": "0c4bc7f1-66de-4d3f-9cf3-3c4ac7f6de63",
   "metadata": {},
   "outputs": [],
   "source": [
    "DNA = [\"A\", \"C\", \"G\", \"T\"]\n",
    "RNA = [\"A\", \"C\", \"G\", \"U\"]\n",
    "COMPLEMENT_DNA = {\"A\": \"T\", \"C\": \"G\", \"G\": \"C\", \"T\": \"A\"}\n",
    "COMPLEMENT_RNA = {\"A\": \"U\", \"C\": \"G\", \"G\": \"C\", \"U\": \"A\"}"
   ]
  },
  {
   "cell_type": "code",
   "execution_count": 16,
   "id": "5390fcde-8ca3-4d66-a325-b276219ce95c",
   "metadata": {},
   "outputs": [],
   "source": [
    "from eugene.preprocess._utils import _get_vocab_dict, _get_index_dict"
   ]
  },
  {
   "cell_type": "code",
   "execution_count": 17,
   "id": "b55f9db8-5a98-4d49-9444-74d38bc870e1",
   "metadata": {},
   "outputs": [
    {
     "data": {
      "text/plain": [
       "({'A': 0, 'C': 1, 'G': 2, 'T': 3}, {0: 'A', 1: 'C', 2: 'G', 3: 'T'})"
      ]
     },
     "execution_count": 17,
     "metadata": {},
     "output_type": "execute_result"
    }
   ],
   "source": [
    "_get_vocab_dict(DNA), _get_index_dict(DNA)"
   ]
  },
  {
   "cell_type": "code",
   "execution_count": 18,
   "id": "cd54f013-4021-4bd3-be72-ddb0ade6bfe3",
   "metadata": {},
   "outputs": [],
   "source": [
    "from eugene.preprocess._utils import _tokenize, _token2one_hot, _one_hot2token, _sequencize"
   ]
  },
  {
   "cell_type": "code",
   "execution_count": 19,
   "id": "267fe246-97ac-474b-98aa-2f50769ba57b",
   "metadata": {},
   "outputs": [
    {
     "data": {
      "text/plain": [
       "('CACACCAGAC',\n",
       " [1, 0, 1, 0, 1, 1, 0, 2, 0, 1],\n",
       " array([[0, 1, 0, 1, 0, 0, 1, 0, 1, 0],\n",
       "        [1, 0, 1, 0, 1, 1, 0, 0, 0, 1],\n",
       "        [0, 0, 0, 0, 0, 0, 0, 1, 0, 0],\n",
       "        [0, 0, 0, 0, 0, 0, 0, 0, 0, 0]], dtype=int8),\n",
       " array([1, 0, 1, 0, 1, 1, 0, 2, 0, 1]),\n",
       " 'CACACCAGAC')"
      ]
     },
     "execution_count": 19,
     "metadata": {},
     "output_type": "execute_result"
    }
   ],
   "source": [
    "tokens = _tokenize(seq)\n",
    "ohe = _token2one_hot(tokens)\n",
    "decoded_tokens = _one_hot2token(ohe)\n",
    "decoded_seq = _sequencize(decoded_tokens)\n",
    "seq, tokens, ohe, decoded_tokens, decoded_seq"
   ]
  },
  {
   "cell_type": "code",
   "execution_count": 20,
   "id": "e1c4c4eb-8943-4cc0-94d4-5f781b0736c3",
   "metadata": {},
   "outputs": [],
   "source": [
    "from eugene.preprocess._utils import _pad_sequences "
   ]
  },
  {
   "cell_type": "code",
   "execution_count": 21,
   "id": "8b9721d7-38fb-4cea-9e9c-95cba3e44613",
   "metadata": {},
   "outputs": [
    {
     "data": {
      "text/plain": [
       "(['CTCCTTTTCC', 'NNNNNTATCA'],\n",
       " ['CTCCTTTTCC', 'TATCA$$$$$'],\n",
       " ['CTCCTTTTCC', '000TATCA00'])"
      ]
     },
     "execution_count": 21,
     "metadata": {},
     "output_type": "execute_result"
    }
   ],
   "source": [
    "_pad_sequences(jagged_seqs, align=\"end\", value=\"N\"), _pad_sequences(jagged_seqs, align=\"start\", value=\"$\"), _pad_sequences(jagged_seqs, align=\"center\", value=\"0\")"
   ]
  },
  {
   "cell_type": "code",
   "execution_count": 22,
   "id": "e3355538-25c8-4d68-9132-7eabffb1ffd1",
   "metadata": {},
   "outputs": [
    {
     "data": {
      "text/plain": [
       "('NNNNNTATCA',\n",
       " [-1, -1, -1, -1, -1, 3, 0, 3, 1, 0],\n",
       " array([[0.25, 0.25, 0.25, 0.25, 0.25, 0.  , 1.  , 0.  , 0.  , 1.  ],\n",
       "        [0.25, 0.25, 0.25, 0.25, 0.25, 0.  , 0.  , 0.  , 1.  , 0.  ],\n",
       "        [0.25, 0.25, 0.25, 0.25, 0.25, 0.  , 0.  , 0.  , 0.  , 0.  ],\n",
       "        [0.25, 0.25, 0.25, 0.25, 0.25, 1.  , 0.  , 1.  , 0.  , 0.  ]],\n",
       "       dtype=float16),\n",
       " array([-1, -1, -1, -1, -1,  3,  0,  3,  1,  0]),\n",
       " 'NNNNNTATCA')"
      ]
     },
     "execution_count": 22,
     "metadata": {},
     "output_type": "execute_result"
    }
   ],
   "source": [
    "padded_seqs = _pad_sequences(jagged_seqs, align=\"end\", value=\"N\")\n",
    "tokens = _tokenize(padded_seqs[1])\n",
    "ohe = _token2one_hot(tokens, fill_value=0.25)\n",
    "decoded_tokens = _one_hot2token(ohe)\n",
    "decoded_seq = _sequencize(decoded_tokens)\n",
    "padded_seqs[1], tokens, ohe, decoded_tokens, decoded_seq"
   ]
  },
  {
   "cell_type": "code",
   "execution_count": 23,
   "id": "fb33c8f2-707d-4fa3-940a-66a75d2c3914",
   "metadata": {},
   "outputs": [],
   "source": [
    "from eugene.preprocess import ohe_seq, ohe_seqs, decode_seq, decode_seqs"
   ]
  },
  {
   "cell_type": "code",
   "execution_count": 24,
   "id": "2da50914-3610-404e-8255-77573eb2ee3d",
   "metadata": {},
   "outputs": [
    {
     "data": {
      "text/plain": [
       "('CACACCAGAC',\n",
       " array([[0., 1., 0., 1., 0., 0., 1., 0., 1., 0.],\n",
       "        [1., 0., 1., 0., 1., 1., 0., 0., 0., 1.],\n",
       "        [0., 0., 0., 0., 0., 0., 0., 1., 0., 0.],\n",
       "        [0., 0., 0., 0., 0., 0., 0., 0., 0., 0.]], dtype=float16),\n",
       " 'CACACCAGAC')"
      ]
     },
     "execution_count": 24,
     "metadata": {},
     "output_type": "execute_result"
    }
   ],
   "source": [
    "ohe = ohe_seq(seq)\n",
    "decoded_seq = decode_seq(ohe)\n",
    "seq, ohe, decoded_seq"
   ]
  },
  {
   "cell_type": "code",
   "execution_count": 56,
   "id": "edafe067-9604-4bcc-90eb-c42181da4387",
   "metadata": {},
   "outputs": [
    {
     "data": {
      "application/vnd.jupyter.widget-view+json": {
       "model_id": "02700c9ec9144302a222f8a2fa6c815f",
       "version_major": 2,
       "version_minor": 0
      },
      "text/plain": [
       "One-hot encoding sequences:   0%|          | 0/5 [00:00<?, ?it/s]"
      ]
     },
     "metadata": {},
     "output_type": "display_data"
    },
    {
     "data": {
      "application/vnd.jupyter.widget-view+json": {
       "model_id": "c0820a61e8bc47d7833647f23d1256a3",
       "version_major": 2,
       "version_minor": 0
      },
      "text/plain": [
       "Decoding sequences:   0%|          | 0/5 [00:00<?, ?it/s]"
      ]
     },
     "metadata": {},
     "output_type": "display_data"
    },
    {
     "data": {
      "text/plain": [
       "(array(['TCACCCCGGC', 'GTACATGTTC', 'GTGCAATAAC', 'CCAGTTGATC',\n",
       "        'AGGATGGTTG'], dtype='<U10'),\n",
       " array([[[0, 0, 1, 0, 0, 0, 0, 0, 0, 0],\n",
       "         [0, 1, 0, 1, 1, 1, 1, 0, 0, 1],\n",
       "         [0, 0, 0, 0, 0, 0, 0, 1, 1, 0],\n",
       "         [1, 0, 0, 0, 0, 0, 0, 0, 0, 0]],\n",
       " \n",
       "        [[0, 0, 1, 0, 1, 0, 0, 0, 0, 0],\n",
       "         [0, 0, 0, 1, 0, 0, 0, 0, 0, 1],\n",
       "         [1, 0, 0, 0, 0, 0, 1, 0, 0, 0],\n",
       "         [0, 1, 0, 0, 0, 1, 0, 1, 1, 0]],\n",
       " \n",
       "        [[0, 0, 0, 0, 1, 1, 0, 1, 1, 0],\n",
       "         [0, 0, 0, 1, 0, 0, 0, 0, 0, 1],\n",
       "         [1, 0, 1, 0, 0, 0, 0, 0, 0, 0],\n",
       "         [0, 1, 0, 0, 0, 0, 1, 0, 0, 0]],\n",
       " \n",
       "        [[0, 0, 1, 0, 0, 0, 0, 1, 0, 0],\n",
       "         [1, 1, 0, 0, 0, 0, 0, 0, 0, 1],\n",
       "         [0, 0, 0, 1, 0, 0, 1, 0, 0, 0],\n",
       "         [0, 0, 0, 0, 1, 1, 0, 0, 1, 0]],\n",
       " \n",
       "        [[1, 0, 0, 1, 0, 0, 0, 0, 0, 0],\n",
       "         [0, 0, 0, 0, 0, 0, 0, 0, 0, 0],\n",
       "         [0, 1, 1, 0, 0, 1, 1, 0, 0, 1],\n",
       "         [0, 0, 0, 0, 1, 0, 0, 1, 1, 0]]], dtype=int8),\n",
       " array(['TCACCCCGGC', 'GTACATGTTC', 'GTGCAATAAC', 'CCAGTTGATC',\n",
       "        'AGGATGGTTG'], dtype='<U10'))"
      ]
     },
     "execution_count": 56,
     "metadata": {},
     "output_type": "execute_result"
    }
   ],
   "source": [
    "ohes = ohe_seqs(seqs)\n",
    "decoded_seqs = decode_seqs(ohes)\n",
    "seqs, ohes, decoded_seqs"
   ]
  },
  {
   "cell_type": "code",
   "execution_count": 26,
   "id": "81dcd263-ba3e-4a18-81ba-10862b1af5fb",
   "metadata": {},
   "outputs": [
    {
     "data": {
      "application/vnd.jupyter.widget-view+json": {
       "model_id": "b6f83c4c5c444a669dc9bf9f42cb0661",
       "version_major": 2,
       "version_minor": 0
      },
      "text/plain": [
       "One-hot encoding sequences:   0%|          | 0/2 [00:00<?, ?it/s]"
      ]
     },
     "metadata": {},
     "output_type": "display_data"
    },
    {
     "data": {
      "application/vnd.jupyter.widget-view+json": {
       "model_id": "bdc18a8ea0124d5b8b7a3e04d02d3137",
       "version_major": 2,
       "version_minor": 0
      },
      "text/plain": [
       "Decoding sequences:   0%|          | 0/2 [00:00<?, ?it/s]"
      ]
     },
     "metadata": {},
     "output_type": "display_data"
    },
    {
     "data": {
      "text/plain": [
       "(['CTCCTTTTCC', 'TATCA'],\n",
       " array([[[0, 0, 0, 0, 0, 0, 0, 0, 0, 0],\n",
       "         [1, 0, 1, 1, 0, 0, 0, 0, 1, 1],\n",
       "         [0, 0, 0, 0, 0, 0, 0, 0, 0, 0],\n",
       "         [0, 1, 0, 0, 1, 1, 1, 1, 0, 0]],\n",
       " \n",
       "        [[0, 1, 0, 0, 1, 0, 0, 0, 0, 0],\n",
       "         [0, 0, 0, 1, 0, 0, 0, 0, 0, 0],\n",
       "         [0, 0, 0, 0, 0, 0, 0, 0, 0, 0],\n",
       "         [1, 0, 1, 0, 0, 0, 0, 0, 0, 0]]], dtype=int8),\n",
       " array(['CTCCTTTTCC', 'TATCANNNNN'], dtype='<U10'))"
      ]
     },
     "execution_count": 26,
     "metadata": {},
     "output_type": "execute_result"
    }
   ],
   "source": [
    "jagged_ohe_seqs = ohe_seqs(jagged_seqs)\n",
    "jagged_decoded_seqs = decode_seqs(jagged_ohe_seqs)\n",
    "jagged_seqs, jagged_ohe_seqs, jagged_decoded_seqs"
   ]
  },
  {
   "cell_type": "code",
   "execution_count": 27,
   "id": "e0c14273-320e-4a62-b504-503b0ba0faf6",
   "metadata": {},
   "outputs": [
    {
     "data": {
      "application/vnd.jupyter.widget-view+json": {
       "model_id": "1cca02958d5d4c52ba054028d3abbef4",
       "version_major": 2,
       "version_minor": 0
      },
      "text/plain": [
       "Reverse complementing sequences:   0%|          | 0/5 [00:00<?, ?it/s]"
      ]
     },
     "metadata": {},
     "output_type": "display_data"
    },
    {
     "data": {
      "text/plain": [
       "array(['GCCGGGGTGA', 'GAACATGTAC', 'GTTATTGCAC', 'GATCAACTGG',\n",
       "       'CAACCATCCT'], dtype='<U10')"
      ]
     },
     "execution_count": 27,
     "metadata": {},
     "output_type": "execute_result"
    }
   ],
   "source": [
    "reverse_complement_seqs(seqs)"
   ]
  },
  {
   "cell_type": "code",
   "execution_count": 35,
   "id": "c35eafc0-764a-426c-a5ec-bc75b24afd19",
   "metadata": {},
   "outputs": [
    {
     "data": {
      "text/plain": [
       "'GTCTGGTGTG'"
      ]
     },
     "execution_count": 35,
     "metadata": {},
     "output_type": "execute_result"
    }
   ],
   "source": [
    "rc_seq"
   ]
  },
  {
   "cell_type": "code",
   "execution_count": 36,
   "id": "452017c2-cbfe-4ec1-b3e6-939b8291b47a",
   "metadata": {},
   "outputs": [
    {
     "name": "stdout",
     "output_type": "stream",
     "text": [
      "seq [[0. 1. 0. 1. 0. 0. 1. 0. 1. 0.]\n",
      " [1. 0. 1. 0. 1. 1. 0. 0. 0. 1.]\n",
      " [0. 0. 0. 0. 0. 0. 0. 1. 0. 0.]\n",
      " [0. 0. 0. 0. 0. 0. 0. 0. 0. 0.]]\n"
     ]
    },
    {
     "data": {
      "text/plain": [
       "'GTGTGGTCTG'"
      ]
     },
     "execution_count": 36,
     "metadata": {},
     "output_type": "execute_result"
    }
   ],
   "source": [
    "decode_seq(reverse_complement_seq(ohe))"
   ]
  },
  {
   "cell_type": "code",
   "execution_count": 37,
   "id": "c482a4a0-6182-45f9-9779-6dfa2f13b10b",
   "metadata": {},
   "outputs": [
    {
     "name": "stdout",
     "output_type": "stream",
     "text": [
      "seq [[[0 0 1 0 0 0 0 0 0 0]\n",
      "  [0 1 0 1 1 1 1 0 0 1]\n",
      "  [0 0 0 0 0 0 0 1 1 0]\n",
      "  [1 0 0 0 0 0 0 0 0 0]]\n",
      "\n",
      " [[0 0 1 0 1 0 0 0 0 0]\n",
      "  [0 0 0 1 0 0 0 0 0 1]\n",
      "  [1 0 0 0 0 0 1 0 0 0]\n",
      "  [0 1 0 0 0 1 0 1 1 0]]\n",
      "\n",
      " [[0 0 0 0 1 1 0 1 1 0]\n",
      "  [0 0 0 1 0 0 0 0 0 1]\n",
      "  [1 0 1 0 0 0 0 0 0 0]\n",
      "  [0 1 0 0 0 0 1 0 0 0]]\n",
      "\n",
      " [[0 0 1 0 0 0 0 1 0 0]\n",
      "  [1 1 0 0 0 0 0 0 0 1]\n",
      "  [0 0 0 1 0 0 1 0 0 0]\n",
      "  [0 0 0 0 1 1 0 0 1 0]]\n",
      "\n",
      " [[1 0 0 1 0 0 0 0 0 0]\n",
      "  [0 0 0 0 0 0 0 0 0 0]\n",
      "  [0 1 1 0 0 1 1 0 0 1]\n",
      "  [0 0 0 0 1 0 0 1 1 0]]]\n"
     ]
    },
    {
     "data": {
      "application/vnd.jupyter.widget-view+json": {
       "model_id": "94d1c8a49e7b43bbbea06307939cdd80",
       "version_major": 2,
       "version_minor": 0
      },
      "text/plain": [
       "Decoding sequences:   0%|          | 0/5 [00:00<?, ?it/s]"
      ]
     },
     "metadata": {},
     "output_type": "display_data"
    },
    {
     "data": {
      "text/plain": [
       "array(['AGGATGGTTG', 'CCAGTTGATC', 'GTGCAATAAC', 'GTACATGTTC',\n",
       "       'TCACCCCGGC'], dtype='<U10')"
      ]
     },
     "execution_count": 37,
     "metadata": {},
     "output_type": "execute_result"
    }
   ],
   "source": [
    "decode_seqs(reverse_complement_seqs(ohes))"
   ]
  },
  {
   "cell_type": "code",
   "execution_count": 40,
   "id": "099dc8f6-5d0a-42de-a645-20a6a46a0e0b",
   "metadata": {},
   "outputs": [],
   "source": [
    "import torch\n",
    "import numpy as np"
   ]
  },
  {
   "cell_type": "code",
   "execution_count": 48,
   "id": "885edc1c-3b88-4083-b05e-7a91efc1a3d7",
   "metadata": {},
   "outputs": [
    {
     "data": {
      "text/plain": [
       "array([[0, 0, 1, 0, 1, 0, 0, 0, 0, 0],\n",
       "       [0, 0, 0, 1, 0, 0, 0, 0, 0, 1],\n",
       "       [1, 0, 0, 0, 0, 0, 1, 0, 0, 0],\n",
       "       [0, 1, 0, 0, 0, 1, 0, 1, 1, 0]], dtype=int8)"
      ]
     },
     "execution_count": 48,
     "metadata": {},
     "output_type": "execute_result"
    }
   ],
   "source": [
    "ohes[1]"
   ]
  },
  {
   "cell_type": "code",
   "execution_count": 54,
   "id": "e4919b65-e8f3-4a44-b23c-39b4cc0825b8",
   "metadata": {},
   "outputs": [
    {
     "data": {
      "text/plain": [
       "array([[0, 1, 1, 0, 1, 0, 0, 0, 1, 0],\n",
       "       [0, 0, 0, 1, 0, 0, 0, 0, 0, 1],\n",
       "       [1, 0, 0, 0, 0, 0, 1, 0, 0, 0],\n",
       "       [0, 0, 0, 0, 0, 1, 0, 1, 0, 0]], dtype=int8)"
      ]
     },
     "execution_count": 54,
     "metadata": {},
     "output_type": "execute_result"
    }
   ],
   "source": [
    "torch.from_numpy(np.flip(ohes[1], axis=(0, 1)).copy()).numpy()"
   ]
  },
  {
   "cell_type": "code",
   "execution_count": 58,
   "id": "b035ecd0-8ad6-40ff-b07c-4015e0ac39f1",
   "metadata": {},
   "outputs": [
    {
     "data": {
      "text/plain": [
       "'GTACATGTTC'"
      ]
     },
     "execution_count": 58,
     "metadata": {},
     "output_type": "execute_result"
    }
   ],
   "source": [
    "seqs[1]"
   ]
  },
  {
   "cell_type": "code",
   "execution_count": 66,
   "id": "d8ced705-45b3-4714-bc30-9410d2168b51",
   "metadata": {},
   "outputs": [
    {
     "data": {
      "text/plain": [
       "array(['GCCGGGGTGA', 'GAACATGTAC', 'GTTATTGCAC', 'GATCAACTGG',\n",
       "       'CAACCATCCT'], dtype='<U10')"
      ]
     },
     "execution_count": 66,
     "metadata": {},
     "output_type": "execute_result"
    }
   ],
   "source": [
    "rc_seqs"
   ]
  },
  {
   "cell_type": "code",
   "execution_count": 67,
   "id": "ec2ffb57-537e-483b-a01a-63c8735810f2",
   "metadata": {},
   "outputs": [
    {
     "data": {
      "application/vnd.jupyter.widget-view+json": {
       "model_id": "16167489d2a4467daa82be8a26391606",
       "version_major": 2,
       "version_minor": 0
      },
      "text/plain": [
       "Decoding sequences:   0%|          | 0/5 [00:00<?, ?it/s]"
      ]
     },
     "metadata": {},
     "output_type": "display_data"
    },
    {
     "data": {
      "text/plain": [
       "array(['GCCGGGGTGA', 'GAACATGTAC', 'GTTATTGCAC', 'GATCAACTGG',\n",
       "       'CAACCATCCT'], dtype='<U10')"
      ]
     },
     "execution_count": 67,
     "metadata": {},
     "output_type": "execute_result"
    }
   ],
   "source": [
    "eu.pp.decode_seqs(torch.from_numpy(np.flip(ohes, axis=(1,2)).copy()).numpy())"
   ]
  },
  {
   "cell_type": "code",
   "execution_count": 38,
   "id": "1f8575b1-78d4-4fd5-86fb-612c67b2efd1",
   "metadata": {},
   "outputs": [
    {
     "data": {
      "text/plain": [
       "array(['GCCGGGGTGA', 'GAACATGTAC', 'GTTATTGCAC', 'GATCAACTGG',\n",
       "       'CAACCATCCT'], dtype='<U10')"
      ]
     },
     "execution_count": 38,
     "metadata": {},
     "output_type": "execute_result"
    }
   ],
   "source": [
    "rc_seqs"
   ]
  },
  {
   "cell_type": "code",
   "execution_count": 39,
   "id": "6caf5fc0-02a8-4946-ac1c-965059517ad4",
   "metadata": {},
   "outputs": [
    {
     "data": {
      "application/vnd.jupyter.widget-view+json": {
       "model_id": "46423812b2a84e6c8569b52ba7def64e",
       "version_major": 2,
       "version_minor": 0
      },
      "text/plain": [
       "Decoding sequences:   0%|          | 0/5 [00:00<?, ?it/s]"
      ]
     },
     "metadata": {},
     "output_type": "display_data"
    },
    {
     "data": {
      "text/plain": [
       "array(['GCCGGGGTGA', 'GAACATGTAC', 'GTTATTGCAC', 'GATCAACTGG',\n",
       "       'CAACCATCCT'], dtype='<U10')"
      ]
     },
     "execution_count": 39,
     "metadata": {},
     "output_type": "execute_result"
    }
   ],
   "source": [
    "decode_seqs(ohes[:, ::-1, ::-1])"
   ]
  },
  {
   "cell_type": "markdown",
   "id": "60803e33-1a6c-4a9d-8414-4df5b395e203",
   "metadata": {
    "jp-MarkdownHeadingCollapsed": true,
    "tags": []
   },
   "source": [
    "### Dinucleotide shuffle"
   ]
  },
  {
   "cell_type": "code",
   "execution_count": 141,
   "id": "37c59c1c-3dfc-4ae4-b1d5-d02c67e9c5bb",
   "metadata": {},
   "outputs": [],
   "source": [
    "from eugene.preprocess import dinuc_shuffle_seq, dinuc_shuffle_seqs"
   ]
  },
  {
   "cell_type": "code",
   "execution_count": 142,
   "id": "eafa587d-b454-4788-8fcc-7de83d48f35a",
   "metadata": {},
   "outputs": [
    {
     "data": {
      "text/plain": [
       "('CACACCAGAC',\n",
       " ['CCACAGACAC',\n",
       "  'CACACCAGAC',\n",
       "  'CACAGACCAC',\n",
       "  'CACCAGACAC',\n",
       "  'CCACAGACAC',\n",
       "  'CACCACAGAC',\n",
       "  'CCACACAGAC',\n",
       "  'CCACAGACAC',\n",
       "  'CCACACAGAC',\n",
       "  'CACAGACCAC'])"
      ]
     },
     "execution_count": 142,
     "metadata": {},
     "output_type": "execute_result"
    }
   ],
   "source": [
    "dnt_shuf_seq = dinuc_shuffle_seq(seq, num_shufs=10)\n",
    "seq, dnt_shuf_seq"
   ]
  },
  {
   "cell_type": "code",
   "execution_count": 143,
   "id": "5cdec965-e2c7-4dc3-b58b-9cbda9e8bfff",
   "metadata": {},
   "outputs": [
    {
     "data": {
      "text/plain": [
       "(array(['TCACCCCGGC', 'GTACATGTTC', 'GTGCAATAAC', 'CCAGTTGATC',\n",
       "        'AGGATGGTTG'], dtype='<U10'),\n",
       " array(['TCCACCCGGC', 'GTACATTGTC', 'GTGCAAATAC', 'CCAGTTGATC',\n",
       "        'AGATTGGGTG'], dtype='<U10'))"
      ]
     },
     "execution_count": 143,
     "metadata": {},
     "output_type": "execute_result"
    }
   ],
   "source": [
    "dnt_shuf_seqs = dinuc_shuffle_seqs(seqs)\n",
    "seqs, dnt_shuf_seqs"
   ]
  },
  {
   "cell_type": "markdown",
   "id": "54d08268-d81f-4717-82c5-5cfa5af1eb17",
   "metadata": {
    "tags": []
   },
   "source": [
    "### In silico mutagenesis"
   ]
  },
  {
   "cell_type": "code",
   "execution_count": 190,
   "id": "5aa49091-b7ea-4596-94fd-7fcf9437d10b",
   "metadata": {},
   "outputs": [],
   "source": [
    "from eugene.preprocess import perturb_seq, perturb_seqs"
   ]
  },
  {
   "cell_type": "code",
   "execution_count": 202,
   "id": "05ad720c-cc87-4b3d-a622-44874230477c",
   "metadata": {},
   "outputs": [
    {
     "data": {
      "application/vnd.jupyter.widget-view+json": {
       "model_id": "88c9b48ff455405ba9ce0a73a5e7064b",
       "version_major": 2,
       "version_minor": 0
      },
      "text/plain": [
       "Decoding sequences:   0%|          | 0/30 [00:00<?, ?it/s]"
      ]
     },
     "metadata": {},
     "output_type": "display_data"
    },
    {
     "data": {
      "text/plain": [
       "('CACACCAGAC',\n",
       " array(['GACACCAGAC', 'TACACCAGAC', 'AACACCAGAC', 'CCCACCAGAC',\n",
       "        'CGCACCAGAC', 'CTCACCAGAC', 'CAGACCAGAC', 'CATACCAGAC',\n",
       "        'CAAACCAGAC', 'CACCCCAGAC', 'CACGCCAGAC', 'CACTCCAGAC',\n",
       "        'CACAGCAGAC', 'CACATCAGAC', 'CACAACAGAC', 'CACACGAGAC',\n",
       "        'CACACTAGAC', 'CACACAAGAC', 'CACACCCGAC', 'CACACCGGAC',\n",
       "        'CACACCTGAC', 'CACACCATAC', 'CACACCAAAC', 'CACACCACAC',\n",
       "        'CACACCAGCC', 'CACACCAGGC', 'CACACCAGTC', 'CACACCAGAG',\n",
       "        'CACACCAGAT', 'CACACCAGAA'], dtype='<U10'))"
      ]
     },
     "execution_count": 202,
     "metadata": {},
     "output_type": "execute_result"
    }
   ],
   "source": [
    "decoded_perturb = decode_seqs(perturb_seq(ohe))\n",
    "seq, decoded_perturb"
   ]
  },
  {
   "cell_type": "code",
   "execution_count": 204,
   "id": "3206c277-83a8-4452-83dd-54614989c31c",
   "metadata": {},
   "outputs": [
    {
     "data": {
      "application/vnd.jupyter.widget-view+json": {
       "model_id": "a4fabbcf7e254662b6eb11d35fcf82f2",
       "version_major": 2,
       "version_minor": 0
      },
      "text/plain": [
       "Decoding sequences:   0%|          | 0/30 [00:00<?, ?it/s]"
      ]
     },
     "metadata": {},
     "output_type": "display_data"
    },
    {
     "data": {
      "text/plain": [
       "('TCACCCCGGC',\n",
       " array(['ACACCCCGGC', 'CCACCCCGGC', 'GCACCCCGGC', 'TGACCCCGGC',\n",
       "        'TTACCCCGGC', 'TAACCCCGGC', 'TCCCCCCGGC', 'TCGCCCCGGC',\n",
       "        'TCTCCCCGGC', 'TCAGCCCGGC', 'TCATCCCGGC', 'TCAACCCGGC',\n",
       "        'TCACGCCGGC', 'TCACTCCGGC', 'TCACACCGGC', 'TCACCGCGGC',\n",
       "        'TCACCTCGGC', 'TCACCACGGC', 'TCACCCGGGC', 'TCACCCTGGC',\n",
       "        'TCACCCAGGC', 'TCACCCCTGC', 'TCACCCCAGC', 'TCACCCCCGC',\n",
       "        'TCACCCCGTC', 'TCACCCCGAC', 'TCACCCCGCC', 'TCACCCCGGG',\n",
       "        'TCACCCCGGT', 'TCACCCCGGA'], dtype='<U10'))"
      ]
     },
     "execution_count": 204,
     "metadata": {},
     "output_type": "execute_result"
    }
   ],
   "source": [
    "decoded_perturbs = decode_seqs(perturb_seqs(ohes)[0])\n",
    "seqs[0], decoded_perturbs"
   ]
  },
  {
   "cell_type": "markdown",
   "id": "3b530a3d-4baf-45ba-9f93-df764de3e2c7",
   "metadata": {
    "tags": []
   },
   "source": [
    "### Feature implant "
   ]
  },
  {
   "cell_type": "code",
   "execution_count": 222,
   "id": "320f8703-ebb1-4482-a76f-d3814a9b28ad",
   "metadata": {},
   "outputs": [],
   "source": [
    "from eugene.preprocess._utils import _token2one_hot"
   ]
  },
  {
   "cell_type": "code",
   "execution_count": 302,
   "id": "725fddd2-0aed-43af-a2ef-7f065b389aa7",
   "metadata": {},
   "outputs": [],
   "source": [
    "# Prep data\n",
    "meme = eu.dl.motif.MinimalMEME(path=\"../../_data/CPEs.meme\")\n",
    "motif = meme.motifs[\"TATA\"]\n",
    "name = motif.name\n",
    "pfm = motif.pfm[4:8]\n",
    "consensus = motif.consensus[4:8] \n",
    "pos = 2"
   ]
  },
  {
   "cell_type": "code",
   "execution_count": 304,
   "id": "45993436-c82f-4614-8283-b8e844df9cda",
   "metadata": {},
   "outputs": [
    {
     "data": {
      "text/plain": [
       "array(['TATACCAGAC', 'CTATACAGAC', 'CATATAAGAC', 'CACTATAGAC',\n",
       "       'CACATATAAC', 'CACACTATAC', 'CACACCTATA'], dtype='<U10')"
      ]
     },
     "execution_count": 304,
     "metadata": {},
     "output_type": "execute_result"
    }
   ],
   "source": [
    "eu.pp.feature_implant_across_seq(seq, consensus, encoding=\"str\")"
   ]
  },
  {
   "cell_type": "code",
   "execution_count": 305,
   "id": "275f048b-8204-4f07-8b65-ae93d7fdc198",
   "metadata": {},
   "outputs": [
    {
     "data": {
      "text/plain": [
       "array([[0.   , 1.   , 0.01 , 0.968, 0.002, 0.992, 1.   , 0.   , 1.   ,\n",
       "        0.   ],\n",
       "       [1.   , 0.   , 0.002, 0.   , 0.014, 0.   , 0.   , 0.   , 0.   ,\n",
       "        1.   ],\n",
       "       [0.   , 0.   , 0.002, 0.   , 0.006, 0.002, 0.   , 1.   , 0.   ,\n",
       "        0.   ],\n",
       "       [0.   , 0.   , 0.986, 0.032, 0.978, 0.006, 0.   , 0.   , 0.   ,\n",
       "        0.   ]])"
      ]
     },
     "execution_count": 305,
     "metadata": {},
     "output_type": "execute_result"
    }
   ],
   "source": [
    "eu.pp.feature_implant_seq(ohe, pfm.T, pos, encoding=\"onehot\")"
   ]
  },
  {
   "cell_type": "code",
   "execution_count": 261,
   "id": "74344a08-82c2-4fcf-82dd-66f996b5d880",
   "metadata": {},
   "outputs": [
    {
     "data": {
      "text/plain": [
       "array([[[0.01 , 0.968, 0.002, 0.992, 0.   , 0.   , 1.   , 0.   , 1.   ,\n",
       "         0.   ],\n",
       "        [0.002, 0.   , 0.014, 0.   , 1.   , 1.   , 0.   , 0.   , 0.   ,\n",
       "         1.   ],\n",
       "        [0.002, 0.   , 0.006, 0.002, 0.   , 0.   , 0.   , 1.   , 0.   ,\n",
       "         0.   ],\n",
       "        [0.986, 0.032, 0.978, 0.006, 0.   , 0.   , 0.   , 0.   , 0.   ,\n",
       "         0.   ]],\n",
       "\n",
       "       [[0.   , 0.01 , 0.968, 0.002, 0.992, 0.   , 1.   , 0.   , 1.   ,\n",
       "         0.   ],\n",
       "        [1.   , 0.002, 0.   , 0.014, 0.   , 1.   , 0.   , 0.   , 0.   ,\n",
       "         1.   ],\n",
       "        [0.   , 0.002, 0.   , 0.006, 0.002, 0.   , 0.   , 1.   , 0.   ,\n",
       "         0.   ],\n",
       "        [0.   , 0.986, 0.032, 0.978, 0.006, 0.   , 0.   , 0.   , 0.   ,\n",
       "         0.   ]],\n",
       "\n",
       "       [[0.   , 1.   , 0.01 , 0.968, 0.002, 0.992, 1.   , 0.   , 1.   ,\n",
       "         0.   ],\n",
       "        [1.   , 0.   , 0.002, 0.   , 0.014, 0.   , 0.   , 0.   , 0.   ,\n",
       "         1.   ],\n",
       "        [0.   , 0.   , 0.002, 0.   , 0.006, 0.002, 0.   , 1.   , 0.   ,\n",
       "         0.   ],\n",
       "        [0.   , 0.   , 0.986, 0.032, 0.978, 0.006, 0.   , 0.   , 0.   ,\n",
       "         0.   ]],\n",
       "\n",
       "       [[0.   , 1.   , 0.   , 0.01 , 0.968, 0.002, 0.992, 0.   , 1.   ,\n",
       "         0.   ],\n",
       "        [1.   , 0.   , 1.   , 0.002, 0.   , 0.014, 0.   , 0.   , 0.   ,\n",
       "         1.   ],\n",
       "        [0.   , 0.   , 0.   , 0.002, 0.   , 0.006, 0.002, 1.   , 0.   ,\n",
       "         0.   ],\n",
       "        [0.   , 0.   , 0.   , 0.986, 0.032, 0.978, 0.006, 0.   , 0.   ,\n",
       "         0.   ]],\n",
       "\n",
       "       [[0.   , 1.   , 0.   , 1.   , 0.01 , 0.968, 0.002, 0.992, 1.   ,\n",
       "         0.   ],\n",
       "        [1.   , 0.   , 1.   , 0.   , 0.002, 0.   , 0.014, 0.   , 0.   ,\n",
       "         1.   ],\n",
       "        [0.   , 0.   , 0.   , 0.   , 0.002, 0.   , 0.006, 0.002, 0.   ,\n",
       "         0.   ],\n",
       "        [0.   , 0.   , 0.   , 0.   , 0.986, 0.032, 0.978, 0.006, 0.   ,\n",
       "         0.   ]],\n",
       "\n",
       "       [[0.   , 1.   , 0.   , 1.   , 0.   , 0.01 , 0.968, 0.002, 0.992,\n",
       "         0.   ],\n",
       "        [1.   , 0.   , 1.   , 0.   , 1.   , 0.002, 0.   , 0.014, 0.   ,\n",
       "         1.   ],\n",
       "        [0.   , 0.   , 0.   , 0.   , 0.   , 0.002, 0.   , 0.006, 0.002,\n",
       "         0.   ],\n",
       "        [0.   , 0.   , 0.   , 0.   , 0.   , 0.986, 0.032, 0.978, 0.006,\n",
       "         0.   ]],\n",
       "\n",
       "       [[0.   , 1.   , 0.   , 1.   , 0.   , 0.   , 0.01 , 0.968, 0.002,\n",
       "         0.992],\n",
       "        [1.   , 0.   , 1.   , 0.   , 1.   , 1.   , 0.002, 0.   , 0.014,\n",
       "         0.   ],\n",
       "        [0.   , 0.   , 0.   , 0.   , 0.   , 0.   , 0.002, 0.   , 0.006,\n",
       "         0.002],\n",
       "        [0.   , 0.   , 0.   , 0.   , 0.   , 0.   , 0.986, 0.032, 0.978,\n",
       "         0.006]]])"
      ]
     },
     "execution_count": 261,
     "metadata": {},
     "output_type": "execute_result"
    }
   ],
   "source": [
    "eu.pp.feature_implant_across_seq(ohe, pfm.T, encoding=\"onehot\")"
   ]
  },
  {
   "cell_type": "code",
   "execution_count": 266,
   "id": "f752d2cb-0e09-4acf-9d18-b5e3a75dd5b9",
   "metadata": {},
   "outputs": [
    {
     "data": {
      "text/plain": [
       "array([[0., 1., 0., 1., 0., 0., 1., 0., 1., 0.],\n",
       "       [1., 0., 1., 0., 1., 1., 0., 0., 0., 1.],\n",
       "       [0., 0., 0., 0., 0., 0., 0., 1., 0., 0.],\n",
       "       [0., 0., 0., 0., 0., 0., 0., 0., 0., 0.]], dtype=float16)"
      ]
     },
     "execution_count": 266,
     "metadata": {},
     "output_type": "execute_result"
    }
   ],
   "source": [
    "ohe"
   ]
  },
  {
   "cell_type": "code",
   "execution_count": 265,
   "id": "f893ca97-6812-4e6e-a4f3-34d76a832e43",
   "metadata": {},
   "outputs": [
    {
     "data": {
      "text/plain": [
       "array([[0., 1., 0., 1., 0., 1., 1., 0., 1., 0.],\n",
       "       [1., 0., 0., 0., 0., 0., 0., 0., 0., 1.],\n",
       "       [0., 0., 0., 0., 0., 0., 0., 1., 0., 0.],\n",
       "       [0., 0., 1., 0., 1., 0., 0., 0., 0., 0.]], dtype=float16)"
      ]
     },
     "execution_count": 265,
     "metadata": {},
     "output_type": "execute_result"
    }
   ],
   "source": [
    "eu.pp.feature_implant_seq(ohe, pfm, pos, encoding=\"onehot\", onehot=True)"
   ]
  },
  {
   "cell_type": "code",
   "execution_count": 267,
   "id": "3e6560a8-6def-4881-b3b0-b0140afe2fc5",
   "metadata": {},
   "outputs": [
    {
     "data": {
      "text/plain": [
       "array([[[0., 1., 0., 1., 0., 0., 1., 0., 1., 0.],\n",
       "        [0., 0., 0., 0., 1., 1., 0., 0., 0., 1.],\n",
       "        [0., 0., 0., 0., 0., 0., 0., 1., 0., 0.],\n",
       "        [1., 0., 1., 0., 0., 0., 0., 0., 0., 0.]],\n",
       "\n",
       "       [[0., 0., 1., 0., 1., 0., 1., 0., 1., 0.],\n",
       "        [1., 0., 0., 0., 0., 1., 0., 0., 0., 1.],\n",
       "        [0., 0., 0., 0., 0., 0., 0., 1., 0., 0.],\n",
       "        [0., 1., 0., 1., 0., 0., 0., 0., 0., 0.]],\n",
       "\n",
       "       [[0., 1., 0., 1., 0., 1., 1., 0., 1., 0.],\n",
       "        [1., 0., 0., 0., 0., 0., 0., 0., 0., 1.],\n",
       "        [0., 0., 0., 0., 0., 0., 0., 1., 0., 0.],\n",
       "        [0., 0., 1., 0., 1., 0., 0., 0., 0., 0.]],\n",
       "\n",
       "       [[0., 1., 0., 0., 1., 0., 1., 0., 1., 0.],\n",
       "        [1., 0., 1., 0., 0., 0., 0., 0., 0., 1.],\n",
       "        [0., 0., 0., 0., 0., 0., 0., 1., 0., 0.],\n",
       "        [0., 0., 0., 1., 0., 1., 0., 0., 0., 0.]],\n",
       "\n",
       "       [[0., 1., 0., 1., 0., 1., 0., 1., 1., 0.],\n",
       "        [1., 0., 1., 0., 0., 0., 0., 0., 0., 1.],\n",
       "        [0., 0., 0., 0., 0., 0., 0., 0., 0., 0.],\n",
       "        [0., 0., 0., 0., 1., 0., 1., 0., 0., 0.]],\n",
       "\n",
       "       [[0., 1., 0., 1., 0., 0., 1., 0., 1., 0.],\n",
       "        [1., 0., 1., 0., 1., 0., 0., 0., 0., 1.],\n",
       "        [0., 0., 0., 0., 0., 0., 0., 0., 0., 0.],\n",
       "        [0., 0., 0., 0., 0., 1., 0., 1., 0., 0.]],\n",
       "\n",
       "       [[0., 1., 0., 1., 0., 0., 0., 1., 0., 1.],\n",
       "        [1., 0., 1., 0., 1., 1., 0., 0., 0., 0.],\n",
       "        [0., 0., 0., 0., 0., 0., 0., 0., 0., 0.],\n",
       "        [0., 0., 0., 0., 0., 0., 1., 0., 1., 0.]]], dtype=float16)"
      ]
     },
     "execution_count": 267,
     "metadata": {},
     "output_type": "execute_result"
    }
   ],
   "source": [
    "eu.pp.feature_implant_across_seq(ohe, pfm, encoding=\"onehot\", onehot=True)"
   ]
  },
  {
   "cell_type": "code",
   "execution_count": 3,
   "id": "79e3a3a5-4056-4355-951f-671f13cdbfb4",
   "metadata": {},
   "outputs": [],
   "source": [
    "sdata = eu.datasets.random1000()"
   ]
  },
  {
   "cell_type": "code",
   "execution_count": 4,
   "id": "14d0a6a6-e028-448f-8a98-e454cd1538fb",
   "metadata": {},
   "outputs": [
    {
     "data": {
      "application/vnd.jupyter.widget-view+json": {
       "model_id": "9479b4320b0f453eb02a1ba21f0fc886",
       "version_major": 2,
       "version_minor": 0
      },
      "text/plain": [
       "One-hot-encoding sequences:   0%|          | 0/1000 [00:00<?, ?it/s]"
      ]
     },
     "metadata": {},
     "output_type": "display_data"
    },
    {
     "name": "stdout",
     "output_type": "stream",
     "text": [
      "SeqData object modified:\n",
      "\tohe_seqs: None -> 1000 ohe_seqs added\n"
     ]
    }
   ],
   "source": [
    "eu.pp.one_hot_encode_data(sdata)"
   ]
  },
  {
   "cell_type": "code",
   "execution_count": 5,
   "id": "f47a9060-af1b-4b27-9589-19683a2af71c",
   "metadata": {},
   "outputs": [],
   "source": [
    "# Prep data\n",
    "model = eu.models.DeepBind(input_len=66, output_dim=1)\n",
    "seq = sdata.seqs[0]\n",
    "ohe_seq = eu.pp.ohe_DNA_seq(seq)\n",
    "meme = eu.utils.MinimalMEME(path=\"../../_datasets/jores21/CPEs.meme\")\n",
    "motif = meme.motifs[\"TATA\"]\n",
    "name = motif.name\n",
    "pfm = motif.pfm\n",
    "consensus = eu.pp.decode_DNA_seq(pfm)\n",
    "pos = 2"
   ]
  },
  {
   "cell_type": "code",
   "execution_count": 6,
   "id": "bb22ad4a-3a64-4f46-b798-11443ae4b6da",
   "metadata": {},
   "outputs": [
    {
     "data": {
      "text/plain": [
       "'AGCCCCTATAAATACCCCTTGGGCCCAACGGATCAGCCTCTATAAACCGTATCCGACAATATAAGG'"
      ]
     },
     "execution_count": 6,
     "metadata": {},
     "output_type": "execute_result"
    }
   ],
   "source": [
    "eu.pp.feature_implant_seq(seq, consensus, pos, encoding=\"str\")"
   ]
  },
  {
   "cell_type": "code",
   "execution_count": 7,
   "id": "18808431-7211-495b-8f7f-410b6dd852f1",
   "metadata": {},
   "outputs": [
    {
     "data": {
      "text/plain": [
       "array(['CCCCTATAAATACCCCTGTTGGGCCCAACGGATCAGCCTCTATAAACCGTATCCGACAATATAAGG',\n",
       "       'ACCCCTATAAATACCCCGTTGGGCCCAACGGATCAGCCTCTATAAACCGTATCCGACAATATAAGG',\n",
       "       'AGCCCCTATAAATACCCCTTGGGCCCAACGGATCAGCCTCTATAAACCGTATCCGACAATATAAGG',\n",
       "       'AGGCCCCTATAAATACCCCTGGGCCCAACGGATCAGCCTCTATAAACCGTATCCGACAATATAAGG',\n",
       "       'AGGACCCCTATAAATACCCCGGGCCCAACGGATCAGCCTCTATAAACCGTATCCGACAATATAAGG',\n",
       "       'AGGACCCCCTATAAATACCCCGGCCCAACGGATCAGCCTCTATAAACCGTATCCGACAATATAAGG',\n",
       "       'AGGACACCCCTATAAATACCCCGCCCAACGGATCAGCCTCTATAAACCGTATCCGACAATATAAGG',\n",
       "       'AGGACAGCCCCTATAAATACCCCCCCAACGGATCAGCCTCTATAAACCGTATCCGACAATATAAGG',\n",
       "       'AGGACAGACCCCTATAAATACCCCCCAACGGATCAGCCTCTATAAACCGTATCCGACAATATAAGG',\n",
       "       'AGGACAGATCCCCTATAAATACCCCCAACGGATCAGCCTCTATAAACCGTATCCGACAATATAAGG',\n",
       "       'AGGACAGATTCCCCTATAAATACCCCAACGGATCAGCCTCTATAAACCGTATCCGACAATATAAGG',\n",
       "       'AGGACAGATTTCCCCTATAAATACCCCACGGATCAGCCTCTATAAACCGTATCCGACAATATAAGG',\n",
       "       'AGGACAGATTTTCCCCTATAAATACCCCCGGATCAGCCTCTATAAACCGTATCCGACAATATAAGG',\n",
       "       'AGGACAGATTTTCCCCCTATAAATACCCCGGATCAGCCTCTATAAACCGTATCCGACAATATAAGG',\n",
       "       'AGGACAGATTTTCGCCCCTATAAATACCCCGATCAGCCTCTATAAACCGTATCCGACAATATAAGG',\n",
       "       'AGGACAGATTTTCGCCCCCTATAAATACCCCATCAGCCTCTATAAACCGTATCCGACAATATAAGG',\n",
       "       'AGGACAGATTTTCGCGCCCCTATAAATACCCCTCAGCCTCTATAAACCGTATCCGACAATATAAGG',\n",
       "       'AGGACAGATTTTCGCGTCCCCTATAAATACCCCCAGCCTCTATAAACCGTATCCGACAATATAAGG',\n",
       "       'AGGACAGATTTTCGCGTGCCCCTATAAATACCCCAGCCTCTATAAACCGTATCCGACAATATAAGG',\n",
       "       'AGGACAGATTTTCGCGTGTCCCCTATAAATACCCCGCCTCTATAAACCGTATCCGACAATATAAGG',\n",
       "       'AGGACAGATTTTCGCGTGTTCCCCTATAAATACCCCCCTCTATAAACCGTATCCGACAATATAAGG',\n",
       "       'AGGACAGATTTTCGCGTGTTGCCCCTATAAATACCCCCTCTATAAACCGTATCCGACAATATAAGG',\n",
       "       'AGGACAGATTTTCGCGTGTTGGCCCCTATAAATACCCCTCTATAAACCGTATCCGACAATATAAGG',\n",
       "       'AGGACAGATTTTCGCGTGTTGGGCCCCTATAAATACCCCCTATAAACCGTATCCGACAATATAAGG',\n",
       "       'AGGACAGATTTTCGCGTGTTGGGCCCCCTATAAATACCCCTATAAACCGTATCCGACAATATAAGG',\n",
       "       'AGGACAGATTTTCGCGTGTTGGGCCCCCCTATAAATACCCCATAAACCGTATCCGACAATATAAGG',\n",
       "       'AGGACAGATTTTCGCGTGTTGGGCCCCCCCTATAAATACCCCTAAACCGTATCCGACAATATAAGG',\n",
       "       'AGGACAGATTTTCGCGTGTTGGGCCCACCCCTATAAATACCCCAAACCGTATCCGACAATATAAGG',\n",
       "       'AGGACAGATTTTCGCGTGTTGGGCCCAACCCCTATAAATACCCCAACCGTATCCGACAATATAAGG',\n",
       "       'AGGACAGATTTTCGCGTGTTGGGCCCAACCCCCTATAAATACCCCACCGTATCCGACAATATAAGG',\n",
       "       'AGGACAGATTTTCGCGTGTTGGGCCCAACGCCCCTATAAATACCCCCCGTATCCGACAATATAAGG',\n",
       "       'AGGACAGATTTTCGCGTGTTGGGCCCAACGGCCCCTATAAATACCCCCGTATCCGACAATATAAGG',\n",
       "       'AGGACAGATTTTCGCGTGTTGGGCCCAACGGACCCCTATAAATACCCCGTATCCGACAATATAAGG',\n",
       "       'AGGACAGATTTTCGCGTGTTGGGCCCAACGGATCCCCTATAAATACCCCTATCCGACAATATAAGG',\n",
       "       'AGGACAGATTTTCGCGTGTTGGGCCCAACGGATCCCCCTATAAATACCCCATCCGACAATATAAGG',\n",
       "       'AGGACAGATTTTCGCGTGTTGGGCCCAACGGATCACCCCTATAAATACCCCTCCGACAATATAAGG',\n",
       "       'AGGACAGATTTTCGCGTGTTGGGCCCAACGGATCAGCCCCTATAAATACCCCCCGACAATATAAGG',\n",
       "       'AGGACAGATTTTCGCGTGTTGGGCCCAACGGATCAGCCCCCTATAAATACCCCCGACAATATAAGG',\n",
       "       'AGGACAGATTTTCGCGTGTTGGGCCCAACGGATCAGCCCCCCTATAAATACCCCGACAATATAAGG',\n",
       "       'AGGACAGATTTTCGCGTGTTGGGCCCAACGGATCAGCCTCCCCTATAAATACCCCACAATATAAGG',\n",
       "       'AGGACAGATTTTCGCGTGTTGGGCCCAACGGATCAGCCTCCCCCTATAAATACCCCCAATATAAGG',\n",
       "       'AGGACAGATTTTCGCGTGTTGGGCCCAACGGATCAGCCTCTCCCCTATAAATACCCCAATATAAGG',\n",
       "       'AGGACAGATTTTCGCGTGTTGGGCCCAACGGATCAGCCTCTACCCCTATAAATACCCCATATAAGG',\n",
       "       'AGGACAGATTTTCGCGTGTTGGGCCCAACGGATCAGCCTCTATCCCCTATAAATACCCCTATAAGG',\n",
       "       'AGGACAGATTTTCGCGTGTTGGGCCCAACGGATCAGCCTCTATACCCCTATAAATACCCCATAAGG',\n",
       "       'AGGACAGATTTTCGCGTGTTGGGCCCAACGGATCAGCCTCTATAACCCCTATAAATACCCCTAAGG',\n",
       "       'AGGACAGATTTTCGCGTGTTGGGCCCAACGGATCAGCCTCTATAAACCCCTATAAATACCCCAAGG',\n",
       "       'AGGACAGATTTTCGCGTGTTGGGCCCAACGGATCAGCCTCTATAAACCCCCTATAAATACCCCAGG',\n",
       "       'AGGACAGATTTTCGCGTGTTGGGCCCAACGGATCAGCCTCTATAAACCCCCCTATAAATACCCCGG',\n",
       "       'AGGACAGATTTTCGCGTGTTGGGCCCAACGGATCAGCCTCTATAAACCGCCCCTATAAATACCCCG',\n",
       "       'AGGACAGATTTTCGCGTGTTGGGCCCAACGGATCAGCCTCTATAAACCGTCCCCTATAAATACCCC'],\n",
       "      dtype='<U66')"
      ]
     },
     "execution_count": 7,
     "metadata": {},
     "output_type": "execute_result"
    }
   ],
   "source": [
    "eu.pp.feature_implant_across_seq(seq, consensus, encoding=\"str\")"
   ]
  },
  {
   "cell_type": "code",
   "execution_count": 8,
   "id": "482bb0ff-f08b-41a1-a1a2-e72b7afa9b7d",
   "metadata": {},
   "outputs": [
    {
     "data": {
      "text/plain": [
       "array([[1.    , 0.    , 0.    , 0.    ],\n",
       "       [0.    , 0.    , 1.    , 0.    ],\n",
       "       [0.1275, 0.3765, 0.1195, 0.3765],\n",
       "       [0.1575, 0.3985, 0.199 , 0.2455],\n",
       "       [0.249 , 0.303 , 0.197 , 0.251 ],\n",
       "       [0.1235, 0.655 , 0.0755, 0.1455],\n",
       "       [0.01  , 0.002 , 0.002 , 0.986 ],\n",
       "       [0.968 , 0.    , 0.    , 0.032 ],\n",
       "       [0.002 , 0.014 , 0.006 , 0.978 ],\n",
       "       [0.992 , 0.    , 0.002 , 0.006 ],\n",
       "       [0.653 , 0.012 , 0.002 , 0.333 ],\n",
       "       [0.974 , 0.    , 0.008 , 0.018 ],\n",
       "       [0.341 , 0.028 , 0.036 , 0.5955],\n",
       "       [0.6955, 0.0815, 0.1195, 0.1035],\n",
       "       [0.1255, 0.432 , 0.3165, 0.1255],\n",
       "       [0.291 , 0.418 , 0.175 , 0.1155],\n",
       "       [0.263 , 0.3445, 0.1755, 0.2175],\n",
       "       [0.307 , 0.3085, 0.2365, 0.1475],\n",
       "       [0.    , 0.    , 0.    , 1.    ],\n",
       "       [0.    , 0.    , 0.    , 1.    ],\n",
       "       [0.    , 0.    , 1.    , 0.    ],\n",
       "       [0.    , 0.    , 1.    , 0.    ],\n",
       "       [0.    , 0.    , 1.    , 0.    ],\n",
       "       [0.    , 1.    , 0.    , 0.    ],\n",
       "       [0.    , 1.    , 0.    , 0.    ],\n",
       "       [0.    , 1.    , 0.    , 0.    ],\n",
       "       [1.    , 0.    , 0.    , 0.    ],\n",
       "       [1.    , 0.    , 0.    , 0.    ],\n",
       "       [0.    , 1.    , 0.    , 0.    ],\n",
       "       [0.    , 0.    , 1.    , 0.    ],\n",
       "       [0.    , 0.    , 1.    , 0.    ],\n",
       "       [1.    , 0.    , 0.    , 0.    ],\n",
       "       [0.    , 0.    , 0.    , 1.    ],\n",
       "       [0.    , 1.    , 0.    , 0.    ],\n",
       "       [1.    , 0.    , 0.    , 0.    ],\n",
       "       [0.    , 0.    , 1.    , 0.    ],\n",
       "       [0.    , 1.    , 0.    , 0.    ],\n",
       "       [0.    , 1.    , 0.    , 0.    ],\n",
       "       [0.    , 0.    , 0.    , 1.    ],\n",
       "       [0.    , 1.    , 0.    , 0.    ],\n",
       "       [0.    , 0.    , 0.    , 1.    ],\n",
       "       [1.    , 0.    , 0.    , 0.    ],\n",
       "       [0.    , 0.    , 0.    , 1.    ],\n",
       "       [1.    , 0.    , 0.    , 0.    ],\n",
       "       [1.    , 0.    , 0.    , 0.    ],\n",
       "       [1.    , 0.    , 0.    , 0.    ],\n",
       "       [0.    , 1.    , 0.    , 0.    ],\n",
       "       [0.    , 1.    , 0.    , 0.    ],\n",
       "       [0.    , 0.    , 1.    , 0.    ],\n",
       "       [0.    , 0.    , 0.    , 1.    ],\n",
       "       [1.    , 0.    , 0.    , 0.    ],\n",
       "       [0.    , 0.    , 0.    , 1.    ],\n",
       "       [0.    , 1.    , 0.    , 0.    ],\n",
       "       [0.    , 1.    , 0.    , 0.    ],\n",
       "       [0.    , 0.    , 1.    , 0.    ],\n",
       "       [1.    , 0.    , 0.    , 0.    ],\n",
       "       [0.    , 1.    , 0.    , 0.    ],\n",
       "       [1.    , 0.    , 0.    , 0.    ],\n",
       "       [1.    , 0.    , 0.    , 0.    ],\n",
       "       [0.    , 0.    , 0.    , 1.    ],\n",
       "       [1.    , 0.    , 0.    , 0.    ],\n",
       "       [0.    , 0.    , 0.    , 1.    ],\n",
       "       [1.    , 0.    , 0.    , 0.    ],\n",
       "       [1.    , 0.    , 0.    , 0.    ],\n",
       "       [0.    , 0.    , 1.    , 0.    ],\n",
       "       [0.    , 0.    , 1.    , 0.    ]])"
      ]
     },
     "execution_count": 8,
     "metadata": {},
     "output_type": "execute_result"
    }
   ],
   "source": [
    "eu.pp.feature_implant_seq(ohe_seq, pfm, pos, encoding=\"onehot\")"
   ]
  },
  {
   "cell_type": "code",
   "execution_count": 9,
   "id": "022dafd4-f1db-4cbc-9309-3ebeed2224c0",
   "metadata": {},
   "outputs": [
    {
     "data": {
      "text/plain": [
       "array([[[0.1275, 0.3765, 0.1195, 0.3765],\n",
       "        [0.1575, 0.3985, 0.199 , 0.2455],\n",
       "        [0.249 , 0.303 , 0.197 , 0.251 ],\n",
       "        ...,\n",
       "        [1.    , 0.    , 0.    , 0.    ],\n",
       "        [0.    , 0.    , 1.    , 0.    ],\n",
       "        [0.    , 0.    , 1.    , 0.    ]],\n",
       "\n",
       "       [[1.    , 0.    , 0.    , 0.    ],\n",
       "        [0.1275, 0.3765, 0.1195, 0.3765],\n",
       "        [0.1575, 0.3985, 0.199 , 0.2455],\n",
       "        ...,\n",
       "        [1.    , 0.    , 0.    , 0.    ],\n",
       "        [0.    , 0.    , 1.    , 0.    ],\n",
       "        [0.    , 0.    , 1.    , 0.    ]],\n",
       "\n",
       "       [[1.    , 0.    , 0.    , 0.    ],\n",
       "        [0.    , 0.    , 1.    , 0.    ],\n",
       "        [0.1275, 0.3765, 0.1195, 0.3765],\n",
       "        ...,\n",
       "        [1.    , 0.    , 0.    , 0.    ],\n",
       "        [0.    , 0.    , 1.    , 0.    ],\n",
       "        [0.    , 0.    , 1.    , 0.    ]],\n",
       "\n",
       "       ...,\n",
       "\n",
       "       [[1.    , 0.    , 0.    , 0.    ],\n",
       "        [0.    , 0.    , 1.    , 0.    ],\n",
       "        [0.    , 0.    , 1.    , 0.    ],\n",
       "        ...,\n",
       "        [0.307 , 0.3085, 0.2365, 0.1475],\n",
       "        [0.    , 0.    , 1.    , 0.    ],\n",
       "        [0.    , 0.    , 1.    , 0.    ]],\n",
       "\n",
       "       [[1.    , 0.    , 0.    , 0.    ],\n",
       "        [0.    , 0.    , 1.    , 0.    ],\n",
       "        [0.    , 0.    , 1.    , 0.    ],\n",
       "        ...,\n",
       "        [0.263 , 0.3445, 0.1755, 0.2175],\n",
       "        [0.307 , 0.3085, 0.2365, 0.1475],\n",
       "        [0.    , 0.    , 1.    , 0.    ]],\n",
       "\n",
       "       [[1.    , 0.    , 0.    , 0.    ],\n",
       "        [0.    , 0.    , 1.    , 0.    ],\n",
       "        [0.    , 0.    , 1.    , 0.    ],\n",
       "        ...,\n",
       "        [0.291 , 0.418 , 0.175 , 0.1155],\n",
       "        [0.263 , 0.3445, 0.1755, 0.2175],\n",
       "        [0.307 , 0.3085, 0.2365, 0.1475]]])"
      ]
     },
     "execution_count": 9,
     "metadata": {},
     "output_type": "execute_result"
    }
   ],
   "source": [
    "eu.pp.feature_implant_across_seq(ohe_seq, pfm, encoding=\"onehot\")"
   ]
  },
  {
   "cell_type": "code",
   "execution_count": 10,
   "id": "deb97071-78c7-4e74-a00e-fc8b867af43d",
   "metadata": {},
   "outputs": [
    {
     "data": {
      "text/plain": [
       "array([[[0., 1., 0., 0.],\n",
       "        [0., 1., 0., 0.],\n",
       "        [0., 1., 0., 0.],\n",
       "        ...,\n",
       "        [1., 0., 0., 0.],\n",
       "        [0., 0., 1., 0.],\n",
       "        [0., 0., 1., 0.]],\n",
       "\n",
       "       [[1., 0., 0., 0.],\n",
       "        [0., 1., 0., 0.],\n",
       "        [0., 1., 0., 0.],\n",
       "        ...,\n",
       "        [1., 0., 0., 0.],\n",
       "        [0., 0., 1., 0.],\n",
       "        [0., 0., 1., 0.]],\n",
       "\n",
       "       [[1., 0., 0., 0.],\n",
       "        [0., 0., 1., 0.],\n",
       "        [0., 1., 0., 0.],\n",
       "        ...,\n",
       "        [1., 0., 0., 0.],\n",
       "        [0., 0., 1., 0.],\n",
       "        [0., 0., 1., 0.]],\n",
       "\n",
       "       ...,\n",
       "\n",
       "       [[1., 0., 0., 0.],\n",
       "        [0., 0., 1., 0.],\n",
       "        [0., 0., 1., 0.],\n",
       "        ...,\n",
       "        [0., 1., 0., 0.],\n",
       "        [0., 0., 1., 0.],\n",
       "        [0., 0., 1., 0.]],\n",
       "\n",
       "       [[1., 0., 0., 0.],\n",
       "        [0., 0., 1., 0.],\n",
       "        [0., 0., 1., 0.],\n",
       "        ...,\n",
       "        [0., 1., 0., 0.],\n",
       "        [0., 1., 0., 0.],\n",
       "        [0., 0., 1., 0.]],\n",
       "\n",
       "       [[1., 0., 0., 0.],\n",
       "        [0., 0., 1., 0.],\n",
       "        [0., 0., 1., 0.],\n",
       "        ...,\n",
       "        [0., 1., 0., 0.],\n",
       "        [0., 1., 0., 0.],\n",
       "        [0., 1., 0., 0.]]], dtype=float16)"
      ]
     },
     "execution_count": 10,
     "metadata": {},
     "output_type": "execute_result"
    }
   ],
   "source": [
    "eu.pp.feature_implant_across_seq(ohe_seq, pfm, encoding=\"onehot\", onehot=True)"
   ]
  },
  {
   "cell_type": "code",
   "execution_count": 11,
   "id": "ad06c3cd-7134-4c26-b4bf-c36b932fe449",
   "metadata": {},
   "outputs": [
    {
     "data": {
      "text/plain": [
       "array([-0.12860738, -0.20724249, -0.09944402, -0.15735872, -0.07232916,\n",
       "        0.10080706, -0.05799149, -0.00366257, -0.13281582, -0.03578924,\n",
       "        0.07352825, -0.08969332, -0.14790955, -0.19986603, -0.17278814,\n",
       "       -0.18217488, -0.07786699, -0.18028736, -0.13209815, -0.0564633 ,\n",
       "       -0.15503126, -0.09165487, -0.11240477, -0.0220406 , -0.00690747,\n",
       "       -0.05037049, -0.13428695, -0.07957186,  0.05299611, -0.00722817,\n",
       "       -0.05692093, -0.06351749, -0.12362285, -0.04635581, -0.10504552,\n",
       "        0.02596581,  0.10609262, -0.04033621, -0.09065762, -0.05444472,\n",
       "       -0.05513809, -0.08035021, -0.02563847, -0.05098003,  0.05189031,\n",
       "       -0.14998351,  0.04425012,  0.00295492, -0.0998994 , -0.09659025,\n",
       "       -0.06869654], dtype=float32)"
      ]
     },
     "execution_count": 11,
     "metadata": {},
     "output_type": "execute_result"
    }
   ],
   "source": [
    "eu.interpret.feature_implant(\n",
    "    model, \n",
    "    sdata, \n",
    "    seq_id=sdata.names[0], \n",
    "    feature=consensus, \n",
    "    feature_name=name, \n",
    "    encoding=\"str\", \n",
    "    onehot=False, \n",
    "    device=\"cpu\", \n",
    "    store=True\n",
    ")"
   ]
  },
  {
   "cell_type": "code",
   "execution_count": 16,
   "id": "92843da3-48b3-4ef7-af0e-de1ea58a6d50",
   "metadata": {},
   "outputs": [
    {
     "data": {
      "application/vnd.jupyter.widget-view+json": {
       "model_id": "f25032fb91654518a34e900b192cfb21",
       "version_major": 2,
       "version_minor": 0
      },
      "text/plain": [
       "Implanting feature:   0%|          | 0/1000 [00:00<?, ?it/s]"
      ]
     },
     "metadata": {},
     "output_type": "display_data"
    }
   ],
   "source": [
    "eu.interpret.feature_implant_sdata(\n",
    "    model,\n",
    "    sdata,\n",
    "    feature=consensus,\n",
    "    seqsm_key=f\"{name}_slide\",\n",
    "    encoding=\"str\",\n",
    "    onehot=False,\n",
    "    device=\"cpu\"\n",
    ")"
   ]
  },
  {
   "cell_type": "code",
   "execution_count": 17,
   "id": "23970b75-2850-4865-8c60-8fc02e660b24",
   "metadata": {},
   "outputs": [
    {
     "data": {
      "text/plain": [
       "SeqData object with = 1000 seqs\n",
       "seqs = (1000,)\n",
       "names = (1000,)\n",
       "rev_seqs = None\n",
       "ohe_seqs = (1000, 66, 4)\n",
       "ohe_rev_seqs = None\n",
       "seqs_annot: 'target'\n",
       "pos_annot: PyRanges object with 1400 features\n",
       "seqsm: 'seq000_TATA_slide', 'TATA_slide'\n",
       "uns: None"
      ]
     },
     "execution_count": 17,
     "metadata": {},
     "output_type": "execute_result"
    }
   ],
   "source": [
    "sdata"
   ]
  },
  {
   "cell_type": "markdown",
   "id": "f5d680af-6cf4-4b56-9eb7-092bbdc59486",
   "metadata": {},
   "source": [
    "## Preprocess a random dataset by hand"
   ]
  },
  {
   "cell_type": "markdown",
   "id": "f77a0653-98d1-42d1-88f6-9a48f5f99741",
   "metadata": {
    "jp-MarkdownHeadingCollapsed": true,
    "tags": []
   },
   "source": [
    "### Load"
   ]
  },
  {
   "cell_type": "code",
   "execution_count": 19,
   "id": "0572dae2-f29a-40f3-b979-e28271a2545c",
   "metadata": {},
   "outputs": [
    {
     "data": {
      "text/plain": [
       "('seq001',\n",
       " 'CAGCCGGTCCATACACCAAGGGCATCTACTTGGGCAAGGGTGTACCCCTTGTGGCTTGGAAGAAGG',\n",
       " 'CCTTCTTCCAAGCCACAAGGGGTACACCCTTGCCCAAGTAGATGCCCTTGGTGTATGGACCGGCTG',\n",
       " 0.0570990784451763)"
      ]
     },
     "execution_count": 19,
     "metadata": {},
     "output_type": "execute_result"
    }
   ],
   "source": [
    "names, seqs, rev_seqs, targets = eu.dl.read(\"/cellar/users/aklie/data/eugene/random_datasets/random100seqs_66bp/random_seqs.tsv\", seq_col=\"SEQ\", name_col=\"NAME\", target_col=\"ACTIVITY\", rev_comp=True, return_numpy=True)\n",
    "names[0], seqs[0], rev_seqs[0], targets[0]"
   ]
  },
  {
   "cell_type": "markdown",
   "id": "02feabb4-7c10-441e-abcf-4197690a0122",
   "metadata": {
    "jp-MarkdownHeadingCollapsed": true,
    "tags": []
   },
   "source": [
    "### Reverse Complement"
   ]
  },
  {
   "cell_type": "code",
   "execution_count": 268,
   "id": "78be1226-5b4a-485f-a7ff-c0d05af14634",
   "metadata": {},
   "outputs": [
    {
     "data": {
      "application/vnd.jupyter.widget-view+json": {
       "model_id": "ec76643afd4f4e1792c0f1d1b2d67f6c",
       "version_major": 2,
       "version_minor": 0
      },
      "text/plain": [
       "Reverse complementing sequences:   0%|          | 0/5 [00:00<?, ?it/s]"
      ]
     },
     "metadata": {},
     "output_type": "display_data"
    },
    {
     "ename": "AttributeError",
     "evalue": "module 'eugene.preprocessing' has no attribute 'ohe_DNA_seqs'",
     "output_type": "error",
     "traceback": [
      "\u001b[0;31m---------------------------------------------------------------------------\u001b[0m",
      "\u001b[0;31mAttributeError\u001b[0m                            Traceback (most recent call last)",
      "\u001b[0;32m/tmp/ipykernel_8301/2482782330.py\u001b[0m in \u001b[0;36m<module>\u001b[0;34m\u001b[0m\n\u001b[1;32m      1\u001b[0m \u001b[0mrev_seqs\u001b[0m \u001b[0;34m=\u001b[0m \u001b[0meu\u001b[0m\u001b[0;34m.\u001b[0m\u001b[0mpp\u001b[0m\u001b[0;34m.\u001b[0m\u001b[0mreverse_complement_seqs\u001b[0m\u001b[0;34m(\u001b[0m\u001b[0mseqs\u001b[0m\u001b[0;34m)\u001b[0m\u001b[0;34m\u001b[0m\u001b[0;34m\u001b[0m\u001b[0m\n\u001b[0;32m----> 2\u001b[0;31m \u001b[0mrev_ohe_seqs\u001b[0m \u001b[0;34m=\u001b[0m \u001b[0meu\u001b[0m\u001b[0;34m.\u001b[0m\u001b[0mpp\u001b[0m\u001b[0;34m.\u001b[0m\u001b[0mohe_DNA_seqs\u001b[0m\u001b[0;34m(\u001b[0m\u001b[0mrev_seqs\u001b[0m\u001b[0;34m)\u001b[0m\u001b[0;34m\u001b[0m\u001b[0;34m\u001b[0m\u001b[0m\n\u001b[0m\u001b[1;32m      3\u001b[0m \u001b[0mdecoded_rev_seqs\u001b[0m \u001b[0;34m=\u001b[0m \u001b[0meu\u001b[0m\u001b[0;34m.\u001b[0m\u001b[0mpp\u001b[0m\u001b[0;34m.\u001b[0m\u001b[0mdecode_DNA_seqs\u001b[0m\u001b[0;34m(\u001b[0m\u001b[0mrev_ohe_seqs\u001b[0m\u001b[0;34m)\u001b[0m\u001b[0;34m\u001b[0m\u001b[0;34m\u001b[0m\u001b[0m\n\u001b[1;32m      4\u001b[0m \u001b[0mrev_seqs\u001b[0m\u001b[0;34m[\u001b[0m\u001b[0;36m0\u001b[0m\u001b[0;34m]\u001b[0m\u001b[0;34m,\u001b[0m \u001b[0mseqs\u001b[0m\u001b[0;34m[\u001b[0m\u001b[0;36m0\u001b[0m\u001b[0;34m]\u001b[0m\u001b[0;34m,\u001b[0m \u001b[0mdecoded_rev_seqs\u001b[0m\u001b[0;34m[\u001b[0m\u001b[0;36m0\u001b[0m\u001b[0;34m]\u001b[0m\u001b[0;34m\u001b[0m\u001b[0;34m\u001b[0m\u001b[0m\n",
      "\u001b[0;31mAttributeError\u001b[0m: module 'eugene.preprocessing' has no attribute 'ohe_DNA_seqs'"
     ]
    }
   ],
   "source": [
    "rev_seqs = eu.pp.reverse_complement_seqs(seqs)\n",
    "rev_ohe_seqs = eu.pp.ohe_DNA_seqs(rev_seqs)\n",
    "decoded_rev_seqs = eu.pp.decode_DNA_seqs(rev_ohe_seqs)\n",
    "rev_seqs[0], seqs[0], decoded_rev_seqs[0]"
   ]
  },
  {
   "cell_type": "code",
   "execution_count": 269,
   "id": "c6716949-9517-4905-a89a-53ca6319fa8f",
   "metadata": {},
   "outputs": [
    {
     "ename": "NameError",
     "evalue": "name 'rev_ohe_seqs' is not defined",
     "output_type": "error",
     "traceback": [
      "\u001b[0;31m---------------------------------------------------------------------------\u001b[0m",
      "\u001b[0;31mNameError\u001b[0m                                 Traceback (most recent call last)",
      "\u001b[0;32m/tmp/ipykernel_8301/4219042952.py\u001b[0m in \u001b[0;36m<module>\u001b[0;34m\u001b[0m\n\u001b[0;32m----> 1\u001b[0;31m \u001b[0mrev_ohe_seqs\u001b[0m\u001b[0;34m[\u001b[0m\u001b[0;36m0\u001b[0m\u001b[0;34m]\u001b[0m\u001b[0;34m[\u001b[0m\u001b[0;34m:\u001b[0m\u001b[0;36m5\u001b[0m\u001b[0;34m]\u001b[0m\u001b[0;34m,\u001b[0m \u001b[0mrev_seqs\u001b[0m\u001b[0;34m[\u001b[0m\u001b[0;36m0\u001b[0m\u001b[0;34m]\u001b[0m\u001b[0;34m[\u001b[0m\u001b[0;34m:\u001b[0m\u001b[0;36m5\u001b[0m\u001b[0;34m]\u001b[0m\u001b[0;34m\u001b[0m\u001b[0;34m\u001b[0m\u001b[0m\n\u001b[0m",
      "\u001b[0;31mNameError\u001b[0m: name 'rev_ohe_seqs' is not defined"
     ]
    }
   ],
   "source": [
    "rev_ohe_seqs[0][:5], rev_seqs[0][:5]"
   ]
  },
  {
   "cell_type": "markdown",
   "id": "d642b04f-b411-435a-a9a8-143ff16ec7bc",
   "metadata": {
    "jp-MarkdownHeadingCollapsed": true,
    "tags": []
   },
   "source": [
    "### One-hot-encoding "
   ]
  },
  {
   "cell_type": "code",
   "execution_count": 22,
   "id": "e2e36da0-9bcd-4845-b3a8-7f3ea500697c",
   "metadata": {},
   "outputs": [
    {
     "data": {
      "text/plain": [
       "('CAGCCGGTCCATACACCAAGGGCATCTACTTGGGCAAGGGTGTACCCCTTGTGGCTTGGAAGAAGG',\n",
       " array([[0., 1., 0., 0.],\n",
       "        [1., 0., 0., 0.],\n",
       "        [0., 0., 1., 0.],\n",
       "        [0., 1., 0., 0.],\n",
       "        [0., 1., 0., 0.]]),\n",
       " 'CAGCCGGTCCATACACCAAGGGCATCTACTTGGGCAAGGGTGTACCCCTTGTGGCTTGGAAGAAGG')"
      ]
     },
     "execution_count": 22,
     "metadata": {},
     "output_type": "execute_result"
    }
   ],
   "source": [
    "ohe_seq = eu.pp.ohe_DNA_seq(seqs[0])\n",
    "decoded_seq = eu.pp.decode_DNA_seq(ohe_seq)\n",
    "seqs[0], ohe_seq[:5], decoded_seq"
   ]
  },
  {
   "cell_type": "code",
   "execution_count": 23,
   "id": "1ebe15ee-d9cf-4feb-a849-a86e11b050d8",
   "metadata": {},
   "outputs": [
    {
     "data": {
      "text/plain": [
       "('CAGCC',\n",
       " array([[0., 1., 0., 0.],\n",
       "        [1., 0., 0., 0.],\n",
       "        [0., 0., 1., 0.],\n",
       "        [0., 1., 0., 0.],\n",
       "        [0., 1., 0., 0.]]),\n",
       " 'CAGCC')"
      ]
     },
     "execution_count": 23,
     "metadata": {},
     "output_type": "execute_result"
    }
   ],
   "source": [
    "ohe_seqs = eu.pp.ohe_DNA_seqs(seqs)\n",
    "decoded_seqs = eu.pp.decode_DNA_seqs(ohe_seqs)\n",
    "seqs[0][:5], ohe_seqs[0][:5], decoded_seqs[0][:5]"
   ]
  },
  {
   "cell_type": "markdown",
   "id": "3beae30f-11e0-4326-8d7a-49bd9245f31c",
   "metadata": {
    "jp-MarkdownHeadingCollapsed": true,
    "tags": []
   },
   "source": [
    "### Encode Names"
   ]
  },
  {
   "cell_type": "code",
   "execution_count": 24,
   "id": "2034f324-bb99-4bb6-aa9e-4a4609d0050c",
   "metadata": {},
   "outputs": [
    {
     "data": {
      "text/plain": [
       "('seq001', array([115, 101, 113,  48,  48,  49]), 'seq001')"
      ]
     },
     "execution_count": 24,
     "metadata": {},
     "output_type": "execute_result"
    }
   ],
   "source": [
    "encoded_names = [eu.pp.ascii_encode(name) for name in names]\n",
    "decoded_names = [eu.pp.ascii_decode(name) for name in encoded_names]\n",
    "names[0], encoded_names[0], decoded_names[0]"
   ]
  },
  {
   "cell_type": "markdown",
   "id": "9a35dda5-f8ad-4e4b-bc71-ae762b51c9f1",
   "metadata": {
    "tags": []
   },
   "source": [
    "### Dinucleotide Shuffle"
   ]
  },
  {
   "cell_type": "code",
   "execution_count": 25,
   "id": "f2f92b4c-1e2a-4e78-8231-93418fd1a85f",
   "metadata": {},
   "outputs": [
    {
     "data": {
      "text/plain": [
       "'CCAGGTCCTGGTATTAGCCCAGGGTGCTCAGGGGCACCATTACAAAAACGACCTGGGCTGTTGAGG'"
      ]
     },
     "execution_count": 25,
     "metadata": {},
     "output_type": "execute_result"
    }
   ],
   "source": [
    "eu.pp.dinuc_shuffle_seq(seqs[0])"
   ]
  },
  {
   "cell_type": "code",
   "execution_count": 26,
   "id": "3dbf1cdb-956f-4844-a62e-53be68319995",
   "metadata": {},
   "outputs": [
    {
     "data": {
      "text/plain": [
       "'CCAAATGCGGGGCAGTGTCTGCCCCCCAGCTTTCAGGTGGTATAACACACTACTTGGGAGGAAGGG'"
      ]
     },
     "execution_count": 26,
     "metadata": {},
     "output_type": "execute_result"
    }
   ],
   "source": [
    "eu.pp.decode_DNA_seq(eu.pp.dinuc_shuffle_seq(ohe_seqs[0]))"
   ]
  },
  {
   "cell_type": "markdown",
   "id": "49620b18-3bc9-45e9-991d-ee143963be6c",
   "metadata": {},
   "source": [
    "# Dataset preprocessing"
   ]
  },
  {
   "cell_type": "markdown",
   "id": "b0a52f33-51e4-482f-8a2d-5167305ea103",
   "metadata": {
    "tags": []
   },
   "source": [
    "## Dataset Processing"
   ]
  },
  {
   "cell_type": "code",
   "execution_count": 27,
   "id": "5ff25cf4-498f-4be3-a6e6-93e4efef7aeb",
   "metadata": {},
   "outputs": [
    {
     "data": {
      "text/plain": [
       "(80, 20, 80, 20)"
      ]
     },
     "execution_count": 27,
     "metadata": {},
     "output_type": "execute_result"
    }
   ],
   "source": [
    "train_seqs, test_seqs, train_targets, test_targets = eu.pp.split_train_test(ohe_seqs, targets)\n",
    "len(train_seqs), len(test_seqs), len(train_targets), len(test_targets)"
   ]
  },
  {
   "cell_type": "markdown",
   "id": "dd7d3091-50bb-4824-b7a3-5da5e3446dd0",
   "metadata": {},
   "source": [
    "# SeqData preprocessing"
   ]
  },
  {
   "cell_type": "markdown",
   "id": "745fdb4f-980e-4506-b655-f1fb3c185d2d",
   "metadata": {},
   "source": [
    "## Working with sdata"
   ]
  },
  {
   "cell_type": "code",
   "execution_count": 29,
   "id": "bfa4c0ed-7f90-40ec-9e5b-f05b36e15ee6",
   "metadata": {},
   "outputs": [],
   "source": [
    "sdata = eu.datasets.random1000()"
   ]
  },
  {
   "cell_type": "code",
   "execution_count": 30,
   "id": "22f6b005-1206-48f8-9f9a-2db30c28cdc0",
   "metadata": {},
   "outputs": [
    {
     "name": "stdout",
     "output_type": "stream",
     "text": [
      "SeqData object modified:\n",
      "\trev_seqs: None -> 1000 rev_seqs added\n",
      "SeqData object modified:\n",
      "\tohe_seqs: None -> 1000 ohe_seqs added\n",
      "\tohe_rev_seqs: None -> 1000 ohe_rev_seqs added\n",
      "SeqData object modified:\n",
      "    seqs_annot:\n",
      "        + TRAIN\n"
     ]
    },
    {
     "data": {
      "text/plain": [
       "SeqData object with = 1000 seqs\n",
       "seqs = (1000,)\n",
       "names = (1000,)\n",
       "rev_seqs = (1000,)\n",
       "ohe_seqs = (1000, 66, 4)\n",
       "ohe_rev_seqs = (1000, 66, 4)\n",
       "seqs_annot: 'TARGETS', 'TRAIN'\n",
       "pos_annot: PyRanges object with 1456 features"
      ]
     },
     "execution_count": 30,
     "metadata": {},
     "output_type": "execute_result"
    }
   ],
   "source": [
    "eu.pp.reverse_complement_data(sdata)\n",
    "eu.pp.one_hot_encode_data(sdata)\n",
    "eu.pp.train_test_split_data(sdata)\n",
    "sdata"
   ]
  },
  {
   "cell_type": "code",
   "execution_count": 31,
   "id": "4c22d326-57ee-4078-af4c-7f13fd14b85b",
   "metadata": {},
   "outputs": [
    {
     "data": {
      "application/vnd.jupyter.widget-view+json": {
       "model_id": "1c32b696adf0411da8b862714c019083",
       "version_major": 2,
       "version_minor": 0
      },
      "text/plain": [
       "  0%|          | 0/3 [00:00<?, ?it/s]"
      ]
     },
     "metadata": {},
     "output_type": "display_data"
    },
    {
     "name": "stdout",
     "output_type": "stream",
     "text": [
      "SeqData object modified:\n",
      "\trev_seqs: None -> 1000 rev_seqs added\n",
      "\tohe_seqs: None -> 1000 ohe_seqs added\n",
      "\tohe_rev_seqs: None -> 1000 ohe_rev_seqs added\n",
      "    seqs_annot:\n",
      "        + TRAIN\n"
     ]
    }
   ],
   "source": [
    "sdata = eu.datasets.random1000()\n",
    "eu.pp.prepare_data(sdata)"
   ]
  },
  {
   "cell_type": "code",
   "execution_count": 6,
   "id": "d6adf211-07dd-4a4a-af39-c575f192e545",
   "metadata": {},
   "outputs": [],
   "source": [
    "sdata = eu.datasets.random1000()"
   ]
  },
  {
   "cell_type": "code",
   "execution_count": 7,
   "id": "c9654683-3b75-4567-9d7f-b4cd82e6b72c",
   "metadata": {},
   "outputs": [
    {
     "data": {
      "text/plain": [
       "SeqData object with = 1000 seqs\n",
       "seqs = (1000,)\n",
       "names = (1000,)\n",
       "rev_seqs = None\n",
       "ohe_seqs = None\n",
       "ohe_rev_seqs = None\n",
       "seqs_annot: 'target'\n",
       "pos_annot: PyRanges object with 1400 features\n",
       "seqsm: None\n",
       "uns: None"
      ]
     },
     "execution_count": 7,
     "metadata": {},
     "output_type": "execute_result"
    }
   ],
   "source": [
    "eu.pp.sanitize_seqs_sdata(sdata, copy=True)"
   ]
  },
  {
   "cell_type": "code",
   "execution_count": 8,
   "id": "3e5cd786-4be7-4e9e-acfc-1d1a7814a6e8",
   "metadata": {},
   "outputs": [
    {
     "data": {
      "application/vnd.jupyter.widget-view+json": {
       "model_id": "006728f4cbc149908d831aca2ef33f93",
       "version_major": 2,
       "version_minor": 0
      },
      "text/plain": [
       "One-hot encoding sequences:   0%|          | 0/1000 [00:00<?, ?it/s]"
      ]
     },
     "metadata": {},
     "output_type": "display_data"
    },
    {
     "name": "stdout",
     "output_type": "stream",
     "text": [
      "SeqData object modified:\n",
      "\tohe_seqs: None -> 1000 ohe_seqs added\n"
     ]
    }
   ],
   "source": [
    "eu.pp.ohe_seqs_sdata(sdata)"
   ]
  },
  {
   "cell_type": "code",
   "execution_count": 9,
   "id": "3cd34213-e967-47aa-b7e5-2611dabe29b0",
   "metadata": {},
   "outputs": [
    {
     "data": {
      "text/plain": [
       "SeqData object with = 1000 seqs\n",
       "seqs = (1000,)\n",
       "names = (1000,)\n",
       "rev_seqs = None\n",
       "ohe_seqs = (1000, 4, 66)\n",
       "ohe_rev_seqs = None\n",
       "seqs_annot: 'target'\n",
       "pos_annot: PyRanges object with 1400 features\n",
       "seqsm: None\n",
       "uns: None"
      ]
     },
     "execution_count": 9,
     "metadata": {},
     "output_type": "execute_result"
    }
   ],
   "source": [
    "sdata"
   ]
  },
  {
   "cell_type": "code",
   "execution_count": 10,
   "id": "8457c134-1022-4426-a80d-516f2cd0f7aa",
   "metadata": {},
   "outputs": [
    {
     "name": "stdout",
     "output_type": "stream",
     "text": [
      "seq [[[1 0 0 ... 1 0 0]\n",
      "  [0 0 0 ... 0 0 0]\n",
      "  [0 1 1 ... 0 1 1]\n",
      "  [0 0 0 ... 0 0 0]]\n",
      "\n",
      " [[0 0 1 ... 0 0 0]\n",
      "  [0 0 0 ... 0 0 1]\n",
      "  [0 1 0 ... 0 0 0]\n",
      "  [1 0 0 ... 1 1 0]]\n",
      "\n",
      " [[0 1 0 ... 0 1 0]\n",
      "  [0 0 0 ... 1 0 1]\n",
      "  [0 0 0 ... 0 0 0]\n",
      "  [1 0 1 ... 0 0 0]]\n",
      "\n",
      " ...\n",
      "\n",
      " [[0 1 0 ... 0 0 0]\n",
      "  [0 0 0 ... 0 0 0]\n",
      "  [0 0 0 ... 1 0 0]\n",
      "  [1 0 1 ... 0 1 1]]\n",
      "\n",
      " [[0 1 0 ... 1 0 0]\n",
      "  [0 0 1 ... 0 0 0]\n",
      "  [0 0 0 ... 0 0 1]\n",
      "  [1 0 0 ... 0 1 0]]\n",
      "\n",
      " [[0 0 0 ... 0 0 0]\n",
      "  [0 1 0 ... 0 0 0]\n",
      "  [1 0 1 ... 1 0 1]\n",
      "  [0 0 0 ... 0 1 0]]]\n",
      "SeqData object modified:\n",
      "\tohe_rev_seqs: None -> 1000 ohe_rev_seqs added\n"
     ]
    }
   ],
   "source": [
    "eu.pp.reverse_complement_seqs_sdata(sdata, rc_seqs=False, copy=False)"
   ]
  },
  {
   "cell_type": "code",
   "execution_count": 11,
   "id": "230b97d8-f934-4a54-9375-775ed4e0dc9c",
   "metadata": {},
   "outputs": [
    {
     "data": {
      "text/plain": [
       "array([[1, 0, 0, 1, 0, 1, 0, 1, 0, 0, 0, 0, 0, 0, 0, 0, 0, 0, 0, 0, 0, 0,\n",
       "        0, 0, 0, 0, 1, 1, 0, 0, 0, 1, 0, 0, 1, 0, 0, 0, 0, 0, 0, 1, 0, 1,\n",
       "        1, 1, 0, 0, 0, 0, 1, 0, 0, 0, 0, 1, 0, 1, 1, 0, 1, 0, 1, 1, 0, 0],\n",
       "       [0, 0, 0, 0, 1, 0, 0, 0, 0, 0, 0, 0, 1, 0, 1, 0, 0, 0, 0, 0, 0, 0,\n",
       "        0, 1, 1, 1, 0, 0, 1, 0, 0, 0, 0, 1, 0, 0, 1, 1, 0, 1, 0, 0, 0, 0,\n",
       "        0, 0, 1, 1, 0, 0, 0, 0, 1, 1, 0, 0, 1, 0, 0, 0, 0, 0, 0, 0, 0, 0],\n",
       "       [0, 1, 1, 0, 0, 0, 1, 0, 0, 0, 0, 0, 0, 1, 0, 1, 0, 1, 0, 0, 1, 1,\n",
       "        1, 0, 0, 0, 0, 0, 0, 1, 1, 0, 0, 0, 0, 1, 0, 0, 0, 0, 0, 0, 0, 0,\n",
       "        0, 0, 0, 0, 1, 0, 0, 0, 0, 0, 1, 0, 0, 0, 0, 0, 0, 0, 0, 0, 1, 1],\n",
       "       [0, 0, 0, 0, 0, 0, 0, 0, 1, 1, 1, 1, 0, 0, 0, 0, 1, 0, 1, 1, 0, 0,\n",
       "        0, 0, 0, 0, 0, 0, 0, 0, 0, 0, 1, 0, 0, 0, 0, 0, 1, 0, 1, 0, 1, 0,\n",
       "        0, 0, 0, 0, 0, 1, 0, 1, 0, 0, 0, 0, 0, 0, 0, 1, 0, 1, 0, 0, 0, 0]],\n",
       "      dtype=int8)"
      ]
     },
     "execution_count": 11,
     "metadata": {},
     "output_type": "execute_result"
    }
   ],
   "source": [
    "sdata.ohe_seqs[0]"
   ]
  },
  {
   "cell_type": "code",
   "execution_count": 17,
   "id": "0e7c5044-af9c-4b21-b767-bf87d3a9245a",
   "metadata": {},
   "outputs": [
    {
     "data": {
      "text/plain": [
       "'CTTGTTAGCTGTGTTTAGGATAGAGCGGCACAACTTGGGCCATAAGTGGGCGGACAACCACTGTAC'"
      ]
     },
     "execution_count": 17,
     "metadata": {},
     "output_type": "execute_result"
    }
   ],
   "source": [
    "eu.pp.decode_seq(sdata.ohe_rev_seqs[10])"
   ]
  },
  {
   "cell_type": "code",
   "execution_count": 18,
   "id": "0e9c510c-9c0e-46c0-a8be-d8dc2e04fd55",
   "metadata": {},
   "outputs": [
    {
     "data": {
      "text/plain": [
       "'CTTGTTAGCTGTGTTTAGGATAGAGCGGCACAACTTGGGCCATAAGTGGGCGGACAACCACTGTAC'"
      ]
     },
     "execution_count": 18,
     "metadata": {},
     "output_type": "execute_result"
    }
   ],
   "source": [
    "sdata_copy.rev_seqs[10]"
   ]
  },
  {
   "cell_type": "code",
   "execution_count": 14,
   "id": "9e97ffc7-b2da-4b89-94e2-63b843edd4f7",
   "metadata": {},
   "outputs": [
    {
     "data": {
      "application/vnd.jupyter.widget-view+json": {
       "model_id": "6d2de6a161204d69b0cb3894f41fe30b",
       "version_major": 2,
       "version_minor": 0
      },
      "text/plain": [
       "Reverse complementing sequences:   0%|          | 0/1000 [00:00<?, ?it/s]"
      ]
     },
     "metadata": {},
     "output_type": "display_data"
    },
    {
     "name": "stdout",
     "output_type": "stream",
     "text": [
      "SeqData object modified:\n",
      "\trev_seqs: None -> 1000 rev_seqs added\n"
     ]
    },
    {
     "data": {
      "text/plain": [
       "(SeqData object with = 1000 seqs\n",
       " seqs = (1000,)\n",
       " names = (1000,)\n",
       " rev_seqs = None\n",
       " ohe_seqs = (1000, 4, 66)\n",
       " ohe_rev_seqs = (1000, 4, 66)\n",
       " seqs_annot: 'target'\n",
       " pos_annot: PyRanges object with 1400 features\n",
       " seqsm: None\n",
       " uns: None,\n",
       " SeqData object with = 1000 seqs\n",
       " seqs = (1000,)\n",
       " names = (1000,)\n",
       " rev_seqs = (1000,)\n",
       " ohe_seqs = (1000, 4, 66)\n",
       " ohe_rev_seqs = (1000, 4, 66)\n",
       " seqs_annot: 'target'\n",
       " pos_annot: PyRanges object with 1400 features\n",
       " seqsm: None\n",
       " uns: None)"
      ]
     },
     "execution_count": 14,
     "metadata": {},
     "output_type": "execute_result"
    }
   ],
   "source": [
    "sdata_copy = eu.pp.reverse_complement_seqs_sdata(sdata, rc_seqs=True, copy=True)\n",
    "sdata, sdata_copy"
   ]
  },
  {
   "cell_type": "code",
   "execution_count": 111,
   "id": "8397c11d-fc84-464f-afd8-f8f38010064f",
   "metadata": {},
   "outputs": [
    {
     "name": "stdout",
     "output_type": "stream",
     "text": [
      "SeqData object modified:\n",
      "    seqs_annot:\n",
      "        + train_val\n"
     ]
    },
    {
     "data": {
      "text/plain": [
       "SeqData object with = 1000 seqs\n",
       "seqs = (1000,)\n",
       "names = (1000,)\n",
       "rev_seqs = None\n",
       "ohe_seqs = (1000, 4, 66)\n",
       "ohe_rev_seqs = (1000, 4, 66)\n",
       "seqs_annot: 'target', 'train_val'\n",
       "pos_annot: PyRanges object with 1400 features\n",
       "seqsm: None\n",
       "uns: None"
      ]
     },
     "execution_count": 111,
     "metadata": {},
     "output_type": "execute_result"
    }
   ],
   "source": [
    "eu.pp.train_test_split_sdata(sdata)\n",
    "sdata"
   ]
  },
  {
   "cell_type": "code",
   "execution_count": 115,
   "id": "8759644f-c5a6-481a-a632-0defe888b8a8",
   "metadata": {},
   "outputs": [
    {
     "name": "stdout",
     "output_type": "stream",
     "text": [
      "Dropped targets: []\n"
     ]
    },
    {
     "data": {
      "text/plain": [
       "SeqData object with = 1000 seqs\n",
       "seqs = (1000,)\n",
       "names = (1000,)\n",
       "rev_seqs = None\n",
       "ohe_seqs = (1000, 4, 66)\n",
       "ohe_rev_seqs = (1000, 4, 66)\n",
       "seqs_annot: 'target', 'train_val'\n",
       "pos_annot: PyRanges object with 1400 features\n",
       "seqsm: None\n",
       "uns: None"
      ]
     },
     "execution_count": 115,
     "metadata": {},
     "output_type": "execute_result"
    }
   ],
   "source": [
    "eu.pp.clean_nan_targets_sdata(sdata, target_keys=\"target\", copy=True)"
   ]
  },
  {
   "cell_type": "code",
   "execution_count": null,
   "id": "7fd3692e-4dfa-4ed4-857c-438c6b5c89a7",
   "metadata": {},
   "outputs": [],
   "source": [
    "import matplotlib.pyplot as plt"
   ]
  },
  {
   "cell_type": "code",
   "execution_count": 118,
   "id": "8ce5de5f-c0b4-4c91-acda-f394537cebaa",
   "metadata": {},
   "outputs": [
    {
     "data": {
      "image/png": "[encoded data removed]",
      "text/plain": [
       "<Figure size 1000x500 with 1 Axes>"
      ]
     },
     "metadata": {},
     "output_type": "display_data"
    }
   ],
   "source": [
    "eu.pl.violinplot(\n",
    "    sdata,\n",
    "    keys=\"target\",\n",
    ")"
   ]
  },
  {
   "cell_type": "code",
   "execution_count": 119,
   "id": "d3a610da-6ff0-4c7d-95c2-f0eef721a16e",
   "metadata": {},
   "outputs": [],
   "source": [
    "eu.pp.clamp_targets_sdata(sdata, target_keys=\"target\", percentile=0.5)"
   ]
  },
  {
   "cell_type": "code",
   "execution_count": 123,
   "id": "782d1a9d-ad1a-4bcc-8e63-1fffb6dabed0",
   "metadata": {},
   "outputs": [
    {
     "data": {
      "image/png": "[encoded data removed]",
      "text/plain": [
       "<Figure size 1000x500 with 1 Axes>"
      ]
     },
     "metadata": {},
     "output_type": "display_data"
    }
   ],
   "source": [
    "eu.pl.violinplot(\n",
    "    sdata,\n",
    "    keys=\"target\",\n",
    ")\n",
    "plt.show()"
   ]
  },
  {
   "cell_type": "code",
   "execution_count": 125,
   "id": "0c125ba9-8a4c-4c6d-8aa0-ce0851430c33",
   "metadata": {},
   "outputs": [
    {
     "name": "stderr",
     "output_type": "stream",
     "text": [
      "/home/vscode/.local/lib/python3.7/site-packages/sklearn/base.py:444: UserWarning: X has feature names, but StandardScaler was fitted without feature names\n",
      "  f\"X has feature names, but {self.__class__.__name__} was fitted without\"\n"
     ]
    }
   ],
   "source": [
    "eu.pp.scale_targets_sdata(sdata, target_keys=\"target\", copy=False)"
   ]
  },
  {
   "cell_type": "code",
   "execution_count": 126,
   "id": "659f02fb-cdf9-4923-b470-40468f364f02",
   "metadata": {},
   "outputs": [
    {
     "data": {
      "image/png": "[encoded data removed]",
      "text/plain": [
       "<Figure size 1000x500 with 1 Axes>"
      ]
     },
     "metadata": {},
     "output_type": "display_data"
    }
   ],
   "source": [
    "eu.pl.violinplot(\n",
    "    sdata,\n",
    "    keys=\"target\",\n",
    ")\n",
    "plt.show()"
   ]
  },
  {
   "cell_type": "code",
   "execution_count": 139,
   "id": "5094062d-af65-41e9-8700-d3b8ee782ba2",
   "metadata": {},
   "outputs": [],
   "source": [
    "eu.pp.binarize_targets_sdata(sdata, target_keys=\"target\", upper_threshold=0, suffix=True, copy=False)"
   ]
  },
  {
   "cell_type": "code",
   "execution_count": 140,
   "id": "8717d94b-ece2-4c17-9353-d0594c274e8d",
   "metadata": {},
   "outputs": [
    {
     "data": {
      "text/html": [
       "<div>\n",
       "<style scoped>\n",
       "    .dataframe tbody tr th:only-of-type {\n",
       "        vertical-align: middle;\n",
       "    }\n",
       "\n",
       "    .dataframe tbody tr th {\n",
       "        vertical-align: top;\n",
       "    }\n",
       "\n",
       "    .dataframe thead th {\n",
       "        text-align: right;\n",
       "    }\n",
       "</style>\n",
       "<table border=\"1\" class=\"dataframe\">\n",
       "  <thead>\n",
       "    <tr style=\"text-align: right;\">\n",
       "      <th></th>\n",
       "      <th>target</th>\n",
       "      <th>train_val</th>\n",
       "      <th>target_binarized</th>\n",
       "    </tr>\n",
       "  </thead>\n",
       "  <tbody>\n",
       "    <tr>\n",
       "      <th>seq000</th>\n",
       "      <td>0.782430</td>\n",
       "      <td>True</td>\n",
       "      <td>1.0</td>\n",
       "    </tr>\n",
       "    <tr>\n",
       "      <th>seq001</th>\n",
       "      <td>0.782430</td>\n",
       "      <td>True</td>\n",
       "      <td>1.0</td>\n",
       "    </tr>\n",
       "    <tr>\n",
       "      <th>seq002</th>\n",
       "      <td>0.782430</td>\n",
       "      <td>True</td>\n",
       "      <td>1.0</td>\n",
       "    </tr>\n",
       "    <tr>\n",
       "      <th>seq003</th>\n",
       "      <td>0.505889</td>\n",
       "      <td>False</td>\n",
       "      <td>1.0</td>\n",
       "    </tr>\n",
       "    <tr>\n",
       "      <th>seq004</th>\n",
       "      <td>0.782430</td>\n",
       "      <td>False</td>\n",
       "      <td>1.0</td>\n",
       "    </tr>\n",
       "    <tr>\n",
       "      <th>...</th>\n",
       "      <td>...</td>\n",
       "      <td>...</td>\n",
       "      <td>...</td>\n",
       "    </tr>\n",
       "    <tr>\n",
       "      <th>seq995</th>\n",
       "      <td>-2.330127</td>\n",
       "      <td>True</td>\n",
       "      <td>0.0</td>\n",
       "    </tr>\n",
       "    <tr>\n",
       "      <th>seq996</th>\n",
       "      <td>0.782430</td>\n",
       "      <td>True</td>\n",
       "      <td>1.0</td>\n",
       "    </tr>\n",
       "    <tr>\n",
       "      <th>seq997</th>\n",
       "      <td>0.782430</td>\n",
       "      <td>True</td>\n",
       "      <td>1.0</td>\n",
       "    </tr>\n",
       "    <tr>\n",
       "      <th>seq998</th>\n",
       "      <td>-0.547166</td>\n",
       "      <td>True</td>\n",
       "      <td>0.0</td>\n",
       "    </tr>\n",
       "    <tr>\n",
       "      <th>seq999</th>\n",
       "      <td>-1.083068</td>\n",
       "      <td>True</td>\n",
       "      <td>0.0</td>\n",
       "    </tr>\n",
       "  </tbody>\n",
       "</table>\n",
       "<p>1000 rows × 3 columns</p>\n",
       "</div>"
      ],
      "text/plain": [
       "          target  train_val  target_binarized\n",
       "seq000  0.782430       True               1.0\n",
       "seq001  0.782430       True               1.0\n",
       "seq002  0.782430       True               1.0\n",
       "seq003  0.505889      False               1.0\n",
       "seq004  0.782430      False               1.0\n",
       "...          ...        ...               ...\n",
       "seq995 -2.330127       True               0.0\n",
       "seq996  0.782430       True               1.0\n",
       "seq997  0.782430       True               1.0\n",
       "seq998 -0.547166       True               0.0\n",
       "seq999 -1.083068       True               0.0\n",
       "\n",
       "[1000 rows x 3 columns]"
      ]
     },
     "execution_count": 140,
     "metadata": {},
     "output_type": "execute_result"
    }
   ],
   "source": [
    "sdata.seqs_annot"
   ]
  },
  {
   "cell_type": "code",
   "execution_count": 141,
   "id": "9291b9a1-3e64-4409-bbbb-2171999e0a1a",
   "metadata": {},
   "outputs": [
    {
     "data": {
      "image/png": "[encoded data removed]",
      "text/plain": [
       "<Figure size 1000x500 with 1 Axes>"
      ]
     },
     "metadata": {},
     "output_type": "display_data"
    }
   ],
   "source": [
    "eu.pl.countplot(\n",
    "    sdata,\n",
    "    keys=\"target_binarized\",\n",
    ")\n",
    "plt.show()"
   ]
  },
  {
   "cell_type": "markdown",
   "id": "bfe7d217-5cbb-4d63-958d-5991c04ccd1f",
   "metadata": {},
   "source": [
    "---"
   ]
  }
 ],
 "metadata": {
  "kernelspec": {
   "display_name": "Python 3.7 eugene_dev",
   "language": "python",
   "name": "eugene_dev"
  },
  "language_info": {
   "codemirror_mode": {
    "name": "ipython",
    "version": 3
   },
   "file_extension": ".py",
   "mimetype": "text/x-python",
   "name": "python",
   "nbconvert_exporter": "python",
   "pygments_lexer": "ipython3",
   "version": "3.7.12"
  }
 },
 "nbformat": 4,
 "nbformat_minor": 5
}

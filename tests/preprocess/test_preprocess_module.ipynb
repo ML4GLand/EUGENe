{
 "cells": [
  {
   "cell_type": "markdown",
   "id": "29253736-6d1e-4955-9371-2f87ba2dd74f",
   "metadata": {},
   "source": [
    "# Testing the `preprocess` module"
   ]
  },
  {
   "cell_type": "markdown",
   "id": "4dbd4376-6f69-42d2-8f61-40c3f0947f7d",
   "metadata": {
    "tags": []
   },
   "source": [
    "**Authorship:**\n",
    "Adam Klie, *10/04/2022*\n",
    "***\n",
    "**Description:**\n",
    "Notebook for testing out the `preprocess` module."
   ]
  },
  {
   "cell_type": "code",
   "execution_count": 7,
   "id": "287fd470-529f-4f26-add6-9bafe33b192c",
   "metadata": {
    "execution": {
     "iopub.execute_input": "2022-10-04T16:17:50.842401Z",
     "iopub.status.busy": "2022-10-04T16:17:50.842197Z",
     "iopub.status.idle": "2022-10-04T16:20:10.398506Z",
     "shell.execute_reply": "2022-10-04T16:20:10.397939Z",
     "shell.execute_reply.started": "2022-10-04T16:17:50.842348Z"
    }
   },
   "outputs": [
    {
     "name": "stderr",
     "output_type": "stream",
     "text": [
      "2022-10-09 13:57:50.445752: I tensorflow/core/platform/cpu_feature_guard.cc:193] This TensorFlow binary is optimized with oneAPI Deep Neural Network Library (oneDNN) to use the following CPU instructions in performance-critical operations:  AVX2 FMA\n",
      "To enable them in other operations, rebuild TensorFlow with the appropriate compiler flags.\n",
      "Fontconfig warning: ignoring UTF-8: not a valid region tag\n"
     ]
    }
   ],
   "source": [
    "if 'autoreload' not in get_ipython().extension_manager.loaded:\n",
    "    %load_ext autoreload\n",
    "%autoreload 2\n",
    "\n",
    "import os\n",
    "import torch\n",
    "import numpy as np\n",
    "import pandas as pd\n",
    "import eugene as eu"
   ]
  },
  {
   "cell_type": "markdown",
   "id": "95913b72-88de-4e74-96d4-1e9625a76c8f",
   "metadata": {
    "tags": []
   },
   "source": [
    "# Sequence preprocessing"
   ]
  },
  {
   "cell_type": "markdown",
   "id": "cfaacf8a-11c0-4c6d-ba78-8a9246007e4d",
   "metadata": {},
   "source": [
    "## Prep data"
   ]
  },
  {
   "cell_type": "code",
   "execution_count": 8,
   "id": "f7a0a13f-838f-4cdd-9f39-3a96e76596c1",
   "metadata": {},
   "outputs": [],
   "source": [
    "seq = eu.utils.random_seq(seq_len=10)\n",
    "seqs = eu.utils.random_seqs(seq_num=10, seq_len=10)\n",
    "jagged_seqs = [eu.utils.random_seq(seq_len=10), eu.utils.random_seq(seq_len=5)]\n",
    "bad_seqs = [\"AggaAATC \", \" GGTAa\"]"
   ]
  },
  {
   "cell_type": "markdown",
   "id": "a0fa9f95-5ebf-4747-816e-3d4fde8013fb",
   "metadata": {
    "jp-MarkdownHeadingCollapsed": true,
    "tags": []
   },
   "source": [
    "## Sanitize seqs"
   ]
  },
  {
   "cell_type": "code",
   "execution_count": 9,
   "id": "c50a4946-40a1-4607-9b37-fd48ae87f64b",
   "metadata": {},
   "outputs": [],
   "source": [
    "def test_sanitize_seqs(bad_seqs):\n",
    "    assert eu.pp.sanitize_seq(bad_seqs[0]) == 'AGGAAATC' \n",
    "    assert np.all(eu.pp.sanitize_seqs(bad_seqs) == np.array(['AGGAAATC', 'GGTAA']))\n",
    "test_sanitize_seqs(bad_seqs)"
   ]
  },
  {
   "cell_type": "markdown",
   "id": "bfe33b7d-cadf-47b5-9b99-95fb8719a714",
   "metadata": {
    "jp-MarkdownHeadingCollapsed": true,
    "tags": []
   },
   "source": [
    "## Ascii encode seqs"
   ]
  },
  {
   "cell_type": "code",
   "execution_count": 10,
   "id": "2415ebfe-a40e-49ff-8874-874a2d10f56f",
   "metadata": {},
   "outputs": [],
   "source": [
    "def test_ascii_seqs():\n",
    "    encoded_seq = eu.pp.ascii_encode_seq(seq)\n",
    "    assert eu.pp.ascii_decode_seq(encoded_seq) == seq\n",
    "    encoded_seqs = eu.pp.ascii_encode_seqs(seqs)\n",
    "    assert np.all(eu.pp.ascii_decode_seqs(encoded_seqs) == seqs)\n",
    "test_ascii_seqs()"
   ]
  },
  {
   "cell_type": "markdown",
   "id": "2b5eb413-663a-4e38-95ac-64e18152e3ff",
   "metadata": {
    "jp-MarkdownHeadingCollapsed": true,
    "tags": []
   },
   "source": [
    "## Reverse complement"
   ]
  },
  {
   "cell_type": "code",
   "execution_count": 14,
   "id": "12fffa60-605f-4af3-b51e-8a3029469694",
   "metadata": {},
   "outputs": [
    {
     "data": {
      "application/vnd.jupyter.widget-view+json": {
       "model_id": "144a1a7d4ca849e5a6a0f248ddcac854",
       "version_major": 2,
       "version_minor": 0
      },
      "text/plain": [
       "Reverse complementing sequences:   0%|          | 0/10 [00:00<?, ?it/s]"
      ]
     },
     "metadata": {},
     "output_type": "display_data"
    },
    {
     "data": {
      "application/vnd.jupyter.widget-view+json": {
       "model_id": "de934d6ff0764885a7bc02349cc9f616",
       "version_major": 2,
       "version_minor": 0
      },
      "text/plain": [
       "Reverse complementing sequences:   0%|          | 0/10 [00:00<?, ?it/s]"
      ]
     },
     "metadata": {},
     "output_type": "display_data"
    },
    {
     "data": {
      "application/vnd.jupyter.widget-view+json": {
       "model_id": "ffd1e66ac6c84e7ab8f2903cb990789f",
       "version_major": 2,
       "version_minor": 0
      },
      "text/plain": [
       "Reverse complementing sequences:   0%|          | 0/2 [00:00<?, ?it/s]"
      ]
     },
     "metadata": {},
     "output_type": "display_data"
    },
    {
     "data": {
      "application/vnd.jupyter.widget-view+json": {
       "model_id": "85edcf0294e64577811e752ffb0794d6",
       "version_major": 2,
       "version_minor": 0
      },
      "text/plain": [
       "Reverse complementing sequences:   0%|          | 0/2 [00:00<?, ?it/s]"
      ]
     },
     "metadata": {},
     "output_type": "display_data"
    }
   ],
   "source": [
    "def test_reverse_complement_seqs():\n",
    "    assert seq == eu.pp.reverse_complement_seq(eu.pp.reverse_complement_seq(seq))\n",
    "    assert np.all(seqs == eu.pp.reverse_complement_seqs(eu.pp.reverse_complement_seqs(seqs)))\n",
    "    assert np.all(jagged_seqs == eu.pp.reverse_complement_seqs(eu.pp.reverse_complement_seqs(jagged_seqs)))\n",
    "test_reverse_complement_seqs()"
   ]
  },
  {
   "cell_type": "markdown",
   "id": "d97644bc-fed5-4dc5-bf4b-67523052c07a",
   "metadata": {
    "jp-MarkdownHeadingCollapsed": true,
    "tags": []
   },
   "source": [
    "## One hot encoding"
   ]
  },
  {
   "cell_type": "code",
   "execution_count": 15,
   "id": "0c4bc7f1-66de-4d3f-9cf3-3c4ac7f6de63",
   "metadata": {},
   "outputs": [],
   "source": [
    "DNA = [\"A\", \"C\", \"G\", \"T\"]\n",
    "RNA = [\"A\", \"C\", \"G\", \"U\"]\n",
    "COMPLEMENT_DNA = {\"A\": \"T\", \"C\": \"G\", \"G\": \"C\", \"T\": \"A\"}\n",
    "COMPLEMENT_RNA = {\"A\": \"U\", \"C\": \"G\", \"G\": \"C\", \"U\": \"A\"}"
   ]
  },
  {
   "cell_type": "code",
   "execution_count": 16,
   "id": "5390fcde-8ca3-4d66-a325-b276219ce95c",
   "metadata": {},
   "outputs": [],
   "source": [
    "from eugene.preprocess._utils import _get_vocab_dict, _get_index_dict"
   ]
  },
  {
   "cell_type": "code",
   "execution_count": 17,
   "id": "b55f9db8-5a98-4d49-9444-74d38bc870e1",
   "metadata": {},
   "outputs": [
    {
     "data": {
      "text/plain": [
       "({'A': 0, 'C': 1, 'G': 2, 'T': 3}, {0: 'A', 1: 'C', 2: 'G', 3: 'T'})"
      ]
     },
     "execution_count": 17,
     "metadata": {},
     "output_type": "execute_result"
    }
   ],
   "source": [
    "_get_vocab_dict(DNA), _get_index_dict(DNA)"
   ]
  },
  {
   "cell_type": "code",
   "execution_count": 18,
   "id": "cd54f013-4021-4bd3-be72-ddb0ade6bfe3",
   "metadata": {},
   "outputs": [],
   "source": [
    "from eugene.preprocess._utils import _tokenize, _token2one_hot, _one_hot2token, _sequencize"
   ]
  },
  {
   "cell_type": "code",
   "execution_count": 19,
   "id": "267fe246-97ac-474b-98aa-2f50769ba57b",
   "metadata": {},
   "outputs": [
    {
     "data": {
      "text/plain": [
       "('CACACCAGAC',\n",
       " [1, 0, 1, 0, 1, 1, 0, 2, 0, 1],\n",
       " array([[0, 1, 0, 1, 0, 0, 1, 0, 1, 0],\n",
       "        [1, 0, 1, 0, 1, 1, 0, 0, 0, 1],\n",
       "        [0, 0, 0, 0, 0, 0, 0, 1, 0, 0],\n",
       "        [0, 0, 0, 0, 0, 0, 0, 0, 0, 0]], dtype=int8),\n",
       " array([1, 0, 1, 0, 1, 1, 0, 2, 0, 1]),\n",
       " 'CACACCAGAC')"
      ]
     },
     "execution_count": 19,
     "metadata": {},
     "output_type": "execute_result"
    }
   ],
   "source": [
    "tokens = _tokenize(seq)\n",
    "ohe = _token2one_hot(tokens)\n",
    "decoded_tokens = _one_hot2token(ohe)\n",
    "decoded_seq = _sequencize(decoded_tokens)\n",
    "seq, tokens, ohe, decoded_tokens, decoded_seq"
   ]
  },
  {
   "cell_type": "code",
   "execution_count": 20,
   "id": "e1c4c4eb-8943-4cc0-94d4-5f781b0736c3",
   "metadata": {},
   "outputs": [],
   "source": [
    "from eugene.preprocess._utils import _pad_sequences "
   ]
  },
  {
   "cell_type": "code",
   "execution_count": 21,
   "id": "8b9721d7-38fb-4cea-9e9c-95cba3e44613",
   "metadata": {},
   "outputs": [
    {
     "data": {
      "text/plain": [
       "(['CTCCTTTTCC', 'NNNNNTATCA'],\n",
       " ['CTCCTTTTCC', 'TATCA$$$$$'],\n",
       " ['CTCCTTTTCC', '000TATCA00'])"
      ]
     },
     "execution_count": 21,
     "metadata": {},
     "output_type": "execute_result"
    }
   ],
   "source": [
    "_pad_sequences(jagged_seqs, align=\"end\", value=\"N\"), _pad_sequences(jagged_seqs, align=\"start\", value=\"$\"), _pad_sequences(jagged_seqs, align=\"center\", value=\"0\")"
   ]
  },
  {
   "cell_type": "code",
   "execution_count": 22,
   "id": "e3355538-25c8-4d68-9132-7eabffb1ffd1",
   "metadata": {},
   "outputs": [
    {
     "data": {
      "text/plain": [
       "('NNNNNTATCA',\n",
       " [-1, -1, -1, -1, -1, 3, 0, 3, 1, 0],\n",
       " array([[0.25, 0.25, 0.25, 0.25, 0.25, 0.  , 1.  , 0.  , 0.  , 1.  ],\n",
       "        [0.25, 0.25, 0.25, 0.25, 0.25, 0.  , 0.  , 0.  , 1.  , 0.  ],\n",
       "        [0.25, 0.25, 0.25, 0.25, 0.25, 0.  , 0.  , 0.  , 0.  , 0.  ],\n",
       "        [0.25, 0.25, 0.25, 0.25, 0.25, 1.  , 0.  , 1.  , 0.  , 0.  ]],\n",
       "       dtype=float16),\n",
       " array([-1, -1, -1, -1, -1,  3,  0,  3,  1,  0]),\n",
       " 'NNNNNTATCA')"
      ]
     },
     "execution_count": 22,
     "metadata": {},
     "output_type": "execute_result"
    }
   ],
   "source": [
    "padded_seqs = _pad_sequences(jagged_seqs, align=\"end\", value=\"N\")\n",
    "tokens = _tokenize(padded_seqs[1])\n",
    "ohe = _token2one_hot(tokens, fill_value=0.25)\n",
    "decoded_tokens = _one_hot2token(ohe)\n",
    "decoded_seq = _sequencize(decoded_tokens)\n",
    "padded_seqs[1], tokens, ohe, decoded_tokens, decoded_seq"
   ]
  },
  {
   "cell_type": "code",
   "execution_count": 18,
   "id": "2da50914-3610-404e-8255-77573eb2ee3d",
   "metadata": {},
   "outputs": [
    {
     "data": {
      "application/vnd.jupyter.widget-view+json": {
       "model_id": "cb33564ee5f547afb4cbb9331f249c03",
       "version_major": 2,
       "version_minor": 0
      },
      "text/plain": [
       "One-hot encoding sequences:   0%|          | 0/10 [00:00<?, ?it/s]"
      ]
     },
     "metadata": {},
     "output_type": "display_data"
    },
    {
     "data": {
      "application/vnd.jupyter.widget-view+json": {
       "model_id": "3abe5b90a51a42258b17bf023dc47048",
       "version_major": 2,
       "version_minor": 0
      },
      "text/plain": [
       "Decoding sequences:   0%|          | 0/10 [00:00<?, ?it/s]"
      ]
     },
     "metadata": {},
     "output_type": "display_data"
    },
    {
     "data": {
      "application/vnd.jupyter.widget-view+json": {
       "model_id": "31fb8e8728b64d7db38d6fe1d0d0134f",
       "version_major": 2,
       "version_minor": 0
      },
      "text/plain": [
       "Reverse complementing sequences:   0%|          | 0/10 [00:00<?, ?it/s]"
      ]
     },
     "metadata": {},
     "output_type": "display_data"
    },
    {
     "data": {
      "application/vnd.jupyter.widget-view+json": {
       "model_id": "fb6bddf9c72a42808c354d7efbf5d231",
       "version_major": 2,
       "version_minor": 0
      },
      "text/plain": [
       "One-hot encoding sequences:   0%|          | 0/2 [00:00<?, ?it/s]"
      ]
     },
     "metadata": {},
     "output_type": "display_data"
    },
    {
     "data": {
      "application/vnd.jupyter.widget-view+json": {
       "model_id": "6f1384ef28a4484ca4feb6bb6b94846c",
       "version_major": 2,
       "version_minor": 0
      },
      "text/plain": [
       "Decoding sequences:   0%|          | 0/2 [00:00<?, ?it/s]"
      ]
     },
     "metadata": {},
     "output_type": "display_data"
    }
   ],
   "source": [
    "def test_ohe_seqs():\n",
    "    from eugene.preprocess import ohe_seq, ohe_seqs, decode_seq, decode_seqs\n",
    "    ohe = ohe_seq(seq)\n",
    "    decoded_seq = decode_seq(ohe)\n",
    "    assert seq == decoded_seq\n",
    "\n",
    "    ohe = ohe_seqs(seqs)\n",
    "    decoded_seqs = decode_seqs(ohe)\n",
    "    assert np.all(seqs == decoded_seqs)\n",
    "\n",
    "    rc_ohe = eu.pp.reverse_complement_seqs(ohe)\n",
    "    rcs = eu.pp.reverse_complement_seqs(decoded_seqs)\n",
    "    assert np.all(seqs == decoded_seqs)\n",
    "\n",
    "    jagged_ohe_seqs = ohe_seqs(jagged_seqs)\n",
    "    jagged_decoded_seqs = decode_seqs(jagged_ohe_seqs)\n",
    "\n",
    "test_ohe_seqs()"
   ]
  },
  {
   "cell_type": "code",
   "execution_count": 46,
   "id": "8c5b6435",
   "metadata": {},
   "outputs": [
    {
     "data": {
      "application/vnd.jupyter.widget-view+json": {
       "model_id": "74be8f3a01d54ba89aa540cf6dbeb43e",
       "version_major": 2,
       "version_minor": 0
      },
      "text/plain": [
       "One-hot encoding sequences:   0%|          | 0/10 [00:00<?, ?it/s]"
      ]
     },
     "metadata": {},
     "output_type": "display_data"
    },
    {
     "data": {
      "application/vnd.jupyter.widget-view+json": {
       "model_id": "107a5e134b424418b64228ec744494e5",
       "version_major": 2,
       "version_minor": 0
      },
      "text/plain": [
       "Decoding sequences:   0%|          | 0/10 [00:00<?, ?it/s]"
      ]
     },
     "metadata": {},
     "output_type": "display_data"
    }
   ],
   "source": [
    "rc_ohes = eu.pp.reverse_complement_seqs(eu.pp.ohe_seqs(seqs))\n",
    "rcs = eu.pp.decode_seqs(rc_ohes)"
   ]
  },
  {
   "cell_type": "markdown",
   "id": "60803e33-1a6c-4a9d-8414-4df5b395e203",
   "metadata": {
    "jp-MarkdownHeadingCollapsed": true,
    "tags": []
   },
   "source": [
    "## Dinucleotide shuffle"
   ]
  },
  {
   "cell_type": "code",
   "execution_count": 20,
   "id": "37c59c1c-3dfc-4ae4-b1d5-d02c67e9c5bb",
   "metadata": {},
   "outputs": [],
   "source": [
    "def test_dinuc_shuffle_seqs():\n",
    "    from eugene.preprocess import dinuc_shuffle_seq, dinuc_shuffle_seqs\n",
    "    dnt_shuf_seq = dinuc_shuffle_seq(seq, num_shufs=10)\n",
    "    assert np.all(seq != dnt_shuf_seq)\n",
    "    assert(len(dnt_shuf_seq) == 10)\n",
    "    dnt_shuf_seqs = dinuc_shuffle_seqs(seqs, num_shufs=10)\n",
    "    assert np.all(seqs != dnt_shuf_seqs)\n",
    "    assert(dnt_shuf_seqs.shape == (10, 10))\n",
    "test_dinuc_shuffle_seqs()"
   ]
  },
  {
   "cell_type": "markdown",
   "id": "54d08268-d81f-4717-82c5-5cfa5af1eb17",
   "metadata": {
    "tags": []
   },
   "source": [
    "## Perturb Seqs"
   ]
  },
  {
   "cell_type": "code",
   "execution_count": 29,
   "id": "262c585e",
   "metadata": {},
   "outputs": [
    {
     "data": {
      "application/vnd.jupyter.widget-view+json": {
       "model_id": "958920c399624f40bac2e366b0cc01b5",
       "version_major": 2,
       "version_minor": 0
      },
      "text/plain": [
       "One-hot encoding sequences:   0%|          | 0/10 [00:00<?, ?it/s]"
      ]
     },
     "metadata": {},
     "output_type": "display_data"
    }
   ],
   "source": [
    "ohe = eu.pp.ohe_seq(seq)\n",
    "ohes = eu.pp.ohe_seqs(seqs)"
   ]
  },
  {
   "cell_type": "code",
   "execution_count": 35,
   "id": "5aa49091-b7ea-4596-94fd-7fcf9437d10b",
   "metadata": {},
   "outputs": [
    {
     "data": {
      "application/vnd.jupyter.widget-view+json": {
       "model_id": "af7ad7dd884649d48b63bba74aa355b1",
       "version_major": 2,
       "version_minor": 0
      },
      "text/plain": [
       "Decoding sequences:   0%|          | 0/30 [00:00<?, ?it/s]"
      ]
     },
     "metadata": {},
     "output_type": "display_data"
    },
    {
     "data": {
      "application/vnd.jupyter.widget-view+json": {
       "model_id": "2931feeda37a4b8491254dd336dacbba",
       "version_major": 2,
       "version_minor": 0
      },
      "text/plain": [
       "Decoding sequences:   0%|          | 0/30 [00:00<?, ?it/s]"
      ]
     },
     "metadata": {},
     "output_type": "display_data"
    }
   ],
   "source": [
    "def test_perturb_seqs():\n",
    "    from eugene.preprocess import perturb_seq, perturb_seqs\n",
    "    perturbed_seq = perturb_seq(ohe)\n",
    "    assert perturbed_seq.shape == (30, 4, 10) \n",
    "    decoded_perturb = eu.pp.decode_seqs(perturbed_seq)\n",
    "    assert len(decoded_perturb) == 30\n",
    "\n",
    "    perturbed_seqs = perturb_seqs(ohes)\n",
    "    assert perturbed_seqs.shape == (10, 30, 4, 10)\n",
    "    decoded_perturbed_seq = eu.pp.decode_seqs(perturbed_seqs[0])\n",
    "    assert len(decoded_perturbed_seq) == 30\n",
    "\n",
    "test_perturb_seqs()\n"
   ]
  },
  {
   "cell_type": "markdown",
   "id": "3b530a3d-4baf-45ba-9f93-df764de3e2c7",
   "metadata": {
    "tags": []
   },
   "source": [
    "## Feature implant "
   ]
  },
  {
   "cell_type": "code",
   "execution_count": 222,
   "id": "320f8703-ebb1-4482-a76f-d3814a9b28ad",
   "metadata": {},
   "outputs": [],
   "source": [
    "from eugene.preprocess._utils import _token2one_hot"
   ]
  },
  {
   "cell_type": "code",
   "execution_count": 302,
   "id": "725fddd2-0aed-43af-a2ef-7f065b389aa7",
   "metadata": {},
   "outputs": [],
   "source": [
    "# Prep data\n",
    "meme = eu.dl.motif.MinimalMEME(path=\"../../_data/CPEs.meme\")\n",
    "motif = meme.motifs[\"TATA\"]\n",
    "name = motif.name\n",
    "pfm = motif.pfm[4:8]\n",
    "consensus = motif.consensus[4:8] \n",
    "pos = 2"
   ]
  },
  {
   "cell_type": "code",
   "execution_count": 304,
   "id": "45993436-c82f-4614-8283-b8e844df9cda",
   "metadata": {},
   "outputs": [
    {
     "data": {
      "text/plain": [
       "array(['TATACCAGAC', 'CTATACAGAC', 'CATATAAGAC', 'CACTATAGAC',\n",
       "       'CACATATAAC', 'CACACTATAC', 'CACACCTATA'], dtype='<U10')"
      ]
     },
     "execution_count": 304,
     "metadata": {},
     "output_type": "execute_result"
    }
   ],
   "source": [
    "def test_feature_implant\n",
    "eu.pp.feature_implant_across_seq(seq, consensus, encoding=\"str\")"
   ]
  },
  {
   "cell_type": "code",
   "execution_count": 305,
   "id": "275f048b-8204-4f07-8b65-ae93d7fdc198",
   "metadata": {},
   "outputs": [
    {
     "data": {
      "text/plain": [
       "array([[0.   , 1.   , 0.01 , 0.968, 0.002, 0.992, 1.   , 0.   , 1.   ,\n",
       "        0.   ],\n",
       "       [1.   , 0.   , 0.002, 0.   , 0.014, 0.   , 0.   , 0.   , 0.   ,\n",
       "        1.   ],\n",
       "       [0.   , 0.   , 0.002, 0.   , 0.006, 0.002, 0.   , 1.   , 0.   ,\n",
       "        0.   ],\n",
       "       [0.   , 0.   , 0.986, 0.032, 0.978, 0.006, 0.   , 0.   , 0.   ,\n",
       "        0.   ]])"
      ]
     },
     "execution_count": 305,
     "metadata": {},
     "output_type": "execute_result"
    }
   ],
   "source": [
    "eu.pp.feature_implant_seq(ohe, pfm.T, pos, encoding=\"onehot\")"
   ]
  },
  {
   "cell_type": "code",
   "execution_count": 261,
   "id": "74344a08-82c2-4fcf-82dd-66f996b5d880",
   "metadata": {},
   "outputs": [
    {
     "data": {
      "text/plain": [
       "array([[[0.01 , 0.968, 0.002, 0.992, 0.   , 0.   , 1.   , 0.   , 1.   ,\n",
       "         0.   ],\n",
       "        [0.002, 0.   , 0.014, 0.   , 1.   , 1.   , 0.   , 0.   , 0.   ,\n",
       "         1.   ],\n",
       "        [0.002, 0.   , 0.006, 0.002, 0.   , 0.   , 0.   , 1.   , 0.   ,\n",
       "         0.   ],\n",
       "        [0.986, 0.032, 0.978, 0.006, 0.   , 0.   , 0.   , 0.   , 0.   ,\n",
       "         0.   ]],\n",
       "\n",
       "       [[0.   , 0.01 , 0.968, 0.002, 0.992, 0.   , 1.   , 0.   , 1.   ,\n",
       "         0.   ],\n",
       "        [1.   , 0.002, 0.   , 0.014, 0.   , 1.   , 0.   , 0.   , 0.   ,\n",
       "         1.   ],\n",
       "        [0.   , 0.002, 0.   , 0.006, 0.002, 0.   , 0.   , 1.   , 0.   ,\n",
       "         0.   ],\n",
       "        [0.   , 0.986, 0.032, 0.978, 0.006, 0.   , 0.   , 0.   , 0.   ,\n",
       "         0.   ]],\n",
       "\n",
       "       [[0.   , 1.   , 0.01 , 0.968, 0.002, 0.992, 1.   , 0.   , 1.   ,\n",
       "         0.   ],\n",
       "        [1.   , 0.   , 0.002, 0.   , 0.014, 0.   , 0.   , 0.   , 0.   ,\n",
       "         1.   ],\n",
       "        [0.   , 0.   , 0.002, 0.   , 0.006, 0.002, 0.   , 1.   , 0.   ,\n",
       "         0.   ],\n",
       "        [0.   , 0.   , 0.986, 0.032, 0.978, 0.006, 0.   , 0.   , 0.   ,\n",
       "         0.   ]],\n",
       "\n",
       "       [[0.   , 1.   , 0.   , 0.01 , 0.968, 0.002, 0.992, 0.   , 1.   ,\n",
       "         0.   ],\n",
       "        [1.   , 0.   , 1.   , 0.002, 0.   , 0.014, 0.   , 0.   , 0.   ,\n",
       "         1.   ],\n",
       "        [0.   , 0.   , 0.   , 0.002, 0.   , 0.006, 0.002, 1.   , 0.   ,\n",
       "         0.   ],\n",
       "        [0.   , 0.   , 0.   , 0.986, 0.032, 0.978, 0.006, 0.   , 0.   ,\n",
       "         0.   ]],\n",
       "\n",
       "       [[0.   , 1.   , 0.   , 1.   , 0.01 , 0.968, 0.002, 0.992, 1.   ,\n",
       "         0.   ],\n",
       "        [1.   , 0.   , 1.   , 0.   , 0.002, 0.   , 0.014, 0.   , 0.   ,\n",
       "         1.   ],\n",
       "        [0.   , 0.   , 0.   , 0.   , 0.002, 0.   , 0.006, 0.002, 0.   ,\n",
       "         0.   ],\n",
       "        [0.   , 0.   , 0.   , 0.   , 0.986, 0.032, 0.978, 0.006, 0.   ,\n",
       "         0.   ]],\n",
       "\n",
       "       [[0.   , 1.   , 0.   , 1.   , 0.   , 0.01 , 0.968, 0.002, 0.992,\n",
       "         0.   ],\n",
       "        [1.   , 0.   , 1.   , 0.   , 1.   , 0.002, 0.   , 0.014, 0.   ,\n",
       "         1.   ],\n",
       "        [0.   , 0.   , 0.   , 0.   , 0.   , 0.002, 0.   , 0.006, 0.002,\n",
       "         0.   ],\n",
       "        [0.   , 0.   , 0.   , 0.   , 0.   , 0.986, 0.032, 0.978, 0.006,\n",
       "         0.   ]],\n",
       "\n",
       "       [[0.   , 1.   , 0.   , 1.   , 0.   , 0.   , 0.01 , 0.968, 0.002,\n",
       "         0.992],\n",
       "        [1.   , 0.   , 1.   , 0.   , 1.   , 1.   , 0.002, 0.   , 0.014,\n",
       "         0.   ],\n",
       "        [0.   , 0.   , 0.   , 0.   , 0.   , 0.   , 0.002, 0.   , 0.006,\n",
       "         0.002],\n",
       "        [0.   , 0.   , 0.   , 0.   , 0.   , 0.   , 0.986, 0.032, 0.978,\n",
       "         0.006]]])"
      ]
     },
     "execution_count": 261,
     "metadata": {},
     "output_type": "execute_result"
    }
   ],
   "source": [
    "eu.pp.feature_implant_across_seq(ohe, pfm.T, encoding=\"onehot\")"
   ]
  },
  {
   "cell_type": "code",
   "execution_count": 266,
   "id": "f752d2cb-0e09-4acf-9d18-b5e3a75dd5b9",
   "metadata": {},
   "outputs": [
    {
     "data": {
      "text/plain": [
       "array([[0., 1., 0., 1., 0., 0., 1., 0., 1., 0.],\n",
       "       [1., 0., 1., 0., 1., 1., 0., 0., 0., 1.],\n",
       "       [0., 0., 0., 0., 0., 0., 0., 1., 0., 0.],\n",
       "       [0., 0., 0., 0., 0., 0., 0., 0., 0., 0.]], dtype=float16)"
      ]
     },
     "execution_count": 266,
     "metadata": {},
     "output_type": "execute_result"
    }
   ],
   "source": [
    "ohe"
   ]
  },
  {
   "cell_type": "code",
   "execution_count": 265,
   "id": "f893ca97-6812-4e6e-a4f3-34d76a832e43",
   "metadata": {},
   "outputs": [
    {
     "data": {
      "text/plain": [
       "array([[0., 1., 0., 1., 0., 1., 1., 0., 1., 0.],\n",
       "       [1., 0., 0., 0., 0., 0., 0., 0., 0., 1.],\n",
       "       [0., 0., 0., 0., 0., 0., 0., 1., 0., 0.],\n",
       "       [0., 0., 1., 0., 1., 0., 0., 0., 0., 0.]], dtype=float16)"
      ]
     },
     "execution_count": 265,
     "metadata": {},
     "output_type": "execute_result"
    }
   ],
   "source": [
    "eu.pp.feature_implant_seq(ohe, pfm, pos, encoding=\"onehot\", onehot=True)"
   ]
  },
  {
   "cell_type": "code",
   "execution_count": 267,
   "id": "3e6560a8-6def-4881-b3b0-b0140afe2fc5",
   "metadata": {},
   "outputs": [
    {
     "data": {
      "text/plain": [
       "array([[[0., 1., 0., 1., 0., 0., 1., 0., 1., 0.],\n",
       "        [0., 0., 0., 0., 1., 1., 0., 0., 0., 1.],\n",
       "        [0., 0., 0., 0., 0., 0., 0., 1., 0., 0.],\n",
       "        [1., 0., 1., 0., 0., 0., 0., 0., 0., 0.]],\n",
       "\n",
       "       [[0., 0., 1., 0., 1., 0., 1., 0., 1., 0.],\n",
       "        [1., 0., 0., 0., 0., 1., 0., 0., 0., 1.],\n",
       "        [0., 0., 0., 0., 0., 0., 0., 1., 0., 0.],\n",
       "        [0., 1., 0., 1., 0., 0., 0., 0., 0., 0.]],\n",
       "\n",
       "       [[0., 1., 0., 1., 0., 1., 1., 0., 1., 0.],\n",
       "        [1., 0., 0., 0., 0., 0., 0., 0., 0., 1.],\n",
       "        [0., 0., 0., 0., 0., 0., 0., 1., 0., 0.],\n",
       "        [0., 0., 1., 0., 1., 0., 0., 0., 0., 0.]],\n",
       "\n",
       "       [[0., 1., 0., 0., 1., 0., 1., 0., 1., 0.],\n",
       "        [1., 0., 1., 0., 0., 0., 0., 0., 0., 1.],\n",
       "        [0., 0., 0., 0., 0., 0., 0., 1., 0., 0.],\n",
       "        [0., 0., 0., 1., 0., 1., 0., 0., 0., 0.]],\n",
       "\n",
       "       [[0., 1., 0., 1., 0., 1., 0., 1., 1., 0.],\n",
       "        [1., 0., 1., 0., 0., 0., 0., 0., 0., 1.],\n",
       "        [0., 0., 0., 0., 0., 0., 0., 0., 0., 0.],\n",
       "        [0., 0., 0., 0., 1., 0., 1., 0., 0., 0.]],\n",
       "\n",
       "       [[0., 1., 0., 1., 0., 0., 1., 0., 1., 0.],\n",
       "        [1., 0., 1., 0., 1., 0., 0., 0., 0., 1.],\n",
       "        [0., 0., 0., 0., 0., 0., 0., 0., 0., 0.],\n",
       "        [0., 0., 0., 0., 0., 1., 0., 1., 0., 0.]],\n",
       "\n",
       "       [[0., 1., 0., 1., 0., 0., 0., 1., 0., 1.],\n",
       "        [1., 0., 1., 0., 1., 1., 0., 0., 0., 0.],\n",
       "        [0., 0., 0., 0., 0., 0., 0., 0., 0., 0.],\n",
       "        [0., 0., 0., 0., 0., 0., 1., 0., 1., 0.]]], dtype=float16)"
      ]
     },
     "execution_count": 267,
     "metadata": {},
     "output_type": "execute_result"
    }
   ],
   "source": [
    "eu.pp.feature_implant_across_seq(ohe, pfm, encoding=\"onehot\", onehot=True)"
   ]
  },
  {
   "cell_type": "code",
   "execution_count": 3,
   "id": "79e3a3a5-4056-4355-951f-671f13cdbfb4",
   "metadata": {},
   "outputs": [],
   "source": [
    "sdata = eu.datasets.random1000()"
   ]
  },
  {
   "cell_type": "code",
   "execution_count": 4,
   "id": "14d0a6a6-e028-448f-8a98-e454cd1538fb",
   "metadata": {},
   "outputs": [
    {
     "data": {
      "application/vnd.jupyter.widget-view+json": {
       "model_id": "9479b4320b0f453eb02a1ba21f0fc886",
       "version_major": 2,
       "version_minor": 0
      },
      "text/plain": [
       "One-hot-encoding sequences:   0%|          | 0/1000 [00:00<?, ?it/s]"
      ]
     },
     "metadata": {},
     "output_type": "display_data"
    },
    {
     "name": "stdout",
     "output_type": "stream",
     "text": [
      "SeqData object modified:\n",
      "\tohe_seqs: None -> 1000 ohe_seqs added\n"
     ]
    }
   ],
   "source": [
    "eu.pp.one_hot_encode_data(sdata)"
   ]
  },
  {
   "cell_type": "code",
   "execution_count": 5,
   "id": "f47a9060-af1b-4b27-9589-19683a2af71c",
   "metadata": {},
   "outputs": [],
   "source": [
    "# Prep data\n",
    "model = eu.models.DeepBind(input_len=66, output_dim=1)\n",
    "seq = sdata.seqs[0]\n",
    "ohe_seq = eu.pp.ohe_DNA_seq(seq)\n",
    "meme = eu.utils.MinimalMEME(path=\"../../_datasets/jores21/CPEs.meme\")\n",
    "motif = meme.motifs[\"TATA\"]\n",
    "name = motif.name\n",
    "pfm = motif.pfm\n",
    "consensus = eu.pp.decode_DNA_seq(pfm)\n",
    "pos = 2"
   ]
  },
  {
   "cell_type": "code",
   "execution_count": 6,
   "id": "bb22ad4a-3a64-4f46-b798-11443ae4b6da",
   "metadata": {},
   "outputs": [
    {
     "data": {
      "text/plain": [
       "'AGCCCCTATAAATACCCCTTGGGCCCAACGGATCAGCCTCTATAAACCGTATCCGACAATATAAGG'"
      ]
     },
     "execution_count": 6,
     "metadata": {},
     "output_type": "execute_result"
    }
   ],
   "source": [
    "eu.pp.feature_implant_seq(seq, consensus, pos, encoding=\"str\")"
   ]
  },
  {
   "cell_type": "code",
   "execution_count": 7,
   "id": "18808431-7211-495b-8f7f-410b6dd852f1",
   "metadata": {},
   "outputs": [
    {
     "data": {
      "text/plain": [
       "array(['CCCCTATAAATACCCCTGTTGGGCCCAACGGATCAGCCTCTATAAACCGTATCCGACAATATAAGG',\n",
       "       'ACCCCTATAAATACCCCGTTGGGCCCAACGGATCAGCCTCTATAAACCGTATCCGACAATATAAGG',\n",
       "       'AGCCCCTATAAATACCCCTTGGGCCCAACGGATCAGCCTCTATAAACCGTATCCGACAATATAAGG',\n",
       "       'AGGCCCCTATAAATACCCCTGGGCCCAACGGATCAGCCTCTATAAACCGTATCCGACAATATAAGG',\n",
       "       'AGGACCCCTATAAATACCCCGGGCCCAACGGATCAGCCTCTATAAACCGTATCCGACAATATAAGG',\n",
       "       'AGGACCCCCTATAAATACCCCGGCCCAACGGATCAGCCTCTATAAACCGTATCCGACAATATAAGG',\n",
       "       'AGGACACCCCTATAAATACCCCGCCCAACGGATCAGCCTCTATAAACCGTATCCGACAATATAAGG',\n",
       "       'AGGACAGCCCCTATAAATACCCCCCCAACGGATCAGCCTCTATAAACCGTATCCGACAATATAAGG',\n",
       "       'AGGACAGACCCCTATAAATACCCCCCAACGGATCAGCCTCTATAAACCGTATCCGACAATATAAGG',\n",
       "       'AGGACAGATCCCCTATAAATACCCCCAACGGATCAGCCTCTATAAACCGTATCCGACAATATAAGG',\n",
       "       'AGGACAGATTCCCCTATAAATACCCCAACGGATCAGCCTCTATAAACCGTATCCGACAATATAAGG',\n",
       "       'AGGACAGATTTCCCCTATAAATACCCCACGGATCAGCCTCTATAAACCGTATCCGACAATATAAGG',\n",
       "       'AGGACAGATTTTCCCCTATAAATACCCCCGGATCAGCCTCTATAAACCGTATCCGACAATATAAGG',\n",
       "       'AGGACAGATTTTCCCCCTATAAATACCCCGGATCAGCCTCTATAAACCGTATCCGACAATATAAGG',\n",
       "       'AGGACAGATTTTCGCCCCTATAAATACCCCGATCAGCCTCTATAAACCGTATCCGACAATATAAGG',\n",
       "       'AGGACAGATTTTCGCCCCCTATAAATACCCCATCAGCCTCTATAAACCGTATCCGACAATATAAGG',\n",
       "       'AGGACAGATTTTCGCGCCCCTATAAATACCCCTCAGCCTCTATAAACCGTATCCGACAATATAAGG',\n",
       "       'AGGACAGATTTTCGCGTCCCCTATAAATACCCCCAGCCTCTATAAACCGTATCCGACAATATAAGG',\n",
       "       'AGGACAGATTTTCGCGTGCCCCTATAAATACCCCAGCCTCTATAAACCGTATCCGACAATATAAGG',\n",
       "       'AGGACAGATTTTCGCGTGTCCCCTATAAATACCCCGCCTCTATAAACCGTATCCGACAATATAAGG',\n",
       "       'AGGACAGATTTTCGCGTGTTCCCCTATAAATACCCCCCTCTATAAACCGTATCCGACAATATAAGG',\n",
       "       'AGGACAGATTTTCGCGTGTTGCCCCTATAAATACCCCCTCTATAAACCGTATCCGACAATATAAGG',\n",
       "       'AGGACAGATTTTCGCGTGTTGGCCCCTATAAATACCCCTCTATAAACCGTATCCGACAATATAAGG',\n",
       "       'AGGACAGATTTTCGCGTGTTGGGCCCCTATAAATACCCCCTATAAACCGTATCCGACAATATAAGG',\n",
       "       'AGGACAGATTTTCGCGTGTTGGGCCCCCTATAAATACCCCTATAAACCGTATCCGACAATATAAGG',\n",
       "       'AGGACAGATTTTCGCGTGTTGGGCCCCCCTATAAATACCCCATAAACCGTATCCGACAATATAAGG',\n",
       "       'AGGACAGATTTTCGCGTGTTGGGCCCCCCCTATAAATACCCCTAAACCGTATCCGACAATATAAGG',\n",
       "       'AGGACAGATTTTCGCGTGTTGGGCCCACCCCTATAAATACCCCAAACCGTATCCGACAATATAAGG',\n",
       "       'AGGACAGATTTTCGCGTGTTGGGCCCAACCCCTATAAATACCCCAACCGTATCCGACAATATAAGG',\n",
       "       'AGGACAGATTTTCGCGTGTTGGGCCCAACCCCCTATAAATACCCCACCGTATCCGACAATATAAGG',\n",
       "       'AGGACAGATTTTCGCGTGTTGGGCCCAACGCCCCTATAAATACCCCCCGTATCCGACAATATAAGG',\n",
       "       'AGGACAGATTTTCGCGTGTTGGGCCCAACGGCCCCTATAAATACCCCCGTATCCGACAATATAAGG',\n",
       "       'AGGACAGATTTTCGCGTGTTGGGCCCAACGGACCCCTATAAATACCCCGTATCCGACAATATAAGG',\n",
       "       'AGGACAGATTTTCGCGTGTTGGGCCCAACGGATCCCCTATAAATACCCCTATCCGACAATATAAGG',\n",
       "       'AGGACAGATTTTCGCGTGTTGGGCCCAACGGATCCCCCTATAAATACCCCATCCGACAATATAAGG',\n",
       "       'AGGACAGATTTTCGCGTGTTGGGCCCAACGGATCACCCCTATAAATACCCCTCCGACAATATAAGG',\n",
       "       'AGGACAGATTTTCGCGTGTTGGGCCCAACGGATCAGCCCCTATAAATACCCCCCGACAATATAAGG',\n",
       "       'AGGACAGATTTTCGCGTGTTGGGCCCAACGGATCAGCCCCCTATAAATACCCCCGACAATATAAGG',\n",
       "       'AGGACAGATTTTCGCGTGTTGGGCCCAACGGATCAGCCCCCCTATAAATACCCCGACAATATAAGG',\n",
       "       'AGGACAGATTTTCGCGTGTTGGGCCCAACGGATCAGCCTCCCCTATAAATACCCCACAATATAAGG',\n",
       "       'AGGACAGATTTTCGCGTGTTGGGCCCAACGGATCAGCCTCCCCCTATAAATACCCCCAATATAAGG',\n",
       "       'AGGACAGATTTTCGCGTGTTGGGCCCAACGGATCAGCCTCTCCCCTATAAATACCCCAATATAAGG',\n",
       "       'AGGACAGATTTTCGCGTGTTGGGCCCAACGGATCAGCCTCTACCCCTATAAATACCCCATATAAGG',\n",
       "       'AGGACAGATTTTCGCGTGTTGGGCCCAACGGATCAGCCTCTATCCCCTATAAATACCCCTATAAGG',\n",
       "       'AGGACAGATTTTCGCGTGTTGGGCCCAACGGATCAGCCTCTATACCCCTATAAATACCCCATAAGG',\n",
       "       'AGGACAGATTTTCGCGTGTTGGGCCCAACGGATCAGCCTCTATAACCCCTATAAATACCCCTAAGG',\n",
       "       'AGGACAGATTTTCGCGTGTTGGGCCCAACGGATCAGCCTCTATAAACCCCTATAAATACCCCAAGG',\n",
       "       'AGGACAGATTTTCGCGTGTTGGGCCCAACGGATCAGCCTCTATAAACCCCCTATAAATACCCCAGG',\n",
       "       'AGGACAGATTTTCGCGTGTTGGGCCCAACGGATCAGCCTCTATAAACCCCCCTATAAATACCCCGG',\n",
       "       'AGGACAGATTTTCGCGTGTTGGGCCCAACGGATCAGCCTCTATAAACCGCCCCTATAAATACCCCG',\n",
       "       'AGGACAGATTTTCGCGTGTTGGGCCCAACGGATCAGCCTCTATAAACCGTCCCCTATAAATACCCC'],\n",
       "      dtype='<U66')"
      ]
     },
     "execution_count": 7,
     "metadata": {},
     "output_type": "execute_result"
    }
   ],
   "source": [
    "eu.pp.feature_implant_across_seq(seq, consensus, encoding=\"str\")"
   ]
  },
  {
   "cell_type": "code",
   "execution_count": 8,
   "id": "482bb0ff-f08b-41a1-a1a2-e72b7afa9b7d",
   "metadata": {},
   "outputs": [
    {
     "data": {
      "text/plain": [
       "array([[1.    , 0.    , 0.    , 0.    ],\n",
       "       [0.    , 0.    , 1.    , 0.    ],\n",
       "       [0.1275, 0.3765, 0.1195, 0.3765],\n",
       "       [0.1575, 0.3985, 0.199 , 0.2455],\n",
       "       [0.249 , 0.303 , 0.197 , 0.251 ],\n",
       "       [0.1235, 0.655 , 0.0755, 0.1455],\n",
       "       [0.01  , 0.002 , 0.002 , 0.986 ],\n",
       "       [0.968 , 0.    , 0.    , 0.032 ],\n",
       "       [0.002 , 0.014 , 0.006 , 0.978 ],\n",
       "       [0.992 , 0.    , 0.002 , 0.006 ],\n",
       "       [0.653 , 0.012 , 0.002 , 0.333 ],\n",
       "       [0.974 , 0.    , 0.008 , 0.018 ],\n",
       "       [0.341 , 0.028 , 0.036 , 0.5955],\n",
       "       [0.6955, 0.0815, 0.1195, 0.1035],\n",
       "       [0.1255, 0.432 , 0.3165, 0.1255],\n",
       "       [0.291 , 0.418 , 0.175 , 0.1155],\n",
       "       [0.263 , 0.3445, 0.1755, 0.2175],\n",
       "       [0.307 , 0.3085, 0.2365, 0.1475],\n",
       "       [0.    , 0.    , 0.    , 1.    ],\n",
       "       [0.    , 0.    , 0.    , 1.    ],\n",
       "       [0.    , 0.    , 1.    , 0.    ],\n",
       "       [0.    , 0.    , 1.    , 0.    ],\n",
       "       [0.    , 0.    , 1.    , 0.    ],\n",
       "       [0.    , 1.    , 0.    , 0.    ],\n",
       "       [0.    , 1.    , 0.    , 0.    ],\n",
       "       [0.    , 1.    , 0.    , 0.    ],\n",
       "       [1.    , 0.    , 0.    , 0.    ],\n",
       "       [1.    , 0.    , 0.    , 0.    ],\n",
       "       [0.    , 1.    , 0.    , 0.    ],\n",
       "       [0.    , 0.    , 1.    , 0.    ],\n",
       "       [0.    , 0.    , 1.    , 0.    ],\n",
       "       [1.    , 0.    , 0.    , 0.    ],\n",
       "       [0.    , 0.    , 0.    , 1.    ],\n",
       "       [0.    , 1.    , 0.    , 0.    ],\n",
       "       [1.    , 0.    , 0.    , 0.    ],\n",
       "       [0.    , 0.    , 1.    , 0.    ],\n",
       "       [0.    , 1.    , 0.    , 0.    ],\n",
       "       [0.    , 1.    , 0.    , 0.    ],\n",
       "       [0.    , 0.    , 0.    , 1.    ],\n",
       "       [0.    , 1.    , 0.    , 0.    ],\n",
       "       [0.    , 0.    , 0.    , 1.    ],\n",
       "       [1.    , 0.    , 0.    , 0.    ],\n",
       "       [0.    , 0.    , 0.    , 1.    ],\n",
       "       [1.    , 0.    , 0.    , 0.    ],\n",
       "       [1.    , 0.    , 0.    , 0.    ],\n",
       "       [1.    , 0.    , 0.    , 0.    ],\n",
       "       [0.    , 1.    , 0.    , 0.    ],\n",
       "       [0.    , 1.    , 0.    , 0.    ],\n",
       "       [0.    , 0.    , 1.    , 0.    ],\n",
       "       [0.    , 0.    , 0.    , 1.    ],\n",
       "       [1.    , 0.    , 0.    , 0.    ],\n",
       "       [0.    , 0.    , 0.    , 1.    ],\n",
       "       [0.    , 1.    , 0.    , 0.    ],\n",
       "       [0.    , 1.    , 0.    , 0.    ],\n",
       "       [0.    , 0.    , 1.    , 0.    ],\n",
       "       [1.    , 0.    , 0.    , 0.    ],\n",
       "       [0.    , 1.    , 0.    , 0.    ],\n",
       "       [1.    , 0.    , 0.    , 0.    ],\n",
       "       [1.    , 0.    , 0.    , 0.    ],\n",
       "       [0.    , 0.    , 0.    , 1.    ],\n",
       "       [1.    , 0.    , 0.    , 0.    ],\n",
       "       [0.    , 0.    , 0.    , 1.    ],\n",
       "       [1.    , 0.    , 0.    , 0.    ],\n",
       "       [1.    , 0.    , 0.    , 0.    ],\n",
       "       [0.    , 0.    , 1.    , 0.    ],\n",
       "       [0.    , 0.    , 1.    , 0.    ]])"
      ]
     },
     "execution_count": 8,
     "metadata": {},
     "output_type": "execute_result"
    }
   ],
   "source": [
    "eu.pp.feature_implant_seq(ohe_seq, pfm, pos, encoding=\"onehot\")"
   ]
  },
  {
   "cell_type": "code",
   "execution_count": 9,
   "id": "022dafd4-f1db-4cbc-9309-3ebeed2224c0",
   "metadata": {},
   "outputs": [
    {
     "data": {
      "text/plain": [
       "array([[[0.1275, 0.3765, 0.1195, 0.3765],\n",
       "        [0.1575, 0.3985, 0.199 , 0.2455],\n",
       "        [0.249 , 0.303 , 0.197 , 0.251 ],\n",
       "        ...,\n",
       "        [1.    , 0.    , 0.    , 0.    ],\n",
       "        [0.    , 0.    , 1.    , 0.    ],\n",
       "        [0.    , 0.    , 1.    , 0.    ]],\n",
       "\n",
       "       [[1.    , 0.    , 0.    , 0.    ],\n",
       "        [0.1275, 0.3765, 0.1195, 0.3765],\n",
       "        [0.1575, 0.3985, 0.199 , 0.2455],\n",
       "        ...,\n",
       "        [1.    , 0.    , 0.    , 0.    ],\n",
       "        [0.    , 0.    , 1.    , 0.    ],\n",
       "        [0.    , 0.    , 1.    , 0.    ]],\n",
       "\n",
       "       [[1.    , 0.    , 0.    , 0.    ],\n",
       "        [0.    , 0.    , 1.    , 0.    ],\n",
       "        [0.1275, 0.3765, 0.1195, 0.3765],\n",
       "        ...,\n",
       "        [1.    , 0.    , 0.    , 0.    ],\n",
       "        [0.    , 0.    , 1.    , 0.    ],\n",
       "        [0.    , 0.    , 1.    , 0.    ]],\n",
       "\n",
       "       ...,\n",
       "\n",
       "       [[1.    , 0.    , 0.    , 0.    ],\n",
       "        [0.    , 0.    , 1.    , 0.    ],\n",
       "        [0.    , 0.    , 1.    , 0.    ],\n",
       "        ...,\n",
       "        [0.307 , 0.3085, 0.2365, 0.1475],\n",
       "        [0.    , 0.    , 1.    , 0.    ],\n",
       "        [0.    , 0.    , 1.    , 0.    ]],\n",
       "\n",
       "       [[1.    , 0.    , 0.    , 0.    ],\n",
       "        [0.    , 0.    , 1.    , 0.    ],\n",
       "        [0.    , 0.    , 1.    , 0.    ],\n",
       "        ...,\n",
       "        [0.263 , 0.3445, 0.1755, 0.2175],\n",
       "        [0.307 , 0.3085, 0.2365, 0.1475],\n",
       "        [0.    , 0.    , 1.    , 0.    ]],\n",
       "\n",
       "       [[1.    , 0.    , 0.    , 0.    ],\n",
       "        [0.    , 0.    , 1.    , 0.    ],\n",
       "        [0.    , 0.    , 1.    , 0.    ],\n",
       "        ...,\n",
       "        [0.291 , 0.418 , 0.175 , 0.1155],\n",
       "        [0.263 , 0.3445, 0.1755, 0.2175],\n",
       "        [0.307 , 0.3085, 0.2365, 0.1475]]])"
      ]
     },
     "execution_count": 9,
     "metadata": {},
     "output_type": "execute_result"
    }
   ],
   "source": [
    "eu.pp.feature_implant_across_seq(ohe_seq, pfm, encoding=\"onehot\")"
   ]
  },
  {
   "cell_type": "code",
   "execution_count": 10,
   "id": "deb97071-78c7-4e74-a00e-fc8b867af43d",
   "metadata": {},
   "outputs": [
    {
     "data": {
      "text/plain": [
       "array([[[0., 1., 0., 0.],\n",
       "        [0., 1., 0., 0.],\n",
       "        [0., 1., 0., 0.],\n",
       "        ...,\n",
       "        [1., 0., 0., 0.],\n",
       "        [0., 0., 1., 0.],\n",
       "        [0., 0., 1., 0.]],\n",
       "\n",
       "       [[1., 0., 0., 0.],\n",
       "        [0., 1., 0., 0.],\n",
       "        [0., 1., 0., 0.],\n",
       "        ...,\n",
       "        [1., 0., 0., 0.],\n",
       "        [0., 0., 1., 0.],\n",
       "        [0., 0., 1., 0.]],\n",
       "\n",
       "       [[1., 0., 0., 0.],\n",
       "        [0., 0., 1., 0.],\n",
       "        [0., 1., 0., 0.],\n",
       "        ...,\n",
       "        [1., 0., 0., 0.],\n",
       "        [0., 0., 1., 0.],\n",
       "        [0., 0., 1., 0.]],\n",
       "\n",
       "       ...,\n",
       "\n",
       "       [[1., 0., 0., 0.],\n",
       "        [0., 0., 1., 0.],\n",
       "        [0., 0., 1., 0.],\n",
       "        ...,\n",
       "        [0., 1., 0., 0.],\n",
       "        [0., 0., 1., 0.],\n",
       "        [0., 0., 1., 0.]],\n",
       "\n",
       "       [[1., 0., 0., 0.],\n",
       "        [0., 0., 1., 0.],\n",
       "        [0., 0., 1., 0.],\n",
       "        ...,\n",
       "        [0., 1., 0., 0.],\n",
       "        [0., 1., 0., 0.],\n",
       "        [0., 0., 1., 0.]],\n",
       "\n",
       "       [[1., 0., 0., 0.],\n",
       "        [0., 0., 1., 0.],\n",
       "        [0., 0., 1., 0.],\n",
       "        ...,\n",
       "        [0., 1., 0., 0.],\n",
       "        [0., 1., 0., 0.],\n",
       "        [0., 1., 0., 0.]]], dtype=float16)"
      ]
     },
     "execution_count": 10,
     "metadata": {},
     "output_type": "execute_result"
    }
   ],
   "source": [
    "eu.pp.feature_implant_across_seq(ohe_seq, pfm, encoding=\"onehot\", onehot=True)"
   ]
  },
  {
   "cell_type": "code",
   "execution_count": 11,
   "id": "ad06c3cd-7134-4c26-b4bf-c36b932fe449",
   "metadata": {},
   "outputs": [
    {
     "data": {
      "text/plain": [
       "array([-0.12860738, -0.20724249, -0.09944402, -0.15735872, -0.07232916,\n",
       "        0.10080706, -0.05799149, -0.00366257, -0.13281582, -0.03578924,\n",
       "        0.07352825, -0.08969332, -0.14790955, -0.19986603, -0.17278814,\n",
       "       -0.18217488, -0.07786699, -0.18028736, -0.13209815, -0.0564633 ,\n",
       "       -0.15503126, -0.09165487, -0.11240477, -0.0220406 , -0.00690747,\n",
       "       -0.05037049, -0.13428695, -0.07957186,  0.05299611, -0.00722817,\n",
       "       -0.05692093, -0.06351749, -0.12362285, -0.04635581, -0.10504552,\n",
       "        0.02596581,  0.10609262, -0.04033621, -0.09065762, -0.05444472,\n",
       "       -0.05513809, -0.08035021, -0.02563847, -0.05098003,  0.05189031,\n",
       "       -0.14998351,  0.04425012,  0.00295492, -0.0998994 , -0.09659025,\n",
       "       -0.06869654], dtype=float32)"
      ]
     },
     "execution_count": 11,
     "metadata": {},
     "output_type": "execute_result"
    }
   ],
   "source": [
    "eu.interpret.feature_implant(\n",
    "    model, \n",
    "    sdata, \n",
    "    seq_id=sdata.names[0], \n",
    "    feature=consensus, \n",
    "    feature_name=name, \n",
    "    encoding=\"str\", \n",
    "    onehot=False, \n",
    "    device=\"cpu\", \n",
    "    store=True\n",
    ")"
   ]
  },
  {
   "cell_type": "code",
   "execution_count": 16,
   "id": "92843da3-48b3-4ef7-af0e-de1ea58a6d50",
   "metadata": {},
   "outputs": [
    {
     "data": {
      "application/vnd.jupyter.widget-view+json": {
       "model_id": "f25032fb91654518a34e900b192cfb21",
       "version_major": 2,
       "version_minor": 0
      },
      "text/plain": [
       "Implanting feature:   0%|          | 0/1000 [00:00<?, ?it/s]"
      ]
     },
     "metadata": {},
     "output_type": "display_data"
    }
   ],
   "source": [
    "eu.interpret.feature_implant_sdata(\n",
    "    model,\n",
    "    sdata,\n",
    "    feature=consensus,\n",
    "    seqsm_key=f\"{name}_slide\",\n",
    "    encoding=\"str\",\n",
    "    onehot=False,\n",
    "    device=\"cpu\"\n",
    ")"
   ]
  },
  {
   "cell_type": "code",
   "execution_count": 17,
   "id": "23970b75-2850-4865-8c60-8fc02e660b24",
   "metadata": {},
   "outputs": [
    {
     "data": {
      "text/plain": [
       "SeqData object with = 1000 seqs\n",
       "seqs = (1000,)\n",
       "names = (1000,)\n",
       "rev_seqs = None\n",
       "ohe_seqs = (1000, 66, 4)\n",
       "ohe_rev_seqs = None\n",
       "seqs_annot: 'target'\n",
       "pos_annot: PyRanges object with 1400 features\n",
       "seqsm: 'seq000_TATA_slide', 'TATA_slide'\n",
       "uns: None"
      ]
     },
     "execution_count": 17,
     "metadata": {},
     "output_type": "execute_result"
    }
   ],
   "source": [
    "sdata"
   ]
  },
  {
   "cell_type": "markdown",
   "id": "9a99cec4",
   "metadata": {},
   "source": [
    "# Dataset preprocessing"
   ]
  },
  {
   "cell_type": "code",
   "execution_count": 66,
   "id": "48518646",
   "metadata": {},
   "outputs": [
    {
     "data": {
      "application/vnd.jupyter.widget-view+json": {
       "model_id": "ef8d70825399487e8ad8a2e350d5604b",
       "version_major": 2,
       "version_minor": 0
      },
      "text/plain": [
       "One-hot encoding sequences:   0%|          | 0/1000 [00:00<?, ?it/s]"
      ]
     },
     "metadata": {},
     "output_type": "display_data"
    },
    {
     "name": "stdout",
     "output_type": "stream",
     "text": [
      "SeqData object modified:\n",
      "\tohe_seqs: None -> 1000 ohe_seqs added\n"
     ]
    }
   ],
   "source": [
    "sdata = eu.datasets.random1000()\n",
    "eu.pp.ohe_seqs_sdata(sdata)\n",
    "ohe_seqs = sdata.ohe_seqs\n",
    "targets = sdata.seqs_annot[\"activity_0\"].values"
   ]
  },
  {
   "cell_type": "code",
   "execution_count": 70,
   "id": "e5b4a58c",
   "metadata": {},
   "outputs": [],
   "source": [
    "def test_split_train_test(ohe_seqs, targets):\n",
    "    train_seqs, test_seqs, train_targets, test_targets = eu.pp.split_train_test(ohe_seqs, targets)\n",
    "    assert len(train_seqs) == len(train_targets)\n",
    "    assert len(test_seqs) == len(test_targets)\n",
    "    assert len(train_seqs) + len(test_seqs) == len(ohe_seqs)\n",
    "    assert len(train_targets) + len(test_targets) == len(targets)\n",
    "test_split_train_test(ohe_seqs, targets)"
   ]
  },
  {
   "cell_type": "code",
   "execution_count": 74,
   "id": "06de9e98",
   "metadata": {},
   "outputs": [
    {
     "name": "stdout",
     "output_type": "stream",
     "text": [
      "None\n"
     ]
    }
   ],
   "source": [
    "def test_standardize_features(ohe_seqs, targets):\n",
    "    train_seqs, test_seqs, train_targets, test_targets = eu.pp.split_train_test(ohe_seqs, targets)\n",
    "    standardized_train, standardized_test = eu.pp.standardize_features(train_seqs, test_seqs)\n",
    "    assert standardized_train.shape == train_seqs.shape\n",
    "    assert standardized_test.shape == test_seqs.shape\n",
    "test_standardize_features()"
   ]
  },
  {
   "cell_type": "code",
   "execution_count": 75,
   "id": "9014249e",
   "metadata": {},
   "outputs": [],
   "source": [
    "def test_binarize_values(targets):\n",
    "    binarized_targets = eu.pp.binarize_values(targets)\n",
    "    assert binarized_targets.shape == targets.shape\n",
    "test_binarize_values(targets)"
   ]
  },
  {
   "cell_type": "markdown",
   "id": "f5d680af-6cf4-4b56-9eb7-092bbdc59486",
   "metadata": {},
   "source": [
    "# `SeqData` Functions"
   ]
  },
  {
   "cell_type": "code",
   "execution_count": 58,
   "id": "da97996f",
   "metadata": {},
   "outputs": [],
   "source": [
    "sdata = eu.datasets.random1000()"
   ]
  },
  {
   "cell_type": "code",
   "execution_count": 82,
   "id": "ebbaefb4",
   "metadata": {},
   "outputs": [
    {
     "name": "stdout",
     "output_type": "stream",
     "text": [
      "Dropped targets: []\n"
     ]
    },
    {
     "name": "stderr",
     "output_type": "stream",
     "text": [
      "/Users/adamklie/miniconda3/envs/eugene/lib/python3.7/site-packages/sklearn/base.py:444: UserWarning: X has feature names, but StandardScaler was fitted without feature names\n",
      "  f\"X has feature names, but {self.__class__.__name__} was fitted without\"\n"
     ]
    },
    {
     "data": {
      "application/vnd.jupyter.widget-view+json": {
       "model_id": "125c4b85da784f4b952119cfab77633f",
       "version_major": 2,
       "version_minor": 0
      },
      "text/plain": [
       "  0%|          | 0/3 [00:00<?, ?it/s]"
      ]
     },
     "metadata": {},
     "output_type": "display_data"
    }
   ],
   "source": [
    "from eugene.dataload import SeqData\n",
    "def test_sanitize_seqs_sdata(sdata):\n",
    "    sdata_copy = eu.pp.sanitize_seqs_sdata(sdata, copy=True)\n",
    "    assert isinstance(sdata_copy, SeqData)\n",
    "\n",
    "def test_ohe_seqs_sdata(sdata):\n",
    "    eu.pp.ohe_seqs_sdata(sdata)\n",
    "    assert sdata.ohe_seqs is not None\n",
    "    assert len(sdata.ohe_seqs) == len(sdata.seqs)\n",
    "\n",
    "def test_reverse_complement_seqs_sdata(sdata):\n",
    "    eu.pp.reverse_complement_seqs_sdata(sdata, rc_seqs=False, copy=False)\n",
    "\n",
    "def test_clean_nan_targets_sdata(sdata):\n",
    "    eu.pp.clean_nan_targets_sdata(sdata, target_keys=\"activity_0\", copy=True)\n",
    "\n",
    "def test_clamp_targets_sdata(sdata):\n",
    "    eu.pp.train_test_split_sdata(sdata)\n",
    "    eu.pp.clamp_targets_sdata(sdata, \"activity_0\", 0.8, \"train_val\", store_clamp_nums=True)\n",
    "    assert sdata.uns[\"clamp_nums\"] is not None\n",
    "\n",
    "def test_scale_targets_sdata(sdata):\n",
    "    eu.pp.train_test_split_sdata(sdata)\n",
    "    eu.pp.scale_targets_sdata(sdata, \"activity_0\", \"train_val\", store_scaler=True)\n",
    "    assert sdata\n",
    "    assert sdata.uns[\"scaler\"] is not None\n",
    "\n",
    "def test_binarize_targets_sdata(sdata):\n",
    "    eu.pp.binarize_targets_sdata(sdata, target_keys=\"activity_0\", upper_threshold=0, suffix=True, copy=False)\n",
    "\n",
    "def test_train_test_split_sdata(sdata):\n",
    "    eu.pp.train_test_split_sdata(sdata)\n",
    "    assert sdata[\"train_val\"] is not None\n",
    "\n",
    "def test_prepare_seqs_sdata(sdata):\n",
    "    eu.pp.prepare_seqs_sdata(sdata)\n",
    "    assert sdata.seqs is not None\n",
    "    assert sdata.ohe_seqs is not None\n",
    "    assert sdata.ohe_rev_seqs is not None\n",
    "    assert len(sdata.seqs) == len(sdata.ohe_seqs) == len(sdata.ohe_rev_seqs)\n",
    "    assert sdata[\"train_val\"] is not None\n",
    "\n",
    "test_sanitize_seqs_sdata(sdata)\n",
    "test_ohe_seqs_sdata(sdata)\n",
    "test_reverse_complement_seqs_sdata()\n",
    "test_clean_nan_targets_sdata()\n",
    "test_clamp_targets_sdata()\n",
    "test_scale_targets_sdata()\n",
    "test_binarize_targets_sdata()\n",
    "test_train_test_split_sdata()\n",
    "test_prepare_seqs_sdata()"
   ]
  },
  {
   "cell_type": "markdown",
   "id": "bfe7d217-5cbb-4d63-958d-5991c04ccd1f",
   "metadata": {},
   "source": [
    "---"
   ]
  }
 ],
 "metadata": {
  "kernelspec": {
   "display_name": "Python 3.7.12 ('eugene')",
   "language": "python",
   "name": "python3"
  },
  "language_info": {
   "codemirror_mode": {
    "name": "ipython",
    "version": 3
   },
   "file_extension": ".py",
   "mimetype": "text/x-python",
   "name": "python",
   "nbconvert_exporter": "python",
   "pygments_lexer": "ipython3",
   "version": "3.7.12"
  },
  "vscode": {
   "interpreter": {
    "hash": "7782186cff5d7e5d5e3fe0a7e6ebf1d74655b3470c460e9b06cf809b4e9601e8"
   }
  }
 },
 "nbformat": 4,
 "nbformat_minor": 5
}

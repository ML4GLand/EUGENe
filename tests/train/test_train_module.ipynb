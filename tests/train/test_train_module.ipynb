{
 "cells": [
  {
   "cell_type": "markdown",
   "id": "47cc2c48",
   "metadata": {},
   "source": [
    "# Testing the `train` module"
   ]
  },
  {
   "cell_type": "markdown",
   "id": "3b1880c3",
   "metadata": {
    "tags": []
   },
   "source": [
    "**Authorship:**\n",
    "Adam Klie, *07/12/2022*\n",
    "***\n",
    "**Description:**\n",
    "Notebook for testing out the `train` module."
   ]
  },
  {
   "cell_type": "code",
   "execution_count": 1,
   "id": "1dd9ef33",
   "metadata": {
    "execution": {
     "iopub.execute_input": "2022-12-20T00:39:28.577344Z",
     "iopub.status.busy": "2022-12-20T00:39:28.577068Z",
     "iopub.status.idle": "2022-12-20T00:40:12.224709Z",
     "shell.execute_reply": "2022-12-20T00:40:12.224093Z",
     "shell.execute_reply.started": "2022-12-20T00:39:28.577292Z"
    },
    "tags": []
   },
   "outputs": [
    {
     "name": "stderr",
     "output_type": "stream",
     "text": [
      "Global seed set to 13\n"
     ]
    },
    {
     "name": "stdout",
     "output_type": "stream",
     "text": [
      "GPU is available: True\n",
      "Number of GPUs: 1\n",
      "Current GPU: 0\n",
      "GPUs: Quadro RTX 5000\n"
     ]
    }
   ],
   "source": [
    "if 'autoreload' not in get_ipython().extension_manager.loaded:\n",
    "    %load_ext autoreload\n",
    "%autoreload 2\n",
    "\n",
    "import os\n",
    "import torch\n",
    "import numpy as np\n",
    "import pandas as pd\n",
    "import eugene as eu\n",
    "import matplotlib.pyplot as plt"
   ]
  },
  {
   "cell_type": "code",
   "execution_count": 2,
   "id": "895b3e53",
   "metadata": {
    "execution": {
     "iopub.execute_input": "2022-12-20T00:40:12.237216Z",
     "iopub.status.busy": "2022-12-20T00:40:12.236971Z",
     "iopub.status.idle": "2022-12-20T00:40:16.472265Z",
     "shell.execute_reply": "2022-12-20T00:40:16.471826Z",
     "shell.execute_reply.started": "2022-12-20T00:40:12.237199Z"
    }
   },
   "outputs": [
    {
     "data": {
      "application/vnd.jupyter.widget-view+json": {
       "model_id": "4e088fedfa114567bc84a4c49e1e976d",
       "version_major": 2,
       "version_minor": 0
      },
      "text/plain": [
       "One-hot encoding sequences:   0%|          | 0/1000 [00:00<?, ?it/s]"
      ]
     },
     "metadata": {},
     "output_type": "display_data"
    },
    {
     "name": "stdout",
     "output_type": "stream",
     "text": [
      "SeqData object modified:\n",
      "\tohe_seqs: None -> 1000 ohe_seqs added\n",
      "SeqData object modified:\n",
      "    seqs_annot:\n",
      "        + train_val\n"
     ]
    }
   ],
   "source": [
    "sdata = eu.datasets.random1000()\n",
    "eu.pp.ohe_seqs_sdata(sdata)\n",
    "eu.pp.train_test_split_sdata(sdata)"
   ]
  },
  {
   "cell_type": "code",
   "execution_count": 4,
   "id": "ec1aadf1-4742-4125-a935-06dd8fd9ec5f",
   "metadata": {
    "execution": {
     "iopub.execute_input": "2022-12-20T00:40:50.182097Z",
     "iopub.status.busy": "2022-12-20T00:40:50.181785Z",
     "iopub.status.idle": "2022-12-20T00:40:54.105550Z",
     "shell.execute_reply": "2022-12-20T00:40:54.105024Z",
     "shell.execute_reply.started": "2022-12-20T00:40:50.182079Z"
    },
    "tags": []
   },
   "outputs": [],
   "source": [
    "model = eu.models.DeepBind(input_len=100, output_dim=10)"
   ]
  },
  {
   "cell_type": "code",
   "execution_count": 5,
   "id": "85187103-67df-4913-ac7b-83997e8771d2",
   "metadata": {
    "execution": {
     "iopub.execute_input": "2022-12-20T00:40:54.106568Z",
     "iopub.status.busy": "2022-12-20T00:40:54.106418Z",
     "iopub.status.idle": "2022-12-20T00:40:58.134142Z",
     "shell.execute_reply": "2022-12-20T00:40:58.133654Z",
     "shell.execute_reply.started": "2022-12-20T00:40:54.106552Z"
    },
    "tags": []
   },
   "outputs": [
    {
     "data": {
      "text/plain": [
       "DeepBind(\n",
       "  (train_metric): R2Score()\n",
       "  (val_metric): R2Score()\n",
       "  (test_metric): R2Score()\n",
       "  (conv1d_tower): Conv1DTower(\n",
       "    (layers): Sequential(\n",
       "      (0): Conv1d(4, 16, kernel_size=(16,), stride=(1,), padding=valid)\n",
       "      (1): ReLU()\n",
       "      (2): Dropout(p=0.25, inplace=False)\n",
       "    )\n",
       "  )\n",
       "  (max_pool): MaxPool1d(kernel_size=85, stride=85, padding=0, dilation=1, ceil_mode=False)\n",
       "  (avg_pool): AvgPool1d(kernel_size=(85,), stride=(85,), padding=(0,))\n",
       "  (dense_block): DenseBlock(\n",
       "    (layers): Sequential(\n",
       "      (0): Linear(in_features=32, out_features=32, bias=True)\n",
       "      (1): ReLU()\n",
       "      (2): Dropout(p=0.25, inplace=False)\n",
       "      (3): Linear(in_features=32, out_features=10, bias=True)\n",
       "    )\n",
       "  )\n",
       ")"
      ]
     },
     "execution_count": 5,
     "metadata": {},
     "output_type": "execute_result"
    }
   ],
   "source": [
    "model"
   ]
  },
  {
   "cell_type": "code",
   "execution_count": 9,
   "id": "67c068a1-7a61-4cfc-99f3-38475ef3375d",
   "metadata": {
    "execution": {
     "iopub.execute_input": "2022-12-20T00:42:49.086633Z",
     "iopub.status.busy": "2022-12-20T00:42:49.086357Z",
     "iopub.status.idle": "2022-12-20T00:42:52.770870Z",
     "shell.execute_reply": "2022-12-20T00:42:52.770350Z",
     "shell.execute_reply.started": "2022-12-20T00:42:49.086616Z"
    },
    "tags": []
   },
   "outputs": [],
   "source": [
    "from torch.profiler import profile, record_function, ProfilerActivity"
   ]
  },
  {
   "cell_type": "code",
   "execution_count": 7,
   "id": "1241aacc-f88c-4b4c-b91e-c360792c5369",
   "metadata": {
    "execution": {
     "iopub.execute_input": "2022-12-20T00:41:37.541294Z",
     "iopub.status.busy": "2022-12-20T00:41:37.540875Z",
     "iopub.status.idle": "2022-12-20T00:41:41.498829Z",
     "shell.execute_reply": "2022-12-20T00:41:41.498339Z",
     "shell.execute_reply.started": "2022-12-20T00:41:37.541276Z"
    },
    "tags": []
   },
   "outputs": [
    {
     "name": "stdout",
     "output_type": "stream",
     "text": [
      "No transforms given, assuming just need to tensorize.\n"
     ]
    }
   ],
   "source": [
    "sdataset = sdata.to_dataset(target_keys=[f\"activity_{i}\" for i in range(10)])\n",
    "sdataloader = sdataset.to_dataloader(batch_size=32, shuffle=True, num_workers=2)"
   ]
  },
  {
   "cell_type": "code",
   "execution_count": null,
   "id": "c33001cf-64a3-4b23-bff5-54c9b29cd93b",
   "metadata": {},
   "outputs": [],
   "source": []
  },
  {
   "cell_type": "code",
   "execution_count": 8,
   "id": "a3289dd5-ec7f-4fa7-a108-258c533638ff",
   "metadata": {
    "execution": {
     "iopub.execute_input": "2022-12-20T00:41:43.992737Z",
     "iopub.status.busy": "2022-12-20T00:41:43.992370Z",
     "iopub.status.idle": "2022-12-20T00:41:47.916883Z",
     "shell.execute_reply": "2022-12-20T00:41:47.916269Z",
     "shell.execute_reply.started": "2022-12-20T00:41:43.992716Z"
    },
    "tags": []
   },
   "outputs": [
    {
     "ename": "ModuleNotFoundError",
     "evalue": "No module named 'pytorch_lightning.profilers'",
     "output_type": "error",
     "traceback": [
      "\u001b[0;31m---------------------------------------------------------------------------\u001b[0m",
      "\u001b[0;31mModuleNotFoundError\u001b[0m                       Traceback (most recent call last)",
      "\u001b[0;32m/tmp/ipykernel_3114122/2392512275.py\u001b[0m in \u001b[0;36m<module>\u001b[0;34m\u001b[0m\n\u001b[0;32m----> 1\u001b[0;31m \u001b[0;32mfrom\u001b[0m \u001b[0mpytorch_lightning\u001b[0m\u001b[0;34m.\u001b[0m\u001b[0mprofilers\u001b[0m \u001b[0;32mimport\u001b[0m \u001b[0mPyTorchProfiler\u001b[0m\u001b[0;34m\u001b[0m\u001b[0;34m\u001b[0m\u001b[0m\n\u001b[0m",
      "\u001b[0;31mModuleNotFoundError\u001b[0m: No module named 'pytorch_lightning.profilers'"
     ]
    }
   ],
   "source": [
    "from pytorch_lightning.profilers import PyTorchProfiler"
   ]
  },
  {
   "cell_type": "code",
   "execution_count": null,
   "id": "a2db68dc-b0d0-41ca-b585-5dc708a7b23c",
   "metadata": {
    "execution": {
     "iopub.status.busy": "2022-12-20T00:40:46.783436Z",
     "iopub.status.idle": "2022-12-20T00:40:46.783632Z",
     "shell.execute_reply": "2022-12-20T00:40:46.783539Z",
     "shell.execute_reply.started": "2022-12-20T00:40:46.783530Z"
    }
   },
   "outputs": [],
   "source": [
    "profiler = PyTorchProfiler()\n",
    "trainer = Trainer(profiler=profiler)"
   ]
  },
  {
   "cell_type": "code",
   "execution_count": 5,
   "id": "47587206",
   "metadata": {},
   "outputs": [],
   "source": []
  },
  {
   "cell_type": "code",
   "execution_count": 9,
   "id": "c2a13bef",
   "metadata": {},
   "outputs": [
    {
     "name": "stderr",
     "output_type": "stream",
     "text": [
      "Global seed set to 13\n",
      "GPU available: False, used: False\n",
      "TPU available: False, using: 0 TPU cores\n",
      "IPU available: False, using: 0 IPUs\n",
      "\n",
      "  | Name      | Type                      | Params\n",
      "--------------------------------------------------------\n",
      "0 | hp_metric | R2Score                   | 0     \n",
      "1 | convnet   | BasicConv1D               | 1.0 K \n",
      "2 | max_pool  | MaxPool1d                 | 0     \n",
      "3 | avg_pool  | AvgPool1d                 | 0     \n",
      "4 | fcn       | BasicFullyConnectedModule | 1.4 K \n",
      "--------------------------------------------------------\n",
      "2.4 K     Trainable params\n",
      "0         Non-trainable params\n",
      "2.4 K     Total params\n",
      "0.010     Total estimated model params size (MB)\n"
     ]
    },
    {
     "name": "stdout",
     "output_type": "stream",
     "text": [
      "Dropping 0 sequences with NaN targets.\n",
      "No transforms given, assuming just need to tensorize.\n",
      "No transforms given, assuming just need to tensorize.\n"
     ]
    },
    {
     "name": "stderr",
     "output_type": "stream",
     "text": [
      "/Users/adamklie/miniconda3/envs/eugene/lib/python3.7/site-packages/pytorch_lightning/callbacks/model_checkpoint.py:631: UserWarning: Checkpoint directory /Users/adamklie/Desktop/EUGENe/tests/_logs/test_fit/v0/checkpoints exists and is not empty.\n",
      "  rank_zero_warn(f\"Checkpoint directory {dirpath} exists and is not empty.\")\n"
     ]
    },
    {
     "data": {
      "application/vnd.jupyter.widget-view+json": {
       "model_id": "8f728cffdd474181bd4e85433cb85214",
       "version_major": 2,
       "version_minor": 0
      },
      "text/plain": [
       "Validation sanity check: 0it [00:00, ?it/s]"
      ]
     },
     "metadata": {},
     "output_type": "display_data"
    },
    {
     "name": "stderr",
     "output_type": "stream",
     "text": [
      "/Users/adamklie/miniconda3/envs/eugene/lib/python3.7/site-packages/pytorch_lightning/trainer/data_loading.py:133: UserWarning: The dataloader, val_dataloader 0, does not have many workers which may be a bottleneck. Consider increasing the value of the `num_workers` argument` (try 4 which is the number of cpus on this machine) in the `DataLoader` init to improve performance.\n",
      "  f\"The dataloader, {name}, does not have many workers which may be a bottleneck.\"\n",
      "Global seed set to 13\n",
      "/Users/adamklie/miniconda3/envs/eugene/lib/python3.7/site-packages/pytorch_lightning/trainer/data_loading.py:133: UserWarning: The dataloader, train_dataloader, does not have many workers which may be a bottleneck. Consider increasing the value of the `num_workers` argument` (try 4 which is the number of cpus on this machine) in the `DataLoader` init to improve performance.\n",
      "  f\"The dataloader, {name}, does not have many workers which may be a bottleneck.\"\n",
      "/Users/adamklie/miniconda3/envs/eugene/lib/python3.7/site-packages/pytorch_lightning/trainer/data_loading.py:433: UserWarning: The number of training samples (7) is smaller than the logging interval Trainer(log_every_n_steps=50). Set a lower value for log_every_n_steps if you want to see logs for the training epoch.\n",
      "  f\"The number of training samples ({self.num_training_batches}) is smaller than the logging interval\"\n"
     ]
    },
    {
     "data": {
      "application/vnd.jupyter.widget-view+json": {
       "model_id": "6ae24811761a4c89a1376820040cbd62",
       "version_major": 2,
       "version_minor": 0
      },
      "text/plain": [
       "Training: 0it [00:00, ?it/s]"
      ]
     },
     "metadata": {},
     "output_type": "display_data"
    },
    {
     "data": {
      "application/vnd.jupyter.widget-view+json": {
       "model_id": "ac41c604a55642c5a4bb2012d52d00f4",
       "version_major": 2,
       "version_minor": 0
      },
      "text/plain": [
       "Validating: 0it [00:00, ?it/s]"
      ]
     },
     "metadata": {},
     "output_type": "display_data"
    }
   ],
   "source": [
    "def test_fit(sdata, model):\n",
    "    eu.settings.logging_dir = \"../../_logs/\"\n",
    "    eu.train.fit(model, sdata, target_keys=[f\"activity_{i}\" for i in range(10)], epochs=1, name=\"test_fit\", version=\"v0\")\n",
    "    assert os.path.exists(f\"{eu.settings.logging_dir}/test_fit/v0/checkpoints/\")\n",
    "test_fit(sdata, model)"
   ]
  },
  {
   "cell_type": "markdown",
   "id": "24527bb0",
   "metadata": {},
   "source": [
    "---"
   ]
  }
 ],
 "metadata": {
  "kernelspec": {
   "display_name": "Python 3.7 eugene_dev",
   "language": "python",
   "name": "eugene_dev"
  },
  "language_info": {
   "codemirror_mode": {
    "name": "ipython",
    "version": 3
   },
   "file_extension": ".py",
   "mimetype": "text/x-python",
   "name": "python",
   "nbconvert_exporter": "python",
   "pygments_lexer": "ipython3",
   "version": "3.7.12"
  },
  "vscode": {
   "interpreter": {
    "hash": "7782186cff5d7e5d5e3fe0a7e6ebf1d74655b3470c460e9b06cf809b4e9601e8"
   }
  }
 },
 "nbformat": 4,
 "nbformat_minor": 5
}

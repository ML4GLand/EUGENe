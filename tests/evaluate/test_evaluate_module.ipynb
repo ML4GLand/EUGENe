{
 "cells": [
  {
   "cell_type": "markdown",
   "id": "47cc2c48",
   "metadata": {},
   "source": [
    "# Testing the `evaluate` module"
   ]
  },
  {
   "cell_type": "markdown",
   "id": "3b1880c3",
   "metadata": {
    "tags": []
   },
   "source": [
    "**Authorship:**\n",
    "Adam Klie, *07/12/2022*<br>\n",
    "**Last Updated:** *10/07/2022*\n",
    "***\n",
    "**Description:**\n",
    "Notebook for testing out the `evaluate` module."
   ]
  },
  {
   "cell_type": "code",
   "execution_count": 2,
   "id": "1dd9ef33",
   "metadata": {
    "execution": {
     "iopub.execute_input": "2022-10-05T15:32:56.949388Z",
     "iopub.status.busy": "2022-10-05T15:32:56.949076Z",
     "iopub.status.idle": "2022-10-05T15:32:59.709402Z",
     "shell.execute_reply": "2022-10-05T15:32:59.708801Z",
     "shell.execute_reply.started": "2022-10-05T15:32:56.949331Z"
    },
    "tags": []
   },
   "outputs": [
    {
     "name": "stderr",
     "output_type": "stream",
     "text": [
      "Global seed set to 13\n",
      "2022-10-07 10:43:20.346817: I tensorflow/core/platform/cpu_feature_guard.cc:193] This TensorFlow binary is optimized with oneAPI Deep Neural Network Library (oneDNN) to use the following CPU instructions in performance-critical operations:  AVX2 FMA\n",
      "To enable them in other operations, rebuild TensorFlow with the appropriate compiler flags.\n",
      "Fontconfig warning: ignoring UTF-8: not a valid region tag\n"
     ]
    }
   ],
   "source": [
    "if 'autoreload' not in get_ipython().extension_manager.loaded:\n",
    "    %load_ext autoreload\n",
    "%autoreload 2\n",
    "\n",
    "import os\n",
    "import torch\n",
    "import numpy as np\n",
    "import pandas as pd\n",
    "import eugene as eu\n",
    "import matplotlib.pyplot as plt"
   ]
  },
  {
   "cell_type": "code",
   "execution_count": 3,
   "id": "6bda1473",
   "metadata": {},
   "outputs": [
    {
     "data": {
      "application/vnd.jupyter.widget-view+json": {
       "model_id": "7185ffd4477741c190679bc02ac28b5d",
       "version_major": 2,
       "version_minor": 0
      },
      "text/plain": [
       "One-hot encoding sequences:   0%|          | 0/1000 [00:00<?, ?it/s]"
      ]
     },
     "metadata": {},
     "output_type": "display_data"
    },
    {
     "name": "stdout",
     "output_type": "stream",
     "text": [
      "SeqData object modified:\n",
      "\tohe_seqs: None -> 1000 ohe_seqs added\n",
      "SeqData object modified:\n",
      "\tohe_rev_seqs: None -> 1000 ohe_rev_seqs added\n",
      "SeqData object modified:\n",
      "    seqs_annot:\n",
      "        + train_val\n"
     ]
    }
   ],
   "source": [
    "sdata = eu.datasets.random1000()\n",
    "eu.pp.ohe_seqs_sdata(sdata)\n",
    "eu.pp.reverse_complement_seqs_sdata(sdata)\n",
    "eu.pp.train_test_split_sdata(sdata)"
   ]
  },
  {
   "cell_type": "code",
   "execution_count": 4,
   "id": "875d9a7d",
   "metadata": {},
   "outputs": [],
   "source": [
    "model = eu.models.DeepBind(input_len=66, output_dim=1)"
   ]
  },
  {
   "cell_type": "code",
   "execution_count": 6,
   "id": "3414631a",
   "metadata": {},
   "outputs": [
    {
     "name": "stderr",
     "output_type": "stream",
     "text": [
      "GPU available: False, used: False\n",
      "TPU available: False, using: 0 TPU cores\n",
      "IPU available: False, using: 0 IPUs\n"
     ]
    },
    {
     "name": "stdout",
     "output_type": "stream",
     "text": [
      "No transforms given, assuming just need to tensorize.\n"
     ]
    },
    {
     "name": "stderr",
     "output_type": "stream",
     "text": [
      "/Users/adamklie/miniconda3/envs/eugene/lib/python3.7/site-packages/pytorch_lightning/trainer/data_loading.py:133: UserWarning: The dataloader, predict_dataloader 0, does not have many workers which may be a bottleneck. Consider increasing the value of the `num_workers` argument` (try 4 which is the number of cpus on this machine) in the `DataLoader` init to improve performance.\n",
      "  f\"The dataloader, {name}, does not have many workers which may be a bottleneck.\"\n"
     ]
    },
    {
     "data": {
      "application/vnd.jupyter.widget-view+json": {
       "model_id": "8f8023c2f24a4ba683b28144ff0eb58b",
       "version_major": 2,
       "version_minor": 0
      },
      "text/plain": [
       "Predicting: 0it [00:00, ?it/s]"
      ]
     },
     "metadata": {},
     "output_type": "display_data"
    }
   ],
   "source": [
    "def test_predictions(sdata, model):\n",
    "    eu.evaluate.predictions(\n",
    "        model,\n",
    "        sdata,\n",
    "        target_keys=\"activity_0\",\n",
    "        out_dir=f\"../../_output\",\n",
    "        file_label=\"test\",\n",
    "    )\n",
    "    saved_t = pd.read_csv(\n",
    "        f\"../../_output/ssDeepBind_regression/test_predictions.tsv\", index_col=0, sep=\"\\t\"\n",
    "    )\n",
    "    assert np.allclose(\n",
    "        saved_t[\"predictions_0\"].values,\n",
    "        sdata.seqs_annot.loc[saved_t.index][\"activity_0_predictions\"].values,\n",
    "    )\n",
    "test_predictions(sdata, model)"
   ]
  },
  {
   "cell_type": "code",
   "execution_count": 9,
   "id": "51e319b5",
   "metadata": {},
   "outputs": [
    {
     "name": "stderr",
     "output_type": "stream",
     "text": [
      "GPU available: False, used: False\n",
      "TPU available: False, using: 0 TPU cores\n",
      "IPU available: False, using: 0 IPUs\n",
      "GPU available: False, used: False\n",
      "TPU available: False, using: 0 TPU cores\n",
      "IPU available: False, using: 0 IPUs\n"
     ]
    },
    {
     "name": "stdout",
     "output_type": "stream",
     "text": [
      "No transforms given, assuming just need to tensorize.\n",
      "No transforms given, assuming just need to tensorize.\n"
     ]
    },
    {
     "data": {
      "application/vnd.jupyter.widget-view+json": {
       "model_id": "38259ce23325489d97dae8e45cc1ffdd",
       "version_major": 2,
       "version_minor": 0
      },
      "text/plain": [
       "Predicting: 0it [00:00, ?it/s]"
      ]
     },
     "metadata": {},
     "output_type": "display_data"
    },
    {
     "data": {
      "application/vnd.jupyter.widget-view+json": {
       "model_id": "dfedab53a7fd42158fc5e2f2fc3317d0",
       "version_major": 2,
       "version_minor": 0
      },
      "text/plain": [
       "Predicting: 0it [00:00, ?it/s]"
      ]
     },
     "metadata": {},
     "output_type": "display_data"
    }
   ],
   "source": [
    "def test_train_val_predictions(sdata, model):\n",
    "    eu.evaluate.train_val_predictions(\n",
    "        model, sdata=sdata, target_keys=\"activity_0\", train_key=\"train_val\", out_dir=\"../../_output/\"\n",
    "    )\n",
    "    saved_t = pd.read_csv(\"../../_output/ssDeepBind_regression/train_predictions.tsv\", index_col=0, sep=\"\\t\")\n",
    "    assert np.allclose(\n",
    "        saved_t[\"predictions_0\"].values,\n",
    "        sdata.seqs_annot.loc[saved_t.index][\"activity_0_predictions\"].values,\n",
    "    )\n",
    "    saved_v = pd.read_csv(\"../../_output/ssDeepBind_regression/val_predictions.tsv\", index_col=0, sep=\"\\t\")\n",
    "    assert np.allclose(\n",
    "        saved_v[\"predictions_0\"].values,\n",
    "        sdata.seqs_annot.loc[saved_v.index][\"activity_0_predictions\"].values,\n",
    "    )\n",
    "test_train_val_predictions(sdata, model)"
   ]
  },
  {
   "cell_type": "markdown",
   "id": "25d1b265",
   "metadata": {},
   "source": [
    "---"
   ]
  }
 ],
 "metadata": {
  "kernelspec": {
   "display_name": "Python 3.7.12 ('eugene')",
   "language": "python",
   "name": "python3"
  },
  "language_info": {
   "codemirror_mode": {
    "name": "ipython",
    "version": 3
   },
   "file_extension": ".py",
   "mimetype": "text/x-python",
   "name": "python",
   "nbconvert_exporter": "python",
   "pygments_lexer": "ipython3",
   "version": "3.7.12"
  },
  "vscode": {
   "interpreter": {
    "hash": "7782186cff5d7e5d5e3fe0a7e6ebf1d74655b3470c460e9b06cf809b4e9601e8"
   }
  }
 },
 "nbformat": 4,
 "nbformat_minor": 5
}

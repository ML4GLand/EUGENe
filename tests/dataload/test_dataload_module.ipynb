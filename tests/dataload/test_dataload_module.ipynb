{
 "cells": [
  {
   "cell_type": "markdown",
   "id": "c3daa03e",
   "metadata": {},
   "source": [
    "# Testing the `dataload` module"
   ]
  },
  {
   "cell_type": "markdown",
   "id": "91689580",
   "metadata": {
    "tags": []
   },
   "source": [
    "**Authorship:**\n",
    "Adam Klie, *03/02/2022*\n",
    "***\n",
    "**Description:**\n",
    "Notebook for testing out the `dataload` module."
   ]
  },
  {
   "cell_type": "code",
   "execution_count": 1,
   "id": "92833b89",
   "metadata": {
    "execution": {
     "iopub.execute_input": "2022-10-04T16:13:16.224709Z",
     "iopub.status.busy": "2022-10-04T16:13:16.224453Z",
     "iopub.status.idle": "2022-10-04T16:13:19.769091Z",
     "shell.execute_reply": "2022-10-04T16:13:19.768580Z",
     "shell.execute_reply.started": "2022-10-04T16:13:16.224691Z"
    },
    "tags": []
   },
   "outputs": [
    {
     "name": "stderr",
     "output_type": "stream",
     "text": [
      "Global seed set to 13\n",
      "2022-10-10 22:24:27.311758: I tensorflow/core/platform/cpu_feature_guard.cc:193] This TensorFlow binary is optimized with oneAPI Deep Neural Network Library (oneDNN) to use the following CPU instructions in performance-critical operations:  AVX2 AVX512F FMA\n",
      "To enable them in other operations, rebuild TensorFlow with the appropriate compiler flags.\n",
      "2022-10-10 22:24:27.456651: W tensorflow/stream_executor/platform/default/dso_loader.cc:64] Could not load dynamic library 'libcudart.so.11.0'; dlerror: libcudart.so.11.0: cannot open shared object file: No such file or directory\n",
      "2022-10-10 22:24:27.456688: I tensorflow/stream_executor/cuda/cudart_stub.cc:29] Ignore above cudart dlerror if you do not have a GPU set up on your machine.\n",
      "2022-10-10 22:24:27.489102: E tensorflow/stream_executor/cuda/cuda_blas.cc:2981] Unable to register cuBLAS factory: Attempting to register factory for plugin cuBLAS when one has already been registered\n",
      "2022-10-10 22:24:28.143177: W tensorflow/stream_executor/platform/default/dso_loader.cc:64] Could not load dynamic library 'libnvinfer.so.7'; dlerror: libnvinfer.so.7: cannot open shared object file: No such file or directory\n",
      "2022-10-10 22:24:28.143298: W tensorflow/stream_executor/platform/default/dso_loader.cc:64] Could not load dynamic library 'libnvinfer_plugin.so.7'; dlerror: libnvinfer_plugin.so.7: cannot open shared object file: No such file or directory\n",
      "2022-10-10 22:24:28.143310: W tensorflow/compiler/tf2tensorrt/utils/py_utils.cc:38] TF-TRT Warning: Cannot dlopen some TensorRT libraries. If you would like to use Nvidia GPU with TensorRT, please make sure the missing libraries mentioned above are installed properly.\n"
     ]
    }
   ],
   "source": [
    "if 'autoreload' not in get_ipython().extension_manager.loaded:\n",
    "    %load_ext autoreload\n",
    "%autoreload 2\n",
    "\n",
    "import os\n",
    "import torch\n",
    "import numpy as np\n",
    "import pandas as pd\n",
    "import eugene as eu"
   ]
  },
  {
   "cell_type": "markdown",
   "id": "48ba8e8e",
   "metadata": {},
   "source": [
    "# IO"
   ]
  },
  {
   "cell_type": "markdown",
   "id": "1c622062",
   "metadata": {
    "tags": []
   },
   "source": [
    "## Built-in io"
   ]
  },
  {
   "cell_type": "code",
   "execution_count": null,
   "id": "8088c5fa",
   "metadata": {
    "execution": {
     "iopub.execute_input": "2022-10-04T16:07:43.982736Z",
     "iopub.status.busy": "2022-10-04T16:07:43.982533Z",
     "iopub.status.idle": "2022-10-04T16:07:47.809704Z",
     "shell.execute_reply": "2022-10-04T16:07:47.809022Z",
     "shell.execute_reply.started": "2022-10-04T16:07:43.982719Z"
    },
    "tags": []
   },
   "outputs": [],
   "source": [
    "eu.logging.dataset_dir = \"../../../eugene/datasets/random1000\"\n",
    "from eugene.dataload import SeqData"
   ]
  },
  {
   "cell_type": "code",
   "execution_count": null,
   "id": "78342278",
   "metadata": {
    "execution": {
     "iopub.execute_input": "2022-10-03T17:33:10.460299Z",
     "iopub.status.busy": "2022-10-03T17:33:10.460127Z",
     "iopub.status.idle": "2022-10-03T17:33:13.070460Z",
     "shell.execute_reply": "2022-10-03T17:33:13.069884Z",
     "shell.execute_reply.started": "2022-10-03T17:33:10.460282Z"
    }
   },
   "outputs": [],
   "source": [
    "def check_random1000_load(sdata, has_target=False):\n",
    "    assert isinstance(sdata, SeqData)\n",
    "    assert sdata.n_obs == 1000\n",
    "    assert sdata.names[-1] == \"seq999\"\n",
    "    if has_target:\n",
    "        assert sdata.seqs_annot.iloc[:, -1][0] is not np.nan"
   ]
  },
  {
   "cell_type": "code",
   "execution_count": 128,
   "id": "8cd40144",
   "metadata": {
    "execution": {
     "iopub.execute_input": "2022-10-04T16:09:24.581433Z",
     "iopub.status.busy": "2022-10-04T16:09:24.581201Z",
     "iopub.status.idle": "2022-10-04T16:09:27.931187Z",
     "shell.execute_reply": "2022-10-04T16:09:27.929683Z",
     "shell.execute_reply.started": "2022-10-04T16:09:24.581416Z"
    },
    "tags": []
   },
   "outputs": [
    {
     "ename": "NameError",
     "evalue": "name 'check_random1000_load' is not defined",
     "output_type": "error",
     "traceback": [
      "\u001b[0;31m---------------------------------------------------------------------------\u001b[0m",
      "\u001b[0;31mNameError\u001b[0m                                 Traceback (most recent call last)",
      "\u001b[0;32m/tmp/ipykernel_3316108/2524458929.py\u001b[0m in \u001b[0;36m<module>\u001b[0;34m\u001b[0m\n\u001b[1;32m      2\u001b[0m     \u001b[0msdata\u001b[0m \u001b[0;34m=\u001b[0m \u001b[0meu\u001b[0m\u001b[0;34m.\u001b[0m\u001b[0mdl\u001b[0m\u001b[0;34m.\u001b[0m\u001b[0mread\u001b[0m\u001b[0;34m(\u001b[0m\u001b[0mos\u001b[0m\u001b[0;34m.\u001b[0m\u001b[0mpath\u001b[0m\u001b[0;34m.\u001b[0m\u001b[0mjoin\u001b[0m\u001b[0;34m(\u001b[0m\u001b[0meu\u001b[0m\u001b[0;34m.\u001b[0m\u001b[0mlogging\u001b[0m\u001b[0;34m.\u001b[0m\u001b[0mdataset_dir\u001b[0m\u001b[0;34m,\u001b[0m \u001b[0;34m\"random1000_seqs.tsv\"\u001b[0m\u001b[0;34m)\u001b[0m\u001b[0;34m)\u001b[0m\u001b[0;34m\u001b[0m\u001b[0;34m\u001b[0m\u001b[0m\n\u001b[1;32m      3\u001b[0m     \u001b[0mcheck_random1000_load\u001b[0m\u001b[0;34m(\u001b[0m\u001b[0msdata\u001b[0m\u001b[0;34m)\u001b[0m\u001b[0;34m\u001b[0m\u001b[0;34m\u001b[0m\u001b[0m\n\u001b[0;32m----> 4\u001b[0;31m \u001b[0mtest_read\u001b[0m\u001b[0;34m(\u001b[0m\u001b[0;34m)\u001b[0m\u001b[0;34m\u001b[0m\u001b[0;34m\u001b[0m\u001b[0m\n\u001b[0m",
      "\u001b[0;32m/tmp/ipykernel_3316108/2524458929.py\u001b[0m in \u001b[0;36mtest_read\u001b[0;34m()\u001b[0m\n\u001b[1;32m      1\u001b[0m \u001b[0;32mdef\u001b[0m \u001b[0mtest_read\u001b[0m\u001b[0;34m(\u001b[0m\u001b[0;34m)\u001b[0m\u001b[0;34m:\u001b[0m\u001b[0;34m\u001b[0m\u001b[0;34m\u001b[0m\u001b[0m\n\u001b[1;32m      2\u001b[0m     \u001b[0msdata\u001b[0m \u001b[0;34m=\u001b[0m \u001b[0meu\u001b[0m\u001b[0;34m.\u001b[0m\u001b[0mdl\u001b[0m\u001b[0;34m.\u001b[0m\u001b[0mread\u001b[0m\u001b[0;34m(\u001b[0m\u001b[0mos\u001b[0m\u001b[0;34m.\u001b[0m\u001b[0mpath\u001b[0m\u001b[0;34m.\u001b[0m\u001b[0mjoin\u001b[0m\u001b[0;34m(\u001b[0m\u001b[0meu\u001b[0m\u001b[0;34m.\u001b[0m\u001b[0mlogging\u001b[0m\u001b[0;34m.\u001b[0m\u001b[0mdataset_dir\u001b[0m\u001b[0;34m,\u001b[0m \u001b[0;34m\"random1000_seqs.tsv\"\u001b[0m\u001b[0;34m)\u001b[0m\u001b[0;34m)\u001b[0m\u001b[0;34m\u001b[0m\u001b[0;34m\u001b[0m\u001b[0m\n\u001b[0;32m----> 3\u001b[0;31m     \u001b[0mcheck_random1000_load\u001b[0m\u001b[0;34m(\u001b[0m\u001b[0msdata\u001b[0m\u001b[0;34m)\u001b[0m\u001b[0;34m\u001b[0m\u001b[0;34m\u001b[0m\u001b[0m\n\u001b[0m\u001b[1;32m      4\u001b[0m \u001b[0mtest_read\u001b[0m\u001b[0;34m(\u001b[0m\u001b[0;34m)\u001b[0m\u001b[0;34m\u001b[0m\u001b[0;34m\u001b[0m\u001b[0m\n",
      "\u001b[0;31mNameError\u001b[0m: name 'check_random1000_load' is not defined"
     ]
    }
   ],
   "source": [
    "def test_read():\n",
    "    sdata = eu.dl.read(os.path.join(eu.logging.dataset_dir, \"random1000_seqs.tsv\"))\n",
    "    check_random1000_load(sdata)\n",
    "test_read()"
   ]
  },
  {
   "cell_type": "code",
   "execution_count": null,
   "id": "e46110ed",
   "metadata": {
    "execution": {
     "iopub.status.busy": "2022-10-04T16:09:27.931715Z",
     "iopub.status.idle": "2022-10-04T16:09:27.931930Z",
     "shell.execute_reply": "2022-10-04T16:09:27.931824Z",
     "shell.execute_reply.started": "2022-10-04T16:09:27.931814Z"
    },
    "tags": []
   },
   "outputs": [],
   "source": [
    "def test_read_csv():\n",
    "    sdata = eu.dl.read_csv(\n",
    "        filename=os.path.join(eu.logging.dataset_dir, \"random1000_seqs.tsv\"),\n",
    "        seq_col=\"seq\",\n",
    "        name_col=\"name\",\n",
    "        target_col=\"activity_0\",\n",
    "        rev_comp=False,\n",
    "        sep=\"\\t\",\n",
    "        low_memory=False,\n",
    "        return_numpy=False,\n",
    "        return_dataframe=False,\n",
    "        col_names=None,\n",
    "        auto_name=False,\n",
    "        compression=\"infer\"\n",
    "    )\n",
    "    check_random1000_load(sdata, has_target=True)\n",
    "test_read_csv()"
   ]
  },
  {
   "cell_type": "code",
   "execution_count": null,
   "id": "7e14ee59",
   "metadata": {
    "execution": {
     "iopub.status.busy": "2022-10-04T16:09:27.934000Z",
     "iopub.status.idle": "2022-10-04T16:09:27.934221Z",
     "shell.execute_reply": "2022-10-04T16:09:27.934114Z",
     "shell.execute_reply.started": "2022-10-04T16:09:27.934104Z"
    },
    "tags": []
   },
   "outputs": [],
   "source": [
    "def test_read_fasta():\n",
    "    sdata = eu.dl.read_fasta(\n",
    "        seq_file=os.path.join(eu.logging.dataset_dir, \"random1000_seqs.fa\"),\n",
    "        target_file=os.path.join(eu.logging.dataset_dir, \"random1000_activities.npy\"),\n",
    "        rev_comp=False,\n",
    "        is_target_text=False,\n",
    "        return_numpy=False\n",
    "    )\n",
    "    check_random1000_load(sdata, has_target=True)\n",
    "test_read_fasta()"
   ]
  },
  {
   "cell_type": "code",
   "execution_count": null,
   "id": "e2f66707",
   "metadata": {
    "execution": {
     "iopub.status.busy": "2022-10-04T16:09:27.936097Z",
     "iopub.status.idle": "2022-10-04T16:09:27.937239Z",
     "shell.execute_reply": "2022-10-04T16:09:27.937122Z",
     "shell.execute_reply.started": "2022-10-04T16:09:27.937105Z"
    },
    "tags": []
   },
   "outputs": [],
   "source": [
    "def test_read_numpy()\n",
    "    sdata = eu.dl.read_numpy(\n",
    "            seq_file=os.path.join(eu.logging.dataset_dir, \"random1000_seqs.npy\"),\n",
    "            names_file=os.path.join(eu.logging.dataset_dir, \"random1000_ids.npy\"),\n",
    "            target_file=os.path.join(eu.logging.dataset_dir, \"random1000_activities.npy\"),\n",
    "            rev_seq_file=os.path.join(eu.logging.dataset_dir, \"random1000_rev_seqs.npy\"),\n",
    "            is_names_text=False,\n",
    "            is_target_text=False,\n",
    "            delim=\"\\n\",\n",
    "            ohe=False,\n",
    "            return_numpy=False\n",
    "        )\n",
    "    check_random1000_load(sdata, has_target=True)\n",
    "test_read_numpy()"
   ]
  },
  {
   "cell_type": "markdown",
   "id": "ec768113",
   "metadata": {
    "tags": []
   },
   "source": [
    "## Janggu wrapped io"
   ]
  },
  {
   "cell_type": "code",
   "execution_count": 2,
   "id": "0f76b58c-879e-4163-a8be-fd5c513a787f",
   "metadata": {
    "execution": {
     "iopub.execute_input": "2022-10-04T16:10:37.370925Z",
     "iopub.status.busy": "2022-10-04T16:10:37.370613Z",
     "iopub.status.idle": "2022-10-04T16:11:07.860124Z",
     "shell.execute_reply": "2022-10-04T16:11:07.859548Z",
     "shell.execute_reply.started": "2022-10-04T16:10:37.370906Z"
    },
    "tags": []
   },
   "outputs": [
    {
     "name": "stdout",
     "output_type": "stream",
     "text": [
      "Janggu datasets for deep learning in genomics.\n"
     ]
    }
   ],
   "source": [
    "eu.settings.dataset_dir = \"../../../eugene/datasets/janggu_resources\"\n",
    "ref_file = \"sample_genome.fa\"\n",
    "roi_file = \"sample.bed\"\n",
    "bed_file = \"scored_sample.bed\"\n",
    "bam_file = \"sample2.bam\"\n",
    "bw_file = \"sample.bw\"    \n",
    "from eugene.external.janggu.data import Bioseq, Cover \n",
    "def check_janggu_load(sdata, has_target=False):\n",
    "    assert isinstance(sdata, SeqData)\n",
    "    assert sdata.n_obs == 100\n",
    "    assert \"chr2\" in sdata.names[-1]\n",
    "    if has_target:\n",
    "        assert sdata.seqs_annot.iloc[:, -1][0] is not np.nan"
   ]
  },
  {
   "cell_type": "code",
   "execution_count": 3,
   "id": "63de273a",
   "metadata": {
    "execution": {
     "iopub.execute_input": "2022-10-04T16:12:27.172105Z",
     "iopub.status.busy": "2022-10-04T16:12:27.171856Z",
     "iopub.status.idle": "2022-10-04T16:12:31.783379Z",
     "shell.execute_reply": "2022-10-04T16:12:31.782812Z",
     "shell.execute_reply.started": "2022-10-04T16:12:27.172087Z"
    },
    "tags": []
   },
   "outputs": [
    {
     "ename": "NotImplementedError",
     "evalue": "\"intersectBed\" does not appear to be installed or on the path, so this method is disabled.  Please install a more recent version of BEDTools and re-import to use this method.",
     "output_type": "error",
     "traceback": [
      "\u001b[0;31m---------------------------------------------------------------------------\u001b[0m",
      "\u001b[0;31mNotImplementedError\u001b[0m                       Traceback (most recent call last)",
      "\u001b[0;32m/tmp/ipykernel_4525/4038324076.py\u001b[0m in \u001b[0;36m<module>\u001b[0;34m\u001b[0m\n\u001b[1;32m     11\u001b[0m     )\n\u001b[1;32m     12\u001b[0m     \u001b[0mcheck_janggu_load\u001b[0m\u001b[0;34m(\u001b[0m\u001b[0msdata\u001b[0m\u001b[0;34m,\u001b[0m \u001b[0mhas_target\u001b[0m\u001b[0;34m=\u001b[0m\u001b[0;32mTrue\u001b[0m\u001b[0;34m)\u001b[0m\u001b[0;34m\u001b[0m\u001b[0;34m\u001b[0m\u001b[0m\n\u001b[0;32m---> 13\u001b[0;31m \u001b[0mtest_read_bed\u001b[0m\u001b[0;34m(\u001b[0m\u001b[0;34m)\u001b[0m\u001b[0;34m\u001b[0m\u001b[0;34m\u001b[0m\u001b[0m\n\u001b[0m",
      "\u001b[0;32m/tmp/ipykernel_4525/4038324076.py\u001b[0m in \u001b[0;36mtest_read_bed\u001b[0;34m()\u001b[0m\n\u001b[1;32m      8\u001b[0m         \u001b[0mdnaflank\u001b[0m\u001b[0;34m=\u001b[0m\u001b[0;36m50\u001b[0m\u001b[0;34m,\u001b[0m\u001b[0;34m\u001b[0m\u001b[0;34m\u001b[0m\u001b[0m\n\u001b[1;32m      9\u001b[0m         \u001b[0madd_seqs\u001b[0m\u001b[0;34m=\u001b[0m\u001b[0;32mTrue\u001b[0m\u001b[0;34m,\u001b[0m\u001b[0;34m\u001b[0m\u001b[0;34m\u001b[0m\u001b[0m\n\u001b[0;32m---> 10\u001b[0;31m         \u001b[0mreturn_janggu\u001b[0m\u001b[0;34m=\u001b[0m\u001b[0;32mFalse\u001b[0m\u001b[0;34m\u001b[0m\u001b[0;34m\u001b[0m\u001b[0m\n\u001b[0m\u001b[1;32m     11\u001b[0m     )\n\u001b[1;32m     12\u001b[0m     \u001b[0mcheck_janggu_load\u001b[0m\u001b[0;34m(\u001b[0m\u001b[0msdata\u001b[0m\u001b[0;34m,\u001b[0m \u001b[0mhas_target\u001b[0m\u001b[0;34m=\u001b[0m\u001b[0;32mTrue\u001b[0m\u001b[0;34m)\u001b[0m\u001b[0;34m\u001b[0m\u001b[0;34m\u001b[0m\u001b[0m\n",
      "\u001b[0;32m/workspaces/EUGENe/eugene/dataload/_io.py\u001b[0m in \u001b[0;36mread_bed\u001b[0;34m(bed_file, roi_file, ref_file, dnaflank, resolution, collapser, add_seqs, return_janggu, **kwargs)\u001b[0m\n\u001b[1;32m    415\u001b[0m         \u001b[0mresolution\u001b[0m\u001b[0;34m=\u001b[0m\u001b[0mresolution\u001b[0m\u001b[0;34m,\u001b[0m\u001b[0;34m\u001b[0m\u001b[0;34m\u001b[0m\u001b[0m\n\u001b[1;32m    416\u001b[0m         \u001b[0mcollapser\u001b[0m\u001b[0;34m=\u001b[0m\u001b[0mcollapser\u001b[0m\u001b[0;34m,\u001b[0m\u001b[0;34m\u001b[0m\u001b[0;34m\u001b[0m\u001b[0m\n\u001b[0;32m--> 417\u001b[0;31m         \u001b[0;34m**\u001b[0m\u001b[0mkwargs\u001b[0m\u001b[0;34m,\u001b[0m\u001b[0;34m\u001b[0m\u001b[0;34m\u001b[0m\u001b[0m\n\u001b[0m\u001b[1;32m    418\u001b[0m     )\n\u001b[1;32m    419\u001b[0m     \u001b[0;32mif\u001b[0m \u001b[0mreturn_janggu\u001b[0m\u001b[0;34m:\u001b[0m\u001b[0;34m\u001b[0m\u001b[0;34m\u001b[0m\u001b[0m\n",
      "\u001b[0;32m/workspaces/EUGENe/eugene/external/janggu/data/coverage.py\u001b[0m in \u001b[0;36mcreate_from_bed\u001b[0;34m(cls, name, bedfiles, roi, genomesize, conditions, binsize, stepsize, resolution, flank, storage, dtype, mode, store_whole_genome, overwrite, zero_padding, normalizer, collapser, minoverlap, random_state, datatags, cache, verbose)\u001b[0m\n\u001b[1;32m   1161\u001b[0m                                      \u001b[0mcollapser\u001b[0m\u001b[0;34m=\u001b[0m\u001b[0mcollapser_\u001b[0m\u001b[0;34m,\u001b[0m\u001b[0;34m\u001b[0m\u001b[0;34m\u001b[0m\u001b[0m\n\u001b[1;32m   1162\u001b[0m                                      \u001b[0mnormalizer\u001b[0m\u001b[0;34m=\u001b[0m\u001b[0mnormalizer\u001b[0m\u001b[0;34m,\u001b[0m\u001b[0;34m\u001b[0m\u001b[0;34m\u001b[0m\u001b[0m\n\u001b[0;32m-> 1163\u001b[0;31m                                      verbose=verbose)\n\u001b[0m\u001b[1;32m   1164\u001b[0m \u001b[0;34m\u001b[0m\u001b[0m\n\u001b[1;32m   1165\u001b[0m         \u001b[0;32mreturn\u001b[0m \u001b[0mcls\u001b[0m\u001b[0;34m(\u001b[0m\u001b[0mname\u001b[0m\u001b[0;34m,\u001b[0m \u001b[0mcover\u001b[0m\u001b[0;34m,\u001b[0m \u001b[0mgindexer\u001b[0m\u001b[0;34m)\u001b[0m\u001b[0;34m\u001b[0m\u001b[0;34m\u001b[0m\u001b[0m\n",
      "\u001b[0;32m/workspaces/EUGENe/eugene/external/janggu/data/genomicarray.py\u001b[0m in \u001b[0;36mcreate_genomic_array\u001b[0;34m(chroms, stranded, conditions, typecode, storage, resolution, order, padding_value, store_whole_genome, datatags, cache, overwrite, loader, normalizer, collapser, verbose)\u001b[0m\n\u001b[1;32m   1189\u001b[0m                               \u001b[0mnormalizer\u001b[0m\u001b[0;34m=\u001b[0m\u001b[0mnormalizer\u001b[0m\u001b[0;34m,\u001b[0m\u001b[0;34m\u001b[0m\u001b[0;34m\u001b[0m\u001b[0m\n\u001b[1;32m   1190\u001b[0m                               \u001b[0mcollapser\u001b[0m\u001b[0;34m=\u001b[0m\u001b[0mget_collapser\u001b[0m\u001b[0;34m(\u001b[0m\u001b[0mcollapser\u001b[0m\u001b[0;34m)\u001b[0m\u001b[0;34m,\u001b[0m\u001b[0;34m\u001b[0m\u001b[0;34m\u001b[0m\u001b[0m\n\u001b[0;32m-> 1191\u001b[0;31m                               verbose=verbose)\n\u001b[0m\u001b[1;32m   1192\u001b[0m     \u001b[0;32melif\u001b[0m \u001b[0mstorage\u001b[0m \u001b[0;34m==\u001b[0m \u001b[0;34m'sparse'\u001b[0m\u001b[0;34m:\u001b[0m\u001b[0;34m\u001b[0m\u001b[0;34m\u001b[0m\u001b[0m\n\u001b[1;32m   1193\u001b[0m         return SparseGenomicArray(chroms, stranded=stranded,\n",
      "\u001b[0;32m/workspaces/EUGENe/eugene/external/janggu/data/genomicarray.py\u001b[0m in \u001b[0;36m__init__\u001b[0;34m(self, gsize, stranded, conditions, typecode, datatags, resolution, order, padding_value, store_whole_genome, cache, overwrite, loader, normalizer, collapser, verbose)\u001b[0m\n\u001b[1;32m    664\u001b[0m             \u001b[0;31m# invoke the loader\u001b[0m\u001b[0;34m\u001b[0m\u001b[0;34m\u001b[0m\u001b[0;34m\u001b[0m\u001b[0m\n\u001b[1;32m    665\u001b[0m             \u001b[0;32mif\u001b[0m \u001b[0mloader\u001b[0m\u001b[0;34m:\u001b[0m\u001b[0;34m\u001b[0m\u001b[0;34m\u001b[0m\u001b[0m\n\u001b[0;32m--> 666\u001b[0;31m                 \u001b[0mloader\u001b[0m\u001b[0;34m(\u001b[0m\u001b[0mself\u001b[0m\u001b[0;34m)\u001b[0m\u001b[0;34m\u001b[0m\u001b[0;34m\u001b[0m\u001b[0m\n\u001b[0m\u001b[1;32m    667\u001b[0m \u001b[0;34m\u001b[0m\u001b[0m\n\u001b[1;32m    668\u001b[0m \u001b[0;34m\u001b[0m\u001b[0m\n",
      "\u001b[0;32m/workspaces/EUGENe/eugene/external/janggu/data/coverage.py\u001b[0m in \u001b[0;36m__call__\u001b[0;34m(self, garray)\u001b[0m\n\u001b[1;32m    391\u001b[0m \u001b[0;34m\u001b[0m\u001b[0m\n\u001b[1;32m    392\u001b[0m             \u001b[0;31m# map data to rois\u001b[0m\u001b[0;34m\u001b[0m\u001b[0;34m\u001b[0m\u001b[0;34m\u001b[0m\u001b[0m\n\u001b[0;32m--> 393\u001b[0;31m             \u001b[0mroiregs\u001b[0m \u001b[0;34m=\u001b[0m \u001b[0mroifile\u001b[0m\u001b[0;34m.\u001b[0m\u001b[0mintersect\u001b[0m\u001b[0;34m(\u001b[0m\u001b[0mregions_\u001b[0m\u001b[0;34m,\u001b[0m \u001b[0mwa\u001b[0m\u001b[0;34m=\u001b[0m\u001b[0;32mTrue\u001b[0m\u001b[0;34m,\u001b[0m \u001b[0mu\u001b[0m\u001b[0;34m=\u001b[0m\u001b[0;32mTrue\u001b[0m\u001b[0;34m)\u001b[0m\u001b[0;34m\u001b[0m\u001b[0;34m\u001b[0m\u001b[0m\n\u001b[0m\u001b[1;32m    394\u001b[0m             \u001b[0;32mfor\u001b[0m \u001b[0mroireg\u001b[0m \u001b[0;32min\u001b[0m \u001b[0mroiregs\u001b[0m\u001b[0;34m:\u001b[0m\u001b[0;34m\u001b[0m\u001b[0;34m\u001b[0m\u001b[0m\n\u001b[1;32m    395\u001b[0m                 \u001b[0;32mif\u001b[0m \u001b[0mroireg\u001b[0m\u001b[0;34m.\u001b[0m\u001b[0mend\u001b[0m \u001b[0;34m<=\u001b[0m \u001b[0marrays\u001b[0m\u001b[0;34m[\u001b[0m\u001b[0mroireg\u001b[0m\u001b[0;34m.\u001b[0m\u001b[0mchrom\u001b[0m\u001b[0;34m]\u001b[0m\u001b[0;34m.\u001b[0m\u001b[0mshape\u001b[0m\u001b[0;34m[\u001b[0m\u001b[0;36m0\u001b[0m\u001b[0;34m]\u001b[0m\u001b[0;34m:\u001b[0m\u001b[0;34m\u001b[0m\u001b[0;34m\u001b[0m\u001b[0m\n",
      "\u001b[0;32m~/.local/lib/python3.7/site-packages/pybedtools/bedtool.py\u001b[0m in \u001b[0;36mdecorated\u001b[0;34m(self, *args, **kwargs)\u001b[0m\n\u001b[1;32m    921\u001b[0m             \u001b[0;31m# this calls the actual method in the first place; *result* is\u001b[0m\u001b[0;34m\u001b[0m\u001b[0;34m\u001b[0m\u001b[0;34m\u001b[0m\u001b[0m\n\u001b[1;32m    922\u001b[0m             \u001b[0;31m# whatever you get back\u001b[0m\u001b[0;34m\u001b[0m\u001b[0;34m\u001b[0m\u001b[0;34m\u001b[0m\u001b[0m\n\u001b[0;32m--> 923\u001b[0;31m             \u001b[0mresult\u001b[0m \u001b[0;34m=\u001b[0m \u001b[0mmethod\u001b[0m\u001b[0;34m(\u001b[0m\u001b[0mself\u001b[0m\u001b[0;34m,\u001b[0m \u001b[0;34m*\u001b[0m\u001b[0margs\u001b[0m\u001b[0;34m,\u001b[0m \u001b[0;34m**\u001b[0m\u001b[0mkwargs\u001b[0m\u001b[0;34m)\u001b[0m\u001b[0;34m\u001b[0m\u001b[0;34m\u001b[0m\u001b[0m\n\u001b[0m\u001b[1;32m    924\u001b[0m \u001b[0;34m\u001b[0m\u001b[0m\n\u001b[1;32m    925\u001b[0m             \u001b[0;31m# add appropriate tags\u001b[0m\u001b[0;34m\u001b[0m\u001b[0;34m\u001b[0m\u001b[0;34m\u001b[0m\u001b[0m\n",
      "\u001b[0;32m~/.local/lib/python3.7/site-packages/pybedtools/bedtool.py\u001b[0m in \u001b[0;36mnot_implemented_func\u001b[0;34m(*args, **kwargs)\u001b[0m\n\u001b[1;32m    242\u001b[0m \u001b[0;34m\u001b[0m\u001b[0m\n\u001b[1;32m    243\u001b[0m             \u001b[0;32mdef\u001b[0m \u001b[0mnot_implemented_func\u001b[0m\u001b[0;34m(\u001b[0m\u001b[0;34m*\u001b[0m\u001b[0margs\u001b[0m\u001b[0;34m,\u001b[0m \u001b[0;34m**\u001b[0m\u001b[0mkwargs\u001b[0m\u001b[0;34m)\u001b[0m\u001b[0;34m:\u001b[0m\u001b[0;34m\u001b[0m\u001b[0;34m\u001b[0m\u001b[0m\n\u001b[0;32m--> 244\u001b[0;31m                 \u001b[0;32mraise\u001b[0m \u001b[0mNotImplementedError\u001b[0m\u001b[0;34m(\u001b[0m\u001b[0mhelp_str\u001b[0m\u001b[0;34m)\u001b[0m\u001b[0;34m\u001b[0m\u001b[0;34m\u001b[0m\u001b[0m\n\u001b[0m\u001b[1;32m    245\u001b[0m \u001b[0;34m\u001b[0m\u001b[0m\n\u001b[1;32m    246\u001b[0m             \u001b[0;32mreturn\u001b[0m \u001b[0mnot_implemented_func\u001b[0m\u001b[0;34m\u001b[0m\u001b[0;34m\u001b[0m\u001b[0m\n",
      "\u001b[0;31mNotImplementedError\u001b[0m: \"intersectBed\" does not appear to be installed or on the path, so this method is disabled.  Please install a more recent version of BEDTools and re-import to use this method."
     ]
    }
   ],
   "source": [
    "def test_read_bed():\n",
    "    sdata = eu.dl.read_bed(\n",
    "        bed_file=os.path.join(eu.settings.dataset_dir, bed_file),\n",
    "        roi_file=os.path.join(eu.settings.dataset_dir, roi_file),\n",
    "        ref_file=os.path.join(eu.settings.dataset_dir, ref_file),\n",
    "        binsize=200, \n",
    "        collapser=\"max\",\n",
    "        dnaflank=50,\n",
    "        add_seqs=True,\n",
    "        return_janggu=False\n",
    "    )\n",
    "    check_janggu_load(sdata, has_target=True)\n",
    "test_read_bed()"
   ]
  },
  {
   "cell_type": "code",
   "execution_count": 5,
   "id": "6184992d",
   "metadata": {},
   "outputs": [
    {
     "data": {
      "text/plain": [
       "'/usr/local/bin:/vscode/bin/linux-x64/74b1f979648cc44d385a2286793c226e611f59e7/bin/remote-cli:/home/vscode/.local/bin:/usr/local/share/nvm/current/bin:/usr/local/python/current/bin:/usr/local/py-utils/bin:/usr/local/bin:/usr/local/share/nvm/versions/node/v16.17.1/bin:/usr/local/python/current/bin:/usr/local/py-utils/bin:/usr/local/bin:/usr/local/sbin:/usr/local/bin:/usr/sbin:/usr/bin:/sbin:/bin:/home/vscode/.local/bin:/usr/local/bin:/usr/local/bin'"
      ]
     },
     "execution_count": 5,
     "metadata": {},
     "output_type": "execute_result"
    }
   ],
   "source": [
    "os.environ[\"PATH\"]"
   ]
  },
  {
   "cell_type": "code",
   "execution_count": 15,
   "id": "f8c692c7",
   "metadata": {},
   "outputs": [],
   "source": [
    "import os as _os\n",
    "import sys as _sys\n",
    "try:\n",
    "    _bin_dir = _os.path.dirname(_sys.executable)\n",
    "    _os.environ[\"PATH\"] += _os.pathsep + _bin_dir\n",
    "    from pybedtools import paths as _paths\n",
    "    _paths._set_bedtools_path(_bin_dir)\n",
    "except ImportError:\n",
    "    raise ImportError(\n",
    "        \"Please install janggu dependencies `pip install eugene[janggu]`\"\n",
    "    )\n",
    "from eugene.external.janggu.data import Bioseq, Cover "
   ]
  },
  {
   "cell_type": "code",
   "execution_count": 16,
   "id": "8c63d3a1",
   "metadata": {},
   "outputs": [],
   "source": [
    "_os.environ[\"PATH\"] += _os.pathsep + _bin_dir + \"/bedtools\""
   ]
  },
  {
   "cell_type": "code",
   "execution_count": 17,
   "id": "79420695",
   "metadata": {},
   "outputs": [
    {
     "data": {
      "text/plain": [
       "':/usr/local/bin/bedtools:/usr/local/bin:/usr/local/bin/bedtools'"
      ]
     },
     "execution_count": 17,
     "metadata": {},
     "output_type": "execute_result"
    }
   ],
   "source": [
    "_os.environ[\"PATH\"] "
   ]
  },
  {
   "cell_type": "code",
   "execution_count": 18,
   "id": "f459c429",
   "metadata": {
    "execution": {
     "iopub.execute_input": "2022-10-04T16:12:31.784419Z",
     "iopub.status.busy": "2022-10-04T16:12:31.784262Z",
     "iopub.status.idle": "2022-10-04T16:12:35.649677Z",
     "shell.execute_reply": "2022-10-04T16:12:35.649044Z",
     "shell.execute_reply.started": "2022-10-04T16:12:31.784400Z"
    },
    "tags": []
   },
   "outputs": [
    {
     "ename": "NotImplementedError",
     "evalue": "\"intersectBed\" does not appear to be installed or on the path, so this method is disabled.  Please install a more recent version of BEDTools and re-import to use this method.",
     "output_type": "error",
     "traceback": [
      "\u001b[0;31m---------------------------------------------------------------------------\u001b[0m",
      "\u001b[0;31mNotImplementedError\u001b[0m                       Traceback (most recent call last)",
      "\u001b[0;32m/tmp/ipykernel_4525/981605313.py\u001b[0m in \u001b[0;36m<module>\u001b[0;34m\u001b[0m\n\u001b[1;32m     15\u001b[0m     \u001b[0;32massert\u001b[0m \u001b[0misinstance\u001b[0m\u001b[0;34m(\u001b[0m\u001b[0mdna\u001b[0m\u001b[0;34m,\u001b[0m \u001b[0mBioseq\u001b[0m\u001b[0;34m)\u001b[0m\u001b[0;34m\u001b[0m\u001b[0;34m\u001b[0m\u001b[0m\n\u001b[1;32m     16\u001b[0m     \u001b[0;32massert\u001b[0m \u001b[0misinstance\u001b[0m\u001b[0;34m(\u001b[0m\u001b[0mcov\u001b[0m\u001b[0;34m,\u001b[0m \u001b[0mCover\u001b[0m\u001b[0;34m)\u001b[0m\u001b[0;34m\u001b[0m\u001b[0;34m\u001b[0m\u001b[0m\n\u001b[0;32m---> 17\u001b[0;31m \u001b[0mtest_read_bed_janggu\u001b[0m\u001b[0;34m(\u001b[0m\u001b[0;34m)\u001b[0m\u001b[0;34m\u001b[0m\u001b[0;34m\u001b[0m\u001b[0m\n\u001b[0m",
      "\u001b[0;32m/tmp/ipykernel_4525/981605313.py\u001b[0m in \u001b[0;36mtest_read_bed_janggu\u001b[0;34m()\u001b[0m\n\u001b[1;32m     11\u001b[0m         \u001b[0mcollapser\u001b[0m\u001b[0;34m=\u001b[0m\u001b[0;34m\"max\"\u001b[0m\u001b[0;34m,\u001b[0m\u001b[0;34m\u001b[0m\u001b[0;34m\u001b[0m\u001b[0m\n\u001b[1;32m     12\u001b[0m         \u001b[0mdnaflank\u001b[0m\u001b[0;34m=\u001b[0m\u001b[0;36m50\u001b[0m\u001b[0;34m,\u001b[0m\u001b[0;34m\u001b[0m\u001b[0;34m\u001b[0m\u001b[0m\n\u001b[0;32m---> 13\u001b[0;31m         \u001b[0mreturn_janggu\u001b[0m\u001b[0;34m=\u001b[0m\u001b[0;32mTrue\u001b[0m\u001b[0;34m\u001b[0m\u001b[0;34m\u001b[0m\u001b[0m\n\u001b[0m\u001b[1;32m     14\u001b[0m     )\n\u001b[1;32m     15\u001b[0m     \u001b[0;32massert\u001b[0m \u001b[0misinstance\u001b[0m\u001b[0;34m(\u001b[0m\u001b[0mdna\u001b[0m\u001b[0;34m,\u001b[0m \u001b[0mBioseq\u001b[0m\u001b[0;34m)\u001b[0m\u001b[0;34m\u001b[0m\u001b[0;34m\u001b[0m\u001b[0m\n",
      "\u001b[0;32m/workspaces/EUGENe/eugene/dataload/_io.py\u001b[0m in \u001b[0;36mread_bed\u001b[0;34m(bed_file, roi_file, ref_file, dnaflank, resolution, collapser, add_seqs, return_janggu, **kwargs)\u001b[0m\n\u001b[1;32m    415\u001b[0m         \u001b[0mresolution\u001b[0m\u001b[0;34m=\u001b[0m\u001b[0mresolution\u001b[0m\u001b[0;34m,\u001b[0m\u001b[0;34m\u001b[0m\u001b[0;34m\u001b[0m\u001b[0m\n\u001b[1;32m    416\u001b[0m         \u001b[0mcollapser\u001b[0m\u001b[0;34m=\u001b[0m\u001b[0mcollapser\u001b[0m\u001b[0;34m,\u001b[0m\u001b[0;34m\u001b[0m\u001b[0;34m\u001b[0m\u001b[0m\n\u001b[0;32m--> 417\u001b[0;31m         \u001b[0;34m**\u001b[0m\u001b[0mkwargs\u001b[0m\u001b[0;34m,\u001b[0m\u001b[0;34m\u001b[0m\u001b[0;34m\u001b[0m\u001b[0m\n\u001b[0m\u001b[1;32m    418\u001b[0m     )\n\u001b[1;32m    419\u001b[0m     \u001b[0;32mif\u001b[0m \u001b[0mreturn_janggu\u001b[0m\u001b[0;34m:\u001b[0m\u001b[0;34m\u001b[0m\u001b[0;34m\u001b[0m\u001b[0m\n",
      "\u001b[0;32m/workspaces/EUGENe/eugene/external/janggu/data/coverage.py\u001b[0m in \u001b[0;36mcreate_from_bed\u001b[0;34m(cls, name, bedfiles, roi, genomesize, conditions, binsize, stepsize, resolution, flank, storage, dtype, mode, store_whole_genome, overwrite, zero_padding, normalizer, collapser, minoverlap, random_state, datatags, cache, verbose)\u001b[0m\n\u001b[1;32m   1161\u001b[0m                                      \u001b[0mcollapser\u001b[0m\u001b[0;34m=\u001b[0m\u001b[0mcollapser_\u001b[0m\u001b[0;34m,\u001b[0m\u001b[0;34m\u001b[0m\u001b[0;34m\u001b[0m\u001b[0m\n\u001b[1;32m   1162\u001b[0m                                      \u001b[0mnormalizer\u001b[0m\u001b[0;34m=\u001b[0m\u001b[0mnormalizer\u001b[0m\u001b[0;34m,\u001b[0m\u001b[0;34m\u001b[0m\u001b[0;34m\u001b[0m\u001b[0m\n\u001b[0;32m-> 1163\u001b[0;31m                                      verbose=verbose)\n\u001b[0m\u001b[1;32m   1164\u001b[0m \u001b[0;34m\u001b[0m\u001b[0m\n\u001b[1;32m   1165\u001b[0m         \u001b[0;32mreturn\u001b[0m \u001b[0mcls\u001b[0m\u001b[0;34m(\u001b[0m\u001b[0mname\u001b[0m\u001b[0;34m,\u001b[0m \u001b[0mcover\u001b[0m\u001b[0;34m,\u001b[0m \u001b[0mgindexer\u001b[0m\u001b[0;34m)\u001b[0m\u001b[0;34m\u001b[0m\u001b[0;34m\u001b[0m\u001b[0m\n",
      "\u001b[0;32m/workspaces/EUGENe/eugene/external/janggu/data/genomicarray.py\u001b[0m in \u001b[0;36mcreate_genomic_array\u001b[0;34m(chroms, stranded, conditions, typecode, storage, resolution, order, padding_value, store_whole_genome, datatags, cache, overwrite, loader, normalizer, collapser, verbose)\u001b[0m\n\u001b[1;32m   1189\u001b[0m                               \u001b[0mnormalizer\u001b[0m\u001b[0;34m=\u001b[0m\u001b[0mnormalizer\u001b[0m\u001b[0;34m,\u001b[0m\u001b[0;34m\u001b[0m\u001b[0;34m\u001b[0m\u001b[0m\n\u001b[1;32m   1190\u001b[0m                               \u001b[0mcollapser\u001b[0m\u001b[0;34m=\u001b[0m\u001b[0mget_collapser\u001b[0m\u001b[0;34m(\u001b[0m\u001b[0mcollapser\u001b[0m\u001b[0;34m)\u001b[0m\u001b[0;34m,\u001b[0m\u001b[0;34m\u001b[0m\u001b[0;34m\u001b[0m\u001b[0m\n\u001b[0;32m-> 1191\u001b[0;31m                               verbose=verbose)\n\u001b[0m\u001b[1;32m   1192\u001b[0m     \u001b[0;32melif\u001b[0m \u001b[0mstorage\u001b[0m \u001b[0;34m==\u001b[0m \u001b[0;34m'sparse'\u001b[0m\u001b[0;34m:\u001b[0m\u001b[0;34m\u001b[0m\u001b[0;34m\u001b[0m\u001b[0m\n\u001b[1;32m   1193\u001b[0m         return SparseGenomicArray(chroms, stranded=stranded,\n",
      "\u001b[0;32m/workspaces/EUGENe/eugene/external/janggu/data/genomicarray.py\u001b[0m in \u001b[0;36m__init__\u001b[0;34m(self, gsize, stranded, conditions, typecode, datatags, resolution, order, padding_value, store_whole_genome, cache, overwrite, loader, normalizer, collapser, verbose)\u001b[0m\n\u001b[1;32m    664\u001b[0m             \u001b[0;31m# invoke the loader\u001b[0m\u001b[0;34m\u001b[0m\u001b[0;34m\u001b[0m\u001b[0;34m\u001b[0m\u001b[0m\n\u001b[1;32m    665\u001b[0m             \u001b[0;32mif\u001b[0m \u001b[0mloader\u001b[0m\u001b[0;34m:\u001b[0m\u001b[0;34m\u001b[0m\u001b[0;34m\u001b[0m\u001b[0m\n\u001b[0;32m--> 666\u001b[0;31m                 \u001b[0mloader\u001b[0m\u001b[0;34m(\u001b[0m\u001b[0mself\u001b[0m\u001b[0;34m)\u001b[0m\u001b[0;34m\u001b[0m\u001b[0;34m\u001b[0m\u001b[0m\n\u001b[0m\u001b[1;32m    667\u001b[0m \u001b[0;34m\u001b[0m\u001b[0m\n\u001b[1;32m    668\u001b[0m \u001b[0;34m\u001b[0m\u001b[0m\n",
      "\u001b[0;32m/workspaces/EUGENe/eugene/external/janggu/data/coverage.py\u001b[0m in \u001b[0;36m__call__\u001b[0;34m(self, garray)\u001b[0m\n\u001b[1;32m    391\u001b[0m \u001b[0;34m\u001b[0m\u001b[0m\n\u001b[1;32m    392\u001b[0m             \u001b[0;31m# map data to rois\u001b[0m\u001b[0;34m\u001b[0m\u001b[0;34m\u001b[0m\u001b[0;34m\u001b[0m\u001b[0m\n\u001b[0;32m--> 393\u001b[0;31m             \u001b[0mroiregs\u001b[0m \u001b[0;34m=\u001b[0m \u001b[0mroifile\u001b[0m\u001b[0;34m.\u001b[0m\u001b[0mintersect\u001b[0m\u001b[0;34m(\u001b[0m\u001b[0mregions_\u001b[0m\u001b[0;34m,\u001b[0m \u001b[0mwa\u001b[0m\u001b[0;34m=\u001b[0m\u001b[0;32mTrue\u001b[0m\u001b[0;34m,\u001b[0m \u001b[0mu\u001b[0m\u001b[0;34m=\u001b[0m\u001b[0;32mTrue\u001b[0m\u001b[0;34m)\u001b[0m\u001b[0;34m\u001b[0m\u001b[0;34m\u001b[0m\u001b[0m\n\u001b[0m\u001b[1;32m    394\u001b[0m             \u001b[0;32mfor\u001b[0m \u001b[0mroireg\u001b[0m \u001b[0;32min\u001b[0m \u001b[0mroiregs\u001b[0m\u001b[0;34m:\u001b[0m\u001b[0;34m\u001b[0m\u001b[0;34m\u001b[0m\u001b[0m\n\u001b[1;32m    395\u001b[0m                 \u001b[0;32mif\u001b[0m \u001b[0mroireg\u001b[0m\u001b[0;34m.\u001b[0m\u001b[0mend\u001b[0m \u001b[0;34m<=\u001b[0m \u001b[0marrays\u001b[0m\u001b[0;34m[\u001b[0m\u001b[0mroireg\u001b[0m\u001b[0;34m.\u001b[0m\u001b[0mchrom\u001b[0m\u001b[0;34m]\u001b[0m\u001b[0;34m.\u001b[0m\u001b[0mshape\u001b[0m\u001b[0;34m[\u001b[0m\u001b[0;36m0\u001b[0m\u001b[0;34m]\u001b[0m\u001b[0;34m:\u001b[0m\u001b[0;34m\u001b[0m\u001b[0;34m\u001b[0m\u001b[0m\n",
      "\u001b[0;32m~/.local/lib/python3.7/site-packages/pybedtools/bedtool.py\u001b[0m in \u001b[0;36mdecorated\u001b[0;34m(self, *args, **kwargs)\u001b[0m\n\u001b[1;32m    921\u001b[0m             \u001b[0;31m# this calls the actual method in the first place; *result* is\u001b[0m\u001b[0;34m\u001b[0m\u001b[0;34m\u001b[0m\u001b[0;34m\u001b[0m\u001b[0m\n\u001b[1;32m    922\u001b[0m             \u001b[0;31m# whatever you get back\u001b[0m\u001b[0;34m\u001b[0m\u001b[0;34m\u001b[0m\u001b[0;34m\u001b[0m\u001b[0m\n\u001b[0;32m--> 923\u001b[0;31m             \u001b[0mresult\u001b[0m \u001b[0;34m=\u001b[0m \u001b[0mmethod\u001b[0m\u001b[0;34m(\u001b[0m\u001b[0mself\u001b[0m\u001b[0;34m,\u001b[0m \u001b[0;34m*\u001b[0m\u001b[0margs\u001b[0m\u001b[0;34m,\u001b[0m \u001b[0;34m**\u001b[0m\u001b[0mkwargs\u001b[0m\u001b[0;34m)\u001b[0m\u001b[0;34m\u001b[0m\u001b[0;34m\u001b[0m\u001b[0m\n\u001b[0m\u001b[1;32m    924\u001b[0m \u001b[0;34m\u001b[0m\u001b[0m\n\u001b[1;32m    925\u001b[0m             \u001b[0;31m# add appropriate tags\u001b[0m\u001b[0;34m\u001b[0m\u001b[0;34m\u001b[0m\u001b[0;34m\u001b[0m\u001b[0m\n",
      "\u001b[0;32m~/.local/lib/python3.7/site-packages/pybedtools/bedtool.py\u001b[0m in \u001b[0;36mnot_implemented_func\u001b[0;34m(*args, **kwargs)\u001b[0m\n\u001b[1;32m    242\u001b[0m \u001b[0;34m\u001b[0m\u001b[0m\n\u001b[1;32m    243\u001b[0m             \u001b[0;32mdef\u001b[0m \u001b[0mnot_implemented_func\u001b[0m\u001b[0;34m(\u001b[0m\u001b[0;34m*\u001b[0m\u001b[0margs\u001b[0m\u001b[0;34m,\u001b[0m \u001b[0;34m**\u001b[0m\u001b[0mkwargs\u001b[0m\u001b[0;34m)\u001b[0m\u001b[0;34m:\u001b[0m\u001b[0;34m\u001b[0m\u001b[0;34m\u001b[0m\u001b[0m\n\u001b[0;32m--> 244\u001b[0;31m                 \u001b[0;32mraise\u001b[0m \u001b[0mNotImplementedError\u001b[0m\u001b[0;34m(\u001b[0m\u001b[0mhelp_str\u001b[0m\u001b[0;34m)\u001b[0m\u001b[0;34m\u001b[0m\u001b[0;34m\u001b[0m\u001b[0m\n\u001b[0m\u001b[1;32m    245\u001b[0m \u001b[0;34m\u001b[0m\u001b[0m\n\u001b[1;32m    246\u001b[0m             \u001b[0;32mreturn\u001b[0m \u001b[0mnot_implemented_func\u001b[0m\u001b[0;34m\u001b[0m\u001b[0;34m\u001b[0m\u001b[0m\n",
      "\u001b[0;31mNotImplementedError\u001b[0m: \"intersectBed\" does not appear to be installed or on the path, so this method is disabled.  Please install a more recent version of BEDTools and re-import to use this method."
     ]
    }
   ],
   "source": [
    "def test_read_bed_janggu():\n",
    "    _bin_dir = _os.path.dirname(_sys.executable)\n",
    "    _os.environ[\"PATH\"] += _os.pathsep + _bin_dir\n",
    "    from pybedtools import paths as _paths\n",
    "    _paths._set_bedtools_path(_bin_dir)\n",
    "    dna, cov = eu.dl.read_bed(\n",
    "        bed_file=os.path.join(eu.settings.dataset_dir, bed_file),\n",
    "        roi_file=os.path.join(eu.settings.dataset_dir, roi_file),\n",
    "        ref_file=os.path.join(eu.settings.dataset_dir, ref_file),\n",
    "        binsize=200, \n",
    "        collapser=\"max\",\n",
    "        dnaflank=50,\n",
    "        return_janggu=True\n",
    "    )\n",
    "    assert isinstance(dna, Bioseq)\n",
    "    assert isinstance(cov, Cover)\n",
    "test_read_bed_janggu()"
   ]
  },
  {
   "cell_type": "code",
   "execution_count": 133,
   "id": "bdb26a90",
   "metadata": {
    "execution": {
     "iopub.execute_input": "2022-10-04T16:12:35.651276Z",
     "iopub.status.busy": "2022-10-04T16:12:35.650971Z",
     "iopub.status.idle": "2022-10-04T16:12:39.332640Z",
     "shell.execute_reply": "2022-10-04T16:12:39.332161Z",
     "shell.execute_reply.started": "2022-10-04T16:12:35.651255Z"
    },
    "tags": []
   },
   "outputs": [],
   "source": [
    "def test_read_bam():\n",
    "    sdata = eu.dl.read_bam(\n",
    "        bam_file=os.path.join(eu.settings.dataset_dir, bam_file),\n",
    "        roi_file=os.path.join(eu.settings.dataset_dir, roi_file),\n",
    "        ref_file=os.path.join(eu.settings.dataset_dir, ref_file), \n",
    "        binsize=200, \n",
    "        resolution=25\n",
    "    )\n",
    "    check_janggu_load(sdata, has_target=True)\n",
    "test_read_bam()"
   ]
  },
  {
   "cell_type": "code",
   "execution_count": 134,
   "id": "d7766387",
   "metadata": {
    "execution": {
     "iopub.execute_input": "2022-10-04T16:12:39.336406Z",
     "iopub.status.busy": "2022-10-04T16:12:39.335207Z",
     "iopub.status.idle": "2022-10-04T16:12:42.771602Z",
     "shell.execute_reply": "2022-10-04T16:12:42.771110Z",
     "shell.execute_reply.started": "2022-10-04T16:12:39.336387Z"
    },
    "tags": []
   },
   "outputs": [],
   "source": [
    "def test_read_bigwig():\n",
    "    sdata = eu.dl.read_bigwig(\n",
    "        bigwig_file=os.path.join(eu.settings.dataset_dir, bw_file),\n",
    "        roi_file=os.path.join(eu.settings.dataset_dir, roi_file),\n",
    "        ref_file=os.path.join(eu.settings.dataset_dir, ref_file), \n",
    "        dnaflank=50,\n",
    "        binsize=200,\n",
    "        resolution=None,\n",
    "        collapser=\"max\"\n",
    "    )\n",
    "    check_janggu_load(sdata, has_target=True)\n",
    "test_read_bigwig()"
   ]
  },
  {
   "cell_type": "markdown",
   "id": "80919654",
   "metadata": {},
   "source": [
    "# Dataloaders"
   ]
  },
  {
   "cell_type": "markdown",
   "id": "4945a448",
   "metadata": {
    "tags": []
   },
   "source": [
    "## SeqData"
   ]
  },
  {
   "cell_type": "code",
   "execution_count": 135,
   "id": "7cc93fe4-2ed6-41d8-9468-95048c330139",
   "metadata": {
    "execution": {
     "iopub.execute_input": "2022-10-04T16:13:03.219197Z",
     "iopub.status.busy": "2022-10-04T16:13:03.218946Z",
     "iopub.status.idle": "2022-10-04T16:13:06.235987Z",
     "shell.execute_reply": "2022-10-04T16:13:06.235475Z",
     "shell.execute_reply.started": "2022-10-04T16:13:03.219178Z"
    },
    "tags": []
   },
   "outputs": [],
   "source": [
    "from eugene.dataload import SeqDataset"
   ]
  },
  {
   "cell_type": "code",
   "execution_count": 136,
   "id": "8067efcf",
   "metadata": {
    "execution": {
     "iopub.execute_input": "2022-10-04T16:13:06.239984Z",
     "iopub.status.busy": "2022-10-04T16:13:06.238764Z",
     "iopub.status.idle": "2022-10-04T16:13:09.389962Z",
     "shell.execute_reply": "2022-10-04T16:13:09.389505Z",
     "shell.execute_reply.started": "2022-10-04T16:13:06.239965Z"
    },
    "tags": []
   },
   "outputs": [
    {
     "data": {
      "application/vnd.jupyter.widget-view+json": {
       "model_id": "63760e6c4e22471099974cec4ac4a093",
       "version_major": 2,
       "version_minor": 0
      },
      "text/plain": [
       "One-hot encoding sequences:   0%|          | 0/1000 [00:00<?, ?it/s]"
      ]
     },
     "metadata": {},
     "output_type": "display_data"
    },
    {
     "name": "stdout",
     "output_type": "stream",
     "text": [
      "SeqData object modified:\n",
      "\tohe_seqs: None -> 1000 ohe_seqs added\n",
      "SeqData object modified:\n",
      "\tohe_rev_seqs: None -> 1000 ohe_rev_seqs added\n"
     ]
    }
   ],
   "source": [
    "sdata = eu.datasets.random1000()\n",
    "eu.pp.ohe_seqs_sdata(sdata)\n",
    "eu.pp.reverse_complement_seqs_sdata(sdata)"
   ]
  },
  {
   "cell_type": "code",
   "execution_count": 137,
   "id": "55589ead-4da3-40ab-86d1-626648d9e674",
   "metadata": {
    "execution": {
     "iopub.execute_input": "2022-10-04T16:13:09.393167Z",
     "iopub.status.busy": "2022-10-04T16:13:09.391994Z",
     "iopub.status.idle": "2022-10-04T16:13:12.769731Z",
     "shell.execute_reply": "2022-10-04T16:13:12.769235Z",
     "shell.execute_reply.started": "2022-10-04T16:13:09.393147Z"
    },
    "tags": []
   },
   "outputs": [],
   "source": [
    "def test_SeqData_to_dataset(sdata):\n",
    "    assert isinstance(sdataset, SeqDataset)\n",
    "    transforms = sdataset.transform\n",
    "    assert(transforms.transforms.pop())"
   ]
  },
  {
   "cell_type": "code",
   "execution_count": 140,
   "id": "85cbd3cf-34f1-44ab-b8d8-e63b21838d3c",
   "metadata": {
    "execution": {
     "iopub.execute_input": "2022-10-04T16:13:23.000197Z",
     "iopub.status.busy": "2022-10-04T16:13:22.999999Z",
     "iopub.status.idle": "2022-10-04T16:13:26.664602Z",
     "shell.execute_reply": "2022-10-04T16:13:26.664116Z",
     "shell.execute_reply.started": "2022-10-04T16:13:23.000180Z"
    },
    "tags": []
   },
   "outputs": [
    {
     "name": "stdout",
     "output_type": "stream",
     "text": [
      "No transforms given, assuming just need to tensorize.\n"
     ]
    }
   ],
   "source": [
    "sdataset = sdata.to_dataset(target_keys=\"activity_0\")"
   ]
  },
  {
   "cell_type": "code",
   "execution_count": 141,
   "id": "6c71d975-61bf-41d0-ab30-01115ab41f41",
   "metadata": {
    "execution": {
     "iopub.execute_input": "2022-10-04T16:13:26.665830Z",
     "iopub.status.busy": "2022-10-04T16:13:26.665575Z",
     "iopub.status.idle": "2022-10-04T16:13:30.346795Z",
     "shell.execute_reply": "2022-10-04T16:13:30.346265Z",
     "shell.execute_reply.started": "2022-10-04T16:13:26.665812Z"
    },
    "tags": []
   },
   "outputs": [],
   "source": [
    "def test_SeqDataset_get_item(sdataset):\n",
    "    dataset_item = sdataset[0]\n",
    "    assert(np.all([isinstance(itm, torch.Tensor) for itm in dataset_item]))\n",
    "    assert(dataset_item[1].shape == (4,100))\n",
    "    assert(dataset_item[2].shape == (4,100))\n",
    "test_SeqDataset_get_item(sdataset)"
   ]
  },
  {
   "cell_type": "code",
   "execution_count": 142,
   "id": "b080ccf7",
   "metadata": {
    "execution": {
     "iopub.execute_input": "2022-10-04T16:13:30.350324Z",
     "iopub.status.busy": "2022-10-04T16:13:30.349146Z",
     "iopub.status.idle": "2022-10-04T16:13:33.842082Z",
     "shell.execute_reply": "2022-10-04T16:13:33.841529Z",
     "shell.execute_reply.started": "2022-10-04T16:13:30.350304Z"
    },
    "tags": []
   },
   "outputs": [],
   "source": [
    "def test_SeqData_write_h5sd(sdata):\n",
    "    sdata.write_h5sd(\"../../../eugene/datasets/random1000/random1000.h5sd\")\n",
    "test_SeqData_write_h5sd(sdata)"
   ]
  },
  {
   "cell_type": "markdown",
   "id": "31675bb9",
   "metadata": {},
   "source": [
    "# Motif"
   ]
  },
  {
   "cell_type": "markdown",
   "id": "5bfe55a8-47c5-4477-8a81-53250ed012c9",
   "metadata": {
    "tags": []
   },
   "source": [
    "## MinimalMEME"
   ]
  },
  {
   "cell_type": "code",
   "execution_count": 143,
   "id": "c34917d4-7cf1-4046-ac05-9145f39949a6",
   "metadata": {
    "execution": {
     "iopub.execute_input": "2022-10-04T16:13:33.846376Z",
     "iopub.status.busy": "2022-10-04T16:13:33.845186Z",
     "iopub.status.idle": "2022-10-04T16:13:37.452852Z",
     "shell.execute_reply": "2022-10-04T16:13:37.452240Z",
     "shell.execute_reply.started": "2022-10-04T16:13:33.846357Z"
    },
    "tags": []
   },
   "outputs": [],
   "source": [
    "def test_minimalMEME():\n",
    "    minimal_meme = eu.dl.motif.MinimalMEME(\"../../_data/CPEs.meme\")\n",
    "    assert isinstance(minimal_meme, eu.dl.motif.MinimalMEME)\n",
    "test_minimalMEME()"
   ]
  },
  {
   "cell_type": "markdown",
   "id": "4d7ab28e-1386-44f8-b5e5-798f6a7bf70c",
   "metadata": {},
   "source": [
    "## Motif"
   ]
  },
  {
   "cell_type": "code",
   "execution_count": 145,
   "id": "b38026dd-e6fb-4f75-b509-b6a41a1fe97a",
   "metadata": {
    "execution": {
     "iopub.execute_input": "2022-10-04T16:14:02.554279Z",
     "iopub.status.busy": "2022-10-04T16:14:02.553715Z",
     "iopub.status.idle": "2022-10-04T16:14:06.179006Z",
     "shell.execute_reply": "2022-10-04T16:14:06.178379Z",
     "shell.execute_reply.started": "2022-10-04T16:14:02.554257Z"
    },
    "tags": []
   },
   "outputs": [],
   "source": [
    "minimal_meme = eu.dl.motif.MinimalMEME(\"../../_data/CPEs.meme\")\n",
    "motifs = minimal_meme.motifs"
   ]
  },
  {
   "cell_type": "code",
   "execution_count": 146,
   "id": "d5f0bcee-f94d-4108-890b-ac1bd57b3afb",
   "metadata": {
    "execution": {
     "iopub.execute_input": "2022-10-04T16:14:06.180300Z",
     "iopub.status.busy": "2022-10-04T16:14:06.180033Z",
     "iopub.status.idle": "2022-10-04T16:14:09.852222Z",
     "shell.execute_reply": "2022-10-04T16:14:09.851587Z",
     "shell.execute_reply.started": "2022-10-04T16:14:06.180282Z"
    },
    "tags": []
   },
   "outputs": [],
   "source": [
    "def test_Motif(motifs):\n",
    "    example_motif = motifs[\"TATA\"]\n",
    "    assert isinstance(example_motif, eu.dl.motif.Motif)\n",
    "test_Motif(motifs)"
   ]
  },
  {
   "cell_type": "code",
   "execution_count": 147,
   "id": "6d24183b-5b07-4271-b9c2-27d9a96d7f8f",
   "metadata": {
    "execution": {
     "iopub.execute_input": "2022-10-04T16:14:09.853241Z",
     "iopub.status.busy": "2022-10-04T16:14:09.853014Z",
     "iopub.status.idle": "2022-10-04T16:14:13.529068Z",
     "shell.execute_reply": "2022-10-04T16:14:13.528445Z",
     "shell.execute_reply.started": "2022-10-04T16:14:09.853224Z"
    },
    "tags": []
   },
   "outputs": [],
   "source": [
    "pfm = np.expand_dims(example_motif.pfm, axis=0)"
   ]
  },
  {
   "cell_type": "code",
   "execution_count": 148,
   "id": "a259cda4-f730-4c4f-b785-17d6054e9c4a",
   "metadata": {
    "execution": {
     "iopub.execute_input": "2022-10-04T16:14:13.530748Z",
     "iopub.status.busy": "2022-10-04T16:14:13.530467Z",
     "iopub.status.idle": "2022-10-04T16:14:17.033355Z",
     "shell.execute_reply": "2022-10-04T16:14:17.032920Z",
     "shell.execute_reply.started": "2022-10-04T16:14:13.530731Z"
    },
    "tags": []
   },
   "outputs": [
    {
     "name": "stdout",
     "output_type": "stream",
     "text": [
      "Saved PWM File as : ../../_data/TATA.meme\n"
     ]
    }
   ],
   "source": [
    "def test_pwm_to_meme(pfm):\n",
    "    eu.dl.motif.pwm_to_meme(pfm, output_file_path=\"../../_data/TATA.meme\")\n",
    "    assert os.path.exists(\"../../_data/TATA.meme\")\n",
    "test_pwm_to_meme(pfm)"
   ]
  },
  {
   "cell_type": "code",
   "execution_count": 149,
   "id": "8eda2506-346a-440b-9c0d-fac7961126b2",
   "metadata": {
    "execution": {
     "iopub.execute_input": "2022-10-04T16:14:17.034402Z",
     "iopub.status.busy": "2022-10-04T16:14:17.034122Z",
     "iopub.status.idle": "2022-10-04T16:14:20.618476Z",
     "shell.execute_reply": "2022-10-04T16:14:20.618003Z",
     "shell.execute_reply.started": "2022-10-04T16:14:17.034385Z"
    },
    "tags": []
   },
   "outputs": [],
   "source": [
    "model = eu.models.DeepBind(input_len=66, output_dim=1)"
   ]
  },
  {
   "cell_type": "code",
   "execution_count": 150,
   "id": "cef19e15-8205-46df-b230-7e74b24091d4",
   "metadata": {
    "execution": {
     "iopub.execute_input": "2022-10-04T16:14:20.622372Z",
     "iopub.status.busy": "2022-10-04T16:14:20.621129Z",
     "iopub.status.idle": "2022-10-04T16:14:24.657567Z",
     "shell.execute_reply": "2022-10-04T16:14:24.657031Z",
     "shell.execute_reply.started": "2022-10-04T16:14:20.622352Z"
    },
    "tags": []
   },
   "outputs": [
    {
     "name": "stdout",
     "output_type": "stream",
     "text": [
      "No transforms given, assuming just need to tensorize.\n"
     ]
    },
    {
     "data": {
      "application/vnd.jupyter.widget-view+json": {
       "model_id": "2caa3487a36f43e280681c3083acb36e",
       "version_major": 2,
       "version_minor": 0
      },
      "text/plain": [
       "Getting maximial activating seqlets:   0%|          | 0/7 [00:00<?, ?it/s]"
      ]
     },
     "metadata": {},
     "output_type": "display_data"
    },
    {
     "data": {
      "application/vnd.jupyter.widget-view+json": {
       "model_id": "beeed0ed955c43a7838c315ec749b9db",
       "version_major": 2,
       "version_minor": 0
      },
      "text/plain": [
       "Getting filter activators for 16 filters:   0%|          | 0/16 [00:00<?, ?it/s]"
      ]
     },
     "metadata": {},
     "output_type": "display_data"
    },
    {
     "data": {
      "application/vnd.jupyter.widget-view+json": {
       "model_id": "291641d7b17c406d90f5a065d6c71366",
       "version_major": 2,
       "version_minor": 0
      },
      "text/plain": [
       "Getting PFMs from filters:   0%|          | 0/16 [00:00<?, ?it/s]"
      ]
     },
     "metadata": {},
     "output_type": "display_data"
    }
   ],
   "source": [
    "eu.interpret.generate_pfms_sdata(model, sdata)"
   ]
  },
  {
   "cell_type": "code",
   "execution_count": 151,
   "id": "5b85946e-95b3-48cc-8313-986655db2f5e",
   "metadata": {
    "execution": {
     "iopub.execute_input": "2022-10-04T16:14:24.658521Z",
     "iopub.status.busy": "2022-10-04T16:14:24.658309Z",
     "iopub.status.idle": "2022-10-04T16:14:28.198777Z",
     "shell.execute_reply": "2022-10-04T16:14:28.198319Z",
     "shell.execute_reply.started": "2022-10-04T16:14:24.658503Z"
    },
    "tags": []
   },
   "outputs": [
    {
     "name": "stdout",
     "output_type": "stream",
     "text": [
      "Saved PWM File as : ../../_data/model_filters.meme\n"
     ]
    }
   ],
   "source": [
    "def test_filters_to_meme_sdata(sdata):\n",
    "    eu.dl.motif.filters_to_meme_sdata(\n",
    "        sdata,\n",
    "        filter_ids=list(sdata.uns[\"pfms\"].keys()),\n",
    "        output_dir=\"../../_data/\",\n",
    "        file_name=f\"model_filters.meme\"\n",
    "    )\n",
    "    assert os.path.exists(\"../../_data/model_filters.meme\")\n",
    "    meme = eu.dl.motif.load_meme(\"../../_data/model_filters.meme\")\n",
    "    assert np.all([isinstance(item, Motif) for item in loaded_meme[0]])\n",
    "test_filters_to_meme_sdata(sdata)"
   ]
  },
  {
   "cell_type": "markdown",
   "id": "23c729c6-1875-4869-86b7-6d71bec52c20",
   "metadata": {},
   "source": [
    "## FIMO"
   ]
  },
  {
   "cell_type": "code",
   "execution_count": 152,
   "id": "2721962a-5ff5-4654-b4f2-a0a4f62fd845",
   "metadata": {
    "execution": {
     "iopub.execute_input": "2022-10-04T16:14:28.202087Z",
     "iopub.status.busy": "2022-10-04T16:14:28.200898Z",
     "iopub.status.idle": "2022-10-04T16:14:31.872897Z",
     "shell.execute_reply": "2022-10-04T16:14:31.872398Z",
     "shell.execute_reply.started": "2022-10-04T16:14:28.202067Z"
    },
    "tags": []
   },
   "outputs": [],
   "source": [
    "def test_get_jaspar_motifs():\n",
    "    from Bio.motifs.jaspar import Motif\n",
    "    single_test = eu.dl.motif.get_jaspar_motifs(motif_accs=['MA0095.2'])\n",
    "    assert isinstance(single_test[0], Motif)\n",
    "    multi_test = eu.dl.motif.get_jaspar_motifs(motif_names=['CTCF', 'GATA1'])\n",
    "    assert np.all([isinstance(test, Motif) for test in multi_test])\n",
    "test_get_jaspar_motifs()"
   ]
  },
  {
   "cell_type": "code",
   "execution_count": 153,
   "id": "c0b57885-0e19-4ed3-ab56-d0333b993982",
   "metadata": {
    "execution": {
     "iopub.execute_input": "2022-10-04T16:14:31.876563Z",
     "iopub.status.busy": "2022-10-04T16:14:31.875371Z",
     "iopub.status.idle": "2022-10-04T16:14:35.313206Z",
     "shell.execute_reply": "2022-10-04T16:14:35.312709Z",
     "shell.execute_reply.started": "2022-10-04T16:14:31.876543Z"
    },
    "tags": []
   },
   "outputs": [
    {
     "name": "stdout",
     "output_type": "stream",
     "text": [
      "Saved PWM File as : ../../_data/jaspar.meme\n"
     ]
    }
   ],
   "source": [
    "def test_save_motifs_as_meme():\n",
    "    from pymemesuite.common import Motif\n",
    "    motifs = eu.dl.motif.get_jaspar_motifs(motif_names=['CTCF', \"GATA1\"])\n",
    "    eu.dl.motif.save_motifs_as_meme(motifs, \"../../_data/jaspar.meme\")\n",
    "    assert os.path.exists(\"../../_data/jaspar.meme\")\n",
    "    loaded_meme = eu.dl.motif.load_meme(\"../../_data/jaspar.meme\")\n",
    "    assert np.all([isinstance(item, Motif) for item in loaded_meme[0]])\n",
    "test_save_motifs_as_meme()"
   ]
  },
  {
   "cell_type": "code",
   "execution_count": 154,
   "id": "ed7c29a5-9f41-4df0-9a5b-ae15aad3c290",
   "metadata": {
    "execution": {
     "iopub.execute_input": "2022-10-04T16:14:35.317263Z",
     "iopub.status.busy": "2022-10-04T16:14:35.316081Z",
     "iopub.status.idle": "2022-10-04T16:14:38.447235Z",
     "shell.execute_reply": "2022-10-04T16:14:38.446658Z",
     "shell.execute_reply.started": "2022-10-04T16:14:35.317244Z"
    },
    "tags": []
   },
   "outputs": [],
   "source": [
    "loaded_meme = eu.dl.motif.load_meme(\"../../_data/jaspar.meme\")"
   ]
  },
  {
   "cell_type": "code",
   "execution_count": 155,
   "id": "2c236570-2322-4ed7-8106-aac231143ca2",
   "metadata": {
    "execution": {
     "iopub.execute_input": "2022-10-04T16:14:38.451014Z",
     "iopub.status.busy": "2022-10-04T16:14:38.449816Z",
     "iopub.status.idle": "2022-10-04T16:14:42.012328Z",
     "shell.execute_reply": "2022-10-04T16:14:42.011828Z",
     "shell.execute_reply.started": "2022-10-04T16:14:38.450994Z"
    },
    "tags": []
   },
   "outputs": [],
   "source": [
    "def test_fimo_motifs(sdata, loaded_meme):\n",
    "    annots = eu.dl.motif.fimo_motifs(sdata, *loaded_meme)\n",
    "    assert isinstance(annots, list)\n",
    "test_fimo_motifs(sdata, loaded_meme)"
   ]
  },
  {
   "cell_type": "code",
   "execution_count": 156,
   "id": "e744be56-e3d7-4263-91bf-193f231f8e67",
   "metadata": {
    "execution": {
     "iopub.execute_input": "2022-10-04T16:14:42.015975Z",
     "iopub.status.busy": "2022-10-04T16:14:42.014768Z",
     "iopub.status.idle": "2022-10-04T16:14:44.898518Z",
     "shell.execute_reply": "2022-10-04T16:14:44.898073Z",
     "shell.execute_reply.started": "2022-10-04T16:14:42.015955Z"
    },
    "tags": []
   },
   "outputs": [
    {
     "name": "stdout",
     "output_type": "stream",
     "text": [
      "Saved PWM File as : jaspar.meme\n"
     ]
    }
   ],
   "source": [
    "def test_score_seqs(sdata):\n",
    "    from pyranges import PyRanges\n",
    "    score_df = eu.dl.motif.score_seqs(\n",
    "        sdata=sdata, \n",
    "        motif_accs=['MA0095.2'], \n",
    "        filename=\"../../_data/jaspar.meme\"\n",
    "    )\n",
    "    assert isinstance(score_df, PyRanges)\n",
    "    assert np.unique(score_df.df[\"Name\"])[0] == \"YY1\"\n",
    "test_score_seqs(sdata)"
   ]
  },
  {
   "cell_type": "code",
   "execution_count": 157,
   "id": "284776d6",
   "metadata": {
    "execution": {
     "iopub.execute_input": "2022-10-04T16:14:44.901791Z",
     "iopub.status.busy": "2022-10-04T16:14:44.900607Z",
     "iopub.status.idle": "2022-10-04T16:15:19.681541Z",
     "shell.execute_reply": "2022-10-04T16:15:19.680854Z",
     "shell.execute_reply.started": "2022-10-04T16:14:44.901772Z"
    },
    "tags": []
   },
   "outputs": [
    {
     "name": "stdout",
     "output_type": "stream",
     "text": [
      "Saved PWM File as : motifs.meme\n",
      "Saved PWM File as : motifs.meme\n"
     ]
    },
    {
     "ename": "TypeError",
     "evalue": "sequence item 0: expected str instance, tuple found",
     "output_type": "error",
     "traceback": [
      "\u001b[0;31m---------------------------------------------------------------------------\u001b[0m",
      "\u001b[0;31mTypeError\u001b[0m                                 Traceback (most recent call last)",
      "\u001b[0;32m/tmp/ipykernel_3316108/3484020817.py\u001b[0m in \u001b[0;36m<module>\u001b[0;34m\u001b[0m\n\u001b[1;32m     16\u001b[0m     ) \n\u001b[1;32m     17\u001b[0m     \u001b[0;32massert\u001b[0m \u001b[0misinstance\u001b[0m\u001b[0;34m(\u001b[0m\u001b[0msdata\u001b[0m\u001b[0;34m.\u001b[0m\u001b[0mpos_annot\u001b[0m\u001b[0;34m,\u001b[0m \u001b[0mPyRanges\u001b[0m\u001b[0;34m)\u001b[0m\u001b[0;34m\u001b[0m\u001b[0;34m\u001b[0m\u001b[0m\n\u001b[0;32m---> 18\u001b[0;31m \u001b[0mtest_jaspar_annots_sdata\u001b[0m\u001b[0;34m(\u001b[0m\u001b[0msdata\u001b[0m\u001b[0;34m)\u001b[0m\u001b[0;34m\u001b[0m\u001b[0;34m\u001b[0m\u001b[0m\n\u001b[0m",
      "\u001b[0;32m/tmp/ipykernel_3316108/3484020817.py\u001b[0m in \u001b[0;36mtest_jaspar_annots_sdata\u001b[0;34m(sdata)\u001b[0m\n\u001b[1;32m      8\u001b[0m     eu.dl.motif.jaspar_annots_sdata(\n\u001b[1;32m      9\u001b[0m         \u001b[0msdata\u001b[0m\u001b[0;34m,\u001b[0m\u001b[0;34m\u001b[0m\u001b[0;34m\u001b[0m\u001b[0m\n\u001b[0;32m---> 10\u001b[0;31m         \u001b[0mcollection\u001b[0m\u001b[0;34m=\u001b[0m\u001b[0;34m\"CORE\"\u001b[0m\u001b[0;34m\u001b[0m\u001b[0;34m\u001b[0m\u001b[0m\n\u001b[0m\u001b[1;32m     11\u001b[0m     ) \n\u001b[1;32m     12\u001b[0m     \u001b[0;32massert\u001b[0m \u001b[0misinstance\u001b[0m\u001b[0;34m(\u001b[0m\u001b[0msdata\u001b[0m\u001b[0;34m.\u001b[0m\u001b[0mpos_annot\u001b[0m\u001b[0;34m,\u001b[0m \u001b[0mPyRanges\u001b[0m\u001b[0;34m)\u001b[0m\u001b[0;34m\u001b[0m\u001b[0;34m\u001b[0m\u001b[0m\n",
      "\u001b[0;32m/mnt/beegfs/users/aklie/projects/EUGENe/eugene/utils/_decorators.py\u001b[0m in \u001b[0;36mwrapper\u001b[0;34m(*args, **kwds)\u001b[0m\n\u001b[1;32m     82\u001b[0m                             \u001b[0mout\u001b[0m \u001b[0;34m+=\u001b[0m \u001b[0;34mf\"\\n        - {', '.join(removed)}\"\u001b[0m\u001b[0;34m\u001b[0m\u001b[0;34m\u001b[0m\u001b[0m\n\u001b[1;32m     83\u001b[0m                         \u001b[0;32mif\u001b[0m \u001b[0mlen\u001b[0m\u001b[0;34m(\u001b[0m\u001b[0madded\u001b[0m\u001b[0;34m)\u001b[0m \u001b[0;34m>\u001b[0m \u001b[0;36m0\u001b[0m\u001b[0;34m:\u001b[0m\u001b[0;34m\u001b[0m\u001b[0;34m\u001b[0m\u001b[0m\n\u001b[0;32m---> 84\u001b[0;31m                             \u001b[0mout\u001b[0m \u001b[0;34m+=\u001b[0m \u001b[0;34mf\"\\n        + {', '.join(added)}\"\u001b[0m\u001b[0;34m\u001b[0m\u001b[0;34m\u001b[0m\u001b[0m\n\u001b[0m\u001b[1;32m     85\u001b[0m \u001b[0;34m\u001b[0m\u001b[0m\n\u001b[1;32m     86\u001b[0m         \u001b[0;32mif\u001b[0m \u001b[0mmodified\u001b[0m\u001b[0;34m:\u001b[0m\u001b[0;34m\u001b[0m\u001b[0;34m\u001b[0m\u001b[0m\n",
      "\u001b[0;31mTypeError\u001b[0m: sequence item 0: expected str instance, tuple found"
     ]
    }
   ],
   "source": [
    "def test_jaspar_annots_sdata(sdata):\n",
    "    from pyranges import PyRanges\n",
    "    eu.dl.motif.jaspar_annots_sdata(\n",
    "        sdata,\n",
    "        motif_accs=['MA0048.1', 'MA0049.1']\n",
    "    )\n",
    "    assert isinstance(sdata.pos_annot, PyRanges)\n",
    "    eu.dl.motif.jaspar_annots_sdata(\n",
    "        sdata, \n",
    "        collection=\"CORE\"\n",
    "    ) \n",
    "    assert isinstance(sdata.pos_annot, PyRanges)\n",
    "    eu.dl.motif.jaspar_annots_sdata(\n",
    "        sdata, \n",
    "        motif_names=[\"GATA1\"]\n",
    "    ) \n",
    "    assert isinstance(sdata.pos_annot, PyRanges)\n",
    "test_jaspar_annots_sdata(sdata)"
   ]
  },
  {
   "cell_type": "markdown",
   "id": "37d1c186",
   "metadata": {},
   "source": [
    "---"
   ]
  }
 ],
 "metadata": {
  "kernelspec": {
   "display_name": "Python 3.7.14 64-bit",
   "language": "python",
   "name": "python3"
  },
  "language_info": {
   "codemirror_mode": {
    "name": "ipython",
    "version": 3
   },
   "file_extension": ".py",
   "mimetype": "text/x-python",
   "name": "python",
   "nbconvert_exporter": "python",
   "pygments_lexer": "ipython3",
   "version": "3.7.14"
  },
  "vscode": {
   "interpreter": {
    "hash": "949777d72b0d2535278d3dc13498b2535136f6dfe0678499012e853ee9abcab1"
   }
  }
 },
 "nbformat": 4,
 "nbformat_minor": 5
}

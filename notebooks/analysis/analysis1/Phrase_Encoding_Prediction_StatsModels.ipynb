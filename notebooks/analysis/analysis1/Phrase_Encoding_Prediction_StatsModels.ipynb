{
 "cells": [
  {
   "cell_type": "markdown",
   "id": "90a88efe-ebb3-424c-8704-fb4ee189af2c",
   "metadata": {},
   "source": [
    "# Phrase Encoding Model Predictions"
   ]
  },
  {
   "cell_type": "markdown",
   "id": "2d058003-a667-4b45-9ddc-e47efe48e0e1",
   "metadata": {
    "tags": []
   },
   "source": [
    "**Authorship:**\n",
    "Adam Klie, *04/18/2022*\n",
    "***\n",
    "**Description:**\n",
    "Notebook to do some cool stuff\n",
    "***\n",
    "<div class=\"alert alert-block alert-warning\">\n",
    "<b>TODOs</b>:\n",
    "<ul>\n",
    "    <b><li>Load the simplest dataset in</li></b>\n",
    "    <b><li>Train a predictive model as baseline</li></b>\n",
    "    <b><li></li></b>\n",
    "    </ul>\n",
    "</div>"
   ]
  },
  {
   "cell_type": "markdown",
   "id": "a2a2c4a5-1dac-4dce-8e87-cb83f07de4c3",
   "metadata": {
    "execution": {
     "iopub.execute_input": "2021-09-05T21:21:18.602440Z",
     "iopub.status.busy": "2021-09-05T21:21:18.602151Z",
     "iopub.status.idle": "2021-09-05T21:21:18.606439Z",
     "shell.execute_reply": "2021-09-05T21:21:18.605256Z",
     "shell.execute_reply.started": "2021-09-05T21:21:18.602409Z"
    },
    "tags": []
   },
   "source": [
    "# Set-up"
   ]
  },
  {
   "cell_type": "code",
   "execution_count": 1,
   "id": "54d8add2-3283-4a83-82ef-bf3882fe7dc1",
   "metadata": {
    "execution": {
     "iopub.execute_input": "2022-04-22T00:41:14.675081Z",
     "iopub.status.busy": "2022-04-22T00:41:14.674887Z",
     "iopub.status.idle": "2022-04-22T00:42:26.191160Z",
     "shell.execute_reply": "2022-04-22T00:42:26.190802Z",
     "shell.execute_reply.started": "2022-04-22T00:41:14.675032Z"
    },
    "tags": []
   },
   "outputs": [],
   "source": [
    "# Classics\n",
    "import os\n",
    "import glob\n",
    "import matplotlib.pyplot as plt\n",
    "import numpy as np\n",
    "import pandas as pd\n",
    "import seaborn as sns\n",
    "import pickle\n",
    "\n",
    "# Logit\n",
    "import statsmodels.api as sm\n",
    "\n",
    "# Figure style\n",
    "plt.style.use('presentation')\n",
    "\n",
    "# Autoreload extension\n",
    "if 'autoreload' not in get_ipython().extension_manager.loaded:\n",
    "    %load_ext autoreload\n",
    "    \n",
    "%autoreload 2\n",
    "\n",
    "import sys\n",
    "sys.path.append('/cellar/users/aklie/projects/EUGENE/bin/')\n",
    "from project_utils import split_train_test, standardize_features, classification_report"
   ]
  },
  {
   "cell_type": "code",
   "execution_count": 2,
   "id": "7832a6fc-a2aa-48e5-bd9a-a7722a9f4f05",
   "metadata": {
    "execution": {
     "iopub.execute_input": "2022-04-22T00:42:26.191902Z",
     "iopub.status.busy": "2022-04-22T00:42:26.191790Z",
     "iopub.status.idle": "2022-04-22T00:42:26.905481Z",
     "shell.execute_reply": "2022-04-22T00:42:26.905127Z",
     "shell.execute_reply.started": "2022-04-22T00:42:26.191887Z"
    },
    "tags": []
   },
   "outputs": [],
   "source": [
    "# Define parameters of the notebook\n",
    "DATASET = \"2021_OLS_Library\"  # Which dataset to look at\n",
    "FEATURES = \"phrase_encodings\"  # What features to use to train the model\n",
    "\n",
    "# Define training\n",
    "TRAIN = True\n",
    "SPLIT = 0.9\n",
    "SUBSET = 0.01\n",
    "HYPERPARAM = \"baseline\"\n",
    "MODEL = \"LR\""
   ]
  },
  {
   "cell_type": "code",
   "execution_count": 96,
   "id": "c5b930dc-6c41-4ecb-b873-70c452b2ff37",
   "metadata": {
    "execution": {
     "iopub.execute_input": "2022-04-21T02:33:33.348650Z",
     "iopub.status.busy": "2022-04-21T02:33:33.348487Z",
     "iopub.status.idle": "2022-04-21T02:43:38.559123Z",
     "shell.execute_reply": "2022-04-21T02:43:38.558793Z",
     "shell.execute_reply.started": "2022-04-21T02:33:33.348635Z"
    },
    "tags": []
   },
   "outputs": [
    {
     "name": "stdout",
     "output_type": "stream",
     "text": [
      "parse_ord_ori_aff_2_weightedByCount_True\n"
     ]
    },
    {
     "name": "stderr",
     "output_type": "stream",
     "text": [
      "/cellar/users/aklie/opt/miniconda3/envs/ml_env/lib/python3.8/site-packages/pandas/core/strings/accessor.py:101: UserWarning: This pattern has match groups. To actually get the groups, use str.extract.\n",
      "  return func(self, *args, **kwargs)\n"
     ]
    },
    {
     "name": "stdout",
     "output_type": "stream",
     "text": [
      "Optimization terminated successfully    (Exit mode 0)\n",
      "            Current function value: 0.6034128507614034\n",
      "            Iterations: 29\n",
      "            Function evaluations: 29\n",
      "            Gradient evaluations: 29\n",
      "Predictions provided, skipping them\n",
      "Generating confusion matrix\n",
      "Calculating classification metrics\n",
      "Metric\tTrain\tTest\n",
      "Accuracy\t0.6865\t0.6716\n",
      "Precision\t0.6083\t0.5897\n",
      "Recall\t0.2293\t0.2396\n",
      "F0.1-Score\t0.5985\t0.5813\n",
      "F0.5-Score\t0.4572\t0.4563\n",
      "F1-Score\t0.3330\t0.3407\n",
      "F2-Score\t0.2619\t0.2719\n",
      "F10-Score\t0.2307\t0.2410\n",
      "Plotting PR Curve\n",
      "Plotting ROC Curve\n",
      "Generating report\n",
      "parse_ord_ori_spc_2_weightedByCount_True\n"
     ]
    },
    {
     "name": "stderr",
     "output_type": "stream",
     "text": [
      "/cellar/users/aklie/opt/miniconda3/envs/ml_env/lib/python3.8/site-packages/pandas/core/strings/accessor.py:101: UserWarning: This pattern has match groups. To actually get the groups, use str.extract.\n",
      "  return func(self, *args, **kwargs)\n"
     ]
    },
    {
     "name": "stdout",
     "output_type": "stream",
     "text": [
      "Optimization terminated successfully    (Exit mode 0)\n",
      "            Current function value: 0.39264486268661875\n",
      "            Iterations: 286\n",
      "            Function evaluations: 287\n",
      "            Gradient evaluations: 286\n",
      "Predictions provided, skipping them\n",
      "Generating confusion matrix\n",
      "Calculating classification metrics\n",
      "Metric\tTrain\tTest\n",
      "Accuracy\t0.8270\t0.6458\n",
      "Precision\t0.7788\t0.5000\n",
      "Recall\t0.6891\t0.4375\n",
      "F0.1-Score\t0.7778\t0.4993\n",
      "F0.5-Score\t0.7591\t0.4861\n",
      "F1-Score\t0.7312\t0.4667\n",
      "F2-Score\t0.7053\t0.4487\n",
      "F10-Score\t0.6899\t0.4380\n",
      "Plotting PR Curve\n",
      "Plotting ROC Curve\n",
      "Generating report\n",
      "parse_ord_ori_2_weightedByCount_True\n"
     ]
    },
    {
     "name": "stderr",
     "output_type": "stream",
     "text": [
      "/cellar/users/aklie/opt/miniconda3/envs/ml_env/lib/python3.8/site-packages/pandas/core/strings/accessor.py:101: UserWarning: This pattern has match groups. To actually get the groups, use str.extract.\n",
      "  return func(self, *args, **kwargs)\n"
     ]
    },
    {
     "name": "stdout",
     "output_type": "stream",
     "text": [
      "Optimization terminated successfully    (Exit mode 0)\n",
      "            Current function value: 0.624833747326447\n",
      "            Iterations: 22\n",
      "            Function evaluations: 22\n",
      "            Gradient evaluations: 22\n",
      "Predictions provided, skipping them\n",
      "Generating confusion matrix\n",
      "Calculating classification metrics\n",
      "Metric\tTrain\tTest\n",
      "Accuracy\t0.6607\t0.6568\n",
      "Precision\t0.5275\t0.6000\n",
      "Recall\t0.0576\t0.0938\n",
      "F0.1-Score\t0.4881\t0.5695\n",
      "F0.5-Score\t0.2005\t0.2885\n",
      "F1-Score\t0.1039\t0.1622\n",
      "F2-Score\t0.0701\t0.1128\n",
      "F10-Score\t0.0581\t0.0945\n",
      "Plotting PR Curve\n",
      "Plotting ROC Curve\n",
      "Generating report\n",
      "parse_ord_aff_3_weightedByCount_True\n"
     ]
    },
    {
     "name": "stderr",
     "output_type": "stream",
     "text": [
      "/cellar/users/aklie/opt/miniconda3/envs/ml_env/lib/python3.8/site-packages/pandas/core/strings/accessor.py:101: UserWarning: This pattern has match groups. To actually get the groups, use str.extract.\n",
      "  return func(self, *args, **kwargs)\n"
     ]
    },
    {
     "name": "stdout",
     "output_type": "stream",
     "text": [
      "Optimization terminated successfully    (Exit mode 0)\n",
      "            Current function value: 0.6259037855434685\n",
      "            Iterations: 25\n",
      "            Function evaluations: 25\n",
      "            Gradient evaluations: 25\n",
      "Predictions provided, skipping them\n",
      "Generating confusion matrix\n",
      "Calculating classification metrics\n",
      "Metric\tTrain\tTest\n",
      "Accuracy\t0.6598\t0.6384\n",
      "Precision\t0.5789\t0.0000\n",
      "Recall\t0.0132\t0.0000\n",
      "F0.1-Score\t0.4065\tnan\n",
      "F0.5-Score\t0.0605\tnan\n",
      "F1-Score\t0.0258\tnan\n",
      "F2-Score\t0.0164\tnan\n",
      "F10-Score\t0.0133\tnan\n",
      "Plotting PR Curve\n"
     ]
    },
    {
     "name": "stderr",
     "output_type": "stream",
     "text": [
      "/cellar/users/aklie/projects/EUGENE/bin/project_utils.py:282: RuntimeWarning: invalid value encountered in double_scalars\n",
      "  return (1+(beta**2))*((pr*rec)/(((beta**2)*pr)+rec))\n"
     ]
    },
    {
     "name": "stdout",
     "output_type": "stream",
     "text": [
      "Plotting ROC Curve\n",
      "Generating report\n"
     ]
    }
   ],
   "source": [
    "files = glob.glob(\"../data/{}/{}/*.tsv\".format(DATASET, FEATURES))\n",
    "for i, file in enumerate(files):\n",
    "    if os.path.getsize(file) <= 1e9:\n",
    "        FILENAME = file.split(\"/\")[-1].replace(\".tsv\", \"\")\n",
    "        print(FILENAME)\n",
    "        OUTDIR=\"../results/phrase/{}/{}\".format(MODEL, FILENAME)\n",
    "        if not os.path.exists(OUTDIR):\n",
    "            os.makedirs(OUTDIR)\n",
    "    \n",
    "        data = pd.read_csv(\"../data/{}/{}/{}.tsv\".format(DATASET, FEATURES, FILENAME), sep=\"\\t\", low_memory=False)\n",
    "        x_cols = data.columns[data.columns.str.contains(\"((e.*|E.*|g.*|G.*)_)+\")]\n",
    "\n",
    "        # Use Joe's labels\n",
    "        data[\"LABEL\"] = np.nan\n",
    "        data[\"LABEL\"] = np.where(data[\"NONFUNC-<0.625\"]==\"True\", 0, np.nan)\n",
    "        data[\"LABEL\"] = np.where(data[\"FUNC->0.685\"]==\"True\", 1, data[\"LABEL\"])\n",
    "\n",
    "        if 'ACT_SumRNA_LenDNA_LOG2_NORM' in x_cols:\n",
    "            x_cols = x_cols.drop('ACT_SumRNA_LenDNA_LOG2_NORM')\n",
    "\n",
    "        training_data = data[~data[\"LABEL\"].isna()]\n",
    "        X = training_data[x_cols].values\n",
    "        y = training_data[\"LABEL\"].values\n",
    "\n",
    "        X_train, X_test, y_train, y_test = split_train_test(X, y, split=SPLIT, subset=SUBSET, rand_state=13, shuf=True)\n",
    "\n",
    "        X_train, X_test = standardize_features(X_train, X_test)\n",
    "\n",
    "        X_train = pd.DataFrame(X_train, columns=x_cols)\n",
    "        y_train = pd.Series(y_train, name=\"FUNCTION\")\n",
    "\n",
    "        log_reg = sm.Logit(y_train, sm.tools.add_constant(X_train, has_constant=\"add\"))\n",
    "        res = log_reg.fit_regularized()\n",
    "\n",
    "        # Get the classification results on validation set\n",
    "        prob_thresh = 0.5\n",
    "        y_tr_probs = res.predict(sm.tools.add_constant(X_train, has_constant=\"add\"))\n",
    "        y_probs = res.predict(sm.tools.add_constant(X_test, has_constant=\"add\"))\n",
    "        y_tr_preds = (y_tr_probs >= prob_thresh).astype(int)\n",
    "        y_preds = (y_probs >= prob_thresh).astype(int)\n",
    "\n",
    "        # Generate a report\n",
    "        classification_report(out_path=\"../results/phrase/{0}/{1}\".format(MODEL, FILENAME),\n",
    "                                            train_X=X_train, test_X=X_test, \n",
    "                                            train_y=y_train, test_y=y_test,\n",
    "                                            train_preds=y_tr_preds, test_preds=y_preds,\n",
    "                                            train_probs=y_tr_probs, test_probs=y_probs)\n",
    "        \n",
    "        pd.DataFrame(data={\"coefficient\": res.params, \"p_value\": res.pvalues}).to_csv(os.path.join(OUTDIR, \"coefficients.tsv\"), sep=\"\\t\")\n",
    "        \n",
    "    if i==5:\n",
    "        break"
   ]
  },
  {
   "cell_type": "markdown",
   "id": "2ea68df5-473e-4428-a214-abac7f48d542",
   "metadata": {
    "tags": []
   },
   "source": [
    "# Load data"
   ]
  },
  {
   "cell_type": "code",
   "execution_count": 3,
   "id": "baabdbac-c551-474c-aa96-08b2eff8ec9d",
   "metadata": {
    "execution": {
     "iopub.execute_input": "2022-04-22T00:42:26.906321Z",
     "iopub.status.busy": "2022-04-22T00:42:26.906214Z",
     "iopub.status.idle": "2022-04-22T00:42:28.061434Z",
     "shell.execute_reply": "2022-04-22T00:42:28.061049Z",
     "shell.execute_reply.started": "2022-04-22T00:42:26.906306Z"
    },
    "tags": []
   },
   "outputs": [],
   "source": [
    "# Define data details\n",
    "PHRASE = \"ord_ori_spc\"\n",
    "COUNTS = True\n",
    "LEN = 2\n",
    "FILENAME = \"parse_{0}_{1}_weightedByCount_{2}\".format(PHRASE, LEN, COUNTS)\n",
    "OUTDIR=\"../results/phrase/{}/{}\".format(MODEL, FILENAME)\n",
    "if not os.path.exists(OUTDIR):\n",
    "    os.makedirs(OUTDIR)"
   ]
  },
  {
   "cell_type": "code",
   "execution_count": 4,
   "id": "26db5d96-cd74-447a-a5da-00162989a0f5",
   "metadata": {
    "execution": {
     "iopub.execute_input": "2022-04-22T00:42:28.062104Z",
     "iopub.status.busy": "2022-04-22T00:42:28.062000Z",
     "iopub.status.idle": "2022-04-22T00:42:49.854333Z",
     "shell.execute_reply": "2022-04-22T00:42:49.853885Z",
     "shell.execute_reply.started": "2022-04-22T00:42:28.062090Z"
    },
    "tags": []
   },
   "outputs": [
    {
     "name": "stderr",
     "output_type": "stream",
     "text": [
      "/cellar/users/aklie/opt/miniconda3/envs/ml_env/lib/python3.8/site-packages/pandas/core/strings/accessor.py:101: UserWarning: This pattern has match groups. To actually get the groups, use str.extract.\n",
      "  return func(self, *args, **kwargs)\n"
     ]
    }
   ],
   "source": [
    "data = pd.read_csv(\"../data/{}/{}/{}.tsv\".format(DATASET, FEATURES, FILENAME), sep=\"\\t\", low_memory=False)\n",
    "x_cols = data.columns[data.columns.str.contains(\"((e.*|E.*|g.*|G.*)_)+\")]\n",
    "\n",
    "# Use Joe's labels\n",
    "data[\"LABEL\"] = np.nan\n",
    "data[\"LABEL\"] = np.where(data[\"NONFUNC-<0.625\"]==\"True\", 0, np.nan)\n",
    "data[\"LABEL\"] = np.where(data[\"FUNC->0.685\"]==\"True\", 1, data[\"LABEL\"])\n",
    "\n",
    "if 'ACT_SumRNA_LenDNA_LOG2_NORM' in x_cols:\n",
    "    x_cols = x_cols.drop('ACT_SumRNA_LenDNA_LOG2_NORM')\n",
    "\n",
    "training_data = data[~data[\"LABEL\"].isna()]\n",
    "X = training_data[x_cols].values\n",
    "y = training_data[\"LABEL\"].values\n",
    "\n",
    "X_train, X_test, y_train, y_test = split_train_test(X, y, split=SPLIT, subset=SUBSET, rand_state=13, shuf=True)\n",
    "\n",
    "X_train, X_test = standardize_features(X_train, X_test)\n",
    "\n",
    "X_train = pd.DataFrame(X_train, columns=x_cols)\n",
    "y_train = pd.Series(y_train, name=\"FUNCTION\")"
   ]
  },
  {
   "cell_type": "code",
   "execution_count": 5,
   "id": "1d63adc8-fddf-487c-826b-e4dab2ed2d32",
   "metadata": {
    "execution": {
     "iopub.execute_input": "2022-04-22T00:43:23.224214Z",
     "iopub.status.busy": "2022-04-22T00:43:23.224044Z",
     "iopub.status.idle": "2022-04-22T00:43:24.105151Z",
     "shell.execute_reply": "2022-04-22T00:43:24.104793Z",
     "shell.execute_reply.started": "2022-04-22T00:43:23.224198Z"
    }
   },
   "outputs": [],
   "source": [
    "from statsmodels.stats.outliers_influence import variance_inflation_factor"
   ]
  },
  {
   "cell_type": "code",
   "execution_count": 9,
   "id": "2a9e5a5e-92f5-4fe2-ab38-5f900dde198f",
   "metadata": {
    "execution": {
     "iopub.execute_input": "2022-04-22T00:46:09.046436Z",
     "iopub.status.busy": "2022-04-22T00:46:09.046269Z",
     "iopub.status.idle": "2022-04-22T00:56:04.510467Z",
     "shell.execute_reply": "2022-04-22T00:56:04.509881Z",
     "shell.execute_reply.started": "2022-04-22T00:46:09.046420Z"
    },
    "tags": []
   },
   "outputs": [
    {
     "ename": "KeyboardInterrupt",
     "evalue": "",
     "output_type": "error",
     "traceback": [
      "\u001b[0;31m---------------------------------------------------------------------------\u001b[0m",
      "\u001b[0;31mKeyboardInterrupt\u001b[0m                         Traceback (most recent call last)",
      "\u001b[0;32m<ipython-input-9-ff9414410fd1>\u001b[0m in \u001b[0;36m<module>\u001b[0;34m\u001b[0m\n\u001b[1;32m      1\u001b[0m \u001b[0mvif_info\u001b[0m \u001b[0;34m=\u001b[0m \u001b[0mpd\u001b[0m\u001b[0;34m.\u001b[0m\u001b[0mDataFrame\u001b[0m\u001b[0;34m(\u001b[0m\u001b[0;34m)\u001b[0m\u001b[0;34m\u001b[0m\u001b[0;34m\u001b[0m\u001b[0m\n\u001b[0;32m----> 2\u001b[0;31m \u001b[0mvif_info\u001b[0m\u001b[0;34m[\u001b[0m\u001b[0;34m'VIF'\u001b[0m\u001b[0;34m]\u001b[0m \u001b[0;34m=\u001b[0m \u001b[0;34m[\u001b[0m\u001b[0mvariance_inflation_factor\u001b[0m\u001b[0;34m(\u001b[0m\u001b[0mX\u001b[0m\u001b[0;34m,\u001b[0m \u001b[0mi\u001b[0m\u001b[0;34m)\u001b[0m \u001b[0;32mfor\u001b[0m \u001b[0mi\u001b[0m \u001b[0;32min\u001b[0m \u001b[0mrange\u001b[0m\u001b[0;34m(\u001b[0m\u001b[0mX\u001b[0m\u001b[0;34m.\u001b[0m\u001b[0mshape\u001b[0m\u001b[0;34m[\u001b[0m\u001b[0;36m1\u001b[0m\u001b[0;34m]\u001b[0m\u001b[0;34m)\u001b[0m\u001b[0;34m]\u001b[0m\u001b[0;34m\u001b[0m\u001b[0;34m\u001b[0m\u001b[0m\n\u001b[0m\u001b[1;32m      3\u001b[0m \u001b[0mvif_info\u001b[0m\u001b[0;34m[\u001b[0m\u001b[0;34m'Column'\u001b[0m\u001b[0;34m]\u001b[0m \u001b[0;34m=\u001b[0m \u001b[0mX\u001b[0m\u001b[0;34m.\u001b[0m\u001b[0mcolumns\u001b[0m\u001b[0;34m\u001b[0m\u001b[0;34m\u001b[0m\u001b[0m\n\u001b[1;32m      4\u001b[0m \u001b[0mvif_info\u001b[0m\u001b[0;34m.\u001b[0m\u001b[0msort_values\u001b[0m\u001b[0;34m(\u001b[0m\u001b[0;34m'VIF'\u001b[0m\u001b[0;34m,\u001b[0m \u001b[0mascending\u001b[0m\u001b[0;34m=\u001b[0m\u001b[0;32mFalse\u001b[0m\u001b[0;34m)\u001b[0m\u001b[0;34m\u001b[0m\u001b[0;34m\u001b[0m\u001b[0m\n",
      "\u001b[0;32m<ipython-input-9-ff9414410fd1>\u001b[0m in \u001b[0;36m<listcomp>\u001b[0;34m(.0)\u001b[0m\n\u001b[1;32m      1\u001b[0m \u001b[0mvif_info\u001b[0m \u001b[0;34m=\u001b[0m \u001b[0mpd\u001b[0m\u001b[0;34m.\u001b[0m\u001b[0mDataFrame\u001b[0m\u001b[0;34m(\u001b[0m\u001b[0;34m)\u001b[0m\u001b[0;34m\u001b[0m\u001b[0;34m\u001b[0m\u001b[0m\n\u001b[0;32m----> 2\u001b[0;31m \u001b[0mvif_info\u001b[0m\u001b[0;34m[\u001b[0m\u001b[0;34m'VIF'\u001b[0m\u001b[0;34m]\u001b[0m \u001b[0;34m=\u001b[0m \u001b[0;34m[\u001b[0m\u001b[0mvariance_inflation_factor\u001b[0m\u001b[0;34m(\u001b[0m\u001b[0mX\u001b[0m\u001b[0;34m,\u001b[0m \u001b[0mi\u001b[0m\u001b[0;34m)\u001b[0m \u001b[0;32mfor\u001b[0m \u001b[0mi\u001b[0m \u001b[0;32min\u001b[0m \u001b[0mrange\u001b[0m\u001b[0;34m(\u001b[0m\u001b[0mX\u001b[0m\u001b[0;34m.\u001b[0m\u001b[0mshape\u001b[0m\u001b[0;34m[\u001b[0m\u001b[0;36m1\u001b[0m\u001b[0;34m]\u001b[0m\u001b[0;34m)\u001b[0m\u001b[0;34m]\u001b[0m\u001b[0;34m\u001b[0m\u001b[0;34m\u001b[0m\u001b[0m\n\u001b[0m\u001b[1;32m      3\u001b[0m \u001b[0mvif_info\u001b[0m\u001b[0;34m[\u001b[0m\u001b[0;34m'Column'\u001b[0m\u001b[0;34m]\u001b[0m \u001b[0;34m=\u001b[0m \u001b[0mX\u001b[0m\u001b[0;34m.\u001b[0m\u001b[0mcolumns\u001b[0m\u001b[0;34m\u001b[0m\u001b[0;34m\u001b[0m\u001b[0m\n\u001b[1;32m      4\u001b[0m \u001b[0mvif_info\u001b[0m\u001b[0;34m.\u001b[0m\u001b[0msort_values\u001b[0m\u001b[0;34m(\u001b[0m\u001b[0;34m'VIF'\u001b[0m\u001b[0;34m,\u001b[0m \u001b[0mascending\u001b[0m\u001b[0;34m=\u001b[0m\u001b[0;32mFalse\u001b[0m\u001b[0;34m)\u001b[0m\u001b[0;34m\u001b[0m\u001b[0;34m\u001b[0m\u001b[0m\n",
      "\u001b[0;32m~/opt/miniconda3/envs/ml_env/lib/python3.8/site-packages/statsmodels/stats/outliers_influence.py\u001b[0m in \u001b[0;36mvariance_inflation_factor\u001b[0;34m(exog, exog_idx)\u001b[0m\n\u001b[1;32m    190\u001b[0m     \u001b[0mmask\u001b[0m \u001b[0;34m=\u001b[0m \u001b[0mnp\u001b[0m\u001b[0;34m.\u001b[0m\u001b[0marange\u001b[0m\u001b[0;34m(\u001b[0m\u001b[0mk_vars\u001b[0m\u001b[0;34m)\u001b[0m \u001b[0;34m!=\u001b[0m \u001b[0mexog_idx\u001b[0m\u001b[0;34m\u001b[0m\u001b[0;34m\u001b[0m\u001b[0m\n\u001b[1;32m    191\u001b[0m     \u001b[0mx_noti\u001b[0m \u001b[0;34m=\u001b[0m \u001b[0mexog\u001b[0m\u001b[0;34m[\u001b[0m\u001b[0;34m:\u001b[0m\u001b[0;34m,\u001b[0m \u001b[0mmask\u001b[0m\u001b[0;34m]\u001b[0m\u001b[0;34m\u001b[0m\u001b[0;34m\u001b[0m\u001b[0m\n\u001b[0;32m--> 192\u001b[0;31m     \u001b[0mr_squared_i\u001b[0m \u001b[0;34m=\u001b[0m \u001b[0mOLS\u001b[0m\u001b[0;34m(\u001b[0m\u001b[0mx_i\u001b[0m\u001b[0;34m,\u001b[0m \u001b[0mx_noti\u001b[0m\u001b[0;34m)\u001b[0m\u001b[0;34m.\u001b[0m\u001b[0mfit\u001b[0m\u001b[0;34m(\u001b[0m\u001b[0;34m)\u001b[0m\u001b[0;34m.\u001b[0m\u001b[0mrsquared\u001b[0m\u001b[0;34m\u001b[0m\u001b[0;34m\u001b[0m\u001b[0m\n\u001b[0m\u001b[1;32m    193\u001b[0m     \u001b[0mvif\u001b[0m \u001b[0;34m=\u001b[0m \u001b[0;36m1.\u001b[0m \u001b[0;34m/\u001b[0m \u001b[0;34m(\u001b[0m\u001b[0;36m1.\u001b[0m \u001b[0;34m-\u001b[0m \u001b[0mr_squared_i\u001b[0m\u001b[0;34m)\u001b[0m\u001b[0;34m\u001b[0m\u001b[0;34m\u001b[0m\u001b[0m\n\u001b[1;32m    194\u001b[0m     \u001b[0;32mreturn\u001b[0m \u001b[0mvif\u001b[0m\u001b[0;34m\u001b[0m\u001b[0;34m\u001b[0m\u001b[0m\n",
      "\u001b[0;32m~/opt/miniconda3/envs/ml_env/lib/python3.8/site-packages/statsmodels/regression/linear_model.py\u001b[0m in \u001b[0;36m__init__\u001b[0;34m(self, endog, exog, missing, hasconst, **kwargs)\u001b[0m\n\u001b[1;32m    870\u001b[0m     def __init__(self, endog, exog=None, missing='none', hasconst=None,\n\u001b[1;32m    871\u001b[0m                  **kwargs):\n\u001b[0;32m--> 872\u001b[0;31m         super(OLS, self).__init__(endog, exog, missing=missing,\n\u001b[0m\u001b[1;32m    873\u001b[0m                                   hasconst=hasconst, **kwargs)\n\u001b[1;32m    874\u001b[0m         \u001b[0;32mif\u001b[0m \u001b[0;34m\"weights\"\u001b[0m \u001b[0;32min\u001b[0m \u001b[0mself\u001b[0m\u001b[0;34m.\u001b[0m\u001b[0m_init_keys\u001b[0m\u001b[0;34m:\u001b[0m\u001b[0;34m\u001b[0m\u001b[0;34m\u001b[0m\u001b[0m\n",
      "\u001b[0;32m~/opt/miniconda3/envs/ml_env/lib/python3.8/site-packages/statsmodels/regression/linear_model.py\u001b[0m in \u001b[0;36m__init__\u001b[0;34m(self, endog, exog, weights, missing, hasconst, **kwargs)\u001b[0m\n\u001b[1;32m    701\u001b[0m         \u001b[0;32melse\u001b[0m\u001b[0;34m:\u001b[0m\u001b[0;34m\u001b[0m\u001b[0;34m\u001b[0m\u001b[0m\n\u001b[1;32m    702\u001b[0m             \u001b[0mweights\u001b[0m \u001b[0;34m=\u001b[0m \u001b[0mweights\u001b[0m\u001b[0;34m.\u001b[0m\u001b[0msqueeze\u001b[0m\u001b[0;34m(\u001b[0m\u001b[0;34m)\u001b[0m\u001b[0;34m\u001b[0m\u001b[0;34m\u001b[0m\u001b[0m\n\u001b[0;32m--> 703\u001b[0;31m         super(WLS, self).__init__(endog, exog, missing=missing,\n\u001b[0m\u001b[1;32m    704\u001b[0m                                   weights=weights, hasconst=hasconst, **kwargs)\n\u001b[1;32m    705\u001b[0m         \u001b[0mnobs\u001b[0m \u001b[0;34m=\u001b[0m \u001b[0mself\u001b[0m\u001b[0;34m.\u001b[0m\u001b[0mexog\u001b[0m\u001b[0;34m.\u001b[0m\u001b[0mshape\u001b[0m\u001b[0;34m[\u001b[0m\u001b[0;36m0\u001b[0m\u001b[0;34m]\u001b[0m\u001b[0;34m\u001b[0m\u001b[0;34m\u001b[0m\u001b[0m\n",
      "\u001b[0;32m~/opt/miniconda3/envs/ml_env/lib/python3.8/site-packages/statsmodels/regression/linear_model.py\u001b[0m in \u001b[0;36m__init__\u001b[0;34m(self, endog, exog, **kwargs)\u001b[0m\n\u001b[1;32m    188\u001b[0m     \"\"\"\n\u001b[1;32m    189\u001b[0m     \u001b[0;32mdef\u001b[0m \u001b[0m__init__\u001b[0m\u001b[0;34m(\u001b[0m\u001b[0mself\u001b[0m\u001b[0;34m,\u001b[0m \u001b[0mendog\u001b[0m\u001b[0;34m,\u001b[0m \u001b[0mexog\u001b[0m\u001b[0;34m,\u001b[0m \u001b[0;34m**\u001b[0m\u001b[0mkwargs\u001b[0m\u001b[0;34m)\u001b[0m\u001b[0;34m:\u001b[0m\u001b[0;34m\u001b[0m\u001b[0;34m\u001b[0m\u001b[0m\n\u001b[0;32m--> 190\u001b[0;31m         \u001b[0msuper\u001b[0m\u001b[0;34m(\u001b[0m\u001b[0mRegressionModel\u001b[0m\u001b[0;34m,\u001b[0m \u001b[0mself\u001b[0m\u001b[0;34m)\u001b[0m\u001b[0;34m.\u001b[0m\u001b[0m__init__\u001b[0m\u001b[0;34m(\u001b[0m\u001b[0mendog\u001b[0m\u001b[0;34m,\u001b[0m \u001b[0mexog\u001b[0m\u001b[0;34m,\u001b[0m \u001b[0;34m**\u001b[0m\u001b[0mkwargs\u001b[0m\u001b[0;34m)\u001b[0m\u001b[0;34m\u001b[0m\u001b[0;34m\u001b[0m\u001b[0m\n\u001b[0m\u001b[1;32m    191\u001b[0m         \u001b[0mself\u001b[0m\u001b[0;34m.\u001b[0m\u001b[0m_data_attr\u001b[0m\u001b[0;34m.\u001b[0m\u001b[0mextend\u001b[0m\u001b[0;34m(\u001b[0m\u001b[0;34m[\u001b[0m\u001b[0;34m'pinv_wexog'\u001b[0m\u001b[0;34m,\u001b[0m \u001b[0;34m'weights'\u001b[0m\u001b[0;34m]\u001b[0m\u001b[0;34m)\u001b[0m\u001b[0;34m\u001b[0m\u001b[0;34m\u001b[0m\u001b[0m\n\u001b[1;32m    192\u001b[0m \u001b[0;34m\u001b[0m\u001b[0m\n",
      "\u001b[0;32m~/opt/miniconda3/envs/ml_env/lib/python3.8/site-packages/statsmodels/base/model.py\u001b[0m in \u001b[0;36m__init__\u001b[0;34m(self, endog, exog, **kwargs)\u001b[0m\n\u001b[1;32m    235\u001b[0m \u001b[0;34m\u001b[0m\u001b[0m\n\u001b[1;32m    236\u001b[0m     \u001b[0;32mdef\u001b[0m \u001b[0m__init__\u001b[0m\u001b[0;34m(\u001b[0m\u001b[0mself\u001b[0m\u001b[0;34m,\u001b[0m \u001b[0mendog\u001b[0m\u001b[0;34m,\u001b[0m \u001b[0mexog\u001b[0m\u001b[0;34m=\u001b[0m\u001b[0;32mNone\u001b[0m\u001b[0;34m,\u001b[0m \u001b[0;34m**\u001b[0m\u001b[0mkwargs\u001b[0m\u001b[0;34m)\u001b[0m\u001b[0;34m:\u001b[0m\u001b[0;34m\u001b[0m\u001b[0;34m\u001b[0m\u001b[0m\n\u001b[0;32m--> 237\u001b[0;31m         \u001b[0msuper\u001b[0m\u001b[0;34m(\u001b[0m\u001b[0mLikelihoodModel\u001b[0m\u001b[0;34m,\u001b[0m \u001b[0mself\u001b[0m\u001b[0;34m)\u001b[0m\u001b[0;34m.\u001b[0m\u001b[0m__init__\u001b[0m\u001b[0;34m(\u001b[0m\u001b[0mendog\u001b[0m\u001b[0;34m,\u001b[0m \u001b[0mexog\u001b[0m\u001b[0;34m,\u001b[0m \u001b[0;34m**\u001b[0m\u001b[0mkwargs\u001b[0m\u001b[0;34m)\u001b[0m\u001b[0;34m\u001b[0m\u001b[0;34m\u001b[0m\u001b[0m\n\u001b[0m\u001b[1;32m    238\u001b[0m         \u001b[0mself\u001b[0m\u001b[0;34m.\u001b[0m\u001b[0minitialize\u001b[0m\u001b[0;34m(\u001b[0m\u001b[0;34m)\u001b[0m\u001b[0;34m\u001b[0m\u001b[0;34m\u001b[0m\u001b[0m\n\u001b[1;32m    239\u001b[0m \u001b[0;34m\u001b[0m\u001b[0m\n",
      "\u001b[0;32m~/opt/miniconda3/envs/ml_env/lib/python3.8/site-packages/statsmodels/base/model.py\u001b[0m in \u001b[0;36m__init__\u001b[0;34m(self, endog, exog, **kwargs)\u001b[0m\n\u001b[1;32m     75\u001b[0m         \u001b[0mmissing\u001b[0m \u001b[0;34m=\u001b[0m \u001b[0mkwargs\u001b[0m\u001b[0;34m.\u001b[0m\u001b[0mpop\u001b[0m\u001b[0;34m(\u001b[0m\u001b[0;34m'missing'\u001b[0m\u001b[0;34m,\u001b[0m \u001b[0;34m'none'\u001b[0m\u001b[0;34m)\u001b[0m\u001b[0;34m\u001b[0m\u001b[0;34m\u001b[0m\u001b[0m\n\u001b[1;32m     76\u001b[0m         \u001b[0mhasconst\u001b[0m \u001b[0;34m=\u001b[0m \u001b[0mkwargs\u001b[0m\u001b[0;34m.\u001b[0m\u001b[0mpop\u001b[0m\u001b[0;34m(\u001b[0m\u001b[0;34m'hasconst'\u001b[0m\u001b[0;34m,\u001b[0m \u001b[0;32mNone\u001b[0m\u001b[0;34m)\u001b[0m\u001b[0;34m\u001b[0m\u001b[0;34m\u001b[0m\u001b[0m\n\u001b[0;32m---> 77\u001b[0;31m         self.data = self._handle_data(endog, exog, missing, hasconst,\n\u001b[0m\u001b[1;32m     78\u001b[0m                                       **kwargs)\n\u001b[1;32m     79\u001b[0m         \u001b[0mself\u001b[0m\u001b[0;34m.\u001b[0m\u001b[0mk_constant\u001b[0m \u001b[0;34m=\u001b[0m \u001b[0mself\u001b[0m\u001b[0;34m.\u001b[0m\u001b[0mdata\u001b[0m\u001b[0;34m.\u001b[0m\u001b[0mk_constant\u001b[0m\u001b[0;34m\u001b[0m\u001b[0;34m\u001b[0m\u001b[0m\n",
      "\u001b[0;32m~/opt/miniconda3/envs/ml_env/lib/python3.8/site-packages/statsmodels/base/model.py\u001b[0m in \u001b[0;36m_handle_data\u001b[0;34m(self, endog, exog, missing, hasconst, **kwargs)\u001b[0m\n\u001b[1;32m     99\u001b[0m \u001b[0;34m\u001b[0m\u001b[0m\n\u001b[1;32m    100\u001b[0m     \u001b[0;32mdef\u001b[0m \u001b[0m_handle_data\u001b[0m\u001b[0;34m(\u001b[0m\u001b[0mself\u001b[0m\u001b[0;34m,\u001b[0m \u001b[0mendog\u001b[0m\u001b[0;34m,\u001b[0m \u001b[0mexog\u001b[0m\u001b[0;34m,\u001b[0m \u001b[0mmissing\u001b[0m\u001b[0;34m,\u001b[0m \u001b[0mhasconst\u001b[0m\u001b[0;34m,\u001b[0m \u001b[0;34m**\u001b[0m\u001b[0mkwargs\u001b[0m\u001b[0;34m)\u001b[0m\u001b[0;34m:\u001b[0m\u001b[0;34m\u001b[0m\u001b[0;34m\u001b[0m\u001b[0m\n\u001b[0;32m--> 101\u001b[0;31m         \u001b[0mdata\u001b[0m \u001b[0;34m=\u001b[0m \u001b[0mhandle_data\u001b[0m\u001b[0;34m(\u001b[0m\u001b[0mendog\u001b[0m\u001b[0;34m,\u001b[0m \u001b[0mexog\u001b[0m\u001b[0;34m,\u001b[0m \u001b[0mmissing\u001b[0m\u001b[0;34m,\u001b[0m \u001b[0mhasconst\u001b[0m\u001b[0;34m,\u001b[0m \u001b[0;34m**\u001b[0m\u001b[0mkwargs\u001b[0m\u001b[0;34m)\u001b[0m\u001b[0;34m\u001b[0m\u001b[0;34m\u001b[0m\u001b[0m\n\u001b[0m\u001b[1;32m    102\u001b[0m         \u001b[0;31m# kwargs arrays could have changed, easier to just attach here\u001b[0m\u001b[0;34m\u001b[0m\u001b[0;34m\u001b[0m\u001b[0;34m\u001b[0m\u001b[0m\n\u001b[1;32m    103\u001b[0m         \u001b[0;32mfor\u001b[0m \u001b[0mkey\u001b[0m \u001b[0;32min\u001b[0m \u001b[0mkwargs\u001b[0m\u001b[0;34m:\u001b[0m\u001b[0;34m\u001b[0m\u001b[0;34m\u001b[0m\u001b[0m\n",
      "\u001b[0;32m~/opt/miniconda3/envs/ml_env/lib/python3.8/site-packages/statsmodels/base/data.py\u001b[0m in \u001b[0;36mhandle_data\u001b[0;34m(endog, exog, missing, hasconst, **kwargs)\u001b[0m\n\u001b[1;32m    670\u001b[0m \u001b[0;34m\u001b[0m\u001b[0m\n\u001b[1;32m    671\u001b[0m     \u001b[0mklass\u001b[0m \u001b[0;34m=\u001b[0m \u001b[0mhandle_data_class_factory\u001b[0m\u001b[0;34m(\u001b[0m\u001b[0mendog\u001b[0m\u001b[0;34m,\u001b[0m \u001b[0mexog\u001b[0m\u001b[0;34m)\u001b[0m\u001b[0;34m\u001b[0m\u001b[0;34m\u001b[0m\u001b[0m\n\u001b[0;32m--> 672\u001b[0;31m     return klass(endog, exog=exog, missing=missing, hasconst=hasconst,\n\u001b[0m\u001b[1;32m    673\u001b[0m                  **kwargs)\n",
      "\u001b[0;32m~/opt/miniconda3/envs/ml_env/lib/python3.8/site-packages/statsmodels/base/data.py\u001b[0m in \u001b[0;36m__init__\u001b[0;34m(self, endog, exog, missing, hasconst, **kwargs)\u001b[0m\n\u001b[1;32m     85\u001b[0m         \u001b[0mself\u001b[0m\u001b[0;34m.\u001b[0m\u001b[0mconst_idx\u001b[0m \u001b[0;34m=\u001b[0m \u001b[0;32mNone\u001b[0m\u001b[0;34m\u001b[0m\u001b[0;34m\u001b[0m\u001b[0m\n\u001b[1;32m     86\u001b[0m         \u001b[0mself\u001b[0m\u001b[0;34m.\u001b[0m\u001b[0mk_constant\u001b[0m \u001b[0;34m=\u001b[0m \u001b[0;36m0\u001b[0m\u001b[0;34m\u001b[0m\u001b[0;34m\u001b[0m\u001b[0m\n\u001b[0;32m---> 87\u001b[0;31m         \u001b[0mself\u001b[0m\u001b[0;34m.\u001b[0m\u001b[0m_handle_constant\u001b[0m\u001b[0;34m(\u001b[0m\u001b[0mhasconst\u001b[0m\u001b[0;34m)\u001b[0m\u001b[0;34m\u001b[0m\u001b[0;34m\u001b[0m\u001b[0m\n\u001b[0m\u001b[1;32m     88\u001b[0m         \u001b[0mself\u001b[0m\u001b[0;34m.\u001b[0m\u001b[0m_check_integrity\u001b[0m\u001b[0;34m(\u001b[0m\u001b[0;34m)\u001b[0m\u001b[0;34m\u001b[0m\u001b[0;34m\u001b[0m\u001b[0m\n\u001b[1;32m     89\u001b[0m         \u001b[0mself\u001b[0m\u001b[0;34m.\u001b[0m\u001b[0m_cache\u001b[0m \u001b[0;34m=\u001b[0m \u001b[0;34m{\u001b[0m\u001b[0;34m}\u001b[0m\u001b[0;34m\u001b[0m\u001b[0;34m\u001b[0m\u001b[0m\n",
      "\u001b[0;32m~/opt/miniconda3/envs/ml_env/lib/python3.8/site-packages/statsmodels/base/data.py\u001b[0m in \u001b[0;36m_handle_constant\u001b[0;34m(self, hasconst)\u001b[0m\n\u001b[1;32m    174\u001b[0m                 augmented_exog = np.column_stack(\n\u001b[1;32m    175\u001b[0m                             (np.ones(self.exog.shape[0]), self.exog))\n\u001b[0;32m--> 176\u001b[0;31m                 \u001b[0mrank_augm\u001b[0m \u001b[0;34m=\u001b[0m \u001b[0mnp\u001b[0m\u001b[0;34m.\u001b[0m\u001b[0mlinalg\u001b[0m\u001b[0;34m.\u001b[0m\u001b[0mmatrix_rank\u001b[0m\u001b[0;34m(\u001b[0m\u001b[0maugmented_exog\u001b[0m\u001b[0;34m)\u001b[0m\u001b[0;34m\u001b[0m\u001b[0;34m\u001b[0m\u001b[0m\n\u001b[0m\u001b[1;32m    177\u001b[0m                 \u001b[0mrank_orig\u001b[0m \u001b[0;34m=\u001b[0m \u001b[0mnp\u001b[0m\u001b[0;34m.\u001b[0m\u001b[0mlinalg\u001b[0m\u001b[0;34m.\u001b[0m\u001b[0mmatrix_rank\u001b[0m\u001b[0;34m(\u001b[0m\u001b[0mself\u001b[0m\u001b[0;34m.\u001b[0m\u001b[0mexog\u001b[0m\u001b[0;34m)\u001b[0m\u001b[0;34m\u001b[0m\u001b[0;34m\u001b[0m\u001b[0m\n\u001b[1;32m    178\u001b[0m                 \u001b[0mself\u001b[0m\u001b[0;34m.\u001b[0m\u001b[0mk_constant\u001b[0m \u001b[0;34m=\u001b[0m \u001b[0mint\u001b[0m\u001b[0;34m(\u001b[0m\u001b[0mrank_orig\u001b[0m \u001b[0;34m==\u001b[0m \u001b[0mrank_augm\u001b[0m\u001b[0;34m)\u001b[0m\u001b[0;34m\u001b[0m\u001b[0;34m\u001b[0m\u001b[0m\n",
      "\u001b[0;32m<__array_function__ internals>\u001b[0m in \u001b[0;36mmatrix_rank\u001b[0;34m(*args, **kwargs)\u001b[0m\n",
      "\u001b[0;32m~/opt/miniconda3/envs/ml_env/lib/python3.8/site-packages/numpy/linalg/linalg.py\u001b[0m in \u001b[0;36mmatrix_rank\u001b[0;34m(M, tol, hermitian)\u001b[0m\n\u001b[1;32m   1899\u001b[0m     \u001b[0;32mif\u001b[0m \u001b[0mM\u001b[0m\u001b[0;34m.\u001b[0m\u001b[0mndim\u001b[0m \u001b[0;34m<\u001b[0m \u001b[0;36m2\u001b[0m\u001b[0;34m:\u001b[0m\u001b[0;34m\u001b[0m\u001b[0;34m\u001b[0m\u001b[0m\n\u001b[1;32m   1900\u001b[0m         \u001b[0;32mreturn\u001b[0m \u001b[0mint\u001b[0m\u001b[0;34m(\u001b[0m\u001b[0;32mnot\u001b[0m \u001b[0mall\u001b[0m\u001b[0;34m(\u001b[0m\u001b[0mM\u001b[0m\u001b[0;34m==\u001b[0m\u001b[0;36m0\u001b[0m\u001b[0;34m)\u001b[0m\u001b[0;34m)\u001b[0m\u001b[0;34m\u001b[0m\u001b[0;34m\u001b[0m\u001b[0m\n\u001b[0;32m-> 1901\u001b[0;31m     \u001b[0mS\u001b[0m \u001b[0;34m=\u001b[0m \u001b[0msvd\u001b[0m\u001b[0;34m(\u001b[0m\u001b[0mM\u001b[0m\u001b[0;34m,\u001b[0m \u001b[0mcompute_uv\u001b[0m\u001b[0;34m=\u001b[0m\u001b[0;32mFalse\u001b[0m\u001b[0;34m,\u001b[0m \u001b[0mhermitian\u001b[0m\u001b[0;34m=\u001b[0m\u001b[0mhermitian\u001b[0m\u001b[0;34m)\u001b[0m\u001b[0;34m\u001b[0m\u001b[0;34m\u001b[0m\u001b[0m\n\u001b[0m\u001b[1;32m   1902\u001b[0m     \u001b[0;32mif\u001b[0m \u001b[0mtol\u001b[0m \u001b[0;32mis\u001b[0m \u001b[0;32mNone\u001b[0m\u001b[0;34m:\u001b[0m\u001b[0;34m\u001b[0m\u001b[0;34m\u001b[0m\u001b[0m\n\u001b[1;32m   1903\u001b[0m         \u001b[0mtol\u001b[0m \u001b[0;34m=\u001b[0m \u001b[0mS\u001b[0m\u001b[0;34m.\u001b[0m\u001b[0mmax\u001b[0m\u001b[0;34m(\u001b[0m\u001b[0maxis\u001b[0m\u001b[0;34m=\u001b[0m\u001b[0;34m-\u001b[0m\u001b[0;36m1\u001b[0m\u001b[0;34m,\u001b[0m \u001b[0mkeepdims\u001b[0m\u001b[0;34m=\u001b[0m\u001b[0;32mTrue\u001b[0m\u001b[0;34m)\u001b[0m \u001b[0;34m*\u001b[0m \u001b[0mmax\u001b[0m\u001b[0;34m(\u001b[0m\u001b[0mM\u001b[0m\u001b[0;34m.\u001b[0m\u001b[0mshape\u001b[0m\u001b[0;34m[\u001b[0m\u001b[0;34m-\u001b[0m\u001b[0;36m2\u001b[0m\u001b[0;34m:\u001b[0m\u001b[0;34m]\u001b[0m\u001b[0;34m)\u001b[0m \u001b[0;34m*\u001b[0m \u001b[0mfinfo\u001b[0m\u001b[0;34m(\u001b[0m\u001b[0mS\u001b[0m\u001b[0;34m.\u001b[0m\u001b[0mdtype\u001b[0m\u001b[0;34m)\u001b[0m\u001b[0;34m.\u001b[0m\u001b[0meps\u001b[0m\u001b[0;34m\u001b[0m\u001b[0;34m\u001b[0m\u001b[0m\n",
      "\u001b[0;32m<__array_function__ internals>\u001b[0m in \u001b[0;36msvd\u001b[0;34m(*args, **kwargs)\u001b[0m\n",
      "\u001b[0;32m~/opt/miniconda3/envs/ml_env/lib/python3.8/site-packages/numpy/linalg/linalg.py\u001b[0m in \u001b[0;36msvd\u001b[0;34m(a, full_matrices, compute_uv, hermitian)\u001b[0m\n\u001b[1;32m   1670\u001b[0m \u001b[0;34m\u001b[0m\u001b[0m\n\u001b[1;32m   1671\u001b[0m         \u001b[0msignature\u001b[0m \u001b[0;34m=\u001b[0m \u001b[0;34m'D->d'\u001b[0m \u001b[0;32mif\u001b[0m \u001b[0misComplexType\u001b[0m\u001b[0;34m(\u001b[0m\u001b[0mt\u001b[0m\u001b[0;34m)\u001b[0m \u001b[0;32melse\u001b[0m \u001b[0;34m'd->d'\u001b[0m\u001b[0;34m\u001b[0m\u001b[0;34m\u001b[0m\u001b[0m\n\u001b[0;32m-> 1672\u001b[0;31m         \u001b[0ms\u001b[0m \u001b[0;34m=\u001b[0m \u001b[0mgufunc\u001b[0m\u001b[0;34m(\u001b[0m\u001b[0ma\u001b[0m\u001b[0;34m,\u001b[0m \u001b[0msignature\u001b[0m\u001b[0;34m=\u001b[0m\u001b[0msignature\u001b[0m\u001b[0;34m,\u001b[0m \u001b[0mextobj\u001b[0m\u001b[0;34m=\u001b[0m\u001b[0mextobj\u001b[0m\u001b[0;34m)\u001b[0m\u001b[0;34m\u001b[0m\u001b[0;34m\u001b[0m\u001b[0m\n\u001b[0m\u001b[1;32m   1673\u001b[0m         \u001b[0ms\u001b[0m \u001b[0;34m=\u001b[0m \u001b[0ms\u001b[0m\u001b[0;34m.\u001b[0m\u001b[0mastype\u001b[0m\u001b[0;34m(\u001b[0m\u001b[0m_realType\u001b[0m\u001b[0;34m(\u001b[0m\u001b[0mresult_t\u001b[0m\u001b[0;34m)\u001b[0m\u001b[0;34m,\u001b[0m \u001b[0mcopy\u001b[0m\u001b[0;34m=\u001b[0m\u001b[0;32mFalse\u001b[0m\u001b[0;34m)\u001b[0m\u001b[0;34m\u001b[0m\u001b[0;34m\u001b[0m\u001b[0m\n\u001b[1;32m   1674\u001b[0m         \u001b[0;32mreturn\u001b[0m \u001b[0ms\u001b[0m\u001b[0;34m\u001b[0m\u001b[0;34m\u001b[0m\u001b[0m\n",
      "\u001b[0;31mKeyboardInterrupt\u001b[0m: "
     ]
    }
   ],
   "source": [
    "vif_info = pd.DataFrame()\n",
    "vif_info['VIF'] = [variance_inflation_factor(X, i) for i in range(X.shape[1])]\n",
    "vif_info['Column'] = X.columns\n",
    "vif_info.sort_values('VIF', ascending=False)"
   ]
  },
  {
   "cell_type": "code",
   "execution_count": null,
   "id": "0813b96c-3489-4feb-90c9-f9f76449f23e",
   "metadata": {},
   "outputs": [],
   "source": []
  },
  {
   "cell_type": "code",
   "execution_count": 94,
   "id": "35a0852a-ae70-4a62-b67b-0ca0b7ed3c7c",
   "metadata": {
    "execution": {
     "iopub.execute_input": "2022-04-21T02:32:52.349305Z",
     "iopub.status.busy": "2022-04-21T02:32:52.349175Z",
     "iopub.status.idle": "2022-04-21T02:32:53.768628Z",
     "shell.execute_reply": "2022-04-21T02:32:53.768161Z",
     "shell.execute_reply.started": "2022-04-21T02:32:52.349290Z"
    },
    "tags": []
   },
   "outputs": [
    {
     "name": "stdout",
     "output_type": "stream",
     "text": [
      "Warning: Maximum number of iterations has been exceeded.\n"
     ]
    },
    {
     "name": "stderr",
     "output_type": "stream",
     "text": [
      "/cellar/users/aklie/opt/miniconda3/envs/ml_env/lib/python3.8/site-packages/statsmodels/base/model.py:547: HessianInversionWarning: Inverting hessian failed, no bse or cov_params available\n",
      "  warnings.warn('Inverting hessian failed, no bse or cov_params '\n",
      "/cellar/users/aklie/opt/miniconda3/envs/ml_env/lib/python3.8/site-packages/statsmodels/base/model.py:566: ConvergenceWarning: Maximum Likelihood optimization failed to converge. Check mle_retvals\n",
      "  warnings.warn(\"Maximum Likelihood optimization failed to \"\n"
     ]
    }
   ],
   "source": [
    "log_reg = sm.Logit(y_train, sm.tools.add_constant(X_train, has_constant=\"add\"))\n",
    "res = log_reg.fit_regularized(alpha=0.5)"
   ]
  },
  {
   "cell_type": "code",
   "execution_count": 64,
   "id": "724a2a17-7977-43cb-8546-ed681df66486",
   "metadata": {
    "execution": {
     "iopub.execute_input": "2022-04-21T02:13:30.560249Z",
     "iopub.status.busy": "2022-04-21T02:13:30.560092Z",
     "iopub.status.idle": "2022-04-21T02:13:36.368665Z",
     "shell.execute_reply": "2022-04-21T02:13:36.368321Z",
     "shell.execute_reply.started": "2022-04-21T02:13:30.560234Z"
    }
   },
   "outputs": [
    {
     "name": "stdout",
     "output_type": "stream",
     "text": [
      "Predictions provided, skipping them\n",
      "Generating confusion matrix\n",
      "Calculating classification metrics\n",
      "Metric\tTrain\tTest\n",
      "Accuracy\t0.7312\t0.7296\n",
      "Precision\t0.6747\t0.6794\n",
      "Recall\t0.4347\t0.4353\n",
      "F0.1-Score\t0.6710\t0.6756\n",
      "F0.5-Score\t0.6076\t0.6109\n",
      "F1-Score\t0.5288\t0.5306\n",
      "F2-Score\t0.4680\t0.4690\n",
      "F10-Score\t0.4363\t0.4369\n",
      "Plotting PR Curve\n",
      "Plotting ROC Curve\n",
      "Generating report\n"
     ]
    }
   ],
   "source": [
    "# Get the classification results on validation set\n",
    "prob_thresh = 0.5\n",
    "y_tr_probs = res.predict(sm.tools.add_constant(X_train, has_constant=\"add\"))\n",
    "y_probs = res.predict(sm.tools.add_constant(X_test, has_constant=\"add\"))\n",
    "y_tr_preds = (y_tr_probs >= prob_thresh).astype(int)\n",
    "y_preds = (y_probs >= prob_thresh).astype(int)\n",
    "\n",
    "# Generate a report\n",
    "classification_report(out_path=\"../results/phrase/{0}/{1}\".format(MODEL, FILENAME),\n",
    "                                    train_X=X_train, test_X=X_test, \n",
    "                                    train_y=y_train, test_y=y_test,\n",
    "                                    train_preds=y_tr_preds, test_preds=y_preds,\n",
    "                                    train_probs=y_tr_probs, test_probs=y_probs)"
   ]
  },
  {
   "cell_type": "code",
   "execution_count": 73,
   "id": "538e73cf-7072-4e74-ad75-15ef12848564",
   "metadata": {
    "execution": {
     "iopub.execute_input": "2022-04-21T02:21:31.348855Z",
     "iopub.status.busy": "2022-04-21T02:21:31.348690Z",
     "iopub.status.idle": "2022-04-21T02:21:32.028620Z",
     "shell.execute_reply": "2022-04-21T02:21:32.028162Z",
     "shell.execute_reply.started": "2022-04-21T02:21:31.348840Z"
    },
    "tags": []
   },
   "outputs": [],
   "source": [
    "pd.DataFrame(data={\"coefficient\": res.params, \"p_value\": res.pvalues}).to_csv(os.path.join(OUTDIR, \"coefficients.tsv\"), sep=\"\\t\")"
   ]
  },
  {
   "cell_type": "markdown",
   "id": "fca4d985-b812-42a7-a91d-b63d499857cc",
   "metadata": {},
   "source": [
    "# Load results"
   ]
  },
  {
   "cell_type": "code",
   "execution_count": 10,
   "id": "431881cb-e605-47ca-9a83-375dd1712192",
   "metadata": {
    "execution": {
     "iopub.execute_input": "2022-04-22T00:57:01.575820Z",
     "iopub.status.busy": "2022-04-22T00:57:01.575668Z",
     "iopub.status.idle": "2022-04-22T00:57:02.267618Z",
     "shell.execute_reply": "2022-04-22T00:57:02.267292Z",
     "shell.execute_reply.started": "2022-04-22T00:57:01.575804Z"
    }
   },
   "outputs": [],
   "source": [
    "files = glob.glob(\"../results/phrase/LR/*/coefficients.tsv\")"
   ]
  },
  {
   "cell_type": "code",
   "execution_count": 11,
   "id": "0da98f03-81f7-46d3-91f8-469f25e32c76",
   "metadata": {
    "execution": {
     "iopub.execute_input": "2022-04-22T00:57:04.047240Z",
     "iopub.status.busy": "2022-04-22T00:57:04.047071Z",
     "iopub.status.idle": "2022-04-22T00:57:05.506354Z",
     "shell.execute_reply": "2022-04-22T00:57:05.506012Z",
     "shell.execute_reply.started": "2022-04-22T00:57:04.047223Z"
    }
   },
   "outputs": [
    {
     "data": {
      "text/plain": [
       "['../results/phrase/LR/parse_ord_spc_2_weightedByCount_False/coefficients.tsv',\n",
       " '../results/phrase/LR/parse_ord_aff_3_weightedByCount_False/coefficients.tsv',\n",
       " '../results/phrase/LR/parse_ord_ori_aff_2_weightedByCount_False/coefficients.tsv',\n",
       " '../results/phrase/LR/parse_ord_spc_aff_2_weightedByCount_False/coefficients.tsv',\n",
       " '../results/phrase/LR/parse_ord_ori_3_weightedByCount_False/coefficients.tsv',\n",
       " '../results/phrase/LR/parse_ord_3_weightedByCount_False/coefficients.tsv',\n",
       " '../results/phrase/LR/parse_ord_ori_spc_2_weightedByCount_False/coefficients.tsv',\n",
       " '../results/phrase/LR/parse_ord_aff_2_weightedByCount_False/coefficients.tsv',\n",
       " '../results/phrase/LR/parse_ord_ori_aff_3_weightedByCount_False/coefficients.tsv',\n",
       " '../results/phrase/LR/parse_ord_ori_2_weightedByCount_False/coefficients.tsv']"
      ]
     },
     "execution_count": 11,
     "metadata": {},
     "output_type": "execute_result"
    }
   ],
   "source": [
    "files"
   ]
  },
  {
   "cell_type": "code",
   "execution_count": 72,
   "id": "97b1d6e8-3bb4-4810-9f7e-a5c58d9ea607",
   "metadata": {
    "execution": {
     "iopub.execute_input": "2022-04-22T01:13:57.227111Z",
     "iopub.status.busy": "2022-04-22T01:13:57.226938Z",
     "iopub.status.idle": "2022-04-22T01:13:57.968065Z",
     "shell.execute_reply": "2022-04-22T01:13:57.967725Z",
     "shell.execute_reply.started": "2022-04-22T01:13:57.227092Z"
    },
    "tags": []
   },
   "outputs": [],
   "source": [
    "coef_df = pd.DataFrame()\n",
    "for file in files:\n",
    "    x = pd.read_csv(file, sep=\"\\t\", index_col=0)\n",
    "    coef_df = pd.concat([coef_df, x])\n",
    "coef_df = coef_df.drop(\"const\", axis=0)\n",
    "coef_df[\"log_p_value\"] = -1*np.log(coef_df[\"p_value\"])\n",
    "coef_df[\"q_value\"] = coef_df[\"p_value\"]*len(coef_df)\n",
    "coef_df[\"significant\"] = coef_df[\"q_value\"] < 0.05"
   ]
  },
  {
   "cell_type": "code",
   "execution_count": 73,
   "id": "49bb1a17-e614-44fb-b635-30eb675755e7",
   "metadata": {
    "execution": {
     "iopub.execute_input": "2022-04-22T01:13:58.226481Z",
     "iopub.status.busy": "2022-04-22T01:13:58.226358Z",
     "iopub.status.idle": "2022-04-22T01:13:58.844616Z",
     "shell.execute_reply": "2022-04-22T01:13:58.844241Z",
     "shell.execute_reply.started": "2022-04-22T01:13:58.226465Z"
    },
    "tags": []
   },
   "outputs": [],
   "source": [
    "sorted_df = coef_df.sort_values(\"log_p_value\", ascending=False)\n",
    "top = sorted_df.iloc[:9]"
   ]
  },
  {
   "cell_type": "code",
   "execution_count": 75,
   "id": "6ec35ced-9ce2-4492-b9c6-05b65d4d1c1a",
   "metadata": {
    "execution": {
     "iopub.execute_input": "2022-04-22T01:14:06.826579Z",
     "iopub.status.busy": "2022-04-22T01:14:06.826410Z",
     "iopub.status.idle": "2022-04-22T01:14:08.684148Z",
     "shell.execute_reply": "2022-04-22T01:14:08.683795Z",
     "shell.execute_reply.started": "2022-04-22T01:14:06.826563Z"
    },
    "tags": []
   },
   "outputs": [
    {
     "data": {
      "image/png": "[encoded data removed]",
      "text/plain": [
       "<Figure size 576x576 with 1 Axes>"
      ]
     },
     "metadata": {
      "needs_background": "light"
     },
     "output_type": "display_data"
    }
   ],
   "source": [
    "fig, ax = plt.subplots(1, 1, figsize=(8,8))\n",
    "sns.scatterplot(data=coef_df, x=\"coefficient\", y=\"log_p_value\", hue=\"significant\", legend=False, ax=ax)\n",
    "for line in range(0, top.shape[0]):\n",
    "     plt.text(top.coefficient[line]+0.05, top.log_p_value[line]+0.5, top.index[line], horizontalalignment='left', size='large', color='black', weight='semibold')"
   ]
  },
  {
   "cell_type": "code",
   "execution_count": 77,
   "id": "f57ac8f0-ba10-4158-84f6-502113761270",
   "metadata": {
    "execution": {
     "iopub.execute_input": "2022-04-22T01:15:00.426290Z",
     "iopub.status.busy": "2022-04-22T01:15:00.426119Z",
     "iopub.status.idle": "2022-04-22T01:15:01.431570Z",
     "shell.execute_reply": "2022-04-22T01:15:01.431234Z",
     "shell.execute_reply.started": "2022-04-22T01:15:00.426272Z"
    },
    "tags": []
   },
   "outputs": [],
   "source": [
    "sorted_df.to_csv(\"../results/phrase/LR/all_coefficients.tsv\", sep=\"\\t\", index=True)"
   ]
  },
  {
   "cell_type": "markdown",
   "id": "078c29b0-49ce-4995-a0c1-0033cd396d6d",
   "metadata": {},
   "source": [
    "# References"
   ]
  }
 ],
 "metadata": {
  "kernelspec": {
   "display_name": "Python3 ml_env",
   "language": "python",
   "name": "ml_env"
  },
  "language_info": {
   "codemirror_mode": {
    "name": "ipython",
    "version": 3
   },
   "file_extension": ".py",
   "mimetype": "text/x-python",
   "name": "python",
   "nbconvert_exporter": "python",
   "pygments_lexer": "ipython3",
   "version": "3.8.8"
  }
 },
 "nbformat": 4,
 "nbformat_minor": 5
}

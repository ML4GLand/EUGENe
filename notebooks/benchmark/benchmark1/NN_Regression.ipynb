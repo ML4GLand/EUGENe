{
 "cells": [
  {
   "cell_type": "markdown",
   "id": "7ffdab54-03d2-471a-970e-619063c6fd49",
   "metadata": {},
   "source": [
    "# Analyis of the Simple Model Results"
   ]
  },
  {
   "cell_type": "markdown",
   "id": "88a53c70-1f9f-40fc-a000-66920906402c",
   "metadata": {
    "tags": []
   },
   "source": [
    "**Authorship:**\n",
    "Adam Klie, *05/04/2022*\n",
    "***\n",
    "**Description:**\n",
    "Notebook to do some cool stuff\n",
    "***\n",
    "<div class=\"alert alert-block alert-warning\">\n",
    "<b>TODOs</b>:\n",
    "<ul>\n",
    "    <b><li></li></b>\n",
    "    <b><li></li></b>\n",
    "    <b><li></li></b>\n",
    "    </ul>\n",
    "</div>"
   ]
  },
  {
   "cell_type": "markdown",
   "id": "bdc59f71-7e2e-485b-bd37-78d0cfa87b52",
   "metadata": {},
   "source": [
    "# Set-up"
   ]
  },
  {
   "cell_type": "code",
   "execution_count": 67,
   "id": "dac11d80-205f-4f5e-8133-6fecd8c1a0ca",
   "metadata": {
    "execution": {
     "iopub.execute_input": "2022-06-04T22:57:40.991426Z",
     "iopub.status.busy": "2022-06-04T22:57:40.991256Z",
     "iopub.status.idle": "2022-06-04T22:57:42.463009Z",
     "shell.execute_reply": "2022-06-04T22:57:42.462469Z",
     "shell.execute_reply.started": "2022-06-04T22:57:40.991409Z"
    },
    "tags": []
   },
   "outputs": [],
   "source": [
    "import numpy as np\n",
    "import pandas as pd\n",
    "import seaborn as sns\n",
    "import matplotlib.pyplot as plt\n",
    "\n",
    "# Autoreload extension\n",
    "if 'autoreload' not in get_ipython().extension_manager.loaded:\n",
    "    %load_ext autoreload\n",
    "%autoreload 2"
   ]
  },
  {
   "cell_type": "code",
   "execution_count": 68,
   "id": "20dcc2f1-7a98-4dba-af9b-5ebc63c1c083",
   "metadata": {
    "execution": {
     "iopub.execute_input": "2022-06-04T22:57:43.985842Z",
     "iopub.status.busy": "2022-06-04T22:57:43.985651Z",
     "iopub.status.idle": "2022-06-04T22:57:45.374012Z",
     "shell.execute_reply": "2022-06-04T22:57:45.373633Z",
     "shell.execute_reply.started": "2022-06-04T22:57:43.985824Z"
    },
    "tags": []
   },
   "outputs": [],
   "source": [
    "MODEL = \"hybrid\"\n",
    "STRAND = \"ss\"\n",
    "TASK = \"regression\""
   ]
  },
  {
   "cell_type": "markdown",
   "id": "4cd3c1d3-578d-4dbf-94b3-0d16d0ef092a",
   "metadata": {
    "tags": [],
    "toc-hr-collapsed": true
   },
   "source": [
    "# Instantiate model and data via config"
   ]
  },
  {
   "cell_type": "code",
   "execution_count": 3,
   "id": "ebbd8c39-6322-4331-8598-1dbf49573d28",
   "metadata": {
    "execution": {
     "iopub.execute_input": "2022-06-04T20:18:33.195558Z",
     "iopub.status.busy": "2022-06-04T20:18:33.195359Z",
     "iopub.status.idle": "2022-06-04T20:18:42.790227Z",
     "shell.execute_reply": "2022-06-04T20:18:42.789766Z",
     "shell.execute_reply.started": "2022-06-04T20:18:33.195542Z"
    },
    "tags": []
   },
   "outputs": [],
   "source": [
    "import pytorch_lightning as pl\n",
    "from pytorch_lightning.utilities.cli import LightningArgumentParser"
   ]
  },
  {
   "cell_type": "markdown",
   "id": "7dd03025-c608-4ef4-8176-49e72fcfe91f",
   "metadata": {},
   "source": [
    "## Model"
   ]
  },
  {
   "cell_type": "code",
   "execution_count": 4,
   "id": "171a9dc0-4e39-47dc-b10d-2872bb34e485",
   "metadata": {
    "execution": {
     "iopub.execute_input": "2022-06-04T20:18:42.791020Z",
     "iopub.status.busy": "2022-06-04T20:18:42.790843Z",
     "iopub.status.idle": "2022-06-04T20:18:46.475081Z",
     "shell.execute_reply": "2022-06-04T20:18:46.474711Z",
     "shell.execute_reply.started": "2022-06-04T20:18:42.791002Z"
    },
    "tags": []
   },
   "outputs": [],
   "source": [
    "import claim.utils as cu\n",
    "from eugene.models.hybrid import hybrid"
   ]
  },
  {
   "cell_type": "code",
   "execution_count": 5,
   "id": "1a074573-8bc8-4b54-a20e-056a61906b6c",
   "metadata": {
    "execution": {
     "iopub.execute_input": "2022-06-04T20:18:46.475740Z",
     "iopub.status.busy": "2022-06-04T20:18:46.475631Z",
     "iopub.status.idle": "2022-06-04T20:18:48.119770Z",
     "shell.execute_reply": "2022-06-04T20:18:48.119439Z",
     "shell.execute_reply.started": "2022-06-04T20:18:46.475725Z"
    },
    "tags": []
   },
   "outputs": [
    {
     "data": {
      "text/plain": [
       "hybrid(\n",
       "  (convnet): BasicConv1D(\n",
       "    (module): Sequential(\n",
       "      (0): Conv1d(4, 32, kernel_size=(15,), stride=(1,))\n",
       "      (1): ReLU(inplace=True)\n",
       "      (2): MaxPool1d(kernel_size=2, stride=2, padding=0, dilation=1, ceil_mode=False)\n",
       "      (3): Dropout(p=0.2, inplace=False)\n",
       "      (4): BatchNorm1d(32, eps=1e-05, momentum=0.1, affine=True, track_running_stats=True)\n",
       "      (5): Conv1d(32, 64, kernel_size=(5,), stride=(1,))\n",
       "      (6): ReLU(inplace=True)\n",
       "      (7): MaxPool1d(kernel_size=1, stride=1, padding=0, dilation=1, ceil_mode=False)\n",
       "      (8): Dropout(p=0.2, inplace=False)\n",
       "      (9): BatchNorm1d(64, eps=1e-05, momentum=0.1, affine=True, track_running_stats=True)\n",
       "    )\n",
       "  )\n",
       "  (recurrentnet): BasicRecurrent(\n",
       "    (module): LSTM(64, 64, batch_first=True)\n",
       "  )\n",
       "  (fcnet): BasicFullyConnectedModule(\n",
       "    (module): Sequential(\n",
       "      (0): Linear(in_features=64, out_features=32, bias=True)\n",
       "      (1): ReLU(inplace=True)\n",
       "      (2): Dropout(p=0.2, inplace=False)\n",
       "      (3): BatchNorm1d(32, eps=1e-05, momentum=0.1, affine=True, track_running_stats=True)\n",
       "      (4): Linear(in_features=32, out_features=1, bias=True)\n",
       "    )\n",
       "  )\n",
       "  (r_squared): R2Score()\n",
       ")"
      ]
     },
     "execution_count": 5,
     "metadata": {},
     "output_type": "execute_result"
    }
   ],
   "source": [
    "model_parser = LightningArgumentParser()\n",
    "model_parser.add_lightning_class_args(hybrid, nested_key=\"model\");\n",
    "model_config = \"/cellar/users/aklie/projects/EUGENE/config/models/benchmark1/sshybrid_reg.yaml\"\n",
    "model_yml = model_parser.parse_path(cfg_path=model_config)\n",
    "eugene = hybrid(**model_yml[\"model\"])\n",
    "eugene"
   ]
  },
  {
   "cell_type": "markdown",
   "id": "56f94f31-7afc-4db8-a782-85308539f218",
   "metadata": {
    "tags": [],
    "toc-hr-collapsed": true
   },
   "source": [
    "# Load data"
   ]
  },
  {
   "cell_type": "code",
   "execution_count": 6,
   "id": "9741027d-e208-43d3-922e-a3c4e307735a",
   "metadata": {
    "execution": {
     "iopub.execute_input": "2022-06-04T20:18:48.120465Z",
     "iopub.status.busy": "2022-06-04T20:18:48.120295Z",
     "iopub.status.idle": "2022-06-04T20:18:49.663805Z",
     "shell.execute_reply": "2022-06-04T20:18:49.663445Z",
     "shell.execute_reply.started": "2022-06-04T20:18:48.120449Z"
    },
    "tags": []
   },
   "outputs": [],
   "source": [
    "from eugene.dataloading.SeqDataModule import SeqDataModule"
   ]
  },
  {
   "cell_type": "code",
   "execution_count": 7,
   "id": "0275c21c-a350-40bc-941d-0686d977c5c5",
   "metadata": {
    "execution": {
     "iopub.execute_input": "2022-06-04T20:18:49.665178Z",
     "iopub.status.busy": "2022-06-04T20:18:49.664995Z",
     "iopub.status.idle": "2022-06-04T20:18:51.211128Z",
     "shell.execute_reply": "2022-06-04T20:18:51.210796Z",
     "shell.execute_reply.started": "2022-06-04T20:18:49.665162Z"
    },
    "tags": []
   },
   "outputs": [],
   "source": [
    "data_parser = LightningArgumentParser()\n",
    "data_parser.add_lightning_class_args(SeqDataModule, nested_key=\"data\");\n",
    "data_config = \"/cellar/users/aklie/projects/EUGENE/config/data/benchmark1/2021_OLS_Library_Training_OHE-T_reg_train.yaml\"\n",
    "data_yml = data_parser.parse_path(cfg_path=data_config)\n",
    "data_mod = SeqDataModule(**data_yml[\"data\"])"
   ]
  },
  {
   "cell_type": "markdown",
   "id": "c94597db-eb95-4adb-ad56-b1948b91e7a9",
   "metadata": {
    "tags": [],
    "toc-hr-collapsed": true
   },
   "source": [
    "# Train with PyTorch Lightning"
   ]
  },
  {
   "cell_type": "code",
   "execution_count": 8,
   "id": "0114e5dc-640c-4a46-baa3-3aa5a477ee32",
   "metadata": {
    "execution": {
     "iopub.execute_input": "2022-06-04T20:18:51.211882Z",
     "iopub.status.busy": "2022-06-04T20:18:51.211771Z",
     "iopub.status.idle": "2022-06-04T20:18:52.742085Z",
     "shell.execute_reply": "2022-06-04T20:18:52.741677Z",
     "shell.execute_reply.started": "2022-06-04T20:18:51.211867Z"
    },
    "tags": []
   },
   "outputs": [],
   "source": [
    "import pytorch_lightning as pl\n",
    "from pytorch_lightning.loggers import TensorBoardLogger\n",
    "from pytorch_lightning.callbacks.early_stopping import EarlyStopping"
   ]
  },
  {
   "cell_type": "code",
   "execution_count": 9,
   "id": "946217bf-4706-4e8e-9051-041bbd084fc6",
   "metadata": {
    "execution": {
     "iopub.execute_input": "2022-06-04T20:18:52.742755Z",
     "iopub.status.busy": "2022-06-04T20:18:52.742639Z",
     "iopub.status.idle": "2022-06-04T20:18:54.364900Z",
     "shell.execute_reply": "2022-06-04T20:18:54.364447Z",
     "shell.execute_reply.started": "2022-06-04T20:18:52.742740Z"
    },
    "tags": []
   },
   "outputs": [
    {
     "name": "stderr",
     "output_type": "stream",
     "text": [
      "GPU available: True, used: True\n",
      "TPU available: False, using: 0 TPU cores\n",
      "IPU available: False, using: 0 IPUs\n"
     ]
    }
   ],
   "source": [
    "LOG_DIR = \"/cellar/users/aklie/projects/EUGENE/results/benchmark/benchmark1/reg\"\n",
    "logger = TensorBoardLogger(LOG_DIR, name=f\"{STRAND}{MODEL}\", version=\"2022_06_04_OHE_Baseline\")\n",
    "early_stop_callback = EarlyStopping(monitor=\"val_loss\", patience=5, verbose=False, mode=\"min\")\n",
    "trainer = pl.Trainer(gpus=1, max_epochs=100, logger=logger, callbacks=[early_stop_callback])"
   ]
  },
  {
   "cell_type": "code",
   "execution_count": 35,
   "id": "5a6eeefa-24e4-4bba-8857-3c4963338bee",
   "metadata": {
    "execution": {
     "iopub.execute_input": "2022-06-04T19:25:01.022619Z",
     "iopub.status.busy": "2022-06-04T19:25:01.022450Z",
     "iopub.status.idle": "2022-06-04T19:28:46.277608Z",
     "shell.execute_reply": "2022-06-04T19:28:46.277245Z",
     "shell.execute_reply.started": "2022-06-04T19:25:01.022601Z"
    },
    "tags": []
   },
   "outputs": [
    {
     "name": "stderr",
     "output_type": "stream",
     "text": [
      "LOCAL_RANK: 0 - CUDA_VISIBLE_DEVICES: [0]\n",
      "Set SLURM handle signals.\n",
      "\n",
      "  | Name         | Type                      | Params\n",
      "-----------------------------------------------------------\n",
      "0 | convnet      | BasicConv1D               | 12.4 K\n",
      "1 | recurrentnet | BasicRecurrent            | 33.3 K\n",
      "2 | fcnet        | BasicFullyConnectedModule | 2.2 K \n",
      "3 | r_squared    | R2Score                   | 0     \n",
      "-----------------------------------------------------------\n",
      "47.9 K    Trainable params\n",
      "0         Non-trainable params\n",
      "47.9 K    Total params\n",
      "0.192     Total estimated model params size (MB)\n"
     ]
    },
    {
     "data": {
      "application/vnd.jupyter.widget-view+json": {
       "model_id": "",
       "version_major": 2,
       "version_minor": 0
      },
      "text/plain": [
       "Validation sanity check: 0it [00:00, ?it/s]"
      ]
     },
     "metadata": {},
     "output_type": "display_data"
    },
    {
     "data": {
      "application/vnd.jupyter.widget-view+json": {
       "model_id": "fd9a0cc0a90641319a7b67a7da012e08",
       "version_major": 2,
       "version_minor": 0
      },
      "text/plain": [
       "Training: 0it [00:00, ?it/s]"
      ]
     },
     "metadata": {},
     "output_type": "display_data"
    },
    {
     "data": {
      "application/vnd.jupyter.widget-view+json": {
       "model_id": "",
       "version_major": 2,
       "version_minor": 0
      },
      "text/plain": [
       "Validating: 0it [00:00, ?it/s]"
      ]
     },
     "metadata": {},
     "output_type": "display_data"
    },
    {
     "data": {
      "application/vnd.jupyter.widget-view+json": {
       "model_id": "",
       "version_major": 2,
       "version_minor": 0
      },
      "text/plain": [
       "Validating: 0it [00:00, ?it/s]"
      ]
     },
     "metadata": {},
     "output_type": "display_data"
    },
    {
     "data": {
      "application/vnd.jupyter.widget-view+json": {
       "model_id": "",
       "version_major": 2,
       "version_minor": 0
      },
      "text/plain": [
       "Validating: 0it [00:00, ?it/s]"
      ]
     },
     "metadata": {},
     "output_type": "display_data"
    },
    {
     "data": {
      "application/vnd.jupyter.widget-view+json": {
       "model_id": "",
       "version_major": 2,
       "version_minor": 0
      },
      "text/plain": [
       "Validating: 0it [00:00, ?it/s]"
      ]
     },
     "metadata": {},
     "output_type": "display_data"
    },
    {
     "data": {
      "application/vnd.jupyter.widget-view+json": {
       "model_id": "",
       "version_major": 2,
       "version_minor": 0
      },
      "text/plain": [
       "Validating: 0it [00:00, ?it/s]"
      ]
     },
     "metadata": {},
     "output_type": "display_data"
    },
    {
     "data": {
      "application/vnd.jupyter.widget-view+json": {
       "model_id": "",
       "version_major": 2,
       "version_minor": 0
      },
      "text/plain": [
       "Validating: 0it [00:00, ?it/s]"
      ]
     },
     "metadata": {},
     "output_type": "display_data"
    },
    {
     "data": {
      "application/vnd.jupyter.widget-view+json": {
       "model_id": "",
       "version_major": 2,
       "version_minor": 0
      },
      "text/plain": [
       "Validating: 0it [00:00, ?it/s]"
      ]
     },
     "metadata": {},
     "output_type": "display_data"
    },
    {
     "data": {
      "application/vnd.jupyter.widget-view+json": {
       "model_id": "",
       "version_major": 2,
       "version_minor": 0
      },
      "text/plain": [
       "Validating: 0it [00:00, ?it/s]"
      ]
     },
     "metadata": {},
     "output_type": "display_data"
    },
    {
     "data": {
      "application/vnd.jupyter.widget-view+json": {
       "model_id": "",
       "version_major": 2,
       "version_minor": 0
      },
      "text/plain": [
       "Validating: 0it [00:00, ?it/s]"
      ]
     },
     "metadata": {},
     "output_type": "display_data"
    },
    {
     "data": {
      "application/vnd.jupyter.widget-view+json": {
       "model_id": "",
       "version_major": 2,
       "version_minor": 0
      },
      "text/plain": [
       "Validating: 0it [00:00, ?it/s]"
      ]
     },
     "metadata": {},
     "output_type": "display_data"
    },
    {
     "data": {
      "application/vnd.jupyter.widget-view+json": {
       "model_id": "",
       "version_major": 2,
       "version_minor": 0
      },
      "text/plain": [
       "Validating: 0it [00:00, ?it/s]"
      ]
     },
     "metadata": {},
     "output_type": "display_data"
    },
    {
     "data": {
      "application/vnd.jupyter.widget-view+json": {
       "model_id": "",
       "version_major": 2,
       "version_minor": 0
      },
      "text/plain": [
       "Validating: 0it [00:00, ?it/s]"
      ]
     },
     "metadata": {},
     "output_type": "display_data"
    },
    {
     "data": {
      "application/vnd.jupyter.widget-view+json": {
       "model_id": "",
       "version_major": 2,
       "version_minor": 0
      },
      "text/plain": [
       "Validating: 0it [00:00, ?it/s]"
      ]
     },
     "metadata": {},
     "output_type": "display_data"
    },
    {
     "data": {
      "application/vnd.jupyter.widget-view+json": {
       "model_id": "",
       "version_major": 2,
       "version_minor": 0
      },
      "text/plain": [
       "Validating: 0it [00:00, ?it/s]"
      ]
     },
     "metadata": {},
     "output_type": "display_data"
    },
    {
     "data": {
      "application/vnd.jupyter.widget-view+json": {
       "model_id": "",
       "version_major": 2,
       "version_minor": 0
      },
      "text/plain": [
       "Validating: 0it [00:00, ?it/s]"
      ]
     },
     "metadata": {},
     "output_type": "display_data"
    },
    {
     "data": {
      "application/vnd.jupyter.widget-view+json": {
       "model_id": "",
       "version_major": 2,
       "version_minor": 0
      },
      "text/plain": [
       "Validating: 0it [00:00, ?it/s]"
      ]
     },
     "metadata": {},
     "output_type": "display_data"
    },
    {
     "data": {
      "application/vnd.jupyter.widget-view+json": {
       "model_id": "",
       "version_major": 2,
       "version_minor": 0
      },
      "text/plain": [
       "Validating: 0it [00:00, ?it/s]"
      ]
     },
     "metadata": {},
     "output_type": "display_data"
    },
    {
     "data": {
      "application/vnd.jupyter.widget-view+json": {
       "model_id": "",
       "version_major": 2,
       "version_minor": 0
      },
      "text/plain": [
       "Validating: 0it [00:00, ?it/s]"
      ]
     },
     "metadata": {},
     "output_type": "display_data"
    },
    {
     "data": {
      "application/vnd.jupyter.widget-view+json": {
       "model_id": "",
       "version_major": 2,
       "version_minor": 0
      },
      "text/plain": [
       "Validating: 0it [00:00, ?it/s]"
      ]
     },
     "metadata": {},
     "output_type": "display_data"
    },
    {
     "data": {
      "application/vnd.jupyter.widget-view+json": {
       "model_id": "",
       "version_major": 2,
       "version_minor": 0
      },
      "text/plain": [
       "Validating: 0it [00:00, ?it/s]"
      ]
     },
     "metadata": {},
     "output_type": "display_data"
    },
    {
     "data": {
      "application/vnd.jupyter.widget-view+json": {
       "model_id": "",
       "version_major": 2,
       "version_minor": 0
      },
      "text/plain": [
       "Validating: 0it [00:00, ?it/s]"
      ]
     },
     "metadata": {},
     "output_type": "display_data"
    },
    {
     "data": {
      "application/vnd.jupyter.widget-view+json": {
       "model_id": "",
       "version_major": 2,
       "version_minor": 0
      },
      "text/plain": [
       "Validating: 0it [00:00, ?it/s]"
      ]
     },
     "metadata": {},
     "output_type": "display_data"
    },
    {
     "data": {
      "application/vnd.jupyter.widget-view+json": {
       "model_id": "",
       "version_major": 2,
       "version_minor": 0
      },
      "text/plain": [
       "Validating: 0it [00:00, ?it/s]"
      ]
     },
     "metadata": {},
     "output_type": "display_data"
    },
    {
     "data": {
      "application/vnd.jupyter.widget-view+json": {
       "model_id": "",
       "version_major": 2,
       "version_minor": 0
      },
      "text/plain": [
       "Validating: 0it [00:00, ?it/s]"
      ]
     },
     "metadata": {},
     "output_type": "display_data"
    },
    {
     "data": {
      "application/vnd.jupyter.widget-view+json": {
       "model_id": "",
       "version_major": 2,
       "version_minor": 0
      },
      "text/plain": [
       "Validating: 0it [00:00, ?it/s]"
      ]
     },
     "metadata": {},
     "output_type": "display_data"
    },
    {
     "data": {
      "application/vnd.jupyter.widget-view+json": {
       "model_id": "",
       "version_major": 2,
       "version_minor": 0
      },
      "text/plain": [
       "Validating: 0it [00:00, ?it/s]"
      ]
     },
     "metadata": {},
     "output_type": "display_data"
    },
    {
     "data": {
      "application/vnd.jupyter.widget-view+json": {
       "model_id": "",
       "version_major": 2,
       "version_minor": 0
      },
      "text/plain": [
       "Validating: 0it [00:00, ?it/s]"
      ]
     },
     "metadata": {},
     "output_type": "display_data"
    },
    {
     "data": {
      "application/vnd.jupyter.widget-view+json": {
       "model_id": "",
       "version_major": 2,
       "version_minor": 0
      },
      "text/plain": [
       "Validating: 0it [00:00, ?it/s]"
      ]
     },
     "metadata": {},
     "output_type": "display_data"
    },
    {
     "data": {
      "application/vnd.jupyter.widget-view+json": {
       "model_id": "",
       "version_major": 2,
       "version_minor": 0
      },
      "text/plain": [
       "Validating: 0it [00:00, ?it/s]"
      ]
     },
     "metadata": {},
     "output_type": "display_data"
    },
    {
     "data": {
      "application/vnd.jupyter.widget-view+json": {
       "model_id": "",
       "version_major": 2,
       "version_minor": 0
      },
      "text/plain": [
       "Validating: 0it [00:00, ?it/s]"
      ]
     },
     "metadata": {},
     "output_type": "display_data"
    }
   ],
   "source": [
    "trainer.fit(model=eugene, datamodule=data_mod)"
   ]
  },
  {
   "cell_type": "markdown",
   "id": "8f348859-afb4-469b-bf31-ac3d5448316c",
   "metadata": {
    "tags": []
   },
   "source": [
    "# Predict on all sequences"
   ]
  },
  {
   "cell_type": "code",
   "execution_count": 32,
   "id": "b584c0fb-f46c-43c1-9d6d-dfc682e7f647",
   "metadata": {
    "execution": {
     "iopub.execute_input": "2022-06-04T20:27:55.833021Z",
     "iopub.status.busy": "2022-06-04T20:27:55.832848Z",
     "iopub.status.idle": "2022-06-04T20:27:57.354669Z",
     "shell.execute_reply": "2022-06-04T20:27:57.354309Z",
     "shell.execute_reply.started": "2022-06-04T20:27:55.833002Z"
    },
    "tags": []
   },
   "outputs": [],
   "source": [
    "from eugene.utils.custom_callbacks import PredictionWriter"
   ]
  },
  {
   "cell_type": "code",
   "execution_count": 33,
   "id": "630019d8-bd40-4d15-9735-ff4c37ee96b4",
   "metadata": {
    "execution": {
     "iopub.execute_input": "2022-06-04T20:27:57.355469Z",
     "iopub.status.busy": "2022-06-04T20:27:57.355351Z",
     "iopub.status.idle": "2022-06-04T20:27:58.801868Z",
     "shell.execute_reply": "2022-06-04T20:27:58.801488Z",
     "shell.execute_reply.started": "2022-06-04T20:27:57.355454Z"
    },
    "tags": []
   },
   "outputs": [],
   "source": [
    "tmp = \"/cellar/users/aklie/projects/EUGENE/results/benchmark/benchmark1/reg/sshybrid/2022_06_04_OHE_Baseline/checkpoints/epoch=29-step=12149.ckpt\""
   ]
  },
  {
   "cell_type": "code",
   "execution_count": 34,
   "id": "9ea117ab-7c47-48e9-b334-2f66c83287cc",
   "metadata": {
    "execution": {
     "iopub.execute_input": "2022-06-04T20:27:58.802662Z",
     "iopub.status.busy": "2022-06-04T20:27:58.802552Z",
     "iopub.status.idle": "2022-06-04T20:28:00.268798Z",
     "shell.execute_reply": "2022-06-04T20:28:00.268454Z",
     "shell.execute_reply.started": "2022-06-04T20:27:58.802647Z"
    },
    "tags": []
   },
   "outputs": [],
   "source": [
    "#eugene = hybrid.load_from_checkpoint(trainer.checkpoint_callback.best_model_path)\n",
    "eugene = hybrid.load_from_checkpoint(tmp)"
   ]
  },
  {
   "cell_type": "markdown",
   "id": "af4c0445-7485-4a04-ab6b-ce42d8eac39b",
   "metadata": {},
   "source": [
    "## Train and val seqs"
   ]
  },
  {
   "cell_type": "code",
   "execution_count": 39,
   "id": "87002ff3-d1c8-4bcc-95b7-6f1ff9a9137f",
   "metadata": {
    "execution": {
     "iopub.execute_input": "2022-06-04T20:37:22.486405Z",
     "iopub.status.busy": "2022-06-04T20:37:22.486287Z",
     "iopub.status.idle": "2022-06-04T20:37:23.902268Z",
     "shell.execute_reply": "2022-06-04T20:37:23.901897Z",
     "shell.execute_reply.started": "2022-06-04T20:37:22.486389Z"
    },
    "tags": []
   },
   "outputs": [],
   "source": [
    "training_data_config = \"/cellar/users/aklie/projects/EUGENE/config/data/benchmark1/2021_OLS_Library_Training_OHE-T_reg_test.yaml\"\n",
    "training_data_yml = data_parser.parse_path(cfg_path=training_data_config)\n",
    "training_data_mod = SeqDataModule(**training_data_yml[\"data\"])"
   ]
  },
  {
   "cell_type": "code",
   "execution_count": 40,
   "id": "80adb3c3-d354-46fb-adac-f3dc4533002e",
   "metadata": {
    "execution": {
     "iopub.execute_input": "2022-06-04T20:37:23.903089Z",
     "iopub.status.busy": "2022-06-04T20:37:23.902979Z",
     "iopub.status.idle": "2022-06-04T20:37:25.347949Z",
     "shell.execute_reply": "2022-06-04T20:37:25.347639Z",
     "shell.execute_reply.started": "2022-06-04T20:37:23.903074Z"
    },
    "tags": []
   },
   "outputs": [
    {
     "name": "stderr",
     "output_type": "stream",
     "text": [
      "GPU available: True, used: True\n",
      "TPU available: False, using: 0 TPU cores\n",
      "IPU available: False, using: 0 IPUs\n"
     ]
    }
   ],
   "source": [
    "PRED_DIR=\"/cellar/users/aklie/projects/EUGENE/results/benchmark/benchmark1/reg/sshybrid/2022_06_04_OHE_Baseline/predictions/2021_OLS_Library_Training_\"\n",
    "prediction_writer_callback = PredictionWriter(PRED_DIR)\n",
    "training_trainer = pl.Trainer(gpus=1, logger=False, callbacks=[prediction_writer_callback])"
   ]
  },
  {
   "cell_type": "code",
   "execution_count": 41,
   "id": "403088a8-1375-4a63-ae3c-a646958a466b",
   "metadata": {
    "execution": {
     "iopub.execute_input": "2022-06-04T20:37:25.348643Z",
     "iopub.status.busy": "2022-06-04T20:37:25.348535Z",
     "iopub.status.idle": "2022-06-04T20:38:03.209877Z",
     "shell.execute_reply": "2022-06-04T20:38:03.209493Z",
     "shell.execute_reply.started": "2022-06-04T20:37:25.348628Z"
    },
    "tags": []
   },
   "outputs": [
    {
     "name": "stderr",
     "output_type": "stream",
     "text": [
      "LOCAL_RANK: 0 - CUDA_VISIBLE_DEVICES: [0]\n"
     ]
    },
    {
     "data": {
      "application/vnd.jupyter.widget-view+json": {
       "model_id": "766b2ad5afe44cac84d8af2e723025e5",
       "version_major": 2,
       "version_minor": 0
      },
      "text/plain": [
       "Predicting: 0it [00:00, ?it/s]"
      ]
     },
     "metadata": {},
     "output_type": "display_data"
    },
    {
     "name": "stderr",
     "output_type": "stream",
     "text": [
      "Exception ignored in: <function _MultiProcessingDataLoaderIter.__del__ at 0x1554c05f0560>\n",
      "Exception ignored in: Traceback (most recent call last):\n",
      "<function _MultiProcessingDataLoaderIter.__del__ at 0x1554c05f0560>  File \"/cellar/users/aklie/opt/miniconda3/envs/pytorch_dev/lib/python3.7/site-packages/torch/utils/data/dataloader.py\", line 1358, in __del__\n",
      "\n",
      "Traceback (most recent call last):\n",
      "Exception ignored in: <function _MultiProcessingDataLoaderIter.__del__ at 0x1554c05f0560>\n",
      "  File \"/cellar/users/aklie/opt/miniconda3/envs/pytorch_dev/lib/python3.7/site-packages/torch/utils/data/dataloader.py\", line 1358, in __del__\n",
      "Traceback (most recent call last):\n",
      "  File \"/cellar/users/aklie/opt/miniconda3/envs/pytorch_dev/lib/python3.7/site-packages/torch/utils/data/dataloader.py\", line 1358, in __del__\n",
      "        self._shutdown_workers()    \n",
      "self._shutdown_workers()self._shutdown_workers()\n",
      "\n",
      "  File \"/cellar/users/aklie/opt/miniconda3/envs/pytorch_dev/lib/python3.7/site-packages/torch/utils/data/dataloader.py\", line 1341, in _shutdown_workers\n",
      "  File \"/cellar/users/aklie/opt/miniconda3/envs/pytorch_dev/lib/python3.7/site-packages/torch/utils/data/dataloader.py\", line 1341, in _shutdown_workers\n",
      "  File \"/cellar/users/aklie/opt/miniconda3/envs/pytorch_dev/lib/python3.7/site-packages/torch/utils/data/dataloader.py\", line 1341, in _shutdown_workers\n",
      "    if w.is_alive():\n",
      "      File \"/cellar/users/aklie/opt/miniconda3/envs/pytorch_dev/lib/python3.7/multiprocessing/process.py\", line 151, in is_alive\n",
      "if w.is_alive():\n",
      "  File \"/cellar/users/aklie/opt/miniconda3/envs/pytorch_dev/lib/python3.7/multiprocessing/process.py\", line 151, in is_alive\n",
      "        assert self._parent_pid == os.getpid(), 'can only test a child process'assert self._parent_pid == os.getpid(), 'can only test a child process'    \n",
      "\n",
      "AssertionErrorif w.is_alive():: \n",
      "AssertionError: can only test a child processcan only test a child process  File \"/cellar/users/aklie/opt/miniconda3/envs/pytorch_dev/lib/python3.7/multiprocessing/process.py\", line 151, in is_alive\n",
      "\n",
      "Exception ignored in:     \n",
      "<function _MultiProcessingDataLoaderIter.__del__ at 0x1554c05f0560>\n",
      "assert self._parent_pid == os.getpid(), 'can only test a child process'Traceback (most recent call last):\n",
      "  File \"/cellar/users/aklie/opt/miniconda3/envs/pytorch_dev/lib/python3.7/site-packages/torch/utils/data/dataloader.py\", line 1358, in __del__\n",
      "self._shutdown_workers()    \n",
      "\n",
      "AssertionError  File \"/cellar/users/aklie/opt/miniconda3/envs/pytorch_dev/lib/python3.7/site-packages/torch/utils/data/dataloader.py\", line 1341, in _shutdown_workers\n",
      ":     can only test a child processif w.is_alive():\n",
      "\n",
      "  File \"/cellar/users/aklie/opt/miniconda3/envs/pytorch_dev/lib/python3.7/multiprocessing/process.py\", line 151, in is_alive\n",
      "    assert self._parent_pid == os.getpid(), 'can only test a child process'\n",
      "AssertionError: can only test a child process\n",
      "Traceback (most recent call last):\n",
      "Traceback (most recent call last):\n",
      "Traceback (most recent call last):\n",
      "  File \"/cellar/users/aklie/opt/miniconda3/envs/pytorch_dev/lib/python3.7/multiprocessing/queues.py\", line 232, in _feed\n",
      "    close()\n",
      "  File \"/cellar/users/aklie/opt/miniconda3/envs/pytorch_dev/lib/python3.7/multiprocessing/queues.py\", line 232, in _feed\n",
      "    close()\n",
      "Traceback (most recent call last):\n",
      "  File \"/cellar/users/aklie/opt/miniconda3/envs/pytorch_dev/lib/python3.7/multiprocessing/connection.py\", line 177, in close\n",
      "    self._close()\n",
      "  File \"/cellar/users/aklie/opt/miniconda3/envs/pytorch_dev/lib/python3.7/multiprocessing/connection.py\", line 177, in close\n",
      "    self._close()\n",
      "  File \"/cellar/users/aklie/opt/miniconda3/envs/pytorch_dev/lib/python3.7/multiprocessing/connection.py\", line 361, in _close\n",
      "    _close(self._handle)\n",
      "OSError: [Errno 9] Bad file descriptor\n",
      "  File \"/cellar/users/aklie/opt/miniconda3/envs/pytorch_dev/lib/python3.7/multiprocessing/queues.py\", line 232, in _feed\n",
      "    close()\n",
      "  File \"/cellar/users/aklie/opt/miniconda3/envs/pytorch_dev/lib/python3.7/multiprocessing/queues.py\", line 232, in _feed\n",
      "    close()\n",
      "  File \"/cellar/users/aklie/opt/miniconda3/envs/pytorch_dev/lib/python3.7/multiprocessing/connection.py\", line 177, in close\n",
      "    self._close()\n",
      "  File \"/cellar/users/aklie/opt/miniconda3/envs/pytorch_dev/lib/python3.7/multiprocessing/connection.py\", line 177, in close\n",
      "    self._close()\n",
      "  File \"/cellar/users/aklie/opt/miniconda3/envs/pytorch_dev/lib/python3.7/multiprocessing/connection.py\", line 361, in _close\n",
      "    _close(self._handle)\n",
      "Traceback (most recent call last):\n",
      "OSError: [Errno 9] Bad file descriptor\n",
      "  File \"/cellar/users/aklie/opt/miniconda3/envs/pytorch_dev/lib/python3.7/multiprocessing/connection.py\", line 361, in _close\n",
      "    _close(self._handle)\n",
      "OSError: [Errno 9] Bad file descriptor\n",
      "Traceback (most recent call last):\n",
      "  File \"/cellar/users/aklie/opt/miniconda3/envs/pytorch_dev/lib/python3.7/multiprocessing/queues.py\", line 232, in _feed\n",
      "    close()\n",
      "  File \"/cellar/users/aklie/opt/miniconda3/envs/pytorch_dev/lib/python3.7/multiprocessing/connection.py\", line 177, in close\n",
      "    self._close()\n",
      "  File \"/cellar/users/aklie/opt/miniconda3/envs/pytorch_dev/lib/python3.7/multiprocessing/connection.py\", line 361, in _close\n",
      "    _close(self._handle)\n",
      "Traceback (most recent call last):\n",
      "OSError: [Errno 9] Bad file descriptor\n",
      "  File \"/cellar/users/aklie/opt/miniconda3/envs/pytorch_dev/lib/python3.7/multiprocessing/queues.py\", line 232, in _feed\n",
      "    close()\n",
      "Traceback (most recent call last):\n",
      "  File \"/cellar/users/aklie/opt/miniconda3/envs/pytorch_dev/lib/python3.7/multiprocessing/queues.py\", line 232, in _feed\n",
      "    close()\n",
      "  File \"/cellar/users/aklie/opt/miniconda3/envs/pytorch_dev/lib/python3.7/multiprocessing/connection.py\", line 177, in close\n",
      "    self._close()\n",
      "  File \"/cellar/users/aklie/opt/miniconda3/envs/pytorch_dev/lib/python3.7/multiprocessing/queues.py\", line 232, in _feed\n",
      "    close()\n",
      "  File \"/cellar/users/aklie/opt/miniconda3/envs/pytorch_dev/lib/python3.7/multiprocessing/connection.py\", line 361, in _close\n",
      "    _close(self._handle)\n",
      "  File \"/cellar/users/aklie/opt/miniconda3/envs/pytorch_dev/lib/python3.7/multiprocessing/connection.py\", line 177, in close\n",
      "    self._close()\n",
      "  File \"/cellar/users/aklie/opt/miniconda3/envs/pytorch_dev/lib/python3.7/multiprocessing/connection.py\", line 177, in close\n",
      "    self._close()\n",
      "OSError: [Errno 9] Bad file descriptor\n",
      "  File \"/cellar/users/aklie/opt/miniconda3/envs/pytorch_dev/lib/python3.7/multiprocessing/connection.py\", line 361, in _close\n",
      "    _close(self._handle)\n",
      "  File \"/cellar/users/aklie/opt/miniconda3/envs/pytorch_dev/lib/python3.7/multiprocessing/connection.py\", line 361, in _close\n",
      "    _close(self._handle)\n",
      "  File \"/cellar/users/aklie/opt/miniconda3/envs/pytorch_dev/lib/python3.7/multiprocessing/connection.py\", line 361, in _close\n",
      "    _close(self._handle)\n",
      "OSError: [Errno 9] Bad file descriptor\n",
      "OSError: [Errno 9] Bad file descriptor\n",
      "OSError: [Errno 9] Bad file descriptor\n",
      "Traceback (most recent call last):\n",
      "Traceback (most recent call last):\n",
      "  File \"/cellar/users/aklie/opt/miniconda3/envs/pytorch_dev/lib/python3.7/multiprocessing/queues.py\", line 232, in _feed\n",
      "    close()\n",
      "Traceback (most recent call last):\n",
      "Traceback (most recent call last):\n",
      "  File \"/cellar/users/aklie/opt/miniconda3/envs/pytorch_dev/lib/python3.7/multiprocessing/connection.py\", line 177, in close\n",
      "    self._close()\n",
      "  File \"/cellar/users/aklie/opt/miniconda3/envs/pytorch_dev/lib/python3.7/multiprocessing/connection.py\", line 361, in _close\n",
      "    _close(self._handle)\n",
      "  File \"/cellar/users/aklie/opt/miniconda3/envs/pytorch_dev/lib/python3.7/multiprocessing/queues.py\", line 232, in _feed\n",
      "    close()\n",
      "  File \"/cellar/users/aklie/opt/miniconda3/envs/pytorch_dev/lib/python3.7/multiprocessing/queues.py\", line 232, in _feed\n",
      "    close()\n",
      "  File \"/cellar/users/aklie/opt/miniconda3/envs/pytorch_dev/lib/python3.7/multiprocessing/connection.py\", line 177, in close\n",
      "    self._close()\n",
      "OSError: [Errno 9] Bad file descriptor\n",
      "  File \"/cellar/users/aklie/opt/miniconda3/envs/pytorch_dev/lib/python3.7/multiprocessing/queues.py\", line 232, in _feed\n",
      "    close()\n",
      "  File \"/cellar/users/aklie/opt/miniconda3/envs/pytorch_dev/lib/python3.7/multiprocessing/connection.py\", line 177, in close\n",
      "    self._close()\n",
      "  File \"/cellar/users/aklie/opt/miniconda3/envs/pytorch_dev/lib/python3.7/multiprocessing/connection.py\", line 177, in close\n",
      "    self._close()\n",
      "  File \"/cellar/users/aklie/opt/miniconda3/envs/pytorch_dev/lib/python3.7/multiprocessing/connection.py\", line 361, in _close\n",
      "    _close(self._handle)\n",
      "OSError: [Errno 9] Bad file descriptor\n",
      "  File \"/cellar/users/aklie/opt/miniconda3/envs/pytorch_dev/lib/python3.7/multiprocessing/connection.py\", line 361, in _close\n",
      "    _close(self._handle)\n",
      "OSError: [Errno 9] Bad file descriptor\n",
      "  File \"/cellar/users/aklie/opt/miniconda3/envs/pytorch_dev/lib/python3.7/multiprocessing/connection.py\", line 361, in _close\n",
      "    _close(self._handle)\n",
      "OSError: [Errno 9] Bad file descriptor\n",
      "Traceback (most recent call last):\n",
      "Traceback (most recent call last):\n",
      "Traceback (most recent call last):\n",
      "  File \"/cellar/users/aklie/opt/miniconda3/envs/pytorch_dev/lib/python3.7/multiprocessing/queues.py\", line 232, in _feed\n",
      "    close()\n",
      "  File \"/cellar/users/aklie/opt/miniconda3/envs/pytorch_dev/lib/python3.7/multiprocessing/queues.py\", line 232, in _feed\n",
      "    close()\n",
      "  File \"/cellar/users/aklie/opt/miniconda3/envs/pytorch_dev/lib/python3.7/multiprocessing/queues.py\", line 232, in _feed\n",
      "    close()\n",
      "  File \"/cellar/users/aklie/opt/miniconda3/envs/pytorch_dev/lib/python3.7/multiprocessing/connection.py\", line 177, in close\n",
      "    self._close()\n",
      "  File \"/cellar/users/aklie/opt/miniconda3/envs/pytorch_dev/lib/python3.7/multiprocessing/connection.py\", line 177, in close\n",
      "    self._close()\n",
      "Traceback (most recent call last):\n",
      "  File \"/cellar/users/aklie/opt/miniconda3/envs/pytorch_dev/lib/python3.7/multiprocessing/connection.py\", line 361, in _close\n",
      "    _close(self._handle)\n",
      "  File \"/cellar/users/aklie/opt/miniconda3/envs/pytorch_dev/lib/python3.7/multiprocessing/connection.py\", line 361, in _close\n",
      "    _close(self._handle)\n",
      "  File \"/cellar/users/aklie/opt/miniconda3/envs/pytorch_dev/lib/python3.7/multiprocessing/connection.py\", line 177, in close\n",
      "    self._close()\n",
      "OSError: [Errno 9] Bad file descriptor\n",
      "  File \"/cellar/users/aklie/opt/miniconda3/envs/pytorch_dev/lib/python3.7/multiprocessing/queues.py\", line 232, in _feed\n",
      "    close()\n",
      "OSError: [Errno 9] Bad file descriptor\n",
      "  File \"/cellar/users/aklie/opt/miniconda3/envs/pytorch_dev/lib/python3.7/multiprocessing/connection.py\", line 177, in close\n",
      "    self._close()\n",
      "  File \"/cellar/users/aklie/opt/miniconda3/envs/pytorch_dev/lib/python3.7/multiprocessing/connection.py\", line 361, in _close\n",
      "    _close(self._handle)\n",
      "  File \"/cellar/users/aklie/opt/miniconda3/envs/pytorch_dev/lib/python3.7/multiprocessing/connection.py\", line 361, in _close\n",
      "    _close(self._handle)\n",
      "OSError: [Errno 9] Bad file descriptor\n",
      "OSError: [Errno 9] Bad file descriptor\n"
     ]
    },
    {
     "name": "stdout",
     "output_type": "stream",
     "text": [
      "/cellar/users/aklie/projects/EUGENE/results/benchmark/benchmark1/reg/sshybrid/2022_06_04_OHE_Baseline/predictions\n"
     ]
    }
   ],
   "source": [
    "training_res = training_trainer.predict(model=eugene, datamodule=training_data_mod)"
   ]
  },
  {
   "cell_type": "code",
   "execution_count": 49,
   "id": "33213a7e-84ce-476d-8c6f-17427b73e637",
   "metadata": {
    "execution": {
     "iopub.execute_input": "2022-06-04T22:52:41.833596Z",
     "iopub.status.busy": "2022-06-04T22:52:41.833435Z",
     "iopub.status.idle": "2022-06-04T22:52:43.315119Z",
     "shell.execute_reply": "2022-06-04T22:52:43.314788Z",
     "shell.execute_reply.started": "2022-06-04T22:52:41.833580Z"
    },
    "tags": []
   },
   "outputs": [
    {
     "data": {
      "text/plain": [
       "array([['S1-G1F-S2-E1F-S3-E2F-S4-G2R-S5-G3F-S6', '0.29461366',\n",
       "        '0.313011'],\n",
       "       ['S1-G1R-S2-E1F-S3-E2F-S4-G2F-S5-G3F-S6', '0.33692977',\n",
       "        '0.387121'],\n",
       "       ['S1-G1R-S2-E1F-S3-E2F-S4-G2R-S5-G3R-S6', '0.30566525', '0.0'],\n",
       "       ...,\n",
       "       ['S2-G1R-S3-E1R-S1-E2R-S5-G2F-S4-G3R-S6', '0.016437337', '0.0'],\n",
       "       ['S2-G1F-S3-E1R-S1-E2R-S5-G2F-S4-G3R-S6', '0.1990816', '0.239418'],\n",
       "       ['S2-G1R-S3-E1F-S4-E2F-S1-G2R-S5-G3F-S6', '0.016040511', '0.0']],\n",
       "      dtype='<U37')"
      ]
     },
     "execution_count": 49,
     "metadata": {},
     "output_type": "execute_result"
    }
   ],
   "source": [
    "training_res[0]"
   ]
  },
  {
   "cell_type": "code",
   "execution_count": 95,
   "id": "6550fa39-34b2-4d5a-85ef-b2e723e23125",
   "metadata": {
    "execution": {
     "iopub.execute_input": "2022-06-04T23:12:53.108223Z",
     "iopub.status.busy": "2022-06-04T23:12:53.107998Z",
     "iopub.status.idle": "2022-06-04T23:12:55.188598Z",
     "shell.execute_reply": "2022-06-04T23:12:55.188244Z",
     "shell.execute_reply.started": "2022-06-04T23:12:53.108203Z"
    },
    "tags": []
   },
   "outputs": [],
   "source": [
    "train_names = np.loadtxt(\"/cellar/users/aklie/projects/EUGENE/results/benchmark/benchmark2/reg/names/train.txt\", dtype=str)\n",
    "val_names = np.loadtxt(\"/cellar/users/aklie/projects/EUGENE/results/benchmark/benchmark2/reg/names/val.txt\", dtype=str)"
   ]
  },
  {
   "cell_type": "code",
   "execution_count": 93,
   "id": "8663bd76-3646-41bf-872a-ff22b3fff662",
   "metadata": {
    "execution": {
     "iopub.execute_input": "2022-06-04T23:12:46.832446Z",
     "iopub.status.busy": "2022-06-04T23:12:46.832282Z",
     "iopub.status.idle": "2022-06-04T23:12:48.066808Z",
     "shell.execute_reply": "2022-06-04T23:12:48.066457Z",
     "shell.execute_reply.started": "2022-06-04T23:12:46.832429Z"
    },
    "tags": []
   },
   "outputs": [],
   "source": [
    "PRED_DIR=\"/cellar/users/aklie/projects/EUGENE/results/benchmark/benchmark2/reg/sshybrid/2022_05_19_Pipeline_Test2/predictions/2021_OLS_Library_All_\""
   ]
  },
  {
   "cell_type": "code",
   "execution_count": 96,
   "id": "b3c6a7a5-2a97-49c0-bd4f-a5a68576b3db",
   "metadata": {
    "execution": {
     "iopub.execute_input": "2022-06-04T23:12:57.832401Z",
     "iopub.status.busy": "2022-06-04T23:12:57.832242Z",
     "iopub.status.idle": "2022-06-04T23:12:59.526404Z",
     "shell.execute_reply": "2022-06-04T23:12:59.525877Z",
     "shell.execute_reply.started": "2022-06-04T23:12:57.832385Z"
    },
    "tags": []
   },
   "outputs": [],
   "source": [
    "training_predictions = pd.read_csv(f\"{PRED_DIR}predictions.tsv\", sep=\"\\t\", index_col=0)"
   ]
  },
  {
   "cell_type": "code",
   "execution_count": 97,
   "id": "572993c8-1d77-47e3-b309-5d82b62756b8",
   "metadata": {
    "execution": {
     "iopub.execute_input": "2022-06-04T23:12:59.527245Z",
     "iopub.status.busy": "2022-06-04T23:12:59.527123Z",
     "iopub.status.idle": "2022-06-04T23:13:01.072271Z",
     "shell.execute_reply": "2022-06-04T23:13:01.071845Z",
     "shell.execute_reply.started": "2022-06-04T23:12:59.527230Z"
    },
    "tags": []
   },
   "outputs": [],
   "source": [
    "train_predictions = training_predictions.loc[train_names]"
   ]
  },
  {
   "cell_type": "code",
   "execution_count": 98,
   "id": "484ddbb6-0a76-4cb3-8a03-0c4c3e53fd84",
   "metadata": {
    "execution": {
     "iopub.execute_input": "2022-06-04T23:13:01.073162Z",
     "iopub.status.busy": "2022-06-04T23:13:01.073047Z",
     "iopub.status.idle": "2022-06-04T23:13:02.454905Z",
     "shell.execute_reply": "2022-06-04T23:13:02.454518Z",
     "shell.execute_reply.started": "2022-06-04T23:13:01.073147Z"
    },
    "tags": []
   },
   "outputs": [],
   "source": [
    "val_predictions = training_predictions.loc[val_names]"
   ]
  },
  {
   "cell_type": "code",
   "execution_count": 99,
   "id": "e5f4dae8-099d-46da-af06-56f4a9a9109c",
   "metadata": {
    "execution": {
     "iopub.execute_input": "2022-06-04T23:13:02.455703Z",
     "iopub.status.busy": "2022-06-04T23:13:02.455592Z",
     "iopub.status.idle": "2022-06-04T23:13:03.869494Z",
     "shell.execute_reply": "2022-06-04T23:13:03.869120Z",
     "shell.execute_reply.started": "2022-06-04T23:13:02.455688Z"
    },
    "tags": []
   },
   "outputs": [],
   "source": [
    "from sklearn.metrics import r2_score, mean_squared_error"
   ]
  },
  {
   "cell_type": "code",
   "execution_count": 109,
   "id": "7b8ef2f9-bfbf-43e7-867c-f5d57b63e115",
   "metadata": {
    "execution": {
     "iopub.execute_input": "2022-06-04T23:15:47.834685Z",
     "iopub.status.busy": "2022-06-04T23:15:47.834522Z",
     "iopub.status.idle": "2022-06-04T23:15:49.263989Z",
     "shell.execute_reply": "2022-06-04T23:15:49.263651Z",
     "shell.execute_reply.started": "2022-06-04T23:15:47.834668Z"
    },
    "tags": []
   },
   "outputs": [
    {
     "data": {
      "text/plain": [
       "0.16664355884642104"
      ]
     },
     "execution_count": 109,
     "metadata": {},
     "output_type": "execute_result"
    }
   ],
   "source": [
    "mean_squared_error(train_predictions[\"TARGET\"], train_predictions[\"PREDICTION\"])"
   ]
  },
  {
   "cell_type": "code",
   "execution_count": 108,
   "id": "007e1cde-4eeb-4de7-9102-6d7acd91c2d0",
   "metadata": {
    "execution": {
     "iopub.execute_input": "2022-06-04T23:15:39.832553Z",
     "iopub.status.busy": "2022-06-04T23:15:39.832389Z",
     "iopub.status.idle": "2022-06-04T23:15:41.273956Z",
     "shell.execute_reply": "2022-06-04T23:15:41.273634Z",
     "shell.execute_reply.started": "2022-06-04T23:15:39.832537Z"
    },
    "tags": []
   },
   "outputs": [
    {
     "data": {
      "text/plain": [
       "0.15812134607584752"
      ]
     },
     "execution_count": 108,
     "metadata": {},
     "output_type": "execute_result"
    }
   ],
   "source": [
    "mean_squared_error(val_predictions[\"TARGET\"], val_predictions[\"PREDICTION\"])"
   ]
  },
  {
   "cell_type": "code",
   "execution_count": 102,
   "id": "9079d8ab-5a30-415f-9aa9-f359de30c2b9",
   "metadata": {
    "execution": {
     "iopub.execute_input": "2022-06-04T23:13:10.833296Z",
     "iopub.status.busy": "2022-06-04T23:13:10.833116Z",
     "iopub.status.idle": "2022-06-04T23:13:12.263606Z",
     "shell.execute_reply": "2022-06-04T23:13:12.263182Z",
     "shell.execute_reply.started": "2022-06-04T23:13:10.833278Z"
    },
    "tags": []
   },
   "outputs": [],
   "source": [
    "train_r2_score = round(r2_score(train_predictions[\"TARGET\"], train_predictions[\"PREDICTION\"]), 3)\n",
    "train_mse = round(mean_squared_error(train_predictions[\"TARGET\"], train_predictions[\"PREDICTION\"]), 3)\n",
    "\n",
    "val_r2_score = round(r2_score(val_predictions[\"TARGET\"], val_predictions[\"PREDICTION\"]), 3)\n",
    "val_mse = round(mean_squared_error(val_predictions[\"TARGET\"], val_predictions[\"PREDICTION\"]), 3)"
   ]
  },
  {
   "cell_type": "code",
   "execution_count": 105,
   "id": "bb7721a5-47b9-4876-a5a0-c4c723070e15",
   "metadata": {
    "execution": {
     "iopub.execute_input": "2022-06-04T23:14:14.983107Z",
     "iopub.status.busy": "2022-06-04T23:14:14.982936Z",
     "iopub.status.idle": "2022-06-04T23:14:16.366568Z",
     "shell.execute_reply": "2022-06-04T23:14:16.366143Z",
     "shell.execute_reply.started": "2022-06-04T23:14:14.983091Z"
    }
   },
   "outputs": [],
   "source": [
    "ax = ax[0]"
   ]
  },
  {
   "cell_type": "code",
   "execution_count": null,
   "id": "340ab6d4-9ec5-401b-b907-1cf3951df70e",
   "metadata": {},
   "outputs": [],
   "source": [
    "ax.se"
   ]
  },
  {
   "cell_type": "code",
   "execution_count": 107,
   "id": "c6bde00c-e9c3-421a-9f12-42158fe8712f",
   "metadata": {
    "execution": {
     "iopub.execute_input": "2022-06-04T23:14:36.834591Z",
     "iopub.status.busy": "2022-06-04T23:14:36.834415Z",
     "iopub.status.idle": "2022-06-04T23:14:39.086176Z",
     "shell.execute_reply": "2022-06-04T23:14:39.085862Z",
     "shell.execute_reply.started": "2022-06-04T23:14:36.834574Z"
    },
    "tags": []
   },
   "outputs": [
    {
     "data": {
      "text/plain": [
       "Text(0.5, 1.0, 'Val Set')"
      ]
     },
     "execution_count": 107,
     "metadata": {},
     "output_type": "execute_result"
    },
    {
     "data": {
      "image/png": "[encoded data removed]",
      "text/plain": [
       "<Figure size 1152x576 with 2 Axes>"
      ]
     },
     "metadata": {
      "needs_background": "light"
     },
     "output_type": "display_data"
    }
   ],
   "source": [
    "fig, ax = plt.subplots(1, 2, figsize=(16, 8))\n",
    "sns.scatterplot(data=train_predictions, y=\"TARGET\", x=\"PREDICTION\", ax=ax[0])\n",
    "ax[0].text(0, max(train_predictions[\"TARGET\"])-1, r\"$R^2= $\" + str(train_r2_score), fontsize=12)\n",
    "ax[0].text(0, max(train_predictions[\"TARGET\"])-3, r\"$MSE= $\" + str(train_mse), fontsize=12)\n",
    "ax[0].set_title(\"Training Set\")\n",
    "\n",
    "sns.scatterplot(data=val_predictions, y=\"TARGET\", x=\"PREDICTION\", ax=ax[1])\n",
    "ax[1].text(0, max(val_predictions[\"TARGET\"])-1, r\"$R^2= $\" + str(val_r2_score), fontsize=12)\n",
    "ax[1].text(0, max(val_predictions[\"TARGET\"])-3, r\"$MSE= $\" + str(val_mse), fontsize=12)\n",
    "ax[1].set_title(\"Val Set\")"
   ]
  },
  {
   "cell_type": "markdown",
   "id": "d214e05f-137d-4cf2-9eef-26dba3621a92",
   "metadata": {},
   "source": [
    "## Heldout sequences"
   ]
  },
  {
   "cell_type": "code",
   "execution_count": 16,
   "id": "18c8105b-3e69-487e-b5c4-f4dfbd0b36d5",
   "metadata": {
    "execution": {
     "iopub.execute_input": "2022-06-04T20:19:47.933736Z",
     "iopub.status.busy": "2022-06-04T20:19:47.933536Z",
     "iopub.status.idle": "2022-06-04T20:19:49.318995Z",
     "shell.execute_reply": "2022-06-04T20:19:49.318627Z",
     "shell.execute_reply.started": "2022-06-04T20:19:47.933716Z"
    },
    "tags": []
   },
   "outputs": [],
   "source": [
    "holdout_data_config = \"/cellar/users/aklie/projects/EUGENE/config/data/benchmark1/2021_OLS_Library_Holdout_OHE-T_reg_test.yaml\"\n",
    "holdout_data_yml = data_parser.parse_path(cfg_path=holdout_data_config)\n",
    "holdout_data_mod = SeqDataModule(**holdout_data_yml[\"data\"])"
   ]
  },
  {
   "cell_type": "code",
   "execution_count": 110,
   "id": "e4d67eec-3acc-4833-83e5-a782f218565a",
   "metadata": {
    "execution": {
     "iopub.execute_input": "2022-06-04T23:16:39.832632Z",
     "iopub.status.busy": "2022-06-04T23:16:39.832464Z",
     "iopub.status.idle": "2022-06-04T23:16:41.082357Z",
     "shell.execute_reply": "2022-06-04T23:16:41.082046Z",
     "shell.execute_reply.started": "2022-06-04T23:16:39.832616Z"
    },
    "tags": []
   },
   "outputs": [
    {
     "name": "stderr",
     "output_type": "stream",
     "text": [
      "GPU available: True, used: True\n",
      "TPU available: False, using: 0 TPU cores\n",
      "IPU available: False, using: 0 IPUs\n"
     ]
    }
   ],
   "source": [
    "PRED_DIR=\"/cellar/users/aklie/projects/EUGENE/results/benchmark/benchmark1/reg/sshybrid/2022_06_04_OHE_Baseline/predictions/2021_OLS_Library_Holdout_\"\n",
    "prediction_writer_callback = PredictionWriter(PRED_DIR)\n",
    "holdout_trainer = pl.Trainer(gpus=1, logger=False, callbacks=[prediction_writer_callback])"
   ]
  },
  {
   "cell_type": "code",
   "execution_count": 18,
   "id": "5c89f0f0-8bc3-4cd0-9c4a-914e3d340f2d",
   "metadata": {
    "execution": {
     "iopub.execute_input": "2022-06-04T20:19:50.833115Z",
     "iopub.status.busy": "2022-06-04T20:19:50.832931Z",
     "iopub.status.idle": "2022-06-04T20:19:52.560281Z",
     "shell.execute_reply": "2022-06-04T20:19:52.559835Z",
     "shell.execute_reply.started": "2022-06-04T20:19:50.833098Z"
    },
    "tags": []
   },
   "outputs": [
    {
     "name": "stderr",
     "output_type": "stream",
     "text": [
      "LOCAL_RANK: 0 - CUDA_VISIBLE_DEVICES: [0]\n"
     ]
    },
    {
     "data": {
      "application/vnd.jupyter.widget-view+json": {
       "model_id": "cba3ab2302044a93afec91705428223f",
       "version_major": 2,
       "version_minor": 0
      },
      "text/plain": [
       "Predicting: 0it [00:00, ?it/s]"
      ]
     },
     "metadata": {},
     "output_type": "display_data"
    },
    {
     "name": "stdout",
     "output_type": "stream",
     "text": [
      "/cellar/users/aklie/projects/EUGENE/results/benchmark/benchmark1/reg/sshybrid/2022_06_04_OHE_Baseline/predictions\n"
     ]
    },
    {
     "data": {
      "text/plain": [
       "[array([['S1-G1R-S2-E1F-S3-E2F-S4-G2R-S5-G3F-S6', '0.39519334',\n",
       "         '0.611767'],\n",
       "        ['S3-G1R-S2-E1R-S5-E2R-S4-G2R-S1-G3R-S6', '0.19436541',\n",
       "         '0.327604'],\n",
       "        ['S1-G1R-S4-E1F-S3-G2R-S5-G3F-S2-E2F-S6', '0.27180946', '1.1913'],\n",
       "        ['S5-G1F-S1-E2R-S3-E1F-S4-G3F-S2-G2R-S6', '0.23671728', '0.40054'],\n",
       "        ['S1-G1R-S5-E2R-S2-G2F-S4-E1R-S3-G3R-S6', '1.4144309', '1.687609'],\n",
       "        ['S5-G1F-S4-E2F-S3-G2F-S2-G3R-S1-E1R-S6', '0.17860284',\n",
       "         '0.275716'],\n",
       "        ['S2-G1R-S1-G2R-S4-E1R-S5-E2F-S3-G3F-S6', '0.015490763',\n",
       "         '0.275716'],\n",
       "        ['S2-G1F-S1-G2R-S3-E1F-S5-G3R-S4-E2F-S6', '0.28651178',\n",
       "         '0.484927'],\n",
       "        ['S2-G1F-S1-G2R-S3-E1R-S5-G3R-S4-E2F-S6', '0.23490517', '0.39112'],\n",
       "        ['S2-G1R-S3-G2R-S1-E1R-S4-G3F-S5-E2F-S6', '0.01720298',\n",
       "         '0.275716'],\n",
       "        ['S4-G1R-S2-G2R-S5-E2F-S1-E1F-S3-G3R-S6', '0.25212288',\n",
       "         '0.155094'],\n",
       "        ['S4-G1R-S2-G2R-S5-E2F-S1-E1R-S3-G3R-S6', '0.3367386', '0.893989'],\n",
       "        ['S5-G1F-S4-G2F-S3-G3F-S1-E1R-S2-E2R-S6', '0.21469787',\n",
       "         '0.275716'],\n",
       "        ['S4-G1R-S5-G3R-S2-E2F-S3-E1R-S1-G2R-S6', '0.28112626',\n",
       "         '0.124547'],\n",
       "        ['S1-G1F-S2-G3R-S3-E2F-S4-G2F-S5-E1R-S6', '0.211516', '0.100364'],\n",
       "        ['S2-G1R-S3-G3F-S1-E2R-S5-G2R-S4-E1R-S6', '0.013732813', '0.0'],\n",
       "        ['S1-E1F-S3-G1R-S2-E2F-S4-G2R-S5-G3R-S6', '0.2344665', '0.275716'],\n",
       "        ['S5-E1F-S1-G1F-S3-G2F-S2-G3R-S4-E2R-S6', '0.19078517',\n",
       "         '0.275716'],\n",
       "        ['S1-E1F-S4-G1R-S3-G3R-S5-E2R-S2-G2F-S6', '0.55093634', '0.64674'],\n",
       "        ['S4-E1F-S1-G1R-S3-G3R-S2-E2F-S5-G2R-S6', '0.28628933',\n",
       "         '0.275716'],\n",
       "        ['S4-E1F-S2-G1F-S1-G3R-S3-E2R-S5-G2R-S6', '0.19338644',\n",
       "         '0.167492'],\n",
       "        ['S4-E1R-S5-G1R-S3-G3F-S1-G2F-S2-E2R-S6', '0.17949438',\n",
       "         '0.081354'],\n",
       "        ['S2-E1R-S1-E2R-S4-G1F-S3-G2R-S5-G3R-S6', '0.21550074',\n",
       "         '0.432209'],\n",
       "        ['S3-E1R-S4-E2F-S2-G3F-S5-G2R-S1-G1R-S6', '0.2119784', '0.275716'],\n",
       "        ['S5-E1F-S1-G2R-S4-G1R-S3-G3R-S2-E2F-S6', '0.81317663', '0.38093'],\n",
       "        ['S5-E1R-S1-G2R-S4-G1R-S3-G3R-S2-E2F-S6', '1.0359495', '1.279092'],\n",
       "        ['S4-E1R-S2-G2R-S5-G3F-S3-G1F-S1-E2R-S6', '0.23383363',\n",
       "         '0.236021'],\n",
       "        ['S1-E1F-S5-G2F-S4-G3F-S3-E2R-S2-G1F-S6', '0.72536916', '0.0'],\n",
       "        ['S1-E1F-S3-G3F-S4-G1R-S2-G2R-S5-E2F-S6', '0.2522058', '0.275716'],\n",
       "        ['S5-E1F-S1-G3F-S2-G1F-S4-G2R-S3-E2R-S6', '0.17430295',\n",
       "         '0.275745'],\n",
       "        ['S1-E1R-S4-G3R-S3-E2R-S2-G1R-S5-G2F-S6', '0.21026629',\n",
       "         '0.141481'],\n",
       "        ['S2-E1R-S3-G3F-S1-G2F-S5-E2R-S4-G1R-S6', '0.202624', '0.106746'],\n",
       "        ['S3-E2R-S1-G1F-S5-E1F-S4-G2R-S2-G3R-S6', '0.18596315',\n",
       "         '0.148957'],\n",
       "        ['S5-E2R-S4-G1R-S1-E1F-S3-G2R-S2-G3F-S6', '0.2049945', '0.0'],\n",
       "        ['S2-E2F-S1-G1F-S4-E1F-S5-G3R-S3-G2R-S6', '0.29894322',\n",
       "         '0.413601'],\n",
       "        ['S4-E2F-S1-G1F-S3-E1F-S2-G3F-S5-G2F-S6', '0.20785272', '0.0'],\n",
       "        ['S5-E2F-S1-G1F-S3-G2F-S4-E1F-S2-G3F-S6', '0.2246288', '0.024692'],\n",
       "        ['S2-E2R-S3-G1F-S5-G3R-S1-E1R-S4-G2R-S6', '0.24898148',\n",
       "         '0.082566'],\n",
       "        ['S2-E2F-S4-G1F-S1-G3F-S3-E1F-S5-G2F-S6', '0.30597103',\n",
       "         '0.438114'],\n",
       "        ['S2-E2F-S4-G1F-S5-G3F-S1-E1R-S3-G2F-S6', '0.41004312',\n",
       "         '0.180946'],\n",
       "        ['S2-E2F-S4-G1R-S5-G3F-S3-E1R-S1-G2F-S6', '0.2828005', '0.275716'],\n",
       "        ['S4-E2F-S1-E1F-S5-G2F-S2-G1R-S3-G3F-S6', '0.22641756',\n",
       "         '0.333088'],\n",
       "        ['S4-E2F-S1-E1R-S5-G2F-S2-G1R-S3-G3F-S6', '0.22489527', '0.1615'],\n",
       "        ['S1-E2F-S4-E1R-S3-G3R-S2-G1R-S5-G2F-S6', '0.29554427',\n",
       "         '0.066569'],\n",
       "        ['S2-E2F-S3-G2F-S4-G1R-S1-E1R-S5-G3F-S6', '0.3494302', '0.210456'],\n",
       "        ['S2-E2F-S4-G2R-S1-G3F-S3-G1F-S5-E1F-S6', '0.22534224',\n",
       "         '0.275716'],\n",
       "        ['S5-E2F-S3-G3F-S4-G1F-S2-G2F-S1-E1F-S6', '0.16791743',\n",
       "         '0.092549'],\n",
       "        ['S1-E2R-S4-G3F-S5-E1R-S3-G1F-S2-G2R-S6', '0.26149672',\n",
       "         '0.279345'],\n",
       "        ['S5-E2R-S3-G3R-S2-E1R-S4-G1F-S1-G2F-S6', '0.23905928',\n",
       "         '0.082299'],\n",
       "        ['S5-E2R-S4-G3F-S2-E1R-S1-G1F-S3-G2R-S6', '0.2072624', '0.132436'],\n",
       "        ['S5-E2R-S4-G3R-S2-E1R-S1-G1F-S3-G2R-S6', '0.22564387',\n",
       "         '0.160079'],\n",
       "        ['S4-E2F-S1-G3F-S5-E1R-S3-G2F-S2-G1F-S6', '0.33670408',\n",
       "         '0.480323'],\n",
       "        ['S1-E2R-S3-G3R-S4-G2R-S5-E1F-S2-G1F-S6', '0.55291015',\n",
       "         '0.512421'],\n",
       "        ['S5-G2F-S4-G1F-S1-E1R-S2-E2R-S3-G3F-S6', '0.36307994',\n",
       "         '0.446655'],\n",
       "        ['S5-G2R-S3-G1F-S4-E2R-S2-E1F-S1-G3R-S6', '0.32225814',\n",
       "         '0.288452'],\n",
       "        ['S4-G2R-S5-G1R-S3-G3R-S2-E2F-S1-E1R-S6', '0.3681355', '0.275716'],\n",
       "        ['S5-G2R-S4-G1F-S2-G3R-S1-E2F-S3-E1R-S6', '0.1869258', '0.143429'],\n",
       "        ['S1-G2F-S4-E1F-S5-G1R-S3-G3F-S2-E2R-S6', '0.26225764', '0.41577'],\n",
       "        ['S2-G2R-S1-E1R-S3-G1R-S5-G3R-S4-E2R-S6', '0.2402281', '0.260034'],\n",
       "        ['S4-G2F-S2-E1R-S5-G1R-S3-G3R-S1-E2F-S6', '0.19275732',\n",
       "         '0.245663'],\n",
       "        ['S1-G2R-S5-E1F-S4-E2F-S3-G1R-S2-G3R-S6', '0.19343734',\n",
       "         '0.275716'],\n",
       "        ['S3-G2F-S2-E1F-S1-E2F-S4-G1F-S5-G3R-S6', '0.2929986', '0.275716'],\n",
       "        ['S4-G2F-S5-E1F-S2-G3F-S1-G1F-S3-E2R-S6', '0.18195757', '0.075'],\n",
       "        ['S4-G2F-S5-E1R-S2-G3F-S1-G1F-S3-E2R-S6', '0.19484474',\n",
       "         '0.058203'],\n",
       "        ['S5-G2F-S2-E1R-S4-G3F-S1-G1R-S3-E2F-S6', '0.44837213',\n",
       "         '0.275716'],\n",
       "        ['S1-G2R-S4-E1R-S5-G3F-S3-E2F-S2-G1F-S6', '0.29484686',\n",
       "         '0.198098'],\n",
       "        ['S1-G2R-S4-E1R-S5-G3F-S3-E2R-S2-G1F-S6', '0.23398845',\n",
       "         '0.184315'],\n",
       "        ['S5-G2F-S4-E1R-S1-G3R-S3-E2R-S2-G1R-S6', '0.22868294',\n",
       "         '0.246566'],\n",
       "        ['S1-G2R-S3-E2F-S4-G1F-S2-E1F-S5-G3R-S6', '0.3726455', '0.207571'],\n",
       "        ['S5-G2R-S3-E2R-S4-G1F-S2-E1F-S1-G3R-S6', '0.23510578',\n",
       "         '0.192859'],\n",
       "        ['S4-G2F-S1-E2F-S5-G1R-S2-G3R-S3-E1F-S6', '0.2767666', '0.013157'],\n",
       "        ['S4-G2F-S1-E2F-S5-G1R-S2-G3R-S3-E1R-S6', '0.21051109',\n",
       "         '0.035842'],\n",
       "        ['S4-G2F-S1-E2R-S5-E1R-S2-G1F-S3-G3F-S6', '0.22017048',\n",
       "         '0.404515'],\n",
       "        ['S5-G2F-S1-E2R-S4-E1R-S2-G1R-S3-G3F-S6', '0.55936885',\n",
       "         '0.760389'],\n",
       "        ['S2-G2R-S5-G3R-S3-E2F-S1-G1F-S4-E1F-S6', '0.34469897',\n",
       "         '0.275716'],\n",
       "        ['S5-G3F-S3-G1F-S4-E1F-S2-E2F-S1-G2F-S6', '0.17799504',\n",
       "         '0.275716'],\n",
       "        ['S1-G3F-S5-G1F-S4-E1F-S3-G2R-S2-E2F-S6', '0.29338855',\n",
       "         '0.171617'],\n",
       "        ['S4-G3R-S1-G1F-S2-E1R-S5-G2F-S3-E2R-S6', '0.17367652',\n",
       "         '0.047038'],\n",
       "        ['S5-G3F-S3-G1R-S2-E1F-S1-G2R-S4-E2R-S6', '0.23533076',\n",
       "         '0.145579'],\n",
       "        ['S2-G3R-S3-G1R-S1-E2R-S4-E1F-S5-G2R-S6', '0.19422771',\n",
       "         '0.011751'],\n",
       "        ['S5-G3R-S4-G1F-S1-E2R-S3-G2F-S2-E1F-S6', '0.62545353',\n",
       "         '0.826455'],\n",
       "        ['S2-G3F-S1-G1F-S4-G2R-S5-E1R-S3-E2F-S6', '0.24115166',\n",
       "         '0.275716'],\n",
       "        ['S4-G3R-S1-E1R-S3-G1R-S5-E2F-S2-G2R-S6', '0.18019697',\n",
       "         '0.134831'],\n",
       "        ['S4-G3R-S1-E1R-S3-E2F-S2-G1F-S5-G2F-S6', '0.2752177', '0.275716'],\n",
       "        ['S5-G3F-S2-E1F-S3-G2F-S4-E2F-S1-G1R-S6', '0.24212596',\n",
       "         '0.350417'],\n",
       "        ['S5-G3F-S2-E1R-S3-G2F-S4-E2F-S1-G1R-S6', '0.244403', '0.033623'],\n",
       "        ['S2-G3F-S4-E2F-S3-G1R-S1-E1R-S5-G2R-S6', '0.17551559',\n",
       "         '0.118326'],\n",
       "        ['S3-G3R-S4-E2F-S5-G1F-S1-E1R-S2-G2R-S6', '0.85020787',\n",
       "         '0.275716'],\n",
       "        ['S2-G3R-S3-E2F-S5-G1R-S4-G2F-S1-E1R-S6', '0.20631959',\n",
       "         '0.163374'],\n",
       "        ['S2-G3R-S3-E2F-S5-G1F-S4-G2F-S1-E1R-S6', '0.24274358',\n",
       "         '0.106881'],\n",
       "        ['S1-G3R-S3-E2F-S5-E1F-S2-G1R-S4-G2R-S6', '0.2081222', '0.207794'],\n",
       "        ['S2-G3R-S5-E2R-S4-E1F-S1-G1F-S3-G2F-S6', '0.19636166',\n",
       "         '0.275716'],\n",
       "        ['S3-G3F-S4-E2F-S1-E1F-S5-G1F-S2-G2F-S6', '0.18540877',\n",
       "         '0.275716'],\n",
       "        ['S2-G3R-S3-E2F-S4-E1R-S5-G2F-S1-G1R-S6', '0.27233958',\n",
       "         '0.167984'],\n",
       "        ['S5-G3F-S4-E2F-S2-G2F-S3-G1R-S1-E1R-S6', '0.19991718',\n",
       "         '0.180248'],\n",
       "        ['S5-G3F-S4-E2F-S2-G2F-S3-G1F-S1-E1R-S6', '0.1973422', '0.115072'],\n",
       "        ['S1-G3F-S3-G2F-S2-E1R-S5-G1R-S4-E2F-S6', '0.212637', '0.275716'],\n",
       "        ['S3-G3F-S4-G2R-S2-E1R-S5-G1R-S1-E2F-S6', '0.19783816',\n",
       "         '0.100337'],\n",
       "        ['S3-G3F-S4-G2R-S2-E1R-S5-G1F-S1-E2F-S6', '0.1917388', '0.111748'],\n",
       "        ['S4-G3R-S5-G2F-S2-E1R-S3-E2F-S1-G1R-S6', '0.22759773',\n",
       "         '0.092957'],\n",
       "        ['S4-G3R-S5-G2F-S2-E1R-S3-E2F-S1-G1F-S6', '0.28080863',\n",
       "         '0.233384']], dtype='<U37')]"
      ]
     },
     "execution_count": 18,
     "metadata": {},
     "output_type": "execute_result"
    }
   ],
   "source": [
    "holdout_trainer.predict(model=eugene, datamodule=holdout_data_mod)"
   ]
  },
  {
   "cell_type": "code",
   "execution_count": 111,
   "id": "a782519a-a06f-45a2-a8a3-cf09a013b8d5",
   "metadata": {
    "execution": {
     "iopub.execute_input": "2022-06-04T23:16:57.921064Z",
     "iopub.status.busy": "2022-06-04T23:16:57.920896Z",
     "iopub.status.idle": "2022-06-04T23:16:59.170559Z",
     "shell.execute_reply": "2022-06-04T23:16:59.170219Z",
     "shell.execute_reply.started": "2022-06-04T23:16:57.921047Z"
    }
   },
   "outputs": [],
   "source": [
    "holdout_predictions = pd.read_csv(f\"{PRED_DIR}predictions.tsv\", sep=\"\\t\", index_col=0)"
   ]
  },
  {
   "cell_type": "code",
   "execution_count": 112,
   "id": "73e95e20-5c45-4ea9-b791-36a593c961ce",
   "metadata": {
    "execution": {
     "iopub.execute_input": "2022-06-04T23:17:06.833634Z",
     "iopub.status.busy": "2022-06-04T23:17:06.833381Z",
     "iopub.status.idle": "2022-06-04T23:17:08.084798Z",
     "shell.execute_reply": "2022-06-04T23:17:08.084470Z",
     "shell.execute_reply.started": "2022-06-04T23:17:06.833605Z"
    }
   },
   "outputs": [
    {
     "data": {
      "text/html": [
       "<div>\n",
       "<style scoped>\n",
       "    .dataframe tbody tr th:only-of-type {\n",
       "        vertical-align: middle;\n",
       "    }\n",
       "\n",
       "    .dataframe tbody tr th {\n",
       "        vertical-align: top;\n",
       "    }\n",
       "\n",
       "    .dataframe thead th {\n",
       "        text-align: right;\n",
       "    }\n",
       "</style>\n",
       "<table border=\"1\" class=\"dataframe\">\n",
       "  <thead>\n",
       "    <tr style=\"text-align: right;\">\n",
       "      <th></th>\n",
       "      <th>PREDICTION</th>\n",
       "      <th>TARGET</th>\n",
       "    </tr>\n",
       "    <tr>\n",
       "      <th>NAME</th>\n",
       "      <th></th>\n",
       "      <th></th>\n",
       "    </tr>\n",
       "  </thead>\n",
       "  <tbody>\n",
       "    <tr>\n",
       "      <th>S1-G1R-S2-E1F-S3-E2F-S4-G2R-S5-G3F-S6</th>\n",
       "      <td>0.395193</td>\n",
       "      <td>0.611767</td>\n",
       "    </tr>\n",
       "    <tr>\n",
       "      <th>S3-G1R-S2-E1R-S5-E2R-S4-G2R-S1-G3R-S6</th>\n",
       "      <td>0.194365</td>\n",
       "      <td>0.327604</td>\n",
       "    </tr>\n",
       "    <tr>\n",
       "      <th>S1-G1R-S4-E1F-S3-G2R-S5-G3F-S2-E2F-S6</th>\n",
       "      <td>0.271809</td>\n",
       "      <td>1.191300</td>\n",
       "    </tr>\n",
       "    <tr>\n",
       "      <th>S5-G1F-S1-E2R-S3-E1F-S4-G3F-S2-G2R-S6</th>\n",
       "      <td>0.236717</td>\n",
       "      <td>0.400540</td>\n",
       "    </tr>\n",
       "    <tr>\n",
       "      <th>S1-G1R-S5-E2R-S2-G2F-S4-E1R-S3-G3R-S6</th>\n",
       "      <td>1.414431</td>\n",
       "      <td>1.687609</td>\n",
       "    </tr>\n",
       "    <tr>\n",
       "      <th>...</th>\n",
       "      <td>...</td>\n",
       "      <td>...</td>\n",
       "    </tr>\n",
       "    <tr>\n",
       "      <th>S1-G3F-S3-G2F-S2-E1R-S5-G1R-S4-E2F-S6</th>\n",
       "      <td>0.212637</td>\n",
       "      <td>0.275716</td>\n",
       "    </tr>\n",
       "    <tr>\n",
       "      <th>S3-G3F-S4-G2R-S2-E1R-S5-G1R-S1-E2F-S6</th>\n",
       "      <td>0.197838</td>\n",
       "      <td>0.100337</td>\n",
       "    </tr>\n",
       "    <tr>\n",
       "      <th>S3-G3F-S4-G2R-S2-E1R-S5-G1F-S1-E2F-S6</th>\n",
       "      <td>0.191739</td>\n",
       "      <td>0.111748</td>\n",
       "    </tr>\n",
       "    <tr>\n",
       "      <th>S4-G3R-S5-G2F-S2-E1R-S3-E2F-S1-G1R-S6</th>\n",
       "      <td>0.227598</td>\n",
       "      <td>0.092957</td>\n",
       "    </tr>\n",
       "    <tr>\n",
       "      <th>S4-G3R-S5-G2F-S2-E1R-S3-E2F-S1-G1F-S6</th>\n",
       "      <td>0.280809</td>\n",
       "      <td>0.233384</td>\n",
       "    </tr>\n",
       "  </tbody>\n",
       "</table>\n",
       "<p>101 rows × 2 columns</p>\n",
       "</div>"
      ],
      "text/plain": [
       "                                       PREDICTION    TARGET\n",
       "NAME                                                       \n",
       "S1-G1R-S2-E1F-S3-E2F-S4-G2R-S5-G3F-S6    0.395193  0.611767\n",
       "S3-G1R-S2-E1R-S5-E2R-S4-G2R-S1-G3R-S6    0.194365  0.327604\n",
       "S1-G1R-S4-E1F-S3-G2R-S5-G3F-S2-E2F-S6    0.271809  1.191300\n",
       "S5-G1F-S1-E2R-S3-E1F-S4-G3F-S2-G2R-S6    0.236717  0.400540\n",
       "S1-G1R-S5-E2R-S2-G2F-S4-E1R-S3-G3R-S6    1.414431  1.687609\n",
       "...                                           ...       ...\n",
       "S1-G3F-S3-G2F-S2-E1R-S5-G1R-S4-E2F-S6    0.212637  0.275716\n",
       "S3-G3F-S4-G2R-S2-E1R-S5-G1R-S1-E2F-S6    0.197838  0.100337\n",
       "S3-G3F-S4-G2R-S2-E1R-S5-G1F-S1-E2F-S6    0.191739  0.111748\n",
       "S4-G3R-S5-G2F-S2-E1R-S3-E2F-S1-G1R-S6    0.227598  0.092957\n",
       "S4-G3R-S5-G2F-S2-E1R-S3-E2F-S1-G1F-S6    0.280809  0.233384\n",
       "\n",
       "[101 rows x 2 columns]"
      ]
     },
     "execution_count": 112,
     "metadata": {},
     "output_type": "execute_result"
    }
   ],
   "source": [
    "holdout_predictions"
   ]
  },
  {
   "cell_type": "markdown",
   "id": "8b86809c-addd-472b-a9ec-66638bb620b4",
   "metadata": {},
   "source": [
    "## All Genomic Sequences"
   ]
  },
  {
   "cell_type": "code",
   "execution_count": 29,
   "id": "aa8ecce4-98eb-46b9-9b7f-35a6b23617d4",
   "metadata": {
    "execution": {
     "iopub.execute_input": "2022-06-04T20:25:00.834150Z",
     "iopub.status.busy": "2022-06-04T20:25:00.833962Z",
     "iopub.status.idle": "2022-06-04T20:25:02.150534Z",
     "shell.execute_reply": "2022-06-04T20:25:02.150182Z",
     "shell.execute_reply.started": "2022-06-04T20:25:00.834131Z"
    },
    "tags": []
   },
   "outputs": [],
   "source": [
    "genomic_data_config = \"/cellar/users/aklie/projects/EUGENE/config/data/benchmark1/All_Genomic_Sequences_TSV_reg_test.yaml\"\n",
    "genomic_data_yml = data_parser.parse_path(cfg_path=genomic_data_config)\n",
    "genomic_data_mod = SeqDataModule(**genomic_data_yml[\"data\"])"
   ]
  },
  {
   "cell_type": "code",
   "execution_count": 113,
   "id": "ee0342c6-ed9c-4fd9-9bef-1c459e878952",
   "metadata": {
    "execution": {
     "iopub.execute_input": "2022-06-04T23:17:35.832706Z",
     "iopub.status.busy": "2022-06-04T23:17:35.832535Z",
     "iopub.status.idle": "2022-06-04T23:17:37.417633Z",
     "shell.execute_reply": "2022-06-04T23:17:37.417298Z",
     "shell.execute_reply.started": "2022-06-04T23:17:35.832689Z"
    },
    "tags": []
   },
   "outputs": [
    {
     "name": "stderr",
     "output_type": "stream",
     "text": [
      "GPU available: True, used: True\n",
      "TPU available: False, using: 0 TPU cores\n",
      "IPU available: False, using: 0 IPUs\n"
     ]
    }
   ],
   "source": [
    "PRED_DIR=\"/cellar/users/aklie/projects/EUGENE/results/benchmark/benchmark1/reg/sshybrid/2022_06_04_OHE_Baseline/predictions/All_Genomic_Sequences_\"\n",
    "prediction_writer_callback = PredictionWriter(PRED_DIR)\n",
    "genomic_trainer = pl.Trainer(gpus=1, logger=False, callbacks=[prediction_writer_callback])"
   ]
  },
  {
   "cell_type": "code",
   "execution_count": 31,
   "id": "176bb778-f470-48ef-9d4d-efa7ad2fcfcf",
   "metadata": {
    "execution": {
     "iopub.execute_input": "2022-06-04T20:25:03.519738Z",
     "iopub.status.busy": "2022-06-04T20:25:03.519609Z",
     "iopub.status.idle": "2022-06-04T20:25:05.378293Z",
     "shell.execute_reply": "2022-06-04T20:25:05.377949Z",
     "shell.execute_reply.started": "2022-06-04T20:25:03.519720Z"
    },
    "tags": []
   },
   "outputs": [
    {
     "name": "stderr",
     "output_type": "stream",
     "text": [
      "LOCAL_RANK: 0 - CUDA_VISIBLE_DEVICES: [0]\n"
     ]
    },
    {
     "data": {
      "application/vnd.jupyter.widget-view+json": {
       "model_id": "2c39cb9bbdc149bfaeb94107f21b7093",
       "version_major": 2,
       "version_minor": 0
      },
      "text/plain": [
       "Predicting: 0it [00:00, ?it/s]"
      ]
     },
     "metadata": {},
     "output_type": "display_data"
    },
    {
     "name": "stdout",
     "output_type": "stream",
     "text": [
      "/cellar/users/aklie/projects/EUGENE/results/benchmark/benchmark1/reg/sshybrid/2022_06_04_OHE_Baseline/predictions\n"
     ]
    },
    {
     "data": {
      "text/plain": [
       "[array([['scaffold_1:462149:462232', '0.28212819', '1.0']], dtype='<U32'),\n",
       " array([['scaffold_102:102675:102754', '0.22521664', '1.0']], dtype='<U32'),\n",
       " array([['scaffold_3:475040:475120', '0.1984604', '1.0']], dtype='<U32'),\n",
       " array([['scaffold_3:781073:781145', '0.26546252', '1.0']], dtype='<U32'),\n",
       " array([['scaffold_357:46416:46496', '0.2004138', '0.0']], dtype='<U32'),\n",
       " array([['scaffold_577:39771:39829', '0.25927883', '0.0']], dtype='<U32'),\n",
       " array([['scaffold_6:512297:512370', '0.21518195', '0.0']], dtype='<U32'),\n",
       " array([['scaffold_98:245430:245507', '0.25188348', '1.0']], dtype='<U32'),\n",
       " array([['scaffold_248:118347:118482', '0.270935', '1.0']], dtype='<U32'),\n",
       " array([['Scaffold_31:173924:174038', '0.18309236', '0.0']], dtype='<U32'),\n",
       " array([['scaffold_6:562995:563124', '0.25786528', '1.0']], dtype='<U32'),\n",
       " array([['scaffold_11:490974:491037', '0.20076609', '0.0']], dtype='<U32'),\n",
       " array([['scaffold_366:40184:40258', '0.26836064', '0.0']], dtype='<U32'),\n",
       " array([['scaffold_37:273449:273512', '0.3039416', '0.0']], dtype='<U32'),\n",
       " array([['scaffold_371:68262:68340', '0.17357056', '0.0']], dtype='<U32'),\n",
       " array([['scaffold_40:155281:155360', '0.26046365', '0.0']], dtype='<U32'),\n",
       " array([['scaffold_48:226447:226527', '0.22684196', '0.0']], dtype='<U32'),\n",
       " array([['scaffold_490:18446:18523', '0.20142315', '1.0']], dtype='<U32'),\n",
       " array([['scaffold_50:51150:51235', '0.19443375', '0.0']], dtype='<U32'),\n",
       " array([['scaffold_522:36260:36327', '0.19864723', '0.0']], dtype='<U32'),\n",
       " array([['Otxa-WTg1', '0.24531521', '1.0']], dtype='<U32'),\n",
       " array([['Otxa-WTg2', '0.3169028', '1.0']], dtype='<U32'),\n",
       " array([['Otxa-WTg3', '0.22540034', '0.0']], dtype='<U32'),\n",
       " array([['Otxa-WTg5', '0.21624705', '1.0']], dtype='<U32'),\n",
       " array([['Negative_control', '0.21127036', '0.0']], dtype='<U32'),\n",
       " array([['nc2', '0.19055952', '0.0']], dtype='<U32'),\n",
       " array([['nc3', '0.19288039', '0.0']], dtype='<U32'),\n",
       " array([['nc4', '0.21060626', '0.0']], dtype='<U32'),\n",
       " array([['nc5', '0.36798054', '0.0']], dtype='<U32'),\n",
       " array([['EM.Ci1', '0.31672984', '1.0']], dtype='<U32'),\n",
       " array([['EM.Dr1', '0.23529808', '1.0']], dtype='<U32'),\n",
       " array([['EM.Ggd1', '0.2341357', '0.0']], dtype='<U32'),\n",
       " array([['EM.Mm6', '0.20489973', '0.0']], dtype='<U32'),\n",
       " array([['EM.Hs9', '0.24186641', '0.0']], dtype='<U32'),\n",
       " array([['EM.Mm2', '0.54687434', '0.0']], dtype='<U32'),\n",
       " array([['EM.Hs1', '0.25739342', '1.0']], dtype='<U32'),\n",
       " array([['EM.Hs2', '0.24673952', '0.0']], dtype='<U32'),\n",
       " array([['EM.Hs3', '0.22800456', '1.0']], dtype='<U32'),\n",
       " array([['EM.Hs8', '0.22558802', '0.0']], dtype='<U32'),\n",
       " array([['EM.Mm1', '0.23418218', '1.0']], dtype='<U32'),\n",
       " array([['EM.Hs4', '0.22001693', '1.0']], dtype='<U32'),\n",
       " array([['EM.Dr2', '0.21415038', '1.0']], dtype='<U32')]"
      ]
     },
     "execution_count": 31,
     "metadata": {},
     "output_type": "execute_result"
    }
   ],
   "source": [
    "genomic_trainer.predict(model=eugene, datamodule=genomic_data_mod)"
   ]
  },
  {
   "cell_type": "code",
   "execution_count": 114,
   "id": "843c43f7-c8bb-4a0f-ae80-8ebbb5696530",
   "metadata": {
    "execution": {
     "iopub.execute_input": "2022-06-04T23:17:37.418340Z",
     "iopub.status.busy": "2022-06-04T23:17:37.418233Z",
     "iopub.status.idle": "2022-06-04T23:17:39.009575Z",
     "shell.execute_reply": "2022-06-04T23:17:39.009239Z",
     "shell.execute_reply.started": "2022-06-04T23:17:37.418325Z"
    }
   },
   "outputs": [],
   "source": [
    "genomic_predictions = pd.read_csv(f\"{PRED_DIR}predictions.tsv\", sep=\"\\t\", index_col=0)"
   ]
  },
  {
   "cell_type": "code",
   "execution_count": 116,
   "id": "d614c691-52ae-46e5-85de-90783ca9cbdf",
   "metadata": {
    "execution": {
     "iopub.execute_input": "2022-06-04T23:18:06.834748Z",
     "iopub.status.busy": "2022-06-04T23:18:06.834478Z",
     "iopub.status.idle": "2022-06-04T23:18:08.470633Z",
     "shell.execute_reply": "2022-06-04T23:18:08.470288Z",
     "shell.execute_reply.started": "2022-06-04T23:18:06.834717Z"
    },
    "tags": []
   },
   "outputs": [
    {
     "data": {
      "text/plain": [
       "<matplotlib.axes._subplots.AxesSubplot at 0x155317cb09d0>"
      ]
     },
     "execution_count": 116,
     "metadata": {},
     "output_type": "execute_result"
    },
    {
     "data": {
      "image/png": "[encoded data removed]",
      "text/plain": [
       "<Figure size 432x288 with 1 Axes>"
      ]
     },
     "metadata": {
      "needs_background": "light"
     },
     "output_type": "display_data"
    }
   ],
   "source": [
    "sns.boxplot(data=genomic_predictions, x=\"TARGET\", y=\"PREDICTION\")"
   ]
  },
  {
   "cell_type": "markdown",
   "id": "fd75b426-2c58-457f-9942-d4a534da2987",
   "metadata": {},
   "source": [
    "# Scratch"
   ]
  }
 ],
 "metadata": {
  "kernelspec": {
   "display_name": "Python 3 pytorch_dev",
   "language": "python",
   "name": "pytorch_dev"
  },
  "language_info": {
   "codemirror_mode": {
    "name": "ipython",
    "version": 3
   },
   "file_extension": ".py",
   "mimetype": "text/x-python",
   "name": "python",
   "nbconvert_exporter": "python",
   "pygments_lexer": "ipython3",
   "version": "3.7.12"
  }
 },
 "nbformat": 4,
 "nbformat_minor": 5
}

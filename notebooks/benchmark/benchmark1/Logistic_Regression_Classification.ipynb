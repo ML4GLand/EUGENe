{
 "cells": [
  {
   "cell_type": "markdown",
   "id": "c8fab0a8-93f8-49b4-a95f-3b4e0efeced1",
   "metadata": {},
   "source": [
    "# Logistic Regression (LR) For Enhancer Activity Classification"
   ]
  },
  {
   "cell_type": "markdown",
   "id": "9d578cf7-2851-4e1c-9599-4c307a0a34b7",
   "metadata": {
    "execution": {
     "iopub.execute_input": "2021-11-28T01:53:30.746610Z",
     "iopub.status.busy": "2021-11-28T01:53:30.746380Z"
    }
   },
   "source": [
    "**Authorship:**\n",
    "Adam Klie, *07/25/2021*\n",
    "***\n",
    "**Description:**\n",
    "Notebook to train Logistic Regression classifiers for enhancer activity\n",
    "***\n",
    "<div class=\"alert alert-block alert-warning\">\n",
    "<b>TODOs</b>:\n",
    "<ul>\n",
    "    <b><li></li></b>\n",
    "    </ul>\n",
    "</div>"
   ]
  },
  {
   "cell_type": "markdown",
   "id": "76f1070c-04c6-451a-93d3-576fa6b68843",
   "metadata": {
    "tags": []
   },
   "source": [
    "# Set-up"
   ]
  },
  {
   "cell_type": "code",
   "execution_count": 75,
   "id": "e0e91115-594f-46aa-a22f-b5f1b31a36d1",
   "metadata": {
    "execution": {
     "iopub.execute_input": "2021-11-28T06:41:11.975412Z",
     "iopub.status.busy": "2021-11-28T06:41:11.975077Z",
     "iopub.status.idle": "2021-11-28T06:41:13.277807Z",
     "shell.execute_reply": "2021-11-28T06:41:13.277075Z",
     "shell.execute_reply.started": "2021-11-28T06:41:11.975381Z"
    },
    "tags": []
   },
   "outputs": [],
   "source": [
    "# Classics\n",
    "import os\n",
    "import matplotlib.pyplot as plt\n",
    "import numpy as np\n",
    "import pandas as pd\n",
    "import seaborn as sns\n",
    "import pickle\n",
    "\n",
    "# Figure style\n",
    "plt.style.use('presentation')\n",
    "\n",
    "# Autoreload extension\n",
    "if 'autoreload' not in get_ipython().extension_manager.loaded:\n",
    "    %load_ext autoreload\n",
    "    \n",
    "%autoreload 2\n",
    "\n",
    "import sys\n",
    "sys.path.append('/cellar/users/aklie/projects/EUGENE/bin/')\n",
    "import project_utils"
   ]
  },
  {
   "cell_type": "code",
   "execution_count": 76,
   "id": "c0229cbc-d2ab-42fc-a701-071a72b8bc30",
   "metadata": {
    "execution": {
     "iopub.execute_input": "2021-11-28T06:41:13.279276Z",
     "iopub.status.busy": "2021-11-28T06:41:13.279034Z",
     "iopub.status.idle": "2021-11-28T06:41:14.338216Z",
     "shell.execute_reply": "2021-11-28T06:41:14.337436Z",
     "shell.execute_reply.started": "2021-11-28T06:41:13.279247Z"
    },
    "tags": []
   },
   "outputs": [],
   "source": [
    "# Define parameters of the notebook\n",
    "DATASET = \"2021_OLS_Library\"  # Which dataset to look at\n",
    "FEATURES = \"mixed-1.0\"  # What features to use to train the model\n",
    "LABELS = \"binary\"\n",
    "PREPROCESS = \"0.18-0.4\"  # Preprocessing steps, separated by \"-\"\n",
    "TRAIN = True\n",
    "SPLIT = 0.9\n",
    "SUBSET = False\n",
    "HYPERPARAM = \"baseline\"\n",
    "OUTDIR=\"{}_{}_{}_LR\".format(PREPROCESS, FEATURES, HYPERPARAM)\n",
    "if not os.path.exists(OUTDIR):\n",
    "    os.makedirs(OUTDIR)"
   ]
  },
  {
   "cell_type": "markdown",
   "id": "20293f16-1e15-442c-ad9c-58a5068ac90d",
   "metadata": {
    "tags": []
   },
   "source": [
    "# Load train and validation data"
   ]
  },
  {
   "cell_type": "code",
   "execution_count": 77,
   "id": "1ad18e32-5ee3-40bc-9465-877e1c827ef9",
   "metadata": {
    "execution": {
     "iopub.execute_input": "2021-11-28T06:41:14.340070Z",
     "iopub.status.busy": "2021-11-28T06:41:14.339787Z",
     "iopub.status.idle": "2021-11-28T06:41:16.685724Z",
     "shell.execute_reply": "2021-11-28T06:41:16.684762Z",
     "shell.execute_reply.started": "2021-11-28T06:41:14.340031Z"
    },
    "tags": []
   },
   "outputs": [
    {
     "data": {
      "text/plain": [
       "((272591, 21), (272591,), (30288, 21), (30288,))"
      ]
     },
     "execution_count": 77,
     "metadata": {},
     "output_type": "execute_result"
    }
   ],
   "source": [
    "# Load train and val\n",
    "X_train = np.load('../data/{0}/{1}/{2}_X-train-{3}_{4}.npy'.format(DATASET, FEATURES.replace(\"-\", \"_\"), PREPROCESS, SPLIT, FEATURES))\n",
    "X_test = np.load('../data/{0}/{1}/{2}_X-test-{3}_{4}.npy'.format(DATASET, FEATURES.replace(\"-\", \"_\"), PREPROCESS, round(1-SPLIT, 1), FEATURES))\n",
    "y_train = np.loadtxt('../data/{0}/{1}/{2}_y-train-{3}_{1}.txt'.format(DATASET, LABELS, PREPROCESS, SPLIT), dtype=int)\n",
    "y_test = np.loadtxt('../data/{0}/{1}/{2}_y-test-{3}_{1}.txt'.format(DATASET, LABELS, PREPROCESS, round(1-SPLIT, 1)), dtype=int)\n",
    "\n",
    "# Check em\n",
    "X_train.shape, y_train.shape, X_test.shape, y_test.shape"
   ]
  },
  {
   "cell_type": "markdown",
   "id": "c11b1964-7ac1-4533-8768-4ee6ad2d1c0e",
   "metadata": {
    "tags": []
   },
   "source": [
    "# Train an LR model"
   ]
  },
  {
   "cell_type": "code",
   "execution_count": 78,
   "id": "07d52b5f-623d-4b2d-9cd3-a6b248ec66c1",
   "metadata": {
    "execution": {
     "iopub.execute_input": "2021-11-28T06:41:16.687443Z",
     "iopub.status.busy": "2021-11-28T06:41:16.687209Z",
     "iopub.status.idle": "2021-11-28T06:41:17.631521Z",
     "shell.execute_reply": "2021-11-28T06:41:17.630683Z",
     "shell.execute_reply.started": "2021-11-28T06:41:16.687414Z"
    },
    "tags": []
   },
   "outputs": [],
   "source": [
    "from sklearn.linear_model import LogisticRegression"
   ]
  },
  {
   "cell_type": "markdown",
   "id": "d11fdc3f-da86-4682-9cc7-d8d4f80ccc59",
   "metadata": {
    "tags": []
   },
   "source": [
    "#### <u> **Train new model from scratch using out-of-box or hand-crafted hyperparams** </u> "
   ]
  },
  {
   "cell_type": "code",
   "execution_count": 79,
   "id": "d2e2129d-b72d-48e6-94ca-f952b00b3be0",
   "metadata": {
    "execution": {
     "iopub.execute_input": "2021-11-28T06:41:17.632998Z",
     "iopub.status.busy": "2021-11-28T06:41:17.632740Z",
     "iopub.status.idle": "2021-11-28T06:41:19.662422Z",
     "shell.execute_reply": "2021-11-28T06:41:19.661351Z",
     "shell.execute_reply.started": "2021-11-28T06:41:17.632968Z"
    },
    "tags": []
   },
   "outputs": [
    {
     "name": "stdout",
     "output_type": "stream",
     "text": [
      "Training new LR model with the following params: {'C': 1.0, 'class_weight': None, 'dual': False, 'fit_intercept': True, 'intercept_scaling': 1, 'l1_ratio': None, 'max_iter': 100, 'multi_class': 'auto', 'n_jobs': None, 'penalty': 'l2', 'random_state': 13, 'solver': 'lbfgs', 'tol': 0.0001, 'verbose': 1, 'warm_start': False}\n"
     ]
    },
    {
     "name": "stderr",
     "output_type": "stream",
     "text": [
      "[Parallel(n_jobs=1)]: Using backend SequentialBackend with 1 concurrent workers.\n",
      "[Parallel(n_jobs=1)]: Done   1 out of   1 | elapsed:    1.0s finished\n"
     ]
    }
   ],
   "source": [
    "if TRAIN == True and HYPERPARAM == \"baseline\":\n",
    "    clf = LogisticRegression(random_state=13, verbose=1)\n",
    "    print(\"Training new LR model with the following params: {}\".format(clf.get_params()))\n",
    "    clf.fit(X_train, y_train)"
   ]
  },
  {
   "cell_type": "markdown",
   "id": "8fac8c65-60e6-4ee4-a47c-88f26d37b130",
   "metadata": {
    "tags": []
   },
   "source": [
    "#### <u> **Save hyperpameters of model** </u>"
   ]
  },
  {
   "cell_type": "code",
   "execution_count": 80,
   "id": "37e1b590-49e3-4708-acbf-8afeecacc236",
   "metadata": {
    "execution": {
     "iopub.execute_input": "2021-11-28T06:41:19.664376Z",
     "iopub.status.busy": "2021-11-28T06:41:19.663825Z",
     "iopub.status.idle": "2021-11-28T06:41:20.867610Z",
     "shell.execute_reply": "2021-11-28T06:41:20.866672Z",
     "shell.execute_reply.started": "2021-11-28T06:41:19.664335Z"
    },
    "tags": []
   },
   "outputs": [
    {
     "name": "stdout",
     "output_type": "stream",
     "text": [
      "Saving hyperparams to 0.18-0.4_mixed-1.0_baseline_LR/0.18-0.4_mixed-1.0_LR-clf_baseline.params.csv\n"
     ]
    }
   ],
   "source": [
    "if TRAIN == True:\n",
    "    file = \"{0}/{1}_{2}_LR-clf_{3}.params.csv\".format(OUTDIR, PREPROCESS, FEATURES, HYPERPARAM)\n",
    "    print(\"Saving hyperparams to {}\".format(file))\n",
    "    pd.DataFrame(pd.Series(clf.get_params())).T.to_csv(file, index=False)\n",
    "else:\n",
    "    print(\"Not training a new model, load in cell below\")"
   ]
  },
  {
   "cell_type": "markdown",
   "id": "9e4543a4-9517-4033-bd2a-14baf4881130",
   "metadata": {
    "tags": []
   },
   "source": [
    "#### <u> **Load previously trained model** </u>"
   ]
  },
  {
   "cell_type": "code",
   "execution_count": 81,
   "id": "1d44eb82-9553-45d6-bf2c-7093443bb1e4",
   "metadata": {
    "execution": {
     "iopub.execute_input": "2021-11-28T06:41:20.869052Z",
     "iopub.status.busy": "2021-11-28T06:41:20.868773Z",
     "iopub.status.idle": "2021-11-28T06:41:22.053675Z",
     "shell.execute_reply": "2021-11-28T06:41:22.052703Z",
     "shell.execute_reply.started": "2021-11-28T06:41:20.869015Z"
    },
    "tags": []
   },
   "outputs": [
    {
     "name": "stdout",
     "output_type": "stream",
     "text": [
      "Already trained a model in cell above (run if not run already)\n"
     ]
    }
   ],
   "source": [
    "if TRAIN == False:\n",
    "    file = '{}/{}_{}_LR-clf_{}.pickle'.format(OUTDIR, PREPROCESS, FEATURES, HYPERPARAM)\n",
    "    print(\"Loading model from {}\".format(file))\n",
    "    clf = pickle.load(open(file, 'rb'))\n",
    "else:\n",
    "    print(\"Already trained a model in cell above (run if not run already)\")"
   ]
  },
  {
   "cell_type": "markdown",
   "id": "91febd92-a935-41d1-8f23-2e3f7de9b546",
   "metadata": {
    "execution": {
     "iopub.execute_input": "2021-07-26T03:43:46.264746Z",
     "iopub.status.busy": "2021-07-26T03:43:46.264474Z",
     "iopub.status.idle": "2021-07-26T03:43:47.055876Z",
     "shell.execute_reply": "2021-07-26T03:43:47.054281Z",
     "shell.execute_reply.started": "2021-07-26T03:43:46.264712Z"
    },
    "tags": []
   },
   "source": [
    "# Validation Set Performance"
   ]
  },
  {
   "cell_type": "code",
   "execution_count": 82,
   "id": "aaebe6fc-3c95-4a23-ab48-e48611518c83",
   "metadata": {
    "execution": {
     "iopub.execute_input": "2021-11-28T06:41:22.055718Z",
     "iopub.status.busy": "2021-11-28T06:41:22.055479Z",
     "iopub.status.idle": "2021-11-28T06:41:23.363721Z",
     "shell.execute_reply": "2021-11-28T06:41:23.362735Z",
     "shell.execute_reply.started": "2021-11-28T06:41:22.055689Z"
    },
    "tags": []
   },
   "outputs": [],
   "source": [
    "# Get the classification results on validation set\n",
    "prob_thresh = 0.5\n",
    "y_tr_probs = clf.predict_proba(X_train)[:, 1]\n",
    "y_probs = clf.predict_proba(X_test)[:, 1]\n",
    "y_tr_preds = (y_tr_probs >= prob_thresh).astype(int)\n",
    "y_preds = (y_probs >= prob_thresh).astype(int)"
   ]
  },
  {
   "cell_type": "code",
   "execution_count": 83,
   "id": "22a653ab-5c4d-44dc-9024-75b74da06891",
   "metadata": {
    "execution": {
     "iopub.execute_input": "2021-11-28T06:41:23.365631Z",
     "iopub.status.busy": "2021-11-28T06:41:23.365306Z",
     "iopub.status.idle": "2021-11-28T06:41:29.003472Z",
     "shell.execute_reply": "2021-11-28T06:41:29.002598Z",
     "shell.execute_reply.started": "2021-11-28T06:41:23.365588Z"
    },
    "tags": []
   },
   "outputs": [
    {
     "name": "stdout",
     "output_type": "stream",
     "text": [
      "Predictions provided, skipping them\n",
      "Generating confusion matrix\n",
      "Calculating classification metrics\n",
      "Metric\tTrain\tTest\n",
      "Accuracy\t0.6970\t0.6948\n",
      "Precision\t0.5752\t0.5587\n",
      "Recall\t0.0979\t0.0924\n",
      "F0.1-Score\t0.5487\t0.5321\n",
      "F0.5-Score\t0.2912\t0.2780\n",
      "F1-Score\t0.1673\t0.1586\n",
      "F2-Score\t0.1173\t0.1109\n",
      "F10-Score\t0.0987\t0.0932\n",
      "Plotting PR Curve\n",
      "Plotting ROC Curve\n",
      "Generating report\n"
     ]
    }
   ],
   "source": [
    "# Generate a report\n",
    "project_utils.classification_report(out_path=\"{}_{}_{}_LR\".format(PREPROCESS, FEATURES, HYPERPARAM),\n",
    "                                    train_X=X_train, test_X=X_test, \n",
    "                                    train_y=y_train, test_y=y_test,\n",
    "                                    train_preds=y_tr_preds, test_preds=y_preds,\n",
    "                                    train_probs=y_tr_probs, test_probs=y_probs)"
   ]
  },
  {
   "cell_type": "markdown",
   "id": "66403e4d-0da0-4325-90da-ad143074ef93",
   "metadata": {},
   "source": [
    "# Save the classifier"
   ]
  },
  {
   "cell_type": "code",
   "execution_count": 84,
   "id": "63dae803-bfff-4c5f-b7a7-4a432c7a304f",
   "metadata": {
    "execution": {
     "iopub.execute_input": "2021-11-28T06:41:29.005061Z",
     "iopub.status.busy": "2021-11-28T06:41:29.004814Z",
     "iopub.status.idle": "2021-11-28T06:41:30.373592Z",
     "shell.execute_reply": "2021-11-28T06:41:30.372773Z",
     "shell.execute_reply.started": "2021-11-28T06:41:29.005028Z"
    },
    "tags": []
   },
   "outputs": [],
   "source": [
    "if TRAIN == True:\n",
    "    file = '{}/{}_{}_LR-clf_{}.pickle'.format(OUTDIR, PREPROCESS, FEATURES, HYPERPARAM)\n",
    "    pickle.dump(clf, open(file, 'wb'))\n",
    "else:\n",
    "    print(\"No need to save, loaded trained model already\")"
   ]
  }
 ],
 "metadata": {
  "kernelspec": {
   "display_name": "Python3 ml_env",
   "language": "python",
   "name": "ml_env"
  },
  "language_info": {
   "codemirror_mode": {
    "name": "ipython",
    "version": 3
   },
   "file_extension": ".py",
   "mimetype": "text/x-python",
   "name": "python",
   "nbconvert_exporter": "python",
   "pygments_lexer": "ipython3",
   "version": "3.8.8"
  }
 },
 "nbformat": 4,
 "nbformat_minor": 5
}

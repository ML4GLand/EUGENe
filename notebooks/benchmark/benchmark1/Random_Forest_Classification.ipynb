{
 "cells": [
  {
   "cell_type": "markdown",
   "id": "c8fab0a8-93f8-49b4-a95f-3b4e0efeced1",
   "metadata": {},
   "source": [
    "# Random Forest (RF) For Enhancer Activity Classification"
   ]
  },
  {
   "cell_type": "markdown",
   "id": "9d578cf7-2851-4e1c-9599-4c307a0a34b7",
   "metadata": {
    "execution": {
     "iopub.execute_input": "2021-11-28T01:53:30.746610Z",
     "iopub.status.busy": "2021-11-28T01:53:30.746380Z"
    }
   },
   "source": [
    "**Authorship:**\n",
    "Adam Klie, *MM/DD/YYYY*\n",
    "***\n",
    "**Description:**\n",
    "Notebook to train random forest classifiers for enhancer activity\n",
    "***\n",
    "**TODOs:**\n",
    " - <font color='red'> Add RandomCV training section </font>\n",
    " - <font color='red'> Maybe integrate hyperopt code here, as a callable function </font>\n",
    "***"
   ]
  },
  {
   "cell_type": "markdown",
   "id": "76f1070c-04c6-451a-93d3-576fa6b68843",
   "metadata": {
    "tags": []
   },
   "source": [
    "# Set-up"
   ]
  },
  {
   "cell_type": "code",
   "execution_count": 119,
   "id": "e0e91115-594f-46aa-a22f-b5f1b31a36d1",
   "metadata": {
    "execution": {
     "iopub.execute_input": "2021-12-03T18:18:55.586385Z",
     "iopub.status.busy": "2021-12-03T18:18:55.586092Z",
     "iopub.status.idle": "2021-12-03T18:18:56.965734Z",
     "shell.execute_reply": "2021-12-03T18:18:56.964992Z",
     "shell.execute_reply.started": "2021-12-03T18:18:55.586357Z"
    },
    "tags": []
   },
   "outputs": [],
   "source": [
    "# Classics\n",
    "import os\n",
    "import matplotlib.pyplot as plt\n",
    "import numpy as np\n",
    "import pandas as pd\n",
    "import seaborn as sns\n",
    "import pickle\n",
    "\n",
    "# Figure style\n",
    "plt.style.use('presentation')\n",
    "\n",
    "# Autoreload extension\n",
    "if 'autoreload' not in get_ipython().extension_manager.loaded:\n",
    "    %load_ext autoreload\n",
    "    \n",
    "%autoreload 2\n",
    "\n",
    "import sys\n",
    "sys.path.append('/cellar/users/aklie/projects/EUGENE/bin/')\n",
    "import project_utils"
   ]
  },
  {
   "cell_type": "code",
   "execution_count": 130,
   "id": "c0229cbc-d2ab-42fc-a701-071a72b8bc30",
   "metadata": {
    "execution": {
     "iopub.execute_input": "2021-12-03T21:29:34.559342Z",
     "iopub.status.busy": "2021-12-03T21:29:34.559038Z",
     "iopub.status.idle": "2021-12-03T21:29:35.589113Z",
     "shell.execute_reply": "2021-12-03T21:29:35.588402Z",
     "shell.execute_reply.started": "2021-12-03T21:29:34.559311Z"
    },
    "tags": []
   },
   "outputs": [],
   "source": [
    "# Define parameters of the notebook (CHANGE THESE FOR USE CASE)\n",
    "DATASET = \"2021_OLS_Library\"  # Which dataset to look at\n",
    "FEATURES = \"mixed-1.0\"  # What features to use to train the model\n",
    "LABELS = \"binary\"\n",
    "PREPROCESS = \"0.18-0.4\"  # Preprocessing steps, separated by \"-\"\n",
    "TRAIN = True\n",
    "SPLIT = 0.9\n",
    "SUBSET = False\n",
    "HYPERPARAM = \"100-trials-optuna\"\n",
    "OUTDIR=\"{}_{}_{}_RF\".format(PREPROCESS, FEATURES, HYPERPARAM)  # CHANGE THIS!!!\n",
    "if not os.path.exists(OUTDIR):\n",
    "    os.makedirs(OUTDIR)"
   ]
  },
  {
   "cell_type": "markdown",
   "id": "20293f16-1e15-442c-ad9c-58a5068ac90d",
   "metadata": {
    "tags": []
   },
   "source": [
    "# Load train and validation data"
   ]
  },
  {
   "cell_type": "code",
   "execution_count": 121,
   "id": "1ad18e32-5ee3-40bc-9465-877e1c827ef9",
   "metadata": {
    "execution": {
     "iopub.execute_input": "2021-12-03T18:18:58.513332Z",
     "iopub.status.busy": "2021-12-03T18:18:58.513119Z",
     "iopub.status.idle": "2021-12-03T18:19:00.721173Z",
     "shell.execute_reply": "2021-12-03T18:19:00.720363Z",
     "shell.execute_reply.started": "2021-12-03T18:18:58.513307Z"
    },
    "tags": []
   },
   "outputs": [
    {
     "data": {
      "text/plain": [
       "((272591, 21), (272591,), (30288, 21), (30288,))"
      ]
     },
     "execution_count": 121,
     "metadata": {},
     "output_type": "execute_result"
    }
   ],
   "source": [
    "# Load train and val\n",
    "X_train = np.load('../data/{0}/{1}/{2}_X-train-{3}_{4}.npy'.format(DATASET, FEATURES.replace(\"-\", \"_\"), PREPROCESS, SPLIT, FEATURES))\n",
    "X_test = np.load('../data/{0}/{1}/{2}_X-test-{3}_{4}.npy'.format(DATASET, FEATURES.replace(\"-\", \"_\"), PREPROCESS, round(1-SPLIT, 1), FEATURES))\n",
    "y_train = np.loadtxt('../data/{0}/{1}/{2}_y-train-{3}_{1}.txt'.format(DATASET, LABELS, PREPROCESS, SPLIT), dtype=int)\n",
    "y_test = np.loadtxt('../data/{0}/{1}/{2}_y-test-{3}_{1}.txt'.format(DATASET, LABELS, PREPROCESS, round(1-SPLIT, 1)), dtype=int)\n",
    "\n",
    "# Check em\n",
    "X_train.shape, y_train.shape, X_test.shape, y_test.shape"
   ]
  },
  {
   "cell_type": "markdown",
   "id": "c11b1964-7ac1-4533-8768-4ee6ad2d1c0e",
   "metadata": {
    "tags": []
   },
   "source": [
    "# Train an LR model"
   ]
  },
  {
   "cell_type": "code",
   "execution_count": 122,
   "id": "07d52b5f-623d-4b2d-9cd3-a6b248ec66c1",
   "metadata": {
    "execution": {
     "iopub.execute_input": "2021-12-03T18:19:02.514065Z",
     "iopub.status.busy": "2021-12-03T18:19:02.513845Z",
     "iopub.status.idle": "2021-12-03T18:19:03.877281Z",
     "shell.execute_reply": "2021-12-03T18:19:03.876612Z",
     "shell.execute_reply.started": "2021-12-03T18:19:02.514038Z"
    },
    "tags": []
   },
   "outputs": [],
   "source": [
    "from sklearn.ensemble import RandomForestClassifier"
   ]
  },
  {
   "cell_type": "markdown",
   "id": "d11fdc3f-da86-4682-9cc7-d8d4f80ccc59",
   "metadata": {
    "tags": []
   },
   "source": [
    "#### <u> **Train new model from scratch using out-of-box hyperparams** </u> "
   ]
  },
  {
   "cell_type": "code",
   "execution_count": 124,
   "id": "d2e2129d-b72d-48e6-94ca-f952b00b3be0",
   "metadata": {
    "execution": {
     "iopub.execute_input": "2021-12-03T18:19:21.056488Z",
     "iopub.status.busy": "2021-12-03T18:19:21.056268Z",
     "iopub.status.idle": "2021-12-03T18:19:22.318639Z",
     "shell.execute_reply": "2021-12-03T18:19:22.318060Z",
     "shell.execute_reply.started": "2021-12-03T18:19:21.056461Z"
    },
    "tags": []
   },
   "outputs": [
    {
     "name": "stdout",
     "output_type": "stream",
     "text": [
      "Not fitting baseline model\n"
     ]
    }
   ],
   "source": [
    "if TRAIN == True and HYPERPARAM == \"baseline\":\n",
    "    clf = RandomForestClassifier(random_state=13, n_jobs=-1, verbose=1)\n",
    "    print(\"Training new RF model with the following params: {}\".format(clf.get_params()))\n",
    "    clf.fit(X_train, y_train)\n",
    "else:\n",
    "    print(\"Not fitting baseline model\")"
   ]
  },
  {
   "cell_type": "markdown",
   "id": "95ae5755-c5b8-4ff4-b1f3-ab3a1bda4741",
   "metadata": {
    "tags": []
   },
   "source": [
    "#### <u> **Train new model from scratch using hand-crafted hyperparams** </u> "
   ]
  },
  {
   "cell_type": "code",
   "execution_count": 125,
   "id": "1213427d-7bc3-4e84-9259-c2bfceb43323",
   "metadata": {
    "execution": {
     "iopub.execute_input": "2021-12-03T18:19:34.514642Z",
     "iopub.status.busy": "2021-12-03T18:19:34.514432Z",
     "iopub.status.idle": "2021-12-03T18:19:35.830611Z",
     "shell.execute_reply": "2021-12-03T18:19:35.829943Z",
     "shell.execute_reply.started": "2021-12-03T18:19:34.514616Z"
    },
    "tags": []
   },
   "outputs": [
    {
     "name": "stdout",
     "output_type": "stream",
     "text": [
      "Not fitting selected model\n"
     ]
    }
   ],
   "source": [
    "if TRAIN == True and HYPERPARAM == \"selected\":\n",
    "    clf = RandomForestClassifier(n_estimators=1000,\n",
    "                                 max_depth=10,\n",
    "                                 min_samples_split=10, \n",
    "                                 min_samples_leaf=10, \n",
    "                                 bootstrap=True, \n",
    "                                 max_features=\"auto\",\n",
    "                                 class_weight=\"balanced\",\n",
    "                                 random_state=13, \n",
    "                                 n_jobs=-1,\n",
    "                                 verbose=1)\n",
    "    print(\"Training new RF model with the following params: {}\".format(clf.get_params()))\n",
    "    clf.fit(X_train, y_train)\n",
    "else:\n",
    "    print(\"Not fitting selected model\")"
   ]
  },
  {
   "cell_type": "markdown",
   "id": "cde6bd83-9cfa-4681-a513-c40f35f678e3",
   "metadata": {
    "tags": []
   },
   "source": [
    "#### <u> **Train a new model using Optuna identified hyperparameters** </u>"
   ]
  },
  {
   "cell_type": "code",
   "execution_count": 136,
   "id": "065212a1-81e3-488e-b4f1-6b069374b174",
   "metadata": {
    "execution": {
     "iopub.execute_input": "2021-12-03T21:35:15.664535Z",
     "iopub.status.busy": "2021-12-03T21:35:15.664272Z",
     "iopub.status.idle": "2021-12-03T21:35:16.781351Z",
     "shell.execute_reply": "2021-12-03T21:35:16.780441Z",
     "shell.execute_reply.started": "2021-12-03T21:35:15.664506Z"
    },
    "tags": []
   },
   "outputs": [
    {
     "name": "stdout",
     "output_type": "stream",
     "text": [
      "screen -S opt\n",
      "blue_pill 32 128G opt\n",
      "python RF_clf_hyperopt.py \\\n",
      "     --preprocess 0.18-0.4 \\\n",
      "     --features mixed-1.0 \\\n",
      "     --out 0.18-0.4_mixed-1.0_100-trials-optuna_RF \\\n",
      "     --num_trials 100\n"
     ]
    }
   ],
   "source": [
    "## Run the following first before the next cell. \n",
    "## Note, will probably take a few hours to run\n",
    "if TRAIN == True and \"optuna\" in HYPERPARAM:\n",
    "    print(\"screen -S opt\\nblue_pill 32 128G opt\\npython RF_clf_hyperopt.py \\\\\\n \\\n",
    "    --preprocess {} \\\\\\n \\\n",
    "    --features {} \\\\\\n \\\n",
    "    --out {} \\\\\\n \\\n",
    "    --num_trials 100\".format(PREPROCESS, FEATURES, OUTDIR))\n",
    "else:\n",
    "    print(\"Not fitting selected model\")"
   ]
  },
  {
   "cell_type": "code",
   "execution_count": 127,
   "id": "6d98acab-44e0-4607-bcb1-d7bb3e6cc84a",
   "metadata": {
    "execution": {
     "iopub.execute_input": "2021-12-03T18:19:54.921779Z",
     "iopub.status.busy": "2021-12-03T18:19:54.921571Z",
     "iopub.status.idle": "2021-12-03T18:19:56.266676Z",
     "shell.execute_reply": "2021-12-03T18:19:56.265982Z",
     "shell.execute_reply.started": "2021-12-03T18:19:54.921753Z"
    }
   },
   "outputs": [
    {
     "name": "stdout",
     "output_type": "stream",
     "text": [
      "Not fitting selected model\n"
     ]
    }
   ],
   "source": [
    "if TRAIN == True and \"optuna\" in HYPERPARAM:\n",
    "    #study = joblib.load(\"{1}_{2}_RF-study_{3}.pickle\".format(OUTDIR, PREPROCESS, FEATURES, HYPERPARAM))\n",
    "    #params = study.best_trial.params\n",
    "    params = pickle.load(open(\"{0}/{1}_{2}_RF-study_{3}.params.pickle\".format(OUTDIR, PREPROCESS, FEATURES, HYPERPARAM), \"rb\"))\n",
    "    for key in list(params.keys()):\n",
    "        params[key.split(\"RF_\")[1]] = params.pop(key) \n",
    "    clf = RandomForestClassifier(random_state=13, n_jobs=-1, verbose=1, **params)\n",
    "    clf.fit(X_train, y_train)\n",
    "else:\n",
    "    print(\"Not fitting optuna model\")"
   ]
  },
  {
   "cell_type": "markdown",
   "id": "40a45f1d-3e2c-4ee2-b24e-42625e16d338",
   "metadata": {
    "tags": []
   },
   "source": [
    "#### <u> **Train new model using random search cross validation** </u> "
   ]
  },
  {
   "cell_type": "code",
   "execution_count": 128,
   "id": "b8624eb4-1c86-4f5a-b345-834de6f3ede1",
   "metadata": {
    "execution": {
     "iopub.execute_input": "2021-12-03T18:19:57.506850Z",
     "iopub.status.busy": "2021-12-03T18:19:57.506620Z",
     "iopub.status.idle": "2021-12-03T18:19:58.807218Z",
     "shell.execute_reply": "2021-12-03T18:19:58.806497Z",
     "shell.execute_reply.started": "2021-12-03T18:19:57.506802Z"
    },
    "tags": []
   },
   "outputs": [],
   "source": [
    "from sklearn.model_selection import RandomizedSearchCV"
   ]
  },
  {
   "cell_type": "code",
   "execution_count": 129,
   "id": "d5de366f-e058-4a5c-ae76-44673a79e596",
   "metadata": {
    "execution": {
     "iopub.execute_input": "2021-12-03T18:20:12.045628Z",
     "iopub.status.busy": "2021-12-03T18:20:12.045376Z",
     "iopub.status.idle": "2021-12-03T19:58:20.435305Z",
     "shell.execute_reply": "2021-12-03T19:58:20.434494Z",
     "shell.execute_reply.started": "2021-12-03T18:20:12.045601Z"
    },
    "tags": []
   },
   "outputs": [
    {
     "name": "stdout",
     "output_type": "stream",
     "text": [
      "Fitting 5 folds for each of 10 candidates, totalling 50 fits\n"
     ]
    },
    {
     "name": "stderr",
     "output_type": "stream",
     "text": [
      "[Parallel(n_jobs=-1)]: Using backend ThreadingBackend with 4 concurrent workers.\n",
      "[Parallel(n_jobs=-1)]: Done  42 tasks      | elapsed:    6.6s\n",
      "[Parallel(n_jobs=-1)]: Done 192 tasks      | elapsed:   27.3s\n",
      "[Parallel(n_jobs=-1)]: Done 442 tasks      | elapsed:   59.7s\n",
      "[Parallel(n_jobs=-1)]: Done 792 tasks      | elapsed:  1.8min\n",
      "[Parallel(n_jobs=-1)]: Done 1242 tasks      | elapsed:  2.8min\n"
     ]
    },
    {
     "name": "stdout",
     "output_type": "stream",
     "text": [
      "Trained new RF model with the following params: {'bootstrap': False, 'ccp_alpha': 0.0, 'class_weight': None, 'criterion': 'gini', 'max_depth': 110, 'max_features': 'auto', 'max_leaf_nodes': None, 'max_samples': None, 'min_impurity_decrease': 0.0, 'min_impurity_split': None, 'min_samples_leaf': 4, 'min_samples_split': 2, 'min_weight_fraction_leaf': 0.0, 'n_estimators': 1400, 'n_jobs': -1, 'oob_score': False, 'random_state': 13, 'verbose': 1, 'warm_start': False}\n"
     ]
    },
    {
     "name": "stderr",
     "output_type": "stream",
     "text": [
      "[Parallel(n_jobs=-1)]: Done 1400 out of 1400 | elapsed:  3.1min finished\n"
     ]
    }
   ],
   "source": [
    "if TRAIN == True and HYPERPARAM == \"random-CV\":\n",
    "    n_estimators = [int(x) for x in np.linspace(start = 200, stop = 2000, num = 10)]\n",
    "    max_features = ['auto', 'sqrt']\n",
    "    max_depth = [int(x) for x in np.linspace(10, 110, num = 11)]\n",
    "    max_depth.append(None)\n",
    "    min_samples_split = [2, 5, 10]\n",
    "    min_samples_leaf = [1, 2, 4]\n",
    "    bootstrap = [True, False]\n",
    "    random_grid = {'n_estimators': n_estimators,\n",
    "                   'max_features': max_features,\n",
    "                   'max_depth': max_depth,\n",
    "                   'min_samples_split': min_samples_split,\n",
    "                   'min_samples_leaf': min_samples_leaf,\n",
    "                   'bootstrap': bootstrap}\n",
    "    \n",
    "    # Instatiate the model\n",
    "    clf = RandomForestClassifier(random_state=13, n_jobs=-1, verbose=1)\n",
    "    rf_random = RandomizedSearchCV(estimator=clf, \n",
    "                               param_distributions=random_grid, \n",
    "                               n_iter=10, \n",
    "                               cv = 5, \n",
    "                               verbose=2, \n",
    "                               random_state=13, \n",
    "                               n_jobs = -1)\n",
    "\n",
    "    # Fit the random search model\n",
    "    rf_random.fit(X_train, y_train)\n",
    "    clf = rf_random.best_estimator_\n",
    "    print(\"Trained new RF model with the following params: {}\".format(clf.get_params()))\n",
    "else:\n",
    "    print(\"Not fitting random-CV model\")"
   ]
  },
  {
   "cell_type": "markdown",
   "id": "8fac8c65-60e6-4ee4-a47c-88f26d37b130",
   "metadata": {
    "tags": []
   },
   "source": [
    "#### <u> **Save hyperpameters of model** </u>"
   ]
  },
  {
   "cell_type": "code",
   "execution_count": 93,
   "id": "37e1b590-49e3-4708-acbf-8afeecacc236",
   "metadata": {
    "execution": {
     "iopub.execute_input": "2021-12-03T17:09:59.760996Z",
     "iopub.status.busy": "2021-12-03T17:09:59.760753Z",
     "iopub.status.idle": "2021-12-03T17:10:00.651346Z",
     "shell.execute_reply": "2021-12-03T17:10:00.650623Z",
     "shell.execute_reply.started": "2021-12-03T17:09:59.760968Z"
    },
    "tags": []
   },
   "outputs": [
    {
     "name": "stdout",
     "output_type": "stream",
     "text": [
      "Saving hyperparams to 0.18-0.4_mixed-1.0_random-CV_RF/0.18-0.4_mixed-1.0_RF-clf_random-CV.params.csv\n"
     ]
    }
   ],
   "source": [
    "if TRAIN == True:\n",
    "    file = \"{0}/{1}_{2}_RF-clf_{3}.params.csv\".format(OUTDIR, PREPROCESS, FEATURES, HYPERPARAM)\n",
    "    print(\"Saving hyperparams to {}\".format(file))\n",
    "    pd.DataFrame(pd.Series(clf.get_params())).T.to_csv(file, index=False)\n",
    "else:\n",
    "    print(\"Not training a new model, load in cell below\")"
   ]
  },
  {
   "cell_type": "markdown",
   "id": "9e4543a4-9517-4033-bd2a-14baf4881130",
   "metadata": {
    "tags": []
   },
   "source": [
    "#### <u> **Load previously trained model** </u>"
   ]
  },
  {
   "cell_type": "code",
   "execution_count": 114,
   "id": "1d44eb82-9553-45d6-bf2c-7093443bb1e4",
   "metadata": {
    "execution": {
     "iopub.execute_input": "2021-12-03T18:15:14.507941Z",
     "iopub.status.busy": "2021-12-03T18:15:14.507622Z",
     "iopub.status.idle": "2021-12-03T18:15:15.653634Z",
     "shell.execute_reply": "2021-12-03T18:15:15.653025Z",
     "shell.execute_reply.started": "2021-12-03T18:15:14.507911Z"
    },
    "tags": []
   },
   "outputs": [
    {
     "name": "stdout",
     "output_type": "stream",
     "text": [
      "Already trained a model in cell above (run if not run already)\n"
     ]
    }
   ],
   "source": [
    "if TRAIN == False:\n",
    "    file = '{}/{}_{}_RF-clf_{}.pickle'.format(OUTDIR, PREPROCESS, FEATURES, HYPERPARAM)\n",
    "    print(\"Loading model from {}\".format(file))\n",
    "    clf = pickle.load(open(file, 'rb'))\n",
    "else:\n",
    "    print(\"Already trained a model in cell above (run if not run already)\")"
   ]
  },
  {
   "cell_type": "markdown",
   "id": "91febd92-a935-41d1-8f23-2e3f7de9b546",
   "metadata": {
    "execution": {
     "iopub.execute_input": "2021-07-26T03:43:46.264746Z",
     "iopub.status.busy": "2021-07-26T03:43:46.264474Z",
     "iopub.status.idle": "2021-07-26T03:43:47.055876Z",
     "shell.execute_reply": "2021-07-26T03:43:47.054281Z",
     "shell.execute_reply.started": "2021-07-26T03:43:46.264712Z"
    },
    "tags": []
   },
   "source": [
    "# Validation Set Performance"
   ]
  },
  {
   "cell_type": "code",
   "execution_count": 115,
   "id": "aaebe6fc-3c95-4a23-ab48-e48611518c83",
   "metadata": {
    "execution": {
     "iopub.execute_input": "2021-12-03T18:15:19.507971Z",
     "iopub.status.busy": "2021-12-03T18:15:19.507726Z",
     "iopub.status.idle": "2021-12-03T18:16:12.656251Z",
     "shell.execute_reply": "2021-12-03T18:16:12.655524Z",
     "shell.execute_reply.started": "2021-12-03T18:15:19.507943Z"
    },
    "tags": []
   },
   "outputs": [
    {
     "name": "stderr",
     "output_type": "stream",
     "text": [
      "[Parallel(n_jobs=4)]: Using backend ThreadingBackend with 4 concurrent workers.\n",
      "[Parallel(n_jobs=4)]: Done  42 tasks      | elapsed:    0.7s\n",
      "[Parallel(n_jobs=4)]: Done 192 tasks      | elapsed:    3.2s\n",
      "[Parallel(n_jobs=4)]: Done 442 tasks      | elapsed:    7.4s\n",
      "[Parallel(n_jobs=4)]: Done 792 tasks      | elapsed:   13.3s\n",
      "[Parallel(n_jobs=4)]: Done 1242 tasks      | elapsed:   20.7s\n",
      "[Parallel(n_jobs=4)]: Done 1400 out of 1400 | elapsed:   23.3s finished\n",
      "[Parallel(n_jobs=4)]: Using backend ThreadingBackend with 4 concurrent workers.\n",
      "[Parallel(n_jobs=4)]: Done  42 tasks      | elapsed:    0.1s\n",
      "[Parallel(n_jobs=4)]: Done 192 tasks      | elapsed:    0.4s\n",
      "[Parallel(n_jobs=4)]: Done 442 tasks      | elapsed:    0.9s\n",
      "[Parallel(n_jobs=4)]: Done 792 tasks      | elapsed:    1.6s\n",
      "[Parallel(n_jobs=4)]: Done 1242 tasks      | elapsed:    2.5s\n",
      "[Parallel(n_jobs=4)]: Done 1400 out of 1400 | elapsed:    2.8s finished\n",
      "[Parallel(n_jobs=4)]: Using backend ThreadingBackend with 4 concurrent workers.\n",
      "[Parallel(n_jobs=4)]: Done  42 tasks      | elapsed:    0.7s\n",
      "[Parallel(n_jobs=4)]: Done 192 tasks      | elapsed:    3.1s\n",
      "[Parallel(n_jobs=4)]: Done 442 tasks      | elapsed:    7.2s\n",
      "[Parallel(n_jobs=4)]: Done 792 tasks      | elapsed:   13.0s\n",
      "[Parallel(n_jobs=4)]: Done 1242 tasks      | elapsed:   20.6s\n",
      "[Parallel(n_jobs=4)]: Done 1400 out of 1400 | elapsed:   23.1s finished\n",
      "[Parallel(n_jobs=4)]: Using backend ThreadingBackend with 4 concurrent workers.\n",
      "[Parallel(n_jobs=4)]: Done  42 tasks      | elapsed:    0.1s\n",
      "[Parallel(n_jobs=4)]: Done 192 tasks      | elapsed:    0.4s\n",
      "[Parallel(n_jobs=4)]: Done 442 tasks      | elapsed:    0.9s\n",
      "[Parallel(n_jobs=4)]: Done 792 tasks      | elapsed:    1.6s\n",
      "[Parallel(n_jobs=4)]: Done 1242 tasks      | elapsed:    2.5s\n",
      "[Parallel(n_jobs=4)]: Done 1400 out of 1400 | elapsed:    2.9s finished\n"
     ]
    }
   ],
   "source": [
    "# Get the classification results on validation set\n",
    "y_tr_preds = clf.predict(X_train)\n",
    "y_preds = clf.predict(X_test)\n",
    "y_tr_probs = clf.predict_proba(X_train)[:, 1]\n",
    "y_probs = clf.predict_proba(X_test)[:, 1]"
   ]
  },
  {
   "cell_type": "code",
   "execution_count": 117,
   "id": "22a653ab-5c4d-44dc-9024-75b74da06891",
   "metadata": {
    "execution": {
     "iopub.execute_input": "2021-12-03T18:16:26.744379Z",
     "iopub.status.busy": "2021-12-03T18:16:26.744158Z",
     "iopub.status.idle": "2021-12-03T18:16:32.196552Z",
     "shell.execute_reply": "2021-12-03T18:16:32.195874Z",
     "shell.execute_reply.started": "2021-12-03T18:16:26.744353Z"
    },
    "tags": []
   },
   "outputs": [
    {
     "name": "stdout",
     "output_type": "stream",
     "text": [
      "Predictions provided, skipping them\n",
      "Generating confusion matrix\n",
      "Calculating classification metrics\n",
      "Metric\tTrain\tTest\n",
      "Accuracy\t0.8628\t0.7149\n",
      "Precision\t0.8824\t0.7175\n",
      "Recall\t0.8219\t0.6571\n",
      "F0.1-Score\t0.8818\t0.7168\n",
      "F0.5-Score\t0.8696\t0.7045\n",
      "F1-Score\t0.8511\t0.6859\n",
      "F2-Score\t0.8333\t0.6683\n",
      "F10-Score\t0.8225\t0.6576\n",
      "Plotting PR Curve\n",
      "Plotting ROC Curve\n",
      "Generating report\n"
     ]
    }
   ],
   "source": [
    "# Generate a report\n",
    "project_utils.classification_report(out_path=\"{}_{}_{}_RF\".format(PREPROCESS, FEATURES, HYPERPARAM),\n",
    "                                    train_X=X_train, test_X=X_test, \n",
    "                                    train_y=y_train, test_y=y_test,\n",
    "                                    train_preds=y_tr_preds, test_preds=y_preds,\n",
    "                                    train_probs=y_tr_probs, test_probs=y_probs)"
   ]
  },
  {
   "cell_type": "markdown",
   "id": "66403e4d-0da0-4325-90da-ad143074ef93",
   "metadata": {},
   "source": [
    "# Save the classifier"
   ]
  },
  {
   "cell_type": "code",
   "execution_count": 118,
   "id": "7cb32f6d-6e02-4aff-8c84-65100cc5db54",
   "metadata": {
    "execution": {
     "iopub.execute_input": "2021-12-03T18:18:15.506954Z",
     "iopub.status.busy": "2021-12-03T18:18:15.506645Z",
     "iopub.status.idle": "2021-12-03T18:18:24.548062Z",
     "shell.execute_reply": "2021-12-03T18:18:24.547355Z",
     "shell.execute_reply.started": "2021-12-03T18:18:15.506924Z"
    },
    "tags": []
   },
   "outputs": [],
   "source": [
    "if TRAIN == True:\n",
    "    file = '{}/{}_{}_RF-clf_{}.pickle'.format(OUTDIR, PREPROCESS, FEATURES, HYPERPARAM)\n",
    "    pickle.dump(clf, open(file, 'wb'))\n",
    "else:\n",
    "    print(\"No need to save, loaded trained model already\")"
   ]
  },
  {
   "cell_type": "markdown",
   "id": "6bfa91f6-8d18-437b-90b9-310ac5891ef6",
   "metadata": {
    "tags": []
   },
   "source": [
    "# Scratch"
   ]
  },
  {
   "cell_type": "markdown",
   "id": "26b60314-ef6a-4859-8e7b-0bbd30befcb0",
   "metadata": {},
   "source": [
    "# References"
   ]
  },
  {
   "cell_type": "markdown",
   "id": "a303360e-13a2-4c56-a137-17f219607c8e",
   "metadata": {},
   "source": [
    " 1. Ref 1\n",
    " 2. Ref 2"
   ]
  }
 ],
 "metadata": {
  "kernelspec": {
   "display_name": "Python3 ml_env",
   "language": "python",
   "name": "ml_env"
  },
  "language_info": {
   "codemirror_mode": {
    "name": "ipython",
    "version": 3
   },
   "file_extension": ".py",
   "mimetype": "text/x-python",
   "name": "python",
   "nbconvert_exporter": "python",
   "pygments_lexer": "ipython3",
   "version": "3.8.8"
  }
 },
 "nbformat": 4,
 "nbformat_minor": 5
}

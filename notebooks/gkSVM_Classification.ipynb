{
 "cells": [
  {
   "cell_type": "markdown",
   "metadata": {},
   "source": [
    "# Gapped k-mer Support Vector Machine (gkSVM) for Enhancer Activity Prediction"
   ]
  },
  {
   "cell_type": "markdown",
   "metadata": {
    "execution": {
     "iopub.execute_input": "2022-02-05T19:33:21.144170Z",
     "iopub.status.busy": "2022-02-05T19:33:21.143956Z",
     "iopub.status.idle": "2022-02-05T19:33:21.151754Z",
     "shell.execute_reply": "2022-02-05T19:33:21.151300Z",
     "shell.execute_reply.started": "2022-02-05T19:33:21.144120Z"
    }
   },
   "source": [
    "**Authorship:**\n",
    "Adam Klie, *08/02/2021*\n",
    "***\n",
    "**Description:**\n",
    "    Notebook to train gkSVM classsifiers for predicting enhancer activity based on the implmentation in https://github.com/Dongwon-Lee/lsgkm/.\n",
    "\n",
    " - Currentlly allows the user to create a custom script with gkSVM hyperparameters\n",
    "***\n",
    "**TODOs:**\n",
    " - <font color='red'> Figure out how to work with kwargs in future </font>\n",
    "***"
   ]
  },
  {
   "cell_type": "code",
   "execution_count": 2,
   "metadata": {
    "execution": {
     "iopub.execute_input": "2022-02-05T19:34:05.557172Z",
     "iopub.status.busy": "2022-02-05T19:34:05.557011Z",
     "iopub.status.idle": "2022-02-05T19:34:16.719149Z",
     "shell.execute_reply": "2022-02-05T19:34:16.718690Z",
     "shell.execute_reply.started": "2022-02-05T19:34:05.557156Z"
    },
    "tags": []
   },
   "outputs": [],
   "source": [
    "# Classics\n",
    "import os\n",
    "import matplotlib.pyplot as plt\n",
    "import numpy as np\n",
    "import pandas as pd\n",
    "import seaborn as sns\n",
    "\n",
    "# Autoreload extension\n",
    "if 'autoreload' not in get_ipython().extension_manager.loaded:\n",
    "    %load_ext autoreload\n",
    "    \n",
    "%autoreload 2\n",
    "\n",
    "# Load local libraries\n",
    "import sys\n",
    "sys.path.append('/cellar/users/aklie/projects/EUGENE/bin/')\n",
    "import project_utils"
   ]
  },
  {
   "cell_type": "markdown",
   "metadata": {
    "tags": []
   },
   "source": [
    "# Set-up"
   ]
  },
  {
   "cell_type": "code",
   "execution_count": 216,
   "metadata": {
    "execution": {
     "iopub.execute_input": "2022-02-06T00:51:16.659456Z",
     "iopub.status.busy": "2022-02-06T00:51:16.659297Z",
     "iopub.status.idle": "2022-02-06T00:51:17.699560Z",
     "shell.execute_reply": "2022-02-06T00:51:17.699191Z",
     "shell.execute_reply.started": "2022-02-06T00:51:16.659440Z"
    },
    "tags": []
   },
   "outputs": [],
   "source": [
    "# Data params\n",
    "DATASET = \"2021_OLS_Library\"  # Which dataset to look at\n",
    "FEATURES = \"fasta\"  # What features to use to train the model\n",
    "LABELS = \"binary\"\n",
    "PREPROCESS = \"0.09-0.4\"  # Preprocessing steps, separated by \"-\"\n",
    "SPLIT = 0.9\n",
    "SUBSET = False"
   ]
  },
  {
   "cell_type": "code",
   "execution_count": 229,
   "metadata": {
    "execution": {
     "iopub.execute_input": "2022-02-06T01:20:53.912214Z",
     "iopub.status.busy": "2022-02-06T01:20:53.912052Z",
     "iopub.status.idle": "2022-02-06T01:20:54.969217Z",
     "shell.execute_reply": "2022-02-06T01:20:54.968762Z",
     "shell.execute_reply.started": "2022-02-06T01:20:53.912199Z"
    },
    "tags": []
   },
   "outputs": [],
   "source": [
    "# gkSVM hyperparams. See documentation for what each means\n",
    "KERNEL=\"2\"\n",
    "WORD_LENGTH=\"11\"\n",
    "INFORM_COLS=\"7\"\n",
    "MISMATCHES=\"3\"\n",
    "REG_PARAM=\"1.0\"\n",
    "POS_WEIGHT=\"1.345\"\n",
    "REV_COMP=True\n",
    "HYPERPARAM = \"{}-{}-{}-{}-{}-{}-{}\".format(KERNEL, \n",
    "                                           WORD_LENGTH, INFORM_COLS, MISMATCHES, \n",
    "                                           REV_COMP,\n",
    "                                           REG_PARAM, POS_WEIGHT)\n",
    "ARCHITECTURE = \"gkSVM\""
   ]
  },
  {
   "cell_type": "code",
   "execution_count": 230,
   "metadata": {
    "execution": {
     "iopub.execute_input": "2022-02-06T01:20:55.620446Z",
     "iopub.status.busy": "2022-02-06T01:20:55.620237Z",
     "iopub.status.idle": "2022-02-06T01:20:56.442046Z",
     "shell.execute_reply": "2022-02-06T01:20:56.441607Z",
     "shell.execute_reply.started": "2022-02-06T01:20:55.620429Z"
    },
    "tags": []
   },
   "outputs": [
    {
     "name": "stdout",
     "output_type": "stream",
     "text": [
      "Directory already exists\n"
     ]
    }
   ],
   "source": [
    "# Output directory\n",
    "OUTDIR=\"{}_{}_{}_{}\".format(PREPROCESS, FEATURES, HYPERPARAM, ARCHITECTURE)\n",
    "if not os.path.exists(OUTDIR):\n",
    "    print(\"Making directory {}\".format(OUTDIR))\n",
    "    os.makedirs(OUTDIR)\n",
    "else:\n",
    "    print(\"Directory already exists\")"
   ]
  },
  {
   "cell_type": "code",
   "execution_count": 231,
   "metadata": {
    "execution": {
     "iopub.execute_input": "2022-02-06T01:20:57.244805Z",
     "iopub.status.busy": "2022-02-06T01:20:57.244670Z",
     "iopub.status.idle": "2022-02-06T01:20:58.137195Z",
     "shell.execute_reply": "2022-02-06T01:20:58.136779Z",
     "shell.execute_reply.started": "2022-02-06T01:20:57.244791Z"
    },
    "tags": []
   },
   "outputs": [
    {
     "data": {
      "text/plain": [
       "('/cellar/users/aklie/projects/EUGENE/data/2021_OLS_Library/fasta',\n",
       " '0.09-0.4_X-train-0.9_fasta-pos.fa',\n",
       " '0.09-0.4_X-train-0.9_fasta-neg.fa',\n",
       " '0.09-0.4_X-test-0.1_fasta.fa')"
      ]
     },
     "execution_count": 231,
     "metadata": {},
     "output_type": "execute_result"
    }
   ],
   "source": [
    "# Define paths to train and validation data. Train data must be split into each class\n",
    "in_dir = \"/cellar/users/aklie/projects/EUGENE/data/{0}/fasta\".format(DATASET)\n",
    "pos = \"{0}_X-train-{1}_{2}-pos.fa\".format(PREPROCESS, SPLIT, FEATURES)\n",
    "neg = \"{0}_X-train-{1}_{2}-neg.fa\".format(PREPROCESS, SPLIT, FEATURES)\n",
    "val = \"{0}_X-test-{1}_{2}.fa\".format(PREPROCESS, round(1-SPLIT, 1), FEATURES)\n",
    "in_dir, pos, neg, val"
   ]
  },
  {
   "cell_type": "markdown",
   "metadata": {
    "tags": []
   },
   "source": [
    "# Train gkSVM model with script"
   ]
  },
  {
   "cell_type": "code",
   "execution_count": 232,
   "metadata": {
    "execution": {
     "iopub.execute_input": "2022-02-06T01:20:59.249570Z",
     "iopub.status.busy": "2022-02-06T01:20:59.249417Z",
     "iopub.status.idle": "2022-02-06T01:21:00.141494Z",
     "shell.execute_reply": "2022-02-06T01:21:00.141056Z",
     "shell.execute_reply.started": "2022-02-06T01:20:59.249554Z"
    },
    "tags": []
   },
   "outputs": [
    {
     "name": "stdout",
     "output_type": "stream",
     "text": [
      "Successfully generated 0.09-0.4_fasta_2-11-7-3-True-1.0-1.345_gkSVM/train_0.09-0.4_fasta_gkSVM-clf_2-11-7-3-True-1.0-1.345.sh\n",
      "Usage: sbatch train_0.09-0.4_fasta_gkSVM-clf_2-11-7-3-True-1.0-1.345.sh --job-name=train_0.09-0.4_fasta_gkSVM-clf_2-11-7-3-True-1.0-1.345 -o 0.09-0.4_fasta_2-11-7-3-True-1.0-1.345_gkSVM/train_0.09-0.4_fasta_gkSVM-clf_2-11-7-3-True-1.0-1.345.out -e 0.09-0.4_fasta_2-11-7-3-True-1.0-1.345_gkSVM/train_0.09-0.4_fasta_gkSVM-clf_2-11-7-3-True-1.0-1.345.err --mem=20G\n"
     ]
    }
   ],
   "source": [
    "project_utils.generate_slurm_train_script(in_dir, pos, neg, val, OUTDIR, HYPERPARAM, PREPROCESS)"
   ]
  },
  {
   "cell_type": "code",
   "execution_count": 233,
   "metadata": {
    "execution": {
     "iopub.execute_input": "2022-02-06T01:21:03.244422Z",
     "iopub.status.busy": "2022-02-06T01:21:03.244267Z",
     "iopub.status.idle": "2022-02-06T01:21:04.275117Z",
     "shell.execute_reply": "2022-02-06T01:21:04.274690Z",
     "shell.execute_reply.started": "2022-02-06T01:21:03.244407Z"
    },
    "tags": []
   },
   "outputs": [],
   "source": [
    "#!sbatch train_0.09-0.4_fasta_gkSVM-clf_2-11-7-3-True-1.0-1.345.sh --job-name=train_0.09-0.4_fasta_gkSVM-clf_2-11-7-3-True-1.0-1.345 --mem=20G"
   ]
  },
  {
   "cell_type": "markdown",
   "metadata": {},
   "source": [
    "# Validation Set performance"
   ]
  },
  {
   "cell_type": "code",
   "execution_count": 234,
   "metadata": {
    "execution": {
     "iopub.execute_input": "2022-02-06T01:21:04.275944Z",
     "iopub.status.busy": "2022-02-06T01:21:04.275836Z",
     "iopub.status.idle": "2022-02-06T01:21:05.302855Z",
     "shell.execute_reply": "2022-02-06T01:21:05.302478Z",
     "shell.execute_reply.started": "2022-02-06T01:21:04.275931Z"
    },
    "tags": []
   },
   "outputs": [
    {
     "data": {
      "text/plain": [
       "('0.09-0.4_fasta_2-11-7-3-True-1.0-1.345_gkSVM/0.09-0.4_fasta_gkSVM-clf_2-11-7-3-True-1.0-1.345.train-pos.predict.txt',\n",
       " '0.09-0.4_fasta_2-11-7-3-True-1.0-1.345_gkSVM/0.09-0.4_fasta_gkSVM-clf_2-11-7-3-True-1.0-1.345.train-neg.predict.txt',\n",
       " '0.09-0.4_fasta_2-11-7-3-True-1.0-1.345_gkSVM/0.09-0.4_fasta_gkSVM-clf_2-11-7-3-True-1.0-1.345.test.predict.txt')"
      ]
     },
     "execution_count": 234,
     "metadata": {},
     "output_type": "execute_result"
    }
   ],
   "source": [
    "model = \"{}_{}_{}-clf_{}\".format(PREPROCESS, FEATURES, ARCHITECTURE, HYPERPARAM)\n",
    "model_name = os.path.join(OUTDIR, model)\n",
    "pos_tr_file = \"{}.train-pos.predict.txt\".format(model_name)\n",
    "neg_tr_file = \"{}.train-neg.predict.txt\".format(model_name)\n",
    "val_file = \"{}.test.predict.txt\".format(model_name)\n",
    "pos_tr_file, neg_tr_file, val_file"
   ]
  },
  {
   "cell_type": "markdown",
   "metadata": {},
   "source": [
    "## **Training scores**"
   ]
  },
  {
   "cell_type": "code",
   "execution_count": 235,
   "metadata": {
    "execution": {
     "iopub.execute_input": "2022-02-06T01:21:06.243037Z",
     "iopub.status.busy": "2022-02-06T01:21:06.242821Z",
     "iopub.status.idle": "2022-02-06T01:21:07.445274Z",
     "shell.execute_reply": "2022-02-06T01:21:07.444915Z",
     "shell.execute_reply.started": "2022-02-06T01:21:06.243010Z"
    },
    "tags": []
   },
   "outputs": [],
   "source": [
    "# Make sure ordering is correct\n",
    "pos_tr_scores = project_utils.get_scores(pos_tr_file)\n",
    "neg_tr_scores = project_utils.get_scores(neg_tr_file)"
   ]
  },
  {
   "cell_type": "code",
   "execution_count": 236,
   "metadata": {
    "execution": {
     "iopub.execute_input": "2022-02-06T01:21:07.949450Z",
     "iopub.status.busy": "2022-02-06T01:21:07.949254Z",
     "iopub.status.idle": "2022-02-06T01:21:08.987383Z",
     "shell.execute_reply": "2022-02-06T01:21:08.986921Z",
     "shell.execute_reply.started": "2022-02-06T01:21:07.949435Z"
    },
    "tags": []
   },
   "outputs": [
    {
     "name": "stdout",
     "output_type": "stream",
     "text": [
      "(177793,) (177793,) (177793,)\n"
     ]
    }
   ],
   "source": [
    "y_tr_probs = np.array(pos_tr_scores + neg_tr_scores)\n",
    "y_tr_preds = (y_tr_probs >= 0).astype(int)\n",
    "y_train = np.array([1]*len(pos_tr_scores) + [0]*len(neg_tr_scores))\n",
    "print(y_train.shape, y_tr_probs.shape, y_tr_preds.shape)"
   ]
  },
  {
   "cell_type": "markdown",
   "metadata": {},
   "source": [
    "## **Test scores**"
   ]
  },
  {
   "cell_type": "code",
   "execution_count": 237,
   "metadata": {
    "execution": {
     "iopub.execute_input": "2022-02-06T01:21:09.960611Z",
     "iopub.status.busy": "2022-02-06T01:21:09.960449Z",
     "iopub.status.idle": "2022-02-06T01:21:11.108954Z",
     "shell.execute_reply": "2022-02-06T01:21:11.108511Z",
     "shell.execute_reply.started": "2022-02-06T01:21:09.960594Z"
    },
    "tags": []
   },
   "outputs": [],
   "source": [
    "# Make sure ordering is correct\n",
    "y_probs = np.array(project_utils.get_scores(val_file))"
   ]
  },
  {
   "cell_type": "code",
   "execution_count": 238,
   "metadata": {
    "execution": {
     "iopub.execute_input": "2022-02-06T01:21:11.109878Z",
     "iopub.status.busy": "2022-02-06T01:21:11.109729Z",
     "iopub.status.idle": "2022-02-06T01:21:11.928636Z",
     "shell.execute_reply": "2022-02-06T01:21:11.928297Z",
     "shell.execute_reply.started": "2022-02-06T01:21:11.109862Z"
    },
    "tags": []
   },
   "outputs": [],
   "source": [
    "y_test = np.loadtxt('../data/{0}/{1}/{2}_y-test-{3}_{1}.txt'.format(DATASET, LABELS, PREPROCESS, round(1-SPLIT, 1)), dtype=int)\n",
    "#y_test = np.random.randint(0, 2, size=len(val_scores))"
   ]
  },
  {
   "cell_type": "code",
   "execution_count": 239,
   "metadata": {
    "execution": {
     "iopub.execute_input": "2022-02-06T01:21:11.929380Z",
     "iopub.status.busy": "2022-02-06T01:21:11.929274Z",
     "iopub.status.idle": "2022-02-06T01:21:12.943868Z",
     "shell.execute_reply": "2022-02-06T01:21:12.943427Z",
     "shell.execute_reply.started": "2022-02-06T01:21:11.929366Z"
    },
    "tags": []
   },
   "outputs": [
    {
     "name": "stdout",
     "output_type": "stream",
     "text": [
      "(19755,) (19755,) (19755,)\n"
     ]
    }
   ],
   "source": [
    "y_preds = (y_probs >= 0).astype(int)\n",
    "print(y_test.shape, y_probs.shape, y_preds.shape)"
   ]
  },
  {
   "cell_type": "code",
   "execution_count": 240,
   "metadata": {
    "execution": {
     "iopub.execute_input": "2022-02-06T01:21:13.670061Z",
     "iopub.status.busy": "2022-02-06T01:21:13.669930Z",
     "iopub.status.idle": "2022-02-06T01:21:17.438895Z",
     "shell.execute_reply": "2022-02-06T01:21:17.438596Z",
     "shell.execute_reply.started": "2022-02-06T01:21:13.670046Z"
    },
    "tags": []
   },
   "outputs": [
    {
     "name": "stdout",
     "output_type": "stream",
     "text": [
      "Predictions provided, skipping them\n",
      "Generating confusion matrix\n",
      "Calculating classification metrics\n",
      "Metric\tTrain\tTest\n",
      "Accuracy\t0.7304\t0.7215\n",
      "Precision\t0.6991\t0.6897\n",
      "Recall\t0.7635\t0.7493\n",
      "F0.1-Score\t0.6997\t0.6903\n",
      "F0.5-Score\t0.7111\t0.7009\n",
      "F1-Score\t0.7299\t0.7183\n",
      "F2-Score\t0.7497\t0.7365\n",
      "F10-Score\t0.7628\t0.7486\n",
      "Plotting PR Curve\n",
      "Plotting ROC Curve\n",
      "Generating report\n"
     ]
    }
   ],
   "source": [
    "project_utils.classification_report(out_path=\"{}\".format(OUTDIR),\n",
    "                                    train_X=None, test_X=None, \n",
    "                                    train_y=y_train, test_y=y_test,\n",
    "                                    train_preds=y_tr_preds, test_preds=y_preds,\n",
    "                                    train_probs=y_tr_probs, test_probs=y_probs)"
   ]
  },
  {
   "cell_type": "markdown",
   "metadata": {
    "tags": [],
    "toc-hr-collapsed": true
   },
   "source": [
    "# Scratch"
   ]
  },
  {
   "cell_type": "code",
   "execution_count": null,
   "metadata": {},
   "outputs": [],
   "source": [
    "def generate_slurm_train_script(input_dir,\n",
    "                                pos_seqs,\n",
    "                                neg_seqs,\n",
    "                                val_seqs,\n",
    "                                result_dir,\n",
    "                                hyperparams,\n",
    "                                preprocess,\n",
    "                                features=\"fasta\",\n",
    "                                architecture=\"gkSVM\"):\n",
    "    \n",
    "    # Set up model name\n",
    "    model = \"{}_{}_{}-clf_{}\".format(preprocess, features, architecture, hyperparams)\n",
    "    model_name = os.path.join(result_dir, model)\n",
    "    \n",
    "    # Set up hyperparams\n",
    "    hyperparams = hyperparams.split(\"-\")\n",
    "    if hyperparams[4]:\n",
    "        hyperparams.remove(\"True\")\n",
    "        hyperparams = \"-t {} -l {} -k {} -d {} -R -c {} -w {}\".format(*hyperparams)\n",
    "    else:\n",
    "        hyperparams.remove(\"False\")\n",
    "        hyperparams = \"-t {} -l {} -k {} -d -c {} -w {}\".format(*hyperparams)\n",
    "        \n",
    "    # Set up file pointers\n",
    "    output = [\"#!/bin/bash\", \"#SBATCH --cpus-per-task=16\", \"#SBATCH --time=48:00:00\",\n",
    "              \"#SBATCH --partition carter-compute\", \"#SBATCH -o ./out/%x.out\", \"#SBATCH -e ./err/%x.err\\n\"]\n",
    "    output += ['date\\necho -e \"Job ID: $SLURM_JOB_ID\\\\n\"\\n']\n",
    "    output += [\"trainposseqs={}\".format(os.path.join(input_dir, pos_seqs)),\n",
    "               \"trainnegseqs={}\".format(os.path.join(input_dir, neg_seqs)),\n",
    "               \"valseqs={}\".format(os.path.join(input_dir, val_seqs)),\n",
    "               \"resultdir={}\".format(result_dir),\n",
    "               \"modelname={}\".format(model_name)]\n",
    "    output += [\"[ ! -d $resultdir ] && mkdir $resultdir\\n\"]\n",
    "    \n",
    "    # Set-up training command\n",
    "    train_command = \"gkmtrain $trainposseqs $trainnegseqs $modelname {} -v 2 -T $SLURM_CPUS_PER_TASK -m 8000.0\".format(hyperparams)\n",
    "    output += [\"echo -e {}\".format(train_command)]\n",
    "    output += [train_command]\n",
    "    output += ['echo -e \"\\\\n\"\\n']\n",
    "    \n",
    "    # Set up positive train seq predict\n",
    "    predict_pos_train_command = 'gkmpredict $trainposseqs $modelname\".model.txt\" $modelname\".train-pos.predict.txt\"'\n",
    "    output += [\"echo -e {}\".format(predict_pos_train_command)]\n",
    "    output += [predict_pos_train_command]\n",
    "    output += ['echo -e \"\\\\n\"\\n']\n",
    "    \n",
    "    # Set up negative train seq predict\n",
    "    predict_neg_train_command = 'gkmpredict $trainnegseqs $modelname\".model.txt\" $modelname\".train-neg.predict.txt\"'\n",
    "    output += [\"echo -e {}\".format(predict_neg_train_command)]\n",
    "    output += [predict_neg_train_command]\n",
    "    output += ['echo -e \"\\\\n\"\\n']\n",
    "    \n",
    "    # Set up val seq predict\n",
    "    predict_val_command = 'gkmpredict $valseqs $modelname\".model.txt\" $modelname\".test.predict.txt\"'\n",
    "    output += [\"echo -e {}\".format(predict_val_command)]\n",
    "    output += [predict_val_command]\n",
    "    output += ['echo -e \"\\\\n\"\\n']\n",
    "    \n",
    "    output += [\"date\"]\n",
    "    \n",
    "    # Write to script\n",
    "    with open(\"train_{}\".format(model), \"w\") as f:\n",
    "        f.write(\"\\n\".join(output))\n",
    "        \n",
    "    # Bash command to edit\n",
    "    print(\"sbatch train_{0} --job-name=train_{0} --mem=20G\".format(model))"
   ]
  },
  {
   "cell_type": "markdown",
   "metadata": {
    "tags": [],
    "toc-hr-collapsed": true
   },
   "source": [
    "# References"
   ]
  }
 ],
 "metadata": {
  "kernelspec": {
   "display_name": "Python3 ml_env",
   "language": "python",
   "name": "ml_env"
  },
  "language_info": {
   "codemirror_mode": {
    "name": "ipython",
    "version": 3
   },
   "file_extension": ".py",
   "mimetype": "text/x-python",
   "name": "python",
   "nbconvert_exporter": "python",
   "pygments_lexer": "ipython3",
   "version": "3.8.8"
  }
 },
 "nbformat": 4,
 "nbformat_minor": 4
}

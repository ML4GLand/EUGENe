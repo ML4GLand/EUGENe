{
 "cells": [
  {
   "cell_type": "code",
   "execution_count": 15,
   "metadata": {},
   "outputs": [],
   "source": [
    "# Extensions\n",
    "if 'autoreload' not in get_ipython().extension_manager.loaded:\n",
    "    %load_ext autoreload\n",
    "%autoreload 2"
   ]
  },
  {
   "cell_type": "code",
   "execution_count": 27,
   "metadata": {},
   "outputs": [],
   "source": [
    "# Imports\n",
    "import torch\n",
    "import torch.nn as nn\n",
    "import pandas as pd\n",
    "import numpy as np\n",
    "from eugene.models.base import _layers as layers"
   ]
  },
  {
   "cell_type": "code",
   "execution_count": 2,
   "metadata": {},
   "outputs": [],
   "source": [
    "# Configuration\n",
    "ID = torch.Tensor([1, 2, 3, 4, 5, 6, 7, 8, 9, 10])\n",
    "x = torch.randn(10, 4, 100)\n",
    "x_rev_comp = torch.randn(10, 4, 100)\n",
    "y = torch.randint(0, 2, (10, 1))\n",
    "batch = (ID, x, x_rev_comp, y)"
   ]
  },
  {
   "cell_type": "code",
   "execution_count": 4,
   "metadata": {},
   "outputs": [],
   "source": [
    "# Helper functions\n",
    "def move_module_to_cpu(module):\n",
    "    module.to(\"cpu\")\n",
    "    for child in module.children():\n",
    "        move_module_to_cpu(child)"
   ]
  },
  {
   "attachments": {},
   "cell_type": "markdown",
   "metadata": {},
   "source": [
    "## Activations"
   ]
  },
  {
   "attachments": {},
   "cell_type": "markdown",
   "metadata": {},
   "source": [
    "### Identity"
   ]
  },
  {
   "cell_type": "code",
   "execution_count": 5,
   "metadata": {},
   "outputs": [
    {
     "data": {
      "text/plain": [
       "(Identity(), torch.Size([10, 4, 100]))"
      ]
     },
     "execution_count": 5,
     "metadata": {},
     "output_type": "execute_result"
    }
   ],
   "source": [
    "layer = layers.Identity(inplace=False)\n",
    "layer_out = layer(x)\n",
    "layer, layer_out.shape"
   ]
  },
  {
   "cell_type": "code",
   "execution_count": 6,
   "metadata": {},
   "outputs": [],
   "source": [
    "def test_identity_layer():\n",
    "    # Test input tensor\n",
    "    input_tensor = torch.randn(2, 3).requires_grad_(True)\n",
    "    \n",
    "    # Initialize Identity layer\n",
    "    identity_layer = layers.Identity()\n",
    "    \n",
    "    # Test forward pass\n",
    "    output_tensor = identity_layer(input_tensor)\n",
    "    assert torch.all(torch.eq(input_tensor, output_tensor))\n",
    "    \n",
    "    # Test backward pass\n",
    "    output_tensor.sum().backward()\n",
    "    assert torch.all(torch.eq(input_tensor.grad, torch.ones_like(input_tensor)))"
   ]
  },
  {
   "cell_type": "code",
   "execution_count": 7,
   "metadata": {},
   "outputs": [],
   "source": [
    "test_identity_layer()"
   ]
  },
  {
   "attachments": {},
   "cell_type": "markdown",
   "metadata": {},
   "source": [
    "### Exponential"
   ]
  },
  {
   "cell_type": "code",
   "execution_count": 8,
   "metadata": {},
   "outputs": [
    {
     "data": {
      "text/plain": [
       "(Exponential(), torch.Size([10, 4, 100]))"
      ]
     },
     "execution_count": 8,
     "metadata": {},
     "output_type": "execute_result"
    }
   ],
   "source": [
    "layer = layers.Exponential(inplace=False)\n",
    "layer_out = layer(x)\n",
    "layer, layer_out.shape"
   ]
  },
  {
   "cell_type": "code",
   "execution_count": 9,
   "metadata": {},
   "outputs": [],
   "source": [
    "def test_exponential_layer():\n",
    "    # Test input tensor\n",
    "    input_tensor = torch.randn(2, 3).requires_grad_(True)\n",
    "    \n",
    "    # Initialize Exponential layer\n",
    "    exponential_layer = layers.Exponential()\n",
    "    \n",
    "    # Test forward pass\n",
    "    output_tensor = exponential_layer(input_tensor)\n",
    "    assert torch.all(torch.eq(output_tensor, torch.exp(input_tensor)))\n",
    "    \n",
    "    # Test backward pass\n",
    "    output_tensor.sum().backward()\n",
    "    assert torch.all(torch.eq(input_tensor.grad, output_tensor))"
   ]
  },
  {
   "cell_type": "code",
   "execution_count": 10,
   "metadata": {},
   "outputs": [],
   "source": [
    "test_exponential_layer()"
   ]
  },
  {
   "attachments": {},
   "cell_type": "markdown",
   "metadata": {},
   "source": [
    "### GELU\n",
    "Written because PyToch nn.GELU has not inplace"
   ]
  },
  {
   "cell_type": "code",
   "execution_count": 11,
   "metadata": {},
   "outputs": [
    {
     "data": {
      "text/plain": [
       "(GELU(), torch.Size([10, 4, 100]))"
      ]
     },
     "execution_count": 11,
     "metadata": {},
     "output_type": "execute_result"
    }
   ],
   "source": [
    "layer = layers.GELU(inplace=False)\n",
    "layer_out = layer(x)\n",
    "layer, layer_out.shape"
   ]
  },
  {
   "attachments": {},
   "cell_type": "markdown",
   "metadata": {},
   "source": [
    "### Sigmoid"
   ]
  },
  {
   "cell_type": "code",
   "execution_count": 12,
   "metadata": {},
   "outputs": [
    {
     "data": {
      "text/plain": [
       "(Sigmoid(), torch.Size([10, 4, 100]))"
      ]
     },
     "execution_count": 12,
     "metadata": {},
     "output_type": "execute_result"
    }
   ],
   "source": [
    "layer = layers.Sigmoid(inplace=False)\n",
    "layer_out = layer(x)\n",
    "layer, layer_out.shape"
   ]
  },
  {
   "attachments": {},
   "cell_type": "markdown",
   "metadata": {},
   "source": [
    "### Softplus"
   ]
  },
  {
   "cell_type": "code",
   "execution_count": 13,
   "metadata": {},
   "outputs": [
    {
     "data": {
      "text/plain": [
       "(Softplus(), torch.Size([10, 4, 100]))"
      ]
     },
     "execution_count": 13,
     "metadata": {},
     "output_type": "execute_result"
    }
   ],
   "source": [
    "layer = layers.Softplus(inplace=False)\n",
    "layer_out = layer(x)\n",
    "layer, layer_out.shape"
   ]
  },
  {
   "attachments": {},
   "cell_type": "markdown",
   "metadata": {},
   "source": [
    "## Convolutional"
   ]
  },
  {
   "attachments": {},
   "cell_type": "markdown",
   "metadata": {},
   "source": [
    "### BiConv1D"
   ]
  },
  {
   "cell_type": "code",
   "execution_count": 14,
   "metadata": {},
   "outputs": [
    {
     "data": {
      "text/plain": [
       "(BiConv1D(4, 8, kernel_size=3, stride=1, padding=same, dilation=1, groups=1, bias=True),\n",
       " torch.Size([10, 8, 100]))"
      ]
     },
     "execution_count": 14,
     "metadata": {},
     "output_type": "execute_result"
    }
   ],
   "source": [
    "layer = layers.BiConv1D(4, 8, 3)\n",
    "layer_out = layer(x)\n",
    "layer, layer_out.shape"
   ]
  },
  {
   "cell_type": "code",
   "execution_count": 15,
   "metadata": {},
   "outputs": [],
   "source": [
    "def test_biconv1d_layer():\n",
    "    # Test input tensor\n",
    "    input_tensor = torch.randn(2, 3, 10)\n",
    "    \n",
    "    # Initialize BiConv1D layer\n",
    "    biconv1d_layer = layers.BiConv1D(in_channels=3, out_channels=4, kernel_size=3, stride=1, padding=\"same\", dilation=1, groups=1, bias=True, dropout_rate=0.0)\n",
    "    \n",
    "    # Test forward pass\n",
    "    output_tensor = biconv1d_layer(input_tensor)\n",
    "    assert output_tensor.shape == (2, 4, 10)\n",
    "    \n",
    "    # Test backward pass\n",
    "    output_tensor.sum().backward()\n",
    "    assert biconv1d_layer.weight.grad.shape == (4, 3, 3)\n",
    "    if biconv1d_layer.bias is not None:\n",
    "        assert biconv1d_layer.bias.grad.shape == (4,)"
   ]
  },
  {
   "cell_type": "code",
   "execution_count": 16,
   "metadata": {},
   "outputs": [],
   "source": [
    "test_biconv1d_layer()"
   ]
  },
  {
   "attachments": {},
   "cell_type": "markdown",
   "metadata": {},
   "source": [
    "### Inception1D"
   ]
  },
  {
   "cell_type": "code",
   "execution_count": 17,
   "metadata": {},
   "outputs": [
    {
     "data": {
      "text/plain": [
       "(InceptionConv1D(\n",
       "   (conv1): Conv1d(4, 4, kernel_size=(1,), stride=(1,))\n",
       "   (conv2_1): Conv1d(4, 4, kernel_size=(1,), stride=(1,))\n",
       "   (conv2_2): Conv1d(4, 4, kernel_size=(3,), stride=(1,), padding=same)\n",
       "   (conv3_1): Conv1d(4, 4, kernel_size=(1,), stride=(1,))\n",
       "   (conv3_2): Conv1d(4, 4, kernel_size=(5,), stride=(1,), padding=same)\n",
       "   (maxpool): MaxPool1d(kernel_size=3, stride=1, padding=1, dilation=1, ceil_mode=False)\n",
       "   (conv_maxpool): Conv1d(4, 4, kernel_size=(1,), stride=(1,))\n",
       " ),\n",
       " torch.Size([10, 16, 100]))"
      ]
     },
     "execution_count": 17,
     "metadata": {},
     "output_type": "execute_result"
    }
   ],
   "source": [
    "layer = layers.InceptionConv1D(in_channels=4, out_channels=16)\n",
    "layer_out = layer(x)\n",
    "layer, layer_out.shape"
   ]
  },
  {
   "cell_type": "code",
   "execution_count": 18,
   "metadata": {},
   "outputs": [],
   "source": [
    "def test_inception_conv1d_layer():\n",
    "    # Define input tensor\n",
    "    x = torch.randn(1, 3, 10)\n",
    "\n",
    "    # Initialize InceptionConv1D layer\n",
    "    in_channels = 3\n",
    "    out_channels = 16\n",
    "    kernel_size2 = 3\n",
    "    kernel_size3 = 5\n",
    "    conv_maxpool_kernel_size = 3\n",
    "    conv1_out_channels = out_channels // 4\n",
    "    conv2_out_channels = out_channels // 4\n",
    "    conv3_out_channels = out_channels // 4  \n",
    "    conv_maxpool_out_channels = out_channels // 4\n",
    "    layer = layers.InceptionConv1D(\n",
    "        in_channels=in_channels,\n",
    "        out_channels=out_channels,\n",
    "        conv1_out_channels=conv1_out_channels,\n",
    "        conv2_out_channels=conv2_out_channels,\n",
    "        kernel_size2=kernel_size2,\n",
    "        conv3_out_channels=conv3_out_channels,\n",
    "        kernel_size3=kernel_size3,\n",
    "        conv_maxpool_kernel_size=conv_maxpool_kernel_size,\n",
    "        conv_maxpool_out_channels=conv_maxpool_out_channels\n",
    "    )\n",
    "\n",
    "    # Check output shape\n",
    "    output = layer(x)\n",
    "    assert output.shape == (1, out_channels, 10)\n",
    "\n",
    "    # Check that each path produces the expected output shape\n",
    "    conv1_out = layer.conv1(x)\n",
    "    assert conv1_out.shape == (1, conv1_out_channels, 10)\n",
    "\n",
    "    conv2_out = layer.conv2_2(layer.conv2_1(x))\n",
    "    assert conv2_out.shape == (1, conv2_out_channels, 10)\n",
    "\n",
    "    conv3_out = layer.conv3_2(layer.conv3_1(x))\n",
    "    assert conv3_out.shape == (1, conv3_out_channels, 10)\n",
    "\n",
    "    conv_maxpool_out = layer.conv_maxpool(layer.maxpool(x))\n",
    "    assert conv_maxpool_out.shape == (1, conv_maxpool_out_channels, 10)\n",
    "\n",
    "    # Check that the concatenated output has the expected shape\n",
    "    expected_out_channels = conv1_out_channels + conv2_out_channels + conv3_out_channels + conv_maxpool_out_channels\n",
    "    expected_output = torch.cat([conv1_out, conv2_out, conv3_out, conv_maxpool_out], dim=1)\n",
    "    assert output.shape == expected_output.shape"
   ]
  },
  {
   "cell_type": "code",
   "execution_count": 19,
   "metadata": {},
   "outputs": [],
   "source": [
    "test_inception_conv1d_layer()"
   ]
  },
  {
   "attachments": {},
   "cell_type": "markdown",
   "metadata": {},
   "source": [
    "## Transformer"
   ]
  },
  {
   "attachments": {},
   "cell_type": "markdown",
   "metadata": {},
   "source": [
    "### MultiHeadAttention"
   ]
  },
  {
   "cell_type": "code",
   "execution_count": 21,
   "metadata": {},
   "outputs": [
    {
     "data": {
      "text/plain": [
       "(MultiHeadAttention(\n",
       "   (qkv): Linear(in_features=4, out_features=60, bias=False)\n",
       "   (softmax): Softmax(dim=-1)\n",
       "   (dropout_layer): Dropout(p=0.0, inplace=False)\n",
       "   (projection_layer): Sequential(\n",
       "     (0): Linear(in_features=20, out_features=4, bias=True)\n",
       "     (1): Dropout(p=0.0, inplace=False)\n",
       "   )\n",
       " ),\n",
       " torch.Size([10, 100, 4]))"
      ]
     },
     "execution_count": 21,
     "metadata": {},
     "output_type": "execute_result"
    }
   ],
   "source": [
    "layer = layers.MultiHeadAttention(\n",
    "    input_dim=4,\n",
    "    head_dim=10,\n",
    "    num_heads=2\n",
    ")\n",
    "layer_out = layer(x.transpose(1, 2), mask=None)\n",
    "layer, layer_out.shape"
   ]
  },
  {
   "cell_type": "code",
   "execution_count": 23,
   "metadata": {},
   "outputs": [],
   "source": [
    "def test_multihead_attention_layer():\n",
    "    # Test input tensor\n",
    "    input_tensor = torch.randn(2, 3, 4).requires_grad_(True)\n",
    "    \n",
    "    # Initialize MultiHeadAttention layer\n",
    "    multihead_attention_layer = layers.MultiHeadAttention(input_dim=4, head_dim=2, num_heads=2, dropout_rate=0.0)\n",
    "    \n",
    "    # Test forward pass\n",
    "    output_tensor = multihead_attention_layer(input_tensor)\n",
    "    assert output_tensor.shape == (2, 3, 4)\n",
    "    \n",
    "    # Test backward pass\n",
    "    output_tensor.sum().backward()\n",
    "    assert input_tensor.grad is not None\n",
    "\n",
    "test_multihead_attention_layer()"
   ]
  },
  {
   "cell_type": "code",
   "execution_count": 24,
   "metadata": {},
   "outputs": [],
   "source": [
    "def test_attention_mechanism():\n",
    "    # Test input tensor\n",
    "    input_tensor = torch.arange(12).reshape(2, 3, 2).float()\n",
    "    \n",
    "    # Initialize MultiHeadAttention layer\n",
    "    multihead_attention_layer = layers.MultiHeadAttention(input_dim=2, head_dim=1, num_heads=2, dropout_rate=0.0)\n",
    "    \n",
    "    # Test forward pass\n",
    "    output_tensor = multihead_attention_layer(input_tensor)\n",
    "    \n",
    "    # Test attention mechanism\n",
    "    attention_scores = multihead_attention_layer.attention_scores\n",
    "    expected_scores = torch.tensor([[[1.0000, 0.0000, 0.0000],\n",
    "                                      [0.7311, 0.2689, 0.0000],\n",
    "                                      [0.5000, 0.5000, 0.0000]],\n",
    "                                     [[1.0000, 0.0000, 0.0000],\n",
    "                                      [0.7311, 0.2689, 0.0000],\n",
    "                                      [0.5000, 0.5000, 0.0000]]])\n",
    "    assert torch.allclose(attention_scores, expected_scores, rtol=1e-3, atol=1e-3)\n",
    "\n",
    "def test_masking_functionality():\n",
    "    # Test input tensor\n",
    "    input_tensor = torch.arange(12).reshape(2, 3, 2).float()\n",
    "    \n",
    "    # Define mask\n",
    "    mask = torch.tensor([[1, 1, 0], [1, 0, 0]])\n",
    "    \n",
    "    # Initialize MultiHeadAttention layer\n",
    "    multihead_attention_layer = layers.MultiHeadAttention(input_dim=2, head_dim=1, num_heads=2, dropout_rate=0.0)\n",
    "    \n",
    "    # Test forward pass\n",
    "    output_tensor = multihead_attention_layer(input_tensor, mask=mask)\n",
    "    \n",
    "    # Test masking functionality\n",
    "    attention_scores = multihead_attention_layer.attention_scores\n",
    "    expected_scores = torch.tensor([[[1.0000, 0.0000, 0.0000],\n",
    "                                      [0.7311, 0.2689, 0.0000],\n",
    "                                      [0.0000, 0.0000, 0.0000]],\n",
    "                                     [[1.0000, 0.0000, 0.0000],\n",
    "                                      [0.7311, 0.2689, 0.0000],\n",
    "                                      [0.0000, 0.0000, 0.0000]]])\n",
    "    assert torch.allclose(attention_scores, expected_scores, rtol=1e-3, atol=1e-3)\n",
    "\n",
    "def test_projection_layer():\n",
    "    # Test input tensor\n",
    "    input_tensor = torch.randn(2, 3, 4)\n",
    "    \n",
    "    # Initialize MultiHeadAttention layer\n",
    "    multihead_attention_layer = layers.MultiHeadAttention(input_dim=4, head_dim=2, num_heads=2, dropout_rate=0.0, need_projection=True)\n",
    "    \n",
    "    # Test forward pass\n",
    "    output_tensor = multihead_attention_layer(input_tensor)\n",
    "    \n",
    "    # Test projection layer\n",
    "    expected_shape = (2, 3, 4)\n",
    "    assert output_tensor.shape == expected_shape\n",
    "    assert output_tensor.min() > -1.0 and output_tensor.max() < 1.0\n",
    "\n",
    "def test_dropout_layer():\n",
    "    # Test input tensor\n",
    "    input_tensor = torch.randn(2, 3, 4)\n",
    "    \n",
    "    # Initialize MultiHeadAttention layer\n",
    "    multihead_attention_layer = layers.MultiHeadAttention(input_dim=4, head_dim=2, num_heads=2, dropout_rate=0.5)\n",
    "    \n",
    "    # Test forward pass\n",
    "    output_tensor = multihead_attention_layer(input_tensor)\n",
    "    \n",
    "    # Test dropout layer\n",
    "    expected_num_zeros = 6\n",
    "    assert (output_tensor == 0.0).sum() == expected_num_zeros"
   ]
  },
  {
   "attachments": {},
   "cell_type": "markdown",
   "metadata": {},
   "source": [
    "## Wrappers"
   ]
  },
  {
   "attachments": {},
   "cell_type": "markdown",
   "metadata": {},
   "source": [
    "### Residual"
   ]
  },
  {
   "cell_type": "code",
   "execution_count": 26,
   "metadata": {},
   "outputs": [
    {
     "data": {
      "text/plain": [
       "(Residual(\n",
       "   (wrapped): Conv1d(4, 4, kernel_size=(5,), stride=(1,), padding=same)\n",
       " ),\n",
       " torch.Size([10, 4, 100]))"
      ]
     },
     "execution_count": 26,
     "metadata": {},
     "output_type": "execute_result"
    }
   ],
   "source": [
    "conv_layer = torch.nn.Conv1d(4, 4, 5, padding=\"same\")\n",
    "layer = layers.Residual(conv_layer)\n",
    "layer_out = layer(x)\n",
    "layer, layer_out.shape"
   ]
  },
  {
   "cell_type": "code",
   "execution_count": null,
   "metadata": {},
   "outputs": [],
   "source": [
    "def test_residual_layer():\n",
    "    # Test input tensor\n",
    "    input_tensor = torch.randn(2, 3, 4).requires_grad_(True)\n",
    "    \n",
    "    # Initialize Residual layer with a linear layer as the wrapped module\n",
    "    residual_layer = layers.Residual(nn.Linear(4, 4))\n",
    "    \n",
    "    # Test forward pass\n",
    "    output_tensor = residual_layer(input_tensor)\n",
    "    assert output_tensor.shape == (2, 3, 4)\n",
    "    assert torch.all(torch.eq(output_tensor, input_tensor + residual_layer.wrapped(input_tensor)))\n",
    "    \n",
    "    # Test backward pass\n",
    "    #output_tensor.sum().backward()\n",
    "    #assert torch.all(torch.eq(input_tensor.grad, output_tensor.grad + residual_layer.wrapped.weight.grad))"
   ]
  },
  {
   "cell_type": "code",
   "execution_count": null,
   "metadata": {},
   "outputs": [],
   "source": [
    "test_residual_layer()"
   ]
  },
  {
   "attachments": {},
   "cell_type": "markdown",
   "metadata": {},
   "source": [
    "## Gluers"
   ]
  },
  {
   "attachments": {},
   "cell_type": "markdown",
   "metadata": {},
   "source": [
    "### Flatten"
   ]
  },
  {
   "cell_type": "code",
   "execution_count": 28,
   "metadata": {},
   "outputs": [
    {
     "data": {
      "text/plain": [
       "(Flatten(), torch.Size([10, 4, 100]), torch.Size([10, 400]))"
      ]
     },
     "execution_count": 28,
     "metadata": {},
     "output_type": "execute_result"
    }
   ],
   "source": [
    "layer = layers.Flatten()\n",
    "layer_out = layer(x)\n",
    "layer, x.shape, layer_out.shape"
   ]
  },
  {
   "cell_type": "code",
   "execution_count": 31,
   "metadata": {},
   "outputs": [],
   "source": [
    "def test_flatten_layer():\n",
    "    # Test input tensor\n",
    "    input_tensor = torch.randn(2, 3, 4).requires_grad_(True)\n",
    "    \n",
    "    # Initialize Flatten layer\n",
    "    flatten_layer = layers.Flatten()\n",
    "    \n",
    "    # Test forward pass\n",
    "    output_tensor = flatten_layer(input_tensor)\n",
    "    assert output_tensor.shape == (2, 12)\n",
    "    assert torch.all(torch.eq(output_tensor, input_tensor.permute(0, 2, 1).contiguous().view(input_tensor.shape[0], -1)))\n",
    "    \n",
    "    # Test backward pass\n",
    "    output_tensor.sum().backward()\n",
    "    assert torch.all(torch.eq(input_tensor.grad, output_tensor.grad.permute(0, 2, 1).contiguous().view(input_tensor.shape)))\n"
   ]
  },
  {
   "cell_type": "code",
   "execution_count": 32,
   "metadata": {},
   "outputs": [
    {
     "name": "stderr",
     "output_type": "stream",
     "text": [
      "/tmp/ipykernel_3309832/1008057432.py:15: UserWarning: The .grad attribute of a Tensor that is not a leaf Tensor is being accessed. Its .grad attribute won't be populated during autograd.backward(). If you indeed want the .grad field to be populated for a non-leaf Tensor, use .retain_grad() on the non-leaf Tensor. If you access the non-leaf Tensor by mistake, make sure you access the leaf Tensor instead. See github.com/pytorch/pytorch/pull/30531 for more informations. (Triggered internally at /opt/conda/conda-bld/pytorch_1678402412426/work/build/aten/src/ATen/core/TensorBody.h:486.)\n",
      "  assert torch.all(torch.eq(input_tensor.grad, output_tensor.grad.permute(0, 2, 1).contiguous().view(input_tensor.shape)))\n"
     ]
    },
    {
     "ename": "AttributeError",
     "evalue": "'NoneType' object has no attribute 'permute'",
     "output_type": "error",
     "traceback": [
      "\u001b[0;31m---------------------------------------------------------------------------\u001b[0m",
      "\u001b[0;31mAttributeError\u001b[0m                            Traceback (most recent call last)",
      "Cell \u001b[0;32mIn[32], line 1\u001b[0m\n\u001b[0;32m----> 1\u001b[0m test_flatten_layer()\n",
      "Cell \u001b[0;32mIn[31], line 15\u001b[0m, in \u001b[0;36mtest_flatten_layer\u001b[0;34m()\u001b[0m\n\u001b[1;32m     13\u001b[0m \u001b[39m# Test backward pass\u001b[39;00m\n\u001b[1;32m     14\u001b[0m output_tensor\u001b[39m.\u001b[39msum()\u001b[39m.\u001b[39mbackward()\n\u001b[0;32m---> 15\u001b[0m \u001b[39massert\u001b[39;00m torch\u001b[39m.\u001b[39mall(torch\u001b[39m.\u001b[39meq(input_tensor\u001b[39m.\u001b[39mgrad, output_tensor\u001b[39m.\u001b[39;49mgrad\u001b[39m.\u001b[39;49mpermute(\u001b[39m0\u001b[39m, \u001b[39m2\u001b[39m, \u001b[39m1\u001b[39m)\u001b[39m.\u001b[39mcontiguous()\u001b[39m.\u001b[39mview(input_tensor\u001b[39m.\u001b[39mshape)))\n",
      "\u001b[0;31mAttributeError\u001b[0m: 'NoneType' object has no attribute 'permute'"
     ]
    }
   ],
   "source": [
    "test_flatten_layer()"
   ]
  },
  {
   "attachments": {},
   "cell_type": "markdown",
   "metadata": {},
   "source": [
    "### Unsqueeze"
   ]
  },
  {
   "cell_type": "code",
   "execution_count": 33,
   "metadata": {},
   "outputs": [
    {
     "data": {
      "text/plain": [
       "(Unsqueeze(), torch.Size([10, 4, 100]), torch.Size([10, 1, 4, 100]))"
      ]
     },
     "execution_count": 33,
     "metadata": {},
     "output_type": "execute_result"
    }
   ],
   "source": [
    "layer = layers.Unsqueeze(1)\n",
    "layer_out = layer(x)\n",
    "layer, x.shape, layer_out.shape"
   ]
  },
  {
   "cell_type": "code",
   "execution_count": 34,
   "metadata": {},
   "outputs": [],
   "source": [
    "def test_unsqueeze_layer():\n",
    "    # Test input tensor\n",
    "    input_tensor = torch.randn(2, 3, 4)\n",
    "    \n",
    "    # Initialize Unsqueeze layer\n",
    "    unsqueeze_layer = layers.Unsqueeze(1)\n",
    "    \n",
    "    # Test forward pass\n",
    "    output_tensor = unsqueeze_layer(input_tensor)\n",
    "    assert output_tensor.shape == (2, 1, 3, 4)\n",
    "    assert torch.all(torch.eq(output_tensor, input_tensor.unsqueeze(1)))\n",
    "    \n",
    "    # Test backward pass\n",
    "    output_tensor.sum().backward()\n",
    "    assert torch.all(torch.eq(input_tensor.grad, output_tensor.grad.squeeze(1)))\n"
   ]
  },
  {
   "cell_type": "code",
   "execution_count": 35,
   "metadata": {},
   "outputs": [
    {
     "ename": "RuntimeError",
     "evalue": "element 0 of tensors does not require grad and does not have a grad_fn",
     "output_type": "error",
     "traceback": [
      "\u001b[0;31m---------------------------------------------------------------------------\u001b[0m",
      "\u001b[0;31mRuntimeError\u001b[0m                              Traceback (most recent call last)",
      "Cell \u001b[0;32mIn[35], line 1\u001b[0m\n\u001b[0;32m----> 1\u001b[0m test_unsqueeze_layer()\n",
      "Cell \u001b[0;32mIn[34], line 14\u001b[0m, in \u001b[0;36mtest_unsqueeze_layer\u001b[0;34m()\u001b[0m\n\u001b[1;32m     11\u001b[0m \u001b[39massert\u001b[39;00m torch\u001b[39m.\u001b[39mall(torch\u001b[39m.\u001b[39meq(output_tensor, input_tensor\u001b[39m.\u001b[39munsqueeze(\u001b[39m1\u001b[39m)))\n\u001b[1;32m     13\u001b[0m \u001b[39m# Test backward pass\u001b[39;00m\n\u001b[0;32m---> 14\u001b[0m output_tensor\u001b[39m.\u001b[39;49msum()\u001b[39m.\u001b[39;49mbackward()\n\u001b[1;32m     15\u001b[0m \u001b[39massert\u001b[39;00m torch\u001b[39m.\u001b[39mall(torch\u001b[39m.\u001b[39meq(input_tensor\u001b[39m.\u001b[39mgrad, output_tensor\u001b[39m.\u001b[39mgrad\u001b[39m.\u001b[39msqueeze(\u001b[39m1\u001b[39m)))\n",
      "File \u001b[0;32m~/opt/miniconda3/envs/ml4gland/lib/python3.9/site-packages/torch/_tensor.py:487\u001b[0m, in \u001b[0;36mTensor.backward\u001b[0;34m(self, gradient, retain_graph, create_graph, inputs)\u001b[0m\n\u001b[1;32m    477\u001b[0m \u001b[39mif\u001b[39;00m has_torch_function_unary(\u001b[39mself\u001b[39m):\n\u001b[1;32m    478\u001b[0m     \u001b[39mreturn\u001b[39;00m handle_torch_function(\n\u001b[1;32m    479\u001b[0m         Tensor\u001b[39m.\u001b[39mbackward,\n\u001b[1;32m    480\u001b[0m         (\u001b[39mself\u001b[39m,),\n\u001b[0;32m   (...)\u001b[0m\n\u001b[1;32m    485\u001b[0m         inputs\u001b[39m=\u001b[39minputs,\n\u001b[1;32m    486\u001b[0m     )\n\u001b[0;32m--> 487\u001b[0m torch\u001b[39m.\u001b[39;49mautograd\u001b[39m.\u001b[39;49mbackward(\n\u001b[1;32m    488\u001b[0m     \u001b[39mself\u001b[39;49m, gradient, retain_graph, create_graph, inputs\u001b[39m=\u001b[39;49minputs\n\u001b[1;32m    489\u001b[0m )\n",
      "File \u001b[0;32m~/opt/miniconda3/envs/ml4gland/lib/python3.9/site-packages/torch/autograd/__init__.py:200\u001b[0m, in \u001b[0;36mbackward\u001b[0;34m(tensors, grad_tensors, retain_graph, create_graph, grad_variables, inputs)\u001b[0m\n\u001b[1;32m    195\u001b[0m     retain_graph \u001b[39m=\u001b[39m create_graph\n\u001b[1;32m    197\u001b[0m \u001b[39m# The reason we repeat same the comment below is that\u001b[39;00m\n\u001b[1;32m    198\u001b[0m \u001b[39m# some Python versions print out the first line of a multi-line function\u001b[39;00m\n\u001b[1;32m    199\u001b[0m \u001b[39m# calls in the traceback and some print out the last line\u001b[39;00m\n\u001b[0;32m--> 200\u001b[0m Variable\u001b[39m.\u001b[39;49m_execution_engine\u001b[39m.\u001b[39;49mrun_backward(  \u001b[39m# Calls into the C++ engine to run the backward pass\u001b[39;49;00m\n\u001b[1;32m    201\u001b[0m     tensors, grad_tensors_, retain_graph, create_graph, inputs,\n\u001b[1;32m    202\u001b[0m     allow_unreachable\u001b[39m=\u001b[39;49m\u001b[39mTrue\u001b[39;49;00m, accumulate_grad\u001b[39m=\u001b[39;49m\u001b[39mTrue\u001b[39;49;00m)\n",
      "\u001b[0;31mRuntimeError\u001b[0m: element 0 of tensors does not require grad and does not have a grad_fn"
     ]
    }
   ],
   "source": [
    "test_unsqueeze_layer()"
   ]
  },
  {
   "attachments": {},
   "cell_type": "markdown",
   "metadata": {},
   "source": [
    "### View"
   ]
  },
  {
   "cell_type": "code",
   "execution_count": 37,
   "metadata": {},
   "outputs": [
    {
     "data": {
      "text/plain": [
       "(View(100, 4), torch.Size([10, 4, 100]), torch.Size([10, 100, 4]))"
      ]
     },
     "execution_count": 37,
     "metadata": {},
     "output_type": "execute_result"
    }
   ],
   "source": [
    "layer = layers.View((100, 4))\n",
    "layer_out = layer(x)\n",
    "layer, x.shape, layer_out.shape"
   ]
  },
  {
   "cell_type": "code",
   "execution_count": 39,
   "metadata": {},
   "outputs": [],
   "source": [
    "def test_view_layer():\n",
    "    # Test input tensor\n",
    "    input_tensor = torch.randn(2, 3, 4)\n",
    "    \n",
    "    # Initialize View layer\n",
    "    view_layer = layers.View((3, 8))\n",
    "    \n",
    "    # Test forward pass\n",
    "    output_tensor = view_layer(input_tensor)\n",
    "    assert output_tensor.shape == (2, 3, 8)\n",
    "    assert torch.all(torch.eq(output_tensor, input_tensor.view(2, 3, 3, 8)))\n",
    "    \n",
    "    # Test backward pass\n",
    "    output_tensor.sum().backward()\n",
    "    assert torch.all(torch.eq(input_tensor.grad, output_tensor.grad.view(2, 3, 4)))"
   ]
  },
  {
   "cell_type": "code",
   "execution_count": 40,
   "metadata": {},
   "outputs": [
    {
     "ename": "RuntimeError",
     "evalue": "shape '[2, 3, 8]' is invalid for input of size 24",
     "output_type": "error",
     "traceback": [
      "\u001b[0;31m---------------------------------------------------------------------------\u001b[0m",
      "\u001b[0;31mRuntimeError\u001b[0m                              Traceback (most recent call last)",
      "Cell \u001b[0;32mIn[40], line 1\u001b[0m\n\u001b[0;32m----> 1\u001b[0m test_view_layer()\n",
      "Cell \u001b[0;32mIn[39], line 9\u001b[0m, in \u001b[0;36mtest_view_layer\u001b[0;34m()\u001b[0m\n\u001b[1;32m      6\u001b[0m view_layer \u001b[39m=\u001b[39m layers\u001b[39m.\u001b[39mView((\u001b[39m3\u001b[39m, \u001b[39m8\u001b[39m))\n\u001b[1;32m      8\u001b[0m \u001b[39m# Test forward pass\u001b[39;00m\n\u001b[0;32m----> 9\u001b[0m output_tensor \u001b[39m=\u001b[39m view_layer(input_tensor)\n\u001b[1;32m     10\u001b[0m \u001b[39massert\u001b[39;00m output_tensor\u001b[39m.\u001b[39mshape \u001b[39m==\u001b[39m (\u001b[39m2\u001b[39m, \u001b[39m3\u001b[39m, \u001b[39m8\u001b[39m)\n\u001b[1;32m     11\u001b[0m \u001b[39massert\u001b[39;00m torch\u001b[39m.\u001b[39mall(torch\u001b[39m.\u001b[39meq(output_tensor, input_tensor\u001b[39m.\u001b[39mview(\u001b[39m2\u001b[39m, \u001b[39m3\u001b[39m, \u001b[39m3\u001b[39m, \u001b[39m8\u001b[39m)))\n",
      "File \u001b[0;32m~/opt/miniconda3/envs/ml4gland/lib/python3.9/site-packages/torch/nn/modules/module.py:1501\u001b[0m, in \u001b[0;36mModule._call_impl\u001b[0;34m(self, *args, **kwargs)\u001b[0m\n\u001b[1;32m   1496\u001b[0m \u001b[39m# If we don't have any hooks, we want to skip the rest of the logic in\u001b[39;00m\n\u001b[1;32m   1497\u001b[0m \u001b[39m# this function, and just call forward.\u001b[39;00m\n\u001b[1;32m   1498\u001b[0m \u001b[39mif\u001b[39;00m \u001b[39mnot\u001b[39;00m (\u001b[39mself\u001b[39m\u001b[39m.\u001b[39m_backward_hooks \u001b[39mor\u001b[39;00m \u001b[39mself\u001b[39m\u001b[39m.\u001b[39m_backward_pre_hooks \u001b[39mor\u001b[39;00m \u001b[39mself\u001b[39m\u001b[39m.\u001b[39m_forward_hooks \u001b[39mor\u001b[39;00m \u001b[39mself\u001b[39m\u001b[39m.\u001b[39m_forward_pre_hooks\n\u001b[1;32m   1499\u001b[0m         \u001b[39mor\u001b[39;00m _global_backward_pre_hooks \u001b[39mor\u001b[39;00m _global_backward_hooks\n\u001b[1;32m   1500\u001b[0m         \u001b[39mor\u001b[39;00m _global_forward_hooks \u001b[39mor\u001b[39;00m _global_forward_pre_hooks):\n\u001b[0;32m-> 1501\u001b[0m     \u001b[39mreturn\u001b[39;00m forward_call(\u001b[39m*\u001b[39;49margs, \u001b[39m*\u001b[39;49m\u001b[39m*\u001b[39;49mkwargs)\n\u001b[1;32m   1502\u001b[0m \u001b[39m# Do not call functions when jit is used\u001b[39;00m\n\u001b[1;32m   1503\u001b[0m full_backward_hooks, non_full_backward_hooks \u001b[39m=\u001b[39m [], []\n",
      "File \u001b[0;32m~/projects/ML4GLand/EUGENe/eugene/models/base/_layers.py:318\u001b[0m, in \u001b[0;36mforward\u001b[0;34m(self, input)\u001b[0m\n\u001b[1;32m    316\u001b[0m shape \u001b[39m=\u001b[39m (batch_size, \u001b[39m*\u001b[39m\u001b[39mself\u001b[39m\u001b[39m.\u001b[39mshape)\n\u001b[1;32m    317\u001b[0m out \u001b[39m=\u001b[39m \u001b[39minput\u001b[39m\u001b[39m.\u001b[39mview(shape)\n\u001b[0;32m--> 318\u001b[0m \u001b[39mreturn\u001b[39;00m out\n",
      "\u001b[0;31mRuntimeError\u001b[0m: shape '[2, 3, 8]' is invalid for input of size 24"
     ]
    }
   ],
   "source": [
    "test_view_layer()"
   ]
  },
  {
   "attachments": {},
   "cell_type": "markdown",
   "metadata": {},
   "source": [
    "## Miscallaneous"
   ]
  },
  {
   "attachments": {},
   "cell_type": "markdown",
   "metadata": {},
   "source": [
    "### Clip"
   ]
  },
  {
   "cell_type": "code",
   "execution_count": 41,
   "metadata": {},
   "outputs": [
    {
     "data": {
      "text/plain": [
       "(Clip(),\n",
       " torch.Size([10, 4, 100]),\n",
       " torch.Size([10, 4, 100]),\n",
       " tensor(0.),\n",
       " tensor(0.1000))"
      ]
     },
     "execution_count": 41,
     "metadata": {},
     "output_type": "execute_result"
    }
   ],
   "source": [
    "layer = layers.Clip(0, 0.1)\n",
    "layer_out = layer(x)\n",
    "layer, x.shape, layer_out.shape, layer_out.min(), layer_out.max()"
   ]
  },
  {
   "cell_type": "code",
   "execution_count": 42,
   "metadata": {},
   "outputs": [],
   "source": [
    "def test_clip_forward():\n",
    "    # Test the forward method of the Clip class\n",
    "    clip = layers.Clip(min=0, max=1)\n",
    "    x = torch.tensor([-1, 0.5, 2])\n",
    "    expected_output = torch.tensor([0, 0.5, 1])\n",
    "    assert torch.all(torch.eq(clip(x), expected_output))"
   ]
  },
  {
   "cell_type": "code",
   "execution_count": 43,
   "metadata": {},
   "outputs": [],
   "source": [
    "test_clip_forward()"
   ]
  },
  {
   "attachments": {},
   "cell_type": "markdown",
   "metadata": {},
   "source": [
    "### RevComp"
   ]
  },
  {
   "cell_type": "code",
   "execution_count": 45,
   "metadata": {},
   "outputs": [
    {
     "data": {
      "text/plain": [
       "(RevComp(), torch.Size([10, 4, 100]), torch.Size([10, 4, 100]))"
      ]
     },
     "execution_count": 45,
     "metadata": {},
     "output_type": "execute_result"
    }
   ],
   "source": [
    "layer = layers.RevComp()\n",
    "layer_out = layer(x)\n",
    "layer, x.shape, layer_out.shape"
   ]
  },
  {
   "cell_type": "code",
   "execution_count": 46,
   "metadata": {},
   "outputs": [],
   "source": [
    "def test_revcomp_forward():\n",
    "    # Test the forward method of the RevComp class\n",
    "    revcomp = layers.RevComp(dim=[1,2])\n",
    "    x = torch.tensor([[[1,2],[3,4]],[[5,6],[7,8]]])\n",
    "    expected_output = torch.tensor([[[4,3],[2,1]],[[8,7],[6,5]]])\n",
    "    assert torch.all(torch.eq(revcomp(x), expected_output))"
   ]
  },
  {
   "cell_type": "code",
   "execution_count": 47,
   "metadata": {},
   "outputs": [],
   "source": [
    "test_revcomp_forward()"
   ]
  },
  {
   "attachments": {},
   "cell_type": "markdown",
   "metadata": {},
   "source": [
    "# DONE"
   ]
  },
  {
   "attachments": {},
   "cell_type": "markdown",
   "metadata": {},
   "source": [
    "---"
   ]
  },
  {
   "attachments": {},
   "cell_type": "markdown",
   "metadata": {},
   "source": [
    "# Scratch"
   ]
  }
 ],
 "metadata": {
  "kernelspec": {
   "display_name": "Python 3.9 ml4gland",
   "language": "python",
   "name": "ml4gland"
  },
  "language_info": {
   "codemirror_mode": {
    "name": "ipython",
    "version": 3
   },
   "file_extension": ".py",
   "mimetype": "text/x-python",
   "name": "python",
   "nbconvert_exporter": "python",
   "pygments_lexer": "ipython3",
   "version": "3.9.16"
  },
  "orig_nbformat": 4,
  "vscode": {
   "interpreter": {
    "hash": "7782186cff5d7e5d5e3fe0a7e6ebf1d74655b3470c460e9b06cf809b4e9601e8"
   }
  }
 },
 "nbformat": 4,
 "nbformat_minor": 2
}

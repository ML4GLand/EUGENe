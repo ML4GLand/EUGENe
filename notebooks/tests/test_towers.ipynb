{
 "cells": [
  {
   "cell_type": "code",
   "execution_count": 157,
   "metadata": {},
   "outputs": [],
   "source": [
    "# Extensions\n",
    "if 'autoreload' not in get_ipython().extension_manager.loaded:\n",
    "    %load_ext autoreload\n",
    "%autoreload 2"
   ]
  },
  {
   "cell_type": "code",
   "execution_count": 1,
   "metadata": {},
   "outputs": [],
   "source": [
    "# Imports\n",
    "import torch\n",
    "import pandas as pd\n",
    "import numpy as np"
   ]
  },
  {
   "cell_type": "code",
   "execution_count": 2,
   "metadata": {},
   "outputs": [],
   "source": [
    "# Configuration\n",
    "ID = torch.Tensor([1, 2, 3, 4, 5, 6, 7, 8, 9, 10])\n",
    "x = torch.randn(10, 4, 100)\n",
    "x_rev_comp = torch.randn(10, 4, 100)\n",
    "y = torch.randint(0, 2, (10, 1))\n",
    "batch = (ID, x, x_rev_comp, y)"
   ]
  },
  {
   "cell_type": "code",
   "execution_count": 3,
   "metadata": {},
   "outputs": [],
   "source": [
    "# Helper functions\n",
    "def move_module_to_cpu(module):\n",
    "    module.to(\"cpu\")\n",
    "    for child in module.children():\n",
    "        move_module_to_cpu(child)"
   ]
  },
  {
   "attachments": {},
   "cell_type": "markdown",
   "metadata": {},
   "source": [
    "# Towers"
   ]
  },
  {
   "cell_type": "code",
   "execution_count": 4,
   "metadata": {},
   "outputs": [],
   "source": [
    "from eugene.models.base import _towers as towers"
   ]
  },
  {
   "attachments": {},
   "cell_type": "markdown",
   "metadata": {},
   "source": [
    "### Feed Forward Tower"
   ]
  },
  {
   "cell_type": "code",
   "execution_count": 5,
   "metadata": {},
   "outputs": [
    {
     "data": {
      "text/plain": [
       "(400, [10], torch.Size([10, 10]))"
      ]
     },
     "execution_count": 5,
     "metadata": {},
     "output_type": "execute_result"
    }
   ],
   "source": [
    "tower = towers.Tower(\n",
    "    input_size=400,\n",
    "    block=torch.nn.Linear,\n",
    "    repeats=3,\n",
    "    dynamic_block_args={'in_features': [400, 200, 100], 'out_features': [200, 100, 10]},\n",
    ")\n",
    "tower_out = tower(x.reshape(10, -1))\n",
    "tower.input_size, tower.output_size, tower_out.shape"
   ]
  },
  {
   "attachments": {},
   "cell_type": "markdown",
   "metadata": {},
   "source": [
    "### Tower of Conv1D blocks"
   ]
  },
  {
   "cell_type": "code",
   "execution_count": 6,
   "metadata": {},
   "outputs": [],
   "source": [
    "from eugene.models.base._blocks import Conv1DBlock"
   ]
  },
  {
   "cell_type": "code",
   "execution_count": 16,
   "metadata": {},
   "outputs": [
    {
     "data": {
      "text/plain": [
       "(Tower(\n",
       "   (blocks): Sequential(\n",
       "     (conv1dblock_0): Conv1DBlock(\n",
       "       (layers): Sequential(\n",
       "         (conv): Conv1d(4, 10, kernel_size=(3,), stride=(1,), padding=same)\n",
       "         (norm): BatchNorm1d(10, eps=1e-05, momentum=0.1, affine=True, track_running_stats=True)\n",
       "         (act): ReLU()\n",
       "         (pool): MaxPool1d(kernel_size=1, stride=1, padding=0, dilation=1, ceil_mode=False)\n",
       "       )\n",
       "     )\n",
       "     (conv1dblock_1): Conv1DBlock(\n",
       "       (layers): Sequential(\n",
       "         (conv): Conv1d(10, 20, kernel_size=(3,), stride=(1,), padding=same)\n",
       "         (norm): BatchNorm1d(20, eps=1e-05, momentum=0.1, affine=True, track_running_stats=True)\n",
       "         (act): ReLU()\n",
       "         (pool): MaxPool1d(kernel_size=1, stride=1, padding=0, dilation=1, ceil_mode=False)\n",
       "       )\n",
       "     )\n",
       "     (conv1dblock_2): Conv1DBlock(\n",
       "       (layers): Sequential(\n",
       "         (conv): Conv1d(20, 30, kernel_size=(3,), stride=(1,), padding=same)\n",
       "         (norm): BatchNorm1d(30, eps=1e-05, momentum=0.1, affine=True, track_running_stats=True)\n",
       "         (act): ReLU()\n",
       "         (pool): MaxPool1d(kernel_size=1, stride=1, padding=0, dilation=1, ceil_mode=False)\n",
       "       )\n",
       "     )\n",
       "   )\n",
       " ),\n",
       " (4, 100),\n",
       " [30, 100],\n",
       " torch.Size([10, 30, 100]))"
      ]
     },
     "execution_count": 16,
     "metadata": {},
     "output_type": "execute_result"
    }
   ],
   "source": [
    "tower = towers.Tower(\n",
    "    input_size=(4, 100),\n",
    "    block=Conv1DBlock,\n",
    "    repeats=3,\n",
    "    static_block_args={'input_len': 100, 'conv_kernel': 3, 'conv_padding': 'same', 'conv_type': 'conv1d', 'order': 'conv-norm-act-dropout-pool'},\n",
    "    dynamic_block_args={'input_channels': [4, 10, 20], 'output_channels': [10, 20, 30]}\n",
    ")\n",
    "tower_out = tower(x)\n",
    "tower, tower.input_size, tower.output_size, tower_out.shape"
   ]
  },
  {
   "cell_type": "code",
   "execution_count": 17,
   "metadata": {},
   "outputs": [
    {
     "data": {
      "text/plain": [
       "(Tower(\n",
       "   (blocks): Sequential(\n",
       "     (conv1dblock_0): Conv1DBlock(\n",
       "       (layers): Sequential(\n",
       "         (conv): Conv1d(4, 10, kernel_size=(3,), stride=(1,), padding=same)\n",
       "         (norm): BatchNorm1d(10, eps=1e-05, momentum=0.1, affine=True, track_running_stats=True)\n",
       "         (act): GELU()\n",
       "         (pool): MaxPool1d(kernel_size=1, stride=1, padding=0, dilation=1, ceil_mode=False)\n",
       "       )\n",
       "     )\n",
       "     (conv1dblock_1): Conv1DBlock(\n",
       "       (layers): Sequential(\n",
       "         (conv): Conv1d(10, 20, kernel_size=(3,), stride=(1,), padding=same, dilation=(2,))\n",
       "         (norm): BatchNorm1d(20, eps=1e-05, momentum=0.1, affine=True, track_running_stats=True)\n",
       "         (act): GELU()\n",
       "         (pool): MaxPool1d(kernel_size=1, stride=1, padding=0, dilation=1, ceil_mode=False)\n",
       "       )\n",
       "     )\n",
       "     (conv1dblock_2): Conv1DBlock(\n",
       "       (layers): Sequential(\n",
       "         (conv): Conv1d(20, 30, kernel_size=(3,), stride=(1,), padding=same, dilation=(4,))\n",
       "         (norm): BatchNorm1d(30, eps=1e-05, momentum=0.1, affine=True, track_running_stats=True)\n",
       "         (act): GELU()\n",
       "         (pool): MaxPool1d(kernel_size=1, stride=1, padding=0, dilation=1, ceil_mode=False)\n",
       "       )\n",
       "     )\n",
       "   )\n",
       " ),\n",
       " (4, 100),\n",
       " [30, 100],\n",
       " torch.Size([10, 30, 100]))"
      ]
     },
     "execution_count": 17,
     "metadata": {},
     "output_type": "execute_result"
    }
   ],
   "source": [
    "tower = towers.Tower(\n",
    "    input_size=(4, 100),\n",
    "    block=Conv1DBlock,\n",
    "    repeats=3,\n",
    "    static_block_args={'input_len': 100, 'conv_kernel': 3, 'conv_padding': 'same', 'conv_type': 'conv1d', 'activation': 'gelu', 'order': 'conv-norm-act-dropout-pool'},\n",
    "    dynamic_block_args={'input_channels': [4, 10, 20], 'output_channels': [10, 20, 30]},\n",
    "    mults={\"conv_dilation\": 2}\n",
    ")\n",
    "tower_out = tower(x)\n",
    "tower, tower.input_size, tower.output_size, tower_out.shape"
   ]
  },
  {
   "attachments": {},
   "cell_type": "markdown",
   "metadata": {},
   "source": [
    "### Conv1DTower\n",
    "Allows for more explicit definition of a tower of convolutions. Will be deprecated, but currently used to work with models."
   ]
  },
  {
   "cell_type": "code",
   "execution_count": 18,
   "metadata": {},
   "outputs": [
    {
     "data": {
      "text/plain": [
       "(Conv1DTower(\n",
       "   (layers): Sequential(\n",
       "     (0): Conv1d(4, 10, kernel_size=(3,), stride=(1,), padding=valid)\n",
       "     (1): BatchNorm1d(10, eps=1e-05, momentum=0.1, affine=True, track_running_stats=True)\n",
       "     (2): AvgPool1d(kernel_size=1, stride=1, padding=(0,))\n",
       "     (3): Conv1d(10, 10, kernel_size=(3,), stride=(1,), padding=valid)\n",
       "     (4): BatchNorm1d(10, eps=1e-05, momentum=0.1, affine=True, track_running_stats=True)\n",
       "     (5): ReLU()\n",
       "     (6): AvgPool1d(kernel_size=1, stride=1, padding=(0,))\n",
       "     (7): Dropout(p=0.5, inplace=False)\n",
       "   )\n",
       " ),\n",
       " torch.Size([10, 10, 96]))"
      ]
     },
     "execution_count": 18,
     "metadata": {},
     "output_type": "execute_result"
    }
   ],
   "source": [
    "conv1d_tower = towers.Conv1DTower(\n",
    "    input_len=100,\n",
    "    input_channels=4,\n",
    "    conv_channels=[10, 10],\n",
    "    conv_kernels=[3, 3],\n",
    "    conv_strides=[1, 1],\n",
    "    conv_dilations=[1, 1],\n",
    "    conv_padding=[\"valid\", \"valid\"],\n",
    "    activations=[None, \"relu\"],\n",
    "    pool_types=\"avg\",\n",
    "    pool_kernels=[1, 1],\n",
    "    pool_strides=[1, 1],\n",
    "    pool_padding=[0, 0],\n",
    "    dropout_rates=[None, 0.5],\n",
    "    batchnorm=True,\n",
    "    batchnorm_first=True\n",
    ")\n",
    "tower_out = conv1d_tower(x)\n",
    "conv1d_tower, tower_out.shape"
   ]
  },
  {
   "attachments": {},
   "cell_type": "markdown",
   "metadata": {},
   "source": [
    "### BiConv1DTower"
   ]
  },
  {
   "cell_type": "code",
   "execution_count": 20,
   "metadata": {},
   "outputs": [
    {
     "data": {
      "text/plain": [
       "(BiConv1DTower(\n",
       "   (kernels): ParameterList(\n",
       "       (0): Parameter containing: [torch.float32 of size 10x4x3]\n",
       "       (1): Parameter containing: [torch.float32 of size 10x10x3]\n",
       "   )\n",
       "   (biases): ParameterList(\n",
       "       (0): Parameter containing: [torch.float32 of size 10]\n",
       "       (1): Parameter containing: [torch.float32 of size 10]\n",
       "   )\n",
       " ),\n",
       " torch.Size([10, 10, 100]))"
      ]
     },
     "execution_count": 20,
     "metadata": {},
     "output_type": "execute_result"
    }
   ],
   "source": [
    "biconv1d_tower = towers.BiConv1DTower(\n",
    "    filters = 10,\n",
    "    kernel_size = 3,\n",
    "    layers = 2\n",
    ")\n",
    "tower_out = biconv1d_tower(x)\n",
    "biconv1d_tower, tower_out.shape"
   ]
  },
  {
   "attachments": {},
   "cell_type": "markdown",
   "metadata": {},
   "source": [
    "# DONE"
   ]
  },
  {
   "attachments": {},
   "cell_type": "markdown",
   "metadata": {},
   "source": [
    "---"
   ]
  },
  {
   "attachments": {},
   "cell_type": "markdown",
   "metadata": {},
   "source": [
    "# Scratch"
   ]
  }
 ],
 "metadata": {
  "kernelspec": {
   "display_name": "Python 3.9 ml4gland",
   "language": "python",
   "name": "ml4gland"
  },
  "language_info": {
   "codemirror_mode": {
    "name": "ipython",
    "version": 3
   },
   "file_extension": ".py",
   "mimetype": "text/x-python",
   "name": "python",
   "nbconvert_exporter": "python",
   "pygments_lexer": "ipython3",
   "version": "3.9.16"
  },
  "orig_nbformat": 4,
  "vscode": {
   "interpreter": {
    "hash": "7782186cff5d7e5d5e3fe0a7e6ebf1d74655b3470c460e9b06cf809b4e9601e8"
   }
  }
 },
 "nbformat": 4,
 "nbformat_minor": 2
}

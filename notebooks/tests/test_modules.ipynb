{
 "cells": [
  {
   "cell_type": "code",
   "execution_count": 30,
   "metadata": {},
   "outputs": [],
   "source": [
    "# Extensions\n",
    "if 'autoreload' not in get_ipython().extension_manager.loaded:\n",
    "    %load_ext autoreload\n",
    "%autoreload 2"
   ]
  },
  {
   "cell_type": "code",
   "execution_count": 1,
   "metadata": {},
   "outputs": [],
   "source": [
    "# Imports\n",
    "import torch\n",
    "import pandas as pd\n",
    "import numpy as np\n",
    "import seqdatasets\n",
    "import seqdata as sd\n",
    "import xarray as xr"
   ]
  },
  {
   "cell_type": "code",
   "execution_count": 2,
   "metadata": {},
   "outputs": [],
   "source": [
    "from eugene import preprocess as pp\n",
    "from eugene.models.zoo import DeepBind, DeepSTARR"
   ]
  },
  {
   "cell_type": "code",
   "execution_count": 3,
   "metadata": {},
   "outputs": [
    {
     "name": "stdout",
     "output_type": "stream",
     "text": [
      "Dataset jores21 CNN_test_leaf.tsv has already been downloaded.\n",
      "Dataset jores21 CNN_train_leaf.tsv has already been downloaded.\n"
     ]
    },
    {
     "name": "stderr",
     "output_type": "stream",
     "text": [
      "0it [00:00, ?it/s]"
     ]
    },
    {
     "name": "stderr",
     "output_type": "stream",
     "text": [
      "72158it [00:15, 4571.88it/s]\n"
     ]
    }
   ],
   "source": [
    "# Configure\n",
    "sdata = seqdatasets.jores21()\n",
    "pp.ohe_seqs_sdata(sdata)\n",
    "#pp.train_test_split_sdata(sdata)\n",
    "#sdata[\"target\"] = xr.concat([sdata[\"label_0\"], sdata[\"label_1\"], sdata[\"label_2\"]], dim=\"_targets\").transpose(\"_sequence\", \"_targets\").load()\n",
    "#sdata[\"target\"] = xr.concat([sdata[\"activity_0\"], sdata[\"activity_1\"], sdata[\"activity_2\"]], dim=\"_targets\").transpose(\"_sequence\", \"_targets\").load()\n",
    "sdata[\"seq\"] = sdata[\"ohe_seq\"].transpose(\"_sequence\", \"_ohe\", \"length\")\n",
    "sdata[\"target\"] = sdata[\"enrichment\"].load()"
   ]
  },
  {
   "cell_type": "code",
   "execution_count": 4,
   "metadata": {},
   "outputs": [],
   "source": [
    "train_mask = np.where(sdata[\"set\"] == \"train\")[0]\n",
    "train_sdata = sdata.isel(_sequence=train_mask)\n",
    "val_sdata = sdata.isel(_sequence=~train_mask)"
   ]
  },
  {
   "cell_type": "code",
   "execution_count": 5,
   "metadata": {},
   "outputs": [],
   "source": [
    "train_dataloader = sd.get_torch_dataloader(\n",
    "    train_sdata,\n",
    "    sample_dims=[\"_sequence\"],\n",
    "    variables=[\"seq\", \"target\"],\n",
    "    transforms={\"seq\": lambda x: torch.tensor(x, dtype=torch.float32)},\n",
    "    prefetch_factor=None,\n",
    "    shuffle=True,\n",
    "    drop_last=True,\n",
    "    batch_size=128\n",
    ")\n",
    "val_dataloader = sd.get_torch_dataloader(\n",
    "    val_sdata,\n",
    "    sample_dims=[\"_sequence\"],\n",
    "    variables=[\"seq\", \"target\"],\n",
    "    transforms={\"seq\": lambda x: torch.tensor(x, dtype=torch.float32)},\n",
    "    prefetch_factor=None,\n",
    "    shuffle=False,\n",
    "    drop_last=True,\n",
    "    batch_size=128\n",
    ")"
   ]
  },
  {
   "attachments": {},
   "cell_type": "markdown",
   "metadata": {},
   "source": [
    "# `SequenceModule`"
   ]
  },
  {
   "cell_type": "code",
   "execution_count": 6,
   "metadata": {},
   "outputs": [],
   "source": [
    "from eugene.models import SequenceModule"
   ]
  },
  {
   "cell_type": "code",
   "execution_count": 7,
   "metadata": {},
   "outputs": [],
   "source": [
    "batch = next(iter(train_dataloader))\n",
    "seq = batch[\"seq\"]\n",
    "target = batch[\"target\"]"
   ]
  },
  {
   "cell_type": "code",
   "execution_count": 8,
   "metadata": {},
   "outputs": [
    {
     "data": {
      "text/plain": [
       "torch.Size([128, 4, 170])"
      ]
     },
     "execution_count": 8,
     "metadata": {},
     "output_type": "execute_result"
    }
   ],
   "source": [
    "seq.shape"
   ]
  },
  {
   "cell_type": "code",
   "execution_count": 9,
   "metadata": {},
   "outputs": [],
   "source": [
    "arch = DeepSTARR(\n",
    "    input_len=170,\n",
    "    output_dim=1\n",
    ")"
   ]
  },
  {
   "cell_type": "code",
   "execution_count": 10,
   "metadata": {},
   "outputs": [
    {
     "data": {
      "text/plain": [
       "torch.Size([128, 120, 166])"
      ]
     },
     "execution_count": 10,
     "metadata": {},
     "output_type": "execute_result"
    }
   ],
   "source": [
    "arch.conv1d_tower(seq).shape"
   ]
  },
  {
   "cell_type": "code",
   "execution_count": 11,
   "metadata": {},
   "outputs": [
    {
     "data": {
      "text/plain": [
       "19920"
      ]
     },
     "execution_count": 11,
     "metadata": {},
     "output_type": "execute_result"
    }
   ],
   "source": [
    "arch.conv1d_tower.out_channels * arch.conv1d_tower.output_len"
   ]
  },
  {
   "cell_type": "code",
   "execution_count": 12,
   "metadata": {},
   "outputs": [
    {
     "data": {
      "text/plain": [
       "(torch.Size([128, 1]), torch.Size([128]))"
      ]
     },
     "execution_count": 12,
     "metadata": {},
     "output_type": "execute_result"
    }
   ],
   "source": [
    "arch(seq).shape, target.shape"
   ]
  },
  {
   "cell_type": "code",
   "execution_count": 13,
   "metadata": {},
   "outputs": [],
   "source": [
    "model = SequenceModule(\n",
    "    arch=arch,\n",
    "    task=\"regression\",\n",
    "    arch_name=\"DeepSTARR\",\n",
    "    model_name=\"random1000_deepbind\",\n",
    "    scheduler=\"reduce_lr_on_plateau\",\n",
    "    metric=\"r2score\",\n",
    "    #metric_kwargs={\"num_classes\": 3, \"task\": \"multiclass\"}\n",
    ")"
   ]
  },
  {
   "cell_type": "code",
   "execution_count": 14,
   "metadata": {},
   "outputs": [],
   "source": [
    "from eugene.models.base._metrics import calculate_metric"
   ]
  },
  {
   "cell_type": "code",
   "execution_count": 15,
   "metadata": {},
   "outputs": [
    {
     "data": {
      "text/plain": [
       "R2Score()"
      ]
     },
     "execution_count": 15,
     "metadata": {},
     "output_type": "execute_result"
    }
   ],
   "source": [
    "model.train_metric"
   ]
  },
  {
   "cell_type": "code",
   "execution_count": 16,
   "metadata": {},
   "outputs": [],
   "source": [
    "calculate_metric(\n",
    "    metric=model.train_metric,\n",
    "    metric_name=model.metric_name,\n",
    "    outs=model(seq),\n",
    "    y=target\n",
    ")"
   ]
  },
  {
   "cell_type": "code",
   "execution_count": 18,
   "metadata": {},
   "outputs": [],
   "source": [
    "import os\n",
    "from pytorch_lightning import Trainer\n",
    "from pytorch_lightning.callbacks import ModelCheckpoint\n",
    "from pytorch_lightning.callbacks.early_stopping import EarlyStopping\n",
    "from pytorch_lightning.callbacks.lr_monitor import LearningRateMonitor\n",
    "from pytorch_lightning.loggers import CSVLogger, TensorBoardLogger, WandbLogger"
   ]
  },
  {
   "cell_type": "code",
   "execution_count": 19,
   "metadata": {},
   "outputs": [],
   "source": [
    "callbacks = []"
   ]
  },
  {
   "cell_type": "code",
   "execution_count": 21,
   "metadata": {},
   "outputs": [],
   "source": [
    "logger = TensorBoardLogger(\n",
    "    save_dir=\"/cellar/users/aklie/projects/ML4GLand/EUGENe/notebooks/tests\", \n",
    "    name=\"jores21_deepstarr\",\n",
    "    version=\"0.0.7\"\n",
    ")"
   ]
  },
  {
   "cell_type": "code",
   "execution_count": 22,
   "metadata": {},
   "outputs": [],
   "source": [
    "model_checkpoint_callback = ModelCheckpoint(\n",
    "    dirpath=os.path.join(logger.save_dir, logger.name, logger.version, \"checkpoints\"), \n",
    "    save_top_k=3, \n",
    "    monitor=\"val_loss_epoch\"\n",
    ")\n",
    "callbacks.append(model_checkpoint_callback)"
   ]
  },
  {
   "cell_type": "code",
   "execution_count": 23,
   "metadata": {},
   "outputs": [],
   "source": [
    "early_stopping_callback = EarlyStopping(\n",
    "    monitor=\"val_loss_epoch\",\n",
    "    patience=3,\n",
    "    mode=\"min\",\n",
    "    verbose=False,\n",
    ")\n",
    "callbacks.append(early_stopping_callback)"
   ]
  },
  {
   "cell_type": "code",
   "execution_count": 24,
   "metadata": {},
   "outputs": [],
   "source": [
    "if model.scheduler is not None:\n",
    "    callbacks.append(LearningRateMonitor())"
   ]
  },
  {
   "cell_type": "code",
   "execution_count": 25,
   "metadata": {},
   "outputs": [
    {
     "name": "stderr",
     "output_type": "stream",
     "text": [
      "/cellar/users/aklie/opt/miniconda3/envs/ml4gland/lib/python3.9/site-packages/lightning_fabric/plugins/environments/slurm.py:165: PossibleUserWarning: The `srun` command is available on your system but is not used. HINT: If your intention is to run Lightning on SLURM, prepend your python command with `srun` like so: srun python /cellar/users/aklie/opt/miniconda3/envs/ml4gland/lib ...\n",
      "  rank_zero_warn(\n",
      "GPU available: True (cuda), used: True\n",
      "TPU available: False, using: 0 TPU cores\n",
      "IPU available: False, using: 0 IPUs\n",
      "HPU available: False, using: 0 HPUs\n"
     ]
    }
   ],
   "source": [
    "trainer = Trainer(\n",
    "    max_epochs=10, \n",
    "    logger=logger, \n",
    "    devices=1, \n",
    "    accelerator=\"auto\",\n",
    "    callbacks=callbacks, \n",
    ")"
   ]
  },
  {
   "cell_type": "code",
   "execution_count": 26,
   "metadata": {},
   "outputs": [
    {
     "name": "stderr",
     "output_type": "stream",
     "text": [
      "/cellar/users/aklie/opt/miniconda3/envs/ml4gland/lib/python3.9/site-packages/lightning_fabric/plugins/environments/slurm.py:165: PossibleUserWarning: The `srun` command is available on your system but is not used. HINT: If your intention is to run Lightning on SLURM, prepend your python command with `srun` like so: srun python /cellar/users/aklie/opt/miniconda3/envs/ml4gland/lib ...\n",
      "  rank_zero_warn(\n"
     ]
    }
   ],
   "source": [
    "trainer.fit(\n",
    "    model, \n",
    "    train_dataloaders=train_dataloader, \n",
    "    val_dataloaders=val_dataloader\n",
    ")"
   ]
  },
  {
   "cell_type": "code",
   "execution_count": 52,
   "metadata": {},
   "outputs": [
    {
     "name": "stderr",
     "output_type": "stream",
     "text": [
      "Matplotlib is building the font cache; this may take a moment.\n"
     ]
    }
   ],
   "source": [
    "from eugene import plot as pl"
   ]
  },
  {
   "cell_type": "code",
   "execution_count": 87,
   "metadata": {},
   "outputs": [
    {
     "data": {
      "image/png": "[encoded data removed]",
      "text/plain": [
       "<Figure size 1200x600 with 2 Axes>"
      ]
     },
     "metadata": {},
     "output_type": "display_data"
    }
   ],
   "source": [
    "pl.training_summary(\"/cellar/users/aklie/projects/ML4GLand/EUGENe/notebooks/tests/jores21_deepstarr/0.0.7\", metric=\"f1score\")"
   ]
  },
  {
   "cell_type": "code",
   "execution_count": 12,
   "metadata": {},
   "outputs": [],
   "source": [
    "import os\n",
    "from os import PathLike\n",
    "from typing import List, Union\n",
    "\n",
    "import numpy as np\n",
    "from pytorch_lightning import LightningModule, Trainer, seed_everything\n",
    "from pytorch_lightning.callbacks import ModelCheckpoint\n",
    "from pytorch_lightning.callbacks.early_stopping import EarlyStopping\n",
    "from pytorch_lightning.callbacks.lr_monitor import LearningRateMonitor\n",
    "from pytorch_lightning.loggers import CSVLogger, TensorBoardLogger, WandbLogger\n",
    "from torch.utils.data import DataLoader, Dataset\n",
    "\n",
    "from eugene import settings\n",
    "\n",
    "# Note that CSVLogger is currently hanging training with SequenceModule right now\n",
    "# Note that if you use wandb logger, it comes with a few extra steps. Show a notebook for this\n",
    "LOGGER_REGISTRY = {\n",
    "    #\"csv\": CSVLogger,\n",
    "    \"tensorboard\": TensorBoardLogger,\n",
    "    #\"wandb\": WandbLogger,\n",
    "}\n",
    "\n",
    "def fit(\n",
    "    model: LightningModule,\n",
    "    sdata = None,\n",
    "    target_keys: Union[str, List[str]] = None,\n",
    "    train_key: str = \"train_val\",\n",
    "    epochs: int = 10,\n",
    "    gpus: int = None,\n",
    "    batch_size: int = None,\n",
    "    num_workers: int = None,\n",
    "    logger: str = \"csv\",\n",
    "    log_dir: PathLike = None,\n",
    "    name: str = None,\n",
    "    version: str = None,\n",
    "    train_dataset: Dataset = None,\n",
    "    val_dataset: Dataset = None,\n",
    "    train_dataloader: DataLoader = None,\n",
    "    val_dataloader: DataLoader = None,\n",
    "    seq_transforms: List[str] = None,\n",
    "    transform_kwargs: dict = {},\n",
    "    early_stopping_metric: str = \"val_loss_epoch\",\n",
    "    drop_last=True,\n",
    "    early_stopping_callback: bool = True,\n",
    "    early_stopping_patience=5,\n",
    "    early_stopping_verbose=False,\n",
    "    model_checkpoint_k = 1,\n",
    "    model_checkpoint_monitor: str =\"val_loss_epoch\",\n",
    "    seed: int = None,\n",
    "    return_trainer: bool = False,\n",
    "    **kwargs\n",
    "):\n",
    "    \"\"\"\n",
    "    Train the model using PyTorch Lightning.\n",
    "\n",
    "    Parameters\n",
    "    ----------\n",
    "    model : BaseModel\n",
    "        The model to train.\n",
    "    sdata : SeqData\n",
    "        The SeqData object to train on.\n",
    "    target_keys : str or list of str\n",
    "        The target keys in sdata's seqs_annot attribute to train on.\n",
    "    train_key : str\n",
    "        The key in sdata's seqs_annot attribute to split into train and validation set\n",
    "    epochs : int\n",
    "        The number of epochs to train for.\n",
    "    gpus : int\n",
    "        The number of gpus to use. EUGENe will automatically use all available gpus if available.\n",
    "    batch_size : int\n",
    "        The batch size to use.\n",
    "    num_workers : int\n",
    "        The number of workers to use for the dataloader.\n",
    "    log_dir : PathLike\n",
    "        The directory to save the logs to.\n",
    "    name : str\n",
    "        The name of the experiment.\n",
    "    version : str\n",
    "        The version of the experiment.\n",
    "    train_dataset :Dataset \n",
    "        The training dataset to use. If None, will be created from sdata.\n",
    "    val_dataset :Dataset \n",
    "        The validation dataset to use. If None, will be created from sdata.\n",
    "    train_dataloader : DataLoader\n",
    "        The training dataloader to use. If None, will be created from train_dataset.\n",
    "    val_dataloader : DataLoader\n",
    "        The validation dataloader to use. If None, will be created from val_dataset.\n",
    "    seq_transforms : list of str\n",
    "        The sequence transforms to apply to the data.\n",
    "    transform_kwargs : dict\n",
    "        The keyword arguments to pass to the sequence transforms.\n",
    "    early_stopping_metric : str\n",
    "        The metric to use for early stopping.\n",
    "    early_stopping_patience : int\n",
    "        The number of epochs to wait before stopping.\n",
    "    early_stopping_verbose : bool\n",
    "        Whether to print early stopping messages.\n",
    "    seed : int\n",
    "        The seed to use for reproducibility.\n",
    "    verbosity : int\n",
    "        The verbosity level.\n",
    "    kwargs : dict\n",
    "        Additional keyword arguments to pass to the PL Trainer.\n",
    "\n",
    "    Returns\n",
    "    -------\n",
    "    trainer : Trainer\n",
    "        The PyTorch Lightning Trainer object.\n",
    "    \"\"\"\n",
    "    # Set training parameters\n",
    "    gpus = gpus if gpus is not None else settings.gpus\n",
    "    batch_size = batch_size if batch_size is not None else settings.batch_size\n",
    "    num_workers = num_workers if num_workers is not None else settings.dl_num_workers\n",
    "    log_dir = log_dir if log_dir is not None else settings.logging_dir\n",
    "    model_name = model.__class__.__name__\n",
    "    name = name if name is not None else model_name\n",
    "    seed_everything(seed, workers=True) if seed is not None else print(\"No seed set\")\n",
    "\n",
    "    # Set-up dataloaders\n",
    "    if train_dataloader is not None:\n",
    "        assert val_dataloader is not None\n",
    "    elif train_dataset is not None:\n",
    "        assert val_dataset is not None\n",
    "        train_dataloader = DataLoader(train_dataset, batch_size=batch_size, num_workers=num_workers)\n",
    "        val_dataloader = DataLoader(val_dataset, batch_size=batch_size, num_workers=num_workers)\n",
    "    elif sdata is not None:\n",
    "        if target_keys is not None:\n",
    "            targs = sdata.seqs_annot[target_keys].values\n",
    "            if len(targs.shape) == 1:\n",
    "                nan_mask = np.isnan(targs)\n",
    "            else:\n",
    "                nan_mask = np.any(np.isnan(targs), axis=1)\n",
    "            print(f\"Dropping {nan_mask.sum()} sequences with NaN targets.\")\n",
    "            sdata = sdata[~nan_mask]  \n",
    "        train_idx = np.where(sdata.seqs_annot[train_key] == True)[0]\n",
    "        train_dataset = sdata[train_idx].to_dataset(\n",
    "            target_keys=target_keys,\n",
    "            seq_transforms=seq_transforms,\n",
    "            transform_kwargs=transform_kwargs,\n",
    "        )\n",
    "        train_dataloader = train_dataset.to_dataloader(\n",
    "            batch_size=batch_size, \n",
    "            num_workers=num_workers, \n",
    "            shuffle=True,\n",
    "            drop_last=drop_last\n",
    "        )\n",
    "        val_idx = np.where(sdata.seqs_annot[train_key] == False)[0]\n",
    "        val_dataset = sdata[val_idx].to_dataset(\n",
    "            target_keys=target_keys,\n",
    "            seq_transforms=seq_transforms,\n",
    "            transform_kwargs=transform_kwargs,\n",
    "        )\n",
    "        val_dataloader = val_dataset.to_dataloader(\n",
    "            batch_size=batch_size,\n",
    "            num_workers=num_workers,\n",
    "            shuffle=False,\n",
    "            drop_last=drop_last\n",
    "        )\n",
    "    else:\n",
    "        raise ValueError(\"No data provided to train on.\")\n",
    "    \n",
    "    # Set-up callbacks\n",
    "    logger = LOGGER_REGISTRY[logger](save_dir=log_dir, name=name, version=version)\n",
    "    callbacks = []\n",
    "    if model_checkpoint_monitor is not None:\n",
    "        model_checkpoint_callback = ModelCheckpoint(\n",
    "            dirpath=os.path.join(logger.save_dir, logger.name, logger.version, \"checkpoints\"), \n",
    "            save_top_k=model_checkpoint_k, \n",
    "            monitor=model_checkpoint_monitor\n",
    "        )\n",
    "        callbacks.append(model_checkpoint_callback)\n",
    "    if early_stopping_metric is not None:\n",
    "        early_stopping_callback = EarlyStopping(\n",
    "            monitor=early_stopping_metric,\n",
    "            patience=early_stopping_patience,\n",
    "            mode=\"min\",\n",
    "            verbose=early_stopping_verbose,\n",
    "        )\n",
    "        callbacks.append(early_stopping_callback)\n",
    "    if model.scheduler is not None:\n",
    "        callbacks.append(LearningRateMonitor())\n",
    "    trainer = Trainer(\n",
    "        max_epochs=epochs, \n",
    "        logger=logger, \n",
    "        devices=gpus, \n",
    "        accelerator=\"auto\",\n",
    "        callbacks=callbacks, \n",
    "        **kwargs\n",
    "    )\n",
    "    trainer.fit(\n",
    "        model, \n",
    "        train_dataloaders=train_dataloader, \n",
    "        val_dataloaders=val_dataloader\n",
    "    )\n",
    "    if return_trainer:\n",
    "        return trainer"
   ]
  },
  {
   "attachments": {},
   "cell_type": "markdown",
   "metadata": {},
   "source": [
    "# `ProfileModule`"
   ]
  },
  {
   "attachments": {},
   "cell_type": "markdown",
   "metadata": {},
   "source": [
    "# DONE"
   ]
  },
  {
   "attachments": {},
   "cell_type": "markdown",
   "metadata": {},
   "source": [
    "---"
   ]
  },
  {
   "attachments": {},
   "cell_type": "markdown",
   "metadata": {},
   "source": [
    "# Scratch"
   ]
  }
 ],
 "metadata": {
  "kernelspec": {
   "display_name": "Python 3.9 ml4gland",
   "language": "python",
   "name": "ml4gland"
  },
  "language_info": {
   "codemirror_mode": {
    "name": "ipython",
    "version": 3
   },
   "file_extension": ".py",
   "mimetype": "text/x-python",
   "name": "python",
   "nbconvert_exporter": "python",
   "pygments_lexer": "ipython3",
   "version": "3.9.16"
  },
  "orig_nbformat": 4
 },
 "nbformat": 4,
 "nbformat_minor": 2
}

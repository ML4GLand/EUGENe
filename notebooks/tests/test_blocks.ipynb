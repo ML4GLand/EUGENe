{
 "cells": [
  {
   "cell_type": "code",
   "execution_count": 157,
   "metadata": {},
   "outputs": [],
   "source": [
    "# Extensions\n",
    "if 'autoreload' not in get_ipython().extension_manager.loaded:\n",
    "    %load_ext autoreload\n",
    "%autoreload 2"
   ]
  },
  {
   "cell_type": "code",
   "execution_count": 1,
   "metadata": {},
   "outputs": [],
   "source": [
    "# Imports\n",
    "import torch\n",
    "import pandas as pd\n",
    "import numpy as np"
   ]
  },
  {
   "cell_type": "code",
   "execution_count": 2,
   "metadata": {},
   "outputs": [],
   "source": [
    "# Configuration\n",
    "ID = torch.Tensor([1, 2, 3, 4, 5, 6, 7, 8, 9, 10])\n",
    "x = torch.randn(10, 4, 100)\n",
    "x_rev_comp = torch.randn(10, 4, 100)\n",
    "y = torch.randint(0, 2, (10, 1))\n",
    "batch = (ID, x, x_rev_comp, y)"
   ]
  },
  {
   "cell_type": "code",
   "execution_count": 3,
   "metadata": {},
   "outputs": [],
   "source": [
    "# Helper functions\n",
    "def move_module_to_cpu(module):\n",
    "    module.to(\"cpu\")\n",
    "    for child in module.children():\n",
    "        move_module_to_cpu(child)"
   ]
  },
  {
   "cell_type": "markdown",
   "metadata": {},
   "source": [
    "# Blocks"
   ]
  },
  {
   "cell_type": "code",
   "execution_count": 4,
   "metadata": {},
   "outputs": [],
   "source": [
    "from eugene.models.base import _blocks as blocks"
   ]
  },
  {
   "cell_type": "markdown",
   "metadata": {},
   "source": [
    "## Conv1DBlock"
   ]
  },
  {
   "cell_type": "code",
   "execution_count": 14,
   "metadata": {},
   "outputs": [
    {
     "data": {
      "text/plain": [
       "(Conv1DBlock(\n",
       "   (layers): Sequential(\n",
       "     (conv): Conv1d(4, 32, kernel_size=(23,), stride=(1,), padding=same)\n",
       "     (norm): BatchNorm1d(32, eps=1e-05, momentum=0.1, affine=True, track_running_stats=True)\n",
       "     (act): ReLU()\n",
       "     (dropout): Dropout(p=0.5, inplace=False)\n",
       "     (pool): MaxPool1d(kernel_size=1, stride=1, padding=0, dilation=1, ceil_mode=False)\n",
       "   )\n",
       " ),\n",
       " torch.Size([10, 32, 100]))"
      ]
     },
     "execution_count": 14,
     "metadata": {},
     "output_type": "execute_result"
    }
   ],
   "source": [
    "conv1d_block = blocks.Conv1DBlock(\n",
    "    input_len=100,\n",
    "    input_channels=4,\n",
    "    output_channels=32,\n",
    "    conv_kernel=23,\n",
    "    conv_type=\"conv1d\",\n",
    "    conv_padding=\"same\",\n",
    "    pool_type=\"max\",\n",
    "    norm_type=\"batchnorm\",\n",
    "    dropout_rate=0.5,\n",
    "    order=\"conv-norm-act-dropout-pool\"\n",
    ")\n",
    "block_out = conv1d_block(x)\n",
    "conv1d_block, block_out.shape"
   ]
  },
  {
   "cell_type": "code",
   "execution_count": 15,
   "metadata": {},
   "outputs": [
    {
     "data": {
      "text/plain": [
       "(Conv1DBlock(\n",
       "   (layers): Sequential(\n",
       "     (conv): BiConv1D(4, 4, kernel_size=23, stride=1, padding=same, dilation=1, groups=1, bias=True)\n",
       "     (norm): BatchNorm1d(4, eps=1e-05, momentum=0.1, affine=True, track_running_stats=True)\n",
       "     (pool): MaxPool1d(kernel_size=2, stride=2, padding=0, dilation=1, ceil_mode=False)\n",
       "   )\n",
       " ),\n",
       " torch.Size([10, 4, 50]))"
      ]
     },
     "execution_count": 15,
     "metadata": {},
     "output_type": "execute_result"
    }
   ],
   "source": [
    "conv1d_block = blocks.Conv1DBlock(\n",
    "    input_len=100,\n",
    "    input_channels=4,\n",
    "    output_channels=4,\n",
    "    conv_kernel=23,\n",
    "    conv_type=\"biconv1d\",\n",
    "    conv_padding=\"same\",\n",
    "    pool_type=\"max\",\n",
    "    pool_kernel=2,\n",
    "    norm_type=\"batchnorm\",\n",
    "    dropout_rate=0.3,\n",
    "    order=\"conv-norm-pool\"\n",
    ")\n",
    "block_out = conv1d_block(x)\n",
    "conv1d_block, block_out.shape"
   ]
  },
  {
   "cell_type": "code",
   "execution_count": 16,
   "metadata": {},
   "outputs": [
    {
     "data": {
      "text/plain": [
       "(Conv1DBlock(\n",
       "   (layers): Sequential(\n",
       "     (conv): InceptionConv1D(\n",
       "       (conv1): Conv1d(4, 8, kernel_size=(1,), stride=(1,))\n",
       "       (conv2_1): Conv1d(4, 8, kernel_size=(1,), stride=(1,))\n",
       "       (conv2_2): Conv1d(8, 8, kernel_size=(3,), stride=(1,), padding=same)\n",
       "       (conv3_1): Conv1d(4, 8, kernel_size=(1,), stride=(1,))\n",
       "       (conv3_2): Conv1d(8, 8, kernel_size=(5,), stride=(1,), padding=same)\n",
       "       (maxpool): MaxPool1d(kernel_size=3, stride=1, padding=1, dilation=1, ceil_mode=False)\n",
       "       (conv_maxpool): Conv1d(4, 8, kernel_size=(1,), stride=(1,))\n",
       "     )\n",
       "     (norm): LayerNorm((32, 100), eps=1e-05, elementwise_affine=True)\n",
       "     (act): ReLU()\n",
       "     (dropout): Dropout(p=0.5, inplace=False)\n",
       "     (pool): AvgPool1d(kernel_size=(1,), stride=(1,), padding=(0,))\n",
       "   )\n",
       " ),\n",
       " torch.Size([10, 32, 100]))"
      ]
     },
     "execution_count": 16,
     "metadata": {},
     "output_type": "execute_result"
    }
   ],
   "source": [
    "conv1d_block = blocks.Conv1DBlock(\n",
    "    input_len=100,\n",
    "    input_channels=4,\n",
    "    output_channels=32,\n",
    "    conv_kernel=None,\n",
    "    conv_type=\"inceptionconv1d\",\n",
    "    conv_padding=\"same\",\n",
    "    pool_type=\"avg\",\n",
    "    norm_type=\"layernorm\",\n",
    "    norm_dim=(32, 100),\n",
    "    dropout_rate=0.5,\n",
    "    order=\"conv-norm-act-dropout-pool\"\n",
    ")\n",
    "block_out = conv1d_block(x)\n",
    "conv1d_block, block_out.shape"
   ]
  },
  {
   "cell_type": "code",
   "execution_count": 17,
   "metadata": {},
   "outputs": [
    {
     "data": {
      "text/plain": [
       "(Conv1DBlock(\n",
       "   (layers): Sequential(\n",
       "     (conv): Conv1d(4, 32, kernel_size=(23,), stride=(1,), padding=same)\n",
       "   )\n",
       " ),\n",
       " torch.Size([10, 32, 100]))"
      ]
     },
     "execution_count": 17,
     "metadata": {},
     "output_type": "execute_result"
    }
   ],
   "source": [
    "conv1d_block = blocks.Conv1DBlock(\n",
    "    input_len=100,\n",
    "    input_channels=4,\n",
    "    output_channels=32,\n",
    "    conv_kernel=23,\n",
    "    conv_type=\"conv1d\",\n",
    "    conv_padding=\"same\",\n",
    "    pool_type=\"max\",\n",
    "    norm_type=\"batchnorm\",\n",
    "    dropout_rate=0.5,\n",
    "    order=\"conv\"\n",
    ")\n",
    "block_out = conv1d_block(x)\n",
    "conv1d_block, block_out.shape"
   ]
  },
  {
   "cell_type": "code",
   "execution_count": 19,
   "metadata": {},
   "outputs": [
    {
     "data": {
      "text/plain": [
       "(Conv1DBlock(\n",
       "   (layers): Sequential(\n",
       "     (pool): MaxPool1d(kernel_size=1, stride=1, padding=0, dilation=1, ceil_mode=False)\n",
       "     (conv): Conv1d(4, 32, kernel_size=(23,), stride=(1,), padding=valid)\n",
       "   )\n",
       " ),\n",
       " torch.Size([10, 32, 78]))"
      ]
     },
     "execution_count": 19,
     "metadata": {},
     "output_type": "execute_result"
    }
   ],
   "source": [
    "conv1d_block = blocks.Conv1DBlock(\n",
    "    input_len=100,\n",
    "    input_channels=4,\n",
    "    output_channels=32,\n",
    "    conv_kernel=23,\n",
    "    conv_type=\"conv1d\",\n",
    "    conv_padding=\"valid\",\n",
    "    pool_type=\"max\",\n",
    "    norm_type=\"batchnorm\",\n",
    "    dropout_rate=0.5,\n",
    "    order=\"pool-conv\"\n",
    ")\n",
    "block_out = conv1d_block(x)\n",
    "conv1d_block, block_out.shape"
   ]
  },
  {
   "cell_type": "markdown",
   "metadata": {},
   "source": [
    "## DenseBlock"
   ]
  },
  {
   "cell_type": "code",
   "execution_count": 26,
   "metadata": {},
   "outputs": [
    {
     "data": {
      "text/plain": [
       "(DenseBlock(\n",
       "   (layers): Sequential(\n",
       "     (0): Linear(in_features=400, out_features=200, bias=False)\n",
       "     (1): BatchNorm1d(200, eps=1e-05, momentum=0.1, affine=True, track_running_stats=True)\n",
       "     (2): Exponential()\n",
       "     (3): Dropout(p=0.1, inplace=False)\n",
       "     (4): Linear(in_features=200, out_features=100, bias=False)\n",
       "     (5): BatchNorm1d(100, eps=1e-05, momentum=0.1, affine=True, track_running_stats=True)\n",
       "     (6): Exponential()\n",
       "     (7): Dropout(p=0.2, inplace=False)\n",
       "     (8): Linear(in_features=100, out_features=50, bias=False)\n",
       "     (9): BatchNorm1d(50, eps=1e-05, momentum=0.1, affine=True, track_running_stats=True)\n",
       "     (10): Exponential()\n",
       "     (11): Linear(in_features=50, out_features=10, bias=False)\n",
       "     (12): BatchNorm1d(10, eps=1e-05, momentum=0.1, affine=True, track_running_stats=True)\n",
       "     (13): Exponential()\n",
       "     (14): Linear(in_features=10, out_features=1, bias=False)\n",
       "   )\n",
       " ),\n",
       " torch.Size([10, 1]))"
      ]
     },
     "execution_count": 26,
     "metadata": {},
     "output_type": "execute_result"
    }
   ],
   "source": [
    "dense_block = blocks.DenseBlock(\n",
    "    input_dim=400, \n",
    "    output_dim=1, \n",
    "    hidden_dims=[200, 100, 50, 10],\n",
    "    activations=\"exponential\",\n",
    "    batchnorm=True,\n",
    "    batchnorm_first=True, \n",
    "    dropout_rates=[0.1, 0.2, None],\n",
    "    biases=False\n",
    ")\n",
    "block_out = dense_block(x.reshape(10, -1))\n",
    "dense_block, block_out.shape"
   ]
  },
  {
   "cell_type": "markdown",
   "metadata": {},
   "source": [
    "## ReccurentBlock"
   ]
  },
  {
   "cell_type": "code",
   "execution_count": 28,
   "metadata": {},
   "outputs": [
    {
     "data": {
      "text/plain": [
       "(RecurrentBlock(\n",
       "   (layers): LSTM(4, 10, num_layers=2, bias=False, batch_first=True, dropout=0.1, bidirectional=True)\n",
       " ),\n",
       " torch.Size([10, 100, 20]))"
      ]
     },
     "execution_count": 28,
     "metadata": {},
     "output_type": "execute_result"
    }
   ],
   "source": [
    "recurrent_block = blocks.RecurrentBlock(\n",
    "    input_dim=4,\n",
    "    hidden_dim=10,\n",
    "    num_layers=2,\n",
    "    unit_type=\"lstm\",\n",
    "    bidirectional=True,\n",
    "    dropout_rates=0.1,\n",
    "    bias=False,\n",
    "    batch_first=True\n",
    ")\n",
    "block_out = recurrent_block(x.transpose(1, 2))[0]\n",
    "recurrent_block, block_out.shape"
   ]
  },
  {
   "cell_type": "code",
   "execution_count": 29,
   "metadata": {},
   "outputs": [
    {
     "data": {
      "text/plain": [
       "(RecurrentBlock(\n",
       "   (layers): LSTM(4, 10, num_layers=2, bias=False, batch_first=True, dropout=0.1)\n",
       " ),\n",
       " torch.Size([10, 100, 10]))"
      ]
     },
     "execution_count": 29,
     "metadata": {},
     "output_type": "execute_result"
    }
   ],
   "source": [
    "recurrent_block = blocks.RecurrentBlock(\n",
    "    input_dim=4,\n",
    "    hidden_dim=10,\n",
    "    num_layers=2,\n",
    "    unit_type=\"lstm\",\n",
    "    bidirectional=False,\n",
    "    dropout_rates=0.1,\n",
    "    bias=False,\n",
    "    batch_first=True\n",
    ")\n",
    "block_out = recurrent_block(x.transpose(1, 2))[0]\n",
    "recurrent_block, block_out.shape"
   ]
  },
  {
   "cell_type": "code",
   "execution_count": 30,
   "metadata": {},
   "outputs": [
    {
     "data": {
      "text/plain": [
       "(RecurrentBlock(\n",
       "   (layers): RNN(4, 10, num_layers=2, bias=False, batch_first=True, dropout=0.1)\n",
       " ),\n",
       " torch.Size([10, 100, 10]))"
      ]
     },
     "execution_count": 30,
     "metadata": {},
     "output_type": "execute_result"
    }
   ],
   "source": [
    "recurrent_block = blocks.RecurrentBlock(\n",
    "    input_dim=4,\n",
    "    hidden_dim=10,\n",
    "    num_layers=2,\n",
    "    unit_type=\"rnn\",\n",
    "    bidirectional=False,\n",
    "    dropout_rates=0.1,\n",
    "    bias=False,\n",
    "    batch_first=True\n",
    ")\n",
    "block_out = recurrent_block(x.transpose(1, 2))[0]\n",
    "recurrent_block, block_out.shape"
   ]
  },
  {
   "cell_type": "code",
   "execution_count": 31,
   "metadata": {},
   "outputs": [
    {
     "data": {
      "text/plain": [
       "(RecurrentBlock(\n",
       "   (layers): GRU(4, 10, num_layers=2, bias=False, batch_first=True, dropout=0.1)\n",
       " ),\n",
       " torch.Size([10, 100, 10]))"
      ]
     },
     "execution_count": 31,
     "metadata": {},
     "output_type": "execute_result"
    }
   ],
   "source": [
    "recurrent_block = blocks.RecurrentBlock(\n",
    "    input_dim=4,\n",
    "    hidden_dim=10,\n",
    "    num_layers=2,\n",
    "    unit_type=\"gru\",\n",
    "    bidirectional=False,\n",
    "    dropout_rates=0.1,\n",
    "    bias=False,\n",
    "    batch_first=True\n",
    ")\n",
    "block_out = recurrent_block(x.transpose(1, 2))[0]\n",
    "recurrent_block, block_out.shape"
   ]
  },
  {
   "cell_type": "markdown",
   "metadata": {},
   "source": [
    "# DONE"
   ]
  },
  {
   "cell_type": "markdown",
   "metadata": {},
   "source": [
    "---"
   ]
  },
  {
   "cell_type": "markdown",
   "metadata": {},
   "source": [
    "# Scratch"
   ]
  }
 ],
 "metadata": {
  "kernelspec": {
   "display_name": "Python 3.9 ml4gland",
   "language": "python",
   "name": "ml4gland"
  },
  "language_info": {
   "codemirror_mode": {
    "name": "ipython",
    "version": 3
   },
   "file_extension": ".py",
   "mimetype": "text/x-python",
   "name": "python",
   "nbconvert_exporter": "python",
   "pygments_lexer": "ipython3",
   "version": "3.9.16"
  },
  "vscode": {
   "interpreter": {
    "hash": "7782186cff5d7e5d5e3fe0a7e6ebf1d74655b3470c460e9b06cf809b4e9601e8"
   }
  }
 },
 "nbformat": 4,
 "nbformat_minor": 4
}

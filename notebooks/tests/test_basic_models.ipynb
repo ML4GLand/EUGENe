{
 "cells": [
  {
   "cell_type": "code",
   "execution_count": 157,
   "metadata": {},
   "outputs": [],
   "source": [
    "# Extensions\n",
    "if 'autoreload' not in get_ipython().extension_manager.loaded:\n",
    "    %load_ext autoreload\n",
    "%autoreload 2"
   ]
  },
  {
   "cell_type": "code",
   "execution_count": 1,
   "metadata": {},
   "outputs": [],
   "source": [
    "# Imports\n",
    "import torch\n",
    "import pandas as pd\n",
    "import numpy as np"
   ]
  },
  {
   "cell_type": "code",
   "execution_count": 2,
   "metadata": {},
   "outputs": [],
   "source": [
    "# Configuration\n",
    "ID = torch.Tensor([1, 2, 3, 4, 5, 6, 7, 8, 9, 10])\n",
    "x = torch.randn(10, 4, 100)\n",
    "x_rev_comp = torch.randn(10, 4, 100)\n",
    "y = torch.randint(0, 2, (10, 1))\n",
    "batch = (ID, x, x_rev_comp, y)"
   ]
  },
  {
   "cell_type": "code",
   "execution_count": 3,
   "metadata": {},
   "outputs": [],
   "source": [
    "# Helper functions\n",
    "def move_module_to_cpu(module):\n",
    "    module.to(\"cpu\")\n",
    "    for child in module.children():\n",
    "        move_module_to_cpu(child)"
   ]
  },
  {
   "attachments": {},
   "cell_type": "markdown",
   "metadata": {},
   "source": [
    "# Basic models"
   ]
  },
  {
   "attachments": {},
   "cell_type": "markdown",
   "metadata": {},
   "source": [
    "## FCN"
   ]
  },
  {
   "cell_type": "code",
   "execution_count": 25,
   "metadata": {},
   "outputs": [],
   "source": [
    "from eugene.models.zoo import FCN"
   ]
  },
  {
   "cell_type": "code",
   "execution_count": 33,
   "metadata": {},
   "outputs": [
    {
     "data": {
      "text/plain": [
       "(FCN(\n",
       "   (dense_block): DenseBlock(\n",
       "     (layers): Sequential(\n",
       "       (0): Linear(in_features=400, out_features=50, bias=True)\n",
       "       (1): ReLU()\n",
       "       (2): BatchNorm1d(50, eps=1e-05, momentum=0.1, affine=True, track_running_stats=True)\n",
       "       (3): Linear(in_features=50, out_features=25, bias=True)\n",
       "       (4): ReLU()\n",
       "       (5): BatchNorm1d(25, eps=1e-05, momentum=0.1, affine=True, track_running_stats=True)\n",
       "       (6): Linear(in_features=25, out_features=10, bias=True)\n",
       "     )\n",
       "   )\n",
       " ),\n",
       " torch.Size([10, 10]))"
      ]
     },
     "execution_count": 33,
     "metadata": {},
     "output_type": "execute_result"
    }
   ],
   "source": [
    "model = FCN(\n",
    "    input_len=100,\n",
    "    output_dim=10,\n",
    "    dense_kwargs={\n",
    "        \"hidden_dims\": [50, 25],\n",
    "        \"activations\": \"relu\",\n",
    "        \"batchnorm\": True,\n",
    "    }\n",
    ")\n",
    "model_out = model(x)\n",
    "model, model_out.shape"
   ]
  },
  {
   "cell_type": "code",
   "execution_count": 35,
   "metadata": {},
   "outputs": [
    {
     "data": {
      "text/plain": [
       "(FCN(\n",
       "   (dense_block): DenseBlock(\n",
       "     (layers): Sequential(\n",
       "       (0): Linear(in_features=400, out_features=100, bias=False)\n",
       "       (1): BatchNorm1d(100, eps=1e-05, momentum=0.1, affine=True, track_running_stats=True)\n",
       "       (2): ReLU()\n",
       "       (3): Linear(in_features=100, out_features=50, bias=False)\n",
       "       (4): BatchNorm1d(50, eps=1e-05, momentum=0.1, affine=True, track_running_stats=True)\n",
       "       (5): Linear(in_features=50, out_features=25, bias=False)\n",
       "       (6): BatchNorm1d(25, eps=1e-05, momentum=0.1, affine=True, track_running_stats=True)\n",
       "       (7): Linear(in_features=25, out_features=1, bias=False)\n",
       "     )\n",
       "   )\n",
       " ),\n",
       " torch.Size([10, 1]))"
      ]
     },
     "execution_count": 35,
     "metadata": {},
     "output_type": "execute_result"
    }
   ],
   "source": [
    "model = FCN(\n",
    "    input_len=100,\n",
    "    output_dim=1,\n",
    "    dense_kwargs={\n",
    "        \"hidden_dims\": [100, 50, 25],\n",
    "        \"activations\": [\"relu\", None, None],\n",
    "        \"batchnorm\": True,\n",
    "        \"batchnorm_first\": True,\n",
    "        \"biases\": False\n",
    "    }\n",
    ")\n",
    "model_out = model(x)\n",
    "model, model_out.shape"
   ]
  },
  {
   "cell_type": "code",
   "execution_count": 39,
   "metadata": {},
   "outputs": [
    {
     "data": {
      "text/plain": [
       "(FCN(\n",
       "   (dense_block): DenseBlock(\n",
       "     (layers): Sequential(\n",
       "       (0): Linear(in_features=400, out_features=100, bias=False)\n",
       "       (1): BatchNorm1d(100, eps=1e-05, momentum=0.1, affine=True, track_running_stats=True)\n",
       "       (2): ReLU()\n",
       "       (3): Dropout(p=0.1, inplace=False)\n",
       "       (4): Linear(in_features=100, out_features=50, bias=False)\n",
       "       (5): BatchNorm1d(50, eps=1e-05, momentum=0.1, affine=True, track_running_stats=True)\n",
       "       (6): Dropout(p=0.5, inplace=False)\n",
       "       (7): Linear(in_features=50, out_features=25, bias=False)\n",
       "       (8): BatchNorm1d(25, eps=1e-05, momentum=0.1, affine=True, track_running_stats=True)\n",
       "       (9): Linear(in_features=25, out_features=1, bias=False)\n",
       "     )\n",
       "   )\n",
       " ),\n",
       " torch.Size([10, 1]))"
      ]
     },
     "execution_count": 39,
     "metadata": {},
     "output_type": "execute_result"
    }
   ],
   "source": [
    "model = FCN(\n",
    "    input_len=100,\n",
    "    output_dim=1,\n",
    "    dense_kwargs=dict(hidden_dims=[100, 50, 25], activations=[\"relu\", None, None], dropout_rates=[0.1, 0.5], batchnorm=True, batchnorm_first=True, biases=False),\n",
    ")\n",
    "model_out = model(x)\n",
    "model, model_out.shape"
   ]
  },
  {
   "cell_type": "code",
   "execution_count": 38,
   "metadata": {},
   "outputs": [
    {
     "data": {
      "text/plain": [
       "(FCN(\n",
       "   (dense_block): DenseBlock(\n",
       "     (layers): Sequential(\n",
       "       (0): Linear(in_features=400, out_features=100, bias=False)\n",
       "       (1): BatchNorm1d(100, eps=1e-05, momentum=0.1, affine=True, track_running_stats=True)\n",
       "       (2): ReLU()\n",
       "       (3): Dropout(p=0.1, inplace=False)\n",
       "       (4): Linear(in_features=100, out_features=50, bias=False)\n",
       "       (5): BatchNorm1d(50, eps=1e-05, momentum=0.1, affine=True, track_running_stats=True)\n",
       "       (6): Dropout(p=0.1, inplace=False)\n",
       "       (7): Linear(in_features=50, out_features=25, bias=False)\n",
       "       (8): BatchNorm1d(25, eps=1e-05, momentum=0.1, affine=True, track_running_stats=True)\n",
       "       (9): Dropout(p=0.1, inplace=False)\n",
       "       (10): Linear(in_features=25, out_features=1, bias=False)\n",
       "     )\n",
       "   )\n",
       " ),\n",
       " torch.Size([10, 1]))"
      ]
     },
     "execution_count": 38,
     "metadata": {},
     "output_type": "execute_result"
    }
   ],
   "source": [
    "model = FCN(\n",
    "    input_len=100,\n",
    "    output_dim=1,\n",
    "    dense_kwargs=dict(hidden_dims=[100, 50, 25], activations=[\"relu\", None, None], dropout_rates=0.1, batchnorm=True, batchnorm_first=True, biases=False),\n",
    ")\n",
    "model_out = model(x)\n",
    "model, model_out.shape"
   ]
  },
  {
   "attachments": {},
   "cell_type": "markdown",
   "metadata": {},
   "source": [
    "## CNN"
   ]
  },
  {
   "cell_type": "code",
   "execution_count": 40,
   "metadata": {},
   "outputs": [],
   "source": [
    "from eugene.models.zoo import CNN"
   ]
  },
  {
   "cell_type": "code",
   "execution_count": 44,
   "metadata": {},
   "outputs": [
    {
     "data": {
      "text/plain": [
       "(CNN(\n",
       "   (conv1d_tower): Conv1DTower(\n",
       "     (layers): Sequential(\n",
       "       (0): Conv1d(4, 10, kernel_size=(5,), stride=(1,), padding=valid)\n",
       "       (1): Conv1d(10, 10, kernel_size=(3,), stride=(1,), padding=valid)\n",
       "     )\n",
       "   )\n",
       "   (dense_block): DenseBlock(\n",
       "     (layers): Sequential(\n",
       "       (0): Linear(in_features=940, out_features=10, bias=True)\n",
       "     )\n",
       "   )\n",
       " ),\n",
       " torch.Size([10, 10]))"
      ]
     },
     "execution_count": 44,
     "metadata": {},
     "output_type": "execute_result"
    }
   ],
   "source": [
    "model = CNN(\n",
    "    input_len=100,\n",
    "    output_dim=10,\n",
    "    conv_kwargs={\n",
    "        \"input_channels\": 4,\n",
    "        \"conv_channels\": [10, 10],\n",
    "        \"conv_kernels\": [5, 3],\n",
    "        \"activations\": [],\n",
    "        \"pool_types\": []\n",
    "    }\n",
    ")\n",
    "model_out = model(x)\n",
    "model, model_out.shape"
   ]
  },
  {
   "cell_type": "code",
   "execution_count": 51,
   "metadata": {},
   "outputs": [
    {
     "data": {
      "text/plain": [
       "(CNN(\n",
       "   (conv1d_tower): Conv1DTower(\n",
       "     (layers): Sequential(\n",
       "       (0): Conv1d(4, 10, kernel_size=(5,), stride=(1,), padding=valid)\n",
       "       (1): Sigmoid()\n",
       "       (2): AvgPool1d(kernel_size=1, stride=1, padding=(0,))\n",
       "       (3): Conv1d(10, 10, kernel_size=(3,), stride=(1,), padding=valid)\n",
       "       (4): ReLU()\n",
       "       (5): MaxPool1d(kernel_size=1, stride=1, padding=0, dilation=1, ceil_mode=False)\n",
       "     )\n",
       "   )\n",
       "   (dense_block): DenseBlock(\n",
       "     (layers): Sequential(\n",
       "       (0): Linear(in_features=940, out_features=50, bias=True)\n",
       "       (1): ReLU()\n",
       "       (2): BatchNorm1d(50, eps=1e-05, momentum=0.1, affine=True, track_running_stats=True)\n",
       "       (3): Linear(in_features=50, out_features=25, bias=True)\n",
       "       (4): ReLU()\n",
       "       (5): BatchNorm1d(25, eps=1e-05, momentum=0.1, affine=True, track_running_stats=True)\n",
       "       (6): Linear(in_features=25, out_features=10, bias=True)\n",
       "     )\n",
       "   )\n",
       " ),\n",
       " torch.Size([10, 10]))"
      ]
     },
     "execution_count": 51,
     "metadata": {},
     "output_type": "execute_result"
    }
   ],
   "source": [
    "model = CNN(\n",
    "    input_len=100,\n",
    "    output_dim=10,\n",
    "    conv_kwargs={\n",
    "        \"input_channels\": 4,\n",
    "        \"conv_channels\": [10, 10],\n",
    "        \"conv_kernels\": [5, 3],\n",
    "        \"activations\": [\"sigmoid\", \"relu\"],\n",
    "        \"pool_types\": [\"avg\", \"max\"]\n",
    "    },\n",
    "    dense_kwargs={\n",
    "        \"hidden_dims\": [50, 25],\n",
    "        \"activations\": \"relu\",\n",
    "        \"batchnorm\": True,\n",
    "    }\n",
    ")\n",
    "model_out = model(x)\n",
    "model, model_out.shape"
   ]
  },
  {
   "cell_type": "code",
   "execution_count": 54,
   "metadata": {},
   "outputs": [
    {
     "data": {
      "text/plain": [
       "(CNN(\n",
       "   (conv1d_tower): Conv1DTower(\n",
       "     (layers): Sequential(\n",
       "       (0): Conv1d(4, 10, kernel_size=(5,), stride=(1,), padding=valid)\n",
       "       (1): ReLU()\n",
       "       (2): AvgPool1d(kernel_size=1, stride=1, padding=(0,))\n",
       "       (3): Conv1d(10, 10, kernel_size=(3,), stride=(1,), padding=valid)\n",
       "       (4): ReLU()\n",
       "       (5): MaxPool1d(kernel_size=1, stride=1, padding=0, dilation=1, ceil_mode=False)\n",
       "     )\n",
       "   )\n",
       "   (dense_block): DenseBlock(\n",
       "     (layers): Sequential(\n",
       "       (0): Linear(in_features=940, out_features=50, bias=True)\n",
       "       (1): ReLU()\n",
       "       (2): Dropout(p=0.1, inplace=False)\n",
       "       (3): BatchNorm1d(50, eps=1e-05, momentum=0.1, affine=True, track_running_stats=True)\n",
       "       (4): Linear(in_features=50, out_features=25, bias=True)\n",
       "       (5): ReLU()\n",
       "       (6): Dropout(p=0.1, inplace=False)\n",
       "       (7): BatchNorm1d(25, eps=1e-05, momentum=0.1, affine=True, track_running_stats=True)\n",
       "       (8): Linear(in_features=25, out_features=10, bias=True)\n",
       "     )\n",
       "   )\n",
       " ),\n",
       " torch.Size([10, 10]))"
      ]
     },
     "execution_count": 54,
     "metadata": {},
     "output_type": "execute_result"
    }
   ],
   "source": [
    "model = CNN(\n",
    "    input_len=100,\n",
    "    output_dim=10,\n",
    "    conv_kwargs=dict(input_channels=4, conv_channels=[10, 10], conv_kernels=[5, 3], activations=[\"relu\", \"relu\"], pool_types=[\"avg\", \"max\"]),\n",
    "    dense_kwargs=dict(hidden_dims=[50, 25], activations=\"relu\", batchnorm=True, dropout_rates=0.1),\n",
    ")\n",
    "model_out = model(x)\n",
    "model, model_out.shape"
   ]
  },
  {
   "attachments": {},
   "cell_type": "markdown",
   "metadata": {},
   "source": [
    "## RNN"
   ]
  },
  {
   "cell_type": "code",
   "execution_count": 55,
   "metadata": {},
   "outputs": [],
   "source": [
    "from eugene.models.zoo import RNN"
   ]
  },
  {
   "cell_type": "code",
   "execution_count": 57,
   "metadata": {},
   "outputs": [
    {
     "data": {
      "text/plain": [
       "(RNN(\n",
       "   (recurrent_block): RecurrentBlock(\n",
       "     (layers): LSTM(4, 10, num_layers=2, batch_first=True, bidirectional=True)\n",
       "   )\n",
       "   (dense_block): DenseBlock(\n",
       "     (layers): Sequential(\n",
       "       (0): Linear(in_features=20, out_features=10, bias=True)\n",
       "     )\n",
       "   )\n",
       " ),\n",
       " torch.Size([10, 10]))"
      ]
     },
     "execution_count": 57,
     "metadata": {},
     "output_type": "execute_result"
    }
   ],
   "source": [
    "model = RNN(\n",
    "    input_len=100,\n",
    "    output_dim=10,\n",
    "    recurrent_kwargs={\n",
    "        \"hidden_dim\": 10,\n",
    "        \"num_layers\": 2,\n",
    "        \"bidirectional\": True\n",
    "    }\n",
    ")\n",
    "model_out = model(x.reshape(10, 100, 4))\n",
    "model, model_out.shape"
   ]
  },
  {
   "cell_type": "code",
   "execution_count": 62,
   "metadata": {},
   "outputs": [
    {
     "data": {
      "text/plain": [
       "(RNN(\n",
       "   (recurrent_block): RecurrentBlock(\n",
       "     (layers): LSTM(4, 10, num_layers=2, batch_first=True, dropout=0.1, bidirectional=True)\n",
       "   )\n",
       "   (dense_block): DenseBlock(\n",
       "     (layers): Sequential(\n",
       "       (0): Linear(in_features=20, out_features=10, bias=True)\n",
       "     )\n",
       "   )\n",
       " ),\n",
       " torch.Size([10, 10]))"
      ]
     },
     "execution_count": 62,
     "metadata": {},
     "output_type": "execute_result"
    }
   ],
   "source": [
    "model = RNN(\n",
    "    input_len=100,\n",
    "    output_dim=10,\n",
    "    recurrent_kwargs=dict(hidden_dim=10, num_layers=2, dropout_rates=0.1, bidirectional=True, unit_type=\"lstm\"),\n",
    ")\n",
    "model_out = model(x.reshape(10, 100, 4))\n",
    "model, model_out.shape"
   ]
  },
  {
   "cell_type": "code",
   "execution_count": 63,
   "metadata": {},
   "outputs": [
    {
     "data": {
      "text/plain": [
       "(RNN(\n",
       "   (recurrent_block): RecurrentBlock(\n",
       "     (layers): RNN(4, 10, num_layers=2, batch_first=True, dropout=0.1)\n",
       "   )\n",
       "   (dense_block): DenseBlock(\n",
       "     (layers): Sequential(\n",
       "       (0): Linear(in_features=10, out_features=10, bias=True)\n",
       "     )\n",
       "   )\n",
       " ),\n",
       " torch.Size([10, 10]))"
      ]
     },
     "execution_count": 63,
     "metadata": {},
     "output_type": "execute_result"
    }
   ],
   "source": [
    "model = RNN(\n",
    "    input_len=100,\n",
    "    output_dim=10,\n",
    "    recurrent_kwargs=dict(hidden_dim=10, num_layers=2, dropout_rates=0.1, bidirectional=False, unit_type=\"rnn\"),\n",
    ")\n",
    "model_out = model(x.reshape(10, 100, 4))\n",
    "model, model_out.shape"
   ]
  },
  {
   "cell_type": "code",
   "execution_count": 64,
   "metadata": {},
   "outputs": [
    {
     "data": {
      "text/plain": [
       "(RNN(\n",
       "   (recurrent_block): RecurrentBlock(\n",
       "     (layers): GRU(4, 128, num_layers=2, batch_first=True, dropout=0.3)\n",
       "   )\n",
       "   (dense_block): DenseBlock(\n",
       "     (layers): Sequential(\n",
       "       (0): Linear(in_features=128, out_features=10, bias=True)\n",
       "     )\n",
       "   )\n",
       " ),\n",
       " torch.Size([10, 10]))"
      ]
     },
     "execution_count": 64,
     "metadata": {},
     "output_type": "execute_result"
    }
   ],
   "source": [
    "model = RNN(\n",
    "    input_len=100,\n",
    "    output_dim=10,\n",
    "    recurrent_kwargs=dict(hidden_dim=128, num_layers=2, dropout_rates=0.3, bidirectional=False, unit_type=\"gru\"),\n",
    ")\n",
    "model_out = model(x.reshape(10, 100, 4))\n",
    "model, model_out.shape"
   ]
  },
  {
   "attachments": {},
   "cell_type": "markdown",
   "metadata": {},
   "source": [
    "## Hybrid"
   ]
  },
  {
   "cell_type": "code",
   "execution_count": 65,
   "metadata": {},
   "outputs": [],
   "source": [
    "from eugene.models.zoo import Hybrid"
   ]
  },
  {
   "cell_type": "code",
   "execution_count": 67,
   "metadata": {},
   "outputs": [
    {
     "data": {
      "text/plain": [
       "(Hybrid(\n",
       "   (conv1d_tower): Conv1DTower(\n",
       "     (layers): Sequential(\n",
       "       (0): Conv1d(4, 10, kernel_size=(5,), stride=(1,), padding=valid)\n",
       "       (1): ReLU()\n",
       "       (2): MaxPool1d(kernel_size=1, stride=1, padding=0, dilation=1, ceil_mode=False)\n",
       "       (3): Conv1d(10, 10, kernel_size=(3,), stride=(1,), padding=valid)\n",
       "       (4): ReLU()\n",
       "       (5): MaxPool1d(kernel_size=1, stride=1, padding=0, dilation=1, ceil_mode=False)\n",
       "     )\n",
       "   )\n",
       "   (recurrent_block): RecurrentBlock(\n",
       "     (layers): LSTM(10, 10, num_layers=10, batch_first=True, bidirectional=True)\n",
       "   )\n",
       "   (dense_block): DenseBlock(\n",
       "     (layers): Sequential(\n",
       "       (0): Linear(in_features=20, out_features=10, bias=True)\n",
       "     )\n",
       "   )\n",
       " ),\n",
       " torch.Size([10, 10]))"
      ]
     },
     "execution_count": 67,
     "metadata": {},
     "output_type": "execute_result"
    }
   ],
   "source": [
    "model = Hybrid(\n",
    "    input_len=100,\n",
    "    output_dim=10,\n",
    "    conv_kwargs={\n",
    "        \"input_channels\": 4,\n",
    "        \"conv_channels\": [10, 10],\n",
    "        \"conv_kernels\": [5, 3],\n",
    "        \"activations\": \"relu\",\n",
    "        \"pool_types\": \"max\"\n",
    "    },\n",
    "    recurrent_kwargs={\n",
    "        \"hidden_dim\": 10,\n",
    "        \"num_layers\": 10,\n",
    "        \"bidirectional\": True\n",
    "    }\n",
    ")\n",
    "model_out = model(x)\n",
    "model, model_out.shape"
   ]
  },
  {
   "cell_type": "code",
   "execution_count": 68,
   "metadata": {},
   "outputs": [
    {
     "data": {
      "text/plain": [
       "(Hybrid(\n",
       "   (conv1d_tower): Conv1DTower(\n",
       "     (layers): Sequential(\n",
       "       (0): Conv1d(4, 10, kernel_size=(5,), stride=(1,), padding=valid)\n",
       "       (1): ReLU()\n",
       "       (2): MaxPool1d(kernel_size=1, stride=1, padding=0, dilation=1, ceil_mode=False)\n",
       "       (3): Conv1d(10, 10, kernel_size=(3,), stride=(1,), padding=valid)\n",
       "       (4): ReLU()\n",
       "       (5): MaxPool1d(kernel_size=1, stride=1, padding=0, dilation=1, ceil_mode=False)\n",
       "     )\n",
       "   )\n",
       "   (recurrent_block): RecurrentBlock(\n",
       "     (layers): LSTM(10, 10, num_layers=10, batch_first=True, dropout=0.1, bidirectional=True)\n",
       "   )\n",
       "   (dense_block): DenseBlock(\n",
       "     (layers): Sequential(\n",
       "       (0): Linear(in_features=20, out_features=50, bias=True)\n",
       "       (1): ReLU()\n",
       "       (2): Dropout(p=0.1, inplace=False)\n",
       "       (3): BatchNorm1d(50, eps=1e-05, momentum=0.1, affine=True, track_running_stats=True)\n",
       "       (4): Linear(in_features=50, out_features=25, bias=True)\n",
       "       (5): ReLU()\n",
       "       (6): Dropout(p=0.1, inplace=False)\n",
       "       (7): BatchNorm1d(25, eps=1e-05, momentum=0.1, affine=True, track_running_stats=True)\n",
       "       (8): Linear(in_features=25, out_features=10, bias=True)\n",
       "     )\n",
       "   )\n",
       " ),\n",
       " torch.Size([10, 10]))"
      ]
     },
     "execution_count": 68,
     "metadata": {},
     "output_type": "execute_result"
    }
   ],
   "source": [
    "model = Hybrid(\n",
    "    input_len=100,\n",
    "    output_dim=10,\n",
    "    conv_kwargs=dict(input_channels=4, conv_channels=[10, 10], conv_kernels=[5, 3], activations=\"relu\", pool_types=\"max\"),\n",
    "    recurrent_kwargs=dict(hidden_dim=10, num_layers=10, dropout_rates=0.1, bidirectional=True, unit_type=\"lstm\"),\n",
    "    dense_kwargs=dict(hidden_dims=[50, 25], activations=\"relu\", batchnorm=True, dropout_rates=0.1),\n",
    ")\n",
    "model_out = model(x)\n",
    "model, model_out.shape"
   ]
  },
  {
   "attachments": {},
   "cell_type": "markdown",
   "metadata": {},
   "source": [
    "## TutorialCNN"
   ]
  },
  {
   "cell_type": "code",
   "execution_count": 4,
   "metadata": {},
   "outputs": [],
   "source": [
    "from eugene.models.zoo import TutorialCNN"
   ]
  },
  {
   "cell_type": "code",
   "execution_count": 6,
   "metadata": {},
   "outputs": [
    {
     "data": {
      "text/plain": [
       "(TutorialCNN(\n",
       "   (conv1): Conv1d(4, 30, kernel_size=(21,), stride=(1,))\n",
       "   (dense): Linear(in_features=30, out_features=10, bias=True)\n",
       " ),\n",
       " torch.Size([10, 10]))"
      ]
     },
     "execution_count": 6,
     "metadata": {},
     "output_type": "execute_result"
    }
   ],
   "source": [
    "model = TutorialCNN(\n",
    "    input_len=100,\n",
    "    output_dim=10\n",
    ")\n",
    "model_out = model(x)\n",
    "model, model_out.shape"
   ]
  },
  {
   "attachments": {},
   "cell_type": "markdown",
   "metadata": {},
   "source": [
    "# DONE"
   ]
  },
  {
   "attachments": {},
   "cell_type": "markdown",
   "metadata": {},
   "source": [
    "---"
   ]
  },
  {
   "attachments": {},
   "cell_type": "markdown",
   "metadata": {},
   "source": [
    "# Scratch"
   ]
  }
 ],
 "metadata": {
  "kernelspec": {
   "display_name": "Python 3.9 ml4gland",
   "language": "python",
   "name": "ml4gland"
  },
  "orig_nbformat": 4,
  "vscode": {
   "interpreter": {
    "hash": "7782186cff5d7e5d5e3fe0a7e6ebf1d74655b3470c460e9b06cf809b4e9601e8"
   }
  }
 },
 "nbformat": 4,
 "nbformat_minor": 2
}

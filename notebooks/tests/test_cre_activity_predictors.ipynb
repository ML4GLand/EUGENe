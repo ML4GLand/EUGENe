{
 "cells": [
  {
   "cell_type": "code",
   "execution_count": 157,
   "metadata": {},
   "outputs": [],
   "source": [
    "# Extensions\n",
    "if 'autoreload' not in get_ipython().extension_manager.loaded:\n",
    "    %load_ext autoreload\n",
    "%autoreload 2"
   ]
  },
  {
   "cell_type": "code",
   "execution_count": 1,
   "metadata": {},
   "outputs": [],
   "source": [
    "# Imports\n",
    "import torch\n",
    "import pandas as pd\n",
    "import numpy as np"
   ]
  },
  {
   "cell_type": "code",
   "execution_count": 10,
   "metadata": {},
   "outputs": [],
   "source": [
    "# Configuration\n",
    "ID = torch.Tensor([1, 2, 3, 4, 5, 6, 7, 8, 9, 10])\n",
    "x = torch.randn(10, 4, 100)\n",
    "x_rev_comp = torch.randn(10, 4, 100)\n",
    "y = torch.randint(0, 2, (10, 1))\n",
    "batch = (ID, x, x_rev_comp, y)"
   ]
  },
  {
   "cell_type": "code",
   "execution_count": 3,
   "metadata": {},
   "outputs": [],
   "source": [
    "# Helper functions\n",
    "def move_module_to_cpu(module):\n",
    "    module.to(\"cpu\")\n",
    "    for child in module.children():\n",
    "        move_module_to_cpu(child)"
   ]
  },
  {
   "attachments": {},
   "cell_type": "markdown",
   "metadata": {},
   "source": [
    "# CRE activity predictors"
   ]
  },
  {
   "attachments": {},
   "cell_type": "markdown",
   "metadata": {},
   "source": [
    "## Jores21CNN"
   ]
  },
  {
   "cell_type": "code",
   "execution_count": 8,
   "metadata": {},
   "outputs": [],
   "source": [
    "from eugene.models.zoo import Jores21CNN"
   ]
  },
  {
   "cell_type": "code",
   "execution_count": 11,
   "metadata": {},
   "outputs": [
    {
     "data": {
      "text/plain": [
       "(Jores21CNN(\n",
       "   (biconv): BiConv1DTower(\n",
       "     (kernels): ParameterList(\n",
       "         (0): Parameter containing: [torch.float32 of size 128x4x13]\n",
       "         (1): Parameter containing: [torch.float32 of size 128x128x13]\n",
       "     )\n",
       "     (biases): ParameterList(\n",
       "         (0): Parameter containing: [torch.float32 of size 128]\n",
       "         (1): Parameter containing: [torch.float32 of size 128]\n",
       "     )\n",
       "   )\n",
       "   (conv): Conv1d(128, 128, kernel_size=(13,), stride=(1,), padding=same)\n",
       "   (dropout): Dropout(p=0.15, inplace=False)\n",
       "   (fc): Linear(in_features=12800, out_features=64, bias=True)\n",
       "   (batchnorm): BatchNorm1d(64, eps=1e-05, momentum=0.1, affine=True, track_running_stats=True)\n",
       "   (fc2): Linear(in_features=64, out_features=1, bias=True)\n",
       " ),\n",
       " torch.Size([10, 1]))"
      ]
     },
     "execution_count": 11,
     "metadata": {},
     "output_type": "execute_result"
    }
   ],
   "source": [
    "model = Jores21CNN(\n",
    "    input_len=100,\n",
    "    output_dim=1,\n",
    ")\n",
    "model_out = model(x)\n",
    "model, model_out.shape"
   ]
  },
  {
   "attachments": {},
   "cell_type": "markdown",
   "metadata": {},
   "source": [
    "## DeepSTARR"
   ]
  },
  {
   "cell_type": "code",
   "execution_count": 12,
   "metadata": {},
   "outputs": [],
   "source": [
    "from eugene.models.zoo import DeepSTARR"
   ]
  },
  {
   "cell_type": "code",
   "execution_count": 13,
   "metadata": {},
   "outputs": [
    {
     "data": {
      "text/plain": [
       "(DeepSTARR(\n",
       "   (conv1d_tower): Conv1DTower(\n",
       "     (layers): Sequential(\n",
       "       (0): Conv1d(4, 246, kernel_size=(7,), stride=(1,), padding=same)\n",
       "       (1): BatchNorm1d(246, eps=1e-05, momentum=0.1, affine=True, track_running_stats=True)\n",
       "       (2): ReLU()\n",
       "       (3): MaxPool1d(kernel_size=2, stride=1, padding=0, dilation=1, ceil_mode=False)\n",
       "       (4): Conv1d(246, 60, kernel_size=(3,), stride=(1,), padding=same)\n",
       "       (5): BatchNorm1d(60, eps=1e-05, momentum=0.1, affine=True, track_running_stats=True)\n",
       "       (6): ReLU()\n",
       "       (7): MaxPool1d(kernel_size=2, stride=1, padding=0, dilation=1, ceil_mode=False)\n",
       "       (8): Conv1d(60, 60, kernel_size=(5,), stride=(1,), padding=same)\n",
       "       (9): BatchNorm1d(60, eps=1e-05, momentum=0.1, affine=True, track_running_stats=True)\n",
       "       (10): ReLU()\n",
       "       (11): MaxPool1d(kernel_size=2, stride=1, padding=0, dilation=1, ceil_mode=False)\n",
       "       (12): Conv1d(60, 120, kernel_size=(3,), stride=(1,), padding=same)\n",
       "       (13): BatchNorm1d(120, eps=1e-05, momentum=0.1, affine=True, track_running_stats=True)\n",
       "       (14): ReLU()\n",
       "       (15): MaxPool1d(kernel_size=2, stride=1, padding=0, dilation=1, ceil_mode=False)\n",
       "     )\n",
       "   )\n",
       "   (dense_block): DenseBlock(\n",
       "     (layers): Sequential(\n",
       "       (0): Linear(in_features=11520, out_features=256, bias=True)\n",
       "       (1): BatchNorm1d(256, eps=1e-05, momentum=0.1, affine=True, track_running_stats=True)\n",
       "       (2): ReLU()\n",
       "       (3): Dropout(p=0.4, inplace=False)\n",
       "       (4): Linear(in_features=256, out_features=256, bias=True)\n",
       "       (5): BatchNorm1d(256, eps=1e-05, momentum=0.1, affine=True, track_running_stats=True)\n",
       "       (6): ReLU()\n",
       "       (7): Dropout(p=0.4, inplace=False)\n",
       "       (8): Linear(in_features=256, out_features=1, bias=True)\n",
       "     )\n",
       "   )\n",
       " ),\n",
       " torch.Size([10, 1]))"
      ]
     },
     "execution_count": 13,
     "metadata": {},
     "output_type": "execute_result"
    }
   ],
   "source": [
    "model = DeepSTARR(\n",
    "    input_len=100,\n",
    "    output_dim=1\n",
    ")\n",
    "model_out = model(x)\n",
    "model, model_out.shape"
   ]
  },
  {
   "attachments": {},
   "cell_type": "markdown",
   "metadata": {},
   "source": [
    "# DONE"
   ]
  },
  {
   "attachments": {},
   "cell_type": "markdown",
   "metadata": {},
   "source": [
    "---"
   ]
  },
  {
   "attachments": {},
   "cell_type": "markdown",
   "metadata": {},
   "source": [
    "# Scratch"
   ]
  }
 ],
 "metadata": {
  "kernelspec": {
   "display_name": "Python 3.9 ml4gland",
   "language": "python",
   "name": "ml4gland"
  },
  "language_info": {
   "codemirror_mode": {
    "name": "ipython",
    "version": 3
   },
   "file_extension": ".py",
   "mimetype": "text/x-python",
   "name": "python",
   "nbconvert_exporter": "python",
   "pygments_lexer": "ipython3",
   "version": "3.9.16"
  },
  "orig_nbformat": 4,
  "vscode": {
   "interpreter": {
    "hash": "7782186cff5d7e5d5e3fe0a7e6ebf1d74655b3470c460e9b06cf809b4e9601e8"
   }
  }
 },
 "nbformat": 4,
 "nbformat_minor": 2
}

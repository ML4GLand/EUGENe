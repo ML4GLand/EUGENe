{
 "cells": [
  {
   "cell_type": "code",
   "execution_count": 1,
   "id": "0e9ca43f-c2c5-4289-a69a-2e70385defdf",
   "metadata": {
    "execution": {
     "iopub.execute_input": "2022-11-26T17:49:44.650297Z",
     "iopub.status.busy": "2022-11-26T17:49:44.650113Z",
     "iopub.status.idle": "2022-11-26T17:50:24.032791Z",
     "shell.execute_reply": "2022-11-26T17:50:24.032143Z",
     "shell.execute_reply.started": "2022-11-26T17:49:44.650252Z"
    },
    "tags": []
   },
   "outputs": [
    {
     "name": "stderr",
     "output_type": "stream",
     "text": [
      "Global seed set to 13\n"
     ]
    },
    {
     "name": "stdout",
     "output_type": "stream",
     "text": [
      "GPU is available: True\n",
      "Number of GPUs: 1\n",
      "Current GPU: 0\n",
      "GPUs: NVIDIA GeForce RTX 2070\n"
     ]
    },
    {
     "data": {
      "text/plain": [
       "'0.0.6'"
      ]
     },
     "execution_count": 1,
     "metadata": {},
     "output_type": "execute_result"
    }
   ],
   "source": [
    "import os\n",
    "import pandas as pd\n",
    "import numpy as np\n",
    "import torch\n",
    "\n",
    "from eugene.dataload._io import read_numpy, read\n",
    "\n",
    "# Autoreload extension\n",
    "if 'autoreload' not in get_ipython().extension_manager.loaded:\n",
    "    %load_ext autoreload\n",
    "%autoreload 2\n",
    "\n",
    "# Basic import\n",
    "import eugene as eu\n",
    "\n",
    "eu.__version__"
   ]
  },
  {
   "cell_type": "code",
   "execution_count": 2,
   "id": "f63f8b6b",
   "metadata": {},
   "outputs": [],
   "source": [
    "import gzip\n",
    "import shutil\n",
    "from eugene.datasets._utils import try_download_urls\n",
    "def killoran17(dataset=\"chr1\", return_sdata=True, **kwargs):\n",
    "    urls_list = [\n",
    "        \"https://hgdownload.soe.ucsc.edu/goldenPath/hg38/chromosomes/chr1.fa.gz\"\n",
    "    ]\n",
    "    if dataset == \"chr1\":\n",
    "        dataset = [0]\n",
    "    paths = try_download_urls(dataset, urls_list, \"killoran17\")\n",
    "    if dataset == [0]:\n",
    "        paths = paths[0]\n",
    "        print(\"Unzipping...\")\n",
    "        with gzip.open(paths, 'rb') as f_in:\n",
    "            with open(paths[:-3], 'wb') as f_out:\n",
    "                shutil.copyfileobj(f_in, f_out)\n",
    "                paths = paths[:-3]\n",
    "    if return_sdata:\n",
    "        return eu.dl.read_fasta(paths, **kwargs)\n",
    "    else:\n",
    "        return paths"
   ]
  },
  {
   "cell_type": "code",
   "execution_count": 3,
   "id": "1a5813e2",
   "metadata": {},
   "outputs": [
    {
     "name": "stdout",
     "output_type": "stream",
     "text": [
      "Dataset killoran17 chr1.fa.gz has already been downloaded.\n",
      "Unzipping...\n"
     ]
    }
   ],
   "source": [
    "sdata = killoran17()"
   ]
  },
  {
   "cell_type": "code",
   "execution_count": 4,
   "id": "26ac2452",
   "metadata": {
    "execution": {
     "iopub.execute_input": "2022-11-26T17:50:33.699260Z",
     "iopub.status.busy": "2022-11-26T17:50:33.699067Z",
     "iopub.status.idle": "2022-11-26T17:50:37.369665Z",
     "shell.execute_reply": "2022-11-26T17:50:37.369146Z",
     "shell.execute_reply.started": "2022-11-26T17:50:33.699243Z"
    }
   },
   "outputs": [],
   "source": [
    "def downsample_sdata(sdata, n=None, frac=None, copy=False):\n",
    "    sdata = sdata.copy() if copy else sdata\n",
    "    if n is None and frac is None:\n",
    "        raise ValueError(\"Must specify either n or frac\")\n",
    "    if n is not None and frac is not None:\n",
    "        raise ValueError(\"Must specify either n or frac, not both\")\n",
    "    num_seqs = sdata.n_obs\n",
    "    if n is not None:\n",
    "        if n > num_seqs:\n",
    "            raise ValueError(\"n must be less than or equal to the number of sequences\")\n",
    "        rand_idx = np.random.choice(num_seqs, n, replace=False)\n",
    "        sdata = sdata[rand_idx]\n",
    "    elif frac is not None:\n",
    "        if frac > 1:\n",
    "            raise ValueError(\"frac must be less than or equal to 1\")\n",
    "        rand_idx = np.random.choice(num_seqs, int(num_seqs * frac), replace=False)\n",
    "        sdata = sdata[rand_idx]\n",
    "    return sdata\n",
    "      \n",
    "def remove_only_N_seqs(seqs):\n",
    "    return [seq for seq in seqs if not all([x == \"N\" for x in seq])]  \n",
    "\n",
    "def remove_only_N_seqs_sdata(sdata, copy=False):\n",
    "    sdata = sdata.copy() if copy else sdata\n",
    "    N_only_mask = np.array([all([x == \"N\" for x in seq]) for seq in sdata.seqs])\n",
    "    sdata = sdata[~N_only_mask]\n",
    "    return sdata\n",
    "\n",
    "def seq_len_sdata(sdata, copy=False):\n",
    "    sdata = sdata.copy() if copy else sdata\n",
    "    sdata.seqs_annot[\"seq_len\"] = [len(seq) for seq in sdata.seqs]\n",
    "    return sdata"
   ]
  },
  {
   "cell_type": "code",
   "execution_count": 5,
   "id": "13a78bf7",
   "metadata": {
    "execution": {
     "iopub.execute_input": "2022-11-26T17:50:37.370450Z",
     "iopub.status.busy": "2022-11-26T17:50:37.370298Z",
     "iopub.status.idle": "2022-11-26T17:50:41.206386Z",
     "shell.execute_reply": "2022-11-26T17:50:41.205817Z",
     "shell.execute_reply.started": "2022-11-26T17:50:37.370433Z"
    }
   },
   "outputs": [],
   "source": [
    "sdata_downsampled = downsample_sdata(sdata, frac=0.1, copy=True)"
   ]
  },
  {
   "cell_type": "code",
   "execution_count": 6,
   "id": "bfd6d4f1",
   "metadata": {
    "execution": {
     "iopub.execute_input": "2022-11-26T17:50:41.207316Z",
     "iopub.status.busy": "2022-11-26T17:50:41.207052Z",
     "iopub.status.idle": "2022-11-26T17:50:45.648405Z",
     "shell.execute_reply": "2022-11-26T17:50:45.647911Z",
     "shell.execute_reply.started": "2022-11-26T17:50:41.207296Z"
    }
   },
   "outputs": [
    {
     "name": "stdout",
     "output_type": "stream",
     "text": [
      "SeqData object modified:\n",
      "\tseqs: ['ATTAGCATACTATATACTAATAGAATTAGCATACTATATACTAATAGAAT'\n",
      " 'tttcactggcctagagagctcccctctggaggaccctacaactgcagggt'\n",
      " 'ccagttccagaacagttaagctgaaacctgaaaagatgactaggattagc' ...\n",
      " 'GTAAAGAAGTATCCCCTCCCAGAAACATTTACTTCAAGTGAGTTAGTCAA'\n",
      " 'CACTCTGCTCAGAGTCAGATACAGATAGAGCTGTTTTTGTTTTTATTTTT'\n",
      " 'ggttctctgagtatatacgtaaattttagtatccagaccttttattttga'] -> 248956 seqs added\n"
     ]
    }
   ],
   "source": [
    "remove_only_N_seqs_sdata(sdata_downsampled, copy=False)\n",
    "eu.pp.sanitize_seqs_sdata(sdata_downsampled, copy=False)"
   ]
  },
  {
   "cell_type": "code",
   "execution_count": 7,
   "id": "54e5adec",
   "metadata": {
    "execution": {
     "iopub.execute_input": "2022-11-26T17:50:49.072400Z",
     "iopub.status.busy": "2022-11-26T17:50:49.072245Z",
     "iopub.status.idle": "2022-11-26T17:50:52.670669Z",
     "shell.execute_reply": "2022-11-26T17:50:52.670092Z",
     "shell.execute_reply.started": "2022-11-26T17:50:49.072385Z"
    }
   },
   "outputs": [
    {
     "data": {
      "text/plain": [
       "SeqData object with = 248956 seqs\n",
       "seqs = (248956,)\n",
       "names = (248956,)\n",
       "rev_seqs = None\n",
       "ohe_seqs = None\n",
       "ohe_rev_seqs = None\n",
       "seqs_annot: 'seq_len'\n",
       "pos_annot: None\n",
       "seqsm: None\n",
       "uns: None"
      ]
     },
     "execution_count": 7,
     "metadata": {},
     "output_type": "execute_result"
    }
   ],
   "source": [
    "seq_len_sdata(sdata_downsampled, copy=False)"
   ]
  },
  {
   "cell_type": "code",
   "execution_count": 8,
   "id": "82f81205",
   "metadata": {
    "execution": {
     "iopub.execute_input": "2022-11-26T17:50:56.389525Z",
     "iopub.status.busy": "2022-11-26T17:50:56.389322Z",
     "iopub.status.idle": "2022-11-26T17:51:06.123046Z",
     "shell.execute_reply": "2022-11-26T17:51:06.122414Z",
     "shell.execute_reply.started": "2022-11-26T17:50:56.389509Z"
    }
   },
   "outputs": [
    {
     "data": {
      "application/vnd.jupyter.widget-view+json": {
       "model_id": "8b62d6f9ae0941e097e2b9cd4ccd05ad",
       "version_major": 2,
       "version_minor": 0
      },
      "text/plain": [
       "One-hot encoding sequences:   0%|          | 0/248956 [00:00<?, ?it/s]"
      ]
     },
     "metadata": {},
     "output_type": "display_data"
    },
    {
     "name": "stdout",
     "output_type": "stream",
     "text": [
      "SeqData object modified:\n",
      "\tohe_seqs: None -> 248956 ohe_seqs added\n",
      "SeqData object modified:\n",
      "    seqs_annot:\n",
      "        + train_val\n"
     ]
    }
   ],
   "source": [
    "eu.pp.ohe_seqs_sdata(sdata_downsampled, copy=False)\n",
    "eu.pp.train_test_split_sdata(sdata_downsampled)"
   ]
  },
  {
   "cell_type": "code",
   "execution_count": 9,
   "id": "f6cc0dba",
   "metadata": {
    "execution": {
     "iopub.execute_input": "2022-11-26T17:51:09.772883Z",
     "iopub.status.busy": "2022-11-26T17:51:09.772664Z",
     "iopub.status.idle": "2022-11-26T17:51:13.474419Z",
     "shell.execute_reply": "2022-11-26T17:51:13.473895Z",
     "shell.execute_reply.started": "2022-11-26T17:51:09.772866Z"
    }
   },
   "outputs": [],
   "source": [
    "seq_len = 50\n",
    "latent_dim = 128"
   ]
  },
  {
   "cell_type": "code",
   "execution_count": 10,
   "id": "2142970b",
   "metadata": {},
   "outputs": [],
   "source": [
    "import torch.nn as nn\n",
    "import eugene.models.base as base"
   ]
  },
  {
   "cell_type": "code",
   "execution_count": 11,
   "id": "8260a864",
   "metadata": {},
   "outputs": [],
   "source": [
    "class Generator(nn.Module):\n",
    "    def __init__(self, latent_dim, seq_len, density):\n",
    "        super(Generator, self).__init__()\n",
    "        self.linear = nn.Linear(latent_dim, seq_len*density)\n",
    "        self.elu = nn.ELU()\n",
    "        self.view = base.View((density, seq_len))\n",
    "        self.res_blocks = nn.Sequential(*[base.ResidualBlock(density, density, 5, 1, 2)]*5)\n",
    "        self.conv = nn.Conv1d(density, 4, 1)\n",
    "        self.softmax = nn.Softmax(dim=1)\n",
    "\n",
    "    def forward(self, x):\n",
    "        out = self.linear(x) \n",
    "        out = self.elu(out) \n",
    "        out = self.view(out) \n",
    "        out = self.res_blocks(out) \n",
    "        out = self.conv(out)\n",
    "        out = self.softmax(out)\n",
    "        return out\n",
    "\n",
    "class Discriminator(nn.Module):\n",
    "    def __init__(self, seq_len, density):\n",
    "        super(Discriminator, self).__init__()\n",
    "        self.conv = nn.Conv1d(4, density, 1)\n",
    "        self.res_blocks = nn.Sequential(*[base.ResidualBlock(density, density, 5, 1, 2)]*5)\n",
    "        self.view = base.View((density*seq_len,))\n",
    "        self.linear = nn.Linear(density*seq_len, 1)\n",
    "        self.sigmoid = nn.Sigmoid()\n",
    "\n",
    "    def forward(self, x):\n",
    "        out = self.conv(x)\n",
    "        out = self.res_blocks(out)\n",
    "        out = self.view(out)\n",
    "        out = self.linear(out)\n",
    "        out = self.sigmoid(out)\n",
    "        return out"
   ]
  },
  {
   "cell_type": "code",
   "execution_count": 12,
   "id": "8035924a",
   "metadata": {},
   "outputs": [],
   "source": [
    "gen = Generator(latent_dim, seq_len, density=128)\n",
    "disc = Discriminator(seq_len, density=128)"
   ]
  },
  {
   "cell_type": "code",
   "execution_count": 13,
   "id": "cc1cdedb",
   "metadata": {
    "execution": {
     "iopub.execute_input": "2022-11-26T17:51:20.610376Z",
     "iopub.status.busy": "2022-11-26T17:51:20.610196Z",
     "iopub.status.idle": "2022-11-26T17:51:24.098186Z",
     "shell.execute_reply": "2022-11-26T17:51:24.097521Z",
     "shell.execute_reply.started": "2022-11-26T17:51:20.610359Z"
    }
   },
   "outputs": [],
   "source": [
    "model = eu.models.GAN(\n",
    "    latent_dim=latent_dim, \n",
    "    generator=gen, \n",
    "    discriminator=disc,\n",
    "    mode=\"wgangp\",\n",
    "    lambda_gp=10,\n",
    "    gen_lr=1e-4,\n",
    "    disc_lr=1e-4,\n",
    "    n_critic=10,\n",
    ")"
   ]
  },
  {
   "cell_type": "code",
   "execution_count": 14,
   "id": "5e6e8646",
   "metadata": {
    "execution": {
     "iopub.execute_input": "2022-11-26T18:01:06.168852Z",
     "iopub.status.busy": "2022-11-26T18:01:06.168535Z",
     "iopub.status.idle": "2022-11-26T18:01:24.908168Z",
     "shell.execute_reply": "2022-11-26T18:01:24.907402Z",
     "shell.execute_reply.started": "2022-11-26T18:01:06.168833Z"
    },
    "tags": []
   },
   "outputs": [
    {
     "name": "stderr",
     "output_type": "stream",
     "text": [
      "Global seed set to 13\n"
     ]
    },
    {
     "name": "stdout",
     "output_type": "stream",
     "text": [
      "No transforms given, assuming just need to tensorize.\n",
      "No transforms given, assuming just need to tensorize.\n"
     ]
    },
    {
     "name": "stderr",
     "output_type": "stream",
     "text": [
      "GPU available: True, used: True\n",
      "TPU available: False, using: 0 TPU cores\n",
      "IPU available: False, using: 0 IPUs\n",
      "LOCAL_RANK: 0 - CUDA_VISIBLE_DEVICES: [0]\n",
      "Missing logger folder: C:\\Users\\Lab\\Documents\\EUGENe\\tests\\notebooks\\models\\eugene_logs\\test\n",
      "\n",
      "  | Name          | Type          | Params\n",
      "------------------------------------------------\n",
      "0 | generator     | Generator     | 908 K \n",
      "1 | discriminator | Discriminator | 89.1 K\n",
      "------------------------------------------------\n",
      "997 K     Trainable params\n",
      "0         Non-trainable params\n",
      "997 K     Total params\n",
      "3.989     Total estimated model params size (MB)\n"
     ]
    },
    {
     "data": {
      "application/vnd.jupyter.widget-view+json": {
       "model_id": "a58c65dc2b6644708eac7587a85d4bef",
       "version_major": 2,
       "version_minor": 0
      },
      "text/plain": [
       "Validation sanity check: 0it [00:00, ?it/s]"
      ]
     },
     "metadata": {},
     "output_type": "display_data"
    },
    {
     "name": "stderr",
     "output_type": "stream",
     "text": [
      "c:\\Users\\Lab\\anaconda3\\envs\\eugene\\lib\\site-packages\\pytorch_lightning\\trainer\\data_loading.py:132: UserWarning: The dataloader, val_dataloader 0, does not have many workers which may be a bottleneck. Consider increasing the value of the `num_workers` argument` (try 8 which is the number of cpus on this machine) in the `DataLoader` init to improve performance.\n",
      "  rank_zero_warn(\n",
      "Global seed set to 13\n",
      "c:\\Users\\Lab\\anaconda3\\envs\\eugene\\lib\\site-packages\\pytorch_lightning\\trainer\\data_loading.py:132: UserWarning: The dataloader, train_dataloader, does not have many workers which may be a bottleneck. Consider increasing the value of the `num_workers` argument` (try 8 which is the number of cpus on this machine) in the `DataLoader` init to improve performance.\n",
      "  rank_zero_warn(\n"
     ]
    },
    {
     "data": {
      "application/vnd.jupyter.widget-view+json": {
       "model_id": "d2d3702bd9f84c8cab1de949d257cd5c",
       "version_major": 2,
       "version_minor": 0
      },
      "text/plain": [
       "Training: 0it [00:00, ?it/s]"
      ]
     },
     "metadata": {},
     "output_type": "display_data"
    },
    {
     "name": "stderr",
     "output_type": "stream",
     "text": [
      "c:\\Users\\Lab\\anaconda3\\envs\\eugene\\lib\\site-packages\\pytorch_lightning\\loops\\optimization\\closure.py:35: LightningDeprecationWarning: One of the returned values {'progress_bar', 'log'} has a `grad_fn`. We will detach it automatically but this behaviour will change in v1.6. Please detach it manually: `return {'loss': ..., 'something': something.detach()}`\n",
      "  rank_zero_deprecation(\n"
     ]
    },
    {
     "data": {
      "application/vnd.jupyter.widget-view+json": {
       "model_id": "14778f0a91c946f79d705a01c7d7848c",
       "version_major": 2,
       "version_minor": 0
      },
      "text/plain": [
       "Validating: 0it [00:00, ?it/s]"
      ]
     },
     "metadata": {},
     "output_type": "display_data"
    },
    {
     "data": {
      "application/vnd.jupyter.widget-view+json": {
       "model_id": "a272b68e13cd44149ebdf01b89c87924",
       "version_major": 2,
       "version_minor": 0
      },
      "text/plain": [
       "Validating: 0it [00:00, ?it/s]"
      ]
     },
     "metadata": {},
     "output_type": "display_data"
    },
    {
     "data": {
      "application/vnd.jupyter.widget-view+json": {
       "model_id": "e4aec2355b62446193c200d6c4bc0716",
       "version_major": 2,
       "version_minor": 0
      },
      "text/plain": [
       "Validating: 0it [00:00, ?it/s]"
      ]
     },
     "metadata": {},
     "output_type": "display_data"
    },
    {
     "data": {
      "application/vnd.jupyter.widget-view+json": {
       "model_id": "aad3c4c7531149e4831d238d1e9adb41",
       "version_major": 2,
       "version_minor": 0
      },
      "text/plain": [
       "Validating: 0it [00:00, ?it/s]"
      ]
     },
     "metadata": {},
     "output_type": "display_data"
    },
    {
     "data": {
      "application/vnd.jupyter.widget-view+json": {
       "model_id": "9ec504ef4c124b5fb7dd589d30e2ff89",
       "version_major": 2,
       "version_minor": 0
      },
      "text/plain": [
       "Validating: 0it [00:00, ?it/s]"
      ]
     },
     "metadata": {},
     "output_type": "display_data"
    },
    {
     "data": {
      "application/vnd.jupyter.widget-view+json": {
       "model_id": "74e926a42b32455b83882ed030e62365",
       "version_major": 2,
       "version_minor": 0
      },
      "text/plain": [
       "Validating: 0it [00:00, ?it/s]"
      ]
     },
     "metadata": {},
     "output_type": "display_data"
    },
    {
     "data": {
      "application/vnd.jupyter.widget-view+json": {
       "model_id": "3aa85300c287413fafc06c5081a17427",
       "version_major": 2,
       "version_minor": 0
      },
      "text/plain": [
       "Validating: 0it [00:00, ?it/s]"
      ]
     },
     "metadata": {},
     "output_type": "display_data"
    },
    {
     "data": {
      "application/vnd.jupyter.widget-view+json": {
       "model_id": "6889da0075364f758510e9096862d1ac",
       "version_major": 2,
       "version_minor": 0
      },
      "text/plain": [
       "Validating: 0it [00:00, ?it/s]"
      ]
     },
     "metadata": {},
     "output_type": "display_data"
    },
    {
     "data": {
      "application/vnd.jupyter.widget-view+json": {
       "model_id": "ccdff20aabe448b68f469611ae2d6cab",
       "version_major": 2,
       "version_minor": 0
      },
      "text/plain": [
       "Validating: 0it [00:00, ?it/s]"
      ]
     },
     "metadata": {},
     "output_type": "display_data"
    },
    {
     "data": {
      "application/vnd.jupyter.widget-view+json": {
       "model_id": "0cfda8ec3e2e4fcf82dc19d94272777d",
       "version_major": 2,
       "version_minor": 0
      },
      "text/plain": [
       "Validating: 0it [00:00, ?it/s]"
      ]
     },
     "metadata": {},
     "output_type": "display_data"
    },
    {
     "data": {
      "application/vnd.jupyter.widget-view+json": {
       "model_id": "87a89df16e3a44ddb9abe6d1516e2405",
       "version_major": 2,
       "version_minor": 0
      },
      "text/plain": [
       "Validating: 0it [00:00, ?it/s]"
      ]
     },
     "metadata": {},
     "output_type": "display_data"
    },
    {
     "data": {
      "application/vnd.jupyter.widget-view+json": {
       "model_id": "e561d37db64447459ddab1026c8f6ceb",
       "version_major": 2,
       "version_minor": 0
      },
      "text/plain": [
       "Validating: 0it [00:00, ?it/s]"
      ]
     },
     "metadata": {},
     "output_type": "display_data"
    },
    {
     "data": {
      "application/vnd.jupyter.widget-view+json": {
       "model_id": "e1e107f1ecd84c8899d16747ba126a07",
       "version_major": 2,
       "version_minor": 0
      },
      "text/plain": [
       "Validating: 0it [00:00, ?it/s]"
      ]
     },
     "metadata": {},
     "output_type": "display_data"
    },
    {
     "data": {
      "application/vnd.jupyter.widget-view+json": {
       "model_id": "6803c0a679b74d30af069057852f62be",
       "version_major": 2,
       "version_minor": 0
      },
      "text/plain": [
       "Validating: 0it [00:00, ?it/s]"
      ]
     },
     "metadata": {},
     "output_type": "display_data"
    },
    {
     "data": {
      "application/vnd.jupyter.widget-view+json": {
       "model_id": "78c73d215aee44e8b43d25f250e221e2",
       "version_major": 2,
       "version_minor": 0
      },
      "text/plain": [
       "Validating: 0it [00:00, ?it/s]"
      ]
     },
     "metadata": {},
     "output_type": "display_data"
    },
    {
     "data": {
      "application/vnd.jupyter.widget-view+json": {
       "model_id": "186d7ba03d0447768a7ac090710cb92a",
       "version_major": 2,
       "version_minor": 0
      },
      "text/plain": [
       "Validating: 0it [00:00, ?it/s]"
      ]
     },
     "metadata": {},
     "output_type": "display_data"
    },
    {
     "data": {
      "application/vnd.jupyter.widget-view+json": {
       "model_id": "d399fb4e6fcb4d4b83afb8ed28219ee2",
       "version_major": 2,
       "version_minor": 0
      },
      "text/plain": [
       "Validating: 0it [00:00, ?it/s]"
      ]
     },
     "metadata": {},
     "output_type": "display_data"
    },
    {
     "data": {
      "application/vnd.jupyter.widget-view+json": {
       "model_id": "23c42aea7c5d4040afd020ddbfdbe02c",
       "version_major": 2,
       "version_minor": 0
      },
      "text/plain": [
       "Validating: 0it [00:00, ?it/s]"
      ]
     },
     "metadata": {},
     "output_type": "display_data"
    },
    {
     "data": {
      "application/vnd.jupyter.widget-view+json": {
       "model_id": "46e6abdbe5af483ea5c6730297b92099",
       "version_major": 2,
       "version_minor": 0
      },
      "text/plain": [
       "Validating: 0it [00:00, ?it/s]"
      ]
     },
     "metadata": {},
     "output_type": "display_data"
    },
    {
     "data": {
      "application/vnd.jupyter.widget-view+json": {
       "model_id": "7e27dd8323ab44a7ae970a246f131d63",
       "version_major": 2,
       "version_minor": 0
      },
      "text/plain": [
       "Validating: 0it [00:00, ?it/s]"
      ]
     },
     "metadata": {},
     "output_type": "display_data"
    }
   ],
   "source": [
    "eu.settings.batch_size = 128\n",
    "eu.settings.dl_num_workers = 0\n",
    "eu.settings.dl_pin_memory_gpu_training = True\n",
    "eu.train.fit(\n",
    "    model=model,\n",
    "    sdata=sdata_downsampled,\n",
    "    epochs=20,\n",
    "    gpus=1,\n",
    "    model_checkpoint_monitor=None,\n",
    "    early_stopping_metric=None,\n",
    "    name=\"test\"\n",
    ")"
   ]
  },
  {
   "cell_type": "code",
   "execution_count": 39,
   "id": "4e18380b",
   "metadata": {},
   "outputs": [
    {
     "name": "stderr",
     "output_type": "stream",
     "text": [
      "UsageError: Line magic function `%tensorboard` not found.\n"
     ]
    }
   ],
   "source": [
    "%tensorboard"
   ]
  },
  {
   "cell_type": "code",
   "execution_count": 17,
   "id": "2677d43d",
   "metadata": {},
   "outputs": [],
   "source": [
    "def generate_seqs(model, num_seqs):\n",
    "    z = torch.Tensor(np.random.normal(0, 1, (num_seqs, model.latent_dim)))\n",
    "    fake = model(z)\n",
    "    fake_tokens = np.argmax(fake.detach().numpy(), axis=1).reshape(num_seqs, 50)\n",
    "    return np.array([eu.pp.decode_seq(eu.pp._utils._token2one_hot(tokens)) for tokens in fake_tokens])"
   ]
  },
  {
   "cell_type": "code",
   "execution_count": 25,
   "id": "e031a93b",
   "metadata": {},
   "outputs": [],
   "source": [
    "gen_seqs = generate_seqs(model, 1000)"
   ]
  },
  {
   "cell_type": "code",
   "execution_count": 26,
   "id": "277c1a10",
   "metadata": {},
   "outputs": [],
   "source": [
    "with open(\"gen_seqs.txt\", \"w\") as txt_file:\n",
    "    for line in gen_seqs:\n",
    "        txt_file.write(\"\".join(line) + \"\\n\")"
   ]
  },
  {
   "cell_type": "markdown",
   "id": "7dc78854-191e-4714-bc83-7fa3f442e26d",
   "metadata": {},
   "source": [
    "---"
   ]
  }
 ],
 "metadata": {
  "kernelspec": {
   "display_name": "Python 3.10.4 ('eugene')",
   "language": "python",
   "name": "python3"
  },
  "language_info": {
   "codemirror_mode": {
    "name": "ipython",
    "version": 3
   },
   "file_extension": ".py",
   "mimetype": "text/x-python",
   "name": "python",
   "nbconvert_exporter": "python",
   "pygments_lexer": "ipython3",
   "version": "3.10.4"
  },
  "vscode": {
   "interpreter": {
    "hash": "3dbbff05fc9c23df2b8cfb8dfa1c8cab53b5b79b84eaada81073f79339e0e490"
   }
  }
 },
 "nbformat": 4,
 "nbformat_minor": 5
}

{
 "cells": [
  {
   "cell_type": "code",
   "execution_count": 1,
   "id": "0e9ca43f-c2c5-4289-a69a-2e70385defdf",
   "metadata": {
    "execution": {
     "iopub.execute_input": "2022-11-26T17:49:44.650297Z",
     "iopub.status.busy": "2022-11-26T17:49:44.650113Z",
     "iopub.status.idle": "2022-11-26T17:50:24.032791Z",
     "shell.execute_reply": "2022-11-26T17:50:24.032143Z",
     "shell.execute_reply.started": "2022-11-26T17:49:44.650252Z"
    },
    "tags": []
   },
   "outputs": [
    {
     "name": "stderr",
     "output_type": "stream",
     "text": [
      "Global seed set to 13\n"
     ]
    },
    {
     "name": "stdout",
     "output_type": "stream",
     "text": [
      "GPU is available: True\n",
      "Number of GPUs: 1\n",
      "Current GPU: 0\n",
      "GPUs: NVIDIA GeForce RTX 2070\n"
     ]
    },
    {
     "data": {
      "text/plain": [
       "'0.0.6'"
      ]
     },
     "execution_count": 1,
     "metadata": {},
     "output_type": "execute_result"
    }
   ],
   "source": [
    "import os\n",
    "import pandas as pd\n",
    "import numpy as np\n",
    "import torch\n",
    "\n",
    "from eugene.dataload._io import read_numpy, read\n",
    "\n",
    "# Autoreload extension\n",
    "if 'autoreload' not in get_ipython().extension_manager.loaded:\n",
    "    %load_ext autoreload\n",
    "%autoreload 2\n",
    "\n",
    "# Basic import\n",
    "import eugene as eu\n",
    "\n",
    "eu.__version__"
   ]
  },
  {
   "cell_type": "code",
   "execution_count": 2,
   "id": "f63f8b6b",
   "metadata": {},
   "outputs": [],
   "source": [
    "import gzip\n",
    "import shutil\n",
    "from eugene.datasets._utils import try_download_urls\n",
    "def killoran17(dataset=\"chr1\", return_sdata=True, **kwargs):\n",
    "    urls_list = [\n",
    "        \"https://hgdownload.soe.ucsc.edu/goldenPath/hg38/chromosomes/chr1.fa.gz\"\n",
    "    ]\n",
    "    if dataset == \"chr1\":\n",
    "        dataset = [0]\n",
    "    paths = try_download_urls(dataset, urls_list, \"killoran17\")\n",
    "    if dataset == [0]:\n",
    "        paths = paths[0]\n",
    "        print(\"Unzipping...\")\n",
    "        with gzip.open(paths, 'rb') as f_in:\n",
    "            with open(paths[:-3], 'wb') as f_out:\n",
    "                shutil.copyfileobj(f_in, f_out)\n",
    "                paths = paths[:-3]\n",
    "    if return_sdata:\n",
    "        return eu.dl.read_fasta(paths, **kwargs)\n",
    "    else:\n",
    "        return paths"
   ]
  },
  {
   "cell_type": "code",
   "execution_count": 3,
   "id": "1a5813e2",
   "metadata": {},
   "outputs": [
    {
     "name": "stdout",
     "output_type": "stream",
     "text": [
      "Dataset killoran17 chr1.fa.gz has already been downloaded.\n",
      "Unzipping...\n"
     ]
    }
   ],
   "source": [
    "sdata = killoran17()"
   ]
  },
  {
   "cell_type": "code",
   "execution_count": 4,
   "id": "26ac2452",
   "metadata": {
    "execution": {
     "iopub.execute_input": "2022-11-26T17:50:33.699260Z",
     "iopub.status.busy": "2022-11-26T17:50:33.699067Z",
     "iopub.status.idle": "2022-11-26T17:50:37.369665Z",
     "shell.execute_reply": "2022-11-26T17:50:37.369146Z",
     "shell.execute_reply.started": "2022-11-26T17:50:33.699243Z"
    }
   },
   "outputs": [],
   "source": [
    "def downsample_sdata(sdata, n=None, frac=None, copy=False):\n",
    "    sdata = sdata.copy() if copy else sdata\n",
    "    if n is None and frac is None:\n",
    "        raise ValueError(\"Must specify either n or frac\")\n",
    "    if n is not None and frac is not None:\n",
    "        raise ValueError(\"Must specify either n or frac, not both\")\n",
    "    num_seqs = sdata.n_obs\n",
    "    if n is not None:\n",
    "        if n > num_seqs:\n",
    "            raise ValueError(\"n must be less than or equal to the number of sequences\")\n",
    "        rand_idx = np.random.choice(num_seqs, n, replace=False)\n",
    "        sdata = sdata[rand_idx]\n",
    "    elif frac is not None:\n",
    "        if frac > 1:\n",
    "            raise ValueError(\"frac must be less than or equal to 1\")\n",
    "        rand_idx = np.random.choice(num_seqs, int(num_seqs * frac), replace=False)\n",
    "        sdata = sdata[rand_idx]\n",
    "    return sdata\n",
    "      \n",
    "def remove_N_seqs(seqs, tolerance=False):\n",
    "    if tolerance:\n",
    "        return [seq for seq in seqs if not all([x == \"N\" for x in seq])]\n",
    "    else:\n",
    "        return [seq for seq in seqs if not any([x == \"N\" for x in seq])]  \n",
    "\n",
    "def remove_N_seqs_sdata(sdata, tolerance=False, copy=False, repeat=1):\n",
    "    sdata = sdata.copy() if copy else sdata\n",
    "    # Sometimes doesn't remove every sequence its supposed to on the first time?\n",
    "    for i in range(repeat):\n",
    "        if tolerance:\n",
    "            N_only_mask = np.array([all([x == \"N\" for x in seq]) for seq in sdata.seqs])\n",
    "        else:\n",
    "            N_only_mask = np.array([any([x == \"N\" for x in seq]) for seq in sdata.seqs])\n",
    "        sdata = sdata[~N_only_mask]\n",
    "    return sdata\n",
    "\n",
    "def seq_len_sdata(sdata, copy=False):\n",
    "    sdata = sdata.copy() if copy else sdata\n",
    "    sdata.seqs_annot[\"seq_len\"] = [len(seq) for seq in sdata.seqs]\n",
    "    return sdata"
   ]
  },
  {
   "cell_type": "code",
   "execution_count": 5,
   "id": "13a78bf7",
   "metadata": {
    "execution": {
     "iopub.execute_input": "2022-11-26T17:50:37.370450Z",
     "iopub.status.busy": "2022-11-26T17:50:37.370298Z",
     "iopub.status.idle": "2022-11-26T17:50:41.206386Z",
     "shell.execute_reply": "2022-11-26T17:50:41.205817Z",
     "shell.execute_reply.started": "2022-11-26T17:50:37.370433Z"
    }
   },
   "outputs": [],
   "source": [
    "sdata = downsample_sdata(sdata, frac=0.1, copy=True)"
   ]
  },
  {
   "cell_type": "code",
   "execution_count": 7,
   "id": "bfd6d4f1",
   "metadata": {
    "execution": {
     "iopub.execute_input": "2022-11-26T17:50:41.207316Z",
     "iopub.status.busy": "2022-11-26T17:50:41.207052Z",
     "iopub.status.idle": "2022-11-26T17:50:45.648405Z",
     "shell.execute_reply": "2022-11-26T17:50:45.647911Z",
     "shell.execute_reply.started": "2022-11-26T17:50:41.207296Z"
    }
   },
   "outputs": [],
   "source": [
    "sdata = remove_N_seqs_sdata(sdata, tolerance=False, copy=False, repeat=5)\n",
    "eu.pp.sanitize_seqs_sdata(sdata, copy=False)"
   ]
  },
  {
   "cell_type": "code",
   "execution_count": 8,
   "id": "8962383d",
   "metadata": {},
   "outputs": [
    {
     "data": {
      "text/plain": [
       "{'A': 3351326, 'T': 3364969, 'G': 2407086, 'C': 2403919}"
      ]
     },
     "execution_count": 8,
     "metadata": {},
     "output_type": "execute_result"
    }
   ],
   "source": [
    "eu.interpret.count_kmers_sdata(sdata, 1)"
   ]
  },
  {
   "cell_type": "code",
   "execution_count": 9,
   "id": "54e5adec",
   "metadata": {
    "execution": {
     "iopub.execute_input": "2022-11-26T17:50:49.072400Z",
     "iopub.status.busy": "2022-11-26T17:50:49.072245Z",
     "iopub.status.idle": "2022-11-26T17:50:52.670669Z",
     "shell.execute_reply": "2022-11-26T17:50:52.670092Z",
     "shell.execute_reply.started": "2022-11-26T17:50:49.072385Z"
    }
   },
   "outputs": [
    {
     "data": {
      "text/plain": [
       "SeqData object with = 230546 seqs\n",
       "seqs = (230546,)\n",
       "names = (230546,)\n",
       "rev_seqs = None\n",
       "ohe_seqs = None\n",
       "ohe_rev_seqs = None\n",
       "seqs_annot: 'seq_len'\n",
       "pos_annot: None\n",
       "seqsm: None\n",
       "uns: None"
      ]
     },
     "execution_count": 9,
     "metadata": {},
     "output_type": "execute_result"
    }
   ],
   "source": [
    "seq_len_sdata(sdata, copy=False)"
   ]
  },
  {
   "cell_type": "code",
   "execution_count": 10,
   "id": "82f81205",
   "metadata": {
    "execution": {
     "iopub.execute_input": "2022-11-26T17:50:56.389525Z",
     "iopub.status.busy": "2022-11-26T17:50:56.389322Z",
     "iopub.status.idle": "2022-11-26T17:51:06.123046Z",
     "shell.execute_reply": "2022-11-26T17:51:06.122414Z",
     "shell.execute_reply.started": "2022-11-26T17:50:56.389509Z"
    }
   },
   "outputs": [
    {
     "data": {
      "application/vnd.jupyter.widget-view+json": {
       "model_id": "e678d4f3503e4ae8a1a36a4d25e48047",
       "version_major": 2,
       "version_minor": 0
      },
      "text/plain": [
       "One-hot encoding sequences:   0%|          | 0/230546 [00:00<?, ?it/s]"
      ]
     },
     "metadata": {},
     "output_type": "display_data"
    },
    {
     "name": "stdout",
     "output_type": "stream",
     "text": [
      "SeqData object modified:\n",
      "\tohe_seqs: None -> 230546 ohe_seqs added\n",
      "SeqData object modified:\n",
      "    seqs_annot:\n",
      "        + train_val\n"
     ]
    }
   ],
   "source": [
    "eu.pp.ohe_seqs_sdata(sdata, copy=False)\n",
    "eu.pp.train_test_split_sdata(sdata)"
   ]
  },
  {
   "cell_type": "code",
   "execution_count": 25,
   "id": "8260a864",
   "metadata": {},
   "outputs": [],
   "source": [
    "seq_len = 50\n",
    "latent_dim = 128\n",
    "\n",
    "import torch.nn as nn\n",
    "import eugene.models.base as base\n",
    "\n",
    "class Generator(nn.Module):\n",
    "    def __init__(self, latent_dim, seq_len, density):\n",
    "        super(Generator, self).__init__()\n",
    "        self.linear = nn.Linear(latent_dim, seq_len*density)\n",
    "        self.elu = nn.ELU()\n",
    "        self.view = base.View((density, seq_len))\n",
    "        self.res_blocks = nn.Sequential(*[base.ResidualBlock(density, density, 5, 1, 2)]*5)\n",
    "        self.conv = nn.Conv1d(density, 4, 1)\n",
    "        self.softmax = nn.Softmax(dim=1)\n",
    "\n",
    "    def forward(self, x):\n",
    "        out = self.linear(x) \n",
    "        out = self.elu(out) \n",
    "        out = self.view(out) \n",
    "        out = self.res_blocks(out) \n",
    "        out = self.conv(out)\n",
    "        out = self.softmax(out)\n",
    "        return out\n",
    "\n",
    "class Discriminator(nn.Module):\n",
    "    def __init__(self, seq_len, density):\n",
    "        super(Discriminator, self).__init__()\n",
    "        self.conv = nn.Conv1d(4, density, 1)\n",
    "        self.res_blocks = nn.Sequential(*[base.ResidualBlock(density, density, 5, 1, 2)]*5)\n",
    "        self.view = base.View((density*seq_len,))\n",
    "        self.linear = nn.Linear(density*seq_len, 1)\n",
    "        self.sigmoid = nn.Sigmoid()\n",
    "\n",
    "    def forward(self, x):\n",
    "        out = self.conv(x)\n",
    "        out = self.res_blocks(out)\n",
    "        out = self.view(out)\n",
    "        out = self.linear(out)\n",
    "        out = self.sigmoid(out)\n",
    "        return out"
   ]
  },
  {
   "cell_type": "code",
   "execution_count": 10,
   "id": "8035924a",
   "metadata": {},
   "outputs": [],
   "source": [
    "gen = Generator(latent_dim, seq_len, density=128)\n",
    "disc = Discriminator(seq_len, density=128)"
   ]
  },
  {
   "cell_type": "code",
   "execution_count": 11,
   "id": "cc1cdedb",
   "metadata": {
    "execution": {
     "iopub.execute_input": "2022-11-26T17:51:20.610376Z",
     "iopub.status.busy": "2022-11-26T17:51:20.610196Z",
     "iopub.status.idle": "2022-11-26T17:51:24.098186Z",
     "shell.execute_reply": "2022-11-26T17:51:24.097521Z",
     "shell.execute_reply.started": "2022-11-26T17:51:20.610359Z"
    }
   },
   "outputs": [],
   "source": [
    "model = eu.models.GAN(\n",
    "    latent_dim=latent_dim, \n",
    "    generator=gen, \n",
    "    discriminator=disc,\n",
    "    mode=\"wgangp\",\n",
    "    lambda_gp=10,\n",
    "    gen_lr=1e-4,\n",
    "    disc_lr=1e-4,\n",
    "    n_critic=10,\n",
    "    log_seqs_epoch=10,\n",
    ")"
   ]
  },
  {
   "cell_type": "code",
   "execution_count": 13,
   "id": "c3bd2f9e",
   "metadata": {},
   "outputs": [],
   "source": [
    "eu.settings.batch_size = 128\n",
    "eu.settings.dl_num_workers = 0\n",
    "eu.settings.dl_pin_memory_gpu_training = True"
   ]
  },
  {
   "cell_type": "code",
   "execution_count": 16,
   "id": "5e6e8646",
   "metadata": {
    "execution": {
     "iopub.execute_input": "2022-11-26T18:01:06.168852Z",
     "iopub.status.busy": "2022-11-26T18:01:06.168535Z",
     "iopub.status.idle": "2022-11-26T18:01:24.908168Z",
     "shell.execute_reply": "2022-11-26T18:01:24.907402Z",
     "shell.execute_reply.started": "2022-11-26T18:01:06.168833Z"
    },
    "tags": []
   },
   "outputs": [
    {
     "name": "stderr",
     "output_type": "stream",
     "text": [
      "Global seed set to 13\n"
     ]
    },
    {
     "name": "stdout",
     "output_type": "stream",
     "text": [
      "No transforms given, assuming just need to tensorize.\n",
      "No transforms given, assuming just need to tensorize.\n"
     ]
    },
    {
     "name": "stderr",
     "output_type": "stream",
     "text": [
      "GPU available: True, used: True\n",
      "TPU available: False, using: 0 TPU cores\n",
      "IPU available: False, using: 0 IPUs\n",
      "LOCAL_RANK: 0 - CUDA_VISIBLE_DEVICES: [0]\n",
      "\n",
      "  | Name          | Type          | Params\n",
      "------------------------------------------------\n",
      "0 | generator     | Generator     | 908 K \n",
      "1 | discriminator | Discriminator | 89.1 K\n",
      "------------------------------------------------\n",
      "997 K     Trainable params\n",
      "0         Non-trainable params\n",
      "997 K     Total params\n",
      "3.989     Total estimated model params size (MB)\n"
     ]
    },
    {
     "data": {
      "application/vnd.jupyter.widget-view+json": {
       "model_id": "f4b5daa5f0b745f194c0cdfc541ede6b",
       "version_major": 2,
       "version_minor": 0
      },
      "text/plain": [
       "Validation sanity check: 0it [00:00, ?it/s]"
      ]
     },
     "metadata": {},
     "output_type": "display_data"
    },
    {
     "name": "stderr",
     "output_type": "stream",
     "text": [
      "c:\\Users\\Lab\\anaconda3\\envs\\eugene\\lib\\site-packages\\pytorch_lightning\\trainer\\data_loading.py:132: UserWarning: The dataloader, val_dataloader 0, does not have many workers which may be a bottleneck. Consider increasing the value of the `num_workers` argument` (try 8 which is the number of cpus on this machine) in the `DataLoader` init to improve performance.\n",
      "  rank_zero_warn(\n",
      "Global seed set to 13\n",
      "c:\\Users\\Lab\\anaconda3\\envs\\eugene\\lib\\site-packages\\pytorch_lightning\\trainer\\data_loading.py:132: UserWarning: The dataloader, train_dataloader, does not have many workers which may be a bottleneck. Consider increasing the value of the `num_workers` argument` (try 8 which is the number of cpus on this machine) in the `DataLoader` init to improve performance.\n",
      "  rank_zero_warn(\n"
     ]
    },
    {
     "data": {
      "application/vnd.jupyter.widget-view+json": {
       "model_id": "b8bdce87b84f4d2eb5a5c7a4d970eca3",
       "version_major": 2,
       "version_minor": 0
      },
      "text/plain": [
       "Training: 0it [00:00, ?it/s]"
      ]
     },
     "metadata": {},
     "output_type": "display_data"
    },
    {
     "name": "stderr",
     "output_type": "stream",
     "text": [
      "c:\\Users\\Lab\\anaconda3\\envs\\eugene\\lib\\site-packages\\pytorch_lightning\\loops\\optimization\\closure.py:35: LightningDeprecationWarning: One of the returned values {'progress_bar', 'log'} has a `grad_fn`. We will detach it automatically but this behaviour will change in v1.6. Please detach it manually: `return {'loss': ..., 'something': something.detach()}`\n",
      "  rank_zero_deprecation(\n"
     ]
    },
    {
     "data": {
      "application/vnd.jupyter.widget-view+json": {
       "model_id": "06e344e6cef04360a5d8f9a133d2eb52",
       "version_major": 2,
       "version_minor": 0
      },
      "text/plain": [
       "Validating: 0it [00:00, ?it/s]"
      ]
     },
     "metadata": {},
     "output_type": "display_data"
    },
    {
     "data": {
      "application/vnd.jupyter.widget-view+json": {
       "model_id": "08e42e446c2246d9818625a9e01576e9",
       "version_major": 2,
       "version_minor": 0
      },
      "text/plain": [
       "Validating: 0it [00:00, ?it/s]"
      ]
     },
     "metadata": {},
     "output_type": "display_data"
    },
    {
     "data": {
      "application/vnd.jupyter.widget-view+json": {
       "model_id": "e32d82daa4f04ef4a3dd0279b4990c12",
       "version_major": 2,
       "version_minor": 0
      },
      "text/plain": [
       "Validating: 0it [00:00, ?it/s]"
      ]
     },
     "metadata": {},
     "output_type": "display_data"
    },
    {
     "data": {
      "application/vnd.jupyter.widget-view+json": {
       "model_id": "9201cf3fad234fc28f2c12f7fe80159f",
       "version_major": 2,
       "version_minor": 0
      },
      "text/plain": [
       "Validating: 0it [00:00, ?it/s]"
      ]
     },
     "metadata": {},
     "output_type": "display_data"
    },
    {
     "data": {
      "application/vnd.jupyter.widget-view+json": {
       "model_id": "d2670c93f7aa4af2b2db6de0bf00d873",
       "version_major": 2,
       "version_minor": 0
      },
      "text/plain": [
       "Validating: 0it [00:00, ?it/s]"
      ]
     },
     "metadata": {},
     "output_type": "display_data"
    },
    {
     "data": {
      "application/vnd.jupyter.widget-view+json": {
       "model_id": "66b76c9f8be641f1ac43dbe5b9145ce9",
       "version_major": 2,
       "version_minor": 0
      },
      "text/plain": [
       "Validating: 0it [00:00, ?it/s]"
      ]
     },
     "metadata": {},
     "output_type": "display_data"
    },
    {
     "data": {
      "application/vnd.jupyter.widget-view+json": {
       "model_id": "1b9cf4f836104b3e87cd00d698a930cc",
       "version_major": 2,
       "version_minor": 0
      },
      "text/plain": [
       "Validating: 0it [00:00, ?it/s]"
      ]
     },
     "metadata": {},
     "output_type": "display_data"
    },
    {
     "data": {
      "application/vnd.jupyter.widget-view+json": {
       "model_id": "bffb6fb8e3a941908a35bb010ad82bc2",
       "version_major": 2,
       "version_minor": 0
      },
      "text/plain": [
       "Validating: 0it [00:00, ?it/s]"
      ]
     },
     "metadata": {},
     "output_type": "display_data"
    },
    {
     "data": {
      "application/vnd.jupyter.widget-view+json": {
       "model_id": "a13a493a3c234518af00e906c1c6ae8d",
       "version_major": 2,
       "version_minor": 0
      },
      "text/plain": [
       "Validating: 0it [00:00, ?it/s]"
      ]
     },
     "metadata": {},
     "output_type": "display_data"
    },
    {
     "data": {
      "application/vnd.jupyter.widget-view+json": {
       "model_id": "65734ac730f6406ca7834e8c6ad754b5",
       "version_major": 2,
       "version_minor": 0
      },
      "text/plain": [
       "Validating: 0it [00:00, ?it/s]"
      ]
     },
     "metadata": {},
     "output_type": "display_data"
    },
    {
     "data": {
      "application/vnd.jupyter.widget-view+json": {
       "model_id": "a45f4b43ecb74abdb5e48eaedd994b9b",
       "version_major": 2,
       "version_minor": 0
      },
      "text/plain": [
       "Validating: 0it [00:00, ?it/s]"
      ]
     },
     "metadata": {},
     "output_type": "display_data"
    },
    {
     "data": {
      "application/vnd.jupyter.widget-view+json": {
       "model_id": "13ae985026e848289697220e781faa10",
       "version_major": 2,
       "version_minor": 0
      },
      "text/plain": [
       "Validating: 0it [00:00, ?it/s]"
      ]
     },
     "metadata": {},
     "output_type": "display_data"
    },
    {
     "data": {
      "application/vnd.jupyter.widget-view+json": {
       "model_id": "d1d379feae1b4c51917dadc478827611",
       "version_major": 2,
       "version_minor": 0
      },
      "text/plain": [
       "Validating: 0it [00:00, ?it/s]"
      ]
     },
     "metadata": {},
     "output_type": "display_data"
    },
    {
     "data": {
      "application/vnd.jupyter.widget-view+json": {
       "model_id": "40625c7f99d8404d93e4bac25239eb4c",
       "version_major": 2,
       "version_minor": 0
      },
      "text/plain": [
       "Validating: 0it [00:00, ?it/s]"
      ]
     },
     "metadata": {},
     "output_type": "display_data"
    },
    {
     "data": {
      "application/vnd.jupyter.widget-view+json": {
       "model_id": "4bd4e8d9bbe54065ac3ea35a2a7dcae9",
       "version_major": 2,
       "version_minor": 0
      },
      "text/plain": [
       "Validating: 0it [00:00, ?it/s]"
      ]
     },
     "metadata": {},
     "output_type": "display_data"
    },
    {
     "data": {
      "application/vnd.jupyter.widget-view+json": {
       "model_id": "18b8c9d78d3540dc8960187ca9541bcc",
       "version_major": 2,
       "version_minor": 0
      },
      "text/plain": [
       "Validating: 0it [00:00, ?it/s]"
      ]
     },
     "metadata": {},
     "output_type": "display_data"
    },
    {
     "data": {
      "application/vnd.jupyter.widget-view+json": {
       "model_id": "363c635850c44e25bfbea2706c4f13da",
       "version_major": 2,
       "version_minor": 0
      },
      "text/plain": [
       "Validating: 0it [00:00, ?it/s]"
      ]
     },
     "metadata": {},
     "output_type": "display_data"
    },
    {
     "data": {
      "application/vnd.jupyter.widget-view+json": {
       "model_id": "1c9db10cbad547499b5d92c2f9fbca69",
       "version_major": 2,
       "version_minor": 0
      },
      "text/plain": [
       "Validating: 0it [00:00, ?it/s]"
      ]
     },
     "metadata": {},
     "output_type": "display_data"
    },
    {
     "data": {
      "application/vnd.jupyter.widget-view+json": {
       "model_id": "d4581435e4524cccb2a92534fd81b452",
       "version_major": 2,
       "version_minor": 0
      },
      "text/plain": [
       "Validating: 0it [00:00, ?it/s]"
      ]
     },
     "metadata": {},
     "output_type": "display_data"
    },
    {
     "data": {
      "application/vnd.jupyter.widget-view+json": {
       "model_id": "93e3f32911524da6bf863c82606541da",
       "version_major": 2,
       "version_minor": 0
      },
      "text/plain": [
       "Validating: 0it [00:00, ?it/s]"
      ]
     },
     "metadata": {},
     "output_type": "display_data"
    },
    {
     "data": {
      "application/vnd.jupyter.widget-view+json": {
       "model_id": "15ee80aec7b94bd5865a1a8c345b25db",
       "version_major": 2,
       "version_minor": 0
      },
      "text/plain": [
       "Validating: 0it [00:00, ?it/s]"
      ]
     },
     "metadata": {},
     "output_type": "display_data"
    },
    {
     "data": {
      "application/vnd.jupyter.widget-view+json": {
       "model_id": "eb69926afa2d452281b56d20888b72db",
       "version_major": 2,
       "version_minor": 0
      },
      "text/plain": [
       "Validating: 0it [00:00, ?it/s]"
      ]
     },
     "metadata": {},
     "output_type": "display_data"
    },
    {
     "data": {
      "application/vnd.jupyter.widget-view+json": {
       "model_id": "9c549531565d410bb8d5da59f9e04d32",
       "version_major": 2,
       "version_minor": 0
      },
      "text/plain": [
       "Validating: 0it [00:00, ?it/s]"
      ]
     },
     "metadata": {},
     "output_type": "display_data"
    },
    {
     "data": {
      "application/vnd.jupyter.widget-view+json": {
       "model_id": "c58fe8df86a940318c5ee978e400c839",
       "version_major": 2,
       "version_minor": 0
      },
      "text/plain": [
       "Validating: 0it [00:00, ?it/s]"
      ]
     },
     "metadata": {},
     "output_type": "display_data"
    },
    {
     "data": {
      "application/vnd.jupyter.widget-view+json": {
       "model_id": "eda48f4ae88347fbb64283862d5ac724",
       "version_major": 2,
       "version_minor": 0
      },
      "text/plain": [
       "Validating: 0it [00:00, ?it/s]"
      ]
     },
     "metadata": {},
     "output_type": "display_data"
    },
    {
     "data": {
      "application/vnd.jupyter.widget-view+json": {
       "model_id": "15a2697132ec4a14b305ef981c3d1c23",
       "version_major": 2,
       "version_minor": 0
      },
      "text/plain": [
       "Validating: 0it [00:00, ?it/s]"
      ]
     },
     "metadata": {},
     "output_type": "display_data"
    },
    {
     "data": {
      "application/vnd.jupyter.widget-view+json": {
       "model_id": "c3e5bc28d95349d0af4d726da3f31068",
       "version_major": 2,
       "version_minor": 0
      },
      "text/plain": [
       "Validating: 0it [00:00, ?it/s]"
      ]
     },
     "metadata": {},
     "output_type": "display_data"
    },
    {
     "data": {
      "application/vnd.jupyter.widget-view+json": {
       "model_id": "6e8c6f1f9fc843aa8fe164d28fa4855b",
       "version_major": 2,
       "version_minor": 0
      },
      "text/plain": [
       "Validating: 0it [00:00, ?it/s]"
      ]
     },
     "metadata": {},
     "output_type": "display_data"
    },
    {
     "data": {
      "application/vnd.jupyter.widget-view+json": {
       "model_id": "3f08e96b38ea4bbba08536afa3326631",
       "version_major": 2,
       "version_minor": 0
      },
      "text/plain": [
       "Validating: 0it [00:00, ?it/s]"
      ]
     },
     "metadata": {},
     "output_type": "display_data"
    },
    {
     "data": {
      "application/vnd.jupyter.widget-view+json": {
       "model_id": "4cab262217fe4d7f82340ee2f46cbed5",
       "version_major": 2,
       "version_minor": 0
      },
      "text/plain": [
       "Validating: 0it [00:00, ?it/s]"
      ]
     },
     "metadata": {},
     "output_type": "display_data"
    },
    {
     "data": {
      "application/vnd.jupyter.widget-view+json": {
       "model_id": "e533f81478804735a55529a1670f15a7",
       "version_major": 2,
       "version_minor": 0
      },
      "text/plain": [
       "Validating: 0it [00:00, ?it/s]"
      ]
     },
     "metadata": {},
     "output_type": "display_data"
    },
    {
     "data": {
      "application/vnd.jupyter.widget-view+json": {
       "model_id": "0e54b6db59804944823387544d242b14",
       "version_major": 2,
       "version_minor": 0
      },
      "text/plain": [
       "Validating: 0it [00:00, ?it/s]"
      ]
     },
     "metadata": {},
     "output_type": "display_data"
    },
    {
     "data": {
      "application/vnd.jupyter.widget-view+json": {
       "model_id": "3a647cd86283417495cb4d5315495715",
       "version_major": 2,
       "version_minor": 0
      },
      "text/plain": [
       "Validating: 0it [00:00, ?it/s]"
      ]
     },
     "metadata": {},
     "output_type": "display_data"
    },
    {
     "data": {
      "application/vnd.jupyter.widget-view+json": {
       "model_id": "6d363d46ad824829ae4e7c7f77d0417a",
       "version_major": 2,
       "version_minor": 0
      },
      "text/plain": [
       "Validating: 0it [00:00, ?it/s]"
      ]
     },
     "metadata": {},
     "output_type": "display_data"
    },
    {
     "data": {
      "application/vnd.jupyter.widget-view+json": {
       "model_id": "53fd0409fbce4d47bb7531e1bc2dd969",
       "version_major": 2,
       "version_minor": 0
      },
      "text/plain": [
       "Validating: 0it [00:00, ?it/s]"
      ]
     },
     "metadata": {},
     "output_type": "display_data"
    },
    {
     "data": {
      "application/vnd.jupyter.widget-view+json": {
       "model_id": "c97822c2dda44136ad042dcf3e520cd6",
       "version_major": 2,
       "version_minor": 0
      },
      "text/plain": [
       "Validating: 0it [00:00, ?it/s]"
      ]
     },
     "metadata": {},
     "output_type": "display_data"
    },
    {
     "data": {
      "application/vnd.jupyter.widget-view+json": {
       "model_id": "978b7b40941643a3a7352cb2a21fd097",
       "version_major": 2,
       "version_minor": 0
      },
      "text/plain": [
       "Validating: 0it [00:00, ?it/s]"
      ]
     },
     "metadata": {},
     "output_type": "display_data"
    },
    {
     "data": {
      "application/vnd.jupyter.widget-view+json": {
       "model_id": "b15aee9533ac417f96bd379d1cccba31",
       "version_major": 2,
       "version_minor": 0
      },
      "text/plain": [
       "Validating: 0it [00:00, ?it/s]"
      ]
     },
     "metadata": {},
     "output_type": "display_data"
    },
    {
     "data": {
      "application/vnd.jupyter.widget-view+json": {
       "model_id": "f31c949af18248ecb887a808561b0a3a",
       "version_major": 2,
       "version_minor": 0
      },
      "text/plain": [
       "Validating: 0it [00:00, ?it/s]"
      ]
     },
     "metadata": {},
     "output_type": "display_data"
    },
    {
     "data": {
      "application/vnd.jupyter.widget-view+json": {
       "model_id": "fcf9111902d5493ea8ed3f2cacea263e",
       "version_major": 2,
       "version_minor": 0
      },
      "text/plain": [
       "Validating: 0it [00:00, ?it/s]"
      ]
     },
     "metadata": {},
     "output_type": "display_data"
    },
    {
     "data": {
      "application/vnd.jupyter.widget-view+json": {
       "model_id": "a38e68ef02aa464b88baad4fb633145a",
       "version_major": 2,
       "version_minor": 0
      },
      "text/plain": [
       "Validating: 0it [00:00, ?it/s]"
      ]
     },
     "metadata": {},
     "output_type": "display_data"
    },
    {
     "data": {
      "application/vnd.jupyter.widget-view+json": {
       "model_id": "61ae0958b3d84965a342213a59f90b83",
       "version_major": 2,
       "version_minor": 0
      },
      "text/plain": [
       "Validating: 0it [00:00, ?it/s]"
      ]
     },
     "metadata": {},
     "output_type": "display_data"
    },
    {
     "data": {
      "application/vnd.jupyter.widget-view+json": {
       "model_id": "c808396c810b495e806a556346446d4b",
       "version_major": 2,
       "version_minor": 0
      },
      "text/plain": [
       "Validating: 0it [00:00, ?it/s]"
      ]
     },
     "metadata": {},
     "output_type": "display_data"
    },
    {
     "data": {
      "application/vnd.jupyter.widget-view+json": {
       "model_id": "0e6783337da041708ca73b2789c44d35",
       "version_major": 2,
       "version_minor": 0
      },
      "text/plain": [
       "Validating: 0it [00:00, ?it/s]"
      ]
     },
     "metadata": {},
     "output_type": "display_data"
    },
    {
     "data": {
      "application/vnd.jupyter.widget-view+json": {
       "model_id": "0e0d4a530364475eb90da26cb01b4f57",
       "version_major": 2,
       "version_minor": 0
      },
      "text/plain": [
       "Validating: 0it [00:00, ?it/s]"
      ]
     },
     "metadata": {},
     "output_type": "display_data"
    },
    {
     "data": {
      "application/vnd.jupyter.widget-view+json": {
       "model_id": "2a98ab1dddc14604b57b60724ce4cee4",
       "version_major": 2,
       "version_minor": 0
      },
      "text/plain": [
       "Validating: 0it [00:00, ?it/s]"
      ]
     },
     "metadata": {},
     "output_type": "display_data"
    },
    {
     "data": {
      "application/vnd.jupyter.widget-view+json": {
       "model_id": "1f34640c90774da7a55f8c549c611cfc",
       "version_major": 2,
       "version_minor": 0
      },
      "text/plain": [
       "Validating: 0it [00:00, ?it/s]"
      ]
     },
     "metadata": {},
     "output_type": "display_data"
    },
    {
     "data": {
      "application/vnd.jupyter.widget-view+json": {
       "model_id": "597d5f28b49e4dc78318d3d710b4d64d",
       "version_major": 2,
       "version_minor": 0
      },
      "text/plain": [
       "Validating: 0it [00:00, ?it/s]"
      ]
     },
     "metadata": {},
     "output_type": "display_data"
    },
    {
     "data": {
      "application/vnd.jupyter.widget-view+json": {
       "model_id": "d22fc3b04bd146baa876fa1c81e9915a",
       "version_major": 2,
       "version_minor": 0
      },
      "text/plain": [
       "Validating: 0it [00:00, ?it/s]"
      ]
     },
     "metadata": {},
     "output_type": "display_data"
    },
    {
     "data": {
      "application/vnd.jupyter.widget-view+json": {
       "model_id": "ac23644072b742e7b238f5860a65844d",
       "version_major": 2,
       "version_minor": 0
      },
      "text/plain": [
       "Validating: 0it [00:00, ?it/s]"
      ]
     },
     "metadata": {},
     "output_type": "display_data"
    }
   ],
   "source": [
    "eu.train.fit(\n",
    "    model=model,\n",
    "    sdata=sdata,\n",
    "    epochs=50,\n",
    "    gpus=1,\n",
    "    model_checkpoint_monitor=None,\n",
    "    early_stopping_metric=None,\n",
    "    name=\"wgangp\"\n",
    ")"
   ]
  },
  {
   "cell_type": "code",
   "execution_count": 18,
   "id": "4e18380b",
   "metadata": {},
   "outputs": [
    {
     "name": "stderr",
     "output_type": "stream",
     "text": [
      "UsageError: Line magic function `%tensorboard` not found.\n"
     ]
    }
   ],
   "source": [
    "%tensorboard"
   ]
  },
  {
   "cell_type": "markdown",
   "id": "aef1febb",
   "metadata": {},
   "source": [
    "# Analysis"
   ]
  },
  {
   "cell_type": "code",
   "execution_count": 1,
   "id": "65bc17e8",
   "metadata": {},
   "outputs": [
    {
     "name": "stderr",
     "output_type": "stream",
     "text": [
      "Global seed set to 13\n"
     ]
    },
    {
     "name": "stdout",
     "output_type": "stream",
     "text": [
      "GPU is available: True\n",
      "Number of GPUs: 1\n",
      "Current GPU: 0\n",
      "GPUs: NVIDIA GeForce RTX 2070\n"
     ]
    },
    {
     "data": {
      "text/plain": [
       "'0.0.6'"
      ]
     },
     "execution_count": 1,
     "metadata": {},
     "output_type": "execute_result"
    }
   ],
   "source": [
    "import os\n",
    "import pandas as pd\n",
    "import numpy as np\n",
    "import torch\n",
    "\n",
    "# Autoreload extension\n",
    "if 'autoreload' not in get_ipython().extension_manager.loaded:\n",
    "    %load_ext autoreload\n",
    "%autoreload 2\n",
    "\n",
    "# Basic import\n",
    "import eugene as eu\n",
    "\n",
    "eu.__version__"
   ]
  },
  {
   "cell_type": "code",
   "execution_count": 16,
   "id": "6b0637ea",
   "metadata": {},
   "outputs": [],
   "source": [
    "model = eu.models.GAN.load_from_checkpoint(checkpoint_path=\"eugene_logs/wgangp/version_0/checkpoints/epoch=49-step=72049.ckpt\", hparams_file=\"eugene_logs/wgangp/version_0/hparams.yaml\")"
   ]
  },
  {
   "cell_type": "code",
   "execution_count": 17,
   "id": "c37796b0",
   "metadata": {},
   "outputs": [
    {
     "data": {
      "text/plain": [
       "GAN(\n",
       "  (generator): Generator(\n",
       "    (linear): Linear(in_features=128, out_features=6400, bias=True)\n",
       "    (elu): ELU(alpha=1.0)\n",
       "    (view): View(128, 50)\n",
       "    (res_blocks): Sequential(\n",
       "      (0): ResidualBlock(\n",
       "        (relu): ReLU()\n",
       "        (conv): Conv1d(128, 128, kernel_size=(5,), stride=(1,), padding=(2,))\n",
       "      )\n",
       "      (1): ResidualBlock(\n",
       "        (relu): ReLU()\n",
       "        (conv): Conv1d(128, 128, kernel_size=(5,), stride=(1,), padding=(2,))\n",
       "      )\n",
       "      (2): ResidualBlock(\n",
       "        (relu): ReLU()\n",
       "        (conv): Conv1d(128, 128, kernel_size=(5,), stride=(1,), padding=(2,))\n",
       "      )\n",
       "      (3): ResidualBlock(\n",
       "        (relu): ReLU()\n",
       "        (conv): Conv1d(128, 128, kernel_size=(5,), stride=(1,), padding=(2,))\n",
       "      )\n",
       "      (4): ResidualBlock(\n",
       "        (relu): ReLU()\n",
       "        (conv): Conv1d(128, 128, kernel_size=(5,), stride=(1,), padding=(2,))\n",
       "      )\n",
       "    )\n",
       "    (conv): Conv1d(128, 4, kernel_size=(1,), stride=(1,))\n",
       "    (softmax): Softmax(dim=1)\n",
       "  )\n",
       "  (discriminator): Discriminator(\n",
       "    (conv): Conv1d(4, 128, kernel_size=(1,), stride=(1,))\n",
       "    (res_blocks): Sequential(\n",
       "      (0): ResidualBlock(\n",
       "        (relu): ReLU()\n",
       "        (conv): Conv1d(128, 128, kernel_size=(5,), stride=(1,), padding=(2,))\n",
       "      )\n",
       "      (1): ResidualBlock(\n",
       "        (relu): ReLU()\n",
       "        (conv): Conv1d(128, 128, kernel_size=(5,), stride=(1,), padding=(2,))\n",
       "      )\n",
       "      (2): ResidualBlock(\n",
       "        (relu): ReLU()\n",
       "        (conv): Conv1d(128, 128, kernel_size=(5,), stride=(1,), padding=(2,))\n",
       "      )\n",
       "      (3): ResidualBlock(\n",
       "        (relu): ReLU()\n",
       "        (conv): Conv1d(128, 128, kernel_size=(5,), stride=(1,), padding=(2,))\n",
       "      )\n",
       "      (4): ResidualBlock(\n",
       "        (relu): ReLU()\n",
       "        (conv): Conv1d(128, 128, kernel_size=(5,), stride=(1,), padding=(2,))\n",
       "      )\n",
       "    )\n",
       "    (view): View(6400,)\n",
       "    (linear): Linear(in_features=6400, out_features=1, bias=True)\n",
       "    (sigmoid): Sigmoid()\n",
       "  )\n",
       ")"
      ]
     },
     "execution_count": 17,
     "metadata": {},
     "output_type": "execute_result"
    }
   ],
   "source": [
    "model"
   ]
  },
  {
   "cell_type": "code",
   "execution_count": 33,
   "id": "e031a93b",
   "metadata": {},
   "outputs": [],
   "source": [
    "gen_seqs = eu.interpret.generate_seqs_from_model(model, 1000)"
   ]
  },
  {
   "cell_type": "code",
   "execution_count": 20,
   "id": "277c1a10",
   "metadata": {},
   "outputs": [],
   "source": [
    "with open(\"output/gen_seqs.txt\", \"w\") as txt_file:\n",
    "    for line in gen_seqs:\n",
    "        txt_file.write(\"\".join(line) + \"\\n\")"
   ]
  },
  {
   "cell_type": "markdown",
   "id": "76a3a81e",
   "metadata": {},
   "source": [
    "### k-mer frequencies"
   ]
  },
  {
   "cell_type": "code",
   "execution_count": 22,
   "id": "612bd216",
   "metadata": {},
   "outputs": [],
   "source": [
    "gen_sdata = eu.dl.read_csv(\"output/gen_seqs.txt\", \"seqs\")"
   ]
  },
  {
   "cell_type": "code",
   "execution_count": 23,
   "id": "15a12d84",
   "metadata": {},
   "outputs": [
    {
     "ename": "NameError",
     "evalue": "name 'sdata' is not defined",
     "output_type": "error",
     "traceback": [
      "\u001b[1;31m---------------------------------------------------------------------------\u001b[0m",
      "\u001b[1;31mNameError\u001b[0m                                 Traceback (most recent call last)",
      "Cell \u001b[1;32mIn [23], line 2\u001b[0m\n\u001b[0;32m      1\u001b[0m k \u001b[39m=\u001b[39m \u001b[39m2\u001b[39m\n\u001b[1;32m----> 2\u001b[0m real_freqs \u001b[39m=\u001b[39m eu\u001b[39m.\u001b[39minterpret\u001b[39m.\u001b[39mcount_kmers_sdata(sdata, k, \u001b[39mTrue\u001b[39;00m)\n\u001b[0;32m      3\u001b[0m gen_freqs \u001b[39m=\u001b[39m eu\u001b[39m.\u001b[39minterpret\u001b[39m.\u001b[39mcount_kmers_sdata(gen_sdata, k, \u001b[39mTrue\u001b[39;00m)\n",
      "\u001b[1;31mNameError\u001b[0m: name 'sdata' is not defined"
     ]
    }
   ],
   "source": [
    "k = 2\n",
    "real_freqs = eu.interpret.count_kmers_sdata(sdata, k, True)\n",
    "gen_freqs = eu.interpret.count_kmers_sdata(gen_sdata, k, True)"
   ]
  },
  {
   "cell_type": "code",
   "execution_count": 23,
   "id": "87f427ab",
   "metadata": {},
   "outputs": [],
   "source": [
    "ratio = {}\n",
    "for kmer in real_freqs:\n",
    "    ratio[kmer] = gen_freqs[kmer] / real_freqs[kmer]"
   ]
  },
  {
   "cell_type": "code",
   "execution_count": 24,
   "id": "db4aeb2f",
   "metadata": {},
   "outputs": [
    {
     "data": {
      "text/plain": [
       "{'AT': 0.7687944042409162,\n",
       " 'TT': 3.0548026685393257,\n",
       " 'TA': 0.7991582280432729,\n",
       " 'AG': 0.43275136497374334,\n",
       " 'GC': 0.660240267155274,\n",
       " 'CA': 0.4757463351646344,\n",
       " 'AC': 0.37366231997296956,\n",
       " 'CT': 1.432990130074833,\n",
       " 'AA': 0.19625258268898338,\n",
       " 'GA': 0.3527844537449675,\n",
       " 'TC': 1.526787946188235,\n",
       " 'TG': 1.3442401609534893,\n",
       " 'GG': 0.6853700409638239,\n",
       " 'CC': 0.6939692085205791,\n",
       " 'GT': 1.577839802602694,\n",
       " 'CG': 0.02773318898111392}"
      ]
     },
     "execution_count": 24,
     "metadata": {},
     "output_type": "execute_result"
    }
   ],
   "source": [
    "ratio"
   ]
  },
  {
   "cell_type": "markdown",
   "id": "6fd9998d",
   "metadata": {},
   "source": [
    "### Edit distance"
   ]
  },
  {
   "cell_type": "code",
   "execution_count": 25,
   "id": "55e4e2b0",
   "metadata": {},
   "outputs": [],
   "source": [
    "n = 1000\n",
    "sdata_train = downsample_sdata(sdata[np.where(sdata.seqs_annot[\"train_val\"] == True)[0]], n)\n",
    "sdata_test = downsample_sdata(sdata[np.where(sdata.seqs_annot[\"train_val\"] != True)[0]], n)\n",
    "gen_sdata = eu.dl.read_csv(\"gen_seqs.txt\", \"seqs\")"
   ]
  },
  {
   "cell_type": "code",
   "execution_count": 30,
   "id": "ae51f6fd",
   "metadata": {},
   "outputs": [],
   "source": [
    "base_distances = eu.interpret.edit_distance_sdata(sdata_train, sdata_test, True, True)\n",
    "gen_distances = eu.interpret.edit_distance_sdata(gen_sdata, sdata_test, True, True)"
   ]
  },
  {
   "cell_type": "code",
   "execution_count": 31,
   "id": "04ee2871",
   "metadata": {},
   "outputs": [
    {
     "name": "stdout",
     "output_type": "stream",
     "text": [
      "35.438 35.197\n"
     ]
    }
   ],
   "source": [
    "print(base_distances, gen_distances)"
   ]
  },
  {
   "cell_type": "markdown",
   "id": "3b54da48",
   "metadata": {},
   "source": [
    "### Latent interpolation"
   ]
  },
  {
   "cell_type": "code",
   "execution_count": 32,
   "id": "289284f4",
   "metadata": {},
   "outputs": [],
   "source": [
    "samples = 10\n",
    "seqs = eu.interpret.latent_interpolation(latent_dim, samples, model=gen, normal=True, inclusive=True)"
   ]
  },
  {
   "cell_type": "code",
   "execution_count": 33,
   "id": "edfbf94f",
   "metadata": {},
   "outputs": [
    {
     "data": {
      "text/plain": [
       "[array(['TCTTTTTTTCTTTTCTGCTTTCCACATTTTGATTTCCTTTTATTTCTTTC'], dtype='<U50'),\n",
       " array(['TCTTTTTTTCTTTTCTGCTTTCCACATTTTGATTGCCTTTTGTTTCTTTA'], dtype='<U50'),\n",
       " array(['TCTTTTTTTCTTTTCTGCTGTACACATTTTGATTGTCTTTTGCTTCTTTA'], dtype='<U50'),\n",
       " array(['TCTTTTTTTCTTCCCTGCTGTACACACTTTGATTGTCTTTTGCTTCTGTA'], dtype='<U50'),\n",
       " array(['TCTTTTTTTCTTCCCTGCAGTACACACTTAGATTGTCTTTTGCTTCTGTA'], dtype='<U50'),\n",
       " array(['TCTTTTCTTTTTCCTTGCAGCATACACTTAGAATGTCTTTTTCTTCTGTA'], dtype='<U50'),\n",
       " array(['TCTTTTCTTTTTCCTTGCAGCATACACTTAGAATGTCTTTTTCTTCTGTA'], dtype='<U50'),\n",
       " array(['TTTTTTCTTTTTCCTTGAAACATACACTGAGGATGTCTTTTTCTTCTGTA'], dtype='<U50'),\n",
       " array(['TTTTTTGTTTTTCCCTGAAACATACACTCAGGATGTCTTTGTGTTCTGTA'], dtype='<U50'),\n",
       " array(['TTTTTTGTTTTCCACTGACACATTCACTAAGGATGTCTTTGTGTTCAATA'], dtype='<U50'),\n",
       " array(['GTTTTTGTTTTCCACAGACAGCTTCACTAAGTATGTCTTTGTGTTCAAGA'], dtype='<U50'),\n",
       " array(['ATTTGTGTTTTCCACAGACAGCTGCCCTAAGTATGTCTTTGTATTCAAGA'], dtype='<U50')]"
      ]
     },
     "execution_count": 33,
     "metadata": {},
     "output_type": "execute_result"
    }
   ],
   "source": [
    "seqs"
   ]
  },
  {
   "attachments": {},
   "cell_type": "markdown",
   "id": "06b8b7c4",
   "metadata": {},
   "source": [
    "### Negative latent space"
   ]
  },
  {
   "cell_type": "code",
   "execution_count": 124,
   "id": "b3bc00f2",
   "metadata": {},
   "outputs": [],
   "source": [
    "num_seqs = 1000\n",
    "z = torch.normal(0, 1, (num_seqs, latent_dim))"
   ]
  },
  {
   "cell_type": "code",
   "execution_count": 125,
   "id": "e8409bcf",
   "metadata": {},
   "outputs": [],
   "source": [
    "def complement_edit_distances(z, num_seqs):\n",
    "    z_neg = -z\n",
    "\n",
    "    seqs = eu.interpret.seqs_from_tensor(model(z), num_seqs)\n",
    "    seqs_neg = eu.interpret.seqs_from_tensor(model(z_neg), num_seqs)\n",
    "\n",
    "    bases = {\"A\" : \"T\", \"T\" : \"A\", \"C\" : \"G\", \"G\" : \"C\"}\n",
    "    for idx, seq in enumerate(seqs_neg):\n",
    "        seq = list(seq)\n",
    "        for _idx, x in enumerate(seq):\n",
    "            seq[_idx] = bases[x]\n",
    "        seq = ''.join(seq)\n",
    "        seqs_neg[idx] = seq\n",
    "\n",
    "    distances = []\n",
    "    for x in range(len(seqs)):\n",
    "        distances.append(eu.interpret.edit_distance(seqs[x], seqs_neg[x]))\n",
    "\n",
    "    return sum(distances) / len(distances)\n"
   ]
  },
  {
   "cell_type": "code",
   "execution_count": 126,
   "id": "9986372b",
   "metadata": {},
   "outputs": [
    {
     "data": {
      "text/plain": [
       "34.894"
      ]
     },
     "execution_count": 126,
     "metadata": {},
     "output_type": "execute_result"
    }
   ],
   "source": [
    "complement_edit_distances(z, num_seqs)"
   ]
  }
 ],
 "metadata": {
  "kernelspec": {
   "display_name": "Python 3.10.4 ('eugene')",
   "language": "python",
   "name": "python3"
  },
  "language_info": {
   "codemirror_mode": {
    "name": "ipython",
    "version": 3
   },
   "file_extension": ".py",
   "mimetype": "text/x-python",
   "name": "python",
   "nbconvert_exporter": "python",
   "pygments_lexer": "ipython3",
   "version": "3.10.4 | packaged by conda-forge | (main, Mar 30 2022, 08:38:02) [MSC v.1916 64 bit (AMD64)]"
  },
  "vscode": {
   "interpreter": {
    "hash": "3dbbff05fc9c23df2b8cfb8dfa1c8cab53b5b79b84eaada81073f79339e0e490"
   }
  }
 },
 "nbformat": 4,
 "nbformat_minor": 5
}

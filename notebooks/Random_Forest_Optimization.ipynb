{
 "cells": [
  {
   "cell_type": "markdown",
   "id": "af780d3d-6182-4d11-b403-9ca9599bd793",
   "metadata": {},
   "source": [
    "# Random Forests Hyperparameter Optimization Notebooks\n",
    "Adam Klie\n",
    "08/14/2021\n",
    "\n",
    "Notebook to get hyperparemter optimization working for RFs"
   ]
  },
  {
   "cell_type": "code",
   "execution_count": 5,
   "id": "a66fa4a6-f4ec-4d22-b054-0582fb62f00c",
   "metadata": {
    "execution": {
     "iopub.execute_input": "2021-09-27T01:00:08.963788Z",
     "iopub.status.busy": "2021-09-27T01:00:08.963362Z",
     "iopub.status.idle": "2021-09-27T01:00:40.811099Z",
     "shell.execute_reply": "2021-09-27T01:00:40.810400Z",
     "shell.execute_reply.started": "2021-09-27T01:00:08.963726Z"
    },
    "tags": []
   },
   "outputs": [],
   "source": [
    "# Classics\n",
    "import pandas as pd\n",
    "import numpy as np\n",
    "import os\n",
    "import seaborn as sns\n",
    "import matplotlib.pyplot as plt\n",
    "\n",
    "# Sklearn\n",
    "from sklearn.ensemble import RandomForestClassifier\n",
    "from sklearn.metrics import roc_curve, auc\n",
    "\n",
    "# Optuna\n",
    "import optuna\n",
    "import joblib\n",
    "\n",
    "# Autoreload extension\n",
    "if 'autoreload' not in get_ipython().extension_manager.loaded:\n",
    "    %load_ext autoreload\n",
    "    \n",
    "%autoreload 2"
   ]
  },
  {
   "cell_type": "code",
   "execution_count": 3,
   "id": "b7cd0169-8003-4e55-bd21-7abea71ba09d",
   "metadata": {
    "execution": {
     "iopub.execute_input": "2021-09-22T00:02:53.727839Z",
     "iopub.status.busy": "2021-09-22T00:02:53.727586Z",
     "iopub.status.idle": "2021-09-22T00:02:54.279566Z",
     "shell.execute_reply": "2021-09-22T00:02:54.278669Z",
     "shell.execute_reply.started": "2021-09-22T00:02:53.727798Z"
    },
    "tags": []
   },
   "outputs": [],
   "source": [
    "import sys\n",
    "sys.path.append('/cellar/users/aklie/projects/EUGENE/bin/')\n",
    "import project_utils"
   ]
  },
  {
   "cell_type": "code",
   "execution_count": 4,
   "id": "05642938-5b9f-4df9-96aa-b776a585cc2e",
   "metadata": {
    "execution": {
     "iopub.execute_input": "2021-09-22T00:02:54.281314Z",
     "iopub.status.busy": "2021-09-22T00:02:54.281080Z",
     "iopub.status.idle": "2021-09-22T00:02:54.899709Z",
     "shell.execute_reply": "2021-09-22T00:02:54.898963Z",
     "shell.execute_reply.started": "2021-09-22T00:02:54.281283Z"
    },
    "tags": []
   },
   "outputs": [],
   "source": [
    "import RF_clf_hyperopt"
   ]
  },
  {
   "cell_type": "markdown",
   "id": "2bf7ea67-d44c-4399-a95a-12be68c7dc55",
   "metadata": {},
   "source": [
    "# Script Testing"
   ]
  },
  {
   "cell_type": "markdown",
   "id": "764950ff-70a6-469e-ab12-1894154ae5fa",
   "metadata": {
    "execution": {
     "iopub.execute_input": "2021-08-15T15:09:54.739686Z",
     "iopub.status.busy": "2021-08-15T15:09:54.739382Z",
     "iopub.status.idle": "2021-08-15T15:09:54.760073Z",
     "shell.execute_reply": "2021-08-15T15:09:54.752699Z",
     "shell.execute_reply.started": "2021-08-15T15:09:54.739650Z"
    }
   },
   "source": [
    "**Create a study**"
   ]
  },
  {
   "cell_type": "code",
   "execution_count": 44,
   "id": "6b26620f-b2f2-470b-88e8-d5c6119828c2",
   "metadata": {
    "execution": {
     "iopub.execute_input": "2021-08-14T19:20:06.938812Z",
     "iopub.status.busy": "2021-08-14T19:20:06.938503Z",
     "iopub.status.idle": "2021-08-14T19:20:07.908016Z",
     "shell.execute_reply": "2021-08-14T19:20:07.907262Z",
     "shell.execute_reply.started": "2021-08-14T19:20:06.938772Z"
    },
    "tags": []
   },
   "outputs": [
    {
     "name": "stderr",
     "output_type": "stream",
     "text": [
      "\u001b[32m[I 2021-08-14 12:20:07,903]\u001b[0m A new study created in memory with name: no-name-dbfa87ab-3f63-4047-a118-07007317fe43\u001b[0m\n"
     ]
    }
   ],
   "source": [
    "# Create a study\n",
    "study = optuna.create_study(direction=\"maximize\", study_name='test')"
   ]
  },
  {
   "cell_type": "markdown",
   "id": "2adc3d4d-a8aa-429f-80bb-1cc7dbe5d626",
   "metadata": {},
   "source": [
    "**Train/test split**"
   ]
  },
  {
   "cell_type": "code",
   "execution_count": 43,
   "id": "d5b7f75a-c7f4-447d-94c3-381f6166c23f",
   "metadata": {
    "execution": {
     "iopub.execute_input": "2021-08-14T19:20:03.940671Z",
     "iopub.status.busy": "2021-08-14T19:20:03.940236Z",
     "iopub.status.idle": "2021-08-14T19:20:05.028484Z",
     "shell.execute_reply": "2021-08-14T19:20:05.027578Z",
     "shell.execute_reply.started": "2021-08-14T19:20:03.940618Z"
    },
    "tags": []
   },
   "outputs": [],
   "source": [
    "from sklearn.model_selection import train_test_split"
   ]
  },
  {
   "cell_type": "code",
   "execution_count": 45,
   "id": "1738d338-b2ac-4cc6-9d69-43e646a15cdd",
   "metadata": {
    "execution": {
     "iopub.execute_input": "2021-08-14T19:20:09.079298Z",
     "iopub.status.busy": "2021-08-14T19:20:09.079061Z",
     "iopub.status.idle": "2021-08-14T19:20:17.225632Z",
     "shell.execute_reply": "2021-08-14T19:20:17.224843Z",
     "shell.execute_reply.started": "2021-08-14T19:20:09.079269Z"
    },
    "tags": []
   },
   "outputs": [
    {
     "name": "stdout",
     "output_type": "stream",
     "text": [
      "Loading data...\n",
      "\n"
     ]
    }
   ],
   "source": [
    "print('Loading data...\\n')\n",
    "X, y = np.loadtxt('../data/2021_OLS_Library/mixed/X_mixed_0.18-0.4.txt', delimiter=' ', dtype=float), np.loadtxt('../data/2021_OLS_Library/y_binary_0.18-0.4.txt', delimiter=' ', dtype=int)\n",
    "    \n",
    "# For testing\n",
    "X, y = X[:100], y[:100]\n",
    "\n",
    "# Train/test split\n",
    "X_train, X_test, y_train, y_test = train_test_split(X, y, train_size=0.9, random_state=13, shuffle=True)"
   ]
  },
  {
   "cell_type": "markdown",
   "id": "4c7b3f9b-17f0-4859-a1cb-1a8147911dcf",
   "metadata": {},
   "source": [
    "**Optimize**"
   ]
  },
  {
   "cell_type": "code",
   "execution_count": 46,
   "id": "f0d2e244-6ee6-483a-8a20-1a86fb0f616e",
   "metadata": {
    "collapsed": true,
    "execution": {
     "iopub.execute_input": "2021-08-14T19:20:18.323318Z",
     "iopub.status.busy": "2021-08-14T19:20:18.322988Z",
     "iopub.status.idle": "2021-08-14T19:20:26.874518Z",
     "shell.execute_reply": "2021-08-14T19:20:26.873734Z",
     "shell.execute_reply.started": "2021-08-14T19:20:18.323276Z"
    },
    "jupyter": {
     "outputs_hidden": true
    },
    "tags": []
   },
   "outputs": [
    {
     "name": "stderr",
     "output_type": "stream",
     "text": [
      "/cellar/users/aklie/opt/miniconda3/envs/ml_env/lib/python3.8/site-packages/optuna/study/study.py:393: FutureWarning: `n_jobs` argument has been deprecated in v2.7.0. This feature will be removed in v4.0.0. See https://github.com/optuna/optuna/releases/tag/v2.7.0.\n",
      "  warnings.warn(\n"
     ]
    },
    {
     "name": "stdout",
     "output_type": "stream",
     "text": [
      "Starting trial number 0\n",
      "\n",
      "Starting trial number 1\n",
      "\n"
     ]
    },
    {
     "name": "stderr",
     "output_type": "stream",
     "text": [
      "\u001b[32m[I 2021-08-14 12:20:19,927]\u001b[0m Trial 0 finished with value: 0.7916666666666667 and parameters: {'RF_n_estimators': 204, 'RF_min_samples_split': 5, 'RF_min_samples_leaf': 2, 'RF_bootstrap': False}. Best is trial 0 with value: 0.7916666666666667.\u001b[0m\n"
     ]
    },
    {
     "name": "stdout",
     "output_type": "stream",
     "text": [
      "Trial number 0 complete\n",
      "\n",
      "Starting trial number 2\n",
      "\n"
     ]
    },
    {
     "name": "stderr",
     "output_type": "stream",
     "text": [
      "\u001b[32m[I 2021-08-14 12:20:20,501]\u001b[0m Trial 1 finished with value: 0.8333333333333333 and parameters: {'RF_n_estimators': 415, 'RF_min_samples_split': 8, 'RF_min_samples_leaf': 1, 'RF_bootstrap': False}. Best is trial 1 with value: 0.8333333333333333.\u001b[0m\n"
     ]
    },
    {
     "name": "stdout",
     "output_type": "stream",
     "text": [
      "Trial number 1 complete\n",
      "\n",
      "Starting trial number 3\n",
      "\n"
     ]
    },
    {
     "name": "stderr",
     "output_type": "stream",
     "text": [
      "\u001b[32m[I 2021-08-14 12:20:20,918]\u001b[0m Trial 2 finished with value: 0.875 and parameters: {'RF_n_estimators': 343, 'RF_min_samples_split': 6, 'RF_min_samples_leaf': 5, 'RF_bootstrap': False}. Best is trial 2 with value: 0.875.\u001b[0m\n"
     ]
    },
    {
     "name": "stdout",
     "output_type": "stream",
     "text": [
      "Trial number 2 complete\n",
      "\n",
      "Starting trial number 4\n",
      "\n"
     ]
    },
    {
     "name": "stderr",
     "output_type": "stream",
     "text": [
      "\u001b[32m[I 2021-08-14 12:20:21,194]\u001b[0m Trial 4 finished with value: 0.7916666666666666 and parameters: {'RF_n_estimators': 110, 'RF_min_samples_split': 9, 'RF_min_samples_leaf': 5, 'RF_bootstrap': False}. Best is trial 2 with value: 0.875.\u001b[0m\n"
     ]
    },
    {
     "name": "stdout",
     "output_type": "stream",
     "text": [
      "Trial number 4 complete\n",
      "\n",
      "Starting trial number 5\n",
      "\n"
     ]
    },
    {
     "name": "stderr",
     "output_type": "stream",
     "text": [
      "\u001b[32m[I 2021-08-14 12:20:21,692]\u001b[0m Trial 5 finished with value: 0.7916666666666666 and parameters: {'RF_n_estimators': 167, 'RF_min_samples_split': 5, 'RF_min_samples_leaf': 4, 'RF_bootstrap': True}. Best is trial 2 with value: 0.875.\u001b[0m\n"
     ]
    },
    {
     "name": "stdout",
     "output_type": "stream",
     "text": [
      "Trial number 5 complete\n",
      "\n",
      "Starting trial number 6\n",
      "\n"
     ]
    },
    {
     "name": "stderr",
     "output_type": "stream",
     "text": [
      "\u001b[32m[I 2021-08-14 12:20:21,988]\u001b[0m Trial 3 finished with value: 0.875 and parameters: {'RF_n_estimators': 309, 'RF_min_samples_split': 4, 'RF_min_samples_leaf': 1, 'RF_bootstrap': True}. Best is trial 2 with value: 0.875.\u001b[0m\n"
     ]
    },
    {
     "name": "stdout",
     "output_type": "stream",
     "text": [
      "Trial number 3 complete\n",
      "\n",
      "Starting trial number 7\n",
      "\n"
     ]
    },
    {
     "name": "stderr",
     "output_type": "stream",
     "text": [
      "\u001b[32m[I 2021-08-14 12:20:22,933]\u001b[0m Trial 6 finished with value: 0.8333333333333334 and parameters: {'RF_n_estimators': 340, 'RF_min_samples_split': 4, 'RF_min_samples_leaf': 1, 'RF_bootstrap': False}. Best is trial 2 with value: 0.875.\u001b[0m\n",
      "\u001b[32m[I 2021-08-14 12:20:23,025]\u001b[0m Trial 7 finished with value: 0.875 and parameters: {'RF_n_estimators': 346, 'RF_min_samples_split': 6, 'RF_min_samples_leaf': 3, 'RF_bootstrap': True}. Best is trial 2 with value: 0.875.\u001b[0m\n"
     ]
    },
    {
     "name": "stdout",
     "output_type": "stream",
     "text": [
      "Trial number 6 complete\n",
      "\n",
      "Starting trial number 8\n",
      "\n",
      "Trial number 7 complete\n",
      "\n",
      "Starting trial number 9\n",
      "\n"
     ]
    },
    {
     "name": "stderr",
     "output_type": "stream",
     "text": [
      "\u001b[32m[I 2021-08-14 12:20:23,588]\u001b[0m Trial 9 finished with value: 0.7916666666666666 and parameters: {'RF_n_estimators': 153, 'RF_min_samples_split': 2, 'RF_min_samples_leaf': 2, 'RF_bootstrap': True}. Best is trial 2 with value: 0.875.\u001b[0m\n"
     ]
    },
    {
     "name": "stdout",
     "output_type": "stream",
     "text": [
      "Trial number 9 complete\n",
      "\n",
      "Starting trial number 10\n",
      "\n"
     ]
    },
    {
     "name": "stderr",
     "output_type": "stream",
     "text": [
      "\u001b[32m[I 2021-08-14 12:20:23,895]\u001b[0m Trial 10 finished with value: 0.7916666666666667 and parameters: {'RF_n_estimators': 114, 'RF_min_samples_split': 3, 'RF_min_samples_leaf': 5, 'RF_bootstrap': True}. Best is trial 2 with value: 0.875.\u001b[0m\n",
      "\u001b[32m[I 2021-08-14 12:20:23,979]\u001b[0m Trial 8 finished with value: 0.7916666666666667 and parameters: {'RF_n_estimators': 288, 'RF_min_samples_split': 2, 'RF_min_samples_leaf': 4, 'RF_bootstrap': False}. Best is trial 2 with value: 0.875.\u001b[0m\n"
     ]
    },
    {
     "name": "stdout",
     "output_type": "stream",
     "text": [
      "Trial number 10 complete\n",
      "\n",
      "Starting trial number 11\n",
      "\n",
      "Trial number 8 complete\n",
      "\n",
      "Starting trial number 12\n",
      "\n"
     ]
    },
    {
     "name": "stderr",
     "output_type": "stream",
     "text": [
      "\u001b[32m[I 2021-08-14 12:20:24,257]\u001b[0m Trial 11 finished with value: 0.7916666666666667 and parameters: {'RF_n_estimators': 21, 'RF_min_samples_split': 8, 'RF_min_samples_leaf': 4, 'RF_bootstrap': False}. Best is trial 2 with value: 0.875.\u001b[0m\n"
     ]
    },
    {
     "name": "stdout",
     "output_type": "stream",
     "text": [
      "Trial number 11 complete\n",
      "\n",
      "Starting trial number 13\n",
      "\n"
     ]
    },
    {
     "name": "stderr",
     "output_type": "stream",
     "text": [
      "\u001b[32m[I 2021-08-14 12:20:25,928]\u001b[0m Trial 12 finished with value: 0.875 and parameters: {'RF_n_estimators': 492, 'RF_min_samples_split': 7, 'RF_min_samples_leaf': 3, 'RF_bootstrap': True}. Best is trial 2 with value: 0.875.\u001b[0m\n",
      "\u001b[32m[I 2021-08-14 12:20:25,931]\u001b[0m Trial 13 finished with value: 0.8333333333333333 and parameters: {'RF_n_estimators': 459, 'RF_min_samples_split': 7, 'RF_min_samples_leaf': 2, 'RF_bootstrap': True}. Best is trial 2 with value: 0.875.\u001b[0m\n"
     ]
    },
    {
     "name": "stdout",
     "output_type": "stream",
     "text": [
      "Trial number 12 complete\n",
      "\n",
      "Trial number 13 complete\n",
      "\n",
      "Starting trial number 14\n",
      "\n",
      "Starting trial number 15\n",
      "\n"
     ]
    },
    {
     "name": "stderr",
     "output_type": "stream",
     "text": [
      "\u001b[32m[I 2021-08-14 12:20:26,821]\u001b[0m Trial 15 finished with value: 0.875 and parameters: {'RF_n_estimators': 263, 'RF_min_samples_split': 4, 'RF_min_samples_leaf': 5, 'RF_bootstrap': True}. Best is trial 2 with value: 0.875.\u001b[0m\n",
      "\u001b[32m[I 2021-08-14 12:20:26,868]\u001b[0m Trial 14 finished with value: 0.875 and parameters: {'RF_n_estimators': 263, 'RF_min_samples_split': 4, 'RF_min_samples_leaf': 5, 'RF_bootstrap': False}. Best is trial 2 with value: 0.875.\u001b[0m\n"
     ]
    },
    {
     "name": "stdout",
     "output_type": "stream",
     "text": [
      "Trial number 15 complete\n",
      "\n",
      "Trial number 14 complete\n",
      "\n"
     ]
    }
   ],
   "source": [
    "study.optimize(lambda trial: RF_clf_hyperopt.hyperopt(trial, X_train, X_test, y_train, y_test), n_trials=16, timeout=None, n_jobs=2) "
   ]
  },
  {
   "cell_type": "markdown",
   "id": "b99eccdd-8a5a-4058-af91-165febb8e274",
   "metadata": {},
   "source": [
    "**Inspect results**"
   ]
  },
  {
   "cell_type": "code",
   "execution_count": 47,
   "id": "a8801b1e-e689-4b31-ae92-759ed028a04c",
   "metadata": {
    "execution": {
     "iopub.execute_input": "2021-08-14T19:20:30.019581Z",
     "iopub.status.busy": "2021-08-14T19:20:30.019261Z",
     "iopub.status.idle": "2021-08-14T19:20:31.136571Z",
     "shell.execute_reply": "2021-08-14T19:20:31.135702Z",
     "shell.execute_reply.started": "2021-08-14T19:20:30.019538Z"
    },
    "tags": []
   },
   "outputs": [],
   "source": [
    "pruned_trials = [t for t in study.trials if t.state == optuna.trial.TrialState.PRUNED]\n",
    "complete_trials = [t for t in study.trials if t.state == optuna.trial.TrialState.COMPLETE]"
   ]
  },
  {
   "cell_type": "code",
   "execution_count": 48,
   "id": "5506b2e4-9e29-4104-85aa-40a97e386328",
   "metadata": {
    "execution": {
     "iopub.execute_input": "2021-08-14T19:20:31.138228Z",
     "iopub.status.busy": "2021-08-14T19:20:31.137904Z",
     "iopub.status.idle": "2021-08-14T19:20:32.404432Z",
     "shell.execute_reply": "2021-08-14T19:20:32.403470Z",
     "shell.execute_reply.started": "2021-08-14T19:20:31.138185Z"
    },
    "tags": []
   },
   "outputs": [
    {
     "name": "stdout",
     "output_type": "stream",
     "text": [
      "Study statistics: \n",
      "\tNumber of finished trials:  16\n",
      "\tNumber of pruned trials:  0\n",
      "\tNumber of complete trials:  16\n",
      "Best trial:\n",
      "\tValue:  0.875\n",
      "\tParams: \n",
      "\t\tRF_n_estimators: 343\n",
      "\t\tRF_min_samples_split: 6\n",
      "\t\tRF_min_samples_leaf: 5\n",
      "\t\tRF_bootstrap: False\n"
     ]
    }
   ],
   "source": [
    "print(\"Study statistics: \")\n",
    "print(\"\\tNumber of finished trials: \", len(study.trials))\n",
    "print(\"\\tNumber of pruned trials: \", len(pruned_trials))\n",
    "print(\"\\tNumber of complete trials: \", len(complete_trials))\n",
    "\n",
    "print(\"Best trial:\")\n",
    "trial = study.best_trial\n",
    "print(\"\\tValue: \", trial.value)\n",
    "\n",
    "print(\"\\tParams: \")\n",
    "for key, value in trial.params.items():\n",
    "    print(\"\\t\\t{}: {}\".format(key, value))"
   ]
  },
  {
   "cell_type": "markdown",
   "id": "4b56d66e-5fbb-42e3-a9a0-0a26807ea8b1",
   "metadata": {},
   "source": [
    "**Save results**"
   ]
  },
  {
   "cell_type": "code",
   "execution_count": 49,
   "id": "01620941-ea37-44f0-9e68-59b1178bc00c",
   "metadata": {
    "execution": {
     "iopub.execute_input": "2021-08-14T19:20:34.499177Z",
     "iopub.status.busy": "2021-08-14T19:20:34.498932Z",
     "iopub.status.idle": "2021-08-14T19:20:35.554320Z",
     "shell.execute_reply": "2021-08-14T19:20:35.553361Z",
     "shell.execute_reply.started": "2021-08-14T19:20:34.499142Z"
    },
    "tags": []
   },
   "outputs": [
    {
     "data": {
      "text/plain": [
       "['RF_clf_hyperopt_test.pkl']"
      ]
     },
     "execution_count": 49,
     "metadata": {},
     "output_type": "execute_result"
    }
   ],
   "source": [
    "joblib.dump(study, \"RF_clf_hyperopt_test.pkl\")"
   ]
  },
  {
   "cell_type": "code",
   "execution_count": 2,
   "id": "126a3c74-f22e-4b70-af56-7f356aa711f7",
   "metadata": {
    "execution": {
     "iopub.execute_input": "2021-08-15T15:11:20.659995Z",
     "iopub.status.busy": "2021-08-15T15:11:20.659728Z",
     "iopub.status.idle": "2021-08-15T15:11:23.679008Z",
     "shell.execute_reply": "2021-08-15T15:11:23.677688Z",
     "shell.execute_reply.started": "2021-08-15T15:11:20.659966Z"
    },
    "tags": []
   },
   "outputs": [
    {
     "ename": "NameError",
     "evalue": "name 'study' is not defined",
     "output_type": "error",
     "traceback": [
      "\u001b[0;31m---------------------------------------------------------------------------\u001b[0m",
      "\u001b[0;31mNameError\u001b[0m                                 Traceback (most recent call last)",
      "\u001b[0;32m<ipython-input-2-df6dccb28828>\u001b[0m in \u001b[0;36m<module>\u001b[0;34m\u001b[0m\n\u001b[0;32m----> 1\u001b[0;31m \u001b[0mstudy\u001b[0m\u001b[0;34m.\u001b[0m\u001b[0mtrials_dataframe\u001b[0m\u001b[0;34m(\u001b[0m\u001b[0;34m)\u001b[0m\u001b[0;34m.\u001b[0m\u001b[0mhead\u001b[0m\u001b[0;34m(\u001b[0m\u001b[0;34m)\u001b[0m\u001b[0;34m\u001b[0m\u001b[0;34m\u001b[0m\u001b[0m\n\u001b[0m",
      "\u001b[0;31mNameError\u001b[0m: name 'study' is not defined"
     ]
    }
   ],
   "source": [
    "study.trials_dataframe().head()"
   ]
  },
  {
   "cell_type": "markdown",
   "id": "a71c739b-0c82-454f-a9c2-3513435aae15",
   "metadata": {},
   "source": [
    "# Load and analyze results"
   ]
  },
  {
   "cell_type": "code",
   "execution_count": 1,
   "id": "016d31cd-53df-4540-9df6-75a9529ba633",
   "metadata": {
    "execution": {
     "iopub.execute_input": "2021-09-27T00:59:40.417458Z",
     "iopub.status.busy": "2021-09-27T00:59:40.417208Z",
     "iopub.status.idle": "2021-09-27T00:59:40.421872Z",
     "shell.execute_reply": "2021-09-27T00:59:40.420700Z",
     "shell.execute_reply.started": "2021-09-27T00:59:40.417426Z"
    },
    "tags": []
   },
   "outputs": [],
   "source": [
    "import pickle"
   ]
  },
  {
   "cell_type": "code",
   "execution_count": 2,
   "id": "647e8106-d3a2-4021-94b5-f28fd1e262d1",
   "metadata": {
    "execution": {
     "iopub.execute_input": "2021-09-27T00:59:42.959365Z",
     "iopub.status.busy": "2021-09-27T00:59:42.959070Z",
     "iopub.status.idle": "2021-09-27T00:59:45.774459Z",
     "shell.execute_reply": "2021-09-27T00:59:45.773480Z",
     "shell.execute_reply.started": "2021-09-27T00:59:42.959333Z"
    },
    "tags": []
   },
   "outputs": [
    {
     "ename": "NameError",
     "evalue": "name 'joblib' is not defined",
     "output_type": "error",
     "traceback": [
      "\u001b[0;31m---------------------------------------------------------------------------\u001b[0m",
      "\u001b[0;31mNameError\u001b[0m                                 Traceback (most recent call last)",
      "\u001b[0;32m<ipython-input-2-7aa7600fabab>\u001b[0m in \u001b[0;36m<module>\u001b[0;34m\u001b[0m\n\u001b[0;32m----> 1\u001b[0;31m \u001b[0mstudy\u001b[0m \u001b[0;34m=\u001b[0m \u001b[0mjoblib\u001b[0m\u001b[0;34m.\u001b[0m\u001b[0mload\u001b[0m\u001b[0;34m(\u001b[0m\u001b[0;34m\"0.18-0.4_mixed_100_trials_RF-clf_hyperopt.pkl\"\u001b[0m\u001b[0;34m)\u001b[0m\u001b[0;34m\u001b[0m\u001b[0;34m\u001b[0m\u001b[0m\n\u001b[0m",
      "\u001b[0;31mNameError\u001b[0m: name 'joblib' is not defined"
     ]
    }
   ],
   "source": [
    "study = joblib.load(\"0.18-0.4_mixed_100_trials_RF-clf_hyperopt.pkl\")"
   ]
  },
  {
   "cell_type": "code",
   "execution_count": 3,
   "id": "36098cb0-59c4-40ef-b68f-cef773748064",
   "metadata": {
    "execution": {
     "iopub.execute_input": "2021-09-27T00:59:48.167534Z",
     "iopub.status.busy": "2021-09-27T00:59:48.167303Z",
     "iopub.status.idle": "2021-09-27T00:59:48.182135Z",
     "shell.execute_reply": "2021-09-27T00:59:48.180905Z",
     "shell.execute_reply.started": "2021-09-27T00:59:48.167505Z"
    },
    "tags": []
   },
   "outputs": [
    {
     "ename": "NameError",
     "evalue": "name 'study' is not defined",
     "output_type": "error",
     "traceback": [
      "\u001b[0;31m---------------------------------------------------------------------------\u001b[0m",
      "\u001b[0;31mNameError\u001b[0m                                 Traceback (most recent call last)",
      "\u001b[0;32m<ipython-input-3-c175290992a6>\u001b[0m in \u001b[0;36m<module>\u001b[0;34m\u001b[0m\n\u001b[0;32m----> 1\u001b[0;31m \u001b[0mpickle\u001b[0m\u001b[0;34m.\u001b[0m\u001b[0mdump\u001b[0m\u001b[0;34m(\u001b[0m\u001b[0mstudy\u001b[0m\u001b[0;34m.\u001b[0m\u001b[0mbest_trial\u001b[0m\u001b[0;34m.\u001b[0m\u001b[0mparams\u001b[0m\u001b[0;34m,\u001b[0m \u001b[0mopen\u001b[0m\u001b[0;34m(\u001b[0m\u001b[0;34m\"0.18-0.4_mixed_100_trials_RF-clf_hyperopt.params.pickle\"\u001b[0m\u001b[0;34m,\u001b[0m \u001b[0;34m'wb'\u001b[0m\u001b[0;34m)\u001b[0m\u001b[0;34m)\u001b[0m\u001b[0;34m\u001b[0m\u001b[0;34m\u001b[0m\u001b[0m\n\u001b[0m",
      "\u001b[0;31mNameError\u001b[0m: name 'study' is not defined"
     ]
    }
   ],
   "source": [
    "pickle.dump(study.best_trial.params, open(\"0.18-0.4_mixed_100_trials_RF-clf_hyperopt.params.pickle\", 'wb'))"
   ]
  },
  {
   "cell_type": "code",
   "execution_count": 6,
   "id": "0cd7e5cc-9894-460b-9573-07e61a1986af",
   "metadata": {
    "execution": {
     "iopub.execute_input": "2021-09-27T01:00:41.820458Z",
     "iopub.status.busy": "2021-09-27T01:00:41.820262Z",
     "iopub.status.idle": "2021-09-27T01:00:42.810702Z",
     "shell.execute_reply": "2021-09-27T01:00:42.810104Z",
     "shell.execute_reply.started": "2021-09-27T01:00:41.820434Z"
    },
    "tags": []
   },
   "outputs": [],
   "source": [
    "opt_results = pd.read_csv('0.18-0.4_mixed_100_trials_RF-clf_hyperopt.tsv', sep='\\t')"
   ]
  },
  {
   "cell_type": "code",
   "execution_count": 7,
   "id": "708b8d48-6ac3-4133-810c-d0b1a7771165",
   "metadata": {
    "execution": {
     "iopub.execute_input": "2021-09-22T00:04:04.857625Z",
     "iopub.status.busy": "2021-09-22T00:04:04.857337Z",
     "iopub.status.idle": "2021-09-22T00:04:05.384157Z",
     "shell.execute_reply": "2021-09-22T00:04:05.383466Z",
     "shell.execute_reply.started": "2021-09-22T00:04:04.857594Z"
    },
    "tags": []
   },
   "outputs": [
    {
     "data": {
      "text/plain": [
       "36"
      ]
     },
     "execution_count": 7,
     "metadata": {},
     "output_type": "execute_result"
    }
   ],
   "source": [
    "opt_results['value'].argmax()"
   ]
  },
  {
   "cell_type": "code",
   "execution_count": 9,
   "id": "f99ded0a-8d48-4818-95d9-2417465cf34b",
   "metadata": {
    "execution": {
     "iopub.execute_input": "2021-09-22T00:04:21.431759Z",
     "iopub.status.busy": "2021-09-22T00:04:21.431483Z",
     "iopub.status.idle": "2021-09-22T00:04:22.033090Z",
     "shell.execute_reply": "2021-09-22T00:04:22.032177Z",
     "shell.execute_reply.started": "2021-09-22T00:04:21.431728Z"
    }
   },
   "outputs": [
    {
     "data": {
      "text/plain": [
       "number                                                 36\n",
       "value                                            0.764513\n",
       "datetime_start                 2021-08-14 12:58:18.979195\n",
       "datetime_complete              2021-08-14 13:11:20.029983\n",
       "duration                           0 days 00:13:01.050788\n",
       "params_RF_bootstrap                                  True\n",
       "params_RF_min_samples_leaf                              5\n",
       "params_RF_min_samples_split                             9\n",
       "params_RF_n_estimators                                985\n",
       "state                                            COMPLETE\n",
       "Name: 36, dtype: object"
      ]
     },
     "execution_count": 9,
     "metadata": {},
     "output_type": "execute_result"
    }
   ],
   "source": [
    "opt_results.iloc[36]"
   ]
  },
  {
   "cell_type": "code",
   "execution_count": 10,
   "id": "16929020-bf21-48ea-b227-2a7fab0e34ea",
   "metadata": {
    "execution": {
     "iopub.execute_input": "2021-09-22T00:06:33.438793Z",
     "iopub.status.busy": "2021-09-22T00:06:33.438522Z",
     "iopub.status.idle": "2021-09-22T00:06:35.640342Z",
     "shell.execute_reply": "2021-09-22T00:06:35.639652Z",
     "shell.execute_reply.started": "2021-09-22T00:06:33.438764Z"
    },
    "tags": []
   },
   "outputs": [
    {
     "data": {
      "text/plain": [
       "<AxesSubplot:xlabel='params_RF_n_estimators', ylabel='value'>"
      ]
     },
     "execution_count": 10,
     "metadata": {},
     "output_type": "execute_result"
    },
    {
     "data": {
      "image/png": "[encoded data removed]",
      "text/plain": [
       "<Figure size 432x288 with 1 Axes>"
      ]
     },
     "metadata": {
      "needs_background": "light"
     },
     "output_type": "display_data"
    }
   ],
   "source": [
    "sns.scatterplot(data=opt_results, x='params_RF_n_estimators', y='value')"
   ]
  },
  {
   "cell_type": "code",
   "execution_count": 11,
   "id": "b157e841-343c-47a0-b1a8-d8954b8855c2",
   "metadata": {
    "execution": {
     "iopub.execute_input": "2021-09-22T00:06:37.429083Z",
     "iopub.status.busy": "2021-09-22T00:06:37.428779Z",
     "iopub.status.idle": "2021-09-22T00:06:38.941068Z",
     "shell.execute_reply": "2021-09-22T00:06:38.940185Z",
     "shell.execute_reply.started": "2021-09-22T00:06:37.429052Z"
    },
    "tags": []
   },
   "outputs": [
    {
     "data": {
      "text/plain": [
       "<AxesSubplot:xlabel='params_RF_bootstrap', ylabel='value'>"
      ]
     },
     "execution_count": 11,
     "metadata": {},
     "output_type": "execute_result"
    },
    {
     "data": {
      "image/png": "[encoded data removed]",
      "text/plain": [
       "<Figure size 432x288 with 1 Axes>"
      ]
     },
     "metadata": {
      "needs_background": "light"
     },
     "output_type": "display_data"
    }
   ],
   "source": [
    "sns.violinplot(data=opt_results, x='params_RF_bootstrap', y='value')"
   ]
  },
  {
   "cell_type": "code",
   "execution_count": 12,
   "id": "5169b17b-fa5f-48ce-9752-b108416a8627",
   "metadata": {
    "execution": {
     "iopub.execute_input": "2021-09-22T00:06:43.929751Z",
     "iopub.status.busy": "2021-09-22T00:06:43.929471Z",
     "iopub.status.idle": "2021-09-22T00:06:45.174980Z",
     "shell.execute_reply": "2021-09-22T00:06:45.174236Z",
     "shell.execute_reply.started": "2021-09-22T00:06:43.929721Z"
    },
    "tags": []
   },
   "outputs": [
    {
     "data": {
      "text/plain": [
       "<AxesSubplot:xlabel='params_RF_min_samples_leaf', ylabel='value'>"
      ]
     },
     "execution_count": 12,
     "metadata": {},
     "output_type": "execute_result"
    },
    {
     "data": {
      "image/png": "[encoded data removed]",
      "text/plain": [
       "<Figure size 432x288 with 1 Axes>"
      ]
     },
     "metadata": {
      "needs_background": "light"
     },
     "output_type": "display_data"
    }
   ],
   "source": [
    "sns.violinplot(data=opt_results, x='params_RF_min_samples_leaf', y='value')"
   ]
  },
  {
   "cell_type": "code",
   "execution_count": 13,
   "id": "da93ba23-7fd4-4357-966e-49eb45391719",
   "metadata": {
    "execution": {
     "iopub.execute_input": "2021-09-22T00:06:45.816331Z",
     "iopub.status.busy": "2021-09-22T00:06:45.816109Z",
     "iopub.status.idle": "2021-09-22T00:06:47.172490Z",
     "shell.execute_reply": "2021-09-22T00:06:47.171673Z",
     "shell.execute_reply.started": "2021-09-22T00:06:45.816302Z"
    },
    "tags": []
   },
   "outputs": [
    {
     "data": {
      "text/plain": [
       "<AxesSubplot:xlabel='params_RF_min_samples_split', ylabel='value'>"
      ]
     },
     "execution_count": 13,
     "metadata": {},
     "output_type": "execute_result"
    },
    {
     "data": {
      "image/png": "[encoded data removed]",
      "text/plain": [
       "<Figure size 432x288 with 1 Axes>"
      ]
     },
     "metadata": {
      "needs_background": "light"
     },
     "output_type": "display_data"
    }
   ],
   "source": [
    "sns.violinplot(data=opt_results, x='params_RF_min_samples_split', y='value')"
   ]
  },
  {
   "cell_type": "code",
   "execution_count": 7,
   "id": "8436ddcf-2487-4b29-8dab-bc864ad8a761",
   "metadata": {
    "execution": {
     "iopub.execute_input": "2021-09-27T01:00:50.485737Z",
     "iopub.status.busy": "2021-09-27T01:00:50.485463Z",
     "iopub.status.idle": "2021-09-27T01:00:51.617685Z",
     "shell.execute_reply": "2021-09-27T01:00:51.617073Z",
     "shell.execute_reply.started": "2021-09-27T01:00:50.485703Z"
    }
   },
   "outputs": [
    {
     "data": {
      "text/html": [
       "<div>\n",
       "<style scoped>\n",
       "    .dataframe tbody tr th:only-of-type {\n",
       "        vertical-align: middle;\n",
       "    }\n",
       "\n",
       "    .dataframe tbody tr th {\n",
       "        vertical-align: top;\n",
       "    }\n",
       "\n",
       "    .dataframe thead th {\n",
       "        text-align: right;\n",
       "    }\n",
       "</style>\n",
       "<table border=\"1\" class=\"dataframe\">\n",
       "  <thead>\n",
       "    <tr style=\"text-align: right;\">\n",
       "      <th></th>\n",
       "      <th>number</th>\n",
       "      <th>value</th>\n",
       "      <th>datetime_start</th>\n",
       "      <th>datetime_complete</th>\n",
       "      <th>duration</th>\n",
       "      <th>params_RF_bootstrap</th>\n",
       "      <th>params_RF_min_samples_leaf</th>\n",
       "      <th>params_RF_min_samples_split</th>\n",
       "      <th>params_RF_n_estimators</th>\n",
       "      <th>state</th>\n",
       "    </tr>\n",
       "  </thead>\n",
       "  <tbody>\n",
       "    <tr>\n",
       "      <th>0</th>\n",
       "      <td>0</td>\n",
       "      <td>0.764337</td>\n",
       "      <td>2021-08-14 12:47:05.009042</td>\n",
       "      <td>2021-08-14 12:56:02.838047</td>\n",
       "      <td>0 days 00:08:57.829005</td>\n",
       "      <td>True</td>\n",
       "      <td>5</td>\n",
       "      <td>10</td>\n",
       "      <td>862</td>\n",
       "      <td>COMPLETE</td>\n",
       "    </tr>\n",
       "    <tr>\n",
       "      <th>1</th>\n",
       "      <td>1</td>\n",
       "      <td>0.762410</td>\n",
       "      <td>2021-08-14 12:47:05.012828</td>\n",
       "      <td>2021-08-14 12:50:12.540099</td>\n",
       "      <td>0 days 00:03:07.527271</td>\n",
       "      <td>False</td>\n",
       "      <td>4</td>\n",
       "      <td>4</td>\n",
       "      <td>282</td>\n",
       "      <td>COMPLETE</td>\n",
       "    </tr>\n",
       "    <tr>\n",
       "      <th>2</th>\n",
       "      <td>2</td>\n",
       "      <td>0.763163</td>\n",
       "      <td>2021-08-14 12:47:05.015951</td>\n",
       "      <td>2021-08-14 12:48:57.554232</td>\n",
       "      <td>0 days 00:01:52.538281</td>\n",
       "      <td>True</td>\n",
       "      <td>5</td>\n",
       "      <td>2</td>\n",
       "      <td>258</td>\n",
       "      <td>COMPLETE</td>\n",
       "    </tr>\n",
       "    <tr>\n",
       "      <th>3</th>\n",
       "      <td>3</td>\n",
       "      <td>0.760647</td>\n",
       "      <td>2021-08-14 12:47:05.019840</td>\n",
       "      <td>2021-08-14 12:53:12.771994</td>\n",
       "      <td>0 days 00:06:07.752154</td>\n",
       "      <td>False</td>\n",
       "      <td>3</td>\n",
       "      <td>8</td>\n",
       "      <td>495</td>\n",
       "      <td>COMPLETE</td>\n",
       "    </tr>\n",
       "    <tr>\n",
       "      <th>4</th>\n",
       "      <td>4</td>\n",
       "      <td>0.764332</td>\n",
       "      <td>2021-08-14 12:47:05.023657</td>\n",
       "      <td>2021-08-14 12:54:24.307964</td>\n",
       "      <td>0 days 00:07:19.284307</td>\n",
       "      <td>True</td>\n",
       "      <td>5</td>\n",
       "      <td>8</td>\n",
       "      <td>636</td>\n",
       "      <td>COMPLETE</td>\n",
       "    </tr>\n",
       "    <tr>\n",
       "      <th>...</th>\n",
       "      <td>...</td>\n",
       "      <td>...</td>\n",
       "      <td>...</td>\n",
       "      <td>...</td>\n",
       "      <td>...</td>\n",
       "      <td>...</td>\n",
       "      <td>...</td>\n",
       "      <td>...</td>\n",
       "      <td>...</td>\n",
       "      <td>...</td>\n",
       "    </tr>\n",
       "    <tr>\n",
       "      <th>95</th>\n",
       "      <td>95</td>\n",
       "      <td>0.763915</td>\n",
       "      <td>2021-08-14 13:37:49.417597</td>\n",
       "      <td>2021-08-14 13:49:48.294371</td>\n",
       "      <td>0 days 00:11:58.876774</td>\n",
       "      <td>False</td>\n",
       "      <td>5</td>\n",
       "      <td>10</td>\n",
       "      <td>949</td>\n",
       "      <td>COMPLETE</td>\n",
       "    </tr>\n",
       "    <tr>\n",
       "      <th>96</th>\n",
       "      <td>96</td>\n",
       "      <td>0.763910</td>\n",
       "      <td>2021-08-14 13:40:47.491160</td>\n",
       "      <td>2021-08-14 13:51:19.066883</td>\n",
       "      <td>0 days 00:10:31.575723</td>\n",
       "      <td>False</td>\n",
       "      <td>5</td>\n",
       "      <td>10</td>\n",
       "      <td>952</td>\n",
       "      <td>COMPLETE</td>\n",
       "    </tr>\n",
       "    <tr>\n",
       "      <th>97</th>\n",
       "      <td>97</td>\n",
       "      <td>0.764455</td>\n",
       "      <td>2021-08-14 13:41:42.235628</td>\n",
       "      <td>2021-08-14 13:48:34.633905</td>\n",
       "      <td>0 days 00:06:52.398277</td>\n",
       "      <td>True</td>\n",
       "      <td>5</td>\n",
       "      <td>10</td>\n",
       "      <td>959</td>\n",
       "      <td>COMPLETE</td>\n",
       "    </tr>\n",
       "    <tr>\n",
       "      <th>98</th>\n",
       "      <td>98</td>\n",
       "      <td>0.764455</td>\n",
       "      <td>2021-08-14 13:42:57.615016</td>\n",
       "      <td>2021-08-14 13:50:09.388195</td>\n",
       "      <td>0 days 00:07:11.773179</td>\n",
       "      <td>True</td>\n",
       "      <td>5</td>\n",
       "      <td>10</td>\n",
       "      <td>959</td>\n",
       "      <td>COMPLETE</td>\n",
       "    </tr>\n",
       "    <tr>\n",
       "      <th>99</th>\n",
       "      <td>99</td>\n",
       "      <td>0.764447</td>\n",
       "      <td>2021-08-14 13:43:12.911676</td>\n",
       "      <td>2021-08-14 13:51:07.394153</td>\n",
       "      <td>0 days 00:07:54.482477</td>\n",
       "      <td>True</td>\n",
       "      <td>5</td>\n",
       "      <td>4</td>\n",
       "      <td>955</td>\n",
       "      <td>COMPLETE</td>\n",
       "    </tr>\n",
       "  </tbody>\n",
       "</table>\n",
       "<p>100 rows × 10 columns</p>\n",
       "</div>"
      ],
      "text/plain": [
       "    number     value              datetime_start           datetime_complete  \\\n",
       "0        0  0.764337  2021-08-14 12:47:05.009042  2021-08-14 12:56:02.838047   \n",
       "1        1  0.762410  2021-08-14 12:47:05.012828  2021-08-14 12:50:12.540099   \n",
       "2        2  0.763163  2021-08-14 12:47:05.015951  2021-08-14 12:48:57.554232   \n",
       "3        3  0.760647  2021-08-14 12:47:05.019840  2021-08-14 12:53:12.771994   \n",
       "4        4  0.764332  2021-08-14 12:47:05.023657  2021-08-14 12:54:24.307964   \n",
       "..     ...       ...                         ...                         ...   \n",
       "95      95  0.763915  2021-08-14 13:37:49.417597  2021-08-14 13:49:48.294371   \n",
       "96      96  0.763910  2021-08-14 13:40:47.491160  2021-08-14 13:51:19.066883   \n",
       "97      97  0.764455  2021-08-14 13:41:42.235628  2021-08-14 13:48:34.633905   \n",
       "98      98  0.764455  2021-08-14 13:42:57.615016  2021-08-14 13:50:09.388195   \n",
       "99      99  0.764447  2021-08-14 13:43:12.911676  2021-08-14 13:51:07.394153   \n",
       "\n",
       "                  duration  params_RF_bootstrap  params_RF_min_samples_leaf  \\\n",
       "0   0 days 00:08:57.829005                 True                           5   \n",
       "1   0 days 00:03:07.527271                False                           4   \n",
       "2   0 days 00:01:52.538281                 True                           5   \n",
       "3   0 days 00:06:07.752154                False                           3   \n",
       "4   0 days 00:07:19.284307                 True                           5   \n",
       "..                     ...                  ...                         ...   \n",
       "95  0 days 00:11:58.876774                False                           5   \n",
       "96  0 days 00:10:31.575723                False                           5   \n",
       "97  0 days 00:06:52.398277                 True                           5   \n",
       "98  0 days 00:07:11.773179                 True                           5   \n",
       "99  0 days 00:07:54.482477                 True                           5   \n",
       "\n",
       "    params_RF_min_samples_split  params_RF_n_estimators     state  \n",
       "0                            10                     862  COMPLETE  \n",
       "1                             4                     282  COMPLETE  \n",
       "2                             2                     258  COMPLETE  \n",
       "3                             8                     495  COMPLETE  \n",
       "4                             8                     636  COMPLETE  \n",
       "..                          ...                     ...       ...  \n",
       "95                           10                     949  COMPLETE  \n",
       "96                           10                     952  COMPLETE  \n",
       "97                           10                     959  COMPLETE  \n",
       "98                           10                     959  COMPLETE  \n",
       "99                            4                     955  COMPLETE  \n",
       "\n",
       "[100 rows x 10 columns]"
      ]
     },
     "execution_count": 7,
     "metadata": {},
     "output_type": "execute_result"
    }
   ],
   "source": [
    "opt_results"
   ]
  },
  {
   "cell_type": "code",
   "execution_count": null,
   "id": "68890ef0-278f-4480-94c8-1a041b0508ae",
   "metadata": {},
   "outputs": [],
   "source": [
    "sns.violinplot(data=opt_results, x='params_RF_min_samples_split', y='value')"
   ]
  }
 ],
 "metadata": {
  "kernelspec": {
   "display_name": "Python3 ml_env",
   "language": "python",
   "name": "ml_env"
  },
  "language_info": {
   "codemirror_mode": {
    "name": "ipython",
    "version": 3
   },
   "file_extension": ".py",
   "mimetype": "text/x-python",
   "name": "python",
   "nbconvert_exporter": "python",
   "pygments_lexer": "ipython3",
   "version": "3.8.8"
  }
 },
 "nbformat": 4,
 "nbformat_minor": 5
}

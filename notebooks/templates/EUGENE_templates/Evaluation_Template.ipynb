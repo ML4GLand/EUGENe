{
 "cells": [
  {
   "cell_type": "markdown",
   "id": "c8fab0a8-93f8-49b4-a95f-3b4e0efeced1",
   "metadata": {},
   "source": [
    "# Evaluation of Models For Enhancer Activity Prediction"
   ]
  },
  {
   "cell_type": "markdown",
   "id": "6d28976a-d80e-483f-b193-b27600ce13bf",
   "metadata": {
    "execution": {
     "iopub.execute_input": "2021-09-28T20:36:31.301402Z",
     "iopub.status.busy": "2021-09-28T20:36:31.301151Z",
     "iopub.status.idle": "2021-09-28T20:36:31.321538Z",
     "shell.execute_reply": "2021-09-28T20:36:31.320382Z",
     "shell.execute_reply.started": "2021-09-28T20:36:31.301373Z"
    }
   },
   "source": [
    "**Authorship:**\n",
    "Adam Klie, *MM/DD/20YY*\n",
    "***\n",
    "**Description:**\n",
    "Notebook to evaluate a model on test data\n",
    "***\n",
    "**TODOs:**\n",
    " - <font color='red'> Add TODOs here </font>\n",
    "***"
   ]
  },
  {
   "cell_type": "markdown",
   "id": "66424943-bc56-44f4-a608-532fbaea53de",
   "metadata": {
    "tags": [],
    "toc-hr-collapsed": true
   },
   "source": [
    "# Set-up"
   ]
  },
  {
   "cell_type": "code",
   "execution_count": null,
   "id": "fdaecdff-2ab5-49bf-b302-6c2be2b57d63",
   "metadata": {
    "tags": []
   },
   "outputs": [],
   "source": [
    "# Classics\n",
    "import os\n",
    "import tqdm\n",
    "import matplotlib.pyplot as plt\n",
    "import matplotlib as mpl\n",
    "import numpy as np\n",
    "import pandas as pd\n",
    "import seaborn as sns\n",
    "\n",
    "# For stats\n",
    "from scipy import stats\n",
    "\n",
    "# scikit-learn\n",
    "from sklearn.metrics import confusion_matrix\n",
    "from sklearn.linear_model import LogisticRegression\n",
    "import pickle\n",
    "\n",
    "# Autoreload extension\n",
    "if 'autoreload' not in get_ipython().extension_manager.loaded:\n",
    "    %load_ext autoreload\n",
    "    \n",
    "%autoreload 2\n",
    "\n",
    "import sys\n",
    "sys.path.append('/cellar/users/aklie/projects/EUGENE/bin/')\n",
    "import project_utils\n",
    "import otx_enhancer_utils"
   ]
  },
  {
   "cell_type": "code",
   "execution_count": null,
   "id": "46310b6e-dac1-4bed-8e77-f65dd17e1d46",
   "metadata": {
    "tags": []
   },
   "outputs": [],
   "source": [
    "# Define parameters of the notebook\n",
    "TRAIN_DATASET = \"2021_OLS_Library\"  # Which dataset to look at\n",
    "FEATURES = \"mixed-1.0\"  # What features to use to train the model\n",
    "LABELS = \"binary\"\n",
    "PREPROCESS = \"0.09-0.4\"  # Preprocessing steps, separated by \"-\"\n",
    "SPLIT = 0.9\n",
    "HYPERPARAM = \"baseline\"\n",
    "#OUTDIR=\"{}_{}_{}_CHENGE_ME\".format(PREPROCESS, FEATURES, HYPERPARAM)\n",
    "if not os.path.exists(OUTDIR):\n",
    "    os.makedirs(OUTDIR)"
   ]
  },
  {
   "cell_type": "markdown",
   "id": "8c2d8584-080a-4b9c-97bd-d90026b1607d",
   "metadata": {
    "tags": [],
    "toc-hr-collapsed": true
   },
   "source": [
    "# Load model and training dataset"
   ]
  },
  {
   "cell_type": "code",
   "execution_count": null,
   "id": "68ea8856-f3be-403b-8985-9d35f4f776b3",
   "metadata": {
    "tags": []
   },
   "outputs": [],
   "source": [
    "# Load model\n",
    "#file = '{}/{}_{}_CHANGE ME-clf_{}.pickle'.format(OUTDIR, PREPROCESS, FEATURES, HYPERPARAM)\n",
    "print(\"Loading model from {}\".format(file))\n",
    "clf = pickle.load(open(file, 'rb'))"
   ]
  },
  {
   "cell_type": "code",
   "execution_count": null,
   "id": "36ec3d8d-a161-4863-9653-24786c0458d5",
   "metadata": {
    "tags": []
   },
   "outputs": [],
   "source": [
    "# Load training dataframe\n",
    "OLS_dataset = pd.read_csv(\"../data/2021_OLS_Library/2021_OLS_Library.tsv\", sep=\"\\t\")\n",
    "OLS_dataset.head(1)"
   ]
  },
  {
   "cell_type": "markdown",
   "id": "c1c5d63e-bf84-43f4-82f1-42c400752986",
   "metadata": {
    "tags": [],
    "toc-hr-collapsed": true
   },
   "source": [
    "# Evaluate on validation sequences"
   ]
  },
  {
   "cell_type": "code",
   "execution_count": null,
   "id": "032e8380-574c-40c4-81fa-00852a6650ee",
   "metadata": {
    "tags": []
   },
   "outputs": [],
   "source": [
    "# Load train and val\n",
    "X_val = np.load('../data/{0}/{1}/{2}_X-test-{3}_{4}.npy'.format(TRAIN_DATASET, FEATURES.replace(\"-\", \"_\"), PREPROCESS, round(1-SPLIT, 1), FEATURES))\n",
    "y_val = np.loadtxt('../data/{0}/{1}/{2}_y-test-{3}_{1}.txt'.format(TRAIN_DATASET, LABELS, PREPROCESS, round(1-SPLIT, 1)), dtype=int)\n",
    "id_val = np.loadtxt(\"../data/{}/id/{}_id-test-{}.txt\".format(TRAIN_DATASET, PREPROCESS, round(1-SPLIT, 1)), dtype=str)\n",
    "\n",
    "# Make predictions on val\n",
    "y_val_preds = clf.predict(X_val)\n",
    "y_val_probs = clf.predict_proba(X_val)\n",
    "clf_val_df = pd.DataFrame(data={\"NAME\": id_val, \"PREDS\": y_val_preds, \"SCORES\": y_val_probs[:, 1]})\n",
    "val_df = pd.merge(OLS_dataset, clf_val_df, on=\"NAME\")\n",
    "\n",
    "# Set data to be val\n",
    "data = val_df"
   ]
  },
  {
   "cell_type": "markdown",
   "id": "34d27984-71b7-45f8-b56f-2724fc30699e",
   "metadata": {
    "tags": []
   },
   "source": [
    "## <u> **Confusion matrix** </u>"
   ]
  },
  {
   "cell_type": "code",
   "execution_count": null,
   "id": "b849bbfd-55be-4c4b-b0c1-851b5c3e3a19",
   "metadata": {
    "tags": []
   },
   "outputs": [],
   "source": [
    "project_utils.cf_plot_from_df(data, label_col=\"MPRA_FXN\", title=\"2021 OLS Validation Set Sequences\", ylab=\"MPRA Activity\")"
   ]
  },
  {
   "cell_type": "markdown",
   "id": "48103d69-2dda-458f-8550-86aded1e9f65",
   "metadata": {
    "tags": []
   },
   "source": [
    "## <u> **Correlation w/ activity** </u>"
   ]
  },
  {
   "cell_type": "code",
   "execution_count": null,
   "id": "812230d9-569e-4616-b918-532e9a7edf0f",
   "metadata": {
    "tags": []
   },
   "outputs": [],
   "source": [
    "# Plot scatter\n",
    "fig, ax = plt.subplots(1, 1, figsize=(8,8))\n",
    "#sns.regplot(data=data, x=\"ACTIVITY_SUMRNA_NUMDNA\", y=\"SCORES\", x_jitter=.5, ax=ax)\n",
    "sns.scatterplot(data=data, x=\"ACTIVITY_SUMRNA_NUMDNA\", y=\"SCORES\", ax=ax)\n",
    "\n",
    "# Add pearson\n",
    "no_na = (~data[\"ACTIVITY_SUMRNA_NUMDNA\"].isna())\n",
    "r, p = stats.spearmanr(data[no_na][\"ACTIVITY_SUMRNA_NUMDNA\"], data[no_na][\"SCORES\"])\n",
    "print(r, p)\n",
    "ax.annotate(r'Pearson $r = CHANGE ME$' + '\\n' + r'p $=CHANGE ME$', (6, 0.8), fontsize=16);"
   ]
  },
  {
   "cell_type": "markdown",
   "id": "7cbce981-c92c-4580-b6fc-bbc83e329a3e",
   "metadata": {
    "tags": []
   },
   "source": [
    "## <u> **Threshold plot** </u>"
   ]
  },
  {
   "cell_type": "code",
   "execution_count": null,
   "id": "fdd2f494-869c-46d3-bea5-98a717432895",
   "metadata": {
    "tags": []
   },
   "outputs": [],
   "source": [
    "project_utils.threshold_plot(data, label_col=\"MPRA_FXN\")"
   ]
  },
  {
   "cell_type": "markdown",
   "id": "3e9497ad-f211-42b5-ad0e-7ee3e6ef4202",
   "metadata": {
    "tags": [],
    "toc-hr-collapsed": true
   },
   "source": [
    "## <u> **Score distribution plot** </u>"
   ]
  },
  {
   "cell_type": "code",
   "execution_count": null,
   "id": "b27f184e-775f-4570-a694-ff6dc7f1ce4d",
   "metadata": {
    "tags": []
   },
   "outputs": [],
   "source": [
    "fig, ax = plt.subplots(1,1, figsize=(8,8))\n",
    "sns.histplot(data=data, x=\"SCORES\", hue=\"MPRA_FXN\", ax=ax);\n",
    "ax.vlines(0.5, 0, 1, color=\"red\", linestyle=\"dashed\", label=\"Threshold\");"
   ]
  },
  {
   "cell_type": "markdown",
   "id": "032c1df3-68fa-4a9f-951c-e7f95e1fc10c",
   "metadata": {
    "tags": [],
    "toc-hr-collapsed": true
   },
   "source": [
    "# Evaluate on holdout sequences"
   ]
  },
  {
   "cell_type": "code",
   "execution_count": null,
   "id": "b8128b44-8fed-491f-88f6-5c5fed91a2d8",
   "metadata": {
    "tags": []
   },
   "outputs": [],
   "source": [
    "X_holdout = np.load(\"../data/{}/{}/{}_X-holdout_{}.npy\".format(TRAIN_DATASET, FEATURES.replace(\"-\", \"_\"), PREPROCESS, FEATURES))\n",
    "id_holdout = np.loadtxt(\"../data/{}/id/{}_id-holdout.txt\".format(TRAIN_DATASET, PREPROCESS), dtype=str)\n",
    "y_holdout_preds = clf.predict(X_holdout)\n",
    "y_holdout_probs = clf.predict_proba(X_holdout)\n",
    "clf_holdout_df = pd.DataFrame(data={\"NAME\": id_holdout, \"PREDS\": y_holdout_preds, \"SCORES\": y_holdout_probs[:, 1]})\n",
    "holdout_df = pd.merge(OLS_dataset, clf_holdout_df, on=\"NAME\")"
   ]
  },
  {
   "cell_type": "markdown",
   "id": "29c9c6e3-7ead-45b8-aedb-b64fc7a13b1f",
   "metadata": {
    "tags": [],
    "toc-hr-collapsed": true
   },
   "source": [
    "## Microscope sequences"
   ]
  },
  {
   "cell_type": "code",
   "execution_count": null,
   "id": "4b6e0408-4c91-4029-a2e6-1fcc9fb722c8",
   "metadata": {
    "tags": []
   },
   "outputs": [],
   "source": [
    "microscope_mask = (~holdout_df[\"MICROSCOPE_FXN\"].isna())\n",
    "microscope_df = holdout_df[microscope_mask]\n",
    "microscope_df[\"microscope_label\"] = (~(microscope_df[\"MICROSCOPE_FXN\"] == \"Non-Functional\")).astype(int)\n",
    "data = microscope_df\n",
    "microscope_colors = dict(zip(data[\"MICROSCOPE_FXN\"].unique(), [\"darkgreen\", \"lightgreen\", \"gold\", \"red\"]))\n",
    "data[\"microscope_label\"].value_counts()"
   ]
  },
  {
   "cell_type": "markdown",
   "id": "a2cce234-6126-42d0-94e7-7619a0fc441b",
   "metadata": {
    "tags": [],
    "toc-hr-collapsed": true
   },
   "source": [
    "### <u> **Confusion matrix** </u>"
   ]
  },
  {
   "cell_type": "code",
   "execution_count": null,
   "id": "c1d46503-ad62-490b-9cb0-4602375bdad3",
   "metadata": {
    "tags": []
   },
   "outputs": [],
   "source": [
    "project_utils.cf_plot_from_df(data, label_col=\"microscope_label\", title=\"2021 OLS Microscope Validated Set\", ylab=\"Microscope Activity\")"
   ]
  },
  {
   "cell_type": "markdown",
   "id": "d0253e07-5f34-4a5a-826a-5455bc801e00",
   "metadata": {
    "tags": [],
    "toc-hr-collapsed": true
   },
   "source": [
    "### <u> **Activity boxplot grouped by function** </u>"
   ]
  },
  {
   "cell_type": "code",
   "execution_count": null,
   "id": "574cbf3b-6a0e-424e-9129-34291baf2772",
   "metadata": {
    "tags": []
   },
   "outputs": [],
   "source": [
    "microscope_order = ['Non-Functional', 'Weak Neural Enhancer', 'Neural Enhancer', 'Neural + Ectopic Expression']\n",
    "fig, ax = plt.subplots(1, 1, figsize=(8,8))\n",
    "sns.boxplot(y=data[\"SCORES\"], x=data[\"MICROSCOPE_FXN\"], order=microscope_order, palette=microscope_colors, ax=ax)\n",
    "sns.swarmplot(y=data[\"SCORES\"], x=data[\"MICROSCOPE_FXN\"], order=microscope_order, palette=microscope_colors, size=10, edgecolor=\"black\", linewidth=2, ax=ax)\n",
    "ax.hlines(0.5, ax.get_xlim()[0], ax.get_xlim()[1], color=\"red\", linestyle=\"dashed\")\n",
    "ax.set_xticklabels(ax.get_xticklabels(), rotation=90, fontsize=16);\n",
    "ax.set_xlabel(\"Microscope Classification\", fontsize=20)\n",
    "ax.set_ylabel(\"SCORES\", fontsize=20);"
   ]
  },
  {
   "cell_type": "markdown",
   "id": "8d7fbdf3-4188-403d-84ae-e4eb4186cd54",
   "metadata": {
    "tags": [],
    "toc-hr-collapsed": true
   },
   "source": [
    "### <u> **Swarmplot of scores** </u>"
   ]
  },
  {
   "cell_type": "code",
   "execution_count": null,
   "id": "15d2a69e-a519-4d5c-8119-9ace5e09f802",
   "metadata": {
    "tags": []
   },
   "outputs": [],
   "source": [
    "fig, ax = plt.subplots(1, 1, figsize=(8,8))\n",
    "sns.swarmplot(y=data[\"SCORES\"], hue=data[\"MICROSCOPE_FXN\"], x=[\"\"]*len(data), palette=microscope_colors, ax=ax)\n",
    "plt.legend(bbox_to_anchor=(1,1))\n",
    "ax.hlines(0.5, ax.get_xlim()[0], ax.get_xlim()[1], color=\"red\", linestyle=\"dashed\");"
   ]
  },
  {
   "cell_type": "markdown",
   "id": "757c84a3-14d4-4481-affb-666140e093f5",
   "metadata": {
    "tags": []
   },
   "source": [
    "### <u> **Scatterplot with activity** </u>"
   ]
  },
  {
   "cell_type": "code",
   "execution_count": null,
   "id": "fc2db893-e632-4bcc-a8b7-6a32f667b45b",
   "metadata": {
    "tags": []
   },
   "outputs": [],
   "source": [
    "m, b = np.polyfit(data[\"ACTIVITY_SUMRNA_NUMDNA\"], data[\"SCORES\"], 1)\n",
    "\n",
    "fig, ax = plt.subplots(1, 1, figsize=(16,8))\n",
    "sns.scatterplot(data=data, x=\"ACTIVITY_SUMRNA_NUMDNA\", y=\"SCORES\", hue=\"MICROSCOPE_FXN\", palette=microscope_colors, s=50, edgecolor=\"black\", ax=ax)\n",
    "ax.hlines(0.5, ax.get_xlim()[0], ax.get_xlim()[1], color=\"red\", linestyle=\"dashed\");\n",
    "ax.set_xlabel(\"MPRA Activity\", fontsize=20)\n",
    "ax.set_ylabel(\"Score\", fontsize=20);\n",
    "ax.legend(title='Microscope Classification', fontsize=16)\n",
    "\n",
    "# Add trendline\n",
    "x=np.arange(ax.get_xlim()[0], ax.get_xlim()[1], 0.01)\n",
    "ax.plot(x, m*x + b, '-', color = \"grey\", alpha=0.8)\n",
    "ax.legend(loc=\"lower right\", fontsize=16)\n",
    "\n",
    "# Add pearson\n",
    "no_na = (~data[\"ACTIVITY_SUMRNA_NUMDNA\"].isna())\n",
    "r, p = stats.spearmanr(data[no_na][\"ACTIVITY_SUMRNA_NUMDNA\"], data[no_na][\"SCORES\"])\n",
    "print(r, p)\n",
    "ax.annotate(r'Spearman $\\rho = CHANGE ME$' + '\\n' + r'p $=CHANGEME$', (1.25, 0.8), fontsize=16);"
   ]
  },
  {
   "cell_type": "markdown",
   "id": "e8493e90-7ff6-4ad3-b0e5-9d783710e206",
   "metadata": {
    "tags": [],
    "toc-hr-collapsed": true
   },
   "source": [
    "## No label sequences"
   ]
  },
  {
   "cell_type": "code",
   "execution_count": null,
   "id": "6b263678-26cf-44c3-a37e-48276c9c0453",
   "metadata": {},
   "outputs": [],
   "source": [
    "ambiguous_df = holdout_df[~microscope_mask]\n",
    "data = ambiguous_df"
   ]
  },
  {
   "cell_type": "code",
   "execution_count": null,
   "id": "6b656d9c-fdf3-4f35-8602-cc138d0efff2",
   "metadata": {
    "tags": []
   },
   "outputs": [],
   "source": [
    "fig, ax = plt.subplots(1, 1, figsize=(16,8))\n",
    "sns.scatterplot(data=ambiguous_df, x=\"ACTIVITY_SUMRNA_NUMDNA\", y=\"SCORES\", ax=ax)\n",
    "no_na = (~ambiguous_df[\"ACTIVITY_SUMRNA_NUMDNA\"].isna())\n",
    "p, r = stats.pearsonr(ambiguous_df[no_na][\"ACTIVITY_SUMRNA_NUMDNA\"], ambiguous_df[no_na][\"SCORES\"])\n",
    "print(p, r)"
   ]
  },
  {
   "cell_type": "markdown",
   "id": "ea25de8b-bf54-4bae-bb32-5a16cd3ca88a",
   "metadata": {
    "tags": [],
    "toc-hr-collapsed": true
   },
   "source": [
    "# Evaluate on genomic sequences"
   ]
  },
  {
   "cell_type": "markdown",
   "id": "39a002db-6c3e-4b3b-96a3-fa6c6c3694d1",
   "metadata": {
    "tags": [],
    "toc-hr-collapsed": true
   },
   "source": [
    "## Full sequences"
   ]
  },
  {
   "cell_type": "code",
   "execution_count": null,
   "id": "799ade6f-b78b-4f33-a8c2-b2e82b5a2ab3",
   "metadata": {
    "tags": []
   },
   "outputs": [],
   "source": [
    "# Load genomic sequences\n",
    "X_genomic = np.load(\"../data/All_Genomic_Sequences/mixed/{}_{}-split_X-test_{}.npy\".format(PREPROCESS, SPLIT, FEATURES))\n",
    "y_genomic = np.loadtxt(\"../data/All_Genomic_Sequences/{0}/y_{0}.txt\".format(LABELS))\n",
    "id_genomic = np.loadtxt(\"../data/All_Genomic_Sequences/id/id.txt\", dtype=str)\n",
    "valid_idx = np.loadtxt(\"../data/All_Genomic_Sequences/mixed/id-valid.txt\", dtype=str)\n",
    "valid_indices = np.where(np.in1d(id_genomic, valid_idx))[0]\n",
    "genomic_dataset = pd.read_csv(\"../data/All_Genomic_Sequences/All_Genomic_Sequences.tsv\", sep=\"\\t\").loc[valid_indices]\n",
    "\n",
    "# Make predictions on sequences\n",
    "y_genomic_preds = clf.predict(X_genomic)\n",
    "y_genomic_probs = clf.predict_proba(X_genomic)[:, 1]\n",
    "genomic_dataset[\"PREDS\"] = y_genomic_preds\n",
    "genomic_dataset[\"SCORES\"] = y_genomic_probs\n",
    "\n",
    "# Set data variable\n",
    "data = genomic_dataset"
   ]
  },
  {
   "cell_type": "markdown",
   "id": "8ca3b92b-6f4d-4495-9f1e-c622323d984c",
   "metadata": {
    "tags": []
   },
   "source": [
    "### <u> **Confusion matrix** </u>"
   ]
  },
  {
   "cell_type": "code",
   "execution_count": null,
   "id": "28aa7593-3bfe-4471-a228-b2ae54360571",
   "metadata": {
    "tags": []
   },
   "outputs": [],
   "source": [
    "project_utils.cf_plot_from_df(data, title=\"Genomic Sequences\", ylab=\"Validated Activity\")"
   ]
  },
  {
   "cell_type": "markdown",
   "id": "4d4f7e88-923a-4a26-9e21-43d7a85f42df",
   "metadata": {
    "tags": []
   },
   "source": [
    "### <u> **Feature importances** </u>\n",
    "This will probably vary significantly between model types. Below is a simple example case for linear regression"
   ]
  },
  {
   "cell_type": "code",
   "execution_count": null,
   "id": "44f8d2fd-3fc9-424e-8585-91b82b69e66a",
   "metadata": {
    "tags": []
   },
   "outputs": [],
   "source": [
    "#feature_names = pd.read_csv(\"../data/2021_OLS_Library/mixed_1.0/mixed-1.0_header.txt\", header=None)[0]\n",
    "#project_utils.coefficient_plot(clf, feature_names, title=\"{} {} {} Encoded Coefficients\".format(PREPROCESS, TRAIN_DATASET, FEATURES))"
   ]
  },
  {
   "cell_type": "markdown",
   "id": "b7ce6b3f-dc92-4009-bb57-566a99cf18f5",
   "metadata": {
    "tags": [],
    "toc-hr-collapsed": true
   },
   "source": [
    "## Tiled Sequences"
   ]
  },
  {
   "cell_type": "code",
   "execution_count": null,
   "id": "2a2dbd13-e78d-4943-a70e-bc4707e97f62",
   "metadata": {
    "tags": []
   },
   "outputs": [],
   "source": [
    "# Load genomic sequences\n",
    "X_genomic = np.load(\"../data/All_Genomic_Sequences/mixed/{}_{}-split_X-test_{}-tiled.npy\".format(PREPROCESS, SPLIT, FEATURES))\n",
    "y_genomic = np.loadtxt(\"../data/All_Genomic_Sequences/{0}/y-tiled_{0}.txt\".format(LABELS))\n",
    "id_genomic = np.loadtxt(\"../data/All_Genomic_Sequences/id/id-tiled.txt\", dtype=str)\n",
    "valid_idx = np.loadtxt(\"../data/All_Genomic_Sequences/mixed/id-valid-tiled.txt\", dtype=str)\n",
    "valid_indices = np.where(np.in1d(id_genomic, valid_idx))[0]\n",
    "genomic_dataset = pd.read_csv(\"../data/All_Genomic_Sequences/All_Genomic_Sequences-tiled.tsv\", sep=\"\\t\").loc[valid_indices]\n",
    "\n",
    "# Make predictions on sequences\n",
    "y_genomic_preds = clf.predict(X_genomic)\n",
    "y_genomic_probs = clf.predict_proba(X_genomic)[:, 1]\n",
    "genomic_dataset[\"PREDS\"] = y_genomic_preds\n",
    "genomic_dataset[\"SCORES\"] = y_genomic_probs\n",
    "\n",
    "# Set data variable\n",
    "data = genomic_dataset[genomic_dataset[\"TILE\"].str.lower() != \"full\"]"
   ]
  },
  {
   "cell_type": "markdown",
   "id": "9a5ab935-c212-41c6-ab8a-a465314ff57a",
   "metadata": {
    "tags": []
   },
   "source": [
    "### <u> **Tile plot** </u>"
   ]
  },
  {
   "cell_type": "code",
   "execution_count": null,
   "id": "36e1798c-d022-4daf-bf4b-e88e1d9c691f",
   "metadata": {
    "tags": []
   },
   "outputs": [],
   "source": [
    "otx_enhancer_utils.tile_plot(data)"
   ]
  },
  {
   "cell_type": "markdown",
   "id": "848e2b24-d1f0-42d6-8c13-9279e3d44c33",
   "metadata": {
    "tags": []
   },
   "source": [
    "### <u> **Sequence tracks** </u>"
   ]
  },
  {
   "cell_type": "code",
   "execution_count": null,
   "id": "655dbeea-ae76-4be2-868d-0f728723e8c9",
   "metadata": {
    "tags": []
   },
   "outputs": [],
   "source": [
    "cmap = mpl.cm.RdYlGn\n",
    "norm = mpl.colors.Normalize(vmin=data[\"SCORES\"].min(), vmax=data[\"SCORES\"].max())"
   ]
  },
  {
   "cell_type": "code",
   "execution_count": null,
   "id": "12a0afc0-69e4-4b1d-9ed4-cbe49097041a",
   "metadata": {
    "tags": []
   },
   "outputs": [],
   "source": [
    "test = data[data[\"NAME\"] == \"scaffold_48:226447:226527\"]\n",
    "seqs = test[\"SEQ\"].apply(str.upper).values\n",
    "names = test[\"NAME\"].values\n",
    "scores = test[\"SCORES\"].values\n",
    "otx_enhancer_utils.otxGenomeTracks(seqs[0], seq_name=names[0], model_pred=scores[0], cmap=cmap, norm=norm)\n",
    "otx_enhancer_utils.defineTFBS(seqs[0])"
   ]
  },
  {
   "cell_type": "markdown",
   "id": "eb78de65-d359-4a5a-b958-a0dbec1bd9da",
   "metadata": {
    "tags": [],
    "toc-hr-collapsed": true
   },
   "source": [
    "# Scratch"
   ]
  },
  {
   "cell_type": "markdown",
   "id": "8adc119d-1520-4d93-83aa-eb088a61c1d8",
   "metadata": {
    "tags": [],
    "toc-hr-collapsed": true
   },
   "source": [
    "# References"
   ]
  },
  {
   "cell_type": "markdown",
   "id": "8467a1ce-ee1f-4e9d-8089-b6b7298e6b88",
   "metadata": {},
   "source": [
    " 1. Ref 1\n",
    " 2. Ref 2"
   ]
  }
 ],
 "metadata": {
  "kernelspec": {
   "display_name": "Python3 ml_env",
   "language": "python",
   "name": "ml_env"
  },
  "language_info": {
   "codemirror_mode": {
    "name": "ipython",
    "version": 3
   },
   "file_extension": ".py",
   "mimetype": "text/x-python",
   "name": "python",
   "nbconvert_exporter": "python",
   "pygments_lexer": "ipython3",
   "version": "3.8.8"
  }
 },
 "nbformat": 4,
 "nbformat_minor": 5
}

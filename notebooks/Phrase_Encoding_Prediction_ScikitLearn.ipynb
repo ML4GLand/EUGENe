{
 "cells": [
  {
   "cell_type": "markdown",
   "id": "90a88efe-ebb3-424c-8704-fb4ee189af2c",
   "metadata": {},
   "source": [
    "# Phrase Encoding Model Predictions"
   ]
  },
  {
   "cell_type": "markdown",
   "id": "2d058003-a667-4b45-9ddc-e47efe48e0e1",
   "metadata": {
    "tags": []
   },
   "source": [
    "**Authorship:**\n",
    "Adam Klie, *04/18/2022*\n",
    "***\n",
    "**Description:**\n",
    "Notebook to do some cool stuff\n",
    "***\n",
    "<div class=\"alert alert-block alert-warning\">\n",
    "<b>TODOs</b>:\n",
    "<ul>\n",
    "    <b><li>Load the simplest dataset in</li></b>\n",
    "    <b><li>Train a predictive model as baseline</li></b>\n",
    "    <b><li></li></b>\n",
    "    </ul>\n",
    "</div>"
   ]
  },
  {
   "cell_type": "markdown",
   "id": "a2a2c4a5-1dac-4dce-8e87-cb83f07de4c3",
   "metadata": {
    "execution": {
     "iopub.execute_input": "2021-09-05T21:21:18.602440Z",
     "iopub.status.busy": "2021-09-05T21:21:18.602151Z",
     "iopub.status.idle": "2021-09-05T21:21:18.606439Z",
     "shell.execute_reply": "2021-09-05T21:21:18.605256Z",
     "shell.execute_reply.started": "2021-09-05T21:21:18.602409Z"
    },
    "tags": []
   },
   "source": [
    "# Set-up"
   ]
  },
  {
   "cell_type": "code",
   "execution_count": 2,
   "id": "54d8add2-3283-4a83-82ef-bf3882fe7dc1",
   "metadata": {
    "execution": {
     "iopub.execute_input": "2022-04-22T16:36:04.231773Z",
     "iopub.status.busy": "2022-04-22T16:36:04.231612Z",
     "iopub.status.idle": "2022-04-22T16:37:15.870857Z",
     "shell.execute_reply": "2022-04-22T16:37:15.870341Z",
     "shell.execute_reply.started": "2022-04-22T16:36:04.231757Z"
    },
    "tags": []
   },
   "outputs": [],
   "source": [
    "# Classics\n",
    "import os\n",
    "import glob\n",
    "import matplotlib.pyplot as plt\n",
    "import numpy as np\n",
    "import pandas as pd\n",
    "import seaborn as sns\n",
    "import pickle\n",
    "\n",
    "# Figure style\n",
    "plt.style.use('presentation')\n",
    "\n",
    "# Autoreload extension\n",
    "if 'autoreload' not in get_ipython().extension_manager.loaded:\n",
    "    %load_ext autoreload\n",
    "    \n",
    "%autoreload 2\n",
    "\n",
    "import sys\n",
    "sys.path.append('/cellar/users/aklie/projects/EUGENE/bin/')\n",
    "import project_utils"
   ]
  },
  {
   "cell_type": "code",
   "execution_count": 3,
   "id": "7832a6fc-a2aa-48e5-bd9a-a7722a9f4f05",
   "metadata": {
    "execution": {
     "iopub.execute_input": "2022-04-22T16:37:15.871751Z",
     "iopub.status.busy": "2022-04-22T16:37:15.871637Z",
     "iopub.status.idle": "2022-04-22T16:37:17.154059Z",
     "shell.execute_reply": "2022-04-22T16:37:17.153617Z",
     "shell.execute_reply.started": "2022-04-22T16:37:15.871736Z"
    },
    "tags": []
   },
   "outputs": [],
   "source": [
    "# Define parameters of the notebook\n",
    "DATASET = \"2021_OLS_Library\"  # Which dataset to look at\n",
    "FEATURES = \"phrase_encodings\"  # What features to use to train the model\n",
    "\n",
    "# Define training\n",
    "SPLIT = 0.9\n",
    "SUBSET = None\n",
    "HYPERPARAM = \"baseline\"\n",
    "MODEL = \"LR\""
   ]
  },
  {
   "cell_type": "markdown",
   "id": "53a126f6-6063-443e-96d1-30df0b04e8a6",
   "metadata": {},
   "source": [
    "# Fit models for multiple encodings"
   ]
  },
  {
   "cell_type": "code",
   "execution_count": 289,
   "id": "401b13a8-478f-4c70-825a-5ac57a7ad659",
   "metadata": {
    "execution": {
     "iopub.execute_input": "2022-04-21T19:00:11.489740Z",
     "iopub.status.busy": "2022-04-21T19:00:11.489572Z",
     "iopub.status.idle": "2022-04-21T19:00:12.128528Z",
     "shell.execute_reply": "2022-04-21T19:00:12.128180Z",
     "shell.execute_reply.started": "2022-04-21T19:00:11.489725Z"
    },
    "tags": []
   },
   "outputs": [],
   "source": [
    "files = np.array(glob.glob(\"../data/{}/{}/*False.tsv\".format(DATASET, FEATURES)))\n",
    "files = files[np.argsort([len(file) for file in files])]"
   ]
  },
  {
   "cell_type": "code",
   "execution_count": null,
   "id": "c5b930dc-6c41-4ecb-b873-70c452b2ff37",
   "metadata": {
    "execution": {
     "iopub.execute_input": "2022-04-19T00:37:35.242329Z",
     "iopub.status.busy": "2022-04-19T00:37:35.242148Z"
    },
    "tags": []
   },
   "outputs": [
    {
     "name": "stdout",
     "output_type": "stream",
     "text": [
      "parse_ord_ori_aff_2_weightedByCount_True\n"
     ]
    },
    {
     "name": "stderr",
     "output_type": "stream",
     "text": [
      "/cellar/users/aklie/opt/miniconda3/envs/ml_env/lib/python3.8/site-packages/pandas/core/strings/accessor.py:101: UserWarning: This pattern has match groups. To actually get the groups, use str.extract.\n",
      "  return func(self, *args, **kwargs)\n"
     ]
    },
    {
     "name": "stdout",
     "output_type": "stream",
     "text": [
      "Standardizing features\n",
      "Training a new LR model with the following params: {'C': 1.0, 'class_weight': None, 'dual': False, 'fit_intercept': True, 'intercept_scaling': 1, 'l1_ratio': None, 'max_iter': 100, 'multi_class': 'auto', 'n_jobs': None, 'penalty': 'l2', 'random_state': 13, 'solver': 'lbfgs', 'tol': 0.0001, 'verbose': 1, 'warm_start': False}\n"
     ]
    },
    {
     "name": "stderr",
     "output_type": "stream",
     "text": [
      "[Parallel(n_jobs=1)]: Using backend SequentialBackend with 1 concurrent workers.\n",
      "[Parallel(n_jobs=1)]: Done   1 out of   1 | elapsed:    0.9s finished\n"
     ]
    },
    {
     "name": "stdout",
     "output_type": "stream",
     "text": [
      "Saving hyperparams to ../results/phrase/LR/parse_ord_ori_aff_2_weightedByCount_True/params.csv\n",
      "Predictions provided, skipping them\n",
      "Generating confusion matrix\n",
      "Calculating classification metrics\n",
      "Metric\tTrain\tTest\n",
      "Accuracy\t0.6604\t0.6563\n",
      "Precision\t0.5617\t0.5622\n",
      "Recall\t0.0949\t0.0955\n",
      "F0.1-Score\t0.5357\t0.5362\n",
      "F0.5-Score\t0.2832\t0.2842\n",
      "F1-Score\t0.1624\t0.1632\n",
      "F2-Score\t0.1139\t0.1145\n",
      "F10-Score\t0.0957\t0.0963\n",
      "Plotting PR Curve\n",
      "Plotting ROC Curve\n",
      "Generating report\n",
      "parse_ord_ori_spc_2_weightedByCount_True\n"
     ]
    },
    {
     "name": "stderr",
     "output_type": "stream",
     "text": [
      "/cellar/users/aklie/opt/miniconda3/envs/ml_env/lib/python3.8/site-packages/pandas/core/strings/accessor.py:101: UserWarning: This pattern has match groups. To actually get the groups, use str.extract.\n",
      "  return func(self, *args, **kwargs)\n"
     ]
    },
    {
     "name": "stdout",
     "output_type": "stream",
     "text": [
      "Standardizing features\n",
      "Training a new LR model with the following params: {'C': 1.0, 'class_weight': None, 'dual': False, 'fit_intercept': True, 'intercept_scaling': 1, 'l1_ratio': None, 'max_iter': 100, 'multi_class': 'auto', 'n_jobs': None, 'penalty': 'l2', 'random_state': 13, 'solver': 'lbfgs', 'tol': 0.0001, 'verbose': 1, 'warm_start': False}\n"
     ]
    },
    {
     "name": "stderr",
     "output_type": "stream",
     "text": [
      "[Parallel(n_jobs=1)]: Using backend SequentialBackend with 1 concurrent workers.\n",
      "[Parallel(n_jobs=1)]: Done   1 out of   1 | elapsed:    6.8s finished\n"
     ]
    },
    {
     "name": "stdout",
     "output_type": "stream",
     "text": [
      "Saving hyperparams to ../results/phrase/LR/parse_ord_ori_spc_2_weightedByCount_True/params.csv\n",
      "Predictions provided, skipping them\n",
      "Generating confusion matrix\n",
      "Calculating classification metrics\n",
      "Metric\tTrain\tTest\n",
      "Accuracy\t0.7313\t0.7296\n",
      "Precision\t0.6748\t0.6794\n",
      "Recall\t0.4348\t0.4353\n",
      "F0.1-Score\t0.6711\t0.6756\n",
      "F0.5-Score\t0.6077\t0.6109\n",
      "F1-Score\t0.5288\t0.5306\n",
      "F2-Score\t0.4681\t0.4690\n",
      "F10-Score\t0.4363\t0.4369\n",
      "Plotting PR Curve\n",
      "Plotting ROC Curve\n",
      "Generating report\n",
      "parse_ord_ori_2_weightedByCount_True\n"
     ]
    },
    {
     "name": "stderr",
     "output_type": "stream",
     "text": [
      "/cellar/users/aklie/opt/miniconda3/envs/ml_env/lib/python3.8/site-packages/pandas/core/strings/accessor.py:101: UserWarning: This pattern has match groups. To actually get the groups, use str.extract.\n",
      "  return func(self, *args, **kwargs)\n"
     ]
    },
    {
     "name": "stdout",
     "output_type": "stream",
     "text": [
      "Standardizing features\n",
      "Training a new LR model with the following params: {'C': 1.0, 'class_weight': None, 'dual': False, 'fit_intercept': True, 'intercept_scaling': 1, 'l1_ratio': None, 'max_iter': 100, 'multi_class': 'auto', 'n_jobs': None, 'penalty': 'l2', 'random_state': 13, 'solver': 'lbfgs', 'tol': 0.0001, 'verbose': 1, 'warm_start': False}\n"
     ]
    },
    {
     "name": "stderr",
     "output_type": "stream",
     "text": [
      "[Parallel(n_jobs=1)]: Using backend SequentialBackend with 1 concurrent workers.\n",
      "[Parallel(n_jobs=1)]: Done   1 out of   1 | elapsed:    0.2s finished\n"
     ]
    },
    {
     "name": "stdout",
     "output_type": "stream",
     "text": [
      "Saving hyperparams to ../results/phrase/LR/parse_ord_ori_2_weightedByCount_True/params.csv\n",
      "Predictions provided, skipping them\n",
      "Generating confusion matrix\n",
      "Calculating classification metrics\n",
      "Metric\tTrain\tTest\n",
      "Accuracy\t0.6540\t0.6505\n",
      "Precision\t0.5144\t0.5258\n",
      "Recall\t0.0434\t0.0472\n",
      "F0.1-Score\t0.4645\t0.4778\n",
      "F0.5-Score\t0.1622\t0.1735\n",
      "F1-Score\t0.0800\t0.0865\n",
      "F2-Score\t0.0531\t0.0576\n",
      "F10-Score\t0.0438\t0.0476\n",
      "Plotting PR Curve\n",
      "Plotting ROC Curve\n",
      "Generating report\n",
      "parse_ord_aff_3_weightedByCount_True\n"
     ]
    },
    {
     "name": "stderr",
     "output_type": "stream",
     "text": [
      "/cellar/users/aklie/opt/miniconda3/envs/ml_env/lib/python3.8/site-packages/pandas/core/strings/accessor.py:101: UserWarning: This pattern has match groups. To actually get the groups, use str.extract.\n",
      "  return func(self, *args, **kwargs)\n"
     ]
    },
    {
     "name": "stdout",
     "output_type": "stream",
     "text": [
      "Standardizing features\n",
      "Training a new LR model with the following params: {'C': 1.0, 'class_weight': None, 'dual': False, 'fit_intercept': True, 'intercept_scaling': 1, 'l1_ratio': None, 'max_iter': 100, 'multi_class': 'auto', 'n_jobs': None, 'penalty': 'l2', 'random_state': 13, 'solver': 'lbfgs', 'tol': 0.0001, 'verbose': 1, 'warm_start': False}\n"
     ]
    },
    {
     "name": "stderr",
     "output_type": "stream",
     "text": [
      "[Parallel(n_jobs=1)]: Using backend SequentialBackend with 1 concurrent workers.\n",
      "[Parallel(n_jobs=1)]: Done   1 out of   1 | elapsed:    0.7s finished\n"
     ]
    },
    {
     "name": "stdout",
     "output_type": "stream",
     "text": [
      "Saving hyperparams to ../results/phrase/LR/parse_ord_aff_3_weightedByCount_True/params.csv\n",
      "Predictions provided, skipping them\n",
      "Generating confusion matrix\n",
      "Calculating classification metrics\n",
      "Metric\tTrain\tTest\n"
     ]
    },
    {
     "name": "stderr",
     "output_type": "stream",
     "text": [
      "/cellar/users/aklie/opt/miniconda3/envs/ml_env/lib/python3.8/site-packages/sklearn/metrics/_classification.py:1245: UndefinedMetricWarning: Precision is ill-defined and being set to 0.0 due to no predicted samples. Use `zero_division` parameter to control this behavior.\n",
      "  _warn_prf(average, modifier, msg_start, len(result))\n",
      "/cellar/users/aklie/opt/miniconda3/envs/ml_env/lib/python3.8/site-packages/sklearn/metrics/_classification.py:1245: UndefinedMetricWarning: Precision is ill-defined and being set to 0.0 due to no predicted samples. Use `zero_division` parameter to control this behavior.\n",
      "  _warn_prf(average, modifier, msg_start, len(result))\n",
      "/cellar/users/aklie/projects/EUGENE/bin/project_utils.py:282: RuntimeWarning: invalid value encountered in double_scalars\n",
      "  return (1+(beta**2))*((pr*rec)/(((beta**2)*pr)+rec))\n"
     ]
    },
    {
     "name": "stdout",
     "output_type": "stream",
     "text": [
      "Accuracy\t0.6531\t0.6489\n",
      "Precision\t0.0000\t0.0000\n",
      "Recall\t0.0000\t0.0000\n",
      "F0.1-Score\tnan\tnan\n",
      "F0.5-Score\tnan\tnan\n",
      "F1-Score\tnan\tnan\n",
      "F2-Score\tnan\tnan\n",
      "F10-Score\tnan\tnan\n",
      "Plotting PR Curve\n",
      "Plotting ROC Curve\n",
      "Generating report\n",
      "parse_ord_spc_aff_2_weightedByCount_False\n"
     ]
    },
    {
     "name": "stderr",
     "output_type": "stream",
     "text": [
      "/cellar/users/aklie/opt/miniconda3/envs/ml_env/lib/python3.8/site-packages/pandas/core/strings/accessor.py:101: UserWarning: This pattern has match groups. To actually get the groups, use str.extract.\n",
      "  return func(self, *args, **kwargs)\n"
     ]
    },
    {
     "name": "stdout",
     "output_type": "stream",
     "text": [
      "Standardizing features\n",
      "Training a new LR model with the following params: {'C': 1.0, 'class_weight': None, 'dual': False, 'fit_intercept': True, 'intercept_scaling': 1, 'l1_ratio': None, 'max_iter': 100, 'multi_class': 'auto', 'n_jobs': None, 'penalty': 'l2', 'random_state': 13, 'solver': 'lbfgs', 'tol': 0.0001, 'verbose': 1, 'warm_start': False}\n"
     ]
    },
    {
     "name": "stderr",
     "output_type": "stream",
     "text": [
      "[Parallel(n_jobs=1)]: Using backend SequentialBackend with 1 concurrent workers.\n",
      "[Parallel(n_jobs=1)]: Done   1 out of   1 | elapsed:   12.1s finished\n"
     ]
    },
    {
     "name": "stdout",
     "output_type": "stream",
     "text": [
      "Saving hyperparams to ../results/phrase/LR/parse_ord_spc_aff_2_weightedByCount_False/params.csv\n",
      "Predictions provided, skipping them\n",
      "Generating confusion matrix\n",
      "Calculating classification metrics\n",
      "Metric\tTrain\tTest\n",
      "Accuracy\t0.6810\t0.6787\n",
      "Precision\t0.5899\t0.5963\n",
      "Recall\t0.2634\t0.2624\n",
      "F0.1-Score\t0.5827\t0.5889\n",
      "F0.5-Score\t0.4727\t0.4753\n",
      "F1-Score\t0.3642\t0.3645\n",
      "F2-Score\t0.2962\t0.2955\n",
      "F10-Score\t0.2649\t0.2639\n",
      "Plotting PR Curve\n",
      "Plotting ROC Curve\n",
      "Generating report\n",
      "parse_ord_aff_2_weightedByCount_True\n"
     ]
    },
    {
     "name": "stderr",
     "output_type": "stream",
     "text": [
      "/cellar/users/aklie/opt/miniconda3/envs/ml_env/lib/python3.8/site-packages/pandas/core/strings/accessor.py:101: UserWarning: This pattern has match groups. To actually get the groups, use str.extract.\n",
      "  return func(self, *args, **kwargs)\n"
     ]
    },
    {
     "name": "stdout",
     "output_type": "stream",
     "text": [
      "Standardizing features\n",
      "Training a new LR model with the following params: {'C': 1.0, 'class_weight': None, 'dual': False, 'fit_intercept': True, 'intercept_scaling': 1, 'l1_ratio': None, 'max_iter': 100, 'multi_class': 'auto', 'n_jobs': None, 'penalty': 'l2', 'random_state': 13, 'solver': 'lbfgs', 'tol': 0.0001, 'verbose': 1, 'warm_start': False}\n"
     ]
    },
    {
     "name": "stderr",
     "output_type": "stream",
     "text": [
      "[Parallel(n_jobs=1)]: Using backend SequentialBackend with 1 concurrent workers.\n",
      "[Parallel(n_jobs=1)]: Done   1 out of   1 | elapsed:    0.2s finished\n"
     ]
    },
    {
     "name": "stdout",
     "output_type": "stream",
     "text": [
      "Saving hyperparams to ../results/phrase/LR/parse_ord_aff_2_weightedByCount_True/params.csv\n",
      "Predictions provided, skipping them\n",
      "Generating confusion matrix\n",
      "Calculating classification metrics\n",
      "Metric\tTrain\tTest\n"
     ]
    },
    {
     "name": "stderr",
     "output_type": "stream",
     "text": [
      "/cellar/users/aklie/opt/miniconda3/envs/ml_env/lib/python3.8/site-packages/sklearn/metrics/_classification.py:1245: UndefinedMetricWarning: Precision is ill-defined and being set to 0.0 due to no predicted samples. Use `zero_division` parameter to control this behavior.\n",
      "  _warn_prf(average, modifier, msg_start, len(result))\n",
      "/cellar/users/aklie/opt/miniconda3/envs/ml_env/lib/python3.8/site-packages/sklearn/metrics/_classification.py:1245: UndefinedMetricWarning: Precision is ill-defined and being set to 0.0 due to no predicted samples. Use `zero_division` parameter to control this behavior.\n",
      "  _warn_prf(average, modifier, msg_start, len(result))\n",
      "/cellar/users/aklie/projects/EUGENE/bin/project_utils.py:282: RuntimeWarning: invalid value encountered in double_scalars\n",
      "  return (1+(beta**2))*((pr*rec)/(((beta**2)*pr)+rec))\n"
     ]
    },
    {
     "name": "stdout",
     "output_type": "stream",
     "text": [
      "Accuracy\t0.6531\t0.6489\n",
      "Precision\t0.0000\t0.0000\n",
      "Recall\t0.0000\t0.0000\n",
      "F0.1-Score\tnan\tnan\n",
      "F0.5-Score\tnan\tnan\n",
      "F1-Score\tnan\tnan\n",
      "F2-Score\tnan\tnan\n",
      "F10-Score\tnan\tnan\n",
      "Plotting PR Curve\n",
      "Plotting ROC Curve\n",
      "Generating report\n",
      "parse_ord_spc_aff_2_weightedByCount_True\n"
     ]
    },
    {
     "name": "stderr",
     "output_type": "stream",
     "text": [
      "/cellar/users/aklie/opt/miniconda3/envs/ml_env/lib/python3.8/site-packages/pandas/core/strings/accessor.py:101: UserWarning: This pattern has match groups. To actually get the groups, use str.extract.\n",
      "  return func(self, *args, **kwargs)\n"
     ]
    },
    {
     "name": "stdout",
     "output_type": "stream",
     "text": [
      "Standardizing features\n",
      "Training a new LR model with the following params: {'C': 1.0, 'class_weight': None, 'dual': False, 'fit_intercept': True, 'intercept_scaling': 1, 'l1_ratio': None, 'max_iter': 100, 'multi_class': 'auto', 'n_jobs': None, 'penalty': 'l2', 'random_state': 13, 'solver': 'lbfgs', 'tol': 0.0001, 'verbose': 1, 'warm_start': False}\n"
     ]
    },
    {
     "name": "stderr",
     "output_type": "stream",
     "text": [
      "[Parallel(n_jobs=1)]: Using backend SequentialBackend with 1 concurrent workers.\n",
      "[Parallel(n_jobs=1)]: Done   1 out of   1 | elapsed:   12.0s finished\n"
     ]
    },
    {
     "name": "stdout",
     "output_type": "stream",
     "text": [
      "Saving hyperparams to ../results/phrase/LR/parse_ord_spc_aff_2_weightedByCount_True/params.csv\n",
      "Predictions provided, skipping them\n",
      "Generating confusion matrix\n",
      "Calculating classification metrics\n",
      "Metric\tTrain\tTest\n",
      "Accuracy\t0.6810\t0.6787\n",
      "Precision\t0.5899\t0.5963\n",
      "Recall\t0.2634\t0.2624\n",
      "F0.1-Score\t0.5827\t0.5889\n",
      "F0.5-Score\t0.4727\t0.4753\n",
      "F1-Score\t0.3642\t0.3645\n",
      "F2-Score\t0.2962\t0.2955\n",
      "F10-Score\t0.2649\t0.2639\n",
      "Plotting PR Curve\n",
      "Plotting ROC Curve\n",
      "Generating report\n",
      "parse_ord_ori_aff_2_weightedByCount_False\n"
     ]
    },
    {
     "name": "stderr",
     "output_type": "stream",
     "text": [
      "/cellar/users/aklie/opt/miniconda3/envs/ml_env/lib/python3.8/site-packages/pandas/core/strings/accessor.py:101: UserWarning: This pattern has match groups. To actually get the groups, use str.extract.\n",
      "  return func(self, *args, **kwargs)\n"
     ]
    },
    {
     "name": "stdout",
     "output_type": "stream",
     "text": [
      "Standardizing features\n",
      "Training a new LR model with the following params: {'C': 1.0, 'class_weight': None, 'dual': False, 'fit_intercept': True, 'intercept_scaling': 1, 'l1_ratio': None, 'max_iter': 100, 'multi_class': 'auto', 'n_jobs': None, 'penalty': 'l2', 'random_state': 13, 'solver': 'lbfgs', 'tol': 0.0001, 'verbose': 1, 'warm_start': False}\n"
     ]
    },
    {
     "name": "stderr",
     "output_type": "stream",
     "text": [
      "[Parallel(n_jobs=1)]: Using backend SequentialBackend with 1 concurrent workers.\n",
      "[Parallel(n_jobs=1)]: Done   1 out of   1 | elapsed:    0.8s finished\n"
     ]
    },
    {
     "name": "stdout",
     "output_type": "stream",
     "text": [
      "Saving hyperparams to ../results/phrase/LR/parse_ord_ori_aff_2_weightedByCount_False/params.csv\n",
      "Predictions provided, skipping them\n",
      "Generating confusion matrix\n",
      "Calculating classification metrics\n",
      "Metric\tTrain\tTest\n",
      "Accuracy\t0.6604\t0.6563\n",
      "Precision\t0.5617\t0.5622\n",
      "Recall\t0.0949\t0.0955\n",
      "F0.1-Score\t0.5357\t0.5362\n",
      "F0.5-Score\t0.2832\t0.2842\n",
      "F1-Score\t0.1624\t0.1632\n",
      "F2-Score\t0.1139\t0.1145\n",
      "F10-Score\t0.0957\t0.0963\n",
      "Plotting PR Curve\n",
      "Plotting ROC Curve\n",
      "Generating report\n",
      "parse_ord_3_weightedByCount_False\n"
     ]
    },
    {
     "name": "stderr",
     "output_type": "stream",
     "text": [
      "/cellar/users/aklie/opt/miniconda3/envs/ml_env/lib/python3.8/site-packages/pandas/core/strings/accessor.py:101: UserWarning: This pattern has match groups. To actually get the groups, use str.extract.\n",
      "  return func(self, *args, **kwargs)\n",
      "[Parallel(n_jobs=1)]: Using backend SequentialBackend with 1 concurrent workers.\n"
     ]
    },
    {
     "name": "stdout",
     "output_type": "stream",
     "text": [
      "Standardizing features\n",
      "Training a new LR model with the following params: {'C': 1.0, 'class_weight': None, 'dual': False, 'fit_intercept': True, 'intercept_scaling': 1, 'l1_ratio': None, 'max_iter': 100, 'multi_class': 'auto', 'n_jobs': None, 'penalty': 'l2', 'random_state': 13, 'solver': 'lbfgs', 'tol': 0.0001, 'verbose': 1, 'warm_start': False}\n"
     ]
    },
    {
     "name": "stderr",
     "output_type": "stream",
     "text": [
      "[Parallel(n_jobs=1)]: Done   1 out of   1 | elapsed:    0.2s finished\n"
     ]
    },
    {
     "name": "stdout",
     "output_type": "stream",
     "text": [
      "Saving hyperparams to ../results/phrase/LR/parse_ord_3_weightedByCount_False/params.csv\n",
      "Predictions provided, skipping them\n",
      "Generating confusion matrix\n",
      "Calculating classification metrics\n",
      "Metric\tTrain\tTest\n"
     ]
    },
    {
     "name": "stderr",
     "output_type": "stream",
     "text": [
      "/cellar/users/aklie/opt/miniconda3/envs/ml_env/lib/python3.8/site-packages/sklearn/metrics/_classification.py:1245: UndefinedMetricWarning: Precision is ill-defined and being set to 0.0 due to no predicted samples. Use `zero_division` parameter to control this behavior.\n",
      "  _warn_prf(average, modifier, msg_start, len(result))\n",
      "/cellar/users/aklie/opt/miniconda3/envs/ml_env/lib/python3.8/site-packages/sklearn/metrics/_classification.py:1245: UndefinedMetricWarning: Precision is ill-defined and being set to 0.0 due to no predicted samples. Use `zero_division` parameter to control this behavior.\n",
      "  _warn_prf(average, modifier, msg_start, len(result))\n",
      "/cellar/users/aklie/projects/EUGENE/bin/project_utils.py:282: RuntimeWarning: invalid value encountered in double_scalars\n",
      "  return (1+(beta**2))*((pr*rec)/(((beta**2)*pr)+rec))\n"
     ]
    },
    {
     "name": "stdout",
     "output_type": "stream",
     "text": [
      "Accuracy\t0.6531\t0.6489\n",
      "Precision\t0.0000\t0.0000\n",
      "Recall\t0.0000\t0.0000\n",
      "F0.1-Score\tnan\tnan\n",
      "F0.5-Score\tnan\tnan\n",
      "F1-Score\tnan\tnan\n",
      "F2-Score\tnan\tnan\n",
      "F10-Score\tnan\tnan\n",
      "Plotting PR Curve\n",
      "Plotting ROC Curve\n",
      "Generating report\n",
      "parse_ord_3_weightedByCount_True\n"
     ]
    },
    {
     "name": "stderr",
     "output_type": "stream",
     "text": [
      "/cellar/users/aklie/opt/miniconda3/envs/ml_env/lib/python3.8/site-packages/pandas/core/strings/accessor.py:101: UserWarning: This pattern has match groups. To actually get the groups, use str.extract.\n",
      "  return func(self, *args, **kwargs)\n",
      "[Parallel(n_jobs=1)]: Using backend SequentialBackend with 1 concurrent workers.\n"
     ]
    },
    {
     "name": "stdout",
     "output_type": "stream",
     "text": [
      "Standardizing features\n",
      "Training a new LR model with the following params: {'C': 1.0, 'class_weight': None, 'dual': False, 'fit_intercept': True, 'intercept_scaling': 1, 'l1_ratio': None, 'max_iter': 100, 'multi_class': 'auto', 'n_jobs': None, 'penalty': 'l2', 'random_state': 13, 'solver': 'lbfgs', 'tol': 0.0001, 'verbose': 1, 'warm_start': False}\n",
      "Saving hyperparams to ../results/phrase/LR/parse_ord_3_weightedByCount_True/params.csv\n",
      "Predictions provided, skipping them\n",
      "Generating confusion matrix\n"
     ]
    },
    {
     "name": "stderr",
     "output_type": "stream",
     "text": [
      "[Parallel(n_jobs=1)]: Done   1 out of   1 | elapsed:    0.1s finished\n"
     ]
    },
    {
     "name": "stdout",
     "output_type": "stream",
     "text": [
      "Calculating classification metrics\n",
      "Metric\tTrain\tTest\n",
      "Accuracy\t0.6531\t0.6489\n",
      "Precision\t0.0000\t0.0000\n",
      "Recall\t0.0000\t0.0000\n",
      "F0.1-Score\tnan\tnan\n",
      "F0.5-Score\tnan\tnan\n",
      "F1-Score\tnan\tnan\n",
      "F2-Score\tnan\tnan\n",
      "F10-Score\tnan\tnan\n",
      "Plotting PR Curve\n"
     ]
    },
    {
     "name": "stderr",
     "output_type": "stream",
     "text": [
      "/cellar/users/aklie/opt/miniconda3/envs/ml_env/lib/python3.8/site-packages/sklearn/metrics/_classification.py:1245: UndefinedMetricWarning: Precision is ill-defined and being set to 0.0 due to no predicted samples. Use `zero_division` parameter to control this behavior.\n",
      "  _warn_prf(average, modifier, msg_start, len(result))\n",
      "/cellar/users/aklie/opt/miniconda3/envs/ml_env/lib/python3.8/site-packages/sklearn/metrics/_classification.py:1245: UndefinedMetricWarning: Precision is ill-defined and being set to 0.0 due to no predicted samples. Use `zero_division` parameter to control this behavior.\n",
      "  _warn_prf(average, modifier, msg_start, len(result))\n",
      "/cellar/users/aklie/projects/EUGENE/bin/project_utils.py:282: RuntimeWarning: invalid value encountered in double_scalars\n",
      "  return (1+(beta**2))*((pr*rec)/(((beta**2)*pr)+rec))\n"
     ]
    },
    {
     "name": "stdout",
     "output_type": "stream",
     "text": [
      "Plotting ROC Curve\n",
      "Generating report\n",
      "parse_ord_2_weightedByCount_True\n"
     ]
    },
    {
     "name": "stderr",
     "output_type": "stream",
     "text": [
      "/cellar/users/aklie/opt/miniconda3/envs/ml_env/lib/python3.8/site-packages/pandas/core/strings/accessor.py:101: UserWarning: This pattern has match groups. To actually get the groups, use str.extract.\n",
      "  return func(self, *args, **kwargs)\n",
      "[Parallel(n_jobs=1)]: Using backend SequentialBackend with 1 concurrent workers.\n"
     ]
    },
    {
     "name": "stdout",
     "output_type": "stream",
     "text": [
      "Standardizing features\n",
      "Training a new LR model with the following params: {'C': 1.0, 'class_weight': None, 'dual': False, 'fit_intercept': True, 'intercept_scaling': 1, 'l1_ratio': None, 'max_iter': 100, 'multi_class': 'auto', 'n_jobs': None, 'penalty': 'l2', 'random_state': 13, 'solver': 'lbfgs', 'tol': 0.0001, 'verbose': 1, 'warm_start': False}\n",
      "Saving hyperparams to ../results/phrase/LR/parse_ord_2_weightedByCount_True/params.csv\n",
      "Predictions provided, skipping them\n",
      "Generating confusion matrix\n"
     ]
    },
    {
     "name": "stderr",
     "output_type": "stream",
     "text": [
      "[Parallel(n_jobs=1)]: Done   1 out of   1 | elapsed:    0.1s finished\n"
     ]
    },
    {
     "name": "stdout",
     "output_type": "stream",
     "text": [
      "Calculating classification metrics\n",
      "Metric\tTrain\tTest\n",
      "Accuracy\t0.6531\t0.6489\n",
      "Precision\t0.0000\t0.0000\n",
      "Recall\t0.0000\t0.0000\n",
      "F0.1-Score\tnan\tnan\n",
      "F0.5-Score\tnan\tnan\n",
      "F1-Score\tnan\tnan\n",
      "F2-Score\tnan\tnan\n",
      "F10-Score\tnan\tnan\n",
      "Plotting PR Curve\n"
     ]
    },
    {
     "name": "stderr",
     "output_type": "stream",
     "text": [
      "/cellar/users/aklie/opt/miniconda3/envs/ml_env/lib/python3.8/site-packages/sklearn/metrics/_classification.py:1245: UndefinedMetricWarning: Precision is ill-defined and being set to 0.0 due to no predicted samples. Use `zero_division` parameter to control this behavior.\n",
      "  _warn_prf(average, modifier, msg_start, len(result))\n",
      "/cellar/users/aklie/opt/miniconda3/envs/ml_env/lib/python3.8/site-packages/sklearn/metrics/_classification.py:1245: UndefinedMetricWarning: Precision is ill-defined and being set to 0.0 due to no predicted samples. Use `zero_division` parameter to control this behavior.\n",
      "  _warn_prf(average, modifier, msg_start, len(result))\n",
      "/cellar/users/aklie/projects/EUGENE/bin/project_utils.py:282: RuntimeWarning: invalid value encountered in double_scalars\n",
      "  return (1+(beta**2))*((pr*rec)/(((beta**2)*pr)+rec))\n"
     ]
    },
    {
     "name": "stdout",
     "output_type": "stream",
     "text": [
      "Plotting ROC Curve\n",
      "Generating report\n",
      "parse_ord_ori_spc_2_weightedByCount_False\n"
     ]
    },
    {
     "name": "stderr",
     "output_type": "stream",
     "text": [
      "/cellar/users/aklie/opt/miniconda3/envs/ml_env/lib/python3.8/site-packages/pandas/core/strings/accessor.py:101: UserWarning: This pattern has match groups. To actually get the groups, use str.extract.\n",
      "  return func(self, *args, **kwargs)\n"
     ]
    },
    {
     "name": "stdout",
     "output_type": "stream",
     "text": [
      "Standardizing features\n",
      "Training a new LR model with the following params: {'C': 1.0, 'class_weight': None, 'dual': False, 'fit_intercept': True, 'intercept_scaling': 1, 'l1_ratio': None, 'max_iter': 100, 'multi_class': 'auto', 'n_jobs': None, 'penalty': 'l2', 'random_state': 13, 'solver': 'lbfgs', 'tol': 0.0001, 'verbose': 1, 'warm_start': False}\n"
     ]
    },
    {
     "name": "stderr",
     "output_type": "stream",
     "text": [
      "[Parallel(n_jobs=1)]: Using backend SequentialBackend with 1 concurrent workers.\n",
      "/cellar/users/aklie/opt/miniconda3/envs/ml_env/lib/python3.8/site-packages/sklearn/linear_model/_logistic.py:763: ConvergenceWarning: lbfgs failed to converge (status=1):\n",
      "STOP: TOTAL NO. of ITERATIONS REACHED LIMIT.\n",
      "\n",
      "Increase the number of iterations (max_iter) or scale the data as shown in:\n",
      "    https://scikit-learn.org/stable/modules/preprocessing.html\n",
      "Please also refer to the documentation for alternative solver options:\n",
      "    https://scikit-learn.org/stable/modules/linear_model.html#logistic-regression\n",
      "  n_iter_i = _check_optimize_result(\n",
      "[Parallel(n_jobs=1)]: Done   1 out of   1 | elapsed:   14.3s finished\n"
     ]
    },
    {
     "name": "stdout",
     "output_type": "stream",
     "text": [
      "Saving hyperparams to ../results/phrase/LR/parse_ord_ori_spc_2_weightedByCount_False/params.csv\n",
      "Predictions provided, skipping them\n",
      "Generating confusion matrix\n",
      "Calculating classification metrics\n",
      "Metric\tTrain\tTest\n",
      "Accuracy\t0.7311\t0.7300\n",
      "Precision\t0.6745\t0.6802\n",
      "Recall\t0.4346\t0.4359\n",
      "F0.1-Score\t0.6709\t0.6764\n",
      "F0.5-Score\t0.6075\t0.6116\n",
      "F1-Score\t0.5286\t0.5313\n",
      "F2-Score\t0.4679\t0.4697\n",
      "F10-Score\t0.4361\t0.4375\n",
      "Plotting PR Curve\n",
      "Plotting ROC Curve\n",
      "Generating report\n",
      "parse_ord_spc_2_weightedByCount_True\n"
     ]
    },
    {
     "name": "stderr",
     "output_type": "stream",
     "text": [
      "/cellar/users/aklie/opt/miniconda3/envs/ml_env/lib/python3.8/site-packages/pandas/core/strings/accessor.py:101: UserWarning: This pattern has match groups. To actually get the groups, use str.extract.\n",
      "  return func(self, *args, **kwargs)\n"
     ]
    },
    {
     "name": "stdout",
     "output_type": "stream",
     "text": [
      "Standardizing features\n",
      "Training a new LR model with the following params: {'C': 1.0, 'class_weight': None, 'dual': False, 'fit_intercept': True, 'intercept_scaling': 1, 'l1_ratio': None, 'max_iter': 100, 'multi_class': 'auto', 'n_jobs': None, 'penalty': 'l2', 'random_state': 13, 'solver': 'lbfgs', 'tol': 0.0001, 'verbose': 1, 'warm_start': False}\n"
     ]
    },
    {
     "name": "stderr",
     "output_type": "stream",
     "text": [
      "[Parallel(n_jobs=1)]: Using backend SequentialBackend with 1 concurrent workers.\n",
      "[Parallel(n_jobs=1)]: Done   1 out of   1 | elapsed:    3.3s finished\n"
     ]
    },
    {
     "name": "stdout",
     "output_type": "stream",
     "text": [
      "Saving hyperparams to ../results/phrase/LR/parse_ord_spc_2_weightedByCount_True/params.csv\n",
      "Predictions provided, skipping them\n",
      "Generating confusion matrix\n",
      "Calculating classification metrics\n",
      "Metric\tTrain\tTest\n",
      "Accuracy\t0.6603\t0.6582\n",
      "Precision\t0.5509\t0.5683\n",
      "Recall\t0.1117\t0.1105\n",
      "F0.1-Score\t0.5303\t0.5459\n",
      "F0.5-Score\t0.3084\t0.3108\n",
      "F1-Score\t0.1858\t0.1850\n",
      "F2-Score\t0.1329\t0.1317\n",
      "F10-Score\t0.1126\t0.1114\n",
      "Plotting PR Curve\n",
      "Plotting ROC Curve\n",
      "Generating report\n",
      "parse_ord_ori_aff_3_weightedByCount_False\n"
     ]
    },
    {
     "name": "stderr",
     "output_type": "stream",
     "text": [
      "/cellar/users/aklie/opt/miniconda3/envs/ml_env/lib/python3.8/site-packages/pandas/core/strings/accessor.py:101: UserWarning: This pattern has match groups. To actually get the groups, use str.extract.\n",
      "  return func(self, *args, **kwargs)\n"
     ]
    },
    {
     "name": "stdout",
     "output_type": "stream",
     "text": [
      "Standardizing features\n",
      "Training a new LR model with the following params: {'C': 1.0, 'class_weight': None, 'dual': False, 'fit_intercept': True, 'intercept_scaling': 1, 'l1_ratio': None, 'max_iter': 100, 'multi_class': 'auto', 'n_jobs': None, 'penalty': 'l2', 'random_state': 13, 'solver': 'lbfgs', 'tol': 0.0001, 'verbose': 1, 'warm_start': False}\n"
     ]
    },
    {
     "name": "stderr",
     "output_type": "stream",
     "text": [
      "[Parallel(n_jobs=1)]: Using backend SequentialBackend with 1 concurrent workers.\n",
      "[Parallel(n_jobs=1)]: Done   1 out of   1 | elapsed:    2.4s finished\n"
     ]
    },
    {
     "name": "stdout",
     "output_type": "stream",
     "text": [
      "Saving hyperparams to ../results/phrase/LR/parse_ord_ori_aff_3_weightedByCount_False/params.csv\n",
      "Predictions provided, skipping them\n",
      "Generating confusion matrix\n",
      "Calculating classification metrics\n",
      "Metric\tTrain\tTest\n",
      "Accuracy\t0.6692\t0.6657\n",
      "Precision\t0.5705\t0.5740\n",
      "Recall\t0.1877\t0.1858\n",
      "F0.1-Score\t0.5592\t0.5623\n",
      "F0.5-Score\t0.4052\t0.4048\n",
      "F1-Score\t0.2825\t0.2807\n",
      "F2-Score\t0.2168\t0.2148\n",
      "F10-Score\t0.1889\t0.1870\n",
      "Plotting PR Curve\n",
      "Plotting ROC Curve\n",
      "Generating report\n",
      "parse_ord_spc_2_weightedByCount_False\n"
     ]
    },
    {
     "name": "stderr",
     "output_type": "stream",
     "text": [
      "/cellar/users/aklie/opt/miniconda3/envs/ml_env/lib/python3.8/site-packages/pandas/core/strings/accessor.py:101: UserWarning: This pattern has match groups. To actually get the groups, use str.extract.\n",
      "  return func(self, *args, **kwargs)\n"
     ]
    },
    {
     "name": "stdout",
     "output_type": "stream",
     "text": [
      "Standardizing features\n",
      "Training a new LR model with the following params: {'C': 1.0, 'class_weight': None, 'dual': False, 'fit_intercept': True, 'intercept_scaling': 1, 'l1_ratio': None, 'max_iter': 100, 'multi_class': 'auto', 'n_jobs': None, 'penalty': 'l2', 'random_state': 13, 'solver': 'lbfgs', 'tol': 0.0001, 'verbose': 1, 'warm_start': False}\n"
     ]
    },
    {
     "name": "stderr",
     "output_type": "stream",
     "text": [
      "[Parallel(n_jobs=1)]: Using backend SequentialBackend with 1 concurrent workers.\n",
      "[Parallel(n_jobs=1)]: Done   1 out of   1 | elapsed:    6.3s finished\n"
     ]
    },
    {
     "name": "stdout",
     "output_type": "stream",
     "text": [
      "Saving hyperparams to ../results/phrase/LR/parse_ord_spc_2_weightedByCount_False/params.csv\n",
      "Predictions provided, skipping them\n",
      "Generating confusion matrix\n",
      "Calculating classification metrics\n",
      "Metric\tTrain\tTest\n",
      "Accuracy\t0.6601\t0.6584\n",
      "Precision\t0.5504\t0.5703\n",
      "Recall\t0.1104\t0.1100\n",
      "F0.1-Score\t0.5295\t0.5476\n",
      "F0.5-Score\t0.3063\t0.3104\n",
      "F1-Score\t0.1839\t0.1844\n",
      "F2-Score\t0.1314\t0.1311\n",
      "F10-Score\t0.1113\t0.1108\n",
      "Plotting PR Curve\n",
      "Plotting ROC Curve\n",
      "Generating report\n",
      "parse_ord_aff_2_weightedByCount_False\n"
     ]
    },
    {
     "name": "stderr",
     "output_type": "stream",
     "text": [
      "/cellar/users/aklie/opt/miniconda3/envs/ml_env/lib/python3.8/site-packages/pandas/core/strings/accessor.py:101: UserWarning: This pattern has match groups. To actually get the groups, use str.extract.\n",
      "  return func(self, *args, **kwargs)\n"
     ]
    },
    {
     "name": "stdout",
     "output_type": "stream",
     "text": [
      "Standardizing features\n",
      "Training a new LR model with the following params: {'C': 1.0, 'class_weight': None, 'dual': False, 'fit_intercept': True, 'intercept_scaling': 1, 'l1_ratio': None, 'max_iter': 100, 'multi_class': 'auto', 'n_jobs': None, 'penalty': 'l2', 'random_state': 13, 'solver': 'lbfgs', 'tol': 0.0001, 'verbose': 1, 'warm_start': False}\n"
     ]
    },
    {
     "name": "stderr",
     "output_type": "stream",
     "text": [
      "[Parallel(n_jobs=1)]: Using backend SequentialBackend with 1 concurrent workers.\n",
      "[Parallel(n_jobs=1)]: Done   1 out of   1 | elapsed:    0.2s finished\n"
     ]
    },
    {
     "name": "stdout",
     "output_type": "stream",
     "text": [
      "Saving hyperparams to ../results/phrase/LR/parse_ord_aff_2_weightedByCount_False/params.csv\n",
      "Predictions provided, skipping them\n",
      "Generating confusion matrix\n",
      "Calculating classification metrics\n",
      "Metric\tTrain\tTest\n"
     ]
    },
    {
     "name": "stderr",
     "output_type": "stream",
     "text": [
      "/cellar/users/aklie/opt/miniconda3/envs/ml_env/lib/python3.8/site-packages/sklearn/metrics/_classification.py:1245: UndefinedMetricWarning: Precision is ill-defined and being set to 0.0 due to no predicted samples. Use `zero_division` parameter to control this behavior.\n",
      "  _warn_prf(average, modifier, msg_start, len(result))\n",
      "/cellar/users/aklie/opt/miniconda3/envs/ml_env/lib/python3.8/site-packages/sklearn/metrics/_classification.py:1245: UndefinedMetricWarning: Precision is ill-defined and being set to 0.0 due to no predicted samples. Use `zero_division` parameter to control this behavior.\n",
      "  _warn_prf(average, modifier, msg_start, len(result))\n",
      "/cellar/users/aklie/projects/EUGENE/bin/project_utils.py:282: RuntimeWarning: invalid value encountered in double_scalars\n",
      "  return (1+(beta**2))*((pr*rec)/(((beta**2)*pr)+rec))\n"
     ]
    },
    {
     "name": "stdout",
     "output_type": "stream",
     "text": [
      "Accuracy\t0.6531\t0.6489\n",
      "Precision\t0.0000\t0.0000\n",
      "Recall\t0.0000\t0.0000\n",
      "F0.1-Score\tnan\tnan\n",
      "F0.5-Score\tnan\tnan\n",
      "F1-Score\tnan\tnan\n",
      "F2-Score\tnan\tnan\n",
      "F10-Score\tnan\tnan\n",
      "Plotting PR Curve\n",
      "Plotting ROC Curve\n",
      "Generating report\n",
      "parse_ord_ori_2_weightedByCount_False\n"
     ]
    },
    {
     "name": "stderr",
     "output_type": "stream",
     "text": [
      "/cellar/users/aklie/opt/miniconda3/envs/ml_env/lib/python3.8/site-packages/pandas/core/strings/accessor.py:101: UserWarning: This pattern has match groups. To actually get the groups, use str.extract.\n",
      "  return func(self, *args, **kwargs)\n"
     ]
    },
    {
     "name": "stdout",
     "output_type": "stream",
     "text": [
      "Standardizing features\n",
      "Training a new LR model with the following params: {'C': 1.0, 'class_weight': None, 'dual': False, 'fit_intercept': True, 'intercept_scaling': 1, 'l1_ratio': None, 'max_iter': 100, 'multi_class': 'auto', 'n_jobs': None, 'penalty': 'l2', 'random_state': 13, 'solver': 'lbfgs', 'tol': 0.0001, 'verbose': 1, 'warm_start': False}\n"
     ]
    },
    {
     "name": "stderr",
     "output_type": "stream",
     "text": [
      "[Parallel(n_jobs=1)]: Using backend SequentialBackend with 1 concurrent workers.\n",
      "[Parallel(n_jobs=1)]: Done   1 out of   1 | elapsed:    0.3s finished\n"
     ]
    },
    {
     "name": "stdout",
     "output_type": "stream",
     "text": [
      "Saving hyperparams to ../results/phrase/LR/parse_ord_ori_2_weightedByCount_False/params.csv\n",
      "Predictions provided, skipping them\n",
      "Generating confusion matrix\n",
      "Calculating classification metrics\n",
      "Metric\tTrain\tTest\n",
      "Accuracy\t0.6531\t0.6487\n",
      "Precision\t0.4980\t0.4929\n",
      "Recall\t0.0218\t0.0218\n",
      "F0.1-Score\t0.4093\t0.4062\n",
      "F0.5-Score\t0.0926\t0.0928\n",
      "F1-Score\t0.0417\t0.0418\n",
      "F2-Score\t0.0269\t0.0270\n",
      "F10-Score\t0.0220\t0.0221\n",
      "Plotting PR Curve\n",
      "Plotting ROC Curve\n",
      "Generating report\n",
      "parse_ord_2_weightedByCount_False\n"
     ]
    },
    {
     "name": "stderr",
     "output_type": "stream",
     "text": [
      "/cellar/users/aklie/opt/miniconda3/envs/ml_env/lib/python3.8/site-packages/pandas/core/strings/accessor.py:101: UserWarning: This pattern has match groups. To actually get the groups, use str.extract.\n",
      "  return func(self, *args, **kwargs)\n",
      "[Parallel(n_jobs=1)]: Using backend SequentialBackend with 1 concurrent workers.\n"
     ]
    },
    {
     "name": "stdout",
     "output_type": "stream",
     "text": [
      "Standardizing features\n",
      "Training a new LR model with the following params: {'C': 1.0, 'class_weight': None, 'dual': False, 'fit_intercept': True, 'intercept_scaling': 1, 'l1_ratio': None, 'max_iter': 100, 'multi_class': 'auto', 'n_jobs': None, 'penalty': 'l2', 'random_state': 13, 'solver': 'lbfgs', 'tol': 0.0001, 'verbose': 1, 'warm_start': False}\n",
      "Saving hyperparams to ../results/phrase/LR/parse_ord_2_weightedByCount_False/params.csv\n",
      "Predictions provided, skipping them\n",
      "Generating confusion matrix\n"
     ]
    },
    {
     "name": "stderr",
     "output_type": "stream",
     "text": [
      "[Parallel(n_jobs=1)]: Done   1 out of   1 | elapsed:    0.1s finished\n"
     ]
    },
    {
     "name": "stdout",
     "output_type": "stream",
     "text": [
      "Calculating classification metrics\n",
      "Metric\tTrain\tTest\n"
     ]
    },
    {
     "name": "stderr",
     "output_type": "stream",
     "text": [
      "/cellar/users/aklie/opt/miniconda3/envs/ml_env/lib/python3.8/site-packages/sklearn/metrics/_classification.py:1245: UndefinedMetricWarning: Precision is ill-defined and being set to 0.0 due to no predicted samples. Use `zero_division` parameter to control this behavior.\n",
      "  _warn_prf(average, modifier, msg_start, len(result))\n",
      "/cellar/users/aklie/opt/miniconda3/envs/ml_env/lib/python3.8/site-packages/sklearn/metrics/_classification.py:1245: UndefinedMetricWarning: Precision is ill-defined and being set to 0.0 due to no predicted samples. Use `zero_division` parameter to control this behavior.\n",
      "  _warn_prf(average, modifier, msg_start, len(result))\n",
      "/cellar/users/aklie/projects/EUGENE/bin/project_utils.py:282: RuntimeWarning: invalid value encountered in double_scalars\n",
      "  return (1+(beta**2))*((pr*rec)/(((beta**2)*pr)+rec))\n"
     ]
    },
    {
     "name": "stdout",
     "output_type": "stream",
     "text": [
      "Accuracy\t0.6531\t0.6489\n",
      "Precision\t0.0000\t0.0000\n",
      "Recall\t0.0000\t0.0000\n",
      "F0.1-Score\tnan\tnan\n",
      "F0.5-Score\tnan\tnan\n",
      "F1-Score\tnan\tnan\n",
      "F2-Score\tnan\tnan\n",
      "F10-Score\tnan\tnan\n",
      "Plotting PR Curve\n",
      "Plotting ROC Curve\n",
      "Generating report\n",
      "parse_ord_ori_3_weightedByCount_True\n"
     ]
    },
    {
     "name": "stderr",
     "output_type": "stream",
     "text": [
      "/cellar/users/aklie/opt/miniconda3/envs/ml_env/lib/python3.8/site-packages/pandas/core/strings/accessor.py:101: UserWarning: This pattern has match groups. To actually get the groups, use str.extract.\n",
      "  return func(self, *args, **kwargs)\n"
     ]
    },
    {
     "name": "stdout",
     "output_type": "stream",
     "text": [
      "Standardizing features\n",
      "Training a new LR model with the following params: {'C': 1.0, 'class_weight': None, 'dual': False, 'fit_intercept': True, 'intercept_scaling': 1, 'l1_ratio': None, 'max_iter': 100, 'multi_class': 'auto', 'n_jobs': None, 'penalty': 'l2', 'random_state': 13, 'solver': 'lbfgs', 'tol': 0.0001, 'verbose': 1, 'warm_start': False}\n"
     ]
    },
    {
     "name": "stderr",
     "output_type": "stream",
     "text": [
      "[Parallel(n_jobs=1)]: Using backend SequentialBackend with 1 concurrent workers.\n",
      "[Parallel(n_jobs=1)]: Done   1 out of   1 | elapsed:    0.6s finished\n"
     ]
    },
    {
     "name": "stdout",
     "output_type": "stream",
     "text": [
      "Saving hyperparams to ../results/phrase/LR/parse_ord_ori_3_weightedByCount_True/params.csv\n",
      "Predictions provided, skipping them\n",
      "Generating confusion matrix\n",
      "Calculating classification metrics\n",
      "Metric\tTrain\tTest\n",
      "Accuracy\t0.6581\t0.6554\n",
      "Precision\t0.5436\t0.5556\n",
      "Recall\t0.0900\t0.0929\n",
      "F0.1-Score\t0.5177\t0.5295\n",
      "F0.5-Score\t0.2706\t0.2784\n",
      "F1-Score\t0.1544\t0.1592\n",
      "F2-Score\t0.1080\t0.1115\n",
      "F10-Score\t0.0907\t0.0937\n",
      "Plotting PR Curve\n",
      "Plotting ROC Curve\n",
      "Generating report\n",
      "parse_ord_ori_aff_3_weightedByCount_True\n"
     ]
    },
    {
     "name": "stderr",
     "output_type": "stream",
     "text": [
      "/cellar/users/aklie/opt/miniconda3/envs/ml_env/lib/python3.8/site-packages/pandas/core/strings/accessor.py:101: UserWarning: This pattern has match groups. To actually get the groups, use str.extract.\n",
      "  return func(self, *args, **kwargs)\n"
     ]
    },
    {
     "name": "stdout",
     "output_type": "stream",
     "text": [
      "Standardizing features\n",
      "Training a new LR model with the following params: {'C': 1.0, 'class_weight': None, 'dual': False, 'fit_intercept': True, 'intercept_scaling': 1, 'l1_ratio': None, 'max_iter': 100, 'multi_class': 'auto', 'n_jobs': None, 'penalty': 'l2', 'random_state': 13, 'solver': 'lbfgs', 'tol': 0.0001, 'verbose': 1, 'warm_start': False}\n"
     ]
    },
    {
     "name": "stderr",
     "output_type": "stream",
     "text": [
      "[Parallel(n_jobs=1)]: Using backend SequentialBackend with 1 concurrent workers.\n",
      "[Parallel(n_jobs=1)]: Done   1 out of   1 | elapsed:    2.4s finished\n"
     ]
    },
    {
     "name": "stdout",
     "output_type": "stream",
     "text": [
      "Saving hyperparams to ../results/phrase/LR/parse_ord_ori_aff_3_weightedByCount_True/params.csv\n",
      "Predictions provided, skipping them\n",
      "Generating confusion matrix\n",
      "Calculating classification metrics\n",
      "Metric\tTrain\tTest\n",
      "Accuracy\t0.6692\t0.6657\n",
      "Precision\t0.5705\t0.5740\n",
      "Recall\t0.1877\t0.1858\n",
      "F0.1-Score\t0.5592\t0.5623\n",
      "F0.5-Score\t0.4052\t0.4048\n",
      "F1-Score\t0.2825\t0.2807\n",
      "F2-Score\t0.2168\t0.2148\n",
      "F10-Score\t0.1889\t0.1870\n",
      "Plotting PR Curve\n",
      "Plotting ROC Curve\n",
      "Generating report\n",
      "parse_ord_aff_3_weightedByCount_False\n"
     ]
    },
    {
     "name": "stderr",
     "output_type": "stream",
     "text": [
      "/cellar/users/aklie/opt/miniconda3/envs/ml_env/lib/python3.8/site-packages/pandas/core/strings/accessor.py:101: UserWarning: This pattern has match groups. To actually get the groups, use str.extract.\n",
      "  return func(self, *args, **kwargs)\n"
     ]
    },
    {
     "name": "stdout",
     "output_type": "stream",
     "text": [
      "Standardizing features\n",
      "Training a new LR model with the following params: {'C': 1.0, 'class_weight': None, 'dual': False, 'fit_intercept': True, 'intercept_scaling': 1, 'l1_ratio': None, 'max_iter': 100, 'multi_class': 'auto', 'n_jobs': None, 'penalty': 'l2', 'random_state': 13, 'solver': 'lbfgs', 'tol': 0.0001, 'verbose': 1, 'warm_start': False}\n"
     ]
    },
    {
     "name": "stderr",
     "output_type": "stream",
     "text": [
      "[Parallel(n_jobs=1)]: Using backend SequentialBackend with 1 concurrent workers.\n",
      "[Parallel(n_jobs=1)]: Done   1 out of   1 | elapsed:    0.7s finished\n"
     ]
    },
    {
     "name": "stdout",
     "output_type": "stream",
     "text": [
      "Saving hyperparams to ../results/phrase/LR/parse_ord_aff_3_weightedByCount_False/params.csv\n",
      "Predictions provided, skipping them\n",
      "Generating confusion matrix\n",
      "Calculating classification metrics\n",
      "Metric\tTrain\tTest\n"
     ]
    },
    {
     "name": "stderr",
     "output_type": "stream",
     "text": [
      "/cellar/users/aklie/opt/miniconda3/envs/ml_env/lib/python3.8/site-packages/sklearn/metrics/_classification.py:1245: UndefinedMetricWarning: Precision is ill-defined and being set to 0.0 due to no predicted samples. Use `zero_division` parameter to control this behavior.\n",
      "  _warn_prf(average, modifier, msg_start, len(result))\n",
      "/cellar/users/aklie/opt/miniconda3/envs/ml_env/lib/python3.8/site-packages/sklearn/metrics/_classification.py:1245: UndefinedMetricWarning: Precision is ill-defined and being set to 0.0 due to no predicted samples. Use `zero_division` parameter to control this behavior.\n",
      "  _warn_prf(average, modifier, msg_start, len(result))\n",
      "/cellar/users/aklie/projects/EUGENE/bin/project_utils.py:282: RuntimeWarning: invalid value encountered in double_scalars\n",
      "  return (1+(beta**2))*((pr*rec)/(((beta**2)*pr)+rec))\n"
     ]
    },
    {
     "name": "stdout",
     "output_type": "stream",
     "text": [
      "Accuracy\t0.6531\t0.6489\n",
      "Precision\t0.0000\t0.0000\n",
      "Recall\t0.0000\t0.0000\n",
      "F0.1-Score\tnan\tnan\n",
      "F0.5-Score\tnan\tnan\n",
      "F1-Score\tnan\tnan\n",
      "F2-Score\tnan\tnan\n",
      "F10-Score\tnan\tnan\n",
      "Plotting PR Curve\n",
      "Plotting ROC Curve\n",
      "Generating report\n",
      "parse_ord_ori_3_weightedByCount_False\n"
     ]
    },
    {
     "name": "stderr",
     "output_type": "stream",
     "text": [
      "/cellar/users/aklie/opt/miniconda3/envs/ml_env/lib/python3.8/site-packages/pandas/core/strings/accessor.py:101: UserWarning: This pattern has match groups. To actually get the groups, use str.extract.\n",
      "  return func(self, *args, **kwargs)\n"
     ]
    },
    {
     "name": "stdout",
     "output_type": "stream",
     "text": [
      "Standardizing features\n",
      "Training a new LR model with the following params: {'C': 1.0, 'class_weight': None, 'dual': False, 'fit_intercept': True, 'intercept_scaling': 1, 'l1_ratio': None, 'max_iter': 100, 'multi_class': 'auto', 'n_jobs': None, 'penalty': 'l2', 'random_state': 13, 'solver': 'lbfgs', 'tol': 0.0001, 'verbose': 1, 'warm_start': False}\n"
     ]
    },
    {
     "name": "stderr",
     "output_type": "stream",
     "text": [
      "[Parallel(n_jobs=1)]: Using backend SequentialBackend with 1 concurrent workers.\n",
      "[Parallel(n_jobs=1)]: Done   1 out of   1 | elapsed:    2.3s finished\n"
     ]
    },
    {
     "name": "stdout",
     "output_type": "stream",
     "text": [
      "Saving hyperparams to ../results/phrase/LR/parse_ord_ori_3_weightedByCount_False/params.csv\n",
      "Predictions provided, skipping them\n",
      "Generating confusion matrix\n",
      "Calculating classification metrics\n",
      "Metric\tTrain\tTest\n",
      "Accuracy\t0.6580\t0.6561\n",
      "Precision\t0.5542\t0.5769\n",
      "Recall\t0.0726\t0.0772\n",
      "F0.1-Score\t0.5200\t0.5422\n",
      "F0.5-Score\t0.2383\t0.2514\n",
      "F1-Score\t0.1284\t0.1362\n",
      "F2-Score\t0.0879\t0.0934\n",
      "F10-Score\t0.0733\t0.0779\n",
      "Plotting PR Curve\n",
      "Plotting ROC Curve\n"
     ]
    }
   ],
   "source": [
    "files = glob.glob(\"../data/{}/{}/*.tsv\".format(DATASET, FEATURES))\n",
    "for i, file in enumerate(files):\n",
    "    if os.path.getsize(file) <= 1e9:\n",
    "        FILENAME = file.split(\"/\")[-1].replace(\".tsv\", \"\")\n",
    "        print(FILENAME)\n",
    "        OUTDIR=\"../results/phrase/{}/{}\".format(MODEL, FILENAME)\n",
    "        if not os.path.exists(OUTDIR):\n",
    "            os.makedirs(OUTDIR)\n",
    "    \n",
    "        data = pd.read_csv(\"../data/{}/{}/{}.tsv\".format(DATASET, FEATURES, FILENAME), sep=\"\\t\", low_memory=False)\n",
    "        x_cols = data.columns[data.columns.str.contains(\"((e.*|E.*|g.*|G.*)_)+\")]\n",
    "\n",
    "        # Use Joe's labels\n",
    "        data[\"LABEL\"] = np.nan\n",
    "        data[\"LABEL\"] = np.where(data[\"NONFUNC-<0.625\"]==\"True\", 0, np.nan)\n",
    "        data[\"LABEL\"] = np.where(data[\"FUNC->0.685\"]==\"True\", 1, data[\"LABEL\"])\n",
    "\n",
    "        if 'ACT_SumRNA_LenDNA_LOG2_NORM' in x_cols:\n",
    "            x_cols = x_cols.drop('ACT_SumRNA_LenDNA_LOG2_NORM')\n",
    "        \n",
    "        training_data = data[~data[\"LABEL\"].isna()]\n",
    "        X = training_data[x_cols].values\n",
    "        y = training_data[\"LABEL\"].values\n",
    "        \n",
    "        # Split em\n",
    "        X_train, X_test, y_train, y_test = split_train_test(X, y, split=SPLIT, subset=SUBSET, rand_state=13, shuf=True)\n",
    "\n",
    "        # Standardize em\n",
    "        print(\"Standardizing features\")\n",
    "        X_train, X_test = standardize_features(X_train, X_test)\n",
    "        \n",
    "        if MODEL == \"LR\":\n",
    "            clf = LogisticRegression(random_state=13, verbose=1)\n",
    "            print(\"Training a new LR model with the following params: {}\".format(clf.get_params()))\n",
    "        elif MODEL == \"RF\":\n",
    "            clf = RandomForestClassifier(random_state=13, verbose=1)\n",
    "            print(\"Training a new RF model with the following params: {}\".format(clf.get_params()))\n",
    "        clf.fit(X_train, y_train)\n",
    "        \n",
    "        file = \"../results/phrase/{0}/{1}/params.csv\".format(MODEL, FILENAME)\n",
    "        print(\"Saving hyperparams to {}\".format(file))\n",
    "        pd.DataFrame(pd.Series(clf.get_params())).T.to_csv(file, index=False)\n",
    "        \n",
    "        # Get the classification results on validation set\n",
    "        prob_thresh = 0.5\n",
    "        y_tr_probs = clf.predict_proba(X_train)[:, 1]\n",
    "        y_probs = clf.predict_proba(X_test)[:, 1]\n",
    "        y_tr_preds = (y_tr_probs >= prob_thresh).astype(int)\n",
    "        y_preds = (y_probs >= prob_thresh).astype(int)\n",
    "\n",
    "        # Generate a report\n",
    "        project_utils.classification_report(out_path=\"../results/phrase/{0}/{1}\".format(MODEL, FILENAME),\n",
    "                                            train_X=X_train, test_X=X_test, \n",
    "                                            train_y=y_train, test_y=y_test,\n",
    "                                            train_preds=y_tr_preds, test_preds=y_preds,\n",
    "                                            train_probs=y_tr_probs, test_probs=y_probs)\n",
    "        #project_utils.coefficient_plot(clf, x_cols, top=20, title=\"{} Encoded Coefficients\".format(FILENAME))\n",
    "        file = \"../results/phrase/{}/{}/clf_{}.pickle\".format(MODEL, FILENAME, HYPERPARAM)\n",
    "        pickle.dump(clf, open(file, 'wb'))\n",
    "    #if i == 3:\n",
    "    #    break"
   ]
  },
  {
   "cell_type": "markdown",
   "id": "2ea68df5-473e-4428-a214-abac7f48d542",
   "metadata": {
    "tags": []
   },
   "source": [
    "# Load data"
   ]
  },
  {
   "cell_type": "code",
   "execution_count": 4,
   "id": "fcaffcca-43cf-46a1-8f74-5be586c4f717",
   "metadata": {
    "execution": {
     "iopub.execute_input": "2022-04-22T16:45:21.820327Z",
     "iopub.status.busy": "2022-04-22T16:45:21.820146Z",
     "iopub.status.idle": "2022-04-22T16:45:22.664526Z",
     "shell.execute_reply": "2022-04-22T16:45:22.664143Z",
     "shell.execute_reply.started": "2022-04-22T16:45:21.820311Z"
    },
    "tags": []
   },
   "outputs": [],
   "source": [
    "# Define data details\n",
    "PHRASE = \"ord\"\n",
    "COUNTS = False\n",
    "LEN = 2\n",
    "FILENAME = \"parse_{0}_{1}_weightedByCount_{2}\".format(PHRASE, LEN, COUNTS)\n",
    "OUTDIR=\"../results/phrase/{}/{}\".format(MODEL, FILENAME)\n",
    "if not os.path.exists(OUTDIR):\n",
    "    os.makedirs(OUTDIR)"
   ]
  },
  {
   "cell_type": "code",
   "execution_count": 5,
   "id": "fd6e492a-ccf0-4482-b150-e8eb10e4af79",
   "metadata": {
    "execution": {
     "iopub.execute_input": "2022-04-22T16:45:24.132992Z",
     "iopub.status.busy": "2022-04-22T16:45:24.132872Z",
     "iopub.status.idle": "2022-04-22T16:45:26.724307Z",
     "shell.execute_reply": "2022-04-22T16:45:26.723859Z",
     "shell.execute_reply.started": "2022-04-22T16:45:24.132978Z"
    },
    "tags": []
   },
   "outputs": [
    {
     "name": "stderr",
     "output_type": "stream",
     "text": [
      "/cellar/users/aklie/opt/miniconda3/envs/ml_env/lib/python3.8/site-packages/pandas/core/strings/accessor.py:101: UserWarning: This pattern has match groups. To actually get the groups, use str.extract.\n",
      "  return func(self, *args, **kwargs)\n"
     ]
    },
    {
     "data": {
      "text/plain": [
       "(0.0    177023\n",
       " 1.0     94194\n",
       " Name: LABEL, dtype: int64,\n",
       " Index(['E_G', 'G_G', 'E_E', 'G_E'], dtype='object'))"
      ]
     },
     "execution_count": 5,
     "metadata": {},
     "output_type": "execute_result"
    }
   ],
   "source": [
    "data = pd.read_csv(\"../data/{}/{}/{}.tsv\".format(DATASET, FEATURES, FILENAME), sep=\"\\t\", low_memory=False)\n",
    "x_cols = data.columns[data.columns.str.contains(\"((e.*|E.*|g.*|G.*)_)+\")]\n",
    "\n",
    "# Use Joe's labels\n",
    "data[\"LABEL\"] = np.nan\n",
    "data[\"LABEL\"] = np.where(data[\"NONFUNC-<0.625\"]==\"True\", 0, np.nan)\n",
    "data[\"LABEL\"] = np.where(data[\"FUNC->0.685\"]==\"True\", 1, data[\"LABEL\"])\n",
    "\n",
    "# Use my own\n",
    "#data[\"LABEL\"] = np.nan\n",
    "#data['ACT_SumRNA_LenDNA_LOG2_NORM'] = data['ACT_SumRNA_LenDNA_LOG2_NORM'].replace({\"ND\":np.nan})\n",
    "#data[\"ACT_SumRNA_LenDNA_LOG2_NORM\"] = data[\"ACT_SumRNA_LenDNA_LOG2_NORM\"].astype(float)\n",
    "#data.loc[data['ACT_SumRNA_LenDNA_LOG2_NORM'] <= 0.585, \"LABEL\"] = 0\n",
    "#data.loc[data['ACT_SumRNA_LenDNA_LOG2_NORM'] >= 0.685, \"LABEL\"] = 1\n",
    "\n",
    "if 'ACT_SumRNA_LenDNA_LOG2_NORM' in x_cols:\n",
    "    x_cols = x_cols.drop('ACT_SumRNA_LenDNA_LOG2_NORM')\n",
    "data[\"LABEL\"].value_counts(), x_cols"
   ]
  },
  {
   "cell_type": "code",
   "execution_count": 6,
   "id": "2809506d-0b51-4813-b592-170199621400",
   "metadata": {
    "execution": {
     "iopub.execute_input": "2022-04-22T16:45:51.668817Z",
     "iopub.status.busy": "2022-04-22T16:45:51.668649Z",
     "iopub.status.idle": "2022-04-22T16:45:52.931050Z",
     "shell.execute_reply": "2022-04-22T16:45:52.930639Z",
     "shell.execute_reply.started": "2022-04-22T16:45:51.668800Z"
    },
    "tags": []
   },
   "outputs": [
    {
     "data": {
      "text/plain": [
       "((271217, 4), (271217,))"
      ]
     },
     "execution_count": 6,
     "metadata": {},
     "output_type": "execute_result"
    }
   ],
   "source": [
    "training_data = data[~data[\"LABEL\"].isna()]\n",
    "X = training_data[x_cols]\n",
    "y = training_data[\"LABEL\"]\n",
    "X.shape, y.shape"
   ]
  },
  {
   "cell_type": "code",
   "execution_count": 7,
   "id": "d7b18e7a-370f-4855-bb6b-83d11f5be9a0",
   "metadata": {
    "execution": {
     "iopub.execute_input": "2022-04-22T16:46:02.328293Z",
     "iopub.status.busy": "2022-04-22T16:46:02.328114Z",
     "iopub.status.idle": "2022-04-22T16:46:03.429093Z",
     "shell.execute_reply": "2022-04-22T16:46:03.428683Z",
     "shell.execute_reply.started": "2022-04-22T16:46:02.328277Z"
    },
    "tags": []
   },
   "outputs": [
    {
     "data": {
      "text/plain": [
       "((244095, 4), (244095,), (27122, 4), (27122,))"
      ]
     },
     "execution_count": 7,
     "metadata": {},
     "output_type": "execute_result"
    }
   ],
   "source": [
    "from project_utils import split_train_test, standardize_features\n",
    "\n",
    "# Split em\n",
    "X_train, X_test, y_train, y_test = split_train_test(X, y, split=SPLIT, subset=SUBSET, rand_state=13, shuf=True)\n",
    "\n",
    "# Check em\n",
    "X_train.shape, y_train.shape, X_test.shape, y_test.shape"
   ]
  },
  {
   "cell_type": "code",
   "execution_count": 8,
   "id": "f0b6cc36-60f5-47f6-b1e4-0c4b7192dfce",
   "metadata": {
    "execution": {
     "iopub.execute_input": "2022-04-22T16:46:04.097631Z",
     "iopub.status.busy": "2022-04-22T16:46:04.097481Z",
     "iopub.status.idle": "2022-04-22T16:46:05.170075Z",
     "shell.execute_reply": "2022-04-22T16:46:05.169594Z",
     "shell.execute_reply.started": "2022-04-22T16:46:04.097616Z"
    },
    "tags": []
   },
   "outputs": [
    {
     "data": {
      "text/plain": [
       "(E_G    0.900453\n",
       " G_G    1.000000\n",
       " E_E    1.000000\n",
       " G_E    0.899129\n",
       " dtype: float64,\n",
       " E_G    0.299396\n",
       " G_G    0.000000\n",
       " E_E    0.000000\n",
       " G_E    0.301158\n",
       " dtype: float64,\n",
       " E_G    0.902146\n",
       " G_G    1.000000\n",
       " E_E    1.000000\n",
       " G_E    0.896542\n",
       " dtype: float64,\n",
       " E_G    0.297123\n",
       " G_G    0.000000\n",
       " E_E    0.000000\n",
       " G_E    0.304562\n",
       " dtype: float64)"
      ]
     },
     "execution_count": 8,
     "metadata": {},
     "output_type": "execute_result"
    }
   ],
   "source": [
    "X_train.mean(axis=0), X_train.std(axis=0), X_test.mean(axis=0), X_test.std(axis=0)"
   ]
  },
  {
   "cell_type": "code",
   "execution_count": 14,
   "id": "0540f910-0b54-4a96-9dd0-6b3898af0554",
   "metadata": {
    "execution": {
     "iopub.execute_input": "2022-04-22T16:48:12.686059Z",
     "iopub.status.busy": "2022-04-22T16:48:12.685884Z",
     "iopub.status.idle": "2022-04-22T16:48:14.128305Z",
     "shell.execute_reply": "2022-04-22T16:48:14.127979Z",
     "shell.execute_reply.started": "2022-04-22T16:48:12.686042Z"
    },
    "tags": []
   },
   "outputs": [
    {
     "data": {
      "text/plain": [
       "(array([[0, 1, 1, 1],\n",
       "        [1, 1, 1, 0],\n",
       "        [1, 1, 1, 1]]),\n",
       " array([ 26953,  27428, 216836]))"
      ]
     },
     "execution_count": 14,
     "metadata": {},
     "output_type": "execute_result"
    }
   ],
   "source": [
    "np.unique(X, axis=0, return_counts=True)"
   ]
  },
  {
   "cell_type": "markdown",
   "id": "db8f8ac7-8647-41f5-b2ab-c338b5efe52f",
   "metadata": {
    "tags": []
   },
   "source": [
    "# Train a model"
   ]
  },
  {
   "cell_type": "code",
   "execution_count": 10,
   "id": "eb95ce23-c44e-4b30-a555-faa3fd612681",
   "metadata": {
    "execution": {
     "iopub.execute_input": "2022-04-22T16:47:18.123790Z",
     "iopub.status.busy": "2022-04-22T16:47:18.123621Z",
     "iopub.status.idle": "2022-04-22T16:47:19.552977Z",
     "shell.execute_reply": "2022-04-22T16:47:19.552582Z",
     "shell.execute_reply.started": "2022-04-22T16:47:18.123775Z"
    },
    "tags": []
   },
   "outputs": [],
   "source": [
    "import statsmodels.api as sm"
   ]
  },
  {
   "cell_type": "code",
   "execution_count": 11,
   "id": "b047ec42-2a05-4f80-9f0a-68127607371c",
   "metadata": {
    "execution": {
     "iopub.execute_input": "2022-04-22T16:47:20.179233Z",
     "iopub.status.busy": "2022-04-22T16:47:20.179091Z",
     "iopub.status.idle": "2022-04-22T16:47:21.831625Z",
     "shell.execute_reply": "2022-04-22T16:47:21.831236Z",
     "shell.execute_reply.started": "2022-04-22T16:47:20.179218Z"
    },
    "tags": []
   },
   "outputs": [],
   "source": [
    "log_reg = sm.Logit(y_train, sm.tools.add_constant(X_train, has_constant=\"add\"))"
   ]
  },
  {
   "cell_type": "code",
   "execution_count": 20,
   "id": "905eedf6-fe39-473b-8a1f-0107fb0e67f1",
   "metadata": {
    "execution": {
     "iopub.execute_input": "2022-04-22T16:53:34.570075Z",
     "iopub.status.busy": "2022-04-22T16:53:34.569897Z",
     "iopub.status.idle": "2022-04-22T16:53:36.528508Z",
     "shell.execute_reply": "2022-04-22T16:53:36.528042Z",
     "shell.execute_reply.started": "2022-04-22T16:53:34.570058Z"
    },
    "tags": []
   },
   "outputs": [
    {
     "name": "stdout",
     "output_type": "stream",
     "text": [
      "Warning: Maximum number of iterations has been exceeded.\n"
     ]
    },
    {
     "name": "stderr",
     "output_type": "stream",
     "text": [
      "/cellar/users/aklie/opt/miniconda3/envs/ml_env/lib/python3.8/site-packages/statsmodels/base/model.py:547: HessianInversionWarning: Inverting hessian failed, no bse or cov_params available\n",
      "  warnings.warn('Inverting hessian failed, no bse or cov_params '\n",
      "/cellar/users/aklie/opt/miniconda3/envs/ml_env/lib/python3.8/site-packages/statsmodels/base/model.py:566: ConvergenceWarning: Maximum Likelihood optimization failed to converge. Check mle_retvals\n",
      "  warnings.warn(\"Maximum Likelihood optimization failed to \"\n"
     ]
    }
   ],
   "source": [
    "res = log_reg.fit(method=\"nm\")"
   ]
  },
  {
   "cell_type": "code",
   "execution_count": 21,
   "id": "07ce668f-35d9-4da1-8f64-a06996578866",
   "metadata": {
    "execution": {
     "iopub.execute_input": "2022-04-22T16:53:39.385577Z",
     "iopub.status.busy": "2022-04-22T16:53:39.385448Z",
     "iopub.status.idle": "2022-04-22T16:53:40.724039Z",
     "shell.execute_reply": "2022-04-22T16:53:40.723634Z",
     "shell.execute_reply.started": "2022-04-22T16:53:39.385562Z"
    },
    "tags": []
   },
   "outputs": [
    {
     "data": {
      "text/plain": [
       "const   NaN\n",
       "E_G     NaN\n",
       "G_G     NaN\n",
       "E_E     NaN\n",
       "G_E     NaN\n",
       "dtype: float64"
      ]
     },
     "execution_count": 21,
     "metadata": {},
     "output_type": "execute_result"
    }
   ],
   "source": [
    "res.pvalues"
   ]
  },
  {
   "cell_type": "code",
   "execution_count": 263,
   "id": "3754c8c1-dd40-4790-8f75-f8e05e49c82b",
   "metadata": {
    "execution": {
     "iopub.execute_input": "2022-04-21T01:37:07.360409Z",
     "iopub.status.busy": "2022-04-21T01:37:07.360249Z",
     "iopub.status.idle": "2022-04-21T01:37:08.219842Z",
     "shell.execute_reply": "2022-04-21T01:37:08.219552Z",
     "shell.execute_reply.started": "2022-04-21T01:37:07.360392Z"
    },
    "tags": []
   },
   "outputs": [
    {
     "data": {
      "text/plain": [
       "array([0.30430767, 0.3583055 , 0.3583055 , ..., 0.3583055 , 0.3583055 ,\n",
       "       0.3583055 ])"
      ]
     },
     "execution_count": 263,
     "metadata": {},
     "output_type": "execute_result"
    }
   ],
   "source": [
    "res.predict(sm.tools.add_constant(X_test, has_constant=\"add\"))"
   ]
  },
  {
   "cell_type": "code",
   "execution_count": 264,
   "id": "17df4610-acf3-4ac7-be66-4e2b43047817",
   "metadata": {
    "execution": {
     "iopub.execute_input": "2022-04-21T01:37:56.249599Z",
     "iopub.status.busy": "2022-04-21T01:37:56.249384Z",
     "iopub.status.idle": "2022-04-21T01:37:56.941177Z",
     "shell.execute_reply": "2022-04-21T01:37:56.940821Z",
     "shell.execute_reply.started": "2022-04-21T01:37:56.249582Z"
    },
    "tags": []
   },
   "outputs": [],
   "source": [
    "# Get the classification results on validation set\n",
    "prob_thresh = 0.5\n",
    "y_tr_probs = res.predict(sm.tools.add_constant(X_train, has_constant=\"add\"))\n",
    "y_probs = res.predict(sm.tools.add_constant(X_test, has_constant=\"add\"))\n",
    "y_tr_preds = (y_tr_probs >= prob_thresh).astype(int)\n",
    "y_preds = (y_probs >= prob_thresh).astype(int)"
   ]
  },
  {
   "cell_type": "code",
   "execution_count": 265,
   "id": "253bf4c3-1f8a-41d1-9e8d-3a4cdaaaae55",
   "metadata": {
    "execution": {
     "iopub.execute_input": "2022-04-21T01:37:58.608344Z",
     "iopub.status.busy": "2022-04-21T01:37:58.608205Z",
     "iopub.status.idle": "2022-04-21T01:38:02.985429Z",
     "shell.execute_reply": "2022-04-21T01:38:02.985005Z",
     "shell.execute_reply.started": "2022-04-21T01:37:58.608327Z"
    },
    "tags": []
   },
   "outputs": [
    {
     "name": "stdout",
     "output_type": "stream",
     "text": [
      "Predictions provided, skipping them\n",
      "Generating confusion matrix\n",
      "Calculating classification metrics\n",
      "Metric\tTrain\tTest\n"
     ]
    },
    {
     "name": "stderr",
     "output_type": "stream",
     "text": [
      "/cellar/users/aklie/opt/miniconda3/envs/ml_env/lib/python3.8/site-packages/sklearn/metrics/_classification.py:1245: UndefinedMetricWarning: Precision is ill-defined and being set to 0.0 due to no predicted samples. Use `zero_division` parameter to control this behavior.\n",
      "  _warn_prf(average, modifier, msg_start, len(result))\n",
      "/cellar/users/aklie/opt/miniconda3/envs/ml_env/lib/python3.8/site-packages/sklearn/metrics/_classification.py:1245: UndefinedMetricWarning: Precision is ill-defined and being set to 0.0 due to no predicted samples. Use `zero_division` parameter to control this behavior.\n",
      "  _warn_prf(average, modifier, msg_start, len(result))\n",
      "/cellar/users/aklie/projects/EUGENE/bin/project_utils.py:282: RuntimeWarning: invalid value encountered in double_scalars\n",
      "  return (1+(beta**2))*((pr*rec)/(((beta**2)*pr)+rec))\n"
     ]
    },
    {
     "name": "stdout",
     "output_type": "stream",
     "text": [
      "Accuracy\t0.6531\t0.6489\n",
      "Precision\t0.0000\t0.0000\n",
      "Recall\t0.0000\t0.0000\n",
      "F0.1-Score\tnan\tnan\n",
      "F0.5-Score\tnan\tnan\n",
      "F1-Score\tnan\tnan\n",
      "F2-Score\tnan\tnan\n",
      "F10-Score\tnan\tnan\n",
      "Plotting PR Curve\n",
      "Plotting ROC Curve\n",
      "Generating report\n"
     ]
    }
   ],
   "source": [
    "# Generate a report\n",
    "project_utils.classification_report(out_path=\"../results/phrase/{0}/{1}\".format(MODEL, FILENAME),\n",
    "                                    train_X=X_train, test_X=X_test, \n",
    "                                    train_y=y_train, test_y=y_test,\n",
    "                                    train_preds=y_tr_preds, test_preds=y_preds,\n",
    "                                    train_probs=y_tr_probs, test_probs=y_probs)"
   ]
  },
  {
   "cell_type": "code",
   "execution_count": 144,
   "id": "ff12a4c7-e83a-41f7-8972-2ac9afbd3629",
   "metadata": {
    "execution": {
     "iopub.execute_input": "2022-04-19T00:09:21.446501Z",
     "iopub.status.busy": "2022-04-19T00:09:21.446381Z",
     "iopub.status.idle": "2022-04-19T00:09:22.411628Z",
     "shell.execute_reply": "2022-04-19T00:09:22.411148Z",
     "shell.execute_reply.started": "2022-04-19T00:09:21.446485Z"
    },
    "tags": []
   },
   "outputs": [],
   "source": [
    "from sklearn.linear_model import LogisticRegression\n",
    "from sklearn.ensemble import RandomForestClassifier"
   ]
  },
  {
   "cell_type": "markdown",
   "id": "cdf81731-d104-46aa-a817-8528fc5e9e35",
   "metadata": {
    "tags": []
   },
   "source": [
    "#### <u> **Train new model from scratch using out-of-box or hand-crafted hyperparams** </u> "
   ]
  },
  {
   "cell_type": "code",
   "execution_count": 146,
   "id": "a9da7f3b-a3a4-4904-b109-2ee6ed83065b",
   "metadata": {
    "execution": {
     "iopub.execute_input": "2022-04-19T00:10:03.197116Z",
     "iopub.status.busy": "2022-04-19T00:10:03.196874Z",
     "iopub.status.idle": "2022-04-19T00:10:06.018225Z",
     "shell.execute_reply": "2022-04-19T00:10:06.017733Z",
     "shell.execute_reply.started": "2022-04-19T00:10:03.197097Z"
    },
    "tags": []
   },
   "outputs": [
    {
     "name": "stdout",
     "output_type": "stream",
     "text": [
      "Training a new RF model with the following params: {'bootstrap': True, 'ccp_alpha': 0.0, 'class_weight': None, 'criterion': 'gini', 'max_depth': None, 'max_features': 'auto', 'max_leaf_nodes': None, 'max_samples': None, 'min_impurity_decrease': 0.0, 'min_impurity_split': None, 'min_samples_leaf': 1, 'min_samples_split': 2, 'min_weight_fraction_leaf': 0.0, 'n_estimators': 100, 'n_jobs': None, 'oob_score': False, 'random_state': 13, 'verbose': 1, 'warm_start': False}\n"
     ]
    },
    {
     "name": "stderr",
     "output_type": "stream",
     "text": [
      "[Parallel(n_jobs=1)]: Using backend SequentialBackend with 1 concurrent workers.\n",
      "[Parallel(n_jobs=1)]: Done 100 out of 100 | elapsed:    1.8s finished\n"
     ]
    }
   ],
   "source": [
    "if TRAIN == True and HYPERPARAM == \"baseline\":\n",
    "    if MODEL == \"LR\":\n",
    "        clf = LogisticRegression(random_state=13, verbose=1)\n",
    "        print(\"Training a new LR model with the following params: {}\".format(clf.get_params()))\n",
    "    elif MODEL == \"RF\":\n",
    "        clf = RandomForestClassifier(random_state=13, verbose=1)\n",
    "        print(\"Training a new RF model with the following params: {}\".format(clf.get_params()))\n",
    "    clf.fit(X_train, y_train)"
   ]
  },
  {
   "cell_type": "markdown",
   "id": "e4130bfc-cc32-4f6c-b935-348328ee51b6",
   "metadata": {
    "tags": []
   },
   "source": [
    "#### <u> **Save hyperpameters of model** </u>"
   ]
  },
  {
   "cell_type": "code",
   "execution_count": 147,
   "id": "3841abdc-d754-4553-a3ce-8701b23a65f0",
   "metadata": {
    "execution": {
     "iopub.execute_input": "2022-04-19T00:10:06.019057Z",
     "iopub.status.busy": "2022-04-19T00:10:06.018942Z",
     "iopub.status.idle": "2022-04-19T00:10:07.346904Z",
     "shell.execute_reply": "2022-04-19T00:10:07.346585Z",
     "shell.execute_reply.started": "2022-04-19T00:10:06.019042Z"
    },
    "tags": []
   },
   "outputs": [
    {
     "name": "stdout",
     "output_type": "stream",
     "text": [
      "Saving hyperparams to ../results/phrase/RF/parse_ord_2_weightedByCount_False/params.csv\n"
     ]
    }
   ],
   "source": [
    "if TRAIN == True:\n",
    "    file = \"../results/phrase/{0}/{1}/params.csv\".format(MODEL, FILENAME)\n",
    "    print(\"Saving hyperparams to {}\".format(file))\n",
    "    pd.DataFrame(pd.Series(clf.get_params())).T.to_csv(file, index=False)\n",
    "else:\n",
    "    print(\"Not training a new model, load in cell below\")"
   ]
  },
  {
   "cell_type": "markdown",
   "id": "6bc25038-cf5f-4aad-b4e1-38b1070a0c94",
   "metadata": {
    "execution": {
     "iopub.execute_input": "2021-07-26T03:43:46.264746Z",
     "iopub.status.busy": "2021-07-26T03:43:46.264474Z",
     "iopub.status.idle": "2021-07-26T03:43:47.055876Z",
     "shell.execute_reply": "2021-07-26T03:43:47.054281Z",
     "shell.execute_reply.started": "2021-07-26T03:43:46.264712Z"
    },
    "tags": []
   },
   "source": [
    "# Validation Set Performance"
   ]
  },
  {
   "cell_type": "code",
   "execution_count": 148,
   "id": "f7302cda-b79b-477e-9b3b-9f1ff1b1d6d4",
   "metadata": {
    "execution": {
     "iopub.execute_input": "2022-04-19T00:10:07.347823Z",
     "iopub.status.busy": "2022-04-19T00:10:07.347627Z",
     "iopub.status.idle": "2022-04-19T00:10:09.044913Z",
     "shell.execute_reply": "2022-04-19T00:10:09.044448Z",
     "shell.execute_reply.started": "2022-04-19T00:10:07.347807Z"
    },
    "tags": []
   },
   "outputs": [
    {
     "name": "stderr",
     "output_type": "stream",
     "text": [
      "[Parallel(n_jobs=1)]: Using backend SequentialBackend with 1 concurrent workers.\n",
      "[Parallel(n_jobs=1)]: Done 100 out of 100 | elapsed:    0.5s finished\n",
      "[Parallel(n_jobs=1)]: Using backend SequentialBackend with 1 concurrent workers.\n",
      "[Parallel(n_jobs=1)]: Done 100 out of 100 | elapsed:    0.1s finished\n"
     ]
    }
   ],
   "source": [
    "# Get the classification results on validation set\n",
    "prob_thresh = 0.5\n",
    "y_tr_probs = clf.predict_proba(X_train)[:, 1]\n",
    "y_probs = clf.predict_proba(X_test)[:, 1]\n",
    "y_tr_preds = (y_tr_probs >= prob_thresh).astype(int)\n",
    "y_preds = (y_probs >= prob_thresh).astype(int)"
   ]
  },
  {
   "cell_type": "code",
   "execution_count": 149,
   "id": "0c00ef35-ac31-4e5c-be26-c4a6e680d34e",
   "metadata": {
    "execution": {
     "iopub.execute_input": "2022-04-19T00:10:09.045764Z",
     "iopub.status.busy": "2022-04-19T00:10:09.045652Z",
     "iopub.status.idle": "2022-04-19T00:10:13.660989Z",
     "shell.execute_reply": "2022-04-19T00:10:13.660529Z",
     "shell.execute_reply.started": "2022-04-19T00:10:09.045749Z"
    },
    "tags": []
   },
   "outputs": [
    {
     "name": "stdout",
     "output_type": "stream",
     "text": [
      "Predictions provided, skipping them\n",
      "Generating confusion matrix\n",
      "Calculating classification metrics\n",
      "Metric\tTrain\tTest\n",
      "Accuracy\t0.5280\t0.5229\n",
      "Precision\t0.5245\t0.5186\n",
      "Recall\t0.8261\t0.8248\n",
      "F0.1-Score\t0.5264\t0.5205\n",
      "F0.5-Score\t0.5658\t0.5602\n",
      "F1-Score\t0.6416\t0.6368\n",
      "F2-Score\t0.7409\t0.7377\n",
      "F10-Score\t0.8214\t0.8200\n",
      "Plotting PR Curve\n",
      "Plotting ROC Curve\n",
      "Generating report\n"
     ]
    }
   ],
   "source": [
    "# Generate a report\n",
    "project_utils.classification_report(out_path=\"../results/phrase/{0}/{1}\".format(MODEL, FILENAME),\n",
    "                                    train_X=X_train, test_X=X_test, \n",
    "                                    train_y=y_train, test_y=y_test,\n",
    "                                    train_preds=y_tr_preds, test_preds=y_preds,\n",
    "                                    train_probs=y_tr_probs, test_probs=y_probs)"
   ]
  },
  {
   "cell_type": "code",
   "execution_count": 150,
   "id": "a8f839a5-3140-4d76-82a6-76ec18a703ce",
   "metadata": {
    "execution": {
     "iopub.execute_input": "2022-04-19T00:10:13.661767Z",
     "iopub.status.busy": "2022-04-19T00:10:13.661652Z",
     "iopub.status.idle": "2022-04-19T00:10:14.987311Z",
     "shell.execute_reply": "2022-04-19T00:10:14.986723Z",
     "shell.execute_reply.started": "2022-04-19T00:10:13.661752Z"
    },
    "tags": []
   },
   "outputs": [
    {
     "ename": "AttributeError",
     "evalue": "'RandomForestClassifier' object has no attribute 'coef_'",
     "output_type": "error",
     "traceback": [
      "\u001b[0;31m---------------------------------------------------------------------------\u001b[0m",
      "\u001b[0;31mAttributeError\u001b[0m                            Traceback (most recent call last)",
      "\u001b[0;32m<ipython-input-150-4109b202b317>\u001b[0m in \u001b[0;36m<module>\u001b[0;34m\u001b[0m\n\u001b[0;32m----> 1\u001b[0;31m \u001b[0mproject_utils\u001b[0m\u001b[0;34m.\u001b[0m\u001b[0mcoefficient_plot\u001b[0m\u001b[0;34m(\u001b[0m\u001b[0mclf\u001b[0m\u001b[0;34m,\u001b[0m \u001b[0mx_cols\u001b[0m\u001b[0;34m,\u001b[0m \u001b[0mtop\u001b[0m\u001b[0;34m=\u001b[0m\u001b[0;36m20\u001b[0m\u001b[0;34m,\u001b[0m \u001b[0mtitle\u001b[0m\u001b[0;34m=\u001b[0m\u001b[0;34m\"{} Encoded Coefficients\"\u001b[0m\u001b[0;34m.\u001b[0m\u001b[0mformat\u001b[0m\u001b[0;34m(\u001b[0m\u001b[0mFILENAME\u001b[0m\u001b[0;34m)\u001b[0m\u001b[0;34m)\u001b[0m\u001b[0;34m\u001b[0m\u001b[0;34m\u001b[0m\u001b[0m\n\u001b[0m",
      "\u001b[0;32m~/projects/EUGENE/bin/project_utils.py\u001b[0m in \u001b[0;36mcoefficient_plot\u001b[0;34m(classifier, features, top, sort, xlab, ylab, title)\u001b[0m\n\u001b[1;32m    468\u001b[0m \u001b[0;32mdef\u001b[0m \u001b[0mcoefficient_plot\u001b[0m\u001b[0;34m(\u001b[0m\u001b[0mclassifier\u001b[0m\u001b[0;34m,\u001b[0m \u001b[0mfeatures\u001b[0m\u001b[0;34m,\u001b[0m \u001b[0mtop\u001b[0m\u001b[0;34m=\u001b[0m\u001b[0;32mNone\u001b[0m\u001b[0;34m,\u001b[0m \u001b[0msort\u001b[0m\u001b[0;34m=\u001b[0m\u001b[0;32mTrue\u001b[0m\u001b[0;34m,\u001b[0m \u001b[0mxlab\u001b[0m\u001b[0;34m=\u001b[0m\u001b[0;34m\"Feature\"\u001b[0m\u001b[0;34m,\u001b[0m \u001b[0mylab\u001b[0m\u001b[0;34m=\u001b[0m\u001b[0;34m\"Coefficient\"\u001b[0m\u001b[0;34m,\u001b[0m \u001b[0mtitle\u001b[0m\u001b[0;34m=\u001b[0m\u001b[0;34m\"Model Coefficients\"\u001b[0m\u001b[0;34m)\u001b[0m\u001b[0;34m:\u001b[0m\u001b[0;34m\u001b[0m\u001b[0;34m\u001b[0m\u001b[0m\n\u001b[1;32m    469\u001b[0m     \u001b[0mrc\u001b[0m \u001b[0;34m=\u001b[0m \u001b[0;34m{\u001b[0m\u001b[0;34m\"font.size\"\u001b[0m\u001b[0;34m:\u001b[0m \u001b[0;36m14\u001b[0m\u001b[0;34m}\u001b[0m\u001b[0;34m\u001b[0m\u001b[0;34m\u001b[0m\u001b[0m\n\u001b[0;32m--> 470\u001b[0;31m     \u001b[0mcoefficients\u001b[0m \u001b[0;34m=\u001b[0m \u001b[0mclassifier\u001b[0m\u001b[0;34m.\u001b[0m\u001b[0mcoef_\u001b[0m\u001b[0;34m[\u001b[0m\u001b[0;36m0\u001b[0m\u001b[0;34m]\u001b[0m\u001b[0;34m\u001b[0m\u001b[0;34m\u001b[0m\u001b[0m\n\u001b[0m\u001b[1;32m    471\u001b[0m     \u001b[0;32mif\u001b[0m \u001b[0mtop\u001b[0m \u001b[0;34m!=\u001b[0m \u001b[0;32mNone\u001b[0m\u001b[0;34m:\u001b[0m\u001b[0;34m\u001b[0m\u001b[0;34m\u001b[0m\u001b[0m\n\u001b[1;32m    472\u001b[0m         \u001b[0mtop_idx\u001b[0m \u001b[0;34m=\u001b[0m \u001b[0mnp\u001b[0m\u001b[0;34m.\u001b[0m\u001b[0margsort\u001b[0m\u001b[0;34m(\u001b[0m\u001b[0mnp\u001b[0m\u001b[0;34m.\u001b[0m\u001b[0mabs\u001b[0m\u001b[0;34m(\u001b[0m\u001b[0mcoefficients\u001b[0m\u001b[0;34m)\u001b[0m\u001b[0;34m)\u001b[0m\u001b[0;34m[\u001b[0m\u001b[0;34m:\u001b[0m\u001b[0;34m:\u001b[0m\u001b[0;34m-\u001b[0m\u001b[0;36m1\u001b[0m\u001b[0;34m]\u001b[0m\u001b[0;34m[\u001b[0m\u001b[0;34m:\u001b[0m\u001b[0mtop\u001b[0m\u001b[0;34m]\u001b[0m\u001b[0;34m\u001b[0m\u001b[0;34m\u001b[0m\u001b[0m\n",
      "\u001b[0;31mAttributeError\u001b[0m: 'RandomForestClassifier' object has no attribute 'coef_'"
     ]
    }
   ],
   "source": [
    "project_utils.coefficient_plot(clf, x_cols, top=20, title=\"{} Encoded Coefficients\".format(FILENAME))"
   ]
  },
  {
   "cell_type": "markdown",
   "id": "7933ef1c-094c-4e15-a61d-57e73d7a5ba8",
   "metadata": {},
   "source": [
    "# Save the classifier"
   ]
  },
  {
   "cell_type": "code",
   "execution_count": 126,
   "id": "dc208483-d3a0-4c80-b70c-62f56d399056",
   "metadata": {
    "execution": {
     "iopub.execute_input": "2022-04-18T23:57:12.669086Z",
     "iopub.status.busy": "2022-04-18T23:57:12.668974Z",
     "iopub.status.idle": "2022-04-18T23:57:13.548328Z",
     "shell.execute_reply": "2022-04-18T23:57:13.547888Z",
     "shell.execute_reply.started": "2022-04-18T23:57:12.669071Z"
    },
    "tags": []
   },
   "outputs": [],
   "source": [
    "if TRAIN == True:\n",
    "    file = \"../results/phrase/{}/{}/clf_{}.pickle\".format(MODEL, FILENAME, HYPERPARAM)\n",
    "    pickle.dump(clf, open(file, 'wb'))\n",
    "else:\n",
    "    print(\"No need to save, loaded trained model already\")"
   ]
  },
  {
   "cell_type": "markdown",
   "id": "078c29b0-49ce-4995-a0c1-0033cd396d6d",
   "metadata": {},
   "source": [
    "# References"
   ]
  }
 ],
 "metadata": {
  "kernelspec": {
   "display_name": "Python3 ml_env",
   "language": "python",
   "name": "ml_env"
  },
  "language_info": {
   "codemirror_mode": {
    "name": "ipython",
    "version": 3
   },
   "file_extension": ".py",
   "mimetype": "text/x-python",
   "name": "python",
   "nbconvert_exporter": "python",
   "pygments_lexer": "ipython3",
   "version": "3.8.8"
  }
 },
 "nbformat": 4,
 "nbformat_minor": 5
}

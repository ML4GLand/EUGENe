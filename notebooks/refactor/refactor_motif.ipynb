{
 "cells": [
  {
   "cell_type": "code",
   "execution_count": 1,
   "metadata": {},
   "outputs": [],
   "source": [
    "if 'autoreload' not in get_ipython().extension_manager.loaded:\n",
    "    %load_ext autoreload\n",
    "%autoreload 2"
   ]
  },
  {
   "cell_type": "markdown",
   "metadata": {},
   "source": [
    "# Explore"
   ]
  },
  {
   "attachments": {},
   "cell_type": "markdown",
   "metadata": {},
   "source": [
    "## Biopython"
   ]
  },
  {
   "cell_type": "code",
   "execution_count": 3,
   "metadata": {},
   "outputs": [],
   "source": [
    "from Bio import motifs "
   ]
  },
  {
   "cell_type": "code",
   "execution_count": 3,
   "metadata": {},
   "outputs": [
    {
     "name": "stdout",
     "output_type": "stream",
     "text": [
      "AGCT\n",
      "TCGA\n",
      "AACT\n",
      "\n"
     ]
    }
   ],
   "source": [
    "from Bio.Seq import Seq \n",
    "DNA_motif = [Seq(\"AGCT\"), Seq(\"TCGA\"), Seq(\"AACT\")] \n",
    "seq = motifs.create(DNA_motif) \n",
    "print(seq)"
   ]
  },
  {
   "cell_type": "code",
   "execution_count": 4,
   "metadata": {},
   "outputs": [
    {
     "data": {
      "text/plain": [
       "{'A': [2, 1, 0, 1], 'C': [0, 1, 2, 0], 'G': [0, 1, 1, 0], 'T': [1, 0, 0, 2]}"
      ]
     },
     "execution_count": 4,
     "metadata": {},
     "output_type": "execute_result"
    }
   ],
   "source": [
    "seq.counts"
   ]
  },
  {
   "cell_type": "code",
   "execution_count": 12,
   "metadata": {},
   "outputs": [
    {
     "data": {
      "text/plain": [
       "{'A': (0.6666666666666666, 0.3333333333333333, 0.0, 0.3333333333333333),\n",
       " 'C': (0.0, 0.3333333333333333, 0.6666666666666666, 0.0),\n",
       " 'G': (0.0, 0.3333333333333333, 0.3333333333333333, 0.0),\n",
       " 'T': (0.3333333333333333, 0.0, 0.0, 0.6666666666666666)}"
      ]
     },
     "execution_count": 12,
     "metadata": {},
     "output_type": "execute_result"
    }
   ],
   "source": [
    "seq.pwm"
   ]
  },
  {
   "cell_type": "code",
   "execution_count": 13,
   "metadata": {},
   "outputs": [
    {
     "data": {
      "text/plain": [
       "Seq('AACT')"
      ]
     },
     "execution_count": 13,
     "metadata": {},
     "output_type": "execute_result"
    }
   ],
   "source": [
    "seq.consensus"
   ]
  },
  {
   "cell_type": "code",
   "execution_count": 14,
   "metadata": {},
   "outputs": [
    {
     "data": {
      "text/plain": [
       "Seq('CTAC')"
      ]
     },
     "execution_count": 14,
     "metadata": {},
     "output_type": "execute_result"
    }
   ],
   "source": [
    "seq.anticonsensus"
   ]
  },
  {
   "cell_type": "code",
   "execution_count": 18,
   "metadata": {},
   "outputs": [
    {
     "data": {
      "text/plain": [
       "<Bio.motifs.Motif at 0x7f8cc320a990>"
      ]
     },
     "execution_count": 18,
     "metadata": {},
     "output_type": "execute_result"
    }
   ],
   "source": [
    "seq.reverse_complement()"
   ]
  },
  {
   "cell_type": "code",
   "execution_count": 19,
   "metadata": {},
   "outputs": [
    {
     "data": {
      "text/plain": [
       "[Seq('AGCT'), Seq('TCGA'), Seq('AACT')]"
      ]
     },
     "execution_count": 19,
     "metadata": {},
     "output_type": "execute_result"
    }
   ],
   "source": [
    "seq.instances"
   ]
  },
  {
   "cell_type": "code",
   "execution_count": 20,
   "metadata": {},
   "outputs": [
    {
     "data": {
      "text/plain": [
       "{'A': [1.4150374992788437, 0.4150374992788437, -inf, 0.4150374992788437],\n",
       " 'C': [-inf, 0.4150374992788437, 1.4150374992788437, -inf],\n",
       " 'G': [-inf, 0.4150374992788437, 0.4150374992788437, -inf],\n",
       " 'T': [0.4150374992788437, -inf, -inf, 1.4150374992788437]}"
      ]
     },
     "execution_count": 20,
     "metadata": {},
     "output_type": "execute_result"
    }
   ],
   "source": [
    "seq.pssm"
   ]
  },
  {
   "cell_type": "code",
   "execution_count": 23,
   "metadata": {},
   "outputs": [
    {
     "name": "stderr",
     "output_type": "stream",
     "text": [
      "/Users/adamklie/miniconda3/envs/eugene/lib/python3.7/site-packages/Bio/motifs/__init__.py:610: BiopythonDeprecationWarning: Motif.format has been deprecated, and we intend to remove it in a future release of Biopython. Instead of motif.format(format_spec), please use format(motif, format_spec).\n",
      "  BiopythonDeprecationWarning,\n"
     ]
    }
   ],
   "source": [
    "seq.weblogo(\"test.logo\")"
   ]
  },
  {
   "cell_type": "code",
   "execution_count": 7,
   "metadata": {},
   "outputs": [],
   "source": [
    "with open(\"../eugene/dataload/motif/resources/sample.sites\") as handle: \n",
    "    data = motifs.read(handle,\"sites\") "
   ]
  },
  {
   "cell_type": "code",
   "execution_count": 9,
   "metadata": {},
   "outputs": [
    {
     "name": "stdout",
     "output_type": "stream",
     "text": [
      "TF name\tNone\n",
      "Matrix ID\tNone\n",
      "Matrix:\n",
      "        0      1      2      3      4      5\n",
      "A:   2.00   5.00   0.00   0.00   0.00   1.00\n",
      "C:   3.00   0.00   5.00   0.00   0.00   0.00\n",
      "G:   0.00   1.00   1.00   6.00   0.00   5.00\n",
      "T:   1.00   0.00   0.00   0.00   6.00   0.00\n",
      "\n",
      "\n",
      "\n"
     ]
    }
   ],
   "source": [
    "print(data)"
   ]
  },
  {
   "attachments": {},
   "cell_type": "markdown",
   "metadata": {},
   "source": [
    "## PyJaspar"
   ]
  },
  {
   "cell_type": "code",
   "execution_count": 11,
   "metadata": {},
   "outputs": [],
   "source": [
    "from pyjaspar import jaspardb"
   ]
  },
  {
   "cell_type": "code",
   "execution_count": 317,
   "metadata": {},
   "outputs": [],
   "source": [
    "from eugene.dataload.motif._io import _load_jaspar"
   ]
  },
  {
   "cell_type": "code",
   "execution_count": 318,
   "metadata": {},
   "outputs": [],
   "source": [
    "motifs = _load_jaspar(collection=\"CORE\", release=\"JASPAR2018\")"
   ]
  },
  {
   "cell_type": "code",
   "execution_count": 320,
   "metadata": {},
   "outputs": [
    {
     "data": {
      "text/plain": [
       "'SELEX'"
      ]
     },
     "execution_count": 320,
     "metadata": {},
     "output_type": "execute_result"
    }
   ],
   "source": [
    "motifs[0].data_type"
   ]
  },
  {
   "cell_type": "code",
   "execution_count": 80,
   "metadata": {},
   "outputs": [
    {
     "name": "stdout",
     "output_type": "stream",
     "text": [
      "\u001b[0;31mInit signature:\u001b[0m\n",
      "\u001b[0mmotifs\u001b[0m\u001b[0;34m.\u001b[0m\u001b[0mjaspar\u001b[0m\u001b[0;34m.\u001b[0m\u001b[0mMotif\u001b[0m\u001b[0;34m(\u001b[0m\u001b[0;34m\u001b[0m\n",
      "\u001b[0;34m\u001b[0m    \u001b[0mmatrix_id\u001b[0m\u001b[0;34m,\u001b[0m\u001b[0;34m\u001b[0m\n",
      "\u001b[0;34m\u001b[0m    \u001b[0mname\u001b[0m\u001b[0;34m,\u001b[0m\u001b[0;34m\u001b[0m\n",
      "\u001b[0;34m\u001b[0m    \u001b[0malphabet\u001b[0m\u001b[0;34m=\u001b[0m\u001b[0;34m'ACGT'\u001b[0m\u001b[0;34m,\u001b[0m\u001b[0;34m\u001b[0m\n",
      "\u001b[0;34m\u001b[0m    \u001b[0minstances\u001b[0m\u001b[0;34m=\u001b[0m\u001b[0;32mNone\u001b[0m\u001b[0;34m,\u001b[0m\u001b[0;34m\u001b[0m\n",
      "\u001b[0;34m\u001b[0m    \u001b[0mcounts\u001b[0m\u001b[0;34m=\u001b[0m\u001b[0;32mNone\u001b[0m\u001b[0;34m,\u001b[0m\u001b[0;34m\u001b[0m\n",
      "\u001b[0;34m\u001b[0m    \u001b[0mcollection\u001b[0m\u001b[0;34m=\u001b[0m\u001b[0;32mNone\u001b[0m\u001b[0;34m,\u001b[0m\u001b[0;34m\u001b[0m\n",
      "\u001b[0;34m\u001b[0m    \u001b[0mtf_class\u001b[0m\u001b[0;34m=\u001b[0m\u001b[0;32mNone\u001b[0m\u001b[0;34m,\u001b[0m\u001b[0;34m\u001b[0m\n",
      "\u001b[0;34m\u001b[0m    \u001b[0mtf_family\u001b[0m\u001b[0;34m=\u001b[0m\u001b[0;32mNone\u001b[0m\u001b[0;34m,\u001b[0m\u001b[0;34m\u001b[0m\n",
      "\u001b[0;34m\u001b[0m    \u001b[0mspecies\u001b[0m\u001b[0;34m=\u001b[0m\u001b[0;32mNone\u001b[0m\u001b[0;34m,\u001b[0m\u001b[0;34m\u001b[0m\n",
      "\u001b[0;34m\u001b[0m    \u001b[0mtax_group\u001b[0m\u001b[0;34m=\u001b[0m\u001b[0;32mNone\u001b[0m\u001b[0;34m,\u001b[0m\u001b[0;34m\u001b[0m\n",
      "\u001b[0;34m\u001b[0m    \u001b[0macc\u001b[0m\u001b[0;34m=\u001b[0m\u001b[0;32mNone\u001b[0m\u001b[0;34m,\u001b[0m\u001b[0;34m\u001b[0m\n",
      "\u001b[0;34m\u001b[0m    \u001b[0mdata_type\u001b[0m\u001b[0;34m=\u001b[0m\u001b[0;32mNone\u001b[0m\u001b[0;34m,\u001b[0m\u001b[0;34m\u001b[0m\n",
      "\u001b[0;34m\u001b[0m    \u001b[0mmedline\u001b[0m\u001b[0;34m=\u001b[0m\u001b[0;32mNone\u001b[0m\u001b[0;34m,\u001b[0m\u001b[0;34m\u001b[0m\n",
      "\u001b[0;34m\u001b[0m    \u001b[0mpazar_id\u001b[0m\u001b[0;34m=\u001b[0m\u001b[0;32mNone\u001b[0m\u001b[0;34m,\u001b[0m\u001b[0;34m\u001b[0m\n",
      "\u001b[0;34m\u001b[0m    \u001b[0mcomment\u001b[0m\u001b[0;34m=\u001b[0m\u001b[0;32mNone\u001b[0m\u001b[0;34m,\u001b[0m\u001b[0;34m\u001b[0m\n",
      "\u001b[0;34m\u001b[0m\u001b[0;34m)\u001b[0m\u001b[0;34m\u001b[0m\u001b[0;34m\u001b[0m\u001b[0m\n",
      "\u001b[0;31mDocstring:\u001b[0m     \n",
      "A subclass of Bio.motifs.Motif used to represent a JASPAR profile.\n",
      "\n",
      "Additional metadata information are stored if available. The metadata\n",
      "availability depends on the source of the JASPAR motif (a 'pfm' format\n",
      "file, a 'jaspar' format file or a JASPAR database).\n",
      "\u001b[0;31mInit docstring:\u001b[0m Construct a JASPAR Motif instance.\n",
      "\u001b[0;31mFile:\u001b[0m           ~/miniconda3/envs/eugene/lib/python3.7/site-packages/Bio/motifs/jaspar/__init__.py\n",
      "\u001b[0;31mType:\u001b[0m           type\n",
      "\u001b[0;31mSubclasses:\u001b[0m     \n"
     ]
    }
   ],
   "source": [
    "motifs.jaspar.Motif?"
   ]
  },
  {
   "cell_type": "code",
   "execution_count": 45,
   "metadata": {},
   "outputs": [],
   "source": [
    "motif = motifs[0]"
   ]
  },
  {
   "cell_type": "code",
   "execution_count": 42,
   "metadata": {},
   "outputs": [
    {
     "data": {
      "text/plain": [
       "{'A': (0.09529025191675794,\n",
       "  0.1829134720700986,\n",
       "  0.307776560788609,\n",
       "  0.06133625410733844,\n",
       "  0.008762322015334063,\n",
       "  0.8148959474260679,\n",
       "  0.04381161007667032,\n",
       "  0.11732456140350878,\n",
       "  0.9331140350877193,\n",
       "  0.005488474204171241,\n",
       "  0.36553238199780463,\n",
       "  0.059275521405049394,\n",
       "  0.013186813186813187,\n",
       "  0.06153846153846154,\n",
       "  0.11441144114411442,\n",
       "  0.40924092409240925,\n",
       "  0.09030837004405286,\n",
       "  0.1288546255506608,\n",
       "  0.44273127753303965),\n",
       " 'C': (0.3187294633077766,\n",
       "  0.1588170865279299,\n",
       "  0.05366922234392114,\n",
       "  0.8762322015334063,\n",
       "  0.9890470974808324,\n",
       "  0.014238773274917854,\n",
       "  0.5783132530120482,\n",
       "  0.47478070175438597,\n",
       "  0.01206140350877193,\n",
       "  0.0,\n",
       "  0.003293084522502744,\n",
       "  0.013172338090010977,\n",
       "  0.0,\n",
       "  0.008791208791208791,\n",
       "  0.8063806380638063,\n",
       "  0.014301430143014302,\n",
       "  0.5308370044052864,\n",
       "  0.35462555066079293,\n",
       "  0.19933920704845814),\n",
       " 'G': (0.0832420591456736,\n",
       "  0.4534501642935378,\n",
       "  0.49178532311062434,\n",
       "  0.023001095290251915,\n",
       "  0.0,\n",
       "  0.07119386637458927,\n",
       "  0.3658269441401972,\n",
       "  0.05263157894736842,\n",
       "  0.03508771929824561,\n",
       "  0.991218441273326,\n",
       "  0.6212952799121844,\n",
       "  0.5532381997804611,\n",
       "  0.978021978021978,\n",
       "  0.8516483516483516,\n",
       "  0.005500550055005501,\n",
       "  0.5577557755775577,\n",
       "  0.3381057268722467,\n",
       "  0.08039647577092511,\n",
       "  0.29295154185022027),\n",
       " 'T': (0.5027382256297919,\n",
       "  0.20481927710843373,\n",
       "  0.14676889375684557,\n",
       "  0.03943044906900329,\n",
       "  0.002190580503833516,\n",
       "  0.09967141292442497,\n",
       "  0.012048192771084338,\n",
       "  0.35526315789473684,\n",
       "  0.019736842105263157,\n",
       "  0.003293084522502744,\n",
       "  0.009879253567508232,\n",
       "  0.3743139407244786,\n",
       "  0.008791208791208791,\n",
       "  0.07802197802197802,\n",
       "  0.0737073707370737,\n",
       "  0.0187018701870187,\n",
       "  0.040748898678414094,\n",
       "  0.43612334801762115,\n",
       "  0.06497797356828194)}"
      ]
     },
     "execution_count": 42,
     "metadata": {},
     "output_type": "execute_result"
    }
   ],
   "source": [
    "motif.pwm"
   ]
  },
  {
   "attachments": {},
   "cell_type": "markdown",
   "metadata": {},
   "source": [
    "## Pymemesuite"
   ]
  },
  {
   "cell_type": "code",
   "execution_count": 82,
   "metadata": {},
   "outputs": [],
   "source": [
    "from pymemesuite.common import MotifFile"
   ]
  },
  {
   "cell_type": "code",
   "execution_count": 83,
   "metadata": {},
   "outputs": [],
   "source": [
    "from eugene.dataload.motif._io import load_meme_pymemesuite"
   ]
  },
  {
   "cell_type": "code",
   "execution_count": 86,
   "metadata": {},
   "outputs": [],
   "source": [
    "mot = load_meme_pymemesuite(\"../eugene/dataload/motif/resources/CPEs.meme\")"
   ]
  },
  {
   "cell_type": "code",
   "execution_count": 91,
   "metadata": {},
   "outputs": [],
   "source": [
    "one = mot[0][0]"
   ]
  },
  {
   "cell_type": "code",
   "execution_count": 102,
   "metadata": {},
   "outputs": [
    {
     "data": {
      "text/plain": [
       "<pymemesuite.common.Motif at 0x7f8ccb936780>"
      ]
     },
     "execution_count": 102,
     "metadata": {},
     "output_type": "execute_result"
    }
   ],
   "source": [
    "one"
   ]
  },
  {
   "cell_type": "code",
   "execution_count": 94,
   "metadata": {},
   "outputs": [],
   "source": [
    "test = one.frequencies"
   ]
  },
  {
   "cell_type": "code",
   "execution_count": 101,
   "metadata": {},
   "outputs": [
    {
     "data": {
      "text/plain": [
       "pymemesuite.common.Array([0.1574698456407955, 0.39823201677801773, 0.1989122543297929, 0.24538588325139368])"
      ]
     },
     "execution_count": 101,
     "metadata": {},
     "output_type": "execute_result"
    }
   ],
   "source": [
    "test[1]"
   ]
  },
  {
   "attachments": {},
   "cell_type": "markdown",
   "metadata": {},
   "source": [
    "## EUGENe Motif"
   ]
  },
  {
   "cell_type": "code",
   "execution_count": 7,
   "metadata": {},
   "outputs": [
    {
     "name": "stderr",
     "output_type": "stream",
     "text": [
      "2023-01-08 11:44:10.436931: I tensorflow/core/platform/cpu_feature_guard.cc:193] This TensorFlow binary is optimized with oneAPI Deep Neural Network Library (oneDNN) to use the following CPU instructions in performance-critical operations:  AVX2 FMA\n",
      "To enable them in other operations, rebuild TensorFlow with the appropriate compiler flags.\n",
      "Fontconfig warning: ignoring UTF-8: not a valid region tag\n"
     ]
    }
   ],
   "source": [
    "import eugene as eu"
   ]
  },
  {
   "attachments": {},
   "cell_type": "markdown",
   "metadata": {},
   "source": [
    "## input/output\n"
   ]
  },
  {
   "attachments": {},
   "cell_type": "markdown",
   "metadata": {},
   "source": [
    "### From `MEME` file"
   ]
  },
  {
   "cell_type": "code",
   "execution_count": null,
   "metadata": {},
   "outputs": [
    {
     "ename": "NameError",
     "evalue": "name 'eu' is not defined",
     "output_type": "error",
     "traceback": [
      "\u001b[0;31m---------------------------------------------------------------------------\u001b[0m",
      "\u001b[0;31mNameError\u001b[0m                                 Traceback (most recent call last)",
      "\u001b[0;32m/var/folders/tm/f8q3_wcj5s98dwjv86bvq7hr0000gn/T/ipykernel_72340/2669695165.py\u001b[0m in \u001b[0;36m<module>\u001b[0;34m\u001b[0m\n\u001b[0;32m----> 1\u001b[0;31m \u001b[0mmotif_set\u001b[0m \u001b[0;34m=\u001b[0m \u001b[0meu\u001b[0m\u001b[0;34m.\u001b[0m\u001b[0mdataload\u001b[0m\u001b[0;34m.\u001b[0m\u001b[0mread_meme\u001b[0m\u001b[0;34m(\u001b[0m\u001b[0;34m\"../eugene/dataload/motif/resources/CPEs.meme\"\u001b[0m\u001b[0;34m,\u001b[0m \u001b[0mreturn_type\u001b[0m\u001b[0;34m=\u001b[0m\u001b[0;34m\"MotifSet\"\u001b[0m\u001b[0;34m)\u001b[0m \u001b[0;31m#default\u001b[0m\u001b[0;34m\u001b[0m\u001b[0;34m\u001b[0m\u001b[0m\n\u001b[0m\u001b[1;32m      2\u001b[0m \u001b[0;31m#motif_set = read_meme(\"../eugene/dataload/motif/resources/motifs.meme\", return_type=\"MotifSet\") #default\u001b[0m\u001b[0;34m\u001b[0m\u001b[0;34m\u001b[0m\u001b[0;34m\u001b[0m\u001b[0m\n\u001b[1;32m      3\u001b[0m \u001b[0;31m#motifs, bg = read_meme(\"../eugene/dataload/motif/resources/CPEs.meme\", return_type=\"pymemesuite\")\u001b[0m\u001b[0;34m\u001b[0m\u001b[0;34m\u001b[0m\u001b[0;34m\u001b[0m\u001b[0m\n",
      "\u001b[0;31mNameError\u001b[0m: name 'eu' is not defined"
     ]
    }
   ],
   "source": [
    "motif_set = eu.dataload.read_meme(\"../eugene/dataload/motif/resources/CPEs.meme\", return_type=\"MotifSet\") #default\n",
    "#motif_set = read_meme(\"../eugene/dataload/motif/resources/motifs.meme\", return_type=\"MotifSet\") #default\n",
    "#motifs, bg = read_meme(\"../eugene/dataload/motif/resources/CPEs.meme\", return_type=\"pymemesuite\")"
   ]
  },
  {
   "cell_type": "code",
   "execution_count": 282,
   "metadata": {},
   "outputs": [
    {
     "data": {
      "text/plain": [
       "Motif with 6 motifs"
      ]
     },
     "execution_count": 282,
     "metadata": {},
     "output_type": "execute_result"
    }
   ],
   "source": [
    "#motif_set[\"TATA\"].pfm\n",
    "motif_set"
   ]
  },
  {
   "attachments": {},
   "cell_type": "markdown",
   "metadata": {},
   "source": [
    "### To `MEME` file"
   ]
  },
  {
   "cell_type": "code",
   "execution_count": 243,
   "metadata": {},
   "outputs": [
    {
     "name": "stdout",
     "output_type": "stream",
     "text": [
      "Saved pfm in MEME format as: test.meme\n"
     ]
    }
   ],
   "source": [
    "eu.dataload.write_meme(motif_set, \"test.meme\")"
   ]
  },
  {
   "attachments": {},
   "cell_type": "markdown",
   "metadata": {},
   "source": [
    "### From PFM/Motif files"
   ]
  },
  {
   "cell_type": "code",
   "execution_count": 244,
   "metadata": {},
   "outputs": [],
   "source": [
    "filename = \"../eugene/dataload/motif/resources/known.motifs\"\n",
    "#filename = \"../eugene/dataload/motif/resources/MA0037.3.pfm\""
   ]
  },
  {
   "cell_type": "code",
   "execution_count": 245,
   "metadata": {},
   "outputs": [],
   "source": [
    "motif_set = eu.dl.read_homer(filename=filename)"
   ]
  },
  {
   "cell_type": "code",
   "execution_count": 246,
   "metadata": {},
   "outputs": [
    {
     "data": {
      "text/plain": [
       "{'CGTRNAAARTGA': Motif CGTRNAAARTGA (ABF1/SacCer-Promoters/Homer) with 12 positions,\n",
       " 'TCACGTGAYH': Motif TCACGTGAYH (Cbf1(bHLH)/Yeast-Cbf1-ChIP-Seq(GSE29506)/Homer) with 10 positions,\n",
       " 'CTYTCTYTCTCTCTC': Motif CTYTCTYTCTCTCTC (GAGA-repeat/SacCer-Promoters/Homer) with 15 positions,\n",
       " 'CCCACGTGCT': Motif CCCACGTGCT (Pho2(bHLH)/Yeast-Pho2-ChIP-Seq(GSE29506)/Homer) with 10 positions,\n",
       " 'AAGCACGTGBGD': Motif AAGCACGTGBGD (Pho4(bHLH)/Yeast-Pho4-ChIP-Seq(GSE29506)/Homer) with 12 positions,\n",
       " 'KCCGGGTAAYRR': Motif KCCGGGTAAYRR (REB1/SacCer-Promoters/Homer) with 12 positions,\n",
       " 'WTTTTCYYTTTT': Motif WTTTTCYYTTTT (RLR1?/SacCer-Promoters/Homer) with 12 positions,\n",
       " 'DDAAAAATTTTY': Motif DDAAAAATTTTY (SFP1/SacCer-Promoters/Homer) with 12 positions,\n",
       " 'CCCCGCGC': Motif CCCCGCGC (SUT1?/SacCer-Promoters/Homer) with 8 positions,\n",
       " 'BBHWTATATA': Motif BBHWTATATA (TATA-box/SacCer-Promoters/Homer) with 10 positions,\n",
       " 'GCGATGAGMT': Motif GCGATGAGMT (TOD6?/SacCer-Promoters/Homer) with 10 positions}"
      ]
     },
     "execution_count": 246,
     "metadata": {},
     "output_type": "execute_result"
    }
   ],
   "source": [
    "motif_set.motifs"
   ]
  },
  {
   "attachments": {},
   "cell_type": "markdown",
   "metadata": {},
   "source": [
    "### To PFM/Motif files"
   ]
  },
  {
   "cell_type": "code",
   "execution_count": 249,
   "metadata": {},
   "outputs": [
    {
     "name": "stdout",
     "output_type": "stream",
     "text": [
      "Saved pfms in .motifs format as: test.motifs\n"
     ]
    }
   ],
   "source": [
    "eu.dl.write_homer(motif_set, \"test.motifs\")"
   ]
  },
  {
   "attachments": {},
   "cell_type": "markdown",
   "metadata": {},
   "source": [
    "### From JASPAR databaset"
   ]
  },
  {
   "cell_type": "code",
   "execution_count": 250,
   "metadata": {},
   "outputs": [],
   "source": [
    "from eugene.dataload.motif._io import _load_jaspar\n",
    "from eugene.dataload.motif._convert import _from_biopython"
   ]
  },
  {
   "cell_type": "code",
   "execution_count": 253,
   "metadata": {},
   "outputs": [],
   "source": [
    "test = _load_jaspar(motif_accs=\"MA0004.1\")[0]"
   ]
  },
  {
   "cell_type": "code",
   "execution_count": 254,
   "metadata": {},
   "outputs": [],
   "source": [
    "motifs = _load_jaspar(collection=\"CORE\", release=\"JASPAR2018\")"
   ]
  },
  {
   "cell_type": "code",
   "execution_count": 255,
   "metadata": {},
   "outputs": [],
   "source": [
    "motif_set = _from_biopython(motifs, verbose=True)"
   ]
  },
  {
   "cell_type": "code",
   "execution_count": 256,
   "metadata": {},
   "outputs": [
    {
     "data": {
      "text/plain": [
       "Motif MA0004.1 (Arnt) with 6 positions"
      ]
     },
     "execution_count": 256,
     "metadata": {},
     "output_type": "execute_result"
    }
   ],
   "source": [
    "motif_set[\"MA0004.1\"]"
   ]
  },
  {
   "cell_type": "code",
   "execution_count": 257,
   "metadata": {},
   "outputs": [],
   "source": [
    "motif_set = eu.dl.load_jaspar(collection=\"CORE\", release=\"JASPAR2022\")"
   ]
  },
  {
   "cell_type": "code",
   "execution_count": 258,
   "metadata": {},
   "outputs": [
    {
     "data": {
      "text/plain": [
       "Motif with 1956 motifs"
      ]
     },
     "execution_count": 258,
     "metadata": {},
     "output_type": "execute_result"
    }
   ],
   "source": [
    "motif_set"
   ]
  },
  {
   "attachments": {},
   "cell_type": "markdown",
   "metadata": {},
   "source": [
    "### From h5 arrays"
   ]
  },
  {
   "cell_type": "code",
   "execution_count": 278,
   "metadata": {},
   "outputs": [],
   "source": [
    "motif_set = eu.dl.read_h5(\"test.h5\")"
   ]
  },
  {
   "cell_type": "code",
   "execution_count": 279,
   "metadata": {},
   "outputs": [
    {
     "data": {
      "text/plain": [
       "Motif with 17 motifs"
      ]
     },
     "execution_count": 279,
     "metadata": {},
     "output_type": "execute_result"
    }
   ],
   "source": [
    "motif_set"
   ]
  },
  {
   "cell_type": "code",
   "execution_count": 280,
   "metadata": {},
   "outputs": [
    {
     "data": {
      "text/plain": [
       "array([[0.1275, 0.3765, 0.1195, 0.3765],\n",
       "       [0.1575, 0.3985, 0.199 , 0.2455],\n",
       "       [0.249 , 0.303 , 0.197 , 0.251 ],\n",
       "       [0.1235, 0.655 , 0.0755, 0.1455],\n",
       "       [0.01  , 0.002 , 0.002 , 0.986 ],\n",
       "       [0.968 , 0.    , 0.    , 0.032 ],\n",
       "       [0.002 , 0.014 , 0.006 , 0.978 ],\n",
       "       [0.992 , 0.    , 0.002 , 0.006 ],\n",
       "       [0.653 , 0.012 , 0.002 , 0.333 ],\n",
       "       [0.974 , 0.    , 0.008 , 0.018 ],\n",
       "       [0.341 , 0.028 , 0.036 , 0.5955],\n",
       "       [0.6955, 0.0815, 0.1195, 0.1035],\n",
       "       [0.1255, 0.432 , 0.3165, 0.1255],\n",
       "       [0.291 , 0.418 , 0.175 , 0.1155],\n",
       "       [0.263 , 0.3445, 0.1755, 0.2175],\n",
       "       [0.307 , 0.3085, 0.2365, 0.1475]])"
      ]
     },
     "execution_count": 280,
     "metadata": {},
     "output_type": "execute_result"
    }
   ],
   "source": [
    "motif_set[\"TATA\"].pfm"
   ]
  },
  {
   "attachments": {},
   "cell_type": "markdown",
   "metadata": {},
   "source": [
    "### To h5 files"
   ]
  },
  {
   "cell_type": "code",
   "execution_count": 277,
   "metadata": {},
   "outputs": [
    {
     "name": "stdout",
     "output_type": "stream",
     "text": [
      "Saved pfm in h5 format as: test.h5\n"
     ]
    }
   ],
   "source": [
    "eu.dl.write_h5(motif_set, \"test.h5\")"
   ]
  },
  {
   "attachments": {},
   "cell_type": "markdown",
   "metadata": {},
   "source": [
    "## Converters"
   ]
  },
  {
   "attachments": {},
   "cell_type": "markdown",
   "metadata": {},
   "source": [
    "### To biopython"
   ]
  },
  {
   "cell_type": "code",
   "execution_count": 58,
   "metadata": {},
   "outputs": [
    {
     "data": {
      "text/plain": [
       "[<Bio.motifs.jaspar.Motif at 0x7f938baeb7d0>,\n",
       " <Bio.motifs.jaspar.Motif at 0x7f939426d710>,\n",
       " <Bio.motifs.jaspar.Motif at 0x7f938baeb350>,\n",
       " <Bio.motifs.jaspar.Motif at 0x7f938baeb110>,\n",
       " <Bio.motifs.jaspar.Motif at 0x7f938baeb150>,\n",
       " <Bio.motifs.jaspar.Motif at 0x7f938baabe90>]"
      ]
     },
     "execution_count": 58,
     "metadata": {},
     "output_type": "execute_result"
    }
   ],
   "source": [
    "eu.dl.to_biopython(motif_set)"
   ]
  },
  {
   "attachments": {},
   "cell_type": "markdown",
   "metadata": {},
   "source": [
    "### From biopython"
   ]
  },
  {
   "cell_type": "code",
   "execution_count": 73,
   "metadata": {},
   "outputs": [
    {
     "data": {
      "text/plain": [
       "MotifSet with 1956 motifs"
      ]
     },
     "execution_count": 73,
     "metadata": {},
     "output_type": "execute_result"
    }
   ],
   "source": [
    "from eugene.dataload.motif._io import _load_jaspar\n",
    "eu.dl.motif.from_biopython(_load_jaspar(collection=\"CORE\", release=\"JASPAR2022\"))"
   ]
  },
  {
   "attachments": {},
   "cell_type": "markdown",
   "metadata": {},
   "source": [
    "### To pymemesuite (TODO)\n",
    "Pymeme suite is written in cython which makes this conversion a bit more complicated. I will try to do it in the future."
   ]
  },
  {
   "cell_type": "code",
   "execution_count": 2,
   "metadata": {},
   "outputs": [],
   "source": [
    "from pymemesuite.common import Motif"
   ]
  },
  {
   "cell_type": "code",
   "execution_count": 3,
   "metadata": {},
   "outputs": [
    {
     "name": "stdout",
     "output_type": "stream",
     "text": [
      "\u001b[0;31mInit signature:\u001b[0m\n",
      "\u001b[0mMotif\u001b[0m\u001b[0;34m(\u001b[0m\u001b[0;34m\u001b[0m\n",
      "\u001b[0;34m\u001b[0m    \u001b[0mself\u001b[0m\u001b[0;34m,\u001b[0m\u001b[0;34m\u001b[0m\n",
      "\u001b[0;34m\u001b[0m    \u001b[0malphabet\u001b[0m\u001b[0;34m,\u001b[0m\u001b[0;34m\u001b[0m\n",
      "\u001b[0;34m\u001b[0m    \u001b[0;34m*\u001b[0m\u001b[0;34m,\u001b[0m\u001b[0;34m\u001b[0m\n",
      "\u001b[0;34m\u001b[0m    \u001b[0mscores\u001b[0m\u001b[0;34m=\u001b[0m\u001b[0;32mNone\u001b[0m\u001b[0;34m,\u001b[0m\u001b[0;34m\u001b[0m\n",
      "\u001b[0;34m\u001b[0m    \u001b[0mfrequencies\u001b[0m\u001b[0;34m=\u001b[0m\u001b[0;32mNone\u001b[0m\u001b[0;34m,\u001b[0m\u001b[0;34m\u001b[0m\n",
      "\u001b[0;34m\u001b[0m    \u001b[0mname\u001b[0m\u001b[0;34m=\u001b[0m\u001b[0;32mNone\u001b[0m\u001b[0;34m,\u001b[0m\u001b[0;34m\u001b[0m\n",
      "\u001b[0;34m\u001b[0m    \u001b[0maccession\u001b[0m\u001b[0;34m=\u001b[0m\u001b[0;32mNone\u001b[0m\u001b[0;34m,\u001b[0m\u001b[0;34m\u001b[0m\n",
      "\u001b[0;34m\u001b[0m\u001b[0;34m)\u001b[0m\u001b[0;34m\u001b[0m\u001b[0;34m\u001b[0m\u001b[0m\n",
      "\u001b[0;31mDocstring:\u001b[0m     \n",
      "A single MEME motif.\n",
      "    \n",
      "\u001b[0;31mInit docstring:\u001b[0m\n",
      "Create a new motif with the given alphabet and scores / frequencies.\n",
      "\n",
      "Arguments:\n",
      "    alphabet (`~pymemesuite.common.Alphabet`): The alphabet for the\n",
      "        motif.\n",
      "    scores (`~pymemesuite.common.Matrix`): The position-specific\n",
      "        scoring matrix for this motif.\n",
      "    frequencies (`~pymemesuite.common.Matrix`): The frequency matrix\n",
      "        for this motif.\n",
      "\n",
      "Keyword Arguments:\n",
      "    name (`bytes`): The name of the motif.\n",
      "    accession (`bytes`): The accession of the motif.\n",
      "\n",
      "Caution:\n",
      "    Either ``frequencies`` or ``scores`` must be provided to create\n",
      "    a new motif.\n",
      "\u001b[0;31mFile:\u001b[0m           ~/miniconda3/envs/eugene/lib/python3.7/site-packages/pymemesuite/common.cpython-37m-darwin.so\n",
      "\u001b[0;31mType:\u001b[0m           type\n",
      "\u001b[0;31mSubclasses:\u001b[0m     \n"
     ]
    }
   ],
   "source": [
    "Motif?"
   ]
  },
  {
   "cell_type": "code",
   "execution_count": 5,
   "metadata": {},
   "outputs": [],
   "source": [
    "from pymemesuite.common import Alphabet"
   ]
  },
  {
   "cell_type": "code",
   "execution_count": null,
   "metadata": {},
   "outputs": [
    {
     "ename": "",
     "evalue": "",
     "output_type": "error",
     "traceback": [
      "\u001b[1;31mCanceled future for execute_request message before replies were done"
     ]
    },
    {
     "ename": "",
     "evalue": "",
     "output_type": "error",
     "traceback": [
      "\u001b[1;31mThe Kernel crashed while executing code in the the current cell or a previous cell. Please review the code in the cell(s) to identify a possible cause of the failure. Click <a href='https://aka.ms/vscodeJupyterKernelCrash'>here</a> for more info. View Jupyter <a href='command:jupyter.viewOutput'>log</a> for further details."
     ]
    }
   ],
   "source": [
    "Alphabet([\"A\", \"C\", \"G\", \"T\"])"
   ]
  },
  {
   "cell_type": "code",
   "execution_count": 332,
   "metadata": {},
   "outputs": [
    {
     "ename": "TypeError",
     "evalue": "Argument 'alphabet' has incorrect type (expected pymemesuite.common.Alphabet, got str)",
     "output_type": "error",
     "traceback": [
      "\u001b[0;31m---------------------------------------------------------------------------\u001b[0m",
      "\u001b[0;31mTypeError\u001b[0m                                 Traceback (most recent call last)",
      "\u001b[0;32m/var/folders/tm/f8q3_wcj5s98dwjv86bvq7hr0000gn/T/ipykernel_60012/398079450.py\u001b[0m in \u001b[0;36m<module>\u001b[0;34m\u001b[0m\n\u001b[1;32m      3\u001b[0m     \u001b[0mfrequencies\u001b[0m\u001b[0;34m=\u001b[0m\u001b[0mtest_motif\u001b[0m\u001b[0;34m.\u001b[0m\u001b[0mpfm\u001b[0m\u001b[0;34m,\u001b[0m\u001b[0;34m\u001b[0m\u001b[0;34m\u001b[0m\u001b[0m\n\u001b[1;32m      4\u001b[0m     \u001b[0mname\u001b[0m\u001b[0;34m=\u001b[0m\u001b[0mtest_motif\u001b[0m\u001b[0;34m.\u001b[0m\u001b[0mname\u001b[0m\u001b[0;34m,\u001b[0m\u001b[0;34m\u001b[0m\u001b[0;34m\u001b[0m\u001b[0m\n\u001b[0;32m----> 5\u001b[0;31m     \u001b[0maccession\u001b[0m\u001b[0;34m=\u001b[0m\u001b[0mtest_motif\u001b[0m\u001b[0;34m.\u001b[0m\u001b[0midentifier\u001b[0m\u001b[0;34m,\u001b[0m\u001b[0;34m\u001b[0m\u001b[0;34m\u001b[0m\u001b[0m\n\u001b[0m\u001b[1;32m      6\u001b[0m )\n",
      "\u001b[0;31mTypeError\u001b[0m: Argument 'alphabet' has incorrect type (expected pymemesuite.common.Alphabet, got str)"
     ]
    }
   ],
   "source": [
    "Motif(\n",
    "    alph,\n",
    "    frequencies=test_motif.pfm,\n",
    "    name=test_motif.name,\n",
    "    accession=test_motif.identifier,\n",
    ")"
   ]
  },
  {
   "attachments": {},
   "cell_type": "markdown",
   "metadata": {},
   "source": [
    "### From pymemesuite"
   ]
  },
  {
   "cell_type": "code",
   "execution_count": 83,
   "metadata": {},
   "outputs": [
    {
     "data": {
      "text/plain": [
       "MotifSet with 6 motifs"
      ]
     },
     "execution_count": 83,
     "metadata": {},
     "output_type": "execute_result"
    }
   ],
   "source": [
    "from eugene.dataload.motif._io import _read_meme_pymemesuite\n",
    "eu.dl.motif.from_pymemesuite(_read_meme_pymemesuite(\"../eugene/dataload/motif/resources/CPEs.meme\")[0])"
   ]
  },
  {
   "attachments": {},
   "cell_type": "markdown",
   "metadata": {},
   "source": [
    "### From kernels"
   ]
  },
  {
   "cell_type": "code",
   "execution_count": 84,
   "metadata": {},
   "outputs": [
    {
     "data": {
      "text/plain": [
       "torch.Size([246, 4, 7])"
      ]
     },
     "execution_count": 84,
     "metadata": {},
     "output_type": "execute_result"
    }
   ],
   "source": [
    "model = eu.models.DeepSTARR(input_len=249, output_dim=2)\n",
    "from eugene.models.base._utils import get_layer\n",
    "layer = get_layer(model, 'conv1d_tower.layers.0')\n",
    "layer.weight.shape"
   ]
  },
  {
   "cell_type": "code",
   "execution_count": 87,
   "metadata": {},
   "outputs": [],
   "source": [
    "motif_set = eu.dl.motif.from_kernel(layer.weight)"
   ]
  },
  {
   "cell_type": "code",
   "execution_count": 88,
   "metadata": {},
   "outputs": [
    {
     "data": {
      "text/plain": [
       "torch.Size([7, 4])"
      ]
     },
     "execution_count": 88,
     "metadata": {},
     "output_type": "execute_result"
    }
   ],
   "source": [
    "motif_set[\"filter_0\"].pfm.shape"
   ]
  },
  {
   "attachments": {},
   "cell_type": "markdown",
   "metadata": {},
   "source": [
    "### To kernels\n"
   ]
  },
  {
   "cell_type": "code",
   "execution_count": 89,
   "metadata": {},
   "outputs": [],
   "source": [
    "motif_set = eu.dl.read_meme(\"../eugene/dataload/motif/resources/CPEs.meme\")"
   ]
  },
  {
   "cell_type": "code",
   "execution_count": 90,
   "metadata": {},
   "outputs": [],
   "source": [
    "pwms = eu.dl.motif.to_kernel(motif_set, size=(246, 4, 7), convert_to_pwm=False)"
   ]
  },
  {
   "cell_type": "code",
   "execution_count": 91,
   "metadata": {},
   "outputs": [],
   "source": [
    "import torch.nn as nn\n",
    "layer.weight = nn.Parameter(pwms)"
   ]
  },
  {
   "cell_type": "code",
   "execution_count": 92,
   "metadata": {},
   "outputs": [
    {
     "data": {
      "text/plain": [
       "tensor([[0.1275, 0.3765, 0.1195, 0.3765],\n",
       "        [0.1575, 0.3985, 0.1990, 0.2455],\n",
       "        [0.2490, 0.3030, 0.1970, 0.2510],\n",
       "        [0.1235, 0.6550, 0.0755, 0.1455],\n",
       "        [0.0100, 0.0020, 0.0020, 0.9860],\n",
       "        [0.9680, 0.0000, 0.0000, 0.0320],\n",
       "        [0.0020, 0.0140, 0.0060, 0.9780]], grad_fn=<PermuteBackward0>)"
      ]
     },
     "execution_count": 92,
     "metadata": {},
     "output_type": "execute_result"
    }
   ],
   "source": [
    "layer.weight[0].T"
   ]
  },
  {
   "attachments": {},
   "cell_type": "markdown",
   "metadata": {},
   "source": [
    "## Memesuite"
   ]
  },
  {
   "attachments": {},
   "cell_type": "markdown",
   "metadata": {},
   "source": [
    "### check install"
   ]
  },
  {
   "attachments": {},
   "cell_type": "markdown",
   "metadata": {},
   "source": [
    "### run meme"
   ]
  },
  {
   "attachments": {},
   "cell_type": "markdown",
   "metadata": {},
   "source": [
    "### run tomtom"
   ]
  },
  {
   "cell_type": "code",
   "execution_count": 93,
   "metadata": {},
   "outputs": [],
   "source": [
    "from eugene.dataload.motif._memesuite import tomtom"
   ]
  },
  {
   "cell_type": "code",
   "execution_count": 94,
   "metadata": {},
   "outputs": [
    {
     "name": "stdout",
     "output_type": "stream",
     "text": [
      "\u001b[0;31mSignature:\u001b[0m\n",
      "\u001b[0mtomtom\u001b[0m\u001b[0;34m(\u001b[0m\u001b[0;34m\u001b[0m\n",
      "\u001b[0;34m\u001b[0m    \u001b[0mmotif_path\u001b[0m\u001b[0;34m,\u001b[0m\u001b[0;34m\u001b[0m\n",
      "\u001b[0;34m\u001b[0m    \u001b[0mjaspar_path\u001b[0m\u001b[0;34m,\u001b[0m\u001b[0;34m\u001b[0m\n",
      "\u001b[0;34m\u001b[0m    \u001b[0moutput_path\u001b[0m\u001b[0;34m,\u001b[0m\u001b[0;34m\u001b[0m\n",
      "\u001b[0;34m\u001b[0m    \u001b[0mevalue\u001b[0m\u001b[0;34m=\u001b[0m\u001b[0;32mFalse\u001b[0m\u001b[0;34m,\u001b[0m\u001b[0;34m\u001b[0m\n",
      "\u001b[0;34m\u001b[0m    \u001b[0mthresh\u001b[0m\u001b[0;34m=\u001b[0m\u001b[0;36m0.5\u001b[0m\u001b[0;34m,\u001b[0m\u001b[0;34m\u001b[0m\n",
      "\u001b[0;34m\u001b[0m    \u001b[0mdist\u001b[0m\u001b[0;34m=\u001b[0m\u001b[0;34m'pearson'\u001b[0m\u001b[0;34m,\u001b[0m\u001b[0;34m\u001b[0m\n",
      "\u001b[0;34m\u001b[0m    \u001b[0mpng\u001b[0m\u001b[0;34m=\u001b[0m\u001b[0;32mNone\u001b[0m\u001b[0;34m,\u001b[0m\u001b[0;34m\u001b[0m\n",
      "\u001b[0;34m\u001b[0m    \u001b[0mtomtom_path\u001b[0m\u001b[0;34m=\u001b[0m\u001b[0;34m'tomtom'\u001b[0m\u001b[0;34m,\u001b[0m\u001b[0;34m\u001b[0m\n",
      "\u001b[0;34m\u001b[0m\u001b[0;34m)\u001b[0m\u001b[0;34m\u001b[0m\u001b[0;34m\u001b[0m\u001b[0m\n",
      "\u001b[0;31mDocstring:\u001b[0m perform tomtom analysis \n",
      "\u001b[0;31mFile:\u001b[0m      ~/Desktop/EUGENe_dev/EUGENe/eugene/dataload/motif/_memesuite.py\n",
      "\u001b[0;31mType:\u001b[0m      function\n"
     ]
    }
   ],
   "source": [
    "tomtom?"
   ]
  },
  {
   "attachments": {},
   "cell_type": "markdown",
   "metadata": {},
   "source": [
    "### run fimo"
   ]
  },
  {
   "attachments": {},
   "cell_type": "markdown",
   "metadata": {},
   "source": [
    "# Homer"
   ]
  },
  {
   "attachments": {},
   "cell_type": "markdown",
   "metadata": {},
   "source": [
    "### check install"
   ]
  },
  {
   "attachments": {},
   "cell_type": "markdown",
   "metadata": {},
   "source": [
    "### run motif finding"
   ]
  },
  {
   "attachments": {},
   "cell_type": "markdown",
   "metadata": {},
   "source": [
    "### run region annotation"
   ]
  },
  {
   "attachments": {},
   "cell_type": "markdown",
   "metadata": {},
   "source": [
    "---"
   ]
  },
  {
   "attachments": {},
   "cell_type": "markdown",
   "metadata": {},
   "source": [
    "# Scratch"
   ]
  },
  {
   "cell_type": "code",
   "execution_count": null,
   "metadata": {},
   "outputs": [],
   "source": [
    "def write_meme(\n",
    "    motif_set: MotifSet,\n",
    "    filename: str\n",
    "):\n",
    "    \"\"\"Write MotifSet object to MEME file\n",
    "\n",
    "    Parameters\n",
    "    ----------\n",
    "    motif_set : MotifSet\n",
    "        MotifSet object\n",
    "    filename : str\n",
    "        filename to write to\n",
    "    \"\"\"\n",
    "    alphabet = motif_set.alphabet\n",
    "    version = motif_set.version\n",
    "    background = motif_set.background\n",
    "    strands = motif_set.strands\n",
    "    n_motifs = len(motif_set)\n",
    "\n",
    "    meme_file = open(filename, \"w\")\n",
    "    meme_file.write(f\"MEME version {version}\\n\\n\")\n",
    "    meme_file.write(f\"ALPHABET= {alphabet}\\n\\n\")\n",
    "    meme_file.write(f\"strands: {strands}\\n\\n\")\n",
    "    meme_file.write(\"Background letter frequencies\\n\")\n",
    "    meme_file.write(\n",
    "        f\"{alphabet[0]} {background[alphabet[0]]} \" \\\n",
    "        f\"{alphabet[1]} {background[alphabet[1]]} \" \\\n",
    "        f\"{alphabet[2]} {background[alphabet[2]]} \" \\\n",
    "        f\"{alphabet[3]} {background[alphabet[3]]}\" \\\n",
    "        f\"\\n\"\n",
    "    )\n",
    "    for motif in motif_set:\n",
    "        ident = motif.identifier\n",
    "        name = motif.name\n",
    "        pfm = motif.pfm\n",
    "        if np.sum(pfm) > 0:\n",
    "            meme_file.write(\"\\n\")\n",
    "            meme_file.write(f\"MOTIF {ident} {name} \\n\")\n",
    "            meme_file.write(f\"letter-probability matrix: alength= 4 w= {len(pfm)} \\n\")\n",
    "        for j in range(0, len(pfm)):\n",
    "            if np.sum(pfm[j]) > 0:\n",
    "                meme_file.write(\"\\t\".join(pfm[j].astype(str)) + \"\\n\")\n",
    "    meme_file.close()\n",
    "    print(\"Saved pfm in MEME format as: {}\".format(filename))"
   ]
  },
  {
   "cell_type": "code",
   "execution_count": null,
   "metadata": {},
   "outputs": [],
   "source": [
    "def write_motifs(\n",
    "    motif_set: MotifSet,\n",
    "    filename: str,\n",
    "    log_odds_threshold: np.ndarray = None\n",
    "):\n",
    "    \"\"\"Write MotifSet object to .motifs file\n",
    "\n",
    "    Parameters\n",
    "    ----------\n",
    "    motif_set : MotifSet\n",
    "        MotifSet object\n",
    "    filename : str\n",
    "        filename to write to\n",
    "    \"\"\"\n",
    "    motif_file = open(filename, \"w\")\n",
    "    log_odds = np.zeros(len(motif_set)) if log_odds is None else log_odds\n",
    "    for i, motif in enumerate(motif_set):\n",
    "        ident = motif.identifier\n",
    "        name = motif.name\n",
    "        pfm = motif.pfm\n",
    "        motif_file.write(f\">{ident}\\t{name}\\t{log_odds[i]}\\n\")\n",
    "        for j in range(0, len(pfm)):\n",
    "            if np.sum(pfm) > 0:\n",
    "                motif_file.write(\"\\t\".join(pfm[j].astype(str)) + \"\\n\")\n",
    "    motif_file.close()\n",
    "    print(\"Saved pfms in .motifs format as: {}\".format(filename))"
   ]
  },
  {
   "cell_type": "code",
   "execution_count": null,
   "metadata": {},
   "outputs": [],
   "source": [
    "# Read MotifSet object from an h5 file\n",
    "import h5py\n",
    "from eugene.preprocess import decode_seq\n",
    "from eugene.preprocess._utils import _token2one_hot\n",
    "def _read_h5(filename):\n",
    "    motif_set = MotifSet()\n",
    "    with h5py.File(filename, \"r\") as f:\n",
    "        for key in f.keys():\n",
    "            pfm = f[key][:]\n",
    "            consensus = decode_seq(_token2one_hot(pfm.argmax(axis=1)))\n",
    "            motif_set.add_motif(\n",
    "                Motif(\n",
    "                    identifier=key,\n",
    "                    name=key,\n",
    "                    pfm=pfm,\n",
    "                    consensus=consensus,\n",
    "                    length=len(consensus)\n",
    "                )\n",
    "            )\n",
    "    return motif_set"
   ]
  },
  {
   "cell_type": "code",
   "execution_count": null,
   "metadata": {},
   "outputs": [],
   "source": [
    "# Write MotifSet object to an h5 file\n",
    "import h5py\n",
    "def _write_h5(motif_set, filename):\n",
    "    with h5py.File(filename, \"w\") as f:\n",
    "        for motif in motif_set.motifs.values():\n",
    "            f.create_dataset(motif.identifier, data=motif.pfm)\n",
    "    print(\"Saved pfm in h5 format as: {}\".format(filename))"
   ]
  },
  {
   "cell_type": "code",
   "execution_count": null,
   "metadata": {},
   "outputs": [],
   "source": [
    "import numpy as np\n",
    "from typing import List, Dict, Optional\n",
    "from eugene.dataload import Motif, MotifSet\n",
    "from eugene.preprocess import decode_seq\n",
    "from eugene.preprocess._utils import _token2one_hot\n",
    "def _from_kernel(\n",
    "    kernel: np.ndarray,\n",
    "    identifiers: List[str] = None,\n",
    "    names: List[str] = None,\n",
    "    alphabet: str = \"ACGT\",\n",
    "    bg: Optional[Dict[str, float]] = None,\n",
    "    strands: str = \"+ -\",\n",
    "):\n",
    "    \"\"\"Convert array of motif weights to MotifSet object\"\"\"\n",
    "    n_filters, n_chennels, len_filter = kernel.shape\n",
    "    identifiers = identifiers or [f\"filter_{i}\" for i in range(n_filters)]\n",
    "    names = names or [f\"filter_{i}\" for i in range(n_filters)]\n",
    "    motifs = {}\n",
    "    for i in range(n_filters):\n",
    "        name = names[i]\n",
    "        pfm = kernel[i].T\n",
    "        consensus = decode_seq(_token2one_hot(pfm.argmax(axis=1)))\n",
    "        motifs[name] = Motif(\n",
    "            identifier=identifiers[i],\n",
    "            name=names[i],\n",
    "            pfm=pfm,\n",
    "            consensus=consensus,\n",
    "            length=len_filter,\n",
    "            alphabet_length=len(alphabet)\n",
    "        )\n",
    "    return MotifSet(\n",
    "        motifs=motifs,\n",
    "        alphabet=alphabet,\n",
    "        version=\"5\",\n",
    "        background=bg,\n",
    "        strands=strands\n",
    "    )\n"
   ]
  }
 ],
 "metadata": {
  "kernelspec": {
   "display_name": "eugene",
   "language": "python",
   "name": "python3"
  },
  "language_info": {
   "codemirror_mode": {
    "name": "ipython",
    "version": 3
   },
   "file_extension": ".py",
   "mimetype": "text/x-python",
   "name": "python",
   "nbconvert_exporter": "python",
   "pygments_lexer": "ipython3",
   "version": "3.7.12 | packaged by conda-forge | (default, Oct 26 2021, 05:59:23) \n[Clang 11.1.0 ]"
  },
  "orig_nbformat": 4,
  "vscode": {
   "interpreter": {
    "hash": "7782186cff5d7e5d5e3fe0a7e6ebf1d74655b3470c460e9b06cf809b4e9601e8"
   }
  }
 },
 "nbformat": 4,
 "nbformat_minor": 2
}

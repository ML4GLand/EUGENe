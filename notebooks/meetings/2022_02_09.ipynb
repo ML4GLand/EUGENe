{
 "cells": [
  {
   "cell_type": "markdown",
   "id": "31b71dbb-aa8c-45be-bf38-7da8f5b0ceb0",
   "metadata": {},
   "source": [
    "# Prep for meeting with Joe and Emma\n"
   ]
  },
  {
   "cell_type": "markdown",
   "id": "0fcd8f8e-cedc-4bb7-9cb6-f6ce2d5db2c6",
   "metadata": {
    "execution": {
     "iopub.execute_input": "2021-09-28T20:36:31.301402Z",
     "iopub.status.busy": "2021-09-28T20:36:31.301151Z",
     "iopub.status.idle": "2021-09-28T20:36:31.321538Z",
     "shell.execute_reply": "2021-09-28T20:36:31.320382Z",
     "shell.execute_reply.started": "2021-09-28T20:36:31.301373Z"
    }
   },
   "source": [
    "**Authorship:**\n",
    "Adam Klie, *02/08/2021*\n",
    "***\n",
    "**Description:**\n",
    "Notebook to put together figs for meeting with Joe and Emma on 02/09/2022\n",
    "***\n",
    "**TODOs:**\n",
    " - <font color='Red'> Meet with Joe to get a better sense of what to include and what to ignore </font>\n",
    " - <font color='Red'> Go through and clean up each slide that we decided on including </font>\n",
    "  - <font color='Red'> Update self with relevant background needed to explain gkmtrain, gkmexplain </font>\n",
    "***"
   ]
  },
  {
   "cell_type": "markdown",
   "id": "2d058003-a667-4b45-9ddc-e47efe48e0e1",
   "metadata": {
    "tags": []
   },
   "source": [
    "**Authorship:**\n",
    "Author, *MM/DD/YYYY*\n",
    "***\n",
    "**Description:**\n",
    "Notebook to do some cool stuff\n",
    "***\n",
    "**TODOs:**\n",
    " - <font color='green'> Done TODO </font>\n",
    " - <font color='orange'> WIP TODO </font>\n",
    " - <font color='red'> Queued TODO </font>\n",
    "***"
   ]
  },
  {
   "cell_type": "markdown",
   "id": "a2a2c4a5-1dac-4dce-8e87-cb83f07de4c3",
   "metadata": {
    "execution": {
     "iopub.execute_input": "2021-09-05T21:21:18.602440Z",
     "iopub.status.busy": "2021-09-05T21:21:18.602151Z",
     "iopub.status.idle": "2021-09-05T21:21:18.606439Z",
     "shell.execute_reply": "2021-09-05T21:21:18.605256Z",
     "shell.execute_reply.started": "2021-09-05T21:21:18.602409Z"
    },
    "tags": []
   },
   "source": [
    "## Set-up"
   ]
  },
  {
   "cell_type": "code",
   "execution_count": 1,
   "id": "3ebaff6f",
   "metadata": {
    "execution": {
     "iopub.execute_input": "2022-02-11T21:09:56.987088Z",
     "iopub.status.busy": "2022-02-11T21:09:56.986885Z",
     "iopub.status.idle": "2022-02-11T21:10:01.043175Z",
     "shell.execute_reply": "2022-02-11T21:10:01.042714Z",
     "shell.execute_reply.started": "2022-02-11T21:09:56.987039Z"
    },
    "tags": []
   },
   "outputs": [],
   "source": [
    "# The classics\n",
    "import pandas as pd\n",
    "import matplotlib.pyplot as plt\n",
    "import seaborn as sns\n",
    "import matplotlib\n",
    "\n",
    "# Autoreload extension\n",
    "if 'autoreload' not in get_ipython().extension_manager.loaded:\n",
    "    %load_ext autoreload\n",
    "%autoreload 2\n",
    "\n",
    "# Plotting params\n",
    "import matplotlib as mpl\n",
    "\n",
    "\n",
    "# For plotting\n",
    "matplotlib.rcParams['pdf.fonttype'] = 42\n",
    "matplotlib.rcParams['ps.fonttype'] = 42\n",
    "mpl.rcParams['axes.labelsize'] = 18\n",
    "mpl.rcParams['xtick.labelsize'] = 14\n",
    "mpl.rcParams['ytick.labelsize'] = 14\n",
    "mpl.rcParams['legend.fontsize'] = 16"
   ]
  },
  {
   "cell_type": "markdown",
   "id": "524af904",
   "metadata": {
    "tags": []
   },
   "source": [
    "## Part 1\n",
    "Description"
   ]
  },
  {
   "cell_type": "code",
   "execution_count": 2,
   "id": "a53c1ec0-fa19-4f8a-b86e-d33040cb7141",
   "metadata": {
    "execution": {
     "iopub.execute_input": "2022-02-11T21:10:01.043996Z",
     "iopub.status.busy": "2022-02-11T21:10:01.043882Z",
     "iopub.status.idle": "2022-02-11T21:10:01.506143Z",
     "shell.execute_reply": "2022-02-11T21:10:01.505758Z",
     "shell.execute_reply.started": "2022-02-11T21:10:01.043982Z"
    },
    "tags": []
   },
   "outputs": [],
   "source": [
    "# Clean up dataframe\n",
    "performance_df = pd.read_csv(\"2022_02_08._performance_summary.csv\")"
   ]
  },
  {
   "cell_type": "code",
   "execution_count": 5,
   "id": "c81c9e64-b51b-45bc-97e7-f995d5f0c6d4",
   "metadata": {
    "execution": {
     "iopub.execute_input": "2022-02-11T21:12:05.943249Z",
     "iopub.status.busy": "2022-02-11T21:12:05.943088Z",
     "iopub.status.idle": "2022-02-11T21:12:06.445385Z",
     "shell.execute_reply": "2022-02-11T21:12:06.445055Z",
     "shell.execute_reply.started": "2022-02-11T21:12:05.943234Z"
    },
    "tags": []
   },
   "outputs": [],
   "source": [
    "performance_df[\"Model\"] = [\"RNN\", \"gkm-SVM\", \"Gradient Booster\", \"CNN\"]"
   ]
  },
  {
   "cell_type": "code",
   "execution_count": 7,
   "id": "3a7754fc-5ad3-4284-94ab-a8476d72b729",
   "metadata": {
    "execution": {
     "iopub.execute_input": "2022-02-11T21:13:33.690369Z",
     "iopub.status.busy": "2022-02-11T21:13:33.690206Z",
     "iopub.status.idle": "2022-02-11T21:13:35.602400Z",
     "shell.execute_reply": "2022-02-11T21:13:35.602114Z",
     "shell.execute_reply.started": "2022-02-11T21:13:33.690352Z"
    },
    "tags": []
   },
   "outputs": [
    {
     "data": {
      "image/png": "[encoded data removed]",
      "text/plain": [
       "<Figure size 1152x648 with 1 Axes>"
      ]
     },
     "metadata": {
      "needs_background": "light"
     },
     "output_type": "display_data"
    }
   ],
   "source": [
    "# Drop meta for now and plot performances\n",
    "plot_df = performance_df.melt(id_vars=\"Model\", value_vars=[\"auROC\", \"auPRC\"], var_name=\"Metric\", value_name=\"Metric Value\")\n",
    "fig, ax = plt.subplots(1, 1, figsize=(16,9))\n",
    "sns.barplot(data=plot_df.sort_values(\"Metric Value\"), x=\"Metric\", y=\"Metric Value\", hue=\"Model\", linewidth=1, order=[\"auROC\", \"auPRC\"]);\n",
    "ax.set_ylim(0, 1)\n",
    "plt.legend(loc=\"upper right\");\n",
    "plt.savefig(\"current_performance.pdf\", dpi=300)"
   ]
  },
  {
   "cell_type": "markdown",
   "id": "945550e2-0b82-4cf9-8109-c3a614946fa7",
   "metadata": {
    "tags": []
   },
   "source": [
    "## Part 2\n",
    "Description"
   ]
  },
  {
   "cell_type": "markdown",
   "id": "99a8c706-ccbe-4156-9e3d-a29c1ecc9e95",
   "metadata": {
    "execution": {
     "iopub.execute_input": "2021-09-08T17:29:42.314098Z",
     "iopub.status.busy": "2021-09-08T17:29:42.313838Z",
     "iopub.status.idle": "2021-09-08T17:29:42.903968Z",
     "shell.execute_reply": "2021-09-08T17:29:42.903216Z",
     "shell.execute_reply.started": "2021-09-08T17:29:42.314069Z"
    },
    "tags": []
   },
   "source": [
    "# Scratch\n",
    "Place for old or testing code"
   ]
  },
  {
   "cell_type": "markdown",
   "id": "ed7ffd88-94c2-45f2-ad87-9f255e8073ff",
   "metadata": {},
   "source": [
    "# References"
   ]
  }
 ],
 "metadata": {
  "kernelspec": {
   "display_name": "Python3 ml_env",
   "language": "python",
   "name": "ml_env"
  },
  "language_info": {
   "codemirror_mode": {
    "name": "ipython",
    "version": 3
   },
   "file_extension": ".py",
   "mimetype": "text/x-python",
   "name": "python",
   "nbconvert_exporter": "python",
   "pygments_lexer": "ipython3",
   "version": "3.8.8"
  }
 },
 "nbformat": 4,
 "nbformat_minor": 5
}

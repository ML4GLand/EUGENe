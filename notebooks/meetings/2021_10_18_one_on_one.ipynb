{
 "cells": [
  {
   "cell_type": "markdown",
   "id": "c8fab0a8-93f8-49b4-a95f-3b4e0efeced1",
   "metadata": {},
   "source": [
    "# Score comparison analysis for meta-predictor"
   ]
  },
  {
   "cell_type": "markdown",
   "id": "6d28976a-d80e-483f-b193-b27600ce13bf",
   "metadata": {
    "execution": {
     "iopub.execute_input": "2021-09-28T20:36:31.301402Z",
     "iopub.status.busy": "2021-09-28T20:36:31.301151Z",
     "iopub.status.idle": "2021-09-28T20:36:31.321538Z",
     "shell.execute_reply": "2021-09-28T20:36:31.320382Z",
     "shell.execute_reply.started": "2021-09-28T20:36:31.301373Z"
    }
   },
   "source": [
    "**Authorship:**\n",
    "Adam Klie, *10/18/2021*\n",
    "***\n",
    "**Description:**\n",
    "Notebook for ...\n",
    "***\n",
    "**TODOs:**\n",
    " - <font color='green'> Done TODO </font>\n",
    " - <font color='orange'> WIP TODO </font>\n",
    " - <font color='red'> Queued TODO </font>\n",
    "***"
   ]
  },
  {
   "cell_type": "code",
   "execution_count": 1,
   "id": "150f32b8-50b6-40ad-bf7f-13d191df89f7",
   "metadata": {
    "execution": {
     "iopub.execute_input": "2021-10-18T05:01:09.613357Z",
     "iopub.status.busy": "2021-10-18T05:01:09.612361Z",
     "iopub.status.idle": "2021-10-18T05:01:14.472121Z",
     "shell.execute_reply": "2021-10-18T05:01:14.471560Z",
     "shell.execute_reply.started": "2021-10-18T05:01:09.613334Z"
    },
    "tags": []
   },
   "outputs": [],
   "source": [
    "# Classics\n",
    "import matplotlib.pyplot as plt\n",
    "import numpy as np\n",
    "import pandas as pd\n",
    "import seaborn as sns\n",
    "\n",
    "# Loading webpages\n",
    "from scipy import stats\n",
    "from IPython.display import IFrame\n",
    "from sklearn.preprocessing import OneHotEncoder\n",
    "from sklearn.model_selection import train_test_split\n",
    "from sklearn.linear_model import LogisticRegression\n",
    "import pickle\n",
    "\n",
    "# Autoreload extension\n",
    "if 'autoreload' not in get_ipython().extension_manager.loaded:\n",
    "    %load_ext autoreload\n",
    "    \n",
    "%autoreload 2"
   ]
  },
  {
   "cell_type": "code",
   "execution_count": 2,
   "id": "3d20bc99-4f08-445a-8d61-71269630f061",
   "metadata": {
    "execution": {
     "iopub.execute_input": "2021-10-18T05:01:14.475463Z",
     "iopub.status.busy": "2021-10-18T05:01:14.474434Z",
     "iopub.status.idle": "2021-10-18T05:01:18.578311Z",
     "shell.execute_reply": "2021-10-18T05:01:18.577622Z",
     "shell.execute_reply.started": "2021-10-18T05:01:14.475440Z"
    },
    "tags": []
   },
   "outputs": [],
   "source": [
    "import sys\n",
    "sys.path.append('/cellar/users/aklie/projects/EUGENE/bin/')\n",
    "import project_utils"
   ]
  },
  {
   "cell_type": "markdown",
   "id": "45fb4a4b-a210-4501-8802-cf2a1c8e0c8c",
   "metadata": {
    "tags": []
   },
   "source": [
    "# GBM"
   ]
  },
  {
   "cell_type": "code",
   "execution_count": 3,
   "id": "46310b6e-dac1-4bed-8e77-f65dd17e1d46",
   "metadata": {
    "execution": {
     "iopub.execute_input": "2021-10-18T05:01:18.581512Z",
     "iopub.status.busy": "2021-10-18T05:01:18.580481Z",
     "iopub.status.idle": "2021-10-18T05:01:19.215391Z",
     "shell.execute_reply": "2021-10-18T05:01:19.214998Z",
     "shell.execute_reply.started": "2021-10-18T05:01:18.581490Z"
    },
    "tags": []
   },
   "outputs": [],
   "source": [
    "DATASET = \"2021-OLS-Library\"  # Which dataset to look at\n",
    "FEATURES = \"mixed-2.0\"  # What features to use to train the model\n",
    "PREPROCESS = \"0.18-0.4\"  # Preprocessing steps, separated by \"-\"\n",
    "HYPERPARAM = \"selected\""
   ]
  },
  {
   "cell_type": "markdown",
   "id": "ea25de8b-bf54-4bae-bb32-5a16cd3ca88a",
   "metadata": {
    "tags": []
   },
   "source": [
    "# Load data"
   ]
  },
  {
   "cell_type": "code",
   "execution_count": 4,
   "id": "e07e6e09-3037-495e-b3bb-6e118f8bacc2",
   "metadata": {
    "execution": {
     "iopub.execute_input": "2021-10-18T05:01:19.216497Z",
     "iopub.status.busy": "2021-10-18T05:01:19.216205Z",
     "iopub.status.idle": "2021-10-18T05:01:23.953330Z",
     "shell.execute_reply": "2021-10-18T05:01:23.952312Z",
     "shell.execute_reply.started": "2021-10-18T05:01:19.216478Z"
    },
    "tags": []
   },
   "outputs": [],
   "source": [
    "X = np.loadtxt('../data/{0}/{1}/X_{2}_{3}.txt'.format(DATASET.replace(\"-\", \"_\"), FEATURES.replace(\"-\", \"_\"), FEATURES, PREPROCESS), dtype=float)"
   ]
  },
  {
   "cell_type": "code",
   "execution_count": 5,
   "id": "f0415604-21df-4b5f-b78c-73068a6966f5",
   "metadata": {
    "execution": {
     "iopub.execute_input": "2021-10-18T05:01:23.956839Z",
     "iopub.status.busy": "2021-10-18T05:01:23.955792Z",
     "iopub.status.idle": "2021-10-18T05:01:26.821975Z",
     "shell.execute_reply": "2021-10-18T05:01:26.821342Z",
     "shell.execute_reply.started": "2021-10-18T05:01:23.956810Z"
    },
    "tags": []
   },
   "outputs": [
    {
     "data": {
      "text/plain": [
       "('S1-G1R-S2-E1F-S3-E2F-S4-G2R-S5-G3F-S6',\n",
       " array([12. ,  0. ,  0. ,  0.9, -1. ,  2. ,  0.6,  1. ,  0. ,  0. ,  7. ,\n",
       "         0.4,  1. ,  0. ,  0. ,  5. ,  0. ,  0. ,  0.3, -1. ,  0. ,  0. ,\n",
       "         0. ,  0.5,  1. ,  0. ]),\n",
       " 1,\n",
       " (302936,),\n",
       " (302936, 26),\n",
       " (302936,))"
      ]
     },
     "execution_count": 5,
     "metadata": {},
     "output_type": "execute_result"
    }
   ],
   "source": [
    "y = np.loadtxt('../data/{0}/y_binary_{1}.txt'.format(DATASET.replace(\"-\", \"_\"), PREPROCESS), dtype=int)\n",
    "IDs = np.loadtxt('../data/{0}/sequence_id_{1}.txt'.format(DATASET.replace(\"-\", \"_\"), PREPROCESS), dtype=str)\n",
    "dataframe = pd.read_csv(\"../data/{0}/20210728-3.EnhancerTable.ForAdam.FunctionalEnhancers.WT-detected.ABL-notDetected.10R-20U-0.1P.tsv\".format(DATASET.replace(\"-\", \"_\")), sep=\"\\t\", na_values=\"na\")\n",
    "IDs[0], X[0], y[0], IDs.shape, X.shape, y.shape"
   ]
  },
  {
   "cell_type": "code",
   "execution_count": 6,
   "id": "9e415802-49fe-4536-8670-e5af6ce513b7",
   "metadata": {
    "execution": {
     "iopub.execute_input": "2021-10-18T05:01:26.825719Z",
     "iopub.status.busy": "2021-10-18T05:01:26.824733Z",
     "iopub.status.idle": "2021-10-18T05:01:27.470865Z",
     "shell.execute_reply": "2021-10-18T05:01:27.470299Z",
     "shell.execute_reply.started": "2021-10-18T05:01:26.825696Z"
    },
    "tags": []
   },
   "outputs": [
    {
     "data": {
      "text/html": [
       "<div>\n",
       "<style scoped>\n",
       "    .dataframe tbody tr th:only-of-type {\n",
       "        vertical-align: middle;\n",
       "    }\n",
       "\n",
       "    .dataframe tbody tr th {\n",
       "        vertical-align: top;\n",
       "    }\n",
       "\n",
       "    .dataframe thead th {\n",
       "        text-align: right;\n",
       "    }\n",
       "</style>\n",
       "<table border=\"1\" class=\"dataframe\">\n",
       "  <thead>\n",
       "    <tr style=\"text-align: right;\">\n",
       "      <th></th>\n",
       "      <th>SEQUENCE</th>\n",
       "      <th>MPRA_FXN</th>\n",
       "      <th>MICROSCOPE_FXN</th>\n",
       "      <th>ACTIVITY_SUMRNA_NUMDNA</th>\n",
       "    </tr>\n",
       "    <tr>\n",
       "      <th>NAME</th>\n",
       "      <th></th>\n",
       "      <th></th>\n",
       "      <th></th>\n",
       "      <th></th>\n",
       "    </tr>\n",
       "  </thead>\n",
       "  <tbody>\n",
       "    <tr>\n",
       "      <th>S1-G1R-S2-E1F-S3-E2F-S4-G2R-S5-G3F-S6</th>\n",
       "      <td>CATCTGAAGCTCGTTATCTCTAACGGAAGTTTTCGAAAAGGAAATT...</td>\n",
       "      <td>1.0</td>\n",
       "      <td>Neural Enhancer</td>\n",
       "      <td>0.611767</td>\n",
       "    </tr>\n",
       "  </tbody>\n",
       "</table>\n",
       "</div>"
      ],
      "text/plain": [
       "                                                                                SEQUENCE  \\\n",
       "NAME                                                                                       \n",
       "S1-G1R-S2-E1F-S3-E2F-S4-G2R-S5-G3F-S6  CATCTGAAGCTCGTTATCTCTAACGGAAGTTTTCGAAAAGGAAATT...   \n",
       "\n",
       "                                       MPRA_FXN   MICROSCOPE_FXN  \\\n",
       "NAME                                                               \n",
       "S1-G1R-S2-E1F-S3-E2F-S4-G2R-S5-G3F-S6       1.0  Neural Enhancer   \n",
       "\n",
       "                                       ACTIVITY_SUMRNA_NUMDNA  \n",
       "NAME                                                           \n",
       "S1-G1R-S2-E1F-S3-E2F-S4-G2R-S5-G3F-S6                0.611767  "
      ]
     },
     "execution_count": 6,
     "metadata": {},
     "output_type": "execute_result"
    }
   ],
   "source": [
    "dataframe = dataframe[~dataframe[\"MPRA_FXN\"].isna()].set_index(\"NAME\")\n",
    "dataframe.head(1)"
   ]
  },
  {
   "cell_type": "markdown",
   "id": "4bd333c7-0742-473e-8e63-a19f34526722",
   "metadata": {},
   "source": [
    "# Get the test set"
   ]
  },
  {
   "cell_type": "markdown",
   "id": "00204d30-331c-49e6-a028-46c5e6dbc91e",
   "metadata": {
    "tags": []
   },
   "source": [
    "## **Train/test split**"
   ]
  },
  {
   "cell_type": "code",
   "execution_count": 7,
   "id": "26e4a4b8-a7ec-4230-9890-12bf4cdc6b77",
   "metadata": {
    "execution": {
     "iopub.execute_input": "2021-10-18T05:01:27.474047Z",
     "iopub.status.busy": "2021-10-18T05:01:27.473072Z",
     "iopub.status.idle": "2021-10-18T05:01:28.031375Z",
     "shell.execute_reply": "2021-10-18T05:01:28.031005Z",
     "shell.execute_reply.started": "2021-10-18T05:01:27.474025Z"
    },
    "tags": []
   },
   "outputs": [
    {
     "data": {
      "text/plain": [
       "((272642, 26), (30294, 26), (272642,), (30294,), (272642,), (30294,))"
      ]
     },
     "execution_count": 7,
     "metadata": {},
     "output_type": "execute_result"
    }
   ],
   "source": [
    "X_train, X_test, y_train, y_test, IDs_train, IDs_test = train_test_split(X, y, IDs, train_size=0.9, random_state=13)\n",
    "X_train.shape, X_test.shape, y_train.shape, y_test.shape, IDs_train.shape, IDs_test.shape"
   ]
  },
  {
   "cell_type": "code",
   "execution_count": 8,
   "id": "bfe5a0f9-1783-40af-ae7c-34e2f64b9096",
   "metadata": {
    "execution": {
     "iopub.execute_input": "2021-10-18T05:01:28.034341Z",
     "iopub.status.busy": "2021-10-18T05:01:28.033335Z",
     "iopub.status.idle": "2021-10-18T05:01:28.650074Z",
     "shell.execute_reply": "2021-10-18T05:01:28.649723Z",
     "shell.execute_reply.started": "2021-10-18T05:01:28.034319Z"
    },
    "tags": []
   },
   "outputs": [
    {
     "data": {
      "text/plain": [
       "(array([0.68878236, 0.31121764]), array([0.69115997, 0.30884003]))"
      ]
     },
     "execution_count": 8,
     "metadata": {},
     "output_type": "execute_result"
    }
   ],
   "source": [
    "np.unique(y_train, return_counts=True)[1]/len(y_train), np.unique(y_test, return_counts=True)[1]/len(y_test)"
   ]
  },
  {
   "cell_type": "code",
   "execution_count": 9,
   "id": "9889b1e7-6eaf-4dda-89d8-4a2cf3bacbeb",
   "metadata": {
    "execution": {
     "iopub.execute_input": "2021-10-18T05:01:28.653237Z",
     "iopub.status.busy": "2021-10-18T05:01:28.652126Z",
     "iopub.status.idle": "2021-10-18T05:01:29.165149Z",
     "shell.execute_reply": "2021-10-18T05:01:29.164802Z",
     "shell.execute_reply.started": "2021-10-18T05:01:28.653216Z"
    },
    "tags": []
   },
   "outputs": [],
   "source": [
    "file = \"../data/{0}/{1}/{2}_header.txt\".format(DATASET.replace(\"-\", \"_\"), FEATURES.replace(\"-\", \"_\"), FEATURES)\n",
    "with open(file, \"r\") as f:\n",
    "    features = [line.rstrip() for line in f.readlines()]"
   ]
  },
  {
   "cell_type": "code",
   "execution_count": 10,
   "id": "5799f714-ffb0-4f13-bf66-3f292f179ff1",
   "metadata": {
    "execution": {
     "iopub.execute_input": "2021-10-18T05:01:29.166015Z",
     "iopub.status.busy": "2021-10-18T05:01:29.165731Z",
     "iopub.status.idle": "2021-10-18T05:01:30.465004Z",
     "shell.execute_reply": "2021-10-18T05:01:30.464278Z",
     "shell.execute_reply.started": "2021-10-18T05:01:29.165962Z"
    },
    "tags": []
   },
   "outputs": [],
   "source": [
    "train_df = pd.DataFrame(X_train, columns=features, index=IDs_train)\n",
    "train_df = pd.merge(dataframe, train_df, left_index=True, right_index=True)"
   ]
  },
  {
   "cell_type": "code",
   "execution_count": 11,
   "id": "4fd442a7-ff22-440e-8603-077842596f02",
   "metadata": {
    "execution": {
     "iopub.execute_input": "2021-10-18T05:01:30.468539Z",
     "iopub.status.busy": "2021-10-18T05:01:30.467499Z",
     "iopub.status.idle": "2021-10-18T05:01:31.164274Z",
     "shell.execute_reply": "2021-10-18T05:01:31.163662Z",
     "shell.execute_reply.started": "2021-10-18T05:01:30.468516Z"
    },
    "tags": []
   },
   "outputs": [],
   "source": [
    "test_df = pd.DataFrame(X_test, columns=features, index=IDs_test)\n",
    "test_df = pd.merge(dataframe, test_df, left_index=True, right_index=True)"
   ]
  },
  {
   "cell_type": "markdown",
   "id": "ab2e80d3-ec17-4fa2-8d41-b8bf31217fd3",
   "metadata": {
    "tags": []
   },
   "source": [
    "## **Standardize features**: *For mixed encoding only*"
   ]
  },
  {
   "cell_type": "code",
   "execution_count": 12,
   "id": "b052c1de-664a-42b4-badd-25b554d8c53e",
   "metadata": {
    "execution": {
     "iopub.execute_input": "2021-10-18T05:01:31.165235Z",
     "iopub.status.busy": "2021-10-18T05:01:31.164976Z",
     "iopub.status.idle": "2021-10-18T05:01:31.724537Z",
     "shell.execute_reply": "2021-10-18T05:01:31.724132Z",
     "shell.execute_reply.started": "2021-10-18T05:01:31.165217Z"
    },
    "tags": []
   },
   "outputs": [],
   "source": [
    "if FEATURES in [\"block\", \"ohe-seq\"]:\n",
    "    scale_indeces = []  # Block and one-hot\n",
    "elif FEATURES in [\"mixed-1.0\"]:\n",
    "    scale_indeces = np.array([0, 3, 4, 7, 8, 11, 12, 15, 16, 19, 20])  # Mixed 1.0\n",
    "elif FEATURES in [\"mixed-2.0\"]:   \n",
    "    scale_indeces = np.array([0, 5, 10, 15, 20, 25])  # Mixed 2.0"
   ]
  },
  {
   "cell_type": "code",
   "execution_count": 13,
   "id": "5f957d79-bb20-438f-a866-7ae2ffc32085",
   "metadata": {
    "execution": {
     "iopub.execute_input": "2021-10-18T05:01:31.727781Z",
     "iopub.status.busy": "2021-10-18T05:01:31.726691Z",
     "iopub.status.idle": "2021-10-18T05:01:32.425310Z",
     "shell.execute_reply": "2021-10-18T05:01:32.424260Z",
     "shell.execute_reply.started": "2021-10-18T05:01:31.727761Z"
    },
    "tags": []
   },
   "outputs": [
    {
     "data": {
      "text/plain": [
       "(array([-3.72156537e-17, -8.61328681e-17,  6.50101178e-17,  5.79083912e-17,\n",
       "         3.13779041e-17,  1.27648650e-16]),\n",
       " array([1., 1., 1., 1., 1., 1.]))"
      ]
     },
     "execution_count": 13,
     "metadata": {},
     "output_type": "execute_result"
    }
   ],
   "source": [
    "X_scaled_train, X_scaled_test = project_utils.standardize_features(train_X=X_train, test_X=X_test, indeces=scale_indeces)\n",
    "X_train[:, scale_indeces].mean(axis=0), X_train[:, scale_indeces].std(axis=0)"
   ]
  },
  {
   "cell_type": "markdown",
   "id": "dcef867d-f75e-4615-8062-05c803c97051",
   "metadata": {},
   "source": [
    "# Load previously trained model"
   ]
  },
  {
   "cell_type": "code",
   "execution_count": 14,
   "id": "5fca9578-f451-4ee7-b047-974d5cd26935",
   "metadata": {
    "execution": {
     "iopub.execute_input": "2021-10-18T05:01:32.428217Z",
     "iopub.status.busy": "2021-10-18T05:01:32.427230Z",
     "iopub.status.idle": "2021-10-18T05:01:33.108209Z",
     "shell.execute_reply": "2021-10-18T05:01:33.107430Z",
     "shell.execute_reply.started": "2021-10-18T05:01:32.428195Z"
    },
    "tags": []
   },
   "outputs": [],
   "source": [
    "file = '../GBM/{}_{}_GBM-clf_{}.pickle'.format(PREPROCESS, FEATURES, HYPERPARAM)\n",
    "clf = pickle.load(open(file, 'rb'))"
   ]
  },
  {
   "cell_type": "code",
   "execution_count": 15,
   "id": "2203b657-121c-473c-ad48-a589ea3c7f49",
   "metadata": {
    "execution": {
     "iopub.execute_input": "2021-10-18T05:01:33.109076Z",
     "iopub.status.busy": "2021-10-18T05:01:33.108826Z",
     "iopub.status.idle": "2021-10-18T05:01:38.699988Z",
     "shell.execute_reply": "2021-10-18T05:01:38.699277Z",
     "shell.execute_reply.started": "2021-10-18T05:01:33.109057Z"
    },
    "tags": []
   },
   "outputs": [],
   "source": [
    "y_tr_preds = clf.predict(X_train)\n",
    "y_preds = clf.predict(X_test)"
   ]
  },
  {
   "cell_type": "code",
   "execution_count": 16,
   "id": "8ef4cc60-4895-4dee-a72e-359ca02dd0d9",
   "metadata": {
    "execution": {
     "iopub.execute_input": "2021-10-18T05:01:38.703471Z",
     "iopub.status.busy": "2021-10-18T05:01:38.702447Z",
     "iopub.status.idle": "2021-10-18T05:01:44.475971Z",
     "shell.execute_reply": "2021-10-18T05:01:44.475331Z",
     "shell.execute_reply.started": "2021-10-18T05:01:38.703445Z"
    },
    "tags": []
   },
   "outputs": [],
   "source": [
    "y_tr_probs = clf.predict_proba(X_train)[:, 1]\n",
    "y_probs = clf.predict_proba(X_test)[:, 1]"
   ]
  },
  {
   "cell_type": "markdown",
   "id": "6a58bbdd-ca6f-46dc-8920-ba14f82ed574",
   "metadata": {},
   "source": [
    "# Analysis of missed predictions"
   ]
  },
  {
   "cell_type": "markdown",
   "id": "8e35d008-724a-4a89-9716-2b3560c7218e",
   "metadata": {},
   "source": [
    "#### Train"
   ]
  },
  {
   "cell_type": "code",
   "execution_count": 17,
   "id": "f408952e-fa7d-49b9-a231-fcec40591cfc",
   "metadata": {
    "execution": {
     "iopub.execute_input": "2021-10-18T05:01:44.479161Z",
     "iopub.status.busy": "2021-10-18T05:01:44.478135Z",
     "iopub.status.idle": "2021-10-18T05:01:46.415249Z",
     "shell.execute_reply": "2021-10-18T05:01:46.414457Z",
     "shell.execute_reply.started": "2021-10-18T05:01:44.479137Z"
    },
    "tags": []
   },
   "outputs": [],
   "source": [
    "clf_train_df = pd.DataFrame(index=IDs_train, data={\"labels\": y_train, \"GBM_preds\":y_tr_preds, \"GBM_probability\":y_tr_probs})\n",
    "clf_train_df.index.name = \"NAME\"\n",
    "train_df = pd.merge(train_df, clf_train_df, left_index=True, right_index=True)\n",
    "train_df[\"GBM_classification\"] = [\"-\".join(list(value)) for value in train_df[[\"labels\", \"GBM_preds\"]].values.astype(str)]\n",
    "train_df[\"GBM_classification\"] = train_df[\"GBM_classification\"].replace({\"0-0\": \"TN\", \"1-0\": \"FN\", \"0-1\": \"FP\", \"1-1\": \"TP\"})\n",
    "train_df[\"GBM_classification\"].value_counts()\n",
    "train_df[\"ACTIVITY_SUMRNA_NUMDNA\"].replace(np.inf, np.nan, inplace=True)\n",
    "train_df = train_df[np.abs(stats.zscore(train_df[\"ACTIVITY_SUMRNA_NUMDNA\"], nan_policy=\"omit\")) < 3]"
   ]
  },
  {
   "cell_type": "markdown",
   "id": "b6542620-2bee-4824-82de-662dd7c26864",
   "metadata": {
    "tags": []
   },
   "source": [
    "#### Test"
   ]
  },
  {
   "cell_type": "code",
   "execution_count": 18,
   "id": "534d1373-692d-4f38-9af2-07621d97e580",
   "metadata": {
    "execution": {
     "iopub.execute_input": "2021-10-18T05:01:46.418902Z",
     "iopub.status.busy": "2021-10-18T05:01:46.417848Z",
     "iopub.status.idle": "2021-10-18T05:01:47.110704Z",
     "shell.execute_reply": "2021-10-18T05:01:47.110325Z",
     "shell.execute_reply.started": "2021-10-18T05:01:46.418877Z"
    },
    "tags": []
   },
   "outputs": [],
   "source": [
    "clf_test_df = pd.DataFrame(index=IDs_test, data={\"labels\": y_test, \"GBM_preds\":y_preds, \"GBM_probability\":y_probs})\n",
    "clf_test_df.index.name = \"NAME\"\n",
    "test_df = pd.merge(test_df, clf_test_df, left_index=True, right_index=True)\n",
    "test_df[\"GBM_classification\"] = [\"-\".join(list(value)) for value in test_df[[\"labels\", \"GBM_preds\"]].values.astype(str)]\n",
    "test_df[\"GBM_classification\"] = test_df[\"GBM_classification\"].replace({\"0-0\": \"TN\", \"1-0\": \"FN\", \"0-1\": \"FP\", \"1-1\": \"TP\"})\n",
    "test_df[\"GBM_classification\"].value_counts()\n",
    "test_df[\"ACTIVITY_SUMRNA_NUMDNA\"].replace(np.inf, np.nan, inplace=True)\n",
    "test_df = test_df[np.abs(stats.zscore(test_df[\"ACTIVITY_SUMRNA_NUMDNA\"], nan_policy=\"omit\")) < 3]"
   ]
  },
  {
   "cell_type": "markdown",
   "id": "bad532e2-98d8-4a4f-bbe2-4225045b1da3",
   "metadata": {},
   "source": [
    "# gkSVM"
   ]
  },
  {
   "cell_type": "code",
   "execution_count": 19,
   "id": "89543ad6-bd2b-4794-bd69-bd9e52e8c8c1",
   "metadata": {
    "execution": {
     "iopub.execute_input": "2021-10-18T05:01:47.111686Z",
     "iopub.status.busy": "2021-10-18T05:01:47.111417Z",
     "iopub.status.idle": "2021-10-18T05:01:47.611445Z",
     "shell.execute_reply": "2021-10-18T05:01:47.611025Z",
     "shell.execute_reply.started": "2021-10-18T05:01:47.111667Z"
    },
    "tags": []
   },
   "outputs": [],
   "source": [
    "DATASET = \"2021-OLS\"  # Which dataset to look at\n",
    "PREPROCESS = \"0.18-0.4\"  # Preprocessing steps, separated by \"-\"\n",
    "HYPERPARAM = \"baseline-positive-weighted\""
   ]
  },
  {
   "cell_type": "markdown",
   "id": "bef09482-447c-4d8a-b7f3-d9ec78a2d946",
   "metadata": {},
   "source": [
    "# Load data"
   ]
  },
  {
   "cell_type": "code",
   "execution_count": 20,
   "id": "51973ecc-0bcb-4b3d-8ad5-77c9440e89e5",
   "metadata": {
    "execution": {
     "iopub.execute_input": "2021-10-18T05:01:47.614763Z",
     "iopub.status.busy": "2021-10-18T05:01:47.613623Z",
     "iopub.status.idle": "2021-10-18T05:01:50.074294Z",
     "shell.execute_reply": "2021-10-18T05:01:50.073247Z",
     "shell.execute_reply.started": "2021-10-18T05:01:47.614741Z"
    },
    "tags": []
   },
   "outputs": [
    {
     "data": {
      "text/plain": [
       "('S1-G1R-S2-E1F-S3-E2F-S4-G2R-S5-G3F-S6', 1, (302936,), (302936,))"
      ]
     },
     "execution_count": 20,
     "metadata": {},
     "output_type": "execute_result"
    }
   ],
   "source": [
    "y = np.loadtxt('../data/{0}_Library/y_binary_{1}.txt'.format(DATASET.replace(\"-\", \"_\"), PREPROCESS), dtype=int)\n",
    "IDs = np.loadtxt('../data/{0}_Library/sequence_id_{1}.txt'.format(DATASET.replace(\"-\", \"_\"), PREPROCESS), dtype=str)\n",
    "dataframe = pd.read_csv(\"../data/{0}_Library/20210728-3.EnhancerTable.ForAdam.FunctionalEnhancers.WT-detected.ABL-notDetected.10R-20U-0.1P.tsv\".format(DATASET.replace(\"-\", \"_\")), sep=\"\\t\", na_values=\"na\")\n",
    "IDs[0], y[0], IDs.shape, y.shape"
   ]
  },
  {
   "cell_type": "code",
   "execution_count": 21,
   "id": "f93270a1-5f56-48ef-818e-adc71ca30175",
   "metadata": {
    "execution": {
     "iopub.execute_input": "2021-10-18T05:01:50.088935Z",
     "iopub.status.busy": "2021-10-18T05:01:50.076284Z",
     "iopub.status.idle": "2021-10-18T05:01:50.699747Z",
     "shell.execute_reply": "2021-10-18T05:01:50.699398Z",
     "shell.execute_reply.started": "2021-10-18T05:01:50.088911Z"
    },
    "tags": []
   },
   "outputs": [
    {
     "data": {
      "text/html": [
       "<div>\n",
       "<style scoped>\n",
       "    .dataframe tbody tr th:only-of-type {\n",
       "        vertical-align: middle;\n",
       "    }\n",
       "\n",
       "    .dataframe tbody tr th {\n",
       "        vertical-align: top;\n",
       "    }\n",
       "\n",
       "    .dataframe thead th {\n",
       "        text-align: right;\n",
       "    }\n",
       "</style>\n",
       "<table border=\"1\" class=\"dataframe\">\n",
       "  <thead>\n",
       "    <tr style=\"text-align: right;\">\n",
       "      <th></th>\n",
       "      <th>SEQUENCE</th>\n",
       "      <th>MPRA_FXN</th>\n",
       "      <th>MICROSCOPE_FXN</th>\n",
       "      <th>ACTIVITY_SUMRNA_NUMDNA</th>\n",
       "    </tr>\n",
       "    <tr>\n",
       "      <th>NAME</th>\n",
       "      <th></th>\n",
       "      <th></th>\n",
       "      <th></th>\n",
       "      <th></th>\n",
       "    </tr>\n",
       "  </thead>\n",
       "  <tbody>\n",
       "    <tr>\n",
       "      <th>S1-G1R-S2-E1F-S3-E2F-S4-G2R-S5-G3F-S6</th>\n",
       "      <td>CATCTGAAGCTCGTTATCTCTAACGGAAGTTTTCGAAAAGGAAATT...</td>\n",
       "      <td>1.0</td>\n",
       "      <td>Neural Enhancer</td>\n",
       "      <td>0.611767</td>\n",
       "    </tr>\n",
       "  </tbody>\n",
       "</table>\n",
       "</div>"
      ],
      "text/plain": [
       "                                                                                SEQUENCE  \\\n",
       "NAME                                                                                       \n",
       "S1-G1R-S2-E1F-S3-E2F-S4-G2R-S5-G3F-S6  CATCTGAAGCTCGTTATCTCTAACGGAAGTTTTCGAAAAGGAAATT...   \n",
       "\n",
       "                                       MPRA_FXN   MICROSCOPE_FXN  \\\n",
       "NAME                                                               \n",
       "S1-G1R-S2-E1F-S3-E2F-S4-G2R-S5-G3F-S6       1.0  Neural Enhancer   \n",
       "\n",
       "                                       ACTIVITY_SUMRNA_NUMDNA  \n",
       "NAME                                                           \n",
       "S1-G1R-S2-E1F-S3-E2F-S4-G2R-S5-G3F-S6                0.611767  "
      ]
     },
     "execution_count": 21,
     "metadata": {},
     "output_type": "execute_result"
    }
   ],
   "source": [
    "dataframe = dataframe[~dataframe[\"MPRA_FXN\"].isna()].set_index(\"NAME\")\n",
    "dataframe.head(1)"
   ]
  },
  {
   "cell_type": "code",
   "execution_count": 22,
   "id": "abffce32-c044-4a5c-8e66-9a618209ead5",
   "metadata": {
    "execution": {
     "iopub.execute_input": "2021-10-18T05:01:50.702666Z",
     "iopub.status.busy": "2021-10-18T05:01:50.701693Z",
     "iopub.status.idle": "2021-10-18T05:01:51.416410Z",
     "shell.execute_reply": "2021-10-18T05:01:51.416032Z",
     "shell.execute_reply.started": "2021-10-18T05:01:50.702644Z"
    },
    "tags": []
   },
   "outputs": [],
   "source": [
    "# Make sure ordering is correct\n",
    "pos_tr_scores = pd.read_csv('../gkSVM/Result_{0}-X-fasta_{1}_{2}/{0}-X-fasta_{1}_{2}.tr.predict.txt'.format(DATASET, PREPROCESS, HYPERPARAM), delim_whitespace=True, header=None, names=[\"NAME\", \"gkSVM_probability\"])\n",
    "neg_tr_scores = pd.read_csv('../gkSVM/Result_{0}-X-fasta_{1}_{2}/{0}-X-fasta_{1}_{2}.neg.tr.predict.txt'.format(DATASET, PREPROCESS, HYPERPARAM), delim_whitespace=True, header=None, names=[\"NAME\", \"gkSVM_probability\"])\n",
    "pos_scores = pd.read_csv('../gkSVM/Result_{0}-X-fasta_{1}_{2}/{0}-X-fasta_{1}_{2}.predict.txt'.format(DATASET, PREPROCESS, HYPERPARAM), delim_whitespace=True, header=None, names=[\"NAME\", \"gkSVM_probability\"])\n",
    "neg_scores = pd.read_csv('../gkSVM/Result_{0}-X-fasta_{1}_{2}/{0}-X-fasta_{1}_{2}.neg.predict.txt'.format(DATASET, PREPROCESS, HYPERPARAM), delim_whitespace=True, header=None, names=[\"NAME\", \"gkSVM_probability\"])"
   ]
  },
  {
   "cell_type": "code",
   "execution_count": 23,
   "id": "cf08518b-df5b-473f-88bd-55d126df3884",
   "metadata": {
    "execution": {
     "iopub.execute_input": "2021-10-18T05:01:51.419794Z",
     "iopub.status.busy": "2021-10-18T05:01:51.418706Z",
     "iopub.status.idle": "2021-10-18T05:01:51.947378Z",
     "shell.execute_reply": "2021-10-18T05:01:51.946998Z",
     "shell.execute_reply.started": "2021-10-18T05:01:51.419770Z"
    },
    "tags": []
   },
   "outputs": [
    {
     "data": {
      "text/plain": [
       "(84851, 187791, 9356, 20938)"
      ]
     },
     "execution_count": 23,
     "metadata": {},
     "output_type": "execute_result"
    }
   ],
   "source": [
    "len(pos_tr_scores), len(neg_tr_scores), len(pos_scores), len(neg_scores)"
   ]
  },
  {
   "cell_type": "code",
   "execution_count": 24,
   "id": "0a27008d-62ba-4927-9174-9c27cf028d1f",
   "metadata": {
    "execution": {
     "iopub.execute_input": "2021-10-18T05:01:51.952132Z",
     "iopub.status.busy": "2021-10-18T05:01:51.951058Z",
     "iopub.status.idle": "2021-10-18T05:01:52.512512Z",
     "shell.execute_reply": "2021-10-18T05:01:52.512161Z",
     "shell.execute_reply.started": "2021-10-18T05:01:51.952111Z"
    },
    "tags": []
   },
   "outputs": [],
   "source": [
    "pos_scores[\"gkSVM_labels\"] = 1\n",
    "pos_tr_scores[\"gkSVM_labels\"] = 1\n",
    "neg_scores[\"gkSVM_labels\"] = 0\n",
    "neg_tr_scores[\"gkSVM_labels\"] = 0"
   ]
  },
  {
   "cell_type": "code",
   "execution_count": 25,
   "id": "18f6082b-befa-4d42-98b6-05d7b67a9ca9",
   "metadata": {
    "execution": {
     "iopub.execute_input": "2021-10-18T05:01:52.516204Z",
     "iopub.status.busy": "2021-10-18T05:01:52.515031Z",
     "iopub.status.idle": "2021-10-18T05:01:53.062658Z",
     "shell.execute_reply": "2021-10-18T05:01:53.062341Z",
     "shell.execute_reply.started": "2021-10-18T05:01:52.516155Z"
    },
    "tags": []
   },
   "outputs": [],
   "source": [
    "pos_scores[\"gkSVM_preds\"] = (pos_scores[\"gkSVM_probability\"] >= 0).astype(int)\n",
    "pos_tr_scores[\"gkSVM_preds\"] = (pos_tr_scores[\"gkSVM_probability\"] >= 0).astype(int)\n",
    "neg_scores[\"gkSVM_preds\"] = (neg_scores[\"gkSVM_probability\"] >= 0).astype(int)\n",
    "neg_tr_scores[\"gkSVM_preds\"] = (neg_tr_scores[\"gkSVM_probability\"] >= 0).astype(int)"
   ]
  },
  {
   "cell_type": "code",
   "execution_count": 26,
   "id": "4ca5f9f1-32c7-4e6b-9c36-d3091ecd6ca3",
   "metadata": {
    "execution": {
     "iopub.execute_input": "2021-10-18T05:01:53.065527Z",
     "iopub.status.busy": "2021-10-18T05:01:53.064549Z",
     "iopub.status.idle": "2021-10-18T05:01:55.017240Z",
     "shell.execute_reply": "2021-10-18T05:01:55.016299Z",
     "shell.execute_reply.started": "2021-10-18T05:01:53.065506Z"
    },
    "tags": []
   },
   "outputs": [],
   "source": [
    "clf_train_df = pd.concat([pos_tr_scores, neg_tr_scores]).set_index(\"NAME\")\n",
    "train_df = pd.merge(train_df, clf_train_df, left_index=True, right_index=True)\n",
    "(train_df[\"labels\"] == train_df[\"MPRA_FXN\"]).all()\n",
    "train_df[\"gkSVM_classification\"] = [\"-\".join(list(value)) for value in train_df[[\"labels\", \"gkSVM_preds\"]].values.astype(str)]\n",
    "train_df[\"gkSVM_classification\"] = train_df[\"gkSVM_classification\"].replace({\"0-0\": \"TN\", \"1-0\": \"FN\", \"0-1\": \"FP\", \"1-1\": \"TP\"})\n",
    "train_df[\"gkSVM_classification\"].value_counts()\n",
    "train_df[\"ACTIVITY_SUMRNA_NUMDNA\"].replace(np.inf, np.nan, inplace=True)\n",
    "train_df = train_df[np.abs(stats.zscore(train_df[\"ACTIVITY_SUMRNA_NUMDNA\"], nan_policy=\"omit\")) < 3]"
   ]
  },
  {
   "cell_type": "code",
   "execution_count": 27,
   "id": "e5c299b8-9440-419a-bf12-0b53a6b2157b",
   "metadata": {
    "execution": {
     "iopub.execute_input": "2021-10-18T05:01:55.020698Z",
     "iopub.status.busy": "2021-10-18T05:01:55.019652Z",
     "iopub.status.idle": "2021-10-18T05:01:55.817255Z",
     "shell.execute_reply": "2021-10-18T05:01:55.816366Z",
     "shell.execute_reply.started": "2021-10-18T05:01:55.020674Z"
    },
    "tags": []
   },
   "outputs": [],
   "source": [
    "clf_test_df = pd.concat([pos_scores, neg_scores]).set_index(\"NAME\")\n",
    "test_df = pd.merge(test_df, clf_test_df, left_index=True, right_index=True)\n",
    "test_df[\"gkSVM_classification\"] = [\"-\".join(list(value)) for value in test_df[[\"labels\", \"gkSVM_preds\"]].values.astype(str)]\n",
    "test_df[\"gkSVM_classification\"] = test_df[\"gkSVM_classification\"].replace({\"0-0\": \"TN\", \"1-0\": \"FN\", \"0-1\": \"FP\", \"1-1\": \"TP\"})\n",
    "test_df[\"gkSVM_classification\"].value_counts()\n",
    "test_df[\"ACTIVITY_SUMRNA_NUMDNA\"].replace(np.inf, np.nan, inplace=True)\n",
    "test_df = test_df[np.abs(stats.zscore(test_df[\"ACTIVITY_SUMRNA_NUMDNA\"], nan_policy=\"omit\")) < 3]"
   ]
  },
  {
   "cell_type": "code",
   "execution_count": 34,
   "id": "2ee7d6cd-5116-4f83-8e68-31a20af685b6",
   "metadata": {
    "execution": {
     "iopub.execute_input": "2021-10-18T05:03:55.273480Z",
     "iopub.status.busy": "2021-10-18T05:03:55.273262Z",
     "iopub.status.idle": "2021-10-18T05:03:55.848006Z",
     "shell.execute_reply": "2021-10-18T05:03:55.847537Z",
     "shell.execute_reply.started": "2021-10-18T05:03:55.273461Z"
    },
    "tags": []
   },
   "outputs": [
    {
     "data": {
      "text/plain": [
       "25744"
      ]
     },
     "execution_count": 34,
     "metadata": {},
     "output_type": "execute_result"
    }
   ],
   "source": [
    "(test_df[\"GBM_classification\"] == test_df[\"gkSVM_classification\"]).sum()"
   ]
  },
  {
   "cell_type": "code",
   "execution_count": 39,
   "id": "635fd227-2ce2-476a-8bf1-28d4ba35b55f",
   "metadata": {
    "execution": {
     "iopub.execute_input": "2021-10-18T05:07:04.537461Z",
     "iopub.status.busy": "2021-10-18T05:07:04.537225Z",
     "iopub.status.idle": "2021-10-18T05:07:12.147985Z",
     "shell.execute_reply": "2021-10-18T05:07:12.147275Z",
     "shell.execute_reply.started": "2021-10-18T05:07:04.537440Z"
    }
   },
   "outputs": [
    {
     "ename": "TypeError",
     "evalue": "regplot() got an unexpected keyword argument 'stat_func'",
     "output_type": "error",
     "traceback": [
      "\u001b[0;31m---------------------------------------------------------------------------\u001b[0m",
      "\u001b[0;31mTypeError\u001b[0m                                 Traceback (most recent call last)",
      "\u001b[0;32m<ipython-input-39-af85b6db2d23>\u001b[0m in \u001b[0;36m<module>\u001b[0;34m\u001b[0m\n\u001b[1;32m      2\u001b[0m \u001b[0;32mdef\u001b[0m \u001b[0mr2\u001b[0m\u001b[0;34m(\u001b[0m\u001b[0mx\u001b[0m\u001b[0;34m,\u001b[0m \u001b[0my\u001b[0m\u001b[0;34m)\u001b[0m\u001b[0;34m:\u001b[0m\u001b[0;34m\u001b[0m\u001b[0;34m\u001b[0m\u001b[0m\n\u001b[1;32m      3\u001b[0m     \u001b[0;32mreturn\u001b[0m \u001b[0mstats\u001b[0m\u001b[0;34m.\u001b[0m\u001b[0mpearsonr\u001b[0m\u001b[0;34m(\u001b[0m\u001b[0mx\u001b[0m\u001b[0;34m,\u001b[0m \u001b[0my\u001b[0m\u001b[0;34m)\u001b[0m\u001b[0;34m[\u001b[0m\u001b[0;36m0\u001b[0m\u001b[0;34m]\u001b[0m \u001b[0;34m**\u001b[0m \u001b[0;36m2\u001b[0m\u001b[0;34m\u001b[0m\u001b[0;34m\u001b[0m\u001b[0m\n\u001b[0;32m----> 4\u001b[0;31m \u001b[0msns\u001b[0m\u001b[0;34m.\u001b[0m\u001b[0mjointplot\u001b[0m\u001b[0;34m(\u001b[0m\u001b[0mdata\u001b[0m\u001b[0;34m=\u001b[0m\u001b[0mtest_df\u001b[0m\u001b[0;34m,\u001b[0m \u001b[0mx\u001b[0m\u001b[0;34m=\u001b[0m\u001b[0;34m\"GBM_probability\"\u001b[0m\u001b[0;34m,\u001b[0m \u001b[0my\u001b[0m\u001b[0;34m=\u001b[0m\u001b[0;34m\"gkSVM_probability\"\u001b[0m\u001b[0;34m,\u001b[0m \u001b[0mkind\u001b[0m\u001b[0;34m=\u001b[0m\u001b[0;34m\"reg\"\u001b[0m\u001b[0;34m,\u001b[0m \u001b[0mstat_func\u001b[0m\u001b[0;34m=\u001b[0m\u001b[0mr2\u001b[0m\u001b[0;34m)\u001b[0m\u001b[0;34m\u001b[0m\u001b[0;34m\u001b[0m\u001b[0m\n\u001b[0m",
      "\u001b[0;32m~/opt/miniconda3/envs/ml_env/lib/python3.8/site-packages/seaborn/_decorators.py\u001b[0m in \u001b[0;36minner_f\u001b[0;34m(*args, **kwargs)\u001b[0m\n\u001b[1;32m     44\u001b[0m             )\n\u001b[1;32m     45\u001b[0m         \u001b[0mkwargs\u001b[0m\u001b[0;34m.\u001b[0m\u001b[0mupdate\u001b[0m\u001b[0;34m(\u001b[0m\u001b[0;34m{\u001b[0m\u001b[0mk\u001b[0m\u001b[0;34m:\u001b[0m \u001b[0marg\u001b[0m \u001b[0;32mfor\u001b[0m \u001b[0mk\u001b[0m\u001b[0;34m,\u001b[0m \u001b[0marg\u001b[0m \u001b[0;32min\u001b[0m \u001b[0mzip\u001b[0m\u001b[0;34m(\u001b[0m\u001b[0msig\u001b[0m\u001b[0;34m.\u001b[0m\u001b[0mparameters\u001b[0m\u001b[0;34m,\u001b[0m \u001b[0margs\u001b[0m\u001b[0;34m)\u001b[0m\u001b[0;34m}\u001b[0m\u001b[0;34m)\u001b[0m\u001b[0;34m\u001b[0m\u001b[0;34m\u001b[0m\u001b[0m\n\u001b[0;32m---> 46\u001b[0;31m         \u001b[0;32mreturn\u001b[0m \u001b[0mf\u001b[0m\u001b[0;34m(\u001b[0m\u001b[0;34m**\u001b[0m\u001b[0mkwargs\u001b[0m\u001b[0;34m)\u001b[0m\u001b[0;34m\u001b[0m\u001b[0;34m\u001b[0m\u001b[0m\n\u001b[0m\u001b[1;32m     47\u001b[0m     \u001b[0;32mreturn\u001b[0m \u001b[0minner_f\u001b[0m\u001b[0;34m\u001b[0m\u001b[0;34m\u001b[0m\u001b[0m\n\u001b[1;32m     48\u001b[0m \u001b[0;34m\u001b[0m\u001b[0m\n",
      "\u001b[0;32m~/opt/miniconda3/envs/ml_env/lib/python3.8/site-packages/seaborn/axisgrid.py\u001b[0m in \u001b[0;36mjointplot\u001b[0;34m(x, y, data, kind, color, height, ratio, space, dropna, xlim, ylim, marginal_ticks, joint_kws, marginal_kws, hue, palette, hue_order, hue_norm, **kwargs)\u001b[0m\n\u001b[1;32m   2200\u001b[0m \u001b[0;34m\u001b[0m\u001b[0m\n\u001b[1;32m   2201\u001b[0m         \u001b[0mjoint_kws\u001b[0m\u001b[0;34m.\u001b[0m\u001b[0msetdefault\u001b[0m\u001b[0;34m(\u001b[0m\u001b[0;34m\"color\"\u001b[0m\u001b[0;34m,\u001b[0m \u001b[0mcolor\u001b[0m\u001b[0;34m)\u001b[0m\u001b[0;34m\u001b[0m\u001b[0;34m\u001b[0m\u001b[0m\n\u001b[0;32m-> 2202\u001b[0;31m         \u001b[0mgrid\u001b[0m\u001b[0;34m.\u001b[0m\u001b[0mplot_joint\u001b[0m\u001b[0;34m(\u001b[0m\u001b[0mregplot\u001b[0m\u001b[0;34m,\u001b[0m \u001b[0;34m**\u001b[0m\u001b[0mjoint_kws\u001b[0m\u001b[0;34m)\u001b[0m\u001b[0;34m\u001b[0m\u001b[0;34m\u001b[0m\u001b[0m\n\u001b[0m\u001b[1;32m   2203\u001b[0m \u001b[0;34m\u001b[0m\u001b[0m\n\u001b[1;32m   2204\u001b[0m     \u001b[0;32melif\u001b[0m \u001b[0mkind\u001b[0m\u001b[0;34m.\u001b[0m\u001b[0mstartswith\u001b[0m\u001b[0;34m(\u001b[0m\u001b[0;34m\"resid\"\u001b[0m\u001b[0;34m)\u001b[0m\u001b[0;34m:\u001b[0m\u001b[0;34m\u001b[0m\u001b[0;34m\u001b[0m\u001b[0m\n",
      "\u001b[0;32m~/opt/miniconda3/envs/ml_env/lib/python3.8/site-packages/seaborn/axisgrid.py\u001b[0m in \u001b[0;36mplot_joint\u001b[0;34m(self, func, **kwargs)\u001b[0m\n\u001b[1;32m   1732\u001b[0m \u001b[0;34m\u001b[0m\u001b[0m\n\u001b[1;32m   1733\u001b[0m         \u001b[0;32mif\u001b[0m \u001b[0mstr\u001b[0m\u001b[0;34m(\u001b[0m\u001b[0mfunc\u001b[0m\u001b[0;34m.\u001b[0m\u001b[0m__module__\u001b[0m\u001b[0;34m)\u001b[0m\u001b[0;34m.\u001b[0m\u001b[0mstartswith\u001b[0m\u001b[0;34m(\u001b[0m\u001b[0;34m\"seaborn\"\u001b[0m\u001b[0;34m)\u001b[0m\u001b[0;34m:\u001b[0m\u001b[0;34m\u001b[0m\u001b[0;34m\u001b[0m\u001b[0m\n\u001b[0;32m-> 1734\u001b[0;31m             \u001b[0mfunc\u001b[0m\u001b[0;34m(\u001b[0m\u001b[0mx\u001b[0m\u001b[0;34m=\u001b[0m\u001b[0mself\u001b[0m\u001b[0;34m.\u001b[0m\u001b[0mx\u001b[0m\u001b[0;34m,\u001b[0m \u001b[0my\u001b[0m\u001b[0;34m=\u001b[0m\u001b[0mself\u001b[0m\u001b[0;34m.\u001b[0m\u001b[0my\u001b[0m\u001b[0;34m,\u001b[0m \u001b[0;34m**\u001b[0m\u001b[0mkwargs\u001b[0m\u001b[0;34m)\u001b[0m\u001b[0;34m\u001b[0m\u001b[0;34m\u001b[0m\u001b[0m\n\u001b[0m\u001b[1;32m   1735\u001b[0m         \u001b[0;32melse\u001b[0m\u001b[0;34m:\u001b[0m\u001b[0;34m\u001b[0m\u001b[0;34m\u001b[0m\u001b[0m\n\u001b[1;32m   1736\u001b[0m             \u001b[0mfunc\u001b[0m\u001b[0;34m(\u001b[0m\u001b[0mself\u001b[0m\u001b[0;34m.\u001b[0m\u001b[0mx\u001b[0m\u001b[0;34m,\u001b[0m \u001b[0mself\u001b[0m\u001b[0;34m.\u001b[0m\u001b[0my\u001b[0m\u001b[0;34m,\u001b[0m \u001b[0;34m**\u001b[0m\u001b[0mkwargs\u001b[0m\u001b[0;34m)\u001b[0m\u001b[0;34m\u001b[0m\u001b[0;34m\u001b[0m\u001b[0m\n",
      "\u001b[0;32m~/opt/miniconda3/envs/ml_env/lib/python3.8/site-packages/seaborn/_decorators.py\u001b[0m in \u001b[0;36minner_f\u001b[0;34m(*args, **kwargs)\u001b[0m\n\u001b[1;32m     44\u001b[0m             )\n\u001b[1;32m     45\u001b[0m         \u001b[0mkwargs\u001b[0m\u001b[0;34m.\u001b[0m\u001b[0mupdate\u001b[0m\u001b[0;34m(\u001b[0m\u001b[0;34m{\u001b[0m\u001b[0mk\u001b[0m\u001b[0;34m:\u001b[0m \u001b[0marg\u001b[0m \u001b[0;32mfor\u001b[0m \u001b[0mk\u001b[0m\u001b[0;34m,\u001b[0m \u001b[0marg\u001b[0m \u001b[0;32min\u001b[0m \u001b[0mzip\u001b[0m\u001b[0;34m(\u001b[0m\u001b[0msig\u001b[0m\u001b[0;34m.\u001b[0m\u001b[0mparameters\u001b[0m\u001b[0;34m,\u001b[0m \u001b[0margs\u001b[0m\u001b[0;34m)\u001b[0m\u001b[0;34m}\u001b[0m\u001b[0;34m)\u001b[0m\u001b[0;34m\u001b[0m\u001b[0;34m\u001b[0m\u001b[0m\n\u001b[0;32m---> 46\u001b[0;31m         \u001b[0;32mreturn\u001b[0m \u001b[0mf\u001b[0m\u001b[0;34m(\u001b[0m\u001b[0;34m**\u001b[0m\u001b[0mkwargs\u001b[0m\u001b[0;34m)\u001b[0m\u001b[0;34m\u001b[0m\u001b[0;34m\u001b[0m\u001b[0m\n\u001b[0m\u001b[1;32m     47\u001b[0m     \u001b[0;32mreturn\u001b[0m \u001b[0minner_f\u001b[0m\u001b[0;34m\u001b[0m\u001b[0;34m\u001b[0m\u001b[0m\n\u001b[1;32m     48\u001b[0m \u001b[0;34m\u001b[0m\u001b[0m\n",
      "\u001b[0;31mTypeError\u001b[0m: regplot() got an unexpected keyword argument 'stat_func'"
     ]
    },
    {
     "data": {
      "image/png": "[encoded data removed]",
      "text/plain": [
       "<Figure size 432x432 with 3 Axes>"
      ]
     },
     "metadata": {
      "needs_background": "light"
     },
     "output_type": "display_data"
    }
   ],
   "source": [
    "from scipy import stats\n",
    "def r2(x, y):\n",
    "    return stats.pearsonr(x, y)[0] ** 2\n",
    "sns.jointplot(data=test_df, x=\"GBM_probability\", y=\"gkSVM_probability\", kind=\"reg\", stat_func=r2)"
   ]
  },
  {
   "cell_type": "code",
   "execution_count": 38,
   "id": "16b3974a-e01f-4df7-8c76-f0370688ec2d",
   "metadata": {
    "execution": {
     "iopub.execute_input": "2021-10-18T05:05:25.572030Z",
     "iopub.status.busy": "2021-10-18T05:05:25.571812Z",
     "iopub.status.idle": "2021-10-18T05:05:26.615390Z",
     "shell.execute_reply": "2021-10-18T05:05:26.614613Z",
     "shell.execute_reply.started": "2021-10-18T05:05:25.572010Z"
    },
    "tags": []
   },
   "outputs": [
    {
     "data": {
      "text/plain": [
       "<matplotlib.collections.PathCollection at 0x1554cbeb9280>"
      ]
     },
     "execution_count": 38,
     "metadata": {},
     "output_type": "execute_result"
    },
    {
     "data": {
      "image/png": "[encoded data removed]",
      "text/plain": [
       "<Figure size 432x288 with 1 Axes>"
      ]
     },
     "metadata": {
      "needs_background": "light"
     },
     "output_type": "display_data"
    }
   ],
   "source": [
    "plt.scatter("
   ]
  },
  {
   "cell_type": "code",
   "execution_count": 29,
   "id": "620ced31-32d1-4f56-9683-50b17b485e33",
   "metadata": {
    "execution": {
     "iopub.execute_input": "2021-10-18T05:02:27.926488Z",
     "iopub.status.busy": "2021-10-18T05:02:27.925537Z",
     "iopub.status.idle": "2021-10-18T05:02:28.594210Z",
     "shell.execute_reply": "2021-10-18T05:02:28.593210Z",
     "shell.execute_reply.started": "2021-10-18T05:02:27.926468Z"
    },
    "tags": []
   },
   "outputs": [
    {
     "data": {
      "text/html": [
       "<div>\n",
       "<style scoped>\n",
       "    .dataframe tbody tr th:only-of-type {\n",
       "        vertical-align: middle;\n",
       "    }\n",
       "\n",
       "    .dataframe tbody tr th {\n",
       "        vertical-align: top;\n",
       "    }\n",
       "\n",
       "    .dataframe thead th {\n",
       "        text-align: right;\n",
       "    }\n",
       "</style>\n",
       "<table border=\"1\" class=\"dataframe\">\n",
       "  <thead>\n",
       "    <tr style=\"text-align: right;\">\n",
       "      <th></th>\n",
       "      <th>SEQUENCE</th>\n",
       "      <th>MPRA_FXN</th>\n",
       "      <th>MICROSCOPE_FXN</th>\n",
       "      <th>ACTIVITY_SUMRNA_NUMDNA</th>\n",
       "      <th>L1_length</th>\n",
       "      <th>TFBS1_ETS_affinity</th>\n",
       "      <th>TFBS1_ETS_orient</th>\n",
       "      <th>TFBS1_GATA_affinity</th>\n",
       "      <th>TFBS1_GATA_orient</th>\n",
       "      <th>L2_length</th>\n",
       "      <th>...</th>\n",
       "      <th>TFBS5_GATA_orient</th>\n",
       "      <th>L6_length</th>\n",
       "      <th>labels</th>\n",
       "      <th>GBM_preds</th>\n",
       "      <th>GBM_probability</th>\n",
       "      <th>GBM_classification</th>\n",
       "      <th>gkSVM_probability</th>\n",
       "      <th>gkSVM_labels</th>\n",
       "      <th>gkSVM_preds</th>\n",
       "      <th>gkSVM_classification</th>\n",
       "    </tr>\n",
       "  </thead>\n",
       "  <tbody>\n",
       "    <tr>\n",
       "      <th>S1-G1F-S2-E1F-S3-E2R-S4-G2R-S5-G3F-S6</th>\n",
       "      <td>CATCTGAAGCTCGAGATAACTAACGGAAGTTTTCGAAATTTCCTTT...</td>\n",
       "      <td>0.0</td>\n",
       "      <td>NaN</td>\n",
       "      <td>0.059981</td>\n",
       "      <td>12.0</td>\n",
       "      <td>0.0</td>\n",
       "      <td>0.0</td>\n",
       "      <td>0.9</td>\n",
       "      <td>1.0</td>\n",
       "      <td>2.0</td>\n",
       "      <td>...</td>\n",
       "      <td>1.0</td>\n",
       "      <td>0.0</td>\n",
       "      <td>0</td>\n",
       "      <td>0</td>\n",
       "      <td>0.204348</td>\n",
       "      <td>TN</td>\n",
       "      <td>-1.06658</td>\n",
       "      <td>0</td>\n",
       "      <td>0</td>\n",
       "      <td>TN</td>\n",
       "    </tr>\n",
       "  </tbody>\n",
       "</table>\n",
       "<p>1 rows × 38 columns</p>\n",
       "</div>"
      ],
      "text/plain": [
       "                                                                                SEQUENCE  \\\n",
       "S1-G1F-S2-E1F-S3-E2R-S4-G2R-S5-G3F-S6  CATCTGAAGCTCGAGATAACTAACGGAAGTTTTCGAAATTTCCTTT...   \n",
       "\n",
       "                                       MPRA_FXN MICROSCOPE_FXN  \\\n",
       "S1-G1F-S2-E1F-S3-E2R-S4-G2R-S5-G3F-S6       0.0            NaN   \n",
       "\n",
       "                                       ACTIVITY_SUMRNA_NUMDNA  L1_length  \\\n",
       "S1-G1F-S2-E1F-S3-E2R-S4-G2R-S5-G3F-S6                0.059981       12.0   \n",
       "\n",
       "                                       TFBS1_ETS_affinity  TFBS1_ETS_orient  \\\n",
       "S1-G1F-S2-E1F-S3-E2R-S4-G2R-S5-G3F-S6                 0.0               0.0   \n",
       "\n",
       "                                       TFBS1_GATA_affinity  TFBS1_GATA_orient  \\\n",
       "S1-G1F-S2-E1F-S3-E2R-S4-G2R-S5-G3F-S6                  0.9                1.0   \n",
       "\n",
       "                                       L2_length  ...  TFBS5_GATA_orient  \\\n",
       "S1-G1F-S2-E1F-S3-E2R-S4-G2R-S5-G3F-S6        2.0  ...                1.0   \n",
       "\n",
       "                                       L6_length  labels  GBM_preds  \\\n",
       "S1-G1F-S2-E1F-S3-E2R-S4-G2R-S5-G3F-S6        0.0       0          0   \n",
       "\n",
       "                                       GBM_probability  GBM_classification  \\\n",
       "S1-G1F-S2-E1F-S3-E2R-S4-G2R-S5-G3F-S6         0.204348                  TN   \n",
       "\n",
       "                                       gkSVM_probability  gkSVM_labels  \\\n",
       "S1-G1F-S2-E1F-S3-E2R-S4-G2R-S5-G3F-S6           -1.06658             0   \n",
       "\n",
       "                                       gkSVM_preds  gkSVM_classification  \n",
       "S1-G1F-S2-E1F-S3-E2R-S4-G2R-S5-G3F-S6            0                    TN  \n",
       "\n",
       "[1 rows x 38 columns]"
      ]
     },
     "execution_count": 29,
     "metadata": {},
     "output_type": "execute_result"
    }
   ],
   "source": [
    "test_df.head(1)"
   ]
  },
  {
   "cell_type": "markdown",
   "id": "2ec64d91-eeb4-489c-8019-07a5d9e99516",
   "metadata": {
    "tags": []
   },
   "source": [
    "# Scratch\n"
   ]
  }
 ],
 "metadata": {
  "kernelspec": {
   "display_name": "Python3 ml_env",
   "language": "python",
   "name": "ml_env"
  },
  "language_info": {
   "codemirror_mode": {
    "name": "ipython",
    "version": 3
   },
   "file_extension": ".py",
   "mimetype": "text/x-python",
   "name": "python",
   "nbconvert_exporter": "python",
   "pygments_lexer": "ipython3",
   "version": "3.8.8"
  }
 },
 "nbformat": 4,
 "nbformat_minor": 5
}

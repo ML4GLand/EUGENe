{
 "cells": [
  {
   "cell_type": "markdown",
   "id": "90a88efe-ebb3-424c-8704-fb4ee189af2c",
   "metadata": {},
   "source": [
    "# Random Forest Intepretation"
   ]
  },
  {
   "cell_type": "markdown",
   "id": "2d058003-a667-4b45-9ddc-e47efe48e0e1",
   "metadata": {
    "tags": []
   },
   "source": [
    "**Authorship:**\n",
    "Author, *MM/DD/YYYY*\n",
    "***\n",
    "**Description:**\n",
    "Notebook to do some cool stuff\n",
    "***\n",
    "**TODOs:**\n",
    " - <font color='green'> Done TODO </font>\n",
    " - <font color='orange'> WIP TODO </font>\n",
    " - <font color='red'> Queued TODO </font>\n",
    "***"
   ]
  },
  {
   "cell_type": "markdown",
   "id": "a2a2c4a5-1dac-4dce-8e87-cb83f07de4c3",
   "metadata": {
    "execution": {
     "iopub.execute_input": "2021-09-05T21:21:18.602440Z",
     "iopub.status.busy": "2021-09-05T21:21:18.602151Z",
     "iopub.status.idle": "2021-09-05T21:21:18.606439Z",
     "shell.execute_reply": "2021-09-05T21:21:18.605256Z",
     "shell.execute_reply.started": "2021-09-05T21:21:18.602409Z"
    },
    "tags": []
   },
   "source": [
    "## Set-up"
   ]
  },
  {
   "cell_type": "code",
   "execution_count": 2,
   "id": "3ebaff6f",
   "metadata": {
    "execution": {
     "iopub.execute_input": "2021-09-11T07:07:46.396694Z",
     "iopub.status.busy": "2021-09-11T07:07:46.396412Z",
     "iopub.status.idle": "2021-09-11T07:07:46.803837Z",
     "shell.execute_reply": "2021-09-11T07:07:46.803088Z",
     "shell.execute_reply.started": "2021-09-11T07:07:46.396653Z"
    },
    "tags": []
   },
   "outputs": [],
   "source": [
    "# The classics\n",
    "\n",
    "# Autoreload extension\n",
    "if 'autoreload' not in get_ipython().extension_manager.loaded:\n",
    "    %load_ext autoreload\n",
    "%autoreload 2"
   ]
  },
  {
   "cell_type": "code",
   "execution_count": 3,
   "id": "5647b939-94cd-4923-8f04-a2abbecc3b49",
   "metadata": {
    "execution": {
     "iopub.execute_input": "2021-09-11T07:07:47.514573Z",
     "iopub.status.busy": "2021-09-11T07:07:47.514322Z",
     "iopub.status.idle": "2021-09-11T07:07:47.949448Z",
     "shell.execute_reply": "2021-09-11T07:07:47.948782Z",
     "shell.execute_reply.started": "2021-09-11T07:07:47.514543Z"
    },
    "tags": []
   },
   "outputs": [],
   "source": [
    "# Directory definition\n",
    "dir = \"/path/to/dir\""
   ]
  },
  {
   "cell_type": "markdown",
   "id": "524af904",
   "metadata": {
    "tags": []
   },
   "source": [
    "## Load the data\n",
    "Description"
   ]
  },
  {
   "cell_type": "markdown",
   "id": "6f31aa74-0448-435d-b863-15dde594944e",
   "metadata": {},
   "source": [
    "## Load the model"
   ]
  },
  {
   "cell_type": "markdown",
   "id": "945550e2-0b82-4cf9-8109-c3a614946fa7",
   "metadata": {
    "tags": []
   },
   "source": [
    "## Generate predictions\n",
    "Description"
   ]
  },
  {
   "cell_type": "markdown",
   "id": "09a6c46a-f2d0-4225-958a-dbfb0ab2a770",
   "metadata": {},
   "source": [
    "## Look for patterns in missing"
   ]
  },
  {
   "cell_type": "markdown",
   "id": "7c62ea4a-8c8b-4d5c-a4bf-961db9b26044",
   "metadata": {},
   "source": [
    "## Save categories (FP, TN, ...)"
   ]
  },
  {
   "cell_type": "markdown",
   "id": "0028e4cf-78e1-4b67-b44a-ba147e848660",
   "metadata": {},
   "source": [
    "## Intepret Salient Features\n",
    "Look at feature importances"
   ]
  },
  {
   "cell_type": "markdown",
   "id": "99a8c706-ccbe-4156-9e3d-a29c1ecc9e95",
   "metadata": {
    "execution": {
     "iopub.execute_input": "2021-09-08T17:29:42.314098Z",
     "iopub.status.busy": "2021-09-08T17:29:42.313838Z",
     "iopub.status.idle": "2021-09-08T17:29:42.903968Z",
     "shell.execute_reply": "2021-09-08T17:29:42.903216Z",
     "shell.execute_reply.started": "2021-09-08T17:29:42.314069Z"
    },
    "tags": []
   },
   "source": [
    "# Scratch\n",
    "Place for old or testing code"
   ]
  },
  {
   "cell_type": "markdown",
   "id": "ed7ffd88-94c2-45f2-ad87-9f255e8073ff",
   "metadata": {},
   "source": [
    "# References"
   ]
  }
 ],
 "metadata": {
  "kernelspec": {
   "display_name": "Python3 ml_env",
   "language": "python",
   "name": "ml_env"
  },
  "language_info": {
   "codemirror_mode": {
    "name": "ipython",
    "version": 3
   },
   "file_extension": ".py",
   "mimetype": "text/x-python",
   "name": "python",
   "nbconvert_exporter": "python",
   "pygments_lexer": "ipython3",
   "version": "3.8.8"
  }
 },
 "nbformat": 4,
 "nbformat_minor": 5
}

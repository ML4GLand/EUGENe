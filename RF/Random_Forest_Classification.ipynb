{
 "cells": [
  {
   "cell_type": "markdown",
   "id": "c8fab0a8-93f8-49b4-a95f-3b4e0efeced1",
   "metadata": {},
   "source": [
    "# Random Forests For Enhancer Activity Prediction\n",
    "Adam Klie\n",
    "07/25/2021\n",
    "\n",
    "Notebook to train preliminary Random Forest classifiers for predicting enhancer activity"
   ]
  },
  {
   "cell_type": "code",
   "execution_count": 4,
   "id": "150f32b8-50b6-40ad-bf7f-13d191df89f7",
   "metadata": {
    "execution": {
     "iopub.execute_input": "2021-10-05T17:29:36.538589Z",
     "iopub.status.busy": "2021-10-05T17:29:36.538247Z",
     "iopub.status.idle": "2021-10-05T17:29:37.393435Z",
     "shell.execute_reply": "2021-10-05T17:29:37.392717Z",
     "shell.execute_reply.started": "2021-10-05T17:29:36.538549Z"
    },
    "tags": []
   },
   "outputs": [],
   "source": [
    "# Classics\n",
    "import matplotlib.pyplot as plt\n",
    "import numpy as np\n",
    "import pandas as pd\n",
    "import seaborn as sns\n",
    "\n",
    "# Loading webpages\n",
    "from IPython.display import IFrame\n",
    "\n",
    "# Autoreload extension\n",
    "if 'autoreload' not in get_ipython().extension_manager.loaded:\n",
    "    %load_ext autoreload\n",
    "    \n",
    "%autoreload 2"
   ]
  },
  {
   "cell_type": "code",
   "execution_count": 1,
   "id": "3d20bc99-4f08-445a-8d61-71269630f061",
   "metadata": {
    "execution": {
     "iopub.execute_input": "2021-10-05T17:29:12.610904Z",
     "iopub.status.busy": "2021-10-05T17:29:12.610311Z",
     "iopub.status.idle": "2021-10-05T17:29:20.197225Z",
     "shell.execute_reply": "2021-10-05T17:29:20.196305Z",
     "shell.execute_reply.started": "2021-10-05T17:29:12.610781Z"
    },
    "tags": []
   },
   "outputs": [],
   "source": [
    "import sys\n",
    "sys.path.append('/cellar/users/aklie/projects/EUGENE/bin/')\n",
    "import project_utils"
   ]
  },
  {
   "cell_type": "markdown",
   "id": "20293f16-1e15-442c-ad9c-58a5068ac90d",
   "metadata": {
    "tags": []
   },
   "source": [
    "# Load data"
   ]
  },
  {
   "cell_type": "code",
   "execution_count": 6,
   "id": "46c67fbf-c1f0-4387-9ef0-b20b91e92ff0",
   "metadata": {
    "execution": {
     "iopub.execute_input": "2021-10-05T17:30:01.057948Z",
     "iopub.status.busy": "2021-10-05T17:30:01.057665Z",
     "iopub.status.idle": "2021-10-05T17:30:09.366463Z",
     "shell.execute_reply": "2021-10-05T17:30:09.365399Z",
     "shell.execute_reply.started": "2021-10-05T17:30:01.057920Z"
    },
    "tags": []
   },
   "outputs": [],
   "source": [
    "X, y = np.loadtxt('../data/2021_OLS_Library/mixed_2.0/X_mixed-2.0_0.18-0.4.txt', delimiter=' ', dtype=float), np.loadtxt('../data/2021_OLS_Library/y_binary_0.18-0.4.txt', delimiter=' ', dtype=int)"
   ]
  },
  {
   "cell_type": "code",
   "execution_count": 7,
   "id": "ddff66c7-e76e-47fa-aa0a-7c9e8739a09a",
   "metadata": {
    "execution": {
     "iopub.execute_input": "2021-10-05T17:30:10.239368Z",
     "iopub.status.busy": "2021-10-05T17:30:10.239069Z",
     "iopub.status.idle": "2021-10-05T17:30:10.982605Z",
     "shell.execute_reply": "2021-10-05T17:30:10.981773Z",
     "shell.execute_reply.started": "2021-10-05T17:30:10.239339Z"
    },
    "tags": []
   },
   "outputs": [
    {
     "data": {
      "text/plain": [
       "((302936, 26), (302936,))"
      ]
     },
     "execution_count": 7,
     "metadata": {},
     "output_type": "execute_result"
    }
   ],
   "source": [
    "X.shape, y.shape"
   ]
  },
  {
   "cell_type": "code",
   "execution_count": 8,
   "id": "14612003-df71-4b7c-a6ea-3d9952ff468b",
   "metadata": {
    "execution": {
     "iopub.execute_input": "2021-10-05T17:30:10.985616Z",
     "iopub.status.busy": "2021-10-05T17:30:10.985278Z",
     "iopub.status.idle": "2021-10-05T17:30:11.954751Z",
     "shell.execute_reply": "2021-10-05T17:30:11.953971Z",
     "shell.execute_reply.started": "2021-10-05T17:30:10.985573Z"
    },
    "tags": []
   },
   "outputs": [
    {
     "data": {
      "text/plain": [
       "(array([12. ,  0. ,  0. ,  0.9, -1. ,  2. ,  0.6,  1. ,  0. ,  0. ,  7. ,\n",
       "         0.4,  1. ,  0. ,  0. ,  5. ,  0. ,  0. ,  0.3, -1. ,  0. ,  0. ,\n",
       "         0. ,  0.5,  1. ,  0. ]),\n",
       " 1)"
      ]
     },
     "execution_count": 8,
     "metadata": {},
     "output_type": "execute_result"
    }
   ],
   "source": [
    "X[0], y[0]"
   ]
  },
  {
   "cell_type": "code",
   "execution_count": 9,
   "id": "668c8f57-bf8c-444d-8bdf-54d56f276536",
   "metadata": {
    "execution": {
     "iopub.execute_input": "2021-10-05T17:30:11.956049Z",
     "iopub.status.busy": "2021-10-05T17:30:11.955777Z",
     "iopub.status.idle": "2021-10-05T17:30:12.753101Z",
     "shell.execute_reply": "2021-10-05T17:30:12.752254Z",
     "shell.execute_reply.started": "2021-10-05T17:30:11.956021Z"
    },
    "tags": []
   },
   "outputs": [
    {
     "data": {
      "text/plain": [
       "(array([0., 1.]), array([ 36910, 266026]))"
      ]
     },
     "execution_count": 9,
     "metadata": {},
     "output_type": "execute_result"
    }
   ],
   "source": [
    "# Don't remove current feature if more than one unique value\n",
    "np.unique(X[:,-1], return_counts=True)"
   ]
  },
  {
   "cell_type": "code",
   "execution_count": null,
   "id": "06597290-f095-404d-a5c4-ac53f83d5073",
   "metadata": {
    "execution": {
     "iopub.status.busy": "2021-10-05T17:29:28.019664Z",
     "iopub.status.idle": "2021-10-05T17:29:28.020015Z",
     "shell.execute_reply": "2021-10-05T17:29:28.019844Z",
     "shell.execute_reply.started": "2021-10-05T17:29:28.019825Z"
    },
    "tags": []
   },
   "outputs": [],
   "source": [
    "# Remove consant features: TODO function here\n",
    "#X = X[:,:-1]"
   ]
  },
  {
   "cell_type": "markdown",
   "id": "7e0a40c9-fcd3-4d4a-945d-5f85a174d270",
   "metadata": {
    "tags": []
   },
   "source": [
    "# Check random forest assumptions"
   ]
  },
  {
   "cell_type": "markdown",
   "id": "6b55e278-925e-451f-829b-81b0d8eb308c",
   "metadata": {},
   "source": [
    "- Random forests make no formal distributional assumptions.\n",
    "- Random forests are non-parametric and can thus handle skewed and multi-modal data \n",
    "- Can handle categorical data that are ordinal or non-ordinal\n",
    "- Can be prone to overfitting to noise"
   ]
  },
  {
   "cell_type": "markdown",
   "id": "c11b1964-7ac1-4533-8768-4ee6ad2d1c0e",
   "metadata": {},
   "source": [
    "# Train and test a random forest classifier"
   ]
  },
  {
   "cell_type": "markdown",
   "id": "e591483e-ec5b-47aa-95e8-46d514e7ba4b",
   "metadata": {
    "tags": []
   },
   "source": [
    "## **Train/test split**"
   ]
  },
  {
   "cell_type": "code",
   "execution_count": 10,
   "id": "93b4d20c-4fad-4784-b8d8-a0096688ac78",
   "metadata": {
    "execution": {
     "iopub.execute_input": "2021-10-05T17:30:12.755664Z",
     "iopub.status.busy": "2021-10-05T17:30:12.754100Z",
     "iopub.status.idle": "2021-10-05T17:30:13.710976Z",
     "shell.execute_reply": "2021-10-05T17:30:13.710231Z",
     "shell.execute_reply.started": "2021-10-05T17:30:12.755636Z"
    },
    "tags": []
   },
   "outputs": [],
   "source": [
    "from sklearn.model_selection import train_test_split"
   ]
  },
  {
   "cell_type": "code",
   "execution_count": 11,
   "id": "8b70c395-3a00-403d-9697-3bfc8e3364cf",
   "metadata": {
    "execution": {
     "iopub.execute_input": "2021-10-05T17:30:13.712382Z",
     "iopub.status.busy": "2021-10-05T17:30:13.712047Z",
     "iopub.status.idle": "2021-10-05T17:30:14.538963Z",
     "shell.execute_reply": "2021-10-05T17:30:14.538231Z",
     "shell.execute_reply.started": "2021-10-05T17:30:13.712353Z"
    },
    "tags": []
   },
   "outputs": [],
   "source": [
    "split = 0.9"
   ]
  },
  {
   "cell_type": "code",
   "execution_count": 12,
   "id": "eb93b92c-91e7-4565-b99f-93a5656b0dc0",
   "metadata": {
    "execution": {
     "iopub.execute_input": "2021-10-05T17:30:14.540363Z",
     "iopub.status.busy": "2021-10-05T17:30:14.540064Z",
     "iopub.status.idle": "2021-10-05T17:30:15.410423Z",
     "shell.execute_reply": "2021-10-05T17:30:15.409627Z",
     "shell.execute_reply.started": "2021-10-05T17:30:14.540335Z"
    },
    "tags": []
   },
   "outputs": [],
   "source": [
    "X_train, X_test, y_train, y_test = train_test_split(X, y, train_size=split, random_state=13, shuffle=True)"
   ]
  },
  {
   "cell_type": "code",
   "execution_count": 13,
   "id": "9c0279fc-8e9e-415d-831e-ca918b165cfb",
   "metadata": {
    "execution": {
     "iopub.execute_input": "2021-10-05T17:30:15.411668Z",
     "iopub.status.busy": "2021-10-05T17:30:15.411406Z",
     "iopub.status.idle": "2021-10-05T17:30:16.230777Z",
     "shell.execute_reply": "2021-10-05T17:30:16.229880Z",
     "shell.execute_reply.started": "2021-10-05T17:30:15.411641Z"
    },
    "tags": []
   },
   "outputs": [
    {
     "data": {
      "text/plain": [
       "((272642, 26), (30294, 26), (272642,), (30294,))"
      ]
     },
     "execution_count": 13,
     "metadata": {},
     "output_type": "execute_result"
    }
   ],
   "source": [
    "X_train.shape, X_test.shape, y_train.shape, y_test.shape"
   ]
  },
  {
   "cell_type": "code",
   "execution_count": 14,
   "id": "c85808af-0887-4a78-ab49-1d1a4eae9522",
   "metadata": {
    "execution": {
     "iopub.execute_input": "2021-10-05T17:30:16.234831Z",
     "iopub.status.busy": "2021-10-05T17:30:16.234413Z",
     "iopub.status.idle": "2021-10-05T17:30:17.098664Z",
     "shell.execute_reply": "2021-10-05T17:30:17.097959Z",
     "shell.execute_reply.started": "2021-10-05T17:30:16.234787Z"
    },
    "tags": []
   },
   "outputs": [
    {
     "data": {
      "text/plain": [
       "(array([0.68878236, 0.31121764]), array([0.69115997, 0.30884003]))"
      ]
     },
     "execution_count": 14,
     "metadata": {},
     "output_type": "execute_result"
    }
   ],
   "source": [
    "np.unique(y_train, return_counts=True)[1]/len(y_train), np.unique(y_test, return_counts=True)[1]/len(y_test)"
   ]
  },
  {
   "cell_type": "code",
   "execution_count": 72,
   "id": "8fdd5c58-6e01-4f1c-ba93-71954e88c468",
   "metadata": {
    "execution": {
     "iopub.execute_input": "2021-09-23T18:21:50.425321Z",
     "iopub.status.busy": "2021-09-23T18:21:50.425064Z",
     "iopub.status.idle": "2021-09-23T18:21:51.180532Z",
     "shell.execute_reply": "2021-09-23T18:21:51.179914Z",
     "shell.execute_reply.started": "2021-09-23T18:21:50.425289Z"
    },
    "tags": []
   },
   "outputs": [
    {
     "data": {
      "text/plain": [
       "((2726, 26), (2726, 26), (2726,), (2726,))"
      ]
     },
     "execution_count": 72,
     "metadata": {},
     "output_type": "execute_result"
    }
   ],
   "source": [
    "test = True\n",
    "if test:\n",
    "    num_train = int(len(X_train)/10)\n",
    "    num_test = int(len(X_test)/10)\n",
    "    X_train, X_test, y_train, y_test = X_train[:num_train, :], X_test[:num_train, :], y_train[:num_test], y_test[:num_test]\n",
    "X_train.shape, X_test.shape, y_train.shape, y_test.shape"
   ]
  },
  {
   "cell_type": "markdown",
   "id": "05e5dbae-2935-4170-8e0d-0843f2f58eb1",
   "metadata": {
    "tags": []
   },
   "source": [
    "## **Standardize features**: *For mixed encoding only*"
   ]
  },
  {
   "cell_type": "code",
   "execution_count": 15,
   "id": "cc5a4b32-88ae-48bd-804b-958a5de468fd",
   "metadata": {
    "execution": {
     "iopub.execute_input": "2021-10-05T17:30:23.629387Z",
     "iopub.status.busy": "2021-10-05T17:30:23.627563Z",
     "iopub.status.idle": "2021-10-05T17:30:24.461672Z",
     "shell.execute_reply": "2021-10-05T17:30:24.460875Z",
     "shell.execute_reply.started": "2021-10-05T17:30:23.629357Z"
    },
    "tags": []
   },
   "outputs": [],
   "source": [
    "#scale_indeces = np.array([0, 3, 4, 7, 8, 11, 12, 15, 16, 19, 20])  # Mixed 1.0\n",
    "scale_indeces = np.array([0, 5, 10, 15, 20, 25])  # Mixed 2.0"
   ]
  },
  {
   "cell_type": "code",
   "execution_count": 16,
   "id": "69a10716-ae78-45ff-8e15-82ceb09af932",
   "metadata": {
    "execution": {
     "iopub.execute_input": "2021-10-05T17:30:25.293453Z",
     "iopub.status.busy": "2021-10-05T17:30:25.293179Z",
     "iopub.status.idle": "2021-10-05T17:30:26.294575Z",
     "shell.execute_reply": "2021-10-05T17:30:26.293772Z",
     "shell.execute_reply.started": "2021-10-05T17:30:25.293425Z"
    },
    "tags": []
   },
   "outputs": [],
   "source": [
    "means = X_train[:, scale_indeces].mean(axis=0)\n",
    "stds = X_train[:, scale_indeces].std(axis=0)"
   ]
  },
  {
   "cell_type": "code",
   "execution_count": 17,
   "id": "13291aa4-2023-4d3d-bfb8-b2eab7944e90",
   "metadata": {
    "execution": {
     "iopub.execute_input": "2021-10-05T17:30:27.540791Z",
     "iopub.status.busy": "2021-10-05T17:30:27.540521Z",
     "iopub.status.idle": "2021-10-05T17:30:28.481091Z",
     "shell.execute_reply": "2021-10-05T17:30:28.480306Z",
     "shell.execute_reply.started": "2021-10-05T17:30:27.540764Z"
    },
    "tags": []
   },
   "outputs": [],
   "source": [
    "X_train[:, scale_indeces] -= means\n",
    "X_train[:, scale_indeces] /= stds"
   ]
  },
  {
   "cell_type": "code",
   "execution_count": 18,
   "id": "d82d77f5-c2ec-4cc2-9834-008600156fcf",
   "metadata": {
    "execution": {
     "iopub.execute_input": "2021-10-05T17:30:30.541217Z",
     "iopub.status.busy": "2021-10-05T17:30:30.540928Z",
     "iopub.status.idle": "2021-10-05T17:30:31.485332Z",
     "shell.execute_reply": "2021-10-05T17:30:31.484607Z",
     "shell.execute_reply.started": "2021-10-05T17:30:30.541187Z"
    },
    "tags": []
   },
   "outputs": [
    {
     "data": {
      "text/plain": [
       "(array([-3.72156537e-17, -8.61328681e-17,  6.50101178e-17,  5.79083912e-17,\n",
       "         3.13779041e-17,  1.27648650e-16]),\n",
       " array([1., 1., 1., 1., 1., 1.]))"
      ]
     },
     "execution_count": 18,
     "metadata": {},
     "output_type": "execute_result"
    }
   ],
   "source": [
    "X_train[:, scale_indeces].mean(axis=0), X_train[:, scale_indeces].std(axis=0)"
   ]
  },
  {
   "cell_type": "code",
   "execution_count": 19,
   "id": "078560b0-08d5-4985-bfae-c51ffd2b5318",
   "metadata": {
    "execution": {
     "iopub.execute_input": "2021-10-05T17:30:32.758281Z",
     "iopub.status.busy": "2021-10-05T17:30:32.757981Z",
     "iopub.status.idle": "2021-10-05T17:30:33.635513Z",
     "shell.execute_reply": "2021-10-05T17:30:33.634457Z",
     "shell.execute_reply.started": "2021-10-05T17:30:32.758252Z"
    },
    "tags": []
   },
   "outputs": [],
   "source": [
    "X_test[:, scale_indeces] -= means\n",
    "X_test[:, scale_indeces] /= stds"
   ]
  },
  {
   "cell_type": "code",
   "execution_count": 20,
   "id": "7130c243-d81e-4a9a-81ec-dd05d9a093e4",
   "metadata": {
    "execution": {
     "iopub.execute_input": "2021-10-05T17:30:33.638382Z",
     "iopub.status.busy": "2021-10-05T17:30:33.637949Z",
     "iopub.status.idle": "2021-10-05T17:30:34.309802Z",
     "shell.execute_reply": "2021-10-05T17:30:34.309093Z",
     "shell.execute_reply.started": "2021-10-05T17:30:33.638339Z"
    },
    "tags": []
   },
   "outputs": [
    {
     "data": {
      "text/plain": [
       "(array([ 0.24329996,  0.        ,  0.        ,  0.3       ,  1.        ,\n",
       "        -0.010562  ,  0.        ,  0.        ,  0.5       ,  1.        ,\n",
       "         1.68975404,  0.        ,  0.        ,  0.9       ,  1.        ,\n",
       "        -0.73545532,  0.6       ,  1.        ,  0.        ,  0.        ,\n",
       "        -1.21608143,  0.4       ,  1.        ,  0.        ,  0.        ,\n",
       "         0.37263316]),\n",
       " array([-8.12987571e-04,  6.00000000e-01,  1.00000000e+00,  0.00000000e+00,\n",
       "         0.00000000e+00, -1.21624097e+00,  0.00000000e+00,  0.00000000e+00,\n",
       "         5.00000000e-01,  1.00000000e+00,  1.44761599e+00,  0.00000000e+00,\n",
       "         0.00000000e+00,  3.00000000e-01,  1.00000000e+00, -7.35455325e-01,\n",
       "         4.00000000e-01, -1.00000000e+00,  0.00000000e+00,  0.00000000e+00,\n",
       "         4.76505831e-01,  0.00000000e+00,  0.00000000e+00,  9.00000000e-01,\n",
       "        -1.00000000e+00,  3.72633160e-01]))"
      ]
     },
     "execution_count": 20,
     "metadata": {},
     "output_type": "execute_result"
    }
   ],
   "source": [
    "X_train[0], X_test[0]"
   ]
  },
  {
   "cell_type": "markdown",
   "id": "fd02d4fc-dd2c-4970-a10c-6fa4704cbae1",
   "metadata": {
    "tags": []
   },
   "source": [
    "## **Random Forest training**"
   ]
  },
  {
   "cell_type": "markdown",
   "id": "6399be59-22ab-4608-8980-c31bae2a7510",
   "metadata": {},
   "source": [
    "#### <u> **Train new model from scratch using out-of-box or hand-crafted hyperparams** </u> "
   ]
  },
  {
   "cell_type": "code",
   "execution_count": 79,
   "id": "8ef09ed4-340c-493e-bcf3-88e19c58d005",
   "metadata": {
    "execution": {
     "iopub.execute_input": "2021-09-23T18:22:02.264603Z",
     "iopub.status.busy": "2021-09-23T18:22:02.264410Z",
     "iopub.status.idle": "2021-09-23T18:22:02.826681Z",
     "shell.execute_reply": "2021-09-23T18:22:02.825898Z",
     "shell.execute_reply.started": "2021-09-23T18:22:02.264578Z"
    },
    "tags": []
   },
   "outputs": [],
   "source": [
    "from sklearn.ensemble import RandomForestClassifier"
   ]
  },
  {
   "cell_type": "code",
   "execution_count": 80,
   "id": "41ed48e8-d15d-492a-813d-29ac5b18179c",
   "metadata": {
    "execution": {
     "iopub.execute_input": "2021-09-23T18:22:02.828672Z",
     "iopub.status.busy": "2021-09-23T18:22:02.828310Z",
     "iopub.status.idle": "2021-09-23T18:22:03.502146Z",
     "shell.execute_reply": "2021-09-23T18:22:03.501498Z",
     "shell.execute_reply.started": "2021-09-23T18:22:02.828630Z"
    },
    "tags": []
   },
   "outputs": [],
   "source": [
    "clf = RandomForestClassifier(random_state=13, n_jobs=-1)"
   ]
  },
  {
   "cell_type": "code",
   "execution_count": 81,
   "id": "c44e0a94-5f03-48e3-9249-c7ac49f35aa8",
   "metadata": {
    "execution": {
     "iopub.execute_input": "2021-09-23T18:22:03.503909Z",
     "iopub.status.busy": "2021-09-23T18:22:03.503478Z",
     "iopub.status.idle": "2021-09-23T18:22:04.127956Z",
     "shell.execute_reply": "2021-09-23T18:22:04.127232Z",
     "shell.execute_reply.started": "2021-09-23T18:22:03.503863Z"
    },
    "tags": []
   },
   "outputs": [],
   "source": [
    "clf = RandomForestClassifier(n_estimators=1000,\n",
    "                             max_depth=10,\n",
    "                             min_samples_split=10, \n",
    "                             min_samples_leaf=10, \n",
    "                             bootstrap=True, \n",
    "                             max_features=\"auto\",\n",
    "                             class_weight=\"balanced\",\n",
    "                             random_state=13, \n",
    "                             n_jobs=-1,\n",
    "                             verbose=1)"
   ]
  },
  {
   "cell_type": "code",
   "execution_count": 83,
   "id": "bbd61f6f-9e02-4ebf-b6bd-0b74cd0c8156",
   "metadata": {
    "execution": {
     "iopub.execute_input": "2021-09-23T18:22:29.325397Z",
     "iopub.status.busy": "2021-09-23T18:22:29.324993Z",
     "iopub.status.idle": "2021-09-23T18:22:32.417188Z",
     "shell.execute_reply": "2021-09-23T18:22:32.416427Z",
     "shell.execute_reply.started": "2021-09-23T18:22:29.325362Z"
    },
    "tags": []
   },
   "outputs": [
    {
     "name": "stderr",
     "output_type": "stream",
     "text": [
      "[Parallel(n_jobs=-1)]: Using backend ThreadingBackend with 4 concurrent workers.\n",
      "[Parallel(n_jobs=-1)]: Done  42 tasks      | elapsed:    0.1s\n",
      "[Parallel(n_jobs=-1)]: Done 192 tasks      | elapsed:    0.4s\n",
      "[Parallel(n_jobs=-1)]: Done 442 tasks      | elapsed:    0.8s\n",
      "[Parallel(n_jobs=-1)]: Done 792 tasks      | elapsed:    1.5s\n",
      "[Parallel(n_jobs=-1)]: Done 1000 out of 1000 | elapsed:    1.9s finished\n"
     ]
    },
    {
     "data": {
      "text/plain": [
       "RandomForestClassifier(class_weight='balanced', max_depth=10,\n",
       "                       min_samples_leaf=10, min_samples_split=10,\n",
       "                       n_estimators=1000, n_jobs=-1, random_state=13,\n",
       "                       verbose=1)"
      ]
     },
     "execution_count": 83,
     "metadata": {},
     "output_type": "execute_result"
    }
   ],
   "source": [
    "clf.fit(X_train, y_train)"
   ]
  },
  {
   "cell_type": "markdown",
   "id": "0eb8fa98-4e70-481a-90f2-f38a8815dbe6",
   "metadata": {},
   "source": [
    "#### <u> **Train a new model using Optuna identified hyperparameters** </u>"
   ]
  },
  {
   "cell_type": "code",
   "execution_count": 21,
   "id": "b8e7dbaa-7be4-4eb6-a122-6e82d2856d70",
   "metadata": {
    "execution": {
     "iopub.execute_input": "2021-09-21T21:42:43.337682Z",
     "iopub.status.busy": "2021-09-21T21:42:43.337410Z",
     "iopub.status.idle": "2021-09-21T21:42:46.449499Z",
     "shell.execute_reply": "2021-09-21T21:42:46.448595Z",
     "shell.execute_reply.started": "2021-09-21T21:42:43.337651Z"
    }
   },
   "outputs": [],
   "source": [
    "from sklearn.ensemble import RandomForestClassifier"
   ]
  },
  {
   "cell_type": "code",
   "execution_count": 188,
   "id": "d4181d73-0eff-4baf-b309-e3048aa1de43",
   "metadata": {
    "execution": {
     "iopub.execute_input": "2021-09-22T00:15:34.430488Z",
     "iopub.status.busy": "2021-09-22T00:15:34.430202Z",
     "iopub.status.idle": "2021-09-22T00:15:34.875386Z",
     "shell.execute_reply": "2021-09-22T00:15:34.874638Z",
     "shell.execute_reply.started": "2021-09-22T00:15:34.430457Z"
    },
    "tags": []
   },
   "outputs": [],
   "source": [
    "params = pickle.load(open(\"0.18-0.4_mixed_100_trials_RF-clf_hyperopt.params.pickle\", \"rb\"))"
   ]
  },
  {
   "cell_type": "code",
   "execution_count": 189,
   "id": "6178156b-044d-4a97-a5e6-f44bc38e01a7",
   "metadata": {
    "execution": {
     "iopub.execute_input": "2021-09-22T00:15:53.812641Z",
     "iopub.status.busy": "2021-09-22T00:15:53.812378Z",
     "iopub.status.idle": "2021-09-22T00:15:54.356950Z",
     "shell.execute_reply": "2021-09-22T00:15:54.356237Z",
     "shell.execute_reply.started": "2021-09-22T00:15:53.812612Z"
    }
   },
   "outputs": [
    {
     "data": {
      "text/plain": [
       "{'RF_n_estimators': 985,\n",
       " 'RF_min_samples_split': 9,\n",
       " 'RF_min_samples_leaf': 5,\n",
       " 'RF_bootstrap': True}"
      ]
     },
     "execution_count": 189,
     "metadata": {},
     "output_type": "execute_result"
    }
   ],
   "source": [
    "params"
   ]
  },
  {
   "cell_type": "code",
   "execution_count": 190,
   "id": "79ada04b-a5f8-41fa-9d28-93c281ca8ff8",
   "metadata": {
    "execution": {
     "iopub.execute_input": "2021-09-22T00:16:25.946136Z",
     "iopub.status.busy": "2021-09-22T00:16:25.945869Z",
     "iopub.status.idle": "2021-09-22T00:16:26.704648Z",
     "shell.execute_reply": "2021-09-22T00:16:26.703790Z",
     "shell.execute_reply.started": "2021-09-22T00:16:25.946107Z"
    },
    "tags": []
   },
   "outputs": [],
   "source": [
    "clf = RandomForestClassifier(n_estimators=985, \n",
    "                             min_samples_split=9, \n",
    "                             min_samples_leaf=5, \n",
    "                             bootstrap=True, \n",
    "                             random_state=13, \n",
    "                             n_jobs=-1,\n",
    "                             verbose=1)"
   ]
  },
  {
   "cell_type": "code",
   "execution_count": 191,
   "id": "a3f67b91-0a75-4336-afcd-492f4735b7ca",
   "metadata": {
    "execution": {
     "iopub.execute_input": "2021-09-22T00:16:27.784505Z",
     "iopub.status.busy": "2021-09-22T00:16:27.784239Z",
     "iopub.status.idle": "2021-09-22T00:18:49.556089Z",
     "shell.execute_reply": "2021-09-22T00:18:49.555266Z",
     "shell.execute_reply.started": "2021-09-22T00:16:27.784475Z"
    },
    "tags": []
   },
   "outputs": [
    {
     "data": {
      "text/plain": [
       "RandomForestClassifier(min_samples_leaf=5, min_samples_split=9,\n",
       "                       n_estimators=985, n_jobs=-1, random_state=13)"
      ]
     },
     "execution_count": 191,
     "metadata": {},
     "output_type": "execute_result"
    }
   ],
   "source": [
    "clf.fit(X_train, y_train)"
   ]
  },
  {
   "cell_type": "markdown",
   "id": "efc2f64c-4f09-45a1-8b5f-356353a17c94",
   "metadata": {
    "tags": []
   },
   "source": [
    "#### <u> **Train new model using random search cross validation** </u> "
   ]
  },
  {
   "cell_type": "code",
   "execution_count": 110,
   "id": "ab8fe545-f740-49f7-8ea8-f144397aa064",
   "metadata": {
    "execution": {
     "iopub.execute_input": "2021-09-23T18:23:29.612917Z",
     "iopub.status.busy": "2021-09-23T18:23:29.612602Z",
     "iopub.status.idle": "2021-09-23T18:23:30.227171Z",
     "shell.execute_reply": "2021-09-23T18:23:30.226398Z",
     "shell.execute_reply.started": "2021-09-23T18:23:29.612882Z"
    },
    "tags": []
   },
   "outputs": [],
   "source": [
    "from sklearn.ensemble import RandomForestClassifier\n",
    "from sklearn.model_selection import RandomizedSearchCV"
   ]
  },
  {
   "cell_type": "code",
   "execution_count": 111,
   "id": "44375d4d-71d1-447b-a2e6-7e9e60668157",
   "metadata": {
    "execution": {
     "iopub.execute_input": "2021-09-23T18:23:36.986199Z",
     "iopub.status.busy": "2021-09-23T18:23:36.985941Z",
     "iopub.status.idle": "2021-09-23T18:23:37.661460Z",
     "shell.execute_reply": "2021-09-23T18:23:37.660595Z",
     "shell.execute_reply.started": "2021-09-23T18:23:36.986167Z"
    },
    "tags": []
   },
   "outputs": [
    {
     "name": "stdout",
     "output_type": "stream",
     "text": [
      "{'n_estimators': [200, 400, 600, 800, 1000, 1200, 1400, 1600, 1800, 2000], 'max_features': ['auto', 'sqrt'], 'max_depth': [10, 20, 30, 40, 50, 60, 70, 80, 90, 100, 110, None], 'min_samples_split': [2, 5, 10], 'min_samples_leaf': [1, 2, 4], 'bootstrap': [True, False]}\n"
     ]
    }
   ],
   "source": [
    "# Number of trees in random forest\n",
    "n_estimators = [int(x) for x in np.linspace(start = 200, stop = 2000, num = 10)]\n",
    "# Number of features to consider at every split\n",
    "max_features = ['auto', 'sqrt']\n",
    "# Maximum number of levels in tree\n",
    "max_depth = [int(x) for x in np.linspace(10, 110, num = 11)]\n",
    "max_depth.append(None)\n",
    "# Minimum number of samples required to split a node\n",
    "min_samples_split = [2, 5, 10]\n",
    "# Minimum number of samples required at each leaf node\n",
    "min_samples_leaf = [1, 2, 4]\n",
    "# Method of selecting samples for training each tree\n",
    "bootstrap = [True, False]\n",
    "# Create the random grid\n",
    "random_grid = {'n_estimators': n_estimators,\n",
    "               'max_features': max_features,\n",
    "               'max_depth': max_depth,\n",
    "               'min_samples_split': min_samples_split,\n",
    "               'min_samples_leaf': min_samples_leaf,\n",
    "               'bootstrap': bootstrap}\n",
    "print(random_grid)"
   ]
  },
  {
   "cell_type": "code",
   "execution_count": 113,
   "id": "e59ef56c-6e6d-4107-88ce-5eadad816eab",
   "metadata": {
    "execution": {
     "iopub.execute_input": "2021-09-23T18:24:11.559744Z",
     "iopub.status.busy": "2021-09-23T18:24:11.559243Z",
     "iopub.status.idle": "2021-09-23T18:25:37.428277Z",
     "shell.execute_reply": "2021-09-23T18:25:37.427177Z",
     "shell.execute_reply.started": "2021-09-23T18:24:11.559680Z"
    },
    "tags": []
   },
   "outputs": [
    {
     "name": "stdout",
     "output_type": "stream",
     "text": [
      "Fitting 5 folds for each of 10 candidates, totalling 50 fits\n"
     ]
    },
    {
     "name": "stderr",
     "output_type": "stream",
     "text": [
      "[Parallel(n_jobs=-1)]: Using backend ThreadingBackend with 4 concurrent workers.\n",
      "[Parallel(n_jobs=-1)]: Done  42 tasks      | elapsed:    0.1s\n",
      "[Parallel(n_jobs=-1)]: Done 192 tasks      | elapsed:    0.4s\n",
      "[Parallel(n_jobs=-1)]: Done 442 tasks      | elapsed:    1.0s\n",
      "[Parallel(n_jobs=-1)]: Done 792 tasks      | elapsed:    1.8s\n",
      "[Parallel(n_jobs=-1)]: Done 1242 tasks      | elapsed:    2.9s\n",
      "[Parallel(n_jobs=-1)]: Done 1400 out of 1400 | elapsed:    3.3s finished\n"
     ]
    }
   ],
   "source": [
    "# Instatiate the model\n",
    "rf_random = RandomizedSearchCV(estimator=clf, \n",
    "                               param_distributions=random_grid, \n",
    "                               n_iter=10, \n",
    "                               cv = 5, \n",
    "                               verbose=2, \n",
    "                               random_state=13, \n",
    "                               n_jobs = -1)\n",
    "\n",
    "# Fit the random search model\n",
    "rf_random.fit(X_train, y_train)\n",
    "clf = rf_random.best_estimator_"
   ]
  },
  {
   "cell_type": "code",
   "execution_count": 155,
   "id": "c21e48e9-e34a-49ef-bff2-65e0a37cf2a5",
   "metadata": {
    "execution": {
     "iopub.execute_input": "2021-09-23T18:28:12.517505Z",
     "iopub.status.busy": "2021-09-23T18:28:12.517249Z",
     "iopub.status.idle": "2021-09-23T18:28:13.227711Z",
     "shell.execute_reply": "2021-09-23T18:28:13.226901Z",
     "shell.execute_reply.started": "2021-09-23T18:28:12.517473Z"
    },
    "tags": []
   },
   "outputs": [
    {
     "data": {
      "text/plain": [
       "{'mean_fit_time': array([8.65777321, 4.58676863, 1.38194427, 6.71665578, 3.77755256,\n",
       "        8.88055444, 7.97632475, 2.97073693, 7.80902457, 2.95069442]),\n",
       " 'std_fit_time': array([0.1747847 , 0.0772874 , 0.04868716, 0.13322201, 0.05205421,\n",
       "        0.22970298, 0.18765588, 0.15148059, 0.40441161, 0.09560893]),\n",
       " 'mean_score_time': array([0.65015826, 0.35796967, 0.11171079, 0.51387644, 0.30101538,\n",
       "        0.72709441, 0.55755262, 0.22435436, 0.55299749, 0.24332123]),\n",
       " 'std_score_time': array([0.05137836, 0.04628893, 0.02621957, 0.02670991, 0.02457903,\n",
       "        0.04185973, 0.02696212, 0.0272845 , 0.08680846, 0.02376763]),\n",
       " 'param_n_estimators': masked_array(data=[1800, 1000, 200, 1400, 800, 1800, 1400, 600, 1400, 600],\n",
       "              mask=[False, False, False, False, False, False, False, False,\n",
       "                    False, False],\n",
       "        fill_value='?',\n",
       "             dtype=object),\n",
       " 'param_min_samples_split': masked_array(data=[2, 5, 2, 10, 2, 10, 2, 10, 2, 10],\n",
       "              mask=[False, False, False, False, False, False, False, False,\n",
       "                    False, False],\n",
       "        fill_value='?',\n",
       "             dtype=object),\n",
       " 'param_min_samples_leaf': masked_array(data=[4, 4, 1, 2, 4, 1, 4, 1, 1, 1],\n",
       "              mask=[False, False, False, False, False, False, False, False,\n",
       "                    False, False],\n",
       "        fill_value='?',\n",
       "             dtype=object),\n",
       " 'param_max_features': masked_array(data=['sqrt', 'auto', 'sqrt', 'sqrt', 'sqrt', 'auto', 'auto',\n",
       "                    'auto', 'auto', 'auto'],\n",
       "              mask=[False, False, False, False, False, False, False, False,\n",
       "                    False, False],\n",
       "        fill_value='?',\n",
       "             dtype=object),\n",
       " 'param_max_depth': masked_array(data=[20, 10, 40, 50, 10, 50, 110, 60, None, 90],\n",
       "              mask=[False, False, False, False, False, False, False, False,\n",
       "                    False, False],\n",
       "        fill_value='?',\n",
       "             dtype=object),\n",
       " 'param_bootstrap': masked_array(data=[True, True, False, True, True, True, False, True, True,\n",
       "                    True],\n",
       "              mask=[False, False, False, False, False, False, False, False,\n",
       "                    False, False],\n",
       "        fill_value='?',\n",
       "             dtype=object),\n",
       " 'params': [{'n_estimators': 1800,\n",
       "   'min_samples_split': 2,\n",
       "   'min_samples_leaf': 4,\n",
       "   'max_features': 'sqrt',\n",
       "   'max_depth': 20,\n",
       "   'bootstrap': True},\n",
       "  {'n_estimators': 1000,\n",
       "   'min_samples_split': 5,\n",
       "   'min_samples_leaf': 4,\n",
       "   'max_features': 'auto',\n",
       "   'max_depth': 10,\n",
       "   'bootstrap': True},\n",
       "  {'n_estimators': 200,\n",
       "   'min_samples_split': 2,\n",
       "   'min_samples_leaf': 1,\n",
       "   'max_features': 'sqrt',\n",
       "   'max_depth': 40,\n",
       "   'bootstrap': False},\n",
       "  {'n_estimators': 1400,\n",
       "   'min_samples_split': 10,\n",
       "   'min_samples_leaf': 2,\n",
       "   'max_features': 'sqrt',\n",
       "   'max_depth': 50,\n",
       "   'bootstrap': True},\n",
       "  {'n_estimators': 800,\n",
       "   'min_samples_split': 2,\n",
       "   'min_samples_leaf': 4,\n",
       "   'max_features': 'sqrt',\n",
       "   'max_depth': 10,\n",
       "   'bootstrap': True},\n",
       "  {'n_estimators': 1800,\n",
       "   'min_samples_split': 10,\n",
       "   'min_samples_leaf': 1,\n",
       "   'max_features': 'auto',\n",
       "   'max_depth': 50,\n",
       "   'bootstrap': True},\n",
       "  {'n_estimators': 1400,\n",
       "   'min_samples_split': 2,\n",
       "   'min_samples_leaf': 4,\n",
       "   'max_features': 'auto',\n",
       "   'max_depth': 110,\n",
       "   'bootstrap': False},\n",
       "  {'n_estimators': 600,\n",
       "   'min_samples_split': 10,\n",
       "   'min_samples_leaf': 1,\n",
       "   'max_features': 'auto',\n",
       "   'max_depth': 60,\n",
       "   'bootstrap': True},\n",
       "  {'n_estimators': 1400,\n",
       "   'min_samples_split': 2,\n",
       "   'min_samples_leaf': 1,\n",
       "   'max_features': 'auto',\n",
       "   'max_depth': None,\n",
       "   'bootstrap': True},\n",
       "  {'n_estimators': 600,\n",
       "   'min_samples_split': 10,\n",
       "   'min_samples_leaf': 1,\n",
       "   'max_features': 'auto',\n",
       "   'max_depth': 90,\n",
       "   'bootstrap': True}],\n",
       " 'split0_test_score': array([0.69230769, 0.67399267, 0.68315018, 0.68315018, 0.67582418,\n",
       "        0.68681319, 0.67216117, 0.67948718, 0.68315018, 0.67948718]),\n",
       " 'split1_test_score': array([0.66238532, 0.65688073, 0.65321101, 0.65688073, 0.64954128,\n",
       "        0.66422018, 0.65688073, 0.6733945 , 0.66238532, 0.6733945 ]),\n",
       " 'split2_test_score': array([0.69541284, 0.70458716, 0.70825688, 0.69908257, 0.70458716,\n",
       "        0.70091743, 0.68807339, 0.69724771, 0.69724771, 0.69724771]),\n",
       " 'split3_test_score': array([0.65137615, 0.6440367 , 0.6440367 , 0.64770642, 0.64220183,\n",
       "        0.64587156, 0.63853211, 0.64770642, 0.66055046, 0.64770642]),\n",
       " 'split4_test_score': array([0.65504587, 0.65504587, 0.66055046, 0.64954128, 0.65504587,\n",
       "        0.65137615, 0.63669725, 0.66605505, 0.67889908, 0.66605505]),\n",
       " 'mean_test_score': array([0.67130558, 0.66690863, 0.66984105, 0.66727224, 0.66544006,\n",
       "        0.6698397 , 0.65846893, 0.67277817, 0.67644655, 0.67277817]),\n",
       " 'std_test_score': array([0.01877967, 0.02113889, 0.02315879, 0.02034305, 0.02254396,\n",
       "        0.02098036, 0.01968709, 0.0162354 , 0.01366781, 0.0162354 ]),\n",
       " 'rank_test_score': array([ 4,  8,  5,  7,  9,  6, 10,  2,  1,  2], dtype=int32)}"
      ]
     },
     "execution_count": 155,
     "metadata": {},
     "output_type": "execute_result"
    }
   ],
   "source": [
    "rf_random.cv_results_"
   ]
  },
  {
   "cell_type": "markdown",
   "id": "26903adb-a7cb-4e56-a267-b97bb4d68ff0",
   "metadata": {},
   "source": [
    "#### <u> **Get hyperpameters of model** </u>"
   ]
  },
  {
   "cell_type": "code",
   "execution_count": 114,
   "id": "f2487d59-0735-42d8-863e-349fd01635b8",
   "metadata": {
    "execution": {
     "iopub.execute_input": "2021-09-23T18:25:58.704725Z",
     "iopub.status.busy": "2021-09-23T18:25:58.704447Z",
     "iopub.status.idle": "2021-09-23T18:25:59.449572Z",
     "shell.execute_reply": "2021-09-23T18:25:59.448738Z",
     "shell.execute_reply.started": "2021-09-23T18:25:58.704691Z"
    },
    "tags": []
   },
   "outputs": [
    {
     "data": {
      "text/plain": [
       "{'bootstrap': True,\n",
       " 'ccp_alpha': 0.0,\n",
       " 'class_weight': 'balanced',\n",
       " 'criterion': 'gini',\n",
       " 'max_depth': None,\n",
       " 'max_features': 'auto',\n",
       " 'max_leaf_nodes': None,\n",
       " 'max_samples': None,\n",
       " 'min_impurity_decrease': 0.0,\n",
       " 'min_impurity_split': None,\n",
       " 'min_samples_leaf': 1,\n",
       " 'min_samples_split': 2,\n",
       " 'min_weight_fraction_leaf': 0.0,\n",
       " 'n_estimators': 1400,\n",
       " 'n_jobs': -1,\n",
       " 'oob_score': False,\n",
       " 'random_state': 13,\n",
       " 'verbose': 1,\n",
       " 'warm_start': False}"
      ]
     },
     "execution_count": 114,
     "metadata": {},
     "output_type": "execute_result"
    }
   ],
   "source": [
    "#pd.DataFrame(pd.Series(clf.get_params())).T.to_csv(\"0.18-0.4_mixed_RF-clf_hyperopt.params.csv\", index=False)\n",
    "clf.get_params()"
   ]
  },
  {
   "cell_type": "markdown",
   "id": "83eb8edd-0744-4f58-8b35-830a5ce7fe76",
   "metadata": {},
   "source": [
    "#### <u> **Load previously trained model** </u>"
   ]
  },
  {
   "cell_type": "code",
   "execution_count": 21,
   "id": "1b159a7e-86d0-4983-a4f8-dcd0405bd521",
   "metadata": {
    "execution": {
     "iopub.execute_input": "2021-10-05T17:31:16.564950Z",
     "iopub.status.busy": "2021-10-05T17:31:16.564658Z",
     "iopub.status.idle": "2021-10-05T17:31:20.231379Z",
     "shell.execute_reply": "2021-10-05T17:31:20.230457Z",
     "shell.execute_reply.started": "2021-10-05T17:31:16.564921Z"
    },
    "tags": []
   },
   "outputs": [
    {
     "name": "stderr",
     "output_type": "stream",
     "text": [
      "/cellar/users/aklie/opt/miniconda3/envs/scratch/lib/python3.9/site-packages/sklearn/base.py:310: UserWarning: Trying to unpickle estimator DecisionTreeClassifier from version 0.24.1 when using version 0.24.2. This might lead to breaking code or invalid results. Use at your own risk.\n",
      "  warnings.warn(\n",
      "/cellar/users/aklie/opt/miniconda3/envs/scratch/lib/python3.9/site-packages/sklearn/base.py:310: UserWarning: Trying to unpickle estimator RandomForestClassifier from version 0.24.1 when using version 0.24.2. This might lead to breaking code or invalid results. Use at your own risk.\n",
      "  warnings.warn(\n"
     ]
    }
   ],
   "source": [
    "from sklearn.ensemble import RandomForestClassifier\n",
    "import pickle\n",
    "\n",
    "file = '0.18-0.4_mixed-2.0_RF-clf_baseline.pickle'\n",
    "#file = '0.18-0.4_mixed_RF-clf_randomCV.pickle'\n",
    "clf = pickle.load(open(file, 'rb'))"
   ]
  },
  {
   "cell_type": "markdown",
   "id": "91febd92-a935-41d1-8f23-2e3f7de9b546",
   "metadata": {
    "execution": {
     "iopub.execute_input": "2021-07-26T03:43:46.264746Z",
     "iopub.status.busy": "2021-07-26T03:43:46.264474Z",
     "iopub.status.idle": "2021-07-26T03:43:47.055876Z",
     "shell.execute_reply": "2021-07-26T03:43:47.054281Z",
     "shell.execute_reply.started": "2021-07-26T03:43:46.264712Z"
    },
    "tags": []
   },
   "source": [
    "## **Random Forest testing**"
   ]
  },
  {
   "cell_type": "code",
   "execution_count": 22,
   "id": "e6edb664-fca7-407f-8074-2c8e16283d0c",
   "metadata": {
    "execution": {
     "iopub.execute_input": "2021-10-05T17:31:25.540458Z",
     "iopub.status.busy": "2021-10-05T17:31:25.540087Z",
     "iopub.status.idle": "2021-10-05T17:31:30.773252Z",
     "shell.execute_reply": "2021-10-05T17:31:30.772443Z",
     "shell.execute_reply.started": "2021-10-05T17:31:25.540429Z"
    },
    "tags": []
   },
   "outputs": [],
   "source": [
    "y_tr_preds = clf.predict(X_train)\n",
    "y_preds = clf.predict(X_test)"
   ]
  },
  {
   "cell_type": "code",
   "execution_count": 23,
   "id": "8122b818-9b9f-467f-a09d-b146c124ed75",
   "metadata": {
    "execution": {
     "iopub.execute_input": "2021-10-05T17:31:31.756055Z",
     "iopub.status.busy": "2021-10-05T17:31:31.755780Z",
     "iopub.status.idle": "2021-10-05T17:31:37.041787Z",
     "shell.execute_reply": "2021-10-05T17:31:37.041124Z",
     "shell.execute_reply.started": "2021-10-05T17:31:31.756026Z"
    },
    "tags": []
   },
   "outputs": [],
   "source": [
    "y_tr_probs = clf.predict_proba(X_train)[:, 1]\n",
    "y_probs = clf.predict_proba(X_test)[:, 1]"
   ]
  },
  {
   "cell_type": "markdown",
   "id": "20590172-8424-4e59-a246-126b4bee5c3c",
   "metadata": {
    "tags": []
   },
   "source": [
    "### <u>**Confusion matrices** </u>"
   ]
  },
  {
   "cell_type": "code",
   "execution_count": 24,
   "id": "6d03d0a6-18ea-409e-a738-b6288e29b11a",
   "metadata": {
    "execution": {
     "iopub.execute_input": "2021-10-05T17:31:37.876981Z",
     "iopub.status.busy": "2021-10-05T17:31:37.876709Z",
     "iopub.status.idle": "2021-10-05T17:31:38.866470Z",
     "shell.execute_reply": "2021-10-05T17:31:38.865714Z",
     "shell.execute_reply.started": "2021-10-05T17:31:37.876952Z"
    },
    "tags": []
   },
   "outputs": [],
   "source": [
    "from sklearn.metrics import confusion_matrix"
   ]
  },
  {
   "cell_type": "code",
   "execution_count": 25,
   "id": "fbf298f7-38b8-496d-b75b-c822c56d0a81",
   "metadata": {
    "execution": {
     "iopub.execute_input": "2021-10-05T17:31:38.868249Z",
     "iopub.status.busy": "2021-10-05T17:31:38.867906Z",
     "iopub.status.idle": "2021-10-05T17:31:39.679619Z",
     "shell.execute_reply": "2021-10-05T17:31:39.678899Z",
     "shell.execute_reply.started": "2021-10-05T17:31:38.868206Z"
    },
    "tags": []
   },
   "outputs": [
    {
     "data": {
      "text/plain": [
       "((array([0, 1]), array([187800,  84842])),\n",
       " (array([0, 1]), array([24479,  5815])))"
      ]
     },
     "execution_count": 25,
     "metadata": {},
     "output_type": "execute_result"
    }
   ],
   "source": [
    "np.unique(y_tr_preds, return_counts=True), np.unique(y_preds, return_counts=True)"
   ]
  },
  {
   "cell_type": "code",
   "execution_count": 26,
   "id": "1d05f7a2-d998-48b7-89e4-86e85ec95f2c",
   "metadata": {
    "execution": {
     "iopub.execute_input": "2021-10-05T17:31:39.681329Z",
     "iopub.status.busy": "2021-10-05T17:31:39.680902Z",
     "iopub.status.idle": "2021-10-05T17:31:42.892936Z",
     "shell.execute_reply": "2021-10-05T17:31:42.892215Z",
     "shell.execute_reply.started": "2021-10-05T17:31:39.681283Z"
    },
    "tags": []
   },
   "outputs": [
    {
     "data": {
      "image/png": "[encoded data removed]",
      "text/plain": [
       "<Figure size 1152x576 with 4 Axes>"
      ]
     },
     "metadata": {
      "needs_background": "light"
     },
     "output_type": "display_data"
    }
   ],
   "source": [
    "fig, ax = plt.subplots(1,2,figsize=(16,8))\n",
    "\n",
    "rc = {'font.size': 20}\n",
    "with plt.rc_context(rc):\n",
    "    sns.heatmap(confusion_matrix(y_train, y_tr_preds), annot=True, fmt='d', cmap='viridis', ax=ax[0])\n",
    "    ax[0].set_xlabel('predicted')\n",
    "    ax[0].set_ylabel('true label')\n",
    "    ax[0].set_title('Train Set')\n",
    "\n",
    "    sns.heatmap(confusion_matrix(y_test, y_preds), annot=True, fmt='d', cmap='viridis', ax=ax[1])\n",
    "    ax[1].set_xlabel('predicted')\n",
    "    ax[1].set_ylabel('true label')\n",
    "    ax[1].set_title('Test Set')\n",
    "    \n",
    "    plt.tight_layout()"
   ]
  },
  {
   "cell_type": "markdown",
   "id": "2275d4f7-ef8b-43c5-b13b-f4c770e35e4e",
   "metadata": {},
   "source": [
    "### <u> **Accuracies** </u>"
   ]
  },
  {
   "cell_type": "code",
   "execution_count": 143,
   "id": "8818c978-2b59-4e2c-8ef4-93a9bbcdaf2b",
   "metadata": {
    "execution": {
     "iopub.execute_input": "2021-09-23T18:27:21.896568Z",
     "iopub.status.busy": "2021-09-23T18:27:21.896251Z",
     "iopub.status.idle": "2021-09-23T18:27:22.394234Z",
     "shell.execute_reply": "2021-09-23T18:27:22.393468Z",
     "shell.execute_reply.started": "2021-09-23T18:27:21.896527Z"
    },
    "tags": []
   },
   "outputs": [],
   "source": [
    "from sklearn.metrics import accuracy_score"
   ]
  },
  {
   "cell_type": "code",
   "execution_count": 144,
   "id": "352b8ee0-389d-455a-8ed0-c9cdafb35434",
   "metadata": {
    "execution": {
     "iopub.execute_input": "2021-09-23T18:27:22.396184Z",
     "iopub.status.busy": "2021-09-23T18:27:22.395944Z",
     "iopub.status.idle": "2021-09-23T18:27:22.979802Z",
     "shell.execute_reply": "2021-09-23T18:27:22.979110Z",
     "shell.execute_reply.started": "2021-09-23T18:27:22.396157Z"
    },
    "tags": []
   },
   "outputs": [],
   "source": [
    "train_acc, test_acc = accuracy_score(y_true=y_train, y_pred=y_tr_preds), accuracy_score(y_true=y_test, y_pred=y_preds)"
   ]
  },
  {
   "cell_type": "code",
   "execution_count": 145,
   "id": "b85cc370-0a71-4079-8974-db506e897a3b",
   "metadata": {
    "execution": {
     "iopub.execute_input": "2021-09-23T18:27:27.501616Z",
     "iopub.status.busy": "2021-09-23T18:27:27.501304Z",
     "iopub.status.idle": "2021-09-23T18:27:28.247279Z",
     "shell.execute_reply": "2021-09-23T18:27:28.246502Z",
     "shell.execute_reply.started": "2021-09-23T18:27:27.501576Z"
    },
    "tags": []
   },
   "outputs": [
    {
     "name": "stdout",
     "output_type": "stream",
     "text": [
      "Train Acc\tTest Acc\n",
      "1.0\t0.6999\n"
     ]
    }
   ],
   "source": [
    "print(\"Train Acc\", \"Test Acc\", sep='\\t')\n",
    "print(\"{:.4}\\t{:.4f}\".format(train_acc, test_acc))"
   ]
  },
  {
   "cell_type": "markdown",
   "id": "7131afb6-da62-4958-a03b-265da981e892",
   "metadata": {},
   "source": [
    "### <u> **F-scores** </u>"
   ]
  },
  {
   "cell_type": "code",
   "execution_count": 146,
   "id": "26800b28-1607-42dc-bdeb-12584311af51",
   "metadata": {
    "execution": {
     "iopub.execute_input": "2021-09-23T18:27:29.452720Z",
     "iopub.status.busy": "2021-09-23T18:27:29.452475Z",
     "iopub.status.idle": "2021-09-23T18:27:30.138576Z",
     "shell.execute_reply": "2021-09-23T18:27:30.137870Z",
     "shell.execute_reply.started": "2021-09-23T18:27:29.452689Z"
    },
    "tags": []
   },
   "outputs": [
    {
     "data": {
      "text/html": [
       "\n",
       "        <iframe\n",
       "            width=\"800\"\n",
       "            height=\"400\"\n",
       "            src=\"https://en.wikipedia.org/wiki/F-score\"\n",
       "            frameborder=\"0\"\n",
       "            allowfullscreen\n",
       "        ></iframe>\n",
       "        "
      ],
      "text/plain": [
       "<IPython.lib.display.IFrame at 0x15551e6c2c10>"
      ]
     },
     "execution_count": 146,
     "metadata": {},
     "output_type": "execute_result"
    }
   ],
   "source": [
    "IFrame('https://en.wikipedia.org/wiki/F-score', width=800, height=400)"
   ]
  },
  {
   "cell_type": "code",
   "execution_count": 147,
   "id": "b96eec35-be68-4af3-80e4-91857fa3df63",
   "metadata": {
    "execution": {
     "iopub.execute_input": "2021-09-23T18:27:30.140003Z",
     "iopub.status.busy": "2021-09-23T18:27:30.139752Z",
     "iopub.status.idle": "2021-09-23T18:27:30.686576Z",
     "shell.execute_reply": "2021-09-23T18:27:30.685778Z",
     "shell.execute_reply.started": "2021-09-23T18:27:30.139964Z"
    },
    "tags": []
   },
   "outputs": [],
   "source": [
    "from sklearn.metrics import precision_score, recall_score, f1_score"
   ]
  },
  {
   "cell_type": "code",
   "execution_count": 148,
   "id": "8157a170-cdcd-40d2-9d92-889e31326c07",
   "metadata": {
    "execution": {
     "iopub.execute_input": "2021-09-23T18:27:31.620547Z",
     "iopub.status.busy": "2021-09-23T18:27:31.620240Z",
     "iopub.status.idle": "2021-09-23T18:27:32.099135Z",
     "shell.execute_reply": "2021-09-23T18:27:32.098350Z",
     "shell.execute_reply.started": "2021-09-23T18:27:31.620507Z"
    },
    "tags": []
   },
   "outputs": [],
   "source": [
    "def fbeta_score(pr, rec, beta):\n",
    "    return (1+(beta**2))*((pr*rec)/(((beta**2)*pr)+rec))"
   ]
  },
  {
   "cell_type": "code",
   "execution_count": 149,
   "id": "2cc8dac0-7f55-468b-87f4-c017b0eb2ca7",
   "metadata": {
    "execution": {
     "iopub.execute_input": "2021-09-23T18:27:32.831739Z",
     "iopub.status.busy": "2021-09-23T18:27:32.831550Z",
     "iopub.status.idle": "2021-09-23T18:27:33.337882Z",
     "shell.execute_reply": "2021-09-23T18:27:33.337283Z",
     "shell.execute_reply.started": "2021-09-23T18:27:32.831715Z"
    },
    "tags": []
   },
   "outputs": [],
   "source": [
    "train_prec, test_prec = precision_score(y_true=y_train, y_pred=y_tr_preds), precision_score(y_true=y_test, y_pred=y_preds)"
   ]
  },
  {
   "cell_type": "code",
   "execution_count": 150,
   "id": "ec3a015a-7ddd-4878-b52e-8fb736e2fcd0",
   "metadata": {
    "execution": {
     "iopub.execute_input": "2021-09-23T18:27:33.339393Z",
     "iopub.status.busy": "2021-09-23T18:27:33.339202Z",
     "iopub.status.idle": "2021-09-23T18:27:33.993651Z",
     "shell.execute_reply": "2021-09-23T18:27:33.993030Z",
     "shell.execute_reply.started": "2021-09-23T18:27:33.339369Z"
    },
    "tags": []
   },
   "outputs": [],
   "source": [
    "train_recall, test_recall = recall_score(y_true=y_train, y_pred=y_tr_preds), recall_score(y_true=y_test, y_pred=y_preds)"
   ]
  },
  {
   "cell_type": "code",
   "execution_count": 151,
   "id": "0bfd5c18-e474-4cf8-b138-6d76a89876e3",
   "metadata": {
    "execution": {
     "iopub.execute_input": "2021-09-23T18:27:34.879788Z",
     "iopub.status.busy": "2021-09-23T18:27:34.879473Z",
     "iopub.status.idle": "2021-09-23T18:27:35.448844Z",
     "shell.execute_reply": "2021-09-23T18:27:35.448204Z",
     "shell.execute_reply.started": "2021-09-23T18:27:34.879746Z"
    },
    "tags": []
   },
   "outputs": [],
   "source": [
    "train_f1, test_f1 = f1_score(y_true=y_train, y_pred=y_tr_preds), f1_score(y_true=y_test, y_pred=y_preds)"
   ]
  },
  {
   "cell_type": "code",
   "execution_count": 152,
   "id": "ed417182-c0fb-40f3-b6d2-8f290cab2e80",
   "metadata": {
    "execution": {
     "iopub.execute_input": "2021-09-23T18:27:35.449907Z",
     "iopub.status.busy": "2021-09-23T18:27:35.449666Z",
     "iopub.status.idle": "2021-09-23T18:27:36.173442Z",
     "shell.execute_reply": "2021-09-23T18:27:36.172674Z",
     "shell.execute_reply.started": "2021-09-23T18:27:35.449871Z"
    },
    "tags": []
   },
   "outputs": [],
   "source": [
    "fbeta_tr_scores = []\n",
    "fbeta_scores = []\n",
    "for b in [0.1, 0.5, 1, 2, 10]:\n",
    "    fbeta_tr_scores.append(fbeta_score(train_prec, train_recall, b))\n",
    "    fbeta_scores.append(fbeta_score(test_prec, test_recall, b))"
   ]
  },
  {
   "cell_type": "code",
   "execution_count": 153,
   "id": "fd70138b-2927-4c21-8cb3-35ad9fc64e20",
   "metadata": {
    "execution": {
     "iopub.execute_input": "2021-09-23T18:27:36.174860Z",
     "iopub.status.busy": "2021-09-23T18:27:36.174612Z",
     "iopub.status.idle": "2021-09-23T18:27:36.819845Z",
     "shell.execute_reply": "2021-09-23T18:27:36.819134Z",
     "shell.execute_reply.started": "2021-09-23T18:27:36.174832Z"
    },
    "tags": []
   },
   "outputs": [
    {
     "name": "stdout",
     "output_type": "stream",
     "text": [
      "Metric\tTrain\tTest\n",
      "Precision\t1.0000\t0.5486\n",
      "Recall\t1.0000\t0.1673\n",
      "F0.1-Score\t1.0000\t0.5365\n",
      "F0.5-Score\t1.0000\t0.3768\n",
      "F1-Score\t1.0000\t0.2564\n",
      "F2-Score\t1.0000\t0.1943\n",
      "F10-Score\t1.0000\t0.1684\n"
     ]
    }
   ],
   "source": [
    "print(\"Metric\", \"Train\", \"Test\", sep='\\t')\n",
    "print(\"{:s}\\t{:.4f}\\t{:.4f}\".format(\"Precision\", train_prec, test_prec))\n",
    "print(\"{:s}\\t{:.4f}\\t{:.4f}\".format(\"Recall\", train_recall, test_recall))\n",
    "#print(\"{:s}\\t{:.4f}\\t{:.4f}\".format(\"F1-Score\", train_f1, test_f1))\n",
    "for i, b in enumerate([0.1, 0.5, 1, 2, 10]):\n",
    "    print(\"F{:s}-Score\\t{:.4f}\\t{:.4f}\".format(str(b), fbeta_tr_scores[i], fbeta_scores[i])) "
   ]
  },
  {
   "cell_type": "markdown",
   "id": "01f61c60-255a-4b3d-8e01-9b75448d47b3",
   "metadata": {},
   "source": [
    "### <u> **Precision-recall** </u>"
   ]
  },
  {
   "cell_type": "code",
   "execution_count": 132,
   "id": "38330bb9-e01b-46c2-9bd6-3c7597a97194",
   "metadata": {
    "execution": {
     "iopub.execute_input": "2021-09-23T18:26:54.425156Z",
     "iopub.status.busy": "2021-09-23T18:26:54.424880Z",
     "iopub.status.idle": "2021-09-23T18:26:55.209356Z",
     "shell.execute_reply": "2021-09-23T18:26:55.208577Z",
     "shell.execute_reply.started": "2021-09-23T18:26:54.425123Z"
    },
    "tags": []
   },
   "outputs": [],
   "source": [
    "from sklearn.metrics import precision_recall_curve, average_precision_score"
   ]
  },
  {
   "cell_type": "code",
   "execution_count": 133,
   "id": "d8ea700d-2bc7-4b69-a5ef-05b53f3756ca",
   "metadata": {
    "execution": {
     "iopub.execute_input": "2021-09-23T18:26:55.210803Z",
     "iopub.status.busy": "2021-09-23T18:26:55.210577Z",
     "iopub.status.idle": "2021-09-23T18:26:55.744909Z",
     "shell.execute_reply": "2021-09-23T18:26:55.744196Z",
     "shell.execute_reply.started": "2021-09-23T18:26:55.210775Z"
    },
    "tags": []
   },
   "outputs": [],
   "source": [
    "precs_tr, recs_tr, threshs_tr = precision_recall_curve(y_true=y_train, probas_pred=y_tr_probs)\n",
    "avg_prec_tr = average_precision_score(y_true=y_train, y_score=y_tr_probs)"
   ]
  },
  {
   "cell_type": "code",
   "execution_count": 134,
   "id": "492fa0d8-5067-4f7e-bbcc-d21383d7b8cb",
   "metadata": {
    "execution": {
     "iopub.execute_input": "2021-09-23T18:26:56.498547Z",
     "iopub.status.busy": "2021-09-23T18:26:56.498238Z",
     "iopub.status.idle": "2021-09-23T18:26:57.136433Z",
     "shell.execute_reply": "2021-09-23T18:26:57.135835Z",
     "shell.execute_reply.started": "2021-09-23T18:26:56.498506Z"
    },
    "tags": []
   },
   "outputs": [],
   "source": [
    "precs, recs, threshs = precision_recall_curve(y_true=y_test, probas_pred=y_probs)\n",
    "avg_prec = average_precision_score(y_true=y_test, y_score=y_probs)"
   ]
  },
  {
   "cell_type": "code",
   "execution_count": 135,
   "id": "51780f55-6b16-43bc-80ae-39004bd61126",
   "metadata": {
    "execution": {
     "iopub.execute_input": "2021-09-23T18:26:57.137615Z",
     "iopub.status.busy": "2021-09-23T18:26:57.137426Z",
     "iopub.status.idle": "2021-09-23T18:26:57.759357Z",
     "shell.execute_reply": "2021-09-23T18:26:57.758582Z",
     "shell.execute_reply.started": "2021-09-23T18:26:57.137591Z"
    },
    "tags": []
   },
   "outputs": [
    {
     "data": {
      "text/plain": [
       "(1.0, 0.5936992585369412)"
      ]
     },
     "execution_count": 135,
     "metadata": {},
     "output_type": "execute_result"
    }
   ],
   "source": [
    "avg_prec_tr, avg_prec"
   ]
  },
  {
   "cell_type": "code",
   "execution_count": 136,
   "id": "865cd891-3508-46f5-97bc-e76dbab40c6e",
   "metadata": {
    "execution": {
     "iopub.execute_input": "2021-09-23T18:26:57.760633Z",
     "iopub.status.busy": "2021-09-23T18:26:57.760412Z",
     "iopub.status.idle": "2021-09-23T18:26:59.312652Z",
     "shell.execute_reply": "2021-09-23T18:26:59.312041Z",
     "shell.execute_reply.started": "2021-09-23T18:26:57.760606Z"
    },
    "tags": []
   },
   "outputs": [
    {
     "data": {
      "image/png": "[encoded data removed]",
      "text/plain": [
       "<Figure size 576x576 with 1 Axes>"
      ]
     },
     "metadata": {
      "needs_background": "light"
     },
     "output_type": "display_data"
    }
   ],
   "source": [
    "fig, ax = plt.subplots(1,1, figsize=(8,8))\n",
    "ax.step(recs_tr, precs_tr, where='post', lw=3, alpha=0.4, label='Training auPRC = %0.4f' % (avg_prec_tr))\n",
    "ax.step(recs, precs, where='post', lw=3, alpha=0.4, label='Testing auPRC = %0.4f' % (avg_prec))\n",
    "ax.axhline(len(y_test[y_test==1])/len(y_test), linestyle='--', lw=3, color='k', label='No skill', alpha=.8)\n",
    "ax.set_xlim([-0.05, 1.05])\n",
    "ax.set_ylim([-0.05, 1.05])\n",
    "ax.set_xlabel('Recall', fontsize=18)\n",
    "ax.set_ylabel('Precision', fontsize=18)\n",
    "ax.set_title('Precision recall', fontsize=18)\n",
    "ax.legend(loc=\"lower right\", fontsize=16);"
   ]
  },
  {
   "cell_type": "markdown",
   "id": "69e283de-ccc5-45a8-8778-83addc5fd41d",
   "metadata": {},
   "source": [
    "### <u> **Reciever operating characteristic** </u>"
   ]
  },
  {
   "cell_type": "code",
   "execution_count": 105,
   "id": "86a48fd2-8941-4a05-8e84-d14014f69cff",
   "metadata": {
    "execution": {
     "iopub.execute_input": "2021-09-23T18:23:01.381071Z",
     "iopub.status.busy": "2021-09-23T18:23:01.380876Z",
     "iopub.status.idle": "2021-09-23T18:23:02.039744Z",
     "shell.execute_reply": "2021-09-23T18:23:02.038973Z",
     "shell.execute_reply.started": "2021-09-23T18:23:01.381046Z"
    },
    "tags": []
   },
   "outputs": [],
   "source": [
    "from sklearn.metrics import roc_curve, auc"
   ]
  },
  {
   "cell_type": "code",
   "execution_count": 106,
   "id": "1970f5b9-b35c-4b25-ac20-f9058196d398",
   "metadata": {
    "execution": {
     "iopub.execute_input": "2021-09-23T18:23:02.715665Z",
     "iopub.status.busy": "2021-09-23T18:23:02.715354Z",
     "iopub.status.idle": "2021-09-23T18:23:03.372094Z",
     "shell.execute_reply": "2021-09-23T18:23:03.371275Z",
     "shell.execute_reply.started": "2021-09-23T18:23:02.715625Z"
    },
    "tags": []
   },
   "outputs": [],
   "source": [
    "fprs_tr, tprs_tr, threshs_tr = roc_curve(y_true=y_train, y_score=y_tr_probs)\n",
    "roc_auc_tr = auc(fprs_tr, tprs_tr)"
   ]
  },
  {
   "cell_type": "code",
   "execution_count": 107,
   "id": "dd5e9fdc-7ea6-4371-b305-0f7e0706b889",
   "metadata": {
    "execution": {
     "iopub.execute_input": "2021-09-23T18:23:03.373313Z",
     "iopub.status.busy": "2021-09-23T18:23:03.373080Z",
     "iopub.status.idle": "2021-09-23T18:23:03.979269Z",
     "shell.execute_reply": "2021-09-23T18:23:03.978572Z",
     "shell.execute_reply.started": "2021-09-23T18:23:03.373277Z"
    },
    "tags": []
   },
   "outputs": [],
   "source": [
    "fprs, tprs, threshs = roc_curve(y_true=y_test, y_score=y_probs)\n",
    "roc_auc = auc(fprs, tprs)"
   ]
  },
  {
   "cell_type": "code",
   "execution_count": 108,
   "id": "02c9574c-7641-4938-ab21-cf6c6738c820",
   "metadata": {
    "execution": {
     "iopub.execute_input": "2021-09-23T18:23:03.981139Z",
     "iopub.status.busy": "2021-09-23T18:23:03.980749Z",
     "iopub.status.idle": "2021-09-23T18:23:04.691776Z",
     "shell.execute_reply": "2021-09-23T18:23:04.691051Z",
     "shell.execute_reply.started": "2021-09-23T18:23:03.981084Z"
    },
    "tags": []
   },
   "outputs": [
    {
     "data": {
      "text/plain": [
       "(0.9022159347744443, 0.6612879551005468)"
      ]
     },
     "execution_count": 108,
     "metadata": {},
     "output_type": "execute_result"
    }
   ],
   "source": [
    "roc_auc_tr, roc_auc"
   ]
  },
  {
   "cell_type": "code",
   "execution_count": 109,
   "id": "ca6fa457-c0fa-4380-891c-e684c1c139f8",
   "metadata": {
    "execution": {
     "iopub.execute_input": "2021-09-23T18:23:04.694780Z",
     "iopub.status.busy": "2021-09-23T18:23:04.694546Z",
     "iopub.status.idle": "2021-09-23T18:23:06.137041Z",
     "shell.execute_reply": "2021-09-23T18:23:06.136346Z",
     "shell.execute_reply.started": "2021-09-23T18:23:04.694749Z"
    },
    "tags": []
   },
   "outputs": [
    {
     "data": {
      "image/png": "[encoded data removed]",
      "text/plain": [
       "<Figure size 864x576 with 1 Axes>"
      ]
     },
     "metadata": {
      "needs_background": "light"
     },
     "output_type": "display_data"
    }
   ],
   "source": [
    "fig, ax = plt.subplots(1, 1, figsize=(12,8))\n",
    "ax.plot(fprs_tr, tprs_tr, lw=3, alpha=0.4, label='Training (auROC = %0.4f)' % (roc_auc_tr))\n",
    "ax.plot(fprs, tprs, lw=3, alpha=0.4, label='Test (auROC= %0.4f)' % (roc_auc))\n",
    "ax.plot([0, 1], [0, 1], linestyle='--', lw=3, color='k', label='No skill', alpha=.8)\n",
    "ax.set_xlim([-0.05, 1.05])\n",
    "ax.set_ylim([-0.05, 1.05])\n",
    "ax.set_xlabel('False Positive Rate', fontsize=18)\n",
    "ax.set_ylabel('True Positive Rate', fontsize=18)\n",
    "ax.set_title('Receiver operating characteristic', fontsize=18)\n",
    "ax.legend(loc=\"lower right\", fontsize=16);"
   ]
  },
  {
   "cell_type": "markdown",
   "id": "912c3433-d65e-4f79-b971-635f9f4f66e2",
   "metadata": {},
   "source": [
    "## Save the classifier"
   ]
  },
  {
   "cell_type": "code",
   "execution_count": null,
   "id": "68618781-72dc-4ed7-9b72-6e5393411578",
   "metadata": {
    "execution": {
     "iopub.status.busy": "2021-09-21T23:36:53.836500Z",
     "iopub.status.idle": "2021-09-21T23:36:53.836841Z",
     "shell.execute_reply": "2021-09-21T23:36:53.836666Z"
    },
    "tags": []
   },
   "outputs": [],
   "source": [
    "import pickle"
   ]
  },
  {
   "cell_type": "code",
   "execution_count": 219,
   "id": "5995f54b-9061-4f77-8c33-9baf848cc5a0",
   "metadata": {
    "execution": {
     "iopub.execute_input": "2021-09-22T00:22:42.930405Z",
     "iopub.status.busy": "2021-09-22T00:22:42.930130Z",
     "iopub.status.idle": "2021-09-22T00:22:43.472486Z",
     "shell.execute_reply": "2021-09-22T00:22:43.471594Z",
     "shell.execute_reply.started": "2021-09-22T00:22:42.930374Z"
    },
    "tags": []
   },
   "outputs": [],
   "source": [
    "#file = '../data/2021_OLS_Library/RF/0.18-0.4_mixed-encoding_RF-clf_randomCV.pickle'\n",
    "#file = '0.18-0.4_mixed_RF-clf.pickle'\n",
    "#file = '0.18-0.4_mixed_2.0_RF-clf.pickle'\n",
    "file = '0.18-0.4_mixed_RF-clf_hyperopt.pickle'"
   ]
  },
  {
   "cell_type": "code",
   "execution_count": 220,
   "id": "54ffc2be-ca11-425d-bf6d-75f271f123ca",
   "metadata": {
    "execution": {
     "iopub.execute_input": "2021-09-22T00:22:44.431275Z",
     "iopub.status.busy": "2021-09-22T00:22:44.431016Z",
     "iopub.status.idle": "2021-09-22T00:22:49.942837Z",
     "shell.execute_reply": "2021-09-22T00:22:49.942147Z",
     "shell.execute_reply.started": "2021-09-22T00:22:44.431246Z"
    },
    "tags": []
   },
   "outputs": [],
   "source": [
    "pickle.dump(clf, open(file, 'wb'))"
   ]
  },
  {
   "cell_type": "code",
   "execution_count": 84,
   "id": "59433766-c231-4a8c-9ff0-779b340fa827",
   "metadata": {
    "execution": {
     "iopub.execute_input": "2021-09-21T23:31:34.124129Z",
     "iopub.status.busy": "2021-09-21T23:31:34.123906Z",
     "iopub.status.idle": "2021-09-21T23:31:37.350213Z",
     "shell.execute_reply": "2021-09-21T23:31:37.349486Z",
     "shell.execute_reply.started": "2021-09-21T23:31:34.124100Z"
    },
    "tags": []
   },
   "outputs": [
    {
     "data": {
      "text/plain": [
       "(array([0, 1]), array([24479,  5815]))"
      ]
     },
     "execution_count": 84,
     "metadata": {},
     "output_type": "execute_result"
    }
   ],
   "source": [
    "test_load = pickle.load(open(file, 'rb'))\n",
    "np.unique(test_load.predict(X_test), return_counts=True)"
   ]
  }
 ],
 "metadata": {
  "kernelspec": {
   "display_name": "Python3 scratch",
   "language": "python",
   "name": "scratch"
  },
  "language_info": {
   "codemirror_mode": {
    "name": "ipython",
    "version": 3
   },
   "file_extension": ".py",
   "mimetype": "text/x-python",
   "name": "python",
   "nbconvert_exporter": "python",
   "pygments_lexer": "ipython3",
   "version": "3.9.6"
  }
 },
 "nbformat": 4,
 "nbformat_minor": 5
}
